{
 "cells": [
  {
   "cell_type": "markdown",
   "id": "28b60d55-20fa-40d4-8a5b-ad71542da383",
   "metadata": {
    "tags": []
   },
   "source": [
    "<figure>\n",
    "<img src=\"../Imagenes/logo-final-ap.png\"  width=\"80\" height=\"80\" align=\"left\"/> \n",
    "</figure>\n",
    "\n",
    "# <span style=\"color:blue\"><left>Aprendizaje Profundo</left></span>"
   ]
  },
  {
   "cell_type": "markdown",
   "id": "8843923f-cbce-49c7-be36-eb8a730b3de3",
   "metadata": {
    "id": "8843923f-cbce-49c7-be36-eb8a730b3de3"
   },
   "source": [
    "# <span style=\"color:red\"><center>Eliminación de Ruido: Ejemplo MNIST</center></span>"
   ]
  },
  {
   "cell_type": "markdown",
   "id": "fe40abf9-3244-480b-bb87-5b9a035dafa7",
   "metadata": {
    "id": "fe40abf9-3244-480b-bb87-5b9a035dafa7"
   },
   "source": [
    "##   <span style=\"color:blue\">Profesores</span>"
   ]
  },
  {
   "cell_type": "markdown",
   "id": "692d9778-8422-4cdd-90f8-a6d94ff1e642",
   "metadata": {
    "id": "692d9778-8422-4cdd-90f8-a6d94ff1e642"
   },
   "source": [
    "1. Alvaro Mauricio Montenegro Díaz, ammontenegrod@unal.edu.co\n",
    "2. Daniel Mauricio Montenegro Reyes, dextronomo@gmail.com \n",
    "3. Campo Elías Pardo Turriago, cepardot@unal.edu.co "
   ]
  },
  {
   "cell_type": "markdown",
   "id": "b3d7b3ff-a399-4e88-814f-11f277c7a1b8",
   "metadata": {
    "id": "b3d7b3ff-a399-4e88-814f-11f277c7a1b8"
   },
   "source": [
    "##   <span style=\"color:blue\">Asesora Medios y Marketing digital</span>\n",
    " "
   ]
  },
  {
   "cell_type": "markdown",
   "id": "55e155b5-086d-4454-9849-e5107145c418",
   "metadata": {
    "id": "55e155b5-086d-4454-9849-e5107145c418"
   },
   "source": [
    "4. Maria del Pilar Montenegro, pmontenegro88@gmail.com "
   ]
  },
  {
   "cell_type": "markdown",
   "id": "e4485802-7f4f-4c43-b74a-9ebb9fc36481",
   "metadata": {
    "id": "e4485802-7f4f-4c43-b74a-9ebb9fc36481"
   },
   "source": [
    "## <span style=\"color:blue\">Asistentes</span>"
   ]
  },
  {
   "cell_type": "markdown",
   "id": "17b160e4-7209-40fd-8bab-90c8711d1c16",
   "metadata": {
    "id": "17b160e4-7209-40fd-8bab-90c8711d1c16"
   },
   "source": [
    "5. Oleg Jarma, ojarmam@unal.edu.co \n",
    "6. Laura Lizarazo, ljlizarazore@unal.edu.co "
   ]
  },
  {
   "cell_type": "markdown",
   "id": "a2013fd2-1aea-4603-be27-13a595967673",
   "metadata": {
    "id": "a2013fd2-1aea-4603-be27-13a595967673"
   },
   "source": [
    "## <span style=\"color:blue\">Contenido</span> "
   ]
  },
  {
   "cell_type": "markdown",
   "id": "b4f2374c-555c-4a8d-a541-d21c3d606e05",
   "metadata": {
    "id": "b4f2374c-555c-4a8d-a541-d21c3d606e05"
   },
   "source": [
    "* [Introducción](#Introducción)\n",
    "* [Autocodificador o autoencoder](#Autocodificador-o-autoencoder)\n",
    "* [Importa módulos](#Importa-módulos)\n",
    "* [Descargar Datos de la Fuente](#Descargar-Datos-de-la-Fuente)\n",
    "* [Parámetros de la red](#Parámetros-de-la-red)\n",
    "* [Codificador](#Codificador)\n",
    "* [Decodificador](#Decodificador)\n",
    "* [Auto-codificador](#Auto-codificador)\n",
    "* [Entrenamiento](#Compila)\n",
    "* [Recuperación de imágenes](#Recuperación-de-imágenes)\n",
    "* [Representación latente](#Representación-latente)"
   ]
  },
  {
   "cell_type": "markdown",
   "id": "03d420f7-1f6a-404d-8b08-9b95ca394c93",
   "metadata": {
    "id": "03d420f7-1f6a-404d-8b08-9b95ca394c93"
   },
   "source": [
    "[[Volver al Inicio]](#Contenido)"
   ]
  },
  {
   "cell_type": "markdown",
   "id": "ff7772ae-e6d9-4cba-a260-1087e8d218fa",
   "metadata": {
    "id": "ff7772ae-e6d9-4cba-a260-1087e8d218fa"
   },
   "source": [
    "## <span style=\"color:blue\">Introducción</span>"
   ]
  },
  {
   "cell_type": "markdown",
   "id": "4cee0aeb-1b69-4683-b6a7-f745b5e87517",
   "metadata": {
    "id": "4cee0aeb-1b69-4683-b6a7-f745b5e87517"
   },
   "source": [
    "En este cuaderno se implementa un Autoencoder Convolucional para la eliminación de ruido usando el conjunto de datos MNIST.\n",
    "\n",
    "Basado en \n",
    "\n",
    "- [Convolutional Autoencoders for Image Noise Reduction](https://towardsdatascience.com/convolutional-autoencoders-for-image-noise-reduction-32fce9fc1763)\n",
    "\n",
    "- [Convolutional Autoencoder For Image Denoising](https://keras.io/examples/vision/autoencoder/) "
   ]
  },
  {
   "cell_type": "markdown",
   "id": "f00a849d-35bf-474f-903a-9da0fe01fdbe",
   "metadata": {
    "id": "f00a849d-35bf-474f-903a-9da0fe01fdbe"
   },
   "source": [
    "[[Volver al Inicio]](#Contenido)"
   ]
  },
  {
   "cell_type": "markdown",
   "id": "ef33ed6a-d912-4195-8742-686b53a3824d",
   "metadata": {
    "id": "ef33ed6a-d912-4195-8742-686b53a3824d"
   },
   "source": [
    "## <span style=\"color:blue\">Autocodificador o autoencoder</span>"
   ]
  },
  {
   "cell_type": "markdown",
   "id": "fd666002-4898-43fc-a57c-878f36a4bb84",
   "metadata": {
    "id": "fd666002-4898-43fc-a57c-878f36a4bb84"
   },
   "source": [
    "Recordemos un poco el concepto gráfico de lo que significa un autoenconder:\n",
    "\n",
    "![CAE](https://miro.medium.com/max/2400/1*VYH3i2-2CZ6Fyd7Bv9UHFw.png)\n",
    "\n",
    "Fuente: [Super-Resolution Using Autoencoders and TF2.0](https://medium.com/analytics-vidhya/super-resolution-using-autoencoders-and-tf2-0-505215c1674)"
   ]
  },
  {
   "cell_type": "markdown",
   "id": "5197c685-65ef-41ad-b149-22df53c2c715",
   "metadata": {
    "id": "5197c685-65ef-41ad-b149-22df53c2c715"
   },
   "source": [
    "## <span style=\"color:blue\">Importa módulos</span>"
   ]
  },
  {
   "cell_type": "code",
   "execution_count": 11,
   "id": "d6ef6636-88f5-4658-9de1-7f57ffe155ef",
   "metadata": {
    "id": "d6ef6636-88f5-4658-9de1-7f57ffe155ef"
   },
   "outputs": [],
   "source": [
    "# Módulos especificos de tensorflow\n",
    "import tensorflow as tf\n",
    "from tensorflow.keras import layers\n",
    "from tensorflow.keras.models import Model\n",
    "\n",
    "#from tensorflow.keras.layers import Input, Dense, Activation\n",
    "from tensorflow.keras.models import Model\n",
    "from tensorflow.keras.utils import plot_model\n",
    "from tensorflow.keras.optimizers import Adam\n",
    "from tensorflow.keras.losses import MeanSquaredError\n",
    "\n",
    "# arreglos\n",
    "import numpy as np\n",
    "\n",
    "# Manejo de gráficos\n",
    "import matplotlib.pyplot as plt\n"
   ]
  },
  {
   "cell_type": "code",
   "execution_count": 2,
   "id": "ace4e081-bb74-41f2-9528-968d03f9aa94",
   "metadata": {
    "id": "91c44791-a667-4cd5-981a-474781d47166"
   },
   "outputs": [],
   "source": [
    "np.set_printoptions(linewidth=125)"
   ]
  },
  {
   "cell_type": "markdown",
   "id": "f3c4bea8-18aa-4650-9440-b62515a1099d",
   "metadata": {
    "id": "91c44791-a667-4cd5-981a-474781d47166"
   },
   "source": [
    "## <span style=\"color:blue\">Lectura de los datos</span>"
   ]
  },
  {
   "cell_type": "code",
   "execution_count": 2,
   "id": "e6a07e8b-2506-4152-bf33-eb4daef44be2",
   "metadata": {
    "id": "15878970-2896-49b8-9ff2-0604bb23979d"
   },
   "outputs": [],
   "source": [
    "# Data\n",
    "(x_train, y_train), (x_test, y_test) = tf.keras.datasets.mnist.load_data()\n",
    "\n",
    "# normaliza los datos\n",
    "x_train = x_train.reshape(60000, 784).astype(\"float32\") / 255\n",
    "x_test = x_test.reshape(10000, 784).astype(\"float32\") / 255"
   ]
  },
  {
   "cell_type": "code",
   "execution_count": 3,
   "id": "01950e4a-005e-49e4-8400-62179c8e9664",
   "metadata": {
    "colab": {
     "base_uri": "https://localhost:8080/"
    },
    "id": "5364b030-1a56-48ba-ab9a-2477f2d8ec6b",
    "outputId": "7ad129cf-220e-4c83-eefb-1a84f0ff5b53"
   },
   "outputs": [
    {
     "name": "stdout",
     "output_type": "stream",
     "text": [
      "(60000, 784) (60000,)\n",
      "(10000, 784) (10000,)\n"
     ]
    }
   ],
   "source": [
    "print(x_train.shape,y_train.shape)\n",
    "print(x_test.shape,y_test.shape)"
   ]
  },
  {
   "cell_type": "code",
   "execution_count": 4,
   "id": "d3676199-6b55-42d2-b649-314d06e6efab",
   "metadata": {
    "colab": {
     "base_uri": "https://localhost:8080/"
    },
    "id": "5364b030-1a56-48ba-ab9a-2477f2d8ec6b",
    "outputId": "7ad129cf-220e-4c83-eefb-1a84f0ff5b53"
   },
   "outputs": [],
   "source": [
    "x_train = np.reshape(x_train, newshape=(-1,28,28,1))\n",
    "x_test = np.reshape(x_test, newshape=(-1,28,28,1))"
   ]
  },
  {
   "cell_type": "code",
   "execution_count": 5,
   "id": "1b5ab90c-fd5a-40f9-a4ea-0938ab64b2e5",
   "metadata": {
    "colab": {
     "base_uri": "https://localhost:8080/"
    },
    "id": "5364b030-1a56-48ba-ab9a-2477f2d8ec6b",
    "outputId": "7ad129cf-220e-4c83-eefb-1a84f0ff5b53"
   },
   "outputs": [
    {
     "name": "stdout",
     "output_type": "stream",
     "text": [
      "(60000, 28, 28, 1) (60000,)\n",
      "(10000, 28, 28, 1) (10000,)\n"
     ]
    }
   ],
   "source": [
    "print(x_train.shape,y_train.shape)\n",
    "print(x_test.shape,y_test.shape)"
   ]
  },
  {
   "cell_type": "code",
   "execution_count": 6,
   "id": "8455cfa7-2910-4c27-a908-c0dabe7cf836",
   "metadata": {
    "colab": {
     "base_uri": "https://localhost:8080/",
     "height": 757
    },
    "id": "8455cfa7-2910-4c27-a908-c0dabe7cf836",
    "outputId": "9b0689ca-4837-4238-ff3d-cd10b1ff855a"
   },
   "outputs": [
    {
     "name": "stdout",
     "output_type": "stream",
     "text": [
      "[[0.         0.         0.         0.         0.         0.\n",
      "  0.         0.         0.         0.         0.         0.\n",
      "  0.         0.         0.         0.         0.         0.\n",
      "  0.         0.         0.         0.         0.         0.\n",
      "  0.         0.         0.         0.        ]\n",
      " [0.         0.         0.         0.         0.         0.\n",
      "  0.         0.         0.         0.         0.         0.\n",
      "  0.         0.         0.         0.         0.         0.\n",
      "  0.         0.         0.         0.         0.         0.\n",
      "  0.         0.         0.         0.        ]\n",
      " [0.         0.         0.         0.         0.         0.\n",
      "  0.         0.         0.         0.         0.         0.\n",
      "  0.         0.         0.         0.         0.05098039 0.6901961\n",
      "  0.         0.         0.         0.         0.         0.\n",
      "  0.         0.         0.         0.        ]\n",
      " [0.         0.         0.         0.         0.         0.\n",
      "  0.         0.         0.         0.         0.         0.\n",
      "  0.         0.         0.         0.07450981 0.7607843  0.78431374\n",
      "  0.         0.         0.         0.         0.         0.\n",
      "  0.         0.         0.         0.        ]\n",
      " [0.         0.         0.         0.         0.         0.\n",
      "  0.         0.         0.         0.         0.         0.\n",
      "  0.         0.         0.         0.6745098  0.9882353  0.44313726\n",
      "  0.         0.         0.         0.         0.         0.\n",
      "  0.         0.         0.         0.        ]\n",
      " [0.         0.         0.         0.         0.         0.\n",
      "  0.         0.         0.         0.         0.         0.\n",
      "  0.         0.         0.39607844 0.9647059  0.7921569  0.05098039\n",
      "  0.         0.         0.         0.         0.         0.\n",
      "  0.         0.         0.         0.        ]\n",
      " [0.         0.         0.         0.         0.         0.\n",
      "  0.         0.         0.         0.         0.         0.\n",
      "  0.         0.11372549 0.99215686 0.99215686 0.5019608  0.\n",
      "  0.         0.         0.         0.         0.         0.\n",
      "  0.         0.         0.         0.        ]\n",
      " [0.         0.         0.         0.         0.         0.\n",
      "  0.         0.         0.         0.         0.         0.\n",
      "  0.10196079 0.5019608  0.9882353  0.76862746 0.03529412 0.\n",
      "  0.         0.         0.         0.         0.         0.\n",
      "  0.         0.         0.         0.        ]\n",
      " [0.         0.         0.         0.         0.         0.\n",
      "  0.         0.         0.         0.         0.         0.\n",
      "  0.5882353  0.99215686 0.9882353  0.3137255  0.         0.\n",
      "  0.         0.         0.         0.         0.         0.\n",
      "  0.         0.         0.         0.        ]\n",
      " [0.         0.         0.         0.         0.         0.\n",
      "  0.         0.         0.         0.         0.         0.\n",
      "  0.88235295 0.99215686 0.5921569  0.02352941 0.         0.\n",
      "  0.         0.         0.         0.         0.         0.\n",
      "  0.         0.         0.         0.        ]\n",
      " [0.         0.         0.         0.         0.         0.\n",
      "  0.         0.         0.         0.         0.         0.5764706\n",
      "  0.99215686 0.8392157  0.         0.         0.         0.01568628\n",
      "  0.08627451 0.09019608 0.01568628 0.         0.         0.\n",
      "  0.         0.         0.         0.        ]\n",
      " [0.         0.         0.         0.         0.         0.\n",
      "  0.         0.         0.         0.         0.24705882 0.91764706\n",
      "  0.9882353  0.34509805 0.         0.         0.10196079 0.5019608\n",
      "  0.91764706 0.91764706 0.5019608  0.         0.         0.\n",
      "  0.         0.         0.         0.        ]\n",
      " [0.         0.         0.         0.         0.         0.\n",
      "  0.         0.         0.         0.03921569 0.77254903 0.9882353\n",
      "  0.8392157  0.         0.         0.11372549 0.8235294  0.99215686\n",
      "  0.9882353  0.9882353  0.9882353  0.34901962 0.         0.\n",
      "  0.         0.         0.         0.        ]\n",
      " [0.         0.         0.         0.         0.         0.\n",
      "  0.         0.         0.         0.11372549 0.9882353  0.9882353\n",
      "  0.54509807 0.         0.         0.7254902  0.9882353  0.89411765\n",
      "  0.20784314 0.89411765 0.9882353  0.44313726 0.         0.\n",
      "  0.         0.         0.         0.        ]\n",
      " [0.         0.         0.         0.         0.         0.\n",
      "  0.         0.         0.         0.5529412  0.99215686 0.95686275\n",
      "  0.09803922 0.11372549 0.84705883 0.99215686 0.89411765 0.2\n",
      "  0.02745098 0.8        0.99215686 0.39607844 0.         0.\n",
      "  0.         0.         0.         0.        ]\n",
      " [0.         0.         0.         0.         0.         0.\n",
      "  0.         0.         0.10196079 0.84705883 0.9882353  0.5568628\n",
      "  0.29803923 0.84705883 0.9882353  0.6666667  0.03529412 0.\n",
      "  0.5137255  0.9882353  0.8901961  0.         0.         0.\n",
      "  0.         0.         0.         0.        ]\n",
      " [0.         0.         0.         0.         0.         0.\n",
      "  0.         0.         0.44313726 0.99215686 0.9882353  0.32941177\n",
      "  0.8235294  0.99215686 0.9137255  0.14509805 0.         0.09019608\n",
      "  0.91764706 0.9882353  0.54509807 0.         0.         0.\n",
      "  0.         0.         0.         0.        ]\n",
      " [0.         0.         0.         0.         0.         0.\n",
      "  0.         0.         0.44313726 0.99215686 0.8901961  0.84313726\n",
      "  0.9882353  0.94509804 0.23137255 0.         0.         0.5019608\n",
      "  0.9882353  0.8392157  0.10980392 0.         0.         0.\n",
      "  0.         0.         0.         0.        ]\n",
      " [0.         0.         0.         0.         0.         0.\n",
      "  0.         0.         0.8862745  1.         0.99215686 0.99215686\n",
      "  0.94509804 0.40784314 0.11372549 0.45882353 0.94509804 0.99607843\n",
      "  0.96862745 0.19607843 0.         0.         0.         0.\n",
      "  0.         0.         0.         0.        ]\n",
      " [0.         0.         0.         0.         0.         0.\n",
      "  0.         0.         0.88235295 0.99215686 0.9882353  0.9882353\n",
      "  0.4509804  0.5019608  0.9882353  0.9882353  0.9882353  0.96862745\n",
      "  0.40392157 0.         0.         0.         0.         0.\n",
      "  0.         0.         0.         0.        ]\n",
      " [0.         0.         0.         0.         0.         0.\n",
      "  0.         0.         0.88235295 0.99215686 0.9882353  0.7294118\n",
      "  0.37254903 0.99215686 0.9882353  0.9882353  0.49803922 0.19607843\n",
      "  0.         0.         0.         0.         0.         0.\n",
      "  0.         0.         0.         0.        ]\n",
      " [0.         0.         0.         0.         0.         0.\n",
      "  0.         0.         0.6862745  0.99215686 0.9882353  0.26666668\n",
      "  0.6392157  0.99215686 0.8901961  0.40392157 0.01176471 0.\n",
      "  0.         0.         0.         0.         0.         0.\n",
      "  0.         0.         0.         0.        ]\n",
      " [0.         0.         0.         0.         0.         0.\n",
      "  0.         0.         0.         0.         0.         0.\n",
      "  0.         0.         0.         0.         0.         0.\n",
      "  0.         0.         0.         0.         0.         0.\n",
      "  0.         0.         0.         0.        ]\n",
      " [0.         0.         0.         0.         0.         0.\n",
      "  0.         0.         0.         0.         0.         0.\n",
      "  0.         0.         0.         0.         0.         0.\n",
      "  0.         0.         0.         0.         0.         0.\n",
      "  0.         0.         0.         0.        ]\n",
      " [0.         0.         0.         0.         0.         0.\n",
      "  0.         0.         0.         0.         0.         0.\n",
      "  0.         0.         0.         0.         0.         0.\n",
      "  0.         0.         0.         0.         0.         0.\n",
      "  0.         0.         0.         0.        ]\n",
      " [0.         0.         0.         0.         0.         0.\n",
      "  0.         0.         0.         0.         0.         0.\n",
      "  0.         0.         0.         0.         0.         0.\n",
      "  0.         0.         0.         0.         0.         0.\n",
      "  0.         0.         0.         0.        ]\n",
      " [0.         0.         0.         0.         0.         0.\n",
      "  0.         0.         0.         0.         0.         0.\n",
      "  0.         0.         0.         0.         0.         0.\n",
      "  0.         0.         0.         0.         0.         0.\n",
      "  0.         0.         0.         0.        ]\n",
      " [0.         0.         0.         0.         0.         0.\n",
      "  0.         0.         0.         0.         0.         0.\n",
      "  0.         0.         0.         0.         0.         0.\n",
      "  0.         0.         0.         0.         0.         0.\n",
      "  0.         0.         0.         0.        ]] \n",
      "\n"
     ]
    },
    {
     "data": {
      "image/png": "[encoded data removed]",
      "text/plain": [
       "<Figure size 432x288 with 1 Axes>"
      ]
     },
     "metadata": {
      "needs_background": "light"
     },
     "output_type": "display_data"
    }
   ],
   "source": [
    "azar=np.random.randint(len(x_train))\n",
    "print(x_train[azar,:,:,0],'\\n')\n",
    "plt.imshow(x_train[azar,:,:,0],cmap='gray')\n",
    "plt.title('Etiqueta Humana:'+str(y_train[azar]))\n",
    "plt.axis('off')\n",
    "plt.show()"
   ]
  },
  {
   "cell_type": "markdown",
   "id": "fa67f448-c455-4486-b61d-864da422c63e",
   "metadata": {
    "id": "fa67f448-c455-4486-b61d-864da422c63e"
   },
   "source": [
    "## <span style=\"color:blue\">Añade Ruido</span>"
   ]
  },
  {
   "cell_type": "code",
   "execution_count": 12,
   "id": "9b8c72fe-2cc2-4e1c-9c00-f17d322accfb",
   "metadata": {
    "id": "9b8c72fe-2cc2-4e1c-9c00-f17d322accfb"
   },
   "outputs": [],
   "source": [
    "def noise(array):\n",
    "    \"\"\"\n",
    "    Añande ruido a la imagen \n",
    "    \"\"\"\n",
    "    noise_factor = 0.4\n",
    "    noisy_array = array + noise_factor * np.random.normal(\n",
    "        loc=0.0, scale=1.0, size=array.shape\n",
    "    )\n",
    "\n",
    "    return np.clip(noisy_array, 0.0, 1.0) # clip para dejar los valores en [0.0, 1.0]\n",
    "\n",
    "# Crea una copia de los datos con ruido agregado\n",
    "noisy_x_train = noise(x_train)\n",
    "noisy_x_test = noise(x_test)"
   ]
  },
  {
   "cell_type": "markdown",
   "id": "5544c0a5-14ec-4cb8-95e0-ca4854d2aa95",
   "metadata": {
    "id": "5544c0a5-14ec-4cb8-95e0-ca4854d2aa95"
   },
   "source": [
    "## <span style=\"color:blue\">Despliega Imágenes </span>"
   ]
  },
  {
   "cell_type": "code",
   "execution_count": 13,
   "id": "9cc491e7-6c6d-444b-910c-1c2d603ae6dd",
   "metadata": {
    "id": "9cc491e7-6c6d-444b-910c-1c2d603ae6dd"
   },
   "outputs": [
    {
     "data": {
      "image/png": "[encoded data removed]",
      "text/plain": [
       "<Figure size 1440x288 with 20 Axes>"
      ]
     },
     "metadata": {
      "needs_background": "light"
     },
     "output_type": "display_data"
    }
   ],
   "source": [
    "def display(array1, array2):\n",
    "    \"\"\"\n",
    "    Despliega diez imágenes aleatoriamente, de los conjuntos de datos recibidos.\n",
    "    \"\"\"\n",
    "\n",
    "    n = 10\n",
    "\n",
    "    indices = np.random.randint(len(array1), size=n)\n",
    "    images1 = array1[indices, :]\n",
    "    images2 = array2[indices, :]\n",
    "\n",
    "    plt.figure(figsize=(20, 4))\n",
    "    for i, (image1, image2) in enumerate(zip(images1, images2)):\n",
    "        ax = plt.subplot(2, n, i + 1)\n",
    "        plt.imshow(image1.reshape(28, 28))\n",
    "        plt.gray()\n",
    "        ax.get_xaxis().set_visible(False)\n",
    "        ax.get_yaxis().set_visible(False)\n",
    "\n",
    "        ax = plt.subplot(2, n, i + 1 + n)\n",
    "        plt.imshow(image2.reshape(28, 28))\n",
    "        plt.gray()\n",
    "        ax.get_xaxis().set_visible(False)\n",
    "        ax.get_yaxis().set_visible(False)\n",
    "\n",
    "    plt.show()\n",
    "    \n",
    "\n",
    "# despliega algunos datos origonales y su versión con ruido\n",
    "display(x_train, noisy_x_train)    "
   ]
  },
  {
   "cell_type": "markdown",
   "id": "0091fdc2-ac85-493e-89da-14a649a71ae7",
   "metadata": {
    "id": "0091fdc2-ac85-493e-89da-14a649a71ae7"
   },
   "source": [
    "## <span style=\"color:blue\">Autoenconder Convolucional </span>"
   ]
  },
  {
   "cell_type": "code",
   "execution_count": null,
   "id": "aab46bde-ac26-4fa2-946f-4b57c383ca28",
   "metadata": {
    "colab": {
     "base_uri": "https://localhost:8080/"
    },
    "id": "aab46bde-ac26-4fa2-946f-4b57c383ca28",
    "outputId": "0ea7f4a6-dc25-41d6-8328-ba7893c6f4e0"
   },
   "outputs": [],
   "source": [
    "inputs = layers.Input(shape=(28, 28, 1))\n",
    "\n",
    "# Encoder\n",
    "x = layers.Conv2D(32, (3, 3), activation=\"relu\", padding=\"same\")(inputs)\n",
    "x = layers.MaxPooling2D((2, 2), padding=\"same\")(x)\n",
    "x = layers.Conv2D(32, (3, 3), activation=\"relu\", padding=\"same\")(x)\n",
    "x = layers.MaxPooling2D((2, 2), padding=\"same\")(x)\n",
    "\n",
    "# Decoder\n",
    "x = layers.Conv2DTranspose(32, (3, 3), strides=2, activation=\"relu\", padding=\"same\")(x)\n",
    "x = layers.Conv2DTranspose(32, (3, 3), strides=2, activation=\"relu\", padding=\"same\")(x)\n",
    "x = layers.Conv2D(1, (3, 3), activation=\"sigmoid\", padding=\"same\")(x)\n",
    "\n",
    "# Autoencoder\n",
    "autoencoder = Model(inputs, x)\n",
    "autoencoder.compile(optimizer=\"adam\", loss=\"binary_crossentropy\")\n",
    "autoencoder.summary()"
   ]
  },
  {
   "cell_type": "markdown",
   "id": "b363c5c3-0861-4f4c-841d-3ca611c634cb",
   "metadata": {
    "id": "b363c5c3-0861-4f4c-841d-3ca611c634cb"
   },
   "source": [
    "## Entrenar Autoencoder "
   ]
  },
  {
   "cell_type": "code",
   "execution_count": null,
   "id": "651322d4-93b7-4d88-a748-7f02c5e8f75c",
   "metadata": {
    "colab": {
     "base_uri": "https://localhost:8080/"
    },
    "id": "651322d4-93b7-4d88-a748-7f02c5e8f75c",
    "outputId": "ea063b1d-e286-49d4-fcc9-53f1fdd35ed0"
   },
   "outputs": [],
   "source": [
    "history=autoencoder.fit(\n",
    "    x=x_train,\n",
    "    y=x_train,\n",
    "    epochs=20,\n",
    "    batch_size=128,\n",
    "    shuffle=True,\n",
    "    validation_data=(x_test, x_test),\n",
    ")"
   ]
  },
  {
   "cell_type": "code",
   "execution_count": 16,
   "id": "ZP_tf_u7TpT3",
   "metadata": {
    "colab": {
     "base_uri": "https://localhost:8080/",
     "height": 265
    },
    "id": "ZP_tf_u7TpT3",
    "outputId": "4a9d17a8-15e3-40f1-ae3a-73fba61e69b3"
   },
   "outputs": [
    {
     "data": {
      "image/png": "[encoded data removed]",
      "text/plain": [
       "<Figure size 432x288 with 1 Axes>"
      ]
     },
     "metadata": {
      "needs_background": "light"
     },
     "output_type": "display_data"
    }
   ],
   "source": [
    "plt.plot(history.history['loss'][1:],'bo-')\n",
    "plt.plot(history.history['val_loss'][-20:],'ro-')\n",
    "plt.grid()\n",
    "plt.show()"
   ]
  },
  {
   "cell_type": "markdown",
   "id": "511a395c-8077-4aa2-bc3c-0ca21a6675ab",
   "metadata": {
    "id": "511a395c-8077-4aa2-bc3c-0ca21a6675ab"
   },
   "source": [
    "## Mostrar Recuperación "
   ]
  },
  {
   "cell_type": "code",
   "execution_count": 17,
   "id": "a277183d-1c2b-4503-88cb-e21632a9ad96",
   "metadata": {
    "colab": {
     "base_uri": "https://localhost:8080/",
     "height": 248
    },
    "id": "a277183d-1c2b-4503-88cb-e21632a9ad96",
    "outputId": "42885d30-569f-463e-9cae-45cf6886bd33"
   },
   "outputs": [
    {
     "data": {
      "image/png": "[encoded data removed]",
      "text/plain": [
       "<Figure size 1440x288 with 20 Axes>"
      ]
     },
     "metadata": {
      "needs_background": "light"
     },
     "output_type": "display_data"
    }
   ],
   "source": [
    "predictions = autoencoder.predict(x_test)\n",
    "display(x_test, predictions)"
   ]
  },
  {
   "cell_type": "markdown",
   "id": "cc8b19df-6e5c-4263-aaf2-53cdb3a965ef",
   "metadata": {
    "id": "cc8b19df-6e5c-4263-aaf2-53cdb3a965ef"
   },
   "source": [
    "## Entrenar Sobre imágenes ruidosas "
   ]
  },
  {
   "cell_type": "code",
   "execution_count": 19,
   "id": "5KtweSkpUbzQ",
   "metadata": {
    "id": "5KtweSkpUbzQ"
   },
   "outputs": [],
   "source": [
    "autoencoder2 = Model(inputs, x)\n",
    "autoencoder2.compile(optimizer=\"adam\", loss=\"binary_crossentropy\")"
   ]
  },
  {
   "cell_type": "code",
   "execution_count": 20,
   "id": "273ddbee-4580-4e4d-ac59-056b3895fa58",
   "metadata": {
    "colab": {
     "base_uri": "https://localhost:8080/"
    },
    "id": "273ddbee-4580-4e4d-ac59-056b3895fa58",
    "outputId": "495bd38f-1977-44f4-e537-70be0e053235"
   },
   "outputs": [
    {
     "name": "stdout",
     "output_type": "stream",
     "text": [
      "Epoch 1/100\n",
      "469/469 [==============================] - 2s 4ms/step - loss: 0.1002 - val_loss: 0.0935\n",
      "Epoch 2/100\n",
      "469/469 [==============================] - 2s 4ms/step - loss: 0.0928 - val_loss: 0.0916\n",
      "Epoch 3/100\n",
      "469/469 [==============================] - 2s 4ms/step - loss: 0.0912 - val_loss: 0.0900\n",
      "Epoch 4/100\n",
      "469/469 [==============================] - 2s 4ms/step - loss: 0.0903 - val_loss: 0.0893\n",
      "Epoch 5/100\n",
      "469/469 [==============================] - 2s 4ms/step - loss: 0.0896 - val_loss: 0.0887\n",
      "Epoch 6/100\n",
      "469/469 [==============================] - 2s 4ms/step - loss: 0.0891 - val_loss: 0.0883\n",
      "Epoch 7/100\n",
      "469/469 [==============================] - 2s 4ms/step - loss: 0.0887 - val_loss: 0.0880\n",
      "Epoch 8/100\n",
      "469/469 [==============================] - 2s 4ms/step - loss: 0.0884 - val_loss: 0.0876\n",
      "Epoch 9/100\n",
      "469/469 [==============================] - 2s 4ms/step - loss: 0.0881 - val_loss: 0.0874\n",
      "Epoch 10/100\n",
      "469/469 [==============================] - 2s 4ms/step - loss: 0.0878 - val_loss: 0.0873\n",
      "Epoch 11/100\n",
      "469/469 [==============================] - 2s 4ms/step - loss: 0.0876 - val_loss: 0.0869\n",
      "Epoch 12/100\n",
      "469/469 [==============================] - 2s 4ms/step - loss: 0.0874 - val_loss: 0.0867\n",
      "Epoch 13/100\n",
      "469/469 [==============================] - 2s 4ms/step - loss: 0.0872 - val_loss: 0.0867\n",
      "Epoch 14/100\n",
      "469/469 [==============================] - 2s 4ms/step - loss: 0.0870 - val_loss: 0.0866\n",
      "Epoch 15/100\n",
      "469/469 [==============================] - 2s 4ms/step - loss: 0.0869 - val_loss: 0.0869\n",
      "Epoch 16/100\n",
      "469/469 [==============================] - 2s 4ms/step - loss: 0.0867 - val_loss: 0.0863\n",
      "Epoch 17/100\n",
      "469/469 [==============================] - 2s 4ms/step - loss: 0.0866 - val_loss: 0.0863\n",
      "Epoch 18/100\n",
      "469/469 [==============================] - 2s 4ms/step - loss: 0.0865 - val_loss: 0.0861\n",
      "Epoch 19/100\n",
      "469/469 [==============================] - 2s 4ms/step - loss: 0.0864 - val_loss: 0.0859\n",
      "Epoch 20/100\n",
      "469/469 [==============================] - 2s 4ms/step - loss: 0.0863 - val_loss: 0.0858\n",
      "Epoch 21/100\n",
      "469/469 [==============================] - 2s 4ms/step - loss: 0.0862 - val_loss: 0.0858\n",
      "Epoch 22/100\n",
      "469/469 [==============================] - 2s 4ms/step - loss: 0.0861 - val_loss: 0.0857\n",
      "Epoch 23/100\n",
      "469/469 [==============================] - 2s 4ms/step - loss: 0.0860 - val_loss: 0.0858\n",
      "Epoch 24/100\n",
      "469/469 [==============================] - 2s 4ms/step - loss: 0.0860 - val_loss: 0.0856\n",
      "Epoch 25/100\n",
      "469/469 [==============================] - 2s 4ms/step - loss: 0.0859 - val_loss: 0.0855\n",
      "Epoch 26/100\n",
      "469/469 [==============================] - 2s 4ms/step - loss: 0.0858 - val_loss: 0.0857\n",
      "Epoch 27/100\n",
      "469/469 [==============================] - 2s 4ms/step - loss: 0.0858 - val_loss: 0.0854\n",
      "Epoch 28/100\n",
      "469/469 [==============================] - 2s 4ms/step - loss: 0.0857 - val_loss: 0.0854\n",
      "Epoch 29/100\n",
      "469/469 [==============================] - 2s 4ms/step - loss: 0.0857 - val_loss: 0.0853\n",
      "Epoch 30/100\n",
      "469/469 [==============================] - 2s 4ms/step - loss: 0.0856 - val_loss: 0.0854\n",
      "Epoch 31/100\n",
      "469/469 [==============================] - 2s 4ms/step - loss: 0.0856 - val_loss: 0.0855\n",
      "Epoch 32/100\n",
      "469/469 [==============================] - 2s 4ms/step - loss: 0.0855 - val_loss: 0.0852\n",
      "Epoch 33/100\n",
      "469/469 [==============================] - 2s 4ms/step - loss: 0.0855 - val_loss: 0.0854\n",
      "Epoch 34/100\n",
      "469/469 [==============================] - 2s 4ms/step - loss: 0.0855 - val_loss: 0.0851\n",
      "Epoch 35/100\n",
      "469/469 [==============================] - 2s 4ms/step - loss: 0.0854 - val_loss: 0.0850\n",
      "Epoch 36/100\n",
      "469/469 [==============================] - 2s 4ms/step - loss: 0.0854 - val_loss: 0.0850\n",
      "Epoch 37/100\n",
      "469/469 [==============================] - 2s 4ms/step - loss: 0.0853 - val_loss: 0.0850\n",
      "Epoch 38/100\n",
      "469/469 [==============================] - 2s 4ms/step - loss: 0.0853 - val_loss: 0.0849\n",
      "Epoch 39/100\n",
      "469/469 [==============================] - 2s 4ms/step - loss: 0.0852 - val_loss: 0.0850\n",
      "Epoch 40/100\n",
      "469/469 [==============================] - 2s 4ms/step - loss: 0.0852 - val_loss: 0.0850\n",
      "Epoch 41/100\n",
      "469/469 [==============================] - 2s 4ms/step - loss: 0.0852 - val_loss: 0.0850\n",
      "Epoch 42/100\n",
      "469/469 [==============================] - 2s 4ms/step - loss: 0.0851 - val_loss: 0.0848\n",
      "Epoch 43/100\n",
      "469/469 [==============================] - 2s 4ms/step - loss: 0.0851 - val_loss: 0.0849\n",
      "Epoch 44/100\n",
      "469/469 [==============================] - 2s 4ms/step - loss: 0.0851 - val_loss: 0.0848\n",
      "Epoch 45/100\n",
      "469/469 [==============================] - 2s 4ms/step - loss: 0.0850 - val_loss: 0.0847\n",
      "Epoch 46/100\n",
      "469/469 [==============================] - 2s 4ms/step - loss: 0.0850 - val_loss: 0.0851\n",
      "Epoch 47/100\n",
      "469/469 [==============================] - 2s 4ms/step - loss: 0.0850 - val_loss: 0.0847\n",
      "Epoch 48/100\n",
      "469/469 [==============================] - 2s 4ms/step - loss: 0.0849 - val_loss: 0.0847\n",
      "Epoch 49/100\n",
      "469/469 [==============================] - 2s 4ms/step - loss: 0.0849 - val_loss: 0.0848\n",
      "Epoch 50/100\n",
      "469/469 [==============================] - 2s 4ms/step - loss: 0.0849 - val_loss: 0.0846\n",
      "Epoch 51/100\n",
      "469/469 [==============================] - 2s 4ms/step - loss: 0.0848 - val_loss: 0.0847\n",
      "Epoch 52/100\n",
      "469/469 [==============================] - 2s 4ms/step - loss: 0.0848 - val_loss: 0.0848\n",
      "Epoch 53/100\n",
      "469/469 [==============================] - 2s 4ms/step - loss: 0.0848 - val_loss: 0.0846\n",
      "Epoch 54/100\n",
      "469/469 [==============================] - 2s 4ms/step - loss: 0.0848 - val_loss: 0.0845\n",
      "Epoch 55/100\n",
      "469/469 [==============================] - 2s 4ms/step - loss: 0.0847 - val_loss: 0.0845\n",
      "Epoch 56/100\n",
      "469/469 [==============================] - 2s 4ms/step - loss: 0.0847 - val_loss: 0.0845\n",
      "Epoch 57/100\n",
      "469/469 [==============================] - 2s 4ms/step - loss: 0.0847 - val_loss: 0.0845\n",
      "Epoch 58/100\n",
      "469/469 [==============================] - 2s 4ms/step - loss: 0.0847 - val_loss: 0.0844\n",
      "Epoch 59/100\n",
      "469/469 [==============================] - 2s 4ms/step - loss: 0.0846 - val_loss: 0.0845\n",
      "Epoch 60/100\n",
      "469/469 [==============================] - 2s 4ms/step - loss: 0.0846 - val_loss: 0.0844\n",
      "Epoch 61/100\n",
      "469/469 [==============================] - 2s 4ms/step - loss: 0.0846 - val_loss: 0.0844\n",
      "Epoch 62/100\n",
      "469/469 [==============================] - 2s 4ms/step - loss: 0.0846 - val_loss: 0.0844\n",
      "Epoch 63/100\n",
      "469/469 [==============================] - 2s 4ms/step - loss: 0.0846 - val_loss: 0.0846\n",
      "Epoch 64/100\n",
      "469/469 [==============================] - 2s 4ms/step - loss: 0.0846 - val_loss: 0.0844\n",
      "Epoch 65/100\n",
      "469/469 [==============================] - 2s 4ms/step - loss: 0.0845 - val_loss: 0.0844\n",
      "Epoch 66/100\n",
      "469/469 [==============================] - 2s 4ms/step - loss: 0.0845 - val_loss: 0.0844\n",
      "Epoch 67/100\n",
      "469/469 [==============================] - 2s 4ms/step - loss: 0.0845 - val_loss: 0.0844\n",
      "Epoch 68/100\n",
      "469/469 [==============================] - 2s 4ms/step - loss: 0.0845 - val_loss: 0.0844\n",
      "Epoch 69/100\n",
      "469/469 [==============================] - 2s 4ms/step - loss: 0.0845 - val_loss: 0.0843\n",
      "Epoch 70/100\n",
      "469/469 [==============================] - 2s 4ms/step - loss: 0.0845 - val_loss: 0.0843\n",
      "Epoch 71/100\n",
      "469/469 [==============================] - 2s 4ms/step - loss: 0.0844 - val_loss: 0.0843\n",
      "Epoch 72/100\n",
      "469/469 [==============================] - 2s 4ms/step - loss: 0.0844 - val_loss: 0.0843\n",
      "Epoch 73/100\n",
      "469/469 [==============================] - 2s 4ms/step - loss: 0.0844 - val_loss: 0.0843\n",
      "Epoch 74/100\n",
      "469/469 [==============================] - 2s 4ms/step - loss: 0.0844 - val_loss: 0.0842\n",
      "Epoch 75/100\n",
      "469/469 [==============================] - 2s 4ms/step - loss: 0.0844 - val_loss: 0.0843\n",
      "Epoch 76/100\n",
      "469/469 [==============================] - 2s 4ms/step - loss: 0.0844 - val_loss: 0.0844\n",
      "Epoch 77/100\n",
      "469/469 [==============================] - 2s 4ms/step - loss: 0.0844 - val_loss: 0.0844\n",
      "Epoch 78/100\n",
      "469/469 [==============================] - 2s 4ms/step - loss: 0.0844 - val_loss: 0.0843\n",
      "Epoch 79/100\n",
      "469/469 [==============================] - 2s 4ms/step - loss: 0.0844 - val_loss: 0.0845\n",
      "Epoch 80/100\n",
      "469/469 [==============================] - 2s 4ms/step - loss: 0.0843 - val_loss: 0.0843\n",
      "Epoch 81/100\n",
      "469/469 [==============================] - 2s 4ms/step - loss: 0.0843 - val_loss: 0.0843\n",
      "Epoch 82/100\n",
      "469/469 [==============================] - 2s 4ms/step - loss: 0.0843 - val_loss: 0.0843\n",
      "Epoch 83/100\n",
      "469/469 [==============================] - 2s 4ms/step - loss: 0.0843 - val_loss: 0.0843\n",
      "Epoch 84/100\n",
      "469/469 [==============================] - 2s 4ms/step - loss: 0.0843 - val_loss: 0.0842\n",
      "Epoch 85/100\n",
      "469/469 [==============================] - 2s 4ms/step - loss: 0.0843 - val_loss: 0.0843\n",
      "Epoch 86/100\n",
      "469/469 [==============================] - 2s 4ms/step - loss: 0.0843 - val_loss: 0.0842\n",
      "Epoch 87/100\n",
      "469/469 [==============================] - 2s 4ms/step - loss: 0.0843 - val_loss: 0.0842\n",
      "Epoch 88/100\n",
      "469/469 [==============================] - 2s 4ms/step - loss: 0.0843 - val_loss: 0.0842\n",
      "Epoch 89/100\n",
      "469/469 [==============================] - 2s 4ms/step - loss: 0.0843 - val_loss: 0.0842\n",
      "Epoch 90/100\n",
      "469/469 [==============================] - 2s 4ms/step - loss: 0.0842 - val_loss: 0.0842\n",
      "Epoch 91/100\n",
      "469/469 [==============================] - 2s 4ms/step - loss: 0.0842 - val_loss: 0.0842\n",
      "Epoch 92/100\n",
      "469/469 [==============================] - 2s 4ms/step - loss: 0.0842 - val_loss: 0.0842\n",
      "Epoch 93/100\n",
      "469/469 [==============================] - 2s 4ms/step - loss: 0.0842 - val_loss: 0.0841\n",
      "Epoch 94/100\n",
      "469/469 [==============================] - 2s 4ms/step - loss: 0.0842 - val_loss: 0.0841\n",
      "Epoch 95/100\n",
      "469/469 [==============================] - 2s 4ms/step - loss: 0.0842 - val_loss: 0.0841\n",
      "Epoch 96/100\n",
      "469/469 [==============================] - 2s 4ms/step - loss: 0.0842 - val_loss: 0.0842\n",
      "Epoch 97/100\n",
      "469/469 [==============================] - 2s 4ms/step - loss: 0.0842 - val_loss: 0.0843\n",
      "Epoch 98/100\n",
      "469/469 [==============================] - 2s 4ms/step - loss: 0.0842 - val_loss: 0.0842\n",
      "Epoch 99/100\n",
      "469/469 [==============================] - 2s 4ms/step - loss: 0.0842 - val_loss: 0.0841\n",
      "Epoch 100/100\n",
      "469/469 [==============================] - 2s 4ms/step - loss: 0.0842 - val_loss: 0.0842\n"
     ]
    }
   ],
   "source": [
    "history2=autoencoder2.fit(\n",
    "    x=noisy_x_train,\n",
    "    y=x_train,\n",
    "    epochs=100,\n",
    "    batch_size=128,\n",
    "    shuffle=True,\n",
    "    validation_data=(noisy_x_test, x_test),\n",
    ")"
   ]
  },
  {
   "cell_type": "code",
   "execution_count": 22,
   "id": "EhTpNpdNTg5f",
   "metadata": {
    "colab": {
     "base_uri": "https://localhost:8080/",
     "height": 265
    },
    "id": "EhTpNpdNTg5f",
    "outputId": "14f31679-1898-4fb1-b5f4-76eeeb402a64"
   },
   "outputs": [
    {
     "data": {
      "image/png": "[encoded data removed]",
      "text/plain": [
       "<Figure size 432x288 with 1 Axes>"
      ]
     },
     "metadata": {
      "needs_background": "light"
     },
     "output_type": "display_data"
    }
   ],
   "source": [
    "plt.plot(history2.history['loss'][-60:],'bo-')\n",
    "plt.plot(history2.history['val_loss'][-60:],'ro-')\n",
    "plt.grid()\n",
    "plt.show()"
   ]
  },
  {
   "cell_type": "markdown",
   "id": "80600cc3-f43f-45e9-bbe4-0dd92426f1ae",
   "metadata": {
    "id": "80600cc3-f43f-45e9-bbe4-0dd92426f1ae"
   },
   "source": [
    "## Ver Predicciones"
   ]
  },
  {
   "cell_type": "code",
   "execution_count": 23,
   "id": "46209796-25bc-4882-9911-ff7a690cbbe1",
   "metadata": {
    "colab": {
     "base_uri": "https://localhost:8080/",
     "height": 248
    },
    "id": "46209796-25bc-4882-9911-ff7a690cbbe1",
    "outputId": "95b228b1-8803-4ac2-c4d4-47b92e32ff37"
   },
   "outputs": [
    {
     "data": {
      "image/png": "[encoded data removed]",
      "text/plain": [
       "<Figure size 1440x288 with 20 Axes>"
      ]
     },
     "metadata": {
      "needs_background": "light"
     },
     "output_type": "display_data"
    }
   ],
   "source": [
    "predictions = autoencoder.predict(noisy_x_test)\n",
    "display(noisy_x_test, predictions)"
   ]
  },
  {
   "cell_type": "code",
   "execution_count": null,
   "id": "8b710eec-270e-4779-9e37-f3e7c63fc70e",
   "metadata": {},
   "outputs": [],
   "source": []
  }
 ],
 "metadata": {
  "accelerator": "GPU",
  "colab": {
   "collapsed_sections": [],
   "name": "ae_Eliminacion_ruido_MNIST.ipynb",
   "provenance": []
  },
  "kernelspec": {
   "display_name": "Python 3 (ipykernel)",
   "language": "python",
   "name": "python3"
  },
  "language_info": {
   "codemirror_mode": {
    "name": "ipython",
    "version": 3
   },
   "file_extension": ".py",
   "mimetype": "text/x-python",
   "name": "python",
   "nbconvert_exporter": "python",
   "pygments_lexer": "ipython3",
   "version": "3.9.7"
  }
 },
 "nbformat": 4,
 "nbformat_minor": 5
}
