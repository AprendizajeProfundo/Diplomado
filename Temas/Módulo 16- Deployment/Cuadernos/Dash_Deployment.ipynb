{
 "cells": [
  {
   "cell_type": "markdown",
   "id": "3fbecd76-a2ff-45b0-8ee6-ddd79e9464b3",
   "metadata": {
    "slideshow": {
     "slide_type": "slide"
    },
    "tags": []
   },
   "source": [
    "<figure>\n",
    "<img src=\"../Imagenes/logo-final-ap.png\"  width=\"80\" height=\"80\" align=\"left\"/> \n",
    "</figure>\n",
    "\n",
    "# <span style=\"color:blue\"><left>Aprendizaje Profundo</left></span>"
   ]
  },
  {
   "cell_type": "markdown",
   "id": "370d78cd-7ae9-46bd-97a1-3615db35741a",
   "metadata": {},
   "source": [
    "# <span style=\"color:red\"><center>Deployment con Dashboard</center></span>"
   ]
  },
  {
   "cell_type": "markdown",
   "id": "e8731811-e656-40eb-9b82-fc854ada79fa",
   "metadata": {},
   "source": [
    "<center>Deployment para Industria</center>"
   ]
  },
  {
   "cell_type": "markdown",
   "id": "e0200c4a-3401-439f-a492-29c9d5f3dd24",
   "metadata": {
    "slideshow": {
     "slide_type": "slide"
    },
    "tags": []
   },
   "source": [
    "##   <span style=\"color:blue\">Autores</span>"
   ]
  },
  {
   "cell_type": "markdown",
   "id": "49402dd4-d3b7-422f-a4aa-08a9f15dd8e3",
   "metadata": {},
   "source": [
    "1. Alvaro Mauricio Montenegro Díaz, ammontenegrod@unal.edu.co\n",
    "1. Daniel Mauricio Montenegro Reyes, dextronomo@gmail.com "
   ]
  },
  {
   "cell_type": "markdown",
   "id": "465b5b61-1ce5-45ab-94cd-87f919da463e",
   "metadata": {
    "slideshow": {
     "slide_type": "subslide"
    },
    "tags": []
   },
   "source": [
    "## <span style=\"color:blue\">Asesora Medios y Marketing digital</span>"
   ]
  },
  {
   "cell_type": "markdown",
   "id": "72c691aa-63a4-4906-8044-d500aac2afe3",
   "metadata": {},
   "source": [
    "4. Maria del Pilar Montenegro, pmontenegro88@gmail.com "
   ]
  },
  {
   "cell_type": "markdown",
   "id": "daceb6fe-27c0-4f03-8a6d-a3654ca8e208",
   "metadata": {
    "slideshow": {
     "slide_type": "slide"
    },
    "tags": []
   },
   "source": [
    "## <span style=\"color:blue\">Contenido</span>"
   ]
  },
  {
   "cell_type": "markdown",
   "id": "bbf04671-f4aa-40c6-a5da-2aaea368f75f",
   "metadata": {},
   "source": [
    "* [Introducción](#Introducción)\n",
    "* [Digitalización de documentos](#Digitalización-de-documentos)\n",
    "* [Matemáticas](#Matemáticas)\n",
    "* [Transformación de problemas](#Transformación-de-problemas)\n",
    "* [Tecnología](#Tecnología)\n",
    "* [Arquitecturas Neuronales Paradigma](#Arquitecturas-Neuronales-Paradigma)"
   ]
  },
  {
   "cell_type": "markdown",
   "id": "44e8757b-2395-48e6-8d85-e0255d892355",
   "metadata": {},
   "source": [
    "### Cargar Datos"
   ]
  },
  {
   "cell_type": "code",
   "execution_count": 7,
   "id": "95cc15ca-ee39-4b92-963a-55f1280b0a18",
   "metadata": {},
   "outputs": [
    {
     "data": {
      "text/html": [
       "<div>\n",
       "<style scoped>\n",
       "    .dataframe tbody tr th:only-of-type {\n",
       "        vertical-align: middle;\n",
       "    }\n",
       "\n",
       "    .dataframe tbody tr th {\n",
       "        vertical-align: top;\n",
       "    }\n",
       "\n",
       "    .dataframe thead th {\n",
       "        text-align: right;\n",
       "    }\n",
       "</style>\n",
       "<table border=\"1\" class=\"dataframe\">\n",
       "  <thead>\n",
       "    <tr style=\"text-align: right;\">\n",
       "      <th></th>\n",
       "      <th>Titular</th>\n",
       "      <th>Link</th>\n",
       "      <th>Categoría</th>\n",
       "      <th>Fecha</th>\n",
       "      <th>Noticia</th>\n",
       "    </tr>\n",
       "  </thead>\n",
       "  <tbody>\n",
       "    <tr>\n",
       "      <th>0</th>\n",
       "      <td>Las primeras exigencias del Eln ante inicio de...</td>\n",
       "      <td>https://www.eltiempo.com/justicia/conflicto-y-...</td>\n",
       "      <td>Conflicto y Narcotráfico</td>\n",
       "      <td>18 de noviembre 2022, 07:38 A. M.</td>\n",
       "      <td>El próximo 21 de noviembre se instalará en Car...</td>\n",
       "    </tr>\n",
       "    <tr>\n",
       "      <th>1</th>\n",
       "      <td>Así cayeron los dos narcos colombianos más bus...</td>\n",
       "      <td>https://www.eltiempo.com/justicia/conflicto-y-...</td>\n",
       "      <td>Conflicto y Narcotráfico</td>\n",
       "      <td>16 de noviembre 2022, 06:49 A. M.</td>\n",
       "      <td>En Europa, en especial en España, las autorida...</td>\n",
       "    </tr>\n",
       "    <tr>\n",
       "      <th>2</th>\n",
       "      <td>Porque 'puede causar cáncer', Gobierno Petro p...</td>\n",
       "      <td>https://www.eltiempo.com/justicia/conflicto-y-...</td>\n",
       "      <td>Conflicto y Narcotráfico</td>\n",
       "      <td>16 de noviembre 2022, 12:00 A. M.</td>\n",
       "      <td>En un borrador de decreto del Ministerio de Ju...</td>\n",
       "    </tr>\n",
       "  </tbody>\n",
       "</table>\n",
       "</div>"
      ],
      "text/plain": [
       "                                             Titular  \\\n",
       "0  Las primeras exigencias del Eln ante inicio de...   \n",
       "1  Así cayeron los dos narcos colombianos más bus...   \n",
       "2  Porque 'puede causar cáncer', Gobierno Petro p...   \n",
       "\n",
       "                                                Link  \\\n",
       "0  https://www.eltiempo.com/justicia/conflicto-y-...   \n",
       "1  https://www.eltiempo.com/justicia/conflicto-y-...   \n",
       "2  https://www.eltiempo.com/justicia/conflicto-y-...   \n",
       "\n",
       "                  Categoría                              Fecha  \\\n",
       "0  Conflicto y Narcotráfico  18 de noviembre 2022, 07:38 A. M.   \n",
       "1  Conflicto y Narcotráfico  16 de noviembre 2022, 06:49 A. M.   \n",
       "2  Conflicto y Narcotráfico  16 de noviembre 2022, 12:00 A. M.   \n",
       "\n",
       "                                             Noticia  \n",
       "0  El próximo 21 de noviembre se instalará en Car...  \n",
       "1  En Europa, en especial en España, las autorida...  \n",
       "2  En un borrador de decreto del Ministerio de Ju...  "
      ]
     },
     "metadata": {},
     "output_type": "display_data"
    },
    {
     "name": "stdout",
     "output_type": "stream",
     "text": [
      "<class 'pandas.core.frame.DataFrame'>\n",
      "RangeIndex: 339 entries, 0 to 338\n",
      "Data columns (total 5 columns):\n",
      " #   Column     Non-Null Count  Dtype \n",
      "---  ------     --------------  ----- \n",
      " 0   Titular    339 non-null    object\n",
      " 1   Link       339 non-null    object\n",
      " 2   Categoría  339 non-null    object\n",
      " 3   Fecha      339 non-null    object\n",
      " 4   Noticia    332 non-null    object\n",
      "dtypes: object(5)\n",
      "memory usage: 13.4+ KB\n"
     ]
    }
   ],
   "source": [
    "import pandas as pd\n",
    "datos = pd.read_csv('../Datos/Noticias_Conflicto y Narcotráfico.csv')\n",
    "display(datos.head(3))\n",
    "datos.info()"
   ]
  },
  {
   "cell_type": "markdown",
   "id": "b8201315-223f-4e67-a52c-0bdaa3a7beb5",
   "metadata": {},
   "source": [
    "### Hacer Embeddings"
   ]
  },
  {
   "cell_type": "code",
   "execution_count": 9,
   "id": "670a5439-954f-444a-b1bc-33e51f0eca66",
   "metadata": {},
   "outputs": [],
   "source": [
    "from sentence_transformers import SentenceTransformer, util\n",
    "model = SentenceTransformer(\"hiiamsid/sentence_similarity_spanish_es\", device='mps')"
   ]
  },
  {
   "cell_type": "code",
   "execution_count": 10,
   "id": "4f033ce5-bbfe-4d3c-ba3e-787c5ed4a16c",
   "metadata": {},
   "outputs": [
    {
     "data": {
      "application/vnd.jupyter.widget-view+json": {
       "model_id": "198e3b9299674d89ac8899ae0cbb57a4",
       "version_major": 2,
       "version_minor": 0
      },
      "text/plain": [
       "Batches:   0%|          | 0/11 [00:00<?, ?it/s]"
      ]
     },
     "metadata": {},
     "output_type": "display_data"
    }
   ],
   "source": [
    "docs = datos['Noticia'].values\n",
    "doc_emb = model.encode(docs,show_progress_bar=True)"
   ]
  },
  {
   "cell_type": "markdown",
   "id": "041b3271-fbce-4288-8483-933f0e8d5a82",
   "metadata": {},
   "source": [
    "### Guardar Embeddings"
   ]
  },
  {
   "cell_type": "code",
   "execution_count": 15,
   "id": "a8eaf4a8-95b5-4a06-9981-8ec0922af8de",
   "metadata": {},
   "outputs": [],
   "source": [
    "doc_emb_df = pd.DataFrame(doc_emb)\n",
    "doc_emb_df.to_csv('../Datos/embedding_noticias.csv',index=False)"
   ]
  },
  {
   "cell_type": "code",
   "execution_count": 16,
   "id": "316fd8db-518e-4469-a765-b00969077dd6",
   "metadata": {},
   "outputs": [
    {
     "data": {
      "text/html": [
       "<div>\n",
       "<style scoped>\n",
       "    .dataframe tbody tr th:only-of-type {\n",
       "        vertical-align: middle;\n",
       "    }\n",
       "\n",
       "    .dataframe tbody tr th {\n",
       "        vertical-align: top;\n",
       "    }\n",
       "\n",
       "    .dataframe thead th {\n",
       "        text-align: right;\n",
       "    }\n",
       "</style>\n",
       "<table border=\"1\" class=\"dataframe\">\n",
       "  <thead>\n",
       "    <tr style=\"text-align: right;\">\n",
       "      <th></th>\n",
       "      <th>0</th>\n",
       "      <th>1</th>\n",
       "      <th>2</th>\n",
       "      <th>3</th>\n",
       "      <th>4</th>\n",
       "      <th>5</th>\n",
       "      <th>6</th>\n",
       "      <th>7</th>\n",
       "      <th>8</th>\n",
       "      <th>9</th>\n",
       "      <th>...</th>\n",
       "      <th>758</th>\n",
       "      <th>759</th>\n",
       "      <th>760</th>\n",
       "      <th>761</th>\n",
       "      <th>762</th>\n",
       "      <th>763</th>\n",
       "      <th>764</th>\n",
       "      <th>765</th>\n",
       "      <th>766</th>\n",
       "      <th>767</th>\n",
       "    </tr>\n",
       "  </thead>\n",
       "  <tbody>\n",
       "    <tr>\n",
       "      <th>0</th>\n",
       "      <td>-0.519615</td>\n",
       "      <td>0.385877</td>\n",
       "      <td>0.087688</td>\n",
       "      <td>0.218916</td>\n",
       "      <td>-0.355550</td>\n",
       "      <td>0.051047</td>\n",
       "      <td>0.648467</td>\n",
       "      <td>-0.070190</td>\n",
       "      <td>0.250946</td>\n",
       "      <td>-0.187800</td>\n",
       "      <td>...</td>\n",
       "      <td>-0.033654</td>\n",
       "      <td>-0.092784</td>\n",
       "      <td>0.298336</td>\n",
       "      <td>-0.183551</td>\n",
       "      <td>-0.047961</td>\n",
       "      <td>-0.397322</td>\n",
       "      <td>-0.302257</td>\n",
       "      <td>-0.563499</td>\n",
       "      <td>0.317494</td>\n",
       "      <td>-0.046310</td>\n",
       "    </tr>\n",
       "    <tr>\n",
       "      <th>1</th>\n",
       "      <td>0.100707</td>\n",
       "      <td>0.123503</td>\n",
       "      <td>-0.152805</td>\n",
       "      <td>0.221279</td>\n",
       "      <td>-0.111441</td>\n",
       "      <td>-0.108961</td>\n",
       "      <td>0.836357</td>\n",
       "      <td>-0.217561</td>\n",
       "      <td>0.019972</td>\n",
       "      <td>-0.194761</td>\n",
       "      <td>...</td>\n",
       "      <td>-0.450655</td>\n",
       "      <td>0.109862</td>\n",
       "      <td>0.540469</td>\n",
       "      <td>0.049736</td>\n",
       "      <td>-0.475192</td>\n",
       "      <td>-0.726510</td>\n",
       "      <td>0.247290</td>\n",
       "      <td>-0.877658</td>\n",
       "      <td>0.420150</td>\n",
       "      <td>0.210882</td>\n",
       "    </tr>\n",
       "    <tr>\n",
       "      <th>2</th>\n",
       "      <td>-0.112571</td>\n",
       "      <td>0.436359</td>\n",
       "      <td>-0.205737</td>\n",
       "      <td>0.257501</td>\n",
       "      <td>-0.019994</td>\n",
       "      <td>-0.082996</td>\n",
       "      <td>0.493205</td>\n",
       "      <td>-0.154947</td>\n",
       "      <td>0.134967</td>\n",
       "      <td>0.086203</td>\n",
       "      <td>...</td>\n",
       "      <td>0.163844</td>\n",
       "      <td>0.052311</td>\n",
       "      <td>1.056586</td>\n",
       "      <td>-0.016971</td>\n",
       "      <td>0.006920</td>\n",
       "      <td>0.007541</td>\n",
       "      <td>-0.644325</td>\n",
       "      <td>-0.582835</td>\n",
       "      <td>0.224875</td>\n",
       "      <td>0.490383</td>\n",
       "    </tr>\n",
       "    <tr>\n",
       "      <th>3</th>\n",
       "      <td>-0.125461</td>\n",
       "      <td>0.145932</td>\n",
       "      <td>-0.063221</td>\n",
       "      <td>0.310446</td>\n",
       "      <td>-0.202635</td>\n",
       "      <td>0.021546</td>\n",
       "      <td>0.880170</td>\n",
       "      <td>-0.584733</td>\n",
       "      <td>-0.075835</td>\n",
       "      <td>-0.253557</td>\n",
       "      <td>...</td>\n",
       "      <td>-0.095209</td>\n",
       "      <td>-0.154011</td>\n",
       "      <td>0.467909</td>\n",
       "      <td>-0.305649</td>\n",
       "      <td>-0.092460</td>\n",
       "      <td>-0.566371</td>\n",
       "      <td>0.298161</td>\n",
       "      <td>-0.762232</td>\n",
       "      <td>0.296389</td>\n",
       "      <td>0.387230</td>\n",
       "    </tr>\n",
       "    <tr>\n",
       "      <th>4</th>\n",
       "      <td>-0.494786</td>\n",
       "      <td>0.129931</td>\n",
       "      <td>0.320343</td>\n",
       "      <td>0.275328</td>\n",
       "      <td>-0.733692</td>\n",
       "      <td>0.194770</td>\n",
       "      <td>0.527323</td>\n",
       "      <td>0.063607</td>\n",
       "      <td>-0.574659</td>\n",
       "      <td>-0.007934</td>\n",
       "      <td>...</td>\n",
       "      <td>-0.049321</td>\n",
       "      <td>-0.468228</td>\n",
       "      <td>0.565944</td>\n",
       "      <td>-0.185304</td>\n",
       "      <td>-0.262083</td>\n",
       "      <td>-0.536035</td>\n",
       "      <td>-0.151690</td>\n",
       "      <td>-0.197216</td>\n",
       "      <td>0.195686</td>\n",
       "      <td>-0.081830</td>\n",
       "    </tr>\n",
       "  </tbody>\n",
       "</table>\n",
       "<p>5 rows × 768 columns</p>\n",
       "</div>"
      ],
      "text/plain": [
       "        0         1         2         3         4         5         6    \\\n",
       "0 -0.519615  0.385877  0.087688  0.218916 -0.355550  0.051047  0.648467   \n",
       "1  0.100707  0.123503 -0.152805  0.221279 -0.111441 -0.108961  0.836357   \n",
       "2 -0.112571  0.436359 -0.205737  0.257501 -0.019994 -0.082996  0.493205   \n",
       "3 -0.125461  0.145932 -0.063221  0.310446 -0.202635  0.021546  0.880170   \n",
       "4 -0.494786  0.129931  0.320343  0.275328 -0.733692  0.194770  0.527323   \n",
       "\n",
       "        7         8         9    ...       758       759       760       761  \\\n",
       "0 -0.070190  0.250946 -0.187800  ... -0.033654 -0.092784  0.298336 -0.183551   \n",
       "1 -0.217561  0.019972 -0.194761  ... -0.450655  0.109862  0.540469  0.049736   \n",
       "2 -0.154947  0.134967  0.086203  ...  0.163844  0.052311  1.056586 -0.016971   \n",
       "3 -0.584733 -0.075835 -0.253557  ... -0.095209 -0.154011  0.467909 -0.305649   \n",
       "4  0.063607 -0.574659 -0.007934  ... -0.049321 -0.468228  0.565944 -0.185304   \n",
       "\n",
       "        762       763       764       765       766       767  \n",
       "0 -0.047961 -0.397322 -0.302257 -0.563499  0.317494 -0.046310  \n",
       "1 -0.475192 -0.726510  0.247290 -0.877658  0.420150  0.210882  \n",
       "2  0.006920  0.007541 -0.644325 -0.582835  0.224875  0.490383  \n",
       "3 -0.092460 -0.566371  0.298161 -0.762232  0.296389  0.387230  \n",
       "4 -0.262083 -0.536035 -0.151690 -0.197216  0.195686 -0.081830  \n",
       "\n",
       "[5 rows x 768 columns]"
      ]
     },
     "execution_count": 16,
     "metadata": {},
     "output_type": "execute_result"
    }
   ],
   "source": [
    "doc_emb_df.head()"
   ]
  },
  {
   "cell_type": "markdown",
   "id": "6ffb9165-f94f-447f-8202-46af8afbf714",
   "metadata": {
    "tags": []
   },
   "source": [
    "### Construir Dash"
   ]
  },
  {
   "cell_type": "code",
   "execution_count": null,
   "id": "d3276de8-49d0-405f-ba99-33e359183ff9",
   "metadata": {
    "tags": []
   },
   "outputs": [
    {
     "name": "stdout",
     "output_type": "stream",
     "text": [
      "Dash is running on http://127.0.0.1:8050/\n",
      "\n",
      " * Serving Flask app '__main__'\n",
      " * Debug mode: on\n"
     ]
    }
   ],
   "source": [
    "import re\n",
    "import dash\n",
    "import pandas as pd\n",
    "from dash import dcc\n",
    "from dash import html\n",
    "from dash import dash_table\n",
    "from dash.exceptions import PreventUpdate\n",
    "from dash.dependencies import Input, Output, State\n",
    "from sentence_transformers import SentenceTransformer, util\n",
    "\n",
    "\n",
    "model = SentenceTransformer(\"hiiamsid/sentence_similarity_spanish_es\", device='mps')\n",
    "doc_emb = pd.read_csv('../Datos/embedding_noticias.csv',dtype='float32').values\n",
    "\n",
    "datos = pd.read_csv('../Datos/Noticias_Conflicto y Narcotráfico.csv')\n",
    "\n",
    "tit = datos[\"Titular\"]\n",
    "link = datos[\"Link\"]\n",
    "cat = datos[\"Categoría\"]\n",
    "fecha = datos[\"Fecha\"]\n",
    "noti = datos[\"Noticia\"]\n",
    "\n",
    "def Responder(Consulta):\n",
    "    \n",
    "    query_emb = model.encode(Consulta)\n",
    "\n",
    "    #Compute dot score between query and all document embeddings\n",
    "    scores = util.cos_sim(query_emb, doc_emb)[0].cpu().tolist()\n",
    "\n",
    "    #Combine docs & scores\n",
    "    doc_score_pairs = list(zip(tit,link,cat,fecha,noti,scores))\n",
    "\n",
    "    #Sort by decreasing score\n",
    "    doc_score_pairs = sorted(doc_score_pairs, key=lambda x: x[5], reverse=True)\n",
    "\n",
    "    #Output passages & scores\n",
    "    doc_score_pairs_df = pd.DataFrame(doc_score_pairs, columns=['Titular','Link','Categoría','Fecha','Noticia','Score'])\n",
    "    return doc_score_pairs_df\n",
    "\n",
    "##### DASH #####\n",
    "external_stylesheets = [\n",
    "    {\n",
    "        \"href\": \"https://fonts.googleapis.com/css2?\"\n",
    "                \"family=Lato:wght@400;700&display=swap\",\n",
    "        \"rel\": \"stylesheet\",\n",
    "    },\n",
    "]\n",
    "# Define the Dash app\n",
    "app = dash.Dash(__name__,external_stylesheets=external_stylesheets)\n",
    "\n",
    "app.layout = html.Div([\n",
    "    html.H1('Mi Dashboard', className=\"header-title\"),\n",
    "    html.Br(),\n",
    "    html.P(\n",
    "    children=\"Buscador Semántico de Noticias\"\n",
    "    \" usando Modelos de Lenguaje Natural.\"\n",
    "    \" Hecho por Aprendizaje Profundo.\",\n",
    "    className=\"header-description\",\n",
    "    ),\n",
    "    html.Br(),\n",
    "    html.Div(\n",
    "        \n",
    "        html.Center([\n",
    "        dcc.Input(\n",
    "            id='input_text',\n",
    "            type='text',\n",
    "            placeholder = 'Consulta',\n",
    "            style={'width': '500px','justifyContent':'center'},\n",
    "            className=\"input-description\"\n",
    "        ),\n",
    "        html.Button(\n",
    "            'Buscar',\n",
    "            id='submit_button',\n",
    "            \n",
    "        ),\n",
    "                    ])\n",
    "          ),\n",
    "    html.Br(),\n",
    "    html.Div([\n",
    "        dash_table.DataTable(\n",
    "            id='table',\n",
    "            row_selectable='multi',\n",
    "            selected_rows=[],\n",
    "            page_size=10,\n",
    "            style_table={'overflowX': 'auto'},\n",
    "            style_cell={\n",
    "            # all three widths are needed\n",
    "            'textAlign': 'left',\n",
    "                \n",
    "            #'minHeight': '100px',\n",
    "            'height': 'auto',\n",
    "            #'maxHeight': '280px',\n",
    "                \n",
    "            'minWidth': '10px', \n",
    "            'width': '180px',\n",
    "            'maxWidth': '380px',\n",
    "            'whiteSpace': 'nowrap',\n",
    "            #\"overflow\": \"hidden\",\n",
    "            \"textOverflow\": \"ellipsis\",\n",
    "            },\n",
    "            \n",
    "            fixed_rows= {'headers':True,'data':0},\n",
    "            \n",
    "            style_data_conditional=[\n",
    "            {'height': '20%',\n",
    "                'if': {'row_index': 'odd'},\n",
    "                'backgroundColor': 'rgb(248, 248, 248)'\n",
    "            }\n",
    "                                    ],\n",
    "          style_header={\n",
    "            'backgroundColor': 'rgb(230, 230, 230)',\n",
    "            'fontWeight': 'bold'\n",
    "        }\n",
    "        )\n",
    "    ]),\n",
    "    html.Br(),\n",
    "    html.Div([\n",
    "        html.Div(id='selected_texts', style={'white-space': 'pre-wrap'},\n",
    "                 className=\"output-description\")\n",
    "    ]),\n",
    "])\n",
    "\n",
    "@app.callback(\n",
    "    Output('table', 'data'),\n",
    "    [Input('submit_button', 'n_clicks')],\n",
    "    [State('input_text', 'value')]\n",
    ")\n",
    "def update_table(n_clicks, input_text):\n",
    "    if input_text is not None:\n",
    "        df = Responder(input_text)\n",
    "        return df.to_dict('records')\n",
    "\n",
    "@app.callback(\n",
    "    Output('selected_texts', 'children'),\n",
    "    [Input('table', 'selected_rows')],\n",
    "    [State('table', 'data')],\n",
    "    \n",
    ")\n",
    "def display_selected_texts(selected_rows, data):\n",
    "    \n",
    "    if data is not None:   \n",
    "        data = pd.DataFrame.from_dict(data)\n",
    "        selected_data = data.loc[selected_rows, 'Noticia']\n",
    "        texts = selected_data.str.replace(r'\\s+', ' ',regex=True)\n",
    "        texts = texts.str.replace(' \\n ', \"\\n\\n\",regex=True)\n",
    "        texts = texts.str.replace(' \\n', \"\\n\\n\",regex=True)\n",
    "        texts = re.sub(\"\\[|\\]|\\'\",'',str(selected_data.values))\n",
    "        texts = texts.replace('\\\\n', \"\\n\")\n",
    "        texts = texts.replace('\\n ', \"\\n\\n\")\n",
    "        #print(texts)\n",
    "        return html.Div(texts, style={'white-space': 'pre-wrap'})\n",
    "\n",
    "app.run(debug=True, use_reloader=False)"
   ]
  }
 ],
 "metadata": {
  "kernelspec": {
   "display_name": "Python 3 (ipykernel)",
   "language": "python",
   "name": "python3"
  },
  "language_info": {
   "codemirror_mode": {
    "name": "ipython",
    "version": 3
   },
   "file_extension": ".py",
   "mimetype": "text/x-python",
   "name": "python",
   "nbconvert_exporter": "python",
   "pygments_lexer": "ipython3",
   "version": "3.8.15"
  }
 },
 "nbformat": 4,
 "nbformat_minor": 5
}
