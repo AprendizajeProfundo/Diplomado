{
 "cells": [
  {
   "cell_type": "markdown",
   "metadata": {},
   "source": [
    "**Diplomado en Inteligencia Artificial y Aprendizaje Profundo**"
   ]
  },
  {
   "cell_type": "markdown",
   "metadata": {},
   "source": [
    "# Sesión Inagural"
   ]
  },
  {
   "cell_type": "markdown",
   "metadata": {},
   "source": [
    "##  Autores"
   ]
  },
  {
   "cell_type": "markdown",
   "metadata": {},
   "source": [
    "1. Alvaro Mauricio Montenegro Díaz, ammontenegrod@unal.edu.co\n",
    "2. Daniel Mauricio Montenegro Reyes, dextronomo@gmail.com \n",
    "3. Oleg Jarma, ojarmam@unal.edu.co \n",
    "4. Maria del Pilar Montenegro, pmontenegro88@gmail.com "
   ]
  },
  {
   "cell_type": "markdown",
   "metadata": {},
   "source": [
    "## Contenido"
   ]
  },
  {
   "cell_type": "markdown",
   "metadata": {},
   "source": [
    "1. Bienvenida\n",
    "\n",
    "  * [Bienvenida](https://www.youtube.com/channel/UCxYDzM2_Fni3KNnyWMPCuUQ)\n",
    "  * [Instalación de Anaconda](https://www.youtube.com/watch?v=yKG-bzLZxyI)\n",
    "  * [Oleg y la IA](https://www.youtube.com/watch?v=jK7Y4GsNpa8)\n",
    "\n",
    "2. Aprendizaje Profundo \n",
    "\n",
    "  * [Autoencoders](#Autoencoders)\n",
    "  * [Procesamiento de Lenguaje Natural](#Procesamiento-de-Lenguaje-Natural)\n",
    "  * [Tratamiento de imagenes](#Tratamiento-de-Imagenes)\n",
    "  * [Información Recurrente](#Información-recurrente.-Redes-Recurrentes)\n"
   ]
  },
  {
   "cell_type": "markdown",
   "metadata": {},
   "source": [
    "## Autoencoders"
   ]
  },
  {
   "cell_type": "markdown",
   "metadata": {},
   "source": [
    "### Concepto"
   ]
  },
  {
   "cell_type": "markdown",
   "metadata": {},
   "source": [
    "<figure>\n",
    "<center>\n",
    "<img src=\"../Imagenes/autoencoder_intro.png\" width=\"600\" height=\"400\" align=\"center\"/>\n",
    "</center>\n",
    "<figcaption>\n",
    "<p style=\"text-align:center\">Arquitectura un autoencoder/p>\n",
    "</figcaption>\n",
    "</figure>\n",
    "\n",
    "Fuente: A. Montenegro"
   ]
  },
  {
   "cell_type": "markdown",
   "metadata": {},
   "source": [
    "### Ejemplo. codificación-decodificación (MNIST data)"
   ]
  },
  {
   "cell_type": "markdown",
   "metadata": {},
   "source": [
    "<figure>\n",
    "<center>\n",
    "<img src=\"../Imagenes/input_and_decoded.png\" width=\"600\" height=\"400\" align=\"center\"/>\n",
    "</center>\n",
    "<figcaption>\n",
    "<p style=\"text-align:center\">Codificación-decodificación de dígitos /p>\n",
    "</figcaption>\n",
    "</figure>\n",
    "\n",
    "Fuente: A. Montenegro"
   ]
  },
  {
   "cell_type": "markdown",
   "metadata": {},
   "source": [
    "### Espacio latente de codificación"
   ]
  },
  {
   "cell_type": "markdown",
   "metadata": {},
   "source": [
    "<figure>\n",
    "<center>\n",
    "<img src=\"../Imagenes/latent_2D_space_minist.png\"  align=\"center\"/>\n",
    "</center>\n",
    "<figcaption>\n",
    "<p style=\"text-align:center\">Espacio latente de codificación de los dígitos/p>\n",
    "</figcaption>\n",
    "</figure>\n",
    "\n",
    "Fuente: A. Montenegro"
   ]
  },
  {
   "cell_type": "markdown",
   "metadata": {},
   "source": [
    "### Reconstrucción: coloración"
   ]
  },
  {
   "cell_type": "markdown",
   "metadata": {},
   "source": [
    "\n",
    "<figure>\n",
    "<center>\n",
    "<img src=\"../Imagenes/gray_color_mayon.png\" width=\"600\" height=\"400\" align=\"center\"/>\n",
    "</center>\n",
    "<figcaption>\n",
    "<p style=\"text-align:center\">Coloración de imágenes /p>\n",
    "</figcaption>\n",
    "</figure>\n",
    "\n",
    "Fuente: [Rowel Atienza](https://www.packtpub.com/product/advanced-deep-learning-with-tensorflow-2-and-keras-second-edition/9781838821654)"
   ]
  },
  {
   "cell_type": "markdown",
   "metadata": {},
   "source": [
    "### Eliminación de ruido"
   ]
  },
  {
   "cell_type": "markdown",
   "metadata": {},
   "source": [
    "\n",
    "<figure>\n",
    "<center>\n",
    "<img src=\"../Imagenes/corrupted_and_denoised_std_pt75.png\" width=\"600\" height=\"400\" align=\"center\"/>\n",
    "</center>\n",
    "<figcaption>\n",
    "<p style=\"text-align:center\">Eliminación de ruido/p>\n",
    "</figcaption>\n",
    "</figure>\n",
    "\n",
    "Fuente: [Rowel Atienza](https://www.packtpub.com/product/advanced-deep-learning-with-tensorflow-2-and-keras-second-edition/9781838821654)\n"
   ]
  },
  {
   "cell_type": "markdown",
   "metadata": {},
   "source": [
    "- [Regresar al inicio](#Contenido)"
   ]
  },
  {
   "cell_type": "markdown",
   "metadata": {},
   "source": [
    "## Procesamiento de Lenguaje Natural"
   ]
  },
  {
   "cell_type": "markdown",
   "metadata": {},
   "source": [
    "### Análisis de sentimiento. Minería de Redes sociales"
   ]
  },
  {
   "cell_type": "markdown",
   "metadata": {},
   "source": [
    "\n",
    "<figure>\n",
    "<center>\n",
    "<img src=\"../Imagenes/results___11_1.png\" width=\"800\" height=\"600\" align=\"center\"/>\n",
    "</center>\n",
    "<figcaption>\n",
    "<p style=\"text-align:center\">Análisis de Sentimientos  frente a aerolíneas/p>\n",
    "</figcaption>\n",
    "</figure>\n",
    "\n",
    "Fuente: [Predict-the-sentiment-by-tweets](https://www.kaggle.com/jiashenliu/how-can-we-predict-the-sentiment-by-tweets)"
   ]
  },
  {
   "cell_type": "markdown",
   "metadata": {},
   "source": [
    "### Predicción de palabras con contexto"
   ]
  },
  {
   "cell_type": "markdown",
   "metadata": {},
   "source": [
    "<figure>\n",
    "<center>\n",
    "<img src=\"../Imagenes/razon.png\" width=\"800\" height=\"600\" align=\"center\"/>\n",
    "</center>\n",
    "<figcaption>\n",
    "<p style=\"text-align:center\"> </p>\n",
    "</figcaption>\n",
    "</figure>\n",
    "\n",
    "Fuente: [Predict-the-sentiment-by-tweets](https://www.kaggle.com/jiashenliu/how-can-we-predict-the-sentiment-by-tweets)"
   ]
  },
  {
   "cell_type": "markdown",
   "metadata": {},
   "source": [
    "### Análisis de sentimiento, clientes Amazon (hablando con Alexa)"
   ]
  },
  {
   "cell_type": "markdown",
   "metadata": {},
   "source": [
    "<figure>\n",
    "<center>\n",
    "<img src=\"../Imagenes/Sentiment_Analysys_stars.png\" width=\"800\" height=\"600\" align=\"center\"/>\n",
    "</center>\n",
    "<figcaption>\n",
    "<p style=\"text-align:center\"> </p>\n",
    "</figcaption>\n",
    "</figure>\n",
    "\n",
    "Fuente: Amazon"
   ]
  },
  {
   "cell_type": "markdown",
   "metadata": {},
   "source": [
    "### Análisis de sentimiento, clientes Trip advisor"
   ]
  },
  {
   "cell_type": "markdown",
   "metadata": {},
   "source": [
    "<figure>\n",
    "<center>\n",
    "<img src=\"../Imagenes/Sentiment_Analysys_Trip_Advisor.png\" width=\"800\" height=\"600\" align=\"center\"/>\n",
    "</center>\n",
    "<figcaption>\n",
    "<p style=\"text-align:center\"> </p>\n",
    "</figcaption>\n",
    "</figure>\n",
    "\n",
    "Fuente: Trip Advisor"
   ]
  },
  {
   "cell_type": "markdown",
   "metadata": {},
   "source": [
    "###  Incrustación de palabras (embbeding)"
   ]
  },
  {
   "cell_type": "markdown",
   "metadata": {},
   "source": [
    "\n",
    "<figure>\n",
    "<center>\n",
    "<img src=\"../Imagenes/CBOW.png\" width=\"300\" height=\"200\" align=\"center\"/>\n",
    "</center>\n",
    "<figcaption>\n",
    "<p style=\"text-align:center\">Arquitectura del modelo Bolsa continua de palabras (CBOW)</p>\n",
    "</figcaption>\n",
    "</figure>\n",
    "\n",
    "Fuente: \n",
    "[Efficient Estimation of Word Representations in Vector space](https://arxiv.org/pdf/1301.3781.pdf)"
   ]
  },
  {
   "cell_type": "markdown",
   "metadata": {},
   "source": [
    "\n",
    "<figure>\n",
    "<center>\n",
    "<img src=\"../Images/CBOW_net_arq.png\" width=\"500\" height=\"400\" align=\"center\"/>\n",
    "</center>\n",
    "<figcaption>\n",
    "<p style=\"text-align:center\">Arquitectura la red profuena para estimar las coordenadas de las palabras (CBOW)</p>\n",
    "</figcaption>\n",
    "</figure>\n",
    "\n",
    "Fuente [word2vec](https://towardsdatascience.com/understanding-feature-engineering-part-4-deep-learning-methods-for-text-data-96c44370bbfa)"
   ]
  },
  {
   "cell_type": "markdown",
   "metadata": {},
   "source": [
    "### Arquitectura neuronal CBOW"
   ]
  },
  {
   "cell_type": "markdown",
   "metadata": {},
   "source": [
    "\n",
    "<figure>\n",
    "<center>\n",
    "<img src=\"../Imagenes/CBOW_net_arq.png\" width=\"500\" height=\"400\" align=\"center\"/>\n",
    "</center>\n",
    "<figcaption>\n",
    "<p style=\"text-align:center\">Arquitectura la red profunda para estimar las coordenadas de las palabras (CBOW)</p>\n",
    "</figcaption>\n",
    "</figure>\n",
    "\n",
    "Fuente [word2vec](https://towardsdatascience.com/understanding-feature-engineering-part-4-deep-learning-methods-for-text-data-96c44370bbfa)"
   ]
  },
  {
   "cell_type": "markdown",
   "metadata": {},
   "source": [
    "### Predicción de palabras. La biblia del rey Santiago"
   ]
  },
  {
   "cell_type": "markdown",
   "metadata": {},
   "source": [
    "Context (X): ['old', 'testament', 'james', 'bible'] -> Target (Y): king\n",
    "\n",
    "Context (X): ['first', 'book', 'called', 'genesis'] -> Target (Y): moses\n",
    "\n",
    "Context (X): ['beginning', 'god', 'heaven', 'earth'] -> Target (Y): created\n",
    "\n",
    "Context (X): ['earth', 'without', 'void', 'darkness'] -> Target (Y): form\n",
    "\n",
    "Context (X): ['without', 'form', 'darkness', 'upon'] -> Target (Y): void\n",
    "\n",
    "Context (X): ['form', 'void', 'upon', 'face'] -> Target (Y): darkness\n",
    "\n",
    "Context (X): ['void', 'darkness', 'face', 'deep'] -> Target (Y): upon\n",
    "\n",
    "Context (X): ['spirit', 'god', 'upon', 'face'] -> Target (Y): moved\n",
    "\n",
    "Context (X): ['god', 'moved', 'face', 'waters'] -> Target (Y): upon\n",
    "\n",
    "Context (X): ['god', 'said', 'light', 'light'] -> Target (Y): let\n",
    "\n",
    "Context (X): ['god', 'saw', 'good', 'god'] -> Target (Y): light"
   ]
  },
  {
   "cell_type": "markdown",
   "metadata": {},
   "source": [
    "- [Regresar al inicio](#Contenido)"
   ]
  },
  {
   "cell_type": "markdown",
   "metadata": {},
   "source": [
    "## Tratamiento de Imagenes"
   ]
  },
  {
   "cell_type": "markdown",
   "metadata": {},
   "source": [
    "### Redes Convolucionales Profundas"
   ]
  },
  {
   "cell_type": "markdown",
   "metadata": {},
   "source": [
    "\n",
    "<figure>\n",
    "<center>\n",
    "<img src=\"../Imagenes/Convolution_discrete.png\" width=\"500\" height=\"400\" align=\"center\"/>\n",
    "</center>\n",
    "<figcaption>\n",
    "<p style=\"text-align:center\">Convolución</p>\n",
    "</figcaption>\n",
    "</figure>\n",
    "\n",
    "Fuente:"
   ]
  },
  {
   "cell_type": "markdown",
   "metadata": {},
   "source": [
    "http://deeplearning.net/software/theano/tutorial/conv_arithmetic.html\n",
    "\n",
    "<figure>\n",
    "<center>\n",
    "<img src=\"../Imagenes/no_padding_no_strides.gif\" width=\"300\" height=\"200\" align=\"center\"/>\n",
    "</center>\n",
    "<figcaption>\n",
    "<p style=\"text-align:center\">Convolución</p>\n",
    "</figcaption>\n",
    "</figure>\n"
   ]
  },
  {
   "cell_type": "markdown",
   "metadata": {},
   "source": [
    "<figure>\n",
    "<center>\n",
    "<img src=\"../Imagenes/cnn-procedure.png\" width=\"600\" height=\"600\" align=\"center\"/>\n",
    "</center>\n",
    "<figcaption>\n",
    "<p style=\"text-align:center\">Red Neuronal Convolucionada típica</p>\n",
    "</figcaption>\n",
    "</figure>"
   ]
  },
  {
   "cell_type": "markdown",
   "metadata": {},
   "source": [
    "### Imagenes Cifar 100"
   ]
  },
  {
   "cell_type": "markdown",
   "metadata": {},
   "source": [
    "\n",
    "<figure>\n",
    "<center>\n",
    "<img src=\"../Imagenes/Cifar100.png\" width=\"800\" height=\"800\" align=\"center\"/>\n",
    "</center>\n",
    "<figcaption>\n",
    "<p style=\"text-align:center\">Imagenes Cifar 100</p>\n",
    "</figcaption>\n",
    "</figure>"
   ]
  },
  {
   "cell_type": "markdown",
   "metadata": {},
   "source": [
    "- [Regresar al inicio](#Contenido)"
   ]
  },
  {
   "cell_type": "markdown",
   "metadata": {},
   "source": [
    "## Información recurrente. Redes Recurrentes"
   ]
  },
  {
   "cell_type": "markdown",
   "metadata": {},
   "source": [
    "### Arquitectura LSTM (Redes con memoria a corto y largo plazo)"
   ]
  },
  {
   "cell_type": "markdown",
   "metadata": {},
   "source": [
    "\n",
    "<figure>\n",
    "<center>\n",
    "<img src=\"../Imagenes/RNN-longtermdependencies.png\" width=\"600\" height=\"600\" align=\"center\"/>\n",
    "</center>\n",
    "<figcaption>\n",
    "<p style=\"text-align:center\">Red Neuronal Convolucionada típica</p>\n",
    "</figcaption>\n",
    "</figure>"
   ]
  },
  {
   "cell_type": "markdown",
   "metadata": {},
   "source": [
    "\n",
    "<figure>\n",
    "<center>\n",
    "<img src=\"../Imagenes/Apple_prediction.png\" width=\"800\" height=\"600\" align=\"center\"/>\n",
    "</center>\n",
    "<figcaption>\n",
    "<p style=\"text-align:center\">Red Neuronal Convolucionada típica</p>\n",
    "</figcaption>\n",
    "</figure>\n",
    "\n",
    "Fuente: A. Montenegro"
   ]
  },
  {
   "cell_type": "markdown",
   "metadata": {},
   "source": [
    "Fuente [Google](https://www.google.com/search?q=cifar+100+images&tbm=isch&source=iu&ictx=1&fir=xKqd5EXa8svvXM%252CPjvrcu_M2E7jyM%252C_&vet=1&usg=AI4_-kR97kT4oCXfPbQ2V3yQOut7FeCFnQ&sa=X&ved=2ahUKEwi84bPTkMvrAhXEzVkKHeb5B-EQ9QF6BAgKECE&biw=1366&bih=592#imgrc=uqA_dvgQFwhrzM)"
   ]
  },
  {
   "cell_type": "markdown",
   "metadata": {},
   "source": [
    "- [Regresar al inicio](#Contenido)"
   ]
  }
 ],
 "metadata": {
  "kernelspec": {
   "display_name": "Python 3",
   "language": "python",
   "name": "python3"
  },
  "language_info": {
   "codemirror_mode": {
    "name": "ipython",
    "version": 3
   },
   "file_extension": ".py",
   "mimetype": "text/x-python",
   "name": "python",
   "nbconvert_exporter": "python",
   "pygments_lexer": "ipython3",
   "version": "3.7.7"
  },
  "toc-autonumbering": false
 },
 "nbformat": 4,
 "nbformat_minor": 4
}
