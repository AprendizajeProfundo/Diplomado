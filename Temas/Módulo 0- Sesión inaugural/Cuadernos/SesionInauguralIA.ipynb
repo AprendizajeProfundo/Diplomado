{
 "cells": [
  {
   "cell_type": "markdown",
   "metadata": {},
   "source": [
    "**Diplomado en Inteligencia Artificial y Aprendizaje Profundo**"
   ]
  },
  {
   "cell_type": "markdown",
   "metadata": {},
   "source": [
    "# Sesión Inagural"
   ]
  },
  {
   "cell_type": "markdown",
   "metadata": {},
   "source": [
    "##  Autores"
   ]
  },
  {
   "cell_type": "markdown",
   "metadata": {},
   "source": [
    "1. Alvaro Mauricio Montenegro Díaz, ammontenegrod@unal.edu.co\n",
    "2. Daniel Mauricio Montenegro Reyes, dextronomo@gmail.com \n",
    "3. Oleg Jarma, ojarmam@unal.edu.co\n",
    "4. María del Pilar Montenegro Reyes, pmontenegro88@gmail.com"
   ]
  },
  {
   "cell_type": "markdown",
   "metadata": {},
   "source": [
    "## Contenido"
   ]
  },
  {
   "cell_type": "markdown",
   "metadata": {},
   "source": [
    "3. [Inteligencia Artificial](#Inteligencia-Artificial)\n",
    "\n",
    "    * [BlenderBot (Facebook)](#BlenderBot)\n",
    "        \n",
    "    * [OpenAI](#OpenAI)\n",
    "        \n",
    "        - [GPT-3](#GPT-3)\n",
    "        - [Jukebox](#Jukebox)\n",
    "        - [Hide and Seek](#Hide-and-Seek)\n",
    "        - [Faces](#Personas)<br></br>\n",
    "        \n",
    "    - [Obama Breaknews](#¿Asustado?-¡Hay-más!)\n",
    "    \n",
    "    - [El Mito de Sophia](#El-Mito-de-Sophia)"
   ]
  },
  {
   "cell_type": "markdown",
   "metadata": {},
   "source": [
    "# Inteligencia Artificial"
   ]
  },
  {
   "cell_type": "markdown",
   "metadata": {},
   "source": [
    "## Concepto"
   ]
  },
  {
   "cell_type": "markdown",
   "metadata": {},
   "source": [
    "**¿Qué es la inteligencia artificial?**\n",
    "\n",
    "[**¿Es verdad lo que dicen en las noticias sobre IA?**](https://youtu.be/PbS9h1scD6Q)\n",
    "\n",
    "**¿Puede una máquina pensar?**\n",
    "\n",
    "**[¿Es el fin de la humanidad?](https://www.forbes.com/real-time-billionaires/#a055b03d788b)**\n",
    "\n",
    "[[Volver]](#Contenido)"
   ]
  },
  {
   "cell_type": "markdown",
   "metadata": {},
   "source": [
    "## Blenderbot"
   ]
  },
  {
   "cell_type": "markdown",
   "metadata": {},
   "source": [
    "¿Quieres hablar con alguien que ni te juzge ni te responda con opciones por defecto?\n",
    "\n",
    "**Te presento a [BlenderBot](https://drive.google.com/file/d/1U3JNAs_NGeBZbpYKET_w_Xynzjb7oQi5/view?usp=sharing)**\n",
    "\n",
    "![Blender](https://i1.wp.com/www.diegocoquillat.com/wp-content/uploads/2018/10/Chatbots-los-nuevos-aliados-de-los-restaurantes.gif?fit=702%2C336&ssl=1)\n",
    "\n",
    "Fuente: [Blog Megacursos](https://blog.megacursos.com/2020/04/facebook-presenta-blender-un-chatbot-con-habilidades-humanas/)"
   ]
  },
  {
   "cell_type": "markdown",
   "metadata": {},
   "source": [
    "## OpenAI"
   ]
  },
  {
   "cell_type": "markdown",
   "metadata": {},
   "source": [
    "### Concepto"
   ]
  },
  {
   "cell_type": "markdown",
   "metadata": {},
   "source": [
    "OpenAI es una empresa creada por **Elon Musk**\n",
    "\n",
    "![Elon](https://engineeredtruth.com/wp-content/uploads/2017/08/1422536163519.jpg)\n",
    "\n",
    "Fuente: https://engineeredtruth.com/11-lessons-elon-musk/\n",
    "\n",
    "**¿Por qué tan famoso?**\n",
    "\n",
    "- [PayPal (Cofundador)](https://www.paypal.com/co/home)\n",
    "- [SpaceX](https://www.spacex.com/)\n",
    "    - [Hyperloop](https://es.wikipedia.org/wiki/Hyperloop)\n",
    "- [Tesla Motors](https://www.tesla.com/)\n",
    "- [Neuralink](https://neuralink.com/)\n",
    "- [OpenAI](https://openai.com/)\n",
    "- [Solarcity](https://www.tesla.com/solarpanels?energy_redirect=true)\n",
    "\n",
    "...\n",
    "\n",
    "La lista sigue...\n",
    "\n",
    "![Richest](https://images.indianexpress.com/2021/01/Elon-Musk.jpg)"
   ]
  },
  {
   "cell_type": "markdown",
   "metadata": {},
   "source": [
    "### GPT-3\n",
    "\n",
    "Más, chatbots... Pero esta vez...**¿Saben programar?**\n",
    "\n",
    "[![Neuralink](https://www.analyticssteps.com/backend/media/thumbnail/5988441/5019647_1591793496_Untitled-1%20(2).jpg)](https://www.xataka.com/robotica-e-ia/gpt-3-nuevo-modelo-lenguaje-openai-capaz-programar-disenar-conversar-politica-economia)\n",
    "\n",
    "[Pide Acceso](https://beta.openai.com/?demo=5)\n",
    "\n",
    "Fuente: [Xataka](https://www.xataka.com/robotica-e-ia/gpt-3-nuevo-modelo-lenguaje-openai-capaz-programar-disenar-conversar-politica-economia)"
   ]
  },
  {
   "cell_type": "markdown",
   "metadata": {},
   "source": [
    "### Jukebox"
   ]
  },
  {
   "cell_type": "markdown",
   "metadata": {},
   "source": [
    "¿Generación de canciones automáticas?"
   ]
  },
  {
   "cell_type": "markdown",
   "metadata": {},
   "source": [
    "[![Jukebox](https://cdn.computerhoy.com/sites/navi.axelspringer.es/public/styles/480/public/media/image/2020/05/inteligencia-artificial-openai-ya-compone-canciones-suenan-como-sinatra-katy-perry-elvis-presley-1933931.jpg?itok=bdb8nbls)](https://openai.com/blog/jukebox/)\n",
    "\n",
    "Fuente:  [Computer Hoy](https://cdn.computerhoy.com/sites/navi.axelspringer.es/public/styles/1200/public/media/image/2020/05/inteligencia-artificial-openai-ya-compone-canciones-suenan-como-sinatra-katy-perry-elvis-presley-1933931.jpg?itok=oE8ErHL4)"
   ]
  },
  {
   "cell_type": "markdown",
   "metadata": {},
   "source": [
    "###  Hide and Seek"
   ]
  },
  {
   "cell_type": "markdown",
   "metadata": {},
   "source": [
    "¡Juguemos a las escondidas!\n",
    "\n",
    "[![Hide and Seek](https://packagingindustryreports.com/wp-content/uploads/2019/09/OpenAI-Test-Proves-That-Even-Bots-Can-Cheat-During-Hide-And-Seek-675x450.jpg)](https://openai.com/blog/emergent-tool-use/)\n",
    "\n",
    "Fuente: \n",
    "[OpenAI Test Proves That Even Bots Can Cheat During Hide-And-Seek](https://packagingindustryreports.com/wp-content/uploads/2019/09/OpenAI-Test-Proves-That-Even-Bots-Can-Cheat-During-Hide-And-Seek-675x450.jpg)"
   ]
  },
  {
   "cell_type": "markdown",
   "metadata": {},
   "source": [
    "### Personas"
   ]
  },
  {
   "cell_type": "markdown",
   "metadata": {},
   "source": [
    "**¿Qué tienen en común TODAS las siguientes personas?**\n",
    "\n",
    "[**¡Voten Ya!**](https://docs.google.com/forms/d/e/1FAIpQLScp0wp-VULlUwC6fd4kxsoM7GM4pH_O2RjKI4TSst4f8E2yXw/viewform)\n",
    "\n",
    "![Fake Faces](https://miro.medium.com/max/700/1*Tfm4R3OS9GmXdOvR_mmDKw.png)\n",
    "\n",
    "Fuente: [\"..People, Cars, and Cats\"](https://towardsdatascience.com/using-artificial-intelligence-to-create-people-cars-and-cats-5117189d0625)\n",
    "\n",
    "**Juego:**\n",
    "\n",
    "[Ser o no ser](https://www.whichfaceisreal.com/)\n",
    "\n",
    "**Votaciones:**\n",
    "\n",
    "[¡Vota ya!](https://docs.google.com/forms/d/e/1FAIpQLSdV110D4DVpGOUVq4haSXp3Ils4X_CNHfXVQqSuONROeRQ5vA/viewform)\n",
    "\n",
    "**Modelos Generativos (Ejemplo de OpenAI)**\n",
    "\n",
    "[Glow: Better Reversible\n",
    "Generative Models](https://openai.com/blog/glow/)"
   ]
  },
  {
   "cell_type": "markdown",
   "metadata": {},
   "source": [
    "# ¿Asustado? ¡Hay más!"
   ]
  },
  {
   "cell_type": "markdown",
   "metadata": {},
   "source": [
    "Pero antes... Un anuncio del ex-presidente de Estados Unidos Barack Obama"
   ]
  },
  {
   "cell_type": "code",
   "execution_count": 2,
   "metadata": {},
   "outputs": [
    {
     "data": {
      "image/jpeg": "[encoded data removed]",
      "text/html": [
       "\n",
       "        <iframe\n",
       "            width=\"800\"\n",
       "            height=\"400\"\n",
       "            src=\"https://www.youtube.com/embed/cQ54GDm1eL0\"\n",
       "            frameborder=\"0\"\n",
       "            allowfullscreen\n",
       "        ></iframe>\n",
       "        "
      ],
      "text/plain": [
       "<IPython.lib.display.YouTubeVideo at 0x7f81e8418760>"
      ]
     },
     "execution_count": 2,
     "metadata": {},
     "output_type": "execute_result"
    }
   ],
   "source": [
    "from IPython.display import YouTubeVideo\n",
    "\n",
    "YouTubeVideo('cQ54GDm1eL0', width=800, height=400)"
   ]
  },
  {
   "cell_type": "markdown",
   "metadata": {},
   "source": [
    "Noticia: [El comercio](https://www.elcomercio.com/afull/barackobama-fakenews-buzzfeed-inteligenciaartificial-viral.html)"
   ]
  },
  {
   "cell_type": "markdown",
   "metadata": {},
   "source": [
    "## El Mito de Sophia"
   ]
  },
  {
   "cell_type": "markdown",
   "metadata": {},
   "source": [
    "¿Es esta bella reunión de cables y sensores inteligencia artificial?\n",
    "\n",
    "[![Sophia](https://cdn.expatwoman.com/s3fs-public/soiphia-main.jpg)](https://www.youtube.com/watch?v=CIz1uaAamLs)\n",
    "\n",
    "Fuente: [Dot CSV](https://www.youtube.com/watch?v=CIz1uaAamLs)"
   ]
  }
 ],
 "metadata": {
  "kernelspec": {
   "display_name": "Python 3",
   "language": "python",
   "name": "python3"
  },
  "language_info": {
   "codemirror_mode": {
    "name": "ipython",
    "version": 3
   },
   "file_extension": ".py",
   "mimetype": "text/x-python",
   "name": "python",
   "nbconvert_exporter": "python",
   "pygments_lexer": "ipython3",
   "version": "3.8.8"
  }
 },
 "nbformat": 4,
 "nbformat_minor": 4
}
