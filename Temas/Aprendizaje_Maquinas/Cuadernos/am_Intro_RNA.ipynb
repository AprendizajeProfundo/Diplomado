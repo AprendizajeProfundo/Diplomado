{
 "cells": [
  {
   "cell_type": "markdown",
   "metadata": {},
   "source": [
    "**Diplomado en Inteligencia Artificial y Aprendizaje Profundo**"
   ]
  },
  {
   "cell_type": "markdown",
   "metadata": {},
   "source": [
    "# Introducción a Redes Neuronales Artificiales (RNA)"
   ]
  },
  {
   "cell_type": "markdown",
   "metadata": {},
   "source": [
    "##  Autores"
   ]
  },
  {
   "cell_type": "markdown",
   "metadata": {},
   "source": [
    "1. Alvaro Mauricio Montenegro Díaz, ammontenegrod@unal.edu.co\n",
    "2. Daniel Mauricio Montenegro Reyes, dextronomo@gmail.com \n",
    "3. Oleg Jarma, ojarmam@unal.edu.co\n",
    "4. Maria del Pilar Montenegro, pmontenegro88@gmail.com"
   ]
  },
  {
   "cell_type": "markdown",
   "metadata": {},
   "source": [
    "## Contenido"
   ]
  },
  {
   "cell_type": "markdown",
   "metadata": {},
   "source": [
    "* [¿Qué es una Red Neuronal Artificial?](#¿Qué-es-una-Red-Neuronal-Artificial?)\n",
    "    * [Partes de una Neurona y sus Funciones](#Partes-de-una-Neurona-y-sus-Funciones)\n",
    "    * [Comparación entre Redes Neuronales Biológicas y Artificiales](#Comparación-entre-Redes-Neuronales-Biológicas-y-Artificiales)\n",
    "    * [¿Cómo funciona una Red Neuronal Artificial?](#¿Cómo-funciona-una-Red-Neuronal-Artificial?)\n",
    "    * [Tipos de Arquitecturas de Redes Neuronales](#Tipos-de-Arquitecturas-de-Redes-Neuronales)\n",
    "    * [Perceptrón multicapa: Aprendizaje Profundo de RNA](#Perceptrón-multicapa:-Aprendizaje-Profundo-de-RNA)\n",
    "* [Enfoque Matemático de una RNP](#Enfoque-Matemático-de-una-RNP)\n",
    "    * [Modelamiento matemático de una RNP con una capa oculta](#Modelamiento-matemático-de-una-RNP-con-una-capa-oculta)\n",
    "\n"
   ]
  },
  {
   "cell_type": "markdown",
   "metadata": {},
   "source": [
    "## ¿Qué es una Red Neuronal Artificial?\n",
    "\n",
    "Las Redes Neuronales Artificiales son modelos computacionales inspirados en el cerebro humano. Muchos de los avances recientes en ciencia y tecnología se han hecho en el campo de la Inteligencia Artificial, que van desde reconocimiento de voz hablada, reconocimiento de imágenes, y robótica, entre otros.\n",
    "\n",
    "Como se dijo anteriormente, las Redes Neuronales Artificiales son simulaciones inspiradas en el ámbito biológico hechas en un ordenador para realizar tareas como\n",
    "\n",
    "1. Clustering\n",
    "2. Clasificación\n",
    "3. Reconocimiento de Patrones\n",
    "\n",
    "aunque en general, se usan para resolver objetivos especificos guiados por su creador."
   ]
  },
  {
   "cell_type": "markdown",
   "metadata": {},
   "source": [
    "[[Regresar al inicio]](#Contenido)"
   ]
  },
  {
   "cell_type": "markdown",
   "metadata": {},
   "source": [
    "### Partes de una Neurona y sus Funciones\n",
    "\n",
    "Las células nerviosas típicas del cerebro humano se compone de cuatro partes:\n",
    "\n",
    "1. **Función de la Dendrita**. Recibe las señales de otras neuronas.\n",
    "2. **Soma (cuerpo celular)**. Suma todas las señales entrantes para generar una señal total de entrada(input).\n",
    "3. **Estructura del Axón**. Cuando la suma sobrepasa un cierto umbral numérico, la neurona se activa, dispara y la señal viaja a través del axón hacia otras neuronas.\n",
    "4. **Trabajo de la Sinápsis**. Es el punto donde se realiza la interconexión de una neurona con otras neuronas. La cantidad de la señal transmitida depende en la fuerza (peso sináptico) de las conexiones. Las conexiones pueden ser inhibidoras (disminuyendo la fuerza) o de excitación (aumentando la fuerza) en principio.\n",
    "\n",
    "Así pues, una **Red Neuronal** es, en general una **red altamente interconectada** de billones de neuronas con trillones de interconexiones entre ellas."
   ]
  },
  {
   "cell_type": "markdown",
   "metadata": {},
   "source": [
    "![Neurona](https://images.xenonstack.com/blog/Structure-Of-Neurons-In-Brain.jpg)\n",
    "\n",
    "**Figure 1.** *Structure of a biological neuron*\n",
    "\n",
    "Tomado de: [Artificial Neural Networks Applications and Algorithms](https://www.xenonstack.com/blog/artificial-neural-network-applications/)"
   ]
  },
  {
   "cell_type": "markdown",
   "metadata": {},
   "source": [
    "[[Regresar al inicio]](#Contenido)"
   ]
  },
  {
   "cell_type": "markdown",
   "metadata": {},
   "source": [
    "### Comparación entre Redes Neuronales Biológicas y Artificiales\n",
    "\n",
    "Las **dendritas** in las Redes Neuronales Biológicas son un análogo a las entradas conteniendo un peso especifico basada en la interconexión \"sináptica\" presente en la Red Neuronal Artificial.\n",
    "\n",
    "El **cuerpo celular** es comparable a la unidad artificial llamada \"neurona\" en una Red Neuronal Artificial, que también comprende la suma de señales y umbral de activación.\n",
    "\n",
    "La salida de los **Axones** (presentes en la sinápsis) son el análogo de los datos de salida en la Red Neuronal Artificial.\n",
    "\n",
    "Por lo tanto, **RNA** son modeladas usando el trabajo básico de las neuronas biológicas."
   ]
  },
  {
   "cell_type": "markdown",
   "metadata": {},
   "source": [
    "![Dendritas](https://images.xenonstack.com/blog/Analogy_of_Biological_Network_with_Artificial_Neural_Network.jpg)\n",
    "\n",
    "\n",
    "**Figura 2.** *Comparación entre redes neuronales artificiales y biológicas.*\n",
    "\n",
    "Tomado de: [Artificial Neural Networks Applications and Algorithms](https://www.xenonstack.com/blog/artificial-neural-network-applications/)"
   ]
  },
  {
   "cell_type": "markdown",
   "metadata": {},
   "source": [
    "[[Regresar al inicio]](#Contenido)"
   ]
  },
  {
   "cell_type": "markdown",
   "metadata": {},
   "source": [
    "### ¿Cómo funciona una Red Neuronal Artificial?\n",
    "\n",
    "La Figura 2 muestra cómo funciona una neurona artificial como parte de una RNA. La red neuronal artificial recibe información del mundo externo en forma de patrón en forma de vector, digamos $x=(x_1,\\ldots,x_n)^t$. En este caso, la capa de entrada posee $n$ neuronas artificiales.\n",
    "\n",
    "\n",
    "Cada componente $x_i$ de la entrada se multiplica por el peso correspondiente $w_{i}$. Los pesos son la información utilizada por la red neuronal para resolver un problema específico. Estos pesos deben aprenderse (ajustarse, estimarse) en el **paso de entrenamiento**. Los **pesos representan el conocimiento** que tienen los ANN sobre el problema en cuestión. \n",
    "\n",
    "Usando la metáfora biológica, los pesos representan la fuerza de la interconexión entre las neuronas dentro de la red neuronal.\n",
    "\n",
    "Las entradas y los pesos se combinan y se resumen dentro de la unidad de computación (neurona artificial), y se agrega un **\"sesgo\"** (intercepto), como muestra la Figura 2.\n",
    "\n",
    "La suma es un número real: $z = \\sum_i x_iw_i + b$, $z \\in\\mathcal{R}$. Esta suma se transforma a través de una función de activación, digamos $g(\\cdot)$, para obtener la salida neta $x^* = g(z)$. La función de activación determina el comportamiento de la neurona. Para más detalles, consulte la siguiente sección."
   ]
  },
  {
   "cell_type": "markdown",
   "metadata": {},
   "source": [
    "![ANN](https://images.xenonstack.com/blog/Working-Of-Artificial-Neuron.jpg)\n",
    "\n",
    "**Figure 3.** *Estructura conceptual de una neurona artificial en una RNA*.\n",
    "\n",
    "Tomado de: [Artificial Neural Networks Applications and Algorithms](https://www.xenonstack.com/blog/artificial-neural-network-applications/)"
   ]
  },
  {
   "cell_type": "markdown",
   "metadata": {},
   "source": [
    "[[Regresar al inicio]](#Contenido)"
   ]
  },
  {
   "cell_type": "markdown",
   "metadata": {},
   "source": [
    "\n",
    "### Tipos de Arquitecturas de Redes Neuronales\n",
    "\n",
    "1. **Modelo Perceptrón de una sola capa**. Red Neuronal que tiene dos unidades de entrada (es decir, puntos en $\\mathbb{R}²$) y una unidad de salida sin capas ocultas. Fue usado para clasificación simple de **dos clases** en conjuntos de datos del plano.\n",
    "2. **RNA de base radial**. Estas redes son similares a la red neuronal de avance hacia adelante, excepto que una **función de base radial** se utiliza como la función de activación de estas neuronas. La salida de la red es una combinación lineal de funciones de base radial de las entradas y los parámetros neuronales. Las redes de base radial tienen muchos usos, incluida la aproximación de funciones, la predicción de series temporales, la clasificación y el control de sistemas. \n",
    "3. **Red neuronal de perceptrón multicapa**. Estas redes utilizan **más de una capa oculta** de neuronas, a diferencia del perceptrón de una sola capa. También se conocen como Redes neuronales de alimentación profunda.\n",
    "4. **Red neuronal recurrente**. Tipo de red neuronal en la que las neuronas de cada capa oculta tienen **auto-conexiones**. Las redes neuronales recurrentes **poseen memoria**. En cualquier caso, la neurona de capa oculta recibe la activación de la siguiente capa, así como su valor de activación anterior.\n",
    "\n",
    "5. **Red neuronal de memoria a corto y largo plazo (LSTM)**. El tipo de red neuronal recurrente en la que la célula de memoria se incorpora a las neuronas de capa oculta. Esto genera un ciclo de retroalimentación, y por eso, a veces, este tipo de redes se llaman de retroalimentación.\n",
    "\n",
    "6. **Red de Hopfield**. Una red de neuronas **totalmente interconectadas** en la que cada neurona está conectada a cada otra neurona. La red se entrena con el patrón de entrada al establecer un valor de neuronas en el patrón deseado. Luego se calculan sus pesos. Los pesos no cambian. Una vez entrenada para uno o más patrones, la red convergerá a los patrones aprendidos. Es diferente de otras redes neuronales. Las unidades en las redes de Hopfield son unidades de umbral binarias, es decir, las unidades solo toman dos valores diferentes para sus estados y el valor se determina por si la entrada de las unidades excede o no su umbral. Las redes de Hopfield normalmente tienen unidades que toman valores de 1 o -1. Este modelo utiliza el concepto de **memoria asociativa**, y se ha utilizado para explicar el trabajo de la memoria humana.\n",
    "7. **Máquinas de Boltzmann**. Estas redes son similares a la red Hopfield, excepto que algunas neuronas son de entrada, mientras que otras están ocultas, en naturaleza. Los pesos se inicializan al azar y se aprenden a través del algoritmo de **retropropagación**. Son teóricamente intrigantes debido a sla naturaleza local y Hebbiana de su algoritmo de entrenamiento (siendo entrenado por la regla de Hebb), y debido a su paralelismo y la semejanza de su dinámica con procesos físicos simples. Las máquinas Boltzmann con **conectividad sin restricciones** no han demostrado ser útiles para problemas prácticos en el aprendizaje automático o la inferencia, pero si la conectividad está restringida adecuadamente, el aprendizaje puede ser lo suficientemente eficiente como para ser útil para problemas prácticos.\n",
    "8. **Redes Neuronales Convolucionales**. Las RNCs son **versiones regularizadas** de perceptrones multicapa. Los perceptrones multicapa generalmente son redes completamente conectadas, es decir, cada neurona en una capa está conectada a todas las neuronas en la capa siguiente. La \"conexión total\" de estas redes las hace propensas a **sobreajustar datos**. Las redes convolucionales se inspiraron en procesos biológicos en donde, el patrón de conectividad entre las neuronas se asemeja a la organización de la corteza visual animal. Las neuronas corticales individuales responden a los estímulos solo en una **región restringida del campo visual conocida como campo receptivo**. Los campos receptivos de diferentes neuronas se superponen parcialmente de modo que cubren todo el campo visual.\n",
    "9. **Red neuronal modular**. Es la estructura combinada de diferentes tipos de redes neuronales como el perceptrón multicapa, Hopfield, la red neuronal recurrente, etc., que se incorporan como un solo módulo en la red para realizar una subtarea independiente de redes neuronales completas completas."
   ]
  },
  {
   "cell_type": "markdown",
   "metadata": {},
   "source": [
    "![Popular](https://images.xenonstack.com/blog/Popular-Neural-Network-Architecture.jpg)\n",
    "\n",
    "**Figura 4.** *Tipos de Arquitecturas de RNA.*\n",
    "\n",
    "Tomado de: [Artificial Neural Networks Applications and Algorithms](https://www.xenonstack.com/blog/artificial-neural-network-applications/)"
   ]
  },
  {
   "cell_type": "markdown",
   "metadata": {},
   "source": [
    "[[Regresar al inicio]](#Contenido)"
   ]
  },
  {
   "cell_type": "markdown",
   "metadata": {},
   "source": [
    "### Perceptrón multicapa: Aprendizaje Profundo de RNA\n",
    "\n",
    "El perceptrón multicapa es actualmente **la arquitectura más utilizada**. Las redes de aprendizaje profundo (RAP) son preceptrónes multicapa con una o más capas ocultas. La profundidad está determinada por el número de capas ocultas.\n",
    "\n",
    "Las redes neuronales pueden verse como gráficos dirigidos ponderados en los que las neuronas artificiales son nodos, y los bordes dirigidos con pesos son conexiones entre las salidas de neuronas y las entradas de neuronas. La Figura 5 muestra un perceptrón multicapa con dos capas ocultas. Este tipo de RNA también se conoce como Red neuronal de alimentación profunda. "
   ]
  },
  {
   "cell_type": "markdown",
   "metadata": {},
   "source": [
    "![ANN Arquitecture](https://images.xenonstack.com/blog/Artificial-Neural-Network-Architecture.jpg)\n",
    "\n",
    "**Figure 5.** *Arquitectura de un perceptrón multicapa con dos capas ocultas*.\n",
    "\n",
    "Tomado de: [Artificial Neural Networks Applications and Algorithms](https://www.xenonstack.com/blog/artificial-neural-network-applications/)"
   ]
  },
  {
   "cell_type": "markdown",
   "metadata": {},
   "source": [
    "[[Regresar al inicio]](#Contenido)"
   ]
  },
  {
   "cell_type": "markdown",
   "metadata": {},
   "source": [
    "## Enfoque Matemático de una RNP\n",
    "\n",
    "La primera capa oculta de un RNA podría ser una reducción de dimensión. Sin embargo, en general, es más práctico reducir los datos previamente. Entonces, a partir de este punto, suponemos que los datos de entrenamiento son datos reducidos (si es que tal reducción es necesaria).\n",
    "\n",
    "En esta sección consideramos sólo una capa oculta.\n",
    "**Asumiremos** que:\n",
    "\n",
    "1. La capa de entrada tiene $n$ neuronas. Entonces los valores de entrada son $n$-vectores.\n",
    "\n",
    "2. La capa oculta tiene $q$ neuronas. Esto implica que existen conexiones $q$ desde cada neurona de entrada a la capa oculta. En total hay conexiones $n \\times q$ entre la capa de entrada y la capa oculta. Cada conexión tiene un peso $w^{1}_{ij}$, que representa la fuerza de la conexión entre la neurona $i$ en la capa de entrada y la neurona $j$ en la capa oculta.\n",
    "\n",
    "3. La capa de salida tiene neuronas $L$. Esto implica que existen conexiones $L$ de cada neurona oculta a la capa de salida. En total hay conexiones $q \\times L$ entre la capa oculta y la capa de salida. Cada conexión tiene un peso $w^{2}_{jk}$, que representa la fuerza de la conexión entre la neurona $j$ en la capa oculta y la neurona $k$ en la capa de salida.\n",
    "\n",
    "$\\leadsto$ **Notación Vectorial**. *Por facilidad, denotaremos los vectores en un formato de fila, como es habitual en matemáticas. En estadística es común la notación de columna*."
   ]
  },
  {
   "cell_type": "markdown",
   "metadata": {},
   "source": [
    "[[Regresar al inicio]](#Contenido)"
   ]
  },
  {
   "cell_type": "markdown",
   "metadata": {},
   "source": [
    "### Modelamiento matemático de una RNP con una capa oculta\n",
    "\n",
    "\n",
    "<h3> De la capa de entrada a la capa oculta</h3>\n",
    "\n",
    "\n",
    "Sea $X_{N\\times n}$ la matriz de los datos de entrenamiento de entrada $N$. \n",
    "\n",
    "<h4> Transformación afín de los datos. </h4>\n",
    "\n",
    "Sea $W^{1}$ una matriz $n\\times q$  cuyas filas son los vectores de peso $w^{1}_{ij}$, \n",
    "que conceptualmente conectan la capa de entrada con la capa oculta. Sea $b^{1}$ el $q$-vector de los respectivos bias. Supongamos que $b=(b^1_1,\\ldots, b^1_j,\\ldots,b^1_q)$. Entonces , $b^1_j$ es el bias en la neruona $j$ de la capa oculta. \n",
    "\n",
    "\n",
    "Dado un vector de entrada $x$, que es fila de matriz $X$, la entrada completa de la capa ocula se obtiene mediante\n",
    "\n",
    "\n",
    "$$\n",
    "z^{1} = xW^{1} + b^{1} \\quad (1)\n",
    "$$\n",
    "\n",
    "$\\leadsto$ Note que hemos asumido que hay $n$ neuronas en la capa de entrada. Si $q<n$, $W^{1}$ realiza una proyección sobre un subespacio de dimensión reducida. Si $q>n$, $W^{1}$ realiza un \"sumergimiento\" (embedding) sobre un espacio de dimensión mayor.\n",
    "\n",
    "La ecuación (1) es una **transformación afín**, que puede ser expresada en coordenadas homogéneas de la siguiente manera:\n",
    "\n",
    "$\\tilde{x} = (x,1)$, $\\tilde{z}^1 = (z^1,1)$. Let $\\tilde{W}$ defined as:\n",
    "\n",
    "$$\n",
    "\\tilde{W}^1 = \\begin{pmatrix} W^1 & 0\\\\ b^1 & 1\\end{pmatrix}\n",
    "$$\n",
    "\n",
    "por lo que obtenemos,\n",
    "\n",
    "$$\n",
    "\\tilde{z}^1 = \\tilde{x}\\tilde{W}^1.\n",
    "$$\n",
    "\n",
    "Esta ecuación significa que una transformación afín se puede expresar como una transformación lineal en coordenadas homogéneas. Para obtener más información, consulte la próxima lección, sobre transformaciones afines.\n",
    "\n",
    "\n",
    "<h4>Activación de Neuronas en la capa oculta</h4>\n",
    "\n",
    "\n",
    "Sea $f^1$ la función de activación en la capa oculta. Entonces, $f^1$ se aplica a cada elemento de $z^1$. Sea $x^1 = (x_1^1,\\ldots,x_j^1,\\ldots, x_q^1)$. El efecto de la función de activación se escribe como\n",
    "\n",
    "$$\n",
    "x^1 = f^1(z^1),\n",
    "$$\n",
    "where $x^1_j = f^1(z^1_j)$, for $j=1,\\ldots,q$.\n",
    "\n",
    "\n",
    "<h3> Desde la capa oculta a la capa de salida</h3>\n",
    "\n",
    "<h4> Transformación afín de los datos</h4>\n",
    "\n",
    "\n",
    "Supongamos que $W^{2}$ es una matriz $q\\times L$,  cuyas filas son los vectores de pesos $w^{2}_{jk}$,  que conceptualmente conecta la capa oculta con la capa de salida. Sea $b^{2}$ el $L$-vector de los correspondientes biases (interceptos). \n",
    "\n",
    "$\\leadsto$ En la aplicación de una Red Neuronal Profunda a un problema de clasificación, $L$ corresponde al número de clases.\n",
    "\n",
    "\n",
    "Dado $x^1$ el vector de salida de la capa oculta, la entrada completa a la capa de salida se obtiene como\n",
    "\n",
    "\n",
    "$$\n",
    "z^{1} = x^1W^{2} + b^{2}. \\quad (2)\n",
    "$$\n",
    "\n",
    "En coordenadas homogéneas, tenemos que\n",
    "\n",
    "$$\n",
    "\\tilde{z}^2 = \\tilde{x}^1\\tilde{W}^2.\n",
    "$$\n",
    "\n",
    "<h4>Activación de Neuronas en la capa de salida</h4>\n",
    "\n",
    "\n",
    "Sea $f^2$ la función de activación en la capa de salida. Entonces, $f^2$ se aplica a cada elemento de $z^2$. Sea $y = (y_1,\\ldots,y_k,\\ldots, y_L)$. El efecto de la función de activación se escribe como\n",
    "\n",
    "$$\n",
    "y = f^2(z^2),\n",
    "$$\n",
    "donde $y_k = f^2(z^2_k)$, for $k=1,\\ldots,L$.\n",
    "\n"
   ]
  },
  {
   "cell_type": "markdown",
   "metadata": {},
   "source": [
    "<h2> ¿Por qué necesitamos funciones de activación no lineales? </h2>\n",
    "\n",
    "Una red neuronal sin funciones de activación lineal es esencialmente un modelo de regresión lineal. La función de activación realiza una transformación no lineal de la entrada, lo que la hace capaz de aprender y realizar tareas más complejas.\n",
    "\n",
    "Para ver este hecho, suponga que $\\tilde{G}^1$ y $\\tilde{G}^2$ representan las matrices asociadas a las funciones de activación lineal en coordenadas homogéneas. Por lo tanto, tenemos que\n",
    "\n",
    "$$\n",
    "\\tilde{y} =\\tilde{x}\\tilde{W}^1\\tilde{G}^1\\tilde{W}^2\\tilde{G}^2 = x\\tilde{W}\n",
    "$$,\n",
    "donde $\\tilde{W}=\\tilde{W}^1\\tilde{G}^1\\tilde{W}^2\\tilde{G}^2$.\n",
    "\n",
    "$\\leadsto$ Así, en este caso la RNP se reduce a un modelo lineal simple, que no es muy útil en la práctica.\n",
    "\n",
    "\n",
    "<h2> Una RNP es una función vectorial</h2>\n",
    "\n",
    "De la ecuación de la sección anterior tenemos que un DNN es una función $f:\\mathcal{R}^n \\to \\mathcal{R}^L$, definida como\n",
    "\n",
    "$$\n",
    "y = f(x)  = f^2(f^1( x W^1 + b^1 ) W^2 + b^2).\n",
    "$$\n",
    "\n",
    "$\\leadsto$ Como puede verse, si la RNP tiene más de una capa oculta, la función $f$ puede ser extendida directamente de forma recursiva."
   ]
  },
  {
   "cell_type": "markdown",
   "metadata": {},
   "source": [
    "[[Regresar al inicio]](#Contenido)"
   ]
  }
 ],
 "metadata": {
  "kernelspec": {
   "display_name": "Python 3",
   "language": "python",
   "name": "python3"
  },
  "language_info": {
   "codemirror_mode": {
    "name": "ipython",
    "version": 3
   },
   "file_extension": ".py",
   "mimetype": "text/x-python",
   "name": "python",
   "nbconvert_exporter": "python",
   "pygments_lexer": "ipython3",
   "version": "3.8.5"
  },
  "toc-autonumbering": false
 },
 "nbformat": 4,
 "nbformat_minor": 4
}
