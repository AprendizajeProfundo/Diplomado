{
 "cells": [
  {
   "cell_type": "markdown",
   "metadata": {},
   "source": [
    "**Diplomado en Inteligencia Artificial y Aprendizaje Profundo**"
   ]
  },
  {
   "cell_type": "markdown",
   "metadata": {},
   "source": [
    "# Red Neuronal desde Cero"
   ]
  },
  {
   "cell_type": "markdown",
   "metadata": {},
   "source": [
    "##  Autores"
   ]
  },
  {
   "cell_type": "markdown",
   "metadata": {},
   "source": [
    "1. Alvaro Mauricio Montenegro Díaz, ammontenegrod@unal.edu.co\n",
    "2. Daniel Mauricio Montenegro Reyes, dextronomo@gmail.com \n",
    "3. Oleg Jarma, ojarmam@unal.edu.co\n",
    "4. Maria del Pilar Montenegro, pmontenegro88@gmail.com"
   ]
  },
  {
   "cell_type": "markdown",
   "metadata": {},
   "source": [
    "## Referencias\n",
    "1.  Jeremy Howard, Rachel Thomas and Francisco Ingham, <a href=\"https://jaredwinick.github.io/what_is_tf_keras/\">What is tf.keras really?</a>\n"
   ]
  },
  {
   "cell_type": "markdown",
   "metadata": {},
   "source": [
    "## Contenido"
   ]
  },
  {
   "cell_type": "markdown",
   "metadata": {},
   "source": [
    "* [Introducción](#Introducción)\n",
    "* [Descargando Datos de Ejemplo](#Descargando-Datos-de-Ejemplo)\n",
    "* [Leyendo Datos con Pickle](#Leyendo-Datos-con-Pickle)\n",
    "* [Visualizando los Datos](#Visualizando-los-Datos)\n",
    "* [Transformar Datos a Forma Tensorial](#Transformar-Datos-a-Forma-Tensorial)\n",
    "* [Objetivo de la Red Neuronal](#Objetivo-de-la-Red-Neuronal)\n",
    "* [Red Neuronal Artificial From Scratch!](#Red-Neuronal-Artificial-From-Scratch!)\n",
    "    * [Racional](#Racional)\n",
    "    * [Diferenciación Automática](#Diferenciación-Automática)\n",
    "* [Enfoque Matemático de una RNP](#Enfoque-Matemático-de-una-RNP)\n",
    "    * [Modelamiento matemático de una RNP con una capa oculta](#Modelamiento-matemático-de-una-RNP-con-una-capa-oculta)\n",
    "\n"
   ]
  },
  {
   "cell_type": "raw",
   "metadata": {},
   "source": [
    "Red desde cero usando tf\n",
    "\n",
    "gradient tape"
   ]
  },
  {
   "cell_type": "markdown",
   "metadata": {},
   "source": [
    "## Introducción"
   ]
  },
  {
   "cell_type": "markdown",
   "metadata": {},
   "source": [
    "Si bien la API de tensorflow Keras es bastante útil para resumir una cantidad considerable de líneas de código cuando se construye una red neuronal y se logra flexibilidad en la forma de diseño de la red, es muy importante primero entender cómo realizar una red desde cero, en caso que sea necesario volver a cambiar detalles que no son claros o modificables desde la API.\n",
    "\n",
    "Además de esto, ganamos entendimiento profundo sobre cómo es que realmente funciona una red por dentro.\n",
    "\n",
    "Ese es el propósito de éste cuaderno.\n",
    "\n",
    "Construiremos una red neuronal desde cero usando nada más que tensorflow, para luego factorizar el código hasta llegar a la abstracción visible cuando usamos Keras."
   ]
  },
  {
   "cell_type": "markdown",
   "metadata": {},
   "source": [
    "[[Volver al Inicio]](#Contenido)"
   ]
  },
  {
   "cell_type": "markdown",
   "metadata": {},
   "source": [
    "## Descargando Datos de Ejemplo "
   ]
  },
  {
   "cell_type": "markdown",
   "metadata": {},
   "source": [
    "En ésta ocasión haremos un ejercicio de clasificación.\n",
    "\n",
    "Para este fin, usaremos el conjunto de datos de juguete más utilizado para probar modelos de redes neuronales, llamado **MNIST**.\n",
    "\n",
    "**MNIST = Modified National Institute of Standards and Technology database**\n",
    "\n",
    "Esta es una base de datos de dígitos entre cero y nueve digitalizados en escala de grises. \n",
    "\n",
    "Esto siginifica que cada punto de la imagen digitalizada es representada  mediante un byte. Es decir, es posible representar 256 tonos de grises, con valores enteros entre 0 (negro) hasta 255 (blanco). \n",
    "\n",
    "Además, la base de datos contiene una etiqueta (label) para cada  imagen."
   ]
  },
  {
   "cell_type": "code",
   "execution_count": 1,
   "metadata": {},
   "outputs": [
    {
     "name": "stdout",
     "output_type": "stream",
     "text": [
      "\n",
      "Actualmente estoy en:\n",
      "\n",
      " /home/daniel/Documents/2020-2/UN/Diplomado/Curso/Introduccion_Aprendizaje_Maquina/Cuadernos \n",
      "\n",
      "Bajado con éxito en:\n",
      "\n",
      "/home/daniel/Documents/2020-2/UN/Diplomado/Curso/Introduccion_Aprendizaje_Maquina/Cuadernos/Datos/MNIST\n"
     ]
    }
   ],
   "source": [
    "# Importar librería necesaria para crear archivos localmente\n",
    "from pathlib import Path\n",
    "# Importar libreria necesaria para descargar archivos de la web\n",
    "import requests\n",
    "\n",
    "# Generar Camino Para archivo\n",
    "carpeta_datos= Path(\"Datos\")\n",
    "\n",
    "# Especificar el nombre del dataset\n",
    "camino = carpeta_datos / \"MNIST\"\n",
    "\n",
    "# Crear directorio en el lugar indicado\n",
    "camino.mkdir(parents=True, exist_ok=True)\n",
    "\n",
    "# Posición actual en el equipo\n",
    "donde_estoy=!pwd\n",
    "#Note que la variable se guarda como una lista, no como un string\n",
    "print(\"\\nActualmente estoy en:\\n\\n\",donde_estoy[0],\"\\n\")\n",
    "\n",
    "# Colocar la URL donde se encuentran los datos\n",
    "url = \"http://deeplearning.net/data/mnist/\"\n",
    "# Separar el nombre del archivo (Note que ha sido comprimido)\n",
    "nombre_archivo = \"mnist.pkl.gz\"\n",
    "\n",
    "# Comprobar si existe el archivo a descargar\n",
    "if not (camino / nombre_archivo).exists():\n",
    "    \n",
    "        #Mensaje para el usuario\n",
    "        print(\"\\nBajando Archivo Desde la URL \"+url+nombre_archivo+\"\\n\")\n",
    "        \n",
    "        # Haciendo un request a la url correspondiente y obtener contenido\n",
    "        contenido = requests.get(url + nombre_archivo).content\n",
    "        \n",
    "        # Escribir el contenido binario del request\n",
    "        (camino / nombre_archivo).open(\"wb\").write(contenido)\n",
    "\n",
    "        # Exito, mostrar camino donde se encuentra el archivo descargado\n",
    "print(\"Bajado con éxito en:\\n\\n\"+donde_estoy[0]+\"/\"+camino.as_posix())"
   ]
  },
  {
   "cell_type": "markdown",
   "metadata": {},
   "source": [
    "**¿Confundido?**, ¡chequea un [Quickstart](https://es.python-requests.org/es/latest/user/quickstart.html) en la libreria request para comenzar!"
   ]
  },
  {
   "cell_type": "markdown",
   "metadata": {},
   "source": [
    "[[Volver al Inicio]](#Contenido)"
   ]
  },
  {
   "cell_type": "markdown",
   "metadata": {},
   "source": [
    "##  Leyendo Datos con Pickle"
   ]
  },
  {
   "cell_type": "markdown",
   "metadata": {},
   "source": [
    "El archivo descargado se encuentra en contenido binario.\n",
    "\n",
    "Una librería eficiente para leer archivos binarios, se llama **pickle**.\n",
    "\n",
    "Además, como el archivo esta comprimido (extensión .gzip) necesitaremos la librería **gzip**."
   ]
  },
  {
   "cell_type": "code",
   "execution_count": 2,
   "metadata": {},
   "outputs": [],
   "source": [
    "import pickle\n",
    "import gzip\n",
    "\n",
    "# Operador lógico with para abrir el archivo descargado y leer bytes (readbytes)\n",
    "with gzip.open((camino / nombre_archivo).as_posix(), \"rb\") as f:\n",
    "        \n",
    "        # desempaqueta la información en diferentes variables (entrenamiento+validación)\n",
    "        ((x_train, y_train), (x_valid, y_valid), _) = pickle.load(f, encoding=\"latin-1\")"
   ]
  },
  {
   "cell_type": "markdown",
   "metadata": {},
   "source": [
    "Quizá, en este punto, sea buena idea leer aquí: [What do the gzip.open() modes mean?](https://www.reddit.com/r/learnpython/comments/88h4yz/what_do_the_gzipopen_modes_mean/)"
   ]
  },
  {
   "cell_type": "markdown",
   "metadata": {},
   "source": [
    "[[Volver al Inicio]](#Contenido)"
   ]
  },
  {
   "cell_type": "markdown",
   "metadata": {},
   "source": [
    "## Visualizando los Datos"
   ]
  },
  {
   "cell_type": "markdown",
   "metadata": {},
   "source": [
    "**Una vez leídos los datos**, podemos por ejemplo, mirar qué forma tienen los datos:"
   ]
  },
  {
   "cell_type": "code",
   "execution_count": 3,
   "metadata": {},
   "outputs": [
    {
     "name": "stdout",
     "output_type": "stream",
     "text": [
      "Forma de los Datos de entrenamiento: (50000, 784)\n",
      "Forma de los Datos de validación   : (10000, 784)\n"
     ]
    }
   ],
   "source": [
    "print(\"Forma de los Datos de entrenamiento:\",x_train.shape)\n",
    "print(\"Forma de los Datos de validación   :\",x_valid.shape)"
   ]
  },
  {
   "cell_type": "markdown",
   "metadata": {},
   "source": [
    "Cada imagen del dataset clásico tiene un tamaño de 28 x 28 pixeles, con lo cual cada una es representada por 784 números entre cero y 255. \n",
    "\n",
    "Sin embargo, notemos que nuestra información es una matriz algo extraña...\n",
    "\n",
    "Lo que ha ocurrido es que los datos han sido guardados en forma aplanada (flatening), para que ocupe menos espacio.\n",
    "\n",
    "El número de variables indica que tenemos un total de 784 pixeles, pero de forma plana.\n",
    "\n",
    "Si queremos **visualizar** los datos con **matplotlib**, debemos cambiar la forma de estos.\n",
    "\n",
    "Esto se puede lograr fácilmente usando un método de numpy conocido como **reshape**."
   ]
  },
  {
   "cell_type": "code",
   "execution_count": 4,
   "metadata": {},
   "outputs": [
    {
     "name": "stdout",
     "output_type": "stream",
     "text": [
      "\n",
      "Imagen de ejemplo:\n",
      "\n"
     ]
    },
    {
     "data": {
      "image/png": "[encoded data removed]",
      "text/plain": [
       "<Figure size 432x288 with 1 Axes>"
      ]
     },
     "metadata": {
      "needs_background": "light"
     },
     "output_type": "display_data"
    },
    {
     "name": "stdout",
     "output_type": "stream",
     "text": [
      "Etiqueta (label) Asignada por Humano: 3\n"
     ]
    }
   ],
   "source": [
    "import matplotlib.pyplot as plt\n",
    "import numpy as np\n",
    "\n",
    "print(\"\\nImagen de ejemplo:\\n\")\n",
    "\n",
    "# Elegir una observación al azar usando randint\n",
    "azar=np.random.randint(len(x_train))\n",
    "\n",
    "#Visualizar la imagen usando imshow en escala de grises\n",
    "plt.imshow(x_train[azar].reshape((28, 28)), cmap=\"binary\")\n",
    "#plt.axis(\"off\")\n",
    "plt.show()\n",
    "print(\"Etiqueta (label) Asignada por Humano:\",y_train[azar])"
   ]
  },
  {
   "cell_type": "markdown",
   "metadata": {},
   "source": [
    "**Ahora, un regalito útil para el futuro (para ver varios ejemplos al mismo tiempo)**"
   ]
  },
  {
   "cell_type": "code",
   "execution_count": 5,
   "metadata": {},
   "outputs": [
    {
     "data": {
      "image/png": "[encoded data removed]",
      "text/plain": [
       "<Figure size 1080x720 with 12 Axes>"
      ]
     },
     "metadata": {
      "needs_background": "light"
     },
     "output_type": "display_data"
    },
    {
     "name": "stdout",
     "output_type": "stream",
     "text": [
      "\n",
      "Indices Elegidos:  [44620 13472 20192 45430 15910 47463 15041 46371 34979 24313 43046  3861] \n",
      "\n",
      "\n",
      "Elementos Elegidos:  [4 9 3 2 0 8 5 0 8 9 7 6] \n",
      "\n"
     ]
    }
   ],
   "source": [
    "#Cuántas filas\n",
    "filas=3\n",
    "#Cuantas columnas\n",
    "colus=4\n",
    "#Elementos totales\n",
    "n=filas*colus\n",
    "#Elegir una muestra del dataset via índices\n",
    "vector_azar=np.random.randint(len(x_train),size=(n,))\n",
    "# contador para dibujar en la grilla\n",
    "w=1\n",
    "#iniciar espacio de dibujo\n",
    "plt.figure(figsize=(15,10))\n",
    "#titulo\n",
    "plt.suptitle(\"Ejemplos del dataset MNIST\",fontsize=18)\n",
    "\n",
    "# Loop anidado para recorrer la matriz completa\n",
    "for i in range(filas):\n",
    "    for j in range(colus):\n",
    "        \n",
    "        # subplots se peden contar incrementalmente\n",
    "        plt.subplot(filas,colus,w)\n",
    "        # dibujar el ejemplo de la muestra convertida a una matrix 28X28\n",
    "        plt.imshow(x_train[vector_azar[i+j]].reshape((28, 28)), cmap=\"binary\")\n",
    "        #mostrar la etiqueta dada por el humano a dicho ejemplo (Aprendizaje supervisado)\n",
    "        plt.title(\"label: \"+str(y_train[vector_azar[i+j]]))\n",
    "        #No mostrar ejes corrdenados\n",
    "        plt.axis(\"off\")\n",
    "        # Incrementar contador\n",
    "        w+=1\n",
    "\n",
    "plt.show()\n",
    "#mostrar índices de los ejemplos elegidos\n",
    "print(\"\\nIndices Elegidos: \",vector_azar,\"\\n\")\n",
    "# mostrar etiquetas correspondientes\n",
    "print(\"\\nElementos Elegidos: \",y_train[vector_azar],\"\\n\")"
   ]
  },
  {
   "cell_type": "markdown",
   "metadata": {},
   "source": [
    "Observemos algunos datos en bruto:"
   ]
  },
  {
   "cell_type": "code",
   "execution_count": 6,
   "metadata": {},
   "outputs": [
    {
     "data": {
      "text/plain": [
       "array([[0.        , 0.        , 0.        , 0.        , 0.        ],\n",
       "       [0.        , 0.        , 0.        , 0.        , 0.25      ],\n",
       "       [0.        , 0.        , 0.        , 0.5       , 0.99609375],\n",
       "       [0.25      , 0.5       , 0.99609375, 0.99609375, 0.99609375],\n",
       "       [0.5       , 0.99609375, 0.99609375, 0.99609375, 0.99609375]],\n",
       "      dtype=float32)"
      ]
     },
     "execution_count": 6,
     "metadata": {},
     "output_type": "execute_result"
    }
   ],
   "source": [
    "#Extraer pixeles 10->15 en x y 10->15 en y\n",
    "x_train[azar].reshape((28,28))[10:15,10:15]"
   ]
  },
  {
   "cell_type": "markdown",
   "metadata": {},
   "source": [
    "Como podemos observar, estos ejemplo ya han sido tratados, pues se muestran número entre cero y uno.\n",
    "\n",
    "Hay una forma alternativa de subir los datos, haciendo uso de los **datasets** internos que vienen por defecto en la instalación de **tensorflow.keras**:\n",
    "\n",
    "```(x_train, y_train), (x_valid, y_valid) = tf.keras.datasets.mnist.load_data()```\n",
    "\n",
    "EL estudiante deberá comprobar que en efecto se trata de MNIST, pero que además en este conjunto de datos han sido incluidos 10.000 ejemplos más en el entrenamiento!"
   ]
  },
  {
   "cell_type": "markdown",
   "metadata": {},
   "source": [
    "[[Volver al Inicio]](#Contenido)"
   ]
  },
  {
   "cell_type": "markdown",
   "metadata": {},
   "source": [
    "## Transformar Datos a Forma Tensorial"
   ]
  },
  {
   "cell_type": "markdown",
   "metadata": {},
   "source": [
    "En Tensorflow puro se trabaja con tensores mas que con arreglos de numpy, así que deberemos transformar nuestros datos.\n",
    "\n",
    "Para este fin, usaremos la función ```tf.constant```"
   ]
  },
  {
   "cell_type": "code",
   "execution_count": 7,
   "metadata": {},
   "outputs": [
    {
     "name": "stdout",
     "output_type": "stream",
     "text": [
      "Versión de Tensorflow:  2.2.0 \n",
      "\n",
      "Datos de Entrenamiento:\n",
      "\n",
      "tf.Tensor(\n",
      "[[0. 0. 0. ... 0. 0. 0.]\n",
      " [0. 0. 0. ... 0. 0. 0.]\n",
      " [0. 0. 0. ... 0. 0. 0.]\n",
      " ...\n",
      " [0. 0. 0. ... 0. 0. 0.]\n",
      " [0. 0. 0. ... 0. 0. 0.]\n",
      " [0. 0. 0. ... 0. 0. 0.]], shape=(50000, 784), dtype=float32) \n",
      "\n",
      "Etiquetas de Entrenamiento:\n",
      "\n",
      "tf.Tensor([5 0 4 ... 8 4 8], shape=(50000,), dtype=int64) \n",
      "\n",
      "Label mínimo: 0\n",
      "Label máximo: 9\n",
      "Label únicos: [0 1 2 3 4 5 6 7 8 9]\n"
     ]
    }
   ],
   "source": [
    "import tensorflow as tf\n",
    "\n",
    "# Chequear la versión de tensorflow disponible\n",
    "print(\"Versión de Tensorflow: \",tf.__version__,\"\\n\")\n",
    "\n",
    "# Usando función map para convertir TODOS los datos a tensor\n",
    "x_train, y_train, x_valid, y_valid = map(tf.constant, \n",
    "                                    (x_train, y_train, x_valid, y_valid))\n",
    "#Mostrar datos\n",
    "print(\"Datos de Entrenamiento:\\n\")\n",
    "print(x_train,\"\\n\")\n",
    "print(\"Etiquetas de Entrenamiento:\\n\")\n",
    "print(y_train,\"\\n\")\n",
    "\n",
    "#Chequear límites de las etiquetas\n",
    "print(f'Label mínimo: {tf.reduce_min(y_train).numpy()}')\n",
    "print(f'Label máximo: {tf.reduce_max(y_train).numpy()}')\n",
    "print(\"Label únicos:\",np.sort(tf.unique(y_train)[0].numpy()))"
   ]
  },
  {
   "cell_type": "markdown",
   "metadata": {},
   "source": [
    "[[Volver al Inicio]](#Contenido)"
   ]
  },
  {
   "cell_type": "markdown",
   "metadata": {},
   "source": [
    "# Objetivo de la Red Neuronal"
   ]
  },
  {
   "cell_type": "markdown",
   "metadata": {},
   "source": [
    "## Diseño de la Red Neuronal Básica. Modelo Logístico Multinomial\n",
    "\n",
    "El propósito de la red es clasificar cada una de las imágenes en una de 10 clases. Cada clase representa a un dígito entre 0 y 9.\n",
    "\n",
    "En este experimento cada imagen será presentada a la entrada de la red como una tensor de una dimensión (1D) y de tamaño (shape) $28\\times 28 = 784$. Por lo tanto, la capa entrada se tendran 784 neuronas. La red no tendrá capas ocultas. La capa de salida tendrá 10 neuronas, debido a que hay 10 clases.\n",
    "\n",
    "El tipo de red será densa o completamente conectada, es  decir cada neurona de entrada está conectada con cada neurona de salida. \n",
    "\n",
    "Así, la matriz de pesos $\\mathbf{W}$ tendrá tamaño $784 \\times 10$ y el vector $\\mathbf{b}$ de interceptos (bias) será de un vector tamaño 10.\n",
    "\n",
    "\n",
    "En nuestro primer modelo, la función de activación de la capa de entrada será la identidad y en la capa de salida la función de activación será la función *softmax* que definimos abajo.\n",
    "\n",
    "La siguiente imagen ilustra el diseño (topología) de la primera red que constriomos desde cero. Esta red, es realmente un modelo logístico multinomial clásico.\n",
    "\n",
    "![Multinomial](../Imagenes/am_ANN_mnist_748_10.png)\n"
   ]
  },
  {
   "cell_type": "markdown",
   "metadata": {},
   "source": [
    "[[Volver al Inicio]](#Contenido)"
   ]
  },
  {
   "cell_type": "markdown",
   "metadata": {},
   "source": [
    "## Red Neuronal Artificial From Scratch!"
   ]
  },
  {
   "cell_type": "markdown",
   "metadata": {},
   "source": [
    "Vamos a crear un modelo simple, para lo cual solamente usaremos las operaciones de Tensorflow.\n",
    "\n",
    "Los pesos son inicializados siguiendo la propuesta de <a href='http://proceedings.mlr.press/v9/glorot10a/glorot10a.pdf'>Glorot_Bengio </a>. Se generaran números aleatorios uniformemente distribuidos entre -1 y 1 divididos por $\\sqrt{n}$. "
   ]
  },
  {
   "cell_type": "code",
   "execution_count": 8,
   "metadata": {},
   "outputs": [],
   "source": [
    "import math\n",
    "\n",
    "n=x_train.shape[1]\n",
    "output=10\n",
    "\n",
    "weights = tf.Variable(tf.random.uniform((n,output))/math.sqrt(n), dtype= tf.float32)\n",
    "bias = tf.Variable(tf.zeros(output),tf.float32)"
   ]
  },
  {
   "cell_type": "markdown",
   "metadata": {},
   "source": [
    "Usamos  *tf.Variable* para declarar tensores de tipo variable, es decir, cuyo contenido cambia a los largo de nuestro algortimo."
   ]
  },
  {
   "cell_type": "markdown",
   "metadata": {},
   "source": [
    "### Racional\n",
    "\n",
    "Por  otro lado, observe que *weights* es una matriz de tamaño $784 \\times 10$ y *bias* es un vector de tamaño 10. Vamos a construir una red neuronal que tiene solamente dos capas: entrada con 784 neuronas y salida con 10 neuronas. Note que nuestros patrones de entrada son vectores de tamaño 784.\n",
    "\n",
    "La razón de tener 10 neuronas de salida es porque tenemos un problema de clasificación en 10 clases. Podemos imaginar intuitivamente que construimos un modelo de regresión logística para cada una de las clases. \n",
    "\n",
    "Entonces a la salida esperamos tener es la probabilidad de que el patron de entrada pertenezca a esa clase."
   ]
  },
  {
   "cell_type": "markdown",
   "metadata": {},
   "source": [
    "### Diferenciación Automática\n",
    "\n",
    "Desde Tensorflow 2.0 se incluye **diferenciación automática** para calcular gradientes automáticamente. Esto permite usar funciones estándar de Python como modelos para la redes. "
   ]
  },
  {
   "cell_type": "markdown",
   "metadata": {},
   "source": [
    "### Función de Activación softmax\n",
    "\n",
    "Vamos a crear un modelo lineal simple. Necesitaremos una función de activación, por lo que vamos a escribir la función *log_softmax*. La variable $\\eta$ en la función, que corresponde al máximo de los valores, se introduce para tener una función muy robusta, desde el punto de vista computacional.\n",
    "\n",
    "Para un conjunto de valores $x_1,\\ldots,x_n$, la función softwax transforma estos valores en la escala (0,1), que pueden interpretarse como probabilidades. Cada componente de softmax es interpretada como la probabilidad que la imagen pertenezca a la clase representada por dicha componente.\n",
    "\n",
    "Matemáticamente se escribe\n",
    "\n",
    "$$\n",
    "\\begin{equation}\n",
    "Prob[y=j|x] = \\frac{\\exp(x_j)}{\\sum_{k=1}^{n}\\exp(x_j)}\n",
    "\\end{equation}\n",
    "$$\n",
    "\n",
    "Un cálculo muy estable computacionalmente de estos valores se obtiene de la siguente manera. Sea $\\eta = \\underset{i}{\\text{max}} \\hspace{2mm} \\{x_i\\}$. Es fácil verificar que\n",
    "\n",
    "$$\n",
    "\\begin{equation}\n",
    "Prob[y=j|x] = \\frac{\\exp(x_j-\\eta)}{\\sum_{k=1}^{n}\\exp(x_k-\\eta)} = \\text{softmax}_j(x)\n",
    "\\end{equation}\n",
    "$$\n",
    "\n",
    "Observe que $\\log \\text{softmax}_j(x)  = x_j - \\eta - \\log(\\sum_{k=1}^n \\exp(x_k-\\eta))$.\n"
   ]
  },
  {
   "cell_type": "code",
   "execution_count": 9,
   "metadata": {},
   "outputs": [],
   "source": [
    "def log_softmax(x):\n",
    "    η = tf.math.reduce_max(x)\n",
    "    return x - η - tf.math.log(tf.math.reduce_sum(tf.math.exp(x-η), -1, keepdims=True))\n",
    "\n",
    "def model(xb):\n",
    "    return log_softmax(xb @ weights + bias) # z = x'W +b"
   ]
  },
  {
   "cell_type": "markdown",
   "metadata": {},
   "source": [
    "En la celda anterior, el símbolo @ representa la operación del producto punto (en este caso corresponde a el producto de un vector con una matriz).\n",
    "\n",
    "Llamaremos a nuestra función con un lote de datos (en este caso, 64 imágenes). Este es un paso hacia adelante (forward pass). Tenga en cuenta que nuestras predicciones no serán mejores que aleatorias en esta etapa, ya que comenzamos con pesos aleatorios."
   ]
  },
  {
   "cell_type": "markdown",
   "metadata": {},
   "source": [
    "## Paso Hacia Adelante (Forward Pass) "
   ]
  },
  {
   "cell_type": "code",
   "execution_count": 10,
   "metadata": {},
   "outputs": [
    {
     "name": "stdout",
     "output_type": "stream",
     "text": [
      "Predicciones para la primera imagen:\n",
      "\n",
      " tf.Tensor(\n",
      "[-2.283266  -2.3728287 -2.4675663 -2.3052135 -2.3182724 -2.3741074\n",
      " -2.244704  -2.22293   -2.1858442 -2.281509 ], shape=(10,), dtype=float32) \n",
      "\n",
      "Tamaño de la matriz de predicciones de este lote:  (64, 10)\n"
     ]
    }
   ],
   "source": [
    "bs = 64 # batch size\n",
    "\n",
    "xb = x_train[0:bs]\n",
    "preds = model(xb) # predictions\n",
    "print('Predicciones para la primera imagen:\\n\\n',preds[0],\"\\n\")\n",
    "print('Tamaño de la matriz de predicciones de este lote: ', preds.shape)"
   ]
  },
  {
   "cell_type": "markdown",
   "metadata": {},
   "source": [
    "### Función de pérdida\n",
    "\n",
    "Vamos a implementar la función menos log-verosimilitud, la cual usaremos como **función de pérdida** (loss function). Esta es la misma **entropía cruzada**(cross entropy, usando la codificación One-hot).\n",
    "\n",
    "\n",
    "Matemáticamente, la función de pérdida en esta caso es definida como sigue:\n",
    "\n"
   ]
  },
  {
   "cell_type": "markdown",
   "metadata": {},
   "source": [
    "###  El Modelo\n",
    "\n",
    "Aqui $\\mathbf{x}_i$ denota la observación $i$. \n",
    "\n",
    "$$\n",
    "\\pi_{ik} = Prob[\\mathbf{x} \\in \\mathcal{C}_k] = sofmax_k(\\mathbf{x}_i) = \\frac{\\exp(\\mathbf{x}_i'\\mathbf{w}_k + \\mathbf{b}_k)}{\\sum_{s=1}^K  \\exp (\\mathbf{x}_i'\\mathbf{w}_s+  \\mathbf{b}_s)} \n",
    "$$\n"
   ]
  },
  {
   "cell_type": "markdown",
   "metadata": {},
   "source": [
    "###  Función de pérdida \n",
    "\n",
    "En esta sección $\\mathbf{W}$ es la martriz completa de pesos. Cada fila $\\mathbf{w}_k$ está asociada a la respectiva categoría $\\mathcal{C}_k$.\n",
    "\n",
    "Entropía cruzada: **-log verosimilitud** .  Aqui $\\mathbf{x}_i$ denota la observación $i$ y $y_i$ la respectiva etiqueta. Sea $\\chi_{ik}$ definda por\n",
    "\n",
    "$$\n",
    "\\chi_{ik} = \\begin{cases} 1, & \\text{ si } y_i = k\\\\\n",
    "0, & \\text{ en otro caso. }\\end{cases}\n",
    "$$\n",
    "\n",
    "\n",
    "$$\n",
    "loss(\\mathbf{W},\\mathbf{b}) = -\\frac{1}{N}  \\sum_i \\sum_k \\chi_{ik} \\log \\pi_{ik}\n",
    "$$"
   ]
  },
  {
   "cell_type": "markdown",
   "metadata": {},
   "source": [
    "### Predicción\n",
    "\n",
    "$$\n",
    "\\tilde{y} = \\text{índice}(\\max_{k}{\\pi_k(x)})\n",
    "$$"
   ]
  },
  {
   "cell_type": "markdown",
   "metadata": {},
   "source": [
    "###  Precisión\n",
    "\n",
    "$$\n",
    "\\begin{equation*}\n",
    "\\text{accuracy} = \\frac{1}{N} \\sum_{i=1}^{N} 1_{y_i =\\tilde{y}_i}\n",
    "\\end{equation*}\n",
    "$$"
   ]
  },
  {
   "cell_type": "code",
   "execution_count": 11,
   "metadata": {},
   "outputs": [],
   "source": [
    "def nll(input, target):\n",
    "    indices = tf.stack([tf.range(input.shape[0], dtype=tf.int64),target], axis=1)\n",
    "    return tf.math.reduce_mean(-tf.gather_nd(input, indices))\n",
    "\n",
    "loss_func = nll"
   ]
  },
  {
   "cell_type": "markdown",
   "metadata": {},
   "source": [
    "Sobre el código anterior. \n",
    "1. *tf.range(input.shape[0])*  genera un tensor con números en el rango entre 0 y 63, porque la forma (shape) es 64, el tamaño del batch.\n",
    "2. *tf.stack([tf.range(input.shape[0], dtype=tf.int32),target], axis=1)* crea un tensor bidimensional, en donde cada fila corresponde al índice del elemento que debe tomarse de cada fila de input para calcular la funcion de pérdida. Por ejemplo, si la fila 3 de índice es [3,4], significará que y_train[3] es 4, y ṕor tanto se requiere tomar el contenido de la cuarta posición de la entrada 3.\n",
    "3. tf.gather_nd(input, indices). Para cada fila de input toma el valor de input en la posición indicada en el índice, como se explica en el numeral 2.\n",
    "4. tf.math.reduce_mean(-tf.gather_nd(input, indices)), calcula el resumen. La media, que corresponde exáctamete a - log likelihood\n",
    "\n",
    "Veámos una ilustración de índices. "
   ]
  },
  {
   "cell_type": "code",
   "execution_count": 12,
   "metadata": {},
   "outputs": [
    {
     "data": {
      "text/html": [
       "<div>\n",
       "<style scoped>\n",
       "    .dataframe tbody tr th:only-of-type {\n",
       "        vertical-align: middle;\n",
       "    }\n",
       "\n",
       "    .dataframe tbody tr th {\n",
       "        vertical-align: top;\n",
       "    }\n",
       "\n",
       "    .dataframe thead th {\n",
       "        text-align: right;\n",
       "    }\n",
       "</style>\n",
       "<table border=\"1\" class=\"dataframe\">\n",
       "  <thead>\n",
       "    <tr style=\"text-align: right;\">\n",
       "      <th></th>\n",
       "      <th>pattern</th>\n",
       "      <th>target</th>\n",
       "    </tr>\n",
       "  </thead>\n",
       "  <tbody>\n",
       "    <tr>\n",
       "      <th>0</th>\n",
       "      <td>0</td>\n",
       "      <td>3</td>\n",
       "    </tr>\n",
       "    <tr>\n",
       "      <th>1</th>\n",
       "      <td>1</td>\n",
       "      <td>0</td>\n",
       "    </tr>\n",
       "    <tr>\n",
       "      <th>2</th>\n",
       "      <td>2</td>\n",
       "      <td>5</td>\n",
       "    </tr>\n",
       "    <tr>\n",
       "      <th>3</th>\n",
       "      <td>3</td>\n",
       "      <td>7</td>\n",
       "    </tr>\n",
       "    <tr>\n",
       "      <th>4</th>\n",
       "      <td>4</td>\n",
       "      <td>1</td>\n",
       "    </tr>\n",
       "  </tbody>\n",
       "</table>\n",
       "</div>"
      ],
      "text/plain": [
       "   pattern  target\n",
       "0        0       3\n",
       "1        1       0\n",
       "2        2       5\n",
       "3        3       7\n",
       "4        4       1"
      ]
     },
     "execution_count": 12,
     "metadata": {},
     "output_type": "execute_result"
    }
   ],
   "source": [
    "# ejemplo del tensor indices\n",
    "import pandas as pd\n",
    "pattern = {'0': 0, '1': 1, '2':2, '3':3, '4':4}\n",
    "target = {'0': 3, '1': 0, '2':5, '3':7, '4':1}\n",
    "indices = pd.DataFrame({'pattern': pattern, 'target':target})\n",
    "indices"
   ]
  },
  {
   "cell_type": "markdown",
   "metadata": {},
   "source": [
    "la columna pattern en esta ilustración contiene el índice del respectivo patrón de entrada. La columna target es el target asociado al respectivo patrón de entrada. Indices es esta matriz con las dos columnas.\n",
    "\n",
    "La última línea del código calcula la función de pérdida definida arriba."
   ]
  },
  {
   "cell_type": "markdown",
   "metadata": {},
   "source": [
    "Revisamos ahora la **función de pérdida** para el modelo con datos aleatorios. Esto permitirá comparar las mejoras después del paso de propagacion hacia atrás  (backpropagation)"
   ]
  },
  {
   "cell_type": "code",
   "execution_count": 13,
   "metadata": {},
   "outputs": [
    {
     "name": "stdout",
     "output_type": "stream",
     "text": [
      "tf.Tensor(2.3095593, shape=(), dtype=float32)\n"
     ]
    }
   ],
   "source": [
    "yb = y_train[0:bs]\n",
    "print(loss_func(preds,yb))"
   ]
  },
  {
   "cell_type": "markdown",
   "metadata": {},
   "source": [
    "También implementamos la función precisión (accuracy) de nuestro modelo."
   ]
  },
  {
   "cell_type": "code",
   "execution_count": 14,
   "metadata": {},
   "outputs": [],
   "source": [
    "def accuracy(out, yb):\n",
    "    preds = tf.math.argmax(out, axis=1)\n",
    "    return tf.math.reduce_mean(tf.dtypes.cast(preds == yb, tf.float16))"
   ]
  },
  {
   "cell_type": "markdown",
   "metadata": {},
   "source": [
    "chequamos la precisión actual del modelo"
   ]
  },
  {
   "cell_type": "code",
   "execution_count": 15,
   "metadata": {},
   "outputs": [
    {
     "name": "stdout",
     "output_type": "stream",
     "text": [
      "tf.Tensor(0.1719, shape=(), dtype=float16)\n"
     ]
    }
   ],
   "source": [
    "print(accuracy(preds,yb))"
   ]
  },
  {
   "cell_type": "markdown",
   "metadata": {},
   "source": [
    "### Entrenamiento de la Red\n",
    " \n",
    " Estamos listos para correr el ciclo de entranamiento. Para calcular los gradientes usaremos diferenciación automática, con la clase tf.GradientTape.\n",
    " \n",
    "- Seleccionamos un mini-batch de datos de tamaño *bs*\n",
    "- Bajo un contexto tf.GradientTape \n",
    " - Usamos el modelo para hacer predicciones\n",
    " - Calculamos la pérdida\n",
    "- Calculamos el gradientes de las operaciones registradas en el contexto de esta cinta (tape).\n",
    "\n",
    "Ahora usamos estos gradientes para actualizar los pesos (weights) y los desplazamientos (bias).\n"
   ]
  },
  {
   "cell_type": "code",
   "execution_count": 16,
   "metadata": {},
   "outputs": [],
   "source": [
    "lr = 0.2 # learning rate\n",
    "epochs = 2 # how many epochs to train for\n",
    "n = x_train.shape[0]\n",
    "\n",
    "for epoch in range(epochs):\n",
    "    for i in range((n-1)//bs +1):\n",
    "        start_i = i*bs\n",
    "        end_i = start_i + bs\n",
    "        xb = x_train[start_i:end_i]\n",
    "        yb = y_train[start_i:end_i]\n",
    "        with tf.GradientTape() as t:\n",
    "            pred = model(xb)\n",
    "            loss = loss_func(pred,yb)\n",
    "        dW, dB = t.gradient(loss,[weights,bias])\n",
    "        weights.assign_sub(lr*dW)\n",
    "        bias.assign_sub(lr*dB)\n"
   ]
  },
  {
   "cell_type": "markdown",
   "metadata": {},
   "source": [
    "Hemos creado y entrenado una red neuronal minimal( en este caso una regression logística multinomial, dado que no tiene capas ocultas) totalmente desde cero (from scratch).\n",
    "\n",
    "Revisemos la pérdida y precisión del modelo."
   ]
  },
  {
   "cell_type": "code",
   "execution_count": 17,
   "metadata": {},
   "outputs": [
    {
     "name": "stdout",
     "output_type": "stream",
     "text": [
      "train loss:  tf.Tensor(0.31670505, shape=(), dtype=float32)\n",
      "train accuracy:  tf.Tensor(0.9116, shape=(), dtype=float16)\n",
      "test loss:  tf.Tensor(0.2963613, shape=(), dtype=float32)\n",
      "test accuracy:  tf.Tensor(0.9185, shape=(), dtype=float16)\n"
     ]
    }
   ],
   "source": [
    "# pérdida y precisión datos de entrenamiento\n",
    "print(\"train loss: \",loss_func(model(x_train),y_train))\n",
    "print(\"train accuracy: \",accuracy(model(x_train),y_train))\n",
    "\n",
    "# pérdida y precisión datos de validación\n",
    "print(\"test loss: \",loss_func(model(x_valid),y_valid))\n",
    "print(\"test accuracy: \",accuracy(model(x_valid),y_valid))"
   ]
  },
  {
   "cell_type": "markdown",
   "metadata": {},
   "source": [
    "## Recuperando estimaciones (Weights & Bias) "
   ]
  },
  {
   "cell_type": "code",
   "execution_count": 20,
   "metadata": {},
   "outputs": [
    {
     "data": {
      "text/plain": [
       "<tf.Variable 'Variable:0' shape=(784, 10) dtype=float32, numpy=\n",
       "array([[0.03093287, 0.02087817, 0.00294594, ..., 0.0267165 , 0.01239577,\n",
       "        0.0163796 ],\n",
       "       [0.01579975, 0.02097601, 0.02618   , ..., 0.006001  , 0.00539119,\n",
       "        0.02204912],\n",
       "       [0.00769665, 0.00946787, 0.0031619 , ..., 0.001761  , 0.00607005,\n",
       "        0.01889339],\n",
       "       ...,\n",
       "       [0.00424927, 0.01953935, 0.02947473, ..., 0.03408199, 0.01368714,\n",
       "        0.00631301],\n",
       "       [0.00815892, 0.01705552, 0.02875312, ..., 0.01577085, 0.01025679,\n",
       "        0.01960558],\n",
       "       [0.01773013, 0.01302537, 0.02340981, ..., 0.01819886, 0.00141695,\n",
       "        0.02874581]], dtype=float32)>"
      ]
     },
     "execution_count": 20,
     "metadata": {},
     "output_type": "execute_result"
    }
   ],
   "source": [
    "weights"
   ]
  },
  {
   "cell_type": "code",
   "execution_count": 21,
   "metadata": {},
   "outputs": [
    {
     "data": {
      "text/plain": [
       "<tf.Variable 'Variable:0' shape=(10,) dtype=float32, numpy=\n",
       "array([-0.2801491 ,  0.3161479 ,  0.04472255, -0.19657351,  0.06215847,\n",
       "        1.0011888 , -0.07687911,  0.48500007, -1.1572791 , -0.19834547],\n",
       "      dtype=float32)>"
      ]
     },
     "execution_count": 21,
     "metadata": {},
     "output_type": "execute_result"
    }
   ],
   "source": [
    "bias"
   ]
  }
 ],
 "metadata": {
  "kernelspec": {
   "display_name": "Python 3",
   "language": "python",
   "name": "python3"
  },
  "language_info": {
   "codemirror_mode": {
    "name": "ipython",
    "version": 3
   },
   "file_extension": ".py",
   "mimetype": "text/x-python",
   "name": "python",
   "nbconvert_exporter": "python",
   "pygments_lexer": "ipython3",
   "version": "3.8.5"
  }
 },
 "nbformat": 4,
 "nbformat_minor": 4
}
