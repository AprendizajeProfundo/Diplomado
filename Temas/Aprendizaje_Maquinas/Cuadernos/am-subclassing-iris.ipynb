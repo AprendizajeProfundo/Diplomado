{
 "cells": [
  {
   "cell_type": "markdown",
   "metadata": {},
   "source": [
    "**Diplomado en Inteligencia Artificial y Aprendizaje Profundo**"
   ]
  },
  {
   "cell_type": "markdown",
   "metadata": {},
   "source": [
    "# Subclassing-Modelo de Regresión multi-logística "
   ]
  },
  {
   "cell_type": "markdown",
   "metadata": {},
   "source": [
    "##  Autores"
   ]
  },
  {
   "cell_type": "markdown",
   "metadata": {},
   "source": [
    "1. Alvaro Mauricio Montenegro Díaz, ammontenegrod@unal.edu.co\n",
    "2. Daniel Mauricio Montenegro Reyes, dextronomo@gmail.com \n",
    "3. Oleg Jarma, ojarmam@unal.edu.co\n",
    "4. Maria del Pilar Montenegro, pmontenegro88@gmail.com"
   ]
  },
  {
   "cell_type": "markdown",
   "metadata": {},
   "source": [
    "## Contenido"
   ]
  },
  {
   "cell_type": "markdown",
   "metadata": {},
   "source": [
    "* [Introducción](#Introducción)\n",
    "* [Importa módulos](#Importa-módulos)\n",
    "* [Funciones de activación](#Funciones-de-activación)\n",
    "* [El conjunto de datos Iris](#El-conjunto-de-datos-Iris)\n",
    "* [Lectura de datos](#Lectura-de-datos)\n",
    "* [Preprocesamiento](#Preprocesamiento)\n",
    "* [Crea el modelo usando la API funcional](#Crea-el-modelo-usando-la-API-funcional)\n",
    "* [Compila](#Compila)\n",
    "* [Entrena](#Entrena)\n",
    "* [Evaluación del modelo](#Evaluación-del-modelo)\n",
    "* [Predicciones](#Predicciones)\n",
    "* [Matriz de confusión](#Matriz-de-confusión)\n",
    "\n"
   ]
  },
  {
   "cell_type": "markdown",
   "metadata": {},
   "source": [
    "## Introducción"
   ]
  },
  {
   "cell_type": "markdown",
   "metadata": {},
   "source": [
    "Esta lección está dedicada a presentar la programación orientada a objetos aplicada a Keras, conocida genéricamente coo subclassing.\n",
    "\n",
    "El tema es recomdado para  usuarios con conocimientos en programacón y keras en nuestro caso.\n",
    "\n",
    "Hermos el  modelo  de clasificación con múltiples categorias, utiilzado en la introducción de la API funcional. El ejemplo es de nueo Iris, con el propósito de comparar los ods estilos de programación.\n"
   ]
  },
  {
   "cell_type": "markdown",
   "metadata": {},
   "source": [
    "## Importa módulos"
   ]
  },
  {
   "cell_type": "code",
   "execution_count": null,
   "metadata": {},
   "outputs": [],
   "source": [
    "try:\n",
    "  %tensorflow_version 2.x\n",
    "except Exception:\n",
    "  pass"
   ]
  },
  {
   "cell_type": "code",
   "execution_count": 1,
   "metadata": {},
   "outputs": [
    {
     "name": "stdout",
     "output_type": "stream",
     "text": [
      "2.1.0\n"
     ]
    }
   ],
   "source": [
    "from __future__ import absolute_import, division, print_function, unicode_literals\n",
    "#\n",
    "import pandas as pd\n",
    "import numpy as np\n",
    "import matplotlib.pyplot as plt\n",
    "import seaborn as sns\n",
    "import tensorflow as tf\n",
    "#\n",
    "from tensorflow.keras.models import Model\n",
    "#\n",
    "from tensorflow.keras.layers import Dense, Input, Activation\n",
    "#\n",
    "from tensorflow.keras.utils import to_categorical\n",
    "from tensorflow.keras.utils import plot_model\n",
    "#\n",
    "from sklearn.preprocessing import StandardScaler\n",
    "from sklearn.metrics import confusion_matrix\n",
    "#\n",
    "print(tf.__version__)"
   ]
  },
  {
   "cell_type": "markdown",
   "metadata": {},
   "source": [
    "## El conjunto de datos Iris\n"
   ]
  },
  {
   "cell_type": "markdown",
   "metadata": {},
   "source": [
    "Este conjunto de datos fue introducido por sir [Ronald Fisher]()"
   ]
  },
  {
   "cell_type": "markdown",
   "metadata": {},
   "source": [
    "## Lectura de datos"
   ]
  },
  {
   "cell_type": "code",
   "execution_count": 2,
   "metadata": {},
   "outputs": [],
   "source": [
    "# nombres de las columnas de los datos\n",
    "col_names = ['SepalLength', 'SepalWidth', 'PetalLength', 'PetalWidth', 'Species']\n",
    "target_dimensions = ['Setosa', 'Versicolor', 'Virginica']\n",
    "\n",
    "# lee los datos\n",
    "training_data_path = tf.keras.utils.get_file(\"iris_training.csv\", \"https://storage.googleapis.com/download.tensorflow.org/data/iris_training.csv\")\n",
    "test_data_path = tf.keras.utils.get_file(\"iris_test.csv\", \"https://storage.googleapis.com/download.tensorflow.org/data/iris_test.csv\")\n",
    "\n",
    "training = pd.read_csv(training_data_path, names=col_names, header=0)\n",
    "test = pd.read_csv(test_data_path, names=col_names, header=0)"
   ]
  },
  {
   "cell_type": "markdown",
   "metadata": {},
   "source": [
    "## Pre-procesamiento"
   ]
  },
  {
   "cell_type": "markdown",
   "metadata": {},
   "source": [
    "La variable objetivo (target) tiene tres categorías. Usaremos la codificación one-hot."
   ]
  },
  {
   "cell_type": "markdown",
   "metadata": {},
   "source": [
    "### Codificación one-hot"
   ]
  },
  {
   "cell_type": "code",
   "execution_count": 3,
   "metadata": {},
   "outputs": [],
   "source": [
    "y_train= pd.DataFrame(to_categorical(training.Species))\n",
    "y_train.columns = target_dimensions\n",
    "\n",
    "y_test = pd.DataFrame(to_categorical(test.Species))\n",
    "y_test.columns = target_dimensions"
   ]
  },
  {
   "cell_type": "markdown",
   "metadata": {},
   "source": [
    "### Elimina columna Species "
   ]
  },
  {
   "cell_type": "code",
   "execution_count": 4,
   "metadata": {},
   "outputs": [],
   "source": [
    "training.drop(['Species'], axis=1, inplace=True)\n",
    "#test.drop(['Species'], axis=1, inplace=True)\n",
    "y_test_species = test.pop('Species') # extrae la columna y la coloca en y_test_species\n",
    "#\n",
    "#Si necesita subir al dataframe la recodificación use estas líneas\n",
    "#training = training.join(labels_training )\n",
    "#test = test.join(labels_test )"
   ]
  },
  {
   "cell_type": "markdown",
   "metadata": {},
   "source": [
    "### Normaliza los features"
   ]
  },
  {
   "cell_type": "markdown",
   "metadata": {},
   "source": [
    "#### StandardScaler"
   ]
  },
  {
   "cell_type": "code",
   "execution_count": 5,
   "metadata": {},
   "outputs": [
    {
     "name": "stdout",
     "output_type": "stream",
     "text": [
      "[5.845      3.065      3.73916667 1.19666667]\n"
     ]
    }
   ],
   "source": [
    "# crea el objeto StandardScaler\n",
    "scaler = StandardScaler()\n",
    "\n",
    "# Ajusta los parámetros del scaler\n",
    "scaler.fit(training)\n",
    "print (scaler.mean_)\n",
    "\n",
    "# escala training y test\n",
    "x_train = scaler.transform(training)\n",
    "x_test = scaler.transform(test)\n",
    "\n",
    "# labels ( no requieren escalación)\n"
   ]
  },
  {
   "cell_type": "markdown",
   "metadata": {},
   "source": [
    "## Crea el modelo usando subclassing"
   ]
  },
  {
   "cell_type": "markdown",
   "metadata": {},
   "source": [
    " Vamos a derivar una clase de la clase Model"
   ]
  },
  {
   "cell_type": "code",
   "execution_count": 6,
   "metadata": {},
   "outputs": [],
   "source": [
    "class CustomModel(Model):\n",
    "    \n",
    "    def __init__(self, **kwargs):\n",
    "        super(CustomModel, self).__init__(**kwargs)\n",
    "        self.dense1 = Dense(5, activation='relu', )\n",
    "        self.dense2 = Dense(10, activation='relu')\n",
    "        self.dense3 = Dense(3, activation='softmax')\n",
    "        \n",
    "    def call(self, inputs):\n",
    "        x = self.dense1(inputs)\n",
    "        x = self.dense2(x)\n",
    "        return self.dense3(x)\n",
    "    \n"
   ]
  },
  {
   "cell_type": "markdown",
   "metadata": {},
   "source": [
    "## Crea una instancia de CustomModel"
   ]
  },
  {
   "cell_type": "code",
   "execution_count": 7,
   "metadata": {},
   "outputs": [],
   "source": [
    "model_iris = CustomModel(name='my_custom_model')"
   ]
  },
  {
   "cell_type": "code",
   "execution_count": null,
   "metadata": {},
   "outputs": [],
   "source": [
    "## Compila"
   ]
  },
  {
   "cell_type": "code",
   "execution_count": 8,
   "metadata": {},
   "outputs": [],
   "source": [
    "model_iris.compile(optimizer='rmsprop',\n",
    "              loss='categorical_crossentropy',\n",
    "              metrics=['accuracy'])"
   ]
  },
  {
   "cell_type": "markdown",
   "metadata": {},
   "source": [
    "## Entrena"
   ]
  },
  {
   "cell_type": "code",
   "execution_count": 11,
   "metadata": {},
   "outputs": [
    {
     "name": "stdout",
     "output_type": "stream",
     "text": [
      "Train on 96 samples, validate on 24 samples\n",
      "Epoch 1/30\n",
      "96/96 [==============================] - 1s 11ms/sample - loss: 0.9798 - accuracy: 0.3229 - val_loss: 0.8623 - val_accuracy: 0.5833\n",
      "Epoch 2/30\n",
      "96/96 [==============================] - 0s 271us/sample - loss: 0.9531 - accuracy: 0.3958 - val_loss: 0.8450 - val_accuracy: 0.6250\n",
      "Epoch 3/30\n",
      "96/96 [==============================] - 0s 259us/sample - loss: 0.9355 - accuracy: 0.4688 - val_loss: 0.8324 - val_accuracy: 0.6667\n",
      "Epoch 4/30\n",
      "96/96 [==============================] - 0s 307us/sample - loss: 0.9198 - accuracy: 0.5521 - val_loss: 0.8203 - val_accuracy: 0.8750\n",
      "Epoch 5/30\n",
      "96/96 [==============================] - 0s 247us/sample - loss: 0.9067 - accuracy: 0.6771 - val_loss: 0.8102 - val_accuracy: 0.8750\n",
      "Epoch 6/30\n",
      "96/96 [==============================] - 0s 300us/sample - loss: 0.8946 - accuracy: 0.7188 - val_loss: 0.7992 - val_accuracy: 0.9167\n",
      "Epoch 7/30\n",
      "96/96 [==============================] - 0s 303us/sample - loss: 0.8828 - accuracy: 0.7604 - val_loss: 0.7906 - val_accuracy: 0.9167\n",
      "Epoch 8/30\n",
      "96/96 [==============================] - 0s 370us/sample - loss: 0.8712 - accuracy: 0.7812 - val_loss: 0.7811 - val_accuracy: 0.9167\n",
      "Epoch 9/30\n",
      "96/96 [==============================] - 0s 278us/sample - loss: 0.8600 - accuracy: 0.8021 - val_loss: 0.7713 - val_accuracy: 0.9167\n",
      "Epoch 10/30\n",
      "96/96 [==============================] - 0s 358us/sample - loss: 0.8490 - accuracy: 0.8021 - val_loss: 0.7634 - val_accuracy: 0.9167\n",
      "Epoch 11/30\n",
      "96/96 [==============================] - 0s 274us/sample - loss: 0.8384 - accuracy: 0.8021 - val_loss: 0.7544 - val_accuracy: 0.9167\n",
      "Epoch 12/30\n",
      "96/96 [==============================] - 0s 282us/sample - loss: 0.8280 - accuracy: 0.8021 - val_loss: 0.7453 - val_accuracy: 0.9167\n",
      "Epoch 13/30\n",
      "96/96 [==============================] - 0s 347us/sample - loss: 0.8177 - accuracy: 0.8125 - val_loss: 0.7367 - val_accuracy: 0.9167\n",
      "Epoch 14/30\n",
      "96/96 [==============================] - 0s 289us/sample - loss: 0.8076 - accuracy: 0.8125 - val_loss: 0.7280 - val_accuracy: 0.9167\n",
      "Epoch 15/30\n",
      "96/96 [==============================] - 0s 379us/sample - loss: 0.7975 - accuracy: 0.8125 - val_loss: 0.7199 - val_accuracy: 0.9167\n",
      "Epoch 16/30\n",
      "96/96 [==============================] - 0s 295us/sample - loss: 0.7873 - accuracy: 0.8125 - val_loss: 0.7123 - val_accuracy: 0.9167\n",
      "Epoch 17/30\n",
      "96/96 [==============================] - 0s 319us/sample - loss: 0.7773 - accuracy: 0.8125 - val_loss: 0.7041 - val_accuracy: 0.9167\n",
      "Epoch 18/30\n",
      "96/96 [==============================] - 0s 331us/sample - loss: 0.7673 - accuracy: 0.8125 - val_loss: 0.6959 - val_accuracy: 0.9167\n",
      "Epoch 19/30\n",
      "96/96 [==============================] - 0s 341us/sample - loss: 0.7575 - accuracy: 0.8125 - val_loss: 0.6886 - val_accuracy: 0.9167\n",
      "Epoch 20/30\n",
      "96/96 [==============================] - 0s 450us/sample - loss: 0.7479 - accuracy: 0.8125 - val_loss: 0.6795 - val_accuracy: 0.9167\n",
      "Epoch 21/30\n",
      "96/96 [==============================] - 0s 297us/sample - loss: 0.7387 - accuracy: 0.8125 - val_loss: 0.6731 - val_accuracy: 0.9167\n",
      "Epoch 22/30\n",
      "96/96 [==============================] - 0s 355us/sample - loss: 0.7290 - accuracy: 0.8125 - val_loss: 0.6652 - val_accuracy: 0.9167\n",
      "Epoch 23/30\n",
      "96/96 [==============================] - 0s 265us/sample - loss: 0.7200 - accuracy: 0.8125 - val_loss: 0.6576 - val_accuracy: 0.9167\n",
      "Epoch 24/30\n",
      "96/96 [==============================] - 0s 317us/sample - loss: 0.7111 - accuracy: 0.8125 - val_loss: 0.6506 - val_accuracy: 0.9167\n",
      "Epoch 25/30\n",
      "96/96 [==============================] - 0s 252us/sample - loss: 0.7020 - accuracy: 0.8125 - val_loss: 0.6432 - val_accuracy: 0.9167\n",
      "Epoch 26/30\n",
      "96/96 [==============================] - 0s 361us/sample - loss: 0.6933 - accuracy: 0.8125 - val_loss: 0.6347 - val_accuracy: 0.9167\n",
      "Epoch 27/30\n",
      "96/96 [==============================] - 0s 395us/sample - loss: 0.6845 - accuracy: 0.8125 - val_loss: 0.6273 - val_accuracy: 0.9167\n",
      "Epoch 28/30\n",
      "96/96 [==============================] - 0s 285us/sample - loss: 0.6761 - accuracy: 0.8125 - val_loss: 0.6204 - val_accuracy: 0.9167\n",
      "Epoch 29/30\n",
      "96/96 [==============================] - 0s 352us/sample - loss: 0.6675 - accuracy: 0.8125 - val_loss: 0.6132 - val_accuracy: 0.9167\n",
      "Epoch 30/30\n",
      "96/96 [==============================] - 0s 264us/sample - loss: 0.6592 - accuracy: 0.8125 - val_loss: 0.6065 - val_accuracy: 0.9167\n"
     ]
    }
   ],
   "source": [
    "\n",
    "history = model_iris.fit(x_train, y_train.values,\n",
    "                    batch_size= 64,\n",
    "                    epochs= 30,\n",
    "                    validation_split=0.2)"
   ]
  },
  {
   "cell_type": "code",
   "execution_count": 12,
   "metadata": {},
   "outputs": [
    {
     "name": "stdout",
     "output_type": "stream",
     "text": [
      "Model: \"my_custom_model\"\n",
      "_________________________________________________________________\n",
      "Layer (type)                 Output Shape              Param #   \n",
      "=================================================================\n",
      "dense (Dense)                multiple                  25        \n",
      "_________________________________________________________________\n",
      "dense_1 (Dense)              multiple                  60        \n",
      "_________________________________________________________________\n",
      "dense_2 (Dense)              multiple                  33        \n",
      "=================================================================\n",
      "Total params: 118\n",
      "Trainable params: 118\n",
      "Non-trainable params: 0\n",
      "_________________________________________________________________\n"
     ]
    },
    {
     "data": {
      "image/png": "[encoded data removed]",
      "text/plain": [
       "<IPython.core.display.Image object>"
      ]
     },
     "execution_count": 12,
     "metadata": {},
     "output_type": "execute_result"
    }
   ],
   "source": [
    "model_iris.summary()\n",
    "#plot_model(model_iris, to_file='../Imagenes/iris_model.png', \n",
    "#           show_shapes=True)"
   ]
  },
  {
   "cell_type": "markdown",
   "metadata": {},
   "source": [
    "## Evaluación del modelo"
   ]
  },
  {
   "cell_type": "code",
   "execution_count": 13,
   "metadata": {},
   "outputs": [],
   "source": [
    "\n",
    "def plot_metric(history, metric):\n",
    "    train_metrics = history.history[metric]\n",
    "    val_metrics = history.history['val_'+metric]\n",
    "    epochs = range(1, len(train_metrics) + 1)\n",
    "    plt.plot(epochs, train_metrics, 'bo--')\n",
    "    plt.plot(epochs, val_metrics, 'ro-')\n",
    "    plt.title('Entrenamiento y validación '+ metric)\n",
    "    plt.xlabel(\"Epochs\")\n",
    "    plt.ylabel(metric)\n",
    "    plt.legend([\"train_\"+metric, 'val_'+metric])\n",
    "    plt.show()"
   ]
  },
  {
   "cell_type": "code",
   "execution_count": 14,
   "metadata": {},
   "outputs": [
    {
     "data": {
      "image/png": "[encoded data removed]",
      "text/plain": [
       "<Figure size 432x288 with 1 Axes>"
      ]
     },
     "metadata": {
      "needs_background": "light"
     },
     "output_type": "display_data"
    }
   ],
   "source": [
    "plot_metric(history, 'loss')"
   ]
  },
  {
   "cell_type": "code",
   "execution_count": 15,
   "metadata": {},
   "outputs": [
    {
     "data": {
      "image/png": "[encoded data removed]",
      "text/plain": [
       "<Figure size 432x288 with 1 Axes>"
      ]
     },
     "metadata": {
      "needs_background": "light"
     },
     "output_type": "display_data"
    }
   ],
   "source": [
    "plot_metric(history, 'accuracy')"
   ]
  },
  {
   "cell_type": "code",
   "execution_count": 16,
   "metadata": {},
   "outputs": [
    {
     "name": "stdout",
     "output_type": "stream",
     "text": [
      "30/30 [==============================] - 0s 165us/sample - loss: 0.7790 - accuracy: 0.7000\n"
     ]
    },
    {
     "data": {
      "text/plain": [
       "[0.7789719104766846, 0.7]"
      ]
     },
     "execution_count": 16,
     "metadata": {},
     "output_type": "execute_result"
    }
   ],
   "source": [
    "model_iris.evaluate(x = x_test,y = y_test.values)"
   ]
  },
  {
   "cell_type": "markdown",
   "metadata": {},
   "source": [
    "## Predicciones"
   ]
  },
  {
   "cell_type": "code",
   "execution_count": 17,
   "metadata": {},
   "outputs": [],
   "source": [
    "# Predicting the Test set results\n",
    "y_pred = model_iris.predict(x_test)\n",
    "y_pred_c = np.argmax(y_pred, axis=1)"
   ]
  },
  {
   "cell_type": "markdown",
   "metadata": {},
   "source": [
    "## Matriz de confusión"
   ]
  },
  {
   "cell_type": "code",
   "execution_count": 18,
   "metadata": {},
   "outputs": [],
   "source": [
    "cm = confusion_matrix(y_test_species, y_pred_c)"
   ]
  },
  {
   "cell_type": "code",
   "execution_count": null,
   "metadata": {},
   "outputs": [],
   "source": [
    "print(\"Our accuracy is {}%\".format(((cm[0][0] + cm[1][1]+ cm[2][2])/y_test_species.shape[0])*100))"
   ]
  },
  {
   "cell_type": "code",
   "execution_count": 19,
   "metadata": {},
   "outputs": [
    {
     "data": {
      "image/png": "[encoded data removed]",
      "text/plain": [
       "<Figure size 432x288 with 2 Axes>"
      ]
     },
     "metadata": {
      "needs_background": "light"
     },
     "output_type": "display_data"
    }
   ],
   "source": [
    "sns.heatmap(cm,annot=True)\n",
    "plt.savefig('h.png')"
   ]
  },
  {
   "cell_type": "markdown",
   "metadata": {},
   "source": [
    "[Regresar al inicio](#Contenido)"
   ]
  }
 ],
 "metadata": {
  "kernelspec": {
   "display_name": "Python 3",
   "language": "python",
   "name": "python3"
  },
  "language_info": {
   "codemirror_mode": {
    "name": "ipython",
    "version": 3
   },
   "file_extension": ".py",
   "mimetype": "text/x-python",
   "name": "python",
   "nbconvert_exporter": "python",
   "pygments_lexer": "ipython3",
   "version": "3.8.5"
  }
 },
 "nbformat": 4,
 "nbformat_minor": 4
}
