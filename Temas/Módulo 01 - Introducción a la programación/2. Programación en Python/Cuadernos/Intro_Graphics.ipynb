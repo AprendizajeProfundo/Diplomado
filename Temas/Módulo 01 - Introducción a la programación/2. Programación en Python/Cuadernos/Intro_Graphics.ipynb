{
 "cells": [
  {
   "cell_type": "markdown",
   "metadata": {},
   "source": [
    "<h1 align='center'> Visualización de Gráficos en Python </h1>\n",
    "\n",
    "Ahora que hemos jugado un poco con la libreria **numpy** para hacer cálculos númericos pertenecientes al Álgebra Lineal, tratemos de visualizar algunos datos.\n",
    "\n",
    "El módulo que contiene las herramientas adecuadas para gráficar datos se llama **matplotlib**.\n",
    "\n",
    "Esta librería fue heredada de **MATLAB** y ahora es sposible usarla de forma gratuita.\n",
    "\n",
    "Es por eso, que para llamar los módulos que funcionan con **Python**, es necesario llamar a la librería interna llamada **pyplot**.\n",
    "\n",
    "Entonces, lo que se hace normalmente es importar la libreŕia como:"
   ]
  },
  {
   "cell_type": "code",
   "execution_count": null,
   "metadata": {},
   "outputs": [],
   "source": [
    "import matplotlib.pyplot as plt"
   ]
  },
  {
   "cell_type": "markdown",
   "metadata": {},
   "source": [
    "Para luego poder gráficar todo lo necesario bajo el Kernel de Python.\n",
    "\n",
    "**Ejemplo:**"
   ]
  },
  {
   "cell_type": "code",
   "execution_count": null,
   "metadata": {},
   "outputs": [],
   "source": [
    "# Create Data for Testing\n",
    "# Data for the x-axis\n",
    "x=[0,1,2,3,4,5,6]\n",
    "# Data for the y-axis\n",
    "y=[0,1,4,9,16,25,36]\n",
    "# Call plot function for plotting. Note the '.' inside plot!!!\n",
    "plt.plot(x,y,'.')\n",
    "# Show the graphics for x,y data\n",
    "plt.show()"
   ]
  },
  {
   "cell_type": "markdown",
   "metadata": {},
   "source": [
    "Bastante simple, ¿verdad?\n",
    "\n",
    "Este el principio de graficación. Lo demás es maquillar la ventana del plot para dar más información al respecto:"
   ]
  },
  {
   "cell_type": "code",
   "execution_count": null,
   "metadata": {},
   "outputs": [],
   "source": [
    "plt.plot(x,y)\n",
    "plt.xlabel(\"Puntos en el eje x\")\n",
    "plt.ylabel(\"Puntos en el eje y\")\n",
    "plt.show()"
   ]
  },
  {
   "cell_type": "markdown",
   "metadata": {},
   "source": [
    "**Ejercicio 1:**\n",
    "\n",
    "- Explique las siguientes líneas de código, colocando comentarios adecuados a cada línea\n",
    "- ¿Por qué el rango de valores en x van de cero a cuatro?\n",
    "- ¿Para qué sirve el método axis?"
   ]
  },
  {
   "cell_type": "code",
   "execution_count": null,
   "metadata": {},
   "outputs": [],
   "source": [
    "import matplotlib.pyplot as plt\n",
    "x=[1,2,3,4,5]\n",
    "plt.plot(x,'o')\n",
    "plt.axis([-2, 6, 0, 7])\n",
    "plt.xlabel(\"Some Numbers\")\n",
    "plt.ylabel(\"Some Other Numbers\")\n",
    "plt.show()"
   ]
  },
  {
   "cell_type": "markdown",
   "metadata": {},
   "source": [
    "## Múltiples Gráficos en una misma Ventana \n",
    "\n",
    "Es posible gráficar varias funciones dentro de un sólo gráfico.\n",
    "\n",
    "Para esto basta definir las funciones y graficarlas dentro del atributo plot:"
   ]
  },
  {
   "cell_type": "code",
   "execution_count": null,
   "metadata": {},
   "outputs": [],
   "source": [
    "import numpy as np\n",
    "\n",
    "# evenly sampled time at 200ms intervals\n",
    "t = np.arange(0., 5., 0.2)\n",
    "\n",
    "# first function: straight line\n",
    "f1=t\n",
    "# second function: Parabola\n",
    "f2=t**2\n",
    "# third function: polynomial of third degree\n",
    "f3=t**3\n",
    "\n",
    "print(\"t =\",t,\"\\n\")\n",
    "print(\"f1 =\",f1,\"\\n\")\n",
    "print(\"f2 =\",f2,\"\\n\")\n",
    "print(\"f3 =\",f3,\"\\n\")\n",
    "\n",
    "# red dashes, blue squares and green triangles\n",
    "plt.plot(t, f1, 'r--', t, f2, 'bs', t, f3, 'g^')\n",
    "plt.show()"
   ]
  },
  {
   "cell_type": "markdown",
   "metadata": {},
   "source": [
    "## Otros Tipos de Plots\n",
    "\n",
    "Es posible graficar datos que estén en otro formato distinto del habitual.\n",
    "\n",
    "Por ejemplo, podemos hacer un diccionario, refiriéndonos a cada parte de los datos con una letra (variable) y graficando cada parte de esa información como si de objetos individuales se tratara:"
   ]
  },
  {
   "cell_type": "code",
   "execution_count": null,
   "metadata": {},
   "outputs": [],
   "source": [
    "data = {'a': np.arange(50),\n",
    "        'c': np.random.randint(0, 50, 50),\n",
    "        'd': np.random.randn(50)}\n",
    "\n",
    "\n",
    "data['b'] = data['a'] + 10 * np.random.randn(50)\n",
    "data['d'] = np.abs(data['d']) * 100\n",
    "\n",
    "print('a:', data['a'][0:5])\n",
    "print('b:',data['b'][0:5])\n",
    "print('c:',data['c'][0:5])\n",
    "print('d:',data['d'][0:5])"
   ]
  },
  {
   "cell_type": "code",
   "execution_count": null,
   "metadata": {},
   "outputs": [],
   "source": [
    "plt.scatter('a', 'b', c='c', s='d', data=data)\n",
    "plt.xlabel('entry a')\n",
    "plt.ylabel('entry b')\n",
    "plt.show()"
   ]
  },
  {
   "cell_type": "markdown",
   "metadata": {},
   "source": [
    "**Ejercicio 2:**\n",
    "\n",
    "- ¿Es posible hacer varias ventanas de plot en una sola ventana de plot? En caso afirmativo, hacer tres en una sola fila\n",
    "- Graficar un ejemplo de datos categóricos\n",
    "\n",
    "**Pista:** Puede guiarse del siguiente código, pero no copiarlo en sus respuestas."
   ]
  },
  {
   "cell_type": "code",
   "execution_count": null,
   "metadata": {},
   "outputs": [],
   "source": [
    "def f(t):\n",
    "    return np.exp(-t) * np.cos(2*np.pi*t)\n",
    "\n",
    "t1 = np.arange(0.0, 5.0, 0.1)\n",
    "t2 = np.arange(0.0, 5.0, 0.02)\n",
    "\n",
    "plt.figure(figsize=(9,6))\n",
    "plt.subplot(211)\n",
    "plt.plot(t1, f(t1), 'bo', t2, f(t2), 'k')\n",
    "\n",
    "plt.subplot(212)\n",
    "plt.plot(t2, np.cos(2*np.pi*t2), 'r--')\n",
    "plt.show()"
   ]
  },
  {
   "cell_type": "markdown",
   "metadata": {},
   "source": [
    "**Ejercicio 3:**\n",
    "\n",
    "- Explique el siguiente código detalladamente y haga sus propias modificaciones\n",
    "- Vaya a la documentación oficial de matplotlib [aquí](https://matplotlib.org/tutorials/introductory/pyplot.html) en la sección **Working With Text**, entiendalo y cree su propia versión."
   ]
  },
  {
   "cell_type": "code",
   "execution_count": null,
   "metadata": {},
   "outputs": [],
   "source": [
    "import matplotlib.pyplot as plt\n",
    "plt.figure(1)                # the first figure\n",
    "plt.subplot(211)             # the first subplot in the first figure\n",
    "plt.plot([1, 2, 3])\n",
    "plt.subplot(212)             # the second subplot in the first figure\n",
    "plt.plot([4, 5, 6])\n",
    "\n",
    "\n",
    "plt.figure(2)                # a second figure\n",
    "plt.plot([4, 5, 6])          # creates a subplot(111) by default\n",
    "\n",
    "plt.figure(1)                # figure 1 current; subplot(212) still current\n",
    "plt.subplot(211)             # make subplot(211) in figure1 current\n",
    "plt.title('Easy as 1, 2, 3') # subplot 211 title\n",
    "plt.show()"
   ]
  },
  {
   "cell_type": "markdown",
   "metadata": {},
   "source": [
    "**Ejercicio 4:**\n",
    "\n",
    "Haga una fila 1x3 de imágenes con lo siguiente:\n",
    "\n",
    "1. Datos científicos\n",
    "2. Una imagen de internet\n",
    "3. Una imagen en 3D"
   ]
  }
 ],
 "metadata": {
  "kernelspec": {
   "display_name": "Python 3",
   "language": "python",
   "name": "python3"
  },
  "language_info": {
   "codemirror_mode": {
    "name": "ipython",
    "version": 3
   },
   "file_extension": ".py",
   "mimetype": "text/x-python",
   "name": "python",
   "nbconvert_exporter": "python",
   "pygments_lexer": "ipython3",
   "version": "3.7.6"
  }
 },
 "nbformat": 4,
 "nbformat_minor": 4
}
