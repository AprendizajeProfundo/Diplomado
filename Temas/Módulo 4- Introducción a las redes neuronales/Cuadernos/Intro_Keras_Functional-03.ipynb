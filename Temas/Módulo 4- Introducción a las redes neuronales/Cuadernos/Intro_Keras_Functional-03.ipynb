{
 "cells": [
  {
   "cell_type": "markdown",
   "id": "systematic-pantyhose",
   "metadata": {
    "tags": []
   },
   "source": [
    "# <span style=\"color:green\"><center>Diplomado en Inteligencia Artificial y Aprendizaje Profundo</center></span>"
   ]
  },
  {
   "cell_type": "markdown",
   "id": "paperback-avenue",
   "metadata": {},
   "source": [
    "# <span style=\"color:red\"><center>Introducción a la API funcional de Keras-3</center></span>"
   ]
  },
  {
   "cell_type": "markdown",
   "id": "shared-commission",
   "metadata": {},
   "source": [
    "##   <span style=\"color:blue\">Profesores</span>"
   ]
  },
  {
   "cell_type": "markdown",
   "id": "premium-shadow",
   "metadata": {},
   "source": [
    "1. Alvaro Mauricio Montenegro Díaz, ammontenegrod@unal.edu.co\n",
    "2. Daniel Mauricio Montenegro Reyes, dextronomo@gmail.com \n",
    "3. Campo Elías Pardo Turriago, cepardot@unal.edu.co "
   ]
  },
  {
   "cell_type": "markdown",
   "id": "charming-australian",
   "metadata": {},
   "source": [
    "##   <span style=\"color:blue\">Asesora Medios y Marketing digital</span>\n",
    " "
   ]
  },
  {
   "cell_type": "markdown",
   "id": "rocky-expression",
   "metadata": {},
   "source": [
    "4. Maria del Pilar Montenegro, pmontenegro88@gmail.com "
   ]
  },
  {
   "cell_type": "markdown",
   "id": "funky-invite",
   "metadata": {},
   "source": [
    "## <span style=\"color:blue\">Asistentes</span>"
   ]
  },
  {
   "cell_type": "markdown",
   "id": "missing-heater",
   "metadata": {},
   "source": [
    "5. Oleg Jarma, ojarmam@unal.edu.co \n",
    "6. Laura Lizarazo, ljlizarazore@unal.edu.co "
   ]
  },
  {
   "cell_type": "markdown",
   "id": "neural-listing",
   "metadata": {},
   "source": [
    "## <span style=\"color:blue\">Contenido</span> "
   ]
  },
  {
   "cell_type": "markdown",
   "id": "postal-characterization",
   "metadata": {},
   "source": [
    "* [Introducción](#Introducción)\n",
    "* [Prepara datos de MNIST](#Prepara-datos-de-MNIST)\n",
    "* [Separa lotes de datos y mezclar el conjunto de datos](#Separa-lotes-de-datos-y-mezcla-el-conjunto-de-datos)\n",
    "* [API Fucional de Keras. Sub-clases](#API-Funcional-de-Keras.-Sub-clases)\n",
    "* [Optimizador y función de pérdida](#Optimizador-y-función-de-pérdida)\n",
    "* [Métricas para medir pérdida y precisión](#Métricas-para-medir-pérdida-y-precisión)\n",
    "* [Función de entrenamiento: diferenciación automática con tf.GradientTape](#Función-de-entrenamiento:-diferenciación-automática-con-tf.GradientTape)\n",
    "* [Compila el modelo](#Compila-el-modelo)\n",
    "* [Summary y Plot Model](#Summary-y-Plot-Model) \n",
    "* [Entrenamiento y evaluación del modelo](#Entrenamiento-y-evaluación-del-modelo) "
   ]
  },
  {
   "cell_type": "markdown",
   "id": "decent-crawford",
   "metadata": {},
   "source": [
    "## <span style=\"color:blue\">Introducción</span>"
   ]
  },
  {
   "cell_type": "markdown",
   "id": "passive-drama",
   "metadata": {},
   "source": [
    "Este es un notebook de Google Colaboratory. Los programas de Python se executan directamente en tu navegador,  una gran manera de aprender y utilizar TensorFlow. Para poder seguir este tutorial, ejecuta este notebook en Google Colab. Basado en [Tensorflow- quick start expertos](https://www.tensorflow.org/tutorials/quickstart/advanced)\n"
   ]
  },
  {
   "cell_type": "code",
   "execution_count": 16,
   "id": "artistic-plumbing",
   "metadata": {},
   "outputs": [
    {
     "name": "stdout",
     "output_type": "stream",
     "text": [
      "Version de Tensorflow =  2.4.1\n"
     ]
    }
   ],
   "source": [
    "from __future__ import absolute_import, division, print_function\n",
    "\n",
    "import tensorflow as tf\n",
    "print('Version de Tensorflow = ', tf.__version__)\n",
    "\n",
    "# Objetos de la API de Keras\n",
    "from tensorflow.keras.layers import Dense, Flatten, Conv2D, Activation, MaxPooling2D\n",
    "from tensorflow.keras.layers import BatchNormalization,GlobalAveragePooling2D, Dropout\n",
    "from tensorflow.keras import Model\n",
    "\n",
    "from tensorflow.keras.utils import plot_model\n",
    "\n",
    "# datos mnist\n",
    "from tensorflow.keras.datasets import mnist\n"
   ]
  },
  {
   "cell_type": "markdown",
   "id": "advisory-builder",
   "metadata": {},
   "source": [
    "## <span style=\"color:blue\">Prepara datos de MNIST</span> "
   ]
  },
  {
   "cell_type": "code",
   "execution_count": 2,
   "id": "demonstrated-irrigation",
   "metadata": {},
   "outputs": [],
   "source": [
    "\n",
    "(x_train, y_train), (x_test, y_test) = mnist.load_data()\n",
    "x_train, x_test = x_train/255.0, x_test/255.0\n",
    "\n",
    "# Agrega una dimensión para manejo de canales de imágenes en tensorflow\n",
    "x_train = x_train[...,tf.newaxis]\n",
    "x_test = x_test[...,tf.newaxis]"
   ]
  },
  {
   "cell_type": "code",
   "execution_count": 3,
   "id": "suited-comparison",
   "metadata": {},
   "outputs": [
    {
     "data": {
      "text/plain": [
       "(10000, 28, 28, 1)"
      ]
     },
     "execution_count": 3,
     "metadata": {},
     "output_type": "execute_result"
    }
   ],
   "source": [
    "x_test.shape"
   ]
  },
  {
   "cell_type": "markdown",
   "id": "dynamic-cleaner",
   "metadata": {},
   "source": [
    "## <span style=\"color:blue\">API Funcional de Keras. Sub-clases</span>"
   ]
  },
  {
   "cell_type": "code",
   "execution_count": null,
   "id": "gothic-competition",
   "metadata": {},
   "outputs": [],
   "source": [
    "VAmos a derivar nuestro model de la clase Model de la API funcional de Keras."
   ]
  },
  {
   "cell_type": "code",
   "execution_count": 17,
   "id": "psychological-terminology",
   "metadata": {},
   "outputs": [],
   "source": [
    "class MyModel(Model):\n",
    "    def __init__(self):\n",
    "        super(MyModel,self).__init__()\n",
    "        self.conv1 = Conv2D(32, 3, strides=2, padding=\"same\")\n",
    "        self.nomalization1 = BatchNormalization()\n",
    "        self.activation1 = Activation(\"relu\")\n",
    "        self.maxpooling1 = MaxPooling2D(3, strides=2, padding=\"same\")\n",
    "        self.dropout1 = Dropout(0.4)\n",
    "        self.conv2 = Conv2D(64, 3, strides=2, padding=\"same\")\n",
    "        self.nomalization2 = BatchNormalization()\n",
    "        self.activation2 = Activation(\"relu\")\n",
    "        self.global_average = GlobalAveragePooling2D()\n",
    "        #self.flatten= Flatten()\n",
    "        #self.d1 = Dense(128, activation='relu')\n",
    "        self.d2 = Dense(10, activation='softmax')\n",
    "\n",
    "    def call(self,x):\n",
    "        x = self.conv1(x)\n",
    "        x = self.nomalization1(x)\n",
    "        x = self.activation1(x)\n",
    "        x = self.maxpooling1(x)\n",
    "        x = self.dropout1(x)\n",
    "        x = self.conv2(x)\n",
    "        x = self.nomalization2(x)\n",
    "        x = self.activation2(x)\n",
    "        x = self.global_average(x)\n",
    "        #x = self.flatten(x)\n",
    "        #x = self.d1(x)\n",
    "        return self.d2(x)\n",
    "\n",
    "# crea una instancia del modelo\n",
    "model = MyModel()"
   ]
  },
  {
   "cell_type": "markdown",
   "id": "adult-diameter",
   "metadata": {},
   "source": [
    "## <span style=\"color:blue\">Compile</span>"
   ]
  },
  {
   "cell_type": "markdown",
   "id": "entitled-robert",
   "metadata": {},
   "source": [
    "Escoge metricas para medir la perdida y exactitud del modelo. Estas metricas acumulan los valores cada epoch y despues imprimen el resultado total.\n"
   ]
  },
  {
   "cell_type": "code",
   "execution_count": 18,
   "id": "painted-representation",
   "metadata": {},
   "outputs": [],
   "source": [
    "model.compile(optimizer= \"Adam\",\n",
    "             loss=\"SparseCategoricalCrossentropy\",\n",
    "             metrics=[\"accuracy\"])"
   ]
  },
  {
   "cell_type": "markdown",
   "id": "driving-mobility",
   "metadata": {},
   "source": [
    "## <span style=\"color:blue\">Entrena</span>"
   ]
  },
  {
   "cell_type": "code",
   "execution_count": 19,
   "id": "emerging-german",
   "metadata": {},
   "outputs": [
    {
     "name": "stdout",
     "output_type": "stream",
     "text": [
      "Epoch 1/10\n",
      "938/938 - 53s - loss: 1.0861 - accuracy: 0.6945 - val_loss: 0.5977 - val_accuracy: 0.8502\n",
      "Epoch 2/10\n",
      "938/938 - 49s - loss: 0.5247 - accuracy: 0.8635 - val_loss: 0.3469 - val_accuracy: 0.9162\n",
      "Epoch 3/10\n",
      "938/938 - 54s - loss: 0.3531 - accuracy: 0.9094 - val_loss: 0.2050 - val_accuracy: 0.9501\n",
      "Epoch 4/10\n",
      "938/938 - 47s - loss: 0.2801 - accuracy: 0.9250 - val_loss: 0.1806 - val_accuracy: 0.9502\n",
      "Epoch 5/10\n",
      "938/938 - 46s - loss: 0.2382 - accuracy: 0.9359 - val_loss: 0.1448 - val_accuracy: 0.9608\n",
      "Epoch 6/10\n",
      "938/938 - 47s - loss: 0.2146 - accuracy: 0.9412 - val_loss: 0.1377 - val_accuracy: 0.9614\n",
      "Epoch 7/10\n",
      "938/938 - 49s - loss: 0.1941 - accuracy: 0.9455 - val_loss: 0.1700 - val_accuracy: 0.9525\n",
      "Epoch 8/10\n",
      "938/938 - 44s - loss: 0.1814 - accuracy: 0.9482 - val_loss: 0.1270 - val_accuracy: 0.9621\n",
      "Epoch 9/10\n",
      "938/938 - 52s - loss: 0.1679 - accuracy: 0.9512 - val_loss: 0.1604 - val_accuracy: 0.9532\n",
      "Epoch 10/10\n",
      "938/938 - 44s - loss: 0.1613 - accuracy: 0.9535 - val_loss: 0.0941 - val_accuracy: 0.9725\n"
     ]
    }
   ],
   "source": [
    "\n",
    "history = model.fit(x_train, y_train, \n",
    "                    validation_data = (x_test,y_test),\n",
    "                    batch_size = 64,\n",
    "                    shuffle=True,\n",
    "                    verbose=2,\n",
    "                    epochs=10)"
   ]
  },
  {
   "cell_type": "markdown",
   "id": "homeless-christmas",
   "metadata": {},
   "source": [
    "# Gráficas"
   ]
  },
  {
   "cell_type": "markdown",
   "id": "narrative-celebration",
   "metadata": {},
   "source": [
    "## <span style=\"color:blue\">Primeros gráficos</span> "
   ]
  },
  {
   "cell_type": "markdown",
   "id": "american-stress",
   "metadata": {},
   "source": [
    "### Extrae datos"
   ]
  },
  {
   "cell_type": "code",
   "execution_count": 20,
   "id": "tight-cornell",
   "metadata": {},
   "outputs": [
    {
     "data": {
      "text/html": [
       "<div>\n",
       "<style scoped>\n",
       "    .dataframe tbody tr th:only-of-type {\n",
       "        vertical-align: middle;\n",
       "    }\n",
       "\n",
       "    .dataframe tbody tr th {\n",
       "        vertical-align: top;\n",
       "    }\n",
       "\n",
       "    .dataframe thead th {\n",
       "        text-align: right;\n",
       "    }\n",
       "</style>\n",
       "<table border=\"1\" class=\"dataframe\">\n",
       "  <thead>\n",
       "    <tr style=\"text-align: right;\">\n",
       "      <th></th>\n",
       "      <th>loss</th>\n",
       "      <th>accuracy</th>\n",
       "      <th>val_loss</th>\n",
       "      <th>val_accuracy</th>\n",
       "      <th>epoch</th>\n",
       "    </tr>\n",
       "  </thead>\n",
       "  <tbody>\n",
       "    <tr>\n",
       "      <th>0</th>\n",
       "      <td>1.086112</td>\n",
       "      <td>0.694450</td>\n",
       "      <td>0.597735</td>\n",
       "      <td>0.8502</td>\n",
       "      <td>0</td>\n",
       "    </tr>\n",
       "    <tr>\n",
       "      <th>1</th>\n",
       "      <td>0.524672</td>\n",
       "      <td>0.863467</td>\n",
       "      <td>0.346940</td>\n",
       "      <td>0.9162</td>\n",
       "      <td>1</td>\n",
       "    </tr>\n",
       "    <tr>\n",
       "      <th>2</th>\n",
       "      <td>0.353114</td>\n",
       "      <td>0.909367</td>\n",
       "      <td>0.205046</td>\n",
       "      <td>0.9501</td>\n",
       "      <td>2</td>\n",
       "    </tr>\n",
       "    <tr>\n",
       "      <th>3</th>\n",
       "      <td>0.280106</td>\n",
       "      <td>0.925033</td>\n",
       "      <td>0.180625</td>\n",
       "      <td>0.9502</td>\n",
       "      <td>3</td>\n",
       "    </tr>\n",
       "    <tr>\n",
       "      <th>4</th>\n",
       "      <td>0.238196</td>\n",
       "      <td>0.935900</td>\n",
       "      <td>0.144808</td>\n",
       "      <td>0.9608</td>\n",
       "      <td>4</td>\n",
       "    </tr>\n",
       "    <tr>\n",
       "      <th>5</th>\n",
       "      <td>0.214641</td>\n",
       "      <td>0.941233</td>\n",
       "      <td>0.137737</td>\n",
       "      <td>0.9614</td>\n",
       "      <td>5</td>\n",
       "    </tr>\n",
       "    <tr>\n",
       "      <th>6</th>\n",
       "      <td>0.194147</td>\n",
       "      <td>0.945467</td>\n",
       "      <td>0.170007</td>\n",
       "      <td>0.9525</td>\n",
       "      <td>6</td>\n",
       "    </tr>\n",
       "    <tr>\n",
       "      <th>7</th>\n",
       "      <td>0.181433</td>\n",
       "      <td>0.948250</td>\n",
       "      <td>0.127024</td>\n",
       "      <td>0.9621</td>\n",
       "      <td>7</td>\n",
       "    </tr>\n",
       "    <tr>\n",
       "      <th>8</th>\n",
       "      <td>0.167895</td>\n",
       "      <td>0.951183</td>\n",
       "      <td>0.160419</td>\n",
       "      <td>0.9532</td>\n",
       "      <td>8</td>\n",
       "    </tr>\n",
       "    <tr>\n",
       "      <th>9</th>\n",
       "      <td>0.161275</td>\n",
       "      <td>0.953483</td>\n",
       "      <td>0.094053</td>\n",
       "      <td>0.9725</td>\n",
       "      <td>9</td>\n",
       "    </tr>\n",
       "  </tbody>\n",
       "</table>\n",
       "</div>"
      ],
      "text/plain": [
       "       loss  accuracy  val_loss  val_accuracy  epoch\n",
       "0  1.086112  0.694450  0.597735        0.8502      0\n",
       "1  0.524672  0.863467  0.346940        0.9162      1\n",
       "2  0.353114  0.909367  0.205046        0.9501      2\n",
       "3  0.280106  0.925033  0.180625        0.9502      3\n",
       "4  0.238196  0.935900  0.144808        0.9608      4\n",
       "5  0.214641  0.941233  0.137737        0.9614      5\n",
       "6  0.194147  0.945467  0.170007        0.9525      6\n",
       "7  0.181433  0.948250  0.127024        0.9621      7\n",
       "8  0.167895  0.951183  0.160419        0.9532      8\n",
       "9  0.161275  0.953483  0.094053        0.9725      9"
      ]
     },
     "execution_count": 20,
     "metadata": {},
     "output_type": "execute_result"
    }
   ],
   "source": [
    "import matplotlib.pyplot as plt\n",
    "import pandas as pd\n",
    "hist = pd.DataFrame(history.history)\n",
    "hist['epoch'] = history.epoch \n",
    "hist"
   ]
  },
  {
   "cell_type": "markdown",
   "id": "colored-horror",
   "metadata": {},
   "source": [
    "### Pérdida"
   ]
  },
  {
   "cell_type": "code",
   "execution_count": 21,
   "id": "exempt-cedar",
   "metadata": {},
   "outputs": [
    {
     "data": {
      "image/png": "[encoded data removed]",
      "text/plain": [
       "<Figure size 432x288 with 1 Axes>"
      ]
     },
     "metadata": {
      "needs_background": "light"
     },
     "output_type": "display_data"
    }
   ],
   "source": [
    "\n",
    "plt.figure()\n",
    "plt.xlabel('Epoca')\n",
    "plt.ylabel('Loss: Entropía cruzada')\n",
    "plt.plot(hist['epoch'], hist['loss'],\n",
    "           label='Error en entrenamiento')\n",
    "plt.plot(hist['epoch'], hist['val_loss'],\n",
    "           label='Error en validación')\n",
    "plt.ylim([0,0.5])\n",
    "plt.legend()\n",
    "plt.show()"
   ]
  },
  {
   "cell_type": "markdown",
   "id": "equal-sheriff",
   "metadata": {},
   "source": [
    "### Exactitud"
   ]
  },
  {
   "cell_type": "code",
   "execution_count": 22,
   "id": "specific-intranet",
   "metadata": {},
   "outputs": [
    {
     "data": {
      "image/png": "[encoded data removed]",
      "text/plain": [
       "<Figure size 432x288 with 1 Axes>"
      ]
     },
     "metadata": {
      "needs_background": "light"
     },
     "output_type": "display_data"
    }
   ],
   "source": [
    "\n",
    "plt.figure()\n",
    "plt.xlabel('Epoca')\n",
    "plt.ylabel('Exactitud')\n",
    "plt.plot(hist['epoch'], hist['accuracy'],\n",
    "           label='Exactitud en entrenamiento')\n",
    "plt.plot(hist['epoch'], hist['val_accuracy'],\n",
    "           label='Exactitud en validación')\n",
    "plt.ylim([0.7,1])\n",
    "plt.legend()\n",
    "plt.show()"
   ]
  },
  {
   "cell_type": "markdown",
   "id": "loved-bibliography",
   "metadata": {},
   "source": [
    "## <span style=\"color:blue\">Summary y plot</span>"
   ]
  },
  {
   "cell_type": "code",
   "execution_count": 23,
   "id": "excess-moses",
   "metadata": {},
   "outputs": [
    {
     "name": "stdout",
     "output_type": "stream",
     "text": [
      "Model: \"my_model_3\"\n",
      "_________________________________________________________________\n",
      "Layer (type)                 Output Shape              Param #   \n",
      "=================================================================\n",
      "conv2d_4 (Conv2D)            multiple                  320       \n",
      "_________________________________________________________________\n",
      "batch_normalization_4 (Batch multiple                  128       \n",
      "_________________________________________________________________\n",
      "activation_3 (Activation)    multiple                  0         \n",
      "_________________________________________________________________\n",
      "max_pooling2d_1 (MaxPooling2 multiple                  0         \n",
      "_________________________________________________________________\n",
      "dropout (Dropout)            multiple                  0         \n",
      "_________________________________________________________________\n",
      "conv2d_5 (Conv2D)            multiple                  18496     \n",
      "_________________________________________________________________\n",
      "batch_normalization_5 (Batch multiple                  256       \n",
      "_________________________________________________________________\n",
      "activation_4 (Activation)    multiple                  0         \n",
      "_________________________________________________________________\n",
      "global_average_pooling2d_1 ( multiple                  0         \n",
      "_________________________________________________________________\n",
      "dense_1 (Dense)              multiple                  650       \n",
      "=================================================================\n",
      "Total params: 19,850\n",
      "Trainable params: 19,658\n",
      "Non-trainable params: 192\n",
      "_________________________________________________________________\n"
     ]
    }
   ],
   "source": [
    "model.summary()"
   ]
  },
  {
   "cell_type": "code",
   "execution_count": 24,
   "id": "dramatic-organization",
   "metadata": {},
   "outputs": [
    {
     "data": {
      "image/png": "[encoded data removed]",
      "text/plain": [
       "<IPython.core.display.Image object>"
      ]
     },
     "execution_count": 24,
     "metadata": {},
     "output_type": "execute_result"
    }
   ],
   "source": [
    "plot_model(model, to_file='../Imagenes/mnist_conv2d.png', \n",
    "          show_shapes=True, show_dtype=False)"
   ]
  },
  {
   "cell_type": "code",
   "execution_count": null,
   "id": "bulgarian-beach",
   "metadata": {},
   "outputs": [],
   "source": []
  }
 ],
 "metadata": {
  "kernelspec": {
   "display_name": "Python 3",
   "language": "python",
   "name": "python3"
  },
  "language_info": {
   "codemirror_mode": {
    "name": "ipython",
    "version": 3
   },
   "file_extension": ".py",
   "mimetype": "text/x-python",
   "name": "python",
   "nbconvert_exporter": "python",
   "pygments_lexer": "ipython3",
   "version": "3.8.8"
  }
 },
 "nbformat": 4,
 "nbformat_minor": 5
}
