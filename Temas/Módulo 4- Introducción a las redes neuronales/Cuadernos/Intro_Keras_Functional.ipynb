{
 "cells": [
  {
   "cell_type": "code",
   "execution_count": null,
   "id": "expected-virtue",
   "metadata": {},
   "outputs": [],
   "source": []
  },
  {
   "cell_type": "markdown",
   "id": "younger-nashville",
   "metadata": {
    "tags": []
   },
   "source": [
    "# <span style=\"color:green\"><center>Diplomado en Inteligencia Artificial y Aprendizaje Profundo</center></span>"
   ]
  },
  {
   "cell_type": "markdown",
   "id": "spiritual-safety",
   "metadata": {},
   "source": [
    "# <span style=\"color:red\"><center>Introducción a la API funcional de Keras</center></span>"
   ]
  },
  {
   "cell_type": "markdown",
   "id": "corporate-compression",
   "metadata": {},
   "source": [
    "##   <span style=\"color:blue\">Profesores</span>"
   ]
  },
  {
   "cell_type": "markdown",
   "id": "south-stockholm",
   "metadata": {},
   "source": [
    "1. Alvaro Mauricio Montenegro Díaz, ammontenegrod@unal.edu.co\n",
    "2. Daniel Mauricio Montenegro Reyes, dextronomo@gmail.com \n",
    "3. Campo Elías Pardo Turriago, cepardot@unal.edu.co "
   ]
  },
  {
   "cell_type": "markdown",
   "id": "compliant-library",
   "metadata": {},
   "source": [
    "##   <span style=\"color:blue\">Asesora Medios y Marketing digital</span>\n",
    " "
   ]
  },
  {
   "cell_type": "markdown",
   "id": "sealed-senator",
   "metadata": {},
   "source": [
    "4. Maria del Pilar Montenegro, pmontenegro88@gmail.com "
   ]
  },
  {
   "cell_type": "markdown",
   "id": "aquatic-extreme",
   "metadata": {},
   "source": [
    "## <span style=\"color:blue\">Asistentes</span>"
   ]
  },
  {
   "cell_type": "markdown",
   "id": "honest-cornwall",
   "metadata": {},
   "source": [
    "5. Oleg Jarma, ojarmam@unal.edu.co \n",
    "6. Laura Lizarazo, ljlizarazore@unal.edu.co "
   ]
  },
  {
   "cell_type": "markdown",
   "id": "returning-orange",
   "metadata": {},
   "source": [
    "## <span style=\"color:blue\">Contenido</span> "
   ]
  },
  {
   "cell_type": "markdown",
   "id": "liquid-banking",
   "metadata": {},
   "source": [
    "* [Introducción](#Introducción)\n",
    "* [Prepara datos de MNIST](#Prepara-datos-de-MNIST)\n",
    "* [Separa lotes de datos y mezclar el conjunto de datos](#Separa-lotes-de-datos-y-mezcla-el-conjunto-de-datos)\n",
    "* [API Fucional de Keras. Sub-clases](#API-Funcional-de-Keras.-Sub-clases)\n",
    "* [Optimizador y función de pérdida](#Optimizador-y-función-de-pérdida)\n",
    "* [Métricas para medir pérdida y precisión](#Métricas-para-medir-pérdida-y-precisión)\n",
    "* [Función de entrenamiento: diferenciación automática con tf.GradientTape](#Función-de-entrenamiento:-diferenciación-automática-con-tf.GradientTape)\n",
    "* [Compila el modelo](#Compila-el-modelo)\n",
    "* [Summary y Plot Model](#Summary-y-Plot-Model) \n",
    "* [Entrenamiento y evaluación del modelo](#Entrenamiento-y-evaluación-del-modelo) "
   ]
  },
  {
   "cell_type": "markdown",
   "id": "pediatric-obligation",
   "metadata": {},
   "source": [
    "## <span style=\"color:blue\">Introducción</span>"
   ]
  },
  {
   "cell_type": "markdown",
   "id": "innovative-prophet",
   "metadata": {},
   "source": [
    "Este es un notebook de Google Colaboratory. Los programas de Python se executan directamente en tu navegador,  una gran manera de aprender y utilizar TensorFlow. Para poder seguir este tutorial, ejecuta este notebook en Google Colab. Basado en [Tensorflow- quick start expertos](https://www.tensorflow.org/tutorials/quickstart/advanced)\n"
   ]
  },
  {
   "cell_type": "code",
   "execution_count": 48,
   "id": "valid-checkout",
   "metadata": {},
   "outputs": [
    {
     "name": "stdout",
     "output_type": "stream",
     "text": [
      "Version de Tensorflow =  2.4.1\n"
     ]
    }
   ],
   "source": [
    "from __future__ import absolute_import, division, print_function\n",
    "\n",
    "import tensorflow as tf\n",
    "print('Version de Tensorflow = ', tf.__version__)\n",
    "\n",
    "# Objetos de la API de Keras\n",
    "from tensorflow.keras.layers import Dense, Flatten, Conv2D\n",
    "from tensorflow.keras import Model\n",
    "from tensorflow.keras.losses import SparseCategoricalCrossentropy\n",
    "from tensorflow.keras.optimizers import Adam\n",
    "from tensorflow.keras.utils import plot_model\n",
    "\n",
    "# datos mnist\n",
    "from tensorflow.keras.datasets import mnist\n",
    "\n",
    "# Manejo de datasets como tensores de tf\n",
    "dataset = tf.data.Dataset.from_tensor_slices\n",
    "\n",
    "# Métricas para medir pérdida y precisión\n",
    "loss_metric     = tf.keras.metrics.Mean\n",
    "accuracy_metric = tf.keras.metrics.SparseCategoricalAccuracy"
   ]
  },
  {
   "cell_type": "markdown",
   "id": "billion-porcelain",
   "metadata": {},
   "source": [
    "## <span style=\"color:blue\">Prepara datos de MNIST</span> "
   ]
  },
  {
   "cell_type": "code",
   "execution_count": 22,
   "id": "included-columbia",
   "metadata": {},
   "outputs": [],
   "source": [
    "\n",
    "(x_train, y_train), (x_test, y_test) = mnist.load_data()\n",
    "x_train, x_test = x_train/255.0, x_test/255.0\n",
    "\n",
    "# Agrega una dimensión para manejo de canales de imágenes en tensorflow\n",
    "x_train = x_train[...,tf.newaxis]\n",
    "x_test = x_test[...,tf.newaxis]"
   ]
  },
  {
   "cell_type": "code",
   "execution_count": 23,
   "id": "personalized-concrete",
   "metadata": {},
   "outputs": [
    {
     "data": {
      "text/plain": [
       "(10000, 28, 28, 1)"
      ]
     },
     "execution_count": 23,
     "metadata": {},
     "output_type": "execute_result"
    }
   ],
   "source": [
    "x_test.shape"
   ]
  },
  {
   "cell_type": "markdown",
   "id": "recent-narrow",
   "metadata": {},
   "source": [
    "## <span style=\"color:blue\">Separa lotes de datos  y mezclar el conjunto de datos</span>"
   ]
  },
  {
   "cell_type": "markdown",
   "id": "reliable-syracuse",
   "metadata": {},
   "source": [
    "Usamos *tf.data*.  Revise cuidadosamente el tutorial  [tf.data: compila canalizaciones de entrada de TensorFlow](https://www.tensorflow.org/guide/data)"
   ]
  },
  {
   "cell_type": "code",
   "execution_count": 27,
   "id": "indonesian-toner",
   "metadata": {},
   "outputs": [],
   "source": [
    "train_ds = dataset((x_train, y_train)).shuffle(10000).batch(32)\n",
    "\n",
    "test_ds  = dataset((x_test, y_test)).shuffle(10000).batch(32)"
   ]
  },
  {
   "cell_type": "code",
   "execution_count": 28,
   "id": "italic-power",
   "metadata": {},
   "outputs": [
    {
     "data": {
      "text/plain": [
       "<BatchDataset shapes: ((None, 28, 28, 1), (None,)), types: (tf.float64, tf.uint8)>"
      ]
     },
     "execution_count": 28,
     "metadata": {},
     "output_type": "execute_result"
    }
   ],
   "source": [
    "test_ds"
   ]
  },
  {
   "cell_type": "markdown",
   "id": "integrated-amino",
   "metadata": {},
   "source": [
    "## <span style=\"color:blue\">API Funcional de Keras. Sub-clases</span>"
   ]
  },
  {
   "cell_type": "code",
   "execution_count": null,
   "id": "economic-writer",
   "metadata": {},
   "outputs": [],
   "source": [
    "VAmos a derivar nuestro model de la clase Model de la API funcional de Keras."
   ]
  },
  {
   "cell_type": "code",
   "execution_count": 44,
   "id": "consolidated-affect",
   "metadata": {},
   "outputs": [],
   "source": [
    "class MyModel(Model):\n",
    "    def __init__(self):\n",
    "        super(MyModel,self).__init__()\n",
    "        self.conv1 = Conv2D(32, 3, activation='relu')\n",
    "        self.flatten= Flatten()\n",
    "        self.d1 = Dense(128, activation='relu')\n",
    "        self.d2 = Dense(10, activation='softmax')\n",
    "    \n",
    "    def call(self,x):\n",
    "        x = self.conv1(x)\n",
    "        x = self.flatten(x)\n",
    "        x = self.d1(x)\n",
    "        return self.d2(x)\n",
    "\n",
    "# crea una instancia del modelo\n",
    "model = MyModel()"
   ]
  },
  {
   "cell_type": "markdown",
   "id": "graphic-background",
   "metadata": {},
   "source": [
    "## <span style=\"color:blue\">Optimizador y función de pérdida</span>"
   ]
  },
  {
   "cell_type": "markdown",
   "id": "fundamental-width",
   "metadata": {},
   "source": [
    "Usaremos la entropía cruzada con varias clases (10 en este caso) y el optimizador Adam. La función *SparseCategoricalCrossentropy* recibe como entrada enteros y construye internamente la [codificación one-hot](https://en.wikipedia.org/wiki/One-hot). Puede usar ls función *CategoricalCrossentropy* si desse ingrear directamente las etiquetas en codificación one-hot.\n",
    "\n",
    "Asegúrese de entender la *entropía cruzada* y su relación con la *codificación one-hot*. \n",
    "\n",
    "En caso de duda, consulte al instructor."
   ]
  },
  {
   "cell_type": "code",
   "execution_count": 36,
   "id": "polar-nelson",
   "metadata": {},
   "outputs": [],
   "source": [
    "loss_object = SparseCategoricalCrossentropy()\n",
    "\n",
    "optimizer = Adam()"
   ]
  },
  {
   "cell_type": "code",
   "execution_count": null,
   "id": "excess-colleague",
   "metadata": {},
   "outputs": [],
   "source": [
    "Suponga por ejemplo que tiene tres categorías: 1,2,3. Discuta el siguiente fragmento (snippet) de código.\n",
    "    "
   ]
  },
  {
   "cell_type": "code",
   "execution_count": 37,
   "id": "amateur-array",
   "metadata": {},
   "outputs": [
    {
     "data": {
      "text/plain": [
       "1.1769392"
      ]
     },
     "execution_count": 37,
     "metadata": {},
     "output_type": "execute_result"
    }
   ],
   "source": [
    "y_true = [1, 2]\n",
    "y_pred = [[0.05, 0.95, 0], [0.1, 0.8, 0.1]]\n",
    "\n",
    "loss_object(y_true, y_pred).numpy()"
   ]
  },
  {
   "cell_type": "markdown",
   "id": "extensive-thursday",
   "metadata": {},
   "source": [
    "Puede verificar que en este caso el resultado se obtien de la siguiente forma. Explique por favor."
   ]
  },
  {
   "cell_type": "code",
   "execution_count": 14,
   "id": "breathing-frederick",
   "metadata": {},
   "outputs": [
    {
     "data": {
      "text/plain": [
       "1.176939193690798"
      ]
     },
     "execution_count": 14,
     "metadata": {},
     "output_type": "execute_result"
    }
   ],
   "source": [
    "import numpy as np\n",
    "\n",
    "-(np.log(0.95) + np.log(0.1))/2"
   ]
  },
  {
   "cell_type": "markdown",
   "id": "convenient-sperm",
   "metadata": {},
   "source": [
    "O lo que es lo mismo"
   ]
  },
  {
   "cell_type": "code",
   "execution_count": 19,
   "id": "ranking-spank",
   "metadata": {},
   "outputs": [
    {
     "data": {
      "text/plain": [
       "1.176939193690798"
      ]
     },
     "execution_count": 19,
     "metadata": {},
     "output_type": "execute_result"
    }
   ],
   "source": [
    "-(np.log(y_pred[0][y_true[0]]) + np.log(y_pred[1][y_true[1]]))/len(y_pred)"
   ]
  },
  {
   "cell_type": "markdown",
   "id": "thermal-north",
   "metadata": {},
   "source": [
    "## <span style=\"color:blue\">Métricas para medir pérdida y precisión</span>"
   ]
  },
  {
   "cell_type": "markdown",
   "id": "express-hunger",
   "metadata": {},
   "source": [
    "Escoge metricas para medir la perdida y exactitud del modelo. Estas metricas acumulan los valores cada epoch y despues imprimen el resultado total.\n"
   ]
  },
  {
   "cell_type": "code",
   "execution_count": 39,
   "id": "opened-galaxy",
   "metadata": {},
   "outputs": [],
   "source": [
    "train_loss = loss_metric(name='train_loss')\n",
    "train_accuracy = accuracy_metric(name='train_accuracy')\n",
    "\n",
    "test_loss = loss_metric(name='test_loss')\n",
    "test_accuracy = accuracy_metric(name='loss_accuracy')\n"
   ]
  },
  {
   "cell_type": "markdown",
   "id": "later-disabled",
   "metadata": {},
   "source": [
    "## <span style=\"color:blue\">Función de entrenamiento: diferenciación automática con tf.GradientTape</span>"
   ]
  },
  {
   "cell_type": "markdown",
   "id": "signed-sierra",
   "metadata": {},
   "source": [
    "La función de entrenamiento es decorada con el decorador *@tf.function*  Este decorado compila la función como un grafo de TensofFlow invocable."
   ]
  },
  {
   "cell_type": "code",
   "execution_count": 52,
   "id": "multiple-ultimate",
   "metadata": {},
   "outputs": [],
   "source": [
    "@tf.function\n",
    "def train_step(images, labels):\n",
    "    with tf.GradientTape() as tape:\n",
    "        predictions = model(images)\n",
    "        loss = loss_object(labels, predictions)\n",
    "    gradients = tape.gradient(loss, model.trainable_variables)\n",
    "    optimizer.apply_gradients(zip(gradients, model.trainable_variables))\n",
    "    \n",
    "    train_loss(loss)\n",
    "    train_accuracy(labels, predictions)\n",
    "    "
   ]
  },
  {
   "cell_type": "markdown",
   "id": "square-cologne",
   "metadata": {},
   "source": [
    "## <span style=\"color:blue\">Función de prueba (test)</span>"
   ]
  },
  {
   "cell_type": "code",
   "execution_count": 51,
   "id": "developing-watts",
   "metadata": {},
   "outputs": [],
   "source": [
    "@tf.function\n",
    "def test_step(images, labels):\n",
    "    predictions = model(images)\n",
    "    t_loss = loss_object(labels, predictions)\n",
    "\n",
    "    test_loss(t_loss)\n",
    "    test_accuracy(labels, predictions)"
   ]
  },
  {
   "cell_type": "markdown",
   "id": "uniform-sentence",
   "metadata": {},
   "source": [
    "## <span style=\"color:blue\">Entrena el modelo</span>"
   ]
  },
  {
   "cell_type": "code",
   "execution_count": 56,
   "id": "amended-definition",
   "metadata": {},
   "outputs": [],
   "source": [
    "def fit(train_dataset, test_dataset, epochs):\n",
    "    for epoch in range(epochs):\n",
    "        for images, labels in train_dataset:\n",
    "            train_step(images, labels)\n",
    "        \n",
    "        for images, labels in test_dataset:\n",
    "            test_step(images, labels)\n",
    "        \n",
    "        template = 'Epoch {}, Pérdida: {}, Exactitud: {}, Pérdida de prueba: {}, Exactitud de prueba {}'\n",
    "        print(template.format(epoch+1,\n",
    "                              train_loss.result(),\n",
    "                              train_accuracy.result(),\n",
    "                              test_loss.result(),\n",
    "                              test_accuracy.result()))\n",
    "        \n",
    "        # Reinicia las métricas para el siguiente paso\n",
    "        train_loss.reset_states()\n",
    "        train_accuracy.reset_states()\n",
    "        test_loss.reset_states()\n",
    "        test_accuracy.reset_states()"
   ]
  },
  {
   "cell_type": "code",
   "execution_count": 57,
   "id": "adult-saying",
   "metadata": {},
   "outputs": [
    {
     "name": "stdout",
     "output_type": "stream",
     "text": [
      "Epoch 1, Pérdida: 0.13630391657352448, Exactitud: 0.9592499732971191, Pérdida de prueba: 5.388667106628418, Exactitud de prueba 98.25999450683594\n",
      "Epoch 2, Pérdida: 0.04190303012728691, Exactitud: 0.9872333407402039, Pérdida de prueba: 5.171141624450684, Exactitud de prueba 98.3699951171875\n",
      "Epoch 3, Pérdida: 0.022309603169560432, Exactitud: 0.9925833344459534, Pérdida de prueba: 5.160597324371338, Exactitud de prueba 98.43999481201172\n",
      "Epoch 4, Pérdida: 0.013041360303759575, Exactitud: 0.9960500001907349, Pérdida de prueba: 5.817919731140137, Exactitud de prueba 98.31999969482422\n",
      "Epoch 5, Pérdida: 0.009497422724962234, Exactitud: 0.9969666600227356, Pérdida de prueba: 6.04024600982666, Exactitud de prueba 98.4000015258789\n"
     ]
    }
   ],
   "source": [
    "fit(train_ds, test_ds, epochs = 5)"
   ]
  },
  {
   "cell_type": "code",
   "execution_count": null,
   "id": "homeless-living",
   "metadata": {},
   "outputs": [],
   "source": []
  }
 ],
 "metadata": {
  "kernelspec": {
   "display_name": "Python 3",
   "language": "python",
   "name": "python3"
  },
  "language_info": {
   "codemirror_mode": {
    "name": "ipython",
    "version": 3
   },
   "file_extension": ".py",
   "mimetype": "text/x-python",
   "name": "python",
   "nbconvert_exporter": "python",
   "pygments_lexer": "ipython3",
   "version": "3.8.8"
  }
 },
 "nbformat": 4,
 "nbformat_minor": 5
}
