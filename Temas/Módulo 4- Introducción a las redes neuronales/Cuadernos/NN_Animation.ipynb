{
 "cells": [
  {
   "cell_type": "markdown",
   "id": "subsequent-separation",
   "metadata": {},
   "source": [
    "# Animaciones de una Red Neuronal"
   ]
  },
  {
   "cell_type": "markdown",
   "id": "convinced-tomorrow",
   "metadata": {},
   "source": [
    "La idea de este Notebook es generar una animación de la red neuronal mientras se entrena"
   ]
  },
  {
   "cell_type": "code",
   "execution_count": 1,
   "id": "pharmaceutical-blackberry",
   "metadata": {},
   "outputs": [],
   "source": [
    "# Librería para manejo de tensores\n",
    "import tensorflow as tf\n",
    "# API para AI sobre motor de tensores\n",
    "from tensorflow import keras\n",
    "# Manejo de arreglos\n",
    "import numpy as np\n",
    "# Dibujitos\n",
    "import matplotlib.pyplot as plt\n",
    "#Hacer Animación\n",
    "from matplotlib.animation import FuncAnimation\n",
    "# Escribir en gif, mp4, etc...\n",
    "from matplotlib import animation\n",
    "# Sacar animación en una ventana aparte\n",
    "%matplotlib qt"
   ]
  },
  {
   "cell_type": "code",
   "execution_count": 10,
   "id": "assisted-discrimination",
   "metadata": {},
   "outputs": [],
   "source": [
    "# Genera datos espaciados uniformemente\n",
    "x=np.linspace(-10,10,50)\n",
    "# Modelo generado a partir de las entradas\n",
    "y=2*x**2+3*x+5*np.random.normal(0,4,size=len(x))\n",
    "f = r\"./animation_NN.mp4\""
   ]
  },
  {
   "cell_type": "code",
   "execution_count": 11,
   "id": "creative-kingston",
   "metadata": {},
   "outputs": [],
   "source": [
    "trend=0.1\n",
    "time=np.arange(0,100,0.1)\n",
    "value=trend*time+np.sin(time)+np.random.normal(scale=0.5,size=len(time))"
   ]
  },
  {
   "cell_type": "code",
   "execution_count": 68,
   "id": "thrown-resource",
   "metadata": {},
   "outputs": [
    {
     "name": "stdout",
     "output_type": "stream",
     "text": [
      "Model: \"sequential_9\"\n",
      "_________________________________________________________________\n",
      "Layer (type)                 Output Shape              Param #   \n",
      "=================================================================\n",
      "dense_39 (Dense)             (None, 2)                 4         \n",
      "_________________________________________________________________\n",
      "dense_40 (Dense)             (None, 1)                 3         \n",
      "=================================================================\n",
      "Total params: 7\n",
      "Trainable params: 7\n",
      "Non-trainable params: 0\n",
      "_________________________________________________________________\n"
     ]
    }
   ],
   "source": [
    "model = keras.Sequential(\n",
    "    keras.layers.Dense(units=2,input_shape=(1,))\n",
    "    )\n",
    "\n",
    "model.compile(optimizer='sgd', loss='mean_squared_error')\n",
    "model.summary()"
   ]
  },
  {
   "cell_type": "code",
   "execution_count": 53,
   "id": "resistant-taylor",
   "metadata": {},
   "outputs": [
    {
     "name": "stdout",
     "output_type": "stream",
     "text": [
      "Model: \"sequential_6\"\n",
      "_________________________________________________________________\n",
      "Layer (type)                 Output Shape              Param #   \n",
      "=================================================================\n",
      "dense_23 (Dense)             (None, 5)                 10        \n",
      "_________________________________________________________________\n",
      "dense_24 (Dense)             (None, 10)                60        \n",
      "_________________________________________________________________\n",
      "dense_25 (Dense)             (None, 20)                220       \n",
      "_________________________________________________________________\n",
      "dense_26 (Dense)             (None, 1)                 21        \n",
      "=================================================================\n",
      "Total params: 311\n",
      "Trainable params: 311\n",
      "Non-trainable params: 0\n",
      "_________________________________________________________________\n"
     ]
    }
   ],
   "source": [
    "model2 = tf.keras.Sequential([\n",
    "    keras.layers.Dense(units=5,input_shape=(1,),activation='softplus'),\n",
    "    keras.layers.Dense(units=10,activation='softplus'),\n",
    "    keras.layers.Dense(units=20,activation='softplus'),\n",
    "    keras.layers.Dense(units=1)\n",
    "    ])\n",
    "model2.compile(optimizer='adam', loss='mean_squared_error')\n",
    "model2.summary()"
   ]
  },
  {
   "cell_type": "code",
   "execution_count": 6,
   "id": "accompanied-insulin",
   "metadata": {},
   "outputs": [
    {
     "name": "stdout",
     "output_type": "stream",
     "text": [
      "Model: \"sequential_2\"\n",
      "_________________________________________________________________\n",
      "Layer (type)                 Output Shape              Param #   \n",
      "=================================================================\n",
      "dense_5 (Dense)              (None, 10)                20        \n",
      "_________________________________________________________________\n",
      "dense_6 (Dense)              (None, 20)                220       \n",
      "_________________________________________________________________\n",
      "dense_7 (Dense)              (None, 30)                630       \n",
      "_________________________________________________________________\n",
      "dense_8 (Dense)              (None, 40)                1240      \n",
      "_________________________________________________________________\n",
      "dense_9 (Dense)              (None, 50)                2050      \n",
      "_________________________________________________________________\n",
      "dense_10 (Dense)             (None, 60)                3060      \n",
      "_________________________________________________________________\n",
      "dense_11 (Dense)             (None, 70)                4270      \n",
      "_________________________________________________________________\n",
      "dense_12 (Dense)             (None, 1)                 71        \n",
      "=================================================================\n",
      "Total params: 11,561\n",
      "Trainable params: 11,561\n",
      "Non-trainable params: 0\n",
      "_________________________________________________________________\n"
     ]
    }
   ],
   "source": [
    "model3 = tf.keras.Sequential([\n",
    "    keras.layers.Dense(units=10,input_shape=(1,),activation='elu'),\n",
    "    keras.layers.Dense(units=20,activation='elu'),\n",
    "    keras.layers.Dense(units=30,activation='elu'),\n",
    "    keras.layers.Dense(units=40,activation='elu'),\n",
    "    keras.layers.Dense(units=50,activation='elu'),\n",
    "    keras.layers.Dense(units=60,activation='elu'),\n",
    "    keras.layers.Dense(units=70,activation='elu'),\n",
    "    keras.layers.Dense(units=1)\n",
    "    ])\n",
    "\n",
    "model3.compile(optimizer='adam', loss='mean_squared_error')\n",
    "model3.summary()"
   ]
  },
  {
   "cell_type": "code",
   "execution_count": 7,
   "id": "skilled-gossip",
   "metadata": {},
   "outputs": [],
   "source": [
    "def animate(i):\n",
    "    if i<n_iter:\n",
    "        line.set_ydata(predecir[i,:])"
   ]
  },
  {
   "cell_type": "code",
   "execution_count": 66,
   "id": "talented-flooring",
   "metadata": {},
   "outputs": [],
   "source": [
    "n_iter=100\n",
    "\n",
    "predecir=np.zeros((n_iter,len(x)))\n",
    "\n",
    "for i in range(n_iter):\n",
    "    model.fit(x, y, epochs=1,verbose=0)\n",
    "    predecir[i,:]=model.predict(x).reshape(1,-1)"
   ]
  },
  {
   "cell_type": "code",
   "execution_count": 70,
   "id": "scheduled-tokyo",
   "metadata": {},
   "outputs": [],
   "source": [
    "fig = plt.figure(figsize=(5,5))\n",
    "axes = fig.add_subplot(1,1,1)\n",
    "\n",
    "plt.plot(x,y,'bo',scaley=True, scalex=True)\n",
    "\n",
    "line, = axes.plot(x, predecir[0,:], 'r-')\n",
    "\n",
    "ani = FuncAnimation(fig=fig, func=animate, interval=10)\n",
    "#writergif = animation.FFMpegWriter(fps=100)\n",
    "#ani.save(f, writer=writergif)"
   ]
  },
  {
   "cell_type": "code",
   "execution_count": 31,
   "id": "dedicated-behavior",
   "metadata": {},
   "outputs": [],
   "source": [
    "def animate2(i):\n",
    "    if i<n_iter:\n",
    "        line.set_ydata(predecir2[i,:])"
   ]
  },
  {
   "cell_type": "code",
   "execution_count": null,
   "id": "surrounded-percentage",
   "metadata": {},
   "outputs": [],
   "source": [
    "n_iter=100\n",
    "\n",
    "predecir2=np.zeros((n_iter,len(x)))\n",
    "\n",
    "for i in range(n_iter):\n",
    "    model2.fit(x, y, epochs=10,verbose=1)\n",
    "    predecir2[i,:]=model2.predict(x).reshape(1,-1)"
   ]
  },
  {
   "cell_type": "code",
   "execution_count": 32,
   "id": "educated-pioneer",
   "metadata": {},
   "outputs": [],
   "source": [
    "fig = plt.figure(figsize=(5,5))\n",
    "axes = fig.add_subplot(1,1,1)\n",
    "\n",
    "plt.plot(x,y,'bo',scaley=True, scalex=True)\n",
    "\n",
    "line, = axes.plot(x, predecir2[0,:], 'r-')\n",
    "\n",
    "ani2 = FuncAnimation(fig=fig, func=animate2, interval=10)\n",
    "#writergif = animation.FFMpegWriter(fps=100)\n",
    "#ani.save(f, writer=writergif)"
   ]
  },
  {
   "cell_type": "code",
   "execution_count": 33,
   "id": "bottom-discretion",
   "metadata": {},
   "outputs": [],
   "source": [
    "def animate3(i):\n",
    "    if i<n_iter:\n",
    "        line.set_ydata(predecir3[i,:])"
   ]
  },
  {
   "cell_type": "code",
   "execution_count": 37,
   "id": "physical-arrow",
   "metadata": {},
   "outputs": [],
   "source": [
    "n_iter=100\n",
    "\n",
    "predecir3=np.zeros((n_iter,len(time)))\n",
    "\n",
    "for i in range(n_iter):\n",
    "    model3.fit(time, value, epochs=10,verbose=0)\n",
    "    predecir3[i,:]=model3.predict(time).reshape(1,-1)"
   ]
  },
  {
   "cell_type": "code",
   "execution_count": 42,
   "id": "saving-dublin",
   "metadata": {},
   "outputs": [],
   "source": [
    "fig = plt.figure(figsize=(5,5))\n",
    "axes = fig.add_subplot(1,1,1)\n",
    "\n",
    "plt.plot(time,value,'b-',scaley=True, scalex=True)\n",
    "\n",
    "line, = axes.plot(time, predecir3[0,:], 'r-')\n",
    "\n",
    "ani3 = FuncAnimation(fig=fig, func=animate3, interval=100)\n",
    "#writergif = animation.FFMpegWriter(fps=100)\n",
    "#ani.save(f, writer=writergif)"
   ]
  }
 ],
 "metadata": {
  "kernelspec": {
   "display_name": "Python 3",
   "language": "python",
   "name": "python3"
  },
  "language_info": {
   "codemirror_mode": {
    "name": "ipython",
    "version": 3
   },
   "file_extension": ".py",
   "mimetype": "text/x-python",
   "name": "python",
   "nbconvert_exporter": "python",
   "pygments_lexer": "ipython3",
   "version": "3.8.8"
  }
 },
 "nbformat": 4,
 "nbformat_minor": 5
}
