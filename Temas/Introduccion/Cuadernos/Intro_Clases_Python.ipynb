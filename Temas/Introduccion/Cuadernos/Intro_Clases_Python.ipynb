{
 "cells": [
  {
   "cell_type": "markdown",
   "metadata": {},
   "source": [
    "**Diplomado en Inteligencia Artificial y Aprendizaje Profundo**"
   ]
  },
  {
   "cell_type": "markdown",
   "metadata": {},
   "source": [
    "# Introducción a Clases en Python "
   ]
  },
  {
   "cell_type": "markdown",
   "metadata": {},
   "source": [
    "##  Autores"
   ]
  },
  {
   "cell_type": "markdown",
   "metadata": {},
   "source": [
    "1. Alvaro Mauricio Montenegro Díaz, ammontenegrod@unal.edu.co\n",
    "2. Daniel Mauricio Montenegro Reyes, dextronomo@gmail.com \n",
    "3. Oleg Jarma, ojarmam@unal.edu.co\n",
    "4. Maria del Pilar Montenegro, pmontenegro88@gmail.com"
   ]
  },
  {
   "cell_type": "markdown",
   "metadata": {},
   "source": [
    "## Contenido"
   ]
  },
  {
   "cell_type": "markdown",
   "metadata": {},
   "source": [
    "* [Introducción](#Introducción)\n",
    "* [La función \\_\\_init\\_\\_()](#La-función-\\_\\_init\\_\\_())\n",
    "* [Documentación ](#Documentación)\n",
    "* [Métodos Adicionales](#Métodos-Adicionales)\n",
    "* [Herencia de Clases](#Herencia-de-Clases)\n",
    "* [Función super()](#Función-super())"
   ]
  },
  {
   "cell_type": "markdown",
   "metadata": {},
   "source": [
    "## Introducción"
   ]
  },
  {
   "cell_type": "markdown",
   "metadata": {},
   "source": [
    "Python es un lenguaje de programación orientado a objetos.\n",
    "\n",
    "**Casi todo** en Python es un objeto, con sus propiedades y métodos.\n",
    "\n",
    "Podemos imaginarnos **una clase** como una plantilla para construir objetos.\n",
    "\n",
    "Para crear una clase, usa el la palabra clave```class:```\n",
    "\n",
    "Supongamos, por ejemplo, que queremos crear una plataforma para recolectar toda la información personal que podamos de nuestros usuarios (nada parecido con la realidad) porque... sí.\n",
    "\n",
    "Creemos una clase que no haga nada."
   ]
  },
  {
   "cell_type": "code",
   "execution_count": 1,
   "metadata": {},
   "outputs": [],
   "source": [
    "class Usuario:\n",
    "    pass"
   ]
  },
  {
   "cell_type": "markdown",
   "metadata": {},
   "source": [
    "La razón de ```pass``` es debido a que una clase necesita al menos una línea para poder existir.\n",
    "\n",
    "**Consejo:** Para crear los nombres de las clases, comience con mayúsculas.\n",
    "\n",
    "Ok. Ahora creemos un usuario:"
   ]
  },
  {
   "cell_type": "code",
   "execution_count": 2,
   "metadata": {},
   "outputs": [],
   "source": [
    "u1=Usuario()"
   ]
  },
  {
   "cell_type": "markdown",
   "metadata": {},
   "source": [
    "Como podemos ver, parece que estuvieramos llamando un método (o función), y en efecto es algo parecido\n",
    "\n",
    "```u1``` es una **instancia** de la clase Usuario.\n",
    "\n",
    "También podemos llamar a ```u1``` un objeto.\n",
    "\n",
    "Podemos adjuntar datos a este objeto, usamos la notación punto:"
   ]
  },
  {
   "cell_type": "code",
   "execution_count": 3,
   "metadata": {},
   "outputs": [
    {
     "name": "stdout",
     "output_type": "stream",
     "text": [
      "Aprendizaje\n",
      "Profundo\n"
     ]
    }
   ],
   "source": [
    "#Adjuntando datos a el objeto u1 de la clase Usuario\n",
    "\n",
    "u1.nombre=\"Aprendizaje\"\n",
    "u1.apellido=\"Profundo\"\n",
    "\n",
    "print(u1.nombre)\n",
    "print(u1.apellido)"
   ]
  },
  {
   "cell_type": "markdown",
   "metadata": {},
   "source": [
    "Los datos adjuntados a un objeto se les llaman **campos**\n",
    "\n",
    "**OJO:** nombre y apellido no son variables existentes en el ambiente de trabajo.\n",
    "\n",
    "**Consejo:** Se recomienda usar minúsculas para los nombres de los campo (Tradición Pythonica)."
   ]
  },
  {
   "cell_type": "code",
   "execution_count": 4,
   "metadata": {},
   "outputs": [
    {
     "ename": "NameError",
     "evalue": "name 'nombre' is not defined",
     "output_type": "error",
     "traceback": [
      "\u001b[0;31m---------------------------------------------------------------------------\u001b[0m",
      "\u001b[0;31mNameError\u001b[0m                                 Traceback (most recent call last)",
      "\u001b[0;32m<ipython-input-4-537e465e3aa0>\u001b[0m in \u001b[0;36m<module>\u001b[0;34m\u001b[0m\n\u001b[0;32m----> 1\u001b[0;31m \u001b[0mnombre\u001b[0m\u001b[0;34m\u001b[0m\u001b[0;34m\u001b[0m\u001b[0m\n\u001b[0m",
      "\u001b[0;31mNameError\u001b[0m: name 'nombre' is not defined"
     ]
    }
   ],
   "source": [
    "nombre"
   ]
  },
  {
   "cell_type": "markdown",
   "metadata": {},
   "source": [
    "Una bonita consecuencia, es que podemos crear muchos objetos con campos del mismo nombre sin tener que defiinir una variable diferente para cada dato adjuntado del objeto.\n",
    "\n",
    "Hagamos otro objeto:"
   ]
  },
  {
   "cell_type": "code",
   "execution_count": 5,
   "metadata": {},
   "outputs": [],
   "source": [
    "u2=Usuario()\n",
    "u2.nombre=\"Francisco\"\n",
    "u2.apellido=\"Talavera\"\n",
    "u2.edad=34"
   ]
  },
  {
   "cell_type": "code",
   "execution_count": 6,
   "metadata": {},
   "outputs": [
    {
     "data": {
      "text/plain": [
       "34"
      ]
     },
     "execution_count": 6,
     "metadata": {},
     "output_type": "execute_result"
    }
   ],
   "source": [
    "#edad de u2\n",
    "u2.edad"
   ]
  },
  {
   "cell_type": "code",
   "execution_count": 7,
   "metadata": {},
   "outputs": [
    {
     "ename": "AttributeError",
     "evalue": "'Usuario' object has no attribute 'edad'",
     "output_type": "error",
     "traceback": [
      "\u001b[0;31m---------------------------------------------------------------------------\u001b[0m",
      "\u001b[0;31mAttributeError\u001b[0m                            Traceback (most recent call last)",
      "\u001b[0;32m<ipython-input-7-6bb84ccb0dba>\u001b[0m in \u001b[0;36m<module>\u001b[0;34m\u001b[0m\n\u001b[1;32m      1\u001b[0m \u001b[0;31m# u1 no tiene edad asginada\u001b[0m\u001b[0;34m\u001b[0m\u001b[0;34m\u001b[0m\u001b[0;34m\u001b[0m\u001b[0m\n\u001b[0;32m----> 2\u001b[0;31m \u001b[0mu1\u001b[0m\u001b[0;34m.\u001b[0m\u001b[0medad\u001b[0m\u001b[0;34m\u001b[0m\u001b[0;34m\u001b[0m\u001b[0m\n\u001b[0m",
      "\u001b[0;31mAttributeError\u001b[0m: 'Usuario' object has no attribute 'edad'"
     ]
    }
   ],
   "source": [
    "# u1 no tiene edad asginada\n",
    "u1.edad"
   ]
  },
  {
   "cell_type": "markdown",
   "metadata": {},
   "source": [
    "Se estarán preguntando...\n",
    "\n",
    "**¿Para qué tomarnos la molestia si pudimos hacer todo con un diccionario?**\n",
    "\n",
    "La respuesta la encontraremos en características adicionales de las clases. Estas contienen:\n",
    "\n",
    "-  Métodos\n",
    "- Inicialización"
   ]
  },
  {
   "cell_type": "markdown",
   "metadata": {},
   "source": [
    "[[Volver al inicio]](#Contenido)"
   ]
  },
  {
   "cell_type": "markdown",
   "metadata": {},
   "source": [
    "## La función \\_\\_init\\_\\_()"
   ]
  },
  {
   "cell_type": "markdown",
   "metadata": {},
   "source": [
    "Una función dentro de una clase de llama **método**.\n",
    "\n",
    "init es el abreviado de **initialization** (inicialización).\n",
    "\n",
    "También se le conoce como el **constructor**.\n",
    "\n",
    "**Note los guiones bajos antes y despues de init**."
   ]
  },
  {
   "cell_type": "code",
   "execution_count": 8,
   "metadata": {},
   "outputs": [
    {
     "name": "stdout",
     "output_type": "stream",
     "text": [
      "Thomas Anderson\n",
      "19620311\n"
     ]
    }
   ],
   "source": [
    "class Usuario:\n",
    "    def __init__(self, nombre_completo, cumple):\n",
    "        self.nombre = nombre_completo\n",
    "        self.cumple = cumple\n",
    "\n",
    "u3 = Usuario(\"Thomas Anderson\", '19620311')\n",
    "\n",
    "print(u3.nombre)\n",
    "print(u3.cumple)"
   ]
  },
  {
   "cell_type": "markdown",
   "metadata": {},
   "source": [
    "**Nota:** _self_ es el parámetro que referencia la instancia actual de la clase y se usa para acceder a los campos de dicha clase. No tiene que llamarse self."
   ]
  },
  {
   "cell_type": "code",
   "execution_count": 9,
   "metadata": {},
   "outputs": [
    {
     "name": "stdout",
     "output_type": "stream",
     "text": [
      "Thomas Anderson\n",
      "19620311\n"
     ]
    }
   ],
   "source": [
    "class Usuario:\n",
    "    def __init__(mi_objeto, nombre_completo, cumple):\n",
    "        mi_objeto.nombre = nombre_completo\n",
    "        mi_objeto.cumple = cumple\n",
    "\n",
    "u3 = Usuario(\"Thomas Anderson\", '19620311')\n",
    "\n",
    "print(u3.nombre)\n",
    "print(u3.cumple)"
   ]
  },
  {
   "cell_type": "markdown",
   "metadata": {},
   "source": [
    "Agreguemos otra característica más.\n",
    "\n",
    "Por ejemplo, extraer nombre y apellido:"
   ]
  },
  {
   "cell_type": "code",
   "execution_count": 10,
   "metadata": {},
   "outputs": [
    {
     "name": "stdout",
     "output_type": "stream",
     "text": [
      "Thomas Anderson\n",
      "Thomas\n"
     ]
    },
    {
     "ename": "AttributeError",
     "evalue": "'Usuario' object has no attribute 'apellido'",
     "output_type": "error",
     "traceback": [
      "\u001b[0;31m---------------------------------------------------------------------------\u001b[0m",
      "\u001b[0;31mAttributeError\u001b[0m                            Traceback (most recent call last)",
      "\u001b[0;32m<ipython-input-10-0e4c96d83513>\u001b[0m in \u001b[0;36m<module>\u001b[0;34m\u001b[0m\n\u001b[1;32m     13\u001b[0m \u001b[0mprint\u001b[0m\u001b[0;34m(\u001b[0m\u001b[0mu\u001b[0m\u001b[0;34m.\u001b[0m\u001b[0mnombre_c\u001b[0m\u001b[0;34m)\u001b[0m\u001b[0;34m\u001b[0m\u001b[0;34m\u001b[0m\u001b[0m\n\u001b[1;32m     14\u001b[0m \u001b[0mprint\u001b[0m\u001b[0;34m(\u001b[0m\u001b[0mu\u001b[0m\u001b[0;34m.\u001b[0m\u001b[0mnombre\u001b[0m\u001b[0;34m)\u001b[0m\u001b[0;34m\u001b[0m\u001b[0;34m\u001b[0m\u001b[0m\n\u001b[0;32m---> 15\u001b[0;31m \u001b[0mprint\u001b[0m\u001b[0;34m(\u001b[0m\u001b[0mu\u001b[0m\u001b[0;34m.\u001b[0m\u001b[0mapellido\u001b[0m\u001b[0;34m)\u001b[0m\u001b[0;34m\u001b[0m\u001b[0;34m\u001b[0m\u001b[0m\n\u001b[0m\u001b[1;32m     16\u001b[0m \u001b[0mprint\u001b[0m\u001b[0;34m(\u001b[0m\u001b[0mu\u001b[0m\u001b[0;34m.\u001b[0m\u001b[0mcumple\u001b[0m\u001b[0;34m)\u001b[0m\u001b[0;34m\u001b[0m\u001b[0;34m\u001b[0m\u001b[0m\n",
      "\u001b[0;31mAttributeError\u001b[0m: 'Usuario' object has no attribute 'apellido'"
     ]
    }
   ],
   "source": [
    "class Usuario:\n",
    "    def __init__(self, nombre_completo, cumple):\n",
    "        self.nombre_c = nombre_completo\n",
    "        self.cumple = cumple\n",
    "        \n",
    "        #Extraer partes\n",
    "        piezas_nombre=nombre_completo.split(\" \")\n",
    "        self.nombre=piezas_nombre[0]\n",
    "        apellido=piezas_nombre[-1]\n",
    "        \n",
    "u = Usuario(\"Thomas Anderson\", '19620311')\n",
    "\n",
    "print(u.nombre_c)\n",
    "print(u.nombre)\n",
    "print(u.apellido)\n",
    "print(u.cumple)"
   ]
  },
  {
   "cell_type": "code",
   "execution_count": 11,
   "metadata": {},
   "outputs": [
    {
     "name": "stdout",
     "output_type": "stream",
     "text": [
      "Thomas Anderson\n",
      "Thomas\n",
      "Anderson\n",
      "19620311\n"
     ]
    }
   ],
   "source": [
    "class Usuario:\n",
    "    def __init__(self, nombre_completo, cumple):\n",
    "        self.nombre_c = nombre_completo\n",
    "        self.cumple = cumple\n",
    "        \n",
    "        #Extraer partes\n",
    "        piezas_nombre=nombre_completo.split(\" \")\n",
    "        self.nombre=piezas_nombre[0]\n",
    "        self.apellido=piezas_nombre[-1]\n",
    "        \n",
    "Neo = Usuario(\"Thomas Anderson\", '19620311')\n",
    "\n",
    "print(Neo.nombre_c)\n",
    "print(Neo.nombre)\n",
    "print(Neo.apellido)\n",
    "print(Neo.cumple)"
   ]
  },
  {
   "cell_type": "markdown",
   "metadata": {},
   "source": [
    "[[Volver al inicio]](#Contenido)"
   ]
  },
  {
   "cell_type": "markdown",
   "metadata": {},
   "source": [
    "## Documentación "
   ]
  },
  {
   "cell_type": "markdown",
   "metadata": {},
   "source": [
    "Podemos documentar la clase de la siguiente manera:"
   ]
  },
  {
   "cell_type": "code",
   "execution_count": 12,
   "metadata": {},
   "outputs": [
    {
     "name": "stdout",
     "output_type": "stream",
     "text": [
      "Help on class Usuario in module __main__:\n",
      "\n",
      "class Usuario(builtins.object)\n",
      " |  Usuario(nombre_completo, cumple)\n",
      " |  \n",
      " |  Un usuario de nuestra plataforma. Por ahora\n",
      " |  sólo recolectamos nombre y cumpleaños.\n",
      " |  Pero pronto tendremos mucho más que eso.\n",
      " |  \n",
      " |  Methods defined here:\n",
      " |  \n",
      " |  __init__(self, nombre_completo, cumple)\n",
      " |      Initialize self.  See help(type(self)) for accurate signature.\n",
      " |  \n",
      " |  ----------------------------------------------------------------------\n",
      " |  Data descriptors defined here:\n",
      " |  \n",
      " |  __dict__\n",
      " |      dictionary for instance variables (if defined)\n",
      " |  \n",
      " |  __weakref__\n",
      " |      list of weak references to the object (if defined)\n",
      "\n"
     ]
    }
   ],
   "source": [
    "class Usuario:\n",
    "    \"\"\"Un usuario de nuestra plataforma. Por ahora\n",
    "    sólo recolectamos nombre y cumpleaños.\n",
    "    Pero pronto tendremos mucho más que eso.\"\"\"\n",
    "    def __init__(self, nombre_completo, cumple):\n",
    "        self.nombre_c = nombre_completo\n",
    "        self.cumple = cumple\n",
    "        \n",
    "        #Extraer partes\n",
    "        piezas_nombre=nombre_completo.split(\" \")\n",
    "        self.nombre=piezas_nombre[0]\n",
    "        self.apellido=piezas_nombre[-1]\n",
    "        \n",
    "help(Usuario)"
   ]
  },
  {
   "cell_type": "markdown",
   "metadata": {},
   "source": [
    "[[Volver al inicio]](#Contenido)"
   ]
  },
  {
   "cell_type": "markdown",
   "metadata": {},
   "source": [
    "## Métodos Adicionales "
   ]
  },
  {
   "cell_type": "markdown",
   "metadata": {},
   "source": [
    "Es posible crear métodos propios a una clase.\n",
    "\n",
    "Creemos por ejemplo un método que extraiga la edad de nuestro usuario."
   ]
  },
  {
   "cell_type": "code",
   "execution_count": 13,
   "metadata": {},
   "outputs": [
    {
     "name": "stdout",
     "output_type": "stream",
     "text": [
      "Neo tiene 58 años\n"
     ]
    }
   ],
   "source": [
    "import datetime\n",
    "\n",
    "class Usuario:\n",
    "    \"\"\"Un usuario de nuestra plataforma. Por ahora\n",
    "    sólo recolectamos nombre y cumpleaños.\n",
    "    Pero pronto tendremos mucho más que eso.\"\"\"\n",
    "    def __init__(self, nombre_completo, cumple):\n",
    "        self.nombre_c = nombre_completo\n",
    "        self.cumple = cumple\n",
    "        \n",
    "        #Extraer partes\n",
    "        piezas_nombre=nombre_completo.split(\" \")\n",
    "        self.nombre=piezas_nombre[0]\n",
    "        self.apellido=piezas_nombre[-1]\n",
    "        \n",
    "    def edad(self):\n",
    "        \"\"\"Regresa la edad de nuestro usuario en años.\"\"\"\n",
    "        hoy=datetime.date.today()\n",
    "        año=int(self.cumple[0:4])\n",
    "        mes=int(self.cumple[4:6])\n",
    "        dia=int(self.cumple[6:8])\n",
    "        fecha_cumple=datetime.date(año,mes,dia)\n",
    "        edad_dias=(hoy-fecha_cumple).days\n",
    "        edad_años=edad_dias/365\n",
    "        return int(edad_años)\n",
    "    \n",
    "Neo=Usuario(\"Thomas Anderson\",\"19620311\")\n",
    "\n",
    "print(\"Neo tiene\",Neo.edad(),\"años\")"
   ]
  },
  {
   "cell_type": "code",
   "execution_count": 14,
   "metadata": {},
   "outputs": [
    {
     "name": "stdout",
     "output_type": "stream",
     "text": [
      "Help on class Usuario in module __main__:\n",
      "\n",
      "class Usuario(builtins.object)\n",
      " |  Usuario(nombre_completo, cumple)\n",
      " |  \n",
      " |  Un usuario de nuestra plataforma. Por ahora\n",
      " |  sólo recolectamos nombre y cumpleaños.\n",
      " |  Pero pronto tendremos mucho más que eso.\n",
      " |  \n",
      " |  Methods defined here:\n",
      " |  \n",
      " |  __init__(self, nombre_completo, cumple)\n",
      " |      Initialize self.  See help(type(self)) for accurate signature.\n",
      " |  \n",
      " |  edad(self)\n",
      " |      Regresa la edad de nuestro usuario en años.\n",
      " |  \n",
      " |  ----------------------------------------------------------------------\n",
      " |  Data descriptors defined here:\n",
      " |  \n",
      " |  __dict__\n",
      " |      dictionary for instance variables (if defined)\n",
      " |  \n",
      " |  __weakref__\n",
      " |      list of weak references to the object (if defined)\n",
      "\n"
     ]
    }
   ],
   "source": [
    "help(Usuario)"
   ]
  },
  {
   "cell_type": "markdown",
   "metadata": {},
   "source": [
    "[[Volver al inicio]](#Contenido)"
   ]
  },
  {
   "cell_type": "markdown",
   "metadata": {},
   "source": [
    "## Herencia de Clases "
   ]
  },
  {
   "cell_type": "markdown",
   "metadata": {},
   "source": [
    "Una de las grandes ventajas de usar clases en programación es poder generar clases más especializadas a partir de una clase base o clase general.\n",
    "\n",
    "Esto permite re-utilizar código y también permite escribir un código más limpio y legible.\n",
    "\n",
    "Supongamos que a la clase Usuario le queremos dar un tipo de publicidad en específico.\n",
    "\n",
    "Creemos entonces una clase que hable sobre los gustos del usuario, pero referenciando a la clase ya creada."
   ]
  },
  {
   "cell_type": "code",
   "execution_count": 15,
   "metadata": {},
   "outputs": [],
   "source": [
    "class Lector(Usuario):\n",
    "    pass"
   ]
  },
  {
   "cell_type": "code",
   "execution_count": 16,
   "metadata": {},
   "outputs": [
    {
     "name": "stdout",
     "output_type": "stream",
     "text": [
      "Help on class Lector in module __main__:\n",
      "\n",
      "class Lector(Usuario)\n",
      " |  Lector(nombre_completo, cumple)\n",
      " |  \n",
      " |  Un usuario de nuestra plataforma. Por ahora\n",
      " |  sólo recolectamos nombre y cumpleaños.\n",
      " |  Pero pronto tendremos mucho más que eso.\n",
      " |  \n",
      " |  Method resolution order:\n",
      " |      Lector\n",
      " |      Usuario\n",
      " |      builtins.object\n",
      " |  \n",
      " |  Methods inherited from Usuario:\n",
      " |  \n",
      " |  __init__(self, nombre_completo, cumple)\n",
      " |      Initialize self.  See help(type(self)) for accurate signature.\n",
      " |  \n",
      " |  edad(self)\n",
      " |      Regresa la edad de nuestro usuario en años.\n",
      " |  \n",
      " |  ----------------------------------------------------------------------\n",
      " |  Data descriptors inherited from Usuario:\n",
      " |  \n",
      " |  __dict__\n",
      " |      dictionary for instance variables (if defined)\n",
      " |  \n",
      " |  __weakref__\n",
      " |      list of weak references to the object (if defined)\n",
      "\n"
     ]
    }
   ],
   "source": [
    "help(Lector)"
   ]
  },
  {
   "cell_type": "code",
   "execution_count": 17,
   "metadata": {},
   "outputs": [
    {
     "name": "stdout",
     "output_type": "stream",
     "text": [
      "Daniel Montenegro\n",
      "Daniel\n",
      "29\n"
     ]
    }
   ],
   "source": [
    "l=Lector(\"Daniel Montenegro\",\"19901026\")\n",
    "print(l.nombre_c)\n",
    "print(l.nombre)\n",
    "print(l.edad())"
   ]
  },
  {
   "cell_type": "markdown",
   "metadata": {},
   "source": [
    "Al intentar colocar un constructor sobre la clase heredada, se perderá la función constructora heredada de Usuario:"
   ]
  },
  {
   "cell_type": "code",
   "execution_count": 18,
   "metadata": {},
   "outputs": [],
   "source": [
    "class Lector(Usuario):\n",
    "    def __init__(self, nombre_completo, cumple):\n",
    "        self.nombre_c = nombre_completo\n",
    "        self.cumple = cumple\n",
    "        # Agregar cositas"
   ]
  },
  {
   "cell_type": "code",
   "execution_count": 19,
   "metadata": {},
   "outputs": [
    {
     "name": "stdout",
     "output_type": "stream",
     "text": [
      "Daniel Montenegro\n"
     ]
    },
    {
     "ename": "AttributeError",
     "evalue": "'Lector' object has no attribute 'nombre'",
     "output_type": "error",
     "traceback": [
      "\u001b[0;31m---------------------------------------------------------------------------\u001b[0m",
      "\u001b[0;31mAttributeError\u001b[0m                            Traceback (most recent call last)",
      "\u001b[0;32m<ipython-input-19-e550a1c8fa47>\u001b[0m in \u001b[0;36m<module>\u001b[0;34m\u001b[0m\n\u001b[1;32m      1\u001b[0m \u001b[0ml\u001b[0m\u001b[0;34m=\u001b[0m\u001b[0mLector\u001b[0m\u001b[0;34m(\u001b[0m\u001b[0;34m\"Daniel Montenegro\"\u001b[0m\u001b[0;34m,\u001b[0m\u001b[0;34m\"19901026\"\u001b[0m\u001b[0;34m)\u001b[0m\u001b[0;34m\u001b[0m\u001b[0;34m\u001b[0m\u001b[0m\n\u001b[1;32m      2\u001b[0m \u001b[0mprint\u001b[0m\u001b[0;34m(\u001b[0m\u001b[0ml\u001b[0m\u001b[0;34m.\u001b[0m\u001b[0mnombre_c\u001b[0m\u001b[0;34m)\u001b[0m\u001b[0;34m\u001b[0m\u001b[0;34m\u001b[0m\u001b[0m\n\u001b[0;32m----> 3\u001b[0;31m \u001b[0mprint\u001b[0m\u001b[0;34m(\u001b[0m\u001b[0ml\u001b[0m\u001b[0;34m.\u001b[0m\u001b[0mnombre\u001b[0m\u001b[0;34m)\u001b[0m\u001b[0;34m\u001b[0m\u001b[0;34m\u001b[0m\u001b[0m\n\u001b[0m\u001b[1;32m      4\u001b[0m \u001b[0mprint\u001b[0m\u001b[0;34m(\u001b[0m\u001b[0ml\u001b[0m\u001b[0;34m.\u001b[0m\u001b[0medad\u001b[0m\u001b[0;34m(\u001b[0m\u001b[0;34m)\u001b[0m\u001b[0;34m)\u001b[0m\u001b[0;34m\u001b[0m\u001b[0;34m\u001b[0m\u001b[0m\n",
      "\u001b[0;31mAttributeError\u001b[0m: 'Lector' object has no attribute 'nombre'"
     ]
    }
   ],
   "source": [
    "l=Lector(\"Daniel Montenegro\",\"19901026\")\n",
    "print(l.nombre_c)\n",
    "print(l.nombre)\n",
    "print(l.edad())"
   ]
  },
  {
   "cell_type": "markdown",
   "metadata": {},
   "source": [
    "[[Volver al inicio]](#Contenido)"
   ]
  },
  {
   "cell_type": "markdown",
   "metadata": {},
   "source": [
    "## Función super() "
   ]
  },
  {
   "cell_type": "markdown",
   "metadata": {},
   "source": [
    "Para conservar la función constructora y poder extender la clase, se usa la función ```super()```"
   ]
  },
  {
   "cell_type": "code",
   "execution_count": 20,
   "metadata": {},
   "outputs": [],
   "source": [
    "class Lector(Usuario):\n",
    "    def __init__(self, nombre_completo, cumple, gustos):\n",
    "        super().__init__(nombre_completo, cumple)\n",
    "        self.gustos=gustos\n",
    "        # Agregar cositas"
   ]
  },
  {
   "cell_type": "code",
   "execution_count": 21,
   "metadata": {},
   "outputs": [
    {
     "name": "stdout",
     "output_type": "stream",
     "text": [
      "Daniel Montenegro\n",
      "29\n",
      "Jack Kerouac\n"
     ]
    }
   ],
   "source": [
    "l=Lector(\"Daniel Montenegro\",\"19901026\",\"Jack Kerouac\")\n",
    "print(l.nombre_c)\n",
    "print(l.edad())\n",
    "print(l.gustos)"
   ]
  },
  {
   "cell_type": "markdown",
   "metadata": {},
   "source": [
    "Finalmente, agreguemos un método a la clase Lector para extender su funcionalidad:"
   ]
  },
  {
   "cell_type": "code",
   "execution_count": 22,
   "metadata": {},
   "outputs": [],
   "source": [
    "class Lector(Usuario):\n",
    "    def __init__(self, nombre_completo, cumple, gustos):\n",
    "        super().__init__(nombre_completo, cumple)\n",
    "        self.gustos=gustos\n",
    "        año=int(self.cumple[0:4])\n",
    "        mes=int(self.cumple[4:6])\n",
    "        dia=int(self.cumple[6:8])\n",
    "        self.fecha_cumple=datetime.date(año,mes,dia)\n",
    "        \n",
    "    def info(self):\n",
    "        print(\" El Usuario\",self.nombre_c,\", nacido en\",self.fecha_cumple, \", tiene\",self.edad(),\"años\", \"y le gustan las obras de\",self.gustos)"
   ]
  },
  {
   "cell_type": "code",
   "execution_count": 23,
   "metadata": {},
   "outputs": [
    {
     "name": "stdout",
     "output_type": "stream",
     "text": [
      " El Usuario Daniel Montenegro , nacido en 1990-10-26 , tiene 29 años y le gustan las obras de Jack Kerouac\n"
     ]
    }
   ],
   "source": [
    "l=Lector(\"Daniel Montenegro\",\"19901026\",\"Jack Kerouac\")\n",
    "l.info()"
   ]
  },
  {
   "cell_type": "markdown",
   "metadata": {},
   "source": [
    "[[Volver al inicio]](#Contenido)"
   ]
  }
 ],
 "metadata": {
  "kernelspec": {
   "display_name": "Python 3",
   "language": "python",
   "name": "python3"
  },
  "language_info": {
   "codemirror_mode": {
    "name": "ipython",
    "version": 3
   },
   "file_extension": ".py",
   "mimetype": "text/x-python",
   "name": "python",
   "nbconvert_exporter": "python",
   "pygments_lexer": "ipython3",
   "version": "3.8.5"
  }
 },
 "nbformat": 4,
 "nbformat_minor": 4
}
