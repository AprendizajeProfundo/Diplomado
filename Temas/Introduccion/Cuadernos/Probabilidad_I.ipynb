{
 "cells": [
  {
   "cell_type": "markdown",
   "metadata": {},
   "source": [
    "**Curso de Inteligencia Artificial y Aprendizaje Profundo**"
   ]
  },
  {
   "cell_type": "markdown",
   "metadata": {},
   "source": [
    "# Conceptos de Probabilidad"
   ]
  },
  {
   "cell_type": "markdown",
   "metadata": {},
   "source": [
    "##  Autores"
   ]
  },
  {
   "cell_type": "markdown",
   "metadata": {},
   "source": [
    "1. Alvaro Mauricio Montenegro Díaz, ammontenegrod@unal.edu.co\n",
    "2. Daniel Mauricio Montenegro Reyes, dextronomo@gmail.com "
   ]
  },
  {
   "cell_type": "markdown",
   "metadata": {},
   "source": [
    "## Contenido"
   ]
  },
  {
   "cell_type": "markdown",
   "metadata": {},
   "source": [
    "* [Introducción](#Introducción)\n",
    "* [Concepto elemental de probabilidad](#Concepto-elemental-de-probabilidad)\n",
    "* [Evento](#Evento)\n",
    "* [Probabilidad condicional](#Probabilidad condicional)"
   ]
  },
  {
   "cell_type": "markdown",
   "metadata": {},
   "source": [
    "## Introducción"
   ]
  },
  {
   "cell_type": "markdown",
   "metadata": {},
   "source": [
    "En esta lección se introducen conceptos básicos de probabilidad requeridos para el desarrollo del curso.\n",
    "\n",
    "El propósito es introducir el lenguaje utilizado. No se hará ningún desarrollo matemático formal. Solamente se presentar los cálculos que se consideran necesarios para entender el concepto."
   ]
  },
  {
   "cell_type": "markdown",
   "metadata": {},
   "source": [
    "## Concepto elemental de probabilidad"
   ]
  },
  {
   "cell_type": "markdown",
   "metadata": {},
   "source": [
    "La siguiente gráfica representa un ejemplo de un espacio muestral ($\\mathcal{M}$). Cada objeto dentro de la bolsa es un elemento del espacio muestral. Esto significa que este espacio muestral tiene $N=20$ elementos. Se supone que cada individuo puede identificarse de manera única, digamos con un identificador como $1,2,\\ldots,20$. "
   ]
  },
  {
   "cell_type": "markdown",
   "metadata": {},
   "source": [
    "<figure>\n",
    "<center>\n",
    "<img src=\"../Imagenes/bolsa_bolas-1-1.png\" width=\"300\" height=\"200\" align=\"center\"/>\n",
    "</center>\n",
    "<figcaption>\n",
    "<p style=\"text-align:center\">Ejemplo de Espacio Muestral $\\mathcal{M}$</p>\n",
    "</figcaption>\n",
    "</figure>"
   ]
  },
  {
   "cell_type": "markdown",
   "metadata": {},
   "source": [
    "Por otro lado, como se observa en el gráfico cada individuo tirene un atributo de color, que si usaremos a continuación."
   ]
  },
  {
   "cell_type": "markdown",
   "metadata": {},
   "source": [
    "## Evento"
   ]
  },
  {
   "cell_type": "markdown",
   "metadata": {},
   "source": [
    "Un evento es cualquier subconjunto del espacio muestral. El lector interesado puede verificar, si lo desea, que el espacio muestral $\\mathcal{M}$ tiene exáctamente $2^{12}$ subconjuntos. \n",
    "\n",
    "Consideremos ahora cinco eventos (subconjuntos) especiales de $\\mathcal{M}$: \n",
    "\n",
    "1. *azul*: el subconjunto de bolas azules;\n",
    "2. *rojo*: el subconjunto de bolas rojas;\n",
    "3. *verde*: el subconjunto de bolas verdes.\n",
    "4. *pares*: el subconjunto de bolas pares\n",
    "5. *impares*: el sunconjunto de bolas impares.\n",
    "\n",
    "La gráfica muestra los 5 eventos (subconjuntos) del espacio muestral ."
   ]
  },
  {
   "cell_type": "markdown",
   "metadata": {},
   "source": [
    "<figure>\n",
    "<center>\n",
    "<img src=\"../Imagenes/bolas_subconjuntos.png\" width=\"500\" height=\"400\" align=\"center\"/>\n",
    "</center>\n",
    "<figcaption>\n",
    "<p style=\"text-align:center\">Ejemplos de eventos del Espacio Muestral $\\mathcal{M}$</p>\n",
    "</figcaption>\n",
    "</figure>"
   ]
  },
  {
   "cell_type": "markdown",
   "metadata": {},
   "source": [
    "## Probabilidad"
   ]
  },
  {
   "cell_type": "markdown",
   "metadata": {},
   "source": [
    "La teoría de probabilidad se creó para poder medir los subconjunto de una espacio muestral. El concepto de medida está asociado a la naturaleza del experimento que se desa modelar (representar de manera abstracta).\n",
    "\n",
    "En el ejemplo de las bolas presentado arriba, la medida que usaremos será siempre el  la proporción entre el número de elementos de un evento y el número de elementos del espacio muestral $M$. \n",
    "\n",
    "Esto significa que \n",
    "\n",
    "$$\n",
    "\\begin{align}\n",
    "\\text{Prob}[\\text{azul}] &= 5/20\\\\\n",
    "\\text{Prob}[\\text{rojo}] &= 7/20\\\\\n",
    "\\text{Prob}[\\text{gris}] &= 8/20\\\\\n",
    "\\text{Prob}[\\text{pares}] &= 9/20\\\\\n",
    "\\text{Prob}[\\text{impares}] &= 11/20\\\\\n",
    "\\end{align}\n",
    "$$\n",
    "\n",
    "Observe además que $\\text{Prob}[\\mathcal{M}] = 1$."
   ]
  },
  {
   "cell_type": "markdown",
   "metadata": {},
   "source": [
    "## Conceptos elementales de la probabilidad"
   ]
  },
  {
   "cell_type": "markdown",
   "metadata": {},
   "source": [
    "En esta sección presentamos las propiedades escenciales de la probabilidad, que usaremos a lo largo de nuestro estudio. Con conceptos relativamente sencillos pero muy importantes."
   ]
  },
  {
   "cell_type": "markdown",
   "metadata": {},
   "source": [
    "### Regla aditiva de la probabilidad"
   ]
  },
  {
   "cell_type": "markdown",
   "metadata": {},
   "source": [
    "La probabilidad de la unión de dos eventos (subconjuntos) disyuntos (que no tiene intersección) es la suma de la probabilidad (medida) de cada uno de ellos. En símbolos, si $A$ y $B$ son eventos disyuntos de $\\mathcal{M}$, entonces\n",
    "\n",
    "$$\n",
    "\\text{Prob}[A\\cup B] = \\text{Prob}[A] + \\text{Prob}[B].\n",
    "$$\n",
    "\n",
    "Por ejemplo, observe que $\\text{Prob}[\\text{azul}\\cup\\text{rojo}] = 5/20+7/20 = 12/20$. \n",
    "\n",
    "\n",
    "Sin embargo $\\text{Prob}[\\text{azul}\\cup\\text{pares}] \\ne 5/20 + 9/20$. \n",
    "\n",
    "ESto se debe a que los evento *azul* y *pares*, no disyuntos. Como se muestra en la parte inferior derecha de la gráfica  $\\text{Prob}[\\text{azul}\\cap \\text{pares}] = 3/20$.\n",
    "\n",
    "Esto nos conduce a la regla aditiva general la cual dice que\n",
    "\n",
    "$$\n",
    "\\text{Prob}[A\\cup B] = \\text{Prob}[A] + \\text{Prob}[B]-\\text{Prob}[A\\cap B] .\n",
    "$$\n",
    "\n",
    "En ejemplo se tiene entonces que\n",
    "\n",
    "$$\n",
    "\\text{Prob}[\\text{azul}\\cup\\text{pares}] = 5/20 + 9/20 - 3/20 = 11/20\n",
    "$$\n",
    "\n",
    "\n",
    "  "
   ]
  },
  {
   "cell_type": "markdown",
   "metadata": {},
   "source": [
    "### Medida de todo el espacio muestral"
   ]
  },
  {
   "cell_type": "markdown",
   "metadata": {},
   "source": [
    "Vamos a denotar por $\\emptyset$ al conjunto vacio, es decir un conjunto que no tiene elementos.\n",
    "\n",
    "En nuestro ejemplo tenemos que $\\mathcal{M}= \\text{azul}\\cup \\text{rojo}\\cup \\text{gris}$. Además se tiene $\\text{azul}\\cup \\text{rojo}= \\emptyset$, $\\text{azul}\\cup \\text{gris}= \\emptyset$ y $\\text{gris}\\cup \\text{rojo}= \\emptyset$. Se dice en esta situación que los conjuntos son mutuamente excluyentes. Entonces tenemos, de acuerdo a ueta regla aditiva que\n",
    "\n",
    "$$\n",
    "\\text{Prob}[\\mathcal{M}] = \\text{Prob}[\\text{azul}] +  \\text{Prob}[\\text{rojo}]+  \\text{Prob}[\\text{gris}] = 5/20 + 7/20 + 8/20 = 1.\n",
    "$$\n",
    "\n",
    "Esta es una propiedad general de la probabilidad. El espacio muestral siempre tien medida de probabilidad 1. Además observe que si se tienen evento disyuntos entre sí, cuya unión es el espacio muestral, entonces la suma de la unión de todos esos eventos tiene probabilidad 1.\n",
    "\n"
   ]
  },
  {
   "cell_type": "markdown",
   "metadata": {},
   "source": [
    "### Probabilidad del complemento de un evento"
   ]
  },
  {
   "cell_type": "markdown",
   "metadata": {},
   "source": [
    "El complemento de un evento $A$ se denotará por $A^{c}$. Este simplemente el conjunto de elementos del espacio muestral que están por fuera de $A$. Entonces, es inmediato que $\\mathcal{M} = A\\cup A^c$. Por lo que \n",
    "\n",
    "$$\n",
    "Prob[A^c] = 1 - Prob[A].\n",
    "$$\n",
    "\n",
    "Una consecuencia inmediata de esta propiedad es que como $\\mathcal{M}^c= \\emptyset$, porque el espacio muestral contiene a todos los elementos, entonces $Prob[\\emptyset]=0$.\n",
    "\n",
    "\n",
    "En nuestro ejemplo $impares^c= pares$. Entonces $Prob[\\text{impares} ] = 1- 9/20 = 11/20$."
   ]
  },
  {
   "cell_type": "markdown",
   "metadata": {},
   "source": [
    "### Probabilidad condicional"
   ]
  },
  {
   "cell_type": "markdown",
   "metadata": {},
   "source": [
    "El concepto de probabilidad condicional es de vital importancia en el estudio del aprendizaje profundo y la inteligencia artificial.\n",
    "\n"
   ]
  },
  {
   "cell_type": "markdown",
   "metadata": {},
   "source": [
    "- [Regresar al inicio](#Contenido)"
   ]
  },
  {
   "cell_type": "code",
   "execution_count": null,
   "metadata": {},
   "outputs": [],
   "source": []
  }
 ],
 "metadata": {
  "kernelspec": {
   "display_name": "Python 3",
   "language": "python",
   "name": "python3"
  },
  "language_info": {
   "codemirror_mode": {
    "name": "ipython",
    "version": 3
   },
   "file_extension": ".py",
   "mimetype": "text/x-python",
   "name": "python",
   "nbconvert_exporter": "python",
   "pygments_lexer": "ipython3",
   "version": "3.7.7"
  },
  "toc-autonumbering": false
 },
 "nbformat": 4,
 "nbformat_minor": 4
}
