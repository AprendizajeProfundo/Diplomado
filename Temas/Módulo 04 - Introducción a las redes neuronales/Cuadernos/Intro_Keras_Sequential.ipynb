{
 "cells": [
  {
   "cell_type": "markdown",
   "id": "available-opportunity",
   "metadata": {
    "tags": []
   },
   "source": [
    "# <span style=\"color:green\"><center>Diplomado en Inteligencia Artificial y Aprendizaje Profundo</center></span>"
   ]
  },
  {
   "cell_type": "markdown",
   "id": "scenic-ghost",
   "metadata": {},
   "source": [
    "# <span style=\"color:red\"><center>Introducción a la API Sequential de Keras</center></span>"
   ]
  },
  {
   "cell_type": "markdown",
   "id": "durable-renewal",
   "metadata": {},
   "source": [
    "##   <span style=\"color:blue\">Profesores</span>"
   ]
  },
  {
   "cell_type": "markdown",
   "id": "funded-football",
   "metadata": {},
   "source": [
    "1. Alvaro Mauricio Montenegro Díaz, ammontenegrod@unal.edu.co\n",
    "2. Daniel Mauricio Montenegro Reyes, dextronomo@gmail.com \n",
    "3. Campo Elías Pardo Turriago, cepardot@unal.edu.co "
   ]
  },
  {
   "cell_type": "markdown",
   "id": "young-active",
   "metadata": {},
   "source": [
    "##   <span style=\"color:blue\">Asesora Medios y Marketing digital</span>\n",
    " "
   ]
  },
  {
   "cell_type": "markdown",
   "id": "suspected-campus",
   "metadata": {},
   "source": [
    "4. Maria del Pilar Montenegro, pmontenegro88@gmail.com "
   ]
  },
  {
   "cell_type": "markdown",
   "id": "critical-guess",
   "metadata": {},
   "source": [
    "## <span style=\"color:blue\">Asistentes</span>"
   ]
  },
  {
   "cell_type": "markdown",
   "id": "romantic-bookmark",
   "metadata": {},
   "source": [
    "5. Oleg Jarma, ojarmam@unal.edu.co \n",
    "6. Laura Lizarazo, ljlizarazore@unal.edu.co "
   ]
  },
  {
   "cell_type": "markdown",
   "id": "restricted-going",
   "metadata": {},
   "source": [
    "## <span style=\"color:blue\">Contenido</span> "
   ]
  },
  {
   "cell_type": "markdown",
   "id": "assisted-thunder",
   "metadata": {},
   "source": [
    "* [Introducción](#Introducción)\n",
    "* [Prepara datos de MNIST](#Prepara-datos-de-MNIST)\n",
    "* [Modelo Sequential de Keras](#Modelo-Sequential-de-Keras)\n",
    "* [Summary y Plot Model](#Summary-y-Plot-Model)\n",
    "* [Entrenamiento y evaluación del modelo](#Entrenamiento-y-evaluación-del-modelo)\n"
   ]
  },
  {
   "cell_type": "markdown",
   "id": "incident-soundtrack",
   "metadata": {},
   "source": [
    "## <span style=\"color:blue\">Introducción</span>"
   ]
  },
  {
   "cell_type": "markdown",
   "id": "clean-olive",
   "metadata": {},
   "source": [
    "Este es un notebook de Google Colaboratory. Los programas de Python se executan directamente en tu navegador,  una gran manera de aprender y utilizar TensorFlow. Para poder seguir este tutorial, ejecuta este notebook en Google Colab presionando el boton en la parte superior de esta pagina.\n"
   ]
  },
  {
   "cell_type": "code",
   "execution_count": 1,
   "id": "criminal-excuse",
   "metadata": {},
   "outputs": [
    {
     "name": "stdout",
     "output_type": "stream",
     "text": [
      "Version de Tensorflow =  2.4.1\n"
     ]
    }
   ],
   "source": [
    "from __future__ import absolute_import, division, print_function\n",
    "\n",
    "import tensorflow as tf\n",
    "print('Version de Tensorflow = ', tf.__version__)"
   ]
  },
  {
   "cell_type": "markdown",
   "id": "accepted-product",
   "metadata": {},
   "source": [
    "## <span style=\"color:blue\">Prepara datos de MNIST</span> "
   ]
  },
  {
   "cell_type": "code",
   "execution_count": 2,
   "id": "fleet-boating",
   "metadata": {},
   "outputs": [],
   "source": [
    "mnist = tf.keras.datasets.mnist\n",
    "\n",
    "(x_train, y_train), (x_test, y_test) = mnist.load_data()\n",
    "x_train, x_test = x_train/255.0, x_test/255.0"
   ]
  },
  {
   "cell_type": "markdown",
   "id": "backed-albany",
   "metadata": {},
   "source": [
    "## <span style=\"color:blue\">Modelo Sequential de Keras</span> \n"
   ]
  },
  {
   "cell_type": "code",
   "execution_count": 3,
   "id": "underlying-powell",
   "metadata": {},
   "outputs": [],
   "source": [
    "import tensorflow.keras.layers as layer\n",
    "\n",
    "model = tf.keras.models.Sequential([\n",
    "    layer.Flatten(input_shape=(28,28)), #784\n",
    "    layer.Dense(128, activation='relu'),\n",
    "    layer.Dropout(0.2),\n",
    "    layer.Dense(10, activation='softmax')\n",
    "])\n",
    "\n",
    "model.compile(optimizer='adam',\n",
    "             loss='sparse_categorical_crossentropy',\n",
    "             metrics=['accuracy'])"
   ]
  },
  {
   "cell_type": "markdown",
   "id": "loose-industry",
   "metadata": {},
   "source": [
    "## <span style=\"color:blue\">Summary y Plot Model</span> "
   ]
  },
  {
   "cell_type": "code",
   "execution_count": 4,
   "id": "confirmed-martial",
   "metadata": {},
   "outputs": [
    {
     "name": "stdout",
     "output_type": "stream",
     "text": [
      "Model: \"sequential\"\n",
      "_________________________________________________________________\n",
      "Layer (type)                 Output Shape              Param #   \n",
      "=================================================================\n",
      "flatten (Flatten)            (None, 784)               0         \n",
      "_________________________________________________________________\n",
      "dense (Dense)                (None, 128)               100480    \n",
      "_________________________________________________________________\n",
      "dropout (Dropout)            (None, 128)               0         \n",
      "_________________________________________________________________\n",
      "dense_1 (Dense)              (None, 10)                1290      \n",
      "=================================================================\n",
      "Total params: 101,770\n",
      "Trainable params: 101,770\n",
      "Non-trainable params: 0\n",
      "_________________________________________________________________\n"
     ]
    }
   ],
   "source": [
    "model.summary()"
   ]
  },
  {
   "cell_type": "code",
   "execution_count": 5,
   "id": "urban-nation",
   "metadata": {},
   "outputs": [
    {
     "data": {
      "image/png": "[encoded data removed]",
      "text/plain": [
       "<IPython.core.display.Image object>"
      ]
     },
     "execution_count": 5,
     "metadata": {},
     "output_type": "execute_result"
    }
   ],
   "source": [
    "from tensorflow.keras.utils import plot_model\n",
    "\n",
    "plot_model(model, to_file='../Imagenes/mnist_dense.png', \n",
    "          show_shapes=True, show_dtype=False)"
   ]
  },
  {
   "cell_type": "markdown",
   "id": "emerging-europe",
   "metadata": {},
   "source": [
    "Puede necesitar instalar [graphviz](https://www.graphviz.org/)."
   ]
  },
  {
   "cell_type": "raw",
   "id": "explicit-montreal",
   "metadata": {},
   "source": [
    "pip install pydot\n",
    "pip install pydot_ng\n",
    "pip install graphviz\n",
    "#pip install plot-model"
   ]
  },
  {
   "cell_type": "code",
   "execution_count": null,
   "id": "fantastic-subscriber",
   "metadata": {},
   "outputs": [],
   "source": [
    "#from plot_model import plot_model\n",
    "#plot_model(model)"
   ]
  },
  {
   "cell_type": "markdown",
   "id": "considerable-action",
   "metadata": {},
   "source": [
    "## <span style=\"color:blue\">Entrenamiento y evaluación del modelo</span> "
   ]
  },
  {
   "cell_type": "code",
   "execution_count": 6,
   "id": "creative-college",
   "metadata": {},
   "outputs": [
    {
     "name": "stdout",
     "output_type": "stream",
     "text": [
      "Epoch 1/5\n",
      "1875/1875 [==============================] - 20s 10ms/step - loss: 0.4859 - accuracy: 0.8617\n",
      "Epoch 2/5\n",
      "1875/1875 [==============================] - 21s 11ms/step - loss: 0.1453 - accuracy: 0.9564\n",
      "Epoch 3/5\n",
      "1875/1875 [==============================] - 18s 10ms/step - loss: 0.1066 - accuracy: 0.9675\n",
      "Epoch 4/5\n",
      "1875/1875 [==============================] - 19s 10ms/step - loss: 0.0904 - accuracy: 0.9714\n",
      "Epoch 5/5\n",
      "1875/1875 [==============================] - 18s 10ms/step - loss: 0.0750 - accuracy: 0.9771\n"
     ]
    }
   ],
   "source": [
    "history = model.fit(x_train, y_train, epochs=5)"
   ]
  },
  {
   "cell_type": "code",
   "execution_count": 7,
   "id": "prompt-gates",
   "metadata": {},
   "outputs": [
    {
     "name": "stdout",
     "output_type": "stream",
     "text": [
      "313/313 - 2s - loss: 0.0738 - accuracy: 0.9786\n"
     ]
    },
    {
     "data": {
      "text/plain": [
       "[0.07382926344871521, 0.978600025177002]"
      ]
     },
     "execution_count": 7,
     "metadata": {},
     "output_type": "execute_result"
    }
   ],
   "source": [
    "model.evaluate(x_test, y_test, verbose=2)"
   ]
  },
  {
   "cell_type": "markdown",
   "id": "institutional-basin",
   "metadata": {},
   "source": [
    "## <span style=\"color:blue\">Primeros gráficos</span> "
   ]
  },
  {
   "cell_type": "markdown",
   "id": "executed-singapore",
   "metadata": {},
   "source": [
    "### Extrae datos"
   ]
  },
  {
   "cell_type": "code",
   "execution_count": 20,
   "id": "commercial-envelope",
   "metadata": {},
   "outputs": [
    {
     "data": {
      "text/html": [
       "<div>\n",
       "<style scoped>\n",
       "    .dataframe tbody tr th:only-of-type {\n",
       "        vertical-align: middle;\n",
       "    }\n",
       "\n",
       "    .dataframe tbody tr th {\n",
       "        vertical-align: top;\n",
       "    }\n",
       "\n",
       "    .dataframe thead th {\n",
       "        text-align: right;\n",
       "    }\n",
       "</style>\n",
       "<table border=\"1\" class=\"dataframe\">\n",
       "  <thead>\n",
       "    <tr style=\"text-align: right;\">\n",
       "      <th></th>\n",
       "      <th>loss</th>\n",
       "      <th>accuracy</th>\n",
       "      <th>epoch</th>\n",
       "    </tr>\n",
       "  </thead>\n",
       "  <tbody>\n",
       "    <tr>\n",
       "      <th>0</th>\n",
       "      <td>0.293235</td>\n",
       "      <td>0.916267</td>\n",
       "      <td>0</td>\n",
       "    </tr>\n",
       "    <tr>\n",
       "      <th>1</th>\n",
       "      <td>0.140098</td>\n",
       "      <td>0.958250</td>\n",
       "      <td>1</td>\n",
       "    </tr>\n",
       "    <tr>\n",
       "      <th>2</th>\n",
       "      <td>0.105634</td>\n",
       "      <td>0.968300</td>\n",
       "      <td>2</td>\n",
       "    </tr>\n",
       "    <tr>\n",
       "      <th>3</th>\n",
       "      <td>0.088549</td>\n",
       "      <td>0.972383</td>\n",
       "      <td>3</td>\n",
       "    </tr>\n",
       "    <tr>\n",
       "      <th>4</th>\n",
       "      <td>0.076502</td>\n",
       "      <td>0.976267</td>\n",
       "      <td>4</td>\n",
       "    </tr>\n",
       "  </tbody>\n",
       "</table>\n",
       "</div>"
      ],
      "text/plain": [
       "       loss  accuracy  epoch\n",
       "0  0.293235  0.916267      0\n",
       "1  0.140098  0.958250      1\n",
       "2  0.105634  0.968300      2\n",
       "3  0.088549  0.972383      3\n",
       "4  0.076502  0.976267      4"
      ]
     },
     "execution_count": 20,
     "metadata": {},
     "output_type": "execute_result"
    }
   ],
   "source": [
    "import matplotlib.pyplot as plt\n",
    "import pandas as pd\n",
    "hist = pd.DataFrame(history.history)\n",
    "hist['epoch'] = history.epoch \n",
    "hist"
   ]
  },
  {
   "cell_type": "markdown",
   "id": "flying-jewelry",
   "metadata": {},
   "source": [
    "### Pérdida"
   ]
  },
  {
   "cell_type": "code",
   "execution_count": 27,
   "id": "parliamentary-cancellation",
   "metadata": {},
   "outputs": [
    {
     "data": {
      "image/png": "[encoded data removed]",
      "text/plain": [
       "<Figure size 432x288 with 1 Axes>"
      ]
     },
     "metadata": {
      "needs_background": "light"
     },
     "output_type": "display_data"
    }
   ],
   "source": [
    "\n",
    "plt.figure()\n",
    "plt.xlabel('Epoca')\n",
    "plt.ylabel('Loss: Entropía cruzada')\n",
    "plt.plot(hist['epoch'], hist['loss'],\n",
    "           label='Error en entrenamiento')\n",
    "plt.ylim([0,0.5])\n",
    "plt.legend()\n",
    "plt.show()"
   ]
  },
  {
   "cell_type": "markdown",
   "id": "pediatric-increase",
   "metadata": {},
   "source": [
    "### Exactitud"
   ]
  },
  {
   "cell_type": "code",
   "execution_count": 29,
   "id": "processed-accreditation",
   "metadata": {},
   "outputs": [
    {
     "data": {
      "image/png": "[encoded data removed]",
      "text/plain": [
       "<Figure size 432x288 with 1 Axes>"
      ]
     },
     "metadata": {
      "needs_background": "light"
     },
     "output_type": "display_data"
    }
   ],
   "source": [
    "\n",
    "plt.figure()\n",
    "plt.xlabel('Epoca')\n",
    "plt.ylabel('Exactitud')\n",
    "plt.plot(hist['epoch'], hist['accuracy'],\n",
    "           label='Exactitud en entrenamiento')\n",
    "plt.ylim([0.9,1])\n",
    "plt.legend()\n",
    "plt.show()"
   ]
  },
  {
   "cell_type": "code",
   "execution_count": null,
   "id": "better-brazil",
   "metadata": {},
   "outputs": [],
   "source": []
  }
 ],
 "metadata": {
  "kernelspec": {
   "display_name": "Python 3",
   "language": "python",
   "name": "python3"
  },
  "language_info": {
   "codemirror_mode": {
    "name": "ipython",
    "version": 3
   },
   "file_extension": ".py",
   "mimetype": "text/x-python",
   "name": "python",
   "nbconvert_exporter": "python",
   "pygments_lexer": "ipython3",
   "version": "3.8.8"
  }
 },
 "nbformat": 4,
 "nbformat_minor": 5
}
