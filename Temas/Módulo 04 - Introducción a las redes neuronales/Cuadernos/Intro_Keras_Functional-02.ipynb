{
 "cells": [
  {
   "cell_type": "markdown",
   "id": "ordered-vertical",
   "metadata": {
    "tags": []
   },
   "source": [
    "# <span style=\"color:green\"><center>Diplomado en Inteligencia Artificial y Aprendizaje Profundo</center></span>"
   ]
  },
  {
   "cell_type": "markdown",
   "id": "chemical-naples",
   "metadata": {},
   "source": [
    "# <span style=\"color:red\"><center>Introducción a la API funcional de Keras-2</center></span>"
   ]
  },
  {
   "cell_type": "markdown",
   "id": "earned-concert",
   "metadata": {},
   "source": [
    "##   <span style=\"color:blue\">Profesores</span>"
   ]
  },
  {
   "cell_type": "markdown",
   "id": "german-concrete",
   "metadata": {},
   "source": [
    "1. Alvaro Mauricio Montenegro Díaz, ammontenegrod@unal.edu.co\n",
    "2. Daniel Mauricio Montenegro Reyes, dextronomo@gmail.com \n",
    "3. Campo Elías Pardo Turriago, cepardot@unal.edu.co "
   ]
  },
  {
   "cell_type": "markdown",
   "id": "alert-globe",
   "metadata": {},
   "source": [
    "##   <span style=\"color:blue\">Asesora Medios y Marketing digital</span>\n",
    " "
   ]
  },
  {
   "cell_type": "markdown",
   "id": "related-design",
   "metadata": {},
   "source": [
    "4. Maria del Pilar Montenegro, pmontenegro88@gmail.com "
   ]
  },
  {
   "cell_type": "markdown",
   "id": "healthy-secondary",
   "metadata": {},
   "source": [
    "## <span style=\"color:blue\">Asistentes</span>"
   ]
  },
  {
   "cell_type": "markdown",
   "id": "enclosed-difference",
   "metadata": {},
   "source": [
    "5. Oleg Jarma, ojarmam@unal.edu.co \n",
    "6. Laura Lizarazo, ljlizarazore@unal.edu.co "
   ]
  },
  {
   "cell_type": "markdown",
   "id": "further-asbestos",
   "metadata": {},
   "source": [
    "## <span style=\"color:blue\">Contenido</span> "
   ]
  },
  {
   "cell_type": "markdown",
   "id": "sixth-baltimore",
   "metadata": {},
   "source": [
    "* [Introducción](#Introducción)\n",
    "* [Prepara datos de MNIST](#Prepara-datos-de-MNIST)\n",
    "* [Separa lotes de datos y mezclar el conjunto de datos](#Separa-lotes-de-datos-y-mezcla-el-conjunto-de-datos)\n",
    "* [API Fucional de Keras. Sub-clases](#API-Funcional-de-Keras.-Sub-clases)\n",
    "* [Optimizador y función de pérdida](#Optimizador-y-función-de-pérdida)\n",
    "* [Métricas para medir pérdida y precisión](#Métricas-para-medir-pérdida-y-precisión)\n",
    "* [Función de entrenamiento: diferenciación automática con tf.GradientTape](#Función-de-entrenamiento:-diferenciación-automática-con-tf.GradientTape)\n",
    "* [Compila el modelo](#Compila-el-modelo)\n",
    "* [Summary y Plot Model](#Summary-y-Plot-Model) \n",
    "* [Entrenamiento y evaluación del modelo](#Entrenamiento-y-evaluación-del-modelo) "
   ]
  },
  {
   "cell_type": "markdown",
   "id": "simplified-keeping",
   "metadata": {},
   "source": [
    "## <span style=\"color:blue\">Introducción</span>"
   ]
  },
  {
   "cell_type": "markdown",
   "id": "given-opening",
   "metadata": {},
   "source": [
    "Este es un notebook de Google Colaboratory. Los programas de Python se executan directamente en tu navegador,  una gran manera de aprender y utilizar TensorFlow. Para poder seguir este tutorial, ejecuta este notebook en Google Colab. Basado en [Tensorflow- quick start expertos](https://www.tensorflow.org/tutorials/quickstart/advanced)\n"
   ]
  },
  {
   "cell_type": "code",
   "execution_count": 1,
   "id": "sufficient-edition",
   "metadata": {},
   "outputs": [
    {
     "name": "stdout",
     "output_type": "stream",
     "text": [
      "Version de Tensorflow =  2.4.1\n"
     ]
    }
   ],
   "source": [
    "from __future__ import absolute_import, division, print_function\n",
    "\n",
    "import tensorflow as tf\n",
    "print('Version de Tensorflow = ', tf.__version__)\n",
    "\n",
    "# Objetos de la API de Keras\n",
    "from tensorflow.keras.layers import Dense, Flatten, Conv2D\n",
    "from tensorflow.keras import Model\n",
    "\n",
    "from tensorflow.keras.utils import plot_model\n",
    "\n",
    "# datos mnist\n",
    "from tensorflow.keras.datasets import mnist\n"
   ]
  },
  {
   "cell_type": "markdown",
   "id": "removed-thesis",
   "metadata": {},
   "source": [
    "## <span style=\"color:blue\">Prepara datos de MNIST</span> "
   ]
  },
  {
   "cell_type": "code",
   "execution_count": 2,
   "id": "treated-holder",
   "metadata": {},
   "outputs": [],
   "source": [
    "\n",
    "(x_train, y_train), (x_test, y_test) = mnist.load_data()\n",
    "x_train, x_test = x_train/255.0, x_test/255.0\n",
    "\n",
    "# Agrega una dimensión para manejo de canales de imágenes en tensorflow\n",
    "x_train = x_train[...,tf.newaxis]\n",
    "x_test = x_test[...,tf.newaxis]"
   ]
  },
  {
   "cell_type": "code",
   "execution_count": 3,
   "id": "french-facing",
   "metadata": {},
   "outputs": [
    {
     "data": {
      "text/plain": [
       "(10000, 28, 28, 1)"
      ]
     },
     "execution_count": 3,
     "metadata": {},
     "output_type": "execute_result"
    }
   ],
   "source": [
    "x_test.shape"
   ]
  },
  {
   "cell_type": "markdown",
   "id": "spread-optimization",
   "metadata": {},
   "source": [
    "## <span style=\"color:blue\">API Funcional de Keras. Sub-clases</span>"
   ]
  },
  {
   "cell_type": "code",
   "execution_count": null,
   "id": "published-graduate",
   "metadata": {},
   "outputs": [],
   "source": [
    "VAmos a derivar nuestro model de la clase Model de la API funcional de Keras."
   ]
  },
  {
   "cell_type": "code",
   "execution_count": 4,
   "id": "progressive-pocket",
   "metadata": {},
   "outputs": [],
   "source": [
    "class MyModel(Model):\n",
    "    def __init__(self):\n",
    "        super(MyModel,self).__init__()\n",
    "        self.conv1 = Conv2D(32, 3, activation='relu')\n",
    "        self.flatten= Flatten()\n",
    "        self.d1 = Dense(128, activation='relu')\n",
    "        self.d2 = Dense(10, activation='softmax')\n",
    "    \n",
    "    def call(self,x):\n",
    "        x = self.conv1(x)\n",
    "        x = self.flatten(x)\n",
    "        x = self.d1(x)\n",
    "        return self.d2(x)\n",
    "\n",
    "# crea una instancia del modelo\n",
    "model = MyModel()"
   ]
  },
  {
   "cell_type": "markdown",
   "id": "municipal-maryland",
   "metadata": {},
   "source": [
    "## <span style=\"color:blue\">Compile</span>"
   ]
  },
  {
   "cell_type": "markdown",
   "id": "expired-insulation",
   "metadata": {},
   "source": [
    "Escoge metricas para medir la perdida y exactitud del modelo. Estas metricas acumulan los valores cada epoch y despues imprimen el resultado total.\n"
   ]
  },
  {
   "cell_type": "code",
   "execution_count": 5,
   "id": "christian-ethics",
   "metadata": {},
   "outputs": [],
   "source": [
    "model.compile(optimizer= \"Adam\",\n",
    "             loss=\"SparseCategoricalCrossentropy\",\n",
    "             metrics=[\"accuracy\"])"
   ]
  },
  {
   "cell_type": "markdown",
   "id": "structural-sigma",
   "metadata": {},
   "source": [
    "## <span style=\"color:blue\">Entrena</span>"
   ]
  },
  {
   "cell_type": "code",
   "execution_count": 6,
   "id": "facial-insurance",
   "metadata": {},
   "outputs": [
    {
     "name": "stdout",
     "output_type": "stream",
     "text": [
      "Epoch 1/5\n",
      "938/938 - 79s - loss: 0.1521 - accuracy: 0.9542 - val_loss: 0.0653 - val_accuracy: 0.9773\n",
      "Epoch 2/5\n",
      "938/938 - 77s - loss: 0.0487 - accuracy: 0.9852 - val_loss: 0.0587 - val_accuracy: 0.9788\n",
      "Epoch 3/5\n",
      "938/938 - 71s - loss: 0.0244 - accuracy: 0.9926 - val_loss: 0.0523 - val_accuracy: 0.9829\n",
      "Epoch 4/5\n",
      "938/938 - 74s - loss: 0.0155 - accuracy: 0.9950 - val_loss: 0.0602 - val_accuracy: 0.9820\n",
      "Epoch 5/5\n",
      "938/938 - 77s - loss: 0.0100 - accuracy: 0.9968 - val_loss: 0.0587 - val_accuracy: 0.9838\n"
     ]
    }
   ],
   "source": [
    "\n",
    "history = model.fit(x_train, y_train, \n",
    "                    validation_data = (x_test,y_test),\n",
    "                    batch_size = 64,\n",
    "                    shuffle=True,\n",
    "                    verbose=2,\n",
    "                    epochs=5)"
   ]
  },
  {
   "cell_type": "markdown",
   "id": "weird-bennett",
   "metadata": {},
   "source": [
    "# Gráficas"
   ]
  },
  {
   "cell_type": "markdown",
   "id": "rapid-poetry",
   "metadata": {},
   "source": [
    "## <span style=\"color:blue\">Primeros gráficos</span> "
   ]
  },
  {
   "cell_type": "markdown",
   "id": "quality-screening",
   "metadata": {},
   "source": [
    "### Extrae datos"
   ]
  },
  {
   "cell_type": "code",
   "execution_count": 7,
   "id": "friendly-glass",
   "metadata": {},
   "outputs": [
    {
     "data": {
      "text/html": [
       "<div>\n",
       "<style scoped>\n",
       "    .dataframe tbody tr th:only-of-type {\n",
       "        vertical-align: middle;\n",
       "    }\n",
       "\n",
       "    .dataframe tbody tr th {\n",
       "        vertical-align: top;\n",
       "    }\n",
       "\n",
       "    .dataframe thead th {\n",
       "        text-align: right;\n",
       "    }\n",
       "</style>\n",
       "<table border=\"1\" class=\"dataframe\">\n",
       "  <thead>\n",
       "    <tr style=\"text-align: right;\">\n",
       "      <th></th>\n",
       "      <th>loss</th>\n",
       "      <th>accuracy</th>\n",
       "      <th>val_loss</th>\n",
       "      <th>val_accuracy</th>\n",
       "      <th>epoch</th>\n",
       "    </tr>\n",
       "  </thead>\n",
       "  <tbody>\n",
       "    <tr>\n",
       "      <th>0</th>\n",
       "      <td>0.152112</td>\n",
       "      <td>0.954200</td>\n",
       "      <td>0.065327</td>\n",
       "      <td>0.9773</td>\n",
       "      <td>0</td>\n",
       "    </tr>\n",
       "    <tr>\n",
       "      <th>1</th>\n",
       "      <td>0.048749</td>\n",
       "      <td>0.985200</td>\n",
       "      <td>0.058654</td>\n",
       "      <td>0.9788</td>\n",
       "      <td>1</td>\n",
       "    </tr>\n",
       "    <tr>\n",
       "      <th>2</th>\n",
       "      <td>0.024368</td>\n",
       "      <td>0.992650</td>\n",
       "      <td>0.052295</td>\n",
       "      <td>0.9829</td>\n",
       "      <td>2</td>\n",
       "    </tr>\n",
       "    <tr>\n",
       "      <th>3</th>\n",
       "      <td>0.015453</td>\n",
       "      <td>0.995033</td>\n",
       "      <td>0.060242</td>\n",
       "      <td>0.9820</td>\n",
       "      <td>3</td>\n",
       "    </tr>\n",
       "    <tr>\n",
       "      <th>4</th>\n",
       "      <td>0.010003</td>\n",
       "      <td>0.996800</td>\n",
       "      <td>0.058671</td>\n",
       "      <td>0.9838</td>\n",
       "      <td>4</td>\n",
       "    </tr>\n",
       "  </tbody>\n",
       "</table>\n",
       "</div>"
      ],
      "text/plain": [
       "       loss  accuracy  val_loss  val_accuracy  epoch\n",
       "0  0.152112  0.954200  0.065327        0.9773      0\n",
       "1  0.048749  0.985200  0.058654        0.9788      1\n",
       "2  0.024368  0.992650  0.052295        0.9829      2\n",
       "3  0.015453  0.995033  0.060242        0.9820      3\n",
       "4  0.010003  0.996800  0.058671        0.9838      4"
      ]
     },
     "execution_count": 7,
     "metadata": {},
     "output_type": "execute_result"
    }
   ],
   "source": [
    "import matplotlib.pyplot as plt\n",
    "import pandas as pd\n",
    "hist = pd.DataFrame(history.history)\n",
    "hist['epoch'] = history.epoch \n",
    "hist"
   ]
  },
  {
   "cell_type": "markdown",
   "id": "activated-jamaica",
   "metadata": {},
   "source": [
    "### Pérdida"
   ]
  },
  {
   "cell_type": "code",
   "execution_count": 8,
   "id": "equivalent-demographic",
   "metadata": {},
   "outputs": [
    {
     "data": {
      "image/png": "[encoded data removed]",
      "text/plain": [
       "<Figure size 432x288 with 1 Axes>"
      ]
     },
     "metadata": {
      "needs_background": "light"
     },
     "output_type": "display_data"
    }
   ],
   "source": [
    "\n",
    "plt.figure()\n",
    "plt.xlabel('Epoca')\n",
    "plt.ylabel('Loss: Entropía cruzada')\n",
    "plt.plot(hist['epoch'], hist['loss'],\n",
    "           label='Error en entrenamiento')\n",
    "plt.plot(hist['epoch'], hist['val_loss'],\n",
    "           label='Error en validación')\n",
    "plt.ylim([0,0.5])\n",
    "plt.legend()\n",
    "plt.show()"
   ]
  },
  {
   "cell_type": "markdown",
   "id": "presidential-fault",
   "metadata": {},
   "source": [
    "### Exactitud"
   ]
  },
  {
   "cell_type": "code",
   "execution_count": 10,
   "id": "relative-turkish",
   "metadata": {},
   "outputs": [
    {
     "data": {
      "image/png": "[encoded data removed]",
      "text/plain": [
       "<Figure size 432x288 with 1 Axes>"
      ]
     },
     "metadata": {
      "needs_background": "light"
     },
     "output_type": "display_data"
    }
   ],
   "source": [
    "\n",
    "plt.figure()\n",
    "plt.xlabel('Epoca')\n",
    "plt.ylabel('Exactitud')\n",
    "plt.plot(hist['epoch'], hist['accuracy'],\n",
    "           label='Exactitud en entrenamiento')\n",
    "plt.plot(hist['epoch'], hist['val_accuracy'],\n",
    "           label='Exactitud en validación')\n",
    "plt.ylim([0.96,1])\n",
    "plt.legend()\n",
    "plt.show()"
   ]
  },
  {
   "cell_type": "markdown",
   "id": "built-sandwich",
   "metadata": {},
   "source": [
    "## <span style=\"color:blue\">Summary y plot</span>"
   ]
  },
  {
   "cell_type": "code",
   "execution_count": 11,
   "id": "funded-access",
   "metadata": {},
   "outputs": [
    {
     "name": "stdout",
     "output_type": "stream",
     "text": [
      "Model: \"my_model\"\n",
      "_________________________________________________________________\n",
      "Layer (type)                 Output Shape              Param #   \n",
      "=================================================================\n",
      "conv2d (Conv2D)              multiple                  320       \n",
      "_________________________________________________________________\n",
      "flatten (Flatten)            multiple                  0         \n",
      "_________________________________________________________________\n",
      "dense (Dense)                multiple                  2769024   \n",
      "_________________________________________________________________\n",
      "dense_1 (Dense)              multiple                  1290      \n",
      "=================================================================\n",
      "Total params: 2,770,634\n",
      "Trainable params: 2,770,634\n",
      "Non-trainable params: 0\n",
      "_________________________________________________________________\n"
     ]
    }
   ],
   "source": [
    "model.summary()"
   ]
  },
  {
   "cell_type": "code",
   "execution_count": 13,
   "id": "informative-completion",
   "metadata": {},
   "outputs": [
    {
     "data": {
      "image/png": "[encoded data removed]",
      "text/plain": [
       "<IPython.core.display.Image object>"
      ]
     },
     "execution_count": 13,
     "metadata": {},
     "output_type": "execute_result"
    }
   ],
   "source": [
    "plot_model(model, to_file='../Imagenes/mnist_conv2d.png', \n",
    "          show_shapes=True, show_dtype=False)"
   ]
  },
  {
   "cell_type": "code",
   "execution_count": null,
   "id": "undefined-provision",
   "metadata": {},
   "outputs": [],
   "source": []
  }
 ],
 "metadata": {
  "kernelspec": {
   "display_name": "Python 3",
   "language": "python",
   "name": "python3"
  },
  "language_info": {
   "codemirror_mode": {
    "name": "ipython",
    "version": 3
   },
   "file_extension": ".py",
   "mimetype": "text/x-python",
   "name": "python",
   "nbconvert_exporter": "python",
   "pygments_lexer": "ipython3",
   "version": "3.8.8"
  }
 },
 "nbformat": 4,
 "nbformat_minor": 5
}
