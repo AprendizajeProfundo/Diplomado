{
 "cells": [
  {
   "cell_type": "markdown",
   "metadata": {
    "tags": []
   },
   "source": [
    "# <span style=\"color:green\"><center>Diplomado en Inteligencia Artificial y Aprendizaje Profundo</center></span>"
   ]
  },
  {
   "cell_type": "markdown",
   "metadata": {},
   "source": [
    "# <span style=\"color:red\"><center>Red Neuronal desde Cero</center></span>"
   ]
  },
  {
   "cell_type": "markdown",
   "metadata": {},
   "source": [
    "##   <span style=\"color:blue\">Profesores</span>"
   ]
  },
  {
   "cell_type": "markdown",
   "metadata": {},
   "source": [
    "1. Alvaro Mauricio Montenegro Díaz, ammontenegrod@unal.edu.co\n",
    "2. Daniel Mauricio Montenegro Reyes, dextronomo@gmail.com \n",
    "3. Campo Elías Pardo Turriago, cepardot@unal.edu.co "
   ]
  },
  {
   "cell_type": "markdown",
   "metadata": {},
   "source": [
    "##   <span style=\"color:blue\">Asesora Medios y Marketing digital</span>\n",
    " "
   ]
  },
  {
   "cell_type": "markdown",
   "metadata": {},
   "source": [
    "4. Maria del Pilar Montenegro, pmontenegro88@gmail.com "
   ]
  },
  {
   "cell_type": "markdown",
   "metadata": {},
   "source": [
    "## <span style=\"color:blue\">Asistentes</span>"
   ]
  },
  {
   "cell_type": "markdown",
   "metadata": {},
   "source": [
    "5. Oleg Jarma, ojarmam@unal.edu.co \n",
    "6. Laura Lizarazo, ljlizarazore@unal.edu.co "
   ]
  },
  {
   "cell_type": "markdown",
   "metadata": {},
   "source": [
    "## <span style=\"color:blue\">Contenido</span> "
   ]
  },
  {
   "cell_type": "markdown",
   "metadata": {},
   "source": [
    "* [Introducción](#Introducción)\n",
    "* [Descargando Datos de Ejemplo](#Descargando-Datos-de-Ejemplo)\n",
    "* [Leyendo Datos con Pickle](#Leyendo-Datos-con-Pickle)\n",
    "* [Visualizando los Datos](#Visualizando-los-Datos)\n",
    "* [Transformar Datos a Forma Tensorial](#Transformar-Datos-a-Forma-Tensorial)\n",
    "* [Objetivo de la Red Neuronal](#Objetivo-de-la-Red-Neuronal)\n",
    "* [Red Neuronal Artificial From Scratch!](#Red-Neuronal-Artificial-From-Scratch!)\n",
    "    * [Racional](#Racional)\n",
    "    * [Diferenciación Automática](#Diferenciación-Automática)\n",
    "* [Enfoque Matemático de una RNP](#Enfoque-Matemático-de-una-RNP)\n",
    "    * [Modelamiento matemático de una RNP con una capa oculta](#Modelamiento-matemático-de-una-RNP-con-una-capa-oculta)\n",
    "\n"
   ]
  },
  {
   "cell_type": "markdown",
   "metadata": {},
   "source": [
    "## <span style=\"color:blue\">Introducción</span>"
   ]
  },
  {
   "cell_type": "markdown",
   "metadata": {},
   "source": [
    "Para esta lección y en el resto del diplomado se requiere tenr instalado Tensorflow. Por favor crre una nuevo ambiente en con Conda es instale una versión fresca de Tensorflow.\n",
    "\n",
    "Desde la versión 2.0 Tensorflow incluye por defecto la API Keras para crear las redes neuronales de manera bastante simple y natural.\n",
    "\n",
    " \n",
    "Siga las siguientes instrucciones en la terminal o haga las instalación desde la interface gráfica de Anaconda. En el ejemplo llamaremos tf al  nuevo ambiente. Conda le instala lo necesario, incluido la versión de Python mas reciente que maneja Tensorflow. "
   ]
  },
  {
   "cell_type": "raw",
   "metadata": {},
   "source": [
    "shell> conda create -n tf tensorflow\n",
    "shell> conda activate tf"
   ]
  },
  {
   "cell_type": "markdown",
   "metadata": {},
   "source": [
    "Si bien la API de tensorflow Keras es bastante útil para resumir una cantidad considerable de líneas de código cuando se construye una red neuronal y se logra flexibilidad en la forma de diseño de la red, es muy importante primero entender cómo construir una red desde cero, en caso que sea necesario volver a cambiar detalles que no son claros o modificables desde la API.\n",
    "\n",
    "Además de esto, ganamos entendimiento profundo sobre cómo es que realmente funciona una red por dentro.\n",
    "\n",
    "Ese es el propósito de éste cuaderno.\n",
    "\n",
    "Construiremos una red neuronal desde cero usando nada más que tensorflow, para luego refactorizar el código hasta llegar a la abstracción visible cuando usamos Keras en una próxima lección."
   ]
  },
  {
   "cell_type": "markdown",
   "metadata": {},
   "source": [
    "[[Volver al Inicio]](#Contenido)"
   ]
  },
  {
   "cell_type": "markdown",
   "metadata": {},
   "source": [
    "## <span style=\"color:blue\">Descargando datos de ejemplo </span> "
   ]
  },
  {
   "cell_type": "markdown",
   "metadata": {},
   "source": [
    "En ésta ocasión haremos un ejercicio de clasificación.\n",
    "\n",
    "Para este fin, usaremos el conjunto de datos de juguete más utilizado para probar modelos de redes neuronales, llamado **MNIST**.\n",
    "\n",
    "**MNIST = Modified National Institute of Standards and Technology database**\n",
    "\n",
    "Esta es una base de datos de dígitos entre cero y nueve digitalizados en escala de grises. \n",
    "\n",
    "Esto siginifica que cada punto de la imagen digitalizada es representada  mediante un byte. Es decir, es posible representar 256 tonos de grises, con valores enteros entre 0 (negro) hasta 255 (blanco). \n",
    "\n",
    "Además, la base de datos contiene una etiqueta (label) para cada  imagen."
   ]
  },
  {
   "cell_type": "markdown",
   "metadata": {},
   "source": [
    "### Opcional request"
   ]
  },
  {
   "cell_type": "markdown",
   "metadata": {},
   "source": [
    "Usar request para bajar los datos desde la fuente.\n",
    "\n",
    "Use el siguiente código si desea familiarizarse con request."
   ]
  },
  {
   "cell_type": "code",
   "execution_count": null,
   "metadata": {
    "jupyter": {
     "source_hidden": true
    },
    "tags": []
   },
   "outputs": [],
   "source": [
    "\n",
    "# Importar librería necesaria para crear archivos localmente\n",
    "from pathlib import Path\n",
    "# Importar libreria necesaria para descargar archivos de la web\n",
    "import requests\n",
    "\n",
    "# Generar Camino Para archivo\n",
    "carpeta_datos= Path(\"../Datos\")\n",
    "\n",
    "# Especificar el nombre del dataset\n",
    "camino = carpeta_datos / \"MNIST\"\n",
    "\n",
    "# Crear directorio en el lugar indicado\n",
    "camino.mkdir(parents=True, exist_ok=True)\n",
    "\n",
    "# Posición actual en el equipo\n",
    "donde_estoy=!pwd\n",
    "#Note que la variable se guarda como una lista, no como un string\n",
    "print(\"\\nActualmente estoy en:\\n\\n\",donde_estoy[0],\"\\n\")\n",
    "\n",
    "# Colocar la URL donde se encuentran los datos\n",
    "url = \"http://deeplearning.net/data/mnist/\"\n",
    "# Separar el nombre del archivo (Note que ha sido comprimido)\n",
    "nombre_archivo = \"mnist.pkl.gz\"\n",
    "\n",
    "# Comprobar si existe el archivo a descargar\n",
    "if not (camino / nombre_archivo).exists():\n",
    "    \n",
    "        #Mensaje para el usuario\n",
    "        print(\"\\nBajando Archivo Desde la URL \"+url+nombre_archivo+\"\\n\")\n",
    "        \n",
    "        # Haciendo un request a la url correspondiente y obtener contenido\n",
    "        contenido = requests.get(url + nombre_archivo).content\n",
    "        \n",
    "        # Escribir el contenido binario del request\n",
    "        (camino / nombre_archivo).open(\"wb\").write(contenido)\n",
    "\n",
    "        # Exito, mostrar camino donde se encuentra el archivo descargado\n",
    "print(\"Bajado con éxito en:\\n\\n\"+donde_estoy[0]+\"/\"+camino.as_posix())"
   ]
  },
  {
   "cell_type": "markdown",
   "metadata": {
    "tags": []
   },
   "source": [
    "**¿Confundido?**, ¡chequea un [Quickstart](https://es.python-requests.org/es/latest/user/quickstart.html) en la libreria request para comenzar!"
   ]
  },
  {
   "cell_type": "markdown",
   "metadata": {},
   "source": [
    "[[Volver al Inicio]](#Contenido)"
   ]
  },
  {
   "cell_type": "markdown",
   "metadata": {},
   "source": [
    "### Opcional  Leyendo Datos con Pickle"
   ]
  },
  {
   "cell_type": "markdown",
   "metadata": {},
   "source": [
    "El archivo descargado se encuentra en contenido binario.\n",
    "\n",
    "Una librería eficiente para leer archivos binarios, se llama **pickle**.\n",
    "\n",
    "Además, como el archivo esta comprimido (extensión .gzip) necesitaremos la librería **gzip**."
   ]
  },
  {
   "cell_type": "code",
   "execution_count": 2,
   "metadata": {
    "jupyter": {
     "source_hidden": true
    },
    "tags": []
   },
   "outputs": [],
   "source": [
    "import pickle\n",
    "import gzip\n",
    "\n",
    "# Operador lógico with para abrir el archivo descargado y leer bytes (readbytes)\n",
    "with gzip.open((camino / nombre_archivo).as_posix(), \"rb\") as f:\n",
    "        \n",
    "        # desempaqueta la información en diferentes variables (entrenamiento+validación)\n",
    "        ((x_train, y_train), (x_valid, y_valid), _) = pickle.load(f, encoding=\"latin-1\")"
   ]
  },
  {
   "cell_type": "markdown",
   "metadata": {},
   "source": [
    "Quizá, en este punto, sea buena idea leer aquí: [What do the gzip.open() modes mean?](https://www.reddit.com/r/learnpython/comments/88h4yz/what_do_the_gzipopen_modes_mean/)"
   ]
  },
  {
   "cell_type": "markdown",
   "metadata": {},
   "source": [
    "[[Volver al Inicio]](#Contenido)"
   ]
  },
  {
   "cell_type": "markdown",
   "metadata": {},
   "source": [
    "### Lectura de datos desde Keras"
   ]
  },
  {
   "cell_type": "markdown",
   "metadata": {},
   "source": [
    "Para empezar rápidamente recomendamos bajr los datos desde la API Keras, ya instalada con Tensorflow."
   ]
  },
  {
   "cell_type": "markdown",
   "metadata": {},
   "source": [
    "### Librerías requeridas"
   ]
  },
  {
   "cell_type": "code",
   "execution_count": 1,
   "metadata": {},
   "outputs": [
    {
     "name": "stdout",
     "output_type": "stream",
     "text": [
      "Versión de Tensorflow:  2.4.1 \n",
      "\n"
     ]
    }
   ],
   "source": [
    "import tensorflow as tf\n",
    "print(\"Versión de Tensorflow: \",tf.__version__,\"\\n\")\n",
    "\n",
    "import matplotlib.pyplot as plt"
   ]
  },
  {
   "cell_type": "code",
   "execution_count": 100,
   "metadata": {},
   "outputs": [],
   "source": [
    " ((x_train, y_train), (x_valid, y_valid)) = tf.keras.datasets.mnist.load_data(path=\"mnist.npz\")"
   ]
  },
  {
   "cell_type": "code",
   "execution_count": 101,
   "metadata": {},
   "outputs": [
    {
     "data": {
      "text/plain": [
       "(60000,)"
      ]
     },
     "execution_count": 101,
     "metadata": {},
     "output_type": "execute_result"
    }
   ],
   "source": [
    "y_train.shape"
   ]
  },
  {
   "cell_type": "markdown",
   "metadata": {},
   "source": [
    "### Aplana los datos"
   ]
  },
  {
   "cell_type": "markdown",
   "metadata": {},
   "source": [
    "Si lee los datoa directamente desde la URL, probablemente ya están aplanados"
   ]
  },
  {
   "cell_type": "code",
   "execution_count": 103,
   "metadata": {},
   "outputs": [
    {
     "name": "stdout",
     "output_type": "stream",
     "text": [
      "x_train.shape= (60000, 784)\n",
      "x_valid.shape= (10000, 784)\n"
     ]
    }
   ],
   "source": [
    "x_train = x_train.reshape((-1,784))\n",
    "x_valid = x_valid.reshape((-1,784))\n",
    "print('x_train.shape=',x_train.shape)\n",
    "print('x_valid.shape=',x_valid.shape)"
   ]
  },
  {
   "cell_type": "markdown",
   "metadata": {},
   "source": [
    "## Visualizando los Datos"
   ]
  },
  {
   "cell_type": "markdown",
   "metadata": {},
   "source": [
    "**Una vez leídos los datos**, podemos por ejemplo, mirar qué forma tienen los datos:"
   ]
  },
  {
   "cell_type": "code",
   "execution_count": 104,
   "metadata": {},
   "outputs": [
    {
     "name": "stdout",
     "output_type": "stream",
     "text": [
      "Forma de los Datos de entrenamiento: (60000, 784)\n",
      "Forma de los Datos de validación   : (10000, 784)\n"
     ]
    }
   ],
   "source": [
    "print(\"Forma de los Datos de entrenamiento:\",x_train.shape)\n",
    "print(\"Forma de los Datos de validación   :\",x_valid.shape)"
   ]
  },
  {
   "cell_type": "markdown",
   "metadata": {},
   "source": [
    "Cada imagen del dataset clásico tiene un tamaño de 28 x 28 pixeles, con lo cual cada una es representada por 784 números entre cero y 255. \n",
    "\n",
    "Vamos a **visualizar** los datos con **matplotlib**, "
   ]
  },
  {
   "cell_type": "code",
   "execution_count": 81,
   "metadata": {},
   "outputs": [
    {
     "name": "stdout",
     "output_type": "stream",
     "text": [
      "\n",
      "Imagen de ejemplo:\n",
      "\n"
     ]
    },
    {
     "data": {
      "image/png": "[encoded data removed]",
      "text/plain": [
       "<Figure size 432x288 with 1 Axes>"
      ]
     },
     "metadata": {
      "needs_background": "light"
     },
     "output_type": "display_data"
    },
    {
     "name": "stdout",
     "output_type": "stream",
     "text": [
      "Etiqueta (label) Asignada por Humano: 9\n"
     ]
    }
   ],
   "source": [
    "import matplotlib.pyplot as plt\n",
    "import numpy as np\n",
    "\n",
    "print(\"\\nImagen de ejemplo:\\n\")\n",
    "\n",
    "# Elegir una observación al azar usando randint\n",
    "azar=np.random.randint(x_train.shape[0])\n",
    "\n",
    "#Visualizar la imagen usando imshow en escala de grises\n",
    "plt.imshow(x_train[azar].reshape((28,28)), cmap=\"binary\")\n",
    "#plt.axis(\"off\")\n",
    "plt.show()\n",
    "print(\"Etiqueta (label) Asignada por Humano:\",y_train[azar])"
   ]
  },
  {
   "cell_type": "markdown",
   "metadata": {},
   "source": [
    "**Ahora, un regalito útil para el futuro (para ver varios ejemplos al mismo tiempo)**"
   ]
  },
  {
   "cell_type": "code",
   "execution_count": 18,
   "metadata": {},
   "outputs": [
    {
     "data": {
      "image/png": "[encoded data removed]",
      "text/plain": [
       "<Figure size 1080x720 with 12 Axes>"
      ]
     },
     "metadata": {
      "needs_background": "light"
     },
     "output_type": "display_data"
    },
    {
     "name": "stdout",
     "output_type": "stream",
     "text": [
      "\n",
      "Indices Elegidos:  [18130 53097 23195 48655 40085  4958 25519 40485 22172 56032 52463 44372] \n",
      "\n",
      "\n",
      "Elementos Elegidos:  [8 7 6 8 6 1 2 9 3 5 7 0] \n",
      "\n"
     ]
    }
   ],
   "source": [
    "#Cuántas filas\n",
    "filas=3\n",
    "#Cuantas columnas\n",
    "colus=4\n",
    "#Elementos totales\n",
    "n=filas*colus\n",
    "#Elegir una muestra del dataset via índices\n",
    "vector_azar=np.random.randint(x_train.shape[0],size=(n,))\n",
    "# contador para dibujar en la grilla\n",
    "w=1\n",
    "#iniciar espacio de dibujo\n",
    "plt.figure(figsize=(15,10))\n",
    "#titulo\n",
    "plt.suptitle(\"Ejemplos del dataset MNIST\",fontsize=18)\n",
    "\n",
    "# Loop anidado para recorrer la matriz completa\n",
    "for i in range(filas):\n",
    "    for j in range(colus):\n",
    "        \n",
    "        # subplots se peden contar incrementalmente\n",
    "        plt.subplot(filas,colus,w)\n",
    "        # dibujar el ejemplo de la muestra convertida a una matrix 28X28\n",
    "        plt.imshow(x_train[vector_azar[i+j]].reshape((28, 28)), cmap=\"binary\")\n",
    "        #mostrar la etiqueta dada por el humano a dicho ejemplo (Aprendizaje supervisado)\n",
    "        plt.title(\"label: \"+str(y_train[vector_azar[i+j]]))\n",
    "        #No mostrar ejes corrdenados\n",
    "        plt.axis(\"off\")\n",
    "        # Incrementar contador\n",
    "        w+=1\n",
    "\n",
    "plt.show()\n",
    "#mostrar índices de los ejemplos elegidos\n",
    "print(\"\\nIndices Elegidos: \",vector_azar,\"\\n\")\n",
    "# mostrar etiquetas correspondientes\n",
    "print(\"\\nElementos Elegidos: \",y_train[vector_azar],\"\\n\")"
   ]
  },
  {
   "cell_type": "markdown",
   "metadata": {},
   "source": [
    "Observemos algunos datos en bruto:"
   ]
  },
  {
   "cell_type": "code",
   "execution_count": 82,
   "metadata": {},
   "outputs": [
    {
     "data": {
      "text/plain": [
       "array([[226,  80,   8,   8, 247],\n",
       "       [ 42,   0,   0,  84, 253],\n",
       "       [  0,   0,  55, 240, 244],\n",
       "       [ 27, 124, 238, 255, 135],\n",
       "       [254, 254, 241, 122,   2]], dtype=uint8)"
      ]
     },
     "execution_count": 82,
     "metadata": {},
     "output_type": "execute_result"
    }
   ],
   "source": [
    "#Extraer pixeles 10->15 en x y 10->15 en y\n",
    "x_train[azar].reshape((28,28))[10:15,10:15]"
   ]
  },
  {
   "cell_type": "markdown",
   "metadata": {},
   "source": [
    "Como podemos observar, estos ejemplo ya han sido tratados, pues se muestran número entre cero y uno.\n",
    "\n",
    "Usamos la forma alternativa de subir los datos, haciendo uso de los **datasets** internos que vienen por defecto en la instalación de **tensorflow.keras**:\n",
    "\n",
    "```(x_train, y_train), (x_valid, y_valid) = tf.keras.datasets.mnist.load_data()```\n"
   ]
  },
  {
   "cell_type": "markdown",
   "metadata": {},
   "source": [
    "[[Volver al Inicio]](#Contenido)"
   ]
  },
  {
   "cell_type": "markdown",
   "metadata": {},
   "source": [
    "## Transformar Datos a Forma Tensorial"
   ]
  },
  {
   "cell_type": "markdown",
   "metadata": {},
   "source": [
    "En Tensorflow puro se trabaja con tensores mas que con arreglos de numpy, así que deberemos transformar nuestros datos.\n",
    "\n",
    "Para este fin, usaremos la función ```tf.constant```"
   ]
  },
  {
   "cell_type": "code",
   "execution_count": 105,
   "metadata": {},
   "outputs": [
    {
     "name": "stdout",
     "output_type": "stream",
     "text": [
      "Versión de Tensorflow:  2.4.1 \n",
      "\n"
     ]
    }
   ],
   "source": [
    "# Chequear la versión de tensorflow disponible\n",
    "print(\"Versión de Tensorflow: \",tf.__version__,\"\\n\")\n",
    "\n",
    "\n",
    "# transforma los features a la escala [0,1]\n",
    "x_train, x_valid = np.array(x_train/255.0,dtype=np.float32), np.array(x_valid/255.0,dtype=np.float32)\n",
    "y_train, y_valid = np.array(y_train,dtype=np.int32), np.array(y_valid,dtype=np.int32)"
   ]
  },
  {
   "cell_type": "code",
   "execution_count": 106,
   "metadata": {},
   "outputs": [
    {
     "data": {
      "text/plain": [
       "array([5, 0, 4, ..., 5, 6, 8], dtype=int32)"
      ]
     },
     "execution_count": 106,
     "metadata": {},
     "output_type": "execute_result"
    }
   ],
   "source": [
    "y_train"
   ]
  },
  {
   "cell_type": "code",
   "execution_count": 107,
   "metadata": {},
   "outputs": [
    {
     "name": "stdout",
     "output_type": "stream",
     "text": [
      "Datos de Entrenamiento:\n",
      "\n",
      "tf.Tensor(\n",
      "[[0. 0. 0. ... 0. 0. 0.]\n",
      " [0. 0. 0. ... 0. 0. 0.]\n",
      " [0. 0. 0. ... 0. 0. 0.]\n",
      " ...\n",
      " [0. 0. 0. ... 0. 0. 0.]\n",
      " [0. 0. 0. ... 0. 0. 0.]\n",
      " [0. 0. 0. ... 0. 0. 0.]], shape=(60000, 784), dtype=float32) \n",
      "\n",
      "Etiquetas de Entrenamiento:\n",
      "\n",
      "[5 0 4 ... 5 6 8] \n",
      "\n",
      "Label mínimo: 0\n",
      "Label máximo: 9\n",
      "Label únicos: [0 1 2 3 4 5 6 7 8 9]\n"
     ]
    }
   ],
   "source": [
    "# Usando función map para convertir TODOS los datos a tensor\n",
    "x_train, y_train, x_valid, y_valid = map(tf.constant, \n",
    "                                    (x_train, y_train, x_valid, y_valid))\n",
    "#Mostrar datos\n",
    "print(\"Datos de Entrenamiento:\\n\")\n",
    "print(x_train,\"\\n\")\n",
    "print(\"Etiquetas de Entrenamiento:\\n\")\n",
    "print(y_train.numpy(),\"\\n\")\n",
    "\n",
    "#Chequear límites de las etiquetas\n",
    "print(f'Label mínimo: {tf.reduce_min(y_train).numpy()}')\n",
    "print(f'Label máximo: {tf.reduce_max(y_train).numpy()}')\n",
    "print(\"Label únicos:\",np.sort(tf.unique(y_train)[0].numpy()))"
   ]
  },
  {
   "cell_type": "code",
   "execution_count": 108,
   "metadata": {},
   "outputs": [
    {
     "data": {
      "text/plain": [
       "<tf.Tensor: shape=(60000, 784), dtype=float32, numpy=\n",
       "array([[0., 0., 0., ..., 0., 0., 0.],\n",
       "       [0., 0., 0., ..., 0., 0., 0.],\n",
       "       [0., 0., 0., ..., 0., 0., 0.],\n",
       "       ...,\n",
       "       [0., 0., 0., ..., 0., 0., 0.],\n",
       "       [0., 0., 0., ..., 0., 0., 0.],\n",
       "       [0., 0., 0., ..., 0., 0., 0.]], dtype=float32)>"
      ]
     },
     "execution_count": 108,
     "metadata": {},
     "output_type": "execute_result"
    }
   ],
   "source": [
    "x_train"
   ]
  },
  {
   "cell_type": "markdown",
   "metadata": {},
   "source": [
    "[[Volver al Inicio]](#Contenido)"
   ]
  },
  {
   "cell_type": "markdown",
   "metadata": {},
   "source": [
    "## <span style=\"color:blue\">Objetivo de la Red Neuronal</span> "
   ]
  },
  {
   "cell_type": "markdown",
   "metadata": {},
   "source": [
    "###  Modelo Logístico Multinomial"
   ]
  },
  {
   "cell_type": "markdown",
   "metadata": {},
   "source": [
    "El propósito de la red es clasificar cada una de las imágenes en una de 10 clases. Cada clase representa a un dígito entre 0 y 9.\n",
    "\n",
    "En este experimento cada imagen será presentada a la entrada de la red como una tensor de una dimensión (1D) y de tamaño (shape) $28\\times 28 = 784$. Por lo tanto, la capa entrada se tendran 784 neuronas. La red no tendrá capas ocultas. La capa de salida tendrá 10 neuronas, debido a que hay 10 clases.\n",
    "\n",
    "El tipo de red será densa o completamente conectada, es  decir cada neurona de entrada está conectada con cada neurona de salida. \n",
    "\n",
    "Así, la matriz de pesos $\\mathbf{W}$ tendrá tamaño $784 \\times 10$ y el vector $\\mathbf{b}$ de interceptos (bias) será de un vector tamaño 10.\n",
    "\n",
    "\n",
    "En nuestro primer modelo, la función de activación de la capa de entrada será la identidad y en la capa de salida la función de activación será la función *softmax* que definimos abajo.\n",
    "\n",
    "La siguiente imagen ilustra el diseño (topología) de la primera red que constriomos desde cero. Esta red, es realmente un modelo logístico multinomial clásico."
   ]
  },
  {
   "cell_type": "markdown",
   "metadata": {},
   "source": [
    "![Multinomial](../Imagenes/am_ANN_mnist_748_10.jpg)"
   ]
  },
  {
   "cell_type": "markdown",
   "metadata": {},
   "source": [
    "[[Volver al Inicio]](#Contenido)"
   ]
  },
  {
   "cell_type": "markdown",
   "metadata": {},
   "source": [
    "## <span style=\"color:blue\">Red Neuronal Artificial desde cero!</span> "
   ]
  },
  {
   "cell_type": "markdown",
   "metadata": {},
   "source": [
    "Vamos a crear un modelo simple, para lo cual solamente usaremos las operaciones de Tensorflow.\n",
    "\n",
    "Los pesos son inicializados siguiendo la propuesta de <a href='http://proceedings.mlr.press/v9/glorot10a/glorot10a.pdf'>Glorot_Bengio </a>. Se generaran números aleatorios uniformemente distribuidos entre -1 y 1 divididos por $\\sqrt{n}$. "
   ]
  },
  {
   "cell_type": "code",
   "execution_count": 109,
   "metadata": {},
   "outputs": [],
   "source": [
    "import math\n",
    "\n",
    "\n",
    "n=x_train.shape[1]\n",
    "output=10\n",
    "\n",
    "weights = tf.Variable(tf.random.uniform((n,output))/math.sqrt(n), dtype= tf.float32)\n",
    "bias = tf.Variable(tf.zeros(output),tf.float32)"
   ]
  },
  {
   "cell_type": "code",
   "execution_count": 110,
   "metadata": {},
   "outputs": [
    {
     "name": "stdout",
     "output_type": "stream",
     "text": [
      "(784, 10)\n",
      "(10,)\n"
     ]
    }
   ],
   "source": [
    "print(weights.numpy().shape)\n",
    "print(bias.numpy().shape)"
   ]
  },
  {
   "cell_type": "markdown",
   "metadata": {},
   "source": [
    "Usamos  *tf.Variable* para declarar tensores de tipo variable, es decir, cuyo contenido cambia a los largo de nuestro algortimo."
   ]
  },
  {
   "cell_type": "markdown",
   "metadata": {},
   "source": [
    "### Racional\n",
    "\n",
    "Por  otro lado, observe que *weights* es una matriz de tamaño $784 \\times 10$ y *bias* es un vector de tamaño 10. Vamos a construir una red neuronal que tiene solamente dos capas: entrada con 784 neuronas y salida con 10 neuronas. Note que nuestros patrones de entrada son vectores de tamaño 784.\n",
    "\n",
    "La razón de tener 10 neuronas de salida es porque tenemos un problema de clasificación en 10 clases. Podemos imaginar intuitivamente que construimos un modelo de regresión logística para cada una de las clases. \n",
    "\n",
    "Entonces a la salida esperamos tener es la probabilidad de que el patron de entrada pertenezca a esa clase."
   ]
  },
  {
   "cell_type": "markdown",
   "metadata": {},
   "source": [
    "### Diferenciación Automática"
   ]
  },
  {
   "cell_type": "markdown",
   "metadata": {},
   "source": [
    "Desde Tensorflow 2.X se incluye **diferenciación automática** para calcular gradientes automáticamente. Esto permite usar funciones estándar de Python como modelos para la redes. "
   ]
  },
  {
   "cell_type": "markdown",
   "metadata": {},
   "source": [
    "### Función de Activación softmax"
   ]
  },
  {
   "cell_type": "markdown",
   "metadata": {},
   "source": [
    "Vamos a crear un modelo lineal simple. Necesitaremos una función de activación, por lo que vamos a escribir la función *log_softmax*. La variable $\\eta$ en la función, que corresponde al máximo de los valores, se introduce para tener una función muy robusta, desde el punto de vista computacional.\n",
    "\n",
    "Para un conjunto de valores $x_1,\\ldots,x_n$, la función softwax transforma estos valores en la escala (0,1), que pueden interpretarse como probabilidades. Cada componente de softmax es interpretada como la probabilidad que la imagen pertenezca a la clase representada por dicha componente.\n",
    "\n",
    "Matemáticamente se escribe\n",
    "\n",
    "$$\n",
    "\\begin{equation}\n",
    "Prob[y=j|x] = \\frac{\\exp(x_j)}{\\sum_{k=1}^{n}\\exp(x_j)}\n",
    "\\end{equation}\n",
    "$$\n",
    "\n",
    "Un cálculo muy estable computacionalmente de estos valores se obtiene de la siguente manera. Sea $\\eta = \\underset{i}{\\text{max}} \\hspace{2mm} \\{x_i\\}$. Es fácil verificar que\n",
    "\n",
    "$$\n",
    "\\begin{equation}\n",
    "Prob[y=j|x] = \\frac{\\exp(x_j-\\eta)}{\\sum_{k=1}^{n}\\exp(x_k-\\eta)} = \\text{softmax}_j(x)\n",
    "\\end{equation}\n",
    "$$\n",
    "\n",
    "Observe que $\\log \\text{softmax}_j(x)  = x_j - \\eta - \\log(\\sum_{k=1}^n \\exp(x_k-\\eta))$."
   ]
  },
  {
   "cell_type": "code",
   "execution_count": 111,
   "metadata": {},
   "outputs": [],
   "source": [
    "import numpy as np\n",
    "def log_softmax(x):\n",
    "    η = tf.math.reduce_max(x)\n",
    "    return x - η - tf.math.log(tf.math.reduce_sum(tf.math.exp(x-η), -1, keepdims=True))\n",
    "\n",
    "def model(xb):\n",
    "    return log_softmax(xb@weights + bias) # z = x'W +b\n",
    "    #return log_softmax(tf.linalg.matmul(xb,weights) + bias)"
   ]
  },
  {
   "cell_type": "code",
   "execution_count": null,
   "metadata": {},
   "outputs": [],
   "source": []
  },
  {
   "cell_type": "markdown",
   "metadata": {},
   "source": [
    "En la celda anterior, el símbolo @ representa la operación del producto punto (en este caso corresponde a el producto de un vector con una matriz).\n",
    "\n",
    "Llamaremos a nuestra función con un lote de datos (en este caso, 64 imágenes). Este es un paso hacia adelante (forward pass). Tenga en cuenta que nuestras predicciones no serán mejores que aleatorias en esta etapa, ya que comenzamos con pesos aleatorios."
   ]
  },
  {
   "cell_type": "markdown",
   "metadata": {},
   "source": [
    "## Paso Hacia Adelante (Forward Pass) "
   ]
  },
  {
   "cell_type": "code",
   "execution_count": 112,
   "metadata": {},
   "outputs": [
    {
     "name": "stdout",
     "output_type": "stream",
     "text": [
      "Predicciones para la primera imagen:\n",
      "\n",
      " tf.Tensor(\n",
      "[-2.3090463 -2.2887955 -2.2076452 -2.2677054 -2.3034987 -2.2903447\n",
      " -2.3672752 -2.3688927 -2.2506318 -2.386469 ], shape=(10,), dtype=float32) \n",
      "\n",
      "Tamaño de la matriz de predicciones de este lote:  (64, 10)\n"
     ]
    }
   ],
   "source": [
    "bs = 64# batch size\n",
    "\n",
    "xb = x_train[0:bs]\n",
    "preds = model(xb) # predictions\n",
    "print('Predicciones para la primera imagen:\\n\\n',preds[0],\"\\n\")\n",
    "print('Tamaño de la matriz de predicciones de este lote: ', preds.shape)"
   ]
  },
  {
   "cell_type": "markdown",
   "metadata": {},
   "source": [
    "### Función de pérdida\n",
    "\n",
    "Vamos a implementar la función menos log-verosimilitud, la cual usaremos como **función de pérdida** (loss function). Esta es la misma **entropía cruzada**(cross entropy, usando la codificación One-hot).\n",
    "\n",
    "\n",
    "Matemáticamente, la función de pérdida en esta caso es definida como sigue:\n",
    "\n"
   ]
  },
  {
   "cell_type": "markdown",
   "metadata": {},
   "source": [
    "###  El Modelo\n",
    "\n",
    "Aqui $\\mathbf{x}_i$ denota la observación $i$. \n",
    "\n",
    "$$\n",
    "\\pi_{ik} = Prob[\\mathbf{x} \\in \\mathcal{C}_k] = sofmax_k(\\mathbf{x}_i) = \\frac{\\exp(\\mathbf{x}_i'\\mathbf{w}_k + \\mathbf{b}_k)}{\\sum_{s=1}^K  \\exp (\\mathbf{x}_i'\\mathbf{w}_s+  \\mathbf{b}_s)} \n",
    "$$\n"
   ]
  },
  {
   "cell_type": "markdown",
   "metadata": {},
   "source": [
    "###  Función de pérdida \n",
    "\n",
    "En esta sección $\\mathbf{W}$ es la martriz completa de pesos. Cada fila $\\mathbf{w}_k$ está asociada a la respectiva categoría $\\mathcal{C}_k$.\n",
    "\n",
    "Entropía cruzada: **-log verosimilitud** .  Aqui $\\mathbf{x}_i$ denota la observación $i$ y $y_i$ la respectiva etiqueta. Sea $\\chi_{ik}$ definda por\n",
    "\n",
    "$$\n",
    "\\chi_{ik} = \\begin{cases} 1, & \\text{ si } y_i = k\\\\\n",
    "0, & \\text{ en otro caso. }\\end{cases}\n",
    "$$\n",
    "\n",
    "\n",
    "$$\n",
    "loss(\\mathbf{W},\\mathbf{b}) = -\\frac{1}{N}  \\sum_i \\sum_k \\chi_{ik} \\log \\pi_{ik}\n",
    "$$"
   ]
  },
  {
   "cell_type": "markdown",
   "metadata": {},
   "source": [
    "### Predicción\n",
    "\n",
    "$$\n",
    "\\tilde{y} = \\text{índice}(\\max_{k}{\\pi_k(x)})\n",
    "$$"
   ]
  },
  {
   "cell_type": "markdown",
   "metadata": {},
   "source": [
    "###  Precisión\n",
    "\n",
    "$$\n",
    "\\begin{equation*}\n",
    "\\text{accuracy} = \\frac{1}{N} \\sum_{i=1}^{N} 1_{y_i =\\tilde{y}_i}\n",
    "\\end{equation*}\n",
    "$$"
   ]
  },
  {
   "cell_type": "code",
   "execution_count": 113,
   "metadata": {},
   "outputs": [],
   "source": [
    "def nll(input, target):\n",
    "    indices = tf.stack([tf.range(input.shape[0]),target], axis=1)\n",
    "    return tf.math.reduce_mean(-tf.gather_nd(input, indices))\n",
    "\n",
    "loss_func = nll"
   ]
  },
  {
   "cell_type": "markdown",
   "metadata": {},
   "source": [
    "Sobre el código anterior. \n",
    "1. *tf.range(input.shape[0])*  genera un tensor con números en el rango entre 0 y 63, porque la forma (shape) es 64, el tamaño del batch.\n",
    "2. *tf.stack([tf.range(input.shape[0], dtype=tf.int32),target], axis=1)* crea un tensor bidimensional, en donde cada fila corresponde al índice del elemento que debe tomarse de cada fila de input para calcular la funcion de pérdida. Por ejemplo, si la fila 3 de índice es [3,4], significará que y_train[3] es 4, y ṕor tanto se requiere tomar el contenido de la cuarta posición de la entrada 3.\n",
    "3. tf.gather_nd(input, indices). Para cada fila de input toma el valor de input en la posición indicada en el índice, como se explica en el numeral 2.\n",
    "4. tf.math.reduce_mean(-tf.gather_nd(input, indices)), calcula el resumen. La media, que corresponde exáctamete a - log likelihood\n",
    "\n",
    "Veámos una ilustración de índices. "
   ]
  },
  {
   "cell_type": "code",
   "execution_count": 93,
   "metadata": {},
   "outputs": [
    {
     "data": {
      "text/html": [
       "<div>\n",
       "<style scoped>\n",
       "    .dataframe tbody tr th:only-of-type {\n",
       "        vertical-align: middle;\n",
       "    }\n",
       "\n",
       "    .dataframe tbody tr th {\n",
       "        vertical-align: top;\n",
       "    }\n",
       "\n",
       "    .dataframe thead th {\n",
       "        text-align: right;\n",
       "    }\n",
       "</style>\n",
       "<table border=\"1\" class=\"dataframe\">\n",
       "  <thead>\n",
       "    <tr style=\"text-align: right;\">\n",
       "      <th></th>\n",
       "      <th>pattern</th>\n",
       "      <th>target</th>\n",
       "    </tr>\n",
       "  </thead>\n",
       "  <tbody>\n",
       "    <tr>\n",
       "      <th>0</th>\n",
       "      <td>0</td>\n",
       "      <td>3</td>\n",
       "    </tr>\n",
       "    <tr>\n",
       "      <th>1</th>\n",
       "      <td>1</td>\n",
       "      <td>0</td>\n",
       "    </tr>\n",
       "    <tr>\n",
       "      <th>2</th>\n",
       "      <td>2</td>\n",
       "      <td>5</td>\n",
       "    </tr>\n",
       "    <tr>\n",
       "      <th>3</th>\n",
       "      <td>3</td>\n",
       "      <td>7</td>\n",
       "    </tr>\n",
       "    <tr>\n",
       "      <th>4</th>\n",
       "      <td>4</td>\n",
       "      <td>1</td>\n",
       "    </tr>\n",
       "  </tbody>\n",
       "</table>\n",
       "</div>"
      ],
      "text/plain": [
       "   pattern  target\n",
       "0        0       3\n",
       "1        1       0\n",
       "2        2       5\n",
       "3        3       7\n",
       "4        4       1"
      ]
     },
     "execution_count": 93,
     "metadata": {},
     "output_type": "execute_result"
    }
   ],
   "source": [
    "# ejemplo del tensor indices\n",
    "import pandas as pd\n",
    "pattern = {'0': 0, '1': 1, '2':2, '3':3, '4':4}\n",
    "target = {'0': 3, '1': 0, '2':5, '3':7, '4':1}\n",
    "indices = pd.DataFrame({'pattern': pattern, 'target':target})\n",
    "indices"
   ]
  },
  {
   "cell_type": "markdown",
   "metadata": {},
   "source": [
    "la columna pattern en esta ilustración contiene el índice del respectivo patrón de entrada. La columna target es el target asociado al respectivo patrón de entrada. Indices es esta matriz con las dos columnas.\n",
    "\n",
    "La última línea del código calcula la función de pérdida definida arriba."
   ]
  },
  {
   "cell_type": "markdown",
   "metadata": {},
   "source": [
    "Revisamos ahora la **función de pérdida** para el modelo con datos aleatorios. Esto permitirá comparar las mejoras después del paso de propagacion hacia atrás  (backpropagation)"
   ]
  },
  {
   "cell_type": "code",
   "execution_count": 114,
   "metadata": {},
   "outputs": [
    {
     "name": "stdout",
     "output_type": "stream",
     "text": [
      "tf.Tensor(2.2912655, shape=(), dtype=float32)\n"
     ]
    }
   ],
   "source": [
    "yb = y_train[0:bs]\n",
    "print(loss_func(preds,yb))"
   ]
  },
  {
   "cell_type": "markdown",
   "metadata": {},
   "source": [
    "También implementamos la función precisión (accuracy) de nuestro modelo."
   ]
  },
  {
   "cell_type": "code",
   "execution_count": 123,
   "metadata": {},
   "outputs": [],
   "source": [
    "def accuracy(out, yb):\n",
    "    preds = tf.math.argmax(out, axis=1,output_type=tf.int32)\n",
    "    return tf.math.reduce_mean(tf.dtypes.cast(preds == yb, tf.float16))"
   ]
  },
  {
   "cell_type": "markdown",
   "metadata": {},
   "source": [
    "chequamos la precisión actual del modelo"
   ]
  },
  {
   "cell_type": "code",
   "execution_count": 124,
   "metadata": {},
   "outputs": [
    {
     "name": "stdout",
     "output_type": "stream",
     "text": [
      "tf.Tensor(0.1094, shape=(), dtype=float16)\n"
     ]
    }
   ],
   "source": [
    "print(accuracy(preds,yb))"
   ]
  },
  {
   "cell_type": "markdown",
   "metadata": {},
   "source": [
    "### Entrenamiento de la Red\n",
    " \n",
    " Estamos listos para correr el ciclo de entranamiento. Para calcular los gradientes usaremos diferenciación automática, con la clase tf.GradientTape.\n",
    " \n",
    "- Seleccionamos un mini-batch de datos de tamaño *bs*\n",
    "- Bajo un contexto tf.GradientTape \n",
    " - Usamos el modelo para hacer predicciones\n",
    " - Calculamos la pérdida\n",
    "- Calculamos el gradientes de las operaciones registradas en el contexto de esta cinta (tape).\n",
    "\n",
    "Ahora usamos estos gradientes para actualizar los pesos (weights) y los desplazamientos (bias).\n"
   ]
  },
  {
   "cell_type": "code",
   "execution_count": 125,
   "metadata": {},
   "outputs": [],
   "source": [
    "lr = 0.2 # learning rate\n",
    "epochs = 2 # how many epochs to train for\n",
    "n = x_train.shape[0]\n",
    "\n",
    "for epoch in range(epochs):\n",
    "    for i in range((n-1)//bs +1):\n",
    "        start_i = i*bs\n",
    "        end_i = start_i + bs\n",
    "        xb = x_train[start_i:end_i]\n",
    "        yb = y_train[start_i:end_i]\n",
    "        with tf.GradientTape() as t:\n",
    "            pred = model(xb)\n",
    "            loss = loss_func(pred,yb)\n",
    "        dW, dB = t.gradient(loss,[weights,bias])\n",
    "        weights.assign_sub(lr*dW)\n",
    "        bias.assign_sub(lr*dB)\n"
   ]
  },
  {
   "cell_type": "markdown",
   "metadata": {},
   "source": [
    "Hemos creado y entrenado una red neuronal minimal( en este caso una regression logística multinomial, dado que no tiene capas ocultas) totalmente desde cero (from scratch).\n",
    "\n",
    "Revisemos la pérdida y precisión del modelo."
   ]
  },
  {
   "cell_type": "code",
   "execution_count": 126,
   "metadata": {},
   "outputs": [
    {
     "name": "stdout",
     "output_type": "stream",
     "text": [
      "train loss:  tf.Tensor(0.30652905, shape=(), dtype=float32)\n",
      "train accuracy:  tf.Tensor(0.911, shape=(), dtype=float16)\n",
      "test loss:  tf.Tensor(0.30012172, shape=(), dtype=float32)\n",
      "test accuracy:  tf.Tensor(0.9136, shape=(), dtype=float16)\n"
     ]
    }
   ],
   "source": [
    "# pérdida y precisión datos de entrenamiento\n",
    "print(\"train loss: \",loss_func(model(x_train),y_train))\n",
    "print(\"train accuracy: \",accuracy(model(x_train),y_train))\n",
    "\n",
    "# pérdida y precisión datos de validación\n",
    "print(\"test loss: \",loss_func(model(x_valid),y_valid))\n",
    "print(\"test accuracy: \",accuracy(model(x_valid),y_valid))"
   ]
  },
  {
   "cell_type": "markdown",
   "metadata": {},
   "source": [
    "## Recuperando estimaciones (Weights & Bias) "
   ]
  },
  {
   "cell_type": "code",
   "execution_count": 127,
   "metadata": {},
   "outputs": [
    {
     "data": {
      "text/plain": [
       "<tf.Variable 'Variable:0' shape=(784, 10) dtype=float32, numpy=\n",
       "array([[0.01936717, 0.01670487, 0.01259941, ..., 0.0354806 , 0.02773505,\n",
       "        0.024815  ],\n",
       "       [0.01509231, 0.0284929 , 0.00563908, ..., 0.01314457, 0.02220905,\n",
       "        0.00493607],\n",
       "       [0.0047584 , 0.02688436, 0.03469312, ..., 0.03535743, 0.02096629,\n",
       "        0.0103931 ],\n",
       "       ...,\n",
       "       [0.00444492, 0.03566462, 0.02684227, ..., 0.03182695, 0.01084574,\n",
       "        0.00429973],\n",
       "       [0.01353151, 0.01630927, 0.01565207, ..., 0.0348251 , 0.0053246 ,\n",
       "        0.00656663],\n",
       "       [0.0292965 , 0.02399355, 0.03454986, ..., 0.01452523, 0.01184466,\n",
       "        0.009656  ]], dtype=float32)>"
      ]
     },
     "execution_count": 127,
     "metadata": {},
     "output_type": "execute_result"
    }
   ],
   "source": [
    "weights"
   ]
  },
  {
   "cell_type": "code",
   "execution_count": 128,
   "metadata": {},
   "outputs": [
    {
     "data": {
      "text/plain": [
       "<tf.Variable 'Variable:0' shape=(10,) dtype=float32, numpy=\n",
       "array([-0.3216015 ,  0.33821732,  0.06465681, -0.23871014,  0.05610637,\n",
       "        1.0925262 , -0.07184623,  0.5204884 , -1.2441906 , -0.19565555],\n",
       "      dtype=float32)>"
      ]
     },
     "execution_count": 128,
     "metadata": {},
     "output_type": "execute_result"
    }
   ],
   "source": [
    "bias"
   ]
  },
  {
   "cell_type": "code",
   "execution_count": null,
   "metadata": {},
   "outputs": [],
   "source": []
  }
 ],
 "metadata": {
  "kernelspec": {
   "display_name": "Python 3",
   "language": "python",
   "name": "python3"
  },
  "language_info": {
   "codemirror_mode": {
    "name": "ipython",
    "version": 3
   },
   "file_extension": ".py",
   "mimetype": "text/x-python",
   "name": "python",
   "nbconvert_exporter": "python",
   "pygments_lexer": "ipython3",
   "version": "3.8.8"
  },
  "toc-autonumbering": false
 },
 "nbformat": 4,
 "nbformat_minor": 4
}
