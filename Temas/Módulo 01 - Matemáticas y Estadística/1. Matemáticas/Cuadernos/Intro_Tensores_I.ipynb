{
 "cells": [
  {
   "cell_type": "markdown",
   "metadata": {},
   "source": [
    "**Diplomado en Inteligencia Artificial y Aprendizaje Profundo**"
   ]
  },
  {
   "cell_type": "markdown",
   "metadata": {},
   "source": [
    "# Introducción a tensores"
   ]
  },
  {
   "cell_type": "markdown",
   "metadata": {},
   "source": [
    "## Primera parte (empezando)"
   ]
  },
  {
   "cell_type": "markdown",
   "metadata": {},
   "source": [
    "##  Autores"
   ]
  },
  {
   "cell_type": "markdown",
   "metadata": {},
   "source": [
    "1. Alvaro Mauricio Montenegro Díaz, ammontenegrod@unal.edu.co\n",
    "2. Daniel Mauricio Montenegro Reyes, dextronomo@gmail.com \n",
    "3. Oleg Jarma, ojarmam@unal.edu.co \n",
    "4. Maria del Pilar Montenegro, pmontenegro88@gmail.com "
   ]
  },
  {
   "cell_type": "markdown",
   "metadata": {},
   "source": [
    "## Contenido"
   ]
  },
  {
   "cell_type": "markdown",
   "metadata": {},
   "source": [
    "  * [Introducción](#Introducción)\n",
    "  * [Vectores](#Vectores)\n",
    "  * [Matrices](#Matrices)"
   ]
  },
  {
   "cell_type": "markdown",
   "metadata": {},
   "source": [
    "## Introducción"
   ]
  },
  {
   "cell_type": "markdown",
   "metadata": {},
   "source": [
    "En este cuaderno se introducen los conceptos de vectores, matrices y tensores.\n",
    "\n",
    "Los tensores son la estructura de datos más utilizada en el aprendizaje profundo. Desde el punto de vista matemático, un tensor generaliza los conceptos de escalares, vectores y matrices. \n",
    "\n",
    "Solamente haremos la introducción al concepto de tensores desde el punto de vista de las estructuras de datos requeridas en el aprendizaje profundo."
   ]
  },
  {
   "cell_type": "markdown",
   "metadata": {},
   "source": [
    "## Vectores (Tensores unidimensionales)"
   ]
  },
  {
   "cell_type": "markdown",
   "metadata": {},
   "source": [
    "En esta sección revisamos el concepto de vector. Desde el punto de vista del aprendizaje profundo. Entendemos un vector como un contenedor de  *n* datos, cada uno de los cuales se identifica genéricamente mediante un índice. Por ejemplo supongamos que $w$ es un vector de tamaño tres. Este vector se representa genéricamente como \n",
    "\n",
    "$$\n",
    "\\begin{equation}\n",
    "w = (w_1,w_2, w_3).\n",
    "\\end{equation}\n",
    "$$\n",
    "\n",
    "En estadística es usual escribir los vectores el columna. En este caso $w$ se escribe como\n",
    "\n",
    "\n",
    "$$\n",
    "\\begin{equation}\n",
    "w = \\begin{pmatrix} w_1\\\\ w_2 \\\\ w_3\\end{pmatrix}.\n",
    "\\end{equation}\n",
    "$$\n",
    "\n",
    "\n",
    "El tipo de valores que puede contener un vector debe ser de la misma clase por convención. Por ejemplo, si $w$ es un vector de números reales, entonces *z=(3.2, 1.5, -7.2,0.0)* es un vector real de tamaño cuatro. Matemáticamente se dice el vector *z* tiene dimensión cuatro. En otras palabras, la dimension matemática de un vector es su tamaño.\n",
    "\n",
    "El contenido y tipo de datos de un vector depende del contexto en que se está utilizando. Supongamos que se trata de construir una máquina de aprendizaje profundo que idenfique digitos escritos a mano. Lo que se acostumbra a hacer es digitalizar las imágenes correspondientes. "
   ]
  },
  {
   "cell_type": "markdown",
   "metadata": {},
   "source": [
    "### Ejemplo en Numpy"
   ]
  },
  {
   "cell_type": "markdown",
   "metadata": {},
   "source": [
    "En [NumPy](https://numpy.org/) el vector $w =(1,2,3)$ se puede crear así:"
   ]
  },
  {
   "cell_type": "code",
   "execution_count": 33,
   "metadata": {},
   "outputs": [
    {
     "name": "stdout",
     "output_type": "stream",
     "text": [
      "[1 2 3]\n",
      "(3,)\n"
     ]
    }
   ],
   "source": [
    "import numpy as np\n",
    "# crea el vector (array)\n",
    "w = np.array([1,2,3]) \n",
    "# lo imprime\n",
    "print(w)\n",
    "# Muestra el tamaño (shape) del vector\n",
    "print(w.shape)"
   ]
  },
  {
   "cell_type": "markdown",
   "metadata": {},
   "source": [
    "### Discusión: ¿Vector o Tensor?"
   ]
  },
  {
   "cell_type": "markdown",
   "metadata": {},
   "source": [
    "En matemáticas la dimensión por lo general hace referencia al número de componentes con el que se representa un objeto en un espacio. Por lo general el espacio Euclideano, digamos $\\mathbf{R}^2$ o $\\mathbf{R}^3$.\n",
    "\n",
    "El siguiente código dibuja algunos vectores en $\\mathbf{R}^2$. Los  matemáticos dicen que estos objetos geométricos tienen dimensión geométrica 2. Por favor revisa cada línea del código para estar seguro que lo entiende."
   ]
  },
  {
   "cell_type": "code",
   "execution_count": 34,
   "metadata": {},
   "outputs": [
    {
     "data": {
      "image/png": "[encoded data removed]",
      "text/plain": [
       "<Figure size 432x288 with 1 Axes>"
      ]
     },
     "metadata": {
      "needs_background": "light"
     },
     "output_type": "display_data"
    }
   ],
   "source": [
    "import numpy as np\n",
    "import matplotlib.pyplot as plt\n",
    "\n",
    "soa = np.array([[0, 0, 4, 1], [0, 0, 1, 5], [0, 0, 3, 2]])\n",
    "X, Y, U, V = zip(*soa)\n",
    "plt.figure()\n",
    "plt.title('Vectores en el espacio Euclideano $R^2$ ')\n",
    "ax = plt.gca()\n",
    "ax.quiver(X, Y, U, V, angles='xy', scale_units='xy', scale=1)\n",
    "ax.set_xlim([-1, 6])\n",
    "ax.set_ylim([-1, 6])\n",
    "plt.draw()\n",
    "plt.show()"
   ]
  },
  {
   "cell_type": "markdown",
   "metadata": {},
   "source": [
    "#### Ayuda "
   ]
  },
  {
   "cell_type": "markdown",
   "metadata": {},
   "source": [
    "Por ejemplo busque en Google [ax.quiver](https://matplotlib.org/3.1.1/api/_as_gen/matplotlib.axes.Axes.quiver.html)."
   ]
  },
  {
   "cell_type": "markdown",
   "metadata": {},
   "source": [
    "Los tensores son objetos de tipo algebráico. La dimensión de un tensor se define como el número de índices requerido para representar todos a los elementos del tensor.\n",
    "\n",
    "Entonces:\n",
    "\n",
    "1. El vector $w = (w_1,w_2, w_3)$ tiene dimensión 3.\n",
    "2. El tensor $w = (w_1,w_2, w_3)$ tiene dimensión 1 y tamaño (shape = 3).\n",
    "\n",
    "En aprendizaje profundo usaremos con más frecuencia el concepto de tensor. **Asegúrese de comprender la diferencia**."
   ]
  },
  {
   "cell_type": "markdown",
   "metadata": {},
   "source": [
    "## Aritmética básica de tensores unidimensionales"
   ]
  },
  {
   "cell_type": "markdown",
   "metadata": {},
   "source": [
    "Mientras no se diga lo contrario, asumiremos que los tensores que usaremos tienen el mismo tamaño. Por facilidad, en las definciones usaremos tensores unidimensionales de tamaño $n=3$. En realidad el tamaño de los tensores unidimensioanles puede ser cualquier número entero $n$ y las definciones se generalizan de forma obvia."
   ]
  },
  {
   "cell_type": "markdown",
   "metadata": {},
   "source": [
    "Supongamos que $a= (a_1,a_2,a_3)$ y $b=(b_1,b_2,b_3)$ son dos vectores. La suma entre $a$ Y $b$ es un vector $c$ definido por\n",
    "\n",
    "$$\n",
    "c = a+b = (a_1+b_1, a_2+b_2,a_3+b_3)\n",
    "$$\n",
    "\n",
    "En Python escribimos"
   ]
  },
  {
   "cell_type": "code",
   "execution_count": 35,
   "metadata": {},
   "outputs": [
    {
     "name": "stdout",
     "output_type": "stream",
     "text": [
      "[ 8 10 12]\n"
     ]
    }
   ],
   "source": [
    "a = np.array([1,2,3])\n",
    "b = np.array([7,8,9])\n",
    "c = a + b\n",
    "print(c)"
   ]
  },
  {
   "cell_type": "markdown",
   "metadata": {},
   "source": [
    "Similarmente la diferencia  de vectors $a-b$ es definida por\n",
    "\n",
    "$$\n",
    "c = a-b = (a_1-b_1, a_2-b_2,a_3-b_3)\n",
    "$$"
   ]
  },
  {
   "cell_type": "code",
   "execution_count": 36,
   "metadata": {},
   "outputs": [
    {
     "name": "stdout",
     "output_type": "stream",
     "text": [
      "[-6 -6 -6]\n"
     ]
    }
   ],
   "source": [
    "a = np.array([1,2,3])\n",
    "b = np.array([7,8,9])\n",
    "c = a - b\n",
    "print(c)"
   ]
  },
  {
   "cell_type": "markdown",
   "metadata": {},
   "source": [
    "El producto de Hadamard, o producto elemento by elemento entre dos vectores se donota $a \\odot b$ y se define como\n",
    "\n",
    "$$\n",
    "c = a\\odot b = (a_1*b_1, a_2*b_2,a_3*b_3).\n",
    "$$\n",
    "\n",
    "En Pyton el producto de Hadamard se implementa simplemente usando el operador de multiplicación (*). Veamos\n"
   ]
  },
  {
   "cell_type": "code",
   "execution_count": 37,
   "metadata": {},
   "outputs": [
    {
     "name": "stdout",
     "output_type": "stream",
     "text": [
      "[ 7 16 27]\n"
     ]
    }
   ],
   "source": [
    "a = np.array([1,2,3])\n",
    "b = np.array([7,8,9])\n",
    "c = a * b\n",
    "print(c)"
   ]
  },
  {
   "cell_type": "markdown",
   "metadata": {},
   "source": [
    "La división entre vectores no es uan operación formalmente definida. En ocasiones sin embargo se requiere dividir los elementos de un vector entre los elementos de otro, elemento a elemento. Esta operación se implementa en Python simplemente usando el operador división (/)"
   ]
  },
  {
   "cell_type": "code",
   "execution_count": 38,
   "metadata": {},
   "outputs": [
    {
     "name": "stdout",
     "output_type": "stream",
     "text": [
      "[0.14285714 0.25       0.33333333]\n"
     ]
    }
   ],
   "source": [
    "a = np.array([1,2,3])\n",
    "b = np.array([7,8,9])\n",
    "c = a / b\n",
    "print(c)"
   ]
  },
  {
   "cell_type": "markdown",
   "metadata": {},
   "source": [
    "## Matrices (Tensores bidimensionales)"
   ]
  },
  {
   "cell_type": "markdown",
   "metadata": {},
   "source": [
    "Una matriz es una organización (tensor) bidimensional. Por ejemplo la matriz  $M$ de tamaño $2\\times 3$ puede ser\n",
    "\n",
    "$$\n",
    "\\begin{pmatrix} 1 & 2 & 3\\\\\n",
    "4 &5 & 6\n",
    "\\end{pmatrix}\n",
    "$$\n",
    "\n",
    "Las matrices son muy utilizadas en prácticamente todas las área de la ciencia y la tecnología. \n",
    "\n",
    "En el caso del aprendizaje profundo, y más generalmente en Estadística las matrices se usan para representar conjuntos de datos. En los casos de regresión, las filas usualmente representan individuos y las columnas variables.\n",
    "\n",
    "En adelante llamaremos a las matrices tensores bidimensionales (o de dos dimensiones). Entonces Una matriz que tiene $m$filas y $n$ columnas, es un tensor bidimensional de tamaño (shape) $=(m,n)$.\n",
    "\n",
    "El tensor $M$ se representa en NumPy de la siguiente forma:"
   ]
  },
  {
   "cell_type": "code",
   "execution_count": 39,
   "metadata": {},
   "outputs": [
    {
     "name": "stdout",
     "output_type": "stream",
     "text": [
      "[[1 2 3]\n",
      " [4 5 6]]\n"
     ]
    },
    {
     "data": {
      "text/plain": [
       "(2, 3)"
      ]
     },
     "execution_count": 39,
     "metadata": {},
     "output_type": "execute_result"
    }
   ],
   "source": [
    "import numpy as np\n",
    "\n",
    "# Crea el tensor\n",
    "M = np.array([[1,2,3],\n",
    "              [4,5,6]])\n",
    "# Imprime el Tensor\n",
    "print(M)\n",
    "# Muestra la forma (shape)\n",
    "M.shape"
   ]
  },
  {
   "cell_type": "markdown",
   "metadata": {},
   "source": [
    "## Creación de algunos tensores bidimensionales"
   ]
  },
  {
   "cell_type": "markdown",
   "metadata": {},
   "source": [
    "### Tensor vacío"
   ]
  },
  {
   "cell_type": "markdown",
   "metadata": {},
   "source": [
    "La función *empty()* crea un arreglo de la forma especificada. "
   ]
  },
  {
   "cell_type": "code",
   "execution_count": 40,
   "metadata": {},
   "outputs": [
    {
     "name": "stdout",
     "output_type": "stream",
     "text": [
      "[[4.9e-324 9.9e-324 1.5e-323]\n",
      " [2.0e-323 2.5e-323 3.0e-323]]\n",
      "(2, 3)\n"
     ]
    }
   ],
   "source": [
    "v = np.empty([2,3])\n",
    "print(v)\n",
    "print(v.shape)"
   ]
  },
  {
   "cell_type": "markdown",
   "metadata": {},
   "source": [
    "Observe que *v* es un tensor que tiene forma (shape) *2x2*. En NumPy un tensor está compuesto por uno más tesnsores. La dimensión del tensor *v* es 2. Se requiere un objeto de doble entrada para representar un tensor bidimensional. Los rangos de este tensor son $(2,3)$. Observe que el arreglo es representado como una lista con dos elementos, cada uno de los cuales es un arreglo de rango 3."
   ]
  },
  {
   "cell_type": "markdown",
   "metadata": {},
   "source": [
    "## Tensor de ceros"
   ]
  },
  {
   "cell_type": "markdown",
   "metadata": {},
   "source": [
    "La función *zeros()* crea un arreglo de la forma especificada relleno de ceros."
   ]
  },
  {
   "cell_type": "code",
   "execution_count": 41,
   "metadata": {},
   "outputs": [
    {
     "name": "stdout",
     "output_type": "stream",
     "text": [
      "[[0. 0.]\n",
      " [0. 0.]\n",
      " [0. 0.]]\n"
     ]
    }
   ],
   "source": [
    "w = np.zeros([3,2])\n",
    "print(w)"
   ]
  },
  {
   "cell_type": "markdown",
   "metadata": {},
   "source": [
    "### Arreglo de unos"
   ]
  },
  {
   "cell_type": "markdown",
   "metadata": {},
   "source": [
    "La función *ones()* crea un arreglo de la forma especificada relleno de unos."
   ]
  },
  {
   "cell_type": "code",
   "execution_count": 42,
   "metadata": {},
   "outputs": [
    {
     "name": "stdout",
     "output_type": "stream",
     "text": [
      "[[1. 1.]\n",
      " [1. 1.]]\n"
     ]
    }
   ],
   "source": [
    "w = np.ones([2,2])\n",
    "print(w)"
   ]
  },
  {
   "cell_type": "markdown",
   "metadata": {},
   "source": [
    "### Combinación de arreglos"
   ]
  },
  {
   "cell_type": "markdown",
   "metadata": {},
   "source": [
    "**Vertical**. Con la función *vstack()*"
   ]
  },
  {
   "cell_type": "code",
   "execution_count": 43,
   "metadata": {},
   "outputs": [
    {
     "name": "stdout",
     "output_type": "stream",
     "text": [
      "[[1. 1. 1.]\n",
      " [1. 1. 1.]\n",
      " [2. 2. 2.]]\n",
      "(3, 3)\n"
     ]
    }
   ],
   "source": [
    "v = np.ones([2,3])\n",
    "w = np.array([2,2,2])\n",
    "z = np.vstack((v,w))\n",
    "print(z)\n",
    "print(z.shape)"
   ]
  },
  {
   "cell_type": "markdown",
   "metadata": {},
   "source": [
    "**horizontal**. Con la función *hstack()*"
   ]
  },
  {
   "cell_type": "code",
   "execution_count": 44,
   "metadata": {},
   "outputs": [
    {
     "name": "stdout",
     "output_type": "stream",
     "text": [
      "[[1. 1. 1. 5.]\n",
      " [1. 1. 1. 5.]]\n",
      "(2, 4)\n"
     ]
    }
   ],
   "source": [
    "v = np.ones([2,3])\n",
    "w = np.array([[5],[5]])\n",
    "z = np.hstack((v,w))\n",
    "print(z)\n",
    "print(z.shape)"
   ]
  },
  {
   "cell_type": "markdown",
   "metadata": {},
   "source": [
    "### Creación de tensores multidimensionales"
   ]
  },
  {
   "cell_type": "markdown",
   "metadata": {},
   "source": [
    "En Pyhton una lista de listas puede crearse como se muestra en el siguiente fragmento de código. En el código se observa como acceder a la primera lista y como acceder al segundo elemento de la segunda lista. Segúrese de entender la lógica involucrada."
   ]
  },
  {
   "cell_type": "markdown",
   "metadata": {},
   "source": [
    "<h4>Un ejemplo con arreglos tridimensionales</h4>\n",
    "\n",
    "Para completar de entender la indexación y rabanado de arreglos, observe el siguiente ejemplo. Asegúrese de entender completamente la lógica."
   ]
  },
  {
   "cell_type": "code",
   "execution_count": 45,
   "metadata": {},
   "outputs": [
    {
     "name": "stdout",
     "output_type": "stream",
     "text": [
      "a.shape= (4, 3, 2)\n",
      "a = [[[ 1  2]\n",
      "  [ 3  4]\n",
      "  [ 5  6]]\n",
      "\n",
      " [[ 7  8]\n",
      "  [ 9 10]\n",
      "  [11 12]]\n",
      "\n",
      " [[13 14]\n",
      "  [15 16]\n",
      "  [17 18]]\n",
      "\n",
      " [[19 20]\n",
      "  [21 22]\n",
      "  [23 24]]]\n"
     ]
    }
   ],
   "source": [
    "a = np.array([[[1,2],[3,4],[5,6]],[[7,8],[9,10],[11,12]],[[13,14],[15,16],[17,18]],\n",
    "              [[19,20],[21,22],[23,24]]])\n",
    "print('a.shape=', a.shape)\n",
    "print('a =',a)"
   ]
  },
  {
   "cell_type": "markdown",
   "metadata": {},
   "source": [
    "## Por hacer (Tarea)"
   ]
  },
  {
   "cell_type": "markdown",
   "metadata": {},
   "source": [
    "Investigue sobre los siguiebtes temas\n",
    "\n",
    "1. Indexación de tensores Numpy.\n",
    "2. Rabanado (slicing) de tensores\n",
    "3. Reorganización (Reshape) de tensores"
   ]
  },
  {
   "cell_type": "markdown",
   "metadata": {},
   "source": [
    "## Algebra Tensorial"
   ]
  },
  {
   "cell_type": "markdown",
   "metadata": {},
   "source": [
    "Numpy esta preparado para trabajar las operaciones ordinarias del álgebra lineal y más extendidamente del álgebra tensorial directamente. Los siguientes ejemplos mustran como sumar,...."
   ]
  },
  {
   "cell_type": "code",
   "execution_count": 46,
   "metadata": {},
   "outputs": [
    {
     "name": "stdout",
     "output_type": "stream",
     "text": [
      "(3, 2, 3)\n",
      "[[[  1   2   3]\n",
      "  [  4   5   6]]\n",
      "\n",
      " [[ 10  20  30]\n",
      "  [ 40  50  60]]\n",
      "\n",
      " [[100 200 300]\n",
      "  [400 500 600]]]\n"
     ]
    }
   ],
   "source": [
    "# Tensor-operations\n",
    "# We use 3*2*3 arrays (tensors)\n",
    "a = np.array([[[1,2,3],[4,5,6]],[[10,20,30],[40,50,60]],[[100,200,300],[400,500,600]]])\n",
    "print(a.shape)\n",
    "print(a)\n",
    "# Observe that has 3 layers of shape 2*3"
   ]
  },
  {
   "cell_type": "code",
   "execution_count": 47,
   "metadata": {},
   "outputs": [
    {
     "name": "stdout",
     "output_type": "stream",
     "text": [
      "(3, 2, 3)\n",
      "[[[  -1   -2   -3]\n",
      "  [  -4   -5   -6]]\n",
      "\n",
      " [[ -10  -20  -30]\n",
      "  [ -40  -50  -60]]\n",
      "\n",
      " [[-100 -200 -300]\n",
      "  [-400 -500 -600]]]\n"
     ]
    }
   ],
   "source": [
    "# multiply a by -1\n",
    "b = -a\n",
    "print(b.shape)\n",
    "print(b)"
   ]
  },
  {
   "cell_type": "code",
   "execution_count": 48,
   "metadata": {},
   "outputs": [
    {
     "name": "stdout",
     "output_type": "stream",
     "text": [
      "c= [[[0 0 0]\n",
      "  [0 0 0]]\n",
      "\n",
      " [[0 0 0]\n",
      "  [0 0 0]]\n",
      "\n",
      " [[0 0 0]\n",
      "  [0 0 0]]]\n",
      "(3, 2, 3)\n"
     ]
    }
   ],
   "source": [
    "# sum\n",
    "c = a + b\n",
    "print(\"c=\",c)\n",
    "print(c.shape)"
   ]
  },
  {
   "cell_type": "code",
   "execution_count": 49,
   "metadata": {},
   "outputs": [
    {
     "name": "stdout",
     "output_type": "stream",
     "text": [
      "c= [[[   2    4    6]\n",
      "  [   8   10   12]]\n",
      "\n",
      " [[  20   40   60]\n",
      "  [  80  100  120]]\n",
      "\n",
      " [[ 200  400  600]\n",
      "  [ 800 1000 1200]]]\n",
      "(3, 2, 3)\n"
     ]
    }
   ],
   "source": [
    "# difference\n",
    "c = a - b\n",
    "print(\"c=\",c)\n",
    "print(c.shape)"
   ]
  },
  {
   "cell_type": "code",
   "execution_count": 50,
   "metadata": {},
   "outputs": [
    {
     "name": "stdout",
     "output_type": "stream",
     "text": [
      "c= [[[     -1      -4      -9]\n",
      "  [    -16     -25     -36]]\n",
      "\n",
      " [[   -100    -400    -900]\n",
      "  [  -1600   -2500   -3600]]\n",
      "\n",
      " [[ -10000  -40000  -90000]\n",
      "  [-160000 -250000 -360000]]]\n",
      "(3, 2, 3)\n"
     ]
    }
   ],
   "source": [
    "# Hadamard product\n",
    "c = a * b\n",
    "print(\"c=\",c)\n",
    "print(c.shape)"
   ]
  },
  {
   "cell_type": "code",
   "execution_count": 51,
   "metadata": {},
   "outputs": [
    {
     "name": "stdout",
     "output_type": "stream",
     "text": [
      "c= [[[-1. -1. -1.]\n",
      "  [-1. -1. -1.]]\n",
      "\n",
      " [[-1. -1. -1.]\n",
      "  [-1. -1. -1.]]\n",
      "\n",
      " [[-1. -1. -1.]\n",
      "  [-1. -1. -1.]]]\n",
      "(3, 2, 3)\n"
     ]
    }
   ],
   "source": [
    "# component-wise division\n",
    "c = a / b\n",
    "print(\"c=\",c)\n",
    "print(c.shape)"
   ]
  },
  {
   "cell_type": "markdown",
   "metadata": {},
   "source": [
    "## Producto escalar (dot product)\n"
   ]
  },
  {
   "cell_type": "markdown",
   "metadata": {},
   "source": [
    "Si $a=(a_1,a_2,a_3)$ y $b=(b_1,b_2, b_3)$ el producto escalar entre $a$ y $b$ está definido por\n",
    "\n",
    "$$\n",
    "<a,b> = a_1b_1 + a_2b_2+a_3b_3\n",
    "$$\n",
    "\n",
    "Este producto es base de mucho métodos estadísticos, como la comparación misma de vectores.\n",
    "\n",
    "Con Numpy escribimos"
   ]
  },
  {
   "cell_type": "code",
   "execution_count": 52,
   "metadata": {},
   "outputs": [
    {
     "name": "stdout",
     "output_type": "stream",
     "text": [
      "c= 32\n",
      "()\n"
     ]
    }
   ],
   "source": [
    "# dot product (vectors): c = sum(a_i*b_i)\n",
    "a = np.array([1,2,3])\n",
    "b = np.array([4,5,6])\n",
    "c = np.dot(a,b)\n",
    "print(\"c=\",c)\n",
    "print(c.shape)"
   ]
  },
  {
   "cell_type": "markdown",
   "metadata": {},
   "source": [
    "## . Producto de matrices (2D-Tensores)\n",
    "\n",
    "Supongamos que $A=[a_{ij}]_{N\\times P}$ y  $B=[b_{jk}]_{P\\times Q}$ son matrices de tamaños (shape) $N\\times P$ y $P\\times Q$ respectivamente. Entonces $C = A\\times B$ es una matriz $C=[c_{ik}]_{N\\times Q}$ de tamaño $P\\times Q$, en donde \n",
    "\n",
    "$$\n",
    "\\begin{equation}\n",
    "c_{ik} = \\sum_{j=1}^{P} a_{ij}b_{jk}\n",
    "\\end{equation}\n",
    "$$"
   ]
  },
  {
   "cell_type": "code",
   "execution_count": 53,
   "metadata": {},
   "outputs": [
    {
     "name": "stdout",
     "output_type": "stream",
     "text": [
      "A= [[1 2 3]\n",
      " [4 5 6]]\n",
      "A.shape = (2, 3)\n",
      "B= [[ 10  20  30  40]\n",
      " [ 50  60  70  80]\n",
      " [ 90 100 110 120]]\n",
      "B.shape = (3, 4)\n",
      "C= [[ 380  440  500  560]\n",
      " [ 830  980 1130 1280]]\n",
      "C.shape = (2, 4)\n",
      "D= [[ 380  440  500  560]\n",
      " [ 830  980 1130 1280]]\n",
      "E= [[ 380  440  500  560]\n",
      " [ 830  980 1130 1280]]\n"
     ]
    }
   ],
   "source": [
    "# dot product (tensors ): c = sum(a_i*b_i)\n",
    "A = np.array([[1,2,3],[4,5,6]])\n",
    "B = np.array([[10,20,30,40],[50,60,70,80],[90,100,110,120]])          \n",
    "print(\"A=\",A)\n",
    "print(\"A.shape =\",A.shape)\n",
    "print(\"B=\",B)\n",
    "print(\"B.shape =\",B.shape)\n",
    "# Matrix product ( equivalent results)\n",
    "# prefer C or D computation\n",
    "C = A @ B\n",
    "D = np.matmul(A,B)\n",
    "E = np.dot(A,B)\n",
    "print(\"C=\",C)\n",
    "print(\"C.shape =\",C.shape)\n",
    "print(\"D=\",D)\n",
    "print(\"E=\",E)\n"
   ]
  },
  {
   "cell_type": "code",
   "execution_count": 54,
   "metadata": {},
   "outputs": [
    {
     "data": {
      "text/plain": [
       "array([[8., 8.],\n",
       "       [8., 8.]])"
      ]
     },
     "execution_count": 54,
     "metadata": {},
     "output_type": "execute_result"
    }
   ],
   "source": [
    "# a.dot puede ser encadenado con arreglos 2D\n",
    "a = np.eye(2) #identity matrix 2x2\n",
    "b = np.ones((2,2))*2# matrix 2x2, full of ith 2's \n",
    "a.dot(b).dot(b)"
   ]
  },
  {
   "cell_type": "markdown",
   "metadata": {},
   "source": [
    "## Trabajando con arreglos de diferente tamaño(broadcasting)\n",
    "\n",
    "Si *a* es escalar (0-D array) y *b* es N-D array) se multiplican todos los elementos de *b* por *a*. Revise el ejemplo anterior.\n",
    "\n",
    "Si *a* en un arreglo N-dimensional (N-D) y b es un arreglo 1D (uno-dimensional)"
   ]
  },
  {
   "cell_type": "code",
   "execution_count": 55,
   "metadata": {},
   "outputs": [],
   "source": [
    "a = np.array([[1,2],[3,4],[5,6]])\n",
    "b = np.array([[10],[100]])\n",
    "c = a.dot(b)   \n",
    "d = a@b\n"
   ]
  },
  {
   "cell_type": "code",
   "execution_count": 56,
   "metadata": {},
   "outputs": [
    {
     "name": "stdout",
     "output_type": "stream",
     "text": [
      "a= [[1 2]\n",
      " [3 4]\n",
      " [5 6]]\n",
      "b= [[ 10]\n",
      " [100]]\n",
      "c= [[210]\n",
      " [430]\n",
      " [650]]\n",
      "d= [[210]\n",
      " [430]\n",
      " [650]]\n"
     ]
    }
   ],
   "source": [
    "print('a=', a)\n",
    "print('b=', b)\n",
    "print('c=', c)\n",
    "print('d=', d)"
   ]
  },
  {
   "cell_type": "markdown",
   "metadata": {},
   "source": [
    "### Producto tensorial"
   ]
  },
  {
   "cell_type": "markdown",
   "metadata": {},
   "source": [
    "Trabajando con un arreglo *A*  3-D y arreglo *B* 1D de tal forma que el tamaño de la última dimension de *A* coincide con el tamaño de *B*, el producto se puede ver como el resultado del producto de matrices  entre la matriz en cada capa por el vector *B*.\n",
    "\n",
    "En el siguiente ejemplo *A* tiene tamaño 4x3x2 y *b* tiene tamaño 2 (en realidad 2x1). Entonces el producto tensorial *C=A@B* da como resultado un arreglo de tamaño 4x3x1. Cada una de las 4 matrices de tamaño 3x2 del arreglo *A* se multiplican por el vector *B*, lo que da como resultado 4 matrices de tamaño 3x1. Veámos los cálculos con Numpy."
   ]
  },
  {
   "cell_type": "code",
   "execution_count": 57,
   "metadata": {},
   "outputs": [],
   "source": [
    "a = np.array([[[1,2],[3,4],[5,6]],[[7,8],[9,10],[11,12]],[[13,14],[15,16],[17,18]],\n",
    "              [[19,20],[21,22],[23,24]]])\n",
    "b = np.array([[10],[100]])\n",
    "c = a.dot(b)   \n",
    "d = a@b\n",
    "# revisamos este subcálculo. a_0 es la primera matrix 3x2 del arreglo A.\n",
    "a_0 = a[0,:,:]\n",
    "# e es la primera matriz de tamaño 3*1 del producto. Compare los resultados.\n",
    "e = a_0@b"
   ]
  },
  {
   "cell_type": "code",
   "execution_count": 58,
   "metadata": {},
   "outputs": [
    {
     "name": "stdout",
     "output_type": "stream",
     "text": [
      "a= [[[ 1  2]\n",
      "  [ 3  4]\n",
      "  [ 5  6]]\n",
      "\n",
      " [[ 7  8]\n",
      "  [ 9 10]\n",
      "  [11 12]]\n",
      "\n",
      " [[13 14]\n",
      "  [15 16]\n",
      "  [17 18]]\n",
      "\n",
      " [[19 20]\n",
      "  [21 22]\n",
      "  [23 24]]]\n",
      "a.shape= (4, 3, 2)\n",
      "b= [[ 10]\n",
      " [100]]\n",
      "b.shape= (2, 1)\n",
      "c= [[[ 210]\n",
      "  [ 430]\n",
      "  [ 650]]\n",
      "\n",
      " [[ 870]\n",
      "  [1090]\n",
      "  [1310]]\n",
      "\n",
      " [[1530]\n",
      "  [1750]\n",
      "  [1970]]\n",
      "\n",
      " [[2190]\n",
      "  [2410]\n",
      "  [2630]]]\n",
      "d= [[[ 210]\n",
      "  [ 430]\n",
      "  [ 650]]\n",
      "\n",
      " [[ 870]\n",
      "  [1090]\n",
      "  [1310]]\n",
      "\n",
      " [[1530]\n",
      "  [1750]\n",
      "  [1970]]\n",
      "\n",
      " [[2190]\n",
      "  [2410]\n",
      "  [2630]]]\n",
      "d.shape= (4, 3, 1)\n",
      "e= [[210]\n",
      " [430]\n",
      " [650]]\n",
      "a_1.shape (3, 2)\n",
      "e.shape= (3, 1)\n"
     ]
    }
   ],
   "source": [
    "print('a=', a)\n",
    "print('a.shape=',a.shape)\n",
    "print('b=', b)\n",
    "print('b.shape=',b.shape)\n",
    "print('c=', c)\n",
    "print('d=', d)\n",
    "print('d.shape=',d.shape)\n",
    "print('e=', e)\n",
    "print('a_1.shape',a_0.shape)\n",
    "print('e.shape=',e.shape)"
   ]
  }
 ],
 "metadata": {
  "kernelspec": {
   "display_name": "Python 3",
   "language": "python",
   "name": "python3"
  },
  "language_info": {
   "codemirror_mode": {
    "name": "ipython",
    "version": 3
   },
   "file_extension": ".py",
   "mimetype": "text/x-python",
   "name": "python",
   "nbconvert_exporter": "python",
   "pygments_lexer": "ipython3",
   "version": "3.7.7"
  },
  "toc-autonumbering": false
 },
 "nbformat": 4,
 "nbformat_minor": 4
}
