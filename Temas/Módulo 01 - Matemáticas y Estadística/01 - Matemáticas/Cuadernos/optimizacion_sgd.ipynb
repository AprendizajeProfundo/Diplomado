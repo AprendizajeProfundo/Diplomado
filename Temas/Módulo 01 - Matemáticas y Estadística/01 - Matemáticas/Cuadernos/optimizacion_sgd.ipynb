{
 "cells": [
  {
   "cell_type": "markdown",
   "metadata": {},
   "source": [
    "<figure>\n",
    "<img src=\"../Imagenes/logo-final-ap.png\"  width=\"80\" height=\"80\" align=\"left\"/> \n",
    "</figure>\n",
    "\n",
    "# <span style=\"color:#4361EE\"><left>Aprendizaje Profundo</left></span>"
   ]
  },
  {
   "cell_type": "markdown",
   "metadata": {},
   "source": [
    "# <span style=\"color:red\"><center>Diplomado en Inteligencia Artificial y Aprendizaje Profundo</center></span>"
   ]
  },
  {
   "cell_type": "markdown",
   "metadata": {},
   "source": [
    "# <span style=\"color:blue\"><center>Optimización: Gradiente descendiente estocástico</center></span>"
   ]
  },
  {
   "cell_type": "markdown",
   "metadata": {},
   "source": [
    "<figure>\n",
    "<center>\n",
    "<img src=\"../Imagenes/sierra_nevada_santa_marta.jpg\" width=\"600\" height=\"600\" align=\"center\"/>\n",
    "<figcaption>Sierra Nevada de Santa Marta </figcaption>\n",
    "</center>\n",
    "</figure>\n",
    "\n",
    "\n",
    "Fuente: <a href=\"https://commons.wikimedia.org/wiki/File:Amanecer_en_la_Cuchilla_de_San_Lorenzo_-_Nevados_-_Sierra_Nevada_de_Santa_Marta_-_Flickr_-_Alejandro_Bayer_(1).jpg\">Alejandro  Bayer Tamayo from Armenia, Colombia</a>, <a href=\"https://creativecommons.org/licenses/by-sa/2.0\">CC BY-SA 2.0</a>, via Wikimedia Commons"
   ]
  },
  {
   "cell_type": "markdown",
   "metadata": {},
   "source": [
    "## <span style=\"color:#4361EE\">Profesores</span>"
   ]
  },
  {
   "cell_type": "markdown",
   "metadata": {},
   "source": [
    "1. Alvaro  Montenegro, PhD, ammontenegrod@unal.edu.co\n",
    "1. Camilo José Torres Jiménez, Msc, cjtorresj@unal.edu.co\n",
    "1. Daniel  Montenegro, Msc, dextronomo@gmail.com "
   ]
  },
  {
   "cell_type": "markdown",
   "metadata": {},
   "source": [
    "## <span style=\"color:#4361EE\">Asesora Medios y Marketing digital</span>"
   ]
  },
  {
   "cell_type": "markdown",
   "metadata": {},
   "source": [
    "4. Maria del Pilar Montenegro, pmontenegro88@gmail.com\n",
    "5. Jessica López Mejía, jelopezme@unal.edu.co"
   ]
  },
  {
   "cell_type": "markdown",
   "metadata": {},
   "source": [
    "## <span style=\"color:#4361EE\">Jefe Jurídica</span>"
   ]
  },
  {
   "cell_type": "markdown",
   "metadata": {},
   "source": [
    "6. Paula Andrea Guzmán, guzmancruz.paula@gmail.com"
   ]
  },
  {
   "cell_type": "markdown",
   "metadata": {},
   "source": [
    "## <span style=\"color:#4361EE\">Coordinador Jurídico</span>"
   ]
  },
  {
   "cell_type": "markdown",
   "metadata": {},
   "source": [
    "7. David Fuentes, fuentesd065@gmail.com"
   ]
  },
  {
   "cell_type": "markdown",
   "metadata": {},
   "source": [
    "## <span style=\"color:#4361EE\">Desarrolladores Principales</span>"
   ]
  },
  {
   "cell_type": "markdown",
   "metadata": {},
   "source": [
    "8. Dairo Moreno, damoralesj@unal.edu.co\n",
    "9. Joan Castro, jocastroc@unal.edu.co\n",
    "10. Bryan Riveros, briveros@unal.edu.co\n",
    "11. Rosmer Vargas, rovargasc@unal.edu.co\n",
    "12. Venus Puertas, vpuertasg@unal.edu.co"
   ]
  },
  {
   "cell_type": "markdown",
   "metadata": {},
   "source": [
    "## <span style=\"color:#4361EE\">Expertos en Bases de Datos</span>"
   ]
  },
  {
   "cell_type": "markdown",
   "metadata": {},
   "source": [
    "13. Giovvani Barrera, udgiovanni@gmail.com\n",
    "14. Camilo Chitivo, cchitivo@unal.edu.co"
   ]
  },
  {
   "cell_type": "markdown",
   "metadata": {},
   "source": [
    "## <span style=\"color:#4361EE\">Referencias</span> "
   ]
  },
  {
   "cell_type": "markdown",
   "metadata": {},
   "source": [
    "1. [Alvaro Montenegro y Daniel Montenegro, Inteligencia Artificial y Aprendizaje Profundo, 2022](https://github.com/AprendizajeProfundo/Diplomado)\n",
    "1. [Alvaro Montenegro, Daniel Montenegro Campo Elías Pardo, y Oleg Jarma, Inteligencia Artificial y Aprendizaje Profundo Avanzado, 2022](https://github.com/AprendizajeProfundo/Diplomado-Avanzado)\n",
    "1. [Alvaro Montenegro, Daniel Montenegro, Campo Elías Pardo y Oleg Jarma, Ciencia de datos, 2022](https://github.com/AprendizajeProfundo/diplomado-ciencia-de-datos)"
   ]
  },
  {
   "cell_type": "markdown",
   "metadata": {
    "slideshow": {
     "slide_type": "slide"
    },
    "tags": []
   },
   "source": [
    "## <span style=\"color:blue\">Contenido</span>"
   ]
  },
  {
   "cell_type": "markdown",
   "metadata": {},
   "source": [
    "* [Introducción](#Introducción)\n",
    "* [Métodos basados en el gradiente](#Métodos-basados-en-el-gradiente)\n",
    "* [Gradiente descendiente en lote](#Gradiente-descendiente-en-lote)\n",
    "* [Gradiente descendiente estocástico](#Gradiente-descendiente-estocástico)\n",
    "* [Gradiente descendiente por mini-lotes](#Gradiente-descendiente-por-mini-lotes)\n",
    "* [Método del momento](#Método-del-momento)\n",
    "* [RMSprop](#RMSprop)\n",
    "* [Algoritmo Adam](#Algoritmo-Adam)"
   ]
  },
  {
   "cell_type": "markdown",
   "metadata": {},
   "source": [
    "## <span style=\"color:blue\">Introducción</span>"
   ]
  },
  {
   "cell_type": "markdown",
   "metadata": {},
   "source": [
    "\n",
    "\n"
   ]
  },
  {
   "cell_type": "markdown",
   "metadata": {},
   "source": [
    "La mayoría de los algoritmos la ciencia de datos implican la optimización de una función de valores reales. La optimización se refiere a la tarea de minimizar o maximizar alguna función $ f (\\boldsymbol{\\omega}) $ alterando $ \\boldsymbol{\\omega}$. Por lo general, expresamos la mayoría de los problemas de entrenamiento de un modelo en la ciencia de datos, y en particular en la inteligencia artificial  en términos de minimizar una función $f(\\boldsymbol{\\omega})$.\n",
    "\n",
    "\n",
    "**Entenderemos la frase  minimizar una función $f(\\boldsymbol{\\omega})$ como un procedimiento para encontrar valor $\\boldsymbol{\\omega}^*$ de tal manera que $ f (\\boldsymbol{\\omega}^*) $ tenga el menor valor posible.**\n",
    "\n",
    "Los matemáticos escriben esta frase en símbolos de la siguiente manera:\n",
    "\n",
    "$$\n",
    "\\boldsymbol{\\omega}^* = \\underset{\\boldsymbol{\\omega}}{\\operatorname{argmin}}  f(\\boldsymbol{\\omega}).\n",
    "$$\n",
    "\n",
    "\n",
    "\n",
    "La función que queremos minimizar  se llama función o criterio **objetivo (objetivo)**. Cuando estamos minimizando, también podemos llamarla función de costo, **función de pérdida** o función de error.\n",
    "\n",
    "\n",
    "La búsqueda de un mínimo global puede ser una tarea muy dura en aprendizaje de máquinas si se tiene en cuenta que las funciones tienen muchas variables y consecuencia se tienen muchas dimensiones, por lo que no podemos *verlas*. En la siguiente imagen la función tiene dos variables (features). En aprendizaje de máquinas se pueden tener cientos  miles, millones y hasta miles de millones de variables (features). La siguiente imagen muestra una función con varios máximos y varios mínimos. La imagen muestra ejemplo típicos de funciones de pérdida asociadas al ajuste de redes neuronales."
   ]
  },
  {
   "cell_type": "markdown",
   "metadata": {},
   "source": [
    "<figure>\n",
    "<img src=\"https://raw.githubusercontent.com/AprendizajeProfundo/Libro_Fundamentos_Programacion/main/Pytorch/Imagenes/perdida_vgg56.png\" width=300 height= 400 align=\"left\" />      \n",
    "</figure>\n",
    "\n",
    "<figure>\n",
    "<img src=\"https://raw.githubusercontent.com/AprendizajeProfundo/Libro_Fundamentos_Programacion/main/Pytorch/Imagenes/perdida_Res.png\" width=300 height= 400 align=\"right\" />      \n",
    "</figure>"
   ]
  },
  {
   "cell_type": "markdown",
   "metadata": {},
   "source": [
    "Visualización funciones de pérdida modelos neuronales VGG56 y resnet56. Fuente: [University of Maryland](https://www.cs.umd.edu/~tomg/projects/landscapes/)"
   ]
  },
  {
   "cell_type": "markdown",
   "metadata": {},
   "source": [
    "## <span style=\"color:blue\">Métodos de optimización basados en el gradiente</span>"
   ]
  },
  {
   "cell_type": "markdown",
   "metadata": {},
   "source": [
    "En esta lección vamos concentrarnos en las técnicas más modernas de optimización desarrolladas para el hacer posible el aprendizaje de máquinas. En este contexto se tiene que \n",
    "\n",
    "**<center>El problema de entrenar una máquina de aprendizaje es un problema de optimización</center>**"
   ]
  },
  {
   "cell_type": "markdown",
   "metadata": {},
   "source": [
    "A menudo minimizamos las funciones que tienen múltiples entradas: $ f: \\mathbb{R}^n \\to \\mathbb {R} $. \n",
    "\n",
    "Para que el concepto de \"minimización\" tenga sentido, debe haber una sola salida (función escalar).  Para funciones con múltiples entradas, se hace uso del concepto de derivadas parciales. La derivada parcial $\\frac{\\partial}{\\partial w_i} f(\\boldsymbol{\\omega})$  mide como cambia (la velocidad a la que cambia) $f$  cuando la variable $w_i$ crece o decrece desde el punto  $\\boldsymbol{\\omega}$. \n",
    "\n",
    "\n",
    "El gradiente generaliza la noción de derivada al caso en que la derivada es con respecto a una dirección en el espacio. El gradiente de $ f $, denotado $ \\nabla_{\\boldsymbol{\\omega}} f(\\boldsymbol{\\omega}) $,  es el vector que contiene todas las derivadas parciales. El elemento $ i $ del gradiente es la derivada parcial de f con respecto a $ w_i $.\n",
    "\n",
    "\n",
    "\n",
    "En múltiples dimensiones, los *puntos críticos* son puntos donde cada elemento del gradiente es igual a cero. Por otro lado, se puede verificar que el gradiente $ \\nabla_{\\boldsymbol{\\omega}}f (\\boldsymbol{\\omega}) $  es ese  vector que apunta en la dirección en la cual la función $f$ crece más rápidamente partiendo precisamente del punto $\\boldsymbol{\\omega}$. En consecuencia, $ -\\nabla_{\\boldsymbol{\\omega}}f (\\boldsymbol{\\omega}) $ apunta en la dirección contraria, es decir en la dirección hacia la cual la función decrece más rápido, desde el punto $x$. Esta es la clave de los métodos de optimización basados en el gradiente. \n",
    "\n",
    "La siguiente imagen ilustra el gradiente proyectado en el plano $xy$ de la función $f(x,y)= -(\\cos x^2 + \\sin x^2)^2$."
   ]
  },
  {
   "cell_type": "markdown",
   "metadata": {},
   "source": [
    "<figure>\n",
    "<center>\n",
    "<img src=\"../Imagenes/gradient-cos.png\" width=\"600\" height=\"600\" align=\"center\"/>\n",
    "</center>\n",
    "</figure>\n",
    "\n",
    "\n",
    "Fuente: <a href=\"https://commons.wikimedia.org/wiki/File:3d-gradient-cos.svg\">MartinThoma</a>, CC0, via Wikimedia Commons"
   ]
  },
  {
   "cell_type": "markdown",
   "metadata": {},
   "source": [
    "El término **gradiente descendiente** indica que se usará $ -\\nabla_{\\boldsymbol{\\omega}}f (\\boldsymbol{\\omega}) $ para moverse a un siguiente punto en busca de un mínimo local. El método general se escribe como:\n",
    "\n",
    "$$\n",
    "\\boldsymbol{\\omega}^{(k+1)} = \\boldsymbol{\\omega}^{(k)} −  \\eta_{k} \\nabla_{\\boldsymbol{\\omega}} f(\\boldsymbol{\\omega}^{(k)})\n",
    "$$\n",
    "\n",
    "Los  valores  $\\eta_k$ se denominan genéricamente  **tasa de aprendizaje**. La razón de incorporar la tasa de aprendizaje es controlar el tamaño de paso. Si no hace esta corrección podemos alejarnos en lugar de acercarnos al mínimo que se está buscando. El gif muestra como opera la técnica de gradiente descendiente en un función de dos variables."
   ]
  },
  {
   "cell_type": "markdown",
   "metadata": {},
   "source": [
    "<figure>\n",
    "<center>\n",
    "<img src=\"../Imagenes/Gradient_descent.gif\" width=\"600\" height=\"600\" align=\"center\"/>\n",
    "</center>\n",
    "</figure>\n",
    "\n",
    "\n",
    "Fuente: <a href=\"https://commons.wikimedia.org/wiki/File:Gradient_descent.gif\">Jacopo Bertolotti</a>, CC0, via Wikimedia Commons"
   ]
  },
  {
   "cell_type": "markdown",
   "metadata": {},
   "source": [
    "Ilustración usando curvas de nivel de como ocurren las iteraciones en el método del gradiente descendiente."
   ]
  },
  {
   "cell_type": "markdown",
   "metadata": {},
   "source": [
    "<figure>\n",
    "<center>\n",
    "<img src=\"../Imagenes/Gradient_descent.png\" width=\"400\" height=\"400\" align=\"center\"/>\n",
    "</center>\n",
    "</figure>\n",
    "\n",
    "\n",
    "\n",
    "Fuente: <a href=\"https://commons.wikimedia.org/wiki/File:Gradient_descent.png\">Olegalexandrov at English Wikipedia</a>, Public domain, via Wikimedia Commons"
   ]
  },
  {
   "cell_type": "markdown",
   "metadata": {},
   "source": [
    "## <span style=\"color:blue\">Gradiente descendiente en lote</span>"
   ]
  },
  {
   "cell_type": "markdown",
   "metadata": {},
   "source": [
    "\n",
    "En el método de gradiente  descendiente vainilla (vainilla se refiere al ejemplo básico), también conocido como descenso de gradiente por lotes, calcula el gradiente de la función de pérdida con respecto a los parámetros $\\boldsymbol{\\omega}$ para el **conjunto de datos de entrenamiento completo** $(\\mathbf{x}_{train},\\mathbf{y}_{train})$. Si $\\mathfrak{L}$ es la función de pérdida del problema, entonces se tiene que \n",
    "\n",
    "$$\n",
    "\\boldsymbol{\\omega}_{k+1} =  \\boldsymbol{\\omega}_k - \\eta_k \\nabla_{\\boldsymbol{\\omega}} \\mathfrak{L}(\\mathbf{x}_{train},\\mathbf{y}_{train},\\boldsymbol{\\omega}_k),\n",
    "$$\n",
    "\n",
    "\n",
    "El principal problema a resolver con los métodos de gradiente descendiente es cómo definir y actualizar en cada paso la tasa de aprendizaje $\\eta_k $. Un fragmento de código, en el cual se actualiza la tasa de aprendizaje podría lucir como sigue. Supongamos que al comenzar $0<\\eta_0<1$. "
   ]
  },
  {
   "cell_type": "code",
   "execution_count": null,
   "metadata": {},
   "outputs": [],
   "source": [
    "def gd(theta, x_train, y_train, loss_func, epochs):\n",
    "    for i in range (epochs):\n",
    "        gradient = evaluate_gradient(loss_func, x_train, y_train, theta)\n",
    "        theta -=  eta * gradient\n",
    "        eta   *= eta\n",
    "    return theta, gradient"
   ]
  },
  {
   "cell_type": "markdown",
   "metadata": {},
   "source": [
    "## <span style=\"color:blue\">Gradiente descendiente estocástico</span>"
   ]
  },
  {
   "cell_type": "markdown",
   "metadata": {},
   "source": [
    "El descenso de gradiente estocástico (SGD), por el contrario, realiza una actualización de parámetros para cada ejemplo de entrenamiento $x_{train}^{(i)} $ y etiqueta $ y_{train}^ {(i)} $, **seleccionados al azar en cada época**.\n",
    "\n",
    "\n",
    "$$\n",
    "\\boldsymbol{\\omega}_{k+1} =  \\boldsymbol{\\omega}_k - \\eta_k \\nabla_{\\boldsymbol{\\omega}} \\mathfrak{L}({x}_{train}^{(i)},{y}_{train}^{(i)},\\boldsymbol{\\omega}_k),\n",
    "$$\n",
    "\n",
    "\n",
    "En el artículo original de [Robbins and Monro (1951)](https://projecteuclid.org/download/pdf_1/euclid.aoms/1177729586) $\\eta$ cambia en cada iteración como acabamos de mostrar y se asume que  $\\{\\eta_k\\}$ es una sucesión tal que $\\sum_k \\eta_k = \\infty$, and $\\sum_k \\eta_k^2 < \\infty$. Por ejemplo, se puede escoger $\\eta_k = 1/k$. Robbins y Monro demostraron que bajo condiciones muy generales este algoritmo converge a la solución de problema, con probabilidad 1. \n",
    "\n",
    "Un fragmento de código del algoritmo de Robbins and Monro podría lucir como sigue."
   ]
  },
  {
   "cell_type": "code",
   "execution_count": null,
   "metadata": {},
   "outputs": [],
   "source": [
    "def sgd(theta, data_train, loss_func, epochs):\n",
    "    for i in range (epochs):\n",
    "        np.random.shuffle (data)\n",
    "        for example in data:\n",
    "            x, y = example\n",
    "            gradient = evaluate_gradient(loss_func,x, y, theta )\n",
    "            theta = theta - eta * gradient\n",
    "            eta *= eta\n",
    "    return theta, gradient"
   ]
  },
  {
   "cell_type": "markdown",
   "metadata": {},
   "source": [
    "## <span style=\"color:blue\">Gradiente descendiente estocástico por mini-lotes</span>"
   ]
  },
  {
   "cell_type": "markdown",
   "metadata": {},
   "source": [
    "\n",
    "El descenso de gradiente por mini-lotes finalmente toma lo mejor de los dos mundos anteriores y realiza una actualización para cada mini-lote de $n$ ejemplos de entrenamiento:\n",
    "\n",
    "\n",
    "$$\n",
    "\\boldsymbol{\\omega}_{k+1} =  \\boldsymbol{\\omega}_k - \\eta_k \\nabla_{\\boldsymbol{\\omega}} \\mathfrak{L}(\\mathbf{x}_{train}^{(i:i+n)},\\mathbf{y}_{train}^{(i:i+n)},\\boldsymbol{\\omega}_k),\n",
    "$$\n",
    "\n",
    "\n",
    "\n",
    "Desde este punto de la lección, asumiremos que **tomamos mini-lotes**, por lo que omitimos súper-índices en los datos $(\\mathbf{x}_{train}^{(i:i+n)},\\mathbf{y}_{train}^{(i:i+n)})$ en todas las expresiones.\n",
    "\n",
    "un fragmento de código para este método podría lucir como sigue:"
   ]
  },
  {
   "cell_type": "code",
   "execution_count": null,
   "metadata": {},
   "outputs": [],
   "source": [
    "def sgd_mini_batch(theta, data_train, loss_func, epochs, batch_size):\n",
    "    for i in range (epochs):\n",
    "        np.random.shuffle (data_train)\n",
    "        for batch in get_batches(data_train , batch_size = batch_size):\n",
    "            x, y = batch\n",
    "            gradient = evaluate_gradient(loss_func,x, y, theta )\n",
    "            theta -=  eta * gradient\n",
    "            eta *= eta\n",
    "    return theta, gradient"
   ]
  },
  {
   "cell_type": "markdown",
   "metadata": {},
   "source": [
    "El tamaño de los mini-lotes depende del problema y puede ser 32, 64, 128, etc. En el ejemplo,  *get\\_batches()* es una función generadora que va entregando lotes de datos a la medida que el algoritmo los requiere. Para las TPU se esperan mini-lotes de tamaño que sea múltiplo de 128. "
   ]
  },
  {
   "cell_type": "markdown",
   "metadata": {},
   "source": [
    "### <span style=\"color:#4CC9F0\">Discusión</span>"
   ]
  },
  {
   "cell_type": "markdown",
   "metadata": {},
   "source": [
    "El método vainilla del descenso de gradiente  no garantiza una buena convergencia, y ofrece algunos desafíos que deben abordarse:\n",
    "\n",
    "1. Elegir un ritmo de aprendizaje adecuado puede resultar complicado. Una tasa de aprendizaje demasiado pequeña conduce a una convergencia dolorosamente lenta, mientras que una tasa de aprendizaje demasiado grande puede dificultar la convergencia y hacer que la función de pérdida fluctúe alrededor del mínimo o incluso diverja.\n",
    "2. Los horarios de actualización de la tasa de aprendizaje intentan ajustar la tasa de aprendizaje durante la entrenamiento, es decir, reducir la tasa de aprendizaje de acuerdo con un programa predefinido o cuando el cambio función de pérdida entre épocas cae por debajo de un umbral. Sin embargo, estos horarios y umbrales deben definirse con anticipación por lo que no pueden adaptarse a las características de un conjunto de datos.\n",
    "3. Además, la misma tasa de aprendizaje se aplica a todas las actualizaciones de parámetros. Si nuestros datos son escasos y los valores de nuestras variables (características) tienen frecuencias muy diferentes, es posible que no queramos actualizarlas todas en la misma medida, sino realizar una actualización más grande para las características que ocurren con poca frecuencia.\n",
    "4. Otro desafío clave al minimizar las funciones de error altamente no convexas comunes para las redes neuronales es evitar quedar atrapado en sus numerosos mínimos locales sub-óptimos. Algunos autores argumentan que, de hecho, la dificultad no surge de los mínimos locales sino de los puntos de silla, es decir, puntos donde una dimensión se inclina hacia arriba y otra hacia abajo. Estos puntos de silla suelen estar rodeados por una meseta del mismo error, lo que dificulta notablemente el escape de SGD, ya que el gradiente es cercano a cero en todas las dimensiones."
   ]
  },
  {
   "cell_type": "markdown",
   "metadata": {},
   "source": [
    "<figure>\n",
    "<center>\n",
    "<img src=\"../Imagenes/Gradient_ascent_chair.png\" width=\"400\" height=\"400\" align=\"center\"/>\n",
    "<figcaption>Ejemplo de un punto de silla</figcaption>\n",
    "</center>\n",
    "</figure>\n",
    "\n",
    "\n",
    "\n",
    "Fuente: [Wikipedia](https://en.wikipedia.org/wiki/Gradient_descent)"
   ]
  },
  {
   "cell_type": "markdown",
   "metadata": {},
   "source": [
    "Para una revisión contemporáneas de los algoritmos de optimización modernos puede consultar [An overview of gradient descent optimization\n",
    "algorithms](https://arxiv.org/pdf/1609.04747.pdf)."
   ]
  },
  {
   "cell_type": "markdown",
   "metadata": {},
   "source": [
    "[Visualización SGD en Wikipedia](https://en.wikipedia.org/wiki/Gradient_descent#/media/File:Gradient_Descent_Example_Nonlinear_Equations.gif)"
   ]
  },
  {
   "cell_type": "markdown",
   "metadata": {},
   "source": [
    "## <span style=\"color:blue\">Método del momento</span>"
   ]
  },
  {
   "cell_type": "markdown",
   "metadata": {},
   "source": [
    "\n",
    "SGD tiene problemas para navegar por los barrancos, es decir, áreas donde la superficie se curva mucho más abruptamente en una dimensión que en otra, que son comunes en los óptimos locales. En estos escenarios, SGD oscila a lo largo de las pendientes del barranco mientras solo avanza vacilante por el fondo hacia el óptimo local.\n",
    "\n",
    " El método del momento ayuda a acelerar SGD en la dirección relevante y amortigua oscilaciones. Lo hace sumando una fracción $\\lambda$ del vector de actualización del paso anterior al vector de actualización actual. \n",
    " \n",
    "El método  se esquematiza como sigue\n",
    "\n",
    "$$\n",
    "\\begin{align}\n",
    "\\mathbf{v}_k &= \\lambda \\mathbf{v}_{k-1} +  \\eta \\nabla_{\\boldsymbol{\\omega}} \\mathfrak{L}({\\mathbf{x}}_{train}^{(i:i+n)},{y}_{train}^{(i:i+n)},\\boldsymbol{\\omega}_k)\\\\\n",
    "\\omega_{k+1} &= \\omega_{k} - v_k,\n",
    "\\end{align}\n",
    "$$\n",
    "$\\lambda<1$. Usualmente, $\\lambda= 0.9$."
   ]
  },
  {
   "cell_type": "markdown",
   "metadata": {},
   "source": [
    "## <span style=\"color:blue\">RMSprop</span>"
   ]
  },
  {
   "cell_type": "markdown",
   "metadata": {},
   "source": [
    "Desarrollado por Goeff Hinton, no publicado. Se basa en dividir la tasa de aprendizaje en cada paso por un promedio del cuadrado de las componentes del gradiente en el paso anterior, por cada componente $\\omega$ del vector de parámetros $\\boldsymbol{\\omega}$.\n",
    "\n",
    "Sea $g$ una componente genérica del gradiente asociada a $\\omega$, entonces el método `RMSprop` es como sigue:\n",
    "\n",
    "1. $E[g^2]_t= \\lambda E[g^2]_{t-1} + (1-\\lambda)g_t^2$\n",
    "2. $\\omega_{t+1} = \\omega_t - \\tfrac{\\eta}{\\sqrt{E[g^2]_t + \\epsilon}}g_t$\n",
    "\n",
    "$\\epsilon >0$ es para evitar divisiones por cero. \n",
    "\n",
    "Las operaciones indicadas se realizan componente a componente.\n",
    "\n",
    "- $\\lambda$ es el parámetro de decaimiento. Típicamente $\\lambda = 0.9$.\n",
    "- $\\eta$ es la tasa de aprendizaje. Típicamente el valor por defecto es 0.001.\n"
   ]
  },
  {
   "cell_type": "markdown",
   "metadata": {},
   "source": [
    "## <span style=\"color:blue\">Algoritmo Adam</span>"
   ]
  },
  {
   "cell_type": "markdown",
   "metadata": {},
   "source": [
    "El algoritmo [Adam a method for Stochastic optimization](https://arxiv.org/pdf/1412.6980.pdf) de Kingma y Lei es actualmente el algortimo más utilizado en el entrenamiento de redes neuronales.\n",
    "\n",
    "\n",
    "Adam (Adaptive Moment Estimation) es un algoritmo de optimización que  corresponde a una variación del algoritmo de descenso de gradiente estocástico (SGD). En el algoritmo se  actualizan iterativamente los pesos de la red para minimizar la función de pérdida.\n",
    "\n",
    "Adam utiliza un enfoque de momento adaptativo para actualizar los pesos de la red. Es decir, el algoritmo ajusta las magnitudes de los gradientes de los pesos de la red para cada peso individual, en lugar de tener una única tasa de aprendizaje para todos los pesos. Esto significa que Adam puede adaptarse a diferentes tasas de aprendizaje para diferentes pesos y, por lo tanto, converge más rápido que SGD.\n",
    "\n",
    "El algoritmo de Adam calcula una estimación del momento de primer orden (media móvil de los gradientes) y de segundo orden (media móvil de los gradientes al cuadrado) para cada peso de la red. A partir de estas estimaciones, se calcula una actualización de los pesos que tiene en cuenta tanto la dirección del gradiente como la magnitud de las variaciones históricas.\n",
    "\n",
    "En cada iteración, Adam calcula la tasa de aprendizaje adaptativa para cada peso de la red, y utiliza estas tasas de aprendizaje para actualizar los pesos en función de la estimación del momento de primer y segundo orden.\n",
    "\n",
    "\n",
    "\n",
    "El siguiente es el algoritmo."
   ]
  },
  {
   "cell_type": "markdown",
   "metadata": {},
   "source": [
    "### <span style=\"color:#4CC9F0\">El algortimo</span>"
   ]
  },
  {
   "cell_type": "markdown",
   "metadata": {},
   "source": [
    "El símbolo  $g^2_t$ indica los elementos del producto de Hadamard (componente por componente)  $g_t\\bigodot g_t$. Según los autores, los mejores resultados han sido obtenidos para los valores de los hiperparámetros  $\\alpha = 0.001$, $\\beta_1 = 0.9$, $\\beta_2 = 0.999$ y $\\epsilon = 10−8$. Todas operaciones entre vectores son hechas componente por componente (producto de Hadamard). con $\\beta_1^t$ and $\\beta_2^t$ se denota la potencia $t$-ésima.\n",
    "\n",
    "A. Incialización de parámetros e hiperparámetros para el algortimo\n",
    "\n",
    "1.  - Requerido: $\\alpha$: Valor de salto (Stepsize)\n",
    "    - Requerido: $\\beta_1^t$ y $\\beta_2^t \\in [0, 1)$. Ratas de decaimiento exponencial para la estimación de los momentos.\n",
    "    - Requerido: $f(\\boldsymbol{\\omega})$: Función de pérdida objetivo con parámetros $\\boldsymbol{\\omega}$.\n",
    "    - Requerido: $\\boldsymbol{\\omega}_0$: Vector de valores iniciales del vector de parámetros.\n",
    "    - $m_0  = 0$. Inicialización del vector momento de primer orden. \n",
    "    - $v_0 =  0$. Inicialización del vector momento de segundo orden.\n",
    "    - $t =  0$. Inicialización del contador de iteraciones.\n",
    "    - N = 100. Máximo de iteraciones.\n",
    "\n",
    "B. Mientras $t<N$ y $||\\omega_t - \\omega_{t-1}||>\\delta$.  Mientras no haya convergencia\n",
    "\n",
    "2. $t  = t + 1$. contador de iteraciones.\n",
    "3. $g_t =  \\nabla f_t(\\omega_{t-1})$.  Gradiente. \n",
    "4. $m_t  = \\beta_1 m_{t−1} + (1 − \\beta_1) g_t$. Vector de  momentos de primer orden.\n",
    "5. $v_t  = \\beta_2 v_{t−1} + (1 − \\beta_2)  g_t^2$. Vector de  momentos de segundo orden.\n",
    "6. - $\\hat{m}_t  = \\frac{m_t}{1 − \\beta_1^t}$. Corrección de sesgo  del vector de momentos de primer orden.\n",
    "   - $\\hat{v}_t  = \\frac{v_t}{1 − \\beta_2^t}$. Corrección de sesgo  del vector de momentos de segundo orden.\n",
    "7. $\\omega_t =   \\omega_{t-1}  - \\alpha  \\frac{\\hat{m}_t}{\\sqrt{\\hat{v}_t + epsilon}}$. Actualización de los parámetros.\n",
    "8. Fin mientras (Repite los pasos 2-7, hasta convergencia)\n"
   ]
  },
  {
   "cell_type": "markdown",
   "metadata": {},
   "source": [
    "### <span style=\"color:#4CC9F0\">Explicación detallada del algortimo</span>"
   ]
  },
  {
   "cell_type": "markdown",
   "metadata": {},
   "source": [
    "A continuación se presenta una explicación paso a paso del algoritmo:\n",
    "\n",
    "1. Inicialización de parámetros: Se inicializan los pesos de la red y se establecen los parámetros del algoritmo Adam. Esto incluye la tasa de aprendizaje inicial, los parámetros de momentum ($\\beta_1$ y $\\beta_2$), el epsilon  ($\\epsilon$) un valor pequeño utilizado para evitar divisiones por cero), y el contador de iteraciones $t$.\n",
    "\n",
    "2. Actualización del contador de iteraciones: El contador de iteraciones se incrementa en uno. \n",
    "\n",
    "3. Cálculo del gradiente: Se selecciona un mini-batch de datos de entrenamiento y se calcula el gradiente de la función de pérdida con respecto a los pesos de la red.\n",
    "\n",
    "4. Cálculo del momento de primer orden: Se calcula una estimación del momento de primer orden, que es la media móvil de los gradientes anteriores. Esto se hace multiplicando el gradiente actual por el parámetro $\\beta_1$  y sumando el resultado con el producto del momento anterior por $1 - \\beta_1$.\n",
    "\n",
    "5. Cálculo del momento de segundo orden: Se calcula una estimación del momento de segundo orden, que es la media móvil de los gradientes al cuadrado anteriores. Esto se hace multiplicando el gradiente actual al cuadrado por el parámetro$\\beta_2$ y sumando el resultado con el producto del momento anterior al cuadrado por $1 - \\beta_2$.\n",
    "\n",
    "6. Corrección de los momentos: Los momentos de primer y segundo orden se corrigen para tener en cuenta el hecho de que los momentos son inicializados en cero y por lo tanto son sesgados hacia cero en las primeras iteraciones. Esto se hace dividiendo cada momento por $\\beta_2^t$ y $1-\\beta_2^t$, respectivamente.\n",
    "\n",
    "7. Actualización de los pesos: Los pesos se actualizan utilizando las estimaciones de momento de primer y segundo orden. Esto se hace multiplicando el momento de primer orden corregido por la tasa de aprendizaje y dividiendo el resultado por la raíz cuadrada del momento de segundo orden corregido más epsilon. Los pesos se actualizan restando el resultado de la actualización de los pesos anteriores.\n",
    "\n",
    "8. Repetir: Se repiten los pasos 2-7 para cada mini-batch de datos de entrenamiento hasta que se haya completado un número predeterminado de iteraciones o alcanzar convergencia."
   ]
  },
  {
   "cell_type": "markdown",
   "metadata": {},
   "source": [
    "## <span style=\"color:blue\">Ejemplo de implementación y uso del algortimo Adam</span>"
   ]
  },
  {
   "cell_type": "markdown",
   "metadata": {},
   "source": [
    "Terminamos esta lección una una implementación completa de un problema de clasificación en dos clases. \n",
    "\n",
    "Para correr los siguientes códigos necesita tener instalado Tensorflow, Matplotlib y Numpy. Revise la siguiente línea y ejecute los comandos según el caso. Instale inicialmente Tensorflow, no necesitara instalar Numpy, porque se instala automáticamente."
   ]
  },
  {
   "cell_type": "code",
   "execution_count": null,
   "metadata": {},
   "outputs": [],
   "source": [
    "# !conda install -c conda-forge tensorflow\n",
    "# !conda install -c conda-forge matplotlib\n",
    "# !conda install -c anaconda numpy"
   ]
  },
  {
   "cell_type": "markdown",
   "metadata": {},
   "source": [
    "### <span style=\"color:#4CC9F0\">Generamos los datos</span>"
   ]
  },
  {
   "cell_type": "markdown",
   "metadata": {},
   "source": [
    "Generamos una muestra de a partir de la distribución normal estándar. En seguida separamos en dos clase, desplazando la mitad de los datos. El desplazamiento es de tamaño 2.5."
   ]
  },
  {
   "cell_type": "code",
   "execution_count": 3,
   "metadata": {},
   "outputs": [
    {
     "data": {
      "image/png": "[encoded data removed]",
      "text/plain": [
       "<Figure size 640x480 with 1 Axes>"
      ]
     },
     "metadata": {},
     "output_type": "display_data"
    }
   ],
   "source": [
    "import matplotlib.pyplot as plt\n",
    "import numpy as np\n",
    "\n",
    "# Generar un conjunto de datos de muestra\n",
    "np.random.seed(0)\n",
    "x = np.random.randn(100, 2)\n",
    "y = np.random.randint(0, 2, (100, 1))\n",
    "\n",
    "# Separar los puntos de datos en dos grupos basados en su clase\n",
    "class_0 = x[y.ravel() == 0]\n",
    "class_1 = x[y.ravel() == 1]\n",
    "class_1 += 2.5\n",
    "\n",
    "# Recodifica la matriz de datos\n",
    "x[y.ravel() == 1] += 2.5\n",
    "\n",
    "# Graficar los puntos de datos\n",
    "plt.scatter(class_0[:, 0], class_0[:, 1], marker='o', color='red', label='Class 0')\n",
    "plt.scatter(class_1[:, 0], class_1[:, 1], marker='x', color='blue', label='Class 1')\n",
    "plt.legend(loc='upper left')\n",
    "plt.xlabel('x1')\n",
    "plt.ylabel('x2')\n",
    "plt.show()\n"
   ]
  },
  {
   "cell_type": "markdown",
   "metadata": {},
   "source": [
    "### <span style=\"color:#4CC9F0\">Clase Adam</span>"
   ]
  },
  {
   "cell_type": "markdown",
   "metadata": {},
   "source": [
    "Compare la implementación siguiente con el algoritmo descrito arriba."
   ]
  },
  {
   "cell_type": "code",
   "execution_count": 4,
   "metadata": {},
   "outputs": [],
   "source": [
    "import numpy as np\n",
    "\n",
    "class Adam:\n",
    "    def __init__(self, learning_rate=0.001, beta1=0.9, beta2=0.999, epsilon=1e-8):\n",
    "        self.learning_rate = learning_rate\n",
    "        self.beta1 = beta1\n",
    "        self.beta2 = beta2\n",
    "        self.epsilon = epsilon\n",
    "        self.m = None\n",
    "        self.v = None\n",
    "        self.t = 0\n",
    "\n",
    "    def update(self, w, grad_wrt_w):\n",
    "        '''\n",
    "        w: vector de parámetros (pesos)\n",
    "        grad_wrt_w: gradiente de la función de pérdida con respecto a w.\n",
    "        '''\n",
    "        if self.m is None:\n",
    "            self.m = np.zeros_like(w)\n",
    "            self.v = np.zeros_like(w)\n",
    "\n",
    "        self.t += 1\n",
    "        self.m = self.beta1 * self.m + (1 - self.beta1) * grad_wrt_w\n",
    "        self.v = self.beta2 * self.v + (1 - self.beta2) * np.square(grad_wrt_w)\n",
    "        m_hat = self.m / (1 - self.beta1**self.t)\n",
    "        v_hat = self.v / (1 - self.beta2**self.t)\n",
    "        w = w - self.learning_rate * m_hat / (np.sqrt(v_hat) + self.epsilon)\n",
    "        return w\n"
   ]
  },
  {
   "cell_type": "markdown",
   "metadata": {},
   "source": [
    "### <span style=\"color:#4CC9F0\">Función predictora. Modelo logístico</span>"
   ]
  },
  {
   "cell_type": "markdown",
   "metadata": {},
   "source": [
    "Para este ejemplo usaremos un modelo logístico como función de predicción. En el problema tenemos dos clases: clase 0 y clase 1, de acuerdo a lo que hicimos previamente. Tenemos dos variables predictoras $x_1$ y $x_2$ respectivamente. El vector predictor se denota $\\mathbf{x}=(x_1,x_2)$.\n",
    "\n",
    "EL vector de parámetro o pesos de nuestro modelo será $\\boldsymbol{\\omega} = (w_1,w_2)$. Este es el vector que deseamos estimar. La función de predicción dada por el modelo logístico es el `sigmoide` definido por:\n",
    "\n",
    "$$\n",
    "\\hat{y} = f(\\mathbf{x}|\\boldsymbol{\\omega}) = \\frac{1}{1 + \\exp{(-\\boldsymbol{\\omega}'\\mathbf{x})}}\n",
    "$$\n",
    "\n",
    "Observe que $\\hat{y}$ es un número real en el intervalo [0,1] que interpretamos como la probabilidad de que la muestra $\\mathbf{x}$ provenga de la clase 1. Para usos prácticos la decisión se toma 'cuidadosamente', así:\n",
    "\n",
    "1. Si $\\hat{y}<0.5$ la muestra $\\mathbf{x}$ proviene de la clase 0.\n",
    "2. Si $\\hat{y}\\ge 0.5$ la muestra $\\mathbf{x}$ proviene de la clase 1.\n",
    "\n"
   ]
  },
  {
   "cell_type": "code",
   "execution_count": null,
   "metadata": {},
   "outputs": [],
   "source": [
    "import tensorflow as tf\n",
    "\n",
    "def sigmoid(w,x):\n",
    "    '''\n",
    "    Función de predictora logística o sigmoide\n",
    "    f_w(x) = 1/(1+ w'x)\n",
    "    '''\n",
    "    y_hat = 1 / (1 + tf.exp(-tf.matmul(x, w))) \n",
    "    return y_hat"
   ]
  },
  {
   "cell_type": "markdown",
   "metadata": {},
   "source": [
    "### <span style=\"color:#4CC9F0\">Función de pérdida. - log verosimilitud</span>"
   ]
  },
  {
   "cell_type": "markdown",
   "metadata": {},
   "source": [
    "La función de perdida en este problema es dada por -log verosimilitud del problema. No se preocupe si no entiende de momento el concepto estadístico de trasfondo. Por esta lección lo importante es saber que esta es la función que vamos a optimizar. \n",
    "\n",
    "Si tenemos variables predictoras $\\mathbf{x}_i$ y etiquetas $y_i$ respectivamente para $i=1,\\ldots,N$, la -log verosimilitud del problema es dada por\n",
    "\n",
    "$$\n",
    "\\mathfrak{L}(\\boldsymbol{\\omega}|\\mathbf{x}) = -\\frac{1}{N}\\sum_{i=1}^N[y_i \\log f(\\mathbf{x}_i|\\boldsymbol{\\omega}) +(1-y_i)(log (1- f(\\mathbf{x}_i|\\boldsymbol{\\omega})] = \\frac{1}{N}\\sum_{i=1}^N[y_i \\log \\hat{y}_i +(1-y_i)(log (1- \\hat{y}_i)]\n",
    "$$"
   ]
  },
  {
   "cell_type": "code",
   "execution_count": 6,
   "metadata": {},
   "outputs": [],
   "source": [
    "def loss_f(y, y_pred):\n",
    "    loss = -tf.reduce_mean(y * tf.math.log(y_pred) + (1 - y) * tf.math.log(1 - y_pred))\n",
    "    return loss"
   ]
  },
  {
   "cell_type": "markdown",
   "metadata": {},
   "source": [
    "### <span style=\"color:#4CC9F0\">Entrenamiento: Optimización</span>"
   ]
  },
  {
   "cell_type": "code",
   "execution_count": 8,
   "metadata": {},
   "outputs": [
    {
     "name": "stdout",
     "output_type": "stream",
     "text": [
      "Epoch 100: loss=0.5970,  accuracy=0.7500\n",
      "Epoch 200: loss=0.5679,  accuracy=0.7500\n",
      "Epoch 300: loss=0.5423,  accuracy=0.7700\n",
      "Epoch 400: loss=0.5201,  accuracy=0.7700\n",
      "Epoch 500: loss=0.5010,  accuracy=0.7900\n",
      "Epoch 600: loss=0.4849,  accuracy=0.7900\n"
     ]
    }
   ],
   "source": [
    "import numpy as np\n",
    "import tensorflow as tf\n",
    "\n",
    "\n",
    "# Inicializar pesos aleatorios y modelo\n",
    "np.random.seed(1)\n",
    "w = tf.Variable(np.random.randn(2, 1))\n",
    "optimizer = Adam()\n",
    "\n",
    "# Bucle de entrenamiento\n",
    "losses = []\n",
    "accuracies = []\n",
    "N = 600\n",
    "for i in range(N):\n",
    "    with tf.GradientTape() as tape:\n",
    "        # Forward pass: calcular la función de pérdida\n",
    "        y_pred = sigmoid(w,x)\n",
    "        loss = loss_f(y, y_pred)\n",
    "    # Backward pass: calcular el gradiente de la función de pérdida con respecto a w\n",
    "    grad = tape.gradient(loss, w)\n",
    "\n",
    "    # Actualizar los pesos utilizando el optimizador Adam\n",
    "    w.assign(optimizer.update(w.numpy(), grad.numpy()))\n",
    "    # Agregar la función de pérdida actual a la lista de pérdidas\n",
    "    losses.append(loss.numpy())\n",
    "    \n",
    "    # Calcula la precisión\n",
    "    y_pred_decode =  np.squeeze((sigmoid(w,x)<0.5)).astype(int)\n",
    "    acc = np.mean(abs(np.squeeze(y) -  y_pred_decode))\n",
    "    accuracies.append(acc)\n",
    "    # imprime en la consola\n",
    "    if (i+1)%100 ==0: \n",
    "        print(f'Epoch {i+1}: loss={loss:.4f},  accuracy={acc:.4f}')"
   ]
  },
  {
   "cell_type": "markdown",
   "metadata": {},
   "source": [
    "### <span style=\"color:#4CC9F0\">Solución del ejemplo</span>"
   ]
  },
  {
   "cell_type": "code",
   "execution_count": 9,
   "metadata": {},
   "outputs": [
    {
     "name": "stdout",
     "output_type": "stream",
     "text": [
      "Vector de pesos w = [[ 1.01464517]\n",
      " [-0.0837136 ]]\n"
     ]
    }
   ],
   "source": [
    "print('Vector de pesos w = {}'.format(w.numpy()))"
   ]
  },
  {
   "cell_type": "markdown",
   "metadata": {},
   "source": [
    "### <span style=\"color:#4CC9F0\">Gráficas de las funciones de pérdida y de la precisión</span>"
   ]
  },
  {
   "cell_type": "code",
   "execution_count": 10,
   "metadata": {},
   "outputs": [
    {
     "data": {
      "image/png": "[encoded data removed]",
      "text/plain": [
       "<Figure size 640x480 with 1 Axes>"
      ]
     },
     "metadata": {},
     "output_type": "display_data"
    }
   ],
   "source": [
    "import matplotlib.pyplot as plt\n",
    "\n",
    "# Graficar la función de pérdida\n",
    "plt.plot(losses)\n",
    "plt.xlabel('Epoca')\n",
    "plt.ylabel('Pérdida')\n",
    "plt.title('Pérdida')\n",
    "plt.show()"
   ]
  },
  {
   "cell_type": "code",
   "execution_count": 11,
   "metadata": {},
   "outputs": [
    {
     "data": {
      "image/png": "[encoded data removed]",
      "text/plain": [
       "<Figure size 640x480 with 1 Axes>"
      ]
     },
     "metadata": {},
     "output_type": "display_data"
    }
   ],
   "source": [
    "import matplotlib.pyplot as plt\n",
    "\n",
    "# Graficar la función de precisión\n",
    "plt.plot(accuracies)\n",
    "plt.xlabel('Epooca')\n",
    "plt.ylabel('Precisión')\n",
    "plt.title('Precisión')\n",
    "plt.show()"
   ]
  },
  {
   "cell_type": "markdown",
   "metadata": {},
   "source": [
    "### <span style=\"color:#4CC9F0\">Bonus: Clase Optim</span>"
   ]
  },
  {
   "cell_type": "markdown",
   "metadata": {},
   "source": [
    "Dejamos como ejercicio completar la siguiente class Optim para el problema"
   ]
  },
  {
   "cell_type": "code",
   "execution_count": 15,
   "metadata": {},
   "outputs": [],
   "source": [
    "class Optim:\n",
    "    def __init__(self, predictor, loss, optimizer,n_iter=500, w0=None, clases=2, delta_print=100):\n",
    "        self.predictor = predictor\n",
    "        self.loss_f = loss\n",
    "        self.optimizer = optimizer\n",
    "        self.N = n_iter\n",
    "        self.delta_print = delta_print\n",
    "        losses = []\n",
    "        accuracies = []\n",
    "        if w0 is None:\n",
    "            self.w = tf.Variable(np.random.randn(clases, 1))\n",
    "        else:\n",
    "            self.w = w0\n",
    "            \n",
    "        \n",
    "    def fit(self):\n",
    "        for i in range(N):\n",
    "            with tf.GradientTape() as tape:\n",
    "                # Forward pass: calcular la función de pérdida\n",
    "                y_pred = self.predictor(w,x)\n",
    "                loss = self.loss_f(y, y_pred)\n",
    "            # Backward pass: calcular el gradiente de la función de pérdida con respecto a w\n",
    "            grad = tape.gradient(loss, w)\n",
    "\n",
    "            # Actualizar los pesos utilizando el optimizador Adam\n",
    "            self.w.assign(optimizer.update(self.w.numpy(), grad.numpy()))\n",
    "            # Agregar la función de pérdida actual a la lista de pérdidas\n",
    "            self.losses.append(loss.numpy())\n",
    "\n",
    "            # Calcula la precisión\n",
    "            y_pred_decode =  np.squeeze((sigmoid(w,x)<0.5)).astype(int)\n",
    "            acc = np.mean(abs(np.squeeze(y) -  y_pred_decode))\n",
    "            self.accuracies.append(acc)\n",
    "            # imprime en la consola\n",
    "            if (i+1)% self.delta_print == 0: \n",
    "                print(f'Epoch {i+1}: loss={loss:.4f},  accuracy={acc:.4f}')\n",
    "        "
   ]
  }
 ],
 "metadata": {
  "kernelspec": {
   "display_name": "Python 3 (ipykernel)",
   "language": "python",
   "name": "python3"
  },
  "language_info": {
   "codemirror_mode": {
    "name": "ipython",
    "version": 3
   },
   "file_extension": ".py",
   "mimetype": "text/x-python",
   "name": "python",
   "nbconvert_exporter": "python",
   "pygments_lexer": "ipython3",
   "version": "3.10.10"
  }
 },
 "nbformat": 4,
 "nbformat_minor": 4
}
