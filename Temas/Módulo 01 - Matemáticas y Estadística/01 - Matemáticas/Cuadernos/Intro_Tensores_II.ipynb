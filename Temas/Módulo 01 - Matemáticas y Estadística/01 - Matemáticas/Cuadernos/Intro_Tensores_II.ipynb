{
 "cells": [
  {
   "cell_type": "markdown",
   "metadata": {},
   "source": [
    "<figure>\n",
    "<img src=\"../Imagenes/logo-final-ap.png\"  width=\"80\" height=\"80\" align=\"left\"/> \n",
    "</figure>\n",
    "\n",
    "# <span style=\"color:#4361EE\"><left>Aprendizaje Profundo</left></span>"
   ]
  },
  {
   "cell_type": "markdown",
   "metadata": {},
   "source": [
    "# <span style=\"color:red\"><center>Diplomado en Inteligencia Artificial y Aprendizaje Profundo</center></span>"
   ]
  },
  {
   "cell_type": "markdown",
   "metadata": {},
   "source": [
    "# <span style=\"color:green\"><center>Jugando con tensores</center></span>\n"
   ]
  },
  {
   "cell_type": "markdown",
   "metadata": {},
   "source": [
    "<figure>\n",
    "<center>\n",
    "<img src=\"https://raw.githubusercontent.com/AprendizajeProfundo/Alejandria/main/Archivos_Generales/Imagenes/Carretera.jpg\" width=\"600\" height=\"400\" align=\"center\" /> \n",
    "</center>   \n",
    "</figure>\n",
    "\n",
    "<center>Fuente: <a href=\"https://sp.depositphotos.com/stock-photos/architecture-buildings.html\">Dubai downtown cityscape - sp.depositphotos.com</a></center>"
   ]
  },
  {
   "cell_type": "markdown",
   "metadata": {},
   "source": [
    "## <span style=\"color:#4361EE\">Profesores</span>"
   ]
  },
  {
   "cell_type": "markdown",
   "metadata": {},
   "source": [
    "1. Alvaro  Montenegro, PhD, ammontenegrod@unal.edu.co\n",
    "1. Camilo José Torres Jiménez, Msc, cjtorresj@unal.edu.co\n",
    "1. Daniel  Montenegro, Msc, dextronomo@gmail.com "
   ]
  },
  {
   "cell_type": "markdown",
   "metadata": {},
   "source": [
    "## <span style=\"color:#4361EE\">Coordinador</span>"
   ]
  },
  {
   "cell_type": "markdown",
   "metadata": {},
   "source": [
    "4. Campo Elías Pardo Turriago, PhD, cepardot@unal.edu.co"
   ]
  },
  {
   "cell_type": "markdown",
   "metadata": {},
   "source": [
    "## <span style=\"color:#4361EE\">Coautores</span>"
   ]
  },
  {
   "cell_type": "markdown",
   "metadata": {},
   "source": [
    "5. Camilo José Torres Jiménez, Msc, cjtorresj@unal.edu.co\n",
    "6. Oleg Jarma, ojarmam@unal.edu.co\n",
    "7. Julieth López, julalopezcas@unal.edu.co"
   ]
  },
  {
   "cell_type": "markdown",
   "metadata": {},
   "source": [
    "## <span style=\"color:#4361EE\">Asesora Medios y Marketing digital</span>"
   ]
  },
  {
   "cell_type": "markdown",
   "metadata": {},
   "source": [
    "8. Maria del Pilar Montenegro, pmontenegro88@gmail.com\n",
    "9. Jessica López Mejía, jelopezme@unal.edu.co"
   ]
  },
  {
   "cell_type": "markdown",
   "metadata": {},
   "source": [
    "## <span style=\"color:#4361EE\">Jefe Jurídica</span>"
   ]
  },
  {
   "cell_type": "markdown",
   "metadata": {},
   "source": [
    "10. Paula Andrea Guzmán, guzmancruz.paula@gmail.com"
   ]
  },
  {
   "cell_type": "markdown",
   "metadata": {},
   "source": [
    "## <span style=\"color:#4361EE\">Coordinador Jurídico</span>"
   ]
  },
  {
   "cell_type": "markdown",
   "metadata": {},
   "source": [
    "11. David Fuentes, fuentesd065@gmail.com"
   ]
  },
  {
   "cell_type": "markdown",
   "metadata": {},
   "source": [
    "## <span style=\"color:#4361EE\">Desarrolladores Principales</span>"
   ]
  },
  {
   "cell_type": "markdown",
   "metadata": {},
   "source": [
    "12. Dairo Moreno, damoralesj@unal.edu.co\n",
    "13. Joan Castro, jocastroc@unal.edu.co\n",
    "14. Bryan Riveros, briveros@unal.edu.co\n",
    "15. Rosmer Vargas, rovargasc@unal.edu.co\n",
    "16. Venus Puertas, vpuertasg@unal.edu.co"
   ]
  },
  {
   "cell_type": "markdown",
   "metadata": {},
   "source": [
    "## <span style=\"color:#4361EE\">Expertos en Bases de Datos</span>"
   ]
  },
  {
   "cell_type": "markdown",
   "metadata": {},
   "source": [
    "17. Giovvani Barrera, udgiovanni@gmail.com\n",
    "18. Camilo Chitivo, cchitivo@unal.edu.co"
   ]
  },
  {
   "cell_type": "markdown",
   "metadata": {},
   "source": [
    "## Introducción"
   ]
  },
  {
   "cell_type": "markdown",
   "metadata": {},
   "source": [
    "En esta lección aprenderemos los conceptos básicos de tensores y como los usamos manipular imágenes."
   ]
  },
  {
   "cell_type": "markdown",
   "metadata": {},
   "source": [
    "## Tensor"
   ]
  },
  {
   "cell_type": "markdown",
   "metadata": {},
   "source": [
    "Un tensor es un concepto matemático que generaliza los conceptos de escalares, vectores y matrices."
   ]
  },
  {
   "cell_type": "markdown",
   "metadata": {},
   "source": [
    "![Tensores](https://miro.medium.com/max/700/1*V83L4ydCdk21tXjP22VjXQ.jpeg)"
   ]
  },
  {
   "cell_type": "markdown",
   "metadata": {},
   "source": [
    "En terminos muy simples, un tensor es un objeto dinámico (*matemáticamente diríamos que es una función entre espacios vectoriales*) que vive dentro de una estructura. \n",
    "\n",
    "Pero no vamos a hacer un tratado matemático aquí. \n",
    "\n",
    "Lo importante en esta clase es entender que en realidad, escalares, vectores, matrices pueden verse como tensores fijos y eso será sufiente para lo que sigue."
   ]
  },
  {
   "cell_type": "markdown",
   "metadata": {},
   "source": [
    "## Rango"
   ]
  },
  {
   "cell_type": "markdown",
   "metadata": {},
   "source": [
    "Diremos que los escalares tienen rango (shape) 0, los vectores tiene rango 1, las matrices tienen rango 2 y el tensor de la derecha rango 3. \n",
    "\n",
    "El rango correponde al número de índices que se requiere para identificar de manera uńica a cada elemento del tensor. \n",
    "\n",
    "Observe que por ejemplo, en el último tensor, requiere (fila, columna, cajón). \n",
    "\n",
    "También podría ser (cajón, fila, columna)."
   ]
  },
  {
   "cell_type": "markdown",
   "metadata": {},
   "source": [
    "## Redes Neuronales "
   ]
  },
  {
   "cell_type": "markdown",
   "metadata": {},
   "source": [
    "La siguiente imagen muestra el estado en un instante de una una parte oculta de una red  neuronal profunda."
   ]
  },
  {
   "cell_type": "markdown",
   "metadata": {},
   "source": [
    "![Fragmento oculto de una red neuronal](https://miro.medium.com/max/496/1*GTdVep66Ln4N4Zd2JnSXbQ.png)\n",
    "\n",
    "[Fuente](https://medium.com/@quantumsteinke/whats-the-difference-between-a-matrix-and-a-tensor-4505fbdc576c)\n",
    "\n"
   ]
  },
  {
   "cell_type": "markdown",
   "metadata": {},
   "source": [
    "El proceso peude modelarse en forma simplificada usando matrices y vectores como se ve a continuación."
   ]
  },
  {
   "cell_type": "markdown",
   "metadata": {},
   "source": [
    "![Version Matemática](https://miro.medium.com/max/700/1*Bxba1gx4ec2h9qe7UNPvMg.png)\n",
    "\n",
    "[Fuente](https://medium.com/@quantumsteinke/whats-the-difference-between-a-matrix-and-a-tensor-4505fbdc576c)"
   ]
  },
  {
   "cell_type": "markdown",
   "metadata": {},
   "source": [
    "Observe por ejemplo que $$-1\\times 2.5 + 0.4\\times 4  + 1.5\\times 1.2 = 0.9$$"
   ]
  },
  {
   "cell_type": "markdown",
   "metadata": {},
   "source": [
    "En la fase de entranamiento de la red neuronal, los pesos de la matriz se van modificando hasta que se encuentra un óptimo local. Este proceso occurre en todo la estructura de la red.\n",
    "\n",
    "Por lo que no parece extraño que las GPU y las  TPU pasen todo el tiempo haciendo operaciones de este tipo, que al final se reduce a sumas y multiplicaciones.\n",
    "\n",
    "Por otro lado, lo que ocurre es que los objetos que se procesan no necesariamente son vectores como en el ejemplo, y esto lleva a la necesidad de generalizar los conceptos.\n",
    "\n",
    "Una representación mas adecuada a la realidad es la siguiente."
   ]
  },
  {
   "cell_type": "markdown",
   "metadata": {},
   "source": [
    "![Representación más realista](https://cdn-images-1.medium.com/max/800/0*oTsCkyvpRJVybDOr.)\n",
    "[Fuente](https://www.kdnuggets.com/2017/02/anatomy-deep-learning-frameworks.html)"
   ]
  },
  {
   "cell_type": "markdown",
   "metadata": {},
   "source": [
    "## Producto tensorial"
   ]
  },
  {
   "cell_type": "markdown",
   "metadata": {},
   "source": [
    "La operación mas ejecutado en aprendizaje profundo es el producto tensorial.\n",
    "\n",
    "Vamos a suponer que cada elemento en los tensores de rango 3 se indexan mediante coordenadas (fila, columna, profundidad) y que los tensores de rango 3 se indexan como (fila, columna).\n",
    "\n",
    "La siguiente imagen ilustra la forma de un producto tensorial. \n",
    "\n",
    "- A la izquierda (rojo) se tiene un tensor de tamaño digamos $n \\times p \\times s$. \n",
    "\n",
    "- El tensor que está operando en el centro (violeta) es  de tamaño $p \\times r$. Es operando actua en este caso sobre cada capa del tensor de la izquierda haciendo un producto usual de matrices. \n",
    "\n",
    "- Por lo que el tensor resultante (turquesa) a la derecha tiene tamaño $n \\times r \\times s$\n",
    "\n"
   ]
  },
  {
   "cell_type": "markdown",
   "metadata": {},
   "source": [
    "![Producto Tensorial](https://deeplizard.com/assets/png/75360213.png)\n",
    "[Fuente](https://deeplizard.com/learn/video/fCVuiW9AFzY)"
   ]
  },
  {
   "cell_type": "markdown",
   "metadata": {},
   "source": [
    "## Explicación del producto"
   ]
  },
  {
   "cell_type": "markdown",
   "metadata": {},
   "source": [
    "La explicación del proceso es la siguiente:\n",
    "\n",
    "Cada capa frontal del tensor rojo es multiplica por el tensor violeta y el resultado es colocando como una capa frontal en el tensor resultante (turquesa).\n",
    "\n",
    "Cada multiplicación es entre dos matrices (rojo * morado) y el resultado es una matriz (turquesa).\n",
    "\n",
    "Cada multiplicacion de matrices se hace por la fórmula fila(matriz roja) * columna (matriz morada)\n",
    "\n",
    "Vamos por ejemplo a suponer que una capa roja es $ rojo  = \\begin{pmatrix} 1 & 2\\\\ 3 & 4\\end{pmatrix}$, $violeta = \\begin{pmatrix} 5 & 10\\\\ 20 & 30\\end{pmatrix}$\n",
    "\n",
    "Entonces se tiene que \n",
    "\n",
    "$$\n",
    "rojo \\times violeta = \\begin{pmatrix} 1 & 2\\\\ 3 & 4\\end{pmatrix} \\times \\begin{pmatrix} 5 & 10\\\\ 20 & 30\\end{pmatrix} = \\begin{pmatrix} 1\\times 5 + 2 \\times 20 & 1 \\times 10 + 2\\times 30\n",
    "\\\\ 3\\times 5 + 4 \\times 20 & 3 \\times 10 + 4 \\times 30\\end{pmatrix} = turquesa\n",
    "$$\n",
    "\n"
   ]
  },
  {
   "cell_type": "markdown",
   "metadata": {},
   "source": [
    "## Las Imágenes a color"
   ]
  },
  {
   "cell_type": "markdown",
   "metadata": {},
   "source": [
    "De manera clásica una imagen a color está compuesta de tres colores primarios: rojo (Red), verde (Green) y azul (Blue). Paar generar una imagen a color un computador maneja tres planos de color, los cuales son controlados desde tensores tridimensionales. Considere el siguiente ejemplo."
   ]
  },
  {
   "cell_type": "markdown",
   "metadata": {},
   "source": [
    "\n",
    "![RGB](https://image.slidesharecdn.com/tensordecomposition-170301235239/95/a-brief-survey-of-tensors-5-638.jpg)\n",
    "\n",
    "\n",
    "[Fuente](https://image.slidesharecdn.com/tensordecomposition-170301235239/95/a-brief-survey-of-tensors-5-638.jpg)"
   ]
  },
  {
   "cell_type": "markdown",
   "metadata": {},
   "source": [
    "Cada pixel (punto) de la imagen es representado por una valor nuḿerico en el rango de 0 a 255, o en rango de valores reales entre cero y 1."
   ]
  },
  {
   "cell_type": "markdown",
   "metadata": {},
   "source": [
    "## Construcción aleatoria de una imagen"
   ]
  },
  {
   "cell_type": "markdown",
   "metadata": {},
   "source": [
    "Considere el siguiente código Python."
   ]
  },
  {
   "cell_type": "code",
   "execution_count": 1,
   "metadata": {},
   "outputs": [
    {
     "name": "stdout",
     "output_type": "stream",
     "text": [
      "[[[ 77  13  23  64  45 198  44 240 225 118]\n",
      "  [ 54  61  72 207  37 241 248 220  27  40]\n",
      "  [165  52 142 134  95 209  28  89 100 132]\n",
      "  [ 61 199 253  31   4  60  59 251 130 118]\n",
      "  [ 49 192 223  47 113 237 155  27 179 164]\n",
      "  [ 65 176 182   6  15 239  83  42  70  53]\n",
      "  [221 101  17  89  65 225 141 117 177  75]\n",
      "  [253 244 185  98  14 239 195 134  79  35]\n",
      "  [209 105  78 106 134 177 157 223 119  97]\n",
      "  [241 170 220 227 143 173 138 128 148   9]]\n",
      "\n",
      " [[182 149  38 221 233 208  99 181 100 240]\n",
      "  [ 29  57 128 114 236 204  19 159   1  19]\n",
      "  [ 69  23 195  35  65 162  21 248  36 165]\n",
      "  [207  59 114 245  27  91  61 239 146  60]\n",
      "  [ 74  64  51  88 118 143  74 136 166 236]\n",
      "  [ 11 240 196   5 131  43 204 245 136 198]\n",
      "  [ 69  13 238 110 150 219 139 150 174  45]\n",
      "  [ 28  17  63 130  42 113 140  54 180   0]\n",
      "  [  5  60  27  46  75 152  95  67 229 107]\n",
      "  [ 60 100  98 141 145 235 122 216  65 188]]\n",
      "\n",
      " [[ 55  75 157  38  19 185 146 129  64 153]\n",
      "  [ 69 164 169  56  71 190  83 251  36  99]\n",
      "  [211 135 207  47  41 162 189 189 233 134]\n",
      "  [170  63  55 116  59 169 105  52 116 197]\n",
      "  [ 83 125 172 139 124 143 162 225 165  58]\n",
      "  [180  55 226  34  14  68 140 203  25  64]\n",
      "  [231  31  40 155 127 201 173 169 225 165]\n",
      "  [117  50 200  53  36 127 167 165  58  91]\n",
      "  [ 67  14   7  62 161 196  40 195 115  62]\n",
      "  [203  68 193  31  58 133 194 181 174  45]]]\n"
     ]
    }
   ],
   "source": [
    "import numpy as np\n",
    "I=np.random.randint(0,255,size=(3,10,10))\n",
    "print(I)"
   ]
  },
  {
   "cell_type": "markdown",
   "metadata": {},
   "source": [
    "Este tensor representa una imagen de tamaño $10 \\times 10$. Son tres planos de color $10 \\times 10$.\n",
    "\n",
    "Observe que la primera dimensión corresponde a cada plano de color y las restantes dos dimensiones a las intensidades de cada color para cada punto.\n",
    "\n",
    "Renderizar (dibujar en este caso), nos lleva a la siguiente imagen"
   ]
  },
  {
   "cell_type": "code",
   "execution_count": 2,
   "metadata": {},
   "outputs": [
    {
     "data": {
      "image/png": "[encoded data removed]",
      "text/plain": [
       "<Figure size 432x288 with 1 Axes>"
      ]
     },
     "metadata": {
      "needs_background": "light"
     },
     "output_type": "display_data"
    }
   ],
   "source": [
    "# conda install -c conda-forge matplotlib\n",
    "import matplotlib.pyplot as plt\n",
    "\n",
    "plt.imshow(I.T)\n",
    "plt.show()\n"
   ]
  },
  {
   "cell_type": "markdown",
   "metadata": {},
   "source": [
    "Observe que "
   ]
  },
  {
   "cell_type": "code",
   "execution_count": 3,
   "metadata": {},
   "outputs": [
    {
     "data": {
      "text/plain": [
       "(10, 10, 3)"
      ]
     },
     "execution_count": 3,
     "metadata": {},
     "output_type": "execute_result"
    }
   ],
   "source": [
    "(I.T).shape"
   ]
  },
  {
   "cell_type": "markdown",
   "metadata": {},
   "source": [
    "Porque Python mnaneja las imagenes en este formato: Fila, columna y plano de color."
   ]
  },
  {
   "cell_type": "markdown",
   "metadata": {},
   "source": [
    "## Imagen real"
   ]
  },
  {
   "cell_type": "markdown",
   "metadata": {},
   "source": [
    "Vamos a trabajar ahora con una imagen real."
   ]
  },
  {
   "cell_type": "code",
   "execution_count": 4,
   "metadata": {},
   "outputs": [
    {
     "ename": "ModuleNotFoundError",
     "evalue": "No module named 'skimage'",
     "output_type": "error",
     "traceback": [
      "\u001b[0;31m---------------------------------------------------------------------------\u001b[0m",
      "\u001b[0;31mModuleNotFoundError\u001b[0m                       Traceback (most recent call last)",
      "Input \u001b[0;32mIn [4]\u001b[0m, in \u001b[0;36m<cell line: 5>\u001b[0;34m()\u001b[0m\n\u001b[1;32m      2\u001b[0m \u001b[38;5;28;01mimport\u001b[39;00m \u001b[38;5;21;01mmatplotlib\u001b[39;00m\u001b[38;5;21;01m.\u001b[39;00m\u001b[38;5;21;01mpyplot\u001b[39;00m \u001b[38;5;28;01mas\u001b[39;00m \u001b[38;5;21;01mplt\u001b[39;00m\n\u001b[1;32m      4\u001b[0m \u001b[38;5;66;03m# conda install -c anaconda scikit-image\u001b[39;00m\n\u001b[0;32m----> 5\u001b[0m \u001b[38;5;28;01mfrom\u001b[39;00m \u001b[38;5;21;01mskimage\u001b[39;00m \u001b[38;5;28;01mimport\u001b[39;00m data\n\u001b[1;32m      6\u001b[0m \u001b[38;5;28;01mfrom\u001b[39;00m \u001b[38;5;21;01mskimage\u001b[39;00m\u001b[38;5;21;01m.\u001b[39;00m\u001b[38;5;21;01mcolor\u001b[39;00m \u001b[38;5;28;01mimport\u001b[39;00m rgb2gray\n\u001b[1;32m      8\u001b[0m original \u001b[38;5;241m=\u001b[39m data\u001b[38;5;241m.\u001b[39mastronaut()\n",
      "\u001b[0;31mModuleNotFoundError\u001b[0m: No module named 'skimage'"
     ]
    }
   ],
   "source": [
    "import numpy as np\n",
    "import matplotlib.pyplot as plt\n",
    "\n",
    "# conda install -c anaconda scikit-image\n",
    "from skimage import data\n",
    "from skimage.color import rgb2gray\n",
    "\n",
    "original = data.astronaut()\n",
    "grayscale = rgb2gray(original)\n",
    "\n",
    "fig, axes = plt.subplots(1, 2, figsize=(8, 4))\n",
    "ax = axes.ravel()\n",
    "\n",
    "ax[0].imshow(original)\n",
    "ax[0].set_title(\"Original\")\n",
    "ax[1].imshow(grayscale, cmap=plt.cm.gray)\n",
    "ax[1].set_title(\"Grayscale\")\n",
    "\n",
    "fig.tight_layout()\n",
    "plt.show()"
   ]
  },
  {
   "cell_type": "code",
   "execution_count": null,
   "metadata": {},
   "outputs": [],
   "source": [
    "Idata=np.array(grayscale)\n",
    "print(\"\\nLa imagen tiene forma: \",Idata.shape,\"\\n\")\n",
    "print(Idata)"
   ]
  },
  {
   "cell_type": "markdown",
   "metadata": {},
   "source": [
    "## "
   ]
  },
  {
   "cell_type": "markdown",
   "metadata": {},
   "source": [
    "## Planos de color"
   ]
  },
  {
   "cell_type": "code",
   "execution_count": null,
   "metadata": {},
   "outputs": [],
   "source": [
    "Idata = np.array(original)\n",
    "print(\"\\nLa imagen tiene forma: \",Idata.shape,\"\\n\")\n",
    "print(\"\\nEscala de Rojos:\\n\\n\",Idata[:511,:511,0],\"\\n\")\n",
    "print(\"\\nEscala de Verdes:\\n\\n\",Idata[:511,:511,1],\"\\n\")\n",
    "print(\"\\nEscala de Azules:\\n\\n\",Idata[:511,:511,2],\"\\n\")"
   ]
  },
  {
   "cell_type": "code",
   "execution_count": null,
   "metadata": {},
   "outputs": [],
   "source": [
    "fig, (ax1, ax2,ax3) = plt.subplots(1, 3,figsize=(15,15))\n",
    "\n",
    "ax1.imshow(Idata[:,:,0],cmap=\"Reds\")\n",
    "ax1.set_xlabel('Red')\n",
    "ax2.imshow(Idata[:,:,1],cmap=\"Greens\")\n",
    "ax2.set_xlabel('Green')\n",
    "ax3.imshow(Idata[:,:,2],cmap=\"Blues\")\n",
    "ax3.set_xlabel('Blue')\n",
    "plt.show()"
   ]
  },
  {
   "cell_type": "markdown",
   "metadata": {},
   "source": [
    "## Manipulación  de imágenes"
   ]
  },
  {
   "cell_type": "markdown",
   "metadata": {},
   "source": [
    "### Intercambia dos planos de color"
   ]
  },
  {
   "cell_type": "code",
   "execution_count": null,
   "metadata": {},
   "outputs": [],
   "source": [
    "import numpy as np\n",
    "import matplotlib.pyplot as plt\n",
    "\n",
    "from skimage import data\n",
    "from skimage.color import rgb2gray\n",
    "\n",
    "original = data.astronaut()\n",
    "\n",
    "Idata_m = Idata\n",
    "Idata_m[:,:,0], Idata_m[:,:,2] = Idata_m[:,:,2], Idata_m[:,:,0]\n",
    "\n",
    "fig, axes = plt.subplots(1, 2, figsize=(8, 4))\n",
    "ax = axes.ravel()\n",
    "\n",
    "ax[0].imshow(original)\n",
    "ax[0].set_title(\"Original\")\n",
    "ax[1].imshow(Idata_m)\n",
    "ax[1].set_title(\"Modificada\")\n",
    "\n",
    "fig.tight_layout()\n",
    "plt.show()"
   ]
  },
  {
   "cell_type": "markdown",
   "metadata": {},
   "source": [
    "### suma un constante a la imagen"
   ]
  },
  {
   "cell_type": "code",
   "execution_count": null,
   "metadata": {},
   "outputs": [],
   "source": [
    "\n",
    "fig, axes = plt.subplots(1, 2, figsize=(8, 4))\n",
    "ax = axes.ravel()\n",
    "\n",
    "k = 10\n",
    "ax[0].imshow(original)\n",
    "ax[0].set_title(\"Original\")\n",
    "ax[1].imshow(original + k)\n",
    "ax[1].set_title(\"Modificada\")\n",
    "\n",
    "fig.tight_layout()\n",
    "plt.show()"
   ]
  },
  {
   "cell_type": "code",
   "execution_count": null,
   "metadata": {},
   "outputs": [],
   "source": [
    "fig, axes = plt.subplots(1, 2, figsize=(8, 4))\n",
    "ax = axes.ravel()\n",
    "\n",
    "k = 2\n",
    "ax[0].imshow(original)\n",
    "ax[0].set_title(\"Original\")\n",
    "ax[1].imshow(original //k)\n",
    "ax[1].set_title(\"Modificada\")\n",
    "\n",
    "fig.tight_layout()\n",
    "plt.show()"
   ]
  },
  {
   "cell_type": "code",
   "execution_count": null,
   "metadata": {},
   "outputs": [],
   "source": [
    "Idata_m = Idata\n",
    "\n",
    "Idata_m[:,:,0 ]=0\n",
    "\n",
    "fig, axes = plt.subplots(1, 2, figsize=(8, 4))\n",
    "ax = axes.ravel()\n",
    "\n",
    "ax[0].imshow(original)\n",
    "ax[0].set_title(\"Original\")\n",
    "ax[1].imshow(Idata_m)\n",
    "ax[1].set_title(\"Modificada\")\n",
    "\n",
    "fig.tight_layout()\n",
    "plt.show()"
   ]
  },
  {
   "cell_type": "code",
   "execution_count": null,
   "metadata": {},
   "outputs": [],
   "source": [
    "Idata"
   ]
  },
  {
   "cell_type": "code",
   "execution_count": null,
   "metadata": {},
   "outputs": [],
   "source": [
    "fig, axes = plt.subplots(1, 2, figsize=(8, 4))\n",
    "ax = axes.ravel()\n",
    "ax[0].imshow(original)\n",
    "ax[0].set_title(\"Original\")\n",
    "ax[1].imshow(255 - Idata)\n",
    "ax[1].set_title(\"Modificada\")\n",
    "\n",
    "fig.tight_layout()\n",
    "plt.show()"
   ]
  },
  {
   "cell_type": "markdown",
   "metadata": {},
   "source": [
    "## Colocar dos imagenes en un tensor"
   ]
  },
  {
   "cell_type": "markdown",
   "metadata": {},
   "source": [
    "Esta es una forma para organizar conjuntos de imagenes en un único tensor"
   ]
  },
  {
   "cell_type": "code",
   "execution_count": null,
   "metadata": {},
   "outputs": [],
   "source": [
    "original= np.expand_dims(original,axis=0)"
   ]
  },
  {
   "cell_type": "code",
   "execution_count": null,
   "metadata": {},
   "outputs": [],
   "source": [
    "original.shape"
   ]
  },
  {
   "cell_type": "code",
   "execution_count": null,
   "metadata": {},
   "outputs": [],
   "source": [
    "Idata_m= np.expand_dims(Idata_m,axis=0)"
   ]
  },
  {
   "cell_type": "code",
   "execution_count": null,
   "metadata": {},
   "outputs": [],
   "source": [
    "images = np.concatenate((original, Idata_m),axis=0)\n"
   ]
  },
  {
   "cell_type": "code",
   "execution_count": null,
   "metadata": {},
   "outputs": [],
   "source": [
    "images.shape"
   ]
  },
  {
   "cell_type": "code",
   "execution_count": null,
   "metadata": {},
   "outputs": [],
   "source": [
    "fig, axes = plt.subplots(1, 2, figsize=(8, 4))\n",
    "ax = axes.ravel()\n",
    "ax[0].imshow(images[0])\n",
    "ax[0].set_title(\"Original\")\n",
    "ax[1].imshow(images[1])\n",
    "ax[1].set_title(\"Modificada\")\n",
    "\n",
    "fig.tight_layout()\n",
    "plt.show()"
   ]
  },
  {
   "cell_type": "markdown",
   "metadata": {},
   "source": [
    "[Regresar al inicio](#Contenido)"
   ]
  },
  {
   "cell_type": "markdown",
   "metadata": {},
   "source": [
    "## Trasformaciones afines"
   ]
  },
  {
   "cell_type": "markdown",
   "metadata": {},
   "source": [
    "En este ejemplo usaremos la librería opencv.\n",
    "\n",
    "Esta es la imagen original tomada de [omes-va.com](https://omes-va.com/trasladar-rotar-escalar-recortar-una-imagen-opencv/). Código tomado del mismo sitio."
   ]
  },
  {
   "cell_type": "code",
   "execution_count": null,
   "metadata": {},
   "outputs": [],
   "source": [
    "import numpy as np\n",
    "import cv2\n",
    "image = cv2.imread('../Imagenes/ave.jpg')\n",
    "cv2.imshow('Imagen de entrada',image)\n",
    "cv2.waitKey(0)\n",
    "cv2.destroyAllWindows()"
   ]
  },
  {
   "cell_type": "markdown",
   "metadata": {},
   "source": [
    "## Translación"
   ]
  },
  {
   "cell_type": "markdown",
   "metadata": {},
   "source": [
    "$$\n",
    "M =\\begin{pmatrix} 1 & 0 & Tx\\\\\n",
    "0 & 1 & Ty\n",
    "\\end{pmatrix}\n",
    "$$\n",
    "\n",
    "- Tx, representa el desplazamiento en x.\n",
    "\n",
    "- Ty, representa el desplazamiento en y.\n",
    "\n"
   ]
  },
  {
   "cell_type": "code",
   "execution_count": null,
   "metadata": {},
   "outputs": [],
   "source": [
    "# Translación\n",
    "ancho = image.shape[1] #columnas\n",
    "alto = image.shape[0] # filas\n",
    "# Traslación\n",
    "M = np.float32([[1,0,100],[0,1,150]])\n",
    "imageOut = cv2.warpAffine(image,M,(ancho,alto))\n",
    "cv2.imshow('Imagen de entrada',image)\n",
    "cv2.imshow('Imagen de salida',imageOut)\n",
    "cv2.waitKey(0)\n",
    "cv2.destroyAllWindows()"
   ]
  },
  {
   "cell_type": "markdown",
   "metadata": {},
   "source": [
    "## Rotación "
   ]
  },
  {
   "cell_type": "markdown",
   "metadata": {},
   "source": [
    "$$\n",
    "M =\\begin{pmatrix} \\cos \\theta & -\\sin \\theta & 0\\\\\n",
    "\\cos \\theta & \\sin \\theta & 1\\\\\n",
    "0 & 0  & 1\n",
    "\\end{pmatrix}\n",
    "$$\n",
    "\n",
    "- $\\theta$ representa el ángulo de rotación. En este ejemplo $\\theta = \\pi/4$ 0 lo que es lo mismo $45^o$."
   ]
  },
  {
   "cell_type": "code",
   "execution_count": null,
   "metadata": {},
   "outputs": [],
   "source": [
    "# rotación\n",
    "ancho = image.shape[1] #columnas\n",
    "alto = image.shape[0] # filas\n",
    "\n",
    "M = cv2.getRotationMatrix2D((ancho//2,alto//2),15,1)\n",
    "imageOut = cv2.warpAffine(image,M,(ancho,alto))\n",
    "cv2.imshow('Imagen de entrada',image)\n",
    "cv2.imshow('Imagen de salida',imageOut)\n",
    "cv2.waitKey(0)\n",
    "cv2.destroyAllWindows()\n"
   ]
  },
  {
   "cell_type": "code",
   "execution_count": null,
   "metadata": {},
   "outputs": [],
   "source": [
    "image.shape"
   ]
  }
 ],
 "metadata": {
  "kernelspec": {
   "display_name": "Python 3 (ipykernel)",
   "language": "python",
   "name": "python3"
  },
  "language_info": {
   "codemirror_mode": {
    "name": "ipython",
    "version": 3
   },
   "file_extension": ".py",
   "mimetype": "text/x-python",
   "name": "python",
   "nbconvert_exporter": "python",
   "pygments_lexer": "ipython3",
   "version": "3.10.6"
  },
  "toc-autonumbering": false
 },
 "nbformat": 4,
 "nbformat_minor": 4
}
