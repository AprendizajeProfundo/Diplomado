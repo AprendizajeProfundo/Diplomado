{
 "cells": [
  {
   "cell_type": "markdown",
   "id": "bd653d9c-68a7-464f-afd6-bfac57a63313",
   "metadata": {
    "slideshow": {
     "slide_type": "slide"
    },
    "tags": []
   },
   "source": [
    "<figure>\n",
    "<img src=\"../Imagenes/logo-final-ap.png\"  width=\"80\" height=\"80\" align=\"left\"/> \n",
    "</figure>\n",
    "\n",
    "# <span style=\"color:blue\"><left>Aprendizaje Profundo</left></span>"
   ]
  },
  {
   "cell_type": "markdown",
   "id": "6ed82eab-5e11-4aae-aa67-2c9743da4a3b",
   "metadata": {},
   "source": [
    "# <span style=\"color:red\"><center>Web Scraping</center></span>"
   ]
  },
  {
   "cell_type": "markdown",
   "id": "c3e3c99b-d525-4a2b-ba5b-49d16cd8156a",
   "metadata": {},
   "source": [
    "<center>Introducción</center>"
   ]
  },
  {
   "cell_type": "markdown",
   "id": "dd24783b-8f3e-4905-94c7-2e21c5462ca0",
   "metadata": {
    "slideshow": {
     "slide_type": "slide"
    },
    "tags": []
   },
   "source": [
    "<figure>\n",
    "<center>\n",
    "<img src=\"../Imagenes/web_scraping.jpeg\" width=\"800\" height=\"800\" align=\"center\" /> \n",
    "</center>\n",
    "</figure>\n",
    "\n",
    "Fuente: [Ilya Pavlov](https://unsplash.com/photos/OqtafYT5kTw)"
   ]
  },
  {
   "cell_type": "markdown",
   "id": "c10b1383-1583-4d81-9f45-8c63c6d29cc0",
   "metadata": {
    "slideshow": {
     "slide_type": "slide"
    },
    "tags": []
   },
   "source": [
    "##   <span style=\"color:blue\">Profesores</span>"
   ]
  },
  {
   "cell_type": "markdown",
   "id": "5a7fe4b8-4369-4dca-9361-7e243a7ee82d",
   "metadata": {
    "tags": []
   },
   "source": [
    "### Coordinador"
   ]
  },
  {
   "cell_type": "markdown",
   "id": "10738a8e-2d00-485f-be05-8d2bcdcaf9fa",
   "metadata": {
    "tags": []
   },
   "source": [
    "- Campo Elías Pardo, PhD, cepardot@unal.edu.co"
   ]
  },
  {
   "cell_type": "markdown",
   "id": "5c25b19c-dcf9-416c-8393-e7516a923ba7",
   "metadata": {
    "tags": []
   },
   "source": [
    "### Conferencistas"
   ]
  },
  {
   "cell_type": "markdown",
   "id": "00c5c7f4-afb8-4003-bfda-fef4ae76d1da",
   "metadata": {},
   "source": [
    "- Alvaro  Montenegro, PhD, ammontenegrod@unal.edu.co\n",
    "- Daniel  Montenegro, Msc, dextronomo@gmail.com \n",
    "- Oleg Jarma, Estadístico, ojarmam@unal.edu.co "
   ]
  },
  {
   "cell_type": "markdown",
   "id": "d8546959-513f-45cb-a3e0-ebbb61cd173b",
   "metadata": {
    "slideshow": {
     "slide_type": "subslide"
    },
    "tags": []
   },
   "source": [
    "##   <span style=\"color:blue\">Asesora Medios y Marketing digital</span>\n",
    " "
   ]
  },
  {
   "cell_type": "markdown",
   "id": "b7a742f2-3282-405c-b29d-9c2d4bf1dd5e",
   "metadata": {
    "tags": []
   },
   "source": [
    "- Maria del Pilar Montenegro, pmontenegro88@gmail.com "
   ]
  },
  {
   "cell_type": "markdown",
   "id": "8f54faab-730d-438e-b156-e1ec35c03b3d",
   "metadata": {
    "slideshow": {
     "slide_type": "subslide"
    },
    "tags": []
   },
   "source": [
    "## <span style=\"color:blue\">Asistentes</span>"
   ]
  },
  {
   "cell_type": "markdown",
   "id": "5b59a3cf-349d-411d-87cb-2f997aa1c8a1",
   "metadata": {},
   "source": [
    "- Nayibe Yesenia Arias, naariasc@unal.edu.co\n",
    "- Venus Celeste Puertas, vpuertasg@unal.edu.co "
   ]
  },
  {
   "cell_type": "markdown",
   "id": "0fab7322-aa45-4a2b-897d-cd49f7e6beef",
   "metadata": {
    "slideshow": {
     "slide_type": "subslide"
    },
    "tags": []
   },
   "source": [
    "## <span style=\"color:blue\">Referencias</span>"
   ]
  },
  {
   "cell_type": "markdown",
   "id": "49dc1511-11a7-4136-987c-3893cf036e99",
   "metadata": {},
   "source": [
    "1. [Alvaro Montenegro y Daniel Montenegro, Inteligencia Artificial y Aprendizaje Profundo, 2021](https://github.com/AprendizajeProfundo/Diplomado)\n",
    "1. [Unesco: educación e inteligencia artificial](https://es.unesco.org/themes/tic-educacion/inteligencia-artificial)"
   ]
  },
  {
   "cell_type": "markdown",
   "id": "9fe41794-71ef-4cdb-95c2-7f1754c743e9",
   "metadata": {
    "slideshow": {
     "slide_type": "slide"
    },
    "tags": []
   },
   "source": [
    "## <span style=\"color:blue\">Contenido</span>"
   ]
  },
  {
   "cell_type": "markdown",
   "id": "4525c44b-c154-403f-a529-b631904b87bf",
   "metadata": {},
   "source": [
    "* [¿Qué es Web Scraping?](#¿Qué-es-Web-Scraping?)\n",
    "* [Brevísima Introducción a HTML](#Brevísima-Introducción-a-HTML)\n",
    "* [Scraper de Noticias de Google News](#Scraper-de-Noticias-de-Google-News)\n",
    "* [Accediendo al contenido de Noticias](#Accediendo-al-contenido-de-Noticias)\n",
    "    * [Beautiful Soup](#Beautiful-Soup)\n",
    "    * [Limpieza Básica usando expresiones regulares](#Limpieza-Básica-usando-expresiones-regulares)\n",
    "    * [Uniendo Piezas](#Uniendo-Piezas)\n",
    "    * [Ir más allá](#Ir-más-allá)\n",
    "* [Reto](#Reto)"
   ]
  },
  {
   "cell_type": "markdown",
   "id": "07071bad-76a6-44c9-9ff2-be3a1762643c",
   "metadata": {
    "slideshow": {
     "slide_type": "slide"
    },
    "tags": []
   },
   "source": [
    "## <span style=\"color:blue\">¿Qué es Web Scraping?</span> "
   ]
  },
  {
   "cell_type": "markdown",
   "id": "c93224aa-df15-402f-98a7-57f9810f0366",
   "metadata": {},
   "source": [
    "**Web scraping** o raspado web, es una técnica utilizada mediante programas de software para extraer información de sitios web.\n",
    "\n",
    "La razón de utilizar ésta técnica puede deberse a la incapacidad de obtención de información de manera directa en forma estructurada.\n",
    "\n",
    "Usualmente, estos programas simulan la navegación de un humano en la World Wide Web ya sea utilizando el protocolo HTTP manualmente, o incrustando un navegador en una aplicación.\n",
    "\n",
    "Web scraping es el proceso de recopilar información de forma automática de la Web.\n",
    "\n",
    "Es un campo con desarrollos activos, compartiendo un propósito en común con la visión de la Web semántica.\n",
    "\n",
    "Utiliza soluciones prácticas basadas en tecnologías existentes que son comúnmente ad hoc."
   ]
  },
  {
   "cell_type": "markdown",
   "id": "b280e131-b01b-4074-bcf7-97ae5b4dab05",
   "metadata": {},
   "source": [
    "[[Volver al inicio]](#Contenido)"
   ]
  },
  {
   "cell_type": "markdown",
   "id": "b12ec725-ba25-4e95-99bb-080f4c1d5b6a",
   "metadata": {
    "slideshow": {
     "slide_type": "slide"
    },
    "tags": []
   },
   "source": [
    "## <span style=\"color:blue\">Brevísima Introducción a HTML</span>"
   ]
  },
  {
   "cell_type": "markdown",
   "id": "1b9241da-fd62-48be-b516-51b7ac16a77c",
   "metadata": {},
   "source": [
    "```\n",
    "<!DOCTYPE html>\n",
    "<html>\n",
    "<head>\n",
    "<title>Esto es para divertirnos</title>\n",
    "</head>\n",
    "<body>\n",
    "\n",
    "<h1>Mi primera página web</h1>\n",
    "<p>Escribiré un párrafo... Algún día.</p>\n",
    "\n",
    "</body>\n",
    "</html>\n",
    "```"
   ]
  },
  {
   "cell_type": "markdown",
   "id": "2c66964d-0e61-48d4-b0b3-f6e95c2e71b6",
   "metadata": {},
   "source": [
    "**Observemos la renderización de dicho código HTML anterior en este Notebook**"
   ]
  },
  {
   "cell_type": "markdown",
   "id": "ac16558f-8e73-463a-ab24-1978bb7ef144",
   "metadata": {},
   "source": [
    "---\n",
    "<!DOCTYPE html>\n",
    "<html>\n",
    "<head>\n",
    "<title>Esto es para divertirnos</title>\n",
    "</head>\n",
    "<body>\n",
    "\n",
    "<h1>Mi primera página web</h1>\n",
    "<p>Escribiré un párrafo... Algún día.</p>\n",
    "\n",
    "</body>\n",
    "</html>\n",
    "\n",
    "---"
   ]
  },
  {
   "cell_type": "markdown",
   "id": "5cea9a36-ef24-4939-99e6-61b98b76718e",
   "metadata": {},
   "source": [
    "Partes Fundamentales:\n",
    "\n",
    "- ```\n",
    "<!DOCTYPE html>\n",
    "```` \n",
    "\n",
    "Declaración que define que este documento es un documento HTML5.\n",
    "\n",
    "- ```\n",
    "<html>\n",
    "```` \n",
    "\n",
    "Inicia la estrutura html. Es la raíz de la página web.\n",
    "\n",
    "- ```\n",
    "<head>\n",
    "```` \n",
    "\n",
    "Inicia la cabecera (metadata) de la página web.\n",
    "\n",
    "- ```\n",
    "<title>\n",
    "```` \n",
    "\n",
    "Coloca un título en la cabecera de la página web.\n",
    "\n",
    "- ```\n",
    "<body>\n",
    "```` \n",
    "\n",
    "Inicia el cuerpo de la página web, que contiene todos los elementos visibles de la página web.\n",
    "\n",
    "- ```\n",
    "<h1>\n",
    "```` \n",
    "\n",
    "Coloca una cabecera dentro del cuerpo de la página web.\n",
    "\n",
    "- ```\n",
    "<p>\n",
    "```` \n",
    "\n",
    "Coloca un párrafo dentro de la página web."
   ]
  },
  {
   "cell_type": "markdown",
   "id": "84fa3999-b2dc-4565-bd34-0327ebbe5871",
   "metadata": {},
   "source": [
    "**Experimento:**\n",
    "\n",
    "Utlize el código anterior en un bloc de notas y visualízelo desde un Browser."
   ]
  },
  {
   "cell_type": "markdown",
   "id": "e79dc016-fe25-4ffc-ac0f-8be90b260ade",
   "metadata": {},
   "source": [
    "### Objetos CSS"
   ]
  },
  {
   "cell_type": "markdown",
   "id": "26f85e98-6b4e-46d9-ac9a-789be82b9927",
   "metadata": {},
   "source": [
    "Es posible enriquecer aún más el contenido HTML con objetos CSS (Cascading Style Sheets)"
   ]
  },
  {
   "cell_type": "markdown",
   "id": "bc468492-8844-4fd3-a5b6-9b9a07a82634",
   "metadata": {},
   "source": [
    "```\n",
    "<!DOCTYPE html>\n",
    "<html>\n",
    "<head>\n",
    "<style>\n",
    "h1 {\n",
    "  color: blue;\n",
    "  font-family: verdana;\n",
    "  font-size: 300%;\n",
    "}\n",
    "p {\n",
    "  color: red;\n",
    "  font-family: courier;\n",
    "  font-size: 160%;\n",
    "}\n",
    "</style>\n",
    "</head>\n",
    "<body>\n",
    "\n",
    "<h1>This is a heading</h1>\n",
    "<p>This is a paragraph.</p>\n",
    "\n",
    "</body>\n",
    "</html>\n",
    "```"
   ]
  },
  {
   "cell_type": "markdown",
   "id": "586d7e94-6de9-4e41-aa7e-f34c2ccc52dc",
   "metadata": {},
   "source": [
    "### JavaScript"
   ]
  },
  {
   "cell_type": "markdown",
   "id": "f2269411-1735-44fe-bd46-f53198923772",
   "metadata": {},
   "source": [
    "También es posible utilizar herramientas de programación para afectar los comportamientos que puede tener las páginas web.\n",
    "\n",
    "Este lenguaje de programación se conoce como JavaScript y es utilizado ampliamente dentro del gremio de desarrolladores web."
   ]
  },
  {
   "cell_type": "markdown",
   "id": "2db93541-2429-423c-8235-d05a3e95cf91",
   "metadata": {},
   "source": [
    "```\n",
    "<!DOCTYPE html>\n",
    "<html>\n",
    "<body>\n",
    "\n",
    "<h2>JavaScript in Body</h2>\n",
    "\n",
    "<p id=\"demo\"></p>\n",
    "\n",
    "<script>\n",
    "document.getElementById(\"demo\").innerHTML = \"My First JavaScript\";\n",
    "</script>\n",
    "\n",
    "</body>\n",
    "</html>\n",
    "```"
   ]
  },
  {
   "cell_type": "markdown",
   "id": "7fd2fcf4-0716-427c-83dd-cfb7378dcb5d",
   "metadata": {},
   "source": [
    "Lo más interesante de JavaScript, es que puede interactuar sobre el DOM () de las páginas web, generando interactividad con los usuarios de manera dinámica:"
   ]
  },
  {
   "cell_type": "markdown",
   "id": "563eba7b-9ea0-43ee-aab4-bb876483c6f9",
   "metadata": {},
   "source": [
    "```\n",
    "<!DOCTYPE html>\n",
    "<html>\n",
    "<body>\n",
    "\n",
    "<p><a id=\"Ancla\" hreflang=\"¡Soy un elemento nuevo!\" href=\"https://www.w3schools.com/\">W3Schools</a></p>\n",
    "\n",
    "<p>Hacer click en el botón para obtener más info</p>\n",
    "\n",
    "<button onclick=\"myFunction()\">Pruébame</button>\n",
    "\n",
    "<p id=\"Demo\"></p>\n",
    "\n",
    "<script>\n",
    "function myFunction() {\n",
    "  var x = document.getElementById(\"Ancla\").hreflang;\n",
    "  document.getElementById(\"Demo\").innerHTML = x;\n",
    "}\n",
    "</script>\n",
    "\n",
    "</body>\n",
    "</html>\n",
    "```"
   ]
  },
  {
   "cell_type": "markdown",
   "id": "5aea47e9-f62f-4a8b-8747-8b0acf63c9d3",
   "metadata": {},
   "source": [
    "Existen distintos niveles de automatización que las existentes tecnologías de Web Scraping pueden brindar:\n",
    "\n",
    "- «Copiar y pegar» humano: algunas veces incluso las mejores técnicas de web scraping no pueden reemplazar el examen manual de un humano, y a veces esta puede ser la única vía de solución cuando el sitio que tenemos en mente pone ciertas barreras para prevenir que se creen softwares para realizar tareas automáticas en este.\n",
    "\n",
    "- Uso de expresiones regulares: una posible vía para extraer información de páginas webs pueden ser las expresiones regulares, aunque comúnmente no se recomienda utilizarlas para parsear el formato HTML.\n",
    "\n",
    "- Protocolo HTTP: páginas webs estáticas y dinámicas pueden ser obtenidas haciendo peticiones HTTP al servidor remoto utilizando sockets, etc.\n",
    "\n",
    "- Algoritmos de minería de datos: muchos sitios webs tienen grandes colecciones de páginas generadas dinámicamente a partir de una base de datos. Datos de la misma categoría aparecen usualmente en páginas similares mediante un script o una plantilla. En la minería de datos, un programa detecta estas plantillas en un contexto específico y extrae su contenido.\n",
    "\n",
    "- Parsers de HTML: Algunos lenguajes, como XQuery y HTQL pueden ser utilizados para parsear documentos, recuperar y transformar el contenido de documentos HTML.\n",
    "\n",
    "- Aplicaciones para web scraping: existen muchas aplicaciones disponibles que pueden ser utilizadas para personalizar soluciones de Web Scraping. Estas aplicaciones podrían reconocer automáticamente la estructura de cierta página o brindar una interfaz al usuario donde este pudiera seleccionar los campos que son de interés dentro del documento. De esta forma no es necesario escribir manualmente código para realizar estas tareas.\n",
    "\n",
    "- Reconocimiento de información semántica: las páginas que son analizadas podrían incluir metadatos o cierta información semántica como anotaciones o comentarios, los cuales pueden ser usados comúnmente. Si estas anotaciones están en las mismas páginas, como sucede con los microformatos, estas podrían ser de utilidad cuando parseamos el DOM del documento. En otro caso, las anotaciones, organizadas en una capa semántica, son almacenadas y manejadas de forma separada desde otras páginas, por lo que los scrapers pueden recuperar estos esquemas y las instrucciones desde esta capa antes de analizar los documentos."
   ]
  },
  {
   "cell_type": "markdown",
   "id": "f31ae38a-accf-480c-a5a1-ae6718317af3",
   "metadata": {},
   "source": [
    "[[Volver al inicio]](#Contenido)"
   ]
  },
  {
   "cell_type": "markdown",
   "id": "60afe5c2-2c12-49fd-8a8e-0f3d6a88cdbf",
   "metadata": {
    "tags": []
   },
   "source": [
    "## <span style=\"color:blue\">Scraper de Noticias de Google News</span>"
   ]
  },
  {
   "cell_type": "markdown",
   "id": "e7582c89-b06f-4830-8c3f-0235f7a0a6b5",
   "metadata": {},
   "source": [
    "Para comenzar nuestra discusión sobre cómo puede ser el resultado de un Scraping Web existente, usaremos un famoso paquete existente que hace el trabajo para las noticias en la web, conocido como Google News."
   ]
  },
  {
   "cell_type": "markdown",
   "id": "b23b3071-83bf-4689-8401-aca4c9811da4",
   "metadata": {},
   "source": [
    "## Librerías Necesarias "
   ]
  },
  {
   "cell_type": "code",
   "execution_count": 1,
   "id": "4f41cc07-e518-452f-909b-463022f89b36",
   "metadata": {},
   "outputs": [],
   "source": [
    "# Conexión con Google News\n",
    "from gnewsclient import gnewsclient"
   ]
  },
  {
   "cell_type": "markdown",
   "id": "8158ba40-f4de-43ad-8999-66bd8f9e647b",
   "metadata": {},
   "source": [
    "[[Volver al inicio]](#Contenido)"
   ]
  },
  {
   "cell_type": "markdown",
   "id": "7bbd9a0c-3c7c-45c0-b1b0-48f6845ecfed",
   "metadata": {},
   "source": [
    "##  Extraer Noticias de Google News"
   ]
  },
  {
   "cell_type": "markdown",
   "id": "7f497c8e-0b81-4853-b1a0-46114005e439",
   "metadata": {},
   "source": [
    "Es posible extraer noticias asociadas a [Google News](https://news.google.com/), usando la herramienta [`gnewsclient`](https://pypi.org/project/gnewsclient/), desarrollada por Nikhil Kumar Singh.\n",
    "\n",
    "Es una herramienta bastante intuitiva de usar.\n",
    "\n",
    "Considere que haremos un **Web Scraping** de una página que hace Web Scraping de noticias, utilizando los motores de Google."
   ]
  },
  {
   "cell_type": "code",
   "execution_count": 2,
   "id": "88ee4492-7008-413b-a780-294107c4a1f0",
   "metadata": {},
   "outputs": [],
   "source": [
    "# Inicializar el objeto gnewsclient\n",
    "client = gnewsclient.NewsClient()"
   ]
  },
  {
   "cell_type": "markdown",
   "id": "f6223602-a3ff-46fe-80a3-dec537821073",
   "metadata": {},
   "source": [
    "Como observamos a continuación, el cliente tiene algunas propiedades y métodos útiles:"
   ]
  },
  {
   "cell_type": "code",
   "execution_count": 3,
   "id": "adaedee9-7db4-45ce-b02f-2b0a12d06ed6",
   "metadata": {},
   "outputs": [
    {
     "name": "stdout",
     "output_type": "stream",
     "text": [
      "['__class__', '__delattr__', '__dict__', '__dir__', '__doc__', '__eq__', '__format__', '__ge__', '__getattribute__', '__gt__', '__hash__', '__init__', '__init_subclass__', '__le__', '__lt__', '__module__', '__ne__', '__new__', '__reduce__', '__reduce_ex__', '__repr__', '__setattr__', '__sizeof__', '__str__', '__subclasshook__', '__weakref__', 'get_config', 'get_news', 'language', 'languages', 'location', 'locations', 'max_results', 'params_dict', 'parse_feed', 'topic', 'topics', 'use_opengraph']\n"
     ]
    }
   ],
   "source": [
    "print(dir(client))"
   ]
  },
  {
   "cell_type": "markdown",
   "id": "db224562-6fd7-4645-bd65-e479fb35eb38",
   "metadata": {},
   "source": [
    "[[Volver al inicio]](#Contenido)"
   ]
  },
  {
   "cell_type": "markdown",
   "id": "ec148850-5ae3-46d0-82f5-eaa7f934009d",
   "metadata": {},
   "source": [
    "## Propiedades del Cliente de Noticias"
   ]
  },
  {
   "cell_type": "markdown",
   "id": "09732dbb-a3fc-4d4b-8c9f-2de1832f96e0",
   "metadata": {},
   "source": [
    "Podemos observar que tenemos varios países a disposición:"
   ]
  },
  {
   "cell_type": "code",
   "execution_count": 4,
   "id": "45db9421-9d7c-4a19-a75b-65c871ee1eb8",
   "metadata": {},
   "outputs": [
    {
     "name": "stdout",
     "output_type": "stream",
     "text": [
      "['Australia', 'Botswana', 'Canada ', 'Ethiopia', 'Ghana', 'India ', 'Indonesia', 'Ireland', 'Israel ', 'Kenya', 'Latvia', 'Malaysia', 'Namibia', 'New Zealand', 'Nigeria', 'Pakistan', 'Philippines', 'Singapore', 'South Africa', 'Tanzania', 'Uganda', 'United Kingdom', 'United States', 'Zimbabwe', 'Czech Republic', 'Germany', 'Austria', 'Switzerland', 'Argentina', 'Chile', 'Colombia', 'Cuba', 'Mexico', 'Peru', 'Venezuela', 'Belgium ', 'France', 'Morocco', 'Senegal', 'Italy', 'Lithuania', 'Hungary', 'Netherlands', 'Norway', 'Poland', 'Brazil', 'Portugal', 'Romania', 'Slovakia', 'Slovenia', 'Sweden', 'Vietnam', 'Turkey', 'Greece', 'Bulgaria', 'Russia', 'Ukraine ', 'Serbia', 'United Arab Emirates', 'Saudi Arabia', 'Lebanon', 'Egypt', 'Bangladesh', 'Thailand', 'China', 'Taiwan', 'Hong Kong', 'Japan', 'Republic of Korea']\n"
     ]
    }
   ],
   "source": [
    "print(client.locations)"
   ]
  },
  {
   "cell_type": "code",
   "execution_count": 5,
   "id": "c81883e5-6468-4a13-bbb4-60dbce50b8b2",
   "metadata": {},
   "outputs": [
    {
     "name": "stdout",
     "output_type": "stream",
     "text": [
      "Países Disponibles: 69\n"
     ]
    }
   ],
   "source": [
    "print(f'Países Disponibles: {len(client.locations)}')"
   ]
  },
  {
   "cell_type": "markdown",
   "id": "f0cc4e25-743e-475d-a283-a9e6f1cba083",
   "metadata": {},
   "source": [
    "Además, podemos minar en diferentes idiomas también:"
   ]
  },
  {
   "cell_type": "code",
   "execution_count": 6,
   "id": "36ec68dc-32d9-401b-8ad7-0b1f9ef9573d",
   "metadata": {},
   "outputs": [
    {
     "name": "stdout",
     "output_type": "stream",
     "text": [
      "['english', 'indonesian', 'czech', 'german', 'spanish', 'french', 'italian', 'latvian', 'lithuanian', 'hungarian', 'dutch', 'norwegian', 'polish', 'portuguese brasil', 'portuguese portugal', 'romanian', 'slovak', 'slovenian', 'swedish', 'vietnamese', 'turkish', 'greek', 'bulgarian', 'russian', 'serbian', 'ukrainian', 'hebrew', 'arabic', 'marathi', 'hindi', 'bengali', 'tamil', 'telugu', 'malyalam', 'thai', 'chinese simplified', 'chinese traditional', 'japanese', 'korean']\n"
     ]
    }
   ],
   "source": [
    "print(client.languages)"
   ]
  },
  {
   "cell_type": "code",
   "execution_count": 7,
   "id": "c5e12822-ff3c-4f48-bf3e-8f80175e8418",
   "metadata": {},
   "outputs": [
    {
     "name": "stdout",
     "output_type": "stream",
     "text": [
      "Idiomas Disponibles: 39\n"
     ]
    }
   ],
   "source": [
    "print(f'Idiomas Disponibles: {len(client.languages)}')"
   ]
  },
  {
   "cell_type": "markdown",
   "id": "f37125ad-8eda-40d1-bf60-a74ab634c5e2",
   "metadata": {},
   "source": [
    "Podemos también elegir entre diferentes temas disponibles:"
   ]
  },
  {
   "cell_type": "code",
   "execution_count": 8,
   "id": "56a6ddaf-73b4-4755-9e70-8e7020bbfd14",
   "metadata": {},
   "outputs": [
    {
     "name": "stdout",
     "output_type": "stream",
     "text": [
      "['Top Stories', 'World', 'Nation', 'Business', 'Technology', 'Entertainment', 'Sports', 'Science', 'Health']\n"
     ]
    }
   ],
   "source": [
    "# Mostrar Tópicos disponibles\n",
    "topicos = client.topics\n",
    "print(topicos)"
   ]
  },
  {
   "cell_type": "markdown",
   "id": "3c712171-36f9-48a4-a3b0-d3fe26ce51aa",
   "metadata": {},
   "source": [
    "Tal vez, el método más importante de este paquete es **`get_news()`**, que busca por las noticias solicitadas en la web a través de Google."
   ]
  },
  {
   "cell_type": "code",
   "execution_count": 9,
   "id": "7b019f53-53aa-41a8-b432-76da0026d34c",
   "metadata": {},
   "outputs": [
    {
     "data": {
      "text/plain": [
       "[{'title': 'Russia invades Ukraine: Live updates - CNN',\n",
       "  'link': 'https://news.google.com/__i/rss/rd/articles/CBMiUmh0dHBzOi8vd3d3LmNubi5jb20vZXVyb3BlL2xpdmUtbmV3cy91a3JhaW5lLXJ1c3NpYS1wdXRpbi1uZXdzLTAzLTEyLTIyL2luZGV4Lmh0bWzSAVZodHRwczovL2FtcC5jbm4uY29tL2Nubi9ldXJvcGUvbGl2ZS1uZXdzL3VrcmFpbmUtcnVzc2lhLXB1dGluLW5ld3MtMDMtMTItMjIvaW5kZXguaHRtbA?oc=5',\n",
       "  'media': None},\n",
       " {'title': \"'Bomb cyclone' to dump snow from Mississippi to Maine - ABC News\",\n",
       "  'link': 'https://news.google.com/__i/rss/rd/articles/CBMiVWh0dHBzOi8vYWJjbmV3cy5nby5jb20vVVMvd2lyZVN0b3J5L2JvbWItY3ljbG9uZS1kdW1wLXNub3ctbWlzc2lzc2lwcGktbWFpbmUtODMzOTExNzHSAVlodHRwczovL2FiY25ld3MuZ28uY29tL2FtcC9VUy93aXJlU3RvcnkvYm9tYi1jeWNsb25lLWR1bXAtc25vdy1taXNzaXNzaXBwaS1tYWluZS04MzM5MTE3MQ?oc=5',\n",
       "  'media': None},\n",
       " {'title': 'Kamala Harris joint press conference with Romanian president cuts off unexpectedly - The Independent',\n",
       "  'link': 'https://news.google.com/__i/rss/rd/articles/CBMicmh0dHBzOi8vd3d3LmluZGVwZW5kZW50LmNvLnVrL25ld3Mvd29ybGQvYW1lcmljYXMvdXMtcG9saXRpY3Mva2FtYWxhLWhhcnJpcy1yb21hbmlhLXByZXNzLWNvbmZlcmVuY2UtYjIwMzM4NzIuaHRtbNIBAA?oc=5',\n",
       "  'media': None},\n",
       " {'title': 'Texas judge halts abuse probes into care for trans kids - The Dallas Morning News',\n",
       "  'link': 'https://news.google.com/__i/rss/rd/articles/CBMilgFodHRwczovL3d3dy5kYWxsYXNuZXdzLmNvbS9uZXdzL3BvbGl0aWNzLzIwMjIvMDMvMTEvdGV4YXMtanVkZ2UtaGFsdHMtYWxsLWNoaWxkLWFidXNlLWludmVzdGlnYXRpb25zLWludG8tZ2VuZGVyLWFmZmlybWluZy1jYXJlLWZvci10cmFuc2dlbmRlci15b3V0aC_SAaUBaHR0cHM6Ly93d3cuZGFsbGFzbmV3cy5jb20vbmV3cy9wb2xpdGljcy8yMDIyLzAzLzExL3RleGFzLWp1ZGdlLWhhbHRzLWFsbC1jaGlsZC1hYnVzZS1pbnZlc3RpZ2F0aW9ucy1pbnRvLWdlbmRlci1hZmZpcm1pbmctY2FyZS1mb3ItdHJhbnNnZW5kZXIteW91dGgvP291dHB1dFR5cGU9YW1w?oc=5',\n",
       "  'media': None},\n",
       " {'title': \"Disney apologises for 'silence' on 'Don't Say Gay' bill - BBC.com\",\n",
       "  'link': 'https://news.google.com/__i/rss/rd/articles/CBMiMWh0dHBzOi8vd3d3LmJiYy5jb20vbmV3cy93b3JsZC11cy1jYW5hZGEtNjA3MTQwNjPSATVodHRwczovL3d3dy5iYmMuY29tL25ld3Mvd29ybGQtdXMtY2FuYWRhLTYwNzE0MDYzLmFtcA?oc=5',\n",
       "  'media': None},\n",
       " {'title': 'U.S. explores sending Ukraine more advanced weapons after scuttling Polish jet deal - The Washington Post',\n",
       "  'link': 'https://news.google.com/__i/rss/rd/articles/CBMiVmh0dHBzOi8vd3d3Lndhc2hpbmd0b25wb3N0LmNvbS9uYXRpb25hbC1zZWN1cml0eS8yMDIyLzAzLzExL3VrcmFpbmUtd2VhcG9ucy10cmFuc2ZlcnMv0gEA?oc=5',\n",
       "  'media': None},\n",
       " {'title': \"An Ohio grand jury declined to indict officer who fatally shot Ma'Khia Bryant, state AG says - CNN\",\n",
       "  'link': 'https://news.google.com/__i/rss/rd/articles/CBMiWGh0dHBzOi8vd3d3LmNubi5jb20vMjAyMi8wMy8xMS91cy9tYWtoaWEtYnJ5YW50LWNvbHVtYnVzLW9mZmljZXItbm90LWluZGljdGVkL2luZGV4Lmh0bWzSAQA?oc=5',\n",
       "  'media': None},\n",
       " {'title': 'U.S. targets Russians in new North Korea sanctions after missile launches - Reuters',\n",
       "  'link': 'https://news.google.com/__i/rss/rd/articles/CBMic2h0dHBzOi8vd3d3LnJldXRlcnMuY29tL3dvcmxkL2NoaW5hL3VzLWltcG9zZXMtbmV3LW5vcnRoLWtvcmVhLXJlbGF0ZWQtc2FuY3Rpb25zLWFmdGVyLW1pc3NpbGUtbGF1bmNoZXMtMjAyMi0wMy0xMS_SAQA?oc=5',\n",
       "  'media': None},\n",
       " {'title': 'Overnight Health Care — Texas abortion providers dealt critical blow | TheHill - The Hill',\n",
       "  'link': 'https://news.google.com/__i/rss/rd/articles/CBMiOGh0dHBzOi8vdGhlaGlsbC5jb20vcG9saWN5L2hlYWx0aGNhcmUvNTk3OTQyLWhlYWx0aC1jYXJl0gE8aHR0cHM6Ly90aGVoaWxsLmNvbS9wb2xpY3kvaGVhbHRoY2FyZS81OTc5NDItaGVhbHRoLWNhcmU_YW1w?oc=5',\n",
       "  'media': None},\n",
       " {'title': \"The 40-mile-long Russian convoy near Kyiv has moved. Here's what it means for the Ukrainian capital - CNN\",\n",
       "  'link': 'https://news.google.com/__i/rss/rd/articles/CBMiSWh0dHBzOi8vd3d3LmNubi5jb20vMjAyMi8wMy8xMS9ldXJvcGUva3lpdi1ydXNzaWFuLWNvbnZveS1pbnRsL2luZGV4Lmh0bWzSAQA?oc=5',\n",
       "  'media': None}]"
      ]
     },
     "execution_count": 9,
     "metadata": {},
     "output_type": "execute_result"
    }
   ],
   "source": [
    "# Obtener las noticias del cliente\n",
    "noticias = client.get_news()\n",
    "noticias"
   ]
  },
  {
   "cell_type": "markdown",
   "id": "b7d95b8a-8c7f-4a04-8669-56ee0abcda1e",
   "metadata": {},
   "source": [
    "[[Volver al inicio]](#Contenido)"
   ]
  },
  {
   "cell_type": "markdown",
   "id": "bdb81f37-fa9b-45a8-81c1-68d842da7b3f",
   "metadata": {
    "tags": []
   },
   "source": [
    "## Fijar parámetros del Cliente "
   ]
  },
  {
   "cell_type": "markdown",
   "id": "7da2c77e-21a7-4d13-9198-078796199680",
   "metadata": {},
   "source": [
    "Podemos elegir entre tópicos de a lista y pasarlos al cliente:"
   ]
  },
  {
   "cell_type": "code",
   "execution_count": 10,
   "id": "02e41a8a-e688-46a8-b510-9807a8c523c1",
   "metadata": {},
   "outputs": [
    {
     "name": "stdout",
     "output_type": "stream",
     "text": [
      "['Top Stories', 'World', 'Nation', 'Business', 'Technology', 'Entertainment', 'Sports', 'Science', 'Health']\n"
     ]
    }
   ],
   "source": [
    "print(topicos)"
   ]
  },
  {
   "cell_type": "code",
   "execution_count": 11,
   "id": "a6fd3f8a-8d82-45fd-8dd9-1d38b93c04b1",
   "metadata": {},
   "outputs": [],
   "source": [
    "# Elegir de tópicos discponibles\n",
    "client.topic = topicos[-1]"
   ]
  },
  {
   "cell_type": "code",
   "execution_count": 12,
   "id": "df40e372-04d1-46e2-b629-1c6589801fe5",
   "metadata": {},
   "outputs": [
    {
     "name": "stdout",
     "output_type": "stream",
     "text": [
      "['english', 'indonesian', 'czech', 'german', 'spanish', 'french', 'italian', 'latvian', 'lithuanian', 'hungarian', 'dutch', 'norwegian', 'polish', 'portuguese brasil', 'portuguese portugal', 'romanian', 'slovak', 'slovenian', 'swedish', 'vietnamese', 'turkish', 'greek', 'bulgarian', 'russian', 'serbian', 'ukrainian', 'hebrew', 'arabic', 'marathi', 'hindi', 'bengali', 'tamil', 'telugu', 'malyalam', 'thai', 'chinese simplified', 'chinese traditional', 'japanese', 'korean']\n"
     ]
    }
   ],
   "source": [
    "print(client.languages)"
   ]
  },
  {
   "cell_type": "markdown",
   "id": "3b38b42d-6a1d-48af-8d70-84a9b24383ec",
   "metadata": {},
   "source": [
    "Podemos también elegir el idioma de nuestro interés:"
   ]
  },
  {
   "cell_type": "code",
   "execution_count": 13,
   "id": "a3ef99a8-4038-42c5-87c4-d2691bb50a7b",
   "metadata": {},
   "outputs": [],
   "source": [
    "client.language = 'greek'"
   ]
  },
  {
   "cell_type": "code",
   "execution_count": 14,
   "id": "629267e6-32fd-4f25-853b-eb52f840b866",
   "metadata": {},
   "outputs": [
    {
     "data": {
      "text/plain": [
       "[{'title': 'Αυτό το φάρμακο μπορεί να οδηγήσει σε μεταλλάξεις του κορονοϊού προειδοποιούν επιστήμονες - News4Health',\n",
       "  'link': 'https://news.google.com/__i/rss/rd/articles/CBMikwFodHRwczovL3d3dy5uZXdzNGhlYWx0aC5nci9waGFybWEtbmV3cy8xMzQxMy9hZnRvLXRvLW1vbm9rbG9uaWtvLWFudGlzb21hLWJvcmVpLW5hLW9kaWdpc2VpLXNlLW1ldGFsbGFrc2Vpcy10b3Uta29yb25vaW95LXByb2VpZG9wb2lveW4tZXBpc3RpbW9uZXPSAQA?oc=5',\n",
       "  'media': None},\n",
       " {'title': 'Οι τροφές που αντιμετωπίζουν την κυτταρίτιδα, σύμφωνα με διατροφολόγο -Και οι συνήθειες που πρέπει να αλλάξεις - iefimerida',\n",
       "  'link': 'https://news.google.com/__i/rss/rd/articles/CBMiUWh0dHBzOi8vd3d3LmllZmltZXJpZGEuZ3IvZ3luYWlrYS90cm9mZXMtYW50aW1ldG9waXpveW4ta3l0dGFyaXRpZGEtZGlhdHJvZm9sb2dvc9IBAA?oc=5',\n",
       "  'media': None},\n",
       " {'title': 'Το φετινό εμβόλιο της γρίπης είχε αποτελεσματικότητα μόνο κατά 16% - NewsIT',\n",
       "  'link': 'https://news.google.com/__i/rss/rd/articles/CBMiZmh0dHBzOi8vd3d3Lm5ld3NpdC5nci95Z2VpYS90by1mZXRpbm8tZW12b2xpby10aXMtZ3JpcGlzLWVpeGUtYXBvdGVsZXNtYXRpa290aXRhLW1vbm8ta2F0YS0xNi8zNDg0Nzc5L9IBAA?oc=5',\n",
       "  'media': None},\n",
       " {'title': 'Κοροναϊός: Μελέτη εξηγεί γιατί δεν μεταδίδεται από τις επιφάνειες - in.gr',\n",
       "  'link': 'https://news.google.com/__i/rss/rd/articles/CBMic2h0dHBzOi8vd3d3LmluLmdyLzIwMjIvMDMvMTEvYi1zY2llbmNlL3NhcnMtY292Mi9rb3JvbmFpb3MtbWVsZXRpLWVrc2lnZWktZ2lhdGktZGVuLW1ldGFkaWRldGFpLWFwby10aXMtZXBpZmFuZWllcy_SAQA?oc=5',\n",
       "  'media': None},\n",
       " {'title': 'Έντερο – Δυσκοιλιότητα: Τι να πίνουμε κάθε πρωί για να λειτουργεί εύρυθμα - Πρώτο Θέμα',\n",
       "  'link': 'https://news.google.com/__i/rss/rd/articles/CBMidmh0dHBzOi8vd3d3LnByb3RvdGhlbWEuZ3Ivem9pL2FydGljbGUvMTIyMDQyMy9lZGVyby1kdXNrb2lsaW90aXRhLXRpLW5hLXBpbm91bWUta2F0aGUtcHJvaS1naWEtbmEtbGVpdG91cmdlaS1ldXJ1dGhtYS_SAQA?oc=5',\n",
       "  'media': None},\n",
       " {'title': 'Στέβια: Πιθανά οφέλη και παρενέργειες υγείας - Iatropedia',\n",
       "  'link': 'https://news.google.com/__i/rss/rd/articles/CBMiV2h0dHBzOi8vd3d3LmlhdHJvcGVkaWEuZ3IvZGlhdHJvZmkvc3RldmlhLXBpdGhhbmEtb2ZlbGkta2FpLXBhcmVuZXJnZWllcy15Z2VpYXMvMTUzMDg3L9IBAA?oc=5',\n",
       "  'media': None},\n",
       " {'title': 'Δεν είναι όλα κορωνοϊός: Τι συμβαίνει με όσους έχουν υψηλό πυρετό και βήχα, αλλά αρνητικά rapid test - BEST News',\n",
       "  'link': 'https://news.google.com/__i/rss/rd/articles/CBMiiwFodHRwczovL3d3dy50aGViZXN0LmdyL2FydGljbGUvNjU3Mjk3LWRlbi1laW5haS1vbGEta29yb25vaW9zLXRpLXN1bWJhaW5laS1tZS1vc291cy1lY2hvdW4tdXBzaWxvLXB1cmV0by1rYWktYmljaGEtYWxsYS1hcm5pdGlrYS1yYXBpZC10ZXN00gEA?oc=5',\n",
       "  'media': None}]"
      ]
     },
     "execution_count": 14,
     "metadata": {},
     "output_type": "execute_result"
    }
   ],
   "source": [
    "client.get_news()"
   ]
  },
  {
   "cell_type": "markdown",
   "id": "ea3ef5ad-2785-4a13-87f7-b42515aee328",
   "metadata": {},
   "source": [
    "También es posible iniciar el cliente con parámetros fijos desde el principio:"
   ]
  },
  {
   "cell_type": "code",
   "execution_count": 15,
   "id": "b9e283b2-c775-401a-94d0-6703ab51c8f2",
   "metadata": {},
   "outputs": [],
   "source": [
    "# Con opengraph se puede filtrar el medio de comunicación\n",
    "client = gnewsclient.NewsClient(location='Colombia', language='spanish', topic='Nation', use_opengraph=True, max_results=10)\n",
    "# Obtener noticias\n",
    "noticias = client.get_news()"
   ]
  },
  {
   "cell_type": "code",
   "execution_count": 17,
   "id": "158d1a5e-9b23-4527-ad69-f51b96fbf11d",
   "metadata": {},
   "outputs": [
    {
     "name": "stdout",
     "output_type": "stream",
     "text": [
      "{'url': 'https://www.pulzo.com/nacion/coronavirus-colombia-nuevos-casos-muertes-11-marzo-2022-noticias-hoy-PP1257980', 'site_name': 'pulzo.com', 'title': 'Colombia retrocedió (aunque poco) en caída de casos: repunte de contagiados con COVID-19 - Pulzo.com', 'description': 'Reporte diario de los casos diarios de coronavirus en Colombia. contagios, muertos y recuperados de este viernes 11 de marzo de 2022.', 'image': 'http://static.pulzo.com/images/20220311180303/cropped-covid-2-4.jpg', 'type': 'article', 'locale': 'es_LA', 'locale:alternate': 'es_ES', 'image:url': 'http://static.pulzo.com/images/20220311180303/cropped-covid-2-4.jpg', 'image:secure_url': 'https://d2yoo3qu6vrk5d.cloudfront.net/images/20220311180303/cropped-covid-2-4.jpg', 'image_width': 150, 'image_height': 80.81285444234405, 'link': 'https://news.google.com/__i/rss/rd/articles/CBMia2h0dHBzOi8vd3d3LnB1bHpvLmNvbS9uYWNpb24vY29yb25hdmlydXMtY29sb21iaWEtbnVldm9zLWNhc29zLW11ZXJ0ZXMtMTEtbWFyem8tMjAyMi1ub3RpY2lhcy1ob3ktUFAxMjU3OTgw0gEA?oc=5', 'media': None}\n"
     ]
    }
   ],
   "source": [
    "import numpy as np\n",
    "print(np.random.choice(noticias))"
   ]
  },
  {
   "cell_type": "markdown",
   "id": "9ec9dda0-abf0-449f-a10f-378c5cae2e00",
   "metadata": {},
   "source": [
    "Note que el uso de **openGraph** nos permite obtener más características de las noticias, tales como imágenes asociadas, descripciones y tipo de noticia."
   ]
  },
  {
   "cell_type": "code",
   "execution_count": 18,
   "id": "465dd5db-0237-4627-9f01-39edc3f5b655",
   "metadata": {},
   "outputs": [
    {
     "name": "stdout",
     "output_type": "stream",
     "text": [
      "dict_keys(['url', 'site_name', 'title', 'description', 'image', 'type', 'locale', 'locale:alternate', 'image:url', 'image:secure_url', 'image_width', 'image_height', 'link', 'media'])\n"
     ]
    }
   ],
   "source": [
    "print(noticias[0].keys())"
   ]
  },
  {
   "cell_type": "code",
   "execution_count": 19,
   "id": "a6ef75f8-514c-47c2-894e-da68cad090ee",
   "metadata": {},
   "outputs": [
    {
     "name": "stdout",
     "output_type": "stream",
     "text": [
      "pulzo.com\n",
      "Colombia retrocedió (aunque poco) en caída de casos: repunte de contagiados con COVID-19 - Pulzo.com\n",
      "https://www.pulzo.com/nacion/coronavirus-colombia-nuevos-casos-muertes-11-marzo-2022-noticias-hoy-PP1257980\n",
      "https://news.google.com/__i/rss/rd/articles/CBMia2h0dHBzOi8vd3d3LnB1bHpvLmNvbS9uYWNpb24vY29yb25hdmlydXMtY29sb21iaWEtbnVldm9zLWNhc29zLW11ZXJ0ZXMtMTEtbWFyem8tMjAyMi1ub3RpY2lhcy1ob3ktUFAxMjU3OTgw0gEA?oc=5\n",
      "\n",
      "El Comercio Perú\n",
      "Ingreso solidario [2022]: LINK para cobrar y ver si soy beneficiario, hoy sábado 12 de marzo - El Comercio Perú\n",
      "https://elcomercio.pe/respuestas/sisben-ingreso-solidario-2022-link-para-cobrar-en-prosperidad-social-y-ver-si-soy-beneficiario-dpsgovco-como-registrarme-supergiros-tdex-revtli-noticia/\n",
      "https://news.google.com/__i/rss/rd/articles/CBMiuQFodHRwczovL2VsY29tZXJjaW8ucGUvcmVzcHVlc3Rhcy9zaXNiZW4taW5ncmVzby1zb2xpZGFyaW8tMjAyMi1saW5rLXBhcmEtY29icmFyLWVuLXByb3NwZXJpZGFkLXNvY2lhbC15LXZlci1zaS1zb3ktYmVuZWZpY2lhcmlvLWRwc2dvdmNvLWNvbW8tcmVnaXN0cmFybWUtc3VwZXJnaXJvcy10ZGV4LXJldnRsaS1ub3RpY2lhL9IBAA?oc=5\n",
      "\n",
      "ELESPECTADOR.COM\n",
      "¿Desde cuándo y a qué hora inicia la ley seca en Bogotá? - El Espectador\n",
      "https://www.elespectador.com/bogota/desde-cuando-y-que-hora-inicia-la-ley-seca-en-bogota/\n",
      "https://news.google.com/__i/rss/rd/articles/CBMiWWh0dHBzOi8vd3d3LmVsZXNwZWN0YWRvci5jb20vYm9nb3RhL2Rlc2RlLWN1YW5kby15LXF1ZS1ob3JhLWluaWNpYS1sYS1sZXktc2VjYS1lbi1ib2dvdGEv0gEA?oc=5\n",
      "\n",
      "El Tiempo\n",
      "¿Quién es Germán Córdoba, ​el candidato 'comodín' de Cambio Radical? - El Tiempo\n",
      "https://www.eltiempo.com/elecciones-2022/candidatos/quien-es-german-cordoba-el-nuevo-candidato-de-cambio-radical-657702\n",
      "https://news.google.com/__i/rss/rd/articles/CBMid2h0dHBzOi8vd3d3LmVsdGllbXBvLmNvbS9lbGVjY2lvbmVzLTIwMjIvY2FuZGlkYXRvcy9xdWllbi1lcy1nZXJtYW4tY29yZG9iYS1lbC1udWV2by1jYW5kaWRhdG8tZGUtY2FtYmlvLXJhZGljYWwtNjU3NzAy0gEA?oc=5\n",
      "\n",
      "None\n",
      "¿Necesita cambiar el puesto de votación para las elecciones presidenciales? Vea cómo hacerlo - Noticias Caracol\n",
      "None\n",
      "https://news.google.com/__i/rss/rd/articles/CBMiqgFodHRwczovL25vdGljaWFzLmNhcmFjb2x0di5jb20vcG9saXRpY2EvZWxlY2Npb25lcy1jb2xvbWJpYS9wZWRhZ29naWEtZWxlY3RvcmFsL25lY2VzaXRhLWNhbWJpYXItZWwtcHVlc3RvLWRlLXZvdGFjaW9uLXBhcmEtbGFzLWVsZWNjaW9uZXMtcHJlc2lkZW5jaWFsZXMtdmVhLWNvbW8taGFjZXJsb9IBAA?oc=5\n",
      "\n",
      "El Tiempo\n",
      "Estas son las EPS que están bajo observación, según Acesi - El Tiempo\n",
      "https://www.eltiempo.com/salud/las-eps-que-estan-en-riesgo-de-ser-liquidadas-657128\n",
      "https://news.google.com/__i/rss/rd/articles/CBMiU2h0dHBzOi8vd3d3LmVsdGllbXBvLmNvbS9zYWx1ZC9sYXMtZXBzLXF1ZS1lc3Rhbi1lbi1yaWVzZ28tZGUtc2VyLWxpcXVpZGFkYXMtNjU3MTI40gFXaHR0cHM6Ly93d3cuZWx0aWVtcG8uY29tL2FtcC9zYWx1ZC9sYXMtZXBzLXF1ZS1lc3Rhbi1lbi1yaWVzZ28tZGUtc2VyLWxpcXVpZGFkYXMtNjU3MTI4?oc=5\n",
      "\n",
      "Semana.com   Últimas Noticias de Colombia y el Mundo\n",
      "Atención | Juez tumbó preacuerdo de Carlos Mattos, porque la pena condenatoria era muy baja - Revista Semana\n",
      "https://www.semana.com/nacion/articulo/atencion-juez-no-avalo-preacuerdo-de-carlos-mattos-porque-la-pena-condenatoria-era-muy-baja/202254/\n",
      "https://news.google.com/__i/rss/rd/articles/CBMiigFodHRwczovL3d3dy5zZW1hbmEuY29tL25hY2lvbi9hcnRpY3Vsby9hdGVuY2lvbi1qdWV6LW5vLWF2YWxvLXByZWFjdWVyZG8tZGUtY2FybG9zLW1hdHRvcy1wb3JxdWUtbGEtcGVuYS1jb25kZW5hdG9yaWEtZXJhLW11eS1iYWphLzIwMjI1NC_SAQA?oc=5\n",
      "\n",
      "www.elcolombiano.com\n",
      "Pruebas caseras para covid-19 comenzarían a usarse en Colombia - El Colombiano\n",
      "https://www.elcolombiano.com/negocios/colombia-permitira-venta-de-pruebas-caseras-de-covid-II16873092\n",
      "https://news.google.com/__i/rss/rd/articles/CBMiZWh0dHBzOi8vd3d3LmVsY29sb21iaWFuby5jb20vbmVnb2Npb3MvY29sb21iaWEtcGVybWl0aXJhLXZlbnRhLWRlLXBydWViYXMtY2FzZXJhcy1kZS1jb3ZpZC1JSTE2ODczMDky0gFpaHR0cHM6Ly93d3cuZWxjb2xvbWJpYW5vLmNvbS9hbXAvbmVnb2Npb3MvY29sb21iaWEtcGVybWl0aXJhLXZlbnRhLWRlLXBydWViYXMtY2FzZXJhcy1kZS1jb3ZpZC1JSTE2ODczMDky?oc=5\n",
      "\n",
      "W Radio\n",
      "Iván Duque ofreció a Joe Biden petróleo colombiano tras contactos de EE.UU. con Venezuela - W Radio\n",
      "https://www.wradio.com.co/2022/03/11/ivan-duque-ofrecio-a-joe-biden-petroleo-colombiano-tras-contactos-de-eeuu-con-venezuela/\n",
      "https://news.google.com/__i/rss/rd/articles/CBMifWh0dHBzOi8vd3d3LndyYWRpby5jb20uY28vMjAyMi8wMy8xMS9pdmFuLWR1cXVlLW9mcmVjaW8tYS1qb2UtYmlkZW4tcGV0cm9sZW8tY29sb21iaWFuby10cmFzLWNvbnRhY3Rvcy1kZS1lZXV1LWNvbi12ZW5lenVlbGEv0gGQAWh0dHBzOi8vd3d3LndyYWRpby5jb20uY28vYW1wLzIwMjIvMDMvMTEvaXZhbi1kdXF1ZS1vZnJlY2lvLWEtam9lLWJpZGVuLXBldHJvbGVvLWNvbG9tYmlhbm8tdHJhcy1jb250YWN0b3MtZGUtZWV1dS1jb24tdmVuZXp1ZWxhLz9vdXRwdXRUeXBlPWFtcA?oc=5\n",
      "\n",
      "www.elcolombiano.com\n",
      "Candidata a curul de paz resultó herida tras ataque en Urabá - El Colombiano\n",
      "https://www.elcolombiano.com/antioquia/ataque-a-candidatos-de-curules-de-paz-en-uraba-antioquia-HH16883721\n",
      "https://news.google.com/__i/rss/rd/articles/CBMiamh0dHBzOi8vd3d3LmVsY29sb21iaWFuby5jb20vYW50aW9xdWlhL2F0YXF1ZS1hLWNhbmRpZGF0b3MtZGUtY3VydWxlcy1kZS1wYXotZW4tdXJhYmEtYW50aW9xdWlhLUhIMTY4ODM3MjHSAQA?oc=5\n",
      "\n"
     ]
    }
   ],
   "source": [
    "#Mostrar noticias\n",
    "for noticia in noticias:\n",
    "    print(noticia['site_name'],noticia['title'],noticia['url'],noticia['link'],sep='\\n',end='\\n\\n')"
   ]
  },
  {
   "cell_type": "markdown",
   "id": "49f33f3d-fc6d-45f0-a310-fdd177fe3ac8",
   "metadata": {},
   "source": [
    "[[Volver al inicio]](#Contenido)"
   ]
  },
  {
   "cell_type": "markdown",
   "id": "f71b01a7-9d21-47ae-b5fd-9d9533bb0f54",
   "metadata": {
    "tags": []
   },
   "source": [
    "## <span style=\"color:blue\">Accediendo al contenido de Noticias</span>"
   ]
  },
  {
   "cell_type": "markdown",
   "id": "764d36b8-668b-48ed-9147-f70281ad86dd",
   "metadata": {},
   "source": [
    "### Estado de Conexión"
   ]
  },
  {
   "cell_type": "markdown",
   "id": "8bf4b0a6-a478-4573-be00-5dfe6c7e3caa",
   "metadata": {},
   "source": [
    "Podemos usar la librería `requests` para generar una conexión hacia la página web de la cual queremos extraer la información:"
   ]
  },
  {
   "cell_type": "code",
   "execution_count": 20,
   "id": "18464ede-1631-44f3-9901-fd1ef5ab4a21",
   "metadata": {},
   "outputs": [],
   "source": [
    "# Abrir conexiones de una página web\n",
    "import requests\n",
    "# Bella sopa de muchas cosas de HTML\n",
    "from bs4 import BeautifulSoup\n",
    "# Expresiones regulares para filtrar dentro de la sopa\n",
    "import re\n",
    "# Transformar html a texto\n",
    "import html2text"
   ]
  },
  {
   "cell_type": "code",
   "execution_count": 55,
   "id": "93a1eb5f-9365-4679-b5ae-4f3ead306caa",
   "metadata": {},
   "outputs": [
    {
     "name": "stdout",
     "output_type": "stream",
     "text": [
      "None\n",
      "\n",
      "¿Necesita cambiar el puesto de votación para las elecciones presidenciales? Vea cómo hacerlo - Noticias Caracol\n",
      "\n",
      "https://news.google.com/__i/rss/rd/articles/CBMiqgFodHRwczovL25vdGljaWFzLmNhcmFjb2x0di5jb20vcG9saXRpY2EvZWxlY2Npb25lcy1jb2xvbWJpYS9wZWRhZ29naWEtZWxlY3RvcmFsL25lY2VzaXRhLWNhbWJpYXItZWwtcHVlc3RvLWRlLXZvdGFjaW9uLXBhcmEtbGFzLWVsZWNjaW9uZXMtcHJlc2lkZW5jaWFsZXMtdmVhLWNvbW8taGFjZXJsb9IBAA?oc=5\n",
      "\n",
      "Estado de conexión: 200 OK (200 = OK, 403 = NOT OK)\n"
     ]
    }
   ],
   "source": [
    "# Elegir noticia al azar\n",
    "noticia_elegida = np.random.choice(noticias)\n",
    "# Obtener info importante del diccionario de gnews\n",
    "medio = noticia_elegida['site_name']\n",
    "# nombre del sitio de la noticia\n",
    "titular = noticia_elegida['title']\n",
    "# url de la noticia elegida\n",
    "url = noticia_elegida['url']\n",
    "# Elegir link adecuado, a veces url=None\n",
    "if url==None or re.search('http',url)==None:\n",
    "    # Si no hay info, ir desde Google\n",
    "    url = noticia_elegida['link']\n",
    "# Imprimir info importante\n",
    "print(medio,titular,url,sep='\\n\\n',end='\\n\\n')\n",
    "# Rompe defensa dummy anti-robot: https://stackoverflow.com/questions/38489386/python-requests-403-forbidden\n",
    "headers = {'User-Agent': 'Mozilla/5.0 (Macintosh; Intel Mac OS X 10_11_5) AppleWebKit/537.36 (KHTML, like Gecko) Chrome/50.0.2661.102 Safari/537.36'}\n",
    "# Obtener info de la página web\n",
    "res = requests.get(url,headers=headers)\n",
    "# Mostrar estado de la conexión\n",
    "print(\"Estado de conexión:\", res.status_code,res.reason, \"(200 = OK, 403 = NOT OK)\")"
   ]
  },
  {
   "cell_type": "markdown",
   "id": "5ced58f2-f647-4bb2-ac3a-ae68387c4e02",
   "metadata": {},
   "source": [
    "[[Volver al inicio]](#Contenido)"
   ]
  },
  {
   "cell_type": "markdown",
   "id": "87054a68-6561-46b0-825f-9c99d23d9a61",
   "metadata": {
    "tags": []
   },
   "source": [
    "## <span style=\"color:blue\">Beautiful Soup</span>"
   ]
  },
  {
   "cell_type": "markdown",
   "id": "d8de2cd8-5067-4a9c-bb5a-0e86ebbc8da1",
   "metadata": {},
   "source": [
    "En caso de tener conexión, `requests.content` copiará **todo** en contenido encontrado en la página fuente:"
   ]
  },
  {
   "cell_type": "code",
   "execution_count": 57,
   "id": "2a546225-4591-45a2-9982-5c2ba826579a",
   "metadata": {},
   "outputs": [
    {
     "name": "stdout",
     "output_type": "stream",
     "text": [
      "b'<!DOCTYPE html>\\n<html class=\"ArticlePage\" lang=\"es\">\\n    <head>\\n    <script>\\n    (function(w,d,s,l,i){w[l]=w[l]||[];w[l].push({\\'gtm.start\\':\\n        new Date().getTime(),event:\\'gtm.js\\'});var f=d.getElementsByTagName(s)[0],\\n        j=d.createElement(s),dl=l!=\\'dataLayer\\'?\\'&l=\\'+l:\\'\\';j.async=true;j.src=\\n        \\'https://www.googletagmanager.com/gtm.js?id=\\'+i+dl;f.parentNode.insertBefore(j,f);\\n    })(window,document,\\'script\\',\\'dataLayer\\',\\'GTM-TSL6M5R\\');\\n</script>\\n\\n<script>\\n    window.accenture = []\\n    window.accenture.enable = false;\\n    \\n        window.accenture.enable = true;\\n        window.accenture.action = \\'NC\\';\\n        window.accenture.category = \\'Articlepage\\';\\n        window.accenture.label = \\'Pedagog\\\\xeda\\\\x20electoral\\';\\n    \\n</script>\\n\\n    <link rel=\"preconnect\" href=\"https://caracoltv.brightspotcdn.com/\" crossorigin>\\n<link rel=\"preconnect\" href=\"https://www.googletagmanager.com/\" crossorigin>\\n<link rel=\"preconnect\" href=\"https://www.google-analytics.com/\" crossorigin>\\n<link rel=\"preconnect\" href=\"https://tpc.googlesyndication.com/\" crossorigin>\\n<link rel=\"preconnect\" href=\"https://pagead2.googlesyndication.com/\" crossorigin>\\n<link rel=\"preconnect\" href=\"https://googleads.g.doubleclick.net/\" crossorigin>\\n<link rel=\"preconnect\" href=\"https://securepubads.g.doubleclick.net/\" crossorigin>\\n<link rel=\"preconnect\" href=\"https://code.jquery.com/\" crossorigin>\\n<link rel=\"preconnect\" href=\"https://imasdk.googleapis.com/\" crossorigin>\\n<link rel=\"preconnect\" href=\"https://trc.taboola.com/\" crossorigin>\\n<link rel=\"preconnect\" href=\"https://cdn.taboola.com/\" crossorigin>\\n\\n\\n    <link rel=\"preload\" href=\"https://caracoltv.brightspotcdn.com/dims4/default/d55c10f/2147483647/strip/true/crop/750x375+0+0/resize/1200x600!/quality/90/?url=http%3A%2F%2Fcaracol-brightspot.s3.amazonaws.com%2F26%2F2f%2F5cb9520942de8f857623d1501e23%2Fvotacion-congreso.jpg\" as=\"image\">\\n\\n    <meta charset=\"UTF-8\" lang=\"es-CO\">\\n    <meta name=\"viewport\" content=\"width=device-width, initial-scale=1\">\\n    <meta '\n"
     ]
    }
   ],
   "source": [
    "# Obtener contenido Web\n",
    "html_page = res.content\n",
    "# Mostrar algo de código fuente\n",
    "print(html_page[:2000])"
   ]
  },
  {
   "cell_type": "markdown",
   "id": "0fddefae-6090-4acd-8003-0cdf463e5dda",
   "metadata": {},
   "source": [
    "Para poder decodificar símbolos especiales y organizar en forma coherente para python, usaremos la librería `BeautifulSoup`:"
   ]
  },
  {
   "cell_type": "code",
   "execution_count": 58,
   "id": "bbbb4d4d-fae6-47bc-baf5-5419aa023f94",
   "metadata": {},
   "outputs": [
    {
     "name": "stdout",
     "output_type": "stream",
     "text": [
      "<!DOCTYPE html>\n",
      "<html class=\"ArticlePage\" lang=\"es\">\n",
      " <head>\n",
      "  <script>\n",
      "   (function(w,d,s,l,i){w[l]=w[l]||[];w[l].push({'gtm.start':\n",
      "        new Date().getTime(),event:'gtm.js'});var f=d.getElementsByTagName(s)[0],\n",
      "        j=d.createElement(s),dl=l!='dataLayer'?'&l='+l:'';j.async=true;j.src=\n",
      "        'https://www.googletagmanager.com/gtm.js?id='+i+dl;f.parentNode.insertBefore(j,f);\n",
      "    })(window,document,'script','dataLayer','GTM-TSL6M5R');\n",
      "  </script>\n",
      "  <script>\n",
      "   window.accenture = []\n",
      "    window.accenture.enable = false;\n",
      "    \n",
      "        window.accenture.enable = true;\n",
      "        window.accenture.action = 'NC';\n",
      "        window.accenture.category = 'Articlepage';\n",
      "        window.accenture.label = 'Pedagog\\xeda\\x20electoral';\n",
      "  </script>\n",
      "  <link crossorigin=\"\" href=\"https://caracoltv.brightspotcdn.com/\" rel=\"preconnect\"/>\n",
      "  <link crossorigin=\"\" href=\"https://www.googletagmanager.com/\" rel=\"preconnect\"/>\n",
      "  <link crossorigin=\"\" href=\"https://www.google-analytics.com/\" rel=\"preconnect\"/>\n",
      "  <link crossorigin=\"\" href=\"https://tpc.googlesyndication.com/\" rel=\"preconnect\"/>\n",
      "  <link crossorigin=\"\" href=\"https://pagead2.googlesyndication.com/\" rel=\"preconnect\"/>\n",
      "  <link crossorigin=\"\" href=\"https://googleads.g.doubleclick.net/\" rel=\"preconnect\"/>\n",
      "  <link crossorigin=\"\" href=\"https://securepubads.g.doubleclick.net/\" rel=\"preconnect\"/>\n",
      "  <link crossorigin=\"\" href=\"https://code.jquery.com/\" rel=\"preconnect\"/>\n",
      "  <link crossorigin=\"\" href=\"https://imasdk.googleapis.com/\" rel=\"preconnect\"/>\n",
      "  <link crossorigin=\"\" href=\"https://trc.taboola.com/\" rel=\"preconnect\"/>\n",
      "  <link crossorigin=\"\" href=\"https://cdn.taboola.com/\" rel=\"preconnect\"/>\n",
      "  <link as=\"image\" href=\"https://caracoltv.brightspotcdn.com/dims4/default/d55c10f/2147483647/strip/true/crop/750x375+0+0/resize/1200x600!/quality/90/?url=http%3A%2F%2Fcaracol-brightspot.s3.amazonaws.com%2F26%2F2f%2F5cb9520942de8f857623d1501e23%2Fvotacion-congreso.jpg\" rel=\"preload\"/>\n",
      "  <meta charset=\"utf-8\" lang=\"es-CO\"/>\n",
      "  <meta content=\"width=device-widt\n"
     ]
    }
   ],
   "source": [
    "## Obtener la sopa del HTML (construye la estructura de datos para poder minar por tags)\n",
    "soup = BeautifulSoup(html_page, 'html.parser')\n",
    "# parser permite decodificar algunos símbolos\n",
    "print(soup.prettify()[:2000])"
   ]
  },
  {
   "cell_type": "markdown",
   "id": "ba9f3960-2268-44bf-8bea-9b44e741b90d",
   "metadata": {},
   "source": [
    "Notemos que BeautifulSoup tiene bastantes herramientas para trabajar: "
   ]
  },
  {
   "cell_type": "code",
   "execution_count": 59,
   "id": "ba3c031d-ee37-43d6-8063-707debc5ab6d",
   "metadata": {},
   "outputs": [
    {
     "name": "stdout",
     "output_type": "stream",
     "text": [
      "['ASCII_SPACES', 'DEFAULT_BUILDER_FEATURES', 'DEFAULT_INTERESTING_STRING_TYPES', 'NO_PARSER_SPECIFIED_WARNING', 'ROOT_TAG_NAME', '__bool__', '__call__', '__class__', '__contains__', '__copy__', '__delattr__', '__delitem__', '__dict__', '__dir__', '__doc__', '__eq__', '__format__', '__ge__', '__getattr__', '__getattribute__', '__getitem__', '__getstate__', '__gt__', '__hash__', '__init__', '__init_subclass__', '__iter__', '__le__', '__len__', '__lt__', '__module__', '__ne__', '__new__', '__reduce__', '__reduce_ex__', '__repr__', '__setattr__', '__setitem__', '__sizeof__', '__str__', '__subclasshook__', '__unicode__', '__weakref__', '_all_strings', '_check_markup_is_url', '_decode_markup', '_feed', '_find_all', '_find_one', '_is_xml', '_lastRecursiveChild', '_last_descendant', '_linkage_fixer', '_most_recent_element', '_namespaces', '_popToTag', '_should_pretty_print', 'append', 'attrs', 'builder', 'can_be_empty_element', 'cdata_list_attributes', 'childGenerator', 'children', 'clear', 'contains_replacement_characters', 'contents', 'currentTag', 'current_data', 'declared_html_encoding', 'decode', 'decode_contents', 'decompose', 'decomposed', 'default', 'descendants', 'element_classes', 'encode', 'encode_contents', 'endData', 'extend', 'extract', 'fetchNextSiblings', 'fetchParents', 'fetchPrevious', 'fetchPreviousSiblings', 'find', 'findAll', 'findAllNext', 'findAllPrevious', 'findChild', 'findChildren', 'findNext', 'findNextSibling', 'findNextSiblings', 'findParent', 'findParents', 'findPrevious', 'findPreviousSibling', 'findPreviousSiblings', 'find_all', 'find_all_next', 'find_all_previous', 'find_next', 'find_next_sibling', 'find_next_siblings', 'find_parent', 'find_parents', 'find_previous', 'find_previous_sibling', 'find_previous_siblings', 'format_string', 'formatter_for_name', 'get', 'getText', 'get_attribute_list', 'get_text', 'handle_data', 'handle_endtag', 'handle_starttag', 'has_attr', 'has_key', 'hidden', 'index', 'insert', 'insert_after', 'insert_before', 'interesting_string_types', 'isSelfClosing', 'is_empty_element', 'is_xml', 'known_xml', 'markup', 'name', 'namespace', 'new_string', 'new_tag', 'next', 'nextGenerator', 'nextSibling', 'nextSiblingGenerator', 'next_element', 'next_elements', 'next_sibling', 'next_siblings', 'object_was_parsed', 'open_tag_counter', 'original_encoding', 'parent', 'parentGenerator', 'parents', 'parse_only', 'parserClass', 'parser_class', 'popTag', 'prefix', 'preserve_whitespace_tag_stack', 'preserve_whitespace_tags', 'prettify', 'previous', 'previousGenerator', 'previousSibling', 'previousSiblingGenerator', 'previous_element', 'previous_elements', 'previous_sibling', 'previous_siblings', 'pushTag', 'recursiveChildGenerator', 'renderContents', 'replaceWith', 'replaceWithChildren', 'replace_with', 'replace_with_children', 'reset', 'select', 'select_one', 'setup', 'smooth', 'string', 'string_container', 'string_container_stack', 'strings', 'stripped_strings', 'tagStack', 'text', 'unwrap', 'wrap']\n"
     ]
    }
   ],
   "source": [
    "print(dir(soup))"
   ]
  },
  {
   "cell_type": "markdown",
   "id": "6288f3c2-6422-4dc0-8eff-51f5d6c68655",
   "metadata": {},
   "source": [
    "[[Volver al inicio]](#Contenido)"
   ]
  },
  {
   "cell_type": "markdown",
   "id": "192603a6-aadf-4e12-86af-4b50cd740f1e",
   "metadata": {},
   "source": [
    "### Obtención del texto de la noticia"
   ]
  },
  {
   "cell_type": "code",
   "execution_count": 60,
   "id": "f6d2501e-127a-489c-b45b-eb1cdb2e0954",
   "metadata": {},
   "outputs": [
    {
     "name": "stdout",
     "output_type": "stream",
     "text": [
      "None\n",
      "\n",
      "¿Necesita cambiar el puesto de votación para las elecciones presidenciales? Vea cómo hacerlo - Noticias Caracol\n",
      "\n",
      "https://news.google.com/__i/rss/rd/articles/CBMiqgFodHRwczovL25vdGljaWFzLmNhcmFjb2x0di5jb20vcG9saXRpY2EvZWxlY2Npb25lcy1jb2xvbWJpYS9wZWRhZ29naWEtZWxlY3RvcmFsL25lY2VzaXRhLWNhbWJpYXItZWwtcHVlc3RvLWRlLXZvdGFjaW9uLXBhcmEtbGFzLWVsZWNjaW9uZXMtcHJlc2lkZW5jaWFsZXMtdmVhLWNvbW8taGFjZXJsb9IBAA?oc=5\n",
      "\n"
     ]
    }
   ],
   "source": [
    "# Info Básica\n",
    "print(medio,titular,url,sep='\\n\\n',end='\\n\\n')"
   ]
  },
  {
   "cell_type": "code",
   "execution_count": 63,
   "id": "f42719e0-6a55-4fc6-853e-a89f5125998b",
   "metadata": {},
   "outputs": [
    {
     "data": {
      "text/plain": [
       "[<div class=\"RichTextArticleBody\">\n",
       " <div class=\"RichTextArticleBody-body RichTextBody\"><p>Según la Registraduría Nacional, hasta el próximo 29 de marzo hay plazo de inscripción de cédulas para las<ps-link>\n",
       " <a category=\"category-link\" class=\"Link\" data-cms-ai=\"0\" href=\"https://noticias.caracoltv.com/politica/elecciones-colombia/pedagogia-electoral/elecciones-colombia-2022-quienes-pueden-votar-acompanados\" title=\" elecciones presidenciales\" type=\"text/html\"> elecciones presidenciales</a>\n",
       " </ps-link>. La Organización Electoral atenderá en cada una de sus sedes <b>desde las 8:00 a.m. hasta las 4:00 p.m. </b>De igual forma, todos los ciudadanos que deseen cambiar su puesto de votación lo pueden hacer dentro de estas fechas. </p><ul><li><b><i>Le puede interesar: <ps-link>\n",
       " <a category=\"category-link\" class=\"Link\" data-cms-ai=\"0\" href=\"https://noticias.caracoltv.com/politica/elecciones-colombia/pedagogia-electoral/es-obligatorio-el-carne-de-vacunacion-para-votar-este-13-de-marzo\" title=\"¿Es obligatorio el carné de vacunación para votar este 13 de marzo?\" type=\"text/html\">¿Es obligatorio el carné de vacunación para votar este 13 de marzo?</a>\n",
       " </ps-link></i></b></li></ul><h2 class=\"cms-hs-h2\">¿Cómo cambiar el puesto de votación?</h2><p>Este trámite lo puede realizar de manera presencial en las diferentes sedes de la Registraduría, también es posible desde la página de la entidad.</p>\n",
       " <div class=\"GoogleDfpAd-Content\" data-slot-name=\"100249493/noticiascaracol/politica\">\n",
       " <div class=\"GoogleDfpAd-Lazy\" data-box=\"\" id=\"Lazyload-googleAd_inline_9c87ee09-4ad2-4ecd-a8e4-edbd8a3b9de7\" targeting='{\"Posicion\":[\"inline\"]}'>\n",
       " <p class=\"GoogleDfpAd-advertisement\">Publicidad</p>\n",
       " <div class=\"GoogleDfpAd\" data-module=\"\" data-prebidsjson=\"[]\" data-slot-name=\"100249493/noticiascaracol/politica\" data-slot-sizes=\"[[300, 250]]\" data-targeting='{\"Posicion\":[\"inline\"]}' id=\"googleAd_inline_9c87ee09-4ad2-4ecd-a8e4-edbd8a3b9de7\">\n",
       " <span class=\"GoogleDfpAd-placeholder\"></span>\n",
       " </div>\n",
       " </div>\n",
       " </div><p>\n",
       "         \n",
       "     \n",
       " Si prefiere cambiar su puesto de votación desde el sitio web, simplemente <b>debe ingresar a <ps-link>\n",
       " <a category=\"category-link\" class=\"Link\" data-cms-ai=\"0\" href=\"https://inscripcionciudadanos.registraduria.gov.co/\" rel=\"noreferrer\" target=\"_blank\" title=\"https://inscripcionciudadanos.registraduria.gov.co/\" type=\"text/html\">https://inscripcionciudadanos.registraduria.gov.co/</a>\n",
       " </ps-link> y digitar su número de cédula y fecha de expedición de la misma. </b></p><p>Una vez ejecutado este proceso deberá descargar el comprobante del cambio de puesto de votación. </p>\n",
       " <div class=\"GoogleDfpAd-Content\" data-slot-name=\"100249493/noticiascaracol/politica\">\n",
       " <div class=\"GoogleDfpAd-Lazy\" data-box=\"\" id=\"Lazyload-googleAd_inline_805a4d87-42ac-4d99-b7ba-1762993c696a\" targeting='{\"Posicion\":[\"inline\"]}'>\n",
       " <p class=\"GoogleDfpAd-advertisement\">Publicidad</p>\n",
       " <div class=\"GoogleDfpAd\" data-module=\"\" data-prebidsjson=\"[]\" data-slot-name=\"100249493/noticiascaracol/politica\" data-slot-sizes=\"[[300, 250]]\" data-targeting='{\"Posicion\":[\"inline\"]}' id=\"googleAd_inline_805a4d87-42ac-4d99-b7ba-1762993c696a\">\n",
       " <span class=\"GoogleDfpAd-placeholder\"></span>\n",
       " </div>\n",
       " </div>\n",
       " </div>\n",
       " <ul><li><b><i>Puede leer: <ps-link>\n",
       " <a category=\"category-link\" class=\"Link\" data-cms-ai=\"0\" href=\"https://noticias.caracoltv.com/politica/elecciones-colombia/pedagogia-electoral/cuales-son-los-documentos-validos-para-ejercer-el-derecho-al-voto\" title=\"¿Cuáles son los documentos válidos para ejercer el derecho al voto?\" type=\"text/html\">¿Cuáles son los documentos válidos para ejercer el derecho al voto?</a>\n",
       " </ps-link></i></b></li></ul><h2 class=\"cms-hs-h2\">¿Cómo inscribir la cédula?</h2><p>Es importante que antes de proceder con la inscripción de la cédula se confirme el puesto de votación actual. Debe acercarse con el documento original a cualquier sede de la Registraduría en horario de 8:00 a.m. a 4:00 p.m. Cuando se realice el proceso de autenticación biométrica, se llevará a cabo el cambio de lugar de votación.<br/></p></div>\n",
       " </div>]"
      ]
     },
     "execution_count": 63,
     "metadata": {},
     "output_type": "execute_result"
    }
   ],
   "source": [
    "texto = soup.find_all('div',{'class': 'RichTextArticleBody'})\n",
    "texto"
   ]
  },
  {
   "cell_type": "raw",
   "id": "e10c3e32-7398-4882-aea1-9b4abe46f055",
   "metadata": {},
   "source": [
    "# Para italia, il mattino\n",
    "texto = soup.find_all('script',{'type':'application/ld+json'})\n",
    "# Encontrar dentro del script la parte de , \"content\":\"...\n",
    "p=re.compile('([^,\\\"*]*\\w+\\s[^\\\"]*\\.)')\n",
    "# Encontrar texto escondido\n",
    "texto= p.findall(''.join(str(texto)))\n",
    "texto"
   ]
  },
  {
   "cell_type": "markdown",
   "id": "21cedbf8-fee5-490a-9c28-9c8a0abf4d6e",
   "metadata": {},
   "source": [
    "Librería `html2text`"
   ]
  },
  {
   "cell_type": "code",
   "execution_count": 64,
   "id": "c69f3539-88a6-41d5-98a2-f5bb8f52eca1",
   "metadata": {},
   "outputs": [
    {
     "data": {
      "text/plain": [
       "'[\\n\\nSegún la Registraduría Nacional, hasta el próximo 29 de marzo hay plazo de\\ninscripción de cédulas para las [ elecciones\\npresidenciales](https://noticias.caracoltv.com/politica/elecciones-\\ncolombia/pedagogia-electoral/elecciones-colombia-2022-quienes-pueden-votar-\\nacompanados \" elecciones presidenciales\") . La Organización Electoral atenderá\\nen cada una de sus sedes **desde las 8:00 a.m. hasta las 4:00 p.m.** De igual\\nforma, todos los ciudadanos que deseen cambiar su puesto de votación lo pueden\\nhacer dentro de estas fechas.\\n\\n  * **_Le puede interesar: [¿Es obligatorio el carné de vacunación para votar este 13 de marzo?](https://noticias.caracoltv.com/politica/elecciones-colombia/pedagogia-electoral/es-obligatorio-el-carne-de-vacunacion-para-votar-este-13-de-marzo \"¿Es obligatorio el carné de vacunación para votar este 13 de marzo?\") _**\\n\\n## ¿Cómo cambiar el puesto de votación?\\n\\nEste trámite lo puede realizar de manera presencial en las diferentes sedes de\\nla Registraduría, también es posible desde la página de la entidad.\\n\\nPublicidad\\n\\nSi prefiere cambiar su puesto de votación desde el sitio web, simplemente\\n**debe ingresar a <https://inscripcionciudadanos.registraduria.gov.co/> y\\ndigitar su número de cédula y fecha de expedición de la misma. **\\n\\nUna vez ejecutado este proceso deberá descargar el comprobante del cambio de\\npuesto de votación.\\n\\nPublicidad\\n\\n  * **_Puede leer: [¿Cuáles son los documentos válidos para ejercer el derecho al voto?](https://noticias.caracoltv.com/politica/elecciones-colombia/pedagogia-electoral/cuales-son-los-documentos-validos-para-ejercer-el-derecho-al-voto \"¿Cuáles son los documentos válidos para ejercer el derecho al voto?\") _**\\n\\n## ¿Cómo inscribir la cédula?\\n\\nEs importante que antes de proceder con la inscripción de la cédula se\\nconfirme el puesto de votación actual. Debe acercarse con el documento\\noriginal a cualquier sede de la Registraduría en horario de 8:00 a.m. a 4:00\\np.m. Cuando se realice el proceso de autenticación biométrica, se llevará a\\ncabo el cambio de lugar de votación.  \\n\\n]\\n\\n'"
      ]
     },
     "execution_count": 64,
     "metadata": {},
     "output_type": "execute_result"
    }
   ],
   "source": [
    "# Convertit HTML a Texto    \n",
    "texto_limpio = html2text.html2text(''.join(str(texto)))\n",
    "texto_limpio"
   ]
  },
  {
   "cell_type": "markdown",
   "id": "624807de-9031-445b-9687-adf1d494cdd8",
   "metadata": {},
   "source": [
    "[[Volver al inicio]](#Contenido)"
   ]
  },
  {
   "cell_type": "markdown",
   "id": "a33be511-155a-4be9-b140-f697c41e4cd4",
   "metadata": {
    "tags": []
   },
   "source": [
    "## <span style=\"color:blue\">Limpieza Básica usando expresiones regulares</span>"
   ]
  },
  {
   "cell_type": "markdown",
   "id": "0284ae11-f400-42fa-8537-2badece8caf7",
   "metadata": {},
   "source": [
    "Para mayor información, recomendamos visitar [Regular Expressions Cheat Sheet](https://cheatography.com/davechild/cheat-sheets/regular-expressions/), para un resumen de las posibilidades de las expresiones regulares. \n",
    "\n",
    "También podemos acceder a un tester para probar todo tipo de patrones en [RegExr: Learn, Build, & Test RegEx](https://regexr.com/)"
   ]
  },
  {
   "cell_type": "code",
   "execution_count": 65,
   "id": "28bc8e23-68bc-4fc5-a458-c991e2648351",
   "metadata": {},
   "outputs": [
    {
     "data": {
      "text/plain": [
       "'Según la Registraduría Nacional, hasta el próximo 29 de marzo hay plazo de inscripción de cédulas para las elecciones presidenciales . La Organización Electoral atenderá en cada una de sus sedes desde las 8:00 a.m. hasta las 4:00 p.m. De igual forma, todos los ciudadanos que deseen cambiar su puesto de votación lo pueden hacer dentro de estas fechas. _Le puede interesar: ¿Es obligatorio el carné de vacunación para votar este 13 de marzo? _ ## ¿Cómo cambiar el puesto de votación? Este trámite lo puede realizar de manera presencial en las diferentes sedes de la Registraduría, también es posible desde la página de la entidad. Publicidad Si prefiere cambiar su puesto de votación desde el sitio web, simplemente debe ingresar a <https://inscripcionciudadanos.registraduria.gov.co/> y digitar su número de cédula y fecha de expedición de la misma. Una vez ejecutado este proceso deberá descargar el comprobante del cambio de puesto de votación. Publicidad _Puede leer: ¿Cuáles son los documentos válidos para ejercer el derecho al voto? _ ## ¿Cómo inscribir la cédula? Es importante que antes de proceder con la inscripción de la cédula se confirme el puesto de votación actual. Debe acercarse con el documento original a cualquier sede de la Registraduría en horario de 8:00 a.m. a 4:00 p.m. Cuando se realice el proceso de autenticación biométrica, se llevará a cabo el cambio de lugar de votación.'"
      ]
     },
     "execution_count": 65,
     "metadata": {},
     "output_type": "execute_result"
    }
   ],
   "source": [
    "#Quitar links\n",
    "texto_limpio = re.sub(r'\\([^)]*\\)',' ',texto_limpio)\n",
    "# Quitar paréntesis redondos y cuadrados después de quitar links\n",
    "texto_limpio = re.sub(r'[\\[\\]\\(\\)]','',texto_limpio)\n",
    "# Quitar saltos de línea\n",
    "texto_limpio = re.sub(r'\\n',' ',texto_limpio)\n",
    "# Quitar asteriscos\n",
    "texto_limpio = re.sub(r'\\*',' ',texto_limpio)\n",
    "# Quitar comillas sencillas y reemplazar por dobles\n",
    "texto_limpio = re.sub(r\"[\\\\']\",'\\'',texto_limpio)\n",
    "# Quitar todo lo que no tenga punto al final, después del punto final.\n",
    "texto_limpio = re.sub(r'([^.]*$)','',texto_limpio)\n",
    "# Quitar Espacios extra (dos o más)\n",
    "texto_limpio = re.sub('\\s\\s+', ' ',texto_limpio)\n",
    "# Quitar el patrón . , [texto]\n",
    "texto_limpio = re.sub('\\.\\s,\\s', '. ',texto_limpio)\n",
    "# Algunos países tienen prob\n",
    "texto_limpio = re.sub(u'\\\\\\'xa0','',texto_limpio)\n",
    "# Quitar espacios iniciales y finales\n",
    "texto_limpio = texto_limpio.strip()\n",
    "texto_limpio"
   ]
  },
  {
   "cell_type": "markdown",
   "id": "9af81d8a-1fca-42d6-8ecc-0aaf7cf7c6ef",
   "metadata": {},
   "source": [
    "[[Volver al inicio]](#Contenido)"
   ]
  },
  {
   "cell_type": "markdown",
   "id": "c56e9d5d-3542-4f54-8497-4272a8888973",
   "metadata": {},
   "source": [
    "### Uniendo Piezas"
   ]
  },
  {
   "cell_type": "code",
   "execution_count": 154,
   "id": "fa558397-64df-49a9-9185-20cb8029bee5",
   "metadata": {},
   "outputs": [
    {
     "name": "stdout",
     "output_type": "stream",
     "text": [
      "None\n",
      "\n",
      "¿Necesita cambiar el puesto de votación para las elecciones presidenciales? Vea cómo hacerlo - Noticias Caracol\n",
      "\n",
      "https://news.google.com/__i/rss/rd/articles/CBMiqgFodHRwczovL25vdGljaWFzLmNhcmFjb2x0di5jb20vcG9saXRpY2EvZWxlY2Npb25lcy1jb2xvbWJpYS9wZWRhZ29naWEtZWxlY3RvcmFsL25lY2VzaXRhLWNhbWJpYXItZWwtcHVlc3RvLWRlLXZvdGFjaW9uLXBhcmEtbGFzLWVsZWNjaW9uZXMtcHJlc2lkZW5jaWFsZXMtdmVhLWNvbW8taGFjZXJsb9IBAA?oc=5\n",
      "\n",
      "Publicidad , Publicidad , Publicidad , Publicidad , Según la Registraduría Nacional, hasta el próximo 29 de marzo hay plazo de inscripción de cédulas para las elecciones presidenciales . La Organización Electoral atenderá en cada una de sus sedes desde las 8:00 a.m. hasta las 4:00 p.m. De igual forma, todos los ciudadanos que deseen cambiar su puesto de votación lo pueden hacer dentro de estas fechas. Este trámite lo puede realizar de manera presencial en las diferentes sedes de la Registraduría, también es posible desde la página de la entidad. Publicidad , Si prefiere cambiar su puesto de votación desde el sitio web, simplemente debe ingresar a <https://inscripcionciudadanos.registraduria.gov.co/> y digitar su número de cédula y fecha de expedición de la misma. Una vez ejecutado este proceso deberá descargar el comprobante del cambio de puesto de votación. Publicidad , Es importante que antes de proceder con la inscripción de la cédula se confirme el puesto de votación actual. Debe acercarse con el documento original a cualquier sede de la Registraduría en horario de 8:00 a.m. a 4:00 p.m. Cuando se realice el proceso de autenticación biométrica, se llevará a cabo el cambio de lugar de votación.\n"
     ]
    }
   ],
   "source": [
    "# Elegir noticia al azar\n",
    "noticia_elegida = np.random.randint(len(noticias))\n",
    "\n",
    "# url de la noticia elegida\n",
    "url = noticias[noticia_elegida]['url']\n",
    "# Elegir link adecuado, a veces url=None\n",
    "if url==None or re.search('http',url)==None:\n",
    "    # Si no hay info, ir desde Google\n",
    "    url = noticias[noticia_elegida]['link']\n",
    "    \n",
    "# nombre del sitio de la noticia\n",
    "medio = noticias[noticia_elegida]['site_name']\n",
    "# Titular de la noticia\n",
    "titular = noticias[noticia_elegida]['title']\n",
    "\n",
    "# Rompe defensa dummy anti-robot: https://stackoverflow.com/questions/38489386/python-requests-403-forbidden\n",
    "headers = {'User-Agent': 'Mozilla/5.0 (Macintosh; Intel Mac OS X 10_11_5) AppleWebKit/537.36 (KHTML, like Gecko) Chrome/50.0.2661.102 Safari/537.36'}\n",
    "# Obtener info de la página web\n",
    "res = requests.get(url,headers=headers)\n",
    "\n",
    "# Extraer contenido\n",
    "html_page = res.content\n",
    "# Parsing del contenido en forma de árbol\n",
    "soup = BeautifulSoup(html_page, 'html.parser')\n",
    "# En caso de que tengamos que ir más profundo en la fuente\n",
    "#print(soup.prettify())\n",
    "\n",
    "# Info Básica\n",
    "print(medio,titular,url,sep='\\n\\n',end='\\n\\n')\n",
    "\n",
    "# Cuando se tiene error 403\n",
    "if re.search('403',str(res)):\n",
    "    print('\\nNo se puede mirar ésta Noticia... Estado de la petición:', res)\n",
    "    print(f'\\nLe recomendamos chequear el link para ver qué ocurrió.')\n",
    "    texto = []\n",
    "# Sirve para El Tiempo\n",
    "elif re.search(re.compile('Tiempo|ElTiempo'),titular):\n",
    "    texto = soup.find_all('p',{'class': 'contenido'})\n",
    "elif re.search(re.compile('Caracol'),titular):\n",
    "    texto = soup.find_all('p')\n",
    "    # Todas las noticias de CR comienzan con negrita (Hasta ahora)\n",
    "    p = re.compile('^[^\\*]*\\*')\n",
    "    # Quitar Las propagandas del inicio\n",
    "    texto = re.sub(p,'',''.join(str(texto)))\n",
    "else:\n",
    "    print(\"Medio de comunicación no reconocido. Los resultados pueden salirse de lo esperado.\\n\")\n",
    "    texto = []\n",
    "    \n",
    "#print(texto)\n",
    "if texto:\n",
    "    # Convertit HTML a Texto    \n",
    "    texto_limpio = html2text.html2text(''.join(str(texto)))\n",
    "    #Quitar links\n",
    "    texto_limpio = re.sub(r'\\([^)]*\\)',' ',texto_limpio)\n",
    "    # Quitar paréntesis redondos y cuadrados después de quitar links\n",
    "    texto_limpio = re.sub(r'[\\[\\]\\(\\)]','',texto_limpio)\n",
    "    # Quitar saltos de línea\n",
    "    texto_limpio = re.sub(r'\\n',' ',texto_limpio)\n",
    "    # Quitar asteriscos\n",
    "    texto_limpio = re.sub(r'\\*',' ',texto_limpio)\n",
    "    # Quitar comillas sencillas y reemplazar por dobles\n",
    "    texto_limpio = re.sub(r\"[\\\\']\",'\\'',texto_limpio)\n",
    "    # Especial para el Colombiano, se mezclan noticias después de >\n",
    "    #texto_limpio = re.sub(r'(>[^>]*$)','',texto_limpio)\n",
    "    #Quitar todo lo que no tenga punto al final, después del punto final.\n",
    "    texto_limpio = re.sub(r'([^.]*$)','',texto_limpio)\n",
    "    # Quitar Espacios extra (dos o más)\n",
    "    texto_limpio = re.sub('\\s\\s+', ' ',texto_limpio)\n",
    "    # Quitar el patrón . , texto\n",
    "    texto_limpio = re.sub('\\.\\s,\\s', '. ',texto_limpio)\n",
    "    # Quitar espacios iniciales y finales\n",
    "    texto_limpio = texto_limpio.strip()\n",
    "else: texto_limpio=[]\n",
    "\n",
    "if texto_limpio:\n",
    "    print(texto_limpio)\n",
    "elif not re.search('403',str(res)):\n",
    "    print('\\nNo se puede minar ésta Noticia...')\n",
    "    print(f'\\nLe recomendamos chequear el link para ver qué ocurrió.')"
   ]
  },
  {
   "cell_type": "markdown",
   "id": "81707f08-5926-4276-9911-3b1da528e43f",
   "metadata": {},
   "source": [
    "[[Volver al inicio]](#Contenido)"
   ]
  },
  {
   "cell_type": "markdown",
   "id": "ca9aad79-75f1-4354-a96a-818b728b3397",
   "metadata": {
    "tags": []
   },
   "source": [
    "## <span style=\"color:blue\">Ir más allá</span>"
   ]
  },
  {
   "cell_type": "code",
   "execution_count": 156,
   "id": "a9a8f5cd-ea08-435c-ace7-517a460e0cbf",
   "metadata": {},
   "outputs": [],
   "source": [
    "# Separar texto en frases (Para el transformer)\n",
    "from sentence_utils import split_into_sentences\n",
    "# Utilidad de resumen y traducción\n",
    "from transformers import pipeline"
   ]
  },
  {
   "cell_type": "code",
   "execution_count": 157,
   "id": "1e651288-ad69-489e-9471-738b4c323a21",
   "metadata": {},
   "outputs": [],
   "source": [
    "traductor = pipeline(\"translation\", model=\"Helsinki-NLP/opus-mt-es-en\")"
   ]
  },
  {
   "cell_type": "code",
   "execution_count": 158,
   "id": "df3e0388-bb78-44fd-bf25-b77bdaccb161",
   "metadata": {},
   "outputs": [
    {
     "name": "stdout",
     "output_type": "stream",
     "text": [
      "8 Frases encontradas.\n"
     ]
    }
   ],
   "source": [
    "frases = split_into_sentences(texto_limpio)\n",
    "print(f\"{len(frases)} Frases encontradas.\")"
   ]
  },
  {
   "cell_type": "code",
   "execution_count": 159,
   "id": "de537235-e733-4dbc-8395-601111f77c27",
   "metadata": {},
   "outputs": [],
   "source": [
    "traducciones_frases = traductor(frases)"
   ]
  },
  {
   "cell_type": "code",
   "execution_count": 160,
   "id": "0b79f3e7-136e-41bf-976b-39863ad14cbe",
   "metadata": {},
   "outputs": [
    {
     "data": {
      "text/plain": [
       "'Advertising , Advertising , Advertising , Advertising , According to the National Registry , until March 29 there is a deadline for the registration of ballot papers for the presidential elections . The Electoral Organization will attend at each of its seats from 8:00 a.m. to 4:00 p.m. Likewise, all citizens who wish to change their voting position can do so within these dates. This procedure can be carried out in person at the different offices of the Registry, it is also possible from the website of the entity. Advertising , If you prefer to change your voting position from the website, simply enter <https://citizens registration. register.gov.co/> and type in your card number and date of issue. Once this process has been carried out, you will need to download proof of the change of voting position. Publicity , It is important that before proceeding with the registration of the ballot paper the current voting position is confirmed. You should approach the original document at any Registry venue from 8:00 a.m. to 4:00 p.m. When the biometric authentication process is performed, the change of polling place will take place.'"
      ]
     },
     "execution_count": 160,
     "metadata": {},
     "output_type": "execute_result"
    }
   ],
   "source": [
    "traduccion = [traduccion['translation_text'] for traduccion in traducciones_frases]\n",
    "traduccion = ' '.join(traduccion)\n",
    "traduccion"
   ]
  },
  {
   "cell_type": "code",
   "execution_count": 161,
   "id": "996ec9c7-1e97-4938-981d-a163867c2b90",
   "metadata": {},
   "outputs": [
    {
     "name": "stderr",
     "output_type": "stream",
     "text": [
      "No model was supplied, defaulted to sshleifer/distilbart-cnn-12-6 (https://huggingface.co/sshleifer/distilbart-cnn-12-6)\n"
     ]
    }
   ],
   "source": [
    "sumarizer = pipeline('summarization',min_length=100)"
   ]
  },
  {
   "cell_type": "code",
   "execution_count": 162,
   "id": "9789af9c-52e6-4ae6-bfb2-ecded97d72bd",
   "metadata": {},
   "outputs": [],
   "source": [
    "resumen = sumarizer(traduccion)"
   ]
  },
  {
   "cell_type": "code",
   "execution_count": 163,
   "id": "afbda0a7-5db1-4af3-a6ec-32bc5a790b22",
   "metadata": {},
   "outputs": [
    {
     "data": {
      "text/plain": [
       "' Until March 29 there is a deadline for the registration of ballot papers for the presidential elections . All citizens who wish to change their voting position can do so within these dates . This procedure can be carried out in person at the different offices of the Registry, it is also possible from the website of the entity . The Electoral Organization will attend at each of its seats from 8:00 a.m. to 4:00 p.m., the change of polling place will take place when the biometric authentication process is performed .'"
      ]
     },
     "execution_count": 163,
     "metadata": {},
     "output_type": "execute_result"
    }
   ],
   "source": [
    "resumen_en = resumen[0]['summary_text']\n",
    "resumen_en"
   ]
  },
  {
   "cell_type": "code",
   "execution_count": 164,
   "id": "dcda0768-eceb-4cd7-bfd2-9e0176280cc2",
   "metadata": {},
   "outputs": [],
   "source": [
    "traductor_en_es = pipeline(\"translation\", model=\"Helsinki-NLP/opus-mt-en-es\")"
   ]
  },
  {
   "cell_type": "code",
   "execution_count": 165,
   "id": "92870235-e41b-4d45-b19c-87c995763f88",
   "metadata": {},
   "outputs": [],
   "source": [
    "resumen_es = traductor_en_es(resumen_en)"
   ]
  },
  {
   "cell_type": "code",
   "execution_count": 166,
   "id": "0a40f511-01d1-46cf-b610-2d334a608529",
   "metadata": {},
   "outputs": [
    {
     "data": {
      "text/plain": [
       "'Hasta el 29 de marzo hay un plazo para la inscripción de papeletas de votación para las elecciones presidenciales . Todos los ciudadanos que deseen cambiar su posición de voto pueden hacerlo dentro de estas fechas . Este procedimiento se puede llevar a cabo en persona en las diferentes oficinas del Registro, también es posible desde el sitio web de la entidad . La Organización Electoral asistirá a cada uno de sus asientos de 8:00 a.m. a 4:00 p.m., el cambio de lugar de votación se llevará a cabo cuando se realice el proceso de autenticación biométrica .'"
      ]
     },
     "execution_count": 166,
     "metadata": {},
     "output_type": "execute_result"
    }
   ],
   "source": [
    "resumen_final = resumen_es[0]['translation_text']\n",
    "resumen_final"
   ]
  },
  {
   "cell_type": "markdown",
   "id": "b5ccaa4d-d18d-4b0c-9cde-53de76c39f0f",
   "metadata": {},
   "source": [
    "[[Volver al inicio]](#Contenido)"
   ]
  },
  {
   "cell_type": "markdown",
   "id": "d0a062a4-c63d-4276-a975-9ce7eb497d98",
   "metadata": {},
   "source": [
    "**Reto:**\n",
    "\n",
    "Encontrar la mayoría de patrones para todas las noticias que puede extraer Google News.\n",
    "\n",
    "**Pista:**\n",
    "\n",
    "```\n",
    "# Sirve para Revista Semana (IOY)\n",
    "elif re.search(re.compile('Semana'),titular):\n",
    "    texto = soup.find_all('script',{'id':'fusion-metadata'})\n",
    "    # Encontrar dentro del script la parte de , \"content\":\"...\n",
    "    p=re.compile('([^,\\\"*]*\\w+\\s[^\\\"]*\\.)')\n",
    "    # Encontrar texto escondido\n",
    "    texto= p.findall(''.join(str(texto)))\n",
    "    # Chambonada chévere, quitar partes finales (No creo que siempre funcione)\n",
    "    texto = [re.sub(re.compile(r'\\b(Últimas)\\b.*|\\b(últimas)\\b.*|\\b(Noticias)\\b.*|\\b(Nación)\\b.*|\\b(Revista Semana)\\b.*'),'',token) for token in texto]\n",
    "    texto = ''.join(texto)\n",
    "```"
   ]
  }
 ],
 "metadata": {
  "kernelspec": {
   "display_name": "Python 3 (ipykernel)",
   "language": "python",
   "name": "python3"
  },
  "language_info": {
   "codemirror_mode": {
    "name": "ipython",
    "version": 3
   },
   "file_extension": ".py",
   "mimetype": "text/x-python",
   "name": "python",
   "nbconvert_exporter": "python",
   "pygments_lexer": "ipython3",
   "version": "3.10.8"
  }
 },
 "nbformat": 4,
 "nbformat_minor": 5
}
