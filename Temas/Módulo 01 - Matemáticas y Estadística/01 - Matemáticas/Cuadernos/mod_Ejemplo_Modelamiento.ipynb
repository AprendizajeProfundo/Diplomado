{
 "cells": [
  {
   "cell_type": "markdown",
   "metadata": {},
   "source": [
    "<figure>\n",
    "<img src=\"../Imagenes/logo-final-ap.png\"  width=\"80\" height=\"80\" align=\"left\"/> \n",
    "</figure>\n",
    "\n",
    "# <span style=\"color:#4361EE\"><left>Aprendizaje Profundo</left></span>"
   ]
  },
  {
   "cell_type": "markdown",
   "metadata": {
    "tags": []
   },
   "source": [
    "# <span style=\"color:red\"><center>Diplomado en Inteligencia Artificial y Aprendizaje Profundo</center></span>"
   ]
  },
  {
   "cell_type": "markdown",
   "metadata": {},
   "source": [
    "# <span style=\"color:green\"><center>Ejemplos de Modelamiento</center></span>"
   ]
  },
  {
   "cell_type": "markdown",
   "metadata": {},
   "source": [
    "## <span style=\"color:#4361EE\">Profesores</span>"
   ]
  },
  {
   "cell_type": "markdown",
   "metadata": {},
   "source": [
    "1. Alvaro  Montenegro, PhD, ammontenegrod@unal.edu.co\n",
    "1. Camilo José Torres Jiménez, Msc, cjtorresj@unal.edu.co\n",
    "1. Daniel  Montenegro, Msc, dextronomo@gmail.com "
   ]
  },
  {
   "cell_type": "markdown",
   "metadata": {},
   "source": [
    "## <span style=\"color:#4361EE\">Asesora Medios y Marketing digital</span>"
   ]
  },
  {
   "cell_type": "markdown",
   "metadata": {},
   "source": [
    "4. Maria del Pilar Montenegro, pmontenegro88@gmail.com\n",
    "5. Jessica López Mejía, jelopezme@unal.edu.co"
   ]
  },
  {
   "cell_type": "markdown",
   "metadata": {},
   "source": [
    "## <span style=\"color:#4361EE\">Jefe Jurídica</span>"
   ]
  },
  {
   "cell_type": "markdown",
   "metadata": {},
   "source": [
    "6. Paula Andrea Guzmán, guzmancruz.paula@gmail.com"
   ]
  },
  {
   "cell_type": "markdown",
   "metadata": {},
   "source": [
    "## <span style=\"color:#4361EE\">Coordinador Jurídico</span>"
   ]
  },
  {
   "cell_type": "markdown",
   "metadata": {},
   "source": [
    "7. David Fuentes, fuentesd065@gmail.com"
   ]
  },
  {
   "cell_type": "markdown",
   "metadata": {},
   "source": [
    "## <span style=\"color:#4361EE\">Desarrolladores Principales</span>"
   ]
  },
  {
   "cell_type": "markdown",
   "metadata": {},
   "source": [
    "8. Dairo Moreno, damoralesj@unal.edu.co\n",
    "9. Joan Castro, jocastroc@unal.edu.co\n",
    "10. Bryan Riveros, briveros@unal.edu.co\n",
    "11. Rosmer Vargas, rovargasc@unal.edu.co\n",
    "12. Venus Puertas, vpuertasg@unal.edu.co"
   ]
  },
  {
   "cell_type": "markdown",
   "metadata": {},
   "source": [
    "## <span style=\"color:#4361EE\">Expertos en Bases de Datos</span>"
   ]
  },
  {
   "cell_type": "markdown",
   "metadata": {},
   "source": [
    "13. Giovvani Barrera, udgiovanni@gmail.com\n",
    "14. Camilo Chitivo, cchitivo@unal.edu.co"
   ]
  },
  {
   "cell_type": "markdown",
   "metadata": {},
   "source": [
    "## <span style=\"color:#4361EE\">Contenido</span>"
   ]
  },
  {
   "cell_type": "markdown",
   "metadata": {},
   "source": [
    "* [Introducción a Modelamiento](#Introducción-a-Modelamiento)\n",
    "* [Hipótesis del proceso de Modelado](#Hipótesis-del-proceso-de-Modelado)\n",
    "* [Ejemplo Práctico del proceso de Modelado](#Ejemplo-Práctico-del-proceso-de-Modelado)\n",
    "* [Construyendo un Modelo Matemático](#Construyendo-un-Modelo-Matemático)\n",
    "* [Modelo desde Datos Puros](#Modelo-desde-Datos-Puros)\n",
    "* [Ejemplos Más Avanzados](#Ejemplos-Más-Avanzados)\n",
    "* [Usando curve_fit para obtener parámetros (pesos, weights)](#Usando-curve_fit-para-obtener-parámetros-(pesos,-weights))\n",
    "* [Catálogo de funciones](#Catálogo-de-funciones)\n",
    "* [Modelos de Predicción](#Modelos-de-Predicción)\n",
    "* [Redes Neuronales](#Redes-Neuronales)"
   ]
  },
  {
   "cell_type": "markdown",
   "metadata": {
    "colab_type": "text",
    "id": "k8zkd5nCBE4B"
   },
   "source": [
    "## <span style=\"color:#4361EE\">Introducción a Modelamiento</span>"
   ]
  },
  {
   "cell_type": "markdown",
   "metadata": {
    "colab_type": "text",
    "id": "k8zkd5nCBE4B"
   },
   "source": [
    "¿Qué es modelar?\n",
    "\n",
    "Para aprender este concepto con profundidad, debemos salirnos de la idea de las matemáticas y pensar más en la vida cotidiana.\n",
    "\n",
    "Pensemos en nuestras **emociones**.\n",
    "\n",
    "Si fuéramos un poco juciosos tomando datos cada vez que nos acordemos, digamos 4 veces al día, podríamos obtener información acerca de nuestro día a día.\n",
    "\n",
    "Supongamos que hacemos alguna vez dicho experimento y escribimos la siguiente información:\n",
    "\n",
    "---\n",
    "\n",
    "|Fecha|Hora|Emoción|\n",
    "|---|---|---|\n",
    "|07/02/2020|6:00|Cansado|\n",
    "|07/02/2020|18:00|Optimista| \n",
    "|08/02/2020|7:00|Medio Triste|\n",
    "|08/02/2020|20:00|Cansado|\n",
    "|09/02/2020|9:00|Hambriento|\n",
    "|09/02/2020|22:00|Hambriento|\n",
    "|10/02/2020|11:00|Concentrado|\n",
    "|10/02/2020|24:00|Muy feliz|"
   ]
  },
  {
   "cell_type": "markdown",
   "metadata": {},
   "source": [
    "[[Volver]](#Contenido)"
   ]
  },
  {
   "cell_type": "markdown",
   "metadata": {
    "colab_type": "text",
    "id": "3tLcfDJmD7tT"
   },
   "source": [
    "## <span style=\"color:#4361EE\">Hipótesis del proceso de Modelado</span>"
   ]
  },
  {
   "cell_type": "markdown",
   "metadata": {
    "colab_type": "text",
    "id": "3tLcfDJmD7tT"
   },
   "source": [
    "Nuestro objetivo principal dentro del modelado es la **descripción** y la **predicción**. Si podemos predecir lo que va a suceder con suficiente anterioridad, ganamos:\n",
    "\n",
    "- Prevención.\n",
    "- Planificación.\n",
    "- Cambio.\n",
    "- Entendimiento.\n",
    "\n",
    "Con estas cosas en la mente, tratemos de entender la tabla anterior.\n",
    "\n",
    "Los humanos estamos llenos de diversas emociones, y tal vez tenerlas todas al mismo tiempo en cuenta puede complicar nuestro entendimiento.\n",
    "\n",
    "**Supongamos** entonces, que podemos resumir la siguiente información de emociones y  traducirlas en un concepto bipolar (Contento/Triste):\n",
    "\n",
    "|Emoción|Simplificación|\n",
    "|---|---|\n",
    "|Cansado|Muy Feliz|\n",
    "|Optimista|Medio Feliz| \n",
    "|Medio Triste|Medio Triste|\n",
    "|Cansado|Muy Triste|\n",
    "|Hambriento|Poco Triste|\n",
    "|Hambriento|Bastante Feliz|\n",
    "|Concentrado|Bastante Feliz|\n",
    "|Muy feliz|Poco Triste|\n",
    "\n",
    "Este proceso anterior se conoce como el proceso de **hipotetizar** el fenómeno a analizar. La idea de generar hipótesis es que podemos de alguna manera ver el problema de manera más sencilla para obtener **conclusiones** válidas del tema estudiado.\n",
    "\n",
    "**Advertencia:** Este proceso es uno de los más difíciles en el modelado, ya que una hipótesis errónea puede llegar a falsas conclusiones."
   ]
  },
  {
   "cell_type": "markdown",
   "metadata": {},
   "source": [
    "[[Volver]](#Contenido)"
   ]
  },
  {
   "cell_type": "markdown",
   "metadata": {},
   "source": [
    "## <span style=\"color:#4361EE\">Ejemplo Práctico del proceso de Modelado</span>"
   ]
  },
  {
   "cell_type": "markdown",
   "metadata": {
    "colab_type": "text",
    "id": "CJ4FvqE4KV8W"
   },
   "source": [
    "El arte de poder colocar nuestro conocimiento abstracto en ecuaciones matemáticas fue un gran avance que logró desplazar a la sociedad de su ignorancia de atribuirle eventos que no podían explicar, a eventos que seguían un **comportamiento bien definido** y **predecible**.\n",
    "\n",
    "Tratemos de modelar la tabla anterior:\n",
    "\n",
    "Para esto, utilicemos una **escala** que signifique algo cuantitativamente. \n",
    "\n",
    "Por ejemplo:\n",
    "\n",
    "**Emoción $\\rightarrow [-1,1]$**, donde Muy Triste es $-1$ y Muy Feliz es $1$.\n",
    "\n",
    "Al hacer esto, hemos entonces creado un estándar que nos servirá para dar un primer indicio de nuestra información:\n",
    "\n",
    "|Hora|Emoción|Simplificación|Datos|\n",
    "|---|---|---|---|\n",
    "|6:00|Cansado|Muy Feliz|1|\n",
    "|18:00|Optimista|Medio Feliz|0.4| \n",
    "|7:00|Medio Triste|Medio Triste|-0.6|\n",
    "|20:00|Cansado|Muy Triste|-0.9|\n",
    "|9:00|Hambriento|Poco Triste|-0.1|\n",
    "|22:00|Hambriento|Bastante Feliz|0.8|\n",
    "|11:00|Concentrado|Bastante Feliz|0.8|\n",
    "|24:00|Muy feliz|Poco Triste|-0.18|\n",
    "\n",
    "\n",
    "Con esto hecho, ya podemos comenzar a visualizar nuestra información en un gráfico que dice mucho más que mil palabras (o números) en una tabla:"
   ]
  },
  {
   "cell_type": "code",
   "execution_count": 2,
   "metadata": {
    "colab": {
     "base_uri": "https://localhost:8080/",
     "height": 265
    },
    "colab_type": "code",
    "executionInfo": {
     "elapsed": 552,
     "status": "ok",
     "timestamp": 1581382775464,
     "user": {
      "displayName": "Daniel Montenegro",
      "photoUrl": "",
      "userId": "07275166318289302366"
     },
     "user_tz": 300
    },
    "id": "F0QXmDFKL-ZW",
    "outputId": "0be6552e-2392-490c-c30a-2a72c5aae549"
   },
   "outputs": [
    {
     "data": {
      "image/png": "[encoded data removed]",
      "text/plain": [
       "<Figure size 640x480 with 1 Axes>"
      ]
     },
     "metadata": {},
     "output_type": "display_data"
    }
   ],
   "source": [
    "import matplotlib.pyplot as plt\n",
    "import numpy as np\n",
    "\n",
    "t = np.array(np.linspace(0,96,8))\n",
    "E = [1,0.4,-0.6,-0.9,-0.1,0.8,0.8,-0.18]\n",
    "\n",
    "plt.plot(t,E, marker=\"o\",linestyle=\"\")\n",
    "#plt.grid()\n",
    "plt.show()"
   ]
  },
  {
   "cell_type": "markdown",
   "metadata": {},
   "source": [
    "[[Volver]](#Contenido)"
   ]
  },
  {
   "cell_type": "markdown",
   "metadata": {
    "colab_type": "text",
    "id": "uTA-wvraUgJH"
   },
   "source": [
    "## <span style=\"color:#4361EE\">Construyendo un Modelo Matemático</span>"
   ]
  },
  {
   "cell_type": "markdown",
   "metadata": {
    "colab_type": "text",
    "id": "uTA-wvraUgJH"
   },
   "source": [
    "Ahora que tenemos los datos, podemos comenzar a intentar adivinar qué forma tendrán dichos datos para hacer el proceso de **predicción**.\n",
    "\n",
    "Dada la forma de los datos, parece que sigue un **patrón cíclico**.\n",
    "\n",
    "De nuestra experiencia en matemáticas, podemos inferir que podríamos **acodomar** una función trigonométrica a dichos datos y esperar que dicho comportamiento se repita para el futuro.\n",
    "\n",
    "Modelizamos entonces\n",
    "\n",
    "$$E(t) = \\cos(t)$$\n",
    "\n",
    "y miramos los resultados:"
   ]
  },
  {
   "cell_type": "code",
   "execution_count": 3,
   "metadata": {
    "colab": {
     "base_uri": "https://localhost:8080/",
     "height": 282
    },
    "colab_type": "code",
    "executionInfo": {
     "elapsed": 495,
     "status": "ok",
     "timestamp": 1581382778221,
     "user": {
      "displayName": "Daniel Montenegro",
      "photoUrl": "",
      "userId": "07275166318289302366"
     },
     "user_tz": 300
    },
    "id": "ymNtxFdkNkZS",
    "outputId": "97b0cc8a-dcee-42fd-a6e6-7539a2a1a047"
   },
   "outputs": [
    {
     "data": {
      "image/png": "[encoded data removed]",
      "text/plain": [
       "<Figure size 640x480 with 1 Axes>"
      ]
     },
     "metadata": {},
     "output_type": "display_data"
    }
   ],
   "source": [
    "# Model\n",
    "E_m1 = np.cos(t)\n",
    "\n",
    "# Verifying Model\n",
    "plt.plot(t,E,marker=\"o\",linestyle=\"\")\n",
    "plt.plot(t,E_m1)\n",
    "plt.show()"
   ]
  },
  {
   "cell_type": "markdown",
   "metadata": {},
   "source": [
    "Sin embargo, démonos cuenta de lo siguiente:\n",
    "\n",
    "La función $\\cos(t)$ se ve más suave que lo que observamos en la gráfica.\n",
    "\n",
    "¿Será que hay alguna forma de recuperar dicha resolución?\n",
    "\n",
    "**Respuesta:** Sí!"
   ]
  },
  {
   "cell_type": "code",
   "execution_count": 4,
   "metadata": {},
   "outputs": [
    {
     "data": {
      "image/png": "[encoded data removed]",
      "text/plain": [
       "<Figure size 640x480 with 1 Axes>"
      ]
     },
     "metadata": {},
     "output_type": "display_data"
    }
   ],
   "source": [
    "# Better Resolution Model\n",
    "t_m = np.linspace(0,96,10000)\n",
    "E_m2 = np.cos(t_m)\n",
    "\n",
    "# Verifying Model\n",
    "plt.plot(t,E,marker=\"o\",linestyle=\"\")\n",
    "plt.plot(t_m,E_m2)\n",
    "plt.show()"
   ]
  },
  {
   "cell_type": "markdown",
   "metadata": {},
   "source": [
    "**¡Ajá!** Entonces, observemos toda la cantidad de información que habíamos estado ignorando todo este tiempo!\n",
    "\n",
    "La idea del modelamiento, es poder observar esta información pérdida, predecir y verificar(validar) que dicho modelo se ajusta bien a nuevos datos no tomados."
   ]
  },
  {
   "cell_type": "markdown",
   "metadata": {},
   "source": [
    "[[Volver]](#Contenido)"
   ]
  },
  {
   "cell_type": "markdown",
   "metadata": {},
   "source": [
    "## <span style=\"color:#4361EE\">Modelo desde Datos Puros</span>"
   ]
  },
  {
   "cell_type": "markdown",
   "metadata": {},
   "source": [
    "A continuación, trataremos de hacer un modelo que viene desed un valores separado por comas (CSV)."
   ]
  },
  {
   "cell_type": "code",
   "execution_count": 6,
   "metadata": {
    "tags": []
   },
   "outputs": [],
   "source": [
    "daticos=np.genfromtxt('../datos.csv', delimiter=',')"
   ]
  },
  {
   "cell_type": "markdown",
   "metadata": {},
   "source": [
    "Veamos algunos valores y su forma:"
   ]
  },
  {
   "cell_type": "code",
   "execution_count": 7,
   "metadata": {
    "tags": []
   },
   "outputs": [
    {
     "name": "stdout",
     "output_type": "stream",
     "text": [
      "\n",
      "Primeros cinco datos:\n",
      "\n",
      "           x               y\n",
      " [[ 0.00000000e+00  1.05203676e+02]\n",
      " [ 1.00334448e-01  8.82304968e+01]\n",
      " [ 2.00668896e-01  7.87328416e+01]\n",
      " [ 3.01003344e-01 -3.60431903e+01]\n",
      " [ 4.01337793e-01  1.20883757e+02]]\n",
      "\n",
      "Los datos tienen forma: (300, 2)\n"
     ]
    }
   ],
   "source": [
    "print(\"\\nPrimeros cinco datos:\\n\\n\",\"          x               y\\n\",daticos[0:5,:])\n",
    "print(\"\\nLos datos tienen forma:\",daticos.shape)"
   ]
  },
  {
   "cell_type": "markdown",
   "metadata": {},
   "source": [
    "usando las facilidades de Python, podemos desempaquetar los datos en variables separadas:"
   ]
  },
  {
   "cell_type": "code",
   "execution_count": 8,
   "metadata": {},
   "outputs": [],
   "source": [
    "x,y=daticos[:,0],daticos[:,1]"
   ]
  },
  {
   "cell_type": "markdown",
   "metadata": {},
   "source": [
    "Veamos los datos"
   ]
  },
  {
   "cell_type": "code",
   "execution_count": 9,
   "metadata": {},
   "outputs": [
    {
     "data": {
      "image/png": "[encoded data removed]",
      "text/plain": [
       "<Figure size 1500x700 with 1 Axes>"
      ]
     },
     "metadata": {},
     "output_type": "display_data"
    }
   ],
   "source": [
    "plt.figure(figsize=(15,7))\n",
    "plt.plot(x,y,'.')\n",
    "plt.show()"
   ]
  },
  {
   "cell_type": "markdown",
   "metadata": {},
   "source": [
    "**¿Qué opinan?**"
   ]
  },
  {
   "cell_type": "markdown",
   "metadata": {},
   "source": [
    "## <span style=\"color:#4361EE\">Usando curve_fit para obtener parámetros (pesos, weights)</span>"
   ]
  },
  {
   "cell_type": "code",
   "execution_count": null,
   "metadata": {},
   "outputs": [],
   "source": [
    "from scipy.optimize import curve_fit\n",
    "\n",
    "# GENERAR EL MODELO\n",
    "def modelito(x,parametros):\n",
    "    return # Adivina adivinador\n",
    "\n",
    "# usando la función curve_fit para hacer el ajuste\n",
    "pars,_ = curve_fit(modelito, x, y)\n",
    "\n",
    "# observar pesos\n",
    "print(pars)"
   ]
  },
  {
   "cell_type": "code",
   "execution_count": null,
   "metadata": {},
   "outputs": [],
   "source": [
    "plt.figure(figsize=(15,7))\n",
    "plt.plot(x,y,'.')\n",
    "plt.plot(x,modelito(x,*pars),'b-')\n",
    "plt.show()"
   ]
  },
  {
   "cell_type": "markdown",
   "metadata": {},
   "source": [
    "[[Volver]](#Contenido)"
   ]
  },
  {
   "cell_type": "markdown",
   "metadata": {},
   "source": [
    "## <span style=\"color:#4361EE\">Ejemplos Más Avanzados</span>"
   ]
  },
  {
   "cell_type": "markdown",
   "metadata": {},
   "source": [
    "Por supuesto, los ejemplos no se dan únicamente en una dimensión.\n",
    "\n",
    "Veamos a continuación un ejemplo en 2D:"
   ]
  },
  {
   "cell_type": "markdown",
   "metadata": {},
   "source": [
    "![Super](https://www.mathworks.com/help/examples/stats/win64/EstimateMultipleLinearRegressionCoefficientsExample_01.png)\n",
    "\n",
    "Fuente de la imagen: [MathWorks](https://www.mathworks.com/help/stats/regress.html)"
   ]
  },
  {
   "cell_type": "markdown",
   "metadata": {},
   "source": [
    "[[Volver]](#Contenido)"
   ]
  },
  {
   "cell_type": "markdown",
   "metadata": {},
   "source": [
    "## <span style=\"color:#4361EE\">Catálogo de funciones</span>"
   ]
  },
  {
   "cell_type": "markdown",
   "metadata": {},
   "source": [
    "![Modelitos](http://3.bp.blogspot.com/-TJ-Ipbn929A/TpWBCnlNNxI/AAAAAAAABu4/HMqt2Avz80U/s1600/Parent_Functions_%2528Falzone%2529.png)\n",
    "\n",
    "Fuente de la imagen: [Scholars on Mayhew](http://scholarsonmayhew.blogspot.com/)\n",
    "\n",
    "![Superficies](https://www.math.tamu.edu/~ssinjini/Math251/QuadricChart.gif)\n",
    "\n",
    "Fuente de la imagen: [TAMU](https://www.math.tamu.edu/~ssinjini/Math251/Calc3.html)"
   ]
  },
  {
   "cell_type": "markdown",
   "metadata": {},
   "source": [
    "[[Volver]](#Contenido)"
   ]
  },
  {
   "cell_type": "markdown",
   "metadata": {},
   "source": [
    "## <span style=\"color:#4361EE\">Modelos de Clasificación</span>"
   ]
  },
  {
   "cell_type": "markdown",
   "metadata": {},
   "source": [
    "La problemática general es poder generar un modelo que pueda identificar o clasificar diferentes etiquetas dentro de los datos."
   ]
  },
  {
   "cell_type": "markdown",
   "metadata": {},
   "source": [
    "![class1](https://miro.medium.com/max/1200/1*z_B0o4JbD0C6gpmcenUc4w.jpeg)\n",
    "\n",
    "Fuente de la imagen: [Medium](https://towardsdatascience.com/support-vector-machines-svm-clearly-explained-a-python-tutorial-for-classification-problems-29c539f3ad8)\n",
    "\n",
    "<img src=\"https://media.geeksforgeeks.org/wp-content/uploads/3d1.png\" width= 1000 height=400></img>\n",
    "\n",
    "Fuente de la imagen: [Geeks for Geeks](https://www.geeksforgeeks.org/ml-using-svm-to-perform-classification-on-a-non-linear-dataset/)"
   ]
  },
  {
   "cell_type": "markdown",
   "metadata": {},
   "source": [
    "[[Volver]](#Contenido)"
   ]
  },
  {
   "cell_type": "markdown",
   "metadata": {},
   "source": [
    "## <span style=\"color:#4361EE\">Redes Neuronales</span>"
   ]
  },
  {
   "cell_type": "markdown",
   "metadata": {},
   "source": [
    "![Michifoo](https://content.codecademy.com/programs/machine-learning/perceptron/perceptron.png)\n",
    "\n",
    "Fuente de la imagen: [Codecademy](https://www.codecademy.com/articles/what-are-neural-nets)\n",
    "\n",
    "<img src=\"https://miro.medium.com/max/572/1*kOVIEQihU2bKPu2-13b5Jw.gif\" width=1000 height=400></img>\n",
    "\n",
    "![Class](https://i.imgur.com/EmaJ5JU.gif)\n",
    "\n",
    "Fuente de los gif: [Medium](https://www.codecademy.com/articles/what-are-neural-nets)"
   ]
  },
  {
   "cell_type": "markdown",
   "metadata": {},
   "source": [
    "<figure>\n",
    "<img src=\"../Imagenes/logo-final-ap.png\"  width=\"80\" height=\"80\" align=\"right\"/> \n",
    "</figure>"
   ]
  }
 ],
 "metadata": {
  "colab": {
   "authorship_tag": "ABX9TyMA+4+mSyDZHrknaXgM7tax",
   "collapsed_sections": [],
   "name": "Intro_Model.ipynb",
   "provenance": []
  },
  "kernelspec": {
   "display_name": "Python 3 (ipykernel)",
   "language": "python",
   "name": "python3"
  },
  "language_info": {
   "codemirror_mode": {
    "name": "ipython",
    "version": 3
   },
   "file_extension": ".py",
   "mimetype": "text/x-python",
   "name": "python",
   "nbconvert_exporter": "python",
   "pygments_lexer": "ipython3",
   "version": "3.10.8"
  }
 },
 "nbformat": 4,
 "nbformat_minor": 4
}
