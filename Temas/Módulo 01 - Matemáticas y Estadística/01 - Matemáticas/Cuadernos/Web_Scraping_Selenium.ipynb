{
 "cells": [
  {
   "cell_type": "markdown",
   "id": "8e156e31-f569-4e8c-afbb-77ac4e3d8512",
   "metadata": {
    "slideshow": {
     "slide_type": "slide"
    },
    "tags": []
   },
   "source": [
    "<figure>\n",
    "<img src=\"../Imagenes/logo-final-ap.png\"  width=\"80\" height=\"80\" align=\"left\"/> \n",
    "</figure>\n",
    "\n",
    "# <span style=\"color:blue\"><left>Aprendizaje Profundo</left></span>"
   ]
  },
  {
   "cell_type": "markdown",
   "id": "5d8a4e0f-d7d0-4065-975f-b5f89460a584",
   "metadata": {},
   "source": [
    "# <span style=\"color:red\"><center>Web Scraping</center></span>"
   ]
  },
  {
   "cell_type": "markdown",
   "id": "73c3c0f7-6d8d-4132-90ab-bdf5ec08cfc8",
   "metadata": {},
   "source": [
    "<center>Selenium</center>"
   ]
  },
  {
   "cell_type": "markdown",
   "id": "9518ba90-9ed9-4a49-879f-d86e6a29d9fe",
   "metadata": {
    "slideshow": {
     "slide_type": "slide"
    },
    "tags": []
   },
   "source": [
    "<figure>\n",
    "<center>\n",
    "<img src=\"https://sg.com.mx/sites/default/files/styles/570x500/public/images/selenium-logo.png?itok=ulUIFNXO\" width=\"200\" height=\"800\" align=\"center\" /> \n",
    "</center>\n",
    "</figure>\n",
    "\n",
    "Fuente: [Software Guru](https://sg.com.mx/revista/54/selenium-webdriver-un-ambiente-pruebas-continuas)"
   ]
  },
  {
   "cell_type": "markdown",
   "id": "16a9ad1e-bd51-4398-a571-4079c92f0ba8",
   "metadata": {
    "slideshow": {
     "slide_type": "slide"
    },
    "tags": []
   },
   "source": [
    "##   <span style=\"color:blue\">Profesores</span>"
   ]
  },
  {
   "cell_type": "markdown",
   "id": "3bfad4f5-0e1f-4542-9d69-f6f65302a7b0",
   "metadata": {
    "tags": []
   },
   "source": [
    "### Coordinador"
   ]
  },
  {
   "cell_type": "markdown",
   "id": "27aaa77e-0313-41eb-898e-8c0d46d41efc",
   "metadata": {
    "tags": []
   },
   "source": [
    "- Campo Elías Pardo, PhD, cepardot@unal.edu.co"
   ]
  },
  {
   "cell_type": "markdown",
   "id": "ac17cd15-ce5d-437c-a1ee-6060bb11549e",
   "metadata": {
    "tags": []
   },
   "source": [
    "### Conferencistas"
   ]
  },
  {
   "cell_type": "markdown",
   "id": "d342206f-82be-4f6e-88db-b0aaa0155d2c",
   "metadata": {},
   "source": [
    "- Alvaro  Montenegro, PhD, ammontenegrod@unal.edu.co\n",
    "- Daniel  Montenegro, Msc, dextronomo@gmail.com \n",
    "- Oleg Jarma, Estadístico, ojarmam@unal.edu.co "
   ]
  },
  {
   "cell_type": "markdown",
   "id": "b409c962-d6d7-4a96-9b18-160f8d53f80c",
   "metadata": {
    "slideshow": {
     "slide_type": "subslide"
    },
    "tags": []
   },
   "source": [
    "##   <span style=\"color:blue\">Asesora Medios y Marketing digital</span>\n",
    " "
   ]
  },
  {
   "cell_type": "markdown",
   "id": "d3338792-9e9a-4aa0-bd6e-1160ff2b30f6",
   "metadata": {
    "tags": []
   },
   "source": [
    "- Maria del Pilar Montenegro, pmontenegro88@gmail.com "
   ]
  },
  {
   "cell_type": "markdown",
   "id": "a2a79e4d-c908-45a6-8899-b34d67587940",
   "metadata": {
    "slideshow": {
     "slide_type": "subslide"
    },
    "tags": []
   },
   "source": [
    "## <span style=\"color:blue\">Asistentes</span>"
   ]
  },
  {
   "cell_type": "markdown",
   "id": "fc65711c-7d42-42e7-b3ad-9a2994b47764",
   "metadata": {},
   "source": [
    "- Nayibe Yesenia Arias, naariasc@unal.edu.co\n",
    "- Venus Celeste Puertas, vpuertasg@unal.edu.co "
   ]
  },
  {
   "cell_type": "markdown",
   "id": "207407bb-576c-4a5a-8466-af22e849c924",
   "metadata": {
    "slideshow": {
     "slide_type": "subslide"
    },
    "tags": []
   },
   "source": [
    "## <span style=\"color:blue\">Referencias</span>"
   ]
  },
  {
   "cell_type": "markdown",
   "id": "13d6b911-254b-4b85-9e34-8063027fcb78",
   "metadata": {},
   "source": [
    "1. [Alvaro Montenegro y Daniel Montenegro, Inteligencia Artificial y Aprendizaje Profundo, 2021](https://github.com/AprendizajeProfundo/Diplomado)\n",
    "1. [Unesco: educación e inteligencia artificial](https://es.unesco.org/themes/tic-educacion/inteligencia-artificial)"
   ]
  },
  {
   "cell_type": "markdown",
   "id": "6b501377-091d-4eb6-897d-5d90e07727ab",
   "metadata": {
    "slideshow": {
     "slide_type": "slide"
    },
    "tags": []
   },
   "source": [
    "## <span style=\"color:blue\">Contenido</span>"
   ]
  },
  {
   "cell_type": "markdown",
   "id": "a3e8a67b-904c-458d-acf5-bc9ee674769d",
   "metadata": {},
   "source": [
    "* [¿Qué es Selenium?](#¿Qué-es-Selenium?)\n",
    "* [Partes Básicas de Selenium](#Partes-Básicas-de-Selenium)\n",
    "* [STOP](#STOP)\n",
    "* [Lidiar con Captchas](#Lidiar-con-Captchas)\n",
    "* [Obteniendo información superficial](#Obteniendo-información-superficial)\n",
    "* [Obteniendo información detallada](#Obteniendo-información-detallada)\n",
    "* [Obteniendo documentos](#Obteniendo-documentos)\n",
    "* [iFrames](#iFrames)\n",
    "* [Organizando información](#Organizando-información)\n",
    "* [Utilizando IA para extraer información](#Utilizando-IA-para-extraer-información)"
   ]
  },
  {
   "cell_type": "markdown",
   "id": "2b9f6d40-f774-496d-bcdf-c9221ca333bf",
   "metadata": {
    "slideshow": {
     "slide_type": "slide"
    },
    "tags": []
   },
   "source": [
    "## <span style=\"color:blue\">¿Qué es Selenium?</span> "
   ]
  },
  {
   "cell_type": "markdown",
   "id": "369af8d5-a350-47eb-baf1-ed469329cd8c",
   "metadata": {},
   "source": [
    "<figure>\n",
    "<center>\n",
    "<img src=\"https://www.dataart.com.ar/media/2894872/1.png\" width=\"800\" height=\"800\" align=\"center\" /> \n",
    "</center>\n",
    "</figure>\n",
    "\n",
    "Fuente: [DataArt](https://www.dataart.com.ar/news/como-utilizar-selenium-webdriver-para-pruebas-automatizadas/)"
   ]
  },
  {
   "cell_type": "markdown",
   "id": "be1a08ab-6853-4a04-8468-091138472dec",
   "metadata": {},
   "source": [
    "## <span style=\"color:blue\">Partes Básicas de Selenium</span> "
   ]
  },
  {
   "cell_type": "markdown",
   "id": "0088caad-d2f5-4411-ad4b-8f24ca7405b0",
   "metadata": {},
   "source": [
    "Para comenzar a usar la API de Selenium para Python, se sugiere seguir los pasos en [Selenium-Python](https://selenium-python.readthedocs.io/installation.html#drivers).\n",
    "\n",
    "**No olvidar que para que esto funcione, se debe instalar el Driver adecuado, dependiendo del Browser a utilizar.**"
   ]
  },
  {
   "cell_type": "code",
   "execution_count": 1,
   "id": "a055dd53-6cd6-48a2-a731-04df596e1c51",
   "metadata": {},
   "outputs": [],
   "source": [
    "# Driver que maneja el Browser\n",
    "from selenium import webdriver\n",
    "# Servicios del Driver\n",
    "from selenium.webdriver.chrome.service import Service\n",
    "# Obtener Drivers Actualizados\n",
    "from webdriver_manager.chrome import ChromeDriverManager\n",
    "# Buscar por tipo de elemento HTML\n",
    "from selenium.webdriver.common.by import By\n",
    "# Soy \"Humano\"\n",
    "import random\n",
    "from time import sleep"
   ]
  },
  {
   "cell_type": "code",
   "execution_count": 2,
   "id": "aac0968e-255a-4d07-89d0-58f980105243",
   "metadata": {},
   "outputs": [
    {
     "name": "stderr",
     "output_type": "stream",
     "text": [
      "[WDM] - Downloading: 100%|████████████████████████████████████████████████████████████████████████████████████████████████| 8.04M/8.04M [00:00<00:00, 15.6MB/s]\n"
     ]
    }
   ],
   "source": [
    "# Abre la ventana de Chrome\n",
    "driver = webdriver.Chrome(service=Service(ChromeDriverManager().install()))"
   ]
  },
  {
   "cell_type": "markdown",
   "id": "45121b45-c6c8-4ab0-959f-fdae0609975b",
   "metadata": {},
   "source": [
    "Podemos automatizar comportamientos de la ventana, como por ejemplo, maximizar:"
   ]
  },
  {
   "cell_type": "code",
   "execution_count": 3,
   "id": "2b93dbd0-ec16-40da-bbf4-0b50f83c1067",
   "metadata": {},
   "outputs": [],
   "source": [
    "driver.maximize_window()"
   ]
  },
  {
   "cell_type": "markdown",
   "id": "918669f6-5e5f-424a-adc4-8491ce494854",
   "metadata": {},
   "source": [
    "El Driver también nos permite acceder a url definidas:"
   ]
  },
  {
   "cell_type": "code",
   "execution_count": 5,
   "id": "3e5015cf-e6d5-4594-a386-7aed7dfa9b6e",
   "metadata": {},
   "outputs": [],
   "source": [
    "# Definir un link de raíz\n",
    "# https://aprendizajeprofundo.co/\n",
    "root = \"https://www.secop.gov.co/CO1BusinessLine/Tendering/ContractNoticeManagement/Index\"\n",
    "#root = 'https://aprendizajeprofundo.co/'\n",
    "# Ir al link\n",
    "driver.get(root)"
   ]
  },
  {
   "cell_type": "markdown",
   "id": "c70bfbeb-4d1b-47f3-accc-6e37312e0040",
   "metadata": {},
   "source": [
    "Además, Selenium nos da la posibilidad de mandar datos desde archivos de texto, como por ejemplo, un usuario, una contraseña y hacer click en los botones:"
   ]
  },
  {
   "cell_type": "code",
   "execution_count": 7,
   "id": "3f56b128-3d1d-42a1-81aa-2fbc8e9c6390",
   "metadata": {},
   "outputs": [],
   "source": [
    "# Información personal\n",
    "#info=open('info.txt').read().splitlines()\n",
    "# Datos de User\n",
    "driver.find_element(By.XPATH,'//input[@id=\"txtUserName\"]').send_keys('Dani Moury')\n",
    "\n",
    "# Datos de Password\n",
    "driver.find_element(By.XPATH,'//input[@id=\"txtPassword\"]').send_keys('password')\n",
    "# Enter\n",
    "driver.find_element(By.XPATH,'//input[@id=\"btnLoginButton\"]').click()"
   ]
  },
  {
   "cell_type": "markdown",
   "id": "da0bff0b-1fd2-4954-855c-881bc2cc0e05",
   "metadata": {},
   "source": [
    "En general, tenemos las siguientes funciones disponibles:"
   ]
  },
  {
   "cell_type": "code",
   "execution_count": 123,
   "id": "bce582c2-40fc-45c5-aed7-2097fc825862",
   "metadata": {},
   "outputs": [
    {
     "name": "stdout",
     "output_type": "stream",
     "text": [
      "['__abstractmethods__', '__class__', '__delattr__', '__dict__', '__dir__', '__doc__', '__enter__', '__eq__', '__exit__', '__format__', '__ge__', '__getattribute__', '__gt__', '__hash__', '__init__', '__init_subclass__', '__le__', '__lt__', '__module__', '__ne__', '__new__', '__reduce__', '__reduce_ex__', '__repr__', '__setattr__', '__sizeof__', '__str__', '__subclasshook__', '__weakref__', '_abc_impl', '_file_detector', '_get_cdp_details', '_is_remote', '_mobile', '_shadowroot_cls', '_switch_to', '_unwrap_value', '_web_element_cls', '_wrap_value', 'add_cookie', 'application_cache', 'back', 'bidi_connection', 'capabilities', 'caps', 'close', 'command_executor', 'create_options', 'create_web_element', 'current_url', 'current_window_handle', 'delete_all_cookies', 'delete_cookie', 'delete_network_conditions', 'desired_capabilities', 'error_handler', 'execute', 'execute_async_script', 'execute_cdp_cmd', 'execute_script', 'file_detector', 'file_detector_context', 'find_element', 'find_element_by_class_name', 'find_element_by_css_selector', 'find_element_by_id', 'find_element_by_link_text', 'find_element_by_name', 'find_element_by_partial_link_text', 'find_element_by_tag_name', 'find_element_by_xpath', 'find_elements', 'find_elements_by_class_name', 'find_elements_by_css_selector', 'find_elements_by_id', 'find_elements_by_link_text', 'find_elements_by_name', 'find_elements_by_partial_link_text', 'find_elements_by_tag_name', 'find_elements_by_xpath', 'forward', 'fullscreen_window', 'get', 'get_cookie', 'get_cookies', 'get_issue_message', 'get_log', 'get_network_conditions', 'get_pinned_scripts', 'get_screenshot_as_base64', 'get_screenshot_as_file', 'get_screenshot_as_png', 'get_sinks', 'get_window_position', 'get_window_rect', 'get_window_size', 'implicitly_wait', 'launch_app', 'log_types', 'maximize_window', 'minimize_window', 'mobile', 'name', 'orientation', 'page_source', 'pin_script', 'pinned_scripts', 'port', 'print_page', 'quit', 'refresh', 'save_screenshot', 'service', 'session_id', 'set_network_conditions', 'set_page_load_timeout', 'set_permissions', 'set_script_timeout', 'set_sink_to_use', 'set_window_position', 'set_window_rect', 'set_window_size', 'start_client', 'start_session', 'start_tab_mirroring', 'stop_casting', 'stop_client', 'switch_to', 'timeouts', 'title', 'unpin', 'vendor_prefix', 'window_handles']\n"
     ]
    }
   ],
   "source": [
    "print(dir(driver))"
   ]
  },
  {
   "cell_type": "markdown",
   "id": "465af000-dcca-4ec9-98dd-880e6e3eaabe",
   "metadata": {},
   "source": [
    "Observe que cada página web puede tener un contenido diferente en la forma en que se acceden los elementos, pues cada diseñador web tendrá sus forma de llamarlos, referenciarlos y colocarlos dentro del DOM. \n",
    "\n",
    "Es por esta razón que es difícil construir un Scraper Universal que sea agnóstico. \n",
    "\n",
    "**¿Será posible llegar a tal construcción utlizando aprendizaje reforzado?**"
   ]
  },
  {
   "cell_type": "markdown",
   "id": "8656dba8-a86b-4012-ad51-bca7e8607bbd",
   "metadata": {},
   "source": [
    "[[Volver al inicio]](#Contenido)"
   ]
  },
  {
   "cell_type": "markdown",
   "id": "7f5e16f3-6e0f-41f9-8011-c4320207ed5a",
   "metadata": {},
   "source": [
    "## <span style=\"color:red\">STOP</span> "
   ]
  },
  {
   "cell_type": "markdown",
   "id": "0f1557f6-5e68-4066-ad64-cdb896ae5fc1",
   "metadata": {},
   "source": [
    "Antes de seguir con la práctica, deberemos cambiar nuestra IP para garantizar anonimidad.\n",
    "\n",
    "Es una buena práctica hacer esto, incluso si no planea hacer Web Scraping.\n",
    "\n",
    "El internet es muy peligroso.\n",
    "\n",
    "Existen bastantes herramientas **gratuitas** para este propósito, por ejemplo [WindScribe](https://windscribe.com/)."
   ]
  },
  {
   "cell_type": "markdown",
   "id": "8d024de3-da00-4b9c-8f4e-227e42b1392e",
   "metadata": {},
   "source": [
    "[[Volver al inicio]](#Contenido)"
   ]
  },
  {
   "cell_type": "markdown",
   "id": "ec0aa407-90ad-4dfe-a6e5-0d6ed64d6143",
   "metadata": {},
   "source": [
    "## <span style=\"color:blue\">Lidiar con Captchas</span> "
   ]
  },
  {
   "cell_type": "markdown",
   "id": "762949ad-b139-42b6-9076-63f3c9fbf33d",
   "metadata": {},
   "source": [
    "CAPTCHA (Completely Automated Public Turing test to tell Computers and Humans Apart)"
   ]
  },
  {
   "cell_type": "raw",
   "id": "1dea6ee8-0d41-4e0d-ad5c-645b5b74a8e0",
   "metadata": {},
   "source": [
    "# No way until now to Bluff Captcha\n",
    "driver.find_element(By.XPATH,'//div[@class=\"recaptcha-checkbox-border\"]').click()"
   ]
  },
  {
   "cell_type": "raw",
   "id": "411420e8-5ede-456e-b41a-3899577a679a",
   "metadata": {},
   "source": [
    "action = ActionChains(driver)\n",
    "box = driver.find_element(By.XPATH,'//span[@class=\"recaptcha-checkbox goog-inline-block recaptcha-checkbox-unchecked rc-anchor-checkbox\"]')\n",
    "action.move_to_element(box).perform()"
   ]
  },
  {
   "cell_type": "raw",
   "id": "bf998025-42e7-4bdc-b63b-5ec0173ac2eb",
   "metadata": {},
   "source": [
    "soup = BeautifulSoup(driver.page_source, 'html.parser')"
   ]
  },
  {
   "cell_type": "raw",
   "id": "08a6850f-8779-4420-9fd5-301566d958d9",
   "metadata": {},
   "source": [
    "soup"
   ]
  },
  {
   "cell_type": "markdown",
   "id": "a1b556de-7bed-4f75-9786-a20296ec6f32",
   "metadata": {},
   "source": [
    "No hay una manera directa de lidiar con Captchas.\n",
    "\n",
    "Hay soluciones disponibles para esto, entre las que se encuentran:\n",
    "\n",
    "- Servicios [Anti-Captcha](https://anti-captcha.com/)\n",
    "- Blog ilustrativos [Google reCaptcha Bypass Technique Uses Google’s Own Tools](https://threatpost.com/google-recaptcha-bypass-technique-uses-googles-own-tools/124006/)\n",
    "- Usando Python e Inteligencia Artificial ([How to bypass CAPTCHAs easily using Python and other methods](https://cloudsek.com/how-to-bypass-captchas-easily-using-python-and-other-methods/))\n",
    "- ...\n",
    "\n",
    "Sin embargo, a medida que avanza la tecnología, será cada vez más fácil descrifrarlos.\n",
    "\n",
    "Un famoso ejemplo de esto, es el famoso reto de Kagggle [Dogs vs Cats](https://www.kaggle.com/c/dogs-vs-cats)."
   ]
  },
  {
   "cell_type": "markdown",
   "id": "81661ee6-d89c-4fdc-9402-e2dfcc0d140b",
   "metadata": {},
   "source": [
    "[[Volver al inicio]](#Contenido)"
   ]
  },
  {
   "cell_type": "markdown",
   "id": "d344ee8a-a4a0-4fbc-a606-d74f6e83caec",
   "metadata": {},
   "source": [
    "## <span style=\"color:blue\">Obteniendo información superficial</span> "
   ]
  },
  {
   "cell_type": "code",
   "execution_count": 125,
   "id": "1cc66654-3ae1-4b31-b098-9d182fdfba88",
   "metadata": {},
   "outputs": [],
   "source": [
    "# Llenar datos de la búsqueda\n",
    "driver.find_element(By.XPATH,'//input[@id=\"txtBuyer\"]').send_keys('Departamento de Cundinamarca')\n",
    "# Borrar texto de fechas\n",
    "driver.find_element(By.XPATH,'//input[@id=\"dtmbPublishDateFrom_txt\"]').clear()\n",
    "driver.find_element(By.XPATH,'//input[@id=\"dtmbPublishDateTo_txt\"]').clear()\n",
    "#Buscar\n",
    "driver.find_element(By.XPATH,'//input[@id=\"btnSearchButton\"]').click()"
   ]
  },
  {
   "cell_type": "code",
   "execution_count": 126,
   "id": "9935dfec-0d4f-422f-8e0b-a2630ee50023",
   "metadata": {},
   "outputs": [],
   "source": [
    "from bs4 import BeautifulSoup\n",
    "from html2text import html2text\n",
    "import re"
   ]
  },
  {
   "cell_type": "markdown",
   "id": "653ce250-d1f0-4e9e-a18c-607a2118fa66",
   "metadata": {},
   "source": [
    "Para obtener la información principal en aquel momento, podemos utilizar Beautiful Soup y expresiones regulares"
   ]
  },
  {
   "cell_type": "code",
   "execution_count": 127,
   "id": "96e667fa-43c6-4642-a17e-2efe5809e499",
   "metadata": {},
   "outputs": [],
   "source": [
    "soup = BeautifulSoup(driver.page_source, 'html.parser')"
   ]
  },
  {
   "cell_type": "markdown",
   "id": "107a0d88-1a4d-444a-a314-9131b190d66a",
   "metadata": {},
   "source": [
    "**Note que para realizar este proceso, debemos entender la estructura de la página web.**"
   ]
  },
  {
   "cell_type": "code",
   "execution_count": 128,
   "id": "089e55db-1beb-498d-9b73-61ceda1fa51e",
   "metadata": {},
   "outputs": [
    {
     "name": "stdout",
     "output_type": "stream",
     "text": [
      "Contratos Encontrados: 5\n"
     ]
    }
   ],
   "source": [
    "cuantos_contratos = len(soup.find_all('span',{'id':re.compile(f'spnMatchingResultRequestReference*')}))\n",
    "print(\"Contratos Encontrados:\", cuantos_contratos)"
   ]
  },
  {
   "cell_type": "code",
   "execution_count": 129,
   "id": "d0c2d2ec-89fd-4d1d-a065-176522ef2c60",
   "metadata": {},
   "outputs": [
    {
     "name": "stdout",
     "output_type": "stream",
     "text": [
      "<span class=\"VortalSpan\" id=\"tblMainTable_trRowMiddle_tdCell1_tblForm_trGridRow_tdCell1_grdResultList_tdRequestReference_spnMatchingResultRequestReference_0\">SE-SAMC-001-2022 (Presentación de oferta)</span>\n",
      "\n",
      "<span class=\"VortalSpan\" id=\"tblMainTable_trRowMiddle_tdCell1_tblForm_trGridRow_tdCell1_grdResultList_tdRequestReference_spnMatchingResultRequestReference_1\">SFP-CMC-059-2022</span>\n",
      "\n",
      "<span class=\"VortalSpan\" id=\"tblMainTable_trRowMiddle_tdCell1_tblForm_trGridRow_tdCell1_grdResultList_tdRequestReference_spnMatchingResultRequestReference_2\">SS-CMC-001-2022</span>\n",
      "\n",
      "<span class=\"VortalSpan\" id=\"tblMainTable_trRowMiddle_tdCell1_tblForm_trGridRow_tdCell1_grdResultList_tdRequestReference_spnMatchingResultRequestReference_3\">SHVS-CPS-064-2022</span>\n",
      "\n",
      "<span class=\"VortalSpan\" id=\"tblMainTable_trRowMiddle_tdCell1_tblForm_trGridRow_tdCell1_grdResultList_tdRequestReference_spnMatchingResultRequestReference_4\">SHVS-CPS-063-2022</span>\n",
      "\n"
     ]
    }
   ],
   "source": [
    "contratos_html = soup.find_all('span',{'id':re.compile(f'spnMatchingResultRequestReference*')})\n",
    "for cont in contratos_html:\n",
    "    print(cont, end='\\n\\n')"
   ]
  },
  {
   "cell_type": "markdown",
   "id": "94b87fb1-4b33-4959-9dfa-010dde1da288",
   "metadata": {},
   "source": [
    "Ahora podemos extraer el texto (oro) dentro de dichas etiquetas HTML para colocar en nuestro DataFrame de posterior consulta:"
   ]
  },
  {
   "cell_type": "code",
   "execution_count": 130,
   "id": "dcf9dd72-9e46-4c97-8285-4c3d64cb5b3f",
   "metadata": {},
   "outputs": [
    {
     "data": {
      "text/plain": [
       "['SE-SAMC-001-2022 (Presentación de oferta)\\n\\n',\n",
       " 'SFP-CMC-059-2022\\n\\n',\n",
       " 'SS-CMC-001-2022\\n\\n',\n",
       " 'SHVS-CPS-064-2022\\n\\n',\n",
       " 'SHVS-CPS-063-2022\\n\\n']"
      ]
     },
     "execution_count": 130,
     "metadata": {},
     "output_type": "execute_result"
    }
   ],
   "source": [
    "[html2text(str(contrato_html)) for contrato_html in contratos_html]"
   ]
  },
  {
   "cell_type": "code",
   "execution_count": 131,
   "id": "3ec1acd2-ce67-4969-a496-14ff5e22f79c",
   "metadata": {},
   "outputs": [
    {
     "data": {
      "text/plain": [
       "['SE-SAMC-001-2022 (Presentación de oferta)',\n",
       " 'SFP-CMC-059-2022',\n",
       " 'SS-CMC-001-2022',\n",
       " 'SHVS-CPS-064-2022',\n",
       " 'SHVS-CPS-063-2022']"
      ]
     },
     "execution_count": 131,
     "metadata": {},
     "output_type": "execute_result"
    }
   ],
   "source": [
    "contratos = [re.sub('\\n','',html2text(str(contrato_html))) for contrato_html in contratos_html]\n",
    "contratos"
   ]
  },
  {
   "cell_type": "code",
   "execution_count": 132,
   "id": "c9b04d29-d34a-4541-8dd4-58739bdfaff0",
   "metadata": {},
   "outputs": [],
   "source": [
    "import pandas as pd"
   ]
  },
  {
   "cell_type": "code",
   "execution_count": 133,
   "id": "438d7271-fffc-4b17-a344-a17b7fe1d04a",
   "metadata": {},
   "outputs": [
    {
     "data": {
      "text/html": [
       "<div>\n",
       "<style scoped>\n",
       "    .dataframe tbody tr th:only-of-type {\n",
       "        vertical-align: middle;\n",
       "    }\n",
       "\n",
       "    .dataframe tbody tr th {\n",
       "        vertical-align: top;\n",
       "    }\n",
       "\n",
       "    .dataframe thead th {\n",
       "        text-align: right;\n",
       "    }\n",
       "</style>\n",
       "<table border=\"1\" class=\"dataframe\">\n",
       "  <thead>\n",
       "    <tr style=\"text-align: right;\">\n",
       "      <th></th>\n",
       "      <th>Contratos</th>\n",
       "    </tr>\n",
       "  </thead>\n",
       "  <tbody>\n",
       "    <tr>\n",
       "      <th>0</th>\n",
       "      <td>SE-SAMC-001-2022 (Presentación de oferta)</td>\n",
       "    </tr>\n",
       "    <tr>\n",
       "      <th>1</th>\n",
       "      <td>SFP-CMC-059-2022</td>\n",
       "    </tr>\n",
       "    <tr>\n",
       "      <th>2</th>\n",
       "      <td>SS-CMC-001-2022</td>\n",
       "    </tr>\n",
       "    <tr>\n",
       "      <th>3</th>\n",
       "      <td>SHVS-CPS-064-2022</td>\n",
       "    </tr>\n",
       "    <tr>\n",
       "      <th>4</th>\n",
       "      <td>SHVS-CPS-063-2022</td>\n",
       "    </tr>\n",
       "  </tbody>\n",
       "</table>\n",
       "</div>"
      ],
      "text/plain": [
       "                                   Contratos\n",
       "0  SE-SAMC-001-2022 (Presentación de oferta)\n",
       "1                           SFP-CMC-059-2022\n",
       "2                            SS-CMC-001-2022\n",
       "3                          SHVS-CPS-064-2022\n",
       "4                          SHVS-CPS-063-2022"
      ]
     },
     "execution_count": 133,
     "metadata": {},
     "output_type": "execute_result"
    }
   ],
   "source": [
    "contratos = pd.DataFrame(contratos,columns=['Contratos'])\n",
    "contratos"
   ]
  },
  {
   "cell_type": "markdown",
   "id": "878ae73e-5dd2-4424-a505-6f57f0111698",
   "metadata": {},
   "source": [
    "### Obteniendo más contratos "
   ]
  },
  {
   "cell_type": "code",
   "execution_count": 134,
   "id": "0b137d12-3f6b-4049-b3cc-efe4c988d645",
   "metadata": {},
   "outputs": [
    {
     "name": "stdout",
     "output_type": "stream",
     "text": [
      "0 ...1 ...2 ...3 ...4 ...5 ...6 ...7 ...8 ...9 ..."
     ]
    }
   ],
   "source": [
    "# Ver más, 10 veces\n",
    "for i in range(10):\n",
    "# Click en Ver más\n",
    "    driver.\\\n",
    "    find_element(By.XPATH,'//*[@id=\"tblMainTable_trRowMiddle_tdCell1_tblForm_trGridRow_tdCell1_grdResultList_Paginator_goToPage_MoreItems\"]').click()\n",
    "    sleep(random.uniform(1.,2.))\n",
    "    print(f'{i+1}...',end='')"
   ]
  },
  {
   "cell_type": "markdown",
   "id": "97aff6e7-7e41-4c29-81e5-9838da7228f4",
   "metadata": {},
   "source": [
    "**Note lo importante de la función sleep. Sin ella, se generarían errores sobre la respuesta de la página web.**"
   ]
  },
  {
   "cell_type": "code",
   "execution_count": 135,
   "id": "02a381f7-2538-4ea9-8aee-c5bc22e05f00",
   "metadata": {},
   "outputs": [
    {
     "name": "stdout",
     "output_type": "stream",
     "text": [
      "Contratos Encontrados: 45\n"
     ]
    },
    {
     "data": {
      "text/html": [
       "<div>\n",
       "<style scoped>\n",
       "    .dataframe tbody tr th:only-of-type {\n",
       "        vertical-align: middle;\n",
       "    }\n",
       "\n",
       "    .dataframe tbody tr th {\n",
       "        vertical-align: top;\n",
       "    }\n",
       "\n",
       "    .dataframe thead th {\n",
       "        text-align: right;\n",
       "    }\n",
       "</style>\n",
       "<table border=\"1\" class=\"dataframe\">\n",
       "  <thead>\n",
       "    <tr style=\"text-align: right;\">\n",
       "      <th></th>\n",
       "      <th>Contratos</th>\n",
       "    </tr>\n",
       "  </thead>\n",
       "  <tbody>\n",
       "    <tr>\n",
       "      <th>0</th>\n",
       "      <td>SE-SAMC-001-2022 (Presentación de oferta)</td>\n",
       "    </tr>\n",
       "    <tr>\n",
       "      <th>1</th>\n",
       "      <td>SFP-CMC-059-2022</td>\n",
       "    </tr>\n",
       "    <tr>\n",
       "      <th>2</th>\n",
       "      <td>SS-CMC-001-2022</td>\n",
       "    </tr>\n",
       "    <tr>\n",
       "      <th>3</th>\n",
       "      <td>SHVS-CPS-064-2022</td>\n",
       "    </tr>\n",
       "    <tr>\n",
       "      <th>4</th>\n",
       "      <td>SHVS-CPS-063-2022</td>\n",
       "    </tr>\n",
       "    <tr>\n",
       "      <th>5</th>\n",
       "      <td>SHVS-CPS-062-2022</td>\n",
       "    </tr>\n",
       "    <tr>\n",
       "      <th>6</th>\n",
       "      <td>SHVS-CPS-061-2022</td>\n",
       "    </tr>\n",
       "    <tr>\n",
       "      <th>7</th>\n",
       "      <td>SHVS-CPS-060-2022</td>\n",
       "    </tr>\n",
       "    <tr>\n",
       "      <th>8</th>\n",
       "      <td>SHVS-CPS-059-2022</td>\n",
       "    </tr>\n",
       "    <tr>\n",
       "      <th>9</th>\n",
       "      <td>SHVS-CPS-054-2022</td>\n",
       "    </tr>\n",
       "    <tr>\n",
       "      <th>10</th>\n",
       "      <td>SHVS-CPS-048-2022</td>\n",
       "    </tr>\n",
       "    <tr>\n",
       "      <th>11</th>\n",
       "      <td>SHVS-CPS-058-2022</td>\n",
       "    </tr>\n",
       "    <tr>\n",
       "      <th>12</th>\n",
       "      <td>SHVS-CPS-057-2022</td>\n",
       "    </tr>\n",
       "    <tr>\n",
       "      <th>13</th>\n",
       "      <td>SCDE-CPS-189-2022</td>\n",
       "    </tr>\n",
       "    <tr>\n",
       "      <th>14</th>\n",
       "      <td>SHVS-CPS-056-2022</td>\n",
       "    </tr>\n",
       "    <tr>\n",
       "      <th>15</th>\n",
       "      <td>SHVS-CPS-055-2022</td>\n",
       "    </tr>\n",
       "    <tr>\n",
       "      <th>16</th>\n",
       "      <td>SCDE-CPS-188-2022</td>\n",
       "    </tr>\n",
       "    <tr>\n",
       "      <th>17</th>\n",
       "      <td>SCDE-CPS-190-2022</td>\n",
       "    </tr>\n",
       "    <tr>\n",
       "      <th>18</th>\n",
       "      <td>SCDE-CPS-187-2022</td>\n",
       "    </tr>\n",
       "    <tr>\n",
       "      <th>19</th>\n",
       "      <td>SHVS-CPS-065-2022</td>\n",
       "    </tr>\n",
       "    <tr>\n",
       "      <th>20</th>\n",
       "      <td>SHVS-CPS-066-2022</td>\n",
       "    </tr>\n",
       "    <tr>\n",
       "      <th>21</th>\n",
       "      <td>SCDE-CPS-185-2022</td>\n",
       "    </tr>\n",
       "    <tr>\n",
       "      <th>22</th>\n",
       "      <td>SHVS-CPS-053-2022</td>\n",
       "    </tr>\n",
       "    <tr>\n",
       "      <th>23</th>\n",
       "      <td>SCDE-CPS-191-2022</td>\n",
       "    </tr>\n",
       "    <tr>\n",
       "      <th>24</th>\n",
       "      <td>SCDE-CPS-186-2022</td>\n",
       "    </tr>\n",
       "    <tr>\n",
       "      <th>25</th>\n",
       "      <td>SHVS-CPS-052-2022</td>\n",
       "    </tr>\n",
       "    <tr>\n",
       "      <th>26</th>\n",
       "      <td>SCDE-CPS-192-2022</td>\n",
       "    </tr>\n",
       "    <tr>\n",
       "      <th>27</th>\n",
       "      <td>SCDE-CPS-175-2022</td>\n",
       "    </tr>\n",
       "    <tr>\n",
       "      <th>28</th>\n",
       "      <td>SHVS-CPS-051-2022</td>\n",
       "    </tr>\n",
       "    <tr>\n",
       "      <th>29</th>\n",
       "      <td>SCDE-CPS-184-2022</td>\n",
       "    </tr>\n",
       "    <tr>\n",
       "      <th>30</th>\n",
       "      <td>SCDE-CPS-174-2022</td>\n",
       "    </tr>\n",
       "    <tr>\n",
       "      <th>31</th>\n",
       "      <td>SCDE-CPS-193-2022</td>\n",
       "    </tr>\n",
       "    <tr>\n",
       "      <th>32</th>\n",
       "      <td>SCDE-CPS-183-2022</td>\n",
       "    </tr>\n",
       "    <tr>\n",
       "      <th>33</th>\n",
       "      <td>SHVS-CPS-050-2022</td>\n",
       "    </tr>\n",
       "    <tr>\n",
       "      <th>34</th>\n",
       "      <td>SCDE-CPS-173-2022</td>\n",
       "    </tr>\n",
       "    <tr>\n",
       "      <th>35</th>\n",
       "      <td>SCDE-CPS-194-2022</td>\n",
       "    </tr>\n",
       "    <tr>\n",
       "      <th>36</th>\n",
       "      <td>SCDE-CPS-180-2022</td>\n",
       "    </tr>\n",
       "    <tr>\n",
       "      <th>37</th>\n",
       "      <td>SCDE-CPS-171-2022</td>\n",
       "    </tr>\n",
       "    <tr>\n",
       "      <th>38</th>\n",
       "      <td>SCDE-CPS-195-2022</td>\n",
       "    </tr>\n",
       "    <tr>\n",
       "      <th>39</th>\n",
       "      <td>SCDE-CPS-170-2022</td>\n",
       "    </tr>\n",
       "    <tr>\n",
       "      <th>40</th>\n",
       "      <td>SHVS-CPS-046-2022</td>\n",
       "    </tr>\n",
       "    <tr>\n",
       "      <th>41</th>\n",
       "      <td>SCDE-CPS-196-2022</td>\n",
       "    </tr>\n",
       "    <tr>\n",
       "      <th>42</th>\n",
       "      <td>SCDE-CPS-179-2022</td>\n",
       "    </tr>\n",
       "    <tr>\n",
       "      <th>43</th>\n",
       "      <td>SHVS- CPS-043-2022</td>\n",
       "    </tr>\n",
       "    <tr>\n",
       "      <th>44</th>\n",
       "      <td>SCDE-CPS-169-2022</td>\n",
       "    </tr>\n",
       "  </tbody>\n",
       "</table>\n",
       "</div>"
      ],
      "text/plain": [
       "                                    Contratos\n",
       "0   SE-SAMC-001-2022 (Presentación de oferta)\n",
       "1                            SFP-CMC-059-2022\n",
       "2                             SS-CMC-001-2022\n",
       "3                           SHVS-CPS-064-2022\n",
       "4                           SHVS-CPS-063-2022\n",
       "5                           SHVS-CPS-062-2022\n",
       "6                           SHVS-CPS-061-2022\n",
       "7                           SHVS-CPS-060-2022\n",
       "8                           SHVS-CPS-059-2022\n",
       "9                           SHVS-CPS-054-2022\n",
       "10                          SHVS-CPS-048-2022\n",
       "11                          SHVS-CPS-058-2022\n",
       "12                          SHVS-CPS-057-2022\n",
       "13                          SCDE-CPS-189-2022\n",
       "14                          SHVS-CPS-056-2022\n",
       "15                          SHVS-CPS-055-2022\n",
       "16                          SCDE-CPS-188-2022\n",
       "17                          SCDE-CPS-190-2022\n",
       "18                          SCDE-CPS-187-2022\n",
       "19                          SHVS-CPS-065-2022\n",
       "20                          SHVS-CPS-066-2022\n",
       "21                          SCDE-CPS-185-2022\n",
       "22                          SHVS-CPS-053-2022\n",
       "23                          SCDE-CPS-191-2022\n",
       "24                          SCDE-CPS-186-2022\n",
       "25                          SHVS-CPS-052-2022\n",
       "26                          SCDE-CPS-192-2022\n",
       "27                          SCDE-CPS-175-2022\n",
       "28                          SHVS-CPS-051-2022\n",
       "29                          SCDE-CPS-184-2022\n",
       "30                          SCDE-CPS-174-2022\n",
       "31                          SCDE-CPS-193-2022\n",
       "32                          SCDE-CPS-183-2022\n",
       "33                          SHVS-CPS-050-2022\n",
       "34                          SCDE-CPS-173-2022\n",
       "35                          SCDE-CPS-194-2022\n",
       "36                          SCDE-CPS-180-2022\n",
       "37                          SCDE-CPS-171-2022\n",
       "38                          SCDE-CPS-195-2022\n",
       "39                          SCDE-CPS-170-2022\n",
       "40                          SHVS-CPS-046-2022\n",
       "41                          SCDE-CPS-196-2022\n",
       "42                          SCDE-CPS-179-2022\n",
       "43                         SHVS- CPS-043-2022\n",
       "44                          SCDE-CPS-169-2022"
      ]
     },
     "execution_count": 135,
     "metadata": {},
     "output_type": "execute_result"
    }
   ],
   "source": [
    "# Obteniendo código HTML con más elementos\n",
    "soup = BeautifulSoup(driver.page_source, 'html.parser')\n",
    "cuantos_contratos = len(soup.find_all('span',{'id':re.compile(f'spnMatchingResultRequestReference*')}))\n",
    "print(\"Contratos Encontrados:\", cuantos_contratos)\n",
    "\n",
    "contratos_html = soup.find_all('span',{'id':re.compile(f'spnMatchingResultRequestReference*')})\n",
    "contratos = [re.sub('\\n','',html2text(str(contrato_html))) for contrato_html in contratos_html]\n",
    "contratos = pd.DataFrame(contratos,columns=['Contratos'])\n",
    "contratos"
   ]
  },
  {
   "cell_type": "markdown",
   "id": "056befca-aca3-4f5b-9b4b-19d116add1fe",
   "metadata": {},
   "source": [
    "[[Volver al inicio]](#Contenido)"
   ]
  },
  {
   "cell_type": "markdown",
   "id": "78b492bd-c24a-4aa3-80ac-eafc99435414",
   "metadata": {},
   "source": [
    "## <span style=\"color:blue\">Obteniendo información detallada</span> "
   ]
  },
  {
   "cell_type": "code",
   "execution_count": 137,
   "id": "10dc303e-bf61-4113-beb7-557da7e17a79",
   "metadata": {},
   "outputs": [],
   "source": [
    "driver.refresh()"
   ]
  },
  {
   "cell_type": "code",
   "execution_count": 171,
   "id": "bb9b2303-21b7-41df-87c3-e115285d0b50",
   "metadata": {},
   "outputs": [],
   "source": [
    "contrato = contratos[\"Contratos\"][2]\n",
    "contrato = 'SS-CPS-509-2022'\n",
    "\n",
    "# Llenar datos de la búsqueda\n",
    "driver.find_element(By.XPATH,'//input[@id=\"txtBuyer\"]').send_keys('Departamento de Cundinamarca')\n",
    "driver.find_element(By.XPATH,'//input[@id=\"txtRequestReference\"]').send_keys(contrato)\n",
    "# Borrar texto de fechas\n",
    "driver.find_element(By.XPATH,'//input[@id=\"dtmbPublishDateFrom_txt\"]').clear()\n",
    "driver.find_element(By.XPATH,'//input[@id=\"dtmbPublishDateTo_txt\"]').clear()\n",
    "#Buscar\n",
    "driver.find_element(By.XPATH,'//input[@id=\"btnSearchButton\"]').click()"
   ]
  },
  {
   "cell_type": "markdown",
   "id": "51f95045-5e92-40bf-a936-b0fbbee64a40",
   "metadata": {},
   "source": [
    "**Es importante reconocer el tiempo de respuesta al acceder a consultas de información. Muchas veces, esto hace que los bots de Scrapy fallen.**"
   ]
  },
  {
   "cell_type": "code",
   "execution_count": 172,
   "id": "3618f4c1-19be-4060-a9f1-e3fe75ac9beb",
   "metadata": {},
   "outputs": [],
   "source": [
    "from selenium.webdriver.support.ui import WebDriverWait\n",
    "# Esperar detalle del contrato\n",
    "detalle=WebDriverWait(driver,15).until(\n",
    "    EC.presence_of_element_located\\\n",
    "    ((By.XPATH,'//a[@id=\"tblMainTable_trRowMiddle_tdCell1_tblForm_trGridRow_tdCell1_grdResultList_tdDetailCol_lnkDetailColLink_0\"]'))\n",
    ")\n",
    "# Click en detalle del contrato\n",
    "driver.find_element\\\n",
    "(By.XPATH,'//a[@id=\"tblMainTable_trRowMiddle_tdCell1_tblForm_trGridRow_tdCell1_grdResultList_tdDetailCol_lnkDetailColLink_0\"]').click()"
   ]
  },
  {
   "cell_type": "code",
   "execution_count": 173,
   "id": "67c6c4d1-4fea-40d3-a0bb-232f4e7ee279",
   "metadata": {},
   "outputs": [],
   "source": [
    "MOD = []\n",
    "TIPO = []\n",
    "ESTADO = []\n",
    "DEPEND = []\n",
    "OBJ = []\n",
    "CONTR = []\n",
    "PL_EJ = []\n",
    "F_SUS = []\n",
    "CDP=[]\n",
    "VAL_CDP=[]\n",
    "ES_PRE=[]\n",
    "RP = []\n",
    "NUM_RP = []\n",
    "VAL_RP = []\n",
    "F_TER=[]\n",
    "\n",
    "### Extract Info\n",
    "soup = BeautifulSoup(driver.page_source, 'html.parser')\n",
    "\n",
    "# ================================= EXTRAER DOCS (+CDP) ==========================================\n",
    "valor_cdp = soup.find_all('span',{'id': re.compile(f'cbxSIIFIntegrationBalance_0')})\n",
    "valor_cdp = html2text(str(valor_cdp))\n",
    "valor_cdp = re.sub('[\\n\\[\\]]','',valor_cdp)\n",
    "VAL_CDP.append(valor_cdp)\n",
    "\n",
    "# MODALIDAD DE CONTRATO\n",
    "modalidad = soup.find_all('span',{'id': re.compile(f'fdsRequestSummaryInfoP2Gen_tblDetail_trRow5_tdCell2_spnProcedureType')})\n",
    "modalidad = html2text(str(modalidad))\n",
    "MOD.append(modalidad)\n",
    "\n",
    "# TIPO DE CONTRATO\n",
    "tipo = soup.find_all('span',{'id': re.compile(f'trRowJustificationTypeOfContract_tdCell2_spnJustificationTypeOfContract')})\n",
    "tipo = html2text(str(tipo))\n",
    "\n",
    "TIPO.append(tipo)\n",
    "\n",
    "# ESTADO DE CONTRATO\n",
    "estado = soup.find_all('span',{'id': re.compile(f'fdsRequestSummaryInfoP2Gen_tblDetail_trRowState_tdCell2_spnTitle')})\n",
    "estado = html2text(str(estado))\n",
    "\n",
    "ESTADO.append(estado)\n",
    "\n",
    "# DEPENDENCIA\n",
    "dependencia = soup.find_all('span',{'id': re.compile(f'fdsRequestSummaryInfoP2Gen_tblDetail_trRow6_tdCell2_spnBusinessOperationName')})\n",
    "dependencia = html2text(str(dependencia))\n",
    "\n",
    "DEPEND.append(dependencia)\n",
    "\n",
    "# OBJETO DEL CONTRATO\n",
    "objeto = soup.find_all('span',{'id': re.compile(f'divDescriptionDiv_spnDescription')})\n",
    "objeto = html2text(str(objeto))\n",
    "\n",
    "OBJ.append(objeto)\n",
    "\n",
    "# CONTRATISTA\n",
    "contratista = soup.find_all('label',{'id': re.compile(f'lblAwardedCompanyLabel_0')})\n",
    "contratista = html2text(str(contratista))\n",
    "\n",
    "CONTR.append(contratista)\n",
    "\n",
    "# PLAZO DE EJECUCIÓN\n",
    "\n",
    "plazo_ejecucion = soup.find_all('td',{'id': re.compile(f'fdsObjectOfTheContractP2Gen_tblDetail_trRow4_tdCell2')})\n",
    "plazo_ejecucion = html2text(str(plazo_ejecucion))\n",
    "\n",
    "PL_EJ.append(plazo_ejecucion)\n",
    "\n",
    "# FECHA DE SUSCRIPCIÓN\n",
    "fecha_suscripcion = soup.find_all('span',{'id': re.compile(f'dtmbScheduleDateTime_49_txt')})\n",
    "fecha_suscripcion = html2text(str(fecha_suscripcion))\n",
    "fecha_suscripcion = re.search(r'\\d\\d?\\/\\d{2}\\/\\d{4}', fecha_suscripcion)\n",
    "\n",
    "# Algunas fechas pueden estar vacías\n",
    "if fecha_suscripcion is None:\n",
    "    fecha_suscripcion = 'DESCONOCIDO'\n",
    "    F_SUS.append(fecha_suscripcion)\n",
    "else:\n",
    "    fecha_suscripcion = fecha_suscripcion.group()\n",
    "    F_SUS.append(fecha_suscripcion)\n",
    "\n",
    "cdp = soup.find_all('span',{'id': re.compile(f'spnSIIFIntegrationItemCode_0')})\n",
    "cdp = html2text(str(cdp))\n",
    "CDP.append(cdp)\n",
    "\n",
    "# FECHA DE TERMINACIÓN\n",
    "estudios_previos = soup.find_all('tr',{'id': re.compile(f'fdsDocumentListP2Gen_tblDocsContentTable_trRow1')})\n",
    "estudios_previos = html2text(str(estudios_previos)).lower()\n",
    "estudios_previos = re.search(r'estudios.*',estudios_previos)\n",
    "\n",
    "\n",
    "fecha_terminacion = soup.find_all('span',{'id': re.compile(f'dtmbContractEndDateBoxGen_txt')})\n",
    "fecha_terminacion = html2text(str(fecha_terminacion))\n",
    "fecha_terminacion = re.search(r'\\d\\d?\\/\\d{2}\\/\\d{4}', fecha_terminacion)\n",
    "\n",
    "    # Algunas fechas pueden estar vacías\n",
    "if fecha_terminacion is None:\n",
    "    fecha_terminacion = 'DESCONOCIDO'\n",
    "    F_TER.append(fecha_terminacion)\n",
    "else:\n",
    "    fecha_terminacion = fecha_terminacion.group()\n",
    "    F_TER.append(fecha_terminacion)"
   ]
  },
  {
   "cell_type": "code",
   "execution_count": 174,
   "id": "d876b6d8-4966-4136-b308-c69a5951e45b",
   "metadata": {},
   "outputs": [
    {
     "data": {
      "text/html": [
       "<div>\n",
       "<style scoped>\n",
       "    .dataframe tbody tr th:only-of-type {\n",
       "        vertical-align: middle;\n",
       "    }\n",
       "\n",
       "    .dataframe tbody tr th {\n",
       "        vertical-align: top;\n",
       "    }\n",
       "\n",
       "    .dataframe thead th {\n",
       "        text-align: right;\n",
       "    }\n",
       "</style>\n",
       "<table border=\"1\" class=\"dataframe\">\n",
       "  <thead>\n",
       "    <tr style=\"text-align: right;\">\n",
       "      <th></th>\n",
       "      <th>NÚMERO DE PROCESO</th>\n",
       "      <th>MODALIDAD DE CONTRATACION</th>\n",
       "      <th>TIPO DE CONTRATO</th>\n",
       "      <th>ESTADO</th>\n",
       "      <th>DEPENDENCIA</th>\n",
       "      <th>OBJETO</th>\n",
       "      <th>CONTRATISTA</th>\n",
       "      <th>PLAZO DE EJECUCIÓN</th>\n",
       "      <th>FECHA SUSCRIPCIÓN</th>\n",
       "      <th>CDP</th>\n",
       "      <th>VALOR DEL CDP</th>\n",
       "      <th>FECHA DE TERMINACION</th>\n",
       "    </tr>\n",
       "  </thead>\n",
       "  <tbody>\n",
       "    <tr>\n",
       "      <th>0</th>\n",
       "      <td>SS-CPS-509-2022</td>\n",
       "      <td>Contratación directa.</td>\n",
       "      <td>Servicios profesionales y apoyo a la gestión</td>\n",
       "      <td>adjudicado y celebrado</td>\n",
       "      <td>DIRECCIÓN ADMINISTRATIVA Y FINANCIERA SECRETAR...</td>\n",
       "      <td>PRESTAR SERVICIOS PROFESIONALES EN LA GESTIÓN ...</td>\n",
       "      <td>yenny carolina carvajal lopez</td>\n",
       "      <td>8 (Meses)</td>\n",
       "      <td>2/02/2022</td>\n",
       "      <td>7100023700</td>\n",
       "      <td>40.004.352 COP</td>\n",
       "      <td>1/10/2022</td>\n",
       "    </tr>\n",
       "  </tbody>\n",
       "</table>\n",
       "</div>"
      ],
      "text/plain": [
       "  NÚMERO DE PROCESO MODALIDAD DE CONTRATACION  \\\n",
       "0   SS-CPS-509-2022     Contratación directa.   \n",
       "\n",
       "                               TIPO DE CONTRATO                   ESTADO  \\\n",
       "0  Servicios profesionales y apoyo a la gestión   adjudicado y celebrado   \n",
       "\n",
       "                                         DEPENDENCIA  \\\n",
       "0  DIRECCIÓN ADMINISTRATIVA Y FINANCIERA SECRETAR...   \n",
       "\n",
       "                                              OBJETO  \\\n",
       "0  PRESTAR SERVICIOS PROFESIONALES EN LA GESTIÓN ...   \n",
       "\n",
       "                     CONTRATISTA PLAZO DE EJECUCIÓN FECHA SUSCRIPCIÓN  \\\n",
       "0  yenny carolina carvajal lopez          8 (Meses)         2/02/2022   \n",
       "\n",
       "          CDP   VALOR DEL CDP FECHA DE TERMINACION  \n",
       "0  7100023700  40.004.352 COP            1/10/2022  "
      ]
     },
     "execution_count": 174,
     "metadata": {},
     "output_type": "execute_result"
    }
   ],
   "source": [
    "#print(modalidad,tipo,objeto,contratista,plazo_ejecucion,fecha_suscripcion,cdp,estudios_previos,'\\n',fecha_terminacion)\n",
    "datos = pd.DataFrame([])\n",
    "\n",
    "datos['NÚMERO DE PROCESO'] = [contrato]\n",
    "datos['MODALIDAD DE CONTRATACION']= MOD\n",
    "datos['TIPO DE CONTRATO']= TIPO\n",
    "datos['ESTADO']= ESTADO\n",
    "datos['DEPENDENCIA']= DEPEND\n",
    "datos['OBJETO']= OBJ\n",
    "datos['CONTRATISTA']= CONTR\n",
    "datos['PLAZO DE EJECUCIÓN']= PL_EJ\n",
    "datos['FECHA SUSCRIPCIÓN']= F_SUS\n",
    "datos['CDP']= CDP\n",
    "datos['VALOR DEL CDP']= VAL_CDP\n",
    "datos['FECHA DE TERMINACION']= F_TER\n",
    "\n",
    "datos = datos.replace('[\\n\\[\\]]','',regex=True)\n",
    "# QUITAR SECRETARIA DE\n",
    "datos['DEPENDENCIA'] = datos['DEPENDENCIA'].replace('SECRETARIA DE','',regex=True)\n",
    "# Quitar Proceso en Dependencia\n",
    "datos['ESTADO'] = datos['ESTADO'].replace('Proceso','',regex=True)\n",
    "datos"
   ]
  },
  {
   "cell_type": "markdown",
   "id": "c1bd7538-1453-465b-ab19-c5e41f0f5898",
   "metadata": {},
   "source": [
    "[[Volver al inicio]](#Contenido)"
   ]
  },
  {
   "cell_type": "markdown",
   "id": "ea3c90a6-38aa-4bfe-84c0-1c57e35ec9bd",
   "metadata": {},
   "source": [
    "## <span style=\"color:blue\">Obteniendo documentos</span> "
   ]
  },
  {
   "cell_type": "code",
   "execution_count": 161,
   "id": "7d26ecc2-5079-4dc3-88c7-ecf95d330945",
   "metadata": {},
   "outputs": [
    {
     "name": "stdout",
     "output_type": "stream",
     "text": [
      "Hay 26 Archivos Para Descargar\n",
      "1...2...3...4...5...6...7...8...9...10...11...12...13...14...15...16...17...18...19...20...21...22...23...24...25...26..."
     ]
    }
   ],
   "source": [
    "try:\n",
    "    WebDriverWait(driver,20).until(\n",
    "    EC.presence_of_element_located((By.XPATH,'//a[@id=\"lnkDownloadLinkP3Gen_1\"]'))\n",
    "    )\n",
    "except: pass\n",
    "\n",
    "try:\n",
    "    # Minar todos los docs para validación humana\n",
    "    # CONTAR DOCS\n",
    "    cuantos_docs = len(soup.find_all('a',{'id':re.compile(f'lnkDownloadLinkP3Gen*')}))\n",
    "    print(f'Hay {cuantos_docs} Archivos Para Descargar')\n",
    "    \n",
    "    # Conteo de Páginas\n",
    "    cont = 1\n",
    "    for i in range(cuantos_docs):\n",
    "        print(f'{i+1}...',end='')\n",
    "        # BAJAR DOCS\n",
    "        driver.find_element(By.XPATH,f'//a[@id=\"lnkDownloadLinkP3Gen_{i}\"]').click()\n",
    "        sleep(random.uniform(1.,2.))\n",
    "        \n",
    "        # SEGUNDA HOJA CON DOCS\n",
    "        if (i+1)%5==0 and (i+1)<cuantos_docs:\n",
    "            driver.find_element(By.XPATH,f'//input[@id=\"grdGridDocumentList_Paginator_goToPage_{cont}\"]').click()\n",
    "            sleep(random.uniform(1.,2.))\n",
    "            cont+=1\n",
    "except:\n",
    "    print('No se pudieron minar todos los archivos.')"
   ]
  },
  {
   "cell_type": "markdown",
   "id": "1569b7cd-c303-4fd9-a701-693ec3834ad6",
   "metadata": {},
   "source": [
    "[[Volver al inicio]](#Contenido)"
   ]
  },
  {
   "cell_type": "markdown",
   "id": "b0192568-773e-4131-b17d-3275819f8680",
   "metadata": {},
   "source": [
    "## <span style=\"color:blue\">iFrames</span> "
   ]
  },
  {
   "cell_type": "markdown",
   "id": "e93281f3-52cf-4404-a1a3-4fd4d8da5963",
   "metadata": {},
   "source": [
    "Los iFrame son ventanas interactivas que no abren otras pestañas del Browser, pero que tienen contenido HTML que puede ser importante para minar."
   ]
  },
  {
   "cell_type": "code",
   "execution_count": 175,
   "id": "f04c7473-2145-400f-bca0-464b0d56a478",
   "metadata": {},
   "outputs": [],
   "source": [
    "# Esperar por elemento Ver Contrato\n",
    "try:\n",
    "    WebDriverWait(driver,20).until(\n",
    "    EC.presence_of_element_located((By.XPATH,'//a[@id=\"lnkSalesContractViewLink_0\"]'))\n",
    "    )\n",
    "except: pass\n",
    "\n",
    "try:\n",
    "    # Hacer click en Ver Contrato\n",
    "    driver.find_element(By.XPATH,'//a[@id=\"lnkSalesContractViewLink_0\"]').click()\n",
    "    # Cambiar a iframe (CONTENIDO DINÁMICO)\n",
    "    driver.switch_to.frame(driver.find_element(By.TAG_NAME,\"iframe\"))\n",
    "\n",
    "    # Info web de ver Contrato\n",
    "    soup2 = BeautifulSoup(driver.page_source, 'html.parser')\n",
    "\n",
    "    # Extraer Número de Registro Presupuestal \n",
    "    num_rp = soup2.find_all('label',{'id': re.compile(f'lblExecutionDescription_0')})\n",
    "\n",
    "    # Obtener texto de RP\n",
    "    num_rp = html2text(str(num_rp))\n",
    "    # Filtrar RP\n",
    "    num_rp = re.sub('[\\n\\[\\]]','',num_rp)\n",
    "\n",
    "    # Si hay RP...\n",
    "    if num_rp:\n",
    "        detalle=WebDriverWait(driver,15).until(\n",
    "        EC.presence_of_element_located((By.XPATH,'//a[@id=\"lnkDownloadExecutionDocument_0\"]'))\n",
    "        )\n",
    "        cuantos_docs = len(soup2.find_all('a',{'id':re.compile(f'lnkDownloadExecution*')}))\n",
    "        for i in range(cuantos_docs):\n",
    "            # BAJAR DOCS (+RP)\n",
    "            driver.find_element(By.XPATH,f'//a[@id=\"lnkDownloadExecutionDocument_{i}\"]').click()\n",
    "            sleep(random.uniform(1.,2.))\n",
    "\n",
    "        sleep(random.uniform(1.,2.))\n",
    "        RP.append('SI')\n",
    "        NUM_RP.append('MIRAR DOCUMENTOS')\n",
    "        VAL_RP.append('')\n",
    "    else:\n",
    "        RP.append('NO APLICA')\n",
    "        NUM_RP.append('NO')\n",
    "        VAL_RP.append('NO')\n",
    "\n",
    "    # Volver a contenido anterior\n",
    "    driver.switch_to.default_content()\n",
    "\n",
    "    # Esperar por x\n",
    "    x_button=WebDriverWait(driver,20).until(\n",
    "    EC.presence_of_element_located((By.XPATH,'//input[@class=\"VortalBlueButton\"]'))\n",
    "    )\n",
    "    # Volver atrás\n",
    "    driver.find_element(By.XPATH,f'//input[@class=\"VortalBlueButton\"]').click()\n",
    "\n",
    "except:\n",
    "    RP.append('NO HAY LINK')\n",
    "    NUM_RP.append('NO')\n",
    "    VAL_RP.append('NO')"
   ]
  },
  {
   "cell_type": "markdown",
   "id": "5a93fcd2-acc9-4e8a-831a-456919fc4ddd",
   "metadata": {},
   "source": [
    "[[Volver al inicio]](#Contenido)"
   ]
  },
  {
   "cell_type": "markdown",
   "id": "9725e29e-2ecf-4e3b-b80b-f8f0712c4559",
   "metadata": {},
   "source": [
    "## <span style=\"color:blue\">Organizando información</span> "
   ]
  },
  {
   "cell_type": "code",
   "execution_count": 176,
   "id": "a20ae8ef-e46f-44a2-97fd-13674ef27a6a",
   "metadata": {},
   "outputs": [],
   "source": [
    "import os\n",
    "from glob import glob\n",
    "import shutil\n",
    "from zipfile import ZipFile"
   ]
  },
  {
   "cell_type": "code",
   "execution_count": 177,
   "id": "008db9fd-e8af-4a27-ad14-5376bd9ed7d5",
   "metadata": {},
   "outputs": [],
   "source": [
    "# CREAR CARPETAS CON CONTRATOS ESPECIFICOS\n",
    "os.makedirs(f'/Users/moury/Downloads/{1}. {contrato}', exist_ok=True)\n",
    "# OBTENER ARCHIVOS DESCARGADOS\n",
    "archivos_contrato = glob(f'/Users/moury/Downloads/*.zip')\n",
    "# MOVER ARCHIVOS\n",
    "for arc_contr in archivos_contrato:\n",
    "    with ZipFile(arc_contr, 'r') as zipObj:\n",
    "    # Extract all the contents of zip file in current directory\n",
    "        zipObj.extractall(f'/Users/moury/Downloads/{1}. {contrato}')\n",
    "    os.remove(arc_contr)\n",
    "    \n",
    "# Mover pdf si hay\n",
    "archivos_contrato_pdf = glob(f'/Users/moury/Downloads/*.pdf')\n",
    "if archivos_contrato_pdf:\n",
    "    os.makedirs(f'/Users/moury/Downloads/{1}. {contrato}/RP', exist_ok=True)\n",
    "    for arc_contr_pdf in archivos_contrato_pdf:\n",
    "        shutil.move(arc_contr_pdf,f'/Users/moury/Downloads/{1}. {contrato}/RP')"
   ]
  },
  {
   "cell_type": "markdown",
   "id": "2937b373-d80b-4fe7-9cc4-fa058a1d788a",
   "metadata": {},
   "source": [
    "[[Volver al inicio]](#Contenido)"
   ]
  },
  {
   "cell_type": "markdown",
   "id": "e538767c-138d-43c9-96b9-87d9361e2000",
   "metadata": {},
   "source": [
    "## <span style=\"color:blue\">Utilizando IA para extraer información</span> "
   ]
  },
  {
   "cell_type": "code",
   "execution_count": null,
   "id": "5c0df128-b211-4e48-99c2-e22d7fab5d4c",
   "metadata": {},
   "outputs": [],
   "source": [
    "from pdf2image import convert_from_path\n",
    "import re\n",
    "import numpy as np\n",
    "import cv2\n",
    "from PIL import Image\n",
    "import pytesseract\n",
    "import matplotlib.pyplot as plt\n",
    "from glob import glob"
   ]
  },
  {
   "cell_type": "code",
   "execution_count": 184,
   "id": "b3a8709b-693c-4c8b-9ac7-02e112b005f4",
   "metadata": {},
   "outputs": [
    {
     "data": {
      "text/plain": [
       "['/Users/moury/Downloads/1. SS-CPS-509-2022/RP/509-2022 RPC.pdf']"
      ]
     },
     "execution_count": 184,
     "metadata": {},
     "output_type": "execute_result"
    }
   ],
   "source": [
    "pdfs = glob(f\"/Users/moury/Downloads/*/RP/*RPC*.pdf\")+glob(f\"./*/*/*rpc*.pdf\")\n",
    "pdfs"
   ]
  },
  {
   "cell_type": "code",
   "execution_count": 185,
   "id": "93b59b29-afad-4d84-a720-ddfc9965f596",
   "metadata": {},
   "outputs": [],
   "source": [
    "# use this command to install open cv2\n",
    "# pip install opencv-python\n",
    "\n",
    "# use this command to install PIL\n",
    "# pip install Pillow\n",
    "\n",
    "def mark_region(image_path):\n",
    "    \n",
    "    im = cv2.imread(image_path)\n",
    "\n",
    "    gray = cv2.cvtColor(im, cv2.COLOR_BGR2GRAY)\n",
    "    blur = cv2.GaussianBlur(gray, (9,9), 0)\n",
    "    thresh = cv2.adaptiveThreshold(blur,255,cv2.ADAPTIVE_THRESH_GAUSSIAN_C, cv2.THRESH_BINARY_INV,11,30)\n",
    "\n",
    "    # Dilate to combine adjacent text contours\n",
    "    kernel = cv2.getStructuringElement(cv2.MORPH_RECT, (9,9))\n",
    "    dilate = cv2.dilate(thresh, kernel, iterations=4)\n",
    "\n",
    "    # Find contours, highlight text areas, and extract ROIs\n",
    "    cnts = cv2.findContours(dilate, cv2.RETR_EXTERNAL, cv2.CHAIN_APPROX_SIMPLE)\n",
    "    cnts = cnts[0] if len(cnts) == 2 else cnts[1]\n",
    "\n",
    "    line_items_coordinates = []\n",
    "    for c in cnts:\n",
    "        area = cv2.contourArea(c)\n",
    "        x,y,w,h = cv2.boundingRect(c)\n",
    "\n",
    "        if y >= 600 and x <= 1000:\n",
    "            if area > 10000:\n",
    "                image = cv2.rectangle(im, (x,y), (2200, y+h), color=(255,0,255), thickness=3)\n",
    "                line_items_coordinates.append([(x,y), (2200, y+h)])\n",
    "\n",
    "        if y >= 2400 and x<= 2000:\n",
    "            image = cv2.rectangle(im, (x,y), (2200, y+h), color=(255,0,255), thickness=3)\n",
    "            line_items_coordinates.append([(x,y), (2200, y+h)])\n",
    "            \n",
    "\n",
    "    return line_items_coordinates"
   ]
  },
  {
   "cell_type": "code",
   "execution_count": null,
   "id": "dc1e5f77-7acc-43e5-98fa-29dd7ef6111d",
   "metadata": {},
   "outputs": [],
   "source": [
    "VAL = []\n",
    "for pdf in pdfs:\n",
    "    print(pdf,end=' ')\n",
    "    pages = convert_from_path(pdf,500)[0].save(pdf + \".jpg\", \"JPEG\")\n",
    "\n",
    "    line_items_coordinates = mark_region(pdf + \".jpg\")\n",
    "\n",
    "    # load the original image\n",
    "    image = cv2.imread(pdf + \".jpg\")\n",
    "\n",
    "    TEXT=[]\n",
    "    for line_items_coordinate in line_items_coordinates:\n",
    "        # get co-ordinates to crop the image\n",
    "        c = line_items_coordinate\n",
    "\n",
    "        # cropping image img = image[y0:y1, x0:x1]\n",
    "        img = image[c[0][1]:c[1][1], c[0][0]:c[1][0]]    \n",
    "\n",
    "        #plt.figure(figsize=(10,10))\n",
    "        #plt.imshow(img)\n",
    "\n",
    "        # convert the image to black and white for better OCR\n",
    "        ret,thresh1 = cv2.threshold(img,120,255,cv2.THRESH_BINARY)\n",
    "\n",
    "        text = str(pytesseract.image_to_string(thresh1, config='--psm 6'))\n",
    "        # pytesseract image to string to get results\n",
    "        TEXT.append(text)\n",
    "        #print(text)\n",
    "    try:\n",
    "        valor = [re.search('Valor.*',t) for t in TEXT]\n",
    "        valor = np.unique([v.group() for v in valor if v])[0]\n",
    "        valor = re.sub('Valor: \\$\\s?','',valor)\n",
    "        valor = re.sub('Valor. \\$\\s?','',valor)\n",
    "        valor = re.sub('Valor \\$\\s?','',valor)\n",
    "        valor = re.sub('\\,','.',valor)\n",
    "        VAL.append(valor)\n",
    "    except: VAL.append('DESCONOCIDO')\n",
    "    print(VAL)"
   ]
  },
  {
   "cell_type": "markdown",
   "id": "eb17daeb-6be1-41bf-8e52-e4f0be29ff8a",
   "metadata": {},
   "source": [
    "[[Volver al inicio]](#Contenido)"
   ]
  },
  {
   "cell_type": "markdown",
   "id": "83aeabf6-dd95-4659-9386-f4cb22f1e286",
   "metadata": {},
   "source": [
    "### Reto"
   ]
  },
  {
   "cell_type": "markdown",
   "id": "76fa2fc9-5e53-4f6e-9f55-fbe805f0697c",
   "metadata": {},
   "source": [
    "Sistematizar este código para obtener un Minador de Contratos de Secop II y analizar posibles hallazgos."
   ]
  }
 ],
 "metadata": {
  "kernelspec": {
   "display_name": "Python 3 (ipykernel)",
   "language": "python",
   "name": "python3"
  },
  "language_info": {
   "codemirror_mode": {
    "name": "ipython",
    "version": 3
   },
   "file_extension": ".py",
   "mimetype": "text/x-python",
   "name": "python",
   "nbconvert_exporter": "python",
   "pygments_lexer": "ipython3",
   "version": "3.9.13"
  }
 },
 "nbformat": 4,
 "nbformat_minor": 5
}
