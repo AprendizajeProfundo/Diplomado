{
 "cells": [
  {
   "cell_type": "markdown",
   "metadata": {},
   "source": [
    "<figure>\n",
    "<img src=\"../Imagenes/logo-final-ap.png\"  width=\"80\" height=\"80\" align=\"left\"/> \n",
    "</figure>\n",
    "\n",
    "# <span style=\"color:blue\"><left>Aprendizaje Profundo</left></span>"
   ]
  },
  {
   "cell_type": "markdown",
   "metadata": {},
   "source": [
    "# <span style=\"color:red\"><center>Diplomado en Inteligencia Artificial y Aprendizaje Profundo</center></span>"
   ]
  },
  {
   "cell_type": "markdown",
   "metadata": {},
   "source": [
    "# <span style=\"color:green\"><center>Variables Aleatorias</center></span>"
   ]
  },
  {
   "cell_type": "markdown",
   "metadata": {},
   "source": [
    "<figure>\n",
    "<center>\n",
    "<img src=\"https://raw.githubusercontent.com/AprendizajeProfundo/Alejandria/main/Estadistica/Imagenes/barplot.png\" width=\"600\" height=\"400\" align=\"center\"/>\n",
    "</center>\n",
    "</figure>\n",
    "\n",
    "Fuente: Alvaro Montenegro"
   ]
  },
  {
   "cell_type": "markdown",
   "metadata": {},
   "source": [
    "## <span style=\"color:#4361EE\">Profesores</span>"
   ]
  },
  {
   "cell_type": "markdown",
   "metadata": {},
   "source": [
    "1. Alvaro  Montenegro, PhD, ammontenegrod@unal.edu.co\n",
    "1. Camilo José Torres Jiménez, Msc, cjtorresj@unal.edu.co\n",
    "1. Daniel  Montenegro, Msc, dextronomo@gmail.com "
   ]
  },
  {
   "cell_type": "markdown",
   "metadata": {},
   "source": [
    "## <span style=\"color:#4361EE\">Asesora Medios y Marketing digital</span>"
   ]
  },
  {
   "cell_type": "markdown",
   "metadata": {},
   "source": [
    "4. Maria del Pilar Montenegro, pmontenegro88@gmail.com\n",
    "5. Jessica López Mejía, jelopezme@unal.edu.co"
   ]
  },
  {
   "cell_type": "markdown",
   "metadata": {},
   "source": [
    "## <span style=\"color:#4361EE\">Jefe Jurídica</span>"
   ]
  },
  {
   "cell_type": "markdown",
   "metadata": {},
   "source": [
    "6. Paula Andrea Guzmán, guzmancruz.paula@gmail.com"
   ]
  },
  {
   "cell_type": "markdown",
   "metadata": {},
   "source": [
    "## <span style=\"color:#4361EE\">Coordinador Jurídico</span>"
   ]
  },
  {
   "cell_type": "markdown",
   "metadata": {},
   "source": [
    "7. David Fuentes, fuentesd065@gmail.com"
   ]
  },
  {
   "cell_type": "markdown",
   "metadata": {},
   "source": [
    "## <span style=\"color:#4361EE\">Desarrolladores Principales</span>"
   ]
  },
  {
   "cell_type": "markdown",
   "metadata": {},
   "source": [
    "8. Dairo Moreno, damoralesj@unal.edu.co\n",
    "9. Joan Castro, jocastroc@unal.edu.co\n",
    "10. Bryan Riveros, briveros@unal.edu.co\n",
    "11. Rosmer Vargas, rovargasc@unal.edu.co\n",
    "12. Venus Puertas, vpuertasg@unal.edu.co"
   ]
  },
  {
   "cell_type": "markdown",
   "metadata": {},
   "source": [
    "## <span style=\"color:#4361EE\">Expertos en Bases de Datos</span>"
   ]
  },
  {
   "cell_type": "markdown",
   "metadata": {},
   "source": [
    "13. Giovvani Barrera, udgiovanni@gmail.com\n",
    "14. Camilo Chitivo, cchitivo@unal.edu.co"
   ]
  },
  {
   "cell_type": "markdown",
   "metadata": {},
   "source": [
    "## <span style=\"color:#4361EE\">Referencias</span>"
   ]
  },
  {
   "cell_type": "markdown",
   "metadata": {},
   "source": [
    "1. [Alvaro Montenegro y Daniel Montenegro, Inteligencia Artificial y Aprendizaje Profundo, 2021](https://github.com/AprendizajeProfundo/Diplomado)\n",
    "1. [Alvaro Montenegro, Daniel Montenegro y Oleg Jarma, Inteligencia Artificial y Aprendizaje Profundo Avanzado, 2022](https://github.com/AprendizajeProfundo/Diplomado-Avanzado)"
   ]
  },
  {
   "cell_type": "markdown",
   "metadata": {},
   "source": [
    "## <span style=\"color:#4361EE\">Contenido</span>"
   ]
  },
  {
   "cell_type": "markdown",
   "metadata": {},
   "source": [
    "* [Introducción](#Introducción)\n",
    "* [Ejemplo de los dados](#Ejemplo-de-los-dados)\n",
    "* [Variable aleatoria](#Variable-aleatoria)\n",
    "* [Cálculo de frecuencias](#Cálculo-de-frecuencias)\n",
    "* [Función de Probabilidad de una variable numérica discreta](#Función-de-Probabilidad-de-una-variable-numérica-discreta)\n",
    "* [Interpretación de la función de probabilidad](#Interpretación-de-la-función-de-probabilidad)\n",
    "* [Ejemplos de variables numéricas discretas](#Ejemplos-de-variables-numéricas-discretas)\n",
    "* [Variable categóricas](#Variable-categóricas)\n",
    "* [Esperanza Matemática de una variable aleatoria numérica](#Esperanza-Matemática-de-una-variable-aleatoria-numérica)\n",
    "* [Varianza y desviación estándar de una variable aleatoria](#Varianza-y-desviación-estándar-de-una-variable-aleatoria)\n",
    "* [Entropía de una variable aleatoria](#Entropía-de-una-variable-aleatoria)"
   ]
  },
  {
   "cell_type": "markdown",
   "metadata": {},
   "source": [
    "## <span style=\"color:#4361EE\">Introducción</span>"
   ]
  },
  {
   "cell_type": "markdown",
   "metadata": {},
   "source": [
    "En esta sección se introducen conceptos básicos de variables aleatorias, funciones de probabilidad y distribución acumulada."
   ]
  },
  {
   "cell_type": "markdown",
   "metadata": {},
   "source": [
    "## <span style=\"color:#4361EE\">Ejemplo de los dados</span>"
   ]
  },
  {
   "cell_type": "markdown",
   "metadata": {},
   "source": [
    "Recordemos el ejercicio de la sección anterior conceptos-basicos. La imagen muestra dos dados de seis caras de distinto color. \n"
   ]
  },
  {
   "cell_type": "markdown",
   "metadata": {},
   "source": [
    "<figure>\n",
    "<center>\n",
    "<img src=\"https://raw.githubusercontent.com/AprendizajeProfundo/Alejandria/main/Estadistica/Imagenes/dados_negro.jpg\" width=\"300\" height=\"200\" align=\"center\"/>\n",
    "</center>\n",
    "<figcaption>\n",
    "<p style=\"text-align:center\"> Dos dados de seis caras</p>\n",
    "</figcaption>\n",
    "</figure>\n",
    "\n",
    "Fuente: [pixabay](https://pixabay.com/es/photos/dice-spotted-dark-reflection-5976757/)"
   ]
  },
  {
   "cell_type": "markdown",
   "metadata": {},
   "source": [
    "Como ya se sabe del ejercicio hay 36 posibles resultados. Es decir el espacio muestral $\\mathcal{M}$ tiene 36 elementos y $2^{36}$ eventos.\n",
    "\n",
    "Supongamos que $(x,y)$ es un elemento de $\\mathcal{M}$. Observe que $(x,y)$ es en realidad una pareja de números. Por ejemplo $(3,4)$. Definamos ahora la siguiente función:\n",
    "\n",
    "$$\n",
    "f(x,y) = x+y,\n",
    "$$\n",
    "\n",
    "es decir la función $f$ simplemente calcula la suma de los dos números. Como el espacio muestral tiene 36 elementos, entonces hay 36 posibles resultados, aunque no todos son diferentes.\n",
    "\n",
    "\n",
    "La función $f$ se llama una **variable aleatoria**. Veamos algunos posibles valores que puede tomar la función:\n",
    "\n",
    "$$\n",
    "\\begin{align*}\n",
    "f(1,1) & = 2\\\\\n",
    "f(3,2) & = 5\\\\\n",
    "f(4,3) & = 7\\\\\n",
    "f(3,4) & = 7\\\\\n",
    "f(6,5) & = 11\n",
    "\\end{align*}\n",
    "$$\n"
   ]
  },
  {
   "cell_type": "markdown",
   "metadata": {},
   "source": [
    "## <span style=\"color:#4361EE\">Variable aleatoria</span>"
   ]
  },
  {
   "cell_type": "markdown",
   "metadata": {},
   "source": [
    "Dado un espacio muestral $\\mathcal{M}$, es una función que asigna a los elementos del espacio muestral un número real. \n",
    "\n",
    "\n",
    "En el espacio muestral de los dos dados de seis lados, se pueden definir muchas variables aleatorias. Considere por ejemplo la variable aleatoria definida por:\n",
    "$$g(x,y) = x\\times y$$"
   ]
  },
  {
   "cell_type": "markdown",
   "metadata": {},
   "source": [
    "### <span style=\"color:#4CC9F0\">Ejercicio</span>"
   ]
  },
  {
   "cell_type": "markdown",
   "metadata": {},
   "source": [
    "Considere el ejemplo del espacio muestral de los dos dados de seis caras, no cargados. \n",
    "\n",
    "1. Construya la tabla completa de los posibles resultados de de las funcioens $f$ y $g$.\n",
    "2. Proponga otra variable aleatoria definida sobre el espacio muestral $\\mathcal{M}$.\n",
    "\n",
    "Ayuda: Use Python. Construya primero la tabla que representa el espacio muestral, en un tensor $36\\times 2$. En otro tensor construya los respectivos valores de la función."
   ]
  },
  {
   "cell_type": "code",
   "execution_count": 1,
   "metadata": {},
   "outputs": [
    {
     "name": "stdout",
     "output_type": "stream",
     "text": [
      "f( 1.0 , 1.0 ) = 2.0\n",
      "f( 1.0 , 2.0 ) = 3.0\n",
      "f( 1.0 , 3.0 ) = 4.0\n",
      "f( 1.0 , 4.0 ) = 5.0\n",
      "f( 1.0 , 5.0 ) = 6.0\n",
      "f( 1.0 , 6.0 ) = 7.0\n",
      "f( 2.0 , 1.0 ) = 3.0\n",
      "f( 2.0 , 2.0 ) = 4.0\n",
      "f( 2.0 , 3.0 ) = 5.0\n",
      "f( 2.0 , 4.0 ) = 6.0\n",
      "f( 2.0 , 5.0 ) = 7.0\n",
      "f( 2.0 , 6.0 ) = 8.0\n",
      "f( 3.0 , 1.0 ) = 4.0\n",
      "f( 3.0 , 2.0 ) = 5.0\n",
      "f( 3.0 , 3.0 ) = 6.0\n",
      "f( 3.0 , 4.0 ) = 7.0\n",
      "f( 3.0 , 5.0 ) = 8.0\n",
      "f( 3.0 , 6.0 ) = 9.0\n",
      "f( 4.0 , 1.0 ) = 5.0\n",
      "f( 4.0 , 2.0 ) = 6.0\n",
      "f( 4.0 , 3.0 ) = 7.0\n",
      "f( 4.0 , 4.0 ) = 8.0\n",
      "f( 4.0 , 5.0 ) = 9.0\n",
      "f( 4.0 , 6.0 ) = 10.0\n",
      "f( 5.0 , 1.0 ) = 6.0\n",
      "f( 5.0 , 2.0 ) = 7.0\n",
      "f( 5.0 , 3.0 ) = 8.0\n",
      "f( 5.0 , 4.0 ) = 9.0\n",
      "f( 5.0 , 5.0 ) = 10.0\n",
      "f( 5.0 , 6.0 ) = 11.0\n",
      "f( 6.0 , 1.0 ) = 7.0\n",
      "f( 6.0 , 2.0 ) = 8.0\n",
      "f( 6.0 , 3.0 ) = 9.0\n",
      "f( 6.0 , 4.0 ) = 10.0\n",
      "f( 6.0 , 5.0 ) = 11.0\n",
      "f( 6.0 , 6.0 ) = 12.0\n"
     ]
    }
   ],
   "source": [
    "# libreria numérica\n",
    "import numpy as np\n",
    "\n",
    "# espacio muestral\n",
    "M = np.zeros((36,2))\n",
    "k = 0\n",
    "for i in range(1,7):\n",
    "    for j in range(1,7):\n",
    "        M[k,] = (i,j)\n",
    "        k+=1\n",
    "\n",
    "        \n",
    "# calcula la variable aleatoria f: f(x,y)=x+y        \n",
    "f = np.zeros(36)\n",
    "for k in range(36):\n",
    "    f[k] = M[k,0] + M[k,1]\n",
    "\n",
    "    \n",
    "# presenta los resultados\n",
    "for k in range(36):\n",
    "    print('f(',M[k,0],',',M[k,1],') =', f[k])"
   ]
  },
  {
   "cell_type": "markdown",
   "metadata": {},
   "source": [
    "## <span style=\"color:#4361EE\">Cálculo de frecuencias</span>"
   ]
  },
  {
   "cell_type": "markdown",
   "metadata": {},
   "source": [
    "Observe que en el ejemplo anterior, la variable aleatoria toma once(11) posibles valores diferentes: \n",
    "\n",
    "$$f=\\{ 2,3,4,5,6,7,8,9,10,11,12\\}$$\n",
    "\n",
    "\n",
    "Entonces tenemos lo siguiente: 36 posibles valores, pero solamente 11 diferentes.  El siguiente fragmento de código muestra como obtener los posibles valores diferentes que toma la variable aleatoria $f$."
   ]
  },
  {
   "cell_type": "code",
   "execution_count": 2,
   "metadata": {},
   "outputs": [
    {
     "name": "stdout",
     "output_type": "stream",
     "text": [
      "[ 2.  3.  4.  5.  6.  7.  8.  9. 10. 11. 12.]\n"
     ]
    }
   ],
   "source": [
    "print(np.unique(f)) "
   ]
  },
  {
   "cell_type": "markdown",
   "metadata": {},
   "source": [
    "### <span style=\"color:#4CC9F0\">Función Python para calcular una tabla de frecuencias</span>"
   ]
  },
  {
   "cell_type": "markdown",
   "metadata": {},
   "source": [
    "La siguiente función muestra un camino de como calcular la tabla de frecuencias de un conjunto de datos, puestos en una lista de Python. No es la única forma. Investigue otras formas de hacerlo."
   ]
  },
  {
   "cell_type": "code",
   "execution_count": 3,
   "metadata": {},
   "outputs": [],
   "source": [
    "# Función Python para contar los elementos la fecuencia\n",
    "# de los elementos de una lista, usando un diccionario\n",
    "  \n",
    "def CountFrequency(my_list): \n",
    "  \n",
    "    # Creando un diccionario vacío  \n",
    "    freq = {} \n",
    "    for item in my_list: \n",
    "        if (item in freq): \n",
    "            freq[item] += 1\n",
    "        else: \n",
    "            freq[item] = 1\n",
    "    return freq           \n",
    " "
   ]
  },
  {
   "cell_type": "markdown",
   "metadata": {},
   "source": [
    "Asegúrese de entender completamente el código. Vamos a probar la función con dos ejemplos. Primero calculamos la frecuencia de los valores de la variable aleatoria $f$."
   ]
  },
  {
   "cell_type": "code",
   "execution_count": 4,
   "metadata": {},
   "outputs": [
    {
     "name": "stdout",
     "output_type": "stream",
     "text": [
      " 2 :  1\n",
      " 3 :  2\n",
      " 4 :  3\n",
      " 5 :  4\n",
      " 6 :  5\n",
      " 7 :  6\n",
      " 8 :  5\n",
      " 9 :  4\n",
      " 10 :  3\n",
      " 11 :  2\n",
      " 12 :  1\n"
     ]
    }
   ],
   "source": [
    "frec = CountFrequency(f)   \n",
    "\n",
    "for key, value in frec.items():\n",
    "    print (\"% d : % d\"%(key, value)) "
   ]
  },
  {
   "cell_type": "markdown",
   "metadata": {},
   "source": [
    "Podemos manipular directamente los valores del diccionario. Por ejemplo para calcular la frecuencia de 7, que ya sabemos es 6, se escribe:"
   ]
  },
  {
   "cell_type": "code",
   "execution_count": 5,
   "metadata": {},
   "outputs": [
    {
     "data": {
      "text/plain": [
       "6"
      ]
     },
     "execution_count": 5,
     "metadata": {},
     "output_type": "execute_result"
    }
   ],
   "source": [
    "frec[7]"
   ]
  },
  {
   "cell_type": "markdown",
   "metadata": {},
   "source": [
    "En un segundo ejemplo, consideremos el conjunto $ W= \\{A,B,B,C,A,A \\}$"
   ]
  },
  {
   "cell_type": "code",
   "execution_count": 6,
   "metadata": {},
   "outputs": [
    {
     "data": {
      "text/plain": [
       "2"
      ]
     },
     "execution_count": 6,
     "metadata": {},
     "output_type": "execute_result"
    }
   ],
   "source": [
    "W = ['A','B','B','C','A','A']\n",
    "frec = CountFrequency(W)   \n",
    "frec['B']"
   ]
  },
  {
   "cell_type": "markdown",
   "metadata": {},
   "source": [
    "## <span style=\"color:#4361EE\">Función de Probabilidad de una variable numérica discreta</span>"
   ]
  },
  {
   "cell_type": "markdown",
   "metadata": {},
   "source": [
    "Ahora que hemos aprendido a calcular tablas de frecuencias de conjuntos de datos organizados en una lista, vamos a introducir el concepto clave de función de probabilidad. En esta sección consideramos variables aleatorias numéricas discretas como la función $f$ asociada al espacio muestral del lanzamiento de dos dados no cargados. En la siguiente sección consideramos variables categóricas y en otra lección consideramos variables continuas.\n",
    "\n",
    "\n",
    "Como observamos antes, la variable aleatoria $f$ es discreta (particularmente es finita), debido a que toma únicamente 11 posibles valores numéricos. Por otro lado sabemos que el resultado del experimento de lanzar los dados puede arrojar 36 posibles resultados. La **función de probabilidad de la variable aleatoria** *f*, que notaremos $p_f$ se define como la probabilidad de obtener cada posible valor de *f*. \n",
    "\n",
    "\n",
    "Entonces como vimos arriba tenemos que la función de probabilidad de la variable aleatoria $f$ está definida por extensión de la siguiente forma:\n",
    "\n",
    "$$\n",
    "\\begin{align*}\n",
    "p_f[2] & = 1/36\\\\\n",
    "p_f[3] & = 2/36\\\\\n",
    "p_f[4] & = 3/36\\\\\n",
    "p_f[5] & = 4/36\\\\\n",
    "p_f[6] & = 5/36\\\\\n",
    "p_f[7] & = 6/36\\\\\n",
    "p_f[8] & = 5/36\\\\\n",
    "p_f[9] & = 4/36\\\\\n",
    "p_f[10] & = 3/36\\\\\n",
    "p_f[11] & = 2/36\\\\\n",
    "p_f[12] & = 1/36\n",
    "\\end{align*}\n",
    "$$\n",
    "\n",
    "Podemos obtener una imagen de la función, utilizando un histograma. Un histograma es un gráfico de una función de probabilidad de una variable numérica. El siguiente código Python muestra como construir un histograma de la variable aleatoria *f*."
   ]
  },
  {
   "cell_type": "code",
   "execution_count": 7,
   "metadata": {},
   "outputs": [
    {
     "data": {
      "image/png": "[encoded data removed]",
      "text/plain": [
       "<Figure size 432x288 with 1 Axes>"
      ]
     },
     "metadata": {
      "needs_background": "light"
     },
     "output_type": "display_data"
    }
   ],
   "source": [
    "import matplotlib.pyplot as plt\n",
    "plt.hist(f, bins=11,density=True)\n",
    "plt.title('Funcion de probabilidad de la V.A. $f$')\n",
    "plt.xlabel('Valores de  $f$')\n",
    "plt.ylabel('Probabilidad')\n",
    "plt.show()"
   ]
  },
  {
   "cell_type": "markdown",
   "metadata": {},
   "source": [
    "### <span style=\"color:#4CC9F0\">Cálculo de algunas probabilidades</span>"
   ]
  },
  {
   "cell_type": "markdown",
   "metadata": {},
   "source": [
    "Dado que la variable aleatoria $f$ es numérica, podemos calcular la probabilidad de diferentes eventos del espacio muestral, basados en el valor de $f$. Veamos algunos ejemplos.\n",
    "\n",
    "$$\n",
    "\\begin{align*}\n",
    "\\text{Prob}[f \\text{ es par }] &= 18/36\\\\\n",
    "\\text{Prob}[f\\le 6] &= 15/36\\\\\n",
    "\\text{Prob}[f> 10] &= 3/36\\\\\n",
    "\\text{Prob}[f \\text{ es par }|f<5] &= 4/6\n",
    "\\end{align*}\n",
    "$$\n",
    "\n",
    "Por favor verifique estos resultados."
   ]
  },
  {
   "cell_type": "markdown",
   "metadata": {},
   "source": [
    "## <span style=\"color:#4361EE\">Interpretación de la función de probabilidad</span>"
   ]
  },
  {
   "cell_type": "markdown",
   "metadata": {},
   "source": [
    "Supongamos que el experimento de lanzar se repite muchas veces. Digamos 100 veces. Como la probabilidad de obtener digamos $f=7$ es $6/36$, entonces lo que se espera que ocurra es que en los 100 lanzamientos se obtenga un valor cercano a:\n",
    "\n",
    "$$\n",
    "\\text{Número de veces que se espera que ocurra }\\{f=7\\} = \\tfrac{6}{36}\\times 100 \\approx 17.\n",
    "$$\n",
    "\n",
    "Por supuesto, no necesariamente el resultado será 17. Pero si un número cercano. Por ejemplo no esperamos que no ocurra ninguna vez o que ocurra todas las veces el resultado $\\{f=7\\}$."
   ]
  },
  {
   "cell_type": "markdown",
   "metadata": {},
   "source": [
    "## <span style=\"color:#4361EE\">Ejemplos de variables numéricas discretas</span>"
   ]
  },
  {
   "cell_type": "markdown",
   "metadata": {},
   "source": [
    "### <span style=\"color:#4CC9F0\">Variable de Bernoulli (Distribución de Bernoulli)</span>"
   ]
  },
  {
   "cell_type": "markdown",
   "metadata": {},
   "source": [
    "Una variable aleatoria $f$ es Bernoulli, si solamente toma dos posibles valores, los cuales por convención son $\\{0,1\\}$. Es común llamar al resultado *1* como *éxito* y a *0* como *fallo*. Observe que en este caso se tiene que la función de probabilidad es dada por:\n",
    "\n",
    "$$\n",
    "\\begin{align*}\n",
    "p_f[1] &= \\pi\\\\\n",
    "p_f[0] &= 1-\\pi,\n",
    "\\end{align*}\n",
    "$$\n",
    "\n",
    "en donde $\\pi = \\text{Prob}[f=1]$. En este caso, se puede escribir la función en una forma más compacta como:\n",
    "\n",
    "$$\n",
    "p_f[x] = \\pi^{x}(1-\\pi)^{1-x}, \\quad x=0,1.\n",
    "$$\n",
    "\n",
    "Asegúrese de entender la fórmula anterior.\n",
    "\n",
    "Un ejemplo es el siguiente. En el experimento del lanzamiento dados no cargados, definimos la variable aleatoria $g$ como sigue:\n",
    "\n",
    "$$\n",
    "g = \\begin{cases} &1, \\text{ si  la suma de los dos dados es par} \\\\\n",
    "&0, \\text{ si  la suma de los dos dados es impar}\n",
    "\\end{cases}\n",
    "$$\n",
    "\n",
    "Verifique que en este caso $\\pi =18/36=1/2$."
   ]
  },
  {
   "cell_type": "markdown",
   "metadata": {},
   "source": [
    "### <span style=\"color:#4CC9F0\">Variable Binomial (Distribución Binomial)</span>"
   ]
  },
  {
   "cell_type": "markdown",
   "metadata": {},
   "source": [
    "Consideremos la variable aleatoria $g$ definida arriba. Pero ahora vamos a considerar que hacemos el experimento digamos $N=3$ veces y contamos el número de veces en que $g=1$. Por otro lado vamos a suponer que que hay un sesgo en el experimento (una especie de dados cargados y se verifica que $\\text{Prob}[g=1] = 0.6$. Por lo tanto se tiene que $\\text{Prob}[g=0] = 0.4$.\n",
    "\n",
    "\n",
    "Entonces obtenemos una variable aleatoria que llamaremos $q$ y diremos que $q$ es una variable Binomial. La función de probabilidad de la variable aleatoria $q$ es dada por extensión como sigue. La variable $q$ toma 4 posibles valores, $q = \\{0,1,2,3\\}$\n",
    "\n",
    "Veamos como calcular las probabilidades de los valores de $q$.  La siguiente tabla muestra como calcular tales probabilidades.\n",
    "\n",
    "|Valor |Experimentos| probabilidad cada experimento| probabilidad para este valor de f| total|\n",
    "|---|---|---| ---|---|\n",
    "|0| 000| $0.4\\times 0.4 \\times 0.4$|0.064|0.064|\n",
    "|1| 100| $0.6\\times 0.4 \\times 0.4$|0.096||\n",
    "|1| 010| $0.4 \\times 0.6\\times 0.4$|0.096||\n",
    "|1| 001| $0.4 \\times 0.4\\times 0.6$|0.096|0.288|\n",
    "|2| 110| $0.6\\times 0.6 \\times 0.4$|0.144||\n",
    "|2| 011| $0.4 \\times 0.6\\times 0.6$|0.144||\n",
    "|2| 101| $0.6 \\times 0.4 \\times 0.6$|0.144|0.432|\n",
    "|3| 111| $0.6 \\times 0.6\\times 0.6$|0.216|0.216 |\n",
    "\n",
    "\n",
    "Entonces se tienen que:\n",
    "\n",
    "$$\n",
    "\\begin{align*}\n",
    "p_q[0] & = 0.064 \\\\\n",
    "p_q[1] & = 0.288\\\\\n",
    "p_q[2] & = 0.432\\\\\n",
    "p_q[3] & = 0.216 \n",
    "\\end{align*}\n",
    "$$"
   ]
  },
  {
   "cell_type": "markdown",
   "metadata": {},
   "source": [
    "### <span style=\"color:#4CC9F0\">Ejercicio</span>\n"
   ]
  },
  {
   "cell_type": "markdown",
   "metadata": {},
   "source": [
    "Verifique los cálculos de la tabla anterior y asegúrese de entender completamente."
   ]
  },
  {
   "cell_type": "markdown",
   "metadata": {},
   "source": [
    "\n",
    "El siguiente código muestra como calcular la función de probabilidad de la variable Binomial $q$ y  como obtener un  gráfico de la función."
   ]
  },
  {
   "cell_type": "code",
   "execution_count": 20,
   "metadata": {},
   "outputs": [
    {
     "name": "stdout",
     "output_type": "stream",
     "text": [
      "p_q= [0.064 0.288 0.432 0.216]\n"
     ]
    },
    {
     "data": {
      "image/png": "[encoded data removed]",
      "text/plain": [
       "<Figure size 432x288 with 1 Axes>"
      ]
     },
     "metadata": {
      "needs_background": "light"
     },
     "output_type": "display_data"
    }
   ],
   "source": [
    "import numpy as np\n",
    "from scipy.stats import binom\n",
    "import matplotlib.pyplot as plt\n",
    "\n",
    "N, p  = 3, 0.6\n",
    "p_q = np.zeros(4)\n",
    "\n",
    "for k in range(4):\n",
    "    p_q[k] = binom.pmf(k,N,p)\n",
    "\n",
    "print('p_q=',p_q)\n",
    "label = ['0','1','2','3']\n",
    "plt.plot(label, p_q, \"o\", color = 'orange')\n",
    "plt.vlines(label, 0, p_q, colors='orange', lw=5, alpha=0.5)\n",
    "plt.title('Funcion de probabilidad distribución $Binomial(3,0.6)$')\n",
    "plt.xlabel('Valores de  de la variable aleatoria')\n",
    "plt.ylabel('Probabilidad')\n",
    "plt.show()"
   ]
  },
  {
   "cell_type": "markdown",
   "metadata": {},
   "source": [
    "Note que la función de probabilidad de Bernoulli es un caso especial de la Binomial con $N=1$.\n",
    "\n",
    "Existe una formula general para la función de probabilidad de una variable Binomial. Si se supone que se hacen  $N$ experimentos de Bernoulli realizados de manera independientes con la misma probabilidad de éxito (obtener 1), y se anota el número de unos (*éxitos*) obtenidos, entonces la probabilidad de obtener $k$ exitos es dada por:\n",
    "\n",
    "$$\n",
    "p_{bin}[k] = \\binom{N}{k}\\pi^k(1-\\pi)^{N-k},\n",
    "$$\n",
    "\n",
    "en donde $\\binom{N}{k}$ es el símbolo combinatorio y $\\pi$ es la probabilidad de éxito de cada experimento de Bernoulli.\n",
    "\n"
   ]
  },
  {
   "cell_type": "markdown",
   "metadata": {},
   "source": [
    "**Nota**\n",
    "Recuerde que el combinatorio $\\binom{N}{k}$ es el número de grupos diferentes de tamaño *k* que se pueden formar teniendo *N* elementos. Consulte cualquier libro de probabilidad para los detalles matemáticos.\n"
   ]
  },
  {
   "cell_type": "markdown",
   "metadata": {},
   "source": [
    "### <span style=\"color:#4CC9F0\">Variable Poisson (Distribución de Poisson)</span>"
   ]
  },
  {
   "cell_type": "markdown",
   "metadata": {},
   "source": [
    "Esta distribución es utilizada en problemas de conteo. Por ejemplo el número de bacterias por unidad de área o volumen encontradas en un cultivo microbiológico.\n",
    "\n",
    "Una variable Poisson puede tomar teóricamente valores enteros entre cero e infinito. La función de probabilidad en este caso está dada por:\n",
    "\n",
    "$$\n",
    "p_{poi}[k] = \\frac{e^{\\lambda}\\lambda^k}{k!},\\quad k=0,1, \\ldots\n",
    "$$\n",
    "\n",
    "El valor $\\lambda$ se interpreta como la cantidad promedio de elementos encontrados por unidad de área, volumen, etc. "
   ]
  },
  {
   "cell_type": "markdown",
   "metadata": {},
   "source": [
    "### <span style=\"color:#4CC9F0\">Ejercicio</span>"
   ]
  },
  {
   "cell_type": "markdown",
   "metadata": {},
   "source": [
    "1. Revise en cualquier libro de probabilidad y estadística ejemplos de aplicación de la distribución de Poisson. \n",
    "2. Investigue como calcular probabilidades de la distribución de Poisson con *scipy* de Python. Suponga que para algún caso $\\lambda = 5.3$. Calcule las probabilidades para $ k=0,1,\\ldots, 20$. Haga un gráfico de la función de probabilidad con esos datos (obviamente es una aproximación de la función completa).\n",
    "3. Haga sus comentarios."
   ]
  },
  {
   "cell_type": "code",
   "execution_count": 9,
   "metadata": {},
   "outputs": [],
   "source": [
    "#Escriba su solución aquí"
   ]
  },
  {
   "cell_type": "markdown",
   "metadata": {},
   "source": [
    "## <span style=\"color:#4361EE\">Variable categóricas</span>"
   ]
  },
  {
   "cell_type": "markdown",
   "metadata": {},
   "source": [
    "En esta sección vamos a suponer que la variable aleatoria no asigna valores numéricos a los elementos del espacio muestral. En lugar de eso, asigna etiquetas. Usualmente se dice que en este caso la variable es en realidad un objeto aleatorio. No haremos esa distinción en este desarrollo, pero sí seremos cuidadosos en tener en cuenta que la variable no es numérica.\n",
    "\n",
    "Por facilidad usaremos de nuevo el ejemplo de los dados no cargados. Definimos la siguiente variable aleatoria que llamaremos  $X$. Para este ejercicio vamos a distinguir el color de los dados. Entonces en la pareja $(x,y)$, $x$ corresponde al valor del dado rojo. Adicionalmente $y$ representa el valor del dado azul. Entonces:\n",
    "\n",
    "$$\n",
    "X((x,y)) = \\begin{cases} &R, \\text{ si } x>y\\\\\n",
    "&A, \\text{ si } x<y\\\\\n",
    "&B, \\text{ si } x=y\\\\\n",
    "\\end{cases}\n",
    "$$\n",
    "\n",
    "Observe que en realidad el color del dado es indiferente para la definición de la variable aleatoria.\n",
    "\n",
    "Entonces, la función de probabilidad en este caso es dada por:\n",
    "\n",
    "$$\n",
    "\\begin{align*}\n",
    "p_X[R] &= \\tfrac{15}{36}\\\\\n",
    "p_X[A] &= \\tfrac{15}{36}\\\\\n",
    "p_X[B] &= \\tfrac{6}{36}\\\\\n",
    "\\end{align*}\n",
    "$$\n",
    "\n",
    "Aún podemos hacer un gráfico de la función de probabilidad $p_X$ como sigue."
   ]
  },
  {
   "cell_type": "code",
   "execution_count": 18,
   "metadata": {},
   "outputs": [
    {
     "data": {
      "image/png": "[encoded data removed]",
      "text/plain": [
       "<Figure size 432x288 with 1 Axes>"
      ]
     },
     "metadata": {
      "needs_background": "light"
     },
     "output_type": "display_data"
    }
   ],
   "source": [
    "import numpy as np\n",
    "import matplotlib.pyplot as plt\n",
    "\n",
    "p_X = np.array([15/36,15/36, 6/36])\n",
    "label = ['R','A','B']\n",
    "\n",
    "plt.plot(label, p_X, \"ro\")\n",
    "plt.vlines(label, 0, p_X, colors='r', lw=5, alpha=0.5)\n",
    "plt.title('Funcion de probabilidad  $p_X$')\n",
    "plt.xlabel('Etiquetas de  $p_X$')\n",
    "plt.ylabel('Probabilidad')\n",
    "plt.show()"
   ]
  },
  {
   "cell_type": "markdown",
   "metadata": {},
   "source": [
    "Obviamente en este caso no hay cantidades numéricas, por lo que el gráfico puede obtenerse de distintas formas, cambiando el orden de la etiquetas.  Sin embargo, aún podemos hacer algunos cálculos de probabilidad.\n",
    "\n",
    "Por ejemplo, la probabilidad de obtener *R* o *A* es dada por $30/36$.\n"
   ]
  },
  {
   "cell_type": "markdown",
   "metadata": {},
   "source": [
    "## <span style=\"color:#4361EE\">Esperanza Matemática de una variable aleatoria discreta</span>"
   ]
  },
  {
   "cell_type": "markdown",
   "metadata": {},
   "source": [
    "La esperanza matemática de una variable aleatoria discreta es el promedio ponderado de todos sus posibles valores. La ponderación como se puede sospechar es dada por la función de probabilidad de la variable.\n",
    "\n",
    "La definición se basa en el hecho que la función de probabilidad de la variable aleatoria representa la frecuencia relativa teórica de cada resultado particular.\n",
    "\n",
    "Se tiene  que si $X=\\{x_1,x_2,\\ldots \\}$ es el conjunto de valores de la variable aleatoria $X$ y si la función de probabilidad de $X$ es dada por $p_X =\\{p_1, p_2,\\ldots \\}$, en donde $p_X[x_i] = p_i$, entonces la esperanza matemática de $X$ se denota por $\\mathbb{E}[X]$ y es dada por:\n",
    "\n",
    "$$\n",
    "\\mathbb{E}[X] = x_1 p_1 + x_2 p_2 + \\ldots = \\sum_{i} x_i p_i\n",
    "$$"
   ]
  },
  {
   "cell_type": "markdown",
   "metadata": {},
   "source": [
    "### <span style=\"color:#4CC9F0\">Ejemplo</span>"
   ]
  },
  {
   "cell_type": "markdown",
   "metadata": {},
   "source": [
    "En el ejemplo de los dados se tiene que:\n",
    "\n",
    "$$\n",
    "\\begin{align*}\n",
    "p_f[2] & = 1/36\\\\\n",
    "p_f[3] & = 2/36\\\\\n",
    "p_f[4] & = 3/36\\\\\n",
    "p_f[5] & = 4/36\\\\\n",
    "p_f[6] & = 5/36\\\\\n",
    "p_f[7] & = 6/36\\\\\n",
    "p_f[8] & = 5/36\\\\\n",
    "p_f[9] & = 4/36\\\\\n",
    "p_f[10] & = 3/36\\\\\n",
    "p_f[11] & = 2/36\\\\\n",
    "p_f[12] & = 1/36\n",
    "\\end{align*}\n",
    "$$\n",
    "\n",
    "Por lo tanto, \n",
    "\n",
    "$$\n",
    "\\begin{aligned}\n",
    "\\mathbb{E}[f] &= (2)(1/36) + (3)(2/36) + (4)(3/36) + (5)(4/36) + (6)(5/36) + (7)(6/36) + (8)(5/36) + (9)(4/36) + (10)(3/36) + (11)(2/36) + (12)(1/36) \\\\\n",
    "&= 7\n",
    "\\end{aligned}\n",
    "$$"
   ]
  },
  {
   "cell_type": "code",
   "execution_count": 11,
   "metadata": {},
   "outputs": [
    {
     "name": "stdout",
     "output_type": "stream",
     "text": [
      "7.000000000000001\n"
     ]
    }
   ],
   "source": [
    "E = 2*1/36 + 3*2/36 + 4*3/36 + 5*4/36 + 6*5/36 + 7*6/36 + 8*5/36 + 9*4/36 + 10*3/36 + 11*2/36 + 12*1/36\n",
    "print(E)"
   ]
  },
  {
   "cell_type": "markdown",
   "metadata": {},
   "source": [
    "### <span style=\"color:#4CC9F0\">Esperanza de la distribución Binomial</span>"
   ]
  },
  {
   "cell_type": "markdown",
   "metadata": {},
   "source": [
    "En el caso del ejemplo Binomial de la moneda cargada que se lanza tres veces tenemos que\n",
    "\n",
    "$$\n",
    "\\mathbb{E}[f] = (0)(0.064)  + (1)(0.288) + (2)(0.432) + (3)(0.216) = 1.8.\n",
    "$$\n",
    "\n",
    "\n",
    "\n",
    "Se puede verificar que si una variable aleatoria $X$ tiene distribución (función de probabilidad) Binomial, $\\text{Bin}(N,p)$, entonces:\n",
    "\n",
    "$$\n",
    "\\mathbb{E}[X] = Np.\n",
    "$$\n",
    "\n",
    "Puede consultar cualquier texto de probabilidad para verificar el resultado. El siguiente código muestra como calcular la esperanza para el caso $\\text{Bin}(3,0.6)$, con Python."
   ]
  },
  {
   "cell_type": "code",
   "execution_count": 12,
   "metadata": {},
   "outputs": [
    {
     "data": {
      "text/plain": [
       "1.7999999999999998"
      ]
     },
     "execution_count": 12,
     "metadata": {},
     "output_type": "execute_result"
    }
   ],
   "source": [
    "from scipy.stats import binom\n",
    "binom.expect(args=(3,0.6))"
   ]
  },
  {
   "cell_type": "markdown",
   "metadata": {},
   "source": [
    "### <span style=\"color:#4CC9F0\">Ejercicio</span>"
   ]
  },
  {
   "cell_type": "markdown",
   "metadata": {},
   "source": [
    "Dé una interpretación al resultado anterior. Observe que 1.8 no corresponde a un valor que pueda tomar la variable aleatoria."
   ]
  },
  {
   "cell_type": "markdown",
   "metadata": {},
   "source": [
    "### <span style=\"color:#4CC9F0\">Esperanza de la distribución Poisson</span>"
   ]
  },
  {
   "cell_type": "markdown",
   "metadata": {},
   "source": [
    "Una variable aleatoria con distribución $\\text{Pois}(\\lambda)$ tiene esperanza matemática $\\lambda$. "
   ]
  },
  {
   "cell_type": "markdown",
   "metadata": {},
   "source": [
    "### <span style=\"color:#4CC9F0\">Ejercicio</span>"
   ]
  },
  {
   "cell_type": "markdown",
   "metadata": {},
   "source": [
    "Verifique la afirmación anterior."
   ]
  },
  {
   "cell_type": "markdown",
   "metadata": {},
   "source": [
    "## <span style=\"color:#4361EE\">Varianza y desviación estándar de una variable aleatoria</span>"
   ]
  },
  {
   "cell_type": "markdown",
   "metadata": {},
   "source": [
    "### <span style=\"color:#4CC9F0\">Varianza</span>"
   ]
  },
  {
   "cell_type": "markdown",
   "metadata": {},
   "source": [
    "La varianza de una variable aleatoria mide su nivel de predictibilidad. Dicho en otras palabras, que tan dispersos son los valores de la variable aleatoria en relación con la esperanza matemática. Denotemos la esperanza de $X$ por $\\mu_X$.\n",
    "Técnicamente la varianza de una variable aleatoria se define por:\n",
    "\n",
    "$$\n",
    "Var[X] = \\mathbb{E}\\left[\\left(X-\\mu_X\\right)^2\\right] = \\sum_{i}p_i (x_i- \\mu_X)^2. \n",
    "$$"
   ]
  },
  {
   "cell_type": "markdown",
   "metadata": {},
   "source": [
    "### <span style=\"color:#4CC9F0\">Desviación estándar</span>"
   ]
  },
  {
   "cell_type": "markdown",
   "metadata": {},
   "source": [
    "La desviación estándar de una variable aleatoria se denota $\\sigma_X$ y es simplemente la raíz cuadrada de la varianza, es decir:\n",
    "\n",
    "$$\n",
    "\\sigma_X = \\sqrt{Var[X]}.\n",
    "$$"
   ]
  },
  {
   "cell_type": "markdown",
   "metadata": {},
   "source": [
    "Para entender el porque la varianza mide el nivel de predictibilidad de una variable aleatoria consideremos una variable Bernoulli $X$. Escribimos  $X \\sim \\text{Ber}(\\pi)$. En este caso puede verificarse que la varianza está dada por:\n",
    "\n",
    "$$\n",
    "Var(X) = \\pi(1-\\pi).\n",
    "$$\n",
    "\n",
    "El siguiente gráfico muestra la varianza de las distribuciones  Bernoulli con valores distintos del parámetro $\\pi$."
   ]
  },
  {
   "cell_type": "code",
   "execution_count": 13,
   "metadata": {},
   "outputs": [
    {
     "data": {
      "image/png": "[encoded data removed]",
      "text/plain": [
       "<Figure size 432x288 with 1 Axes>"
      ]
     },
     "metadata": {
      "needs_background": "light"
     },
     "output_type": "display_data"
    }
   ],
   "source": [
    "import numpy as np\n",
    "import matplotlib.pyplot as plt\n",
    "\n",
    "pi = np.linspace(0,1,100)\n",
    "var = pi*(1-pi)\n",
    "plt.plot(pi,var)\n",
    "plt.title('Funcion de varianza de distribciones Bernoulli')\n",
    "plt.xlabel( '$\\pi$')\n",
    "plt.ylabel('Var')\n",
    "plt.show()"
   ]
  },
  {
   "cell_type": "markdown",
   "metadata": {},
   "source": [
    "Se observa entonces que la máxima varianza se alcanza para el caso $\\pi=0.5$. Es porque en este caso, es más difícil predecir el resultado del experimento, dado que la probabilidad de *acierto* y de *fallo* son la misma. Pero a medida que el valor $\\pi$ está cerca de cero o uno, la varianza desciende hasta cero. Por ejemplo si $\\pi = 0.9$, casi siempre se obtendrá *éxito*. Esto significa que la variable es más predictible para valores muy altos o muy bajos de $\\pi$. **A menor varianza mayor precisión para predecir el resultado del experimento y viceversa**."
   ]
  },
  {
   "cell_type": "markdown",
   "metadata": {},
   "source": [
    "## <span style=\"color:#4361EE\">Entropía de una variable aleatoria</span>"
   ]
  },
  {
   "cell_type": "markdown",
   "metadata": {},
   "source": [
    "Similar a la varianza, la entropía de una variable aleatoria mide su grado de predictibilidad desde el punto de vista de la teoría de información de Shannon. Dada una variable aleatoria discreta $X=\\{x_1,x_2,\\ldots \\}$ con función de probabilidad $p_X =\\{p_1, p_2,\\ldots \\}$, la entropía de $X$ se define por:\n",
    "\n",
    "$$\n",
    "H(X) = -\\sum_i p_i\\log p_i = -\\mathbb{E}[\\log P_X]\n",
    "$$\n",
    "\n",
    "Es usual utilizar la base 2 o la base de los logaritmos Neperianos. En el primer caso, la unidad de medida de la entropía se denomina bit.  En el caso de los logaritmos Neperianos, la unidad de medida se acostumbra a llamar *nat*. En realidad pasar de una base a otra es simplemente un cambio de escala. Estructuralmente miden lo mismo en distintas unidades.\n",
    "\n",
    "Como en el caso de la varianza ilustramos el concepto para la distribución Bernoulli."
   ]
  },
  {
   "cell_type": "code",
   "execution_count": 14,
   "metadata": {},
   "outputs": [
    {
     "data": {
      "image/png": "[encoded data removed]",
      "text/plain": [
       "<Figure size 432x288 with 1 Axes>"
      ]
     },
     "metadata": {
      "needs_background": "light"
     },
     "output_type": "display_data"
    }
   ],
   "source": [
    "import numpy as np\n",
    "import matplotlib.pyplot as plt\n",
    "\n",
    "pi = np.linspace(0.0000001,0.999999,100)\n",
    "H = -(pi*np.log(pi) + (1-pi)*np.log(1-pi))\n",
    "plt.plot(pi,H)\n",
    "plt.title('Entropía de distribuciones Bernoulli')\n",
    "plt.xlabel( '$\\pi$')\n",
    "plt.ylabel('Entropía')\n",
    "plt.show()"
   ]
  },
  {
   "cell_type": "markdown",
   "metadata": {},
   "source": [
    "Como se observa la entropía mide de la misma forma que la varianza pero en una escala diferente. Por otro lado observe que en el cálculo de la entropía no se utilizan los valores que toma la variable aleatoria. Solamente se requiere la función de probabilidad de la variable. \n",
    "\n",
    "En otras palabras se dice que **la entropía no depende de la escala de la  variable**. Solamente de su estructura de probabilidad. Por su parte la varianza sí es dependiente de la escala de la variable aleatoria."
   ]
  },
  {
   "cell_type": "markdown",
   "metadata": {},
   "source": [
    "<figure>\n",
    "<img src=\"../Imagenes/logo-final-ap.png\"  width=\"80\" height=\"80\" align=\"right\"/> \n",
    "</figure>"
   ]
  }
 ],
 "metadata": {
  "kernelspec": {
   "display_name": "Python 3 (ipykernel)",
   "language": "python",
   "name": "python3"
  },
  "language_info": {
   "codemirror_mode": {
    "name": "ipython",
    "version": 3
   },
   "file_extension": ".py",
   "mimetype": "text/x-python",
   "name": "python",
   "nbconvert_exporter": "python",
   "pygments_lexer": "ipython3",
   "version": "3.10.6"
  },
  "toc-autonumbering": false
 },
 "nbformat": 4,
 "nbformat_minor": 4
}
