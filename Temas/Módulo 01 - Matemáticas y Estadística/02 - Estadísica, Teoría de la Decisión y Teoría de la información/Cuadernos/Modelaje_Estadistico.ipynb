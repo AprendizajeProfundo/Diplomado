{
 "cells": [
  {
   "cell_type": "markdown",
   "id": "6df6d314-21c7-42fe-b9d1-1fa1e61948a5",
   "metadata": {},
   "source": [
    "<figure>\n",
    "<img src=\"../Imagenes/logo-final-ap.png\"  width=\"80\" height=\"80\" align=\"left\"/> \n",
    "</figure>\n",
    "\n",
    "# <span style=\"color:blue\"><left>Aprendizaje Profundo</left></span>"
   ]
  },
  {
   "cell_type": "markdown",
   "id": "3e57f3e1-d4f2-4329-8359-0a0370026c28",
   "metadata": {},
   "source": [
    "# <span style=\"color:red\"><center>Modelaje Estadístico</center></span>"
   ]
  },
  {
   "cell_type": "markdown",
   "id": "5462e41e-fbb8-480f-80b4-17e5d8ee0c3b",
   "metadata": {},
   "source": [
    "<figure>\n",
    "<center>\n",
    "<img src=\"../Imagenes/loglikelihood.png\" width=\"800\" height=\"800\" align=\"center\"/>\n",
    "</center>\n",
    "<figcaption>\n",
    "<p style=\"text-align:center\">Joint Log Likelihood per N, for Beta distribution Maxima at alpha=beta=2 </p>\n",
    "</figcaption>\n",
    "</figure>\n",
    "\n",
    "Fuente:<a href=\"https://commons.wikimedia.org/wiki/File:Max_(Joint_Log_Likelihood_per_N)_for_Beta_distribution_Maxima_at_alpha%3Dbeta%3D2_-_J._Rodal.png\">Dr. J. Rodal</a>, <a href=\"https://creativecommons.org/licenses/by-sa/3.0\">CC BY-SA 3.0</a>, via Wikimedia Commons"
   ]
  },
  {
   "cell_type": "markdown",
   "id": "ab6bb05b-0af6-4a57-a00b-fbd8eefc3a56",
   "metadata": {},
   "source": [
    "## <span style=\"color:#4361EE\">Profesores</span>"
   ]
  },
  {
   "cell_type": "markdown",
   "id": "423b51e8-5c00-4f85-a710-47a97a2d1d1a",
   "metadata": {},
   "source": [
    "1. Alvaro  Montenegro, PhD, ammontenegrod@unal.edu.co\n",
    "1. Camilo José Torres Jiménez, Msc, cjtorresj@unal.edu.co\n",
    "1. Daniel  Montenegro, Msc, dextronomo@gmail.com "
   ]
  },
  {
   "cell_type": "markdown",
   "id": "a23c1084-c935-4e58-9d5c-e499f97d5559",
   "metadata": {},
   "source": [
    "## <span style=\"color:#4361EE\">Asesora Medios y Marketing digital</span>"
   ]
  },
  {
   "cell_type": "markdown",
   "id": "722b8e5d-defd-4b10-af11-697a779557f7",
   "metadata": {},
   "source": [
    "4. Maria del Pilar Montenegro, pmontenegro88@gmail.com\n",
    "5. Jessica López Mejía, jelopezme@unal.edu.co"
   ]
  },
  {
   "cell_type": "markdown",
   "id": "241f8927-11cd-4140-bbcb-e184bc0fe931",
   "metadata": {},
   "source": [
    "## <span style=\"color:#4361EE\">Jefe Jurídica</span>"
   ]
  },
  {
   "cell_type": "markdown",
   "id": "d45af8d4-7d9c-45a9-b263-0ce2451031ac",
   "metadata": {},
   "source": [
    "6. Paula Andrea Guzmán, guzmancruz.paula@gmail.com"
   ]
  },
  {
   "cell_type": "markdown",
   "id": "3e662739-8c32-4580-b930-1732ec4ad338",
   "metadata": {},
   "source": [
    "## <span style=\"color:#4361EE\">Coordinador Jurídico</span>"
   ]
  },
  {
   "cell_type": "markdown",
   "id": "ff23b9d3-95c8-4afa-93a1-e3ec08911e8d",
   "metadata": {},
   "source": [
    "7. David Fuentes, fuentesd065@gmail.com"
   ]
  },
  {
   "cell_type": "markdown",
   "id": "f777903f-4693-4ee3-98fe-780dd3a0509c",
   "metadata": {},
   "source": [
    "## <span style=\"color:#4361EE\">Desarrolladores Principales</span>"
   ]
  },
  {
   "cell_type": "markdown",
   "id": "01f09d44-ffad-4c4a-93e0-5012667dea6f",
   "metadata": {},
   "source": [
    "8. Dairo Moreno, damoralesj@unal.edu.co\n",
    "9. Joan Castro, jocastroc@unal.edu.co\n",
    "10. Bryan Riveros, briveros@unal.edu.co\n",
    "11. Rosmer Vargas, rovargasc@unal.edu.co\n",
    "12. Venus Puertas, vpuertasg@unal.edu.co"
   ]
  },
  {
   "cell_type": "markdown",
   "id": "68b3a752-9c43-4d30-8897-97f6a2ee8e06",
   "metadata": {},
   "source": [
    "## <span style=\"color:#4361EE\">Expertos en Bases de Datos</span>"
   ]
  },
  {
   "cell_type": "markdown",
   "id": "e0a0fd29-5ad2-474d-82d4-d7186ab35171",
   "metadata": {
    "tags": []
   },
   "source": [
    "13. Giovvani Barrera, udgiovanni@gmail.com\n",
    "14. Camilo Chitivo, cchitivo@unal.edu.co"
   ]
  },
  {
   "cell_type": "markdown",
   "id": "42d4e4e4-4965-415e-872d-8b648c5ff8f2",
   "metadata": {},
   "source": [
    "## <span style=\"color:blue\">Contenido</span>"
   ]
  },
  {
   "cell_type": "markdown",
   "id": "480caa43-4a09-43c6-89fa-99cbfc94c66c",
   "metadata": {},
   "source": [
    "* [Introducción](#Introducción)\n",
    "* [Etiquetado de los dato](#Etiquetado-de-los-datos)\n",
    "* [Modelo de probabilidad](#Modelo-de-probabilidad)\n",
    "* [Log verosimilitud y función de pérdida](#Log-verosimilitud-y-función-de-pérdida)\n",
    "* [Entrenamiento del modelo (la red neuronal](#Entrenamiento-del-modelo-(la-red-neuronal)\n"
   ]
  },
  {
   "cell_type": "markdown",
   "id": "14bfef09-91fb-4030-9f82-7e4be9ea15c1",
   "metadata": {},
   "source": [
    "## <span style=\"color:blue\">Introducción</span>"
   ]
  },
  {
   "cell_type": "markdown",
   "id": "9f140436-7680-4754-85cd-a7de2024f9f9",
   "metadata": {},
   "source": [
    "El concepto de log-verosimilitud es una medida utilizada en estadística para evaluar cuánto se ajustan los datos observados a un modelo estadístico específico. La verosimilitud es una función que mide la probabilidad de observar los datos dados los parámetros de un modelo, y la log-verosimilitud es simplemente el logaritmo de esta función.\n",
    "\n",
    "En otras palabras, la log-verosimilitud es una medida de la calidad de ajuste de un modelo a los datos observados, y se utiliza para comparar diferentes modelos y seleccionar el mejor. La log-verosimilitud se utiliza a menudo en técnicas estadísticas como la regresión y el análisis de varianza.\n",
    "\n",
    "La log-verosimilitud se define como la suma de los logaritmos de las densidades de probabilidad de los datos observados, dadas las estimaciones de los parámetros del modelo. En otras palabras, si tenemos un conjunto de datos y un modelo estadístico que describe cómo se generaron esos datos, la log-verosimilitud es la suma de los logaritmos de las probabilidades de obtener cada punto de datos dado el modelo y los parámetros elegidos.\n",
    "\n",
    "La maximización de la log-verosimilitud es un enfoque común para estimar los parámetros de un modelo estadístico. Esto se hace encontrando los valores de los parámetros que maximizan la función de verosimilitud o, lo que es equivalente, la log-verosimilitud. En otras palabras, encontramos los valores de los parámetros que hacen que los datos observados sean más probables bajo el modelo.\n",
    "\n",
    "En resumen, la log-verosimilitud es una medida importante en estadística que se utiliza para evaluar la calidad del ajuste de un modelo a los datos observados. La maximización de la log-verosimilitud se utiliza a menudo como un método para estimar los parámetros de un modelo, y se utiliza en una variedad de aplicaciones en ciencias sociales, biología, física, economía y muchas otras áreas."
   ]
  },
  {
   "cell_type": "code",
   "execution_count": null,
   "id": "538ef0c3-ad14-484c-ab69-10faeff61cc8",
   "metadata": {},
   "outputs": [],
   "source": [
    "# !conda install -c conda-forge tensorflow\n",
    "# !conda install -c conda-forge matplotlib\n",
    "# !conda install -c anaconda numpy"
   ]
  },
  {
   "cell_type": "markdown",
   "id": "879bdc59-d7cd-4368-ad04-5f342ecb999a",
   "metadata": {
    "tags": []
   },
   "source": [
    "### <span style=\"color:#4CC9F0\">Generamos un conjunto de datos</span>"
   ]
  },
  {
   "cell_type": "markdown",
   "id": "90d144ee-ddc7-4ffb-a6ba-b900b0093ee0",
   "metadata": {},
   "source": [
    "En este momento vamos a generar un conjunto de datos que consiste en dos clases de puntos, etiquetados respectivamente como 0 y 1. El propósito es entrenar un clasificador que pueda clasificar puntos no vistos antes por el modelos en cada una de las clases. \n",
    "\n",
    "Generamos la muestra de datos  a partir de la distribución normal estándar. En seguida separamos en dos clase, desplazando la mitad de los datos. El desplazamiento es de tamaño 2.5. \n",
    "\n",
    "El siguiente código, genera 500 datos "
   ]
  },
  {
   "cell_type": "code",
   "execution_count": 70,
   "id": "b6a7bfe0-b55a-4f61-8c17-1e124aa76614",
   "metadata": {},
   "outputs": [
    {
     "data": {
      "image/png": "[encoded data removed]",
      "text/plain": [
       "<Figure size 640x480 with 1 Axes>"
      ]
     },
     "metadata": {},
     "output_type": "display_data"
    }
   ],
   "source": [
    "import matplotlib.pyplot as plt\n",
    "import numpy as np\n",
    "\n",
    "# Número de datos\n",
    "N = 500\n",
    "\n",
    "# Generar un conjunto de datos de muestra\n",
    "np.random.seed(0)\n",
    "x = np.random.randn(N, 2)\n",
    "y = np.random.randint(0, 2, (N, 1))\n",
    "\n",
    "# Separar los puntos de datos en dos grupos basados en su clase\n",
    "class_0 = x[y.ravel() == 0]\n",
    "class_1 = x[y.ravel() == 1]\n",
    "class_1 += 2.5\n",
    "\n",
    "# Recodifica la matriz de datos\n",
    "x[y.ravel() == 1] += 2.5\n",
    "\n",
    "# Graficar los puntos de datos\n",
    "plt.scatter(class_0[:, 0], class_0[:, 1], marker='o', color='orange', label='Class 0')\n",
    "plt.scatter(class_1[:, 0], class_1[:, 1], marker='x', color='blue', label='Class 1')\n",
    "plt.legend(loc='upper left')\n",
    "plt.xlabel('x1')\n",
    "plt.ylabel('x2')\n",
    "plt.show()\n",
    "\n",
    "\n"
   ]
  },
  {
   "cell_type": "code",
   "execution_count": 12,
   "id": "d2a51222-db1f-40cc-91d7-2576c0d5787b",
   "metadata": {},
   "outputs": [
    {
     "name": "stdout",
     "output_type": "stream",
     "text": [
      "[x                  y]\n",
      "x=[1.76405235 0.40015721], y =[0]\n"
     ]
    }
   ],
   "source": [
    "#Una muestra de los datos es la siguiente\n",
    "\n",
    "print('[x                  y]')\n",
    "for (x,y) in zip(x,y):\n",
    "    #print(np.round(x,2),y)\n",
    "    print(\"x={}, y ={}\".format(x,y))\n",
    "    break"
   ]
  },
  {
   "cell_type": "markdown",
   "id": "1003eb86-a1f3-41ea-8541-2c410d97499d",
   "metadata": {},
   "source": [
    "## <span style=\"color:blue\">Etiquetado de los datos</span> "
   ]
  },
  {
   "cell_type": "markdown",
   "id": "2a74918d-e40d-4cc0-9b2f-310361f28f50",
   "metadata": {},
   "source": [
    "Lo que postulamos como modelo separador de estas dos clases es una recta dada por \n",
    "\n",
    "$$\n",
    "w x_1+  x_2 + b = 0\n",
    "$$\n",
    "\n",
    "Como es sabido esta recta divide el plano exactamente en tres regiones. Si por ejemplo la recta tuviera la forma  $2x+y-1=0$, se tendrían:\n",
    "\n",
    "+ El conjunto de datos que están en la recta y satisfacen la ecuación. Por ejemplo el punto (0,1) está en la recta.\n",
    "+ El conjunto de de datos que están por encima de la recta. En este caso se tiene que $2x+y-1>0$. Por ejemplo el punto (1,1) esta sobre la recta.\n",
    "+ El conjunto de de datos que están por debajo de la recta. En este caso se tiene que $2x+y-1<0$. Por ejemplo el punto (0,0) está por debajo de  la recta.\n",
    "\n",
    "Los datos anteriores han etiquetados con 0 y 1 respectivamente, por anotador. En este caso los autores de esta lección hemos hecho la anotación de forma conveniente. Esta tarea de anotación o etiquetado ha sido una tarea bastante usual a lo largo de la historia de al inteligencia artificial moderna.\n",
    "En el ejemplo, la observación (1.76405235 0.40015721) fue etiquetada como 0."
   ]
  },
  {
   "cell_type": "markdown",
   "id": "5c821bf0-8264-4698-bc0d-c0ef1ca02533",
   "metadata": {},
   "source": [
    "## <span style=\"color:blue\">Modelo de probabilidad </span> "
   ]
  },
  {
   "cell_type": "markdown",
   "id": "33453b87-3a21-4cdb-99cf-d2ec90f40669",
   "metadata": {},
   "source": [
    "Lo que sabemos con precisión es que los datos son clasificados en dos categorías por lo que para el experimento podemos esperar que al selección cualquier pareja de números reales, esta pertenezca a una de esas dos clases, pero no sabemos a cual. Entonces estamos frente a un experimento de Bernoulli. Recordemos que si digamos $\\pi$ es la probabilidad de que el punto sea de la clase 1, el modelo de probabilidad correspondiente esta dado por\n",
    "\n",
    "$$\n",
    "P(Y=y) = \\pi^y(1-\\pi)^{1-y}, \\text{ con } y \\in \\{0,1\\}.\n",
    "$$\n",
    "\n",
    "Observe que la etiqueta es $y$. y la variable aleatoria $Y$ toma valores 0, 1, únicamente. La pregunta es ¿Cómo asociamos las etiquetas a las coordenadas de los puntos?\n",
    "\n",
    "Esta es la pregunta central en nuestro proceso de modelación. Para contestarlo, puede imaginar que los valores que toma la variable aleatoria $Y$ están regidos por la probabilidad $\\pi$. Entonces, lo que vamos a intentar es asociar la probabilidad con las coordenadas de los puntos.\n",
    "\n",
    "Construimos entonces una función predictora, de tal manera que dadas las coordenadas de un punto, las transforme en una probabilidad. ¿Cómo hacemos esto?"
   ]
  },
  {
   "cell_type": "markdown",
   "id": "7c04d4f2-60b0-41ab-b6fc-1a97e1dd212b",
   "metadata": {},
   "source": [
    "## <span style=\"color:blue\">Función predictora</span> "
   ]
  },
  {
   "cell_type": "markdown",
   "id": "23787fb3-717d-42fd-825a-cc4ed0cd663d",
   "metadata": {},
   "source": [
    "Para este ejemplo usaremos un modelo logístico como función de predicción. En el problema tenemos dos clases: clase 0 y clase 1. Tenemos dos variables predictoras $x_1$ y $x_2$ respectivamente y que corresponden a las coordenadas de los puntos. El vector predictor se denota $\\mathbf{x}=(x_1,x_2)$.\n",
    "\n",
    "La función predictora que introducimos es la `función de distribución  logística`, la cual llamaremos `sigmoide` en lo sucesivo. Este nombre deriva del hecho que la función tiene la forma de una letra s estirada. Como toda función de distribución, la logística tiene dominio en todos los número reales y como salida los números en el intervalo (0,1). Elegimos esta función de predicción porque la salida puede ser interpretada como una probabilidad. La función predictora general para este caso es dada entonces por\n",
    "\n",
    "\n",
    "$$\n",
    "\\hat{y} = P[Y=1|\\mathbf{x}, \\mathbf{w}, b ]= g_{(\\mathbf{w},b)}(\\mathbf{x}) = \\frac{1}{1 + \\exp \\{-(w_1x_1 + w_2x_2+b)\\}},\n",
    "$$\n",
    "\n",
    "en donde el vector de parámetros  de nuestro modelo será $(\\mathbf{w},b)$. Observe que $\\hat{y}$ es un número real en el intervalo (0,1) que interpretamos como la probabilidad de que la muestra $\\mathbf{x}$ provenga de la clase 1. Para usos prácticos la decisión se toma 'cuidadosamente', así:\n",
    "\n",
    "1. Si $\\hat{y}<0.5$ la muestra $\\mathbf{x}$ proviene de la clase 0."
   ]
  },
  {
   "cell_type": "markdown",
   "id": "9ad402a3-ed23-4c48-a4a5-d55988215ea6",
   "metadata": {},
   "source": [
    "### <span style=\"color:#4CC9F0\">El sigmoide</span>"
   ]
  },
  {
   "cell_type": "markdown",
   "id": "99111a0f-d0f0-4652-b96f-5b8728e3758c",
   "metadata": {},
   "source": [
    "El siguiente código dibuja la distribución logística estándar o sigmoide. Esta es una función muy importante en el área de la inteligencia artificial. En es ámbito es conocida como una función de activación. Aquí nos interesa porque convierte cualquier número real a un número en el intervalo (0,1), el cual puede ser interpretado como una probabilidad."
   ]
  },
  {
   "cell_type": "code",
   "execution_count": 83,
   "id": "5252bb11-16d3-4322-b1e7-543b4580e369",
   "metadata": {},
   "outputs": [
    {
     "data": {
      "image/png": "[encoded data removed]",
      "text/plain": [
       "<Figure size 640x480 with 1 Axes>"
      ]
     },
     "metadata": {},
     "output_type": "display_data"
    }
   ],
   "source": [
    "import matplotlib.pyplot as plt\n",
    "import numpy as np\n",
    "from scipy.special import expit\n",
    "\n",
    "# Crear un conjunto de datos x\n",
    "x = np.linspace(-10, 10, 1000)\n",
    "\n",
    "# Calcular los valores de y utilizando la función sigmoide\n",
    "y = expit(x)\n",
    "\n",
    "# Graficar los datos utilizando la función plot de matplotlib\n",
    "plt.plot(x, y, label='Función sigmoide')\n",
    "\n",
    "# Añadir título y etiquetas de los ejes\n",
    "plt.title('Distribución logística (Sigmoide)')\n",
    "plt.xlabel('x')\n",
    "plt.ylabel('y')\n",
    "\n",
    "# Mostrar la leyenda y el gráfico\n",
    "plt.legend()\n",
    "plt.show()\n"
   ]
  },
  {
   "cell_type": "markdown",
   "id": "7ee0c77f-ec6a-485d-8253-c77f913a57cf",
   "metadata": {},
   "source": [
    "### <span style=\"color:#4CC9F0\">Ejemplo de uso de la función predictora</span>"
   ]
  },
  {
   "cell_type": "markdown",
   "id": "b880671b-e12e-486b-9e19-630728465ee0",
   "metadata": {},
   "source": [
    "El propósito del entrenamiento de nuestro modelo será determinar los mejores valores para $\\mathbf{w}$ y $b$. Pero antes de hacerlo vamos suponer que ya lo hemos hechos y que tenemos que $\\mathbf{w}=(2,1), b -1$, como hicimos antes. Veamos que predice nuestra función para los datos que probamos antes.\n",
    "\n",
    "+ $g_{\\mathbf{w},b)}(1,1) = 0.119$. Punto en la clase 0.\n",
    "+ $g_{(\\mathbf{w},b)}(0,0) = 0.731$. Punto en la clase 1.\n",
    "+ $g_{(\\mathbf{w},b)}(0,1) = 0.000$. Punto en  la línea recta. \n",
    "\n",
    "El siguiente código Python muestra una forma de hacer el cálculo."
   ]
  },
  {
   "cell_type": "code",
   "execution_count": 84,
   "id": "5656b196-4c3e-427e-8d99-dde2d8517580",
   "metadata": {},
   "outputs": [
    {
     "name": "stdout",
     "output_type": "stream",
     "text": [
      "[0.11920292 0.73105858 0.5       ]\n"
     ]
    }
   ],
   "source": [
    "import numpy as np\n",
    "\n",
    "w = (2,1)\n",
    "b= -1\n",
    "x = np.array([[1,1],[0,0], [0,1]])\n",
    "\n",
    "yb = 1/(1+np.exp(np. matmul(x,w)+b))\n",
    "print(yb)"
   ]
  },
  {
   "cell_type": "markdown",
   "id": "80b5bf1d-8145-4fcd-ab90-a4f17d4c1272",
   "metadata": {},
   "source": [
    "Es importante que tenga en cuenta que las etiquetas pueden colocarse al contrario. ¿Porque?"
   ]
  },
  {
   "cell_type": "markdown",
   "id": "085cb8ca-8a54-4fe7-882f-c04182a65e64",
   "metadata": {
    "tags": []
   },
   "source": [
    "## <span style=\"color:blue\">Función de probabilidad conjunta</span>"
   ]
  },
  {
   "cell_type": "markdown",
   "id": "92d0da11-8d92-4298-abee-07c3cb63dbe8",
   "metadata": {},
   "source": [
    "Si estuvo muy atento en la sección anterior, puede ahora entender que para cualquier punto $(x_1,x_2) \\in \\mathbb{R}^2$ se determina un modelo de probabilidad diferente. En realidad la probilidad de que un punto obtenga una determinada etiqueta depende de su posición en el espacio. Entonces para un punto dado $(x_1,x_2) \\in \\mathbb{R}^2$ la probabilidad de que obtenga una determinada etiqueta del conjunto $\\{0,1\\}$ termina siendo una probabilidad condicional dada por\n",
    "\n",
    "$$\n",
    "P(Y=y|\\mathbf{x}, \\mathbf{w}, b) = [g_{(\\mathbf{w},b)}(\\mathbf{x})]^y \\times [1-g_{(\\mathbf{w},b)}(\\mathbf{x})]^{1-y}\n",
    "$$\n",
    "\n",
    "\n",
    "Si por otro lado, suponemos que se obtendrán $N$ muestras $(\\mathbf{x}, y_i), \\hspace{3mm} i=1,\\ldots,N$, la función de probabilidad conjunta para esa muestra es dada por\n",
    "\n",
    "$$\n",
    "P(\\mathbf{Y}=\\mathbf{y}|\\mathbf{X}, \\mathbf{w},b) = \\prod_{i=1}^N[g_{(\\mathbf{w},b)}(\\mathbf{x}_i)]^{y_i} \\times [1-g_{(\\mathbf{w},b)}(\\mathbf{x}_i)]^{1-y_i}.\n",
    "$$\n",
    "\n",
    "Aqui hemos denotado \n",
    "+ $\\mathbf{Y}= (Y_1, \\ldots, Y_N)$,  \n",
    "+ $\\mathbf{y}= (y_1, \\ldots, y_N)$,  \n",
    "+ $\\mathbf{X}= (\\mathbf{x}_1, \\ldots, \\mathbf{x}_N)$."
   ]
  },
  {
   "cell_type": "markdown",
   "id": "c61401cf-e628-4b32-8d36-708809565883",
   "metadata": {},
   "source": [
    "### <span style=\"color:#4CC9F0\">Poder predictivo del modelo de probabilidad</span>"
   ]
  },
  {
   "cell_type": "markdown",
   "id": "b15caa03-d99e-414d-84a0-3474620da0d8",
   "metadata": {},
   "source": [
    "Queremos dejar bastante claro porque nuestro modelo de probabilidad en realidad es un modelo predictivo en todo el sentido de la palabra. Esta es la magia que subyace en los modelos de probabilidad.  Para esto nos apoyaremos en el modelo del ejemplo con $(w,b)=(2, -1)$. Recuerde que en el modelo hemos definido $P[Y=1|\\mathbf{x}] = g_{(\\mathbf{w},b)}(\\mathbf{x})$.\n",
    "\n",
    "Tomemos el punto $\\mathbf{x} = (1,1)$. Supongamos que necesitamos asignar una etiqueta a este punto. La etiqueta es desconocida y por tanto será el resultado de la evaluación de una variable aleatoria $Y$  y tenemos que\n",
    "\n",
    "\n",
    "+ $Prob(Y=1) = g_{(\\mathbf{w},b)}(\\mathbf{x}) = 0.119$\n",
    "+ $Prob(Y=0) = (1-g_{(\\mathbf{w},b)}(\\mathbf{x})) = 0.881$\n",
    "\n",
    "Nuestro modelo predice que  *con probabilidad 0.881* este punto proviene de la clase 1. "
   ]
  },
  {
   "cell_type": "markdown",
   "id": "5e976514-9e1b-4268-9d8f-7ae0f0c7a309",
   "metadata": {},
   "source": [
    "### <span style=\"color:#4CC9F0\">Implementación de la función predictora</span>"
   ]
  },
  {
   "cell_type": "markdown",
   "id": "c6d1cffb-de19-450c-9224-f7247d83c901",
   "metadata": {},
   "source": [
    "Nuestro modelo `predice` la probabilidad  que el punto $\\mathbf{x}$ pertenece a la clase 1. Entonces nuestra implementación en Tensorflow es como sigue:"
   ]
  },
  {
   "cell_type": "code",
   "execution_count": 43,
   "id": "4fdcfb40-2623-47a0-9f1e-fcc3655ebd4a",
   "metadata": {},
   "outputs": [
    {
     "name": "stdout",
     "output_type": "stream",
     "text": [
      "tf.Tensor(\n",
      "[[0.11920292]\n",
      " [0.7310586 ]\n",
      " [0.5       ]], shape=(3, 1), dtype=float32)\n"
     ]
    }
   ],
   "source": [
    "import tensorflow as tf\n",
    "\n",
    "def pred( x):\n",
    "    '''\n",
    "    Función de predictora logística o sigmoide\n",
    "    f_w(x) = 1/exp(1+ w'x+b)\n",
    "    '''\n",
    "    y_hat = 1 / (1 + tf.exp(tf.add(tf.matmul(x,w),b)))\n",
    "    return y_hat\n",
    "\n",
    "# prueba\n",
    "#w = [2, -1]\n",
    "w = tf.Variable([[2.],[1.]])\n",
    "b = tf.Variable([-1.])\n",
    "x = tf.constant(\n",
    "    [[1.,1.], \n",
    "     [0., 0.],\n",
    "     [0., 1.]]\n",
    "     )\n",
    "\n",
    "prediccion = pred(x)\n",
    "print(prediccion) #[[0.11920292],[0.7310586 ], [0.5]]"
   ]
  },
  {
   "cell_type": "markdown",
   "id": "9cb88c24-5efd-4e9e-896a-7e3f5bddb105",
   "metadata": {},
   "source": [
    "## <span style=\"color:blue\">Log verosimilitud y función de pérdida</span>"
   ]
  },
  {
   "cell_type": "markdown",
   "id": "5001d01a-6af8-4730-a2d3-e1586a5b626c",
   "metadata": {},
   "source": [
    "El proceso de entrenamiento de nuestro modelo consiste en estimar los parámetros $(w,b)$ del modelo a partir de los datos de entrenamiento recibidos.\n",
    "\n",
    "Recordemos que la función de probabilidad definida por nuestro modelo de Bernoulli es dada por\n",
    "\n",
    "$$\n",
    "P(Y=y| w,b, \\mathbf{x}) = [g_{(w,b)}(\\mathbf{x})]^y \\times [1-g_{(w,b)}(\\mathbf{x})]^{1-y}.\n",
    "$$\n",
    "\n",
    "Como modelo de probabilidad es necesario asumir que se conocen los valores para $w$ y $b$. Eso hemos hecho para poder presentar los ejemplos previos. Pero en este momento vamos a cambiar la perspectiva. Al disponer del dato de entrenamiento nuestra función ahora tiene conocidos los valores $(\\mathbf{x},y)$. Vamos a definir la función de verosimilitud con la misma expresión, pero ahora consideramos como desconocidos a los parámetros $w$ y $b$. Esta nueva función se denomina veromilitud para la observación $(\\mathbf{x},y)$ y se denota\n",
    "\n",
    "$$\n",
    "l(w,b|\\mathbf{x},y) =  [g_{(w,b)}(\\mathbf{x})]^y \\times [1-g_{(w,b)}(\\mathbf{x})]^{1-y}\n",
    "$$\n",
    "\n",
    "Si tomamos logaritmo y anteponemos el signo menos obtenemos la función de pérdida\n",
    "\n",
    "$$\n",
    "\\mathfrak{L}(w,b|\\mathbf{x},y) = - (y\\log[g_{(w,b)}(\\mathbf{x})] + (1-y)[1-\\log[g_{(w,b)}.(\\mathbf{x})])\n",
    "$$\n",
    "\n",
    "Hemos encontrado la entropía cruzada entre dos distribuciones:\n",
    "\n",
    "+ La distribución de referencia dada por $[y, 1-y]$\n",
    "+ La distribución aproximante dada por $[g_{(w,b)}(\\mathbf{x}), 1-g_{(w,b)}(\\mathbf{x})]$.\n",
    "\n",
    "Para el conjunto de datos de entrenamiento $(\\mathbf{x}, y_i), \\hspace{3mm} i=1,\\ldots,N$, la entropía cruzada *promedio* es dada por\n",
    "\n",
    "$$\n",
    "\\mathfrak{L}(w,b|\\mathbf{X},\\mathbf{y}) = -\\frac{1}{N} \\sum_{i=1}^N y_i\\log[g_{(w,b)}(\\mathbf{x}_i)] + (1-y_i)[1-\\log[g_{(w,b)}.(\\mathbf{x}_i)]\n",
    "$$\n",
    "\n",
    "Esta es la función que es necesario minimizar con respecto a $w$ y $b$.\n",
    "\n",
    "El proceso de optimización requiere el cálculo del gradiente de esta función de pérdida el cual es dado por\n",
    "\n",
    "$$\n",
    "\\nabla_{(w,b)}\\mathfrak{L}(w,b|\\mathbf{X},\\mathbf{y}) = \\left[\\frac{\\partial \\mathfrak{L}}{\\partial w}, \\frac{\\partial \\mathfrak{L}}{\\partial b}\\right]"
   ]
  },
  {
   "cell_type": "markdown",
   "id": "0a7c96bc-7502-4b77-977d-15070714caa0",
   "metadata": {},
   "source": [
    "### <span style=\"color:#4CC9F0\">Ejercicio</span>"
   ]
  },
  {
   "cell_type": "markdown",
   "id": "d8b6be1b-f9f6-497b-b617-79f061a12861",
   "metadata": {},
   "source": [
    "Calcule explícitamente $\\nabla_{(w,b)}\\mathfrak{L}(w,b|\\mathbf{X},\\mathbf{y})$."
   ]
  },
  {
   "cell_type": "markdown",
   "id": "ed8d4584-766c-4c95-8eaa-dd2a8e6a4866",
   "metadata": {},
   "source": [
    "### <span style=\"color:#4CC9F0\">Implementación de la función de pérdida</span>"
   ]
  },
  {
   "cell_type": "code",
   "execution_count": 70,
   "id": "c5e3bcdc-fb2e-414e-9e5c-fd76300f94b8",
   "metadata": {},
   "outputs": [],
   "source": [
    "def loss_f(y,y_pred):\n",
    "    loss = -tf.reduce_mean(y * tf.math.log(y_pred) + (1 - y) * tf.math.log(1 - y_pred))\n",
    "    return loss"
   ]
  },
  {
   "cell_type": "markdown",
   "id": "ef6f008a-3100-4aff-a5ec-cfb938b9942b",
   "metadata": {},
   "source": [
    "### <span style=\"color:#4CC9F0\">Regularización L2</span>"
   ]
  },
  {
   "cell_type": "markdown",
   "id": "3cf48d2b-7a34-4b52-9e62-e56d9cdbb047",
   "metadata": {},
   "source": [
    "Es muy frecuente tener que introducir un regularizador para evitar que la norma del vector $\\mathbf{w}$ crezca demasiado, lo que implica sobre ajuste en el modelo. En el siguiente código se ilustra como introducir el regulador L2."
   ]
  },
  {
   "cell_type": "code",
   "execution_count": 106,
   "id": "bdf44c56-2d62-4906-9333-b6ca1dcf5e52",
   "metadata": {},
   "outputs": [],
   "source": [
    "def loss_f_L2(y, y_pred,w, l=1):\n",
    "    loss = tf.add(loss_f(y,y_pred) - l*tf.matmul(tf.transpose(w),w))\n",
    "    return loss"
   ]
  },
  {
   "cell_type": "markdown",
   "id": "63dacee0-0b32-48d4-b1db-189e3e869de0",
   "metadata": {
    "slideshow": {
     "slide_type": "slide"
    },
    "tags": []
   },
   "source": [
    "## <span style=\"color:blue\">Entrenamiento del modelo (la red neuronal)</span>"
   ]
  },
  {
   "cell_type": "markdown",
   "id": "810c63bd-0da7-4957-a139-0d9993acd022",
   "metadata": {
    "slideshow": {
     "slide_type": "slide"
    },
    "tags": []
   },
   "source": [
    "\n",
    "<figure> \n",
    "<img src=\"../Imagenes/trainer.png\"  width=\"800\" height=\"800\" align=\"center\"/> \n",
    "</figure>\n",
    "\n",
    "<center>Entrenamiento de una red neuronal. Modelo de objetos.</center>\n",
    "\n",
    "Fuente Alvaro Montenegro"
   ]
  },
  {
   "cell_type": "code",
   "execution_count": 98,
   "id": "ec724dc5-409a-411b-aa6f-5e2dc520b745",
   "metadata": {},
   "outputs": [
    {
     "name": "stdout",
     "output_type": "stream",
     "text": [
      "Epoch: 0 loss: 1.0462753 accuracy: 0.5125\n",
      "Epoch: 1 loss: 0.71073794 accuracy: 0.51875\n",
      "Epoch: 2 loss: 0.70177066 accuracy: 0.51666665\n",
      "Epoch: 3 loss: 0.6917857 accuracy: 0.51874995\n",
      "Epoch: 4 loss: 0.6906651 accuracy: 0.5229167\n",
      "Epoch: 5 loss: 0.6904292 accuracy: 0.53749996\n",
      "Epoch: 6 loss: 0.6904949 accuracy: 0.53541666\n",
      "Epoch: 7 loss: 0.69048077 accuracy: 0.5416667\n",
      "Epoch: 8 loss: 0.69053465 accuracy: 0.5395833\n",
      "Epoch: 9 loss: 0.69057643 accuracy: 0.5395833\n"
     ]
    }
   ],
   "source": [
    "import numpy as np\n",
    "import tensorflow as tf\n",
    "from tensorflow.keras.optimizers import Adam\n",
    "\n",
    "\n",
    "# Inicializar pesos aleatorios y modelo\n",
    "np.random.seed(1)\n",
    "#w = tf.Variable(np.random.randn(2, 1))\n",
    "w = tf.Variable([[-2.0], [2.0]])\n",
    "#b = tf.Variable([0.])\n",
    "b = tf.Variable([0.])\n",
    "\n",
    "# Generar un conjunto de datos de muestra\n",
    "N = 500\n",
    "np.random.seed(0)\n",
    "x = np.random.randn(N, 2)\n",
    "x = np.array(x, dtype=np.float32)\n",
    "y = np.random.randint(0, 2, (N, 1))\n",
    "\n",
    "# convierte x en un tensor constante\n",
    "x = tf.constant(x)\n",
    "y = tf.constant(y)\n",
    "\n",
    "# ajusta los tipos de datos para evitar problemas de cálculo\n",
    "w = tf.cast(w, tf.float32)\n",
    "b = tf.cast(b, tf.float32)\n",
    "x = tf.cast(x, tf.float32)\n",
    "y = tf.cast(y, tf.float32)\n",
    "\n",
    "#optimizer = Adam()\n",
    "optimizer = tf.keras.optimizers.Adam(learning_rate=0.1)\n",
    "\n",
    "\n",
    "# Bucle de entrenamiento\n",
    "losses = []\n",
    "accuracies = []\n",
    "\n",
    "def train_step(x, y):\n",
    "    with tf.GradientTape() as tape:\n",
    "        y_pred = pred(x)\n",
    "        l = loss_f( y, y_pred)\n",
    "    grads = tape.gradient(l, [w, b])\n",
    "    optimizer.apply_gradients(zip(grads, [w, b]))\n",
    "    accuracy = tf.reduce_mean(tf.cast(tf.equal(tf.round(y_pred), y), tf.float32))\n",
    "    return l, accuracy\n",
    "\n",
    "# Entrenar el modelo durante varias épocas\n",
    "epochs = 10\n",
    "for epoch in range(epochs):\n",
    "    avg_loss = 0.\n",
    "    avg_accuracy = 0.\n",
    "    total_batch = int(len(x) / 32)\n",
    "    for i in range(total_batch):\n",
    "        batch_x = x[i * 32:(i + 1) * 32]\n",
    "        batch_y = y[i * 32:(i + 1) * 32]\n",
    "        l, accuracy = train_step(batch_x, batch_y)\n",
    "        avg_loss += l / total_batch\n",
    "        avg_accuracy += accuracy / total_batch\n",
    "    print(\"Epoch:\", epoch, \"loss:\", avg_loss.numpy(), \"accuracy:\", avg_accuracy.numpy())"
   ]
  },
  {
   "cell_type": "code",
   "execution_count": 94,
   "id": "f807fd82-97b3-45ea-b334-57a12ee80336",
   "metadata": {},
   "outputs": [
    {
     "name": "stdout",
     "output_type": "stream",
     "text": [
      "[[-0.0360415 ]\n",
      " [-0.05757586]] [-0.1555623]\n"
     ]
    }
   ],
   "source": [
    "w_opt = w.numpy()\n",
    "b_opt = b.numpy()\n",
    "\n",
    "print(w_opt, b_opt)"
   ]
  },
  {
   "cell_type": "markdown",
   "id": "ae3f6c67-887d-459b-b251-5744b8cc2035",
   "metadata": {},
   "source": [
    "## <span style=\"color:blue\">Ilustración del modelo</span>"
   ]
  },
  {
   "cell_type": "code",
   "execution_count": 95,
   "id": "c896339a-ba5c-4122-9722-37b3809da38d",
   "metadata": {},
   "outputs": [
    {
     "data": {
      "image/png": "[encoded data removed]",
      "text/plain": [
       "<Figure size 640x480 with 1 Axes>"
      ]
     },
     "metadata": {},
     "output_type": "display_data"
    }
   ],
   "source": [
    "import matplotlib.pyplot as plt\n",
    "import numpy as np\n",
    "\n",
    "# Número de datos\n",
    "N = 500\n",
    "\n",
    "# Generar un conjunto de datos de muestra\n",
    "np.random.seed(0)\n",
    "x = np.random.randn(N, 2)\n",
    "y = np.random.randint(0, 2, (N, 1))\n",
    "\n",
    "# Separar los puntos de datos en dos grupos basados en su clase\n",
    "class_0 = x[y.ravel() == 0]\n",
    "class_1 = x[y.ravel() == 1]\n",
    "class_1 += 2.5\n",
    "\n",
    "# Recodifica la matriz de datos\n",
    "x[y.ravel() == 1] += 2.5\n",
    "\n",
    "\n",
    "# modelo\n",
    "z  = range(-2,5)\n",
    "v = - w_opt[0]/w_opt[1]*z - b_opt/w_opt[1]\n",
    "\n",
    "# Graficar los puntos de datos\n",
    "plt.scatter(class_0[:, 0], class_0[:, 1], marker='o', color='orange', label='Class 0')\n",
    "plt.scatter(class_1[:, 0], class_1[:, 1], marker='x', color='blue', label='Class 1')\n",
    "plt.plot(z,v)\n",
    "plt.legend(loc='upper left')\n",
    "plt.xlabel('x1')\n",
    "plt.ylabel('x2')\n",
    "plt.show()\n",
    "\n",
    "\n"
   ]
  },
  {
   "cell_type": "markdown",
   "id": "7c0a448e-ce81-43fa-8192-e6946617552f",
   "metadata": {},
   "source": [
    "### <span style=\"color:#4CC9F0\">Ejercicio: Clase Trainer</span>"
   ]
  },
  {
   "cell_type": "markdown",
   "id": "bf8bb41e-cf71-4f23-87d8-a3ee002521f5",
   "metadata": {},
   "source": [
    "\n",
    "Como ejercicio se propone la implementación de esta clase, basandose en el código anterior.\n",
    "\n",
    "Esta clase es diseñada para controlar el proceso de entrenamiento. Antes de crear un objeto de tipo datset, asegúrese de tener disponible los siguiente objetos\n",
    "\n",
    "1. Un modelo.\n",
    "1. Un optimizador configurado para el modelo\n",
    "1. Una función de pérdida adecuada para el modelo\n",
    "\n",
    "Opcionalmente puede de un objeto SummaryWriter de Tensorboard y el path para almacenar los modelos.\n",
    "\n",
    "Para ejecutar el método `fit` se requiere disponer de los objetos de datos para entrenamiento y validación. "
   ]
  },
  {
   "cell_type": "markdown",
   "id": "2ebcea22-0cb4-4a55-be58-1ccee2212eea",
   "metadata": {},
   "source": [
    "**¡Eso es todo!**"
   ]
  },
  {
   "cell_type": "code",
   "execution_count": null,
   "id": "380e0344-ae82-4e9a-8a07-4dd176035aa2",
   "metadata": {},
   "outputs": [],
   "source": []
  }
 ],
 "metadata": {
  "kernelspec": {
   "display_name": "Python 3 (ipykernel)",
   "language": "python",
   "name": "python3"
  },
  "language_info": {
   "codemirror_mode": {
    "name": "ipython",
    "version": 3
   },
   "file_extension": ".py",
   "mimetype": "text/x-python",
   "name": "python",
   "nbconvert_exporter": "python",
   "pygments_lexer": "ipython3",
   "version": "3.10.10"
  }
 },
 "nbformat": 4,
 "nbformat_minor": 5
}
