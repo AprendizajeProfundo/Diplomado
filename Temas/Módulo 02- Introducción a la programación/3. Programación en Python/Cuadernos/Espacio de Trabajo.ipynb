{
 "cells": [
  {
   "cell_type": "markdown",
   "metadata": {},
   "source": [
    "# Espacio de Trabajo\n",
    "\n",
    "Cuando hablamos del espacio de trabajo, nos referimos a dos cosas (ambigüedad):\n",
    "\n",
    "1. **Cuántas y cuáles** variables están definidas en la sesión actual de trabajo.\n",
    "2. En qué **lugar** se está ejecutando la sesión."
   ]
  },
  {
   "cell_type": "markdown",
   "metadata": {},
   "source": [
    "# Variables declaradas:\n",
    "\n",
    "Cada lenguaje de programación tiene su manera de proceder, y cada uno de ellos muestra información pedida de maneras diferentes.\n",
    "\n",
    "**Ejemplo:**\n",
    "\n",
    "- Python: ```dir(),locals(), globals()```.\n",
    "-      R: ```ls()```.\n",
    "- MATLAB: ```who, whos```.\n",
    "-  Julia: ```names(Main)[4:end]```.\n",
    "\n",
    "Probemos algo de esto en Python:"
   ]
  },
  {
   "cell_type": "code",
   "execution_count": null,
   "metadata": {},
   "outputs": [],
   "source": [
    "print(dir())\n",
    "#print(locals())\n",
    "#print(globals())"
   ]
  },
  {
   "cell_type": "markdown",
   "metadata": {},
   "source": [
    "Parece que estamos viendo cosas sin sentido... (programish?)\n",
    "\n",
    "Lo que sucede, es que al ejecutarse Python, hay funciones internas y variables que se definen en el núcleo del lenguaje para que este pueda funcionar.\n",
    "\n",
    "Por ejemplo:\n",
    "\n",
    "- Módulos que entiendan las sintáxis escrita.\n",
    "- Scripts que inicializen el prorama y monitoreen su estado.\n",
    "- Historial de comandos escritos con anterioridad.\n",
    "- Funciones para salir.\n",
    "\n",
    "La lista es extensa y explica un poco esta lista rara.\n",
    "\n",
    "La **ventaja** de usar JupyterLab (Más específicamente **IPyhton**) es que podemos usar un concepto conocido como **comandos mágicos (tarea)**, cuyo objetivo es ejecutar comandos de otros lenguajes que nos permitan hacer una mejor visualización de las cosas e incluso correr códigos de otro lenguajes de programaciónen Kernels ajenos a éste.\n",
    "\n",
    "Usemos whos de MATLAB.\n",
    "\n",
    "Para una extensa lista de comandos mágicos, ir [Aqui](https://ipython.readthedocs.io/en/stable/interactive/magics.html)\n",
    "\n",
    "**Ejemplo:**"
   ]
  },
  {
   "cell_type": "code",
   "execution_count": null,
   "metadata": {},
   "outputs": [],
   "source": [
    "# Importar librería numpy\n",
    "\n",
    "from numpy import array \n",
    "\n",
    "# If you want to check numpy version:\n",
    "#!conda list numpy inside the Notebook\n",
    "\n",
    "# Definir un vector usando numpy\n",
    "v=array([2,3,4,5,6,7,8,9]);\n",
    "# Mostrar vector\n",
    "print(\"El vector es: v =\", v)"
   ]
  },
  {
   "cell_type": "markdown",
   "metadata": {},
   "source": [
    "Ahora, miremos qué variables han sido definidas:"
   ]
  },
  {
   "cell_type": "code",
   "execution_count": null,
   "metadata": {},
   "outputs": [],
   "source": [
    "%whos"
   ]
  },
  {
   "cell_type": "markdown",
   "metadata": {},
   "source": [
    "Juguemos un poco más:"
   ]
  },
  {
   "cell_type": "code",
   "execution_count": null,
   "metadata": {},
   "outputs": [],
   "source": [
    "import random as rand\n",
    "\n",
    "a1 = rand.random()\n",
    "a2 = rand.randint(3,20)\n",
    "a3 = rand.randrange(30,10000)\n",
    "\n",
    "print(\"a1 =\",a1)\n",
    "print(\"a2 =\",a2)\n",
    "print(\"a3 =\",a3)"
   ]
  },
  {
   "cell_type": "markdown",
   "metadata": {},
   "source": [
    "Ahora verifiquemos nuevas variables en el Workspace"
   ]
  },
  {
   "cell_type": "code",
   "execution_count": null,
   "metadata": {},
   "outputs": [],
   "source": [
    "%whos\n"
   ]
  },
  {
   "cell_type": "code",
   "execution_count": null,
   "metadata": {},
   "outputs": [],
   "source": [
    "%who"
   ]
  },
  {
   "cell_type": "markdown",
   "metadata": {},
   "source": [
    "## Pregunta:\n",
    "\n",
    "¿Por qué hay más cosas en el espacio de trabajo que sólo variables definidas?"
   ]
  },
  {
   "cell_type": "markdown",
   "metadata": {},
   "source": [
    "# Lugares en el PC:\n",
    "\n",
    "Muchas veces necesitamos cargar datos desde algún lugar físico del computador (alguna ruta) en la que guardamos dichos datos.\n",
    "\n",
    "Por eso, es importante saber dónde nos encontramos desde el Notebook en proceso.\n",
    "\n",
    "Como la sintáxis de las rutas **dependen del OS**, esto puede variar bastante.\n",
    "\n",
    "**Ejemplo:**"
   ]
  },
  {
   "cell_type": "code",
   "execution_count": null,
   "metadata": {},
   "outputs": [],
   "source": [
    "#!pwd # Directorio actual, Linux, Mac\n",
    "# Directorio actual, Windows\n",
    "!chdir"
   ]
  },
  {
   "cell_type": "markdown",
   "metadata": {},
   "source": [
    "Es excelente **práctica** de programación dejar los datos en una carpeta muy cercana a la carpeta raíz de la instalación de Anaconda y **paths absolutos** para acceder a la información:"
   ]
  },
  {
   "cell_type": "code",
   "execution_count": null,
   "metadata": {},
   "outputs": [],
   "source": [
    "# Change path to your path\n",
    "\n",
    "f = open(\"abs_path_to_file/data.txt\",'r')\n",
    "\n",
    "if f.mode == 'r':\n",
    "    contents = f.read() # Read Content\n",
    "    print(contents)    # Print Content"
   ]
  },
  {
   "cell_type": "markdown",
   "metadata": {},
   "source": [
    "# Ejercicios\n",
    "\n",
    "- Lea sobre cómo leer datos y asignarle esos datos a variables.\n",
    "- Lea sobre cómo escribir datos en un archivo de texto .txt o .csv"
   ]
  }
 ],
 "metadata": {
  "kernelspec": {
   "display_name": "Python 3",
   "language": "python",
   "name": "python3"
  },
  "language_info": {
   "codemirror_mode": {
    "name": "ipython",
    "version": 3
   },
   "file_extension": ".py",
   "mimetype": "text/x-python",
   "name": "python",
   "nbconvert_exporter": "python",
   "pygments_lexer": "ipython3",
   "version": "3.8.1"
  }
 },
 "nbformat": 4,
 "nbformat_minor": 4
}
