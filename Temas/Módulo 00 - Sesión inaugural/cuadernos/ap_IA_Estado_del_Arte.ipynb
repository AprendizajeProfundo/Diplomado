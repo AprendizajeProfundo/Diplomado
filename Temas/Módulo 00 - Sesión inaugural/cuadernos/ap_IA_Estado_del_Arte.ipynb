{
 "cells": [
  {
   "cell_type": "markdown",
   "metadata": {
    "slideshow": {
     "slide_type": "slide"
    },
    "tags": []
   },
   "source": [
    "<figure>\n",
    "<img src=\"../imagenes/logo-final-ap.png\"  width=\"80\" height=\"80\" align=\"left\"/> \n",
    "</figure>\n",
    "\n",
    "# <span style=\"color:#4361EE\"><left>Aprendizaje Profundo</left></span>"
   ]
  },
  {
   "cell_type": "markdown",
   "metadata": {},
   "source": [
    "# <span style=\"color:red\"><center>Diplomado en Inteligencia Artificial y Aprendizaje Profundo<center></span>"
   ]
  },
  {
   "cell_type": "markdown",
   "metadata": {},
   "source": [
    "## <span style=\"color:green\"><center>Estado del Arte (SOTA)<center></span>"
   ]
  },
  {
   "cell_type": "markdown",
   "metadata": {
    "slideshow": {
     "slide_type": "slide"
    },
    "tags": []
   },
   "source": [
    "## <span style=\"color:#4361EE\">Profesores</span>"
   ]
  },
  {
   "cell_type": "markdown",
   "metadata": {},
   "source": [
    "1. Alvaro  Montenegro, PhD, ammontenegrod@unal.edu.co\n",
    "1. Camilo José Torres Jiménez, Msc, cjtorresj@unal.edu.co\n",
    "1. Daniel  Montenegro, Msc, dextronomo@gmail.com "
   ]
  },
  {
   "cell_type": "markdown",
   "metadata": {
    "slideshow": {
     "slide_type": "subslide"
    },
    "tags": []
   },
   "source": [
    "## <span style=\"color:#4361EE\">Asesora Medios y Marketing digital</span>"
   ]
  },
  {
   "cell_type": "markdown",
   "metadata": {},
   "source": [
    "4. Maria del Pilar Montenegro, pmontenegro88@gmail.com\n",
    "5. Jessica López Mejía, jelopezme@unal.edu.co"
   ]
  },
  {
   "cell_type": "markdown",
   "metadata": {
    "slideshow": {
     "slide_type": "subslide"
    },
    "tags": []
   },
   "source": [
    "## <span style=\"color:#4361EE\">Jefe Jurídica</span>"
   ]
  },
  {
   "cell_type": "markdown",
   "metadata": {},
   "source": [
    "6. Paula Andrea Guzmán, guzmancruz.paula@gmail.com"
   ]
  },
  {
   "cell_type": "markdown",
   "metadata": {
    "slideshow": {
     "slide_type": "fragment"
    },
    "tags": []
   },
   "source": [
    "## <span style=\"color:#4361EE\">Coordinador Jurídico</span>"
   ]
  },
  {
   "cell_type": "markdown",
   "metadata": {},
   "source": [
    "7. David Fuentes, fuentesd065@gmail.com"
   ]
  },
  {
   "cell_type": "markdown",
   "metadata": {
    "slideshow": {
     "slide_type": "subslide"
    },
    "tags": []
   },
   "source": [
    "## <span style=\"color:#4361EE\">Desarrolladores Principales</span>"
   ]
  },
  {
   "cell_type": "markdown",
   "metadata": {},
   "source": [
    "8. Dairo Moreno, damoralesj@unal.edu.co\n",
    "9. Joan Castro, jocastroc@unal.edu.co\n",
    "10. Bryan Riveros, briveros@unal.edu.co\n",
    "11. Rosmer Vargas, rovargasc@unal.edu.co\n",
    "12. Venus Puertas, vpuertasg@unal.edu.co"
   ]
  },
  {
   "cell_type": "markdown",
   "metadata": {
    "slideshow": {
     "slide_type": "fragment"
    },
    "tags": []
   },
   "source": [
    "## <span style=\"color:#4361EE\">Expertos en Bases de Datos</span>"
   ]
  },
  {
   "cell_type": "markdown",
   "metadata": {},
   "source": [
    "13. Giovvani Barrera, udgiovanni@gmail.com\n",
    "14. Camilo Chitivo, cchitivo@unal.edu.co"
   ]
  },
  {
   "cell_type": "markdown",
   "metadata": {
    "slideshow": {
     "slide_type": "slide"
    },
    "tags": []
   },
   "source": [
    "## <span style=\"color:#4361EE\">Concepto</span>"
   ]
  },
  {
   "cell_type": "markdown",
   "metadata": {},
   "source": [
    "**¿Qué es la inteligencia artificial?**\n",
    "\n",
    "[**¿Es verdad lo que dicen en las noticias sobre IA?**](https://youtu.be/PbS9h1scD6Q)\n",
    "\n",
    "**¿Puede una máquina pensar y sentir?**\n",
    "\n",
    "<a href=\"https://www.forbes.com/real-time-billionaires\"><b>Nuevos Estados Emergentes</b></a>"
   ]
  },
  {
   "cell_type": "markdown",
   "metadata": {
    "slideshow": {
     "slide_type": "slide"
    },
    "tags": []
   },
   "source": [
    "## <span style=\"color:#4361EE\">Visión por Computador</span>"
   ]
  },
  {
   "cell_type": "markdown",
   "metadata": {},
   "source": [
    "### <span style=\"color:#4CC9F0\">Claves:</span>\n",
    "\n",
    "- Redes Convolucionales, Autoencoders, Redes Residuales y Transformers"
   ]
  },
  {
   "cell_type": "markdown",
   "metadata": {
    "slideshow": {
     "slide_type": "subslide"
    },
    "tags": []
   },
   "source": [
    "- **Reconocimiento Facial**\n",
    "\n",
    "<center>\n",
    "<div id=\"images\">\n",
    "    <img src=\"../imagenes/dani1.jpg\" alt=\"asd\" style=\"width:300px;height:300px;\">\n",
    "    <img src=\"../imagenes/arrow.png\" alt=\"asd2\" style=\"width:200px;height:300px;\">\n",
    "    <img src=\"../imagenes/dani2.jpg\" alt=\"asda2\" style=\"width:250px;height:300px;\">\n",
    "</div>\n",
    "</center>\n",
    "\n",
    "Fuente: Daniel Montenegro"
   ]
  },
  {
   "cell_type": "markdown",
   "metadata": {
    "slideshow": {
     "slide_type": "subslide"
    },
    "tags": []
   },
   "source": [
    "- **Segmentación de Imágenes**\n",
    "\n",
    "    - Autoencoders\n",
    "\n",
    "<center>\n",
    "<img src=\"../imagenes/im_seg.jpg\" alt=\"Image_Segmentation\" style=\"width:800px;height:450px;\">\n",
    "</center>\n",
    "\n",
    "Fuente: [Detectron 2 (Meta AI)](https://github.com/facebookresearch/detectron2)"
   ]
  },
  {
   "cell_type": "markdown",
   "metadata": {
    "slideshow": {
     "slide_type": "subslide"
    },
    "tags": []
   },
   "source": [
    "- **Transcripción Automática de Textos Escritos**\n",
    "\n",
    "    - Transformers\n",
    "    - Redes Convolucionales\n",
    "\n",
    "<center>\n",
    "<img src=\"../imagenes/google_vision.png\" alt=\"Image_Segmentation\" style=\"width:750px;height:220px;\">\n",
    "</center>\n",
    "\n",
    "Fuente: [Google Vision](https://cloud.google.com/vision)"
   ]
  },
  {
   "cell_type": "markdown",
   "metadata": {
    "slideshow": {
     "slide_type": "subslide"
    },
    "tags": []
   },
   "source": [
    "- **Conducción Automática**\n",
    "\n",
    "    - Redes Recurrentes\n",
    "    - Transformers\n",
    "    \n",
    "<center>\n",
    "<img src=\"../imagenes/tesla-auto.gif\" alt=\"tesla\" style=\"width:800px;height:400px;\">\n",
    "</center>\n",
    "\n",
    "Fuente: [Tenor](https://tenor.com/)"
   ]
  },
  {
   "cell_type": "markdown",
   "metadata": {
    "slideshow": {
     "slide_type": "subslide"
    },
    "tags": []
   },
   "source": [
    "- **Rostros Falsos en Vivo**\n",
    "\n",
    "    - Redes Recurrentes\n",
    "    - Redes Residuales\n",
    "    \n",
    "<center>\n",
    "<img src=\"../imagenes/deep_fake.png\" alt=\"tesla\" style=\"width:800px;height:400px;\">\n",
    "</center>\n",
    "\n",
    "Fuente: [DeepFaceLive](https://github.com/iperov/DeepFaceLive)"
   ]
  },
  {
   "cell_type": "markdown",
   "metadata": {
    "slideshow": {
     "slide_type": "subslide"
    },
    "tags": []
   },
   "source": [
    "- **Despliegues de anteriores alumnos**\n",
    "\n",
    "    - Modelos Pre-entrenados y Finetuning\n",
    "    \n",
    "<center>\n",
    "<img src=\"../imagenes/sebmatecho.png\" alt=\"tesla\" style=\"width:600px;height:400px;\">\n",
    "</center>\n",
    "\n",
    "Fuente: [sebmatecho](https://huggingface.co/spaces/sebmatecho/foodvision)"
   ]
  },
  {
   "cell_type": "markdown",
   "metadata": {
    "slideshow": {
     "slide_type": "slide"
    },
    "tags": []
   },
   "source": [
    "## <span style=\"color:#4361EE\">Modelos de Pronóstico</span>"
   ]
  },
  {
   "cell_type": "markdown",
   "metadata": {},
   "source": [
    "### <span style=\"color:#4CC9F0\">Claves</span>\n",
    " - Redes Recurrentes\n",
    " - Redes LSTM\n",
    " - Redes GRU\n",
    " "
   ]
  },
  {
   "cell_type": "markdown",
   "metadata": {
    "slideshow": {
     "slide_type": "subslide"
    },
    "tags": []
   },
   "source": [
    "<center>\n",
    "    <img src=\"../imagenes/apple_prediction.png\" alt=\"asd\" style=\"width:900px;height:500px;\">\n",
    "</center>\n",
    "\n",
    "Fuente: Aprendizaje Profundo"
   ]
  },
  {
   "cell_type": "markdown",
   "metadata": {
    "slideshow": {
     "slide_type": "subslide"
    },
    "tags": []
   },
   "source": [
    "- Temporal Fusion Transformer\n",
    "\n",
    "    - Modelos Atencionales\n",
    "\n",
    "<center><img src=\"../imagenes/tft_time_series.png\" alt=\"asd\" style=\"width:900px;height:450px;\"></center>\n",
    "\n",
    "\n",
    "Fuente: [Temporal Fusion Transformers for Interpretable Multi-horizon Time Series Forecasting](https://seunghan96.github.io/ts/TFT/)"
   ]
  },
  {
   "cell_type": "markdown",
   "metadata": {
    "slideshow": {
     "slide_type": "slide"
    },
    "tags": []
   },
   "source": [
    "## <span style=\"color:#4361EE\">Modelos de Lenguaje Natural</span>"
   ]
  },
  {
   "cell_type": "markdown",
   "metadata": {},
   "source": [
    "### <span style=\"color:#4CC9F0\">Claves</span>\n",
    "\n",
    "- Transformers\n",
    "- Modelos de Atención"
   ]
  },
  {
   "cell_type": "markdown",
   "metadata": {
    "jp-MarkdownHeadingCollapsed": true,
    "slideshow": {
     "slide_type": "subslide"
    },
    "tags": []
   },
   "source": [
    "**Un poco de Historia**\n",
    "\n",
    "<center>\n",
    "<img src=\"../imagenes/history_nlp.png\" alt=\"history_nlp\" style=\"width:300px;height:500px;\">\n",
    "</center>\n",
    "\n",
    "Fuente: [World Wide Technology](https://www.wwt.com/article/a-brief-history-of-nlp)"
   ]
  },
  {
   "cell_type": "markdown",
   "metadata": {
    "jp-MarkdownHeadingCollapsed": true,
    "slideshow": {
     "slide_type": "subslide"
    },
    "tags": []
   },
   "source": [
    "Modelos de Lenguaje... **Muy poderosos**\n",
    "\n",
    "[![Neuralink](../imagenes/gpt3.jpg)](https://www.xataka.com/robotica-e-ia/gpt-3-nuevo-modelo-lenguaje-openai-capaz-programar-disenar-conversar-politica-economia)\n",
    "\n",
    "[Demostración](https://beta.openai.com/?demo=5)\n",
    "\n",
    "Fuente: [Xataka](https://www.xataka.com/robotica-e-ia/gpt-3-nuevo-modelo-lenguaje-openai-capaz-programar-disenar-conversar-politica-economia)"
   ]
  },
  {
   "cell_type": "markdown",
   "metadata": {
    "slideshow": {
     "slide_type": "subslide"
    },
    "tags": []
   },
   "source": [
    "### <span style=\"color:#4CC9F0\">Ejemplo</span>"
   ]
  },
  {
   "cell_type": "markdown",
   "metadata": {},
   "source": [
    "<center>\n",
    "<iframe width=\"853\" height=\"480\" src=\"https://www.youtube.com/embed/uCpE6z999Uk\" title=\"YouTube video player\" frameborder=\"0\" allow=\"accelerometer; autoplay; clipboard-write; encrypted-media; gyroscope; picture-in-picture\" allowfullscreen></iframe>\n",
    "</center>"
   ]
  },
  {
   "cell_type": "markdown",
   "metadata": {
    "jp-MarkdownHeadingCollapsed": true,
    "slideshow": {
     "slide_type": "subslide"
    },
    "tags": []
   },
   "source": [
    "**Modelos Open-Source (Abiertos)**\n",
    "\n",
    "[![Bloom](../imagenes/opt_175b.gif)](https://ai.facebook.com/blog/democratizing-access-to-large-scale-language-models-with-opt-175b/)\n",
    "\n",
    "\n",
    "[Modelos en GitHub](https://github.com/facebookresearch/metaseq)\n",
    "\n",
    "\n",
    "Fuente: [Democratizing access to large-scale language models with OPT-175B](https://ai.facebook.com/blog/democratizing-access-to-large-scale-language-models-with-opt-175b/)"
   ]
  },
  {
   "cell_type": "markdown",
   "metadata": {
    "jp-MarkdownHeadingCollapsed": true,
    "slideshow": {
     "slide_type": "subslide"
    },
    "tags": []
   },
   "source": [
    "**Modelos Multilenguaje**\n",
    "\n",
    "[![Bloom](../imagenes/bloom.png)](https://huggingface.co/bigscience/bloom)\n",
    "\n",
    "[Demostración](https://huggingface.co/spaces)\n",
    "\n",
    "Fuente: [BigScience](https://bigscience.huggingface.co/)"
   ]
  },
  {
   "cell_type": "markdown",
   "metadata": {
    "jp-MarkdownHeadingCollapsed": true,
    "slideshow": {
     "slide_type": "subslide"
    },
    "tags": []
   },
   "source": [
    "**Mainstream: ChatGPT**\n",
    "\n",
    "[![Bloom](../imagenes/chatgpt.png)](https://chat.openai.com/chat)\n",
    "\n",
    "Fuente: [OpenAI](https://openai.com/blog/chatgpt)"
   ]
  },
  {
   "cell_type": "markdown",
   "metadata": {
    "jp-MarkdownHeadingCollapsed": true,
    "slideshow": {
     "slide_type": "subslide"
    },
    "tags": []
   },
   "source": [
    "**Bing**\n",
    "\n",
    "[![Bloom](../imagenes/bing_chat.png)](https://www.bing.com/ck/a?!&&p=3733c5bf60e3f647JmltdHM9MTY3ODY2NTYwMCZpZ3VpZD0zZGU4YmEyOS0zNTNhLTYxMTEtMjA2Ni1hOGZhMzQ5NTYwM2ImaW5zaWQ9NTY5OA&ptn=3&hsh=3&fclid=3de8ba29-353a-6111-2066-a8fa3495603b&u=a1L25ldy9mYXN0YWNjZXNzP2Zvcm09TVkwMjkxJk9DSUQ9TVkwMjkx&ntb=1)\n",
    "\n",
    "Fuente: [Bing](https://www.bing.com/)"
   ]
  },
  {
   "cell_type": "markdown",
   "metadata": {
    "jp-MarkdownHeadingCollapsed": true,
    "slideshow": {
     "slide_type": "subslide"
    },
    "tags": []
   },
   "source": [
    "**LLaMA**\n",
    "\n",
    "[![LLaMA](../imagenes/LLaMA.png)](https://docs.google.com/forms/d/e/1FAIpQLSfqNECQnMkycAp2jP4Z9TFX0cGR4uf7b_fBxjY_OjhJILlKGA/viewform)\n",
    "\n",
    "Fuente: [Meta](https://ai.facebook.com/blog/large-language-model-llama-meta-ai/)"
   ]
  },
  {
   "cell_type": "markdown",
   "metadata": {
    "jp-MarkdownHeadingCollapsed": true,
    "slideshow": {
     "slide_type": "subslide"
    },
    "tags": []
   },
   "source": [
    "**Bard**\n",
    "\n",
    "<center>\n",
    "<img src=\"../imagenes/bard.gif\" alt=\"Bard\" style=\"width:550px;height:450px;\">\n",
    "</center>\n",
    "\n",
    "Fuente: [Google](https://blog.google/technology/ai/bard-google-ai-search-updates/)"
   ]
  },
  {
   "cell_type": "markdown",
   "metadata": {
    "slideshow": {
     "slide_type": "subslide"
    },
    "tags": []
   },
   "source": [
    "### <span style=\"color:#4CC9F0\">Google Minerva</span>\n",
    "\n",
    "Ahora las IA pueden resolver problemas de matemáticas:\n",
    "\n",
    "<center><img src=\"../imagenes/g_minerva.png\" alt=\"DALLE-2\" style=\"width:650px;height:400px;\"></center>\n",
    "\n",
    "Fuente: [Minerva: Solving Quantitative Reasoning Problems with Language Models](https://ai.googleblog.com/2022/06/minerva-solving-quantitative-reasoning.html)"
   ]
  },
  {
   "cell_type": "markdown",
   "metadata": {
    "slideshow": {
     "slide_type": "subslide"
    },
    "tags": []
   },
   "source": [
    "### <span style=\"color:#4CC9F0\">LaMDA</span>\n",
    "\n",
    "La ex-controvertida IA del momento:\n",
    "\n",
    "<center><a href=\"https://blog.google/technology/ai/lamda/\"><img src=\"../imagenes/lamda.gif\" alt=\"DALLE-2\" style=\"width:650px;height:400px;\"></a></center>\n",
    "\n",
    "Fuente: [LaMDA: our breakthrough conversation technology](https://blog.google/technology/ai/lamda/)"
   ]
  },
  {
   "cell_type": "markdown",
   "metadata": {
    "slideshow": {
     "slide_type": "subslide"
    },
    "tags": []
   },
   "source": [
    "**¿Por qué es famoso LaMDA?**"
   ]
  },
  {
   "cell_type": "markdown",
   "metadata": {
    "slideshow": {
     "slide_type": "fragment"
    },
    "tags": []
   },
   "source": [
    "<img src=\"../imagenes/lamda_news_1.jpg\" alt=\"l_news_1\" style=\"width:820px;height:180px;float:left\">\n",
    "<br></br><br></br><br></br><br></br>\n",
    "\n",
    "Fuente: [Portafolio](https://www.portafolio.co/tendencias/google-ingeniero-asegura-que-programa-de-inteligencia-artificial-siente-566957)"
   ]
  },
  {
   "cell_type": "markdown",
   "metadata": {
    "slideshow": {
     "slide_type": "fragment"
    },
    "tags": []
   },
   "source": [
    "<img src=\"../imagenes/lamda_news_2.jpg\" alt=\"l_news_2\" style=\"width:630px;height:180px;float:right;\">\n",
    "<br></br><br></br><br></br><br></br>\n",
    "<p style=\"float:right\">Fuente: <a href =\"https://www.dw.com/es/inteligencia-artificial-sintiente-de-google-contrat%C3%B3-a-un-abogado-asegura-ingeniero-suspendido/a-62335042#:~:text=LaMDA%20de%20Google%20puede%20ser,su%20algoritmo%20no%20es%20sensible\" style=\"float:right\">DW</a></p>"
   ]
  },
  {
   "cell_type": "markdown",
   "metadata": {
    "slideshow": {
     "slide_type": "subslide"
    },
    "tags": []
   },
   "source": [
    "### <span style=\"color:#4CC9F0\">DALLE-2</span>\n",
    "\n",
    "¿Adiós a los diseñadores gráficos?\n",
    "\n",
    "<center><a href=\"https://openai.com/dall-e-2/\"><img src=\"../imagenes/dalle2.jpg\" alt=\"DALLE-2\" style=\"width:650px;height:400px;\"></a></center>\n",
    "\n",
    "Fuente: [El nuevo sistema DALL-E 2 de OpenAI crea imágenes fotorrealistas a partir de descripciones](https://www.habeasdata.org/el-nuevo-sistema-dall-e-2-de-openai-crea-imagenes-fotorrealistas-a-partir-de-descripciones/)"
   ]
  },
  {
   "cell_type": "markdown",
   "metadata": {
    "slideshow": {
     "slide_type": "subslide"
    },
    "tags": []
   },
   "source": [
    "**MidJoruney**\n",
    "\n",
    "[Crea Arte con MidJourney](https://www.midjourney.com/home/?callbackUrl=https%3A%2F%2Fwww.midjourney.com%2Faccount%2F%3FcallbackUrl%3D%252Fpub%252Ffeed%252F%253FcallbackUrl%253D%25252Fapp%25252F)\n"
   ]
  },
  {
   "cell_type": "markdown",
   "metadata": {
    "slideshow": {
     "slide_type": "fragment"
    },
    "tags": []
   },
   "source": [
    "**Modelos Abiertos**\n",
    "\n",
    "<center><a href=\"https://github.com/huggingface/diffusers\"><img src=\"../imagenes/diffusers_library_hf.jpg\" alt=\"Dif_Model_HF\"></a></center>"
   ]
  },
  {
   "cell_type": "markdown",
   "metadata": {
    "slideshow": {
     "slide_type": "subslide"
    },
    "tags": []
   },
   "source": [
    "### <span style=\"color:#4CC9F0\">Hugging Face: Acercando la IA a las personas</span>"
   ]
  },
  {
   "cell_type": "markdown",
   "metadata": {},
   "source": [
    "- [¿Qué puede hacer un Transformer?](https://colab.research.google.com/github/huggingface/notebooks/blob/master/course/chapter1/section3.ipynb)\n",
    "\n",
    "<center><img src=\"../imagenes/hf-logo-with-title.png\" alt=\"HF\" style=\"width:850px;height:230px;\"></center>"
   ]
  },
  {
   "cell_type": "markdown",
   "metadata": {
    "slideshow": {
     "slide_type": "subslide"
    },
    "tags": []
   },
   "source": [
    "**AlphaFold 2**\n",
    "\n",
    "<center><a href=\"https://www.deepmind.com/blog/predicting-the-past-with-ithaca\"><img src=\"../imagenes/alphafold_2.jpeg\" alt=\"AlphaFold2\" style=\"width:550px;height:300px;\"></a></center>\n",
    "\n",
    "Fuente: [DeepMind AlphaFold 2](https://www.deepmind.com/research/highlighted-research/alphafold)"
   ]
  },
  {
   "cell_type": "markdown",
   "metadata": {
    "slideshow": {
     "slide_type": "slide"
    },
    "tags": []
   },
   "source": [
    "### <span style=\"color:#4CC9F0\">Autoencoders Variacionales + Transformers $\\to$ Jukebox</span>"
   ]
  },
  {
   "cell_type": "markdown",
   "metadata": {},
   "source": [
    "¿Generación de canciones automáticas?"
   ]
  },
  {
   "cell_type": "markdown",
   "metadata": {},
   "source": [
    "<audio controls>\n",
    "    <source src=\"../Audios/test.mp3\" type=\"audio/mpeg\">\n",
    "</audio>"
   ]
  },
  {
   "cell_type": "markdown",
   "metadata": {},
   "source": [
    "[![Jukebox](../imagenes/jukebox.jpg)](https://openai.com/blog/jukebox/)\n",
    "\n",
    "Fuente:  [Computer Hoy](https://cdn.computerhoy.com/sites/navi.axelspringer.es/public/styles/1200/public/media/image/2020/05/inteligencia-artificial-openai-ya-compone-canciones-suenan-como-sinatra-katy-perry-elvis-presley-1933931.jpg?itok=oE8ErHL4)"
   ]
  },
  {
   "cell_type": "markdown",
   "metadata": {
    "slideshow": {
     "slide_type": "subslide"
    },
    "tags": []
   },
   "source": [
    "**Beethoven, Sinfonía No. 10**\n",
    "\n",
    "<center>\n",
    "<iframe width=\"853\" height=\"480\" src=\"https://www.youtube.com/embed/Rvj3Oblscqw\" title=\"Beethoven X: The AI Project: Full Audio (Played By The Beethoven Orchestra Of Bonn)\" frameborder=\"0\" allow=\"accelerometer; autoplay; clipboard-write; encrypted-media; gyroscope; picture-in-picture\" allowfullscreen></iframe>\n",
    "</center>"
   ]
  },
  {
   "cell_type": "markdown",
   "metadata": {
    "slideshow": {
     "slide_type": "slide"
    },
    "tags": []
   },
   "source": [
    "### <span style=\"color:#4CC9F0\">GANS (Redes Generativas) $\\to$ Personas</span>"
   ]
  },
  {
   "cell_type": "markdown",
   "metadata": {},
   "source": [
    "**¿Qué tienen en común TODAS las siguientes personas?**\n",
    "\n",
    "![Fake Faces](../imagenes/fake_faces.png)\n",
    "\n",
    "Fuente: [\"..People, Cars, and Cats\"](https://towardsdatascience.com/using-artificial-intelligence-to-create-people-cars-and-cats-5117189d0625)\n",
    "\n",
    "\n",
    "\n",
    "**Modelos Generativos (Ejemplo de OpenAI):** [Glow: Better Reversible Generative Models](https://openai.com/blog/glow/)"
   ]
  },
  {
   "cell_type": "markdown",
   "metadata": {},
   "source": [
    "**Juego:** [Ser o no ser](https://www.whichfaceisreal.com/)"
   ]
  },
  {
   "cell_type": "markdown",
   "metadata": {},
   "source": [
    "Noticia: [El comercio](https://www.elcomercio.com/afull/barackobama-fakenews-buzzfeed-inteligenciaartificial-viral.html)"
   ]
  },
  {
   "cell_type": "markdown",
   "metadata": {
    "slideshow": {
     "slide_type": "subslide"
    },
    "tags": []
   },
   "source": [
    "### <span style=\"color:#4CC9F0\">Mezcla de Tecnologías $\\to$ Entrevistas con personas del más allá</span>"
   ]
  },
  {
   "cell_type": "markdown",
   "metadata": {},
   "source": [
    " - GPT-3\n",
    " - Speaker encoder network\n",
    " - Sequence-to-sequence\n",
    " - Auto-regressive WaveNet-based vocoder network"
   ]
  },
  {
   "cell_type": "markdown",
   "metadata": {},
   "source": [
    "<center>\n",
    "<iframe width=\"830\" height=\"450\" src=\"https://www.youtube.com/embed/LzE2pJbuYRk\" title=\"YouTube video player\" frameborder=\"0\" allow=\"accelerometer; autoplay; clipboard-write; encrypted-media; gyroscope; picture-in-picture\" allowfullscreen></iframe>\n",
    "</center>"
   ]
  },
  {
   "cell_type": "markdown",
   "metadata": {
    "slideshow": {
     "slide_type": "subslide"
    },
    "tags": []
   },
   "source": [
    "### <span style=\"color:#4CC9F0\"> Mezcla de Tecnologías $\\to$ AI vs AI</span>"
   ]
  },
  {
   "cell_type": "markdown",
   "metadata": {},
   "source": [
    "<center>\n",
    "<iframe width=\"853\" height=\"480\" src=\"https://www.youtube.com/embed/jz78fSnBG0s\" title=\"YouTube video player\" frameborder=\"0\" allow=\"accelerometer; autoplay; clipboard-write; encrypted-media; gyroscope; picture-in-picture\" allowfullscreen></iframe>\n",
    "</center>"
   ]
  },
  {
   "cell_type": "markdown",
   "metadata": {
    "slideshow": {
     "slide_type": "slide"
    },
    "tags": []
   },
   "source": [
    "## <span style=\"color:#4361EE\">Aprendizaje Reforzado</span>"
   ]
  },
  {
   "cell_type": "markdown",
   "metadata": {},
   "source": [
    "¡Juguemos a las escondidas!\n",
    "\n",
    "<center><a href=\"https://openai.com/blog/emergent-tool-use\"><img src=\"../imagenes/hide_and_seek.jpg\" alt=\"Hide and Seek\" style=\"width:650px;height:400px;\"></a></center>\n",
    "\n",
    "Fuente: [Emergent Tool Use from Multi-Agent Interaction](https://openai.com/blog/emergent-tool-use/#simple-ramp-defense)"
   ]
  },
  {
   "cell_type": "markdown",
   "metadata": {
    "slideshow": {
     "slide_type": "subslide"
    },
    "tags": []
   },
   "source": [
    "**Ithaca**\n",
    "\n",
    "<center><a href=\"https://www.deepmind.com/blog/predicting-the-past-with-ithaca\"><img src=\"../imagenes/ithaca.gif\" alt=\"Hide and Seek\" style=\"width:750px;height:300px;\"></a></center>\n",
    "\n",
    "Fuente: [DeepMind](https://www.deepmind.com/blog/predicting-the-past-with-ithaca)"
   ]
  },
  {
   "cell_type": "markdown",
   "metadata": {
    "slideshow": {
     "slide_type": "slide"
    },
    "tags": []
   },
   "source": [
    "## <span style=\"color:#4361EE\"><center>Y esto es sólo el comienzo...</center></span>\n",
    "## <span style=\"color:#4361EE\"><center>¡Bienvenidos y Gracias!</center></span>\n",
    "\n",
    "<figure>\n",
    "<img src=\"../imagenes/logo-final-ap.png\"  width=\"80\" height=\"80\" align=\"right\"/> \n",
    "</figure>"
   ]
  }
 ],
 "metadata": {
  "kernelspec": {
   "display_name": "Python 3 (ipykernel)",
   "language": "python",
   "name": "python3"
  },
  "language_info": {
   "codemirror_mode": {
    "name": "ipython",
    "version": 3
   },
   "file_extension": ".py",
   "mimetype": "text/x-python",
   "name": "python",
   "nbconvert_exporter": "python",
   "pygments_lexer": "ipython3",
   "version": "3.9.15"
  }
 },
 "nbformat": 4,
 "nbformat_minor": 4
}
