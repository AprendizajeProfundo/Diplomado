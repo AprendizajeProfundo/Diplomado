{
 "cells": [
  {
   "cell_type": "markdown",
   "id": "e17872b7-6436-4310-a263-c624d9b1419a",
   "metadata": {
    "slideshow": {
     "slide_type": "slide"
    },
    "tags": []
   },
   "source": [
    "<figure>\n",
    "<img src=\"../imagenes/logo-final-ap.png\"  width=\"80\" height=\"80\" align=\"left\"/> \n",
    "</figure>\n",
    "\n",
    "# <span style=\"color:#4361EE\"><left>Aprendizaje Profundo</left></span>"
   ]
  },
  {
   "cell_type": "markdown",
   "id": "9410923b-9f52-40c6-9563-a390ef1708f6",
   "metadata": {},
   "source": [
    "# <span style=\"color:red\"><center>Diplomado en Inteligencia Artificial y Aprendizaje Profundo</center></span>"
   ]
  },
  {
   "cell_type": "markdown",
   "id": "57651359-ff3d-4546-ab3c-95301cdf3a9a",
   "metadata": {},
   "source": [
    "## <span style=\"color:green\"><center>Claves de su Desarrollo<center></span>"
   ]
  },
  {
   "cell_type": "markdown",
   "id": "4ddeb884-363c-4775-a668-db297bef7414",
   "metadata": {
    "slideshow": {
     "slide_type": "slide"
    },
    "tags": []
   },
   "source": [
    "<figure>\n",
    "<center>\n",
    "<img src=\"../imagenes/ai-in-education.jpg\" width=\"800\" height=\"800\" align=\"center\" /> \n",
    "</center>   \n",
    "</figure>\n",
    "\n",
    "Fuente: [Unesco: educación e inteligencia artificial](https://es.unesco.org/themes/tic-educacion/inteligencia-artificial)"
   ]
  },
  {
   "cell_type": "markdown",
   "id": "e636f1bf-755b-4bfb-b0d5-cacae05a2f98",
   "metadata": {
    "slideshow": {
     "slide_type": "slide"
    },
    "tags": []
   },
   "source": [
    "## <span style=\"color:#4361EE\">Profesores</span>"
   ]
  },
  {
   "cell_type": "markdown",
   "id": "e9a6de76-7919-488c-8a17-cd6d93d06d4d",
   "metadata": {},
   "source": [
    "1. Alvaro  Montenegro, PhD, ammontenegrod@unal.edu.co\n",
    "1. Camilo José Torres Jiménez, Msc, cjtorresj@unal.edu.co\n",
    "1. Daniel  Montenegro, Msc, dextronomo@gmail.com "
   ]
  },
  {
   "cell_type": "markdown",
   "id": "7ea99b3b-15d3-4bd1-9931-ac0b8baa8470",
   "metadata": {
    "slideshow": {
     "slide_type": "subslide"
    },
    "tags": []
   },
   "source": [
    "## <span style=\"color:#4361EE\">Asesora Medios y Marketing digital</span>"
   ]
  },
  {
   "cell_type": "markdown",
   "id": "cb8f6bb5-69b7-4597-988f-3ddf94dccbf2",
   "metadata": {},
   "source": [
    "4. Maria del Pilar Montenegro, pmontenegro88@gmail.com\n",
    "5. Jessica López Mejía, jelopezme@unal.edu.co"
   ]
  },
  {
   "cell_type": "markdown",
   "id": "e2690da1-f6ea-44ea-b9e1-8d2b8bed2058",
   "metadata": {
    "slideshow": {
     "slide_type": "subslide"
    },
    "tags": []
   },
   "source": [
    "## <span style=\"color:#4361EE\">Jefe Jurídica</span>"
   ]
  },
  {
   "cell_type": "markdown",
   "id": "28bb7770-8bab-4592-ab8a-3ba79643ea36",
   "metadata": {},
   "source": [
    "6. Paula Andrea Guzmán, guzmancruz.paula@gmail.com"
   ]
  },
  {
   "cell_type": "markdown",
   "id": "4bb0ea83-b02a-4ea0-9e77-9746ae80e03d",
   "metadata": {
    "tags": []
   },
   "source": [
    "## <span style=\"color:#4361EE\">Coordinador Jurídico</span>"
   ]
  },
  {
   "cell_type": "markdown",
   "id": "16ae33fb-43e2-47c8-8ffd-a31184679e23",
   "metadata": {},
   "source": [
    "7. David Fuentes, fuentesd065@gmail.com"
   ]
  },
  {
   "cell_type": "markdown",
   "id": "797bb196-3592-4af4-8171-71d77097a788",
   "metadata": {
    "slideshow": {
     "slide_type": "subslide"
    },
    "tags": []
   },
   "source": [
    "## <span style=\"color:#4361EE\">Desarrolladores Principales</span>"
   ]
  },
  {
   "cell_type": "markdown",
   "id": "c3f9482c-e007-43c3-a3d7-4b30b164323b",
   "metadata": {},
   "source": [
    "8. Dairo Moreno, damoralesj@unal.edu.co\n",
    "9. Joan Castro, jocastroc@unal.edu.co\n",
    "10. Bryan Riveros, briveros@unal.edu.co\n",
    "11. Rosmer Vargas, rovargasc@unal.edu.co\n",
    "12. Venus Puertas, vpuertasg@unal.edu.co"
   ]
  },
  {
   "cell_type": "markdown",
   "id": "be9ebf7a-4ead-439a-903b-920bf57093e1",
   "metadata": {
    "slideshow": {
     "slide_type": "fragment"
    },
    "tags": []
   },
   "source": [
    "## <span style=\"color:#4361EE\">Expertos en Bases de Datos</span>"
   ]
  },
  {
   "cell_type": "markdown",
   "id": "f0c02c82-1a80-421b-b4a3-ce910df26bf9",
   "metadata": {},
   "source": [
    "13. Giovvani Barrera, udgiovanni@gmail.com\n",
    "14. Camilo Chitivo, cchitivo@unal.edu.co"
   ]
  },
  {
   "cell_type": "markdown",
   "id": "031de4c1-11e9-4249-8bcf-20d944a6de78",
   "metadata": {
    "slideshow": {
     "slide_type": "subslide"
    },
    "tags": []
   },
   "source": [
    "## <span style=\"color:#4361EE\">Referencias</span>"
   ]
  },
  {
   "cell_type": "markdown",
   "id": "cf76ef42-6bdc-4ca3-8ec3-574c38814691",
   "metadata": {},
   "source": [
    "1. [Alvaro Montenegro y Daniel Montenegro, Inteligencia Artificial y Aprendizaje Profundo, 2021](https://github.com/AprendizajeProfundo/Diplomado)\n",
    "1. [Unesco: educación e inteligencia artificial](https://es.unesco.org/themes/tic-educacion/inteligencia-artificial)"
   ]
  },
  {
   "cell_type": "markdown",
   "id": "a8a903e8-f7c1-407d-afaf-4f778217d4e5",
   "metadata": {
    "slideshow": {
     "slide_type": "slide"
    },
    "tags": []
   },
   "source": [
    "## <span style=\"color:#4361EE\">Contenido</span>"
   ]
  },
  {
   "cell_type": "markdown",
   "id": "05328399-bbd5-4dcf-b5cf-a5af006b63d0",
   "metadata": {},
   "source": [
    "* [Introducción](#Introducción)\n",
    "* [Transformación digital](#Transformación-digital)\n",
    "* [Matemáticas](#Matemáticas)\n",
    "* [Transformación de problemas](#Transformación-de-problemas)\n",
    "* [Tecnologías para el trabajo en IA](#Tecnologías-para-el-trabajo-en-IA)\n",
    "* [El ciclo de la IA](#El-ciclo-de-la-IA)"
   ]
  },
  {
   "cell_type": "markdown",
   "id": "afe895d3-c25d-49d7-9b47-ff4835ba2b95",
   "metadata": {
    "slideshow": {
     "slide_type": "slide"
    },
    "tags": []
   },
   "source": [
    "## <span style=\"color:#4361EE\">Introducción</span>"
   ]
  },
  {
   "cell_type": "markdown",
   "id": "2a1acf31-c61c-42c4-bfe8-f35b7496465b",
   "metadata": {
    "slideshow": {
     "slide_type": "slide"
    },
    "tags": []
   },
   "source": [
    "### <span style=\"color:#4CC9F0\">La Inteligencia Artificial en la Escuela. UNESCO</span>"
   ]
  },
  {
   "cell_type": "markdown",
   "id": "d548aef5-3a24-4dfe-a019-f0a6ccb3c75f",
   "metadata": {},
   "source": [
    "#### Consenso de Beijing\n",
    "* Promover una utilización equitativa e inclusiva de la IA en la educación;\n",
    "* Una IA que respete la equidad entre géneros y favorable a la igualdad de géneros;\n",
    "* Velar por una utilización ética, transparente y comprobable de los datos y algoritmos de la educación;\n",
    "* Seguimiento, evaluación e investigación."
   ]
  },
  {
   "cell_type": "markdown",
   "id": "f86d5d38-af80-4a75-ae52-e0ab4309f49b",
   "metadata": {},
   "source": [
    "<figure>\n",
    "<center>\n",
    "<img src=\"../imagenes/ai-in-education-2.jpg\" style=\"width:550px;height:250px;\"/> \n",
    "</center>   \n",
    "</figure>\n",
    "\n",
    "Fuente: [Unesco: educación e inteligencia artificial](https://es.unesco.org/themes/tic-educacion/inteligencia-artificial)"
   ]
  },
  {
   "cell_type": "markdown",
   "id": "a1832b96-9292-406e-bef3-b502e65af903",
   "metadata": {
    "slideshow": {
     "slide_type": "slide"
    },
    "tags": []
   },
   "source": [
    "## <span style=\"color:#4361EE\">Transformación digital</span>"
   ]
  },
  {
   "cell_type": "markdown",
   "id": "124aff60-60f0-4fdb-9aa5-548def67ce66",
   "metadata": {
    "tags": []
   },
   "source": [
    "<figure>\n",
    "<center>\n",
    "<img src=\"../imagenes/digital_transformation.jpg\"  width=\"200\" height=\"200\" align=\"center\" /> \n",
    "</center>   \n",
    "</figure>\n",
    "\n",
    "Fuente: [Pexeles](https://www.pexels.com/es-es/buscar/trasformacion%20digital/)\n"
   ]
  },
  {
   "cell_type": "markdown",
   "id": "c5076d59-1d60-4ee0-bf55-0d2160a29919",
   "metadata": {
    "slideshow": {
     "slide_type": "slide"
    },
    "tags": []
   },
   "source": [
    "## <span style=\"color:#4361EE\">Digitalización de documentos</span>"
   ]
  },
  {
   "cell_type": "markdown",
   "id": "5d714264-7b11-44b2-af9e-d54c8cbe5427",
   "metadata": {
    "tags": []
   },
   "source": [
    "<img src=\"../imagenes/internet_archive_book_scanner.jpg\" width=\"380\" height=\"300\" align=\"left\"/>\n",
    "<img src=\"../imagenes/dunhuang_manuscript_digitisation.jpg\" width=\"380\" height=\"600\" align=\"right\"/>"
   ]
  },
  {
   "cell_type": "markdown",
   "id": "657a10df-7d34-4c1e-81ea-89a2a5df816e",
   "metadata": {
    "slideshow": {
     "slide_type": "slide"
    },
    "tags": []
   },
   "source": [
    "## <span style=\"color:#4361EE\">Matemáticas</span>"
   ]
  },
  {
   "cell_type": "markdown",
   "id": "c31414ad-34cc-40fb-bf75-26b77520a8ec",
   "metadata": {
    "slideshow": {
     "slide_type": "slide"
    },
    "tags": []
   },
   "source": [
    "### <span style=\"color:#4CC9F0\">Tensores</span>"
   ]
  },
  {
   "cell_type": "markdown",
   "id": "5ed01eb5-f61c-4e11-bd02-603d7f479082",
   "metadata": {},
   "source": [
    "<center>\n",
    "<img src=\"../imagenes/ten_tensores.jpg\" width=\"600\" height=\"600\" align=\"center\"/>\n",
    "</center>\n",
    "\n",
    "Fuente: Alvaro Montenegro"
   ]
  },
  {
   "cell_type": "markdown",
   "id": "13cdf148-30d1-44a7-a6c2-42c6d60016d2",
   "metadata": {
    "slideshow": {
     "slide_type": "slide"
    },
    "tags": []
   },
   "source": [
    "<center>\n",
    "<img src=\"../imagenes/ten_tensor_4_d.jpg\" width=\"600\" height=\"600\" align=\"center\"/>\n",
    "</center>\n",
    "\n",
    "Fuente: Alvaro Montenegro"
   ]
  },
  {
   "cell_type": "markdown",
   "id": "af0c0f34-f8dd-4187-b1bb-29860d634997",
   "metadata": {
    "slideshow": {
     "slide_type": "slide"
    },
    "tags": []
   },
   "source": [
    "### <span style=\"color:#4CC9F0\">Diferenciación Automática</span>"
   ]
  },
  {
   "cell_type": "markdown",
   "id": "7ccc7678-3f6a-443c-af6e-edf0e41c3b9e",
   "metadata": {},
   "source": [
    "<figure>\n",
    "<center>\n",
    "<img src=\"../imagenes/automaticdifferentiationnutshell.png\" width=\"600\" height=\"600\"/> \n",
    "</center>   \n",
    "</figure>\n",
    "\n",
    "Fuente: [Wikipedia](https://en.wikipedia.org/wiki/Automatic_differentiation)"
   ]
  },
  {
   "cell_type": "markdown",
   "id": "bf0dbf52-77ff-4923-b1d8-dee14709a25d",
   "metadata": {
    "slideshow": {
     "slide_type": "slide"
    },
    "tags": []
   },
   "source": [
    "### <span style=\"color:#4CC9F0\">Optimización a gran escala. Gradiente Estocástico Descendiente</span>"
   ]
  },
  {
   "cell_type": "markdown",
   "id": "064b01be-17d4-491f-b49f-d2c5edebee78",
   "metadata": {},
   "source": [
    "GPT-3, el moelo de lenguaje natural de OpenAI tiene 175 mil millones  de parámetros."
   ]
  },
  {
   "cell_type": "markdown",
   "id": "e0b59f02-d17f-4db6-a8eb-23d807f25b72",
   "metadata": {},
   "source": [
    "<img src=\"../imagenes/gradient_ascent.png\" width=\"380\" height=\"400\" align=\"left\"/>\n",
    "<img src=\"../imagenes/adam_msprop.png\" width=\"380\" height=\"600\" align=\"right\"/>"
   ]
  },
  {
   "cell_type": "markdown",
   "id": "e7dfa7ea-4115-428e-9f19-fa24edaeeb61",
   "metadata": {
    "tags": []
   },
   "source": [
    "Función $F(x,y)= \\sin (\\tfrac{1}{2}x^2- \\tfrac{1}{4}y^2 +3) \\cos (2x+1 -e^y)$\n",
    "\n",
    "Fuente: [Wikipedia](https://en.wikipedia.org/wiki/Gradient_descent)"
   ]
  },
  {
   "cell_type": "markdown",
   "id": "efe4f270-4a54-4c8f-a0e7-9ae78b2a715a",
   "metadata": {
    "slideshow": {
     "slide_type": "slide"
    },
    "tags": []
   },
   "source": [
    "### <span style=\"color:#4CC9F0\">Convoluciones</span>"
   ]
  },
  {
   "cell_type": "markdown",
   "id": "9548fb65-8226-4ea0-9a00-ce7324844428",
   "metadata": {},
   "source": [
    "<figure>\n",
    "<center>\n",
    "<img src=\"../imagenes/convolution_discrete.png\" width=\"800\" height=\"700\"/> \n",
    "</center>   \n",
    "</figure>"
   ]
  },
  {
   "cell_type": "markdown",
   "id": "33f23b8d-58e0-4450-afc6-9d7000758701",
   "metadata": {
    "slideshow": {
     "slide_type": "slide"
    },
    "tags": []
   },
   "source": [
    "### <span style=\"color:#4CC9\">Estadística</span>"
   ]
  },
  {
   "cell_type": "markdown",
   "id": "f4ae1656-e010-4d90-86c9-99d026092cef",
   "metadata": {},
   "source": [
    "<img src=\"../imagenes/mod_reg2.jpg\" width=\"980\" height=\"1280\" align=\"center\"/>\n",
    "\n",
    "Fuente: Daniel Montenegro"
   ]
  },
  {
   "cell_type": "markdown",
   "id": "fd196ec7-9d91-436c-91a3-1c46e438d7f9",
   "metadata": {
    "slideshow": {
     "slide_type": "slide"
    },
    "tags": []
   },
   "source": [
    "### <span style=\"color:#4CC9F0\">Máquinas de Aprendizaje</span>"
   ]
  },
  {
   "cell_type": "markdown",
   "id": "861eb4c0-0d78-4cc4-bfe9-a1935934ce3d",
   "metadata": {},
   "source": [
    "![Digi1](../imagenes/mod_machine-learning-map.png)"
   ]
  },
  {
   "cell_type": "markdown",
   "id": "22cb4029-e431-4557-bd8d-13318ecf81ae",
   "metadata": {
    "slideshow": {
     "slide_type": "slide"
    },
    "tags": []
   },
   "source": [
    "### <span style=\"color:#4CC9F0\">Redes Neuronales Artificiales</span>"
   ]
  },
  {
   "cell_type": "markdown",
   "id": "5274f930-ff65-466b-bad4-39358576fe7d",
   "metadata": {},
   "source": [
    "Una red neuronal artificial es una función $f$ que transforma tensores en tensores:\n",
    "\n",
    "$$\n",
    "\\large{f: \\mathbb{R}^n \\to \\mathbb{R}^m}\n",
    "$$\n",
    "\n",
    "![Bain](../imagenes/gray_color_mayon.png)"
   ]
  },
  {
   "cell_type": "markdown",
   "id": "5d041f4c-9d12-4d60-a31e-57a4df862071",
   "metadata": {
    "slideshow": {
     "slide_type": "slide"
    },
    "tags": []
   },
   "source": [
    "### <span style=\"color:#4CC9F0\">Analogía con el cerebro</span>"
   ]
  },
  {
   "cell_type": "markdown",
   "id": "828b9df1-40cf-402f-9e6c-8718071ba2be",
   "metadata": {},
   "source": [
    "<img src=\"../imagenes/brain_areas.png\" width=\"380\" height=\"500\" align=\"left\"/>\n",
    "<img src=\"../imagenes/../imagenes/neurona_artificial.png\" width=\"380\" height=\"500\" align=\"right\"/>"
   ]
  },
  {
   "cell_type": "markdown",
   "id": "1ee9f19d-ce89-438c-b709-15415e298608",
   "metadata": {},
   "source": [
    "Fuente: Álvaro Montenegro (Imagen de la derecha)"
   ]
  },
  {
   "cell_type": "markdown",
   "id": "1d11f99e-50fb-4689-8c50-4bfdd28b1e6c",
   "metadata": {
    "slideshow": {
     "slide_type": "slide"
    },
    "tags": []
   },
   "source": [
    "### <span style=\"color:#4CC9F0\">Red Neuronal</span>"
   ]
  },
  {
   "cell_type": "markdown",
   "id": "bf50dafe-8077-4a05-b37a-ece5a850889d",
   "metadata": {},
   "source": [
    "![Capa oculta](../imagenes/ann_capa_oculta.png)"
   ]
  },
  {
   "cell_type": "markdown",
   "id": "edc2269a-b321-433b-a7d1-d6df394c8d86",
   "metadata": {
    "slideshow": {
     "slide_type": "slide"
    },
    "tags": []
   },
   "source": [
    "## <span style=\"color:#4361EE\">Transformación de problemas</span>"
   ]
  },
  {
   "cell_type": "markdown",
   "id": "cc92e77b-6ace-48aa-86cf-298e6d53be0a",
   "metadata": {
    "slideshow": {
     "slide_type": "slide"
    },
    "tags": []
   },
   "source": [
    "### <span style=\"color:#4CC9F0\">Tratamiento de una imagen</span>"
   ]
  },
  {
   "cell_type": "markdown",
   "id": "a028517e-80bf-40ca-ac0c-d782c36a998d",
   "metadata": {},
   "source": [
    "![zeus](../imagenes/zeus.jpg)\n",
    "\n",
    "Fuente: Alvaro  Montenegro"
   ]
  },
  {
   "cell_type": "markdown",
   "id": "9b2da6a9-6132-48ca-9adf-d642768136b6",
   "metadata": {
    "slideshow": {
     "slide_type": "slide"
    },
    "tags": []
   },
   "source": [
    "### <span style=\"color:#4CC9F0\">Video a tensor</span>"
   ]
  },
  {
   "cell_type": "markdown",
   "id": "7cda742f-e062-4d5b-8d6f-4d335e636391",
   "metadata": {},
   "source": [
    "<figure>\n",
    "<center>\n",
    "<img src=\"../imagenes/video2tensor.jpg\" width=\"700\" height=\"600\"/> \n",
    "</center>   \n",
    "</figure>"
   ]
  },
  {
   "cell_type": "markdown",
   "id": "177ea86f-bf0f-4f16-b374-6a056dc6f10f",
   "metadata": {
    "slideshow": {
     "slide_type": "slide"
    },
    "tags": []
   },
   "source": [
    "### <span style=\"color:#4CC9F0\">Texto a tensor: Sumergimiento de palabras</span>"
   ]
  },
  {
   "cell_type": "markdown",
   "id": "2fff12c6-e0bf-41ce-aedd-c504d0ca91a1",
   "metadata": {},
   "source": [
    "<figure>\n",
    "<center>\n",
    "<img src=\"../imagenes/word_embedding_2.jpg\" width=\"800\" height=\"700\"/> \n",
    "</center>   \n",
    "</figure>"
   ]
  },
  {
   "cell_type": "markdown",
   "id": "9bc2e4b3-e882-4a9e-a1ba-fe999195d906",
   "metadata": {
    "slideshow": {
     "slide_type": "slide"
    },
    "tags": []
   },
   "source": [
    "## <span style=\"color:#4361EE\">Tecnología</span>"
   ]
  },
  {
   "cell_type": "markdown",
   "id": "1f4fea4d-b6fb-4b87-a404-c4be09805f32",
   "metadata": {
    "slideshow": {
     "slide_type": "slide"
    },
    "tags": []
   },
   "source": [
    "### <span style=\"color:#4CC9F0\">Hardware tradicional : CPU, GPU</span>"
   ]
  },
  {
   "cell_type": "markdown",
   "id": "d79054d5-d9e0-4bc0-8e8b-584ce93f2b5f",
   "metadata": {},
   "source": [
    "<img src=\"../imagenes/cpu.jpg\" width=\"380\" height=\"300\" align=\"left\"/>\n",
    "<img src=\"../imagenes/gpu.jpg\" width=\"380\" height=\"300\" align=\"left\"/>"
   ]
  },
  {
   "cell_type": "markdown",
   "id": "7993179f-05ad-4eb8-8326-41ad14f717b1",
   "metadata": {
    "slideshow": {
     "slide_type": "slide"
    },
    "tags": []
   },
   "source": [
    "### <span style=\"color:#4CC9F0\">Hardware moderno : TPU, Cerebras</span>"
   ]
  },
  {
   "cell_type": "markdown",
   "id": "808ea59c-3aa2-4576-b445-b3904f952db1",
   "metadata": {},
   "source": [
    "<center>\n",
    "<img src=\"../imagenes/tpu.png\" width=\"480\" height=\"400\" align=\"center\"/>\n",
    "</center>\n",
    "<center>\n",
    "<img src=\"../imagenes/cerebras.png\" width=\"380\" height=\"400\" align=\"center\"/>\n",
    "</center>"
   ]
  },
  {
   "cell_type": "markdown",
   "id": "c1ce7a23-cd15-4a38-9897-d6bb39fd02d8",
   "metadata": {
    "slideshow": {
     "slide_type": "slide"
    },
    "tags": []
   },
   "source": [
    "### <span style=\"color:#4CC9F0\">Computación en la nube</span>"
   ]
  },
  {
   "cell_type": "markdown",
   "id": "ecddd2c9-3c3b-4162-8d45-d7ff2fc7773c",
   "metadata": {},
   "source": [
    "<figure>\n",
    "<center>\n",
    "<img src=\"../imagenes/cloud_computing-es.svg.png\" width=\"600\" height=\"500\"/> \n",
    "</center>   \n",
    "</figure>"
   ]
  },
  {
   "cell_type": "markdown",
   "id": "eb1c7c34-106b-4d62-9b6d-af236b76c3e1",
   "metadata": {
    "slideshow": {
     "slide_type": "slide"
    },
    "tags": []
   },
   "source": [
    "### <span style=\"color:#4CC9F0\">Big data</span>"
   ]
  },
  {
   "cell_type": "markdown",
   "id": "08a02cb6-93d8-4763-9ae6-a82d2be92491",
   "metadata": {},
   "source": [
    "<figure>\n",
    "<center>\n",
    "<img src=\"../imagenes/apache-spark.png\" width=\"600\" height=\"400\" align=\"center\"/> \n",
    "</center>   \n",
    "</figure>"
   ]
  },
  {
   "cell_type": "markdown",
   "id": "db3d50c6-bf2b-4b4d-b135-6050092d6ad1",
   "metadata": {
    "slideshow": {
     "slide_type": "slide"
    },
    "tags": []
   },
   "source": [
    "### <span style=\"color:#4CC9F0\">Programación: ciencia de datos, redes neuronales</span>"
   ]
  },
  {
   "cell_type": "markdown",
   "id": "7570b6c2-8b9b-48bd-a5d2-1f764e5b04b1",
   "metadata": {},
   "source": [
    "<figure>\n",
    "<center>\n",
    "<img src=\"../imagenes/frameworks.jpg\" width=\"800\" height=\"800\"/> \n",
    "</center>   \n",
    "</figure>"
   ]
  },
  {
   "cell_type": "markdown",
   "id": "fc52ce75-03df-4fc8-bf2b-5775ddf039b8",
   "metadata": {
    "slideshow": {
     "slide_type": "slide"
    },
    "tags": []
   },
   "source": [
    "## <span style=\"color:#4361EE\">Arquitecturas Neuronales Paradigma</span>"
   ]
  },
  {
   "cell_type": "markdown",
   "id": "8f6b31d6-72e3-4322-b21c-21e9120a0cdc",
   "metadata": {
    "slideshow": {
     "slide_type": "slide"
    },
    "tags": []
   },
   "source": [
    "### <span style=\"color:#4CC9F0\">Modelo Convolucional</span>"
   ]
  },
  {
   "cell_type": "markdown",
   "id": "c573dab4-fda2-43a5-8f1c-952ca3f82428",
   "metadata": {},
   "source": [
    "![](../imagenes/cnn-procedure.png)"
   ]
  },
  {
   "cell_type": "markdown",
   "id": "5c52a6fa-8709-4fbf-b52a-2f3afd425699",
   "metadata": {
    "slideshow": {
     "slide_type": "slide"
    },
    "tags": []
   },
   "source": [
    "### <span style=\"color:#4CC9F0\">Modelo Recurrente</span>"
   ]
  },
  {
   "cell_type": "markdown",
   "id": "0f67afdc-2b50-4f76-8a92-da7450c02f73",
   "metadata": {},
   "source": [
    "![](../imagenes/rnn-longtermdependencies.png)"
   ]
  },
  {
   "cell_type": "markdown",
   "id": "c7039faa-340a-4270-8153-b4121109e689",
   "metadata": {
    "slideshow": {
     "slide_type": "slide"
    },
    "tags": []
   },
   "source": [
    "### <span style=\"color:#4CC9F0\">Modelo Atencional: Transformers</span>"
   ]
  },
  {
   "cell_type": "markdown",
   "id": "536b6f04-411f-41f1-a7a5-9e84aa5c3644",
   "metadata": {},
   "source": [
    "<figure>\n",
    "<center>\n",
    "<img src=\"../imagenes/transformer.png\" width=\"380\" height=\"250\"/> \n",
    "</center>   \n",
    "</figure>"
   ]
  },
  {
   "cell_type": "markdown",
   "id": "9c497ecc-19f8-4cf7-8471-f7a8ea980152",
   "metadata": {
    "slideshow": {
     "slide_type": "slide"
    },
    "tags": []
   },
   "source": [
    "### <span style=\"color:#4CC9F0\">Transferencia de conocimiento</span>"
   ]
  },
  {
   "cell_type": "markdown",
   "id": "ee6206fb-282c-449d-99ef-0cbcbf88b808",
   "metadata": {},
   "source": [
    "<figure>\n",
    "<center>\n",
    "<img src=\"../imagenes/bert.jpg\" width=\"800\" height=\"800\"/> \n",
    "</center>   \n",
    "</figure>"
   ]
  },
  {
   "cell_type": "markdown",
   "id": "b61bc69b-c415-4595-ad60-99261d5e8087",
   "metadata": {
    "slideshow": {
     "slide_type": "slide"
    },
    "tags": []
   },
   "source": [
    "## <span style=\"color:#4361EE\">¿Qué es la IA moderna?</span>"
   ]
  },
  {
   "cell_type": "markdown",
   "id": "ecff4362-82d1-4b06-a665-be8f62679d0d",
   "metadata": {},
   "source": [
    "1. Una Inteligencia Artificial es un objeto de software que es capaz de\n",
    "    + Recibir entrenamiento\n",
    "    + Recibir y transformar señales sensoriales de un ambiente (entrada sensorial)\n",
    "    + Procesar las entrada recibidas y entregar una respuesta discreta o continua, multidimenisional (cerebro)\n",
    "    + Tomar decisiones con base en las respuestas recibidas"
   ]
  },
  {
   "cell_type": "markdown",
   "id": "3ca47ecf-332c-4a54-92bf-d8caca1a11ab",
   "metadata": {
    "slideshow": {
     "slide_type": "slide"
    },
    "tags": []
   },
   "source": [
    "## <span style=\"color:#4361EE\">El ciclo de la IA</span>"
   ]
  },
  {
   "cell_type": "markdown",
   "id": "87588da7-6d22-4223-ae64-1ab6a20f42a3",
   "metadata": {},
   "source": [
    "![ciclo ia](../imagenes/ciclo-ia.jpg)"
   ]
  },
  {
   "cell_type": "markdown",
   "id": "ec960cb5-77be-42d2-844a-bfc15e96f33a",
   "metadata": {},
   "source": [
    "<figure>\n",
    "<img src=\"../imagenes/logo-final-ap.png\"  width=\"80\" height=\"80\" align=\"right\"/> \n",
    "</figure>"
   ]
  }
 ],
 "metadata": {
  "kernelspec": {
   "display_name": "Python 3 (ipykernel)",
   "language": "python",
   "name": "python3"
  },
  "language_info": {
   "codemirror_mode": {
    "name": "ipython",
    "version": 3
   },
   "file_extension": ".py",
   "mimetype": "text/x-python",
   "name": "python",
   "nbconvert_exporter": "python",
   "pygments_lexer": "ipython3",
   "version": "3.10.9"
  }
 },
 "nbformat": 4,
 "nbformat_minor": 5
}
