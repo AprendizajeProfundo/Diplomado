{
 "cells": [
  {
   "cell_type": "markdown",
   "id": "e17872b7-6436-4310-a263-c624d9b1419a",
   "metadata": {
    "slideshow": {
     "slide_type": "slide"
    },
    "tags": []
   },
   "source": [
    "<figure>\n",
    "<img src=\"../Imagenes/logo-final-ap.png\"  width=\"80\" height=\"80\" align=\"left\"/> \n",
    "</figure>\n",
    "\n",
    "# <span style=\"color:blue\"><left>Aprendizaje Profundo</left></span>"
   ]
  },
  {
   "cell_type": "markdown",
   "id": "9410923b-9f52-40c6-9563-a390ef1708f6",
   "metadata": {},
   "source": [
    "# <span style=\"color:red\"><center>Ciencia de Datos</center></span>"
   ]
  },
  {
   "cell_type": "markdown",
   "id": "aea1b979-4ece-4af4-9308-6e1c9b6e50f4",
   "metadata": {},
   "source": [
    "<center>Claves de su desarrollo</center>"
   ]
  },
  {
   "cell_type": "markdown",
   "id": "c7190b1d-30b8-4330-9524-884ae4ff9820",
   "metadata": {
    "slideshow": {
     "slide_type": "slide"
    },
    "tags": []
   },
   "source": [
    "##   <span style=\"color:blue\">Autores</span>"
   ]
  },
  {
   "cell_type": "markdown",
   "id": "5d57825d-f6ad-474c-bf53-5a08d558968a",
   "metadata": {},
   "source": [
    "1. Alvaro Mauricio Montenegro Díaz, ammontenegrod@unal.edu.co\n",
    "1. Daniel Mauricio Montenegro Reyes, dextronomo@gmail.com "
   ]
  },
  {
   "cell_type": "markdown",
   "id": "237d0d00-2831-4194-a176-3c4b2c64e71d",
   "metadata": {
    "slideshow": {
     "slide_type": "subslide"
    },
    "tags": []
   },
   "source": [
    "## <span style=\"color:blue\">Asesora Medios y Marketing digital</span>"
   ]
  },
  {
   "cell_type": "markdown",
   "id": "1a2eaa1c-640f-4f72-9db2-44fe76265bc7",
   "metadata": {},
   "source": [
    "4. Maria del Pilar Montenegro, pmontenegro88@gmail.com "
   ]
  },
  {
   "cell_type": "markdown",
   "id": "2a0da79b-44dc-460c-ac1e-b71ade087a9c",
   "metadata": {
    "slideshow": {
     "slide_type": "slide"
    },
    "tags": []
   },
   "source": [
    "## <span style=\"color:blue\">Contenido</span>"
   ]
  },
  {
   "cell_type": "markdown",
   "id": "15195d1b-1dfc-4e35-a28d-5c6dad544252",
   "metadata": {},
   "source": [
    "* [Introducción](#Introducción)\n",
    "* [Digitalización de documentos](#Digitalización-de-documentos)\n",
    "* [Matemáticas](#Matemáticas)\n",
    "* [Transformación de problemas](#Transformación-de-problemas)\n",
    "* [Tecnología](#Tecnología)\n",
    "* [Arquitecturas Neuronales Paradigma](#Arquitecturas-Neuronales-Paradigma)"
   ]
  },
  {
   "cell_type": "markdown",
   "id": "afe895d3-c25d-49d7-9b47-ff4835ba2b95",
   "metadata": {
    "slideshow": {
     "slide_type": "slide"
    },
    "tags": []
   },
   "source": [
    "## <span style=\"color:blue\">Introducción</span>"
   ]
  },
  {
   "cell_type": "markdown",
   "id": "2a1acf31-c61c-42c4-bfe8-f35b7496465b",
   "metadata": {
    "slideshow": {
     "slide_type": "slide"
    },
    "tags": []
   },
   "source": [
    "###  La Inteligencia Artificial en la Escuela. UNESCO"
   ]
  },
  {
   "cell_type": "markdown",
   "id": "d548aef5-3a24-4dfe-a019-f0a6ccb3c75f",
   "metadata": {},
   "source": [
    "#### Consenso de Beijing\n",
    "* Promover una utilización equitativa e inclusiva de la IA en la educación;\n",
    "* Una IA que respete la equidad entre géneros y favorable a la igualdad de géneros;\n",
    "* Velar por una utilización ética, transparente y comprobable de los datos y algoritmos de la educación;\n",
    "* Seguimiento, evaluación e investigación."
   ]
  },
  {
   "cell_type": "markdown",
   "id": "f86d5d38-af80-4a75-ae52-e0ab4309f49b",
   "metadata": {},
   "source": [
    "<figure>\n",
    "<center>\n",
    "<img src=\"../Imagenes/ai-in-education.jpg\" style=\"width:600px;height:300px;\"/> \n",
    "</center>   \n",
    "</figure>"
   ]
  },
  {
   "cell_type": "markdown",
   "id": "47815890-5b20-446c-95a4-af3eac8bc5a4",
   "metadata": {
    "slideshow": {
     "slide_type": "slide"
    },
    "tags": []
   },
   "source": [
    "## <span style=\"color:blue\">Digitalización de documentos</span>"
   ]
  },
  {
   "cell_type": "markdown",
   "id": "5d714264-7b11-44b2-af9e-d54c8cbe5427",
   "metadata": {
    "slideshow": {
     "slide_type": "slide"
    },
    "tags": []
   },
   "source": [
    "<img src=\"../Imagenes/Internet_Archive_book_scanner.jpg\" width=\"380\" height=\"300\" align=\"left\"/>\n",
    "<img src=\"../Imagenes/Dunhuang_manuscript_digitisation.jpg\" width=\"380\" height=\"600\" align=\"right\"/>"
   ]
  },
  {
   "cell_type": "markdown",
   "id": "657a10df-7d34-4c1e-81ea-89a2a5df816e",
   "metadata": {
    "slideshow": {
     "slide_type": "slide"
    },
    "tags": []
   },
   "source": [
    "## <span style=\"color:blue\">Matemáticas</span>"
   ]
  },
  {
   "cell_type": "markdown",
   "id": "c31414ad-34cc-40fb-bf75-26b77520a8ec",
   "metadata": {
    "slideshow": {
     "slide_type": "slide"
    },
    "tags": []
   },
   "source": [
    "### Tensores"
   ]
  },
  {
   "cell_type": "markdown",
   "id": "5ed01eb5-f61c-4e11-bd02-603d7f479082",
   "metadata": {},
   "source": [
    "<center>\n",
    "<img src=\"../Imagenes/ten_tensores.jpg\" width=\"600\" height=\"600\" align=\"center\"/>\n",
    "</center>"
   ]
  },
  {
   "cell_type": "markdown",
   "id": "13cdf148-30d1-44a7-a6c2-42c6d60016d2",
   "metadata": {
    "slideshow": {
     "slide_type": "slide"
    },
    "tags": []
   },
   "source": [
    "<center>\n",
    "<img src=\"../Imagenes/ten_tensor_4_d.jpg\" width=\"600\" height=\"600\" align=\"center\"/>\n",
    "</center>"
   ]
  },
  {
   "cell_type": "markdown",
   "id": "af0c0f34-f8dd-4187-b1bb-29860d634997",
   "metadata": {
    "slideshow": {
     "slide_type": "slide"
    },
    "tags": []
   },
   "source": [
    "### Diferenciación Automática"
   ]
  },
  {
   "cell_type": "markdown",
   "id": "7ccc7678-3f6a-443c-af6e-edf0e41c3b9e",
   "metadata": {},
   "source": [
    "<figure>\n",
    "<center>\n",
    "<img src=\"../Imagenes/AutomaticDifferentiationNutshell.png\" width=\"600\" height=\"600\"/> \n",
    "</center>   \n",
    "</figure>"
   ]
  },
  {
   "cell_type": "markdown",
   "id": "bf0dbf52-77ff-4923-b1d8-dee14709a25d",
   "metadata": {
    "slideshow": {
     "slide_type": "slide"
    },
    "tags": []
   },
   "source": [
    "### Optimización a gran escala. Gradiente Estocástico Descendiente"
   ]
  },
  {
   "cell_type": "markdown",
   "id": "064b01be-17d4-491f-b49f-d2c5edebee78",
   "metadata": {},
   "source": [
    "GPT-3, el moelo de lenguaje natural de OpenAI tiene 175 mil millones  de parámetros."
   ]
  },
  {
   "cell_type": "markdown",
   "id": "20d494a8-d5d7-4fd6-bfc9-053365d63c47",
   "metadata": {},
   "source": [
    "<img src=\"../Imagenes/Gradient_ascent.png\" width=\"380\" height=\"400\" align=\"left\"/>\n",
    "<img src=\"../Imagenes/Adam_MsProp.png\" width=\"380\" height=\"600\" align=\"right\"/>"
   ]
  },
  {
   "cell_type": "markdown",
   "id": "efe4f270-4a54-4c8f-a0e7-9ae78b2a715a",
   "metadata": {
    "slideshow": {
     "slide_type": "skip"
    },
    "tags": []
   },
   "source": [
    "### Convoluciones"
   ]
  },
  {
   "cell_type": "markdown",
   "id": "9548fb65-8226-4ea0-9a00-ce7324844428",
   "metadata": {
    "slideshow": {
     "slide_type": "skip"
    },
    "tags": []
   },
   "source": [
    "<figure>\n",
    "<center>\n",
    "<img src=\"../Imagenes/Convolution_discrete.png\" width=\"800\" height=\"700\"/> \n",
    "</center>   \n",
    "</figure>"
   ]
  },
  {
   "cell_type": "markdown",
   "id": "33f23b8d-58e0-4450-afc6-9d7000758701",
   "metadata": {
    "slideshow": {
     "slide_type": "slide"
    },
    "tags": []
   },
   "source": [
    "### Estadística"
   ]
  },
  {
   "cell_type": "markdown",
   "id": "f4ae1656-e010-4d90-86c9-99d026092cef",
   "metadata": {},
   "source": [
    "![Digi1](../Imagenes/mod_reg2.jpg)"
   ]
  },
  {
   "cell_type": "markdown",
   "id": "98fd0bac-c4af-49d6-9b93-dfa1d35bba9a",
   "metadata": {
    "slideshow": {
     "slide_type": "subslide"
    },
    "tags": []
   },
   "source": [
    "![Clust](../Imagenes/clustering.png)"
   ]
  },
  {
   "cell_type": "markdown",
   "id": "d72c2ef2-e894-40ce-b977-89cf84d5e6af",
   "metadata": {
    "slideshow": {
     "slide_type": "subslide"
    },
    "tags": []
   },
   "source": [
    "![Clust2](../Imagenes/clustering_2.png)"
   ]
  },
  {
   "cell_type": "markdown",
   "id": "fd196ec7-9d91-436c-91a3-1c46e438d7f9",
   "metadata": {
    "slideshow": {
     "slide_type": "slide"
    },
    "tags": []
   },
   "source": [
    "### Máquinas de Aprendizaje"
   ]
  },
  {
   "cell_type": "markdown",
   "id": "861eb4c0-0d78-4cc4-bfe9-a1935934ce3d",
   "metadata": {},
   "source": [
    "![Digi1](../Imagenes/mod_machine-learning-map.png)"
   ]
  },
  {
   "cell_type": "markdown",
   "id": "1d11f99e-50fb-4689-8c50-4bfdd28b1e6c",
   "metadata": {
    "slideshow": {
     "slide_type": "slide"
    },
    "tags": []
   },
   "source": [
    "### Red Neuronal"
   ]
  },
  {
   "cell_type": "markdown",
   "id": "bf50dafe-8077-4a05-b37a-ece5a850889d",
   "metadata": {},
   "source": [
    "![Capa oculta](../Imagenes/ANN_Capa_Oculta.png)"
   ]
  },
  {
   "cell_type": "markdown",
   "id": "edc2269a-b321-433b-a7d1-d6df394c8d86",
   "metadata": {
    "slideshow": {
     "slide_type": "slide"
    },
    "tags": []
   },
   "source": [
    "## <span style=\"color:blue\">Transformación de problemas</span>"
   ]
  },
  {
   "cell_type": "markdown",
   "id": "5b7676e7-71f0-4b1f-9bc9-8b7913aa305d",
   "metadata": {
    "slideshow": {
     "slide_type": "slide"
    },
    "tags": []
   },
   "source": [
    "### Imagen a tensor"
   ]
  },
  {
   "cell_type": "markdown",
   "id": "c3cf7ae9-44ba-4aec-83b5-c97bc0d0be84",
   "metadata": {},
   "source": [
    "<figure>\n",
    "<center>\n",
    "<img src=\"../Imagenes/image2tensor.webp\" width=\"700\" height=\"600\"/> \n",
    "</center>   \n",
    "</figure>"
   ]
  },
  {
   "cell_type": "markdown",
   "id": "177ea86f-bf0f-4f16-b374-6a056dc6f10f",
   "metadata": {
    "slideshow": {
     "slide_type": "slide"
    },
    "tags": []
   },
   "source": [
    "### Texto a tensor: Sumergimiento de palabras"
   ]
  },
  {
   "cell_type": "markdown",
   "id": "2fff12c6-e0bf-41ce-aedd-c504d0ca91a1",
   "metadata": {},
   "source": [
    "<figure>\n",
    "<center>\n",
    "<img src=\"../Imagenes/word_embedding_2.jpg\" width=\"800\" height=\"700\"/> \n",
    "</center>   \n",
    "</figure>"
   ]
  },
  {
   "cell_type": "markdown",
   "id": "9bc2e4b3-e882-4a9e-a1ba-fe999195d906",
   "metadata": {
    "slideshow": {
     "slide_type": "slide"
    },
    "tags": []
   },
   "source": [
    "## <span style=\"color:blue\">Tecnología</span>"
   ]
  },
  {
   "cell_type": "markdown",
   "id": "1f4fea4d-b6fb-4b87-a404-c4be09805f32",
   "metadata": {
    "slideshow": {
     "slide_type": "subslide"
    },
    "tags": []
   },
   "source": [
    "### Hardware tradicional : CPU, GPU"
   ]
  },
  {
   "cell_type": "markdown",
   "id": "d79054d5-d9e0-4bc0-8e8b-584ce93f2b5f",
   "metadata": {},
   "source": [
    "<img src=\"../Imagenes/CPU.jpg\" width=\"380\" height=\"300\" align=\"left\"/>\n",
    "<img src=\"../Imagenes/GPU.jpg\" width=\"380\" height=\"300\" align=\"left\"/>"
   ]
  },
  {
   "cell_type": "markdown",
   "id": "7993179f-05ad-4eb8-8326-41ad14f717b1",
   "metadata": {
    "slideshow": {
     "slide_type": "subslide"
    },
    "tags": []
   },
   "source": [
    "### Hardware moderno : TPU, Cerebras"
   ]
  },
  {
   "cell_type": "markdown",
   "id": "808ea59c-3aa2-4576-b445-b3904f952db1",
   "metadata": {},
   "source": [
    "<center>\n",
    "<img src=\"../Imagenes/TPU.png\" width=\"480\" height=\"400\" align=\"center\"/>\n",
    "</center>\n",
    "<center>\n",
    "<img src=\"../Imagenes/cerebras.png\" width=\"380\" height=\"400\" align=\"center\"/>\n",
    "</center>"
   ]
  },
  {
   "cell_type": "markdown",
   "id": "c1ce7a23-cd15-4a38-9897-d6bb39fd02d8",
   "metadata": {
    "slideshow": {
     "slide_type": "slide"
    },
    "tags": []
   },
   "source": [
    "### Computación en la nube"
   ]
  },
  {
   "cell_type": "markdown",
   "id": "ecddd2c9-3c3b-4162-8d45-d7ff2fc7773c",
   "metadata": {},
   "source": [
    "<figure>\n",
    "<center>\n",
    "<img src=\"../Imagenes/Cloud_computing-es.svg.png\" width=\"600\" height=\"500\"/> \n",
    "</center>   \n",
    "</figure>"
   ]
  },
  {
   "cell_type": "markdown",
   "id": "eb1c7c34-106b-4d62-9b6d-af236b76c3e1",
   "metadata": {
    "slideshow": {
     "slide_type": "slide"
    },
    "tags": []
   },
   "source": [
    "### Big data"
   ]
  },
  {
   "cell_type": "markdown",
   "id": "08a02cb6-93d8-4763-9ae6-a82d2be92491",
   "metadata": {},
   "source": [
    "<figure>\n",
    "<center>\n",
    "<img src=\"../Imagenes/apache-spark.png\" width=\"600\" height=\"400\" align=\"center\"/> \n",
    "</center>   \n",
    "</figure>"
   ]
  },
  {
   "cell_type": "markdown",
   "id": "db3d50c6-bf2b-4b4d-b135-6050092d6ad1",
   "metadata": {
    "slideshow": {
     "slide_type": "slide"
    },
    "tags": []
   },
   "source": [
    "### Programación: ciencia de datos, redes neuronales"
   ]
  },
  {
   "cell_type": "markdown",
   "id": "7570b6c2-8b9b-48bd-a5d2-1f764e5b04b1",
   "metadata": {},
   "source": [
    "<figure>\n",
    "<center>\n",
    "<img src=\"../Imagenes/Frameworks.jpg\" width=\"800\" height=\"800\"/> \n",
    "</center>   \n",
    "</figure>"
   ]
  },
  {
   "cell_type": "markdown",
   "id": "fc52ce75-03df-4fc8-bf2b-5775ddf039b8",
   "metadata": {
    "slideshow": {
     "slide_type": "slide"
    },
    "tags": []
   },
   "source": [
    "## <span style=\"color:blue\">Arquitecturas Neuronales Paradigma</span>"
   ]
  },
  {
   "cell_type": "markdown",
   "id": "8f6b31d6-72e3-4322-b21c-21e9120a0cdc",
   "metadata": {
    "slideshow": {
     "slide_type": "slide"
    },
    "tags": []
   },
   "source": [
    "### Modelo Convolucional"
   ]
  },
  {
   "cell_type": "markdown",
   "id": "c573dab4-fda2-43a5-8f1c-952ca3f82428",
   "metadata": {},
   "source": [
    "![](../Imagenes/cnn-procedure.png)"
   ]
  },
  {
   "cell_type": "markdown",
   "id": "5c52a6fa-8709-4fbf-b52a-2f3afd425699",
   "metadata": {
    "slideshow": {
     "slide_type": "slide"
    },
    "tags": []
   },
   "source": [
    "### Modelo Recurrente"
   ]
  },
  {
   "cell_type": "markdown",
   "id": "0f67afdc-2b50-4f76-8a92-da7450c02f73",
   "metadata": {},
   "source": [
    "![](../Imagenes/RNN-longtermdependencies.png)"
   ]
  },
  {
   "cell_type": "markdown",
   "id": "c7039faa-340a-4270-8153-b4121109e689",
   "metadata": {
    "slideshow": {
     "slide_type": "slide"
    },
    "tags": []
   },
   "source": [
    "### Modelo Atencional: Transformers"
   ]
  },
  {
   "cell_type": "markdown",
   "id": "536b6f04-411f-41f1-a7a5-9e84aa5c3644",
   "metadata": {},
   "source": [
    "<figure>\n",
    "<center>\n",
    "<img src=\"../Imagenes/transformer.png\" width=\"380\" height=\"250\"/> \n",
    "</center>   \n",
    "</figure>"
   ]
  },
  {
   "cell_type": "markdown",
   "id": "9c497ecc-19f8-4cf7-8471-f7a8ea980152",
   "metadata": {
    "slideshow": {
     "slide_type": "slide"
    },
    "tags": []
   },
   "source": [
    "### Transferencia de conocimiento"
   ]
  },
  {
   "cell_type": "markdown",
   "id": "ee6206fb-282c-449d-99ef-0cbcbf88b808",
   "metadata": {},
   "source": [
    "<figure>\n",
    "<center>\n",
    "<img src=\"../Imagenes/bert.jpg\" width=\"800\" height=\"800\"/> \n",
    "</center>   \n",
    "</figure>\n"
   ]
  }
 ],
 "metadata": {
  "kernelspec": {
   "display_name": "Python 3 (ipykernel)",
   "language": "python",
   "name": "python3"
  },
  "language_info": {
   "codemirror_mode": {
    "name": "ipython",
    "version": 3
   },
   "file_extension": ".py",
   "mimetype": "text/x-python",
   "name": "python",
   "nbconvert_exporter": "python",
   "pygments_lexer": "ipython3",
   "version": "3.10.6"
  }
 },
 "nbformat": 4,
 "nbformat_minor": 5
}
