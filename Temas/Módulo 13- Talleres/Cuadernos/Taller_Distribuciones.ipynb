{
 "cells": [
  {
   "cell_type": "markdown",
   "id": "13d303b7",
   "metadata": {},
   "source": [
    "# <span style=\"color:green\"><center>Diplomado en Inteligencia Artificial y Aprendizaje Profundo</center></span>"
   ]
  },
  {
   "cell_type": "markdown",
   "id": "326c57dd",
   "metadata": {},
   "source": [
    "# <span style=\"color:red\"><center>Taller de Distribuciones de probabilidad en Python</center></span>"
   ]
  },
  {
   "cell_type": "markdown",
   "id": "06d957c4-2268-4a7e-af64-39753397c51c",
   "metadata": {},
   "source": [
    "## <span style=\"color:blue\">Autores</span>"
   ]
  },
  {
   "cell_type": "markdown",
   "id": "9fa78ea8-95ee-4f9e-9f0c-e7ee65a7f74b",
   "metadata": {},
   "source": [
    "5. Oleg Jarma, ojarmam@unal.edu.co \n",
    "6. Laura Lizarazo, ljlizarazore@unal.edu.co\n",
    "7. Julieth López, julalopezcas@unal.edu.co"
   ]
  },
  {
   "cell_type": "markdown",
   "id": "4e34c292",
   "metadata": {},
   "source": [
    "##   <span style=\"color:blue\">Profesores</span>"
   ]
  },
  {
   "cell_type": "markdown",
   "id": "dd9cdb9c",
   "metadata": {},
   "source": [
    "1. Alvaro Mauricio Montenegro Díaz, ammontenegrod@unal.edu.co\n",
    "2. Daniel Mauricio Montenegro Reyes, dextronomo@gmail.com \n",
    "3. Campo Elías Pardo Turriago, cepardot@unal.edu.co "
   ]
  },
  {
   "cell_type": "markdown",
   "id": "6b13d46b",
   "metadata": {},
   "source": [
    "##   <span style=\"color:blue\">Asesora Medios y Marketing digital</span>"
   ]
  },
  {
   "cell_type": "markdown",
   "id": "77f75bdc",
   "metadata": {},
   "source": [
    "4. Maria del Pilar Montenegro, pmontenegro88@gmail.com "
   ]
  },
  {
   "cell_type": "markdown",
   "id": "ef11a780",
   "metadata": {},
   "source": [
    "## Contenido\n",
    "\n",
    "* [Requerimientos](#Requerimientos)\n",
    "* [Explicando el ejemplo de los dados](#Explicando_el_ejemplo_de_los_dados)\n",
    "* [Cálculo de probabilidades](#Cálculo_de_probabilidades)\n",
    "* [SciPy para distribuciones](#SciPy_para_distribuciones)\n",
    "    * [Distribuciones discretas](#Distribuciones_discretas)\n",
    "        * [Distribución uniforme discreta](#Distribución_uniforme_discreta)\n",
    "        * [Distribución de bernoulli](#Distribución_de_bernoulli)\n",
    "        * [Distribución binomial](#Distribución_binomial)\n",
    "    * [Distribuciones continuas](#Distribuciones_continuas) \n",
    "        * [Distribución uniforme continua](#Distribución_uniforme_continua)\n",
    "        * [Distribución normal](#Distribución_normal)\n",
    "* [Ejercicios](#Ejercicios)"
   ]
  },
  {
   "cell_type": "markdown",
   "id": "53545fcf",
   "metadata": {},
   "source": [
    "## Requerimientos"
   ]
  },
  {
   "cell_type": "markdown",
   "id": "ba983a45",
   "metadata": {},
   "source": [
    "Para seguir este taller se necesitan los siguientes paquetes:\n",
    "\n",
    "* Numpy\n",
    "* Scipy\n",
    "* Matplotlib\n",
    "* Seaborn"
   ]
  },
  {
   "cell_type": "markdown",
   "id": "27f012d3",
   "metadata": {
    "tags": []
   },
   "source": [
    "## Explicando el ejemplo de los dados"
   ]
  },
  {
   "cell_type": "markdown",
   "id": "07c8536b",
   "metadata": {},
   "source": [
    "Vamos a adentrarnos un poco en el ejemplo de los dados."
   ]
  },
  {
   "cell_type": "code",
   "execution_count": 7,
   "id": "e50154d9",
   "metadata": {},
   "outputs": [
    {
     "name": "stdout",
     "output_type": "stream",
     "text": [
      "f( 1.0 , 1.0 ) = 2.0\n",
      "f( 1.0 , 2.0 ) = 3.0\n",
      "f( 1.0 , 3.0 ) = 4.0\n",
      "f( 1.0 , 4.0 ) = 5.0\n",
      "f( 1.0 , 5.0 ) = 6.0\n",
      "f( 1.0 , 6.0 ) = 7.0\n",
      "f( 2.0 , 1.0 ) = 3.0\n",
      "f( 2.0 , 2.0 ) = 4.0\n",
      "f( 2.0 , 3.0 ) = 5.0\n",
      "f( 2.0 , 4.0 ) = 6.0\n",
      "f( 2.0 , 5.0 ) = 7.0\n",
      "f( 2.0 , 6.0 ) = 8.0\n",
      "f( 3.0 , 1.0 ) = 4.0\n",
      "f( 3.0 , 2.0 ) = 5.0\n",
      "f( 3.0 , 3.0 ) = 6.0\n",
      "f( 3.0 , 4.0 ) = 7.0\n",
      "f( 3.0 , 5.0 ) = 8.0\n",
      "f( 3.0 , 6.0 ) = 9.0\n",
      "f( 4.0 , 1.0 ) = 5.0\n",
      "f( 4.0 , 2.0 ) = 6.0\n",
      "f( 4.0 , 3.0 ) = 7.0\n",
      "f( 4.0 , 4.0 ) = 8.0\n",
      "f( 4.0 , 5.0 ) = 9.0\n",
      "f( 4.0 , 6.0 ) = 10.0\n",
      "f( 5.0 , 1.0 ) = 6.0\n",
      "f( 5.0 , 2.0 ) = 7.0\n",
      "f( 5.0 , 3.0 ) = 8.0\n",
      "f( 5.0 , 4.0 ) = 9.0\n",
      "f( 5.0 , 5.0 ) = 10.0\n",
      "f( 5.0 , 6.0 ) = 11.0\n",
      "f( 6.0 , 1.0 ) = 7.0\n",
      "f( 6.0 , 2.0 ) = 8.0\n",
      "f( 6.0 , 3.0 ) = 9.0\n",
      "f( 6.0 , 4.0 ) = 10.0\n",
      "f( 6.0 , 5.0 ) = 11.0\n",
      "f( 6.0 , 6.0 ) = 12.0\n"
     ]
    }
   ],
   "source": [
    "import numpy as np\n",
    "np.random.seed(27) #establece una semilla\n",
    "d1=6 #lados del dado 1\n",
    "d2=6 #lados del dado 2\n",
    "\n",
    "# espacio muestral\n",
    "M = np.zeros((d1*d2,2))\n",
    "#0 0\n",
    "#0 0\n",
    "#0 0\n",
    "#0 0\n",
    "#0 0\n",
    "#0 0\n",
    "k=0\n",
    "for i in range(1,d1+1):\n",
    "    for j in range(1,d2+1):\n",
    "        M[k,] = (i,j)\n",
    "        k+=1\n",
    "\n",
    "# calcula la variable aleatoria f: f(x,y)=x+y        \n",
    "f = np.zeros(d1*d2)\n",
    "for k in range(d1*d2):\n",
    "    f[k] = M[k,0] + M[k,1]\n",
    "    \n",
    "# presenta los resultados\n",
    "for k in range(d1*d2):\n",
    "    print('f(',M[k,0],',',M[k,1],') =', f[k])"
   ]
  },
  {
   "cell_type": "markdown",
   "id": "e214bc10",
   "metadata": {},
   "source": [
    "¿Qué tal si queremos calcular la probabilidad de salida con 3 dados de 4 lados?"
   ]
  },
  {
   "cell_type": "code",
   "execution_count": 8,
   "id": "866fb3c3",
   "metadata": {},
   "outputs": [
    {
     "name": "stdout",
     "output_type": "stream",
     "text": [
      "f( 1.0 , 1.0 , 1.0 ) = 3.0\n",
      "f( 1.0 , 1.0 , 2.0 ) = 4.0\n",
      "f( 1.0 , 1.0 , 3.0 ) = 5.0\n",
      "f( 1.0 , 1.0 , 4.0 ) = 6.0\n",
      "f( 1.0 , 2.0 , 1.0 ) = 4.0\n",
      "f( 1.0 , 2.0 , 2.0 ) = 5.0\n",
      "f( 1.0 , 2.0 , 3.0 ) = 6.0\n",
      "f( 1.0 , 2.0 , 4.0 ) = 7.0\n",
      "f( 1.0 , 3.0 , 1.0 ) = 5.0\n",
      "f( 1.0 , 3.0 , 2.0 ) = 6.0\n",
      "f( 1.0 , 3.0 , 3.0 ) = 7.0\n",
      "f( 1.0 , 3.0 , 4.0 ) = 8.0\n",
      "f( 1.0 , 4.0 , 1.0 ) = 6.0\n",
      "f( 1.0 , 4.0 , 2.0 ) = 7.0\n",
      "f( 1.0 , 4.0 , 3.0 ) = 8.0\n",
      "f( 1.0 , 4.0 , 4.0 ) = 9.0\n",
      "f( 2.0 , 1.0 , 1.0 ) = 4.0\n",
      "f( 2.0 , 1.0 , 2.0 ) = 5.0\n",
      "f( 2.0 , 1.0 , 3.0 ) = 6.0\n",
      "f( 2.0 , 1.0 , 4.0 ) = 7.0\n",
      "f( 2.0 , 2.0 , 1.0 ) = 5.0\n",
      "f( 2.0 , 2.0 , 2.0 ) = 6.0\n",
      "f( 2.0 , 2.0 , 3.0 ) = 7.0\n",
      "f( 2.0 , 2.0 , 4.0 ) = 8.0\n",
      "f( 2.0 , 3.0 , 1.0 ) = 6.0\n",
      "f( 2.0 , 3.0 , 2.0 ) = 7.0\n",
      "f( 2.0 , 3.0 , 3.0 ) = 8.0\n",
      "f( 2.0 , 3.0 , 4.0 ) = 9.0\n",
      "f( 2.0 , 4.0 , 1.0 ) = 7.0\n",
      "f( 2.0 , 4.0 , 2.0 ) = 8.0\n",
      "f( 2.0 , 4.0 , 3.0 ) = 9.0\n",
      "f( 2.0 , 4.0 , 4.0 ) = 10.0\n",
      "f( 3.0 , 1.0 , 1.0 ) = 5.0\n",
      "f( 3.0 , 1.0 , 2.0 ) = 6.0\n",
      "f( 3.0 , 1.0 , 3.0 ) = 7.0\n",
      "f( 3.0 , 1.0 , 4.0 ) = 8.0\n",
      "f( 3.0 , 2.0 , 1.0 ) = 6.0\n",
      "f( 3.0 , 2.0 , 2.0 ) = 7.0\n",
      "f( 3.0 , 2.0 , 3.0 ) = 8.0\n",
      "f( 3.0 , 2.0 , 4.0 ) = 9.0\n",
      "f( 3.0 , 3.0 , 1.0 ) = 7.0\n",
      "f( 3.0 , 3.0 , 2.0 ) = 8.0\n",
      "f( 3.0 , 3.0 , 3.0 ) = 9.0\n",
      "f( 3.0 , 3.0 , 4.0 ) = 10.0\n",
      "f( 3.0 , 4.0 , 1.0 ) = 8.0\n",
      "f( 3.0 , 4.0 , 2.0 ) = 9.0\n",
      "f( 3.0 , 4.0 , 3.0 ) = 10.0\n",
      "f( 3.0 , 4.0 , 4.0 ) = 11.0\n",
      "f( 4.0 , 1.0 , 1.0 ) = 6.0\n",
      "f( 4.0 , 1.0 , 2.0 ) = 7.0\n",
      "f( 4.0 , 1.0 , 3.0 ) = 8.0\n",
      "f( 4.0 , 1.0 , 4.0 ) = 9.0\n",
      "f( 4.0 , 2.0 , 1.0 ) = 7.0\n",
      "f( 4.0 , 2.0 , 2.0 ) = 8.0\n",
      "f( 4.0 , 2.0 , 3.0 ) = 9.0\n",
      "f( 4.0 , 2.0 , 4.0 ) = 10.0\n",
      "f( 4.0 , 3.0 , 1.0 ) = 8.0\n",
      "f( 4.0 , 3.0 , 2.0 ) = 9.0\n",
      "f( 4.0 , 3.0 , 3.0 ) = 10.0\n",
      "f( 4.0 , 3.0 , 4.0 ) = 11.0\n",
      "f( 4.0 , 4.0 , 1.0 ) = 9.0\n",
      "f( 4.0 , 4.0 , 2.0 ) = 10.0\n",
      "f( 4.0 , 4.0 , 3.0 ) = 11.0\n",
      "f( 4.0 , 4.0 , 4.0 ) = 12.0\n"
     ]
    }
   ],
   "source": [
    "d1=4 #lados del dado 1\n",
    "d2=4 #lados del dado 2\n",
    "d3=4 #lados del dado 3\n",
    "\n",
    "# espacio muestral\n",
    "M3 = np.zeros((d1*d2*d3,3))\n",
    "#0 0 0\n",
    "#0 0 0\n",
    "#0 0 0\n",
    "#0 0 0\n",
    "#0 0 0\n",
    "#0 0 0\n",
    "k=0\n",
    "for i in range(1,d1+1):\n",
    "    for j in range(1,d2+1):\n",
    "        for l in range(1,d3+1):\n",
    "            M3[k,] = (i,j,l)\n",
    "            k+=1\n",
    "\n",
    "        \n",
    "# calcula la variable aleatoria f: f(x,y,z)=x+y+z        \n",
    "f3 = np.zeros(d1*d2*d3)\n",
    "for k in range(d1*d2*d3):\n",
    "    f3[k] = M3[k,0] + M3[k,1]+M3[k,2]\n",
    "\n",
    "    \n",
    "# presenta los resultados\n",
    "for k in range(d1*d2*d3):\n",
    "    print('f(',M3[k,0],',',M3[k,1],',' ,M3[k,2],') =', f3[k])"
   ]
  },
  {
   "cell_type": "code",
   "execution_count": 9,
   "id": "0aba014b",
   "metadata": {},
   "outputs": [
    {
     "name": "stdout",
     "output_type": "stream",
     "text": [
      "[ 2.  3.  4.  5.  6.  7.  8.  9. 10. 11. 12.]\n",
      "[ 3.  4.  5.  6.  7.  8.  9. 10. 11. 12.]\n"
     ]
    }
   ],
   "source": [
    "print(np.unique(f)) \n",
    "print(np.unique(f3)) "
   ]
  },
  {
   "cell_type": "markdown",
   "id": "47102c8f",
   "metadata": {},
   "source": [
    "A continuación hacemos una explicación de la función del contador de frecuencia."
   ]
  },
  {
   "cell_type": "code",
   "execution_count": 10,
   "id": "1806a095",
   "metadata": {},
   "outputs": [],
   "source": [
    "# Función Python para contar los elementos y la frecuencia\n",
    "# de los elementos de una lista, usando un diccionario\n",
    "  \n",
    "def CountFrequency(my_list): \n",
    "  \n",
    "    # Se crea un diccionario\n",
    "    freq = {} \n",
    "    for item in my_list: #se itera sobre los elementos en la lista\n",
    "        if (item in freq): #si el elemento en el loop ya está en el diccionario, se hace un conteo\n",
    "            freq[item] += 1\n",
    "        else: \n",
    "            freq[item] = 1 #si el elemento no se encuentra, se agrega y se le da el primer  contador\n",
    "    return freq      "
   ]
  },
  {
   "cell_type": "code",
   "execution_count": 11,
   "id": "bb2e1a14",
   "metadata": {},
   "outputs": [
    {
     "name": "stdout",
     "output_type": "stream",
     "text": [
      " 2 :  1 \n",
      " 3 :  2 \n",
      " 4 :  3 \n",
      " 5 :  4 \n",
      " 6 :  5 \n",
      " 7 :  6 \n",
      " 8 :  5 \n",
      " 9 :  4 \n",
      " 10 :  3 \n",
      " 11 :  2 \n",
      " 12 :  1 \n"
     ]
    },
    {
     "data": {
      "text/plain": [
       "{3.0: 1,\n",
       " 4.0: 3,\n",
       " 5.0: 6,\n",
       " 6.0: 10,\n",
       " 7.0: 12,\n",
       " 8.0: 12,\n",
       " 9.0: 10,\n",
       " 10.0: 6,\n",
       " 11.0: 3,\n",
       " 12.0: 1}"
      ]
     },
     "execution_count": 11,
     "metadata": {},
     "output_type": "execute_result"
    }
   ],
   "source": [
    "frec = CountFrequency(f)\n",
    "frec3 = CountFrequency(f3)  \n",
    "\n",
    "for key, value in frec.items():\n",
    "    print (\"% d : % d \"%(key, value)) \n",
    "\n",
    "frec3"
   ]
  },
  {
   "cell_type": "markdown",
   "id": "0d9f3674",
   "metadata": {},
   "source": [
    "## Cálculo de probabilidades"
   ]
  },
  {
   "cell_type": "markdown",
   "id": "7c77d618",
   "metadata": {},
   "source": [
    "En cuadernos anteriores vimos probabilidades de eventos, tales como:\n",
    "\n",
    "$$\n",
    "\\begin{align}\n",
    "\\text{Prob}[f \\text{ es par }]\\\\\n",
    "\\text{Prob}[f\\leq 6]\\\\\n",
    "\\text{Prob}[f> 10]\\\\\n",
    "\\text{Prob}[f \\text{ es par }|f\\leq5]\n",
    "\\end{align}\n",
    "$$\n",
    "\n",
    "¿Cómo podemos calcular estas directamente en python? Podemos hacerlo con comprensión de listas."
   ]
  },
  {
   "cell_type": "code",
   "execution_count": 12,
   "id": "9191b9c5",
   "metadata": {},
   "outputs": [
    {
     "name": "stdout",
     "output_type": "stream",
     "text": [
      "Prob[f par]=18/36\n",
      "Prob[f<=6]=15/36\n",
      "Prob[f>10]=3/36\n",
      "Prob[f par | f<=5]=24/36\n"
     ]
    }
   ],
   "source": [
    "##probabilidad de f par\n",
    "f_par=[x for x in f if x%2==0]\n",
    "print(\"Prob[f par]=%d/%d\" %(len(f_par),len(f)))\n",
    "\n",
    "##probabilidad de f menor a 6\n",
    "f_menor_6=[x for x in f if x<=6]\n",
    "print(\"Prob[f<=6]=%d/%d\" %(len(f_menor_6),len(f)))\n",
    "\n",
    "##probabilidad de f mayor a 10\n",
    "f_mayor_10=[x for x in f if x>10]\n",
    "print(\"Prob[f>10]=%d/%d\" %(len(f_mayor_10),len(f)))\n",
    "\n",
    "##probabilidad de f par dado que es menor a 5\n",
    "f_par_menor_5=[x for x in f if (x%2==0 or x<=5)]\n",
    "print(\"Prob[f par | f<=5]=%d/%d\" %(len(f_par_menor_5),len(f)))"
   ]
  },
  {
   "cell_type": "code",
   "execution_count": 13,
   "id": "1000bc43",
   "metadata": {},
   "outputs": [
    {
     "name": "stdout",
     "output_type": "stream",
     "text": [
      "[ 2.  3.  4.  5.  6.  7.  3.  4.  5.  6.  7.  8.  4.  5.  6.  7.  8.  9.\n",
      "  5.  6.  7.  8.  9. 10.  6.  7.  8.  9. 10. 11.  7.  8.  9. 10. 11. 12.]\n"
     ]
    }
   ],
   "source": [
    "import matplotlib.pyplot as plt\n",
    "import seaborn as sns\n",
    "\n",
    "print(f)"
   ]
  },
  {
   "cell_type": "code",
   "execution_count": 25,
   "id": "5487d454",
   "metadata": {},
   "outputs": [
    {
     "data": {
      "image/png": "[encoded data removed]",
      "text/plain": [
       "<Figure size 432x288 with 1 Axes>"
      ]
     },
     "metadata": {
      "needs_background": "light"
     },
     "output_type": "display_data"
    }
   ],
   "source": [
    "plt.hist(f, bins=11,density=True)\n",
    "plt.title('Funcion de probabilidad de la V.A. $f$')\n",
    "plt.xlabel('Valores de  $f$')\n",
    "plt.ylabel('Probabilidad')\n",
    "plt.show()"
   ]
  },
  {
   "cell_type": "code",
   "execution_count": 26,
   "id": "401c9ba2",
   "metadata": {},
   "outputs": [
    {
     "data": {
      "image/png": "[encoded data removed]",
      "text/plain": [
       "<Figure size 432x288 with 1 Axes>"
      ]
     },
     "metadata": {
      "needs_background": "light"
     },
     "output_type": "display_data"
    }
   ],
   "source": [
    "plt.plot(frec.keys(), frec.values())\n",
    "plt.title('Frecuencia de los valores de la V.A.')\n",
    "plt.xlabel('Valores de  $f$')\n",
    "plt.ylabel('Frecuencia')\n",
    "plt.show()"
   ]
  },
  {
   "cell_type": "code",
   "execution_count": 27,
   "id": "8adce490",
   "metadata": {},
   "outputs": [
    {
     "data": {
      "image/png": "[encoded data removed]",
      "text/plain": [
       "<Figure size 432x288 with 1 Axes>"
      ]
     },
     "metadata": {
      "needs_background": "light"
     },
     "output_type": "display_data"
    }
   ],
   "source": [
    "plt.scatter(frec.keys(), frec.values())\n",
    "plt.title('Frecuencia de los valores de la V.A.')\n",
    "plt.xlabel('Valores de  $f$')\n",
    "plt.ylabel('Frecuencia')\n",
    "plt.show()"
   ]
  },
  {
   "cell_type": "markdown",
   "id": "8534f37e",
   "metadata": {},
   "source": [
    "Vamos a generar unos cuantos lanzamientos simulados y observaremos su comportamiento."
   ]
  },
  {
   "cell_type": "code",
   "execution_count": 28,
   "id": "b536a995",
   "metadata": {},
   "outputs": [],
   "source": [
    "from numpy  import random\n",
    "\n",
    "d1, d2, d3=4,4,4\n",
    "\n",
    "rolls = 10000 #simularemos 10000 lanzamientos de 3 dados\n",
    "Sums=[]\n",
    "for i in range(0, rolls):\n",
    "    dado1 = random.randint(1,d1+1)\n",
    "    dado2 = random.randint(1,d2+1)\n",
    "    dado3= random.randint(1,d3+1)\n",
    "    a=[dado1, dado2 ,dado3]\n",
    "    Sums.append(sum(a)) #suma de los resultados\n"
   ]
  },
  {
   "cell_type": "code",
   "execution_count": 29,
   "id": "9c35db5b",
   "metadata": {},
   "outputs": [
    {
     "data": {
      "image/png": "[encoded data removed]",
      "text/plain": [
       "<Figure size 432x288 with 1 Axes>"
      ]
     },
     "metadata": {
      "needs_background": "light"
     },
     "output_type": "display_data"
    }
   ],
   "source": [
    "plt.hist(Sums,density=True)\n",
    "plt.title('Frecuencias simulación de dados')\n",
    "plt.xlabel('resultados')\n",
    "plt.ylabel('Frecuencias')\n",
    "plt.show()"
   ]
  },
  {
   "cell_type": "markdown",
   "id": "a7845954",
   "metadata": {},
   "source": [
    "Vemos que en efecto su comportamiento es muy parecido al real, el comportamiento es el esperado."
   ]
  },
  {
   "cell_type": "markdown",
   "id": "24acdcc7",
   "metadata": {},
   "source": [
    "## SciPy para distribuciones"
   ]
  },
  {
   "cell_type": "markdown",
   "id": "135df671",
   "metadata": {},
   "source": [
    "El paquete Scipy cuenta con la clase \"Stats\". con la cual podemos calcular, graficar y generar números aleatorios de una gran mayoría de distribuciones."
   ]
  },
  {
   "cell_type": "markdown",
   "id": "4ecc7453",
   "metadata": {},
   "source": [
    "### Distribuciones Discretas\n",
    "\n",
    "#### Distribución Uniforme Discreta"
   ]
  },
  {
   "cell_type": "code",
   "execution_count": 30,
   "id": "b9102959",
   "metadata": {},
   "outputs": [],
   "source": [
    "from scipy.stats import randint"
   ]
  },
  {
   "cell_type": "code",
   "execution_count": 31,
   "id": "fdba892c",
   "metadata": {},
   "outputs": [
    {
     "name": "stdout",
     "output_type": "stream",
     "text": [
      "5.0 10.0\n"
     ]
    }
   ],
   "source": [
    "media, var=randint.stats(0,11,moments=\"mv\")\n",
    "print(media, var)"
   ]
  },
  {
   "cell_type": "markdown",
   "id": "9e1a0edc",
   "metadata": {},
   "source": [
    "Generamos la gráfica de la función de masa de probabilidad. Observamos que todos los puntos tienen la misma probabilidad."
   ]
  },
  {
   "cell_type": "code",
   "execution_count": 32,
   "id": "5aa1b3c4",
   "metadata": {},
   "outputs": [
    {
     "data": {
      "image/png": "[encoded data removed]",
      "text/plain": [
       "<Figure size 432x288 with 1 Axes>"
      ]
     },
     "metadata": {
      "needs_background": "light"
     },
     "output_type": "display_data"
    }
   ],
   "source": [
    "discrete_uni=randint(0,10)\n",
    "x = np.arange(discrete_uni.ppf(0.01),\n",
    "              discrete_uni.ppf(1)+0.1)\n",
    "plt.plot(x, discrete_uni.pmf(x), 'bo', ms=8, label='randint pmf')\n",
    "plt.vlines(x, 0, discrete_uni.pmf(x), colors='b', lw=5, alpha=0.5)\n",
    "plt.title(\"Función de probabilidad Uniforme Discreta\")\n",
    "plt.xlabel(\"Valores\")\n",
    "plt.ylabel(\"Probabilidad\")\n",
    "\n",
    "plt.show()"
   ]
  },
  {
   "cell_type": "markdown",
   "id": "f88218c0",
   "metadata": {},
   "source": [
    "Generamos la función de distribución acumulada."
   ]
  },
  {
   "cell_type": "code",
   "execution_count": 33,
   "id": "2b9c0682",
   "metadata": {},
   "outputs": [
    {
     "data": {
      "image/png": "[encoded data removed]",
      "text/plain": [
       "<Figure size 432x288 with 1 Axes>"
      ]
     },
     "metadata": {
      "needs_background": "light"
     },
     "output_type": "display_data"
    }
   ],
   "source": [
    "prob = discrete_uni.cdf(x)\n",
    "plt.plot(x, prob, 'bo', ms=8)\n",
    "plt.title(\"Función acumulada de distribución\")\n",
    "plt.xlabel(\"Valores\")\n",
    "plt.ylabel(\"F(x)\")\n",
    "for i,j in zip(x, prob):\n",
    "    plt.hlines(y=j, xmin=i, xmax=i+1)\n",
    "plt.show()"
   ]
  },
  {
   "cell_type": "markdown",
   "id": "b80db637",
   "metadata": {},
   "source": [
    "con la función `rvs()` se genera una muestra de la distribución en cuestión"
   ]
  },
  {
   "cell_type": "code",
   "execution_count": 34,
   "id": "7148855e",
   "metadata": {},
   "outputs": [
    {
     "name": "stdout",
     "output_type": "stream",
     "text": [
      "[3 7 8 ... 5 1 5]\n"
     ]
    }
   ],
   "source": [
    "r_unif=randint.rvs(0,10,size=10000)\n",
    "print(r_unif)"
   ]
  },
  {
   "cell_type": "markdown",
   "id": "693bc23d",
   "metadata": {},
   "source": [
    "#### Distribución de Bernoulli"
   ]
  },
  {
   "cell_type": "code",
   "execution_count": 37,
   "id": "91b833b2",
   "metadata": {},
   "outputs": [
    {
     "name": "stdout",
     "output_type": "stream",
     "text": [
      "La media es: 0.6\n",
      "La varianza es: 0.24\n"
     ]
    }
   ],
   "source": [
    "from scipy.stats import bernoulli\n",
    "\n",
    "p=0.6 #parámetro de la distribución Ber(p)\n",
    "media, var = bernoulli.stats(p,moments=\"mv\")\n",
    "print('La media es:', media)\n",
    "print('La varianza es:', var)"
   ]
  },
  {
   "cell_type": "code",
   "execution_count": 102,
   "id": "07429b66-a9ae-4441-871f-7b254dbdb1c9",
   "metadata": {},
   "outputs": [
    {
     "data": {
      "text/plain": [
       "0.6"
      ]
     },
     "execution_count": 102,
     "metadata": {},
     "output_type": "execute_result"
    }
   ],
   "source": [
    "bernoulli.pmf(1, p)"
   ]
  },
  {
   "cell_type": "code",
   "execution_count": 104,
   "id": "b5608152",
   "metadata": {},
   "outputs": [
    {
     "data": {
      "image/png": "[encoded data removed]",
      "text/plain": [
       "<Figure size 432x288 with 1 Axes>"
      ]
     },
     "metadata": {
      "needs_background": "light"
     },
     "output_type": "display_data"
    }
   ],
   "source": [
    "x = np.arange(bernoulli.ppf(0.01, p),\n",
    "              bernoulli.ppf(1, p)+0.1)\n",
    "plt.plot(x, bernoulli.pmf(x, p), 'bo')\n",
    "plt.vlines(x, 0, bernoulli.pmf(x, p), colors='b', lw=5, alpha=0.5)\n",
    "plt.title(\"Función de probabilidad bernoulli\")\n",
    "plt.xlabel(\"Valores\")\n",
    "plt.ylabel(\"Probabilidad\")\n",
    "\n",
    "plt.show()"
   ]
  },
  {
   "cell_type": "code",
   "execution_count": 105,
   "id": "c64c661d",
   "metadata": {},
   "outputs": [
    {
     "name": "stdout",
     "output_type": "stream",
     "text": [
      "[0 1 0 ... 1 0 1]\n"
     ]
    }
   ],
   "source": [
    "r_ber=bernoulli.rvs(p, size=10000, random_state=13)\n",
    "print(r_ber)"
   ]
  },
  {
   "cell_type": "code",
   "execution_count": 193,
   "id": "e2ce10c8",
   "metadata": {},
   "outputs": [
    {
     "data": {
      "image/png": "[encoded data removed]",
      "text/plain": [
       "<Figure size 360x360 with 1 Axes>"
      ]
     },
     "metadata": {
      "needs_background": "light"
     },
     "output_type": "display_data"
    }
   ],
   "source": [
    "ax=sns.displot(r_ber,\n",
    "               kde=False,\n",
    "               color=\"skyblue\",\n",
    "               bins=2)\n",
    "ax.set(xlabel='Distribución Bernoulli', ylabel='Frecuencia', title='Frecuencia de los valores de la V.A.')\n",
    "plt.show()"
   ]
  },
  {
   "cell_type": "markdown",
   "id": "7ee9ed9c",
   "metadata": {},
   "source": [
    "¿Qué sucede si cambiamos el valor de $\\pi$? Veamos que podemos analizar los resultados a partir de la variabilidad."
   ]
  },
  {
   "cell_type": "code",
   "execution_count": 194,
   "id": "5d832890",
   "metadata": {},
   "outputs": [
    {
     "data": {
      "image/png": "[encoded data removed]",
      "text/plain": [
       "<Figure size 432x288 with 1 Axes>"
      ]
     },
     "metadata": {
      "needs_background": "light"
     },
     "output_type": "display_data"
    }
   ],
   "source": [
    "pi = np.linspace(0,1,100)\n",
    "var = pi*(1-pi)\n",
    "plt.plot(pi, var)\n",
    "plt.vlines(p ,ymin=0, ymax=p*(1-p), colors='r', lw=3, alpha=0.5)\n",
    "plt.title(\"Función de varianza de la distribución Bernoulli\")\n",
    "plt.xlabel(\"$\\pi$\")\n",
    "plt.ylabel(\"Varianza\")\n",
    "plt.show()"
   ]
  },
  {
   "cell_type": "markdown",
   "id": "84eed0c0",
   "metadata": {},
   "source": [
    "#### Distribución Binomial"
   ]
  },
  {
   "cell_type": "code",
   "execution_count": 195,
   "id": "26fa55de",
   "metadata": {},
   "outputs": [
    {
     "name": "stdout",
     "output_type": "stream",
     "text": [
      "[0.064 0.288 0.432 0.216]\n"
     ]
    }
   ],
   "source": [
    "from scipy.stats import binom\n",
    "\n",
    "n,p = 3, 0.6\n",
    "binomial=binom(n,p)\n",
    "\n",
    "Probabilidades = [binom.pmf(k,n,p) for k in range(n+1)]\n",
    "\n",
    "print(np.round(Probabilidades,3))"
   ]
  },
  {
   "cell_type": "markdown",
   "id": "8bb13beb",
   "metadata": {},
   "source": [
    "Para obtener algunas medidas de la distribución como la media y la varianza, podemos utilizar `stats()`:"
   ]
  },
  {
   "cell_type": "code",
   "execution_count": 196,
   "id": "2d533b7a",
   "metadata": {},
   "outputs": [
    {
     "name": "stdout",
     "output_type": "stream",
     "text": [
      "1.7999999999999998 0.72\n"
     ]
    }
   ],
   "source": [
    "media, var=binomial.stats(moments=\"mv\")\n",
    "print(media, var)"
   ]
  },
  {
   "cell_type": "markdown",
   "id": "dcb36d14",
   "metadata": {},
   "source": [
    "Vamos a calcular las siguientes probabilidades:\n",
    "\n",
    "$$\n",
    "\\begin{align}\n",
    "p_q[0]\\\\\n",
    "p_q[1]\\\\\n",
    "p_q[2]\\\\\n",
    "p_q[3]\n",
    "\\end{align}\n",
    "$$\n",
    "\n",
    "esto podemos hacerlo usando la función `binom.pmf()`"
   ]
  },
  {
   "cell_type": "code",
   "execution_count": 197,
   "id": "21d028bb",
   "metadata": {},
   "outputs": [
    {
     "name": "stdout",
     "output_type": "stream",
     "text": [
      "P[ 0 )= 0.064\n",
      "P[ 1 )= 0.288\n",
      "P[ 2 )= 0.432\n",
      "P[ 3 )= 0.216\n"
     ]
    }
   ],
   "source": [
    "for i in range(4):\n",
    "    prob=round(binomial.pmf(i), 3)\n",
    "    print(\"P[\",i ,\")=\",prob)"
   ]
  },
  {
   "cell_type": "markdown",
   "id": "53b732a1",
   "metadata": {},
   "source": [
    "Podemos generar la gráfica de la pmf"
   ]
  },
  {
   "cell_type": "code",
   "execution_count": 198,
   "id": "5d42d5cc",
   "metadata": {},
   "outputs": [
    {
     "data": {
      "image/png": "[encoded data removed]",
      "text/plain": [
       "<Figure size 432x288 with 1 Axes>"
      ]
     },
     "metadata": {
      "needs_background": "light"
     },
     "output_type": "display_data"
    }
   ],
   "source": [
    "x = np.arange(binomial.ppf(0.01),\n",
    "              binomial.ppf(1)+0.1)\n",
    "plt.plot(x, binomial.pmf(x), \"bo\", ms=8)\n",
    "plt.vlines(x, 0, binomial.pmf(x), colors='b', lw=10, alpha=0.5)\n",
    "plt.title('Funcion de probabilidad  $p_q$')\n",
    "plt.xlabel('Valores de  $p_q$')\n",
    "plt.ylabel('Probabilidad')\n",
    "plt.show()"
   ]
  },
  {
   "cell_type": "markdown",
   "id": "b81b0764",
   "metadata": {},
   "source": [
    "Para calcular probabilidades estilo $P[x<2]$, podemos sumar $P[x=0]+P[x=1]$ o podemos usar `binom.cdf()`, donde $P[x<2]=P[x<=1]$. si queremos por ejemplo $P[x>2]$, podemos interpretarlo como $1-P[x<=2]$"
   ]
  },
  {
   "cell_type": "code",
   "execution_count": 199,
   "id": "4f8af63f",
   "metadata": {},
   "outputs": [
    {
     "name": "stdout",
     "output_type": "stream",
     "text": [
      "0.3520000000000001 0.352\n"
     ]
    }
   ],
   "source": [
    "prob=binomial.pmf(0)+binomial.pmf(1)\n",
    "prob_cdf=binomial.cdf(1)\n",
    "print(prob, round(prob_cdf,3))"
   ]
  },
  {
   "cell_type": "code",
   "execution_count": 200,
   "id": "6087f06e",
   "metadata": {},
   "outputs": [
    {
     "name": "stdout",
     "output_type": "stream",
     "text": [
      "0.216 0.216\n"
     ]
    }
   ],
   "source": [
    "prob_mayor_2=round(1-binomial.cdf(2),3)\n",
    "prob=round(binomial.pmf(3),3)\n",
    "print(prob_mayor_2, prob)"
   ]
  },
  {
   "cell_type": "markdown",
   "id": "d2e6e4a5",
   "metadata": {},
   "source": [
    "Generamos la gráfica de  función acumulada."
   ]
  },
  {
   "cell_type": "code",
   "execution_count": 201,
   "id": "030363c2",
   "metadata": {},
   "outputs": [
    {
     "data": {
      "image/png": "[encoded data removed]",
      "text/plain": [
       "<Figure size 432x288 with 1 Axes>"
      ]
     },
     "metadata": {
      "needs_background": "light"
     },
     "output_type": "display_data"
    }
   ],
   "source": [
    "prob = binomial.cdf(x)\n",
    "plt.plot(x, prob, 'bo', ms=8)\n",
    "plt.title(\"Función acumulada de distribución\")\n",
    "plt.xlabel('Valores')\n",
    "plt.ylabel('Probabilidad')\n",
    "for i,j in zip(x, prob):\n",
    "    plt.hlines(y=j, xmin=i, xmax=i+1)\n",
    "plt.show()"
   ]
  },
  {
   "cell_type": "markdown",
   "id": "6f78aa53",
   "metadata": {},
   "source": [
    "Con Scipy podemos generar una muestra de números aleatorios de una distribución con la función `binom.rvs`"
   ]
  },
  {
   "cell_type": "code",
   "execution_count": 202,
   "id": "93481f19",
   "metadata": {},
   "outputs": [
    {
     "name": "stdout",
     "output_type": "stream",
     "text": [
      "[1 2 1 ... 3 1 2]\n"
     ]
    }
   ],
   "source": [
    "r_binom=binomial.rvs(size=10000, random_state=13)\n",
    "print(r_binom)"
   ]
  },
  {
   "cell_type": "code",
   "execution_count": 205,
   "id": "51b23877",
   "metadata": {},
   "outputs": [
    {
     "data": {
      "image/png": "[encoded data removed]",
      "text/plain": [
       "<Figure size 360x360 with 1 Axes>"
      ]
     },
     "metadata": {
      "needs_background": "light"
     },
     "output_type": "display_data"
    }
   ],
   "source": [
    "ax=sns.displot(r_binom,\n",
    "               kde=False,\n",
    "               color=\"skyblue\",\n",
    "               bins=4)\n",
    "ax.set(xlabel='Distribución Binomial', ylabel='Frecuencia',\n",
    "       title=\"Frecuencia muestra Binomial\")\n",
    "plt.show()"
   ]
  },
  {
   "cell_type": "markdown",
   "id": "4b182be4",
   "metadata": {},
   "source": [
    "### Distribuciones Continuas\n",
    "\n",
    "#### Distribución Uniforme continua\n",
    "\n",
    "Ya que esta es una distribución continua, tenemos que hacer algunos cambios en el código establecido, ahora, se pueden tomar valores entre los enteros, por ejemplo (2.4)."
   ]
  },
  {
   "cell_type": "code",
   "execution_count": 206,
   "id": "19e6f498",
   "metadata": {},
   "outputs": [],
   "source": [
    "from scipy.stats import uniform\n",
    "unif=uniform(0,10)"
   ]
  },
  {
   "cell_type": "code",
   "execution_count": 207,
   "id": "69b16d96",
   "metadata": {},
   "outputs": [
    {
     "data": {
      "image/png": "[encoded data removed]",
      "text/plain": [
       "<Figure size 432x288 with 1 Axes>"
      ]
     },
     "metadata": {
      "needs_background": "light"
     },
     "output_type": "display_data"
    }
   ],
   "source": [
    "x = np.linspace(unif.ppf(0),\n",
    "                unif.ppf(0.99), 100)  ####porque hasta 0.99 y no hasta 1?\n",
    "plt.plot(x, unif.pdf(x),'r-', lw=2, alpha=0.6)\n",
    "plt.ylim(0,0.3)\n",
    "plt.fill_between(x,unif.pdf(x), color=\"red\")\n",
    "plt.title(\"Función de densidad de probabilidad\")\n",
    "plt.xlabel('Valores')\n",
    "plt.ylabel('Probabilidad')\n",
    "plt.show()"
   ]
  },
  {
   "cell_type": "code",
   "execution_count": 208,
   "id": "7edaa6de",
   "metadata": {},
   "outputs": [
    {
     "data": {
      "image/png": "[encoded data removed]",
      "text/plain": [
       "<Figure size 432x288 with 1 Axes>"
      ]
     },
     "metadata": {
      "needs_background": "light"
     },
     "output_type": "display_data"
    }
   ],
   "source": [
    "prob=unif.cdf(x)\n",
    "plt.plot(x, prob)\n",
    "plt.title(\"Función de densidad acumulada\")\n",
    "plt.xlabel('Valores')\n",
    "plt.ylabel('F(x)')\n",
    "plt.show()"
   ]
  },
  {
   "cell_type": "code",
   "execution_count": 209,
   "id": "a49f1366",
   "metadata": {},
   "outputs": [
    {
     "name": "stdout",
     "output_type": "stream",
     "text": [
      "[0.   0.01 0.02 0.03 0.04 0.05 0.06 0.07 0.08 0.09 0.1  0.11 0.12 0.13\n",
      " 0.14 0.15 0.16 0.17 0.18 0.19 0.2  0.21 0.22 0.23 0.24 0.25 0.26 0.27\n",
      " 0.28 0.29 0.3  0.31 0.32 0.33 0.34 0.35 0.36 0.37 0.38 0.39 0.4  0.41\n",
      " 0.42 0.43 0.44 0.45 0.46 0.47 0.48 0.49 0.5  0.51 0.52 0.53 0.54 0.55\n",
      " 0.56 0.57 0.58 0.59 0.6  0.61 0.62 0.63 0.64 0.65 0.66 0.67 0.68 0.69\n",
      " 0.7  0.71 0.72 0.73 0.74 0.75 0.76 0.77 0.78 0.79 0.8  0.81 0.82 0.83\n",
      " 0.84 0.85 0.86 0.87 0.88 0.89 0.9  0.91 0.92 0.93 0.94 0.95 0.96 0.97\n",
      " 0.98 0.99]\n"
     ]
    }
   ],
   "source": [
    "print(prob)"
   ]
  },
  {
   "cell_type": "code",
   "execution_count": 211,
   "id": "6f536383",
   "metadata": {},
   "outputs": [
    {
     "name": "stdout",
     "output_type": "stream",
     "text": [
      "[7.77702411 2.3754122  8.24278533 ... 1.32526238 7.98177733 2.99069767]\n"
     ]
    }
   ],
   "source": [
    "r_unif=unif.rvs(size=10000, random_state=13)\n",
    "\n",
    "print(r_unif)"
   ]
  },
  {
   "cell_type": "code",
   "execution_count": 212,
   "id": "f3ce6763",
   "metadata": {},
   "outputs": [
    {
     "data": {
      "image/png": "[encoded data removed]",
      "text/plain": [
       "<Figure size 360x360 with 1 Axes>"
      ]
     },
     "metadata": {
      "needs_background": "light"
     },
     "output_type": "display_data"
    }
   ],
   "source": [
    "ax=sns.displot(r_unif,\n",
    "                kde=True,\n",
    "                color=\"darkblue\",\n",
    "                rug_kws={\"linewidth\": 15,'alpha':1},\n",
    "                bins=11)\n",
    "ax.set(title='Distribución uniforme continua', xlabel='Valores', ylabel='Frecuencia')\n",
    "plt.show()"
   ]
  },
  {
   "cell_type": "markdown",
   "id": "bcd8f862",
   "metadata": {},
   "source": [
    "#### Distribución Normal"
   ]
  },
  {
   "cell_type": "code",
   "execution_count": 213,
   "id": "97c83ceb",
   "metadata": {},
   "outputs": [],
   "source": [
    "from scipy.stats import norm\n",
    "normal=norm(loc=0, scale=1) #loc=media, scale=desviación estándar"
   ]
  },
  {
   "cell_type": "markdown",
   "id": "b3a0248e",
   "metadata": {},
   "source": [
    "No tiene sentido calcular $P(X=x)$ en una distribución continua. La función `norm.pdf()` se refiere a la densidad de la función."
   ]
  },
  {
   "cell_type": "markdown",
   "id": "6645150a",
   "metadata": {},
   "source": [
    "Vamos a calcular $P(-1<X<1.5)$. Por suerte sabemos que,\n",
    "\n",
    "$$\n",
    "\\begin{align}\n",
    "\\text{P}[a<X<b]&=\\text{P}[X<b]-\\text{P}[X<a]\\\\\n",
    "\\end{align}\n",
    "$$\n",
    "\n",
    "Por tanto tenemos que hacer los siguientes calculos:"
   ]
  },
  {
   "cell_type": "code",
   "execution_count": 214,
   "id": "211d2275",
   "metadata": {},
   "outputs": [
    {
     "name": "stdout",
     "output_type": "stream",
     "text": [
      "p(a<X<b)= 0.775\n"
     ]
    }
   ],
   "source": [
    "P_b,  P_a=normal.cdf(1.5), normal.cdf(-1)\n",
    "\n",
    "prob_a_b=P_b-P_a\n",
    "\n",
    "print(\"p(a<X<b)=\", round(prob_a_b,3))"
   ]
  },
  {
   "cell_type": "markdown",
   "id": "aaf10450",
   "metadata": {},
   "source": [
    "Si queremos obtener un intervalo que contenga el $95\\%$ de la distribución, podemos usar la función `interval()`"
   ]
  },
  {
   "cell_type": "code",
   "execution_count": 215,
   "id": "fd79350c",
   "metadata": {},
   "outputs": [
    {
     "name": "stdout",
     "output_type": "stream",
     "text": [
      "intervalo del 95%:  (-1.959963984540054, 1.959963984540054)\n"
     ]
    }
   ],
   "source": [
    "LCI,UCI=normal.interval(0.95)\n",
    "print(\"intervalo del 95%: \",(LCI, UCI))"
   ]
  },
  {
   "cell_type": "markdown",
   "id": "cadbd85b",
   "metadata": {},
   "source": [
    "Podemos agregar este intervalo al grafico de densidad."
   ]
  },
  {
   "cell_type": "code",
   "execution_count": 216,
   "id": "4ef10261",
   "metadata": {},
   "outputs": [
    {
     "data": {
      "image/png": "[encoded data removed]",
      "text/plain": [
       "<Figure size 432x288 with 1 Axes>"
      ]
     },
     "metadata": {
      "needs_background": "light"
     },
     "output_type": "display_data"
    }
   ],
   "source": [
    "x = np.linspace(norm.ppf(0.01),\n",
    "                norm.ppf(0.99), 100)\n",
    "plt.plot(x, normal.pdf(x),'b-', lw=5, alpha=0.6)\n",
    "plt.fill_between(x, normal.pdf(x), 0, \n",
    "                 where = (x >= LCI) & (x <= UCI), \n",
    "                 color = 'g')\n",
    "plt.title(\"Función de densidad de probabilidad 95%\")\n",
    "plt.xlabel(\"x\")\n",
    "plt.ylabel(\"f(x)\")\n",
    "plt.show()"
   ]
  },
  {
   "cell_type": "markdown",
   "id": "bdcce6a1",
   "metadata": {},
   "source": [
    "Generamos los números aleatorios y observaremos su comportamiento en un histograma"
   ]
  },
  {
   "cell_type": "code",
   "execution_count": 218,
   "id": "ca9c891d",
   "metadata": {},
   "outputs": [
    {
     "data": {
      "image/png": "[encoded data removed]",
      "text/plain": [
       "<Figure size 360x360 with 1 Axes>"
      ]
     },
     "metadata": {
      "needs_background": "light"
     },
     "output_type": "display_data"
    }
   ],
   "source": [
    "r_norm=normal.rvs(size=10000, random_state=15)\n",
    "\n",
    "ax=sns.displot(r_norm,\n",
    "               kde=True,\n",
    "               color=\"darkblue\",\n",
    "               rug_kws={\"linewidth\": 15,'alpha':.5})\n",
    "ax.set(xlabel='Distribución normal', ylabel='Frecuencia', title=\"Histograma distribución normal\")\n",
    "plt.show()"
   ]
  },
  {
   "cell_type": "markdown",
   "id": "f1b9b80a",
   "metadata": {},
   "source": [
    "Si quisieramos comparar en una misma gráfica distintas distribuciones o la misma districuión con diferentes parámetros, podríamos hacerlo con el siguiente código:"
   ]
  },
  {
   "cell_type": "code",
   "execution_count": 44,
   "id": "bdef8373",
   "metadata": {},
   "outputs": [
    {
     "data": {
      "image/png": "[encoded data removed]",
      "text/plain": [
       "<Figure size 576x288 with 1 Axes>"
      ]
     },
     "metadata": {
      "needs_background": "light"
     },
     "output_type": "display_data"
    }
   ],
   "source": [
    "fig, ax = plt.subplots(1, 1,figsize=(8, 4))\n",
    "plt.title('Función de densidad',fontsize=12)\n",
    "\n",
    "x = np.linspace(-6,6,300)\n",
    "\n",
    "norm_estand = norm.pdf(x, loc=0, scale=1)\n",
    "ax.plot(x, norm_estand, 'g-', lw=4, alpha=0.8, label='N(0,1)')\n",
    "\n",
    "norm_1 = norm.pdf(x, loc=1, scale=1)\n",
    "ax.plot(x, norm_1, 'r-', lw=2, alpha=0.6, label='N(1,1)')\n",
    "\n",
    "norm_2 = norm.pdf(x, loc=0, scale=2)\n",
    "ax.plot(x, norm_2, 'b-', lw=2, alpha=0.6, label='N(0,2)')\n",
    "\n",
    "plt.xlabel('$x$',fontsize=14)\n",
    "plt.ylabel('f(x)',fontsize=14)\n",
    "plt.legend()\n",
    "plt.show()"
   ]
  },
  {
   "cell_type": "markdown",
   "id": "df33351b",
   "metadata": {},
   "source": [
    "## Ejercicios"
   ]
  },
  {
   "cell_type": "markdown",
   "id": "e59f02f9",
   "metadata": {},
   "source": [
    "* Simular el lanzamiento de dos dados de 4 lados y uno de 6. Calcular las siguientes probabilidades y hacer histograma de cada uno:\n",
    "\n",
    "$$\n",
    "\\begin{align}\n",
    "\\text{Prob}&[f \\text{ par } \\& \\text{  } (6<f<10)]\\\\\n",
    "\\text{Prob}&[f<5 | f>12)]\n",
    "\\end{align}\n",
    "$$\n",
    "\n",
    "* Siendo $f$ una distribución **poisson** de parámetro 4. encontrar $P[f>3]$.\n",
    "\n",
    "* Siendo $f$ una distribución **chi cuadrado** con 2 grados de libertad, encuentre un **intervalo** del 60% de la distribución y haga una gráfica de la densidad de la distrución junto con lineas verticales que limiten este intervalo."
   ]
  }
 ],
 "metadata": {
  "kernelspec": {
   "display_name": "Python 3.10.5 64-bit",
   "language": "python",
   "name": "python3"
  },
  "language_info": {
   "codemirror_mode": {
    "name": "ipython",
    "version": 3
   },
   "file_extension": ".py",
   "mimetype": "text/x-python",
   "name": "python",
   "nbconvert_exporter": "python",
   "pygments_lexer": "ipython3",
   "version": "3.10.5"
  },
  "vscode": {
   "interpreter": {
    "hash": "e7370f93d1d0cde622a1f8e1c04877d8463912d04d973331ad4851f04de6915a"
   }
  }
 },
 "nbformat": 4,
 "nbformat_minor": 5
}
