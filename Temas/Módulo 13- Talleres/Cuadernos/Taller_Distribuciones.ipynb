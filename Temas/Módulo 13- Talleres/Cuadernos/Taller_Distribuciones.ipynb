{
 "cells": [
  {
   "cell_type": "markdown",
   "id": "steady-science",
   "metadata": {},
   "source": [
    "# <span style=\"color:green\"><center>Diplomado en Inteligencia Artificial y Aprendizaje Profundo</center></span>"
   ]
  },
  {
   "cell_type": "markdown",
   "id": "secure-alpha",
   "metadata": {},
   "source": [
    "# <span style=\"color:red\"><center>Taller de Distribuciones de probabilidad en Python</center></span>"
   ]
  },
  {
   "cell_type": "markdown",
   "id": "million-academy",
   "metadata": {},
   "source": [
    "##   <span style=\"color:blue\">Profesores</span>"
   ]
  },
  {
   "cell_type": "markdown",
   "id": "dramatic-thompson",
   "metadata": {},
   "source": [
    "1. Alvaro Mauricio Montenegro Díaz, ammontenegrod@unal.edu.co\n",
    "2. Daniel Mauricio Montenegro Reyes, dextronomo@gmail.com \n",
    "3. Campo Elías Pardo Turriago, cepardot@unal.edu.co "
   ]
  },
  {
   "cell_type": "markdown",
   "id": "western-encyclopedia",
   "metadata": {},
   "source": [
    "##   <span style=\"color:blue\">Asesora Medios y Marketing digital</span>"
   ]
  },
  {
   "cell_type": "markdown",
   "id": "inside-procurement",
   "metadata": {},
   "source": [
    "4. Maria del Pilar Montenegro, pmontenegro88@gmail.com "
   ]
  },
  {
   "cell_type": "markdown",
   "id": "ordinary-commission",
   "metadata": {},
   "source": [
    "## <span style=\"color:blue\">Asistentes</span>"
   ]
  },
  {
   "cell_type": "markdown",
   "id": "focused-attention",
   "metadata": {},
   "source": [
    "5. Oleg Jarma, ojarmam@unal.edu.co \n",
    "6. Laura Lizarazo, ljlizarazore@unal.edu.co "
   ]
  },
  {
   "cell_type": "markdown",
   "id": "intermediate-grain",
   "metadata": {},
   "source": [
    "## Contenido"
   ]
  },
  {
   "cell_type": "markdown",
   "id": "piano-investigation",
   "metadata": {},
   "source": [
    "## Requerimientos"
   ]
  },
  {
   "cell_type": "markdown",
   "id": "gothic-reach",
   "metadata": {},
   "source": [
    "Para seguir este taller se necesitan los siguientes paquetes:\n",
    "\n",
    "* Numpy\n",
    "* Scipy\n",
    "* Matplotlib\n",
    "* Seaborn"
   ]
  },
  {
   "cell_type": "markdown",
   "id": "forward-collar",
   "metadata": {},
   "source": [
    "## Explicando el ejemplo de los dados"
   ]
  },
  {
   "cell_type": "markdown",
   "id": "delayed-hampton",
   "metadata": {},
   "source": [
    "Vamos a adentrarnos un poco en el ejemplo de los dados"
   ]
  },
  {
   "cell_type": "code",
   "execution_count": 1,
   "id": "creative-proportion",
   "metadata": {},
   "outputs": [
    {
     "name": "stdout",
     "output_type": "stream",
     "text": [
      "f( 1.0 , 1.0 ) = 2.0\n",
      "f( 1.0 , 2.0 ) = 3.0\n",
      "f( 1.0 , 3.0 ) = 4.0\n",
      "f( 1.0 , 4.0 ) = 5.0\n",
      "f( 1.0 , 5.0 ) = 6.0\n",
      "f( 1.0 , 6.0 ) = 7.0\n",
      "f( 2.0 , 1.0 ) = 3.0\n",
      "f( 2.0 , 2.0 ) = 4.0\n",
      "f( 2.0 , 3.0 ) = 5.0\n",
      "f( 2.0 , 4.0 ) = 6.0\n",
      "f( 2.0 , 5.0 ) = 7.0\n",
      "f( 2.0 , 6.0 ) = 8.0\n",
      "f( 3.0 , 1.0 ) = 4.0\n",
      "f( 3.0 , 2.0 ) = 5.0\n",
      "f( 3.0 , 3.0 ) = 6.0\n",
      "f( 3.0 , 4.0 ) = 7.0\n",
      "f( 3.0 , 5.0 ) = 8.0\n",
      "f( 3.0 , 6.0 ) = 9.0\n",
      "f( 4.0 , 1.0 ) = 5.0\n",
      "f( 4.0 , 2.0 ) = 6.0\n",
      "f( 4.0 , 3.0 ) = 7.0\n",
      "f( 4.0 , 4.0 ) = 8.0\n",
      "f( 4.0 , 5.0 ) = 9.0\n",
      "f( 4.0 , 6.0 ) = 10.0\n",
      "f( 5.0 , 1.0 ) = 6.0\n",
      "f( 5.0 , 2.0 ) = 7.0\n",
      "f( 5.0 , 3.0 ) = 8.0\n",
      "f( 5.0 , 4.0 ) = 9.0\n",
      "f( 5.0 , 5.0 ) = 10.0\n",
      "f( 5.0 , 6.0 ) = 11.0\n",
      "f( 6.0 , 1.0 ) = 7.0\n",
      "f( 6.0 , 2.0 ) = 8.0\n",
      "f( 6.0 , 3.0 ) = 9.0\n",
      "f( 6.0 , 4.0 ) = 10.0\n",
      "f( 6.0 , 5.0 ) = 11.0\n",
      "f( 6.0 , 6.0 ) = 12.0\n"
     ]
    }
   ],
   "source": [
    "import numpy as np\n",
    "np.random.seed(27)\n",
    "d1=6 #lados del dado 1\n",
    "d2=6 #lados del dado 2\n",
    "\n",
    "# espacio muestral\n",
    "M = np.zeros((d1*d2,2))\n",
    "#0 0\n",
    "#0 0\n",
    "#0 0\n",
    "#0 0\n",
    "#0 0\n",
    "#0 0\n",
    "k=0\n",
    "for i in range(1,d1+1):\n",
    "    for j in range(1,d2+1):\n",
    "        M[k,] = (i,j)\n",
    "        k+=1\n",
    "\n",
    "        \n",
    "# calcula la variable aleatoria f: f(x,y)=x+y        \n",
    "f = np.zeros(d1*d2)\n",
    "for k in range(d1*d2):\n",
    "    f[k] = M[k,0] + M[k,1]\n",
    "    \n",
    "# presenta los resultados\n",
    "for k in range(d1*d2):\n",
    "    print('f(',M[k,0],',',M[k,1],') =', f[k])"
   ]
  },
  {
   "cell_type": "markdown",
   "id": "above-ambassador",
   "metadata": {},
   "source": [
    "Qué tal si queremos calcular la probabilidad de salida de 3 dados?"
   ]
  },
  {
   "cell_type": "code",
   "execution_count": 2,
   "id": "arbitrary-marsh",
   "metadata": {},
   "outputs": [
    {
     "name": "stdout",
     "output_type": "stream",
     "text": [
      "f( 1.0 , 1.0 , 1.0 ) = 3.0\n",
      "f( 1.0 , 1.0 , 2.0 ) = 4.0\n",
      "f( 1.0 , 1.0 , 3.0 ) = 5.0\n",
      "f( 1.0 , 1.0 , 4.0 ) = 6.0\n",
      "f( 1.0 , 2.0 , 1.0 ) = 4.0\n",
      "f( 1.0 , 2.0 , 2.0 ) = 5.0\n",
      "f( 1.0 , 2.0 , 3.0 ) = 6.0\n",
      "f( 1.0 , 2.0 , 4.0 ) = 7.0\n",
      "f( 1.0 , 3.0 , 1.0 ) = 5.0\n",
      "f( 1.0 , 3.0 , 2.0 ) = 6.0\n",
      "f( 1.0 , 3.0 , 3.0 ) = 7.0\n",
      "f( 1.0 , 3.0 , 4.0 ) = 8.0\n",
      "f( 1.0 , 4.0 , 1.0 ) = 6.0\n",
      "f( 1.0 , 4.0 , 2.0 ) = 7.0\n",
      "f( 1.0 , 4.0 , 3.0 ) = 8.0\n",
      "f( 1.0 , 4.0 , 4.0 ) = 9.0\n",
      "f( 2.0 , 1.0 , 1.0 ) = 4.0\n",
      "f( 2.0 , 1.0 , 2.0 ) = 5.0\n",
      "f( 2.0 , 1.0 , 3.0 ) = 6.0\n",
      "f( 2.0 , 1.0 , 4.0 ) = 7.0\n",
      "f( 2.0 , 2.0 , 1.0 ) = 5.0\n",
      "f( 2.0 , 2.0 , 2.0 ) = 6.0\n",
      "f( 2.0 , 2.0 , 3.0 ) = 7.0\n",
      "f( 2.0 , 2.0 , 4.0 ) = 8.0\n",
      "f( 2.0 , 3.0 , 1.0 ) = 6.0\n",
      "f( 2.0 , 3.0 , 2.0 ) = 7.0\n",
      "f( 2.0 , 3.0 , 3.0 ) = 8.0\n",
      "f( 2.0 , 3.0 , 4.0 ) = 9.0\n",
      "f( 2.0 , 4.0 , 1.0 ) = 7.0\n",
      "f( 2.0 , 4.0 , 2.0 ) = 8.0\n",
      "f( 2.0 , 4.0 , 3.0 ) = 9.0\n",
      "f( 2.0 , 4.0 , 4.0 ) = 10.0\n",
      "f( 3.0 , 1.0 , 1.0 ) = 5.0\n",
      "f( 3.0 , 1.0 , 2.0 ) = 6.0\n",
      "f( 3.0 , 1.0 , 3.0 ) = 7.0\n",
      "f( 3.0 , 1.0 , 4.0 ) = 8.0\n",
      "f( 3.0 , 2.0 , 1.0 ) = 6.0\n",
      "f( 3.0 , 2.0 , 2.0 ) = 7.0\n",
      "f( 3.0 , 2.0 , 3.0 ) = 8.0\n",
      "f( 3.0 , 2.0 , 4.0 ) = 9.0\n",
      "f( 3.0 , 3.0 , 1.0 ) = 7.0\n",
      "f( 3.0 , 3.0 , 2.0 ) = 8.0\n",
      "f( 3.0 , 3.0 , 3.0 ) = 9.0\n",
      "f( 3.0 , 3.0 , 4.0 ) = 10.0\n",
      "f( 3.0 , 4.0 , 1.0 ) = 8.0\n",
      "f( 3.0 , 4.0 , 2.0 ) = 9.0\n",
      "f( 3.0 , 4.0 , 3.0 ) = 10.0\n",
      "f( 3.0 , 4.0 , 4.0 ) = 11.0\n",
      "f( 4.0 , 1.0 , 1.0 ) = 6.0\n",
      "f( 4.0 , 1.0 , 2.0 ) = 7.0\n",
      "f( 4.0 , 1.0 , 3.0 ) = 8.0\n",
      "f( 4.0 , 1.0 , 4.0 ) = 9.0\n",
      "f( 4.0 , 2.0 , 1.0 ) = 7.0\n",
      "f( 4.0 , 2.0 , 2.0 ) = 8.0\n",
      "f( 4.0 , 2.0 , 3.0 ) = 9.0\n",
      "f( 4.0 , 2.0 , 4.0 ) = 10.0\n",
      "f( 4.0 , 3.0 , 1.0 ) = 8.0\n",
      "f( 4.0 , 3.0 , 2.0 ) = 9.0\n",
      "f( 4.0 , 3.0 , 3.0 ) = 10.0\n",
      "f( 4.0 , 3.0 , 4.0 ) = 11.0\n",
      "f( 4.0 , 4.0 , 1.0 ) = 9.0\n",
      "f( 4.0 , 4.0 , 2.0 ) = 10.0\n",
      "f( 4.0 , 4.0 , 3.0 ) = 11.0\n",
      "f( 4.0 , 4.0 , 4.0 ) = 12.0\n"
     ]
    }
   ],
   "source": [
    "d1=4 #lados del dado 1\n",
    "d2=4 #lados del dado 2\n",
    "d3=4 #lados del dado 3\n",
    "\n",
    "# espacio muestral\n",
    "M3 = np.zeros((d1*d2*d3,3))\n",
    "#0 0 0\n",
    "#0 0 0\n",
    "#0 0 0\n",
    "#0 0 0\n",
    "#0 0 0\n",
    "#0 0 0\n",
    "k=0\n",
    "for i in range(1,d1+1):\n",
    "    for j in range(1,d2+1):\n",
    "        for l in range(1,d3+1):\n",
    "            M3[k,] = (i,j,l)\n",
    "            k+=1\n",
    "\n",
    "        \n",
    "# calcula la variable aleatoria f: f(x,y,z)=x+y+z        \n",
    "f3 = np.zeros(d1*d2*d3)\n",
    "for k in range(d1*d2*d3):\n",
    "    f3[k] = M3[k,0] + M3[k,1]+M3[k,2]\n",
    "\n",
    "    \n",
    "# presenta los resultados\n",
    "for k in range(d1*d2*d3):\n",
    "    print('f(',M3[k,0],',',M3[k,1],',' ,M3[k,2],') =', f3[k])"
   ]
  },
  {
   "cell_type": "code",
   "execution_count": 3,
   "id": "alternate-rates",
   "metadata": {},
   "outputs": [
    {
     "name": "stdout",
     "output_type": "stream",
     "text": [
      "[ 2.  3.  4.  5.  6.  7.  8.  9. 10. 11. 12.]\n",
      "[ 3.  4.  5.  6.  7.  8.  9. 10. 11. 12.]\n"
     ]
    }
   ],
   "source": [
    "print(np.unique(f)) \n",
    "print(np.unique(f3)) "
   ]
  },
  {
   "cell_type": "markdown",
   "id": "starting-greene",
   "metadata": {},
   "source": [
    "A continuación hacemos una explicación de la función del contador de frecuencia"
   ]
  },
  {
   "cell_type": "code",
   "execution_count": 4,
   "id": "emerging-principle",
   "metadata": {},
   "outputs": [],
   "source": [
    "# Función Python para contar los elementos la fecuencia\n",
    "# de los elementos de una lista, usando un diccionario\n",
    "  \n",
    "def CountFrequency(my_list): \n",
    "  \n",
    "    # Se crea un diccionario\n",
    "    freq = {} \n",
    "    for item in my_list: #se itera sobre los elementos en la lista\n",
    "        if (item in freq): #si el elemento en el loop ya está en el diccionario, se hace un conteo\n",
    "            freq[item] += 1\n",
    "        else: \n",
    "            freq[item] = 1 #si el elemento no se encuentra, se agrega y se le da el primer  contador\n",
    "    return freq      "
   ]
  },
  {
   "cell_type": "code",
   "execution_count": 5,
   "id": "controversial-basis",
   "metadata": {},
   "outputs": [
    {
     "name": "stdout",
     "output_type": "stream",
     "text": [
      " 2 :  1\n",
      " 3 :  2\n",
      " 4 :  3\n",
      " 5 :  4\n",
      " 6 :  5\n",
      " 7 :  6\n",
      " 8 :  5\n",
      " 9 :  4\n",
      " 10 :  3\n",
      " 11 :  2\n",
      " 12 :  1\n"
     ]
    },
    {
     "data": {
      "text/plain": [
       "{3.0: 1,\n",
       " 4.0: 3,\n",
       " 5.0: 6,\n",
       " 6.0: 10,\n",
       " 7.0: 12,\n",
       " 8.0: 12,\n",
       " 9.0: 10,\n",
       " 10.0: 6,\n",
       " 11.0: 3,\n",
       " 12.0: 1}"
      ]
     },
     "execution_count": 5,
     "metadata": {},
     "output_type": "execute_result"
    }
   ],
   "source": [
    "frec = CountFrequency(f)\n",
    "frec3 = CountFrequency(f3)  \n",
    "\n",
    "for key, value in frec.items():\n",
    "    print (\"% d : % d \"%(key, value)) \n",
    "\n",
    "frec3"
   ]
  },
  {
   "cell_type": "markdown",
   "id": "roman-tomorrow",
   "metadata": {},
   "source": [
    "## Cálculo de probabilidades"
   ]
  },
  {
   "cell_type": "markdown",
   "id": "republican-angle",
   "metadata": {},
   "source": [
    "En cuadernos anteriores vimos probabilidades de eventos, tales como\n",
    "\n",
    "$$\n",
    "\\begin{align}\n",
    "\\text{Prob}[f \\text{ es par }]\\\\\n",
    "\\text{Prob}[f\\leq 6]\\\\\n",
    "\\text{Prob}[f> 10]\\\\\n",
    "\\text{Prob}[f \\text{ es par }|f\\leq5]\n",
    "\\end{align}\n",
    "$$\n",
    "\n",
    "¿Cómo podemos calcular estas directamente en python? Podemos hacerlo con comprensión de listas"
   ]
  },
  {
   "cell_type": "code",
   "execution_count": 6,
   "id": "prescribed-pierre",
   "metadata": {},
   "outputs": [
    {
     "name": "stdout",
     "output_type": "stream",
     "text": [
      "Prob[f par]=18/36\n",
      "Prob[f<=6]=15/36\n",
      "Prob[f>10]=3/36\n",
      "Prob[f par | f<5]=24/36\n"
     ]
    }
   ],
   "source": [
    "##probabilidad de f par\n",
    "\n",
    "f_par=[x for x in f if x%2==0]\n",
    "\n",
    "f_menor_6=[x for x in f if x<=6]\n",
    "\n",
    "f_mayor_10=[x for x in f if x>10]\n",
    "\n",
    "f_par_menor_5=[x for x in f if (x%2==0 or x<=5)]\n",
    "\n",
    "print(\"Prob[f par]=%d/%d\" %(len(f_par),len(f)))\n",
    "\n",
    "print(\"Prob[f<=6]=%d/%d\" %(len(f_menor_6),len(f)))\n",
    "\n",
    "print(\"Prob[f>10]=%d/%d\" %(len(f_mayor_10),len(f)))\n",
    "\n",
    "print(\"Prob[f par | f<=5]=%d/%d\" %(len(f_par_menor_5),len(f)))"
   ]
  },
  {
   "cell_type": "code",
   "execution_count": 7,
   "id": "covered-variation",
   "metadata": {},
   "outputs": [
    {
     "name": "stdout",
     "output_type": "stream",
     "text": [
      "[ 2.  3.  4.  5.  6.  7.  3.  4.  5.  6.  7.  8.  4.  5.  6.  7.  8.  9.\n",
      "  5.  6.  7.  8.  9. 10.  6.  7.  8.  9. 10. 11.  7.  8.  9. 10. 11. 12.]\n"
     ]
    }
   ],
   "source": [
    "import matplotlib.pyplot as plt\n",
    "import seaborn as sns\n",
    "\n",
    "print(f)"
   ]
  },
  {
   "cell_type": "code",
   "execution_count": 44,
   "id": "moving-variety",
   "metadata": {},
   "outputs": [
    {
     "data": {
      "image/png": "[encoded data removed]",
      "text/plain": [
       "<Figure size 432x288 with 1 Axes>"
      ]
     },
     "metadata": {
      "needs_background": "light"
     },
     "output_type": "display_data"
    }
   ],
   "source": [
    "plt.hist(f, bins=11,density=True)\n",
    "plt.title('Funcion de probabilidad de la V.A. $f$')\n",
    "plt.xlabel('Valores de  $f$')\n",
    "plt.ylabel('Probabilidad')\n",
    "plt.show()"
   ]
  },
  {
   "cell_type": "code",
   "execution_count": 9,
   "id": "trained-ceramic",
   "metadata": {},
   "outputs": [
    {
     "data": {
      "text/plain": [
       "[<matplotlib.lines.Line2D at 0x7f88489e2640>]"
      ]
     },
     "execution_count": 9,
     "metadata": {},
     "output_type": "execute_result"
    },
    {
     "data": {
      "image/png": "[encoded data removed]",
      "text/plain": [
       "<Figure size 432x288 with 1 Axes>"
      ]
     },
     "metadata": {
      "needs_background": "light"
     },
     "output_type": "display_data"
    }
   ],
   "source": [
    "plt.plot(frec.keys(), frec.values())"
   ]
  },
  {
   "cell_type": "code",
   "execution_count": 10,
   "id": "rational-drama",
   "metadata": {},
   "outputs": [
    {
     "data": {
      "text/plain": [
       "<matplotlib.collections.PathCollection at 0x7f8848878850>"
      ]
     },
     "execution_count": 10,
     "metadata": {},
     "output_type": "execute_result"
    },
    {
     "data": {
      "image/png": "[encoded data removed]",
      "text/plain": [
       "<Figure size 432x288 with 1 Axes>"
      ]
     },
     "metadata": {
      "needs_background": "light"
     },
     "output_type": "display_data"
    }
   ],
   "source": [
    "plt.scatter(frec.keys(), frec.values())"
   ]
  },
  {
   "cell_type": "markdown",
   "id": "catholic-monkey",
   "metadata": {},
   "source": [
    "Vamos a generar unas cuantos lanzamientos simulados y observaremos su comportamiento"
   ]
  },
  {
   "cell_type": "code",
   "execution_count": 11,
   "id": "strange-interest",
   "metadata": {},
   "outputs": [],
   "source": [
    "from numpy  import random\n",
    "\n",
    "d1, d2, d3=4,4,4\n",
    "\n",
    "rolls = 10000 #simularemos 10000 lanzamientos de 3 dados\n",
    "Sums=[]\n",
    "for i in range(0, rolls):\n",
    "    dado1 = random.randint(1,d1+1)\n",
    "    dado2 = random.randint(1,d2+1)\n",
    "    dado3= random.randint(1,d3+1)\n",
    "    a=[dado1, dado2 ,dado3]\n",
    "    Sums.append(sum(a))\n"
   ]
  },
  {
   "cell_type": "code",
   "execution_count": 45,
   "id": "specified-compensation",
   "metadata": {},
   "outputs": [
    {
     "data": {
      "image/png": "[encoded data removed]",
      "text/plain": [
       "<Figure size 432x288 with 1 Axes>"
      ]
     },
     "metadata": {
      "needs_background": "light"
     },
     "output_type": "display_data"
    }
   ],
   "source": [
    "plt.hist(Sums,density=True)\n",
    "plt.title('Frecuencias simulación de dados')\n",
    "plt.xlabel('resultados')\n",
    "plt.ylabel('Frecuencias')\n",
    "plt.show()"
   ]
  },
  {
   "cell_type": "markdown",
   "id": "planned-ability",
   "metadata": {},
   "source": [
    "Su comportamiento en efecto es como esperado"
   ]
  },
  {
   "cell_type": "markdown",
   "id": "handed-tuesday",
   "metadata": {},
   "source": [
    "## SciPy para distribuciones"
   ]
  },
  {
   "cell_type": "markdown",
   "id": "dedicated-adams",
   "metadata": {},
   "source": [
    "El paquete Scipy cuenta con la clase \"Stats\". con la cual podemos calcular, graficar y generar números aleatorios de una gran mayoría de distribuciones"
   ]
  },
  {
   "cell_type": "markdown",
   "id": "wrapped-architecture",
   "metadata": {},
   "source": [
    "### Distribución Uniforme Discreta"
   ]
  },
  {
   "cell_type": "code",
   "execution_count": 13,
   "id": "accredited-output",
   "metadata": {},
   "outputs": [],
   "source": [
    "from scipy.stats import randint"
   ]
  },
  {
   "cell_type": "code",
   "execution_count": 14,
   "id": "speaking-guard",
   "metadata": {},
   "outputs": [
    {
     "name": "stdout",
     "output_type": "stream",
     "text": [
      "5.0 10.0\n"
     ]
    }
   ],
   "source": [
    "media, var=randint.stats(0,11,moments=\"mv\")\n",
    "print(media, var)"
   ]
  },
  {
   "cell_type": "markdown",
   "id": "wanted-secondary",
   "metadata": {},
   "source": [
    "Generamos la gráfica de la función de masa de probabilidad. Observamos que todos los puntos tienen la misma probabilidad"
   ]
  },
  {
   "cell_type": "code",
   "execution_count": 15,
   "id": "harmful-share",
   "metadata": {},
   "outputs": [
    {
     "data": {
      "image/png": "[encoded data removed]",
      "text/plain": [
       "<Figure size 432x288 with 1 Axes>"
      ]
     },
     "metadata": {
      "needs_background": "light"
     },
     "output_type": "display_data"
    }
   ],
   "source": [
    "discrete_uni=randint(0,10)\n",
    "x = np.arange(discrete_uni.ppf(0.01),\n",
    "              discrete_uni.ppf(1)+0.1)\n",
    "plt.plot(x, discrete_uni.pmf(x), 'bo', ms=8, label='randint pmf')\n",
    "plt.vlines(x, 0, discrete_uni.pmf(x), colors='b', lw=5, alpha=0.5)\n",
    "plt.title(\"Función de probabilidad Uniforme Discreta\")\n",
    "plt.xlabel(\"Valores\")\n",
    "plt.ylabel(\"Probabilidad\")\n",
    "\n",
    "plt.show()"
   ]
  },
  {
   "cell_type": "markdown",
   "id": "lasting-russian",
   "metadata": {},
   "source": [
    "Generamos la función acumulada"
   ]
  },
  {
   "cell_type": "code",
   "execution_count": 16,
   "id": "prime-participation",
   "metadata": {},
   "outputs": [
    {
     "data": {
      "image/png": "[encoded data removed]",
      "text/plain": [
       "<Figure size 432x288 with 1 Axes>"
      ]
     },
     "metadata": {
      "needs_background": "light"
     },
     "output_type": "display_data"
    }
   ],
   "source": [
    "prob = discrete_uni.cdf(x)\n",
    "plt.plot(x, prob, 'bo', ms=8)\n",
    "plt.title(\"Función acumulada de distribución\")\n",
    "for i,j in zip(x, prob):\n",
    "    plt.hlines(y=j, xmin=i, xmax=i+1)\n",
    "plt.show()"
   ]
  },
  {
   "cell_type": "markdown",
   "id": "social-pathology",
   "metadata": {},
   "source": [
    "con la función `rvs()` se genera una muestra de la distribución en cuestión"
   ]
  },
  {
   "cell_type": "code",
   "execution_count": 17,
   "id": "western-tyler",
   "metadata": {},
   "outputs": [
    {
     "name": "stdout",
     "output_type": "stream",
     "text": [
      "[3 8 8 ... 9 9 4]\n"
     ]
    }
   ],
   "source": [
    "r_unif=randint.rvs(0,10,size=10000)\n",
    "print(r_unif)"
   ]
  },
  {
   "cell_type": "markdown",
   "id": "answering-istanbul",
   "metadata": {},
   "source": [
    "### Distribución de Bernoulli"
   ]
  },
  {
   "cell_type": "code",
   "execution_count": 18,
   "id": "artistic-manitoba",
   "metadata": {},
   "outputs": [],
   "source": [
    "from scipy.stats import bernoulli"
   ]
  },
  {
   "cell_type": "code",
   "execution_count": 19,
   "id": "pressed-sodium",
   "metadata": {},
   "outputs": [
    {
     "name": "stdout",
     "output_type": "stream",
     "text": [
      "0.6 0.24\n"
     ]
    }
   ],
   "source": [
    "p=0.6\n",
    "media, var=bernoulli.stats(p,moments=\"mv\")\n",
    "print(media, var)"
   ]
  },
  {
   "cell_type": "code",
   "execution_count": 20,
   "id": "valid-deployment",
   "metadata": {},
   "outputs": [
    {
     "data": {
      "image/png": "[encoded data removed]",
      "text/plain": [
       "<Figure size 432x288 with 1 Axes>"
      ]
     },
     "metadata": {
      "needs_background": "light"
     },
     "output_type": "display_data"
    }
   ],
   "source": [
    "x = np.arange(bernoulli.ppf(0.01, p),\n",
    "              bernoulli.ppf(1, p)+0.1)\n",
    "plt.plot(x, bernoulli.pmf(x, p), 'bo')\n",
    "plt.vlines(x, 0, bernoulli.pmf(x, p), colors='b', lw=5, alpha=0.5)\n",
    "plt.title(\"Función de probabilidad bernoulli\")\n",
    "plt.xlabel(\"Valores\")\n",
    "plt.ylabel(\"Probabilidad\")\n",
    "\n",
    "plt.show()"
   ]
  },
  {
   "cell_type": "code",
   "execution_count": 21,
   "id": "moved-encyclopedia",
   "metadata": {},
   "outputs": [
    {
     "name": "stdout",
     "output_type": "stream",
     "text": [
      "[0 1 0 ... 1 0 1]\n"
     ]
    }
   ],
   "source": [
    "r_ber=bernoulli.rvs(p, size=10000, random_state=13)\n",
    "print(r_ber)"
   ]
  },
  {
   "cell_type": "code",
   "execution_count": 22,
   "id": "double-beatles",
   "metadata": {},
   "outputs": [
    {
     "data": {
      "text/plain": [
       "<seaborn.axisgrid.FacetGrid at 0x7f88486a5af0>"
      ]
     },
     "execution_count": 22,
     "metadata": {},
     "output_type": "execute_result"
    },
    {
     "data": {
      "image/png": "[encoded data removed]",
      "text/plain": [
       "<Figure size 360x360 with 1 Axes>"
      ]
     },
     "metadata": {
      "needs_background": "light"
     },
     "output_type": "display_data"
    }
   ],
   "source": [
    "ax=sns.displot(r_ber,\n",
    "                kde=False,\n",
    "                color=\"skyblue\",\n",
    "                rug_kws={\"linewidth\": 15,'alpha':1},\n",
    "                bins=2)\n",
    "ax.set(xlabel='Distribución Bernoulli', ylabel='Frecuencia')"
   ]
  },
  {
   "cell_type": "markdown",
   "id": "employed-catholic",
   "metadata": {},
   "source": [
    "### Distribución Binomial"
   ]
  },
  {
   "cell_type": "code",
   "execution_count": 23,
   "id": "underlying-resource",
   "metadata": {},
   "outputs": [],
   "source": [
    "from scipy.stats import binom"
   ]
  },
  {
   "cell_type": "code",
   "execution_count": 24,
   "id": "european-arrow",
   "metadata": {},
   "outputs": [
    {
     "name": "stdout",
     "output_type": "stream",
     "text": [
      "1.7999999999999998 0.72\n"
     ]
    }
   ],
   "source": [
    "n,p =3, 0.6\n",
    "binomial=binom(n,p)\n",
    "\n",
    "media, var=binomial.stats(moments=\"mv\")\n",
    "print(media, var)"
   ]
  },
  {
   "cell_type": "markdown",
   "id": "developed-charge",
   "metadata": {},
   "source": [
    "Vamos a calcular las siguientes probabilidades\n",
    "\n",
    "$$\n",
    "\\begin{align}\n",
    "p_q[0]\\\\\n",
    "p_q[1]\\\\\n",
    "p_q[2]\\\\\n",
    "p_q[3]\n",
    "\\end{align}\n",
    "$$\n",
    "\n",
    "esto podemos hacerlo usando la función `binom.pmf()`"
   ]
  },
  {
   "cell_type": "code",
   "execution_count": 25,
   "id": "collectible-democrat",
   "metadata": {},
   "outputs": [
    {
     "name": "stdout",
     "output_type": "stream",
     "text": [
      "P[ 0 )= 0.064\n",
      "P[ 1 )= 0.288\n",
      "P[ 2 )= 0.432\n",
      "P[ 3 )= 0.216\n"
     ]
    }
   ],
   "source": [
    "for i in range(4):\n",
    "    prob=round(binomial.pmf(i), 3)\n",
    "    print(\"P[\",i ,\")=\",prob)"
   ]
  },
  {
   "cell_type": "markdown",
   "id": "worst-bubble",
   "metadata": {},
   "source": [
    "Podemos generar la gráfica de la pmf"
   ]
  },
  {
   "cell_type": "code",
   "execution_count": 26,
   "id": "accomplished-honey",
   "metadata": {},
   "outputs": [
    {
     "data": {
      "image/png": "[encoded data removed]",
      "text/plain": [
       "<Figure size 432x288 with 1 Axes>"
      ]
     },
     "metadata": {
      "needs_background": "light"
     },
     "output_type": "display_data"
    }
   ],
   "source": [
    "x = np.arange(binomial.ppf(0.01),\n",
    "              binomial.ppf(1)+0.1)\n",
    "plt.plot(x, binomial.pmf(x), \"bo\", ms=8)\n",
    "plt.vlines(x, 0, binomial.pmf(x), colors='b', lw=10, alpha=0.5)\n",
    "plt.title('Funcion de probabilidad  $p_q$')\n",
    "plt.xlabel('Valores de  $p_q$')\n",
    "plt.ylabel('Probabilidad')\n",
    "plt.show()"
   ]
  },
  {
   "cell_type": "markdown",
   "id": "australian-christopher",
   "metadata": {},
   "source": [
    "Para calcular probabilidades estilo $P[x<2]$, podemos sumar $P[x=0]+P[x=1]$ o podemos usar `binom.cdf()`, donde $P[x<2]=P[x<=1]$. si queremos por ejemplo $P[>2]$, podemos interpretarlo como $1-P[x<=2]$"
   ]
  },
  {
   "cell_type": "code",
   "execution_count": 27,
   "id": "fluid-bunny",
   "metadata": {},
   "outputs": [
    {
     "name": "stdout",
     "output_type": "stream",
     "text": [
      "0.352 0.352\n"
     ]
    }
   ],
   "source": [
    "prob=binomial.pmf(0)+binomial.pmf(1)\n",
    "prob_cdf=binomial.cdf(1)\n",
    "print(prob, round(prob_cdf,3))"
   ]
  },
  {
   "cell_type": "code",
   "execution_count": 28,
   "id": "therapeutic-round",
   "metadata": {},
   "outputs": [
    {
     "name": "stdout",
     "output_type": "stream",
     "text": [
      "0.216 0.216\n"
     ]
    }
   ],
   "source": [
    "prob_mayor_2=round(1-binomial.cdf(2),3)\n",
    "prob=round(binomial.pmf(3),3)\n",
    "print(prob_mayor_2, prob)"
   ]
  },
  {
   "cell_type": "markdown",
   "id": "popular-blind",
   "metadata": {},
   "source": [
    "Generamos la gráfica de  función acumulada"
   ]
  },
  {
   "cell_type": "code",
   "execution_count": 29,
   "id": "instrumental-diagnosis",
   "metadata": {},
   "outputs": [
    {
     "data": {
      "image/png": "[encoded data removed]",
      "text/plain": [
       "<Figure size 432x288 with 1 Axes>"
      ]
     },
     "metadata": {
      "needs_background": "light"
     },
     "output_type": "display_data"
    }
   ],
   "source": [
    "prob = binomial.cdf(x)\n",
    "plt.plot(x, prob, 'bo', ms=8)\n",
    "plt.title(\"Función acumulada de distribución\")\n",
    "for i,j in zip(x, prob):\n",
    "    plt.hlines(y=j, xmin=i, xmax=i+1)\n",
    "plt.show()"
   ]
  },
  {
   "cell_type": "markdown",
   "id": "absent-literacy",
   "metadata": {},
   "source": [
    "Con Scipy podemos generar una muestra de números aleatorios de una distribución con la función `binom.rvs`"
   ]
  },
  {
   "cell_type": "code",
   "execution_count": 30,
   "id": "retained-underground",
   "metadata": {},
   "outputs": [
    {
     "name": "stdout",
     "output_type": "stream",
     "text": [
      "[1 2 1 ... 3 1 2]\n"
     ]
    }
   ],
   "source": [
    "r_binom=binomial.rvs(size=10000, random_state=13)\n",
    "print(r_binom)"
   ]
  },
  {
   "cell_type": "code",
   "execution_count": 31,
   "id": "elder-cricket",
   "metadata": {},
   "outputs": [
    {
     "data": {
      "image/png": "[encoded data removed]",
      "text/plain": [
       "<Figure size 360x360 with 1 Axes>"
      ]
     },
     "metadata": {
      "needs_background": "light"
     },
     "output_type": "display_data"
    }
   ],
   "source": [
    "ax=sns.displot(r_binom,\n",
    "                kde=False,\n",
    "                color=\"skyblue\",\n",
    "                rug_kws={\"linewidth\": 15,'alpha':1},\n",
    "                bins=4)\n",
    "ax.set(xlabel='Distribución Binomial', ylabel='Frecuencia',\n",
    "       title=\"Frecuencia muestra Binomial\")\n",
    "plt.show()"
   ]
  },
  {
   "cell_type": "markdown",
   "id": "special-huntington",
   "metadata": {},
   "source": [
    "### Distribución Uniforme continua\n",
    "\n",
    "Ya que esta es una distribución continua, tenemos que hacer algunos cambios en el código establecido"
   ]
  },
  {
   "cell_type": "code",
   "execution_count": 32,
   "id": "comprehensive-browser",
   "metadata": {},
   "outputs": [],
   "source": [
    "from scipy.stats import uniform\n",
    "unif=uniform(0,10)"
   ]
  },
  {
   "cell_type": "code",
   "execution_count": 33,
   "id": "chronic-income",
   "metadata": {},
   "outputs": [
    {
     "data": {
      "image/png": "[encoded data removed]",
      "text/plain": [
       "<Figure size 432x288 with 1 Axes>"
      ]
     },
     "metadata": {
      "needs_background": "light"
     },
     "output_type": "display_data"
    }
   ],
   "source": [
    "x = np.linspace(unif.ppf(0),\n",
    "                unif.ppf(0.99), 100)\n",
    "plt.plot(x, unif.pdf(x),'r-', lw=5, alpha=0.6)\n",
    "plt.ylim(0,0.3)\n",
    "plt.fill_between(x,unif.pdf(x), color=\"red\")\n",
    "plt.title(\"Función de densidad de probabilidad\")\n",
    "plt.show()"
   ]
  },
  {
   "cell_type": "code",
   "execution_count": 34,
   "id": "conservative-variance",
   "metadata": {},
   "outputs": [
    {
     "name": "stdout",
     "output_type": "stream",
     "text": [
      "[0.064 0.352 0.784 1.   ]\n"
     ]
    }
   ],
   "source": [
    "print(prob)"
   ]
  },
  {
   "cell_type": "code",
   "execution_count": 35,
   "id": "fatty-criminal",
   "metadata": {},
   "outputs": [
    {
     "data": {
      "image/png": "[encoded data removed]",
      "text/plain": [
       "<Figure size 432x288 with 1 Axes>"
      ]
     },
     "metadata": {
      "needs_background": "light"
     },
     "output_type": "display_data"
    }
   ],
   "source": [
    "prob=unif.cdf(x)\n",
    "plt.plot(x, prob)\n",
    "plt.title(\"Función de densidad acumulada\")\n",
    "plt.show()"
   ]
  },
  {
   "cell_type": "code",
   "execution_count": 36,
   "id": "specific-absence",
   "metadata": {},
   "outputs": [
    {
     "name": "stdout",
     "output_type": "stream",
     "text": [
      "[7.77702411 2.3754122  8.24278533 ... 1.32526238 7.98177733 2.99069767]\n"
     ]
    }
   ],
   "source": [
    "r_unif=unif.rvs(size=10000, random_state=13)\n",
    "\n",
    "print(r_unif)"
   ]
  },
  {
   "cell_type": "code",
   "execution_count": 37,
   "id": "massive-league",
   "metadata": {},
   "outputs": [
    {
     "data": {
      "image/png": "[encoded data removed]",
      "text/plain": [
       "<Figure size 360x360 with 1 Axes>"
      ]
     },
     "metadata": {
      "needs_background": "light"
     },
     "output_type": "display_data"
    }
   ],
   "source": [
    "ax=sns.displot(r_unif,\n",
    "                kde=True,\n",
    "                color=\"darkblue\",\n",
    "                rug_kws={\"linewidth\": 15,'alpha':1},\n",
    "                bins=11)\n",
    "ax.set(xlabel='Distribución uniforme continua', ylabel='Frecuencia')\n",
    "plt.show()"
   ]
  },
  {
   "cell_type": "markdown",
   "id": "indian-migration",
   "metadata": {},
   "source": [
    "### Distribución Normal"
   ]
  },
  {
   "cell_type": "code",
   "execution_count": 38,
   "id": "unable-director",
   "metadata": {},
   "outputs": [],
   "source": [
    "from scipy.stats import norm\n",
    "normal=norm(loc=0,scale=1) #loc=media, scale=desviación estándar"
   ]
  },
  {
   "cell_type": "markdown",
   "id": "technological-stationery",
   "metadata": {},
   "source": [
    "no tiene sentido calcular $P(X=x)$ en una distribución continua. la función `norm.pdf()` refiere a la densidad de la función"
   ]
  },
  {
   "cell_type": "markdown",
   "id": "taken-brain",
   "metadata": {},
   "source": [
    "Vamos a calcular $P(-1<X<1.5)$. Por suerte sabemos que \n",
    "\n",
    "$$\n",
    "\\begin{align}\n",
    "\\text{P}[a<X<b]&=\\text{P}[X<b]-\\text{P}[X<a]\\\\\n",
    "\\end{align}\n",
    "$$\n",
    "\n",
    "Por tanto tenemos que hacer los siguientes calculos"
   ]
  },
  {
   "cell_type": "code",
   "execution_count": 39,
   "id": "endless-gardening",
   "metadata": {},
   "outputs": [
    {
     "name": "stdout",
     "output_type": "stream",
     "text": [
      "p(a<X<b)= 0.775\n"
     ]
    }
   ],
   "source": [
    "P_b,  P_a=normal.cdf(1.5), normal.cdf(-1)\n",
    "\n",
    "prob_a_b=P_b-P_a\n",
    "\n",
    "print(\"p(a<X<b)=\", round(prob_a_b,3))"
   ]
  },
  {
   "cell_type": "markdown",
   "id": "objective-newcastle",
   "metadata": {},
   "source": [
    "Si queremos obtener un intervalo que contenga el $95\\%$ de la distribución, podemos usar la función `interval()`"
   ]
  },
  {
   "cell_type": "code",
   "execution_count": 40,
   "id": "minor-exposure",
   "metadata": {},
   "outputs": [
    {
     "name": "stdout",
     "output_type": "stream",
     "text": [
      "intervalo del 95%:  (-1.959963984540054, 1.959963984540054)\n"
     ]
    }
   ],
   "source": [
    "LCI,UCI=normal.interval(0.95)\n",
    "print(\"intervalo del 95%: \",(LCI, UCI))"
   ]
  },
  {
   "cell_type": "markdown",
   "id": "legendary-enhancement",
   "metadata": {},
   "source": [
    "Podemos agregar este intervalo al grafico de densidad"
   ]
  },
  {
   "cell_type": "code",
   "execution_count": 41,
   "id": "straight-frame",
   "metadata": {},
   "outputs": [
    {
     "data": {
      "image/png": "[encoded data removed]",
      "text/plain": [
       "<Figure size 432x288 with 1 Axes>"
      ]
     },
     "metadata": {
      "needs_background": "light"
     },
     "output_type": "display_data"
    }
   ],
   "source": [
    "x = np.linspace(norm.ppf(0.01),\n",
    "                norm.ppf(0.99), 100)\n",
    "plt.plot(x, normal.pdf(x),'b-', lw=5, alpha=0.6)\n",
    "plt.fill_between(x, normal.pdf(x), 0, \n",
    "                 where = (x >= LCI) & (x <= UCI), \n",
    "                 color = 'g')\n",
    "plt.title(\"Función de densidad de probabilidad 95%\")\n",
    "plt.show()"
   ]
  },
  {
   "cell_type": "markdown",
   "id": "spatial-tribe",
   "metadata": {},
   "source": [
    "generamos los números aleatorios y observaremos su comportamiento en un histograma"
   ]
  },
  {
   "cell_type": "code",
   "execution_count": 42,
   "id": "played-vessel",
   "metadata": {},
   "outputs": [
    {
     "data": {
      "image/png": "[encoded data removed]",
      "text/plain": [
       "<Figure size 360x360 with 1 Axes>"
      ]
     },
     "metadata": {
      "needs_background": "light"
     },
     "output_type": "display_data"
    }
   ],
   "source": [
    "r_norm=normal.rvs(size=10000, random_state=13)\n",
    "\n",
    "ax=sns.displot(r_norm,\n",
    "                kde=True,\n",
    "                color=\"darkblue\",\n",
    "                rug_kws={\"linewidth\": 15,'alpha':.5})\n",
    "ax.set(xlabel='Distribución normal', ylabel='Frecuencia', title=\"histograma distribución normal\")\n",
    "plt.show()"
   ]
  },
  {
   "cell_type": "markdown",
   "id": "eight-anthropology",
   "metadata": {},
   "source": [
    "## Ejercicios"
   ]
  },
  {
   "cell_type": "markdown",
   "id": "wireless-admission",
   "metadata": {},
   "source": [
    "* simular el lanzamiento de dos dados de 4 lados y uno de 6. Calcular las siguientes probabilidades y hacer histograma de cada uno:\n",
    "\n",
    "$$\n",
    "\\begin{align}\n",
    "\\text{Prop}&[f \\text{ par } \\&  (6<f<10)]\\\\\n",
    "\\text{Prop}&[f<5 | f>12)]\n",
    "\\end{align}\n",
    "$$\n",
    "\n",
    "* siendo $f$ una distribución poissón de parámetro 4. encontrar $P[f>3]$\n",
    "\n",
    "* siendo $f$ una distribución Chi cuadrado con 2 grados de libertad. encuentre un intervalo del 60% de la distribución y haga una gráfica de la densidad de la distrución junto con lineas verticales que limiten este intervalo"
   ]
  },
  {
   "cell_type": "code",
   "execution_count": null,
   "id": "fifteen-football",
   "metadata": {},
   "outputs": [],
   "source": []
  }
 ],
 "metadata": {
  "kernelspec": {
   "display_name": "Python 3",
   "language": "python",
   "name": "python3"
  },
  "language_info": {
   "codemirror_mode": {
    "name": "ipython",
    "version": 3
   },
   "file_extension": ".py",
   "mimetype": "text/x-python",
   "name": "python",
   "nbconvert_exporter": "python",
   "pygments_lexer": "ipython3",
   "version": "3.8.5"
  }
 },
 "nbformat": 4,
 "nbformat_minor": 5
}
