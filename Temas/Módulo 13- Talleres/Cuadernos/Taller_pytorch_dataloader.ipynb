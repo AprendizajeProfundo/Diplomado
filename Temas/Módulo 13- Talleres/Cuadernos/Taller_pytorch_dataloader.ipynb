{
 "cells": [
  {
   "cell_type": "markdown",
   "id": "6714a557",
   "metadata": {},
   "source": [
    "# <span style=\"color:green\"><center>Diplomado en Inteligencia Artificial y Aprendizaje Profundo</center></span>"
   ]
  },
  {
   "cell_type": "markdown",
   "id": "d1ae5dfb",
   "metadata": {},
   "source": [
    "# <span style=\"color:red\"><center>Creación de dataloaders y datasets en Pytorch</center></span>"
   ]
  },
  {
   "cell_type": "markdown",
   "id": "72ece7a6",
   "metadata": {},
   "source": [
    "## <span style=\"color:blue\">Autor</span>"
   ]
  },
  {
   "cell_type": "markdown",
   "id": "28add4cc",
   "metadata": {},
   "source": [
    "- Oleg Jarma, ojarmam@unal.edu.co "
   ]
  },
  {
   "cell_type": "markdown",
   "id": "ce26e0f8",
   "metadata": {},
   "source": [
    "##   <span style=\"color:blue\">Profesores</span>"
   ]
  },
  {
   "cell_type": "markdown",
   "id": "0a834322",
   "metadata": {},
   "source": [
    "- Alvaro Mauricio Montenegro Díaz, ammontenegrod@unal.edu.co\n",
    "- Daniel Mauricio Montenegro Reyes, dextronomo@gmail.com \n",
    "- Campo Elías Pardo Turriago, cepardot@unal.edu.co "
   ]
  },
  {
   "cell_type": "markdown",
   "id": "62b472cb",
   "metadata": {},
   "source": [
    "##   <span style=\"color:blue\">Asesora Medios y Marketing digital</span>"
   ]
  },
  {
   "cell_type": "markdown",
   "id": "77a0720d",
   "metadata": {},
   "source": [
    "- Maria del Pilar Montenegro, pmontenegro88@gmail.com "
   ]
  },
  {
   "cell_type": "markdown",
   "id": "37ec3a64",
   "metadata": {},
   "source": [
    "## **Contenido**\n"
   ]
  }
 ],
 "metadata": {
  "kernelspec": {
   "display_name": "Python 3.10.6 64-bit",
   "language": "python",
   "name": "python3"
  },
  "language_info": {
   "name": "python",
   "version": "3.10.6"
  },
  "orig_nbformat": 4,
  "vscode": {
   "interpreter": {
    "hash": "e7370f93d1d0cde622a1f8e1c04877d8463912d04d973331ad4851f04de6915a"
   }
  }
 },
 "nbformat": 4,
 "nbformat_minor": 2
}
