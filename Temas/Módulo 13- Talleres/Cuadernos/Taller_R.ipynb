{
 "cells": [
  {
   "cell_type": "markdown",
   "id": "6714a557",
   "metadata": {},
   "source": [
    "# <span style=\"color:green\"><center>Diplomado en Inteligencia Artificial y Aprendizaje Profundo</center></span>"
   ]
  },
  {
   "cell_type": "markdown",
   "id": "d1ae5dfb",
   "metadata": {},
   "source": [
    "# <span style=\"color:red\"><center>Taller introductorio al ambiente R</center></span>"
   ]
  },
  {
   "cell_type": "markdown",
   "id": "ce26e0f8",
   "metadata": {},
   "source": [
    "##   <span style=\"color:blue\">Profesores</span>"
   ]
  },
  {
   "cell_type": "markdown",
   "id": "0a834322",
   "metadata": {},
   "source": [
    "- Alvaro Mauricio Montenegro Díaz, ammontenegrod@unal.edu.co\n",
    "- Daniel Mauricio Montenegro Reyes, dextronomo@gmail.com \n",
    "- Campo Elías Pardo Turriago, cepardot@unal.edu.co \n",
    "- Oleg Jarma, ojarmam@unal.edu.co "
   ]
  },
  {
   "cell_type": "markdown",
   "id": "62b472cb",
   "metadata": {},
   "source": [
    "##   <span style=\"color:blue\">Asesora Medios y Marketing digital</span>"
   ]
  },
  {
   "cell_type": "markdown",
   "id": "77a0720d",
   "metadata": {},
   "source": [
    "- Maria del Pilar Montenegro, pmontenegro88@gmail.com "
   ]
  },
  {
   "cell_type": "markdown",
   "id": "62b472cb",
   "metadata": {},
   "source": [
    "##   <span style=\"color:blue\">Introducción</span>"
   ]
  },
  {
   "cell_type": "markdown",
   "metadata": {},
   "source": [
    "Inspirado en el [Manual de CRAN](https://cran.r-project.org/doc/manuals/r-release/R-intro.pdf)\n",
    "\n",
    "R es un ambiente de software especializado en la manipulación de datos, el cálculo matemático y el desarrollo de gráficas. Entre sus ventajas están las siguientes:\n",
    "\n",
    "- Capacidad de manipular y guardar grandes cantidades de datos\n",
    "- Un conjunto de operadores para calculo entre vectores y, principalmente, matrices\n",
    "- Una enorme colección de herramientas para el análisis de datos.\n",
    "- habilidades de despliegue de gráficos para representación de datos\n",
    "- Un lenguaje de programación \"S\". Simple y efectivo, que incluye condicionales, ciclos, funciones recursivas y capacidades de entrada y salida.\n",
    "\n",
    "R es usado principalmente un sistema de programación de estadística, debido a su desarrollo de gráficas y sus múltiples paquetes dedicados a la aplicaciones de metodologías.\n",
    "\n",
    "R(O mejor dicho S) es un lenguaje interpretado, lo cual lo hace fácil de comprender si ya se tienen conocimientos de Python.\n",
    "\n"
   ]
  },
  {
   "cell_type": "markdown",
   "id": "62b472cb",
   "metadata": {},
   "source": [
    "##   <span style=\"color:blue\">Creación básica de variables</span>"
   ]
  },
  {
   "cell_type": "markdown",
   "metadata": {},
   "source": [
    "la creación de variables es similar a Python, no es necesario decir el tipo de dato que será este. Para definir la variable usamos el símbolo `<-`(`=` sigue siendo válido pero no siempre se recomienda).\n",
    "\n",
    "Se pueden guardar los mismos tipos de datos que en Python, pero con diferentes nombres"
   ]
  },
  {
   "cell_type": "code",
   "execution_count": 11,
   "metadata": {
    "vscode": {
     "languageId": "r"
    }
   },
   "outputs": [
    {
     "data": {
      "text/html": [
       "'character'"
      ],
      "text/latex": [
       "'character'"
      ],
      "text/markdown": [
       "'character'"
      ],
      "text/plain": [
       "[1] \"character\""
      ]
     },
     "metadata": {},
     "output_type": "display_data"
    },
    {
     "data": {
      "text/html": [
       "'numeric'"
      ],
      "text/latex": [
       "'numeric'"
      ],
      "text/markdown": [
       "'numeric'"
      ],
      "text/plain": [
       "[1] \"numeric\""
      ]
     },
     "metadata": {},
     "output_type": "display_data"
    },
    {
     "data": {
      "text/html": [
       "'integer'"
      ],
      "text/latex": [
       "'integer'"
      ],
      "text/markdown": [
       "'integer'"
      ],
      "text/plain": [
       "[1] \"integer\""
      ]
     },
     "metadata": {},
     "output_type": "display_data"
    },
    {
     "data": {
      "text/html": [
       "'complex'"
      ],
      "text/latex": [
       "'complex'"
      ],
      "text/markdown": [
       "'complex'"
      ],
      "text/plain": [
       "[1] \"complex\""
      ]
     },
     "metadata": {},
     "output_type": "display_data"
    },
    {
     "data": {
      "text/html": [
       "'logical'"
      ],
      "text/latex": [
       "'logical'"
      ],
      "text/markdown": [
       "'logical'"
      ],
      "text/plain": [
       "[1] \"logical\""
      ]
     },
     "metadata": {},
     "output_type": "display_data"
    }
   ],
   "source": [
    "nombre <- \"David\" #variable tipo \"character\", o string\n",
    "edad <- 39 #variable tipo \"numeric\" o número genérico\n",
    "litros <- 1000L #variable \"integer\". o entero \n",
    "complejo <- 3i + 1 #variable \"complex\"\n",
    "logico <- TRUE #variable \"logical\" o booleano\n",
    "\n",
    "class(nombre)\n",
    "class(edad)\n",
    "class(litros)\n",
    "class(complejo)\n",
    "class(logico)"
   ]
  },
  {
   "cell_type": "markdown",
   "metadata": {},
   "source": [
    "la función `print()` también es válida en R y es necesaria en ciertos aspectos."
   ]
  },
  {
   "cell_type": "code",
   "execution_count": 12,
   "metadata": {
    "vscode": {
     "languageId": "r"
    }
   },
   "outputs": [
    {
     "name": "stdout",
     "output_type": "stream",
     "text": [
      "[1] 1000\n",
      "[1] 39\n",
      "[1] 1+3i\n"
     ]
    }
   ],
   "source": [
    "print(litros)\n",
    "print(edad)\n",
    "print(complejo)"
   ]
  },
  {
   "cell_type": "markdown",
   "metadata": {},
   "source": [
    "Es posible hacer la conversión a los diferentes tipos de números que tenemos"
   ]
  },
  {
   "cell_type": "code",
   "execution_count": 13,
   "metadata": {
    "vscode": {
     "languageId": "r"
    }
   },
   "outputs": [
    {
     "data": {
      "text/html": [
       "39"
      ],
      "text/latex": [
       "39"
      ],
      "text/markdown": [
       "39"
      ],
      "text/plain": [
       "[1] 39"
      ]
     },
     "metadata": {},
     "output_type": "display_data"
    },
    {
     "data": {
      "text/html": [
       "1000+0i"
      ],
      "text/latex": [
       "1000+0i"
      ],
      "text/markdown": [
       "1000+0i"
      ],
      "text/plain": [
       "[1] 1000+0i"
      ]
     },
     "metadata": {},
     "output_type": "display_data"
    },
    {
     "name": "stderr",
     "output_type": "stream",
     "text": [
      "Warning message in eval(expr, envir, enclos):\n",
      "“imaginary parts discarded in coercion”\n"
     ]
    },
    {
     "data": {
      "text/html": [
       "1"
      ],
      "text/latex": [
       "1"
      ],
      "text/markdown": [
       "1"
      ],
      "text/plain": [
       "[1] 1"
      ]
     },
     "metadata": {},
     "output_type": "display_data"
    }
   ],
   "source": [
    "as.integer(edad)\n",
    "as.complex(litros)\n",
    "as.numeric(complejo)"
   ]
  },
  {
   "cell_type": "markdown",
   "metadata": {},
   "source": [
    "Y por supuesto, podemos pasar a caracter. También podemos pasar de caracter a número siempre y cuando tenga un equivalente"
   ]
  },
  {
   "cell_type": "code",
   "execution_count": 14,
   "metadata": {
    "vscode": {
     "languageId": "r"
    }
   },
   "outputs": [
    {
     "name": "stdout",
     "output_type": "stream",
     "text": [
      "[1] \"1+3i\"\n"
     ]
    },
    {
     "data": {
      "text/html": [
       "1+3i"
      ],
      "text/latex": [
       "1+3i"
      ],
      "text/markdown": [
       "1+3i"
      ],
      "text/plain": [
       "[1] 1+3i"
      ]
     },
     "metadata": {},
     "output_type": "display_data"
    },
    {
     "name": "stderr",
     "output_type": "stream",
     "text": [
      "Warning message in eval(expr, envir, enclos):\n",
      "“NAs introduced by coercion”\n"
     ]
    },
    {
     "data": {
      "text/html": [
       "&lt;NA&gt;"
      ],
      "text/latex": [
       "<NA>"
      ],
      "text/markdown": [
       "&lt;NA&gt;"
      ],
      "text/plain": [
       "[1] NA"
      ]
     },
     "metadata": {},
     "output_type": "display_data"
    }
   ],
   "source": [
    "complejo_char <- as.character(complejo)\n",
    "print(complejo_char)\n",
    "\n",
    "as.complex(complejo_char)\n",
    "as.numeric(nombre)\n"
   ]
  },
  {
   "cell_type": "markdown",
   "id": "62b472cb",
   "metadata": {},
   "source": [
    "##   <span style=\"color:blue\">Operaciones numéricas básicas</span>"
   ]
  },
  {
   "cell_type": "markdown",
   "metadata": {},
   "source": [
    "Por supuesto, R es capaz de hacer una gran cantidad de operaciones comunes"
   ]
  },
  {
   "cell_type": "code",
   "execution_count": 15,
   "metadata": {
    "vscode": {
     "languageId": "r"
    }
   },
   "outputs": [
    {
     "data": {
      "text/html": [
       "15"
      ],
      "text/latex": [
       "15"
      ],
      "text/markdown": [
       "15"
      ],
      "text/plain": [
       "[1] 15"
      ]
     },
     "metadata": {},
     "output_type": "display_data"
    },
    {
     "data": {
      "text/html": [
       "5"
      ],
      "text/latex": [
       "5"
      ],
      "text/markdown": [
       "5"
      ],
      "text/plain": [
       "[1] 5"
      ]
     },
     "metadata": {},
     "output_type": "display_data"
    },
    {
     "data": {
      "text/html": [
       "9"
      ],
      "text/latex": [
       "9"
      ],
      "text/markdown": [
       "9"
      ],
      "text/plain": [
       "[1] 9"
      ]
     },
     "metadata": {},
     "output_type": "display_data"
    },
    {
     "data": {
      "text/html": [
       "3"
      ],
      "text/latex": [
       "3"
      ],
      "text/markdown": [
       "3"
      ],
      "text/plain": [
       "[1] 3"
      ]
     },
     "metadata": {},
     "output_type": "display_data"
    },
    {
     "data": {
      "text/html": [
       "9"
      ],
      "text/latex": [
       "9"
      ],
      "text/markdown": [
       "9"
      ],
      "text/plain": [
       "[1] 9"
      ]
     },
     "metadata": {},
     "output_type": "display_data"
    },
    {
     "data": {
      "text/html": [
       "1"
      ],
      "text/latex": [
       "1"
      ],
      "text/markdown": [
       "1"
      ],
      "text/plain": [
       "[1] 1"
      ]
     },
     "metadata": {},
     "output_type": "display_data"
    },
    {
     "data": {
      "text/html": [
       "2"
      ],
      "text/latex": [
       "2"
      ],
      "text/markdown": [
       "2"
      ],
      "text/plain": [
       "[1] 2"
      ]
     },
     "metadata": {},
     "output_type": "display_data"
    }
   ],
   "source": [
    "10 + 5 #Suma\n",
    "\n",
    "10 - 5 #Resta\n",
    "\n",
    "3 * 3 #Multiplicación\n",
    "\n",
    "15 / 5 #División\n",
    "\n",
    "3 ^ 2 #Exponente\n",
    "\n",
    "4 %% 3 #Modulo\n",
    "\n",
    "14 %/% 5 #División sin decimal"
   ]
  },
  {
   "cell_type": "markdown",
   "metadata": {},
   "source": [
    "Estas no son las únicas funciones en el paquete base. Encontramos también las siguientes funciones útiles:"
   ]
  },
  {
   "cell_type": "code",
   "execution_count": 16,
   "metadata": {
    "vscode": {
     "languageId": "r"
    }
   },
   "outputs": [
    {
     "data": {
      "text/html": [
       "15"
      ],
      "text/latex": [
       "15"
      ],
      "text/markdown": [
       "15"
      ],
      "text/plain": [
       "[1] 15"
      ]
     },
     "metadata": {},
     "output_type": "display_data"
    },
    {
     "data": {
      "text/html": [
       "5"
      ],
      "text/latex": [
       "5"
      ],
      "text/markdown": [
       "5"
      ],
      "text/plain": [
       "[1] 5"
      ]
     },
     "metadata": {},
     "output_type": "display_data"
    },
    {
     "data": {
      "text/html": [
       "5"
      ],
      "text/latex": [
       "5"
      ],
      "text/markdown": [
       "5"
      ],
      "text/plain": [
       "[1] 5"
      ]
     },
     "metadata": {},
     "output_type": "display_data"
    },
    {
     "data": {
      "text/html": [
       "5.5"
      ],
      "text/latex": [
       "5.5"
      ],
      "text/markdown": [
       "5.5"
      ],
      "text/plain": [
       "[1] 5.5"
      ]
     },
     "metadata": {},
     "output_type": "display_data"
    },
    {
     "data": {
      "text/html": [
       "2"
      ],
      "text/latex": [
       "2"
      ],
      "text/markdown": [
       "2"
      ],
      "text/plain": [
       "[1] 2"
      ]
     },
     "metadata": {},
     "output_type": "display_data"
    },
    {
     "data": {
      "text/html": [
       "1"
      ],
      "text/latex": [
       "1"
      ],
      "text/markdown": [
       "1"
      ],
      "text/plain": [
       "[1] 1"
      ]
     },
     "metadata": {},
     "output_type": "display_data"
    }
   ],
   "source": [
    "max(5, 10, 15) #Valor máximo\n",
    "\n",
    "min(5, 10, 15) #Valor mínimo\n",
    "\n",
    "sqrt(25) #Raíz cuadrada\n",
    "\n",
    "abs(-5.5) #Valor absoluto\n",
    "\n",
    "ceiling(1.4) #Función techo\n",
    "\n",
    "floor(1.4) #función piso"
   ]
  },
  {
   "cell_type": "markdown",
   "id": "62b472cb",
   "metadata": {},
   "source": [
    "##   <span style=\"color:blue\">Ciclos</span>"
   ]
  },
  {
   "cell_type": "markdown",
   "id": "62b472cb",
   "metadata": {},
   "source": [
    "###   <span style=\"color:blue\">ciclos If y condicionales</span>"
   ]
  },
  {
   "cell_type": "markdown",
   "metadata": {},
   "source": [
    "R hace uso de las condiciones lógicas matemáticas que ya conocemos. Podemos observar sus usos junto con los ciclos If, los cuales también están completamente implementados."
   ]
  },
  {
   "cell_type": "code",
   "execution_count": 17,
   "metadata": {
    "vscode": {
     "languageId": "r"
    }
   },
   "outputs": [
    {
     "name": "stdout",
     "output_type": "stream",
     "text": [
      "[1] \"a es mayor que b\"\n"
     ]
    }
   ],
   "source": [
    "a <- 30\n",
    "\n",
    "b <- 5\n",
    "\n",
    "if(a>b){\n",
    "    print(\"a es mayor que b\")\n",
    "}"
   ]
  },
  {
   "cell_type": "markdown",
   "metadata": {},
   "source": [
    "Podemos extender esto con un If Else y un else"
   ]
  },
  {
   "cell_type": "code",
   "execution_count": 18,
   "metadata": {
    "vscode": {
     "languageId": "r"
    }
   },
   "outputs": [
    {
     "name": "stdout",
     "output_type": "stream",
     "text": [
      "[1] \"a es mayor que b\"\n"
     ]
    }
   ],
   "source": [
    "\n",
    "if(a>b){\n",
    "    print(\"a es mayor que b\")\n",
    "}else if (a == b){\n",
    "    print(\"a es igual a b\")\n",
    "}else{\n",
    "    print(\"b es mayor que a\")\n",
    "}"
   ]
  },
  {
   "cell_type": "markdown",
   "metadata": {},
   "source": [
    "Por supuesto podemos anidar estos ciclos"
   ]
  },
  {
   "cell_type": "code",
   "execution_count": 19,
   "metadata": {
    "vscode": {
     "languageId": "r"
    }
   },
   "outputs": [
    {
     "name": "stdout",
     "output_type": "stream",
     "text": [
      "[1] \"mayor a 10\"\n",
      "[1] \"pero no mayor a 50\"\n"
     ]
    }
   ],
   "source": [
    "x <- 50\n",
    "\n",
    "if(x > 10){\n",
    "    print(\"mayor a 10\")\n",
    "    if(x > 50){\n",
    "        print(\"mayor a 50\")\n",
    "    }else{\n",
    "        print(\"pero no mayor a 50\")\n",
    "    }\n",
    "}else {\n",
    "   print(\"menor o igual a 10\")\n",
    "}"
   ]
  },
  {
   "cell_type": "markdown",
   "metadata": {},
   "source": [
    "Y podemos usar operadores lógicos para tener varias condiciones"
   ]
  },
  {
   "cell_type": "code",
   "execution_count": 20,
   "metadata": {
    "vscode": {
     "languageId": "r"
    }
   },
   "outputs": [
    {
     "name": "stdout",
     "output_type": "stream",
     "text": [
      "[1] \"Ambas condiciones son verdaderas\"\n"
     ]
    }
   ],
   "source": [
    "a <- 200\n",
    "b <- 33\n",
    "c <- 500\n",
    "\n",
    "if (a > b & c > a){\n",
    "  print(\"Ambas condiciones son verdaderas\")\n",
    "}else {\n",
    "   print(\"Al menos una condición no es verdadera\")\n",
    "}"
   ]
  },
  {
   "cell_type": "code",
   "execution_count": 21,
   "metadata": {
    "vscode": {
     "languageId": "r"
    }
   },
   "outputs": [
    {
     "name": "stdout",
     "output_type": "stream",
     "text": [
      "[1] \"Al menos una condición es verdadera\"\n"
     ]
    }
   ],
   "source": [
    "if (a > b | c > a){\n",
    "  print(\"Al menos una condición es verdadera\")\n",
    "}else {\n",
    "   print(\"Ninguna condición es verdadera\")\n",
    "}"
   ]
  },
  {
   "cell_type": "markdown",
   "id": "62b472cb",
   "metadata": {},
   "source": [
    "###   <span style=\"color:blue\">Ciclos While</span>"
   ]
  },
  {
   "cell_type": "markdown",
   "metadata": {},
   "source": [
    "Usamos el ciclo while para ejecutar código siempre y cuando se mantenga una condición."
   ]
  },
  {
   "cell_type": "code",
   "execution_count": 22,
   "metadata": {
    "vscode": {
     "languageId": "r"
    }
   },
   "outputs": [
    {
     "name": "stdout",
     "output_type": "stream",
     "text": [
      "[1] 1\n",
      "[1] 2\n",
      "[1] 3\n",
      "[1] 4\n",
      "[1] 5\n"
     ]
    }
   ],
   "source": [
    "i <- 1\n",
    "\n",
    "while (i < 6){\n",
    "    print(i)\n",
    "    i <- i + 1\n",
    "}"
   ]
  },
  {
   "cell_type": "markdown",
   "metadata": {},
   "source": [
    "Existe el `break`, que permite detener el ciclo "
   ]
  },
  {
   "cell_type": "code",
   "execution_count": 23,
   "metadata": {
    "vscode": {
     "languageId": "r"
    }
   },
   "outputs": [
    {
     "name": "stdout",
     "output_type": "stream",
     "text": [
      "[1] 1\n",
      "[1] 2\n",
      "[1] 3\n"
     ]
    }
   ],
   "source": [
    "i <- 1\n",
    "while (i < 6){\n",
    "    print(i)\n",
    "    i <- i + 1\n",
    "    if (i==4){\n",
    "        break\n",
    "    }\n",
    "}"
   ]
  },
  {
   "cell_type": "markdown",
   "metadata": {},
   "source": [
    "También podemos usar `next`, para saltar una iteración del ciclo sin detenerlo completamente, pero hay que ser conscientes de la naturaleza interpretada de R"
   ]
  },
  {
   "cell_type": "code",
   "execution_count": 24,
   "metadata": {
    "vscode": {
     "languageId": "r"
    }
   },
   "outputs": [
    {
     "name": "stdout",
     "output_type": "stream",
     "text": [
      "[1] 1\n",
      "[1] 2\n",
      "[1] 4\n",
      "[1] 5\n",
      "[1] 6\n"
     ]
    }
   ],
   "source": [
    "i <- 0\n",
    "while (i < 6){\n",
    "    i <- i + 1\n",
    "    if (i == 3){\n",
    "        next\n",
    "    }\n",
    "    print(i)\n",
    "}"
   ]
  },
  {
   "cell_type": "markdown",
   "id": "62b472cb",
   "metadata": {},
   "source": [
    "###   <span style=\"color:blue\">Ciclos for</span>"
   ]
  },
  {
   "cell_type": "markdown",
   "metadata": {},
   "source": [
    "Podemos usar for para iterar sobre secuencias. `break` y `next` también son aplicables aquí"
   ]
  },
  {
   "cell_type": "code",
   "execution_count": 25,
   "metadata": {
    "vscode": {
     "languageId": "r"
    }
   },
   "outputs": [
    {
     "name": "stdout",
     "output_type": "stream",
     "text": [
      "[1] 0\n",
      "[1] 1\n",
      "[1] 2\n",
      "[1] 4\n",
      "[1] 5\n",
      "[1] 6\n",
      "[1] 7\n"
     ]
    }
   ],
   "source": [
    "for (x in 0:10){\n",
    "    if (x == 3){\n",
    "        next\n",
    "    }else if(x == 8) {\n",
    "        break\n",
    "    }\n",
    "    print(x)\n",
    "}"
   ]
  },
  {
   "cell_type": "markdown",
   "id": "62b472cb",
   "metadata": {},
   "source": [
    "##   <span style=\"color:blue\">Creación de funciones</span>"
   ]
  },
  {
   "cell_type": "markdown",
   "metadata": {},
   "source": [
    "Podemos definir nuestras propias funciones en R."
   ]
  },
  {
   "cell_type": "code",
   "execution_count": 26,
   "metadata": {
    "vscode": {
     "languageId": "r"
    }
   },
   "outputs": [],
   "source": [
    "my_function <- function(){\n",
    "    print(\"Hola Mundo!\")\n",
    "}"
   ]
  },
  {
   "cell_type": "markdown",
   "metadata": {},
   "source": [
    "Ahora simplemente llamamos la función y se aplican los métodos que le definimos"
   ]
  },
  {
   "cell_type": "code",
   "execution_count": 27,
   "metadata": {
    "vscode": {
     "languageId": "r"
    }
   },
   "outputs": [
    {
     "name": "stdout",
     "output_type": "stream",
     "text": [
      "[1] \"Hola Mundo!\"\n"
     ]
    }
   ],
   "source": [
    "my_function()"
   ]
  },
  {
   "cell_type": "markdown",
   "metadata": {},
   "source": [
    "Ahora podemos definir los argumentos que vamos a pasar dentro de la función. Estos tienen que ser el número correcto que se van a usar."
   ]
  },
  {
   "cell_type": "code",
   "execution_count": 28,
   "metadata": {
    "vscode": {
     "languageId": "r"
    }
   },
   "outputs": [
    {
     "data": {
      "text/html": [
       "'Pedro Picapiedra'"
      ],
      "text/latex": [
       "'Pedro Picapiedra'"
      ],
      "text/markdown": [
       "'Pedro Picapiedra'"
      ],
      "text/plain": [
       "[1] \"Pedro Picapiedra\""
      ]
     },
     "metadata": {},
     "output_type": "display_data"
    }
   ],
   "source": [
    "my_function <- function(nombre, apellido){\n",
    "    paste(nombre, apellido)\n",
    "}\n",
    "\n",
    "my_function(\"Pedro\", \"Picapiedra\")"
   ]
  },
  {
   "cell_type": "markdown",
   "metadata": {},
   "source": [
    "Podemos definir un valor predeterminado a los argumentos"
   ]
  },
  {
   "cell_type": "code",
   "execution_count": 29,
   "metadata": {
    "vscode": {
     "languageId": "r"
    }
   },
   "outputs": [
    {
     "data": {
      "text/html": [
       "'Hola, soy Pedro '"
      ],
      "text/latex": [
       "'Hola, soy Pedro '"
      ],
      "text/markdown": [
       "'Hola, soy Pedro '"
      ],
      "text/plain": [
       "[1] \"Hola, soy Pedro \""
      ]
     },
     "metadata": {},
     "output_type": "display_data"
    }
   ],
   "source": [
    "my_function <- function(nombre, apellido = \"\"){\n",
    "    paste(\"Hola, soy\", nombre, apellido)\n",
    "}\n",
    "\n",
    "my_function(\"Pedro\")"
   ]
  },
  {
   "cell_type": "markdown",
   "metadata": {},
   "source": [
    "Si queremos que la función retorne un resultado, se utiliza `return()` al final de esta"
   ]
  },
  {
   "cell_type": "code",
   "execution_count": 30,
   "metadata": {
    "vscode": {
     "languageId": "r"
    }
   },
   "outputs": [
    {
     "name": "stdout",
     "output_type": "stream",
     "text": [
      "[1] 10\n",
      "[1] 30\n"
     ]
    }
   ],
   "source": [
    "mult_cinco <- function(x = 1){\n",
    "    return (5 * x)\n",
    "}\n",
    "\n",
    "print(mult_cinco(2))\n",
    "print(mult_cinco(6))"
   ]
  },
  {
   "cell_type": "markdown",
   "id": "62b472cb",
   "metadata": {},
   "source": [
    "##   <span style=\"color:blue\">Estructuras de datos</span>"
   ]
  },
  {
   "cell_type": "markdown",
   "id": "62b472cb",
   "metadata": {},
   "source": [
    "###   <span style=\"color:blue\">Vectores</span>"
   ]
  },
  {
   "cell_type": "markdown",
   "metadata": {},
   "source": [
    "Para el contexto de R, un vector es un conjunto unidimensional de elementos que comparten un mismo tipo\n",
    "\n",
    "Creamos un vector usando `c()` y agregando los elementos, separandolos por coma"
   ]
  },
  {
   "cell_type": "code",
   "execution_count": 31,
   "metadata": {
    "vscode": {
     "languageId": "r"
    }
   },
   "outputs": [
    {
     "data": {
      "text/html": [
       "<style>\n",
       ".list-inline {list-style: none; margin:0; padding: 0}\n",
       ".list-inline>li {display: inline-block}\n",
       ".list-inline>li:not(:last-child)::after {content: \"\\00b7\"; padding: 0 .5ex}\n",
       "</style>\n",
       "<ol class=list-inline><li>'Banana'</li><li>'Manzana'</li><li>'Guanabana'</li></ol>\n"
      ],
      "text/latex": [
       "\\begin{enumerate*}\n",
       "\\item 'Banana'\n",
       "\\item 'Manzana'\n",
       "\\item 'Guanabana'\n",
       "\\end{enumerate*}\n"
      ],
      "text/markdown": [
       "1. 'Banana'\n",
       "2. 'Manzana'\n",
       "3. 'Guanabana'\n",
       "\n",
       "\n"
      ],
      "text/plain": [
       "[1] \"Banana\"    \"Manzana\"   \"Guanabana\""
      ]
     },
     "metadata": {},
     "output_type": "display_data"
    }
   ],
   "source": [
    "# Vector de caracteres\n",
    "\n",
    "frutas <- c(\"Banana\", \"Manzana\", \"Guanabana\")\n",
    "\n",
    "frutas"
   ]
  },
  {
   "cell_type": "markdown",
   "metadata": {},
   "source": [
    "Podemos obtener la cantidad de datos en un vector usando `length()`"
   ]
  },
  {
   "cell_type": "code",
   "execution_count": 32,
   "metadata": {
    "vscode": {
     "languageId": "r"
    }
   },
   "outputs": [
    {
     "data": {
      "text/html": [
       "3"
      ],
      "text/latex": [
       "3"
      ],
      "text/markdown": [
       "3"
      ],
      "text/plain": [
       "[1] 3"
      ]
     },
     "metadata": {},
     "output_type": "display_data"
    }
   ],
   "source": [
    "length(frutas)"
   ]
  },
  {
   "cell_type": "markdown",
   "metadata": {},
   "source": [
    "En el caso de números, particularmente enteros, podemos definirlos de la forma normal o, si queremos una secuencia, usamos el operador `:`"
   ]
  },
  {
   "cell_type": "code",
   "execution_count": 33,
   "metadata": {
    "vscode": {
     "languageId": "r"
    }
   },
   "outputs": [
    {
     "data": {
      "text/html": [
       "<style>\n",
       ".list-inline {list-style: none; margin:0; padding: 0}\n",
       ".list-inline>li {display: inline-block}\n",
       ".list-inline>li:not(:last-child)::after {content: \"\\00b7\"; padding: 0 .5ex}\n",
       "</style>\n",
       "<ol class=list-inline><li>1</li><li>2</li><li>3</li></ol>\n"
      ],
      "text/latex": [
       "\\begin{enumerate*}\n",
       "\\item 1\n",
       "\\item 2\n",
       "\\item 3\n",
       "\\end{enumerate*}\n"
      ],
      "text/markdown": [
       "1. 1\n",
       "2. 2\n",
       "3. 3\n",
       "\n",
       "\n"
      ],
      "text/plain": [
       "[1] 1 2 3"
      ]
     },
     "metadata": {},
     "output_type": "display_data"
    },
    {
     "data": {
      "text/html": [
       "<style>\n",
       ".list-inline {list-style: none; margin:0; padding: 0}\n",
       ".list-inline>li {display: inline-block}\n",
       ".list-inline>li:not(:last-child)::after {content: \"\\00b7\"; padding: 0 .5ex}\n",
       "</style>\n",
       "<ol class=list-inline><li>1</li><li>2</li><li>3</li><li>4</li><li>5</li></ol>\n"
      ],
      "text/latex": [
       "\\begin{enumerate*}\n",
       "\\item 1\n",
       "\\item 2\n",
       "\\item 3\n",
       "\\item 4\n",
       "\\item 5\n",
       "\\end{enumerate*}\n"
      ],
      "text/markdown": [
       "1. 1\n",
       "2. 2\n",
       "3. 3\n",
       "4. 4\n",
       "5. 5\n",
       "\n",
       "\n"
      ],
      "text/plain": [
       "[1] 1 2 3 4 5"
      ]
     },
     "metadata": {},
     "output_type": "display_data"
    }
   ],
   "source": [
    "# Vector numérico\n",
    "\n",
    "numeros <- c(1, 2, 3)\n",
    "\n",
    "numeros\n",
    "\n",
    "numeros_seq <- 1:5\n",
    "\n",
    "numeros_seq"
   ]
  },
  {
   "cell_type": "markdown",
   "metadata": {},
   "source": [
    "Es posible hacer secuencias con números decimales, pero hay que tomar en cuenta que la distancia entre elementos es siempre 1."
   ]
  },
  {
   "cell_type": "code",
   "execution_count": 34,
   "metadata": {
    "vscode": {
     "languageId": "r"
    }
   },
   "outputs": [
    {
     "data": {
      "text/html": [
       "<style>\n",
       ".list-inline {list-style: none; margin:0; padding: 0}\n",
       ".list-inline>li {display: inline-block}\n",
       ".list-inline>li:not(:last-child)::after {content: \"\\00b7\"; padding: 0 .5ex}\n",
       "</style>\n",
       "<ol class=list-inline><li>1.5</li><li>2.5</li><li>3.5</li><li>4.5</li><li>5.5</li><li>6.5</li></ol>\n"
      ],
      "text/latex": [
       "\\begin{enumerate*}\n",
       "\\item 1.5\n",
       "\\item 2.5\n",
       "\\item 3.5\n",
       "\\item 4.5\n",
       "\\item 5.5\n",
       "\\item 6.5\n",
       "\\end{enumerate*}\n"
      ],
      "text/markdown": [
       "1. 1.5\n",
       "2. 2.5\n",
       "3. 3.5\n",
       "4. 4.5\n",
       "5. 5.5\n",
       "6. 6.5\n",
       "\n",
       "\n"
      ],
      "text/plain": [
       "[1] 1.5 2.5 3.5 4.5 5.5 6.5"
      ]
     },
     "metadata": {},
     "output_type": "display_data"
    },
    {
     "data": {
      "text/html": [
       "<style>\n",
       ".list-inline {list-style: none; margin:0; padding: 0}\n",
       ".list-inline>li {display: inline-block}\n",
       ".list-inline>li:not(:last-child)::after {content: \"\\00b7\"; padding: 0 .5ex}\n",
       "</style>\n",
       "<ol class=list-inline><li>1.5</li><li>2.5</li><li>3.5</li><li>4.5</li><li>5.5</li></ol>\n"
      ],
      "text/latex": [
       "\\begin{enumerate*}\n",
       "\\item 1.5\n",
       "\\item 2.5\n",
       "\\item 3.5\n",
       "\\item 4.5\n",
       "\\item 5.5\n",
       "\\end{enumerate*}\n"
      ],
      "text/markdown": [
       "1. 1.5\n",
       "2. 2.5\n",
       "3. 3.5\n",
       "4. 4.5\n",
       "5. 5.5\n",
       "\n",
       "\n"
      ],
      "text/plain": [
       "[1] 1.5 2.5 3.5 4.5 5.5"
      ]
     },
     "metadata": {},
     "output_type": "display_data"
    }
   ],
   "source": [
    "decimales1 <- 1.5:6.5\n",
    "decimales1\n",
    "\n",
    "decimales2 <- 1.5:6.3\n",
    "decimales2"
   ]
  },
  {
   "cell_type": "markdown",
   "metadata": {},
   "source": [
    "Si queremos distancias más grandes (o más pequeñas) usamos la función `sequ()`\n"
   ]
  },
  {
   "cell_type": "code",
   "execution_count": 35,
   "metadata": {
    "vscode": {
     "languageId": "r"
    }
   },
   "outputs": [
    {
     "data": {
      "text/html": [
       "<style>\n",
       ".list-inline {list-style: none; margin:0; padding: 0}\n",
       ".list-inline>li {display: inline-block}\n",
       ".list-inline>li:not(:last-child)::after {content: \"\\00b7\"; padding: 0 .5ex}\n",
       "</style>\n",
       "<ol class=list-inline><li>0</li><li>20</li><li>40</li><li>60</li><li>80</li><li>100</li></ol>\n"
      ],
      "text/latex": [
       "\\begin{enumerate*}\n",
       "\\item 0\n",
       "\\item 20\n",
       "\\item 40\n",
       "\\item 60\n",
       "\\item 80\n",
       "\\item 100\n",
       "\\end{enumerate*}\n"
      ],
      "text/markdown": [
       "1. 0\n",
       "2. 20\n",
       "3. 40\n",
       "4. 60\n",
       "5. 80\n",
       "6. 100\n",
       "\n",
       "\n"
      ],
      "text/plain": [
       "[1]   0  20  40  60  80 100"
      ]
     },
     "metadata": {},
     "output_type": "display_data"
    },
    {
     "data": {
      "text/html": [
       "<style>\n",
       ".list-inline {list-style: none; margin:0; padding: 0}\n",
       ".list-inline>li {display: inline-block}\n",
       ".list-inline>li:not(:last-child)::after {content: \"\\00b7\"; padding: 0 .5ex}\n",
       "</style>\n",
       "<ol class=list-inline><li>0.3</li><li>0.8</li><li>1.3</li><li>1.8</li><li>2.3</li><li>2.8</li><li>3.3</li><li>3.8</li><li>4.3</li><li>4.8</li></ol>\n"
      ],
      "text/latex": [
       "\\begin{enumerate*}\n",
       "\\item 0.3\n",
       "\\item 0.8\n",
       "\\item 1.3\n",
       "\\item 1.8\n",
       "\\item 2.3\n",
       "\\item 2.8\n",
       "\\item 3.3\n",
       "\\item 3.8\n",
       "\\item 4.3\n",
       "\\item 4.8\n",
       "\\end{enumerate*}\n"
      ],
      "text/markdown": [
       "1. 0.3\n",
       "2. 0.8\n",
       "3. 1.3\n",
       "4. 1.8\n",
       "5. 2.3\n",
       "6. 2.8\n",
       "7. 3.3\n",
       "8. 3.8\n",
       "9. 4.3\n",
       "10. 4.8\n",
       "\n",
       "\n"
      ],
      "text/plain": [
       " [1] 0.3 0.8 1.3 1.8 2.3 2.8 3.3 3.8 4.3 4.8"
      ]
     },
     "metadata": {},
     "output_type": "display_data"
    }
   ],
   "source": [
    "secuencia1 <- seq(from = 0, to = 100, by = 20)\n",
    "secuencia1\n",
    "\n",
    "secuencia2 <- seq(from = 0.3, to = 5, by = 0.5)\n",
    "secuencia2"
   ]
  },
  {
   "cell_type": "markdown",
   "metadata": {},
   "source": [
    "Es posible acceder a los elementos de los vector usando sus indices. Cabe avisar que el primer elemento tiene indice `[1]`"
   ]
  },
  {
   "cell_type": "code",
   "execution_count": 36,
   "metadata": {
    "vscode": {
     "languageId": "r"
    }
   },
   "outputs": [
    {
     "data": {
      "text/html": [
       "'Banana'"
      ],
      "text/latex": [
       "'Banana'"
      ],
      "text/markdown": [
       "'Banana'"
      ],
      "text/plain": [
       "[1] \"Banana\""
      ]
     },
     "metadata": {},
     "output_type": "display_data"
    }
   ],
   "source": [
    "frutas[1]"
   ]
  },
  {
   "cell_type": "markdown",
   "metadata": {},
   "source": [
    "También podemos acceder a varios elementos a la vez usando un vector como indice"
   ]
  },
  {
   "cell_type": "code",
   "execution_count": 37,
   "metadata": {
    "vscode": {
     "languageId": "r"
    }
   },
   "outputs": [
    {
     "data": {
      "text/html": [
       "<style>\n",
       ".list-inline {list-style: none; margin:0; padding: 0}\n",
       ".list-inline>li {display: inline-block}\n",
       ".list-inline>li:not(:last-child)::after {content: \"\\00b7\"; padding: 0 .5ex}\n",
       "</style>\n",
       "<ol class=list-inline><li>'Banana'</li><li>'Guanabana'</li></ol>\n"
      ],
      "text/latex": [
       "\\begin{enumerate*}\n",
       "\\item 'Banana'\n",
       "\\item 'Guanabana'\n",
       "\\end{enumerate*}\n"
      ],
      "text/markdown": [
       "1. 'Banana'\n",
       "2. 'Guanabana'\n",
       "\n",
       "\n"
      ],
      "text/plain": [
       "[1] \"Banana\"    \"Guanabana\""
      ]
     },
     "metadata": {},
     "output_type": "display_data"
    }
   ],
   "source": [
    "frutas <- c(\"Banana\", \"Manzana\", \"Guanabana\", \"Maracuyá\", \"Zapote\", \"Mamoncillo\")\n",
    "\n",
    "frutas[c(1,3)]"
   ]
  },
  {
   "cell_type": "markdown",
   "metadata": {},
   "source": [
    "O definiendo una secuencia"
   ]
  },
  {
   "cell_type": "code",
   "execution_count": 38,
   "metadata": {
    "vscode": {
     "languageId": "r"
    }
   },
   "outputs": [
    {
     "data": {
      "text/html": [
       "<style>\n",
       ".list-inline {list-style: none; margin:0; padding: 0}\n",
       ".list-inline>li {display: inline-block}\n",
       ".list-inline>li:not(:last-child)::after {content: \"\\00b7\"; padding: 0 .5ex}\n",
       "</style>\n",
       "<ol class=list-inline><li>'Banana'</li><li>'Manzana'</li><li>'Guanabana'</li></ol>\n"
      ],
      "text/latex": [
       "\\begin{enumerate*}\n",
       "\\item 'Banana'\n",
       "\\item 'Manzana'\n",
       "\\item 'Guanabana'\n",
       "\\end{enumerate*}\n"
      ],
      "text/markdown": [
       "1. 'Banana'\n",
       "2. 'Manzana'\n",
       "3. 'Guanabana'\n",
       "\n",
       "\n"
      ],
      "text/plain": [
       "[1] \"Banana\"    \"Manzana\"   \"Guanabana\""
      ]
     },
     "metadata": {},
     "output_type": "display_data"
    }
   ],
   "source": [
    "frutas[1:3]"
   ]
  },
  {
   "cell_type": "markdown",
   "metadata": {},
   "source": [
    "O las dos cosas a la vez"
   ]
  },
  {
   "cell_type": "code",
   "execution_count": 39,
   "metadata": {
    "vscode": {
     "languageId": "r"
    }
   },
   "outputs": [
    {
     "data": {
      "text/html": [
       "<style>\n",
       ".list-inline {list-style: none; margin:0; padding: 0}\n",
       ".list-inline>li {display: inline-block}\n",
       ".list-inline>li:not(:last-child)::after {content: \"\\00b7\"; padding: 0 .5ex}\n",
       "</style>\n",
       "<ol class=list-inline><li>'Banana'</li><li>'Guanabana'</li><li>'Maracuyá'</li><li>'Zapote'</li></ol>\n"
      ],
      "text/latex": [
       "\\begin{enumerate*}\n",
       "\\item 'Banana'\n",
       "\\item 'Guanabana'\n",
       "\\item 'Maracuyá'\n",
       "\\item 'Zapote'\n",
       "\\end{enumerate*}\n"
      ],
      "text/markdown": [
       "1. 'Banana'\n",
       "2. 'Guanabana'\n",
       "3. 'Maracuyá'\n",
       "4. 'Zapote'\n",
       "\n",
       "\n"
      ],
      "text/plain": [
       "[1] \"Banana\"    \"Guanabana\" \"Maracuyá\"  \"Zapote\"   "
      ]
     },
     "metadata": {},
     "output_type": "display_data"
    }
   ],
   "source": [
    "frutas[c(1,3:5)]"
   ]
  },
  {
   "cell_type": "markdown",
   "metadata": {},
   "source": [
    "Podemos usar índices negativos, pero esto significa que se accederán a los elementos EXCEPTO los que tengan índice negativo."
   ]
  },
  {
   "cell_type": "code",
   "execution_count": 40,
   "metadata": {
    "vscode": {
     "languageId": "r"
    }
   },
   "outputs": [
    {
     "data": {
      "text/html": [
       "<style>\n",
       ".list-inline {list-style: none; margin:0; padding: 0}\n",
       ".list-inline>li {display: inline-block}\n",
       ".list-inline>li:not(:last-child)::after {content: \"\\00b7\"; padding: 0 .5ex}\n",
       "</style>\n",
       "<ol class=list-inline><li>'Manzana'</li><li>'Maracuyá'</li><li>'Zapote'</li><li>'Mamoncillo'</li></ol>\n"
      ],
      "text/latex": [
       "\\begin{enumerate*}\n",
       "\\item 'Manzana'\n",
       "\\item 'Maracuyá'\n",
       "\\item 'Zapote'\n",
       "\\item 'Mamoncillo'\n",
       "\\end{enumerate*}\n"
      ],
      "text/markdown": [
       "1. 'Manzana'\n",
       "2. 'Maracuyá'\n",
       "3. 'Zapote'\n",
       "4. 'Mamoncillo'\n",
       "\n",
       "\n"
      ],
      "text/plain": [
       "[1] \"Manzana\"    \"Maracuyá\"   \"Zapote\"     \"Mamoncillo\""
      ]
     },
     "metadata": {},
     "output_type": "display_data"
    }
   ],
   "source": [
    "frutas[c(-1,-3)]"
   ]
  },
  {
   "cell_type": "markdown",
   "metadata": {},
   "source": [
    "Podemos también cambiar elementos del vector a partir de sus índices"
   ]
  },
  {
   "cell_type": "code",
   "execution_count": 41,
   "metadata": {
    "vscode": {
     "languageId": "r"
    }
   },
   "outputs": [
    {
     "data": {
      "text/html": [
       "<style>\n",
       ".list-inline {list-style: none; margin:0; padding: 0}\n",
       ".list-inline>li {display: inline-block}\n",
       ".list-inline>li:not(:last-child)::after {content: \"\\00b7\"; padding: 0 .5ex}\n",
       "</style>\n",
       "<ol class=list-inline><li>'Pera'</li><li>'Manzana'</li><li>'Guanabana'</li><li>'Maracuyá'</li><li>'Zapote'</li><li>'Mamoncillo'</li></ol>\n"
      ],
      "text/latex": [
       "\\begin{enumerate*}\n",
       "\\item 'Pera'\n",
       "\\item 'Manzana'\n",
       "\\item 'Guanabana'\n",
       "\\item 'Maracuyá'\n",
       "\\item 'Zapote'\n",
       "\\item 'Mamoncillo'\n",
       "\\end{enumerate*}\n"
      ],
      "text/markdown": [
       "1. 'Pera'\n",
       "2. 'Manzana'\n",
       "3. 'Guanabana'\n",
       "4. 'Maracuyá'\n",
       "5. 'Zapote'\n",
       "6. 'Mamoncillo'\n",
       "\n",
       "\n"
      ],
      "text/plain": [
       "[1] \"Pera\"       \"Manzana\"    \"Guanabana\"  \"Maracuyá\"   \"Zapote\"    \n",
       "[6] \"Mamoncillo\""
      ]
     },
     "metadata": {},
     "output_type": "display_data"
    }
   ],
   "source": [
    "frutas[1] <- \"Pera\"\n",
    "\n",
    "frutas"
   ]
  },
  {
   "cell_type": "markdown",
   "id": "62b472cb",
   "metadata": {},
   "source": [
    "###   <span style=\"color:blue\">Listas</span>"
   ]
  },
  {
   "cell_type": "markdown",
   "metadata": {},
   "source": [
    "Las listas son los equivalentes a las tuplas en Python. Estas pueden contener diferentes tipos de datos en uno mismo. Estos están ordenados y se pueden cambiar."
   ]
  },
  {
   "cell_type": "code",
   "execution_count": 42,
   "metadata": {
    "vscode": {
     "languageId": "r"
    }
   },
   "outputs": [
    {
     "data": {
      "text/html": [
       "<ol>\n",
       "\t<li>'uno'</li>\n",
       "\t<li>2</li>\n",
       "\t<li>7.5</li>\n",
       "\t<li>TRUE</li>\n",
       "</ol>\n"
      ],
      "text/latex": [
       "\\begin{enumerate}\n",
       "\\item 'uno'\n",
       "\\item 2\n",
       "\\item 7.5\n",
       "\\item TRUE\n",
       "\\end{enumerate}\n"
      ],
      "text/markdown": [
       "1. 'uno'\n",
       "2. 2\n",
       "3. 7.5\n",
       "4. TRUE\n",
       "\n",
       "\n"
      ],
      "text/plain": [
       "[[1]]\n",
       "[1] \"uno\"\n",
       "\n",
       "[[2]]\n",
       "[1] 2\n",
       "\n",
       "[[3]]\n",
       "[1] 7.5\n",
       "\n",
       "[[4]]\n",
       "[1] TRUE\n"
      ]
     },
     "metadata": {},
     "output_type": "display_data"
    }
   ],
   "source": [
    "lista <- list(\"uno\", 2, 7.5, TRUE)\n",
    "\n",
    "lista"
   ]
  },
  {
   "cell_type": "markdown",
   "metadata": {},
   "source": [
    "Podemos acceder a los elementos de la misma forma que lo hacemos con vectores"
   ]
  },
  {
   "cell_type": "code",
   "execution_count": 43,
   "metadata": {
    "vscode": {
     "languageId": "r"
    }
   },
   "outputs": [
    {
     "data": {
      "text/html": [
       "<ol>\n",
       "\t<li>2</li>\n",
       "</ol>\n"
      ],
      "text/latex": [
       "\\begin{enumerate}\n",
       "\\item 2\n",
       "\\end{enumerate}\n"
      ],
      "text/markdown": [
       "1. 2\n",
       "\n",
       "\n"
      ],
      "text/plain": [
       "[[1]]\n",
       "[1] 2\n"
      ]
     },
     "metadata": {},
     "output_type": "display_data"
    },
    {
     "data": {
      "text/html": [
       "<ol>\n",
       "\t<li>'uno'</li>\n",
       "\t<li>7.5</li>\n",
       "</ol>\n"
      ],
      "text/latex": [
       "\\begin{enumerate}\n",
       "\\item 'uno'\n",
       "\\item 7.5\n",
       "\\end{enumerate}\n"
      ],
      "text/markdown": [
       "1. 'uno'\n",
       "2. 7.5\n",
       "\n",
       "\n"
      ],
      "text/plain": [
       "[[1]]\n",
       "[1] \"uno\"\n",
       "\n",
       "[[2]]\n",
       "[1] 7.5\n"
      ]
     },
     "metadata": {},
     "output_type": "display_data"
    },
    {
     "data": {
      "text/html": [
       "<ol>\n",
       "\t<li>2</li>\n",
       "\t<li>7.5</li>\n",
       "</ol>\n"
      ],
      "text/latex": [
       "\\begin{enumerate}\n",
       "\\item 2\n",
       "\\item 7.5\n",
       "\\end{enumerate}\n"
      ],
      "text/markdown": [
       "1. 2\n",
       "2. 7.5\n",
       "\n",
       "\n"
      ],
      "text/plain": [
       "[[1]]\n",
       "[1] 2\n",
       "\n",
       "[[2]]\n",
       "[1] 7.5\n"
      ]
     },
     "metadata": {},
     "output_type": "display_data"
    }
   ],
   "source": [
    "lista[2]\n",
    "lista[c(1,3)]\n",
    "lista[2:3]"
   ]
  },
  {
   "cell_type": "markdown",
   "metadata": {},
   "source": [
    "Podemos revisar si un elemento específico está en la lista usando el operador `%in%`. Hay que tomar en cuenta que esta busqueda es sensible a mayusculas"
   ]
  },
  {
   "cell_type": "code",
   "execution_count": 50,
   "metadata": {
    "vscode": {
     "languageId": "r"
    }
   },
   "outputs": [
    {
     "data": {
      "text/html": [
       "TRUE"
      ],
      "text/latex": [
       "TRUE"
      ],
      "text/markdown": [
       "TRUE"
      ],
      "text/plain": [
       "[1] TRUE"
      ]
     },
     "metadata": {},
     "output_type": "display_data"
    },
    {
     "data": {
      "text/html": [
       "FALSE"
      ],
      "text/latex": [
       "FALSE"
      ],
      "text/markdown": [
       "FALSE"
      ],
      "text/plain": [
       "[1] FALSE"
      ]
     },
     "metadata": {},
     "output_type": "display_data"
    }
   ],
   "source": [
    "frutas_lista <- list(\"Manzana\", \"Banana\", \"Cereza\")\n",
    "\n",
    "\"Manzana\" %in% frutas_lista\n",
    "\n",
    "\"manzana\" %in% frutas_lista"
   ]
  },
  {
   "cell_type": "markdown",
   "metadata": {},
   "source": [
    "Agregamos un nuevo elemento a la lista usando `append()`\n"
   ]
  },
  {
   "cell_type": "code",
   "execution_count": 45,
   "metadata": {
    "vscode": {
     "languageId": "r"
    }
   },
   "outputs": [
    {
     "data": {
      "text/html": [
       "<ol>\n",
       "\t<li>'Manzana'</li>\n",
       "\t<li>'Banana'</li>\n",
       "\t<li>'Cereza'</li>\n",
       "\t<li>'Melocoton'</li>\n",
       "</ol>\n"
      ],
      "text/latex": [
       "\\begin{enumerate}\n",
       "\\item 'Manzana'\n",
       "\\item 'Banana'\n",
       "\\item 'Cereza'\n",
       "\\item 'Melocoton'\n",
       "\\end{enumerate}\n"
      ],
      "text/markdown": [
       "1. 'Manzana'\n",
       "2. 'Banana'\n",
       "3. 'Cereza'\n",
       "4. 'Melocoton'\n",
       "\n",
       "\n"
      ],
      "text/plain": [
       "[[1]]\n",
       "[1] \"Manzana\"\n",
       "\n",
       "[[2]]\n",
       "[1] \"Banana\"\n",
       "\n",
       "[[3]]\n",
       "[1] \"Cereza\"\n",
       "\n",
       "[[4]]\n",
       "[1] \"Melocoton\"\n"
      ]
     },
     "metadata": {},
     "output_type": "display_data"
    }
   ],
   "source": [
    "append(frutas_lista, \"Melocoton\")"
   ]
  },
  {
   "cell_type": "markdown",
   "metadata": {},
   "source": [
    "Podemos decir después de qué indice agregar el elemento"
   ]
  },
  {
   "cell_type": "code",
   "execution_count": 51,
   "metadata": {
    "vscode": {
     "languageId": "r"
    }
   },
   "outputs": [
    {
     "data": {
      "text/html": [
       "<ol>\n",
       "\t<li>'Manzana'</li>\n",
       "\t<li>'Banana'</li>\n",
       "\t<li>'Melocoton'</li>\n",
       "\t<li>'Cereza'</li>\n",
       "</ol>\n"
      ],
      "text/latex": [
       "\\begin{enumerate}\n",
       "\\item 'Manzana'\n",
       "\\item 'Banana'\n",
       "\\item 'Melocoton'\n",
       "\\item 'Cereza'\n",
       "\\end{enumerate}\n"
      ],
      "text/markdown": [
       "1. 'Manzana'\n",
       "2. 'Banana'\n",
       "3. 'Melocoton'\n",
       "4. 'Cereza'\n",
       "\n",
       "\n"
      ],
      "text/plain": [
       "[[1]]\n",
       "[1] \"Manzana\"\n",
       "\n",
       "[[2]]\n",
       "[1] \"Banana\"\n",
       "\n",
       "[[3]]\n",
       "[1] \"Melocoton\"\n",
       "\n",
       "[[4]]\n",
       "[1] \"Cereza\"\n"
      ]
     },
     "metadata": {},
     "output_type": "display_data"
    }
   ],
   "source": [
    "frutas_lista <- append(frutas_lista, \"Melocoton\", after = 2)\n",
    "frutas_lista"
   ]
  },
  {
   "cell_type": "markdown",
   "id": "62b472cb",
   "metadata": {},
   "source": [
    "###   <span style=\"color:blue\">Iterando sobre estructuras</span>"
   ]
  },
  {
   "cell_type": "markdown",
   "metadata": {},
   "source": [
    "Es posible pasar vectores y listas en un ciclo for. Iteraremos sobre los elementos de estas."
   ]
  },
  {
   "cell_type": "code",
   "execution_count": 47,
   "metadata": {
    "vscode": {
     "languageId": "r"
    }
   },
   "outputs": [
    {
     "name": "stdout",
     "output_type": "stream",
     "text": [
      "[1] 0.3\n",
      "[1] 0.8\n",
      "[1] 1.3\n",
      "[1] 1.8\n",
      "[1] 2.3\n",
      "[1] 2.8\n",
      "[1] 3.3\n",
      "[1] 3.8\n",
      "[1] 4.3\n",
      "[1] 4.8\n"
     ]
    }
   ],
   "source": [
    "for (i in secuencia2){\n",
    "    print(i)\n",
    "}"
   ]
  },
  {
   "cell_type": "code",
   "execution_count": 52,
   "metadata": {
    "vscode": {
     "languageId": "r"
    }
   },
   "outputs": [
    {
     "name": "stdout",
     "output_type": "stream",
     "text": [
      "[1] \"Manzana\"\n",
      "[1] \"Banana\"\n",
      "[1] \"Cereza\"\n"
     ]
    }
   ],
   "source": [
    "for (fruta in frutas_lista){\n",
    "    if(fruta == \"Melocoton\"){\n",
    "        next\n",
    "    }\n",
    "    print(fruta)\n",
    "}"
   ]
  },
  {
   "cell_type": "markdown",
   "metadata": {},
   "source": [
    "Podemos concatenar dos listas agregandolas en un único vector. Seguirán funcionando como listas"
   ]
  },
  {
   "cell_type": "code",
   "execution_count": 54,
   "metadata": {
    "vscode": {
     "languageId": "r"
    }
   },
   "outputs": [
    {
     "data": {
      "text/html": [
       "<ol>\n",
       "\t<li>1</li>\n",
       "\t<li>2</li>\n",
       "\t<li>3</li>\n",
       "\t<li>'a'</li>\n",
       "\t<li>'b'</li>\n",
       "\t<li>TRUE</li>\n",
       "\t<li>TRUE</li>\n",
       "\t<li>FALSE</li>\n",
       "\t<li>TRUE</li>\n",
       "</ol>\n"
      ],
      "text/latex": [
       "\\begin{enumerate}\n",
       "\\item 1\n",
       "\\item 2\n",
       "\\item 3\n",
       "\\item 'a'\n",
       "\\item 'b'\n",
       "\\item TRUE\n",
       "\\item TRUE\n",
       "\\item FALSE\n",
       "\\item TRUE\n",
       "\\end{enumerate}\n"
      ],
      "text/markdown": [
       "1. 1\n",
       "2. 2\n",
       "3. 3\n",
       "4. 'a'\n",
       "5. 'b'\n",
       "6. TRUE\n",
       "7. TRUE\n",
       "8. FALSE\n",
       "9. TRUE\n",
       "\n",
       "\n"
      ],
      "text/plain": [
       "[[1]]\n",
       "[1] 1\n",
       "\n",
       "[[2]]\n",
       "[1] 2\n",
       "\n",
       "[[3]]\n",
       "[1] 3\n",
       "\n",
       "[[4]]\n",
       "[1] \"a\"\n",
       "\n",
       "[[5]]\n",
       "[1] \"b\"\n",
       "\n",
       "[[6]]\n",
       "[1] TRUE\n",
       "\n",
       "[[7]]\n",
       "[1] TRUE\n",
       "\n",
       "[[8]]\n",
       "[1] FALSE\n",
       "\n",
       "[[9]]\n",
       "[1] TRUE\n"
      ]
     },
     "metadata": {},
     "output_type": "display_data"
    }
   ],
   "source": [
    "lista_num <- list(1, 2, 3)\n",
    "\n",
    "lista_char <- list(\"a\", \"b\")\n",
    "\n",
    "lista_bool <- list(TRUE, TRUE, FALSE, TRUE)\n",
    "\n",
    "lista_full <- c(lista_num, lista_char, lista_bool)\n",
    "\n",
    "lista_full"
   ]
  },
  {
   "cell_type": "markdown",
   "id": "62b472cb",
   "metadata": {},
   "source": [
    "###   <span style=\"color:blue\">Matrices</span>"
   ]
  },
  {
   "cell_type": "markdown",
   "metadata": {},
   "source": [
    "Las matrices son estructuras bidimensionales de datos que trabajan con columnas (vertical) y filas (horizontal).\n",
    "\n",
    "Se usa la función `matrix()` para crear una de estas. Hay que especificar los parámetros `nrow` y `ncol`."
   ]
  },
  {
   "cell_type": "code",
   "execution_count": 55,
   "metadata": {
    "vscode": {
     "languageId": "r"
    }
   },
   "outputs": [
    {
     "data": {
      "text/html": [
       "<table class=\"dataframe\">\n",
       "<caption>A matrix: 2 × 2 of type dbl</caption>\n",
       "<tbody>\n",
       "\t<tr><td>1</td><td>3</td></tr>\n",
       "\t<tr><td>2</td><td>4</td></tr>\n",
       "</tbody>\n",
       "</table>\n"
      ],
      "text/latex": [
       "A matrix: 2 × 2 of type dbl\n",
       "\\begin{tabular}{ll}\n",
       "\t 1 & 3\\\\\n",
       "\t 2 & 4\\\\\n",
       "\\end{tabular}\n"
      ],
      "text/markdown": [
       "\n",
       "A matrix: 2 × 2 of type dbl\n",
       "\n",
       "| 1 | 3 |\n",
       "| 2 | 4 |\n",
       "\n"
      ],
      "text/plain": [
       "     [,1] [,2]\n",
       "[1,] 1    3   \n",
       "[2,] 2    4   "
      ]
     },
     "metadata": {},
     "output_type": "display_data"
    }
   ],
   "source": [
    "matriz1 <- matrix(c(1,2,3,4), nrow = 2, ncol = 2)\n",
    "matriz1"
   ]
  },
  {
   "cell_type": "markdown",
   "metadata": {},
   "source": [
    "como se puede apreciar, esta crea primero las columnas. Para que el orden sea con respecto a filas, hay que agregar el parámetro `byrow=TRUE`"
   ]
  },
  {
   "cell_type": "code",
   "execution_count": 63,
   "metadata": {
    "vscode": {
     "languageId": "r"
    }
   },
   "outputs": [
    {
     "data": {
      "text/html": [
       "<table class=\"dataframe\">\n",
       "<caption>A matrix: 2 × 2 of type dbl</caption>\n",
       "<tbody>\n",
       "\t<tr><td>1</td><td>2</td></tr>\n",
       "\t<tr><td>3</td><td>4</td></tr>\n",
       "</tbody>\n",
       "</table>\n"
      ],
      "text/latex": [
       "A matrix: 2 × 2 of type dbl\n",
       "\\begin{tabular}{ll}\n",
       "\t 1 & 2\\\\\n",
       "\t 3 & 4\\\\\n",
       "\\end{tabular}\n"
      ],
      "text/markdown": [
       "\n",
       "A matrix: 2 × 2 of type dbl\n",
       "\n",
       "| 1 | 2 |\n",
       "| 3 | 4 |\n",
       "\n"
      ],
      "text/plain": [
       "     [,1] [,2]\n",
       "[1,] 1    2   \n",
       "[2,] 3    4   "
      ]
     },
     "metadata": {},
     "output_type": "display_data"
    }
   ],
   "source": [
    "matriz1 <- matrix(c(1,2,3,4), nrow = 2, ncol = 2, byrow = TRUE)\n",
    "matriz1"
   ]
  },
  {
   "cell_type": "markdown",
   "metadata": {},
   "source": [
    "Las matrices no tienen que ser numéricas, "
   ]
  },
  {
   "cell_type": "code",
   "execution_count": 65,
   "metadata": {
    "vscode": {
     "languageId": "r"
    }
   },
   "outputs": [
    {
     "data": {
      "text/html": [
       "<table class=\"dataframe\">\n",
       "<caption>A matrix: 3 × 2 of type chr</caption>\n",
       "<tbody>\n",
       "\t<tr><td>a  </td><td>b </td></tr>\n",
       "\t<tr><td>ab </td><td>bc</td></tr>\n",
       "\t<tr><td>abc</td><td>6 </td></tr>\n",
       "</tbody>\n",
       "</table>\n"
      ],
      "text/latex": [
       "A matrix: 3 × 2 of type chr\n",
       "\\begin{tabular}{ll}\n",
       "\t a   & b \\\\\n",
       "\t ab  & bc\\\\\n",
       "\t abc & 6 \\\\\n",
       "\\end{tabular}\n"
      ],
      "text/markdown": [
       "\n",
       "A matrix: 3 × 2 of type chr\n",
       "\n",
       "| a   | b  |\n",
       "| ab  | bc |\n",
       "| abc | 6  |\n",
       "\n"
      ],
      "text/plain": [
       "     [,1] [,2]\n",
       "[1,] a    b   \n",
       "[2,] ab   bc  \n",
       "[3,] abc  6   "
      ]
     },
     "metadata": {},
     "output_type": "display_data"
    },
    {
     "data": {
      "text/html": [
       "'6'"
      ],
      "text/latex": [
       "'6'"
      ],
      "text/markdown": [
       "'6'"
      ],
      "text/plain": [
       "[1] \"6\""
      ]
     },
     "metadata": {},
     "output_type": "display_data"
    }
   ],
   "source": [
    "matriz_char <- matrix(c(\"a\", \"ab\", \"abc\", \"b\", \"bc\", 6), nrow = 3, ncol = 2)\n",
    "matriz_char"
   ]
  },
  {
   "cell_type": "markdown",
   "metadata": {},
   "source": [
    "Accedemos a los elementos individuales de las matrices de la forma `[x,x]`, donde el primer elemento es la posición en filas y el segundo en columnas."
   ]
  },
  {
   "cell_type": "code",
   "execution_count": 66,
   "metadata": {
    "vscode": {
     "languageId": "r"
    }
   },
   "outputs": [
    {
     "data": {
      "text/html": [
       "'6'"
      ],
      "text/latex": [
       "'6'"
      ],
      "text/markdown": [
       "'6'"
      ],
      "text/plain": [
       "[1] \"6\""
      ]
     },
     "metadata": {},
     "output_type": "display_data"
    }
   ],
   "source": [
    "matriz_char[3,2]"
   ]
  },
  {
   "cell_type": "markdown",
   "metadata": {},
   "source": [
    "podemos acceder a una fila(o columna) completa si no especificamos número en el eje que no necesitamos\n"
   ]
  },
  {
   "cell_type": "code",
   "execution_count": 67,
   "metadata": {
    "vscode": {
     "languageId": "r"
    }
   },
   "outputs": [
    {
     "data": {
      "text/html": [
       "<style>\n",
       ".list-inline {list-style: none; margin:0; padding: 0}\n",
       ".list-inline>li {display: inline-block}\n",
       ".list-inline>li:not(:last-child)::after {content: \"\\00b7\"; padding: 0 .5ex}\n",
       "</style>\n",
       "<ol class=list-inline><li>'abc'</li><li>'6'</li></ol>\n"
      ],
      "text/latex": [
       "\\begin{enumerate*}\n",
       "\\item 'abc'\n",
       "\\item '6'\n",
       "\\end{enumerate*}\n"
      ],
      "text/markdown": [
       "1. 'abc'\n",
       "2. '6'\n",
       "\n",
       "\n"
      ],
      "text/plain": [
       "[1] \"abc\" \"6\"  "
      ]
     },
     "metadata": {},
     "output_type": "display_data"
    },
    {
     "data": {
      "text/html": [
       "<style>\n",
       ".list-inline {list-style: none; margin:0; padding: 0}\n",
       ".list-inline>li {display: inline-block}\n",
       ".list-inline>li:not(:last-child)::after {content: \"\\00b7\"; padding: 0 .5ex}\n",
       "</style>\n",
       "<ol class=list-inline><li>'b'</li><li>'bc'</li><li>'6'</li></ol>\n"
      ],
      "text/latex": [
       "\\begin{enumerate*}\n",
       "\\item 'b'\n",
       "\\item 'bc'\n",
       "\\item '6'\n",
       "\\end{enumerate*}\n"
      ],
      "text/markdown": [
       "1. 'b'\n",
       "2. 'bc'\n",
       "3. '6'\n",
       "\n",
       "\n"
      ],
      "text/plain": [
       "[1] \"b\"  \"bc\" \"6\" "
      ]
     },
     "metadata": {},
     "output_type": "display_data"
    }
   ],
   "source": [
    "matriz_char[3,]\n",
    "matriz_char[,2]"
   ]
  },
  {
   "cell_type": "markdown",
   "metadata": {},
   "source": [
    "Y podemos usar vectores para acceder a varios elementos"
   ]
  },
  {
   "cell_type": "code",
   "execution_count": 68,
   "metadata": {
    "vscode": {
     "languageId": "r"
    }
   },
   "outputs": [
    {
     "data": {
      "text/html": [
       "<table class=\"dataframe\">\n",
       "<caption>A matrix: 2 × 3 of type chr</caption>\n",
       "<tbody>\n",
       "\t<tr><td>a  </td><td>b  </td><td>c  </td></tr>\n",
       "\t<tr><td>abc</td><td>bcd</td><td>cde</td></tr>\n",
       "</tbody>\n",
       "</table>\n"
      ],
      "text/latex": [
       "A matrix: 2 × 3 of type chr\n",
       "\\begin{tabular}{lll}\n",
       "\t a   & b   & c  \\\\\n",
       "\t abc & bcd & cde\\\\\n",
       "\\end{tabular}\n"
      ],
      "text/markdown": [
       "\n",
       "A matrix: 2 × 3 of type chr\n",
       "\n",
       "| a   | b   | c   |\n",
       "| abc | bcd | cde |\n",
       "\n"
      ],
      "text/plain": [
       "     [,1] [,2] [,3]\n",
       "[1,] a    b    c   \n",
       "[2,] abc  bcd  cde "
      ]
     },
     "metadata": {},
     "output_type": "display_data"
    },
    {
     "data": {
      "text/html": [
       "<table class=\"dataframe\">\n",
       "<caption>A matrix: 3 × 2 of type chr</caption>\n",
       "<tbody>\n",
       "\t<tr><td>a  </td><td>c  </td></tr>\n",
       "\t<tr><td>ab </td><td>cd </td></tr>\n",
       "\t<tr><td>abc</td><td>cde</td></tr>\n",
       "</tbody>\n",
       "</table>\n"
      ],
      "text/latex": [
       "A matrix: 3 × 2 of type chr\n",
       "\\begin{tabular}{ll}\n",
       "\t a   & c  \\\\\n",
       "\t ab  & cd \\\\\n",
       "\t abc & cde\\\\\n",
       "\\end{tabular}\n"
      ],
      "text/markdown": [
       "\n",
       "A matrix: 3 × 2 of type chr\n",
       "\n",
       "| a   | c   |\n",
       "| ab  | cd  |\n",
       "| abc | cde |\n",
       "\n"
      ],
      "text/plain": [
       "     [,1] [,2]\n",
       "[1,] a    c   \n",
       "[2,] ab   cd  \n",
       "[3,] abc  cde "
      ]
     },
     "metadata": {},
     "output_type": "display_data"
    },
    {
     "data": {
      "text/html": [
       "<table class=\"dataframe\">\n",
       "<caption>A matrix: 2 × 2 of type chr</caption>\n",
       "<tbody>\n",
       "\t<tr><td>a  </td><td>c  </td></tr>\n",
       "\t<tr><td>abc</td><td>cde</td></tr>\n",
       "</tbody>\n",
       "</table>\n"
      ],
      "text/latex": [
       "A matrix: 2 × 2 of type chr\n",
       "\\begin{tabular}{ll}\n",
       "\t a   & c  \\\\\n",
       "\t abc & cde\\\\\n",
       "\\end{tabular}\n"
      ],
      "text/markdown": [
       "\n",
       "A matrix: 2 × 2 of type chr\n",
       "\n",
       "| a   | c   |\n",
       "| abc | cde |\n",
       "\n"
      ],
      "text/plain": [
       "     [,1] [,2]\n",
       "[1,] a    c   \n",
       "[2,] abc  cde "
      ]
     },
     "metadata": {},
     "output_type": "display_data"
    }
   ],
   "source": [
    "matriz_char <- matrix(c(\"a\", \"ab\", \"abc\", \"b\", \"bc\", \"bcd\", \"c\", \"cd\", \"cde\"), nrow = 3, ncol = 3)\n",
    "matriz_char[c(1,3),]\n",
    "matriz_char[,c(1,3)]\n",
    "matriz_char[c(1,3), c(1,3)]"
   ]
  },
  {
   "cell_type": "markdown",
   "metadata": {},
   "source": [
    "Agregamos nuevas filas y columnas con las funciones `rbdind()` y `cbind()`"
   ]
  },
  {
   "cell_type": "code",
   "execution_count": 71,
   "metadata": {
    "vscode": {
     "languageId": "r"
    }
   },
   "outputs": [],
   "source": [
    "matriz_char <- rbind(matriz_char, c(\"abcd\", \"bcde\", \"cdef\"))\n",
    "matriz_char"
   ]
  },
  {
   "cell_type": "code",
   "execution_count": 73,
   "metadata": {
    "vscode": {
     "languageId": "r"
    }
   },
   "outputs": [
    {
     "data": {
      "text/html": [
       "<table class=\"dataframe\">\n",
       "<caption>A matrix: 4 × 4 of type chr</caption>\n",
       "<tbody>\n",
       "\t<tr><td>a   </td><td>b   </td><td>c   </td><td>d   </td></tr>\n",
       "\t<tr><td>ab  </td><td>bc  </td><td>cd  </td><td>de  </td></tr>\n",
       "\t<tr><td>abc </td><td>bcd </td><td>cde </td><td>def </td></tr>\n",
       "\t<tr><td>abcd</td><td>bcde</td><td>cdef</td><td>defg</td></tr>\n",
       "</tbody>\n",
       "</table>\n"
      ],
      "text/latex": [
       "A matrix: 4 × 4 of type chr\n",
       "\\begin{tabular}{llll}\n",
       "\t a    & b    & c    & d   \\\\\n",
       "\t ab   & bc   & cd   & de  \\\\\n",
       "\t abc  & bcd  & cde  & def \\\\\n",
       "\t abcd & bcde & cdef & defg\\\\\n",
       "\\end{tabular}\n"
      ],
      "text/markdown": [
       "\n",
       "A matrix: 4 × 4 of type chr\n",
       "\n",
       "| a    | b    | c    | d    |\n",
       "| ab   | bc   | cd   | de   |\n",
       "| abc  | bcd  | cde  | def  |\n",
       "| abcd | bcde | cdef | defg |\n",
       "\n"
      ],
      "text/plain": [
       "     [,1] [,2] [,3] [,4]\n",
       "[1,] a    b    c    d   \n",
       "[2,] ab   bc   cd   de  \n",
       "[3,] abc  bcd  cde  def \n",
       "[4,] abcd bcde cdef defg"
      ]
     },
     "metadata": {},
     "output_type": "display_data"
    }
   ],
   "source": [
    "matriz_char <- cbind(matriz_char, c(\"d\", \"de\", \"def\", \"defg\"))\n",
    "matriz_char"
   ]
  },
  {
   "cell_type": "code",
   "execution_count": null,
   "metadata": {
    "vscode": {
     "languageId": "r"
    }
   },
   "outputs": [],
   "source": []
  }
 ],
 "metadata": {
  "kernelspec": {
   "display_name": "R",
   "language": "R",
   "name": "ir"
  },
  "language_info": {
   "codemirror_mode": "r",
   "file_extension": ".r",
   "mimetype": "text/x-r-source",
   "name": "R",
   "pygments_lexer": "r",
   "version": "4.2.1"
  },
  "orig_nbformat": 4
 },
 "nbformat": 4,
 "nbformat_minor": 2
}
