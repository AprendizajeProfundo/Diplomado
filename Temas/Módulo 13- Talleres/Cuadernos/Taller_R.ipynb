{
 "cells": [
  {
   "cell_type": "markdown",
   "id": "6714a557",
   "metadata": {},
   "source": [
    "# <span style=\"color:green\"><center>Diplomado en Inteligencia Artificial y Aprendizaje Profundo</center></span>"
   ]
  },
  {
   "cell_type": "markdown",
   "id": "d1ae5dfb",
   "metadata": {},
   "source": [
    "# <span style=\"color:red\"><center>Taller introductorio al ambiente R</center></span>"
   ]
  },
  {
   "cell_type": "markdown",
   "id": "ce26e0f8",
   "metadata": {},
   "source": [
    "##   <span style=\"color:blue\">Profesores</span>"
   ]
  },
  {
   "cell_type": "markdown",
   "id": "0a834322",
   "metadata": {},
   "source": [
    "- Alvaro Mauricio Montenegro Díaz, ammontenegrod@unal.edu.co\n",
    "- Daniel Mauricio Montenegro Reyes, dextronomo@gmail.com \n",
    "- Campo Elías Pardo Turriago, cepardot@unal.edu.co \n",
    "- Oleg Jarma, ojarmam@unal.edu.co "
   ]
  },
  {
   "cell_type": "markdown",
   "id": "62b472cb",
   "metadata": {},
   "source": [
    "##   <span style=\"color:blue\">Asesora Medios y Marketing digital</span>"
   ]
  },
  {
   "cell_type": "markdown",
   "id": "77a0720d",
   "metadata": {},
   "source": [
    "- Maria del Pilar Montenegro, pmontenegro88@gmail.com "
   ]
  },
  {
   "cell_type": "markdown",
   "id": "62b472cb",
   "metadata": {},
   "source": [
    "##   <span style=\"color:blue\">Introducción</span>"
   ]
  },
  {
   "cell_type": "markdown",
   "metadata": {},
   "source": [
    "Inspirado en el [Manual de CRAN](https://cran.r-project.org/doc/manuals/r-release/R-intro.pdf)\n",
    "\n",
    "R es un ambiente de software especializado en la manipulación de datos, el cálculo matemático y el desarrollo de gráficas. Entre sus ventajas están las siguientes:\n",
    "\n",
    "- Capacidad de manipular y guardar grandes cantidades de datos\n",
    "- Un conjunto de operadores para calculo entre vectores y, principalmente, matrices\n",
    "- Una enorme colección de herramientas para el análisis de datos.\n",
    "- habilidades de despliegue de gráficos para representación de datos\n",
    "- Un lenguaje de programación \"S\". Simple y efectivo, que incluye condicionales, ciclos, funciones recursivas y capacidades de entrada y salida.\n",
    "\n",
    "R es usado principalmente un sistema de programación de estadística, debido a su desarrollo de gráficas y sus múltiples paquetes dedicados a la aplicaciones de metodologías.\n",
    "\n",
    "R(O mejor dicho S) es un lenguaje interpretado, lo cual lo hace fácil de comprender si ya se tienen conocimientos de Python.\n",
    "\n"
   ]
  },
  {
   "cell_type": "markdown",
   "id": "62b472cb",
   "metadata": {},
   "source": [
    "##   <span style=\"color:blue\">Creación básica de variables</span>"
   ]
  },
  {
   "cell_type": "markdown",
   "metadata": {},
   "source": [
    "la creación de variables es similar a Python, no es necesario decir el tipo de dato que será este. Para definir la variable usamos el símbolo `<-`(`=` sigue siendo válido pero no siempre se recomienda).\n",
    "\n",
    "Se pueden guardar los mismos tipos de datos que en Python, pero con diferentes nombres"
   ]
  },
  {
   "cell_type": "code",
   "execution_count": 1,
   "metadata": {
    "vscode": {
     "languageId": "r"
    }
   },
   "outputs": [
    {
     "data": {
      "text/html": [
       "'character'"
      ],
      "text/latex": [
       "'character'"
      ],
      "text/markdown": [
       "'character'"
      ],
      "text/plain": [
       "[1] \"character\""
      ]
     },
     "metadata": {},
     "output_type": "display_data"
    },
    {
     "data": {
      "text/html": [
       "'numeric'"
      ],
      "text/latex": [
       "'numeric'"
      ],
      "text/markdown": [
       "'numeric'"
      ],
      "text/plain": [
       "[1] \"numeric\""
      ]
     },
     "metadata": {},
     "output_type": "display_data"
    },
    {
     "data": {
      "text/html": [
       "'integer'"
      ],
      "text/latex": [
       "'integer'"
      ],
      "text/markdown": [
       "'integer'"
      ],
      "text/plain": [
       "[1] \"integer\""
      ]
     },
     "metadata": {},
     "output_type": "display_data"
    },
    {
     "data": {
      "text/html": [
       "'complex'"
      ],
      "text/latex": [
       "'complex'"
      ],
      "text/markdown": [
       "'complex'"
      ],
      "text/plain": [
       "[1] \"complex\""
      ]
     },
     "metadata": {},
     "output_type": "display_data"
    },
    {
     "data": {
      "text/html": [
       "'logical'"
      ],
      "text/latex": [
       "'logical'"
      ],
      "text/markdown": [
       "'logical'"
      ],
      "text/plain": [
       "[1] \"logical\""
      ]
     },
     "metadata": {},
     "output_type": "display_data"
    }
   ],
   "source": [
    "nombre <- \"David\" #variable tipo \"character\", o string\n",
    "edad <- 39 #variable tipo \"numeric\" o número genérico\n",
    "litros <- 1000L #variable \"integer\". o entero \n",
    "complejo <- 3i + 1 #variable \"complex\"\n",
    "logico <- TRUE #variable \"logical\" o booleano\n",
    "\n",
    "class(nombre)\n",
    "class(edad)\n",
    "class(litros)\n",
    "class(complejo)\n",
    "class(logico)"
   ]
  },
  {
   "cell_type": "markdown",
   "metadata": {},
   "source": [
    "la función `print()` también es válida en R y es necesaria en ciertos aspectos."
   ]
  },
  {
   "cell_type": "code",
   "execution_count": 3,
   "metadata": {
    "vscode": {
     "languageId": "r"
    }
   },
   "outputs": [
    {
     "name": "stdout",
     "output_type": "stream",
     "text": [
      "[1] 1000\n",
      "[1] 39\n",
      "[1] 1+3i\n"
     ]
    }
   ],
   "source": [
    "print(litros)\n",
    "print(edad)\n",
    "print(complejo)"
   ]
  },
  {
   "cell_type": "markdown",
   "metadata": {},
   "source": [
    "Es posible hacer la conversión a los diferentes tipos de números que tenemos"
   ]
  },
  {
   "cell_type": "code",
   "execution_count": 6,
   "metadata": {
    "vscode": {
     "languageId": "r"
    }
   },
   "outputs": [
    {
     "data": {
      "text/html": [
       "39"
      ],
      "text/latex": [
       "39"
      ],
      "text/markdown": [
       "39"
      ],
      "text/plain": [
       "[1] 39"
      ]
     },
     "metadata": {},
     "output_type": "display_data"
    },
    {
     "data": {
      "text/html": [
       "1000+0i"
      ],
      "text/latex": [
       "1000+0i"
      ],
      "text/markdown": [
       "1000+0i"
      ],
      "text/plain": [
       "[1] 1000+0i"
      ]
     },
     "metadata": {},
     "output_type": "display_data"
    },
    {
     "name": "stderr",
     "output_type": "stream",
     "text": [
      "Warning message in eval(expr, envir, enclos):\n",
      "“imaginary parts discarded in coercion”\n"
     ]
    },
    {
     "data": {
      "text/html": [
       "1"
      ],
      "text/latex": [
       "1"
      ],
      "text/markdown": [
       "1"
      ],
      "text/plain": [
       "[1] 1"
      ]
     },
     "metadata": {},
     "output_type": "display_data"
    }
   ],
   "source": [
    "as.integer(edad)\n",
    "as.complex(litros)\n",
    "as.numeric(complejo)"
   ]
  },
  {
   "cell_type": "markdown",
   "metadata": {},
   "source": [
    "Y por supuesto, podemos pasar a caracter. También podemos pasar de caracter a número siempre y cuando tenga un equivalente"
   ]
  },
  {
   "cell_type": "code",
   "execution_count": 15,
   "metadata": {
    "vscode": {
     "languageId": "r"
    }
   },
   "outputs": [
    {
     "name": "stdout",
     "output_type": "stream",
     "text": [
      "[1] \"1+3i\"\n"
     ]
    },
    {
     "data": {
      "text/html": [
       "1+3i"
      ],
      "text/latex": [
       "1+3i"
      ],
      "text/markdown": [
       "1+3i"
      ],
      "text/plain": [
       "[1] 1+3i"
      ]
     },
     "metadata": {},
     "output_type": "display_data"
    },
    {
     "name": "stderr",
     "output_type": "stream",
     "text": [
      "Warning message in eval(expr, envir, enclos):\n",
      "“NAs introduced by coercion”\n"
     ]
    },
    {
     "data": {
      "text/html": [
       "&lt;NA&gt;"
      ],
      "text/latex": [
       "<NA>"
      ],
      "text/markdown": [
       "&lt;NA&gt;"
      ],
      "text/plain": [
       "[1] NA"
      ]
     },
     "metadata": {},
     "output_type": "display_data"
    }
   ],
   "source": [
    "complejo_char <- as.character(complejo)\n",
    "print(complejo_char)\n",
    "\n",
    "as.complex(complejo_char)\n",
    "as.numeric(nombre)\n"
   ]
  },
  {
   "cell_type": "code",
   "execution_count": null,
   "metadata": {
    "vscode": {
     "languageId": "r"
    }
   },
   "outputs": [],
   "source": []
  }
 ],
 "metadata": {
  "kernelspec": {
   "display_name": "R",
   "language": "R",
   "name": "ir"
  },
  "language_info": {
   "codemirror_mode": "r",
   "file_extension": ".r",
   "mimetype": "text/x-r-source",
   "name": "R",
   "pygments_lexer": "r",
   "version": "4.2.1"
  },
  "orig_nbformat": 4
 },
 "nbformat": 4,
 "nbformat_minor": 2
}
