{
 "cells": [
  {
   "cell_type": "markdown",
   "id": "3a15b7be",
   "metadata": {},
   "source": [
    "# <span style=\"color:green\"><center>Curso Métodos intensivos de Computación Estadística</center></span>\n",
    "# <span style=\"color:green\"><center>Big Data</center></span>"
   ]
  },
  {
   "cell_type": "markdown",
   "id": "e820ae1e",
   "metadata": {},
   "source": [
    "# <span style=\"color:red\"><center>Taller de numpy</center></span>"
   ]
  },
  {
   "cell_type": "markdown",
   "id": "c929035d",
   "metadata": {},
   "source": [
    "## <span style=\"color:blue\">Autores</span>"
   ]
  },
  {
   "cell_type": "markdown",
   "id": "18db2f64",
   "metadata": {},
   "source": [
    "1. Oleg Jarma, ojarmam@unal.edu.co "
   ]
  },
  {
   "cell_type": "markdown",
   "id": "6264e87c",
   "metadata": {},
   "source": [
    "##   <span style=\"color:blue\">Profesores</span>"
   ]
  },
  {
   "cell_type": "markdown",
   "id": "a584d1e1",
   "metadata": {},
   "source": [
    "2. Alvaro Mauricio Montenegro Díaz, ammontenegrod@unal.edu.co\n",
    "3. Daniel Mauricio Montenegro Reyes, dextronomo@gmail.com \n",
    "4. Campo Elías Pardo Turriago, cepardot@unal.edu.co "
   ]
  },
  {
   "cell_type": "markdown",
   "id": "e3bb6c4f",
   "metadata": {},
   "source": [
    "##   <span style=\"color:blue\">Asesora Medios y Marketing digital</span>"
   ]
  },
  {
   "cell_type": "markdown",
   "id": "0c681607",
   "metadata": {},
   "source": [
    "5. Maria del Pilar Montenegro, pmontenegro88@gmail.com "
   ]
  },
  {
   "cell_type": "markdown",
   "id": "f9fb9210",
   "metadata": {
    "id": "--yl3E28USV0"
   },
   "source": [
    "## **¿Qué es?**"
   ]
  },
  {
   "cell_type": "markdown",
   "id": "a4e658cc",
   "metadata": {},
   "source": [
    "Numpy es un paquete de python dedicado principalmente al manejo de conjuntos o \"arrays\". Extendiendo luego al álgebra lineal, matrices y probabilidad"
   ]
  },
  {
   "cell_type": "markdown",
   "id": "7d513ed8",
   "metadata": {},
   "source": [
    "### **¿Por qué  usar arrays de numpy y no listas o tuplas de python?**"
   ]
  },
  {
   "cell_type": "markdown",
   "id": "ebbff053",
   "metadata": {},
   "source": [
    "Aunque python base tiene listas, el usar arrays es más rápido y consume menos memoria. Algo altamente necesario cuando se hacen operaciones de gran tamaño como puede ser el algebra matricial, por ejemplo."
   ]
  },
  {
   "cell_type": "code",
   "execution_count": 1,
   "id": "063e4b25",
   "metadata": {},
   "outputs": [],
   "source": [
    "import numpy as np"
   ]
  },
  {
   "cell_type": "markdown",
   "id": "15ebc1d8",
   "metadata": {},
   "source": [
    "## **Creación básica de arrays**"
   ]
  },
  {
   "cell_type": "markdown",
   "id": "4ff6fd69",
   "metadata": {
    "tags": []
   },
   "source": [
    "Vamos a crear arrays de distintas dimensiones. Para esto podemos usar números, listas o tuplas."
   ]
  },
  {
   "cell_type": "code",
   "execution_count": 2,
   "id": "4a0468a9",
   "metadata": {},
   "outputs": [],
   "source": [
    "a=np.array(13) #array de dimensión 0\n",
    "b=np.array([1,2,3,4]) #array de dimensión 1\n",
    "c=np.array([[1,2,3,4],[5,6,7,8]]) #array de dimensión 2\n",
    "d=np.array([[[1,2,3,4],[5,6,7,8]],[[9,10,11,12],[13,14,15,16]]]) #array de dimensión 3"
   ]
  },
  {
   "cell_type": "markdown",
   "id": "52f9cff7",
   "metadata": {},
   "source": [
    "Para revisar el número de dimensiones, usamos `ndim`"
   ]
  },
  {
   "cell_type": "code",
   "execution_count": 3,
   "id": "2a60b3c5",
   "metadata": {},
   "outputs": [
    {
     "name": "stdout",
     "output_type": "stream",
     "text": [
      "0\n",
      "1\n",
      "2\n",
      "3\n"
     ]
    }
   ],
   "source": [
    "print(a.ndim)\n",
    "print(b.ndim)\n",
    "print(c.ndim)\n",
    "print(d.ndim)"
   ]
  },
  {
   "cell_type": "markdown",
   "id": "1d882daf",
   "metadata": {},
   "source": [
    "## **Indexación básica**"
   ]
  },
  {
   "cell_type": "markdown",
   "id": "a04ab4cd",
   "metadata": {},
   "source": [
    "el proceso de indexación en numpy es similar al de las listas en python. Cada número implica buscar la posición en cada dimensión del array"
   ]
  },
  {
   "cell_type": "code",
   "execution_count": 4,
   "id": "8019beb0",
   "metadata": {},
   "outputs": [
    {
     "name": "stdout",
     "output_type": "stream",
     "text": [
      "3\n",
      "[5 6 7 8]\n",
      "[[ 9 10 11 12]\n",
      " [13 14 15 16]]\n"
     ]
    }
   ],
   "source": [
    "print(b[2])\n",
    "print(c[1])\n",
    "print(d[1])"
   ]
  },
  {
   "cell_type": "code",
   "execution_count": 5,
   "id": "894b28ed",
   "metadata": {},
   "outputs": [
    {
     "name": "stdout",
     "output_type": "stream",
     "text": [
      "3\n",
      "7\n",
      "11\n"
     ]
    }
   ],
   "source": [
    "print(b[2])\n",
    "print(c[1,2])\n",
    "print(d[1,0,2])"
   ]
  },
  {
   "cell_type": "markdown",
   "id": "fcebd506",
   "metadata": {},
   "source": [
    "similarmente podemos segmentar arrays como en el las listas de python"
   ]
  },
  {
   "cell_type": "code",
   "execution_count": 6,
   "id": "7a0ee1fc",
   "metadata": {},
   "outputs": [
    {
     "name": "stdout",
     "output_type": "stream",
     "text": [
      "[2 3]\n",
      "[6 7]\n"
     ]
    }
   ],
   "source": [
    "print(b[1:4])\n",
    "print(c[1,1:3])"
   ]
  },
  {
   "cell_type": "markdown",
   "id": "cd589abc",
   "metadata": {},
   "source": [
    "## **diferentes tipos de datos en el los arrays**"
   ]
  },
  {
   "cell_type": "markdown",
   "id": "36a4ec09",
   "metadata": {},
   "source": [
    "Los arrays no están limitados a números enteros. pueden también tener cadenas, booleanos, o de punto flotante."
   ]
  },
  {
   "cell_type": "code",
   "execution_count": 7,
   "id": "ed2bb758",
   "metadata": {},
   "outputs": [
    {
     "name": "stdout",
     "output_type": "stream",
     "text": [
      "<U7\n"
     ]
    }
   ],
   "source": [
    "frutas=np.array(['Manzana', 'Naranja', 'Uva'])\n",
    "print(frutas.dtype)"
   ]
  },
  {
   "cell_type": "markdown",
   "id": "b89c0e97",
   "metadata": {},
   "source": [
    "Podemos manipular el tipo de los datos del array dentro de la función de creación del array, siempre y cuando el cambio sea posible. Por ejemplo podemos pasar integers a strings pero no viceversa"
   ]
  },
  {
   "cell_type": "code",
   "execution_count": 8,
   "id": "75aadc1c",
   "metadata": {},
   "outputs": [
    {
     "name": "stdout",
     "output_type": "stream",
     "text": [
      "|S3\n"
     ]
    }
   ],
   "source": [
    "number_to_string=np.array([6,1,2,4,623,8], dtype='S')\n",
    "print(number_to_string.dtype)"
   ]
  },
  {
   "cell_type": "code",
   "execution_count": 9,
   "id": "a1ebedf3",
   "metadata": {},
   "outputs": [
    {
     "ename": "ValueError",
     "evalue": "invalid literal for int() with base 10: 'a'",
     "output_type": "error",
     "traceback": [
      "\u001b[0;31m---------------------------------------------------------------------------\u001b[0m",
      "\u001b[0;31mValueError\u001b[0m                                Traceback (most recent call last)",
      "\u001b[0;32m<ipython-input-9-aa3fe7d2d11b>\u001b[0m in \u001b[0;36m<module>\u001b[0;34m\u001b[0m\n\u001b[0;32m----> 1\u001b[0;31m \u001b[0merror_array\u001b[0m \u001b[0;34m=\u001b[0m \u001b[0mnp\u001b[0m\u001b[0;34m.\u001b[0m\u001b[0marray\u001b[0m\u001b[0;34m(\u001b[0m\u001b[0;34m[\u001b[0m\u001b[0;34m'a'\u001b[0m\u001b[0;34m,\u001b[0m \u001b[0;34m'2'\u001b[0m\u001b[0;34m,\u001b[0m \u001b[0;34m'3'\u001b[0m\u001b[0;34m]\u001b[0m\u001b[0;34m,\u001b[0m \u001b[0mdtype\u001b[0m\u001b[0;34m=\u001b[0m\u001b[0;34m'i'\u001b[0m\u001b[0;34m)\u001b[0m\u001b[0;34m\u001b[0m\u001b[0;34m\u001b[0m\u001b[0m\n\u001b[0m",
      "\u001b[0;31mValueError\u001b[0m: invalid literal for int() with base 10: 'a'"
     ]
    }
   ],
   "source": [
    "error_array = np.array(['a', '2', '3'], dtype='i')"
   ]
  },
  {
   "cell_type": "markdown",
   "id": "7e2e1ac9",
   "metadata": {},
   "source": [
    "Podemos también cambiar el tipo en arrays ya existentes"
   ]
  },
  {
   "cell_type": "code",
   "execution_count": 10,
   "id": "7bd6b41a",
   "metadata": {},
   "outputs": [
    {
     "name": "stdout",
     "output_type": "stream",
     "text": [
      "[1 2 3]\n"
     ]
    }
   ],
   "source": [
    "floating_array = np.array([1.1, 2.1, 3.1])\n",
    "\n",
    "int_array = floating_array.astype('i')\n",
    "print(int_array)"
   ]
  },
  {
   "cell_type": "markdown",
   "id": "57d0475c",
   "metadata": {},
   "source": [
    "## Forma de los arrays"
   ]
  },
  {
   "cell_type": "markdown",
   "id": "044a8738",
   "metadata": {},
   "source": [
    "La forma es distinta a la dimensión. Este se define como el número de elementos de la dimensión. "
   ]
  },
  {
   "cell_type": "code",
   "execution_count": 11,
   "id": "232e7daf",
   "metadata": {},
   "outputs": [
    {
     "name": "stdout",
     "output_type": "stream",
     "text": [
      "()\n",
      "(4,)\n",
      "(2, 4)\n",
      "(2, 2, 4)\n"
     ]
    }
   ],
   "source": [
    "print(a.shape)\n",
    "print(b.shape)\n",
    "print(c.shape)\n",
    "print(d.shape)"
   ]
  },
  {
   "cell_type": "markdown",
   "id": "2d4af3fa",
   "metadata": {},
   "source": [
    "### Reformar arrays\n",
    "\n",
    "Podemos cambiar la forma de los arrays. Esto significa aumentar el número de dimensiones o cambiar cuantos elementos hay por dimensión"
   ]
  },
  {
   "cell_type": "code",
   "execution_count": 12,
   "id": "27e29622",
   "metadata": {},
   "outputs": [
    {
     "name": "stdout",
     "output_type": "stream",
     "text": [
      "[[1 2 3 4]\n",
      " [5 6 7 8]]\n",
      "[[1 2 3 4 5 6 7 8]]\n",
      "[[1 2]\n",
      " [3 4]\n",
      " [5 6]\n",
      " [7 8]]\n"
     ]
    }
   ],
   "source": [
    "print(c)\n",
    "c_1D=c.reshape(1,8)\n",
    "print(c_1D)\n",
    "c_4D=c.reshape(4,2)\n",
    "print(c_4D)"
   ]
  },
  {
   "cell_type": "markdown",
   "id": "fc0b1569",
   "metadata": {},
   "source": [
    "¿Podemos hacer cualquier cambio en la forma? Si, mientras las que se quieren conseguir coincidan con la cantidad de elementos"
   ]
  },
  {
   "cell_type": "code",
   "execution_count": 13,
   "id": "f37c4c94",
   "metadata": {},
   "outputs": [
    {
     "name": "stdout",
     "output_type": "stream",
     "text": [
      "[[[ 1  2  3  4]\n",
      "  [ 5  6  7  8]]\n",
      "\n",
      " [[ 9 10 11 12]\n",
      "  [13 14 15 16]]]\n"
     ]
    }
   ],
   "source": [
    "print(d)"
   ]
  },
  {
   "cell_type": "markdown",
   "id": "aeb96eb9",
   "metadata": {},
   "source": [
    "`d` es un array con 16 elementos, así que podemos hacer reshape con tamaños por ejemplo 1x16, 4x4, 8x2, 2x4x2 Por ejemplo, no podemos hacer 3x5"
   ]
  },
  {
   "cell_type": "code",
   "execution_count": 14,
   "id": "e4721bce",
   "metadata": {},
   "outputs": [
    {
     "ename": "ValueError",
     "evalue": "cannot reshape array of size 16 into shape (3,5)",
     "output_type": "error",
     "traceback": [
      "\u001b[0;31m---------------------------------------------------------------------------\u001b[0m",
      "\u001b[0;31mValueError\u001b[0m                                Traceback (most recent call last)",
      "\u001b[0;32m<ipython-input-14-aec6507f78a3>\u001b[0m in \u001b[0;36m<module>\u001b[0;34m\u001b[0m\n\u001b[0;32m----> 1\u001b[0;31m \u001b[0md\u001b[0m\u001b[0;34m.\u001b[0m\u001b[0mreshape\u001b[0m\u001b[0;34m(\u001b[0m\u001b[0;36m3\u001b[0m\u001b[0;34m,\u001b[0m\u001b[0;36m5\u001b[0m\u001b[0;34m)\u001b[0m\u001b[0;34m\u001b[0m\u001b[0;34m\u001b[0m\u001b[0m\n\u001b[0m",
      "\u001b[0;31mValueError\u001b[0m: cannot reshape array of size 16 into shape (3,5)"
     ]
    }
   ],
   "source": [
    "d.reshape(3,5)"
   ]
  },
  {
   "cell_type": "code",
   "execution_count": 15,
   "id": "64a96f6c",
   "metadata": {},
   "outputs": [
    {
     "data": {
      "text/plain": [
       "array([[[[ 1,  2],\n",
       "         [ 3,  4]],\n",
       "\n",
       "        [[ 5,  6],\n",
       "         [ 7,  8]]],\n",
       "\n",
       "\n",
       "       [[[ 9, 10],\n",
       "         [11, 12]],\n",
       "\n",
       "        [[13, 14],\n",
       "         [15, 16]]]])"
      ]
     },
     "execution_count": 15,
     "metadata": {},
     "output_type": "execute_result"
    }
   ],
   "source": [
    "d.reshape(2,2,2,2)"
   ]
  },
  {
   "cell_type": "markdown",
   "id": "7ae797c4",
   "metadata": {},
   "source": [
    "### Dimensión desconocida"
   ]
  },
  {
   "cell_type": "markdown",
   "id": "a3aef62e",
   "metadata": {},
   "source": [
    "Podemos definir el cambio de forma con una dimensión la cual no sabemos el tamaño. Numpy se encargará de definir el tamaño que mejor se ajuste"
   ]
  },
  {
   "cell_type": "code",
   "execution_count": 16,
   "id": "adbaae7f",
   "metadata": {},
   "outputs": [
    {
     "data": {
      "text/plain": [
       "array([[1, 2, 3],\n",
       "       [4, 5, 6],\n",
       "       [7, 8, 9]])"
      ]
     },
     "execution_count": 16,
     "metadata": {},
     "output_type": "execute_result"
    }
   ],
   "source": [
    "arr = np.array([1, 2, 3, 4, 5, 6, 7, 8, 9])\n",
    "arr.reshape(3,-1)"
   ]
  },
  {
   "cell_type": "markdown",
   "id": "20bdffbb",
   "metadata": {},
   "source": [
    "Podemos usar la dimensión desconocida para \"aplanar\" el array a una dimensión"
   ]
  },
  {
   "cell_type": "code",
   "execution_count": 17,
   "id": "fbbb4a61",
   "metadata": {},
   "outputs": [
    {
     "data": {
      "text/plain": [
       "array([ 1,  2,  3,  4,  5,  6,  7,  8,  9, 10, 11, 12, 13, 14, 15, 16])"
      ]
     },
     "execution_count": 17,
     "metadata": {},
     "output_type": "execute_result"
    }
   ],
   "source": [
    "d.reshape(-1)"
   ]
  },
  {
   "cell_type": "markdown",
   "id": "10452895",
   "metadata": {},
   "source": [
    "### transpuesta"
   ]
  },
  {
   "cell_type": "markdown",
   "id": "385e05ef",
   "metadata": {},
   "source": [
    "Para transponer el array utilizamos `.T`"
   ]
  },
  {
   "cell_type": "code",
   "execution_count": 18,
   "id": "9c97dc11",
   "metadata": {},
   "outputs": [
    {
     "name": "stdout",
     "output_type": "stream",
     "text": [
      "[[1 2 3 4]\n",
      " [5 6 7 8]]\n",
      "[[1 5]\n",
      " [2 6]\n",
      " [3 7]\n",
      " [4 8]]\n"
     ]
    }
   ],
   "source": [
    "print(c)\n",
    "print(c.T)"
   ]
  },
  {
   "cell_type": "markdown",
   "id": "9522f334",
   "metadata": {},
   "source": [
    "## Iterar arrays"
   ]
  },
  {
   "cell_type": "markdown",
   "id": "f1184880",
   "metadata": {},
   "source": [
    "Podemos usar los métodos tradicionales para iterar"
   ]
  },
  {
   "cell_type": "code",
   "execution_count": 19,
   "id": "6377f739",
   "metadata": {},
   "outputs": [
    {
     "name": "stdout",
     "output_type": "stream",
     "text": [
      "[[1 2 3 4]\n",
      " [5 6 7 8]]\n",
      "[[ 9 10 11 12]\n",
      " [13 14 15 16]]\n"
     ]
    }
   ],
   "source": [
    "for x in d:\n",
    "    print(x)"
   ]
  },
  {
   "cell_type": "markdown",
   "id": "d612edc4",
   "metadata": {},
   "source": [
    "Si queremos iterar cada elemento, necesitamos un `for` por cada dimensión"
   ]
  },
  {
   "cell_type": "code",
   "execution_count": 20,
   "id": "b5f16a97",
   "metadata": {},
   "outputs": [
    {
     "name": "stdout",
     "output_type": "stream",
     "text": [
      "1\n",
      "2\n",
      "3\n",
      "4\n",
      "5\n",
      "6\n",
      "7\n",
      "8\n",
      "9\n",
      "10\n",
      "11\n",
      "12\n",
      "13\n",
      "14\n",
      "15\n",
      "16\n"
     ]
    }
   ],
   "source": [
    "for x in d:\n",
    "    for y in x:\n",
    "        for z in y:\n",
    "            print(z)"
   ]
  },
  {
   "cell_type": "markdown",
   "id": "f4f02b2d",
   "metadata": {},
   "source": [
    "Esto por supuesto no es óptimo. Así que numpy tiene la función `nditer()` para estos casos"
   ]
  },
  {
   "cell_type": "code",
   "execution_count": 21,
   "id": "3f2f634c",
   "metadata": {},
   "outputs": [
    {
     "name": "stdout",
     "output_type": "stream",
     "text": [
      "1\n",
      "2\n",
      "3\n",
      "4\n",
      "5\n",
      "6\n",
      "7\n",
      "8\n",
      "9\n",
      "10\n",
      "11\n",
      "12\n",
      "13\n",
      "14\n",
      "15\n",
      "16\n"
     ]
    }
   ],
   "source": [
    "for x in np.nditer(d):\n",
    "    print(x)"
   ]
  },
  {
   "cell_type": "markdown",
   "id": "93ecf334",
   "metadata": {},
   "source": [
    "## Aplicar operaciones entre arrays"
   ]
  },
  {
   "cell_type": "markdown",
   "id": "52f2041f",
   "metadata": {},
   "source": [
    "numpy tiene sus propias formas de aplicar operaciones"
   ]
  },
  {
   "cell_type": "markdown",
   "id": "09cb60fc",
   "metadata": {},
   "source": [
    "### Suma\n",
    "numpy tiene dos funciones, `np.add()` y `np.sum()`. el primero se aplica entre argumentos, el segundo se aplica en n elementos\n",
    "\n",
    "para que se haga la suma, es necesario que ambos arrays tengan la misma forma"
   ]
  },
  {
   "cell_type": "code",
   "execution_count": 22,
   "id": "339e55e2",
   "metadata": {},
   "outputs": [
    {
     "data": {
      "text/plain": [
       "array([[7, 7, 7],\n",
       "       [7, 7, 7]])"
      ]
     },
     "execution_count": 22,
     "metadata": {},
     "output_type": "execute_result"
    }
   ],
   "source": [
    "arr1=np.array([[1,2,3],\n",
    "               [4,5,6]])\n",
    "arr2=np.array([[6,5,4],\n",
    "               [3,2,1]])\n",
    "np.add(arr1,arr2)"
   ]
  },
  {
   "cell_type": "code",
   "execution_count": 23,
   "id": "90870068",
   "metadata": {},
   "outputs": [
    {
     "name": "stdout",
     "output_type": "stream",
     "text": [
      "42\n",
      "48\n"
     ]
    }
   ],
   "source": [
    "arr3=np.array([[1,1,1],[1,1,1]])\n",
    "print(np.sum([arr1,arr2]))\n",
    "print(np.sum([arr1,arr2,arr3]))"
   ]
  },
  {
   "cell_type": "markdown",
   "id": "98d61a60",
   "metadata": {},
   "source": [
    "Si aplicamos un eje en `np.sum()`, se aplica la suma en ese mismo eje. Por ejemplo, con eje 0, se obtienen los mismos resultados que `np.add()`"
   ]
  },
  {
   "cell_type": "code",
   "execution_count": 24,
   "id": "6dd45cbe",
   "metadata": {},
   "outputs": [
    {
     "data": {
      "text/plain": [
       "array([[8, 8, 8],\n",
       "       [8, 8, 8]])"
      ]
     },
     "execution_count": 24,
     "metadata": {},
     "output_type": "execute_result"
    }
   ],
   "source": [
    "np.sum([arr1,arr2, arr3],axis=0)"
   ]
  },
  {
   "cell_type": "code",
   "execution_count": 25,
   "id": "95c81c00",
   "metadata": {},
   "outputs": [
    {
     "data": {
      "text/plain": [
       "array([[5, 7, 9],\n",
       "       [9, 7, 5],\n",
       "       [2, 2, 2]])"
      ]
     },
     "execution_count": 25,
     "metadata": {},
     "output_type": "execute_result"
    }
   ],
   "source": [
    "np.sum([arr1,arr2, arr3],axis=1)"
   ]
  },
  {
   "cell_type": "markdown",
   "id": "5c8eed55",
   "metadata": {},
   "source": [
    "### Multiplicación"
   ]
  },
  {
   "cell_type": "markdown",
   "id": "76805d27",
   "metadata": {},
   "source": [
    "el primer caso de multiplicación es `np.prod()`, que funciona similar que `np.sum()`"
   ]
  },
  {
   "cell_type": "code",
   "execution_count": 26,
   "id": "bc07e939",
   "metadata": {},
   "outputs": [
    {
     "name": "stdout",
     "output_type": "stream",
     "text": [
      "518400\n",
      "[[ 6 10 12]\n",
      " [12 10  6]]\n",
      "[[ 4 10 18]\n",
      " [18 10  4]]\n"
     ]
    }
   ],
   "source": [
    "print(np.prod([arr1,arr2]))\n",
    "print(np.prod([arr1,arr2],axis=0))\n",
    "print(np.prod([arr1,arr2],axis=1))"
   ]
  },
  {
   "cell_type": "markdown",
   "id": "147d0eab",
   "metadata": {},
   "source": [
    "Para la multiplicación de matrices usamos `np.matmul()` o `np.dot()`. hay que tener en cuenta la forma de las matrices"
   ]
  },
  {
   "cell_type": "code",
   "execution_count": 27,
   "id": "dd1a5b3b",
   "metadata": {},
   "outputs": [
    {
     "data": {
      "text/plain": [
       "array([[28, 10],\n",
       "       [73, 28]])"
      ]
     },
     "execution_count": 27,
     "metadata": {},
     "output_type": "execute_result"
    }
   ],
   "source": [
    "np.matmul(arr1, arr2.T)"
   ]
  },
  {
   "cell_type": "code",
   "execution_count": 28,
   "id": "333b7abc",
   "metadata": {},
   "outputs": [
    {
     "data": {
      "text/plain": [
       "array([[28, 10],\n",
       "       [73, 28]])"
      ]
     },
     "execution_count": 28,
     "metadata": {},
     "output_type": "execute_result"
    }
   ],
   "source": [
    "np.dot(arr1, arr2.T)"
   ]
  },
  {
   "cell_type": "markdown",
   "id": "9151ad8c",
   "metadata": {},
   "source": [
    "Se comportan distinto con matrices de dos dimensiones, para otros casos hacen cosas distintas"
   ]
  },
  {
   "cell_type": "code",
   "execution_count": 29,
   "id": "b4b74c6d",
   "metadata": {},
   "outputs": [
    {
     "data": {
      "text/plain": [
       "array([[[[ 50,  60],\n",
       "         [130, 140]],\n",
       "\n",
       "        [[114, 140],\n",
       "         [322, 348]]],\n",
       "\n",
       "\n",
       "       [[[178, 220],\n",
       "         [514, 556]],\n",
       "\n",
       "        [[242, 300],\n",
       "         [706, 764]]]])"
      ]
     },
     "execution_count": 29,
     "metadata": {},
     "output_type": "execute_result"
    }
   ],
   "source": [
    "np.dot(d,d.reshape(2,4,2))"
   ]
  },
  {
   "cell_type": "code",
   "execution_count": 30,
   "id": "752b3aaf",
   "metadata": {},
   "outputs": [
    {
     "data": {
      "text/plain": [
       "array([[[ 50,  60],\n",
       "        [114, 140]],\n",
       "\n",
       "       [[514, 556],\n",
       "        [706, 764]]])"
      ]
     },
     "execution_count": 30,
     "metadata": {},
     "output_type": "execute_result"
    }
   ],
   "source": [
    "np.matmul(d,d.reshape(2,4,2))"
   ]
  },
  {
   "cell_type": "code",
   "execution_count": null,
   "id": "d5b4e257",
   "metadata": {},
   "outputs": [],
   "source": []
  }
 ],
 "metadata": {
  "kernelspec": {
   "display_name": "Python 3",
   "language": "python",
   "name": "python3"
  },
  "language_info": {
   "codemirror_mode": {
    "name": "ipython",
    "version": 3
   },
   "file_extension": ".py",
   "mimetype": "text/x-python",
   "name": "python",
   "nbconvert_exporter": "python",
   "pygments_lexer": "ipython3",
   "version": "3.8.8"
  }
 },
 "nbformat": 4,
 "nbformat_minor": 5
}
