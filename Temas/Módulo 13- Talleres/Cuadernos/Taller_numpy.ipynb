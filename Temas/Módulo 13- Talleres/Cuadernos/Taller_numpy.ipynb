{
 "cells": [
  {
   "cell_type": "markdown",
   "id": "3a15b7be",
   "metadata": {},
   "source": [
    "# <span style=\"color:green\"><center>Diplomado en Inteligencia Artificial y Aprendizaje Profundo</center></span>"
   ]
  },
  {
   "cell_type": "markdown",
   "id": "3df3c630-a8e9-4f6e-af4e-0bd04c854222",
   "metadata": {},
   "source": [
    "# <span style=\"color:red\"><center>Taller de numpy </center></span>"
   ]
  },
  {
   "cell_type": "markdown",
   "id": "c929035d",
   "metadata": {
    "tags": []
   },
   "source": [
    "## <span style=\"color:blue\">Autores</span>"
   ]
  },
  {
   "cell_type": "markdown",
   "id": "18db2f64",
   "metadata": {},
   "source": [
    "1. Oleg Jarma, ojarmam@unal.edu.co\n",
    "2. Julieth López, julalopezcas@unal.edu.co"
   ]
  },
  {
   "cell_type": "markdown",
   "id": "6264e87c",
   "metadata": {},
   "source": [
    "##   <span style=\"color:blue\">Profesores</span>"
   ]
  },
  {
   "cell_type": "markdown",
   "id": "a584d1e1",
   "metadata": {},
   "source": [
    "2. Alvaro Mauricio Montenegro Díaz, ammontenegrod@unal.edu.co\n",
    "3. Daniel Mauricio Montenegro Reyes, dextronomo@gmail.com \n",
    "4. Campo Elías Pardo Turriago, cepardot@unal.edu.co "
   ]
  },
  {
   "cell_type": "markdown",
   "id": "e3bb6c4f",
   "metadata": {},
   "source": [
    "##   <span style=\"color:blue\">Asesora Medios y Marketing digital</span>"
   ]
  },
  {
   "cell_type": "markdown",
   "id": "0c681607",
   "metadata": {},
   "source": [
    "5. Maria del Pilar Montenegro, pmontenegro88@gmail.com "
   ]
  },
  {
   "cell_type": "markdown",
   "id": "66bfb124-9197-46c3-8f38-ecd11224881b",
   "metadata": {},
   "source": [
    "## Contenido\n",
    "\n",
    "* [¿Qué es?](#¿Qué-es?)\n",
    "    * [¿Por qué usar arrays de numpy y no listas o tuplas de python?](#¿Por-qué-usar-arrays-de-numpy-y-no-listas-o-tuplas-de-python?)\n",
    "* [Creación básica de arrays](#Creación-básica-de-arrays)\n",
    "* [Indexación básica](#Indexación-básica)\n",
    "* [Diferentes tipos de datos en el los arrays](#Diferentes-tipos-de-datos-en-los-arrays)\n",
    "* [Forma de los arrays](#Forma-de-los-arrays)\n",
    "    * [Reformar arrays](#Reformar-arrays)\n",
    "    * [Dimensión desconocida](#Dimensión-desconocida)\n",
    "    * [Transpuesta](#Transpuesta)\n",
    "* [Iterar arrays](#Iterar-arrays)\n",
    "* [Aplicar operaciones entre arrays](#Aplicar-operaciones-entre-arrays)\n",
    "    * [Suma](#Suma)\n",
    "    * [Multiplicación](#Multiplicación)\n",
    "    * [Multiplicación matricial](#Multiplicación-matricial)"
   ]
  },
  {
   "cell_type": "markdown",
   "id": "f9fb9210",
   "metadata": {
    "id": "--yl3E28USV0"
   },
   "source": [
    "## ¿Qué es?"
   ]
  },
  {
   "cell_type": "markdown",
   "id": "a4e658cc",
   "metadata": {},
   "source": [
    "Numpy es un paquete de python dedicado principalmente al manejo de conjuntos o \"arrays\". Extendiendose luego al álgebra lineal, matrices y probabilidad."
   ]
  },
  {
   "cell_type": "markdown",
   "id": "7d513ed8",
   "metadata": {},
   "source": [
    "### ¿Por qué usar arrays de numpy y no listas o tuplas de python?"
   ]
  },
  {
   "cell_type": "markdown",
   "id": "ebbff053",
   "metadata": {},
   "source": [
    "Aunque python base tiene listas, el usar arrays es más rápido y consume menos memoria. Algo altamente necesario cuando se hacen operaciones de gran tamaño como puede ser el algebra matricial, por ejemplo."
   ]
  },
  {
   "cell_type": "markdown",
   "id": "97b7f570",
   "metadata": {
    "id": "--yl3E28USV0"
   },
   "source": [
    "## La relación de numpy y el aprendizaje profundo"
   ]
  },
  {
   "cell_type": "markdown",
   "id": "6c7d8268",
   "metadata": {},
   "source": [
    "Debido a las ventajas mencionadas anteriormente, la mayoría, sino todas, las librerías principales de IA y AP (dícese Tensorflow y Pytorch) hacen sus operaciones con arrays de numpy, entre otras cosas."
   ]
  },
  {
   "cell_type": "code",
   "execution_count": 2,
   "id": "063e4b25",
   "metadata": {},
   "outputs": [],
   "source": [
    "import numpy as np"
   ]
  },
  {
   "cell_type": "markdown",
   "id": "15ebc1d8",
   "metadata": {},
   "source": [
    "## Creación básica de arrays"
   ]
  },
  {
   "cell_type": "markdown",
   "id": "4ff6fd69",
   "metadata": {
    "tags": []
   },
   "source": [
    "Vamos a crear arrays de distintas dimensiones. Para esto podemos usar números, listas o tuplas."
   ]
  },
  {
   "cell_type": "code",
   "execution_count": 3,
   "id": "4a0468a9",
   "metadata": {},
   "outputs": [
    {
     "name": "stdout",
     "output_type": "stream",
     "text": [
      "a = 13 \n",
      "\n",
      "b = [1 2 3 4] \n",
      "\n",
      "c = [[1 2 3 4]\n",
      " [5 6 7 8]] \n",
      "\n",
      "d = [[[ 1  2  3  4]\n",
      "  [ 5  6  7  8]]\n",
      "\n",
      " [[ 9 10 11 12]\n",
      "  [13 14 15 16]]] \n",
      "\n"
     ]
    }
   ],
   "source": [
    "a=np.array(13) #array de dimensión 0\n",
    "b=np.array([1,2,3,4]) #array de dimensión 1\n",
    "c=np.array([[1,2,3,4],[5,6,7,8]]) #array de dimensión 2\n",
    "d=np.array([[[1,2,3,4],[5,6,7,8]],[[9,10,11,12],[13,14,15,16]]]) #array de dimensión 3\n",
    "\n",
    "print(\"a =\",a,\"\\n\")\n",
    "print(\"b =\",b,\"\\n\")\n",
    "print(\"c =\",c,\"\\n\")\n",
    "print(\"d =\",d,\"\\n\")"
   ]
  },
  {
   "cell_type": "markdown",
   "id": "52f9cff7",
   "metadata": {},
   "source": [
    "Para revisar el número de dimensiones, usamos `ndim`"
   ]
  },
  {
   "cell_type": "code",
   "execution_count": 4,
   "id": "2a60b3c5",
   "metadata": {},
   "outputs": [
    {
     "name": "stdout",
     "output_type": "stream",
     "text": [
      "0\n",
      "1\n",
      "2\n",
      "3\n"
     ]
    }
   ],
   "source": [
    "print(a.ndim)\n",
    "print(b.ndim)\n",
    "print(c.ndim)\n",
    "print(d.ndim)"
   ]
  },
  {
   "cell_type": "markdown",
   "id": "1d882daf",
   "metadata": {},
   "source": [
    "## Indexación básica"
   ]
  },
  {
   "cell_type": "markdown",
   "id": "a04ab4cd",
   "metadata": {},
   "source": [
    "El proceso de indexación en numpy es similar al de las listas en python. Cada número implica buscar la posición en cada dimensión del array"
   ]
  },
  {
   "cell_type": "code",
   "execution_count": 5,
   "id": "8019beb0",
   "metadata": {},
   "outputs": [
    {
     "name": "stdout",
     "output_type": "stream",
     "text": [
      "a = 13\n",
      "b[2] =  3\n",
      "c[1] = [5 6 7 8]\n",
      "d[1] = [[ 9 10 11 12]\n",
      " [13 14 15 16]]\n"
     ]
    }
   ],
   "source": [
    "print(\"a =\",a)\n",
    "print(\"b[2] = \",b[2])\n",
    "print(\"c[1] =\",c[1])\n",
    "print(\"d[1] =\",d[1])"
   ]
  },
  {
   "cell_type": "code",
   "execution_count": 6,
   "id": "894b28ed",
   "metadata": {},
   "outputs": [
    {
     "name": "stdout",
     "output_type": "stream",
     "text": [
      "a = 13\n",
      "b[2] = 3\n",
      "c[1,2] = 7\n",
      "d[1,0,2] = 11\n"
     ]
    }
   ],
   "source": [
    "print(\"a =\",a)\n",
    "print(\"b[2] =\",b[2])\n",
    "print(\"c[1,2] =\",c[1,2])\n",
    "print(\"d[1,0,2] =\",d[1,0,2])"
   ]
  },
  {
   "cell_type": "markdown",
   "id": "fcebd506",
   "metadata": {},
   "source": [
    "Similarmente podemos segmentar **arrays** como en las listas de python,"
   ]
  },
  {
   "cell_type": "code",
   "execution_count": 7,
   "id": "7a0ee1fc",
   "metadata": {},
   "outputs": [
    {
     "name": "stdout",
     "output_type": "stream",
     "text": [
      "[2 3 4]\n",
      "[6 7]\n"
     ]
    }
   ],
   "source": [
    "print(b[1:4]) #b = [1 2 3 4] \n",
    "print(c[1,1:3]) #c = [[1 2 3 4][5 6 7 8]] "
   ]
  },
  {
   "cell_type": "markdown",
   "id": "cd589abc",
   "metadata": {},
   "source": [
    "## Diferentes tipos de datos en los arrays"
   ]
  },
  {
   "cell_type": "markdown",
   "id": "36a4ec09",
   "metadata": {},
   "source": [
    "Los arrays no están limitados a números enteros, pueden también tener cadenas, booleanos, o de punto flotante."
   ]
  },
  {
   "cell_type": "code",
   "execution_count": 8,
   "id": "ed2bb758",
   "metadata": {},
   "outputs": [
    {
     "name": "stdout",
     "output_type": "stream",
     "text": [
      "<U7\n"
     ]
    }
   ],
   "source": [
    "frutas = np.array(['Manzana', 'Naranja', 'Uva']) #cadenas\n",
    "print(frutas.dtype)"
   ]
  },
  {
   "cell_type": "markdown",
   "id": "b89c0e97",
   "metadata": {},
   "source": [
    "Podemos manipular el tipo de los datos del array dentro de la función de creación del array `np.array`, siempre y cuando el cambio sea posible. Por ejemplo podemos pasar enteros a cadenas (integers a strings) pero no viceversa."
   ]
  },
  {
   "cell_type": "code",
   "execution_count": 9,
   "id": "75aadc1c",
   "metadata": {},
   "outputs": [
    {
     "name": "stdout",
     "output_type": "stream",
     "text": [
      "|S3\n",
      "[b'6' b'1' b'2' b'4' b'623' b'8']\n"
     ]
    }
   ],
   "source": [
    "number_to_string=np.array([6,1,2,4,623,8], dtype='S') #b denota un string\n",
    "print(number_to_string.dtype)\n",
    "print(number_to_string)"
   ]
  },
  {
   "cell_type": "code",
   "execution_count": 10,
   "id": "a1ebedf3",
   "metadata": {},
   "outputs": [
    {
     "name": "stdout",
     "output_type": "stream",
     "text": [
      "hay un error en su lógica\n"
     ]
    }
   ],
   "source": [
    "try:\n",
    "    error_array = np.array(['a', '2', '3'], dtype='i')\n",
    "except:\n",
    "    print(\"hay un error en su lógica\")"
   ]
  },
  {
   "cell_type": "markdown",
   "id": "7e2e1ac9",
   "metadata": {},
   "source": [
    "Podemos también cambiar el tipo en arrays ya existentes"
   ]
  },
  {
   "cell_type": "code",
   "execution_count": 11,
   "id": "7bd6b41a",
   "metadata": {},
   "outputs": [
    {
     "name": "stdout",
     "output_type": "stream",
     "text": [
      "[1 2 3]\n"
     ]
    }
   ],
   "source": [
    "floating_array = np.array([1.1, 2.1, 3.1]) #punto flotante\n",
    "\n",
    "int_array = floating_array.astype('i')\n",
    "print(int_array)"
   ]
  },
  {
   "cell_type": "markdown",
   "id": "57d0475c",
   "metadata": {},
   "source": [
    "## Forma de los arrays"
   ]
  },
  {
   "cell_type": "markdown",
   "id": "044a8738",
   "metadata": {},
   "source": [
    "La forma es distinta a la dimensión. Esta se define como el número de elementos de la dimensión. "
   ]
  },
  {
   "cell_type": "code",
   "execution_count": 12,
   "id": "232e7daf",
   "metadata": {},
   "outputs": [
    {
     "name": "stdout",
     "output_type": "stream",
     "text": [
      "()\n",
      "(4,)\n",
      "(2, 4)\n",
      "(2, 2, 4)\n"
     ]
    }
   ],
   "source": [
    "print(a.shape) # a = 13 \n",
    "print(b.shape) # b = [1 2 3 4] \n",
    "print(c.shape) # c = [[1 2 3 4][5 6 7 8]] \n",
    "print(d.shape) # d = [[[ 1  2  3  4][ 5  6  7  8]] [[ 9 10 11 12][13 14 15 16]]] "
   ]
  },
  {
   "cell_type": "markdown",
   "id": "2d4af3fa",
   "metadata": {},
   "source": [
    "### Reformar arrays\n",
    "\n",
    "Podemos cambiar la forma de los arrays. Esto significa aumentar el número de dimensiones o cambiar cuantos elementos hay por dimensión."
   ]
  },
  {
   "cell_type": "code",
   "execution_count": 13,
   "id": "27e29622",
   "metadata": {},
   "outputs": [
    {
     "name": "stdout",
     "output_type": "stream",
     "text": [
      "c = [[1 2 3 4]\n",
      " [5 6 7 8]] \n",
      "\n",
      "c_1D = [[1 2 3 4 5 6 7 8]] \n",
      "\n",
      "c_4D = [[1 2]\n",
      " [3 4]\n",
      " [5 6]\n",
      " [7 8]] \n",
      "\n"
     ]
    }
   ],
   "source": [
    "print(\"c =\",c,\"\\n\")\n",
    "c_1D=c.reshape(1,8)\n",
    "print(\"c_1D =\",c_1D,\"\\n\")\n",
    "c_4D=c.reshape(4,2)\n",
    "print(\"c_4D =\",c_4D,\"\\n\")"
   ]
  },
  {
   "cell_type": "markdown",
   "id": "fc0b1569",
   "metadata": {},
   "source": [
    "¿Podemos hacer cualquier cambio en la forma? Si, mientras las que se quieren conseguir coincidan con la cantidad de elementos."
   ]
  },
  {
   "cell_type": "code",
   "execution_count": 14,
   "id": "f37c4c94",
   "metadata": {},
   "outputs": [
    {
     "name": "stdout",
     "output_type": "stream",
     "text": [
      "[[[ 1  2  3  4]\n",
      "  [ 5  6  7  8]]\n",
      "\n",
      " [[ 9 10 11 12]\n",
      "  [13 14 15 16]]]\n"
     ]
    }
   ],
   "source": [
    "print(d)"
   ]
  },
  {
   "cell_type": "markdown",
   "id": "aeb96eb9",
   "metadata": {},
   "source": [
    "`d` es un array con 16 elementos, así que podemos hacer reshape con tamaños por ejemplo 1x16, 4x4, 8x2, 2x4x2 Por ejemplo, no podemos reformar un arrey a 3x5."
   ]
  },
  {
   "cell_type": "code",
   "execution_count": 15,
   "id": "e4721bce",
   "metadata": {},
   "outputs": [
    {
     "name": "stdout",
     "output_type": "stream",
     "text": [
      "Hay un error en sus operaciones\n"
     ]
    }
   ],
   "source": [
    "try:\n",
    "    d.reshape(3,5)\n",
    "except:\n",
    "    print('Hay un error en sus operaciones')"
   ]
  },
  {
   "cell_type": "code",
   "execution_count": 16,
   "id": "64a96f6c",
   "metadata": {},
   "outputs": [
    {
     "data": {
      "text/plain": [
       "array([[[[ 1,  2],\n",
       "         [ 3,  4]],\n",
       "\n",
       "        [[ 5,  6],\n",
       "         [ 7,  8]]],\n",
       "\n",
       "\n",
       "       [[[ 9, 10],\n",
       "         [11, 12]],\n",
       "\n",
       "        [[13, 14],\n",
       "         [15, 16]]]])"
      ]
     },
     "execution_count": 16,
     "metadata": {},
     "output_type": "execute_result"
    }
   ],
   "source": [
    "d.reshape(2,2,2,2)"
   ]
  },
  {
   "cell_type": "markdown",
   "id": "7ae797c4",
   "metadata": {},
   "source": [
    "### Dimensión desconocida"
   ]
  },
  {
   "cell_type": "markdown",
   "id": "a3aef62e",
   "metadata": {},
   "source": [
    "Podemos definir el cambio de forma con una dimensión la cual no sabemos el tamaño. Numpy se encargará de definir el tamaño que mejor se ajuste."
   ]
  },
  {
   "cell_type": "code",
   "execution_count": 17,
   "id": "adbaae7f",
   "metadata": {},
   "outputs": [
    {
     "data": {
      "text/plain": [
       "array([[1, 2, 3],\n",
       "       [4, 5, 6],\n",
       "       [7, 8, 9]])"
      ]
     },
     "execution_count": 17,
     "metadata": {},
     "output_type": "execute_result"
    }
   ],
   "source": [
    "arr = np.array([1, 2, 3, 4, 5, 6, 7, 8, 9])\n",
    "arr.reshape(3,-1)"
   ]
  },
  {
   "cell_type": "markdown",
   "id": "20bdffbb",
   "metadata": {},
   "source": [
    "Podemos usar la dimensión desconocida para \"aplanar\" el array a una dimensión."
   ]
  },
  {
   "cell_type": "code",
   "execution_count": 18,
   "id": "fbbb4a61",
   "metadata": {},
   "outputs": [
    {
     "data": {
      "text/plain": [
       "array([ 1,  2,  3,  4,  5,  6,  7,  8,  9, 10, 11, 12, 13, 14, 15, 16])"
      ]
     },
     "execution_count": 18,
     "metadata": {},
     "output_type": "execute_result"
    }
   ],
   "source": [
    "d.reshape(-1)"
   ]
  },
  {
   "cell_type": "markdown",
   "id": "10452895",
   "metadata": {},
   "source": [
    "### Transpuesta"
   ]
  },
  {
   "cell_type": "markdown",
   "id": "385e05ef",
   "metadata": {},
   "source": [
    "Para transponer el array utilizamos `.T`"
   ]
  },
  {
   "cell_type": "code",
   "execution_count": 19,
   "id": "9c97dc11",
   "metadata": {},
   "outputs": [
    {
     "name": "stdout",
     "output_type": "stream",
     "text": [
      "c = [[1 2 3 4]\n",
      " [5 6 7 8]] \n",
      "\n",
      "c.T = [[1 5]\n",
      " [2 6]\n",
      " [3 7]\n",
      " [4 8]]\n"
     ]
    }
   ],
   "source": [
    "print(\"c =\",c,\"\\n\")\n",
    "print(\"c.T =\",c.T)"
   ]
  },
  {
   "cell_type": "markdown",
   "id": "9522f334",
   "metadata": {},
   "source": [
    "## Iterar arrays"
   ]
  },
  {
   "cell_type": "markdown",
   "id": "f1184880",
   "metadata": {},
   "source": [
    "Podemos usar los métodos tradicionales para iterar."
   ]
  },
  {
   "cell_type": "code",
   "execution_count": 20,
   "id": "6377f739",
   "metadata": {},
   "outputs": [
    {
     "name": "stdout",
     "output_type": "stream",
     "text": [
      "[[1 2 3 4]\n",
      " [5 6 7 8]]\n",
      "[[ 9 10 11 12]\n",
      " [13 14 15 16]]\n"
     ]
    }
   ],
   "source": [
    "for x in d:\n",
    "    print(x)"
   ]
  },
  {
   "cell_type": "markdown",
   "id": "d612edc4",
   "metadata": {},
   "source": [
    "Si queremos iterar cada elemento, necesitamos un `for` por cada dimensión"
   ]
  },
  {
   "cell_type": "code",
   "execution_count": 21,
   "id": "b5f16a97",
   "metadata": {},
   "outputs": [
    {
     "name": "stdout",
     "output_type": "stream",
     "text": [
      "1\n",
      "2\n",
      "3\n",
      "4\n",
      "5\n",
      "6\n",
      "7\n",
      "8\n",
      "9\n",
      "10\n",
      "11\n",
      "12\n",
      "13\n",
      "14\n",
      "15\n",
      "16\n"
     ]
    }
   ],
   "source": [
    "for x in d:\n",
    "    for y in x:\n",
    "        for z in y:\n",
    "            print(z)"
   ]
  },
  {
   "cell_type": "markdown",
   "id": "f4f02b2d",
   "metadata": {},
   "source": [
    "Esto por supuesto no es óptimo. Así que numpy tiene la función `nditer()` para estos casos."
   ]
  },
  {
   "cell_type": "code",
   "execution_count": 22,
   "id": "3f2f634c",
   "metadata": {},
   "outputs": [
    {
     "name": "stdout",
     "output_type": "stream",
     "text": [
      "1\n",
      "2\n",
      "3\n",
      "4\n",
      "5\n",
      "6\n",
      "7\n",
      "8\n",
      "9\n",
      "10\n",
      "11\n",
      "12\n",
      "13\n",
      "14\n",
      "15\n",
      "16\n"
     ]
    }
   ],
   "source": [
    "for x in np.nditer(d):\n",
    "    print(x)"
   ]
  },
  {
   "cell_type": "markdown",
   "id": "93ecf334",
   "metadata": {},
   "source": [
    "## Aplicar operaciones entre arrays"
   ]
  },
  {
   "cell_type": "markdown",
   "id": "52f2041f",
   "metadata": {},
   "source": [
    "*numpy* tiene sus propias formas de aplicar operaciones:"
   ]
  },
  {
   "cell_type": "markdown",
   "id": "09cb60fc",
   "metadata": {},
   "source": [
    "### Suma\n",
    "\n",
    "*numpy* tiene dos funciones, `np.add()` y `np.sum()`. El primero se aplica entre argumentos, el segundo se aplica en n elementos para que se haga la suma, es necesario que ambos arrays tengan la misma forma"
   ]
  },
  {
   "cell_type": "code",
   "execution_count": 23,
   "id": "339e55e2",
   "metadata": {},
   "outputs": [
    {
     "data": {
      "text/plain": [
       "array([[7, 7, 7],\n",
       "       [7, 7, 7]])"
      ]
     },
     "execution_count": 23,
     "metadata": {},
     "output_type": "execute_result"
    }
   ],
   "source": [
    "arr1=np.array([[1,2,3],\n",
    "               [4,5,6]])\n",
    "arr2=np.array([[6,5,4],\n",
    "               [3,2,1]])\n",
    "np.add(arr1,arr2)"
   ]
  },
  {
   "cell_type": "code",
   "execution_count": 24,
   "id": "90870068",
   "metadata": {},
   "outputs": [
    {
     "name": "stdout",
     "output_type": "stream",
     "text": [
      "42\n",
      "48\n"
     ]
    }
   ],
   "source": [
    "arr3=np.array([[1,1,1],[1,1,1]])\n",
    "print(np.sum([arr1,arr2]))\n",
    "print(np.sum([arr1,arr2,arr3]))"
   ]
  },
  {
   "cell_type": "markdown",
   "id": "98d61a60",
   "metadata": {},
   "source": [
    "Si aplicamos un eje en `np.sum()`, se aplica la suma en ese mismo eje. Por ejemplo, con eje 0, se obtienen los mismos resultados que `np.add()`"
   ]
  },
  {
   "cell_type": "code",
   "execution_count": 25,
   "id": "6dd45cbe",
   "metadata": {},
   "outputs": [
    {
     "data": {
      "text/plain": [
       "array([[8, 8, 8],\n",
       "       [8, 8, 8]])"
      ]
     },
     "execution_count": 25,
     "metadata": {},
     "output_type": "execute_result"
    }
   ],
   "source": [
    "np.sum([arr1,arr2, arr3],axis=0)"
   ]
  },
  {
   "cell_type": "code",
   "execution_count": 26,
   "id": "95c81c00",
   "metadata": {},
   "outputs": [
    {
     "data": {
      "text/plain": [
       "array([[5, 7, 9],\n",
       "       [9, 7, 5],\n",
       "       [2, 2, 2]])"
      ]
     },
     "execution_count": 26,
     "metadata": {},
     "output_type": "execute_result"
    }
   ],
   "source": [
    "np.sum([arr1,arr2, arr3],axis=1)"
   ]
  },
  {
   "cell_type": "markdown",
   "id": "5c8eed55",
   "metadata": {},
   "source": [
    "### Multiplicación"
   ]
  },
  {
   "cell_type": "markdown",
   "id": "76805d27",
   "metadata": {},
   "source": [
    "El primer caso de multiplicación es `np.prod()`, que funciona similar que `np.sum()`"
   ]
  },
  {
   "cell_type": "code",
   "execution_count": 27,
   "id": "bc07e939",
   "metadata": {},
   "outputs": [
    {
     "name": "stdout",
     "output_type": "stream",
     "text": [
      "arr1=\n",
      " [[1 2 3]\n",
      " [4 5 6]] \n",
      "\n",
      "arr2=\n",
      " [[6 5 4]\n",
      " [3 2 1]] \n",
      "\n",
      "518400 \n",
      "\n",
      "[[ 6 10 12]\n",
      " [12 10  6]] \n",
      "\n",
      "[[ 4 10 18]\n",
      " [18 10  4]]\n"
     ]
    }
   ],
   "source": [
    "print(\"arr1=\\n\",arr1,\"\\n\")\n",
    "print(\"arr2=\\n\",arr2,\"\\n\")\n",
    "print(np.prod([arr1,arr2]),\"\\n\")\n",
    "print(np.prod([arr1,arr2],axis=0),\"\\n\")\n",
    "print(np.prod([arr1,arr2],axis=1))"
   ]
  },
  {
   "cell_type": "markdown",
   "id": "c375aab5-1374-44df-b853-77c0108fb546",
   "metadata": {},
   "source": [
    "### Multiplicación Matricial"
   ]
  },
  {
   "cell_type": "markdown",
   "id": "147d0eab",
   "metadata": {},
   "source": [
    "Para la multiplicación de matrices usamos `np.matmul()` o `np.dot()`. hay que tener en cuenta la forma de las matrices"
   ]
  },
  {
   "cell_type": "code",
   "execution_count": 28,
   "id": "dd1a5b3b",
   "metadata": {},
   "outputs": [
    {
     "data": {
      "text/plain": [
       "array([[28, 10],\n",
       "       [73, 28]])"
      ]
     },
     "execution_count": 28,
     "metadata": {},
     "output_type": "execute_result"
    }
   ],
   "source": [
    "np.matmul(arr1, arr2.T)"
   ]
  },
  {
   "cell_type": "code",
   "execution_count": 29,
   "id": "333b7abc",
   "metadata": {},
   "outputs": [
    {
     "data": {
      "text/plain": [
       "array([[28, 10],\n",
       "       [73, 28]])"
      ]
     },
     "execution_count": 29,
     "metadata": {},
     "output_type": "execute_result"
    }
   ],
   "source": [
    "np.dot(arr1, arr2.T)"
   ]
  },
  {
   "cell_type": "markdown",
   "id": "9151ad8c",
   "metadata": {},
   "source": [
    "Se comportan distinto con matrices de dos dimensiones, para otros casos hacen cosas distintas"
   ]
  },
  {
   "cell_type": "code",
   "execution_count": 30,
   "id": "b4b74c6d",
   "metadata": {},
   "outputs": [
    {
     "name": "stdout",
     "output_type": "stream",
     "text": [
      "d =\n",
      " [[[ 1  2  3  4]\n",
      "  [ 5  6  7  8]]\n",
      "\n",
      " [[ 9 10 11 12]\n",
      "  [13 14 15 16]]] \n",
      "\n",
      "d.reshape =\n",
      " [[[ 1  2]\n",
      "  [ 3  4]\n",
      "  [ 5  6]\n",
      "  [ 7  8]]\n",
      "\n",
      " [[ 9 10]\n",
      "  [11 12]\n",
      "  [13 14]\n",
      "  [15 16]]] \n",
      "\n"
     ]
    },
    {
     "data": {
      "text/plain": [
       "array([[[[ 50,  60],\n",
       "         [130, 140]],\n",
       "\n",
       "        [[114, 140],\n",
       "         [322, 348]]],\n",
       "\n",
       "\n",
       "       [[[178, 220],\n",
       "         [514, 556]],\n",
       "\n",
       "        [[242, 300],\n",
       "         [706, 764]]]])"
      ]
     },
     "execution_count": 30,
     "metadata": {},
     "output_type": "execute_result"
    }
   ],
   "source": [
    "print(\"d =\\n\",d,\"\\n\") #2,2,4\n",
    "print(\"d.reshape =\\n\",d.reshape(2,4,2),\"\\n\") #2,4,2\n",
    "np.dot(d,d.reshape(2,4,2)) #2,2,2,2"
   ]
  },
  {
   "cell_type": "code",
   "execution_count": 31,
   "id": "8f8a66cb-f25e-4f3b-81e2-2bb49412d8f2",
   "metadata": {},
   "outputs": [
    {
     "name": "stdout",
     "output_type": "stream",
     "text": [
      "[[ 50  60]\n",
      " [114 140]] \n",
      "\n",
      "[[130 140]\n",
      " [322 348]] \n",
      "\n",
      "[[178 220]\n",
      " [242 300]] \n",
      "\n",
      "[[514 556]\n",
      " [706 764]] \n",
      "\n"
     ]
    }
   ],
   "source": [
    "print(np.dot(d[0],d.reshape(2,4,2)[0]),\"\\n\")\n",
    "print(np.dot(d[0],d.reshape(2,4,2)[1]),\"\\n\")\n",
    "print(np.dot(d[1],d.reshape(2,4,2)[0]),\"\\n\")\n",
    "print(np.dot(d[1],d.reshape(2,4,2)[1]),\"\\n\")"
   ]
  },
  {
   "cell_type": "markdown",
   "id": "77a1b728-0d9e-4dd9-b566-8e3b284d63c8",
   "metadata": {},
   "source": [
    "Con *matmul* no se pueden multiplicar escalares **c.A** (c escalar, A matriz), además Matmul hace las multiplicaciones matriz a matriz (matrices como elementos), de ahí la diferencia con *dot*, donde este toma los números dentro de las matrices como elementos."
   ]
  },
  {
   "cell_type": "code",
   "execution_count": 32,
   "id": "d5b4e257",
   "metadata": {},
   "outputs": [
    {
     "data": {
      "text/plain": [
       "array([[[ 50,  60],\n",
       "        [114, 140]],\n",
       "\n",
       "       [[514, 556],\n",
       "        [706, 764]]])"
      ]
     },
     "execution_count": 32,
     "metadata": {},
     "output_type": "execute_result"
    }
   ],
   "source": [
    "np.matmul(d,d.reshape(2,4,2))"
   ]
  },
  {
   "cell_type": "markdown",
   "id": "3cf01179",
   "metadata": {},
   "source": [
    "## Generación de tipos de Matrices "
   ]
  },
  {
   "cell_type": "markdown",
   "id": "263932d0",
   "metadata": {},
   "source": [
    "numpy permite crear tipos específicos de matrices sin necesidad de escribir la estructura completa"
   ]
  },
  {
   "cell_type": "markdown",
   "id": "66815774",
   "metadata": {},
   "source": [
    "#### Matriz nula"
   ]
  },
  {
   "cell_type": "code",
   "execution_count": 34,
   "id": "d4ba5f59-24c1-44a3-bdff-8d996cc4d6d5",
   "metadata": {},
   "outputs": [
    {
     "name": "stdout",
     "output_type": "stream",
     "text": [
      "[[0. 0.]\n",
      " [0. 0.]]\n",
      "[[0. 0. 0. 0. 0.]\n",
      " [0. 0. 0. 0. 0.]\n",
      " [0. 0. 0. 0. 0.]\n",
      " [0. 0. 0. 0. 0.]\n",
      " [0. 0. 0. 0. 0.]]\n"
     ]
    }
   ],
   "source": [
    "a = np.zeros((2,2))\n",
    "\n",
    "b = np.zeros((5,5))\n",
    "\n",
    "print(a)\n",
    "print(b)"
   ]
  },
  {
   "cell_type": "markdown",
   "id": "33f353bc",
   "metadata": {},
   "source": [
    "#### Matriz de unos"
   ]
  },
  {
   "cell_type": "code",
   "execution_count": 53,
   "id": "13d49dc5",
   "metadata": {},
   "outputs": [
    {
     "name": "stdout",
     "output_type": "stream",
     "text": [
      "[[1. 1. 1. 1.]\n",
      " [1. 1. 1. 1.]]\n"
     ]
    }
   ],
   "source": [
    "a = np.ones((2,4))\n",
    "print(a)"
   ]
  },
  {
   "cell_type": "markdown",
   "id": "e720c573",
   "metadata": {},
   "source": [
    "#### Matriz de constantes"
   ]
  },
  {
   "cell_type": "code",
   "execution_count": 57,
   "id": "1fcfe279",
   "metadata": {},
   "outputs": [
    {
     "name": "stdout",
     "output_type": "stream",
     "text": [
      "[[6 6 6 6]\n",
      " [6 6 6 6]\n",
      " [6 6 6 6]\n",
      " [6 6 6 6]]\n"
     ]
    }
   ],
   "source": [
    "a = np.full((4,4), 6)\n",
    "print(a)"
   ]
  },
  {
   "cell_type": "markdown",
   "id": "ddffcc84",
   "metadata": {},
   "source": [
    "#### Matriz identidad"
   ]
  },
  {
   "cell_type": "code",
   "execution_count": 63,
   "id": "3a95e63e",
   "metadata": {},
   "outputs": [
    {
     "name": "stdout",
     "output_type": "stream",
     "text": [
      "[[1. 0. 0.]\n",
      " [0. 1. 0.]\n",
      " [0. 0. 1.]]\n"
     ]
    }
   ],
   "source": [
    "a = np.eye(3)\n",
    "print(a)"
   ]
  },
  {
   "cell_type": "markdown",
   "id": "87e519a6-efe6-49f8-9053-456b7b6210cc",
   "metadata": {},
   "source": [
    "## np.random"
   ]
  },
  {
   "cell_type": "markdown",
   "id": "2af4516c-9367-4f10-8f5e-80221caf65aa",
   "metadata": {},
   "source": [
    "El módulo \"random\" permite trabajar con números pseudo aleatorios, basándose en distribuciones de datos"
   ]
  },
  {
   "cell_type": "markdown",
   "id": "e296c918-7726-413f-9eb5-5167d9b0b826",
   "metadata": {},
   "source": [
    "### Generación básica"
   ]
  },
  {
   "cell_type": "code",
   "execution_count": 3,
   "id": "28f5ee5c-99ab-4ae8-ab93-767d78005d65",
   "metadata": {},
   "outputs": [
    {
     "name": "stdout",
     "output_type": "stream",
     "text": [
      "22\n",
      "0.07873204023038549\n"
     ]
    }
   ],
   "source": [
    "from numpy import random\n",
    "\n",
    "x = random.randint(100) #números enteros\n",
    "\n",
    "print(x)\n",
    "\n",
    "y = random.rand() #números reales entre [0,1)\n",
    "\n",
    "print(y)"
   ]
  },
  {
   "cell_type": "markdown",
   "id": "d9340a32-2b56-4bc0-8c3b-1309d82e5c79",
   "metadata": {},
   "source": [
    "Esto no se reduce a números individuales, también podemos generar arrays hechos completamente de números pseudo aleatorios"
   ]
  },
  {
   "cell_type": "code",
   "execution_count": 7,
   "id": "e55c9104-9d3c-4650-9c69-caf5324e650d",
   "metadata": {},
   "outputs": [
    {
     "name": "stdout",
     "output_type": "stream",
     "text": [
      "[[[62 67]\n",
      "  [65 54]]\n",
      "\n",
      " [[35  0]\n",
      "  [37 40]]\n",
      "\n",
      " [[83  4]\n",
      "  [96 24]]]\n",
      "[[0.11307263]\n",
      " [0.35595645]\n",
      " [0.05414754]\n",
      " [0.31424416]\n",
      " [0.26648575]]\n"
     ]
    }
   ],
   "source": [
    "x_array = random.randint(100, size=(3,2,2))\n",
    "\n",
    "print(x_array)\n",
    "\n",
    "y_array = random.rand(5,1)\n",
    "print(y_array)"
   ]
  },
  {
   "cell_type": "markdown",
   "id": "43b05a33-3f21-4079-a0ac-4b8066546de4",
   "metadata": {},
   "source": [
    "O podemos dar una lista de opciones y numpy puede elegir aleatoriamente entre estas"
   ]
  },
  {
   "cell_type": "code",
   "execution_count": 12,
   "id": "b8e58fbc-b12c-443f-b03f-f0417177d248",
   "metadata": {},
   "outputs": [
    {
     "name": "stdout",
     "output_type": "stream",
     "text": [
      "9\n",
      "[2 5 3]\n",
      "[[7 1 1 1]\n",
      " [5 5 2 3]\n",
      " [2 1 1 2]\n",
      " [1 3 3 9]]\n"
     ]
    }
   ],
   "source": [
    "options = [1,2,3,5,7,9]\n",
    "\n",
    "x = random.choice(options)\n",
    "print(x)\n",
    "\n",
    "x_1d = random.choice(options, size=(3))\n",
    "print(x_1d)\n",
    "\n",
    "x_2d = random.choice(options, size=(4,4))\n",
    "print(x_2d)"
   ]
  },
  {
   "cell_type": "markdown",
   "id": "1ec9d3b8-ee2f-4ba8-802f-e0fab967dbb6",
   "metadata": {},
   "source": [
    "### Generación a partir de una distribución"
   ]
  },
  {
   "cell_type": "markdown",
   "id": "205f04de-3a8c-4024-937c-abce1aef7500",
   "metadata": {},
   "source": [
    "random permite generar números aleatorios con base en distribuciones de datos.\n",
    "\n",
    "ejemplo, usando de nuevo `choice`, podemos definir la probabilidad de que cada opción suceda, creando una distribución"
   ]
  },
  {
   "cell_type": "code",
   "execution_count": 24,
   "id": "78e88f74-1ea0-41e1-9c9a-449380f786c9",
   "metadata": {},
   "outputs": [
    {
     "name": "stdout",
     "output_type": "stream",
     "text": [
      "[5 1 1 9 7]\n"
     ]
    }
   ],
   "source": [
    "x_1d = random.choice(options, size=(5), p=[0.5, 0.1, 0.1, 0.1, 0.1, 0.1])\n",
    "\n",
    "print(x_1d)"
   ]
  },
  {
   "cell_type": "markdown",
   "id": "1435799e-8fc5-4162-8dbb-3a0896a23d88",
   "metadata": {},
   "source": [
    "Pero tenemos opciones de usar distribuciones ya definidas para la generación de muestras.\n",
    "\n",
    "el ejemplo principal de esto es la distribución normal"
   ]
  },
  {
   "cell_type": "code",
   "execution_count": 25,
   "id": "effe3fed-9601-4d4f-adff-ceed2831c23f",
   "metadata": {},
   "outputs": [
    {
     "name": "stdout",
     "output_type": "stream",
     "text": [
      "[[ 0.45568031 -0.063752   -1.39659907]\n",
      " [ 0.748212    0.39077214 -1.39508701]\n",
      " [ 1.78523321  2.32695164 -1.0935255 ]]\n"
     ]
    }
   ],
   "source": [
    "x = random.normal(size=(3,3))\n",
    "\n",
    "print(x)"
   ]
  },
  {
   "cell_type": "markdown",
   "id": "e0a14ad9-3621-4995-ad81-1f7744163e64",
   "metadata": {},
   "source": [
    "veamos el comportamiento de estas muestras a mayor detalle"
   ]
  },
  {
   "cell_type": "code",
   "execution_count": 37,
   "id": "f8f87e57-6885-4d1e-9bb8-56670736de6c",
   "metadata": {},
   "outputs": [
    {
     "data": {
      "text/plain": [
       "<AxesSubplot:ylabel='Count'>"
      ]
     },
     "execution_count": 37,
     "metadata": {},
     "output_type": "execute_result"
    },
    {
     "data": {
      "image/png": "[encoded data removed]",
      "text/plain": [
       "<Figure size 432x288 with 1 Axes>"
      ]
     },
     "metadata": {
      "needs_background": "light"
     },
     "output_type": "display_data"
    }
   ],
   "source": [
    "import seaborn as sns\n",
    "\n",
    "x = random.normal(size=1000)\n",
    "\n",
    "sns.histplot(x, kde=True)"
   ]
  },
  {
   "cell_type": "markdown",
   "id": "a85ee507-4309-498b-9671-b79643feead0",
   "metadata": {},
   "source": [
    "y podemos cambiar los parametros de las distribuciones para nuestras necesidades"
   ]
  },
  {
   "cell_type": "code",
   "execution_count": 38,
   "id": "c7b297d7-901f-4a82-bf2b-15fa9f2ace6f",
   "metadata": {},
   "outputs": [
    {
     "data": {
      "text/plain": [
       "<AxesSubplot:ylabel='Count'>"
      ]
     },
     "execution_count": 38,
     "metadata": {},
     "output_type": "execute_result"
    },
    {
     "data": {
      "image/png": "[encoded data removed]",
      "text/plain": [
       "<Figure size 432x288 with 1 Axes>"
      ]
     },
     "metadata": {
      "needs_background": "light"
     },
     "output_type": "display_data"
    }
   ],
   "source": [
    "y = random.normal(loc=1, scale=2, size=1000) #loc: media, scale: desviación estándar\n",
    "\n",
    "sns.histplot(y, kde=True)"
   ]
  },
  {
   "cell_type": "code",
   "execution_count": 39,
   "id": "2de34754-bdb4-4ecc-8e8e-832e7b1edcbf",
   "metadata": {},
   "outputs": [
    {
     "data": {
      "text/plain": [
       "<AxesSubplot:ylabel='Count'>"
      ]
     },
     "execution_count": 39,
     "metadata": {},
     "output_type": "execute_result"
    },
    {
     "data": {
      "image/png": "[encoded data removed]",
      "text/plain": [
       "<Figure size 432x288 with 1 Axes>"
      ]
     },
     "metadata": {
      "needs_background": "light"
     },
     "output_type": "display_data"
    }
   ],
   "source": [
    "y = random.normal(loc=0, scale=5, size=1000) #loc: media, scale: desviación estándar\n",
    "\n",
    "sns.histplot(y, kde=True)"
   ]
  }
 ],
 "metadata": {
  "kernelspec": {
   "display_name": "Python 3 (ipykernel)",
   "language": "python",
   "name": "python3"
  },
  "language_info": {
   "codemirror_mode": {
    "name": "ipython",
    "version": 3
   },
   "file_extension": ".py",
   "mimetype": "text/x-python",
   "name": "python",
   "nbconvert_exporter": "python",
   "pygments_lexer": "ipython3",
   "version": "3.10.5"
  },
  "vscode": {
   "interpreter": {
    "hash": "6e8a17df5fde925ed372ff6e56ad9fe068706fee6b0f2460442b395fc94eb3eb"
   }
  }
 },
 "nbformat": 4,
 "nbformat_minor": 5
}
