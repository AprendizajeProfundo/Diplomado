{
 "cells": [
  {
   "cell_type": "markdown",
   "id": "smaller-farmer",
   "metadata": {
    "tags": []
   },
   "source": [
    "# <span style=\"color:green\"><center>Diplomado en Inteligencia Artificial y Aprendizaje Profundo</center></span>"
   ]
  },
  {
   "cell_type": "markdown",
   "id": "caring-scanner",
   "metadata": {},
   "source": [
    "# <span style=\"color:red\"><center>Introducción a Tensores en TensorFlow</center></span>"
   ]
  },
  {
   "cell_type": "markdown",
   "id": "extra-worker",
   "metadata": {},
   "source": [
    "##   <span style=\"color:blue\">Profesores</span>"
   ]
  },
  {
   "cell_type": "markdown",
   "id": "computational-cologne",
   "metadata": {},
   "source": [
    "1. Alvaro Mauricio Montenegro Díaz, ammontenegrod@unal.edu.co\n",
    "2. Daniel Mauricio Montenegro Reyes, dextronomo@gmail.com \n",
    "3. Campo Elías Pardo Turriago, cepardot@unal.edu.co "
   ]
  },
  {
   "cell_type": "markdown",
   "id": "humanitarian-capitol",
   "metadata": {},
   "source": [
    "##   <span style=\"color:blue\">Asesora Medios y Marketing digital</span>\n",
    " "
   ]
  },
  {
   "cell_type": "markdown",
   "id": "flying-threshold",
   "metadata": {},
   "source": [
    "4. Maria del Pilar Montenegro, pmontenegro88@gmail.com "
   ]
  },
  {
   "cell_type": "markdown",
   "id": "patent-bermuda",
   "metadata": {},
   "source": [
    "## <span style=\"color:blue\">Asistentes</span>"
   ]
  },
  {
   "cell_type": "markdown",
   "id": "understood-petersburg",
   "metadata": {},
   "source": [
    "5. Oleg Jarma, ojarmam@unal.edu.co \n",
    "6. Laura Lizarazo, ljlizarazore@unal.edu.co\n",
    "7. Julieth López, julalopezcas@unal.edu.co"
   ]
  },
  {
   "cell_type": "markdown",
   "id": "announced-preview",
   "metadata": {
    "jp-MarkdownHeadingCollapsed": true,
    "tags": []
   },
   "source": [
    "## <span style=\"color:blue\">Contenido</span> \n",
    "\n",
    "* [Importar librerías](#Importar-librerías)\n",
    "* [Esenciales](#Esenciales)\n",
    "* [Algebra mínima de tensores](#Algebra-mínima-de-tensores)\n",
    "* [Funciones de Reducción](#Funciones-de-Reducción)\n",
    "* [Tipo, forma y dimensión](#Tipo,-forma-y-dimensión)\n",
    "* [Indexación](#Indexación)\n",
    "    * [Indexación en un solo eje](#Indexación-en-un-solo-eje)\n",
    "    * [Extracción de parte de un tensor: slices](#Extracción-de-parte-de-un-tensor:-slices)\n",
    "    * [Indexación multi-eje](#Indexación-multi-eje)\n",
    "* [Manipular formas](#Manipular-formas)\n",
    "    * [Aplana un tensor](#Aplana-un-tensor)\n",
    "    * [Definición Conversión de tipos. Cast](#Definición-Conversión-de-tipos.-Cast)\n",
    "* [Radiofusión (broadcasting)](#Radiofusión-(broadcasting))\n",
    "    * [tf.broadcast_to](#tf.broadcast-to)\n",
    "    * [tf.convert_to_tensor](#tf.convert-to-tensor)\n",
    "* [Tensores irregulares (ragged tensors)](#Tensores-irregulares-(ragged-tensors))\n",
    "* [Tensores de strings](#Tensores-de-strings)\n",
    "    * [string to number](#string-to-number)\n",
    "* [Tensores dispersos. SparseTensor](#Tensores-dispersos.-SparseTensor)"
   ]
  },
  {
   "cell_type": "markdown",
   "id": "preceding-vault",
   "metadata": {},
   "source": [
    "## <span style=\"color:blue\">Importar librerías</span> "
   ]
  },
  {
   "cell_type": "code",
   "execution_count": 43,
   "id": "upper-darwin",
   "metadata": {},
   "outputs": [],
   "source": [
    "import tensorflow as tf\n",
    "import numpy as np"
   ]
  },
  {
   "cell_type": "markdown",
   "id": "arranged-advertising",
   "metadata": {},
   "source": [
    "## <span style=\"color:blue\">Esenciales</span> "
   ]
  },
  {
   "cell_type": "code",
   "execution_count": 44,
   "id": "green-retro",
   "metadata": {},
   "outputs": [
    {
     "name": "stdout",
     "output_type": "stream",
     "text": [
      "tf.Tensor(4, shape=(), dtype=int32)\n"
     ]
    }
   ],
   "source": [
    "t0 = tf.constant(4)\n",
    "print(t0)"
   ]
  },
  {
   "cell_type": "code",
   "execution_count": 3,
   "id": "subtle-profile",
   "metadata": {},
   "outputs": [
    {
     "name": "stdout",
     "output_type": "stream",
     "text": [
      "tf.Tensor([1 3 4], shape=(3,), dtype=int32)\n"
     ]
    }
   ],
   "source": [
    "t1 = tf.constant([1, 3, 4])\n",
    "print(t1)"
   ]
  },
  {
   "cell_type": "code",
   "execution_count": 4,
   "id": "existing-assault",
   "metadata": {},
   "outputs": [
    {
     "name": "stdout",
     "output_type": "stream",
     "text": [
      "tf.Tensor(\n",
      "[[1 2 3]\n",
      " [4 5 6]], shape=(2, 3), dtype=int32)\n"
     ]
    }
   ],
   "source": [
    "t23 = tf.constant([[1, 2, 3],[4, 5, 6]])\n",
    "print(t23)"
   ]
  },
  {
   "cell_type": "code",
   "execution_count": 5,
   "id": "understood-threshold",
   "metadata": {},
   "outputs": [
    {
     "name": "stdout",
     "output_type": "stream",
     "text": [
      "tf.Tensor(\n",
      "[[[ 1  2  3  4  5]\n",
      "  [ 6  7  8  9 10]\n",
      "  [11 12 13 14 15]]\n",
      "\n",
      " [[16 17 18 19 20]\n",
      "  [21 22 23 24 25]\n",
      "  [26 27 28 29 30]]], shape=(2, 3, 5), dtype=int32)\n"
     ]
    }
   ],
   "source": [
    "t235 = tf.constant([[[1,2,3,4,5],[6,7,8,9,10],[11,12,13,14,15]],\n",
    "                    [[16,17,18,19,20],[21,22,23,24,25],[26,27,28,29,30]]])\n",
    "print(t235)"
   ]
  },
  {
   "cell_type": "code",
   "execution_count": 6,
   "id": "weekly-calendar",
   "metadata": {},
   "outputs": [
    {
     "data": {
      "text/plain": [
       "array([[[ 1,  2,  3,  4,  5],\n",
       "        [ 6,  7,  8,  9, 10],\n",
       "        [11, 12, 13, 14, 15]],\n",
       "\n",
       "       [[16, 17, 18, 19, 20],\n",
       "        [21, 22, 23, 24, 25],\n",
       "        [26, 27, 28, 29, 30]]], dtype=int32)"
      ]
     },
     "execution_count": 6,
     "metadata": {},
     "output_type": "execute_result"
    }
   ],
   "source": [
    "t235.numpy()"
   ]
  },
  {
   "cell_type": "code",
   "execution_count": 7,
   "id": "buried-majority",
   "metadata": {},
   "outputs": [
    {
     "data": {
      "text/plain": [
       "(2, 3, 5)"
      ]
     },
     "execution_count": 7,
     "metadata": {},
     "output_type": "execute_result"
    }
   ],
   "source": [
    "t235.numpy().shape"
   ]
  },
  {
   "cell_type": "code",
   "execution_count": 8,
   "id": "destroyed-tutorial",
   "metadata": {},
   "outputs": [
    {
     "data": {
      "text/plain": [
       "TensorShape([2, 3, 5])"
      ]
     },
     "execution_count": 8,
     "metadata": {},
     "output_type": "execute_result"
    }
   ],
   "source": [
    "t235.shape"
   ]
  },
  {
   "cell_type": "markdown",
   "id": "crucial-pottery",
   "metadata": {},
   "source": [
    "## <span style=\"color:blue\">Algebra mínima de tensores</span> "
   ]
  },
  {
   "cell_type": "code",
   "execution_count": 9,
   "id": "efficient-church",
   "metadata": {},
   "outputs": [
    {
     "name": "stdout",
     "output_type": "stream",
     "text": [
      "a = tf.Tensor(\n",
      "[[1 2]\n",
      " [3 4]], shape=(2, 2), dtype=int32) \n",
      "\n",
      "b = tf.Tensor(\n",
      "[[5 6]\n",
      " [7 8]], shape=(2, 2), dtype=int32) \n",
      "\n",
      "tf.add(a,b) = tf.Tensor(\n",
      "[[ 6  8]\n",
      " [10 12]], shape=(2, 2), dtype=int32) \n",
      "\n",
      "tf.multiply(a,b) = tf.Tensor(\n",
      "[[ 5 12]\n",
      " [21 32]], shape=(2, 2), dtype=int32) \n",
      "\n",
      "tf.matmul(a,b) = tf.Tensor(\n",
      "[[19 22]\n",
      " [43 50]], shape=(2, 2), dtype=int32) \n",
      "\n"
     ]
    }
   ],
   "source": [
    "a = tf.constant([[1,2],[3,4]])\n",
    "b = tf.constant([[5,6],[7,8]])\n",
    "\n",
    "print(\"a =\",a,\"\\n\")\n",
    "print(\"b =\",b,\"\\n\")\n",
    "print(\"tf.add(a,b) =\",tf.add(a,b),\"\\n\")\n",
    "print(\"tf.multiply(a,b) =\",tf.multiply(a,b),\"\\n\")\n",
    "print(\"tf.matmul(a,b) =\",tf.matmul(a,b),\"\\n\")"
   ]
  },
  {
   "cell_type": "code",
   "execution_count": 10,
   "id": "specialized-marshall",
   "metadata": {},
   "outputs": [
    {
     "name": "stdout",
     "output_type": "stream",
     "text": [
      "tf.Tensor(\n",
      "[[ 6  8]\n",
      " [10 12]], shape=(2, 2), dtype=int32) \n",
      "\n",
      "tf.Tensor(\n",
      "[[ 5 12]\n",
      " [21 32]], shape=(2, 2), dtype=int32) \n",
      "\n",
      "tf.Tensor(\n",
      "[[19 22]\n",
      " [43 50]], shape=(2, 2), dtype=int32) \n",
      "\n"
     ]
    }
   ],
   "source": [
    "print(a+b,\"\\n\") #suma\n",
    "print(a*b, \"\\n\") #multiplicación directa\n",
    "print(a@b, \"\\n\") #multiplicación matricial"
   ]
  },
  {
   "cell_type": "markdown",
   "id": "technological-national",
   "metadata": {},
   "source": [
    "## <span style=\"color:blue\">Funciones de Reducción</span> "
   ]
  },
  {
   "cell_type": "code",
   "execution_count": 11,
   "id": "refined-operation",
   "metadata": {},
   "outputs": [
    {
     "name": "stdout",
     "output_type": "stream",
     "text": [
      "tf.Tensor(\n",
      "[[ 4.  5.]\n",
      " [10.  1.]], shape=(2, 2), dtype=float32) \n",
      "\n",
      "maximo= tf.Tensor(10.0, shape=(), dtype=float32) \n",
      "\n",
      "minimo= tf.Tensor(1.0, shape=(), dtype=float32) \n",
      "\n",
      "mean= tf.Tensor(5.0, shape=(), dtype=float32) \n",
      "\n",
      "arg_max= tf.Tensor([1 0], shape=(2,), dtype=int64) \n",
      "\n",
      "soft_max= tf.Tensor(\n",
      "[[2.6894143e-01 7.3105860e-01]\n",
      " [9.9987662e-01 1.2339458e-04]], shape=(2, 2), dtype=float32) \n",
      "\n",
      "tf.Tensor([1. 1.], shape=(2,), dtype=float32) \n",
      "\n"
     ]
    }
   ],
   "source": [
    "c = tf.constant([[4.0, 5.0],[10.0,1.0]])\n",
    "\n",
    "print(c,\"\\n\")\n",
    "print(\"maximo=\",tf.reduce_max(c),\"\\n\")\n",
    "print(\"minimo=\",tf.reduce_min(c),\"\\n\")\n",
    "print(\"mean=\",tf.reduce_mean(c),\"\\n\")\n",
    "print(\"arg_max=\",tf.argmax(c),\"\\n\")\n",
    "print(\"soft_max=\",tf.nn.softmax(c),\"\\n\")\n",
    "print(tf.reduce_sum(tf.nn.softmax(c),axis=1),\"\\n\")"
   ]
  },
  {
   "cell_type": "markdown",
   "id": "pharmaceutical-northeast",
   "metadata": {},
   "source": [
    "## <span style=\"color:blue\">Tipo, forma y dimensión</span>"
   ]
  },
  {
   "cell_type": "code",
   "execution_count": 12,
   "id": "greater-memphis",
   "metadata": {},
   "outputs": [
    {
     "name": "stdout",
     "output_type": "stream",
     "text": [
      "<dtype: 'int32'> \n",
      "\n",
      "(3, 2, 5) \n",
      "\n",
      "5 \n",
      "\n",
      "3 \n",
      "\n",
      "tf.Tensor(30, shape=(), dtype=int32) \n",
      "\n"
     ]
    }
   ],
   "source": [
    "t = tf.constant([\n",
    "  [[0, 1, 2, 3, 4],\n",
    "   [5, 6, 7, 8, 9]],\n",
    "  [[10, 11, 12, 13, 14],\n",
    "   [15, 16, 17, 18, 19]],\n",
    "  [[20, 21, 22, 23, 24],\n",
    "   [25, 26, 27, 28, 29]],])\n",
    "print(t.dtype,\"\\n\")\n",
    "print(t.shape,\"\\n\")\n",
    "print(t.shape[2],\"\\n\")\n",
    "print(t.ndim,\"\\n\")\n",
    "print(tf.size(t.numpy()),\"\\n\") #porque se vuelve a poner .numpy()?"
   ]
  },
  {
   "cell_type": "markdown",
   "id": "french-johnson",
   "metadata": {},
   "source": [
    "## <span style=\"color:blue\">Indexación</span>"
   ]
  },
  {
   "cell_type": "markdown",
   "id": "diverse-grain",
   "metadata": {},
   "source": [
    "### Indexación en un solo eje"
   ]
  },
  {
   "cell_type": "markdown",
   "id": "square-reality",
   "metadata": {},
   "source": [
    "+ Los índices empiezam em cero.\n",
    "+ Los índices negativos cuentan hacia atrás desde el final.\n",
    "+ Los dos puntos (:) se utilizan para los cortes. inicio:final:salto"
   ]
  },
  {
   "cell_type": "code",
   "execution_count": 13,
   "id": "colonial-cincinnati",
   "metadata": {},
   "outputs": [
    {
     "name": "stdout",
     "output_type": "stream",
     "text": [
      "Primero:  tf.Tensor(0, shape=(), dtype=int32)\n",
      "Segundo:  tf.Tensor(1, shape=(), dtype=int32)\n",
      "Ultimo:  34\n"
     ]
    }
   ],
   "source": [
    "t1 =  tf.constant([0, 1, 1, 2, 3, 5, 8, 13, 21, 34])\n",
    "print(\"Primero: \", t1[0])\n",
    "print(\"Segundo: \", t1[1])\n",
    "print(\"Ultimo: \", t1[-1].numpy())"
   ]
  },
  {
   "cell_type": "markdown",
   "id": "fuzzy-franchise",
   "metadata": {},
   "source": [
    "### Extracción de parte de un tensor: slices"
   ]
  },
  {
   "cell_type": "code",
   "execution_count": 14,
   "id": "parliamentary-warrior",
   "metadata": {},
   "outputs": [
    {
     "name": "stdout",
     "output_type": "stream",
     "text": [
      "Todo [ 0  1  1  2  3  5  8 13 21 34]\n",
      "Antes la posición 4  [0 1 1 2]\n",
      "Desde la posición 4 hasta el final [ 3  5  8 13 21 34]\n",
      "Desde la posición 4 hasta la anterior a 7 [3 5 8]\n",
      "Todos los elementos en posición par  [ 0  1  3  8 21]\n",
      "Invertido todo el orden [34 21 13  8  5  3  2  1  1  0]\n"
     ]
    }
   ],
   "source": [
    "print('Todo', t1[:].numpy())\n",
    "print('Antes la posición 4 ', t1[:4].numpy())\n",
    "print('Desde la posición 4 hasta el final', t1[4:].numpy())\n",
    "print('Desde la posición 4 hasta la anterior a 7', t1[4:7].numpy())\n",
    "print('Todos los elementos en posición par ', t1[::2].numpy())\n",
    "print('Invertido todo el orden', t1[::-1].numpy())"
   ]
  },
  {
   "cell_type": "markdown",
   "id": "opposed-unemployment",
   "metadata": {},
   "source": [
    "### Indexación multi-eje"
   ]
  },
  {
   "cell_type": "code",
   "execution_count": 15,
   "id": "committed-programmer",
   "metadata": {},
   "outputs": [
    {
     "name": "stdout",
     "output_type": "stream",
     "text": [
      "[[1 2 3]\n",
      " [4 5 6]]\n"
     ]
    }
   ],
   "source": [
    "t23 = tf.constant([[1, 2, 3],[4, 5, 6]])\n",
    "print(t23.numpy())"
   ]
  },
  {
   "cell_type": "code",
   "execution_count": 16,
   "id": "english-protection",
   "metadata": {},
   "outputs": [
    {
     "name": "stdout",
     "output_type": "stream",
     "text": [
      "Posición 1,1 =  5\n",
      "Segunda fila:  [4 5 6]\n",
      "Segunda columna:  [2 5]\n",
      "Última columna:  [3 6]\n",
      "Primer elemento de la última columna:  3\n",
      "Saltarse la primera columna: \n",
      " [[2 3]\n",
      " [5 6]]\n"
     ]
    }
   ],
   "source": [
    "print('Posición 1,1 = ',t23[1,1].numpy())\n",
    "print('Segunda fila: ', t23[1,:].numpy())\n",
    "print('Segunda columna: ', t23[:,1].numpy())\n",
    "print('Última columna: ', t23[:,-1].numpy())\n",
    "print('Primer elemento de la última columna: ', t23[0,-1].numpy())\n",
    "print('Saltarse la primera columna: \\n', t23[:,1:].numpy())"
   ]
  },
  {
   "cell_type": "code",
   "execution_count": 17,
   "id": "expanded-poetry",
   "metadata": {},
   "outputs": [
    {
     "name": "stdout",
     "output_type": "stream",
     "text": [
      "[[[ 0.   1.   2.   3.   4.8]\n",
      "  [ 5.   6.   7.   8.   9. ]]\n",
      "\n",
      " [[10.  11.  12.  13.  14. ]\n",
      "  [15.  16.  17.  18.  19. ]]\n",
      "\n",
      " [[20.  21.  22.  23.  24. ]\n",
      "  [25.  26.  27.  28.  29. ]]]\n"
     ]
    }
   ],
   "source": [
    "t = tf.constant([    \n",
    "  [[0, 1, 2, 3, 4.8],\n",
    "   [5, 6, 7, 8, 9]],\n",
    "  [[10, 11, 12, 13, 14],\n",
    "   [15, 16, 17, 18, 19]],\n",
    "  [[20, 21, 22, 23, 24],\n",
    "   [25, 26, 27, 28, 29]],])  #flotantes\n",
    "print(t.numpy())"
   ]
  },
  {
   "cell_type": "code",
   "execution_count": 18,
   "id": "aging-tourist",
   "metadata": {},
   "outputs": [
    {
     "name": "stdout",
     "output_type": "stream",
     "text": [
      "Extrae la primera capa\n",
      " tf.Tensor(\n",
      "[[0.  1.  2.  3.  4.8]\n",
      " [5.  6.  7.  8.  9. ]], shape=(2, 5), dtype=float32) \n",
      "\n",
      "Extrae la segunda capa\n",
      " tf.Tensor(\n",
      "[[10. 11. 12. 13. 14.]\n",
      " [15. 16. 17. 18. 19.]], shape=(2, 5), dtype=float32)\n"
     ]
    }
   ],
   "source": [
    "print('Extrae la primera capa\\n', t[0,:,:],\"\\n\")\n",
    "print('Extrae la segunda capa\\n', t[1])"
   ]
  },
  {
   "cell_type": "markdown",
   "id": "three-bankruptcy",
   "metadata": {},
   "source": [
    "## <span style=\"color:blue\">Manipular formas</span>"
   ]
  },
  {
   "cell_type": "code",
   "execution_count": 19,
   "id": "productive-organization",
   "metadata": {},
   "outputs": [
    {
     "name": "stdout",
     "output_type": "stream",
     "text": [
      "(3, 1)\n",
      "[3, 1]\n"
     ]
    }
   ],
   "source": [
    "x = tf.constant([[1],[2],[3]])\n",
    "print(x.shape)\n",
    "print(x.shape.as_list())"
   ]
  },
  {
   "cell_type": "code",
   "execution_count": 20,
   "id": "protective-guinea",
   "metadata": {},
   "outputs": [
    {
     "name": "stdout",
     "output_type": "stream",
     "text": [
      "[[1 2 3]]\n",
      "[[1]\n",
      " [2]\n",
      " [3]]\n"
     ]
    }
   ],
   "source": [
    "reshaped = tf.reshape(x,[1,3])\n",
    "print(reshaped.numpy())\n",
    "print(x.numpy())"
   ]
  },
  {
   "cell_type": "markdown",
   "id": "infectious-investigator",
   "metadata": {},
   "source": [
    "Con *tf.reshape* los datos mantienen su disposición en la memoria y se crea un nuevo tensor, con la forma solicitada, apuntando a los mismos datos. TensorFlow usa un orden de memoria de \"fila principal\" de estilo C, donde incrementar el índice de la derecha corresponde a un solo paso en la memoria."
   ]
  },
  {
   "cell_type": "markdown",
   "id": "actual-pollution",
   "metadata": {},
   "source": [
    "![tensor before](../Imagenes/tensor_before.png)"
   ]
  },
  {
   "cell_type": "markdown",
   "id": "peaceful-purse",
   "metadata": {},
   "source": [
    "Tensor antes de reshape"
   ]
  },
  {
   "cell_type": "markdown",
   "id": "executive-simon",
   "metadata": {},
   "source": [
    "<img src=\"../Imagenes/tensor_after.png\" align=\"left\" width=\"40%\">\n",
    "<img src=\"../Imagenes/tensor_after2.png\" align=\"right\" width=\"30%\">"
   ]
  },
  {
   "cell_type": "markdown",
   "id": "genuine-siemens",
   "metadata": {},
   "source": [
    "Tensores despues de reshape"
   ]
  },
  {
   "cell_type": "markdown",
   "id": "overall-orchestra",
   "metadata": {},
   "source": [
    "### Aplana un tensor"
   ]
  },
  {
   "cell_type": "markdown",
   "id": "beautiful-investing",
   "metadata": {},
   "source": [
    "Esta operación permite ver el orden como están organizados los datos en memoria."
   ]
  },
  {
   "cell_type": "code",
   "execution_count": null,
   "id": "rolled-parker",
   "metadata": {},
   "outputs": [],
   "source": [
    "print(\"t actual: \\n\", t.numpy())\n",
    "flat = tf.reshape(t, [-1])\n",
    "print(\"\\n t aplanado: \\n\", flat.numpy())"
   ]
  },
  {
   "cell_type": "markdown",
   "id": "gorgeous-bikini",
   "metadata": {},
   "source": [
    "Normalmente, el único uso razonable de tf.reshape es combinar o dividir ejes adyacentes (o agregar / eliminar 1 s).\n",
    "\n",
    "Para este tensor de 2x3x5, remodelar a (2x3)x5 o 2x (3x5) son dos cosas razonables, ya que los cortes no se mezclan:\n"
   ]
  },
  {
   "cell_type": "code",
   "execution_count": null,
   "id": "another-zambia",
   "metadata": {},
   "outputs": [],
   "source": [
    "print(t.shape.as_list())"
   ]
  },
  {
   "cell_type": "code",
   "execution_count": null,
   "id": "seven-channel",
   "metadata": {},
   "outputs": [],
   "source": [
    "print(tf.reshape(t, [2*3,5]))"
   ]
  },
  {
   "cell_type": "code",
   "execution_count": null,
   "id": "considered-artist",
   "metadata": {},
   "outputs": [],
   "source": [
    "print(tf.reshape(t, [2,3*5]))"
   ]
  },
  {
   "cell_type": "markdown",
   "id": "sporting-rental",
   "metadata": {},
   "source": [
    "No es necesario definir todos tamaños en todas las dimensiones. veámos como rehacer los dos ejemplos ateriores, respecitivamente. El -1 le dice a tf que decida cuál es la dimensión correcta."
   ]
  },
  {
   "cell_type": "code",
   "execution_count": 25,
   "id": "coordinate-caution",
   "metadata": {},
   "outputs": [
    {
     "name": "stdout",
     "output_type": "stream",
     "text": [
      "tf.Tensor(\n",
      "[[ 0.   1.   2.   3.   4.8]\n",
      " [ 5.   6.   7.   8.   9. ]\n",
      " [10.  11.  12.  13.  14. ]\n",
      " [15.  16.  17.  18.  19. ]\n",
      " [20.  21.  22.  23.  24. ]\n",
      " [25.  26.  27.  28.  29. ]], shape=(6, 5), dtype=float32)\n"
     ]
    }
   ],
   "source": [
    "print(tf.reshape(t, [-1,5]))"
   ]
  },
  {
   "cell_type": "code",
   "execution_count": 26,
   "id": "arctic-algorithm",
   "metadata": {},
   "outputs": [
    {
     "name": "stdout",
     "output_type": "stream",
     "text": [
      "tf.Tensor(\n",
      "[[ 0.   1.   2.   3.   4.8  5.   6.   7.   8.   9. ]\n",
      " [10.  11.  12.  13.  14.  15.  16.  17.  18.  19. ]\n",
      " [20.  21.  22.  23.  24.  25.  26.  27.  28.  29. ]], shape=(3, 10), dtype=float32)\n"
     ]
    }
   ],
   "source": [
    "print(tf.reshape(t, [3,-1]))"
   ]
  },
  {
   "cell_type": "markdown",
   "id": "right-fitness",
   "metadata": {},
   "source": [
    "Aunque es posible hacer el siguiente reshape no tiene sentido, porque se pierde la integridad de la información. \n",
    "\n",
    "Asegúrese que entiende la razón."
   ]
  },
  {
   "cell_type": "code",
   "execution_count": 27,
   "id": "solid-composition",
   "metadata": {},
   "outputs": [
    {
     "name": "stdout",
     "output_type": "stream",
     "text": [
      "tf.Tensor(\n",
      "[[[ 0.   1.   2.   3.   4.8]\n",
      "  [ 5.   6.   7.   8.   9. ]]\n",
      "\n",
      " [[10.  11.  12.  13.  14. ]\n",
      "  [15.  16.  17.  18.  19. ]]\n",
      "\n",
      " [[20.  21.  22.  23.  24. ]\n",
      "  [25.  26.  27.  28.  29. ]]], shape=(3, 2, 5), dtype=float32)\n"
     ]
    }
   ],
   "source": [
    "print(tf.reshape(t, [3,2,5]))"
   ]
  },
  {
   "cell_type": "markdown",
   "id": "august-deviation",
   "metadata": {},
   "source": [
    "### Definición Conversión de tipos. Cast"
   ]
  },
  {
   "cell_type": "code",
   "execution_count": 28,
   "id": "three-township",
   "metadata": {},
   "outputs": [
    {
     "name": "stdout",
     "output_type": "stream",
     "text": [
      "tf.Tensor([2. 4. 6.], shape=(3,), dtype=float64)\n",
      "tf.Tensor([2. 4. 6.], shape=(3,), dtype=float16)\n",
      "tf.Tensor([2 4 6], shape=(3,), dtype=uint8)\n"
     ]
    }
   ],
   "source": [
    "f64_tensor = tf.constant([2.0, 4.0, 6.0], dtype = tf.float64)\n",
    "print(f64_tensor)\n",
    "\n",
    "f16_tensor = tf.cast(f64_tensor,dtype= tf.float16) #solo llega a 16 decimales\n",
    "print(f16_tensor)\n",
    "\n",
    "u8_tensor = tf.cast(f16_tensor, dtype = tf.uint8)\n",
    "print(u8_tensor)"
   ]
  },
  {
   "cell_type": "markdown",
   "id": "indirect-senior",
   "metadata": {},
   "source": [
    "## <span style=\"color:blue\">Radiofusión (broadcasting)</span>"
   ]
  },
  {
   "cell_type": "markdown",
   "id": "compound-psychology",
   "metadata": {},
   "source": [
    "La radiodifusión es un concepto tomado de la función equivalente en NumPy . En resumen, bajo ciertas condiciones, los tensores más pequeños se \"estiran\" automáticamente para adaptarse a tensores más grandes cuando se ejecutan operaciones combinadas en ellos.\n",
    "\n",
    "El caso más simple y común es cuando intenta multiplicar o agregar un tensor a un escalar. En ese caso, el escalar se transmite para que tenga la misma forma que el otro argumento."
   ]
  },
  {
   "cell_type": "code",
   "execution_count": 29,
   "id": "adapted-northern",
   "metadata": {},
   "outputs": [
    {
     "name": "stdout",
     "output_type": "stream",
     "text": [
      "tf.Tensor([2 4 6], shape=(3,), dtype=int32)\n",
      "tf.Tensor([2 4 6], shape=(3,), dtype=int32)\n",
      "tf.Tensor([2 4 6], shape=(3,), dtype=int32)\n"
     ]
    }
   ],
   "source": [
    "x = tf.constant([1, 2 ,3])\n",
    "y = tf.constant(2)\n",
    "z = tf.constant([2, 2 ,2])\n",
    "\n",
    "# el mismo resultado\n",
    "print(tf.multiply(x,2))\n",
    "print(x*y)\n",
    "print(x*z)"
   ]
  },
  {
   "cell_type": "code",
   "execution_count": 30,
   "id": "impressed-clinton",
   "metadata": {},
   "outputs": [
    {
     "name": "stdout",
     "output_type": "stream",
     "text": [
      "tf.Tensor(\n",
      "[[1]\n",
      " [2]\n",
      " [3]], shape=(3, 1), dtype=int32) \n",
      "\n",
      "tf.Tensor([1 2 3 4], shape=(4,), dtype=int32) \n",
      "\n"
     ]
    }
   ],
   "source": [
    "x = tf.reshape(x, [3,1])\n",
    "y = tf.range(1,5)\n",
    "print(x, \"\\n\")\n",
    "print(y, \"\\n\")"
   ]
  },
  {
   "cell_type": "code",
   "execution_count": 31,
   "id": "rational-polish",
   "metadata": {},
   "outputs": [
    {
     "name": "stdout",
     "output_type": "stream",
     "text": [
      "tf.Tensor(\n",
      "[[ 1  2  3  4]\n",
      " [ 2  4  6  8]\n",
      " [ 3  6  9 12]], shape=(3, 4), dtype=int32)\n"
     ]
    }
   ],
   "source": [
    "print(tf.multiply(x,y))"
   ]
  },
  {
   "cell_type": "markdown",
   "id": "stock-permission",
   "metadata": {},
   "source": [
    "Del mismo modo, los ejes con longitud 1 se pueden estirar para que coincidan con los otros argumentos. Ambos argumentos se pueden estirar en el mismo cálculo.\n",
    "\n",
    "En este caso, una matriz de 3x1 se multiplica por elementos por una matriz de 1x4 para producir una matriz de 3x4. Observe que el 1 inicial es opcional: la forma de y es [4]. En matemáticas esta multiplicación se conoce como producto externo."
   ]
  },
  {
   "cell_type": "markdown",
   "id": "bottom-thomas",
   "metadata": {},
   "source": [
    "### tf.broadcast_to"
   ]
  },
  {
   "cell_type": "code",
   "execution_count": 32,
   "id": "accessory-drunk",
   "metadata": {},
   "outputs": [
    {
     "name": "stdout",
     "output_type": "stream",
     "text": [
      "tf.Tensor(\n",
      "[[1 2 3]\n",
      " [1 2 3]\n",
      " [1 2 3]], shape=(3, 3), dtype=int32)\n"
     ]
    }
   ],
   "source": [
    "print(tf.broadcast_to([1,2,3], [3,3]))"
   ]
  },
  {
   "cell_type": "code",
   "execution_count": 33,
   "id": "2fd36e86-0e39-4336-a85d-9f28a0e1767f",
   "metadata": {},
   "outputs": [
    {
     "name": "stdout",
     "output_type": "stream",
     "text": [
      "tf.Tensor(\n",
      "[[1 1 1]\n",
      " [2 2 2]\n",
      " [3 3 3]], shape=(3, 3), dtype=int32)\n"
     ]
    }
   ],
   "source": [
    "print(tf.broadcast_to([[1],[2],[3]], [3,3]))"
   ]
  },
  {
   "cell_type": "markdown",
   "id": "molecular-genre",
   "metadata": {},
   "source": [
    "### tf.convert_to_tensor"
   ]
  },
  {
   "cell_type": "markdown",
   "id": "painful-batch",
   "metadata": {},
   "source": [
    "La mayoría de las operaciones, como *tf.matmul* y *tf.reshape* toman argumentos de la clase *tf.Tensor*. Sin embargo, notará que en el caso anterior, se aceptan objetos de Python con forma de tensores.\n",
    "\n",
    "La mayoría, pero no todas, las operaciones llaman a *tf.convert_to_tensor* con argumentos no tensoriales. Existe un registro de conversiones, y la mayoría de las clases de objetos como *ndarray* , *TensorShape* , de Python, y *tf.Variable* se convertirán todas automáticamente.\n",
    "\n"
   ]
  },
  {
   "cell_type": "markdown",
   "id": "similar-mouse",
   "metadata": {},
   "source": [
    "## <span style=\"color:blue\">Tensores irregulares (ragged tensors) </span>"
   ]
  },
  {
   "cell_type": "markdown",
   "id": "middle-instrument",
   "metadata": {},
   "source": [
    "Un tensor con números variables de elementos a lo largo de algún eje se llama \"irregular\". Utilice tf.ragged.RaggedTensor para datos irregulares.\n",
    "\n",
    "Por ejemplo, esto no se puede representar como un tensor regular:\n",
    "\n"
   ]
  },
  {
   "cell_type": "markdown",
   "id": "elementary-catholic",
   "metadata": {},
   "source": [
    "![ragged](../Imagenes/ragged.png)"
   ]
  },
  {
   "cell_type": "code",
   "execution_count": 34,
   "id": "lovely-classification",
   "metadata": {},
   "outputs": [],
   "source": [
    "ragged_list = [\n",
    "    [0, 1, 2, 3],\n",
    "    [4, 5],\n",
    "    [6, 7, 8],\n",
    "    [9]]"
   ]
  },
  {
   "cell_type": "code",
   "execution_count": 35,
   "id": "demographic-investment",
   "metadata": {},
   "outputs": [
    {
     "name": "stdout",
     "output_type": "stream",
     "text": [
      "ValueError: Can't convert non-rectangular Python sequence to Tensor.\n"
     ]
    }
   ],
   "source": [
    "try:\n",
    "    tensor = tf.constant(ragged_list)\n",
    "except Exception as e:\n",
    "     print(f\"{type(e).__name__}: {e}\")"
   ]
  },
  {
   "cell_type": "markdown",
   "id": "prescription-principal",
   "metadata": {},
   "source": [
    "En su lugar, cree un *tf.RaggedTensor* usando *tf.ragged.constant* :"
   ]
  },
  {
   "cell_type": "code",
   "execution_count": 36,
   "id": "urban-interview",
   "metadata": {},
   "outputs": [
    {
     "name": "stdout",
     "output_type": "stream",
     "text": [
      "(4, None)\n"
     ]
    }
   ],
   "source": [
    "ragged_t = tf.ragged.constant(ragged_list)\n",
    "\n",
    "print(ragged_t.shape)"
   ]
  },
  {
   "cell_type": "markdown",
   "id": "distant-richards",
   "metadata": {},
   "source": [
    "## <span style=\"color:blue\">Tensores de strings</span>"
   ]
  },
  {
   "cell_type": "code",
   "execution_count": 37,
   "id": "extensive-diving",
   "metadata": {},
   "outputs": [
    {
     "name": "stdout",
     "output_type": "stream",
     "text": [
      "tf.Tensor(b'Este tensor string', shape=(), dtype=string)\n"
     ]
    }
   ],
   "source": [
    "st = tf.constant(\"Este tensor string\")\n",
    "print(st)"
   ]
  },
  {
   "cell_type": "code",
   "execution_count": 38,
   "id": "innovative-woman",
   "metadata": {},
   "outputs": [
    {
     "name": "stdout",
     "output_type": "stream",
     "text": [
      "tf.Tensor([b'Este tensor string' b'Cadena 2' b'Cadena 3' b'\\xf0\\x9f\\xa5\\xb3'], shape=(4,), dtype=string)\n"
     ]
    }
   ],
   "source": [
    "st = tf.constant([\"Este tensor string\",\n",
    "                 \"Cadena 2\",\n",
    "                 \"Cadena 3\",\n",
    "                 \"🥳\"])\n",
    "print(st)"
   ]
  },
  {
   "cell_type": "markdown",
   "id": "7cf246a2-82d0-4565-94e1-6e775453e684",
   "metadata": {},
   "source": [
    "El prefijo b indica que el tipo (dtype)  tf.string no es unicode (estandar de codificación de caracteres)."
   ]
  },
  {
   "cell_type": "code",
   "execution_count": 39,
   "id": "possible-breakfast",
   "metadata": {},
   "outputs": [
    {
     "name": "stdout",
     "output_type": "stream",
     "text": [
      "<tf.RaggedTensor [[b'Este', b'tensor', b'string'], [b'Cadena', b'2'], [b'Cadena', b'3'], [b'\\xf0\\x9f\\xa5\\xb3']]>\n"
     ]
    }
   ],
   "source": [
    "print(tf.strings.split(st))"
   ]
  },
  {
   "cell_type": "code",
   "execution_count": 40,
   "id": "helpful-hindu",
   "metadata": {},
   "outputs": [
    {
     "name": "stdout",
     "output_type": "stream",
     "text": [
      "tf.Tensor([b'Este' b'tensor' b'string'], shape=(3,), dtype=string)\n",
      "tf.Tensor([b'Cadena' b'2'], shape=(2,), dtype=string)\n",
      "tf.Tensor([b'Cadena' b'3'], shape=(2,), dtype=string)\n",
      "tf.Tensor([b'\\xf0\\x9f\\xa5\\xb3'], shape=(1,), dtype=string)\n"
     ]
    }
   ],
   "source": [
    "st_split = tf.strings.split(st)\n",
    "for i in st_split:\n",
    "    print(i)"
   ]
  },
  {
   "cell_type": "markdown",
   "id": "df961e5f-8d7b-4ca0-a1ca-e4dd6a57a2f6",
   "metadata": {},
   "source": [
    "### String to number"
   ]
  },
  {
   "cell_type": "code",
   "execution_count": 41,
   "id": "maritime-blade",
   "metadata": {},
   "outputs": [
    {
     "name": "stdout",
     "output_type": "stream",
     "text": [
      "tf.Tensor([ 1.  10.  10.4], shape=(3,), dtype=float32)\n"
     ]
    }
   ],
   "source": [
    "st = tf.constant(\"1 10 10.4\")\n",
    "\n",
    "print(tf.strings.to_number(tf.strings.split(st, \" \")))"
   ]
  },
  {
   "cell_type": "markdown",
   "id": "official-girlfriend",
   "metadata": {},
   "source": [
    "## <span style=\"color:blue\">Tensores dispersos. SparseTensor</span>"
   ]
  },
  {
   "cell_type": "code",
   "execution_count": 42,
   "id": "standard-while",
   "metadata": {},
   "outputs": [
    {
     "name": "stdout",
     "output_type": "stream",
     "text": [
      "SparseTensor(indices=tf.Tensor(\n",
      "[[0 1]\n",
      " [1 2]], shape=(2, 2), dtype=int64), values=tf.Tensor([1 2], shape=(2,), dtype=int32), dense_shape=tf.Tensor([3 4], shape=(2,), dtype=int64)) \n",
      "\n",
      "tf.Tensor(\n",
      "[[0 1 0 0]\n",
      " [0 0 2 0]\n",
      " [0 0 0 0]], shape=(3, 4), dtype=int32)\n"
     ]
    }
   ],
   "source": [
    "# tensor disperso\n",
    "sparse_tensor = tf.sparse.SparseTensor(indices = [[0,1], [1,2]],\n",
    "                                       values = [1,2],\n",
    "                                       dense_shape =[3,4])\n",
    "print(sparse_tensor, \"\\n\")\n",
    "\n",
    "# convierte a tensor denso\n",
    "print(tf.sparse.to_dense(sparse_tensor))"
   ]
  },
  {
   "cell_type": "code",
   "execution_count": null,
   "id": "announced-newport",
   "metadata": {},
   "outputs": [],
   "source": []
  }
 ],
 "metadata": {
  "kernelspec": {
   "display_name": "Python 3 (ipykernel)",
   "language": "python",
   "name": "python3"
  },
  "language_info": {
   "codemirror_mode": {
    "name": "ipython",
    "version": 3
   },
   "file_extension": ".py",
   "mimetype": "text/x-python",
   "name": "python",
   "nbconvert_exporter": "python",
   "pygments_lexer": "ipython3",
   "version": "3.9.7"
  }
 },
 "nbformat": 4,
 "nbformat_minor": 5
}
