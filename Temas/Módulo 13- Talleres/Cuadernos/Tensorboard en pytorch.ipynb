{
 "cells": [
  {
   "cell_type": "markdown",
   "id": "fa6e2544-2ec6-4b4c-9b57-d4b55c8eb58d",
   "metadata": {},
   "source": [
    "# <span style=\"color:green\"><center>Diplomado en Inteligencia Artificial y Aprendizaje Profundo</center></span>"
   ]
  },
  {
   "cell_type": "markdown",
   "id": "01148072-db9a-415f-8e5a-58938ea828f2",
   "metadata": {},
   "source": [
    "# <span style=\"color:red\"><center>Tensorborad en Pytorch</center></span>"
   ]
  },
  {
   "cell_type": "markdown",
   "id": "4050a3c3-792b-44f4-9802-4fde6ea36585",
   "metadata": {},
   "source": [
    "##   Profesores\n",
    "\n",
    "1. Alvaro Mauricio Montenegro Díaz, ammontenegrod@unal.edu.co\n",
    "2. Daniel Mauricio Montenegro Reyes, dextronomo@gmail.com \n",
    "3. Campo Elías Pardo Turriago, cepardot@unal.edu.co "
   ]
  },
  {
   "cell_type": "markdown",
   "id": "2fd9c28d-76c0-4b53-b951-8272a5e847bd",
   "metadata": {},
   "source": [
    "## Asistentes\n",
    "\n",
    "5. Oleg Jarma, ojarmam@unal.edu.co \n",
    "6. Laura Lizarazo, ljlizarazore@unal.edu.co\n",
    "7. Julieth López, julalopezcas@unal.edu.co"
   ]
  },
  {
   "cell_type": "markdown",
   "id": "d2cd4dd0-1e67-40f1-9a34-6752ebe5a152",
   "metadata": {},
   "source": [
    "## Contenido\n",
    "\n",
    "* [¿Qué es Tensorborad?]()\n",
    "    * [Tablero de tensorBoard]()\n",
    "* [Requerimientos]()\n",
    "* [Instalación y carga]()\n",
    "* [Ejemplo]()\n",
    "    * [Modelo]()\n",
    "    * [Graficando imaganes con TensorBoard]()\n",
    "    * [Inspeción del modelo usando TensorBoard]()\n",
    "    * [Agregando la pesataña \"proyector\" a Tensorboard]()\n",
    "    * [Rastreo del entrenamiento del modelo con TensorBoard]()\n",
    "* [Referencias]()"
   ]
  },
  {
   "cell_type": "markdown",
   "id": "6061157c",
   "metadata": {},
   "source": [
    "# ¿Qué es Tensorborad?\n",
    "\n",
    "Para ver lo que está sucediendo durante el entrenamiento de un modelo es posible imprimir algunas estadísticas a medida que el modelo se está entrenando para tener un de su progreso. Sin embargo, se puede hacer mucho mejor ya que PyTorch se integra con Tensorboard, una herramienta diseñada para visualizar los resultados de las carreras de entrenamiento de red neuronal. Este tutorial ilustra parte de su funcionalidad, utilizando el conjunto de datos de Mnist que se puede leer en Pytorch usando `TorchVision.Datasets`. Algunas de las pestañas del tablero de Tensorboard se describen a continuación."
   ]
  },
  {
   "cell_type": "markdown",
   "id": "b2975648",
   "metadata": {},
   "source": [
    "## Tablero de tensorBoard\n",
    "\n",
    "- **Scalars**: Muestra los cambios en la perdida y métricas cobre las epocas. Tambien puede usarse para rastrear otros valores escalares como la taza de aprendizaje y la velocidad de entrenamiento.\n",
    "- **Images**: Tiene imagenes que muestran los pesos. Parandose con sobre una epoca especifica se pueden ver los pesos del modelo en esa epoca.\n",
    "- **Graphs**: Muestra las capas del modelo. Se puede utilizar para revisar si la arquitectura del modelo es la que se pretende.\n",
    "- **Distributions**: Muestra la distribución de los tensores. Por ejemplo, se puede ver la distribucion de los pesos y sesgos sobre cada epoca en una capa específica.\n",
    "- **Histograms**: Muestra la distribución de los tensores sobre el tiempo, sobre cada epoca.\n",
    "- **Projector**: Se puede utilizar para visualizar la representación de cada vector, por ejemplo, word embeddings (la representación numérica de las palabras que captura su relación semantica) y imágenes."
   ]
  },
  {
   "cell_type": "markdown",
   "id": "ec7a8da5-e7e8-4a88-9cb1-9490f5860694",
   "metadata": {},
   "source": [
    "# Requerimientos"
   ]
  },
  {
   "cell_type": "code",
   "execution_count": 1,
   "id": "52ec4cf0",
   "metadata": {},
   "outputs": [],
   "source": [
    "# imports\n",
    "import matplotlib.pyplot as plt\n",
    "import numpy as np\n",
    "\n",
    "import torch\n",
    "import torchvision\n",
    "import torchvision.transforms as transforms\n",
    "\n",
    "from torch.utils.tensorboard import SummaryWriter\n",
    "import torch.nn as nn\n",
    "import torch.nn.functional as F\n",
    "import torch.optim as optim"
   ]
  },
  {
   "cell_type": "markdown",
   "id": "d3c054d3",
   "metadata": {},
   "source": [
    "# Instalación y carga\n",
    "\n",
    "Se puede utlizar ´pip´ o ´conda´ para la **instalación**, observe los siguientes comandos:\n",
    "\n",
    "`pip install torch torchvision`\n",
    "\n",
    "`conda install pytorch torchvision -c pytorch`"
   ]
  },
  {
   "cell_type": "markdown",
   "id": "89b7e47c",
   "metadata": {},
   "source": [
    "Se puede **cargar** Tensorboard utilizando Jupyter notebook, Jupyter lab o Google Colab."
   ]
  },
  {
   "cell_type": "code",
   "execution_count": 2,
   "id": "f9cf78bb",
   "metadata": {},
   "outputs": [],
   "source": [
    "%load_ext tensorboard"
   ]
  },
  {
   "cell_type": "markdown",
   "id": "08237148",
   "metadata": {
    "tags": []
   },
   "source": [
    "Tensorboard genera unos archivos \"logs\" o \"registros\" del codigo que se ejecuta y que deben ser guaradados."
   ]
  },
  {
   "cell_type": "code",
   "execution_count": 3,
   "id": "6a9bd48f",
   "metadata": {},
   "outputs": [],
   "source": [
    "log_folder = 'logs_pytorch1'"
   ]
  },
  {
   "cell_type": "markdown",
   "id": "edc912ab",
   "metadata": {},
   "source": [
    "En caso de querer recargar la extensión se puede utilizar el siguiente código."
   ]
  },
  {
   "cell_type": "code",
   "execution_count": 4,
   "id": "a7f393d7",
   "metadata": {},
   "outputs": [],
   "source": [
    "%reload_ext tensorboard"
   ]
  },
  {
   "cell_type": "markdown",
   "id": "184d29a2",
   "metadata": {},
   "source": [
    "Para limpiar los `logs` y dejar libre el folder se pueden correr los siguientes comandos:\n",
    "\n",
    "- Para linux: `rm -rf logs`\n",
    "- Para colab: `!rm -rf /logs/`\n",
    "- Para windows utilizar ambos:\n",
    "    - `!taskkill /f /t /im tensorboard.exe`\n",
    "    - `!del /a /s /q /f logs`"
   ]
  },
  {
   "cell_type": "code",
   "execution_count": 5,
   "id": "939a17e5-04cb-4212-b901-98f741a3bf69",
   "metadata": {},
   "outputs": [
    {
     "name": "stderr",
     "output_type": "stream",
     "text": [
      "ERROR: no se encontr¢ el proceso \"tensorboard.exe\".\n",
      "No se pudo encontrar C:\\Users\\JULIETH LOPEZ\\Documents\\Diplomado_IA_AP\\logs_pytorch1\n"
     ]
    }
   ],
   "source": [
    "# Clear out any prior log data.\n",
    "!taskkill /f /t /im tensorboard.exe\n",
    "!del /a /s /q /f {log_folder}"
   ]
  },
  {
   "cell_type": "markdown",
   "id": "e5ec67eb",
   "metadata": {},
   "source": [
    "# Ejemplo\n",
    "\n",
    "Usaremos TensorBoard para visualizar las metricas de un modelo. Construiremos para ello un modelo sencillo de clasificación de imágenes. Inicialmente las salidas de la base de datos de torchvision son imagenes en un rango de [0, 1], así que las transformamos en tensores normalizados con un rango de [-1, 1]."
   ]
  },
  {
   "cell_type": "code",
   "execution_count": 6,
   "id": "1f9ee849",
   "metadata": {},
   "outputs": [],
   "source": [
    "# transformación\n",
    "transform = transforms.Compose(\n",
    "    [transforms.ToTensor(),\n",
    "    transforms.Normalize((0.5,), (0.5,))])\n",
    "\n",
    "# datos\n",
    "trainset = torchvision.datasets.MNIST('./data',\n",
    "    download=True,\n",
    "    train=True,\n",
    "    transform=transform)\n",
    "testset = torchvision.datasets.MNIST('./data',\n",
    "    download=True,\n",
    "    train=False,\n",
    "    transform=transform)\n",
    "\n",
    "# dataloaders\n",
    "trainloader = torch.utils.data.DataLoader(trainset, batch_size=4,\n",
    "                                        shuffle=True, num_workers=2)\n",
    "\n",
    "\n",
    "testloader = torch.utils.data.DataLoader(testset, batch_size=4,\n",
    "                                        shuffle=False, num_workers=2)\n",
    "\n",
    "# Clases\n",
    "classes = ('Zero','One','Two','Three','Four','Five','Six','Seven','Eight','Nine')\n",
    "\n",
    "# Función auxiliar para mostrar una imagen (utilizado en la función `plot_classes_preds`)\n",
    "def matplotlib_imshow(img, one_channel=False):\n",
    "    if one_channel:\n",
    "        img = img.mean(dim=0)\n",
    "    img = img / 2 + 0.5     # unnormalize\n",
    "    npimg = img.numpy()\n",
    "    if one_channel:\n",
    "        plt.imshow(npimg, cmap=\"Greys\")\n",
    "    else:\n",
    "        plt.imshow(np.transpose(npimg, (1, 2, 0)))"
   ]
  },
  {
   "cell_type": "markdown",
   "id": "5682cbe0",
   "metadata": {},
   "source": [
    "## Modelo\n",
    "\n",
    "Definiremos una arquitectura simple, debemos tener en cuenta que las imágenes son de un canal, no de tres y son de tamaño 28x28:"
   ]
  },
  {
   "cell_type": "code",
   "execution_count": 7,
   "id": "c268ee7e",
   "metadata": {},
   "outputs": [],
   "source": [
    "class Net(nn.Module):\n",
    "    def __init__(self):\n",
    "        super(Net, self).__init__()\n",
    "        self.conv1 = nn.Conv2d(1, 6, 5)\n",
    "        self.pool = nn.MaxPool2d(2, 2)\n",
    "        self.conv2 = nn.Conv2d(6, 16, 5)\n",
    "        self.fc1 = nn.Linear(16 * 4 * 4, 120)\n",
    "        self.fc2 = nn.Linear(120, 84)\n",
    "        self.fc3 = nn.Linear(84, 10)\n",
    "\n",
    "    def forward(self, x):\n",
    "        x = self.pool(F.relu(self.conv1(x)))\n",
    "        x = self.pool(F.relu(self.conv2(x)))\n",
    "        x = x.view(-1, 16 * 4 * 4)\n",
    "        x = F.relu(self.fc1(x))\n",
    "        x = F.relu(self.fc2(x))\n",
    "        x = self.fc3(x)\n",
    "        return x\n",
    "\n",
    "\n",
    "net = Net()"
   ]
  },
  {
   "cell_type": "markdown",
   "id": "631cd074",
   "metadata": {},
   "source": [
    "Definimos el  optimizador y el criterio:"
   ]
  },
  {
   "cell_type": "code",
   "execution_count": 8,
   "id": "d9f4a256",
   "metadata": {},
   "outputs": [],
   "source": [
    "criterion = nn.CrossEntropyLoss()\n",
    "optimizer = optim.SGD(net.parameters(), lr=0.001, momentum=0.9)"
   ]
  },
  {
   "cell_type": "markdown",
   "id": "2322ce4d",
   "metadata": {},
   "source": [
    "Antes de correr el modelo se debe crear una instancis de `SummaryWriter`."
   ]
  },
  {
   "cell_type": "code",
   "execution_count": 9,
   "id": "5bd85e4f",
   "metadata": {},
   "outputs": [],
   "source": [
    "writer = SummaryWriter(log_dir=log_folder)"
   ]
  },
  {
   "cell_type": "markdown",
   "id": "567d8c1d",
   "metadata": {},
   "source": [
    "## Graficando imagenes con TensorBoard\n",
    "\n",
    "Ahora vamos a escribir imagenes en Tensorboard, específicamente, una cuadrícula, usando `Make_Grid`."
   ]
  },
  {
   "cell_type": "code",
   "execution_count": 10,
   "id": "32779b2a",
   "metadata": {},
   "outputs": [
    {
     "data": {
      "image/png": "[encoded data removed]",
      "text/plain": [
       "<Figure size 432x288 with 1 Axes>"
      ]
     },
     "metadata": {
      "needs_background": "light"
     },
     "output_type": "display_data"
    }
   ],
   "source": [
    "# Imágenes aleatoria de entrenamiento\n",
    "dataiter = iter(trainloader)\n",
    "images, labels = dataiter.next()\n",
    "\n",
    "# Grilla de imagenes\n",
    "img_grid = torchvision.utils.make_grid(images)\n",
    "\n",
    "# Mostrar imágenes\n",
    "matplotlib_imshow(img_grid, one_channel=True)\n",
    "\n",
    "# Escribir en Tensorboard\n",
    "writer.add_image('four_fashion_mnist_images', img_grid)"
   ]
  },
  {
   "cell_type": "markdown",
   "id": "75852b82",
   "metadata": {},
   "source": [
    "## Inspeción del modelo usando TensorBoard\n",
    "\n",
    "Una de las fortalezas de Tensorboard es su capacidad para visualizar estructuras modelo complejas. Visitemos el modelo que construimos."
   ]
  },
  {
   "cell_type": "code",
   "execution_count": 11,
   "id": "196cd444",
   "metadata": {},
   "outputs": [],
   "source": [
    "writer.add_graph(net, images)\n",
    "writer.close()"
   ]
  },
  {
   "cell_type": "markdown",
   "id": "ba05c801",
   "metadata": {},
   "source": [
    "## Agregando la pesataña \"proyector\" a Tensorboard\n",
    "\n",
    "Podemos visualizar la representación dimensional inferior de datos dimensionales más altos a través del método `Add_Medding`."
   ]
  },
  {
   "cell_type": "code",
   "execution_count": 12,
   "id": "ba1ffbff",
   "metadata": {},
   "outputs": [],
   "source": [
    "# helper function\n",
    "def select_n_random(data, labels, n=100):\n",
    "    '''\n",
    "    Selects n random datapoints and their corresponding labels from a dataset\n",
    "    '''\n",
    "    assert len(data) == len(labels)\n",
    "\n",
    "    perm = torch.randperm(len(data))\n",
    "    return data[perm][:n], labels[perm][:n]\n",
    "\n",
    "# selección de imágenes aleatorias y sus etiquetas\n",
    "images, labels = select_n_random(trainset.data, trainset.targets)\n",
    "\n",
    "# obtener las etiquetas de la clase para cada imagen\n",
    "class_labels = [classes[lab] for lab in labels]\n",
    "\n",
    "# log embeddings\n",
    "features = images.view(-1, 28 * 28)\n",
    "writer.add_embedding(features,\n",
    "                    metadata=class_labels,\n",
    "                    label_img=images.unsqueeze(1))\n",
    "writer.close()"
   ]
  },
  {
   "cell_type": "markdown",
   "id": "b6f2aed3",
   "metadata": {},
   "source": [
    "En la pestaña **Projector** se pueden ver las 100 imágenes (de dimensión 784) proyectadas en un espacio de 3 dimensiones. Además, es intecractvo, se puede girar la proyección."
   ]
  },
  {
   "cell_type": "markdown",
   "id": "144143ff",
   "metadata": {},
   "source": [
    "## Rastreo del entrenamiento del modelo con TensorBoard\n",
    "\n",
    "Esta herramienta puede servir para realizar una evaluación más clara del modelo y como evoluciona durante el entrenamiento. Registraremos la pérdida de ejecución en Tensorboard, junto con una vista a las predicciones."
   ]
  },
  {
   "cell_type": "code",
   "execution_count": 13,
   "id": "7d34fdca",
   "metadata": {},
   "outputs": [],
   "source": [
    "def images_to_probs(net, images):\n",
    "    '''\n",
    "    Generates predictions and corresponding probabilities from a trained\n",
    "    network and a list of images\n",
    "    '''\n",
    "    output = net(images)\n",
    "    # convert output probabilities to predicted class\n",
    "    _, preds_tensor = torch.max(output, 1)\n",
    "    preds = np.squeeze(preds_tensor.numpy())\n",
    "    return preds, [F.softmax(el, dim=0)[i].item() for i, el in zip(preds, output)]\n",
    "\n",
    "def plot_classes_preds(net, images, labels):\n",
    "    '''\n",
    "    Generates matplotlib Figure using a trained network, along with images\n",
    "    and labels from a batch, that shows the network's top prediction along\n",
    "    with its probability, alongside the actual label, coloring this\n",
    "    information based on whether the prediction was correct or not.\n",
    "    Uses the \"images_to_probs\" function.\n",
    "    '''\n",
    "    preds, probs = images_to_probs(net, images)\n",
    "    # plot the images in the batch, along with predicted and true labels\n",
    "    fig = plt.figure(figsize=(12, 3))\n",
    "    for idx in np.arange(4):\n",
    "        ax = fig.add_subplot(1, 4, idx+1, xticks=[], yticks=[])\n",
    "        matplotlib_imshow(images[idx], one_channel=True)\n",
    "        ax.set_title(\"{0}, {1:.1f}%\\n(label: {2})\".format(\n",
    "            classes[preds[idx]],\n",
    "            probs[idx] * 100.0,\n",
    "            classes[labels[idx]]),\n",
    "                    color=(\"green\" if preds[idx]==labels[idx].item() else \"red\"))\n",
    "    return fig"
   ]
  },
  {
   "cell_type": "markdown",
   "id": "e1474021",
   "metadata": {},
   "source": [
    "Finalmente, entrenemos el modelo, pero escribamos los resultados en Tensorboard cada 1000 lotes,esto se hace utilizando la función `Add_Scalar`. Además, a medida que entrenamos, generaremos una imagen que muestra las predicciones del modelo contra los resultados reales en las cuatro imágenes incluidas en ese lote."
   ]
  },
  {
   "cell_type": "code",
   "execution_count": 14,
   "id": "38969db2",
   "metadata": {},
   "outputs": [
    {
     "name": "stdout",
     "output_type": "stream",
     "text": [
      "Finished Training\n"
     ]
    }
   ],
   "source": [
    "running_loss = 0.0\n",
    "for epoch in range(3):  # loop over the dataset multiple times\n",
    "\n",
    "    for i, data in enumerate(trainloader, 0):\n",
    "\n",
    "        # get the inputs; data is a list of [inputs, labels]\n",
    "        inputs, labels = data\n",
    "\n",
    "        # zero the parameter gradients\n",
    "        optimizer.zero_grad()\n",
    "\n",
    "        # forward + backward + optimize\n",
    "        outputs = net(inputs)\n",
    "        loss = criterion(outputs, labels)\n",
    "        loss.backward()\n",
    "        optimizer.step()\n",
    "\n",
    "        running_loss += loss.item()\n",
    "        if i % 1000 == 999:    # every 1000 mini-batches...\n",
    "\n",
    "            # ...log the running loss\n",
    "            writer.add_scalar('training loss',\n",
    "                            running_loss / 1000,\n",
    "                            epoch * len(trainloader) + i)\n",
    "\n",
    "            # ...log a Matplotlib Figure showing the model's predictions on a\n",
    "            # random mini-batch\n",
    "            writer.add_figure('predictions vs. actuals',\n",
    "                            plot_classes_preds(net, inputs, labels),\n",
    "                            global_step=epoch * len(trainloader) + i)\n",
    "            running_loss = 0.0\n",
    "print('Finished Training')"
   ]
  },
  {
   "cell_type": "markdown",
   "id": "5cab6e6f",
   "metadata": {},
   "source": [
    "Ahora se puede ver la pestaña *Scalars* para ver la pérdida de ejecución sobre las 15.000 iteraciones de capacitación:"
   ]
  },
  {
   "cell_type": "code",
   "execution_count": 15,
   "id": "7e412dc5-81f1-42f7-a1aa-ccec03a8051d",
   "metadata": {},
   "outputs": [
    {
     "data": {
      "text/html": [
       "\n",
       "      <iframe id=\"tensorboard-frame-e2d3e22ffddd5655\" width=\"100%\" height=\"800\" frameborder=\"0\">\n",
       "      </iframe>\n",
       "      <script>\n",
       "        (function() {\n",
       "          const frame = document.getElementById(\"tensorboard-frame-e2d3e22ffddd5655\");\n",
       "          const url = new URL(\"/\", window.location);\n",
       "          const port = 6006;\n",
       "          if (port) {\n",
       "            url.port = port;\n",
       "          }\n",
       "          frame.src = url;\n",
       "        })();\n",
       "      </script>\n",
       "    "
      ],
      "text/plain": [
       "<IPython.core.display.HTML object>"
      ]
     },
     "metadata": {},
     "output_type": "display_data"
    }
   ],
   "source": [
    "%tensorboard --logdir={log_folder}"
   ]
  },
  {
   "cell_type": "markdown",
   "id": "af8c105d",
   "metadata": {},
   "source": [
    "Además, podemos ver las predicciones del modelo realizado en lotes arbitrarios durante el aprendizaje. En la pestaña \"Imágenes\" se puede ver la visualización de \"predicciones vs. reales\"."
   ]
  },
  {
   "cell_type": "markdown",
   "id": "00a0edf2",
   "metadata": {},
   "source": [
    "# Referencias\n",
    "* [Visualizing Models, Data, and Training with TensorBoard](https://pytorch.org/tutorials/intermediate/tensorboard_tutorial.html)\n",
    "* [How to use TensorBoard with PyTorch](https://pytorch.org/tutorials/recipes/recipes/tensorboard_with_pytorch.html)\n",
    "* [Torch.utils.tensorboard](https://pytorch.org/docs/stable/tensorboard.html)"
   ]
  },
  {
   "cell_type": "code",
   "execution_count": null,
   "id": "d04e4762",
   "metadata": {},
   "outputs": [],
   "source": []
  }
 ],
 "metadata": {
  "kernelspec": {
   "display_name": "Python 3 (ipykernel)",
   "language": "python",
   "name": "python3"
  },
  "language_info": {
   "codemirror_mode": {
    "name": "ipython",
    "version": 3
   },
   "file_extension": ".py",
   "mimetype": "text/x-python",
   "name": "python",
   "nbconvert_exporter": "python",
   "pygments_lexer": "ipython3",
   "version": "3.8.12"
  }
 },
 "nbformat": 4,
 "nbformat_minor": 5
}
