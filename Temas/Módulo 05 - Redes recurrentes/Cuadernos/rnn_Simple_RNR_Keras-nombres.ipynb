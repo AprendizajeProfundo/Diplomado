{
 "cells": [
  {
   "cell_type": "markdown",
   "metadata": {
    "tags": []
   },
   "source": [
    "# <span style=\"color:green\"><center>Diplomado en Inteligencia Artificial y Aprendizaje Profundo</center></span>"
   ]
  },
  {
   "cell_type": "markdown",
   "metadata": {},
   "source": [
    "# <span style=\"color:red\"><center>Redes Recurrentes Simples en Keras</center></span>"
   ]
  },
  {
   "cell_type": "markdown",
   "metadata": {},
   "source": [
    "##   <span style=\"color:blue\">Profesores</span>"
   ]
  },
  {
   "cell_type": "markdown",
   "metadata": {},
   "source": [
    "1. Alvaro Mauricio Montenegro Díaz, ammontenegrod@unal.edu.co\n",
    "2. Daniel Mauricio Montenegro Reyes, dextronomo@gmail.com \n",
    "3. Campo Elías Pardo Turriago, cepardot@unal.edu.co "
   ]
  },
  {
   "cell_type": "markdown",
   "metadata": {},
   "source": [
    "##   <span style=\"color:blue\">Asesora Medios y Marketing digital</span>\n",
    " "
   ]
  },
  {
   "cell_type": "markdown",
   "metadata": {},
   "source": [
    "4. Maria del Pilar Montenegro, pmontenegro88@gmail.com "
   ]
  },
  {
   "cell_type": "markdown",
   "metadata": {},
   "source": [
    "## <span style=\"color:blue\">Asistentes</span>"
   ]
  },
  {
   "cell_type": "markdown",
   "metadata": {},
   "source": [
    "5. Oleg Jarma, ojarmam@unal.edu.co \n",
    "6. Laura Lizarazo, ljlizarazore@unal.edu.co "
   ]
  },
  {
   "cell_type": "markdown",
   "metadata": {},
   "source": [
    "## <span style=\"color:blue\">Referencias</span>"
   ]
  },
  {
   "cell_type": "markdown",
   "metadata": {},
   "source": [
    "1. Adapatado parcialmente de [Miguel Sotaquirá](https://www.youtube.com/watch?v=aA9QaPu_QpA)\n",
    "2. Ralf C. Staudemeyer and Eric Rothstein Morris, [Understanding LSTM a tutorial into Long Short-Term Memory Recurrent Neural Networks*, arxiv, September 2019](https://arxiv.org/pdf/1909.09586.pdf)\n",
    "3. Karpathy, [The Unreasonable Effectiveness of Recurrent Neural Networks](http://karpathy.github.io/2015/05/21/rnn-effectiveness/)\n",
    "4. [Time Series Forecasting with LSTMs using TensorFlow 2 and Keras in Python](https://towardsdatascience.com/time-series-forecasting-with-lstms-using-tensorflow-2-and-keras-in-python-6ceee9c6c651/)\n",
    "5. [Dive into Deep Learnig](https://d2l.ai/)"
   ]
  },
  {
   "cell_type": "markdown",
   "metadata": {},
   "source": [
    "## <span style=\"color:blue\">Contenido</span>"
   ]
  },
  {
   "cell_type": "markdown",
   "metadata": {},
   "source": [
    "* [Introducción](#Introducción)\n",
    "* [Herramientas básicas de programación](#Herramientas-básicas-de-programación)\n",
    "* [Herramientas estadísticas](#Herramientas-estadísticas)\n",
    "* [Entrenamiento](#Entrenamiento)\n",
    "* [Predicción](#Predicción)\n",
    "* [Resumen](#Resumen)"
   ]
  },
  {
   "cell_type": "markdown",
   "metadata": {},
   "source": [
    "## <span style=\"color:blue\">Introducción</span>"
   ]
  },
  {
   "cell_type": "markdown",
   "metadata": {},
   "source": [
    "En esta lección se introduce el modelo recurrente más simple, disponible en Keras. Hacemos un ejemplo para predecir nombres de personas. Consulte los detalles de la API [aquí](https://keras.io/api/layers/recurrent_layers/simple_rnn/)."
   ]
  },
  {
   "cell_type": "markdown",
   "metadata": {},
   "source": [
    "## <span style=\"color:blue\">RNR simple en Keras</span>"
   ]
  },
  {
   "cell_type": "code",
   "execution_count": 2,
   "metadata": {},
   "outputs": [],
   "source": [
    "import tensorflow as tf\n",
    "\n",
    "from tensorflow.keras.layers import SimpleRNN\n",
    "\n",
    "import numpy as np"
   ]
  },
  {
   "cell_type": "markdown",
   "metadata": {},
   "source": [
    "### Creación de una capa recurrente"
   ]
  },
  {
   "cell_type": "markdown",
   "metadata": {},
   "source": [
    "Para ilustrar de manera muy simple vamos a crear un modelo muy simpe que recibe a la entrada secuencias de tamaño 8.\n",
    "\n",
    "En concreto el ejemplo es construido de la siguiente forma:\n",
    "\n",
    "1. Se construyen 32 conjuntos de datos. Por ejemplo 32 sentencias. Tamb ién pueden ser 32 ventanas de datos de uan serie de tiempo univariada.\n",
    "2. Cada conjunto de datos consiste de 10 secuencias de tamaño 8\n",
    "3. Se esperan secuencias de salida de tamaño 4. Por lo tanto la capa recurrente oculta tendrá tamaño 4\n",
    "\n",
    "Como se presentó en la lección anterior de introducción a redes recurrentes el proceso que hace la capa recurrente es como sigue. Para cada uno de los 32 conjuntos de datos, se sigue el siguiente procedimiento. "
   ]
  },
  {
   "cell_type": "markdown",
   "metadata": {},
   "source": [
    "#### Matrices Wxh, Whh y bh"
   ]
  },
  {
   "cell_type": "markdown",
   "metadata": {},
   "source": [
    "La capa inicializa los pesos por defecto de la sigiente forma\n",
    "\n",
    "1. Inicializa el kernel $W_{xh}$ usando por ejemplo [glorot uniform](http://proceedings.mlr.press/v9/glorot10a.html). Este es el kerel usado para transformar las entradas. En el ejemplo será una matriz de tamaño 8 x 4.\n",
    "2. Inicializa el kernel recurrente $W_{hh}$. Por defecto Keras usa el método llamado [orthogonal](https://smerity.com/articles/2016/orthogonal_init.html). En el ejemplo será una matriz 4 x 4, la cual transforma el estado recurrente.\n",
    "3. Inicializa el bias en cero, por defecto. Este parámetro es opcional. Su tamaño en el ejemplo es 4. "
   ]
  },
  {
   "cell_type": "markdown",
   "metadata": {},
   "source": [
    "### Proceso recurrente de cada secuencia."
   ]
  },
  {
   "cell_type": "markdown",
   "metadata": {},
   "source": [
    "En el ejemplo, cada una de las 10 secuencias de cada conjunto de datos se procesa d ela sigueinte forma.\n",
    "\n",
    "1. Inicializa le estado recurrente $h = x_0$. \n",
    "2. Cada elemento $i, i = 1,\\ldots,9$ de la secuencia ingresa y transforma el estado recurrente de la siguiente forma $h = x_iW_{xh} + hW_{hh} + b$.\n",
    "3. Al finalizar el último valor del estado recurrente es la salida de la capa.\n",
    "\n",
    "Entonces como vamos a introducir 32 conjuntos de datos, cada uno con 10 secuencias de tamaño 8 y esperamos secuencias de tamaño 4, a la salida esperamos a la salida 32 secuencias de tamaño 4.\n",
    "\n",
    "Vamos al código!!"
   ]
  },
  {
   "cell_type": "code",
   "execution_count": 3,
   "metadata": {},
   "outputs": [],
   "source": [
    "# Creamos para la entrada un mini-lote de 32 ejemplos de tamaño 10 x 8\n",
    "inputs = np.random.random([32, 10, 8]).astype(np.float32)\n",
    "\n",
    "# creamos una capa recurrente oculta simple con cuatro unidades de salida.\n",
    "simple_rnn = SimpleRNN(4) \n",
    "\n",
    "output = simple_rnn(inputs)  # la salida tiene tamaño [32,4]\n",
    "output"
   ]
  },
  {
   "cell_type": "code",
   "execution_count": null,
   "metadata": {},
   "outputs": [],
   "source": [
    "help(simple_rnn)"
   ]
  },
  {
   "cell_type": "code",
   "execution_count": null,
   "metadata": {},
   "outputs": [],
   "source": [
    "simple_rnn.get_config()"
   ]
  },
  {
   "cell_type": "markdown",
   "metadata": {},
   "source": [
    "### Extracción de las matrices de peso de la capa recurrente"
   ]
  },
  {
   "cell_type": "code",
   "execution_count": 8,
   "metadata": {},
   "outputs": [
    {
     "data": {
      "text/plain": [
       "array([[-0.25773692, -0.37057853, -0.6288117 , -0.06746429],\n",
       "       [-0.07627904,  0.10132539,  0.5143829 , -0.3161408 ],\n",
       "       [ 0.07873738, -0.4994464 , -0.6341361 ,  0.01751536],\n",
       "       [-0.08485186,  0.2943967 , -0.15574878,  0.02918971],\n",
       "       [ 0.6802049 ,  0.03849101, -0.1479801 ,  0.42080826],\n",
       "       [ 0.6787345 ,  0.11882985,  0.16254926,  0.31508023],\n",
       "       [-0.08014339, -0.06870526,  0.6325106 , -0.41527593],\n",
       "       [ 0.6408685 , -0.19379896,  0.3370865 ,  0.44241053]],\n",
       "      dtype=float32)"
      ]
     },
     "execution_count": 8,
     "metadata": {},
     "output_type": "execute_result"
    }
   ],
   "source": [
    "W_x_h = simple_rnn.get_weights()[0]\n",
    "W_x_h"
   ]
  },
  {
   "cell_type": "code",
   "execution_count": 12,
   "metadata": {},
   "outputs": [
    {
     "data": {
      "text/plain": [
       "array([[-0.38325727, -0.41429952, -0.81510204, -0.13068363],\n",
       "       [ 0.68143183,  0.06215988, -0.4446668 ,  0.57797766],\n",
       "       [ 0.6015466 , -0.534525  ,  0.08308589, -0.5878107 ],\n",
       "       [-0.16403064, -0.73401296,  0.36190706,  0.55076504]],\n",
       "      dtype=float32)"
      ]
     },
     "execution_count": 12,
     "metadata": {},
     "output_type": "execute_result"
    }
   ],
   "source": [
    "W_h_h = simple_rnn.get_weights()[1]\n",
    "W_h_h"
   ]
  },
  {
   "cell_type": "code",
   "execution_count": 13,
   "metadata": {},
   "outputs": [
    {
     "data": {
      "text/plain": [
       "array([0., 0., 0., 0.], dtype=float32)"
      ]
     },
     "execution_count": 13,
     "metadata": {},
     "output_type": "execute_result"
    }
   ],
   "source": [
    "b_h = simple_rnn.get_weights()[2]\n",
    "b_h"
   ]
  },
  {
   "cell_type": "code",
   "execution_count": 16,
   "metadata": {},
   "outputs": [
    {
     "name": "stdout",
     "output_type": "stream",
     "text": [
      "(32, 10, 8)\n",
      "(32, 4)\n"
     ]
    }
   ],
   "source": [
    "print(inputs.shape)\n",
    "print(output.shape)"
   ]
  },
  {
   "cell_type": "markdown",
   "metadata": {},
   "source": [
    "### Extracción del estado recurrente en cada  paso."
   ]
  },
  {
   "cell_type": "markdown",
   "metadata": {},
   "source": [
    "Es posible y conveniente para algunos problemas, extraer el estado recurrente en cada paso. Veámpos el ejemplo."
   ]
  },
  {
   "cell_type": "code",
   "execution_count": 18,
   "metadata": {},
   "outputs": [],
   "source": [
    "simple_rnn = tf.keras.layers.SimpleRNN(\n",
    "    4, return_sequences=True, return_state=True)\n",
    "\n",
    "# whole_sequence_output tiene forma `[32, 10, 4]`.\n",
    "# final_state tiene forma `[32, 4]`.\n",
    "whole_sequence_output, final_state = simple_rnn(inputs)"
   ]
  },
  {
   "cell_type": "markdown",
   "metadata": {},
   "source": [
    "## <span style=\"color:blue\">Ejemplo de una RNR Simple en Keras</span>"
   ]
  },
  {
   "cell_type": "markdown",
   "metadata": {},
   "source": [
    "Para este ejercicio puede bajar el archivo de nombres de la República Argentina desde [aquí](https://data.amerigeoss.org/dataset/otros-nombres-personas-fisicas/resource/otros_2.1)"
   ]
  },
  {
   "cell_type": "code",
   "execution_count": 106,
   "metadata": {},
   "outputs": [],
   "source": [
    "#\n",
    "#imports\n",
    "#import numpy as np\n",
    "#np.random.seed(5)\n",
    "\n",
    "from tensorflow.keras.layers import Input, Dense, SimpleRNN\n",
    "from tensorflow.keras.models import Model\n",
    "from tensorflow.keras.optimizers import Adam\n",
    "from tensorflow.keras.utils import to_categorical\n",
    "from tensorflow.keras import backend as K\n",
    "import pandas as pd"
   ]
  },
  {
   "cell_type": "markdown",
   "metadata": {},
   "source": [
    "### Lectura de datos"
   ]
  },
  {
   "cell_type": "code",
   "execution_count": 73,
   "metadata": {},
   "outputs": [
    {
     "data": {
      "text/html": [
       "<div>\n",
       "<style scoped>\n",
       "    .dataframe tbody tr th:only-of-type {\n",
       "        vertical-align: middle;\n",
       "    }\n",
       "\n",
       "    .dataframe tbody tr th {\n",
       "        vertical-align: top;\n",
       "    }\n",
       "\n",
       "    .dataframe thead th {\n",
       "        text-align: right;\n",
       "    }\n",
       "</style>\n",
       "<table border=\"1\" class=\"dataframe\">\n",
       "  <thead>\n",
       "    <tr style=\"text-align: right;\">\n",
       "      <th></th>\n",
       "      <th>nombre</th>\n",
       "      <th>cantidad</th>\n",
       "      <th>anio</th>\n",
       "    </tr>\n",
       "  </thead>\n",
       "  <tbody>\n",
       "    <tr>\n",
       "      <th>0</th>\n",
       "      <td>Maria</td>\n",
       "      <td>314</td>\n",
       "      <td>1922</td>\n",
       "    </tr>\n",
       "    <tr>\n",
       "      <th>1</th>\n",
       "      <td>Rosa</td>\n",
       "      <td>203</td>\n",
       "      <td>1922</td>\n",
       "    </tr>\n",
       "    <tr>\n",
       "      <th>2</th>\n",
       "      <td>Jose</td>\n",
       "      <td>163</td>\n",
       "      <td>1922</td>\n",
       "    </tr>\n",
       "    <tr>\n",
       "      <th>3</th>\n",
       "      <td>Maria Luisa</td>\n",
       "      <td>127</td>\n",
       "      <td>1922</td>\n",
       "    </tr>\n",
       "    <tr>\n",
       "      <th>4</th>\n",
       "      <td>Carmen</td>\n",
       "      <td>117</td>\n",
       "      <td>1922</td>\n",
       "    </tr>\n",
       "  </tbody>\n",
       "</table>\n",
       "</div>"
      ],
      "text/plain": [
       "        nombre  cantidad  anio\n",
       "0        Maria       314  1922\n",
       "1         Rosa       203  1922\n",
       "2         Jose       163  1922\n",
       "3  Maria Luisa       127  1922\n",
       "4       Carmen       117  1922"
      ]
     },
     "execution_count": 73,
     "metadata": {},
     "output_type": "execute_result"
    }
   ],
   "source": [
    "file = \"../Datos/historico-nombres.csv\"\n",
    "nombres = pd.read_csv(file,encoding='utf8')\n",
    "nombres.head()\n"
   ]
  },
  {
   "cell_type": "code",
   "execution_count": 74,
   "metadata": {},
   "outputs": [
    {
     "data": {
      "text/plain": [
       "9761609"
      ]
     },
     "execution_count": 74,
     "metadata": {},
     "output_type": "execute_result"
    }
   ],
   "source": [
    "len(nombres)"
   ]
  },
  {
   "cell_type": "code",
   "execution_count": 75,
   "metadata": {},
   "outputs": [
    {
     "name": "stdout",
     "output_type": "stream",
     "text": [
      "<class 'pandas.core.frame.DataFrame'>\n",
      "RangeIndex: 9761609 entries, 0 to 9761608\n",
      "Data columns (total 3 columns):\n",
      " #   Column    Dtype \n",
      "---  ------    ----- \n",
      " 0   nombre    object\n",
      " 1   cantidad  int64 \n",
      " 2   anio      int64 \n",
      "dtypes: int64(2), object(1)\n",
      "memory usage: 223.4+ MB\n"
     ]
    }
   ],
   "source": [
    "nombres.info()"
   ]
  },
  {
   "cell_type": "markdown",
   "metadata": {},
   "source": [
    "Elimina repeticiones"
   ]
  },
  {
   "cell_type": "code",
   "execution_count": 76,
   "metadata": {},
   "outputs": [
    {
     "data": {
      "text/plain": [
       "3439832"
      ]
     },
     "execution_count": 76,
     "metadata": {},
     "output_type": "execute_result"
    }
   ],
   "source": [
    "nombres = pd.unique(nombres['nombre'])\n",
    "len(nombres)"
   ]
  },
  {
   "cell_type": "code",
   "execution_count": 77,
   "metadata": {},
   "outputs": [],
   "source": [
    "nombres[:] = nombres.astype('str')"
   ]
  },
  {
   "cell_type": "code",
   "execution_count": 78,
   "metadata": {},
   "outputs": [
    {
     "data": {
      "text/plain": [
       "array(['Maria', 'Rosa', 'Jose', ..., 'Neylan Dilara', 'Laya Jazmín',\n",
       "       'Fiorella Luz Mailén'], dtype=object)"
      ]
     },
     "execution_count": 78,
     "metadata": {},
     "output_type": "execute_result"
    }
   ],
   "source": [
    "nombres"
   ]
  },
  {
   "cell_type": "markdown",
   "metadata": {},
   "source": [
    "### Preprocesamiento"
   ]
  },
  {
   "cell_type": "code",
   "execution_count": 79,
   "metadata": {},
   "outputs": [
    {
     "data": {
      "text/plain": [
       "array(['maria', 'rosa', 'jose', ..., 'neylan dilara', 'laya jazmín',\n",
       "       'fiorella luz mailén'], dtype=object)"
      ]
     },
     "execution_count": 79,
     "metadata": {},
     "output_type": "execute_result"
    }
   ],
   "source": [
    "# minúsculas\n",
    "nombres[:] = [nombre.lower() for nombre in nombres]\n",
    "nombres"
   ]
  },
  {
   "cell_type": "code",
   "execution_count": 80,
   "metadata": {},
   "outputs": [],
   "source": [
    "#alfabeto\n",
    "alfabeto = []\n",
    "for nombre in nombres:\n",
    "    for char in nombre:\n",
    "        if char not in alfabeto:\n",
    "            alfabeto.append(char)\n"
   ]
  },
  {
   "cell_type": "code",
   "execution_count": 81,
   "metadata": {},
   "outputs": [
    {
     "name": "stdout",
     "output_type": "stream",
     "text": [
      "['m', 'a', 'r', 'i', 'o', 's', 'j', 'e', ' ', 'l', 'u', 'c', 'n', 't', 'h', 'g', 'f', 'v', 'd', 'b', 'p', 'q', 'y', 'é', 'z', 'ú', 'ó', 'x', 'w', 'í', 'è', 'k', 'à', \"'\", 'á', '.', 'ò', 'ù', 'ä', 'ü', 'ñ', 'ì', 'ô', '-', 'ï', '`', 'ö', 'ç', '¤', '9', '0', '(', '2', '8', '4', '3', '6', ')', '°', '7', '5', '1', 'ã', ',', '|', '/', 'â', 'ë', 'î', 'ê', 'û', '´', '_', 'ý', 'º', 'µ', 'ấ', '+', '¡', 'ø', '\\x82', '£', '¢', '\\xa0', '\\x93', '¨', 'å', 'ё', 'ỹ', ':', '\\x90', 'ÿ', '\\xad', '{', 'ϊ', '·', '\"', '?', '\\x87', 'ύ', 'ć', '\\t', 'ẽ', '¿', 'õ', '\\x9a', '~', 'ŷ', 'ϋ']\n"
     ]
    }
   ],
   "source": [
    "print(alfabeto)"
   ]
  },
  {
   "cell_type": "code",
   "execution_count": 99,
   "metadata": {},
   "outputs": [],
   "source": [
    "alfabeto.append('\\n')"
   ]
  },
  {
   "cell_type": "code",
   "execution_count": 100,
   "metadata": {},
   "outputs": [
    {
     "name": "stdout",
     "output_type": "stream",
     "text": [
      "{'\\t': 0, '\\n': 1, ' ': 2, '\"': 3, \"'\": 4, '(': 5, ')': 6, '+': 7, ',': 8, '-': 9, '.': 10, '/': 11, '0': 12, '1': 13, '2': 14, '3': 15, '4': 16, '5': 17, '6': 18, '7': 19, '8': 20, '9': 21, ':': 22, '?': 23, '_': 24, '`': 25, 'a': 26, 'b': 27, 'c': 28, 'd': 29, 'e': 30, 'f': 31, 'g': 32, 'h': 33, 'i': 34, 'j': 35, 'k': 36, 'l': 37, 'm': 38, 'n': 39, 'o': 40, 'p': 41, 'q': 42, 'r': 43, 's': 44, 't': 45, 'u': 46, 'v': 47, 'w': 48, 'x': 49, 'y': 50, 'z': 51, '{': 52, '|': 53, '~': 54, '\\x82': 55, '\\x87': 56, '\\x90': 57, '\\x93': 58, '\\x9a': 59, '\\xa0': 60, '¡': 61, '¢': 62, '£': 63, '¤': 64, '¨': 65, '\\xad': 66, '°': 67, '´': 68, 'µ': 69, '·': 70, 'º': 71, '¿': 72, 'à': 73, 'á': 74, 'â': 75, 'ã': 76, 'ä': 77, 'å': 78, 'ç': 79, 'è': 80, 'é': 81, 'ê': 82, 'ë': 83, 'ì': 84, 'í': 85, 'î': 86, 'ï': 87, 'ñ': 88, 'ò': 89, 'ó': 90, 'ô': 91, 'õ': 92, 'ö': 93, 'ø': 94, 'ù': 95, 'ú': 96, 'û': 97, 'ü': 98, 'ý': 99, 'ÿ': 100, 'ć': 101, 'ŷ': 102, 'ϊ': 103, 'ϋ': 104, 'ύ': 105, 'ё': 106, 'ấ': 107, 'ẽ': 108, 'ỹ': 109}\n",
      "{0: '\\t', 1: '\\n', 2: ' ', 3: '\"', 4: \"'\", 5: '(', 6: ')', 7: '+', 8: ',', 9: '-', 10: '.', 11: '/', 12: '0', 13: '1', 14: '2', 15: '3', 16: '4', 17: '5', 18: '6', 19: '7', 20: '8', 21: '9', 22: ':', 23: '?', 24: '_', 25: '`', 26: 'a', 27: 'b', 28: 'c', 29: 'd', 30: 'e', 31: 'f', 32: 'g', 33: 'h', 34: 'i', 35: 'j', 36: 'k', 37: 'l', 38: 'm', 39: 'n', 40: 'o', 41: 'p', 42: 'q', 43: 'r', 44: 's', 45: 't', 46: 'u', 47: 'v', 48: 'w', 49: 'x', 50: 'y', 51: 'z', 52: '{', 53: '|', 54: '~', 55: '\\x82', 56: '\\x87', 57: '\\x90', 58: '\\x93', 59: '\\x9a', 60: '\\xa0', 61: '¡', 62: '¢', 63: '£', 64: '¤', 65: '¨', 66: '\\xad', 67: '°', 68: '´', 69: 'µ', 70: '·', 71: 'º', 72: '¿', 73: 'à', 74: 'á', 75: 'â', 76: 'ã', 77: 'ä', 78: 'å', 79: 'ç', 80: 'è', 81: 'é', 82: 'ê', 83: 'ë', 84: 'ì', 85: 'í', 86: 'î', 87: 'ï', 88: 'ñ', 89: 'ò', 90: 'ó', 91: 'ô', 92: 'õ', 93: 'ö', 94: 'ø', 95: 'ù', 96: 'ú', 97: 'û', 98: 'ü', 99: 'ý', 100: 'ÿ', 101: 'ć', 102: 'ŷ', 103: 'ϊ', 104: 'ϋ', 105: 'ύ', 106: 'ё', 107: 'ấ', 108: 'ẽ', 109: 'ỹ'}\n"
     ]
    }
   ],
   "source": [
    "# Conversión de caracteres a índices y viceversa\n",
    "car_a_ind = { car:ind for ind,car in enumerate(sorted(alfabeto))}\n",
    "ind_a_car = { ind:car for ind,car in enumerate(sorted(alfabeto))}\n",
    "print(car_a_ind)\n",
    "print(ind_a_car)"
   ]
  },
  {
   "cell_type": "markdown",
   "metadata": {},
   "source": [
    "### Modelo"
   ]
  },
  {
   "cell_type": "code",
   "execution_count": 87,
   "metadata": {},
   "outputs": [],
   "source": [
    "\n",
    "n_a = 25    # Número de unidades en la capa oculta\n",
    "tam_alfabeto = len(alfabeto)\n",
    "\n",
    "entrada  = Input(shape=(None,tam_alfabeto))\n",
    "a0 = Input(shape=(n_a,))\n",
    "\n",
    "celda_recurrente = SimpleRNN(n_a, activation='tanh', return_state = True)\n",
    "capa_salida = Dense(tam_alfabeto, activation='softmax')\n",
    "\n",
    "salida = []\n",
    "hs, _ = celda_recurrente(entrada, initial_state=a0)\n",
    "salida.append(capa_salida(hs))\n",
    "\n",
    "modelo = Model([entrada,a0],salida)\n",
    "#modelo.summary()\n",
    "\n",
    "opt = Adam\n",
    "modelo.compile(optimizer='Adam', loss='categorical_crossentropy')"
   ]
  },
  {
   "cell_type": "code",
   "execution_count": 88,
   "metadata": {},
   "outputs": [
    {
     "name": "stdout",
     "output_type": "stream",
     "text": [
      "Model: \"model_1\"\n",
      "__________________________________________________________________________________________________\n",
      "Layer (type)                    Output Shape         Param #     Connected to                     \n",
      "==================================================================================================\n",
      "input_4 (InputLayer)            [(None, None, 109)]  0                                            \n",
      "__________________________________________________________________________________________________\n",
      "input_5 (InputLayer)            [(None, 25)]         0                                            \n",
      "__________________________________________________________________________________________________\n",
      "simple_rnn_4 (SimpleRNN)        [(None, 25), (None,  3375        input_4[0][0]                    \n",
      "                                                                 input_5[0][0]                    \n",
      "__________________________________________________________________________________________________\n",
      "dense_1 (Dense)                 (None, 109)          2834        simple_rnn_4[0][0]               \n",
      "==================================================================================================\n",
      "Total params: 6,209\n",
      "Trainable params: 6,209\n",
      "Non-trainable params: 0\n",
      "__________________________________________________________________________________________________\n"
     ]
    }
   ],
   "source": [
    "modelo.summary()"
   ]
  },
  {
   "cell_type": "markdown",
   "metadata": {},
   "source": [
    "### Ejemplos de entrenamiento"
   ]
  },
  {
   "cell_type": "code",
   "execution_count": 108,
   "metadata": {},
   "outputs": [],
   "source": [
    "# Crear lista con ejemplos de entrenamiento y mezclarla aleatoriamente\n",
    "np.random.shuffle(nombres)\n",
    "\n",
    "size = np.round(len(nombres)*0.5).astype(int)\n",
    " \n",
    "ejemplos = nombres[:size]\n",
    "np.random.shuffle(ejemplos)"
   ]
  },
  {
   "cell_type": "code",
   "execution_count": 109,
   "metadata": {
    "tags": []
   },
   "outputs": [
    {
     "data": {
      "text/plain": [
       "array(['herminda carolina del carmen', 'angela erina', 'rocio leonela',\n",
       "       ..., 'zanilda', 'emanuel stefano sebastian', 'zoire karin'],\n",
       "      dtype=object)"
      ]
     },
     "execution_count": 109,
     "metadata": {},
     "output_type": "execute_result"
    }
   ],
   "source": [
    "ejemplos"
   ]
  },
  {
   "cell_type": "code",
   "execution_count": 96,
   "metadata": {},
   "outputs": [],
   "source": [
    "# Crear ejemplos de entrenamiento usando un generador\n",
    "def train_generator():\n",
    "    while True:\n",
    "        # Tomar un ejemplo aleatorio\n",
    "        ejemplo = ejemplos[np.random.randint(0,len(ejemplos))]\n",
    "\n",
    "        # Convertir el ejemplo a representación numérica\n",
    "        X = [None] + [car_a_ind[c] for c in ejemplo]\n",
    "\n",
    "        # Crear \"Y\", resultado de desplazar \"X\" un caracter a la derecha\n",
    "        Y = X[1:] + [car_a_ind['\\n']]\n",
    "\n",
    "        # Representar \"X\" y \"Y\" en formato one-hot\n",
    "        x = np.zeros((len(X),1,tam_alfabeto))\n",
    "        onehot = to_categorical(X[1:],tam_alfabeto).reshape(len(X)-1,1,tam_alfabeto)\n",
    "        x[1:,:,:] = onehot\n",
    "        y = to_categorical(Y,tam_alfabeto).reshape(len(X),tam_alfabeto)\n",
    "\n",
    "        # Activación inicial (matriz de ceros)\n",
    "        a = np.zeros((len(X), n_a))\n",
    "\n",
    "        yield [x, a], y"
   ]
  },
  {
   "cell_type": "markdown",
   "metadata": {},
   "source": [
    "### Entrenamiento"
   ]
  },
  {
   "cell_type": "code",
   "execution_count": 112,
   "metadata": {},
   "outputs": [
    {
     "name": "stdout",
     "output_type": "stream",
     "text": [
      "\n",
      "Epoch: 0, Error: 2.320559...\n",
      "Epoch: 20, Error: 2.443984...\n",
      "Epoch: 40, Error: 2.452941...\n",
      "Epoch: 60, Error: 2.417065...\n",
      "Epoch: 80, Error: 2.403830...\n",
      "Epoch: 100, Error: 2.452703...\n",
      "Epoch: 120, Error: 2.364956...\n",
      "Epoch: 140, Error: 2.407045...\n",
      "Epoch: 160, Error: 2.390158...\n",
      "Epoch: 180, Error: 2.384116...\n",
      "Epoch: 200, Error: 2.377984...\n",
      "Epoch: 220, Error: 2.366391...\n",
      "Epoch: 240, Error: 2.345631...\n",
      "Epoch: 260, Error: 2.354284...\n",
      "Epoch: 280, Error: 2.418243...\n",
      "Epoch: 300, Error: 2.413007...\n",
      "Epoch: 320, Error: 2.413517...\n",
      "Epoch: 340, Error: 2.375370...\n",
      "Epoch: 360, Error: 2.490234...\n",
      "Epoch: 380, Error: 2.398250...\n",
      "Epoch: 400, Error: 2.393353...\n",
      "Epoch: 420, Error: 2.454622...\n",
      "Epoch: 440, Error: 2.414723...\n",
      "Epoch: 460, Error: 2.396115...\n",
      "Epoch: 480, Error: 2.370407...\n",
      "Epoch: 500, Error: 2.395058...\n",
      "Epoch: 520, Error: 2.405056...\n",
      "Epoch: 540, Error: 2.468747...\n",
      "Epoch: 560, Error: 2.307163...\n",
      "Epoch: 580, Error: 2.370253...\n",
      "Epoch: 600, Error: 2.437043...\n",
      "Epoch: 620, Error: 2.417946...\n",
      "Epoch: 640, Error: 2.368033...\n",
      "Epoch: 660, Error: 2.427297...\n",
      "Epoch: 680, Error: 2.372191...\n",
      "Epoch: 700, Error: 2.412418...\n",
      "Epoch: 720, Error: 2.419098...\n",
      "Epoch: 740, Error: 2.381912...\n",
      "Epoch: 760, Error: 2.386631...\n",
      "Epoch: 780, Error: 2.384430...\n",
      "Epoch: 800, Error: 2.421994...\n",
      "Epoch: 820, Error: 2.417886...\n",
      "Epoch: 840, Error: 2.434698...\n",
      "Epoch: 860, Error: 2.378708...\n",
      "Epoch: 880, Error: 2.364094...\n",
      "Epoch: 900, Error: 2.410622...\n",
      "Epoch: 920, Error: 2.372820...\n",
      "Epoch: 940, Error: 2.410790...\n",
      "Epoch: 960, Error: 2.339261...\n",
      "Epoch: 980, Error: 2.486567..."
     ]
    }
   ],
   "source": [
    "BATCH_SIZE = 32\t\t\t# Número de ejemplos de entrenamiento a usar en cada iteración\n",
    "epochs = 1000\t\t\t# Número de iteraciones\n",
    "\n",
    "for j in range(epochs):\n",
    "    historia = modelo.fit_generator(train_generator(), steps_per_epoch=BATCH_SIZE, epochs=1, verbose=0)\n",
    "\n",
    "    # Imprimir evolución del entrenamiento cada 1000 iteraciones\n",
    "    if j%20 == 0:\n",
    "        print('\\nEpoch: %d, Error: %f' % (j, historia.history['loss'][0]), end ='...' )"
   ]
  },
  {
   "cell_type": "markdown",
   "metadata": {},
   "source": [
    "### Generación de nombres usando el modelo entrenado"
   ]
  },
  {
   "cell_type": "code",
   "execution_count": 104,
   "metadata": {},
   "outputs": [],
   "source": [
    "# ===========================================================\n",
    "def generar_nombre(modelo,car_a_num,tam_alfabeto,n_a):\n",
    "    # Inicializar x y a con ceros\n",
    "    x = np.zeros((1,1,tam_alfabeto,))\n",
    "    a = np.zeros((1, n_a))\n",
    "\n",
    "    # Nombre generado y caracter de fin de linea\n",
    "    nombre_generado = ''\n",
    "    fin_linea = '\\n'\n",
    "    car = -1\n",
    "\n",
    "    # Iterar sobre el modelo y generar predicción hasta tanto no se alcance\n",
    "    # \"fin_linea\" o el nombre generado llegue a los 50 caracteres\n",
    "    contador = 0\n",
    "    while (car != fin_linea and contador != 50):\n",
    "          # Generar predicción usando la celda RNN\n",
    "          a, _ = celda_recurrente(K.constant(x), initial_state=K.constant(a))\n",
    "          y = capa_salida(a)\n",
    "          prediccion = K.eval(y)\n",
    "\n",
    "          # Escoger aleatoriamente un elemento de la predicción (el elemento con\n",
    "          # con probabilidad más alta tendrá más opciones de ser seleccionado)\n",
    "          ix = np.random.choice(list(range(tam_alfabeto)),p=prediccion.ravel())\n",
    "\n",
    "          # Convertir el elemento seleccionado a caracter y añadirlo al nombre generado\n",
    "          car = ind_a_car[ix]\n",
    "          nombre_generado += car\n",
    "\n",
    "          # Crear x_(t+1) = y_t, y a_t = a_(t-1)\n",
    "          x = to_categorical(ix,tam_alfabeto).reshape(1,1,tam_alfabeto)\n",
    "          a = K.eval(a)\n",
    "\n",
    "          # Actualizar contador y continuar\n",
    "          contador += 1\n",
    "\n",
    "          # Agregar fin de línea al nombre generado en caso de tener más de 50 caracteres\n",
    "          if (contador == 50):\n",
    "            nombre_generado += '\\n'\n",
    "\n",
    "    print(nombre_generado)"
   ]
  },
  {
   "cell_type": "code",
   "execution_count": null,
   "metadata": {},
   "outputs": [],
   "source": [
    "# Generar 100 ejemplos de nombres generados por el modelo ya entrenado\n",
    "for i in range(100):\n",
    "    generar_nombre(modelo,car_a_ind,tam_alfabeto,n_a)"
   ]
  }
 ],
 "metadata": {
  "kernelspec": {
   "display_name": "Python 3",
   "language": "python",
   "name": "python3"
  },
  "language_info": {
   "codemirror_mode": {
    "name": "ipython",
    "version": 3
   },
   "file_extension": ".py",
   "mimetype": "text/x-python",
   "name": "python",
   "nbconvert_exporter": "python",
   "pygments_lexer": "ipython3",
   "version": "3.8.8"
  }
 },
 "nbformat": 4,
 "nbformat_minor": 4
}
