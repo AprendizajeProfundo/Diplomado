{
  "nbformat": 4,
  "nbformat_minor": 0,
  "metadata": {
    "colab": {
      "name": "BreveIntroduccion2R.ipynb",
      "provenance": [],
      "collapsed_sections": []
    },
    "kernelspec": {
      "name": "ir",
      "display_name": "R"
    },
    "language_info": {
      "name": "R"
    }
  },
  "cells": [
    {
      "cell_type": "markdown",
      "metadata": {
        "id": "1Ch3SsEFYI1u"
      },
      "source": [
        "#**<p align=\"center\"><font size=5 color=#006600>Diplomado en Inteligencia Artificial y Aprendizaje Profundo**"
      ]
    },
    {
      "cell_type": "markdown",
      "metadata": {
        "id": "OOJ7NOMnelA2"
      },
      "source": [
        "#**<p align=\"center\"><font size=5 color=#FF0033>Breve introducción a R**"
      ]
    },
    {
      "cell_type": "markdown",
      "metadata": {
        "id": "gx2A8PnhksGp"
      },
      "source": [
        ""
      ]
    },
    {
      "cell_type": "markdown",
      "metadata": {
        "id": "z9oBWmjodpyc"
      },
      "source": [
        "#**<font size=5 color=#0000FF>Profesores**"
      ]
    },
    {
      "cell_type": "markdown",
      "metadata": {
        "id": "ms1l2HJYeCh7"
      },
      "source": [
        "1. Campo Elías Pardo Turriago, cepardot@unal.edu.co \n",
        "2. Alvaro Mauricio Montenegro Díaz,ammontenegrod@unal.edu.co \n",
        "3. Daniel Mauricio Montenegro Reyes, dextronomo@gmail.com\n",
        "\n",
        "\n",
        "\n",
        "\n"
      ]
    },
    {
      "cell_type": "markdown",
      "metadata": {
        "id": "TApWfcZxemhD"
      },
      "source": [
        "#**<font size=5 color=#0000FF>Asesora Medios y Marketing Digital**"
      ]
    },
    {
      "cell_type": "markdown",
      "metadata": {
        "id": "43gtv0Abextl"
      },
      "source": [
        "1. Maria del Pilar Montenegro, pmontenegro88@gmail.com"
      ]
    },
    {
      "cell_type": "markdown",
      "metadata": {
        "id": "jLSx3bVoe9fZ"
      },
      "source": [
        "#**<font size=5 color=#0000FF>Asistentes**"
      ]
    },
    {
      "cell_type": "markdown",
      "metadata": {
        "id": "74W8jrBSfFXl"
      },
      "source": [
        "1. Oleg Jarma, ojarmam@unal.edu.co\n",
        "2. Laura Lizarazo, ljlizarazore@unal.edu.co\n",
        "\n"
      ]
    },
    {
      "cell_type": "markdown",
      "metadata": {
        "id": "yEs44GdM-3bD"
      },
      "source": [
        "**Nota:** los trozos de código de este cuaderno son de R"
      ]
    },
    {
      "cell_type": "code",
      "metadata": {
        "id": "pm7h3w95xiil"
      },
      "source": [
        ""
      ],
      "execution_count": null,
      "outputs": []
    },
    {
      "cell_type": "markdown",
      "metadata": {
        "id": "L7dnhZUdeyR7"
      },
      "source": [
        "##**Contenido**"
      ]
    },
    {
      "cell_type": "markdown",
      "metadata": {
        "id": "ok00ZM5AgXw6"
      },
      "source": [
        "* [Introducción](#)\n",
        "* [Cómo empezar y avanzar en R](#)\n",
        "* [Algunos aspectos y herramientas cotidianas](#)"
      ]
    },
    {
      "cell_type": "markdown",
      "metadata": {
        "id": "liXrxkeGMutK"
      },
      "source": [
        "##**Introducción**"
      ]
    },
    {
      "cell_type": "markdown",
      "metadata": {
        "id": "Fi6OQ2SEfk6L"
      },
      "source": [
        "Una vez instalado R en nuestro computador, tenemos la consola en los trozos de código de Notebook. Sumemos dos números:\n",
        "\n",
        "\n"
      ]
    },
    {
      "cell_type": "code",
      "metadata": {
        "colab": {
          "base_uri": "https://localhost:8080/",
          "height": 34
        },
        "id": "2m4JSKMZ6Tan",
        "outputId": "4c6678d7-35be-40dc-f771-e60ef08af119"
      },
      "source": [
        "123+876"
      ],
      "execution_count": null,
      "outputs": [
        {
          "output_type": "display_data",
          "data": {
            "text/plain": [
              "[1] 999"
            ],
            "text/latex": "999",
            "text/markdown": "999",
            "text/html": [
              "999"
            ]
          },
          "metadata": {
            "tags": []
          }
        }
      ]
    },
    {
      "cell_type": "markdown",
      "metadata": {
        "id": "Qcke9nWH9N23"
      },
      "source": [
        "Corriendo R desde una terminal del sistema opertativo tenemos lo mismo. Se arranca tecleando R. Hacerlo ahora."
      ]
    },
    {
      "cell_type": "markdown",
      "metadata": {
        "id": "1VKDTkwT9QPn"
      },
      "source": [
        "\n",
        "**Abrir la terminar y arrancar R**"
      ]
    },
    {
      "cell_type": "markdown",
      "metadata": {
        "id": "lDqyQO4185I2"
      },
      "source": [
        "Para presentar el lenguaje estadístico R, utilizo el artículo *Facets of R* [(Chambers 2009)](https://journal.r-project.org/archive/2009-1/RJournal_2009-1_Chambers.pdf), donde el autor resume las principales características de R en seis facetas, que son también resumen parte de su historia: \n",
        "\n",
        "1. Una interfaz de procedimientos computacionales de muchos tipos.\n",
        "2. Interactivo: se ejecuta en tiempo real.\n",
        "3. Funcional en su modelo de programación.\n",
        "4. Orientado a objetos: todo es un objeto.\n",
        "5. Modular: construido en piezas estandarizadas.\n",
        "6. Colaborativo: un esfuerzo mundial de código abierto. \n",
        "\n",
        "Chambers presenta las facetas en parejas:\n"
      ]
    },
    {
      "cell_type": "markdown",
      "metadata": {
        "id": "Neqa4NDD9jpc"
      },
      "source": [
        "###**Una interfaz interactiva**\n",
        "\n",
        "- Una mejor interfaz para los procedimientos computacionales nuevos para el an\u0013alisis\n",
        "de datos científicos, por lo general implementados como subrutinas Fortran, luego\n",
        "también en C y otros lenguajes. Por ejemplo LACPAC\n",
        "(http://www.netlib.org/lapack/)\n",
        "\n",
        "- La investigación estadística de Bell Labs había recogido y escrito una variedad\n",
        "procedimientos en Fortran.\n",
        "\n",
        "- Se publicaban algoritmos para muchas de las técnicas computacionales esenciales.\n",
        "\n",
        "- Estos procedimientos fueron la esencia de los análisis de datos reales.\n",
        "\n",
        "- La interfaz tenía que ser interactiva.\n",
        "\n",
        "- Un lenguaje usado para que el analista de datos se pueda comunicar en tiempo\n",
        "real con el software.\n",
        "\n"
      ]
    },
    {
      "cell_type": "markdown",
      "metadata": {
        "id": "uEboBJSD94iY"
      },
      "source": [
        "###**Funcional en su modelo de programación y orientado a objetos, \"todo es un objeto\"**\n",
        "\n",
        "- Los procedimientos son funciones.\n",
        "\n",
        "- La interface de procedimiento se de\fne como funciones que proveen\n",
        "una interface para subrutinas en Fortran o C.\n",
        "\n",
        "- Se incluyen clases de objetos y métodos que hacen que las funciones específicas de acuerdo a las clases de sus argumentos. Por ejemplo, la función diag():\n",
        "\n",
        "\n",
        "Funciones como objetos.\n",
        "Los objetos tienen un atributo que de\fne su clase.\n",
        "S4 provee de\fniciones formales de las clases.\n",
        "De\fniciones formales de m\u0013etodos asociados con funciones gen\u0013ericas."
      ]
    },
    {
      "cell_type": "code",
      "metadata": {
        "colab": {
          "base_uri": "https://localhost:8080/",
          "height": 373
        },
        "id": "e4cjwJWx-Qev",
        "outputId": "435c201e-8779-4ff0-850d-bcf95300191b"
      },
      "source": [
        "a = 1:9;a;class(a)          #diag aplicada a un vector numérica\n",
        "A<-matrix(a,3,3);A;class(A) \n",
        "diag(A)                     #diag cuando el argumento es una matrix\n",
        "diag(3)->I3;I3;class(I3)    #Asignación a I3 una matriz identidad de orden 3 \n"
      ],
      "execution_count": null,
      "outputs": [
        {
          "output_type": "display_data",
          "data": {
            "text/plain": [
              "[1] 1 2 3 4 5 6 7 8 9"
            ],
            "text/latex": "\\begin{enumerate*}\n\\item 1\n\\item 2\n\\item 3\n\\item 4\n\\item 5\n\\item 6\n\\item 7\n\\item 8\n\\item 9\n\\end{enumerate*}\n",
            "text/markdown": "1. 1\n2. 2\n3. 3\n4. 4\n5. 5\n6. 6\n7. 7\n8. 8\n9. 9\n\n\n",
            "text/html": [
              "<style>\n",
              ".list-inline {list-style: none; margin:0; padding: 0}\n",
              ".list-inline>li {display: inline-block}\n",
              ".list-inline>li:not(:last-child)::after {content: \"\\00b7\"; padding: 0 .5ex}\n",
              "</style>\n",
              "<ol class=list-inline><li>1</li><li>2</li><li>3</li><li>4</li><li>5</li><li>6</li><li>7</li><li>8</li><li>9</li></ol>\n"
            ]
          },
          "metadata": {
            "tags": []
          }
        },
        {
          "output_type": "display_data",
          "data": {
            "text/plain": [
              "[1] \"integer\""
            ],
            "text/latex": "'integer'",
            "text/markdown": "'integer'",
            "text/html": [
              "'integer'"
            ]
          },
          "metadata": {
            "tags": []
          }
        },
        {
          "output_type": "display_data",
          "data": {
            "text/plain": [
              "     [,1] [,2] [,3]\n",
              "[1,] 1    4    7   \n",
              "[2,] 2    5    8   \n",
              "[3,] 3    6    9   "
            ],
            "text/latex": "A matrix: 3 × 3 of type int\n\\begin{tabular}{lll}\n\t 1 & 4 & 7\\\\\n\t 2 & 5 & 8\\\\\n\t 3 & 6 & 9\\\\\n\\end{tabular}\n",
            "text/markdown": "\nA matrix: 3 × 3 of type int\n\n| 1 | 4 | 7 |\n| 2 | 5 | 8 |\n| 3 | 6 | 9 |\n\n",
            "text/html": [
              "<table class=\"dataframe\">\n",
              "<caption>A matrix: 3 × 3 of type int</caption>\n",
              "<tbody>\n",
              "\t<tr><td>1</td><td>4</td><td>7</td></tr>\n",
              "\t<tr><td>2</td><td>5</td><td>8</td></tr>\n",
              "\t<tr><td>3</td><td>6</td><td>9</td></tr>\n",
              "</tbody>\n",
              "</table>\n"
            ]
          },
          "metadata": {
            "tags": []
          }
        },
        {
          "output_type": "display_data",
          "data": {
            "text/plain": [
              "[1] \"matrix\" \"array\" "
            ],
            "text/latex": "\\begin{enumerate*}\n\\item 'matrix'\n\\item 'array'\n\\end{enumerate*}\n",
            "text/markdown": "1. 'matrix'\n2. 'array'\n\n\n",
            "text/html": [
              "<style>\n",
              ".list-inline {list-style: none; margin:0; padding: 0}\n",
              ".list-inline>li {display: inline-block}\n",
              ".list-inline>li:not(:last-child)::after {content: \"\\00b7\"; padding: 0 .5ex}\n",
              "</style>\n",
              "<ol class=list-inline><li>'matrix'</li><li>'array'</li></ol>\n"
            ]
          },
          "metadata": {
            "tags": []
          }
        },
        {
          "output_type": "display_data",
          "data": {
            "text/plain": [
              "[1] 1 5 9"
            ],
            "text/latex": "\\begin{enumerate*}\n\\item 1\n\\item 5\n\\item 9\n\\end{enumerate*}\n",
            "text/markdown": "1. 1\n2. 5\n3. 9\n\n\n",
            "text/html": [
              "<style>\n",
              ".list-inline {list-style: none; margin:0; padding: 0}\n",
              ".list-inline>li {display: inline-block}\n",
              ".list-inline>li:not(:last-child)::after {content: \"\\00b7\"; padding: 0 .5ex}\n",
              "</style>\n",
              "<ol class=list-inline><li>1</li><li>5</li><li>9</li></ol>\n"
            ]
          },
          "metadata": {
            "tags": []
          }
        },
        {
          "output_type": "display_data",
          "data": {
            "text/plain": [
              "     [,1] [,2] [,3]\n",
              "[1,] 1    0    0   \n",
              "[2,] 0    1    0   \n",
              "[3,] 0    0    1   "
            ],
            "text/latex": "A matrix: 3 × 3 of type dbl\n\\begin{tabular}{lll}\n\t 1 & 0 & 0\\\\\n\t 0 & 1 & 0\\\\\n\t 0 & 0 & 1\\\\\n\\end{tabular}\n",
            "text/markdown": "\nA matrix: 3 × 3 of type dbl\n\n| 1 | 0 | 0 |\n| 0 | 1 | 0 |\n| 0 | 0 | 1 |\n\n",
            "text/html": [
              "<table class=\"dataframe\">\n",
              "<caption>A matrix: 3 × 3 of type dbl</caption>\n",
              "<tbody>\n",
              "\t<tr><td>1</td><td>0</td><td>0</td></tr>\n",
              "\t<tr><td>0</td><td>1</td><td>0</td></tr>\n",
              "\t<tr><td>0</td><td>0</td><td>1</td></tr>\n",
              "</tbody>\n",
              "</table>\n"
            ]
          },
          "metadata": {
            "tags": []
          }
        }
      ]
    },
    {
      "cell_type": "markdown",
      "metadata": {
        "id": "6LKwIi27FoMH"
      },
      "source": [
        "###**Modular, construido a partir de piezas estandarizadas**\n",
        "\n",
        "- Colaboración: un esfuerzo de código abierto en todo el mundo.\n",
        "\n",
        "- Funciones y paquetes.\n",
        "\n",
        "- Entorno (environment)\n",
        "\n",
        "- Funciones comparten ambiente, mecanismo Namespace.\n",
        "\n",
        "- Un paquete R es un m\u0013odulo que combina funciones de R, su\n",
        "documentación y posiblemente datos y código en otros lenguajes.\n",
        "\n",
        "- R está disponible libremente como un sistema de código abierto: \n",
        "tanto el programa n\u0013ucleo como la mayor\u0013\u0010a de los paquetes, que son\n",
        "el resultado de nuevas investigaciones estadísticas y sus aplicaciones. Actulmente (marzo de 2021) hay más de 17 paquetes en el CRAN de R.\n",
        "\n",
        "- Las herramientas para la administración de paquetes juegan un papel\n",
        "esencial de colaboración.\n",
        "\n",
        "- R generalmente es capaz de incorporar otros softwares de código\n",
        "abierto o relacionarse con ellos, por ejemplo:\n",
        "\n",
        "  + [LATEX](http://www.latex-project.org/) \n",
        "\n",
        "  + [xfig](http://www.xfig.org/)"
      ]
    },
    {
      "cell_type": "markdown",
      "metadata": {
        "id": "_Iaq6fouJlVV"
      },
      "source": [
        "##**Cómo empezar y avanzar en R**\n",
        "\n",
        "Para quienes van a abordar R desde este ambiento de Jupyter, yo recomiendo, leer poco a poco en la documentadión que queda disponible al instalar R. Lo primero es Introducción a R. Como estamos utilizando Colab es mejor abrir la consola de R desde la terminar del computador para leer la documentación.\n",
        "\n"
      ]
    },
    {
      "cell_type": "code",
      "metadata": {
        "id": "IkTsn3gLT28Y"
      },
      "source": [
        "help.start()"
      ],
      "execution_count": null,
      "outputs": []
    },
    {
      "cell_type": "markdown",
      "metadata": {
        "id": "DEC5Sr18ee1A"
      },
      "source": [
        ""
      ]
    },
    {
      "cell_type": "markdown",
      "metadata": {
        "id": "JO1Q8xSbeXg3"
      },
      "source": [
        "Para empezar a iteracturar con R ir al Apéndice A, ir leyendo y copiando cada comando aquÍ. Por ejemplo los 5 primeros:\n",
        "\n",
        "1. help.start(): ua lo hicimos\n",
        "\n",
        "2. Definir dos vectores aleatorios con distribución normal estándar y obtener la gráfica de dispersión:"
      ]
    },
    {
      "cell_type": "code",
      "metadata": {
        "colab": {
          "base_uri": "https://localhost:8080/",
          "height": 436
        },
        "id": "p6zBQgBEf3wm",
        "outputId": "ffd2a566-2e33-48a3-cea1-1f7c118b402b"
      },
      "source": [
        "x <- rnorm(50)\n",
        "y <- rnorm(x)\n",
        "plot(x, y)\n"
      ],
      "execution_count": null,
      "outputs": [
        {
          "output_type": "display_data",
          "data": {
            "image/png": "[encoded data removed]",
            "text/plain": [
              "plot without title"
            ]
          },
          "metadata": {
            "tags": [],
            "image/png": {
              "width": 420,
              "height": 420
            }
          }
        }
      ]
    },
    {
      "cell_type": "markdown",
      "metadata": {
        "id": "sDesf8I5gU2c"
      },
      "source": [
        "3. Ver los objetos en memoria (*workspace*) "
      ]
    },
    {
      "cell_type": "code",
      "metadata": {
        "colab": {
          "base_uri": "https://localhost:8080/",
          "height": 33
        },
        "id": "kjN6MCF7gtOq",
        "outputId": "72923164-e261-41fc-8d9e-228d0e4755c2"
      },
      "source": [
        "ls()\n"
      ],
      "execution_count": null,
      "outputs": [
        {
          "output_type": "display_data",
          "data": {
            "text/plain": [
              "[1] \"a\" \"A\" \"I\" \"x\" \"y\""
            ],
            "text/latex": "\\begin{enumerate*}\n\\item 'a'\n\\item 'A'\n\\item 'I'\n\\item 'x'\n\\item 'y'\n\\end{enumerate*}\n",
            "text/markdown": "1. 'a'\n2. 'A'\n3. 'I'\n4. 'x'\n5. 'y'\n\n\n",
            "text/html": [
              "<style>\n",
              ".list-inline {list-style: none; margin:0; padding: 0}\n",
              ".list-inline>li {display: inline-block}\n",
              ".list-inline>li:not(:last-child)::after {content: \"\\00b7\"; padding: 0 .5ex}\n",
              "</style>\n",
              "<ol class=list-inline><li>'a'</li><li>'A'</li><li>'I'</li><li>'x'</li><li>'y'</li></ol>\n"
            ]
          },
          "metadata": {
            "tags": []
          }
        }
      ]
    },
    {
      "cell_type": "markdown",
      "metadata": {
        "id": "BfgpsJHmhfXG"
      },
      "source": [
        "4. Borrar x,y\n",
        "\n"
      ]
    },
    {
      "cell_type": "code",
      "metadata": {
        "colab": {
          "base_uri": "https://localhost:8080/",
          "height": 33
        },
        "id": "z7njZgZ2hoed",
        "outputId": "d478e31a-56d3-43d6-e835-9d59dc30533c"
      },
      "source": [
        "rm(x,y)\n",
        "ls()"
      ],
      "execution_count": null,
      "outputs": [
        {
          "output_type": "display_data",
          "data": {
            "text/plain": [
              "[1] \"w\""
            ],
            "text/latex": "'w'",
            "text/markdown": "'w'",
            "text/html": [
              "'w'"
            ]
          },
          "metadata": {
            "tags": []
          }
        }
      ]
    },
    {
      "cell_type": "markdown",
      "metadata": {
        "id": "7EKThWPGi-3r"
      },
      "source": [
        "Borrar todos los objetos\n"
      ]
    },
    {
      "cell_type": "code",
      "metadata": {
        "colab": {
          "base_uri": "https://localhost:8080/",
          "height": 16
        },
        "id": "GZO8nYq-jhSE",
        "outputId": "f5eb9284-1a46-41df-8105-eeb9105b1261"
      },
      "source": [
        "rm(list=ls())\n",
        "ls()"
      ],
      "execution_count": null,
      "outputs": [
        {
          "output_type": "display_data",
          "data": {
            "text/plain": [
              "character(0)"
            ],
            "text/latex": "",
            "text/markdown": "",
            "text/html": [
              ""
            ]
          },
          "metadata": {
            "tags": []
          }
        }
      ]
    },
    {
      "cell_type": "markdown",
      "metadata": {
        "id": "brxNP3qBlZKT"
      },
      "source": [
        "5. Crear el vector **x** con los números de 1 a 20 y calcular \n",
        "$ w = 1 + \\frac{1+\\sqrt{x}}{2} $\n",
        "Agregado: mostrar el *data.frame* con las dos columnas"
      ]
    },
    {
      "cell_type": "code",
      "metadata": {
        "colab": {
          "base_uri": "https://localhost:8080/",
          "height": 661
        },
        "id": "WQgf17fWmZGD",
        "outputId": "621642ae-6905-4dfa-bf53-ebd1532b653a"
      },
      "source": [
        "x <- 1:20\n",
        "w <- 1 + sqrt(x)/2\n",
        "data.frame(x,w)\n"
      ],
      "execution_count": null,
      "outputs": [
        {
          "output_type": "display_data",
          "data": {
            "text/plain": [
              "   x  w       \n",
              "1   1 1.500000\n",
              "2   2 1.707107\n",
              "3   3 1.866025\n",
              "4   4 2.000000\n",
              "5   5 2.118034\n",
              "6   6 2.224745\n",
              "7   7 2.322876\n",
              "8   8 2.414214\n",
              "9   9 2.500000\n",
              "10 10 2.581139\n",
              "11 11 2.658312\n",
              "12 12 2.732051\n",
              "13 13 2.802776\n",
              "14 14 2.870829\n",
              "15 15 2.936492\n",
              "16 16 3.000000\n",
              "17 17 3.061553\n",
              "18 18 3.121320\n",
              "19 19 3.179449\n",
              "20 20 3.236068"
            ],
            "text/latex": "A data.frame: 20 × 2\n\\begin{tabular}{ll}\n x & w\\\\\n <int> & <dbl>\\\\\n\\hline\n\t  1 & 1.500000\\\\\n\t  2 & 1.707107\\\\\n\t  3 & 1.866025\\\\\n\t  4 & 2.000000\\\\\n\t  5 & 2.118034\\\\\n\t  6 & 2.224745\\\\\n\t  7 & 2.322876\\\\\n\t  8 & 2.414214\\\\\n\t  9 & 2.500000\\\\\n\t 10 & 2.581139\\\\\n\t 11 & 2.658312\\\\\n\t 12 & 2.732051\\\\\n\t 13 & 2.802776\\\\\n\t 14 & 2.870829\\\\\n\t 15 & 2.936492\\\\\n\t 16 & 3.000000\\\\\n\t 17 & 3.061553\\\\\n\t 18 & 3.121320\\\\\n\t 19 & 3.179449\\\\\n\t 20 & 3.236068\\\\\n\\end{tabular}\n",
            "text/markdown": "\nA data.frame: 20 × 2\n\n| x &lt;int&gt; | w &lt;dbl&gt; |\n|---|---|\n|  1 | 1.500000 |\n|  2 | 1.707107 |\n|  3 | 1.866025 |\n|  4 | 2.000000 |\n|  5 | 2.118034 |\n|  6 | 2.224745 |\n|  7 | 2.322876 |\n|  8 | 2.414214 |\n|  9 | 2.500000 |\n| 10 | 2.581139 |\n| 11 | 2.658312 |\n| 12 | 2.732051 |\n| 13 | 2.802776 |\n| 14 | 2.870829 |\n| 15 | 2.936492 |\n| 16 | 3.000000 |\n| 17 | 3.061553 |\n| 18 | 3.121320 |\n| 19 | 3.179449 |\n| 20 | 3.236068 |\n\n",
            "text/html": [
              "<table class=\"dataframe\">\n",
              "<caption>A data.frame: 20 × 2</caption>\n",
              "<thead>\n",
              "\t<tr><th scope=col>x</th><th scope=col>w</th></tr>\n",
              "\t<tr><th scope=col>&lt;int&gt;</th><th scope=col>&lt;dbl&gt;</th></tr>\n",
              "</thead>\n",
              "<tbody>\n",
              "\t<tr><td> 1</td><td>1.500000</td></tr>\n",
              "\t<tr><td> 2</td><td>1.707107</td></tr>\n",
              "\t<tr><td> 3</td><td>1.866025</td></tr>\n",
              "\t<tr><td> 4</td><td>2.000000</td></tr>\n",
              "\t<tr><td> 5</td><td>2.118034</td></tr>\n",
              "\t<tr><td> 6</td><td>2.224745</td></tr>\n",
              "\t<tr><td> 7</td><td>2.322876</td></tr>\n",
              "\t<tr><td> 8</td><td>2.414214</td></tr>\n",
              "\t<tr><td> 9</td><td>2.500000</td></tr>\n",
              "\t<tr><td>10</td><td>2.581139</td></tr>\n",
              "\t<tr><td>11</td><td>2.658312</td></tr>\n",
              "\t<tr><td>12</td><td>2.732051</td></tr>\n",
              "\t<tr><td>13</td><td>2.802776</td></tr>\n",
              "\t<tr><td>14</td><td>2.870829</td></tr>\n",
              "\t<tr><td>15</td><td>2.936492</td></tr>\n",
              "\t<tr><td>16</td><td>3.000000</td></tr>\n",
              "\t<tr><td>17</td><td>3.061553</td></tr>\n",
              "\t<tr><td>18</td><td>3.121320</td></tr>\n",
              "\t<tr><td>19</td><td>3.179449</td></tr>\n",
              "\t<tr><td>20</td><td>3.236068</td></tr>\n",
              "</tbody>\n",
              "</table>\n"
            ]
          },
          "metadata": {
            "tags": []
          }
        }
      ]
    },
    {
      "cell_type": "markdown",
      "metadata": {
        "id": "3r-vazNCndpZ"
      },
      "source": [
        "**Continuar hasta completar el Apéndice A**"
      ]
    },
    {
      "cell_type": "markdown",
      "metadata": {
        "id": "29TdB7CkoZAr"
      },
      "source": [
        "**Se recomienda regresar al manual de introducción para compñetar al aprendizaje básico de R.** \n"
      ]
    },
    {
      "cell_type": "markdown",
      "metadata": {
        "id": "J-g-s8sVpM_o"
      },
      "source": [
        "##**Algunos aspectos claves y herramientas cotidianas**"
      ]
    },
    {
      "cell_type": "markdown",
      "metadata": {
        "id": "SPWX4PYzpX7R"
      },
      "source": [
        "- R diferencia entre mayúsculas y minúsculas.\n",
        "- Los comentarios en R empieza con # y van en cualquier parte de la linea siempre que no interrumpan la lógica de una instrucción.\n",
        "- Las ayuda para una función de R se consigue con help(nombreFuncion) o ?nombreFuncion. \n",
        "- El salto de linea y el punto y coma son los separadores de comandos.\n",
        "- En la consola de R con las flechas hacia arriba y hacia abajo se navega por los comandos ya utilizados.\n",
        "- La estructura más pequeña de R es un vector. Entonces un escalar-  es un vector de dimensión. \n",
        "- Hay  que entender las clases y las funciones genéricas de R. \n",
        "\n",
        "  + Las funciones se programan para diferentes objetos y R las selecciona de acuerdo al objeto de entrada. \n",
        "  + Las funciones reciben parámetros de ciertas clases y si los utilizados al llamarlas no corresponden, se ocasiona un error.\n",
        "  + Las funciones de R tienen argumentos por defecto, los que se pueden cambiar al momento de llamarla (utilizarlas)\n",
        "\n",
        "- **Aumentar esta lista a medida que se avanza en la lectura del manual de Introducción a R**\n",
        "\n",
        "- **Leer el contenido del manual de introducción con alguna frecuencia para obtener ayuda sobre aspectos globales**\n",
        "  + Por ejemplo la sección 8 trata sobre funciones para distribuciones de probabilidad y aparecen todas las funciones disponibles en el programa núcleo de R."
      ]
    }
  ]
}