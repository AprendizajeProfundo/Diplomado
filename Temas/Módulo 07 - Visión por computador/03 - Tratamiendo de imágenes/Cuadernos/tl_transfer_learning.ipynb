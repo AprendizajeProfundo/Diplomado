{
 "cells": [
  {
   "attachments": {},
   "cell_type": "markdown",
   "metadata": {},
   "source": [
    "<figure>\n",
    "<img src=\"../Imagenes/logo-final-ap.png\"  width=\"80\" height=\"80\" align=\"left\"/> \n",
    "</figure>\n",
    "\n",
    "# <span style=\"color:#4361EE\"><left>Aprendizaje Profundo</left></span>"
   ]
  },
  {
   "attachments": {},
   "cell_type": "markdown",
   "metadata": {},
   "source": [
    "# <span style=\"color:red\"><center>Diplomado en Inteligencia Artificial y Aprendizaje Profundo</center></span>"
   ]
  },
  {
   "attachments": {},
   "cell_type": "markdown",
   "metadata": {},
   "source": [
    "# <span style=\"color:green\"><center>Transferencia de conocimiento</center></span>"
   ]
  },
  {
   "attachments": {},
   "cell_type": "markdown",
   "metadata": {},
   "source": [
    "<figure>\n",
    "<center>\n",
    "<img src=\"../Imagenes/transfer_bridge.jpg\" width=600 height= 400 align=\"center\" />      \n",
    "</center>\n",
    "</figure>\n",
    "<center>\n",
    "<a href=\"https://commons.wikimedia.org/wiki/File:69th_Street_Transfer_Bridge.jpg\">Kidfly182</a>, <a href=\"https://creativecommons.org/licenses/by-sa/4.0\">CC BY-SA 4.0</a>, via Wikimedia Commons\n",
    "<center>"
   ]
  },
  {
   "attachments": {},
   "cell_type": "markdown",
   "metadata": {},
   "source": [
    "## <span style=\"color:#4361EE\">Profesores</span>"
   ]
  },
  {
   "attachments": {},
   "cell_type": "markdown",
   "metadata": {},
   "source": [
    "1. Alvaro  Montenegro, PhD, ammontenegrod@unal.edu.co\n",
    "1. Camilo José Torres Jiménez, Msc, cjtorresj@unal.edu.co\n",
    "1. Daniel  Montenegro, Msc, dextronomo@gmail.com "
   ]
  },
  {
   "attachments": {},
   "cell_type": "markdown",
   "metadata": {},
   "source": [
    "## <span style=\"color:#4361EE\">Asesora Medios y Marketing digital</span>"
   ]
  },
  {
   "attachments": {},
   "cell_type": "markdown",
   "metadata": {},
   "source": [
    "4. Maria del Pilar Montenegro, pmontenegro88@gmail.com\n",
    "5. Jessica López Mejía, jelopezme@unal.edu.co\n",
    "6. Venus Puertas, vpuertasg@unal.edu.co"
   ]
  },
  {
   "attachments": {},
   "cell_type": "markdown",
   "metadata": {},
   "source": [
    "## <span style=\"color:#4361EE\">Jefe Jurídica</span>"
   ]
  },
  {
   "attachments": {},
   "cell_type": "markdown",
   "metadata": {},
   "source": [
    "7. Paula Andrea Guzmán, guzmancruz.paula@gmail.com"
   ]
  },
  {
   "attachments": {},
   "cell_type": "markdown",
   "metadata": {},
   "source": [
    "## <span style=\"color:#4361EE\">Coordinador Jurídico</span>"
   ]
  },
  {
   "attachments": {},
   "cell_type": "markdown",
   "metadata": {},
   "source": [
    "8. David Fuentes, fuentesd065@gmail.com"
   ]
  },
  {
   "attachments": {},
   "cell_type": "markdown",
   "metadata": {},
   "source": [
    "## <span style=\"color:#4361EE\">Desarrolladores Principales</span>"
   ]
  },
  {
   "attachments": {},
   "cell_type": "markdown",
   "metadata": {},
   "source": [
    "9. Dairo Moreno, damoralesj@unal.edu.co\n",
    "10. Joan Castro, jocastroc@unal.edu.co\n",
    "11. Bryan Riveros, briveros@unal.edu.co\n",
    "12. Rosmer Vargas, rovargasc@unal.edu.co"
   ]
  },
  {
   "attachments": {},
   "cell_type": "markdown",
   "metadata": {},
   "source": [
    "## <span style=\"color:#4361EE\">Expertos en Bases de Datos</span>"
   ]
  },
  {
   "attachments": {},
   "cell_type": "markdown",
   "metadata": {},
   "source": [
    "13. Giovvani Barrera, udgiovanni@gmail.com\n",
    "14. Camilo Chitivo, cchitivo@unal.edu.co"
   ]
  },
  {
   "attachments": {},
   "cell_type": "markdown",
   "metadata": {
    "id": "-ScgciUekeLx"
   },
   "source": [
    "## <span style=\"color:#4361EE\">Referencias</span>\n",
    "1. Ian Goodfellow, Yosua Bengio and Aaron Courville, Deep Learning, MIT press, 2016.\n",
    "2. Vincent Doumolin and Francesco Visin, A guide to convolution arithmetic for deep learning, ArXiv:1603.07285v2, 2018\n",
    "3. [Applied Deep Learning - Part 4: Convolutional Neural Networks](https://towardsdatascience.com/applied-deep-learning-part-4-convolutional-neural-networks-584bc134c1e2)\n",
    "4. [Gentle Dive into Math Behind Convolutional Neural Networks](https://towardsdatascience.com/gentle-dive-into-math-behind-convolutional-neural-networks-79a07dd44cf9)"
   ]
  },
  {
   "attachments": {},
   "cell_type": "markdown",
   "metadata": {},
   "source": [
    "## <span style=\"color:#4361EE\">Contenido</span>"
   ]
  },
  {
   "attachments": {},
   "cell_type": "markdown",
   "metadata": {
    "id": "zOKqkYEZkeL0"
   },
   "source": [
    "* [Introducción](#Introducción)\n",
    "* [Transferencia de conocimiento](#Transferencia-de-conocimiento)\n",
    "* [Transferencia de  InceptionV3](#Transferencia-de-InceptionV3)\n",
    "    * [Cats Vs Dogs Filtered](#Cats-Vs-Dogs-Filtered)"
   ]
  },
  {
   "attachments": {},
   "cell_type": "markdown",
   "metadata": {
    "id": "lgu76LPXkeL1"
   },
   "source": [
    "## <span style=\"color:#4361EE\">Introducción</span>"
   ]
  },
  {
   "attachments": {},
   "cell_type": "markdown",
   "metadata": {
    "id": "3X3nJCzA5uNz"
   },
   "source": [
    "No sólo es importante la construcción de buenos modelos para predecir y clasificar, sino también el uso que esos modelos puedan tener en el largo plazo y en diferentes tipos de problemas.\n",
    "\n",
    "Hoy veremos un famoso modelo, conocido como **InceptionV3**.\n",
    "\n",
    "Estos modelos son bastante voluminosos, por lo que recomendamos correrlos desde **Colaboratory**."
   ]
  },
  {
   "attachments": {},
   "cell_type": "markdown",
   "metadata": {
    "id": "8mdsVI485uN0"
   },
   "source": [
    "[[Volver al Inicio]](#Contenido)"
   ]
  },
  {
   "attachments": {},
   "cell_type": "markdown",
   "metadata": {
    "id": "zmkqZm9y5uN1"
   },
   "source": [
    "## <span style=\"color:#4361EE\">Transferencia de conocimiento</span>"
   ]
  },
  {
   "attachments": {},
   "cell_type": "markdown",
   "metadata": {
    "id": "3EWQAbzH5uN2"
   },
   "source": [
    "*La transferencia de conocimiento (Transfer Learning) es un problema que se centra en almacenar el conocimiento adquirido mientras se resuelve un problema y se aplica a un problema diferente pero relacionado [[1]](https://en.wikipedia.org/wiki/Transfer_learning).*\n",
    "\n",
    "Un modelo del estado del arte, se conoce como **InceptionV3**. Este modelo es una red neuronal convolucional que ayuda en el análisis y detección de objetos. Nació inicialmente como un módulo para [GoogleNet](https://leonardoaraujosantos.gitbook.io/artificial-inteligence/machine_learning/deep_learning/googlenet).\n",
    "\n",
    "**Dato Curioso: Sí, fue nombrada así después de la película con el mismo nombre.**\n",
    "\n",
    "Más información sobre InceptionV33 en [Wikipedia](https://en.wikipedia.org/wiki/Inceptionv3), [Intel](https://software.intel.com/content/www/us/en/develop/articles/inception-v3-deep-convolutional-architecture-for-classifying-acute-myeloidlymphoblastic.html)."
   ]
  },
  {
   "attachments": {},
   "cell_type": "markdown",
   "metadata": {
    "id": "3EWQAbzH5uN2"
   },
   "source": [
    "### <span style=\"color:#4CC9F0\">Pasos para entrenar el modelo con transferencia de conocimiento</span>"
   ]
  },
  {
   "attachments": {},
   "cell_type": "markdown",
   "metadata": {
    "id": "3EWQAbzH5uN2"
   },
   "source": [
    "La idea básica de la transferencia de conocimiento es la siguiente:\n",
    "\n",
    "1. Se inicia cargando un modelo pre-entrenado disponible. En este ejemplo será InceptionV3. No debe incluirse la capa superior, es decir la última capa (top layer). \n",
    "1. Suben al modelo los pesos de algún checkpoint.  En Keras es posible hacerlo en el paso 1, pero es posible hacerlo con un checkpoint diferente. Por ejemplo pesos que usted tiene de un entrenamiento previo.\n",
    "2. Se agregan al final nuevas capas, terminando con la capa final que debe corresponder al nuevo problema.\n",
    "3. Se congelan (declaran como no entrenables) las capas del modelo pre-entrenado.\n",
    "4. Se entrena el modelo. Como se han congelado las capa de la parte pre-entrenada, solamente se entrenarán las nuevas capas.\n",
    "5. Se hace opcionalmente un ajuste fino. En este paso se liberan algunas capas del modelo pre-entrenando y se entrena de ahí en adelante hasta el final.\n",
    "\n",
    "Veámos esto en la práctica."
   ]
  },
  {
   "attachments": {},
   "cell_type": "markdown",
   "metadata": {
    "id": "3EWQAbzH5uN2"
   },
   "source": [
    "## <span style=\"color:#4361EE\">Transferencia de  InceptionV3</span>"
   ]
  },
  {
   "attachments": {},
   "cell_type": "markdown",
   "metadata": {
    "id": "3EWQAbzH5uN2"
   },
   "source": [
    "### <span style=\"color:#4CC9F0\">Carga modelo pre-entrenado</span>"
   ]
  },
  {
   "cell_type": "code",
   "execution_count": null,
   "metadata": {
    "colab": {
     "base_uri": "https://localhost:8080/",
     "height": 225
    },
    "id": "1xJZ5glPPCRz",
    "jupyter": {
     "source_hidden": true
    },
    "outputId": "5354a0e0-b2b7-4eef-bf10-4ad84f9c2772",
    "tags": []
   },
   "outputs": [],
   "source": [
    "import os\n",
    "\n",
    "from tensorflow.keras import layers\n",
    "from tensorflow.keras import Model\n",
    "\n",
    "# Bajar pesos desde Google\n",
    "!wget --no-check-certificate \\\n",
    "    https://storage.googleapis.com/mledu-datasets/inception_v3_weights_tf_dim_ordering_tf_kernels_notop.h5 \\\n",
    "    -O /tmp/inception_v3_weights_tf_dim_ordering_tf_kernels_notop.h5\n",
    "\n",
    "# Importar Modelo desde keras\n",
    "from tensorflow.keras.applications.inception_v3 import InceptionV3\n",
    "\n",
    "local_weights_file = '/tmp/inception_v3_weights_tf_dim_ordering_tf_kernels_notop.h5'\n",
    "\n",
    "pre_trained_model = InceptionV3(input_shape = (150, 150, 3), \n",
    "                                include_top = False, \n",
    "                                weights = None)\n",
    "\n",
    "pre_trained_model.load_weights(local_weights_file)\n",
    "\n",
    "for layer in pre_trained_model.layers:\n",
    "    layer.trainable = False\n",
    "\n",
    "# Miremos alguna capa del modelo\n",
    "last_layer = pre_trained_model.get_layer('mixed7')\n",
    "print('last layer output shape: ', last_layer.output_shape)\n",
    "last_output = last_layer.output"
   ]
  },
  {
   "cell_type": "code",
   "execution_count": 1,
   "metadata": {
    "colab": {
     "base_uri": "https://localhost:8080/",
     "height": 225
    },
    "id": "1xJZ5glPPCRz",
    "outputId": "5354a0e0-b2b7-4eef-bf10-4ad84f9c2772"
   },
   "outputs": [
    {
     "name": "stdout",
     "output_type": "stream",
     "text": [
      "Downloading data from https://storage.googleapis.com/tensorflow/keras-applications/inception_v3/inception_v3_weights_tf_dim_ordering_tf_kernels_notop.h5\n",
      "87916544/87910968 [==============================] - 3s 0us/step\n"
     ]
    }
   ],
   "source": [
    "from tensorflow.keras.applications.inception_v3 import InceptionV3\n",
    "from tensorflow.keras.preprocessing import image\n",
    "from tensorflow.keras.models import Model\n",
    "from tensorflow.keras.layers import Dense, GlobalAveragePooling2D\n",
    "\n",
    "# crea el modelo pre-entrenado base_model desde Keras\n",
    "base_model = InceptionV3(weights='imagenet', include_top=False)"
   ]
  },
  {
   "attachments": {},
   "cell_type": "markdown",
   "metadata": {},
   "source": [
    "### <span style=\"color:#4CC9F0\">Agrega nuevas capas</span>"
   ]
  },
  {
   "cell_type": "code",
   "execution_count": 6,
   "metadata": {
    "colab": {
     "base_uri": "https://localhost:8080/",
     "height": 225
    },
    "id": "1xJZ5glPPCRz",
    "outputId": "5354a0e0-b2b7-4eef-bf10-4ad84f9c2772"
   },
   "outputs": [],
   "source": [
    "# Agrega una capa de AveragePooling global \n",
    "x = base_model.output\n",
    "x = GlobalAveragePooling2D()(x)\n",
    "# Agrega una capa densa\n",
    "x = Dense(1024, activation='relu')(x)\n",
    "# y una capa logística -- 2 clases\n",
    "predictions = Dense(1, activation='sigmoid')(x)\n",
    "\n",
    "# Este es el modelo que entrenaremos\n",
    "model = Model(inputs=base_model.input, outputs=predictions)"
   ]
  },
  {
   "attachments": {},
   "cell_type": "markdown",
   "metadata": {
    "colab": {
     "base_uri": "https://localhost:8080/",
     "height": 225
    },
    "id": "1xJZ5glPPCRz",
    "outputId": "5354a0e0-b2b7-4eef-bf10-4ad84f9c2772"
   },
   "source": [
    "### <span style=\"color:#4CC9F0\">Carga los nuevos datos: cats and dogs</span>"
   ]
  },
  {
   "cell_type": "code",
   "execution_count": 3,
   "metadata": {
    "colab": {
     "base_uri": "https://localhost:8080/",
     "height": 238
    },
    "id": "O4s8HckqGlnb",
    "outputId": "9a229168-6e32-4a71-a82c-dc0ea109b235"
   },
   "outputs": [
    {
     "name": "stdout",
     "output_type": "stream",
     "text": [
      "Found 2000 images belonging to 2 classes.\n",
      "Found 1000 images belonging to 2 classes.\n"
     ]
    }
   ],
   "source": [
    "import os\n",
    "import zipfile\n",
    "\n",
    "from tensorflow.keras.preprocessing.image import ImageDataGenerator\n",
    "\"\"\"\n",
    "!wget --no-check-certificate \\\n",
    "        https://storage.googleapis.com/mledu-datasets/cats_and_dogs_filtered.zip \\\n",
    "       -O /tmp/cats_and_dogs_filtered.zip\n",
    "\"\"\"\n",
    "\n",
    "\"\"\"\n",
    "!wget --no-check-certificate \\\n",
    "        https://storage.googleapis.com/mledu-datasets/cats_and_dogs_filtered.zip \\\n",
    "       -O /home/alvaro/Downloads/Data/cats_and_dogs_filtered.zip\n",
    "\"\"\"\n",
    "#local_zip = '//tmp/cats_and_dogs_filtered.zip'\n",
    "path = '/home/alvaro/Downloads/Data/cats_and_dogs_filtered.zip'\n",
    "local_zip = path\n",
    "\n",
    "zip_ref = zipfile.ZipFile(local_zip, 'r')\n",
    "\n",
    "#zip_ref.extractall('/tmp')\n",
    "zip_ref.extractall('../Datos')\n",
    "\n",
    "zip_ref.close()\n",
    "\n",
    "# Define nuestros directorios de  ejemplos y archivos\n",
    "#base_dir = '/tmp/cats_and_dogs_filtered'\n",
    "base_dir = '../Datos/cats_and_dogs_filtered'\n",
    "\n",
    "train_dir = os.path.join( base_dir, 'train')\n",
    "validation_dir = os.path.join( base_dir, 'validation')\n",
    "\n",
    "train_cats_dir = os.path.join(train_dir, 'cats') # Directorio con las fotos de gatos para entrenamiento\n",
    "train_dogs_dir = os.path.join(train_dir, 'dogs') # Directorio con las fotos de perros para entrenamiento\n",
    "validation_cats_dir = os.path.join(validation_dir, 'cats') # Directorio con las fotos de gatos para validación\n",
    "validation_dogs_dir = os.path.join(validation_dir, 'dogs') # Directorio con las fotos de perros para validación\n",
    "\n",
    "train_cat_fnames = os.listdir(train_cats_dir)\n",
    "train_dog_fnames = os.listdir(train_dogs_dir)\n",
    "\n",
    "# Parámetros de data-augmentation para  ImageDataGenerator\n",
    "train_datagen = ImageDataGenerator(rescale = 1./255.,\n",
    "                                   rotation_range = 40,\n",
    "                                   width_shift_range = 0.2,\n",
    "                                   height_shift_range = 0.2,\n",
    "                                   shear_range = 0.2,\n",
    "                                   zoom_range = 0.2,\n",
    "                                   horizontal_flip = True)\n",
    "\n",
    "# Note que los datos de validación no deben ser aumentados\n",
    "test_datagen = ImageDataGenerator( rescale = 1.0/255. )\n",
    "\n",
    "# Flujo de imágenes de entrenamiento in batches of 20 usando el generador train_datagen\n",
    "train_generator = train_datagen.flow_from_directory(train_dir,\n",
    "                                                    batch_size = 20,\n",
    "                                                    class_mode = 'binary', \n",
    "                                                    target_size = (150, 150))     \n",
    "\n",
    "# Flujo de imágenes de entrenamiento in batches of 20 usando el generador test_datagen generator\n",
    "validation_generator =  test_datagen.flow_from_directory( validation_dir,\n",
    "                                                          batch_size  = 20,\n",
    "                                                          class_mode  = 'binary', \n",
    "                                                          target_size = (150, 150))"
   ]
  },
  {
   "attachments": {},
   "cell_type": "markdown",
   "metadata": {},
   "source": [
    "### <span style=\"color:#4CC9F0\">Congela capas del pre- entrenado y entrena las nuevas capas con nuevos datos</span>"
   ]
  },
  {
   "cell_type": "code",
   "execution_count": 7,
   "metadata": {
    "colab": {
     "base_uri": "https://localhost:8080/",
     "height": 225
    },
    "id": "1xJZ5glPPCRz",
    "outputId": "5354a0e0-b2b7-4eef-bf10-4ad84f9c2772"
   },
   "outputs": [
    {
     "name": "stdout",
     "output_type": "stream",
     "text": [
      "Epoch 1/5\n",
      "100/100 [==============================] - 241s 2s/step - loss: 2.5200 - accuracy: 0.7415 - val_loss: 0.1058 - val_accuracy: 0.9540\n",
      "Epoch 2/5\n",
      "100/100 [==============================] - 227s 2s/step - loss: 0.1919 - accuracy: 0.9106 - val_loss: 0.1258 - val_accuracy: 0.9470\n",
      "Epoch 3/5\n",
      "100/100 [==============================] - 226s 2s/step - loss: 0.1619 - accuracy: 0.9259 - val_loss: 0.1073 - val_accuracy: 0.9550\n",
      "Epoch 4/5\n",
      "100/100 [==============================] - 228s 2s/step - loss: 0.1562 - accuracy: 0.9175 - val_loss: 0.0982 - val_accuracy: 0.9570\n",
      "Epoch 5/5\n",
      "100/100 [==============================] - 228s 2s/step - loss: 0.1526 - accuracy: 0.9325 - val_loss: 0.1048 - val_accuracy: 0.9540\n"
     ]
    }
   ],
   "source": [
    "# primero: entrena solo las capas superiores (que se inicializaron aleatoriamente)\n",
    "# es decir, congelar todas las capas convolucionales de InceptionV3\n",
    "for layer in base_model.layers:\n",
    "    layer.trainable = False\n",
    "\n",
    "\n",
    "# compilar el modelo (debe hacerse después de configurar las capas como no entrenables)\n",
    "model.compile(optimizer='adam', loss='binary_crossentropy', \n",
    "              metrics = ['accuracy'])\n",
    "\n",
    "# entrenar el modelo con los nuevos datos durante algunas épocas\n",
    "history_0 = model.fit(\n",
    "            train_generator,\n",
    "            validation_data = validation_generator,\n",
    "            steps_per_epoch = 100,\n",
    "            epochs = 5,\n",
    "            validation_steps = 50,\n",
    "            verbose = 1)"
   ]
  },
  {
   "attachments": {},
   "cell_type": "markdown",
   "metadata": {},
   "source": [
    "### <span style=\"color:#4CC9F0\">Prepara para ajuste fino</span>"
   ]
  },
  {
   "cell_type": "code",
   "execution_count": null,
   "metadata": {
    "colab": {
     "base_uri": "https://localhost:8080/",
     "height": 225
    },
    "id": "1xJZ5glPPCRz",
    "outputId": "5354a0e0-b2b7-4eef-bf10-4ad84f9c2772"
   },
   "outputs": [],
   "source": [
    "# en este punto, las capas superiores están bien entrenadas y podemos comenzar a ajustar\n",
    "# capas convolucionales desde el inicio V3. Congelaremos las N capas inferiores\n",
    "# y entrene las capas superiores restantes.\n",
    "\n",
    "# visualicemos los nombres de las capas y los índices de las capas para ver cuántas capas\n",
    "# debemos congelar:\n",
    "for i, layer in enumerate(base_model.layers):\n",
    "   print(i, layer.name)\n",
    "\n",
    "\n",
    "# Elegimos entrenar los 2 primeros bloques de inicio, es decir, congelaremos\n",
    "# las primeras 249 capas y descongela el resto:\n",
    "for layer in model.layers[:249]:\n",
    "   layer.trainable = False\n",
    "for layer in model.layers[249:]:\n",
    "   layer.trainable = True\n",
    "\n",
    "# necesitamos recompilar el modelo para que estas modificaciones surtan efecto\n",
    "# Usaremos optimizador Adam\n",
    "from tensorflow.keras.optimizers import Adam\n",
    "\n",
    "# entrenamos nuestro modelo nuevamente (esta vez ajustando los 2 primeros bloques de inicio\n",
    "# junto a las capas densas superiores\n",
    "model.compile(optimizer = Adam, \n",
    "              loss = 'binary_crossentropy', \n",
    "              metrics = ['accuracy'])"
   ]
  },
  {
   "attachments": {},
   "cell_type": "markdown",
   "metadata": {
    "colab": {
     "base_uri": "https://localhost:8080/",
     "height": 225
    },
    "id": "1xJZ5glPPCRz",
    "outputId": "5354a0e0-b2b7-4eef-bf10-4ad84f9c2772"
   },
   "source": [
    "### <span style=\"color:#4CC9F0\">Entrenamiento para el ajuste fino</span>"
   ]
  },
  {
   "attachments": {},
   "cell_type": "markdown",
   "metadata": {},
   "source": [
    "Sólo por curiosidad, visualizemos el modelo..."
   ]
  },
  {
   "attachments": {},
   "cell_type": "markdown",
   "metadata": {},
   "source": [
    "model.summary()"
   ]
  },
  {
   "cell_type": "code",
   "execution_count": 15,
   "metadata": {
    "colab": {
     "base_uri": "https://localhost:8080/",
     "height": 697
    },
    "id": "Blhq2MAUeyGA",
    "outputId": "ec453665-fc1d-4954-f991-9c1240cc853b"
   },
   "outputs": [
    {
     "name": "stdout",
     "output_type": "stream",
     "text": [
      "100/100 [==============================] - 246s 2s/step - loss: 0.1523 - accuracy: 0.9395 - val_loss: 0.1022 - val_accuracy: 0.9510\n"
     ]
    }
   ],
   "source": [
    "history = model.fit(\n",
    "            train_generator,\n",
    "            validation_data = validation_generator,\n",
    "            steps_per_epoch = 100,\n",
    "            epochs = 2,\n",
    "            validation_steps = 50,\n",
    "            verbose = 1)"
   ]
  },
  {
   "cell_type": "code",
   "execution_count": null,
   "metadata": {
    "colab": {
     "base_uri": "https://localhost:8080/",
     "height": 298
    },
    "id": "C2Fp6Se9rKuL",
    "outputId": "ac620faf-bf59-4366-a761-ae0379bff067"
   },
   "outputs": [],
   "source": [
    "import matplotlib.pyplot as plt\n",
    "acc = history.history['accuracy']\n",
    "val_acc = history.history['val_accuracy']\n",
    "loss = history.history['loss']\n",
    "val_loss = history.history['val_loss']\n",
    "\n",
    "epochs = range(len(acc))\n",
    "\n",
    "plt.plot(epochs, acc, 'r', label='Training accuracy')\n",
    "plt.plot(epochs, val_acc, 'b', label='Validation accuracy')\n",
    "plt.title('Training and validation accuracy')\n",
    "plt.legend(loc=0)\n",
    "plt.figure()\n",
    "\n",
    "\n",
    "plt.show()"
   ]
  },
  {
   "attachments": {},
   "cell_type": "markdown",
   "metadata": {},
   "source": [
    "### <span style=\"color:#4CC9F0\">Predicciones</span>"
   ]
  },
  {
   "cell_type": "code",
   "execution_count": 31,
   "metadata": {},
   "outputs": [
    {
     "name": "stdout",
     "output_type": "stream",
     "text": [
      "Mis gatos y un perro\n",
      "tamano del tensor (7, 150, 150, 3)\n"
     ]
    },
    {
     "data": {
      "image/png": "[encoded data removed]",
      "text/plain": [
       "<Figure size 432x288 with 7 Axes>"
      ]
     },
     "metadata": {
      "needs_background": "light"
     },
     "output_type": "display_data"
    }
   ],
   "source": [
    "from tensorflow.keras.preprocessing import image\n",
    "import matplotlib.pyplot as plt\n",
    "import numpy as np\n",
    "\n",
    "#Cargar imagen desde un archivo local\n",
    "path ='../Imagenes/'\n",
    "files = ['Mila.jpg', 'Zeus.jpg', 'perro.jpg', 'gato.webp',\n",
    "         'gato.png', 'boxer.jpg', 'siberiano.webp']\n",
    "size = 150\n",
    "\n",
    "x = []\n",
    "\n",
    "print('Mis gatos y un perro')\n",
    "\n",
    "for i, file in enumerate(files):\n",
    "    img=image.load_img(path+file, target_size=(size, size))\n",
    "    sp = plt.subplot(1, len(files), i + 1)\n",
    "    sp.axis('Off') \n",
    "    plt.imshow(img)\n",
    "    \n",
    "    array = np.reshape(image.img_to_array(img), newshape =(1,size,size,3))\n",
    "    x.append(array)    \n",
    "\n",
    "images = np.vstack(x)\n",
    "print('tamano del tensor', images.shape)"
   ]
  },
  {
   "attachments": {},
   "cell_type": "markdown",
   "metadata": {},
   "source": [
    "### <span style=\"color:#4CC9F0\">Predicciones</span>"
   ]
  },
  {
   "cell_type": "code",
   "execution_count": 34,
   "metadata": {
    "tags": []
   },
   "outputs": [
    {
     "name": "stdout",
     "output_type": "stream",
     "text": [
      "[[False]\n",
      " [False]\n",
      " [False]\n",
      " [False]\n",
      " [False]\n",
      " [False]\n",
      " [ True]]\n",
      "Mila.jpg Es un Gato\n",
      "Zeus.jpg Es un Gato\n",
      "perro.jpg Es un Gato\n",
      "gato.webp Es un Gato\n",
      "gato.png Es un Gato\n",
      "boxer.jpg Es un Gato\n",
      "siberiano.webp Es un Perro\n"
     ]
    }
   ],
   "source": [
    "is_perro= model.predict(images, batch_size=2)>0.5\n",
    "# Mostrar resultados\n",
    "print(is_perro)\n",
    "    \n",
    "for i, fn in enumerate(files):\n",
    "    #Clasificar\n",
    "    if is_perro[i]:\n",
    "        print(fn + \" Es un Perro\")\n",
    "\n",
    "    else:\n",
    "        print(fn + \" Es un Gato\")"
   ]
  },
  {
   "attachments": {},
   "cell_type": "markdown",
   "metadata": {
    "id": "OU6YyUJc5uOk"
   },
   "source": [
    "[[Volver al Inicio]](#Contenido)"
   ]
  }
 ],
 "metadata": {
  "accelerator": "GPU",
  "colab": {
   "collapsed_sections": [],
   "name": "ti_transfer_learning.ipynb",
   "provenance": []
  },
  "kernelspec": {
   "display_name": "Python 3",
   "language": "python",
   "name": "python3"
  },
  "language_info": {
   "codemirror_mode": {
    "name": "ipython",
    "version": 3
   },
   "file_extension": ".py",
   "mimetype": "text/x-python",
   "name": "python",
   "nbconvert_exporter": "python",
   "pygments_lexer": "ipython3",
   "version": "3.8.8"
  }
 },
 "nbformat": 4,
 "nbformat_minor": 4
}
