{
 "cells": [
  {
   "cell_type": "markdown",
   "metadata": {},
   "source": [
    "<figure>\n",
    "<img src=\"../Imagenes/logo-final-ap.png\"  width=\"80\" height=\"80\" align=\"left\"/> \n",
    "</figure>\n",
    "\n",
    "# <span style=\"color:blue\"><left>Aprendizaje Profundo</left></span>"
   ]
  },
  {
   "cell_type": "markdown",
   "metadata": {
    "tags": []
   },
   "source": [
    "# <span style=\"color:red\"><center>Diplomado en Inteligencia Artificial y Aprendizaje Profundo</center></span>"
   ]
  },
  {
   "cell_type": "markdown",
   "metadata": {},
   "source": [
    "# <span style=\"color:blue\"><center>Incrustación de palabras. Modelo Word2Vec. </center></span>"
   ]
  },
  {
   "cell_type": "markdown",
   "metadata": {},
   "source": [
    "<figure>\n",
    "<center>\n",
    "<img src=\"../Imagenes/Carta_Colon_1493.jpg\" width=\"600\" height=\"400\" align=\"center\"/>\n",
    "</center>\n",
    "</figure>\n",
    "\n",
    "Fuente: <a href=\"https://commons.wikimedia.org/wiki/File:The_Spanish_letter_of_Columbus_to_Luis_de_Sant%27Angel_-_dated_15_February,_1493,_reprinted_in_reduced_facsimile,_and_trans._from_the_unique_copy_of_the_original_edition_(printed_by_Johann_Rosenbach_at_(14577412740).jpg\">Internet Archive Book Images</a>, No restrictions, via Wikimedia Commons"
   ]
  },
  {
   "cell_type": "markdown",
   "metadata": {},
   "source": [
    "## <span style=\"color:#4361EE\">Profesores</span>"
   ]
  },
  {
   "cell_type": "markdown",
   "metadata": {},
   "source": [
    "1. Alvaro  Montenegro, PhD, ammontenegrod@unal.edu.co\n",
    "1. Camilo José Torres Jiménez, Msc, cjtorresj@unal.edu.co\n",
    "1. Daniel  Montenegro, Msc, dextronomo@gmail.com "
   ]
  },
  {
   "cell_type": "markdown",
   "metadata": {},
   "source": [
    "## <span style=\"color:#4361EE\">Asesora Medios y Marketing digital</span>"
   ]
  },
  {
   "cell_type": "markdown",
   "metadata": {},
   "source": [
    "4. Maria del Pilar Montenegro, pmontenegro88@gmail.com\n",
    "5. Jessica López Mejía, jelopezme@unal.edu.co"
   ]
  },
  {
   "cell_type": "markdown",
   "metadata": {},
   "source": [
    "## <span style=\"color:#4361EE\">Jefe Jurídica</span>"
   ]
  },
  {
   "cell_type": "markdown",
   "metadata": {},
   "source": [
    "6. Paula Andrea Guzmán, guzmancruz.paula@gmail.com"
   ]
  },
  {
   "cell_type": "markdown",
   "metadata": {},
   "source": [
    "## <span style=\"color:#4361EE\">Coordinador Jurídico</span>"
   ]
  },
  {
   "cell_type": "markdown",
   "metadata": {},
   "source": [
    "7. David Fuentes, fuentesd065@gmail.com"
   ]
  },
  {
   "cell_type": "markdown",
   "metadata": {},
   "source": [
    "## <span style=\"color:#4361EE\">Desarrolladores Principales</span>"
   ]
  },
  {
   "cell_type": "markdown",
   "metadata": {},
   "source": [
    "8. Dairo Moreno, damoralesj@unal.edu.co\n",
    "9. Joan Castro, jocastroc@unal.edu.co\n",
    "10. Bryan Riveros, briveros@unal.edu.co\n",
    "11. Rosmer Vargas, rovargasc@unal.edu.co\n",
    "12. Venus Puertas, vpuertasg@unal.edu.co"
   ]
  },
  {
   "cell_type": "markdown",
   "metadata": {},
   "source": [
    "## <span style=\"color:#4361EE\">Expertos en Bases de Datos</span>"
   ]
  },
  {
   "cell_type": "markdown",
   "metadata": {},
   "source": [
    "13. Giovvani Barrera, udgiovanni@gmail.com\n",
    "14. Camilo Chitivo, cchitivo@unal.edu.co"
   ]
  },
  {
   "cell_type": "markdown",
   "metadata": {},
   "source": [
    "## <span style=\"color:#4361EE\">Referencias</span> "
   ]
  },
  {
   "cell_type": "markdown",
   "metadata": {},
   "source": [
    "1. [Alvaro Montenegro y Daniel Montenegro, Inteligencia Artificial y Aprendizaje Profundo, 2023](https://github.com/AprendizajeProfundo/Diplomado)\n",
    "1. [Alvaro Montenegro, Daniel Montenegro Campo Elías Pardo, Oleg Jarma,  Camilo Torres, Inteligencia Artificial y Aprendizaje Profundo Avanzado, 2023](https://github.com/AprendizajeProfundo/Diplomado-Avanzado)\n",
    "1. [Alvaro Montenegro, Daniel Montenegro, Campo Elías Pardo, Oleg Jarma, Camilo Torres, Ciencia de datos, 2023](https://github.com/AprendizajeProfundo/diplomado-ciencia-de-datos)\n",
    "1. [Adaptado de Dipanjan (DJ) Sarkar, 2018, Deep learning methods for text data](https://towardsdatascience.com/understanding-feature-engineering-part-4-deep-learning-methods-for-text-data-96c44370bbfa)\n",
    "1. [Mikolov et al. 2013a, Google, Distributed Representations of Words and Phrases\n",
    "and their Compositionality](https://papers.nips.cc/paper/5021-distributed-representations-of-words-and-phrases-and-their-compositionality.pdf), \n",
    "1. [Xin Rong, 2016, word2vec Parameter Learning Explained](https://arxiv.org/pdf/1411.2738.pdf), \n",
    "1. [Mikolov et al. 2013b, Google, Efficient Estimation of Word Representations in Vector Space](https://arxiv.org/pdf/1301.3781.pdf).\n",
    "1. [Baroni et al, 2014, Don’t count, predict! A systematic comparison of context-counting vs. context-predicting semantic vectors’ by Baroni et al](https://www.aclweb.org/anthology/P14-1023.pdf)"
   ]
  },
  {
   "cell_type": "markdown",
   "metadata": {},
   "source": [
    "## <span style=\"color:blue\">Contenido</span>"
   ]
  },
  {
   "cell_type": "markdown",
   "metadata": {},
   "source": [
    "* [Introducción](#Introducción)\n",
    "* [Sumergimiento o incrustamiento de palabras-word embeddings](#Sumergimiento-o-incrustamiento-de-palabras-word-embeddings)\n",
    "* [No cuente, prediga](#No-cuente,-prediga)\n",
    "* [Recursos linguísticos](#Recursos-linguísticos)\n",
    "    * [Tokenizador de frases Punkt](#Tokenizador-de-frases-Punkt)\n",
    "* [Corpus de juguete](#Corpus-de-juguete)\n",
    "    * [Pre-procesamiento del texto  de juguete](#Pre-procesamiento-del-texto-de-juguete)\n",
    "    * [Importa librerías](#Importa-librerías)\n",
    "    * [Preprocesa el texto de juguete](#Preprocesa-el-texto-de-juguete)\n",
    "* [Ejemplo The King James version of the Bible](#Ejemplo-The-King-James-Version-of-the-Bible)\n",
    "* [El modelo Word2vec](#El-modelo-Word2vec)\n",
    "* [Recuperación del encrustamiento (embedding)](#Recuperación-del-encrustamiento-(embedding))\n",
    "* [Calcula palabras similares](#Calcula-palabras-similares)\n",
    "* [Modelo Skip-gram](#Modelo-Skip-gram)\n",
    "* [Palabras similares](#Palabras-similares)\n",
    "* [Gráfico usando TSNE](#Gráfico-usando-TSNE)\n",
    "* [Aplicación a etiquetado automático de textos](#Aplicación-a-etiquetado-automático-de-textos)\n"
   ]
  },
  {
   "cell_type": "markdown",
   "metadata": {
    "tags": []
   },
   "source": [
    "## <span style=\"color:blue\">Introducción</span>"
   ]
  },
  {
   "cell_type": "markdown",
   "metadata": {},
   "source": [
    "Los principios del procesamiento del lenguaje natural, el aprendizaje automático o el aprendizaje profundo, todos los cuales caen bajo el amplio paraguas de la inteligencia artificial. Trabajar con datos de texto no estructurados es difícil, especialmente cuando se intenta construir un sistema inteligente que interprete y comprenda el lenguaje natural que fluye libremente al igual que los humanos. \n",
    "\n",
    "Un modelo de lenguaje natural debe permitir procesar y transformar datos textuales no estructurados y ruidosos en algunos formatos estructurados y vectorizados que puedan ser entendidos por cualquier algoritmo de aprendizaje automático. \n",
    "\n",
    "\n",
    "Un punto importante a recordar aquí es que cualquier algoritmo de aprendizaje automático se basa en principios de estadística, matemáticas y optimización. Por lo tanto, no son lo suficientemente inteligentes como para comenzar a procesar texto en su forma original y sin procesar. \n",
    "\n",
    "En esta lección, analizaremos funciones que a menudo aprovechan los modelos de aprendizaje profundo. Más específicamente, cubriremos el modelo genérico `Word2Vec`. Este modelo fue inicialmente presentado por Mikolov en dos artículos de 2013:  [Mikolov et al. 2013a, Google, Distributed Representations of Words and Phrases\n",
    "and their Compositionality](https://papers.nips.cc/paper/5021-distributed-representations-of-words-and-phrases-and-their-compositionality.pdf), [Mikolov et al. 2013b, Google, Efficient Estimation of Word Representations in Vector Space](https://arxiv.org/pdf/1301.3781.pdf)."
   ]
  },
  {
   "cell_type": "markdown",
   "metadata": {},
   "source": [
    "## <span style=\"color:blue\">Sumergimiento o incrustamiento de palabras-word embeddings</span>"
   ]
  },
  {
   "cell_type": "markdown",
   "metadata": {},
   "source": [
    "Con respecto a los sistemas de reconocimiento de voz o imágenes, toda la información ya está presente en forma de vectores de características ricos y densos incrustados en conjuntos de datos de alta dimensión como espectrogramas de audio e intensidades de píxeles de imagen, como hemos estudiado en otras lecciones.\n",
    "\n",
    "\n",
    "Sin embargo, cuando se trata de datos de texto sin procesar, especialmente modelos basados en conteo como la bolsa de palabras (bag of words), estamos tratando con palabras individuales que pueden tener sus propios identificadores y no capturan la relación semántica entre palabras. \n",
    "\n",
    "En lecciones anteriores trabajamos con la técnica de bolsa de palabras en la técnica Latent Dirichlet Allocation (LDA). \n",
    "\n",
    "Esto conduce a enormes vectores de palabras dispersas para datos textuales y, por lo tanto, si no tenemos suficientes datos, podemos terminar obteniendo modelos deficientes o incluso sobreajustando el modelo debido al problema de  [la maldición de la dimensionalidad](https://en.wikipedia.org/wiki/Curse_of_dimensionality)."
   ]
  },
  {
   "cell_type": "markdown",
   "metadata": {},
   "source": [
    "## <span style=\"color:blue\">No cuente, prediga</span>"
   ]
  },
  {
   "cell_type": "markdown",
   "metadata": {},
   "source": [
    "Esta sección está basa en el artículo [Baroni et al, 2014, Don’t count, predict! A systematic comparison of context-counting vs. context-predicting semantic vectors’ by Baroni et al](https://www.aclweb.org/anthology/P14-1023.pdf), de  \n",
    "\n",
    "Una larga tradición en la lingüística computacional ha demostrado que la información contextual proporciona una buena aproximación al significado de las palabras, ya que palabras semánticamente similares tienden a tener distribuciones contextuales similares.\n",
    "\n",
    "En modelos semánticos distribucionales (MDS) se utilizan vectores que realizan un seguimiento de los contextos (por ejemplo, palabras concurrentes) en las que aparecen los términos de destino\n",
    "en un gran corpus como representantes de representaciones de significado.\n",
    "\n",
    "Desde hace décadas ha quedado claro que los recuentos de coocurrencia sin procesar adecuadamente no funcionan tan bien, y los MDS logran un rendimiento mucho mayor.\n",
    "\n",
    "\n",
    "La *hipótesis distributiva* en el campo de la *semántica distributiva* dice que **las palabras que ocurren y se usan en el mismo contexto, son semánticamente similares entre sí y tienen significados similares**. \n",
    "\n",
    "En términos simples, **una palabra se caracteriza por la compañía que mantiene**. Para superar las deficiencias de perder la semántica y la escasez de características basadas en el modelo de bolsa de palabras, necesitamos hacer uso de los modelos de espacio vectorial - `Vector Space Models` (VSM) de tal manera que podamos incrustar vectores de palabras en este espacio vectorial continuo basado en semánticas y similitud contextual. \n",
    "\n",
    "Los modelos de predicción en contexto, más comúnmente conocidos como incrustaciones o modelos de lenguaje natural neuronales  son los nuevos protagonistas  en el área de la semántica distribucional\n",
    " \n",
    "No profundizaremos mucho, pero en resumen, hay dos tipos principales de métodos para los vectores de palabras contextuales. \n",
    "\n",
    "- **Métodos basados en conteo** como el *Análisis semántico latente* (LSA) que se pueden usar para calcular algunas medidas estadísticas de la frecuencia con la que las palabras ocurren con sus palabras vecinas en un corpus y luego construir vectores de palabras densas para cada palabra a partir de estas medidas. \n",
    "- **Los métodos predictivos**, como los modelos de lenguaje basados en redes neuronales, los cuales intentan predecir palabras a partir de las palabras vecinas observando secuencias de palabras en el corpus y, en el proceso, aprenden representaciones distribuidas que nos proporcionan incrustaciones densas  de palabras. \n",
    "\n",
    "Nos centraremos en estos métodos predictivos en esta lección."
   ]
  },
  {
   "cell_type": "markdown",
   "metadata": {},
   "source": [
    "## <span style=\"color:blue\">Recursos linguísticos</span>"
   ]
  },
  {
   "cell_type": "markdown",
   "metadata": {},
   "source": [
    "La librería [NLTK](https://www.nltk.org/py-modindex.html) incluye una pequeña selección de textos del archivo de textos electrónicos del Proyecto Gutenberg, que contiene unos 25.000 libros electrónicos gratuitos, alojados en [Gutenberg project](http://www.gutenberg.org/)"
   ]
  },
  {
   "cell_type": "markdown",
   "metadata": {},
   "source": [
    "### <span style=\"color:#4CC9F0\">Tokenizador de frases Punkt</span>"
   ]
  },
  {
   "cell_type": "markdown",
   "metadata": {},
   "source": [
    "Este tokenizador divide un texto en una lista de oraciones mediante el uso de un algoritmo no supervisado para construir un modelo de abreviaturas, colocaciones y palabras que inician oraciones. Debe entrenarse en una gran colección de texto sin formato en el idioma de destino antes de que pueda usarse.\n",
    "\n",
    "El paquete de datos NLTK incluye un tokenizador [Punkt](https://www.nltk.org/_modules/nltk/tokenize/punkt.html) previamente entrenado para inglés."
   ]
  },
  {
   "cell_type": "markdown",
   "metadata": {},
   "source": [
    "## <span style=\"color:blue\">Corpus de juguete</span>"
   ]
  },
  {
   "cell_type": "markdown",
   "metadata": {},
   "source": [
    "Para empezar usaremos el siguiente corpus de juguete (*toy corpus*). El corpus de juguete consta de documentos pertenecientes a varias categorías. Son textos muy cortos dispuestos en la siguiente lista."
   ]
  },
  {
   "cell_type": "code",
   "execution_count": 5,
   "metadata": {},
   "outputs": [
    {
     "data": {
      "text/html": [
       "<div>\n",
       "<style scoped>\n",
       "    .dataframe tbody tr th:only-of-type {\n",
       "        vertical-align: middle;\n",
       "    }\n",
       "\n",
       "    .dataframe tbody tr th {\n",
       "        vertical-align: top;\n",
       "    }\n",
       "\n",
       "    .dataframe thead th {\n",
       "        text-align: right;\n",
       "    }\n",
       "</style>\n",
       "<table border=\"1\" class=\"dataframe\">\n",
       "  <thead>\n",
       "    <tr style=\"text-align: right;\">\n",
       "      <th></th>\n",
       "      <th>Document</th>\n",
       "      <th>Category</th>\n",
       "    </tr>\n",
       "  </thead>\n",
       "  <tbody>\n",
       "    <tr>\n",
       "      <th>0</th>\n",
       "      <td>The sky is blue and beautiful.</td>\n",
       "      <td>weather</td>\n",
       "    </tr>\n",
       "    <tr>\n",
       "      <th>1</th>\n",
       "      <td>Love this blue and beautiful sky!</td>\n",
       "      <td>weather</td>\n",
       "    </tr>\n",
       "    <tr>\n",
       "      <th>2</th>\n",
       "      <td>The quick brown fox jumps over the lazy dog.</td>\n",
       "      <td>animals</td>\n",
       "    </tr>\n",
       "    <tr>\n",
       "      <th>3</th>\n",
       "      <td>A king's breakfast has sausages, ham, bacon, e...</td>\n",
       "      <td>food</td>\n",
       "    </tr>\n",
       "    <tr>\n",
       "      <th>4</th>\n",
       "      <td>I love green eggs, ham, sausages and bacon!</td>\n",
       "      <td>food</td>\n",
       "    </tr>\n",
       "    <tr>\n",
       "      <th>5</th>\n",
       "      <td>The brown fox is quick and the blue dog is lazy!</td>\n",
       "      <td>animals</td>\n",
       "    </tr>\n",
       "    <tr>\n",
       "      <th>6</th>\n",
       "      <td>The sky is very blue and the sky is very beaut...</td>\n",
       "      <td>weather</td>\n",
       "    </tr>\n",
       "    <tr>\n",
       "      <th>7</th>\n",
       "      <td>The dog is lazy but the brown fox is quick!</td>\n",
       "      <td>animals</td>\n",
       "    </tr>\n",
       "  </tbody>\n",
       "</table>\n",
       "</div>"
      ],
      "text/plain": [
       "                                            Document Category\n",
       "0                     The sky is blue and beautiful.  weather\n",
       "1                  Love this blue and beautiful sky!  weather\n",
       "2       The quick brown fox jumps over the lazy dog.  animals\n",
       "3  A king's breakfast has sausages, ham, bacon, e...     food\n",
       "4        I love green eggs, ham, sausages and bacon!     food\n",
       "5   The brown fox is quick and the blue dog is lazy!  animals\n",
       "6  The sky is very blue and the sky is very beaut...  weather\n",
       "7        The dog is lazy but the brown fox is quick!  animals"
      ]
     },
     "execution_count": 5,
     "metadata": {},
     "output_type": "execute_result"
    }
   ],
   "source": [
    "import pandas as pd\n",
    "import numpy as np\n",
    "\n",
    "corpus = ['The sky is blue and beautiful.',\n",
    "          'Love this blue and beautiful sky!',\n",
    "          'The quick brown fox jumps over the lazy dog.',\n",
    "          \"A king's breakfast has sausages, ham, bacon, eggs, toast and beans\",\n",
    "          'I love green eggs, ham, sausages and bacon!',\n",
    "          'The brown fox is quick and the blue dog is lazy!',\n",
    "          'The sky is very blue and the sky is very beautiful today',\n",
    "          'The dog is lazy but the brown fox is quick!'    \n",
    "]\n",
    "labels = ['weather', 'weather', 'animals', 'food', 'food', 'animals', 'weather', 'animals']\n",
    "\n",
    "corpus = np.array(corpus)\n",
    "corpus_df = pd.DataFrame({'Document': corpus, \n",
    "                          'Category': labels})\n",
    "corpus_df = corpus_df[['Document', 'Category']]\n",
    "corpus_df"
   ]
  },
  {
   "cell_type": "markdown",
   "metadata": {},
   "source": [
    "Como se observa se agregaron algunas etiquetas para los textos, las cuales clasifican los textos en clases. Usaremos esta clasificación más adelante en la lección."
   ]
  },
  {
   "cell_type": "markdown",
   "metadata": {},
   "source": [
    "### <span style=\"color:#4CC9F0\">Pre-procesamiento del texto  de juguete</span>"
   ]
  },
  {
   "cell_type": "markdown",
   "metadata": {},
   "source": [
    "En esta sección hacemos un preprocesamiento básico clásico del mini-corpus de juguete."
   ]
  },
  {
   "cell_type": "markdown",
   "metadata": {},
   "source": [
    "### <span style=\"color:#4CC9F0\">Importa librerías</span>"
   ]
  },
  {
   "cell_type": "code",
   "execution_count": 10,
   "metadata": {},
   "outputs": [],
   "source": [
    "import tensorflow as tf\n",
    "import pandas as pd\n",
    "import numpy as np\n",
    "import re"
   ]
  },
  {
   "cell_type": "code",
   "execution_count": 9,
   "metadata": {},
   "outputs": [],
   "source": [
    "import nltk\n",
    "import matplotlib.pyplot as plt\n",
    "\n",
    "pd.options.display.max_colwidth = 200\n",
    "\n",
    "%matplotlib inline"
   ]
  },
  {
   "cell_type": "markdown",
   "metadata": {},
   "source": [
    "### <span style=\"color:#4CC9F0\">Preprocesa el texto de juguete</span>"
   ]
  },
  {
   "cell_type": "code",
   "execution_count": 11,
   "metadata": {},
   "outputs": [],
   "source": [
    "wpt = nltk.WordPunctTokenizer()\n",
    "stop_words = nltk.corpus.stopwords.words('english')\n",
    "\n",
    "def normalize_document(doc):\n",
    "    # remueve caracteres especiales: \n",
    "    doc = re.sub(r'[^a-zA-Z\\s]', '', doc, re.I|re.A) \n",
    "    # re.I ignore si es mayúscula o minúscula; re.A solamente caracteres ASCII\n",
    "    # transforma a minúsculas\n",
    "    doc = doc.lower()\n",
    "    # remueve espacios en blanco en los extremos\n",
    "    doc = doc.strip()\n",
    "    # tokenizea documento\n",
    "    tokens = wpt.tokenize(doc)\n",
    "    # filtra los token: deja por fuera palabras vacías\n",
    "    filtered_tokens = [token for token in tokens if token not in stop_words]\n",
    "    # re-crea el documento a partir de los token filtrados\n",
    "    doc = ' '.join(filtered_tokens)\n",
    "    return doc\n",
    "\n",
    "# crea una función vectorizada para que actué sobre múltiples textos\n",
    "normalize_corpus = np.vectorize(normalize_document)\n",
    "#normalize_corpus"
   ]
  },
  {
   "cell_type": "code",
   "execution_count": 6,
   "metadata": {},
   "outputs": [
    {
     "name": "stdout",
     "output_type": "stream",
     "text": [
      "corpus original: \n",
      " ['The sky is blue and beautiful.' 'Love this blue and beautiful sky!'\n",
      " 'The quick brown fox jumps over the lazy dog.'\n",
      " \"A king's breakfast has sausages, ham, bacon, eggs, toast and beans\"\n",
      " 'I love green eggs, ham, sausages and bacon!'\n",
      " 'The brown fox is quick and the blue dog is lazy!'\n",
      " 'The sky is very blue and the sky is very beautiful today'\n",
      " 'The dog is lazy but the brown fox is quick!']\n",
      "\n",
      " corpus preprocesado: \n",
      " ['sky blue beautiful' 'love blue beautiful sky'\n",
      " 'quick brown fox jumps lazy dog'\n",
      " 'kings breakfast sausages ham bacon eggs toast beans'\n",
      " 'love green eggs ham sausages bacon' 'brown fox quick blue dog lazy'\n",
      " 'sky blue sky beautiful today' 'dog lazy brown fox quick']\n",
      "\n",
      " Vista completa de la lista\n"
     ]
    },
    {
     "data": {
      "text/plain": [
       "array(['sky blue beautiful', 'love blue beautiful sky',\n",
       "       'quick brown fox jumps lazy dog',\n",
       "       'kings breakfast sausages ham bacon eggs toast beans',\n",
       "       'love green eggs ham sausages bacon',\n",
       "       'brown fox quick blue dog lazy', 'sky blue sky beautiful today',\n",
       "       'dog lazy brown fox quick'], dtype='<U51')"
      ]
     },
     "execution_count": 6,
     "metadata": {},
     "output_type": "execute_result"
    }
   ],
   "source": [
    "norm_corpus = normalize_corpus(corpus)\n",
    "print('corpus original: \\n', corpus)\n",
    "print('\\n corpus preprocesado: \\n', norm_corpus)\n",
    "print('\\n Vista completa de la lista')\n",
    "norm_corpus"
   ]
  },
  {
   "cell_type": "markdown",
   "metadata": {},
   "source": [
    "## <span style=\"color:blue\">Ejemplo The King James Version of the Bible </span>"
   ]
  },
  {
   "cell_type": "markdown",
   "metadata": {},
   "source": [
    "Otro corpus que usaremos en esta lección es la versión *King James de la Biblia* disponible gratuitamente en *Project Gutenberg* a través del módulo de corpus en nltk.\n",
    "\n",
    "Antes de los análisis necesitamos preprocesar y normalizar este texto."
   ]
  },
  {
   "cell_type": "code",
   "execution_count": 12,
   "metadata": {},
   "outputs": [
    {
     "name": "stdout",
     "output_type": "stream",
     "text": [
      "primeras dos sentencias de la biblia:  [['[', 'The', 'King', 'James', 'Bible', ']'], ['The', 'Old', 'Testament', 'of', 'the', 'King', 'James', 'Bible']]\n",
      "Puntuación: \n",
      " !\"#$%&'()*+,-./:;<=>?@[\\]^_`{|}~\n",
      "términos a suprimir: \n",
      " !\"#$%&'()*+,-./:;<=>?@[\\]^_`{|}~0123456789\n",
      "Total de líneas:\n",
      " 30103\n",
      "\n",
      "Línea de ejemplo original:\n",
      " ['1', ':', '6', 'And', 'God', 'said', ',', 'Let', 'there', 'be', 'a', 'firmament', 'in', 'the', 'midst', 'of', 'the', 'waters', ',', 'and', 'let', 'it', 'divide', 'the', 'waters', 'from', 'the', 'waters', '.']\n",
      "\n",
      "Línea procesada:\n",
      " god said let firmament midst waters let divide waters waters\n"
     ]
    }
   ],
   "source": [
    "from nltk.corpus import gutenberg\n",
    "from string import punctuation\n",
    "\n",
    "# lee el texto por oraciones (sentencia)\n",
    "bible = gutenberg.sents('bible-kjv.txt') \n",
    "print('primeras dos sentencias de la biblia: ', bible[:2])\n",
    "# carateres a remover\n",
    "remove_terms = punctuation + '0123456789'\n",
    "\n",
    "# minúsculas y separa cada palabra de la sentencia\n",
    "norm_bible = [[word.lower() for word in sent if word not in remove_terms] for sent in bible]\n",
    "# reagrupa las sentencias\n",
    "norm_bible = [' '.join(tok_sent) for tok_sent in norm_bible]\n",
    "# elimina (filtra) sentecencia vacías (None)\n",
    "norm_bible = filter(None, normalize_corpus(norm_bible))\n",
    "# conserva sentencias con 3 o más palabras\n",
    "norm_bible = [tok_sent for tok_sent in norm_bible if len(tok_sent.split()) > 2]\n",
    "\n",
    "print('Puntuación: \\n', punctuation)\n",
    "print('términos a suprimir: \\n',remove_terms)\n",
    "\n",
    "print('Total de líneas:\\n', len(bible))\n",
    "print('\\nLínea de ejemplo original:\\n', bible[10])\n",
    "print('\\nLínea procesada:\\n', norm_bible[10])\n"
   ]
  },
  {
   "cell_type": "markdown",
   "metadata": {},
   "source": [
    "## <span style=\"color:blue\">El modelo Word2Vec </span>"
   ]
  },
  {
   "cell_type": "markdown",
   "metadata": {},
   "source": [
    "**Word2vec** es un modelo de aprendizaje profundo para generar distribuciones vectoriales continuas  de palabras, con una   alta calidad, que capturan similitudes contextuales y semánticas. \n",
    "\n",
    "Este modelo fue creado por Mikolov, trabajando para Google en 2013. Para los detalles consulte  [Distributed Representations of Words and Phrases\n",
    "and their Compositionality](https://papers.nips.cc/paper/5021-distributed-representations-of-words-and-phrases-and-their-compositionality.pdf) y [Efficient Estimation of Word Representations in Vector Space](https://arxiv.org/pdf/1301.3781.pdf). Una explicación sencilla puede encontrarse en [word2vec Parameter Learning Explained](https://arxiv.org/pdf/1411.2738.pdf), \n",
    "\n",
    "\n",
    "Básicamente, se trata de modelos no supervisados que pueden incluir corpus textuales masivo para\n",
    "\n",
    "* crear un vocabulario de palabras posibles,\n",
    "*  generar incrustaciones (embbedings) para cada palabra en el espacio vectorial que representa ese vocabulario. \n",
    "\n",
    "Por lo general, se puede especificar el tamaño de los vectores de sumergimiento de palabras y el número total de vectores es esencialmente el tamaño del vocabulario, más algunos caracteres especiales, como inicio y fin de sentencia.\n",
    "\n",
    "Esto hace que la dimensionalidad de este espacio vectorial denso sea mucho menor que el espacio vectorial disperso de alta dimensión construido con los modelos tradicionales de Bag of Words.\n",
    "\n",
    "\n",
    "Hay principalmente dos arquitecturas de modelos diferentes para generar incrustaciones de palabras en vectore3s numéricos de tipo Word2Vec :\n",
    "\n",
    "- modelo `cbow`\n",
    "- modelo `skip-gram`\n"
   ]
  },
  {
   "cell_type": "markdown",
   "metadata": {},
   "source": [
    "## <span style=\"color:blue\">Modelo CBOW</span>"
   ]
  },
  {
   "cell_type": "markdown",
   "metadata": {},
   "source": [
    "`CBOW = Continuous Bag of Words `. Con la arquitectura del modelo CBOW se intenta predecir la palabra objetivo actual- target word-, la cual corresponde  a la palabra central,  basándose en las palabras del contexto de origen que son las palabras circundantes a la palabra objetivo. \n",
    "\n",
    "\n",
    "Consideremos por ejemplo la oración simple en inglés: \n",
    "\n",
    "<center><span style=\"color:red\">“the quick brown fox jumps over the lazy dog”</span></center>\n",
    "\n",
    "<br>\n",
    "\n",
    "Hemos conservado la versión en inglés de casi todos los documentos en ésta área del procesamiento del lenguaje natural. Aquí se consideran parejas de datos  del tipo \n",
    "\n",
    "+ `([ventana de contexto], palabra objetivo)`,\n",
    "\n",
    "en donde si por ejemplo consideramos una ventana de contexto de tamaño 2, tenemos ejemplos como \n",
    "\n",
    "* ([PAD, the, brown, fox], quick),\n",
    "* ([the, quick, fox, jumps], brown), \n",
    "* ([brown, fox, over, the], jumps), \n",
    "* ([over the, dog, PAD], lazy),\n",
    "* ([the, lazy, PAD, PAD], dog),\n",
    "\n",
    "y así sucesivamente. En el ejemplo PAD es un símbolo espacial que indica relleno (padding), usado  para completar los datos en los extremos.\n",
    "\n",
    "El modelo intenta predecir la palabra objetivo (target_word) basándose en las palabras de la ventana de contexto. El siguiente gráfico ilustra la arquitectura CBOW. Cada palabra en la entrada está codificada usando la codificación one-hot. \n",
    "\n",
    "Para lograr esto, el diccionario de palabras es construido previamente y en consecuencia, cada palabra es representada por un vector binario de tamaño igual al tamaño del diccionario."
   ]
  },
  {
   "cell_type": "markdown",
   "metadata": {},
   "source": [
    "### <span style=\"color:#4CC9F0\">Vocabulario</span>"
   ]
  },
  {
   "cell_type": "markdown",
   "metadata": {},
   "source": [
    "Lo primero que haremos es construir un vocabulario, que será un diccionario que contendrá como llave cada palabra del texto, colocada una sola vez y como valor un identificador único. En el ejemplo, el diccionario es\n",
    "\n",
    "<center>diccionario = {'PAD': 0, 'the':1, 'quick':2,  'brown':3,  'fox':4, 'jumps':5  'over':6, 'lazy':7 'dog':8}</center>"
   ]
  },
  {
   "cell_type": "markdown",
   "metadata": {},
   "source": [
    "### <span style=\"color:#4CC9F0\">Codificación one-hot</span>"
   ]
  },
  {
   "cell_type": "markdown",
   "metadata": {},
   "source": [
    "Los índices no son muy útiles para el procesamiento, por lo que lo primero que hacemos es un sumergimiento en el espacio $\\{(x_1, \\ldots, x_n) \\}$, en donde $n$ es el tamaño del vocabulario, 9  en nuestro ejemplo en donde cada $x_i$ es uno excepto en la posición que representa su índice, en cuyo caso es 1. Por ejemplo la codificación one-hot de algunas de las palabras del ejemplo es\n",
    "\n",
    "* 'PAD': [1, 0, 0, 0, 0, 0, 0 ,0, 0]\n",
    "* 'jums': [0, 0, 0, 0, 0, 1, 0 ,0, 0]\n",
    "* 'dog': [0, 0, 0, 0, 0, 0, 0 ,0, 1]\n",
    "\n",
    "La familia de modelos Word2Vec no es supervisada, lo que esto significa es que puede simplemente darle un corpus sin etiquetas o información adicionales y puede construir incrustaciones densas de palabras a partir del corpus. \n",
    "\n",
    "Pero aún necesitará aprovechar una metodología de clasificación supervisada una vez que tenga este corpus para acceder a estas incorporaciones. \n",
    "\n",
    "Haremos esto desde el propio corpus, sin ninguna información auxiliar. Podemos modelar esta arquitectura CBOW ahora como un modelo de clasificación de aprendizaje profundo de modo que tomemos en las palabras de contexto como nuestra entrada, $X$ e intentemos predecir la palabra objetivo, $Y$. "
   ]
  },
  {
   "cell_type": "markdown",
   "metadata": {},
   "source": [
    "## <span style=\"color:blue\">Implementación de CBOW</span>"
   ]
  },
  {
   "cell_type": "markdown",
   "metadata": {},
   "source": [
    "### <span style=\"color:#4CC9F0\">Vocabulario</span>"
   ]
  },
  {
   "cell_type": "code",
   "execution_count": 13,
   "metadata": {},
   "outputs": [
    {
     "name": "stdout",
     "output_type": "stream",
     "text": [
      "Documentos como lista de listas de índices: wids[:5]= [[13, 1154, 5766], [154, 2450, 13, 1154, 5766], [132, 310, 63, 86, 8480], [582, 6, 1180, 94, 47], [47, 136, 1883, 1884, 396, 10, 144, 860]]\n",
      "Tamaño del vocabulario : 12425\n",
      "Una muestra del vocabulario como una lista: [('shall', 1), ('unto', 2), ('lord', 3), ('thou', 4), ('thy', 5), ('god', 6), ('ye', 7), ('said', 8), ('thee', 9), ('upon', 10)]\n",
      "Lista de las dos primeras secuencias numéricas:  [[13, 1154, 5766], [154, 2450, 13, 1154, 5766]]\n"
     ]
    }
   ],
   "source": [
    "from tensorflow.keras.preprocessing import text\n",
    "from tensorflow.keras.utils import to_categorical \n",
    "from tensorflow.keras.preprocessing import sequence\n",
    "\n",
    "# tokeniza\n",
    "tokenizer = text.Tokenizer()\n",
    "tokenizer.fit_on_texts(norm_bible)\n",
    "\n",
    "# diccionario inicial de palabras {palabra: índice}\n",
    "word2id = tokenizer.word_index\n",
    "\n",
    "# construye el vocabulario\n",
    "word2id['PAD'] = 0\n",
    "# diccionario {índice: palabra}\n",
    "id2word = {v:k for k, v in word2id.items()}\n",
    "\n",
    "# traducción del texto a una lista de listas de índices\n",
    "wids = [[word2id[w] for w in text.text_to_word_sequence(doc)] for doc in norm_bible]\n",
    "\n",
    "vocab_size = len(word2id)\n",
    "embed_size = 100\n",
    "window_size = 2 # context window size\n",
    "\n",
    "print('Documentos como lista de listas de índices: wids[:5]=', wids[:5])\n",
    "print('Tamaño del vocabulario :', vocab_size)\n",
    "print('Una muestra del vocabulario como una lista:', list(word2id.items())[:10])\n",
    "print('Lista de las dos primeras secuencias numéricas: ',wids[:2])"
   ]
  },
  {
   "cell_type": "markdown",
   "metadata": {},
   "source": [
    "Se puede ver que hemos creado un vocabulario de palabras únicas en nuestro corpus y también formas de asignar una palabra a su identificador único y viceversa. El término `PAD` se usa típicamente para rellenar palabras de contexto a una longitud fija si es necesario.\n"
   ]
  },
  {
   "cell_type": "markdown",
   "metadata": {},
   "source": [
    "### <span style=\"color:#4CC9F0\">Construcción de los datos para el generador CBOW (contex,target)</span>"
   ]
  },
  {
   "cell_type": "markdown",
   "metadata": {},
   "source": [
    "Necesitamos pares que consistan en una palabra central objetivo y palabras de contexto circundantes. \n",
    "\n",
    "En nuestra implementación, una palabra de destino tiene una longitud de 1 y el contexto circundante tiene una longitud de 2 x tamaño de ventana, donde tomamos las palabras de tamaño de ventana antes y después de la palabra de destino en nuestro corpus. \n",
    "\n",
    "\n",
    "Esto quedará más claro con el siguiente ejemplo."
   ]
  },
  {
   "cell_type": "code",
   "execution_count": 14,
   "metadata": {},
   "outputs": [
    {
     "name": "stdout",
     "output_type": "stream",
     "text": [
      "Contexto (X): ['old', 'testament', 'james', 'bible'] -> Objetivo (Y): king\n",
      "Contexto (X): ['first', 'book', 'called', 'genesis'] -> Objetivo (Y): moses\n",
      "Contexto (X): ['beginning', 'god', 'heaven', 'earth'] -> Objetivo (Y): created\n",
      "Contexto (X): ['earth', 'without', 'void', 'darkness'] -> Objetivo (Y): form\n",
      "Contexto (X): ['without', 'form', 'darkness', 'upon'] -> Objetivo (Y): void\n",
      "Contexto (X): ['form', 'void', 'upon', 'face'] -> Objetivo (Y): darkness\n",
      "Contexto (X): ['void', 'darkness', 'face', 'deep'] -> Objetivo (Y): upon\n",
      "Contexto (X): ['spirit', 'god', 'upon', 'face'] -> Objetivo (Y): moved\n",
      "Contexto (X): ['god', 'moved', 'face', 'waters'] -> Objetivo (Y): upon\n",
      "Contexto (X): ['god', 'said', 'light', 'light'] -> Objetivo (Y): let\n",
      "Contexto (X): ['god', 'saw', 'good', 'god'] -> Objetivo (Y): light\n",
      "\n",
      "La primera pareja de datos creada es:\n",
      "\n",
      "(array([[   0,    0, 1154, 5766]], dtype=int32), array([[0., 0., 0., ..., 0., 0., 0.]], dtype=float32))\n"
     ]
    }
   ],
   "source": [
    "def generate_context_word_pairs(corpus, window_size, vocab_size):\n",
    "    context_length = window_size*2\n",
    "    for words in corpus:\n",
    "        sentence_length = len(words)\n",
    "        for index, word in enumerate(words):\n",
    "            context_words = []\n",
    "            label_word   = []            \n",
    "            start = index - window_size\n",
    "            end = index + window_size + 1\n",
    "            \n",
    "            context_words.append([words[i] \n",
    "                                 for i in range(start, end) \n",
    "                                 if 0 <= i < sentence_length \n",
    "                                 and i != index])\n",
    "            label_word.append(word)\n",
    "\n",
    "            x = sequence.pad_sequences(context_words, maxlen=context_length)\n",
    "            y = to_categorical(label_word, vocab_size)\n",
    "            yield (x, y)\n",
    "            \n",
    "            \n",
    "# Prueba de nuestro codificador\n",
    "i = 0\n",
    "for x, y in generate_context_word_pairs(corpus=wids, window_size=window_size, vocab_size=vocab_size):\n",
    "    if 0 not in x[0]:\n",
    "        print('Contexto (X):', [id2word[w] for w in x[0]], '-> Objetivo (Y):', id2word[np.argwhere(y[0])[0][0]])\n",
    "    \n",
    "        if i == 10:\n",
    "            break\n",
    "        i += 1\n",
    "\n",
    "# prueba con el primer dato\n",
    "print('\\nLa primera pareja de datos creada es:\\n')\n",
    "for x, y in generate_context_word_pairs(corpus=wids, window_size=window_size, vocab_size=vocab_size):\n",
    "    print((x,y))\n",
    "    break"
   ]
  },
  {
   "cell_type": "markdown",
   "metadata": {},
   "source": [
    "### <span style=\"color:#4CC9F0\">Construcción de la arquitectura neuronal CBOW</span>"
   ]
  },
  {
   "cell_type": "markdown",
   "metadata": {},
   "source": [
    "La imagen muestra la arquitectura CBOW que vamos a implementar. Se ha simplificado para ilustar con el ejemplo de la frase\n",
    "\n",
    "<center><span style=\"color:red\">“the quick brown fox jumps over the lazy dog”</span></center>\n",
    "\n",
    "Hemos supuesto para la imagen que:\n",
    "\n",
    "* El tamaño de ventana  = 2. Es decir, en total 4 palabras de contexto. \n",
    "* El tamaño del vocabulario = 9.\n",
    "* El tamaño del embedding = 2.\n",
    "* Palabra objetivo: 'quick'."
   ]
  },
  {
   "cell_type": "markdown",
   "metadata": {},
   "source": [
    "\n",
    "<figure>\n",
    "<center>\n",
    "<img src=\"../Imagenes/cbow_am_3.png\" width=\"1200\" height=\"1000\" align=\"center\"/>\n",
    "</center>\n",
    "<figcaption>\n",
    "<p style=\"text-align:center\">Arquitectura general del modelo CBOW</p>\n",
    "</figcaption>\n",
    "</figure>\n",
    "\n",
    "Fuente: Alvaro Montenegro"
   ]
  },
  {
   "cell_type": "markdown",
   "metadata": {},
   "source": [
    "Las  entradas serán nuestras palabras de contexto que se pasan a una capa de incrustación (inicializada con pesos aleatorios). \n",
    "\n",
    "Las incrustaciones de palabras se propagan a una capa lambda donde promediamos las incrustaciones de palabras (por esta razón, se llama CBOW porque realmente no consideramos el orden o la secuencia en las palabras de contexto cuando se promedian) y luego pasamos esta incrustación de contexto promediada a una capa densa con  activación que predice nuestra palabra objetivo (target).\n",
    "\n",
    "Observe que al promediar es como si calcularemos una palabra promedio que es lo que pasa la capa densa para que la compare con la palabra target $Y$.\n",
    "\n",
    "Calculamos la pérdida usando la entropía cruzada."
   ]
  },
  {
   "cell_type": "code",
   "execution_count": 15,
   "metadata": {},
   "outputs": [],
   "source": [
    "# importamos los módulos requeridos en este ejemplo\n",
    "import tensorflow as tf\n",
    "from tensorflow.keras.layers import Input, Dense, Embedding, Lambda\n",
    "from tensorflow.keras.models import Model\n",
    "from tensorflow.keras.utils import plot_model\n",
    "from tensorflow.keras.optimizers import Adam\n",
    "from tensorflow.keras.losses import MeanSquaredError\n",
    "import pydot"
   ]
  },
  {
   "cell_type": "markdown",
   "metadata": {},
   "source": [
    "* A la entrada tenemos tensores unidimensionales de tamaño window_size*2 = 4. Por ejemplo [   0,    0, 1154, 5766].\n",
    "* La capa `Embedding` construye la codificación one-hot. Por eso necesita el tamaño del vocabulario.\n",
    "* La capa por si misma es un perceptron simple de tamaño (tamaño del vocabulario, tamaño del vocabulario * tamaño del embedding). En el ejemplo se tiene el tamaño del diccionario es 12425 y hemos decidido tener embeddings de tamaño 100. Por eso el tamaño de la matriz de pesos $W$ de la capa embedding es 1242500. La salida de la capa Embedding es en el ejemplo de tamaño 4*100.\n",
    "* La  salida de la capa Embedding es recibida por una capa personalizada `lambda` que lo único que hace es promediar los embeddings parciales de cada palabra de entrada. La salida de la capa lambda en 100.\n",
    "* Finalmente, la salida de la red es un vector del tamaño del vocabulario, representando  a la palabra objetivo es su codificación one-hot.\n",
    "* El incrustamiento de las palabras queda atrapado a la salida de la capa *lambda*. Es decir, hemos construido un auto-codificador, y la codificación queda en la salida de la capa *lambda*."
   ]
  },
  {
   "cell_type": "code",
   "execution_count": 16,
   "metadata": {},
   "outputs": [
    {
     "name": "stdout",
     "output_type": "stream",
     "text": [
      "Model: \"cbow_model\"\n",
      "_________________________________________________________________\n",
      " Layer (type)                Output Shape              Param #   \n",
      "=================================================================\n",
      " cbow_input (InputLayer)     [(None, 4)]               0         \n",
      "                                                                 \n",
      " embedding (Embedding)       (None, 4, 100)            1242500   \n",
      "                                                                 \n",
      " lambda (Lambda)             (None, 100)               0         \n",
      "                                                                 \n",
      " dense (Dense)               (None, 12425)             1254925   \n"
     ]
    },
    {
     "name": "stderr",
     "output_type": "stream",
     "text": [
      "2023-05-23 14:00:17.049093: I tensorflow/core/common_runtime/process_util.cc:146] Creating new thread pool with default inter op setting: 2. Tune using inter_op_parallelism_threads for best performance.\n"
     ]
    },
    {
     "name": "stdout",
     "output_type": "stream",
     "text": [
      "                                                                 \n",
      "=================================================================\n",
      "Total params: 2,497,425\n",
      "Trainable params: 2,497,425\n",
      "Non-trainable params: 0\n",
      "_________________________________________________________________\n"
     ]
    },
    {
     "data": {
      "image/png": "[encoded data removed]",
      "text/plain": [
       "<IPython.core.display.Image object>"
      ]
     },
     "execution_count": 16,
     "metadata": {},
     "output_type": "execute_result"
    }
   ],
   "source": [
    "#cbow\n",
    "inputs = Input(shape=(window_size*2,),name='cbow_input')\n",
    "x = Embedding(input_dim= vocab_size, output_dim=embed_size, input_length=window_size*2)(inputs)\n",
    "x = Lambda(lambda x: tf.reduce_mean(x, axis=1), output_shape=(embed_size,))(x)\n",
    "outputs = Dense(vocab_size, activation='softmax')(x)\n",
    "cbow = Model(inputs=inputs,outputs=outputs, name='cbow_model')\n",
    "\n",
    "cbow.summary()\n",
    "plot_model(cbow, to_file='../Imagenes/cbow.png', \n",
    "           show_shapes=True)\n"
   ]
  },
  {
   "cell_type": "code",
   "execution_count": 17,
   "metadata": {},
   "outputs": [],
   "source": [
    "# compile\n",
    "cbow.compile(loss='categorical_crossentropy', optimizer='adam')"
   ]
  },
  {
   "cell_type": "code",
   "execution_count": 18,
   "metadata": {},
   "outputs": [
    {
     "data": {
      "text/plain": [
       "[[13, 1154, 5766], [154, 2450, 13, 1154, 5766]]"
      ]
     },
     "execution_count": 18,
     "metadata": {},
     "output_type": "execute_result"
    }
   ],
   "source": [
    "wids[0:2]"
   ]
  },
  {
   "cell_type": "code",
   "execution_count": null,
   "metadata": {},
   "outputs": [],
   "source": []
  },
  {
   "cell_type": "code",
   "execution_count": null,
   "metadata": {},
   "outputs": [],
   "source": [
    "# train: time expensive: AWS,..., colab...\n",
    "\n",
    "for epoch in range(1, 6):\n",
    "    loss = 0.\n",
    "    i = 0\n",
    "    for x, y in generate_context_word_pairs(corpus=wids, window_size=window_size, vocab_size=vocab_size):\n",
    "        i += 1\n",
    "        loss += cbow.train_on_batch(x, y)\n",
    "        if i % 100000 == 0:\n",
    "            print('Processed {} (context, word) pairs'.format(i))\n",
    "\n",
    "    print('Epoch:', epoch, '\\tLoss:', loss)\n",
    "    print()"
   ]
  },
  {
   "cell_type": "markdown",
   "metadata": {},
   "source": [
    "## <span style=\"color:blue\">Recuperación del encrustamiento (embedding)</span>"
   ]
  },
  {
   "cell_type": "code",
   "execution_count": null,
   "metadata": {},
   "outputs": [],
   "source": [
    "# recuperando el incrustamiento (embedding)\n",
    "weights = cbow.get_weights()[0]\n",
    "weights = weights[1:]\n",
    "print(weights.shape)\n",
    "\n",
    "pd.DataFrame(weights, index=list(id2word.values())[1:]).head()"
   ]
  },
  {
   "cell_type": "markdown",
   "metadata": {},
   "source": [
    "<figure>\n",
    "<center>\n",
    "<img src=\"../Imagenes/CBOW_coordinates.png\" width=\"600\" height=\"500\" align=\"center\"/>\n",
    "</center>\n",
    "<figcaption>\n",
    "<p style=\"text-align:center\">Embedding de algunas palabras en el modelo CBOW</p>\n",
    "</figcaption>\n",
    "</figure>\n",
    "\n",
    "Fuente: \n",
    "[Dipanjan (DJ) Sarkar](https://towardsdatascience.com/understanding-feature-engineering-part-4-deep-learning-methods-for-text-data-96c44370bbfa)"
   ]
  },
  {
   "cell_type": "markdown",
   "metadata": {},
   "source": [
    "## <span style=\"color:blue\">Calcula palabras similares</span>"
   ]
  },
  {
   "cell_type": "code",
   "execution_count": null,
   "metadata": {},
   "outputs": [],
   "source": [
    "from sklearn.metrics.pairwise import euclidean_distances\n",
    "\n",
    "# compute pairwise distance matrix\n",
    "distance_matrix = euclidean_distances(weights)\n",
    "print(distance_matrix.shape)\n",
    "\n",
    "# view contextually similar words\n",
    "similar_words = {search_term: [id2word[idx] for idx in distance_matrix[word2id[search_term]-1].argsort()[1:6]+1] \n",
    "                   for search_term in ['god', 'jesus', 'noah', 'egypt', 'john', 'gospel', 'moses','famine']}\n",
    "\n",
    "similar_words"
   ]
  },
  {
   "cell_type": "markdown",
   "metadata": {},
   "source": [
    "(12424, 12424)\n",
    "{'egypt': ['destroy', 'none', 'whole', 'jacob', 'sea'],\n",
    "\n",
    " 'famine': ['wickedness', 'sore', 'countries', 'cease', 'portion'],\n",
    " \n",
    " 'god': ['therefore', 'heard', 'may', 'behold', 'heaven'],\n",
    " \n",
    " 'gospel': ['church', 'fowls', 'churches', 'preached', 'doctrine'],\n",
    " \n",
    " 'jesus': ['law', 'heard', 'world', 'many', 'dead'],\n",
    " \n",
    " 'john': ['dream', 'bones', 'held', 'present', 'alive'],\n",
    " \n",
    " 'moses': ['pharaoh', 'gate', 'jews', 'departed', 'lifted'],\n",
    " \n",
    " 'noah': ['abram', 'plagues', 'hananiah', 'korah', 'sarah']}"
   ]
  },
  {
   "cell_type": "markdown",
   "metadata": {},
   "source": [
    "## <span style=\"color:blue\">Modelo Skip-gram </span>"
   ]
  },
  {
   "cell_type": "markdown",
   "metadata": {},
   "source": [
    "Con la arquitectura del modelo Skip-gram generalmente se intenta lograr lo contrario de lo que hace el modelo CBOW. \n",
    "\n",
    "\n",
    "Intenta predecir las palabras de contexto de origen (palabras circundantes) dada una palabra de destino (la palabra central). Tomaremos como ejemplo nuestra simple oración de antes.\n",
    "\n",
    "\n",
    "<center><span style=\"color:red\">“the quick brown fox jumps over the lazy dog”</span></center>\n",
    "\n",
    "<br>\n",
    "\n",
    "\n",
    "Para esto, alimentamos el modelo con  pares de datos de la forma $([X, Z], relevancia)$ donde $X$ es nuestra palabra objetivo, $Z$ una palabra de contexto o una palabra seleccionada aleatoriamente y $\\text{relevancia} \\in \\{0,1\\}$, en donde:\n",
    "\n",
    "* *relevancia = 1*, significa que la palabra $Z$ está en alguna ventana de contexto de $X$ y\n",
    "* *relevancia = 0*, en caso contrario.\n",
    "\n",
    "Así, usamos los pares [(objetivo, contexto), 1]  como muestras de entrada positivas en donde objetivo es nuestra palabra de interés y contexto es una palabra de contexto que aparece cerca de la palabra objetivo y la etiqueta positiva 1 indica que este es un par contextualmente relevante. \n",
    "\n",
    "\n",
    "También introducimos los pares [(objetivo, aleatorio), 0] como muestras de entrada negativa en donde objetivo es nuevamente nuestra palabra de interés, pero aleatorio significa que es solo una palabra seleccionada al azar de nuestro vocabulario que no tiene contexto o asociación con nuestra palabra objetivo. \n",
    "\n",
    "\n",
    "Por lo tanto, la etiqueta negativa 0 indica que este es un par contextualmente irrelevante. Hacemos esto para que el modelo pueda aprender qué pares de palabras son contextualmente relevantes y cuáles no y generar incrustaciones similares para palabras semánticamente similares.\n",
    "\n",
    "Algunos ejemplos positivos en nuestra frase ejemplo son\n",
    "\n",
    "* ([quick, fox], 1),\n",
    "* ([the, dog], 1).\n",
    "\n",
    "Un ejemplo negativo es\n",
    "* ([brown, dog], 0).\n",
    "\n",
    "La siguiente imagen muestra gráficamente la arquitectura del modelo skip-gram para la frase ejemplo\n",
    "\n",
    "<center><span style=\"color:red\">“the quick brown fox jumps over the lazy dog”</span></center>\n",
    "\n",
    "<br>\n",
    "\n",
    "Hemos supuesto para la imagen que:\n",
    "\n",
    "* El tamaño de ventana  = 2. Es decir, en total 4 palabras de contexto. \n",
    "* El tamaño del vocabulario = 9.\n",
    "* El tamaño del embedding = 2.\n",
    "* Pareja positiva: ['the',PAD]."
   ]
  },
  {
   "cell_type": "markdown",
   "metadata": {},
   "source": [
    "\n",
    "<figure>\n",
    "<center>\n",
    "<img src=\"../Imagenes/skip-gram-am-3.png\" width=\"1000\" height=\"800\" align=\"center\"/>\n",
    "</center>\n",
    "<figcaption>\n",
    "<p style=\"text-align:center\">Modelo Skip-gram</p>\n",
    "</figcaption>\n",
    "</figure>\n",
    "\n",
    "Fuente: Alvaro Montenegro"
   ]
  },
  {
   "cell_type": "markdown",
   "metadata": {},
   "source": [
    "## <span style=\"color:blue\">Implementación del modelo Skip-gram </span>"
   ]
  },
  {
   "cell_type": "markdown",
   "metadata": {},
   "source": [
    "### <span style=\"color:#4CC9F0\">Vocabulario</span>"
   ]
  },
  {
   "cell_type": "code",
   "execution_count": 34,
   "metadata": {},
   "outputs": [
    {
     "name": "stdout",
     "output_type": "stream",
     "text": [
      "Vocabulary Size: 12425\n",
      "Vocabulary Sample: [('shall', 1), ('unto', 2), ('lord', 3), ('thou', 4), ('thy', 5), ('god', 6), ('ye', 7), ('said', 8), ('thee', 9), ('upon', 10)]\n"
     ]
    }
   ],
   "source": [
    "from tensorflow.keras.preprocessing import text\n",
    "\n",
    "tokenizer = text.Tokenizer()\n",
    "tokenizer.fit_on_texts(norm_bible)\n",
    "\n",
    "word2id = tokenizer.word_index\n",
    "id2word = {v:k for k, v in word2id.items()}\n",
    "\n",
    "vocab_size = len(word2id) + 1 \n",
    "embed_size = 100\n",
    "\n",
    "wids = [[word2id[w] for w in text.text_to_word_sequence(doc)] for doc in norm_bible]\n",
    "print('Vocabulary Size:', vocab_size)\n",
    "print('Vocabulary Sample:', list(word2id.items())[:10])"
   ]
  },
  {
   "cell_type": "markdown",
   "metadata": {},
   "source": [
    "### <span style=\"color:#4CC9F0\">Generador skip-gram </span>"
   ]
  },
  {
   "cell_type": "markdown",
   "metadata": {},
   "source": [
    "[(target, context), relevancy] \n",
    "\n",
    "Afortunadamente, keras tiene una ingeniosa utilidad de skipgrams que se puede usar y no tenemos que implementar manualmente este generador como lo hicimos en CBOW.\n",
    "\n",
    "Esta función transforma una secuencia de índices de palabras (lista de números enteros) en tuplas de palabras de la forma:\n",
    "\n",
    "- (word, word in the same window), with label 1 (positive samples).\n",
    "- (word, random word from the vocabulary), with label 0 (negative samples)."
   ]
  },
  {
   "cell_type": "code",
   "execution_count": 35,
   "metadata": {},
   "outputs": [
    {
     "name": "stdout",
     "output_type": "stream",
     "text": [
      "(bible (5766), james (1154)) -> 1\n",
      "(james (1154), bible (5766)) -> 1\n",
      "(king (13), silvanus (5751)) -> 0\n",
      "(king (13), bible (5766)) -> 1\n",
      "(bible (5766), discontinue (10966)) -> 0\n",
      "(king (13), james (1154)) -> 1\n",
      "(king (13), undressed (6985)) -> 0\n",
      "(bible (5766), king (13)) -> 1\n",
      "(james (1154), king (13)) -> 1\n",
      "(james (1154), stout (5534)) -> 0\n"
     ]
    }
   ],
   "source": [
    "\n",
    "from tensorflow.keras.preprocessing.sequence import skipgrams\n",
    "\n",
    "# generate skip-grams\n",
    "skip_grams = [skipgrams(wid, vocabulary_size=vocab_size, window_size=10) for wid in wids]\n",
    "\n",
    "# view sample skip-grams\n",
    "pairs, labels = skip_grams[0][0], skip_grams[0][1]\n",
    "for i in range(10):\n",
    "    print(\"({:s} ({:d}), {:s} ({:d})) -> {:d}\".format(\n",
    "          id2word[pairs[i][0]], pairs[i][0], \n",
    "          id2word[pairs[i][1]], pairs[i][1], \n",
    "          labels[i]))"
   ]
  },
  {
   "cell_type": "markdown",
   "metadata": {},
   "source": [
    "#### Arquitectuta neuronal del  modelo skip-gram"
   ]
  },
  {
   "cell_type": "code",
   "execution_count": 48,
   "metadata": {},
   "outputs": [
    {
     "name": "stdout",
     "output_type": "stream",
     "text": [
      "Model: \"model_2\"\n",
      "__________________________________________________________________________________________________\n",
      "Layer (type)                    Output Shape         Param #     Connected to                     \n",
      "==================================================================================================\n",
      "inputs (InputLayer)             [(None, 1)]          0                                            \n",
      "__________________________________________________________________________________________________\n",
      "context (InputLayer)            [(None, 1)]          0                                            \n",
      "__________________________________________________________________________________________________\n",
      "embedding_14 (Embedding)        (None, 1, 100)       1242500     inputs[0][0]                     \n",
      "__________________________________________________________________________________________________\n",
      "embedding_15 (Embedding)        (None, 1, 100)       1242500     context[0][0]                    \n",
      "__________________________________________________________________________________________________\n",
      "dot_4 (Dot)                     (None, 1, 1)         0           embedding_14[0][0]               \n",
      "                                                                 embedding_15[0][0]               \n",
      "__________________________________________________________________________________________________\n",
      "reshape_9 (Reshape)             (None, 1)            0           dot_4[0][0]                      \n",
      "__________________________________________________________________________________________________\n",
      "activation_2 (Activation)       (None, 1)            0           reshape_9[0][0]                  \n",
      "==================================================================================================\n",
      "Total params: 2,485,000\n",
      "Trainable params: 2,485,000\n",
      "Non-trainable params: 0\n",
      "__________________________________________________________________________________________________\n"
     ]
    },
    {
     "data": {
      "image/png": "[encoded data removed]",
      "text/plain": [
       "<IPython.core.display.Image object>"
      ]
     },
     "execution_count": 48,
     "metadata": {},
     "output_type": "execute_result"
    }
   ],
   "source": [
    "from tensorflow.keras.layers import Dot\n",
    "from tensorflow.keras.layers import Dense, Reshape, Activation\n",
    "from tensorflow.keras.layers import Embedding\n",
    "from tensorflow.keras.models import Sequential\n",
    "\n",
    "from tensorflow.keras.utils import plot_model\n",
    "\n",
    "# inputs\n",
    "w_inputs = Input(shape=(1, ), dtype='int32', name='inputs')\n",
    "w = Embedding(vocab_size, embed_size)(w_inputs)\n",
    "\n",
    "# context\n",
    "c_inputs = Input(shape=(1, ), dtype='int32', name='context')\n",
    "c  = Embedding(vocab_size, embed_size)(c_inputs)\n",
    "\n",
    "# producto escalar\n",
    "o = Dot(axes=2)([w, c])\n",
    "o = Reshape((1,), input_shape=(1, 1))(o)\n",
    "o = Activation('sigmoid')(o)\n",
    "\n",
    "SkipGram = Model(inputs=[w_inputs, c_inputs], outputs=o)\n",
    "SkipGram.summary()\n",
    "SkipGram.compile(loss='binary_crossentropy', optimizer='adam')\n",
    "\n",
    "plot_model(SkipGram, to_file='../Imagenes/model_skip_gram.png', show_shapes=True)"
   ]
  },
  {
   "cell_type": "markdown",
   "metadata": {},
   "source": [
    "\n",
    "Comprender el modelo de aprendizaje profundo anterior es bastante sencillo. Sin embargo, intentaremos resumir los conceptos centrales de este modelo en términos simples para facilitar la comprensión.\n",
    "\n",
    "Tenemos un par de palabras de entrada para cada ejemplo de entrenamiento que consta de una palabra objetivo de entrada que tiene un identificador numérico único y una palabra de contexto que tiene un identificador numérico único. \n",
    "\n",
    "Si es una muestra positiva, la palabra tiene un significado contextual, es una palabra de contexto y nuestra etiqueta Y = 1, de lo contrario, si es una muestra negativa, la palabra no tiene significado contextual, es solo una palabra aleatoria y nuestra etiqueta Y = 0. \n",
    "\n",
    "\n",
    "Pasaremos cada uno de ellos a una capa de incrustación propia, que tiene un tamaño (tamaño_vocabulario x tamaño_incrustación) que nos dará densas incrustaciones de palabras para cada una de estas dos palabras (1 x tamaño_incrustación para cada palabra). \n",
    "\n",
    "\n",
    "A continuación, usamos una capa *Dot* para calcular el producto escalar de estas dos incrustaciones y obtener el valor del producto escalar.\n",
    "\n",
    "Esto luego se envía a una capa densa con activación sigmoide que genera un valor entre 0 y 1. Comparamos este valor con la etiqueta real $Y$ (1 o 0), calculamos la pérdida, retro-propagamos los errores para ajustar los pesos (en la capa de incrustación) y repetimos este proceso para todos los pares (objetivo, contexto) en  múltiples épocas. \n"
   ]
  },
  {
   "cell_type": "markdown",
   "metadata": {},
   "source": [
    "### <span style=\"color:#4CC9F0\">Entrena el modelo</span>"
   ]
  },
  {
   "cell_type": "code",
   "execution_count": null,
   "metadata": {},
   "outputs": [],
   "source": [
    "for epoch in range(1, 6):\n",
    "    loss = 0\n",
    "    for i, elem in enumerate(skip_grams):\n",
    "        pair_first_elem = np.array(list(zip(*elem[0]))[0], dtype='int32')\n",
    "        pair_second_elem = np.array(list(zip(*elem[0]))[1], dtype='int32')\n",
    "        labels = np.array(elem[1], dtype='int32')\n",
    "        X = [pair_first_elem, pair_second_elem]\n",
    "        Y = labels\n",
    "        if i % 10000 == 0:\n",
    "            print('Processed {} (skip_first, skip_second, relevance) pairs'.format(i))\n",
    "        loss += SkipGram.train_on_batch(X,Y)  \n",
    "\n",
    "    print('Epoch:', epoch, 'Loss:', loss)"
   ]
  },
  {
   "cell_type": "markdown",
   "metadata": {},
   "source": [
    "## <span style=\"color:blue\">Recuperación del encrustamiento (embedding)</span>"
   ]
  },
  {
   "cell_type": "code",
   "execution_count": null,
   "metadata": {},
   "outputs": [],
   "source": [
    "merge_layer = model.layers[0]\n",
    "word_model = merge_layer.layers[0]\n",
    "word_embed_layer = word_model.layers[0]\n",
    "weights = word_embed_layer.get_weights()[0][1:]\n",
    "\n",
    "print(weights.shape)\n",
    "pd.DataFrame(weights, index=id2word.values()).head()"
   ]
  },
  {
   "cell_type": "markdown",
   "metadata": {},
   "source": [
    "\n",
    "\n",
    "<figure>\n",
    "<center>\n",
    "<img src=\"../Imagenes/incrustaciones_skip_gram.png\" width=\"600\" height=\"400\" align=\"center\"/>\n",
    "</center>\n",
    "</figure>\n",
    "\n",
    "Fuente: \n",
    "[Dipanjan (DJ) Sarkar](https://towardsdatascience.com/understanding-feature-engineering-part-4-deep-learning-methods-for-text-data-96c44370bbfa)"
   ]
  },
  {
   "cell_type": "markdown",
   "metadata": {},
   "source": [
    "## <span style=\"color:blue\">Calcula palabras similares</span>"
   ]
  },
  {
   "cell_type": "code",
   "execution_count": null,
   "metadata": {},
   "outputs": [],
   "source": [
    "from sklearn.metrics.pairwise import euclidean_distances\n",
    "\n",
    "distance_matrix = euclidean_distances(weights)\n",
    "print(distance_matrix.shape)\n",
    "\n",
    "similar_words = {search_term: [id2word[idx] for idx in distance_matrix[word2id[search_term]-1].argsort()[1:6]+1] \n",
    "                   for search_term in ['god', 'jesus', 'noah', 'egypt', 'john', 'gospel', 'moses','famine']}\n",
    "\n",
    "similar_words"
   ]
  },
  {
   "cell_type": "markdown",
   "metadata": {},
   "source": [
    "(12424, 12424)\n",
    "\n",
    "{'egypt': ['pharaoh', 'mighty', 'houses', 'kept', 'possess'],\n",
    "\n",
    " 'famine': ['rivers', 'foot', 'pestilence', 'wash', 'sabbaths'],\n",
    " \n",
    " 'god': ['evil', 'iniquity', 'none', 'mighty', 'mercy'],\n",
    " \n",
    " 'gospel': ['grace', 'shame', 'believed', 'verily', 'everlasting'],\n",
    " \n",
    " 'jesus': ['christ', 'faith', 'disciples', 'dead', 'say'],\n",
    " \n",
    " 'john': ['ghost', 'knew', 'peter', 'alone', 'master'],\n",
    " \n",
    " 'moses': ['commanded', 'offerings', 'kept', 'presence', 'lamb'],\n",
    " \n",
    " 'noah': ['flood', 'shem', 'peleg', 'abram', 'chose']}"
   ]
  },
  {
   "cell_type": "markdown",
   "metadata": {},
   "source": [
    "## <span style=\"color:blue\">Gráfico usando TSNE</span>"
   ]
  },
  {
   "cell_type": "code",
   "execution_count": null,
   "metadata": {},
   "outputs": [],
   "source": [
    "from sklearn.manifold import TSNE\n",
    "\n",
    "words = sum([[k] + v for k, v in similar_words.items()], [])\n",
    "words_ids = [word2id[w] for w in words]\n",
    "word_vectors = np.array([weights[idx] for idx in words_ids])\n",
    "print('Total words:', len(words), '\\tWord Embedding shapes:', word_vectors.shape)\n",
    "\n",
    "tsne = TSNE(n_components=2, random_state=0, n_iter=10000, perplexity=3)\n",
    "np.set_printoptions(suppress=True)\n",
    "T = tsne.fit_transform(word_vectors)\n",
    "labels = words\n",
    "\n",
    "plt.figure(figsize=(14, 8))\n",
    "plt.scatter(T[:, 0], T[:, 1], c='steelblue', edgecolors='k')\n",
    "for label, x, y in zip(labels, T[:, 0], T[:, 1]):\n",
    "    plt.annotate(label, xy=(x+1, y+1), xytext=(0, 0), textcoords='offset points')"
   ]
  },
  {
   "cell_type": "markdown",
   "metadata": {},
   "source": [
    "\n",
    "<figure>\n",
    "<center>\n",
    "<img src=\"../Imagenes/TSNK-Skip-gram.png\" width=\"600\" height=\"400\" align=\"center\"/>\n",
    "</center>\n",
    "<figcaption>\n",
    "<p style=\"text-align:center\">Grafico TSNE de palabras similares</p>\n",
    "</figcaption>\n",
    "</figure>\n",
    "\n",
    "Fuente: \n",
    "[Dipanjan (DJ) Sarkar](https://towardsdatascience.com/understanding-feature-engineering-part-4-deep-learning-methods-for-text-data-96c44370bbfa)"
   ]
  },
  {
   "cell_type": "markdown",
   "metadata": {},
   "source": [
    "## <span style=\"color:blue\">Gensim word2vec</span>"
   ]
  },
  {
   "cell_type": "code",
   "execution_count": 51,
   "metadata": {},
   "outputs": [
    {
     "data": {
      "text/plain": [
       "{'god': ['worldly', 'soberly', 'lord', 'godly', 'ever'],\n",
       " 'jesus': ['messias', 'peter', 'cross', 'james', 'apelles'],\n",
       " 'noah': ['shem', 'japheth', 'ham', 'enosh', 'kenan'],\n",
       " 'egypt': ['egyptians', 'pharaoh', 'bondage', 'rid', 'rod'],\n",
       " 'john': ['james', 'baptist', 'peter', 'devine', 'tetrarch'],\n",
       " 'gospel': ['christ', 'faith', 'afflictions', 'repentance', 'persecutions'],\n",
       " 'moses': ['children', 'congregation', 'aaron', 'joshua', 'ordinance'],\n",
       " 'famine': ['pestilence', 'peril', 'blasting', 'sword', 'mildew']}"
      ]
     },
     "execution_count": 51,
     "metadata": {},
     "output_type": "execute_result"
    }
   ],
   "source": [
    "from gensim.models import word2vec\n",
    "\n",
    "# tokenize sentences in corpus\n",
    "wpt = nltk.WordPunctTokenizer()\n",
    "tokenized_corpus = [wpt.tokenize(document) for document in norm_bible]\n",
    "\n",
    "# Set values for various parameters\n",
    "feature_size = 100    # Word vector dimensionality  \n",
    "window_context = 30          # Context window size                                                                                    \n",
    "min_word_count = 1   # Minimum word count                        \n",
    "sample = 1e-3   # Downsample setting for frequent words\n",
    "\n",
    "w2v_model = word2vec.Word2Vec(tokenized_corpus, size=feature_size, \n",
    "                          window=window_context, min_count=min_word_count,\n",
    "                          sample=sample, iter=50)\n",
    "\n",
    "# view similar words based on gensim's model\n",
    "similar_words = {search_term: [item[0] for item in w2v_model.wv.most_similar([search_term], topn=5)]\n",
    "                  for search_term in ['god', 'jesus', 'noah', 'egypt', 'john', 'gospel', 'moses','famine']}\n",
    "similar_words"
   ]
  },
  {
   "cell_type": "code",
   "execution_count": 52,
   "metadata": {},
   "outputs": [
    {
     "data": {
      "image/png": "[encoded data removed]",
      "text/plain": [
       "<Figure size 1008x576 with 1 Axes>"
      ]
     },
     "metadata": {
      "needs_background": "light"
     },
     "output_type": "display_data"
    }
   ],
   "source": [
    "from sklearn.manifold import TSNE\n",
    "\n",
    "words = sum([[k] + v for k, v in similar_words.items()], [])\n",
    "wvs = w2v_model.wv[words]\n",
    "\n",
    "tsne = TSNE(n_components=2, random_state=0, n_iter=10000, perplexity=2)\n",
    "np.set_printoptions(suppress=True)\n",
    "T = tsne.fit_transform(wvs)\n",
    "labels = words\n",
    "\n",
    "plt.figure(figsize=(14, 8))\n",
    "plt.scatter(T[:, 0], T[:, 1], c='orange', edgecolors='r')\n",
    "for label, x, y in zip(labels, T[:, 0], T[:, 1]):\n",
    "    plt.annotate(label, xy=(x+1, y+1), xytext=(0, 0), textcoords='offset points')"
   ]
  },
  {
   "cell_type": "markdown",
   "metadata": {},
   "source": [
    "## <span style=\"color:blue\">Aplicación a etiquetado automático de textos</span>"
   ]
  },
  {
   "cell_type": "code",
   "execution_count": null,
   "metadata": {},
   "outputs": [],
   "source": [
    "Para esta aplicación vamos a usar nuestro ejemplo de juguete."
   ]
  },
  {
   "cell_type": "code",
   "execution_count": 55,
   "metadata": {},
   "outputs": [],
   "source": [
    "# build word2vec model\n",
    "wpt = nltk.WordPunctTokenizer()\n",
    "tokenized_corpus = [wpt.tokenize(document) for document in norm_corpus]\n",
    "\n",
    "# Set values for various parameters\n",
    "feature_size = 10    # Word vector dimensionality  \n",
    "window_context = 10          # Context window size                                                                                    \n",
    "min_word_count = 1   # Minimum word count                        \n",
    "sample = 1e-3   # Downsample setting for frequent words\n",
    "\n",
    "w2v_model = word2vec.Word2Vec(tokenized_corpus, size=feature_size, \n",
    "                              window=window_context, min_count = min_word_count,\n",
    "                              sample=sample, iter=100)\n",
    "                              "
   ]
  },
  {
   "cell_type": "markdown",
   "metadata": {},
   "source": [
    "### <span style=\"color:#4CC9F0\">Visualiza incrustaciones</span>"
   ]
  },
  {
   "cell_type": "code",
   "execution_count": 56,
   "metadata": {},
   "outputs": [
    {
     "data": {
      "image/png": "[encoded data removed]",
      "text/plain": [
       "<Figure size 864x432 with 1 Axes>"
      ]
     },
     "metadata": {
      "needs_background": "light"
     },
     "output_type": "display_data"
    }
   ],
   "source": [
    "\n",
    "                              \n",
    "# visualize embeddings\n",
    "from sklearn.manifold import TSNE\n",
    "\n",
    "words = w2v_model.wv.index2word\n",
    "wvs = w2v_model.wv[words]\n",
    "\n",
    "tsne = TSNE(n_components=2, random_state=0, n_iter=5000, perplexity=2)\n",
    "np.set_printoptions(suppress=True)\n",
    "T = tsne.fit_transform(wvs)\n",
    "labels = words\n",
    "\n",
    "plt.figure(figsize=(12, 6))\n",
    "plt.scatter(T[:, 0], T[:, 1], c='orange', edgecolors='r')\n",
    "for label, x, y in zip(labels, T[:, 0], T[:, 1]):\n",
    "    plt.annotate(label, xy=(x+1, y+1), xytext=(0, 0), textcoords='offset points')"
   ]
  },
  {
   "cell_type": "markdown",
   "metadata": {},
   "source": [
    "Recuerde que nuestro corpus es extremadamente pequeño, por lo que para obtener incrustaciones de palabras significativas y para que el modelo obtenga más contexto y semántica, más datos ayudan.\n",
    "\n",
    "Ahora bien, ¿qué es una palabra incrustada en este escenario? \n",
    "\n",
    "Por lo general, es un vector denso para cada palabra, como se muestra en el siguiente ejemplo para la palabra *sky*."
   ]
  },
  {
   "cell_type": "code",
   "execution_count": 57,
   "metadata": {},
   "outputs": [
    {
     "data": {
      "text/plain": [
       "array([-0.02261146,  0.02863239, -0.04796803, -0.04033024,  0.04963837,\n",
       "        0.00975511,  0.00527302, -0.04298129,  0.02490452,  0.02038221],\n",
       "      dtype=float32)"
      ]
     },
     "execution_count": 57,
     "metadata": {},
     "output_type": "execute_result"
    }
   ],
   "source": [
    "w2v_model.wv['sky']"
   ]
  },
  {
   "cell_type": "markdown",
   "metadata": {},
   "source": [
    "Ahora suponga que quisiéramos agrupar los ocho documentos de nuestro corpus de juguetes, necesitaríamos obtener las incrustaciones de nivel de documento de cada una de las palabras presentes en cada documento. \n",
    "\n",
    "Una estrategia sería promediar las incrustaciones de palabras para cada palabra en un documento. \n",
    "\n",
    "Esta es una estrategia extremadamente útil y puede adoptar la misma para sus propios problemas. Apliquemos esto ahora en nuestro corpus para obtener características para cada documento."
   ]
  },
  {
   "cell_type": "code",
   "execution_count": null,
   "metadata": {},
   "outputs": [],
   "source": [
    "def average_word_vectors(words, model, vocabulary, num_features):\n",
    "    \n",
    "    feature_vector = np.zeros((num_features,),dtype=\"float64\")\n",
    "    nwords = 0.\n",
    "    \n",
    "    for word in words:\n",
    "        if word in vocabulary: \n",
    "            nwords = nwords + 1.\n",
    "            feature_vector = np.add(feature_vector, model[word])\n",
    "    \n",
    "    if nwords:\n",
    "        feature_vector = np.divide(feature_vector, nwords)\n",
    "        \n",
    "    return feature_vector\n",
    "    \n",
    "def averaged_word_vectorizer(corpus, model, num_features):\n",
    "    vocabulary = set(model.wv.index2word)\n",
    "    features = [average_word_vectors(tokenized_sentence, model, vocabulary, num_features)\n",
    "                    for tokenized_sentence in corpus]\n",
    "    return np.array(features)\n",
    "\n",
    "\n",
    "# recupera el incrustamientoa nivel de documento\n",
    "w2v_feature_array = averaged_word_vectorizer(corpus=tokenized_corpus, model=w2v_model, num_features=feature_size)\n",
    "          "
   ]
  },
  {
   "cell_type": "code",
   "execution_count": 62,
   "metadata": {},
   "outputs": [
    {
     "data": {
      "text/html": [
       "<div>\n",
       "<style scoped>\n",
       "    .dataframe tbody tr th:only-of-type {\n",
       "        vertical-align: middle;\n",
       "    }\n",
       "\n",
       "    .dataframe tbody tr th {\n",
       "        vertical-align: top;\n",
       "    }\n",
       "\n",
       "    .dataframe thead th {\n",
       "        text-align: right;\n",
       "    }\n",
       "</style>\n",
       "<table border=\"1\" class=\"dataframe\">\n",
       "  <thead>\n",
       "    <tr style=\"text-align: right;\">\n",
       "      <th></th>\n",
       "      <th>0</th>\n",
       "      <th>1</th>\n",
       "      <th>2</th>\n",
       "      <th>3</th>\n",
       "      <th>4</th>\n",
       "      <th>5</th>\n",
       "      <th>6</th>\n",
       "      <th>7</th>\n",
       "      <th>8</th>\n",
       "      <th>9</th>\n",
       "    </tr>\n",
       "  </thead>\n",
       "  <tbody>\n",
       "    <tr>\n",
       "      <th>0</th>\n",
       "      <td>0.003410</td>\n",
       "      <td>0.000640</td>\n",
       "      <td>-0.033249</td>\n",
       "      <td>-0.027940</td>\n",
       "      <td>0.009086</td>\n",
       "      <td>0.016739</td>\n",
       "      <td>-0.001130</td>\n",
       "      <td>-0.003688</td>\n",
       "      <td>0.003148</td>\n",
       "      <td>0.012419</td>\n",
       "    </tr>\n",
       "    <tr>\n",
       "      <th>1</th>\n",
       "      <td>0.007855</td>\n",
       "      <td>-0.009855</td>\n",
       "      <td>-0.020123</td>\n",
       "      <td>-0.010149</td>\n",
       "      <td>0.001781</td>\n",
       "      <td>0.016522</td>\n",
       "      <td>-0.006216</td>\n",
       "      <td>-0.003472</td>\n",
       "      <td>-0.007690</td>\n",
       "      <td>0.008691</td>\n",
       "    </tr>\n",
       "    <tr>\n",
       "      <th>2</th>\n",
       "      <td>0.003381</td>\n",
       "      <td>-0.001723</td>\n",
       "      <td>-0.015952</td>\n",
       "      <td>-0.008342</td>\n",
       "      <td>0.004348</td>\n",
       "      <td>-0.001745</td>\n",
       "      <td>0.023056</td>\n",
       "      <td>0.012036</td>\n",
       "      <td>0.015293</td>\n",
       "      <td>0.006381</td>\n",
       "    </tr>\n",
       "    <tr>\n",
       "      <th>3</th>\n",
       "      <td>0.007724</td>\n",
       "      <td>-0.004753</td>\n",
       "      <td>0.014649</td>\n",
       "      <td>-0.024434</td>\n",
       "      <td>0.010517</td>\n",
       "      <td>0.011342</td>\n",
       "      <td>0.011578</td>\n",
       "      <td>-0.031183</td>\n",
       "      <td>0.006504</td>\n",
       "      <td>0.010732</td>\n",
       "    </tr>\n",
       "    <tr>\n",
       "      <th>4</th>\n",
       "      <td>0.001606</td>\n",
       "      <td>-0.010687</td>\n",
       "      <td>0.011966</td>\n",
       "      <td>-0.003939</td>\n",
       "      <td>0.009683</td>\n",
       "      <td>0.013014</td>\n",
       "      <td>0.000181</td>\n",
       "      <td>-0.017332</td>\n",
       "      <td>0.006653</td>\n",
       "      <td>0.006743</td>\n",
       "    </tr>\n",
       "    <tr>\n",
       "      <th>5</th>\n",
       "      <td>0.002404</td>\n",
       "      <td>0.002423</td>\n",
       "      <td>-0.023853</td>\n",
       "      <td>-0.003063</td>\n",
       "      <td>0.007681</td>\n",
       "      <td>0.003784</td>\n",
       "      <td>0.025750</td>\n",
       "      <td>0.011553</td>\n",
       "      <td>0.016425</td>\n",
       "      <td>0.006381</td>\n",
       "    </tr>\n",
       "    <tr>\n",
       "      <th>6</th>\n",
       "      <td>0.006311</td>\n",
       "      <td>0.013330</td>\n",
       "      <td>-0.028168</td>\n",
       "      <td>-0.028394</td>\n",
       "      <td>0.023893</td>\n",
       "      <td>0.013247</td>\n",
       "      <td>0.007039</td>\n",
       "      <td>-0.005283</td>\n",
       "      <td>0.013501</td>\n",
       "      <td>0.012522</td>\n",
       "    </tr>\n",
       "    <tr>\n",
       "      <th>7</th>\n",
       "      <td>0.003561</td>\n",
       "      <td>0.006017</td>\n",
       "      <td>-0.020257</td>\n",
       "      <td>-0.003702</td>\n",
       "      <td>0.015033</td>\n",
       "      <td>-0.000151</td>\n",
       "      <td>0.032216</td>\n",
       "      <td>0.004933</td>\n",
       "      <td>0.021022</td>\n",
       "      <td>0.001736</td>\n",
       "    </tr>\n",
       "  </tbody>\n",
       "</table>\n",
       "</div>"
      ],
      "text/plain": [
       "          0         1         2         3         4         5         6  \\\n",
       "0  0.003410  0.000640 -0.033249 -0.027940  0.009086  0.016739 -0.001130   \n",
       "1  0.007855 -0.009855 -0.020123 -0.010149  0.001781  0.016522 -0.006216   \n",
       "2  0.003381 -0.001723 -0.015952 -0.008342  0.004348 -0.001745  0.023056   \n",
       "3  0.007724 -0.004753  0.014649 -0.024434  0.010517  0.011342  0.011578   \n",
       "4  0.001606 -0.010687  0.011966 -0.003939  0.009683  0.013014  0.000181   \n",
       "5  0.002404  0.002423 -0.023853 -0.003063  0.007681  0.003784  0.025750   \n",
       "6  0.006311  0.013330 -0.028168 -0.028394  0.023893  0.013247  0.007039   \n",
       "7  0.003561  0.006017 -0.020257 -0.003702  0.015033 -0.000151  0.032216   \n",
       "\n",
       "          7         8         9  \n",
       "0 -0.003688  0.003148  0.012419  \n",
       "1 -0.003472 -0.007690  0.008691  \n",
       "2  0.012036  0.015293  0.006381  \n",
       "3 -0.031183  0.006504  0.010732  \n",
       "4 -0.017332  0.006653  0.006743  \n",
       "5  0.011553  0.016425  0.006381  \n",
       "6 -0.005283  0.013501  0.012522  \n",
       "7  0.004933  0.021022  0.001736  "
      ]
     },
     "execution_count": 62,
     "metadata": {},
     "output_type": "execute_result"
    }
   ],
   "source": [
    "                          \n",
    "pp = pd.DataFrame(w2v_feature_array)\n",
    "pp"
   ]
  },
  {
   "cell_type": "markdown",
   "metadata": {},
   "source": [
    "Ahora que tenemos nuestras características para cada documento, agrupemos estos documentos utilizando el **algoritmo de propagación de afinidad**, que es un algoritmo de agrupación basado en el concepto de \"paso de mensajes\" entre puntos de datos y no necesita el número de agrupaciones como una entrada explícita que a menudo es requerido por algoritmos de agrupación en clústeres basadosen particiones."
   ]
  },
  {
   "cell_type": "code",
   "execution_count": 59,
   "metadata": {},
   "outputs": [
    {
     "data": {
      "text/html": [
       "<div>\n",
       "<style scoped>\n",
       "    .dataframe tbody tr th:only-of-type {\n",
       "        vertical-align: middle;\n",
       "    }\n",
       "\n",
       "    .dataframe tbody tr th {\n",
       "        vertical-align: top;\n",
       "    }\n",
       "\n",
       "    .dataframe thead th {\n",
       "        text-align: right;\n",
       "    }\n",
       "</style>\n",
       "<table border=\"1\" class=\"dataframe\">\n",
       "  <thead>\n",
       "    <tr style=\"text-align: right;\">\n",
       "      <th></th>\n",
       "      <th>Document</th>\n",
       "      <th>Category</th>\n",
       "      <th>ClusterLabel</th>\n",
       "    </tr>\n",
       "  </thead>\n",
       "  <tbody>\n",
       "    <tr>\n",
       "      <th>0</th>\n",
       "      <td>The sky is blue and beautiful.</td>\n",
       "      <td>weather</td>\n",
       "      <td>0</td>\n",
       "    </tr>\n",
       "    <tr>\n",
       "      <th>1</th>\n",
       "      <td>Love this blue and beautiful sky!</td>\n",
       "      <td>weather</td>\n",
       "      <td>0</td>\n",
       "    </tr>\n",
       "    <tr>\n",
       "      <th>2</th>\n",
       "      <td>The quick brown fox jumps over the lazy dog.</td>\n",
       "      <td>animals</td>\n",
       "      <td>2</td>\n",
       "    </tr>\n",
       "    <tr>\n",
       "      <th>3</th>\n",
       "      <td>A king's breakfast has sausages, ham, bacon, eggs, toast and beans</td>\n",
       "      <td>food</td>\n",
       "      <td>1</td>\n",
       "    </tr>\n",
       "    <tr>\n",
       "      <th>4</th>\n",
       "      <td>I love green eggs, ham, sausages and bacon!</td>\n",
       "      <td>food</td>\n",
       "      <td>1</td>\n",
       "    </tr>\n",
       "    <tr>\n",
       "      <th>5</th>\n",
       "      <td>The brown fox is quick and the blue dog is lazy!</td>\n",
       "      <td>animals</td>\n",
       "      <td>2</td>\n",
       "    </tr>\n",
       "    <tr>\n",
       "      <th>6</th>\n",
       "      <td>The sky is very blue and the sky is very beautiful today</td>\n",
       "      <td>weather</td>\n",
       "      <td>0</td>\n",
       "    </tr>\n",
       "    <tr>\n",
       "      <th>7</th>\n",
       "      <td>The dog is lazy but the brown fox is quick!</td>\n",
       "      <td>animals</td>\n",
       "      <td>2</td>\n",
       "    </tr>\n",
       "  </tbody>\n",
       "</table>\n",
       "</div>"
      ],
      "text/plain": [
       "                                                             Document  \\\n",
       "0                                      The sky is blue and beautiful.   \n",
       "1                                   Love this blue and beautiful sky!   \n",
       "2                        The quick brown fox jumps over the lazy dog.   \n",
       "3  A king's breakfast has sausages, ham, bacon, eggs, toast and beans   \n",
       "4                         I love green eggs, ham, sausages and bacon!   \n",
       "5                    The brown fox is quick and the blue dog is lazy!   \n",
       "6            The sky is very blue and the sky is very beautiful today   \n",
       "7                         The dog is lazy but the brown fox is quick!   \n",
       "\n",
       "  Category  ClusterLabel  \n",
       "0  weather             0  \n",
       "1  weather             0  \n",
       "2  animals             2  \n",
       "3     food             1  \n",
       "4     food             1  \n",
       "5  animals             2  \n",
       "6  weather             0  \n",
       "7  animals             2  "
      ]
     },
     "execution_count": 59,
     "metadata": {},
     "output_type": "execute_result"
    }
   ],
   "source": [
    "from sklearn.cluster import AffinityPropagation\n",
    "\n",
    "ap = AffinityPropagation()\n",
    "ap.fit(w2v_feature_array)\n",
    "cluster_labels = ap.labels_\n",
    "cluster_labels = pd.DataFrame(cluster_labels, columns=['ClusterLabel'])\n",
    "pd.concat([corpus_df, cluster_labels], axis=1)"
   ]
  },
  {
   "cell_type": "markdown",
   "metadata": {},
   "source": [
    "Finalmente hagamos un gráfico de los documentos usando un análisis de componentes principales (ACP)."
   ]
  },
  {
   "cell_type": "code",
   "execution_count": 60,
   "metadata": {},
   "outputs": [
    {
     "data": {
      "image/png": "[encoded data removed]",
      "text/plain": [
       "<Figure size 576x432 with 1 Axes>"
      ]
     },
     "metadata": {
      "needs_background": "light"
     },
     "output_type": "display_data"
    }
   ],
   "source": [
    "from sklearn.decomposition import PCA\n",
    "\n",
    "pca = PCA(n_components=2, random_state=0)\n",
    "pcs = pca.fit_transform(w2v_feature_array)\n",
    "labels = ap.labels_\n",
    "categories = list(corpus_df['Category'])\n",
    "plt.figure(figsize=(8, 6))\n",
    "\n",
    "for i in range(len(labels)):\n",
    "    label = labels[i]\n",
    "    color = 'orange' if label == 0 else 'blue' if label == 1 else 'green'\n",
    "    annotation_label = categories[i]\n",
    "    x, y = pcs[i]\n",
    "    plt.scatter(x, y, c=color, edgecolors='k')\n",
    "    plt.annotate(annotation_label, xy=(x+1e-4, y+1e-3), xytext=(0, 0), textcoords='offset points')\n"
   ]
  }
 ],
 "metadata": {
  "kernelspec": {
   "display_name": "Python 3 (ipykernel)",
   "language": "python",
   "name": "python3"
  },
  "language_info": {
   "codemirror_mode": {
    "name": "ipython",
    "version": 3
   },
   "file_extension": ".py",
   "mimetype": "text/x-python",
   "name": "python",
   "nbconvert_exporter": "python",
   "pygments_lexer": "ipython3",
   "version": "3.10.9"
  }
 },
 "nbformat": 4,
 "nbformat_minor": 4
}
