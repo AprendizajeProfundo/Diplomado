{
 "cells": [
  {
   "cell_type": "markdown",
   "id": "d236a3ed-6c09-4c07-b41a-a8d25f4cf2b1",
   "metadata": {
    "id": "70738fba-69a1-4e3b-aa2c-f9f62760ccde",
    "tags": []
   },
   "source": [
    "<figure>\n",
    "<img src=\"../Imagenes/logo-final-ap.png\"  width=\"80\" height=\"80\" align=\"left\"/> \n",
    "</figure>\n",
    "\n",
    "# <span style=\"color:blue\"><left>Aprendizaje Profundo</left></span>"
   ]
  },
  {
   "cell_type": "markdown",
   "id": "5c25e6e0-8e47-4379-ab26-a07a1e97932d",
   "metadata": {
    "id": "5afb0b25-2efb-4c7c-8dc8-e79a5c0dfd20"
   },
   "source": [
    "# <span style=\"color:red\"><center>Tareas del NLP y NLU Moderno </center></span>"
   ]
  },
  {
   "cell_type": "markdown",
   "id": "3ea15186-63fd-4a9b-b274-1a4d3a1c6d6f",
   "metadata": {
    "id": "1ec0b9e9-a7b5-4ee1-8690-8cdba1915b31",
    "tags": []
   },
   "source": [
    "<center>Taller de Aplicaciones y Emprendimiendo Empresarial</center>"
   ]
  },
  {
   "cell_type": "markdown",
   "id": "befb6aef-d2eb-40ac-a332-9bedfa8bd765",
   "metadata": {
    "id": "078227fa-9552-40e0-b190-d60c51fcd9fa",
    "tags": []
   },
   "source": [
    "##   <span style=\"color:blue\">Profesores</span>"
   ]
  },
  {
   "cell_type": "markdown",
   "id": "787b6896-b4ad-4740-8446-306b33912854",
   "metadata": {
    "id": "299e4cbf-2708-4983-b9f2-78b2c7411781"
   },
   "source": [
    "### Coordinador\n"
   ]
  },
  {
   "cell_type": "markdown",
   "id": "a3c7c345-0a3a-4090-8d1c-3f3d7f759845",
   "metadata": {
    "id": "a417d00c-282d-46ac-b35c-d96d110a75f9"
   },
   "source": [
    "- Campo Elías Pardo Turriago, cepardot@unal.edu.co "
   ]
  },
  {
   "cell_type": "markdown",
   "id": "bac68e32-3c9a-468d-8122-bfac169cd747",
   "metadata": {
    "id": "e73ab34b-930a-4eb1-a1c6-f0cd0a482268"
   },
   "source": [
    "### Conferencistas\n"
   ]
  },
  {
   "cell_type": "markdown",
   "id": "9ebb8673-0b96-4b07-b16e-87f1e8d1fefa",
   "metadata": {
    "id": "270fb093-4981-47fa-b6b2-3ef13f3af169"
   },
   "source": [
    "- Alvaro  Montenegro, PhD, ammontenegrod@unal.edu.co\n",
    "- Daniel  Montenegro, Msc, dextronomo@gmail.com \n",
    "- Oleg Jarma, Estadístico, ojarmam@unal.edu.co "
   ]
  },
  {
   "cell_type": "markdown",
   "id": "9d399313-c4f9-45ab-827f-d3ed59aaa93b",
   "metadata": {
    "id": "80f0c8ee-ed3d-437b-94d9-f7eb19705cc0"
   },
   "source": [
    "## <span style=\"color:blue\">Asesora Medios y Marketing digital</span>"
   ]
  },
  {
   "cell_type": "markdown",
   "id": "1a5157c2-cf5b-4614-b668-d1c6bde1cbb9",
   "metadata": {
    "id": "b1e048e8-1917-47ee-94c7-3a7caa684248"
   },
   "source": [
    "- Maria del Pilar Montenegro, pmontenegro88@gmail.com \n",
    "\n"
   ]
  },
  {
   "cell_type": "markdown",
   "id": "489d485f-5ead-416f-a3f0-da172843706a",
   "metadata": {
    "id": "a9d61440-7718-49e7-a18d-2cdd1376af34"
   },
   "source": [
    "## <span style=\"color:blue\">Asistentes</span>\n",
    "\n"
   ]
  },
  {
   "cell_type": "markdown",
   "id": "66f39590-3c04-401d-a39b-c40b10587251",
   "metadata": {
    "id": "e7f2e2e0-ffe8-4804-a4c9-bd091393178b"
   },
   "source": [
    "- Nayibe Yesenia Arias, naariasc@unal.edu.co\n",
    "- Venus Celeste Puertas, vpuertasg@unal.edu.co "
   ]
  },
  {
   "cell_type": "markdown",
   "id": "dcc10112-90de-47be-9053-0d4dc1bdd5c7",
   "metadata": {
    "id": "d84f8fe5-a030-4f6a-a646-43720d71d07e",
    "tags": []
   },
   "source": [
    "## <span style=\"color:blue\">Referencias</span>"
   ]
  },
  {
   "cell_type": "markdown",
   "id": "2b1d5d6c-ef80-41b3-b77b-62a16c2dc4c8",
   "metadata": {
    "id": "b2170d85-0a48-40b0-b392-11da2231bc5c"
   },
   "source": [
    "1. [Topic Modeling with BERT](https://towardsdatascience.com/topic-modeling-with-bert-779f7db187e6), Maarten Grootendorst, Towards Data Science\n",
    "1. [Creating a class-based TF-IDF with Scikit-Learn](https://towardsdatascience.com/creating-a-class-based-tf-idf-with-scikit-learn-caea7b15b858), Maarten Grootendorst, Towards Data Science\n",
    "1. [BERTopic: Neural topic modeling with a class-based TF-IDF procedure](https://arxiv.org/pdf/2203.05794.pdf), Maarten Grootendorst, Marzo 11 de 2022\n",
    "1. [TOP2VEC: DISTRIBUTED REPRESENTATIONS OF TOPICS](https://arxiv.org/abs/2008.09470), Dimo Angelov, Agosto 2020\n",
    "1. [Pre-training is a Hot Topic: Contextualized Document Embeddings Improve Topic Coherence](https://aclanthology.org/2021.acl-short.96/), Bianchi et al., 2021\n",
    "1. [Cross-lingual Contextualized Topic Models with Zero-shot Learning](https://aclanthology.org/2021.eacl-main.143.pdf), Bianchi et at., Abril 2021\n",
    "1. [Abstractive Summarization Using Pytorch](https://towardsdatascience.com/abstractive-summarization-using-pytorch-f5063e67510), Raymond Cheng, Towards Data Science\n",
    "1. [Topic Modeling Articles with NMF](https://towardsdatascience.com/topic-modeling-articles-with-nmf-8c6b2a227a45), Rob Salgado, Abril 26 de 2020\n",
    "1. [UMAP: Uniform Manifold Approximation and Projection for Dimension Reduction](https://arxiv.org/pdf/1802.03426.pdf)\n",
    "1. [Dimensionality Reduction for Data Visualization: PCA vs TSNE vs UMAP vs LDA](https://towardsdatascience.com/dimensionality-reduction-for-data-visualization-pca-vs-tsne-vs-umap-be4aa7b1cb29)\n",
    "1. [Understanding HDBSCAN and Density-Based Clustering](https://pberba.github.io/stats/2020/01/17/hdbscan/)\n",
    "1. [How To Tune HDBSCAN](https://towardsdatascience.com/tuning-with-hdbscan-149865ac2970)\n",
    "1. [Abstractive Summarization Using Pytorch](https://towardsdatascience.com/abstractive-summarization-using-pytorch-f5063e67510)\n",
    "1. [Simple abstractive text summarization with pretrained T5 — Text-To-Text Transfer Transformer](https://towardsdatascience.com/simple-abstractive-text-summarization-with-pretrained-t5-text-to-text-transfer-transformer-10f6d602c426)\n",
    "1. [Aprendizaje Profundo-Diplomado](https://github.com/AprendizajeProfundo/Diplomado)\n",
    "1. [Aprendizaje Profundo-PLN](https://github.com/AprendizajeProfundo/PLN)\n",
    "1. [Ashish Vaswani et al.,   Attention Is All You Need](https://arxiv.org/pdf/1706.03762.pdf), diciembre 2017.\n",
    "1. [Dennis Rothman, Transformers for Natural Language processing](http://libgen.rs/search.php?req=Transformers+for+Natural+Language+processing&open=0&res=25&view=simple&phrase=1&column=def), enero 2021.\n",
    "1.[ Varios,  Dive into deep learning](https://d2l.ai/), enero 2021"
   ]
  },
  {
   "cell_type": "markdown",
   "id": "6b9cf0b8-0081-4bcc-8fcf-c9e643ef67df",
   "metadata": {
    "id": "a8844c02-b7d1-4411-8527-2ce9540931ba",
    "tags": []
   },
   "source": [
    "## <span style=\"color:blue\">Contenido</span>"
   ]
  },
  {
   "cell_type": "markdown",
   "id": "5261cd49-b842-48de-b356-d11c62384508",
   "metadata": {
    "id": "0d039813-8987-4e8e-9df5-1cf8344aeb6f",
    "origin_pos": 0
   },
   "source": [
    "* [Introducción](#Introducción)\n",
    "* [BERTopic](#BERTopic)\n",
    "* [Resúmenes](#Resúmenes)\n",
    "* [Traducción](#Traducción)\n",
    "* [Consulta a Base de Datos](#Consulta-a-Base-de-Datos)\n",
    "* [Sistemas de Pregunta y Respuesta](#Sistemas-de-Pregunta-y-Respuesta)\n",
    "* [Asistente Virtual](#Asistente-Virtual)\n",
    "* [Clasificación de Tokens](#Clasificación-de-Tokens)"
   ]
  },
  {
   "cell_type": "markdown",
   "id": "fc821207-79e7-4ec6-b0db-5cb79411323d",
   "metadata": {
    "id": "0b4dfef6-d2b8-433f-a7c7-1a20bd4e2c2a"
   },
   "source": [
    "[[Volver]](#Contenido)"
   ]
  },
  {
   "cell_type": "markdown",
   "id": "98f25083-e7ff-4b47-8a51-148d409484a1",
   "metadata": {
    "id": "a8844c02-b7d1-4411-8527-2ce9540931ba",
    "tags": []
   },
   "source": [
    "## <span style=\"color:blue\">Introducción</span>"
   ]
  },
  {
   "cell_type": "markdown",
   "id": "091f81de-c06c-48ca-8fa9-d2e387751419",
   "metadata": {},
   "source": [
    "Ahora que hemos estudiado las partes teóricas del Transformer y sus variantes codificadoras (BERT, RoBERTa, XLNet, etc...), es momento de poner en práctica algunas de sus aplicaciones.\n",
    "\n",
    "En lo que sigue, presentaremos todas aquellas tareas imaginables para estos modelos y algunas ideas de negocio empresarial.\n",
    "\n",
    "La mayoría de las tareas están basadas en lo enontrable dentro de 🤗 Hub."
   ]
  },
  {
   "cell_type": "markdown",
   "id": "f7c3f865-9333-4a02-991d-f4dbd15c3541",
   "metadata": {
    "id": "0b4dfef6-d2b8-433f-a7c7-1a20bd4e2c2a"
   },
   "source": [
    "[[Volver]](#Contenido)"
   ]
  },
  {
   "cell_type": "markdown",
   "id": "86793bf0-9c3a-4411-8e48-ad69d2c531e5",
   "metadata": {
    "id": "a8844c02-b7d1-4411-8527-2ce9540931ba",
    "tags": []
   },
   "source": [
    "## <span style=\"color:blue\">BERTopic</span>"
   ]
  },
  {
   "cell_type": "markdown",
   "id": "ee596803-735d-4f63-bad6-8871553ecd4c",
   "metadata": {},
   "source": [
    "![clust](../Imagenes/BERT_clustering.png)\n",
    "\n",
    "Fuente: [Topic Modeling with BERT](https://towardsdatascience.com/topic-modeling-with-bert-779f7db187e6)"
   ]
  },
  {
   "cell_type": "markdown",
   "id": "f295c8bf-3d5c-4c83-9eef-25072bf124c5",
   "metadata": {
    "id": "a8844c02-b7d1-4411-8527-2ce9540931ba",
    "tags": []
   },
   "source": [
    "### <span style=\"color:blue\">Modelos</span>"
   ]
  },
  {
   "cell_type": "markdown",
   "id": "51e01977-a42a-49d6-a5c4-41c9e39c9424",
   "metadata": {},
   "source": [
    "El área de Topic Modelling fue monopolizado por la técnica LDA (Latent Dirichlet Allocation) durante varios años. Y con razón, porque su clasificación fuzzy, lo hace muy rentable para entender textos y sus temáticas subyacentes.\n",
    "\n",
    "El gran defecto de esta gran técnica es el hecho de que su interpretación es bastante difícil y como sus inputs están basados en BoW o a lo más TF-IDF, los embeddings internos no logran capturar relaciones sintácticas y semánticas del lenguaje.\n",
    "\n",
    "Con el surgimiento de BERT y Sentence-BERT, el paradigma ha cambiado un poco: El modelamiento de tópicos se desprende del proceso de agrupamiento, lo cual hace que los procesos puedan ser dinámicos.\n",
    "\n",
    "En esta sección veremos cómo usar estos poderosos embeddings para producir temáticas coherentes en un corpus de datos y su evolución en el tiempo.\n",
    "\n",
    "Actualmente, existen varios modelos en competencia:\n",
    "\n",
    "Clásicos:\n",
    "\n",
    "- [LDA](https://radimrehurek.com/gensim/models/ldamodel.html)\n",
    "- [NMF](https://towardsdatascience.com/topic-modeling-articles-with-nmf-8c6b2a227a45)\n",
    "\n",
    "Neuronales:\n",
    "\n",
    "- [Top2Vec](https://github.com/ddangelov/Top2Vec)\n",
    "- [Combined TM (CTM)](https://github.com/MilaNLProc/contextualized-topic-models)\n",
    "- [BERTopic](https://github.com/MaartenGr/BERTopic)\n",
    "\n",
    "\n",
    "Aunque los modelos de temas como LDA y NMF han demostrado ser buenos puntos de partida, se necesita bastante esfuerzo del ajuste de hiperparámetros para crear temas significativos.\n",
    "\n",
    "Por tanto, cada modelo tiene grandes ventajas y desventajas.\n",
    "\n",
    "En esta ocasión, nos centramos en **BERTopic**, que parece ser una especie de SOTA en el área.\n",
    "\n",
    "Según el autor de BERTopic,\n",
    "\n",
    "*\"Empecé a mirar el código para generalizar Top2Vec de modo que pudiera usarse con modelos de transformadores previamente entrenados.\"*\n",
    "\n",
    "Sin embargo, si vamos al GitHub de Top2Vec, ya hay implementación de Transformers. Como las metodologías variaron, se generaron los líneas importantes de investigación, como veremos adelante.\n",
    "\n",
    "El gran problema de implementar estos métodos con BERT es que este modelo devuelve embeddings por token, pero para modelar tópicos sobre documentos, necesitamos hacer embeddings de buena calidad de frases o párrafos completos.\n",
    "\n",
    "La clave de la solución es basarse en Sentence-BERT, modelos construídos desde el inicio para este fin, usando redes siamesas."
   ]
  },
  {
   "cell_type": "markdown",
   "id": "d82ea318-197a-4b25-9e06-3f23a3bb2c8f",
   "metadata": {
    "id": "a8844c02-b7d1-4411-8527-2ce9540931ba",
    "tags": []
   },
   "source": [
    "### <span style=\"color:blue\">Datos</span>"
   ]
  },
  {
   "cell_type": "markdown",
   "id": "91ae126b-7b44-4f30-af2c-0b41c7be4203",
   "metadata": {},
   "source": [
    "Veamos el conjunto de datos a usar:"
   ]
  },
  {
   "cell_type": "code",
   "execution_count": 7,
   "id": "5a13a97f-3877-4d51-98ef-79e5031f5e36",
   "metadata": {},
   "outputs": [],
   "source": [
    "from sklearn.datasets import fetch_20newsgroups\n",
    "data = fetch_20newsgroups(subset='all')['data']"
   ]
  },
  {
   "cell_type": "markdown",
   "id": "d32b34f9-e587-48a0-a1f1-6e7b0047e86e",
   "metadata": {},
   "source": [
    "El conjunto de datos de 20 grupos de noticias es una colección de aproximadamente 20.000 documentos de grupos de noticias, divididos (casi) uniformemente en 20 grupos de noticias diferentes. Hasta donde yo sé, Ken Lang lo recopiló originalmente, probablemente para su [Newsweeder: Learning to filter netnews](https://www.sciencedirect.com/science/article/pii/B9781558603776500487), aunque no menciona explícitamente esta colección. La colección de 20 grupos de noticias se ha convertido en un conjunto de datos popular para experimentos en aplicaciones de texto de técnicas de aprendizaje automático, como clasificación de texto y agrupación de texto."
   ]
  },
  {
   "cell_type": "markdown",
   "id": "582f2785-ee82-4a91-b2b2-3eeab27f0f9a",
   "metadata": {
    "id": "a8844c02-b7d1-4411-8527-2ce9540931ba",
    "tags": []
   },
   "source": [
    "### <span style=\"color:blue\">Exploración de Datos</span>"
   ]
  },
  {
   "cell_type": "code",
   "execution_count": 34,
   "id": "1c0cbab9-7b5d-420f-840f-7408aae5cb21",
   "metadata": {},
   "outputs": [
    {
     "data": {
      "application/vnd.jupyter.widget-view+json": {
       "model_id": "a2ba192850ec4ce790744f77164f3416",
       "version_major": 2,
       "version_minor": 0
      },
      "text/plain": [
       "Downloading:   0%|          | 0.00/333 [00:00<?, ?B/s]"
      ]
     },
     "metadata": {},
     "output_type": "display_data"
    },
    {
     "data": {
      "application/vnd.jupyter.widget-view+json": {
       "model_id": "e4f2506e4bf44b798dd86d5b45bd773a",
       "version_major": 2,
       "version_minor": 0
      },
      "text/plain": [
       "Downloading:   0%|          | 0.00/780k [00:00<?, ?B/s]"
      ]
     },
     "metadata": {},
     "output_type": "display_data"
    },
    {
     "data": {
      "application/vnd.jupyter.widget-view+json": {
       "model_id": "f3ca6f8ef0a44ea2a549977ba281a4e5",
       "version_major": 2,
       "version_minor": 0
      },
      "text/plain": [
       "Downloading:   0%|          | 0.00/446k [00:00<?, ?B/s]"
      ]
     },
     "metadata": {},
     "output_type": "display_data"
    },
    {
     "data": {
      "application/vnd.jupyter.widget-view+json": {
       "model_id": "96dcae25be734132950dba4af747cb87",
       "version_major": 2,
       "version_minor": 0
      },
      "text/plain": [
       "Downloading:   0%|          | 0.00/1.29M [00:00<?, ?B/s]"
      ]
     },
     "metadata": {},
     "output_type": "display_data"
    },
    {
     "data": {
      "application/vnd.jupyter.widget-view+json": {
       "model_id": "a7706b8778c1458c887857030cff8c81",
       "version_major": 2,
       "version_minor": 0
      },
      "text/plain": [
       "Downloading:   0%|          | 0.00/239 [00:00<?, ?B/s]"
      ]
     },
     "metadata": {},
     "output_type": "display_data"
    },
    {
     "data": {
      "text/html": [
       "<div>\n",
       "<style scoped>\n",
       "    .dataframe tbody tr th:only-of-type {\n",
       "        vertical-align: middle;\n",
       "    }\n",
       "\n",
       "    .dataframe tbody tr th {\n",
       "        vertical-align: top;\n",
       "    }\n",
       "\n",
       "    .dataframe thead th {\n",
       "        text-align: right;\n",
       "    }\n",
       "</style>\n",
       "<table border=\"1\" class=\"dataframe\">\n",
       "  <thead>\n",
       "    <tr style=\"text-align: right;\">\n",
       "      <th></th>\n",
       "      <th>Text</th>\n",
       "      <th>Num_palabras</th>\n",
       "      <th>Num_Tokens</th>\n",
       "    </tr>\n",
       "  </thead>\n",
       "  <tbody>\n",
       "    <tr>\n",
       "      <th>13973</th>\n",
       "      <td>From: jaeger@buphy.bu.edu (Gregg Jaeger)\\nSubj...</td>\n",
       "      <td>453</td>\n",
       "      <td>512</td>\n",
       "    </tr>\n",
       "    <tr>\n",
       "      <th>4302</th>\n",
       "      <td>From: perry@dsinc.com (Jim Perry)\\nSubject: Re...</td>\n",
       "      <td>632</td>\n",
       "      <td>512</td>\n",
       "    </tr>\n",
       "    <tr>\n",
       "      <th>4329</th>\n",
       "      <td>From: lundby@rtsg.mot.com (Walter F. Lundby)\\n...</td>\n",
       "      <td>292</td>\n",
       "      <td>512</td>\n",
       "    </tr>\n",
       "    <tr>\n",
       "      <th>4328</th>\n",
       "      <td>From: uni@acs.bu.edu (Shaen Bernhardt)\\nSubjec...</td>\n",
       "      <td>364</td>\n",
       "      <td>512</td>\n",
       "    </tr>\n",
       "    <tr>\n",
       "      <th>15655</th>\n",
       "      <td>Subject: good book\\nFrom: RGINZBERG@eagle.wesl...</td>\n",
       "      <td>280</td>\n",
       "      <td>512</td>\n",
       "    </tr>\n",
       "    <tr>\n",
       "      <th>...</th>\n",
       "      <td>...</td>\n",
       "      <td>...</td>\n",
       "      <td>...</td>\n",
       "    </tr>\n",
       "    <tr>\n",
       "      <th>984</th>\n",
       "      <td>From: news@news.claremont.edu (The News System...</td>\n",
       "      <td>19</td>\n",
       "      <td>48</td>\n",
       "    </tr>\n",
       "    <tr>\n",
       "      <th>18471</th>\n",
       "      <td>From: rj3s@Virginia.EDU (\"Get thee to a nunner...</td>\n",
       "      <td>19</td>\n",
       "      <td>46</td>\n",
       "    </tr>\n",
       "    <tr>\n",
       "      <th>16653</th>\n",
       "      <td>From: Edwin Gans\\nSubject: Atheism\\nNntp-Posti...</td>\n",
       "      <td>12</td>\n",
       "      <td>45</td>\n",
       "    </tr>\n",
       "    <tr>\n",
       "      <th>10877</th>\n",
       "      <td>From: hl7204@eehp22 (H L)\\nSubject: Re: Graphi...</td>\n",
       "      <td>17</td>\n",
       "      <td>44</td>\n",
       "    </tr>\n",
       "    <tr>\n",
       "      <th>864</th>\n",
       "      <td>From: swdwan@napier.uwaterloo.ca (Donald Wan)\\...</td>\n",
       "      <td>15</td>\n",
       "      <td>44</td>\n",
       "    </tr>\n",
       "  </tbody>\n",
       "</table>\n",
       "<p>18846 rows × 3 columns</p>\n",
       "</div>"
      ],
      "text/plain": [
       "                                                    Text  ...  Num_Tokens\n",
       "13973  From: jaeger@buphy.bu.edu (Gregg Jaeger)\\nSubj...  ...         512\n",
       "4302   From: perry@dsinc.com (Jim Perry)\\nSubject: Re...  ...         512\n",
       "4329   From: lundby@rtsg.mot.com (Walter F. Lundby)\\n...  ...         512\n",
       "4328   From: uni@acs.bu.edu (Shaen Bernhardt)\\nSubjec...  ...         512\n",
       "15655  Subject: good book\\nFrom: RGINZBERG@eagle.wesl...  ...         512\n",
       "...                                                  ...  ...         ...\n",
       "984    From: news@news.claremont.edu (The News System...  ...          48\n",
       "18471  From: rj3s@Virginia.EDU (\"Get thee to a nunner...  ...          46\n",
       "16653  From: Edwin Gans\\nSubject: Atheism\\nNntp-Posti...  ...          45\n",
       "10877  From: hl7204@eehp22 (H L)\\nSubject: Re: Graphi...  ...          44\n",
       "864    From: swdwan@napier.uwaterloo.ca (Donald Wan)\\...  ...          44\n",
       "\n",
       "[18846 rows x 3 columns]"
      ]
     },
     "execution_count": 34,
     "metadata": {},
     "output_type": "execute_result"
    }
   ],
   "source": [
    "# Convertir textos en dataframe\n",
    "data_df = pd.DataFrame(data,columns=['Text'])\n",
    "# Contar númeor de palabras\n",
    "data_df['Num_palabras'] = data_df['Text'].str.split().str.len()\n",
    "\n",
    "# Cargr librería transformers\n",
    "from transformers import AutoTokenizer\n",
    "# Cargar tokenizador\n",
    "tokenizer = AutoTokenizer.from_pretrained('sentence-transformers/all-distilroberta-v1')\n",
    "# Analizar número de Tokens\n",
    "data_df['Num_Tokens'] = data_df['Text'].apply(lambda txt: len(tokenizer(txt, padding=True, truncation=True, return_tensors='pt').input_ids[0]))\n",
    "data_df.sort_values(by='Num_Tokens',ascending=False)"
   ]
  },
  {
   "cell_type": "markdown",
   "id": "0e17b9d5-734b-4239-a1a3-f76dfb745ab9",
   "metadata": {},
   "source": [
    "Procedemos ahora a crear los embeddings de las sentencias:\n",
    "\n",
    "(Es mejor usar GPU para el proceso. En un computador regular sin GPU puede tardar cerca de 1 hora)."
   ]
  },
  {
   "cell_type": "markdown",
   "id": "040dae38-bac0-46c7-a66a-55c8c4b8080e",
   "metadata": {
    "id": "a8844c02-b7d1-4411-8527-2ce9540931ba",
    "tags": []
   },
   "source": [
    "### <span style=\"color:blue\">Embeddings</span>"
   ]
  },
  {
   "cell_type": "code",
   "execution_count": 35,
   "id": "3e6c6c29-f362-4da0-947c-b79cdb7cc4c7",
   "metadata": {},
   "outputs": [
    {
     "data": {
      "application/vnd.jupyter.widget-view+json": {
       "model_id": "5f0f80ef149244a6879425b127134ba3",
       "version_major": 2,
       "version_minor": 0
      },
      "text/plain": [
       "Downloading:   0%|          | 0.00/737 [00:00<?, ?B/s]"
      ]
     },
     "metadata": {},
     "output_type": "display_data"
    },
    {
     "data": {
      "application/vnd.jupyter.widget-view+json": {
       "model_id": "83bc61b05dff4ea9a6c2cafa7308983e",
       "version_major": 2,
       "version_minor": 0
      },
      "text/plain": [
       "Downloading:   0%|          | 0.00/190 [00:00<?, ?B/s]"
      ]
     },
     "metadata": {},
     "output_type": "display_data"
    },
    {
     "data": {
      "application/vnd.jupyter.widget-view+json": {
       "model_id": "a18d6379cd374a17a0a5a636b0e283a8",
       "version_major": 2,
       "version_minor": 0
      },
      "text/plain": [
       "Downloading:   0%|          | 0.00/9.86k [00:00<?, ?B/s]"
      ]
     },
     "metadata": {},
     "output_type": "display_data"
    },
    {
     "data": {
      "application/vnd.jupyter.widget-view+json": {
       "model_id": "90fe0c38df8c43cc81f257d0a4b63e15",
       "version_major": 2,
       "version_minor": 0
      },
      "text/plain": [
       "Downloading:   0%|          | 0.00/653 [00:00<?, ?B/s]"
      ]
     },
     "metadata": {},
     "output_type": "display_data"
    },
    {
     "data": {
      "application/vnd.jupyter.widget-view+json": {
       "model_id": "eb19b9b3e07c42de890e5a7e620cc214",
       "version_major": 2,
       "version_minor": 0
      },
      "text/plain": [
       "Downloading:   0%|          | 0.00/116 [00:00<?, ?B/s]"
      ]
     },
     "metadata": {},
     "output_type": "display_data"
    },
    {
     "data": {
      "application/vnd.jupyter.widget-view+json": {
       "model_id": "990e7d9d07614579b134f695729c1cb0",
       "version_major": 2,
       "version_minor": 0
      },
      "text/plain": [
       "Downloading:   0%|          | 0.00/15.7k [00:00<?, ?B/s]"
      ]
     },
     "metadata": {},
     "output_type": "display_data"
    },
    {
     "data": {
      "application/vnd.jupyter.widget-view+json": {
       "model_id": "deb0131ccb3141f9b7b828c0224a5bdb",
       "version_major": 2,
       "version_minor": 0
      },
      "text/plain": [
       "Downloading:   0%|          | 0.00/456k [00:00<?, ?B/s]"
      ]
     },
     "metadata": {},
     "output_type": "display_data"
    },
    {
     "data": {
      "application/vnd.jupyter.widget-view+json": {
       "model_id": "1f2e6b27faf342d7b77de0963abf2a68",
       "version_major": 2,
       "version_minor": 0
      },
      "text/plain": [
       "Downloading:   0%|          | 0.00/349 [00:00<?, ?B/s]"
      ]
     },
     "metadata": {},
     "output_type": "display_data"
    },
    {
     "data": {
      "application/vnd.jupyter.widget-view+json": {
       "model_id": "9494cdb9806c4b4b9e59b4a7828091f2",
       "version_major": 2,
       "version_minor": 0
      },
      "text/plain": [
       "Downloading:   0%|          | 0.00/329M [00:00<?, ?B/s]"
      ]
     },
     "metadata": {},
     "output_type": "display_data"
    },
    {
     "data": {
      "application/vnd.jupyter.widget-view+json": {
       "model_id": "75e0e66c49c74234b866dadb8130d818",
       "version_major": 2,
       "version_minor": 0
      },
      "text/plain": [
       "Downloading:   0%|          | 0.00/53.0 [00:00<?, ?B/s]"
      ]
     },
     "metadata": {},
     "output_type": "display_data"
    },
    {
     "data": {
      "application/vnd.jupyter.widget-view+json": {
       "model_id": "d3ecaf752ced4241b8a24d49bc908b8a",
       "version_major": 2,
       "version_minor": 0
      },
      "text/plain": [
       "Downloading:   0%|          | 0.00/239 [00:00<?, ?B/s]"
      ]
     },
     "metadata": {},
     "output_type": "display_data"
    },
    {
     "data": {
      "application/vnd.jupyter.widget-view+json": {
       "model_id": "240b24f42aa64d5ab8de5a8076f56a28",
       "version_major": 2,
       "version_minor": 0
      },
      "text/plain": [
       "Downloading:   0%|          | 0.00/1.36M [00:00<?, ?B/s]"
      ]
     },
     "metadata": {},
     "output_type": "display_data"
    },
    {
     "data": {
      "application/vnd.jupyter.widget-view+json": {
       "model_id": "aa0fb1fcc3dd49209f1519743d9182bb",
       "version_major": 2,
       "version_minor": 0
      },
      "text/plain": [
       "Downloading:   0%|          | 0.00/333 [00:00<?, ?B/s]"
      ]
     },
     "metadata": {},
     "output_type": "display_data"
    },
    {
     "data": {
      "application/vnd.jupyter.widget-view+json": {
       "model_id": "a21710f4f5ca483a8beedd18ee250616",
       "version_major": 2,
       "version_minor": 0
      },
      "text/plain": [
       "Downloading:   0%|          | 0.00/13.1k [00:00<?, ?B/s]"
      ]
     },
     "metadata": {},
     "output_type": "display_data"
    },
    {
     "data": {
      "application/vnd.jupyter.widget-view+json": {
       "model_id": "46e049b1acae4b95a863dfd983380b45",
       "version_major": 2,
       "version_minor": 0
      },
      "text/plain": [
       "Downloading:   0%|          | 0.00/798k [00:00<?, ?B/s]"
      ]
     },
     "metadata": {},
     "output_type": "display_data"
    },
    {
     "data": {
      "application/vnd.jupyter.widget-view+json": {
       "model_id": "817b605adad6435689640029ee0b07b9",
       "version_major": 2,
       "version_minor": 0
      },
      "text/plain": [
       "Batches:   0%|          | 0/589 [00:00<?, ?it/s]"
      ]
     },
     "metadata": {},
     "output_type": "display_data"
    }
   ],
   "source": [
    "from sentence_transformers import SentenceTransformer\n",
    "model = SentenceTransformer('all-distilroberta-v1')\n",
    "embeddings = model.encode(data, show_progress_bar=True)"
   ]
  },
  {
   "cell_type": "markdown",
   "id": "5ab39e02-ba99-4c82-a45c-14a803b650da",
   "metadata": {
    "id": "a8844c02-b7d1-4411-8527-2ce9540931ba",
    "tags": []
   },
   "source": [
    "### <span style=\"color:blue\">Guardar Embedding</span>"
   ]
  },
  {
   "cell_type": "markdown",
   "id": "5d926ac8-304c-4de3-bcaf-6e6c38f4c8b6",
   "metadata": {},
   "source": [
    "Guardemos el embedding para evitar re-procesos:"
   ]
  },
  {
   "cell_type": "code",
   "execution_count": 37,
   "id": "614dde69-2cd0-4062-9203-49587457f02c",
   "metadata": {},
   "outputs": [],
   "source": [
    "import os\n",
    "os.makedirs('../Datos/BERTopic',exist_ok=True)\n",
    "pd.DataFrame(embeddings).to_pickle('../Datos/BERTopic/Embedding_fetch_20newsgroups_all-distilroberta-v1')"
   ]
  },
  {
   "cell_type": "markdown",
   "id": "cfa97711-744e-4e8c-92e4-a0626ddfd371",
   "metadata": {
    "id": "a8844c02-b7d1-4411-8527-2ce9540931ba",
    "tags": []
   },
   "source": [
    "### <span style=\"color:blue\">Cargar Embedding</span>"
   ]
  },
  {
   "cell_type": "code",
   "execution_count": 38,
   "id": "289e968a-e035-497e-893d-674a41846e9b",
   "metadata": {},
   "outputs": [],
   "source": [
    "import pandas as pd\n",
    "embeddings = pd.read_pickle('../Datos/BERTopic/Embedding_fetch_20newsgroups_all-distilroberta-v1').values"
   ]
  },
  {
   "cell_type": "code",
   "execution_count": 40,
   "id": "4e615e8a-4437-43ee-b981-e7df16ab5902",
   "metadata": {},
   "outputs": [
    {
     "data": {
      "text/plain": [
       "(18846, 768)"
      ]
     },
     "execution_count": 40,
     "metadata": {},
     "output_type": "execute_result"
    }
   ],
   "source": [
    "embeddings.shape"
   ]
  },
  {
   "cell_type": "markdown",
   "id": "e55cb7e6-eea4-4fa5-a5ff-af7894e86cb5",
   "metadata": {
    "id": "a8844c02-b7d1-4411-8527-2ce9540931ba",
    "tags": []
   },
   "source": [
    "### <span style=\"color:blue\">Reducción de Dimensión</span>"
   ]
  },
  {
   "cell_type": "markdown",
   "id": "5264f64d-6644-4800-8f10-7aa58ed6fcce",
   "metadata": {},
   "source": [
    "Ahora que tenemos el embedding, podemos utilizar alguna técnica de agrupamiento.\n",
    "\n",
    "Sin embargo, al tener dimensiones tan altas (maldición de dimensionalidad), debemos primero hacer una reducción de dimensión que logre capturar la mayoría de información posible.\n",
    "\n",
    "Hemos visto a lo largo de las lecciones técnicas como PCA, t-SNE y UMAP, entre otras.\n",
    "\n",
    "Bajo la hipótesis de que datos de la vida real son complejos y no lineales, usaremos [UMAP](https://umap-learn.readthedocs.io/en/latest/), bajo las siguientes hipótesis:\n",
    "\n",
    "- Los datos se distribuyen uniformemente en una variedad de Riemann.\n",
    "- La métrica de Riemann es localmente constante (o puede aproximarse como tal).\n",
    "- La variedad es localmente conexo.\n",
    "\n",
    "En palabras humanas, los datos no se comportan de maneras extrañas, incluso en su no-linealidad.\n",
    "\n",
    "La gran ventaja de esta técnica es que garantiza que porciones no-lineales locales de datos conserven sus distancias y formas cuando se representen los datos en baja dimensión.\n",
    "\n",
    "Para los curiosos, el paper [UMAP: Uniform Manifold Approximation and Projection for Dimension Reduction](https://arxiv.org/pdf/1802.03426.pdf) puede iluminar las ideas básicas de la técnica.\n",
    "\n",
    "Para una comparación entre técnicas, también puede ir a [Dimensionality Reduction for Data Visualization: PCA vs TSNE vs UMAP vs LDA](https://towardsdatascience.com/dimensionality-reduction-for-data-visualization-pca-vs-tsne-vs-umap-be4aa7b1cb29).\n",
    "\n",
    "Reducimos la dimensionalidad a 5 mientras mantenemos el tamaño de las vecindades locales en 15. \n",
    "\n",
    "Puede jugar con estos valores para optimizar la creación de su tema. \n",
    "\n",
    "Tenga en cuenta que una dimensionalidad demasiado baja da como resultado una pérdida de información, mientras que una dimensionalidad demasiado alta da como resultado resultados de agrupación más deficientes."
   ]
  },
  {
   "cell_type": "code",
   "execution_count": 41,
   "id": "434baa71-20bf-4bb4-a270-4d24e1e2b49a",
   "metadata": {},
   "outputs": [],
   "source": [
    "#!pip install umap-learn\n",
    "import umap\n",
    "umap_embeddings = umap.UMAP(n_neighbors=15, \n",
    "                            n_components=5, \n",
    "                            metric='cosine').fit_transform(embeddings)"
   ]
  },
  {
   "cell_type": "markdown",
   "id": "5cbacd9c-d0bc-4d28-bc42-679874233308",
   "metadata": {},
   "source": [
    "Siéntase libre de utilizar cualquier otra técnica de reducción de dimensión, pero recuerde: \n",
    "\n",
    "Si no se preserva la información no-lineal de manera consistente, es posible que la coherencia de las temáticas no sea muy buena"
   ]
  },
  {
   "cell_type": "markdown",
   "id": "15252c11-1de0-4524-8675-1986e99b3cf2",
   "metadata": {
    "id": "a8844c02-b7d1-4411-8527-2ce9540931ba",
    "tags": []
   },
   "source": [
    "### <span style=\"color:blue\">Clustering</span>"
   ]
  },
  {
   "cell_type": "markdown",
   "id": "ed61eb5f-9fa6-42ca-9c35-8ee089c1827f",
   "metadata": {},
   "source": [
    "Ahora que ya hemos hecho nuestra reducción, es hora de utilizar técnicas de agrupamiento.\n",
    "\n",
    "En este caso, usaremos una de tantas técnicas: **HDBSCAN**, una técnica basada en la distribución de los datos, teniendo en cuenta la forma y dispersión.\n",
    "\n",
    "Hay bastantes argumentos a favor de esta técnica en contra de K-Means, pero lo más importante es experimentar y ver los resultados.\n",
    "\n",
    "En ésta técnica de clustering no necesitamos definir un número de clusters fijo, pues el algoritmo no fuerza los puntos de datos a los clústeres, ya que los considera atípicos.\n",
    "\n",
    "Pero entonces está un tema de afinar hiperparámetros para obtener clusters robustos.\n",
    "\n",
    "Para los interesados en el funcionamiento de ésta técnica, buenas referencias son [Understanding HDBSCAN and Density-Based Clustering](https://pberba.github.io/stats/2020/01/17/hdbscan/) y [How To Tune HDBSCAN](https://towardsdatascience.com/tuning-with-hdbscan-149865ac2970)"
   ]
  },
  {
   "cell_type": "code",
   "execution_count": 42,
   "id": "6a6e92aa-793a-403a-90a0-cef48c3f8fa6",
   "metadata": {},
   "outputs": [
    {
     "name": "stdout",
     "output_type": "stream",
     "text": [
      "huggingface/tokenizers: The current process just got forked, after parallelism has already been used. Disabling parallelism to avoid deadlocks...\n",
      "To disable this warning, you can either:\n",
      "\t- Avoid using `tokenizers` before the fork if possible\n",
      "\t- Explicitly set the environment variable TOKENIZERS_PARALLELISM=(true | false)\n",
      "huggingface/tokenizers: The current process just got forked, after parallelism has already been used. Disabling parallelism to avoid deadlocks...\n",
      "To disable this warning, you can either:\n",
      "\t- Avoid using `tokenizers` before the fork if possible\n",
      "\t- Explicitly set the environment variable TOKENIZERS_PARALLELISM=(true | false)\n",
      "huggingface/tokenizers: The current process just got forked, after parallelism has already been used. Disabling parallelism to avoid deadlocks...\n",
      "To disable this warning, you can either:\n",
      "\t- Avoid using `tokenizers` before the fork if possible\n",
      "\t- Explicitly set the environment variable TOKENIZERS_PARALLELISM=(true | false)\n",
      "huggingface/tokenizers: The current process just got forked, after parallelism has already been used. Disabling parallelism to avoid deadlocks...\n",
      "To disable this warning, you can either:\n",
      "\t- Avoid using `tokenizers` before the fork if possible\n",
      "\t- Explicitly set the environment variable TOKENIZERS_PARALLELISM=(true | false)\n",
      "huggingface/tokenizers: The current process just got forked, after parallelism has already been used. Disabling parallelism to avoid deadlocks...\n",
      "To disable this warning, you can either:\n",
      "\t- Avoid using `tokenizers` before the fork if possible\n",
      "\t- Explicitly set the environment variable TOKENIZERS_PARALLELISM=(true | false)\n"
     ]
    }
   ],
   "source": [
    "import hdbscan\n",
    "cluster = hdbscan.HDBSCAN(min_cluster_size=15,\n",
    "                          metric='euclidean',                      \n",
    "                          cluster_selection_method='eom').fit(umap_embeddings)"
   ]
  },
  {
   "cell_type": "markdown",
   "id": "0b7a85f6-e7c5-4068-9b90-9c730de49bb2",
   "metadata": {
    "id": "a8844c02-b7d1-4411-8527-2ce9540931ba",
    "tags": []
   },
   "source": [
    "### <span style=\"color:blue\">Visualización</span>"
   ]
  },
  {
   "cell_type": "markdown",
   "id": "9887bee3-1b9a-4277-9d3c-e2d81bff65d1",
   "metadata": {},
   "source": [
    "Para poder visualizar los tópicos, hagamos una reducción a dos dimensiones y miremos cómo lucen (puntos en gris son outliers):"
   ]
  },
  {
   "cell_type": "code",
   "execution_count": 44,
   "id": "93bafe74-64c9-44b0-94a9-8eb6cdaa572d",
   "metadata": {},
   "outputs": [
    {
     "data": {
      "image/png": "[encoded data removed]",
      "text/plain": [
       "<Figure size 1440x720 with 2 Axes>"
      ]
     },
     "metadata": {
      "needs_background": "light"
     },
     "output_type": "display_data"
    }
   ],
   "source": [
    "import matplotlib.pyplot as plt\n",
    "\n",
    "# Prepare data\n",
    "umap_data = umap.UMAP(n_neighbors=15, n_components=2, min_dist=0.0, metric='cosine').fit_transform(embeddings)\n",
    "result = pd.DataFrame(umap_data, columns=['x', 'y'])\n",
    "result['labels'] = cluster.labels_\n",
    "\n",
    "# Visualize clusters\n",
    "fig, ax = plt.subplots(figsize=(20, 10))\n",
    "outliers = result.loc[result.labels == -1, :]\n",
    "clustered = result.loc[result.labels != -1, :]\n",
    "plt.scatter(outliers.x, outliers.y, color='#BDBDBD', s=0.05)\n",
    "plt.scatter(clustered.x, clustered.y, c=clustered.labels, s=0.05, cmap='hsv_r')\n",
    "plt.colorbar();"
   ]
  },
  {
   "cell_type": "code",
   "execution_count": 49,
   "id": "d99a8fc7-6b68-4154-858a-e24ec883f074",
   "metadata": {},
   "outputs": [
    {
     "name": "stdout",
     "output_type": "stream",
     "text": [
      "Se encontraron 176 Tópicos.\n"
     ]
    }
   ],
   "source": [
    "print(\"Se encontraron\", len(result['labels'].unique()), \"Tópicos.\")"
   ]
  },
  {
   "cell_type": "code",
   "execution_count": 55,
   "id": "d6c116fc-a500-4e75-a9c9-0d32d2906de2",
   "metadata": {},
   "outputs": [
    {
     "data": {
      "text/html": [
       "<div>\n",
       "<style scoped>\n",
       "    .dataframe tbody tr th:only-of-type {\n",
       "        vertical-align: middle;\n",
       "    }\n",
       "\n",
       "    .dataframe tbody tr th {\n",
       "        vertical-align: top;\n",
       "    }\n",
       "\n",
       "    .dataframe thead th {\n",
       "        text-align: right;\n",
       "    }\n",
       "</style>\n",
       "<table border=\"1\" class=\"dataframe\">\n",
       "  <thead>\n",
       "    <tr style=\"text-align: right;\">\n",
       "      <th>labels</th>\n",
       "      <th>-1</th>\n",
       "      <th>0</th>\n",
       "      <th>1</th>\n",
       "      <th>2</th>\n",
       "      <th>3</th>\n",
       "      <th>4</th>\n",
       "      <th>5</th>\n",
       "      <th>6</th>\n",
       "      <th>7</th>\n",
       "      <th>8</th>\n",
       "      <th>9</th>\n",
       "      <th>10</th>\n",
       "      <th>11</th>\n",
       "      <th>12</th>\n",
       "      <th>13</th>\n",
       "      <th>14</th>\n",
       "      <th>15</th>\n",
       "      <th>16</th>\n",
       "      <th>17</th>\n",
       "      <th>18</th>\n",
       "      <th>19</th>\n",
       "      <th>20</th>\n",
       "      <th>21</th>\n",
       "      <th>22</th>\n",
       "      <th>23</th>\n",
       "      <th>24</th>\n",
       "      <th>25</th>\n",
       "      <th>26</th>\n",
       "      <th>27</th>\n",
       "      <th>28</th>\n",
       "      <th>29</th>\n",
       "      <th>30</th>\n",
       "      <th>31</th>\n",
       "      <th>32</th>\n",
       "      <th>33</th>\n",
       "      <th>34</th>\n",
       "      <th>35</th>\n",
       "      <th>36</th>\n",
       "      <th>37</th>\n",
       "      <th>38</th>\n",
       "      <th>39</th>\n",
       "      <th>40</th>\n",
       "      <th>41</th>\n",
       "      <th>42</th>\n",
       "      <th>43</th>\n",
       "      <th>44</th>\n",
       "      <th>45</th>\n",
       "      <th>46</th>\n",
       "      <th>47</th>\n",
       "      <th>48</th>\n",
       "      <th>49</th>\n",
       "      <th>50</th>\n",
       "      <th>51</th>\n",
       "      <th>52</th>\n",
       "      <th>53</th>\n",
       "      <th>54</th>\n",
       "      <th>55</th>\n",
       "      <th>56</th>\n",
       "      <th>57</th>\n",
       "      <th>58</th>\n",
       "      <th>59</th>\n",
       "      <th>60</th>\n",
       "      <th>61</th>\n",
       "      <th>62</th>\n",
       "      <th>63</th>\n",
       "      <th>64</th>\n",
       "      <th>65</th>\n",
       "      <th>66</th>\n",
       "      <th>67</th>\n",
       "      <th>68</th>\n",
       "      <th>69</th>\n",
       "      <th>70</th>\n",
       "      <th>71</th>\n",
       "      <th>72</th>\n",
       "      <th>73</th>\n",
       "      <th>74</th>\n",
       "      <th>75</th>\n",
       "      <th>76</th>\n",
       "      <th>77</th>\n",
       "      <th>78</th>\n",
       "      <th>79</th>\n",
       "      <th>80</th>\n",
       "      <th>81</th>\n",
       "      <th>82</th>\n",
       "      <th>83</th>\n",
       "      <th>84</th>\n",
       "      <th>85</th>\n",
       "      <th>86</th>\n",
       "      <th>87</th>\n",
       "      <th>88</th>\n",
       "      <th>89</th>\n",
       "      <th>90</th>\n",
       "      <th>91</th>\n",
       "      <th>92</th>\n",
       "      <th>93</th>\n",
       "      <th>94</th>\n",
       "      <th>95</th>\n",
       "      <th>96</th>\n",
       "      <th>97</th>\n",
       "      <th>98</th>\n",
       "      <th>99</th>\n",
       "      <th>100</th>\n",
       "      <th>101</th>\n",
       "      <th>102</th>\n",
       "      <th>103</th>\n",
       "      <th>104</th>\n",
       "      <th>105</th>\n",
       "      <th>106</th>\n",
       "      <th>107</th>\n",
       "      <th>108</th>\n",
       "      <th>109</th>\n",
       "      <th>110</th>\n",
       "      <th>111</th>\n",
       "      <th>112</th>\n",
       "      <th>113</th>\n",
       "      <th>114</th>\n",
       "      <th>115</th>\n",
       "      <th>116</th>\n",
       "      <th>117</th>\n",
       "      <th>118</th>\n",
       "      <th>119</th>\n",
       "      <th>120</th>\n",
       "      <th>121</th>\n",
       "      <th>122</th>\n",
       "      <th>123</th>\n",
       "      <th>124</th>\n",
       "      <th>125</th>\n",
       "      <th>126</th>\n",
       "      <th>127</th>\n",
       "      <th>128</th>\n",
       "      <th>129</th>\n",
       "      <th>130</th>\n",
       "      <th>131</th>\n",
       "      <th>132</th>\n",
       "      <th>133</th>\n",
       "      <th>134</th>\n",
       "      <th>135</th>\n",
       "      <th>136</th>\n",
       "      <th>137</th>\n",
       "      <th>138</th>\n",
       "      <th>139</th>\n",
       "      <th>140</th>\n",
       "      <th>141</th>\n",
       "      <th>142</th>\n",
       "      <th>143</th>\n",
       "      <th>144</th>\n",
       "      <th>145</th>\n",
       "      <th>146</th>\n",
       "      <th>147</th>\n",
       "      <th>148</th>\n",
       "      <th>149</th>\n",
       "      <th>150</th>\n",
       "      <th>151</th>\n",
       "      <th>152</th>\n",
       "      <th>153</th>\n",
       "      <th>154</th>\n",
       "      <th>155</th>\n",
       "      <th>156</th>\n",
       "      <th>157</th>\n",
       "      <th>158</th>\n",
       "      <th>159</th>\n",
       "      <th>160</th>\n",
       "      <th>161</th>\n",
       "      <th>162</th>\n",
       "      <th>163</th>\n",
       "      <th>164</th>\n",
       "      <th>165</th>\n",
       "      <th>166</th>\n",
       "      <th>167</th>\n",
       "      <th>168</th>\n",
       "      <th>169</th>\n",
       "      <th>170</th>\n",
       "      <th>171</th>\n",
       "      <th>172</th>\n",
       "      <th>173</th>\n",
       "      <th>174</th>\n",
       "    </tr>\n",
       "  </thead>\n",
       "  <tbody>\n",
       "    <tr>\n",
       "      <th>x</th>\n",
       "      <td>6989</td>\n",
       "      <td>18</td>\n",
       "      <td>19</td>\n",
       "      <td>17</td>\n",
       "      <td>44</td>\n",
       "      <td>61</td>\n",
       "      <td>45</td>\n",
       "      <td>225</td>\n",
       "      <td>804</td>\n",
       "      <td>57</td>\n",
       "      <td>40</td>\n",
       "      <td>21</td>\n",
       "      <td>40</td>\n",
       "      <td>58</td>\n",
       "      <td>158</td>\n",
       "      <td>18</td>\n",
       "      <td>24</td>\n",
       "      <td>23</td>\n",
       "      <td>35</td>\n",
       "      <td>22</td>\n",
       "      <td>18</td>\n",
       "      <td>66</td>\n",
       "      <td>62</td>\n",
       "      <td>41</td>\n",
       "      <td>512</td>\n",
       "      <td>15</td>\n",
       "      <td>110</td>\n",
       "      <td>17</td>\n",
       "      <td>670</td>\n",
       "      <td>23</td>\n",
       "      <td>136</td>\n",
       "      <td>58</td>\n",
       "      <td>68</td>\n",
       "      <td>48</td>\n",
       "      <td>21</td>\n",
       "      <td>21</td>\n",
       "      <td>24</td>\n",
       "      <td>18</td>\n",
       "      <td>24</td>\n",
       "      <td>38</td>\n",
       "      <td>50</td>\n",
       "      <td>31</td>\n",
       "      <td>18</td>\n",
       "      <td>28</td>\n",
       "      <td>25</td>\n",
       "      <td>31</td>\n",
       "      <td>62</td>\n",
       "      <td>38</td>\n",
       "      <td>17</td>\n",
       "      <td>76</td>\n",
       "      <td>103</td>\n",
       "      <td>34</td>\n",
       "      <td>44</td>\n",
       "      <td>15</td>\n",
       "      <td>66</td>\n",
       "      <td>180</td>\n",
       "      <td>399</td>\n",
       "      <td>38</td>\n",
       "      <td>65</td>\n",
       "      <td>47</td>\n",
       "      <td>57</td>\n",
       "      <td>71</td>\n",
       "      <td>61</td>\n",
       "      <td>630</td>\n",
       "      <td>26</td>\n",
       "      <td>44</td>\n",
       "      <td>44</td>\n",
       "      <td>76</td>\n",
       "      <td>23</td>\n",
       "      <td>53</td>\n",
       "      <td>40</td>\n",
       "      <td>49</td>\n",
       "      <td>35</td>\n",
       "      <td>25</td>\n",
       "      <td>54</td>\n",
       "      <td>39</td>\n",
       "      <td>64</td>\n",
       "      <td>27</td>\n",
       "      <td>23</td>\n",
       "      <td>34</td>\n",
       "      <td>45</td>\n",
       "      <td>50</td>\n",
       "      <td>23</td>\n",
       "      <td>31</td>\n",
       "      <td>138</td>\n",
       "      <td>17</td>\n",
       "      <td>35</td>\n",
       "      <td>33</td>\n",
       "      <td>57</td>\n",
       "      <td>38</td>\n",
       "      <td>16</td>\n",
       "      <td>67</td>\n",
       "      <td>45</td>\n",
       "      <td>29</td>\n",
       "      <td>59</td>\n",
       "      <td>34</td>\n",
       "      <td>20</td>\n",
       "      <td>29</td>\n",
       "      <td>30</td>\n",
       "      <td>82</td>\n",
       "      <td>15</td>\n",
       "      <td>40</td>\n",
       "      <td>45</td>\n",
       "      <td>24</td>\n",
       "      <td>56</td>\n",
       "      <td>478</td>\n",
       "      <td>71</td>\n",
       "      <td>21</td>\n",
       "      <td>48</td>\n",
       "      <td>21</td>\n",
       "      <td>28</td>\n",
       "      <td>26</td>\n",
       "      <td>116</td>\n",
       "      <td>17</td>\n",
       "      <td>27</td>\n",
       "      <td>44</td>\n",
       "      <td>23</td>\n",
       "      <td>42</td>\n",
       "      <td>16</td>\n",
       "      <td>15</td>\n",
       "      <td>18</td>\n",
       "      <td>18</td>\n",
       "      <td>25</td>\n",
       "      <td>43</td>\n",
       "      <td>21</td>\n",
       "      <td>21</td>\n",
       "      <td>19</td>\n",
       "      <td>32</td>\n",
       "      <td>26</td>\n",
       "      <td>375</td>\n",
       "      <td>76</td>\n",
       "      <td>41</td>\n",
       "      <td>39</td>\n",
       "      <td>103</td>\n",
       "      <td>21</td>\n",
       "      <td>48</td>\n",
       "      <td>33</td>\n",
       "      <td>38</td>\n",
       "      <td>55</td>\n",
       "      <td>20</td>\n",
       "      <td>125</td>\n",
       "      <td>114</td>\n",
       "      <td>122</td>\n",
       "      <td>41</td>\n",
       "      <td>27</td>\n",
       "      <td>85</td>\n",
       "      <td>27</td>\n",
       "      <td>38</td>\n",
       "      <td>115</td>\n",
       "      <td>28</td>\n",
       "      <td>55</td>\n",
       "      <td>65</td>\n",
       "      <td>18</td>\n",
       "      <td>53</td>\n",
       "      <td>132</td>\n",
       "      <td>18</td>\n",
       "      <td>60</td>\n",
       "      <td>52</td>\n",
       "      <td>27</td>\n",
       "      <td>19</td>\n",
       "      <td>35</td>\n",
       "      <td>22</td>\n",
       "      <td>104</td>\n",
       "      <td>47</td>\n",
       "      <td>56</td>\n",
       "      <td>197</td>\n",
       "      <td>18</td>\n",
       "      <td>46</td>\n",
       "      <td>55</td>\n",
       "      <td>43</td>\n",
       "      <td>46</td>\n",
       "      <td>119</td>\n",
       "      <td>50</td>\n",
       "      <td>24</td>\n",
       "      <td>34</td>\n",
       "      <td>56</td>\n",
       "    </tr>\n",
       "    <tr>\n",
       "      <th>y</th>\n",
       "      <td>6989</td>\n",
       "      <td>18</td>\n",
       "      <td>19</td>\n",
       "      <td>17</td>\n",
       "      <td>44</td>\n",
       "      <td>61</td>\n",
       "      <td>45</td>\n",
       "      <td>225</td>\n",
       "      <td>804</td>\n",
       "      <td>57</td>\n",
       "      <td>40</td>\n",
       "      <td>21</td>\n",
       "      <td>40</td>\n",
       "      <td>58</td>\n",
       "      <td>158</td>\n",
       "      <td>18</td>\n",
       "      <td>24</td>\n",
       "      <td>23</td>\n",
       "      <td>35</td>\n",
       "      <td>22</td>\n",
       "      <td>18</td>\n",
       "      <td>66</td>\n",
       "      <td>62</td>\n",
       "      <td>41</td>\n",
       "      <td>512</td>\n",
       "      <td>15</td>\n",
       "      <td>110</td>\n",
       "      <td>17</td>\n",
       "      <td>670</td>\n",
       "      <td>23</td>\n",
       "      <td>136</td>\n",
       "      <td>58</td>\n",
       "      <td>68</td>\n",
       "      <td>48</td>\n",
       "      <td>21</td>\n",
       "      <td>21</td>\n",
       "      <td>24</td>\n",
       "      <td>18</td>\n",
       "      <td>24</td>\n",
       "      <td>38</td>\n",
       "      <td>50</td>\n",
       "      <td>31</td>\n",
       "      <td>18</td>\n",
       "      <td>28</td>\n",
       "      <td>25</td>\n",
       "      <td>31</td>\n",
       "      <td>62</td>\n",
       "      <td>38</td>\n",
       "      <td>17</td>\n",
       "      <td>76</td>\n",
       "      <td>103</td>\n",
       "      <td>34</td>\n",
       "      <td>44</td>\n",
       "      <td>15</td>\n",
       "      <td>66</td>\n",
       "      <td>180</td>\n",
       "      <td>399</td>\n",
       "      <td>38</td>\n",
       "      <td>65</td>\n",
       "      <td>47</td>\n",
       "      <td>57</td>\n",
       "      <td>71</td>\n",
       "      <td>61</td>\n",
       "      <td>630</td>\n",
       "      <td>26</td>\n",
       "      <td>44</td>\n",
       "      <td>44</td>\n",
       "      <td>76</td>\n",
       "      <td>23</td>\n",
       "      <td>53</td>\n",
       "      <td>40</td>\n",
       "      <td>49</td>\n",
       "      <td>35</td>\n",
       "      <td>25</td>\n",
       "      <td>54</td>\n",
       "      <td>39</td>\n",
       "      <td>64</td>\n",
       "      <td>27</td>\n",
       "      <td>23</td>\n",
       "      <td>34</td>\n",
       "      <td>45</td>\n",
       "      <td>50</td>\n",
       "      <td>23</td>\n",
       "      <td>31</td>\n",
       "      <td>138</td>\n",
       "      <td>17</td>\n",
       "      <td>35</td>\n",
       "      <td>33</td>\n",
       "      <td>57</td>\n",
       "      <td>38</td>\n",
       "      <td>16</td>\n",
       "      <td>67</td>\n",
       "      <td>45</td>\n",
       "      <td>29</td>\n",
       "      <td>59</td>\n",
       "      <td>34</td>\n",
       "      <td>20</td>\n",
       "      <td>29</td>\n",
       "      <td>30</td>\n",
       "      <td>82</td>\n",
       "      <td>15</td>\n",
       "      <td>40</td>\n",
       "      <td>45</td>\n",
       "      <td>24</td>\n",
       "      <td>56</td>\n",
       "      <td>478</td>\n",
       "      <td>71</td>\n",
       "      <td>21</td>\n",
       "      <td>48</td>\n",
       "      <td>21</td>\n",
       "      <td>28</td>\n",
       "      <td>26</td>\n",
       "      <td>116</td>\n",
       "      <td>17</td>\n",
       "      <td>27</td>\n",
       "      <td>44</td>\n",
       "      <td>23</td>\n",
       "      <td>42</td>\n",
       "      <td>16</td>\n",
       "      <td>15</td>\n",
       "      <td>18</td>\n",
       "      <td>18</td>\n",
       "      <td>25</td>\n",
       "      <td>43</td>\n",
       "      <td>21</td>\n",
       "      <td>21</td>\n",
       "      <td>19</td>\n",
       "      <td>32</td>\n",
       "      <td>26</td>\n",
       "      <td>375</td>\n",
       "      <td>76</td>\n",
       "      <td>41</td>\n",
       "      <td>39</td>\n",
       "      <td>103</td>\n",
       "      <td>21</td>\n",
       "      <td>48</td>\n",
       "      <td>33</td>\n",
       "      <td>38</td>\n",
       "      <td>55</td>\n",
       "      <td>20</td>\n",
       "      <td>125</td>\n",
       "      <td>114</td>\n",
       "      <td>122</td>\n",
       "      <td>41</td>\n",
       "      <td>27</td>\n",
       "      <td>85</td>\n",
       "      <td>27</td>\n",
       "      <td>38</td>\n",
       "      <td>115</td>\n",
       "      <td>28</td>\n",
       "      <td>55</td>\n",
       "      <td>65</td>\n",
       "      <td>18</td>\n",
       "      <td>53</td>\n",
       "      <td>132</td>\n",
       "      <td>18</td>\n",
       "      <td>60</td>\n",
       "      <td>52</td>\n",
       "      <td>27</td>\n",
       "      <td>19</td>\n",
       "      <td>35</td>\n",
       "      <td>22</td>\n",
       "      <td>104</td>\n",
       "      <td>47</td>\n",
       "      <td>56</td>\n",
       "      <td>197</td>\n",
       "      <td>18</td>\n",
       "      <td>46</td>\n",
       "      <td>55</td>\n",
       "      <td>43</td>\n",
       "      <td>46</td>\n",
       "      <td>119</td>\n",
       "      <td>50</td>\n",
       "      <td>24</td>\n",
       "      <td>34</td>\n",
       "      <td>56</td>\n",
       "    </tr>\n",
       "  </tbody>\n",
       "</table>\n",
       "</div>"
      ],
      "text/plain": [
       "labels  -1     0     1     2     3     4     5     6     7     8     9    \\\n",
       "x       6989    18    19    17    44    61    45   225   804    57    40   \n",
       "y       6989    18    19    17    44    61    45   225   804    57    40   \n",
       "\n",
       "labels   10    11    12    13    14    15    16    17    18    19    20   \\\n",
       "x         21    40    58   158    18    24    23    35    22    18    66   \n",
       "y         21    40    58   158    18    24    23    35    22    18    66   \n",
       "\n",
       "labels   21    22    23    24    25    26    27    28    29    30    31   \\\n",
       "x         62    41   512    15   110    17   670    23   136    58    68   \n",
       "y         62    41   512    15   110    17   670    23   136    58    68   \n",
       "\n",
       "labels   32    33    34    35    36    37    38    39    40    41    42   \\\n",
       "x         48    21    21    24    18    24    38    50    31    18    28   \n",
       "y         48    21    21    24    18    24    38    50    31    18    28   \n",
       "\n",
       "labels   43    44    45    46    47    48    49    50    51    52    53   \\\n",
       "x         25    31    62    38    17    76   103    34    44    15    66   \n",
       "y         25    31    62    38    17    76   103    34    44    15    66   \n",
       "\n",
       "labels   54    55    56    57    58    59    60    61    62    63    64   \\\n",
       "x        180   399    38    65    47    57    71    61   630    26    44   \n",
       "y        180   399    38    65    47    57    71    61   630    26    44   \n",
       "\n",
       "labels   65    66    67    68    69    70    71    72    73    74    75   \\\n",
       "x         44    76    23    53    40    49    35    25    54    39    64   \n",
       "y         44    76    23    53    40    49    35    25    54    39    64   \n",
       "\n",
       "labels   76    77    78    79    80    81    82    83    84    85    86   \\\n",
       "x         27    23    34    45    50    23    31   138    17    35    33   \n",
       "y         27    23    34    45    50    23    31   138    17    35    33   \n",
       "\n",
       "labels   87    88    89    90    91    92    93    94    95    96    97   \\\n",
       "x         57    38    16    67    45    29    59    34    20    29    30   \n",
       "y         57    38    16    67    45    29    59    34    20    29    30   \n",
       "\n",
       "labels   98    99    100   101   102   103   104   105   106   107   108  \\\n",
       "x         82    15    40    45    24    56   478    71    21    48    21   \n",
       "y         82    15    40    45    24    56   478    71    21    48    21   \n",
       "\n",
       "labels   109   110   111   112   113   114   115   116   117   118   119  \\\n",
       "x         28    26   116    17    27    44    23    42    16    15    18   \n",
       "y         28    26   116    17    27    44    23    42    16    15    18   \n",
       "\n",
       "labels   120   121   122   123   124   125   126   127   128   129   130  \\\n",
       "x         18    25    43    21    21    19    32    26   375    76    41   \n",
       "y         18    25    43    21    21    19    32    26   375    76    41   \n",
       "\n",
       "labels   131   132   133   134   135   136   137   138   139   140   141  \\\n",
       "x         39   103    21    48    33    38    55    20   125   114   122   \n",
       "y         39   103    21    48    33    38    55    20   125   114   122   \n",
       "\n",
       "labels   142   143   144   145   146   147   148   149   150   151   152  \\\n",
       "x         41    27    85    27    38   115    28    55    65    18    53   \n",
       "y         41    27    85    27    38   115    28    55    65    18    53   \n",
       "\n",
       "labels   153   154   155   156   157   158   159   160   161   162   163  \\\n",
       "x        132    18    60    52    27    19    35    22   104    47    56   \n",
       "y        132    18    60    52    27    19    35    22   104    47    56   \n",
       "\n",
       "labels   164   165   166   167   168   169   170   171   172   173   174  \n",
       "x        197    18    46    55    43    46   119    50    24    34    56  \n",
       "y        197    18    46    55    43    46   119    50    24    34    56  "
      ]
     },
     "execution_count": 55,
     "metadata": {},
     "output_type": "execute_result"
    }
   ],
   "source": [
    "pd.set_option('display.max_columns',500)\n",
    "result.groupby(by='labels').count().T"
   ]
  },
  {
   "cell_type": "markdown",
   "id": "f74431d3-b6c3-4b19-8442-ba0350c6d82e",
   "metadata": {},
   "source": [
    "**Nota:** Puede omitir el paso de reducción de la dimensionalidad si utiliza un algoritmo de agrupamiento que pueda manejar una alta dimensionalidad como un k-Means basado en el coseno."
   ]
  },
  {
   "cell_type": "markdown",
   "id": "661219da-63fb-4458-99b0-7525dc24ca35",
   "metadata": {
    "id": "a8844c02-b7d1-4411-8527-2ce9540931ba",
    "tags": []
   },
   "source": [
    "### <span style=\"color:blue\">Creación de Tópicos</span>"
   ]
  },
  {
   "cell_type": "markdown",
   "id": "16853e56-db5d-4902-af70-d5cbc6b4e7d9",
   "metadata": {},
   "source": [
    "Lo que queremos saber de los clústeres que generamos es qué hace que un clúster, en función de su contenido, sea diferente de otro.\n",
    "\n",
    "¿Cómo podemos derivar temas de documentos agrupados?\n",
    "\n",
    "*\"Para resolver esto, se me ocurrió una variante basada en clases de TF-IDF (c-TF-IDF), que me permitiría extraer lo que hace que cada conjunto de documentos sea único en comparación con el otro.\"*\n",
    "\n",
    "La intuición detrás del método es la siguiente. Cuando aplica TF-IDF como de costumbre en un conjunto de documentos, lo que está haciendo básicamente es comparar la importancia de las palabras entre documentos.\n",
    "\n",
    "¿Qué pasa si, en cambio, tratamos todos los documentos en una sola categoría (por ejemplo, un grupo) como un solo documento y luego aplicamos TF-IDF? El resultado sería un documento muy largo por categoría y la puntuación TF-IDF resultante demostraría las palabras importantes de un tema."
   ]
  },
  {
   "cell_type": "markdown",
   "id": "e8816694-f8a6-475a-8a39-8cde110719b8",
   "metadata": {
    "id": "a8844c02-b7d1-4411-8527-2ce9540931ba",
    "tags": []
   },
   "source": [
    "### <span style=\"color:blue\">c-TF-IDF</span>"
   ]
  },
  {
   "cell_type": "markdown",
   "id": "4698b367-7677-4896-ab09-8214d6502b37",
   "metadata": {},
   "source": [
    "Básicamente, la fórmula que formuló Maarten Grootendorst, es:\n",
    "\n",
    "$$\\text{c-TF-IDF}_i = \\frac{t_i}{w_i}\\log\\frac{m}{\\sum_{j}^{n}t_j}$$\n",
    "\n",
    "Donde se extrae la frecuencia de cada palabra $t$ para cada clase $i$ y se divide por el número total de palabras $w$. \n",
    "\n",
    "Esta acción puede ser vista como una forma de regularización de palabras frecuentes en la clase.\n",
    "\n",
    "A continuación, el número total, no unido, de documentos $m$, se divide por la frecuencia total de la palabra $t$ en todas las clases $n$.\n",
    "\n",
    "Para un análisis más profundo, leer el paper es una buena opción, o leer [Creating a class-based TF-IDF with Scikit-Learn](https://towardsdatascience.com/creating-a-class-based-tf-idf-with-scikit-learn-caea7b15b858), del mismo autor.\n",
    "\n",
    "En código:"
   ]
  },
  {
   "cell_type": "code",
   "execution_count": 58,
   "id": "129618dc-f9a9-4b57-ba4f-403d6730d251",
   "metadata": {},
   "outputs": [],
   "source": [
    "data_df['Topic'] = cluster.labels_\n",
    "data_df['Doc_ID'] = range(len(data_df))\n",
    "\n",
    "# Juntar documentos de cada clase\n",
    "docs_per_topic = data_df.groupby(['Topic'], as_index = False).agg({'Text': ' '.join})\n",
    "\n",
    "import numpy as np\n",
    "from sklearn.feature_extraction.text import CountVectorizer\n",
    "\n",
    "def c_tf_idf(documents, m, ngram_range=(1, 1)):\n",
    "    # Contar palabras mediante un iterador\n",
    "    count = CountVectorizer(ngram_range=ngram_range, stop_words=\"english\").fit(documents)\n",
    "    # Aplicar y transformar hacia un array\n",
    "    t = count.transform(documents).toarray()\n",
    "    # Sumar frecuencias de cada documento (Categoría cuando se junta el texto)\n",
    "    w = t.sum(axis=1)\n",
    "    # Dividir la frecuencia del término entre la frecuencia total\n",
    "    tf = np.divide(t.T, w)\n",
    "    # Sumar frecuencias en cada tópico\n",
    "    sum_t = t.sum(axis=0)\n",
    "    # Frecuencia inversa (IDF)\n",
    "    idf = np.log(np.divide(m, sum_t)).reshape(-1, 1)\n",
    "    # c-TF-IDF\n",
    "    tf_idf = np.multiply(tf, idf)\n",
    "\n",
    "    return tf_idf, count\n",
    "  \n",
    "tf_idf, count = c_tf_idf(docs_per_topic.Text.values, m=len(data))"
   ]
  },
  {
   "cell_type": "markdown",
   "id": "eeee2f24-d218-4f81-a67e-ba4682c4b82c",
   "metadata": {
    "id": "a8844c02-b7d1-4411-8527-2ce9540931ba",
    "tags": []
   },
   "source": [
    "### <span style=\"color:blue\">Representación de Tópicos</span>"
   ]
  },
  {
   "cell_type": "markdown",
   "id": "90a4fb60-cabe-4c35-9a8c-2d130bcb2469",
   "metadata": {},
   "source": [
    "Para crear una representación de tema, tomamos las 20 palabras principales por tema en función de sus puntajes c-TF-IDF. \n",
    "\n",
    "Cuanto más alto sea el puntaje, más representativo debe ser de su tema, ya que el puntaje es un indicador de la densidad de la información."
   ]
  },
  {
   "cell_type": "code",
   "execution_count": 63,
   "id": "22e8567d-6c65-40d7-91e5-7fb4609a3f1c",
   "metadata": {},
   "outputs": [
    {
     "data": {
      "text/html": [
       "<div>\n",
       "<style scoped>\n",
       "    .dataframe tbody tr th:only-of-type {\n",
       "        vertical-align: middle;\n",
       "    }\n",
       "\n",
       "    .dataframe tbody tr th {\n",
       "        vertical-align: top;\n",
       "    }\n",
       "\n",
       "    .dataframe thead th {\n",
       "        text-align: right;\n",
       "    }\n",
       "</style>\n",
       "<table border=\"1\" class=\"dataframe\">\n",
       "  <thead>\n",
       "    <tr style=\"text-align: right;\">\n",
       "      <th></th>\n",
       "      <th>Topic</th>\n",
       "      <th>Size</th>\n",
       "    </tr>\n",
       "  </thead>\n",
       "  <tbody>\n",
       "    <tr>\n",
       "      <th>0</th>\n",
       "      <td>-1</td>\n",
       "      <td>6989</td>\n",
       "    </tr>\n",
       "    <tr>\n",
       "      <th>8</th>\n",
       "      <td>7</td>\n",
       "      <td>804</td>\n",
       "    </tr>\n",
       "    <tr>\n",
       "      <th>28</th>\n",
       "      <td>27</td>\n",
       "      <td>670</td>\n",
       "    </tr>\n",
       "    <tr>\n",
       "      <th>63</th>\n",
       "      <td>62</td>\n",
       "      <td>630</td>\n",
       "    </tr>\n",
       "    <tr>\n",
       "      <th>24</th>\n",
       "      <td>23</td>\n",
       "      <td>512</td>\n",
       "    </tr>\n",
       "    <tr>\n",
       "      <th>105</th>\n",
       "      <td>104</td>\n",
       "      <td>478</td>\n",
       "    </tr>\n",
       "    <tr>\n",
       "      <th>56</th>\n",
       "      <td>55</td>\n",
       "      <td>399</td>\n",
       "    </tr>\n",
       "    <tr>\n",
       "      <th>129</th>\n",
       "      <td>128</td>\n",
       "      <td>375</td>\n",
       "    </tr>\n",
       "    <tr>\n",
       "      <th>7</th>\n",
       "      <td>6</td>\n",
       "      <td>225</td>\n",
       "    </tr>\n",
       "    <tr>\n",
       "      <th>165</th>\n",
       "      <td>164</td>\n",
       "      <td>197</td>\n",
       "    </tr>\n",
       "  </tbody>\n",
       "</table>\n",
       "</div>"
      ],
      "text/plain": [
       "     Topic  Size\n",
       "0       -1  6989\n",
       "8        7   804\n",
       "28      27   670\n",
       "63      62   630\n",
       "24      23   512\n",
       "105    104   478\n",
       "56      55   399\n",
       "129    128   375\n",
       "7        6   225\n",
       "165    164   197"
      ]
     },
     "execution_count": 63,
     "metadata": {},
     "output_type": "execute_result"
    }
   ],
   "source": [
    "def extract_top_n_words_per_topic(tf_idf, count, docs_per_topic, n=20):\n",
    "    # extraer palabras relevantes\n",
    "    words = count.get_feature_names()\n",
    "    labels = list(docs_per_topic.Topic)\n",
    "    tf_idf_transposed = tf_idf.T\n",
    "    # Ordenar por importancia y tomar los más relevantes\n",
    "    indices = tf_idf_transposed.argsort()[:, -n:]\n",
    "    top_n_words = {label: [(words[j], tf_idf_transposed[i][j]) for j in indices[i]][::-1] for i, label in enumerate(labels)}\n",
    "    return top_n_words\n",
    "\n",
    "def extract_topic_sizes(df):\n",
    "    topic_sizes = (df.groupby(['Topic'])\n",
    "                     .Text\n",
    "                     .count()\n",
    "                     .reset_index()\n",
    "                     .rename({\"Topic\": \"Topic\", \"Text\": \"Size\"}, axis='columns')\n",
    "                     .sort_values(\"Size\", ascending=False))\n",
    "    return topic_sizes\n",
    "\n",
    "top_n_words = extract_top_n_words_per_topic(tf_idf, count, docs_per_topic, n=20)\n",
    "topic_sizes = extract_topic_sizes(data_df); topic_sizes.head(10)"
   ]
  },
  {
   "cell_type": "code",
   "execution_count": 67,
   "id": "20831f8d-3ab7-4407-8262-cec0352df98b",
   "metadata": {},
   "outputs": [
    {
     "data": {
      "text/plain": [
       "[('baseball', 0.012677268237544191),\n",
       " ('game', 0.01188719333809105),\n",
       " ('team', 0.011359634151558851),\n",
       " ('year', 0.011230414992775592),\n",
       " ('hit', 0.010016927991930382),\n",
       " ('players', 0.009795920623494268),\n",
       " ('braves', 0.009531783283569129),\n",
       " ('runs', 0.008983253125899569),\n",
       " ('games', 0.00852603256940531),\n",
       " ('pitching', 0.00834645040239949),\n",
       " ('morris', 0.007994943483861611),\n",
       " ('pitcher', 0.00773434763706632),\n",
       " ('ball', 0.007692735133153385),\n",
       " ('hitter', 0.007535167622066461),\n",
       " ('season', 0.006901232453729256),\n",
       " ('batting', 0.0066817541516095745),\n",
       " ('win', 0.00667155537434181),\n",
       " ('cubs', 0.006559542800589771),\n",
       " ('hitting', 0.006355853872238506),\n",
       " ('clutch', 0.006329572330932453)]"
      ]
     },
     "execution_count": 67,
     "metadata": {},
     "output_type": "execute_result"
    }
   ],
   "source": [
    "top_n_words[7]"
   ]
  },
  {
   "cell_type": "code",
   "execution_count": 68,
   "id": "0150bd7c-42b9-41d1-a53f-fcfb165dd563",
   "metadata": {},
   "outputs": [
    {
     "data": {
      "text/plain": [
       "[('israel', 0.024650904055064957),\n",
       " ('israeli', 0.01884610895881068),\n",
       " ('jews', 0.013196172899806938),\n",
       " ('arab', 0.012744435646781778),\n",
       " ('jewish', 0.010269734580755436),\n",
       " ('war', 0.009732563719363796),\n",
       " ('arabs', 0.009297251195610094),\n",
       " ('peace', 0.008445998259479046),\n",
       " ('palestinian', 0.007503891247444616),\n",
       " ('jake', 0.007415421160190048),\n",
       " ('muslims', 0.007258502799873045),\n",
       " ('israelis', 0.0069812257129949346),\n",
       " ('palestinians', 0.006864186421716463),\n",
       " ('policy', 0.00657487302151975),\n",
       " ('gaza', 0.00624595910401742),\n",
       " ('kuwait', 0.006107751103463349),\n",
       " ('cpr', 0.005958209291911257),\n",
       " ('lebanese', 0.005897684071354586),\n",
       " ('palestine', 0.005751380577663901),\n",
       " ('occupied', 0.005748438297513855)]"
      ]
     },
     "execution_count": 68,
     "metadata": {},
     "output_type": "execute_result"
    }
   ],
   "source": [
    "top_n_words[27][:]"
   ]
  },
  {
   "cell_type": "markdown",
   "id": "1e41dba4-a994-431c-becf-6a3e407c1ac2",
   "metadata": {},
   "source": [
    "¿Qué opinan?"
   ]
  },
  {
   "cell_type": "markdown",
   "id": "ed3ce912-c684-436f-8193-540b00427a9f",
   "metadata": {
    "id": "a8844c02-b7d1-4411-8527-2ce9540931ba",
    "tags": []
   },
   "source": [
    "### <span style=\"color:blue\">Reducción de Tópicos</span>"
   ]
  },
  {
   "cell_type": "markdown",
   "id": "6b51acba-7a0b-4367-8334-6cd58186cf9b",
   "metadata": {},
   "source": [
    "Existe la posibilidad de que, según el conjunto de datos, obtenga cientos de temas que se crearon.\n",
    "\n",
    "Puede modificar los parámetros de HDBSCAN para obtener menos temas a través de su parámetro min_cluster_size, pero no le permite especificar el número exacto de clústeres.\n",
    "\n",
    "Un ingenioso truco que estaba utilizando Top2Vec es la capacidad de reducir la cantidad de temas fusionando los vectores de temas que eran más similares entre sí.\n",
    "\n",
    "Podemos usar una técnica similar comparando los vectores c-TF-IDF entre temas, fusionar los más similares y finalmente volver a calcular los vectores c-TF-IDF para actualizar la representación de nuestros temas:"
   ]
  },
  {
   "cell_type": "code",
   "execution_count": 76,
   "id": "d960e857-cc3c-4a36-8f4d-deb7b4255506",
   "metadata": {},
   "outputs": [
    {
     "name": "stderr",
     "output_type": "stream",
     "text": [
      "/Users/moury/miniforge3/envs/U_Rosario/lib/python3.9/site-packages/sklearn/utils/deprecation.py:87: FutureWarning: Function get_feature_names is deprecated; get_feature_names is deprecated in 1.0 and will be removed in 1.2. Please use get_feature_names_out instead.\n",
      "  warnings.warn(msg, category=FutureWarning)\n",
      "/Users/moury/miniforge3/envs/U_Rosario/lib/python3.9/site-packages/sklearn/utils/deprecation.py:87: FutureWarning: Function get_feature_names is deprecated; get_feature_names is deprecated in 1.0 and will be removed in 1.2. Please use get_feature_names_out instead.\n",
      "  warnings.warn(msg, category=FutureWarning)\n",
      "/Users/moury/miniforge3/envs/U_Rosario/lib/python3.9/site-packages/sklearn/utils/deprecation.py:87: FutureWarning: Function get_feature_names is deprecated; get_feature_names is deprecated in 1.0 and will be removed in 1.2. Please use get_feature_names_out instead.\n",
      "  warnings.warn(msg, category=FutureWarning)\n",
      "/Users/moury/miniforge3/envs/U_Rosario/lib/python3.9/site-packages/sklearn/utils/deprecation.py:87: FutureWarning: Function get_feature_names is deprecated; get_feature_names is deprecated in 1.0 and will be removed in 1.2. Please use get_feature_names_out instead.\n",
      "  warnings.warn(msg, category=FutureWarning)\n",
      "/Users/moury/miniforge3/envs/U_Rosario/lib/python3.9/site-packages/sklearn/utils/deprecation.py:87: FutureWarning: Function get_feature_names is deprecated; get_feature_names is deprecated in 1.0 and will be removed in 1.2. Please use get_feature_names_out instead.\n",
      "  warnings.warn(msg, category=FutureWarning)\n",
      "/Users/moury/miniforge3/envs/U_Rosario/lib/python3.9/site-packages/sklearn/utils/deprecation.py:87: FutureWarning: Function get_feature_names is deprecated; get_feature_names is deprecated in 1.0 and will be removed in 1.2. Please use get_feature_names_out instead.\n",
      "  warnings.warn(msg, category=FutureWarning)\n",
      "/Users/moury/miniforge3/envs/U_Rosario/lib/python3.9/site-packages/sklearn/utils/deprecation.py:87: FutureWarning: Function get_feature_names is deprecated; get_feature_names is deprecated in 1.0 and will be removed in 1.2. Please use get_feature_names_out instead.\n",
      "  warnings.warn(msg, category=FutureWarning)\n",
      "/Users/moury/miniforge3/envs/U_Rosario/lib/python3.9/site-packages/sklearn/utils/deprecation.py:87: FutureWarning: Function get_feature_names is deprecated; get_feature_names is deprecated in 1.0 and will be removed in 1.2. Please use get_feature_names_out instead.\n",
      "  warnings.warn(msg, category=FutureWarning)\n",
      "/Users/moury/miniforge3/envs/U_Rosario/lib/python3.9/site-packages/sklearn/utils/deprecation.py:87: FutureWarning: Function get_feature_names is deprecated; get_feature_names is deprecated in 1.0 and will be removed in 1.2. Please use get_feature_names_out instead.\n",
      "  warnings.warn(msg, category=FutureWarning)\n",
      "/Users/moury/miniforge3/envs/U_Rosario/lib/python3.9/site-packages/sklearn/utils/deprecation.py:87: FutureWarning: Function get_feature_names is deprecated; get_feature_names is deprecated in 1.0 and will be removed in 1.2. Please use get_feature_names_out instead.\n",
      "  warnings.warn(msg, category=FutureWarning)\n",
      "/Users/moury/miniforge3/envs/U_Rosario/lib/python3.9/site-packages/sklearn/utils/deprecation.py:87: FutureWarning: Function get_feature_names is deprecated; get_feature_names is deprecated in 1.0 and will be removed in 1.2. Please use get_feature_names_out instead.\n",
      "  warnings.warn(msg, category=FutureWarning)\n",
      "/Users/moury/miniforge3/envs/U_Rosario/lib/python3.9/site-packages/sklearn/utils/deprecation.py:87: FutureWarning: Function get_feature_names is deprecated; get_feature_names is deprecated in 1.0 and will be removed in 1.2. Please use get_feature_names_out instead.\n",
      "  warnings.warn(msg, category=FutureWarning)\n",
      "/Users/moury/miniforge3/envs/U_Rosario/lib/python3.9/site-packages/sklearn/utils/deprecation.py:87: FutureWarning: Function get_feature_names is deprecated; get_feature_names is deprecated in 1.0 and will be removed in 1.2. Please use get_feature_names_out instead.\n",
      "  warnings.warn(msg, category=FutureWarning)\n",
      "/Users/moury/miniforge3/envs/U_Rosario/lib/python3.9/site-packages/sklearn/utils/deprecation.py:87: FutureWarning: Function get_feature_names is deprecated; get_feature_names is deprecated in 1.0 and will be removed in 1.2. Please use get_feature_names_out instead.\n",
      "  warnings.warn(msg, category=FutureWarning)\n",
      "/Users/moury/miniforge3/envs/U_Rosario/lib/python3.9/site-packages/sklearn/utils/deprecation.py:87: FutureWarning: Function get_feature_names is deprecated; get_feature_names is deprecated in 1.0 and will be removed in 1.2. Please use get_feature_names_out instead.\n",
      "  warnings.warn(msg, category=FutureWarning)\n",
      "/Users/moury/miniforge3/envs/U_Rosario/lib/python3.9/site-packages/sklearn/utils/deprecation.py:87: FutureWarning: Function get_feature_names is deprecated; get_feature_names is deprecated in 1.0 and will be removed in 1.2. Please use get_feature_names_out instead.\n",
      "  warnings.warn(msg, category=FutureWarning)\n",
      "/Users/moury/miniforge3/envs/U_Rosario/lib/python3.9/site-packages/sklearn/utils/deprecation.py:87: FutureWarning: Function get_feature_names is deprecated; get_feature_names is deprecated in 1.0 and will be removed in 1.2. Please use get_feature_names_out instead.\n",
      "  warnings.warn(msg, category=FutureWarning)\n",
      "/Users/moury/miniforge3/envs/U_Rosario/lib/python3.9/site-packages/sklearn/utils/deprecation.py:87: FutureWarning: Function get_feature_names is deprecated; get_feature_names is deprecated in 1.0 and will be removed in 1.2. Please use get_feature_names_out instead.\n",
      "  warnings.warn(msg, category=FutureWarning)\n",
      "/Users/moury/miniforge3/envs/U_Rosario/lib/python3.9/site-packages/sklearn/utils/deprecation.py:87: FutureWarning: Function get_feature_names is deprecated; get_feature_names is deprecated in 1.0 and will be removed in 1.2. Please use get_feature_names_out instead.\n",
      "  warnings.warn(msg, category=FutureWarning)\n",
      "/Users/moury/miniforge3/envs/U_Rosario/lib/python3.9/site-packages/sklearn/utils/deprecation.py:87: FutureWarning: Function get_feature_names is deprecated; get_feature_names is deprecated in 1.0 and will be removed in 1.2. Please use get_feature_names_out instead.\n",
      "  warnings.warn(msg, category=FutureWarning)\n"
     ]
    },
    {
     "data": {
      "text/html": [
       "<div>\n",
       "<style scoped>\n",
       "    .dataframe tbody tr th:only-of-type {\n",
       "        vertical-align: middle;\n",
       "    }\n",
       "\n",
       "    .dataframe tbody tr th {\n",
       "        vertical-align: top;\n",
       "    }\n",
       "\n",
       "    .dataframe thead th {\n",
       "        text-align: right;\n",
       "    }\n",
       "</style>\n",
       "<table border=\"1\" class=\"dataframe\">\n",
       "  <thead>\n",
       "    <tr style=\"text-align: right;\">\n",
       "      <th></th>\n",
       "      <th>Topic</th>\n",
       "      <th>Size</th>\n",
       "    </tr>\n",
       "  </thead>\n",
       "  <tbody>\n",
       "    <tr>\n",
       "      <th>0</th>\n",
       "      <td>-1</td>\n",
       "      <td>7211</td>\n",
       "    </tr>\n",
       "    <tr>\n",
       "      <th>6</th>\n",
       "      <td>5</td>\n",
       "      <td>804</td>\n",
       "    </tr>\n",
       "    <tr>\n",
       "      <th>22</th>\n",
       "      <td>21</td>\n",
       "      <td>687</td>\n",
       "    </tr>\n",
       "    <tr>\n",
       "      <th>53</th>\n",
       "      <td>52</td>\n",
       "      <td>630</td>\n",
       "    </tr>\n",
       "    <tr>\n",
       "      <th>20</th>\n",
       "      <td>19</td>\n",
       "      <td>527</td>\n",
       "    </tr>\n",
       "    <tr>\n",
       "      <th>92</th>\n",
       "      <td>91</td>\n",
       "      <td>478</td>\n",
       "    </tr>\n",
       "    <tr>\n",
       "      <th>46</th>\n",
       "      <td>45</td>\n",
       "      <td>399</td>\n",
       "    </tr>\n",
       "    <tr>\n",
       "      <th>111</th>\n",
       "      <td>110</td>\n",
       "      <td>375</td>\n",
       "    </tr>\n",
       "    <tr>\n",
       "      <th>5</th>\n",
       "      <td>4</td>\n",
       "      <td>225</td>\n",
       "    </tr>\n",
       "    <tr>\n",
       "      <th>144</th>\n",
       "      <td>143</td>\n",
       "      <td>197</td>\n",
       "    </tr>\n",
       "  </tbody>\n",
       "</table>\n",
       "</div>"
      ],
      "text/plain": [
       "     Topic  Size\n",
       "0       -1  7211\n",
       "6        5   804\n",
       "22      21   687\n",
       "53      52   630\n",
       "20      19   527\n",
       "92      91   478\n",
       "46      45   399\n",
       "111    110   375\n",
       "5        4   225\n",
       "144    143   197"
      ]
     },
     "execution_count": 76,
     "metadata": {},
     "output_type": "execute_result"
    }
   ],
   "source": [
    "from sklearn.metrics.pairwise import cosine_similarity\n",
    "\n",
    "for i in range(20):\n",
    "    # Calculate cosine similarity\n",
    "    similarities = cosine_similarity(tf_idf.T)\n",
    "    np.fill_diagonal(similarities, 0)\n",
    "\n",
    "    # Extract label to merge into and from where\n",
    "    topic_sizes = data_df.groupby(['Topic']).count().sort_values(\"Text\", ascending=False).reset_index()\n",
    "    topic_to_merge = topic_sizes.iloc[-1].Topic\n",
    "    topic_to_merge_into = np.argmax(similarities[topic_to_merge + 1]) - 1\n",
    "\n",
    "    # Adjust topics\n",
    "    data_df.loc[data_df.Topic == topic_to_merge, \"Topic\"] = topic_to_merge_into\n",
    "    old_topics = data_df.sort_values(\"Topic\").Topic.unique()\n",
    "    map_topics = {old_topic: index - 1 for index, old_topic in enumerate(old_topics)}\n",
    "    data_df.Topic = data_df.Topic.map(map_topics)\n",
    "    docs_per_topic = data_df.groupby(['Topic'], as_index = False).agg({'Text': ' '.join})\n",
    "\n",
    "    # Calculate new topic words\n",
    "    m = len(data)\n",
    "    tf_idf, count = c_tf_idf(docs_per_topic.Text.values, m)\n",
    "    top_n_words = extract_top_n_words_per_topic(tf_idf, count, docs_per_topic, n=20)\n",
    "\n",
    "topic_sizes = extract_topic_sizes(data_df); topic_sizes.head(10)"
   ]
  },
  {
   "cell_type": "code",
   "execution_count": 78,
   "id": "c399cf77-900d-424d-9816-a6f38146e06b",
   "metadata": {},
   "outputs": [
    {
     "data": {
      "text/plain": [
       "(154, 2)"
      ]
     },
     "execution_count": 78,
     "metadata": {},
     "output_type": "execute_result"
    }
   ],
   "source": [
    "topic_sizes.shape"
   ]
  },
  {
   "cell_type": "markdown",
   "id": "1ca81e79-4aae-478d-bf34-26d61baf3f11",
   "metadata": {},
   "source": [
    "Arriba, tomamos el tema menos común y lo fusionamos con el tema más similar.\n",
    "\n",
    "¡Al repetir esto 19 veces más, redujimos el número de temas de 176 a 154!\n",
    "\n",
    "**Nota:** Podemos omitir la parte de recálculo de este pipeline para acelerar el paso de reducción de temas. Sin embargo, es más preciso volver a calcular los vectores c-TF-IDF, ya que eso representaría mejor el contenido recién generado de los temas. Puede jugar con esto, por ejemplo, actualizando cada n pasos para acelerar el proceso y seguir teniendo buenas representaciones de temas.\n",
    "\n",
    "**Consejo:** Puede usar el método descrito en este artículo (o simplemente usar BERTopic) para crear incrustaciones a nivel de oración. La principal ventaja de esto es la posibilidad de ver la distribución de temas dentro de un solo documento."
   ]
  },
  {
   "cell_type": "markdown",
   "id": "ebaf01cc-2830-4e2e-94d3-7e54d5e623cd",
   "metadata": {
    "id": "a8844c02-b7d1-4411-8527-2ce9540931ba",
    "tags": []
   },
   "source": [
    "### <span style=\"color:blue\">Dynamic Topic Modelling</span>"
   ]
  },
  {
   "cell_type": "markdown",
   "id": "17550846-cd42-4a7f-8783-56cd0b55e13d",
   "metadata": {},
   "source": [
    "Luego de que el autor publicó su paper, también dejó a disposición la librería BERTopic, que se puede usar de la siguiente manera:"
   ]
  },
  {
   "cell_type": "code",
   "execution_count": 79,
   "id": "52a95110-a61d-47a5-b6b2-5eca85b77a06",
   "metadata": {},
   "outputs": [],
   "source": [
    "import re\n",
    "import pandas as pd\n",
    "\n",
    "trump = pd.read_csv('https://drive.google.com/uc?export=download&id=1xRKHaP-QwACMydlDnyFPEaFdtskJuBa6')\n",
    "trump.text = trump.apply(lambda row: re.sub(r\"http\\S+\", \"\", row.text).lower(), 1)\n",
    "trump.text = trump.apply(lambda row: \" \".join(filter(lambda x:x[0]!=\"@\", row.text.split())), 1)\n",
    "trump.text = trump.apply(lambda row: \" \".join(re.sub(\"[^a-zA-Z]+\", \" \", row.text).split()), 1)\n",
    "trump = trump.loc[(trump.isRetweet == \"f\") & (trump.text != \"\"), :]\n",
    "timestamps = trump.date.to_list()\n",
    "tweets = trump.text.to_list()"
   ]
  },
  {
   "cell_type": "code",
   "execution_count": 82,
   "id": "d78ba773-94f9-4f20-b3af-49e804e0db16",
   "metadata": {},
   "outputs": [
    {
     "data": {
      "application/vnd.jupyter.widget-view+json": {
       "model_id": "e4da9eff55c748859c8cdea3c01d62e0",
       "version_major": 2,
       "version_minor": 0
      },
      "text/plain": [
       "Batches:   0%|          | 0/1418 [00:00<?, ?it/s]"
      ]
     },
     "metadata": {},
     "output_type": "display_data"
    },
    {
     "name": "stderr",
     "output_type": "stream",
     "text": [
      "2022-05-04 12:33:32,057 - BERTopic - Transformed documents to Embeddings\n",
      "2022-05-04 12:33:40,525 - BERTopic - Reduced dimensionality\n"
     ]
    },
    {
     "name": "stdout",
     "output_type": "stream",
     "text": [
      "huggingface/tokenizers: The current process just got forked, after parallelism has already been used. Disabling parallelism to avoid deadlocks...\n",
      "To disable this warning, you can either:\n",
      "\t- Avoid using `tokenizers` before the fork if possible\n",
      "\t- Explicitly set the environment variable TOKENIZERS_PARALLELISM=(true | false)\n",
      "huggingface/tokenizers: The current process just got forked, after parallelism has already been used. Disabling parallelism to avoid deadlocks...\n",
      "To disable this warning, you can either:\n",
      "\t- Avoid using `tokenizers` before the fork if possible\n",
      "\t- Explicitly set the environment variable TOKENIZERS_PARALLELISM=(true | false)\n",
      "huggingface/tokenizers: The current process just got forked, after parallelism has already been used. Disabling parallelism to avoid deadlocks...\n",
      "To disable this warning, you can either:\n",
      "\t- Avoid using `tokenizers` before the fork if possible\n",
      "\t- Explicitly set the environment variable TOKENIZERS_PARALLELISM=(true | false)\n",
      "huggingface/tokenizers: The current process just got forked, after parallelism has already been used. Disabling parallelism to avoid deadlocks...\n",
      "To disable this warning, you can either:\n",
      "\t- Avoid using `tokenizers` before the fork if possible\n",
      "\t- Explicitly set the environment variable TOKENIZERS_PARALLELISM=(true | false)\n"
     ]
    },
    {
     "name": "stderr",
     "output_type": "stream",
     "text": [
      "2022-05-04 12:33:42,761 - BERTopic - Clustered reduced embeddings\n"
     ]
    }
   ],
   "source": [
    "#!pip install bertopic\n",
    "from bertopic import BERTopic\n",
    "topic_model = BERTopic(verbose=True)\n",
    "topics, probs = topic_model.fit_transform(tweets)"
   ]
  },
  {
   "cell_type": "code",
   "execution_count": 83,
   "id": "2e9cec27-7839-4bf9-93a0-239cb9f37021",
   "metadata": {},
   "outputs": [
    {
     "name": "stderr",
     "output_type": "stream",
     "text": [
      "20it [00:08,  2.49it/s]\n"
     ]
    }
   ],
   "source": [
    "topics_over_time = topic_model.topics_over_time(tweets, topics, timestamps, nr_bins=20)"
   ]
  },
  {
   "cell_type": "code",
   "execution_count": 85,
   "id": "aed0f912-0b7c-4b50-8abd-bbe864ec3bc3",
   "metadata": {},
   "outputs": [
    {
     "data": {
      "application/vnd.plotly.v1+json": {
       "config": {
        "plotlyServerURL": "https://plot.ly"
       },
       "data": [
        {
         "hoverinfo": "text",
         "hovertext": [
          "<b>Topic 5</b><br>Words: celebrity, apprentice, appearing, blog, lessons",
          "<b>Topic 5</b><br>Words: apprentice, celebrity, casting, nbc, sunday",
          "<b>Topic 5</b><br>Words: apprentice, episode, nbc, tune, celebrity",
          "<b>Topic 5</b><br>Words: apprentice, celebrity, sunday, episode, nbc",
          "<b>Topic 5</b><br>Words: apprentice, celebrity, sunday, episode, download",
          "<b>Topic 5</b><br>Words: apprentice, celebrity, metropolitian, knocks, winding",
          "<b>Topic 5</b><br>Words: apprentice, celebrity, nbc, episode, season",
          "<b>Topic 5</b><br>Words: apprentice, celebrity, jurciuoli, season, casting",
          "<b>Topic 5</b><br>Words: apprentice, celebrity, season, shooting, nbc",
          "<b>Topic 5</b><br>Words: apprentice, celebrity, episode, season, nbc",
          "<b>Topic 5</b><br>Words: apprentice, celebrity, arsenalhobbo, stuarty, scotty",
          "<b>Topic 5</b><br>Words: soloman, alisa, writer, apprentice, few",
          "<b>Topic 5</b><br>Words: voluntarily, schwarzenegger, apprentice, devote, conceived",
          "<b>Topic 5</b><br>Words: apprentice, vocabulary, markburnetttv, attributed, burnett",
          "<b>Topic 5</b><br>Words: upfront, profusely, thanked, apprentice, lineup"
         ],
         "marker": {
          "color": "#E69F00"
         },
         "mode": "lines",
         "name": "5_apprentice_celebrity_nbc_episode",
         "type": "scatter",
         "visible": "legendonly",
         "x": [
          "2009-04-30T12:30:07.596999",
          "2009-12-04T03:08:55.150000",
          "2010-07-05T11:23:25.300000",
          "2011-02-03T19:37:55.449999",
          "2011-09-05T03:52:25.600000",
          "2012-04-05T12:06:55.750000",
          "2012-11-04T20:21:25.900000",
          "2013-06-06T04:35:56.049999",
          "2014-01-05T12:50:26.200000",
          "2014-08-06T21:04:56.350000",
          "2015-03-08T05:19:26.500000",
          "2015-10-07T13:33:56.649999",
          "2016-12-07T06:02:56.950000",
          "2018-02-06T22:31:57.249999",
          "2019-04-09T15:00:57.550000"
         ],
         "y": [
          2,
          9,
          21,
          14,
          11,
          8,
          98,
          26,
          28,
          126,
          13,
          1,
          2,
          2,
          3
         ]
        },
        {
         "hoverinfo": "text",
         "hovertext": [
          "<b>Topic 0</b><br>Words: shouldtrumprun, factories, compete, com, supposed",
          "<b>Topic 0</b><br>Words: china, condoned, delegator, chinese, debt",
          "<b>Topic 0</b><br>Words: china, currency, cont, chinese, trade",
          "<b>Topic 0</b><br>Words: china, chinese, us, trade, tariffs",
          "<b>Topic 0</b><br>Words: china, chinese, us, trade, laughing",
          "<b>Topic 0</b><br>Words: china, laugh, peaceout, leaders, trade",
          "<b>Topic 0</b><br>Words: china, trade, yuan, chinese, screw",
          "<b>Topic 0</b><br>Words: china, overtaken, curb, laughing, laugh",
          "<b>Topic 0</b><br>Words: china, manipulation, trans, currency, partnership",
          "<b>Topic 0</b><br>Words: china, editorial, door, trade, minimizing",
          "<b>Topic 0</b><br>Words: trade, china, stairway, product, companies",
          "<b>Topic 0</b><br>Words: china, drone, trade, aluminum, charge",
          "<b>Topic 0</b><br>Words: china, lavar, trade, shoplifting, ungrateful",
          "<b>Topic 0</b><br>Words: trade, tariffs, china, barriers, farmers",
          "<b>Topic 0</b><br>Words: china, tariffs, trade, steel, farmers",
          "<b>Topic 0</b><br>Words: china, tariffs, products, trade, farmers",
          "<b>Topic 0</b><br>Words: china, trade, tariffs, farmers, deal",
          "<b>Topic 0</b><br>Words: china, fault, tariffs, maine, ustr"
         ],
         "marker": {
          "color": "#56B4E9"
         },
         "mode": "lines",
         "name": "0_china_tariffs_trade_chinese",
         "type": "scatter",
         "visible": "legendonly",
         "x": [
          "2010-07-05T11:23:25.300000",
          "2011-02-03T19:37:55.449999",
          "2011-09-05T03:52:25.600000",
          "2012-04-05T12:06:55.750000",
          "2012-11-04T20:21:25.900000",
          "2013-06-06T04:35:56.049999",
          "2014-01-05T12:50:26.200000",
          "2014-08-06T21:04:56.350000",
          "2015-03-08T05:19:26.500000",
          "2015-10-07T13:33:56.649999",
          "2016-05-07T21:48:26.800000",
          "2016-12-07T06:02:56.950000",
          "2017-07-08T14:17:27.100000",
          "2018-02-06T22:31:57.249999",
          "2018-09-08T06:46:27.400000",
          "2019-04-09T15:00:57.550000",
          "2019-11-08T23:15:27.700000",
          "2020-06-09T07:29:57.849999"
         ],
         "y": [
          1,
          13,
          93,
          98,
          72,
          33,
          16,
          19,
          26,
          12,
          18,
          17,
          20,
          104,
          65,
          177,
          40,
          14
         ]
        },
        {
         "hoverinfo": "text",
         "hovertext": [
          "<b>Topic 4</b><br>Words: cadell, ames, straw, poll, outcome",
          "<b>Topic 4</b><br>Words: cares, straw, viable, poll, improving",
          "<b>Topic 4</b><br>Words: poll, polls, numbers, polling, likeability",
          "<b>Topic 4</b><br>Words: tdudz, blind, critics, margin, percent",
          "<b>Topic 4</b><br>Words: nautilus, baffling, poll, texan, santorum",
          "<b>Topic 4</b><br>Words: mormanc, greek, tubes, poll, participate",
          "<b>Topic 4</b><br>Words: landrieu, robocall, pols, leading, poll",
          "<b>Topic 4</b><br>Words: poll, polls, leads, lead, carson",
          "<b>Topic 4</b><br>Words: poll, polls, carson, lead, rubio",
          "<b>Topic 4</b><br>Words: poll, imwithyou, polls, americafirst, maga",
          "<b>Topic 4</b><br>Words: favorably, viewed, wsj, era, per",
          "<b>Topic 4</b><br>Words: zinke, conservation, trophy, update, poll",
          "<b>Topic 4</b><br>Words: poll, recheck, straw, includes, abe",
          "<b>Topic 4</b><br>Words: poll, fd, di, peep, hypothetical",
          "<b>Topic 4</b><br>Words: poll, lead, oann, rival, leads",
          "<b>Topic 4</b><br>Words: poll, drawing, polls, points, wave"
         ],
         "marker": {
          "color": "#009E73"
         },
         "mode": "lines",
         "name": "4_poll_polls_carson_lead",
         "type": "scatter",
         "visible": "legendonly",
         "x": [
          "2011-02-03T19:37:55.449999",
          "2011-09-05T03:52:25.600000",
          "2012-04-05T12:06:55.750000",
          "2012-11-04T20:21:25.900000",
          "2013-06-06T04:35:56.049999",
          "2014-01-05T12:50:26.200000",
          "2014-08-06T21:04:56.350000",
          "2015-03-08T05:19:26.500000",
          "2015-10-07T13:33:56.649999",
          "2016-05-07T21:48:26.800000",
          "2016-12-07T06:02:56.950000",
          "2017-07-08T14:17:27.100000",
          "2018-02-06T22:31:57.249999",
          "2019-04-09T15:00:57.550000",
          "2019-11-08T23:15:27.700000",
          "2020-06-09T07:29:57.849999"
         ],
         "y": [
          3,
          3,
          11,
          3,
          4,
          3,
          2,
          104,
          196,
          49,
          1,
          2,
          4,
          7,
          9,
          14
         ]
        },
        {
         "hoverinfo": "text",
         "hovertext": [
          "<b>Topic 1</b><br>Words: dissemble, punished, warfare, music, sotu",
          "<b>Topic 1</b><br>Words: amp, fuel, easiest, marketeer, shareholder",
          "<b>Topic 1</b><br>Words: amp, glenfiddich, murray, scot, forbes",
          "<b>Topic 1</b><br>Words: amp, pickens, boone, customers, eve",
          "<b>Topic 1</b><br>Words: amp, eggs, frumpy, radio, gail",
          "<b>Topic 1</b><br>Words: amp, int, hermansjr, loeb, ward",
          "<b>Topic 1</b><br>Words: amp, bdean, deals, silentmajority, politicians",
          "<b>Topic 1</b><br>Words: amp, safe, votetrump, spent, hopeisalive",
          "<b>Topic 1</b><br>Words: amp, shoulder, safe, together, unity",
          "<b>Topic 1</b><br>Words: hire, amp, jobs, ceo, sheriffs",
          "<b>Topic 1</b><br>Words: amp, heel, prosper, heal, rebuild",
          "<b>Topic 1</b><br>Words: flexibility, amp, senjohnbarrasso, salena, raves",
          "<b>Topic 1</b><br>Words: amp, wren, dovish, vigor, enterprises",
          "<b>Topic 1</b><br>Words: amp, studio, stronger, thunder, boris",
          "<b>Topic 1</b><br>Words: amp, tap, vaping, equipment, prevail",
          "<b>Topic 1</b><br>Words: amp, lynda, daytime, suburban, taylor"
         ],
         "marker": {
          "color": "#F0E442"
         },
         "mode": "lines",
         "name": "1_amp_deals_int_smart",
         "type": "scatter",
         "visible": "legendonly",
         "x": [
          "2011-09-05T03:52:25.600000",
          "2012-04-05T12:06:55.750000",
          "2012-11-04T20:21:25.900000",
          "2013-06-06T04:35:56.049999",
          "2014-01-05T12:50:26.200000",
          "2014-08-06T21:04:56.350000",
          "2015-03-08T05:19:26.500000",
          "2015-10-07T13:33:56.649999",
          "2016-05-07T21:48:26.800000",
          "2016-12-07T06:02:56.950000",
          "2017-07-08T14:17:27.100000",
          "2018-02-06T22:31:57.249999",
          "2018-09-08T06:46:27.400000",
          "2019-04-09T15:00:57.550000",
          "2019-11-08T23:15:27.700000",
          "2020-06-09T07:29:57.849999"
         ],
         "y": [
          2,
          28,
          113,
          65,
          63,
          67,
          80,
          52,
          36,
          22,
          31,
          9,
          7,
          30,
          34,
          29
         ]
        },
        {
         "hoverinfo": "text",
         "hovertext": [
          "<b>Topic 2</b><br>Words: wasserman, schultz, debbie, listen, wonder",
          "<b>Topic 2</b><br>Words: afterwards, unsexiest, beneath, unattractive, vernon",
          "<b>Topic 2</b><br>Words: harsher, slack, pave, warrencasselljr, strategic",
          "<b>Topic 2</b><br>Words: filner, andrewtavani, sofia, billclinton, mozek",
          "<b>Topic 2</b><br>Words: jrmarsy, gootecks, maarten, empty, issues",
          "<b>Topic 2</b><br>Words: asedawg, cat, brightest, appoint, gonna",
          "<b>Topic 2</b><br>Words: hillary, clinton, she, huma, carly",
          "<b>Topic 2</b><br>Words: hillary, clinton, crooked, she, sanders",
          "<b>Topic 2</b><br>Words: hillary, crooked, clinton, bernie, she",
          "<b>Topic 2</b><br>Words: clinton, bernie, hillary, she, bleached",
          "<b>Topic 2</b><br>Words: crooked, hillary, clinton, mails, emails",
          "<b>Topic 2</b><br>Words: hillary, emails, clinton, crooked, classified",
          "<b>Topic 2</b><br>Words: foundation, clinton, snowman, klobuchar, monetized",
          "<b>Topic 2</b><br>Words: hillary, emails, crooked, acid, clinton",
          "<b>Topic 2</b><br>Words: bernie, sanders, nomination, hillary, crooked",
          "<b>Topic 2</b><br>Words: crooked, hillary, liz, phones, emails"
         ],
         "marker": {
          "color": "#D55E00"
         },
         "mode": "lines",
         "name": "2_hillary_crooked_clinton_bernie",
         "type": "scatter",
         "visible": "legendonly",
         "x": [
          "2011-09-05T03:52:25.600000",
          "2012-04-05T12:06:55.750000",
          "2012-11-04T20:21:25.900000",
          "2013-06-06T04:35:56.049999",
          "2014-01-05T12:50:26.200000",
          "2014-08-06T21:04:56.350000",
          "2015-03-08T05:19:26.500000",
          "2015-10-07T13:33:56.649999",
          "2016-05-07T21:48:26.800000",
          "2016-12-07T06:02:56.950000",
          "2017-07-08T14:17:27.100000",
          "2018-02-06T22:31:57.249999",
          "2018-09-08T06:46:27.400000",
          "2019-04-09T15:00:57.550000",
          "2019-11-08T23:15:27.700000",
          "2020-06-09T07:29:57.849999"
         ],
         "y": [
          1,
          6,
          6,
          4,
          2,
          2,
          29,
          82,
          384,
          9,
          21,
          12,
          5,
          23,
          23,
          12
         ]
        },
        {
         "hoverinfo": "text",
         "hovertext": [
          "<b>Topic 3</b><br>Words: theatre, formerly, critic, sadly, forced",
          "<b>Topic 3</b><br>Words: aspirin, professionalism, websites, reporting, reviewing",
          "<b>Topic 3</b><br>Words: snooze, daily, mewonderful, lolss, publishes",
          "<b>Topic 3</b><br>Words: editor, publicity, themissis, bonz, lordkaa",
          "<b>Topic 3</b><br>Words: irrelevant, allamervet, ridiculed, loooose, michaelgferrara",
          "<b>Topic 3</b><br>Words: airstrikes, satirical, fled, huffpost, bucks",
          "<b>Topic 3</b><br>Words: media, dishonest, failing, politico, inaccurately",
          "<b>Topic 3</b><br>Words: failing, media, paper, dishonest, newspaper",
          "<b>Topic 3</b><br>Words: failing, dishonest, media, story, sources",
          "<b>Topic 3</b><br>Words: media, fake, sources, failing, enemy",
          "<b>Topic 3</b><br>Words: fake, media, news, fakenews, sources",
          "<b>Topic 3</b><br>Words: media, fake, sources, anonymous, news",
          "<b>Topic 3</b><br>Words: media, fake, enemy, news, dishonest",
          "<b>Topic 3</b><br>Words: media, fake, news, times, corrupt",
          "<b>Topic 3</b><br>Words: lamestream, media, fake, sources, news",
          "<b>Topic 3</b><br>Words: media, fake, news, lamestream, write"
         ],
         "marker": {
          "color": "#0072B2"
         },
         "mode": "lines",
         "name": "3_media_fake_news_failing",
         "type": "scatter",
         "visible": true,
         "x": [
          "2011-09-05T03:52:25.600000",
          "2012-04-05T12:06:55.750000",
          "2012-11-04T20:21:25.900000",
          "2013-06-06T04:35:56.049999",
          "2014-01-05T12:50:26.200000",
          "2014-08-06T21:04:56.350000",
          "2015-03-08T05:19:26.500000",
          "2015-10-07T13:33:56.649999",
          "2016-05-07T21:48:26.800000",
          "2016-12-07T06:02:56.950000",
          "2017-07-08T14:17:27.100000",
          "2018-02-06T22:31:57.249999",
          "2018-09-08T06:46:27.400000",
          "2019-04-09T15:00:57.550000",
          "2019-11-08T23:15:27.700000",
          "2020-06-09T07:29:57.849999"
         ],
         "y": [
          1,
          7,
          13,
          10,
          11,
          5,
          27,
          39,
          42,
          35,
          34,
          40,
          43,
          78,
          48,
          46
         ]
        }
       ],
       "layout": {
        "height": 450,
        "hoverlabel": {
         "bgcolor": "white",
         "font": {
          "family": "Rockwell",
          "size": 16
         }
        },
        "legend": {
         "title": {
          "text": "<b>Global Topic Representation"
         }
        },
        "template": {
         "data": {
          "bar": [
           {
            "error_x": {
             "color": "rgb(36,36,36)"
            },
            "error_y": {
             "color": "rgb(36,36,36)"
            },
            "marker": {
             "line": {
              "color": "white",
              "width": 0.5
             },
             "pattern": {
              "fillmode": "overlay",
              "size": 10,
              "solidity": 0.2
             }
            },
            "type": "bar"
           }
          ],
          "barpolar": [
           {
            "marker": {
             "line": {
              "color": "white",
              "width": 0.5
             },
             "pattern": {
              "fillmode": "overlay",
              "size": 10,
              "solidity": 0.2
             }
            },
            "type": "barpolar"
           }
          ],
          "carpet": [
           {
            "aaxis": {
             "endlinecolor": "rgb(36,36,36)",
             "gridcolor": "white",
             "linecolor": "white",
             "minorgridcolor": "white",
             "startlinecolor": "rgb(36,36,36)"
            },
            "baxis": {
             "endlinecolor": "rgb(36,36,36)",
             "gridcolor": "white",
             "linecolor": "white",
             "minorgridcolor": "white",
             "startlinecolor": "rgb(36,36,36)"
            },
            "type": "carpet"
           }
          ],
          "choropleth": [
           {
            "colorbar": {
             "outlinewidth": 1,
             "tickcolor": "rgb(36,36,36)",
             "ticks": "outside"
            },
            "type": "choropleth"
           }
          ],
          "contour": [
           {
            "colorbar": {
             "outlinewidth": 1,
             "tickcolor": "rgb(36,36,36)",
             "ticks": "outside"
            },
            "colorscale": [
             [
              0,
              "#440154"
             ],
             [
              0.1111111111111111,
              "#482878"
             ],
             [
              0.2222222222222222,
              "#3e4989"
             ],
             [
              0.3333333333333333,
              "#31688e"
             ],
             [
              0.4444444444444444,
              "#26828e"
             ],
             [
              0.5555555555555556,
              "#1f9e89"
             ],
             [
              0.6666666666666666,
              "#35b779"
             ],
             [
              0.7777777777777778,
              "#6ece58"
             ],
             [
              0.8888888888888888,
              "#b5de2b"
             ],
             [
              1,
              "#fde725"
             ]
            ],
            "type": "contour"
           }
          ],
          "contourcarpet": [
           {
            "colorbar": {
             "outlinewidth": 1,
             "tickcolor": "rgb(36,36,36)",
             "ticks": "outside"
            },
            "type": "contourcarpet"
           }
          ],
          "heatmap": [
           {
            "colorbar": {
             "outlinewidth": 1,
             "tickcolor": "rgb(36,36,36)",
             "ticks": "outside"
            },
            "colorscale": [
             [
              0,
              "#440154"
             ],
             [
              0.1111111111111111,
              "#482878"
             ],
             [
              0.2222222222222222,
              "#3e4989"
             ],
             [
              0.3333333333333333,
              "#31688e"
             ],
             [
              0.4444444444444444,
              "#26828e"
             ],
             [
              0.5555555555555556,
              "#1f9e89"
             ],
             [
              0.6666666666666666,
              "#35b779"
             ],
             [
              0.7777777777777778,
              "#6ece58"
             ],
             [
              0.8888888888888888,
              "#b5de2b"
             ],
             [
              1,
              "#fde725"
             ]
            ],
            "type": "heatmap"
           }
          ],
          "heatmapgl": [
           {
            "colorbar": {
             "outlinewidth": 1,
             "tickcolor": "rgb(36,36,36)",
             "ticks": "outside"
            },
            "colorscale": [
             [
              0,
              "#440154"
             ],
             [
              0.1111111111111111,
              "#482878"
             ],
             [
              0.2222222222222222,
              "#3e4989"
             ],
             [
              0.3333333333333333,
              "#31688e"
             ],
             [
              0.4444444444444444,
              "#26828e"
             ],
             [
              0.5555555555555556,
              "#1f9e89"
             ],
             [
              0.6666666666666666,
              "#35b779"
             ],
             [
              0.7777777777777778,
              "#6ece58"
             ],
             [
              0.8888888888888888,
              "#b5de2b"
             ],
             [
              1,
              "#fde725"
             ]
            ],
            "type": "heatmapgl"
           }
          ],
          "histogram": [
           {
            "marker": {
             "line": {
              "color": "white",
              "width": 0.6
             }
            },
            "type": "histogram"
           }
          ],
          "histogram2d": [
           {
            "colorbar": {
             "outlinewidth": 1,
             "tickcolor": "rgb(36,36,36)",
             "ticks": "outside"
            },
            "colorscale": [
             [
              0,
              "#440154"
             ],
             [
              0.1111111111111111,
              "#482878"
             ],
             [
              0.2222222222222222,
              "#3e4989"
             ],
             [
              0.3333333333333333,
              "#31688e"
             ],
             [
              0.4444444444444444,
              "#26828e"
             ],
             [
              0.5555555555555556,
              "#1f9e89"
             ],
             [
              0.6666666666666666,
              "#35b779"
             ],
             [
              0.7777777777777778,
              "#6ece58"
             ],
             [
              0.8888888888888888,
              "#b5de2b"
             ],
             [
              1,
              "#fde725"
             ]
            ],
            "type": "histogram2d"
           }
          ],
          "histogram2dcontour": [
           {
            "colorbar": {
             "outlinewidth": 1,
             "tickcolor": "rgb(36,36,36)",
             "ticks": "outside"
            },
            "colorscale": [
             [
              0,
              "#440154"
             ],
             [
              0.1111111111111111,
              "#482878"
             ],
             [
              0.2222222222222222,
              "#3e4989"
             ],
             [
              0.3333333333333333,
              "#31688e"
             ],
             [
              0.4444444444444444,
              "#26828e"
             ],
             [
              0.5555555555555556,
              "#1f9e89"
             ],
             [
              0.6666666666666666,
              "#35b779"
             ],
             [
              0.7777777777777778,
              "#6ece58"
             ],
             [
              0.8888888888888888,
              "#b5de2b"
             ],
             [
              1,
              "#fde725"
             ]
            ],
            "type": "histogram2dcontour"
           }
          ],
          "mesh3d": [
           {
            "colorbar": {
             "outlinewidth": 1,
             "tickcolor": "rgb(36,36,36)",
             "ticks": "outside"
            },
            "type": "mesh3d"
           }
          ],
          "parcoords": [
           {
            "line": {
             "colorbar": {
              "outlinewidth": 1,
              "tickcolor": "rgb(36,36,36)",
              "ticks": "outside"
             }
            },
            "type": "parcoords"
           }
          ],
          "pie": [
           {
            "automargin": true,
            "type": "pie"
           }
          ],
          "scatter": [
           {
            "fillpattern": {
             "fillmode": "overlay",
             "size": 10,
             "solidity": 0.2
            },
            "type": "scatter"
           }
          ],
          "scatter3d": [
           {
            "line": {
             "colorbar": {
              "outlinewidth": 1,
              "tickcolor": "rgb(36,36,36)",
              "ticks": "outside"
             }
            },
            "marker": {
             "colorbar": {
              "outlinewidth": 1,
              "tickcolor": "rgb(36,36,36)",
              "ticks": "outside"
             }
            },
            "type": "scatter3d"
           }
          ],
          "scattercarpet": [
           {
            "marker": {
             "colorbar": {
              "outlinewidth": 1,
              "tickcolor": "rgb(36,36,36)",
              "ticks": "outside"
             }
            },
            "type": "scattercarpet"
           }
          ],
          "scattergeo": [
           {
            "marker": {
             "colorbar": {
              "outlinewidth": 1,
              "tickcolor": "rgb(36,36,36)",
              "ticks": "outside"
             }
            },
            "type": "scattergeo"
           }
          ],
          "scattergl": [
           {
            "marker": {
             "colorbar": {
              "outlinewidth": 1,
              "tickcolor": "rgb(36,36,36)",
              "ticks": "outside"
             }
            },
            "type": "scattergl"
           }
          ],
          "scattermapbox": [
           {
            "marker": {
             "colorbar": {
              "outlinewidth": 1,
              "tickcolor": "rgb(36,36,36)",
              "ticks": "outside"
             }
            },
            "type": "scattermapbox"
           }
          ],
          "scatterpolar": [
           {
            "marker": {
             "colorbar": {
              "outlinewidth": 1,
              "tickcolor": "rgb(36,36,36)",
              "ticks": "outside"
             }
            },
            "type": "scatterpolar"
           }
          ],
          "scatterpolargl": [
           {
            "marker": {
             "colorbar": {
              "outlinewidth": 1,
              "tickcolor": "rgb(36,36,36)",
              "ticks": "outside"
             }
            },
            "type": "scatterpolargl"
           }
          ],
          "scatterternary": [
           {
            "marker": {
             "colorbar": {
              "outlinewidth": 1,
              "tickcolor": "rgb(36,36,36)",
              "ticks": "outside"
             }
            },
            "type": "scatterternary"
           }
          ],
          "surface": [
           {
            "colorbar": {
             "outlinewidth": 1,
             "tickcolor": "rgb(36,36,36)",
             "ticks": "outside"
            },
            "colorscale": [
             [
              0,
              "#440154"
             ],
             [
              0.1111111111111111,
              "#482878"
             ],
             [
              0.2222222222222222,
              "#3e4989"
             ],
             [
              0.3333333333333333,
              "#31688e"
             ],
             [
              0.4444444444444444,
              "#26828e"
             ],
             [
              0.5555555555555556,
              "#1f9e89"
             ],
             [
              0.6666666666666666,
              "#35b779"
             ],
             [
              0.7777777777777778,
              "#6ece58"
             ],
             [
              0.8888888888888888,
              "#b5de2b"
             ],
             [
              1,
              "#fde725"
             ]
            ],
            "type": "surface"
           }
          ],
          "table": [
           {
            "cells": {
             "fill": {
              "color": "rgb(237,237,237)"
             },
             "line": {
              "color": "white"
             }
            },
            "header": {
             "fill": {
              "color": "rgb(217,217,217)"
             },
             "line": {
              "color": "white"
             }
            },
            "type": "table"
           }
          ]
         },
         "layout": {
          "annotationdefaults": {
           "arrowhead": 0,
           "arrowwidth": 1
          },
          "autotypenumbers": "strict",
          "coloraxis": {
           "colorbar": {
            "outlinewidth": 1,
            "tickcolor": "rgb(36,36,36)",
            "ticks": "outside"
           }
          },
          "colorscale": {
           "diverging": [
            [
             0,
             "rgb(103,0,31)"
            ],
            [
             0.1,
             "rgb(178,24,43)"
            ],
            [
             0.2,
             "rgb(214,96,77)"
            ],
            [
             0.3,
             "rgb(244,165,130)"
            ],
            [
             0.4,
             "rgb(253,219,199)"
            ],
            [
             0.5,
             "rgb(247,247,247)"
            ],
            [
             0.6,
             "rgb(209,229,240)"
            ],
            [
             0.7,
             "rgb(146,197,222)"
            ],
            [
             0.8,
             "rgb(67,147,195)"
            ],
            [
             0.9,
             "rgb(33,102,172)"
            ],
            [
             1,
             "rgb(5,48,97)"
            ]
           ],
           "sequential": [
            [
             0,
             "#440154"
            ],
            [
             0.1111111111111111,
             "#482878"
            ],
            [
             0.2222222222222222,
             "#3e4989"
            ],
            [
             0.3333333333333333,
             "#31688e"
            ],
            [
             0.4444444444444444,
             "#26828e"
            ],
            [
             0.5555555555555556,
             "#1f9e89"
            ],
            [
             0.6666666666666666,
             "#35b779"
            ],
            [
             0.7777777777777778,
             "#6ece58"
            ],
            [
             0.8888888888888888,
             "#b5de2b"
            ],
            [
             1,
             "#fde725"
            ]
           ],
           "sequentialminus": [
            [
             0,
             "#440154"
            ],
            [
             0.1111111111111111,
             "#482878"
            ],
            [
             0.2222222222222222,
             "#3e4989"
            ],
            [
             0.3333333333333333,
             "#31688e"
            ],
            [
             0.4444444444444444,
             "#26828e"
            ],
            [
             0.5555555555555556,
             "#1f9e89"
            ],
            [
             0.6666666666666666,
             "#35b779"
            ],
            [
             0.7777777777777778,
             "#6ece58"
            ],
            [
             0.8888888888888888,
             "#b5de2b"
            ],
            [
             1,
             "#fde725"
            ]
           ]
          },
          "colorway": [
           "#1F77B4",
           "#FF7F0E",
           "#2CA02C",
           "#D62728",
           "#9467BD",
           "#8C564B",
           "#E377C2",
           "#7F7F7F",
           "#BCBD22",
           "#17BECF"
          ],
          "font": {
           "color": "rgb(36,36,36)"
          },
          "geo": {
           "bgcolor": "white",
           "lakecolor": "white",
           "landcolor": "white",
           "showlakes": true,
           "showland": true,
           "subunitcolor": "white"
          },
          "hoverlabel": {
           "align": "left"
          },
          "hovermode": "closest",
          "mapbox": {
           "style": "light"
          },
          "paper_bgcolor": "white",
          "plot_bgcolor": "white",
          "polar": {
           "angularaxis": {
            "gridcolor": "rgb(232,232,232)",
            "linecolor": "rgb(36,36,36)",
            "showgrid": false,
            "showline": true,
            "ticks": "outside"
           },
           "bgcolor": "white",
           "radialaxis": {
            "gridcolor": "rgb(232,232,232)",
            "linecolor": "rgb(36,36,36)",
            "showgrid": false,
            "showline": true,
            "ticks": "outside"
           }
          },
          "scene": {
           "xaxis": {
            "backgroundcolor": "white",
            "gridcolor": "rgb(232,232,232)",
            "gridwidth": 2,
            "linecolor": "rgb(36,36,36)",
            "showbackground": true,
            "showgrid": false,
            "showline": true,
            "ticks": "outside",
            "zeroline": false,
            "zerolinecolor": "rgb(36,36,36)"
           },
           "yaxis": {
            "backgroundcolor": "white",
            "gridcolor": "rgb(232,232,232)",
            "gridwidth": 2,
            "linecolor": "rgb(36,36,36)",
            "showbackground": true,
            "showgrid": false,
            "showline": true,
            "ticks": "outside",
            "zeroline": false,
            "zerolinecolor": "rgb(36,36,36)"
           },
           "zaxis": {
            "backgroundcolor": "white",
            "gridcolor": "rgb(232,232,232)",
            "gridwidth": 2,
            "linecolor": "rgb(36,36,36)",
            "showbackground": true,
            "showgrid": false,
            "showline": true,
            "ticks": "outside",
            "zeroline": false,
            "zerolinecolor": "rgb(36,36,36)"
           }
          },
          "shapedefaults": {
           "fillcolor": "black",
           "line": {
            "width": 0
           },
           "opacity": 0.3
          },
          "ternary": {
           "aaxis": {
            "gridcolor": "rgb(232,232,232)",
            "linecolor": "rgb(36,36,36)",
            "showgrid": false,
            "showline": true,
            "ticks": "outside"
           },
           "baxis": {
            "gridcolor": "rgb(232,232,232)",
            "linecolor": "rgb(36,36,36)",
            "showgrid": false,
            "showline": true,
            "ticks": "outside"
           },
           "bgcolor": "white",
           "caxis": {
            "gridcolor": "rgb(232,232,232)",
            "linecolor": "rgb(36,36,36)",
            "showgrid": false,
            "showline": true,
            "ticks": "outside"
           }
          },
          "title": {
           "x": 0.05
          },
          "xaxis": {
           "automargin": true,
           "gridcolor": "rgb(232,232,232)",
           "linecolor": "rgb(36,36,36)",
           "showgrid": false,
           "showline": true,
           "ticks": "outside",
           "title": {
            "standoff": 15
           },
           "zeroline": false,
           "zerolinecolor": "rgb(36,36,36)"
          },
          "yaxis": {
           "automargin": true,
           "gridcolor": "rgb(232,232,232)",
           "linecolor": "rgb(36,36,36)",
           "showgrid": false,
           "showline": true,
           "ticks": "outside",
           "title": {
            "standoff": 15
           },
           "zeroline": false,
           "zerolinecolor": "rgb(36,36,36)"
          }
         }
        },
        "title": {
         "font": {
          "color": "Black",
          "size": 22
         },
         "text": "<b>Topics over Time",
         "x": 0.4,
         "xanchor": "center",
         "y": 0.95,
         "yanchor": "top"
        },
        "width": 1250,
        "xaxis": {
         "autorange": true,
         "range": [
          "2011-09-05 03:52:25.6",
          "2020-06-09 07:29:57.85"
         ],
         "showgrid": true,
         "type": "date"
        },
        "yaxis": {
         "autorange": true,
         "range": [
          -3.2777777777777777,
          82.27777777777777
         ],
         "showgrid": true,
         "title": {
          "text": "Frequency"
         },
         "type": "linear"
        }
       }
      },
      "image/png": "[encoded data removed]",
      "text/html": [
       "<div>                            <div id=\"5d8d37b3-788a-4e6d-8482-e8a2cdf697ae\" class=\"plotly-graph-div\" style=\"height:450px; width:1250px;\"></div>            <script type=\"text/javascript\">                require([\"plotly\"], function(Plotly) {                    window.PLOTLYENV=window.PLOTLYENV || {};                                    if (document.getElementById(\"5d8d37b3-788a-4e6d-8482-e8a2cdf697ae\")) {                    Plotly.newPlot(                        \"5d8d37b3-788a-4e6d-8482-e8a2cdf697ae\",                        [{\"hoverinfo\":\"text\",\"hovertext\":[\"<b>Topic 5</b><br>Words: celebrity, apprentice, appearing, blog, lessons\",\"<b>Topic 5</b><br>Words: apprentice, celebrity, casting, nbc, sunday\",\"<b>Topic 5</b><br>Words: apprentice, episode, nbc, tune, celebrity\",\"<b>Topic 5</b><br>Words: apprentice, celebrity, sunday, episode, nbc\",\"<b>Topic 5</b><br>Words: apprentice, celebrity, sunday, episode, download\",\"<b>Topic 5</b><br>Words: apprentice, celebrity, metropolitian, knocks, winding\",\"<b>Topic 5</b><br>Words: apprentice, celebrity, nbc, episode, season\",\"<b>Topic 5</b><br>Words: apprentice, celebrity, jurciuoli, season, casting\",\"<b>Topic 5</b><br>Words: apprentice, celebrity, season, shooting, nbc\",\"<b>Topic 5</b><br>Words: apprentice, celebrity, episode, season, nbc\",\"<b>Topic 5</b><br>Words: apprentice, celebrity, arsenalhobbo, stuarty, scotty\",\"<b>Topic 5</b><br>Words: soloman, alisa, writer, apprentice, few\",\"<b>Topic 5</b><br>Words: voluntarily, schwarzenegger, apprentice, devote, conceived\",\"<b>Topic 5</b><br>Words: apprentice, vocabulary, markburnetttv, attributed, burnett\",\"<b>Topic 5</b><br>Words: upfront, profusely, thanked, apprentice, lineup\"],\"marker\":{\"color\":\"#E69F00\"},\"mode\":\"lines\",\"name\":\"5_apprentice_celebrity_nbc_episode\",\"x\":[\"2009-04-30T12:30:07.596999\",\"2009-12-04T03:08:55.150000\",\"2010-07-05T11:23:25.300000\",\"2011-02-03T19:37:55.449999\",\"2011-09-05T03:52:25.600000\",\"2012-04-05T12:06:55.750000\",\"2012-11-04T20:21:25.900000\",\"2013-06-06T04:35:56.049999\",\"2014-01-05T12:50:26.200000\",\"2014-08-06T21:04:56.350000\",\"2015-03-08T05:19:26.500000\",\"2015-10-07T13:33:56.649999\",\"2016-12-07T06:02:56.950000\",\"2018-02-06T22:31:57.249999\",\"2019-04-09T15:00:57.550000\"],\"y\":[2,9,21,14,11,8,98,26,28,126,13,1,2,2,3],\"type\":\"scatter\"},{\"hoverinfo\":\"text\",\"hovertext\":[\"<b>Topic 0</b><br>Words: shouldtrumprun, factories, compete, com, supposed\",\"<b>Topic 0</b><br>Words: china, condoned, delegator, chinese, debt\",\"<b>Topic 0</b><br>Words: china, currency, cont, chinese, trade\",\"<b>Topic 0</b><br>Words: china, chinese, us, trade, tariffs\",\"<b>Topic 0</b><br>Words: china, chinese, us, trade, laughing\",\"<b>Topic 0</b><br>Words: china, laugh, peaceout, leaders, trade\",\"<b>Topic 0</b><br>Words: china, trade, yuan, chinese, screw\",\"<b>Topic 0</b><br>Words: china, overtaken, curb, laughing, laugh\",\"<b>Topic 0</b><br>Words: china, manipulation, trans, currency, partnership\",\"<b>Topic 0</b><br>Words: china, editorial, door, trade, minimizing\",\"<b>Topic 0</b><br>Words: trade, china, stairway, product, companies\",\"<b>Topic 0</b><br>Words: china, drone, trade, aluminum, charge\",\"<b>Topic 0</b><br>Words: china, lavar, trade, shoplifting, ungrateful\",\"<b>Topic 0</b><br>Words: trade, tariffs, china, barriers, farmers\",\"<b>Topic 0</b><br>Words: china, tariffs, trade, steel, farmers\",\"<b>Topic 0</b><br>Words: china, tariffs, products, trade, farmers\",\"<b>Topic 0</b><br>Words: china, trade, tariffs, farmers, deal\",\"<b>Topic 0</b><br>Words: china, fault, tariffs, maine, ustr\"],\"marker\":{\"color\":\"#56B4E9\"},\"mode\":\"lines\",\"name\":\"0_china_tariffs_trade_chinese\",\"x\":[\"2010-07-05T11:23:25.300000\",\"2011-02-03T19:37:55.449999\",\"2011-09-05T03:52:25.600000\",\"2012-04-05T12:06:55.750000\",\"2012-11-04T20:21:25.900000\",\"2013-06-06T04:35:56.049999\",\"2014-01-05T12:50:26.200000\",\"2014-08-06T21:04:56.350000\",\"2015-03-08T05:19:26.500000\",\"2015-10-07T13:33:56.649999\",\"2016-05-07T21:48:26.800000\",\"2016-12-07T06:02:56.950000\",\"2017-07-08T14:17:27.100000\",\"2018-02-06T22:31:57.249999\",\"2018-09-08T06:46:27.400000\",\"2019-04-09T15:00:57.550000\",\"2019-11-08T23:15:27.700000\",\"2020-06-09T07:29:57.849999\"],\"y\":[1,13,93,98,72,33,16,19,26,12,18,17,20,104,65,177,40,14],\"type\":\"scatter\"},{\"hoverinfo\":\"text\",\"hovertext\":[\"<b>Topic 4</b><br>Words: cadell, ames, straw, poll, outcome\",\"<b>Topic 4</b><br>Words: cares, straw, viable, poll, improving\",\"<b>Topic 4</b><br>Words: poll, polls, numbers, polling, likeability\",\"<b>Topic 4</b><br>Words: tdudz, blind, critics, margin, percent\",\"<b>Topic 4</b><br>Words: nautilus, baffling, poll, texan, santorum\",\"<b>Topic 4</b><br>Words: mormanc, greek, tubes, poll, participate\",\"<b>Topic 4</b><br>Words: landrieu, robocall, pols, leading, poll\",\"<b>Topic 4</b><br>Words: poll, polls, leads, lead, carson\",\"<b>Topic 4</b><br>Words: poll, polls, carson, lead, rubio\",\"<b>Topic 4</b><br>Words: poll, imwithyou, polls, americafirst, maga\",\"<b>Topic 4</b><br>Words: favorably, viewed, wsj, era, per\",\"<b>Topic 4</b><br>Words: zinke, conservation, trophy, update, poll\",\"<b>Topic 4</b><br>Words: poll, recheck, straw, includes, abe\",\"<b>Topic 4</b><br>Words: poll, fd, di, peep, hypothetical\",\"<b>Topic 4</b><br>Words: poll, lead, oann, rival, leads\",\"<b>Topic 4</b><br>Words: poll, drawing, polls, points, wave\"],\"marker\":{\"color\":\"#009E73\"},\"mode\":\"lines\",\"name\":\"4_poll_polls_carson_lead\",\"x\":[\"2011-02-03T19:37:55.449999\",\"2011-09-05T03:52:25.600000\",\"2012-04-05T12:06:55.750000\",\"2012-11-04T20:21:25.900000\",\"2013-06-06T04:35:56.049999\",\"2014-01-05T12:50:26.200000\",\"2014-08-06T21:04:56.350000\",\"2015-03-08T05:19:26.500000\",\"2015-10-07T13:33:56.649999\",\"2016-05-07T21:48:26.800000\",\"2016-12-07T06:02:56.950000\",\"2017-07-08T14:17:27.100000\",\"2018-02-06T22:31:57.249999\",\"2019-04-09T15:00:57.550000\",\"2019-11-08T23:15:27.700000\",\"2020-06-09T07:29:57.849999\"],\"y\":[3,3,11,3,4,3,2,104,196,49,1,2,4,7,9,14],\"type\":\"scatter\"},{\"hoverinfo\":\"text\",\"hovertext\":[\"<b>Topic 1</b><br>Words: dissemble, punished, warfare, music, sotu\",\"<b>Topic 1</b><br>Words: amp, fuel, easiest, marketeer, shareholder\",\"<b>Topic 1</b><br>Words: amp, glenfiddich, murray, scot, forbes\",\"<b>Topic 1</b><br>Words: amp, pickens, boone, customers, eve\",\"<b>Topic 1</b><br>Words: amp, eggs, frumpy, radio, gail\",\"<b>Topic 1</b><br>Words: amp, int, hermansjr, loeb, ward\",\"<b>Topic 1</b><br>Words: amp, bdean, deals, silentmajority, politicians\",\"<b>Topic 1</b><br>Words: amp, safe, votetrump, spent, hopeisalive\",\"<b>Topic 1</b><br>Words: amp, shoulder, safe, together, unity\",\"<b>Topic 1</b><br>Words: hire, amp, jobs, ceo, sheriffs\",\"<b>Topic 1</b><br>Words: amp, heel, prosper, heal, rebuild\",\"<b>Topic 1</b><br>Words: flexibility, amp, senjohnbarrasso, salena, raves\",\"<b>Topic 1</b><br>Words: amp, wren, dovish, vigor, enterprises\",\"<b>Topic 1</b><br>Words: amp, studio, stronger, thunder, boris\",\"<b>Topic 1</b><br>Words: amp, tap, vaping, equipment, prevail\",\"<b>Topic 1</b><br>Words: amp, lynda, daytime, suburban, taylor\"],\"marker\":{\"color\":\"#F0E442\"},\"mode\":\"lines\",\"name\":\"1_amp_deals_int_smart\",\"x\":[\"2011-09-05T03:52:25.600000\",\"2012-04-05T12:06:55.750000\",\"2012-11-04T20:21:25.900000\",\"2013-06-06T04:35:56.049999\",\"2014-01-05T12:50:26.200000\",\"2014-08-06T21:04:56.350000\",\"2015-03-08T05:19:26.500000\",\"2015-10-07T13:33:56.649999\",\"2016-05-07T21:48:26.800000\",\"2016-12-07T06:02:56.950000\",\"2017-07-08T14:17:27.100000\",\"2018-02-06T22:31:57.249999\",\"2018-09-08T06:46:27.400000\",\"2019-04-09T15:00:57.550000\",\"2019-11-08T23:15:27.700000\",\"2020-06-09T07:29:57.849999\"],\"y\":[2,28,113,65,63,67,80,52,36,22,31,9,7,30,34,29],\"type\":\"scatter\"},{\"hoverinfo\":\"text\",\"hovertext\":[\"<b>Topic 2</b><br>Words: wasserman, schultz, debbie, listen, wonder\",\"<b>Topic 2</b><br>Words: afterwards, unsexiest, beneath, unattractive, vernon\",\"<b>Topic 2</b><br>Words: harsher, slack, pave, warrencasselljr, strategic\",\"<b>Topic 2</b><br>Words: filner, andrewtavani, sofia, billclinton, mozek\",\"<b>Topic 2</b><br>Words: jrmarsy, gootecks, maarten, empty, issues\",\"<b>Topic 2</b><br>Words: asedawg, cat, brightest, appoint, gonna\",\"<b>Topic 2</b><br>Words: hillary, clinton, she, huma, carly\",\"<b>Topic 2</b><br>Words: hillary, clinton, crooked, she, sanders\",\"<b>Topic 2</b><br>Words: hillary, crooked, clinton, bernie, she\",\"<b>Topic 2</b><br>Words: clinton, bernie, hillary, she, bleached\",\"<b>Topic 2</b><br>Words: crooked, hillary, clinton, mails, emails\",\"<b>Topic 2</b><br>Words: hillary, emails, clinton, crooked, classified\",\"<b>Topic 2</b><br>Words: foundation, clinton, snowman, klobuchar, monetized\",\"<b>Topic 2</b><br>Words: hillary, emails, crooked, acid, clinton\",\"<b>Topic 2</b><br>Words: bernie, sanders, nomination, hillary, crooked\",\"<b>Topic 2</b><br>Words: crooked, hillary, liz, phones, emails\"],\"marker\":{\"color\":\"#D55E00\"},\"mode\":\"lines\",\"name\":\"2_hillary_crooked_clinton_bernie\",\"x\":[\"2011-09-05T03:52:25.600000\",\"2012-04-05T12:06:55.750000\",\"2012-11-04T20:21:25.900000\",\"2013-06-06T04:35:56.049999\",\"2014-01-05T12:50:26.200000\",\"2014-08-06T21:04:56.350000\",\"2015-03-08T05:19:26.500000\",\"2015-10-07T13:33:56.649999\",\"2016-05-07T21:48:26.800000\",\"2016-12-07T06:02:56.950000\",\"2017-07-08T14:17:27.100000\",\"2018-02-06T22:31:57.249999\",\"2018-09-08T06:46:27.400000\",\"2019-04-09T15:00:57.550000\",\"2019-11-08T23:15:27.700000\",\"2020-06-09T07:29:57.849999\"],\"y\":[1,6,6,4,2,2,29,82,384,9,21,12,5,23,23,12],\"type\":\"scatter\"},{\"hoverinfo\":\"text\",\"hovertext\":[\"<b>Topic 3</b><br>Words: theatre, formerly, critic, sadly, forced\",\"<b>Topic 3</b><br>Words: aspirin, professionalism, websites, reporting, reviewing\",\"<b>Topic 3</b><br>Words: snooze, daily, mewonderful, lolss, publishes\",\"<b>Topic 3</b><br>Words: editor, publicity, themissis, bonz, lordkaa\",\"<b>Topic 3</b><br>Words: irrelevant, allamervet, ridiculed, loooose, michaelgferrara\",\"<b>Topic 3</b><br>Words: airstrikes, satirical, fled, huffpost, bucks\",\"<b>Topic 3</b><br>Words: media, dishonest, failing, politico, inaccurately\",\"<b>Topic 3</b><br>Words: failing, media, paper, dishonest, newspaper\",\"<b>Topic 3</b><br>Words: failing, dishonest, media, story, sources\",\"<b>Topic 3</b><br>Words: media, fake, sources, failing, enemy\",\"<b>Topic 3</b><br>Words: fake, media, news, fakenews, sources\",\"<b>Topic 3</b><br>Words: media, fake, sources, anonymous, news\",\"<b>Topic 3</b><br>Words: media, fake, enemy, news, dishonest\",\"<b>Topic 3</b><br>Words: media, fake, news, times, corrupt\",\"<b>Topic 3</b><br>Words: lamestream, media, fake, sources, news\",\"<b>Topic 3</b><br>Words: media, fake, news, lamestream, write\"],\"marker\":{\"color\":\"#0072B2\"},\"mode\":\"lines\",\"name\":\"3_media_fake_news_failing\",\"x\":[\"2011-09-05T03:52:25.600000\",\"2012-04-05T12:06:55.750000\",\"2012-11-04T20:21:25.900000\",\"2013-06-06T04:35:56.049999\",\"2014-01-05T12:50:26.200000\",\"2014-08-06T21:04:56.350000\",\"2015-03-08T05:19:26.500000\",\"2015-10-07T13:33:56.649999\",\"2016-05-07T21:48:26.800000\",\"2016-12-07T06:02:56.950000\",\"2017-07-08T14:17:27.100000\",\"2018-02-06T22:31:57.249999\",\"2018-09-08T06:46:27.400000\",\"2019-04-09T15:00:57.550000\",\"2019-11-08T23:15:27.700000\",\"2020-06-09T07:29:57.849999\"],\"y\":[1,7,13,10,11,5,27,39,42,35,34,40,43,78,48,46],\"type\":\"scatter\"}],                        {\"template\":{\"data\":{\"barpolar\":[{\"marker\":{\"line\":{\"color\":\"white\",\"width\":0.5},\"pattern\":{\"fillmode\":\"overlay\",\"size\":10,\"solidity\":0.2}},\"type\":\"barpolar\"}],\"bar\":[{\"error_x\":{\"color\":\"rgb(36,36,36)\"},\"error_y\":{\"color\":\"rgb(36,36,36)\"},\"marker\":{\"line\":{\"color\":\"white\",\"width\":0.5},\"pattern\":{\"fillmode\":\"overlay\",\"size\":10,\"solidity\":0.2}},\"type\":\"bar\"}],\"carpet\":[{\"aaxis\":{\"endlinecolor\":\"rgb(36,36,36)\",\"gridcolor\":\"white\",\"linecolor\":\"white\",\"minorgridcolor\":\"white\",\"startlinecolor\":\"rgb(36,36,36)\"},\"baxis\":{\"endlinecolor\":\"rgb(36,36,36)\",\"gridcolor\":\"white\",\"linecolor\":\"white\",\"minorgridcolor\":\"white\",\"startlinecolor\":\"rgb(36,36,36)\"},\"type\":\"carpet\"}],\"choropleth\":[{\"colorbar\":{\"outlinewidth\":1,\"tickcolor\":\"rgb(36,36,36)\",\"ticks\":\"outside\"},\"type\":\"choropleth\"}],\"contourcarpet\":[{\"colorbar\":{\"outlinewidth\":1,\"tickcolor\":\"rgb(36,36,36)\",\"ticks\":\"outside\"},\"type\":\"contourcarpet\"}],\"contour\":[{\"colorbar\":{\"outlinewidth\":1,\"tickcolor\":\"rgb(36,36,36)\",\"ticks\":\"outside\"},\"colorscale\":[[0.0,\"#440154\"],[0.1111111111111111,\"#482878\"],[0.2222222222222222,\"#3e4989\"],[0.3333333333333333,\"#31688e\"],[0.4444444444444444,\"#26828e\"],[0.5555555555555556,\"#1f9e89\"],[0.6666666666666666,\"#35b779\"],[0.7777777777777778,\"#6ece58\"],[0.8888888888888888,\"#b5de2b\"],[1.0,\"#fde725\"]],\"type\":\"contour\"}],\"heatmapgl\":[{\"colorbar\":{\"outlinewidth\":1,\"tickcolor\":\"rgb(36,36,36)\",\"ticks\":\"outside\"},\"colorscale\":[[0.0,\"#440154\"],[0.1111111111111111,\"#482878\"],[0.2222222222222222,\"#3e4989\"],[0.3333333333333333,\"#31688e\"],[0.4444444444444444,\"#26828e\"],[0.5555555555555556,\"#1f9e89\"],[0.6666666666666666,\"#35b779\"],[0.7777777777777778,\"#6ece58\"],[0.8888888888888888,\"#b5de2b\"],[1.0,\"#fde725\"]],\"type\":\"heatmapgl\"}],\"heatmap\":[{\"colorbar\":{\"outlinewidth\":1,\"tickcolor\":\"rgb(36,36,36)\",\"ticks\":\"outside\"},\"colorscale\":[[0.0,\"#440154\"],[0.1111111111111111,\"#482878\"],[0.2222222222222222,\"#3e4989\"],[0.3333333333333333,\"#31688e\"],[0.4444444444444444,\"#26828e\"],[0.5555555555555556,\"#1f9e89\"],[0.6666666666666666,\"#35b779\"],[0.7777777777777778,\"#6ece58\"],[0.8888888888888888,\"#b5de2b\"],[1.0,\"#fde725\"]],\"type\":\"heatmap\"}],\"histogram2dcontour\":[{\"colorbar\":{\"outlinewidth\":1,\"tickcolor\":\"rgb(36,36,36)\",\"ticks\":\"outside\"},\"colorscale\":[[0.0,\"#440154\"],[0.1111111111111111,\"#482878\"],[0.2222222222222222,\"#3e4989\"],[0.3333333333333333,\"#31688e\"],[0.4444444444444444,\"#26828e\"],[0.5555555555555556,\"#1f9e89\"],[0.6666666666666666,\"#35b779\"],[0.7777777777777778,\"#6ece58\"],[0.8888888888888888,\"#b5de2b\"],[1.0,\"#fde725\"]],\"type\":\"histogram2dcontour\"}],\"histogram2d\":[{\"colorbar\":{\"outlinewidth\":1,\"tickcolor\":\"rgb(36,36,36)\",\"ticks\":\"outside\"},\"colorscale\":[[0.0,\"#440154\"],[0.1111111111111111,\"#482878\"],[0.2222222222222222,\"#3e4989\"],[0.3333333333333333,\"#31688e\"],[0.4444444444444444,\"#26828e\"],[0.5555555555555556,\"#1f9e89\"],[0.6666666666666666,\"#35b779\"],[0.7777777777777778,\"#6ece58\"],[0.8888888888888888,\"#b5de2b\"],[1.0,\"#fde725\"]],\"type\":\"histogram2d\"}],\"histogram\":[{\"marker\":{\"line\":{\"color\":\"white\",\"width\":0.6}},\"type\":\"histogram\"}],\"mesh3d\":[{\"colorbar\":{\"outlinewidth\":1,\"tickcolor\":\"rgb(36,36,36)\",\"ticks\":\"outside\"},\"type\":\"mesh3d\"}],\"parcoords\":[{\"line\":{\"colorbar\":{\"outlinewidth\":1,\"tickcolor\":\"rgb(36,36,36)\",\"ticks\":\"outside\"}},\"type\":\"parcoords\"}],\"pie\":[{\"automargin\":true,\"type\":\"pie\"}],\"scatter3d\":[{\"line\":{\"colorbar\":{\"outlinewidth\":1,\"tickcolor\":\"rgb(36,36,36)\",\"ticks\":\"outside\"}},\"marker\":{\"colorbar\":{\"outlinewidth\":1,\"tickcolor\":\"rgb(36,36,36)\",\"ticks\":\"outside\"}},\"type\":\"scatter3d\"}],\"scattercarpet\":[{\"marker\":{\"colorbar\":{\"outlinewidth\":1,\"tickcolor\":\"rgb(36,36,36)\",\"ticks\":\"outside\"}},\"type\":\"scattercarpet\"}],\"scattergeo\":[{\"marker\":{\"colorbar\":{\"outlinewidth\":1,\"tickcolor\":\"rgb(36,36,36)\",\"ticks\":\"outside\"}},\"type\":\"scattergeo\"}],\"scattergl\":[{\"marker\":{\"colorbar\":{\"outlinewidth\":1,\"tickcolor\":\"rgb(36,36,36)\",\"ticks\":\"outside\"}},\"type\":\"scattergl\"}],\"scattermapbox\":[{\"marker\":{\"colorbar\":{\"outlinewidth\":1,\"tickcolor\":\"rgb(36,36,36)\",\"ticks\":\"outside\"}},\"type\":\"scattermapbox\"}],\"scatterpolargl\":[{\"marker\":{\"colorbar\":{\"outlinewidth\":1,\"tickcolor\":\"rgb(36,36,36)\",\"ticks\":\"outside\"}},\"type\":\"scatterpolargl\"}],\"scatterpolar\":[{\"marker\":{\"colorbar\":{\"outlinewidth\":1,\"tickcolor\":\"rgb(36,36,36)\",\"ticks\":\"outside\"}},\"type\":\"scatterpolar\"}],\"scatter\":[{\"fillpattern\":{\"fillmode\":\"overlay\",\"size\":10,\"solidity\":0.2},\"type\":\"scatter\"}],\"scatterternary\":[{\"marker\":{\"colorbar\":{\"outlinewidth\":1,\"tickcolor\":\"rgb(36,36,36)\",\"ticks\":\"outside\"}},\"type\":\"scatterternary\"}],\"surface\":[{\"colorbar\":{\"outlinewidth\":1,\"tickcolor\":\"rgb(36,36,36)\",\"ticks\":\"outside\"},\"colorscale\":[[0.0,\"#440154\"],[0.1111111111111111,\"#482878\"],[0.2222222222222222,\"#3e4989\"],[0.3333333333333333,\"#31688e\"],[0.4444444444444444,\"#26828e\"],[0.5555555555555556,\"#1f9e89\"],[0.6666666666666666,\"#35b779\"],[0.7777777777777778,\"#6ece58\"],[0.8888888888888888,\"#b5de2b\"],[1.0,\"#fde725\"]],\"type\":\"surface\"}],\"table\":[{\"cells\":{\"fill\":{\"color\":\"rgb(237,237,237)\"},\"line\":{\"color\":\"white\"}},\"header\":{\"fill\":{\"color\":\"rgb(217,217,217)\"},\"line\":{\"color\":\"white\"}},\"type\":\"table\"}]},\"layout\":{\"annotationdefaults\":{\"arrowhead\":0,\"arrowwidth\":1},\"autotypenumbers\":\"strict\",\"coloraxis\":{\"colorbar\":{\"outlinewidth\":1,\"tickcolor\":\"rgb(36,36,36)\",\"ticks\":\"outside\"}},\"colorscale\":{\"diverging\":[[0.0,\"rgb(103,0,31)\"],[0.1,\"rgb(178,24,43)\"],[0.2,\"rgb(214,96,77)\"],[0.3,\"rgb(244,165,130)\"],[0.4,\"rgb(253,219,199)\"],[0.5,\"rgb(247,247,247)\"],[0.6,\"rgb(209,229,240)\"],[0.7,\"rgb(146,197,222)\"],[0.8,\"rgb(67,147,195)\"],[0.9,\"rgb(33,102,172)\"],[1.0,\"rgb(5,48,97)\"]],\"sequential\":[[0.0,\"#440154\"],[0.1111111111111111,\"#482878\"],[0.2222222222222222,\"#3e4989\"],[0.3333333333333333,\"#31688e\"],[0.4444444444444444,\"#26828e\"],[0.5555555555555556,\"#1f9e89\"],[0.6666666666666666,\"#35b779\"],[0.7777777777777778,\"#6ece58\"],[0.8888888888888888,\"#b5de2b\"],[1.0,\"#fde725\"]],\"sequentialminus\":[[0.0,\"#440154\"],[0.1111111111111111,\"#482878\"],[0.2222222222222222,\"#3e4989\"],[0.3333333333333333,\"#31688e\"],[0.4444444444444444,\"#26828e\"],[0.5555555555555556,\"#1f9e89\"],[0.6666666666666666,\"#35b779\"],[0.7777777777777778,\"#6ece58\"],[0.8888888888888888,\"#b5de2b\"],[1.0,\"#fde725\"]]},\"colorway\":[\"#1F77B4\",\"#FF7F0E\",\"#2CA02C\",\"#D62728\",\"#9467BD\",\"#8C564B\",\"#E377C2\",\"#7F7F7F\",\"#BCBD22\",\"#17BECF\"],\"font\":{\"color\":\"rgb(36,36,36)\"},\"geo\":{\"bgcolor\":\"white\",\"lakecolor\":\"white\",\"landcolor\":\"white\",\"showlakes\":true,\"showland\":true,\"subunitcolor\":\"white\"},\"hoverlabel\":{\"align\":\"left\"},\"hovermode\":\"closest\",\"mapbox\":{\"style\":\"light\"},\"paper_bgcolor\":\"white\",\"plot_bgcolor\":\"white\",\"polar\":{\"angularaxis\":{\"gridcolor\":\"rgb(232,232,232)\",\"linecolor\":\"rgb(36,36,36)\",\"showgrid\":false,\"showline\":true,\"ticks\":\"outside\"},\"bgcolor\":\"white\",\"radialaxis\":{\"gridcolor\":\"rgb(232,232,232)\",\"linecolor\":\"rgb(36,36,36)\",\"showgrid\":false,\"showline\":true,\"ticks\":\"outside\"}},\"scene\":{\"xaxis\":{\"backgroundcolor\":\"white\",\"gridcolor\":\"rgb(232,232,232)\",\"gridwidth\":2,\"linecolor\":\"rgb(36,36,36)\",\"showbackground\":true,\"showgrid\":false,\"showline\":true,\"ticks\":\"outside\",\"zeroline\":false,\"zerolinecolor\":\"rgb(36,36,36)\"},\"yaxis\":{\"backgroundcolor\":\"white\",\"gridcolor\":\"rgb(232,232,232)\",\"gridwidth\":2,\"linecolor\":\"rgb(36,36,36)\",\"showbackground\":true,\"showgrid\":false,\"showline\":true,\"ticks\":\"outside\",\"zeroline\":false,\"zerolinecolor\":\"rgb(36,36,36)\"},\"zaxis\":{\"backgroundcolor\":\"white\",\"gridcolor\":\"rgb(232,232,232)\",\"gridwidth\":2,\"linecolor\":\"rgb(36,36,36)\",\"showbackground\":true,\"showgrid\":false,\"showline\":true,\"ticks\":\"outside\",\"zeroline\":false,\"zerolinecolor\":\"rgb(36,36,36)\"}},\"shapedefaults\":{\"fillcolor\":\"black\",\"line\":{\"width\":0},\"opacity\":0.3},\"ternary\":{\"aaxis\":{\"gridcolor\":\"rgb(232,232,232)\",\"linecolor\":\"rgb(36,36,36)\",\"showgrid\":false,\"showline\":true,\"ticks\":\"outside\"},\"baxis\":{\"gridcolor\":\"rgb(232,232,232)\",\"linecolor\":\"rgb(36,36,36)\",\"showgrid\":false,\"showline\":true,\"ticks\":\"outside\"},\"bgcolor\":\"white\",\"caxis\":{\"gridcolor\":\"rgb(232,232,232)\",\"linecolor\":\"rgb(36,36,36)\",\"showgrid\":false,\"showline\":true,\"ticks\":\"outside\"}},\"title\":{\"x\":0.05},\"xaxis\":{\"automargin\":true,\"gridcolor\":\"rgb(232,232,232)\",\"linecolor\":\"rgb(36,36,36)\",\"showgrid\":false,\"showline\":true,\"ticks\":\"outside\",\"title\":{\"standoff\":15},\"zeroline\":false,\"zerolinecolor\":\"rgb(36,36,36)\"},\"yaxis\":{\"automargin\":true,\"gridcolor\":\"rgb(232,232,232)\",\"linecolor\":\"rgb(36,36,36)\",\"showgrid\":false,\"showline\":true,\"ticks\":\"outside\",\"title\":{\"standoff\":15},\"zeroline\":false,\"zerolinecolor\":\"rgb(36,36,36)\"}}},\"xaxis\":{\"showgrid\":true},\"yaxis\":{\"showgrid\":true,\"title\":{\"text\":\"Frequency\"}},\"title\":{\"font\":{\"size\":22,\"color\":\"Black\"},\"text\":\"<b>Topics over Time\",\"y\":0.95,\"x\":0.4,\"xanchor\":\"center\",\"yanchor\":\"top\"},\"hoverlabel\":{\"font\":{\"size\":16,\"family\":\"Rockwell\"},\"bgcolor\":\"white\"},\"width\":1250,\"height\":450,\"legend\":{\"title\":{\"text\":\"<b>Global Topic Representation\"}}},                        {\"responsive\": true}                    ).then(function(){\n",
       "                            \n",
       "var gd = document.getElementById('5d8d37b3-788a-4e6d-8482-e8a2cdf697ae');\n",
       "var x = new MutationObserver(function (mutations, observer) {{\n",
       "        var display = window.getComputedStyle(gd).display;\n",
       "        if (!display || display === 'none') {{\n",
       "            console.log([gd, 'removed!']);\n",
       "            Plotly.purge(gd);\n",
       "            observer.disconnect();\n",
       "        }}\n",
       "}});\n",
       "\n",
       "// Listen for the removal of the full notebook cells\n",
       "var notebookContainer = gd.closest('#notebook-container');\n",
       "if (notebookContainer) {{\n",
       "    x.observe(notebookContainer, {childList: true});\n",
       "}}\n",
       "\n",
       "// Listen for the clearing of the current output cell\n",
       "var outputEl = gd.closest('.output');\n",
       "if (outputEl) {{\n",
       "    x.observe(outputEl, {childList: true});\n",
       "}}\n",
       "\n",
       "                        })                };                });            </script>        </div>"
      ]
     },
     "metadata": {},
     "output_type": "display_data"
    }
   ],
   "source": [
    "topic_model.visualize_topics_over_time(topics_over_time, top_n_topics=6)"
   ]
  },
  {
   "cell_type": "markdown",
   "id": "0834afc0-277d-4bc4-9d33-3d930b3dc498",
   "metadata": {},
   "source": [
    "¡Impresionante!\n",
    "\n",
    "¡Imaginen un día, poder hacer el análisis en vivo sobre el discurso político en los debates presidenciales y saber cuándo estos personajes se contradicen entre sí entre sus promesas y su obrar!"
   ]
  },
  {
   "cell_type": "markdown",
   "id": "bcc0ab24-48d6-4a9c-aad5-8955b1e2a456",
   "metadata": {
    "id": "0b4dfef6-d2b8-433f-a7c7-1a20bd4e2c2a"
   },
   "source": [
    "[[Volver]](#Contenido)"
   ]
  },
  {
   "cell_type": "markdown",
   "id": "623bda1a-0e16-4985-8dc5-3757b4f66f8e",
   "metadata": {
    "id": "a8844c02-b7d1-4411-8527-2ce9540931ba",
    "tags": []
   },
   "source": [
    "## <span style=\"color:blue\">Resúmenes</span>"
   ]
  },
  {
   "cell_type": "markdown",
   "id": "e3ab406b-76c5-41e2-9aea-27a60fe7e317",
   "metadata": {
    "id": "a8844c02-b7d1-4411-8527-2ce9540931ba",
    "tags": []
   },
   "source": [
    "### <span style=\"color:blue\">Resúmenes Extractivos</span>"
   ]
  },
  {
   "cell_type": "markdown",
   "id": "b909ba6f-3386-4f5f-a8c9-a17b4fb156ff",
   "metadata": {},
   "source": [
    "El resumen extractivo es una tarea desafiante que solo recientemente se ha vuelto práctica. \n",
    "\n",
    "Como muchas cosas de PNL, una de las razones de este progreso son las incrustaciones superiores que ofrecen los modelos de transformadores como BERT. En esta sección utilizamos incrustaciones de oraciones BERT para construir un resumen extractivo que toma dos enfoques supervisados.\n",
    "\n",
    "La primera considera únicamente las incrustaciones y sus derivados.\n",
    "\n",
    "Esto corresponde a nuestra intuición de que un buen resumido puede analizar el significado y debe seleccionar oraciones basándose únicamente en la estructura interna del artículo.\n",
    "\n",
    "La línea de base para este enfoque es el modelo TextRank no supervisado. \n",
    "\n",
    "El otro enfoque incorpora información secuencial y aprovecha el bien conocido fenómeno Lead3 particular de los corpus de noticias. Esta es la observación de que las primeras tres oraciones generalmente hacen un buen trabajo al resumir el artículo. \n",
    "\n",
    "De hecho, muchos editores implementan explícitamente esta estrategia. Lead3 se utiliza como línea de base para este segundo enfoque. En ambos casos, los modelos supervisados superan las líneas de base en la métrica Rouge-1 y Rouge-L F1."
   ]
  },
  {
   "cell_type": "markdown",
   "id": "a8ced695-8aa4-431a-b8b6-c2933d41d0b1",
   "metadata": {},
   "source": [
    "No haremos una implentación en esta sección, pero dejamos varios recursos de cómo hacer fine-tuning con BERT para tal propósito:\n",
    "\n",
    "- [Extractive Summarization with Sentence-BERT](https://blog.fastforwardlabs.com/2021/09/21/extractive-summarization-with-sentence-bert.html)\n",
    "- [Extractive Summarization using BERT](https://towardsdatascience.com/extractive-summarization-using-bert-966e912f4142)\n",
    "- [Tutorial: How to Fine-Tune BERT for Extractive Summarization](https://skimai.com/tutorial-how-to-fine-tune-bert-for-summarization/)"
   ]
  },
  {
   "cell_type": "markdown",
   "id": "cb6e7111-03a1-4c57-9c14-1bc3e57fc558",
   "metadata": {
    "id": "a8844c02-b7d1-4411-8527-2ce9540931ba",
    "tags": []
   },
   "source": [
    "### <span style=\"color:blue\">Resúmenes Abstractivos</span>"
   ]
  },
  {
   "cell_type": "markdown",
   "id": "973748ba-f3fa-418f-962d-90a72cd3e730",
   "metadata": {},
   "source": [
    "El resumen abstracto es una tarea en el procesamiento del lenguaje natural (NLP) que tiene como objetivo generar un resumen conciso de un texto fuente.\n",
    "\n",
    "A diferencia del resumen extractivo, el resumen abstractivo no simplemente copia frases importantes del texto fuente, sino que también presenta potencialmente nuevas frases que son relevantes, que pueden verse como una paráfrasis.\n",
    "\n",
    "El resumen abstracto produce una serie de aplicaciones en diferentes dominios, desde libros y literatura hasta ciencia e I + D, investigación financiera y análisis de documentos legales.\n",
    "\n",
    "Huggingface proporciona dos potentes modelos de resumen para usar: BART (bart-large-cnn) y t5 (t5-small, t5-base, t5-large, t5–3b, t5–11b). Puede leer más sobre ellos en sus papers oficiales."
   ]
  },
  {
   "cell_type": "code",
   "execution_count": 3,
   "id": "cb54b76e-a105-4031-8f16-0a529ddf3b06",
   "metadata": {},
   "outputs": [
    {
     "name": "stdout",
     "output_type": "stream",
     "text": [
      "original text preprocessed: \n",
      " The US has \"passed the peak\" on new coronavirus cases, President Donald Trump said and predicted that some states would reopen this month.The US has over 637,000 confirmed Covid-19 cases and over 30,826 deaths, the highest for any country in the world.At the daily White House coronavirus briefing on Wednesday, Trump said new guidelines to reopen the country would be announced on Thursday after he speaks to governors.\"We'll be the comeback kids, all of us,\" he said. \"We want to get our country back.\"The Trump administration has previously fixed May 1 as a possible date to reopen the world's largest economy, but the president said some states may be able to return to normalcy earlier than that.\n",
      "\n",
      "\n",
      "Summarized text: \n",
      " the president predicts some states will reopen this month. the u.s. has over 637,000 confirmed cases and over 30,826 deaths, the highest for any country in the world. \"we want to get our country back,\" he says.\n"
     ]
    }
   ],
   "source": [
    "import torch\n",
    "import json \n",
    "from transformers import T5Tokenizer, T5ForConditionalGeneration, T5Config, pipeline\n",
    "\n",
    "model = T5ForConditionalGeneration.from_pretrained('t5-small')\n",
    "tokenizer = T5Tokenizer.from_pretrained('t5-small')\n",
    "device = torch.device('cpu')\n",
    "\n",
    "text =\"\"\"\n",
    "The US has \"passed the peak\" on new coronavirus cases, President Donald Trump said and predicted that some states would reopen this month.\n",
    "The US has over 637,000 confirmed Covid-19 cases and over 30,826 deaths, the highest for any country in the world.\n",
    "At the daily White House coronavirus briefing on Wednesday, Trump said new guidelines to reopen the country would be announced on Thursday after he speaks to governors.\n",
    "\"We'll be the comeback kids, all of us,\" he said. \"We want to get our country back.\"\n",
    "The Trump administration has previously fixed May 1 as a possible date to reopen the world's largest economy, but the president said some states may be able to return to normalcy earlier than that.\n",
    "\"\"\"\n",
    "\n",
    "\n",
    "preprocess_text = text.strip().replace(\"\\n\",\"\")\n",
    "t5_prepared_Text = \"summarize: \"+preprocess_text\n",
    "print (\"original text preprocessed: \\n\", preprocess_text)\n",
    "\n",
    "tokenized_text = tokenizer.encode(t5_prepared_Text, return_tensors=\"pt\").to(device)\n",
    "\n",
    "\n",
    "# summmarize \n",
    "summary_ids = model.generate(tokenized_text,\n",
    "                                    num_beams=4,\n",
    "                                    no_repeat_ngram_size=2,\n",
    "                                    min_length=30,\n",
    "                                    max_length=100,\n",
    "                                    early_stopping=True)\n",
    "\n",
    "output = tokenizer.decode(summary_ids[0], skip_special_tokens=True)\n",
    "\n",
    "print (\"\\n\\nSummarized text: \\n\",output)"
   ]
  },
  {
   "cell_type": "code",
   "execution_count": null,
   "id": "4bcf87e3-5487-4bb8-8798-3bf2e5945ac7",
   "metadata": {},
   "outputs": [
    {
     "data": {
      "application/vnd.jupyter.widget-view+json": {
       "model_id": "8f4c0f5264da44e7858a06b96bafbea6",
       "version_major": 2,
       "version_minor": 0
      },
      "text/plain": [
       "Downloading:   0%|          | 0.00/850M [00:00<?, ?B/s]"
      ]
     },
     "metadata": {},
     "output_type": "display_data"
    }
   ],
   "source": [
    "summarizer = pipeline(\"summarization\", model=\"t5-base\")\n",
    "summary_text = summarizer(text, max_length=100, min_length=5, do_sample=False)[0]['summary_text']\n",
    "print(summary_text)"
   ]
  },
  {
   "cell_type": "markdown",
   "id": "6a9e2cd2-1670-45c6-bc3e-8a1368fddf22",
   "metadata": {
    "id": "0b4dfef6-d2b8-433f-a7c7-1a20bd4e2c2a"
   },
   "source": [
    "[[Volver]](#Contenido)"
   ]
  },
  {
   "cell_type": "markdown",
   "id": "2aa4bb20-3e43-4e7f-ba76-3b36a42693ac",
   "metadata": {
    "id": "a8844c02-b7d1-4411-8527-2ce9540931ba",
    "tags": []
   },
   "source": [
    "## <span style=\"color:blue\">Traducción</span>"
   ]
  },
  {
   "cell_type": "markdown",
   "id": "27b16442-f9a1-4f41-b17b-da0a8b3227fa",
   "metadata": {},
   "source": [
    "En esa sección, veremos una idea para el futuro.\n",
    "\n",
    "Pensemos en un lenguaje universal, pero no de la forma en que uno lo piensa normalmente.\n",
    "\n"
   ]
  },
  {
   "cell_type": "code",
   "execution_count": 1,
   "id": "5256e758-6e6e-4566-b5ac-540f2799f5b1",
   "metadata": {},
   "outputs": [],
   "source": [
    "##### VOZ ######\n",
    "# Text-to-Speech Conversion\n",
    "import pyttsx3 as tts\n",
    "# Reconocimiento de Voz\n",
    "import speech_recognition\n",
    "# Transformers\n",
    "from transformers import pipeline"
   ]
  },
  {
   "cell_type": "code",
   "execution_count": 2,
   "id": "c3901963-91ff-4e5a-84b8-3bc5013a09fa",
   "metadata": {},
   "outputs": [],
   "source": [
    "import fasttext as ft\n",
    "import pandas as pd\n",
    "import numpy as np\n",
    "import re"
   ]
  },
  {
   "cell_type": "code",
   "execution_count": 3,
   "id": "514b512e-e639-4f7e-bb48-14afb10687da",
   "metadata": {},
   "outputs": [],
   "source": [
    "iso_codes = pd.read_csv('../Datos/language-codes-3b2_csv.csv')"
   ]
  },
  {
   "cell_type": "code",
   "execution_count": 4,
   "id": "715dcb53-5fa5-4059-95bb-7f0158bb4ff5",
   "metadata": {},
   "outputs": [
    {
     "name": "stderr",
     "output_type": "stream",
     "text": [
      "Warning : `load_model` does not return WordVectorModel or SupervisedModel any more, but a `FastText` object which is very similar.\n"
     ]
    }
   ],
   "source": [
    "model = ft.load_model('../Modelos/lid.176.bin')"
   ]
  },
  {
   "cell_type": "code",
   "execution_count": 5,
   "id": "17b6af5b-fc5a-4c97-952c-d293b709c320",
   "metadata": {},
   "outputs": [
    {
     "name": "stdout",
     "output_type": "stream",
     "text": [
      "0.96724 Italian\n"
     ]
    }
   ],
   "source": [
    "preds = model.predict('Come stai?',k=1)\n",
    "preds_clean = [re.sub('__label__','',pred) for pred in preds[0]]\n",
    "lang = [iso_codes[iso_codes['alpha2']==pred_clean]['English'].values[0] for pred_clean in preds_clean]\n",
    "\n",
    "for a,b  in zip(lang,preds[1]):\n",
    "    print(np.round(b,5),a)"
   ]
  },
  {
   "cell_type": "code",
   "execution_count": 6,
   "id": "22404618-969c-444e-9ff3-836156ca2618",
   "metadata": {
    "tags": []
   },
   "outputs": [
    {
     "name": "stdout",
     "output_type": "stream",
     "text": [
      "\n",
      "Voces disponibles en Español:\n",
      "\n",
      "Voice: Diego\n",
      " - ID: com.apple.speech.synthesis.voice.diego.premium\n",
      " - Languages: ['es_AR']\n",
      " - Gender: VoiceGenderMale\n",
      " - Age: 30\n",
      "\n",
      "\n",
      "Voice: Jorge\n",
      " - ID: com.apple.speech.synthesis.voice.jorge\n",
      " - Languages: ['es_ES']\n",
      " - Gender: VoiceGenderMale\n",
      " - Age: 35\n",
      "\n",
      "\n",
      "Voice: Juan\n",
      " - ID: com.apple.speech.synthesis.voice.juan.premium\n",
      " - Languages: ['es_MX']\n",
      " - Gender: VoiceGenderMale\n",
      " - Age: 30\n",
      "\n",
      "\n",
      "Voice: Monica\n",
      " - ID: com.apple.speech.synthesis.voice.monica.premium\n",
      " - Languages: ['es_ES']\n",
      " - Gender: VoiceGenderFemale\n",
      " - Age: 30\n",
      "\n",
      "\n",
      "Voice: Paulina\n",
      " - ID: com.apple.speech.synthesis.voice.paulina.premium\n",
      " - Languages: ['es_MX']\n",
      " - Gender: VoiceGenderFemale\n",
      " - Age: 30\n",
      "\n",
      "\n",
      "Eligiendo idioma: com.apple.speech.synthesis.voice.paulina.premium\n"
     ]
    }
   ],
   "source": [
    "# Inciar objeto text-to-speech\n",
    "speaker = tts.init()\n",
    "# Obtener voces disponibles del sistema\n",
    "voices = speaker.getProperty('voices')\n",
    "# Obtener voces en español\n",
    "voices_esp = []\n",
    "print('\\nVoces disponibles en Español:\\n')\n",
    "\n",
    "for voice in voices:\n",
    "    if str(voice.languages).find('es')>0:\n",
    "        print(\"Voice: %s\" % voice.name)\n",
    "        print(\" - ID: %s\" % voice.id)\n",
    "        print(\" - Languages: %s\" % voice.languages)\n",
    "        print(\" - Gender: %s\" % voice.gender)\n",
    "        print(\" - Age: %s\" % voice.age)\n",
    "        print(\"\\n\")\n",
    "        voices_esp.append(voice)\n",
    "\n",
    "# Elegir español (VARIA EN SISTEMA OPERATIVO)\n",
    "#azar = np.random.randint(len(voices_esp))\n",
    "azar=-1\n",
    "eleccion = voices_esp[azar].id\n",
    "print(\"Eligiendo idioma:\",eleccion)\n",
    "speaker.setProperty(\"voice\", eleccion)"
   ]
  },
  {
   "cell_type": "code",
   "execution_count": 7,
   "id": "430bb64a-9f9a-46df-bceb-db1ae2308d5b",
   "metadata": {
    "tags": []
   },
   "outputs": [
    {
     "name": "stdout",
     "output_type": "stream",
     "text": [
      "\n",
      "Voces disponibles en Inglés:\n",
      "\n",
      "Voice: Diego\n",
      " - ID: com.apple.speech.synthesis.voice.diego.premium\n",
      " - Languages: ['es_AR']\n",
      " - Gender: VoiceGenderMale\n",
      " - Age: 30\n",
      "\n",
      "\n",
      "Voice: Jorge\n",
      " - ID: com.apple.speech.synthesis.voice.jorge\n",
      " - Languages: ['es_ES']\n",
      " - Gender: VoiceGenderMale\n",
      " - Age: 35\n",
      "\n",
      "\n",
      "Voice: Juan\n",
      " - ID: com.apple.speech.synthesis.voice.juan.premium\n",
      " - Languages: ['es_MX']\n",
      " - Gender: VoiceGenderMale\n",
      " - Age: 30\n",
      "\n",
      "\n",
      "Voice: Monica\n",
      " - ID: com.apple.speech.synthesis.voice.monica.premium\n",
      " - Languages: ['es_ES']\n",
      " - Gender: VoiceGenderFemale\n",
      " - Age: 30\n",
      "\n",
      "\n",
      "Voice: Paulina\n",
      " - ID: com.apple.speech.synthesis.voice.paulina.premium\n",
      " - Languages: ['es_MX']\n",
      " - Gender: VoiceGenderFemale\n",
      " - Age: 30\n",
      "\n",
      "\n",
      "Eligiendo idioma: com.apple.speech.synthesis.voice.paulina.premium\n"
     ]
    }
   ],
   "source": [
    "# Inciar objeto text-to-speech\n",
    "speaker = tts.init()\n",
    "# Obtener voces disponibles del sistema\n",
    "voices = speaker.getProperty('voices')\n",
    "# Obtener voces en español\n",
    "voices_esp = []\n",
    "print('\\nVoces disponibles en Inglés:\\n')\n",
    "\n",
    "for voice in voices:\n",
    "    if str(voice.languages).find('es')>0:\n",
    "        print(\"Voice: %s\" % voice.name)\n",
    "        print(\" - ID: %s\" % voice.id)\n",
    "        print(\" - Languages: %s\" % voice.languages)\n",
    "        print(\" - Gender: %s\" % voice.gender)\n",
    "        print(\" - Age: %s\" % voice.age)\n",
    "        print(\"\\n\")\n",
    "        voices_esp.append(voice)\n",
    "\n",
    "# Elegir español (VARIA EN SISTEMA OPERATIVO)\n",
    "#azar = np.random.randint(len(voices_esp))\n",
    "azar=-1\n",
    "eleccion = voices_esp[azar].id\n",
    "print(\"Eligiendo idioma:\",eleccion)\n",
    "speaker.setProperty(\"voice\", eleccion)"
   ]
  },
  {
   "cell_type": "code",
   "execution_count": 8,
   "id": "7553f933-8f0d-4863-b52b-54c116c5d6d2",
   "metadata": {},
   "outputs": [],
   "source": [
    "# Por si el speaker se queda en loop\n",
    "if speaker._inLoop:\n",
    "    speaker.endLoop()\n",
    "\n",
    "# Asistente hablando\n",
    "speaker.say(\"Hola mundo, ¡estoy viva!\")\n",
    "# Reproducir sonido y parar\n",
    "speaker.runAndWait()"
   ]
  },
  {
   "cell_type": "code",
   "execution_count": 9,
   "id": "b91322da-1b33-4fee-ad5d-8ea4ae458c52",
   "metadata": {},
   "outputs": [],
   "source": [
    "# Iniciar reconocimiento de voz\n",
    "recognizer=speech_recognition.Recognizer()"
   ]
  },
  {
   "cell_type": "code",
   "execution_count": 10,
   "id": "596a9417-bd1c-4170-923d-5044476b50bd",
   "metadata": {},
   "outputs": [],
   "source": [
    "import os\n",
    "import shutil"
   ]
  },
  {
   "cell_type": "markdown",
   "id": "094d8320-3caf-42d6-9e12-7edfaab7066d",
   "metadata": {},
   "source": [
    "## Ajustes para Mac M1 "
   ]
  },
  {
   "cell_type": "code",
   "execution_count": 11,
   "id": "3b720a62-c4f5-4a37-a938-d59b3082f0c6",
   "metadata": {},
   "outputs": [
    {
     "name": "stdout",
     "output_type": "stream",
     "text": [
      "PATH inicial:\n",
      "\n",
      "/Users/moury/miniforge3/envs/wago_news/bin:/Users/moury/miniforge3/condabin:/opt/homebrew/bin:/opt/homebrew/sbin:/usr/local/bin:/usr/bin:/bin:/usr/sbin:/sbin:/Library/Apple/usr/bin:/Users/moury/.cargo/bin\n",
      "\n",
      "PATH modificado:\n",
      "\n",
      "/Users/moury/miniforge3/envs/wago_news/bin:/Users/moury/miniforge3/condabin:/opt/homebrew/bin:/opt/homebrew/sbin:/usr/local/bin:/usr/bin:/bin:/usr/sbin:/sbin:/Library/Apple/usr/bin:/Users/moury/.cargo/bin:/opt/homebrew/Cellar/flac/1.3.3/bin/\n",
      "\n",
      "shutil.which nos brinda la localización: /Users/moury/miniforge3/envs/wago_news/bin/flac\n"
     ]
    }
   ],
   "source": [
    "print(\"PATH inicial:\\n\")\n",
    "print(os.environ['PATH'],end='\\n\\n')\n",
    "os.environ['PATH']+=':/opt/homebrew/Cellar/flac/1.3.3/bin/'\n",
    "print('PATH modificado:\\n')\n",
    "print(os.environ['PATH'],end='\\n\\n')\n",
    "path = os.getenv('PATH')\n",
    "print(\"shutil.which nos brinda la localización: %s\" % (shutil.which('flac')))"
   ]
  },
  {
   "cell_type": "markdown",
   "id": "bfbcb6f2-16f3-4628-8e0d-3e7000c79d45",
   "metadata": {},
   "source": [
    "## Speech Recognition "
   ]
  },
  {
   "cell_type": "code",
   "execution_count": 13,
   "id": "b5327792-5896-4549-a2cc-8e4c8563d44f",
   "metadata": {},
   "outputs": [],
   "source": [
    "# Asistente hablando\n",
    "speaker.say(\"Por favor, dime algo y te lo traduzco a texto:\")\n",
    "# Reproducir sonido y parar\n",
    "speaker.runAndWait()"
   ]
  },
  {
   "cell_type": "code",
   "execution_count": null,
   "id": "01c74d48-e1eb-45b3-98d7-17c54fc66b03",
   "metadata": {},
   "outputs": [],
   "source": [
    "idioma_objetivo = 'es'\n",
    "\n",
    "# Abrir Micrófono\n",
    "with speech_recognition.Microphone() as mic:\n",
    "    # Reducir ruido ambiental\n",
    "    recognizer.adjust_for_ambient_noise(mic,duration=0.5)\n",
    "    print(\"Escuchando Audio...\",end=' ')\n",
    "    # Escuchar audio\n",
    "    audio=recognizer.listen(mic)\n",
    "    print(\"Audio Escuchado.\",end=' ')\n",
    "    # Reconocer audio\n",
    "    print(\"Traduciendo a Texto...\\n\")\n",
    "    texto=recognizer.recognize_google(audio,language=\"en-US\")\n",
    "    \n",
    "    # Reconocer idioma\n",
    "    preds = model.predict(texto,k=1)\n",
    "    preds_clean = [re.sub('__label__','',pred) for pred in preds[0]]\n",
    "    lang = [iso_codes[iso_codes['alpha2']==pred_clean]['English'].values[0] for pred_clean in preds_clean][0]\n",
    "    \n",
    "    # Traducir a otro idioma\n",
    "    translator = pipeline(\"translation\", model=f\"Helsinki-NLP/opus-mt-{preds_clean[0]}-{idioma_objetivo}\")\n",
    "    traduccion = translator(texto)[0]['translation_text']\n",
    "    \n",
    "    voices_esp = []\n",
    "\n",
    "    for voice in voices:\n",
    "        if str(voice.languages).find(idioma_objetivo)>0:\n",
    "            voices_esp.append(voice)\n",
    "\n",
    "    # Elegir español (VARIA EN SISTEMA OPERATIVO)\n",
    "    #azar = np.random.randint(len(voices_esp))\n",
    "    azar=0\n",
    "    eleccion = voices_esp[azar].id\n",
    "    print(\"Eligiendo idioma:\",eleccion)\n",
    "    speaker.setProperty(\"voice\", eleccion)\n",
    "    \n",
    "# Visualizar audio en texto\n",
    "print(\"Audio reconocido:\", texto)\n",
    "print(\"El texto está en \",lang)\n",
    "print(\"Texto traducido:\", traduccion)\n",
    "\n",
    "\n",
    "# Asistente hablando\n",
    "speaker.say(traduccion)\n",
    "# Reproducir sonido y parar\n",
    "speaker.runAndWait()"
   ]
  },
  {
   "cell_type": "markdown",
   "id": "93770d4b-b6b7-4563-88d2-d7fe7fac3ab3",
   "metadata": {},
   "source": [
    "**Reto Empresarial:** Usar IPA para reconocer fonéticamente lo que se habla y facilitar el reconocimiento del idioma"
   ]
  },
  {
   "cell_type": "markdown",
   "id": "c109d126-8bc4-4ea9-82cf-1e7b874d35f7",
   "metadata": {
    "id": "0b4dfef6-d2b8-433f-a7c7-1a20bd4e2c2a"
   },
   "source": [
    "[[Volver]](#Contenido)"
   ]
  },
  {
   "cell_type": "markdown",
   "id": "d172c82e-fd95-49eb-9ec3-7be52ba17b69",
   "metadata": {
    "id": "a8844c02-b7d1-4411-8527-2ce9540931ba",
    "tags": []
   },
   "source": [
    "## <span style=\"color:blue\">Consulta a Base de Datos</span>"
   ]
  },
  {
   "cell_type": "code",
   "execution_count": null,
   "id": "60a030af-8694-4719-a965-2d7185cb588a",
   "metadata": {},
   "outputs": [],
   "source": [
    "from transformers import TapasTokenizer, TapasForQuestionAnswering\n",
    "import pandas as pd\n",
    "\n",
    "# Define the table\n",
    "data = {'Cities': [\"Paris, France\", \"London, England\", \"Lyon, France\"], 'Inhabitants': [\"2.161\", \"8.982\", \"0.513\"]}\n",
    "\n",
    "# Define the questions\n",
    "queries = [\"Which city has most inhabitants?\", \"What is the average number of inhabitants?\", \"How many French cities are in the list?\", \"How many inhabitants live in French cities?\"]\n",
    "\n",
    "def load_model_and_tokenizer():\n",
    "  \"\"\"\n",
    "    Load\n",
    "  \"\"\"\n",
    "  # Load pretrained tokenizer: TAPAS finetuned on WikiTable Questions\n",
    "  tokenizer = TapasTokenizer.from_pretrained(\"google/tapas-base-finetuned-wtq\")\n",
    "\n",
    "  # Load pretrained model: TAPAS finetuned on WikiTable Questions\n",
    "  model = TapasForQuestionAnswering.from_pretrained(\"google/tapas-base-finetuned-wtq\")\n",
    "\n",
    "  # Return tokenizer and model\n",
    "  return tokenizer, model\n",
    "\n",
    "\n",
    "def prepare_inputs(data, queries, tokenizer):\n",
    "  \"\"\"\n",
    "    Convert dictionary into data frame and tokenize inputs given queries.\n",
    "  \"\"\"\n",
    "  # Prepare inputs\n",
    "  table = pd.DataFrame.from_dict(data)\n",
    "  inputs = tokenizer(table=table, queries=queries, padding='max_length', return_tensors=\"pt\")\n",
    "  \n",
    "  # Return things\n",
    "  return table, inputs\n",
    "\n",
    "\n",
    "def generate_predictions(inputs, model, tokenizer):\n",
    "  \"\"\"\n",
    "    Generate predictions for some tokenized input.\n",
    "  \"\"\"\n",
    "  # Generate model results\n",
    "  outputs = model(**inputs)\n",
    "\n",
    "  # Convert logit outputs into predictions for table cells and aggregation operators\n",
    "  predicted_table_cell_coords, predicted_aggregation_operators = tokenizer.convert_logits_to_predictions(\n",
    "          inputs,\n",
    "          outputs.logits.detach(),\n",
    "          outputs.logits_aggregation.detach()\n",
    "  )\n",
    "  \n",
    "  # Return values\n",
    "  return predicted_table_cell_coords, predicted_aggregation_operators\n",
    "\n",
    "\n",
    "def postprocess_predictions(predicted_aggregation_operators, predicted_table_cell_coords, table):\n",
    "  \"\"\"\n",
    "    Compute the predicted operation and nicely structure the answers.\n",
    "  \"\"\"\n",
    "  # Process predicted aggregation operators\n",
    "  aggregation_operators = {0: \"NONE\", 1: \"SUM\", 2: \"AVERAGE\", 3:\"COUNT\"}\n",
    "  aggregation_predictions_string = [aggregation_operators[x] for x in predicted_aggregation_operators]\n",
    "\n",
    "  # Process predicted table cell coordinates\n",
    "  answers = []\n",
    "  for coordinates in predicted_table_cell_coords:\n",
    "    if len(coordinates) == 1:\n",
    "      # 1 cell\n",
    "      answers.append(table.iat[coordinates[0]])\n",
    "    else:\n",
    "      # > 1 cell\n",
    "      cell_values = []\n",
    "      for coordinate in coordinates:\n",
    "        cell_values.append(table.iat[coordinate])\n",
    "      answers.append(\", \".join(cell_values))\n",
    "      \n",
    "  # Return values\n",
    "  return aggregation_predictions_string, answers\n",
    "\n",
    "\n",
    "def show_answers(queries, answers, aggregation_predictions_string):\n",
    "  \"\"\"\n",
    "    Visualize the postprocessed answers.\n",
    "  \"\"\"\n",
    "  for query, answer, predicted_agg in zip(queries, answers, aggregation_predictions_string):\n",
    "    print(query)\n",
    "    if predicted_agg == \"NONE\":\n",
    "      print(\"Predicted answer: \" + answer)\n",
    "    else:\n",
    "      print(\"Predicted answer: \" + predicted_agg + \" > \" + answer)\n",
    "\n",
    "\n",
    "def run_tapas():\n",
    "  \"\"\"\n",
    "    Invoke the TAPAS model.\n",
    "  \"\"\"\n",
    "  tokenizer, model = load_model_and_tokenizer()\n",
    "  table, inputs = prepare_inputs(data, queries, tokenizer)\n",
    "  predicted_table_cell_coords, predicted_aggregation_operators = generate_predictions(inputs, model, tokenizer)\n",
    "  aggregation_predictions_string, answers = postprocess_predictions(predicted_aggregation_operators, predicted_table_cell_coords, table)\n",
    "  show_answers(queries, answers, aggregation_predictions_string)\n",
    "\n",
    "\n",
    "if __name__ == '__main__':\n",
    "    print('Time to Ask Stuff!\\n')\n",
    "    while 1:\n",
    "        queries = str(input())\n",
    "        run_tapas()\n",
    "        print('\\n')"
   ]
  },
  {
   "cell_type": "code",
   "execution_count": null,
   "id": "5fbb0820-3c7e-46ca-bf5b-54f45cc545c0",
   "metadata": {},
   "outputs": [],
   "source": [
    "queries = [\"Which city has most inhabitants?\", \\\n",
    "           \"What is the average number of inhabitants?\", \\\n",
    "           \"How many French cities are in the list?\", \\\n",
    "           \"How many inhabitants live in French cities?\"]"
   ]
  },
  {
   "cell_type": "code",
   "execution_count": 3,
   "id": "15ba434b-730f-4112-bc0a-7ea7a66a8ab0",
   "metadata": {},
   "outputs": [
    {
     "data": {
      "text/html": [
       "<div>\n",
       "<style scoped>\n",
       "    .dataframe tbody tr th:only-of-type {\n",
       "        vertical-align: middle;\n",
       "    }\n",
       "\n",
       "    .dataframe tbody tr th {\n",
       "        vertical-align: top;\n",
       "    }\n",
       "\n",
       "    .dataframe thead th {\n",
       "        text-align: right;\n",
       "    }\n",
       "</style>\n",
       "<table border=\"1\" class=\"dataframe\">\n",
       "  <thead>\n",
       "    <tr style=\"text-align: right;\">\n",
       "      <th></th>\n",
       "      <th>Cities</th>\n",
       "      <th>Inhabitants</th>\n",
       "    </tr>\n",
       "  </thead>\n",
       "  <tbody>\n",
       "    <tr>\n",
       "      <th>0</th>\n",
       "      <td>Paris, France</td>\n",
       "      <td>2.161</td>\n",
       "    </tr>\n",
       "    <tr>\n",
       "      <th>1</th>\n",
       "      <td>London, England</td>\n",
       "      <td>8.982</td>\n",
       "    </tr>\n",
       "    <tr>\n",
       "      <th>2</th>\n",
       "      <td>Lyon, France</td>\n",
       "      <td>0.513</td>\n",
       "    </tr>\n",
       "  </tbody>\n",
       "</table>\n",
       "</div>"
      ],
      "text/plain": [
       "            Cities Inhabitants\n",
       "0    Paris, France       2.161\n",
       "1  London, England       8.982\n",
       "2     Lyon, France       0.513"
      ]
     },
     "execution_count": 3,
     "metadata": {},
     "output_type": "execute_result"
    }
   ],
   "source": [
    "pd.DataFrame.from_dict(data)"
   ]
  },
  {
   "cell_type": "markdown",
   "id": "f92f2f56-88e3-4ffb-80bf-1933f384db54",
   "metadata": {
    "id": "0b4dfef6-d2b8-433f-a7c7-1a20bd4e2c2a"
   },
   "source": [
    "[[Volver]](#Contenido)"
   ]
  },
  {
   "cell_type": "markdown",
   "id": "70a8029c-0049-4d7e-b68a-2cd144417dc3",
   "metadata": {
    "id": "a8844c02-b7d1-4411-8527-2ce9540931ba",
    "tags": []
   },
   "source": [
    "## <span style=\"color:blue\">Clasificación de Tokens</span>"
   ]
  },
  {
   "cell_type": "code",
   "execution_count": 6,
   "id": "be31f8b9-2e6c-461a-93a9-04ab019ac456",
   "metadata": {},
   "outputs": [
    {
     "data": {
      "application/vnd.jupyter.widget-view+json": {
       "model_id": "fc7ad8c0274f4136b0be7376c90319ee",
       "version_major": 2,
       "version_minor": 0
      },
      "text/plain": [
       "Downloading:   0%|          | 0.00/852 [00:00<?, ?B/s]"
      ]
     },
     "metadata": {},
     "output_type": "display_data"
    },
    {
     "data": {
      "application/vnd.jupyter.widget-view+json": {
       "model_id": "6f3d9cf1eae94e429122421d6bf11193",
       "version_major": 2,
       "version_minor": 0
      },
      "text/plain": [
       "Downloading:   0%|          | 0.00/2.09G [00:00<?, ?B/s]"
      ]
     },
     "metadata": {},
     "output_type": "display_data"
    },
    {
     "data": {
      "application/vnd.jupyter.widget-view+json": {
       "model_id": "421834111987446f837e7f5c4927da8d",
       "version_major": 2,
       "version_minor": 0
      },
      "text/plain": [
       "Downloading:   0%|          | 0.00/4.83M [00:00<?, ?B/s]"
      ]
     },
     "metadata": {},
     "output_type": "display_data"
    },
    {
     "data": {
      "application/vnd.jupyter.widget-view+json": {
       "model_id": "429c278ef7c342f49b2ba436160965fd",
       "version_major": 2,
       "version_minor": 0
      },
      "text/plain": [
       "Downloading:   0%|          | 0.00/8.68M [00:00<?, ?B/s]"
      ]
     },
     "metadata": {},
     "output_type": "display_data"
    }
   ],
   "source": [
    "token_c = pipeline(task='token-classification', model='xlm-roberta-large-finetuned-conll03-english')"
   ]
  },
  {
   "cell_type": "code",
   "execution_count": 18,
   "id": "8dda84b3-ff92-44f8-8c12-ef849d98bea0",
   "metadata": {},
   "outputs": [
    {
     "data": {
      "text/plain": [
       "[{'entity_group': 'LOC',\n",
       "  'score': 0.9999864,\n",
       "  'word': 'Bogotá',\n",
       "  'start': 40,\n",
       "  'end': 46},\n",
       " {'entity_group': 'ORG',\n",
       "  'score': 0.99999714,\n",
       "  'word': 'Deep Learning Company',\n",
       "  'start': 62,\n",
       "  'end': 83}]"
      ]
     },
     "execution_count": 18,
     "metadata": {},
     "output_type": "execute_result"
    }
   ],
   "source": [
    "text = 'I am a very important person, living in Bogotá and working on Deep Learning Company.'\n",
    "\n",
    "classification = token_c(text, grouped_entities=True)\n",
    "classification"
   ]
  },
  {
   "cell_type": "code",
   "execution_count": 37,
   "id": "914eecf0-494b-48d9-8970-de4cee36a161",
   "metadata": {},
   "outputs": [
    {
     "name": "stdout",
     "output_type": "stream",
     "text": [
      "2022-05-04 17:21:50,211 loading file /Users/moury/.flair/models/pos-english-fast/36f7923039eed4c66e4275927daaff6cd275997d61d238355fb1fe0338fe10a1.ff87e5b4e47fdb42a0c00237d9506c671db773e0a7932179ace82e584383a1b8\n",
      "2022-05-04 17:21:50,479 SequenceTagger predicts: Dictionary with 53 tags: <unk>, O, UH, ,, VBD, PRP, VB, PRP$, NN, RB, ., DT, JJ, VBP, VBG, IN, CD, NNS, NNP, WRB, VBZ, WDT, CC, TO, MD, VBN, WP, :, RP, EX, JJR, FW, XX, HYPH, POS, RBR, JJS, PDT, NNPS, RBS, AFX, WP$, -LRB-, -RRB-, ``, '', LS, $, SYM, ADD\n",
      "Sentence: \"I am a very important person , living in Bogotá and working on Deep Learning Company .\" → [\"I\"/PRP, \"am\"/VBP, \"a\"/DT, \"very\"/RB, \"important\"/JJ, \"person\"/NN, \",\"/,, \"living\"/VBG, \"in\"/IN, \"Bogotá\"/NNP, \"and\"/CC, \"working\"/VBG, \"on\"/IN, \"Deep\"/NNP, \"Learning\"/NNP, \"Company\"/NNP, \".\"/.]\n",
      "Token[0]: \"I\" → PRP (0.9999)\n",
      "Token[1]: \"am\" → VBP (1.0)\n",
      "Token[2]: \"a\" → DT (1.0)\n",
      "Token[3]: \"very\" → RB (1.0)\n",
      "Token[4]: \"important\" → JJ (1.0)\n",
      "Token[5]: \"person\" → NN (1.0)\n",
      "Token[6]: \",\" → , (1.0)\n",
      "Token[7]: \"living\" → VBG (1.0)\n",
      "Token[8]: \"in\" → IN (1.0)\n",
      "Token[9]: \"Bogotá\" → NNP (1.0)\n",
      "Token[10]: \"and\" → CC (1.0)\n",
      "Token[11]: \"working\" → VBG (0.9998)\n",
      "Token[12]: \"on\" → IN (0.9999)\n",
      "Token[13]: \"Deep\" → NNP (0.9996)\n",
      "Token[14]: \"Learning\" → NNP (0.9947)\n",
      "Token[15]: \"Company\" → NNP (0.9999)\n",
      "Token[16]: \".\" → . (0.9996)\n"
     ]
    }
   ],
   "source": [
    "from flair.data import Sentence\n",
    "from flair.models import SequenceTagger\n",
    "\n",
    "# load tagger\n",
    "tagger = SequenceTagger.load(\"flair/pos-english-fast\")\n",
    "\n",
    "# make example sentence\n",
    "sentence = Sentence(text)\n",
    "\n",
    "# predict NER tags\n",
    "tagger.predict(sentence)\n",
    "\n",
    "# print sentence\n",
    "print(sentence)\n",
    "# iterate over entities and print\n",
    "for entity in sentence.get_labels():\n",
    "    print(entity)"
   ]
  },
  {
   "cell_type": "markdown",
   "id": "7e7fa982-5611-4aa7-ac39-7ed060e94dc4",
   "metadata": {
    "id": "0b4dfef6-d2b8-433f-a7c7-1a20bd4e2c2a"
   },
   "source": [
    "[[Volver]](#Contenido)"
   ]
  },
  {
   "cell_type": "markdown",
   "id": "ae865321-5c74-451f-b55a-aed7e007a72d",
   "metadata": {
    "id": "a8844c02-b7d1-4411-8527-2ce9540931ba",
    "tags": []
   },
   "source": [
    "## <span style=\"color:blue\">Sistemas de Pregunta y Respuesta</span>"
   ]
  },
  {
   "cell_type": "markdown",
   "id": "ce0534bb-c347-4f3f-a8f4-1ffb881f5be1",
   "metadata": {},
   "source": [
    "Soon..."
   ]
  },
  {
   "cell_type": "markdown",
   "id": "d9c91ae4-6beb-4a0f-97f2-ad36aff9a25d",
   "metadata": {
    "id": "0b4dfef6-d2b8-433f-a7c7-1a20bd4e2c2a"
   },
   "source": [
    "[[Volver]](#Contenido)"
   ]
  },
  {
   "cell_type": "markdown",
   "id": "3a0adf00-71c9-4c21-8b05-249e347e7b7a",
   "metadata": {
    "id": "a8844c02-b7d1-4411-8527-2ce9540931ba",
    "tags": []
   },
   "source": [
    "## <span style=\"color:blue\">Asistente Virtual</span>"
   ]
  },
  {
   "cell_type": "markdown",
   "id": "14cb87df-3a07-4da1-b6e8-171f39ddaf3b",
   "metadata": {},
   "source": [
    "Soon..."
   ]
  },
  {
   "cell_type": "markdown",
   "id": "53c86066-dab5-4118-b68e-6acacc710e71",
   "metadata": {
    "id": "0b4dfef6-d2b8-433f-a7c7-1a20bd4e2c2a"
   },
   "source": [
    "[[Volver]](#Contenido)"
   ]
  }
 ],
 "metadata": {
  "kernelspec": {
   "display_name": "Python 3 (ipykernel)",
   "language": "python",
   "name": "python3"
  },
  "language_info": {
   "codemirror_mode": {
    "name": "ipython",
    "version": 3
   },
   "file_extension": ".py",
   "mimetype": "text/x-python",
   "name": "python",
   "nbconvert_exporter": "python",
   "pygments_lexer": "ipython3",
   "version": "3.10.4"
  }
 },
 "nbformat": 4,
 "nbformat_minor": 5
}
