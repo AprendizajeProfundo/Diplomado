{
 "cells": [
  {
   "attachments": {},
   "cell_type": "markdown",
   "id": "d4b57b97",
   "metadata": {},
   "source": [
    "<figure>\n",
    "<img src=\"../Imagenes/logo-final-ap.png\"  width=\"80\" height=\"80\" align=\"left\"/> \n",
    "</figure>\n",
    "\n",
    "# <span style=\"color:#4361EE\"><left>Aprendizaje Profundo</left></span>"
   ]
  },
  {
   "attachments": {},
   "cell_type": "markdown",
   "id": "5b1ed9aa",
   "metadata": {},
   "source": [
    "# <span style=\"color:red\"><center>Diplomado en Inteligencia Artificial y Aprendizaje Profundo</center></span>"
   ]
  },
  {
   "attachments": {},
   "cell_type": "markdown",
   "id": "9ab2d584-a384-4517-96c0-b085f6adfe24",
   "metadata": {
    "tags": []
   },
   "source": [
    "# <span style=\"color:green\"><center>GPT2 - Procesamiento de Lenguaje Natural </center></span>"
   ]
  },
  {
   "attachments": {},
   "cell_type": "markdown",
   "id": "ac6d5c0f-edf4-4e0a-8260-4f6a251eedd3",
   "metadata": {},
   "source": [
    "<center>GPT2</center>"
   ]
  },
  {
   "attachments": {},
   "cell_type": "markdown",
   "id": "69e6473d",
   "metadata": {},
   "source": [
    "## <span style=\"color:#4361EE\">Profesores</span>"
   ]
  },
  {
   "attachments": {},
   "cell_type": "markdown",
   "id": "4d839d0b",
   "metadata": {},
   "source": [
    "1. Alvaro  Montenegro, PhD, ammontenegrod@unal.edu.co\n",
    "1. Camilo José Torres Jiménez, Msc, cjtorresj@unal.edu.co\n",
    "1. Daniel  Montenegro, Msc, dextronomo@gmail.com "
   ]
  },
  {
   "attachments": {},
   "cell_type": "markdown",
   "id": "cddc9584",
   "metadata": {},
   "source": [
    "## <span style=\"color:#4361EE\">Asesora Medios y Marketing digital</span>"
   ]
  },
  {
   "attachments": {},
   "cell_type": "markdown",
   "id": "ac9891db",
   "metadata": {},
   "source": [
    "4. Maria del Pilar Montenegro, pmontenegro88@gmail.com\n",
    "5. Jessica López Mejía, jelopezme@unal.edu.co\n",
    "6. Venus Puertas, vpuertasg@unal.edu.co"
   ]
  },
  {
   "attachments": {},
   "cell_type": "markdown",
   "id": "b19fe210",
   "metadata": {},
   "source": [
    "## <span style=\"color:#4361EE\">Jefe Jurídica</span>"
   ]
  },
  {
   "attachments": {},
   "cell_type": "markdown",
   "id": "17260eea",
   "metadata": {},
   "source": [
    "7. Paula Andrea Guzmán, guzmancruz.paula@gmail.com"
   ]
  },
  {
   "attachments": {},
   "cell_type": "markdown",
   "id": "04fc5486",
   "metadata": {},
   "source": [
    "## <span style=\"color:#4361EE\">Coordinador Jurídico</span>"
   ]
  },
  {
   "attachments": {},
   "cell_type": "markdown",
   "id": "5c5d695d",
   "metadata": {},
   "source": [
    "8. David Fuentes, fuentesd065@gmail.com"
   ]
  },
  {
   "attachments": {},
   "cell_type": "markdown",
   "id": "e6e4a200",
   "metadata": {},
   "source": [
    "## <span style=\"color:#4361EE\">Desarrolladores Principales</span>"
   ]
  },
  {
   "attachments": {},
   "cell_type": "markdown",
   "id": "8110be39",
   "metadata": {},
   "source": [
    "9. Dairo Moreno, damoralesj@unal.edu.co\n",
    "10. Joan Castro, jocastroc@unal.edu.co\n",
    "11. Bryan Riveros, briveros@unal.edu.co\n",
    "12. Rosmer Vargas, rovargasc@unal.edu.co"
   ]
  },
  {
   "attachments": {},
   "cell_type": "markdown",
   "id": "4a3f36be",
   "metadata": {},
   "source": [
    "## <span style=\"color:#4361EE\">Expertos en Bases de Datos</span>"
   ]
  },
  {
   "attachments": {},
   "cell_type": "markdown",
   "id": "6dc64086",
   "metadata": {},
   "source": [
    "13. Giovvani Barrera, udgiovanni@gmail.com\n",
    "14. Camilo Chitivo, cchitivo@unal.edu.co"
   ]
  },
  {
   "attachments": {},
   "cell_type": "markdown",
   "id": "e4447d4d-a448-40d6-98cd-cbaebf381d7c",
   "metadata": {},
   "source": [
    "## <span style=\"color:#4361EE\">Referencias</span> "
   ]
  },
  {
   "attachments": {},
   "cell_type": "markdown",
   "id": "d23caca7-9f44-4ca3-a8c9-2c4cfd44ee39",
   "metadata": {},
   "source": [
    "1. [HuggingFace. Transformers ](https://huggingface.co/transformers/)\n",
    "1. [HuggingFace. Intro pipeline](https://huggingface.co/course/chapter1/3?fw=pt)\n"
   ]
  },
  {
   "attachments": {},
   "cell_type": "markdown",
   "id": "2a0da79b-44dc-460c-ac1e-b71ade087a9c",
   "metadata": {},
   "source": [
    "## <span style=\"color:#4361EE\">Contenido</span>"
   ]
  },
  {
   "attachments": {},
   "cell_type": "markdown",
   "id": "15195d1b-1dfc-4e35-a28d-5c6dad544252",
   "metadata": {},
   "source": [
    "* [Introducción](#Introducción)\n",
    "* [Pipeline de HuggingFace](#Pipeline-de-HuggingFace)"
   ]
  },
  {
   "attachments": {},
   "cell_type": "markdown",
   "id": "a791a8ca-c0ed-4e60-bcf8-eabb7c29b3ce",
   "metadata": {},
   "source": [
    "## <span style=\"color:#4361EE\">Generación de textos</span>"
   ]
  },
  {
   "cell_type": "raw",
   "id": "e76fd28f-ef5a-452b-b562-ffd48a9fb361",
   "metadata": {},
   "source": [
    "!conda install -c huggingface transformers\n",
    "!conda install -c conda-forge sentencepiece"
   ]
  },
  {
   "cell_type": "code",
   "execution_count": null,
   "id": "d0b33c5c-84bb-4b27-a1eb-035ff21db51d",
   "metadata": {},
   "outputs": [],
   "source": [
    "#from transformers import GPT2Tokenizer, GPT2Model\n",
    "#import torch"
   ]
  },
  {
   "cell_type": "code",
   "execution_count": null,
   "id": "5cdc853d-e60a-4b14-913f-c8f3d0cb99f3",
   "metadata": {},
   "outputs": [],
   "source": [
    "#tokenizer = GPT2Tokenizer.from_pretrained('gpt2')\n",
    "#model = GPT2Model.from_pretrained('gpt2')"
   ]
  },
  {
   "cell_type": "code",
   "execution_count": null,
   "id": "792f495a-f5fc-473a-a4f2-23aff463370a",
   "metadata": {},
   "outputs": [],
   "source": [
    "\n",
    "#tokenizer = GPT2Tokenizer.from_pretrained('datificate/gpt2-small-spanish')\n",
    "#model = GPT2Model.from_pretrained('datificate/gpt2-small-spanish')\n"
   ]
  },
  {
   "cell_type": "code",
   "execution_count": null,
   "id": "b930a125-ed4e-4ede-b61c-94ac99028164",
   "metadata": {
    "tags": []
   },
   "outputs": [],
   "source": [
    "#inputs = tokenizer(\"Hola, ¿cómo estás?\", return_tensors=\"pt\")\n",
    "#outputs = model(**inputs)\n",
    "\n",
    "#last_hidden_states = outputs.last_hidden_state"
   ]
  },
  {
   "cell_type": "code",
   "execution_count": null,
   "id": "0d403074-d53a-4c2d-a06b-9035fd3ebdb8",
   "metadata": {},
   "outputs": [],
   "source": [
    "###"
   ]
  },
  {
   "cell_type": "code",
   "execution_count": null,
   "id": "d7e7c97c-8a66-4afe-8758-06ad3a1f7e44",
   "metadata": {},
   "outputs": [],
   "source": [
    "#from transformers import pipeline, set_seed\n",
    "#generator = pipeline('text-generation', model='datificate/gpt2-small-spanish')\n",
    "#set_seed(42)\n"
   ]
  },
  {
   "cell_type": "code",
   "execution_count": null,
   "id": "d208326d-bdfb-463e-9c0a-38c0ab282105",
   "metadata": {},
   "outputs": [],
   "source": [
    "#generator(\"¿cómo te llamas?\", max_length=20, num_return_sequences=5)"
   ]
  },
  {
   "cell_type": "code",
   "execution_count": null,
   "id": "1aed43ef-632a-47b4-8cb8-269f19e20532",
   "metadata": {},
   "outputs": [],
   "source": [
    "\n",
    "#generated_text_samples = model.generate(\n",
    "#    inputs, \n",
    "#    max_length=150,  \n",
    "#    num_return_sequences=5,\n",
    "#    no_repeat_ngram_size=2,\n",
    "#    repetition_penalty=1.5,\n",
    "#    top_p=0.92,\n",
    "#    temperature=.85,\n",
    "#    do_sample=True,\n",
    "#    top_k=125,\n",
    "#    early_stopping=True\n",
    "#)"
   ]
  },
  {
   "cell_type": "code",
   "execution_count": null,
   "id": "d1b9a8d8-79bc-44e7-b8fb-926ec5034f97",
   "metadata": {},
   "outputs": [],
   "source": [
    "#from transformers import pipeline, set_seed\n",
    "#generator = pipeline('text-generation', model='gpt2')\n",
    "#set_seed(42)"
   ]
  },
  {
   "attachments": {},
   "cell_type": "markdown",
   "id": "72ec1261-f9c1-4a84-85b4-52b4f0360962",
   "metadata": {},
   "source": [
    "## <span style=\"color:#4361EE\">Blenderbot</span>"
   ]
  },
  {
   "cell_type": "code",
   "execution_count": null,
   "id": "259d3d91-4f37-4afc-b606-7ba1b741d378",
   "metadata": {},
   "outputs": [],
   "source": [
    "#from transformers import BlenderbotTokenizer, BlenderbotForConditionalGeneration\n",
    "#mname = 'facebook/blenderbot-400M-distill'\n",
    "#model = BlenderbotForConditionalGeneration.from_pretrained(mname)\n",
    "#tokenizer = BlenderbotTokenizer.from_pretrained(mname)"
   ]
  },
  {
   "cell_type": "code",
   "execution_count": null,
   "id": "0145f4ca-f00f-4553-b889-94120302f7c9",
   "metadata": {},
   "outputs": [],
   "source": [
    "#UTTERANCE = \"My friends are cool but they eat too many carbs.\"\n",
    "#inputs = tokenizer([UTTERANCE], return_tensors='pt')\n",
    "#reply_ids = model.generate(**inputs)\n",
    "#print(tokenizer.batch_decode(reply_ids))\n",
    "##[\"<s> That's unfortunate. Are they trying to lose weight or are they just trying to be healthier?</s>\"]"
   ]
  },
  {
   "attachments": {},
   "cell_type": "markdown",
   "id": "446060a5-da08-4f9e-87a2-9bfdd2cc492e",
   "metadata": {},
   "source": [
    "### <span style=\"color:#4CC9F0\">Importa librerías</span>"
   ]
  },
  {
   "cell_type": "code",
   "execution_count": null,
   "id": "c06ee1fe-ac8f-48f7-937f-77fe4ebd3581",
   "metadata": {},
   "outputs": [],
   "source": [
    "# imports\n",
    "from transformers import pipeline\n",
    "from transformers import PegasusTokenizer, TFPegasusForConditionalGeneration\n",
    "from sentence_utils import split_into_sentences # Montenegro"
   ]
  },
  {
   "attachments": {},
   "cell_type": "markdown",
   "id": "902e2b00-3d22-46fc-b4c7-c8aeacf6d906",
   "metadata": {},
   "source": [
    "### <span style=\"color:#4CC9F0\">Carga los modelos que usará</span>"
   ]
  },
  {
   "cell_type": "code",
   "execution_count": null,
   "id": "c8a8ca1c-b99b-48bd-a604-d3a25b8bab60",
   "metadata": {},
   "outputs": [],
   "source": [
    "#resumenes abstractivos\n",
    "model = TFPegasusForConditionalGeneration.from_pretrained('google/pegasus-xsum')\n",
    "tokenizer = PegasusTokenizer.from_pretrained('google/pegasus-xsum')\n",
    "\n",
    "# generación de texto\n",
    "generator = pipeline('text-generation', model='gpt2-large') # gpt2-xl\n",
    "\n",
    "# traductores\n",
    "traductor_to_spanish = pipeline(\"translation\", model=\"Helsinki-NLP/opus-mt-en-es\")\n",
    "traductor_to_english = pipeline(\"translation\", model=\"Helsinki-NLP/opus-mt-es-en\")"
   ]
  },
  {
   "attachments": {},
   "cell_type": "markdown",
   "id": "bb8ea23d-f657-4c21-a850-b41af7baea59",
   "metadata": {},
   "source": [
    "### <span style=\"color:#4CC9F0\">Hiperparámetros</span>"
   ]
  },
  {
   "cell_type": "code",
   "execution_count": null,
   "id": "91a17ca9-bff0-4ebb-9c5c-fb61a41cb0f8",
   "metadata": {},
   "outputs": [],
   "source": [
    "# Cuántos párrafos\n",
    "n = 10\n",
    "\n",
    "# máxima longitud de secuencia\n",
    "max_length = 256\n",
    "\n",
    "# Nunmero de secuencias generadas\n",
    "num_return_sequences = 1\n"
   ]
  },
  {
   "attachments": {},
   "cell_type": "markdown",
   "id": "f12392ce-3ea1-409a-ab43-097294958020",
   "metadata": {},
   "source": [
    "### <span style=\"color:#4CC9F0\">Genera un párrafo incial inicial en español</span>"
   ]
  },
  {
   "cell_type": "code",
   "execution_count": 176,
   "id": "31ce4ebd-bb61-4c25-897d-141fbb3d1de1",
   "metadata": {},
   "outputs": [],
   "source": [
    "# lista para guardar los textos\n",
    "texto = []\n",
    "\n",
    "frase = 'Esta situación es muy difícil. Estoy un poco enfermo y sin animo para seguir adelante'\n",
    "texto.append(frase)\n",
    "\n",
    "# separa en frases\n",
    "frase = split_into_sentences(frase)"
   ]
  },
  {
   "attachments": {},
   "cell_type": "markdown",
   "id": "e68935d2-7523-4402-b590-9d226c452752",
   "metadata": {},
   "source": [
    "### <span style=\"color:#4CC9F0\">Traduce a inglés</span>"
   ]
  },
  {
   "cell_type": "code",
   "execution_count": 176,
   "id": "0111e8de-9eca-4423-865d-b47c996e2e23",
   "metadata": {},
   "outputs": [
    {
     "data": {
      "text/plain": [
       "[{'translation_text': 'This situation is very difficult.'},\n",
       " {'translation_text': \"I'm a little sick and unencouraged to move on.\"}]"
      ]
     },
     "execution_count": 176,
     "metadata": {},
     "output_type": "execute_result"
    }
   ],
   "source": [
    "sentence = traductor_to_english(frase)"
   ]
  },
  {
   "cell_type": "code",
   "execution_count": 187,
   "id": "3bd1e5b7-e821-40bf-9e34-be7ee769903d",
   "metadata": {},
   "outputs": [
    {
     "data": {
      "text/plain": [
       "['This situation is very difficult.',\n",
       " \"I'm a little sick and unencouraged to move on.\"]"
      ]
     },
     "execution_count": 187,
     "metadata": {},
     "output_type": "execute_result"
    }
   ],
   "source": [
    "sentence = [s['translation_text'] for s in sentence]\n",
    "sentence"
   ]
  },
  {
   "attachments": {},
   "cell_type": "markdown",
   "id": "d5e713b9-0f0b-4a2c-8626-3fe76f6048ed",
   "metadata": {},
   "source": [
    "### <span style=\"color:#4CC9F0\">Reconstruye el párrafo en inglés</span>"
   ]
  },
  {
   "cell_type": "code",
   "execution_count": 188,
   "id": "9c8cd46f-41a4-4132-8bf0-0162c0083fc9",
   "metadata": {},
   "outputs": [
    {
     "data": {
      "text/plain": [
       "\"This situation is very difficult. I'm a little sick and unencouraged to move on.\""
      ]
     },
     "execution_count": 188,
     "metadata": {},
     "output_type": "execute_result"
    }
   ],
   "source": [
    "sentence = \" \".join(sentence)\n",
    "sentence"
   ]
  },
  {
   "attachments": {},
   "cell_type": "markdown",
   "id": "ad7f8184-d3c4-494e-bf11-8a993e1eb4b6",
   "metadata": {},
   "source": [
    "### <span style=\"color:#4CC9F0\">Genera texto usnado gpt2-large</span>"
   ]
  },
  {
   "cell_type": "code",
   "execution_count": 189,
   "id": "dc349344-bbd9-44d6-918c-a8e21d0f240a",
   "metadata": {},
   "outputs": [
    {
     "name": "stderr",
     "output_type": "stream",
     "text": [
      "Setting `pad_token_id` to `eos_token_id`:50256 for open-end generation.\n"
     ]
    },
    {
     "data": {
      "text/plain": [
       "[{'generated_text': ' But I also feel strong about this, I know that I can still create,\" says Korneliussen. \"But I don\\'t know if I\\'m able to. Just the idea of the whole thing being about me, it\\'s very dispiriting for me.\"\\n\\nFellow Red Bull engineer Felix Rosenqvist also finds himself at loggerheads with his team manager, Christian Horner, after they\\'ve both seen their sponsors pull out of their deals. \"Of course, the whole thing has been absolutely crazy,\" says Rosenqvist of his position on the team. \"I don\\'t know what else to say. I understand the situation, but that doesn\\'t make me feel even the slightest bit better. I don\\'t want to go to sleep knowing that I have a problem to solve or a failure that is coming in the next hours or by the day,\" he says.\\n\\nAnd despite what he\\'s facing, Rosenqvist appears to have a decent grasp on his current situation. \"Of course I have my own opinions, but a Formula 1 car is an unbelievable amount of equipment, it\\'s a bit overwhelming at times. Of course, all this is'}]"
      ]
     },
     "execution_count": 189,
     "metadata": {},
     "output_type": "execute_result"
    }
   ],
   "source": [
    "text_gen = generator(\n",
    "    sentence,\n",
    "    max_length = max_length,\n",
    "    num_return_sequences = num_return_sequences,\n",
    "    return_full_text=False, # no coloca la frase inicial\n",
    "    clean_up_tokenization_spaces=True,\n",
    "    )\n",
    "\n",
    "text_gen"
   ]
  },
  {
   "attachments": {},
   "cell_type": "markdown",
   "id": "21f94589-cfdc-48e8-96f5-40a5238928f3",
   "metadata": {},
   "source": [
    "### <span style=\"color:#4CC9F0\">Divide el párrafo generado por gpt-2 en frases</span>"
   ]
  },
  {
   "cell_type": "code",
   "execution_count": 192,
   "id": "bc7f1b96-1f3e-43e2-b942-9cf3fe1b6fc6",
   "metadata": {},
   "outputs": [
    {
     "data": {
      "text/plain": [
       "['But I also feel strong about this, I know that I can still create,\" says Korneliussen.',\n",
       " '\"But I don\\'t know if I\\'m able to.',\n",
       " 'Just the idea of the whole thing being about me, it\\'s very dispiriting for me\".',\n",
       " \"Fellow Red Bull engineer Felix Rosenqvist also finds himself at loggerheads with his team manager, Christian Horner, after they've both seen their sponsors pull out of their deals.\",\n",
       " '\"Of course, the whole thing has been absolutely crazy,\" says Rosenqvist of his position on the team.',\n",
       " '\"I don\\'t know what else to say.',\n",
       " \"I understand the situation, but that doesn't make me feel even the slightest bit better.\",\n",
       " 'I don\\'t want to go to sleep knowing that I have a problem to solve or a failure that is coming in the next hours or by the day,\" he says.',\n",
       " \"And despite what he's facing, Rosenqvist appears to have a decent grasp on his current situation.\",\n",
       " '\"Of course I have my own opinions, but a Formula 1 car is an unbelievable amount of equipment, it\\'s a bit overwhelming at times.',\n",
       " 'Of course, all this is']"
      ]
     },
     "execution_count": 192,
     "metadata": {},
     "output_type": "execute_result"
    }
   ],
   "source": [
    "generated_sentences = split_into_sentences(text_gen[0]['generated_text'])\n",
    "generated_sentences"
   ]
  },
  {
   "attachments": {},
   "cell_type": "markdown",
   "id": "224b2548-cea1-4c73-86f8-4e2dc3ebc743",
   "metadata": {},
   "source": [
    "### <span style=\"color:#4CC9F0\">Traduce  las frases de inglés a español</span>"
   ]
  },
  {
   "cell_type": "code",
   "execution_count": 193,
   "id": "df7f5674-b09d-4799-96a6-07f565dbb1fd",
   "metadata": {},
   "outputs": [
    {
     "data": {
      "text/plain": [
       "[{'translation_text': 'Pero también me siento fuerte al respecto, sé que todavía puedo crear\", dice Korneliussen.'},\n",
       " {'translation_text': '\"Pero no sé si soy capaz de hacerlo.'},\n",
       " {'translation_text': 'Sólo la idea de que todo esto sea sobre mí, es muy desanimador para mí\".'},\n",
       " {'translation_text': 'El compañero de Red Bull, el ingeniero Felix Rosenqvist, también se encuentra en Loggerheads con su manager de equipo, Christian Horner, después de que ambos hayan visto a sus patrocinadores retirarse de sus tratos.'},\n",
       " {'translation_text': '\"Por supuesto, todo ha sido una locura\", dice Rosenqvist de su posición en el equipo.'},\n",
       " {'translation_text': '\"No sé qué más decir.'},\n",
       " {'translation_text': 'Entiendo la situación, pero eso no me hace sentir mejor.'},\n",
       " {'translation_text': 'No quiero irme a dormir sabiendo que tengo un problema que resolver o un fracaso que viene en las próximas horas o por el día\", dice.'},\n",
       " {'translation_text': 'Y a pesar de lo que está enfrentando, Rosenqvist parece tener un conocimiento decente de su situación actual.'},\n",
       " {'translation_text': '\"Por supuesto que tengo mis propias opiniones, pero un coche de Fórmula 1 es una cantidad increíble de equipo, es un poco abrumador a veces.'},\n",
       " {'translation_text': 'Por supuesto, todo esto es'}]"
      ]
     },
     "execution_count": 193,
     "metadata": {},
     "output_type": "execute_result"
    }
   ],
   "source": [
    "generated_spanish = traductor_to_spanish(generated_sentences)\n",
    "generated_spanish"
   ]
  },
  {
   "attachments": {},
   "cell_type": "markdown",
   "id": "1ef2543d-d335-4153-97ce-39842315fb73",
   "metadata": {},
   "source": [
    "### <span style=\"color:#4CC9F0\">Convierte la traducción al español en párrafos y agrega a la lista del texto en español</span>"
   ]
  },
  {
   "cell_type": "code",
   "execution_count": 197,
   "id": "6911eca1-7bd0-426c-bde4-a08317969bae",
   "metadata": {},
   "outputs": [
    {
     "data": {
      "text/plain": [
       "'Pero también me siento fuerte al respecto, sé que todavía puedo crear\", dice Korneliussen. \"Pero no sé si soy capaz de hacerlo. Sólo la idea de que todo esto sea sobre mí, es muy desanimador para mí\". El compañero de Red Bull, el ingeniero Felix Rosenqvist, también se encuentra en Loggerheads con su manager de equipo, Christian Horner, después de que ambos hayan visto a sus patrocinadores retirarse de sus tratos. \"Por supuesto, todo ha sido una locura\", dice Rosenqvist de su posición en el equipo. \"No sé qué más decir. Entiendo la situación, pero eso no me hace sentir mejor. No quiero irme a dormir sabiendo que tengo un problema que resolver o un fracaso que viene en las próximas horas o por el día\", dice. Y a pesar de lo que está enfrentando, Rosenqvist parece tener un conocimiento decente de su situación actual. \"Por supuesto que tengo mis propias opiniones, pero un coche de Fórmula 1 es una cantidad increíble de equipo, es un poco abrumador a veces. Por supuesto, todo esto es'"
      ]
     },
     "execution_count": 197,
     "metadata": {},
     "output_type": "execute_result"
    }
   ],
   "source": [
    "generated_spanish = [s['translation_text'] for s in generate_spanish]\n",
    "generated_spanish = \" \".join(generated_spanish)\n",
    "generated_spanish"
   ]
  },
  {
   "cell_type": "code",
   "execution_count": 201,
   "id": "473a9271-6c12-47da-a8c2-4cc08a59bd43",
   "metadata": {},
   "outputs": [
    {
     "data": {
      "text/plain": [
       "['Esta situación es muy difícil. Estoy un poco enfermo y sin animo para seguir adelante',\n",
       " 'Pero también me siento fuerte al respecto, sé que todavía puedo crear\", dice Korneliussen. \"Pero no sé si soy capaz de hacerlo. Sólo la idea de que todo esto sea sobre mí, es muy desanimador para mí\". El compañero de Red Bull, el ingeniero Felix Rosenqvist, también se encuentra en Loggerheads con su manager de equipo, Christian Horner, después de que ambos hayan visto a sus patrocinadores retirarse de sus tratos. \"Por supuesto, todo ha sido una locura\", dice Rosenqvist de su posición en el equipo. \"No sé qué más decir. Entiendo la situación, pero eso no me hace sentir mejor. No quiero irme a dormir sabiendo que tengo un problema que resolver o un fracaso que viene en las próximas horas o por el día\", dice. Y a pesar de lo que está enfrentando, Rosenqvist parece tener un conocimiento decente de su situación actual. \"Por supuesto que tengo mis propias opiniones, pero un coche de Fórmula 1 es una cantidad increíble de equipo, es un poco abrumador a veces. Por supuesto, todo esto es']"
      ]
     },
     "execution_count": 201,
     "metadata": {},
     "output_type": "execute_result"
    }
   ],
   "source": [
    "texto.append(generated_spanish)\n",
    "texto"
   ]
  },
  {
   "attachments": {},
   "cell_type": "markdown",
   "id": "f9f9c191-1b7e-4a88-ad30-5d31a1fb4438",
   "metadata": {},
   "source": [
    "### <span style=\"color:#4CC9F0\">Resume el texto de inglés con Pegasus</span>"
   ]
  },
  {
   "cell_type": "code",
   "execution_count": 213,
   "id": "6e99688b-bf28-43d7-af2d-632a21e6fac8",
   "metadata": {},
   "outputs": [
    {
     "data": {
      "text/plain": [
       "['\"Of course, the whole thing has been absolutely crazy.']"
      ]
     },
     "execution_count": 213,
     "metadata": {},
     "output_type": "execute_result"
    }
   ],
   "source": [
    "inputs = tokenizer(text_gen[0]['generated_text'], max_length=1024, return_tensors='tf')\n",
    "\n",
    "summary_ids = model.generate(inputs['input_ids'])\n",
    "summary_text =[tokenizer.decode(g, skip_special_tokens=True, clean_up_tokenization_spaces=False) for g in summary_ids]\n",
    "summary_text"
   ]
  },
  {
   "attachments": {},
   "cell_type": "markdown",
   "id": "07eba2ee-bc91-48f6-81fa-5e55f7ce7940",
   "metadata": {},
   "source": [
    "### <span style=\"color:#4CC9F0\">Resume el texto con la herramienta por defecto de pipeline</span>"
   ]
  },
  {
   "cell_type": "code",
   "execution_count": 217,
   "id": "23657633-af6a-4463-9630-9763ace78251",
   "metadata": {},
   "outputs": [],
   "source": [
    "summarizer = pipeline(\"summarization\")"
   ]
  },
  {
   "cell_type": "code",
   "execution_count": null,
   "id": "66e05393-ae54-475b-a0b8-d18b4047a998",
   "metadata": {},
   "outputs": [],
   "source": [
    "sumarize =  summarizer(text_gen[0]['generated_text'])\n",
    "sumarize"
   ]
  },
  {
   "cell_type": "code",
   "execution_count": 219,
   "id": "336e49e9-2baa-475f-9d61-4eade3cb6b8e",
   "metadata": {},
   "outputs": [
    {
     "data": {
      "text/plain": [
       "[{'summary_text': ' Red Bull engineer Felix Rosenqvist and Red Bull team manager Christian Horner have both seen their sponsors pull out of their deals . The pair have been at loggerheads with each other since the news broke . Korneliussen: \"Just the idea of the whole thing being about me, it\\'s very dispiriting for me\"'}]"
      ]
     },
     "execution_count": 219,
     "metadata": {},
     "output_type": "execute_result"
    }
   ],
   "source": [
    "sumarize"
   ]
  },
  {
   "attachments": {},
   "cell_type": "markdown",
   "id": "ade2d3df-a4a2-4403-9d25-7f43436259f0",
   "metadata": {},
   "source": [
    "### <span style=\"color:#4CC9F0\">Traduce el resumen a español</span>"
   ]
  },
  {
   "cell_type": "code",
   "execution_count": 222,
   "id": "d9de6563-8ee5-4ac1-b9ad-62af30cf4ad1",
   "metadata": {},
   "outputs": [],
   "source": [
    "resumen =  traductor_to_spanish(sumarize[0]['summary_text'])\n",
    "resumen"
   ]
  },
  {
   "cell_type": "code",
   "execution_count": 223,
   "id": "affe85b3-a51c-4097-98e0-4b714925daeb",
   "metadata": {},
   "outputs": [
    {
     "data": {
      "text/plain": [
       "[{'translation_text': 'El ingeniero de Red Bull Felix Rosenqvist y el gerente del equipo de Red Bull, Christian Horner, han visto a sus patrocinadores retirarse de sus tratos. La pareja ha estado en loggerheads el uno con el otro desde que salió la noticia. Korneliussen: \"Solo la idea de que todo esto sea sobre mí, es muy desanimador para mí\"'}]"
      ]
     },
     "execution_count": 223,
     "metadata": {},
     "output_type": "execute_result"
    }
   ],
   "source": [
    "resumen"
   ]
  },
  {
   "cell_type": "code",
   "execution_count": 231,
   "id": "bb50cc99-18b9-41db-988e-4d8a1e0eea76",
   "metadata": {},
   "outputs": [
    {
     "data": {
      "text/plain": [
       "['Esta situación es muy difícil. Estoy un poco enfermo y sin animo para seguir adelante',\n",
       " 'El ingeniero de Red Bull Felix Rosenqvist y el gerente del equipo de Red Bull, Christian Horner, han visto a sus patrocinadores retirarse de sus tratos. La pareja ha estado en loggerheads el uno con el otro desde que salió la noticia. Korneliussen: \"Solo la idea de que todo esto sea sobre mí, es muy desanimador para mí\"']"
      ]
     },
     "execution_count": 231,
     "metadata": {},
     "output_type": "execute_result"
    }
   ],
   "source": [
    "resumen_sp = []\n",
    "resumen_sp.append(texto[0])\n",
    "resumen_sp.append(resumen[0]['translation_text'])9p \n",
    "resumen_sp"
   ]
  },
  {
   "cell_type": "code",
   "execution_count": 232,
   "id": "cc6162f6-5f53-4596-96e7-61adf00a2759",
   "metadata": {},
   "outputs": [
    {
     "data": {
      "text/plain": [
       "[{'generated_text': ' But I also feel strong about this, I know that I can still create,\" says Korneliussen. \"But I don\\'t know if I\\'m able to. Just the idea of the whole thing being about me, it\\'s very dispiriting for me.\"\\n\\nFellow Red Bull engineer Felix Rosenqvist also finds himself at loggerheads with his team manager, Christian Horner, after they\\'ve both seen their sponsors pull out of their deals. \"Of course, the whole thing has been absolutely crazy,\" says Rosenqvist of his position on the team. \"I don\\'t know what else to say. I understand the situation, but that doesn\\'t make me feel even the slightest bit better. I don\\'t want to go to sleep knowing that I have a problem to solve or a failure that is coming in the next hours or by the day,\" he says.\\n\\nAnd despite what he\\'s facing, Rosenqvist appears to have a decent grasp on his current situation. \"Of course I have my own opinions, but a Formula 1 car is an unbelievable amount of equipment, it\\'s a bit overwhelming at times. Of course, all this is'}]"
      ]
     },
     "execution_count": 232,
     "metadata": {},
     "output_type": "execute_result"
    }
   ],
   "source": [
    "text_gen"
   ]
  },
  {
   "attachments": {},
   "cell_type": "markdown",
   "id": "627dfe9f-08a5-431b-bc72-11690895d86f",
   "metadata": {},
   "source": [
    "### <span style=\"color:#4CC9F0\">Uniendo todas las piezas</span>"
   ]
  },
  {
   "cell_type": "code",
   "execution_count": 240,
   "id": "93a5f10b-ad0f-480f-b2f0-99cc76114549",
   "metadata": {},
   "outputs": [
    {
     "name": "stderr",
     "output_type": "stream",
     "text": [
      "Setting `pad_token_id` to `eos_token_id`:50256 for open-end generation.\n"
     ]
    },
    {
     "name": "stdout",
     "output_type": "stream",
     "text": [
      "generando texto  1 ...\n"
     ]
    },
    {
     "name": "stderr",
     "output_type": "stream",
     "text": [
      "Setting `pad_token_id` to `eos_token_id`:50256 for open-end generation.\n"
     ]
    },
    {
     "name": "stdout",
     "output_type": "stream",
     "text": [
      " \"We did make a deal with God one night and I don't know whether there is another way\" \"I love this place and I love to live here. I am not going to let nothing like this stop me from continuing on with my mission in life to make a difference in people's lives\"\n",
      "generando texto  2 ...\n"
     ]
    },
    {
     "name": "stderr",
     "output_type": "stream",
     "text": [
      "Setting `pad_token_id` to `eos_token_id`:50256 for open-end generation.\n"
     ]
    },
    {
     "name": "stdout",
     "output_type": "stream",
     "text": [
      " Shekau's \"mission in life\" is to make a difference in the lives of other mothers . She's helping them find their place in the community and make a stronger impact than they would otherwise have . For those moms who have been searching for ways to get into that first \"second wave\", this is a great opportunity .\n",
      "generando texto  3 ...\n"
     ]
    },
    {
     "name": "stderr",
     "output_type": "stream",
     "text": [
      "Setting `pad_token_id` to `eos_token_id`:50256 for open-end generation.\n"
     ]
    },
    {
     "name": "stdout",
     "output_type": "stream",
     "text": [
      " The Women's Equality Forum will host a speaker on the state of the women in Minnesota on a daily basis . The speaker will be a proud, local woman who's willing to stand by her beliefs, even if they don't seem to fit with many others in the local community .\n",
      "generando texto  4 ...\n"
     ]
    },
    {
     "name": "stderr",
     "output_type": "stream",
     "text": [
      "Your max_length is set to 142, but you input_length is only 34. You might consider decreasing max_length manually, e.g. summarizer('...', max_length=50)\n",
      "Setting `pad_token_id` to `eos_token_id`:50256 for open-end generation.\n"
     ]
    },
    {
     "name": "stdout",
     "output_type": "stream",
     "text": [
      " There are many other Women's Equality Forum events across the region . To find out what's on for all your interests, visit our Events Calendar . There are also many other events in the region including the Women's Empowerment Forum and the Women’s Equality Forum .\n",
      "generando texto  5 ...\n"
     ]
    },
    {
     "name": "stderr",
     "output_type": "stream",
     "text": [
      "Your max_length is set to 142, but you input_length is only 84. You might consider decreasing max_length manually, e.g. summarizer('...', max_length=50)\n",
      "Setting `pad_token_id` to `eos_token_id`:50256 for open-end generation.\n"
     ]
    },
    {
     "name": "stdout",
     "output_type": "stream",
     "text": [
      " Women are more likely than men to experience sexist stereotypes and abuse and face greater violence in the workplace . The gender pay gap is one of the main reasons women are paid less than men . It's not just a problem of not being part of a gender that is being held to more extreme standards .\n",
      "generando texto  6 ...\n"
     ]
    },
    {
     "name": "stderr",
     "output_type": "stream",
     "text": [
      "Setting `pad_token_id` to `eos_token_id`:50256 for open-end generation.\n"
     ]
    },
    {
     "name": "stdout",
     "output_type": "stream",
     "text": [
      " The legal gap between men and women who are paid the same is only around 9% . It is unlawful for men to be paid more than women in the same roles, and unlawful for women to receive more than men . The biggest and most significant consequence is that it reinforces harmful stereotypes .\n",
      "generando texto  7 ...\n"
     ]
    },
    {
     "name": "stderr",
     "output_type": "stream",
     "text": [
      "Setting `pad_token_id` to `eos_token_id`:50256 for open-end generation.\n"
     ]
    },
    {
     "name": "stdout",
     "output_type": "stream",
     "text": [
      " Discrimination is not discriminatory by definition, but it is 'discriminatory under the law', says the Law Commission (UK) If equality were to be achieved, the law will have to recognise a range of gender-related distinctions . In the same way we can have different types of employment, such as those in which a person works alongside another person .\n",
      "generando texto  8 ...\n"
     ]
    },
    {
     "name": "stderr",
     "output_type": "stream",
     "text": [
      "Setting `pad_token_id` to `eos_token_id`:50256 for open-end generation.\n"
     ]
    },
    {
     "name": "stdout",
     "output_type": "stream",
     "text": [
      " If a job applicant is a woman but is not a'super-fit' fit, then she should be placed in a male-oriented job . Women have a special role in the workforce and should not be denied equal treatment in other areas . Discrimination against women has to be challenged on the basis of the Equality Act 2005 of the UK .\n",
      "generando texto  9 ...\n",
      " There would be a duty to inform, advise and assist (including on women's issues) if certain persons within an organisation are perceived to be in their employ on the basis of their gender . This would include providing support for women to take part in an interview process if a person has been underqualified (and this could be through gender-based discrimination)\n",
      "Hecho\n"
     ]
    }
   ],
   "source": [
    "full_text = []\n",
    "summary_text =  []\n",
    "\n",
    "full_text.append(\"This situation is very difficult. I'm a little sick and unencouraged to move on.\")\n",
    "summary_text.append(\"This situation is very difficult. I'm a little sick and unencouraged to move on.\")\n",
    "\n",
    "\n",
    "sentence = summary_text[0]\n",
    "\n",
    "for i in range(n-1):\n",
    "    print('generando texto ', i+1, '...')\n",
    "    # genera texto\n",
    "    text_gen = generator(\n",
    "        sentence,\n",
    "        max_length = max_length,\n",
    "        num_return_sequences = num_return_sequences,\n",
    "        return_full_text=False, # no coloca la frase inicial\n",
    "        clean_up_tokenization_spaces=True,\n",
    "        )[0]['generated_text']\n",
    "    \n",
    "    # agrega al texto completo\n",
    "    full_text.append(text_gen)\n",
    "    \n",
    "    # resume\n",
    "    summary = summarizer(text_gen)[0]['summary_text']\n",
    "    \n",
    "    # agrega al texto resumido\n",
    "    summary_text.append(summary)\n",
    "    sentence = summary\n",
    "    print(sentence)\n",
    "\n",
    "print('Hecho')\n",
    "    "
   ]
  },
  {
   "attachments": {},
   "cell_type": "markdown",
   "id": "e82f2cfe-4ef1-4125-951e-b16e8367985d",
   "metadata": {},
   "source": [
    "### <span style=\"color:#4CC9F0\">Traducción</span>"
   ]
  },
  {
   "cell_type": "code",
   "execution_count": 248,
   "id": "0f589371-8ce5-42a1-b9db-071104b2be2f",
   "metadata": {},
   "outputs": [
    {
     "name": "stdout",
     "output_type": "stream",
     "text": [
      "traduciendo texto  1 ...\n",
      "Esta situación es muy difícil. Estoy un poco enfermo y no me anima a seguir adelante.\n",
      "traduciendo texto  2 ...\n",
      "\"Una noche hicimos un trato con Dios y no sé si hay otra manera\" \"Me encanta este lugar y me encanta vivir aquí. No voy a dejar que nada como esto me impida continuar con mi misión en la vida para hacer una diferencia en la vida de las personas\"\n",
      "traduciendo texto  3 ...\n",
      "La \"misión en la vida\" de Shekau es hacer una diferencia en la vida de otras madres . Ella les está ayudando a encontrar su lugar en la comunidad y hacer un impacto más fuerte de lo que tendrían de otro modo . Para aquellas madres que han estado buscando maneras de entrar en esa primera \"segunda ola\", esta es una gran oportunidad .\n",
      "traduciendo texto  4 ...\n",
      "El Foro de Igualdad de la Mujer será anfitrión de un orador sobre el estado de las mujeres en Minnesota sobre una base diaria. El orador será una mujer orgullosa, local que está dispuesto a apoyar sus creencias, incluso si no parecen encajar con muchos otros en la comunidad local.\n",
      "traduciendo texto  5 ...\n",
      "Hay muchos otros eventos del Foro para la Igualdad de la Mujer en toda la región. Para saber qué hay para todos sus intereses, visite nuestro Calendario de Eventos. También hay muchos otros eventos en la región, incluyendo el Foro para el Empoderamiento de la Mujer y el Foro para la Igualdad de la Mujer.\n",
      "traduciendo texto  6 ...\n",
      "Las mujeres son más propensas que los hombres a experimentar estereotipos y abusos sexistas y enfrentan mayor violencia en el lugar de trabajo . La brecha salarial de género es una de las principales razones por las que a las mujeres se les paga menos que a los hombres . No es sólo un problema de no ser parte de un género que se mantiene a estándares más extremos .\n",
      "traduciendo texto  7 ...\n",
      "La brecha legal entre hombres y mujeres que reciben el mismo salario es sólo alrededor del 9% . Es ilegal que los hombres reciban más que las mujeres en las mismas funciones, e ilegal que las mujeres reciban más que los hombres . La consecuencia más grande y más significativa es que refuerza estereotipos dañinos .\n",
      "traduciendo texto  8 ...\n",
      "La discriminación no es discriminatoria por definición, pero es \"discriminatoria en virtud de la ley\", dice la Comisión Jurídica (UK) Si se quiere lograr la igualdad, la ley tendrá que reconocer una serie de distinciones relacionadas con el género. De la misma manera podemos tener diferentes tipos de empleo, como aquellos en los que una persona trabaja junto a otra persona.\n",
      "traduciendo texto  9 ...\n",
      "Si un solicitante de empleo es una mujer, pero no es un \"superfit\", entonces debe ser colocado en un trabajo orientado a los hombres . Las mujeres tienen un papel especial en la fuerza de trabajo y no se les debe negar un trato igualitario en otras áreas . La discriminación contra la mujer tiene que ser impugnada sobre la base de la Ley de igualdad de 2005 del Reino Unido .\n",
      "traduciendo texto  10 ...\n",
      "Habría un deber de informar, asesorar y ayudar (incluso sobre cuestiones de la mujer) si ciertas personas dentro de una organización son percibidas como empleadas por razón de su género . Esto incluiría apoyar a las mujeres para que participen en un proceso de entrevistas si una persona ha sido insuficientemente calificada (y esto podría ser por medio de la discriminación basada en el género)\n",
      "Hecho\n"
     ]
    }
   ],
   "source": [
    "resumem_texto = []\n",
    "\n",
    "for i in range(len(summary_text)):\n",
    "    print('traduciendo texto ', i+1, '...')\n",
    "    traduccion = traductor_to_spanish(summary_text)[i]['translation_text']\n",
    "    resumem_texto.append(traduccion) \n",
    "    print(traduccion)\n",
    "\n",
    "print('Hecho')"
   ]
  },
  {
   "cell_type": "code",
   "execution_count": 250,
   "id": "4bb6a321-c489-4176-89bf-4aeeaae4371e",
   "metadata": {},
   "outputs": [
    {
     "data": {
      "text/plain": [
       "['Esta situación es muy difícil. Estoy un poco enfermo y no me anima a seguir adelante.',\n",
       " '\"Una noche hicimos un trato con Dios y no sé si hay otra manera\" \"Me encanta este lugar y me encanta vivir aquí. No voy a dejar que nada como esto me impida continuar con mi misión en la vida para hacer una diferencia en la vida de las personas\"',\n",
       " 'La \"misión en la vida\" de Shekau es hacer una diferencia en la vida de otras madres . Ella les está ayudando a encontrar su lugar en la comunidad y hacer un impacto más fuerte de lo que tendrían de otro modo . Para aquellas madres que han estado buscando maneras de entrar en esa primera \"segunda ola\", esta es una gran oportunidad .',\n",
       " 'El Foro de Igualdad de la Mujer será anfitrión de un orador sobre el estado de las mujeres en Minnesota sobre una base diaria. El orador será una mujer orgullosa, local que está dispuesto a apoyar sus creencias, incluso si no parecen encajar con muchos otros en la comunidad local.',\n",
       " 'Hay muchos otros eventos del Foro para la Igualdad de la Mujer en toda la región. Para saber qué hay para todos sus intereses, visite nuestro Calendario de Eventos. También hay muchos otros eventos en la región, incluyendo el Foro para el Empoderamiento de la Mujer y el Foro para la Igualdad de la Mujer.',\n",
       " 'Las mujeres son más propensas que los hombres a experimentar estereotipos y abusos sexistas y enfrentan mayor violencia en el lugar de trabajo . La brecha salarial de género es una de las principales razones por las que a las mujeres se les paga menos que a los hombres . No es sólo un problema de no ser parte de un género que se mantiene a estándares más extremos .',\n",
       " 'La brecha legal entre hombres y mujeres que reciben el mismo salario es sólo alrededor del 9% . Es ilegal que los hombres reciban más que las mujeres en las mismas funciones, e ilegal que las mujeres reciban más que los hombres . La consecuencia más grande y más significativa es que refuerza estereotipos dañinos .',\n",
       " 'La discriminación no es discriminatoria por definición, pero es \"discriminatoria en virtud de la ley\", dice la Comisión Jurídica (UK) Si se quiere lograr la igualdad, la ley tendrá que reconocer una serie de distinciones relacionadas con el género. De la misma manera podemos tener diferentes tipos de empleo, como aquellos en los que una persona trabaja junto a otra persona.',\n",
       " 'Si un solicitante de empleo es una mujer, pero no es un \"superfit\", entonces debe ser colocado en un trabajo orientado a los hombres . Las mujeres tienen un papel especial en la fuerza de trabajo y no se les debe negar un trato igualitario en otras áreas . La discriminación contra la mujer tiene que ser impugnada sobre la base de la Ley de igualdad de 2005 del Reino Unido .',\n",
       " 'Habría un deber de informar, asesorar y ayudar (incluso sobre cuestiones de la mujer) si ciertas personas dentro de una organización son percibidas como empleadas por razón de su género . Esto incluiría apoyar a las mujeres para que participen en un proceso de entrevistas si una persona ha sido insuficientemente calificada (y esto podría ser por medio de la discriminación basada en el género)']"
      ]
     },
     "execution_count": 250,
     "metadata": {},
     "output_type": "execute_result"
    }
   ],
   "source": [
    "resumem_texto"
   ]
  },
  {
   "cell_type": "code",
   "execution_count": 251,
   "id": "c6302fd7-dfaa-4ec3-87a7-125ecad244a4",
   "metadata": {},
   "outputs": [],
   "source": [
    "resumen_global = \" \".join(resumem_texto)"
   ]
  },
  {
   "cell_type": "code",
   "execution_count": 252,
   "id": "74ced18f-9483-48a6-bc58-4f0a60ceed4f",
   "metadata": {},
   "outputs": [
    {
     "data": {
      "text/plain": [
       "'Esta situación es muy difícil. Estoy un poco enfermo y no me anima a seguir adelante. \"Una noche hicimos un trato con Dios y no sé si hay otra manera\" \"Me encanta este lugar y me encanta vivir aquí. No voy a dejar que nada como esto me impida continuar con mi misión en la vida para hacer una diferencia en la vida de las personas\" La \"misión en la vida\" de Shekau es hacer una diferencia en la vida de otras madres . Ella les está ayudando a encontrar su lugar en la comunidad y hacer un impacto más fuerte de lo que tendrían de otro modo . Para aquellas madres que han estado buscando maneras de entrar en esa primera \"segunda ola\", esta es una gran oportunidad . El Foro de Igualdad de la Mujer será anfitrión de un orador sobre el estado de las mujeres en Minnesota sobre una base diaria. El orador será una mujer orgullosa, local que está dispuesto a apoyar sus creencias, incluso si no parecen encajar con muchos otros en la comunidad local. Hay muchos otros eventos del Foro para la Igualdad de la Mujer en toda la región. Para saber qué hay para todos sus intereses, visite nuestro Calendario de Eventos. También hay muchos otros eventos en la región, incluyendo el Foro para el Empoderamiento de la Mujer y el Foro para la Igualdad de la Mujer. Las mujeres son más propensas que los hombres a experimentar estereotipos y abusos sexistas y enfrentan mayor violencia en el lugar de trabajo . La brecha salarial de género es una de las principales razones por las que a las mujeres se les paga menos que a los hombres . No es sólo un problema de no ser parte de un género que se mantiene a estándares más extremos . La brecha legal entre hombres y mujeres que reciben el mismo salario es sólo alrededor del 9% . Es ilegal que los hombres reciban más que las mujeres en las mismas funciones, e ilegal que las mujeres reciban más que los hombres . La consecuencia más grande y más significativa es que refuerza estereotipos dañinos . La discriminación no es discriminatoria por definición, pero es \"discriminatoria en virtud de la ley\", dice la Comisión Jurídica (UK) Si se quiere lograr la igualdad, la ley tendrá que reconocer una serie de distinciones relacionadas con el género. De la misma manera podemos tener diferentes tipos de empleo, como aquellos en los que una persona trabaja junto a otra persona. Si un solicitante de empleo es una mujer, pero no es un \"superfit\", entonces debe ser colocado en un trabajo orientado a los hombres . Las mujeres tienen un papel especial en la fuerza de trabajo y no se les debe negar un trato igualitario en otras áreas . La discriminación contra la mujer tiene que ser impugnada sobre la base de la Ley de igualdad de 2005 del Reino Unido . Habría un deber de informar, asesorar y ayudar (incluso sobre cuestiones de la mujer) si ciertas personas dentro de una organización son percibidas como empleadas por razón de su género . Esto incluiría apoyar a las mujeres para que participen en un proceso de entrevistas si una persona ha sido insuficientemente calificada (y esto podría ser por medio de la discriminación basada en el género)'"
      ]
     },
     "execution_count": 252,
     "metadata": {},
     "output_type": "execute_result"
    }
   ],
   "source": [
    "resumen_global"
   ]
  },
  {
   "cell_type": "code",
   "execution_count": 254,
   "id": "f6888fa7-7c5b-433f-a19f-e7009e09ba68",
   "metadata": {},
   "outputs": [
    {
     "data": {
      "text/plain": [
       "' Foro de Igualdad de la Mujer anfitrión de un orador sobre el estado de las mujeres in Minnesota sobre una base diaria . \"Me encanta this lugar y me encanta vivir aquí. Estoy un poco enfermo y no me anima a seguir adelante,\" says Shekau .'"
      ]
     },
     "execution_count": 254,
     "metadata": {},
     "output_type": "execute_result"
    }
   ],
   "source": [
    "resumen_del_resumen = summarizer(resumen_global[:1024])[0]['summary_text']\n",
    "resumen_del_resumen"
   ]
  }
 ],
 "metadata": {
  "kernelspec": {
   "display_name": "Python 3",
   "language": "python",
   "name": "python3"
  },
  "language_info": {
   "codemirror_mode": {
    "name": "ipython",
    "version": 3
   },
   "file_extension": ".py",
   "mimetype": "text/x-python",
   "name": "python",
   "nbconvert_exporter": "python",
   "pygments_lexer": "ipython3",
   "version": "3.8.10"
  }
 },
 "nbformat": 4,
 "nbformat_minor": 5
}
