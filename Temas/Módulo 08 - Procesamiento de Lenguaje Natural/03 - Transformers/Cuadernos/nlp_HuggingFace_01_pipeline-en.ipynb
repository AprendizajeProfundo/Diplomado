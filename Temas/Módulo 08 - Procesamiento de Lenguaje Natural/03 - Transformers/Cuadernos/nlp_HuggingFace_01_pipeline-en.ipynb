{
 "cells": [
  {
   "cell_type": "markdown",
   "id": "coordinated-butterfly",
   "metadata": {
    "tags": []
   },
   "source": [
    "<figure>\n",
    "<img src=\"../Imagenes/logo-final-ap.png\"  width=\"80\" height=\"80\" align=\"left\"/> \n",
    "</figure>\n",
    "\n",
    "# <span style=\"color:blue\"><left>Aprendizaje Profundo</left></span>"
   ]
  },
  {
   "cell_type": "markdown",
   "id": "isolated-frontier",
   "metadata": {
    "tags": []
   },
   "source": [
    "# <span style=\"color:red\"><center>Transformers- Natural Language Processing</center></span>"
   ]
  },
  {
   "cell_type": "markdown",
   "id": "opened-surrey",
   "metadata": {},
   "source": [
    "<center>HuggingFace pipeline</center>"
   ]
  },
  {
   "cell_type": "markdown",
   "id": "suited-oxygen",
   "metadata": {},
   "source": [
    "##   <span style=\"color:blue\">Authors</span>"
   ]
  },
  {
   "cell_type": "markdown",
   "id": "removable-estate",
   "metadata": {},
   "source": [
    "1. Alvaro Mauricio Montenegro Díaz, ammontenegrod@unal.edu.co\n",
    "2. Daniel Mauricio Montenegro Reyes, dextronomo@gmail.com "
   ]
  },
  {
   "cell_type": "markdown",
   "id": "alleged-pickup",
   "metadata": {},
   "source": [
    "## <span style=\"color:blue\">References</span> "
   ]
  },
  {
   "cell_type": "markdown",
   "id": "consistent-creek",
   "metadata": {},
   "source": [
    "1. [HuggingFace. Transformers ](https://huggingface.co/transformers/)\n",
    "1. [HuggingFace. Intro pipeline](https://huggingface.co/course/chapter1/3?fw=pt)\n",
    "1. [Tutorial Transformer de Google](https://www.tensorflow.org/text/tutorials/transformer)\n",
    "1. [Transformer-chatbot-tutorial-with-tensorflow-2](https://blog.tensorflow.org/2019/05/transformer-chatbot-tutorial-with-tensorflow-2.html) \n",
    "1. [Transformer Architecture: The positional encoding](https://kazemnejad.com/blog/transformer_architecture_positional_encoding/)\n",
    "1. [Illustrated Auto-attención](https://towardsdatascience.com/illustrated-self-attention-2d627e33b20a)\n",
    "1. [Illustrated Attention](https://towardsdatascience.com/attn-illustrated-attention-5ec4ad276ee3#0458)\n",
    "1. [Neural Machine Translation by Jointly Learning to Align and Translate (Bahdanau et. al, 2015)](https://arxiv.org/pdf/1409.0473.pdf)\n",
    "1. [Effective Approaches to Attention-based Neural Machine Translation (Luong et. al, 2015)](https://arxiv.org/pdf/1508.04025.pdf)\n",
    "1. [Attention Is All You Need (Vaswani et. al, 2017)](https://arxiv.org/pdf/1706.03762.pdf)\n",
    "1. [Self-Attention GAN (Zhang et. al, 2018)](https://arxiv.org/pdf/1805.08318.pdf)\n",
    "1. [Sequence to Sequence Learning with Neural Networks (Sutskever et. al, 2014)](https://arxiv.org/pdf/1409.3215.pdf)\n",
    "1. [TensorFlow’s seq2seq Tutorial with Attention (Tutorial on seq2seq+attention)](https://github.com/tensorflow/nmt)\n",
    "1. [Lilian Weng’s Blog on Attention (Great start to attention)](https://lilianweng.github.io/lil-log/2018/06/24/attention-attention.html#a-family-of-attention-mechanisms)\n",
    "1. [Jay Alammar’s Blog on Seq2Seq with Attention (Great illustrations and worked example on seq2seq+attention)](https://jalammar.github.io/visualizing-neural-machine-translation-mechanics-of-seq2seq-models-with-attention/)\n",
    "1. [Google’s Neural Machine Translation System: Bridging the Gap between Human and Machine Translation (Wu et. al, 2016)](https://arxiv.org/pdf/1609.08144.pdf)\n",
    "1. [Adam: A method for stochastic optimization](https://arxiv.org/pdf/1412.6980.pdf)"
   ]
  },
  {
   "cell_type": "markdown",
   "id": "super-watershed",
   "metadata": {},
   "source": [
    "## <span style=\"color:blue\">Content</span>"
   ]
  },
  {
   "cell_type": "markdown",
   "id": "comic-chinese",
   "metadata": {},
   "source": [
    "* [Introduction](#Introduction)\n",
    "* [Pipeline de HuggingFace](#Pipeline-de-HuggingFace)"
   ]
  },
  {
   "cell_type": "markdown",
   "id": "determined-script",
   "metadata": {},
   "source": [
    "## <span style=\"color:blue\">Introduction</span>"
   ]
  },
  {
   "cell_type": "markdown",
   "id": "crucial-blackberry",
   "metadata": {},
   "source": [
    "Modern natural language processing tasks are essentially divided into:\n",
    "\n",
    "1. Classification of texts. For example, sentiment analysis.\n",
    "1. Automatic generation of texts, based on an initial sentence.\n",
    "1. Generating text in context, filling masked empty spaces with `masked text` masks.\n",
    "1. Classification of each of the words in a sentence: For example: noun, adjective verb, or for example `ner`: named entity recognition. city, name of person, location, organization.\n",
    "1. Generation of an answer from a question.\n",
    "1. Translation from one language to another."
   ]
  },
  {
   "cell_type": "markdown",
   "id": "seasonal-purple",
   "metadata": {
    "tags": []
   },
   "source": [
    "## <span style=\"color:blue\">  HuggingFace Pipeline</span>"
   ]
  },
  {
   "cell_type": "markdown",
   "id": "incredible-rwanda",
   "metadata": {},
   "source": [
    "This lesson introduces `pipeline`, which is a HuggingFace function that allows direct use of pre-trained quer models (basically in English). This implies no need for pre-processing or post-processing to obtain results directly using the pre-trained models."
   ]
  },
  {
   "cell_type": "markdown",
   "id": "lesbian-tampa",
   "metadata": {},
   "source": [
    "To run the original HuggingFace notebook in Colab go to [HuggingFace notebook](https://huggingface.co/course/chapter1/3?fw=tf). Versión Torch [aquí](https://huggingface.co/course/chapter1/3?fw=pt)"
   ]
  },
  {
   "cell_type": "markdown",
   "id": "legislative-gnome",
   "metadata": {},
   "source": [
    "### Text Classification"
   ]
  },
  {
   "cell_type": "raw",
   "id": "closing-antarctica",
   "metadata": {},
   "source": [
    "!conda install -c huggingface transformers\n",
    "!conda install -c conda-forge sentencepiece"
   ]
  },
  {
   "cell_type": "code",
   "execution_count": 1,
   "id": "centered-people",
   "metadata": {},
   "outputs": [
    {
     "data": {
      "text/plain": [
       "[{'label': 'NEGATIVE', 'score': 0.9950999617576599}]"
      ]
     },
     "execution_count": 1,
     "metadata": {},
     "output_type": "execute_result"
    }
   ],
   "source": [
    "from transformers import pipeline\n",
    "\n",
    "classifier = pipeline(\"sentiment-analysis\")\n",
    "classifier(\"I've been waiting for a HuggingFace course my hole life\")"
   ]
  },
  {
   "cell_type": "code",
   "execution_count": 2,
   "id": "careful-trader",
   "metadata": {},
   "outputs": [
    {
     "data": {
      "text/plain": [
       "[{'label': 'POSITIVE', 'score': 0.9598047137260437},\n",
       " {'label': 'NEGATIVE', 'score': 0.9994558095932007}]"
      ]
     },
     "execution_count": 2,
     "metadata": {},
     "output_type": "execute_result"
    }
   ],
   "source": [
    "classifier([\n",
    "    \"I've been waiting for a HuggingFace course my whole life.\", \n",
    "    \"I hate this so much!\"\n",
    "])"
   ]
  },
  {
   "cell_type": "markdown",
   "id": "governing-newman",
   "metadata": {},
   "source": [
    "### Generation of text from an initial sentence"
   ]
  },
  {
   "cell_type": "code",
   "execution_count": 2,
   "id": "taken-bathroom",
   "metadata": {},
   "outputs": [
    {
     "name": "stderr",
     "output_type": "stream",
     "text": [
      "Setting `pad_token_id` to `eos_token_id`:50256 for open-end generation.\n"
     ]
    },
    {
     "data": {
      "text/plain": [
       "[{'generated_text': 'In this course we will teach you how to make the best choices in life and how to learn from your mistakes.\\n\\nLearning from those mistakes means you have the tools to be successful in your life or your business.\\n\\nLearning from the mistakes'}]"
      ]
     },
     "execution_count": 2,
     "metadata": {},
     "output_type": "execute_result"
    }
   ],
   "source": [
    "from transformers import pipeline\n",
    "\n",
    "generator = pipeline(\"text-generation\")\n",
    "generator('In this course we will teach you how to')"
   ]
  },
  {
   "cell_type": "code",
   "execution_count": 3,
   "id": "duplicate-tracker",
   "metadata": {},
   "outputs": [
    {
     "name": "stderr",
     "output_type": "stream",
     "text": [
      "Setting `pad_token_id` to `eos_token_id`:50256 for open-end generation.\n"
     ]
    },
    {
     "data": {
      "text/plain": [
       "[{'generated_text': 'In this course we will teach you how to use the Internet for self-care applications, how to install and run self-help packages on your PC'},\n",
       " {'generated_text': 'In this course we will teach you how to use the MCP2215 on your iPhone and the C920.\\n\\nYou are going to learn'}]"
      ]
     },
     "execution_count": 3,
     "metadata": {},
     "output_type": "execute_result"
    }
   ],
   "source": [
    "from transformers import pipeline\n",
    "\n",
    "generator = pipeline(\"text-generation\")\n",
    "generator('In this course we will teach you how to',\n",
    "          max_length=30,\n",
    "          num_return_sequences=2,\n",
    "         )"
   ]
  },
  {
   "cell_type": "markdown",
   "id": "mature-motel",
   "metadata": {},
   "source": [
    "### Generating text in context"
   ]
  },
  {
   "cell_type": "code",
   "execution_count": 14,
   "id": "modular-cooling",
   "metadata": {},
   "outputs": [
    {
     "data": {
      "text/plain": [
       "[{'sequence': 'This course teach you about mathematical models.',\n",
       "  'score': 0.1940864473581314,\n",
       "  'token': 30412,\n",
       "  'token_str': ' mathematical'},\n",
       " {'sequence': 'This course teach you about computational models.',\n",
       "  'score': 0.049340978264808655,\n",
       "  'token': 38163,\n",
       "  'token_str': ' computational'}]"
      ]
     },
     "execution_count": 14,
     "metadata": {},
     "output_type": "execute_result"
    }
   ],
   "source": [
    "from transformers import pipeline\n",
    "\n",
    "unmasker = pipeline('fill-mask')\n",
    "unmasker('This course teach you about <mask> models.', top_k=2)"
   ]
  },
  {
   "cell_type": "markdown",
   "id": "artistic-warning",
   "metadata": {},
   "source": [
    "### NER"
   ]
  },
  {
   "cell_type": "code",
   "execution_count": 5,
   "id": "municipal-biodiversity",
   "metadata": {},
   "outputs": [
    {
     "data": {
      "text/plain": [
       "[{'entity_group': 'PER',\n",
       "  'score': 0.9978796,\n",
       "  'word': 'Alice',\n",
       "  'start': 11,\n",
       "  'end': 16},\n",
       " {'entity_group': 'ORG',\n",
       "  'score': 0.99638355,\n",
       "  'word': 'HuggingFace',\n",
       "  'start': 31,\n",
       "  'end': 42},\n",
       " {'entity_group': 'LOC',\n",
       "  'score': 0.9905594,\n",
       "  'word': 'Brooklyn',\n",
       "  'start': 46,\n",
       "  'end': 54}]"
      ]
     },
     "execution_count": 5,
     "metadata": {},
     "output_type": "execute_result"
    }
   ],
   "source": [
    "from transformers import pipeline\n",
    "\n",
    "ner = pipeline('ner', grouped_entities=True)\n",
    "ner(\"My name is Alice and I work at HuggingFace in Brooklyn\")"
   ]
  },
  {
   "cell_type": "markdown",
   "id": "premier-deployment",
   "metadata": {},
   "source": [
    "### Answer to questions"
   ]
  },
  {
   "cell_type": "code",
   "execution_count": 8,
   "id": "attempted-mexican",
   "metadata": {},
   "outputs": [
    {
     "data": {
      "text/plain": [
       "{'score': 0.8432626128196716, 'start': 30, 'end': 41, 'answer': 'HuggingFace'}"
      ]
     },
     "execution_count": 8,
     "metadata": {},
     "output_type": "execute_result"
    }
   ],
   "source": [
    "from transformers import pipeline\n",
    "\n",
    "question_answer = pipeline(\"question-answering\")\n",
    "question_answer(\n",
    "    question=\"Where do I work?\",\n",
    "    context=\"My name is John and I work at HuggingFace in Brooklyn\"\n",
    ")"
   ]
  },
  {
   "cell_type": "markdown",
   "id": "auburn-place",
   "metadata": {},
   "source": [
    "### Summary of documents"
   ]
  },
  {
   "cell_type": "code",
   "execution_count": 3,
   "id": "twenty-dealer",
   "metadata": {},
   "outputs": [
    {
     "name": "stderr",
     "output_type": "stream",
     "text": [
      "/home/alvaro/anaconda3/envs/huggingface/lib/python3.8/site-packages/torch/_tensor.py:575: UserWarning: floor_divide is deprecated, and will be removed in a future version of pytorch. It currently rounds toward 0 (like the 'trunc' function NOT 'floor'). This results in incorrect rounding for negative values.\n",
      "To keep the current behavior, use torch.div(a, b, rounding_mode='trunc'), or for actual floor division, use torch.div(a, b, rounding_mode='floor'). (Triggered internally at  /opt/conda/conda-bld/pytorch_1623448216815/work/aten/src/ATen/native/BinaryOps.cpp:467.)\n",
      "  return torch.floor_divide(self, other)\n"
     ]
    },
    {
     "data": {
      "text/plain": [
       "[{'summary_text': ' America has changed dramatically during recent years . The number of engineering graduates in the U.S. has declined in traditional engineering disciplines such as mechanical, civil,    electrical, chemical, and aeronautical engineering . Rapidly developing economies such as China and India continue to encourage and advance the teaching of engineering .'}]"
      ]
     },
     "execution_count": 3,
     "metadata": {},
     "output_type": "execute_result"
    }
   ],
   "source": [
    "from transformers import pipeline\n",
    "\n",
    "summarizer = pipeline(\"summarization\")\n",
    "summarizer(\"\"\"\n",
    "    America has changed dramatically during recent years. Not only has the number of \n",
    "    graduates in traditional engineering disciplines such as mechanical, civil, \n",
    "    electrical, chemical, and aeronautical engineering declined, but in most of \n",
    "    the premier American universities engineering curricula now concentrate on \n",
    "    and encourage largely the study of engineering science. As a result, there \n",
    "    are declining offerings in engineering subjects dealing with infrastructure, \n",
    "    the environment, and related issues, and greater concentration on high \n",
    "    technology subjects, largely supporting increasingly complex scientific \n",
    "    developments. While the latter is important, it should not be at the expense \n",
    "    of more traditional engineering.\n",
    "\n",
    "    Rapidly developing economies such as China and India, as well as other \n",
    "    industrial countries in Europe and Asia, continue to encourage and advance \n",
    "    the teaching of engineering. Both China and India, respectively, graduate \n",
    "    six and eight times as many traditional engineers as does the United States. \n",
    "    Other industrial countries at minimum maintain their output, while America \n",
    "    suffers an increasingly serious decline in the number of engineering graduates \n",
    "    and a lack of well-educated engineers.\n",
    "\"\"\")"
   ]
  },
  {
   "cell_type": "markdown",
   "id": "statutory-beaver",
   "metadata": {},
   "source": [
    "### Translation"
   ]
  },
  {
   "cell_type": "code",
   "execution_count": 11,
   "id": "thick-norwegian",
   "metadata": {},
   "outputs": [
    {
     "data": {
      "text/plain": [
       "[{'translation_text': 'Los Estados Unidos han cambiado drásticamente en los últimos años. No sólo ha disminuido el número de graduados en disciplinas tradicionales de ingeniería, como la ingeniería mecánica, civil, eléctrica, química y aeronáutica, sino que en la mayoría de los programas de ingeniería de las principales universidades estadounidenses se concentra y fomenta en gran medida el estudio de las ciencias de la ingeniería. Como resultado, hay una disminución de la oferta en temas de ingeniería relacionados con la infraestructura, el medio ambiente y cuestiones conexas, y una mayor concentración en temas de alta tecnología, apoyando en gran medida desarrollos científicos cada vez más complejos. Si bien este último es importante, no debe ser a expensas de la ingeniería más tradicional. Las economías en rápido desarrollo, como China y la India, así como otros países industriales de Europa y Asia, siguen fomentando y promoviendo la enseñanza de la ingeniería. Tanto China como la India, respectivamente, se gradúan seis y ocho veces más ingenieros tradicionales que los Estados Unidos. Otros países industriales mantienen como mínimo su producción, mientras que los Estados Unidos sufren una disminución cada vez más grave del número de graduados en ingeniería y una falta de ingenieros bien educados.'}]"
      ]
     },
     "execution_count": 11,
     "metadata": {},
     "output_type": "execute_result"
    }
   ],
   "source": [
    "from transformers import pipeline\n",
    "\n",
    "translator = pipeline(\"translation\", model=\"Helsinki-NLP/opus-mt-en-es\")\n",
    "translator(\"\"\"\n",
    "    America has changed dramatically during recent years. Not only has the number of \n",
    "    graduates in traditional engineering disciplines such as mechanical, civil, \n",
    "    electrical, chemical, and aeronautical engineering declined, but in most of \n",
    "    the premier American universities engineering curricula now concentrate on \n",
    "    and encourage largely the study of engineering science. As a result, there \n",
    "    are declining offerings in engineering subjects dealing with infrastructure, \n",
    "    the environment, and related issues, and greater concentration on high \n",
    "    technology subjects, largely supporting increasingly complex scientific \n",
    "    developments. While the latter is important, it should not be at the expense \n",
    "    of more traditional engineering.\n",
    "\n",
    "    Rapidly developing economies such as China and India, as well as other \n",
    "    industrial countries in Europe and Asia, continue to encourage and advance \n",
    "    the teaching of engineering. Both China and India, respectively, graduate \n",
    "    six and eight times as many traditional engineers as does the United States. \n",
    "    Other industrial countries at minimum maintain their output, while America \n",
    "    suffers an increasingly serious decline in the number of engineering graduates \n",
    "    and a lack of well-educated engineers.\n",
    "\"\"\")"
   ]
  },
  {
   "cell_type": "code",
   "execution_count": 12,
   "id": "protecting-treatment",
   "metadata": {},
   "outputs": [
    {
     "data": {
      "text/plain": [
       "[{'translation_text': 'América ha cambiado dramáticamente durante los últimos años. El número de graduados de ingeniería en los EE.UU. ha disminuido en las disciplinas tradicionales de ingeniería, como la ingeniería mecánica, civil, eléctrica, química y aeronáutica. Economías en rápido desarrollo como China e India siguen alentando y promoviendo la enseñanza de la ingeniería.'}]"
      ]
     },
     "execution_count": 12,
     "metadata": {},
     "output_type": "execute_result"
    }
   ],
   "source": [
    "translator = pipeline(\"translation\", model=\"Helsinki-NLP/opus-mt-en-es\")\n",
    "translator(\"\"\"America has changed dramatically during recent years . \n",
    "           The number of engineering graduates in the U.S. \n",
    "           has declined in traditional engineering disciplines such as mechanical, civil,    \n",
    "           electrical, chemical, and aeronautical engineering . \n",
    "           Rapidly developing economies such as China and India continue to \n",
    "           encourage and advance the teaching of engineering .\n",
    "\"\"\")"
   ]
  },
  {
   "cell_type": "code",
   "execution_count": null,
   "id": "destroyed-religious",
   "metadata": {},
   "outputs": [],
   "source": []
  },
  {
   "cell_type": "markdown",
   "id": "analyzed-pennsylvania",
   "metadata": {},
   "source": [
    "### Zero-shot classification"
   ]
  },
  {
   "cell_type": "code",
   "execution_count": null,
   "id": "unlimited-secretariat",
   "metadata": {},
   "outputs": [],
   "source": [
    "Clasificación de textos que no han sido clasificados"
   ]
  },
  {
   "cell_type": "code",
   "execution_count": 17,
   "id": "rolled-english",
   "metadata": {},
   "outputs": [
    {
     "data": {
      "application/vnd.jupyter.widget-view+json": {
       "model_id": "13d8e4ca48674219a330e5eab2d95c0e",
       "version_major": 2,
       "version_minor": 0
      },
      "text/plain": [
       "Downloading:   0%|          | 0.00/1.15k [00:00<?, ?B/s]"
      ]
     },
     "metadata": {},
     "output_type": "display_data"
    },
    {
     "data": {
      "application/vnd.jupyter.widget-view+json": {
       "model_id": "af16e904320f414a83c38992f58d65de",
       "version_major": 2,
       "version_minor": 0
      },
      "text/plain": [
       "Downloading:   0%|          | 0.00/1.63G [00:00<?, ?B/s]"
      ]
     },
     "metadata": {},
     "output_type": "display_data"
    },
    {
     "data": {
      "application/vnd.jupyter.widget-view+json": {
       "model_id": "c58bdc2cb8774887a22bae90aa910074",
       "version_major": 2,
       "version_minor": 0
      },
      "text/plain": [
       "Downloading:   0%|          | 0.00/26.0 [00:00<?, ?B/s]"
      ]
     },
     "metadata": {},
     "output_type": "display_data"
    },
    {
     "data": {
      "application/vnd.jupyter.widget-view+json": {
       "model_id": "ef563fd86f484cb48d68c994d0bd9d7f",
       "version_major": 2,
       "version_minor": 0
      },
      "text/plain": [
       "Downloading:   0%|          | 0.00/899k [00:00<?, ?B/s]"
      ]
     },
     "metadata": {},
     "output_type": "display_data"
    },
    {
     "data": {
      "application/vnd.jupyter.widget-view+json": {
       "model_id": "e488b8f360254ce3934ece9214860d0b",
       "version_major": 2,
       "version_minor": 0
      },
      "text/plain": [
       "Downloading:   0%|          | 0.00/456k [00:00<?, ?B/s]"
      ]
     },
     "metadata": {},
     "output_type": "display_data"
    },
    {
     "data": {
      "application/vnd.jupyter.widget-view+json": {
       "model_id": "a5429cc2a13647ce8e027e3f8f442358",
       "version_major": 2,
       "version_minor": 0
      },
      "text/plain": [
       "Downloading:   0%|          | 0.00/1.36M [00:00<?, ?B/s]"
      ]
     },
     "metadata": {},
     "output_type": "display_data"
    },
    {
     "data": {
      "text/plain": [
       "{'sequence': 'This is a course about the Transformer library',\n",
       " 'labels': ['education', 'bussines', 'politics'],\n",
       " 'scores': [0.9465058445930481, 0.04198963940143585, 0.011504470370709896]}"
      ]
     },
     "execution_count": 17,
     "metadata": {},
     "output_type": "execute_result"
    }
   ],
   "source": [
    "from transformers import pipeline\n",
    "\n",
    "classifier = pipeline('zero-shot-classification')\n",
    "classifier(\n",
    "          \"This is a course about the Transformer library\",\n",
    "          candidate_labels=['education', 'politics', 'bussines']\n",
    ")"
   ]
  },
  {
   "cell_type": "markdown",
   "id": "opening-budapest",
   "metadata": {},
   "source": [
    "### Using any hub model in a pipeline"
   ]
  },
  {
   "cell_type": "markdown",
   "id": "middle-arbitration",
   "metadata": {},
   "source": [
    "For each specific task a particular model can be specified. In this example we are going to select the `distilgpt2` model to generate text."
   ]
  },
  {
   "cell_type": "code",
   "execution_count": 18,
   "id": "recent-remainder",
   "metadata": {},
   "outputs": [
    {
     "data": {
      "application/vnd.jupyter.widget-view+json": {
       "model_id": "041d2034ce134abeb319793129aa33f5",
       "version_major": 2,
       "version_minor": 0
      },
      "text/plain": [
       "Downloading:   0%|          | 0.00/762 [00:00<?, ?B/s]"
      ]
     },
     "metadata": {},
     "output_type": "display_data"
    },
    {
     "data": {
      "application/vnd.jupyter.widget-view+json": {
       "model_id": "c332f9c93a6c42e1959b3bd1b73e2877",
       "version_major": 2,
       "version_minor": 0
      },
      "text/plain": [
       "Downloading:   0%|          | 0.00/353M [00:00<?, ?B/s]"
      ]
     },
     "metadata": {},
     "output_type": "display_data"
    },
    {
     "data": {
      "application/vnd.jupyter.widget-view+json": {
       "model_id": "bcda52e2cf7d4ccf8fb8ccd181f5b01a",
       "version_major": 2,
       "version_minor": 0
      },
      "text/plain": [
       "Downloading:   0%|          | 0.00/1.04M [00:00<?, ?B/s]"
      ]
     },
     "metadata": {},
     "output_type": "display_data"
    },
    {
     "data": {
      "application/vnd.jupyter.widget-view+json": {
       "model_id": "c79c5daeba3f4dee904cb4032680ea7d",
       "version_major": 2,
       "version_minor": 0
      },
      "text/plain": [
       "Downloading:   0%|          | 0.00/456k [00:00<?, ?B/s]"
      ]
     },
     "metadata": {},
     "output_type": "display_data"
    },
    {
     "data": {
      "application/vnd.jupyter.widget-view+json": {
       "model_id": "d481f17d3cc14798b299d3252acd1e02",
       "version_major": 2,
       "version_minor": 0
      },
      "text/plain": [
       "Downloading:   0%|          | 0.00/1.36M [00:00<?, ?B/s]"
      ]
     },
     "metadata": {},
     "output_type": "display_data"
    },
    {
     "name": "stderr",
     "output_type": "stream",
     "text": [
      "Setting `pad_token_id` to `eos_token_id`:50256 for open-end generation.\n"
     ]
    },
    {
     "data": {
      "text/plain": [
       "[{'generated_text': 'In this course, we will teach you how to successfully read and write online and how to write real time content for educational purposes.'},\n",
       " {'generated_text': 'In this course, we will teach you how to build and use the open source compiler to build a fully functional, flexible, highly open and easy to'}]"
      ]
     },
     "execution_count": 18,
     "metadata": {},
     "output_type": "execute_result"
    }
   ],
   "source": [
    "from transformers import pipeline\n",
    "\n",
    "generator = pipeline('text-generation', model='distilgpt2')\n",
    "generator(\n",
    "    'In this course, we will teach you how to',\n",
    "    max_length=30,\n",
    "num_return_sequences=2,\n",
    ")"
   ]
  },
  {
   "cell_type": "markdown",
   "id": "premium-catholic",
   "metadata": {},
   "source": [
    "### Spanish model"
   ]
  },
  {
   "cell_type": "code",
   "execution_count": 23,
   "id": "detailed-tobacco",
   "metadata": {},
   "outputs": [
    {
     "name": "stderr",
     "output_type": "stream",
     "text": [
      "Setting `pad_token_id` to `eos_token_id`:50256 for open-end generation.\n"
     ]
    },
    {
     "data": {
      "text/plain": [
       "[{'generated_text': 'Su casa es un asco.- ¡Y que lo digas!¡Con las sábanas de la abuela en la lavadora!Y ahora tengo que limpiarla'},\n",
       " {'generated_text': 'Su casa es un asco.Y además, se ve así.Con un sombrero de copa y todos esos libros...Y en la cocina me llaman de'}]"
      ]
     },
     "execution_count": 23,
     "metadata": {},
     "output_type": "execute_result"
    }
   ],
   "source": [
    "from transformers import pipeline\n",
    "\n",
    "generator = pipeline('text-generation', model='mrm8488/spanish-gpt2')\n",
    "generator(\n",
    "    'Su casa es un asco',\n",
    "    max_length=30,\n",
    "num_return_sequences=2,\n",
    ")"
   ]
  },
  {
   "cell_type": "markdown",
   "id": "equal-expense",
   "metadata": {},
   "source": [
    "### Translators Spanish-English, English-Spanish"
   ]
  },
  {
   "cell_type": "code",
   "execution_count": 2,
   "id": "maritime-producer",
   "metadata": {},
   "outputs": [
    {
     "data": {
      "application/vnd.jupyter.widget-view+json": {
       "model_id": "6a3556d742774fd28c3217460e88425c",
       "version_major": 2,
       "version_minor": 0
      },
      "text/plain": [
       "Downloading:   0%|          | 0.00/826k [00:00<?, ?B/s]"
      ]
     },
     "metadata": {},
     "output_type": "display_data"
    },
    {
     "data": {
      "application/vnd.jupyter.widget-view+json": {
       "model_id": "60106380840d4e5da6287dfadcd05b58",
       "version_major": 2,
       "version_minor": 0
      },
      "text/plain": [
       "Downloading:   0%|          | 0.00/802k [00:00<?, ?B/s]"
      ]
     },
     "metadata": {},
     "output_type": "display_data"
    },
    {
     "data": {
      "application/vnd.jupyter.widget-view+json": {
       "model_id": "030a91c6f6c04459850c6552b19a302d",
       "version_major": 2,
       "version_minor": 0
      },
      "text/plain": [
       "Downloading:   0%|          | 0.00/1.59M [00:00<?, ?B/s]"
      ]
     },
     "metadata": {},
     "output_type": "display_data"
    },
    {
     "data": {
      "text/plain": [
       "[{'translation_text': 'I hate this very much.'}]"
      ]
     },
     "execution_count": 2,
     "metadata": {},
     "output_type": "execute_result"
    }
   ],
   "source": [
    "from transformers import pipeline\n",
    "\n",
    "translator_sp_en = pipeline(\"translation\", model=\"Helsinki-NLP/opus-mt-es-en\")\n",
    "translator_sp_en(\"Odio mucho esto\")"
   ]
  },
  {
   "cell_type": "code",
   "execution_count": 4,
   "id": "dress-season",
   "metadata": {},
   "outputs": [
    {
     "data": {
      "text/plain": [
       "[{'translation_text': 'Odio mucho esto.'}]"
      ]
     },
     "execution_count": 4,
     "metadata": {},
     "output_type": "execute_result"
    }
   ],
   "source": [
    "from transformers import pipeline\n",
    "\n",
    "translator = pipeline(\"translation\", model=\"Helsinki-NLP/opus-mt-en-es\")\n",
    "translator(\"I hate this very much\")"
   ]
  },
  {
   "cell_type": "markdown",
   "id": "automotive-measurement",
   "metadata": {},
   "source": [
    "### Combining models\n"
   ]
  },
  {
   "cell_type": "code",
   "execution_count": 19,
   "id": "exclusive-configuration",
   "metadata": {},
   "outputs": [],
   "source": [
    "from transformers import pipeline\n",
    "\n",
    "classifier = pipeline(\"sentiment-analysis\")\n",
    "\n",
    "translator_es_en = pipeline(\"translation\", model=\"Helsinki-NLP/opus-mt-es-en\")\n",
    "translator_en_es = pipeline(\"translation\", model=\"Helsinki-NLP/opus-mt-en-es\")\n",
    "\n"
   ]
  },
  {
   "cell_type": "code",
   "execution_count": 20,
   "id": "fabulous-banking",
   "metadata": {},
   "outputs": [
    {
     "data": {
      "text/plain": [
       "[{'label': 'NEGATIVE', 'score': 0.9995800852775574}]"
      ]
     },
     "execution_count": 20,
     "metadata": {},
     "output_type": "execute_result"
    }
   ],
   "source": [
    "frase_espanol = 'odio mucho esto'\n",
    "frase_ingles = translator_es_en(frase_espanol)[0]['translation_text']\n",
    "\n",
    "classifier(frase_ingles)"
   ]
  },
  {
   "cell_type": "code",
   "execution_count": 21,
   "id": "palestinian-seafood",
   "metadata": {},
   "outputs": [
    {
     "data": {
      "text/plain": [
       "[{'label': 'POSITIVE', 'score': 0.9998371601104736}]"
      ]
     },
     "execution_count": 21,
     "metadata": {},
     "output_type": "execute_result"
    }
   ],
   "source": [
    "frase_espanol = 'eso está muy bien'\n",
    "frase_ingles = translator_es_en(frase_espanol)[0]['translation_text']\n",
    "\n",
    "classifier(frase_ingles)"
   ]
  }
 ],
 "metadata": {
  "kernelspec": {
   "display_name": "Python 3 (ipykernel)",
   "language": "python",
   "name": "python3"
  },
  "language_info": {
   "codemirror_mode": {
    "name": "ipython",
    "version": 3
   },
   "file_extension": ".py",
   "mimetype": "text/x-python",
   "name": "python",
   "nbconvert_exporter": "python",
   "pygments_lexer": "ipython3",
   "version": "3.8.12"
  }
 },
 "nbformat": 4,
 "nbformat_minor": 5
}
