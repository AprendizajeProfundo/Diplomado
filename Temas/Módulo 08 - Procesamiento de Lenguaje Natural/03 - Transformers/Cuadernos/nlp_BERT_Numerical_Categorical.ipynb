{
 "cells": [
  {
   "cell_type": "markdown",
   "id": "70738fba-69a1-4e3b-aa2c-f9f62760ccde",
   "metadata": {
    "id": "70738fba-69a1-4e3b-aa2c-f9f62760ccde",
    "tags": []
   },
   "source": [
    "<figure>\n",
    "<img src=\"../Imagenes/logo-final-ap.png\"  width=\"80\" height=\"80\" align=\"left\"/> \n",
    "</figure>\n",
    "\n",
    "# <span style=\"color:blue\"><left>Aprendizaje Profundo</left></span>"
   ]
  },
  {
   "cell_type": "markdown",
   "id": "656e3062-bcbc-46a7-8910-6f3b906cf342",
   "metadata": {
    "id": "5afb0b25-2efb-4c7c-8dc8-e79a5c0dfd20"
   },
   "source": [
    "# <span style=\"color:red\"><center>Ajuste Fino con el modelo BERT.  "
   ]
  },
  {
   "cell_type": "markdown",
   "id": "126361c8-39ef-4067-bfa7-975b858bb61f",
   "metadata": {
    "id": "5afb0b25-2efb-4c7c-8dc8-e79a5c0dfd20"
   },
   "source": [
    "##   <span style=\"color:blue\">Combinando características categóricas y continuas con textos</span>"
   ]
  },
  {
   "cell_type": "markdown",
   "id": "1ec0b9e9-a7b5-4ee1-8690-8cdba1915b31",
   "metadata": {
    "id": "1ec0b9e9-a7b5-4ee1-8690-8cdba1915b31",
    "tags": []
   },
   "source": [
    "\n",
    "<figure>\n",
    "<center>\n",
    "<img src=\"../Imagenes/dress_store.jpeg\" width=\"400\" height=\"400\" align=\"center\"/>\n",
    "</center>\n",
    "<figcaption>\n",
    "<p style=\"text-align:center\"></p>\n",
    "</figcaption>\n",
    "</figure>\n",
    "\n",
    "Fuente: Alvaro Montenegro. Creada con [Stable Diffusion en Huggingface](https://huggingface.co/spaces/stabilityai/stable-diffusion)"
   ]
  },
  {
   "cell_type": "markdown",
   "id": "078227fa-9552-40e0-b190-d60c51fcd9fa",
   "metadata": {
    "id": "078227fa-9552-40e0-b190-d60c51fcd9fa",
    "tags": []
   },
   "source": [
    "##   <span style=\"color:blue\">Autores</span>"
   ]
  },
  {
   "cell_type": "markdown",
   "id": "270fb093-4981-47fa-b6b2-3ef13f3af169",
   "metadata": {
    "id": "270fb093-4981-47fa-b6b2-3ef13f3af169"
   },
   "source": [
    "- Alvaro  Montenegro, PhD, ammontenegrod@unal.edu.co\n",
    "- Daniel  Montenegro, Msc, dextronomo@gmail.com "
   ]
  },
  {
   "cell_type": "markdown",
   "id": "80f0c8ee-ed3d-437b-94d9-f7eb19705cc0",
   "metadata": {
    "id": "80f0c8ee-ed3d-437b-94d9-f7eb19705cc0"
   },
   "source": [
    "## <span style=\"color:blue\">Asesora Medios y Marketing digital</span>"
   ]
  },
  {
   "cell_type": "markdown",
   "id": "b1e048e8-1917-47ee-94c7-3a7caa684248",
   "metadata": {
    "id": "b1e048e8-1917-47ee-94c7-3a7caa684248"
   },
   "source": [
    "- Maria del Pilar Montenegro, pmontenegro88@gmail.com \n",
    "\n"
   ]
  },
  {
   "cell_type": "markdown",
   "id": "e7f2e2e0-ffe8-4804-a4c9-bd091393178b",
   "metadata": {
    "id": "e7f2e2e0-ffe8-4804-a4c9-bd091393178b"
   },
   "source": [
    "- Nayibe Yesenia Arias, naariasc@unal.edu.co\n",
    "- Venus Celeste Puertas, vpuertasg@unal.edu.co "
   ]
  },
  {
   "cell_type": "markdown",
   "id": "d84f8fe5-a030-4f6a-a646-43720d71d07e",
   "metadata": {
    "id": "d84f8fe5-a030-4f6a-a646-43720d71d07e",
    "tags": []
   },
   "source": [
    "## <span style=\"color:blue\">Referencias</span>"
   ]
  },
  {
   "cell_type": "markdown",
   "id": "b2170d85-0a48-40b0-b392-11da2231bc5c",
   "metadata": {
    "id": "b2170d85-0a48-40b0-b392-11da2231bc5c"
   },
   "source": [
    "1. [A. Montenegro, D. Montenegro, C. Pardo, O. Jarma: Diplomado Avanzado en Inteligencia Arifical y Aprendizaje Profundo, 2022](https://github.com/AprendizajeProfundo/Diplomado-Avanzado)\n",
    "1. [A. Montenegro y D.  Montenegro, Minicurso PLN, 2022](https://github.com/AprendizajeProfundo/PLN)\n",
    "1. [James Briggs, How to Train BERT, Towards Data Science](https://towardsdatascience.com/how-to-train-bert-aaad00533168)\n",
    "1. [Tutoriales de HuggingFace, Fine-tune a pretrained model](https://huggingface.co/docs/transformers/training), \n",
    "1. [Combining Categorical and Numerical Features with Text in BERT](https://mccormickml.com/2021/06/29/combining-categorical-numerical-features-with-bert/)\n",
    "1. [A. Vaswani et al.,   Attention Is All You Need, 2012](https://arxiv.org/pdf/1706.03762.pdf).\n",
    "1. [D.Rothman, Transformers for Natural Language processing, 2021](http://libgen.rs/search.php?req=Transformers+for+Natural+Language+processing&open=0&res=25&view=simple&phrase=1&column=def).\n",
    "1.[ Varios,  Dive into deep learning, 2021](https://d2l.ai/)"
   ]
  },
  {
   "cell_type": "markdown",
   "id": "a8844c02-b7d1-4411-8527-2ce9540931ba",
   "metadata": {
    "id": "a8844c02-b7d1-4411-8527-2ce9540931ba",
    "tags": []
   },
   "source": [
    "## <span style=\"color:blue\">Contenido</span>"
   ]
  },
  {
   "cell_type": "markdown",
   "id": "0d039813-8987-4e8e-9df5-1cf8344aeb6f",
   "metadata": {
    "id": "0d039813-8987-4e8e-9df5-1cf8344aeb6f",
    "origin_pos": 0
   },
   "source": [
    "* [Introducción](#Introducción)\n",
    "* [Obtener Datos](#Obtener-Datos)\n",
    "* [AED (Análisis Exploratorio de Datos)](#AED-(Análisis-Exploratorio-de-Datos))\n",
    "* [Preparar Datos](#Preparar-Datos)\n",
    "* [Estrategias de Línea Base](#Estrategias-de-Línea-Base)\n",
    "    * [XG-Boost](#XG-Boost)\n",
    "    * [BERT](#BERT)\n",
    "* [BERT con todos los Features](#BERT-con-todos-los-Features)\n",
    "* [Configurando Pytorch](#Configurando-Pytorch)\n",
    "* [Tokenizar y hacer los Encodings](#Tokenizar-y-hacer-los-Encodings)\n",
    "* [Crear Datasets y DataLoaders](#Crear-Datasets-y-DataLoaders)\n",
    "* [Training](#Training)\n",
    "* [Resultados](#Resultados)\n",
    "* [Test](#Test)\n",
    "* [Conclusión](#Conclusión)"
   ]
  },
  {
   "cell_type": "markdown",
   "id": "f4bc0f90-765d-4264-9999-5acfa1c665a6",
   "metadata": {
    "id": "f4bc0f90-765d-4264-9999-5acfa1c665a6",
    "tags": []
   },
   "source": [
    "## <span style=\"color:blue\">Introducción</span>"
   ]
  },
  {
   "cell_type": "markdown",
   "id": "f0783bbd-294e-450f-a818-9c7f1a6bb01f",
   "metadata": {
    "id": "f0783bbd-294e-450f-a818-9c7f1a6bb01f"
   },
   "source": [
    "En esta lección, veremos el tema de la clasificación de texto con BERT, pero donde también tenemos características numéricas o categóricas adicionales que queremos usar para mejorar nuestras predicciones."
   ]
  },
  {
   "cell_type": "markdown",
   "id": "1f7ba0d2-bf54-46e9-8bbb-57b7fc4330a4",
   "metadata": {
    "id": "1f7ba0d2-bf54-46e9-8bbb-57b7fc4330a4"
   },
   "source": [
    "Para ayudar a motivar nuestra discusión, trabajaremos con un conjunto de datos de aproximadamente 23k reseñas de ropa. Para cada revisión, tenemos el texto de la revisión, pero también información adicional como:\n",
    "\n",
    "- La edad del revisor (característica numérica)\n",
    "- El número de votos a favor en la revisión (característica numérica)\n",
    "- El departamento y la categoría de la prenda (características categóricas)\n",
    "\n",
    "Para cada reseña, también tenemos una etiqueta binaria, que indica si el revisor finalmente recomienda o no el artículo. Esto es lo que estamos tratando de predecir."
   ]
  },
  {
   "cell_type": "markdown",
   "id": "f7d922d0-aa4f-448e-9240-a9cbbf8094c0",
   "metadata": {
    "id": "f7d922d0-aa4f-448e-9240-a9cbbf8094c0"
   },
   "source": [
    "El conjunto de datos a usar es el [Women's E-Commerce Clothing Reviews](https://www.kaggle.com/datasets/nicapotato/womens-ecommerce-clothing-reviews), disponible en Kaggle. \n",
    "\n",
    "Sus nueve características de apoyo ofrecen un excelente entorno para analizar el texto a través de sus múltiples dimensiones.\n",
    "\n",
    "Debido a que se trata de datos comerciales reales, se anonimizaron y las referencias a la empresa en el texto y el cuerpo de la reseña se reemplazaron por \"minorista\"."
   ]
  },
  {
   "cell_type": "markdown",
   "id": "047a256e-c6a0-40a6-8dda-12b4247fc27d",
   "metadata": {
    "id": "047a256e-c6a0-40a6-8dda-12b4247fc27d"
   },
   "source": [
    "En [Multimodal-Toolkit](https://github.com/georgian-io/Multimodal-Toolkit), se muestra que esta estrategia simple de features a texto funciona mejor para este conjunto de datos."
   ]
  },
  {
   "cell_type": "markdown",
   "id": "0b4dfef6-d2b8-433f-a7c7-1a20bd4e2c2a",
   "metadata": {
    "id": "0b4dfef6-d2b8-433f-a7c7-1a20bd4e2c2a"
   },
   "source": [
    "[[Volver]](#Contenido)"
   ]
  },
  {
   "cell_type": "markdown",
   "id": "32f28e23-894f-42c5-922e-b7215f46c4af",
   "metadata": {
    "id": "32f28e23-894f-42c5-922e-b7215f46c4af",
    "tags": []
   },
   "source": [
    "## <span style=\"color:blue\">Obtener Datos</span>"
   ]
  },
  {
   "cell_type": "code",
   "execution_count": 1,
   "id": "8ea9e8b2-371b-4053-aaef-c1b2a228ea32",
   "metadata": {
    "id": "8ea9e8b2-371b-4053-aaef-c1b2a228ea32"
   },
   "outputs": [],
   "source": [
    "import gdown"
   ]
  },
  {
   "cell_type": "code",
   "execution_count": 2,
   "id": "04bba1ea-9a99-473a-a4cc-10625eafc3ad",
   "metadata": {
    "colab": {
     "base_uri": "https://localhost:8080/"
    },
    "id": "04bba1ea-9a99-473a-a4cc-10625eafc3ad",
    "outputId": "c47f26b7-36fc-4e95-8d03-6dae0e08f89d"
   },
   "outputs": [
    {
     "name": "stdout",
     "output_type": "stream",
     "text": [
      "Descargando dataset...\n",
      "\n"
     ]
    },
    {
     "name": "stderr",
     "output_type": "stream",
     "text": [
      "Downloading...\n",
      "From: https://drive.google.com/uc?id=1ZYdt0zN4LjWqP3cQDblNhXjeohcryY5H\n",
      "To: /content/Womens Clothing E-Commerce Reviews.csv\n",
      "100%|██████████| 8.48M/8.48M [00:00<00:00, 42.4MB/s]"
     ]
    },
    {
     "name": "stdout",
     "output_type": "stream",
     "text": [
      "\n",
      "\n",
      "Hecho.\n"
     ]
    },
    {
     "name": "stderr",
     "output_type": "stream",
     "text": [
      "\n"
     ]
    }
   ],
   "source": [
    "print('Descargando dataset...\\n')\n",
    "     \n",
    "# Download the file.\n",
    "gdown.download('https://drive.google.com/uc?id=1ZYdt0zN4LjWqP3cQDblNhXjeohcryY5H', \n",
    "                'Womens Clothing E-Commerce Reviews.csv', \n",
    "                quiet=False)\n",
    "    \n",
    "print('\\n\\nHecho.')"
   ]
  },
  {
   "cell_type": "markdown",
   "id": "7d6d36f7-d133-49d7-a3b8-d4a83a268616",
   "metadata": {
    "id": "7d6d36f7-d133-49d7-a3b8-d4a83a268616"
   },
   "source": [
    "Hagamos una pequeña exploración de los datos"
   ]
  },
  {
   "cell_type": "markdown",
   "id": "8be6e8ec-3a0d-4f06-bdd3-8cb664e84bc5",
   "metadata": {
    "id": "8be6e8ec-3a0d-4f06-bdd3-8cb664e84bc5"
   },
   "source": [
    "[[Volver]](#Contenido)"
   ]
  },
  {
   "cell_type": "markdown",
   "id": "dc9bad09-eb01-4b05-97c0-c759ce9ad341",
   "metadata": {
    "id": "dc9bad09-eb01-4b05-97c0-c759ce9ad341",
    "tags": []
   },
   "source": [
    "## <span style=\"color:blue\">AED (Análisis Exploratorio de Datos)</span>"
   ]
  },
  {
   "cell_type": "code",
   "execution_count": 3,
   "id": "6407dccd-13a4-4783-b311-0e369397b711",
   "metadata": {
    "colab": {
     "base_uri": "https://localhost:8080/",
     "height": 354
    },
    "id": "6407dccd-13a4-4783-b311-0e369397b711",
    "outputId": "46ec8fea-30ac-47eb-de5f-973f93a2893e"
   },
   "outputs": [
    {
     "data": {
      "text/html": [
       "\n",
       "  <div id=\"df-c5c6b1a7-1a96-4db5-92ab-531940c95d3f\">\n",
       "    <div class=\"colab-df-container\">\n",
       "      <div>\n",
       "<style scoped>\n",
       "    .dataframe tbody tr th:only-of-type {\n",
       "        vertical-align: middle;\n",
       "    }\n",
       "\n",
       "    .dataframe tbody tr th {\n",
       "        vertical-align: top;\n",
       "    }\n",
       "\n",
       "    .dataframe thead th {\n",
       "        text-align: right;\n",
       "    }\n",
       "</style>\n",
       "<table border=\"1\" class=\"dataframe\">\n",
       "  <thead>\n",
       "    <tr style=\"text-align: right;\">\n",
       "      <th></th>\n",
       "      <th>Clothing ID</th>\n",
       "      <th>Age</th>\n",
       "      <th>Title</th>\n",
       "      <th>Review Text</th>\n",
       "      <th>Rating</th>\n",
       "      <th>Recommended IND</th>\n",
       "      <th>Positive Feedback Count</th>\n",
       "      <th>Division Name</th>\n",
       "      <th>Department Name</th>\n",
       "      <th>Class Name</th>\n",
       "    </tr>\n",
       "  </thead>\n",
       "  <tbody>\n",
       "    <tr>\n",
       "      <th>22074</th>\n",
       "      <td>850</td>\n",
       "      <td>47</td>\n",
       "      <td>Beautiful top but very small</td>\n",
       "      <td>When i saw this top.... i had to have it.....r...</td>\n",
       "      <td>4</td>\n",
       "      <td>1</td>\n",
       "      <td>0</td>\n",
       "      <td>General</td>\n",
       "      <td>Tops</td>\n",
       "      <td>Blouses</td>\n",
       "    </tr>\n",
       "    <tr>\n",
       "      <th>8025</th>\n",
       "      <td>877</td>\n",
       "      <td>30</td>\n",
       "      <td>Great!</td>\n",
       "      <td>Good quality and design. perfect for casual of...</td>\n",
       "      <td>5</td>\n",
       "      <td>1</td>\n",
       "      <td>4</td>\n",
       "      <td>General Petite</td>\n",
       "      <td>Tops</td>\n",
       "      <td>Knits</td>\n",
       "    </tr>\n",
       "    <tr>\n",
       "      <th>17795</th>\n",
       "      <td>862</td>\n",
       "      <td>35</td>\n",
       "      <td>Great top</td>\n",
       "      <td>Love this top, the flutter sleeves are really ...</td>\n",
       "      <td>5</td>\n",
       "      <td>1</td>\n",
       "      <td>28</td>\n",
       "      <td>General Petite</td>\n",
       "      <td>Tops</td>\n",
       "      <td>Knits</td>\n",
       "    </tr>\n",
       "    <tr>\n",
       "      <th>23043</th>\n",
       "      <td>60</td>\n",
       "      <td>25</td>\n",
       "      <td>Love the pattern</td>\n",
       "      <td>I bought this as a present and am very happy w...</td>\n",
       "      <td>4</td>\n",
       "      <td>1</td>\n",
       "      <td>0</td>\n",
       "      <td>Initmates</td>\n",
       "      <td>Intimate</td>\n",
       "      <td>Lounge</td>\n",
       "    </tr>\n",
       "    <tr>\n",
       "      <th>18865</th>\n",
       "      <td>830</td>\n",
       "      <td>51</td>\n",
       "      <td>Sweet briar tank</td>\n",
       "      <td>The color is great. the fit is accurate and it...</td>\n",
       "      <td>5</td>\n",
       "      <td>1</td>\n",
       "      <td>0</td>\n",
       "      <td>General</td>\n",
       "      <td>Tops</td>\n",
       "      <td>Blouses</td>\n",
       "    </tr>\n",
       "  </tbody>\n",
       "</table>\n",
       "</div>\n",
       "      <button class=\"colab-df-convert\" onclick=\"convertToInteractive('df-c5c6b1a7-1a96-4db5-92ab-531940c95d3f')\"\n",
       "              title=\"Convert this dataframe to an interactive table.\"\n",
       "              style=\"display:none;\">\n",
       "        \n",
       "  <svg xmlns=\"http://www.w3.org/2000/svg\" height=\"24px\"viewBox=\"0 0 24 24\"\n",
       "       width=\"24px\">\n",
       "    <path d=\"M0 0h24v24H0V0z\" fill=\"none\"/>\n",
       "    <path d=\"M18.56 5.44l.94 2.06.94-2.06 2.06-.94-2.06-.94-.94-2.06-.94 2.06-2.06.94zm-11 1L8.5 8.5l.94-2.06 2.06-.94-2.06-.94L8.5 2.5l-.94 2.06-2.06.94zm10 10l.94 2.06.94-2.06 2.06-.94-2.06-.94-.94-2.06-.94 2.06-2.06.94z\"/><path d=\"M17.41 7.96l-1.37-1.37c-.4-.4-.92-.59-1.43-.59-.52 0-1.04.2-1.43.59L10.3 9.45l-7.72 7.72c-.78.78-.78 2.05 0 2.83L4 21.41c.39.39.9.59 1.41.59.51 0 1.02-.2 1.41-.59l7.78-7.78 2.81-2.81c.8-.78.8-2.07 0-2.86zM5.41 20L4 18.59l7.72-7.72 1.47 1.35L5.41 20z\"/>\n",
       "  </svg>\n",
       "      </button>\n",
       "      \n",
       "  <style>\n",
       "    .colab-df-container {\n",
       "      display:flex;\n",
       "      flex-wrap:wrap;\n",
       "      gap: 12px;\n",
       "    }\n",
       "\n",
       "    .colab-df-convert {\n",
       "      background-color: #E8F0FE;\n",
       "      border: none;\n",
       "      border-radius: 50%;\n",
       "      cursor: pointer;\n",
       "      display: none;\n",
       "      fill: #1967D2;\n",
       "      height: 32px;\n",
       "      padding: 0 0 0 0;\n",
       "      width: 32px;\n",
       "    }\n",
       "\n",
       "    .colab-df-convert:hover {\n",
       "      background-color: #E2EBFA;\n",
       "      box-shadow: 0px 1px 2px rgba(60, 64, 67, 0.3), 0px 1px 3px 1px rgba(60, 64, 67, 0.15);\n",
       "      fill: #174EA6;\n",
       "    }\n",
       "\n",
       "    [theme=dark] .colab-df-convert {\n",
       "      background-color: #3B4455;\n",
       "      fill: #D2E3FC;\n",
       "    }\n",
       "\n",
       "    [theme=dark] .colab-df-convert:hover {\n",
       "      background-color: #434B5C;\n",
       "      box-shadow: 0px 1px 3px 1px rgba(0, 0, 0, 0.15);\n",
       "      filter: drop-shadow(0px 1px 2px rgba(0, 0, 0, 0.3));\n",
       "      fill: #FFFFFF;\n",
       "    }\n",
       "  </style>\n",
       "\n",
       "      <script>\n",
       "        const buttonEl =\n",
       "          document.querySelector('#df-c5c6b1a7-1a96-4db5-92ab-531940c95d3f button.colab-df-convert');\n",
       "        buttonEl.style.display =\n",
       "          google.colab.kernel.accessAllowed ? 'block' : 'none';\n",
       "\n",
       "        async function convertToInteractive(key) {\n",
       "          const element = document.querySelector('#df-c5c6b1a7-1a96-4db5-92ab-531940c95d3f');\n",
       "          const dataTable =\n",
       "            await google.colab.kernel.invokeFunction('convertToInteractive',\n",
       "                                                     [key], {});\n",
       "          if (!dataTable) return;\n",
       "\n",
       "          const docLinkHtml = 'Like what you see? Visit the ' +\n",
       "            '<a target=\"_blank\" href=https://colab.research.google.com/notebooks/data_table.ipynb>data table notebook</a>'\n",
       "            + ' to learn more about interactive tables.';\n",
       "          element.innerHTML = '';\n",
       "          dataTable['output_type'] = 'display_data';\n",
       "          await google.colab.output.renderOutput(dataTable, element);\n",
       "          const docLink = document.createElement('div');\n",
       "          docLink.innerHTML = docLinkHtml;\n",
       "          element.appendChild(docLink);\n",
       "        }\n",
       "      </script>\n",
       "    </div>\n",
       "  </div>\n",
       "  "
      ],
      "text/plain": [
       "       Clothing ID  Age                         Title  \\\n",
       "22074          850   47  Beautiful top but very small   \n",
       "8025           877   30                        Great!   \n",
       "17795          862   35                     Great top   \n",
       "23043           60   25              Love the pattern   \n",
       "18865          830   51              Sweet briar tank   \n",
       "\n",
       "                                             Review Text  Rating  \\\n",
       "22074  When i saw this top.... i had to have it.....r...       4   \n",
       "8025   Good quality and design. perfect for casual of...       5   \n",
       "17795  Love this top, the flutter sleeves are really ...       5   \n",
       "23043  I bought this as a present and am very happy w...       4   \n",
       "18865  The color is great. the fit is accurate and it...       5   \n",
       "\n",
       "       Recommended IND  Positive Feedback Count   Division Name  \\\n",
       "22074                1                        0         General   \n",
       "8025                 1                        4  General Petite   \n",
       "17795                1                       28  General Petite   \n",
       "23043                1                        0       Initmates   \n",
       "18865                1                        0         General   \n",
       "\n",
       "      Department Name Class Name  \n",
       "22074            Tops    Blouses  \n",
       "8025             Tops      Knits  \n",
       "17795            Tops      Knits  \n",
       "23043        Intimate     Lounge  \n",
       "18865            Tops    Blouses  "
      ]
     },
     "execution_count": 3,
     "metadata": {},
     "output_type": "execute_result"
    }
   ],
   "source": [
    "import pandas as pd\n",
    "\n",
    "data_df = pd.read_csv('Womens Clothing E-Commerce Reviews.csv', index_col=0)\n",
    "\n",
    "data_df.sample(5)"
   ]
  },
  {
   "cell_type": "markdown",
   "id": "5b7dc69c-24f1-4012-a479-8618c2568e97",
   "metadata": {
    "id": "5b7dc69c-24f1-4012-a479-8618c2568e97"
   },
   "source": [
    "**Features:**\n",
    "\n",
    "*Recommended IND* es la etiqueta que intentamos predecir para este conjunto de datos. “1” significa que el revisor recomendó el producto y “0” significa que no.\n",
    "\n",
    "Los siquientes features son categóricos:\n",
    "\n",
    "- Division Name\n",
    "- Department Name\n",
    "- Class Name\n",
    "- Clothing ID\n",
    "\n",
    "Y los siguientes features son numéricos:\n",
    "\n",
    "- Age\n",
    "- Rating\n",
    "- Positive Feedback Count"
   ]
  },
  {
   "cell_type": "markdown",
   "id": "5126f2a1-cef5-4c1d-8f97-04982dfd9eff",
   "metadata": {
    "id": "5126f2a1-cef5-4c1d-8f97-04982dfd9eff"
   },
   "source": [
    "Podemos calcular los datos faltantes por feature:"
   ]
  },
  {
   "cell_type": "code",
   "execution_count": 4,
   "id": "dbabde8f-4738-4ae8-b4ae-da46f0394caa",
   "metadata": {
    "colab": {
     "base_uri": "https://localhost:8080/"
    },
    "id": "dbabde8f-4738-4ae8-b4ae-da46f0394caa",
    "outputId": "6ef4314e-e45b-4b12-9c25-492bf3cb0738"
   },
   "outputs": [
    {
     "data": {
      "text/plain": [
       "Clothing ID                   0\n",
       "Age                           0\n",
       "Title                      3810\n",
       "Review Text                 845\n",
       "Rating                        0\n",
       "Recommended IND               0\n",
       "Positive Feedback Count       0\n",
       "Division Name                14\n",
       "Department Name              14\n",
       "Class Name                   14\n",
       "dtype: int64"
      ]
     },
     "execution_count": 4,
     "metadata": {},
     "output_type": "execute_result"
    }
   ],
   "source": [
    "# Datos Faltantes\n",
    "data_df.isnull().sum()"
   ]
  },
  {
   "cell_type": "markdown",
   "id": "b98c0116-68de-4726-9d18-84920e7bb6a0",
   "metadata": {
    "id": "b98c0116-68de-4726-9d18-84920e7bb6a0"
   },
   "source": [
    "Limpiemos un poco los datos:"
   ]
  },
  {
   "cell_type": "code",
   "execution_count": 5,
   "id": "a4e922c2-af88-460b-90cd-7c4d712f47b0",
   "metadata": {
    "id": "a4e922c2-af88-460b-90cd-7c4d712f47b0"
   },
   "outputs": [],
   "source": [
    "def preprocess(ReviewText):\n",
    "    # Quitar algunas etiquetas HTML\n",
    "    ReviewText = ReviewText.str.replace(\"(<br/>)\", \"\",regex=True)\n",
    "    ReviewText = ReviewText.str.replace('(<a).*(>).*(</a>)', '',regex=True)\n",
    "    # Errores de Parsing\n",
    "    ReviewText = ReviewText.str.replace('(&amp)', '',regex=True)\n",
    "    ReviewText = ReviewText.str.replace('(&gt)', '',regex=True)\n",
    "    ReviewText = ReviewText.str.replace('(&lt)', '',regex=True)\n",
    "    ReviewText = ReviewText.str.replace('(\\xa0)', ' ',regex=True)  \n",
    "    return ReviewText\n",
    "\n",
    "# Convertir todos los campos de reviews a texto\n",
    "data_df['Review Text'] = data_df['Review Text'].astype(str)\n",
    "#Limpieza inicial de textos\n",
    "data_df['Review Text'] = preprocess(data_df['Review Text'])"
   ]
  },
  {
   "cell_type": "markdown",
   "id": "9b27c1a3-b338-4db6-ab0a-02b087d04ca7",
   "metadata": {
    "id": "9b27c1a3-b338-4db6-ab0a-02b087d04ca7"
   },
   "source": [
    "Usaremos TextBlob para calcular la polaridad del sentimiento que se encuentra en el rango de [-1,1] donde 1 significa sentimiento positivo y -1 significa sentimiento negativo.\n",
    "\n",
    "Además, contemos algunas características importantes: *longitud del Review* y *Cantidad de Palabras*."
   ]
  },
  {
   "cell_type": "code",
   "execution_count": 6,
   "id": "877ac1ef-33cb-44bf-9fc7-cdc31212460e",
   "metadata": {
    "id": "877ac1ef-33cb-44bf-9fc7-cdc31212460e"
   },
   "outputs": [],
   "source": [
    "from textblob import TextBlob\n",
    "# Polaridad de los reviews\n",
    "data_df['Polarity'] = data_df['Review Text'].apply(lambda x: TextBlob(x).sentiment.polarity)\n",
    "# Número de Palabras\n",
    "data_df['word_count'] = data_df['Review Text'].str.split().str.len()\n",
    "# Longitud de Review\n",
    "data_df['review_len'] = data_df['Review Text'].str.len()"
   ]
  },
  {
   "cell_type": "code",
   "execution_count": 7,
   "id": "a708f59a-51c3-47bd-a035-b52162fe5356",
   "metadata": {
    "colab": {
     "base_uri": "https://localhost:8080/",
     "height": 832
    },
    "id": "a708f59a-51c3-47bd-a035-b52162fe5356",
    "outputId": "070eaec9-ba40-46b4-e2a2-e9882d28bc5b"
   },
   "outputs": [
    {
     "data": {
      "text/html": [
       "\n",
       "  <div id=\"df-a9ab50ad-6b97-4df0-a921-90f0b49b38e7\">\n",
       "    <div class=\"colab-df-container\">\n",
       "      <div>\n",
       "<style scoped>\n",
       "    .dataframe tbody tr th:only-of-type {\n",
       "        vertical-align: middle;\n",
       "    }\n",
       "\n",
       "    .dataframe tbody tr th {\n",
       "        vertical-align: top;\n",
       "    }\n",
       "\n",
       "    .dataframe thead th {\n",
       "        text-align: right;\n",
       "    }\n",
       "</style>\n",
       "<table border=\"1\" class=\"dataframe\">\n",
       "  <thead>\n",
       "    <tr style=\"text-align: right;\">\n",
       "      <th></th>\n",
       "      <th>Clothing ID</th>\n",
       "      <th>Age</th>\n",
       "      <th>Title</th>\n",
       "      <th>Review Text</th>\n",
       "      <th>Rating</th>\n",
       "      <th>Recommended IND</th>\n",
       "      <th>Positive Feedback Count</th>\n",
       "      <th>Division Name</th>\n",
       "      <th>Department Name</th>\n",
       "      <th>Class Name</th>\n",
       "      <th>Polarity</th>\n",
       "      <th>word_count</th>\n",
       "      <th>review_len</th>\n",
       "    </tr>\n",
       "  </thead>\n",
       "  <tbody>\n",
       "    <tr>\n",
       "      <th>0</th>\n",
       "      <td>767</td>\n",
       "      <td>33</td>\n",
       "      <td>NaN</td>\n",
       "      <td>Absolutely wonderful - silky and sexy and comf...</td>\n",
       "      <td>4</td>\n",
       "      <td>1</td>\n",
       "      <td>0</td>\n",
       "      <td>Initmates</td>\n",
       "      <td>Intimate</td>\n",
       "      <td>Intimates</td>\n",
       "      <td>0.633333</td>\n",
       "      <td>8</td>\n",
       "      <td>53</td>\n",
       "    </tr>\n",
       "    <tr>\n",
       "      <th>1</th>\n",
       "      <td>1080</td>\n",
       "      <td>34</td>\n",
       "      <td>NaN</td>\n",
       "      <td>Love this dress!  it's sooo pretty.  i happene...</td>\n",
       "      <td>5</td>\n",
       "      <td>1</td>\n",
       "      <td>4</td>\n",
       "      <td>General</td>\n",
       "      <td>Dresses</td>\n",
       "      <td>Dresses</td>\n",
       "      <td>0.339583</td>\n",
       "      <td>62</td>\n",
       "      <td>303</td>\n",
       "    </tr>\n",
       "    <tr>\n",
       "      <th>2</th>\n",
       "      <td>1077</td>\n",
       "      <td>60</td>\n",
       "      <td>Some major design flaws</td>\n",
       "      <td>I had such high hopes for this dress and reall...</td>\n",
       "      <td>3</td>\n",
       "      <td>0</td>\n",
       "      <td>0</td>\n",
       "      <td>General</td>\n",
       "      <td>Dresses</td>\n",
       "      <td>Dresses</td>\n",
       "      <td>0.073675</td>\n",
       "      <td>98</td>\n",
       "      <td>500</td>\n",
       "    </tr>\n",
       "    <tr>\n",
       "      <th>3</th>\n",
       "      <td>1049</td>\n",
       "      <td>50</td>\n",
       "      <td>My favorite buy!</td>\n",
       "      <td>I love, love, love this jumpsuit. it's fun, fl...</td>\n",
       "      <td>5</td>\n",
       "      <td>1</td>\n",
       "      <td>0</td>\n",
       "      <td>General Petite</td>\n",
       "      <td>Bottoms</td>\n",
       "      <td>Pants</td>\n",
       "      <td>0.550000</td>\n",
       "      <td>22</td>\n",
       "      <td>124</td>\n",
       "    </tr>\n",
       "    <tr>\n",
       "      <th>4</th>\n",
       "      <td>847</td>\n",
       "      <td>47</td>\n",
       "      <td>Flattering shirt</td>\n",
       "      <td>This shirt is very flattering to all due to th...</td>\n",
       "      <td>5</td>\n",
       "      <td>1</td>\n",
       "      <td>6</td>\n",
       "      <td>General</td>\n",
       "      <td>Tops</td>\n",
       "      <td>Blouses</td>\n",
       "      <td>0.512891</td>\n",
       "      <td>36</td>\n",
       "      <td>192</td>\n",
       "    </tr>\n",
       "    <tr>\n",
       "      <th>...</th>\n",
       "      <td>...</td>\n",
       "      <td>...</td>\n",
       "      <td>...</td>\n",
       "      <td>...</td>\n",
       "      <td>...</td>\n",
       "      <td>...</td>\n",
       "      <td>...</td>\n",
       "      <td>...</td>\n",
       "      <td>...</td>\n",
       "      <td>...</td>\n",
       "      <td>...</td>\n",
       "      <td>...</td>\n",
       "      <td>...</td>\n",
       "    </tr>\n",
       "    <tr>\n",
       "      <th>23481</th>\n",
       "      <td>1104</td>\n",
       "      <td>34</td>\n",
       "      <td>Great dress for many occasions</td>\n",
       "      <td>I was very happy to snag this dress at such a ...</td>\n",
       "      <td>5</td>\n",
       "      <td>1</td>\n",
       "      <td>0</td>\n",
       "      <td>General Petite</td>\n",
       "      <td>Dresses</td>\n",
       "      <td>Dresses</td>\n",
       "      <td>0.552667</td>\n",
       "      <td>28</td>\n",
       "      <td>131</td>\n",
       "    </tr>\n",
       "    <tr>\n",
       "      <th>23482</th>\n",
       "      <td>862</td>\n",
       "      <td>48</td>\n",
       "      <td>Wish it was made of cotton</td>\n",
       "      <td>It reminds me of maternity clothes. soft, stre...</td>\n",
       "      <td>3</td>\n",
       "      <td>1</td>\n",
       "      <td>0</td>\n",
       "      <td>General Petite</td>\n",
       "      <td>Tops</td>\n",
       "      <td>Knits</td>\n",
       "      <td>0.091667</td>\n",
       "      <td>38</td>\n",
       "      <td>223</td>\n",
       "    </tr>\n",
       "    <tr>\n",
       "      <th>23483</th>\n",
       "      <td>1104</td>\n",
       "      <td>31</td>\n",
       "      <td>Cute, but see through</td>\n",
       "      <td>This fit well, but the top was very see throug...</td>\n",
       "      <td>3</td>\n",
       "      <td>0</td>\n",
       "      <td>1</td>\n",
       "      <td>General Petite</td>\n",
       "      <td>Dresses</td>\n",
       "      <td>Dresses</td>\n",
       "      <td>0.414286</td>\n",
       "      <td>42</td>\n",
       "      <td>208</td>\n",
       "    </tr>\n",
       "    <tr>\n",
       "      <th>23484</th>\n",
       "      <td>1084</td>\n",
       "      <td>28</td>\n",
       "      <td>Very cute dress, perfect for summer parties an...</td>\n",
       "      <td>I bought this dress for a wedding i have this ...</td>\n",
       "      <td>3</td>\n",
       "      <td>1</td>\n",
       "      <td>2</td>\n",
       "      <td>General</td>\n",
       "      <td>Dresses</td>\n",
       "      <td>Dresses</td>\n",
       "      <td>0.322222</td>\n",
       "      <td>86</td>\n",
       "      <td>427</td>\n",
       "    </tr>\n",
       "    <tr>\n",
       "      <th>23485</th>\n",
       "      <td>1104</td>\n",
       "      <td>52</td>\n",
       "      <td>Please make more like this one!</td>\n",
       "      <td>This dress in a lovely platinum is feminine an...</td>\n",
       "      <td>5</td>\n",
       "      <td>1</td>\n",
       "      <td>22</td>\n",
       "      <td>General Petite</td>\n",
       "      <td>Dresses</td>\n",
       "      <td>Dresses</td>\n",
       "      <td>0.413889</td>\n",
       "      <td>19</td>\n",
       "      <td>110</td>\n",
       "    </tr>\n",
       "  </tbody>\n",
       "</table>\n",
       "<p>23486 rows × 13 columns</p>\n",
       "</div>\n",
       "      <button class=\"colab-df-convert\" onclick=\"convertToInteractive('df-a9ab50ad-6b97-4df0-a921-90f0b49b38e7')\"\n",
       "              title=\"Convert this dataframe to an interactive table.\"\n",
       "              style=\"display:none;\">\n",
       "        \n",
       "  <svg xmlns=\"http://www.w3.org/2000/svg\" height=\"24px\"viewBox=\"0 0 24 24\"\n",
       "       width=\"24px\">\n",
       "    <path d=\"M0 0h24v24H0V0z\" fill=\"none\"/>\n",
       "    <path d=\"M18.56 5.44l.94 2.06.94-2.06 2.06-.94-2.06-.94-.94-2.06-.94 2.06-2.06.94zm-11 1L8.5 8.5l.94-2.06 2.06-.94-2.06-.94L8.5 2.5l-.94 2.06-2.06.94zm10 10l.94 2.06.94-2.06 2.06-.94-2.06-.94-.94-2.06-.94 2.06-2.06.94z\"/><path d=\"M17.41 7.96l-1.37-1.37c-.4-.4-.92-.59-1.43-.59-.52 0-1.04.2-1.43.59L10.3 9.45l-7.72 7.72c-.78.78-.78 2.05 0 2.83L4 21.41c.39.39.9.59 1.41.59.51 0 1.02-.2 1.41-.59l7.78-7.78 2.81-2.81c.8-.78.8-2.07 0-2.86zM5.41 20L4 18.59l7.72-7.72 1.47 1.35L5.41 20z\"/>\n",
       "  </svg>\n",
       "      </button>\n",
       "      \n",
       "  <style>\n",
       "    .colab-df-container {\n",
       "      display:flex;\n",
       "      flex-wrap:wrap;\n",
       "      gap: 12px;\n",
       "    }\n",
       "\n",
       "    .colab-df-convert {\n",
       "      background-color: #E8F0FE;\n",
       "      border: none;\n",
       "      border-radius: 50%;\n",
       "      cursor: pointer;\n",
       "      display: none;\n",
       "      fill: #1967D2;\n",
       "      height: 32px;\n",
       "      padding: 0 0 0 0;\n",
       "      width: 32px;\n",
       "    }\n",
       "\n",
       "    .colab-df-convert:hover {\n",
       "      background-color: #E2EBFA;\n",
       "      box-shadow: 0px 1px 2px rgba(60, 64, 67, 0.3), 0px 1px 3px 1px rgba(60, 64, 67, 0.15);\n",
       "      fill: #174EA6;\n",
       "    }\n",
       "\n",
       "    [theme=dark] .colab-df-convert {\n",
       "      background-color: #3B4455;\n",
       "      fill: #D2E3FC;\n",
       "    }\n",
       "\n",
       "    [theme=dark] .colab-df-convert:hover {\n",
       "      background-color: #434B5C;\n",
       "      box-shadow: 0px 1px 3px 1px rgba(0, 0, 0, 0.15);\n",
       "      filter: drop-shadow(0px 1px 2px rgba(0, 0, 0, 0.3));\n",
       "      fill: #FFFFFF;\n",
       "    }\n",
       "  </style>\n",
       "\n",
       "      <script>\n",
       "        const buttonEl =\n",
       "          document.querySelector('#df-a9ab50ad-6b97-4df0-a921-90f0b49b38e7 button.colab-df-convert');\n",
       "        buttonEl.style.display =\n",
       "          google.colab.kernel.accessAllowed ? 'block' : 'none';\n",
       "\n",
       "        async function convertToInteractive(key) {\n",
       "          const element = document.querySelector('#df-a9ab50ad-6b97-4df0-a921-90f0b49b38e7');\n",
       "          const dataTable =\n",
       "            await google.colab.kernel.invokeFunction('convertToInteractive',\n",
       "                                                     [key], {});\n",
       "          if (!dataTable) return;\n",
       "\n",
       "          const docLinkHtml = 'Like what you see? Visit the ' +\n",
       "            '<a target=\"_blank\" href=https://colab.research.google.com/notebooks/data_table.ipynb>data table notebook</a>'\n",
       "            + ' to learn more about interactive tables.';\n",
       "          element.innerHTML = '';\n",
       "          dataTable['output_type'] = 'display_data';\n",
       "          await google.colab.output.renderOutput(dataTable, element);\n",
       "          const docLink = document.createElement('div');\n",
       "          docLink.innerHTML = docLinkHtml;\n",
       "          element.appendChild(docLink);\n",
       "        }\n",
       "      </script>\n",
       "    </div>\n",
       "  </div>\n",
       "  "
      ],
      "text/plain": [
       "       Clothing ID  Age                                              Title  \\\n",
       "0              767   33                                                NaN   \n",
       "1             1080   34                                                NaN   \n",
       "2             1077   60                            Some major design flaws   \n",
       "3             1049   50                                   My favorite buy!   \n",
       "4              847   47                                   Flattering shirt   \n",
       "...            ...  ...                                                ...   \n",
       "23481         1104   34                     Great dress for many occasions   \n",
       "23482          862   48                         Wish it was made of cotton   \n",
       "23483         1104   31                              Cute, but see through   \n",
       "23484         1084   28  Very cute dress, perfect for summer parties an...   \n",
       "23485         1104   52                    Please make more like this one!   \n",
       "\n",
       "                                             Review Text  Rating  \\\n",
       "0      Absolutely wonderful - silky and sexy and comf...       4   \n",
       "1      Love this dress!  it's sooo pretty.  i happene...       5   \n",
       "2      I had such high hopes for this dress and reall...       3   \n",
       "3      I love, love, love this jumpsuit. it's fun, fl...       5   \n",
       "4      This shirt is very flattering to all due to th...       5   \n",
       "...                                                  ...     ...   \n",
       "23481  I was very happy to snag this dress at such a ...       5   \n",
       "23482  It reminds me of maternity clothes. soft, stre...       3   \n",
       "23483  This fit well, but the top was very see throug...       3   \n",
       "23484  I bought this dress for a wedding i have this ...       3   \n",
       "23485  This dress in a lovely platinum is feminine an...       5   \n",
       "\n",
       "       Recommended IND  Positive Feedback Count   Division Name  \\\n",
       "0                    1                        0       Initmates   \n",
       "1                    1                        4         General   \n",
       "2                    0                        0         General   \n",
       "3                    1                        0  General Petite   \n",
       "4                    1                        6         General   \n",
       "...                ...                      ...             ...   \n",
       "23481                1                        0  General Petite   \n",
       "23482                1                        0  General Petite   \n",
       "23483                0                        1  General Petite   \n",
       "23484                1                        2         General   \n",
       "23485                1                       22  General Petite   \n",
       "\n",
       "      Department Name Class Name  Polarity  word_count  review_len  \n",
       "0            Intimate  Intimates  0.633333           8          53  \n",
       "1             Dresses    Dresses  0.339583          62         303  \n",
       "2             Dresses    Dresses  0.073675          98         500  \n",
       "3             Bottoms      Pants  0.550000          22         124  \n",
       "4                Tops    Blouses  0.512891          36         192  \n",
       "...               ...        ...       ...         ...         ...  \n",
       "23481         Dresses    Dresses  0.552667          28         131  \n",
       "23482            Tops      Knits  0.091667          38         223  \n",
       "23483         Dresses    Dresses  0.414286          42         208  \n",
       "23484         Dresses    Dresses  0.322222          86         427  \n",
       "23485         Dresses    Dresses  0.413889          19         110  \n",
       "\n",
       "[23486 rows x 13 columns]"
      ]
     },
     "execution_count": 7,
     "metadata": {},
     "output_type": "execute_result"
    }
   ],
   "source": [
    "data_df"
   ]
  },
  {
   "cell_type": "code",
   "execution_count": 8,
   "id": "9ceee922-4c76-4bf4-87e8-35bc32e2dcf5",
   "metadata": {
    "colab": {
     "base_uri": "https://localhost:8080/",
     "height": 733
    },
    "id": "9ceee922-4c76-4bf4-87e8-35bc32e2dcf5",
    "outputId": "fc12e371-c639-461a-e371-946b662280ad"
   },
   "outputs": [
    {
     "data": {
      "image/png": "[encoded data removed]",
      "text/plain": [
       "<Figure size 1152x864 with 4 Axes>"
      ]
     },
     "metadata": {
      "needs_background": "light"
     },
     "output_type": "display_data"
    }
   ],
   "source": [
    "import seaborn as sns\n",
    "import matplotlib.pyplot as plt\n",
    "\n",
    "features = ['Polarity','Age', 'review_len', 'word_count']\n",
    "titles = ['Polarity Distribution','Age Distribution', 'Review length Distribution', 'Word Count Distribution']\n",
    "colors = ['#9966ff', '#3399ff', '#00ff00', '#ff6600']\n",
    "\n",
    "\n",
    "plt.figure(figsize=(16,12))\n",
    "\n",
    "for i,feature, title, color in zip(range(1,len(features)+1),features, titles, colors):  \n",
    "    plt.subplot(2, 2, i)\n",
    "    sns.histplot(x=data_df[feature], bins=50, color=color,kde=True)\n",
    "    plt.title(title, size=15)\n",
    "    plt.xlabel(feature)\n",
    "plt.show()"
   ]
  },
  {
   "cell_type": "markdown",
   "id": "f3017198-2563-4b87-8efb-016fe3195bfe",
   "metadata": {
    "id": "f3017198-2563-4b87-8efb-016fe3195bfe"
   },
   "source": [
    "1. La gran mayoría de los puntajes de polaridad de sentimiento son mayores que cero, lo que significa que la mayoría de ellos son bastante positivos.\n",
    "2. La mayoría de los revisores tienen entre 30 y 40 años."
   ]
  },
  {
   "cell_type": "code",
   "execution_count": 9,
   "id": "500f3d48-2193-4e40-97c0-52562eb720f6",
   "metadata": {
    "colab": {
     "base_uri": "https://localhost:8080/",
     "height": 297
    },
    "id": "500f3d48-2193-4e40-97c0-52562eb720f6",
    "outputId": "480f9795-39e6-4504-9982-e11c8e72984d"
   },
   "outputs": [
    {
     "data": {
      "image/png": "[encoded data removed]",
      "text/plain": [
       "<Figure size 432x288 with 1 Axes>"
      ]
     },
     "metadata": {
      "needs_background": "light"
     },
     "output_type": "display_data"
    }
   ],
   "source": [
    "sns.countplot(x = 'Rating', palette='viridis', data=data_df)\n",
    "plt.title('Rating Distribution', size=15)\n",
    "plt.xlabel('Ratings')\n",
    "plt.show()"
   ]
  },
  {
   "cell_type": "markdown",
   "id": "bb07a3e1-1bd2-4796-a01c-46f69ab96fb6",
   "metadata": {
    "id": "bb07a3e1-1bd2-4796-a01c-46f69ab96fb6"
   },
   "source": [
    "Las calificaciones están alineadas con el puntaje de polaridad, es decir, la mayoría de las calificaciones son bastante altas ranqueadas entre 4 y 5."
   ]
  },
  {
   "cell_type": "code",
   "execution_count": 10,
   "id": "e5cb2bc3-a35b-4a94-8cd0-aaa0ea5b3ba6",
   "metadata": {
    "colab": {
     "base_uri": "https://localhost:8080/",
     "height": 297
    },
    "id": "e5cb2bc3-a35b-4a94-8cd0-aaa0ea5b3ba6",
    "outputId": "e40d236b-1c56-4a86-c9c8-85c63ed2e847"
   },
   "outputs": [
    {
     "data": {
      "image/png": "[encoded data removed]",
      "text/plain": [
       "<Figure size 432x288 with 1 Axes>"
      ]
     },
     "metadata": {
      "needs_background": "light"
     },
     "output_type": "display_data"
    }
   ],
   "source": [
    "sns.countplot(x='Division Name', palette='viridis', data=data_df)\n",
    "plt.title('Division distribution', size=15)\n",
    "plt.show()"
   ]
  },
  {
   "cell_type": "markdown",
   "id": "f81fca54-468f-4acd-be0e-7fdd7a3ce58c",
   "metadata": {
    "id": "f81fca54-468f-4acd-be0e-7fdd7a3ce58c"
   },
   "source": [
    "La división general tiene la mayor cantidad de reviews y la división Initmates tiene la menor cantidad de revisiones."
   ]
  },
  {
   "cell_type": "code",
   "execution_count": 11,
   "id": "252fe2ab-43f0-4a5a-8db4-abd57e2cade1",
   "metadata": {
    "colab": {
     "base_uri": "https://localhost:8080/",
     "height": 352
    },
    "id": "252fe2ab-43f0-4a5a-8db4-abd57e2cade1",
    "outputId": "cb06fe26-bea4-453a-963a-84011f0d6e72"
   },
   "outputs": [
    {
     "data": {
      "image/png": "[encoded data removed]",
      "text/plain": [
       "<Figure size 576x360 with 1 Axes>"
      ]
     },
     "metadata": {
      "needs_background": "light"
     },
     "output_type": "display_data"
    }
   ],
   "source": [
    "plt.figure(figsize=(8, 5))\n",
    "sns.countplot(x='Department Name', palette='viridis', data=data_df)\n",
    "plt.title('Department Name', size=15)\n",
    "plt.show()"
   ]
  },
  {
   "cell_type": "code",
   "execution_count": 12,
   "id": "f02ac7b7-d1ae-4b0f-a1bf-7a5cbb27f587",
   "metadata": {
    "colab": {
     "base_uri": "https://localhost:8080/",
     "height": 623
    },
    "id": "f02ac7b7-d1ae-4b0f-a1bf-7a5cbb27f587",
    "outputId": "b759544d-7305-4f86-e877-33eb03b0d2eb"
   },
   "outputs": [
    {
     "data": {
      "image/png": "[encoded data removed]",
      "text/plain": [
       "<Figure size 576x720 with 1 Axes>"
      ]
     },
     "metadata": {
      "needs_background": "light"
     },
     "output_type": "display_data"
    }
   ],
   "source": [
    "plt.figure(figsize=(8, 10))\n",
    "sns.countplot(y='Class Name', palette='viridis', data=data_df)\n",
    "plt.title('Class Distribution', size=15)\n",
    "plt.show()"
   ]
  },
  {
   "cell_type": "markdown",
   "id": "03ba3eee-93aa-48dd-8bed-96c36c32cb93",
   "metadata": {
    "id": "03ba3eee-93aa-48dd-8bed-96c36c32cb93"
   },
   "source": [
    "Usemos las mismas divisiones de entrenamiento, validación y prueba para todos los enfoques que probamos para que sea una comparación justa.\n",
    "\n",
    "Sin embargo, los diferentes enfoques requerirán diferentes transformaciones en los datos y, para simplificar, \n",
    "apliquemos esas transformaciones antes de dividir el conjunto de datos.\n",
    "\n",
    "Para solucionar esto, vamos a crear listas de índices para cada una de las tres porciones. De esa manera, para un enfoque de clasificación dado, podemos cargar todo el conjunto de datos, aplicar nuestras transformaciones y luego dividirlo de acuerdo con estos índices predeterminados."
   ]
  },
  {
   "cell_type": "code",
   "execution_count": 13,
   "id": "7dbea888-d8fd-4365-bdb5-e7272578939d",
   "metadata": {
    "colab": {
     "base_uri": "https://localhost:8080/"
    },
    "id": "7dbea888-d8fd-4365-bdb5-e7272578939d",
    "outputId": "42b7b638-f839-4753-d556-039c1326cee9"
   },
   "outputs": [
    {
     "name": "stdout",
     "output_type": "stream",
     "text": [
      "  Training size: 18,788\n",
      "Validation size: 2,348\n",
      "      Test size: 2,350\n"
     ]
    }
   ],
   "source": [
    "import random\n",
    "import numpy as np\n",
    "\n",
    "# First, calculate the split sizes. 80% training, 10% validation, 10% test.\n",
    "train_size = int(0.8 * len(data_df))\n",
    "val_size = int(0.1 * len(data_df))\n",
    "test_size = len(data_df) - (train_size + val_size)\n",
    "\n",
    "# Sanity check the sizes.\n",
    "assert((train_size + val_size + test_size) == len(data_df))\n",
    "\n",
    "# Create a list of indeces for all of the samples in the dataset.\n",
    "indeces = np.arange(0, len(data_df))\n",
    "\n",
    "# Shuffle the indeces randomly.\n",
    "random.shuffle(indeces)\n",
    "\n",
    "# Get a list of indeces for each of the splits.\n",
    "train_idx = indeces[0:train_size]\n",
    "val_idx = indeces[train_size:(train_size + val_size)]\n",
    "test_idx = indeces[(train_size + val_size):]\n",
    "\n",
    "# Sanity check\n",
    "assert(len(train_idx) == train_size)\n",
    "assert(len(test_idx) == test_size)\n",
    "\n",
    "# With these lists, we can now select the corresponding dataframe rows using, \n",
    "# e.g., train_df = data_df.iloc[train_idx] \n",
    "\n",
    "print('  Training size: {:,}'.format(train_size))\n",
    "print('Validation size: {:,}'.format(val_size))\n",
    "print('      Test size: {:,}'.format(test_size))"
   ]
  },
  {
   "cell_type": "markdown",
   "id": "11cbba5a-4adf-4fb1-b13c-0269439af2bc",
   "metadata": {
    "id": "11cbba5a-4adf-4fb1-b13c-0269439af2bc",
    "tags": []
   },
   "source": [
    "## <span style=\"color:blue\">Estrategias de Línea Base</span>"
   ]
  },
  {
   "cell_type": "markdown",
   "id": "35221aaa-7d1c-4e83-b78c-2b9a99339221",
   "metadata": {
    "id": "35221aaa-7d1c-4e83-b78c-2b9a99339221"
   },
   "source": [
    "Los siguientes son algunos enfoques alternativos para clasificar este conjunto de datos, ninguno de los cuales usa todas las características juntas. \n",
    "\n",
    "¿Será posible que BERT supere éstas líneas base?"
   ]
  },
  {
   "cell_type": "markdown",
   "id": "42c9a31e-8199-458e-b5e8-5920c47c802f",
   "metadata": {
    "id": "42c9a31e-8199-458e-b5e8-5920c47c802f"
   },
   "source": [
    "Este conjunto de datos está muy desequilibrado, con algo así como el 85% de las revisiones que recomiendan el producto.\n",
    "\n",
    "Si solo predecimos \"recomendar\" para cada muestra de prueba, ¿cómo lo haríamos?"
   ]
  },
  {
   "cell_type": "code",
   "execution_count": 14,
   "id": "2c132ca8-c288-4610-a3be-7ddd7fcb12be",
   "metadata": {
    "colab": {
     "base_uri": "https://localhost:8080/"
    },
    "id": "2c132ca8-c288-4610-a3be-7ddd7fcb12be",
    "outputId": "d89fcf69-9ef6-4b63-9ff3-176313702c95"
   },
   "outputs": [
    {
     "name": "stdout",
     "output_type": "stream",
     "text": [
      "Si siempre recomendamos el producto...\n",
      "\n",
      "F1: 0.902\n"
     ]
    }
   ],
   "source": [
    "from sklearn.metrics import f1_score\n",
    "\n",
    "# Select the test set samples.\n",
    "test_df = data_df.iloc[test_idx]\n",
    "\n",
    "# Create a list of all 1s to use as our predictions.\n",
    "predictions = [1]*len(test_df)\n",
    "\n",
    "# Calculate the F1 score.\n",
    "f1 = f1_score(y_true=test_df[\"Recommended IND\"], y_pred=predictions)\n",
    "\n",
    "print('Si siempre recomendamos el producto...')\n",
    "print('\\nF1: %.3f' % f1)"
   ]
  },
  {
   "cell_type": "markdown",
   "id": "4b8c1b2d-8130-493c-9541-2fe95bdee65f",
   "metadata": {
    "id": "4b8c1b2d-8130-493c-9541-2fe95bdee65f"
   },
   "source": [
    "Como se mencionó  anteriormente, la \"Calificación\" es un indicador muy fuerte de si el revisor recomendó el producto o no.\n",
    "\n",
    "El umbral ideal es una calificación de 3 para recomendar. Veamos ue ocurre con el estadístico F1 en ese caso."
   ]
  },
  {
   "cell_type": "code",
   "execution_count": 15,
   "id": "3ee02f2f-8abd-44a7-b97f-43773a1e76f8",
   "metadata": {
    "colab": {
     "base_uri": "https://localhost:8080/"
    },
    "id": "3ee02f2f-8abd-44a7-b97f-43773a1e76f8",
    "outputId": "f2c30b93-025b-4a72-a1ac-23550ebdd85d"
   },
   "outputs": [
    {
     "name": "stdout",
     "output_type": "stream",
     "text": [
      "Recomendar si Rating >= 3...\n",
      "\n",
      "F1: 0.947\n"
     ]
    }
   ],
   "source": [
    "from sklearn.metrics import f1_score\n",
    "\n",
    "# Predict whether it's recommended based on whether the rating was 3 or higher.\n",
    "predictions = test_df[\"Rating\"] >= 3\n",
    "\n",
    "# Calculate the F1 score.\n",
    "f1 = f1_score(y_true=test_df[\"Recommended IND\"], y_pred=predictions)\n",
    "\n",
    "print('Recomendar si Rating >= 3...')\n",
    "print('\\nF1: %.3f' % f1)"
   ]
  },
  {
   "cell_type": "markdown",
   "id": "2144cd99-fd88-408b-b42b-8c73f5c37e90",
   "metadata": {
    "id": "2144cd99-fd88-408b-b42b-8c73f5c37e90",
    "tags": []
   },
   "source": [
    "### <span style=\"color:blue\">Preparar Datos</span>"
   ]
  },
  {
   "cell_type": "markdown",
   "id": "21bed7ee-6dc1-49ec-9353-65e9a14d07c0",
   "metadata": {
    "id": "21bed7ee-6dc1-49ec-9353-65e9a14d07c0"
   },
   "source": [
    "Tendremos que codificar todas nuestras características categóricas asignando un valor entero a cada categoría posible y reemplazando las versiones de cadena con estos enteros.\n",
    "\n",
    "El siguiente código/enfoque proviene de [Guide to Encoding Categorical Values in Python](https://pbpython.com/categorical-encoding.html)."
   ]
  },
  {
   "cell_type": "code",
   "execution_count": 16,
   "id": "5339a6c0-b680-4488-b57a-0b3c9b078920",
   "metadata": {
    "colab": {
     "base_uri": "https://localhost:8080/",
     "height": 354
    },
    "id": "5339a6c0-b680-4488-b57a-0b3c9b078920",
    "outputId": "38c86618-e9cb-4d2f-f66c-123c64933852"
   },
   "outputs": [
    {
     "data": {
      "text/html": [
       "\n",
       "  <div id=\"df-8b79587e-0758-420b-a85b-a4d828a3a16d\">\n",
       "    <div class=\"colab-df-container\">\n",
       "      <div>\n",
       "<style scoped>\n",
       "    .dataframe tbody tr th:only-of-type {\n",
       "        vertical-align: middle;\n",
       "    }\n",
       "\n",
       "    .dataframe tbody tr th {\n",
       "        vertical-align: top;\n",
       "    }\n",
       "\n",
       "    .dataframe thead th {\n",
       "        text-align: right;\n",
       "    }\n",
       "</style>\n",
       "<table border=\"1\" class=\"dataframe\">\n",
       "  <thead>\n",
       "    <tr style=\"text-align: right;\">\n",
       "      <th></th>\n",
       "      <th>Clothing ID</th>\n",
       "      <th>Age</th>\n",
       "      <th>Title</th>\n",
       "      <th>Review Text</th>\n",
       "      <th>Rating</th>\n",
       "      <th>Recommended IND</th>\n",
       "      <th>Positive Feedback Count</th>\n",
       "      <th>Division Name</th>\n",
       "      <th>Department Name</th>\n",
       "      <th>Class Name</th>\n",
       "      <th>Polarity</th>\n",
       "      <th>word_count</th>\n",
       "      <th>review_len</th>\n",
       "    </tr>\n",
       "  </thead>\n",
       "  <tbody>\n",
       "    <tr>\n",
       "      <th>0</th>\n",
       "      <td>767</td>\n",
       "      <td>33</td>\n",
       "      <td>NaN</td>\n",
       "      <td>Absolutely wonderful - silky and sexy and comf...</td>\n",
       "      <td>4</td>\n",
       "      <td>1</td>\n",
       "      <td>0</td>\n",
       "      <td>2</td>\n",
       "      <td>2</td>\n",
       "      <td>5</td>\n",
       "      <td>0.633333</td>\n",
       "      <td>8</td>\n",
       "      <td>53</td>\n",
       "    </tr>\n",
       "    <tr>\n",
       "      <th>1</th>\n",
       "      <td>1080</td>\n",
       "      <td>34</td>\n",
       "      <td>NaN</td>\n",
       "      <td>Love this dress!  it's sooo pretty.  i happene...</td>\n",
       "      <td>5</td>\n",
       "      <td>1</td>\n",
       "      <td>4</td>\n",
       "      <td>0</td>\n",
       "      <td>1</td>\n",
       "      <td>3</td>\n",
       "      <td>0.339583</td>\n",
       "      <td>62</td>\n",
       "      <td>303</td>\n",
       "    </tr>\n",
       "    <tr>\n",
       "      <th>2</th>\n",
       "      <td>1077</td>\n",
       "      <td>60</td>\n",
       "      <td>Some major design flaws</td>\n",
       "      <td>I had such high hopes for this dress and reall...</td>\n",
       "      <td>3</td>\n",
       "      <td>0</td>\n",
       "      <td>0</td>\n",
       "      <td>0</td>\n",
       "      <td>1</td>\n",
       "      <td>3</td>\n",
       "      <td>0.073675</td>\n",
       "      <td>98</td>\n",
       "      <td>500</td>\n",
       "    </tr>\n",
       "    <tr>\n",
       "      <th>3</th>\n",
       "      <td>1049</td>\n",
       "      <td>50</td>\n",
       "      <td>My favorite buy!</td>\n",
       "      <td>I love, love, love this jumpsuit. it's fun, fl...</td>\n",
       "      <td>5</td>\n",
       "      <td>1</td>\n",
       "      <td>0</td>\n",
       "      <td>1</td>\n",
       "      <td>0</td>\n",
       "      <td>13</td>\n",
       "      <td>0.550000</td>\n",
       "      <td>22</td>\n",
       "      <td>124</td>\n",
       "    </tr>\n",
       "    <tr>\n",
       "      <th>4</th>\n",
       "      <td>847</td>\n",
       "      <td>47</td>\n",
       "      <td>Flattering shirt</td>\n",
       "      <td>This shirt is very flattering to all due to th...</td>\n",
       "      <td>5</td>\n",
       "      <td>1</td>\n",
       "      <td>6</td>\n",
       "      <td>0</td>\n",
       "      <td>4</td>\n",
       "      <td>0</td>\n",
       "      <td>0.512891</td>\n",
       "      <td>36</td>\n",
       "      <td>192</td>\n",
       "    </tr>\n",
       "  </tbody>\n",
       "</table>\n",
       "</div>\n",
       "      <button class=\"colab-df-convert\" onclick=\"convertToInteractive('df-8b79587e-0758-420b-a85b-a4d828a3a16d')\"\n",
       "              title=\"Convert this dataframe to an interactive table.\"\n",
       "              style=\"display:none;\">\n",
       "        \n",
       "  <svg xmlns=\"http://www.w3.org/2000/svg\" height=\"24px\"viewBox=\"0 0 24 24\"\n",
       "       width=\"24px\">\n",
       "    <path d=\"M0 0h24v24H0V0z\" fill=\"none\"/>\n",
       "    <path d=\"M18.56 5.44l.94 2.06.94-2.06 2.06-.94-2.06-.94-.94-2.06-.94 2.06-2.06.94zm-11 1L8.5 8.5l.94-2.06 2.06-.94-2.06-.94L8.5 2.5l-.94 2.06-2.06.94zm10 10l.94 2.06.94-2.06 2.06-.94-2.06-.94-.94-2.06-.94 2.06-2.06.94z\"/><path d=\"M17.41 7.96l-1.37-1.37c-.4-.4-.92-.59-1.43-.59-.52 0-1.04.2-1.43.59L10.3 9.45l-7.72 7.72c-.78.78-.78 2.05 0 2.83L4 21.41c.39.39.9.59 1.41.59.51 0 1.02-.2 1.41-.59l7.78-7.78 2.81-2.81c.8-.78.8-2.07 0-2.86zM5.41 20L4 18.59l7.72-7.72 1.47 1.35L5.41 20z\"/>\n",
       "  </svg>\n",
       "      </button>\n",
       "      \n",
       "  <style>\n",
       "    .colab-df-container {\n",
       "      display:flex;\n",
       "      flex-wrap:wrap;\n",
       "      gap: 12px;\n",
       "    }\n",
       "\n",
       "    .colab-df-convert {\n",
       "      background-color: #E8F0FE;\n",
       "      border: none;\n",
       "      border-radius: 50%;\n",
       "      cursor: pointer;\n",
       "      display: none;\n",
       "      fill: #1967D2;\n",
       "      height: 32px;\n",
       "      padding: 0 0 0 0;\n",
       "      width: 32px;\n",
       "    }\n",
       "\n",
       "    .colab-df-convert:hover {\n",
       "      background-color: #E2EBFA;\n",
       "      box-shadow: 0px 1px 2px rgba(60, 64, 67, 0.3), 0px 1px 3px 1px rgba(60, 64, 67, 0.15);\n",
       "      fill: #174EA6;\n",
       "    }\n",
       "\n",
       "    [theme=dark] .colab-df-convert {\n",
       "      background-color: #3B4455;\n",
       "      fill: #D2E3FC;\n",
       "    }\n",
       "\n",
       "    [theme=dark] .colab-df-convert:hover {\n",
       "      background-color: #434B5C;\n",
       "      box-shadow: 0px 1px 3px 1px rgba(0, 0, 0, 0.15);\n",
       "      filter: drop-shadow(0px 1px 2px rgba(0, 0, 0, 0.3));\n",
       "      fill: #FFFFFF;\n",
       "    }\n",
       "  </style>\n",
       "\n",
       "      <script>\n",
       "        const buttonEl =\n",
       "          document.querySelector('#df-8b79587e-0758-420b-a85b-a4d828a3a16d button.colab-df-convert');\n",
       "        buttonEl.style.display =\n",
       "          google.colab.kernel.accessAllowed ? 'block' : 'none';\n",
       "\n",
       "        async function convertToInteractive(key) {\n",
       "          const element = document.querySelector('#df-8b79587e-0758-420b-a85b-a4d828a3a16d');\n",
       "          const dataTable =\n",
       "            await google.colab.kernel.invokeFunction('convertToInteractive',\n",
       "                                                     [key], {});\n",
       "          if (!dataTable) return;\n",
       "\n",
       "          const docLinkHtml = 'Like what you see? Visit the ' +\n",
       "            '<a target=\"_blank\" href=https://colab.research.google.com/notebooks/data_table.ipynb>data table notebook</a>'\n",
       "            + ' to learn more about interactive tables.';\n",
       "          element.innerHTML = '';\n",
       "          dataTable['output_type'] = 'display_data';\n",
       "          await google.colab.output.renderOutput(dataTable, element);\n",
       "          const docLink = document.createElement('div');\n",
       "          docLink.innerHTML = docLinkHtml;\n",
       "          element.appendChild(docLink);\n",
       "        }\n",
       "      </script>\n",
       "    </div>\n",
       "  </div>\n",
       "  "
      ],
      "text/plain": [
       "   Clothing ID  Age                    Title  \\\n",
       "0          767   33                      NaN   \n",
       "1         1080   34                      NaN   \n",
       "2         1077   60  Some major design flaws   \n",
       "3         1049   50         My favorite buy!   \n",
       "4          847   47         Flattering shirt   \n",
       "\n",
       "                                         Review Text  Rating  Recommended IND  \\\n",
       "0  Absolutely wonderful - silky and sexy and comf...       4                1   \n",
       "1  Love this dress!  it's sooo pretty.  i happene...       5                1   \n",
       "2  I had such high hopes for this dress and reall...       3                0   \n",
       "3  I love, love, love this jumpsuit. it's fun, fl...       5                1   \n",
       "4  This shirt is very flattering to all due to th...       5                1   \n",
       "\n",
       "   Positive Feedback Count  Division Name  Department Name  Class Name  \\\n",
       "0                        0              2                2           5   \n",
       "1                        4              0                1           3   \n",
       "2                        0              0                1           3   \n",
       "3                        0              1                0          13   \n",
       "4                        6              0                4           0   \n",
       "\n",
       "   Polarity  word_count  review_len  \n",
       "0  0.633333           8          53  \n",
       "1  0.339583          62         303  \n",
       "2  0.073675          98         500  \n",
       "3  0.550000          22         124  \n",
       "4  0.512891          36         192  "
      ]
     },
     "execution_count": 16,
     "metadata": {},
     "output_type": "execute_result"
    }
   ],
   "source": [
    "# First, change the type of the specified columns to \"category\". This will \n",
    "# assign a \"code\" to each unique category value.\n",
    "data_df[\"Clothing ID\"] = data_df[\"Clothing ID\"].astype('category')\n",
    "data_df[\"Division Name\"] = data_df[\"Division Name\"].astype('category')\n",
    "data_df[\"Department Name\"] = data_df[\"Department Name\"].astype('category')\n",
    "data_df[\"Class Name\"] = data_df[\"Class Name\"].astype('category')\n",
    "\n",
    "# Second, replace the strings with their code values.\n",
    "data_df[\"Clothing ID\"] = data_df[\"Clothing ID\"].cat.codes\n",
    "data_df[\"Division Name\"] = data_df[\"Division Name\"].cat.codes\n",
    "data_df[\"Department Name\"] = data_df[\"Department Name\"].cat.codes\n",
    "data_df[\"Class Name\"] = data_df[\"Class Name\"].cat.codes\n",
    "\n",
    "# Display the table--notice how the above columns are all integers now.\n",
    "data_df.head()"
   ]
  },
  {
   "cell_type": "markdown",
   "id": "7f93387b-e97e-4682-a7e1-f3852de09d02",
   "metadata": {
    "id": "7f93387b-e97e-4682-a7e1-f3852de09d02"
   },
   "source": [
    "Para aclararle a XGBoost qué características son categóricas y numéricas, covertimos todas las características numéricas en flotantes.\n",
    "\n",
    "Se pudo haber hecho esto de otra forma, pero parece que funciona bien como lo hicimos."
   ]
  },
  {
   "cell_type": "code",
   "execution_count": 17,
   "id": "0ba2b900-4242-4a65-9ac6-2b940a724750",
   "metadata": {
    "colab": {
     "base_uri": "https://localhost:8080/",
     "height": 389
    },
    "id": "0ba2b900-4242-4a65-9ac6-2b940a724750",
    "outputId": "1007a38c-50a3-4988-cb35-d77398e9475b"
   },
   "outputs": [
    {
     "data": {
      "text/html": [
       "\n",
       "  <div id=\"df-2767831e-879c-41bf-8212-34008fe0694e\">\n",
       "    <div class=\"colab-df-container\">\n",
       "      <div>\n",
       "<style scoped>\n",
       "    .dataframe tbody tr th:only-of-type {\n",
       "        vertical-align: middle;\n",
       "    }\n",
       "\n",
       "    .dataframe tbody tr th {\n",
       "        vertical-align: top;\n",
       "    }\n",
       "\n",
       "    .dataframe thead th {\n",
       "        text-align: right;\n",
       "    }\n",
       "</style>\n",
       "<table border=\"1\" class=\"dataframe\">\n",
       "  <thead>\n",
       "    <tr style=\"text-align: right;\">\n",
       "      <th></th>\n",
       "      <th>Clothing ID</th>\n",
       "      <th>Age</th>\n",
       "      <th>Title</th>\n",
       "      <th>Review Text</th>\n",
       "      <th>Rating</th>\n",
       "      <th>Recommended IND</th>\n",
       "      <th>Positive Feedback Count</th>\n",
       "      <th>Division Name</th>\n",
       "      <th>Department Name</th>\n",
       "      <th>Class Name</th>\n",
       "      <th>Polarity</th>\n",
       "      <th>word_count</th>\n",
       "      <th>review_len</th>\n",
       "    </tr>\n",
       "  </thead>\n",
       "  <tbody>\n",
       "    <tr>\n",
       "      <th>0</th>\n",
       "      <td>767</td>\n",
       "      <td>33.0</td>\n",
       "      <td>NaN</td>\n",
       "      <td>Absolutely wonderful - silky and sexy and comf...</td>\n",
       "      <td>4.0</td>\n",
       "      <td>1</td>\n",
       "      <td>0.0</td>\n",
       "      <td>2</td>\n",
       "      <td>2</td>\n",
       "      <td>5</td>\n",
       "      <td>0.633333</td>\n",
       "      <td>8</td>\n",
       "      <td>53</td>\n",
       "    </tr>\n",
       "    <tr>\n",
       "      <th>1</th>\n",
       "      <td>1080</td>\n",
       "      <td>34.0</td>\n",
       "      <td>NaN</td>\n",
       "      <td>Love this dress!  it's sooo pretty.  i happene...</td>\n",
       "      <td>5.0</td>\n",
       "      <td>1</td>\n",
       "      <td>4.0</td>\n",
       "      <td>0</td>\n",
       "      <td>1</td>\n",
       "      <td>3</td>\n",
       "      <td>0.339583</td>\n",
       "      <td>62</td>\n",
       "      <td>303</td>\n",
       "    </tr>\n",
       "    <tr>\n",
       "      <th>2</th>\n",
       "      <td>1077</td>\n",
       "      <td>60.0</td>\n",
       "      <td>Some major design flaws</td>\n",
       "      <td>I had such high hopes for this dress and reall...</td>\n",
       "      <td>3.0</td>\n",
       "      <td>0</td>\n",
       "      <td>0.0</td>\n",
       "      <td>0</td>\n",
       "      <td>1</td>\n",
       "      <td>3</td>\n",
       "      <td>0.073675</td>\n",
       "      <td>98</td>\n",
       "      <td>500</td>\n",
       "    </tr>\n",
       "    <tr>\n",
       "      <th>3</th>\n",
       "      <td>1049</td>\n",
       "      <td>50.0</td>\n",
       "      <td>My favorite buy!</td>\n",
       "      <td>I love, love, love this jumpsuit. it's fun, fl...</td>\n",
       "      <td>5.0</td>\n",
       "      <td>1</td>\n",
       "      <td>0.0</td>\n",
       "      <td>1</td>\n",
       "      <td>0</td>\n",
       "      <td>13</td>\n",
       "      <td>0.550000</td>\n",
       "      <td>22</td>\n",
       "      <td>124</td>\n",
       "    </tr>\n",
       "    <tr>\n",
       "      <th>4</th>\n",
       "      <td>847</td>\n",
       "      <td>47.0</td>\n",
       "      <td>Flattering shirt</td>\n",
       "      <td>This shirt is very flattering to all due to th...</td>\n",
       "      <td>5.0</td>\n",
       "      <td>1</td>\n",
       "      <td>6.0</td>\n",
       "      <td>0</td>\n",
       "      <td>4</td>\n",
       "      <td>0</td>\n",
       "      <td>0.512891</td>\n",
       "      <td>36</td>\n",
       "      <td>192</td>\n",
       "    </tr>\n",
       "  </tbody>\n",
       "</table>\n",
       "</div>\n",
       "      <button class=\"colab-df-convert\" onclick=\"convertToInteractive('df-2767831e-879c-41bf-8212-34008fe0694e')\"\n",
       "              title=\"Convert this dataframe to an interactive table.\"\n",
       "              style=\"display:none;\">\n",
       "        \n",
       "  <svg xmlns=\"http://www.w3.org/2000/svg\" height=\"24px\"viewBox=\"0 0 24 24\"\n",
       "       width=\"24px\">\n",
       "    <path d=\"M0 0h24v24H0V0z\" fill=\"none\"/>\n",
       "    <path d=\"M18.56 5.44l.94 2.06.94-2.06 2.06-.94-2.06-.94-.94-2.06-.94 2.06-2.06.94zm-11 1L8.5 8.5l.94-2.06 2.06-.94-2.06-.94L8.5 2.5l-.94 2.06-2.06.94zm10 10l.94 2.06.94-2.06 2.06-.94-2.06-.94-.94-2.06-.94 2.06-2.06.94z\"/><path d=\"M17.41 7.96l-1.37-1.37c-.4-.4-.92-.59-1.43-.59-.52 0-1.04.2-1.43.59L10.3 9.45l-7.72 7.72c-.78.78-.78 2.05 0 2.83L4 21.41c.39.39.9.59 1.41.59.51 0 1.02-.2 1.41-.59l7.78-7.78 2.81-2.81c.8-.78.8-2.07 0-2.86zM5.41 20L4 18.59l7.72-7.72 1.47 1.35L5.41 20z\"/>\n",
       "  </svg>\n",
       "      </button>\n",
       "      \n",
       "  <style>\n",
       "    .colab-df-container {\n",
       "      display:flex;\n",
       "      flex-wrap:wrap;\n",
       "      gap: 12px;\n",
       "    }\n",
       "\n",
       "    .colab-df-convert {\n",
       "      background-color: #E8F0FE;\n",
       "      border: none;\n",
       "      border-radius: 50%;\n",
       "      cursor: pointer;\n",
       "      display: none;\n",
       "      fill: #1967D2;\n",
       "      height: 32px;\n",
       "      padding: 0 0 0 0;\n",
       "      width: 32px;\n",
       "    }\n",
       "\n",
       "    .colab-df-convert:hover {\n",
       "      background-color: #E2EBFA;\n",
       "      box-shadow: 0px 1px 2px rgba(60, 64, 67, 0.3), 0px 1px 3px 1px rgba(60, 64, 67, 0.15);\n",
       "      fill: #174EA6;\n",
       "    }\n",
       "\n",
       "    [theme=dark] .colab-df-convert {\n",
       "      background-color: #3B4455;\n",
       "      fill: #D2E3FC;\n",
       "    }\n",
       "\n",
       "    [theme=dark] .colab-df-convert:hover {\n",
       "      background-color: #434B5C;\n",
       "      box-shadow: 0px 1px 3px 1px rgba(0, 0, 0, 0.15);\n",
       "      filter: drop-shadow(0px 1px 2px rgba(0, 0, 0, 0.3));\n",
       "      fill: #FFFFFF;\n",
       "    }\n",
       "  </style>\n",
       "\n",
       "      <script>\n",
       "        const buttonEl =\n",
       "          document.querySelector('#df-2767831e-879c-41bf-8212-34008fe0694e button.colab-df-convert');\n",
       "        buttonEl.style.display =\n",
       "          google.colab.kernel.accessAllowed ? 'block' : 'none';\n",
       "\n",
       "        async function convertToInteractive(key) {\n",
       "          const element = document.querySelector('#df-2767831e-879c-41bf-8212-34008fe0694e');\n",
       "          const dataTable =\n",
       "            await google.colab.kernel.invokeFunction('convertToInteractive',\n",
       "                                                     [key], {});\n",
       "          if (!dataTable) return;\n",
       "\n",
       "          const docLinkHtml = 'Like what you see? Visit the ' +\n",
       "            '<a target=\"_blank\" href=https://colab.research.google.com/notebooks/data_table.ipynb>data table notebook</a>'\n",
       "            + ' to learn more about interactive tables.';\n",
       "          element.innerHTML = '';\n",
       "          dataTable['output_type'] = 'display_data';\n",
       "          await google.colab.output.renderOutput(dataTable, element);\n",
       "          const docLink = document.createElement('div');\n",
       "          docLink.innerHTML = docLinkHtml;\n",
       "          element.appendChild(docLink);\n",
       "        }\n",
       "      </script>\n",
       "    </div>\n",
       "  </div>\n",
       "  "
      ],
      "text/plain": [
       "   Clothing ID   Age                    Title  \\\n",
       "0          767  33.0                      NaN   \n",
       "1         1080  34.0                      NaN   \n",
       "2         1077  60.0  Some major design flaws   \n",
       "3         1049  50.0         My favorite buy!   \n",
       "4          847  47.0         Flattering shirt   \n",
       "\n",
       "                                         Review Text  Rating  Recommended IND  \\\n",
       "0  Absolutely wonderful - silky and sexy and comf...     4.0                1   \n",
       "1  Love this dress!  it's sooo pretty.  i happene...     5.0                1   \n",
       "2  I had such high hopes for this dress and reall...     3.0                0   \n",
       "3  I love, love, love this jumpsuit. it's fun, fl...     5.0                1   \n",
       "4  This shirt is very flattering to all due to th...     5.0                1   \n",
       "\n",
       "   Positive Feedback Count  Division Name  Department Name  Class Name  \\\n",
       "0                      0.0              2                2           5   \n",
       "1                      4.0              0                1           3   \n",
       "2                      0.0              0                1           3   \n",
       "3                      0.0              1                0          13   \n",
       "4                      6.0              0                4           0   \n",
       "\n",
       "   Polarity  word_count  review_len  \n",
       "0  0.633333           8          53  \n",
       "1  0.339583          62         303  \n",
       "2  0.073675          98         500  \n",
       "3  0.550000          22         124  \n",
       "4  0.512891          36         192  "
      ]
     },
     "execution_count": 17,
     "metadata": {},
     "output_type": "execute_result"
    }
   ],
   "source": [
    "# Cast the numerical features to floats.\n",
    "data_df[\"Age\"] = data_df[\"Age\"].astype('float')\n",
    "data_df[\"Rating\"] = data_df[\"Rating\"].astype('float')\n",
    "data_df[\"Positive Feedback Count\"] = data_df[\"Positive Feedback Count\"].astype('float')\n",
    "\n",
    "data_df.head()"
   ]
  },
  {
   "cell_type": "code",
   "execution_count": 18,
   "id": "15b2a526-15ea-490e-befe-59b6b275c5ac",
   "metadata": {
    "colab": {
     "base_uri": "https://localhost:8080/",
     "height": 206
    },
    "id": "15b2a526-15ea-490e-befe-59b6b275c5ac",
    "outputId": "b8385e83-1eef-4bfa-d0ac-b4664a0745c3"
   },
   "outputs": [
    {
     "data": {
      "text/html": [
       "\n",
       "  <div id=\"df-eedb7cbc-9c33-446d-ad48-2b6036762fef\">\n",
       "    <div class=\"colab-df-container\">\n",
       "      <div>\n",
       "<style scoped>\n",
       "    .dataframe tbody tr th:only-of-type {\n",
       "        vertical-align: middle;\n",
       "    }\n",
       "\n",
       "    .dataframe tbody tr th {\n",
       "        vertical-align: top;\n",
       "    }\n",
       "\n",
       "    .dataframe thead th {\n",
       "        text-align: right;\n",
       "    }\n",
       "</style>\n",
       "<table border=\"1\" class=\"dataframe\">\n",
       "  <thead>\n",
       "    <tr style=\"text-align: right;\">\n",
       "      <th></th>\n",
       "      <th>Clothing ID</th>\n",
       "      <th>Age</th>\n",
       "      <th>Rating</th>\n",
       "      <th>Positive Feedback Count</th>\n",
       "      <th>Division Name</th>\n",
       "      <th>Department Name</th>\n",
       "      <th>Class Name</th>\n",
       "    </tr>\n",
       "  </thead>\n",
       "  <tbody>\n",
       "    <tr>\n",
       "      <th>3511</th>\n",
       "      <td>872</td>\n",
       "      <td>39.0</td>\n",
       "      <td>4.0</td>\n",
       "      <td>0.0</td>\n",
       "      <td>0</td>\n",
       "      <td>4</td>\n",
       "      <td>8</td>\n",
       "    </tr>\n",
       "    <tr>\n",
       "      <th>8428</th>\n",
       "      <td>1054</td>\n",
       "      <td>36.0</td>\n",
       "      <td>5.0</td>\n",
       "      <td>0.0</td>\n",
       "      <td>0</td>\n",
       "      <td>0</td>\n",
       "      <td>13</td>\n",
       "    </tr>\n",
       "    <tr>\n",
       "      <th>21560</th>\n",
       "      <td>864</td>\n",
       "      <td>29.0</td>\n",
       "      <td>5.0</td>\n",
       "      <td>7.0</td>\n",
       "      <td>0</td>\n",
       "      <td>4</td>\n",
       "      <td>8</td>\n",
       "    </tr>\n",
       "    <tr>\n",
       "      <th>5535</th>\n",
       "      <td>1080</td>\n",
       "      <td>39.0</td>\n",
       "      <td>4.0</td>\n",
       "      <td>2.0</td>\n",
       "      <td>0</td>\n",
       "      <td>1</td>\n",
       "      <td>3</td>\n",
       "    </tr>\n",
       "    <tr>\n",
       "      <th>20285</th>\n",
       "      <td>828</td>\n",
       "      <td>33.0</td>\n",
       "      <td>4.0</td>\n",
       "      <td>0.0</td>\n",
       "      <td>0</td>\n",
       "      <td>4</td>\n",
       "      <td>0</td>\n",
       "    </tr>\n",
       "  </tbody>\n",
       "</table>\n",
       "</div>\n",
       "      <button class=\"colab-df-convert\" onclick=\"convertToInteractive('df-eedb7cbc-9c33-446d-ad48-2b6036762fef')\"\n",
       "              title=\"Convert this dataframe to an interactive table.\"\n",
       "              style=\"display:none;\">\n",
       "        \n",
       "  <svg xmlns=\"http://www.w3.org/2000/svg\" height=\"24px\"viewBox=\"0 0 24 24\"\n",
       "       width=\"24px\">\n",
       "    <path d=\"M0 0h24v24H0V0z\" fill=\"none\"/>\n",
       "    <path d=\"M18.56 5.44l.94 2.06.94-2.06 2.06-.94-2.06-.94-.94-2.06-.94 2.06-2.06.94zm-11 1L8.5 8.5l.94-2.06 2.06-.94-2.06-.94L8.5 2.5l-.94 2.06-2.06.94zm10 10l.94 2.06.94-2.06 2.06-.94-2.06-.94-.94-2.06-.94 2.06-2.06.94z\"/><path d=\"M17.41 7.96l-1.37-1.37c-.4-.4-.92-.59-1.43-.59-.52 0-1.04.2-1.43.59L10.3 9.45l-7.72 7.72c-.78.78-.78 2.05 0 2.83L4 21.41c.39.39.9.59 1.41.59.51 0 1.02-.2 1.41-.59l7.78-7.78 2.81-2.81c.8-.78.8-2.07 0-2.86zM5.41 20L4 18.59l7.72-7.72 1.47 1.35L5.41 20z\"/>\n",
       "  </svg>\n",
       "      </button>\n",
       "      \n",
       "  <style>\n",
       "    .colab-df-container {\n",
       "      display:flex;\n",
       "      flex-wrap:wrap;\n",
       "      gap: 12px;\n",
       "    }\n",
       "\n",
       "    .colab-df-convert {\n",
       "      background-color: #E8F0FE;\n",
       "      border: none;\n",
       "      border-radius: 50%;\n",
       "      cursor: pointer;\n",
       "      display: none;\n",
       "      fill: #1967D2;\n",
       "      height: 32px;\n",
       "      padding: 0 0 0 0;\n",
       "      width: 32px;\n",
       "    }\n",
       "\n",
       "    .colab-df-convert:hover {\n",
       "      background-color: #E2EBFA;\n",
       "      box-shadow: 0px 1px 2px rgba(60, 64, 67, 0.3), 0px 1px 3px 1px rgba(60, 64, 67, 0.15);\n",
       "      fill: #174EA6;\n",
       "    }\n",
       "\n",
       "    [theme=dark] .colab-df-convert {\n",
       "      background-color: #3B4455;\n",
       "      fill: #D2E3FC;\n",
       "    }\n",
       "\n",
       "    [theme=dark] .colab-df-convert:hover {\n",
       "      background-color: #434B5C;\n",
       "      box-shadow: 0px 1px 3px 1px rgba(0, 0, 0, 0.15);\n",
       "      filter: drop-shadow(0px 1px 2px rgba(0, 0, 0, 0.3));\n",
       "      fill: #FFFFFF;\n",
       "    }\n",
       "  </style>\n",
       "\n",
       "      <script>\n",
       "        const buttonEl =\n",
       "          document.querySelector('#df-eedb7cbc-9c33-446d-ad48-2b6036762fef button.colab-df-convert');\n",
       "        buttonEl.style.display =\n",
       "          google.colab.kernel.accessAllowed ? 'block' : 'none';\n",
       "\n",
       "        async function convertToInteractive(key) {\n",
       "          const element = document.querySelector('#df-eedb7cbc-9c33-446d-ad48-2b6036762fef');\n",
       "          const dataTable =\n",
       "            await google.colab.kernel.invokeFunction('convertToInteractive',\n",
       "                                                     [key], {});\n",
       "          if (!dataTable) return;\n",
       "\n",
       "          const docLinkHtml = 'Like what you see? Visit the ' +\n",
       "            '<a target=\"_blank\" href=https://colab.research.google.com/notebooks/data_table.ipynb>data table notebook</a>'\n",
       "            + ' to learn more about interactive tables.';\n",
       "          element.innerHTML = '';\n",
       "          dataTable['output_type'] = 'display_data';\n",
       "          await google.colab.output.renderOutput(dataTable, element);\n",
       "          const docLink = document.createElement('div');\n",
       "          docLink.innerHTML = docLinkHtml;\n",
       "          element.appendChild(docLink);\n",
       "        }\n",
       "      </script>\n",
       "    </div>\n",
       "  </div>\n",
       "  "
      ],
      "text/plain": [
       "       Clothing ID   Age  Rating  Positive Feedback Count  Division Name  \\\n",
       "3511           872  39.0     4.0                      0.0              0   \n",
       "8428          1054  36.0     5.0                      0.0              0   \n",
       "21560          864  29.0     5.0                      7.0              0   \n",
       "5535          1080  39.0     4.0                      2.0              0   \n",
       "20285          828  33.0     4.0                      0.0              0   \n",
       "\n",
       "       Department Name  Class Name  \n",
       "3511                 4           8  \n",
       "8428                 0          13  \n",
       "21560                4           8  \n",
       "5535                 1           3  \n",
       "20285                4           0  "
      ]
     },
     "execution_count": 18,
     "metadata": {},
     "output_type": "execute_result"
    }
   ],
   "source": [
    "# Retrieve the labels for each of the splits.\n",
    "y_train = data_df[\"Recommended IND\"].iloc[train_idx]\n",
    "y_val = data_df[\"Recommended IND\"].iloc[val_idx]\n",
    "y_test = data_df[\"Recommended IND\"].iloc[test_idx]\n",
    "\n",
    "# Before selecting the inputs, remove text columns and the labels.\n",
    "data_df = data_df.drop(columns=[\"Title\", \"Review Text\", \"Recommended IND\",\"Polarity\",\"word_count\",\"review_len\"])\n",
    "\n",
    "# Select the inputs for the different splits.\n",
    "X_train = data_df.iloc[train_idx]\n",
    "X_val = data_df.iloc[val_idx]\n",
    "X_test = data_df.iloc[test_idx]\n",
    "\n",
    "X_train.head()"
   ]
  },
  {
   "cell_type": "markdown",
   "id": "107d8336-9285-41bd-b5d8-ae344dd225a8",
   "metadata": {
    "id": "107d8336-9285-41bd-b5d8-ae344dd225a8",
    "tags": []
   },
   "source": [
    "### <span style=\"color:blue\">XG-Boost</span>"
   ]
  },
  {
   "cell_type": "markdown",
   "id": "6b0750a2-597f-49a6-bcf7-79657ff7bee7",
   "metadata": {
    "id": "6b0750a2-597f-49a6-bcf7-79657ff7bee7"
   },
   "source": [
    "Cuando se trata de tipos de datos mixtos como este, los árboles de decisión son la solución estándar, siendo los \"árboles de decisión potenciados por gradiente\" (XGBoost) el modelo más común.\n",
    "\n",
    "En un árbol de decisión, la decisión de clasificación se divide en muchas decisiones más pequeñas (en cada nodo del árbol). Cada una de estas decisiones más pequeñas puede operar en un tipo de datos diferente, lo que permite una combinación de tipos de datos en el clasificador.\n",
    "\n",
    "Sin embargo, un árbol de decisión no puede aceptar texto sin formato. Entonces, usemos un árbol de decisiones para hacer nuestras predicciones basadas solo en las características que no son de texto en este conjunto de datos.\n",
    "\n",
    "Para iniciar con XG-Boost, recomendamos [How to Develop Your First XGBoost Model in Python](https://machinelearningmastery.com/develop-first-xgboost-model-python-scikit-learn/)."
   ]
  },
  {
   "cell_type": "code",
   "execution_count": 19,
   "id": "01663cc4-7bec-4fe5-a2c7-a6944d00c1a4",
   "metadata": {
    "colab": {
     "base_uri": "https://localhost:8080/"
    },
    "id": "01663cc4-7bec-4fe5-a2c7-a6944d00c1a4",
    "outputId": "a6cae0dc-3fc1-480d-8052-e310cc769e08"
   },
   "outputs": [
    {
     "name": "stdout",
     "output_type": "stream",
     "text": [
      "Usando XGBoost en features no-textuales...\n",
      "\n",
      "F1: 0.952\n"
     ]
    }
   ],
   "source": [
    "from xgboost import XGBClassifier\n",
    "\n",
    "# Create an instance of the classifier\n",
    "model = XGBClassifier()\n",
    "\n",
    "# Train it on the training set.\n",
    "model.fit(X_train, y_train)\n",
    "\n",
    "# Use the trained model to predict the labels for the test set.\n",
    "predictions = model.predict(X_test)\n",
    "\n",
    "# Calculate the F1 score.\n",
    "f1 = f1_score(y_true = y_test,\n",
    "              y_pred = predictions)\n",
    "\n",
    "print('Usando XGBoost en features no-textuales...')\n",
    "print('\\nF1: %.3f' % f1)"
   ]
  },
  {
   "cell_type": "code",
   "execution_count": 20,
   "id": "5170e78d-849d-4fdc-bb27-1b5494acada5",
   "metadata": {
    "colab": {
     "base_uri": "https://localhost:8080/",
     "height": 377
    },
    "id": "5170e78d-849d-4fdc-bb27-1b5494acada5",
    "outputId": "e004d20d-be57-4a28-9104-ec23ef8d70c3"
   },
   "outputs": [
    {
     "data": {
      "image/png": "[encoded data removed]",
      "text/plain": [
       "<Figure size 432x288 with 1 Axes>"
      ]
     },
     "metadata": {
      "needs_background": "light"
     },
     "output_type": "display_data"
    }
   ],
   "source": [
    "from xgboost import plot_importance\n",
    "from matplotlib import pyplot\n",
    "\n",
    "feat_gains = model.get_booster().get_score(importance_type=\"gain\")\n",
    "\n",
    "pyplot.bar(feat_gains.keys(), feat_gains.values())\n",
    "pyplot.xticks(rotation = 90);"
   ]
  },
  {
   "cell_type": "markdown",
   "id": "e01be4da-2e6f-4164-9107-c30112d96cd9",
   "metadata": {
    "id": "e01be4da-2e6f-4164-9107-c30112d96cd9"
   },
   "source": [
    "Observemos que el modelo le da mucho peso al \"Rating\", pero esto sugiere que las otras características no son particularmente útiles.\n",
    "\n",
    "Otro enfoque para este análisis sería simplemente descartar características individuales para ver cuánto afecta cada una a la precisión."
   ]
  },
  {
   "cell_type": "markdown",
   "id": "c29e7693-fa20-41e7-b6dc-9acd106560b6",
   "metadata": {
    "id": "c29e7693-fa20-41e7-b6dc-9acd106560b6"
   },
   "source": [
    "[[Volver]](#Contenido)"
   ]
  },
  {
   "cell_type": "markdown",
   "id": "b843a8ee-7eaa-415a-9c99-a0d5a3ca0f3a",
   "metadata": {
    "id": "b843a8ee-7eaa-415a-9c99-a0d5a3ca0f3a",
    "tags": []
   },
   "source": [
    "### <span style=\"color:blue\">BERT</span>"
   ]
  },
  {
   "cell_type": "markdown",
   "id": "6a9a89c2-923b-4af9-ac25-4b61c8dfd391",
   "metadata": {
    "id": "6a9a89c2-923b-4af9-ac25-4b61c8dfd391"
   },
   "source": [
    "Para nuestra línea de base final, podemos intentar aplicar BERT **solo al texto** de revisión e ignorar todas las demás funciones.\n",
    "\n",
    "Para ejecutar este experimento, puede modificar la Sección 3.1. para usar simplemente el texto de revisión.\n",
    "\n",
    "**Reto: Utilice BERT para el proceso de clasificación utilizando el Trainer de HuggingFace.**\n",
    "\n",
    "**Pista: La métrica F1 debe estar cerca a 0,945.**\n",
    "\n",
    "Esa es una buena puntuación, pero claramente lo haríamos mejor si pudiéramos incorporar las características que no son de texto."
   ]
  },
  {
   "cell_type": "markdown",
   "id": "5493acaf-b840-46f5-a76f-897092fc4c69",
   "metadata": {
    "id": "5493acaf-b840-46f5-a76f-897092fc4c69"
   },
   "source": [
    "[[Volver]](#Contenido)"
   ]
  },
  {
   "cell_type": "markdown",
   "id": "3a7d7abd-a976-4c8f-8b18-e2dc0edd3f65",
   "metadata": {
    "id": "3a7d7abd-a976-4c8f-8b18-e2dc0edd3f65",
    "tags": []
   },
   "source": [
    "### <span style=\"color:blue\">BERT con todos los Features</span>"
   ]
  },
  {
   "cell_type": "markdown",
   "id": "1c71d615-0ccc-41ab-843b-c4751fd84ca5",
   "metadata": {
    "id": "1c71d615-0ccc-41ab-843b-c4751fd84ca5"
   },
   "source": [
    "¡La forma más sencilla de manejar estas características que no son de texto es convertirlas en texto y concatenarlas con el texto de revisión!\n",
    "\n",
    "Pensé que BERT haría un mejor uso de estas funciones adicionales dado un contexto adicional... \n",
    "\n",
    "Por ejemplo, para manejar el feature \"Age\", en lugar de simplemente anteponer el número \"33\", antepongamos el texto \"I am 33 years old.\""
   ]
  },
  {
   "cell_type": "code",
   "execution_count": 21,
   "id": "9e5cee9a-6d78-40a0-bd2c-78e4ac5f1ad9",
   "metadata": {
    "colab": {
     "base_uri": "https://localhost:8080/"
    },
    "id": "9e5cee9a-6d78-40a0-bd2c-78e4ac5f1ad9",
    "outputId": "823f825c-f8f2-4f78-e654-9cb9ff72249e"
   },
   "outputs": [
    {
     "name": "stdout",
     "output_type": "stream",
     "text": [
      "Combinando Features en los textos...\n",
      "Terminado.\n",
      "Dataset contains 23,486 samples.\n"
     ]
    }
   ],
   "source": [
    "# This will hold all of the dataset samples, as strings.\n",
    "sen_w_feats = []\n",
    "\n",
    "# The labels for the samples.\n",
    "labels = []\n",
    "\n",
    "# First, reload the dataset to undo the transformations we applied for XGBoost.\n",
    "data_df = pd.read_csv('Womens Clothing E-Commerce Reviews.csv', index_col=0)\n",
    "\n",
    "# Some of the reviews are missing either a \"Title\" or \"Review Text\", so we'll \n",
    "# replace the NaN values with empty string.\n",
    "data_df = data_df.fillna(\"\")\n",
    "\n",
    "\n",
    "print('Combinando Features en los textos...')\n",
    "\n",
    "# For each of the samples...\n",
    "for index, row in data_df.iterrows():\n",
    "\n",
    "    # Piece it together...    \n",
    "    combined = \"\"\n",
    "    \n",
    "    #combined += \"The ID of this item is {:}, \".format(row[\"Clothing ID\"])\n",
    "    combined += \"This item comes from the {:} department and {:} division, \" \\\n",
    "                \"and is classified under {:}. \".format(row[\"Department Name\"], \n",
    "                                                       row[\"Division Name\"], \n",
    "                                                       row[\"Class Name\"])\n",
    "    \n",
    "    combined += \"I am {:} years old. \".format(row[\"Age\"])\n",
    "    \n",
    "    combined += \"I rate this item {:} out of 5 stars. \".format(row[\"Rating\"])\n",
    "    \n",
    "    # Not all samples have titles.\n",
    "    if not row[\"Title\"] == \"\":\n",
    "        combined += row[\"Title\"] + \". \"\n",
    "    \n",
    "    # Finally, append the review the text!\n",
    "    combined += row[\"Review Text\"]\n",
    "    \n",
    "    # Add the combined text to the list.\n",
    "    sen_w_feats.append(combined)\n",
    "\n",
    "    # Also record the sample's label.\n",
    "    labels.append(row[\"Recommended IND\"])\n",
    "\n",
    "print('Terminado.')\n",
    "\n",
    "print('Dataset contains {:,} samples.'.format(len(sen_w_feats)))"
   ]
  },
  {
   "cell_type": "markdown",
   "id": "05f6c247-041b-44dd-9fc0-fb6766ac41fa",
   "metadata": {
    "id": "05f6c247-041b-44dd-9fc0-fb6766ac41fa"
   },
   "source": [
    "Veamos cómo queda uno de los ejemplos modificados:"
   ]
  },
  {
   "cell_type": "code",
   "execution_count": 22,
   "id": "87a5ac19-5566-40c9-b9a4-254652a02a5e",
   "metadata": {
    "colab": {
     "base_uri": "https://localhost:8080/"
    },
    "id": "87a5ac19-5566-40c9-b9a4-254652a02a5e",
    "outputId": "a6aee998-8db8-49d2-8ed5-cf4b1b43138c"
   },
   "outputs": [
    {
     "name": "stdout",
     "output_type": "stream",
     "text": [
      "Antes:\n",
      "\n",
      " Love this dress!  it's sooo pretty.  i happened to find it in a store, and i'm\n",
      "glad i did bc i never would have ordered it online bc it's petite.  i bought a\n",
      "petite and am 5'8\".  i love the length on me- hits just a little below the knee.\n",
      "would definitely be a true midi on someone who is truly petite.\n",
      "\n",
      "Despues:\n",
      "\n",
      " This item comes from the Dresses department and General division, and is\n",
      "classified under Dresses. I am 34 years old. I rate this item 5 out of 5 stars.\n",
      "Love this dress!  it's sooo pretty.  i happened to find it in a store, and i'm\n",
      "glad i did bc i never would have ordered it online bc it's petite.  i bought a\n",
      "petite and am 5'8\".  i love the length on me- hits just a little below the knee.\n",
      "would definitely be a true midi on someone who is truly petite.\n"
     ]
    }
   ],
   "source": [
    "import textwrap\n",
    "\n",
    "# Wrap text to 80 characters.\n",
    "wrapper = textwrap.TextWrapper(width=80) \n",
    "\n",
    "print(\"Antes:\\n\\n\",wrapper.fill(data_df['Review Text'].iloc[1]),end='\\n\\n')\n",
    "print(\"Despues:\\n\\n\",wrapper.fill(sen_w_feats[1]))"
   ]
  },
  {
   "cell_type": "markdown",
   "id": "4bb7a1c1-76d4-47f9-8f45-89d5b6ed6918",
   "metadata": {
    "id": "4bb7a1c1-76d4-47f9-8f45-89d5b6ed6918"
   },
   "source": [
    "[[Volver]](#Contenido)"
   ]
  },
  {
   "cell_type": "markdown",
   "id": "6d7802a2-b223-473f-86cc-ad54265fc24e",
   "metadata": {
    "id": "6d7802a2-b223-473f-86cc-ad54265fc24e",
    "tags": []
   },
   "source": [
    "## <span style=\"color:blue\">Configurando Pytorch</span>"
   ]
  },
  {
   "cell_type": "markdown",
   "id": "05e911c5-fdf0-49ce-a9c1-6dc636d5be09",
   "metadata": {
    "id": "05e911c5-fdf0-49ce-a9c1-6dc636d5be09"
   },
   "source": [
    "Usando las facilidades de las GPU podemos acelerar el proceso de entrenamiento:"
   ]
  },
  {
   "cell_type": "code",
   "execution_count": 23,
   "id": "823399ef-d750-4d2c-94fc-84f3832368fa",
   "metadata": {
    "colab": {
     "base_uri": "https://localhost:8080/"
    },
    "id": "823399ef-d750-4d2c-94fc-84f3832368fa",
    "outputId": "8e822f18-d750-4c4e-dad7-6bd21a2a383f"
   },
   "outputs": [
    {
     "name": "stdout",
     "output_type": "stream",
     "text": [
      "There are 1 GPU(s) available.\n",
      "We will use the GPU: Tesla K80\n"
     ]
    }
   ],
   "source": [
    "import torch\n",
    "\n",
    "# If there's a GPU available...\n",
    "if torch.cuda.is_available():    \n",
    "\n",
    "    # Tell PyTorch to use the GPU.    \n",
    "    device = torch.device(\"cuda\")\n",
    "\n",
    "    print('There are %d GPU(s) available.' % torch.cuda.device_count())\n",
    "\n",
    "    print('We will use the GPU:', torch.cuda.get_device_name(0))\n",
    "\n",
    "# If not...\n",
    "else:\n",
    "    print('No GPU available, using the CPU instead.')\n",
    "    device = torch.device(\"cpu\")"
   ]
  },
  {
   "cell_type": "markdown",
   "id": "f2291bb3-01b2-4d0c-b0f1-00bbc00a57ca",
   "metadata": {
    "id": "f2291bb3-01b2-4d0c-b0f1-00bbc00a57ca"
   },
   "source": [
    "Carguemos un modelo base de BERT. \n",
    "\n",
    "En teoría, modelos posteriores a BERT deberían dar mejores resultados.\n",
    "\n",
    "Intente usando RoBERTa o ERNIE por ejemplo, para ver mejores resultados."
   ]
  },
  {
   "cell_type": "code",
   "execution_count": null,
   "id": "DiimvaCxiLi2",
   "metadata": {
    "id": "DiimvaCxiLi2"
   },
   "outputs": [],
   "source": [
    "#!pip install transformers"
   ]
  },
  {
   "cell_type": "code",
   "execution_count": 26,
   "id": "b851336e-becf-4657-997f-2da533f052aa",
   "metadata": {
    "colab": {
     "base_uri": "https://localhost:8080/",
     "height": 131,
     "referenced_widgets": [
      "653dca4d90c84edba01bd29050048002",
      "f71661087b694da58c0160a7456bcbcd",
      "4aeab78d06c94a3c989433ae29f06470",
      "2529f9010a8d420ab445ec5acf8e0d54",
      "bd84bf8b28994e75a996fd40083645d5",
      "9203ac2365ea44dba4b19baf4a363220",
      "6744483f6dc04a3299e5034acb46f738",
      "82df7977a29d413695a9d392c657462d",
      "e27e95319a4b4c52b29b420c52470bd7",
      "d5bbbb4424b64f8386af1130ce725b1c",
      "142a08fc86a945c799ad74f315370802",
      "84d4ee4fdecf421db8da6d7156f1ad2d",
      "92fd7e5e0121498ea546723df927a177",
      "64cd86df503b46739ae5f12d51cee55e",
      "d379a10d7e584640883eaf59b61e07d0",
      "ef8f674b990a471f8d733b5301e18d98",
      "a0bdbe4b1c624091800df30b63a32a26",
      "1d12e9a16a354eaaa591e0992b8fe6d2",
      "777ef168b4614dd9a785dd974c80171a",
      "4ae1546c3163493fb2da0325ec9298b3",
      "cf71bb0a262145e28ab5921d64d7d39a",
      "94e2f50f1db24a59a798863fe058ac33",
      "24db717962bc472eb32136b3f427a831",
      "9fbce265a4ff45b285a156916df65739",
      "1963ea8fe402458892ac83fa5fe70928",
      "a489b98360d84e6faeb7b0fa0bb12e8c",
      "dc0da4216a8746e9a4c41e55d94d1bfc",
      "dfe73e236fd340e4943ad80bcc2d1e2c",
      "035c632bf8d34d82a7cb45cb573d48cf",
      "f583a98f983b46fa8559aacf4d2a3d9b",
      "1f4614b8030442f98ba84e25150b1a27",
      "afaf49babe8d4a7d87608a620f177df0",
      "8038f22f204d4e1eb05e46e05953104a"
     ]
    },
    "id": "b851336e-becf-4657-997f-2da533f052aa",
    "outputId": "d680de6f-d8ea-43ca-c3b2-c21524075eb8"
   },
   "outputs": [
    {
     "name": "stdout",
     "output_type": "stream",
     "text": [
      "Loading BERT tokenizer...\n"
     ]
    },
    {
     "data": {
      "application/vnd.jupyter.widget-view+json": {
       "model_id": "653dca4d90c84edba01bd29050048002",
       "version_major": 2,
       "version_minor": 0
      },
      "text/plain": [
       "Downloading:   0%|          | 0.00/226k [00:00<?, ?B/s]"
      ]
     },
     "metadata": {},
     "output_type": "display_data"
    },
    {
     "data": {
      "application/vnd.jupyter.widget-view+json": {
       "model_id": "84d4ee4fdecf421db8da6d7156f1ad2d",
       "version_major": 2,
       "version_minor": 0
      },
      "text/plain": [
       "Downloading:   0%|          | 0.00/28.0 [00:00<?, ?B/s]"
      ]
     },
     "metadata": {},
     "output_type": "display_data"
    },
    {
     "data": {
      "application/vnd.jupyter.widget-view+json": {
       "model_id": "24db717962bc472eb32136b3f427a831",
       "version_major": 2,
       "version_minor": 0
      },
      "text/plain": [
       "Downloading:   0%|          | 0.00/570 [00:00<?, ?B/s]"
      ]
     },
     "metadata": {},
     "output_type": "display_data"
    }
   ],
   "source": [
    "from transformers import BertTokenizer\n",
    "\n",
    "# Load the BERT tokenizer.\n",
    "print('Loading BERT tokenizer...')\n",
    "tokenizer = BertTokenizer.from_pretrained('bert-base-uncased', do_lower_case=True)"
   ]
  },
  {
   "cell_type": "markdown",
   "id": "504f42c6-587b-4903-a2ca-1e1303c8fc65",
   "metadata": {
    "id": "504f42c6-587b-4903-a2ca-1e1303c8fc65"
   },
   "source": [
    "Haremos un FIne-Tuning de BERT para la tarea de clasificación binaria:"
   ]
  },
  {
   "cell_type": "code",
   "execution_count": 27,
   "id": "232d7c27-8c23-40ba-921c-fdf65cc9d02e",
   "metadata": {
    "colab": {
     "base_uri": "https://localhost:8080/",
     "height": 158,
     "referenced_widgets": [
      "d065fa1ac906488880b38d6608efa341",
      "49bee60d18f44440b12632cd6a98b295",
      "8ccda71132be42cab45c2075425dafc0",
      "8c7306c7f7ef44a69753490d0e903fb2",
      "724fee038a774dddbd6852cdb829a169",
      "3f23afc9c8cb4de68de1fa3a0fe0ec18",
      "38cfbf3839084fce982f5b1a74b9ef59",
      "c30dc4d9446d47a78c13772fc7903a89",
      "aa89bcd9afe14b73bb85c5b66d829ead",
      "e1cf5ad9887d442192a59374f43635cb",
      "a8462fe82f414bbf8689d14250be83f0"
     ]
    },
    "id": "232d7c27-8c23-40ba-921c-fdf65cc9d02e",
    "outputId": "3a9f741d-d6b0-4138-82f6-9edd8c5ab3a6"
   },
   "outputs": [
    {
     "data": {
      "application/vnd.jupyter.widget-view+json": {
       "model_id": "d065fa1ac906488880b38d6608efa341",
       "version_major": 2,
       "version_minor": 0
      },
      "text/plain": [
       "Downloading:   0%|          | 0.00/420M [00:00<?, ?B/s]"
      ]
     },
     "metadata": {},
     "output_type": "display_data"
    },
    {
     "name": "stderr",
     "output_type": "stream",
     "text": [
      "Some weights of the model checkpoint at bert-base-uncased were not used when initializing BertForSequenceClassification: ['cls.predictions.transform.LayerNorm.bias', 'cls.predictions.decoder.weight', 'cls.seq_relationship.bias', 'cls.predictions.transform.dense.weight', 'cls.predictions.transform.dense.bias', 'cls.seq_relationship.weight', 'cls.predictions.bias', 'cls.predictions.transform.LayerNorm.weight']\n",
      "- This IS expected if you are initializing BertForSequenceClassification from the checkpoint of a model trained on another task or with another architecture (e.g. initializing a BertForSequenceClassification model from a BertForPreTraining model).\n",
      "- This IS NOT expected if you are initializing BertForSequenceClassification from the checkpoint of a model that you expect to be exactly identical (initializing a BertForSequenceClassification model from a BertForSequenceClassification model).\n",
      "Some weights of BertForSequenceClassification were not initialized from the model checkpoint at bert-base-uncased and are newly initialized: ['classifier.bias', 'classifier.weight']\n",
      "You should probably TRAIN this model on a down-stream task to be able to use it for predictions and inference.\n"
     ]
    }
   ],
   "source": [
    "from transformers import BertForSequenceClassification\n",
    "\n",
    "# Load BertForSequenceClassification, the pretrained BERT model with a single \n",
    "# linear classification layer on top. \n",
    "model = BertForSequenceClassification.from_pretrained(\n",
    "    \"bert-base-uncased\", # Use the 12-layer BERT model, with an uncased vocab.\n",
    "    num_labels = 2, # The number of output labels--2 for binary classification.\n",
    ")\n",
    "\n",
    "# Tell pytorch to run this model on the GPU.\n",
    "\n",
    "desc = model.cuda()"
   ]
  },
  {
   "cell_type": "markdown",
   "id": "bfd807b3-431d-4a42-999d-d29574a2f54a",
   "metadata": {
    "id": "bfd807b3-431d-4a42-999d-d29574a2f54a"
   },
   "source": [
    "Para fines de ajuste, los autores del BERT recomiendan elegir entre los siguientes valores (del Apéndice A.3 del paper de [BERT](https://arxiv.org/pdf/1810.04805.pdf)):\n",
    "\n",
    "- Batch size: 16, 32\n",
    "- Learning rate (Adam): 5e-5, 3e-5, 2e-5\n",
    "- Number of epochs: 2, 3, 4"
   ]
  },
  {
   "cell_type": "code",
   "execution_count": 28,
   "id": "c23bd19b-2d5a-4175-9630-1cb37ce139a9",
   "metadata": {
    "id": "c23bd19b-2d5a-4175-9630-1cb37ce139a9"
   },
   "outputs": [],
   "source": [
    "# Larger batch sizes tend to be better, and we can fit this in memory.\n",
    "batch_size = 32\n",
    "\n",
    "# I used a smaller learning rate to combat over-fitting that I was seeing in the\n",
    "# validation loss. I could probably try even smaller.\n",
    "learning_rate = 1e-5\n",
    "\n",
    "# Number of training epochs. \n",
    "epochs = 4"
   ]
  },
  {
   "cell_type": "markdown",
   "id": "cbc289ce-2d1e-4ae8-8e92-a1e46abee955",
   "metadata": {
    "id": "cbc289ce-2d1e-4ae8-8e92-a1e46abee955"
   },
   "source": [
    "Otro parámetro clave es la longitud máxima de secuencia, a la que truncamos o rellenamos todas nuestras muestras. \n",
    "\n",
    "Establecer esto en un valor más alto requiere más memoria y ralentiza el entrenamiento.\n",
    "\n",
    "Haremos un pase sobre el conjunto de datos para encontrar la secuencia más larga y usaremos esto para informar nuestra elección."
   ]
  },
  {
   "cell_type": "code",
   "execution_count": 29,
   "id": "4411e9c3-0dc8-41cc-8052-15e0b1ad6a48",
   "metadata": {
    "colab": {
     "base_uri": "https://localhost:8080/"
    },
    "id": "4411e9c3-0dc8-41cc-8052-15e0b1ad6a48",
    "outputId": "92d2b102-ac52-4de4-debf-f730899c2ce8"
   },
   "outputs": [
    {
     "name": "stdout",
     "output_type": "stream",
     "text": [
      "Max sentence length:  204\n"
     ]
    }
   ],
   "source": [
    "max_len = 0\n",
    "\n",
    "# For every sentence...\n",
    "for sent in sen_w_feats:\n",
    "\n",
    "    # Tokenize the text and add `[CLS]` and `[SEP]` tokens.\n",
    "    input_ids = tokenizer.encode(sent, add_special_tokens=True)\n",
    "\n",
    "    # Update the maximum sentence length.\n",
    "    max_len = max(max_len, len(input_ids))\n",
    "\n",
    "print('Max sentence length: ', max_len)"
   ]
  },
  {
   "cell_type": "code",
   "execution_count": 30,
   "id": "47146695-093b-486e-b869-a4a378c77bd2",
   "metadata": {
    "id": "47146695-093b-486e-b869-a4a378c77bd2"
   },
   "outputs": [],
   "source": [
    "# Let's use a maximum length of 200.\n",
    "max_len = 200"
   ]
  },
  {
   "cell_type": "markdown",
   "id": "9646e594-258f-44dd-bf2a-a692e0c5ff7c",
   "metadata": {
    "id": "9646e594-258f-44dd-bf2a-a692e0c5ff7c"
   },
   "source": [
    "Usemos además, el optimizador AdamW. \n",
    "\n",
    "El parámetro *eps* evita divisones por cero y se recomienda ese valor expuesto abajo.\n",
    "\n",
    "La justificación se puede encontrar en [Gentle Introduction to the Adam Optimization Algorithm for Deep Learning](https://machinelearningmastery.com/adam-optimization-algorithm-for-deep-learning/).\n",
    "\n",
    "AdamW es una variante del optimizador Adam que tiene una implementación mejorada de disminución de peso. El uso de la disminución del peso es una forma de regularización para reducir la posibilidad de sobreajuste.\n",
    "\n",
    "Lea más sobre AdamW en este [artículo de fast.ai](https://www.fast.ai/posts/2018-07-02-adam-weight-decay.html)."
   ]
  },
  {
   "cell_type": "code",
   "execution_count": 31,
   "id": "73920c5a-5cae-4a55-a59c-71742d3f679f",
   "metadata": {
    "id": "73920c5a-5cae-4a55-a59c-71742d3f679f"
   },
   "outputs": [],
   "source": [
    "from torch.optim import AdamW\n",
    "\n",
    "# Note: AdamW is a class from the huggingface library (as opposed to pytorch) \n",
    "#  the 'W' stands for 'Weight Decay fix\"\n",
    "optimizer = AdamW(model.parameters(),\n",
    "                  lr = learning_rate, \n",
    "                  eps = 1e-8 \n",
    "                )"
   ]
  },
  {
   "cell_type": "markdown",
   "id": "ffa6945e-dea1-4bcf-8455-3a4d3c9aaf4f",
   "metadata": {
    "id": "ffa6945e-dea1-4bcf-8455-3a4d3c9aaf4f"
   },
   "source": [
    "También usaremos una función auxiliar para calcular el accuracy plano del modelo."
   ]
  },
  {
   "cell_type": "code",
   "execution_count": 32,
   "id": "1bf582bd-dbc4-4f90-aa4e-b4a947f65025",
   "metadata": {
    "id": "1bf582bd-dbc4-4f90-aa4e-b4a947f65025",
    "tags": []
   },
   "outputs": [],
   "source": [
    "import numpy as np\n",
    "\n",
    "# Function to calculate the accuracy of our predictions vs labels\n",
    "def flat_accuracy(preds, labels):\n",
    "    pred_flat = np.argmax(preds, axis=1).flatten()\n",
    "    labels_flat = labels.flatten()\n",
    "    return np.sum(pred_flat == labels_flat) / len(labels_flat)"
   ]
  },
  {
   "cell_type": "markdown",
   "id": "6915617d-75a2-4f1f-9fef-6105d906bf4a",
   "metadata": {
    "id": "6915617d-75a2-4f1f-9fef-6105d906bf4a"
   },
   "source": [
    "Y finalmente, es buena práctica tener en cuanta los tiempos de computo:"
   ]
  },
  {
   "cell_type": "code",
   "execution_count": 33,
   "id": "fdcf30be-5793-4427-a728-faa8537921da",
   "metadata": {
    "id": "fdcf30be-5793-4427-a728-faa8537921da"
   },
   "outputs": [],
   "source": [
    "import time\n",
    "import datetime\n",
    "\n",
    "def format_time(elapsed):\n",
    "    '''\n",
    "    Takes a time in seconds and returns a string hh:mm:ss\n",
    "    '''\n",
    "    # Round to the nearest second.\n",
    "    elapsed_rounded = int(round((elapsed)))\n",
    "    \n",
    "    # Format as hh:mm:ss\n",
    "    return str(datetime.timedelta(seconds=elapsed_rounded))"
   ]
  },
  {
   "cell_type": "markdown",
   "id": "987eb4e4-ef5f-44c5-adcd-2e5657a9bca9",
   "metadata": {
    "id": "987eb4e4-ef5f-44c5-adcd-2e5657a9bca9"
   },
   "source": [
    "[[Volver]](#Contenido)"
   ]
  },
  {
   "cell_type": "markdown",
   "id": "345d1f96-5e2e-4c8d-8b43-450ac3fcbf88",
   "metadata": {
    "id": "345d1f96-5e2e-4c8d-8b43-450ac3fcbf88",
    "tags": []
   },
   "source": [
    "## <span style=\"color:blue\">Tokenizar y hacer los Encodings</span>"
   ]
  },
  {
   "cell_type": "markdown",
   "id": "a12b018a-d4e9-41d1-9ea3-ef68980cc45a",
   "metadata": {
    "id": "a12b018a-d4e9-41d1-9ea3-ef68980cc45a"
   },
   "source": [
    "Ahora que tenemos configurado Pytorch, tokenizemos y hagamos los encodings correspondientes para el modelo:"
   ]
  },
  {
   "cell_type": "code",
   "execution_count": 34,
   "id": "bda8540d-82cb-4e47-a094-84f8feca1578",
   "metadata": {
    "colab": {
     "base_uri": "https://localhost:8080/"
    },
    "id": "bda8540d-82cb-4e47-a094-84f8feca1578",
    "outputId": "fd600160-8adc-412d-abff-301abacda0db"
   },
   "outputs": [
    {
     "name": "stdout",
     "output_type": "stream",
     "text": [
      "Codificando todos los reviews en el dataset...\n",
      "Hecho.\n"
     ]
    }
   ],
   "source": [
    "# Tokenize all of the sentences and map the tokens to thier word IDs.\n",
    "input_ids = []\n",
    "attention_masks = []\n",
    "\n",
    "print('Codificando todos los reviews en el dataset...')\n",
    "\n",
    "# For every sentence...\n",
    "for sent in sen_w_feats:\n",
    "    # `encode_plus` will:\n",
    "    #   (1) Tokenize the sentence.\n",
    "    #   (2) Prepend the `[CLS]` token to the start.\n",
    "    #   (3) Append the `[SEP]` token to the end.\n",
    "    #   (4) Map tokens to their IDs.\n",
    "    #   (5) Pad or truncate the sentence to `max_length`\n",
    "    #   (6) Create attention masks for [PAD] tokens.\n",
    "    encoded_dict = tokenizer.encode_plus(\n",
    "                        sent,                      # Sentence to encode.\n",
    "                        add_special_tokens = True, # Add '[CLS]' and '[SEP]'\n",
    "                        max_length = max_len,           # Pad & truncate all sentences.\n",
    "                        truncation = True,\n",
    "                        padding = 'max_length',\n",
    "                        return_attention_mask = True,   # Construct attn. masks.\n",
    "                        return_tensors = 'pt',     # Return pytorch tensors.\n",
    "                )\n",
    "    \n",
    "    # Add the encoded sentence to the list.    \n",
    "    input_ids.append(encoded_dict['input_ids'])\n",
    "    \n",
    "    # And its attention mask (simply differentiates padding from non-padding).\n",
    "    attention_masks.append(encoded_dict['attention_mask'])\n",
    "\n",
    "# Convert the lists into tensors.\n",
    "input_ids = torch.cat(input_ids, dim=0)\n",
    "attention_masks = torch.cat(attention_masks, dim=0)\n",
    "labels = torch.tensor(labels)\n",
    "\n",
    "print('Hecho.')"
   ]
  },
  {
   "cell_type": "markdown",
   "id": "85d37f29-e56a-42d0-9ef5-21ea4a4d23d7",
   "metadata": {
    "id": "85d37f29-e56a-42d0-9ef5-21ea4a4d23d7"
   },
   "source": [
    "[[Volver]](#Contenido)"
   ]
  },
  {
   "cell_type": "markdown",
   "id": "ab853f4d-2826-458e-8f85-ecd5d7dfe178",
   "metadata": {
    "id": "ab853f4d-2826-458e-8f85-ecd5d7dfe178",
    "tags": []
   },
   "source": [
    "## <span style=\"color:blue\">Crear Datasets y DataLoaders</span>"
   ]
  },
  {
   "cell_type": "markdown",
   "id": "ae5708c3-10f0-4886-9445-bb82011cf18c",
   "metadata": {
    "id": "ae5708c3-10f0-4886-9445-bb82011cf18c"
   },
   "source": [
    "Una vez realizados los encodings, procedemos a crear los Datasets y Dataloaders correspondientes para el entrenamiento:"
   ]
  },
  {
   "cell_type": "code",
   "execution_count": 35,
   "id": "b5029550-c803-4309-9505-20cbdf5f229e",
   "metadata": {
    "id": "b5029550-c803-4309-9505-20cbdf5f229e"
   },
   "outputs": [],
   "source": [
    "from torch.utils.data import TensorDataset\n",
    "\n",
    "# Split the samples, and create TensorDatasets for each split. \n",
    "train_dataset = TensorDataset(input_ids[train_idx], attention_masks[train_idx], labels[train_idx])\n",
    "val_dataset = TensorDataset(input_ids[val_idx], attention_masks[val_idx], labels[val_idx])\n",
    "test_dataset = TensorDataset(input_ids[test_idx], attention_masks[test_idx], labels[test_idx])"
   ]
  },
  {
   "cell_type": "code",
   "execution_count": 36,
   "id": "dac0a955-3d8c-4750-b30b-0faf57a09e9e",
   "metadata": {
    "id": "dac0a955-3d8c-4750-b30b-0faf57a09e9e"
   },
   "outputs": [],
   "source": [
    "from torch.utils.data import DataLoader, RandomSampler, SequentialSampler\n",
    "\n",
    "# Create the DataLoaders for our training and validation sets.\n",
    "# We'll take training samples in random order. \n",
    "train_dataloader = DataLoader(\n",
    "            train_dataset,  # The training samples.\n",
    "            sampler = RandomSampler(train_dataset), # Select batches randomly\n",
    "            batch_size = batch_size # Trains with this batch size.\n",
    "        )\n",
    "\n",
    "# For validation the order doesn't matter, so we'll just read them sequentially.\n",
    "validation_dataloader = DataLoader(\n",
    "            val_dataset, # The validation samples.\n",
    "            sampler = SequentialSampler(val_dataset), # Pull out batches sequentially.\n",
    "            batch_size = batch_size # Evaluate with this batch size.\n",
    "        )\n"
   ]
  },
  {
   "cell_type": "markdown",
   "id": "3e4a8f97-ebb0-41f8-833d-7cc472713437",
   "metadata": {
    "id": "3e4a8f97-ebb0-41f8-833d-7cc472713437"
   },
   "source": [
    "Como novedad, utlicemos una función de calentamiento para modificar nuestra tasa de aprendizaje.\n",
    "\n",
    "En general, es buena práctica realizarlo para obtener resultados más óptimos."
   ]
  },
  {
   "cell_type": "code",
   "execution_count": 37,
   "id": "4e6923c7-bcd0-4044-8bbc-3c1514c62116",
   "metadata": {
    "id": "4e6923c7-bcd0-4044-8bbc-3c1514c62116"
   },
   "outputs": [],
   "source": [
    "from transformers import get_linear_schedule_with_warmup\n",
    "\n",
    "# Total number of training steps is [number of batches] x [number of epochs]. \n",
    "# (Note that this is not the same as the number of training samples!)\n",
    "total_steps = len(train_dataloader) * epochs\n",
    "\n",
    "# Create the learning rate scheduler.\n",
    "scheduler = get_linear_schedule_with_warmup(optimizer, \n",
    "                                            num_warmup_steps = 0, # Default value in run_glue.py\n",
    "                                            num_training_steps = total_steps)"
   ]
  },
  {
   "cell_type": "markdown",
   "id": "7549780a-b864-4a5f-8c78-677448f9c0c3",
   "metadata": {
    "id": "7549780a-b864-4a5f-8c78-677448f9c0c3"
   },
   "source": [
    "[[Volver]](#Contenido)"
   ]
  },
  {
   "cell_type": "markdown",
   "id": "1afb06e3-d686-4185-8879-ee49fa5db9ec",
   "metadata": {
    "id": "1afb06e3-d686-4185-8879-ee49fa5db9ec",
    "tags": []
   },
   "source": [
    "## <span style=\"color:blue\">Training</span>"
   ]
  },
  {
   "cell_type": "markdown",
   "id": "e1d52973-6e11-4e33-8130-00b74cf797de",
   "metadata": {
    "id": "e1d52973-6e11-4e33-8130-00b74cf797de"
   },
   "source": [
    "Los pasos de entrenamiento se ponen a continuación:\n",
    "\n",
    "- Desempaque nuestras entradas de datos y etiquetas\n",
    "- Cargue datos en la GPU para acelerar\n",
    "- Borre los gradientes calculados en el paso anterior.\n",
    "- En pytorch, los gradientes se acumulan de forma predeterminada (útil para cosas como RNN) a menos que los elimine explícitamente.\n",
    "- Pase hacia adelante (datos de entrada de alimentación a través de la red)\n",
    "- Pase hacia atrás (propagación hacia atrás)\n",
    "- Dígale a la red que actualice los parámetros con *Optimizer.step()*\n",
    "- Seguimiento de variables para monitorear el progreso"
   ]
  },
  {
   "cell_type": "code",
   "execution_count": 38,
   "id": "714134b1-84ba-433c-9973-88f1f7880d3d",
   "metadata": {
    "colab": {
     "base_uri": "https://localhost:8080/"
    },
    "id": "714134b1-84ba-433c-9973-88f1f7880d3d",
    "outputId": "3b1cbc0e-73f4-45f1-fc60-9fa129042741"
   },
   "outputs": [
    {
     "name": "stdout",
     "output_type": "stream",
     "text": [
      "\n",
      "======== Epoch 1 / 4 ========\n",
      "Training...\n",
      "  Batch    40  of    588.    Elapsed: 0:01:17.\n",
      "  Batch    80  of    588.    Elapsed: 0:02:34.\n",
      "  Batch   120  of    588.    Elapsed: 0:03:51.\n",
      "  Batch   160  of    588.    Elapsed: 0:05:08.\n",
      "  Batch   200  of    588.    Elapsed: 0:06:26.\n",
      "  Batch   240  of    588.    Elapsed: 0:07:43.\n",
      "  Batch   280  of    588.    Elapsed: 0:09:00.\n",
      "  Batch   320  of    588.    Elapsed: 0:10:17.\n",
      "  Batch   360  of    588.    Elapsed: 0:11:34.\n",
      "  Batch   400  of    588.    Elapsed: 0:12:51.\n",
      "  Batch   440  of    588.    Elapsed: 0:14:08.\n",
      "  Batch   480  of    588.    Elapsed: 0:15:26.\n",
      "  Batch   520  of    588.    Elapsed: 0:16:43.\n",
      "  Batch   560  of    588.    Elapsed: 0:18:00.\n",
      "\n",
      "  Average training loss: 0.18\n",
      "  Training epcoh took: 0:18:53\n",
      "\n",
      "Running Validation...\n",
      "  Accuracy: 0.95\n",
      "  Validation Loss: 0.13\n",
      "  Validation took: 0:00:51\n",
      "\n",
      "======== Epoch 2 / 4 ========\n",
      "Training...\n",
      "  Batch    40  of    588.    Elapsed: 0:01:17.\n",
      "  Batch    80  of    588.    Elapsed: 0:02:34.\n",
      "  Batch   120  of    588.    Elapsed: 0:03:52.\n",
      "  Batch   160  of    588.    Elapsed: 0:05:09.\n",
      "  Batch   200  of    588.    Elapsed: 0:06:26.\n",
      "  Batch   240  of    588.    Elapsed: 0:07:43.\n",
      "  Batch   280  of    588.    Elapsed: 0:09:00.\n",
      "  Batch   320  of    588.    Elapsed: 0:10:17.\n",
      "  Batch   360  of    588.    Elapsed: 0:11:35.\n",
      "  Batch   400  of    588.    Elapsed: 0:12:52.\n",
      "  Batch   440  of    588.    Elapsed: 0:14:09.\n",
      "  Batch   480  of    588.    Elapsed: 0:15:26.\n",
      "  Batch   520  of    588.    Elapsed: 0:16:43.\n",
      "  Batch   560  of    588.    Elapsed: 0:18:01.\n",
      "\n",
      "  Average training loss: 0.11\n",
      "  Training epcoh took: 0:18:53\n",
      "\n",
      "Running Validation...\n",
      "  Accuracy: 0.95\n",
      "  Validation Loss: 0.14\n",
      "  Validation took: 0:00:51\n",
      "\n",
      "======== Epoch 3 / 4 ========\n",
      "Training...\n",
      "  Batch    40  of    588.    Elapsed: 0:01:17.\n",
      "  Batch    80  of    588.    Elapsed: 0:02:34.\n",
      "  Batch   120  of    588.    Elapsed: 0:03:52.\n",
      "  Batch   160  of    588.    Elapsed: 0:05:09.\n",
      "  Batch   200  of    588.    Elapsed: 0:06:26.\n",
      "  Batch   240  of    588.    Elapsed: 0:07:43.\n",
      "  Batch   280  of    588.    Elapsed: 0:09:01.\n",
      "  Batch   320  of    588.    Elapsed: 0:10:18.\n",
      "  Batch   360  of    588.    Elapsed: 0:11:35.\n",
      "  Batch   400  of    588.    Elapsed: 0:12:52.\n",
      "  Batch   440  of    588.    Elapsed: 0:14:09.\n",
      "  Batch   480  of    588.    Elapsed: 0:15:26.\n",
      "  Batch   520  of    588.    Elapsed: 0:16:43.\n",
      "  Batch   560  of    588.    Elapsed: 0:18:00.\n",
      "\n",
      "  Average training loss: 0.09\n",
      "  Training epcoh took: 0:18:53\n",
      "\n",
      "Running Validation...\n",
      "  Accuracy: 0.95\n",
      "  Validation Loss: 0.15\n",
      "  Validation took: 0:00:51\n",
      "\n",
      "======== Epoch 4 / 4 ========\n",
      "Training...\n",
      "  Batch    40  of    588.    Elapsed: 0:01:17.\n",
      "  Batch    80  of    588.    Elapsed: 0:02:34.\n",
      "  Batch   120  of    588.    Elapsed: 0:03:51.\n",
      "  Batch   160  of    588.    Elapsed: 0:05:08.\n",
      "  Batch   200  of    588.    Elapsed: 0:06:26.\n",
      "  Batch   240  of    588.    Elapsed: 0:07:43.\n",
      "  Batch   280  of    588.    Elapsed: 0:09:00.\n",
      "  Batch   320  of    588.    Elapsed: 0:10:17.\n",
      "  Batch   360  of    588.    Elapsed: 0:11:34.\n",
      "  Batch   400  of    588.    Elapsed: 0:12:51.\n",
      "  Batch   440  of    588.    Elapsed: 0:14:09.\n",
      "  Batch   480  of    588.    Elapsed: 0:15:26.\n",
      "  Batch   520  of    588.    Elapsed: 0:16:43.\n",
      "  Batch   560  of    588.    Elapsed: 0:18:00.\n",
      "\n",
      "  Average training loss: 0.08\n",
      "  Training epcoh took: 0:18:52\n",
      "\n",
      "Running Validation...\n",
      "  Accuracy: 0.95\n",
      "  Validation Loss: 0.17\n",
      "  Validation took: 0:00:51\n",
      "\n",
      "Training complete!\n",
      "Total training took 1:18:56 (h:mm:ss)\n"
     ]
    }
   ],
   "source": [
    "import random\n",
    "import numpy as np\n",
    "\n",
    "# This training code is based on the `run_glue.py` script here:\n",
    "# https://github.com/huggingface/transformers/blob/5bfcd0485ece086ebcbed2d008813037968a9e58/examples/run_glue.py#L128\n",
    "\n",
    "# Set the seed value all over the place to make this reproducible.\n",
    "seed_val = 42\n",
    "\n",
    "random.seed(seed_val)\n",
    "np.random.seed(seed_val)\n",
    "torch.manual_seed(seed_val)\n",
    "torch.cuda.manual_seed_all(seed_val)\n",
    "\n",
    "# We'll store a number of quantities such as training and validation loss, \n",
    "# validation accuracy, and timings.\n",
    "training_stats = []\n",
    "\n",
    "# Measure the total training time for the whole run.\n",
    "total_t0 = time.time()\n",
    "\n",
    "# For each epoch...\n",
    "for epoch_i in range(0, epochs):\n",
    "    \n",
    "    # ========================================\n",
    "    #               Training\n",
    "    # ========================================\n",
    "    \n",
    "    # Perform one full pass over the training set.\n",
    "\n",
    "    print(\"\")\n",
    "    print('======== Epoch {:} / {:} ========'.format(epoch_i + 1, epochs))\n",
    "    print('Training...')\n",
    "\n",
    "    # Measure how long the training epoch takes.\n",
    "    t0 = time.time()\n",
    "\n",
    "    # Reset the total loss for this epoch.\n",
    "    total_train_loss = 0\n",
    "\n",
    "    # Put the model into training mode. Don't be mislead--the call to \n",
    "    # `train` just changes the *mode*, it doesn't *perform* the training.\n",
    "    # `dropout` and `batchnorm` layers behave differently during training\n",
    "    # vs. test (source: https://stackoverflow.com/questions/51433378/what-does-model-train-do-in-pytorch)\n",
    "    model.train()\n",
    "\n",
    "    # For each batch of training data...\n",
    "    for step, batch in enumerate(train_dataloader):\n",
    "\n",
    "        # Progress update every 40 batches.\n",
    "        if step % 40 == 0 and not step == 0:\n",
    "            # Calculate elapsed time in minutes.\n",
    "            elapsed = format_time(time.time() - t0)\n",
    "            \n",
    "            # Report progress.\n",
    "            print('  Batch {:>5,}  of  {:>5,}.    Elapsed: {:}.'.format(step, len(train_dataloader), elapsed))\n",
    "\n",
    "        # Unpack this training batch from our dataloader. \n",
    "        #\n",
    "        # As we unpack the batch, we'll also copy each tensor to the GPU using the \n",
    "        # `to` method.\n",
    "        #\n",
    "        # `batch` contains three pytorch tensors:\n",
    "        #   [0]: input ids \n",
    "        #   [1]: attention masks\n",
    "        #   [2]: labels \n",
    "        b_input_ids = batch[0].to(device)\n",
    "        b_input_mask = batch[1].to(device)\n",
    "        b_labels = batch[2].to(device)\n",
    "\n",
    "        # Always clear any previously calculated gradients before performing a\n",
    "        # backward pass. PyTorch doesn't do this automatically because \n",
    "        # accumulating the gradients is \"convenient while training RNNs\". \n",
    "        # (source: https://stackoverflow.com/questions/48001598/why-do-we-need-to-call-zero-grad-in-pytorch)\n",
    "        model.zero_grad()        \n",
    "\n",
    "        # Perform a forward pass (evaluate the model on this training batch).\n",
    "        # In PyTorch, calling `model` will in turn call the model's `forward` \n",
    "        # function and pass down the arguments. The `forward` function is \n",
    "        # documented here: \n",
    "        # https://huggingface.co/transformers/model_doc/bert.html#bertforsequenceclassification\n",
    "        # The results are returned in a results object, documented here:\n",
    "        # https://huggingface.co/transformers/main_classes/output.html#transformers.modeling_outputs.SequenceClassifierOutput\n",
    "        # Specifically, we'll get the loss (because we provided labels) and the\n",
    "        # \"logits\"--the model outputs prior to activation.\n",
    "        result = model(b_input_ids, \n",
    "                       token_type_ids=None, \n",
    "                       attention_mask=b_input_mask, \n",
    "                       labels=b_labels,\n",
    "                       return_dict=True)\n",
    "\n",
    "        loss = result.loss\n",
    "        logits = result.logits\n",
    "\n",
    "        # Accumulate the training loss over all of the batches so that we can\n",
    "        # calculate the average loss at the end. `loss` is a Tensor containing a\n",
    "        # single value; the `.item()` function just returns the Python value \n",
    "        # from the tensor.\n",
    "        total_train_loss += loss.item()\n",
    "\n",
    "        # Perform a backward pass to calculate the gradients.\n",
    "        loss.backward()\n",
    "\n",
    "        # Clip the norm of the gradients to 1.0.\n",
    "        # This is to help prevent the \"exploding gradients\" problem.\n",
    "        torch.nn.utils.clip_grad_norm_(model.parameters(), 1.0)\n",
    "\n",
    "        # Update parameters and take a step using the computed gradient.\n",
    "        # The optimizer dictates the \"update rule\"--how the parameters are\n",
    "        # modified based on their gradients, the learning rate, etc.\n",
    "        optimizer.step()\n",
    "\n",
    "        # Update the learning rate.\n",
    "        scheduler.step()\n",
    "\n",
    "    # Calculate the average loss over all of the batches.\n",
    "    avg_train_loss = total_train_loss / len(train_dataloader)            \n",
    "    \n",
    "    # Measure how long this epoch took.\n",
    "    training_time = format_time(time.time() - t0)\n",
    "\n",
    "    print(\"\")\n",
    "    print(\"  Average training loss: {0:.2f}\".format(avg_train_loss))\n",
    "    print(\"  Training epoch took: {:}\".format(training_time))\n",
    "        \n",
    "    # ========================================\n",
    "    #               Validation\n",
    "    # ========================================\n",
    "    # After the completion of each training epoch, measure our performance on\n",
    "    # our validation set.\n",
    "\n",
    "    print(\"\")\n",
    "    print(\"Running Validation...\")\n",
    "\n",
    "    t0 = time.time()\n",
    "\n",
    "    # Put the model in evaluation mode--the dropout layers behave differently\n",
    "    # during evaluation.\n",
    "    model.eval()\n",
    "\n",
    "    # Tracking variables \n",
    "    total_eval_accuracy = 0\n",
    "    total_eval_loss = 0\n",
    "    nb_eval_steps = 0\n",
    "\n",
    "    # Evaluate data for one epoch\n",
    "    for batch in validation_dataloader:\n",
    "        \n",
    "        # Unpack this training batch from our dataloader. \n",
    "        #\n",
    "        # As we unpack the batch, we'll also copy each tensor to the GPU using \n",
    "        # the `to` method.\n",
    "        #\n",
    "        # `batch` contains three pytorch tensors:\n",
    "        #   [0]: input ids \n",
    "        #   [1]: attention masks\n",
    "        #   [2]: labels \n",
    "        b_input_ids = batch[0].to(device)\n",
    "        b_input_mask = batch[1].to(device)\n",
    "        b_labels = batch[2].to(device)\n",
    "        \n",
    "        # Tell pytorch not to bother with constructing the compute graph during\n",
    "        # the forward pass, since this is only needed for backprop (training).\n",
    "        with torch.no_grad():        \n",
    "\n",
    "            # Forward pass, calculate logit predictions.\n",
    "            # token_type_ids is the same as the \"segment ids\", which \n",
    "            # differentiates sentence 1 and 2 in 2-sentence tasks.\n",
    "            result = model(b_input_ids, \n",
    "                           token_type_ids=None, \n",
    "                           attention_mask=b_input_mask,\n",
    "                           labels=b_labels,\n",
    "                           return_dict=True)\n",
    "\n",
    "        # Get the loss and \"logits\" output by the model. The \"logits\" are the \n",
    "        # output values prior to applying an activation function like the \n",
    "        # softmax.\n",
    "        loss = result.loss\n",
    "        logits = result.logits\n",
    "            \n",
    "        # Accumulate the validation loss.\n",
    "        total_eval_loss += loss.item()\n",
    "\n",
    "        # Move logits and labels to CPU\n",
    "        logits = logits.detach().cpu().numpy()\n",
    "        label_ids = b_labels.to('cpu').numpy()\n",
    "\n",
    "        # Calculate the accuracy for this batch of test sentences, and\n",
    "        # accumulate it over all batches.\n",
    "        total_eval_accuracy += flat_accuracy(logits, label_ids)\n",
    "        \n",
    "\n",
    "    # Report the final accuracy for this validation run.\n",
    "    avg_val_accuracy = total_eval_accuracy / len(validation_dataloader)\n",
    "    print(\"  Accuracy: {0:.2f}\".format(avg_val_accuracy))\n",
    "\n",
    "    # Calculate the average loss over all of the batches.\n",
    "    avg_val_loss = total_eval_loss / len(validation_dataloader)\n",
    "    \n",
    "    # Measure how long the validation run took.\n",
    "    validation_time = format_time(time.time() - t0)\n",
    "    \n",
    "    print(\"  Validation Loss: {0:.2f}\".format(avg_val_loss))\n",
    "    print(\"  Validation took: {:}\".format(validation_time))\n",
    "\n",
    "    # Record all statistics from this epoch.\n",
    "    training_stats.append(\n",
    "        {\n",
    "            'epoch': epoch_i + 1,\n",
    "            'Training Loss': avg_train_loss,\n",
    "            'Valid. Loss': avg_val_loss,\n",
    "            'Valid. Accur.': avg_val_accuracy,\n",
    "            'Training Time': training_time,\n",
    "            'Validation Time': validation_time\n",
    "        }\n",
    "    )\n",
    "\n",
    "print(\"\")\n",
    "print(\"Training complete!\")\n",
    "\n",
    "print(\"Total training took {:} (h:mm:ss)\".format(format_time(time.time()-total_t0)))"
   ]
  },
  {
   "cell_type": "markdown",
   "id": "399b37c8-70c7-4f2e-aeac-a1aba538fd79",
   "metadata": {
    "id": "399b37c8-70c7-4f2e-aeac-a1aba538fd79"
   },
   "source": [
    "[[Volver]](#Contenido)"
   ]
  },
  {
   "cell_type": "markdown",
   "id": "343c9f5e-1964-486c-b991-87766706eb1a",
   "metadata": {
    "id": "343c9f5e-1964-486c-b991-87766706eb1a",
    "tags": []
   },
   "source": [
    "## <span style=\"color:blue\">Resultados</span>"
   ]
  },
  {
   "cell_type": "markdown",
   "id": "6d6d1862-cca1-40f4-8cb5-30a74085e568",
   "metadata": {
    "id": "6d6d1862-cca1-40f4-8cb5-30a74085e568"
   },
   "source": [
    "Veamos los resultados obtenidos:"
   ]
  },
  {
   "cell_type": "code",
   "execution_count": 39,
   "id": "3d7a51c3-22cf-4c34-86d9-2706597fd12a",
   "metadata": {
    "colab": {
     "base_uri": "https://localhost:8080/",
     "height": 206
    },
    "id": "3d7a51c3-22cf-4c34-86d9-2706597fd12a",
    "outputId": "89e73130-348e-4f11-93b7-55a71e5cb18e"
   },
   "outputs": [
    {
     "data": {
      "text/html": [
       "\n",
       "  <div id=\"df-1f4852b2-1148-4d8b-a2fe-4e612935e4fd\">\n",
       "    <div class=\"colab-df-container\">\n",
       "      <div>\n",
       "<style scoped>\n",
       "    .dataframe tbody tr th:only-of-type {\n",
       "        vertical-align: middle;\n",
       "    }\n",
       "\n",
       "    .dataframe tbody tr th {\n",
       "        vertical-align: top;\n",
       "    }\n",
       "\n",
       "    .dataframe thead th {\n",
       "        text-align: right;\n",
       "    }\n",
       "</style>\n",
       "<table border=\"1\" class=\"dataframe\">\n",
       "  <thead>\n",
       "    <tr style=\"text-align: right;\">\n",
       "      <th></th>\n",
       "      <th>Training Loss</th>\n",
       "      <th>Valid. Loss</th>\n",
       "      <th>Valid. Accur.</th>\n",
       "      <th>Training Time</th>\n",
       "      <th>Validation Time</th>\n",
       "    </tr>\n",
       "    <tr>\n",
       "      <th>epoch</th>\n",
       "      <th></th>\n",
       "      <th></th>\n",
       "      <th></th>\n",
       "      <th></th>\n",
       "      <th></th>\n",
       "    </tr>\n",
       "  </thead>\n",
       "  <tbody>\n",
       "    <tr>\n",
       "      <th>1</th>\n",
       "      <td>0.18</td>\n",
       "      <td>0.13</td>\n",
       "      <td>0.95</td>\n",
       "      <td>0:18:53</td>\n",
       "      <td>0:00:51</td>\n",
       "    </tr>\n",
       "    <tr>\n",
       "      <th>2</th>\n",
       "      <td>0.11</td>\n",
       "      <td>0.14</td>\n",
       "      <td>0.95</td>\n",
       "      <td>0:18:53</td>\n",
       "      <td>0:00:51</td>\n",
       "    </tr>\n",
       "    <tr>\n",
       "      <th>3</th>\n",
       "      <td>0.09</td>\n",
       "      <td>0.15</td>\n",
       "      <td>0.95</td>\n",
       "      <td>0:18:53</td>\n",
       "      <td>0:00:51</td>\n",
       "    </tr>\n",
       "    <tr>\n",
       "      <th>4</th>\n",
       "      <td>0.08</td>\n",
       "      <td>0.17</td>\n",
       "      <td>0.95</td>\n",
       "      <td>0:18:52</td>\n",
       "      <td>0:00:51</td>\n",
       "    </tr>\n",
       "  </tbody>\n",
       "</table>\n",
       "</div>\n",
       "      <button class=\"colab-df-convert\" onclick=\"convertToInteractive('df-1f4852b2-1148-4d8b-a2fe-4e612935e4fd')\"\n",
       "              title=\"Convert this dataframe to an interactive table.\"\n",
       "              style=\"display:none;\">\n",
       "        \n",
       "  <svg xmlns=\"http://www.w3.org/2000/svg\" height=\"24px\"viewBox=\"0 0 24 24\"\n",
       "       width=\"24px\">\n",
       "    <path d=\"M0 0h24v24H0V0z\" fill=\"none\"/>\n",
       "    <path d=\"M18.56 5.44l.94 2.06.94-2.06 2.06-.94-2.06-.94-.94-2.06-.94 2.06-2.06.94zm-11 1L8.5 8.5l.94-2.06 2.06-.94-2.06-.94L8.5 2.5l-.94 2.06-2.06.94zm10 10l.94 2.06.94-2.06 2.06-.94-2.06-.94-.94-2.06-.94 2.06-2.06.94z\"/><path d=\"M17.41 7.96l-1.37-1.37c-.4-.4-.92-.59-1.43-.59-.52 0-1.04.2-1.43.59L10.3 9.45l-7.72 7.72c-.78.78-.78 2.05 0 2.83L4 21.41c.39.39.9.59 1.41.59.51 0 1.02-.2 1.41-.59l7.78-7.78 2.81-2.81c.8-.78.8-2.07 0-2.86zM5.41 20L4 18.59l7.72-7.72 1.47 1.35L5.41 20z\"/>\n",
       "  </svg>\n",
       "      </button>\n",
       "      \n",
       "  <style>\n",
       "    .colab-df-container {\n",
       "      display:flex;\n",
       "      flex-wrap:wrap;\n",
       "      gap: 12px;\n",
       "    }\n",
       "\n",
       "    .colab-df-convert {\n",
       "      background-color: #E8F0FE;\n",
       "      border: none;\n",
       "      border-radius: 50%;\n",
       "      cursor: pointer;\n",
       "      display: none;\n",
       "      fill: #1967D2;\n",
       "      height: 32px;\n",
       "      padding: 0 0 0 0;\n",
       "      width: 32px;\n",
       "    }\n",
       "\n",
       "    .colab-df-convert:hover {\n",
       "      background-color: #E2EBFA;\n",
       "      box-shadow: 0px 1px 2px rgba(60, 64, 67, 0.3), 0px 1px 3px 1px rgba(60, 64, 67, 0.15);\n",
       "      fill: #174EA6;\n",
       "    }\n",
       "\n",
       "    [theme=dark] .colab-df-convert {\n",
       "      background-color: #3B4455;\n",
       "      fill: #D2E3FC;\n",
       "    }\n",
       "\n",
       "    [theme=dark] .colab-df-convert:hover {\n",
       "      background-color: #434B5C;\n",
       "      box-shadow: 0px 1px 3px 1px rgba(0, 0, 0, 0.15);\n",
       "      filter: drop-shadow(0px 1px 2px rgba(0, 0, 0, 0.3));\n",
       "      fill: #FFFFFF;\n",
       "    }\n",
       "  </style>\n",
       "\n",
       "      <script>\n",
       "        const buttonEl =\n",
       "          document.querySelector('#df-1f4852b2-1148-4d8b-a2fe-4e612935e4fd button.colab-df-convert');\n",
       "        buttonEl.style.display =\n",
       "          google.colab.kernel.accessAllowed ? 'block' : 'none';\n",
       "\n",
       "        async function convertToInteractive(key) {\n",
       "          const element = document.querySelector('#df-1f4852b2-1148-4d8b-a2fe-4e612935e4fd');\n",
       "          const dataTable =\n",
       "            await google.colab.kernel.invokeFunction('convertToInteractive',\n",
       "                                                     [key], {});\n",
       "          if (!dataTable) return;\n",
       "\n",
       "          const docLinkHtml = 'Like what you see? Visit the ' +\n",
       "            '<a target=\"_blank\" href=https://colab.research.google.com/notebooks/data_table.ipynb>data table notebook</a>'\n",
       "            + ' to learn more about interactive tables.';\n",
       "          element.innerHTML = '';\n",
       "          dataTable['output_type'] = 'display_data';\n",
       "          await google.colab.output.renderOutput(dataTable, element);\n",
       "          const docLink = document.createElement('div');\n",
       "          docLink.innerHTML = docLinkHtml;\n",
       "          element.appendChild(docLink);\n",
       "        }\n",
       "      </script>\n",
       "    </div>\n",
       "  </div>\n",
       "  "
      ],
      "text/plain": [
       "       Training Loss  Valid. Loss  Valid. Accur. Training Time Validation Time\n",
       "epoch                                                                         \n",
       "1               0.18         0.13           0.95       0:18:53         0:00:51\n",
       "2               0.11         0.14           0.95       0:18:53         0:00:51\n",
       "3               0.09         0.15           0.95       0:18:53         0:00:51\n",
       "4               0.08         0.17           0.95       0:18:52         0:00:51"
      ]
     },
     "execution_count": 39,
     "metadata": {},
     "output_type": "execute_result"
    }
   ],
   "source": [
    "import pandas as pd\n",
    "\n",
    "# Display floats with two decimal places.\n",
    "pd.set_option('precision', 2)\n",
    "\n",
    "# Create a DataFrame from our training statistics.\n",
    "df_stats = pd.DataFrame(data=training_stats)\n",
    "\n",
    "# Use the 'epoch' as the row index.\n",
    "df_stats = df_stats.set_index('epoch')\n",
    "\n",
    "# A hack to force the column headers to wrap (doesn't seem to work in Colab).\n",
    "#df = df.style.set_table_styles([dict(selector=\"th\",props=[('max-width', '70px')])])\n",
    "\n",
    "# Display the table.\n",
    "df_stats"
   ]
  },
  {
   "cell_type": "markdown",
   "id": "f555572f-ca14-41a4-a030-111fb7b632f2",
   "metadata": {
    "id": "f555572f-ca14-41a4-a030-111fb7b632f2"
   },
   "source": [
    "Podemos graficar la pérdida de entrenamiento y la pérdida de validación para verificar indicios de sobreajuste."
   ]
  },
  {
   "cell_type": "code",
   "execution_count": 40,
   "id": "0b276cbd-ccc2-4cd8-af7a-11f7ce3ac3a7",
   "metadata": {
    "colab": {
     "base_uri": "https://localhost:8080/",
     "height": 427
    },
    "id": "0b276cbd-ccc2-4cd8-af7a-11f7ce3ac3a7",
    "outputId": "82d1aa8e-abea-402e-c6a6-339d1bd0ec46"
   },
   "outputs": [
    {
     "data": {
      "image/png": "[encoded data removed]",
      "text/plain": [
       "<Figure size 864x432 with 1 Axes>"
      ]
     },
     "metadata": {},
     "output_type": "display_data"
    }
   ],
   "source": [
    "import matplotlib.pyplot as plt\n",
    "% matplotlib inline\n",
    "\n",
    "import seaborn as sns\n",
    "\n",
    "# Use plot styling from seaborn.\n",
    "sns.set(style='darkgrid')\n",
    "\n",
    "# Increase the plot size and font size.\n",
    "sns.set(font_scale=1.5)\n",
    "plt.rcParams[\"figure.figsize\"] = (12,6)\n",
    "\n",
    "# Plot the learning curve.\n",
    "plt.plot(df_stats['Training Loss'], 'b-o', label=\"Training\")\n",
    "plt.plot(df_stats['Valid. Loss'], 'g-o', label=\"Validation\")\n",
    "\n",
    "# Label the plot.\n",
    "plt.title(\"Training & Validation Loss\")\n",
    "plt.xlabel(\"Epoch\")\n",
    "plt.ylabel(\"Loss\")\n",
    "plt.legend()\n",
    "plt.xticks([1, 2, 3, 4])\n",
    "\n",
    "plt.show()"
   ]
  },
  {
   "cell_type": "markdown",
   "id": "a0171c30-97f5-4ddc-876a-fa6222ad6b9c",
   "metadata": {
    "id": "a0171c30-97f5-4ddc-876a-fa6222ad6b9c"
   },
   "source": [
    "Parece que hay algo de ajuste excesivo aquí. \n",
    "\n",
    "Si realmente desea obtener la mejor precisión, puede intentar guardar un checkpoint del modelo después de cada epoch y ver si el tercer punto de control funciona mejor en el conjunto de prueba.\n",
    "\n",
    "¿Por qué pérdida de validación, no precisión?\n",
    "\n",
    "La pérdida de validación es una medida más precisa que la precisión de la validación, porque con precisión no nos importa el valor de salida exacto, sino solo de qué lado de un umbral cae.\n",
    "\n",
    "Si estamos prediciendo la respuesta correcta, pero con menos confianza, entonces la pérdida de validación detectará esto, mientras que la precisión no lo hará."
   ]
  },
  {
   "cell_type": "markdown",
   "id": "ecb74919-8df5-4ce5-9025-8bfa33c06e17",
   "metadata": {
    "id": "ecb74919-8df5-4ce5-9025-8bfa33c06e17"
   },
   "source": [
    "[[Volver]](#Contenido)"
   ]
  },
  {
   "cell_type": "markdown",
   "id": "89fd18c4-c990-47a4-9107-6bc36cf822a0",
   "metadata": {
    "id": "89fd18c4-c990-47a4-9107-6bc36cf822a0",
    "tags": []
   },
   "source": [
    "## <span style=\"color:blue\">Test</span>"
   ]
  },
  {
   "cell_type": "markdown",
   "id": "389062a8-989f-4c59-a20a-40f259649ed8",
   "metadata": {
    "id": "389062a8-989f-4c59-a20a-40f259649ed8"
   },
   "source": [
    "Veamos c+omo se comporta el modelo en el conjunto de datos Test:"
   ]
  },
  {
   "cell_type": "code",
   "execution_count": 41,
   "id": "5a779684-a28e-49e9-ba35-3a7a82a15d76",
   "metadata": {
    "colab": {
     "base_uri": "https://localhost:8080/"
    },
    "id": "5a779684-a28e-49e9-ba35-3a7a82a15d76",
    "outputId": "f89b4749-0c11-4257-8a1a-c8397c724884"
   },
   "outputs": [
    {
     "name": "stdout",
     "output_type": "stream",
     "text": [
      "Predicting labels for 2,350 test sentences...\n",
      "Hecho.\n"
     ]
    }
   ],
   "source": [
    "# Create a DataLoader to batch our test samples for us. We'll use a sequential\n",
    "# sampler this time--don't need this to be random!\n",
    "prediction_sampler = SequentialSampler(test_dataset)\n",
    "prediction_dataloader = DataLoader(test_dataset, sampler=prediction_sampler, batch_size=batch_size)\n",
    "\n",
    "print('Predicting labels for {:,} test sentences...'.format(len(test_dataset)))\n",
    "\n",
    "# Put model in evaluation mode\n",
    "model.eval()\n",
    "\n",
    "# Tracking variables \n",
    "predictions , true_labels = [], []\n",
    "\n",
    "# Predict \n",
    "for batch in prediction_dataloader:\n",
    "  # Add batch to GPU\n",
    "  batch = tuple(t.to(device) for t in batch)\n",
    "  \n",
    "  # Unpack the inputs from our dataloader\n",
    "  b_input_ids, b_input_mask, b_labels = batch\n",
    "  \n",
    "  # Telling the model not to compute or store gradients, saving memory and \n",
    "  # speeding up prediction\n",
    "  with torch.no_grad():\n",
    "      # Forward pass, calculate logit predictions.\n",
    "      result = model(b_input_ids, \n",
    "                     token_type_ids=None, \n",
    "                     attention_mask=b_input_mask,\n",
    "                     return_dict=True)\n",
    "\n",
    "  logits = result.logits\n",
    "\n",
    "  # Move logits and labels to CPU\n",
    "  logits = logits.detach().cpu().numpy()\n",
    "  label_ids = b_labels.to('cpu').numpy()\n",
    "  \n",
    "  # Store predictions and true labels\n",
    "  predictions.append(logits)\n",
    "  true_labels.append(label_ids)\n",
    "\n",
    "print('Hecho.')\n"
   ]
  },
  {
   "cell_type": "markdown",
   "id": "ae0aa9ee-0455-4c3c-8317-4ab2e56a974b",
   "metadata": {
    "id": "ae0aa9ee-0455-4c3c-8317-4ab2e56a974b"
   },
   "source": [
    "Debido a que las muestras de prueba se procesaron en lotes, se requiere un poco de reorganización para que los resultados vuelvan a ser una lista simple.\n",
    "\n",
    "Además, las predicciones actualmente son valores de punto flotante que representan confianzas, pero debemos convertirlos en etiquetas binarias (0 o 1)."
   ]
  },
  {
   "cell_type": "code",
   "execution_count": 42,
   "id": "1bed39dd-d53d-487f-ab83-f2e19a29faad",
   "metadata": {
    "id": "1bed39dd-d53d-487f-ab83-f2e19a29faad"
   },
   "outputs": [],
   "source": [
    "# Combine the results across all batches. \n",
    "flat_predictions = np.concatenate(predictions, axis=0)\n",
    "\n",
    "# For each sample, pick the label (0 or 1) with the higher score.\n",
    "flat_predictions = np.argmax(flat_predictions, axis=1).flatten()\n",
    "\n",
    "# Combine the correct labels for each batch into a single list.\n",
    "flat_true_labels = np.concatenate(true_labels, axis=0)"
   ]
  },
  {
   "cell_type": "code",
   "execution_count": 43,
   "id": "af359aa2-3287-4c7c-b7c8-bfbe6b13ec23",
   "metadata": {
    "colab": {
     "base_uri": "https://localhost:8080/"
    },
    "id": "af359aa2-3287-4c7c-b7c8-bfbe6b13ec23",
    "outputId": "3b18be1b-1763-4c48-c0fa-5f282bd46756"
   },
   "outputs": [
    {
     "name": "stdout",
     "output_type": "stream",
     "text": [
      "F1 Score: 0.963\n"
     ]
    }
   ],
   "source": [
    "from sklearn.metrics import f1_score\n",
    "\n",
    "# Calculate the F1\n",
    "f1 = f1_score(flat_true_labels, flat_predictions)\n",
    "\n",
    "print('F1 Score: %.3f' % f1)"
   ]
  },
  {
   "cell_type": "markdown",
   "id": "dbf9e4e8-0aea-4a57-9122-2e4c481fba06",
   "metadata": {
    "id": "dbf9e4e8-0aea-4a57-9122-2e4c481fba06"
   },
   "source": [
    "[[Volver]](#Contenido)"
   ]
  },
  {
   "cell_type": "markdown",
   "id": "dc69ea4d-4555-46a4-80bc-cdbf60ac18e7",
   "metadata": {
    "id": "dc69ea4d-4555-46a4-80bc-cdbf60ac18e7",
    "tags": []
   },
   "source": [
    "## <span style=\"color:blue\">Conclusión</span>"
   ]
  },
  {
   "cell_type": "markdown",
   "id": "2ca111d5-0bbb-4ec3-ae27-77bd6c1cc618",
   "metadata": {
    "id": "2ca111d5-0bbb-4ec3-ae27-77bd6c1cc618"
   },
   "source": [
    "Al simplemente convertir los features adicionales en texto parece ser una gran solución para este conjunto de datos. \n",
    "\n",
    "Esto se debe a que las características categóricas de este conjunto de datos se pueden convertir fácilmente en texto significativo que BERT puede aprovechar.\n",
    "\n",
    "Incluso la calificación, que técnicamente es una característica numérica, es bastante comprensible ya que solo hay 5 valores posibles.\n",
    "\n",
    "El [Multimodal-Toolkit](https://github.com/georgian-io/Multimodal-Toolkit) también incluye otros 2 conjuntos de datos en los que este enfoque (denominado \"unimodal\" en sus tablas de referencia) no obtiene la puntuación más alta. \n",
    "\n",
    "Podría imaginar cómo, si hay características de valor continuo (coma flotante) en el conjunto de datos que son muy significativas, podría ser difícil para BERT entenderlas como texto.\n",
    "\n",
    "Entonces la solución podría estar en hacer un modelo híbrido que reciba tanto texto como los features numéricos importantes al mismo tiempo\n",
    "\n",
    "**Reto:** Traducir el código anterior a Pytorch Lightning para aprovechar las TPU de Google Colab y posibles GPU adidicionales existentes."
   ]
  },
  {
   "cell_type": "markdown",
   "id": "2a8ed6c1-e6b9-4b59-8875-240ccc7ba106",
   "metadata": {
    "id": "2a8ed6c1-e6b9-4b59-8875-240ccc7ba106"
   },
   "source": [
    "[[Volver]](#Contenido)"
   ]
  }
 ],
 "metadata": {
  "accelerator": "GPU",
  "colab": {
   "collapsed_sections": [],
   "name": "nlp_BERT_Numerical_Categorical.ipynb",
   "provenance": []
  },
  "kernelspec": {
   "display_name": "Python 3 (ipykernel)",
   "language": "python",
   "name": "python3"
  },
  "language_info": {
   "codemirror_mode": {
    "name": "ipython",
    "version": 3
   },
   "file_extension": ".py",
   "mimetype": "text/x-python",
   "name": "python",
   "nbconvert_exporter": "python",
   "pygments_lexer": "ipython3",
   "version": "3.9.12"
  },
  "widgets": {
   "application/vnd.jupyter.widget-state+json": {
    "035c632bf8d34d82a7cb45cb573d48cf": {
     "model_module": "@jupyter-widgets/controls",
     "model_module_version": "1.5.0",
     "model_name": "DescriptionStyleModel",
     "state": {
      "_model_module": "@jupyter-widgets/controls",
      "_model_module_version": "1.5.0",
      "_model_name": "DescriptionStyleModel",
      "_view_count": null,
      "_view_module": "@jupyter-widgets/base",
      "_view_module_version": "1.2.0",
      "_view_name": "StyleView",
      "description_width": ""
     }
    },
    "142a08fc86a945c799ad74f315370802": {
     "model_module": "@jupyter-widgets/controls",
     "model_module_version": "1.5.0",
     "model_name": "DescriptionStyleModel",
     "state": {
      "_model_module": "@jupyter-widgets/controls",
      "_model_module_version": "1.5.0",
      "_model_name": "DescriptionStyleModel",
      "_view_count": null,
      "_view_module": "@jupyter-widgets/base",
      "_view_module_version": "1.2.0",
      "_view_name": "StyleView",
      "description_width": ""
     }
    },
    "1963ea8fe402458892ac83fa5fe70928": {
     "model_module": "@jupyter-widgets/controls",
     "model_module_version": "1.5.0",
     "model_name": "FloatProgressModel",
     "state": {
      "_dom_classes": [],
      "_model_module": "@jupyter-widgets/controls",
      "_model_module_version": "1.5.0",
      "_model_name": "FloatProgressModel",
      "_view_count": null,
      "_view_module": "@jupyter-widgets/controls",
      "_view_module_version": "1.5.0",
      "_view_name": "ProgressView",
      "bar_style": "success",
      "description": "",
      "description_tooltip": null,
      "layout": "IPY_MODEL_f583a98f983b46fa8559aacf4d2a3d9b",
      "max": 570,
      "min": 0,
      "orientation": "horizontal",
      "style": "IPY_MODEL_1f4614b8030442f98ba84e25150b1a27",
      "value": 570
     }
    },
    "1d12e9a16a354eaaa591e0992b8fe6d2": {
     "model_module": "@jupyter-widgets/controls",
     "model_module_version": "1.5.0",
     "model_name": "DescriptionStyleModel",
     "state": {
      "_model_module": "@jupyter-widgets/controls",
      "_model_module_version": "1.5.0",
      "_model_name": "DescriptionStyleModel",
      "_view_count": null,
      "_view_module": "@jupyter-widgets/base",
      "_view_module_version": "1.2.0",
      "_view_name": "StyleView",
      "description_width": ""
     }
    },
    "1f4614b8030442f98ba84e25150b1a27": {
     "model_module": "@jupyter-widgets/controls",
     "model_module_version": "1.5.0",
     "model_name": "ProgressStyleModel",
     "state": {
      "_model_module": "@jupyter-widgets/controls",
      "_model_module_version": "1.5.0",
      "_model_name": "ProgressStyleModel",
      "_view_count": null,
      "_view_module": "@jupyter-widgets/base",
      "_view_module_version": "1.2.0",
      "_view_name": "StyleView",
      "bar_color": null,
      "description_width": ""
     }
    },
    "24db717962bc472eb32136b3f427a831": {
     "model_module": "@jupyter-widgets/controls",
     "model_module_version": "1.5.0",
     "model_name": "HBoxModel",
     "state": {
      "_dom_classes": [],
      "_model_module": "@jupyter-widgets/controls",
      "_model_module_version": "1.5.0",
      "_model_name": "HBoxModel",
      "_view_count": null,
      "_view_module": "@jupyter-widgets/controls",
      "_view_module_version": "1.5.0",
      "_view_name": "HBoxView",
      "box_style": "",
      "children": [
       "IPY_MODEL_9fbce265a4ff45b285a156916df65739",
       "IPY_MODEL_1963ea8fe402458892ac83fa5fe70928",
       "IPY_MODEL_a489b98360d84e6faeb7b0fa0bb12e8c"
      ],
      "layout": "IPY_MODEL_dc0da4216a8746e9a4c41e55d94d1bfc"
     }
    },
    "2529f9010a8d420ab445ec5acf8e0d54": {
     "model_module": "@jupyter-widgets/controls",
     "model_module_version": "1.5.0",
     "model_name": "HTMLModel",
     "state": {
      "_dom_classes": [],
      "_model_module": "@jupyter-widgets/controls",
      "_model_module_version": "1.5.0",
      "_model_name": "HTMLModel",
      "_view_count": null,
      "_view_module": "@jupyter-widgets/controls",
      "_view_module_version": "1.5.0",
      "_view_name": "HTMLView",
      "description": "",
      "description_tooltip": null,
      "layout": "IPY_MODEL_d5bbbb4424b64f8386af1130ce725b1c",
      "placeholder": "​",
      "style": "IPY_MODEL_142a08fc86a945c799ad74f315370802",
      "value": " 226k/226k [00:00&lt;00:00, 1.67MB/s]"
     }
    },
    "38cfbf3839084fce982f5b1a74b9ef59": {
     "model_module": "@jupyter-widgets/controls",
     "model_module_version": "1.5.0",
     "model_name": "DescriptionStyleModel",
     "state": {
      "_model_module": "@jupyter-widgets/controls",
      "_model_module_version": "1.5.0",
      "_model_name": "DescriptionStyleModel",
      "_view_count": null,
      "_view_module": "@jupyter-widgets/base",
      "_view_module_version": "1.2.0",
      "_view_name": "StyleView",
      "description_width": ""
     }
    },
    "3f23afc9c8cb4de68de1fa3a0fe0ec18": {
     "model_module": "@jupyter-widgets/base",
     "model_module_version": "1.2.0",
     "model_name": "LayoutModel",
     "state": {
      "_model_module": "@jupyter-widgets/base",
      "_model_module_version": "1.2.0",
      "_model_name": "LayoutModel",
      "_view_count": null,
      "_view_module": "@jupyter-widgets/base",
      "_view_module_version": "1.2.0",
      "_view_name": "LayoutView",
      "align_content": null,
      "align_items": null,
      "align_self": null,
      "border": null,
      "bottom": null,
      "display": null,
      "flex": null,
      "flex_flow": null,
      "grid_area": null,
      "grid_auto_columns": null,
      "grid_auto_flow": null,
      "grid_auto_rows": null,
      "grid_column": null,
      "grid_gap": null,
      "grid_row": null,
      "grid_template_areas": null,
      "grid_template_columns": null,
      "grid_template_rows": null,
      "height": null,
      "justify_content": null,
      "justify_items": null,
      "left": null,
      "margin": null,
      "max_height": null,
      "max_width": null,
      "min_height": null,
      "min_width": null,
      "object_fit": null,
      "object_position": null,
      "order": null,
      "overflow": null,
      "overflow_x": null,
      "overflow_y": null,
      "padding": null,
      "right": null,
      "top": null,
      "visibility": null,
      "width": null
     }
    },
    "49bee60d18f44440b12632cd6a98b295": {
     "model_module": "@jupyter-widgets/controls",
     "model_module_version": "1.5.0",
     "model_name": "HTMLModel",
     "state": {
      "_dom_classes": [],
      "_model_module": "@jupyter-widgets/controls",
      "_model_module_version": "1.5.0",
      "_model_name": "HTMLModel",
      "_view_count": null,
      "_view_module": "@jupyter-widgets/controls",
      "_view_module_version": "1.5.0",
      "_view_name": "HTMLView",
      "description": "",
      "description_tooltip": null,
      "layout": "IPY_MODEL_3f23afc9c8cb4de68de1fa3a0fe0ec18",
      "placeholder": "​",
      "style": "IPY_MODEL_38cfbf3839084fce982f5b1a74b9ef59",
      "value": "Downloading: 100%"
     }
    },
    "4ae1546c3163493fb2da0325ec9298b3": {
     "model_module": "@jupyter-widgets/controls",
     "model_module_version": "1.5.0",
     "model_name": "ProgressStyleModel",
     "state": {
      "_model_module": "@jupyter-widgets/controls",
      "_model_module_version": "1.5.0",
      "_model_name": "ProgressStyleModel",
      "_view_count": null,
      "_view_module": "@jupyter-widgets/base",
      "_view_module_version": "1.2.0",
      "_view_name": "StyleView",
      "bar_color": null,
      "description_width": ""
     }
    },
    "4aeab78d06c94a3c989433ae29f06470": {
     "model_module": "@jupyter-widgets/controls",
     "model_module_version": "1.5.0",
     "model_name": "FloatProgressModel",
     "state": {
      "_dom_classes": [],
      "_model_module": "@jupyter-widgets/controls",
      "_model_module_version": "1.5.0",
      "_model_name": "FloatProgressModel",
      "_view_count": null,
      "_view_module": "@jupyter-widgets/controls",
      "_view_module_version": "1.5.0",
      "_view_name": "ProgressView",
      "bar_style": "success",
      "description": "",
      "description_tooltip": null,
      "layout": "IPY_MODEL_82df7977a29d413695a9d392c657462d",
      "max": 231508,
      "min": 0,
      "orientation": "horizontal",
      "style": "IPY_MODEL_e27e95319a4b4c52b29b420c52470bd7",
      "value": 231508
     }
    },
    "64cd86df503b46739ae5f12d51cee55e": {
     "model_module": "@jupyter-widgets/controls",
     "model_module_version": "1.5.0",
     "model_name": "FloatProgressModel",
     "state": {
      "_dom_classes": [],
      "_model_module": "@jupyter-widgets/controls",
      "_model_module_version": "1.5.0",
      "_model_name": "FloatProgressModel",
      "_view_count": null,
      "_view_module": "@jupyter-widgets/controls",
      "_view_module_version": "1.5.0",
      "_view_name": "ProgressView",
      "bar_style": "success",
      "description": "",
      "description_tooltip": null,
      "layout": "IPY_MODEL_777ef168b4614dd9a785dd974c80171a",
      "max": 28,
      "min": 0,
      "orientation": "horizontal",
      "style": "IPY_MODEL_4ae1546c3163493fb2da0325ec9298b3",
      "value": 28
     }
    },
    "653dca4d90c84edba01bd29050048002": {
     "model_module": "@jupyter-widgets/controls",
     "model_module_version": "1.5.0",
     "model_name": "HBoxModel",
     "state": {
      "_dom_classes": [],
      "_model_module": "@jupyter-widgets/controls",
      "_model_module_version": "1.5.0",
      "_model_name": "HBoxModel",
      "_view_count": null,
      "_view_module": "@jupyter-widgets/controls",
      "_view_module_version": "1.5.0",
      "_view_name": "HBoxView",
      "box_style": "",
      "children": [
       "IPY_MODEL_f71661087b694da58c0160a7456bcbcd",
       "IPY_MODEL_4aeab78d06c94a3c989433ae29f06470",
       "IPY_MODEL_2529f9010a8d420ab445ec5acf8e0d54"
      ],
      "layout": "IPY_MODEL_bd84bf8b28994e75a996fd40083645d5"
     }
    },
    "6744483f6dc04a3299e5034acb46f738": {
     "model_module": "@jupyter-widgets/controls",
     "model_module_version": "1.5.0",
     "model_name": "DescriptionStyleModel",
     "state": {
      "_model_module": "@jupyter-widgets/controls",
      "_model_module_version": "1.5.0",
      "_model_name": "DescriptionStyleModel",
      "_view_count": null,
      "_view_module": "@jupyter-widgets/base",
      "_view_module_version": "1.2.0",
      "_view_name": "StyleView",
      "description_width": ""
     }
    },
    "724fee038a774dddbd6852cdb829a169": {
     "model_module": "@jupyter-widgets/base",
     "model_module_version": "1.2.0",
     "model_name": "LayoutModel",
     "state": {
      "_model_module": "@jupyter-widgets/base",
      "_model_module_version": "1.2.0",
      "_model_name": "LayoutModel",
      "_view_count": null,
      "_view_module": "@jupyter-widgets/base",
      "_view_module_version": "1.2.0",
      "_view_name": "LayoutView",
      "align_content": null,
      "align_items": null,
      "align_self": null,
      "border": null,
      "bottom": null,
      "display": null,
      "flex": null,
      "flex_flow": null,
      "grid_area": null,
      "grid_auto_columns": null,
      "grid_auto_flow": null,
      "grid_auto_rows": null,
      "grid_column": null,
      "grid_gap": null,
      "grid_row": null,
      "grid_template_areas": null,
      "grid_template_columns": null,
      "grid_template_rows": null,
      "height": null,
      "justify_content": null,
      "justify_items": null,
      "left": null,
      "margin": null,
      "max_height": null,
      "max_width": null,
      "min_height": null,
      "min_width": null,
      "object_fit": null,
      "object_position": null,
      "order": null,
      "overflow": null,
      "overflow_x": null,
      "overflow_y": null,
      "padding": null,
      "right": null,
      "top": null,
      "visibility": null,
      "width": null
     }
    },
    "777ef168b4614dd9a785dd974c80171a": {
     "model_module": "@jupyter-widgets/base",
     "model_module_version": "1.2.0",
     "model_name": "LayoutModel",
     "state": {
      "_model_module": "@jupyter-widgets/base",
      "_model_module_version": "1.2.0",
      "_model_name": "LayoutModel",
      "_view_count": null,
      "_view_module": "@jupyter-widgets/base",
      "_view_module_version": "1.2.0",
      "_view_name": "LayoutView",
      "align_content": null,
      "align_items": null,
      "align_self": null,
      "border": null,
      "bottom": null,
      "display": null,
      "flex": null,
      "flex_flow": null,
      "grid_area": null,
      "grid_auto_columns": null,
      "grid_auto_flow": null,
      "grid_auto_rows": null,
      "grid_column": null,
      "grid_gap": null,
      "grid_row": null,
      "grid_template_areas": null,
      "grid_template_columns": null,
      "grid_template_rows": null,
      "height": null,
      "justify_content": null,
      "justify_items": null,
      "left": null,
      "margin": null,
      "max_height": null,
      "max_width": null,
      "min_height": null,
      "min_width": null,
      "object_fit": null,
      "object_position": null,
      "order": null,
      "overflow": null,
      "overflow_x": null,
      "overflow_y": null,
      "padding": null,
      "right": null,
      "top": null,
      "visibility": null,
      "width": null
     }
    },
    "8038f22f204d4e1eb05e46e05953104a": {
     "model_module": "@jupyter-widgets/controls",
     "model_module_version": "1.5.0",
     "model_name": "DescriptionStyleModel",
     "state": {
      "_model_module": "@jupyter-widgets/controls",
      "_model_module_version": "1.5.0",
      "_model_name": "DescriptionStyleModel",
      "_view_count": null,
      "_view_module": "@jupyter-widgets/base",
      "_view_module_version": "1.2.0",
      "_view_name": "StyleView",
      "description_width": ""
     }
    },
    "82df7977a29d413695a9d392c657462d": {
     "model_module": "@jupyter-widgets/base",
     "model_module_version": "1.2.0",
     "model_name": "LayoutModel",
     "state": {
      "_model_module": "@jupyter-widgets/base",
      "_model_module_version": "1.2.0",
      "_model_name": "LayoutModel",
      "_view_count": null,
      "_view_module": "@jupyter-widgets/base",
      "_view_module_version": "1.2.0",
      "_view_name": "LayoutView",
      "align_content": null,
      "align_items": null,
      "align_self": null,
      "border": null,
      "bottom": null,
      "display": null,
      "flex": null,
      "flex_flow": null,
      "grid_area": null,
      "grid_auto_columns": null,
      "grid_auto_flow": null,
      "grid_auto_rows": null,
      "grid_column": null,
      "grid_gap": null,
      "grid_row": null,
      "grid_template_areas": null,
      "grid_template_columns": null,
      "grid_template_rows": null,
      "height": null,
      "justify_content": null,
      "justify_items": null,
      "left": null,
      "margin": null,
      "max_height": null,
      "max_width": null,
      "min_height": null,
      "min_width": null,
      "object_fit": null,
      "object_position": null,
      "order": null,
      "overflow": null,
      "overflow_x": null,
      "overflow_y": null,
      "padding": null,
      "right": null,
      "top": null,
      "visibility": null,
      "width": null
     }
    },
    "84d4ee4fdecf421db8da6d7156f1ad2d": {
     "model_module": "@jupyter-widgets/controls",
     "model_module_version": "1.5.0",
     "model_name": "HBoxModel",
     "state": {
      "_dom_classes": [],
      "_model_module": "@jupyter-widgets/controls",
      "_model_module_version": "1.5.0",
      "_model_name": "HBoxModel",
      "_view_count": null,
      "_view_module": "@jupyter-widgets/controls",
      "_view_module_version": "1.5.0",
      "_view_name": "HBoxView",
      "box_style": "",
      "children": [
       "IPY_MODEL_92fd7e5e0121498ea546723df927a177",
       "IPY_MODEL_64cd86df503b46739ae5f12d51cee55e",
       "IPY_MODEL_d379a10d7e584640883eaf59b61e07d0"
      ],
      "layout": "IPY_MODEL_ef8f674b990a471f8d733b5301e18d98"
     }
    },
    "8c7306c7f7ef44a69753490d0e903fb2": {
     "model_module": "@jupyter-widgets/controls",
     "model_module_version": "1.5.0",
     "model_name": "HTMLModel",
     "state": {
      "_dom_classes": [],
      "_model_module": "@jupyter-widgets/controls",
      "_model_module_version": "1.5.0",
      "_model_name": "HTMLModel",
      "_view_count": null,
      "_view_module": "@jupyter-widgets/controls",
      "_view_module_version": "1.5.0",
      "_view_name": "HTMLView",
      "description": "",
      "description_tooltip": null,
      "layout": "IPY_MODEL_e1cf5ad9887d442192a59374f43635cb",
      "placeholder": "​",
      "style": "IPY_MODEL_a8462fe82f414bbf8689d14250be83f0",
      "value": " 420M/420M [00:13&lt;00:00, 33.9MB/s]"
     }
    },
    "8ccda71132be42cab45c2075425dafc0": {
     "model_module": "@jupyter-widgets/controls",
     "model_module_version": "1.5.0",
     "model_name": "FloatProgressModel",
     "state": {
      "_dom_classes": [],
      "_model_module": "@jupyter-widgets/controls",
      "_model_module_version": "1.5.0",
      "_model_name": "FloatProgressModel",
      "_view_count": null,
      "_view_module": "@jupyter-widgets/controls",
      "_view_module_version": "1.5.0",
      "_view_name": "ProgressView",
      "bar_style": "success",
      "description": "",
      "description_tooltip": null,
      "layout": "IPY_MODEL_c30dc4d9446d47a78c13772fc7903a89",
      "max": 440473133,
      "min": 0,
      "orientation": "horizontal",
      "style": "IPY_MODEL_aa89bcd9afe14b73bb85c5b66d829ead",
      "value": 440473133
     }
    },
    "9203ac2365ea44dba4b19baf4a363220": {
     "model_module": "@jupyter-widgets/base",
     "model_module_version": "1.2.0",
     "model_name": "LayoutModel",
     "state": {
      "_model_module": "@jupyter-widgets/base",
      "_model_module_version": "1.2.0",
      "_model_name": "LayoutModel",
      "_view_count": null,
      "_view_module": "@jupyter-widgets/base",
      "_view_module_version": "1.2.0",
      "_view_name": "LayoutView",
      "align_content": null,
      "align_items": null,
      "align_self": null,
      "border": null,
      "bottom": null,
      "display": null,
      "flex": null,
      "flex_flow": null,
      "grid_area": null,
      "grid_auto_columns": null,
      "grid_auto_flow": null,
      "grid_auto_rows": null,
      "grid_column": null,
      "grid_gap": null,
      "grid_row": null,
      "grid_template_areas": null,
      "grid_template_columns": null,
      "grid_template_rows": null,
      "height": null,
      "justify_content": null,
      "justify_items": null,
      "left": null,
      "margin": null,
      "max_height": null,
      "max_width": null,
      "min_height": null,
      "min_width": null,
      "object_fit": null,
      "object_position": null,
      "order": null,
      "overflow": null,
      "overflow_x": null,
      "overflow_y": null,
      "padding": null,
      "right": null,
      "top": null,
      "visibility": null,
      "width": null
     }
    },
    "92fd7e5e0121498ea546723df927a177": {
     "model_module": "@jupyter-widgets/controls",
     "model_module_version": "1.5.0",
     "model_name": "HTMLModel",
     "state": {
      "_dom_classes": [],
      "_model_module": "@jupyter-widgets/controls",
      "_model_module_version": "1.5.0",
      "_model_name": "HTMLModel",
      "_view_count": null,
      "_view_module": "@jupyter-widgets/controls",
      "_view_module_version": "1.5.0",
      "_view_name": "HTMLView",
      "description": "",
      "description_tooltip": null,
      "layout": "IPY_MODEL_a0bdbe4b1c624091800df30b63a32a26",
      "placeholder": "​",
      "style": "IPY_MODEL_1d12e9a16a354eaaa591e0992b8fe6d2",
      "value": "Downloading: 100%"
     }
    },
    "94e2f50f1db24a59a798863fe058ac33": {
     "model_module": "@jupyter-widgets/controls",
     "model_module_version": "1.5.0",
     "model_name": "DescriptionStyleModel",
     "state": {
      "_model_module": "@jupyter-widgets/controls",
      "_model_module_version": "1.5.0",
      "_model_name": "DescriptionStyleModel",
      "_view_count": null,
      "_view_module": "@jupyter-widgets/base",
      "_view_module_version": "1.2.0",
      "_view_name": "StyleView",
      "description_width": ""
     }
    },
    "9fbce265a4ff45b285a156916df65739": {
     "model_module": "@jupyter-widgets/controls",
     "model_module_version": "1.5.0",
     "model_name": "HTMLModel",
     "state": {
      "_dom_classes": [],
      "_model_module": "@jupyter-widgets/controls",
      "_model_module_version": "1.5.0",
      "_model_name": "HTMLModel",
      "_view_count": null,
      "_view_module": "@jupyter-widgets/controls",
      "_view_module_version": "1.5.0",
      "_view_name": "HTMLView",
      "description": "",
      "description_tooltip": null,
      "layout": "IPY_MODEL_dfe73e236fd340e4943ad80bcc2d1e2c",
      "placeholder": "​",
      "style": "IPY_MODEL_035c632bf8d34d82a7cb45cb573d48cf",
      "value": "Downloading: 100%"
     }
    },
    "a0bdbe4b1c624091800df30b63a32a26": {
     "model_module": "@jupyter-widgets/base",
     "model_module_version": "1.2.0",
     "model_name": "LayoutModel",
     "state": {
      "_model_module": "@jupyter-widgets/base",
      "_model_module_version": "1.2.0",
      "_model_name": "LayoutModel",
      "_view_count": null,
      "_view_module": "@jupyter-widgets/base",
      "_view_module_version": "1.2.0",
      "_view_name": "LayoutView",
      "align_content": null,
      "align_items": null,
      "align_self": null,
      "border": null,
      "bottom": null,
      "display": null,
      "flex": null,
      "flex_flow": null,
      "grid_area": null,
      "grid_auto_columns": null,
      "grid_auto_flow": null,
      "grid_auto_rows": null,
      "grid_column": null,
      "grid_gap": null,
      "grid_row": null,
      "grid_template_areas": null,
      "grid_template_columns": null,
      "grid_template_rows": null,
      "height": null,
      "justify_content": null,
      "justify_items": null,
      "left": null,
      "margin": null,
      "max_height": null,
      "max_width": null,
      "min_height": null,
      "min_width": null,
      "object_fit": null,
      "object_position": null,
      "order": null,
      "overflow": null,
      "overflow_x": null,
      "overflow_y": null,
      "padding": null,
      "right": null,
      "top": null,
      "visibility": null,
      "width": null
     }
    },
    "a489b98360d84e6faeb7b0fa0bb12e8c": {
     "model_module": "@jupyter-widgets/controls",
     "model_module_version": "1.5.0",
     "model_name": "HTMLModel",
     "state": {
      "_dom_classes": [],
      "_model_module": "@jupyter-widgets/controls",
      "_model_module_version": "1.5.0",
      "_model_name": "HTMLModel",
      "_view_count": null,
      "_view_module": "@jupyter-widgets/controls",
      "_view_module_version": "1.5.0",
      "_view_name": "HTMLView",
      "description": "",
      "description_tooltip": null,
      "layout": "IPY_MODEL_afaf49babe8d4a7d87608a620f177df0",
      "placeholder": "​",
      "style": "IPY_MODEL_8038f22f204d4e1eb05e46e05953104a",
      "value": " 570/570 [00:00&lt;00:00, 12.0kB/s]"
     }
    },
    "a8462fe82f414bbf8689d14250be83f0": {
     "model_module": "@jupyter-widgets/controls",
     "model_module_version": "1.5.0",
     "model_name": "DescriptionStyleModel",
     "state": {
      "_model_module": "@jupyter-widgets/controls",
      "_model_module_version": "1.5.0",
      "_model_name": "DescriptionStyleModel",
      "_view_count": null,
      "_view_module": "@jupyter-widgets/base",
      "_view_module_version": "1.2.0",
      "_view_name": "StyleView",
      "description_width": ""
     }
    },
    "aa89bcd9afe14b73bb85c5b66d829ead": {
     "model_module": "@jupyter-widgets/controls",
     "model_module_version": "1.5.0",
     "model_name": "ProgressStyleModel",
     "state": {
      "_model_module": "@jupyter-widgets/controls",
      "_model_module_version": "1.5.0",
      "_model_name": "ProgressStyleModel",
      "_view_count": null,
      "_view_module": "@jupyter-widgets/base",
      "_view_module_version": "1.2.0",
      "_view_name": "StyleView",
      "bar_color": null,
      "description_width": ""
     }
    },
    "afaf49babe8d4a7d87608a620f177df0": {
     "model_module": "@jupyter-widgets/base",
     "model_module_version": "1.2.0",
     "model_name": "LayoutModel",
     "state": {
      "_model_module": "@jupyter-widgets/base",
      "_model_module_version": "1.2.0",
      "_model_name": "LayoutModel",
      "_view_count": null,
      "_view_module": "@jupyter-widgets/base",
      "_view_module_version": "1.2.0",
      "_view_name": "LayoutView",
      "align_content": null,
      "align_items": null,
      "align_self": null,
      "border": null,
      "bottom": null,
      "display": null,
      "flex": null,
      "flex_flow": null,
      "grid_area": null,
      "grid_auto_columns": null,
      "grid_auto_flow": null,
      "grid_auto_rows": null,
      "grid_column": null,
      "grid_gap": null,
      "grid_row": null,
      "grid_template_areas": null,
      "grid_template_columns": null,
      "grid_template_rows": null,
      "height": null,
      "justify_content": null,
      "justify_items": null,
      "left": null,
      "margin": null,
      "max_height": null,
      "max_width": null,
      "min_height": null,
      "min_width": null,
      "object_fit": null,
      "object_position": null,
      "order": null,
      "overflow": null,
      "overflow_x": null,
      "overflow_y": null,
      "padding": null,
      "right": null,
      "top": null,
      "visibility": null,
      "width": null
     }
    },
    "bd84bf8b28994e75a996fd40083645d5": {
     "model_module": "@jupyter-widgets/base",
     "model_module_version": "1.2.0",
     "model_name": "LayoutModel",
     "state": {
      "_model_module": "@jupyter-widgets/base",
      "_model_module_version": "1.2.0",
      "_model_name": "LayoutModel",
      "_view_count": null,
      "_view_module": "@jupyter-widgets/base",
      "_view_module_version": "1.2.0",
      "_view_name": "LayoutView",
      "align_content": null,
      "align_items": null,
      "align_self": null,
      "border": null,
      "bottom": null,
      "display": null,
      "flex": null,
      "flex_flow": null,
      "grid_area": null,
      "grid_auto_columns": null,
      "grid_auto_flow": null,
      "grid_auto_rows": null,
      "grid_column": null,
      "grid_gap": null,
      "grid_row": null,
      "grid_template_areas": null,
      "grid_template_columns": null,
      "grid_template_rows": null,
      "height": null,
      "justify_content": null,
      "justify_items": null,
      "left": null,
      "margin": null,
      "max_height": null,
      "max_width": null,
      "min_height": null,
      "min_width": null,
      "object_fit": null,
      "object_position": null,
      "order": null,
      "overflow": null,
      "overflow_x": null,
      "overflow_y": null,
      "padding": null,
      "right": null,
      "top": null,
      "visibility": null,
      "width": null
     }
    },
    "c30dc4d9446d47a78c13772fc7903a89": {
     "model_module": "@jupyter-widgets/base",
     "model_module_version": "1.2.0",
     "model_name": "LayoutModel",
     "state": {
      "_model_module": "@jupyter-widgets/base",
      "_model_module_version": "1.2.0",
      "_model_name": "LayoutModel",
      "_view_count": null,
      "_view_module": "@jupyter-widgets/base",
      "_view_module_version": "1.2.0",
      "_view_name": "LayoutView",
      "align_content": null,
      "align_items": null,
      "align_self": null,
      "border": null,
      "bottom": null,
      "display": null,
      "flex": null,
      "flex_flow": null,
      "grid_area": null,
      "grid_auto_columns": null,
      "grid_auto_flow": null,
      "grid_auto_rows": null,
      "grid_column": null,
      "grid_gap": null,
      "grid_row": null,
      "grid_template_areas": null,
      "grid_template_columns": null,
      "grid_template_rows": null,
      "height": null,
      "justify_content": null,
      "justify_items": null,
      "left": null,
      "margin": null,
      "max_height": null,
      "max_width": null,
      "min_height": null,
      "min_width": null,
      "object_fit": null,
      "object_position": null,
      "order": null,
      "overflow": null,
      "overflow_x": null,
      "overflow_y": null,
      "padding": null,
      "right": null,
      "top": null,
      "visibility": null,
      "width": null
     }
    },
    "cf71bb0a262145e28ab5921d64d7d39a": {
     "model_module": "@jupyter-widgets/base",
     "model_module_version": "1.2.0",
     "model_name": "LayoutModel",
     "state": {
      "_model_module": "@jupyter-widgets/base",
      "_model_module_version": "1.2.0",
      "_model_name": "LayoutModel",
      "_view_count": null,
      "_view_module": "@jupyter-widgets/base",
      "_view_module_version": "1.2.0",
      "_view_name": "LayoutView",
      "align_content": null,
      "align_items": null,
      "align_self": null,
      "border": null,
      "bottom": null,
      "display": null,
      "flex": null,
      "flex_flow": null,
      "grid_area": null,
      "grid_auto_columns": null,
      "grid_auto_flow": null,
      "grid_auto_rows": null,
      "grid_column": null,
      "grid_gap": null,
      "grid_row": null,
      "grid_template_areas": null,
      "grid_template_columns": null,
      "grid_template_rows": null,
      "height": null,
      "justify_content": null,
      "justify_items": null,
      "left": null,
      "margin": null,
      "max_height": null,
      "max_width": null,
      "min_height": null,
      "min_width": null,
      "object_fit": null,
      "object_position": null,
      "order": null,
      "overflow": null,
      "overflow_x": null,
      "overflow_y": null,
      "padding": null,
      "right": null,
      "top": null,
      "visibility": null,
      "width": null
     }
    },
    "d065fa1ac906488880b38d6608efa341": {
     "model_module": "@jupyter-widgets/controls",
     "model_module_version": "1.5.0",
     "model_name": "HBoxModel",
     "state": {
      "_dom_classes": [],
      "_model_module": "@jupyter-widgets/controls",
      "_model_module_version": "1.5.0",
      "_model_name": "HBoxModel",
      "_view_count": null,
      "_view_module": "@jupyter-widgets/controls",
      "_view_module_version": "1.5.0",
      "_view_name": "HBoxView",
      "box_style": "",
      "children": [
       "IPY_MODEL_49bee60d18f44440b12632cd6a98b295",
       "IPY_MODEL_8ccda71132be42cab45c2075425dafc0",
       "IPY_MODEL_8c7306c7f7ef44a69753490d0e903fb2"
      ],
      "layout": "IPY_MODEL_724fee038a774dddbd6852cdb829a169"
     }
    },
    "d379a10d7e584640883eaf59b61e07d0": {
     "model_module": "@jupyter-widgets/controls",
     "model_module_version": "1.5.0",
     "model_name": "HTMLModel",
     "state": {
      "_dom_classes": [],
      "_model_module": "@jupyter-widgets/controls",
      "_model_module_version": "1.5.0",
      "_model_name": "HTMLModel",
      "_view_count": null,
      "_view_module": "@jupyter-widgets/controls",
      "_view_module_version": "1.5.0",
      "_view_name": "HTMLView",
      "description": "",
      "description_tooltip": null,
      "layout": "IPY_MODEL_cf71bb0a262145e28ab5921d64d7d39a",
      "placeholder": "​",
      "style": "IPY_MODEL_94e2f50f1db24a59a798863fe058ac33",
      "value": " 28.0/28.0 [00:00&lt;00:00, 662B/s]"
     }
    },
    "d5bbbb4424b64f8386af1130ce725b1c": {
     "model_module": "@jupyter-widgets/base",
     "model_module_version": "1.2.0",
     "model_name": "LayoutModel",
     "state": {
      "_model_module": "@jupyter-widgets/base",
      "_model_module_version": "1.2.0",
      "_model_name": "LayoutModel",
      "_view_count": null,
      "_view_module": "@jupyter-widgets/base",
      "_view_module_version": "1.2.0",
      "_view_name": "LayoutView",
      "align_content": null,
      "align_items": null,
      "align_self": null,
      "border": null,
      "bottom": null,
      "display": null,
      "flex": null,
      "flex_flow": null,
      "grid_area": null,
      "grid_auto_columns": null,
      "grid_auto_flow": null,
      "grid_auto_rows": null,
      "grid_column": null,
      "grid_gap": null,
      "grid_row": null,
      "grid_template_areas": null,
      "grid_template_columns": null,
      "grid_template_rows": null,
      "height": null,
      "justify_content": null,
      "justify_items": null,
      "left": null,
      "margin": null,
      "max_height": null,
      "max_width": null,
      "min_height": null,
      "min_width": null,
      "object_fit": null,
      "object_position": null,
      "order": null,
      "overflow": null,
      "overflow_x": null,
      "overflow_y": null,
      "padding": null,
      "right": null,
      "top": null,
      "visibility": null,
      "width": null
     }
    },
    "dc0da4216a8746e9a4c41e55d94d1bfc": {
     "model_module": "@jupyter-widgets/base",
     "model_module_version": "1.2.0",
     "model_name": "LayoutModel",
     "state": {
      "_model_module": "@jupyter-widgets/base",
      "_model_module_version": "1.2.0",
      "_model_name": "LayoutModel",
      "_view_count": null,
      "_view_module": "@jupyter-widgets/base",
      "_view_module_version": "1.2.0",
      "_view_name": "LayoutView",
      "align_content": null,
      "align_items": null,
      "align_self": null,
      "border": null,
      "bottom": null,
      "display": null,
      "flex": null,
      "flex_flow": null,
      "grid_area": null,
      "grid_auto_columns": null,
      "grid_auto_flow": null,
      "grid_auto_rows": null,
      "grid_column": null,
      "grid_gap": null,
      "grid_row": null,
      "grid_template_areas": null,
      "grid_template_columns": null,
      "grid_template_rows": null,
      "height": null,
      "justify_content": null,
      "justify_items": null,
      "left": null,
      "margin": null,
      "max_height": null,
      "max_width": null,
      "min_height": null,
      "min_width": null,
      "object_fit": null,
      "object_position": null,
      "order": null,
      "overflow": null,
      "overflow_x": null,
      "overflow_y": null,
      "padding": null,
      "right": null,
      "top": null,
      "visibility": null,
      "width": null
     }
    },
    "dfe73e236fd340e4943ad80bcc2d1e2c": {
     "model_module": "@jupyter-widgets/base",
     "model_module_version": "1.2.0",
     "model_name": "LayoutModel",
     "state": {
      "_model_module": "@jupyter-widgets/base",
      "_model_module_version": "1.2.0",
      "_model_name": "LayoutModel",
      "_view_count": null,
      "_view_module": "@jupyter-widgets/base",
      "_view_module_version": "1.2.0",
      "_view_name": "LayoutView",
      "align_content": null,
      "align_items": null,
      "align_self": null,
      "border": null,
      "bottom": null,
      "display": null,
      "flex": null,
      "flex_flow": null,
      "grid_area": null,
      "grid_auto_columns": null,
      "grid_auto_flow": null,
      "grid_auto_rows": null,
      "grid_column": null,
      "grid_gap": null,
      "grid_row": null,
      "grid_template_areas": null,
      "grid_template_columns": null,
      "grid_template_rows": null,
      "height": null,
      "justify_content": null,
      "justify_items": null,
      "left": null,
      "margin": null,
      "max_height": null,
      "max_width": null,
      "min_height": null,
      "min_width": null,
      "object_fit": null,
      "object_position": null,
      "order": null,
      "overflow": null,
      "overflow_x": null,
      "overflow_y": null,
      "padding": null,
      "right": null,
      "top": null,
      "visibility": null,
      "width": null
     }
    },
    "e1cf5ad9887d442192a59374f43635cb": {
     "model_module": "@jupyter-widgets/base",
     "model_module_version": "1.2.0",
     "model_name": "LayoutModel",
     "state": {
      "_model_module": "@jupyter-widgets/base",
      "_model_module_version": "1.2.0",
      "_model_name": "LayoutModel",
      "_view_count": null,
      "_view_module": "@jupyter-widgets/base",
      "_view_module_version": "1.2.0",
      "_view_name": "LayoutView",
      "align_content": null,
      "align_items": null,
      "align_self": null,
      "border": null,
      "bottom": null,
      "display": null,
      "flex": null,
      "flex_flow": null,
      "grid_area": null,
      "grid_auto_columns": null,
      "grid_auto_flow": null,
      "grid_auto_rows": null,
      "grid_column": null,
      "grid_gap": null,
      "grid_row": null,
      "grid_template_areas": null,
      "grid_template_columns": null,
      "grid_template_rows": null,
      "height": null,
      "justify_content": null,
      "justify_items": null,
      "left": null,
      "margin": null,
      "max_height": null,
      "max_width": null,
      "min_height": null,
      "min_width": null,
      "object_fit": null,
      "object_position": null,
      "order": null,
      "overflow": null,
      "overflow_x": null,
      "overflow_y": null,
      "padding": null,
      "right": null,
      "top": null,
      "visibility": null,
      "width": null
     }
    },
    "e27e95319a4b4c52b29b420c52470bd7": {
     "model_module": "@jupyter-widgets/controls",
     "model_module_version": "1.5.0",
     "model_name": "ProgressStyleModel",
     "state": {
      "_model_module": "@jupyter-widgets/controls",
      "_model_module_version": "1.5.0",
      "_model_name": "ProgressStyleModel",
      "_view_count": null,
      "_view_module": "@jupyter-widgets/base",
      "_view_module_version": "1.2.0",
      "_view_name": "StyleView",
      "bar_color": null,
      "description_width": ""
     }
    },
    "ef8f674b990a471f8d733b5301e18d98": {
     "model_module": "@jupyter-widgets/base",
     "model_module_version": "1.2.0",
     "model_name": "LayoutModel",
     "state": {
      "_model_module": "@jupyter-widgets/base",
      "_model_module_version": "1.2.0",
      "_model_name": "LayoutModel",
      "_view_count": null,
      "_view_module": "@jupyter-widgets/base",
      "_view_module_version": "1.2.0",
      "_view_name": "LayoutView",
      "align_content": null,
      "align_items": null,
      "align_self": null,
      "border": null,
      "bottom": null,
      "display": null,
      "flex": null,
      "flex_flow": null,
      "grid_area": null,
      "grid_auto_columns": null,
      "grid_auto_flow": null,
      "grid_auto_rows": null,
      "grid_column": null,
      "grid_gap": null,
      "grid_row": null,
      "grid_template_areas": null,
      "grid_template_columns": null,
      "grid_template_rows": null,
      "height": null,
      "justify_content": null,
      "justify_items": null,
      "left": null,
      "margin": null,
      "max_height": null,
      "max_width": null,
      "min_height": null,
      "min_width": null,
      "object_fit": null,
      "object_position": null,
      "order": null,
      "overflow": null,
      "overflow_x": null,
      "overflow_y": null,
      "padding": null,
      "right": null,
      "top": null,
      "visibility": null,
      "width": null
     }
    },
    "f583a98f983b46fa8559aacf4d2a3d9b": {
     "model_module": "@jupyter-widgets/base",
     "model_module_version": "1.2.0",
     "model_name": "LayoutModel",
     "state": {
      "_model_module": "@jupyter-widgets/base",
      "_model_module_version": "1.2.0",
      "_model_name": "LayoutModel",
      "_view_count": null,
      "_view_module": "@jupyter-widgets/base",
      "_view_module_version": "1.2.0",
      "_view_name": "LayoutView",
      "align_content": null,
      "align_items": null,
      "align_self": null,
      "border": null,
      "bottom": null,
      "display": null,
      "flex": null,
      "flex_flow": null,
      "grid_area": null,
      "grid_auto_columns": null,
      "grid_auto_flow": null,
      "grid_auto_rows": null,
      "grid_column": null,
      "grid_gap": null,
      "grid_row": null,
      "grid_template_areas": null,
      "grid_template_columns": null,
      "grid_template_rows": null,
      "height": null,
      "justify_content": null,
      "justify_items": null,
      "left": null,
      "margin": null,
      "max_height": null,
      "max_width": null,
      "min_height": null,
      "min_width": null,
      "object_fit": null,
      "object_position": null,
      "order": null,
      "overflow": null,
      "overflow_x": null,
      "overflow_y": null,
      "padding": null,
      "right": null,
      "top": null,
      "visibility": null,
      "width": null
     }
    },
    "f71661087b694da58c0160a7456bcbcd": {
     "model_module": "@jupyter-widgets/controls",
     "model_module_version": "1.5.0",
     "model_name": "HTMLModel",
     "state": {
      "_dom_classes": [],
      "_model_module": "@jupyter-widgets/controls",
      "_model_module_version": "1.5.0",
      "_model_name": "HTMLModel",
      "_view_count": null,
      "_view_module": "@jupyter-widgets/controls",
      "_view_module_version": "1.5.0",
      "_view_name": "HTMLView",
      "description": "",
      "description_tooltip": null,
      "layout": "IPY_MODEL_9203ac2365ea44dba4b19baf4a363220",
      "placeholder": "​",
      "style": "IPY_MODEL_6744483f6dc04a3299e5034acb46f738",
      "value": "Downloading: 100%"
     }
    }
   }
  }
 },
 "nbformat": 4,
 "nbformat_minor": 5
}
