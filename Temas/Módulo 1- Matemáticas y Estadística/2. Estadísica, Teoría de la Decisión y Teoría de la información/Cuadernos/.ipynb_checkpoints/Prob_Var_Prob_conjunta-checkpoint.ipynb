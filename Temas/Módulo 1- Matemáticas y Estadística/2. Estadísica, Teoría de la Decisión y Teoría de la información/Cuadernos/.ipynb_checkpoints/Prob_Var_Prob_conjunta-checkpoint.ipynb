{
 "cells": [
  {
   "cell_type": "markdown",
   "metadata": {},
   "source": [
    "**Diplomado en Inteligencia Artificial y Aprendizaje Profundo**"
   ]
  },
  {
   "cell_type": "markdown",
   "metadata": {},
   "source": [
    "# Probabilidad conjunta"
   ]
  },
  {
   "cell_type": "markdown",
   "metadata": {},
   "source": [
    "##  Autores"
   ]
  },
  {
   "cell_type": "markdown",
   "metadata": {},
   "source": [
    "1. Alvaro Mauricio Montenegro Díaz, ammontenegrod@unal.edu.co\n",
    "2. Daniel Mauricio Montenegro Reyes, dextronomo@gmail.com \n",
    "3. Oleg Jarma, ojarmam@unal.edu.co\n",
    "4. Maria del Pilar Montenegro, pmontenegro88@gmail.com"
   ]
  },
  {
   "cell_type": "markdown",
   "metadata": {},
   "source": [
    "## Contenido"
   ]
  },
  {
   "cell_type": "markdown",
   "metadata": {},
   "source": [
    "* [Introducción](#Introducción)\n",
    "* [El ejemplo de la moneda cargada](#El-ejemplo-de-la-moneda-cargada)\n",
    "* [Función de probabilidad conjunta](#Función-de-probabilidad-conjunta)\n",
    "* [Distribución marginal](#Distribución-marginal)\n",
    "* [Correlación](#Correlación)\n",
    "* [Información mutua](#Información-mutua)"
   ]
  },
  {
   "cell_type": "markdown",
   "metadata": {},
   "source": [
    "## Introducción"
   ]
  },
  {
   "cell_type": "markdown",
   "metadata": {},
   "source": [
    "En esta lección se introducen el concepto de función de probabilidad conjunta. Se introducen los conceptos de correlación e información mutua."
   ]
  },
  {
   "cell_type": "markdown",
   "metadata": {},
   "source": [
    "## El ejemplo de la moneda cargada"
   ]
  },
  {
   "cell_type": "markdown",
   "metadata": {},
   "source": [
    "Usaremos el ejemplo de la Variable Bernoulli de la [lección de variables aleatorias](Prob_Variables_Aleatorias.ipynb). En realidad el ejemplo puede reescribirse usando como experimento el lanzamiento de una moneda cargada. Suponemos dos posibles resultados cara $(g=1)$ y sello $g=0$. Suponemos además que $\\text{Prob}[g=1]= 0.6$ y por tanto $\\text{Prob}[g=0]= 0.4$. El experimento consiste en lanzar tres veces la moneda cargada y anotar el resultado: cara (1) o sello (0).\n",
    "\n",
    "Ahora definimos dos variables aleatorias. La primera  que llmaremos $X$, corresponde a contar el número de caras que salen. De acuerdo con los resultados de la [lección de variables aleatorias](Prob_Variables_Aleatorias.ipynb), la función de probabilidad de $X$, denotada $p_X$ es dada por extensión de  la siguiente forma:\n",
    "\n",
    "|Valor |Experimentos| probabilidad cada experimento| probabilidad para este valor de $X$| total|\n",
    "|---|---|---| ---|---|\n",
    "|0| 000| $0.4\\times 0.4 \\times 0.4$|0.064|0.064|\n",
    "|1| 100| $0.6\\times 0.4 \\times 0.4$|0.096||\n",
    "|1| 010| $0.4 \\times 0.6\\times 0.4$|0.096||\n",
    "|1| 001| $0.4 \\times 0.4\\times 0.6$|0.096|0.288|\n",
    "|2| 110| $0.6\\times 0.6 \\times 0.4$|0.144||\n",
    "|2| 011| $0.4 \\times 0.6\\times 0.6$|0.144||\n",
    "|2| 101| $0.6 \\times 0.4 \\times 0.6$|0.144|0.432|\n",
    "|3| 111| $0.6 \\times 0.6\\times 0.6$|0.216|0.216 |\n",
    "\n",
    "Recuerde que obtuvimos que $\\mathbb{E}[X]=1.8$.  Además se tiene que $\\text{Var}[X]=0.72$ y $\\sigma_X = 0.849$"
   ]
  },
  {
   "cell_type": "markdown",
   "metadata": {},
   "source": [
    "### Ejercicio"
   ]
  },
  {
   "cell_type": "markdown",
   "metadata": {},
   "source": [
    "Por favor verifique que si $X\\sim \\text{Binom}(N,\\pi)$, entonces \n",
    "\n",
    "1. $\\mathbb{E}[X]=N\\pi$ \n",
    "2. $\\text{Var}[X]=N\\pi(1-\\pi)$."
   ]
  },
  {
   "cell_type": "markdown",
   "metadata": {},
   "source": [
    "La segunda variable que llamaremos $Y$ se defien como sigue:\n",
    "\n",
    "$$\n",
    "Y = \\begin{cases}  0, &\\text{ si no sale ninguna cara} \\\\\n",
    "1, &\\text{ si salen una o dos caras}\\\\\n",
    "-1, &\\text{ si salen tres caras}\n",
    "\\end{cases}\n",
    "$$\n",
    "\n",
    "a función de probabilidad de  Y , denotada  $p_Y$  es dada por extensión de la siguiente forma:\n",
    "\n",
    "|Valor |Experimentos| probabilidad cada experimento| probabilidad para este valor de $Y$| total|\n",
    "|---|---|---| ---|---|\n",
    "|0| 000| $0.4\\times 0.4 \\times 0.4$|0.064|0.064|\n",
    "|1| 100| $0.6\\times 0.4 \\times 0.4$|0.096||\n",
    "|1| 010| $0.4 \\times 0.6\\times 0.4$|0.096||\n",
    "|1| 001| $0.4 \\times 0.4\\times 0.6$|0.096||\n",
    "|1| 110| $0.6\\times 0.6 \\times 0.4$|0.144||\n",
    "|1| 011| $0.4 \\times 0.6\\times 0.6$|0.144||\n",
    "|1| 101| $0.6 \\times 0.4 \\times 0.6$|0.144|0.720|\n",
    "|-1| 111| $0.6 \\times 0.6\\times 0.6$|0.216|0.216 |\n",
    "\n",
    "Recuerde que siente que \n",
    "\n",
    "$$\n",
    "\\begin{align}\n",
    "\\mathbb{E}[Y] &= 0\\times 0.064 +  1\\times 0.72 +(-1)\\times 0.216 = 0.504\\\\\n",
    "\\text{Var}[Y] &=  (0-0.504)^2\\times 0.064 + (1-0.504)^2\\times 0.720 + (-1-0.504)^2\\times 0.216 = 0.682\\\\\n",
    "\\sigma_Y &= 0.826\n",
    "\\end{align}\n",
    "$$\n",
    "\n"
   ]
  },
  {
   "cell_type": "markdown",
   "metadata": {},
   "source": [
    "## Función de probabilidad conjunta"
   ]
  },
  {
   "cell_type": "markdown",
   "metadata": {},
   "source": [
    "Abordemos el problema de determinar comso está relacionadas (asociadas) estas dos variables. Para empezar observe la siguiente tabla que muestra como coocurren los valores de las dos variables aleatorias\n",
    "\n",
    "\n",
    "|X/Y|0|1|-1|\n",
    "|---|---|---|---|\n",
    "|0|000|---------|---|\n",
    "|1|---|100 010 001|---|\n",
    "|2|---|101 110 011|---|\n",
    "|3|---|---------|111|\n",
    "\n",
    "La celdas vacias indican parejas de valores $(x,y)$ que no pueden ocurrir. La función de probabilidad conjunta de la variables $X$ y $Y$ se define como la función de dos variables dada por \n",
    "\n",
    "$$\n",
    "p_{XY}(x,y) = \\text{Prob}(X=x, Y=y).\n",
    "$$\n",
    "\n",
    "En nuestro ejemplo, la función de probabilidad conjunta es definida por extensión de la siguiente forma\n",
    "\n",
    "|$p_{XY}$|0|1|-1|$P_X$|\n",
    "|---|---|---|---|---|\n",
    "|0|0.064|0.000|0.000|0.064|\n",
    "|1|0.000|0.288|0.000|0.288|\n",
    "|2|0.000|0.432|0.000|0.432|\n",
    "|3|0.000|0.000| 0.216|0.216|\n",
    "|$P_Y$|0.064|0.720| 0.216|1.000|\n"
   ]
  },
  {
   "cell_type": "markdown",
   "metadata": {},
   "source": [
    "## Distribución marginal"
   ]
  },
  {
   "cell_type": "markdown",
   "metadata": {},
   "source": [
    "Observe que en la última fila de la columna se recupera la función de probabilidad de $Y$. De la misma forma, en la última columna se recupera la función de probabilidad de $X$. En este contexto de funciones de probabilidad conjunta, las funciones $P_X$ y $P_Y$ se llaman funciones de probabilidad marginales. En este caso, cada valior corresponde a la suma de la fila o columna correspondiente. La celda inferior derecha muestra la suma total de probabilidades, que claro debe ser 1.0."
   ]
  },
  {
   "cell_type": "markdown",
   "metadata": {},
   "source": [
    "## Correlación"
   ]
  },
  {
   "cell_type": "markdown",
   "metadata": {},
   "source": [
    "El concepto de correlación está completamente asociado a las funcion de distribución conjunta de dos variables aleatorias. Escencialmente, la correlación mide como covarían las dos variables aleatorias. Supongamos que $X$ y $Y$ son variables aleatorias definidas sobre el mismo espacio muestral como en el ejemplo anterior.\n",
    "\n",
    "Además supongamos que la media y la desvición estándar de cada variable se denotan como $\\mu_X$, $\\sigma_X$ y $\\mu_Y$ y $\\sigma_Y$ respectivamente. Entonces se tiene que la correlación entre las dos variables aleatorias es dada por\n",
    "\n",
    "$$\n",
    "Cor(X,Y) = \\mathbb{E}\\left[\\frac{(X-\\mu_X)}{\\sigma_X}\\frac{(Y-\\mu_Y)}{\\sigma_Y} \\right]= \\frac{\\mathbb{E}(XY) - \\mathbb{E}(X)\\mathbb{E}(Y)}{\\sigma_X \\sigma_Y}.\n",
    "$$\n"
   ]
  },
  {
   "cell_type": "markdown",
   "metadata": {},
   "source": [
    "### Ejemplo"
   ]
  },
  {
   "cell_type": "markdown",
   "metadata": {},
   "source": [
    "Vamos a calcular la correlación de las variables del ejemplo anterior. Usaremos la segunda ecuación. La igualdad puede ser verificada sin mucha dificutad.\n",
    "\n",
    "La única cantidad que no tenemos aún es $\\mathbb{E}(XY)$, la cual puede calcularse como sigue:\n",
    "\n",
    "\n",
    "\n",
    "$$\n",
    "\\mathbb{E}(XY) = \\sum_i \\sum_j x_iy_j P_{XY}(x_i,y_j)\n",
    "$$\n",
    "\n",
    "En nuestro ejemplo tenemos que \n",
    "\n",
    "$$\n",
    "\\mathbb{E}(XY) =  1 \\times 1 \\times P_{XY}(1,1) + 2 \\times 1 \\times P_{XY}(2,1) + 3\\times (-1)\\times P_{XY}(3,-1) = 0.504\n",
    "$$"
   ]
  },
  {
   "cell_type": "markdown",
   "metadata": {},
   "source": [
    "En consecuencia se tiene que\n",
    "\n",
    "$$\n",
    "Cor(X,Y) = \\frac{0.504 - 1.8\\times 0.504}{0.849\\times 0.826} = -0.568\n",
    "$$"
   ]
  },
  {
   "cell_type": "markdown",
   "metadata": {},
   "source": [
    "## Información mutua"
   ]
  },
  {
   "cell_type": "markdown",
   "metadata": {},
   "source": [
    "\n",
    "\n",
    "Este concepto es el análogo a la correlación, pero en este caso desde la\n",
    "teoría de la infromación de Shanon.\n",
    "\n",
    "Para distribuciones (variables aleatorias) discretas conjuntamente distribuidas\n",
    "la informacion conjunta se define por\n",
    "\n",
    "$$\n",
    "I(X,Y)=\\sum_{y\\in Y}\\sum_{x\\in X}p_{XY}(x,y) \\log \\left(\\frac {p_{XY}(x,y)}{p_X(x)p_{Y}(y)}\\right)\n",
    "$$\n",
    "\n",
    "Observe que si las variables aleatorias son independientes, entonces $I(X,Y)=0$.\n",
    "\n"
   ]
  },
  {
   "cell_type": "markdown",
   "metadata": {},
   "source": [
    "- [Regresar al inicio](#Contenido)"
   ]
  }
 ],
 "metadata": {
  "kernelspec": {
   "display_name": "Python 3",
   "language": "python",
   "name": "python3"
  },
  "language_info": {
   "codemirror_mode": {
    "name": "ipython",
    "version": 3
   },
   "file_extension": ".py",
   "mimetype": "text/x-python",
   "name": "python",
   "nbconvert_exporter": "python",
   "pygments_lexer": "ipython3",
   "version": "3.7.7"
  },
  "toc-autonumbering": false
 },
 "nbformat": 4,
 "nbformat_minor": 4
}
