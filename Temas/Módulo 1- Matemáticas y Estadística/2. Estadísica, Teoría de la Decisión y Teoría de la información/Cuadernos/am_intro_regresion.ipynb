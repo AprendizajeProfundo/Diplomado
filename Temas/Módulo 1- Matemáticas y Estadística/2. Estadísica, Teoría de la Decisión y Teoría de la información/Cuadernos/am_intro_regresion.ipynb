{
 "cells": [
  {
   "cell_type": "markdown",
   "metadata": {},
   "source": [
    "# <span style=\"color:green\"><center>Diplomado en Inteligencia Artificial y Aprendizaje Profundo</center></span>"
   ]
  },
  {
   "cell_type": "markdown",
   "metadata": {},
   "source": [
    "# <span style=\"color:red\"><center>Conceptos básicos de regresión</center></span>"
   ]
  },
  {
   "cell_type": "markdown",
   "metadata": {},
   "source": [
    "##   <span style=\"color:blue\">Profesores</span>"
   ]
  },
  {
   "cell_type": "markdown",
   "metadata": {},
   "source": [
    "1. Alvaro Mauricio Montenegro Díaz, ammontenegrod@unal.edu.co\n",
    "2. Daniel Mauricio Montenegro Reyes, dextronomo@gmail.com \n",
    "3. Campo Elías Pardo Turriago, cepardot@unal.edu.co "
   ]
  },
  {
   "cell_type": "markdown",
   "metadata": {},
   "source": [
    "##   <span style=\"color:blue\">Asesora Medios y Marketing digital</span>\n",
    " "
   ]
  },
  {
   "cell_type": "markdown",
   "metadata": {},
   "source": [
    "4. Maria del Pilar Montenegro, pmontenegro88@gmail.com "
   ]
  },
  {
   "cell_type": "markdown",
   "metadata": {},
   "source": [
    "## <span style=\"color:blue\">Asistentes</span>"
   ]
  },
  {
   "cell_type": "markdown",
   "metadata": {},
   "source": [
    "5. Oleg Jarma, ojarmam@unal.edu.co \n",
    "6. Laura Lizarazo, ljlizarazore@unal.edu.co "
   ]
  },
  {
   "cell_type": "markdown",
   "metadata": {},
   "source": [
    "## <span style=\"color:blue\">Contenido</span>"
   ]
  },
  {
   "cell_type": "markdown",
   "metadata": {},
   "source": [
    "* [Introducción](#Introducción)\n",
    "* [Ejemplo: modelo lineal](#Ejemplo:-modelo-lineal)\n",
    "* [Ejemplo: modelo cuadrático](#Ejemplo:-modelo-cuadrático)\n",
    "* [Modelo polinomial general](#Modelo-polinomial-general)\n",
    "* [Función de pérdida](#Función-de-pérdida)\n",
    "* [Pérdida en entrenamiento vs pérdida en validación](#Pérdida-en-entrenamiento-vs-pérdida-en-validación)\n",
    "* [Sobreajuste y otros problemas](#Sobreajuste-y-otros-problemas)\n",
    "* [Regularización](#Regularización)\n",
    "* [Regularización L2](#Regularización-L2)\n",
    "* [Regularización L1](#Regularización-L1)\n",
    "* [Regularización L1-L2](#Regularización-L1-L2)\n",
    "* [Perspectiva probabilística](#Perspectiva-probabilística)\n",
    "* [Distribución conjunta](#Distribución-conjunta)\n",
    "* [Verosimilitud](#Verosimilitud)\n",
    "* [Función de pérdida asociada a la log-verosimilitud](#Función-de-pérdida-asociada-a-la-log-verosimilitud)\n",
    "* [Densidad condicional](#Densidad-condicional)\n",
    "* [Regresión y máxima verosimilitud](#Regresión-y-máxima-verosimilitud)\n",
    "* [Distribución predictiva](#Distribución-predictiva)\n",
    "\n"
   ]
  },
  {
   "cell_type": "markdown",
   "metadata": {},
   "source": [
    "## <span style=\"color:blue\">Introducción</span>"
   ]
  },
  {
   "cell_type": "markdown",
   "metadata": {},
   "source": [
    "En esta lección se introduce una de las máquinas de aprendizaje más conocida. La máquina de regresión.\n",
    "\n",
    "En el caso más simple de un problema de regresión, lo que se busca es establecer una relación entre dos variables aleatorias. "
   ]
  },
  {
   "cell_type": "markdown",
   "metadata": {},
   "source": [
    "## <span style=\"color:blue\">Ejemplo 1: Modelo lineal</span>"
   ]
  },
  {
   "cell_type": "markdown",
   "metadata": {},
   "source": [
    "La gráfica presenta un conjunto de datos de entrenamiento de $ N = 11 $ puntos, que se muestran como círculos cafés, cada uno con una observación de la variable de entrada $ x $ junto con la variable objetivo correspondiente $ y $. \n",
    "\n",
    "\n",
    "Nuestro objetivo en este caso es entrenar una máquina de aprendizaje de tipo lineal, es decir, de la forma $y = ax+b$.\n",
    "\n",
    "\n",
    "La curva azul muestra la función $y= 0.8431 x + 6.339$, la cual corresponde la modelo lineal entrenado para este conjunto de datos. El entrenamiento fue desarrollado usando la función *polyfit* de numpy.\n",
    "\n",
    "El área sombreada corresponde a lo que los estadísticos llaman bandas de confianza. No entraremos en detalles, pero se espera que la mayor parte de los datos de entranamiento y validación queden dentro de tales bandas. Esta es una medida de la calidad de la máquina de aprendizaje. El gráfico muestra que las cosas no salieron muy bien. Esto es porque al parecer el comportamineto de los datos que no es lineal. \n",
    "\n",
    "Los datos de entrenamiento aparecen de color café y los datos de validación en color verde."
   ]
  },
  {
   "cell_type": "code",
   "execution_count": 10,
   "metadata": {},
   "outputs": [
    {
     "data": {
      "image/png": "[encoded data removed]",
      "text/plain": [
       "<Figure size 432x288 with 1 Axes>"
      ]
     },
     "metadata": {
      "needs_background": "light"
     },
     "output_type": "display_data"
    }
   ],
   "source": [
    "import matplotlib.pyplot as plt\n",
    "import numpy as np\n",
    "\n",
    "x_train = np.array([0,1,2,4,5,6,8,9,10])\n",
    "x_val =  np.array([3,7])\n",
    "\n",
    "y_train =  np.array([3.9, 4.4, 10.8,  11.2, 13.1, 14.1,  9.9,  15.1, 12.5])\n",
    "y_val =  np.array([10.3, 13.9])\n",
    "\n",
    "# fit a linear curve an estimate its y-values and their error.\n",
    "a, b = np.polyfit(x_train, y_train, deg=1)\n",
    "y_est = a * x_train + b\n",
    "y_err = x_train.std() * np.sqrt(1/len(x_train) +\n",
    "                          (x_train - x_train.mean())**2 / np.sum((x_train - x_train.mean())**2))\n",
    "\n",
    "fig, ax = plt.subplots()\n",
    "ax.plot(x_train, y_est, '-')\n",
    "ax.fill_between(x_train, y_est - y_err, y_est + y_err, alpha=0.2)\n",
    "ax.plot(x_train, y_train, 'o', color='tab:brown')\n",
    "ax.plot(x_val, y_val, 'o', color='tab:green')\n",
    "\n",
    "plt.show()\n"
   ]
  },
  {
   "cell_type": "markdown",
   "metadata": {},
   "source": [
    "## <span style=\"color:blue\">Ejemplo 2: Modelo cuadrático</span> \n"
   ]
  },
  {
   "cell_type": "markdown",
   "metadata": {},
   "source": [
    "En este  segundo intento vamos a entrenar un modelo  de tipo cuadrático de la forma $y = ax^2 + bx +c$.  Usaremos al misma herramienta para entrenar el modelo. La gráfica presenta el resultado."
   ]
  },
  {
   "cell_type": "code",
   "execution_count": 11,
   "metadata": {},
   "outputs": [
    {
     "data": {
      "image/png": "[encoded data removed]",
      "text/plain": [
       "<Figure size 432x288 with 1 Axes>"
      ]
     },
     "metadata": {
      "needs_background": "light"
     },
     "output_type": "display_data"
    }
   ],
   "source": [
    "import matplotlib.pyplot as plt\n",
    "import numpy as np\n",
    "\n",
    "x_train = np.array([0,1,2,4,5,6,8,9,10])\n",
    "x_val =  np.array([3,7])\n",
    "\n",
    "y_train =  np.array([3.9, 4.4, 10.8,  11.2, 13.1, 14.1,  9.9,  15.1, 12.5])\n",
    "y_val =  np.array([10.3, 13.9])\n",
    "\n",
    "\n",
    "# fit a linear curve an estimate its y-values and their error.\n",
    "a, b, c = np.polyfit(x_train, y_train, deg=2)\n",
    "y_est = a * x_train**2 + b *x_train + c\n",
    "y_err = x_train.std() * np.sqrt(1/len(x_train) +\n",
    "                          (x_train - x_train.mean())**2 / np.sum((x_train - x_train.mean())**2))\n",
    "\n",
    "fig, ax = plt.subplots()\n",
    "ax.plot(x_train, y_est, '-')\n",
    "ax.fill_between(x_train, y_est - y_err, y_est + y_err, alpha=0.2)\n",
    "ax.plot(x_train, y_train, 'o', color='tab:brown')\n",
    "ax.plot(x_val, y_val, 'o', color='tab:green')\n",
    "#plt.savefig('predictive.png')\n",
    "plt.show()\n",
    "\n"
   ]
  },
  {
   "cell_type": "markdown",
   "metadata": {},
   "source": [
    "El modelo obtenido es $y = f(x) = -0.165x^2 + 2.534x + 3.943$. \n",
    "\n",
    "De acuerdo con la bandas de confianza este es un mejor modelo. En general existen herramientas para juzgar que tan buena es nuestra máquina de aprendizaje.\n",
    "\n",
    "Los valores predichos por el modelo son los que caen sobre la curva. Observe como en este caso los datos de validación quedan bastante bien predichos."
   ]
  },
  {
   "cell_type": "markdown",
   "metadata": {},
   "source": [
    "## <span style=\"color:blue\">Ejemplo 3: Modelo polinomial general</span> "
   ]
  },
  {
   "cell_type": "markdown",
   "metadata": {},
   "source": [
    "Por el momento, procederemos de manera bastante informal y consideraremos un\n",
    "enfoque simple basado en el ajuste de curvas. En particular, ajustaremos los datos utilizando un\n",
    "función polinomial de la forma\n",
    "\n",
    "$$y = f(x,\\boldsymbol{w}) = w_0 + w_1x + w_2x^2+ . . . + w_M x^M = \\sum_{j=0}^M w_jx^j = $$\n",
    "\n"
   ]
  },
  {
   "cell_type": "markdown",
   "metadata": {},
   "source": [
    "## <span style=\"color:blue\">Función de pérdida</span>  "
   ]
  },
  {
   "cell_type": "markdown",
   "metadata": {},
   "source": [
    "\n",
    "Los valores de los coeficientes se determinarán ajustando el polinomio a la\n",
    "datos de entrenamiento. Esto se puede hacer minimizando una función de pérdida que mide la\n",
    "desajuste entre la función $f(x,\\boldsymbol{w})$, para cualquier valor de  $\\boldsymbol{w}$, y el conjunto de datos de entrenamiento.\n",
    "\n",
    "Una opción simple de función de pérdida, que se usa ampliamente, viene dada por\n",
    "el promedio de **los cuadrados de los errores** entre las predicciones  $f(x_n,\\boldsymbol{w})$, que denotaremos por $\\tilde{y}_n$,  y los correspondientes valores objetivo $y_n$, de tal manera que se minimice \n",
    "\n",
    "\n",
    "$$ECM(w) = \\frac{1}{N} \\sum_{n=1}^{N} [{f(x_n,\\boldsymbol{w}) − y_n}]^2 = \\frac{1}{N} \\sum_{n=1}^{N} [{\\tilde{y}_n − y_n}]^2$$, "
   ]
  },
  {
   "cell_type": "markdown",
   "metadata": {},
   "source": [
    "## <span style=\"color:blue\">Pérdida en entrenamiento vs pérdida en validación</span> "
   ]
  },
  {
   "cell_type": "markdown",
   "metadata": {},
   "source": [
    "Los datos de validación se notaran respectivamente como $x_n^*$ y $y_n^*$. Los datos de entrenamiento no tienen ningún símbolo adicional.\n",
    "\n",
    "Así, el ECM,en el modelo cuadrático para los datos de entrenamiento, luego de entrenada la máquina, es dado por\n",
    "\n",
    "$$\n",
    "ECM(w) = \\frac{1}{9} \\sum_{n=1}^{9} [{f(x_n,\\boldsymbol{w}) − y_n}]^2 = \\frac{1}{9} \\sum_{n=1}^{9} [{\\tilde{y}_n − y_n}]^2 = 3.1114\n",
    "$$\n",
    "\n",
    "Para los datos de validación se obtiene \n",
    "\n",
    "\n",
    "$$\n",
    "ECM(w) = \\frac{1}{2} \\sum_{n=1}^{2} [{f(x_n^*,\\boldsymbol{w}) − y_n^*}]^2 = \\frac{1}{9} \\sum_{n=1}^{2} [{\\tilde{y}_n^* − y_n^*}]^2 = 0.0758\n",
    "$$\n",
    "\n",
    "Este resultado, no es realmente tan placentero. Genera dudas, debido a que se espera que el ECM de validación y el de entrenamiento sea similares. Aquí se puede sospechar que los datos de validación no fueron obtenidos adecuadamente. \n",
    "\n",
    "El siguiente código Python enseña como hacer los cálculos de esta sección."
   ]
  },
  {
   "cell_type": "code",
   "execution_count": 12,
   "metadata": {},
   "outputs": [
    {
     "name": "stdout",
     "output_type": "stream",
     "text": [
      "3.052278640749228\n",
      "0.04602282952396599\n"
     ]
    }
   ],
   "source": [
    "# emc train data\n",
    "y_est_train = a * x_train**2 + b *x_train + c\n",
    "print (np.mean((y_train- y_est_train)**2))\n",
    "\n",
    "# emc validation data\n",
    "y_est_val = a * x_val**2 + b *x_val + c\n",
    "print (np.mean((y_val- y_est_val)**2))"
   ]
  },
  {
   "cell_type": "markdown",
   "metadata": {},
   "source": [
    "## <span style=\"color:blue\">Sobreajuste y otros problemas</span>"
   ]
  },
  {
   "cell_type": "markdown",
   "metadata": {},
   "source": [
    "\n",
    "La siguiente tabla  muestra los coeficientes (parámetros) de los  polinomios entrenados con varios órdenes $ M $.\n",
    "\n",
    "#### Parámetros de regresión de acuerdo con el grado del polinomio\n",
    "\n",
    "|$w$| M =1|  M=2| M=3 | M = 8|\n",
    "|---|---|---|---|---|\n",
    "|$w_0$|0.8836|-0.165|0.018|0.00002|\n",
    "|$w_1$|6.418|2.534|-0.439|-0.001|\n",
    "|$w_2$|---|3.942|3.580|-0.05|\n",
    "|$w_3$|---|---| 3.284|-0.75|\n",
    "|$w_4$|---|---|---|5.38|\n",
    "|$w_5$|---|---|---|-1.96|\n",
    "|$w_6$|---|---|---|33.8|\n",
    "|$w_7$|---|---|---|-18.46|\n",
    "|$w_8$|---|---|---|3.9|\n",
    "\n",
    "La siguiente gráfica muestra el polinomio entrenado de grado $M=8$. Observe que el polinomio pasa por todos los puntos de entrenamiento, por lo que el $ECM=0$. Sin embargo, es claro que por fuera del rango de los datos de entrenamiento, este polinomio no generaliza bien. También puede observarse que en este caso el ECM para los datos de validación es mayor que para los datos de entrenamiento.\n"
   ]
  },
  {
   "cell_type": "code",
   "execution_count": 13,
   "metadata": {},
   "outputs": [
    {
     "data": {
      "image/png": "[encoded data removed]",
      "text/plain": [
       "<Figure size 432x288 with 1 Axes>"
      ]
     },
     "metadata": {
      "needs_background": "light"
     },
     "output_type": "display_data"
    }
   ],
   "source": [
    "import matplotlib.pyplot as plt\n",
    "import numpy as np\n",
    "\n",
    "\n",
    "x_train = np.array([0,1,2,4,5,6,8,9,10])\n",
    "x_val =  np.array([3,7])\n",
    "\n",
    "y_train =  np.array([3.9, 4.4, 10.8,  11.2, 13.1, 14.1,  9.9,  15.1, 12.5])\n",
    "y_val =  np.array([10.3, 13.9])\n",
    "\n",
    "\n",
    "# fit a linear curve an estimate its y-values and their error.\n",
    "w = np.polyfit(x_train, y_train, deg=8)\n",
    "#y_est = w[0]*x **5 + w[1] *x **4 + w[2] *x **3  + w[3] *x **2 + w[4] *x + w[5] \n",
    "xx = np.linspace(-0.5,10.5,300)\n",
    "yy = w[0]*xx **8 + w[1] *xx **7 + w[2] *xx **6  + w[3] *xx **5 + w[4] *xx**4 + w[5] *xx**3 + w[6] *xx**2 +   w[7] *xx +  w[8] \n",
    "        \n",
    " \n",
    "fig, ax = plt.subplots()\n",
    "ax.plot(xx, yy, '-')\n",
    "\n",
    "ax.plot(x_train, y_train, 'o', color='tab:brown')\n",
    "ax.plot(x_val, y_val, 'o', color='tab:blue')\n",
    "plt.show()"
   ]
  },
  {
   "cell_type": "markdown",
   "metadata": {},
   "source": [
    "Por otro lado, el modelo cuadrático construido previamente  tiene $ECM=3.11$, pero este parece generalizar mejor. \n",
    "\n",
    "Esto significa que cuando se tiene más de una máquina de aprendizaje candidata para nuestro datos, no es un criterio suficiente el del error cuadrático medio. Ambas deben generalizar bien. \n",
    "\n",
    "De momento puede decidirse por una máquina que tenga un *ECM razonable* para nuestros datos siempre que generalice bien.\n",
    "\n",
    "\n",
    "Esta revisión permite establecer que el modelo polinomial ajusta sin error los datos de entrenamiento, pero no generaliza bien. En general esto se notará porque el ECM en los datos de validación resulta mas grande que en los datos de entrenamiento.\n",
    "\n",
    "Este fenómeno se conoce como **sobreajuste**. Entonces una máquina de aprendizaje está sobre ajustada, cuando predice muy bien una parte de los datos de entrenamiento (pudiendose ser a todo el conjunto de entrenamiento), pero generaliza mal, lo cual puede medirse con datos de validación.\n",
    "\n"
   ]
  },
  {
   "cell_type": "markdown",
   "metadata": {},
   "source": [
    "### Ejercicio"
   ]
  },
  {
   "cell_type": "markdown",
   "metadata": {},
   "source": [
    "1. Discuta por que para el ejemplo de las los números de cédulas (entrada) y los número de tarjeta de crédito (salida), siempre es posible construir una máquina de regresión con ECM = 0, pero que nunca puede generalizar bien. Recuerde la clase de modelamiento matemático."
   ]
  },
  {
   "cell_type": "markdown",
   "metadata": {},
   "source": [
    "## <span style=\"color:blue\">Regularización</span> "
   ]
  },
  {
   "cell_type": "markdown",
   "metadata": {},
   "source": [
    "La tabla de la sección anterior muestra que en el caso del polinomio de grado $M=8$, los coeficientes del polinomio (los pesos que debe aprender la máquina de aprendizaje) son grandes en algunos casos y que la norma (la longitud del vector $\\mathbf{w}$ es grande. Por ejemplo, para ese  último caso ($M=8$), la norma del vector $\\mathbf{w}$ es"
   ]
  },
  {
   "cell_type": "code",
   "execution_count": 14,
   "metadata": {},
   "outputs": [
    {
     "name": "stdout",
     "output_type": "stream",
     "text": [
      "norma del vector w= 43.79217575242128\n"
     ]
    }
   ],
   "source": [
    "print('norma del vector w=', np.sqrt(np.sum(w*w)))"
   ]
  },
  {
   "cell_type": "markdown",
   "metadata": {},
   "source": [
    "Esta situación no es única de este conjunto de datos. En realidad es en buena parte la causante del problema de sobreajuste. \n",
    "\n",
    "Es posible resolver este problema recurriendo a técnicas de penalización en el proceso de optimización, conocidads como **técnicas de regularización**.\n",
    "\n",
    "El asunto aquí es bastante sencillo. La idea central es introducir términos adicionales en la función de pérdida que será optimizada. \n",
    "\n",
    "Las técnicas de regularización por lo general se basan en restricciones impuestas sobre el vector de pesos $\\mathbf{w}$ que evitan que este crezca demasiado. Esas restricciones se introducen usando distintos tipos de norma. Y en ocasiones se incluye más de una. Revisamos aquí las técnicas $L1$ y $L2$."
   ]
  },
  {
   "cell_type": "markdown",
   "metadata": {},
   "source": [
    "## <span style=\"color:blue\">Regularización L2</span> "
   ]
  },
  {
   "cell_type": "markdown",
   "metadata": {},
   "source": [
    "En este caso la restricción se basa en la norma Euclidiana usual. Si  $\\mathbf{w}$ es un vector geométrico de $\\mathcal{R}^N$, entonces la norma del vector (su tamaño) es definido como \n",
    "\n",
    "$$\n",
    "||\\mathbf{w}||^2 = \\sum_{i=1}^N w_i^2\n",
    "$$"
   ]
  },
  {
   "cell_type": "markdown",
   "metadata": {},
   "source": [
    "La técnica de regularización $L2$ consiste en agregar a la función de pérdida la norma cuadrática multiplicada por una constante que debe ser previamente definida. En símbolos se tiene que \n",
    "\n",
    "\n",
    "\n",
    "$$\n",
    "\\mathcal{Loss}(\\boldsymbol{w})  = \\frac{1}{2} \\sum_{n=1}^{N}[f(x_n,\\boldsymbol{w}) − y_n]^2 +  \\frac{\\lambda}{2} ||\\boldsymbol{w} ||^2\n",
    "$$\n",
    "\n",
    "Se puede verificar que la introducción de la regularización $L2$, reduce el problema de sobreajuste de la máquina de aprendizaje.\n",
    "\n",
    "Dado que la función de pérdida debe ser minimizada, en función de $\\boldsymbol{w}$, el ingreso de la norma en la pérdida no  permite tener valores grandes de la norma del vector.\n",
    "\n"
   ]
  },
  {
   "cell_type": "markdown",
   "metadata": {},
   "source": [
    "### Ejercicio*"
   ]
  },
  {
   "cell_type": "markdown",
   "metadata": {},
   "source": [
    "Use JAX o Autograd, defina la función de pérdida e introduzca la regularización L2. Use los datos de esta lección. ¿Cuáles valores de $\\lambda$ parecen funcionar mejor?"
   ]
  },
  {
   "cell_type": "markdown",
   "metadata": {},
   "source": [
    "**consigne aquí su solución**"
   ]
  },
  {
   "cell_type": "markdown",
   "metadata": {},
   "source": [
    "## <span style=\"color:blue\">Regularización L1</span>"
   ]
  },
  {
   "cell_type": "markdown",
   "metadata": {},
   "source": [
    "En este caso la restricción se basa en la norma $\\mathcal{l}_1$. Si  $\\mathbf{w}$ es un vector geométrico de $\\mathcal{R}^N$, entonces la norma $\\mathcal{l}_1$ es definida como \n",
    "\n",
    "$$\n",
    "||\\mathbf{w}||_1 = \\sum_{i=1}^N|w_i|\n",
    "$$"
   ]
  },
  {
   "cell_type": "markdown",
   "metadata": {},
   "source": [
    "La técnica de regularización $L1$ consiste en agregar a la función de pérdida la norma $\\mathcal{l}_1$ multiplicada por una constante que debe ser concida de antemano. En símbolos se tiene que \n",
    "\n",
    "\n",
    "\n",
    "$$\n",
    "\\mathcal{Loss}(\\boldsymbol{w})  = \\frac{1}{2} \\sum_{n=1}^{N}[f(x_n,\\boldsymbol{w}) − y_n]^2 + \\lambda \\sum_{i=1}^N|w_i|\n",
    "$$\n",
    "\n",
    "En este caso se controla el tamaño de cada componente de $\\boldsymbol{w}$."
   ]
  },
  {
   "cell_type": "markdown",
   "metadata": {},
   "source": [
    "## <span style=\"color:blue\">Regularización L1-L2</span>"
   ]
  },
  {
   "cell_type": "markdown",
   "metadata": {},
   "source": [
    "Es posible incluir las dos restriciones en la función de pérdida.  En este caso la función de pérdida queda expresada en la forma\n",
    "\n",
    "\n",
    "$$\n",
    "\\mathcal{Loss}(\\boldsymbol{w})  = \\frac{1}{2} \\sum_{n=1}^{N}[f(x_n,\\boldsymbol{w}) − y_n]^2 + \\lambda_1 \\sum_{i=1}^N|w_i| + \\frac{\\lambda_2}{2} \\sum_{i=1}^Nw_i^2.\n",
    "$$\n"
   ]
  },
  {
   "cell_type": "markdown",
   "metadata": {},
   "source": [
    "## <span style=\"color:blue\">Perspectiva probabilística</span>"
   ]
  },
  {
   "cell_type": "markdown",
   "metadata": {},
   "source": [
    "Vamos a abordar el problema del aprendizaje de máquina desde la perspectiva estadística. Para hacerlo necesitamos introducir los conceptos de distribución conjunta y verosimilitud"
   ]
  },
  {
   "cell_type": "markdown",
   "metadata": {},
   "source": [
    "## <span style=\"color:blue\">Distribución conjunta</span>"
   ]
  },
  {
   "cell_type": "markdown",
   "metadata": {},
   "source": [
    "Supongamos que $X$ y  $Y$ son variables aleatorias con función de densidad conjunta dada por $f_{XY}(x,y)$. El concepto de función de probabilidad conjunta estudiada antes se generaliza para el caso de variables aleatorias continuas.\n",
    "\n",
    "De momento nos interesa el caso en que $X$ y  $Y$ son variables aleatorias independientes. \n",
    "\n",
    "Decimos que las variables aleatorias $X$ y  $Y$  son independientes si su función de densidad conjunta puede escribirse como:\n",
    "\n",
    "$$\n",
    "f_{XY}(x,y)= f_X(x)f_Y(y),\n",
    "$$\n",
    "\n",
    "en donde $f_X(x)$ y $f_Y(y)$ son las respetivas funciones de densidad de $X$ y  $Y$ y  se dicen éstas son las densidades marginales como antes.\n",
    "\n",
    "De nuevo esta es una definición es bastante técnica y lo que  nos interesa de momento es justamente el caso en que las variables aleatorias son independientes. \n",
    "\n",
    "Si se tienen $N$ variables independientes $X_1,\\cdots,X_N$, cada una con funcion de densidad $f_n(x_n)$, entonces la función de densidad conjunta de $X_1,\\cdots,X_N$ es dada por\n",
    "\n",
    "$$\n",
    "f(x_1,\\cdots,x_n) = \\prod_{n=1}^N f_n(x_n) = f_1(x_1)\\cdot f_2(x_2)\\cdots f_N(x_N).\n",
    "$$"
   ]
  },
  {
   "cell_type": "markdown",
   "metadata": {},
   "source": [
    "### Ejemplo con la distribución normal"
   ]
  },
  {
   "cell_type": "markdown",
   "metadata": {},
   "source": [
    "Supongamos que se tienen $N$ variables aleatorias normales independientes, cada una con función de densidad dada por $\\phi(x;\\mu_n,\\sigma_n ^2)$, en donde $\\phi(x;\\mu_n,\\sigma_n ^2)$ representa la función de densidad de una distribución normal $\\mathcal{N}(\\mu_n,\\sigma_n ^2)$. Entonces la función de densidad conjunta es dada por\n",
    "\n",
    "$$ \n",
    "f(x_1,\\cdots,x_n|\\mu_n,\\sigma_n^2, n=1,\\cdots,N) = \\prod_{n=1}^N \\phi(x_n;\\mu_n,\\sigma_n ^2) = \\prod_{n=1}^N \\tfrac{1}{\\sqrt{2\\pi\\sigma_n^2}} e^{-\\tfrac{(x_n-\\mu_n)^2}{2\\sigma_n^2}}\n",
    "$$\n",
    "\n",
    "Si  las variables son una muestra de una única distribución $\\mathcal{N}(\\mu,\\sigma ^2)$, la conjunta se escribe como\n",
    "\n",
    "$$ \n",
    "f(x_1,\\cdots,x_n|\\mu,\\sigma^2) = \\prod_{n=1}^N \\tfrac{1}{\\sqrt{2\\pi\\sigma^2}} e^{-\\tfrac{(x_n-\\mu)^2}{2\\sigma^2}}\n",
    "$$"
   ]
  },
  {
   "cell_type": "markdown",
   "metadata": {},
   "source": [
    "## <span style=\"color:blue\">Verosimilitud</span>"
   ]
  },
  {
   "cell_type": "markdown",
   "metadata": {},
   "source": [
    "El problema recurrente en estadística es que por lo general se tiene la realización de una muestra estadística de alguna distribución que se desconoce.\n",
    "\n",
    "Por facilidad, vamos a trabajar con la distribución Normal, pero su generalización a otras distribuciones es inmediata.\n",
    "\n",
    "Supongamos entonces que la muestra proviene teóricamente de una única distribución $\\mathcal{N}(\\mu,\\sigma^2)$. La distribución conjunta de la muestra se arriba. Pero ahora los parámetros $(\\mu,\\sigma^2)$ se desconocen. Por otro lado al tener la realización de la muestra, las variables toman los valores específicos $x_n$ (justamente los de la realización de la muestra). \n",
    "\n",
    "\n",
    "Esto nos lleva a definir una nueva función llamada la *verosimilitud* dada por\n",
    "\n",
    "$$ \n",
    "l(\\mu,\\sigma^2|x_1,\\cdots,x_n) = \\prod_{n=1}^N \\tfrac{1}{\\sqrt{2\\pi\\sigma^2}} e^{-\\tfrac{(x_n-\\mu)^2}{2\\sigma^2}}\n",
    "$$\n",
    "\n",
    "Observe que hemos intercambiado los roles. Ahora las variables son $(\\mu,\\sigma)$, mientras que $x_1,\\cdots,x_n$ son ahora valores conocidos. La función $l(\\mu,\\sigma^2|x_1,\\cdots,x_n)$ ya no es una función de densidad.\n",
    "\n",
    "El problema estadístico se reduce ahora a encontrar valores para $(\\mu,\\sigma^2)$ que maximizan a la función $l(\\mu,\\sigma^2|x_1,\\cdots,x_n)$.\n",
    "\n",
    "Para entender porque tiene sentido maximizar esta función vamos a utilizar el concepto de información."
   ]
  },
  {
   "cell_type": "markdown",
   "metadata": {},
   "source": [
    "## <span style=\"color:blue\">Función de pérdida asociada a la log-verosimilitud</span>"
   ]
  },
  {
   "cell_type": "markdown",
   "metadata": {},
   "source": [
    "Para los valores $x_1,\\cdots,x_N$, una función de pérdida es dada por\n",
    "\n",
    "$$\n",
    "\\mathcal{Loss}(\\mu, \\sigma^2) =  - \\tfrac{1}{N} \\sum_{i=1}^N\\log l(x_n;\\mu,\\sigma^2)\n",
    "$$\n",
    "\n",
    "Observe que en este caso la función de pérdida está asociada la información que transportan los valores observados. Entonces con esta función de pérdida se buscan los parámetros $(\\mu, \\sigma^2)$ que minimizan la información transportada por los datos y por tanto que permite que sean más predicibles por por la máquina de aprendizaje.\n",
    "\n",
    "Se toma el promedio, para poder comparar la función de pérdida usando los datos de entrenamiento con los datos de validación.\n",
    " \n",
    "En este caso, se tiene que esta función de pérdida y la log-verosimiltud están relacioandos de esta forma\n",
    "\n",
    "$$\n",
    "\\mathcal{Loss}(\\mu, \\sigma^2) =  - \\tfrac{1}{N} l(\\mu,\\sigma^2|x_1,\\cdots,x_n).\n",
    "$$\n",
    "\n",
    "Por lo tanto, un máximo de $l(\\mu,\\sigma^2|x_1,\\cdots,x_n)$ es un mínimo de $\\mathcal{Loss}(\\mu, \\sigma^2)$ y viceversa.\n",
    "\n"
   ]
  },
  {
   "cell_type": "markdown",
   "metadata": {},
   "source": [
    "### Notas"
   ]
  },
  {
   "cell_type": "markdown",
   "metadata": {},
   "source": [
    "1. Observe además que hemos encontrado una nueva función de pérdida diferente al ECM. Sin embargo, si la distribución asociada en el problema es la Normal, se llega a la misma función de pérdida. Por eso es bastante usual la utilización del ECM como función de pérdida en los problemas de regresión en el área del aprendizaje de máquinas.\n",
    "2. Puede verificarse que la optimización de $\\mu$ y $\\sigma$ puede hacerse de forma independiente en el caso Normal. Generalmente, el parámetro $\\sigma^2$ no se incluye en los modelos de aprendizaje profundo. Principalmente porque el ECM de depende de ninguna distribución particular."
   ]
  },
  {
   "cell_type": "markdown",
   "metadata": {},
   "source": [
    "## <span style=\"color:blue\">Densidad condicional</span> "
   ]
  },
  {
   "cell_type": "markdown",
   "metadata": {},
   "source": [
    "Supongamos dos variables aleatorias $X$ y $Y$ con densidad conjunta dada por $f_{XY}(x,y)$. Ya sabemos que si las dos variables son independientes, entonces $f_{XY}(x,y)=f_X(x)f_Y(y)$. \n",
    "\n",
    "Por otro lado, en los problemas de regresión se espera justamente que las variables que se busca poner en relación no son sean independientes. Entonces la forma de construcción de la máquina de aprendizaje es plantear la densidad de $Y$ condicionada a los valores observados de $X$. \n",
    "\n",
    "La densidad condicional de  $Y$ condicionada a valores de$X$ se escribe $f(y|x)$. En la teoría de probabilidad se comprueba que\n",
    "\n",
    "$$\n",
    "f_{XY}(x,y) = f_X(x)f(y|x).\n",
    "$$\n",
    "\n",
    "Esta ecuación se usa constantemente para definir $f(y|x)$ como\n",
    "\n",
    "$$\n",
    "f(y|x) = \\frac{f_{XY}(x,y)}{f_X(x)}.\n",
    "$$\n",
    "\n",
    "Observe que si las variables son independentes, entonces $f(y|x) = f_Y(y)$."
   ]
  },
  {
   "cell_type": "markdown",
   "metadata": {},
   "source": [
    "## <span style=\"color:blue\">Regresión y máxima verosimilitud</span>"
   ]
  },
  {
   "cell_type": "markdown",
   "metadata": {},
   "source": [
    "\n",
    "El objetivo en el problema de ajuste de curvas es poder **hacer predicciones** para la\n",
    "variable objetivo $ t$ dado algún nuevo valor de la variable de entrada $ x $ sobre la base de un conjunto de datos de entrenamiento que comprenden $ N $ valores de entrada $ \\mathbf{x} = (x_1, \\cdots, x_N) ^ T $ y sus correspondientes valores objetivo $ \\mathbf{t} = (t_1, \\cdots, t_N) ^ T $. \n",
    "\n",
    "Podemos expresar la incertidumbre sobre el valor de la variable objetivo utilizando una distribución de probabilidad. Para este propósito, asumiremos que, dado el valor de $ x $, el valor correspondiente de $ t $ tiene una distribución Gaussiana (Normal) con una media igual al valor $ y (x, \\boldsymbol{w}) $ de la curva polinomial. Así tenemos\n",
    "\n",
    "$$ \n",
    "p(t|x,\\boldsymbol{w}, \\beta) = \\mathcal{N} (t|y(x,\\boldsymbol{w}), \\beta^{-1}),\n",
    "$$\n",
    "\n",
    "en donde  $\\beta$ es el parámetro de precisión (inverso del parámetro de escala). La gŕafica ilustra la situación."
   ]
  },
  {
   "cell_type": "markdown",
   "metadata": {},
   "source": [
    "<figure>\n",
    "<center>\n",
    "<img src=\"../Imagenes/regression_curve.png\" width=\"400\" height=\"300\" align=\"center\"/>\n",
    "</center>\n",
    "<figcaption>\n",
    "<p style=\"text-align:center\">Ejemplo de una curva de regresión: $y(x) = E[t|x]$</p>\n",
    "</figcaption>\n",
    "</figure>"
   ]
  },
  {
   "cell_type": "markdown",
   "metadata": {},
   "source": [
    "Ahora usamos los datos de entrenamiento $\\{\\boldsymbol {x, t} \\}$ para determinar los valores desconocidos de los parámetros $ \\boldsymbol{w} $ y $\\beta $ utilizando la máxima verosimilitud (el valor que maximiza la verosimilitud). \n",
    "\n",
    "Si se supone que las parejas  $(x_n,t_n)$ se observan  independientemente, entonces la función de verosimilitud viene dada por \n",
    "\n",
    "$$\n",
    "p(t|\\boldsymbol{x, t}, \\beta) = \\prod_{n=1}^{N} \\mathcal{N}(t_n|y(x_n,\\boldsymbol{w}), \\beta^{-1})\n",
    "$$\n",
    "\n",
    "\n",
    "El logaritmo de la verosimilitud es dada por\n",
    "\n",
    "$$ \\ln p(t|\\boldsymbol{x, t}, \\beta) = -\\frac{\\beta}{2}\\sum_{n=1}^{N}[y(x_n,\\boldsymbol{w})-t_n]^2 + \\frac{N}{2} \\ln \\beta   - \\frac{N}{2} \\ln (2 \\pi)$$\n",
    "\n",
    "\n",
    "Supongamos que $\\boldsymbol{\\phi}(x)$ define un vector con elementos $\\boldsymbol{\\phi}_i(x) = x_i$, for $i=1,\\cdots,M$.\n",
    "\n",
    "Sea $\\boldsymbol{\\phi}(X)$ la matriz cuyas filas están dadas por $(1,\\boldsymbol{\\phi}(x_n)^T), \\quad n=1,\\cdots,N$.  Las estimaciones de máxima verosimilutud (EMV) estan dadas por\n",
    "\n",
    "$$\n",
    "\\begin{align}\n",
    "\\boldsymbol{w}_{ml} &= [\\boldsymbol{\\phi}(X)^T\\boldsymbol{\\phi}(X)]^{-1}\\boldsymbol{\\phi}(X)^T\\boldsymbol{t},\\\\\n",
    "\\beta^{-1}_{ml} &=\\frac{1}{N} \\sum_{n=1}^{N}[y(x_n,\\boldsymbol{w}_{ml})-t_n]^2.\n",
    "\\end{align}\n",
    "$$\n",
    "\n",
    "\n",
    "Además se verifica que\n",
    "\n",
    "$$\n",
    "\\begin{align}\n",
    "E(\\boldsymbol{w}_{ml}) &= \\boldsymbol{w},\\\\\n",
    "E(\\beta^{-1}_{ml}) &= \\left(\\tfrac{N-1}{N}\\right)\\beta^{-1}.\n",
    "\\end{align}\n",
    "$$"
   ]
  },
  {
   "cell_type": "markdown",
   "metadata": {},
   "source": [
    "## <span style=\"color:blue\">Distribución predictiva</span>\n"
   ]
  },
  {
   "cell_type": "markdown",
   "metadata": {},
   "source": [
    "Después de obtener las estimaciones de máxima verosimilitud (EMV), tenemos una distribución predictiva que corresponde a la distribución de probabilidad condicional $p(t|x,\\widehat{\\boldsymbol{w}},\\widehat{\\beta}^{-1})$ dado , la cual se obtiene tomando como parámetros la EMV de parámetros de probabilidad para obtener en este caso\n",
    "\n",
    "$$ \n",
    "p(t|\\widehat{\\boldsymbol{w}},\\widehat{\\beta}) = \\mathcal{N}(t|y(x,\\widehat{\\boldsymbol{w}}),\\widehat{\\beta}^{-1})\n",
    "$$\n",
    "\n",
    "La siguiente gráfica ilustra la distribución predictiva en nuestro ejemplo inicial."
   ]
  },
  {
   "cell_type": "markdown",
   "metadata": {},
   "source": [
    "<figure>\n",
    "<center>\n",
    "<img src=\"../Imagenes/predictive_2.png\" width=\"400\" height=\"300\" align=\"center\"/>\n",
    "</center>\n",
    "<figcaption>\n",
    "<p style=\"text-align:center\">Distribución predictiva: $ p(t|\\widehat{\\boldsymbol{w}},\\widehat{\\beta}) = \\mathcal{N}(t|y(x,\\widehat{\\boldsymbol{w}}),\\widehat{\\beta}^{-1})$</p>\n",
    "</figcaption>\n",
    "</figure>"
   ]
  },
  {
   "cell_type": "markdown",
   "metadata": {},
   "source": [
    "- [Regresar al inicio](#Contenido)"
   ]
  }
 ],
 "metadata": {
  "kernelspec": {
   "display_name": "Python 3",
   "language": "python",
   "name": "python3"
  },
  "language_info": {
   "codemirror_mode": {
    "name": "ipython",
    "version": 3
   },
   "file_extension": ".py",
   "mimetype": "text/x-python",
   "name": "python",
   "nbconvert_exporter": "python",
   "pygments_lexer": "ipython3",
   "version": "3.8.8"
  }
 },
 "nbformat": 4,
 "nbformat_minor": 4
}
