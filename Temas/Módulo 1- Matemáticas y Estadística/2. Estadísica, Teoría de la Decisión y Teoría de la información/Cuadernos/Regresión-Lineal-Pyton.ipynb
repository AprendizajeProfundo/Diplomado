{
 "cells": [
  {
   "cell_type": "markdown",
   "metadata": {},
   "source": [
    "# <span style=\"color:green\"><center>Diplomado en Inteligencia Artificial y Aprendizaje Profundo</center></span>"
   ]
  },
  {
   "cell_type": "markdown",
   "metadata": {},
   "source": [
    "# <span style=\"color:red\"><center>Regresión Lineal en Python</center></span>"
   ]
  },
  {
   "cell_type": "markdown",
   "metadata": {},
   "source": [
    "##   <span style=\"color:blue\">Profesores</span>"
   ]
  },
  {
   "cell_type": "markdown",
   "metadata": {},
   "source": [
    "1. Alvaro Mauricio Montenegro Díaz, ammontenegrod@unal.edu.co\n",
    "2. Daniel Mauricio Montenegro Reyes, dextronomo@gmail.com \n",
    "3. Campo Elías Pardo Turriago, cepardot@unal.edu.co "
   ]
  },
  {
   "cell_type": "markdown",
   "metadata": {},
   "source": [
    "##   <span style=\"color:blue\">Asesora Medios y Marketing digital</span>\n",
    " "
   ]
  },
  {
   "cell_type": "markdown",
   "metadata": {},
   "source": [
    "4. Maria del Pilar Montenegro, pmontenegro88@gmail.com "
   ]
  },
  {
   "cell_type": "markdown",
   "metadata": {},
   "source": [
    "## <span style=\"color:blue\">Asistentes</span>"
   ]
  },
  {
   "cell_type": "markdown",
   "metadata": {},
   "source": [
    "5. Oleg Jarma, ojarmam@unal.edu.co \n",
    "6. Laura Lizarazo, ljlizarazore@unal.edu.co "
   ]
  },
  {
   "cell_type": "markdown",
   "metadata": {},
   "source": [
    "## <span style=\"color:blue\">Contenido</span>"
   ]
  },
  {
   "cell_type": "markdown",
   "metadata": {},
   "source": [
    "- [Introduccion](#Introducción)\n",
    "- [Importamos la librerías que usaremos](#Importamos-la-librerías-que-usaremos)\n",
    "- [Lectura y documentación de los datos](#Lectura-y-documentación-de-los-datos)\n",
    "- [Análisis exploratorio inicial](#Análisis-exploratorio-inicial)\n",
    "- [Regresión Lineal Simple. Mínimos Cuadrados](#Regresión-Lineal-Simple.-Mínimos-Cuadrados)\n",
    "- [Regresión Lineal Simple. Librería Sklearn](#Regresión-Lineal-Simple.-Librería-Sklearn)\n",
    "- [Regresión Lineal Múltiple](#Regresión-Lineal-Múltiple)"
   ]
  },
  {
   "cell_type": "markdown",
   "metadata": {},
   "source": [
    "## <span style=\"color:blue\">Introducción</span>"
   ]
  },
  {
   "cell_type": "markdown",
   "metadata": {},
   "source": [
    "[Basado en Regresión Lineal - Colab](https://colab.research.google.com/github/RFajardoMonzon/MachineLearningCourse/blob/master/Linear_regression_Regresi%C3%B3n_Lineal.ipynb#scrollTo=p5PAhkSzbkRi)\n",
    "\n",
    "En esta lección hacemos una primera práctica de modelamiento con un subconjunto muy famoso de datos: El Boston Housing Dataset. \n",
    "\n",
    "El propósito del ejercicio es predecir el valor de las casas en Boston, basados en 13 variables (features) que se cree estań asociada al precio. Son 506 registros."
   ]
  },
  {
   "cell_type": "markdown",
   "metadata": {},
   "source": [
    "## <span style=\"color:blue\">Importamos la librerías que usaremos</span>"
   ]
  },
  {
   "cell_type": "code",
   "execution_count": 31,
   "metadata": {
    "id": "g7pqJJrJd8v8"
   },
   "outputs": [],
   "source": [
    "# Importamos la librería SKLearn, que trae bastantes funcionalidades de Machine\n",
    "# Learning. Esta librería también incluye algunos datasets muy conocidos como por\n",
    "# ejemplo el que vamos a utilizar hoy: El Boston Housing Dataset.\n",
    "import sklearn as skl\n",
    "\n",
    "# Importamos la función que nos carga los datos. OJO! Esta forma de cargar los\n",
    "# datos no es habitual. Lo hacemos así porque la librería nos proporciona este\n",
    "# dataset, que suele ser utilizado comunmente para pruebas. Sin embargo, lo\n",
    "# habitual sería cargar este dataset nosotros mismos.\n",
    "from sklearn.datasets import load_boston\n",
    "\n",
    "import numpy as np\n",
    "import scipy as sc\n",
    "import matplotlib.pyplot as plt"
   ]
  },
  {
   "cell_type": "markdown",
   "metadata": {},
   "source": [
    "## <span style=\"color:blue\">Lectura y documentación de los datos</span>"
   ]
  },
  {
   "cell_type": "code",
   "execution_count": 32,
   "metadata": {
    "colab": {
     "base_uri": "https://localhost:8080/",
     "height": 904
    },
    "id": "cBF-24BkiruX",
    "outputId": "a3d0f638-02f7-436c-d318-9ef0f9e3f77e"
   },
   "outputs": [
    {
     "name": "stdout",
     "output_type": "stream",
     "text": [
      ".. _boston_dataset:\n",
      "\n",
      "Boston house prices dataset\n",
      "---------------------------\n",
      "\n",
      "**Data Set Characteristics:**  \n",
      "\n",
      "    :Number of Instances: 506 \n",
      "\n",
      "    :Number of Attributes: 13 numeric/categorical predictive. Median Value (attribute 14) is usually the target.\n",
      "\n",
      "    :Attribute Information (in order):\n",
      "        - CRIM     per capita crime rate by town\n",
      "        - ZN       proportion of residential land zoned for lots over 25,000 sq.ft.\n",
      "        - INDUS    proportion of non-retail business acres per town\n",
      "        - CHAS     Charles River dummy variable (= 1 if tract bounds river; 0 otherwise)\n",
      "        - NOX      nitric oxides concentration (parts per 10 million)\n",
      "        - RM       average number of rooms per dwelling\n",
      "        - AGE      proportion of owner-occupied units built prior to 1940\n",
      "        - DIS      weighted distances to five Boston employment centres\n",
      "        - RAD      index of accessibility to radial highways\n",
      "        - TAX      full-value property-tax rate per $10,000\n",
      "        - PTRATIO  pupil-teacher ratio by town\n",
      "        - B        1000(Bk - 0.63)^2 where Bk is the proportion of blacks by town\n",
      "        - LSTAT    % lower status of the population\n",
      "        - MEDV     Median value of owner-occupied homes in $1000's\n",
      "\n",
      "    :Missing Attribute Values: None\n",
      "\n",
      "    :Creator: Harrison, D. and Rubinfeld, D.L.\n",
      "\n",
      "This is a copy of UCI ML housing dataset.\n",
      "https://archive.ics.uci.edu/ml/machine-learning-databases/housing/\n",
      "\n",
      "\n",
      "This dataset was taken from the StatLib library which is maintained at Carnegie Mellon University.\n",
      "\n",
      "The Boston house-price data of Harrison, D. and Rubinfeld, D.L. 'Hedonic\n",
      "prices and the demand for clean air', J. Environ. Economics & Management,\n",
      "vol.5, 81-102, 1978.   Used in Belsley, Kuh & Welsch, 'Regression diagnostics\n",
      "...', Wiley, 1980.   N.B. Various transformations are used in the table on\n",
      "pages 244-261 of the latter.\n",
      "\n",
      "The Boston house-price data has been used in many machine learning papers that address regression\n",
      "problems.   \n",
      "     \n",
      ".. topic:: References\n",
      "\n",
      "   - Belsley, Kuh & Welsch, 'Regression diagnostics: Identifying Influential Data and Sources of Collinearity', Wiley, 1980. 244-261.\n",
      "   - Quinlan,R. (1993). Combining Instance-Based and Model-Based Learning. In Proceedings on the Tenth International Conference of Machine Learning, 236-243, University of Massachusetts, Amherst. Morgan Kaufmann.\n",
      "\n"
     ]
    }
   ],
   "source": [
    "# Los datos cargados desde la librería Sklearn contienen una descripción del\n",
    "# dataset que estamos cargando, almacenado en el atributo DESCR.\n",
    "\n",
    "boston_dataset = load_boston()\n",
    "\n",
    "print(boston_dataset.DESCR)\n",
    "\n",
    "X = boston_dataset.data\n",
    "Y = boston_dataset.target\n",
    "\n",
    "# Guardamos información de las dimensiones de nuestro dataset. Recuerda: \n",
    "# n = número de ejemplos que tenemos de nuestros datos y\n",
    "# p = número de características que tenemos de cada datos.\n",
    "\n",
    "n, p = X.shape\n",
    "n, p\n",
    "rm = X[:, 5]"
   ]
  },
  {
   "cell_type": "markdown",
   "metadata": {
    "id": "diQ3uwM5uuTb"
   },
   "source": [
    "## <span style=\"color:blue\">Análisis exploratorio inicial</span> "
   ]
  },
  {
   "cell_type": "markdown",
   "metadata": {
    "id": "diQ3uwM5uuTb"
   },
   "source": [
    "Hoy nos centraremos en modelar la relación existente entre las variables **RM** (Número medio de habitaciones) y **MEDV** (Valor medio de la vivienda). \n",
    "\n",
    "Vamos a primero comenzar entendiendo la naturaleza de nuestros datos, realizando un análisis exploratorio preliminar. Recuerde, aquí hacemos uso de las herramientas estadísticas y matemáticas aprendidas para obtener una mejor imagen de lo que los datos representan. \n",
    "\n",
    "- **¿Qué preguntas se quieren responder con estas herramientas?**\n",
    "\n",
    "---\n",
    "\n",
    "\n",
    "1.  **¿Existe algún relación entre la variable RM y MEDV?** Demuestrar la existencia de dicha relación desde dos vertientes diferentes: grafica un *scatter plot* con cada variable en un eje que te permita visualizar algún patrón identificable. También, utilizar una medida estadística como la correlación entre dos variables r para comprobar cuantitativamente dicha relación. ¿Son coherentes ambos análisis?¿Es coherente con lo que se puede esperar de manera intuitiva?\n",
    "\n",
    "2.   **¿Cúal es el precio medio de las viviendas cuyo número medio de habitaciones oscila entre 5 y 6?** Aquí nos podemos apoyar en la función ***np.logical_and()*** que sirve para combinar dos condiciones diferentes.\n",
    "\n",
    "3. **¿Se identifica algún fenómeno anómalo en la distribución de los datos?** Realizar un histograma para la variable MEDV. Aquí se recomienda utilizar un valor elevado de *bins*, por encima de 100, para remarcar el efecto de la anomalía. ¿De qué se trata?¿Cree que se trata de mediciones reales o es fruto de un preprocesamiento previo de los datos?\n",
    "\n",
    "**Consejo:** cuando al hacer un *scatter plot* haya una gran acumulación de puntos en una zona de la gráfica que no te permita identificar la densidad de puntos que hay, es una buena idea añadir algo de transparencia al color de dichos puntos. Esto se consigue con el atributo ***alpha*** de la función*** plot()***\n",
    "\n",
    "Aquí van los primeros códigos."
   ]
  },
  {
   "cell_type": "code",
   "execution_count": 33,
   "metadata": {
    "id": "pooVJc8b6WEE"
   },
   "outputs": [],
   "source": [
    "\n",
    "def relation_rm_medv(rm, means):\n",
    "  plt.scatter(rm, means, alpha=0.25)\n",
    "  plt.title(\"RM contra MEDV\")\n",
    "  plt.show()\n",
    "  return np.corrcoef(rm, means)[0, 1]   #  se recibe uma matriz de correlaciones. Se xtrae la correlación\n",
    "  \n",
    "def price_mean(rm, means):\n",
    "  filtered_means = means[np.logical_and(rm > 5, rm < 6)]\n",
    "  return np.mean(filtered_means) * 1000\n",
    "\n",
    "def medv_hist(medv):\n",
    "  plt.hist(medv, bins=500)\n",
    "  plt.show()\n",
    "\n"
   ]
  },
  {
   "cell_type": "code",
   "execution_count": 34,
   "metadata": {
    "colab": {
     "base_uri": "https://localhost:8080/",
     "height": 567
    },
    "id": "GM9Ll85Detyk",
    "outputId": "fded2f02-29a3-4749-f849-1214c6218363"
   },
   "outputs": [
    {
     "data": {
      "image/png": "[encoded data removed]",
      "text/plain": [
       "<Figure size 432x288 with 1 Axes>"
      ]
     },
     "metadata": {
      "needs_background": "light"
     },
     "output_type": "display_data"
    },
    {
     "name": "stdout",
     "output_type": "stream",
     "text": [
      "La correlación de RM y MEDV es: 0.6953599470715393\n",
      "La media de las viviendas con un número de viviendas entre 5 y 6 es: 17551.5923566879\n"
     ]
    },
    {
     "data": {
      "image/png": "[encoded data removed]",
      "text/plain": [
       "<Figure size 432x288 with 1 Axes>"
      ]
     },
     "metadata": {
      "needs_background": "light"
     },
     "output_type": "display_data"
    }
   ],
   "source": [
    "print(\"La correlación de RM y MEDV es:\", relation_rm_medv(rm, Y))\n",
    "print(\"La media de las viviendas con un número de viviendas entre 5 y 6 es:\", price_mean(rm, Y))\n",
    "medv_hist(Y)"
   ]
  },
  {
   "cell_type": "markdown",
   "metadata": {
    "id": "77hvTCml_as6"
   },
   "source": [
    "## <span style=\"color:blue\">Regresión Lineal Simple. Mínimos Cuadrados</span> "
   ]
  },
  {
   "cell_type": "markdown",
   "metadata": {
    "id": "77hvTCml_as6"
   },
   "source": [
    "Una vez hemos efectuado el análisis exploratorio inicial, vamos a proceder a implementar y entrenar a nuestro modelo. Recuerde que podemos conseguir ajustar a los datos a una recta de regresión lineal haciendo uso de aquellos valores de los parámetros obtenidos mediante el método de ***Mínimos Cuadrados Ordinarios***. Este método encuentra que el mínimo de la función del ***Error Cuadrático Medio*** se encuentra en el punto donde su derivada es igual a 0. Esto se obtiene evaluando la siguiente expresión:\n",
    "\n",
    "$$\n",
    "w = (X^TX)^{-1}X^TY\n",
    "$$\n",
    "\n",
    "Para poder trabajar de forma vectorizada, ampliamos la matriz $X$ con una primera columna de valores asignados a $1$, que servirán para mantener al termino independiente.\n",
    "\n",
    "---\n",
    "\n",
    "**Lo que vamos a hacer:** \n",
    "\n",
    "1.  Ajustar un modelo de regresión iineal mediante el método de ***Mínimos Cuadrados Ordinarios***.\n",
    "2.  Una vez calculados los parámetros, visualizamos la recta obtenida para comprobar que realmente se ajusta a la nube de puntos.\n",
    "3.  ¿Qué representa $w_0$?¿Y $w_1$?\n",
    "4.  Utilizaremos el modelo entrenado para predecir cuál será el valor medio de la vivienda para un número medio de ***9 habitaciones***, y también el número de habitaciones medio que podría tener una vivienda cuyo valor medio es de **45.000**.\n",
    "5.   Utilizaremos el modelo entrenado para calcular, para cada valor de $X$, cual es el valor predicho por la regresión. Llamaremos al vector generado el vector de salida predicho $\\tilde{Y}$. \n",
    "6. Luego vamos a evaluar la calidad de las predicciones implementando una función a la que le pasemos como parámetros el vector de valores de salida reales $Y$ y el vector de salida predicho $\\tilde{Y}$, para calcular el ***Error Cuadrático Medio***. Recuerda que  el ***ECM*** se calcula como:\n",
    "\n",
    "$$\n",
    "\\operatorname{ECM}=\\frac{1}{n}\\sum_{i=1}^n(Y_{Pi} - Y_i)^2. \n",
    "$$\n",
    "\n",
    "**Nota.** Vamos a utilizar el operador @ como un operador equivalente a la función **np.matmul()**, utilizada para la multiplicación matricial. ej : A = B @ C. Realmente, el operador @ implementa de manera general el producto tensorial en Python.\n",
    "\n",
    "**Consejo:** Al trabajar con multiplicación de matrices y vectores, compruebe que los vectores tengan bien definidas sus dos dimensiones. Esto se puede ver usando con el atributo *X.shape* de dicho vector. Queremos que sus dimensiones se muestren así **(5, 1)** y no así **(5,)**.\n",
    "\n",
    "\n",
    "Esto se puede producir por ejemplo cuando seleccionamos una única columna de una matriz. En estos casos se puede evitar seleccionando dicha columna así **X[:, 3:4]** en vez de así **X[:, 3]**. Igualmente, en caso de haber perdido una de las dimensiones, las funciones **np.newaxis()** o **reshape()** le pueden ser de ayuda.\n",
    "\n",
    "```\n",
    "ej: Y = Y[:, np.newaxis]\n",
    "```\n",
    "**Info:** En el punto 5 hemos calcularemos el error del modelo utilizando todos los datos. Más adelante en el diplomado veremos que esto no es del todo correcto a la hora de evaluar un modelo, pero de momento es suficiente."
   ]
  },
  {
   "cell_type": "code",
   "execution_count": 35,
   "metadata": {
    "colab": {
     "base_uri": "https://localhost:8080/",
     "height": 337
    },
    "id": "uBXHrSYnEW8M",
    "outputId": "48456e7f-e7e0-4d37-bbe8-a12fc3531997"
   },
   "outputs": [
    {
     "data": {
      "image/png": "[encoded data removed]",
      "text/plain": [
       "<Figure size 432x288 with 1 Axes>"
      ]
     },
     "metadata": {
      "needs_background": "light"
     },
     "output_type": "display_data"
    },
    {
     "name": "stdout",
     "output_type": "stream",
     "text": [
      "w =  [-34.67062078   9.10210898]\n",
      "Predicción precio con 9 cuartos: $ 47248.36\n",
      "Predicción del número de cuartos para un precio de $45.000:  8.75\n",
      "ECM:  43.6\n"
     ]
    }
   ],
   "source": [
    "def lineal_regression(x, means):\n",
    "#   W = (Xt*X)^-1 * Xt*Y \n",
    "  w = np.linalg.inv(x.T @ x) @ x.T @ Y\n",
    "  plt.scatter(rm, means, alpha=0.25)\n",
    "  plt.plot(rm, x @ w, color=\"red\")\n",
    "  plt.show()\n",
    "  return w, x @ w\n",
    "  \n",
    "def predict_from_room_number(room_number, w):\n",
    "  return (w[0] + w[1] * room_number) * 1000\n",
    "  \n",
    "def predict_from_price(price, w):\n",
    "  return (price/1000 - w[0]) / w[1]\n",
    "  \n",
    "def get_mse(yp, y):\n",
    "  return np.mean(np.square(np.subtract(yp, y)))\n",
    "    \n",
    "\n",
    "w, yp = lineal_regression(np.c_[np.ones(rm.shape[0]), rm], Y) # np._c concatena a lo largo del segundo eje\n",
    "print('w = ', w)\n",
    "print('Predicción precio con 9 cuartos: $',np.round(predict_from_room_number(9, w),2))\n",
    "print('Predicción del número de cuartos para un precio de $45.000: ', np.round(predict_from_price(45000, w),2))\n",
    "print('ECM: ',np.round(get_mse(yp, Y),2))\n",
    " \n"
   ]
  },
  {
   "cell_type": "markdown",
   "metadata": {
    "id": "97yJHn9aDN3g"
   },
   "source": [
    "## <span style=\"color:blue\">Regresión Lineal Simple. Librería Sklearn</span>  "
   ]
  },
  {
   "cell_type": "markdown",
   "metadata": {
    "id": "97yJHn9aDN3g"
   },
   "source": [
    "\n",
    "Hasta este punto hemos usado losa conceptos teóricos y prácticos de cómo funciona el modelo de regresión lineal simple y cómo se implementa internamente. Esto está muy bien para tener un mejor conocimiento de los conceptos. Sin embargo, en el día a día tenemos que ser efectivos, y para eso lo habitual será utilizar librerías que ya implementen tales los modelos. \n",
    "\n",
    "Por ejemplo, la librería **Sklearn** ya implementa muchos de los modelos de Machine Learning el modelo de regresión lineal. \n",
    "\n",
    "---\n",
    "Usaremos a continuación la función *sklearn.linear_model.LinearRegression()* para entrenar un modelo de regresión lineal simple con las mismas variables que hemos utilizado en el ejercicio anterior. \n",
    "\n",
    "Por favor revise la documentación (online o usando el comando \"?\") para estudiar los diferentes parámetros que acepta este modelo. \n",
    "\n",
    "Por ejemplo ¿Para qué sirve el parámetro *fit_intercept*? \n",
    "\n",
    "Se puede entrenar el modelo con y sin dicho parámetro y visualizarlo en una gráfica.\n",
    "\n",
    "Una vez ajustado el modelo, compruebaremos que el valor de los parámetros obtenidos (también llamados coeficientes) es el mismo que se  obtuvi anteriormente. De la misma forma, utiliza la función *.predict()*, que ya viene implementada, para comprobar que las predicciones son las mismas de antes. \n",
    "\n",
    "Finalmente, se comprueba que el valor del Error Cuadrático Medio que se ha obtenido previamente  es igual al que proporciona la función ya implementada *sklearn.metrics.mean_squared_error()*. \n",
    "\n",
    "Veamos."
   ]
  },
  {
   "cell_type": "code",
   "execution_count": 36,
   "metadata": {
    "colab": {
     "base_uri": "https://localhost:8080/",
     "height": 303
    },
    "id": "xwwMXdGzG_kf",
    "outputId": "d6e924fd-eb77-4969-bb41-c4d969655504"
   },
   "outputs": [
    {
     "data": {
      "image/png": "[encoded data removed]",
      "text/plain": [
       "<Figure size 432x288 with 1 Axes>"
      ]
     },
     "metadata": {
      "needs_background": "light"
     },
     "output_type": "display_data"
    },
    {
     "name": "stdout",
     "output_type": "stream",
     "text": [
      "Modelo con fit_intercept: w1 = 9.102108981180308 w0 = -34.670620776438554 mse = 43.60055177116956\n",
      "Modelo sin fit_intercept: w1 = 3.6533504000238834 w0 = 0.0 mse = 58.41063543210173\n"
     ]
    }
   ],
   "source": [
    "from sklearn import linear_model\n",
    "from sklearn.metrics import mean_squared_error\n",
    "\n",
    "#rm.reshape(-1, 1) cambia las dimensiones de rm, de tal manera que la segunda dimensión es 1. \n",
    "# el -1 indica a Python que recalcule la primera dimensión.\n",
    "# En resumen, tranforma el vector rm en una matriz de tamaño n*1.\n",
    "def use_sklearn():\n",
    "  model = linear_model.LinearRegression().fit(rm.reshape(-1, 1), Y)\n",
    "  model_2 = linear_model.LinearRegression(fit_intercept=False).fit(rm.reshape(-1, 1), Y)\n",
    "\n",
    "  yp = model.predict(rm.reshape(-1, 1))\n",
    "  yp2 =  model_2.predict(rm.reshape(-1, 1))\n",
    "\n",
    "  plt.plot(rm, yp, color=\"green\")\n",
    "  plt.plot(rm, yp2, color=\"red\")\n",
    "  plt.scatter(rm, Y, alpha=0.25)\n",
    "  plt.show()\n",
    "  \n",
    "  fit_intercept_error = mean_squared_error(Y, yp)\n",
    "\n",
    "  print(\"Modelo con fit_intercept: w1 =\", model.coef_[0], \"w0 =\",\n",
    "        model.intercept_, \"mse =\", fit_intercept_error)\n",
    "  print(\"Modelo sin fit_intercept: w1 =\", model_2.coef_[0], \"w0 =\",\n",
    "        model_2.intercept_, \"mse =\", mean_squared_error(Y, yp2))\n",
    "  \n",
    "use_sklearn()\n"
   ]
  },
  {
   "cell_type": "markdown",
   "metadata": {
    "id": "5OU7JKm0QLyW"
   },
   "source": [
    "## <span style=\"color:blue\">Regresión Lineal Múltiple</span>  "
   ]
  },
  {
   "cell_type": "markdown",
   "metadata": {
    "id": "5OU7JKm0QLyW"
   },
   "source": [
    "Por último, como ya hemos visto, podemos generalizar el modelo de regresión lineal simple añadiendo más variables y obteniendo así el model de regresión lineal múltiple. Al añadir más variables al modelo, le estamos dotando de más información que ayude a mejorar las predicciones. Por ejemplo, un modelo de regresión lineal simple podría intentar predecir la altura de una persona en base al tamaño de la mano. Pero si añadieramos otra variable, como por ejemplo, el género, podríamos tener más información para hacer predicciones más fidedignas.\n",
    "\n",
    "La buena noticia es que a nivel de código, no hay gran diferencia entre ambos modelos, que también pueden ser resueltos mediante el método de ***Mínimos Cuadrados Ordinarios*** evaluando la expresión que ya conocemos:\n",
    "\n",
    "$$\n",
    "W = (X^TX)^{-1}X^TY\n",
    "$$\n",
    "\n",
    "\n",
    "Veamos."
   ]
  },
  {
   "cell_type": "code",
   "execution_count": 37,
   "metadata": {
    "colab": {
     "base_uri": "https://localhost:8080/",
     "height": 85
    },
    "id": "aLCT_xrxTF87",
    "outputId": "5c78ed83-09fe-4ac1-8385-c2837a7573a0"
   },
   "outputs": [
    {
     "name": "stdout",
     "output_type": "stream",
     "text": [
      "Coeficientes \"a mano\": [18.56711151  4.51542094 -0.57180569 -0.93072256]\n",
      "Coeficientes sklearn: 18.567111505395246 [ 4.51542094 -0.57180569 -0.93072256]\n",
      "Error regresión lineal múltiple: 27.130405758497062\n",
      "Error regresión lineal simple: 43.60055177116956\n"
     ]
    }
   ],
   "source": [
    "from sklearn import linear_model\n",
    "from sklearn.metrics import mean_squared_error\n",
    "\n",
    "\n",
    "def user_weights(x):\n",
    "  return np.linalg.inv(x.T @ x) @ x.T @ Y\n",
    "\n",
    "x = np.c_[np.ones(rm.shape[0]), rm, X[:, [-1, -3]]]\n",
    "w = user_weights(x)\n",
    "print('Coeficientes \"a mano\":', w) # El primero es el valor resultante cuando el resto de variables son 0, el resto es la importancia (peso) de cada variable.\n",
    "\n",
    "# Quitamos la columna de unos\n",
    "\n",
    "x = x[:, 1:]\n",
    "model = linear_model.LinearRegression().fit(x, Y)\n",
    "print(\"Coeficientes sklearn:\", model.intercept_, model.coef_)\n",
    "\n",
    "print(\"Error regresión lineal múltiple:\", mean_squared_error(Y, model.predict(x)))\n",
    "print(\"Error regresión lineal simple:\", get_mse(yp, Y))\n",
    "\n"
   ]
  },
  {
   "cell_type": "code",
   "execution_count": null,
   "metadata": {},
   "outputs": [],
   "source": []
  }
 ],
 "metadata": {
  "colab": {
   "name": "Copia de Linear regression - Regresión Lineal",
   "provenance": [
    {
     "file_id": "https://github.com/RFajardoMonzon/MachineLearningCourse/blob/master/Linear_regression_Regresi%C3%B3n_Lineal.ipynb",
     "timestamp": 1616159304239
    }
   ]
  },
  "kernelspec": {
   "display_name": "Python 3",
   "language": "python",
   "name": "python3"
  },
  "language_info": {
   "codemirror_mode": {
    "name": "ipython",
    "version": 3
   },
   "file_extension": ".py",
   "mimetype": "text/x-python",
   "name": "python",
   "nbconvert_exporter": "python",
   "pygments_lexer": "ipython3",
   "version": "3.8.8"
  }
 },
 "nbformat": 4,
 "nbformat_minor": 4
}
