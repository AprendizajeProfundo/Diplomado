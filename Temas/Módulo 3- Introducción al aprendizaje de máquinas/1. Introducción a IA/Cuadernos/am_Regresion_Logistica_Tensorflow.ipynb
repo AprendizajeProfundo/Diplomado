{
 "cells": [
  {
   "cell_type": "markdown",
   "metadata": {
    "tags": []
   },
   "source": [
    "<figure>\n",
    "<img src=\"../Imagenes/logo-final-ap.png\"  width=\"80\" height=\"80\" align=\"left\"/> \n",
    "</figure>\n",
    "\n",
    "# <span style=\"color:blue\"><left>Aprendizaje Profundo</left></span>"
   ]
  },
  {
   "cell_type": "markdown",
   "metadata": {},
   "source": [
    "# <span style=\"color:red\"><center>  Modelo Logístico de Clasificación  con Tensorflow 2.X</center></span>"
   ]
  },
  {
   "cell_type": "markdown",
   "metadata": {},
   "source": [
    "## <span style=\"color:blue\">Autores</span>"
   ]
  },
  {
   "cell_type": "markdown",
   "metadata": {},
   "source": [
    "1. Alvaro Mauricio Montenegro Díaz, ammontenegrod@unal.edu.co\n",
    "2. Daniel Mauricio Montenegro Reyes, dextronomo@gmail.com \n"
   ]
  },
  {
   "cell_type": "markdown",
   "metadata": {},
   "source": [
    "## <span style=\"color:blue\">Contenido</span>"
   ]
  },
  {
   "cell_type": "markdown",
   "metadata": {},
   "source": [
    "* [Introducción](#Introducción)\n",
    "* [El modelo lineal de clasificación](#El-modelo-lineal-de-clasificación)\n",
    "* [Importar los módulos requeridos](#Importar-los-módulos-requeridos)\n",
    "* [Carga del conjunto de datos Iris](#Carga-del-conjunto-de-datos-Iris)\n",
    "* [Acercamiento descriptivo a los datos](#Acercamiento-descriptivo-a-los-datos)\n",
    "* [Separa features y targets](#Separa-features-y-targets)\n",
    "* [Divide los datos: entrenamiento y validación](#Divide-los-datos:-entrenamiento-y-validación)\n",
    "* [Normaliza los datos](#Normaliza-los-datos)\n",
    "* [Construye la tuberia (pipeline) para la alimentación de datos de Tensorflow](#Construye-la-tuberia-(pipeline)-para-la-alimentación-de-datos-de-Tensorflow)\n",
    "* [Entrenamiento del Modelo](#Entrenamiento-del-Modelo)\n",
    "* [Predicciones](#Predicciones)\n",
    "* [Validación](#Validación)\n",
    "\n"
   ]
  },
  {
   "cell_type": "markdown",
   "metadata": {},
   "source": [
    "## <span style=\"color:blue\">Introducción</span>"
   ]
  },
  {
   "cell_type": "markdown",
   "metadata": {},
   "source": [
    "Este código fue tomado y  adaptado de [Google Colab](https://colab.research.google.com/drive/1qNxKmi0QpkunqTDdpXfVLlneG-NFDN9c). En este ejercicio usaremos el famoso conjunto de datos *iris*. Sin embargo no se usaran todos los datos, porque en este ejercicio vamos a introducir el modelo logístico clásico que permite separar en dos clases. Los datos de la primera clase son omitidos y los datos se recodifican para tener solamente dos clases. Próximamente usaremos todos los datos."
   ]
  },
  {
   "cell_type": "markdown",
   "metadata": {},
   "source": [
    "## <span style=\"color:blue\">El modelo lineal de clasificación</span>"
   ]
  },
  {
   "cell_type": "markdown",
   "metadata": {},
   "source": [
    "En este  modelo se tienen varias variables regresoras o explicativas de entrada y una variable dicotómica de salida.\n",
    "\n",
    "El propósito central es construir un modelo para predecir la probabilidad de que los elementos del espacio de entrada pertenezcan a una de dos clases, las cuales denotaremos como 0 y 1 respectivamente.\n",
    "\n",
    "Supongamos que tenemos dos variables $X_1$ y $X_2$ que se espera permitan predecir si un elemento del conjunto de entrada pertenece a una clase: clase 1 ($Y=1$) o clase 0 ($Y=0$).\n",
    "\n",
    "El modelo desde el punto de vista estadístico se escribe como\n",
    "\n",
    "$$\n",
    "[Y_i|X_1=x_{i1},X_2=x_{i2}] \\sim \\text{Bernoulli}(\\pi_i),\n",
    "$$\n",
    "\n",
    "en donde \n",
    "\n",
    "$$\n",
    "\\pi_i = \\frac{1}{1 + exp(-[b +w_1x_{i1} + w_2x_{i2})]}, i =i,\\cdots,N\n",
    "$$\n",
    "\n",
    "En el entrenamiento se encontraran los pesos $w_1,w_2,$ y el intercepto $b$ que minimizan una determinada función de pérdida, a partir de un conjunto de datos de entrenamiento. \n",
    "\n",
    "\n",
    "Una vez garantizado que la máquina generaliza bien, probando con los datos de validación, la expresión anterior se utiliza para predecir la probabilidad que un nuevo valor no observado en el espacio de entrada, digamos $(x_1,x_2)$ pertenezca a a una clase. \n",
    "\n",
    "Por construcción $\\pi$ es la probabilidad que el elemento $x$ pertenezca a la clase 1. Por lo tanto si por ejemplo $\\pi = 0.8$ para un elemento, entonces lo clasificamos en la clase 1. \n",
    "\n",
    "\n",
    "La idea central que está detrás de este tipo de modelos se puede apreciar en la siguiente imagen."
   ]
  },
  {
   "cell_type": "markdown",
   "metadata": {},
   "source": [
    "\n",
    "<figure>\n",
    "<center>\n",
    "<img src=\"../Imagenes/clasificador_lineal.png\" width=\"600\" height=\"500\" align=\"center\"/>\n",
    "</center>\n",
    "<figcaption>\n",
    "<p style=\"text-align:center\">Clasificador Lineal</p>\n",
    "</figcaption>\n",
    "</figure>\n"
   ]
  },
  {
   "cell_type": "markdown",
   "metadata": {},
   "source": [
    "Se trata de un clasificador lineal simple. Vamos a suponer que la máquina de aprendizaje ya está entrenada, por lo que los parámetros $w,b$ están fijos.\n",
    "\n",
    "Observe que la línea roja divide el espacio $\\mathcal{R}^2$ en  tres regiones. La primera es justamente la recta, que corresponde a un modelo de regresión como se estudió en la lección de [regresión lineal](am_intro_regresion.ipynb). Sobre la línea se cumple la ecuación \n",
    "\n",
    "$$\n",
    "wx+b =0.\n",
    "$$\n",
    "\n",
    "Por otro lado se tiene que si $wx+b=0$, entonces la probabilidad $\\pi$ es dada en este caso por\n",
    "\n",
    "$$\n",
    "\\pi = \\frac{1}{1+exp(-(wx+b))} = \\frac{1}{2}.\n",
    "$$\n",
    "\n",
    "La segunda región está a la derecha. Usted puede verificar que en este caso, para todos los valores de $x$ se tiene que  $wx+b>0$. Como consecuencia, se tiene que $\\pi>\\tfrac{1}{2}$. en el caso extremo para valores $x$ muy alejados hacia la derecha, se tiene que $wx+b\\to \\infty$ y en consecuencia $\\pi\\to 1$.\n",
    "\n",
    "\n",
    "En la tercera región (a la izquierda) ocurre el comportamiento simétrico pero en el otro sentido. Ahora $wx+b<0$, para todos los valores de $x$.  Se tiene que $\\pi<\\tfrac{1}{2}$. En el caso extremo para valores $x$ muy alejados hacia la izquierda, se tiene que $wx+b\\to -\\infty$ y en consecuencia $\\pi\\to 0$.\n"
   ]
  },
  {
   "cell_type": "markdown",
   "metadata": {},
   "source": [
    "### Conclusión"
   ]
  },
  {
   "cell_type": "markdown",
   "metadata": {},
   "source": [
    "El separador lineal funciona de la siguiente forma en este caso.\n",
    "\n",
    "1. Si $\\pi(x)$ es mayor que 0.5, la clase que debe asigna es 1. Entre mayor es $\\pi(x)$ mayor tranquilidad para asignar la clase 1 al elemento $x$ en el espacio se entrada.\n",
    "2. Si $\\pi(x)$ es menor que 0.5, la clase que debe asigna es 0. Entre mayor es $\\pi(x)$ mayor tranquilidad para asignar la clase 0 al elemento $x$ en el espacio se entrada.\n",
    "3. Si $\\pi(x)=0.5$, no se puede asignar una clase. Para valores muy cercanos a 0.5, no se debe asignar una clase directamente. Si fuera necesario tomar una decisión, lo mejor es seleccionar la clase de forma aleatoria. Como regla de combate, si $0.48 \\le \\pi(x)\\le 0.52$, seleccionar aleatoriamente."
   ]
  },
  {
   "cell_type": "markdown",
   "metadata": {},
   "source": [
    "## <span style=\"color:blue\">Importar los módulos requeridos</span>"
   ]
  },
  {
   "cell_type": "code",
   "execution_count": 1,
   "metadata": {},
   "outputs": [],
   "source": [
    "try:\n",
    "  %tensorflow_version 2.x\n",
    "except Exception:\n",
    "  pass"
   ]
  },
  {
   "cell_type": "code",
   "execution_count": 15,
   "metadata": {},
   "outputs": [
    {
     "name": "stdout",
     "output_type": "stream",
     "text": [
      "2.4.1\n"
     ]
    }
   ],
   "source": [
    "from __future__ import absolute_import, division, print_function, unicode_literals\n",
    "\n",
    "import pandas as pd\n",
    "import seaborn as sb\n",
    "import tensorflow as tf\n",
    "from tensorflow import keras\n",
    "from tensorflow.estimator import LinearClassifier\n",
    "from sklearn.model_selection import train_test_split\n",
    "from sklearn.metrics import accuracy_score, precision_score, recall_score\n",
    "import matplotlib.pyplot as plt\n",
    "\n",
    "print(tf.__version__)"
   ]
  },
  {
   "cell_type": "markdown",
   "metadata": {},
   "source": [
    "## <span style=\"color:blue\">Carga del conjunto de datos Iris</span>"
   ]
  },
  {
   "cell_type": "code",
   "execution_count": 6,
   "metadata": {},
   "outputs": [],
   "source": [
    "# nombres de las columnas de los datos\n",
    "col_names = ['SepalLength', 'SepalWidth', 'PetalLength', 'PetalWidth', 'Species']\n",
    "target_dimensions = ['Setosa', 'Versicolor', 'Virginica']\n",
    "\n",
    "# lee los datos\n",
    "training_data_path = tf.keras.utils.get_file(\"iris_training.csv\", \"https://storage.googleapis.com/download.tensorflow.org/data/iris_training.csv\")\n",
    "test_data_path = tf.keras.utils.get_file(\"iris_test.csv\", \"https://storage.googleapis.com/download.tensorflow.org/data/iris_test.csv\")\n",
    "training = pd.read_csv(training_data_path, names=col_names, header=0)\n",
    "test = pd.read_csv(test_data_path, names=col_names, header=0)"
   ]
  },
  {
   "cell_type": "code",
   "execution_count": 7,
   "metadata": {},
   "outputs": [
    {
     "data": {
      "text/html": [
       "<div>\n",
       "<style scoped>\n",
       "    .dataframe tbody tr th:only-of-type {\n",
       "        vertical-align: middle;\n",
       "    }\n",
       "\n",
       "    .dataframe tbody tr th {\n",
       "        vertical-align: top;\n",
       "    }\n",
       "\n",
       "    .dataframe thead th {\n",
       "        text-align: right;\n",
       "    }\n",
       "</style>\n",
       "<table border=\"1\" class=\"dataframe\">\n",
       "  <thead>\n",
       "    <tr style=\"text-align: right;\">\n",
       "      <th></th>\n",
       "      <th>SepalLength</th>\n",
       "      <th>SepalWidth</th>\n",
       "      <th>PetalLength</th>\n",
       "      <th>PetalWidth</th>\n",
       "      <th>Species</th>\n",
       "    </tr>\n",
       "  </thead>\n",
       "  <tbody>\n",
       "    <tr>\n",
       "      <th>0</th>\n",
       "      <td>5.9</td>\n",
       "      <td>3.0</td>\n",
       "      <td>4.2</td>\n",
       "      <td>1.5</td>\n",
       "      <td>1</td>\n",
       "    </tr>\n",
       "    <tr>\n",
       "      <th>1</th>\n",
       "      <td>6.9</td>\n",
       "      <td>3.1</td>\n",
       "      <td>5.4</td>\n",
       "      <td>2.1</td>\n",
       "      <td>2</td>\n",
       "    </tr>\n",
       "    <tr>\n",
       "      <th>2</th>\n",
       "      <td>5.1</td>\n",
       "      <td>3.3</td>\n",
       "      <td>1.7</td>\n",
       "      <td>0.5</td>\n",
       "      <td>0</td>\n",
       "    </tr>\n",
       "    <tr>\n",
       "      <th>3</th>\n",
       "      <td>6.0</td>\n",
       "      <td>3.4</td>\n",
       "      <td>4.5</td>\n",
       "      <td>1.6</td>\n",
       "      <td>1</td>\n",
       "    </tr>\n",
       "    <tr>\n",
       "      <th>4</th>\n",
       "      <td>5.5</td>\n",
       "      <td>2.5</td>\n",
       "      <td>4.0</td>\n",
       "      <td>1.3</td>\n",
       "      <td>1</td>\n",
       "    </tr>\n",
       "    <tr>\n",
       "      <th>5</th>\n",
       "      <td>6.2</td>\n",
       "      <td>2.9</td>\n",
       "      <td>4.3</td>\n",
       "      <td>1.3</td>\n",
       "      <td>1</td>\n",
       "    </tr>\n",
       "    <tr>\n",
       "      <th>6</th>\n",
       "      <td>5.5</td>\n",
       "      <td>4.2</td>\n",
       "      <td>1.4</td>\n",
       "      <td>0.2</td>\n",
       "      <td>0</td>\n",
       "    </tr>\n",
       "    <tr>\n",
       "      <th>7</th>\n",
       "      <td>6.3</td>\n",
       "      <td>2.8</td>\n",
       "      <td>5.1</td>\n",
       "      <td>1.5</td>\n",
       "      <td>2</td>\n",
       "    </tr>\n",
       "    <tr>\n",
       "      <th>8</th>\n",
       "      <td>5.6</td>\n",
       "      <td>3.0</td>\n",
       "      <td>4.1</td>\n",
       "      <td>1.3</td>\n",
       "      <td>1</td>\n",
       "    </tr>\n",
       "    <tr>\n",
       "      <th>9</th>\n",
       "      <td>6.7</td>\n",
       "      <td>2.5</td>\n",
       "      <td>5.8</td>\n",
       "      <td>1.8</td>\n",
       "      <td>2</td>\n",
       "    </tr>\n",
       "    <tr>\n",
       "      <th>10</th>\n",
       "      <td>7.1</td>\n",
       "      <td>3.0</td>\n",
       "      <td>5.9</td>\n",
       "      <td>2.1</td>\n",
       "      <td>2</td>\n",
       "    </tr>\n",
       "    <tr>\n",
       "      <th>11</th>\n",
       "      <td>4.3</td>\n",
       "      <td>3.0</td>\n",
       "      <td>1.1</td>\n",
       "      <td>0.1</td>\n",
       "      <td>0</td>\n",
       "    </tr>\n",
       "    <tr>\n",
       "      <th>12</th>\n",
       "      <td>5.6</td>\n",
       "      <td>2.8</td>\n",
       "      <td>4.9</td>\n",
       "      <td>2.0</td>\n",
       "      <td>2</td>\n",
       "    </tr>\n",
       "    <tr>\n",
       "      <th>13</th>\n",
       "      <td>5.5</td>\n",
       "      <td>2.3</td>\n",
       "      <td>4.0</td>\n",
       "      <td>1.3</td>\n",
       "      <td>1</td>\n",
       "    </tr>\n",
       "    <tr>\n",
       "      <th>14</th>\n",
       "      <td>6.0</td>\n",
       "      <td>2.2</td>\n",
       "      <td>4.0</td>\n",
       "      <td>1.0</td>\n",
       "      <td>1</td>\n",
       "    </tr>\n",
       "    <tr>\n",
       "      <th>15</th>\n",
       "      <td>5.1</td>\n",
       "      <td>3.5</td>\n",
       "      <td>1.4</td>\n",
       "      <td>0.2</td>\n",
       "      <td>0</td>\n",
       "    </tr>\n",
       "    <tr>\n",
       "      <th>16</th>\n",
       "      <td>5.7</td>\n",
       "      <td>2.6</td>\n",
       "      <td>3.5</td>\n",
       "      <td>1.0</td>\n",
       "      <td>1</td>\n",
       "    </tr>\n",
       "    <tr>\n",
       "      <th>17</th>\n",
       "      <td>4.8</td>\n",
       "      <td>3.4</td>\n",
       "      <td>1.9</td>\n",
       "      <td>0.2</td>\n",
       "      <td>0</td>\n",
       "    </tr>\n",
       "    <tr>\n",
       "      <th>18</th>\n",
       "      <td>5.1</td>\n",
       "      <td>3.4</td>\n",
       "      <td>1.5</td>\n",
       "      <td>0.2</td>\n",
       "      <td>0</td>\n",
       "    </tr>\n",
       "    <tr>\n",
       "      <th>19</th>\n",
       "      <td>5.7</td>\n",
       "      <td>2.5</td>\n",
       "      <td>5.0</td>\n",
       "      <td>2.0</td>\n",
       "      <td>2</td>\n",
       "    </tr>\n",
       "    <tr>\n",
       "      <th>20</th>\n",
       "      <td>5.4</td>\n",
       "      <td>3.4</td>\n",
       "      <td>1.7</td>\n",
       "      <td>0.2</td>\n",
       "      <td>0</td>\n",
       "    </tr>\n",
       "    <tr>\n",
       "      <th>21</th>\n",
       "      <td>5.6</td>\n",
       "      <td>3.0</td>\n",
       "      <td>4.5</td>\n",
       "      <td>1.5</td>\n",
       "      <td>1</td>\n",
       "    </tr>\n",
       "    <tr>\n",
       "      <th>22</th>\n",
       "      <td>6.3</td>\n",
       "      <td>2.9</td>\n",
       "      <td>5.6</td>\n",
       "      <td>1.8</td>\n",
       "      <td>2</td>\n",
       "    </tr>\n",
       "    <tr>\n",
       "      <th>23</th>\n",
       "      <td>6.3</td>\n",
       "      <td>2.5</td>\n",
       "      <td>4.9</td>\n",
       "      <td>1.5</td>\n",
       "      <td>1</td>\n",
       "    </tr>\n",
       "    <tr>\n",
       "      <th>24</th>\n",
       "      <td>5.8</td>\n",
       "      <td>2.7</td>\n",
       "      <td>3.9</td>\n",
       "      <td>1.2</td>\n",
       "      <td>1</td>\n",
       "    </tr>\n",
       "    <tr>\n",
       "      <th>25</th>\n",
       "      <td>6.1</td>\n",
       "      <td>3.0</td>\n",
       "      <td>4.6</td>\n",
       "      <td>1.4</td>\n",
       "      <td>1</td>\n",
       "    </tr>\n",
       "    <tr>\n",
       "      <th>26</th>\n",
       "      <td>5.2</td>\n",
       "      <td>4.1</td>\n",
       "      <td>1.5</td>\n",
       "      <td>0.1</td>\n",
       "      <td>0</td>\n",
       "    </tr>\n",
       "    <tr>\n",
       "      <th>27</th>\n",
       "      <td>6.7</td>\n",
       "      <td>3.1</td>\n",
       "      <td>4.7</td>\n",
       "      <td>1.5</td>\n",
       "      <td>1</td>\n",
       "    </tr>\n",
       "    <tr>\n",
       "      <th>28</th>\n",
       "      <td>6.7</td>\n",
       "      <td>3.3</td>\n",
       "      <td>5.7</td>\n",
       "      <td>2.5</td>\n",
       "      <td>2</td>\n",
       "    </tr>\n",
       "    <tr>\n",
       "      <th>29</th>\n",
       "      <td>6.4</td>\n",
       "      <td>2.9</td>\n",
       "      <td>4.3</td>\n",
       "      <td>1.3</td>\n",
       "      <td>1</td>\n",
       "    </tr>\n",
       "  </tbody>\n",
       "</table>\n",
       "</div>"
      ],
      "text/plain": [
       "    SepalLength  SepalWidth  PetalLength  PetalWidth  Species\n",
       "0           5.9         3.0          4.2         1.5        1\n",
       "1           6.9         3.1          5.4         2.1        2\n",
       "2           5.1         3.3          1.7         0.5        0\n",
       "3           6.0         3.4          4.5         1.6        1\n",
       "4           5.5         2.5          4.0         1.3        1\n",
       "5           6.2         2.9          4.3         1.3        1\n",
       "6           5.5         4.2          1.4         0.2        0\n",
       "7           6.3         2.8          5.1         1.5        2\n",
       "8           5.6         3.0          4.1         1.3        1\n",
       "9           6.7         2.5          5.8         1.8        2\n",
       "10          7.1         3.0          5.9         2.1        2\n",
       "11          4.3         3.0          1.1         0.1        0\n",
       "12          5.6         2.8          4.9         2.0        2\n",
       "13          5.5         2.3          4.0         1.3        1\n",
       "14          6.0         2.2          4.0         1.0        1\n",
       "15          5.1         3.5          1.4         0.2        0\n",
       "16          5.7         2.6          3.5         1.0        1\n",
       "17          4.8         3.4          1.9         0.2        0\n",
       "18          5.1         3.4          1.5         0.2        0\n",
       "19          5.7         2.5          5.0         2.0        2\n",
       "20          5.4         3.4          1.7         0.2        0\n",
       "21          5.6         3.0          4.5         1.5        1\n",
       "22          6.3         2.9          5.6         1.8        2\n",
       "23          6.3         2.5          4.9         1.5        1\n",
       "24          5.8         2.7          3.9         1.2        1\n",
       "25          6.1         3.0          4.6         1.4        1\n",
       "26          5.2         4.1          1.5         0.1        0\n",
       "27          6.7         3.1          4.7         1.5        1\n",
       "28          6.7         3.3          5.7         2.5        2\n",
       "29          6.4         2.9          4.3         1.3        1"
      ]
     },
     "execution_count": 7,
     "metadata": {},
     "output_type": "execute_result"
    }
   ],
   "source": [
    "test"
   ]
  },
  {
   "cell_type": "code",
   "execution_count": 9,
   "metadata": {},
   "outputs": [
    {
     "name": "stderr",
     "output_type": "stream",
     "text": [
      "/home/alvaro/anaconda3/envs/tf2/lib/python3.8/site-packages/pandas/core/series.py:4509: SettingWithCopyWarning: \n",
      "A value is trying to be set on a copy of a slice from a DataFrame\n",
      "\n",
      "See the caveats in the documentation: https://pandas.pydata.org/pandas-docs/stable/user_guide/indexing.html#returning-a-view-versus-a-copy\n",
      "  return super().replace(\n"
     ]
    }
   ],
   "source": [
    "# esta sección es para omitir la clase 0: \"Setosa\" y recodificar loa datos  de entrenamiento\n",
    "training = training[training['Species'] >= 1]\n",
    "#training['Species'] = training['Species'].replace([1,2], [0,1])\n",
    "training['Species'].replace(to_replace=[1,2], value=[0,1], inplace=True)\n",
    "\n",
    "# esta sección es para omitir la clase 0: \"Setosa\" y recodificar los datos  de validación\n",
    "test = test[test['Species'] >= 1]\n",
    "#test['Species'] = test['Species'].replace([1,2], [0,1])\n",
    "test['Species'].replace(to_replace=[1,2], value=[0,1], inplace=True)\n",
    "\n",
    "# omite los índices de los dos dataframes para poderlos concadenar\n",
    "training.reset_index(drop=True, inplace=True)\n",
    "test.reset_index(drop=True, inplace=True)\n",
    "\n",
    "# concadena los dataframes\n",
    "iris_dataset = pd.concat([training, test], axis=0)"
   ]
  },
  {
   "cell_type": "code",
   "execution_count": 10,
   "metadata": {},
   "outputs": [
    {
     "data": {
      "text/html": [
       "<div>\n",
       "<style scoped>\n",
       "    .dataframe tbody tr th:only-of-type {\n",
       "        vertical-align: middle;\n",
       "    }\n",
       "\n",
       "    .dataframe tbody tr th {\n",
       "        vertical-align: top;\n",
       "    }\n",
       "\n",
       "    .dataframe thead th {\n",
       "        text-align: right;\n",
       "    }\n",
       "</style>\n",
       "<table border=\"1\" class=\"dataframe\">\n",
       "  <thead>\n",
       "    <tr style=\"text-align: right;\">\n",
       "      <th></th>\n",
       "      <th>SepalLength</th>\n",
       "      <th>SepalWidth</th>\n",
       "      <th>PetalLength</th>\n",
       "      <th>PetalWidth</th>\n",
       "      <th>Species</th>\n",
       "    </tr>\n",
       "  </thead>\n",
       "  <tbody>\n",
       "    <tr>\n",
       "      <th>0</th>\n",
       "      <td>6.4</td>\n",
       "      <td>2.8</td>\n",
       "      <td>5.6</td>\n",
       "      <td>2.2</td>\n",
       "      <td>1</td>\n",
       "    </tr>\n",
       "    <tr>\n",
       "      <th>1</th>\n",
       "      <td>5.0</td>\n",
       "      <td>2.3</td>\n",
       "      <td>3.3</td>\n",
       "      <td>1.0</td>\n",
       "      <td>0</td>\n",
       "    </tr>\n",
       "    <tr>\n",
       "      <th>2</th>\n",
       "      <td>4.9</td>\n",
       "      <td>2.5</td>\n",
       "      <td>4.5</td>\n",
       "      <td>1.7</td>\n",
       "      <td>1</td>\n",
       "    </tr>\n",
       "    <tr>\n",
       "      <th>3</th>\n",
       "      <td>6.9</td>\n",
       "      <td>3.1</td>\n",
       "      <td>5.1</td>\n",
       "      <td>2.3</td>\n",
       "      <td>1</td>\n",
       "    </tr>\n",
       "    <tr>\n",
       "      <th>4</th>\n",
       "      <td>6.7</td>\n",
       "      <td>3.1</td>\n",
       "      <td>4.4</td>\n",
       "      <td>1.4</td>\n",
       "      <td>0</td>\n",
       "    </tr>\n",
       "    <tr>\n",
       "      <th>...</th>\n",
       "      <td>...</td>\n",
       "      <td>...</td>\n",
       "      <td>...</td>\n",
       "      <td>...</td>\n",
       "      <td>...</td>\n",
       "    </tr>\n",
       "    <tr>\n",
       "      <th>17</th>\n",
       "      <td>5.8</td>\n",
       "      <td>2.7</td>\n",
       "      <td>3.9</td>\n",
       "      <td>1.2</td>\n",
       "      <td>0</td>\n",
       "    </tr>\n",
       "    <tr>\n",
       "      <th>18</th>\n",
       "      <td>6.1</td>\n",
       "      <td>3.0</td>\n",
       "      <td>4.6</td>\n",
       "      <td>1.4</td>\n",
       "      <td>0</td>\n",
       "    </tr>\n",
       "    <tr>\n",
       "      <th>19</th>\n",
       "      <td>6.7</td>\n",
       "      <td>3.1</td>\n",
       "      <td>4.7</td>\n",
       "      <td>1.5</td>\n",
       "      <td>0</td>\n",
       "    </tr>\n",
       "    <tr>\n",
       "      <th>20</th>\n",
       "      <td>6.7</td>\n",
       "      <td>3.3</td>\n",
       "      <td>5.7</td>\n",
       "      <td>2.5</td>\n",
       "      <td>1</td>\n",
       "    </tr>\n",
       "    <tr>\n",
       "      <th>21</th>\n",
       "      <td>6.4</td>\n",
       "      <td>2.9</td>\n",
       "      <td>4.3</td>\n",
       "      <td>1.3</td>\n",
       "      <td>0</td>\n",
       "    </tr>\n",
       "  </tbody>\n",
       "</table>\n",
       "<p>100 rows × 5 columns</p>\n",
       "</div>"
      ],
      "text/plain": [
       "    SepalLength  SepalWidth  PetalLength  PetalWidth  Species\n",
       "0           6.4         2.8          5.6         2.2        1\n",
       "1           5.0         2.3          3.3         1.0        0\n",
       "2           4.9         2.5          4.5         1.7        1\n",
       "3           6.9         3.1          5.1         2.3        1\n",
       "4           6.7         3.1          4.4         1.4        0\n",
       "..          ...         ...          ...         ...      ...\n",
       "17          5.8         2.7          3.9         1.2        0\n",
       "18          6.1         3.0          4.6         1.4        0\n",
       "19          6.7         3.1          4.7         1.5        0\n",
       "20          6.7         3.3          5.7         2.5        1\n",
       "21          6.4         2.9          4.3         1.3        0\n",
       "\n",
       "[100 rows x 5 columns]"
      ]
     },
     "execution_count": 10,
     "metadata": {},
     "output_type": "execute_result"
    }
   ],
   "source": [
    "iris_dataset"
   ]
  },
  {
   "cell_type": "code",
   "execution_count": 11,
   "metadata": {},
   "outputs": [
    {
     "data": {
      "text/plain": [
       "Int64Index([ 0,  1,  2,  3,  4,  5,  6,  7,  8,  9, 10, 11, 12, 13, 14, 15, 16,\n",
       "            17, 18, 19, 20, 21, 22, 23, 24, 25, 26, 27, 28, 29, 30, 31, 32, 33,\n",
       "            34, 35, 36, 37, 38, 39, 40, 41, 42, 43, 44, 45, 46, 47, 48, 49, 50,\n",
       "            51, 52, 53, 54, 55, 56, 57, 58, 59, 60, 61, 62, 63, 64, 65, 66, 67,\n",
       "            68, 69, 70, 71, 72, 73, 74, 75, 76, 77,  0,  1,  2,  3,  4,  5,  6,\n",
       "             7,  8,  9, 10, 11, 12, 13, 14, 15, 16, 17, 18, 19, 20, 21],\n",
       "           dtype='int64')"
      ]
     },
     "execution_count": 11,
     "metadata": {},
     "output_type": "execute_result"
    }
   ],
   "source": [
    "iris_dataset.index"
   ]
  },
  {
   "cell_type": "markdown",
   "metadata": {},
   "source": [
    "## <span style=\"color:blue\">Acercamiento descriptivo a los datos</span>"
   ]
  },
  {
   "cell_type": "code",
   "execution_count": 12,
   "metadata": {},
   "outputs": [
    {
     "data": {
      "text/html": [
       "<div>\n",
       "<style scoped>\n",
       "    .dataframe tbody tr th:only-of-type {\n",
       "        vertical-align: middle;\n",
       "    }\n",
       "\n",
       "    .dataframe tbody tr th {\n",
       "        vertical-align: top;\n",
       "    }\n",
       "\n",
       "    .dataframe thead th {\n",
       "        text-align: right;\n",
       "    }\n",
       "</style>\n",
       "<table border=\"1\" class=\"dataframe\">\n",
       "  <thead>\n",
       "    <tr style=\"text-align: right;\">\n",
       "      <th></th>\n",
       "      <th>count</th>\n",
       "      <th>mean</th>\n",
       "      <th>std</th>\n",
       "      <th>min</th>\n",
       "      <th>25%</th>\n",
       "      <th>50%</th>\n",
       "      <th>75%</th>\n",
       "      <th>max</th>\n",
       "    </tr>\n",
       "  </thead>\n",
       "  <tbody>\n",
       "    <tr>\n",
       "      <th>SepalLength</th>\n",
       "      <td>100.0</td>\n",
       "      <td>6.262</td>\n",
       "      <td>0.662834</td>\n",
       "      <td>4.9</td>\n",
       "      <td>5.800</td>\n",
       "      <td>6.3</td>\n",
       "      <td>6.700</td>\n",
       "      <td>7.9</td>\n",
       "    </tr>\n",
       "    <tr>\n",
       "      <th>SepalWidth</th>\n",
       "      <td>100.0</td>\n",
       "      <td>2.872</td>\n",
       "      <td>0.332751</td>\n",
       "      <td>2.0</td>\n",
       "      <td>2.700</td>\n",
       "      <td>2.9</td>\n",
       "      <td>3.025</td>\n",
       "      <td>3.8</td>\n",
       "    </tr>\n",
       "    <tr>\n",
       "      <th>PetalLength</th>\n",
       "      <td>100.0</td>\n",
       "      <td>4.906</td>\n",
       "      <td>0.825578</td>\n",
       "      <td>3.0</td>\n",
       "      <td>4.375</td>\n",
       "      <td>4.9</td>\n",
       "      <td>5.525</td>\n",
       "      <td>6.9</td>\n",
       "    </tr>\n",
       "    <tr>\n",
       "      <th>PetalWidth</th>\n",
       "      <td>100.0</td>\n",
       "      <td>1.676</td>\n",
       "      <td>0.424769</td>\n",
       "      <td>1.0</td>\n",
       "      <td>1.300</td>\n",
       "      <td>1.6</td>\n",
       "      <td>2.000</td>\n",
       "      <td>2.5</td>\n",
       "    </tr>\n",
       "    <tr>\n",
       "      <th>Species</th>\n",
       "      <td>100.0</td>\n",
       "      <td>0.500</td>\n",
       "      <td>0.502519</td>\n",
       "      <td>0.0</td>\n",
       "      <td>0.000</td>\n",
       "      <td>0.5</td>\n",
       "      <td>1.000</td>\n",
       "      <td>1.0</td>\n",
       "    </tr>\n",
       "  </tbody>\n",
       "</table>\n",
       "</div>"
      ],
      "text/plain": [
       "             count   mean       std  min    25%  50%    75%  max\n",
       "SepalLength  100.0  6.262  0.662834  4.9  5.800  6.3  6.700  7.9\n",
       "SepalWidth   100.0  2.872  0.332751  2.0  2.700  2.9  3.025  3.8\n",
       "PetalLength  100.0  4.906  0.825578  3.0  4.375  4.9  5.525  6.9\n",
       "PetalWidth   100.0  1.676  0.424769  1.0  1.300  1.6  2.000  2.5\n",
       "Species      100.0  0.500  0.502519  0.0  0.000  0.5  1.000  1.0"
      ]
     },
     "execution_count": 12,
     "metadata": {},
     "output_type": "execute_result"
    }
   ],
   "source": [
    "iris_dataset.describe().transpose()"
   ]
  },
  {
   "cell_type": "code",
   "execution_count": 14,
   "metadata": {},
   "outputs": [
    {
     "ename": "NameError",
     "evalue": "name 'plt' is not defined",
     "output_type": "error",
     "traceback": [
      "\u001b[0;31m---------------------------------------------------------------------------\u001b[0m",
      "\u001b[0;31mNameError\u001b[0m                                 Traceback (most recent call last)",
      "\u001b[0;32m<ipython-input-14-c41280bdcc88>\u001b[0m in \u001b[0;36m<module>\u001b[0;34m\u001b[0m\n\u001b[1;32m      1\u001b[0m \u001b[0msb\u001b[0m\u001b[0;34m.\u001b[0m\u001b[0mpairplot\u001b[0m\u001b[0;34m(\u001b[0m\u001b[0miris_dataset\u001b[0m\u001b[0;34m,\u001b[0m \u001b[0mdiag_kind\u001b[0m\u001b[0;34m=\u001b[0m\u001b[0;34m\"kde\"\u001b[0m\u001b[0;34m)\u001b[0m\u001b[0;34m\u001b[0m\u001b[0;34m\u001b[0m\u001b[0m\n\u001b[0;32m----> 2\u001b[0;31m \u001b[0mplt\u001b[0m\u001b[0;34m.\u001b[0m\u001b[0mshow\u001b[0m\u001b[0;34m(\u001b[0m\u001b[0;34m)\u001b[0m\u001b[0;34m\u001b[0m\u001b[0;34m\u001b[0m\u001b[0m\n\u001b[0m",
      "\u001b[0;31mNameError\u001b[0m: name 'plt' is not defined"
     ]
    },
    {
     "data": {
      "image/png": "[encoded data removed]",
      "text/plain": [
       "<Figure size 900x900 with 30 Axes>"
      ]
     },
     "metadata": {
      "needs_background": "light"
     },
     "output_type": "display_data"
    }
   ],
   "source": [
    "sb.pairplot(iris_dataset, diag_kind=\"kde\")\n",
    "plt.show()"
   ]
  },
  {
   "cell_type": "code",
   "execution_count": 16,
   "metadata": {},
   "outputs": [
    {
     "data": {
      "text/html": [
       "<style  type=\"text/css\" >\n",
       "#T_eb466_row0_col0,#T_eb466_row1_col1,#T_eb466_row2_col2,#T_eb466_row3_col3,#T_eb466_row4_col4{\n",
       "            background-color:  #b40426;\n",
       "            color:  #f1f1f1;\n",
       "        }#T_eb466_row0_col1,#T_eb466_row1_col0{\n",
       "            background-color:  #b1cbfc;\n",
       "            color:  #000000;\n",
       "        }#T_eb466_row0_col2,#T_eb466_row2_col0,#T_eb466_row3_col4,#T_eb466_row4_col3{\n",
       "            background-color:  #f4987a;\n",
       "            color:  #000000;\n",
       "        }#T_eb466_row0_col3,#T_eb466_row3_col0{\n",
       "            background-color:  #c4d5f3;\n",
       "            color:  #000000;\n",
       "        }#T_eb466_row0_col4,#T_eb466_row4_col0{\n",
       "            background-color:  #93b5fe;\n",
       "            color:  #000000;\n",
       "        }#T_eb466_row1_col2,#T_eb466_row2_col1{\n",
       "            background-color:  #a1c0ff;\n",
       "            color:  #000000;\n",
       "        }#T_eb466_row1_col3,#T_eb466_row3_col1{\n",
       "            background-color:  #b7cff9;\n",
       "            color:  #000000;\n",
       "        }#T_eb466_row1_col4,#T_eb466_row4_col1{\n",
       "            background-color:  #3b4cc0;\n",
       "            color:  #f1f1f1;\n",
       "        }#T_eb466_row2_col3,#T_eb466_row3_col2{\n",
       "            background-color:  #f59c7d;\n",
       "            color:  #000000;\n",
       "        }#T_eb466_row2_col4,#T_eb466_row4_col2{\n",
       "            background-color:  #f7b093;\n",
       "            color:  #000000;\n",
       "        }</style><table id=\"T_eb466_\" ><thead>    <tr>        <th class=\"blank level0\" ></th>        <th class=\"col_heading level0 col0\" >SepalLength</th>        <th class=\"col_heading level0 col1\" >SepalWidth</th>        <th class=\"col_heading level0 col2\" >PetalLength</th>        <th class=\"col_heading level0 col3\" >PetalWidth</th>        <th class=\"col_heading level0 col4\" >Species</th>    </tr></thead><tbody>\n",
       "                <tr>\n",
       "                        <th id=\"T_eb466_level0_row0\" class=\"row_heading level0 row0\" >SepalLength</th>\n",
       "                        <td id=\"T_eb466_row0_col0\" class=\"data row0 col0\" >1.000000</td>\n",
       "                        <td id=\"T_eb466_row0_col1\" class=\"data row0 col1\" >0.553855</td>\n",
       "                        <td id=\"T_eb466_row0_col2\" class=\"data row0 col2\" >0.828479</td>\n",
       "                        <td id=\"T_eb466_row0_col3\" class=\"data row0 col3\" >0.593709</td>\n",
       "                        <td id=\"T_eb466_row0_col4\" class=\"data row0 col4\" >0.494305</td>\n",
       "            </tr>\n",
       "            <tr>\n",
       "                        <th id=\"T_eb466_level0_row1\" class=\"row_heading level0 row1\" >SepalWidth</th>\n",
       "                        <td id=\"T_eb466_row1_col0\" class=\"data row1 col0\" >0.553855</td>\n",
       "                        <td id=\"T_eb466_row1_col1\" class=\"data row1 col1\" >1.000000</td>\n",
       "                        <td id=\"T_eb466_row1_col2\" class=\"data row1 col2\" >0.519802</td>\n",
       "                        <td id=\"T_eb466_row1_col3\" class=\"data row1 col3\" >0.566203</td>\n",
       "                        <td id=\"T_eb466_row1_col4\" class=\"data row1 col4\" >0.308080</td>\n",
       "            </tr>\n",
       "            <tr>\n",
       "                        <th id=\"T_eb466_level0_row2\" class=\"row_heading level0 row2\" >PetalLength</th>\n",
       "                        <td id=\"T_eb466_row2_col0\" class=\"data row2 col0\" >0.828479</td>\n",
       "                        <td id=\"T_eb466_row2_col1\" class=\"data row2 col1\" >0.519802</td>\n",
       "                        <td id=\"T_eb466_row2_col2\" class=\"data row2 col2\" >1.000000</td>\n",
       "                        <td id=\"T_eb466_row2_col3\" class=\"data row2 col3\" >0.823348</td>\n",
       "                        <td id=\"T_eb466_row2_col4\" class=\"data row2 col4\" >0.786424</td>\n",
       "            </tr>\n",
       "            <tr>\n",
       "                        <th id=\"T_eb466_level0_row3\" class=\"row_heading level0 row3\" >PetalWidth</th>\n",
       "                        <td id=\"T_eb466_row3_col0\" class=\"data row3 col0\" >0.593709</td>\n",
       "                        <td id=\"T_eb466_row3_col1\" class=\"data row3 col1\" >0.566203</td>\n",
       "                        <td id=\"T_eb466_row3_col2\" class=\"data row3 col2\" >0.823348</td>\n",
       "                        <td id=\"T_eb466_row3_col3\" class=\"data row3 col3\" >1.000000</td>\n",
       "                        <td id=\"T_eb466_row3_col4\" class=\"data row3 col4\" >0.828129</td>\n",
       "            </tr>\n",
       "            <tr>\n",
       "                        <th id=\"T_eb466_level0_row4\" class=\"row_heading level0 row4\" >Species</th>\n",
       "                        <td id=\"T_eb466_row4_col0\" class=\"data row4 col0\" >0.494305</td>\n",
       "                        <td id=\"T_eb466_row4_col1\" class=\"data row4 col1\" >0.308080</td>\n",
       "                        <td id=\"T_eb466_row4_col2\" class=\"data row4 col2\" >0.786424</td>\n",
       "                        <td id=\"T_eb466_row4_col3\" class=\"data row4 col3\" >0.828129</td>\n",
       "                        <td id=\"T_eb466_row4_col4\" class=\"data row4 col4\" >1.000000</td>\n",
       "            </tr>\n",
       "    </tbody></table>"
      ],
      "text/plain": [
       "<pandas.io.formats.style.Styler at 0x7f2eec7f9370>"
      ]
     },
     "execution_count": 16,
     "metadata": {},
     "output_type": "execute_result"
    }
   ],
   "source": [
    "correlation_data = iris_dataset.corr()\n",
    "correlation_data.style.background_gradient(cmap='coolwarm', axis=None)"
   ]
  },
  {
   "cell_type": "markdown",
   "metadata": {},
   "source": [
    "## <span style=\"color:blue\">Separa features y targets</span>"
   ]
  },
  {
   "cell_type": "code",
   "execution_count": 17,
   "metadata": {},
   "outputs": [],
   "source": [
    "X_data = iris_dataset[[m for m in iris_dataset.columns if m not in ['Species']]]\n",
    "Y_data = iris_dataset[['Species']]"
   ]
  },
  {
   "cell_type": "code",
   "execution_count": 18,
   "metadata": {},
   "outputs": [
    {
     "data": {
      "text/html": [
       "<div>\n",
       "<style scoped>\n",
       "    .dataframe tbody tr th:only-of-type {\n",
       "        vertical-align: middle;\n",
       "    }\n",
       "\n",
       "    .dataframe tbody tr th {\n",
       "        vertical-align: top;\n",
       "    }\n",
       "\n",
       "    .dataframe thead th {\n",
       "        text-align: right;\n",
       "    }\n",
       "</style>\n",
       "<table border=\"1\" class=\"dataframe\">\n",
       "  <thead>\n",
       "    <tr style=\"text-align: right;\">\n",
       "      <th></th>\n",
       "      <th>SepalLength</th>\n",
       "      <th>SepalWidth</th>\n",
       "      <th>PetalLength</th>\n",
       "      <th>PetalWidth</th>\n",
       "    </tr>\n",
       "  </thead>\n",
       "  <tbody>\n",
       "    <tr>\n",
       "      <th>0</th>\n",
       "      <td>6.4</td>\n",
       "      <td>2.8</td>\n",
       "      <td>5.6</td>\n",
       "      <td>2.2</td>\n",
       "    </tr>\n",
       "    <tr>\n",
       "      <th>1</th>\n",
       "      <td>5.0</td>\n",
       "      <td>2.3</td>\n",
       "      <td>3.3</td>\n",
       "      <td>1.0</td>\n",
       "    </tr>\n",
       "    <tr>\n",
       "      <th>2</th>\n",
       "      <td>4.9</td>\n",
       "      <td>2.5</td>\n",
       "      <td>4.5</td>\n",
       "      <td>1.7</td>\n",
       "    </tr>\n",
       "    <tr>\n",
       "      <th>3</th>\n",
       "      <td>6.9</td>\n",
       "      <td>3.1</td>\n",
       "      <td>5.1</td>\n",
       "      <td>2.3</td>\n",
       "    </tr>\n",
       "    <tr>\n",
       "      <th>4</th>\n",
       "      <td>6.7</td>\n",
       "      <td>3.1</td>\n",
       "      <td>4.4</td>\n",
       "      <td>1.4</td>\n",
       "    </tr>\n",
       "    <tr>\n",
       "      <th>...</th>\n",
       "      <td>...</td>\n",
       "      <td>...</td>\n",
       "      <td>...</td>\n",
       "      <td>...</td>\n",
       "    </tr>\n",
       "    <tr>\n",
       "      <th>17</th>\n",
       "      <td>5.8</td>\n",
       "      <td>2.7</td>\n",
       "      <td>3.9</td>\n",
       "      <td>1.2</td>\n",
       "    </tr>\n",
       "    <tr>\n",
       "      <th>18</th>\n",
       "      <td>6.1</td>\n",
       "      <td>3.0</td>\n",
       "      <td>4.6</td>\n",
       "      <td>1.4</td>\n",
       "    </tr>\n",
       "    <tr>\n",
       "      <th>19</th>\n",
       "      <td>6.7</td>\n",
       "      <td>3.1</td>\n",
       "      <td>4.7</td>\n",
       "      <td>1.5</td>\n",
       "    </tr>\n",
       "    <tr>\n",
       "      <th>20</th>\n",
       "      <td>6.7</td>\n",
       "      <td>3.3</td>\n",
       "      <td>5.7</td>\n",
       "      <td>2.5</td>\n",
       "    </tr>\n",
       "    <tr>\n",
       "      <th>21</th>\n",
       "      <td>6.4</td>\n",
       "      <td>2.9</td>\n",
       "      <td>4.3</td>\n",
       "      <td>1.3</td>\n",
       "    </tr>\n",
       "  </tbody>\n",
       "</table>\n",
       "<p>100 rows × 4 columns</p>\n",
       "</div>"
      ],
      "text/plain": [
       "    SepalLength  SepalWidth  PetalLength  PetalWidth\n",
       "0           6.4         2.8          5.6         2.2\n",
       "1           5.0         2.3          3.3         1.0\n",
       "2           4.9         2.5          4.5         1.7\n",
       "3           6.9         3.1          5.1         2.3\n",
       "4           6.7         3.1          4.4         1.4\n",
       "..          ...         ...          ...         ...\n",
       "17          5.8         2.7          3.9         1.2\n",
       "18          6.1         3.0          4.6         1.4\n",
       "19          6.7         3.1          4.7         1.5\n",
       "20          6.7         3.3          5.7         2.5\n",
       "21          6.4         2.9          4.3         1.3\n",
       "\n",
       "[100 rows x 4 columns]"
      ]
     },
     "execution_count": 18,
     "metadata": {},
     "output_type": "execute_result"
    }
   ],
   "source": [
    "X_data"
   ]
  },
  {
   "cell_type": "markdown",
   "metadata": {},
   "source": [
    "## <span style=\"color:blue\">Divide los datos: entrenamiento y validación</span>"
   ]
  },
  {
   "cell_type": "code",
   "execution_count": 19,
   "metadata": {},
   "outputs": [],
   "source": [
    "training_features , test_features ,training_labels, test_labels = train_test_split(X_data , Y_data , test_size=0.2)"
   ]
  },
  {
   "cell_type": "code",
   "execution_count": 20,
   "metadata": {},
   "outputs": [
    {
     "name": "stdout",
     "output_type": "stream",
     "text": [
      "No. of rows in Training Features:  80\n",
      "No. of rows in Test Features:  20\n",
      "No. of columns in Training Features:  4\n",
      "No. of columns in Test Features:  4\n",
      "No. of rows in Training Label:  80\n",
      "No. of rows in Test Label:  20\n",
      "No. of columns in Training Label:  1\n",
      "No. of columns in Test Label:  1\n"
     ]
    }
   ],
   "source": [
    "print('No. of rows in Training Features: ', training_features.shape[0])\n",
    "print('No. of rows in Test Features: ', test_features.shape[0])\n",
    "print('No. of columns in Training Features: ', training_features.shape[1])\n",
    "print('No. of columns in Test Features: ', test_features.shape[1])\n",
    "\n",
    "print('No. of rows in Training Label: ', training_labels.shape[0])\n",
    "print('No. of rows in Test Label: ', test_labels.shape[0])\n",
    "print('No. of columns in Training Label: ', training_labels.shape[1])\n",
    "print('No. of columns in Test Label: ', test_labels.shape[1])"
   ]
  },
  {
   "cell_type": "code",
   "execution_count": 21,
   "metadata": {},
   "outputs": [
    {
     "data": {
      "text/html": [
       "<div>\n",
       "<style scoped>\n",
       "    .dataframe tbody tr th:only-of-type {\n",
       "        vertical-align: middle;\n",
       "    }\n",
       "\n",
       "    .dataframe tbody tr th {\n",
       "        vertical-align: top;\n",
       "    }\n",
       "\n",
       "    .dataframe thead th {\n",
       "        text-align: right;\n",
       "    }\n",
       "</style>\n",
       "<table border=\"1\" class=\"dataframe\">\n",
       "  <thead>\n",
       "    <tr style=\"text-align: right;\">\n",
       "      <th></th>\n",
       "      <th>count</th>\n",
       "      <th>mean</th>\n",
       "      <th>std</th>\n",
       "      <th>min</th>\n",
       "      <th>25%</th>\n",
       "      <th>50%</th>\n",
       "      <th>75%</th>\n",
       "      <th>max</th>\n",
       "    </tr>\n",
       "  </thead>\n",
       "  <tbody>\n",
       "    <tr>\n",
       "      <th>SepalLength</th>\n",
       "      <td>80.0</td>\n",
       "      <td>6.26875</td>\n",
       "      <td>0.674038</td>\n",
       "      <td>4.9</td>\n",
       "      <td>5.8</td>\n",
       "      <td>6.3</td>\n",
       "      <td>6.7</td>\n",
       "      <td>7.9</td>\n",
       "    </tr>\n",
       "    <tr>\n",
       "      <th>SepalWidth</th>\n",
       "      <td>80.0</td>\n",
       "      <td>2.87750</td>\n",
       "      <td>0.352199</td>\n",
       "      <td>2.0</td>\n",
       "      <td>2.7</td>\n",
       "      <td>2.9</td>\n",
       "      <td>3.1</td>\n",
       "      <td>3.8</td>\n",
       "    </tr>\n",
       "    <tr>\n",
       "      <th>PetalLength</th>\n",
       "      <td>80.0</td>\n",
       "      <td>4.95375</td>\n",
       "      <td>0.811460</td>\n",
       "      <td>3.3</td>\n",
       "      <td>4.4</td>\n",
       "      <td>4.9</td>\n",
       "      <td>5.6</td>\n",
       "      <td>6.9</td>\n",
       "    </tr>\n",
       "    <tr>\n",
       "      <th>PetalWidth</th>\n",
       "      <td>80.0</td>\n",
       "      <td>1.70375</td>\n",
       "      <td>0.437902</td>\n",
       "      <td>1.0</td>\n",
       "      <td>1.3</td>\n",
       "      <td>1.7</td>\n",
       "      <td>2.0</td>\n",
       "      <td>2.5</td>\n",
       "    </tr>\n",
       "  </tbody>\n",
       "</table>\n",
       "</div>"
      ],
      "text/plain": [
       "             count     mean       std  min  25%  50%  75%  max\n",
       "SepalLength   80.0  6.26875  0.674038  4.9  5.8  6.3  6.7  7.9\n",
       "SepalWidth    80.0  2.87750  0.352199  2.0  2.7  2.9  3.1  3.8\n",
       "PetalLength   80.0  4.95375  0.811460  3.3  4.4  4.9  5.6  6.9\n",
       "PetalWidth    80.0  1.70375  0.437902  1.0  1.3  1.7  2.0  2.5"
      ]
     },
     "execution_count": 21,
     "metadata": {},
     "output_type": "execute_result"
    }
   ],
   "source": [
    "stats = training_features.describe()\n",
    "stats = stats.transpose()\n",
    "stats"
   ]
  },
  {
   "cell_type": "code",
   "execution_count": 22,
   "metadata": {},
   "outputs": [
    {
     "data": {
      "text/html": [
       "<div>\n",
       "<style scoped>\n",
       "    .dataframe tbody tr th:only-of-type {\n",
       "        vertical-align: middle;\n",
       "    }\n",
       "\n",
       "    .dataframe tbody tr th {\n",
       "        vertical-align: top;\n",
       "    }\n",
       "\n",
       "    .dataframe thead th {\n",
       "        text-align: right;\n",
       "    }\n",
       "</style>\n",
       "<table border=\"1\" class=\"dataframe\">\n",
       "  <thead>\n",
       "    <tr style=\"text-align: right;\">\n",
       "      <th></th>\n",
       "      <th>count</th>\n",
       "      <th>mean</th>\n",
       "      <th>std</th>\n",
       "      <th>min</th>\n",
       "      <th>25%</th>\n",
       "      <th>50%</th>\n",
       "      <th>75%</th>\n",
       "      <th>max</th>\n",
       "    </tr>\n",
       "  </thead>\n",
       "  <tbody>\n",
       "    <tr>\n",
       "      <th>SepalLength</th>\n",
       "      <td>20.0</td>\n",
       "      <td>6.235</td>\n",
       "      <td>0.631852</td>\n",
       "      <td>5.1</td>\n",
       "      <td>5.775</td>\n",
       "      <td>6.10</td>\n",
       "      <td>6.70</td>\n",
       "      <td>7.6</td>\n",
       "    </tr>\n",
       "    <tr>\n",
       "      <th>SepalWidth</th>\n",
       "      <td>20.0</td>\n",
       "      <td>2.850</td>\n",
       "      <td>0.246021</td>\n",
       "      <td>2.5</td>\n",
       "      <td>2.650</td>\n",
       "      <td>2.90</td>\n",
       "      <td>3.00</td>\n",
       "      <td>3.3</td>\n",
       "    </tr>\n",
       "    <tr>\n",
       "      <th>PetalLength</th>\n",
       "      <td>20.0</td>\n",
       "      <td>4.715</td>\n",
       "      <td>0.874959</td>\n",
       "      <td>3.0</td>\n",
       "      <td>4.150</td>\n",
       "      <td>4.65</td>\n",
       "      <td>5.20</td>\n",
       "      <td>6.6</td>\n",
       "    </tr>\n",
       "    <tr>\n",
       "      <th>PetalWidth</th>\n",
       "      <td>20.0</td>\n",
       "      <td>1.565</td>\n",
       "      <td>0.355816</td>\n",
       "      <td>1.1</td>\n",
       "      <td>1.300</td>\n",
       "      <td>1.40</td>\n",
       "      <td>1.85</td>\n",
       "      <td>2.1</td>\n",
       "    </tr>\n",
       "  </tbody>\n",
       "</table>\n",
       "</div>"
      ],
      "text/plain": [
       "             count   mean       std  min    25%   50%   75%  max\n",
       "SepalLength   20.0  6.235  0.631852  5.1  5.775  6.10  6.70  7.6\n",
       "SepalWidth    20.0  2.850  0.246021  2.5  2.650  2.90  3.00  3.3\n",
       "PetalLength   20.0  4.715  0.874959  3.0  4.150  4.65  5.20  6.6\n",
       "PetalWidth    20.0  1.565  0.355816  1.1  1.300  1.40  1.85  2.1"
      ]
     },
     "execution_count": 22,
     "metadata": {},
     "output_type": "execute_result"
    }
   ],
   "source": [
    "stats = test_features.describe()\n",
    "stats = stats.transpose()\n",
    "stats"
   ]
  },
  {
   "cell_type": "markdown",
   "metadata": {},
   "source": [
    "## <span style=\"color:blue\">Normaliza los datos</span>"
   ]
  },
  {
   "cell_type": "code",
   "execution_count": 23,
   "metadata": {},
   "outputs": [],
   "source": [
    "def norm(x):\n",
    "  stats = x.describe()\n",
    "  stats = stats.transpose()\n",
    "  return (x - stats['mean']) / stats['std']\n",
    "\n",
    "normed_train_features = norm(training_features)\n",
    "normed_test_features = norm(test_features)"
   ]
  },
  {
   "cell_type": "markdown",
   "metadata": {},
   "source": [
    "## <span style=\"color:blue\">Construye la tuberia (pipeline) para la alimentación de datos de Tensorflow</span>"
   ]
  },
  {
   "cell_type": "code",
   "execution_count": 24,
   "metadata": {},
   "outputs": [],
   "source": [
    "def feed_input(features_dataframe, target_dataframe, num_of_epochs=10, shuffle=True, batch_size=32):\n",
    "  def input_feed_function():\n",
    "    dataset = tf.data.Dataset.from_tensor_slices((dict(features_dataframe), target_dataframe))\n",
    "    if shuffle:\n",
    "      dataset = dataset.shuffle(2000)\n",
    "    dataset = dataset.batch(batch_size).repeat(num_of_epochs)\n",
    "    return dataset\n",
    "  return input_feed_function\n",
    "\n",
    "train_feed_input = feed_input(normed_train_features, training_labels)\n",
    "train_feed_input_testing = feed_input(normed_train_features, training_labels, num_of_epochs=1, shuffle=False)\n",
    "test_feed_input = feed_input(normed_test_features, test_labels, num_of_epochs=1, shuffle=False)"
   ]
  },
  {
   "cell_type": "markdown",
   "metadata": {
    "tags": []
   },
   "source": [
    "## <span style=\"color:blue\">Entrenamiento del Modelo</span>"
   ]
  },
  {
   "cell_type": "code",
   "execution_count": 25,
   "metadata": {},
   "outputs": [],
   "source": [
    "feature_columns_numeric = [tf.feature_column.numeric_column(m) for m in training_features.columns]"
   ]
  },
  {
   "cell_type": "code",
   "execution_count": 26,
   "metadata": {},
   "outputs": [
    {
     "name": "stdout",
     "output_type": "stream",
     "text": [
      "INFO:tensorflow:Using default config.\n",
      "WARNING:tensorflow:Using temporary folder as model directory: /tmp/tmpkl3tgx7w\n",
      "INFO:tensorflow:Using config: {'_model_dir': '/tmp/tmpkl3tgx7w', '_tf_random_seed': None, '_save_summary_steps': 100, '_save_checkpoints_steps': None, '_save_checkpoints_secs': 600, '_session_config': allow_soft_placement: true\n",
      "graph_options {\n",
      "  rewrite_options {\n",
      "    meta_optimizer_iterations: ONE\n",
      "  }\n",
      "}\n",
      ", '_keep_checkpoint_max': 5, '_keep_checkpoint_every_n_hours': 10000, '_log_step_count_steps': 100, '_train_distribute': None, '_device_fn': None, '_protocol': None, '_eval_distribute': None, '_experimental_distribute': None, '_experimental_max_worker_delay_secs': None, '_session_creation_timeout_secs': 7200, '_checkpoint_save_graph_def': True, '_service': None, '_cluster_spec': ClusterSpec({}), '_task_type': 'worker', '_task_id': 0, '_global_id_in_cluster': 0, '_master': '', '_evaluation_master': '', '_is_chief': True, '_num_ps_replicas': 0, '_num_worker_replicas': 1}\n"
     ]
    }
   ],
   "source": [
    "logistic_model = LinearClassifier(feature_columns=feature_columns_numeric)"
   ]
  },
  {
   "cell_type": "code",
   "execution_count": 27,
   "metadata": {},
   "outputs": [
    {
     "data": {
      "text/plain": [
       "[NumericColumn(key='SepalLength', shape=(1,), default_value=None, dtype=tf.float32, normalizer_fn=None),\n",
       " NumericColumn(key='SepalWidth', shape=(1,), default_value=None, dtype=tf.float32, normalizer_fn=None),\n",
       " NumericColumn(key='PetalLength', shape=(1,), default_value=None, dtype=tf.float32, normalizer_fn=None),\n",
       " NumericColumn(key='PetalWidth', shape=(1,), default_value=None, dtype=tf.float32, normalizer_fn=None)]"
      ]
     },
     "execution_count": 27,
     "metadata": {},
     "output_type": "execute_result"
    }
   ],
   "source": [
    "feature_columns_numeric"
   ]
  },
  {
   "cell_type": "code",
   "execution_count": 28,
   "metadata": {},
   "outputs": [
    {
     "name": "stdout",
     "output_type": "stream",
     "text": [
      "WARNING:tensorflow:From /home/alvaro/anaconda3/envs/tf2/lib/python3.8/site-packages/tensorflow/python/training/training_util.py:235: Variable.initialized_value (from tensorflow.python.ops.variables) is deprecated and will be removed in a future version.\n",
      "Instructions for updating:\n",
      "Use Variable.read_value. Variables in 2.X are initialized automatically both in eager and graph (inside tf.defun) contexts.\n",
      "INFO:tensorflow:Calling model_fn.\n"
     ]
    },
    {
     "name": "stderr",
     "output_type": "stream",
     "text": [
      "/home/alvaro/anaconda3/envs/tf2/lib/python3.8/site-packages/tensorflow/python/keras/engine/base_layer_v1.py:1727: UserWarning: `layer.add_variable` is deprecated and will be removed in a future version. Please use `layer.add_weight` method instead.\n",
      "  warnings.warn('`layer.add_variable` is deprecated and '\n"
     ]
    },
    {
     "name": "stdout",
     "output_type": "stream",
     "text": [
      "WARNING:tensorflow:From /home/alvaro/anaconda3/envs/tf2/lib/python3.8/site-packages/tensorflow/python/keras/optimizer_v2/ftrl.py:133: calling Constant.__init__ (from tensorflow.python.ops.init_ops) with dtype is deprecated and will be removed in a future version.\n",
      "Instructions for updating:\n",
      "Call initializer instance with the dtype argument instead of passing it to the constructor\n",
      "INFO:tensorflow:Done calling model_fn.\n",
      "INFO:tensorflow:Create CheckpointSaverHook.\n",
      "INFO:tensorflow:Graph was finalized.\n",
      "INFO:tensorflow:Running local_init_op.\n",
      "INFO:tensorflow:Done running local_init_op.\n",
      "INFO:tensorflow:Calling checkpoint listeners before saving checkpoint 0...\n",
      "INFO:tensorflow:Saving checkpoints for 0 into /tmp/tmpkl3tgx7w/model.ckpt.\n",
      "INFO:tensorflow:Calling checkpoint listeners after saving checkpoint 0...\n",
      "INFO:tensorflow:loss = 0.6931472, step = 0\n",
      "INFO:tensorflow:Calling checkpoint listeners before saving checkpoint 30...\n",
      "INFO:tensorflow:Saving checkpoints for 30 into /tmp/tmpkl3tgx7w/model.ckpt.\n",
      "INFO:tensorflow:Calling checkpoint listeners after saving checkpoint 30...\n",
      "INFO:tensorflow:Loss for final step: 0.23897117.\n"
     ]
    },
    {
     "data": {
      "text/plain": [
       "<tensorflow_estimator.python.estimator.canned.linear.LinearClassifierV2 at 0x7f2ef019ba30>"
      ]
     },
     "execution_count": 28,
     "metadata": {},
     "output_type": "execute_result"
    }
   ],
   "source": [
    "logistic_model.train(train_feed_input)"
   ]
  },
  {
   "cell_type": "markdown",
   "metadata": {},
   "source": [
    "## <span style=\"color:blue\">Predicciones</span>"
   ]
  },
  {
   "cell_type": "code",
   "execution_count": 29,
   "metadata": {},
   "outputs": [],
   "source": [
    "train_predictions = logistic_model.predict(train_feed_input_testing)\n",
    "test_predictions = logistic_model.predict(test_feed_input)"
   ]
  },
  {
   "cell_type": "code",
   "execution_count": 30,
   "metadata": {},
   "outputs": [
    {
     "name": "stdout",
     "output_type": "stream",
     "text": [
      "INFO:tensorflow:Calling model_fn.\n"
     ]
    },
    {
     "name": "stderr",
     "output_type": "stream",
     "text": [
      "/home/alvaro/anaconda3/envs/tf2/lib/python3.8/site-packages/tensorflow/python/keras/engine/base_layer_v1.py:1727: UserWarning: `layer.add_variable` is deprecated and will be removed in a future version. Please use `layer.add_weight` method instead.\n",
      "  warnings.warn('`layer.add_variable` is deprecated and '\n"
     ]
    },
    {
     "name": "stdout",
     "output_type": "stream",
     "text": [
      "INFO:tensorflow:Done calling model_fn.\n",
      "INFO:tensorflow:Graph was finalized.\n",
      "INFO:tensorflow:Restoring parameters from /tmp/tmpkl3tgx7w/model.ckpt-30\n",
      "INFO:tensorflow:Running local_init_op.\n",
      "INFO:tensorflow:Done running local_init_op.\n",
      "INFO:tensorflow:Calling model_fn.\n"
     ]
    },
    {
     "name": "stderr",
     "output_type": "stream",
     "text": [
      "/home/alvaro/anaconda3/envs/tf2/lib/python3.8/site-packages/tensorflow/python/keras/engine/base_layer_v1.py:1727: UserWarning: `layer.add_variable` is deprecated and will be removed in a future version. Please use `layer.add_weight` method instead.\n",
      "  warnings.warn('`layer.add_variable` is deprecated and '\n"
     ]
    },
    {
     "name": "stdout",
     "output_type": "stream",
     "text": [
      "INFO:tensorflow:Done calling model_fn.\n",
      "INFO:tensorflow:Graph was finalized.\n",
      "INFO:tensorflow:Restoring parameters from /tmp/tmpkl3tgx7w/model.ckpt-30\n",
      "INFO:tensorflow:Running local_init_op.\n",
      "INFO:tensorflow:Done running local_init_op.\n"
     ]
    }
   ],
   "source": [
    "train_predictions_series = pd.Series([p['classes'][0].decode(\"utf-8\")   for p in train_predictions])\n",
    "test_predictions_series = pd.Series([p['classes'][0].decode(\"utf-8\")   for p in test_predictions])"
   ]
  },
  {
   "cell_type": "code",
   "execution_count": 31,
   "metadata": {},
   "outputs": [],
   "source": [
    "train_predictions_df = pd.DataFrame(train_predictions_series, columns=['predictions'])\n",
    "test_predictions_df = pd.DataFrame(test_predictions_series, columns=['predictions'])"
   ]
  },
  {
   "cell_type": "code",
   "execution_count": 32,
   "metadata": {},
   "outputs": [],
   "source": [
    "training_labels.reset_index(drop=True, inplace=True)\n",
    "train_predictions_df.reset_index(drop=True, inplace=True)\n",
    "\n",
    "test_labels.reset_index(drop=True, inplace=True)\n",
    "test_predictions_df.reset_index(drop=True, inplace=True)"
   ]
  },
  {
   "cell_type": "code",
   "execution_count": 33,
   "metadata": {},
   "outputs": [],
   "source": [
    "train_labels_with_predictions_df = pd.concat([training_labels, train_predictions_df], axis=1)\n",
    "test_labels_with_predictions_df = pd.concat([test_labels, test_predictions_df], axis=1)"
   ]
  },
  {
   "cell_type": "markdown",
   "metadata": {},
   "source": [
    "## <span style=\"color:blue\">Predicciones</span>"
   ]
  },
  {
   "cell_type": "code",
   "execution_count": 34,
   "metadata": {},
   "outputs": [],
   "source": [
    "def calculate_binary_class_scores(y_true, y_pred):\n",
    "  accuracy = accuracy_score(y_true, y_pred.astype('int64'))\n",
    "  precision = precision_score(y_true, y_pred.astype('int64'))\n",
    "  recall = recall_score(y_true, y_pred.astype('int64'))\n",
    "  return accuracy, precision, recall"
   ]
  },
  {
   "cell_type": "markdown",
   "metadata": {},
   "source": [
    "- **accuracy_score**: En la clasificación con múltiples etiquetas, esta función calcula la precisión del subconjunto: el conjunto de etiquetas predichas para una muestra que coincide exactamente con el conjunto de etiquetas correspondiente en y_true.\n",
    "- **precision_score**: es la razón $\\frac{tp }{tp + fp}$ en donde $tp$ es el número de positivos verdadero y $fp$ el número de falsos positivos. El mejor valor es 1 y el peor valor es 0.\n",
    "- **recall_score**:  es la relación $\\frac{tp }{tp + fn}$ donde $tp$ es el número de verdaderos positivos y $fn$ el número de falsos negativos. El recuerdo es intuitivamente la capacidad del clasificador para encontrar todas las muestras positivas. El mejor valor es 1 y el peor valor es 0."
   ]
  },
  {
   "cell_type": "code",
   "execution_count": 35,
   "metadata": {},
   "outputs": [
    {
     "name": "stdout",
     "output_type": "stream",
     "text": [
      "Training Data Accuracy (%) =  93.75\n",
      "Training Data Precision (%) =  95.24\n",
      "Training Data Recall (%) =  93.02\n",
      "--------------------------------------------------\n",
      "Test Data Accuracy (%) =  90.0\n",
      "Test Data Precision (%) =  77.78\n",
      "Test Data Recall (%) =  100.0\n"
     ]
    }
   ],
   "source": [
    "train_accuracy_score, train_precision_score, train_recall_score = calculate_binary_class_scores(training_labels, train_predictions_series)\n",
    "test_accuracy_score, test_precision_score, test_recall_score = calculate_binary_class_scores(test_labels, test_predictions_series)\n",
    "\n",
    "print('Training Data Accuracy (%) = ', round(train_accuracy_score*100,2))\n",
    "print('Training Data Precision (%) = ', round(train_precision_score*100,2))\n",
    "print('Training Data Recall (%) = ', round(train_recall_score*100,2))\n",
    "print('-'*50)\n",
    "print('Test Data Accuracy (%) = ', round(test_accuracy_score*100,2))\n",
    "print('Test Data Precision (%) = ', round(test_precision_score*100,2))\n",
    "print('Test Data Recall (%) = ', round(test_recall_score*100,2))\n"
   ]
  },
  {
   "cell_type": "code",
   "execution_count": 36,
   "metadata": {},
   "outputs": [
    {
     "data": {
      "text/plain": [
       "0     1\n",
       "1     0\n",
       "2     0\n",
       "3     0\n",
       "4     1\n",
       "     ..\n",
       "75    0\n",
       "76    1\n",
       "77    0\n",
       "78    1\n",
       "79    0\n",
       "Length: 80, dtype: object"
      ]
     },
     "execution_count": 36,
     "metadata": {},
     "output_type": "execute_result"
    }
   ],
   "source": [
    "train_predictions_series"
   ]
  },
  {
   "cell_type": "code",
   "execution_count": 37,
   "metadata": {},
   "outputs": [
    {
     "data": {
      "text/html": [
       "<div>\n",
       "<style scoped>\n",
       "    .dataframe tbody tr th:only-of-type {\n",
       "        vertical-align: middle;\n",
       "    }\n",
       "\n",
       "    .dataframe tbody tr th {\n",
       "        vertical-align: top;\n",
       "    }\n",
       "\n",
       "    .dataframe thead th {\n",
       "        text-align: right;\n",
       "    }\n",
       "</style>\n",
       "<table border=\"1\" class=\"dataframe\">\n",
       "  <thead>\n",
       "    <tr style=\"text-align: right;\">\n",
       "      <th></th>\n",
       "      <th>predictions</th>\n",
       "    </tr>\n",
       "  </thead>\n",
       "  <tbody>\n",
       "    <tr>\n",
       "      <th>0</th>\n",
       "      <td>1</td>\n",
       "    </tr>\n",
       "    <tr>\n",
       "      <th>1</th>\n",
       "      <td>0</td>\n",
       "    </tr>\n",
       "    <tr>\n",
       "      <th>2</th>\n",
       "      <td>0</td>\n",
       "    </tr>\n",
       "    <tr>\n",
       "      <th>3</th>\n",
       "      <td>0</td>\n",
       "    </tr>\n",
       "    <tr>\n",
       "      <th>4</th>\n",
       "      <td>1</td>\n",
       "    </tr>\n",
       "    <tr>\n",
       "      <th>...</th>\n",
       "      <td>...</td>\n",
       "    </tr>\n",
       "    <tr>\n",
       "      <th>75</th>\n",
       "      <td>0</td>\n",
       "    </tr>\n",
       "    <tr>\n",
       "      <th>76</th>\n",
       "      <td>1</td>\n",
       "    </tr>\n",
       "    <tr>\n",
       "      <th>77</th>\n",
       "      <td>0</td>\n",
       "    </tr>\n",
       "    <tr>\n",
       "      <th>78</th>\n",
       "      <td>1</td>\n",
       "    </tr>\n",
       "    <tr>\n",
       "      <th>79</th>\n",
       "      <td>0</td>\n",
       "    </tr>\n",
       "  </tbody>\n",
       "</table>\n",
       "<p>80 rows × 1 columns</p>\n",
       "</div>"
      ],
      "text/plain": [
       "   predictions\n",
       "0            1\n",
       "1            0\n",
       "2            0\n",
       "3            0\n",
       "4            1\n",
       "..         ...\n",
       "75           0\n",
       "76           1\n",
       "77           0\n",
       "78           1\n",
       "79           0\n",
       "\n",
       "[80 rows x 1 columns]"
      ]
     },
     "execution_count": 37,
     "metadata": {},
     "output_type": "execute_result"
    }
   ],
   "source": [
    "train_predictions_df "
   ]
  },
  {
   "cell_type": "markdown",
   "metadata": {},
   "source": [
    "-[Regresar al inicio](#Contenido)"
   ]
  }
 ],
 "metadata": {
  "kernelspec": {
   "display_name": "Python 3",
   "language": "python",
   "name": "python3"
  },
  "language_info": {
   "codemirror_mode": {
    "name": "ipython",
    "version": 3
   },
   "file_extension": ".py",
   "mimetype": "text/x-python",
   "name": "python",
   "nbconvert_exporter": "python",
   "pygments_lexer": "ipython3",
   "version": "3.8.8"
  }
 },
 "nbformat": 4,
 "nbformat_minor": 4
}
