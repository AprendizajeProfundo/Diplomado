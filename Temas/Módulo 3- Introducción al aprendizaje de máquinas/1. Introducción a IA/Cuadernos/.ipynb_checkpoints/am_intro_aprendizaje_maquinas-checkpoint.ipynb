{
 "cells": [
  {
   "cell_type": "markdown",
   "metadata": {},
   "source": [
    "**Diplomado en Inteligencia Artificial y Aprendizaje Profundo**"
   ]
  },
  {
   "cell_type": "markdown",
   "metadata": {},
   "source": [
    "# Conceptos básicos de aprendizaje de máquinas"
   ]
  },
  {
   "cell_type": "markdown",
   "metadata": {},
   "source": [
    "##  Autores"
   ]
  },
  {
   "cell_type": "markdown",
   "metadata": {},
   "source": [
    "1. Alvaro Mauricio Montenegro Díaz, ammontenegrod@unal.edu.co\n",
    "2. Daniel Mauricio Montenegro Reyes, dextronomo@gmail.com \n",
    "3. Oleg Jarma, ojarmam@unal.edu.co\n",
    "4. Maria del Pilar Montenegro, pmontenegro88@gmail.com"
   ]
  },
  {
   "cell_type": "markdown",
   "metadata": {},
   "source": [
    "## Contenido"
   ]
  },
  {
   "cell_type": "markdown",
   "metadata": {},
   "source": [
    "* [Introducción](#Introducción)\n",
    "* [Máquina de aprendizaje ](#Máquina-de-aprendizaje)\n",
    "* [Entrenamiento de una máquina de aprendizaje](#Entrenamiento-de-una-máquina-de-aprendizaje)\n",
    "* [Conjunto de entrenamiento](#Conjunto-de-entrenamiento)\n",
    "* [Entrenamiento de una máquina de aprendizaje](#Entrenamiento-de-una-máquina-de-aprendizaje)\n",
    "* [Conjunto de entrenamiento](#Conjunto-de-entrenamiento)\n",
    "* [Tensor objetivo](#Tensor-objetivo)\n",
    "* [Codificación-one-hot](#Codificación-one-hot)\n",
    "* [Variables categóricas en la entrada](#Variables-categóricas-en-la-entrada)\n",
    "* [Algoritmo de entrenamiento de una máquina de aprendizaje](#Algoritmo-de-entrenamiento-de-una-máquina-de-aprendizaje)\n",
    "* [Capacidad de generalización](#Capacidad-de-generalización)\n",
    "* [Conjunto de validación](#Conjunto-de-validación)\n",
    "* [Extracción de características](#Extracción-de-características)\n",
    "* [Aprendizaje supervisado](#Aprendizaje-supervisado)\n",
    "* [Aprendizaje no supervisado](#Aprendizaje-no-supervisado)\n",
    "* [Aprendizaje reforzado](#Aprendizaje-reforzado)"
   ]
  },
  {
   "cell_type": "markdown",
   "metadata": {},
   "source": [
    "## Introducción"
   ]
  },
  {
   "cell_type": "markdown",
   "metadata": {},
   "source": [
    "Consideremos el ejemplo de reconocimiento de dígitos escritos a mano, ilustrado en esta figura."
   ]
  },
  {
   "cell_type": "markdown",
   "metadata": {},
   "source": [
    "<figure>\n",
    "<center>\n",
    "<img src=\"../Imagenes/am_digits.png\" width=\"300\" height=\"200\" align=\"center\"/>\n",
    "</center>\n",
    "<figcaption>\n",
    "<p style=\"text-align:center\">Ejemplo de dígitos a mano alzada, del conjunto MNIST</p>\n",
    "</figcaption>\n",
    "</figure>"
   ]
  },
  {
   "cell_type": "markdown",
   "metadata": {},
   "source": [
    "Cada dígito corresponde a una imagen de 28 × 28 píxeles y, por lo tanto, puede representarse mediante un vector (tensor unidimensional) $x$ que consiste de 784 números entre 0 y 255 (o entre 0 y 1). El objetivo es construir una función que tome un vector $x$ como entrada y que produzca la identidad del dígito 0 ,. . . , 9 como salida.\n",
    "\n"
   ]
  },
  {
   "cell_type": "markdown",
   "metadata": {},
   "source": [
    "## Máquina de aprendizaje "
   ]
  },
  {
   "cell_type": "markdown",
   "metadata": {},
   "source": [
    "Para definir  una función de aprendizaje es necesario tener en cuenta que desde el comienzo tenemos un espacio de entrada,digamos $\\mathcal{S}$, en el cual estan los objetos para los cuales se desea hacer una asignación de un objeto que está en otro espacio de salida, que vamos a denotar $\\mathcal{R}$. La deficinión del espacio $\\mathcal{R}$ depende del problema.\n",
    "\n",
    "\n",
    "Una máquina de aprendizaje es una función $f$ que asocia a cada elemento de $\\mathcal{S}$ un único elemento en $\\mathcal{R}$. Escribiremos\n",
    "\n",
    "$$f: \\mathcal{S} \\to \\mathcal{R}$$\n",
    "\n",
    "Si $x$ es un elemento del espacio $\\mathcal{S}$, escribimos $x\\in\\mathcal{S} $, entonces la notación $y = f(x)$, significa que $y$ es el único elemento de $\\mathcal{R}$ asociado a $x$. \n",
    "\n",
    "\n",
    "En la figura anterior, si $x$ es el tensor que representa la imagen superior izquierda, entonces es posible que definamos $f(x) = 0$.\n",
    "\n",
    "Es importante tener en cuenta que si el problema es asignar una etiqueta al tensor $x$, entonces el valor 0 en este caso no es nada más que una etiqueta. La siguiente gráfica muestra posibles valores de la máquina de aprendizaje $f$ en este problema."
   ]
  },
  {
   "cell_type": "markdown",
   "metadata": {},
   "source": [
    "<figure>\n",
    "<center>\n",
    "<img src=\"../Imagenes/am_digits_fun.png\" width=\"300\" height=\"200\" align=\"center\"/>\n",
    "</center>\n",
    "<figcaption>\n",
    "<p style=\"text-align:center\">Ejemplo de algunos valores de la máquina de aprendizaje (función) $f$</p>\n",
    "</figcaption>\n",
    "</figure>"
   ]
  },
  {
   "cell_type": "markdown",
   "metadata": {},
   "source": [
    "En este ejemplo el espacio de entrada $\\mathcal{S}$ es el conjunto de todos los tensores de tamaño $28\\times 28$, cuyos valores están en el intervalo $[0,255]$. Este espacio es finito, pero muy grande: $256^{56}$. ¿Puede imaginar este tamaño?\n",
    "\n",
    "Adicionalmente, el conjunto de salida $\\mathcal{R}$ es el conjunto de etiquetas $\\{0,1,2,3,4,5,6,7,8,9,0\\}$."
   ]
  },
  {
   "cell_type": "markdown",
   "metadata": {},
   "source": [
    "## Entrenamiento de una máquina de aprendizaje"
   ]
  },
  {
   "cell_type": "markdown",
   "metadata": {},
   "source": [
    "La construcción de una máquina de aprendizaje requiere encontrar un conjunto de parámetros que definan de manera específica a la función $f$. El proceso de encontrar tales parámetros se conoce como entrenamiento de la máquina. Es decir el entrenamiento consiste en encontrar (estimar) tal conjunto de parámetros."
   ]
  },
  {
   "cell_type": "markdown",
   "metadata": {},
   "source": [
    "### Racional conceptual"
   ]
  },
  {
   "cell_type": "markdown",
   "metadata": {},
   "source": [
    "El entrenamiento de una máquina de aprendizaje es una forma de modelamiento de tipo estadístico. Básicamente el proceso de entrenamiento utiliza un conjunto de de datos del espacio de entrada y las etiquetas o valores asociados en el conjunto de salida."
   ]
  },
  {
   "cell_type": "markdown",
   "metadata": {},
   "source": [
    "## Conjunto de entrenamiento\n",
    "\n",
    "Al adoptar un enfoque de **aprendizaje máquinas** el conjunto de dígitos (datos) $\\boldsymbol{x}=\\{x_1, \\cdots, x_N\\}$ utilizado para entrenar la máquina de aprendizaje es llamado **un conjunto de entrenamiento**.\n"
   ]
  },
  {
   "cell_type": "markdown",
   "metadata": {},
   "source": [
    "## Tensor objetivo\n",
    "\n",
    "Las categorías (etiquetas) de los dígitos en el conjunto de entrenamiento se conocen de antemano, generalmente inspeccionándolos individualmente y etiquetandolos manualmente.Podemos expresar la etiqueta de un dígito usando un *tensor objetivo* $ \\boldsymbol{t} $, que representa\n",
    "la identidad del dígito correspondiente."
   ]
  },
  {
   "cell_type": "markdown",
   "metadata": {},
   "source": [
    "## Codificación one-hot"
   ]
  },
  {
   "cell_type": "markdown",
   "metadata": {},
   "source": [
    "En el párrafo anterior parece extraño mencionar que en la salida hay un tensor. En realidad, cuando se tienen varias etiquetas no numéricas, es conveniente recodificar las  etiquetas usando tensores binarios (con valor cero o uno únicamente).\n",
    "\n",
    "Esto se hace de la siguiente manera. Sie se tiene $p$ etiqutas, digamos 10 en el caso de los dígitos, entonces las etiquetas se convierten en tensores undimensionales de tamaño $p$, en donde todos los elementos son cero excepto en la poscición que corresponde a la etiqueta que representa.\n",
    "\n",
    "La sigueinte tabla ilustra la codificación *one-hot* en el caso de los dígitos.\n",
    "\n",
    "|digito| *one-hot*|\n",
    "|---|---|\n",
    "|0|1000000000|\n",
    "|1|0100000000|\n",
    "|2|0010000000|\n",
    "|3|0001000000|\n",
    "|4|0000100000|\n",
    "|5|0000010000|\n",
    "|6|0000001000|\n",
    "|7|0000000100|\n",
    "|8|0000000010|\n",
    "|9|0000000001|\n",
    "\n"
   ]
  },
  {
   "cell_type": "markdown",
   "metadata": {},
   "source": [
    "## Variables categóricas en la entrada"
   ]
  },
  {
   "cell_type": "markdown",
   "metadata": {},
   "source": [
    "La codificación *one-hot* es también utilizada cuando se tienen variables categóricas en el espacio de entrada. Esta es la forma como datos categóricos y datos numpericos pueden interactuar. Por ejemplo, si una variable en el espacio de entrada es *color*, y hay digamos 3 colores: rojo, verde y azul, entonces la codificación *one-hot* puede ser\n",
    "\n",
    "\n",
    "|color| *one-hot*|\n",
    "|---|---|\n",
    "|rojo|100|\n",
    "|verde|010|\n",
    "|azul|001|\n",
    "\n",
    "En este caso, la variable de entrada *color* es reemplazada por las tres columnas de la codificación *one-hot*."
   ]
  },
  {
   "cell_type": "markdown",
   "metadata": {},
   "source": [
    "## Algoritmo de entrenamiento de una máquina de aprendizaje\n",
    "\n",
    "Los algoritmos de entrenamiento de máquinas de aprendizaje consisten básicamente en procesos de optimización de una función objetivo, que denominaremos **función de pérdida**.\n",
    "\n",
    "Pro ejemplo, supongamos que los valores $y=f(x)$ de la máquina de aprendizaje son número reales. Entonces datos de entrenamiento son digamos $\\{x_1,\\ldots, x_n\\}$. Si denotamos $\\{y_1,\\ldots,y_n\\}$ a las etiquetas (en este caso números reales) asociadas a los datos de entrenamiento, una función de pérdida se puede definir como sigue:\n",
    "\n",
    "En cada paso del proceso de entrenamiento, la función $f$ calculada en $x_i$ entrega un valor digamos $\\tilde{y}_i$. Este valor en principio es diferente de $y_i$, debido a que justamente estamos entrenando la máquina para que *aprenda* que $f(x_i)=y_i$. \n",
    "\n",
    "Entonces se define por ejemplo\n",
    "\n",
    "$$\n",
    "\\mathcal{Loss} = \\tfrac{1}{n}\\sum_{i=1}^{n}(y_i - \\tilde{y}_i)^2.\n",
    "$$\n",
    " \n",
    "\n",
    "\n",
    "El propósito del algortimo de entranamiento es encontrar un conjunto de parámetros para función $f$, que hace que la función $\\mathcal{Loss}$ tome un valor minimal, siguiendo algunos criterios que se expecifican más adelante."
   ]
  },
  {
   "cell_type": "markdown",
   "metadata": {},
   "source": [
    "### Nota"
   ]
  },
  {
   "cell_type": "markdown",
   "metadata": {},
   "source": [
    "No necesariamente un algoritmo de aprendizaje encuentra un conjunto de parámetros que minimiza globalmente a la función de pérdida. Esto se debe a que en algunos caso los mínimos globales puedne corresponder a regiones si capacidad suficiente de generalización."
   ]
  },
  {
   "cell_type": "markdown",
   "metadata": {},
   "source": [
    "## Capacidad de generalización\n",
    "\n",
    "La capacidad de un máquina de aprendizaje para etiquetar correctamente nuevos ejemplos (no vistos antes por la máquina) se conoce como **capacidad de generalización**.\n",
    "\n",
    "Buscamos máquinas con muy buena capacidad de generalización."
   ]
  },
  {
   "cell_type": "markdown",
   "metadata": {},
   "source": [
    "## Conjunto de validación"
   ]
  },
  {
   "cell_type": "markdown",
   "metadata": {},
   "source": [
    "La capacidad de generalización de una maquina de aprendizaje se evalua con un conjunto de datos de entrada con sus respectivas etiquetas, con la misma estructura de los datos de entrenamiento. Por ejemplo. Por ejemplo en el conjunto de datos de entrenamiento usaremos 70,000 datos,es decir, 70,000 imágenes con sus repectivas etiquetas. Seleccionaremos digamos 60,000 para entrenar a la máquina y en consecuencia 10,000 para validación.\n",
    "\n",
    "Selccionar adecuadamente cada conjunto *entrenamiento/validación* es crucial para obtener máquinas de aprendizaje que tengan alta capacidad de generalización."
   ]
  },
  {
   "cell_type": "markdown",
   "metadata": {},
   "source": [
    "## Extracción de características\n",
    "Para la mayoría de las aplicaciones prácticas, las variables de entrada originales generalmente se preprocesan transformarlos en un nuevo espacio de variables donde, se espera, que el reconocimiento de patrones sea más fácil de resolver. \n",
    "\n",
    "Esta etapa de preprocesamiento es a veces también llamado **extracción de características** (*feature extraction*).\n",
    "\n",
    "Por ejemplo, el valor medio de la intensidad de una imagen sobre una subregión\n",
    "rectángular se puede evaluar de manera extremadamente eficiente y un conjunto de tales  funciones pueden resultar muy eficaces en la detección rápida de rostros. \n",
    "\n"
   ]
  },
  {
   "cell_type": "markdown",
   "metadata": {},
   "source": [
    "## Aprendizaje supervisado"
   ]
  },
  {
   "cell_type": "markdown",
   "metadata": {},
   "source": [
    "Aplicaciones en las que los datos de entrenamiento comprenden ejemplos de los tensores de entrada junto con sus correspondientes tensores objetivo se conocen como problemas de aprendizaje supervisado.\n",
    "\n",
    "Casos como el ejemplo de reconocimiento de dígitos, en el que el objetivo es asignar a cada tensor de entrada una etiqueta, se denominan **problemas de clasificación**."
   ]
  },
  {
   "cell_type": "markdown",
   "metadata": {},
   "source": [
    "### Problemas de regresión"
   ]
  },
  {
   "cell_type": "markdown",
   "metadata": {},
   "source": [
    "Si la salida deseada consta de una o más variables continuas, entonces\n",
    "la tarea se llama **regresión**."
   ]
  },
  {
   "cell_type": "markdown",
   "metadata": {},
   "source": [
    "## Aprendizaje no supervisado"
   ]
  },
  {
   "cell_type": "markdown",
   "metadata": {},
   "source": [
    "En otros problemas de reconocimiento de patrones, los datos de entrenamiento consisten en un conjunto de  tensores  $x$ de entrada sin ningún valor objetivo correspondiente. El objetivo en este caso es detectar patrones sin supervisión.\n",
    "\n",
    "\n",
    "Los problemas de aprendizaje en los que se busca  descubrir grupos de ejemplos similares dentro de los datos, donde se llaman problemas de **agrupación** (clustering). \n",
    "\n",
    "Desde el punto de vista estadístico lo que busca es determinar la distribución de datos  en el espacio de entrada y el problema se conoce como **estimación de densidad**."
   ]
  },
  {
   "cell_type": "markdown",
   "metadata": {},
   "source": [
    "## Aprendizaje reforzado\n",
    "\n",
    "La técnica del aprendizaje reforzado se refiere\n",
    "con el problema de encontrar acciones adecuadas para tomar en una situación dada para **maximizar una recompensa**. Aquí, el algoritmo de aprendizaje no recibe ejemplos de resultados óptimos, en contraste con el aprendizaje supervisado, sino que deben descubrirlos por un proceso de prueba y error.\n",
    "\n",
    "Normalmente hay una secuencia de estados y acciones en las que el algoritmo de aprendizaje está interactuando con su entorno. En muchos casos, la  acción actual no solo afecta la recompensa inmediata, sino que también tiene un impacto en la recompensa en todos los pasos de tiempo posteriores.\n",
    "\n",
    "Por ejemplo, mediante el uso de técnicas apropiadas de aprendizaje reforzado, una red neuronal puede aprender a jugar **ajedrez con un alto nivel de destreza**.\n",
    "\n",
    "Aquí la red debe aprender a asumir una posición en el tablero como entrada, junto con el resultado de un movimiento fuerte como salida. Esto se hace haciendo que la red juegue contra una copia de sí misma durante quizás millones de juegos"
   ]
  },
  {
   "cell_type": "markdown",
   "metadata": {},
   "source": [
    "-[Regresar al inicio](#Contenido)"
   ]
  }
 ],
 "metadata": {
  "kernelspec": {
   "display_name": "Python 3",
   "language": "python",
   "name": "python3"
  },
  "language_info": {
   "codemirror_mode": {
    "name": "ipython",
    "version": 3
   },
   "file_extension": ".py",
   "mimetype": "text/x-python",
   "name": "python",
   "nbconvert_exporter": "python",
   "pygments_lexer": "ipython3",
   "version": "3.8.5"
  }
 },
 "nbformat": 4,
 "nbformat_minor": 4
}
