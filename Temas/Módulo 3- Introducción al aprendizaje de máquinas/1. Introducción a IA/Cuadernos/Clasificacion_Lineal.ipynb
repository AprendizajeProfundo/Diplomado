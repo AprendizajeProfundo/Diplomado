{
 "cells": [
  {
   "cell_type": "markdown",
   "metadata": {},
   "source": [
    "# <span style=\"color:green\"><center>Diplomado en Inteligencia Artificial y Aprendizaje Profundo</center></span>"
   ]
  },
  {
   "cell_type": "markdown",
   "metadata": {},
   "source": [
    "# <span style=\"color:red\"><center>Clasificación Lineal binaria en Python</center></span>"
   ]
  },
  {
   "cell_type": "markdown",
   "metadata": {},
   "source": [
    "##   <span style=\"color:blue\">Profesores</span>"
   ]
  },
  {
   "cell_type": "markdown",
   "metadata": {},
   "source": [
    "1. Alvaro Mauricio Montenegro Díaz, ammontenegrod@unal.edu.co\n",
    "2. Daniel Mauricio Montenegro Reyes, dextronomo@gmail.com \n",
    "3. Campo Elías Pardo Turriago, cepardot@unal.edu.co "
   ]
  },
  {
   "cell_type": "markdown",
   "metadata": {},
   "source": [
    "##   <span style=\"color:blue\">Asesora Medios y Marketing digital</span>\n",
    " "
   ]
  },
  {
   "cell_type": "markdown",
   "metadata": {},
   "source": [
    "4. Maria del Pilar Montenegro, pmontenegro88@gmail.com "
   ]
  },
  {
   "cell_type": "markdown",
   "metadata": {},
   "source": [
    "## <span style=\"color:blue\">Asistentes</span>"
   ]
  },
  {
   "cell_type": "markdown",
   "metadata": {},
   "source": [
    "5. Oleg Jarma, ojarmam@unal.edu.co \n",
    "6. Laura Lizarazo, ljlizarazore@unal.edu.co "
   ]
  },
  {
   "cell_type": "markdown",
   "metadata": {},
   "source": [
    "## <span style=\"color:blue\">Contenido</span>"
   ]
  },
  {
   "cell_type": "markdown",
   "metadata": {},
   "source": [
    "- [Introduccion](#Introducción)\n",
    "- [Importamos la librerías que usaremos](#Importamos-la-librerías-que-usaremos)\n",
    "- [Preprocesamiento](#Preprocesamiento)\n",
    "- [Análisis exploratorio inicial](#Análisis-exploratorio-inicial)\n",
    "- [Clasificación usando un modelo lineal](#Clasificación-usando-un-modelo-lineal)\n",
    "- [Funciones de pérdida](#Funciones-de-pérdida)\n",
    "- [Aprendizaje como optimización](Aprendizaje-como-optimización)\n",
    "- [Analizando la función de pérdida cuadrática](#Analizando-la-función-de-pérdida-cuadrática)\n",
    "- [Gradiente descendiente](#Gradiente-descendiente)\n",
    "- [Gradiente descendente en batch](#Gradiente-descendente-en-batch)\n",
    "- [Gradiente descendente estocástico (SGD)](#Gradiente-descendente-estocástico-(SGD))"
   ]
  },
  {
   "cell_type": "markdown",
   "metadata": {},
   "source": [
    "## <span style=\"color:blue\">Introducción</span>"
   ]
  },
  {
   "cell_type": "markdown",
   "metadata": {},
   "source": [
    "[Clasificación Lineal - Colab](https://colab.research.google.com/drive/18skm99K-VsCmd66o0CaZDJiPmOHyDfXX)\n",
    "\n",
    "En esta lección hacemos una primera práctica de modelamiento para clasificación con un subconjunto muy famoso de datos: Iris Dataset. \n",
    "\n",
    "El propósito del ejercicio es clasificar las flres en dos clases."
   ]
  },
  {
   "cell_type": "markdown",
   "metadata": {
    "id": "KV50uBY7pPQC"
   },
   "source": [
    "El **Aprendizaje de Máquina** se concentra en la construcción y estudio de sistemas que puedan aprender de los datos. El problema principal consiste en encontrar patrones, relaciones y regularidades sobre los datos, los cuales le permitan construir modelos descriptivos y predictivos. Una aplicación muy común del Aprendizaje de Máquina consiste en la detección de spam, en el cual un modelo recibe un nuevo correo y lo etiqueta como spam o no.\n",
    "\n",
    "Para construir un modelo de este tipo, se deben tener en cuenta dos conceptos claves. El primero es que el modelo debe debe realizar un **proceso automático de clasificación**, sin que el usuario le especifique de forma explicita la forma en la que la clasificación se lleve a cabo. Por ejemplo, el modelo recibe ejemplos de correos que son spam y ejemplos de correos que no lo son. El segundo concepto consiste en que el modelo debe tener capidad de **generalización**, es decir, el modelo debe ser capaz de predecir sobre datos nunca antes vistos. En el ejemplo del filtrado de spam, estamos interesados en clasificar de forma automática los correos que vayan llegando a la bandeja del usuario.\n",
    "\n",
    "A continuación abordaremos un problema de clasificación binaria sobre un subconjunto del conjunto de datos IRIS.\n",
    "\n",
    "Originalmente IRIS tiene 150 datos y 4 variables (features). La categorías (target) son 3. Paar los propósistos de esta demostración, se tomaran solamente las especies 1 y 3 y las variables 1 y 2. En consecuencia, el conjunto de datos se reduce a 100 datos, dos variables y dos categorías."
   ]
  },
  {
   "cell_type": "markdown",
   "metadata": {
    "id": "4IdgjH40pPQD"
   },
   "source": [
    "## <span style=\"color:blue\">Importamos las librerías que usaremos</span>"
   ]
  },
  {
   "cell_type": "markdown",
   "metadata": {
    "id": "4IdgjH40pPQD"
   },
   "source": [
    "El siguiente código va a cargar un conjunto de datos (IRIS) que nos va a servir para ilustrar en que consiste un problema de clasificación y como resolverlo con un modelo de machine learning. "
   ]
  },
  {
   "cell_type": "code",
   "execution_count": 5,
   "metadata": {
    "id": "0VYm1wynaWu8"
   },
   "outputs": [],
   "source": [
    "#%matplotlib inline\n",
    "import numpy as np\n",
    "import matplotlib.pylab as plt\n",
    "from sklearn import preprocessing\n",
    "from sklearn import datasets\n",
    "from io import BytesIO\n",
    "from PIL import Image\n",
    "iris = datasets.load_iris()"
   ]
  },
  {
   "cell_type": "markdown",
   "metadata": {},
   "source": [
    "## <span style=\"color:blue\">Preprocesamiento</span> "
   ]
  },
  {
   "cell_type": "markdown",
   "metadata": {},
   "source": [
    "1. La variable $y$ contendrá las categorías de las flores. Solamente vamos a conservar las categorias 1 y 2, las cuales recodificamos como  -1 y 1.\n",
    "2. La matriz *X_noscale* contendrá los variables 1 y 2 (ancho de sépalo y ancho de pétalo) y solamente las filas asociadas a las categoría 1 y 2.\n",
    "3. La matriz $X$ es la matriz anterior en donde cada columna está estandarizada de tal manera que tiene media 0 y varianza 1."
   ]
  },
  {
   "cell_type": "code",
   "execution_count": null,
   "metadata": {},
   "outputs": [],
   "source": [
    "y = 2*iris.target[iris.target != 0] - 3\n",
    "X_noscale = iris.data[:,[1, 3]]\n",
    "X_noscale = X_noscale[iris.target != 0, :]\n",
    "X = preprocessing.scale(X_noscale)"
   ]
  },
  {
   "cell_type": "markdown",
   "metadata": {},
   "source": [
    "## <span style=\"color:blue\">Análisis exploratorio inicial</span> "
   ]
  },
  {
   "cell_type": "markdown",
   "metadata": {},
   "source": [
    "Generamos un gráfico con los 100 puntos reservados, los cuales correspondes a dos clases de flores."
   ]
  },
  {
   "cell_type": "code",
   "execution_count": 32,
   "metadata": {
    "colab": {
     "base_uri": "https://localhost:8080/",
     "height": 458
    },
    "executionInfo": {
     "elapsed": 1429,
     "status": "ok",
     "timestamp": 1557782009719,
     "user": {
      "displayName": "Fabio Augusto Gonzalez Osorio",
      "photoUrl": "https://lh5.googleusercontent.com/-jcmRx3yeVv4/AAAAAAAAAAI/AAAAAAAAAic/QZe3kSPTExE/s64/photo.jpg",
      "userId": "12068829047521495105"
     },
     "user_tz": 300
    },
    "id": "gPS-NHDdpPQE",
    "outputId": "8301564e-c528-44ff-8513-a7ba9b2baaea"
   },
   "outputs": [
    {
     "data": {
      "image/png": "[encoded data removed]",
      "text/plain": [
       "<Figure size 576x432 with 1 Axes>"
      ]
     },
     "metadata": {
      "needs_background": "light"
     },
     "output_type": "display_data"
    }
   ],
   "source": [
    "def plot_data(X, y):\n",
    "    y_unique = np.unique(y)\n",
    "    colors = plt.cm.rainbow(np.linspace(0.0, 1.0, y_unique.size))\n",
    "    for this_y, color in zip(y_unique, colors):\n",
    "        this_X = X[y == this_y]\n",
    "        plt.scatter(this_X[:, 0], this_X[:, 1],  color=color,\n",
    "                    alpha=0.5, edgecolor='k',\n",
    "                    label=\"Class: %s\" % this_y)\n",
    "    plt.legend(loc=\"best\")\n",
    "    plt.title(\"Datos\")\n",
    "\n",
    "\n",
    "# dibujamos\n",
    "\n",
    "plt.figure(figsize=(8, 6))\n",
    "plt.xlabel('Ancho de sépalo')\n",
    "plt.ylabel('Ancho de pétalo')\n",
    "plot_data(X_noscale, y)"
   ]
  },
  {
   "cell_type": "markdown",
   "metadata": {
    "id": "jyogyjcrpPQJ"
   },
   "source": [
    "Los datos deben ser presentados como arreglos bi-dimensionales de números. Cada fila corresponde a una instancia de entrenamiento, sobre la cual queremos aprender o hacer una predicción sobre sus datos."
   ]
  },
  {
   "cell_type": "markdown",
   "metadata": {
    "id": "aRpqE7S6pPQL"
   },
   "source": [
    "Verifiquemos el tamaño de cada arreglo construído"
   ]
  },
  {
   "cell_type": "code",
   "execution_count": null,
   "metadata": {
    "colab": {
     "base_uri": "https://localhost:8080/",
     "height": 51
    },
    "executionInfo": {
     "elapsed": 465,
     "status": "ok",
     "timestamp": 1557784256622,
     "user": {
      "displayName": "Fabio Augusto Gonzalez Osorio",
      "photoUrl": "https://lh5.googleusercontent.com/-jcmRx3yeVv4/AAAAAAAAAAI/AAAAAAAAAic/QZe3kSPTExE/s64/photo.jpg",
      "userId": "12068829047521495105"
     },
     "user_tz": 300
    },
    "id": "jz8VH_rwpPQL",
    "outputId": "13ffd24b-20d0-4bf1-d674-b20eb27cbb12"
   },
   "outputs": [
    {
     "name": "stdout",
     "output_type": "stream",
     "text": [
      "(100, 2)\n",
      "(100,)\n"
     ]
    }
   ],
   "source": [
    "print(X.shape)\n",
    "print(y.shape)"
   ]
  },
  {
   "cell_type": "code",
   "execution_count": null,
   "metadata": {
    "colab": {
     "base_uri": "https://localhost:8080/",
     "height": 34
    },
    "executionInfo": {
     "elapsed": 432,
     "status": "ok",
     "timestamp": 1557784260409,
     "user": {
      "displayName": "Fabio Augusto Gonzalez Osorio",
      "photoUrl": "https://lh5.googleusercontent.com/-jcmRx3yeVv4/AAAAAAAAAAI/AAAAAAAAAic/QZe3kSPTExE/s64/photo.jpg",
      "userId": "12068829047521495105"
     },
     "user_tz": 300
    },
    "id": "4w16Ae3cpPQQ",
    "outputId": "6b9c5414-8f58-4819-ee88-45f3f5670be2"
   },
   "outputs": [
    {
     "data": {
      "text/plain": [
       "(array([-1,  1]), array([50, 50]))"
      ]
     },
     "execution_count": 4,
     "metadata": {
      "tags": []
     },
     "output_type": "execute_result"
    }
   ],
   "source": [
    "np.unique(y, return_counts=True)"
   ]
  },
  {
   "cell_type": "markdown",
   "metadata": {
    "id": "-hNob0J7pPQT"
   },
   "source": [
    "Observamos que cada clase tiene 50 ejemplos en total. los datos de una clase se representan con una etiqueta positiva, +1, y los de la otra clase con una etiqueta positiva, +1."
   ]
  },
  {
   "cell_type": "code",
   "execution_count": null,
   "metadata": {
    "colab": {
     "base_uri": "https://localhost:8080/",
     "height": 103
    },
    "executionInfo": {
     "elapsed": 415,
     "status": "ok",
     "timestamp": 1557784290573,
     "user": {
      "displayName": "Fabio Augusto Gonzalez Osorio",
      "photoUrl": "https://lh5.googleusercontent.com/-jcmRx3yeVv4/AAAAAAAAAAI/AAAAAAAAAic/QZe3kSPTExE/s64/photo.jpg",
      "userId": "12068829047521495105"
     },
     "user_tz": 300
    },
    "id": "3h962sAfrXnr",
    "outputId": "cfdbfe5d-bd2c-49f6-b120-d810fe3e8fb9"
   },
   "outputs": [
    {
     "name": "stdout",
     "output_type": "stream",
     "text": [
      "[-1 -1 -1 -1 -1 -1 -1 -1 -1 -1 -1 -1 -1 -1 -1 -1 -1 -1 -1 -1 -1 -1 -1 -1\n",
      " -1 -1 -1 -1 -1 -1 -1 -1 -1 -1 -1 -1 -1 -1 -1 -1 -1 -1 -1 -1 -1 -1 -1 -1\n",
      " -1 -1  1  1  1  1  1  1  1  1  1  1  1  1  1  1  1  1  1  1  1  1  1  1\n",
      "  1  1  1  1  1  1  1  1  1  1  1  1  1  1  1  1  1  1  1  1  1  1  1  1\n",
      "  1  1  1  1]\n"
     ]
    }
   ],
   "source": [
    "print(y)"
   ]
  },
  {
   "cell_type": "markdown",
   "metadata": {
    "id": "7A85yN-vpPQU"
   },
   "source": [
    "### Pregunta\n",
    "**¿Cómo diferenciamos entre ambas clases de manera automática?**\n",
    "\n",
    "Es decir si me dan un nuevo ejemplo, quiero poderlo clasificar en uno de estas dos clases."
   ]
  },
  {
   "cell_type": "markdown",
   "metadata": {
    "id": "qoJ3wl4BpPQU"
   },
   "source": [
    "## <span style=\"color:blue\">Clasificación usando un modelo lineal</span>  "
   ]
  },
  {
   "cell_type": "markdown",
   "metadata": {
    "id": "QWvUeu1CpPQV"
   },
   "source": [
    "### Discriminación lineal"
   ]
  },
  {
   "cell_type": "markdown",
   "metadata": {
    "id": "QWvUeu1CpPQV"
   },
   "source": [
    "* Nuestro modelo de clasificación es una función que recibe un ejemplo $x$ y retorna la predicción. Esta función se basa en una función (llamada discriminante) $f:\\mathbb{R}^{2}\\rightarrow\\mathbb{R}$ tal que:\n",
    "$$\\textrm{Predicción}(x)=\\begin{cases}\n",
    "C_{1} & \\mbox{si }f(x)\\ge \\theta\\\\\n",
    "C_{2} & \\mbox{si }f(x)<\\theta\n",
    "\\end{cases}$$\n",
    "\n",
    "* Para el caso de discriminación lineal, definimos $f$ como un modelo lineal con parámetros $w$ y $w_0$:\n",
    "$$f(x) =  wx+w_0$$\n",
    "\n",
    "En la siguiente imagen se ilustra el problema genérico. Se ha tomado $b=w_0$ y $\\theta=0$."
   ]
  },
  {
   "cell_type": "markdown",
   "metadata": {},
   "source": [
    "![](../Imagenes/clasificador_lineal.png)"
   ]
  },
  {
   "cell_type": "markdown",
   "metadata": {
    "id": "ayzdZfmmpPQW"
   },
   "source": [
    "### Problemas\n",
    "\n",
    "* **¿Cómo encontrar $f$?**\n",
    "\n",
    "* **¿Cómo estimamos $w$ y $w_0$?**"
   ]
  },
  {
   "cell_type": "markdown",
   "metadata": {
    "id": "PZTD8EcZpPQW"
   },
   "source": [
    "## <span style=\"color:blue\">Funciones de pérdida</span>   "
   ]
  },
  {
   "cell_type": "markdown",
   "metadata": {
    "id": "PZTD8EcZpPQW"
   },
   "source": [
    "La pérdida (loss en inglés) es la penalidad por una predicción errada. En otras palabras, la pérdida indica qué tan errada fue la predicción de un modelo en un ejemplo. Si la predicción de mi modelo es perfecta, la pérdida es **cero**, de lo contrario, la pérdida va a ser un número mayor a cero.\n",
    "\n",
    "Una función de pérdida muy común es la pérdida cuadrática:\n",
    "$$ L(f, D) =\\sum_{(x_{i},r_{i})\\in D} (r_i - f(x_i))^2 $$\n",
    "\n",
    "donde:\n",
    "* $(x_{i},r_{i})$ es un ejemplo en el cual $x_i$ corresponde a un conjunto de características, en nuestro conjunto de datos, corresponde a las 2 características extraídas de una flor (Ancho del sépalo y ancho del pétalo). Estas características son usadas por el modelo para hacer predicciones. $r_i$ corresponde a la etiqueta del ejemplo, por ejemplo la especie de la flor.\n",
    "* $f(x_i)$ corresponde a la función de predicción que definimos previamente. Esta función es de la forma $f(x) = wx+w_0$.\n",
    "* $D$ corresponde al conjunto de datos compuesto por varios ejemplos anotados. "
   ]
  },
  {
   "cell_type": "markdown",
   "metadata": {
    "id": "TjiSUzEBpPQX"
   },
   "source": [
    "## <span style=\"color:blue\">Aprendizaje como optimización</span> "
   ]
  },
  {
   "cell_type": "markdown",
   "metadata": {
    "id": "TjiSUzEBpPQX"
   },
   "source": [
    "* Estimar los parámetros $w$ y $w_0$ puede ser abordado como un problema de optimización que consiste en:\n",
    "$$\\min_{f\\in H}L(f,D)$$\n",
    "dónde $L(f, D)$ es la función de pérdida cuadrática. Esto se resume en encontrar una función $f$ que genere el valor mínimo de pérdida promedio con respecto a todos los ejemplos del conjunto de datos.\n",
    "* La función $f$ proviene de una conjunto de funciones llamado el espacio de hipótesis:\n",
    "$$H=\\{f_w(x,y)=wx+w_0,\\forall w\\in\\mathbb{R}^n \\ y \\ w_0\\in\\mathbb{R}\\}$$\n",
    "dónde $w$ y $w_0$ son los coeficientes de la función $f(x) = wx+w_0$.\n",
    "* La función de pérdida nos ayuda a estimar qué tan mal se comporta una función $f$ del espacio de hipótesis con respecto al conjunto de datos $D$."
   ]
  },
  {
   "cell_type": "markdown",
   "metadata": {
    "id": "Jx_jZfKepPQY"
   },
   "source": [
    "A continuación, definimos en Python las funciones de predicción y pérdida, para nuestro problema."
   ]
  },
  {
   "cell_type": "code",
   "execution_count": 38,
   "metadata": {
    "id": "YJk6hCAxpPQZ"
   },
   "outputs": [],
   "source": [
    "def predict(w, x):\n",
    "    a = np.dot(w[1:], x) + w[0]\n",
    "    return a"
   ]
  },
  {
   "cell_type": "code",
   "execution_count": 37,
   "metadata": {
    "id": "8FufsqudpPQb"
   },
   "outputs": [],
   "source": [
    "def square_loss(w, x, y):\n",
    "    return (y - predict(w, x)) ** 2 / 2\n",
    "\n",
    "def batch_loss(loss_fun, w, X, Y):\n",
    "    n = X.shape[0]\n",
    "    tot_loss = 0\n",
    "    for i in range(n):\n",
    "        tot_loss += loss_fun(w, X[i], Y[i])\n",
    "    return tot_loss"
   ]
  },
  {
   "cell_type": "markdown",
   "metadata": {
    "id": "OyudE9oZpPQe"
   },
   "source": [
    "Supongamos $w$ y $w_0$:\n",
    "* $w = [5, 2]$\n",
    "* $w_0 = 1$\n",
    "\n",
    "Escogemos el primer ejemplo de nuestro conjunto de datos Iris:"
   ]
  },
  {
   "cell_type": "code",
   "execution_count": 45,
   "metadata": {
    "colab": {
     "base_uri": "https://localhost:8080/",
     "height": 68
    },
    "executionInfo": {
     "elapsed": 402,
     "status": "ok",
     "timestamp": 1557785299399,
     "user": {
      "displayName": "Fabio Augusto Gonzalez Osorio",
      "photoUrl": "https://lh5.googleusercontent.com/-jcmRx3yeVv4/AAAAAAAAAAI/AAAAAAAAAic/QZe3kSPTExE/s64/photo.jpg",
      "userId": "12068829047521495105"
     },
     "user_tz": 300
    },
    "id": "lXWsUOdYpPQf",
    "outputId": "c6fde4f1-3ed8-4aae-96c6-735403a3937e"
   },
   "outputs": [
    {
     "name": "stdout",
     "output_type": "stream",
     "text": [
      "Características: [ 0.99068792 -0.65303909]\n",
      "Etiqueta real: -1\n",
      "Función discriminante: 4.647361438018154\n"
     ]
    }
   ],
   "source": [
    "w = [1, 5, 2] # Por facilidad, w[0] es igual a w_0\n",
    "x = X[0] # Primer ejemplo de nuestro conjunto de datos IRIS.\n",
    "label = y[0]\n",
    "\n",
    "print('Características: {}'.format(X[0]))\n",
    "print('Etiqueta real: {}'.format(y[0]))\n",
    "print('Función discriminante: {}'.format(predict(w, x)))\n"
   ]
  },
  {
   "cell_type": "markdown",
   "metadata": {
    "id": "kksP6jNtpPQi"
   },
   "source": [
    "Puesto que el valor de la función discriminante es $f(x)>0$, la clase predicha es positiva.\n",
    "Ahora, estimamos el valor de pérdida usando esos valores de $w$ y $w_0$"
   ]
  },
  {
   "cell_type": "code",
   "execution_count": 46,
   "metadata": {
    "colab": {
     "base_uri": "https://localhost:8080/",
     "height": 34
    },
    "executionInfo": {
     "elapsed": 5271,
     "status": "ok",
     "timestamp": 1536792075580,
     "user": {
      "displayName": "Fabio A. Gonzalez",
      "photoUrl": "//lh5.googleusercontent.com/-jcmRx3yeVv4/AAAAAAAAAAI/AAAAAAAAAic/QZe3kSPTExE/s50-c-k-no/photo.jpg",
      "userId": "112315845334496218213"
     },
     "user_tz": 300
    },
    "id": "DZZe6JFcpPQj",
    "outputId": "3811df04-046e-430c-8caa-1d51cf632f8f"
   },
   "outputs": [
    {
     "name": "stdout",
     "output_type": "stream",
     "text": [
      "Pérdida: 15.946345605807238\n"
     ]
    }
   ],
   "source": [
    "print('Pérdida: {}'.format(square_loss(w, x, label)))"
   ]
  },
  {
   "cell_type": "markdown",
   "metadata": {
    "id": "03AgoXXLpPQm"
   },
   "source": [
    "¿Qué pasa si modificamos uno de los parámetros $w$?"
   ]
  },
  {
   "cell_type": "code",
   "execution_count": 47,
   "metadata": {
    "colab": {
     "base_uri": "https://localhost:8080/",
     "height": 67
    },
    "executionInfo": {
     "elapsed": 16636,
     "status": "ok",
     "timestamp": 1536792115727,
     "user": {
      "displayName": "Fabio A. Gonzalez",
      "photoUrl": "//lh5.googleusercontent.com/-jcmRx3yeVv4/AAAAAAAAAAI/AAAAAAAAAic/QZe3kSPTExE/s50-c-k-no/photo.jpg",
      "userId": "112315845334496218213"
     },
     "user_tz": 300
    },
    "id": "VkOJEGWnpPQn",
    "outputId": "21546d73-5872-41f7-dc2c-37f9971c4954"
   },
   "outputs": [
    {
     "name": "stdout",
     "output_type": "stream",
     "text": [
      "Etiqueta: -1\n",
      "Predicción: 3.9943223502437437\n",
      "Pérdida w_p: 12.471627869072096\n"
     ]
    }
   ],
   "source": [
    "w_p = [1, 5, 3]\n",
    "\n",
    "print('Etiqueta: {}'.format(y[0]))\n",
    "print('Predicción: {}'.format(predict(w_p, x)))\n",
    "print('Pérdida w_p: {}'.format(square_loss(w_p, x, label)))"
   ]
  },
  {
   "cell_type": "markdown",
   "metadata": {
    "id": "BNLN23qwpPQu"
   },
   "source": [
    "Observamos que nuestra pérdida bajó de $15.94$ a $12.47$. Sin embargo, estamos interesados en automatizar este proceso. Primero vamos a observar cómo se comporta la función de pérdida cuadrática."
   ]
  },
  {
   "cell_type": "markdown",
   "metadata": {
    "id": "u92KZOcNpPQy"
   },
   "source": [
    "## <span style=\"color:blue\">Analizando la función de pérdida cuadrática</span> "
   ]
  },
  {
   "cell_type": "markdown",
   "metadata": {
    "id": "u92KZOcNpPQy"
   },
   "source": [
    "A continuación, definimos un par de funciones de python para poder visualizar la función de pérdida"
   ]
  },
  {
   "cell_type": "code",
   "execution_count": 42,
   "metadata": {
    "id": "PGJ6rUUEpPQz"
   },
   "outputs": [],
   "source": [
    "def plot_loss(loss):\n",
    "    w1_vals = np.linspace(-5, 5, 30)\n",
    "    w2_vals = np.linspace(-5, 5, 30)\n",
    "    W1, W2 = np.meshgrid(w1_vals, w2_vals)\n",
    "    grid_r, grid_c = W1.shape\n",
    "    ZZ = np.zeros((grid_r, grid_c))\n",
    "    for i in range(grid_r):\n",
    "        for j in range(grid_c):\n",
    "            ZZ[i, j] = loss(W1[i, j], W2[i, j])\n",
    "    pl.contourf(W1, W2, ZZ,30, cmap = pl.cm.jet)\n",
    "    pl.colorbar()\n",
    "    pl.xlabel(\"$w_1$\")\n",
    "    pl.ylabel(\"$w_2$\")\n",
    "\n",
    "def bloss_square(w1, w2):\n",
    "    w = np.array([1, w1, w2])\n",
    "    return batch_loss(square_loss, w, X, y)"
   ]
  },
  {
   "cell_type": "code",
   "execution_count": 43,
   "metadata": {
    "colab": {
     "base_uri": "https://localhost:8080/",
     "height": 283
    },
    "executionInfo": {
     "elapsed": 1112,
     "status": "ok",
     "timestamp": 1557785428429,
     "user": {
      "displayName": "Fabio Augusto Gonzalez Osorio",
      "photoUrl": "https://lh5.googleusercontent.com/-jcmRx3yeVv4/AAAAAAAAAAI/AAAAAAAAAic/QZe3kSPTExE/s64/photo.jpg",
      "userId": "12068829047521495105"
     },
     "user_tz": 300
    },
    "id": "x2ad9mr3pPQ3",
    "outputId": "d359a2f1-39d6-4a79-dece-a37c83ca6617"
   },
   "outputs": [
    {
     "data": {
      "image/png": "[encoded data removed]",
      "text/plain": [
       "<Figure size 432x288 with 2 Axes>"
      ]
     },
     "metadata": {
      "needs_background": "light"
     },
     "output_type": "display_data"
    }
   ],
   "source": [
    "plot_loss(bloss_square)"
   ]
  },
  {
   "cell_type": "markdown",
   "metadata": {
    "id": "nExl8BeBpPQ7"
   },
   "source": [
    "Intepretación: Observamos que el valor mínimo de nuestra función de pérdida se encuentra alrededor de:\n",
    "* $w_1 = 0.0$\n",
    "* $w_2 = 1.0$"
   ]
  },
  {
   "cell_type": "markdown",
   "metadata": {
    "id": "YAHCFSE7pPQ9"
   },
   "source": [
    "## <span style=\"color:blue\">Gradiente descendiente</span> "
   ]
  },
  {
   "cell_type": "markdown",
   "metadata": {
    "id": "YAHCFSE7pPQ9"
   },
   "source": [
    "* Ventajas en este caso:\n",
    "  * Óptimo global garantizado\n",
    "  * Simplicidad del método\n",
    "  * Facilidad para ajustar los parámetros\n",
    "  * Escalabilidad\n",
    "  * Paralelización potencial.\n",
    "* En aprendizaje de máquina, las preferencias cambian sobre el tiempo.\n",
    "* Hoy en día es escalable. Inclusive, la estrategias paralelizables son preferidas a sabiendas de la optimalidad garantizada."
   ]
  },
  {
   "cell_type": "markdown",
   "metadata": {
    "id": "2tNQ0G_spPRC"
   },
   "source": [
    "Minimizar la función $L(f, D)$, donde $f$ es nuestra función de predicción resulta ser un problema convexo, es decir, existe solo un lugar donde la inclinación de la curva de pérdida es igual a cero. Ese valor mínimo es dónde nuestra función de pérdida $L$ **converge**.\n",
    "\n",
    "Por otro lado, calcular el valor de la función de pérdida para cada posible valor de $w$ sobre el conjunto de datos es una forma muy ineficiente de hallar ese valor de convergencia. Gradiente descendente es un mecanismo iterativo que nos permite hayar ese valor de convergencia.\n",
    "\n"
   ]
  },
  {
   "cell_type": "markdown",
   "metadata": {},
   "source": [
    "![](../Imagenes/JcfpK.png)\n",
    "\n",
    "Ilustración del gradiente descendiente.\n",
    "\n",
    "[Fuente](https://i.stack.imgur.com/JcfpK.png)"
   ]
  },
  {
   "cell_type": "markdown",
   "metadata": {
    "id": "2tNQ0G_spPRC"
   },
   "source": [
    "### Algoritmo gradiente descendente:"
   ]
  },
  {
   "cell_type": "markdown",
   "metadata": {
    "id": "2tNQ0G_spPRC"
   },
   "source": [
    "* Paso 1: Escogemos un valor inicial o punto de partida. Puede ser cero o un valor aleatorio. Este valor inicial no tiene relevancia para este problema. \n",
    "* Paso 2: Calculamos el **gradiente de la función de pérdida** para el punto de partida. El gradiente de la pérdida me indica la derivada (inclinación) de la curva. El gradiente a su vez es un vector, por lo tanto tiene **dirección** y **magnitud**, esta dirección siempre apunta hacía donde se genera el mayor incremento en la función de pérdida. \n",
    "* Paso 3: Calculamos un nuevo valor $w$ cambiándolo en la dirección negativa del gradiente, con el objetivo reducir la pérdida lo más pronto posible.\n",
    "* Paso 4: El nuevo valor de $w$ también estará determinado por la magnitud del gradiente y una **taza de aprendizaje** $\\eta$. Por ejemplo, si la magnitud del gradiente es 2.5 y la taza de aprendizaje es 0.01, gradiente descendente escogerá un punto $w$ que esté alejado 0.025 unidades del punto anterior $w$. Para el calculo de $w$ usaremos la siguiente formula:\n",
    "$$\n",
    "w^{t+1} = w^t - \\eta \\nabla L\n",
    "$$\n",
    "* Repetir desde el Paso 1."
   ]
  },
  {
   "cell_type": "markdown",
   "metadata": {
    "id": "2tNQ0G_spPRC"
   },
   "source": [
    "#### Problemas"
   ]
  },
  {
   "cell_type": "markdown",
   "metadata": {
    "id": "2tNQ0G_spPRC"
   },
   "source": [
    "* ¿Qué pasa si el tamaño de nuestro paso es muy grande y no alcanza el minimo local?\n",
    "\n",
    "La elección de una tasa de aprendizaje alta puede terminar en que nunca alcanzemos el punto de convergencia. Pero una tasa muy pequeña puede llevar a que tome mucho tiempo llegar al mínimo global"
   ]
  },
  {
   "cell_type": "markdown",
   "metadata": {
    "id": "fi5JVw_8pPRD"
   },
   "source": [
    "### ¿Cómo se calcula el gradiente?"
   ]
  },
  {
   "cell_type": "markdown",
   "metadata": {
    "id": "fi5JVw_8pPRD"
   },
   "source": [
    "$$\n",
    "\\begin{aligned}L(f,D) & = \\sum_{(x_{i},r_{i})\\in D} (r_i - f(x_i))^2 = \\sum_{(x_{i},r_{i})\\in D}(r_i - (w_0 + w_1x_i))^2\\\\\n",
    " & =\\sum_{(x_{i},r_{i})\\in D}E(w, x_i, r_i)\n",
    "\\end{aligned}\n",
    "$$\n",
    "Si $f_w$ es la función que definimos antes se tiene que\n",
    "\n",
    "$$\n",
    "\\frac{\\partial E(w,x_{i,}r_{i})}{\\partial w_1}=(w_0 + w_1x_i-r_{i})x_{i}\n",
    "$$\n",
    "y\n",
    "$$\n",
    "\\frac{\\partial E(w,x_{i,}r_{i})}{\\partial w_0}=(w_0 + w_1x_i-r_{i})\n",
    "$$\n",
    "\n",
    "A continuación, definimos una función `de_dw` que corresponde el derivadas parciales de $E$ con respecto a los coeficientes $w$."
   ]
  },
  {
   "cell_type": "code",
   "execution_count": 53,
   "metadata": {
    "id": "Hg4_lVtGpPRD"
   },
   "outputs": [],
   "source": [
    "def de_dw(w, x, r):\n",
    "    x_prime = np.zeros(len(x) + 1)\n",
    "    x_prime[1:] = x\n",
    "    x_prime[0] = 1\n",
    "    return (predict(w, x) - r) * x_prime"
   ]
  },
  {
   "cell_type": "markdown",
   "metadata": {
    "id": "P8OCEAWDpPRG"
   },
   "source": [
    "## <span style=\"color:blue\">Gradiente descendente en batch</span> "
   ]
  },
  {
   "cell_type": "markdown",
   "metadata": {
    "id": "P8OCEAWDpPRG"
   },
   "source": [
    "Para estimar el gradiente, lo hacemos a lo largo de todos nuestro conjunto de datos. Puesto que solo contamos con 100 ejemplos, es relativamente rápido hacer este calculo. Sin embargo, en la práctica puede ser ineficiente si se cuenta con un gran número de ejemplos de entrenamiento."
   ]
  },
  {
   "cell_type": "code",
   "execution_count": 54,
   "metadata": {
    "id": "UnThWOsTpPRH"
   },
   "outputs": [],
   "source": [
    "def batch_gd(X, Y, epochs, eta, w_ini):\n",
    "    \"\"\"\n",
    "    X: instancias del conjunto de datos\n",
    "    Y: etiquetas del conjunto de datos\n",
    "    epochs: número de iteraciones para ejecutar\n",
    "    gradiente descendente\n",
    "    eta: taza de aprendizaje\n",
    "    w_ini: w y w_0 iniciales\n",
    "    \n",
    "    \"\"\"\n",
    "    losses = []\n",
    "    w = w_ini \n",
    "    n = X.shape[0]\n",
    "    for i in range(epochs): \n",
    "        delta = np.zeros(len(w))\n",
    "        for j in range(n):\n",
    "            delta += de_dw(w, X[j], Y[j]) # Vamos sumando el gradiente por cada ejemplo en el conjunto de datos\n",
    "        w = w - eta * delta # Calculamos el nuevo valor de w\n",
    "        losses.append(batch_loss(square_loss, w, X, Y)) # Vamos guardando el valor de pérdida para visualizar luego\n",
    "    return w, losses"
   ]
  },
  {
   "cell_type": "markdown",
   "metadata": {
    "id": "DBnrPOD3pPRK"
   },
   "source": [
    "Vamos a ejecutar gradiente descendente en batch con los siguientes parámetros:\n",
    "* $epochs = 50$\n",
    "* $w_0 = 0$ ($w_0$ inicial)\n",
    "* $w = [0, 0]$ ($w$ inicial)\n",
    "* $\\eta = 0.01$ (tasa de aprendizaje)"
   ]
  },
  {
   "cell_type": "code",
   "execution_count": 56,
   "metadata": {
    "colab": {
     "base_uri": "https://localhost:8080/",
     "height": 358
    },
    "executionInfo": {
     "elapsed": 716,
     "status": "ok",
     "timestamp": 1557786335187,
     "user": {
      "displayName": "Fabio Augusto Gonzalez Osorio",
      "photoUrl": "https://lh5.googleusercontent.com/-jcmRx3yeVv4/AAAAAAAAAAI/AAAAAAAAAic/QZe3kSPTExE/s64/photo.jpg",
      "userId": "12068829047521495105"
     },
     "user_tz": 300
    },
    "id": "_HpU2WjbpPRL",
    "outputId": "ef3fe64c-f4ad-47ef-a4cd-378b30e99ec0"
   },
   "outputs": [
    {
     "data": {
      "image/png": "[encoded data removed]",
      "text/plain": [
       "<Figure size 576x384 with 1 Axes>"
      ]
     },
     "metadata": {
      "needs_background": "light"
     },
     "output_type": "display_data"
    }
   ],
   "source": [
    "w, losses = batch_gd(X, y, 50, 0.001, np.array([0, 0, 0]))\n",
    "pl.figure(figsize = (8,16/3))\n",
    "pl.plot(losses)\n",
    "plt.show()"
   ]
  },
  {
   "cell_type": "markdown",
   "metadata": {
    "id": "NpdS5rPqpPRO"
   },
   "source": [
    "## <span style=\"color:blue\">Gradiente descendente estocástico (SGD)</span> "
   ]
  },
  {
   "cell_type": "markdown",
   "metadata": {
    "id": "NpdS5rPqpPRO"
   },
   "source": [
    "Cuando trabajamos con grandes conjuntos de datos, se vuelve poco práctico el cálculo del gradiente sobre todo el conjunto de datos. Una forma de disminuir el tiempo de computación es escogiendo muestras al azar de nuestro conjunto de datos, que nos generan un estimado en promedio del gradiente promedio. SGD toma entonces una muestra de forma aleatoria a la vez y estima el valor del gradiente para esa muestra. A pesar de ser ruidoso, SGD funciona bastante bien en la práctica."
   ]
  },
  {
   "cell_type": "code",
   "execution_count": 67,
   "metadata": {
    "id": "oJExhoRLpPRQ"
   },
   "outputs": [],
   "source": [
    " def sgd(X, Y, epochs, eta, w_ini):\n",
    "    \"\"\"\n",
    "    X: instancias del conjunto de datos\n",
    "    Y: etiquetas del conjunto de datos\n",
    "    epochs: número de iteraciones para ejecutar\n",
    "            gradiente descendente\n",
    "    eta: tasa de aprendizaje\n",
    "    w_ini: w y w_0 iniciales\n",
    "    \n",
    "    \"\"\"\n",
    "        \n",
    "    losses = []\n",
    "    w = w_ini\n",
    "    n = X.shape[0]\n",
    "    index = list(range(n))\n",
    "    \n",
    "    for i in range(epochs):\n",
    "        np.random.shuffle(index)\n",
    "        for j in index:\n",
    "            delta = de_dw(w, X[j], Y[j]) # Aquí estimamos el gradiente para cada elemento pero no para todo el dataset\n",
    "            w = w - eta * delta\n",
    "        losses.append(batch_loss(square_loss, w, X, Y))\n",
    "    return w, losses"
   ]
  },
  {
   "cell_type": "markdown",
   "metadata": {},
   "source": [
    "Ejemplo de orden aleatorio"
   ]
  },
  {
   "cell_type": "code",
   "execution_count": 66,
   "metadata": {},
   "outputs": [
    {
     "name": "stdout",
     "output_type": "stream",
     "text": [
      "[0, 1, 2, 3, 4, 5, 6, 7, 8, 9]\n",
      "[5, 1, 7, 2, 9, 8, 4, 6, 0, 3]\n"
     ]
    }
   ],
   "source": [
    "index = list(range(10))\n",
    "print(index)\n",
    "np.random.shuffle(index)\n",
    "print(index)"
   ]
  },
  {
   "cell_type": "markdown",
   "metadata": {
    "id": "DONCNgbRpPRZ"
   },
   "source": [
    "A continuación, comparamos el comportamiento de Gradiente Descendente en Batch y Estocástico. Observamos que tienen un comportamiento similar para nuestro problema de clasificación de dos clases."
   ]
  },
  {
   "cell_type": "code",
   "execution_count": 69,
   "metadata": {
    "colab": {
     "base_uri": "https://localhost:8080/",
     "height": 372
    },
    "executionInfo": {
     "elapsed": 1727,
     "status": "ok",
     "timestamp": 1557786793714,
     "user": {
      "displayName": "Fabio Augusto Gonzalez Osorio",
      "photoUrl": "https://lh5.googleusercontent.com/-jcmRx3yeVv4/AAAAAAAAAAI/AAAAAAAAAic/QZe3kSPTExE/s64/photo.jpg",
      "userId": "12068829047521495105"
     },
     "user_tz": 300
    },
    "id": "2E2G5xfbpPRZ",
    "outputId": "a0a3e6e7-74c9-4cd3-995a-5e79808ea9c6"
   },
   "outputs": [
    {
     "data": {
      "image/png": "[encoded data removed]",
      "text/plain": [
       "<Figure size 576x384 with 1 Axes>"
      ]
     },
     "metadata": {
      "needs_background": "light"
     },
     "output_type": "display_data"
    }
   ],
   "source": [
    "lr = 0.005\n",
    "epochs = 500\n",
    "w1, losses_bt = batch_gd(X, y, epochs, lr, np.array([0, 0, 0])) #Batch\n",
    "w2, losses_ol = sgd(X, y, epochs, lr, np.array([0, 0, 0])) #SGD\n",
    "pl.figure(figsize = (8,16/3))\n",
    "pl.plot(np.arange(epochs), losses_ol, label=\"SGD\")\n",
    "pl.plot(np.arange(epochs), losses_bt, label=\"Batch\")\n",
    "pl.xlabel(\"Epoch\")\n",
    "pl.ylabel(\"Loss\")\n",
    "pl.legend()\n",
    "plt.show()"
   ]
  },
  {
   "cell_type": "markdown",
   "metadata": {
    "id": "utjBLJqYpPRc"
   },
   "source": [
    "### Visualización de la función de predicción"
   ]
  },
  {
   "cell_type": "markdown",
   "metadata": {
    "id": "9_sWueJlpPRc"
   },
   "source": [
    "Es útil poder visualizar qué regiones de nuestro espacio en 2D son asignadas a la clase positiva y a la clase negativa. Para eso escribimos una función que nos permite visualizar:"
   ]
  },
  {
   "cell_type": "code",
   "execution_count": 73,
   "metadata": {
    "id": "WRLsCq20pPRd"
   },
   "outputs": [],
   "source": [
    "def plot_decision_region(X, pred_fun):\n",
    "    \"\"\"\n",
    "    X: corresponde a las instancias del conjunto de datos\n",
    "    pred_fun: es una función que para cada valor de X,  regresa una predicción\n",
    "    \"\"\"\n",
    "    min_x = np.min(X[:, 0])\n",
    "    max_x = np.max(X[:, 0])\n",
    "    min_y = np.min(X[:, 1])\n",
    "    max_y = np.max(X[:, 1])\n",
    "    min_x = min_x - (max_x - min_x) * 0.05\n",
    "    max_x = max_x + (max_x - min_x) * 0.05\n",
    "    min_y = min_y - (max_y - min_y) * 0.05\n",
    "    max_y = max_y + (max_y - min_y) * 0.05\n",
    "    x_vals = np.linspace(min_x, max_x, 30)\n",
    "    y_vals = np.linspace(min_y, max_y, 30)\n",
    "    XX, YY = np.meshgrid(x_vals, y_vals)\n",
    "    grid_r, grid_c = XX.shape\n",
    "    ZZ = np.zeros((grid_r, grid_c))\n",
    "    for i in range(grid_r):\n",
    "        for j in range(grid_c):\n",
    "            ZZ[i, j] = pred_fun(XX[i, j], YY[i, j])\n",
    "    pl.contourf(XX, YY, ZZ, 30, cmap = pl.cm.coolwarm, vmin= -1, vmax=2)\n",
    "    pl.colorbar()\n",
    "    pl.xlabel(\"x\")\n",
    "    pl.ylabel(\"y\")"
   ]
  },
  {
   "cell_type": "code",
   "execution_count": 74,
   "metadata": {
    "id": "U5SXcSgXpPRf"
   },
   "outputs": [],
   "source": [
    "def gen_pred_fun(w):\n",
    "    def pred_fun(x1, x2):\n",
    "        x = np.array([x1, x2])\n",
    "        return predict(w, x)\n",
    "    return pred_fun"
   ]
  },
  {
   "cell_type": "markdown",
   "metadata": {
    "id": "HymZ1v_-pPRh"
   },
   "source": [
    "Visualizemos el caso donde nuestros coeficiente sean de la forma:\n",
    "* $w_0 = 0$\n",
    "* $w = [0.6, 1]$"
   ]
  },
  {
   "cell_type": "code",
   "execution_count": 75,
   "metadata": {
    "colab": {
     "base_uri": "https://localhost:8080/",
     "height": 422
    },
    "executionInfo": {
     "elapsed": 848,
     "status": "ok",
     "timestamp": 1557786817090,
     "user": {
      "displayName": "Fabio Augusto Gonzalez Osorio",
      "photoUrl": "https://lh5.googleusercontent.com/-jcmRx3yeVv4/AAAAAAAAAAI/AAAAAAAAAic/QZe3kSPTExE/s64/photo.jpg",
      "userId": "12068829047521495105"
     },
     "user_tz": 300
    },
    "id": "ksaA3NBzpPRi",
    "outputId": "43f8c571-f741-40e3-c0bb-02552cf5715e"
   },
   "outputs": [
    {
     "data": {
      "image/png": "[encoded data removed]",
      "text/plain": [
       "<Figure size 576x384 with 2 Axes>"
      ]
     },
     "metadata": {
      "needs_background": "light"
     },
     "output_type": "display_data"
    }
   ],
   "source": [
    "w = [0, 0.6, 1]\n",
    "\n",
    "pl.figure(figsize = (8,16/3))    \n",
    "plot_decision_region(X, gen_pred_fun(w))\n",
    "plot_data(X, y)"
   ]
  },
  {
   "cell_type": "markdown",
   "metadata": {
    "id": "9hDsvK5ipPRl"
   },
   "source": [
    "Nada útil, sin embargo si visualizamos el resultado luego de aplicar SGD:"
   ]
  },
  {
   "cell_type": "code",
   "execution_count": null,
   "metadata": {
    "colab": {
     "base_uri": "https://localhost:8080/",
     "height": 367
    },
    "executionInfo": {
     "elapsed": 1434,
     "status": "ok",
     "timestamp": 1536450509865,
     "user": {
      "displayName": "oscar Julian Perdomo Charry",
      "photoUrl": "https://lh3.googleusercontent.com/a/default-user=s128",
      "userId": "104061214375264597676"
     },
     "user_tz": 300
    },
    "id": "qP3ch_fHpPRm",
    "outputId": "d5d4b06c-0881-4303-ed5e-46277befa187"
   },
   "outputs": [
    {
     "data": {
      "image/png": "[encoded data removed]",
      "text/plain": [
       "<matplotlib.figure.Figure at 0x7ff8db1b4470>"
      ]
     },
     "metadata": {
      "tags": []
     },
     "output_type": "display_data"
    }
   ],
   "source": [
    "lr = 0.005\n",
    "epochs = 500\n",
    "w, _ = sgd(X, y, epochs, lr, np.array([0, -1, 2])) #SGD\n",
    "\n",
    "pl.figure(figsize = (8,16/3))    \n",
    "plot_decision_region(X, gen_pred_fun(w))\n",
    "plot_data(X, y)"
   ]
  },
  {
   "cell_type": "code",
   "execution_count": null,
   "metadata": {
    "colab": {
     "base_uri": "https://localhost:8080/",
     "height": 36
    },
    "executionInfo": {
     "elapsed": 510,
     "status": "ok",
     "timestamp": 1536450512569,
     "user": {
      "displayName": "oscar Julian Perdomo Charry",
      "photoUrl": "https://lh3.googleusercontent.com/a/default-user=s128",
      "userId": "104061214375264597676"
     },
     "user_tz": 300
    },
    "id": "_O1ROxMZpPRp",
    "outputId": "ef5cce13-f5f5-4020-b65f-b2d012887d1f"
   },
   "outputs": [
    {
     "data": {
      "text/plain": [
       "array([ 0.03780429, -0.23722539,  0.94336809])"
      ]
     },
     "execution_count": 28,
     "metadata": {
      "tags": []
     },
     "output_type": "execute_result"
    }
   ],
   "source": [
    "w"
   ]
  },
  {
   "cell_type": "code",
   "execution_count": null,
   "metadata": {
    "id": "cI-pADqElkPP"
   },
   "outputs": [],
   "source": []
  }
 ],
 "metadata": {
  "colab": {
   "collapsed_sections": [],
   "name": "Copia de Intro SI-ML1-linear classification.ipynb",
   "provenance": [
    {
     "file_id": "18skm99K-VsCmd66o0CaZDJiPmOHyDfXX",
     "timestamp": 1616157883508
    },
    {
     "file_id": "1YOf_vd0I1d5j58vzRU2pXS2kCjeg2gqJ",
     "timestamp": 1557778220013
    },
    {
     "file_id": "1pI6YVLbFenTD1PKFdEsHYQ-wxPMtKBQ8",
     "timestamp": 1536785318169
    }
   ]
  },
  "kernelspec": {
   "display_name": "Python 3",
   "language": "python",
   "name": "python3"
  },
  "language_info": {
   "codemirror_mode": {
    "name": "ipython",
    "version": 3
   },
   "file_extension": ".py",
   "mimetype": "text/x-python",
   "name": "python",
   "nbconvert_exporter": "python",
   "pygments_lexer": "ipython3",
   "version": "3.8.8"
  }
 },
 "nbformat": 4,
 "nbformat_minor": 4
}
