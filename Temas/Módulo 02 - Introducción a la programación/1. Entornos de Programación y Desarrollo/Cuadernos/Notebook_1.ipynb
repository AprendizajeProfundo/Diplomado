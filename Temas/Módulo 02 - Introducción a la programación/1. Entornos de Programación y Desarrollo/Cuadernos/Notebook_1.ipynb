{
 "cells": [
  {
   "cell_type": "markdown",
   "id": "ce407494-e153-482a-b60c-82abf20cee21",
   "metadata": {},
   "source": [
    "# Mi primer título"
   ]
  },
  {
   "cell_type": "markdown",
   "id": "b207f0c6-90c2-47ce-b535-c87c3aefe084",
   "metadata": {},
   "source": [
    "Este es mi primer Notebook.\n",
    "\n",
    "[Gatitos](https://www.google.com/search?q=gatitos&sxsrf=ALiCzsZ4GK-ZNFdBplg_UU2UQG0qh2oitw:1659573958328&source=lnms&tbm=isch&sa=X&ved=2ahUKEwihxY7i-qv5AhVhRDABHSeCCjwQ_AUoAXoECAIQAw&biw=1440&bih=793&dpr=2#imgrc=ZFgfph63JgxCRM)\n",
    "\n",
    "![Gatos](https://estaticos.muyinteresante.es/uploads/images/gallery/5937e90a5bafe882f5bc09e6/gatitos-cesta_0.jpg)"
   ]
  },
  {
   "cell_type": "markdown",
   "id": "bf3c1886-cb60-4341-a245-8eae2686788d",
   "metadata": {},
   "source": [
    "| Syntax | Description |\n",
    "| ----------- | ----------- |\n",
    "| Header | Title |\n",
    "| Paragraph | Text |"
   ]
  },
  {
   "cell_type": "code",
   "execution_count": null,
   "id": "75d55899-906b-4dd3-96a4-c0a2493ab0b7",
   "metadata": {},
   "outputs": [],
   "source": []
  }
 ],
 "metadata": {
  "kernelspec": {
   "display_name": "Python 3 (ipykernel)",
   "language": "python",
   "name": "python3"
  },
  "language_info": {
   "codemirror_mode": {
    "name": "ipython",
    "version": 3
   },
   "file_extension": ".py",
   "mimetype": "text/x-python",
   "name": "python",
   "nbconvert_exporter": "python",
   "pygments_lexer": "ipython3",
   "version": "3.9.13"
  }
 },
 "nbformat": 4,
 "nbformat_minor": 5
}
