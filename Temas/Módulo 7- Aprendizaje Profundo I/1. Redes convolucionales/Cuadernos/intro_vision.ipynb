{
 "cells": [
  {
   "cell_type": "markdown",
   "id": "71eb3c28-3fe8-431f-bf34-cca08334427e",
   "metadata": {},
   "source": [
    "<figure>\n",
    "<img src=\"../Imagenes/logo-final-ap.png\"  width=\"80\" height=\"80\" align=\"left\"/> \n",
    "</figure>\n",
    "\n",
    "# <span style=\"color:blue\"><left>Aprendizaje Profundo</left></span>"
   ]
  },
  {
   "cell_type": "markdown",
   "id": "792df1a9-fe7f-4f21-9925-41332f442084",
   "metadata": {},
   "source": [
    "# <span style=\"color:red\"><center>Visión por Computadora</center></span>\n",
    "## <span style=\"color:red\"><center>Sesión Inaugural</center></span>"
   ]
  },
  {
   "cell_type": "markdown",
   "id": "featured-florence",
   "metadata": {},
   "source": [
    "##   <span style=\"color:blue\">Profesores</span>"
   ]
  },
  {
   "cell_type": "markdown",
   "id": "26390b21",
   "metadata": {},
   "source": [
    "### Coordinador\n"
   ]
  },
  {
   "cell_type": "markdown",
   "id": "14d4433b",
   "metadata": {},
   "source": [
    "- Campo Elías Pardo Turriago, cepardot@unal.edu.co "
   ]
  },
  {
   "cell_type": "markdown",
   "id": "c6ba9109",
   "metadata": {},
   "source": [
    "### Conferencistas\n"
   ]
  },
  {
   "cell_type": "markdown",
   "id": "36b256ca",
   "metadata": {},
   "source": [
    "- Alvaro  Montenegro, PhD, ammontenegrod@unal.edu.co\n",
    "- Daniel  Montenegro, Msc, dextronomo@gmail.com \n",
    "- Oleg Jarma, Estadístico, ojarmam@unal.edu.co "
   ]
  },
  {
   "cell_type": "markdown",
   "id": "045b20f5",
   "metadata": {},
   "source": [
    "## <span style=\"color:blue\">Asesora Medios y Marketing digital</span>"
   ]
  },
  {
   "cell_type": "markdown",
   "id": "d5c293ad",
   "metadata": {},
   "source": [
    "- Maria del Pilar Montenegro, pmontenegro88@gmail.com \n",
    "\n"
   ]
  },
  {
   "cell_type": "markdown",
   "id": "f3868ead",
   "metadata": {},
   "source": [
    "## <span style=\"color:blue\">Asistentes</span>\n",
    "\n"
   ]
  },
  {
   "cell_type": "markdown",
   "id": "a6180075",
   "metadata": {},
   "source": [
    "- Nayibe Yesenia Arias, naariasc@unal.edu.co\n",
    "- Venus Celeste Puertas, vpuertasg@unal.edu.co "
   ]
  },
  {
   "cell_type": "markdown",
   "id": "8ab42cb6-f0f7-4d8f-b8af-aef693d18c94",
   "metadata": {},
   "source": [
    "## <span style=\"color:blue\">Contenido</span>"
   ]
  },
  {
   "cell_type": "markdown",
   "id": "3dcc0d5d-44ab-4065-98d4-2268680bf304",
   "metadata": {},
   "source": [
    "* [¿Qué es la Visión por Computadora](#Qué-es-la-Visión-por-Computadora)\n",
    "* [Un poco de historia](#Un-poco-de-historia)\n",
    "* [El estado del arte](#El-estado-del-arte)\n",
    "* [Paquetes a utilizar](#Paquetes-a-utilizar)"
   ]
  },
  {
   "cell_type": "markdown",
   "id": "79f25870-1ed0-4086-a26f-dbdfe05de80a",
   "metadata": {},
   "source": [
    "## <span style=\"color:blue\">Qué es la Visión por Computadora</span>"
   ]
  },
  {
   "cell_type": "markdown",
   "id": "d8ac7f50-3332-47f0-b8f6-1e1c2f3594a4",
   "metadata": {},
   "source": [
    "La mente humana es impresionante.\n",
    "\n",
    "<figure>\n",
    "<center>\n",
    "<img src=\"../Imagenes/geranium-iberian_1.jpg\" width=\"400\" height=\"400\" align=\"center\"/> \n",
    "</center>\n",
    "</figure>\n",
    "\n",
    "Solo observando esta imagen, somos capaces de discernir muchas cosas sobre esta: Las sombras, lejanías, enfoques, y más, con relativa facilidad.\n",
    "\n",
    "Los computadores, por supuesto, no tienen esa capacidad.\n",
    "\n",
    "en los inicios del desarrollo de la Inteligencia artificial, se pensaba que la obtención de información en el medio visual iba a ser una tarea sencilla. Algo muy alejado de la verdad\n",
    "\n",
    "<figure>\n",
    "<center>\n",
    "<img src=\"../Imagenes/tasks.png\" width=\"200\" height=\"400\" align=\"center\"/> \n",
    "<figcaption>Fuente: xkcd.com</figcaption>\n",
    "</center>\n",
    "</figure>\n",
    "\n",
    "¿Por qué es tan difícil esta tarea? Porque estamos haciendo lo inverso a lo usual.\n",
    "\n",
    "El campo de los gráficos de computador, en muchos casos, trata de simular el mundo y sus propiedades, y lo proyecta en una pantalla.\n",
    "\n",
    "<figure>\n",
    "<center>\n",
    "<img src=\"../Imagenes/aloy-horizon-forbidden-west.gif\" width=\"600\" height=\"400\" align=\"center\"/> \n",
    "<figcaption>Fuente: Horizon Forbidden West</figcaption>\n",
    "</center>\n",
    "</figure>\n",
    "\n",
    "En la Visión por computadora estamos haciendo lo contrario. A partir de una pantalla o una imagen en 2D, queremos recuperar la información, y describir el mundo a nuestro alrededor. Algo que los humanos logramos de forma natural.\n",
    "\n",
    "A pesar de que aún no es posible que la inteligencia artificial logre los mismo resultados que los seres vivos, no signfica que no han habido grandes investigaciones y desarrollos en este campo. Las últimas dos décadas han visto increible crecimiento en el desarrollo visual, y mucho de esto es debido al poder de los datos y el desarrollo logrado por estos: Machine Learning y Deep Learning."
   ]
  },
  {
   "cell_type": "markdown",
   "id": "a6cda94c-8680-4a0f-ab9d-168dd74f01fc",
   "metadata": {},
   "source": [
    "## <span style=\"color:blue\">Un poco de historia</span>"
   ]
  },
  {
   "cell_type": "markdown",
   "id": "df5b14c5-a5ef-4763-83c1-a36fe02e88c6",
   "metadata": {},
   "source": [
    "<figure>\n",
    "<img src=\"../Imagenes/CV_timeline.png\" align=\"center\"/> \n",
    "<figcaption>Fuente: Richard Szeliski</figcaption>\n",
    "</figure>"
   ]
  },
  {
   "cell_type": "markdown",
   "id": "c23e8262-ef9e-4b6d-9bc5-260008d958e7",
   "metadata": {},
   "source": [
    "- 1970\n",
    "    - Inicios en la detección de bordes\n",
    "    - Etiquetado de lineas\n",
    "    - cilíndros generalizados para modelación 3D\n",
    "- 1980\n",
    "    - Representación de pirámide\n",
    "    - Estereo, textura y foco\n",
    "    - Procesamiento de datos tridimensionales\n",
    "- 1990\n",
    "    - Invariantes proyectivas\n",
    "    - Vectores propios para reconocimiento facial\n",
    "    - Integración con técnicas de gráficos de computador\n",
    "- 2000\n",
    "    - Fotografía computacional\n",
    "    - Aprendizaje para reconocimiento de objetos\n",
    "    - Primeras aplicaciones de Machine Learning\n",
    "- 2010\n",
    "    - Uso de Bases de datos etiquetados\n",
    "    - Uso de GPUs\n",
    "    - Deep Learning y grandes arquitecturas"
   ]
  },
  {
   "cell_type": "markdown",
   "id": "0da85808-9c93-4fd5-8b29-1167afc0929e",
   "metadata": {},
   "source": [
    "## <span style=\"color:blue\">El estado del arte</span>"
   ]
  },
  {
   "cell_type": "markdown",
   "id": "8cff67cc-f1a5-4cfe-a921-99084314af79",
   "metadata": {},
   "source": [
    "### <span style=\"color:blue\">Detección Avanzada de Objetos</span>\n",
    "\n",
    "Ya se ha pasado de simples reconocimientos de rostros u objetos específicos a una detección completa, de diferentes asuntos en una misma foto y con altos detalles dentro de la detección\n",
    "\n",
    "<figure>\n",
    "<img src=\"../Imagenes/R-CNN.png\" width=\"600\" height=\"300\" align=\"center\"/> \n",
    "<figcaption>Fuente: towardsdatascience.com</figcaption>\n",
    "</figure>\n",
    "\n",
    "### <span style=\"color:blue\">Redes generativas adversarias</span>\n",
    "\n",
    "Se trabaja con dos modelos. uno que genera nuevas imágenes, y otro que detecta si esta son reales o creadas artificialmente. Se pone a estos dos modelos a \"Competir\", y gradualmente ambos irán mejorando en sus tareas.\n",
    "\n",
    "<figure>\n",
    "<img src=\"../Imagenes/gan1.png\" width=\"400\" height=\"300\" align=\"left\"/> \n",
    "</figure>\n",
    "\n",
    "<figure>\n",
    "<img src=\"../Imagenes/gan2.png\" width=\"400\" height=\"300\" align=\"center\"/> \n",
    "<figcaption>Fuente: tensorflow.com</figcaption>\n",
    "</figure>\n",
    "\n",
    "Entre otras aplicaciones se encuentra la generación de contenido de alta definición a base de simples garabatos\n",
    "\n",
    "[![GauGAN](https://img.youtube.com/vi/mlZYRwJ2oJg/0.jpg)](https://www.youtube.com/watch?v=mlZYRwJ2oJg)\n",
    "\n",
    "\n",
    "### <span style=\"color:blue\">Deep Learning Super Sampling</span>\n",
    "\n",
    "Los videojuegos pueden implicar mucho poder en la tarjeta gráfica, en especial cuando se están llegando a resoluciones como 4K y más allá. Además encuentran problemas como el Aliasing.\n",
    "\n",
    "<figure>\n",
    "<img src=\"../Imagenes/aliasing.jpg\" width=\"300\" height=\"300\" align=\"center\"/> \n",
    "<figcaption>Fuente: fotonostra.com</figcaption>\n",
    "</figure>\n",
    "\n",
    "Nvidia para solucionar esto, entrenaron su propia red neuronal con una base de datos de múltiples capturas de juegos en múltiples resoluciones. Con esto el modelo aprende cómo las imágenes se deben ver\n",
    "\n",
    "[![DLSS](https://img.youtube.com/vi/SBjL0M25t04/0.jpg)](https://www.youtube.com/watch?v=SBjL0M25t04)\n",
    "\n",
    "### <span style=\"color:blue\">Estimación de poses</span>\n",
    "\n",
    "<figure>\n",
    "<center>\n",
    "<img src=\"../Imagenes/body_pose.gif\" width=\"200\" height=\"400\"/>\n",
    "</center>\n",
    "</figure>\n",
    "\n",
    "Se entrenan redes cuya intención es detectar cuerpos y a la vez definir dónde están las articulaciones clave. En una imagen es sencillo, pero mezclamos todo esto en video y se vuelve "
   ]
  },
  {
   "cell_type": "markdown",
   "id": "51064896-6306-4466-9241-c8a9d714f8e6",
   "metadata": {},
   "source": [
    "## <span style=\"color:blue\">Paquetes a utilizar</span>"
   ]
  },
  {
   "cell_type": "markdown",
   "id": "c4309eec-6a59-457d-abf5-c3357d67256f",
   "metadata": {},
   "source": [
    "<figure>\n",
    "<img src=\"../Imagenes/OpenCV_Logo.png\" width=\"200\" height=\"200\" align=\"right\"/> \n",
    "</figure>\n",
    "\n",
    "### OpenCV \n",
    "libreria de software libre que contiene los algoritmos necesarios para el desarrollo de Visión artificial. Entre sus capacidades está el procesamiento de imágenes, análisis de video, calibración de cámaras y detección de objetos"
   ]
  },
  {
   "attachments": {
    "e2b1d1a5-ef69-4253-92f5-320dd298d3bb.png": {
     "image/png": "[encoded data removed]"
    }
   },
   "cell_type": "markdown",
   "id": "2c147c30-6d14-4a6b-a242-4adcd1c469b4",
   "metadata": {},
   "source": [
    "<figure>\n",
    "<img src=\"../Imagenes/Librosa_Logo.png\" width=\"200\" height=\"200\" align=\"left\"/> \n",
    "</figure>\n",
    "\n",
    "### Librosa\n",
    "libreria para procesamiento y análisis de música y audio. Cuenta con extracción de características, decomposición, filtros, entre otras cosas. Se usa a la par con Tensorflow"
   ]
  },
  {
   "cell_type": "markdown",
   "id": "db59c356-a14d-476a-b0eb-55e31851fbf9",
   "metadata": {},
   "source": []
  }
 ],
 "metadata": {
  "kernelspec": {
   "display_name": "Python 3.10.6 64-bit",
   "language": "python",
   "name": "python3"
  },
  "language_info": {
   "codemirror_mode": {
    "name": "ipython",
    "version": 3
   },
   "file_extension": ".py",
   "mimetype": "text/x-python",
   "name": "python",
   "nbconvert_exporter": "python",
   "pygments_lexer": "ipython3",
   "version": "3.10.6"
  },
  "vscode": {
   "interpreter": {
    "hash": "e7370f93d1d0cde622a1f8e1c04877d8463912d04d973331ad4851f04de6915a"
   }
  }
 },
 "nbformat": 4,
 "nbformat_minor": 5
}
