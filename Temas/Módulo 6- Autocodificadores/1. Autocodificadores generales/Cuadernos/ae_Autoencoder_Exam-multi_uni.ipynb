{
 "cells": [
  {
   "cell_type": "markdown",
   "metadata": {},
   "source": [
    "**Curso de Inteligencia Artificial y Aprendizaje Profundo**\n"
   ]
  },
  {
   "cell_type": "markdown",
   "metadata": {},
   "source": [
    "# Autoencoder multiple entrada"
   ]
  },
  {
   "cell_type": "markdown",
   "metadata": {},
   "source": [
    "##  Autores"
   ]
  },
  {
   "cell_type": "markdown",
   "metadata": {},
   "source": [
    "1. Alvaro Mauricio Montenegro Díaz, ammontenegrod@unal.edu.co\n",
    "2. Daniel Mauricio Montenegro Reyes, dextronomo@gmail.com \n",
    "3. Oleg Jarma, ojarmam@unal.edu.co\n",
    "4. Maria del Pilar Montenegro, pmontenegro88@gmail.com"
   ]
  },
  {
   "cell_type": "markdown",
   "metadata": {},
   "source": [
    "## Referencias"
   ]
  },
  {
   "cell_type": "markdown",
   "metadata": {},
   "source": [
    "1. "
   ]
  },
  {
   "cell_type": "markdown",
   "metadata": {},
   "source": [
    "## Contenido"
   ]
  },
  {
   "cell_type": "markdown",
   "metadata": {},
   "source": [
    "* [Introducción](#Introducción)\n",
    "* [Importa módulos](#Importa-módulos)\n",
    "* [Los datos](#Los-datos)\n",
    "* [Separa áreas](#Separa-áreas)\n",
    "* [Separa datos de entrenamiento y validación](#Separa-datos-de-entrenamiento-y-validación)\n",
    "* [Modelo línea base](#Modelo-línea-base)\n",
    "* [Compila](#Compila)\n",
    "* [Entrena](#Entrena)\n",
    "* [Recupera parámetros de los ítems](#Recupera-parámetros-de-los-ítems)\n",
    "* [Gráficos](#Gráficos)"
   ]
  },
  {
   "cell_type": "markdown",
   "metadata": {},
   "source": [
    "## Introducción"
   ]
  },
  {
   "cell_type": "raw",
   "metadata": {},
   "source": [
    "Construimos un autoencoder para una prueba de Estado."
   ]
  },
  {
   "cell_type": "markdown",
   "metadata": {},
   "source": [
    "## Importa módulos"
   ]
  },
  {
   "cell_type": "code",
   "execution_count": 1,
   "metadata": {},
   "outputs": [],
   "source": [
    "import numpy as np\n",
    "import pandas as pd\n",
    "\n",
    "import tensorflow as tf\n",
    "#from tensorflow.keras import backend as K\n",
    "\n",
    "from tensorflow.keras.layers import Input, Dense, LayerNormalization\n",
    "from tensorflow.keras.layers import Reshape, Concatenate, Activation\n",
    "from tensorflow.keras.layers import Lambda\n",
    "\n",
    "from tensorflow.keras.models import Model\n",
    "\n",
    "from tensorflow.keras.utils import plot_model\n",
    "\n",
    "from tensorflow.keras.losses import  mse, binary_crossentropy\n",
    "from tensorflow.keras.optimizers import Adam\n",
    "\n",
    "from sklearn.preprocessing import StandardScaler\n",
    "\n",
    "from tensorflow.keras import regularizers\n",
    "\n",
    "from tensorflow.keras.constraints import non_neg"
   ]
  },
  {
   "cell_type": "markdown",
   "metadata": {},
   "source": [
    "## Los datos"
   ]
  },
  {
   "cell_type": "markdown",
   "metadata": {},
   "source": [
    "Son 93 items que corresponde a 5 pruebas: "
   ]
  },
  {
   "cell_type": "code",
   "execution_count": 2,
   "metadata": {},
   "outputs": [],
   "source": [
    "# Lee los datos\n",
    "#read csv\n",
    "#datos = pd.read_csv(\"../Datos/items_93.csv\")\n",
    "#constructs = pd.read_csv(\"../Datos/items_areas_93.csv\")\n",
    "# read pickel\n",
    "datos = pd.read_pickle(\"../Datos/items_93.pkl\")\n",
    "areas = pd.read_pickle(\"../Datos/items_areas_93.pkl\")"
   ]
  },
  {
   "cell_type": "code",
   "execution_count": 3,
   "metadata": {},
   "outputs": [
    {
     "data": {
      "text/html": [
       "<div>\n",
       "<style scoped>\n",
       "    .dataframe tbody tr th:only-of-type {\n",
       "        vertical-align: middle;\n",
       "    }\n",
       "\n",
       "    .dataframe tbody tr th {\n",
       "        vertical-align: top;\n",
       "    }\n",
       "\n",
       "    .dataframe thead th {\n",
       "        text-align: right;\n",
       "    }\n",
       "</style>\n",
       "<table border=\"1\" class=\"dataframe\">\n",
       "  <thead>\n",
       "    <tr style=\"text-align: right;\">\n",
       "      <th></th>\n",
       "      <th>I1</th>\n",
       "      <th>I2</th>\n",
       "      <th>I3</th>\n",
       "      <th>I4</th>\n",
       "      <th>I5</th>\n",
       "      <th>I6</th>\n",
       "      <th>I7</th>\n",
       "      <th>I9</th>\n",
       "      <th>I10</th>\n",
       "      <th>I12</th>\n",
       "      <th>...</th>\n",
       "      <th>I111</th>\n",
       "      <th>I112</th>\n",
       "      <th>I113</th>\n",
       "      <th>I114</th>\n",
       "      <th>I115</th>\n",
       "      <th>I116</th>\n",
       "      <th>I117</th>\n",
       "      <th>I118</th>\n",
       "      <th>I119</th>\n",
       "      <th>I120</th>\n",
       "    </tr>\n",
       "  </thead>\n",
       "  <tbody>\n",
       "    <tr>\n",
       "      <th>0</th>\n",
       "      <td>1</td>\n",
       "      <td>0</td>\n",
       "      <td>0</td>\n",
       "      <td>0</td>\n",
       "      <td>0</td>\n",
       "      <td>0</td>\n",
       "      <td>0</td>\n",
       "      <td>1</td>\n",
       "      <td>0</td>\n",
       "      <td>1</td>\n",
       "      <td>...</td>\n",
       "      <td>1</td>\n",
       "      <td>0</td>\n",
       "      <td>0</td>\n",
       "      <td>1</td>\n",
       "      <td>0</td>\n",
       "      <td>0</td>\n",
       "      <td>1</td>\n",
       "      <td>1</td>\n",
       "      <td>1</td>\n",
       "      <td>0</td>\n",
       "    </tr>\n",
       "    <tr>\n",
       "      <th>1</th>\n",
       "      <td>0</td>\n",
       "      <td>0</td>\n",
       "      <td>0</td>\n",
       "      <td>0</td>\n",
       "      <td>0</td>\n",
       "      <td>0</td>\n",
       "      <td>1</td>\n",
       "      <td>1</td>\n",
       "      <td>1</td>\n",
       "      <td>1</td>\n",
       "      <td>...</td>\n",
       "      <td>1</td>\n",
       "      <td>1</td>\n",
       "      <td>1</td>\n",
       "      <td>0</td>\n",
       "      <td>1</td>\n",
       "      <td>1</td>\n",
       "      <td>1</td>\n",
       "      <td>1</td>\n",
       "      <td>0</td>\n",
       "      <td>0</td>\n",
       "    </tr>\n",
       "    <tr>\n",
       "      <th>2</th>\n",
       "      <td>0</td>\n",
       "      <td>0</td>\n",
       "      <td>0</td>\n",
       "      <td>0</td>\n",
       "      <td>0</td>\n",
       "      <td>0</td>\n",
       "      <td>1</td>\n",
       "      <td>0</td>\n",
       "      <td>1</td>\n",
       "      <td>0</td>\n",
       "      <td>...</td>\n",
       "      <td>0</td>\n",
       "      <td>0</td>\n",
       "      <td>1</td>\n",
       "      <td>0</td>\n",
       "      <td>0</td>\n",
       "      <td>0</td>\n",
       "      <td>1</td>\n",
       "      <td>1</td>\n",
       "      <td>1</td>\n",
       "      <td>0</td>\n",
       "    </tr>\n",
       "    <tr>\n",
       "      <th>3</th>\n",
       "      <td>1</td>\n",
       "      <td>1</td>\n",
       "      <td>0</td>\n",
       "      <td>1</td>\n",
       "      <td>0</td>\n",
       "      <td>0</td>\n",
       "      <td>1</td>\n",
       "      <td>1</td>\n",
       "      <td>0</td>\n",
       "      <td>1</td>\n",
       "      <td>...</td>\n",
       "      <td>0</td>\n",
       "      <td>0</td>\n",
       "      <td>0</td>\n",
       "      <td>0</td>\n",
       "      <td>1</td>\n",
       "      <td>0</td>\n",
       "      <td>0</td>\n",
       "      <td>0</td>\n",
       "      <td>1</td>\n",
       "      <td>1</td>\n",
       "    </tr>\n",
       "    <tr>\n",
       "      <th>4</th>\n",
       "      <td>1</td>\n",
       "      <td>0</td>\n",
       "      <td>0</td>\n",
       "      <td>0</td>\n",
       "      <td>0</td>\n",
       "      <td>0</td>\n",
       "      <td>0</td>\n",
       "      <td>1</td>\n",
       "      <td>0</td>\n",
       "      <td>0</td>\n",
       "      <td>...</td>\n",
       "      <td>1</td>\n",
       "      <td>1</td>\n",
       "      <td>0</td>\n",
       "      <td>0</td>\n",
       "      <td>0</td>\n",
       "      <td>0</td>\n",
       "      <td>1</td>\n",
       "      <td>1</td>\n",
       "      <td>1</td>\n",
       "      <td>1</td>\n",
       "    </tr>\n",
       "  </tbody>\n",
       "</table>\n",
       "<p>5 rows × 93 columns</p>\n",
       "</div>"
      ],
      "text/plain": [
       "   I1  I2  I3  I4  I5  I6  I7  I9  I10  I12  ...  I111  I112  I113  I114  \\\n",
       "0   1   0   0   0   0   0   0   1    0    1  ...     1     0     0     1   \n",
       "1   0   0   0   0   0   0   1   1    1    1  ...     1     1     1     0   \n",
       "2   0   0   0   0   0   0   1   0    1    0  ...     0     0     1     0   \n",
       "3   1   1   0   1   0   0   1   1    0    1  ...     0     0     0     0   \n",
       "4   1   0   0   0   0   0   0   1    0    0  ...     1     1     0     0   \n",
       "\n",
       "   I115  I116  I117  I118  I119  I120  \n",
       "0     0     0     1     1     1     0  \n",
       "1     1     1     1     1     0     0  \n",
       "2     0     0     1     1     1     0  \n",
       "3     1     0     0     0     1     1  \n",
       "4     0     0     1     1     1     1  \n",
       "\n",
       "[5 rows x 93 columns]"
      ]
     },
     "execution_count": 3,
     "metadata": {},
     "output_type": "execute_result"
    }
   ],
   "source": [
    "datos.head()"
   ]
  },
  {
   "cell_type": "code",
   "execution_count": 4,
   "metadata": {},
   "outputs": [
    {
     "data": {
      "text/html": [
       "<div>\n",
       "<style scoped>\n",
       "    .dataframe tbody tr th:only-of-type {\n",
       "        vertical-align: middle;\n",
       "    }\n",
       "\n",
       "    .dataframe tbody tr th {\n",
       "        vertical-align: top;\n",
       "    }\n",
       "\n",
       "    .dataframe thead th {\n",
       "        text-align: right;\n",
       "    }\n",
       "</style>\n",
       "<table border=\"1\" class=\"dataframe\">\n",
       "  <thead>\n",
       "    <tr style=\"text-align: right;\">\n",
       "      <th></th>\n",
       "      <th>item</th>\n",
       "      <th>Id_item</th>\n",
       "      <th>construct_name</th>\n",
       "      <th>construct_nick</th>\n",
       "      <th>Id_construct</th>\n",
       "    </tr>\n",
       "  </thead>\n",
       "  <tbody>\n",
       "    <tr>\n",
       "      <th>0</th>\n",
       "      <td>I1</td>\n",
       "      <td>1</td>\n",
       "      <td>Textual</td>\n",
       "      <td>\"T\"</td>\n",
       "      <td>1</td>\n",
       "    </tr>\n",
       "    <tr>\n",
       "      <th>1</th>\n",
       "      <td>I2</td>\n",
       "      <td>2</td>\n",
       "      <td>Ciencias</td>\n",
       "      <td>\"C\"</td>\n",
       "      <td>3</td>\n",
       "    </tr>\n",
       "    <tr>\n",
       "      <th>2</th>\n",
       "      <td>I3</td>\n",
       "      <td>3</td>\n",
       "      <td>Ciencias</td>\n",
       "      <td>\"C\"</td>\n",
       "      <td>3</td>\n",
       "    </tr>\n",
       "    <tr>\n",
       "      <th>3</th>\n",
       "      <td>I4</td>\n",
       "      <td>4</td>\n",
       "      <td>Ciencias</td>\n",
       "      <td>\"C\"</td>\n",
       "      <td>3</td>\n",
       "    </tr>\n",
       "    <tr>\n",
       "      <th>4</th>\n",
       "      <td>I5</td>\n",
       "      <td>5</td>\n",
       "      <td>Ciencias</td>\n",
       "      <td>\"C\"</td>\n",
       "      <td>3</td>\n",
       "    </tr>\n",
       "  </tbody>\n",
       "</table>\n",
       "</div>"
      ],
      "text/plain": [
       "  item  Id_item construct_name construct_nick  Id_construct\n",
       "0   I1        1        Textual            \"T\"             1\n",
       "1   I2        2       Ciencias            \"C\"             3\n",
       "2   I3        3       Ciencias            \"C\"             3\n",
       "3   I4        4       Ciencias            \"C\"             3\n",
       "4   I5        5       Ciencias            \"C\"             3"
      ]
     },
     "execution_count": 4,
     "metadata": {},
     "output_type": "execute_result"
    }
   ],
   "source": [
    "areas.head() "
   ]
  },
  {
   "cell_type": "markdown",
   "metadata": {},
   "source": [
    "## Separa áreas"
   ]
  },
  {
   "cell_type": "code",
   "execution_count": 5,
   "metadata": {},
   "outputs": [],
   "source": [
    "# índices de items\n",
    "tex_item = areas[areas.Id_construct==1]['item'].values\n",
    "mat_item = areas[areas.Id_construct==2]['item'].values\n",
    "cie_item = areas[areas.Id_construct==3]['item'].values\n",
    "soc_item = areas[areas.Id_construct==4]['item'].values\n",
    "ima_item = areas[areas.Id_construct==5]['item'].values\n",
    "# Datos por áreas, no requerido de momento\n",
    "tex_data = pd.DataFrame(datos[tex_item])\n",
    "mat_data = pd.DataFrame(datos[mat_item])\n",
    "cie_data = pd.DataFrame(datos[cie_item])\n",
    "soc_data = pd.DataFrame(datos[soc_item])\n",
    "ima_data = pd.DataFrame(datos[ima_item])"
   ]
  },
  {
   "cell_type": "markdown",
   "metadata": {},
   "source": [
    "## Separa datos de entrenamiento y validación"
   ]
  },
  {
   "cell_type": "code",
   "execution_count": 7,
   "metadata": {},
   "outputs": [
    {
     "name": "stdout",
     "output_type": "stream",
     "text": [
      "Tamaño de Datos de Entrenamiento: (32005, 13)\n",
      "Tamaño de Datos de Test         : (3557, 13)\n",
      "Total de Datos                 : 35562\n"
     ]
    }
   ],
   "source": [
    "N = len(datos)# 35562\n",
    "\n",
    "# Porcentaje de entrenamiento\n",
    "\n",
    "pe = 0.9           # Porcentaje de Entrenamiento\n",
    "pt = round(1-pe,2) # Porcentaje de Test\n",
    "\n",
    "# Número de datos de entrenamiento\n",
    "train = int(N*pe)\n",
    "# Número de datos de test\n",
    "test = N-train\n",
    "\n",
    "# Fijar semilla para reproducibilidad\n",
    "np.random.seed(11)\n",
    "\n",
    "# Elegir los indices de las filas a seleccionar \n",
    "# para entrenamiento de manera aleatoria\n",
    "train_choice = np.random.choice(N,train,replace=False)\n",
    "# Elegir los indices de las filas a seleccionar para test \n",
    "test_choice=np.setdiff1d(range(N),train_choice) \n",
    "\n",
    "# Extraer datos seleccionados: features = labels\n",
    "x_train_tex = tex_data.iloc[train_choice,:]\n",
    "x_train_mat = mat_data.iloc[train_choice,:]\n",
    "x_train_cie = cie_data.iloc[train_choice,:]\n",
    "x_train_soc = soc_data.iloc[train_choice,:]\n",
    "x_train_ima = ima_data.iloc[train_choice,:]\n",
    "x_train = [x_train_tex, x_train_mat, x_train_cie, x_train_soc, x_train_ima]\n",
    "x_target = np.hstack([x_train_tex, x_train_mat,\n",
    "                         x_train_cie, x_train_soc,\n",
    "                         x_train_ima])\n",
    "\n",
    "# Extraer datos seleccionados\n",
    "x_test_tex = tex_data.iloc[test_choice,:]\n",
    "x_test_mat = mat_data.iloc[test_choice,:]\n",
    "x_test_cie = cie_data.iloc[test_choice,:]\n",
    "x_test_soc = soc_data.iloc[test_choice,:]\n",
    "x_test_ima = ima_data.iloc[test_choice,:]\n",
    "x_test = [x_test_tex, x_test_mat, x_test_cie, x_test_soc, x_test_ima]\n",
    "x_target_test = np.hstack([x_test_tex, x_test_mat,\n",
    "                         x_test_cie, x_test_soc,\n",
    "                         x_test_ima])\n",
    "\n",
    "\n",
    "print(\"Tamaño de Datos de Entrenamiento:\",x_train_tex.shape)\n",
    "print(\"Tamaño de Datos de Test         :\",x_test_tex.shape)\n",
    "print(\"Total de Datos                 :\",len(x_train_mat)+len(x_test_mat))"
   ]
  },
  {
   "cell_type": "markdown",
   "metadata": {},
   "source": [
    "## Modelo multi-unidimensional"
   ]
  },
  {
   "cell_type": "markdown",
   "metadata": {},
   "source": [
    "### Configuración"
   ]
  },
  {
   "cell_type": "code",
   "execution_count": 8,
   "metadata": {},
   "outputs": [],
   "source": [
    "# size proportion of dims\n",
    "k = 2 \n",
    "# latent space dimension\n",
    "dim_latent = 5\n",
    "\n",
    "# input shapes\n",
    "inputs_shape = []\n",
    "inputs_shape.append((x_train_tex.shape[1],))\n",
    "inputs_shape.append((x_train_mat.shape[1],))\n",
    "inputs_shape.append((x_train_cie.shape[1],))\n",
    "inputs_shape.append((x_train_soc.shape[1],))\n",
    "inputs_shape.append((x_train_ima.shape[1],))\n",
    "\n",
    "areas_name = []\n",
    "areas_name.append('Textual')\n",
    "areas_name.append('Matematicas')\n",
    "areas_name.append('Ciencias')\n",
    "areas_name.append('Sociales')\n",
    "areas_name.append('Imagen')\n",
    "\n",
    "dim_1 = []\n",
    "dim_1.append(k*x_train_tex.shape[1])\n",
    "dim_1.append(k*x_train_mat.shape[1])\n",
    "dim_1.append(k*x_train_cie.shape[1])\n",
    "dim_1.append(k*x_train_soc.shape[1])\n",
    "dim_1.append(k*x_train_ima.shape[1])\n",
    "\n",
    "dim_2 = []\n",
    "dim_2.append(x_train_tex.shape[1])\n",
    "dim_2.append(x_train_mat.shape[1])\n",
    "dim_2.append(x_train_cie.shape[1])\n",
    "dim_2.append(x_train_soc.shape[1])\n",
    "dim_2.append(x_train_ima.shape[1])\n",
    "\n"
   ]
  },
  {
   "cell_type": "markdown",
   "metadata": {},
   "source": [
    "### Encoder"
   ]
  },
  {
   "cell_type": "code",
   "execution_count": 9,
   "metadata": {},
   "outputs": [],
   "source": [
    "# inputs\n",
    "num_areas = len(areas_name)\n",
    "x_list = []\n",
    "inputs = []\n",
    "for i in range(num_areas):\n",
    "    inputs.append(Input(shape=inputs_shape[i], name=areas_name[i]))\n",
    "\n",
    "# part 1. separate inputs\n",
    "for i in range(num_areas):\n",
    "    x = inputs[i]\n",
    "    x = Dense(dim_1[i], name='hidden_layer_1_'+ areas_name[i], activation = 'relu')(x)\n",
    "    x = Dense(dim_2[i], name='hidden_layer_2_'+ areas_name[i], activation = 'relu')(x)\n",
    "    x_list.append(x)\n",
    "\n",
    "# part 2. concatena\n",
    "x = Concatenate(name='concatenate_layer')(x_list)\n",
    "\n",
    "# part 3. latent space\n",
    "latent = Dense(dim_latent, name='latent_layer', activation='tanh')(x)\n",
    "\n",
    "# Model\n",
    "encoder_multi_uni = Model(inputs, latent, name='encoder_multi_uni')"
   ]
  },
  {
   "cell_type": "markdown",
   "metadata": {},
   "source": [
    "### Summary"
   ]
  },
  {
   "cell_type": "code",
   "execution_count": 10,
   "metadata": {},
   "outputs": [
    {
     "name": "stdout",
     "output_type": "stream",
     "text": [
      "Model: \"encoder_multi_uni\"\n",
      "__________________________________________________________________________________________________\n",
      "Layer (type)                    Output Shape         Param #     Connected to                     \n",
      "==================================================================================================\n",
      "Textual (InputLayer)            [(None, 13)]         0                                            \n",
      "__________________________________________________________________________________________________\n",
      "Matematicas (InputLayer)        [(None, 18)]         0                                            \n",
      "__________________________________________________________________________________________________\n",
      "Ciencias (InputLayer)           [(None, 26)]         0                                            \n",
      "__________________________________________________________________________________________________\n",
      "Sociales (InputLayer)           [(None, 22)]         0                                            \n",
      "__________________________________________________________________________________________________\n",
      "Imagen (InputLayer)             [(None, 14)]         0                                            \n",
      "__________________________________________________________________________________________________\n",
      "hidden_layer_1_Textual (Dense)  (None, 26)           364         Textual[0][0]                    \n",
      "__________________________________________________________________________________________________\n",
      "hidden_layer_1_Matematicas (Den (None, 36)           684         Matematicas[0][0]                \n",
      "__________________________________________________________________________________________________\n",
      "hidden_layer_1_Ciencias (Dense) (None, 52)           1404        Ciencias[0][0]                   \n",
      "__________________________________________________________________________________________________\n",
      "hidden_layer_1_Sociales (Dense) (None, 44)           1012        Sociales[0][0]                   \n",
      "__________________________________________________________________________________________________\n",
      "hidden_layer_1_Imagen (Dense)   (None, 28)           420         Imagen[0][0]                     \n",
      "__________________________________________________________________________________________________\n",
      "hidden_layer_2_Textual (Dense)  (None, 13)           351         hidden_layer_1_Textual[0][0]     \n",
      "__________________________________________________________________________________________________\n",
      "hidden_layer_2_Matematicas (Den (None, 18)           666         hidden_layer_1_Matematicas[0][0] \n",
      "__________________________________________________________________________________________________\n",
      "hidden_layer_2_Ciencias (Dense) (None, 26)           1378        hidden_layer_1_Ciencias[0][0]    \n",
      "__________________________________________________________________________________________________\n",
      "hidden_layer_2_Sociales (Dense) (None, 22)           990         hidden_layer_1_Sociales[0][0]    \n",
      "__________________________________________________________________________________________________\n",
      "hidden_layer_2_Imagen (Dense)   (None, 14)           406         hidden_layer_1_Imagen[0][0]      \n",
      "__________________________________________________________________________________________________\n",
      "concatenate_layer (Concatenate) (None, 93)           0           hidden_layer_2_Textual[0][0]     \n",
      "                                                                 hidden_layer_2_Matematicas[0][0] \n",
      "                                                                 hidden_layer_2_Ciencias[0][0]    \n",
      "                                                                 hidden_layer_2_Sociales[0][0]    \n",
      "                                                                 hidden_layer_2_Imagen[0][0]      \n",
      "__________________________________________________________________________________________________\n",
      "latent_layer (Dense)            (None, 5)            470         concatenate_layer[0][0]          \n",
      "==================================================================================================\n",
      "Total params: 8,145\n",
      "Trainable params: 8,145\n",
      "Non-trainable params: 0\n",
      "__________________________________________________________________________________________________\n"
     ]
    },
    {
     "data": {
      "image/png": "[encoded data removed]",
      "text/plain": [
       "<IPython.core.display.Image object>"
      ]
     },
     "execution_count": 10,
     "metadata": {},
     "output_type": "execute_result"
    }
   ],
   "source": [
    "encoder_multi_uni.summary()\n",
    "plot_model(encoder_multi_uni, to_file='../Imagenes/encoder_multi_uni.png',show_shapes=True)"
   ]
  },
  {
   "cell_type": "markdown",
   "metadata": {},
   "source": [
    "### Decoder"
   ]
  },
  {
   "cell_type": "code",
   "execution_count": 11,
   "metadata": {},
   "outputs": [],
   "source": [
    "# decoder\n",
    "#\n",
    "inputs_dec = Input(shape = (dim_latent,))\n",
    "outputs_dec = Dense(datos.shape[1], name='generate_prob_data',activation='sigmoid',\n",
    "               kernel_constraint=non_neg(), kernel_regularizer=regularizers.l2(1e-6))(inputs_dec)\n",
    "#\n",
    "decoder_multi_uni = Model(inputs=inputs_dec,outputs= outputs_dec, name='decoder_multi_uni')\n",
    "#"
   ]
  },
  {
   "cell_type": "markdown",
   "metadata": {},
   "source": [
    "### Summary"
   ]
  },
  {
   "cell_type": "code",
   "execution_count": 12,
   "metadata": {},
   "outputs": [
    {
     "name": "stdout",
     "output_type": "stream",
     "text": [
      "Model: \"decoder_multi_uni\"\n",
      "_________________________________________________________________\n",
      "Layer (type)                 Output Shape              Param #   \n",
      "=================================================================\n",
      "input_1 (InputLayer)         [(None, 5)]               0         \n",
      "_________________________________________________________________\n",
      "generate_prob_data (Dense)   (None, 93)                558       \n",
      "=================================================================\n",
      "Total params: 558\n",
      "Trainable params: 558\n",
      "Non-trainable params: 0\n",
      "_________________________________________________________________\n"
     ]
    },
    {
     "data": {
      "image/png": "[encoded data removed]",
      "text/plain": [
       "<IPython.core.display.Image object>"
      ]
     },
     "execution_count": 12,
     "metadata": {},
     "output_type": "execute_result"
    }
   ],
   "source": [
    "decoder_multi_uni.summary()\n",
    "plot_model(decoder_multi_uni, to_file='decoder_multi_uni.png',show_shapes=True)"
   ]
  },
  {
   "cell_type": "markdown",
   "metadata": {},
   "source": [
    "### Autoencoder"
   ]
  },
  {
   "cell_type": "code",
   "execution_count": 13,
   "metadata": {},
   "outputs": [],
   "source": [
    "# Instantiate autoencoder model\n",
    "autoencoder_multi_uni = Model(inputs= inputs, outputs=decoder_multi_uni(encoder_multi_uni(inputs)),\n",
    "                   name='autoencoder_multi_uni')"
   ]
  },
  {
   "cell_type": "markdown",
   "metadata": {},
   "source": [
    "#### Summary"
   ]
  },
  {
   "cell_type": "code",
   "execution_count": 14,
   "metadata": {},
   "outputs": [
    {
     "name": "stdout",
     "output_type": "stream",
     "text": [
      "Model: \"autoencoder_multi_uni\"\n",
      "__________________________________________________________________________________________________\n",
      "Layer (type)                    Output Shape         Param #     Connected to                     \n",
      "==================================================================================================\n",
      "Textual (InputLayer)            [(None, 13)]         0                                            \n",
      "__________________________________________________________________________________________________\n",
      "Matematicas (InputLayer)        [(None, 18)]         0                                            \n",
      "__________________________________________________________________________________________________\n",
      "Ciencias (InputLayer)           [(None, 26)]         0                                            \n",
      "__________________________________________________________________________________________________\n",
      "Sociales (InputLayer)           [(None, 22)]         0                                            \n",
      "__________________________________________________________________________________________________\n",
      "Imagen (InputLayer)             [(None, 14)]         0                                            \n",
      "__________________________________________________________________________________________________\n",
      "encoder_multi_uni (Model)       (None, 5)            8145        Textual[0][0]                    \n",
      "                                                                 Matematicas[0][0]                \n",
      "                                                                 Ciencias[0][0]                   \n",
      "                                                                 Sociales[0][0]                   \n",
      "                                                                 Imagen[0][0]                     \n",
      "__________________________________________________________________________________________________\n",
      "decoder_multi_uni (Model)       (None, 93)           558         encoder_multi_uni[1][0]          \n",
      "==================================================================================================\n",
      "Total params: 8,703\n",
      "Trainable params: 8,703\n",
      "Non-trainable params: 0\n",
      "__________________________________________________________________________________________________\n"
     ]
    },
    {
     "data": {
      "image/png": "[encoded data removed]",
      "text/plain": [
       "<IPython.core.display.Image object>"
      ]
     },
     "execution_count": 14,
     "metadata": {},
     "output_type": "execute_result"
    }
   ],
   "source": [
    "autoencoder_multi_uni.summary()\n",
    "plot_model(autoencoder_multi_uni, to_file='../Imagenes/autoencoder_multi_uni.png',show_shapes=True)"
   ]
  },
  {
   "cell_type": "markdown",
   "metadata": {},
   "source": [
    "## Compila "
   ]
  },
  {
   "cell_type": "markdown",
   "metadata": {},
   "source": [
    "Aquí se introduce el modelo irt 2pl. "
   ]
  },
  {
   "cell_type": "code",
   "execution_count": 15,
   "metadata": {},
   "outputs": [],
   "source": [
    "autoencoder_multi_uni.compile(loss= binary_crossentropy,\n",
    "                  optimizer= Adam(),\n",
    "                   metrics=['accuracy'])"
   ]
  },
  {
   "cell_type": "markdown",
   "metadata": {},
   "source": [
    "\n",
    "\n",
    "## Entrena"
   ]
  },
  {
   "cell_type": "code",
   "execution_count": 16,
   "metadata": {},
   "outputs": [
    {
     "name": "stdout",
     "output_type": "stream",
     "text": [
      "Train on 25604 samples, validate on 6401 samples\n",
      "Epoch 1/10\n",
      "25604/25604 [==============================] - 10s 387us/sample - loss: 0.6024 - accuracy: 0.6875 - val_loss: 0.5778 - val_accuracy: 0.7027\n",
      "Epoch 2/10\n",
      "25604/25604 [==============================] - 6s 226us/sample - loss: 0.5735 - accuracy: 0.7043 - val_loss: 0.5684 - val_accuracy: 0.7074\n",
      "Epoch 3/10\n",
      "25604/25604 [==============================] - 5s 203us/sample - loss: 0.5670 - accuracy: 0.7084 - val_loss: 0.5640 - val_accuracy: 0.7104\n",
      "Epoch 4/10\n",
      "25604/25604 [==============================] - 6s 230us/sample - loss: 0.5637 - accuracy: 0.7107 - val_loss: 0.5617 - val_accuracy: 0.7118\n",
      "Epoch 5/10\n",
      "25604/25604 [==============================] - 6s 235us/sample - loss: 0.5619 - accuracy: 0.7118 - val_loss: 0.5603 - val_accuracy: 0.7124\n",
      "Epoch 6/10\n",
      "25604/25604 [==============================] - 5s 212us/sample - loss: 0.5608 - accuracy: 0.7122 - val_loss: 0.5594 - val_accuracy: 0.7130\n",
      "Epoch 7/10\n",
      "25604/25604 [==============================] - 6s 218us/sample - loss: 0.5600 - accuracy: 0.7126 - val_loss: 0.5588 - val_accuracy: 0.7131\n",
      "Epoch 8/10\n",
      "25604/25604 [==============================] - 6s 233us/sample - loss: 0.5595 - accuracy: 0.7128 - val_loss: 0.5583 - val_accuracy: 0.7132\n",
      "Epoch 9/10\n",
      "25604/25604 [==============================] - 5s 204us/sample - loss: 0.5561 - accuracy: 0.7142 - val_loss: 0.5532 - val_accuracy: 0.7154\n",
      "Epoch 10/10\n",
      "25604/25604 [==============================] - 5s 197us/sample - loss: 0.5533 - accuracy: 0.7153 - val_loss: 0.5521 - val_accuracy: 0.7157\n"
     ]
    }
   ],
   "source": [
    "epochs = 10\n",
    "batch_size  = 32\n",
    "#tf.random.set_seed(220)\n",
    "#\n",
    "history = autoencoder_multi_uni.fit(x_train,x_target, epochs= epochs,validation_split=0.2,\n",
    "                             batch_size=batch_size)\n",
    "\n"
   ]
  },
  {
   "cell_type": "markdown",
   "metadata": {},
   "source": [
    "## Recupera parámetros de los ítems"
   ]
  },
  {
   "cell_type": "code",
   "execution_count": 22,
   "metadata": {},
   "outputs": [],
   "source": [
    "item_params  = decoder_multi_uni.get_weights()\n",
    "item_params = np.vstack([np.array(item_params[0]),np.array(item_params[1])])\n",
    "item_params = pd.DataFrame(np .transpose(item_params))\n",
    "\n",
    "#colnames = areas_name + ['intercepto'] \n",
    "colnames =['dim_1', 'dim_2','dim_3','dim_4','dim_5','intercepto']\n",
    "item_params.columns =colnames\n"
   ]
  },
  {
   "cell_type": "code",
   "execution_count": 24,
   "metadata": {},
   "outputs": [
    {
     "data": {
      "text/html": [
       "<div>\n",
       "<style scoped>\n",
       "    .dataframe tbody tr th:only-of-type {\n",
       "        vertical-align: middle;\n",
       "    }\n",
       "\n",
       "    .dataframe tbody tr th {\n",
       "        vertical-align: top;\n",
       "    }\n",
       "\n",
       "    .dataframe thead th {\n",
       "        text-align: right;\n",
       "    }\n",
       "</style>\n",
       "<table border=\"1\" class=\"dataframe\">\n",
       "  <thead>\n",
       "    <tr style=\"text-align: right;\">\n",
       "      <th></th>\n",
       "      <th>dim_1</th>\n",
       "      <th>dim_2</th>\n",
       "      <th>dim_3</th>\n",
       "      <th>dim_4</th>\n",
       "      <th>dim_5</th>\n",
       "      <th>intercepto</th>\n",
       "    </tr>\n",
       "  </thead>\n",
       "  <tbody>\n",
       "    <tr>\n",
       "      <th>73</th>\n",
       "      <td>0.783250</td>\n",
       "      <td>0.014936</td>\n",
       "      <td>0.056178</td>\n",
       "      <td>0.417036</td>\n",
       "      <td>0.000342</td>\n",
       "      <td>0.174604</td>\n",
       "    </tr>\n",
       "    <tr>\n",
       "      <th>74</th>\n",
       "      <td>0.440168</td>\n",
       "      <td>0.338847</td>\n",
       "      <td>0.381606</td>\n",
       "      <td>0.312618</td>\n",
       "      <td>0.728497</td>\n",
       "      <td>-0.151019</td>\n",
       "    </tr>\n",
       "    <tr>\n",
       "      <th>75</th>\n",
       "      <td>0.588449</td>\n",
       "      <td>0.513363</td>\n",
       "      <td>0.769051</td>\n",
       "      <td>0.072598</td>\n",
       "      <td>0.241074</td>\n",
       "      <td>-0.470290</td>\n",
       "    </tr>\n",
       "    <tr>\n",
       "      <th>76</th>\n",
       "      <td>1.021281</td>\n",
       "      <td>0.008987</td>\n",
       "      <td>0.114650</td>\n",
       "      <td>0.398938</td>\n",
       "      <td>-0.000000</td>\n",
       "      <td>0.317895</td>\n",
       "    </tr>\n",
       "    <tr>\n",
       "      <th>77</th>\n",
       "      <td>0.199119</td>\n",
       "      <td>0.373349</td>\n",
       "      <td>0.549417</td>\n",
       "      <td>0.112643</td>\n",
       "      <td>0.233194</td>\n",
       "      <td>-0.346634</td>\n",
       "    </tr>\n",
       "    <tr>\n",
       "      <th>78</th>\n",
       "      <td>0.181603</td>\n",
       "      <td>0.570739</td>\n",
       "      <td>0.689867</td>\n",
       "      <td>0.171710</td>\n",
       "      <td>0.550637</td>\n",
       "      <td>-0.553653</td>\n",
       "    </tr>\n",
       "    <tr>\n",
       "      <th>79</th>\n",
       "      <td>0.245582</td>\n",
       "      <td>0.206698</td>\n",
       "      <td>0.236181</td>\n",
       "      <td>0.932611</td>\n",
       "      <td>0.973906</td>\n",
       "      <td>-0.039936</td>\n",
       "    </tr>\n",
       "    <tr>\n",
       "      <th>80</th>\n",
       "      <td>0.379502</td>\n",
       "      <td>0.003327</td>\n",
       "      <td>0.163707</td>\n",
       "      <td>1.520140</td>\n",
       "      <td>0.867477</td>\n",
       "      <td>0.205521</td>\n",
       "    </tr>\n",
       "    <tr>\n",
       "      <th>81</th>\n",
       "      <td>-0.000000</td>\n",
       "      <td>0.648921</td>\n",
       "      <td>0.407299</td>\n",
       "      <td>0.085042</td>\n",
       "      <td>0.777878</td>\n",
       "      <td>-0.569017</td>\n",
       "    </tr>\n",
       "    <tr>\n",
       "      <th>82</th>\n",
       "      <td>0.482570</td>\n",
       "      <td>0.002837</td>\n",
       "      <td>0.026462</td>\n",
       "      <td>1.577592</td>\n",
       "      <td>0.305957</td>\n",
       "      <td>0.728833</td>\n",
       "    </tr>\n",
       "    <tr>\n",
       "      <th>83</th>\n",
       "      <td>0.041722</td>\n",
       "      <td>0.009215</td>\n",
       "      <td>0.068086</td>\n",
       "      <td>1.137985</td>\n",
       "      <td>0.461031</td>\n",
       "      <td>0.287750</td>\n",
       "    </tr>\n",
       "    <tr>\n",
       "      <th>84</th>\n",
       "      <td>0.007209</td>\n",
       "      <td>0.013921</td>\n",
       "      <td>0.051808</td>\n",
       "      <td>1.177589</td>\n",
       "      <td>0.792669</td>\n",
       "      <td>0.088475</td>\n",
       "    </tr>\n",
       "    <tr>\n",
       "      <th>85</th>\n",
       "      <td>0.000540</td>\n",
       "      <td>0.697534</td>\n",
       "      <td>0.300229</td>\n",
       "      <td>0.305586</td>\n",
       "      <td>0.570175</td>\n",
       "      <td>-0.662418</td>\n",
       "    </tr>\n",
       "    <tr>\n",
       "      <th>86</th>\n",
       "      <td>0.058847</td>\n",
       "      <td>0.230351</td>\n",
       "      <td>0.373447</td>\n",
       "      <td>0.879812</td>\n",
       "      <td>0.811252</td>\n",
       "      <td>-0.224271</td>\n",
       "    </tr>\n",
       "    <tr>\n",
       "      <th>87</th>\n",
       "      <td>0.261796</td>\n",
       "      <td>0.004959</td>\n",
       "      <td>0.073096</td>\n",
       "      <td>3.066476</td>\n",
       "      <td>0.000322</td>\n",
       "      <td>1.559918</td>\n",
       "    </tr>\n",
       "    <tr>\n",
       "      <th>88</th>\n",
       "      <td>0.000446</td>\n",
       "      <td>0.251248</td>\n",
       "      <td>0.100928</td>\n",
       "      <td>1.248724</td>\n",
       "      <td>0.386860</td>\n",
       "      <td>-0.241830</td>\n",
       "    </tr>\n",
       "    <tr>\n",
       "      <th>89</th>\n",
       "      <td>0.002782</td>\n",
       "      <td>0.012576</td>\n",
       "      <td>0.000397</td>\n",
       "      <td>1.946427</td>\n",
       "      <td>-0.000000</td>\n",
       "      <td>1.061296</td>\n",
       "    </tr>\n",
       "    <tr>\n",
       "      <th>90</th>\n",
       "      <td>0.063320</td>\n",
       "      <td>0.008720</td>\n",
       "      <td>0.022256</td>\n",
       "      <td>3.606672</td>\n",
       "      <td>0.163969</td>\n",
       "      <td>0.256954</td>\n",
       "    </tr>\n",
       "    <tr>\n",
       "      <th>91</th>\n",
       "      <td>-0.000000</td>\n",
       "      <td>0.005230</td>\n",
       "      <td>0.000745</td>\n",
       "      <td>4.002598</td>\n",
       "      <td>-0.000000</td>\n",
       "      <td>0.336955</td>\n",
       "    </tr>\n",
       "    <tr>\n",
       "      <th>92</th>\n",
       "      <td>-0.000000</td>\n",
       "      <td>0.065577</td>\n",
       "      <td>0.126816</td>\n",
       "      <td>3.989947</td>\n",
       "      <td>0.012628</td>\n",
       "      <td>0.087484</td>\n",
       "    </tr>\n",
       "  </tbody>\n",
       "</table>\n",
       "</div>"
      ],
      "text/plain": [
       "       dim_1     dim_2     dim_3     dim_4     dim_5  intercepto\n",
       "73  0.783250  0.014936  0.056178  0.417036  0.000342    0.174604\n",
       "74  0.440168  0.338847  0.381606  0.312618  0.728497   -0.151019\n",
       "75  0.588449  0.513363  0.769051  0.072598  0.241074   -0.470290\n",
       "76  1.021281  0.008987  0.114650  0.398938 -0.000000    0.317895\n",
       "77  0.199119  0.373349  0.549417  0.112643  0.233194   -0.346634\n",
       "78  0.181603  0.570739  0.689867  0.171710  0.550637   -0.553653\n",
       "79  0.245582  0.206698  0.236181  0.932611  0.973906   -0.039936\n",
       "80  0.379502  0.003327  0.163707  1.520140  0.867477    0.205521\n",
       "81 -0.000000  0.648921  0.407299  0.085042  0.777878   -0.569017\n",
       "82  0.482570  0.002837  0.026462  1.577592  0.305957    0.728833\n",
       "83  0.041722  0.009215  0.068086  1.137985  0.461031    0.287750\n",
       "84  0.007209  0.013921  0.051808  1.177589  0.792669    0.088475\n",
       "85  0.000540  0.697534  0.300229  0.305586  0.570175   -0.662418\n",
       "86  0.058847  0.230351  0.373447  0.879812  0.811252   -0.224271\n",
       "87  0.261796  0.004959  0.073096  3.066476  0.000322    1.559918\n",
       "88  0.000446  0.251248  0.100928  1.248724  0.386860   -0.241830\n",
       "89  0.002782  0.012576  0.000397  1.946427 -0.000000    1.061296\n",
       "90  0.063320  0.008720  0.022256  3.606672  0.163969    0.256954\n",
       "91 -0.000000  0.005230  0.000745  4.002598 -0.000000    0.336955\n",
       "92 -0.000000  0.065577  0.126816  3.989947  0.012628    0.087484"
      ]
     },
     "execution_count": 24,
     "metadata": {},
     "output_type": "execute_result"
    }
   ],
   "source": [
    "item_params.tail(20)"
   ]
  },
  {
   "cell_type": "code",
   "execution_count": 25,
   "metadata": {},
   "outputs": [
    {
     "name": "stdout",
     "output_type": "stream",
     "text": [
      "3557/3557 [==============================] - 1s 211us/sample - loss: 0.5514 - accuracy: 0.7172\n"
     ]
    },
    {
     "data": {
      "text/plain": [
       "[0.551389259503804, 0.71719265]"
      ]
     },
     "execution_count": 25,
     "metadata": {},
     "output_type": "execute_result"
    }
   ],
   "source": [
    "autoencoder_multi_uni.evaluate(x_test,x_target_test )"
   ]
  },
  {
   "cell_type": "markdown",
   "metadata": {},
   "source": [
    "OK:\n",
    "[loss, accuracy] = [0.551389259503804, 0.71719265]"
   ]
  },
  {
   "cell_type": "markdown",
   "metadata": {},
   "source": [
    "## Gráficos "
   ]
  },
  {
   "cell_type": "code",
   "execution_count": 19,
   "metadata": {},
   "outputs": [],
   "source": [
    "latent_test= encoder_multi_uni.predict(x_test)"
   ]
  },
  {
   "cell_type": "code",
   "execution_count": 20,
   "metadata": {},
   "outputs": [
    {
     "data": {
      "text/plain": [
       "(3557, 5)"
      ]
     },
     "execution_count": 20,
     "metadata": {},
     "output_type": "execute_result"
    }
   ],
   "source": [
    "latent_test.shape"
   ]
  },
  {
   "cell_type": "code",
   "execution_count": 116,
   "metadata": {},
   "outputs": [],
   "source": [
    "from sklearn.manifold import TSNE\n",
    "import matplotlib.pyplot as plt"
   ]
  },
  {
   "cell_type": "code",
   "execution_count": 140,
   "metadata": {},
   "outputs": [],
   "source": [
    "tsne = TSNE(n_components=2, random_state=0, n_iter=10000, perplexity=2)\n",
    "np.set_printoptions(suppress=True)\n",
    "T = tsne.fit_transform(latent_test)\n",
    "labels = x_test.index\n"
   ]
  },
  {
   "cell_type": "code",
   "execution_count": null,
   "metadata": {},
   "outputs": [],
   "source": [
    "#labels = None\n",
    "plt.figure(figsize=(14, 8))\n",
    "plt.scatter(T[:, 0], T[:, 1], c='orange', edgecolors='r')\n",
    "for label, x, y in zip(labels, T[:, 0], T[:, 1]):\n",
    "    plt.annotate(label, xy=(x+1, y+1), xytext=(0, 0), textcoords='offset points')"
   ]
  },
  {
   "cell_type": "code",
   "execution_count": 21,
   "metadata": {},
   "outputs": [
    {
     "ename": "NameError",
     "evalue": "name 'plt' is not defined",
     "output_type": "error",
     "traceback": [
      "\u001b[0;31m---------------------------------------------------------------------------\u001b[0m",
      "\u001b[0;31mNameError\u001b[0m                                 Traceback (most recent call last)",
      "\u001b[0;32m<ipython-input-21-f47536146a1f>\u001b[0m in \u001b[0;36m<module>\u001b[0;34m\u001b[0m\n\u001b[1;32m      1\u001b[0m \u001b[0mdata_plot\u001b[0m \u001b[0;34m=\u001b[0m \u001b[0mlatent_test\u001b[0m\u001b[0;34m\u001b[0m\u001b[0;34m\u001b[0m\u001b[0m\n\u001b[0;32m----> 2\u001b[0;31m \u001b[0max\u001b[0m \u001b[0;34m=\u001b[0m \u001b[0mplt\u001b[0m\u001b[0;34m.\u001b[0m\u001b[0mfigure\u001b[0m\u001b[0;34m(\u001b[0m\u001b[0mfigsize\u001b[0m\u001b[0;34m=\u001b[0m\u001b[0;34m(\u001b[0m\u001b[0;36m20\u001b[0m\u001b[0;34m,\u001b[0m\u001b[0;36m16\u001b[0m\u001b[0;34m)\u001b[0m\u001b[0;34m)\u001b[0m\u001b[0;34m.\u001b[0m\u001b[0mgca\u001b[0m\u001b[0;34m(\u001b[0m\u001b[0mprojection\u001b[0m\u001b[0;34m=\u001b[0m\u001b[0;34m'3d'\u001b[0m\u001b[0;34m)\u001b[0m\u001b[0;34m\u001b[0m\u001b[0;34m\u001b[0m\u001b[0m\n\u001b[0m\u001b[1;32m      3\u001b[0m ax.scatter(\n\u001b[1;32m      4\u001b[0m     \u001b[0mxs\u001b[0m\u001b[0;34m=\u001b[0m\u001b[0mdata_plot\u001b[0m\u001b[0;34m[\u001b[0m\u001b[0;34m:\u001b[0m\u001b[0;34m,\u001b[0m\u001b[0;36m0\u001b[0m\u001b[0;34m]\u001b[0m\u001b[0;34m,\u001b[0m\u001b[0;34m\u001b[0m\u001b[0;34m\u001b[0m\u001b[0m\n\u001b[1;32m      5\u001b[0m     \u001b[0mys\u001b[0m\u001b[0;34m=\u001b[0m\u001b[0mdata_plot\u001b[0m\u001b[0;34m[\u001b[0m\u001b[0;34m:\u001b[0m\u001b[0;34m,\u001b[0m\u001b[0;36m1\u001b[0m\u001b[0;34m]\u001b[0m\u001b[0;34m,\u001b[0m\u001b[0;34m\u001b[0m\u001b[0;34m\u001b[0m\u001b[0m\n",
      "\u001b[0;31mNameError\u001b[0m: name 'plt' is not defined"
     ]
    }
   ],
   "source": [
    "data_plot = latent_test\n",
    "ax = plt.figure(figsize=(20,16)).gca(projection='3d')\n",
    "ax.scatter(\n",
    "    xs=data_plot[:,0],\n",
    "    ys=data_plot[:,1], \n",
    "    zs=data_plot[:,2],\n",
    "    cmap='tab10',\n",
    "    )\n",
    "ax.set_xlabel('Textual')\n",
    "ax.set_ylabel('Matemática')\n",
    "ax.set_zlabel('Ciencias')\n",
    "\n",
    "#ax.set_xlim([0,4])\n",
    "#ax.set_ylim([-5,0])\n",
    "#ax.set_zlim([0,4])\n",
    "plt.show()"
   ]
  },
  {
   "cell_type": "code",
   "execution_count": null,
   "metadata": {},
   "outputs": [],
   "source": []
  }
 ],
 "metadata": {
  "kernelspec": {
   "display_name": "Python 3",
   "language": "python",
   "name": "python3"
  },
  "language_info": {
   "codemirror_mode": {
    "name": "ipython",
    "version": 3
   },
   "file_extension": ".py",
   "mimetype": "text/x-python",
   "name": "python",
   "nbconvert_exporter": "python",
   "pygments_lexer": "ipython3",
   "version": "3.7.7"
  }
 },
 "nbformat": 4,
 "nbformat_minor": 4
}
