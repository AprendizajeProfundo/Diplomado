{
  "nbformat": 4,
  "nbformat_minor": 5,
  "metadata": {
    "kernelspec": {
      "display_name": "Python 3",
      "language": "python",
      "name": "python3"
    },
    "language_info": {
      "codemirror_mode": {
        "name": "ipython",
        "version": 3
      },
      "file_extension": ".py",
      "mimetype": "text/x-python",
      "name": "python",
      "nbconvert_exporter": "python",
      "pygments_lexer": "ipython3",
      "version": "3.8.8"
    },
    "colab": {
      "name": "ae_Eliminacion_ruido_MNIST.ipynb",
      "provenance": [],
      "collapsed_sections": []
    },
    "accelerator": "GPU"
  },
  "cells": [
    {
      "cell_type": "markdown",
      "metadata": {
        "id": "f1d79726-67ac-452f-8113-cf2dc15a2500",
        "tags": []
      },
      "source": [
        "# <span style=\"color:green\"><center>Diplomado en Inteligencia Artificial y Aprendizaje Profundo</center></span>"
      ],
      "id": "f1d79726-67ac-452f-8113-cf2dc15a2500"
    },
    {
      "cell_type": "markdown",
      "metadata": {
        "id": "8843923f-cbce-49c7-be36-eb8a730b3de3"
      },
      "source": [
        "# <span style=\"color:red\"><center>Eliminación de Ruido: Ejemplo MNIST</center></span>"
      ],
      "id": "8843923f-cbce-49c7-be36-eb8a730b3de3"
    },
    {
      "cell_type": "markdown",
      "metadata": {
        "id": "fe40abf9-3244-480b-bb87-5b9a035dafa7"
      },
      "source": [
        "##   <span style=\"color:blue\">Profesores</span>"
      ],
      "id": "fe40abf9-3244-480b-bb87-5b9a035dafa7"
    },
    {
      "cell_type": "markdown",
      "metadata": {
        "id": "692d9778-8422-4cdd-90f8-a6d94ff1e642"
      },
      "source": [
        "1. Alvaro Mauricio Montenegro Díaz, ammontenegrod@unal.edu.co\n",
        "2. Daniel Mauricio Montenegro Reyes, dextronomo@gmail.com \n",
        "3. Campo Elías Pardo Turriago, cepardot@unal.edu.co "
      ],
      "id": "692d9778-8422-4cdd-90f8-a6d94ff1e642"
    },
    {
      "cell_type": "markdown",
      "metadata": {
        "id": "b3d7b3ff-a399-4e88-814f-11f277c7a1b8"
      },
      "source": [
        "##   <span style=\"color:blue\">Asesora Medios y Marketing digital</span>\n",
        " "
      ],
      "id": "b3d7b3ff-a399-4e88-814f-11f277c7a1b8"
    },
    {
      "cell_type": "markdown",
      "metadata": {
        "id": "55e155b5-086d-4454-9849-e5107145c418"
      },
      "source": [
        "4. Maria del Pilar Montenegro, pmontenegro88@gmail.com "
      ],
      "id": "55e155b5-086d-4454-9849-e5107145c418"
    },
    {
      "cell_type": "markdown",
      "metadata": {
        "id": "e4485802-7f4f-4c43-b74a-9ebb9fc36481"
      },
      "source": [
        "## <span style=\"color:blue\">Asistentes</span>"
      ],
      "id": "e4485802-7f4f-4c43-b74a-9ebb9fc36481"
    },
    {
      "cell_type": "markdown",
      "metadata": {
        "id": "17b160e4-7209-40fd-8bab-90c8711d1c16"
      },
      "source": [
        "5. Oleg Jarma, ojarmam@unal.edu.co \n",
        "6. Laura Lizarazo, ljlizarazore@unal.edu.co "
      ],
      "id": "17b160e4-7209-40fd-8bab-90c8711d1c16"
    },
    {
      "cell_type": "markdown",
      "metadata": {
        "id": "a2013fd2-1aea-4603-be27-13a595967673"
      },
      "source": [
        "## <span style=\"color:blue\">Contenido</span> "
      ],
      "id": "a2013fd2-1aea-4603-be27-13a595967673"
    },
    {
      "cell_type": "markdown",
      "metadata": {
        "id": "b4f2374c-555c-4a8d-a541-d21c3d606e05"
      },
      "source": [
        "* [Introducción](#Introducción)\n",
        "* [Autocodificador o autoencoder](#Autocodificador-o-autoencoder)\n",
        "* [Importa módulos](#Importa-módulos)\n",
        "* [Descargar Datos de la Fuente](#Descargar-Datos-de-la-Fuente)\n",
        "* [Parámetros de la red](#Parámetros-de-la-red)\n",
        "* [Codificador](#Codificador)\n",
        "* [Decodificador](#Decodificador)\n",
        "* [Auto-codificador](#Auto-codificador)\n",
        "* [Entrenamiento](#Compila)\n",
        "* [Recuperación de imágenes](#Recuperación-de-imágenes)\n",
        "* [Representación latente](#Representación-latente)"
      ],
      "id": "b4f2374c-555c-4a8d-a541-d21c3d606e05"
    },
    {
      "cell_type": "markdown",
      "metadata": {
        "id": "03d420f7-1f6a-404d-8b08-9b95ca394c93"
      },
      "source": [
        "[[Volver al Inicio]](#Contenido)"
      ],
      "id": "03d420f7-1f6a-404d-8b08-9b95ca394c93"
    },
    {
      "cell_type": "markdown",
      "metadata": {
        "id": "ff7772ae-e6d9-4cba-a260-1087e8d218fa"
      },
      "source": [
        "## <span style=\"color:blue\">Introducción</span>"
      ],
      "id": "ff7772ae-e6d9-4cba-a260-1087e8d218fa"
    },
    {
      "cell_type": "markdown",
      "metadata": {
        "id": "4cee0aeb-1b69-4683-b6a7-f745b5e87517"
      },
      "source": [
        "En este cuaderno se implementa un Autoencoder Convolucional para la eliminación de ruido usando el conjunto de datos MNIST.\n",
        "\n",
        "Basado en \n",
        "\n",
        "- [Convolutional Autoencoders for Image Noise Reduction](https://towardsdatascience.com/convolutional-autoencoders-for-image-noise-reduction-32fce9fc1763)\n",
        "\n",
        "- [Convolutional Autoencoder For Image Denoising](https://keras.io/examples/vision/autoencoder/) "
      ],
      "id": "4cee0aeb-1b69-4683-b6a7-f745b5e87517"
    },
    {
      "cell_type": "markdown",
      "metadata": {
        "id": "f00a849d-35bf-474f-903a-9da0fe01fdbe"
      },
      "source": [
        "[[Volver al Inicio]](#Contenido)"
      ],
      "id": "f00a849d-35bf-474f-903a-9da0fe01fdbe"
    },
    {
      "cell_type": "markdown",
      "metadata": {
        "id": "ef33ed6a-d912-4195-8742-686b53a3824d"
      },
      "source": [
        "## <span style=\"color:blue\">Autocodificador o autoencoder</span>"
      ],
      "id": "ef33ed6a-d912-4195-8742-686b53a3824d"
    },
    {
      "cell_type": "markdown",
      "metadata": {
        "id": "fd666002-4898-43fc-a57c-878f36a4bb84"
      },
      "source": [
        "Recordemos un poco el concepto gráfico de lo que significa un autoenconder:\n",
        "\n",
        "![CAE](https://miro.medium.com/max/2400/1*VYH3i2-2CZ6Fyd7Bv9UHFw.png)\n",
        "\n",
        "Fuente: [Super-Resolution Using Autoencoders and TF2.0](https://medium.com/analytics-vidhya/super-resolution-using-autoencoders-and-tf2-0-505215c1674)"
      ],
      "id": "fd666002-4898-43fc-a57c-878f36a4bb84"
    },
    {
      "cell_type": "markdown",
      "metadata": {
        "id": "5197c685-65ef-41ad-b149-22df53c2c715"
      },
      "source": [
        "## <span style=\"color:blue\">Importa módulos</span>"
      ],
      "id": "5197c685-65ef-41ad-b149-22df53c2c715"
    },
    {
      "cell_type": "code",
      "metadata": {
        "id": "d6ef6636-88f5-4658-9de1-7f57ffe155ef"
      },
      "source": [
        "#importar open cv                                                                                                                                                                                                                                                                                                                                                                                                                                                                                                                                                                  ii!conda install -c conda-forge opencv\n",
        "import cv2\n",
        "# import tarfile para manejo de archivos comprimidos\n",
        "import zipfile\n",
        "# Manejo de gráficos\n",
        "import matplotlib.pyplot as plt\n",
        "#Manejo de carpetas\n",
        "import os\n",
        "# Manejo de Arreglos\n",
        "import numpy as np\n",
        "# Descomprimir .gz\n",
        "import gzip\n",
        "# Módulos especificos de tensorflow\n",
        "from tensorflow.keras import layers\n",
        "from tensorflow.keras.models import Model"
      ],
      "id": "d6ef6636-88f5-4658-9de1-7f57ffe155ef",
      "execution_count": 1,
      "outputs": []
    },
    {
      "cell_type": "code",
      "metadata": {
        "id": "91c44791-a667-4cd5-981a-474781d47166"
      },
      "source": [
        "np.set_printoptions(linewidth=125)"
      ],
      "id": "91c44791-a667-4cd5-981a-474781d47166",
      "execution_count": 2,
      "outputs": []
    },
    {
      "cell_type": "markdown",
      "metadata": {
        "id": "56f5c28e-bf29-4adf-afef-3975e66ca986"
      },
      "source": [
        "## <span style=\"color:blue\">Descargar Datos de la Fuente</span>"
      ],
      "id": "56f5c28e-bf29-4adf-afef-3975e66ca986"
    },
    {
      "cell_type": "code",
      "metadata": {
        "colab": {
          "base_uri": "https://localhost:8080/"
        },
        "id": "35ceaace-5096-46e9-b7c0-7b0891d7c069",
        "outputId": "0d1e432d-7cac-4b89-9b51-8a90d61ddb58"
      },
      "source": [
        "path=\"../Data\"\n",
        "\n",
        "if os.path.isdir(path):\n",
        "  print(\"Ya existe el directorio\")\n",
        "else:\n",
        "  os.mkdir(path)\n",
        "\n",
        "# https://deepai.org/dataset/mnist\n",
        "\n",
        "!wget https://data.deepai.org/mnist.zip -O ../Data/mnist.zip\n",
        "    \n",
        "# (train_data,train_label), (test_data,test_label) = tf.keras.datasets.mnist.load_data(path=\"mnist.npz\")"
      ],
      "id": "35ceaace-5096-46e9-b7c0-7b0891d7c069",
      "execution_count": 3,
      "outputs": [
        {
          "output_type": "stream",
          "text": [
            "--2021-05-03 22:21:50--  https://data.deepai.org/mnist.zip\n",
            "Resolving data.deepai.org (data.deepai.org)... 138.201.36.183\n",
            "Connecting to data.deepai.org (data.deepai.org)|138.201.36.183|:443... connected.\n",
            "HTTP request sent, awaiting response... 200 OK\n",
            "Length: 11597176 (11M) [application/x-zip-compressed]\n",
            "Saving to: ‘../Data/mnist.zip’\n",
            "\n",
            "../Data/mnist.zip   100%[===================>]  11.06M  8.55MB/s    in 1.3s    \n",
            "\n",
            "2021-05-03 22:21:52 (8.55 MB/s) - ‘../Data/mnist.zip’ saved [11597176/11597176]\n",
            "\n"
          ],
          "name": "stdout"
        }
      ]
    },
    {
      "cell_type": "markdown",
      "metadata": {
        "id": "691d8d25-a16d-4a95-94bf-cdfa357e71f6"
      },
      "source": [
        "Ahora apuntemos a nuestro directorio de descarga y leamos información importante:"
      ],
      "id": "691d8d25-a16d-4a95-94bf-cdfa357e71f6"
    },
    {
      "cell_type": "code",
      "metadata": {
        "id": "41347145-f300-4e82-af3b-f9177b3276d4"
      },
      "source": [
        "datos='../Data/'\n",
        "datos_zip = datos+'/mnist.zip'"
      ],
      "id": "41347145-f300-4e82-af3b-f9177b3276d4",
      "execution_count": 4,
      "outputs": []
    },
    {
      "cell_type": "markdown",
      "metadata": {
        "id": "db27dee3-7d65-4aa6-9de7-0db14271f29d"
      },
      "source": [
        "Esta es la forma de apuntar con un objeto .zip sin tener que abrir el archivo:"
      ],
      "id": "db27dee3-7d65-4aa6-9de7-0db14271f29d"
    },
    {
      "cell_type": "code",
      "metadata": {
        "id": "ccd0cbf6-65d9-4adf-a9ce-7670e3199690"
      },
      "source": [
        "zip_file=zipfile.ZipFile(datos_zip)"
      ],
      "id": "ccd0cbf6-65d9-4adf-a9ce-7670e3199690",
      "execution_count": 5,
      "outputs": []
    },
    {
      "cell_type": "markdown",
      "metadata": {
        "id": "b97518fd-ce3d-4f72-85df-6b92ef508d61"
      },
      "source": [
        "Información importante sobre el árbol de datos contenidos en el .zip:"
      ],
      "id": "b97518fd-ce3d-4f72-85df-6b92ef508d61"
    },
    {
      "cell_type": "code",
      "metadata": {
        "colab": {
          "base_uri": "https://localhost:8080/"
        },
        "id": "9e29c770-f3ed-4a9f-8bcd-0b1a1f9ec15b",
        "outputId": "e7809a85-806a-4562-a48d-7e44a6a2ef65"
      },
      "source": [
        "zip_file.infolist()"
      ],
      "id": "9e29c770-f3ed-4a9f-8bcd-0b1a1f9ec15b",
      "execution_count": 6,
      "outputs": [
        {
          "output_type": "execute_result",
          "data": {
            "text/plain": [
              "[<ZipInfo filename='train-labels-idx1-ubyte.gz' compress_type=deflate external_attr=0x20 file_size=28881 compress_size=28886>,\n",
              " <ZipInfo filename='train-images-idx3-ubyte.gz' compress_type=deflate external_attr=0x20 file_size=9912422 compress_size=9913937>,\n",
              " <ZipInfo filename='t10k-images-idx3-ubyte.gz' compress_type=deflate external_attr=0x20 file_size=1648877 compress_size=1649132>,\n",
              " <ZipInfo filename='t10k-labels-idx1-ubyte.gz' compress_type=deflate external_attr=0x20 file_size=4542 compress_size=4547>]"
            ]
          },
          "metadata": {
            "tags": []
          },
          "execution_count": 6
        }
      ]
    },
    {
      "cell_type": "markdown",
      "metadata": {
        "id": "6b60d00b-9335-461f-bc2e-ad6825454897"
      },
      "source": [
        "Como el archivo no pesa mucho (9913937 bytes = 9.9 Megas), descomprimos el archivo"
      ],
      "id": "6b60d00b-9335-461f-bc2e-ad6825454897"
    },
    {
      "cell_type": "code",
      "metadata": {
        "id": "f40dd4a1-c1ba-4f3d-a91d-fafd6672f60c"
      },
      "source": [
        "zip_file.extractall(datos)"
      ],
      "id": "f40dd4a1-c1ba-4f3d-a91d-fafd6672f60c",
      "execution_count": 7,
      "outputs": []
    },
    {
      "cell_type": "markdown",
      "metadata": {
        "id": "6bc513ec-0cc4-4d77-9ceb-5bd877be7391"
      },
      "source": [
        "Ahora leeremos cada archivo .gz desde el buffer de archivos para obtener los datos en forma de que Python pueda entende"
      ],
      "id": "6bc513ec-0cc4-4d77-9ceb-5bd877be7391"
    },
    {
      "cell_type": "code",
      "metadata": {
        "id": "e80a93da-4372-406e-a52b-002271cd218e"
      },
      "source": [
        "dir_datos =[datos+'train-images-idx3-ubyte.gz',\n",
        "            datos+'train-labels-idx1-ubyte.gz',\n",
        "            datos+'t10k-images-idx3-ubyte.gz',\n",
        "            datos+'t10k-labels-idx1-ubyte.gz']"
      ],
      "id": "e80a93da-4372-406e-a52b-002271cd218e",
      "execution_count": 8,
      "outputs": []
    },
    {
      "cell_type": "code",
      "metadata": {
        "id": "4557c21f-6f46-4e70-bec3-f481e5f4473a"
      },
      "source": [
        "def get_data(dim_img,num_img,directorio):\n",
        "    \n",
        "    f = gzip.open(directorio, 'r')\n",
        "        \n",
        "    if 'images' in directorio:\n",
        "        f.read(16)\n",
        "        buf = f.read(dim_img * dim_img * num_img)\n",
        "        data = np.frombuffer(buf, dtype=np.uint8)\n",
        "        data = data.reshape(num_img, dim_img, dim_img, 1)\n",
        "    elif 'labels' in directorio:\n",
        "        f.read(8)\n",
        "        buf = f.read(num_img)\n",
        "        data = np.frombuffer(buf, dtype=np.uint8).astype(np.int64)\n",
        "    else:\n",
        "        print(\"Sus archivos no tienen imagenes ni etiquetas como nombres, Chequee y vuelva a intentarlo.\")\n",
        "\n",
        "    return data"
      ],
      "id": "4557c21f-6f46-4e70-bec3-f481e5f4473a",
      "execution_count": 9,
      "outputs": []
    },
    {
      "cell_type": "code",
      "metadata": {
        "id": "15878970-2896-49b8-9ff2-0604bb23979d"
      },
      "source": [
        "image_size = 28\n",
        "num_images = [60_000,60_000,10_000,10_000]\n",
        "\n",
        "data_mnist=[]\n",
        "\n",
        "for i, directorio in enumerate(dir_datos):\n",
        "    data_mnist.append(get_data(image_size,num_images[i],directorio))\n",
        "\n",
        "train_data, train_label, test_data, test_label = data_mnist"
      ],
      "id": "15878970-2896-49b8-9ff2-0604bb23979d",
      "execution_count": 10,
      "outputs": []
    },
    {
      "cell_type": "code",
      "metadata": {
        "colab": {
          "base_uri": "https://localhost:8080/"
        },
        "id": "5364b030-1a56-48ba-ab9a-2477f2d8ec6b",
        "outputId": "7ad129cf-220e-4c83-eefb-1a84f0ff5b53"
      },
      "source": [
        "print(train_data.shape,train_label.shape)\n",
        "print(test_data.shape,test_label.shape)"
      ],
      "id": "5364b030-1a56-48ba-ab9a-2477f2d8ec6b",
      "execution_count": 11,
      "outputs": [
        {
          "output_type": "stream",
          "text": [
            "(60000, 28, 28, 1) (60000,)\n",
            "(10000, 28, 28, 1) (10000,)\n"
          ],
          "name": "stdout"
        }
      ]
    },
    {
      "cell_type": "code",
      "metadata": {
        "colab": {
          "base_uri": "https://localhost:8080/",
          "height": 757
        },
        "id": "8455cfa7-2910-4c27-a908-c0dabe7cf836",
        "outputId": "9b0689ca-4837-4238-ff3d-cd10b1ff855a"
      },
      "source": [
        "azar=np.random.randint(len(train_data))\n",
        "print(train_data[azar,:,:,0],'\\n')\n",
        "plt.imshow(train_data[azar,:,:,0],cmap='gray')\n",
        "plt.title('Etiqueta Humana:'+str(train_label[azar]))\n",
        "plt.axis('off')\n",
        "plt.show()"
      ],
      "id": "8455cfa7-2910-4c27-a908-c0dabe7cf836",
      "execution_count": 12,
      "outputs": [
        {
          "output_type": "stream",
          "text": [
            "[[  0   0   0   0   0   0   0   0   0   0   0   0   0   0   0   0   0   0   0   0   0   0   0   0   0   0   0   0]\n",
            " [  0   0   0   0   0   0   0   0   0   0   0   0   0   0   0   0   0   0   0   0   0   0   0   0   0   0   0   0]\n",
            " [  0   0   0   0   0   0   0   0   0   0   0   0   0   0   0   0   0   0   0   0   0   0   0   0   0   0   0   0]\n",
            " [  0   0   0   0   0   0   0   0   0   0   0   0   0   0   0   0   0   0   0   0   0   0   0   0   0   0   0   0]\n",
            " [  0   0   0   0   0   0   0   0   0   0   0   0   0   0   0   0   0   0   0   0   0   0   0   0   0   0   0   0]\n",
            " [  0   0   0   0   0   0   0   0   0   0   0   0   0   0   0   0   0   0   0   0   0   0   0   0   0   0   0   0]\n",
            " [  0   0   0   0   0   0   0   0   0   0   0  49 125 125 125 161 254 254 228 125 106   0   0   0   0   0   0   0]\n",
            " [  0   0   0   0   0   0   0   0   0   0  49 237 253 253 253 253 253 253 253 253 252 231 118 109   0   0   0   0]\n",
            " [  0   0   0   0   0   0   0   0   0  49 237 253 253 253 219  39  12  12 107 142 159 253 253 252 241 168   0   0]\n",
            " [  0   0   0   0   0   0   0   0  49 237 253 253 253 164 103   0   0   0   0   0   3  36 149 149 154 196  64   0]\n",
            " [  0   0   0   0   0   0   0   0 168 253 162 127 253  89   0   0   0   0   0   0   0   0   0   0   2  12   0   0]\n",
            " [  0   0   0   0   0   0   0  45 250 253  19  13 145 108   0   0   0   0   0   0   0   0   0   0   0   0   0   0]\n",
            " [  0   0   0   0   0   0   0 235 253 159   3   0   0   0   0   0   0   0   0   0   0   0   0   0   0   0   0   0]\n",
            " [  0   0   0   0   0   0   0 254 253  76   0   0   0   0   0   0   0   0   0   0   0   0   0   0   0   0   0   0]\n",
            " [  0   0   0   0   0   0   0 254 253 231  52   0   0   0   0   0   0   0   0   0   0   0   0   0   0   0   0   0]\n",
            " [  0   0   0   0   0   0   0 122 252 253 229 196 196 196 155  66  66  51   0   0   0   0   0   0   0   0   0   0]\n",
            " [  0   0   0   0   0   0   0   0 124 220 253 253 253 253 253 253 253 238 189  88   0   0   0   0   0   0   0   0]\n",
            " [  0   0   0   0   0   0   0   0   0  31  71  71  71 181 201 201 201 240 253 240  61   0   0   0   0   0   0   0]\n",
            " [  0   0   0   0   0   0   0   0   0   0   0   0   0   0   0   0  12 201 253 253  84   0   0   0   0   0   0   0]\n",
            " [  0   0   0   0   0   0   0   0   0   0   0   0   0   0   0   0 153 253 253 202  28   0   0   0   0   0   0   0]\n",
            " [  0   0   0   0   0   0   0   0   0   0   0   0   0   0   0  27 203 253 246  68   0   0   0   0   0   0   0   0]\n",
            " [  0   0   0   0   0   0   0   0   0   0   0   0   0  23 134 234 253 234 114   0   0   0   0   0   0   0   0   0]\n",
            " [  0   0   0   0   0   0   0   0   0   0   0   8 134 238 253 238 200  27   0   0   0   0   0   0   0   0   0   0]\n",
            " [  0   0   0   0   0   0   0   0   7  14  68 186 253 249 200  23   0   0   0   0   0   0   0   0   0   0   0   0]\n",
            " [  0   0   0   0   0   0   0  68 191 253 253 251 199  78   0   0   0   0   0   0   0   0   0   0   0   0   0   0]\n",
            " [  0   0   0   0   0   0   0 125 253 253 199  76   0   0   0   0   0   0   0   0   0   0   0   0   0   0   0   0]\n",
            " [  0   0   0   0   0   0   0   0   0   0   0   0   0   0   0   0   0   0   0   0   0   0   0   0   0   0   0   0]\n",
            " [  0   0   0   0   0   0   0   0   0   0   0   0   0   0   0   0   0   0   0   0   0   0   0   0   0   0   0   0]] \n",
            "\n"
          ],
          "name": "stdout"
        },
        {
          "output_type": "display_data",
          "data": {
            "image/png": "[encoded data removed]",
            "text/plain": [
              "<Figure size 432x288 with 1 Axes>"
            ]
          },
          "metadata": {
            "tags": [],
            "needs_background": "light"
          }
        }
      ]
    },
    {
      "cell_type": "markdown",
      "metadata": {
        "id": "fa67f448-c455-4486-b61d-864da422c63e"
      },
      "source": [
        "## Preprocesar Datos "
      ],
      "id": "fa67f448-c455-4486-b61d-864da422c63e"
    },
    {
      "cell_type": "code",
      "metadata": {
        "id": "7f7bc760-7b2c-45d6-9e72-eeeebed649da"
      },
      "source": [
        "def preprocess(array):\n",
        "    \"\"\"\n",
        "    Normalizes the supplied array and reshapes it into the appropriate format.\n",
        "    \"\"\"\n",
        "\n",
        "    array = array.astype(\"float32\") / 255.0\n",
        "    #array = np.reshape(array, (len(array), 28, 28, 1))\n",
        "    return array"
      ],
      "id": "7f7bc760-7b2c-45d6-9e72-eeeebed649da",
      "execution_count": 13,
      "outputs": []
    },
    {
      "cell_type": "markdown",
      "metadata": {
        "id": "7527e2e6-eba7-4cfa-9c26-3342a636acb3"
      },
      "source": [
        "## Añadir Ruido "
      ],
      "id": "7527e2e6-eba7-4cfa-9c26-3342a636acb3"
    },
    {
      "cell_type": "code",
      "metadata": {
        "id": "9b8c72fe-2cc2-4e1c-9c00-f17d322accfb"
      },
      "source": [
        "def noise(array):\n",
        "    \"\"\"\n",
        "    Adds random noise to each image in the supplied array.\n",
        "    \"\"\"\n",
        "\n",
        "    noise_factor = 0.4\n",
        "    noisy_array = array + noise_factor * np.random.normal(\n",
        "        loc=0.0, scale=1.0, size=array.shape\n",
        "    )\n",
        "\n",
        "    return np.clip(noisy_array, 0.0, 1.0)"
      ],
      "id": "9b8c72fe-2cc2-4e1c-9c00-f17d322accfb",
      "execution_count": 14,
      "outputs": []
    },
    {
      "cell_type": "markdown",
      "metadata": {
        "id": "5544c0a5-14ec-4cb8-95e0-ca4854d2aa95"
      },
      "source": [
        "## Mostrar Imágenes "
      ],
      "id": "5544c0a5-14ec-4cb8-95e0-ca4854d2aa95"
    },
    {
      "cell_type": "code",
      "metadata": {
        "id": "9cc491e7-6c6d-444b-910c-1c2d603ae6dd"
      },
      "source": [
        "def display(array1, array2):\n",
        "    \"\"\"\n",
        "    Displays ten random images from each one of the supplied arrays.\n",
        "    \"\"\"\n",
        "\n",
        "    n = 10\n",
        "\n",
        "    indices = np.random.randint(len(array1), size=n)\n",
        "    images1 = array1[indices, :]\n",
        "    images2 = array2[indices, :]\n",
        "\n",
        "    plt.figure(figsize=(20, 4))\n",
        "    for i, (image1, image2) in enumerate(zip(images1, images2)):\n",
        "        ax = plt.subplot(2, n, i + 1)\n",
        "        plt.imshow(image1.reshape(28, 28))\n",
        "        plt.gray()\n",
        "        ax.get_xaxis().set_visible(False)\n",
        "        ax.get_yaxis().set_visible(False)\n",
        "\n",
        "        ax = plt.subplot(2, n, i + 1 + n)\n",
        "        plt.imshow(image2.reshape(28, 28))\n",
        "        plt.gray()\n",
        "        ax.get_xaxis().set_visible(False)\n",
        "        ax.get_yaxis().set_visible(False)\n",
        "\n",
        "    plt.show()"
      ],
      "id": "9cc491e7-6c6d-444b-910c-1c2d603ae6dd",
      "execution_count": 15,
      "outputs": []
    },
    {
      "cell_type": "markdown",
      "metadata": {
        "id": "ba4eb12f-c798-43ea-8b8a-e8cf5d4ff3bc"
      },
      "source": [
        "## Utilizar Funciones para el Flujo de Trabajo"
      ],
      "id": "ba4eb12f-c798-43ea-8b8a-e8cf5d4ff3bc"
    },
    {
      "cell_type": "code",
      "metadata": {
        "colab": {
          "base_uri": "https://localhost:8080/",
          "height": 248
        },
        "id": "029ea742-c3f4-42eb-837e-b9862fceb0cf",
        "outputId": "4c667108-0f8c-485a-e97d-d9830016db28"
      },
      "source": [
        "# Normalize and reshape the data\n",
        "train_data = preprocess(train_data)\n",
        "test_data = preprocess(test_data)\n",
        "\n",
        "# Create a copy of the data with added noise\n",
        "noisy_train_data = noise(train_data)\n",
        "noisy_test_data = noise(test_data)\n",
        "\n",
        "# Display the train data and a version of it with added noise\n",
        "display(train_data, noisy_train_data)"
      ],
      "id": "029ea742-c3f4-42eb-837e-b9862fceb0cf",
      "execution_count": 16,
      "outputs": [
        {
          "output_type": "display_data",
          "data": {
            "image/png": "[encoded data removed]",
            "text/plain": [
              "<Figure size 1440x288 with 20 Axes>"
            ]
          },
          "metadata": {
            "tags": [],
            "needs_background": "light"
          }
        }
      ]
    },
    {
      "cell_type": "markdown",
      "metadata": {
        "id": "0091fdc2-ac85-493e-89da-14a649a71ae7"
      },
      "source": [
        "## Construir Autoenconder Convolucional "
      ],
      "id": "0091fdc2-ac85-493e-89da-14a649a71ae7"
    },
    {
      "cell_type": "code",
      "metadata": {
        "colab": {
          "base_uri": "https://localhost:8080/"
        },
        "id": "aab46bde-ac26-4fa2-946f-4b57c383ca28",
        "outputId": "0ea7f4a6-dc25-41d6-8328-ba7893c6f4e0"
      },
      "source": [
        "inputs = layers.Input(shape=(28, 28, 1))\n",
        "\n",
        "# Encoder\n",
        "x = layers.Conv2D(32, (3, 3), activation=\"relu\", padding=\"same\")(inputs)\n",
        "x = layers.MaxPooling2D((2, 2), padding=\"same\")(x)\n",
        "x = layers.Conv2D(32, (3, 3), activation=\"relu\", padding=\"same\")(x)\n",
        "x = layers.MaxPooling2D((2, 2), padding=\"same\")(x)\n",
        "\n",
        "# Decoder\n",
        "x = layers.Conv2DTranspose(32, (3, 3), strides=2, activation=\"relu\", padding=\"same\")(x)\n",
        "x = layers.Conv2DTranspose(32, (3, 3), strides=2, activation=\"relu\", padding=\"same\")(x)\n",
        "x = layers.Conv2D(1, (3, 3), activation=\"sigmoid\", padding=\"same\")(x)\n",
        "\n",
        "# Autoencoder\n",
        "autoencoder = Model(inputs, x)\n",
        "autoencoder.compile(optimizer=\"adam\", loss=\"binary_crossentropy\")\n",
        "autoencoder.summary()"
      ],
      "id": "aab46bde-ac26-4fa2-946f-4b57c383ca28",
      "execution_count": 17,
      "outputs": [
        {
          "output_type": "stream",
          "text": [
            "Model: \"model\"\n",
            "_________________________________________________________________\n",
            "Layer (type)                 Output Shape              Param #   \n",
            "=================================================================\n",
            "input_1 (InputLayer)         [(None, 28, 28, 1)]       0         \n",
            "_________________________________________________________________\n",
            "conv2d (Conv2D)              (None, 28, 28, 32)        320       \n",
            "_________________________________________________________________\n",
            "max_pooling2d (MaxPooling2D) (None, 14, 14, 32)        0         \n",
            "_________________________________________________________________\n",
            "conv2d_1 (Conv2D)            (None, 14, 14, 32)        9248      \n",
            "_________________________________________________________________\n",
            "max_pooling2d_1 (MaxPooling2 (None, 7, 7, 32)          0         \n",
            "_________________________________________________________________\n",
            "conv2d_transpose (Conv2DTran (None, 14, 14, 32)        9248      \n",
            "_________________________________________________________________\n",
            "conv2d_transpose_1 (Conv2DTr (None, 28, 28, 32)        9248      \n",
            "_________________________________________________________________\n",
            "conv2d_2 (Conv2D)            (None, 28, 28, 1)         289       \n",
            "=================================================================\n",
            "Total params: 28,353\n",
            "Trainable params: 28,353\n",
            "Non-trainable params: 0\n",
            "_________________________________________________________________\n"
          ],
          "name": "stdout"
        }
      ]
    },
    {
      "cell_type": "markdown",
      "metadata": {
        "id": "b363c5c3-0861-4f4c-841d-3ca611c634cb"
      },
      "source": [
        "## Entrenar Autoencoder "
      ],
      "id": "b363c5c3-0861-4f4c-841d-3ca611c634cb"
    },
    {
      "cell_type": "code",
      "metadata": {
        "colab": {
          "base_uri": "https://localhost:8080/"
        },
        "id": "651322d4-93b7-4d88-a748-7f02c5e8f75c",
        "outputId": "ea063b1d-e286-49d4-fcc9-53f1fdd35ed0"
      },
      "source": [
        "history=autoencoder.fit(\n",
        "    x=train_data,\n",
        "    y=train_data,\n",
        "    epochs=50,\n",
        "    batch_size=128,\n",
        "    shuffle=True,\n",
        "    validation_data=(test_data, test_data),\n",
        ")"
      ],
      "id": "651322d4-93b7-4d88-a748-7f02c5e8f75c",
      "execution_count": 18,
      "outputs": [
        {
          "output_type": "stream",
          "text": [
            "Epoch 1/50\n",
            "469/469 [==============================] - 37s 9ms/step - loss: 0.2667 - val_loss: 0.0733\n",
            "Epoch 2/50\n",
            "469/469 [==============================] - 4s 8ms/step - loss: 0.0725 - val_loss: 0.0694\n",
            "Epoch 3/50\n",
            "469/469 [==============================] - 4s 8ms/step - loss: 0.0696 - val_loss: 0.0681\n",
            "Epoch 4/50\n",
            "469/469 [==============================] - 4s 8ms/step - loss: 0.0682 - val_loss: 0.0671\n",
            "Epoch 5/50\n",
            "469/469 [==============================] - 4s 8ms/step - loss: 0.0674 - val_loss: 0.0665\n",
            "Epoch 6/50\n",
            "469/469 [==============================] - 4s 8ms/step - loss: 0.0668 - val_loss: 0.0660\n",
            "Epoch 7/50\n",
            "469/469 [==============================] - 4s 8ms/step - loss: 0.0662 - val_loss: 0.0656\n",
            "Epoch 8/50\n",
            "469/469 [==============================] - 4s 8ms/step - loss: 0.0660 - val_loss: 0.0653\n",
            "Epoch 9/50\n",
            "469/469 [==============================] - 4s 8ms/step - loss: 0.0656 - val_loss: 0.0650\n",
            "Epoch 10/50\n",
            "469/469 [==============================] - 4s 8ms/step - loss: 0.0653 - val_loss: 0.0647\n",
            "Epoch 11/50\n",
            "469/469 [==============================] - 4s 8ms/step - loss: 0.0651 - val_loss: 0.0646\n",
            "Epoch 12/50\n",
            "469/469 [==============================] - 4s 8ms/step - loss: 0.0648 - val_loss: 0.0644\n",
            "Epoch 13/50\n",
            "469/469 [==============================] - 4s 8ms/step - loss: 0.0648 - val_loss: 0.0642\n",
            "Epoch 14/50\n",
            "469/469 [==============================] - 4s 8ms/step - loss: 0.0647 - val_loss: 0.0641\n",
            "Epoch 15/50\n",
            "469/469 [==============================] - 4s 8ms/step - loss: 0.0644 - val_loss: 0.0641\n",
            "Epoch 16/50\n",
            "469/469 [==============================] - 4s 8ms/step - loss: 0.0643 - val_loss: 0.0639\n",
            "Epoch 17/50\n",
            "469/469 [==============================] - 4s 8ms/step - loss: 0.0643 - val_loss: 0.0638\n",
            "Epoch 18/50\n",
            "469/469 [==============================] - 4s 8ms/step - loss: 0.0641 - val_loss: 0.0637\n",
            "Epoch 19/50\n",
            "469/469 [==============================] - 4s 8ms/step - loss: 0.0639 - val_loss: 0.0636\n",
            "Epoch 20/50\n",
            "469/469 [==============================] - 4s 8ms/step - loss: 0.0638 - val_loss: 0.0636\n",
            "Epoch 21/50\n",
            "469/469 [==============================] - 4s 8ms/step - loss: 0.0639 - val_loss: 0.0634\n",
            "Epoch 22/50\n",
            "469/469 [==============================] - 4s 8ms/step - loss: 0.0638 - val_loss: 0.0633\n",
            "Epoch 23/50\n",
            "469/469 [==============================] - 4s 8ms/step - loss: 0.0637 - val_loss: 0.0633\n",
            "Epoch 24/50\n",
            "469/469 [==============================] - 4s 8ms/step - loss: 0.0635 - val_loss: 0.0632\n",
            "Epoch 25/50\n",
            "469/469 [==============================] - 4s 8ms/step - loss: 0.0636 - val_loss: 0.0631\n",
            "Epoch 26/50\n",
            "469/469 [==============================] - 4s 8ms/step - loss: 0.0635 - val_loss: 0.0630\n",
            "Epoch 27/50\n",
            "469/469 [==============================] - 4s 8ms/step - loss: 0.0634 - val_loss: 0.0630\n",
            "Epoch 28/50\n",
            "469/469 [==============================] - 4s 8ms/step - loss: 0.0634 - val_loss: 0.0630\n",
            "Epoch 29/50\n",
            "469/469 [==============================] - 4s 8ms/step - loss: 0.0633 - val_loss: 0.0630\n",
            "Epoch 30/50\n",
            "469/469 [==============================] - 4s 8ms/step - loss: 0.0633 - val_loss: 0.0629\n",
            "Epoch 31/50\n",
            "469/469 [==============================] - 4s 8ms/step - loss: 0.0633 - val_loss: 0.0628\n",
            "Epoch 32/50\n",
            "469/469 [==============================] - 4s 8ms/step - loss: 0.0631 - val_loss: 0.0628\n",
            "Epoch 33/50\n",
            "469/469 [==============================] - 4s 8ms/step - loss: 0.0633 - val_loss: 0.0628\n",
            "Epoch 34/50\n",
            "469/469 [==============================] - 4s 8ms/step - loss: 0.0632 - val_loss: 0.0627\n",
            "Epoch 35/50\n",
            "469/469 [==============================] - 4s 8ms/step - loss: 0.0630 - val_loss: 0.0627\n",
            "Epoch 36/50\n",
            "469/469 [==============================] - 4s 8ms/step - loss: 0.0630 - val_loss: 0.0626\n",
            "Epoch 37/50\n",
            "469/469 [==============================] - 4s 8ms/step - loss: 0.0629 - val_loss: 0.0626\n",
            "Epoch 38/50\n",
            "469/469 [==============================] - 4s 8ms/step - loss: 0.0629 - val_loss: 0.0627\n",
            "Epoch 39/50\n",
            "469/469 [==============================] - 4s 8ms/step - loss: 0.0629 - val_loss: 0.0625\n",
            "Epoch 40/50\n",
            "469/469 [==============================] - 4s 8ms/step - loss: 0.0629 - val_loss: 0.0625\n",
            "Epoch 41/50\n",
            "469/469 [==============================] - 4s 8ms/step - loss: 0.0629 - val_loss: 0.0625\n",
            "Epoch 42/50\n",
            "469/469 [==============================] - 4s 8ms/step - loss: 0.0628 - val_loss: 0.0625\n",
            "Epoch 43/50\n",
            "469/469 [==============================] - 4s 8ms/step - loss: 0.0630 - val_loss: 0.0624\n",
            "Epoch 44/50\n",
            "469/469 [==============================] - 4s 8ms/step - loss: 0.0629 - val_loss: 0.0625\n",
            "Epoch 45/50\n",
            "469/469 [==============================] - 4s 8ms/step - loss: 0.0629 - val_loss: 0.0624\n",
            "Epoch 46/50\n",
            "469/469 [==============================] - 4s 8ms/step - loss: 0.0627 - val_loss: 0.0624\n",
            "Epoch 47/50\n",
            "469/469 [==============================] - 4s 8ms/step - loss: 0.0627 - val_loss: 0.0624\n",
            "Epoch 48/50\n",
            "469/469 [==============================] - 4s 8ms/step - loss: 0.0627 - val_loss: 0.0624\n",
            "Epoch 49/50\n",
            "469/469 [==============================] - 4s 8ms/step - loss: 0.0627 - val_loss: 0.0624\n",
            "Epoch 50/50\n",
            "469/469 [==============================] - 4s 8ms/step - loss: 0.0628 - val_loss: 0.0625\n"
          ],
          "name": "stdout"
        }
      ]
    },
    {
      "cell_type": "code",
      "metadata": {
        "colab": {
          "base_uri": "https://localhost:8080/",
          "height": 265
        },
        "id": "ZP_tf_u7TpT3",
        "outputId": "4a9d17a8-15e3-40f1-ae3a-73fba61e69b3"
      },
      "source": [
        "plt.plot(history.history['loss'][-20:],'bo-')\n",
        "plt.plot(history.history['val_loss'][-20:],'ro-')\n",
        "plt.grid()\n",
        "plt.show()"
      ],
      "id": "ZP_tf_u7TpT3",
      "execution_count": 25,
      "outputs": [
        {
          "output_type": "display_data",
          "data": {
            "image/png": "[encoded data removed]",
            "text/plain": [
              "<Figure size 432x288 with 1 Axes>"
            ]
          },
          "metadata": {
            "tags": [],
            "needs_background": "light"
          }
        }
      ]
    },
    {
      "cell_type": "markdown",
      "metadata": {
        "id": "511a395c-8077-4aa2-bc3c-0ca21a6675ab"
      },
      "source": [
        "## Mostrar Recuperación "
      ],
      "id": "511a395c-8077-4aa2-bc3c-0ca21a6675ab"
    },
    {
      "cell_type": "code",
      "metadata": {
        "colab": {
          "base_uri": "https://localhost:8080/",
          "height": 248
        },
        "id": "a277183d-1c2b-4503-88cb-e21632a9ad96",
        "outputId": "42885d30-569f-463e-9cae-45cf6886bd33"
      },
      "source": [
        "predictions = autoencoder.predict(test_data)\n",
        "display(test_data, predictions)"
      ],
      "id": "a277183d-1c2b-4503-88cb-e21632a9ad96",
      "execution_count": 26,
      "outputs": [
        {
          "output_type": "display_data",
          "data": {
            "image/png": "[encoded data removed]",
            "text/plain": [
              "<Figure size 1440x288 with 20 Axes>"
            ]
          },
          "metadata": {
            "tags": [],
            "needs_background": "light"
          }
        }
      ]
    },
    {
      "cell_type": "markdown",
      "metadata": {
        "id": "cc8b19df-6e5c-4263-aaf2-53cdb3a965ef"
      },
      "source": [
        "## Entrenar Sobre imágenes ruidosas "
      ],
      "id": "cc8b19df-6e5c-4263-aaf2-53cdb3a965ef"
    },
    {
      "cell_type": "code",
      "metadata": {
        "id": "5KtweSkpUbzQ"
      },
      "source": [
        "autoencoder2 = Model(inputs, x)\n",
        "autoencoder2.compile(optimizer=\"adam\", loss=\"binary_crossentropy\")"
      ],
      "id": "5KtweSkpUbzQ",
      "execution_count": 27,
      "outputs": []
    },
    {
      "cell_type": "code",
      "metadata": {
        "colab": {
          "base_uri": "https://localhost:8080/"
        },
        "id": "273ddbee-4580-4e4d-ac59-056b3895fa58",
        "outputId": "495bd38f-1977-44f4-e537-70be0e053235"
      },
      "source": [
        "history2=autoencoder2.fit(\n",
        "    x=noisy_train_data,\n",
        "    y=train_data,\n",
        "    epochs=100,\n",
        "    batch_size=128,\n",
        "    shuffle=True,\n",
        "    validation_data=(noisy_test_data, test_data),\n",
        ")"
      ],
      "id": "273ddbee-4580-4e4d-ac59-056b3895fa58",
      "execution_count": 28,
      "outputs": [
        {
          "output_type": "stream",
          "text": [
            "Epoch 1/100\n",
            "469/469 [==============================] - 5s 9ms/step - loss: 0.1074 - val_loss: 0.0940\n",
            "Epoch 2/100\n",
            "469/469 [==============================] - 4s 8ms/step - loss: 0.0939 - val_loss: 0.0917\n",
            "Epoch 3/100\n",
            "469/469 [==============================] - 4s 8ms/step - loss: 0.0921 - val_loss: 0.0903\n",
            "Epoch 4/100\n",
            "469/469 [==============================] - 4s 8ms/step - loss: 0.0909 - val_loss: 0.0897\n",
            "Epoch 5/100\n",
            "469/469 [==============================] - 4s 8ms/step - loss: 0.0900 - val_loss: 0.0888\n",
            "Epoch 6/100\n",
            "469/469 [==============================] - 4s 8ms/step - loss: 0.0895 - val_loss: 0.0884\n",
            "Epoch 7/100\n",
            "469/469 [==============================] - 4s 8ms/step - loss: 0.0888 - val_loss: 0.0881\n",
            "Epoch 8/100\n",
            "469/469 [==============================] - 4s 8ms/step - loss: 0.0886 - val_loss: 0.0877\n",
            "Epoch 9/100\n",
            "469/469 [==============================] - 4s 8ms/step - loss: 0.0885 - val_loss: 0.0875\n",
            "Epoch 10/100\n",
            "469/469 [==============================] - 4s 8ms/step - loss: 0.0882 - val_loss: 0.0873\n",
            "Epoch 11/100\n",
            "469/469 [==============================] - 4s 8ms/step - loss: 0.0879 - val_loss: 0.0871\n",
            "Epoch 12/100\n",
            "469/469 [==============================] - 4s 8ms/step - loss: 0.0877 - val_loss: 0.0870\n",
            "Epoch 13/100\n",
            "469/469 [==============================] - 4s 8ms/step - loss: 0.0876 - val_loss: 0.0870\n",
            "Epoch 14/100\n",
            "469/469 [==============================] - 4s 8ms/step - loss: 0.0873 - val_loss: 0.0867\n",
            "Epoch 15/100\n",
            "469/469 [==============================] - 4s 8ms/step - loss: 0.0872 - val_loss: 0.0866\n",
            "Epoch 16/100\n",
            "469/469 [==============================] - 4s 8ms/step - loss: 0.0871 - val_loss: 0.0864\n",
            "Epoch 17/100\n",
            "469/469 [==============================] - 4s 8ms/step - loss: 0.0869 - val_loss: 0.0863\n",
            "Epoch 18/100\n",
            "469/469 [==============================] - 4s 8ms/step - loss: 0.0868 - val_loss: 0.0862\n",
            "Epoch 19/100\n",
            "469/469 [==============================] - 4s 8ms/step - loss: 0.0867 - val_loss: 0.0862\n",
            "Epoch 20/100\n",
            "469/469 [==============================] - 4s 8ms/step - loss: 0.0866 - val_loss: 0.0861\n",
            "Epoch 21/100\n",
            "469/469 [==============================] - 4s 8ms/step - loss: 0.0866 - val_loss: 0.0860\n",
            "Epoch 22/100\n",
            "469/469 [==============================] - 4s 8ms/step - loss: 0.0864 - val_loss: 0.0859\n",
            "Epoch 23/100\n",
            "469/469 [==============================] - 4s 8ms/step - loss: 0.0864 - val_loss: 0.0858\n",
            "Epoch 24/100\n",
            "469/469 [==============================] - 4s 8ms/step - loss: 0.0863 - val_loss: 0.0858\n",
            "Epoch 25/100\n",
            "469/469 [==============================] - 4s 8ms/step - loss: 0.0861 - val_loss: 0.0858\n",
            "Epoch 26/100\n",
            "469/469 [==============================] - 4s 8ms/step - loss: 0.0863 - val_loss: 0.0856\n",
            "Epoch 27/100\n",
            "469/469 [==============================] - 4s 8ms/step - loss: 0.0861 - val_loss: 0.0857\n",
            "Epoch 28/100\n",
            "469/469 [==============================] - 4s 8ms/step - loss: 0.0861 - val_loss: 0.0856\n",
            "Epoch 29/100\n",
            "469/469 [==============================] - 4s 8ms/step - loss: 0.0861 - val_loss: 0.0856\n",
            "Epoch 30/100\n",
            "469/469 [==============================] - 4s 8ms/step - loss: 0.0859 - val_loss: 0.0855\n",
            "Epoch 31/100\n",
            "469/469 [==============================] - 4s 8ms/step - loss: 0.0858 - val_loss: 0.0856\n",
            "Epoch 32/100\n",
            "469/469 [==============================] - 4s 8ms/step - loss: 0.0860 - val_loss: 0.0856\n",
            "Epoch 33/100\n",
            "469/469 [==============================] - 4s 9ms/step - loss: 0.0859 - val_loss: 0.0856\n",
            "Epoch 34/100\n",
            "469/469 [==============================] - 4s 9ms/step - loss: 0.0857 - val_loss: 0.0855\n",
            "Epoch 35/100\n",
            "469/469 [==============================] - 4s 8ms/step - loss: 0.0858 - val_loss: 0.0854\n",
            "Epoch 36/100\n",
            "469/469 [==============================] - 4s 8ms/step - loss: 0.0855 - val_loss: 0.0853\n",
            "Epoch 37/100\n",
            "469/469 [==============================] - 4s 8ms/step - loss: 0.0856 - val_loss: 0.0853\n",
            "Epoch 38/100\n",
            "469/469 [==============================] - 4s 8ms/step - loss: 0.0857 - val_loss: 0.0855\n",
            "Epoch 39/100\n",
            "469/469 [==============================] - 4s 8ms/step - loss: 0.0855 - val_loss: 0.0853\n",
            "Epoch 40/100\n",
            "469/469 [==============================] - 4s 8ms/step - loss: 0.0856 - val_loss: 0.0853\n",
            "Epoch 41/100\n",
            "469/469 [==============================] - 4s 8ms/step - loss: 0.0856 - val_loss: 0.0854\n",
            "Epoch 42/100\n",
            "469/469 [==============================] - 4s 8ms/step - loss: 0.0857 - val_loss: 0.0852\n",
            "Epoch 43/100\n",
            "469/469 [==============================] - 4s 8ms/step - loss: 0.0855 - val_loss: 0.0852\n",
            "Epoch 44/100\n",
            "469/469 [==============================] - 4s 8ms/step - loss: 0.0855 - val_loss: 0.0852\n",
            "Epoch 45/100\n",
            "469/469 [==============================] - 4s 8ms/step - loss: 0.0854 - val_loss: 0.0852\n",
            "Epoch 46/100\n",
            "469/469 [==============================] - 4s 8ms/step - loss: 0.0851 - val_loss: 0.0851\n",
            "Epoch 47/100\n",
            "469/469 [==============================] - 4s 8ms/step - loss: 0.0855 - val_loss: 0.0851\n",
            "Epoch 48/100\n",
            "469/469 [==============================] - 4s 8ms/step - loss: 0.0854 - val_loss: 0.0852\n",
            "Epoch 49/100\n",
            "469/469 [==============================] - 4s 8ms/step - loss: 0.0853 - val_loss: 0.0851\n",
            "Epoch 50/100\n",
            "469/469 [==============================] - 4s 8ms/step - loss: 0.0853 - val_loss: 0.0856\n",
            "Epoch 51/100\n",
            "469/469 [==============================] - 4s 8ms/step - loss: 0.0851 - val_loss: 0.0849\n",
            "Epoch 52/100\n",
            "469/469 [==============================] - 4s 8ms/step - loss: 0.0852 - val_loss: 0.0849\n",
            "Epoch 53/100\n",
            "469/469 [==============================] - 4s 8ms/step - loss: 0.0853 - val_loss: 0.0849\n",
            "Epoch 54/100\n",
            "469/469 [==============================] - 4s 8ms/step - loss: 0.0850 - val_loss: 0.0849\n",
            "Epoch 55/100\n",
            "469/469 [==============================] - 4s 8ms/step - loss: 0.0853 - val_loss: 0.0850\n",
            "Epoch 56/100\n",
            "469/469 [==============================] - 4s 8ms/step - loss: 0.0852 - val_loss: 0.0849\n",
            "Epoch 57/100\n",
            "469/469 [==============================] - 4s 8ms/step - loss: 0.0853 - val_loss: 0.0850\n",
            "Epoch 58/100\n",
            "469/469 [==============================] - 4s 8ms/step - loss: 0.0852 - val_loss: 0.0848\n",
            "Epoch 59/100\n",
            "469/469 [==============================] - 4s 8ms/step - loss: 0.0851 - val_loss: 0.0852\n",
            "Epoch 60/100\n",
            "469/469 [==============================] - 4s 8ms/step - loss: 0.0851 - val_loss: 0.0851\n",
            "Epoch 61/100\n",
            "469/469 [==============================] - 4s 8ms/step - loss: 0.0850 - val_loss: 0.0849\n",
            "Epoch 62/100\n",
            "469/469 [==============================] - 4s 8ms/step - loss: 0.0851 - val_loss: 0.0848\n",
            "Epoch 63/100\n",
            "469/469 [==============================] - 4s 9ms/step - loss: 0.0850 - val_loss: 0.0851\n",
            "Epoch 64/100\n",
            "469/469 [==============================] - 4s 8ms/step - loss: 0.0849 - val_loss: 0.0847\n",
            "Epoch 65/100\n",
            "469/469 [==============================] - 4s 8ms/step - loss: 0.0851 - val_loss: 0.0848\n",
            "Epoch 66/100\n",
            "469/469 [==============================] - 4s 8ms/step - loss: 0.0851 - val_loss: 0.0849\n",
            "Epoch 67/100\n",
            "469/469 [==============================] - 4s 8ms/step - loss: 0.0850 - val_loss: 0.0847\n",
            "Epoch 68/100\n",
            "469/469 [==============================] - 4s 8ms/step - loss: 0.0849 - val_loss: 0.0848\n",
            "Epoch 69/100\n",
            "469/469 [==============================] - 4s 8ms/step - loss: 0.0849 - val_loss: 0.0847\n",
            "Epoch 70/100\n",
            "469/469 [==============================] - 4s 8ms/step - loss: 0.0849 - val_loss: 0.0847\n",
            "Epoch 71/100\n",
            "469/469 [==============================] - 4s 8ms/step - loss: 0.0850 - val_loss: 0.0846\n",
            "Epoch 72/100\n",
            "469/469 [==============================] - 4s 8ms/step - loss: 0.0850 - val_loss: 0.0847\n",
            "Epoch 73/100\n",
            "469/469 [==============================] - 4s 8ms/step - loss: 0.0849 - val_loss: 0.0851\n",
            "Epoch 74/100\n",
            "469/469 [==============================] - 4s 8ms/step - loss: 0.0848 - val_loss: 0.0846\n",
            "Epoch 75/100\n",
            "469/469 [==============================] - 4s 8ms/step - loss: 0.0849 - val_loss: 0.0846\n",
            "Epoch 76/100\n",
            "469/469 [==============================] - 4s 8ms/step - loss: 0.0848 - val_loss: 0.0853\n",
            "Epoch 77/100\n",
            "469/469 [==============================] - 4s 8ms/step - loss: 0.0850 - val_loss: 0.0847\n",
            "Epoch 78/100\n",
            "469/469 [==============================] - 4s 8ms/step - loss: 0.0849 - val_loss: 0.0850\n",
            "Epoch 79/100\n",
            "469/469 [==============================] - 4s 8ms/step - loss: 0.0848 - val_loss: 0.0846\n",
            "Epoch 80/100\n",
            "469/469 [==============================] - 4s 8ms/step - loss: 0.0849 - val_loss: 0.0846\n",
            "Epoch 81/100\n",
            "469/469 [==============================] - 4s 8ms/step - loss: 0.0847 - val_loss: 0.0846\n",
            "Epoch 82/100\n",
            "469/469 [==============================] - 4s 8ms/step - loss: 0.0848 - val_loss: 0.0846\n",
            "Epoch 83/100\n",
            "469/469 [==============================] - 4s 8ms/step - loss: 0.0848 - val_loss: 0.0846\n",
            "Epoch 84/100\n",
            "469/469 [==============================] - 4s 8ms/step - loss: 0.0849 - val_loss: 0.0849\n",
            "Epoch 85/100\n",
            "469/469 [==============================] - 4s 8ms/step - loss: 0.0848 - val_loss: 0.0846\n",
            "Epoch 86/100\n",
            "469/469 [==============================] - 4s 8ms/step - loss: 0.0849 - val_loss: 0.0845\n",
            "Epoch 87/100\n",
            "469/469 [==============================] - 4s 8ms/step - loss: 0.0847 - val_loss: 0.0845\n",
            "Epoch 88/100\n",
            "469/469 [==============================] - 4s 8ms/step - loss: 0.0846 - val_loss: 0.0845\n",
            "Epoch 89/100\n",
            "469/469 [==============================] - 4s 8ms/step - loss: 0.0847 - val_loss: 0.0846\n",
            "Epoch 90/100\n",
            "469/469 [==============================] - 4s 8ms/step - loss: 0.0846 - val_loss: 0.0846\n",
            "Epoch 91/100\n",
            "469/469 [==============================] - 4s 8ms/step - loss: 0.0846 - val_loss: 0.0844\n",
            "Epoch 92/100\n",
            "469/469 [==============================] - 4s 8ms/step - loss: 0.0849 - val_loss: 0.0847\n",
            "Epoch 93/100\n",
            "469/469 [==============================] - 4s 8ms/step - loss: 0.0847 - val_loss: 0.0845\n",
            "Epoch 94/100\n",
            "469/469 [==============================] - 4s 8ms/step - loss: 0.0846 - val_loss: 0.0845\n",
            "Epoch 95/100\n",
            "469/469 [==============================] - 4s 8ms/step - loss: 0.0847 - val_loss: 0.0844\n",
            "Epoch 96/100\n",
            "469/469 [==============================] - 4s 8ms/step - loss: 0.0847 - val_loss: 0.0845\n",
            "Epoch 97/100\n",
            "469/469 [==============================] - 4s 8ms/step - loss: 0.0846 - val_loss: 0.0845\n",
            "Epoch 98/100\n",
            "469/469 [==============================] - 4s 8ms/step - loss: 0.0846 - val_loss: 0.0845\n",
            "Epoch 99/100\n",
            "469/469 [==============================] - 4s 8ms/step - loss: 0.0845 - val_loss: 0.0845\n",
            "Epoch 100/100\n",
            "469/469 [==============================] - 4s 8ms/step - loss: 0.0845 - val_loss: 0.0844\n"
          ],
          "name": "stdout"
        }
      ]
    },
    {
      "cell_type": "code",
      "metadata": {
        "colab": {
          "base_uri": "https://localhost:8080/",
          "height": 265
        },
        "id": "EhTpNpdNTg5f",
        "outputId": "14f31679-1898-4fb1-b5f4-76eeeb402a64"
      },
      "source": [
        "plt.plot(history2.history['loss'][-60:],'bo-')\n",
        "plt.plot(history2.history['val_loss'][-60:],'ro-')\n",
        "plt.grid()\n",
        "plt.show()"
      ],
      "id": "EhTpNpdNTg5f",
      "execution_count": 35,
      "outputs": [
        {
          "output_type": "display_data",
          "data": {
            "image/png": "[encoded data removed]",
            "text/plain": [
              "<Figure size 432x288 with 1 Axes>"
            ]
          },
          "metadata": {
            "tags": [],
            "needs_background": "light"
          }
        }
      ]
    },
    {
      "cell_type": "markdown",
      "metadata": {
        "id": "80600cc3-f43f-45e9-bbe4-0dd92426f1ae"
      },
      "source": [
        "## Ver Predicciones"
      ],
      "id": "80600cc3-f43f-45e9-bbe4-0dd92426f1ae"
    },
    {
      "cell_type": "code",
      "metadata": {
        "colab": {
          "base_uri": "https://localhost:8080/",
          "height": 248
        },
        "id": "46209796-25bc-4882-9911-ff7a690cbbe1",
        "outputId": "95b228b1-8803-4ac2-c4d4-47b92e32ff37"
      },
      "source": [
        "predictions = autoencoder.predict(noisy_test_data)\n",
        "display(noisy_test_data, predictions)"
      ],
      "id": "46209796-25bc-4882-9911-ff7a690cbbe1",
      "execution_count": 30,
      "outputs": [
        {
          "output_type": "display_data",
          "data": {
            "image/png": "[encoded data removed]",
            "text/plain": [
              "<Figure size 1440x288 with 20 Axes>"
            ]
          },
          "metadata": {
            "tags": [],
            "needs_background": "light"
          }
        }
      ]
    }
  ]
}