{
 "cells": [
  {
   "cell_type": "markdown",
   "metadata": {
    "slideshow": {
     "slide_type": "slide"
    },
    "tags": []
   },
   "source": [
    "<figure>\n",
    "<img src=\"../Imagenes/logo-final-ap.png\"  width=\"80\" height=\"80\" align=\"left\"/> \n",
    "</figure>\n",
    "\n",
    "# <span style=\"color:blue\"><left>Aprendizaje Profundo</left></span>"
   ]
  },
  {
   "cell_type": "markdown",
   "metadata": {},
   "source": [
    "# <span style=\"color:red\"><center>Herramientas Digitales</center></span>"
   ]
  },
  {
   "cell_type": "markdown",
   "metadata": {},
   "source": [
    "<center>Entornos de programación, desarrollo local y en la nube</center>"
   ]
  },
  {
   "cell_type": "markdown",
   "metadata": {
    "slideshow": {
     "slide_type": "slide"
    },
    "tags": []
   },
   "source": [
    "##   <span style=\"color:blue\">Autores</span>"
   ]
  },
  {
   "cell_type": "markdown",
   "metadata": {},
   "source": [
    "1. Alvaro Mauricio Montenegro Díaz, ammontenegrod@unal.edu.co\n",
    "1. Daniel Mauricio Montenegro Reyes, dextronomo@gmail.com "
   ]
  },
  {
   "cell_type": "markdown",
   "metadata": {
    "slideshow": {
     "slide_type": "subslide"
    },
    "tags": []
   },
   "source": [
    "## <span style=\"color:blue\">Asesora Medios y Marketing digital</span>"
   ]
  },
  {
   "cell_type": "markdown",
   "metadata": {},
   "source": [
    "4. Maria del Pilar Montenegro, pmontenegro88@gmail.com "
   ]
  },
  {
   "cell_type": "markdown",
   "metadata": {
    "slideshow": {
     "slide_type": "slide"
    },
    "tags": []
   },
   "source": [
    "## <span style=\"color:blue\">Contenido</span>"
   ]
  },
  {
   "cell_type": "markdown",
   "metadata": {},
   "source": [
    "1. [Habilidades Necesarias](#Habilidades-Necesarias)\n",
    "1. [Herramientas Básicas](#Herramientas-Básicas)\n",
    "1. [Herramientas en la Nube](#Herramientas-en-la-Nube)\n",
    "1. [Herramientas IA](#Herramientas-IA)\n",
    "1. [La Localidad y la Nube](#La-Localidad-y-la-Nube)\n",
    "1. [Lenguaje Markdown](#Lenguaje-Markdown)"
   ]
  },
  {
   "cell_type": "markdown",
   "metadata": {},
   "source": [
    "## <span style=\"color:blue\">Habilidades Necesarias</span>"
   ]
  },
  {
   "cell_type": "markdown",
   "metadata": {},
   "source": [
    "**¿Qué necesito desarrollar para ser un científico de Datos?**\n",
    "\n",
    "<center>\n",
    "    <figure>\n",
    "    <img src=\"../Imagenes/skills.jpg\"  width=\"600\" height=\"300\"/> \n",
    "    <figcaption>\n",
    "    <p style=\"text-align:center\"><strong>Los requerimientos para ser un científico de datos</strong></p>\n",
    "    </figcaption>\n",
    "    </figure>\n",
    "</center>"
   ]
  },
  {
   "cell_type": "markdown",
   "metadata": {},
   "source": [
    "[[Volver]](#Contenido)"
   ]
  },
  {
   "cell_type": "markdown",
   "metadata": {
    "slideshow": {
     "slide_type": "slide"
    },
    "tags": []
   },
   "source": [
    "## <span style=\"color:blue\">Herramientas Básicas</span>"
   ]
  },
  {
   "cell_type": "markdown",
   "metadata": {},
   "source": [
    "* [Anaconda](https://www.anaconda.com/)\n",
    "\n",
    "<figure>\n",
    "<img src=\"../Imagenes/anaconda.jpg\"  width=\"400\" height=\"300\"/> \n",
    "</figure>\n",
    "\n",
    "* [Python](https://www.python.org/)\n",
    "\n",
    "<figure>\n",
    "<img src=\"../Imagenes/python.png\"  width=\"400\" height=\"300\"/> \n",
    "</figure>\n",
    "\n",
    "* [R](https://www.r-project.org/)\n",
    "\n",
    "\n",
    "<figure>\n",
    "<img src=\"../Imagenes/R.png\"  width=\"200\" height=\"200\"/> \n",
    "</figure>\n",
    "\n",
    "* [Jupyter Lab](https://jupyter.org/)\n",
    "\n",
    "\n",
    "<figure>\n",
    "<img src=\"../Imagenes/jupyter_lab.png\"  width=\"400\" height=\"300\"/> \n",
    "</figure>\n",
    "\n",
    "* [Jupyter Book](https://jupyterbook.org/en/stable/intro.html)\n",
    "\n",
    "<figure>\n",
    "<img src=\"../Imagenes/jupyter_book.png\"  width=\"400\" height=\"300\"/> \n",
    "</figure>\n",
    "\n",
    "* [Docker](https://hub.docker.com/)\n",
    "\n",
    "<figure>\n",
    "<img src=\"../Imagenes/docker.png\"  width=\"400\" height=\"300\"/> \n",
    "</figure>"
   ]
  },
  {
   "cell_type": "markdown",
   "metadata": {},
   "source": [
    "[[Volver]](#Contenido)"
   ]
  },
  {
   "cell_type": "markdown",
   "metadata": {},
   "source": [
    "##   <span style=\"color:blue\">Herramientas en la Nube</span>"
   ]
  },
  {
   "cell_type": "markdown",
   "metadata": {},
   "source": [
    "* [Colaboratory](https://colab.research.google.com/?utm_source=scs-index)\n",
    "\n",
    "<figure>\n",
    "<img src=\"../Imagenes/colab.jpg\"  width=\"400\" height=\"300\"/> \n",
    "</figure>\n",
    "\n",
    "\n",
    "* [Github](https://github.com)\n",
    "\n",
    "<figure>\n",
    "<img src=\"../Imagenes/GitHub.png\"  width=\"400\" height=\"300\"/> \n",
    "</figure>\n",
    "\n",
    "* [GitLab](https://about.gitlab.com/)\n",
    "\n",
    "<figure>\n",
    "<img src=\"../Imagenes/GitLab.png\"  width=\"400\" height=\"300\"/> \n",
    "</figure>\n",
    "\n",
    "* [Binder](https://mybinder.org/)\n",
    "\n",
    "<figure>\n",
    "<img src=\"../Imagenes/binder.png\"  width=\"400\" height=\"300\"/> \n",
    "</figure>\n",
    "\n",
    "* [nbviewer](https://nbviewer.org/)\n",
    "\n",
    "<figure>\n",
    "<img src=\"../Imagenes/nbviewer.png\"  width=\"400\" height=\"300\"/> \n",
    "</figure>\n",
    "\n",
    "* [GitHub & BitBucket HTML Preview](https://htmlpreview.github.io/)\n",
    "\n",
    "<figure>\n",
    "<img src=\"../Imagenes/html_preview.png\"  width=\"400\" height=\"300\"/> \n",
    "</figure>"
   ]
  },
  {
   "cell_type": "markdown",
   "metadata": {},
   "source": [
    "[[Volver]](#Contenido)"
   ]
  },
  {
   "cell_type": "markdown",
   "metadata": {},
   "source": [
    "## <span style=\"color:blue\">Herramientas IA</span>"
   ]
  },
  {
   "cell_type": "markdown",
   "metadata": {},
   "source": [
    "### Motor de Tensores"
   ]
  },
  {
   "cell_type": "markdown",
   "metadata": {},
   "source": [
    "* [Tensorflow](https://www.tensorflow.org/)\n",
    "\n",
    "<figure>\n",
    "<img src=\"../Imagenes/tensorflow.png\"  width=\"400\" height=\"300\"/> \n",
    "</figure>\n",
    "\n",
    "* [Keras](https://keras.io/)\n",
    "\n",
    "<figure>\n",
    "<img src=\"../Imagenes/keras.png\"  width=\"400\" height=\"300\"/> \n",
    "</figure>\n",
    "\n",
    "* [Pytorch](https://pytorch.org/)\n",
    "\n",
    "<figure>\n",
    "<img src=\"../Imagenes/pytorch.png\"  width=\"400\" height=\"300\"/> \n",
    "</figure>"
   ]
  },
  {
   "cell_type": "markdown",
   "metadata": {},
   "source": [
    "### Visión Artificial"
   ]
  },
  {
   "cell_type": "markdown",
   "metadata": {},
   "source": [
    "* [OpenCV](https://opencv.org/)\n",
    "\n",
    "<figure>\n",
    "<img src=\"../Imagenes/opencv.png\"  width=\"400\" height=\"300\"/> \n",
    "</figure>"
   ]
  },
  {
   "cell_type": "markdown",
   "metadata": {},
   "source": [
    "### Audio y Música Artificial"
   ]
  },
  {
   "cell_type": "markdown",
   "metadata": {},
   "source": [
    "* [Librosa](https://librosa.org/doc/latest/index.html)\n",
    "\n",
    "<figure>\n",
    "<img src=\"../Imagenes/librosa.png\"  width=\"400\" height=\"300\"/> \n",
    "</figure>"
   ]
  },
  {
   "cell_type": "markdown",
   "metadata": {},
   "source": [
    "### Procesamiento de Lenguaje Natural"
   ]
  },
  {
   "cell_type": "markdown",
   "metadata": {},
   "source": [
    "* [Gensim](https://radimrehurek.com/gensim/)\n",
    "\n",
    "<figure>\n",
    "<img src=\"../Imagenes/gensim.png\"  width=\"400\" height=\"300\"/> \n",
    "</figure>\n",
    "\n",
    "* [NLTK](https://www.nltk.org/)\n",
    "\n",
    "<figure>\n",
    "<img src=\"../Imagenes/nltk.jpg\"  width=\"400\" height=\"300\"/> \n",
    "</figure>\n",
    "\n",
    "* [Spacy](https://spacy.io/)\n",
    "\n",
    "<figure>\n",
    "<img src=\"../Imagenes/spacy.png\"  width=\"400\" height=\"300\"/> \n",
    "</figure>\n",
    "\n",
    "* [Stanza](https://stanfordnlp.github.io/stanza/)\n",
    "\n",
    "<figure>\n",
    "<img src=\"../Imagenes/stanza.png\"  width=\"400\" height=\"300\"/> \n",
    "</figure>"
   ]
  },
  {
   "cell_type": "markdown",
   "metadata": {},
   "source": [
    "### Pronóstico"
   ]
  },
  {
   "cell_type": "markdown",
   "metadata": {},
   "source": [
    "* [Temporal Fusion Transformer (TFT)](https://github.com/google-research/google-research/tree/master/tft)"
   ]
  },
  {
   "cell_type": "markdown",
   "metadata": {},
   "source": [
    "### Aprendizaje Reforzado"
   ]
  },
  {
   "cell_type": "markdown",
   "metadata": {},
   "source": [
    "* [OpenAI Gym](https://gym.openai.com/)\n",
    "\n",
    "<figure>\n",
    "<img src=\"../Imagenes/gym.png\"  width=\"400\" height=\"300\"/> \n",
    "</figure>"
   ]
  },
  {
   "cell_type": "markdown",
   "metadata": {},
   "source": [
    "[[Volver]](#Contenido)"
   ]
  },
  {
   "cell_type": "markdown",
   "metadata": {},
   "source": [
    "## <span style=\"color:blue\">La Localidad y la Nube</span>"
   ]
  },
  {
   "cell_type": "markdown",
   "metadata": {},
   "source": [
    "¿Qué es la Nube?\n",
    "\n",
    "<figure>\n",
    "<img src=\"../Imagenes/nube.jpg\"  width=\"800\" height=\"300\"/> \n",
    "</figure>\n",
    "\n",
    "Fuente: [gvec, What is ‘The Cloud?’](https://www.gvec.net/what-is-the-cloud/)\n",
    "\n",
    "Artículo Importante: [Encrypted Cloud Storage: Why Your Files are Vulnerable to Hacking (And What You Can Do About It)](https://www.virtru.com/blog/cloud-storage-encryption/)\n",
    "\n",
    "[[Volver]](#Contenido)"
   ]
  },
  {
   "cell_type": "markdown",
   "metadata": {},
   "source": [
    "## <span style=\"color:blue\">Lenguaje Markdown</span>"
   ]
  },
  {
   "cell_type": "markdown",
   "metadata": {},
   "source": [
    "¿Cómo escribir un cuaderno actual interactivo?\n",
    "\n",
    "<figure>\n",
    "<img src=\"../Imagenes/markdown.png\"  width=\"700\" height=\"300\"/> \n",
    "</figure>\n",
    "\n",
    "Fuente: [Wikipedia](https://es.wikipedia.org/wiki/Markdown)\n",
    "\n",
    "**Manual de Markdown:** [Markdown Cheat Sheet](https://www.markdownguide.org/cheat-sheet/)\n",
    "\n",
    "[[Volver]](#Contenido)"
   ]
  },
  {
   "cell_type": "markdown",
   "metadata": {},
   "source": [
    "### Tipos de Archivos exportables para Notebooks"
   ]
  },
  {
   "cell_type": "markdown",
   "metadata": {},
   "source": [
    "Es posible exportar un Notebook en diferentes formatos:\n",
    "\n",
    "<figure>\n",
    "<img src=\"../Imagenes/export_nb.png\"  width=\"700\" height=\"300\"/> \n",
    "</figure>\n",
    "\n",
    "En particular, para Slides, es suficiente con controlar el menú derecho de Jupyter Lab:\n",
    "\n",
    "<figure>\n",
    "<img src=\"../Imagenes/slides_nb.png\"  width=\"300\" height=\"300\"/> \n",
    "</figure>"
   ]
  },
  {
   "cell_type": "markdown",
   "metadata": {},
   "source": [
    "### Algunas Extensiones de Markdown"
   ]
  },
  {
   "cell_type": "markdown",
   "metadata": {},
   "source": [
    "- **Pie de Página (Sólo en HTML)**\n",
    "\n",
    "Esta es una cita al pie de pagína. [^1]\n",
    "\n",
    "[^1]: Aquí va el pie de página."
   ]
  },
  {
   "cell_type": "markdown",
   "metadata": {},
   "source": [
    " - **Checkbox**\n",
    " \n",
    "- [x] Write the press release\n",
    "- [ ] Update the website\n",
    "- [ ] Contact the media"
   ]
  },
  {
   "cell_type": "markdown",
   "metadata": {},
   "source": [
    " - **Link a otros Notebooks**\n",
    " \n",
    "[Link a otra parte Específica de un Notebook](./Imagenes_Jupyter.ipynb#HTML-Puro)"
   ]
  },
  {
   "cell_type": "markdown",
   "metadata": {},
   "source": [
    " - **Videos**\n",
    "\n",
    "Observemos el video a continuación:"
   ]
  },
  {
   "cell_type": "markdown",
   "metadata": {},
   "source": [
    "```Los Chimpandolfos - Eclipse```\n",
    "\n",
    "<center>\n",
    "<iframe width=\"853\" height=\"480\" src=\"https://www.youtube.com/embed/xL9bh9V2rPQ\" title=\"Los Chimpandolfos - Eclipse\" frameborder=\"0\" allow=\"accelerometer; autoplay; clipboard-write; encrypted-media; gyroscope; picture-in-picture\" allowfullscreen></iframe>\n",
    "</center>"
   ]
  },
  {
   "cell_type": "markdown",
   "metadata": {},
   "source": [
    "También podemos insertar videos por medio de código Python:"
   ]
  },
  {
   "cell_type": "code",
   "execution_count": 2,
   "metadata": {},
   "outputs": [
    {
     "data": {
      "image/jpeg": "[encoded data removed]",
      "text/html": [
       "\n",
       "        <iframe\n",
       "            width=\"750\"\n",
       "            height=\"350\"\n",
       "            src=\"https://www.youtube.com/embed/cQ54GDm1eL0\"\n",
       "            frameborder=\"0\"\n",
       "            allowfullscreen\n",
       "            \n",
       "        ></iframe>\n",
       "        "
      ],
      "text/plain": [
       "<IPython.lib.display.YouTubeVideo at 0x104d3cf40>"
      ]
     },
     "execution_count": 2,
     "metadata": {},
     "output_type": "execute_result"
    }
   ],
   "source": [
    "# Librería para insertar videos de YouTube\n",
    "from IPython.display import YouTubeVideo\n",
    "\n",
    "# Insertar Video de YouTube\n",
    "YouTubeVideo('cQ54GDm1eL0', width=750, height=350)"
   ]
  },
  {
   "cell_type": "markdown",
   "metadata": {},
   "source": [
    "### Algunas Extensiones de Notebooks"
   ]
  },
  {
   "cell_type": "markdown",
   "metadata": {},
   "source": [
    "#### Widgets Interactivos"
   ]
  },
  {
   "cell_type": "code",
   "execution_count": 12,
   "metadata": {},
   "outputs": [
    {
     "data": {
      "application/vnd.jupyter.widget-view+json": {
       "model_id": "c0099aa28cb64d41b88dd8d8d5f25178",
       "version_major": 2,
       "version_minor": 0
      },
      "text/plain": [
       "IntSlider(value=5, description='Deslizador:', max=10)"
      ]
     },
     "metadata": {},
     "output_type": "display_data"
    }
   ],
   "source": [
    "import ipywidgets as widgets\n",
    "\n",
    "widgets.IntSlider(\n",
    "    min=0,\n",
    "    max=10,\n",
    "    step=1,\n",
    "    description='Deslizador:',\n",
    "    value=5\n",
    ")"
   ]
  },
  {
   "cell_type": "code",
   "execution_count": 13,
   "metadata": {},
   "outputs": [
    {
     "data": {
      "application/vnd.jupyter.widget-view+json": {
       "model_id": "af719a6745824af9a7e5347a9280629e",
       "version_major": 2,
       "version_minor": 0
      },
      "text/plain": [
       "interactive(children=(FloatSlider(value=0.0, description='σ', max=10.0, step=0.2), FloatSlider(value=0.0, desc…"
      ]
     },
     "metadata": {},
     "output_type": "display_data"
    }
   ],
   "source": [
    "from ipywidgets import interactive\n",
    "\n",
    "import matplotlib.pyplot as plt\n",
    "import numpy as np\n",
    "import pandas as pd\n",
    "\n",
    "# Simulación de los Datos\n",
    "\n",
    "def simular_datos(σ=0,w1=0):\n",
    "    # Se escoge una semilla\n",
    "    np.random.seed(22)\n",
    "\n",
    "    # Generación de los datos\n",
    "    x=np.linspace(-2,2,100)\n",
    "    y=w1*x+np.random.normal(loc=0,scale=σ,size=len(x))\n",
    "    data=pd.DataFrame({\"Mediciones\":x,\"Observaciones\":y})\n",
    "\n",
    "    plt.figure(figsize=(10,7))\n",
    "    plt.plot(x,y,'o',markersize=5)\n",
    "    plt.xlabel(\"Mediciones\",fontsize=15)\n",
    "    plt.ylabel(\"Observaciones\",fontsize=15)\n",
    "    plt.legend([\"Datos\"],fontsize=15)\n",
    "    plt.ylim([-30,30])\n",
    "    plt.title(f'Simulación de ${w1}x+\\epsilon$, $\\epsilon$ ~ N(0,σ²)')\n",
    "    plt.show()\n",
    "    return x,y\n",
    "\n",
    "interactive_plot = interactive(simular_datos, σ=(0, 10.,0.2),w1 = (-10.,10.))\n",
    "interactive_plot"
   ]
  }
 ],
 "metadata": {
  "kernelspec": {
   "display_name": "Python 3 (ipykernel)",
   "language": "python",
   "name": "python3"
  },
  "language_info": {
   "codemirror_mode": {
    "name": "ipython",
    "version": 3
   },
   "file_extension": ".py",
   "mimetype": "text/x-python",
   "name": "python",
   "nbconvert_exporter": "python",
   "pygments_lexer": "ipython3",
   "version": "3.9.13"
  }
 },
 "nbformat": 4,
 "nbformat_minor": 4
}
