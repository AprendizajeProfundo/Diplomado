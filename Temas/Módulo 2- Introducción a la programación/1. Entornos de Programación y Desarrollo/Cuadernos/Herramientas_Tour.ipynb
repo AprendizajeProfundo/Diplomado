{
 "cells": [
  {
   "cell_type": "markdown",
   "metadata": {},
   "source": [
    "**Diplomado en Inteligencia Artificial y Aprendizaje Profundo**"
   ]
  },
  {
   "cell_type": "markdown",
   "metadata": {},
   "source": [
    "# Las herramientas que requerimos en el curso"
   ]
  },
  {
   "cell_type": "markdown",
   "metadata": {},
   "source": [
    "##  Autores"
   ]
  },
  {
   "cell_type": "markdown",
   "metadata": {},
   "source": [
    "1. Alvaro Mauricio Montenegro Díaz, ammontenegrod@unal.edu.co\n",
    "2. Daniel Mauricio Montenegro Reyes, dextronomo@gmail.com \n",
    "3. Oleg Jarma, ojarmam@unal.edu.co \n",
    "4. Maria del Pilar Montenegro, pmontenegro88@gmail.com "
   ]
  },
  {
   "cell_type": "markdown",
   "metadata": {},
   "source": [
    "## Contenido"
   ]
  },
  {
   "cell_type": "markdown",
   "metadata": {},
   "source": [
    "  * [Las habilidades](#Las-habilidades)\n",
    "  * [El hardware](#El-hardware)\n",
    "  * [La plataforma de programación](#La-plataforma-de-Programación)"
   ]
  },
  {
   "cell_type": "markdown",
   "metadata": {},
   "source": [
    "## Las habilidades"
   ]
  },
  {
   "cell_type": "markdown",
   "metadata": {},
   "source": [
    "<figure>\n",
    "<center>\n",
    "<img src=\"../Imagenes/Data-Science.jpg\" width=\"800\" height=\"600\" align=\"center\"/>\n",
    "</center>\n",
    "<figcaption>\n",
    "<p style=\"text-align:center\">Los requerimientos para ser un científico de datos </p>\n",
    "</figcaption>\n",
    "</figure>\n",
    "\n",
    "Fuente: "
   ]
  },
  {
   "cell_type": "markdown",
   "metadata": {},
   "source": [
    "## El hardware"
   ]
  },
  {
   "cell_type": "markdown",
   "metadata": {},
   "source": [
    "### Alan Turing y El código fantasma"
   ]
  },
  {
   "cell_type": "markdown",
   "metadata": {},
   "source": [
    "[Código Fantasma, según hollywood](https://www.youtube.com/watch?v=694Gt_c4X7w)\n",
    "\n",
    "[Alan Turing](https://es.wikipedia.org/wiki/Alan_Turing) fué el matemático que desarrolló los fundamentos de la computación.\n",
    "\n",
    "También se imaginó como podriamos probar si un código es una inteligencia artificial\n",
    "\n"
   ]
  },
  {
   "cell_type": "markdown",
   "metadata": {},
   "source": [
    "### Test de Turing"
   ]
  },
  {
   "cell_type": "markdown",
   "metadata": {},
   "source": [
    "<figure>\n",
    "<center>\n",
    "<img src=\"../Imagenes/Turing_Test.png\" width=\"400\" height=\"300\" align=\"center\"/>\n",
    "</center>\n",
    "<figcaption>\n",
    "<p style=\"text-align:center\">Test de Turing </p>\n",
    "</figcaption>\n",
    "</figure>\n",
    "\n",
    "Fuente: [Wikipedia](https://es.wikipedia.org/wiki/Prueba_de_Turing)"
   ]
  },
  {
   "cell_type": "markdown",
   "metadata": {},
   "source": [
    "### CPU"
   ]
  },
  {
   "cell_type": "markdown",
   "metadata": {},
   "source": [
    "<figure>\n",
    "<center>\n",
    "<img src=\"../Imagenes/CPU.jpg\" width=\"400\" height=\"300\" align=\"center\"/>\n",
    "</center>\n",
    "<figcaption>\n",
    "<p style=\"text-align:center\">CPU </p>\n",
    "</figcaption>\n",
    "</figure>\n",
    "\n",
    "Fuente: [Wikipedia](https://es.wikipedia.org/wiki/Unidad_central_de_procesamiento)"
   ]
  },
  {
   "cell_type": "markdown",
   "metadata": {},
   "source": [
    "### GPU"
   ]
  },
  {
   "cell_type": "markdown",
   "metadata": {},
   "source": [
    "<figure>\n",
    "<center>\n",
    "<img src=\"../Imagenes/GPU.jpg\" width=\"400\" height=\"300\" align=\"center\"/>\n",
    "</center>\n",
    "<figcaption>\n",
    "<p style=\"text-align:center\">GPU </p>\n",
    "</figcaption>\n",
    "</figure>\n",
    "\n",
    "Fuente: [Wikipedia](https://es.wikipedia.org/wiki/Unidad_de_procesamiento_gr%C3%A1fico)"
   ]
  },
  {
   "cell_type": "markdown",
   "metadata": {},
   "source": [
    "<figure>\n",
    "<center>\n",
    "<img src=\"../Imagenes/TPU.png\" width=\"800\" height=\"600\" align=\"center\"/>\n",
    "</center>\n",
    "<figcaption>\n",
    "<p style=\"text-align:center\">TPU </p>\n",
    "</figcaption>\n",
    "</figure>\n",
    "\n",
    "Fuente: [Google](https://www.google.com/search?q=tpu+google&tbm=isch&source=iu&ictx=1&fir=dYye5M5ET4JrrM%252CrD4UXuWtIR990M%252C%252Fg%252F11byyk3r7m&vet=1&usg=AI4_-kTfgvyy8JaW1OP2qvBakvYgyH-01Q&sa=X&ved=2ahUKEwi-2YSt7M3rAhUI11kKHafFAUIQ_B16BAgPEAM#imgrc=dWXh-VobkateLMo)"
   ]
  },
  {
   "cell_type": "markdown",
   "metadata": {},
   "source": [
    "## La plataforma de Programación"
   ]
  },
  {
   "cell_type": "markdown",
   "metadata": {},
   "source": [
    "* [Anaconda](https://www.anaconda.com/)\n",
    "* [Python](https://www.python.org/)\n",
    "* [Jupyter lab](https://jupyter.org/)\n",
    "* [Tensorflow](https://www.tensorflow.org/)\n",
    "* [Keras](https://keras.io/)\n",
    "\n",
    "\n",
    "\n",
    "\n",
    "\n",
    "* [OpenCV](https://opencv.org/)\n",
    "* [OpenAI Gym](https://gym.openai.com/)\n",
    "\n",
    "\n",
    "* [Librosa](https://librosa.org/doc/latest/index.html)\n",
    "* [Gensim](https://radimrehurek.com/gensim/)\n",
    "* [NLTK](https://www.nltk.org/)\n",
    "\n",
    "\n",
    "\n",
    "\n",
    "* [Hithub](https://github.com/)\n",
    "* [Binder](https://mybinder.org/)\n",
    "* [Docker](https://hub.docker.com/)\n"
   ]
  },
  {
   "cell_type": "markdown",
   "metadata": {},
   "source": [
    "- [Regresar al inicio](#Contenido)"
   ]
  }
 ],
 "metadata": {
  "kernelspec": {
   "display_name": "Python 3",
   "language": "python",
   "name": "python3"
  },
  "language_info": {
   "codemirror_mode": {
    "name": "ipython",
    "version": 3
   },
   "file_extension": ".py",
   "mimetype": "text/x-python",
   "name": "python",
   "nbconvert_exporter": "python",
   "pygments_lexer": "ipython3",
   "version": "3.7.7"
  },
  "toc-autonumbering": false
 },
 "nbformat": 4,
 "nbformat_minor": 4
}
