{
 "cells": [
  {
   "cell_type": "markdown",
   "metadata": {},
   "source": [
    "**Diplomado en Inteligencia Artificial y Aprendizaje Profundo**"
   ]
  },
  {
   "cell_type": "markdown",
   "metadata": {},
   "source": [
    "# Sesión 2: Herramientas Digitales"
   ]
  },
  {
   "cell_type": "markdown",
   "metadata": {},
   "source": [
    "##  Autores"
   ]
  },
  {
   "cell_type": "markdown",
   "metadata": {},
   "source": [
    "1. Alvaro Mauricio Montenegro Díaz, ammontenegrod@unal.edu.co\n",
    "2. Daniel Mauricio Montenegro Reyes, dextronomo@gmail.com \n",
    "3. Oleg Jarma, ojarmam@unal.edu.co\n",
    "4. María del Pilar Montenegro Reyes, pmontenegro88@gmail.com"
   ]
  },
  {
   "cell_type": "markdown",
   "metadata": {},
   "source": [
    "## Contenido"
   ]
  },
  {
   "cell_type": "markdown",
   "metadata": {},
   "source": [
    "1. [Colaboratory](#Colaboratory)\n",
    "2. [GitHub](#GitHub)\n",
    "3. [La localidad y la nube](#La-Localidad-y-la-Nube)\n",
    "4. [Lenguaje Markdown](#Lenguaje-Markdown)\n",
    "    * [Primeros Pasos](#Primeros-Pasos)\n",
    "    * [Links](#Links)\n",
    "    * [Imágenes](#Imágenes)\n",
    "    * [LateX](#LateX)\n",
    "    * [Hola Mundo](#Hola-Mundo)\n"
   ]
  },
  {
   "cell_type": "markdown",
   "metadata": {},
   "source": [
    "# Colaboratory"
   ]
  },
  {
   "cell_type": "markdown",
   "metadata": {},
   "source": [
    "[![Colab](https://cdn-images-1.medium.com/max/1000/0*6ElaVC0Cf4OndZKi.png)](https://colab.research.google.com/notebooks/intro.ipynb)\n",
    "\n",
    "Fuente: [Integrating Google Colaboratory into Your Machine Learning Workflow](https://mc.ai/integrating-google-colaboratory-into-your-machine-learning-workflow/)\n",
    "\n",
    "[[Volver]](#Contenido)"
   ]
  },
  {
   "cell_type": "markdown",
   "metadata": {},
   "source": [
    "# GitHub"
   ]
  },
  {
   "cell_type": "markdown",
   "metadata": {},
   "source": [
    "[![GitHub](https://portswigger.net/cms/images/54/14/6efb9bc5d143-article-190612-github-body-text.jpg)](https://github.com/)\n",
    "\n",
    "Fuente: [Open source tool for bug hunters searches for leaked secrets in GitHub commits](https://portswigger.net/daily-swig/open-source-tool-for-bug-hunters-searches-for-leaked-secrets-in-github-commits)\n",
    "\n",
    "[[Volver]](#Contenido)"
   ]
  },
  {
   "cell_type": "markdown",
   "metadata": {},
   "source": [
    "# La Localidad y la Nube"
   ]
  },
  {
   "cell_type": "markdown",
   "metadata": {},
   "source": [
    "¿Qué es la Nube?\n",
    "\n",
    "![Cloud](https://inxmad4bw31barrx17wec71c-wpengine.netdna-ssl.com/wp-content/uploads/2015/10/Encrypted-Cloud-Storage-6-Ways-Your-Files-are-Vulnerable-to-Hacking-600x600-1.jpg)\n",
    "\n",
    "Fuente: [Encrypted Cloud Storage: Why Your Files are Vulnerable to Hacking (And What You Can Do About It](https://www.virtru.com/blog/cloud-storage-encryption/)\n",
    "\n",
    "[[Volver]](#Contenido)"
   ]
  },
  {
   "cell_type": "markdown",
   "metadata": {},
   "source": [
    "# Lenguaje Markdown"
   ]
  },
  {
   "cell_type": "markdown",
   "metadata": {},
   "source": [
    "¿Cómo escribir un documento científico actual interactivo?\n",
    "\n",
    "![MD](https://upload.wikimedia.org/wikipedia/commons/thumb/4/48/Markdown-mark.svg/1024px-Markdown-mark.svg.png)\n",
    "\n",
    "Fuente: [Wikipedia](https://es.wikipedia.org/wiki/Markdown)\n",
    "\n",
    "[[Volver]](#Contenido)"
   ]
  },
  {
   "cell_type": "markdown",
   "metadata": {},
   "source": [
    "**¡EL MATERIAL LLEGA HASTA AQUI!** "
   ]
  }
 ],
 "metadata": {
  "kernelspec": {
   "display_name": "Python 3",
   "language": "python",
   "name": "python3"
  },
  "language_info": {
   "codemirror_mode": {
    "name": "ipython",
    "version": 3
   },
   "file_extension": ".py",
   "mimetype": "text/x-python",
   "name": "python",
   "nbconvert_exporter": "python",
   "pygments_lexer": "ipython3",
   "version": "3.8.5"
  }
 },
 "nbformat": 4,
 "nbformat_minor": 4
}
