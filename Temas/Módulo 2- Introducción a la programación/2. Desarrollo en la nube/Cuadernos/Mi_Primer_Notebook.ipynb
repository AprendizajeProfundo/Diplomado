{
 "cells": [
  {
   "cell_type": "markdown",
   "metadata": {
    "id": "_bMWnoxB_30e",
    "slideshow": {
     "slide_type": "slide"
    },
    "tags": []
   },
   "source": [
    "# Mi Primer Cuaderno"
   ]
  },
  {
   "cell_type": "markdown",
   "metadata": {
    "id": "2jiFqYfeABcW"
   },
   "source": [
    "Este es mi primer Notebook del diplomado\n",
    "\n",
    "$$\\int_{0}^{\\infty} x^2 dx$$\n",
    "\n",
    "\n",
    "\n",
    "```\n",
    "print(\"Hola Jarmanitor!\")\n",
    "```\n",
    "\n",
    "[Link del Diplomado](https://github.com/AprendizajeProfundo/Diplomado)\n",
    "\n",
    "\n"
   ]
  },
  {
   "cell_type": "markdown",
   "metadata": {
    "id": "G7_tFDrECKoU"
   },
   "source": [
    "\n",
    "| Estudiante       |Proyecto  | Calificación |Observaciones|\n",
    "|------------------|----------|--------------|-------------|\n",
    "| Daniel | Visión por Computadora| 5/5     |Está bonito   |\n",
    "| Héctor | **Chatbot**           | 4.9/5   |Está funcional|\n",
    "\n"
   ]
  },
  {
   "cell_type": "markdown",
   "metadata": {
    "id": "-cu834XZCXLL",
    "slideshow": {
     "slide_type": "subslide"
    },
    "tags": []
   },
   "source": [
    "![Osito](https://1.bp.blogspot.com/-V4nKVTCQtss/UXxjQK9fneI/AAAAAAAAQxE/Ig1zpLpFyEs/s1600/ositos-de-peluche-tiernos-1600x1200_2973.jpg)"
   ]
  },
  {
   "cell_type": "code",
   "execution_count": 1,
   "metadata": {
    "colab": {
     "base_uri": "https://localhost:8080/",
     "height": 420
    },
    "id": "HHyWtjyODN5j",
    "outputId": "b4480c12-4654-4743-a20d-bd75e6036d91",
    "slideshow": {
     "slide_type": "slide"
    },
    "tags": []
   },
   "outputs": [
    {
     "data": {
      "image/jpeg": "[encoded data removed]",
      "text/html": [
       "\n",
       "        <iframe\n",
       "            width=\"800\"\n",
       "            height=\"400\"\n",
       "            src=\"https://www.youtube.com/embed/m0iiQ--Pwnc\"\n",
       "            frameborder=\"0\"\n",
       "            allowfullscreen\n",
       "        ></iframe>\n",
       "        "
      ],
      "text/plain": [
       "<IPython.lib.display.YouTubeVideo at 0x7f609417e6a0>"
      ]
     },
     "execution_count": 1,
     "metadata": {},
     "output_type": "execute_result"
    }
   ],
   "source": [
    "from IPython.display import YouTubeVideo\n",
    "\n",
    "YouTubeVideo('m0iiQ--Pwnc', width=800, height=400)"
   ]
  },
  {
   "cell_type": "code",
   "execution_count": 2,
   "metadata": {
    "slideshow": {
     "slide_type": "slide"
    },
    "tags": []
   },
   "outputs": [
    {
     "name": "stdout",
     "output_type": "stream",
     "text": [
      "Hola, ¡Bienvenidos y bienvienidas al diplomado!\n"
     ]
    }
   ],
   "source": [
    "print(\"Hola, ¡Bienvenidos y bienvienidas al diplomado!\")"
   ]
  },
  {
   "cell_type": "code",
   "execution_count": 5,
   "metadata": {
    "slideshow": {
     "slide_type": "slide"
    },
    "tags": [
     "remove-input"
    ]
   },
   "outputs": [
    {
     "data": {
      "text/html": [
       "<a href=\"http://example.com\">link</a>\n",
       "<canvas id=\"myCanvas\" width=\"200\" height=\"100\"></canvas>\n",
       "\n",
       "<svg xmlns=\"http://www.w3.org/2000/svg\" viewBox=\"0 0 450 400\" width=\"200\" height=\"200\">\n",
       "  <rect x=\"80\" y=\"60\" width=\"250\" height=\"250\" rx=\"20\" style=\"fill:red; stroke:black; fill-opacity:0.7\" />\n",
       "  <rect x=\"180\" y=\"110\" width=\"250\" height=\"250\" rx=\"40\" style=\"fill:blue; stroke:black; fill-opacity:0.5;\" />\n",
       "</svg><br>\n",
       "<marquee style='width: 30%; color: blue;'><b>Whee!</b></marquee>\n"
      ],
      "text/plain": [
       "<IPython.core.display.HTML object>"
      ]
     },
     "metadata": {},
     "output_type": "display_data"
    }
   ],
   "source": [
    "%%html\n",
    "<a href=\"http://example.com\">link</a>\n",
    "<canvas id=\"myCanvas\" width=\"200\" height=\"100\"></canvas>\n",
    "\n",
    "<svg xmlns=\"http://www.w3.org/2000/svg\" viewBox=\"0 0 450 400\" width=\"200\" height=\"200\">\n",
    "  <rect x=\"80\" y=\"60\" width=\"250\" height=\"250\" rx=\"20\" style=\"fill:red; stroke:black; fill-opacity:0.7\" />\n",
    "  <rect x=\"180\" y=\"110\" width=\"250\" height=\"250\" rx=\"40\" style=\"fill:blue; stroke:black; fill-opacity:0.5;\" />\n",
    "</svg><br>\n",
    "<marquee style='width: 30%; color: blue;'><b>Whee!</b></marquee>"
   ]
  }
 ],
 "metadata": {
  "accelerator": "GPU",
  "colab": {
   "name": "Mi_Primer_Notebook.ipynb",
   "provenance": []
  },
  "kernelspec": {
   "display_name": "Python 3 (ipykernel)",
   "language": "python",
   "name": "python3"
  },
  "language_info": {
   "codemirror_mode": {
    "name": "ipython",
    "version": 3
   },
   "file_extension": ".py",
   "mimetype": "text/x-python",
   "name": "python",
   "nbconvert_exporter": "python",
   "pygments_lexer": "ipython3",
   "version": "3.8.10"
  }
 },
 "nbformat": 4,
 "nbformat_minor": 4
}
