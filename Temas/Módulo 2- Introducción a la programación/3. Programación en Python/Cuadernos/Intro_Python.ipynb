{
 "cells": [
  {
   "cell_type": "markdown",
   "metadata": {},
   "source": [
    "<figure>\n",
    "<img src=\"../Imagenes/logo-final-ap.png\"  width=\"80\" height=\"80\" align=\"left\"/> \n",
    "</figure>\n",
    "\n",
    "# <span style=\"color:blue\"><left>Aprendizaje Profundo</left></span>"
   ]
  },
  {
   "cell_type": "markdown",
   "metadata": {},
   "source": [
    "# <span style=\"color:red\"><center>Introducción al lenguaje Python</center></span>"
   ]
  },
  {
   "cell_type": "markdown",
   "metadata": {},
   "source": [
    "##   <span style=\"color:blue\">Profesores</span>"
   ]
  },
  {
   "cell_type": "markdown",
   "metadata": {},
   "source": [
    "1. Alvaro Mauricio Montenegro Díaz, ammontenegrod@unal.edu.co\n",
    "2. Daniel Mauricio Montenegro Reyes, dextronomo@gmail.com \n",
    "3. Campo Elías Pardo Turriago, cepardot@unal.edu.co "
   ]
  },
  {
   "cell_type": "markdown",
   "metadata": {},
   "source": [
    "##   <span style=\"color:blue\">Asesora Medios y Marketing digital</span>\n",
    " "
   ]
  },
  {
   "cell_type": "markdown",
   "metadata": {},
   "source": [
    "4. Maria del Pilar Montenegro, pmontenegro88@gmail.com "
   ]
  },
  {
   "cell_type": "markdown",
   "metadata": {},
   "source": [
    "## <span style=\"color:blue\">Asistentes</span>"
   ]
  },
  {
   "cell_type": "markdown",
   "metadata": {},
   "source": [
    "5. Oleg Jarma, ojarmam@unal.edu.co \n",
    "6. Laura Lizarazo, ljlizarazore@unal.edu.co "
   ]
  },
  {
   "cell_type": "markdown",
   "metadata": {},
   "source": [
    "## <span style=\"color:blue\">Contenido</span>"
   ]
  },
  {
   "cell_type": "markdown",
   "metadata": {},
   "source": [
    "* [Introducción](#Introducción)\n",
    "* [¿Qué puede hacer Python?](#¿Qué-puede-hacer-Python?)\n",
    "* [¿Qué es Python?](#¿Qué-es-Python?)\n",
    "* [Hello World!](#Hello-World!)\n",
    "* [Variables en Python](#Variables-en-Python)\n",
    "* [Asignación dinámica en Python](#Asignación-dinámica-en-Python)\n",
    "* [Reglas para la creación de variables](#Reglas-para-la-creación-de-variables)\n",
    "* [Tipos de datos básicos en Python](#Tipos-de-datos-básicos-en-Python)\n",
    "* [Asignación múltiple](#Asignación-múltiple)\n",
    "* [Suma de variables y concatenación de variables](#Suma-de-variables-y-concatenación-de-variables)\n",
    "* [Operadores Aritméticos y redondeo](#Operadores-Aritméticos-y-redondeo)\n",
    "* [Estructuras de control](#Estructuras-de-control)\n",
    "* [Indentación en Python](#Indentación-en-Python)\n",
    "* [Operadores de comparación](#Operadores-de-comparación)\n",
    "* [Operadores Lógicos](#Operadores-Lógicos)\n",
    "* [Estructura de repetición (ciclos)](#Estructura-de-repetición-[ciclos])\n",
    "* [Estructuras de control anidadas](#Estructuras-de-control-anidadas)\n",
    "* [Funciones en Python](#Funciones-en-Python)"
   ]
  },
  {
   "cell_type": "markdown",
   "metadata": {},
   "source": [
    "## <span style=\"color:blue\">Introducción</span>"
   ]
  },
  {
   "cell_type": "markdown",
   "metadata": {
    "colab_type": "text",
    "id": "Qwzm74tvByHP"
   },
   "source": [
    "Este es un cuaderno introductorio a Python diseñado en JupyterLab, exploraremos las funciones básicas disponibles de **Python** y la programación básica para su posterior uso en el diplomado. Comencemos con un ambiente de **Python 3**. Para una introducción más extensa, ir [aquí](https://www.w3schools.com/python/)."
   ]
  },
  {
   "cell_type": "markdown",
   "metadata": {},
   "source": [
    "[[Volver al inicio]](#Contenido)"
   ]
  },
  {
   "cell_type": "markdown",
   "metadata": {
    "colab_type": "text",
    "id": "kzyZQ2syLu9O"
   },
   "source": [
    "##  <span style=\"color:blue\">¿Qué es Python?</span>"
   ]
  },
  {
   "cell_type": "markdown",
   "metadata": {
    "colab_type": "text",
    "id": "kzyZQ2syLu9O"
   },
   "source": [
    "![Logo Python](https://www.python.org/static/community_logos/python-logo-master-v3-TM.png)\n",
    "\n",
    "\n",
    "\n",
    "Python es un lenguaje de programación (¿Qué es un programa?) popular que se usa normalmente para:\n",
    "\n",
    "* Desarrollo web en servidores,\n",
    "* Desarrollo de Software,\n",
    "* Cálculos Matemáticos,\n",
    "* Desarrollo de Scripts."
   ]
  },
  {
   "cell_type": "markdown",
   "metadata": {},
   "source": [
    "[[Volver al inicio]](#Contenido)"
   ]
  },
  {
   "cell_type": "markdown",
   "metadata": {},
   "source": [
    "## <span style=\"color:blue\">¿Qué puede hacer Python?</span>"
   ]
  },
  {
   "cell_type": "markdown",
   "metadata": {
    "colab_type": "text",
    "id": "kzyZQ2syLu9O"
   },
   "source": [
    "* Puede ser usado en un servidor para crear **aplicaciones web**,\n",
    "* Puede conectarse a sistemas de **bases de datos**. Puede leer y modificar archivos.\n",
    "* Puede ser usado para manejar **Big Data** y hacer cálculos matemáticos de alta complejidad.\n",
    "* **Prototipo rápido** para producción de Software."
   ]
  },
  {
   "cell_type": "markdown",
   "metadata": {},
   "source": [
    "[[Volver al inicio]](#Contenido)"
   ]
  },
  {
   "cell_type": "markdown",
   "metadata": {},
   "source": [
    "## <span style=\"color:blue\">¿Por qué Python?</span>"
   ]
  },
  {
   "cell_type": "markdown",
   "metadata": {
    "colab_type": "text",
    "id": "kzyZQ2syLu9O"
   },
   "source": [
    "* Funciona en diferentes **plataformas** (Windows, Mac, Linux, etc).\n",
    "* Tiene una **sintaxis** (forma de escribir) simple, similar al idioma inglés.\n",
    "* Tiene una sintáxis que permite escribir programas en **muy pocas líneas**, comparado con otros lenguajes de programación.\n",
    "* Pyhton se ejecuta en un **sistema interpretado**. Es decir, que los códigos se pueden correr **justo después de ser escritos**; en otras palabras, no necesitan compilación previa.\n",
    "* Se puede usar como un lenguaje **clásico**, como un lenguaje **orientado a objetos**, o como un lenguaje **funcional**.\n",
    "* Es el principal lenguaje de la **Ciencia de Datos**."
   ]
  },
  {
   "cell_type": "markdown",
   "metadata": {},
   "source": [
    "[[Volver al inicio]](#Contenido)"
   ]
  },
  {
   "cell_type": "markdown",
   "metadata": {
    "colab_type": "text",
    "id": "scclT03UHVrm"
   },
   "source": [
    "## <span style=\"color:blue\">Hello World!</span>"
   ]
  },
  {
   "cell_type": "markdown",
   "metadata": {
    "colab_type": "text",
    "id": "c3ntgbdgHbS-"
   },
   "source": [
    "El primer ejemplo clásico de programación es saludar, o sea, decirle al computador que muestre un saludo. Para esto, se usa la función de Python llamada **print**. Para colocar un saludo (o un **texto cualquiera**), se debe colocar entre **comillas dobles o sencillas** dentro del comando print. Entonces, para que el computador muestre un saludo, por ejemplo **Hello, World!**, debemos escribir en ambiente de código como sigue\n"
   ]
  },
  {
   "cell_type": "code",
   "execution_count": 2,
   "metadata": {
    "colab": {
     "base_uri": "https://localhost:8080/",
     "height": 34
    },
    "colab_type": "code",
    "executionInfo": {
     "elapsed": 995,
     "status": "ok",
     "timestamp": 1582034062236,
     "user": {
      "displayName": "Daniel Montenegro",
      "photoUrl": "",
      "userId": "07275166318289302366"
     },
     "user_tz": 300
    },
    "id": "8i6cS6oYA-Lv",
    "outputId": "005b250c-fdd8-459e-a1da-fab85c44f12d"
   },
   "outputs": [
    {
     "name": "stdout",
     "output_type": "stream",
     "text": [
      "Hello friend. Hello friend?\n"
     ]
    }
   ],
   "source": [
    "print(\"Hello friend. Hello friend?\")"
   ]
  },
  {
   "cell_type": "markdown",
   "metadata": {
    "colab_type": "text",
    "id": "aM1gxggOCDGO"
   },
   "source": [
    "Note que el resultado se muestra sin las comillas dobles. Estas comillas dobles se usan para decirle al computador que vamos a ingresar texto. Si quisieramos escribir con un salto de linea escribimos \"\\n\" así al escribir `print(\"Hola\\nMundo\")` tenemos:\n"
   ]
  },
  {
   "cell_type": "code",
   "execution_count": 1,
   "metadata": {
    "colab": {},
    "colab_type": "code",
    "id": "C5IwYTeHUzUT"
   },
   "outputs": [
    {
     "name": "stdout",
     "output_type": "stream",
     "text": [
      "Hola\n",
      "Mundo\n"
     ]
    }
   ],
   "source": [
    "print(\"Hola\\nMundo\")"
   ]
  },
  {
   "cell_type": "markdown",
   "metadata": {
    "colab_type": "text",
    "id": "gGbUqKOAJc_C"
   },
   "source": [
    "### Ejercicio\n",
    "\n",
    "Escriba un código que le diga a Python que devuelva el texto:\n",
    "*****\n",
    ">*Sólo sé ...*  \n",
    "*... que nada sé.*\n",
    " ***"
   ]
  },
  {
   "cell_type": "code",
   "execution_count": null,
   "metadata": {
    "colab": {},
    "colab_type": "code",
    "id": "CVnwiYj8JZY-"
   },
   "outputs": [],
   "source": [
    "# Escriba el código aqui"
   ]
  },
  {
   "cell_type": "markdown",
   "metadata": {},
   "source": [
    "[[Volver al inicio]](#Contenido)"
   ]
  },
  {
   "cell_type": "markdown",
   "metadata": {
    "colab_type": "text",
    "id": "IUFSujLR2-Rl"
   },
   "source": [
    "##   <span style=\"color:blue\">Variables en Python</span>"
   ]
  },
  {
   "cell_type": "markdown",
   "metadata": {
    "colab_type": "text",
    "id": "ivDxEY5J3EXW"
   },
   "source": [
    "Una variable sirve para **guardar un valor específico**, ya sea **numérico**, **texto** u otro **tipo de Dato** con el nombre con la que se nombre dicha variable. Observe el siguiente ejemplo."
   ]
  },
  {
   "cell_type": "code",
   "execution_count": 3,
   "metadata": {
    "colab": {
     "base_uri": "https://localhost:8080/",
     "height": 51
    },
    "colab_type": "code",
    "executionInfo": {
     "elapsed": 539,
     "status": "ok",
     "timestamp": 1581611283829,
     "user": {
      "displayName": "Daniel Montenegro",
      "photoUrl": "",
      "userId": "07275166318289302366"
     },
     "user_tz": 300
    },
    "id": "XlBRuUAD3ud4",
    "outputId": "e818e251-2a66-4556-d8b9-a81ebf0195af"
   },
   "outputs": [
    {
     "name": "stdout",
     "output_type": "stream",
     "text": [
      "El valor de la variable x es 1\n",
      "\n",
      "El valor de la variable y es ¡Vamos a programar!\n"
     ]
    }
   ],
   "source": [
    "# Asignamos 1 a la variable x\n",
    "\n",
    "x = 1\n",
    "\n",
    "print(\"El valor de la variable x es\", x)\n",
    "\n",
    "# Asignamos \"¡Vamos a programar!\" a la variable y\n",
    "\n",
    "y = \"¡Vamos a programar!\"\n",
    "\n",
    "print(\"\\nEl valor de la variable y es\", y)"
   ]
  },
  {
   "cell_type": "markdown",
   "metadata": {},
   "source": [
    "[[Volver al inicio]](#Contenido)"
   ]
  },
  {
   "cell_type": "markdown",
   "metadata": {
    "colab_type": "text",
    "id": "IUFSujLR2-Rl"
   },
   "source": [
    "##   <span style=\"color:blue\">Asignación dinámica en Python</span>"
   ]
  },
  {
   "cell_type": "markdown",
   "metadata": {},
   "source": [
    "En Python, como en R, Julia, Matlab y otros lenguajes no es necesario declarar una variable de antemano, como ocurre en otros lenguajes como C, C++ y muchos otros lenguajes de bajo nivel. \n",
    "La asignación dińamica implica que es posible cambiar el tipo de dato de una variable con tan solo reasignarle un valor. En Python, se delega al programador la responsabilidad de cuidarse de efectos no esperados al cambiar el tipo de una variable. Vea el sigueinte ejemplo."
   ]
  },
  {
   "cell_type": "code",
   "execution_count": 4,
   "metadata": {},
   "outputs": [
    {
     "name": "stdout",
     "output_type": "stream",
     "text": [
      "x es número un real: 5.6\n",
      "x es ahora un número complejo: (3+4j)\n",
      "En cambio ahora x es un string: 25 de mayo\n"
     ]
    }
   ],
   "source": [
    "x = 5.6\n",
    "print('x es número un real:', x)\n",
    "\n",
    "x = 3+4j\n",
    "print('x es ahora un número complejo:', x)\n",
    "\n",
    "x = '25 de mayo'\n",
    "print('En cambio ahora x es un string:', x)"
   ]
  },
  {
   "cell_type": "markdown",
   "metadata": {},
   "source": [
    "[[Volver al inicio]](#Contenido)"
   ]
  },
  {
   "cell_type": "markdown",
   "metadata": {
    "colab_type": "text",
    "id": "IUFSujLR2-Rl"
   },
   "source": [
    "##   <span style=\"color:blue\">Reglas para la creación de variables</span>"
   ]
  },
  {
   "cell_type": "markdown",
   "metadata": {
    "colab_type": "text",
    "id": "6YvlIG-G6o2Z"
   },
   "source": [
    "* El nombre de una variable **debe comenzar** con una letra ó con _.\n",
    "* El nombre de una variable **no puede comenzar** con un número.\n",
    "* El nombre de una variable **sólo puede contener** carácteres alfa-numéricos.\n",
    "* El nombre de una variable tiene **sensibilidad** a **mayúsculas** y **minúsculas** (x es diferente de X)."
   ]
  },
  {
   "cell_type": "markdown",
   "metadata": {
    "colab_type": "text",
    "id": "g0XQW90S5bCj"
   },
   "source": [
    "### Ejercicio"
   ]
  },
  {
   "cell_type": "markdown",
   "metadata": {
    "colab_type": "text",
    "id": "g0XQW90S5bCj"
   },
   "source": [
    "Escriba un código que le diga a Python que devuelva los textos **Tengo** *my_age* **años**, donde *my_age* es una variable que tenga asignada su edad."
   ]
  },
  {
   "cell_type": "code",
   "execution_count": null,
   "metadata": {
    "colab": {},
    "colab_type": "code",
    "id": "yFtzd3Ok57ul"
   },
   "outputs": [],
   "source": [
    "# Escriba aquí"
   ]
  },
  {
   "cell_type": "markdown",
   "metadata": {},
   "source": [
    "[[Volver al inicio]](#Contenido)"
   ]
  },
  {
   "cell_type": "markdown",
   "metadata": {},
   "source": [
    "##  <span style=\"color:blue\">Tipos de datos básicos en Python</span>"
   ]
  },
  {
   "cell_type": "markdown",
   "metadata": {},
   "source": [
    "### Números, booleanos y None"
   ]
  },
  {
   "cell_type": "markdown",
   "metadata": {},
   "source": [
    "#### Enteros (int)"
   ]
  },
  {
   "cell_type": "markdown",
   "metadata": {},
   "source": [
    "Vea el siguiente ejemplo"
   ]
  },
  {
   "cell_type": "code",
   "execution_count": 5,
   "metadata": {},
   "outputs": [
    {
     "name": "stdout",
     "output_type": "stream",
     "text": [
      "1\n",
      "<class 'int'>\n",
      "1000000000000000000000000000000000000000000000000000000000000000000000000000000000000000000001\n",
      "<class 'int'>\n"
     ]
    }
   ],
   "source": [
    "x = 1\n",
    "print(x)\n",
    "print(type(x))\n",
    "x = 1000000000000000000000000000000000000000000000000000000000000000000000000000000000000000000001\n",
    "print(x)\n",
    "print(type(x))"
   ]
  },
  {
   "cell_type": "markdown",
   "metadata": {},
   "source": [
    "Se observan dos cosas interesantes. Primero, el tipo de dato es una clase 'int'. Todo en Pyhon son objetos, incluidos la variables simples. En otro cuaderno estudiaremos las clases y objetos en detalle. \n",
    "\n",
    "Segundo, En pyhton puede tener números enteros tan grandes como desee, a diferencia de otros lenguajes. de otros lenguajes."
   ]
  },
  {
   "cell_type": "markdown",
   "metadata": {},
   "source": [
    "Para convertir un tipo de dato diferente a int, siempre que sea posible se usa el *cast* int. Por ejemplo"
   ]
  },
  {
   "cell_type": "code",
   "execution_count": 6,
   "metadata": {},
   "outputs": [
    {
     "name": "stdout",
     "output_type": "stream",
     "text": [
      "120\n",
      "<class 'str'>\n",
      "120\n",
      "<class 'int'>\n"
     ]
    }
   ],
   "source": [
    "# '120' es un string\n",
    "\n",
    "total = '120'\n",
    "print(total)\n",
    "print(type(total))\n",
    "\n",
    "total = int('120')\n",
    "print(total)\n",
    "print(type(total))"
   ]
  },
  {
   "cell_type": "markdown",
   "metadata": {},
   "source": [
    "#### Usando input"
   ]
  },
  {
   "cell_type": "markdown",
   "metadata": {},
   "source": [
    "La sentencia *input* se utiliza para solicitar información al usuario. *input* siempre regresa un string."
   ]
  },
  {
   "cell_type": "code",
   "execution_count": 7,
   "metadata": {},
   "outputs": [
    {
     "name": "stdin",
     "output_type": "stream",
     "text": [
      "Por favor entre su edad: 25\n"
     ]
    },
    {
     "name": "stdout",
     "output_type": "stream",
     "text": [
      "25\n",
      "<class 'int'>\n"
     ]
    }
   ],
   "source": [
    "edad = int(input('Por favor entre su edad:'))\n",
    "print(edad)\n",
    "print(type(edad))"
   ]
  },
  {
   "cell_type": "markdown",
   "metadata": {},
   "source": [
    "#### Punto Flotante (float)"
   ]
  },
  {
   "cell_type": "markdown",
   "metadata": {},
   "source": [
    "Lo número reales son representados usando el estándar IEEE 754 double precision."
   ]
  },
  {
   "cell_type": "code",
   "execution_count": 8,
   "metadata": {},
   "outputs": [
    {
     "name": "stdout",
     "output_type": "stream",
     "text": [
      "1.56\n",
      "<class 'float'>\n"
     ]
    }
   ],
   "source": [
    "x = 1.56\n",
    "print(x)\n",
    "print(type(x))"
   ]
  },
  {
   "cell_type": "markdown",
   "metadata": {},
   "source": [
    "#### Números complejos (complex)"
   ]
  },
  {
   "cell_type": "markdown",
   "metadata": {},
   "source": [
    "Se representan en la forma $a + bj$, en donde $a$ es la parte real y $ b$ la parte imaginaria"
   ]
  },
  {
   "cell_type": "code",
   "execution_count": 9,
   "metadata": {},
   "outputs": [
    {
     "name": "stdout",
     "output_type": "stream",
     "text": [
      "(3.4+4j)\n",
      "<class 'complex'>\n"
     ]
    }
   ],
   "source": [
    "z = 3.4 + 4j\n",
    "print(z)\n",
    "print(type(z))"
   ]
  },
  {
   "cell_type": "markdown",
   "metadata": {},
   "source": [
    "#### Booleanas (bool)"
   ]
  },
  {
   "cell_type": "markdown",
   "metadata": {},
   "source": [
    "El tipo booleano se utiliza para variables que solamente pueden ser 'True' o 'False', es decir, valores booleanos o lógicos. Por ejemplo:"
   ]
  },
  {
   "cell_type": "code",
   "execution_count": 10,
   "metadata": {},
   "outputs": [
    {
     "name": "stdout",
     "output_type": "stream",
     "text": [
      "True\n",
      "<class 'bool'>\n"
     ]
    }
   ],
   "source": [
    "t = True\n",
    "print(t)\n",
    "print(type(t))"
   ]
  },
  {
   "cell_type": "markdown",
   "metadata": {},
   "source": [
    "#### None"
   ]
  },
  {
   "cell_type": "markdown",
   "metadata": {},
   "source": [
    "Este es un tipo especial de dato utilizado para indicar que una determinada variable no contiene ningún dato. Es muy útil en el control de muchas situaciones, porque sirve para saber si algún objeto a llegado a ser None. Mire el siguiente ejemplo."
   ]
  },
  {
   "cell_type": "code",
   "execution_count": 11,
   "metadata": {},
   "outputs": [
    {
     "name": "stdout",
     "output_type": "stream",
     "text": [
      "None\n",
      "<class 'NoneType'>\n"
     ]
    },
    {
     "data": {
      "text/plain": [
       "True"
      ]
     },
     "execution_count": 11,
     "metadata": {},
     "output_type": "execute_result"
    }
   ],
   "source": [
    "b = None\n",
    "print(b)\n",
    "print(type(b))\n",
    "\n",
    "z = 5\n",
    "\n",
    "b is None\n"
   ]
  },
  {
   "cell_type": "code",
   "execution_count": null,
   "metadata": {},
   "outputs": [],
   "source": [
    "# Pruebe: z is None"
   ]
  },
  {
   "cell_type": "markdown",
   "metadata": {
    "colab_type": "text",
    "id": "i9HdDU49UzWK"
   },
   "source": [
    "#### Textos: strings"
   ]
  },
  {
   "cell_type": "markdown",
   "metadata": {
    "colab_type": "text",
    "id": "Nhv2kU50RGVu"
   },
   "source": [
    "\n",
    "Los string son expresiones que representan una cadena de caracteres, útiles para escribir mensajes y combinarlos con valores que generemos en nuestros procesamientos. Para escribir un texto en Python usamos comillas simples: `'...'` o comillas dobles: `\"...\"`. Combinamos comillas para poner comillas adentro:"
   ]
  },
  {
   "cell_type": "code",
   "execution_count": 12,
   "metadata": {
    "colab": {
     "base_uri": "https://localhost:8080/",
     "height": 53
    },
    "colab_type": "code",
    "executionInfo": {
     "elapsed": 444,
     "status": "ok",
     "timestamp": 1581637711289,
     "user": {
      "displayName": "Daniel Montenegro",
      "photoUrl": "",
      "userId": "07275166318289302366"
     },
     "user_tz": 300
    },
    "id": "-29-9hgEUzWL",
    "outputId": "6ca68310-1a7b-416c-8c11-d64ae4e1a2fe"
   },
   "outputs": [
    {
     "name": "stdout",
     "output_type": "stream",
     "text": [
      "Texto simple escrito entre comillas simples\n"
     ]
    },
    {
     "data": {
      "text/plain": [
       "'Texto simple escrito entre comillas simples'"
      ]
     },
     "execution_count": 12,
     "metadata": {},
     "output_type": "execute_result"
    }
   ],
   "source": [
    "a='Texto simple escrito entre comillas simples'\n",
    "print(a)\n",
    "a"
   ]
  },
  {
   "cell_type": "code",
   "execution_count": 13,
   "metadata": {
    "colab": {
     "base_uri": "https://localhost:8080/",
     "height": 53
    },
    "colab_type": "code",
    "executionInfo": {
     "elapsed": 500,
     "status": "ok",
     "timestamp": 1581637731041,
     "user": {
      "displayName": "Daniel Montenegro",
      "photoUrl": "",
      "userId": "07275166318289302366"
     },
     "user_tz": 300
    },
    "id": "Ue2quTbyUzWN",
    "outputId": "7cbafa60-120c-4d87-d61d-67fae809e78f"
   },
   "outputs": [
    {
     "name": "stdout",
     "output_type": "stream",
     "text": [
      "Texto simple escrito entre comillas dobles\n"
     ]
    },
    {
     "data": {
      "text/plain": [
       "'Texto simple escrito entre comillas dobles'"
      ]
     },
     "execution_count": 13,
     "metadata": {},
     "output_type": "execute_result"
    }
   ],
   "source": [
    "b=\"Texto simple escrito entre comillas dobles\"\n",
    "print(b)\n",
    "b"
   ]
  },
  {
   "cell_type": "code",
   "execution_count": 14,
   "metadata": {
    "colab": {
     "base_uri": "https://localhost:8080/",
     "height": 35
    },
    "colab_type": "code",
    "executionInfo": {
     "elapsed": 405,
     "status": "ok",
     "timestamp": 1581637813541,
     "user": {
      "displayName": "Daniel Montenegro",
      "photoUrl": "",
      "userId": "07275166318289302366"
     },
     "user_tz": 300
    },
    "id": "TzXiafxUUzWR",
    "outputId": "d5439b11-7322-4d7b-d150-8f2853900984"
   },
   "outputs": [
    {
     "name": "stdout",
     "output_type": "stream",
     "text": [
      "Texto simple escrito entre comillas simples que necesita \"adentrico\" comillas dobles\n"
     ]
    }
   ],
   "source": [
    "c='Texto simple escrito entre comillas simples que necesita \"adentrico\" comillas dobles'\n",
    "print(c)"
   ]
  },
  {
   "cell_type": "code",
   "execution_count": 15,
   "metadata": {
    "colab": {
     "base_uri": "https://localhost:8080/",
     "height": 35
    },
    "colab_type": "code",
    "executionInfo": {
     "elapsed": 390,
     "status": "ok",
     "timestamp": 1581637802108,
     "user": {
      "displayName": "Daniel Montenegro",
      "photoUrl": "",
      "userId": "07275166318289302366"
     },
     "user_tz": 300
    },
    "id": "Mqibs8ieUzWW",
    "outputId": "df157699-afb1-4e27-e53a-b086b188cb35"
   },
   "outputs": [
    {
     "name": "stdout",
     "output_type": "stream",
     "text": [
      "Texto simple escrito entre comillas dobles que necesita 'adentro' comillas simples\n"
     ]
    }
   ],
   "source": [
    "d=\"Texto simple escrito entre comillas dobles que necesita 'adentro' comillas simples\"\n",
    "print(d)"
   ]
  },
  {
   "cell_type": "markdown",
   "metadata": {
    "colab_type": "text",
    "id": "Z-RNqrFEUzWa"
   },
   "source": [
    "Como vimos, la función print es la que nos permite imprimir estos mensajes. El texto \\n indica una nueva linea en el texto:"
   ]
  },
  {
   "cell_type": "code",
   "execution_count": 16,
   "metadata": {
    "colab": {},
    "colab_type": "code",
    "id": "bkQZpWAbUzWa"
   },
   "outputs": [
    {
     "name": "stdout",
     "output_type": "stream",
     "text": [
      "Una línea\n",
      "Otra línea\n"
     ]
    }
   ],
   "source": [
    "print(\"Una línea\\nOtra línea\")"
   ]
  },
  {
   "cell_type": "markdown",
   "metadata": {
    "colab_type": "text",
    "id": "MCQfYItSUzWc"
   },
   "source": [
    "No obstante, a veces necesitamos escribir  \\n en un mensaje:"
   ]
  },
  {
   "cell_type": "code",
   "execution_count": 17,
   "metadata": {
    "colab": {
     "base_uri": "https://localhost:8080/",
     "height": 53
    },
    "colab_type": "code",
    "executionInfo": {
     "elapsed": 474,
     "status": "ok",
     "timestamp": 1581637849962,
     "user": {
      "displayName": "Daniel Montenegro",
      "photoUrl": "",
      "userId": "07275166318289302366"
     },
     "user_tz": 300
    },
    "id": "-tCoup6-UzWd",
    "outputId": "390820fb-2e75-40cd-dc3e-2e622b1f2b5f"
   },
   "outputs": [
    {
     "name": "stdout",
     "output_type": "stream",
     "text": [
      "La ruta del archivo es C:\n",
      "ombres\u0007rchivo.ipynb\n"
     ]
    }
   ],
   "source": [
    "print('La ruta del archivo es C:\\nombres\\archivo.ipynb')"
   ]
  },
  {
   "cell_type": "markdown",
   "metadata": {},
   "source": [
    "En este caso la aparición del símbolo  \\  daño el mensaje. La primera solución es la siguiente. ¿puede explicarla por favor?"
   ]
  },
  {
   "cell_type": "code",
   "execution_count": 18,
   "metadata": {},
   "outputs": [
    {
     "name": "stdout",
     "output_type": "stream",
     "text": [
      "La ruta del archivo es C:\\nombres\\archivo.ipynb\n"
     ]
    }
   ],
   "source": [
    "print('La ruta del archivo es C:\\\\nombres\\\\archivo.ipynb')"
   ]
  },
  {
   "cell_type": "markdown",
   "metadata": {
    "colab_type": "text",
    "id": "WzED52iWUzWg"
   },
   "source": [
    "Una segunda solución para resolver el problema consiste en escribimos r antes del string, así::"
   ]
  },
  {
   "cell_type": "code",
   "execution_count": 19,
   "metadata": {
    "colab": {
     "base_uri": "https://localhost:8080/",
     "height": 35
    },
    "colab_type": "code",
    "executionInfo": {
     "elapsed": 398,
     "status": "ok",
     "timestamp": 1581637872708,
     "user": {
      "displayName": "Daniel Montenegro",
      "photoUrl": "",
      "userId": "07275166318289302366"
     },
     "user_tz": 300
    },
    "id": "K2GM2rSDUzWg",
    "outputId": "6a4b54c2-820f-40e7-d067-ad889424e54f"
   },
   "outputs": [
    {
     "name": "stdout",
     "output_type": "stream",
     "text": [
      "La ruta del archivo es C:\\nombres\\archivo.ipynb\n"
     ]
    }
   ],
   "source": [
    "# Qué significa la r???\n",
    "print(r'La ruta del archivo es C:\\nombres\\archivo.ipynb')"
   ]
  },
  {
   "cell_type": "markdown",
   "metadata": {
    "colab_type": "text",
    "id": "DvFxzQq4UzWi"
   },
   "source": [
    "Finalmente, podemos recorrer los valores de la cadena de texto de la siguiente forma:"
   ]
  },
  {
   "cell_type": "code",
   "execution_count": 23,
   "metadata": {
    "colab": {},
    "colab_type": "code",
    "id": "VfvvR1MaUzWj"
   },
   "outputs": [
    {
     "data": {
      "text/plain": [
       "'cuidado_con_el_orden'"
      ]
     },
     "execution_count": 23,
     "metadata": {},
     "output_type": "execute_result"
    }
   ],
   "source": [
    "texto=\"cuidado_con_el_orden\"\n",
    "texto"
   ]
  },
  {
   "cell_type": "markdown",
   "metadata": {
    "colab_type": "text",
    "id": "LGbUClMKKCLW"
   },
   "source": [
    "Extrayendo el elemento cero del texto (**primer caracter**):"
   ]
  },
  {
   "cell_type": "code",
   "execution_count": 22,
   "metadata": {
    "colab": {
     "base_uri": "https://localhost:8080/",
     "height": 35
    },
    "colab_type": "code",
    "executionInfo": {
     "elapsed": 404,
     "status": "ok",
     "timestamp": 1581638433451,
     "user": {
      "displayName": "Daniel Montenegro",
      "photoUrl": "",
      "userId": "07275166318289302366"
     },
     "user_tz": 300
    },
    "id": "bENx-JazUzWm",
    "outputId": "bd761e20-92ec-44a8-8be4-558ec853e3d9"
   },
   "outputs": [
    {
     "name": "stdout",
     "output_type": "stream",
     "text": [
      "c\n"
     ]
    }
   ],
   "source": [
    "print(texto[0])"
   ]
  },
  {
   "cell_type": "markdown",
   "metadata": {
    "colab_type": "text",
    "id": "j0L1L6d5Khbk"
   },
   "source": [
    "Extrayendo el elemento uno del texto (**segundo caracter**):"
   ]
  },
  {
   "cell_type": "code",
   "execution_count": null,
   "metadata": {
    "colab": {
     "base_uri": "https://localhost:8080/",
     "height": 35
    },
    "colab_type": "code",
    "executionInfo": {
     "elapsed": 425,
     "status": "ok",
     "timestamp": 1581638241568,
     "user": {
      "displayName": "Daniel Montenegro",
      "photoUrl": "",
      "userId": "07275166318289302366"
     },
     "user_tz": 300
    },
    "id": "fWH_t7h8UzWp",
    "outputId": "6f9b3203-36e2-457b-ef02-426e650a6311"
   },
   "outputs": [],
   "source": [
    "texto[1]"
   ]
  },
  {
   "cell_type": "markdown",
   "metadata": {
    "colab_type": "text",
    "id": "SrY2k2XSKyfD"
   },
   "source": [
    "Extrayendo el elemento cinco hasta el elemento 9 del texto (**sin incluir el 9**):"
   ]
  },
  {
   "cell_type": "code",
   "execution_count": null,
   "metadata": {
    "colab": {
     "base_uri": "https://localhost:8080/",
     "height": 35
    },
    "colab_type": "code",
    "executionInfo": {
     "elapsed": 403,
     "status": "ok",
     "timestamp": 1581638663585,
     "user": {
      "displayName": "Daniel Montenegro",
      "photoUrl": "",
      "userId": "07275166318289302366"
     },
     "user_tz": 300
    },
    "id": "R9Py_A_IUzWw",
    "outputId": "d787e85d-d0cf-4991-acd6-6a3e23bfd809"
   },
   "outputs": [],
   "source": [
    "texto[5:9]"
   ]
  },
  {
   "cell_type": "markdown",
   "metadata": {
    "colab_type": "text",
    "id": "VQMd1XUpLAAv"
   },
   "source": [
    "**También se pueden usar índices negativos** (Python exclusive):"
   ]
  },
  {
   "cell_type": "code",
   "execution_count": null,
   "metadata": {
    "colab": {
     "base_uri": "https://localhost:8080/",
     "height": 35
    },
    "colab_type": "code",
    "executionInfo": {
     "elapsed": 458,
     "status": "ok",
     "timestamp": 1581638781357,
     "user": {
      "displayName": "Daniel Montenegro",
      "photoUrl": "",
      "userId": "07275166318289302366"
     },
     "user_tz": 300
    },
    "id": "AIcmHaNdUzWq",
    "outputId": "b5437600-70ed-4636-d7a9-af93e9bc798d"
   },
   "outputs": [],
   "source": [
    "texto[3:-1]"
   ]
  },
  {
   "cell_type": "markdown",
   "metadata": {},
   "source": [
    "[[Volver al inicio]](#Contenido)"
   ]
  },
  {
   "cell_type": "markdown",
   "metadata": {
    "colab_type": "text",
    "id": "jsYP__7Q7y6j"
   },
   "source": [
    "## <span style=\"color:blue\">Asignación múltiple</span>"
   ]
  },
  {
   "cell_type": "markdown",
   "metadata": {
    "colab_type": "text",
    "id": "jsYP__7Q7y6j"
   },
   "source": [
    "Es posible asignar valores a diferentes variables en una línea de código:"
   ]
  },
  {
   "cell_type": "code",
   "execution_count": 24,
   "metadata": {
    "colab": {
     "base_uri": "https://localhost:8080/",
     "height": 107
    },
    "colab_type": "code",
    "executionInfo": {
     "elapsed": 685,
     "status": "ok",
     "timestamp": 1581636963546,
     "user": {
      "displayName": "Daniel Montenegro",
      "photoUrl": "",
      "userId": "07275166318289302366"
     },
     "user_tz": 300
    },
    "id": "dgS8D9paFG3g",
    "outputId": "8bdadd23-19de-49c9-c721-8aabc05afbd8"
   },
   "outputs": [
    {
     "name": "stdout",
     "output_type": "stream",
     "text": [
      "Apple\n",
      "Watermelon\n",
      "Grape\n",
      "28\n",
      "Apple, Watermelon, Grape, 28\n"
     ]
    }
   ],
   "source": [
    "# Asignación múltiple\n",
    "\n",
    "w, x, y, z = \"Apple\", \"Watermelon\", \"Grape\", 28;\n",
    "\n",
    "print(w);\n",
    "print(x);\n",
    "print(y);\n",
    "print(z);\n",
    "print(w,x,y,z,sep=\", \");"
   ]
  },
  {
   "cell_type": "markdown",
   "metadata": {
    "colab_type": "text",
    "id": "pgpUA2p5GXf2"
   },
   "source": [
    "También es posible asignar un **mismo valor** a diferentes variables:"
   ]
  },
  {
   "cell_type": "code",
   "execution_count": 25,
   "metadata": {
    "colab": {},
    "colab_type": "code",
    "id": "uLVD53UgGXEr"
   },
   "outputs": [
    {
     "name": "stdout",
     "output_type": "stream",
     "text": [
      "x1 = 0.5\n",
      "x2 = 0.5\n",
      "x3 = 0.5\n"
     ]
    }
   ],
   "source": [
    "# Asignación múltiple del mismo valor\n",
    "\n",
    "x1 = x2 = x3 = 0.5;\n",
    "print('x1 =',x1);\n",
    "print('x2 =',x2);\n",
    "print('x3 =',x3);"
   ]
  },
  {
   "cell_type": "markdown",
   "metadata": {},
   "source": [
    "### Ejercicio"
   ]
  },
  {
   "cell_type": "markdown",
   "metadata": {},
   "source": [
    "Explique que hace el siguinete código. Imprima"
   ]
  },
  {
   "cell_type": "code",
   "execution_count": null,
   "metadata": {},
   "outputs": [],
   "source": [
    "x, y = 3, 10\n",
    "\n",
    "y, x = x, y\n",
    "\n",
    "print(y,x)"
   ]
  },
  {
   "cell_type": "markdown",
   "metadata": {
    "colab_type": "text",
    "id": "gLXedYpJUzVb"
   },
   "source": [
    "**Cuidado con las variables no asignadas**. Generan error al usarse si ser asignadas:"
   ]
  },
  {
   "cell_type": "code",
   "execution_count": 26,
   "metadata": {
    "colab": {
     "base_uri": "https://localhost:8080/",
     "height": 172
    },
    "colab_type": "code",
    "executionInfo": {
     "elapsed": 814,
     "status": "error",
     "timestamp": 1581637056225,
     "user": {
      "displayName": "Daniel Montenegro",
      "photoUrl": "",
      "userId": "07275166318289302366"
     },
     "user_tz": 300
    },
    "id": "7rHYbSZZUzVc",
    "outputId": "f4920052-e895-4a9a-e5f0-b3b91280e7a8"
   },
   "outputs": [
    {
     "ename": "NameError",
     "evalue": "name 'n' is not defined",
     "output_type": "error",
     "traceback": [
      "\u001b[0;31m---------------------------------------------------------------------------\u001b[0m",
      "\u001b[0;31mNameError\u001b[0m                                 Traceback (most recent call last)",
      "\u001b[0;32m<ipython-input-26-4778835ece5b>\u001b[0m in \u001b[0;36m<module>\u001b[0;34m\u001b[0m\n\u001b[0;32m----> 1\u001b[0;31m \u001b[0mn\u001b[0m \u001b[0;31m# Variable sin asignar\u001b[0m\u001b[0;34m\u001b[0m\u001b[0;34m\u001b[0m\u001b[0m\n\u001b[0m",
      "\u001b[0;31mNameError\u001b[0m: name 'n' is not defined"
     ]
    }
   ],
   "source": [
    "n # Variable sin asignar"
   ]
  },
  {
   "cell_type": "markdown",
   "metadata": {},
   "source": [
    "[[Volver al inicio]](#Contenido)"
   ]
  },
  {
   "cell_type": "markdown",
   "metadata": {
    "colab_type": "text",
    "id": "4y3X0kbfHXzW"
   },
   "source": [
    "## <span style=\"color:blue\">Suma de variables y concatenación de variables</span>"
   ]
  },
  {
   "cell_type": "markdown",
   "metadata": {
    "colab_type": "text",
    "id": "4y3X0kbfHXzW"
   },
   "source": [
    "Python es tan sencillo e intuitivo, que es posible sumar diferentes variables y sumarlas con el símbolo **+**. Cuando las variables son numéricas, se **suman matemáticamente** y cuando es texto se **concatenan**."
   ]
  },
  {
   "cell_type": "code",
   "execution_count": 28,
   "metadata": {
    "colab": {
     "base_uri": "https://localhost:8080/",
     "height": 71
    },
    "colab_type": "code",
    "executionInfo": {
     "elapsed": 400,
     "status": "ok",
     "timestamp": 1581637247515,
     "user": {
      "displayName": "Daniel Montenegro",
      "photoUrl": "",
      "userId": "07275166318289302366"
     },
     "user_tz": 300
    },
    "id": "nMPQKB2jHxuk",
    "outputId": "b7d32507-cb5c-4cce-afd6-6504b205a9c6"
   },
   "outputs": [
    {
     "name": "stdout",
     "output_type": "stream",
     "text": [
      "Python is awesome\n",
      "6\n",
      "Python is the number 1\n"
     ]
    }
   ],
   "source": [
    "# Sumar dos textos\n",
    "\n",
    "x = \"Python is \";\n",
    "y = \"awesome\";\n",
    "z =  x + y;\n",
    "print(z);\n",
    "\n",
    "# Sumar dos números\n",
    "\n",
    "n1 = 1;\n",
    "n2 = 5;\n",
    "suma = n1 + n2;\n",
    "print(suma);\n",
    "\n",
    "# Escribir texto y números\n",
    "print(x+\"the number\",n1);"
   ]
  },
  {
   "cell_type": "markdown",
   "metadata": {
    "colab_type": "text",
    "id": "Yv9WSG97QyQX"
   },
   "source": [
    "En el apartado anterior es claro que usamos dos tipos de variables unas textuales y otras numéricas, profundicemos en estos temas."
   ]
  },
  {
   "cell_type": "markdown",
   "metadata": {},
   "source": [
    "[[Volver al inicio]](#Contenido)"
   ]
  },
  {
   "cell_type": "markdown",
   "metadata": {
    "colab_type": "text",
    "id": "Tjq46qsVQ1F9"
   },
   "source": [
    "## <span style=\"color:blue\">Operadores Aritméticos y redondeo</span>"
   ]
  },
  {
   "cell_type": "markdown",
   "metadata": {
    "colab_type": "text",
    "id": "GPiu4RLJUzVj"
   },
   "source": [
    "La fortuna de que Python reconozca variables numéricas nos permite usarla como una calculadora simple, podemos ejecutar operaciones muy sencillas teniendo en cuenta la siguiente tabla:\n",
    "\n",
    "| **Operador** | **Descripción** |\n",
    "| :---: | :---: |\n",
    "|`+`|Suma|\n",
    "|`-`|Resta|\n",
    "|`*`|Multiplicación|\n",
    "|`/`|División|\n",
    "|`**`|Potencia|\n"
   ]
  },
  {
   "cell_type": "markdown",
   "metadata": {
    "colab_type": "text",
    "id": "mWcTFd6gUzVk"
   },
   "source": [
    "### Ejemplo "
   ]
  },
  {
   "cell_type": "markdown",
   "metadata": {
    "colab_type": "text",
    "id": "mWcTFd6gUzVk"
   },
   "source": [
    " Si queremos operar:\n",
    " \n",
    " $$ 5\\times(3-5)^2-\\cfrac{6}{(9)^{1/2}}$$\n",
    " \n",
    " tenemos que escribir:"
   ]
  },
  {
   "cell_type": "code",
   "execution_count": 29,
   "metadata": {
    "colab": {},
    "colab_type": "code",
    "id": "V285pz1XUzVl"
   },
   "outputs": [
    {
     "data": {
      "text/plain": [
       "18.0"
      ]
     },
     "execution_count": 29,
     "metadata": {},
     "output_type": "execute_result"
    }
   ],
   "source": [
    "5*(3-5)**2-(6)/(9**(1/2))"
   ]
  },
  {
   "cell_type": "markdown",
   "metadata": {
    "colab_type": "text",
    "id": "jDUMOPivUzVo"
   },
   "source": [
    "*Recuerde oprimir [Shift]+[Enter]*.\n",
    "\n",
    "El orden en que se interpretan las expresiones es como en todos los demás lenguajes comunes de programación."
   ]
  },
  {
   "cell_type": "markdown",
   "metadata": {
    "colab_type": "text",
    "id": "dTnOKPXFUzVs"
   },
   "source": [
    "### Ejercicio "
   ]
  },
  {
   "cell_type": "markdown",
   "metadata": {
    "colab_type": "text",
    "id": "dTnOKPXFUzVs"
   },
   "source": [
    "Es muy importante usar bien los paréntesis, el uso o desuso puede generar problemas graves en las cuentas, encuentre el error y describa lo que hizo la máquina en los siguientes casos respecto a la operación anterior:"
   ]
  },
  {
   "cell_type": "code",
   "execution_count": 30,
   "metadata": {
    "colab": {},
    "colab_type": "code",
    "id": "fUepsH4JUzVt"
   },
   "outputs": [
    {
     "data": {
      "text/plain": [
       "-12.0"
      ]
     },
     "execution_count": 30,
     "metadata": {},
     "output_type": "execute_result"
    }
   ],
   "source": [
    "5*3-5**2-(6)/(9**(1/2))"
   ]
  },
  {
   "cell_type": "code",
   "execution_count": 31,
   "metadata": {
    "colab": {},
    "colab_type": "code",
    "id": "v3JKucM0UzVv"
   },
   "outputs": [
    {
     "data": {
      "text/plain": [
       "18.666666666666668"
      ]
     },
     "execution_count": 31,
     "metadata": {},
     "output_type": "execute_result"
    }
   ],
   "source": [
    "5*(3-5)**2-6/(9**1/2)"
   ]
  },
  {
   "cell_type": "code",
   "execution_count": 32,
   "metadata": {
    "colab": {},
    "colab_type": "code",
    "id": "WSKpxgUPUzVy"
   },
   "outputs": [
    {
     "data": {
      "text/plain": [
       "19.666666666666668"
      ]
     },
     "execution_count": 32,
     "metadata": {},
     "output_type": "execute_result"
    }
   ],
   "source": [
    "5*(3-5)**2-6/9**1/2"
   ]
  },
  {
   "cell_type": "code",
   "execution_count": 33,
   "metadata": {
    "colab": {},
    "colab_type": "code",
    "id": "GST4zCDtUzV1"
   },
   "outputs": [
    {
     "data": {
      "text/plain": [
       "-10.333333333333334"
      ]
     },
     "execution_count": 33,
     "metadata": {},
     "output_type": "execute_result"
    }
   ],
   "source": [
    "5*3-5**2-6/9**1/2"
   ]
  },
  {
   "cell_type": "markdown",
   "metadata": {
    "colab_type": "text",
    "id": "TIkHNbN5UzV4"
   },
   "source": [
    "### Divsión y residuo entre enteros"
   ]
  },
  {
   "cell_type": "markdown",
   "metadata": {
    "colab_type": "text",
    "id": "TIkHNbN5UzV4"
   },
   "source": [
    "La división es una operación bien especial pues la mayoría de ocasiones produce un número con parte fraccionaria. Sin embargo, cuando estábamos pequeños nos enseñaron a dividir enteros dando como respuesta un entero llamado cociente y lo que hacia falta para completar la división, un número llamado residuo. En Python podemos calcular esos valores con `\\\\` para el cociente y `%`para el residuo. Por ejemplo, sabemos que:\n",
    "\n",
    "$$ 20 \\div 3 = 6 \\ \\ \\ \\text{ con residuo } 2$$\n",
    "tenemos:"
   ]
  },
  {
   "cell_type": "code",
   "execution_count": 34,
   "metadata": {
    "colab": {},
    "colab_type": "code",
    "id": "VYj4u-axUzV5"
   },
   "outputs": [
    {
     "data": {
      "text/plain": [
       "6"
      ]
     },
     "execution_count": 34,
     "metadata": {},
     "output_type": "execute_result"
    }
   ],
   "source": [
    "20//3"
   ]
  },
  {
   "cell_type": "code",
   "execution_count": 35,
   "metadata": {
    "colab": {},
    "colab_type": "code",
    "id": "Rg9EebXCUzV7"
   },
   "outputs": [
    {
     "data": {
      "text/plain": [
       "2"
      ]
     },
     "execution_count": 35,
     "metadata": {},
     "output_type": "execute_result"
    }
   ],
   "source": [
    "20%3"
   ]
  },
  {
   "cell_type": "code",
   "execution_count": 36,
   "metadata": {
    "colab": {},
    "colab_type": "code",
    "id": "TkOeHTlXUzV-"
   },
   "outputs": [
    {
     "data": {
      "text/plain": [
       "(3+2j)"
      ]
     },
     "execution_count": 36,
     "metadata": {},
     "output_type": "execute_result"
    }
   ],
   "source": [
    "3+(-4)**(1/2) # Recordemos un poquito de nuestras matemáticas"
   ]
  },
  {
   "cell_type": "markdown",
   "metadata": {
    "colab_type": "text",
    "id": "2TGfXoLdUzWB"
   },
   "source": [
    "Finalmente, una función elemental y útil para el tratamiento de números decimales es `round`. Lo usamos para redondear los valores a uno con el decimal que escojamos. Tenemos:"
   ]
  },
  {
   "cell_type": "code",
   "execution_count": null,
   "metadata": {
    "colab": {
     "base_uri": "https://localhost:8080/",
     "height": 35
    },
    "colab_type": "code",
    "executionInfo": {
     "elapsed": 434,
     "status": "ok",
     "timestamp": 1581637489662,
     "user": {
      "displayName": "Daniel Montenegro",
      "photoUrl": "",
      "userId": "07275166318289302366"
     },
     "user_tz": 300
    },
    "id": "F1JNJ-WPUzWC",
    "outputId": "071c09f0-9a01-4b30-998c-fdd6ddd0e663"
   },
   "outputs": [],
   "source": [
    "n1=47/3\n",
    "n1"
   ]
  },
  {
   "cell_type": "code",
   "execution_count": null,
   "metadata": {
    "colab": {
     "base_uri": "https://localhost:8080/",
     "height": 35
    },
    "colab_type": "code",
    "executionInfo": {
     "elapsed": 436,
     "status": "ok",
     "timestamp": 1581637500508,
     "user": {
      "displayName": "Daniel Montenegro",
      "photoUrl": "",
      "userId": "07275166318289302366"
     },
     "user_tz": 300
    },
    "id": "MRXeLGffUzWE",
    "outputId": "b7750137-0136-4a9f-a65a-9256d3b6fb7a"
   },
   "outputs": [],
   "source": [
    "n2=round(n1)\n",
    "n2"
   ]
  },
  {
   "cell_type": "code",
   "execution_count": null,
   "metadata": {
    "colab": {
     "base_uri": "https://localhost:8080/",
     "height": 35
    },
    "colab_type": "code",
    "executionInfo": {
     "elapsed": 405,
     "status": "ok",
     "timestamp": 1581637541870,
     "user": {
      "displayName": "Daniel Montenegro",
      "photoUrl": "",
      "userId": "07275166318289302366"
     },
     "user_tz": 300
    },
    "id": "buhEFfx7UzWH",
    "outputId": "63c22886-f346-49b4-8e42-ac83f8e363a7"
   },
   "outputs": [],
   "source": [
    "n3=round(n1,3)\n",
    "n3"
   ]
  },
  {
   "cell_type": "markdown",
   "metadata": {
    "colab_type": "text",
    "id": "P8eMjQnDI1Eg"
   },
   "source": [
    "### Ejercicio"
   ]
  },
  {
   "cell_type": "markdown",
   "metadata": {
    "colab_type": "text",
    "id": "P8eMjQnDI1Eg"
   },
   "source": [
    "Use la función ```round()``` para redondear el número $\\pi$ hasta 5 cifras decimales.\n",
    "\n",
    "**Pista:** Para poder usar el número $\\pi$, use el siguiente código:"
   ]
  },
  {
   "cell_type": "code",
   "execution_count": 37,
   "metadata": {
    "colab": {
     "base_uri": "https://localhost:8080/",
     "height": 34
    },
    "colab_type": "code",
    "executionInfo": {
     "elapsed": 1053,
     "status": "ok",
     "timestamp": 1581607521193,
     "user": {
      "displayName": "Daniel Montenegro",
      "photoUrl": "",
      "userId": "07275166318289302366"
     },
     "user_tz": 300
    },
    "id": "UJQCI5k-I0qk",
    "outputId": "e07ea843-98d0-40d0-9f94-8f0e313be3d6"
   },
   "outputs": [
    {
     "name": "stdout",
     "output_type": "stream",
     "text": [
      "3.141592653589793\n"
     ]
    },
    {
     "data": {
      "text/plain": [
       "3.14159"
      ]
     },
     "execution_count": 37,
     "metadata": {},
     "output_type": "execute_result"
    }
   ],
   "source": [
    "# importando el número pi\n",
    "\n",
    "from math import *\n",
    "\n",
    "# visualizar pi\n",
    "print(pi)\n",
    "\n",
    "# Your code here\n",
    "round(pi,5)"
   ]
  },
  {
   "cell_type": "markdown",
   "metadata": {},
   "source": [
    "[[Volver al inicio]](#Contenido)"
   ]
  },
  {
   "cell_type": "markdown",
   "metadata": {
    "colab_type": "text",
    "id": "qAqnr4i70sLy"
   },
   "source": [
    "## <span style=\"color:blue\">Estructuras de control</span>"
   ]
  },
  {
   "cell_type": "markdown",
   "metadata": {
    "colab_type": "text",
    "id": "qAqnr4i70sLy"
   },
   "source": [
    "En cualquier lenguaje de programación existen tres estructuras de control básicas que corresponden a \n",
    "\n",
    "- Secuencia\n",
    "- Selección (o decisión)\n",
    "- Iteración (repetición)"
   ]
  },
  {
   "cell_type": "markdown",
   "metadata": {
    "colab_type": "text",
    "id": "qAqnr4i70sLy"
   },
   "source": [
    "### Secuencia"
   ]
  },
  {
   "cell_type": "markdown",
   "metadata": {
    "colab_type": "text",
    "id": "qAqnr4i70sLy"
   },
   "source": [
    "La ejecución de cualquier programa (algoritmo codificado en algún lenguaje de programación) se realiza en orden de aparición de las sentencias. Una **sentencia** puede ser **simple** (solamente una instrucción) o **compuesta** (varias instrucciones)."
   ]
  },
  {
   "cell_type": "markdown",
   "metadata": {
    "colab_type": "text",
    "id": "qAqnr4i70sLy"
   },
   "source": [
    "#### Ejemplo"
   ]
  },
  {
   "cell_type": "markdown",
   "metadata": {
    "colab_type": "text",
    "id": "qAqnr4i70sLy"
   },
   "source": [
    "Observe el siguiente código Python"
   ]
  },
  {
   "cell_type": "code",
   "execution_count": 38,
   "metadata": {},
   "outputs": [
    {
     "name": "stdout",
     "output_type": "stream",
     "text": [
      "1 2\n"
     ]
    }
   ],
   "source": [
    "x = 1\n",
    "y = 2\n",
    "\n",
    "print(x,y)"
   ]
  },
  {
   "cell_type": "markdown",
   "metadata": {},
   "source": [
    "En el ejemplo hay tres sentencias. Dos sentencias de asignación de valores y una sentencia de impresión. Se ejecuta una después de la otra."
   ]
  },
  {
   "cell_type": "markdown",
   "metadata": {},
   "source": [
    "### Selección (if)"
   ]
  },
  {
   "cell_type": "markdown",
   "metadata": {},
   "source": [
    "Esta estructura de control está diseñada para que un programa pueda seguir diferentes caminos de ejecución, dependiendo de la evaluación de una expresión lógica. Observe el siguiente ejemplo."
   ]
  },
  {
   "cell_type": "code",
   "execution_count": 39,
   "metadata": {},
   "outputs": [
    {
     "name": "stdout",
     "output_type": "stream",
     "text": [
      "Cinco es mayor que Tres\n",
      "lunes\n"
     ]
    }
   ],
   "source": [
    "# ejemplo if\n",
    "x = 5\n",
    "y = 3\n",
    "\n",
    "if x>y:\n",
    "    print(\"Cinco es mayor que Tres\")\n",
    "    print(\"lunes\")"
   ]
  },
  {
   "cell_type": "markdown",
   "metadata": {},
   "source": [
    "La estructura empieza con la palabra clave **if**. Luego aparece una condición lógica que es evaluada (x>y). Si la condición es verdadera, como en este caso, se ejecutan las instrucciones escritas dentro de la estructura.\n",
    "\n",
    "Ahora observe el siguiente cambio"
   ]
  },
  {
   "cell_type": "code",
   "execution_count": 40,
   "metadata": {},
   "outputs": [],
   "source": [
    "# ejemplo if\n",
    "x = 3\n",
    "y = 5\n",
    "\n",
    "if x>y:\n",
    "    print(\"Cinco es mayor que Tres\")\n",
    "    print(\"lunes\")"
   ]
  },
  {
   "cell_type": "markdown",
   "metadata": {},
   "source": [
    "En este caso,  no se imprime nada, debido a que la condición es falsa. Ahora observe el siguiente ejemplo"
   ]
  },
  {
   "cell_type": "code",
   "execution_count": 41,
   "metadata": {},
   "outputs": [
    {
     "name": "stdout",
     "output_type": "stream",
     "text": [
      "La condición es falsa\n",
      "Martes\n"
     ]
    }
   ],
   "source": [
    "# ejemplo if\n",
    "x = 3\n",
    "y = 5\n",
    "\n",
    "if x>y:\n",
    "    print(\"La condición es verdadera\")\n",
    "    print(\"Lunes\")\n",
    "else:\n",
    "    print('La condición es falsa')\n",
    "    print('Martes')"
   ]
  },
  {
   "cell_type": "markdown",
   "metadata": {},
   "source": [
    "### Pregunta"
   ]
  },
  {
   "cell_type": "markdown",
   "metadata": {},
   "source": [
    "De acuerdo al script anterior, ¿cuál es la función de la clúsula **else**?"
   ]
  },
  {
   "cell_type": "markdown",
   "metadata": {},
   "source": [
    "### Ejercicio"
   ]
  },
  {
   "cell_type": "markdown",
   "metadata": {},
   "source": [
    "Cambie el código anterior para que corra el otro camino de ejecución."
   ]
  },
  {
   "cell_type": "code",
   "execution_count": null,
   "metadata": {},
   "outputs": [],
   "source": [
    " # Consigne su respuesta aquí."
   ]
  },
  {
   "cell_type": "markdown",
   "metadata": {
    "colab_type": "text",
    "id": "qA6o2ObtUzVC"
   },
   "source": [
    "### Ejercicio"
   ]
  },
  {
   "cell_type": "markdown",
   "metadata": {
    "colab_type": "text",
    "id": "qA6o2ObtUzVC"
   },
   "source": [
    "El siguiente código calcula la longitud del nombre y escribe una frase acorde a la longitud. Observe que en el comando `print()` , `sep=` es un parámetro que separa los valores ingresados dentro de la función print. Como vemos, escribimos `N='Tu_nombre'` eso asigna a la letra N el texto *Tu_nombre*.  La función *len* devuelve la longitud de la cadena."
   ]
  },
  {
   "cell_type": "code",
   "execution_count": 42,
   "metadata": {
    "colab": {},
    "colab_type": "code",
    "id": "otVV2npDUzVD"
   },
   "outputs": [
    {
     "name": "stdout",
     "output_type": "stream",
     "text": [
      "Daniel es un nombre muy corto\n"
     ]
    }
   ],
   "source": [
    "N='Daniel'# cambiar 'Tu_nombre' por su verdadero nombre\n",
    "if len(N)>10:\n",
    "    A=\"es un nombre muy largo\"\n",
    "else:\n",
    "    A=\"es un nombre muy corto\"\n",
    "\n",
    "print(N,A,sep=\" \")\n"
   ]
  },
  {
   "cell_type": "code",
   "execution_count": 43,
   "metadata": {
    "colab": {},
    "colab_type": "code",
    "id": "2s1YfC-BUzVG"
   },
   "outputs": [
    {
     "name": "stdout",
     "output_type": "stream",
     "text": [
      "Alvaro Mauricio Montenegro Díaz/es un nombre muy largo\n"
     ]
    }
   ],
   "source": [
    "N='Alvaro Mauricio Montenegro Díaz' #cambiar 'Tu_nombre_completo' por su verdadero nombre completo\n",
    "if len(N)>10:\n",
    "    A=\"es un nombre muy largo\"\n",
    "else:\n",
    "    A=\"es un nombre muy corto\"\n",
    "\n",
    "print(N,A,sep=\"/\")"
   ]
  },
  {
   "cell_type": "code",
   "execution_count": 44,
   "metadata": {
    "colab": {},
    "colab_type": "code",
    "id": "P41c3wWHUzVI"
   },
   "outputs": [
    {
     "name": "stdout",
     "output_type": "stream",
     "text": [
      "El nombre         es un nombre muy corto\n"
     ]
    }
   ],
   "source": [
    "N='El nombre'\n",
    "if len(N)>10:\n",
    "    A=\"es un nombre muy largo\"\n",
    "else:\n",
    "    A=\"es un nombre muy corto\"\n",
    "\n",
    "print(N,A,sep=\"         \")"
   ]
  },
  {
   "cell_type": "markdown",
   "metadata": {},
   "source": [
    "[[Volver al inicio]](#Contenido)"
   ]
  },
  {
   "cell_type": "markdown",
   "metadata": {
    "colab_type": "text",
    "id": "qAqnr4i70sLy"
   },
   "source": [
    "## <span style=\"color:blue\">Indentación en Python</span>"
   ]
  },
  {
   "cell_type": "markdown",
   "metadata": {
    "colab_type": "text",
    "id": "oMyFFHSjlj9J"
   },
   "source": [
    "Indentar significa **mover un bloque de texto hacia la derecha**, dejando una serie de espacios o un tabulador para distinguirlo del texto alineado a la izquierda. \n",
    "\n",
    "Por ejemplo:\n",
    "\n",
    "> Este texto está indentado.\n",
    "\n",
    "En **Python**, la identación es obligatoria para indica el alcance de una estructura. Además solamente debe usarse para tal fín."
   ]
  },
  {
   "cell_type": "markdown",
   "metadata": {
    "colab_type": "text",
    "id": "OqFH478Xza5l"
   },
   "source": [
    "### Ejemplo: Identación en Python"
   ]
  },
  {
   "cell_type": "markdown",
   "metadata": {
    "colab_type": "text",
    "id": "OqFH478Xza5l"
   },
   "source": [
    "En este ejemplo"
   ]
  },
  {
   "cell_type": "code",
   "execution_count": 45,
   "metadata": {
    "colab": {},
    "colab_type": "code",
    "id": "ie3nUgSszhve"
   },
   "outputs": [
    {
     "name": "stdout",
     "output_type": "stream",
     "text": [
      "9.6\n"
     ]
    }
   ],
   "source": [
    "# ejemplo if\n",
    "x = 3\n",
    "y = 5\n",
    "\n",
    "if x>y:\n",
    "    print(\"Five is greater than Three\")\n",
    "    print(\"lunes\")\n",
    "    \n",
    "# por fuera del if\n",
    "x = 9.6\n",
    "print(x)\n",
    "    "
   ]
  },
  {
   "cell_type": "markdown",
   "metadata": {
    "colab_type": "text",
    "id": "Xvt2xJKPzudT"
   },
   "source": [
    "**Sin la indentación**, el código produce un **error**:"
   ]
  },
  {
   "cell_type": "code",
   "execution_count": 46,
   "metadata": {},
   "outputs": [
    {
     "ename": "IndentationError",
     "evalue": "expected an indented block (<ipython-input-46-eb6f8857a709>, line 6)",
     "output_type": "error",
     "traceback": [
      "\u001b[0;36m  File \u001b[0;32m\"<ipython-input-46-eb6f8857a709>\"\u001b[0;36m, line \u001b[0;32m6\u001b[0m\n\u001b[0;31m    print(\"Five is greater than Three\")\u001b[0m\n\u001b[0m    ^\u001b[0m\n\u001b[0;31mIndentationError\u001b[0m\u001b[0;31m:\u001b[0m expected an indented block\n"
     ]
    }
   ],
   "source": [
    "x = 3\n",
    "y = 5\n",
    "print(x,y)\n",
    "\n",
    "if x>y:\n",
    "print(\"Five is greater than Three\")"
   ]
  },
  {
   "cell_type": "markdown",
   "metadata": {},
   "source": [
    "[[Volver al inicio]](#Contenido)"
   ]
  },
  {
   "cell_type": "markdown",
   "metadata": {
    "colab_type": "text",
    "id": "qAqnr4i70sLy"
   },
   "source": [
    "## <span style=\"color:blue\">Operadores de comparación</span>"
   ]
  },
  {
   "cell_type": "markdown",
   "metadata": {},
   "source": [
    "| **Operador** | **Descripción** |**Ejemplo**|\n",
    "| :---: | :---: |:---: |\n",
    "|`==`|Prueba si dos valores son iguales| 3==3|\n",
    "|`!=`|Prueba si dos valores no son iguales entren si| 2!=3|\n",
    "|`<`|Prueba si el valor de la izquierza es menor que el de la derecha|4<3|\n",
    "|`>`|Prueba si el valor de la izquierza es mayor que el de la derecha|4<3|\n",
    "|`<=`|Prueba si el valor de la izquierza es menor o igual que el de la derecha|4<=3|\n",
    "|`>=`|Prueba si el valor de la izquierza es mayor igual que el de la derecha|4<=3|"
   ]
  },
  {
   "cell_type": "markdown",
   "metadata": {},
   "source": [
    "[[Volver al inicio]](#Contenido)"
   ]
  },
  {
   "cell_type": "markdown",
   "metadata": {
    "colab_type": "text",
    "id": "qAqnr4i70sLy"
   },
   "source": [
    "## <span style=\"color:blue\">Operadores Lógicos</span>"
   ]
  },
  {
   "cell_type": "markdown",
   "metadata": {},
   "source": [
    "| **Operador** | **Descripción** |**Ejemplo**|\n",
    "| :---: | :---: |:---: |\n",
    "|`and`|Regresa verdadero si el valor de las izquierda y el de la derecha son verdaderos| (3<4) and (5>1)|\n",
    "|`or`|Regresa verdadero si uno de los dos valores a(izquierda o derecha es verdadero, o ambos| (3<4) or (5<1)|\n",
    "|`not`|Regresa verdadero si el valor que se esta evaluado es falso|not 3>2|"
   ]
  },
  {
   "cell_type": "markdown",
   "metadata": {},
   "source": [
    "### Ejercicio"
   ]
  },
  {
   "cell_type": "markdown",
   "metadata": {},
   "source": [
    "Verifique que entiende que hace el siguiente código. ¿Cuál es la salida?"
   ]
  },
  {
   "cell_type": "code",
   "execution_count": 49,
   "metadata": {},
   "outputs": [
    {
     "name": "stdout",
     "output_type": "stream",
     "text": [
      "adolecente\n"
     ]
    }
   ],
   "source": [
    "edad = 15\n",
    "status = None\n",
    "\n",
    "if (edad >12) and (edad<20):\n",
    "    status = 'adolecente'\n",
    "else:\n",
    "    status = 'no adolecente'\n",
    "\n",
    "print(status)"
   ]
  },
  {
   "cell_type": "markdown",
   "metadata": {},
   "source": [
    "[[Volver al inicio]](#Contenido)"
   ]
  },
  {
   "cell_type": "markdown",
   "metadata": {},
   "source": [
    "## <span style=\"color:blue\">Estructura de repetición [ciclos]</span>"
   ]
  },
  {
   "cell_type": "markdown",
   "metadata": {},
   "source": [
    "Este tercer tipo de estructura de control se usa para los casos en los cuales es necesario correr un proceso varas veces en forma continua."
   ]
  },
  {
   "cell_type": "markdown",
   "metadata": {},
   "source": [
    "### Ciclo while"
   ]
  },
  {
   "cell_type": "markdown",
   "metadata": {},
   "source": [
    "Al comienzo del ciclo se evalúa una condición. Si la condición es verdadera se ejecuta de nuevo el ciclo. En otro caso, termina. Corra y analice el siguiente fragmento (snippet) de código"
   ]
  },
  {
   "cell_type": "code",
   "execution_count": 50,
   "metadata": {},
   "outputs": [
    {
     "name": "stdout",
     "output_type": "stream",
     "text": [
      "Starting\n",
      "0  1  2  3  4  5  6  7  8  9  \n",
      "Done\n"
     ]
    }
   ],
   "source": [
    "contador = 0\n",
    "\n",
    "print('Starting')\n",
    "while contador < 10:\n",
    "    #Instrucciones útiles\n",
    "    print(contador,' ', end='')\n",
    "    contador = contador + 1\n",
    "    \n",
    "print()\n",
    "print('Done')"
   ]
  },
  {
   "cell_type": "markdown",
   "metadata": {},
   "source": [
    "### Ejercicio"
   ]
  },
  {
   "cell_type": "markdown",
   "metadata": {},
   "source": [
    "¿Qué hace el parámetro  *end* en el *print* anterior? "
   ]
  },
  {
   "cell_type": "markdown",
   "metadata": {},
   "source": [
    "### Ciclo for"
   ]
  },
  {
   "cell_type": "markdown",
   "metadata": {},
   "source": [
    "En este caso se usa una variable de salto que va recorriendo un conjunto de valores hasta terminar. Revise el siguiente snippet."
   ]
  },
  {
   "cell_type": "code",
   "execution_count": 51,
   "metadata": {},
   "outputs": [
    {
     "name": "stdout",
     "output_type": "stream",
     "text": [
      "\n",
      "Start:\n",
      "0  1  2  3  4  5  6  7  8  9  10  11  12  13  14  15  16  17  18  19  \n",
      "Done.\n"
     ]
    }
   ],
   "source": [
    "print('\\nStart:')\n",
    "for i in range(20):\n",
    "    # Instrucciones útiles\n",
    "    print(i, ' ', end='')\n",
    "\n",
    "print('\\nDone.')"
   ]
  },
  {
   "cell_type": "markdown",
   "metadata": {},
   "source": [
    "**Pregunta:**\n",
    "\n",
    "¿Cuál es la diferencia entre while y for?"
   ]
  },
  {
   "cell_type": "markdown",
   "metadata": {},
   "source": [
    "### Break"
   ]
  },
  {
   "cell_type": "markdown",
   "metadata": {},
   "source": [
    "Se usa para terminar la ejecución de un ciclo while o for. Corra el siguiente ejemplo dadno difentes valores."
   ]
  },
  {
   "cell_type": "code",
   "execution_count": 54,
   "metadata": {},
   "outputs": [
    {
     "name": "stdout",
     "output_type": "stream",
     "text": [
      "0\n",
      "1\n",
      "2\n",
      "3\n",
      "4\n",
      "5\n"
     ]
    }
   ],
   "source": [
    "for  i in range(10):\n",
    "    print(i)\n",
    "    if i==5:\n",
    "        break"
   ]
  },
  {
   "cell_type": "markdown",
   "metadata": {},
   "source": [
    "[[Volver al inicio]](#Contenido)"
   ]
  },
  {
   "cell_type": "markdown",
   "metadata": {},
   "source": [
    "## <span style=\"color:blue\">Estructuras de control anidadas</span>"
   ]
  },
  {
   "cell_type": "markdown",
   "metadata": {},
   "source": [
    "Es posible incluir (o anidar) estructuras de control dentro de otras estructuras de control.\n",
    "\n",
    "Esto es de gran utilidad para realizar programas de mayor complejidad.\n",
    "\n",
    "**Ejemplo:**"
   ]
  },
  {
   "cell_type": "code",
   "execution_count": null,
   "metadata": {
    "colab": {},
    "colab_type": "code",
    "id": "Q6UM2ujoztla"
   },
   "outputs": [],
   "source": [
    "x = 5\n",
    "y = 3\n",
    "print(x,y)"
   ]
  },
  {
   "cell_type": "code",
   "execution_count": 56,
   "metadata": {
    "colab": {},
    "colab_type": "code",
    "id": "Q6UM2ujoztla"
   },
   "outputs": [
    {
     "name": "stdout",
     "output_type": "stream",
     "text": [
      "Cinco es mayor que tres\n",
      "0\n",
      "1\n",
      "2\n",
      "3\n",
      "4\n",
      "5\n",
      "6\n",
      "7\n",
      "8\n",
      "9\n",
      "9.9 2\n"
     ]
    }
   ],
   "source": [
    "if x>y:\n",
    "    print(\"Cinco es mayor que tres\")\n",
    "    for i in range(10):\n",
    "        print(i)\n",
    "    x = 9.9\n",
    "\n",
    "y = 2\n",
    "print(x, y)"
   ]
  },
  {
   "cell_type": "markdown",
   "metadata": {
    "colab_type": "text",
    "id": "h_FUae2V1Dfu"
   },
   "source": [
    "No importa cuántos espacios en blanco se dejen, siempre y cuando sea **al menos uno**:"
   ]
  },
  {
   "cell_type": "code",
   "execution_count": 57,
   "metadata": {
    "colab": {},
    "colab_type": "code",
    "id": "8shIg71S1KOI"
   },
   "outputs": [
    {
     "name": "stdout",
     "output_type": "stream",
     "text": [
      "Five is greater than Three\n",
      "Five is greater than Three\n"
     ]
    }
   ],
   "source": [
    "if 5 > 3:\n",
    "    print(\"Five is greater than Three\")  \n",
    "if 5 > 3:\n",
    "       print(\"Five is greater than Three\")"
   ]
  },
  {
   "cell_type": "markdown",
   "metadata": {},
   "source": [
    "### Ciclos anidados"
   ]
  },
  {
   "cell_type": "markdown",
   "metadata": {},
   "source": [
    "Un ejemplo de ciclos anidados, por ejemplo crear las tablas de multiplicar, puede ser de gran utilidad para realizar procesos iterativos.\n",
    "\n",
    "**Ejemplo:**"
   ]
  },
  {
   "cell_type": "code",
   "execution_count": 58,
   "metadata": {},
   "outputs": [
    {
     "name": "stdout",
     "output_type": "stream",
     "text": [
      "\n",
      "Algunas Tablas de Multiplicar:\n",
      "\n",
      "Tabla del 1\n",
      "\n",
      "1x1 = 1\n",
      "1x2 = 2\n",
      "1x3 = 3\n",
      "1x4 = 4\n",
      "1x5 = 5\n",
      "1x6 = 6\n",
      "1x7 = 7\n",
      "1x8 = 8\n",
      "1x9 = 9\n",
      "1x10 = 10\n",
      "1x11 = 11\n",
      "1x12 = 12\n",
      "\n",
      "Tabla del 2\n",
      "\n",
      "2x1 = 2\n",
      "2x2 = 4\n",
      "2x3 = 6\n",
      "2x4 = 8\n",
      "2x5 = 10\n",
      "2x6 = 12\n",
      "2x7 = 14\n",
      "2x8 = 16\n",
      "2x9 = 18\n",
      "2x10 = 20\n",
      "2x11 = 22\n",
      "2x12 = 24\n",
      "\n",
      "Tabla del 3\n",
      "\n",
      "3x1 = 3\n",
      "3x2 = 6\n",
      "3x3 = 9\n",
      "3x4 = 12\n",
      "3x5 = 15\n",
      "3x6 = 18\n",
      "3x7 = 21\n",
      "3x8 = 24\n",
      "3x9 = 27\n",
      "3x10 = 30\n",
      "3x11 = 33\n",
      "3x12 = 36\n",
      "\n",
      "Tabla del 4\n",
      "\n",
      "4x1 = 4\n",
      "4x2 = 8\n",
      "4x3 = 12\n",
      "4x4 = 16\n",
      "4x5 = 20\n",
      "4x6 = 24\n",
      "4x7 = 28\n",
      "4x8 = 32\n",
      "4x9 = 36\n",
      "4x10 = 40\n",
      "4x11 = 44\n",
      "4x12 = 48\n"
     ]
    }
   ],
   "source": [
    "print(\"\\nAlgunas Tablas de Multiplicar:\")\n",
    "for i in range(1,5): # i va aumentado desde 1, luego va a 2,3,...\n",
    "    print(f'\\nTabla del {i}\\n')\n",
    "    for j in range(1,13): # Recorre desde el 1 hasta el 12\n",
    "        print(i,\"x\",j,\" = \",i*j,sep='')"
   ]
  },
  {
   "cell_type": "markdown",
   "metadata": {},
   "source": [
    "**Ejemplo 2:**"
   ]
  },
  {
   "cell_type": "code",
   "execution_count": 59,
   "metadata": {},
   "outputs": [
    {
     "name": "stdout",
     "output_type": "stream",
     "text": [
      "\n",
      "*\n",
      "**\n",
      "***\n",
      "****\n",
      "*****\n",
      "******\n",
      "*******\n",
      "********\n",
      "*********\n",
      "**********\n"
     ]
    }
   ],
   "source": [
    "for i in range(0,11):             #line 1\n",
    "    for j in range(i):            #line 2\n",
    "        print('*', end='')        #line 3\n",
    "    print('')                     #line 4"
   ]
  },
  {
   "cell_type": "markdown",
   "metadata": {
    "colab_type": "text",
    "id": "NTTmenRR162S"
   },
   "source": [
    "### Ejercicio"
   ]
  },
  {
   "cell_type": "markdown",
   "metadata": {
    "colab_type": "text",
    "id": "NTTmenRR162S"
   },
   "source": [
    "Escriba un código que le diga al computador que devuelva los textos **I'm ready to code!** si su nombre tiene más de diez caracteres o **Hello, World!** si pasa lo contrario, para medir la longitud de su nombre utilice la función `len()`."
   ]
  },
  {
   "cell_type": "code",
   "execution_count": 60,
   "metadata": {
    "colab": {},
    "colab_type": "code",
    "id": "h-aRHdmHUzUx"
   },
   "outputs": [
    {
     "data": {
      "text/plain": [
       "9"
      ]
     },
     "execution_count": 60,
     "metadata": {},
     "output_type": "execute_result"
    }
   ],
   "source": [
    "len(\"Tu_nombre\") #pruebe la funcion len. Cambia Tu_nombre por su nombre real."
   ]
  },
  {
   "cell_type": "code",
   "execution_count": null,
   "metadata": {
    "colab": {},
    "colab_type": "code",
    "id": "aljlfPUW2SRr"
   },
   "outputs": [],
   "source": [
    "# Ingrese aquí el condicional"
   ]
  },
  {
   "cell_type": "markdown",
   "metadata": {},
   "source": [
    "[[Volver al inicio]](#Contenido)"
   ]
  },
  {
   "cell_type": "markdown",
   "metadata": {},
   "source": [
    "## <span style=\"color:blue\">Funciones en Python</span> "
   ]
  },
  {
   "cell_type": "markdown",
   "metadata": {},
   "source": [
    "Para entender funciones en Python (Paquetes dentro de módulos de Python), debemos pensar en actos reales para poder hacer una **analogía** en el ambiente de programación.\n",
    "\n",
    "Imagínese cuando se levanta.\n",
    "\n",
    "Lo que ocurre primero, es que uno se siente vivo, se abren los ojos (no siempre), se hace pereza un rato, se levanta de la cama y luego se inicia el día (cada persona tiene sus maneras diferentes de lograrlo).\n",
    "\n",
    "Esta serie de **pasos consecutivos** conforman lo que se llama una **función**.\n",
    "\n",
    "En el común, una **función es en realidad una acción** o una serie de acciones que generan un resultado a través de un proceso intermedio.\n",
    "\n",
    "Para poder distinguir funciones, unas de otras, se le dan dotado de nombres diferentes.\n",
    "\n",
    "Por ejemplo, la función antes descrita podría nombrarse como **Levantarse**:\n",
    "\n",
    "Está función se compone de los siguientes pasos:\n",
    "\n",
    "1. **Sentirse vivo.**\n",
    "2. **Abrir los ojos.**\n",
    "3. **Hacer pereza.**\n",
    "4. **Levantarse.**\n",
    "\n",
    "En el lenguaje de programación, ésto se podría escribir como\n",
    "\n",
    "```Levantarse(x)```\n",
    "\n",
    "donde $x$ representa el individuo que hace la acción y los paréntesis significan que se habla de una función, y por lo tanto, **no se confunde** con una variable.\n",
    "\n",
    "**Ejemplo:**\n",
    "\n",
    "Función ```CortarManzana(x)```:\n",
    "\n",
    "Esta función se puede ilustrar dela siguiente manera:\n",
    "\n",
    "\n",
    "![Manzanita](https://photos1.blogger.com/blogger/1290/1572/1600/Apple_slicing_function.png)\n",
    "\n",
    "Como podemos ver, una función es realmente es una **\"Caja Negra\"**:\n",
    "\n",
    "La podemos usar, sin importar qué hay dentro de ella.\n",
    "\n",
    "Ya hemos visto algunas **funciones básicas** de Python (Built-in):\n",
    "\n",
    "- ```print()```\n",
    "- ```len()```\n",
    "- ```list()```\n",
    "\n",
    "En [este link](https://docs.python.org/3/library/functions.html), se encuentra un manual de todas las funciones **básicas** de Python.\n",
    "\n",
    "Veamos algunas de ellas:\n",
    "\n",
    "**Ejercicio**\n",
    "\n",
    "Viendo la entra y salida del código, infiera qué hace la función correspondiente:"
   ]
  },
  {
   "cell_type": "code",
   "execution_count": 61,
   "metadata": {},
   "outputs": [
    {
     "name": "stdout",
     "output_type": "stream",
     "text": [
      "\n",
      "x = -5\n",
      "y =  5 \n",
      "\n",
      "Dicionario:  {'Saludo': 'Hola', 'Despido': 'Adiós', 'Palabra': 'Extraño'} \n",
      "\n",
      "resultado: 21 \n",
      "\n",
      "a1: 6 , a2: 1\n"
     ]
    }
   ],
   "source": [
    "# Your Code Here\n",
    "x = -5\n",
    "y = abs(x)\n",
    "print(\"\\nx =\", x)\n",
    "print(\"y = \", y,\"\\n\")\n",
    "\n",
    "# Your Code Here\n",
    "\n",
    "d = dict({\"Saludo\": \"Hola\", \"Despido\": \"Adiós\", \"Palabra\": \"Extraño\"})\n",
    "print(\"Dicionario: \",d,\"\\n\")\n",
    "\n",
    "# Suma\n",
    "v = [1,2,3,4,5,6]\n",
    "s = sum(v)\n",
    "print(\"resultado:\", s,\"\\n\")\n",
    "\n",
    "# Your Code Here\n",
    "\n",
    "a1=max(v)\n",
    "a2=min(v)\n",
    "\n",
    "print(\"a1:\",a1,\", a2:\",a2)"
   ]
  },
  {
   "cell_type": "markdown",
   "metadata": {},
   "source": [
    "### Parámetros y Variables en Funciones:"
   ]
  },
  {
   "cell_type": "markdown",
   "metadata": {},
   "source": [
    "Las funciones pueden tener uno o más parámetros asociados.\n",
    "\n",
    "Por ejemplo la función $f(x,y,z)=w$, recibe los argumentos $x,y,z$ y produce el resultado $w$.\n",
    "\n",
    "**Ejemplo:**"
   ]
  },
  {
   "cell_type": "code",
   "execution_count": 62,
   "metadata": {},
   "outputs": [
    {
     "name": "stdout",
     "output_type": "stream",
     "text": [
      "x=\n",
      " [0.         0.21666156 0.43332312 0.64998469 0.86664625 1.08330781\n",
      " 1.29996937 1.51663094 1.7332925  1.94995406 2.16661562 2.38327719\n",
      " 2.59993875 2.81660031 3.03326187 3.24992343 3.466585   3.68324656\n",
      " 3.89990812 4.11656968 4.33323125 4.54989281 4.76655437 4.98321593\n",
      " 5.1998775  5.41653906 5.63320062 5.84986218 6.06652374 6.28318531] \n",
      "\n",
      "y=\n",
      " [ 0.00000000e+00  2.14970440e-01  4.19889102e-01  6.05174215e-01\n",
      "  7.62162055e-01  8.83512044e-01  9.63549993e-01  9.98533414e-01\n",
      "  9.86826523e-01  9.28976720e-01  8.27688998e-01  6.87699459e-01\n",
      "  5.15553857e-01  3.19301530e-01  1.08119018e-01 -1.08119018e-01\n",
      " -3.19301530e-01 -5.15553857e-01 -6.87699459e-01 -8.27688998e-01\n",
      " -9.28976720e-01 -9.86826523e-01 -9.98533414e-01 -9.63549993e-01\n",
      " -8.83512044e-01 -7.62162055e-01 -6.05174215e-01 -4.19889102e-01\n",
      " -2.14970440e-01 -2.44929360e-16] \n",
      "\n"
     ]
    },
    {
     "data": {
      "image/png": "[encoded data removed]",
      "text/plain": [
       "<Figure size 432x288 with 1 Axes>"
      ]
     },
     "metadata": {
      "needs_background": "light"
     },
     "output_type": "display_data"
    }
   ],
   "source": [
    "# Comente adecuadamente las siguientes líneas de código\n",
    "\n",
    "import numpy as np\n",
    "import matplotlib.pyplot as plt\n",
    "\n",
    "x=np.linspace(0,2*np.pi,30)\n",
    "y=np.sin(x)\n",
    "\n",
    "print(\"x=\\n\",x,\"\\n\")\n",
    "print(\"y=\\n\",y,\"\\n\")\n",
    "plt.plot(x,y)\n",
    "plt.show()"
   ]
  },
  {
   "cell_type": "markdown",
   "metadata": {},
   "source": [
    "**Ejercicio:**\n",
    "\n",
    "1. Investigue las funciones y atributos internos de matplotlib para hacer una matriz 3x1 que contengan:\n",
    "\n",
    "- Una función matemática.\n",
    "- Una foto.\n",
    "- Una esfera con puntos aleatorios en su frontera.\n",
    "\n",
    "2. Investigue sobre 5 funciones de Python que acepten al menos 3 parámetros.\n",
    "\n",
    "3. Use la libreria ```pandas``` para hacer gráficos útiles sobre el ```Predio_206.csv```."
   ]
  },
  {
   "cell_type": "markdown",
   "metadata": {},
   "source": [
    "### Creación de Funciones"
   ]
  },
  {
   "cell_type": "markdown",
   "metadata": {},
   "source": [
    "También es posible crear funciones para generar rutinas específicas.\n",
    "\n",
    "Hay dos maneras de generar funciones en Python:\n",
    "\n",
    "1. **def**\n",
    "2. **lambda**\n",
    "\n",
    "**Ejemplo:**"
   ]
  },
  {
   "cell_type": "code",
   "execution_count": null,
   "metadata": {},
   "outputs": [],
   "source": [
    "# Explicar las siguientes líneas de código\n",
    "def mysum_prod(x,y):\n",
    "    s=x+y\n",
    "    p=x*y\n",
    "    return s,p"
   ]
  },
  {
   "cell_type": "code",
   "execution_count": null,
   "metadata": {},
   "outputs": [],
   "source": [
    "suma, prod = mysum_prod(3,4)\n",
    "print(\"El suma es:\", suma)\n",
    "print(\"El producto es:\", prod)"
   ]
  },
  {
   "cell_type": "code",
   "execution_count": null,
   "metadata": {},
   "outputs": [],
   "source": [
    "#  Use la función correspodiente de forma inteligente\n",
    "def mysum_prod(x,y):\n",
    "    s=x+y\n",
    "    p=x*y\n",
    "    return [s,p]"
   ]
  },
  {
   "cell_type": "code",
   "execution_count": null,
   "metadata": {},
   "outputs": [],
   "source": [
    "# Explique qué diferencias hay entre éste método y el anterior\n",
    "\n",
    "sumita = lambda arg1,arg2: arg1+arg2\n",
    "\n",
    "a=6\n",
    "b=65\n",
    "s = sumita(a,b)\n",
    "print(\"la suma es:\", s)"
   ]
  },
  {
   "cell_type": "markdown",
   "metadata": {},
   "source": [
    "### ¿Cuál es la diferencia y utilidad de la función lambda?\n",
    "\n",
    "**Pista:**"
   ]
  },
  {
   "cell_type": "code",
   "execution_count": 64,
   "metadata": {},
   "outputs": [
    {
     "name": "stdout",
     "output_type": "stream",
     "text": [
      "22\n"
     ]
    }
   ],
   "source": [
    "# Explicar adecuadamente\n",
    "\n",
    "def myfunc(n):\n",
    "    return lambda a : a * n \n",
    "\n",
    "\n",
    "mydoubler = myfunc(2)\n",
    "#print(mydoubler)\n",
    "print(mydoubler(11))"
   ]
  },
  {
   "cell_type": "markdown",
   "metadata": {},
   "source": [
    "[[Volver al inicio]](#Contenido)"
   ]
  }
 ],
 "metadata": {
  "colab": {
   "collapsed_sections": [
    "-MlSHN16Bg8-",
    "scclT03UHVrm",
    "qAqnr4i70sLy",
    "IUFSujLR2-Rl",
    "ivDxEY5J3EXW",
    "6YvlIG-G6o2Z",
    "Tjq46qsVQ1F9",
    "GPiu4RLJUzVj",
    "dTnOKPXFUzVs",
    "P8eMjQnDI1Eg",
    "i9HdDU49UzWK",
    "y012FyjJPR1O",
    "iDjs_eszUzW0",
    "IpXs0nQNOWpv",
    "2xb_O2GUUzXF"
   ],
   "name": "Intro_Python.ipynb",
   "provenance": []
  },
  "kernelspec": {
   "display_name": "Python 3",
   "language": "python",
   "name": "python3"
  },
  "language_info": {
   "codemirror_mode": {
    "name": "ipython",
    "version": 3
   },
   "file_extension": ".py",
   "mimetype": "text/x-python",
   "name": "python",
   "nbconvert_exporter": "python",
   "pygments_lexer": "ipython3",
   "version": "3.8.8"
  },
  "toc": {
   "base_numbering": 1,
   "nav_menu": {},
   "number_sections": false,
   "sideBar": true,
   "skip_h1_title": false,
   "title_cell": "Table of Contents",
   "title_sidebar": "Contents",
   "toc_cell": false,
   "toc_position": {},
   "toc_section_display": true,
   "toc_window_display": false
  }
 },
 "nbformat": 4,
 "nbformat_minor": 4
}
