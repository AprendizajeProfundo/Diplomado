{
 "cells": [
  {
   "cell_type": "markdown",
   "metadata": {
    "tags": []
   },
   "source": [
    "<figure>\n",
    "<img src=\"../Imagenes/logo-final-ap.png\"  width=\"80\" height=\"80\" align=\"left\"/> \n",
    "</figure>\n",
    "\n",
    "# <span style=\"color:blue\"><left>Aprendizaje Profundo</left></span>"
   ]
  },
  {
   "cell_type": "markdown",
   "metadata": {},
   "source": [
    "# <span style=\"color:red\"><center>Introducción a Pandas</center></span>"
   ]
  },
  {
   "cell_type": "markdown",
   "metadata": {},
   "source": [
    "##   <span style=\"color:blue\">Autores</span>"
   ]
  },
  {
   "cell_type": "markdown",
   "metadata": {},
   "source": [
    "1. Alvaro Mauricio Montenegro Díaz, ammontenegrod@unal.edu.co\n",
    "1. Daniel Mauricio Montenegro Reyes, dextronomo@gmail.com "
   ]
  },
  {
   "cell_type": "markdown",
   "metadata": {},
   "source": [
    "##   <span style=\"color:blue\">Asesora Medios y Marketing digital</span>\n",
    " "
   ]
  },
  {
   "cell_type": "markdown",
   "metadata": {},
   "source": [
    "4. Maria del Pilar Montenegro, pmontenegro88@gmail.com "
   ]
  },
  {
   "cell_type": "markdown",
   "metadata": {},
   "source": [
    "## <span style=\"color:blue\">Asistentes</span>"
   ]
  },
  {
   "cell_type": "markdown",
   "metadata": {},
   "source": [
    "1. Oleg Jarma, ojarmam@unal.edu.co \n",
    "1. Laura Lizarazo, ljlizarazore@unal.edu.co "
   ]
  },
  {
   "cell_type": "markdown",
   "metadata": {},
   "source": [
    "## <span style=\"color:blue\">Contenido</span>"
   ]
  },
  {
   "cell_type": "markdown",
   "metadata": {},
   "source": [
    "* [Introducción](#Introducción)\n",
    "* [Funciones básicas de Pandas](#Funciones-básicas-de-Pandas)\n",
    "* [Creando un dataframe desde un diccionario](#Creando-un-dataframe-desde-un-diccionario)\n",
    "* [Trabajando con bases de datos grandes](#Trabajando-con-bases-de-datos-grandes)"
   ]
  },
  {
   "cell_type": "markdown",
   "metadata": {},
   "source": [
    "## <span style=\"color:blue\">Introducción</span> "
   ]
  },
  {
   "cell_type": "markdown",
   "metadata": {
    "colab_type": "text",
    "id": "VuSLMMBsNrgt"
   },
   "source": [
    "Uno de los paquetes fundamentales y más usados para el análisis de datos es [Pandas](https://pandas.pydata.org/pandas-docs/stable/getting_started/index.html), una biblioteca de software que ofrece la posibilidad de estructurar y explorar colecciones de datos de forma rapida y sencilla caracterizado por la fluidez en diversas funciones.\n",
    "\n",
    "Usaremos este paquete para extraer información importante de la base [Predios Bogotá](https://datosabiertos.bogota.gov.co/dataset/predios-bogota) que contiene alrededor de 5.5 millones de registros con 22 características.\n",
    "\n",
    "\n",
    "Iniciamos importando los paquetes:"
   ]
  },
  {
   "cell_type": "code",
   "execution_count": 3,
   "metadata": {
    "ExecuteTime": {
     "end_time": "2020-01-27T23:28:35.955336Z",
     "start_time": "2020-01-27T23:28:35.728400Z"
    },
    "colab": {},
    "colab_type": "code",
    "id": "9hh0EiEFNrg0"
   },
   "outputs": [],
   "source": [
    "import numpy as np\n",
    "import pandas as pd"
   ]
  },
  {
   "cell_type": "markdown",
   "metadata": {
    "colab_type": "text",
    "id": "K-lGPOfrNrhI"
   },
   "source": [
    "## <span style=\"color:blue\">Funciones básicas de Pandas</span> "
   ]
  },
  {
   "cell_type": "markdown",
   "metadata": {
    "colab_type": "text",
    "id": "K-lGPOfrNrhI"
   },
   "source": [
    "Lo primero que debemos tener en cuenta es que la libreria pandas admite dos tipos de arreglos de datos:\n",
    "\n",
    "* `las series` que permiten organizar un arreglo lineal de información y \n",
    "*  `los marcos de datos` (DataFrames), que  corresponden a tablas de datos. \n",
    "\n",
    "Veamos a continuación algunos ejemplos preliminares."
   ]
  },
  {
   "cell_type": "markdown",
   "metadata": {
    "colab_type": "text",
    "id": "GwSkNjoZNrhN"
   },
   "source": [
    "### Series"
   ]
  },
  {
   "cell_type": "markdown",
   "metadata": {
    "colab_type": "text",
    "id": "GwSkNjoZNrhN"
   },
   "source": [
    "Creamos una lista con los valores [1, 3, 5, nan, 6, 8] y lo asignamos a un objeto de tipo `pandas.core.series.Series`. Se incluye un dato faltante (NaN)."
   ]
  },
  {
   "cell_type": "code",
   "execution_count": 7,
   "metadata": {
    "ExecuteTime": {
     "end_time": "2020-01-27T23:29:43.997943Z",
     "start_time": "2020-01-27T23:29:43.986914Z"
    },
    "colab": {
     "base_uri": "https://localhost:8080/",
     "height": 173
    },
    "colab_type": "code",
    "executionInfo": {
     "elapsed": 2874,
     "status": "ok",
     "timestamp": 1580333630749,
     "user": {
      "displayName": "daniel mauricio montenegro reyes",
      "photoUrl": "",
      "userId": "12701434767844263388"
     },
     "user_tz": 300
    },
    "id": "X0qxbRd1NrhT",
    "outputId": "c74ed349-28dc-4526-c7a4-ae0f5e62b058"
   },
   "outputs": [
    {
     "name": "stdout",
     "output_type": "stream",
     "text": [
      "La serie es:\n",
      "\n",
      "0    1.0\n",
      "1    3.0\n",
      "2    5.0\n",
      "3    NaN\n",
      "4    6.0\n",
      "5    8.0\n",
      "dtype: float64\n"
     ]
    },
    {
     "data": {
      "text/plain": [
       "pandas.core.series.Series"
      ]
     },
     "execution_count": 7,
     "metadata": {},
     "output_type": "execute_result"
    }
   ],
   "source": [
    "s = pd.Series([1, 3, 5, np.nan, 6, 8])\n",
    "print(\"La serie es:\\n\")\n",
    "print(s)\n",
    "type(s)"
   ]
  },
  {
   "cell_type": "markdown",
   "metadata": {
    "colab_type": "text",
    "id": "zoVsAN-ANrhh"
   },
   "source": [
    "### Dataframe"
   ]
  },
  {
   "cell_type": "markdown",
   "metadata": {
    "colab_type": "text",
    "id": "zoVsAN-ANrhh"
   },
   "source": [
    " Podemos crear un DataFrame a partir de diferentes tipos de datos. Para esto, debemos nombrar las variables y los individuos para representarlo más informativamente.\n",
    " "
   ]
  },
  {
   "cell_type": "markdown",
   "metadata": {
    "colab_type": "text",
    "id": "zoVsAN-ANrhh"
   },
   "source": [
    "#### Ejemplo"
   ]
  },
  {
   "cell_type": "markdown",
   "metadata": {},
   "source": [
    "Creamos un conjunto de datos que consiste en 6 fechas separadas mensualmente."
   ]
  },
  {
   "cell_type": "code",
   "execution_count": 8,
   "metadata": {
    "ExecuteTime": {
     "end_time": "2020-01-27T23:37:49.618659Z",
     "start_time": "2020-01-27T23:37:49.613642Z"
    },
    "colab": {},
    "colab_type": "code",
    "id": "tiG3tukhNrhk"
   },
   "outputs": [],
   "source": [
    "# Individuos (Fechas)\n",
    "# M = Month  \n",
    "dates = pd.date_range('20130101', periods=6, freq='M')"
   ]
  },
  {
   "cell_type": "code",
   "execution_count": 10,
   "metadata": {
    "ExecuteTime": {
     "end_time": "2020-01-27T23:37:50.608325Z",
     "start_time": "2020-01-27T23:37:50.604533Z"
    },
    "colab": {
     "base_uri": "https://localhost:8080/",
     "height": 225
    },
    "colab_type": "code",
    "executionInfo": {
     "elapsed": 2850,
     "status": "ok",
     "timestamp": 1580333630752,
     "user": {
      "displayName": "daniel mauricio montenegro reyes",
      "photoUrl": "",
      "userId": "12701434767844263388"
     },
     "user_tz": 300
    },
    "id": "DenucaoKNrhy",
    "outputId": "04fa1da1-16f5-4b93-f7d3-284c416fb522"
   },
   "outputs": [
    {
     "name": "stdout",
     "output_type": "stream",
     "text": [
      "DatetimeIndex(['2013-01-31', '2013-02-28', '2013-03-31', '2013-04-30',\n",
      "               '2013-05-31', '2013-06-30'],\n",
      "              dtype='datetime64[ns]', freq='M')\n",
      "\n",
      "Mostrando verticalmente:\n",
      "\n",
      "2013-01-31 00:00:00\n",
      "2013-02-28 00:00:00\n",
      "2013-03-31 00:00:00\n",
      "2013-04-30 00:00:00\n",
      "2013-05-31 00:00:00\n",
      "2013-06-30 00:00:00\n"
     ]
    }
   ],
   "source": [
    "# Muestra los datos horizonalmente\n",
    "print(dates)\n",
    "print(\"\\nMostrando verticalmente:\\n\")\n",
    "\n",
    "# Showing Vertically\n",
    "for date in dates:\n",
    "    print(date)"
   ]
  },
  {
   "cell_type": "markdown",
   "metadata": {
    "colab_type": "text",
    "id": "-Md9NDzmNriA"
   },
   "source": [
    "Creamos a continuación un conjunto de datos que asociaremos a las fechas enteriores. En concreto crearemos 4 variables. Para hacerlo, generamos los datos al azar, desde una distribución normal."
   ]
  },
  {
   "cell_type": "code",
   "execution_count": 11,
   "metadata": {
    "ExecuteTime": {
     "end_time": "2020-01-27T23:42:22.530002Z",
     "start_time": "2020-01-27T23:42:22.525731Z"
    },
    "colab": {
     "base_uri": "https://localhost:8080/",
     "height": 121
    },
    "colab_type": "code",
    "executionInfo": {
     "elapsed": 2832,
     "status": "ok",
     "timestamp": 1580333630753,
     "user": {
      "displayName": "daniel mauricio montenegro reyes",
      "photoUrl": "",
      "userId": "12701434767844263388"
     },
     "user_tz": 300
    },
    "id": "ci7KPrF5NriF",
    "outputId": "96eae235-d620-4847-9f15-1007399c00bf"
   },
   "outputs": [
    {
     "name": "stdout",
     "output_type": "stream",
     "text": [
      "[[-0.13968141  1.94851237  1.38056994 -0.63237864]\n",
      " [ 0.645441   -1.62200455 -0.65073815  0.2326931 ]\n",
      " [-2.45804869 -1.11002138 -0.16084873  1.31703008]\n",
      " [-1.18582957  0.98143734  0.70188959  0.20140664]\n",
      " [-1.49124369 -0.45932769 -0.55766546 -0.55691044]\n",
      " [ 0.50737899 -0.06585919  0.88506034 -0.12294646]]\n"
     ]
    }
   ],
   "source": [
    "A = np.random.randn(6,4)\n",
    "print(A)"
   ]
  },
  {
   "cell_type": "markdown",
   "metadata": {
    "colab_type": "text",
    "id": "4ZRapPEuNriO"
   },
   "source": [
    "Ahora, colocamos nombres de las variables"
   ]
  },
  {
   "cell_type": "code",
   "execution_count": 14,
   "metadata": {
    "ExecuteTime": {
     "end_time": "2020-01-27T23:44:06.610046Z",
     "start_time": "2020-01-27T23:44:06.605989Z"
    },
    "colab": {},
    "colab_type": "code",
    "id": "gWVpNsBhNriT"
   },
   "outputs": [
    {
     "data": {
      "text/plain": [
       "['A', 'B', 'C', 'D']"
      ]
     },
     "execution_count": 14,
     "metadata": {},
     "output_type": "execute_result"
    }
   ],
   "source": [
    "variables=list(\"ABCD\")\n",
    "variables"
   ]
  },
  {
   "cell_type": "code",
   "execution_count": 13,
   "metadata": {},
   "outputs": [
    {
     "data": {
      "text/plain": [
       "['A', 'B', 'C', 'D']"
      ]
     },
     "execution_count": 13,
     "metadata": {},
     "output_type": "execute_result"
    }
   ],
   "source": [
    "# O también\n",
    "l = ['A','B','C','D']\n",
    "l"
   ]
  },
  {
   "cell_type": "markdown",
   "metadata": {
    "colab_type": "text",
    "id": "k6YjhMOwNrif"
   },
   "source": [
    "Finalmente, podemos concatenar toda esta **información** en un DataFrame:"
   ]
  },
  {
   "cell_type": "code",
   "execution_count": 15,
   "metadata": {
    "ExecuteTime": {
     "end_time": "2020-01-27T23:44:44.979872Z",
     "start_time": "2020-01-27T23:44:44.975506Z"
    },
    "colab": {},
    "colab_type": "code",
    "id": "0AIuteVfNrij"
   },
   "outputs": [],
   "source": [
    "df = pd.DataFrame(A, index=dates, columns=variables)"
   ]
  },
  {
   "cell_type": "code",
   "execution_count": 16,
   "metadata": {
    "ExecuteTime": {
     "end_time": "2020-01-27T23:44:59.208000Z",
     "start_time": "2020-01-27T23:44:59.193192Z"
    },
    "colab": {
     "base_uri": "https://localhost:8080/",
     "height": 238
    },
    "colab_type": "code",
    "executionInfo": {
     "elapsed": 2799,
     "status": "ok",
     "timestamp": 1580333630758,
     "user": {
      "displayName": "daniel mauricio montenegro reyes",
      "photoUrl": "",
      "userId": "12701434767844263388"
     },
     "user_tz": 300
    },
    "id": "T53B_SSRNrit",
    "outputId": "06192b2e-43bf-4f56-efd2-5ac2f84fc963"
   },
   "outputs": [
    {
     "data": {
      "text/html": [
       "<div>\n",
       "<style scoped>\n",
       "    .dataframe tbody tr th:only-of-type {\n",
       "        vertical-align: middle;\n",
       "    }\n",
       "\n",
       "    .dataframe tbody tr th {\n",
       "        vertical-align: top;\n",
       "    }\n",
       "\n",
       "    .dataframe thead th {\n",
       "        text-align: right;\n",
       "    }\n",
       "</style>\n",
       "<table border=\"1\" class=\"dataframe\">\n",
       "  <thead>\n",
       "    <tr style=\"text-align: right;\">\n",
       "      <th></th>\n",
       "      <th>A</th>\n",
       "      <th>B</th>\n",
       "      <th>C</th>\n",
       "      <th>D</th>\n",
       "    </tr>\n",
       "  </thead>\n",
       "  <tbody>\n",
       "    <tr>\n",
       "      <th>2013-01-31</th>\n",
       "      <td>-0.139681</td>\n",
       "      <td>1.948512</td>\n",
       "      <td>1.380570</td>\n",
       "      <td>-0.632379</td>\n",
       "    </tr>\n",
       "    <tr>\n",
       "      <th>2013-02-28</th>\n",
       "      <td>0.645441</td>\n",
       "      <td>-1.622005</td>\n",
       "      <td>-0.650738</td>\n",
       "      <td>0.232693</td>\n",
       "    </tr>\n",
       "    <tr>\n",
       "      <th>2013-03-31</th>\n",
       "      <td>-2.458049</td>\n",
       "      <td>-1.110021</td>\n",
       "      <td>-0.160849</td>\n",
       "      <td>1.317030</td>\n",
       "    </tr>\n",
       "    <tr>\n",
       "      <th>2013-04-30</th>\n",
       "      <td>-1.185830</td>\n",
       "      <td>0.981437</td>\n",
       "      <td>0.701890</td>\n",
       "      <td>0.201407</td>\n",
       "    </tr>\n",
       "    <tr>\n",
       "      <th>2013-05-31</th>\n",
       "      <td>-1.491244</td>\n",
       "      <td>-0.459328</td>\n",
       "      <td>-0.557665</td>\n",
       "      <td>-0.556910</td>\n",
       "    </tr>\n",
       "    <tr>\n",
       "      <th>2013-06-30</th>\n",
       "      <td>0.507379</td>\n",
       "      <td>-0.065859</td>\n",
       "      <td>0.885060</td>\n",
       "      <td>-0.122946</td>\n",
       "    </tr>\n",
       "  </tbody>\n",
       "</table>\n",
       "</div>"
      ],
      "text/plain": [
       "                   A         B         C         D\n",
       "2013-01-31 -0.139681  1.948512  1.380570 -0.632379\n",
       "2013-02-28  0.645441 -1.622005 -0.650738  0.232693\n",
       "2013-03-31 -2.458049 -1.110021 -0.160849  1.317030\n",
       "2013-04-30 -1.185830  0.981437  0.701890  0.201407\n",
       "2013-05-31 -1.491244 -0.459328 -0.557665 -0.556910\n",
       "2013-06-30  0.507379 -0.065859  0.885060 -0.122946"
      ]
     },
     "execution_count": 16,
     "metadata": {},
     "output_type": "execute_result"
    }
   ],
   "source": [
    "df"
   ]
  },
  {
   "cell_type": "markdown",
   "metadata": {},
   "source": [
    "#### Cambiando loas opciones para visualziar los datos"
   ]
  },
  {
   "cell_type": "markdown",
   "metadata": {
    "colab_type": "text",
    "id": "X_6fEAYENrkB"
   },
   "source": [
    "Después de cargar pandas configuramos la opción que nos permita ver todas las columnas de nuestra base de datos:"
   ]
  },
  {
   "cell_type": "code",
   "execution_count": 17,
   "metadata": {
    "ExecuteTime": {
     "end_time": "2020-01-27T19:32:24.786051Z",
     "start_time": "2020-01-27T19:32:24.783402Z"
    },
    "colab": {},
    "colab_type": "code",
    "id": "zqqQm2tZNrkD"
   },
   "outputs": [],
   "source": [
    "pd.set_option('display.max_columns', None)"
   ]
  },
  {
   "cell_type": "markdown",
   "metadata": {
    "colab_type": "text",
    "id": "FLVJA0RyNrkL"
   },
   "source": [
    "La función [set_option de Pandas](https://pandas.pydata.org/pandas-docs/stable/user_guide/options.html) nos permite personalizar la vista de los datos en la consola de salida. Podemos establecer la cantidad de columnas o filas que apareceran en el output de la celda que presente el DataFrame que guardamos. "
   ]
  },
  {
   "cell_type": "markdown",
   "metadata": {
    "colab_type": "text",
    "id": "n3n7nAWrNrkP"
   },
   "source": [
    "## <span style=\"color:blue\">Creando un dataframe desde un diccionario</span>  "
   ]
  },
  {
   "cell_type": "markdown",
   "metadata": {
    "colab_type": "text",
    "id": "n3n7nAWrNrkP"
   },
   "source": [
    "Supongamos que podemos registrar la velocidad de ciertos animales que vemos pasar en el aire. Vemos dos águilas y dos loros a diferentes velocidad que registramos en un papel.\n",
    "\n",
    "| Animal | Max Speed |\n",
    "| -------| --------- |\n",
    "| Aguila |   380     |\n",
    "| Loro   | 24        |\n",
    "| Falcon |   370     |\n",
    "|Loro    | 26        |\n",
    "\n",
    "Podemos crear un diccionario con estos datos y luego generar el dataframe como sigue."
   ]
  },
  {
   "cell_type": "code",
   "execution_count": 20,
   "metadata": {
    "colab": {
     "base_uri": "https://localhost:8080/",
     "height": 175
    },
    "colab_type": "code",
    "executionInfo": {
     "elapsed": 2702,
     "status": "ok",
     "timestamp": 1580333630770,
     "user": {
      "displayName": "daniel mauricio montenegro reyes",
      "photoUrl": "",
      "userId": "12701434767844263388"
     },
     "user_tz": 300
    },
    "id": "w1ZQLHFUNrkS",
    "outputId": "b0b49b8f-8dbd-4794-aabf-4f27d46ef68c"
   },
   "outputs": [
    {
     "data": {
      "text/html": [
       "<div>\n",
       "<style scoped>\n",
       "    .dataframe tbody tr th:only-of-type {\n",
       "        vertical-align: middle;\n",
       "    }\n",
       "\n",
       "    .dataframe tbody tr th {\n",
       "        vertical-align: top;\n",
       "    }\n",
       "\n",
       "    .dataframe thead th {\n",
       "        text-align: right;\n",
       "    }\n",
       "</style>\n",
       "<table border=\"1\" class=\"dataframe\">\n",
       "  <thead>\n",
       "    <tr style=\"text-align: right;\">\n",
       "      <th></th>\n",
       "      <th>Animal</th>\n",
       "      <th>Velocidad</th>\n",
       "    </tr>\n",
       "  </thead>\n",
       "  <tbody>\n",
       "    <tr>\n",
       "      <th>0</th>\n",
       "      <td>Aguila</td>\n",
       "      <td>380.0</td>\n",
       "    </tr>\n",
       "    <tr>\n",
       "      <th>1</th>\n",
       "      <td>Loro</td>\n",
       "      <td>24.0</td>\n",
       "    </tr>\n",
       "    <tr>\n",
       "      <th>2</th>\n",
       "      <td>Aguila</td>\n",
       "      <td>370.0</td>\n",
       "    </tr>\n",
       "    <tr>\n",
       "      <th>3</th>\n",
       "      <td>Loro</td>\n",
       "      <td>26.0</td>\n",
       "    </tr>\n",
       "  </tbody>\n",
       "</table>\n",
       "</div>"
      ],
      "text/plain": [
       "   Animal  Velocidad\n",
       "0  Aguila      380.0\n",
       "1    Loro       24.0\n",
       "2  Aguila      370.0\n",
       "3    Loro       26.0"
      ]
     },
     "execution_count": 20,
     "metadata": {},
     "output_type": "execute_result"
    }
   ],
   "source": [
    "diccionario = {'Animal': ['Aguila', 'Loro','Aguila', 'Loro'],\n",
    "               'Velocidad': [380., 24., 370., 26. ]}\n",
    "\n",
    "df = pd.DataFrame(diccionario)\n",
    "\n",
    "df"
   ]
  },
  {
   "cell_type": "markdown",
   "metadata": {},
   "source": [
    "### Eliminar Registros "
   ]
  },
  {
   "cell_type": "code",
   "execution_count": 21,
   "metadata": {},
   "outputs": [
    {
     "data": {
      "text/html": [
       "<div>\n",
       "<style scoped>\n",
       "    .dataframe tbody tr th:only-of-type {\n",
       "        vertical-align: middle;\n",
       "    }\n",
       "\n",
       "    .dataframe tbody tr th {\n",
       "        vertical-align: top;\n",
       "    }\n",
       "\n",
       "    .dataframe thead th {\n",
       "        text-align: right;\n",
       "    }\n",
       "</style>\n",
       "<table border=\"1\" class=\"dataframe\">\n",
       "  <thead>\n",
       "    <tr style=\"text-align: right;\">\n",
       "      <th></th>\n",
       "      <th>Animal</th>\n",
       "      <th>Velocidad</th>\n",
       "    </tr>\n",
       "  </thead>\n",
       "  <tbody>\n",
       "    <tr>\n",
       "      <th>1</th>\n",
       "      <td>Loro</td>\n",
       "      <td>24.0</td>\n",
       "    </tr>\n",
       "    <tr>\n",
       "      <th>2</th>\n",
       "      <td>Aguila</td>\n",
       "      <td>370.0</td>\n",
       "    </tr>\n",
       "    <tr>\n",
       "      <th>3</th>\n",
       "      <td>Loro</td>\n",
       "      <td>26.0</td>\n",
       "    </tr>\n",
       "  </tbody>\n",
       "</table>\n",
       "</div>"
      ],
      "text/plain": [
       "   Animal  Velocidad\n",
       "1    Loro       24.0\n",
       "2  Aguila      370.0\n",
       "3    Loro       26.0"
      ]
     },
     "execution_count": 21,
     "metadata": {},
     "output_type": "execute_result"
    }
   ],
   "source": [
    "df_mod = df.drop([0])\n",
    "df_mod"
   ]
  },
  {
   "cell_type": "markdown",
   "metadata": {
    "colab_type": "text",
    "id": "FemxKwkqNrky"
   },
   "source": [
    "## <span style=\"color:blue\">Trabajando con bases de datos grandes</span>  "
   ]
  },
  {
   "cell_type": "markdown",
   "metadata": {
    "colab_type": "text",
    "id": "FemxKwkqNrky"
   },
   "source": [
    "La siguiente celda de código carga los datos del archivo `Predios2018.csv` usando la función [`pd.read_csv`]() observe que en la declaración de carga de datos indico la separación en csv"
   ]
  },
  {
   "cell_type": "code",
   "execution_count": 23,
   "metadata": {},
   "outputs": [
    {
     "name": "stdout",
     "output_type": "stream",
     "text": [
      "Leyendo los datos desde la fuente...\n",
      "HECHO..\n"
     ]
    }
   ],
   "source": [
    "print('Leyendo los datos desde la fuente...')\n",
    "df = pd.read_csv('../Datos/Predios2018.csv',delimiter=',',low_memory=False)\n",
    "print('HECHO..')"
   ]
  },
  {
   "cell_type": "markdown",
   "metadata": {
    "colab_type": "text",
    "id": "mAp2gnwcNrk7"
   },
   "source": [
    "Antes de cualquier cosa, verifiquemos el tamaño del dataframe (sanity-check)"
   ]
  },
  {
   "cell_type": "code",
   "execution_count": 24,
   "metadata": {
    "colab": {},
    "colab_type": "code",
    "id": "YhynDVRTNrk-"
   },
   "outputs": [
    {
     "name": "stdout",
     "output_type": "stream",
     "text": [
      "En total, hay 5,513,625 registros\n",
      "El tamaño de la base de datos es:  (5513625, 22)\n"
     ]
    }
   ],
   "source": [
    "print(\"En total, hay \"+\"{:,}\".format(len(df))+\" registros\")\n",
    "print(\"El tamaño de la base de datos es: \", df.shape)"
   ]
  },
  {
   "cell_type": "markdown",
   "metadata": {
    "colab_type": "text",
    "id": "ZUSpvpTeNrlF"
   },
   "source": [
    "¿Cómo mostrar éste tipo de formato de número? [Mira aquí](https://mkaz.blog/code/python-string-format-cookbook).\n",
    "\n",
    "Vaya que es **\"grande\"** ésta base.\n",
    "\n",
    "Analicemos algunas propiedades básicas:"
   ]
  },
  {
   "cell_type": "markdown",
   "metadata": {
    "colab_type": "text",
    "id": "BB2fcwkNNrlH"
   },
   "source": [
    "### Revisando los datos"
   ]
  },
  {
   "cell_type": "markdown",
   "metadata": {
    "colab_type": "text",
    "id": "BB2fcwkNNrlH"
   },
   "source": [
    "### Cabecera"
   ]
  },
  {
   "cell_type": "code",
   "execution_count": 25,
   "metadata": {
    "colab": {},
    "colab_type": "code",
    "id": "_7sDDH9iNrlK"
   },
   "outputs": [
    {
     "data": {
      "text/html": [
       "<div>\n",
       "<style scoped>\n",
       "    .dataframe tbody tr th:only-of-type {\n",
       "        vertical-align: middle;\n",
       "    }\n",
       "\n",
       "    .dataframe tbody tr th {\n",
       "        vertical-align: top;\n",
       "    }\n",
       "\n",
       "    .dataframe thead th {\n",
       "        text-align: right;\n",
       "    }\n",
       "</style>\n",
       "<table border=\"1\" class=\"dataframe\">\n",
       "  <thead>\n",
       "    <tr style=\"text-align: right;\">\n",
       "      <th></th>\n",
       "      <th>CODIGO_BARRIO</th>\n",
       "      <th>NOMBRE_BARRIO</th>\n",
       "      <th>CODIGO_MANZANA</th>\n",
       "      <th>CODIGO_PREDIO</th>\n",
       "      <th>CODIGO_CONSTRUCCION</th>\n",
       "      <th>CODIGO_RESTO</th>\n",
       "      <th>TIPO_PROPIEDAD</th>\n",
       "      <th>CODIGO_DESTINO</th>\n",
       "      <th>FECHA_INCORPORACION</th>\n",
       "      <th>AVALUO_ANO</th>\n",
       "      <th>CLASE_PREDIO</th>\n",
       "      <th>DIRECCION_REAL</th>\n",
       "      <th>MARCA_DIRECCION</th>\n",
       "      <th>VIGENCIA_FORMACION</th>\n",
       "      <th>AREA_CONSTRUIDA</th>\n",
       "      <th>CEDULA_CATASTRAL</th>\n",
       "      <th>CHIP</th>\n",
       "      <th>DESCRIPCION_DESTINO</th>\n",
       "      <th>VIGENCIA_ACTUALIZACION</th>\n",
       "      <th>TIPO_DIRECCION(S/I)</th>\n",
       "      <th>DIRECCION(S/I)</th>\n",
       "      <th>ZONA_HOMOGENEA_FISICA</th>\n",
       "    </tr>\n",
       "  </thead>\n",
       "  <tbody>\n",
       "    <tr>\n",
       "      <th>0</th>\n",
       "      <td>1101.0</td>\n",
       "      <td>LAS BRISAS</td>\n",
       "      <td>1.0</td>\n",
       "      <td>1.0</td>\n",
       "      <td>0.0</td>\n",
       "      <td>0.0</td>\n",
       "      <td>6.0</td>\n",
       "      <td>23.0</td>\n",
       "      <td>12/31/1997 12:00:00 AM</td>\n",
       "      <td>2017.0</td>\n",
       "      <td>N</td>\n",
       "      <td>KR 7 1 92 SUR</td>\n",
       "      <td>D</td>\n",
       "      <td>1998.0</td>\n",
       "      <td>42.03</td>\n",
       "      <td>25 6 18</td>\n",
       "      <td>AAA0000AOSK</td>\n",
       "      <td>COMERCIO PUNTUAL</td>\n",
       "      <td>2017.0</td>\n",
       "      <td>NaN</td>\n",
       "      <td>NaN</td>\n",
       "      <td>6.712215e+12</td>\n",
       "    </tr>\n",
       "    <tr>\n",
       "      <th>1</th>\n",
       "      <td>1101.0</td>\n",
       "      <td>LAS BRISAS</td>\n",
       "      <td>1.0</td>\n",
       "      <td>2.0</td>\n",
       "      <td>0.0</td>\n",
       "      <td>0.0</td>\n",
       "      <td>6.0</td>\n",
       "      <td>23.0</td>\n",
       "      <td>12/31/1997 12:00:00 AM</td>\n",
       "      <td>2017.0</td>\n",
       "      <td>N</td>\n",
       "      <td>KR 7 1 90 SUR</td>\n",
       "      <td>D</td>\n",
       "      <td>1998.0</td>\n",
       "      <td>52.45</td>\n",
       "      <td>25 6 19</td>\n",
       "      <td>AAA0000AOTO</td>\n",
       "      <td>COMERCIO PUNTUAL</td>\n",
       "      <td>2017.0</td>\n",
       "      <td>NaN</td>\n",
       "      <td>NaN</td>\n",
       "      <td>6.712215e+12</td>\n",
       "    </tr>\n",
       "    <tr>\n",
       "      <th>2</th>\n",
       "      <td>1101.0</td>\n",
       "      <td>LAS BRISAS</td>\n",
       "      <td>1.0</td>\n",
       "      <td>3.0</td>\n",
       "      <td>0.0</td>\n",
       "      <td>0.0</td>\n",
       "      <td>6.0</td>\n",
       "      <td>23.0</td>\n",
       "      <td>12/31/1997 12:00:00 AM</td>\n",
       "      <td>2017.0</td>\n",
       "      <td>N</td>\n",
       "      <td>KR 7 1 86 SUR</td>\n",
       "      <td>D</td>\n",
       "      <td>1998.0</td>\n",
       "      <td>10.02</td>\n",
       "      <td>2S 6 20</td>\n",
       "      <td>AAA0000AOUZ</td>\n",
       "      <td>COMERCIO PUNTUAL</td>\n",
       "      <td>2017.0</td>\n",
       "      <td>NaN</td>\n",
       "      <td>NaN</td>\n",
       "      <td>6.712215e+12</td>\n",
       "    </tr>\n",
       "    <tr>\n",
       "      <th>3</th>\n",
       "      <td>1101.0</td>\n",
       "      <td>LAS BRISAS</td>\n",
       "      <td>1.0</td>\n",
       "      <td>4.0</td>\n",
       "      <td>0.0</td>\n",
       "      <td>0.0</td>\n",
       "      <td>6.0</td>\n",
       "      <td>23.0</td>\n",
       "      <td>12/31/1997 12:00:00 AM</td>\n",
       "      <td>2017.0</td>\n",
       "      <td>N</td>\n",
       "      <td>KR 7 1 82 SUR</td>\n",
       "      <td>D</td>\n",
       "      <td>1998.0</td>\n",
       "      <td>106.4</td>\n",
       "      <td>2S 6 22</td>\n",
       "      <td>AAA0000AOWF</td>\n",
       "      <td>COMERCIO PUNTUAL</td>\n",
       "      <td>2017.0</td>\n",
       "      <td>NaN</td>\n",
       "      <td>NaN</td>\n",
       "      <td>6.712215e+12</td>\n",
       "    </tr>\n",
       "    <tr>\n",
       "      <th>4</th>\n",
       "      <td>1101.0</td>\n",
       "      <td>LAS BRISAS</td>\n",
       "      <td>1.0</td>\n",
       "      <td>5.0</td>\n",
       "      <td>0.0</td>\n",
       "      <td>0.0</td>\n",
       "      <td>6.0</td>\n",
       "      <td>23.0</td>\n",
       "      <td>12/31/1997 12:00:00 AM</td>\n",
       "      <td>2017.0</td>\n",
       "      <td>N</td>\n",
       "      <td>KR 7 1 70 SUR</td>\n",
       "      <td>D</td>\n",
       "      <td>1998.0</td>\n",
       "      <td>57.78</td>\n",
       "      <td>2S 6 23</td>\n",
       "      <td>AAA0000AOXR</td>\n",
       "      <td>COMERCIO PUNTUAL</td>\n",
       "      <td>2017.0</td>\n",
       "      <td>NaN</td>\n",
       "      <td>NaN</td>\n",
       "      <td>6.712215e+12</td>\n",
       "    </tr>\n",
       "  </tbody>\n",
       "</table>\n",
       "</div>"
      ],
      "text/plain": [
       "   CODIGO_BARRIO NOMBRE_BARRIO  CODIGO_MANZANA  CODIGO_PREDIO  \\\n",
       "0         1101.0    LAS BRISAS             1.0            1.0   \n",
       "1         1101.0    LAS BRISAS             1.0            2.0   \n",
       "2         1101.0    LAS BRISAS             1.0            3.0   \n",
       "3         1101.0    LAS BRISAS             1.0            4.0   \n",
       "4         1101.0    LAS BRISAS             1.0            5.0   \n",
       "\n",
       "   CODIGO_CONSTRUCCION  CODIGO_RESTO  TIPO_PROPIEDAD  CODIGO_DESTINO  \\\n",
       "0                  0.0           0.0             6.0            23.0   \n",
       "1                  0.0           0.0             6.0            23.0   \n",
       "2                  0.0           0.0             6.0            23.0   \n",
       "3                  0.0           0.0             6.0            23.0   \n",
       "4                  0.0           0.0             6.0            23.0   \n",
       "\n",
       "      FECHA_INCORPORACION  AVALUO_ANO CLASE_PREDIO DIRECCION_REAL  \\\n",
       "0  12/31/1997 12:00:00 AM      2017.0            N  KR 7 1 92 SUR   \n",
       "1  12/31/1997 12:00:00 AM      2017.0            N  KR 7 1 90 SUR   \n",
       "2  12/31/1997 12:00:00 AM      2017.0            N  KR 7 1 86 SUR   \n",
       "3  12/31/1997 12:00:00 AM      2017.0            N  KR 7 1 82 SUR   \n",
       "4  12/31/1997 12:00:00 AM      2017.0            N  KR 7 1 70 SUR   \n",
       "\n",
       "  MARCA_DIRECCION  VIGENCIA_FORMACION AREA_CONSTRUIDA CEDULA_CATASTRAL  \\\n",
       "0               D              1998.0           42.03          25 6 18   \n",
       "1               D              1998.0           52.45          25 6 19   \n",
       "2               D              1998.0           10.02          2S 6 20   \n",
       "3               D              1998.0           106.4          2S 6 22   \n",
       "4               D              1998.0           57.78          2S 6 23   \n",
       "\n",
       "          CHIP DESCRIPCION_DESTINO  VIGENCIA_ACTUALIZACION  \\\n",
       "0  AAA0000AOSK    COMERCIO PUNTUAL                  2017.0   \n",
       "1  AAA0000AOTO    COMERCIO PUNTUAL                  2017.0   \n",
       "2  AAA0000AOUZ    COMERCIO PUNTUAL                  2017.0   \n",
       "3  AAA0000AOWF    COMERCIO PUNTUAL                  2017.0   \n",
       "4  AAA0000AOXR    COMERCIO PUNTUAL                  2017.0   \n",
       "\n",
       "  TIPO_DIRECCION(S/I) DIRECCION(S/I)  ZONA_HOMOGENEA_FISICA  \n",
       "0                 NaN            NaN           6.712215e+12  \n",
       "1                 NaN            NaN           6.712215e+12  \n",
       "2                 NaN            NaN           6.712215e+12  \n",
       "3                 NaN            NaN           6.712215e+12  \n",
       "4                 NaN            NaN           6.712215e+12  "
      ]
     },
     "execution_count": 25,
     "metadata": {},
     "output_type": "execute_result"
    }
   ],
   "source": [
    "# Cabecera de la base de datos... \n",
    "df.head()"
   ]
  },
  {
   "cell_type": "markdown",
   "metadata": {
    "colab_type": "text",
    "id": "IrahXTzQNrlQ"
   },
   "source": [
    "### Cola"
   ]
  },
  {
   "cell_type": "code",
   "execution_count": 17,
   "metadata": {
    "ExecuteTime": {
     "end_time": "2020-01-28T00:57:37.729618Z",
     "start_time": "2020-01-28T00:57:37.702444Z"
    },
    "colab": {},
    "colab_type": "code",
    "id": "jqS4wE-UNrlU"
   },
   "outputs": [
    {
     "data": {
      "text/html": [
       "<div>\n",
       "<style scoped>\n",
       "    .dataframe tbody tr th:only-of-type {\n",
       "        vertical-align: middle;\n",
       "    }\n",
       "\n",
       "    .dataframe tbody tr th {\n",
       "        vertical-align: top;\n",
       "    }\n",
       "\n",
       "    .dataframe thead th {\n",
       "        text-align: right;\n",
       "    }\n",
       "</style>\n",
       "<table border=\"1\" class=\"dataframe\">\n",
       "  <thead>\n",
       "    <tr style=\"text-align: right;\">\n",
       "      <th></th>\n",
       "      <th>CODIGO_BARRIO</th>\n",
       "      <th>NOMBRE_BARRIO</th>\n",
       "      <th>CODIGO_MANZANA</th>\n",
       "      <th>CODIGO_PREDIO</th>\n",
       "      <th>CODIGO_CONSTRUCCION</th>\n",
       "      <th>CODIGO_RESTO</th>\n",
       "      <th>TIPO_PROPIEDAD</th>\n",
       "      <th>CODIGO_DESTINO</th>\n",
       "      <th>FECHA_INCORPORACION</th>\n",
       "      <th>AVALUO_ANO</th>\n",
       "      <th>CLASE_PREDIO</th>\n",
       "      <th>DIRECCION_REAL</th>\n",
       "      <th>MARCA_DIRECCION</th>\n",
       "      <th>VIGENCIA_FORMACION</th>\n",
       "      <th>AREA_CONSTRUIDA</th>\n",
       "      <th>CEDULA_CATASTRAL</th>\n",
       "      <th>CHIP</th>\n",
       "      <th>DESCRIPCION_DESTINO</th>\n",
       "      <th>VIGENCIA_ACTUALIZACION</th>\n",
       "      <th>TIPO_DIRECCION(S/I)</th>\n",
       "      <th>DIRECCION(S/I)</th>\n",
       "      <th>ZONA_HOMOGENEA_FISICA</th>\n",
       "    </tr>\n",
       "  </thead>\n",
       "  <tbody>\n",
       "    <tr>\n",
       "      <th>5513620</th>\n",
       "      <td>209106.0</td>\n",
       "      <td>LA UNION URBANO</td>\n",
       "      <td>5.0</td>\n",
       "      <td>24.0</td>\n",
       "      <td>0.0</td>\n",
       "      <td>0.0</td>\n",
       "      <td>6.0</td>\n",
       "      <td>1.0</td>\n",
       "      <td>02/10/2016 12:00:00 AM</td>\n",
       "      <td>2018.0</td>\n",
       "      <td>N</td>\n",
       "      <td>KR 4 3 06 LAUNION</td>\n",
       "      <td>D</td>\n",
       "      <td>2001.0</td>\n",
       "      <td>55.1</td>\n",
       "      <td>209106052400000000</td>\n",
       "      <td>AAA0251CPHK</td>\n",
       "      <td>RESIDENCIAL</td>\n",
       "      <td>2017.0</td>\n",
       "      <td>NaN</td>\n",
       "      <td>NaN</td>\n",
       "      <td>2.901142e+12</td>\n",
       "    </tr>\n",
       "    <tr>\n",
       "      <th>5513621</th>\n",
       "      <td>209106.0</td>\n",
       "      <td>LA UNION URBANO</td>\n",
       "      <td>6.0</td>\n",
       "      <td>1.0</td>\n",
       "      <td>0.0</td>\n",
       "      <td>0.0</td>\n",
       "      <td>6.0</td>\n",
       "      <td>1.0</td>\n",
       "      <td>12/31/2000 12:00:00 AM</td>\n",
       "      <td>2018.0</td>\n",
       "      <td>N</td>\n",
       "      <td>CL 4 2 06 LAUNION</td>\n",
       "      <td>D</td>\n",
       "      <td>2001.0</td>\n",
       "      <td>70</td>\n",
       "      <td>209106060100000000</td>\n",
       "      <td>AAA0157PTCN</td>\n",
       "      <td>RESIDENCIAL</td>\n",
       "      <td>2017.0</td>\n",
       "      <td>NaN</td>\n",
       "      <td>NaN</td>\n",
       "      <td>2.901142e+12</td>\n",
       "    </tr>\n",
       "    <tr>\n",
       "      <th>5513622</th>\n",
       "      <td>209106.0</td>\n",
       "      <td>LA UNION URBANO</td>\n",
       "      <td>6.0</td>\n",
       "      <td>2.0</td>\n",
       "      <td>0.0</td>\n",
       "      <td>0.0</td>\n",
       "      <td>6.0</td>\n",
       "      <td>1.0</td>\n",
       "      <td>05/24/2012 12:00:00 AM</td>\n",
       "      <td>2018.0</td>\n",
       "      <td>N</td>\n",
       "      <td>KR 3 3 82 LAUNION</td>\n",
       "      <td>D</td>\n",
       "      <td>2001.0</td>\n",
       "      <td>175.25</td>\n",
       "      <td>209106060200000000</td>\n",
       "      <td>AAA0229CJLW</td>\n",
       "      <td>RESIDENCIAL</td>\n",
       "      <td>2017.0</td>\n",
       "      <td>S</td>\n",
       "      <td>KR 3 3 86 LAUNION</td>\n",
       "      <td>2.901142e+12</td>\n",
       "    </tr>\n",
       "    <tr>\n",
       "      <th>5513623</th>\n",
       "      <td>209106.0</td>\n",
       "      <td>LA UNION URBANO</td>\n",
       "      <td>6.0</td>\n",
       "      <td>3.0</td>\n",
       "      <td>0.0</td>\n",
       "      <td>0.0</td>\n",
       "      <td>6.0</td>\n",
       "      <td>89.0</td>\n",
       "      <td>12/31/2000 12:00:00 AM</td>\n",
       "      <td>2018.0</td>\n",
       "      <td>N</td>\n",
       "      <td>CL 4 3 06 LAUNION</td>\n",
       "      <td>D</td>\n",
       "      <td>2001.0</td>\n",
       "      <td>0</td>\n",
       "      <td>209106060300000000</td>\n",
       "      <td>AAA0157PTEP</td>\n",
       "      <td>PREDIO RURAL PARCEL. NO EDIFI.</td>\n",
       "      <td>2017.0</td>\n",
       "      <td>NaN</td>\n",
       "      <td>NaN</td>\n",
       "      <td>2.901142e+12</td>\n",
       "    </tr>\n",
       "    <tr>\n",
       "      <th>5513624</th>\n",
       "      <td>209106.0</td>\n",
       "      <td>LA UNION URBANO</td>\n",
       "      <td>99.0</td>\n",
       "      <td>1.0</td>\n",
       "      <td>0.0</td>\n",
       "      <td>0.0</td>\n",
       "      <td>2.0</td>\n",
       "      <td>65.0</td>\n",
       "      <td>12/18/2015 12:00:00 AM</td>\n",
       "      <td>2018.0</td>\n",
       "      <td>N</td>\n",
       "      <td>KR 3 2 01 LAUNION</td>\n",
       "      <td>D</td>\n",
       "      <td>2001.0</td>\n",
       "      <td>0</td>\n",
       "      <td>209106990100000000</td>\n",
       "      <td>AAA0250LPFZ</td>\n",
       "      <td>VIAS</td>\n",
       "      <td>2017.0</td>\n",
       "      <td>NaN</td>\n",
       "      <td>NaN</td>\n",
       "      <td>2.901142e+12</td>\n",
       "    </tr>\n",
       "  </tbody>\n",
       "</table>\n",
       "</div>"
      ],
      "text/plain": [
       "         CODIGO_BARRIO    NOMBRE_BARRIO  CODIGO_MANZANA  CODIGO_PREDIO  \\\n",
       "5513620       209106.0  LA UNION URBANO             5.0           24.0   \n",
       "5513621       209106.0  LA UNION URBANO             6.0            1.0   \n",
       "5513622       209106.0  LA UNION URBANO             6.0            2.0   \n",
       "5513623       209106.0  LA UNION URBANO             6.0            3.0   \n",
       "5513624       209106.0  LA UNION URBANO            99.0            1.0   \n",
       "\n",
       "         CODIGO_CONSTRUCCION  CODIGO_RESTO  TIPO_PROPIEDAD  CODIGO_DESTINO  \\\n",
       "5513620                  0.0           0.0             6.0             1.0   \n",
       "5513621                  0.0           0.0             6.0             1.0   \n",
       "5513622                  0.0           0.0             6.0             1.0   \n",
       "5513623                  0.0           0.0             6.0            89.0   \n",
       "5513624                  0.0           0.0             2.0            65.0   \n",
       "\n",
       "            FECHA_INCORPORACION  AVALUO_ANO CLASE_PREDIO     DIRECCION_REAL  \\\n",
       "5513620  02/10/2016 12:00:00 AM      2018.0            N  KR 4 3 06 LAUNION   \n",
       "5513621  12/31/2000 12:00:00 AM      2018.0            N  CL 4 2 06 LAUNION   \n",
       "5513622  05/24/2012 12:00:00 AM      2018.0            N  KR 3 3 82 LAUNION   \n",
       "5513623  12/31/2000 12:00:00 AM      2018.0            N  CL 4 3 06 LAUNION   \n",
       "5513624  12/18/2015 12:00:00 AM      2018.0            N  KR 3 2 01 LAUNION   \n",
       "\n",
       "        MARCA_DIRECCION  VIGENCIA_FORMACION AREA_CONSTRUIDA  \\\n",
       "5513620               D              2001.0            55.1   \n",
       "5513621               D              2001.0              70   \n",
       "5513622               D              2001.0          175.25   \n",
       "5513623               D              2001.0               0   \n",
       "5513624               D              2001.0               0   \n",
       "\n",
       "           CEDULA_CATASTRAL         CHIP             DESCRIPCION_DESTINO  \\\n",
       "5513620  209106052400000000  AAA0251CPHK                     RESIDENCIAL   \n",
       "5513621  209106060100000000  AAA0157PTCN                     RESIDENCIAL   \n",
       "5513622  209106060200000000  AAA0229CJLW                     RESIDENCIAL   \n",
       "5513623  209106060300000000  AAA0157PTEP  PREDIO RURAL PARCEL. NO EDIFI.   \n",
       "5513624  209106990100000000  AAA0250LPFZ                            VIAS   \n",
       "\n",
       "         VIGENCIA_ACTUALIZACION TIPO_DIRECCION(S/I)     DIRECCION(S/I)  \\\n",
       "5513620                  2017.0                 NaN                NaN   \n",
       "5513621                  2017.0                 NaN                NaN   \n",
       "5513622                  2017.0                   S  KR 3 3 86 LAUNION   \n",
       "5513623                  2017.0                 NaN                NaN   \n",
       "5513624                  2017.0                 NaN                NaN   \n",
       "\n",
       "         ZONA_HOMOGENEA_FISICA  \n",
       "5513620           2.901142e+12  \n",
       "5513621           2.901142e+12  \n",
       "5513622           2.901142e+12  \n",
       "5513623           2.901142e+12  \n",
       "5513624           2.901142e+12  "
      ]
     },
     "execution_count": 17,
     "metadata": {},
     "output_type": "execute_result"
    }
   ],
   "source": [
    "df.tail()"
   ]
  },
  {
   "cell_type": "markdown",
   "metadata": {
    "colab_type": "text",
    "id": "D0cti2wvNrld"
   },
   "source": [
    "Podemos por ejemplo, sacar una **muestra aleatoria** de dicha base para darnos una idea de lo que contiene:"
   ]
  },
  {
   "cell_type": "markdown",
   "metadata": {
    "colab_type": "text",
    "id": "xn9XAl6QNrlf"
   },
   "source": [
    "### Muestreo"
   ]
  },
  {
   "cell_type": "code",
   "execution_count": 18,
   "metadata": {
    "colab": {},
    "colab_type": "code",
    "id": "62ForM_mNrli"
   },
   "outputs": [
    {
     "data": {
      "text/html": [
       "<div>\n",
       "<style scoped>\n",
       "    .dataframe tbody tr th:only-of-type {\n",
       "        vertical-align: middle;\n",
       "    }\n",
       "\n",
       "    .dataframe tbody tr th {\n",
       "        vertical-align: top;\n",
       "    }\n",
       "\n",
       "    .dataframe thead th {\n",
       "        text-align: right;\n",
       "    }\n",
       "</style>\n",
       "<table border=\"1\" class=\"dataframe\">\n",
       "  <thead>\n",
       "    <tr style=\"text-align: right;\">\n",
       "      <th></th>\n",
       "      <th>CODIGO_BARRIO</th>\n",
       "      <th>NOMBRE_BARRIO</th>\n",
       "      <th>CODIGO_MANZANA</th>\n",
       "      <th>CODIGO_PREDIO</th>\n",
       "      <th>CODIGO_CONSTRUCCION</th>\n",
       "      <th>CODIGO_RESTO</th>\n",
       "      <th>TIPO_PROPIEDAD</th>\n",
       "      <th>CODIGO_DESTINO</th>\n",
       "      <th>FECHA_INCORPORACION</th>\n",
       "      <th>AVALUO_ANO</th>\n",
       "      <th>CLASE_PREDIO</th>\n",
       "      <th>DIRECCION_REAL</th>\n",
       "      <th>MARCA_DIRECCION</th>\n",
       "      <th>VIGENCIA_FORMACION</th>\n",
       "      <th>AREA_CONSTRUIDA</th>\n",
       "      <th>CEDULA_CATASTRAL</th>\n",
       "      <th>CHIP</th>\n",
       "      <th>DESCRIPCION_DESTINO</th>\n",
       "      <th>VIGENCIA_ACTUALIZACION</th>\n",
       "      <th>TIPO_DIRECCION(S/I)</th>\n",
       "      <th>DIRECCION(S/I)</th>\n",
       "      <th>ZONA_HOMOGENEA_FISICA</th>\n",
       "    </tr>\n",
       "  </thead>\n",
       "  <tbody>\n",
       "    <tr>\n",
       "      <th>1048175</th>\n",
       "      <td>5304.0</td>\n",
       "      <td>LA CASTELLANA</td>\n",
       "      <td>44.0</td>\n",
       "      <td>4.0</td>\n",
       "      <td>2.0</td>\n",
       "      <td>91020.0</td>\n",
       "      <td>6.0</td>\n",
       "      <td>1.0</td>\n",
       "      <td>10/05/1994 12:00:00 AM</td>\n",
       "      <td>2017.0</td>\n",
       "      <td>P</td>\n",
       "      <td>CL 96 45A 40 ET 2 AG 2 GJ 11</td>\n",
       "      <td>D</td>\n",
       "      <td>1994.0</td>\n",
       "      <td>10.4</td>\n",
       "      <td>96 A13 1 640</td>\n",
       "      <td>AAA0057MFXS</td>\n",
       "      <td>RESIDENCIAL</td>\n",
       "      <td>2017.0</td>\n",
       "      <td>NaN</td>\n",
       "      <td>NaN</td>\n",
       "      <td>6.222115e+12</td>\n",
       "    </tr>\n",
       "    <tr>\n",
       "      <th>5228607</th>\n",
       "      <td>9128.0</td>\n",
       "      <td>EL PLAN</td>\n",
       "      <td>14.0</td>\n",
       "      <td>3.0</td>\n",
       "      <td>2.0</td>\n",
       "      <td>91021.0</td>\n",
       "      <td>6.0</td>\n",
       "      <td>1.0</td>\n",
       "      <td>08/08/2013 12:00:00 AM</td>\n",
       "      <td>2018.0</td>\n",
       "      <td>P</td>\n",
       "      <td>KR 73B 147 95 ET 2 GJ 381</td>\n",
       "      <td>D</td>\n",
       "      <td>1992.0</td>\n",
       "      <td>23.01</td>\n",
       "      <td>009128140300291021</td>\n",
       "      <td>AAA0236MWFZ</td>\n",
       "      <td>RESIDENCIAL</td>\n",
       "      <td>2018.0</td>\n",
       "      <td>NaN</td>\n",
       "      <td>NaN</td>\n",
       "      <td>6.611125e+12</td>\n",
       "    </tr>\n",
       "    <tr>\n",
       "      <th>2091084</th>\n",
       "      <td>8510.0</td>\n",
       "      <td>ACACIAS USAQUEN</td>\n",
       "      <td>20.0</td>\n",
       "      <td>2.0</td>\n",
       "      <td>1.0</td>\n",
       "      <td>1027.0</td>\n",
       "      <td>6.0</td>\n",
       "      <td>1.0</td>\n",
       "      <td>05/31/1991 12:00:00 AM</td>\n",
       "      <td>2017.0</td>\n",
       "      <td>P</td>\n",
       "      <td>CL 146 11 41 IN 3</td>\n",
       "      <td>D</td>\n",
       "      <td>1992.0</td>\n",
       "      <td>141.1</td>\n",
       "      <td>UQ 145 19 6</td>\n",
       "      <td>AAA0110SHZE</td>\n",
       "      <td>RESIDENCIAL</td>\n",
       "      <td>2017.0</td>\n",
       "      <td>NaN</td>\n",
       "      <td>NaN</td>\n",
       "      <td>6.212315e+12</td>\n",
       "    </tr>\n",
       "    <tr>\n",
       "      <th>4102397</th>\n",
       "      <td>6212.0</td>\n",
       "      <td>SALAZAR GOMEZ</td>\n",
       "      <td>16.0</td>\n",
       "      <td>35.0</td>\n",
       "      <td>1.0</td>\n",
       "      <td>3001.0</td>\n",
       "      <td>6.0</td>\n",
       "      <td>1.0</td>\n",
       "      <td>05/04/1995 12:00:00 AM</td>\n",
       "      <td>2018.0</td>\n",
       "      <td>P</td>\n",
       "      <td>KR 65B 10A 69 AP 301</td>\n",
       "      <td>D</td>\n",
       "      <td>1995.0</td>\n",
       "      <td>77</td>\n",
       "      <td>10 65B 20 3</td>\n",
       "      <td>AAA0074KOUH</td>\n",
       "      <td>RESIDENCIAL</td>\n",
       "      <td>2018.0</td>\n",
       "      <td>NaN</td>\n",
       "      <td>NaN</td>\n",
       "      <td>6.232315e+12</td>\n",
       "    </tr>\n",
       "    <tr>\n",
       "      <th>2086641</th>\n",
       "      <td>8510.0</td>\n",
       "      <td>ACACIAS USAQUEN</td>\n",
       "      <td>14.0</td>\n",
       "      <td>30.0</td>\n",
       "      <td>1.0</td>\n",
       "      <td>2005.0</td>\n",
       "      <td>6.0</td>\n",
       "      <td>1.0</td>\n",
       "      <td>07/11/2013 12:00:00 AM</td>\n",
       "      <td>2017.0</td>\n",
       "      <td>P</td>\n",
       "      <td>CL 146 12A 53 AP 205</td>\n",
       "      <td>D</td>\n",
       "      <td>1992.0</td>\n",
       "      <td>47.07</td>\n",
       "      <td>008510143000102005</td>\n",
       "      <td>AAA0235WNEP</td>\n",
       "      <td>RESIDENCIAL</td>\n",
       "      <td>2017.0</td>\n",
       "      <td>NaN</td>\n",
       "      <td>NaN</td>\n",
       "      <td>6.212315e+12</td>\n",
       "    </tr>\n",
       "    <tr>\n",
       "      <th>2959221</th>\n",
       "      <td>2401.0</td>\n",
       "      <td>TUNAL ORIENTAL</td>\n",
       "      <td>27.0</td>\n",
       "      <td>4.0</td>\n",
       "      <td>2.0</td>\n",
       "      <td>5003.0</td>\n",
       "      <td>6.0</td>\n",
       "      <td>1.0</td>\n",
       "      <td>12/31/1997 12:00:00 AM</td>\n",
       "      <td>2018.0</td>\n",
       "      <td>P</td>\n",
       "      <td>KR 24C 54 40 SUR IN 2 AP 503</td>\n",
       "      <td>D</td>\n",
       "      <td>1992.0</td>\n",
       "      <td>59.4</td>\n",
       "      <td>002401270400205003</td>\n",
       "      <td>AAA0015EKUZ</td>\n",
       "      <td>RESIDENCIAL</td>\n",
       "      <td>2018.0</td>\n",
       "      <td>NaN</td>\n",
       "      <td>NaN</td>\n",
       "      <td>6.212115e+12</td>\n",
       "    </tr>\n",
       "    <tr>\n",
       "      <th>1269822</th>\n",
       "      <td>5657.0</td>\n",
       "      <td>SABANA DEL DORADO</td>\n",
       "      <td>34.0</td>\n",
       "      <td>25.0</td>\n",
       "      <td>0.0</td>\n",
       "      <td>0.0</td>\n",
       "      <td>6.0</td>\n",
       "      <td>1.0</td>\n",
       "      <td>12/31/1997 12:00:00 AM</td>\n",
       "      <td>2017.0</td>\n",
       "      <td>N</td>\n",
       "      <td>KR 120B 63A 92</td>\n",
       "      <td>D</td>\n",
       "      <td>1998.0</td>\n",
       "      <td>210.7</td>\n",
       "      <td>57 120A 7</td>\n",
       "      <td>AAA0072BDHK</td>\n",
       "      <td>RESIDENCIAL</td>\n",
       "      <td>2017.0</td>\n",
       "      <td>S</td>\n",
       "      <td>KR 120B 63A 90</td>\n",
       "      <td>6.040215e+12</td>\n",
       "    </tr>\n",
       "    <tr>\n",
       "      <th>903383</th>\n",
       "      <td>4601.0</td>\n",
       "      <td>CALANDAIMA</td>\n",
       "      <td>44.0</td>\n",
       "      <td>10.0</td>\n",
       "      <td>0.0</td>\n",
       "      <td>0.0</td>\n",
       "      <td>6.0</td>\n",
       "      <td>1.0</td>\n",
       "      <td>12/31/2002 12:00:00 AM</td>\n",
       "      <td>2017.0</td>\n",
       "      <td>N</td>\n",
       "      <td>CL 34B SUR 90A 22</td>\n",
       "      <td>D</td>\n",
       "      <td>1998.0</td>\n",
       "      <td>76.8</td>\n",
       "      <td>105218441000000000</td>\n",
       "      <td>AAA0165CJKC</td>\n",
       "      <td>RESIDENCIAL</td>\n",
       "      <td>2017.0</td>\n",
       "      <td>NaN</td>\n",
       "      <td>NaN</td>\n",
       "      <td>6.032115e+12</td>\n",
       "    </tr>\n",
       "    <tr>\n",
       "      <th>4848799</th>\n",
       "      <td>8510.0</td>\n",
       "      <td>ACACIAS USAQUEN</td>\n",
       "      <td>12.0</td>\n",
       "      <td>8.0</td>\n",
       "      <td>1.0</td>\n",
       "      <td>1004.0</td>\n",
       "      <td>6.0</td>\n",
       "      <td>1.0</td>\n",
       "      <td>02/21/1989 12:00:00 AM</td>\n",
       "      <td>2018.0</td>\n",
       "      <td>P</td>\n",
       "      <td>CL 144 13 58 IN 4</td>\n",
       "      <td>D</td>\n",
       "      <td>1992.0</td>\n",
       "      <td>79.1</td>\n",
       "      <td>144 25 6 4</td>\n",
       "      <td>AAA0110KKNN</td>\n",
       "      <td>RESIDENCIAL</td>\n",
       "      <td>2018.0</td>\n",
       "      <td>NaN</td>\n",
       "      <td>NaN</td>\n",
       "      <td>6.212315e+12</td>\n",
       "    </tr>\n",
       "    <tr>\n",
       "      <th>4685918</th>\n",
       "      <td>8405.0</td>\n",
       "      <td>GINEBRA</td>\n",
       "      <td>2.0</td>\n",
       "      <td>2.0</td>\n",
       "      <td>4.0</td>\n",
       "      <td>91023.0</td>\n",
       "      <td>6.0</td>\n",
       "      <td>1.0</td>\n",
       "      <td>12/01/2011 12:00:00 AM</td>\n",
       "      <td>2018.0</td>\n",
       "      <td>P</td>\n",
       "      <td>AK 7 130 50 TO 4 GS16 D</td>\n",
       "      <td>D</td>\n",
       "      <td>1993.0</td>\n",
       "      <td>25</td>\n",
       "      <td>008405020200491023</td>\n",
       "      <td>AAA0225DHBS</td>\n",
       "      <td>RESIDENCIAL</td>\n",
       "      <td>2018.0</td>\n",
       "      <td>NaN</td>\n",
       "      <td>NaN</td>\n",
       "      <td>6.612415e+12</td>\n",
       "    </tr>\n",
       "  </tbody>\n",
       "</table>\n",
       "</div>"
      ],
      "text/plain": [
       "         CODIGO_BARRIO      NOMBRE_BARRIO  CODIGO_MANZANA  CODIGO_PREDIO  \\\n",
       "1048175         5304.0      LA CASTELLANA            44.0            4.0   \n",
       "5228607         9128.0            EL PLAN            14.0            3.0   \n",
       "2091084         8510.0    ACACIAS USAQUEN            20.0            2.0   \n",
       "4102397         6212.0      SALAZAR GOMEZ            16.0           35.0   \n",
       "2086641         8510.0    ACACIAS USAQUEN            14.0           30.0   \n",
       "2959221         2401.0     TUNAL ORIENTAL            27.0            4.0   \n",
       "1269822         5657.0  SABANA DEL DORADO            34.0           25.0   \n",
       "903383          4601.0         CALANDAIMA            44.0           10.0   \n",
       "4848799         8510.0    ACACIAS USAQUEN            12.0            8.0   \n",
       "4685918         8405.0            GINEBRA             2.0            2.0   \n",
       "\n",
       "         CODIGO_CONSTRUCCION  CODIGO_RESTO  TIPO_PROPIEDAD  CODIGO_DESTINO  \\\n",
       "1048175                  2.0       91020.0             6.0             1.0   \n",
       "5228607                  2.0       91021.0             6.0             1.0   \n",
       "2091084                  1.0        1027.0             6.0             1.0   \n",
       "4102397                  1.0        3001.0             6.0             1.0   \n",
       "2086641                  1.0        2005.0             6.0             1.0   \n",
       "2959221                  2.0        5003.0             6.0             1.0   \n",
       "1269822                  0.0           0.0             6.0             1.0   \n",
       "903383                   0.0           0.0             6.0             1.0   \n",
       "4848799                  1.0        1004.0             6.0             1.0   \n",
       "4685918                  4.0       91023.0             6.0             1.0   \n",
       "\n",
       "            FECHA_INCORPORACION  AVALUO_ANO CLASE_PREDIO  \\\n",
       "1048175  10/05/1994 12:00:00 AM      2017.0            P   \n",
       "5228607  08/08/2013 12:00:00 AM      2018.0            P   \n",
       "2091084  05/31/1991 12:00:00 AM      2017.0            P   \n",
       "4102397  05/04/1995 12:00:00 AM      2018.0            P   \n",
       "2086641  07/11/2013 12:00:00 AM      2017.0            P   \n",
       "2959221  12/31/1997 12:00:00 AM      2018.0            P   \n",
       "1269822  12/31/1997 12:00:00 AM      2017.0            N   \n",
       "903383   12/31/2002 12:00:00 AM      2017.0            N   \n",
       "4848799  02/21/1989 12:00:00 AM      2018.0            P   \n",
       "4685918  12/01/2011 12:00:00 AM      2018.0            P   \n",
       "\n",
       "                       DIRECCION_REAL MARCA_DIRECCION  VIGENCIA_FORMACION  \\\n",
       "1048175  CL 96 45A 40 ET 2 AG 2 GJ 11               D              1994.0   \n",
       "5228607     KR 73B 147 95 ET 2 GJ 381               D              1992.0   \n",
       "2091084             CL 146 11 41 IN 3               D              1992.0   \n",
       "4102397          KR 65B 10A 69 AP 301               D              1995.0   \n",
       "2086641          CL 146 12A 53 AP 205               D              1992.0   \n",
       "2959221  KR 24C 54 40 SUR IN 2 AP 503               D              1992.0   \n",
       "1269822                KR 120B 63A 92               D              1998.0   \n",
       "903383              CL 34B SUR 90A 22               D              1998.0   \n",
       "4848799             CL 144 13 58 IN 4               D              1992.0   \n",
       "4685918       AK 7 130 50 TO 4 GS16 D               D              1993.0   \n",
       "\n",
       "        AREA_CONSTRUIDA    CEDULA_CATASTRAL         CHIP DESCRIPCION_DESTINO  \\\n",
       "1048175            10.4        96 A13 1 640  AAA0057MFXS         RESIDENCIAL   \n",
       "5228607           23.01  009128140300291021  AAA0236MWFZ         RESIDENCIAL   \n",
       "2091084           141.1         UQ 145 19 6  AAA0110SHZE         RESIDENCIAL   \n",
       "4102397              77         10 65B 20 3  AAA0074KOUH         RESIDENCIAL   \n",
       "2086641           47.07  008510143000102005  AAA0235WNEP         RESIDENCIAL   \n",
       "2959221            59.4  002401270400205003  AAA0015EKUZ         RESIDENCIAL   \n",
       "1269822           210.7           57 120A 7  AAA0072BDHK         RESIDENCIAL   \n",
       "903383             76.8  105218441000000000  AAA0165CJKC         RESIDENCIAL   \n",
       "4848799            79.1          144 25 6 4  AAA0110KKNN         RESIDENCIAL   \n",
       "4685918              25  008405020200491023  AAA0225DHBS         RESIDENCIAL   \n",
       "\n",
       "         VIGENCIA_ACTUALIZACION TIPO_DIRECCION(S/I)  DIRECCION(S/I)  \\\n",
       "1048175                  2017.0                 NaN             NaN   \n",
       "5228607                  2018.0                 NaN             NaN   \n",
       "2091084                  2017.0                 NaN             NaN   \n",
       "4102397                  2018.0                 NaN             NaN   \n",
       "2086641                  2017.0                 NaN             NaN   \n",
       "2959221                  2018.0                 NaN             NaN   \n",
       "1269822                  2017.0                   S  KR 120B 63A 90   \n",
       "903383                   2017.0                 NaN             NaN   \n",
       "4848799                  2018.0                 NaN             NaN   \n",
       "4685918                  2018.0                 NaN             NaN   \n",
       "\n",
       "         ZONA_HOMOGENEA_FISICA  \n",
       "1048175           6.222115e+12  \n",
       "5228607           6.611125e+12  \n",
       "2091084           6.212315e+12  \n",
       "4102397           6.232315e+12  \n",
       "2086641           6.212315e+12  \n",
       "2959221           6.212115e+12  \n",
       "1269822           6.040215e+12  \n",
       "903383            6.032115e+12  \n",
       "4848799           6.212315e+12  \n",
       "4685918           6.612415e+12  "
      ]
     },
     "execution_count": 18,
     "metadata": {},
     "output_type": "execute_result"
    }
   ],
   "source": [
    "df.sample(10)"
   ]
  },
  {
   "cell_type": "markdown",
   "metadata": {
    "colab_type": "text",
    "id": "gu-AvHRoNrlp"
   },
   "source": [
    "### Nombres de las variables"
   ]
  },
  {
   "cell_type": "code",
   "execution_count": 19,
   "metadata": {
    "ExecuteTime": {
     "end_time": "2020-01-28T00:54:49.871293Z",
     "start_time": "2020-01-28T00:54:49.866812Z"
    },
    "colab": {},
    "colab_type": "code",
    "id": "nQVxwggxNrlr"
   },
   "outputs": [
    {
     "data": {
      "text/plain": [
       "Index(['CODIGO_BARRIO', 'NOMBRE_BARRIO', 'CODIGO_MANZANA', 'CODIGO_PREDIO',\n",
       "       'CODIGO_CONSTRUCCION', 'CODIGO_RESTO', 'TIPO_PROPIEDAD',\n",
       "       'CODIGO_DESTINO', 'FECHA_INCORPORACION', 'AVALUO_ANO', 'CLASE_PREDIO',\n",
       "       'DIRECCION_REAL', 'MARCA_DIRECCION', 'VIGENCIA_FORMACION',\n",
       "       'AREA_CONSTRUIDA', 'CEDULA_CATASTRAL', 'CHIP', 'DESCRIPCION_DESTINO',\n",
       "       'VIGENCIA_ACTUALIZACION', 'TIPO_DIRECCION(S/I)', 'DIRECCION(S/I)',\n",
       "       'ZONA_HOMOGENEA_FISICA'],\n",
       "      dtype='object')"
      ]
     },
     "execution_count": 19,
     "metadata": {},
     "output_type": "execute_result"
    }
   ],
   "source": [
    "df.columns"
   ]
  },
  {
   "cell_type": "markdown",
   "metadata": {
    "colab_type": "text",
    "id": "unnlYKKiNrlw"
   },
   "source": [
    "### Tipos de Datos"
   ]
  },
  {
   "cell_type": "code",
   "execution_count": 20,
   "metadata": {
    "ExecuteTime": {
     "end_time": "2020-01-28T00:56:13.449749Z",
     "start_time": "2020-01-28T00:56:13.437454Z"
    },
    "colab": {},
    "colab_type": "code",
    "id": "zBwm4TJdNrly"
   },
   "outputs": [
    {
     "data": {
      "text/plain": [
       "CODIGO_BARRIO             float64\n",
       "NOMBRE_BARRIO              object\n",
       "CODIGO_MANZANA            float64\n",
       "CODIGO_PREDIO             float64\n",
       "CODIGO_CONSTRUCCION       float64\n",
       "CODIGO_RESTO              float64\n",
       "TIPO_PROPIEDAD            float64\n",
       "CODIGO_DESTINO            float64\n",
       "FECHA_INCORPORACION        object\n",
       "AVALUO_ANO                float64\n",
       "CLASE_PREDIO               object\n",
       "DIRECCION_REAL             object\n",
       "MARCA_DIRECCION            object\n",
       "VIGENCIA_FORMACION        float64\n",
       "AREA_CONSTRUIDA            object\n",
       "CEDULA_CATASTRAL           object\n",
       "CHIP                       object\n",
       "DESCRIPCION_DESTINO        object\n",
       "VIGENCIA_ACTUALIZACION    float64\n",
       "TIPO_DIRECCION(S/I)        object\n",
       "DIRECCION(S/I)             object\n",
       "ZONA_HOMOGENEA_FISICA     float64\n",
       "dtype: object"
      ]
     },
     "execution_count": 20,
     "metadata": {},
     "output_type": "execute_result"
    }
   ],
   "source": [
    "df.dtypes"
   ]
  },
  {
   "cell_type": "markdown",
   "metadata": {
    "colab_type": "text",
    "id": "xi_Abid0Nrl6"
   },
   "source": [
    "### Información General"
   ]
  },
  {
   "cell_type": "code",
   "execution_count": 26,
   "metadata": {
    "ExecuteTime": {
     "end_time": "2020-01-28T00:58:28.917945Z",
     "start_time": "2020-01-28T00:58:27.990932Z"
    },
    "colab": {},
    "colab_type": "code",
    "id": "2_KsvUT-Nrl8"
   },
   "outputs": [
    {
     "data": {
      "text/html": [
       "<div>\n",
       "<style scoped>\n",
       "    .dataframe tbody tr th:only-of-type {\n",
       "        vertical-align: middle;\n",
       "    }\n",
       "\n",
       "    .dataframe tbody tr th {\n",
       "        vertical-align: top;\n",
       "    }\n",
       "\n",
       "    .dataframe thead th {\n",
       "        text-align: right;\n",
       "    }\n",
       "</style>\n",
       "<table border=\"1\" class=\"dataframe\">\n",
       "  <thead>\n",
       "    <tr style=\"text-align: right;\">\n",
       "      <th></th>\n",
       "      <th>count</th>\n",
       "      <th>mean</th>\n",
       "      <th>std</th>\n",
       "      <th>min</th>\n",
       "      <th>25%</th>\n",
       "      <th>50%</th>\n",
       "      <th>75%</th>\n",
       "      <th>max</th>\n",
       "    </tr>\n",
       "  </thead>\n",
       "  <tbody>\n",
       "    <tr>\n",
       "      <th>CODIGO_BARRIO</th>\n",
       "      <td>5513624.0</td>\n",
       "      <td>8.080937e+03</td>\n",
       "      <td>1.909106e+04</td>\n",
       "      <td>1.101000e+03</td>\n",
       "      <td>4.503000e+03</td>\n",
       "      <td>6.217000e+03</td>\n",
       "      <td>8.504000e+03</td>\n",
       "      <td>2.091060e+05</td>\n",
       "    </tr>\n",
       "    <tr>\n",
       "      <th>CODIGO_MANZANA</th>\n",
       "      <td>5513624.0</td>\n",
       "      <td>3.155936e+01</td>\n",
       "      <td>2.552161e+01</td>\n",
       "      <td>0.000000e+00</td>\n",
       "      <td>1.000000e+01</td>\n",
       "      <td>2.500000e+01</td>\n",
       "      <td>4.700000e+01</td>\n",
       "      <td>9.900000e+01</td>\n",
       "    </tr>\n",
       "    <tr>\n",
       "      <th>CODIGO_PREDIO</th>\n",
       "      <td>5513624.0</td>\n",
       "      <td>1.521210e+01</td>\n",
       "      <td>1.659554e+01</td>\n",
       "      <td>0.000000e+00</td>\n",
       "      <td>3.000000e+00</td>\n",
       "      <td>1.000000e+01</td>\n",
       "      <td>2.100000e+01</td>\n",
       "      <td>9.900000e+01</td>\n",
       "    </tr>\n",
       "    <tr>\n",
       "      <th>CODIGO_CONSTRUCCION</th>\n",
       "      <td>5513624.0</td>\n",
       "      <td>3.703899e+00</td>\n",
       "      <td>1.711890e+01</td>\n",
       "      <td>0.000000e+00</td>\n",
       "      <td>0.000000e+00</td>\n",
       "      <td>1.000000e+00</td>\n",
       "      <td>1.000000e+00</td>\n",
       "      <td>9.990000e+02</td>\n",
       "    </tr>\n",
       "    <tr>\n",
       "      <th>CODIGO_RESTO</th>\n",
       "      <td>5513624.0</td>\n",
       "      <td>1.422149e+04</td>\n",
       "      <td>3.100198e+04</td>\n",
       "      <td>0.000000e+00</td>\n",
       "      <td>0.000000e+00</td>\n",
       "      <td>1.015000e+03</td>\n",
       "      <td>5.001000e+03</td>\n",
       "      <td>9.917700e+04</td>\n",
       "    </tr>\n",
       "    <tr>\n",
       "      <th>TIPO_PROPIEDAD</th>\n",
       "      <td>5513624.0</td>\n",
       "      <td>5.915451e+00</td>\n",
       "      <td>5.806246e-01</td>\n",
       "      <td>1.000000e+00</td>\n",
       "      <td>6.000000e+00</td>\n",
       "      <td>6.000000e+00</td>\n",
       "      <td>6.000000e+00</td>\n",
       "      <td>8.000000e+00</td>\n",
       "    </tr>\n",
       "    <tr>\n",
       "      <th>CODIGO_DESTINO</th>\n",
       "      <td>5513624.0</td>\n",
       "      <td>6.405872e+00</td>\n",
       "      <td>1.371721e+01</td>\n",
       "      <td>1.000000e+00</td>\n",
       "      <td>1.000000e+00</td>\n",
       "      <td>1.000000e+00</td>\n",
       "      <td>1.000000e+00</td>\n",
       "      <td>8.900000e+01</td>\n",
       "    </tr>\n",
       "    <tr>\n",
       "      <th>AVALUO_ANO</th>\n",
       "      <td>5513624.0</td>\n",
       "      <td>2.017504e+03</td>\n",
       "      <td>4.999845e-01</td>\n",
       "      <td>2.017000e+03</td>\n",
       "      <td>2.017000e+03</td>\n",
       "      <td>2.018000e+03</td>\n",
       "      <td>2.018000e+03</td>\n",
       "      <td>2.018000e+03</td>\n",
       "    </tr>\n",
       "    <tr>\n",
       "      <th>VIGENCIA_FORMACION</th>\n",
       "      <td>5363810.0</td>\n",
       "      <td>1.995649e+03</td>\n",
       "      <td>5.917214e+00</td>\n",
       "      <td>0.000000e+00</td>\n",
       "      <td>1.993000e+03</td>\n",
       "      <td>1.995000e+03</td>\n",
       "      <td>1.998000e+03</td>\n",
       "      <td>2.015000e+03</td>\n",
       "    </tr>\n",
       "    <tr>\n",
       "      <th>VIGENCIA_ACTUALIZACION</th>\n",
       "      <td>5513434.0</td>\n",
       "      <td>2.017495e+03</td>\n",
       "      <td>5.236379e-01</td>\n",
       "      <td>2.001000e+03</td>\n",
       "      <td>2.017000e+03</td>\n",
       "      <td>2.018000e+03</td>\n",
       "      <td>2.018000e+03</td>\n",
       "      <td>2.018000e+03</td>\n",
       "    </tr>\n",
       "    <tr>\n",
       "      <th>ZONA_HOMOGENEA_FISICA</th>\n",
       "      <td>5491772.0</td>\n",
       "      <td>6.237121e+12</td>\n",
       "      <td>3.955659e+11</td>\n",
       "      <td>1.030231e+11</td>\n",
       "      <td>6.222115e+12</td>\n",
       "      <td>6.222215e+12</td>\n",
       "      <td>6.235225e+12</td>\n",
       "      <td>6.825235e+12</td>\n",
       "    </tr>\n",
       "  </tbody>\n",
       "</table>\n",
       "</div>"
      ],
      "text/plain": [
       "                            count          mean           std           min  \\\n",
       "CODIGO_BARRIO           5513624.0  8.080937e+03  1.909106e+04  1.101000e+03   \n",
       "CODIGO_MANZANA          5513624.0  3.155936e+01  2.552161e+01  0.000000e+00   \n",
       "CODIGO_PREDIO           5513624.0  1.521210e+01  1.659554e+01  0.000000e+00   \n",
       "CODIGO_CONSTRUCCION     5513624.0  3.703899e+00  1.711890e+01  0.000000e+00   \n",
       "CODIGO_RESTO            5513624.0  1.422149e+04  3.100198e+04  0.000000e+00   \n",
       "TIPO_PROPIEDAD          5513624.0  5.915451e+00  5.806246e-01  1.000000e+00   \n",
       "CODIGO_DESTINO          5513624.0  6.405872e+00  1.371721e+01  1.000000e+00   \n",
       "AVALUO_ANO              5513624.0  2.017504e+03  4.999845e-01  2.017000e+03   \n",
       "VIGENCIA_FORMACION      5363810.0  1.995649e+03  5.917214e+00  0.000000e+00   \n",
       "VIGENCIA_ACTUALIZACION  5513434.0  2.017495e+03  5.236379e-01  2.001000e+03   \n",
       "ZONA_HOMOGENEA_FISICA   5491772.0  6.237121e+12  3.955659e+11  1.030231e+11   \n",
       "\n",
       "                                 25%           50%           75%           max  \n",
       "CODIGO_BARRIO           4.503000e+03  6.217000e+03  8.504000e+03  2.091060e+05  \n",
       "CODIGO_MANZANA          1.000000e+01  2.500000e+01  4.700000e+01  9.900000e+01  \n",
       "CODIGO_PREDIO           3.000000e+00  1.000000e+01  2.100000e+01  9.900000e+01  \n",
       "CODIGO_CONSTRUCCION     0.000000e+00  1.000000e+00  1.000000e+00  9.990000e+02  \n",
       "CODIGO_RESTO            0.000000e+00  1.015000e+03  5.001000e+03  9.917700e+04  \n",
       "TIPO_PROPIEDAD          6.000000e+00  6.000000e+00  6.000000e+00  8.000000e+00  \n",
       "CODIGO_DESTINO          1.000000e+00  1.000000e+00  1.000000e+00  8.900000e+01  \n",
       "AVALUO_ANO              2.017000e+03  2.018000e+03  2.018000e+03  2.018000e+03  \n",
       "VIGENCIA_FORMACION      1.993000e+03  1.995000e+03  1.998000e+03  2.015000e+03  \n",
       "VIGENCIA_ACTUALIZACION  2.017000e+03  2.018000e+03  2.018000e+03  2.018000e+03  \n",
       "ZONA_HOMOGENEA_FISICA   6.222115e+12  6.222215e+12  6.235225e+12  6.825235e+12  "
      ]
     },
     "execution_count": 26,
     "metadata": {},
     "output_type": "execute_result"
    }
   ],
   "source": [
    "# Basic Statistics\n",
    "df.describe().T"
   ]
  },
  {
   "cell_type": "markdown",
   "metadata": {
    "colab_type": "text",
    "id": "gQ5l7W22NrmC"
   },
   "source": [
    "### Extracción de variables"
   ]
  },
  {
   "cell_type": "code",
   "execution_count": 22,
   "metadata": {
    "ExecuteTime": {
     "end_time": "2020-01-28T01:03:55.121751Z",
     "start_time": "2020-01-28T01:03:55.069280Z"
    },
    "colab": {},
    "colab_type": "code",
    "id": "9d0gtl7TNrmD"
   },
   "outputs": [
    {
     "data": {
      "text/html": [
       "<div>\n",
       "<style scoped>\n",
       "    .dataframe tbody tr th:only-of-type {\n",
       "        vertical-align: middle;\n",
       "    }\n",
       "\n",
       "    .dataframe tbody tr th {\n",
       "        vertical-align: top;\n",
       "    }\n",
       "\n",
       "    .dataframe thead th {\n",
       "        text-align: right;\n",
       "    }\n",
       "</style>\n",
       "<table border=\"1\" class=\"dataframe\">\n",
       "  <thead>\n",
       "    <tr style=\"text-align: right;\">\n",
       "      <th></th>\n",
       "      <th>CHIP</th>\n",
       "      <th>NOMBRE_BARRIO</th>\n",
       "    </tr>\n",
       "  </thead>\n",
       "  <tbody>\n",
       "    <tr>\n",
       "      <th>0</th>\n",
       "      <td>AAA0000AOSK</td>\n",
       "      <td>LAS BRISAS</td>\n",
       "    </tr>\n",
       "    <tr>\n",
       "      <th>1</th>\n",
       "      <td>AAA0000AOTO</td>\n",
       "      <td>LAS BRISAS</td>\n",
       "    </tr>\n",
       "    <tr>\n",
       "      <th>2</th>\n",
       "      <td>AAA0000AOUZ</td>\n",
       "      <td>LAS BRISAS</td>\n",
       "    </tr>\n",
       "    <tr>\n",
       "      <th>3</th>\n",
       "      <td>AAA0000AOWF</td>\n",
       "      <td>LAS BRISAS</td>\n",
       "    </tr>\n",
       "    <tr>\n",
       "      <th>4</th>\n",
       "      <td>AAA0000AOXR</td>\n",
       "      <td>LAS BRISAS</td>\n",
       "    </tr>\n",
       "    <tr>\n",
       "      <th>...</th>\n",
       "      <td>...</td>\n",
       "      <td>...</td>\n",
       "    </tr>\n",
       "    <tr>\n",
       "      <th>5513620</th>\n",
       "      <td>AAA0251CPHK</td>\n",
       "      <td>LA UNION URBANO</td>\n",
       "    </tr>\n",
       "    <tr>\n",
       "      <th>5513621</th>\n",
       "      <td>AAA0157PTCN</td>\n",
       "      <td>LA UNION URBANO</td>\n",
       "    </tr>\n",
       "    <tr>\n",
       "      <th>5513622</th>\n",
       "      <td>AAA0229CJLW</td>\n",
       "      <td>LA UNION URBANO</td>\n",
       "    </tr>\n",
       "    <tr>\n",
       "      <th>5513623</th>\n",
       "      <td>AAA0157PTEP</td>\n",
       "      <td>LA UNION URBANO</td>\n",
       "    </tr>\n",
       "    <tr>\n",
       "      <th>5513624</th>\n",
       "      <td>AAA0250LPFZ</td>\n",
       "      <td>LA UNION URBANO</td>\n",
       "    </tr>\n",
       "  </tbody>\n",
       "</table>\n",
       "<p>5513625 rows × 2 columns</p>\n",
       "</div>"
      ],
      "text/plain": [
       "                CHIP    NOMBRE_BARRIO\n",
       "0        AAA0000AOSK       LAS BRISAS\n",
       "1        AAA0000AOTO       LAS BRISAS\n",
       "2        AAA0000AOUZ       LAS BRISAS\n",
       "3        AAA0000AOWF       LAS BRISAS\n",
       "4        AAA0000AOXR       LAS BRISAS\n",
       "...              ...              ...\n",
       "5513620  AAA0251CPHK  LA UNION URBANO\n",
       "5513621  AAA0157PTCN  LA UNION URBANO\n",
       "5513622  AAA0229CJLW  LA UNION URBANO\n",
       "5513623  AAA0157PTEP  LA UNION URBANO\n",
       "5513624  AAA0250LPFZ  LA UNION URBANO\n",
       "\n",
       "[5513625 rows x 2 columns]"
      ]
     },
     "execution_count": 22,
     "metadata": {},
     "output_type": "execute_result"
    }
   ],
   "source": [
    "df[[\"CHIP\",\"NOMBRE_BARRIO\"]] # df[lista_de_variables]"
   ]
  },
  {
   "cell_type": "markdown",
   "metadata": {
    "colab_type": "text",
    "id": "c7UB4fx9NrmJ"
   },
   "source": [
    "### Conteos "
   ]
  },
  {
   "cell_type": "markdown",
   "metadata": {
    "colab_type": "text",
    "id": "c7UB4fx9NrmJ"
   },
   "source": [
    "Vemos como hacer conteos por una variable. Usaremos la columna 'NOMBRE_BARRIO' como variable de agrupación."
   ]
  },
  {
   "cell_type": "code",
   "execution_count": 28,
   "metadata": {
    "ExecuteTime": {
     "end_time": "2020-01-28T01:07:29.998085Z",
     "start_time": "2020-01-28T01:07:29.783091Z"
    },
    "colab": {},
    "colab_type": "code",
    "id": "FTYjDvTyNrmM"
   },
   "outputs": [
    {
     "data": {
      "text/html": [
       "<div>\n",
       "<style scoped>\n",
       "    .dataframe tbody tr th:only-of-type {\n",
       "        vertical-align: middle;\n",
       "    }\n",
       "\n",
       "    .dataframe tbody tr th {\n",
       "        vertical-align: top;\n",
       "    }\n",
       "\n",
       "    .dataframe thead th {\n",
       "        text-align: right;\n",
       "    }\n",
       "</style>\n",
       "<table border=\"1\" class=\"dataframe\">\n",
       "  <thead>\n",
       "    <tr style=\"text-align: right;\">\n",
       "      <th></th>\n",
       "      <th>CODIGO_BARRIO</th>\n",
       "      <th>CODIGO_MANZANA</th>\n",
       "      <th>CODIGO_PREDIO</th>\n",
       "      <th>CODIGO_CONSTRUCCION</th>\n",
       "      <th>CODIGO_RESTO</th>\n",
       "      <th>TIPO_PROPIEDAD</th>\n",
       "      <th>CODIGO_DESTINO</th>\n",
       "      <th>FECHA_INCORPORACION</th>\n",
       "      <th>AVALUO_ANO</th>\n",
       "      <th>CLASE_PREDIO</th>\n",
       "      <th>DIRECCION_REAL</th>\n",
       "      <th>MARCA_DIRECCION</th>\n",
       "      <th>VIGENCIA_FORMACION</th>\n",
       "      <th>AREA_CONSTRUIDA</th>\n",
       "      <th>CEDULA_CATASTRAL</th>\n",
       "      <th>CHIP</th>\n",
       "      <th>DESCRIPCION_DESTINO</th>\n",
       "      <th>VIGENCIA_ACTUALIZACION</th>\n",
       "      <th>TIPO_DIRECCION(S/I)</th>\n",
       "      <th>DIRECCION(S/I)</th>\n",
       "      <th>ZONA_HOMOGENEA_FISICA</th>\n",
       "    </tr>\n",
       "    <tr>\n",
       "      <th>NOMBRE_BARRIO</th>\n",
       "      <th></th>\n",
       "      <th></th>\n",
       "      <th></th>\n",
       "      <th></th>\n",
       "      <th></th>\n",
       "      <th></th>\n",
       "      <th></th>\n",
       "      <th></th>\n",
       "      <th></th>\n",
       "      <th></th>\n",
       "      <th></th>\n",
       "      <th></th>\n",
       "      <th></th>\n",
       "      <th></th>\n",
       "      <th></th>\n",
       "      <th></th>\n",
       "      <th></th>\n",
       "      <th></th>\n",
       "      <th></th>\n",
       "      <th></th>\n",
       "      <th></th>\n",
       "    </tr>\n",
       "  </thead>\n",
       "  <tbody>\n",
       "    <tr>\n",
       "      <th>ABRAHAM LINCOLN</th>\n",
       "      <td>2385</td>\n",
       "      <td>2385</td>\n",
       "      <td>2385</td>\n",
       "      <td>2385</td>\n",
       "      <td>2385</td>\n",
       "      <td>2385</td>\n",
       "      <td>2385</td>\n",
       "      <td>2385</td>\n",
       "      <td>2385</td>\n",
       "      <td>2385</td>\n",
       "      <td>2385</td>\n",
       "      <td>2385</td>\n",
       "      <td>2381</td>\n",
       "      <td>2385</td>\n",
       "      <td>2385</td>\n",
       "      <td>2385</td>\n",
       "      <td>2385</td>\n",
       "      <td>2385</td>\n",
       "      <td>1752</td>\n",
       "      <td>1752</td>\n",
       "      <td>2385</td>\n",
       "    </tr>\n",
       "    <tr>\n",
       "      <th>ACACIAS USAQUEN</th>\n",
       "      <td>27720</td>\n",
       "      <td>27720</td>\n",
       "      <td>27720</td>\n",
       "      <td>27720</td>\n",
       "      <td>27720</td>\n",
       "      <td>27720</td>\n",
       "      <td>27720</td>\n",
       "      <td>27720</td>\n",
       "      <td>27720</td>\n",
       "      <td>27720</td>\n",
       "      <td>27720</td>\n",
       "      <td>27720</td>\n",
       "      <td>25972</td>\n",
       "      <td>27720</td>\n",
       "      <td>27720</td>\n",
       "      <td>27720</td>\n",
       "      <td>27720</td>\n",
       "      <td>27720</td>\n",
       "      <td>329</td>\n",
       "      <td>329</td>\n",
       "      <td>27720</td>\n",
       "    </tr>\n",
       "    <tr>\n",
       "      <th>ACEVEDO TEJADA</th>\n",
       "      <td>2532</td>\n",
       "      <td>2532</td>\n",
       "      <td>2532</td>\n",
       "      <td>2532</td>\n",
       "      <td>2532</td>\n",
       "      <td>2532</td>\n",
       "      <td>2532</td>\n",
       "      <td>2532</td>\n",
       "      <td>2532</td>\n",
       "      <td>2532</td>\n",
       "      <td>2532</td>\n",
       "      <td>2532</td>\n",
       "      <td>2526</td>\n",
       "      <td>2532</td>\n",
       "      <td>2532</td>\n",
       "      <td>2532</td>\n",
       "      <td>2532</td>\n",
       "      <td>2532</td>\n",
       "      <td>660</td>\n",
       "      <td>660</td>\n",
       "      <td>2532</td>\n",
       "    </tr>\n",
       "    <tr>\n",
       "      <th>AEROPUERTO EL DORADO</th>\n",
       "      <td>594</td>\n",
       "      <td>594</td>\n",
       "      <td>594</td>\n",
       "      <td>594</td>\n",
       "      <td>594</td>\n",
       "      <td>594</td>\n",
       "      <td>594</td>\n",
       "      <td>594</td>\n",
       "      <td>594</td>\n",
       "      <td>594</td>\n",
       "      <td>594</td>\n",
       "      <td>594</td>\n",
       "      <td>594</td>\n",
       "      <td>594</td>\n",
       "      <td>594</td>\n",
       "      <td>594</td>\n",
       "      <td>594</td>\n",
       "      <td>594</td>\n",
       "      <td>208</td>\n",
       "      <td>208</td>\n",
       "      <td>571</td>\n",
       "    </tr>\n",
       "    <tr>\n",
       "      <th>AGUAS CLARAS</th>\n",
       "      <td>1473</td>\n",
       "      <td>1473</td>\n",
       "      <td>1473</td>\n",
       "      <td>1473</td>\n",
       "      <td>1473</td>\n",
       "      <td>1473</td>\n",
       "      <td>1473</td>\n",
       "      <td>1473</td>\n",
       "      <td>1473</td>\n",
       "      <td>1473</td>\n",
       "      <td>1473</td>\n",
       "      <td>1473</td>\n",
       "      <td>1464</td>\n",
       "      <td>1473</td>\n",
       "      <td>1473</td>\n",
       "      <td>1473</td>\n",
       "      <td>1473</td>\n",
       "      <td>1473</td>\n",
       "      <td>330</td>\n",
       "      <td>330</td>\n",
       "      <td>1458</td>\n",
       "    </tr>\n",
       "    <tr>\n",
       "      <th>...</th>\n",
       "      <td>...</td>\n",
       "      <td>...</td>\n",
       "      <td>...</td>\n",
       "      <td>...</td>\n",
       "      <td>...</td>\n",
       "      <td>...</td>\n",
       "      <td>...</td>\n",
       "      <td>...</td>\n",
       "      <td>...</td>\n",
       "      <td>...</td>\n",
       "      <td>...</td>\n",
       "      <td>...</td>\n",
       "      <td>...</td>\n",
       "      <td>...</td>\n",
       "      <td>...</td>\n",
       "      <td>...</td>\n",
       "      <td>...</td>\n",
       "      <td>...</td>\n",
       "      <td>...</td>\n",
       "      <td>...</td>\n",
       "      <td>...</td>\n",
       "    </tr>\n",
       "    <tr>\n",
       "      <th>VITELMA</th>\n",
       "      <td>3947</td>\n",
       "      <td>3947</td>\n",
       "      <td>3947</td>\n",
       "      <td>3947</td>\n",
       "      <td>3947</td>\n",
       "      <td>3947</td>\n",
       "      <td>3947</td>\n",
       "      <td>3947</td>\n",
       "      <td>3947</td>\n",
       "      <td>3947</td>\n",
       "      <td>3947</td>\n",
       "      <td>3947</td>\n",
       "      <td>3941</td>\n",
       "      <td>3947</td>\n",
       "      <td>3947</td>\n",
       "      <td>3947</td>\n",
       "      <td>3947</td>\n",
       "      <td>3947</td>\n",
       "      <td>977</td>\n",
       "      <td>977</td>\n",
       "      <td>3945</td>\n",
       "    </tr>\n",
       "    <tr>\n",
       "      <th>VOTO NACIONAL</th>\n",
       "      <td>6299</td>\n",
       "      <td>6299</td>\n",
       "      <td>6299</td>\n",
       "      <td>6299</td>\n",
       "      <td>6299</td>\n",
       "      <td>6299</td>\n",
       "      <td>6299</td>\n",
       "      <td>6299</td>\n",
       "      <td>6299</td>\n",
       "      <td>6299</td>\n",
       "      <td>6299</td>\n",
       "      <td>6299</td>\n",
       "      <td>6297</td>\n",
       "      <td>6299</td>\n",
       "      <td>6299</td>\n",
       "      <td>6299</td>\n",
       "      <td>6299</td>\n",
       "      <td>6299</td>\n",
       "      <td>2373</td>\n",
       "      <td>2373</td>\n",
       "      <td>6299</td>\n",
       "    </tr>\n",
       "    <tr>\n",
       "      <th>YOMASA</th>\n",
       "      <td>2363</td>\n",
       "      <td>2363</td>\n",
       "      <td>2363</td>\n",
       "      <td>2363</td>\n",
       "      <td>2363</td>\n",
       "      <td>2363</td>\n",
       "      <td>2363</td>\n",
       "      <td>2363</td>\n",
       "      <td>2363</td>\n",
       "      <td>2363</td>\n",
       "      <td>2363</td>\n",
       "      <td>2363</td>\n",
       "      <td>2318</td>\n",
       "      <td>2361</td>\n",
       "      <td>2363</td>\n",
       "      <td>2363</td>\n",
       "      <td>2363</td>\n",
       "      <td>2363</td>\n",
       "      <td>875</td>\n",
       "      <td>875</td>\n",
       "      <td>2345</td>\n",
       "    </tr>\n",
       "    <tr>\n",
       "      <th>YOMASA NORTE</th>\n",
       "      <td>16</td>\n",
       "      <td>16</td>\n",
       "      <td>16</td>\n",
       "      <td>16</td>\n",
       "      <td>16</td>\n",
       "      <td>16</td>\n",
       "      <td>16</td>\n",
       "      <td>16</td>\n",
       "      <td>16</td>\n",
       "      <td>16</td>\n",
       "      <td>16</td>\n",
       "      <td>16</td>\n",
       "      <td>14</td>\n",
       "      <td>16</td>\n",
       "      <td>16</td>\n",
       "      <td>16</td>\n",
       "      <td>16</td>\n",
       "      <td>16</td>\n",
       "      <td>4</td>\n",
       "      <td>4</td>\n",
       "      <td>16</td>\n",
       "    </tr>\n",
       "    <tr>\n",
       "      <th>ZONA FRANCA</th>\n",
       "      <td>4525</td>\n",
       "      <td>4525</td>\n",
       "      <td>4525</td>\n",
       "      <td>4525</td>\n",
       "      <td>4525</td>\n",
       "      <td>4525</td>\n",
       "      <td>4525</td>\n",
       "      <td>4525</td>\n",
       "      <td>4525</td>\n",
       "      <td>4525</td>\n",
       "      <td>4525</td>\n",
       "      <td>4525</td>\n",
       "      <td>4517</td>\n",
       "      <td>4525</td>\n",
       "      <td>4525</td>\n",
       "      <td>4525</td>\n",
       "      <td>4525</td>\n",
       "      <td>4525</td>\n",
       "      <td>2</td>\n",
       "      <td>2</td>\n",
       "      <td>4525</td>\n",
       "    </tr>\n",
       "  </tbody>\n",
       "</table>\n",
       "<p>1120 rows × 21 columns</p>\n",
       "</div>"
      ],
      "text/plain": [
       "                      CODIGO_BARRIO  CODIGO_MANZANA  CODIGO_PREDIO  \\\n",
       "NOMBRE_BARRIO                                                        \n",
       "ABRAHAM LINCOLN                2385            2385           2385   \n",
       "ACACIAS USAQUEN               27720           27720          27720   \n",
       "ACEVEDO TEJADA                 2532            2532           2532   \n",
       "AEROPUERTO EL DORADO            594             594            594   \n",
       "AGUAS CLARAS                   1473            1473           1473   \n",
       "...                             ...             ...            ...   \n",
       "VITELMA                        3947            3947           3947   \n",
       "VOTO NACIONAL                  6299            6299           6299   \n",
       "YOMASA                         2363            2363           2363   \n",
       "YOMASA NORTE                     16              16             16   \n",
       "ZONA FRANCA                    4525            4525           4525   \n",
       "\n",
       "                      CODIGO_CONSTRUCCION  CODIGO_RESTO  TIPO_PROPIEDAD  \\\n",
       "NOMBRE_BARRIO                                                             \n",
       "ABRAHAM LINCOLN                      2385          2385            2385   \n",
       "ACACIAS USAQUEN                     27720         27720           27720   \n",
       "ACEVEDO TEJADA                       2532          2532            2532   \n",
       "AEROPUERTO EL DORADO                  594           594             594   \n",
       "AGUAS CLARAS                         1473          1473            1473   \n",
       "...                                   ...           ...             ...   \n",
       "VITELMA                              3947          3947            3947   \n",
       "VOTO NACIONAL                        6299          6299            6299   \n",
       "YOMASA                               2363          2363            2363   \n",
       "YOMASA NORTE                           16            16              16   \n",
       "ZONA FRANCA                          4525          4525            4525   \n",
       "\n",
       "                      CODIGO_DESTINO  FECHA_INCORPORACION  AVALUO_ANO  \\\n",
       "NOMBRE_BARRIO                                                           \n",
       "ABRAHAM LINCOLN                 2385                 2385        2385   \n",
       "ACACIAS USAQUEN                27720                27720       27720   \n",
       "ACEVEDO TEJADA                  2532                 2532        2532   \n",
       "AEROPUERTO EL DORADO             594                  594         594   \n",
       "AGUAS CLARAS                    1473                 1473        1473   \n",
       "...                              ...                  ...         ...   \n",
       "VITELMA                         3947                 3947        3947   \n",
       "VOTO NACIONAL                   6299                 6299        6299   \n",
       "YOMASA                          2363                 2363        2363   \n",
       "YOMASA NORTE                      16                   16          16   \n",
       "ZONA FRANCA                     4525                 4525        4525   \n",
       "\n",
       "                      CLASE_PREDIO  DIRECCION_REAL  MARCA_DIRECCION  \\\n",
       "NOMBRE_BARRIO                                                         \n",
       "ABRAHAM LINCOLN               2385            2385             2385   \n",
       "ACACIAS USAQUEN              27720           27720            27720   \n",
       "ACEVEDO TEJADA                2532            2532             2532   \n",
       "AEROPUERTO EL DORADO           594             594              594   \n",
       "AGUAS CLARAS                  1473            1473             1473   \n",
       "...                            ...             ...              ...   \n",
       "VITELMA                       3947            3947             3947   \n",
       "VOTO NACIONAL                 6299            6299             6299   \n",
       "YOMASA                        2363            2363             2363   \n",
       "YOMASA NORTE                    16              16               16   \n",
       "ZONA FRANCA                   4525            4525             4525   \n",
       "\n",
       "                      VIGENCIA_FORMACION  AREA_CONSTRUIDA  CEDULA_CATASTRAL  \\\n",
       "NOMBRE_BARRIO                                                                 \n",
       "ABRAHAM LINCOLN                     2381             2385              2385   \n",
       "ACACIAS USAQUEN                    25972            27720             27720   \n",
       "ACEVEDO TEJADA                      2526             2532              2532   \n",
       "AEROPUERTO EL DORADO                 594              594               594   \n",
       "AGUAS CLARAS                        1464             1473              1473   \n",
       "...                                  ...              ...               ...   \n",
       "VITELMA                             3941             3947              3947   \n",
       "VOTO NACIONAL                       6297             6299              6299   \n",
       "YOMASA                              2318             2361              2363   \n",
       "YOMASA NORTE                          14               16                16   \n",
       "ZONA FRANCA                         4517             4525              4525   \n",
       "\n",
       "                       CHIP  DESCRIPCION_DESTINO  VIGENCIA_ACTUALIZACION  \\\n",
       "NOMBRE_BARRIO                                                              \n",
       "ABRAHAM LINCOLN        2385                 2385                    2385   \n",
       "ACACIAS USAQUEN       27720                27720                   27720   \n",
       "ACEVEDO TEJADA         2532                 2532                    2532   \n",
       "AEROPUERTO EL DORADO    594                  594                     594   \n",
       "AGUAS CLARAS           1473                 1473                    1473   \n",
       "...                     ...                  ...                     ...   \n",
       "VITELMA                3947                 3947                    3947   \n",
       "VOTO NACIONAL          6299                 6299                    6299   \n",
       "YOMASA                 2363                 2363                    2363   \n",
       "YOMASA NORTE             16                   16                      16   \n",
       "ZONA FRANCA            4525                 4525                    4525   \n",
       "\n",
       "                      TIPO_DIRECCION(S/I)  DIRECCION(S/I)  \\\n",
       "NOMBRE_BARRIO                                               \n",
       "ABRAHAM LINCOLN                      1752            1752   \n",
       "ACACIAS USAQUEN                       329             329   \n",
       "ACEVEDO TEJADA                        660             660   \n",
       "AEROPUERTO EL DORADO                  208             208   \n",
       "AGUAS CLARAS                          330             330   \n",
       "...                                   ...             ...   \n",
       "VITELMA                               977             977   \n",
       "VOTO NACIONAL                        2373            2373   \n",
       "YOMASA                                875             875   \n",
       "YOMASA NORTE                            4               4   \n",
       "ZONA FRANCA                             2               2   \n",
       "\n",
       "                      ZONA_HOMOGENEA_FISICA  \n",
       "NOMBRE_BARRIO                                \n",
       "ABRAHAM LINCOLN                        2385  \n",
       "ACACIAS USAQUEN                       27720  \n",
       "ACEVEDO TEJADA                         2532  \n",
       "AEROPUERTO EL DORADO                    571  \n",
       "AGUAS CLARAS                           1458  \n",
       "...                                     ...  \n",
       "VITELMA                                3945  \n",
       "VOTO NACIONAL                          6299  \n",
       "YOMASA                                 2345  \n",
       "YOMASA NORTE                             16  \n",
       "ZONA FRANCA                            4525  \n",
       "\n",
       "[1120 rows x 21 columns]"
      ]
     },
     "execution_count": 28,
     "metadata": {},
     "output_type": "execute_result"
    }
   ],
   "source": [
    "df.groupby('NOMBRE_BARRIO').count()"
   ]
  },
  {
   "cell_type": "code",
   "execution_count": 29,
   "metadata": {
    "ExecuteTime": {
     "end_time": "2020-01-28T01:08:57.191094Z",
     "start_time": "2020-01-28T01:08:57.020791Z"
    },
    "colab": {},
    "colab_type": "code",
    "id": "q77FFuPgNrmS"
   },
   "outputs": [
    {
     "data": {
      "text/plain": [
       "NOMBRE_BARRIO\n",
       "ABRAHAM LINCOLN          2385\n",
       "ACACIAS USAQUEN         27720\n",
       "ACEVEDO TEJADA           2532\n",
       "AEROPUERTO EL DORADO      594\n",
       "AGUAS CLARAS             1473\n",
       "Name: CHIP, dtype: int64"
      ]
     },
     "execution_count": 29,
     "metadata": {},
     "output_type": "execute_result"
    }
   ],
   "source": [
    "df.groupby('NOMBRE_BARRIO')[\"CHIP\"].count().head()\n"
   ]
  },
  {
   "cell_type": "markdown",
   "metadata": {},
   "source": [
    "### Creando nuevos dataframes desde uno ya existente"
   ]
  },
  {
   "cell_type": "code",
   "execution_count": 31,
   "metadata": {
    "ExecuteTime": {
     "end_time": "2020-01-28T01:09:24.334075Z",
     "start_time": "2020-01-28T01:09:24.141035Z"
    },
    "colab": {},
    "colab_type": "code",
    "id": "Rxlc4SG9NrmW"
   },
   "outputs": [
    {
     "data": {
      "text/html": [
       "<div>\n",
       "<style scoped>\n",
       "    .dataframe tbody tr th:only-of-type {\n",
       "        vertical-align: middle;\n",
       "    }\n",
       "\n",
       "    .dataframe tbody tr th {\n",
       "        vertical-align: top;\n",
       "    }\n",
       "\n",
       "    .dataframe thead th {\n",
       "        text-align: right;\n",
       "    }\n",
       "</style>\n",
       "<table border=\"1\" class=\"dataframe\">\n",
       "  <thead>\n",
       "    <tr style=\"text-align: right;\">\n",
       "      <th></th>\n",
       "      <th>CANTIDAD</th>\n",
       "    </tr>\n",
       "    <tr>\n",
       "      <th>NOMBRE_BARRIO</th>\n",
       "      <th></th>\n",
       "    </tr>\n",
       "  </thead>\n",
       "  <tbody>\n",
       "    <tr>\n",
       "      <th>ABRAHAM LINCOLN</th>\n",
       "      <td>2385</td>\n",
       "    </tr>\n",
       "    <tr>\n",
       "      <th>ACACIAS USAQUEN</th>\n",
       "      <td>27720</td>\n",
       "    </tr>\n",
       "    <tr>\n",
       "      <th>ACEVEDO TEJADA</th>\n",
       "      <td>2532</td>\n",
       "    </tr>\n",
       "    <tr>\n",
       "      <th>AEROPUERTO EL DORADO</th>\n",
       "      <td>594</td>\n",
       "    </tr>\n",
       "    <tr>\n",
       "      <th>AGUAS CLARAS</th>\n",
       "      <td>1473</td>\n",
       "    </tr>\n",
       "    <tr>\n",
       "      <th>...</th>\n",
       "      <td>...</td>\n",
       "    </tr>\n",
       "    <tr>\n",
       "      <th>VITELMA</th>\n",
       "      <td>3947</td>\n",
       "    </tr>\n",
       "    <tr>\n",
       "      <th>VOTO NACIONAL</th>\n",
       "      <td>6299</td>\n",
       "    </tr>\n",
       "    <tr>\n",
       "      <th>YOMASA</th>\n",
       "      <td>2363</td>\n",
       "    </tr>\n",
       "    <tr>\n",
       "      <th>YOMASA NORTE</th>\n",
       "      <td>16</td>\n",
       "    </tr>\n",
       "    <tr>\n",
       "      <th>ZONA FRANCA</th>\n",
       "      <td>4525</td>\n",
       "    </tr>\n",
       "  </tbody>\n",
       "</table>\n",
       "<p>1120 rows × 1 columns</p>\n",
       "</div>"
      ],
      "text/plain": [
       "                      CANTIDAD\n",
       "NOMBRE_BARRIO                 \n",
       "ABRAHAM LINCOLN           2385\n",
       "ACACIAS USAQUEN          27720\n",
       "ACEVEDO TEJADA            2532\n",
       "AEROPUERTO EL DORADO       594\n",
       "AGUAS CLARAS              1473\n",
       "...                        ...\n",
       "VITELMA                   3947\n",
       "VOTO NACIONAL             6299\n",
       "YOMASA                    2363\n",
       "YOMASA NORTE                16\n",
       "ZONA FRANCA               4525\n",
       "\n",
       "[1120 rows x 1 columns]"
      ]
     },
     "execution_count": 31,
     "metadata": {},
     "output_type": "execute_result"
    }
   ],
   "source": [
    "# Crea el cálculo de conteo\n",
    "bar=df.groupby('NOMBRE_BARRIO')[\"CHIP\"].count()\n",
    "# convierte a  datagrame\n",
    "bar = pd.DataFrame(bar)\n",
    "# sube un nombre a la columna de conteo\n",
    "bar.columns=['CANTIDAD']\n",
    "bar"
   ]
  },
  {
   "cell_type": "markdown",
   "metadata": {
    "ExecuteTime": {
     "end_time": "2020-01-28T01:09:24.334075Z",
     "start_time": "2020-01-28T01:09:24.141035Z"
    },
    "colab": {},
    "colab_type": "code",
    "id": "Rxlc4SG9NrmW"
   },
   "source": [
    "### Enviando dataframes a archivos csv"
   ]
  },
  {
   "cell_type": "code",
   "execution_count": 32,
   "metadata": {
    "ExecuteTime": {
     "end_time": "2020-01-28T01:09:24.334075Z",
     "start_time": "2020-01-28T01:09:24.141035Z"
    },
    "colab": {},
    "colab_type": "code",
    "id": "Rxlc4SG9NrmW"
   },
   "outputs": [],
   "source": [
    "bar.to_csv('../Datos/conteo_predios_por_barrio2018.csv')"
   ]
  },
  {
   "cell_type": "markdown",
   "metadata": {
    "colab_type": "text",
    "id": "V7mjrvcJNrnY"
   },
   "source": [
    "### Seleccionado registros"
   ]
  },
  {
   "cell_type": "markdown",
   "metadata": {
    "colab_type": "text",
    "id": "V7mjrvcJNrnY"
   },
   "source": [
    "En este ejemplo vemos como seleccionar registros que cumple con una condición. Seleccionamos barrios con más de 10000 predios."
   ]
  },
  {
   "cell_type": "code",
   "execution_count": 33,
   "metadata": {
    "ExecuteTime": {
     "end_time": "2020-01-28T01:18:11.385302Z",
     "start_time": "2020-01-28T01:18:11.381582Z"
    },
    "colab": {},
    "colab_type": "code",
    "id": "CiBcI7zCNrnd"
   },
   "outputs": [
    {
     "data": {
      "text/html": [
       "<div>\n",
       "<style scoped>\n",
       "    .dataframe tbody tr th:only-of-type {\n",
       "        vertical-align: middle;\n",
       "    }\n",
       "\n",
       "    .dataframe tbody tr th {\n",
       "        vertical-align: top;\n",
       "    }\n",
       "\n",
       "    .dataframe thead th {\n",
       "        text-align: right;\n",
       "    }\n",
       "</style>\n",
       "<table border=\"1\" class=\"dataframe\">\n",
       "  <thead>\n",
       "    <tr style=\"text-align: right;\">\n",
       "      <th></th>\n",
       "      <th>CANTIDAD</th>\n",
       "    </tr>\n",
       "    <tr>\n",
       "      <th>NOMBRE_BARRIO</th>\n",
       "      <th></th>\n",
       "    </tr>\n",
       "  </thead>\n",
       "  <tbody>\n",
       "    <tr>\n",
       "      <th>ACACIAS USAQUEN</th>\n",
       "      <td>27720</td>\n",
       "    </tr>\n",
       "    <tr>\n",
       "      <th>ALTOS DE CHOZICA</th>\n",
       "      <td>10270</td>\n",
       "    </tr>\n",
       "    <tr>\n",
       "      <th>ANTIGUO COUNTRY</th>\n",
       "      <td>13263</td>\n",
       "    </tr>\n",
       "    <tr>\n",
       "      <th>ATENAS</th>\n",
       "      <td>11020</td>\n",
       "    </tr>\n",
       "    <tr>\n",
       "      <th>BATAN</th>\n",
       "      <td>24764</td>\n",
       "    </tr>\n",
       "    <tr>\n",
       "      <th>...</th>\n",
       "      <td>...</td>\n",
       "    </tr>\n",
       "    <tr>\n",
       "      <th>VERACRUZ</th>\n",
       "      <td>18842</td>\n",
       "    </tr>\n",
       "    <tr>\n",
       "      <th>VICTORIA NORTE</th>\n",
       "      <td>17952</td>\n",
       "    </tr>\n",
       "    <tr>\n",
       "      <th>VILLA ALSACIA</th>\n",
       "      <td>18470</td>\n",
       "    </tr>\n",
       "    <tr>\n",
       "      <th>VILLA ELISA</th>\n",
       "      <td>13544</td>\n",
       "    </tr>\n",
       "    <tr>\n",
       "      <th>VILLAS DE ALCALA</th>\n",
       "      <td>13280</td>\n",
       "    </tr>\n",
       "  </tbody>\n",
       "</table>\n",
       "<p>148 rows × 1 columns</p>\n",
       "</div>"
      ],
      "text/plain": [
       "                  CANTIDAD\n",
       "NOMBRE_BARRIO             \n",
       "ACACIAS USAQUEN      27720\n",
       "ALTOS DE CHOZICA     10270\n",
       "ANTIGUO COUNTRY      13263\n",
       "ATENAS               11020\n",
       "BATAN                24764\n",
       "...                    ...\n",
       "VERACRUZ             18842\n",
       "VICTORIA NORTE       17952\n",
       "VILLA ALSACIA        18470\n",
       "VILLA ELISA          13544\n",
       "VILLAS DE ALCALA     13280\n",
       "\n",
       "[148 rows x 1 columns]"
      ]
     },
     "execution_count": 33,
     "metadata": {},
     "output_type": "execute_result"
    }
   ],
   "source": [
    "BarriosGrandes = bar[bar['CANTIDAD']>10000]\n",
    "BarriosGrandes"
   ]
  },
  {
   "cell_type": "markdown",
   "metadata": {
    "colab_type": "text",
    "id": "Gz1xPLdRNrnk"
   },
   "source": [
    "### Ordenando registros"
   ]
  },
  {
   "cell_type": "markdown",
   "metadata": {
    "colab_type": "text",
    "id": "Gz1xPLdRNrnk"
   },
   "source": [
    "Vemos como ordenar registros siguiendo un criterio de ordenación. Vamoas obtener las lista ordenada descendente de los 10 barrios con más predios."
   ]
  },
  {
   "cell_type": "code",
   "execution_count": 34,
   "metadata": {
    "ExecuteTime": {
     "end_time": "2020-01-28T01:18:14.185677Z",
     "start_time": "2020-01-28T01:18:14.176831Z"
    },
    "colab": {},
    "colab_type": "code",
    "id": "g8xjx6EeNrnl"
   },
   "outputs": [
    {
     "data": {
      "text/html": [
       "<div>\n",
       "<style scoped>\n",
       "    .dataframe tbody tr th:only-of-type {\n",
       "        vertical-align: middle;\n",
       "    }\n",
       "\n",
       "    .dataframe tbody tr th {\n",
       "        vertical-align: top;\n",
       "    }\n",
       "\n",
       "    .dataframe thead th {\n",
       "        text-align: right;\n",
       "    }\n",
       "</style>\n",
       "<table border=\"1\" class=\"dataframe\">\n",
       "  <thead>\n",
       "    <tr style=\"text-align: right;\">\n",
       "      <th></th>\n",
       "      <th>CANTIDAD</th>\n",
       "    </tr>\n",
       "    <tr>\n",
       "      <th>NOMBRE_BARRIO</th>\n",
       "      <th></th>\n",
       "    </tr>\n",
       "  </thead>\n",
       "  <tbody>\n",
       "    <tr>\n",
       "      <th>TINTALA</th>\n",
       "      <td>54563</td>\n",
       "    </tr>\n",
       "    <tr>\n",
       "      <th>SANTA BARBARA CENTRAL</th>\n",
       "      <td>40902</td>\n",
       "    </tr>\n",
       "    <tr>\n",
       "      <th>LOS CEDROS</th>\n",
       "      <td>38764</td>\n",
       "    </tr>\n",
       "    <tr>\n",
       "      <th>SANTA BARBARA OCCIDENTAL</th>\n",
       "      <td>38561</td>\n",
       "    </tr>\n",
       "    <tr>\n",
       "      <th>CAOBOS SALAZAR</th>\n",
       "      <td>38540</td>\n",
       "    </tr>\n",
       "    <tr>\n",
       "      <th>LAS MARGARITAS</th>\n",
       "      <td>36969</td>\n",
       "    </tr>\n",
       "    <tr>\n",
       "      <th>MAZUREN</th>\n",
       "      <td>35574</td>\n",
       "    </tr>\n",
       "    <tr>\n",
       "      <th>EL PLAN</th>\n",
       "      <td>34005</td>\n",
       "    </tr>\n",
       "    <tr>\n",
       "      <th>CHICO NORTE</th>\n",
       "      <td>33980</td>\n",
       "    </tr>\n",
       "    <tr>\n",
       "      <th>BRITALIA</th>\n",
       "      <td>33359</td>\n",
       "    </tr>\n",
       "  </tbody>\n",
       "</table>\n",
       "</div>"
      ],
      "text/plain": [
       "                          CANTIDAD\n",
       "NOMBRE_BARRIO                     \n",
       "TINTALA                      54563\n",
       "SANTA BARBARA CENTRAL        40902\n",
       "LOS CEDROS                   38764\n",
       "SANTA BARBARA OCCIDENTAL     38561\n",
       "CAOBOS SALAZAR               38540\n",
       "LAS MARGARITAS               36969\n",
       "MAZUREN                      35574\n",
       "EL PLAN                      34005\n",
       "CHICO NORTE                  33980\n",
       "BRITALIA                     33359"
      ]
     },
     "execution_count": 34,
     "metadata": {},
     "output_type": "execute_result"
    }
   ],
   "source": [
    "BarriosGrandes.sort_values(by=['CANTIDAD'],ascending=False).head(10)"
   ]
  },
  {
   "cell_type": "code",
   "execution_count": 35,
   "metadata": {
    "ExecuteTime": {
     "end_time": "2020-01-28T01:20:57.477084Z",
     "start_time": "2020-01-28T01:20:57.471257Z"
    },
    "colab": {},
    "colab_type": "code",
    "id": "kqPjETibNrnp"
   },
   "outputs": [
    {
     "name": "stdout",
     "output_type": "stream",
     "text": [
      "Número de barrios grandes:  148\n"
     ]
    }
   ],
   "source": [
    "print(\"Número de barrios grandes: \", len(BarriosGrandes))\n",
    "#BarriosGrandes.to_csv('barrios_grandes.csv')"
   ]
  },
  {
   "cell_type": "markdown",
   "metadata": {},
   "source": [
    "###  Buscando diplicados "
   ]
  },
  {
   "cell_type": "code",
   "execution_count": 46,
   "metadata": {},
   "outputs": [],
   "source": [
    "cuenta_chip = pd.DataFrame(df[['CHIP']])\n",
    "cuenta_chip = pd.DataFrame(cuenta_chip.groupby('CHIP')['CHIP'].count())\n",
    "cuenta_chip.columns = ['Frecuencia']\n",
    "cuencta_ship"
   ]
  },
  {
   "cell_type": "code",
   "execution_count": 53,
   "metadata": {},
   "outputs": [
    {
     "data": {
      "text/html": [
       "<div>\n",
       "<style scoped>\n",
       "    .dataframe tbody tr th:only-of-type {\n",
       "        vertical-align: middle;\n",
       "    }\n",
       "\n",
       "    .dataframe tbody tr th {\n",
       "        vertical-align: top;\n",
       "    }\n",
       "\n",
       "    .dataframe thead th {\n",
       "        text-align: right;\n",
       "    }\n",
       "</style>\n",
       "<table border=\"1\" class=\"dataframe\">\n",
       "  <thead>\n",
       "    <tr style=\"text-align: right;\">\n",
       "      <th></th>\n",
       "      <th>Frecuencia</th>\n",
       "    </tr>\n",
       "    <tr>\n",
       "      <th>CHIP</th>\n",
       "      <th></th>\n",
       "    </tr>\n",
       "  </thead>\n",
       "  <tbody>\n",
       "    <tr>\n",
       "      <th>AAA0000AAHY</th>\n",
       "      <td>2</td>\n",
       "    </tr>\n",
       "    <tr>\n",
       "      <th>AAA0000AALW</th>\n",
       "      <td>2</td>\n",
       "    </tr>\n",
       "    <tr>\n",
       "      <th>AAA0000AAZM</th>\n",
       "      <td>2</td>\n",
       "    </tr>\n",
       "    <tr>\n",
       "      <th>AAA0000ABBS</th>\n",
       "      <td>2</td>\n",
       "    </tr>\n",
       "    <tr>\n",
       "      <th>AAA0000ABJZ</th>\n",
       "      <td>2</td>\n",
       "    </tr>\n",
       "    <tr>\n",
       "      <th>...</th>\n",
       "      <td>...</td>\n",
       "    </tr>\n",
       "    <tr>\n",
       "      <th>AAA0261CYWW</th>\n",
       "      <td>2</td>\n",
       "    </tr>\n",
       "    <tr>\n",
       "      <th>AAA0261DJNX</th>\n",
       "      <td>2</td>\n",
       "    </tr>\n",
       "    <tr>\n",
       "      <th>AAA0261DJOM</th>\n",
       "      <td>2</td>\n",
       "    </tr>\n",
       "    <tr>\n",
       "      <th>AAA0261ELOE</th>\n",
       "      <td>2</td>\n",
       "    </tr>\n",
       "    <tr>\n",
       "      <th>AAA0261ELPP</th>\n",
       "      <td>3</td>\n",
       "    </tr>\n",
       "  </tbody>\n",
       "</table>\n",
       "<p>2538199 rows × 1 columns</p>\n",
       "</div>"
      ],
      "text/plain": [
       "             Frecuencia\n",
       "CHIP                   \n",
       "AAA0000AAHY           2\n",
       "AAA0000AALW           2\n",
       "AAA0000AAZM           2\n",
       "AAA0000ABBS           2\n",
       "AAA0000ABJZ           2\n",
       "...                 ...\n",
       "AAA0261CYWW           2\n",
       "AAA0261DJNX           2\n",
       "AAA0261DJOM           2\n",
       "AAA0261ELOE           2\n",
       "AAA0261ELPP           3\n",
       "\n",
       "[2538199 rows x 1 columns]"
      ]
     },
     "execution_count": 53,
     "metadata": {},
     "output_type": "execute_result"
    }
   ],
   "source": [
    "# solo repetidos\n",
    "cuenta_chip[cuenta_chip['Frecuencia']>1]"
   ]
  },
  {
   "cell_type": "code",
   "execution_count": null,
   "metadata": {},
   "outputs": [],
   "source": []
  }
 ],
 "metadata": {
  "colab": {
   "name": "Intro_Pandas.ipynb",
   "provenance": []
  },
  "kernelspec": {
   "display_name": "Python 3",
   "language": "python",
   "name": "python3"
  },
  "language_info": {
   "codemirror_mode": {
    "name": "ipython",
    "version": 3
   },
   "file_extension": ".py",
   "mimetype": "text/x-python",
   "name": "python",
   "nbconvert_exporter": "python",
   "pygments_lexer": "ipython3",
   "version": "3.8.8"
  },
  "latex_envs": {
   "LaTeX_envs_menu_present": true,
   "autoclose": true,
   "autocomplete": true,
   "bibliofile": "biblio.bib",
   "cite_by": "apalike",
   "current_citInitial": 1,
   "eqLabelWithNumbers": true,
   "eqNumInitial": 1,
   "hotkeys": {
    "equation": "Ctrl-E",
    "itemize": "Ctrl-I"
   },
   "labels_anchors": false,
   "latex_user_defs": false,
   "report_style_numbering": false,
   "user_envs_cfg": true
  },
  "toc": {
   "base_numbering": 1,
   "nav_menu": {},
   "number_sections": false,
   "sideBar": true,
   "skip_h1_title": false,
   "title_cell": "Table of Contents",
   "title_sidebar": "Contents",
   "toc_cell": false,
   "toc_position": {},
   "toc_section_display": true,
   "toc_window_display": false
  }
 },
 "nbformat": 4,
 "nbformat_minor": 4
}
