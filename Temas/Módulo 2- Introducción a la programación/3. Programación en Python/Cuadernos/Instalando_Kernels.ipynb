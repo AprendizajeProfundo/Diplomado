{
 "cells": [
  {
   "cell_type": "markdown",
   "metadata": {
    "colab_type": "text",
    "id": "FnbvkSDCE8CZ"
   },
   "source": [
    "# Utilizando Kernels en JupyterLab\n",
    "\n",
    "¿Alguna vez te has preguntado si sería posible usar las posibilidades de Julia, Python y R en un sólo entorno gráfico estilo Notebook?\n",
    "\n",
    "\n",
    "**<center>¡Es posible!</center>**\n",
    "\n",
    "Para esto es necesario el concepto de Kernel e implementarlo en JupyterLab a través de Anaconda.\n",
    "\n",
    "El Objetivo de este cuaderno será lograr lo que se muestra a continuación cuando se inicialize JupyterLab:\n",
    "\n",
    "<img src=\"https://raw.githubusercontent.com/ucmadcursoPythonyR/2020/master/images/kernels.png\" />"
   ]
  },
  {
   "cell_type": "markdown",
   "metadata": {
    "colab_type": "text",
    "id": "5vVk_9W0E8Ci"
   },
   "source": [
    "# Requisitos:\n",
    "\n",
    "- Descargar e instalar una versión de **R** (Descarga [aquí](https://cran.r-project.org/bin/windows/base/R-3.6.2-win.exe), versión actual: 3.6.2).\n",
    "\n",
    "- Descargar e instalar una versión de **Julia** (Descarga [aquí](https://julialang-s3.julialang.org/bin/winnt/x64/1.3/julia-1.3.1-win64.exe), versión actual: 1.3.1).\n"
   ]
  },
  {
   "cell_type": "markdown",
   "metadata": {
    "colab_type": "text",
    "id": "Om9KzFLzE8Cp"
   },
   "source": [
    "# Instalación de IR\n",
    "\n",
    "- Para comenzar, iniciamos el **Prompt** de Anaconda como **Administrador**.\n",
    "\n",
    "Ir a la ruta donde se encuentra instalado R.\n",
    "\n",
    "**Ejemplo (Para cada computador, es diferente la ruta):**\n",
    "\n",
    "-  Ejecutar el comando ```\"C:\\Program Files\\R\\R-3.6.2\\bin\\R.exe\"``` en la consola de Anaconda (**note las comillas dobles**)\n",
    "\n",
    "Esto iniciará el motor de R dentro de Anaconda.\n",
    "\n",
    "Ahora vamos a instalar unos paquetes necesarios:\n",
    "\n",
    "-  ```install.packages('IRkernel')```\n",
    "\n",
    "Elegir un mirror (0-Cloud es recomendado).\n",
    "\n",
    "Esto tomará algo de tiempo\n",
    "\n",
    "-  ```update.packages(ask=FALSE)```\n",
    "\n",
    "Esto tomará algo de tiempo.\n",
    "\n",
    "Finalmente, \n",
    "\n",
    "-  ```IRkernel::installspec()```\n",
    "\n",
    "Si todo marcha bien, no aparecerá ningún error.\n",
    "\n",
    "- Lanzar Jupyterlab para verificar la instalación."
   ]
  },
  {
   "cell_type": "markdown",
   "metadata": {
    "colab_type": "text",
    "id": "DCnkhVKiE8Ct"
   },
   "source": [
    "# Instalación de IJulia\n",
    "\n",
    "En este caso, debemos ejecutar Julia, ubicado en la carpeta:\n",
    "\n",
    "```C:\\Users\\Nombre_Usuario\\AppData\\Local\\Julia-1.3.1\\bin\\julia.exe```"
   ]
  },
  {
   "cell_type": "markdown",
   "metadata": {
    "colab_type": "text",
    "id": "DCnkhVKiE8Ct"
   },
   "source": [
    "Dentro de la consola, se ejecutara:\n",
    "\n",
    "- ```using Pkg```\n",
    "- ```Pkg.add(\"IJulia\")```\n",
    "- ```Pkg.build(\"IJulia\")``` (Si el resultado final es false, indica que todo marchó bien)\n",
    "\n",
    "Si todo finaliza bien, no deberá aparecer ningún error."
   ]
  },
  {
   "cell_type": "markdown",
   "metadata": {
    "colab_type": "text",
    "id": "VVGSYrApE8Cy"
   },
   "source": [
    "# Lista de kernels instalados\n",
    "\n",
    "La instalación de los kernels de Jupyter atraviesa todos los ambientes de trabajo, así que no hay que instalarlos para cada uno de ellos.\n",
    "\n",
    "Para ver la lsita de Kernels instalados, se ejecuta en el Prompt de Anaconda:\n",
    "\n",
    "```jupyter kernelspec list```\n",
    "\n",
    "<img src=\"https://raw.githubusercontent.com/ucmadcursoPythonyR/2020/master/images/kernelspec_list.png?raw=true\" />\n",
    "\n",
    "Hemos terminado, ahora sólo falta arrancar Jupyter e iniciar en nuestro kernel favorito!\n",
    "\n",
    "**Notas:** \n",
    "\n",
    "1. De aquí el nombre **Jupyter**: \n",
    "\n",
    "- **Ju**(Julia)\n",
    "- **Pyt**(Python)\n",
    "- **e**(et)\n",
    "- **r**(R)\n",
    "\n",
    "2. Por supuesto, se úeden instalar muchos otros kernels, por ejemplo GNU Octave (Versión libre de MATLAB), lo único que hay que hacer es seguir las guías online con mucha paciencia.\n",
    "\n",
    "![kernels](http://datahonor-1252464519.costj.myqcloud.com/201803/Screenshot%20from%202018-03-21%2011-22-42.png)\n",
    "![kernels2](https://miro.medium.com/max/3560/1*ENGFiVsAWmc_0NCGAjpzSg.png)\n"
   ]
  }
 ],
 "metadata": {
  "colab": {
   "collapsed_sections": [],
   "name": "Instalando_Kernels.ipynb",
   "provenance": []
  },
  "kernelspec": {
   "display_name": "Python 3",
   "language": "python",
   "name": "python3"
  },
  "language_info": {
   "codemirror_mode": {
    "name": "ipython",
    "version": 3
   },
   "file_extension": ".py",
   "mimetype": "text/x-python",
   "name": "python",
   "nbconvert_exporter": "python",
   "pygments_lexer": "ipython3",
   "version": "3.7.1"
  }
 },
 "nbformat": 4,
 "nbformat_minor": 4
}
