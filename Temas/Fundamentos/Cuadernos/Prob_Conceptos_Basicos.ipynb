{
 "cells": [
  {
   "cell_type": "markdown",
   "metadata": {},
   "source": [
    "**Diplomado en Inteligencia Artificial y Aprendizaje Profundo**"
   ]
  },
  {
   "cell_type": "markdown",
   "metadata": {},
   "source": [
    "# Conceptos básicos de probabilidad"
   ]
  },
  {
   "cell_type": "markdown",
   "metadata": {},
   "source": [
    "##  Autores"
   ]
  },
  {
   "cell_type": "markdown",
   "metadata": {},
   "source": [
    "1. Alvaro Mauricio Montenegro Díaz, ammontenegrod@unal.edu.co\n",
    "2. Daniel Mauricio Montenegro Reyes, dextronomo@gmail.com \n",
    "3. Oleg Jarma, ojarmam@unal.edu.co\n",
    "4. Maria del Pilar Montenegro, pmontenegro88@gmail.com"
   ]
  },
  {
   "cell_type": "markdown",
   "metadata": {},
   "source": [
    "## Contenido"
   ]
  },
  {
   "cell_type": "markdown",
   "metadata": {},
   "source": [
    "* [Introducción](#Introducción)\n",
    "* [Espacio muestral](#Espacio-muestral)\n",
    "* [Evento](#Evento)\n",
    "* [Probabilidad](#Probabilidad)\n",
    "* [Regla aditiva de la probabilidad](#Regla-aditiva-de-la-probabilidad)\n",
    "* [Probabilidad condicional](#Probabilidad-condicional)\n",
    "* [Regla multiplicativa de la probabilidad](#Regla-multiplicativa-de-la-probabilidad)\n",
    "* [Independencia](#Independencia)\n",
    "* [Ejercicios](#Ejercicios)"
   ]
  },
  {
   "cell_type": "markdown",
   "metadata": {},
   "source": [
    "## Introducción"
   ]
  },
  {
   "cell_type": "markdown",
   "metadata": {},
   "source": [
    "En esta lección se introducen conceptos básicos de probabilidad requeridos para el desarrollo del curso.\n",
    "\n",
    "El propósito es introducir el lenguaje utilizado. No se hará ningún desarrollo matemático formal. Solamente se presentar los cálculos que se consideran necesarios para entender el concepto."
   ]
  },
  {
   "cell_type": "markdown",
   "metadata": {},
   "source": [
    "## Espacio muestral"
   ]
  },
  {
   "cell_type": "markdown",
   "metadata": {},
   "source": [
    "La siguiente gráfica representa un ejemplo de un espacio muestral ($\\mathcal{M}$). Cada objeto dentro de la bolsa es un elemento del espacio muestral. Esto significa que este espacio muestral tiene $N=20$ elementos. Se supone que cada individuo puede identificarse de manera única, digamos con un identificador como $1,2,\\ldots,20$. "
   ]
  },
  {
   "cell_type": "markdown",
   "metadata": {},
   "source": [
    "<figure>\n",
    "<center>\n",
    "<img src=\"../Imagenes/prob_bolsa_bolas.png\" width=\"300\" height=\"200\" align=\"center\"/>\n",
    "</center>\n",
    "<figcaption>\n",
    "<p style=\"text-align:center\">Ejemplo de Espacio Muestral $\\mathcal{M}$</p>\n",
    "</figcaption>\n",
    "</figure>"
   ]
  },
  {
   "cell_type": "markdown",
   "metadata": {},
   "source": [
    "Por otro lado, como se observa en el gráfico cada individuo tirene un atributo de color, que si usaremos a continuación."
   ]
  },
  {
   "cell_type": "markdown",
   "metadata": {},
   "source": [
    "## Evento"
   ]
  },
  {
   "cell_type": "markdown",
   "metadata": {},
   "source": [
    "Un evento es cualquier subconjunto del espacio muestral. El lector interesado puede verificar, si lo desea, que el espacio muestral $\\mathcal{M}$ tiene exáctamente $2^{20}$ subconjuntos. \n",
    "\n",
    "Consideremos ahora cinco eventos (subconjuntos) especiales de $\\mathcal{M}$: \n",
    "\n",
    "1. *azul*: el subconjunto de bolas azules;\n",
    "2. *rojo*: el subconjunto de bolas rojas;\n",
    "3. *verde*: el subconjunto de bolas verdes.\n",
    "4. *pares*: el subconjunto de bolas pares\n",
    "5. *impares*: el sunconjunto de bolas impares.\n",
    "\n",
    "La gráfica muestra los 5 eventos (subconjuntos) del espacio muestral ."
   ]
  },
  {
   "cell_type": "markdown",
   "metadata": {},
   "source": [
    "<figure>\n",
    "<center>\n",
    "<img src=\"../Imagenes/prob_bolas_subconjuntos.png\" width=\"500\" height=\"400\" align=\"center\"/>\n",
    "</center>\n",
    "<figcaption>\n",
    "<p style=\"text-align:center\">Ejemplos de eventos del Espacio Muestral $\\mathcal{M}$</p>\n",
    "</figcaption>\n",
    "</figure>"
   ]
  },
  {
   "cell_type": "markdown",
   "metadata": {},
   "source": [
    "## Probabilidad"
   ]
  },
  {
   "cell_type": "markdown",
   "metadata": {},
   "source": [
    "La teoría de probabilidad se creó para poder medir los subconjunto de una espacio muestral. El concepto de medida está asociado a la naturaleza del experimento que se desa modelar (representar de manera abstracta).\n",
    "\n",
    "En el ejemplo de las bolas presentado arriba, la medida que usaremos será siempre la proporción entre el número de elementos de un evento y el número de elementos del espacio muestral $M$. \n",
    "\n",
    "Esto significa que \n",
    "\n",
    "$$\n",
    "\\begin{align}\n",
    "\\text{Prob}[\\text{azul}] &= 5/20\\\\\n",
    "\\text{Prob}[\\text{rojo}] &= 7/20\\\\\n",
    "\\text{Prob}[\\text{gris}] &= 8/20\\\\\n",
    "\\text{Prob}[\\text{pares}] &= 9/20\\\\\n",
    "\\text{Prob}[\\text{impares}] &= 11/20\\\\\n",
    "\\end{align}\n",
    "$$\n",
    "\n",
    "Observe además que $\\text{Prob}[\\mathcal{M}] = 1$."
   ]
  },
  {
   "cell_type": "markdown",
   "metadata": {},
   "source": [
    "En las siguientes secciones presentamos las propiedades escenciales de la probabilidad, que usaremos a lo largo de nuestro estudio. Son conceptos relativamente sencillos pero muy importantes."
   ]
  },
  {
   "cell_type": "markdown",
   "metadata": {},
   "source": [
    "## Regla aditiva de la probabilidad"
   ]
  },
  {
   "cell_type": "markdown",
   "metadata": {},
   "source": [
    "La probabilidad de la unión de dos eventos (subconjuntos) disyuntos (que no tiene intersección) es la suma de la probabilidad (medida) de cada uno de ellos. En símbolos, si $A$ y $B$ son eventos disyuntos de $\\mathcal{M}$, entonces\n",
    "\n",
    "$$\n",
    "\\text{Prob}[A\\cup B] = \\text{Prob}[A] + \\text{Prob}[B].\n",
    "$$\n",
    "\n",
    "Por ejemplo, observe que $\\text{Prob}[\\text{azul}\\cup\\text{rojo}] = 5/20+7/20 = 12/20$. \n",
    "\n",
    "\n",
    "Sin embargo $\\text{Prob}[\\text{azul}\\cup\\text{pares}] \\ne 5/20 + 9/20$. \n",
    "\n",
    "Esto se debe a que los eventos *azul* y *pares*, no son disyuntos. Como se muestra en la parte inferior derecha de la gráfica  $\\text{Prob}[\\text{azul}\\cap \\text{pares}] = 3/20$.\n",
    "\n",
    "Lo anterior conduce a la regla aditiva general la cual dice que\n",
    "\n",
    "$$\n",
    "\\text{Prob}[A\\cup B] = \\text{Prob}[A] + \\text{Prob}[B]-\\text{Prob}[A\\cap B] .\n",
    "$$\n",
    "\n",
    "En el ejemplo se tiene entonces que\n",
    "\n",
    "$$\n",
    "\\text{Prob}[\\text{azul}\\cup\\text{pares}] = 5/20 + 10/20 - 3/20 = 12/20\n",
    "$$\n",
    "\n",
    "\n",
    "  "
   ]
  },
  {
   "cell_type": "markdown",
   "metadata": {},
   "source": [
    "### Medida de todo el espacio muestral"
   ]
  },
  {
   "cell_type": "markdown",
   "metadata": {},
   "source": [
    "Vamos a denotar por $\\emptyset$ al conjunto vacio, es decir un conjunto que no tiene elementos.\n",
    "\n",
    "En nuestro ejemplo tenemos que \n",
    "\n",
    "$$\\mathcal{M}= \\text{azul}\\cup \\text{rojo}\\cup \\text{gris}$$. \n",
    "\n",
    "Además se tiene que\n",
    "\n",
    "$$\n",
    "\\begin{align}\n",
    "\\text{azul}\\cap \\text{rojo} &= \\emptyset\\\\\n",
    "\\text{azul}\\cap \\text{gris} &= \\emptyset\\\\\n",
    "\\text{gris}\\cap \\text{rojo} &= \\emptyset\\\\\n",
    "\\end{align}\n",
    "$$\n",
    "\n",
    "Se dice en esta situación que los conjuntos son mutuamente excluyentes.  De acuerdo con la regla aditiva tenemos que\n",
    "\n",
    "$$\n",
    "\\text{Prob}[\\mathcal{M}] = \\text{Prob}[\\text{azul}] +  \\text{Prob}[\\text{rojo}]+  \\text{Prob}[\\text{gris}] = 5/20 + 7/20 + 8/20 = 1.\n",
    "$$\n",
    "\n",
    "Esta es una propiedad general de la probabilidad. El espacio muestral siempre tiene medida de probabilidad 1. \n",
    "\n",
    "Además observe que si se tienen evento disyuntos entre sí, cuya unión es el espacio muestral, entonces la suma de la unión de todos esos eventos tiene probabilidad 1.\n",
    "\n"
   ]
  },
  {
   "cell_type": "markdown",
   "metadata": {},
   "source": [
    "### Probabilidad del complemento de un evento"
   ]
  },
  {
   "cell_type": "markdown",
   "metadata": {},
   "source": [
    "El complemento de un evento $A$ se denotará por $A^{c}$. Este simplemente el conjunto de elementos del espacio muestral que están por fuera de $A$. Entonces, es inmediato que $\\mathcal{M} = A\\cup A^c$. Por lo que \n",
    "\n",
    "$$\n",
    "Prob[A^c] = 1 - Prob[A].\n",
    "$$\n",
    "\n",
    "Una consecuencia inmediata de esta propiedad es que como $\\mathcal{M}^c= \\emptyset$, porque el espacio muestral contiene a todos los elementos, entonces $Prob[\\emptyset]=0$.\n",
    "\n",
    "\n",
    "En nuestro ejemplo $impares^c= pares$. Entonces $Prob[\\text{impares} ] = 1- 9/20 = 11/20$."
   ]
  },
  {
   "cell_type": "markdown",
   "metadata": {},
   "source": [
    "## Probabilidad condicional"
   ]
  },
  {
   "cell_type": "markdown",
   "metadata": {},
   "source": [
    "El concepto de probabilidad condicional es de vital importancia en el estudio del aprendizaje profundo y la inteligencia artificial.\n",
    "\n",
    "Como el nombre parece indicar, es trata de calcular la probabilidad de un evento sujeto a una restrición, normalmente asociada con otro evento.\n",
    "\n",
    "Para ilustrar el asunto, supongamos que se pregunta por la probabilidad que una bola extraida sea par, dado que la bola es azul.\n",
    "\n",
    "Se observa entonces, que se da una información antes de calcular la probabilidad de ser par. Esta información corresponde al evento *azul*. Escribiremos\n",
    "\n",
    "$$\n",
    "\\text{Prob}(\\text{par}|\\text{azul})\n",
    "$$\n",
    "\n",
    "\n",
    "Para hacer el cálculo correcto, se procede de la siguiente manera: Primero se reduce el espacio muestra a *azul*. En el ejemplo se tiene que  $=\\text{azul}\\{5,7,8,20,26 \\}$. Ahora que se ha restingido el epacio muestral a *azul*, se calcula la probabilidad de interés. En este caso *par*. Observe entonces que \n",
    "\n",
    "$$\n",
    "\\text{Prob}(\\text{par}|\\text{azul}) = \\tfrac{3}{5},\n",
    "$$\n",
    "\n",
    "porque en el evento *azul* que tiene 5 elementos hay 3 *pares*.\n",
    "\n",
    "\n",
    "Puede verificarse sin problema que \n",
    "\n",
    "$$\n",
    "\\text{Prob}(\\text{par}|\\text{azul}) = \\frac{\\text{Prob}[\\text{par}\\cap \\text{azul}]}{\\text{Prob}[\\text{azul}]}\n",
    "$$\n",
    "\n",
    "Esta es una regla general, que se enuncia a si. Si $A$ y $B$ son eventos del espacio muestral $\\mathcal{M}$, entonces se define $\\text{Prob}[A|B]$ como\n",
    "\n",
    "$$\n",
    "\\text{Prob}[A|B] = \\frac{\\text{Prob}[A\\cap B]}{\\text{Prob}[B]}\n",
    "$$"
   ]
  },
  {
   "cell_type": "markdown",
   "metadata": {},
   "source": [
    "## Regla multiplicativa de la probabilidad"
   ]
  },
  {
   "cell_type": "markdown",
   "metadata": {},
   "source": [
    "De la definción de la probabilidad condicional $\\text{Prob}[A|B]$ se desprende que \n",
    "\n",
    "$$\n",
    "\\text{Prob}[A\\cap B] = \\text{Prob}[B]\\times \\text{Prob}[A|B]\n",
    "$$"
   ]
  },
  {
   "cell_type": "markdown",
   "metadata": {},
   "source": [
    "#### Ejemplo"
   ]
  },
  {
   "cell_type": "markdown",
   "metadata": {},
   "source": [
    "Con nuestro ejemplo supongamos que se pregunta por la probabilidad de obtener una bola par azul en un experimento.\n",
    "\n",
    "La solución es sencilla, por que ya hemos obtenido que $\\text{Prob}(\\text{par}|\\text{azul}) = \\tfrac{3}{5}$,\n",
    "y $\\text{Prob}[\\text{azul}] = 5/20$. por lo tanto\n",
    "\n",
    "$$\n",
    "\\text{Prob}[\\text{par}\\cap\\text{azul}] = \\text{Prob}[\\text{azul}]\\times\\text{Prob}[\\text{par}|\\text{azul}] = \\tfrac{5}{20}\\times \\tfrac{3}{5} =  \\tfrac{3}{20}\n",
    "$$\n",
    "\n",
    "Esto está de acuerdo con la ilustración de los evento del espacio muestral exhibidos arriba."
   ]
  },
  {
   "cell_type": "markdown",
   "metadata": {},
   "source": [
    "## Independencia"
   ]
  },
  {
   "cell_type": "markdown",
   "metadata": {},
   "source": [
    "Dos eventos $A$ y $B$ del espacio muestral $\\mathcal{M}$ se dicen independientes si\n",
    "\n",
    "\n",
    "$$\n",
    "\\text{Prob}[A\\cap B] = \\text{Prob}[A] \\times\\text{Prob}[B].\n",
    "$$\n",
    "\n",
    "\n",
    "ESta definición es bastante tećnica, pero intutivamente puede entenderse como que la ocurrencia de un evento no afecta la ocurrencia del otro. Esto puede verse porque en este caso ocurre que\n",
    "\n",
    "$$\n",
    "\\text{Prob}[A| B] = \\text{Prob}[A].\n",
    "$$\n",
    "\n",
    "Por favor verifique esta relación."
   ]
  },
  {
   "cell_type": "markdown",
   "metadata": {},
   "source": [
    "## Ejercicios"
   ]
  },
  {
   "cell_type": "markdown",
   "metadata": {},
   "source": [
    "Considere el siguiente experimento. Se lanzan dos dados no cargados de seis caras cada uno. El resultado del experimento es una pareja de números. Por ejemplo $(5,6)$."
   ]
  },
  {
   "cell_type": "markdown",
   "metadata": {},
   "source": [
    "<figure>\n",
    "<center>\n",
    "<img src=\"../Imagenes/prob_dados.jpg\" width=\"300\" height=\"200\" align=\"center\"/>\n",
    "</center>\n",
    "<figcaption>\n",
    "<p style=\"text-align:center\">Dos datos de seis caras</p>\n",
    "</figcaption>\n",
    "</figure>\n",
    "\n",
    "Fuente: [dados](https://buquedearte.cl/productos/dado-6-caras-25mm/)"
   ]
  },
  {
   "cell_type": "markdown",
   "metadata": {},
   "source": [
    "1. Haga una tabla, usando Markdown con todo el espacio muestral $\\mathcal{M}$. Ayuda: son 36 elementos.\n",
    "2. ¿Cuántos eventos son posibles? Use Python para hacer el cálculo\n",
    "2. Calcule la probabilidad de obtener 2,3,... 12.\n",
    "3. Calcule la probabilidad de obtener un número par.\n",
    "4. Compruebe que la probabilidad de obtener 5 en el dado azul es 1/5 y que este evento es independiente del valor obtenido en el dado rojo.\n",
    "4. Escriba un programa Python que construya un tensor de dimensión 2 y que contenga los 36 posibles resultados. Consulte  sobre como se hace un ciclo for en Python."
   ]
  },
  {
   "cell_type": "markdown",
   "metadata": {},
   "source": [
    "- [Regresar al inicio](#Contenido)"
   ]
  },
  {
   "cell_type": "code",
   "execution_count": null,
   "metadata": {},
   "outputs": [],
   "source": []
  }
 ],
 "metadata": {
  "kernelspec": {
   "display_name": "Python 3",
   "language": "python",
   "name": "python3"
  },
  "language_info": {
   "codemirror_mode": {
    "name": "ipython",
    "version": 3
   },
   "file_extension": ".py",
   "mimetype": "text/x-python",
   "name": "python",
   "nbconvert_exporter": "python",
   "pygments_lexer": "ipython3",
   "version": "3.7.7"
  },
  "toc-autonumbering": false
 },
 "nbformat": 4,
 "nbformat_minor": 4
}
