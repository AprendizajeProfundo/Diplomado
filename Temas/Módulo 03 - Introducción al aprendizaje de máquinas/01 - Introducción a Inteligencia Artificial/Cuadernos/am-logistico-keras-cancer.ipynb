{
 "cells": [
  {
   "cell_type": "markdown",
   "metadata": {
    "tags": []
   },
   "source": [
    "<figure>\n",
    "<img src=\"../Imagenes/logo-final-ap.png\"  width=\"80\" height=\"80\" align=\"left\"/> \n",
    "</figure>\n",
    "\n",
    "# <span style=\"color:blue\"><left>Aprendizaje Profundo</left></span>"
   ]
  },
  {
   "cell_type": "markdown",
   "metadata": {},
   "source": [
    "# <span style=\"color:red\"><center>  Modelo Logístico-Predicción de cáncer - TF2</center></span>"
   ]
  },
  {
   "cell_type": "markdown",
   "metadata": {},
   "source": [
    "## <span style=\"color:blue\">Autores</span>"
   ]
  },
  {
   "cell_type": "markdown",
   "metadata": {},
   "source": [
    "1. Alvaro Mauricio Montenegro Díaz, ammontenegrod@unal.edu.co\n",
    "2. Daniel Mauricio Montenegro Reyes, dextronomo@gmail.com \n"
   ]
  },
  {
   "cell_type": "markdown",
   "metadata": {},
   "source": [
    "## <span style=\"color:blue\">Contenido</span>"
   ]
  },
  {
   "cell_type": "markdown",
   "metadata": {},
   "source": [
    "* [Introducción](#Introducción)\n",
    "* [Importa módulos](#Importa-módulos)\n",
    "* [Funciones de activación](#Funciones-de-activación)\n",
    "* [Regularizadores ](#Regularizadores)\n",
    "* [El conjunto de datos cáncer de seno Wisconsin](#El-conjunto-de-datos-cáncer-de-seno-Wisconsin)\n",
    "* [Lectura de datos](#Lectura-de-datos)\n",
    "* [Preprocesamiento](#Preprocesamiento)\n",
    "* [Crea el modelo Sequential modo 2](#Crea-el-modelo-Sequential-modo-2)\n",
    "* [Compila](#Compila)\n",
    "* [Entrenamiento](#Entrenamiento)\n",
    "* [Predicciones](#Predicciones)\n",
    "* [Matriz de confusión](#Matriz-de-confusión)\n",
    "* [Evaluación del modelo](#Evaluación-del-modelo)\n"
   ]
  },
  {
   "cell_type": "markdown",
   "metadata": {},
   "source": [
    "## <span style=\"color:blue\">Introducción</span>"
   ]
  },
  {
   "cell_type": "markdown",
   "metadata": {},
   "source": [
    "En esta lección construimos un modelo predictivo de regresión logística usando los datos de cáncer de la Universidad de Wisconsin.\n",
    "\n",
    "Usaremos la funciones de activación *relu* y *sigmoid* y el regularizador *Dropout*. Adicionalmente introducimos el  modo 2 de escribir un modelo *Sequiential*.\n",
    "\n",
    "Finalmente se construye una matriz de confusión para el problema."
   ]
  },
  {
   "cell_type": "markdown",
   "metadata": {},
   "source": [
    "## <span style=\"color:blue\">Importa módulos</span>"
   ]
  },
  {
   "cell_type": "code",
   "execution_count": null,
   "metadata": {},
   "outputs": [],
   "source": [
    "try:\n",
    "  %tensorflow_version 2.x\n",
    "except Exception:\n",
    "  pass"
   ]
  },
  {
   "cell_type": "code",
   "execution_count": 3,
   "metadata": {},
   "outputs": [
    {
     "name": "stdout",
     "output_type": "stream",
     "text": [
      "2.4.1\n"
     ]
    }
   ],
   "source": [
    "from __future__ import absolute_import, division, print_function, unicode_literals\n",
    "#\n",
    "import pandas as pd\n",
    "import matplotlib.pyplot as plt\n",
    "import seaborn as sns\n",
    "import tensorflow as tf\n",
    "#\n",
    "from tensorflow.keras.models import Sequential\n",
    "#\n",
    "from tensorflow.keras.layers import Dense, Dropout\n",
    "#\n",
    "from tensorflow.keras.utils import plot_model\n",
    "#\n",
    "from sklearn.preprocessing import LabelEncoder\n",
    "from sklearn.model_selection import train_test_split\n",
    "from sklearn.preprocessing import StandardScaler\n",
    "from sklearn.metrics import confusion_matrix\n",
    "#\n",
    "print(tf.__version__)"
   ]
  },
  {
   "cell_type": "markdown",
   "metadata": {},
   "source": [
    "## <span style=\"color:blue\">Funciones de activación</span>"
   ]
  },
  {
   "cell_type": "markdown",
   "metadata": {},
   "source": [
    "### Logística o sigmoide"
   ]
  },
  {
   "cell_type": "markdown",
   "metadata": {},
   "source": [
    "Dada la salida del sumador digamos $y=\\mathbf{w}'\\mathbf{x} +b$, la función de activación *sigmoid* esta definida por\n",
    "\n",
    "$$\n",
    "\\text{sigmoid}(y) = \\frac{1}{1+\\exp(-y)}\n",
    "$$\n",
    "\n",
    "Entonces, esta función de activación transforma cualquier número real a un número en el intervalo $(0,1)$, de tal manera que puede ser interpretado como una probabilidad. "
   ]
  },
  {
   "cell_type": "markdown",
   "metadata": {},
   "source": [
    "### Relu"
   ]
  },
  {
   "cell_type": "markdown",
   "metadata": {},
   "source": [
    "Dada la salida del sumador digamos $y=\\mathbf{w}'\\mathbf{x} +b$, la función de activación *relu* esta definida por\n",
    "\n",
    "$$\n",
    "\\text{relu}(y) = \\begin{cases} &0, \\text{ si } y\\le 0,\\\\\n",
    " &y, \\text{ en otro caso } \\end{cases}\n",
    "$$\n",
    "\n"
   ]
  },
  {
   "cell_type": "markdown",
   "metadata": {},
   "source": [
    "## <span style=\"color:blue\">Regularizadores </span>"
   ]
  },
  {
   "cell_type": "markdown",
   "metadata": {},
   "source": [
    "### Dropout"
   ]
  },
  {
   "cell_type": "markdown",
   "metadata": {},
   "source": [
    "Usaremos el regularizador Dropout. [Dropout paper](https://jmlr.org/papers/v15/srivastava14a.html). Este regularizador deja por fuera del entrenamiento en cada epoch un porcentaje de las neuronas de la capa, escogidas de forma aleatoria en cada epoch. Por ejemplo *Dropout(0.1)* deja el 10% de las neuronas por fuera del entrenamiento en cada epoch. En el artículo muestran que en muchos casos este regularizador funciona mejor que los clásicos L1 y L2."
   ]
  },
  {
   "cell_type": "markdown",
   "metadata": {},
   "source": [
    "## <span style=\"color:blue\">El conjunto de datos cáncer de seno Wisconsin </span>"
   ]
  },
  {
   "cell_type": "markdown",
   "metadata": {},
   "source": [
    "Puede descargar los datos en [kaggle- cancer de seno-Wisconsin](https://www.kaggle.com/uciml/breast-cancer-wisconsin-data)\n"
   ]
  },
  {
   "cell_type": "markdown",
   "metadata": {},
   "source": [
    "### Meta-información sobre los datos"
   ]
  },
  {
   "cell_type": "markdown",
   "metadata": {},
   "source": [
    "\n",
    "1. ID number\n",
    "2. Diagnosis (M = maligno, B = benigno) \n",
    "\n",
    "Se calculan diez características de valor real para cada núcleo celular:\n",
    "\n",
    "  - radius (media de las distancias desde el centro a los puntos del perímetro) \n",
    "  - texture (desviación estándar de los valores de la escala de grises) \n",
    "  - perimeter\n",
    "  - area\n",
    "  - smoothness (variación local en las longitudes de los radios)\n",
    "  - compactness (perímetro ^ 2 / área - 1.0) \n",
    "  - concavity (severidad de las porciones cóncavas del contorno) \n",
    "  - concave points (número de porciones cóncavas del contorno) \n",
    "  - symetry \n",
    "  - fractal dimension (\"aproximación de la línea de costa\"\n",
    " \n",
    "La media, el error estándar y el \"peor\" o el mayor (la media de los tres valores más grandes) de estas características se calcularon para cada imagen, lo que resultó en 30 características. Por ejemplo, el campo 3 es Radio medio, el campo 13 es Radio SE, el campo 23 es Peor radio.\n",
    "\n",
    "Todos los valores de las características se recodifican con cuatro dígitos significativos.\n",
    "\n",
    "datos faltantes: ninguno\n",
    "\n",
    "Distribución de clases: 357 benignos, 212 malignos\n",
    "\n",
    "\n"
   ]
  },
  {
   "cell_type": "markdown",
   "metadata": {},
   "source": [
    "## <span style=\"color:blue\">Lectura de datos</span>"
   ]
  },
  {
   "cell_type": "markdown",
   "metadata": {},
   "source": [
    "### Separa entrada (features) y salida "
   ]
  },
  {
   "cell_type": "code",
   "execution_count": 5,
   "metadata": {},
   "outputs": [],
   "source": [
    "# Importing data\n",
    "data = pd.read_csv('../Datos/cancer_data.csv')\n",
    "del data['Unnamed: 32']"
   ]
  },
  {
   "cell_type": "markdown",
   "metadata": {},
   "source": [
    "## <span style=\"color:blue\">Preprocesamiento</span>"
   ]
  },
  {
   "cell_type": "code",
   "execution_count": 6,
   "metadata": {},
   "outputs": [],
   "source": [
    "x = data.iloc[:,2:].values # extrae como arreglos numpy\n",
    "y = data.iloc[:,1].values"
   ]
  },
  {
   "cell_type": "markdown",
   "metadata": {},
   "source": [
    "### Recodifica la variable objetivo"
   ]
  },
  {
   "cell_type": "code",
   "execution_count": 7,
   "metadata": {},
   "outputs": [],
   "source": [
    "labelencoder_y = LabelEncoder()\n",
    "y = labelencoder_y.fit_transform(y)"
   ]
  },
  {
   "cell_type": "markdown",
   "metadata": {},
   "source": [
    "### Divide los datos. Entrenamiento y test"
   ]
  },
  {
   "cell_type": "code",
   "execution_count": 8,
   "metadata": {},
   "outputs": [],
   "source": [
    "x_train, x_test, y_train, y_test = train_test_split(x, y, test_size = 0.1, random_state = 0)\n"
   ]
  },
  {
   "cell_type": "code",
   "execution_count": 9,
   "metadata": {},
   "outputs": [
    {
     "data": {
      "text/plain": [
       "(57, 30)"
      ]
     },
     "execution_count": 9,
     "metadata": {},
     "output_type": "execute_result"
    }
   ],
   "source": [
    "x_test.shape"
   ]
  },
  {
   "cell_type": "markdown",
   "metadata": {},
   "source": [
    "### Normaliza los datos"
   ]
  },
  {
   "cell_type": "code",
   "execution_count": 10,
   "metadata": {},
   "outputs": [],
   "source": [
    "sc = StandardScaler()\n",
    "x_train = sc.fit_transform(x_train)\n",
    "x_test = sc.transform(x_test)"
   ]
  },
  {
   "cell_type": "markdown",
   "metadata": {},
   "source": [
    "## <span style=\"color:blue\">Crea el modelo Sequential modo 2</span>"
   ]
  },
  {
   "cell_type": "code",
   "execution_count": 11,
   "metadata": {},
   "outputs": [],
   "source": [
    "classifier = Sequential()\n",
    "## Adiciona capas una por una\n",
    "classifier.add(Dense(units=16, activation='relu', input_shape=(30,)))\n",
    "# Adding dropout to prevent overfitting (regularización)\n",
    "classifier.add(Dropout(0.1)) # 10% out in each epoc\n",
    "classifier.add(Dense(units=16, activation='relu'))\n",
    "# Adding dropout to prevent overfitting (regularización)\n",
    "classifier.add(Dropout(0.1))\n",
    "classifier.add(Dense(units=1, activation='sigmoid'))\n"
   ]
  },
  {
   "cell_type": "markdown",
   "metadata": {},
   "source": [
    "## <span style=\"color:blue\">Compila</span>"
   ]
  },
  {
   "cell_type": "code",
   "execution_count": 13,
   "metadata": {},
   "outputs": [],
   "source": [
    "classifier.compile(optimizer='adam', loss='binary_crossentropy', metrics=['accuracy'])"
   ]
  },
  {
   "cell_type": "code",
   "execution_count": 14,
   "metadata": {},
   "outputs": [
    {
     "name": "stdout",
     "output_type": "stream",
     "text": [
      "Model: \"sequential\"\n",
      "_________________________________________________________________\n",
      "Layer (type)                 Output Shape              Param #   \n",
      "=================================================================\n",
      "dense (Dense)                (None, 16)                496       \n",
      "_________________________________________________________________\n",
      "dropout (Dropout)            (None, 16)                0         \n",
      "_________________________________________________________________\n",
      "dense_1 (Dense)              (None, 16)                272       \n",
      "_________________________________________________________________\n",
      "dropout_1 (Dropout)          (None, 16)                0         \n",
      "_________________________________________________________________\n",
      "dense_2 (Dense)              (None, 1)                 17        \n",
      "=================================================================\n",
      "Total params: 785\n",
      "Trainable params: 785\n",
      "Non-trainable params: 0\n",
      "_________________________________________________________________\n"
     ]
    },
    {
     "data": {
      "image/png": "[encoded data removed]",
      "text/plain": [
       "<IPython.core.display.Image object>"
      ]
     },
     "execution_count": 14,
     "metadata": {},
     "output_type": "execute_result"
    }
   ],
   "source": [
    "classifier.summary()\n",
    "plot_model(classifier, to_file='../Imagenes/cancer_seno.png', \n",
    "           show_shapes=True)"
   ]
  },
  {
   "cell_type": "markdown",
   "metadata": {},
   "source": [
    "## <span style=\"color:blue\">Entrenamiento</span>"
   ]
  },
  {
   "cell_type": "code",
   "execution_count": 15,
   "metadata": {},
   "outputs": [
    {
     "name": "stdout",
     "output_type": "stream",
     "text": [
      "Epoch 1/150\n",
      "13/13 [==============================] - 4s 125ms/step - loss: 0.9067 - accuracy: 0.3711 - val_loss: 0.7258 - val_accuracy: 0.5049\n",
      "Epoch 2/150\n",
      "13/13 [==============================] - 0s 25ms/step - loss: 0.7127 - accuracy: 0.5067 - val_loss: 0.5764 - val_accuracy: 0.7184\n",
      "Epoch 3/150\n",
      "13/13 [==============================] - 0s 23ms/step - loss: 0.5804 - accuracy: 0.7327 - val_loss: 0.4591 - val_accuracy: 0.8738\n",
      "Epoch 4/150\n",
      "13/13 [==============================] - 0s 30ms/step - loss: 0.4376 - accuracy: 0.8409 - val_loss: 0.3706 - val_accuracy: 0.9126\n",
      "Epoch 5/150\n",
      "13/13 [==============================] - 0s 32ms/step - loss: 0.3729 - accuracy: 0.8906 - val_loss: 0.3056 - val_accuracy: 0.9223\n",
      "Epoch 6/150\n",
      "13/13 [==============================] - 0s 30ms/step - loss: 0.3108 - accuracy: 0.9115 - val_loss: 0.2562 - val_accuracy: 0.9320\n",
      "Epoch 7/150\n",
      "13/13 [==============================] - 0s 28ms/step - loss: 0.2784 - accuracy: 0.9225 - val_loss: 0.2179 - val_accuracy: 0.9320\n",
      "Epoch 8/150\n",
      "13/13 [==============================] - 0s 22ms/step - loss: 0.2666 - accuracy: 0.9069 - val_loss: 0.1884 - val_accuracy: 0.9320\n",
      "Epoch 9/150\n",
      "13/13 [==============================] - 0s 22ms/step - loss: 0.2300 - accuracy: 0.9096 - val_loss: 0.1665 - val_accuracy: 0.9417\n",
      "Epoch 10/150\n",
      "13/13 [==============================] - 0s 29ms/step - loss: 0.1848 - accuracy: 0.9209 - val_loss: 0.1480 - val_accuracy: 0.9515\n",
      "Epoch 11/150\n",
      "13/13 [==============================] - 0s 21ms/step - loss: 0.2051 - accuracy: 0.9268 - val_loss: 0.1336 - val_accuracy: 0.9709\n",
      "Epoch 12/150\n",
      "13/13 [==============================] - 0s 25ms/step - loss: 0.2092 - accuracy: 0.9113 - val_loss: 0.1210 - val_accuracy: 0.9806\n",
      "Epoch 13/150\n",
      "13/13 [==============================] - 0s 25ms/step - loss: 0.1596 - accuracy: 0.9441 - val_loss: 0.1104 - val_accuracy: 0.9806\n",
      "Epoch 14/150\n",
      "13/13 [==============================] - 0s 33ms/step - loss: 0.1496 - accuracy: 0.9302 - val_loss: 0.1024 - val_accuracy: 0.9806\n",
      "Epoch 15/150\n",
      "13/13 [==============================] - 0s 26ms/step - loss: 0.1638 - accuracy: 0.9339 - val_loss: 0.0950 - val_accuracy: 0.9806\n",
      "Epoch 16/150\n",
      "13/13 [==============================] - 0s 29ms/step - loss: 0.1373 - accuracy: 0.9626 - val_loss: 0.0887 - val_accuracy: 0.9806\n",
      "Epoch 17/150\n",
      "13/13 [==============================] - 0s 24ms/step - loss: 0.1216 - accuracy: 0.9402 - val_loss: 0.0829 - val_accuracy: 0.9903\n",
      "Epoch 18/150\n",
      "13/13 [==============================] - 0s 25ms/step - loss: 0.1493 - accuracy: 0.9549 - val_loss: 0.0779 - val_accuracy: 0.9903\n",
      "Epoch 19/150\n",
      "13/13 [==============================] - 0s 28ms/step - loss: 0.1127 - accuracy: 0.9738 - val_loss: 0.0723 - val_accuracy: 0.9903\n",
      "Epoch 20/150\n",
      "13/13 [==============================] - 0s 36ms/step - loss: 0.1134 - accuracy: 0.9779 - val_loss: 0.0683 - val_accuracy: 0.9903\n",
      "Epoch 21/150\n",
      "13/13 [==============================] - 0s 24ms/step - loss: 0.1061 - accuracy: 0.9735 - val_loss: 0.0653 - val_accuracy: 0.9903\n",
      "Epoch 22/150\n",
      "13/13 [==============================] - 0s 22ms/step - loss: 0.0875 - accuracy: 0.9766 - val_loss: 0.0621 - val_accuracy: 0.9903\n",
      "Epoch 23/150\n",
      "13/13 [==============================] - 0s 21ms/step - loss: 0.0949 - accuracy: 0.9746 - val_loss: 0.0589 - val_accuracy: 1.0000\n",
      "Epoch 24/150\n",
      "13/13 [==============================] - 0s 25ms/step - loss: 0.0988 - accuracy: 0.9680 - val_loss: 0.0559 - val_accuracy: 1.0000\n",
      "Epoch 25/150\n",
      "13/13 [==============================] - 0s 30ms/step - loss: 0.1118 - accuracy: 0.9677 - val_loss: 0.0539 - val_accuracy: 1.0000\n",
      "Epoch 26/150\n",
      "13/13 [==============================] - 0s 20ms/step - loss: 0.0781 - accuracy: 0.9795 - val_loss: 0.0510 - val_accuracy: 1.0000\n",
      "Epoch 27/150\n",
      "13/13 [==============================] - 0s 27ms/step - loss: 0.1046 - accuracy: 0.9620 - val_loss: 0.0486 - val_accuracy: 1.0000\n",
      "Epoch 28/150\n",
      "13/13 [==============================] - 0s 28ms/step - loss: 0.0811 - accuracy: 0.9884 - val_loss: 0.0460 - val_accuracy: 1.0000\n",
      "Epoch 29/150\n",
      "13/13 [==============================] - 0s 27ms/step - loss: 0.1076 - accuracy: 0.9621 - val_loss: 0.0444 - val_accuracy: 1.0000\n",
      "Epoch 30/150\n",
      "13/13 [==============================] - 0s 29ms/step - loss: 0.0841 - accuracy: 0.9834 - val_loss: 0.0421 - val_accuracy: 1.0000\n",
      "Epoch 31/150\n",
      "13/13 [==============================] - 0s 30ms/step - loss: 0.0933 - accuracy: 0.9752 - val_loss: 0.0406 - val_accuracy: 1.0000\n",
      "Epoch 32/150\n",
      "13/13 [==============================] - 0s 36ms/step - loss: 0.0683 - accuracy: 0.9869 - val_loss: 0.0389 - val_accuracy: 1.0000\n",
      "Epoch 33/150\n",
      "13/13 [==============================] - 0s 28ms/step - loss: 0.0598 - accuracy: 0.9835 - val_loss: 0.0372 - val_accuracy: 1.0000\n",
      "Epoch 34/150\n",
      "13/13 [==============================] - 0s 29ms/step - loss: 0.0744 - accuracy: 0.9874 - val_loss: 0.0355 - val_accuracy: 1.0000\n",
      "Epoch 35/150\n",
      "13/13 [==============================] - 0s 26ms/step - loss: 0.0810 - accuracy: 0.9759 - val_loss: 0.0349 - val_accuracy: 1.0000\n",
      "Epoch 36/150\n",
      "13/13 [==============================] - 0s 24ms/step - loss: 0.0817 - accuracy: 0.9786 - val_loss: 0.0337 - val_accuracy: 1.0000\n",
      "Epoch 37/150\n",
      "13/13 [==============================] - 0s 31ms/step - loss: 0.0905 - accuracy: 0.9688 - val_loss: 0.0327 - val_accuracy: 1.0000\n",
      "Epoch 38/150\n",
      "13/13 [==============================] - 0s 30ms/step - loss: 0.0755 - accuracy: 0.9774 - val_loss: 0.0316 - val_accuracy: 1.0000\n",
      "Epoch 39/150\n",
      "13/13 [==============================] - 0s 33ms/step - loss: 0.0601 - accuracy: 0.9793 - val_loss: 0.0309 - val_accuracy: 1.0000\n",
      "Epoch 40/150\n",
      "13/13 [==============================] - 0s 22ms/step - loss: 0.0538 - accuracy: 0.9846 - val_loss: 0.0300 - val_accuracy: 1.0000\n",
      "Epoch 41/150\n",
      "13/13 [==============================] - 0s 28ms/step - loss: 0.0889 - accuracy: 0.9777 - val_loss: 0.0297 - val_accuracy: 1.0000\n",
      "Epoch 42/150\n",
      "13/13 [==============================] - 0s 22ms/step - loss: 0.0663 - accuracy: 0.9800 - val_loss: 0.0288 - val_accuracy: 1.0000\n",
      "Epoch 43/150\n",
      "13/13 [==============================] - 0s 28ms/step - loss: 0.0792 - accuracy: 0.9754 - val_loss: 0.0280 - val_accuracy: 1.0000\n",
      "Epoch 44/150\n",
      "13/13 [==============================] - 0s 23ms/step - loss: 0.0624 - accuracy: 0.9825 - val_loss: 0.0267 - val_accuracy: 1.0000\n",
      "Epoch 45/150\n",
      "13/13 [==============================] - 0s 33ms/step - loss: 0.0484 - accuracy: 0.9836 - val_loss: 0.0258 - val_accuracy: 1.0000\n",
      "Epoch 46/150\n",
      "13/13 [==============================] - 0s 27ms/step - loss: 0.0919 - accuracy: 0.9815 - val_loss: 0.0257 - val_accuracy: 1.0000\n",
      "Epoch 47/150\n",
      "13/13 [==============================] - 0s 30ms/step - loss: 0.0574 - accuracy: 0.9834 - val_loss: 0.0252 - val_accuracy: 1.0000\n",
      "Epoch 48/150\n",
      "13/13 [==============================] - 0s 24ms/step - loss: 0.0594 - accuracy: 0.9753 - val_loss: 0.0245 - val_accuracy: 1.0000\n",
      "Epoch 49/150\n",
      "13/13 [==============================] - 0s 29ms/step - loss: 0.0628 - accuracy: 0.9914 - val_loss: 0.0237 - val_accuracy: 1.0000\n",
      "Epoch 50/150\n",
      "13/13 [==============================] - 0s 23ms/step - loss: 0.0530 - accuracy: 0.9880 - val_loss: 0.0233 - val_accuracy: 1.0000\n",
      "Epoch 51/150\n",
      "13/13 [==============================] - 0s 38ms/step - loss: 0.0739 - accuracy: 0.9704 - val_loss: 0.0230 - val_accuracy: 1.0000\n",
      "Epoch 52/150\n",
      "13/13 [==============================] - 0s 29ms/step - loss: 0.0598 - accuracy: 0.9857 - val_loss: 0.0229 - val_accuracy: 1.0000\n",
      "Epoch 53/150\n",
      "13/13 [==============================] - 0s 21ms/step - loss: 0.0565 - accuracy: 0.9780 - val_loss: 0.0233 - val_accuracy: 1.0000\n",
      "Epoch 54/150\n",
      "13/13 [==============================] - 0s 22ms/step - loss: 0.0692 - accuracy: 0.9763 - val_loss: 0.0232 - val_accuracy: 1.0000\n",
      "Epoch 55/150\n",
      "13/13 [==============================] - 0s 26ms/step - loss: 0.0620 - accuracy: 0.9839 - val_loss: 0.0233 - val_accuracy: 1.0000\n",
      "Epoch 56/150\n",
      "13/13 [==============================] - 0s 25ms/step - loss: 0.0877 - accuracy: 0.9738 - val_loss: 0.0229 - val_accuracy: 1.0000\n",
      "Epoch 57/150\n",
      "13/13 [==============================] - 0s 25ms/step - loss: 0.0945 - accuracy: 0.9721 - val_loss: 0.0225 - val_accuracy: 1.0000\n",
      "Epoch 58/150\n",
      "13/13 [==============================] - 0s 23ms/step - loss: 0.0646 - accuracy: 0.9745 - val_loss: 0.0214 - val_accuracy: 1.0000\n",
      "Epoch 59/150\n",
      "13/13 [==============================] - 0s 24ms/step - loss: 0.0477 - accuracy: 0.9885 - val_loss: 0.0206 - val_accuracy: 1.0000\n",
      "Epoch 60/150\n",
      "13/13 [==============================] - 0s 28ms/step - loss: 0.0625 - accuracy: 0.9820 - val_loss: 0.0200 - val_accuracy: 1.0000\n",
      "Epoch 61/150\n",
      "13/13 [==============================] - 0s 31ms/step - loss: 0.0388 - accuracy: 0.9904 - val_loss: 0.0197 - val_accuracy: 1.0000\n",
      "Epoch 62/150\n",
      "13/13 [==============================] - 0s 30ms/step - loss: 0.0364 - accuracy: 0.9875 - val_loss: 0.0198 - val_accuracy: 1.0000\n",
      "Epoch 63/150\n",
      "13/13 [==============================] - 0s 21ms/step - loss: 0.0633 - accuracy: 0.9877 - val_loss: 0.0201 - val_accuracy: 1.0000\n",
      "Epoch 64/150\n",
      "13/13 [==============================] - 0s 28ms/step - loss: 0.0516 - accuracy: 0.9864 - val_loss: 0.0198 - val_accuracy: 1.0000\n",
      "Epoch 65/150\n",
      "13/13 [==============================] - 0s 28ms/step - loss: 0.0527 - accuracy: 0.9870 - val_loss: 0.0192 - val_accuracy: 1.0000\n",
      "Epoch 66/150\n",
      "13/13 [==============================] - 0s 27ms/step - loss: 0.0650 - accuracy: 0.9789 - val_loss: 0.0185 - val_accuracy: 1.0000\n",
      "Epoch 67/150\n",
      "13/13 [==============================] - 0s 27ms/step - loss: 0.0397 - accuracy: 0.9913 - val_loss: 0.0180 - val_accuracy: 1.0000\n",
      "Epoch 68/150\n",
      "13/13 [==============================] - 0s 29ms/step - loss: 0.0692 - accuracy: 0.9722 - val_loss: 0.0180 - val_accuracy: 1.0000\n",
      "Epoch 69/150\n",
      "13/13 [==============================] - 0s 21ms/step - loss: 0.0732 - accuracy: 0.9796 - val_loss: 0.0182 - val_accuracy: 1.0000\n",
      "Epoch 70/150\n",
      "13/13 [==============================] - 0s 22ms/step - loss: 0.0463 - accuracy: 0.9859 - val_loss: 0.0173 - val_accuracy: 1.0000\n",
      "Epoch 71/150\n",
      "13/13 [==============================] - 0s 22ms/step - loss: 0.0455 - accuracy: 0.9902 - val_loss: 0.0170 - val_accuracy: 1.0000\n",
      "Epoch 72/150\n",
      "13/13 [==============================] - 0s 33ms/step - loss: 0.0497 - accuracy: 0.9841 - val_loss: 0.0173 - val_accuracy: 1.0000\n",
      "Epoch 73/150\n",
      "13/13 [==============================] - 0s 31ms/step - loss: 0.0757 - accuracy: 0.9806 - val_loss: 0.0181 - val_accuracy: 1.0000\n",
      "Epoch 74/150\n",
      "13/13 [==============================] - 0s 31ms/step - loss: 0.0361 - accuracy: 0.9920 - val_loss: 0.0179 - val_accuracy: 1.0000\n",
      "Epoch 75/150\n",
      "13/13 [==============================] - 0s 34ms/step - loss: 0.0478 - accuracy: 0.9888 - val_loss: 0.0177 - val_accuracy: 1.0000\n",
      "Epoch 76/150\n",
      "13/13 [==============================] - 0s 34ms/step - loss: 0.0411 - accuracy: 0.9863 - val_loss: 0.0171 - val_accuracy: 1.0000\n",
      "Epoch 77/150\n",
      "13/13 [==============================] - 0s 20ms/step - loss: 0.0517 - accuracy: 0.9862 - val_loss: 0.0173 - val_accuracy: 1.0000\n",
      "Epoch 78/150\n",
      "13/13 [==============================] - 0s 29ms/step - loss: 0.0381 - accuracy: 0.9915 - val_loss: 0.0174 - val_accuracy: 1.0000\n",
      "Epoch 79/150\n",
      "13/13 [==============================] - 0s 28ms/step - loss: 0.0597 - accuracy: 0.9805 - val_loss: 0.0185 - val_accuracy: 1.0000\n",
      "Epoch 80/150\n",
      "13/13 [==============================] - 0s 32ms/step - loss: 0.0579 - accuracy: 0.9800 - val_loss: 0.0180 - val_accuracy: 1.0000\n",
      "Epoch 81/150\n",
      "13/13 [==============================] - 0s 30ms/step - loss: 0.0396 - accuracy: 0.9882 - val_loss: 0.0166 - val_accuracy: 1.0000\n",
      "Epoch 82/150\n",
      "13/13 [==============================] - 0s 28ms/step - loss: 0.0366 - accuracy: 0.9860 - val_loss: 0.0158 - val_accuracy: 1.0000\n",
      "Epoch 83/150\n",
      "13/13 [==============================] - 0s 30ms/step - loss: 0.0520 - accuracy: 0.9851 - val_loss: 0.0153 - val_accuracy: 1.0000\n",
      "Epoch 84/150\n",
      "13/13 [==============================] - 0s 23ms/step - loss: 0.0542 - accuracy: 0.9869 - val_loss: 0.0156 - val_accuracy: 1.0000\n",
      "Epoch 85/150\n",
      "13/13 [==============================] - 0s 20ms/step - loss: 0.0385 - accuracy: 0.9932 - val_loss: 0.0151 - val_accuracy: 1.0000\n",
      "Epoch 86/150\n",
      "13/13 [==============================] - 0s 25ms/step - loss: 0.0391 - accuracy: 0.9872 - val_loss: 0.0152 - val_accuracy: 1.0000\n",
      "Epoch 87/150\n",
      "13/13 [==============================] - 0s 26ms/step - loss: 0.0493 - accuracy: 0.9778 - val_loss: 0.0153 - val_accuracy: 1.0000\n",
      "Epoch 88/150\n",
      "13/13 [==============================] - 0s 24ms/step - loss: 0.0655 - accuracy: 0.9777 - val_loss: 0.0165 - val_accuracy: 1.0000\n",
      "Epoch 89/150\n",
      "13/13 [==============================] - 0s 25ms/step - loss: 0.0530 - accuracy: 0.9823 - val_loss: 0.0160 - val_accuracy: 1.0000\n",
      "Epoch 90/150\n",
      "13/13 [==============================] - 0s 25ms/step - loss: 0.0432 - accuracy: 0.9894 - val_loss: 0.0151 - val_accuracy: 1.0000\n",
      "Epoch 91/150\n",
      "13/13 [==============================] - 0s 28ms/step - loss: 0.0589 - accuracy: 0.9704 - val_loss: 0.0142 - val_accuracy: 1.0000\n",
      "Epoch 92/150\n",
      "13/13 [==============================] - 0s 28ms/step - loss: 0.0397 - accuracy: 0.9847 - val_loss: 0.0135 - val_accuracy: 1.0000\n",
      "Epoch 93/150\n",
      "13/13 [==============================] - 0s 25ms/step - loss: 0.0534 - accuracy: 0.9859 - val_loss: 0.0143 - val_accuracy: 1.0000\n",
      "Epoch 94/150\n",
      "13/13 [==============================] - 0s 30ms/step - loss: 0.0354 - accuracy: 0.9898 - val_loss: 0.0142 - val_accuracy: 1.0000\n",
      "Epoch 95/150\n",
      "13/13 [==============================] - 0s 27ms/step - loss: 0.0618 - accuracy: 0.9821 - val_loss: 0.0140 - val_accuracy: 1.0000\n",
      "Epoch 96/150\n",
      "13/13 [==============================] - 0s 34ms/step - loss: 0.0350 - accuracy: 0.9889 - val_loss: 0.0136 - val_accuracy: 1.0000\n",
      "Epoch 97/150\n",
      "13/13 [==============================] - 0s 31ms/step - loss: 0.0361 - accuracy: 0.9862 - val_loss: 0.0136 - val_accuracy: 1.0000\n",
      "Epoch 98/150\n",
      "13/13 [==============================] - 0s 28ms/step - loss: 0.0190 - accuracy: 0.9972 - val_loss: 0.0131 - val_accuracy: 1.0000\n",
      "Epoch 99/150\n",
      "13/13 [==============================] - 0s 23ms/step - loss: 0.0235 - accuracy: 0.9892 - val_loss: 0.0132 - val_accuracy: 1.0000\n",
      "Epoch 100/150\n",
      "13/13 [==============================] - 0s 22ms/step - loss: 0.0295 - accuracy: 0.9912 - val_loss: 0.0132 - val_accuracy: 1.0000\n",
      "Epoch 101/150\n",
      "13/13 [==============================] - 0s 25ms/step - loss: 0.0377 - accuracy: 0.9859 - val_loss: 0.0127 - val_accuracy: 1.0000\n",
      "Epoch 102/150\n",
      "13/13 [==============================] - 0s 26ms/step - loss: 0.0272 - accuracy: 0.9890 - val_loss: 0.0125 - val_accuracy: 1.0000\n",
      "Epoch 103/150\n",
      "13/13 [==============================] - 0s 27ms/step - loss: 0.0392 - accuracy: 0.9822 - val_loss: 0.0120 - val_accuracy: 1.0000\n",
      "Epoch 104/150\n",
      "13/13 [==============================] - 0s 26ms/step - loss: 0.0402 - accuracy: 0.9938 - val_loss: 0.0125 - val_accuracy: 1.0000\n",
      "Epoch 105/150\n",
      "13/13 [==============================] - 0s 25ms/step - loss: 0.0255 - accuracy: 0.9945 - val_loss: 0.0131 - val_accuracy: 1.0000\n",
      "Epoch 106/150\n",
      "13/13 [==============================] - 0s 26ms/step - loss: 0.0248 - accuracy: 0.9955 - val_loss: 0.0131 - val_accuracy: 1.0000\n",
      "Epoch 107/150\n",
      "13/13 [==============================] - 0s 26ms/step - loss: 0.0357 - accuracy: 0.9928 - val_loss: 0.0133 - val_accuracy: 1.0000\n",
      "Epoch 108/150\n",
      "13/13 [==============================] - 0s 31ms/step - loss: 0.0278 - accuracy: 0.9927 - val_loss: 0.0120 - val_accuracy: 1.0000\n",
      "Epoch 109/150\n",
      "13/13 [==============================] - 0s 32ms/step - loss: 0.0461 - accuracy: 0.9850 - val_loss: 0.0113 - val_accuracy: 1.0000\n",
      "Epoch 110/150\n",
      "13/13 [==============================] - 0s 31ms/step - loss: 0.0597 - accuracy: 0.9728 - val_loss: 0.0117 - val_accuracy: 1.0000\n",
      "Epoch 111/150\n",
      "13/13 [==============================] - 0s 33ms/step - loss: 0.0369 - accuracy: 0.9766 - val_loss: 0.0123 - val_accuracy: 1.0000\n",
      "Epoch 112/150\n",
      "13/13 [==============================] - 0s 29ms/step - loss: 0.0303 - accuracy: 0.9875 - val_loss: 0.0117 - val_accuracy: 1.0000\n",
      "Epoch 113/150\n",
      "13/13 [==============================] - 0s 28ms/step - loss: 0.0272 - accuracy: 0.9937 - val_loss: 0.0115 - val_accuracy: 1.0000\n",
      "Epoch 114/150\n",
      "13/13 [==============================] - 0s 30ms/step - loss: 0.0278 - accuracy: 0.9937 - val_loss: 0.0120 - val_accuracy: 1.0000\n",
      "Epoch 115/150\n",
      "13/13 [==============================] - 0s 22ms/step - loss: 0.0460 - accuracy: 0.9795 - val_loss: 0.0117 - val_accuracy: 1.0000\n",
      "Epoch 116/150\n",
      "13/13 [==============================] - 0s 22ms/step - loss: 0.0241 - accuracy: 0.9969 - val_loss: 0.0110 - val_accuracy: 1.0000\n",
      "Epoch 117/150\n",
      "13/13 [==============================] - 0s 22ms/step - loss: 0.0386 - accuracy: 0.9836 - val_loss: 0.0117 - val_accuracy: 1.0000\n",
      "Epoch 118/150\n",
      "13/13 [==============================] - 0s 22ms/step - loss: 0.0314 - accuracy: 0.9891 - val_loss: 0.0121 - val_accuracy: 1.0000\n",
      "Epoch 119/150\n",
      "13/13 [==============================] - 0s 21ms/step - loss: 0.0280 - accuracy: 0.9843 - val_loss: 0.0120 - val_accuracy: 1.0000\n",
      "Epoch 120/150\n",
      "13/13 [==============================] - 0s 21ms/step - loss: 0.0338 - accuracy: 0.9885 - val_loss: 0.0112 - val_accuracy: 1.0000\n",
      "Epoch 121/150\n",
      "13/13 [==============================] - 0s 27ms/step - loss: 0.0326 - accuracy: 0.9904 - val_loss: 0.0107 - val_accuracy: 1.0000\n",
      "Epoch 122/150\n",
      "13/13 [==============================] - 0s 25ms/step - loss: 0.0255 - accuracy: 0.9910 - val_loss: 0.0104 - val_accuracy: 1.0000\n",
      "Epoch 123/150\n",
      "13/13 [==============================] - 0s 28ms/step - loss: 0.0276 - accuracy: 0.9893 - val_loss: 0.0106 - val_accuracy: 1.0000\n",
      "Epoch 124/150\n",
      "13/13 [==============================] - 0s 26ms/step - loss: 0.0215 - accuracy: 0.9937 - val_loss: 0.0107 - val_accuracy: 1.0000\n",
      "Epoch 125/150\n",
      "13/13 [==============================] - 0s 23ms/step - loss: 0.0286 - accuracy: 0.9925 - val_loss: 0.0110 - val_accuracy: 1.0000\n",
      "Epoch 126/150\n",
      "13/13 [==============================] - 0s 27ms/step - loss: 0.0234 - accuracy: 0.9953 - val_loss: 0.0101 - val_accuracy: 1.0000\n",
      "Epoch 127/150\n",
      "13/13 [==============================] - 0s 24ms/step - loss: 0.0261 - accuracy: 0.9911 - val_loss: 0.0094 - val_accuracy: 1.0000\n",
      "Epoch 128/150\n",
      "13/13 [==============================] - 0s 26ms/step - loss: 0.0919 - accuracy: 0.9728 - val_loss: 0.0095 - val_accuracy: 1.0000\n",
      "Epoch 129/150\n",
      "13/13 [==============================] - 0s 32ms/step - loss: 0.0185 - accuracy: 0.9950 - val_loss: 0.0102 - val_accuracy: 1.0000\n",
      "Epoch 130/150\n",
      "13/13 [==============================] - 0s 28ms/step - loss: 0.0268 - accuracy: 0.9947 - val_loss: 0.0110 - val_accuracy: 1.0000\n",
      "Epoch 131/150\n",
      "13/13 [==============================] - 0s 27ms/step - loss: 0.0332 - accuracy: 0.9849 - val_loss: 0.0106 - val_accuracy: 1.0000\n",
      "Epoch 132/150\n",
      "13/13 [==============================] - 0s 24ms/step - loss: 0.0289 - accuracy: 0.9978 - val_loss: 0.0095 - val_accuracy: 1.0000\n",
      "Epoch 133/150\n",
      "13/13 [==============================] - 0s 28ms/step - loss: 0.0220 - accuracy: 0.9891 - val_loss: 0.0097 - val_accuracy: 1.0000\n",
      "Epoch 134/150\n",
      "13/13 [==============================] - 0s 31ms/step - loss: 0.0325 - accuracy: 0.9883 - val_loss: 0.0100 - val_accuracy: 1.0000\n",
      "Epoch 135/150\n",
      "13/13 [==============================] - 0s 23ms/step - loss: 0.0223 - accuracy: 0.9940 - val_loss: 0.0090 - val_accuracy: 1.0000\n",
      "Epoch 136/150\n",
      "13/13 [==============================] - 0s 29ms/step - loss: 0.0264 - accuracy: 0.9818 - val_loss: 0.0097 - val_accuracy: 1.0000\n",
      "Epoch 137/150\n",
      "13/13 [==============================] - 0s 26ms/step - loss: 0.0231 - accuracy: 0.9883 - val_loss: 0.0104 - val_accuracy: 1.0000\n",
      "Epoch 138/150\n",
      "13/13 [==============================] - 0s 25ms/step - loss: 0.0206 - accuracy: 0.9917 - val_loss: 0.0106 - val_accuracy: 1.0000\n",
      "Epoch 139/150\n",
      "13/13 [==============================] - 0s 34ms/step - loss: 0.0348 - accuracy: 0.9843 - val_loss: 0.0094 - val_accuracy: 1.0000\n",
      "Epoch 140/150\n",
      "13/13 [==============================] - 0s 29ms/step - loss: 0.0141 - accuracy: 0.9954 - val_loss: 0.0085 - val_accuracy: 1.0000\n",
      "Epoch 141/150\n",
      "13/13 [==============================] - 0s 26ms/step - loss: 0.0347 - accuracy: 0.9908 - val_loss: 0.0087 - val_accuracy: 1.0000\n",
      "Epoch 142/150\n",
      "13/13 [==============================] - 0s 32ms/step - loss: 0.0297 - accuracy: 0.9905 - val_loss: 0.0087 - val_accuracy: 1.0000\n",
      "Epoch 143/150\n",
      "13/13 [==============================] - 0s 22ms/step - loss: 0.0193 - accuracy: 0.9939 - val_loss: 0.0083 - val_accuracy: 1.0000\n",
      "Epoch 144/150\n",
      "13/13 [==============================] - 0s 22ms/step - loss: 0.0501 - accuracy: 0.9786 - val_loss: 0.0079 - val_accuracy: 1.0000\n",
      "Epoch 145/150\n",
      "13/13 [==============================] - 0s 23ms/step - loss: 0.0220 - accuracy: 0.9902 - val_loss: 0.0072 - val_accuracy: 1.0000\n",
      "Epoch 146/150\n",
      "13/13 [==============================] - 0s 26ms/step - loss: 0.0328 - accuracy: 0.9819 - val_loss: 0.0070 - val_accuracy: 1.0000\n",
      "Epoch 147/150\n",
      "13/13 [==============================] - 0s 27ms/step - loss: 0.0464 - accuracy: 0.9855 - val_loss: 0.0074 - val_accuracy: 1.0000\n",
      "Epoch 148/150\n",
      "13/13 [==============================] - 0s 20ms/step - loss: 0.0257 - accuracy: 0.9921 - val_loss: 0.0072 - val_accuracy: 1.0000\n",
      "Epoch 149/150\n",
      "13/13 [==============================] - 0s 27ms/step - loss: 0.0212 - accuracy: 0.9956 - val_loss: 0.0075 - val_accuracy: 1.0000\n",
      "Epoch 150/150\n",
      "13/13 [==============================] - 0s 30ms/step - loss: 0.0637 - accuracy: 0.9792 - val_loss: 0.0076 - val_accuracy: 1.0000\n"
     ]
    }
   ],
   "source": [
    "history = classifier.fit(x_train, y_train, batch_size=32, epochs=150,validation_split = 0.2)"
   ]
  },
  {
   "cell_type": "markdown",
   "metadata": {},
   "source": [
    "## <span style=\"color:blue\">Predicciones</span>"
   ]
  },
  {
   "cell_type": "code",
   "execution_count": 16,
   "metadata": {},
   "outputs": [],
   "source": [
    "# Predicting the Test set results\n",
    "y_pred = classifier.predict(x_test)\n",
    "#y_pred = (y_pred > 0.5)\n",
    "y_pred[y_pred > 0.5] = 1\n",
    "y_pred[y_pred <=0.5] = 0"
   ]
  },
  {
   "cell_type": "markdown",
   "metadata": {},
   "source": [
    "## <span style=\"color:blue\">Matriz de confusión</span>"
   ]
  },
  {
   "cell_type": "code",
   "execution_count": 17,
   "metadata": {},
   "outputs": [],
   "source": [
    "cm = confusion_matrix(y_test, y_pred)"
   ]
  },
  {
   "cell_type": "code",
   "execution_count": 18,
   "metadata": {},
   "outputs": [
    {
     "name": "stdout",
     "output_type": "stream",
     "text": [
      "Our accuracy is 100.0%\n"
     ]
    }
   ],
   "source": [
    "print(\"Our accuracy is {}%\".format(((cm[0][0] + cm[1][1])/y_test.shape[0])*100))"
   ]
  },
  {
   "cell_type": "code",
   "execution_count": 19,
   "metadata": {},
   "outputs": [
    {
     "data": {
      "image/png": "[encoded data removed]",
      "text/plain": [
       "<Figure size 432x288 with 2 Axes>"
      ]
     },
     "metadata": {
      "needs_background": "light"
     },
     "output_type": "display_data"
    }
   ],
   "source": [
    "sns.heatmap(cm,annot=True)\n",
    "plt.savefig('h.png')"
   ]
  },
  {
   "cell_type": "markdown",
   "metadata": {},
   "source": [
    "## <span style=\"color:blue\">Evaluación del modelo</span> "
   ]
  },
  {
   "cell_type": "code",
   "execution_count": 20,
   "metadata": {},
   "outputs": [],
   "source": [
    "def plot_metric(history, metric):\n",
    "    train_metrics = history.history[metric]\n",
    "    val_metrics = history.history['val_'+metric]\n",
    "    epochs = range(1, len(train_metrics) + 1)\n",
    "    plt.plot(epochs, train_metrics, 'bo--')\n",
    "    plt.plot(epochs, val_metrics, 'ro-')\n",
    "    plt.title('Entrenamiento y validación '+ metric)\n",
    "    plt.xlabel(\"Epochs\")\n",
    "    plt.ylabel(metric)\n",
    "    plt.legend([\"train_\"+metric, 'val_'+metric])\n",
    "    plt.show()"
   ]
  },
  {
   "cell_type": "code",
   "execution_count": 21,
   "metadata": {},
   "outputs": [
    {
     "data": {
      "image/png": "[encoded data removed]",
      "text/plain": [
       "<Figure size 432x288 with 1 Axes>"
      ]
     },
     "metadata": {
      "needs_background": "light"
     },
     "output_type": "display_data"
    }
   ],
   "source": [
    "plot_metric(history, 'loss')"
   ]
  },
  {
   "cell_type": "code",
   "execution_count": 22,
   "metadata": {},
   "outputs": [
    {
     "data": {
      "image/png": "[encoded data removed]",
      "text/plain": [
       "<Figure size 432x288 with 1 Axes>"
      ]
     },
     "metadata": {
      "needs_background": "light"
     },
     "output_type": "display_data"
    }
   ],
   "source": [
    "plot_metric(history, 'accuracy')"
   ]
  },
  {
   "cell_type": "markdown",
   "metadata": {},
   "source": [
    "[Ir al inicio](#Contenido)"
   ]
  }
 ],
 "metadata": {
  "kernelspec": {
   "display_name": "Python 3 (ipykernel)",
   "language": "python",
   "name": "python3"
  },
  "language_info": {
   "codemirror_mode": {
    "name": "ipython",
    "version": 3
   },
   "file_extension": ".py",
   "mimetype": "text/x-python",
   "name": "python",
   "nbconvert_exporter": "python",
   "pygments_lexer": "ipython3",
   "version": "3.10.6"
  }
 },
 "nbformat": 4,
 "nbformat_minor": 4
}
