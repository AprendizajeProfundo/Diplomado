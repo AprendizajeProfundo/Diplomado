{
 "cells": [
  {
   "attachments": {},
   "cell_type": "markdown",
   "metadata": {},
   "source": [
    "<figure>\n",
    "<img src=\"../Imagenes/logo-final-ap.png\"  width=\"80\" height=\"80\" align=\"left\"/> \n",
    "</figure>\n",
    "\n",
    "# <span style=\"color:#4361EE\"><left>Aprendizaje Profundo</left></span>"
   ]
  },
  {
   "attachments": {},
   "cell_type": "markdown",
   "metadata": {},
   "source": [
    "# <span style=\"color:red\"><center>Diplomado en Inteligencia Artificial y Aprendizaje Profundo</center></span>"
   ]
  },
  {
   "attachments": {},
   "cell_type": "markdown",
   "metadata": {},
   "source": [
    "# <span style=\"color:green\"><center>Modelo de clasificación para detección de fraude en tarjetas de crédito</center></span>"
   ]
  },
  {
   "attachments": {},
   "cell_type": "markdown",
   "metadata": {},
   "source": [
    "<figure>\n",
    "<center>\n",
    "<img src=\"../Imagenes/Credit-cards.jpg\" width=600 height= 400 align=\"center\" />      \n",
    "</center>\n",
    "</figure>\n",
    "<a href=\"https://commons.wikimedia.org/wiki/File:Credit-cards.jpg\">Lotus Head from Johannesburg, Gauteng, South Africa</a>, <a href=\"http://creativecommons.org/licenses/by-sa/3.0/\">CC BY-SA 3.0</a>, via Wikimedia Commons"
   ]
  },
  {
   "attachments": {},
   "cell_type": "markdown",
   "metadata": {},
   "source": [
    "## <span style=\"color:#4361EE\">Profesores</span>"
   ]
  },
  {
   "attachments": {},
   "cell_type": "markdown",
   "metadata": {},
   "source": [
    "1. Alvaro  Montenegro, PhD, ammontenegrod@unal.edu.co\n",
    "1. Camilo José Torres Jiménez, Msc, cjtorresj@unal.edu.co\n",
    "1. Daniel  Montenegro, Msc, dextronomo@gmail.com "
   ]
  },
  {
   "attachments": {},
   "cell_type": "markdown",
   "metadata": {},
   "source": [
    "## <span style=\"color:#4361EE\">Asesora Medios y Marketing digital</span>"
   ]
  },
  {
   "attachments": {},
   "cell_type": "markdown",
   "metadata": {},
   "source": [
    "4. Maria del Pilar Montenegro, pmontenegro88@gmail.com\n",
    "5. Jessica López Mejía, jelopezme@unal.edu.co\n",
    "6. Venus Puertas, vpuertasg@unal.edu.co"
   ]
  },
  {
   "attachments": {},
   "cell_type": "markdown",
   "metadata": {},
   "source": [
    "## <span style=\"color:#4361EE\">Jefe Jurídica</span>"
   ]
  },
  {
   "attachments": {},
   "cell_type": "markdown",
   "metadata": {},
   "source": [
    "7. Paula Andrea Guzmán, guzmancruz.paula@gmail.com"
   ]
  },
  {
   "attachments": {},
   "cell_type": "markdown",
   "metadata": {},
   "source": [
    "## <span style=\"color:#4361EE\">Coordinador Jurídico</span>"
   ]
  },
  {
   "attachments": {},
   "cell_type": "markdown",
   "metadata": {},
   "source": [
    "8. David Fuentes, fuentesd065@gmail.com"
   ]
  },
  {
   "attachments": {},
   "cell_type": "markdown",
   "metadata": {},
   "source": [
    "## <span style=\"color:#4361EE\">Desarrolladores Principales</span>"
   ]
  },
  {
   "attachments": {},
   "cell_type": "markdown",
   "metadata": {},
   "source": [
    "9. Dairo Moreno, damoralesj@unal.edu.co\n",
    "10. Joan Castro, jocastroc@unal.edu.co\n",
    "11. Bryan Riveros, briveros@unal.edu.co\n",
    "12. Rosmer Vargas, rovargasc@unal.edu.co"
   ]
  },
  {
   "attachments": {},
   "cell_type": "markdown",
   "metadata": {},
   "source": [
    "## <span style=\"color:#4361EE\">Expertos en Bases de Datos</span>"
   ]
  },
  {
   "attachments": {},
   "cell_type": "markdown",
   "metadata": {},
   "source": [
    "13. Giovvani Barrera, udgiovanni@gmail.com\n",
    "14. Camilo Chitivo, cchitivo@unal.edu.co"
   ]
  },
  {
   "attachments": {},
   "cell_type": "markdown",
   "metadata": {},
   "source": [
    "## <span style=\"color:#4361EE\">Contenido</span> "
   ]
  },
  {
   "attachments": {},
   "cell_type": "markdown",
   "metadata": {},
   "source": [
    "* [Introducción](#Introducción)\n",
    "* [Importa módulos](#Importa-módulos)\n",
    "* [Los datos](#Los-datos)\n",
    "* [Lee los datos](#Lee-los-datos)\n",
    "* [Lectura de datos](#Lectura-de-datos)\n",
    "* [Preprocesamiento](#Preprocesamiento)\n",
    "* [Analiza el desbalance en los targets](#Analiza-el-desbalance-en-los-targets)\n",
    "* [Crea el modelo](#Crea-el-modelo)\n",
    "* [Define métricas y compila](#Define-métricas-y-compila)\n",
    "* [Entrena](#Entrena)\n",
    "* [Predicciones](#Predicciones)\n",
    "* [Resultados](#Resultados)\n",
    "* [Evaluación del modelo](#Evaluación-del-modelo)\n",
    "* [Conclusiones](#Conclusiones)"
   ]
  },
  {
   "attachments": {},
   "cell_type": "markdown",
   "metadata": {},
   "source": [
    "## <span style=\"color:#4361EE\">Introducción</span> "
   ]
  },
  {
   "attachments": {},
   "cell_type": "markdown",
   "metadata": {},
   "source": [
    "En esta lección hacemos ejemplo de clasificación para detectar fraude en el uso de trajeta de crédito. El ejemplo es adaptado de  [fchollet](https://github.com/keras-team/keras-io/blob/master/examples/structured_data/imbalanced_classification.py). Los datos están disponible en [Kaggle Credit Card Fraud Detection](https://www.kaggle.com/mlg-ulb/creditcardfraud/).\n",
    "\n",
    "El propósito del ejemplo es ilustrar el caso de datos categóricos altamente desbalanceados. Un  problema muy común en la práctica. Usaremos varias métricas para evaluar el modelo.\n",
    "\n",
    "La técnica se puede extender a la detección de datos anómalos en grades conjuntos de datos."
   ]
  },
  {
   "attachments": {},
   "cell_type": "markdown",
   "metadata": {},
   "source": [
    "## <span style=\"color:#4361EE\">Importa módulos</span> "
   ]
  },
  {
   "cell_type": "code",
   "execution_count": 1,
   "metadata": {},
   "outputs": [
    {
     "name": "stdout",
     "output_type": "stream",
     "text": [
      "2.4.1\n"
     ]
    }
   ],
   "source": [
    "from __future__ import absolute_import, division, print_function, unicode_literals\n",
    "#\n",
    "#import csv\n",
    "import pandas as pd\n",
    "import numpy as np\n",
    "import matplotlib.pyplot as plt\n",
    "import seaborn as sns\n",
    "import tensorflow as tf\n",
    "#\n",
    "\n",
    "from tensorflow.keras.models import Model\n",
    "#\n",
    "from tensorflow.keras.layers import Dense, Input, Activation, Dropout\n",
    "#\n",
    "from tensorflow.keras.utils import plot_model\n",
    "#\n",
    "from sklearn.preprocessing import StandardScaler\n",
    "from sklearn.metrics import confusion_matrix\n",
    "\n",
    "#\n",
    "from tensorflow.keras. metrics import FalseNegatives, FalsePositives, TrueNegatives\n",
    "from tensorflow.keras. metrics import TruePositives, Precision, Recall\n",
    "#\n",
    "from tensorflow.keras.optimizers import Adam\n",
    "#\n",
    "from tensorflow.keras import callbacks\n",
    "#\n",
    "from sklearn.metrics import roc_curve, auc\n",
    "from sklearn.metrics import roc_auc_score\n",
    "print(tf.__version__)"
   ]
  },
  {
   "attachments": {},
   "cell_type": "markdown",
   "metadata": {},
   "source": [
    "## <span style=\"color:#4361EE\">Los datos</span> "
   ]
  },
  {
   "attachments": {},
   "cell_type": "markdown",
   "metadata": {},
   "source": [
    "Excepto por la transacción y el monto, no sabemos cuáles son las otras columnas (por razones de privacidad). Lo único que sabemos es que esas columnas que se desconocen ya se han escalado. Son 284.807 registros y 31 variables.\n",
    "\n",
    "- *El monto de la transacción* es relativamente pequeño. La media de todas las transacciones realizadas es de aproximadamente USD 88.\n",
    "\n",
    "- *No hay valores faltantes*\n",
    "\n",
    "- *La mayoría de las transacciones fueron no fraudulentas* (99,82%) del tiempo, mientras que las transacciones fraudulentas ocurren (018%) del tiempo en el marco de datos.\n",
    "\n",
    "- *Transformación PCA*: La descripción de los datos dice que todas las características pasaron por una transformación PCA (técnica de reducción de dimensionalidad) (excepto por tiempo y cantidad).\n",
    "\n",
    "- *Escalado*: tenga en cuenta que para implementar una transformación de PCA es necesario escalar previamente las variables (features). (En este caso, todas las variables del grupo  V se han escalado o al menos eso es lo que suponemos que hicieron las personas que desarrollan el conjunto de datos)."
   ]
  },
  {
   "attachments": {},
   "cell_type": "markdown",
   "metadata": {},
   "source": [
    "## <span style=\"color:#4361EE\">Lee los datos</span> "
   ]
  },
  {
   "cell_type": "code",
   "execution_count": 3,
   "metadata": {},
   "outputs": [
    {
     "data": {
      "text/html": [
       "<div>\n",
       "<style scoped>\n",
       "    .dataframe tbody tr th:only-of-type {\n",
       "        vertical-align: middle;\n",
       "    }\n",
       "\n",
       "    .dataframe tbody tr th {\n",
       "        vertical-align: top;\n",
       "    }\n",
       "\n",
       "    .dataframe thead th {\n",
       "        text-align: right;\n",
       "    }\n",
       "</style>\n",
       "<table border=\"1\" class=\"dataframe\">\n",
       "  <thead>\n",
       "    <tr style=\"text-align: right;\">\n",
       "      <th></th>\n",
       "      <th>Time</th>\n",
       "      <th>V1</th>\n",
       "      <th>V2</th>\n",
       "      <th>V3</th>\n",
       "      <th>V4</th>\n",
       "      <th>V5</th>\n",
       "      <th>V6</th>\n",
       "      <th>V7</th>\n",
       "      <th>V8</th>\n",
       "      <th>V9</th>\n",
       "      <th>...</th>\n",
       "      <th>V21</th>\n",
       "      <th>V22</th>\n",
       "      <th>V23</th>\n",
       "      <th>V24</th>\n",
       "      <th>V25</th>\n",
       "      <th>V26</th>\n",
       "      <th>V27</th>\n",
       "      <th>V28</th>\n",
       "      <th>Amount</th>\n",
       "      <th>Class</th>\n",
       "    </tr>\n",
       "  </thead>\n",
       "  <tbody>\n",
       "    <tr>\n",
       "      <th>0</th>\n",
       "      <td>0.0</td>\n",
       "      <td>-1.359807</td>\n",
       "      <td>-0.072781</td>\n",
       "      <td>2.536347</td>\n",
       "      <td>1.378155</td>\n",
       "      <td>-0.338321</td>\n",
       "      <td>0.462388</td>\n",
       "      <td>0.239599</td>\n",
       "      <td>0.098698</td>\n",
       "      <td>0.363787</td>\n",
       "      <td>...</td>\n",
       "      <td>-0.018307</td>\n",
       "      <td>0.277838</td>\n",
       "      <td>-0.110474</td>\n",
       "      <td>0.066928</td>\n",
       "      <td>0.128539</td>\n",
       "      <td>-0.189115</td>\n",
       "      <td>0.133558</td>\n",
       "      <td>-0.021053</td>\n",
       "      <td>149.62</td>\n",
       "      <td>0</td>\n",
       "    </tr>\n",
       "    <tr>\n",
       "      <th>1</th>\n",
       "      <td>0.0</td>\n",
       "      <td>1.191857</td>\n",
       "      <td>0.266151</td>\n",
       "      <td>0.166480</td>\n",
       "      <td>0.448154</td>\n",
       "      <td>0.060018</td>\n",
       "      <td>-0.082361</td>\n",
       "      <td>-0.078803</td>\n",
       "      <td>0.085102</td>\n",
       "      <td>-0.255425</td>\n",
       "      <td>...</td>\n",
       "      <td>-0.225775</td>\n",
       "      <td>-0.638672</td>\n",
       "      <td>0.101288</td>\n",
       "      <td>-0.339846</td>\n",
       "      <td>0.167170</td>\n",
       "      <td>0.125895</td>\n",
       "      <td>-0.008983</td>\n",
       "      <td>0.014724</td>\n",
       "      <td>2.69</td>\n",
       "      <td>0</td>\n",
       "    </tr>\n",
       "    <tr>\n",
       "      <th>2</th>\n",
       "      <td>1.0</td>\n",
       "      <td>-1.358354</td>\n",
       "      <td>-1.340163</td>\n",
       "      <td>1.773209</td>\n",
       "      <td>0.379780</td>\n",
       "      <td>-0.503198</td>\n",
       "      <td>1.800499</td>\n",
       "      <td>0.791461</td>\n",
       "      <td>0.247676</td>\n",
       "      <td>-1.514654</td>\n",
       "      <td>...</td>\n",
       "      <td>0.247998</td>\n",
       "      <td>0.771679</td>\n",
       "      <td>0.909412</td>\n",
       "      <td>-0.689281</td>\n",
       "      <td>-0.327642</td>\n",
       "      <td>-0.139097</td>\n",
       "      <td>-0.055353</td>\n",
       "      <td>-0.059752</td>\n",
       "      <td>378.66</td>\n",
       "      <td>0</td>\n",
       "    </tr>\n",
       "    <tr>\n",
       "      <th>3</th>\n",
       "      <td>1.0</td>\n",
       "      <td>-0.966272</td>\n",
       "      <td>-0.185226</td>\n",
       "      <td>1.792993</td>\n",
       "      <td>-0.863291</td>\n",
       "      <td>-0.010309</td>\n",
       "      <td>1.247203</td>\n",
       "      <td>0.237609</td>\n",
       "      <td>0.377436</td>\n",
       "      <td>-1.387024</td>\n",
       "      <td>...</td>\n",
       "      <td>-0.108300</td>\n",
       "      <td>0.005274</td>\n",
       "      <td>-0.190321</td>\n",
       "      <td>-1.175575</td>\n",
       "      <td>0.647376</td>\n",
       "      <td>-0.221929</td>\n",
       "      <td>0.062723</td>\n",
       "      <td>0.061458</td>\n",
       "      <td>123.50</td>\n",
       "      <td>0</td>\n",
       "    </tr>\n",
       "    <tr>\n",
       "      <th>4</th>\n",
       "      <td>2.0</td>\n",
       "      <td>-1.158233</td>\n",
       "      <td>0.877737</td>\n",
       "      <td>1.548718</td>\n",
       "      <td>0.403034</td>\n",
       "      <td>-0.407193</td>\n",
       "      <td>0.095921</td>\n",
       "      <td>0.592941</td>\n",
       "      <td>-0.270533</td>\n",
       "      <td>0.817739</td>\n",
       "      <td>...</td>\n",
       "      <td>-0.009431</td>\n",
       "      <td>0.798278</td>\n",
       "      <td>-0.137458</td>\n",
       "      <td>0.141267</td>\n",
       "      <td>-0.206010</td>\n",
       "      <td>0.502292</td>\n",
       "      <td>0.219422</td>\n",
       "      <td>0.215153</td>\n",
       "      <td>69.99</td>\n",
       "      <td>0</td>\n",
       "    </tr>\n",
       "    <tr>\n",
       "      <th>...</th>\n",
       "      <td>...</td>\n",
       "      <td>...</td>\n",
       "      <td>...</td>\n",
       "      <td>...</td>\n",
       "      <td>...</td>\n",
       "      <td>...</td>\n",
       "      <td>...</td>\n",
       "      <td>...</td>\n",
       "      <td>...</td>\n",
       "      <td>...</td>\n",
       "      <td>...</td>\n",
       "      <td>...</td>\n",
       "      <td>...</td>\n",
       "      <td>...</td>\n",
       "      <td>...</td>\n",
       "      <td>...</td>\n",
       "      <td>...</td>\n",
       "      <td>...</td>\n",
       "      <td>...</td>\n",
       "      <td>...</td>\n",
       "      <td>...</td>\n",
       "    </tr>\n",
       "    <tr>\n",
       "      <th>284802</th>\n",
       "      <td>172786.0</td>\n",
       "      <td>-11.881118</td>\n",
       "      <td>10.071785</td>\n",
       "      <td>-9.834783</td>\n",
       "      <td>-2.066656</td>\n",
       "      <td>-5.364473</td>\n",
       "      <td>-2.606837</td>\n",
       "      <td>-4.918215</td>\n",
       "      <td>7.305334</td>\n",
       "      <td>1.914428</td>\n",
       "      <td>...</td>\n",
       "      <td>0.213454</td>\n",
       "      <td>0.111864</td>\n",
       "      <td>1.014480</td>\n",
       "      <td>-0.509348</td>\n",
       "      <td>1.436807</td>\n",
       "      <td>0.250034</td>\n",
       "      <td>0.943651</td>\n",
       "      <td>0.823731</td>\n",
       "      <td>0.77</td>\n",
       "      <td>0</td>\n",
       "    </tr>\n",
       "    <tr>\n",
       "      <th>284803</th>\n",
       "      <td>172787.0</td>\n",
       "      <td>-0.732789</td>\n",
       "      <td>-0.055080</td>\n",
       "      <td>2.035030</td>\n",
       "      <td>-0.738589</td>\n",
       "      <td>0.868229</td>\n",
       "      <td>1.058415</td>\n",
       "      <td>0.024330</td>\n",
       "      <td>0.294869</td>\n",
       "      <td>0.584800</td>\n",
       "      <td>...</td>\n",
       "      <td>0.214205</td>\n",
       "      <td>0.924384</td>\n",
       "      <td>0.012463</td>\n",
       "      <td>-1.016226</td>\n",
       "      <td>-0.606624</td>\n",
       "      <td>-0.395255</td>\n",
       "      <td>0.068472</td>\n",
       "      <td>-0.053527</td>\n",
       "      <td>24.79</td>\n",
       "      <td>0</td>\n",
       "    </tr>\n",
       "    <tr>\n",
       "      <th>284804</th>\n",
       "      <td>172788.0</td>\n",
       "      <td>1.919565</td>\n",
       "      <td>-0.301254</td>\n",
       "      <td>-3.249640</td>\n",
       "      <td>-0.557828</td>\n",
       "      <td>2.630515</td>\n",
       "      <td>3.031260</td>\n",
       "      <td>-0.296827</td>\n",
       "      <td>0.708417</td>\n",
       "      <td>0.432454</td>\n",
       "      <td>...</td>\n",
       "      <td>0.232045</td>\n",
       "      <td>0.578229</td>\n",
       "      <td>-0.037501</td>\n",
       "      <td>0.640134</td>\n",
       "      <td>0.265745</td>\n",
       "      <td>-0.087371</td>\n",
       "      <td>0.004455</td>\n",
       "      <td>-0.026561</td>\n",
       "      <td>67.88</td>\n",
       "      <td>0</td>\n",
       "    </tr>\n",
       "    <tr>\n",
       "      <th>284805</th>\n",
       "      <td>172788.0</td>\n",
       "      <td>-0.240440</td>\n",
       "      <td>0.530483</td>\n",
       "      <td>0.702510</td>\n",
       "      <td>0.689799</td>\n",
       "      <td>-0.377961</td>\n",
       "      <td>0.623708</td>\n",
       "      <td>-0.686180</td>\n",
       "      <td>0.679145</td>\n",
       "      <td>0.392087</td>\n",
       "      <td>...</td>\n",
       "      <td>0.265245</td>\n",
       "      <td>0.800049</td>\n",
       "      <td>-0.163298</td>\n",
       "      <td>0.123205</td>\n",
       "      <td>-0.569159</td>\n",
       "      <td>0.546668</td>\n",
       "      <td>0.108821</td>\n",
       "      <td>0.104533</td>\n",
       "      <td>10.00</td>\n",
       "      <td>0</td>\n",
       "    </tr>\n",
       "    <tr>\n",
       "      <th>284806</th>\n",
       "      <td>172792.0</td>\n",
       "      <td>-0.533413</td>\n",
       "      <td>-0.189733</td>\n",
       "      <td>0.703337</td>\n",
       "      <td>-0.506271</td>\n",
       "      <td>-0.012546</td>\n",
       "      <td>-0.649617</td>\n",
       "      <td>1.577006</td>\n",
       "      <td>-0.414650</td>\n",
       "      <td>0.486180</td>\n",
       "      <td>...</td>\n",
       "      <td>0.261057</td>\n",
       "      <td>0.643078</td>\n",
       "      <td>0.376777</td>\n",
       "      <td>0.008797</td>\n",
       "      <td>-0.473649</td>\n",
       "      <td>-0.818267</td>\n",
       "      <td>-0.002415</td>\n",
       "      <td>0.013649</td>\n",
       "      <td>217.00</td>\n",
       "      <td>0</td>\n",
       "    </tr>\n",
       "  </tbody>\n",
       "</table>\n",
       "<p>284807 rows × 31 columns</p>\n",
       "</div>"
      ],
      "text/plain": [
       "            Time         V1         V2        V3        V4        V5  \\\n",
       "0            0.0  -1.359807  -0.072781  2.536347  1.378155 -0.338321   \n",
       "1            0.0   1.191857   0.266151  0.166480  0.448154  0.060018   \n",
       "2            1.0  -1.358354  -1.340163  1.773209  0.379780 -0.503198   \n",
       "3            1.0  -0.966272  -0.185226  1.792993 -0.863291 -0.010309   \n",
       "4            2.0  -1.158233   0.877737  1.548718  0.403034 -0.407193   \n",
       "...          ...        ...        ...       ...       ...       ...   \n",
       "284802  172786.0 -11.881118  10.071785 -9.834783 -2.066656 -5.364473   \n",
       "284803  172787.0  -0.732789  -0.055080  2.035030 -0.738589  0.868229   \n",
       "284804  172788.0   1.919565  -0.301254 -3.249640 -0.557828  2.630515   \n",
       "284805  172788.0  -0.240440   0.530483  0.702510  0.689799 -0.377961   \n",
       "284806  172792.0  -0.533413  -0.189733  0.703337 -0.506271 -0.012546   \n",
       "\n",
       "              V6        V7        V8        V9  ...       V21       V22  \\\n",
       "0       0.462388  0.239599  0.098698  0.363787  ... -0.018307  0.277838   \n",
       "1      -0.082361 -0.078803  0.085102 -0.255425  ... -0.225775 -0.638672   \n",
       "2       1.800499  0.791461  0.247676 -1.514654  ...  0.247998  0.771679   \n",
       "3       1.247203  0.237609  0.377436 -1.387024  ... -0.108300  0.005274   \n",
       "4       0.095921  0.592941 -0.270533  0.817739  ... -0.009431  0.798278   \n",
       "...          ...       ...       ...       ...  ...       ...       ...   \n",
       "284802 -2.606837 -4.918215  7.305334  1.914428  ...  0.213454  0.111864   \n",
       "284803  1.058415  0.024330  0.294869  0.584800  ...  0.214205  0.924384   \n",
       "284804  3.031260 -0.296827  0.708417  0.432454  ...  0.232045  0.578229   \n",
       "284805  0.623708 -0.686180  0.679145  0.392087  ...  0.265245  0.800049   \n",
       "284806 -0.649617  1.577006 -0.414650  0.486180  ...  0.261057  0.643078   \n",
       "\n",
       "             V23       V24       V25       V26       V27       V28  Amount  \\\n",
       "0      -0.110474  0.066928  0.128539 -0.189115  0.133558 -0.021053  149.62   \n",
       "1       0.101288 -0.339846  0.167170  0.125895 -0.008983  0.014724    2.69   \n",
       "2       0.909412 -0.689281 -0.327642 -0.139097 -0.055353 -0.059752  378.66   \n",
       "3      -0.190321 -1.175575  0.647376 -0.221929  0.062723  0.061458  123.50   \n",
       "4      -0.137458  0.141267 -0.206010  0.502292  0.219422  0.215153   69.99   \n",
       "...          ...       ...       ...       ...       ...       ...     ...   \n",
       "284802  1.014480 -0.509348  1.436807  0.250034  0.943651  0.823731    0.77   \n",
       "284803  0.012463 -1.016226 -0.606624 -0.395255  0.068472 -0.053527   24.79   \n",
       "284804 -0.037501  0.640134  0.265745 -0.087371  0.004455 -0.026561   67.88   \n",
       "284805 -0.163298  0.123205 -0.569159  0.546668  0.108821  0.104533   10.00   \n",
       "284806  0.376777  0.008797 -0.473649 -0.818267 -0.002415  0.013649  217.00   \n",
       "\n",
       "        Class  \n",
       "0           0  \n",
       "1           0  \n",
       "2           0  \n",
       "3           0  \n",
       "4           0  \n",
       "...       ...  \n",
       "284802      0  \n",
       "284803      0  \n",
       "284804      0  \n",
       "284805      0  \n",
       "284806      0  \n",
       "\n",
       "[284807 rows x 31 columns]"
      ]
     },
     "execution_count": 3,
     "metadata": {},
     "output_type": "execute_result"
    }
   ],
   "source": [
    "fname = '../Datos/fraude/creditcard.csv'\n",
    "training = pd.read_csv(fname)\n",
    "training"
   ]
  },
  {
   "attachments": {},
   "cell_type": "markdown",
   "metadata": {},
   "source": [
    "## <span style=\"color:#4361EE\">Preprocesamiento</span> "
   ]
  },
  {
   "attachments": {},
   "cell_type": "markdown",
   "metadata": {},
   "source": [
    "### <span style=\"color:#4CC9F0\">Construye tensores para entrada y salida</span>"
   ]
  },
  {
   "cell_type": "code",
   "execution_count": 4,
   "metadata": {},
   "outputs": [
    {
     "name": "stdout",
     "output_type": "stream",
     "text": [
      "tamaño de los targets:  (284807,)\n",
      "tamaño de los features:  (284807, 30)\n"
     ]
    }
   ],
   "source": [
    "# Separa features y targest\n",
    "targets = training.pop('Class')\n",
    "targets = np.array(targets, dtype = 'uint8')\n",
    "targets.reshape((targets.shape[0],1))\n",
    "#\n",
    "features = np.array(training,dtype = 'float32' )\n",
    "#\n",
    "print(\"tamaño de los targets: \",targets.shape)\n",
    "print(\"tamaño de los features: \",features.shape)"
   ]
  },
  {
   "attachments": {},
   "cell_type": "markdown",
   "metadata": {},
   "source": [
    "### <span style=\"color:#4CC9F0\">Prepara datos de entrenamiento y de validación</span>"
   ]
  },
  {
   "cell_type": "code",
   "execution_count": 5,
   "metadata": {},
   "outputs": [
    {
     "name": "stdout",
     "output_type": "stream",
     "text": [
      "Number of training samples: 227846\n",
      "Number of validation samples: 56961\n"
     ]
    }
   ],
   "source": [
    "#\n",
    "num_val_samples = int(len(features) * 0.2)\n",
    "train_features = features[:-num_val_samples]\n",
    "train_targets = targets[:-num_val_samples]\n",
    "val_features = features[-num_val_samples:]\n",
    "val_targets = targets[-num_val_samples:]\n",
    "\n",
    "print(\"Number of training samples:\", len(train_features))\n",
    "print(\"Number of validation samples:\", len(val_features))"
   ]
  },
  {
   "attachments": {},
   "cell_type": "markdown",
   "metadata": {},
   "source": [
    "### <span style=\"color:#4CC9F0\">Normaliza los datos</span>"
   ]
  },
  {
   "cell_type": "code",
   "execution_count": 6,
   "metadata": {},
   "outputs": [],
   "source": [
    "# crea el objeto StandardScaler\n",
    "scaler = StandardScaler()\n",
    "\n",
    "# Ajusta los parámetros del scaler\n",
    "scaler.fit(train_features)\n",
    "\n",
    "# escala training y test\n",
    "train_features = scaler.transform(train_features)\n",
    "val_features = scaler.transform(val_features )\n"
   ]
  },
  {
   "attachments": {},
   "cell_type": "markdown",
   "metadata": {},
   "source": [
    "## <span style=\"color:#4361EE\">Analiza el desbalance en los targets</span>"
   ]
  },
  {
   "cell_type": "code",
   "execution_count": 7,
   "metadata": {},
   "outputs": [
    {
     "name": "stdout",
     "output_type": "stream",
     "text": [
      "Number of positive samples in training data: 417 (0.18% of total)\n"
     ]
    }
   ],
   "source": [
    "# Cuenta las frecuencias de los datos\n",
    "counts = np.bincount(train_targets)\n",
    "print(\n",
    "    \"Number of positive samples in training data: {} ({:.2f}% of total)\".format(\n",
    "        counts[1], 100 * float(counts[1]) / len(train_targets)\n",
    "    )\n",
    ")\n",
    "\n",
    "# Crea los pesos para el entrenamiento. Más peso a los menos frecuentes (1)\n",
    "weight_for_0 = 1.0 / counts[0]\n",
    "weight_for_1 = 1.0 / counts[1]"
   ]
  },
  {
   "cell_type": "code",
   "execution_count": 9,
   "metadata": {},
   "outputs": [
    {
     "name": "stdout",
     "output_type": "stream",
     "text": [
      "0.002398081534772182\n",
      "4.396976638863118e-06\n"
     ]
    }
   ],
   "source": [
    "print(weight_for_1)\n",
    "print(weight_for_0)"
   ]
  },
  {
   "attachments": {},
   "cell_type": "markdown",
   "metadata": {},
   "source": [
    "## <span style=\"color:#4361EE\">Crea el modelo</span> "
   ]
  },
  {
   "cell_type": "code",
   "execution_count": 10,
   "metadata": {},
   "outputs": [],
   "source": [
    "inputs = Input(shape=(train_features.shape[1],),name='capa_entrada')\n",
    "\n",
    "# vamos construyendo capa por capa\n",
    "x = Activation('relu')(inputs)\n",
    "x = Dense(256, activation='relu',name='primera_capa_oculta')(x)\n",
    "x = Dropout(0.3)(x)\n",
    "x = Dense(256, activation='relu',name='segunda_capa_oculta')(x)\n",
    "x = Dropout(0.3)(x)\n",
    "outputs = Dense(1, activation='sigmoid', name='capa_salida')(x)\n",
    "\n",
    "# Creamos ahora el modelo\n",
    "model = Model(inputs=inputs, outputs=outputs)\n"
   ]
  },
  {
   "attachments": {},
   "cell_type": "markdown",
   "metadata": {},
   "source": [
    "### <span style=\"color:#4CC9F0\">Summary</span>"
   ]
  },
  {
   "cell_type": "code",
   "execution_count": 11,
   "metadata": {},
   "outputs": [
    {
     "name": "stdout",
     "output_type": "stream",
     "text": [
      "Model: \"model\"\n",
      "_________________________________________________________________\n",
      "Layer (type)                 Output Shape              Param #   \n",
      "=================================================================\n",
      "capa_entrada (InputLayer)    [(None, 30)]              0         \n",
      "_________________________________________________________________\n",
      "activation (Activation)      (None, 30)                0         \n",
      "_________________________________________________________________\n",
      "primera_capa_oculta (Dense)  (None, 256)               7936      \n",
      "_________________________________________________________________\n",
      "dropout (Dropout)            (None, 256)               0         \n",
      "_________________________________________________________________\n",
      "segunda_capa_oculta (Dense)  (None, 256)               65792     \n",
      "_________________________________________________________________\n",
      "dropout_1 (Dropout)          (None, 256)               0         \n",
      "_________________________________________________________________\n",
      "capa_salida (Dense)          (None, 1)                 257       \n",
      "=================================================================\n",
      "Total params: 73,985\n",
      "Trainable params: 73,985\n",
      "Non-trainable params: 0\n",
      "_________________________________________________________________\n"
     ]
    },
    {
     "data": {
      "image/png": "[encoded data removed]",
      "text/plain": [
       "<IPython.core.display.Image object>"
      ]
     },
     "execution_count": 11,
     "metadata": {},
     "output_type": "execute_result"
    }
   ],
   "source": [
    "model.summary()\n",
    "plot_model(model, to_file='../Imagenes/fraude_model.png', \n",
    "           show_shapes=True)"
   ]
  },
  {
   "attachments": {},
   "cell_type": "markdown",
   "metadata": {},
   "source": [
    "## <span style=\"color:#4361EE\">Define métricas y compila</span> "
   ]
  },
  {
   "attachments": {},
   "cell_type": "markdown",
   "metadata": {},
   "source": [
    "- **accuracy_score**: En la clasificación con múltiples etiquetas, esta función calcula la exactitud del subconjunto: el conjunto de etiquetas predichas para una muestra que coincide exactamente con el conjunto de etiquetas correspondiente en y_true.\n",
    "- **precision_score**: es la razón $\\frac{tp }{tp + fp}$ en donde $tp$ es el número de positivos verdadero y $fp$ el número de falsos positivos. El mejor valor es 1 y el peor valor es 0.\n",
    "- **recall_score**:  es la relación $\\frac{tp }{tp + fn}$ donde $tp$ es el número de verdaderos positivos y $fn$ el número de falsos negativos. El recuerdo es intuitivamente la capacidad del clasificador para encontrar todas las muestras positivas. El mejor valor es 1 y el peor valor es 0."
   ]
  },
  {
   "cell_type": "code",
   "execution_count": 12,
   "metadata": {},
   "outputs": [],
   "source": [
    "# métricas\n",
    "metrics = [\n",
    "    FalseNegatives(name=\"fn\"),\n",
    "    FalsePositives(name=\"fp\"),\n",
    "    TrueNegatives(name=\"tn\"),\n",
    "    TruePositives(name=\"tp\"),\n",
    "    Precision(name=\"precision\"),\n",
    "    Recall(name=\"recall\"),\n",
    "]\n",
    "\n",
    "model.compile(optimizer=Adam(1e-2), loss=\"binary_crossentropy\", metrics=metrics)"
   ]
  },
  {
   "attachments": {},
   "cell_type": "markdown",
   "metadata": {},
   "source": [
    "## <span style=\"color:#4361EE\">Entrena</span>  "
   ]
  },
  {
   "attachments": {},
   "cell_type": "markdown",
   "metadata": {},
   "source": [
    "Tiene en cuenta los pesos de las transacciones"
   ]
  },
  {
   "cell_type": "code",
   "execution_count": 13,
   "metadata": {},
   "outputs": [
    {
     "name": "stdout",
     "output_type": "stream",
     "text": [
      "Epoch 1/30\n",
      "112/112 - 18s - loss: 2.5566e-06 - fn: 47.0000 - fp: 29882.0000 - tn: 197547.0000 - tp: 370.0000 - precision: 0.0122 - recall: 0.8873 - val_loss: 0.0420 - val_fn: 16.0000 - val_fp: 265.0000 - val_tn: 56621.0000 - val_tp: 59.0000 - val_precision: 0.1821 - val_recall: 0.7867\n",
      "Epoch 2/30\n",
      "112/112 - 8s - loss: 1.6997e-06 - fn: 41.0000 - fp: 8006.0000 - tn: 219423.0000 - tp: 376.0000 - precision: 0.0449 - recall: 0.9017 - val_loss: 0.1765 - val_fn: 7.0000 - val_fp: 2572.0000 - val_tn: 54314.0000 - val_tp: 68.0000 - val_precision: 0.0258 - val_recall: 0.9067\n",
      "Epoch 3/30\n",
      "112/112 - 8s - loss: 1.6099e-06 - fn: 41.0000 - fp: 8878.0000 - tn: 218551.0000 - tp: 376.0000 - precision: 0.0406 - recall: 0.9017 - val_loss: 0.0939 - val_fn: 10.0000 - val_fp: 1488.0000 - val_tn: 55398.0000 - val_tp: 65.0000 - val_precision: 0.0419 - val_recall: 0.8667\n",
      "Epoch 4/30\n",
      "112/112 - 8s - loss: 1.4978e-06 - fn: 43.0000 - fp: 7235.0000 - tn: 220194.0000 - tp: 374.0000 - precision: 0.0492 - recall: 0.8969 - val_loss: 0.0420 - val_fn: 13.0000 - val_fp: 279.0000 - val_tn: 56607.0000 - val_tp: 62.0000 - val_precision: 0.1818 - val_recall: 0.8267\n",
      "Epoch 5/30\n",
      "112/112 - 10s - loss: 1.5247e-06 - fn: 37.0000 - fp: 7839.0000 - tn: 219590.0000 - tp: 380.0000 - precision: 0.0462 - recall: 0.9113 - val_loss: 0.1506 - val_fn: 9.0000 - val_fp: 2079.0000 - val_tn: 54807.0000 - val_tp: 66.0000 - val_precision: 0.0308 - val_recall: 0.8800\n",
      "Epoch 6/30\n",
      "112/112 - 8s - loss: 1.3110e-06 - fn: 35.0000 - fp: 5885.0000 - tn: 221544.0000 - tp: 382.0000 - precision: 0.0610 - recall: 0.9161 - val_loss: 0.0408 - val_fn: 12.0000 - val_fp: 512.0000 - val_tn: 56374.0000 - val_tp: 63.0000 - val_precision: 0.1096 - val_recall: 0.8400\n",
      "Epoch 7/30\n",
      "112/112 - 8s - loss: 1.4277e-06 - fn: 27.0000 - fp: 8756.0000 - tn: 218673.0000 - tp: 390.0000 - precision: 0.0426 - recall: 0.9353 - val_loss: 0.0642 - val_fn: 12.0000 - val_fp: 801.0000 - val_tn: 56085.0000 - val_tp: 63.0000 - val_precision: 0.0729 - val_recall: 0.8400\n",
      "Epoch 8/30\n",
      "112/112 - 8s - loss: 1.2510e-06 - fn: 33.0000 - fp: 6961.0000 - tn: 220468.0000 - tp: 384.0000 - precision: 0.0523 - recall: 0.9209 - val_loss: 0.0816 - val_fn: 9.0000 - val_fp: 1471.0000 - val_tn: 55415.0000 - val_tp: 66.0000 - val_precision: 0.0429 - val_recall: 0.8800\n",
      "Epoch 9/30\n",
      "112/112 - 8s - loss: 1.0318e-06 - fn: 23.0000 - fp: 6368.0000 - tn: 221061.0000 - tp: 394.0000 - precision: 0.0583 - recall: 0.9448 - val_loss: 0.0197 - val_fn: 13.0000 - val_fp: 270.0000 - val_tn: 56616.0000 - val_tp: 62.0000 - val_precision: 0.1867 - val_recall: 0.8267\n",
      "Epoch 10/30\n",
      "112/112 - 9s - loss: 1.0231e-06 - fn: 28.0000 - fp: 6636.0000 - tn: 220793.0000 - tp: 389.0000 - precision: 0.0554 - recall: 0.9329 - val_loss: 0.0340 - val_fn: 11.0000 - val_fp: 590.0000 - val_tn: 56296.0000 - val_tp: 64.0000 - val_precision: 0.0979 - val_recall: 0.8533\n",
      "Epoch 11/30\n",
      "112/112 - 9s - loss: 8.7733e-07 - fn: 19.0000 - fp: 5936.0000 - tn: 221493.0000 - tp: 398.0000 - precision: 0.0628 - recall: 0.9544 - val_loss: 0.0548 - val_fn: 11.0000 - val_fp: 1061.0000 - val_tn: 55825.0000 - val_tp: 64.0000 - val_precision: 0.0569 - val_recall: 0.8533\n",
      "Epoch 12/30\n",
      "112/112 - 8s - loss: 1.1749e-06 - fn: 27.0000 - fp: 9181.0000 - tn: 218248.0000 - tp: 390.0000 - precision: 0.0407 - recall: 0.9353 - val_loss: 0.1353 - val_fn: 8.0000 - val_fp: 2772.0000 - val_tn: 54114.0000 - val_tp: 67.0000 - val_precision: 0.0236 - val_recall: 0.8933\n",
      "Epoch 13/30\n",
      "112/112 - 8s - loss: 9.0946e-07 - fn: 23.0000 - fp: 5973.0000 - tn: 221456.0000 - tp: 394.0000 - precision: 0.0619 - recall: 0.9448 - val_loss: 0.0173 - val_fn: 12.0000 - val_fp: 281.0000 - val_tn: 56605.0000 - val_tp: 63.0000 - val_precision: 0.1831 - val_recall: 0.8400\n",
      "Epoch 14/30\n",
      "112/112 - 8s - loss: 8.7442e-07 - fn: 17.0000 - fp: 5818.0000 - tn: 221611.0000 - tp: 400.0000 - precision: 0.0643 - recall: 0.9592 - val_loss: 0.1959 - val_fn: 7.0000 - val_fp: 3019.0000 - val_tn: 53867.0000 - val_tp: 68.0000 - val_precision: 0.0220 - val_recall: 0.9067\n",
      "Epoch 15/30\n",
      "112/112 - 8s - loss: 9.7855e-07 - fn: 24.0000 - fp: 8253.0000 - tn: 219176.0000 - tp: 393.0000 - precision: 0.0455 - recall: 0.9424 - val_loss: 0.0145 - val_fn: 12.0000 - val_fp: 217.0000 - val_tn: 56669.0000 - val_tp: 63.0000 - val_precision: 0.2250 - val_recall: 0.8400\n",
      "Epoch 16/30\n",
      "112/112 - 8s - loss: 8.3831e-07 - fn: 18.0000 - fp: 6456.0000 - tn: 220973.0000 - tp: 399.0000 - precision: 0.0582 - recall: 0.9568 - val_loss: 0.0388 - val_fn: 11.0000 - val_fp: 763.0000 - val_tn: 56123.0000 - val_tp: 64.0000 - val_precision: 0.0774 - val_recall: 0.8533\n",
      "Epoch 17/30\n",
      "112/112 - 8s - loss: 6.8649e-07 - fn: 16.0000 - fp: 5881.0000 - tn: 221548.0000 - tp: 401.0000 - precision: 0.0638 - recall: 0.9616 - val_loss: 0.0558 - val_fn: 10.0000 - val_fp: 1355.0000 - val_tn: 55531.0000 - val_tp: 65.0000 - val_precision: 0.0458 - val_recall: 0.8667\n",
      "Epoch 18/30\n",
      "112/112 - 8s - loss: 6.7273e-07 - fn: 14.0000 - fp: 6044.0000 - tn: 221385.0000 - tp: 403.0000 - precision: 0.0625 - recall: 0.9664 - val_loss: 0.0501 - val_fn: 10.0000 - val_fp: 1023.0000 - val_tn: 55863.0000 - val_tp: 65.0000 - val_precision: 0.0597 - val_recall: 0.8667\n",
      "Epoch 19/30\n",
      "112/112 - 9s - loss: 6.2794e-07 - fn: 14.0000 - fp: 6144.0000 - tn: 221285.0000 - tp: 403.0000 - precision: 0.0616 - recall: 0.9664 - val_loss: 0.0510 - val_fn: 11.0000 - val_fp: 1209.0000 - val_tn: 55677.0000 - val_tp: 64.0000 - val_precision: 0.0503 - val_recall: 0.8533\n",
      "Epoch 20/30\n",
      "112/112 - 9s - loss: 5.8497e-07 - fn: 11.0000 - fp: 6114.0000 - tn: 221315.0000 - tp: 406.0000 - precision: 0.0623 - recall: 0.9736 - val_loss: 0.0133 - val_fn: 13.0000 - val_fp: 251.0000 - val_tn: 56635.0000 - val_tp: 62.0000 - val_precision: 0.1981 - val_recall: 0.8267\n",
      "Epoch 21/30\n",
      "112/112 - 9s - loss: 6.1607e-07 - fn: 13.0000 - fp: 6033.0000 - tn: 221396.0000 - tp: 404.0000 - precision: 0.0628 - recall: 0.9688 - val_loss: 0.0564 - val_fn: 10.0000 - val_fp: 1372.0000 - val_tn: 55514.0000 - val_tp: 65.0000 - val_precision: 0.0452 - val_recall: 0.8667\n",
      "Epoch 22/30\n",
      "112/112 - 9s - loss: 6.0616e-07 - fn: 8.0000 - fp: 5761.0000 - tn: 221668.0000 - tp: 409.0000 - precision: 0.0663 - recall: 0.9808 - val_loss: 0.1833 - val_fn: 11.0000 - val_fp: 4029.0000 - val_tn: 52857.0000 - val_tp: 64.0000 - val_precision: 0.0156 - val_recall: 0.8533\n",
      "Epoch 23/30\n",
      "112/112 - 9s - loss: 6.2629e-07 - fn: 14.0000 - fp: 6845.0000 - tn: 220584.0000 - tp: 403.0000 - precision: 0.0556 - recall: 0.9664 - val_loss: 0.0181 - val_fn: 12.0000 - val_fp: 340.0000 - val_tn: 56546.0000 - val_tp: 63.0000 - val_precision: 0.1563 - val_recall: 0.8400\n",
      "Epoch 24/30\n",
      "112/112 - 8s - loss: 6.7303e-07 - fn: 12.0000 - fp: 7362.0000 - tn: 220067.0000 - tp: 405.0000 - precision: 0.0521 - recall: 0.9712 - val_loss: 0.0110 - val_fn: 12.0000 - val_fp: 197.0000 - val_tn: 56689.0000 - val_tp: 63.0000 - val_precision: 0.2423 - val_recall: 0.8400\n",
      "Epoch 25/30\n",
      "112/112 - 8s - loss: 5.3338e-07 - fn: 11.0000 - fp: 5530.0000 - tn: 221899.0000 - tp: 406.0000 - precision: 0.0684 - recall: 0.9736 - val_loss: 0.0619 - val_fn: 10.0000 - val_fp: 1571.0000 - val_tn: 55315.0000 - val_tp: 65.0000 - val_precision: 0.0397 - val_recall: 0.8667\n",
      "Epoch 26/30\n",
      "112/112 - 8s - loss: 4.9341e-07 - fn: 9.0000 - fp: 5615.0000 - tn: 221814.0000 - tp: 408.0000 - precision: 0.0677 - recall: 0.9784 - val_loss: 0.0215 - val_fn: 12.0000 - val_fp: 474.0000 - val_tn: 56412.0000 - val_tp: 63.0000 - val_precision: 0.1173 - val_recall: 0.8400\n",
      "Epoch 27/30\n",
      "112/112 - 9s - loss: 4.9612e-07 - fn: 9.0000 - fp: 5366.0000 - tn: 222063.0000 - tp: 408.0000 - precision: 0.0707 - recall: 0.9784 - val_loss: 0.0494 - val_fn: 10.0000 - val_fp: 1224.0000 - val_tn: 55662.0000 - val_tp: 65.0000 - val_precision: 0.0504 - val_recall: 0.8667\n",
      "Epoch 28/30\n",
      "112/112 - 9s - loss: 4.9080e-07 - fn: 7.0000 - fp: 5557.0000 - tn: 221872.0000 - tp: 410.0000 - precision: 0.0687 - recall: 0.9832 - val_loss: 0.1207 - val_fn: 9.0000 - val_fp: 2618.0000 - val_tn: 54268.0000 - val_tp: 66.0000 - val_precision: 0.0246 - val_recall: 0.8800\n",
      "Epoch 29/30\n",
      "112/112 - 9s - loss: 5.3789e-07 - fn: 10.0000 - fp: 5416.0000 - tn: 222013.0000 - tp: 407.0000 - precision: 0.0699 - recall: 0.9760 - val_loss: 0.0202 - val_fn: 12.0000 - val_fp: 455.0000 - val_tn: 56431.0000 - val_tp: 63.0000 - val_precision: 0.1216 - val_recall: 0.8400\n",
      "Epoch 30/30\n",
      "112/112 - 9s - loss: 4.6956e-07 - fn: 6.0000 - fp: 5282.0000 - tn: 222147.0000 - tp: 411.0000 - precision: 0.0722 - recall: 0.9856 - val_loss: 0.0276 - val_fn: 11.0000 - val_fp: 609.0000 - val_tn: 56277.0000 - val_tp: 64.0000 - val_precision: 0.0951 - val_recall: 0.8533\n"
     ]
    }
   ],
   "source": [
    "callbacks = [callbacks.ModelCheckpoint(\"../Datos/fraude/fraud_model_at_epoch_{epoch}.h5\")]\n",
    "class_weight = {0: weight_for_0, 1: weight_for_1}\n",
    "\n",
    "history = model.fit(\n",
    "    train_features,\n",
    "    train_targets,\n",
    "    batch_size=2048,\n",
    "    epochs=30,\n",
    "    verbose=2,\n",
    "    callbacks=callbacks,\n",
    "    validation_data=(val_features, val_targets),\n",
    "    class_weight=class_weight,\n",
    ")"
   ]
  },
  {
   "attachments": {},
   "cell_type": "markdown",
   "metadata": {},
   "source": [
    "## <span style=\"color:#4361EE\">Predicciones</span>  "
   ]
  },
  {
   "cell_type": "code",
   "execution_count": 14,
   "metadata": {},
   "outputs": [
    {
     "data": {
      "text/plain": [
       "array([0., 0., 0., ..., 0., 0., 0.], dtype=float32)"
      ]
     },
     "execution_count": 14,
     "metadata": {},
     "output_type": "execute_result"
    }
   ],
   "source": [
    "# Predicting the Test set results\n",
    "y_pred_val = model.predict(val_features)\n",
    "y_pred_val[y_pred_val > 0.5] = 1\n",
    "y_pred_val[y_pred_val <=0.5] = 0\n",
    "y_pred_val.reshape((y_pred_val.shape[0]))\n",
    "# predict the training set\n",
    "y_pred_train = model.predict(train_features)\n",
    "y_pred_train[y_pred_train > 0.5] = 1\n",
    "y_pred_train[y_pred_train <=0.5] = 0\n",
    "y_pred_train.reshape((y_pred_train.shape[0]))\n"
   ]
  },
  {
   "attachments": {},
   "cell_type": "markdown",
   "metadata": {},
   "source": [
    "## <span style=\"color:#4361EE\">Resultados</span>  "
   ]
  },
  {
   "attachments": {},
   "cell_type": "markdown",
   "metadata": {},
   "source": [
    "Calcula métricas"
   ]
  },
  {
   "attachments": {},
   "cell_type": "markdown",
   "metadata": {},
   "source": [
    "</span>  "
   ]
  },
  {
   "cell_type": "code",
   "execution_count": 15,
   "metadata": {},
   "outputs": [],
   "source": [
    "#\n",
    "# elimina dimensiones sobrantes\n",
    "val_targets = np.squeeze(val_targets)\n",
    "y_pred_val = np.squeeze(y_pred_val)\n",
    "train_targets = np.squeeze(train_targets)\n",
    "y_pred_train = np.squeeze(y_pred_train)\n",
    "#\n",
    "# falsos negativos validación\n",
    "fn_val = FalseNegatives()\n",
    "fn_val.update_state(val_targets, y_pred_val)\n",
    "fn_val = fn_val.result().numpy()\n",
    "#\n",
    "# falsos negativos entrenamiento\n",
    "fn_train = FalseNegatives()\n",
    "fn_train.update_state(train_targets, y_pred_train)\n",
    "fn_train = fn_train.result().numpy()\n",
    "# \n",
    "# falsos positivos validación\n",
    "fp_val = FalsePositives()\n",
    "fp_val.update_state(val_targets, y_pred_val)\n",
    "fp_val = fp_val.result().numpy()\n",
    "#\n",
    "# falsos positivos entrenamiento\n",
    "fp_train = FalsePositives()\n",
    "fp_train.update_state(train_targets, y_pred_train)\n",
    "fp_train = fp_train.result().numpy()\n",
    "# \n",
    "# Precision validación\n",
    "pre_val = Precision()\n",
    "pre_val.update_state(val_targets, y_pred_val)\n",
    "pre_val = pre_val.result().numpy()\n",
    "#\n",
    "# falsos negativos entrenamiento\n",
    "pre_train = Precision()\n",
    "pre_train.update_state(train_targets, y_pred_train)\n",
    "pre_train = pre_train.result().numpy()\n",
    "# \n",
    "# recall validación\n",
    "re_val = Recall()\n",
    "re_val.update_state(val_targets, y_pred_val)\n",
    "re_val = re_val.result().numpy()\n",
    "#\n",
    "# recall entrenamiento\n",
    "re_train = Recall()\n",
    "re_train.update_state(train_targets, y_pred_train)\n",
    "re_train = re_train.result().numpy()\n",
    "# \n",
    "\n",
    "# diccionario\n",
    "metricas = {'Falsos_positivos_train':fp_train, 'Falsos_positivos_val':fp_val,\n",
    "           '%Falsos_positivos': np.round((fp_train+fp_val)/ len(training)*100,4),\n",
    "           'Falsos_negativos_train':fn_train, 'Falsos_negativos_val':fn_val,\n",
    "           '%Falsos_negativos': np.round((fn_train+fn_val)/ len(training)*100,4),\n",
    "           'Precision_train': pre_train, 'Precision_val': pre_val,\n",
    "           'Recall_train': re_train, 'Recall_val':re_val }"
   ]
  },
  {
   "cell_type": "code",
   "execution_count": 16,
   "metadata": {},
   "outputs": [
    {
     "data": {
      "text/plain": [
       "{'Falsos_positivos_train': 3466.0,\n",
       " 'Falsos_positivos_val': 609.0,\n",
       " '%Falsos_positivos': 1.4308,\n",
       " 'Falsos_negativos_train': 2.0,\n",
       " 'Falsos_negativos_val': 11.0,\n",
       " '%Falsos_negativos': 0.0046,\n",
       " 'Precision_train': 0.1069312,\n",
       " 'Precision_val': 0.09509658,\n",
       " 'Recall_train': 0.99520385,\n",
       " 'Recall_val': 0.85333335}"
      ]
     },
     "execution_count": 16,
     "metadata": {},
     "output_type": "execute_result"
    }
   ],
   "source": [
    "metricas"
   ]
  },
  {
   "attachments": {},
   "cell_type": "markdown",
   "metadata": {},
   "source": [
    "## <span style=\"color:#4361EE\">Evaluación del modelo</span>  "
   ]
  },
  {
   "cell_type": "code",
   "execution_count": 17,
   "metadata": {},
   "outputs": [],
   "source": [
    "\n",
    "def plot_metric(history, metric):\n",
    "    train_metrics = history.history[metric]\n",
    "    val_metrics = history.history['val_'+metric]\n",
    "    epochs = range(1, len(train_metrics) + 1)\n",
    "    plt.plot(epochs, train_metrics, 'bo--')\n",
    "    plt.plot(epochs, val_metrics, 'ro-')\n",
    "    plt.title('Entrenamiento y validación '+ metric)\n",
    "    plt.xlabel(\"Epochs\")\n",
    "    plt.ylabel(metric)\n",
    "    plt.legend([\"train_\"+metric, 'val_'+metric])\n",
    "    plt.show()"
   ]
  },
  {
   "cell_type": "code",
   "execution_count": 18,
   "metadata": {},
   "outputs": [
    {
     "data": {
      "image/png": "[encoded data removed]",
      "text/plain": [
       "<Figure size 432x288 with 1 Axes>"
      ]
     },
     "metadata": {
      "needs_background": "light"
     },
     "output_type": "display_data"
    }
   ],
   "source": [
    "plot_metric(history, 'loss')"
   ]
  },
  {
   "cell_type": "code",
   "execution_count": 20,
   "metadata": {},
   "outputs": [
    {
     "data": {
      "image/png": "[encoded data removed]",
      "text/plain": [
       "<Figure size 432x288 with 1 Axes>"
      ]
     },
     "metadata": {
      "needs_background": "light"
     },
     "output_type": "display_data"
    }
   ],
   "source": [
    "plot_metric(history, 'recall')"
   ]
  },
  {
   "attachments": {},
   "cell_type": "markdown",
   "metadata": {},
   "source": [
    "## <span style=\"color:#4361EE\">Conclusiones</span>  "
   ]
  },
  {
   "attachments": {},
   "cell_type": "markdown",
   "metadata": {},
   "source": [
    "Al final del entrenamiento, de 56,961 transacciones de validación, se obtuvo:\n",
    "\n",
    "- Identificar correctamente a 66 de ellos como fraudulentos\n",
    "- Faltan 9 transacciones fraudulentas\n",
    "- A costa de marcar incorrectamente 441 transacciones legítimas\n",
    "\n",
    "En el mundo real, se le daría un peso aún mayor a la clase 1,\n",
    "para reflejar que los falsos negativos son más costosos que los falsos positivos.\n",
    "\n",
    "**La próxima vez que su tarjeta de crédito sea rechazada en una compra en línea, esta es la razón.**"
   ]
  },
  {
   "attachments": {},
   "cell_type": "markdown",
   "metadata": {},
   "source": [
    "[Ir al inicio](#Contenido)"
   ]
  }
 ],
 "metadata": {
  "kernelspec": {
   "display_name": "Python 3",
   "language": "python",
   "name": "python3"
  },
  "language_info": {
   "codemirror_mode": {
    "name": "ipython",
    "version": 3
   },
   "file_extension": ".py",
   "mimetype": "text/x-python",
   "name": "python",
   "nbconvert_exporter": "python",
   "pygments_lexer": "ipython3",
   "version": "3.8.8"
  }
 },
 "nbformat": 4,
 "nbformat_minor": 4
}
