{
 "cells": [
  {
   "cell_type": "markdown",
   "metadata": {},
   "source": [
    "<table class=\"tfo-notebook-buttons\" align=\"left\">\n",
    "  <td>\n",
    "    <a target=\"_blank\" href=\"https://colab.research.google.com/github/AprendizajeProfundo/Diplomado/blob/master/Temas/M%C3%B3dulo%2014-%20Aprendizaje%20no%20Supervisado/Cuadernos/Agrupamiento.ipynb\"><img src=\"https://www.tensorflow.org/images/colab_logo_32px.png\" />Run in Google Colab</a>\n",
    "  </td>\n",
    "</table>"
   ]
  },
  {
   "cell_type": "markdown",
   "metadata": {
    "id": "1Ch3SsEFYI1u"
   },
   "source": [
    "# **<p align=\"center\"><font size=5 color=#006600>Diplomado en Inteligencia Artificial y Aprendizaje Profundo**"
   ]
  },
  {
   "cell_type": "markdown",
   "metadata": {
    "id": "OOJ7NOMnelA2"
   },
   "source": [
    "# **<p align=\"center\"><font size=5 color=#FF0033>Algunos métodos de clasificación no supervisada (agrupamiento)**"
   ]
  },
  {
   "cell_type": "markdown",
   "metadata": {
    "id": "z9oBWmjodpyc"
   },
   "source": [
    "# **<font size=5 color=#0000FF>Profesores**"
   ]
  },
  {
   "cell_type": "markdown",
   "metadata": {
    "id": "ms1l2HJYeCh7"
   },
   "source": [
    "1. Campo Elías Pardo Turriago, cepardot@unal.edu.co \n",
    "2. Alvaro Mauricio Montenegro Díaz,ammontenegrod@unal.edu.co \n",
    "3. Daniel Mauricio Montenegro Reyes, dextronomo@gmail.com\n",
    "\n",
    "\n",
    "\n",
    "\n"
   ]
  },
  {
   "cell_type": "markdown",
   "metadata": {
    "id": "TApWfcZxemhD"
   },
   "source": [
    "# **<font size=5 color=#0000FF>Asesora Medios y Marketing Digital**"
   ]
  },
  {
   "cell_type": "markdown",
   "metadata": {
    "id": "43gtv0Abextl"
   },
   "source": [
    "1. Maria del Pilar Montenegro, pmontenegro88@gmail.com"
   ]
  },
  {
   "cell_type": "markdown",
   "metadata": {
    "id": "jLSx3bVoe9fZ"
   },
   "source": [
    "# **<font size=5 color=#0000FF>Asistentes**"
   ]
  },
  {
   "cell_type": "markdown",
   "metadata": {
    "id": "74W8jrBSfFXl"
   },
   "source": [
    "1. Oleg Jarma, ojarmam@unal.edu.co\n",
    "2. Laura Lizarazo, ljlizarazore@unal.edu.co\n",
    "3. Julieth López, julalopezcas@unal.edu.co"
   ]
  },
  {
   "cell_type": "markdown",
   "metadata": {
    "id": "L7dnhZUdeyR7"
   },
   "source": [
    "## **Contenido**"
   ]
  },
  {
   "cell_type": "markdown",
   "metadata": {
    "id": "ok00ZM5AgXw6"
   },
   "source": [
    "* [Objetivos de los métodos de agrupamiento](#Objetivos-de-los-métodos-de-agrupamiento)\n",
    "    * [Tipos de métodos](#Tipos-de-métodos)\n",
    "* [Métodos para obtener una partición directa](#Métodos-para-obtener-una-partición-directa)\n",
    "    * [K-means](#K-means)\n",
    "* [Métodos de clasificación jerárquica](#Métodos-de-clasificación-jerárquica)\n",
    "    * [Clasificación jerárquica aglomerativa](#Clasificación-jerárquica-aglomerativa)\n",
    "    * [Distancias entre individuos](#Distancias-entre-individuos)\n",
    "    * [Distancias entre variables binarias disponibles en *dist.binary{ade4}*](#Distancias-entre-variables-binarias-disponibles-en-dist.binary{ade4})\n",
    "    * [Distancias entre grupos = métodos de agregación](#Distancias-entre-grupos-=-métodos-de-agregación)\n",
    "    * [Método de Ward](#Método-de-Ward)\n",
    "* [Combinación de métodos](#Combinación-de-métodos)\n",
    "* [Clasificación a partir de coordenadas](#Clasificación-a-partir-de-coordenadas)\n",
    "* [Caracterización automática de las clases](#Caracterización-automática-de-las-clases)\n",
    "\t* [Una estrategia de clasificación: Análisis factorial](#Una-estrategia-de-clasificación)\n",
    "* [Ejemplo: Clasificación de niños de 8 a 11 años según su consumo cultural](#Ejemplo-de-aplicación:-Clasificación-de-los-niños-según-el-consumo-cultural)"
   ]
  },
  {
   "cell_type": "markdown",
   "metadata": {
    "id": "Fi6OQ2SEfk6L"
   },
   "source": [
    "**Nota:** Los trozos de código de este cuaderno son de R\n",
    "\n",
    "**Fuente:** Pardo CE (2020)  [Estadística descriptiva multivariada](http://ciencias.bogota.unal.edu.co/fileadmin/Facultad_de_Ciencias/Publicaciones/Imagenes/Portadas_Libros/Estadistica/Estadistica_descriptiva_multivariada/libroEstadisiticaDescriptivaMultivariadaDigital.pdf )   "
   ]
  },
  {
   "cell_type": "markdown",
   "metadata": {
    "id": "liXrxkeGMutK"
   },
   "source": [
    "# **Objetivos de los métodos de agrupamiento**\n",
    "\n",
    "Objetivo: Descubrir patrones en los datos en forma de grupos  bien diferenciados, que tengan individuos homogéneos en su interior.\n",
    "\n",
    "- En inglés: *Cluster Analysis* (análisis de conglomerados)\n",
    "- *Métodos de clasificación no supervisada*: en las áreas de minería de datos, aprendizaje automático y reconocimiento de patrones.\n",
    "- En el sentido matemático un algoritmo de agrupamiento busca una partición de un conjunto de $n$ elementos en $K$ subconjuntos,\n",
    "- Equivale a definir una variable cualitativa que emerge de los datos."
   ]
  },
  {
   "cell_type": "markdown",
   "metadata": {
    "id": "tn5sP7WofAu6"
   },
   "source": [
    "## Tipos de métodos\n",
    "\n",
    "1. Los que permiten obtener una partición directa mediante un algoritmo, el más conocido y utilizado es el *K-means*.\n",
    "\n",
    "2. Los que construyen una sucesión de particiones anidadas, que se representan mediante un árbol o dendrograma, se conocen como métodos de clasificación jerárquica. \n",
    "    - Clasificación jerárquica aglomerativa: parten de todos los individuos, como n clases de un elemento  y los van uniendo en pasos sucesivos hasta llegar a un solo grupo o clase de n individuos. \n",
    "    - Clasificación jerárquica divisiva.\n",
    "\n",
    "- Los algoritmos de clasificación requieren de medidas de similitud, disimilitud o distancia entre individuos y  entre grupos. \n",
    "- Las similitudes, disimilitudes o distancias entre grupos constituyen los criterios de agregación de los métodos de clasificación  jerárquica aglomerativa.\n",
    "- Combinar los dos tipos de métodos de clasificación."
   ]
  },
  {
   "cell_type": "markdown",
   "metadata": {},
   "source": [
    "<center>\n",
    "<img src=\"https://quantdare.com/wp-content/uploads/2016/06/AggloDivHierarClustering-800x389.png\" alt=\"agrupations\" width=\"700\">\n",
    "<center>"
   ]
  },
  {
   "cell_type": "markdown",
   "metadata": {
    "id": "oW4yUW6SuIvK"
   },
   "source": [
    "# **Métodos para obtener una partición directa**\n",
    "\n",
    "## K-means\n",
    "\n",
    "- Se da el número de clases, los puntos iniciales requeridos para empezar el algoritmo y un criterio de parada.\n",
    "- Está relacionado con la geometría utilizada en los métodos en ejes principales porque recurre a la distancia Euclidiana entre individuos.\n",
    "- La distancia entre grupos se calcula como la distancia Euclidiana entre sus  centros de gravedad. \n",
    "- Homogeneidad intra grupos: inercia intra. \n",
    "- Heterogeneidad entre grupos: inercia entre. \n",
    "- Inercia = inercia intra + inercia entre. \n",
    "\n"
   ]
  },
  {
   "cell_type": "markdown",
   "metadata": {},
   "source": [
    "<center>\n",
    "<img src=\"https://upload.wikimedia.org/wikipedia/commons/thumb/e/ea/K-means_convergence.gif/617px-K-means_convergence.gif\" alt=\"Clustering1\" width=\"300\" height=\"200\">\n",
    "<center>"
   ]
  },
  {
   "cell_type": "markdown",
   "metadata": {
    "id": "ox324ZoCutjW",
    "outputId": "9eeb3b38-629b-4df1-e705-af5a0aa20a87"
   },
   "source": [
    "## Descomposición de la inercia asociada a una partición\n",
    "\n",
    "Sea una nube de $n$ puntos $N_n$ en $\\mathbf{p}$ con una partición en $K$ clases.\n",
    "$$\n",
    "Inercia(N_n)=\\sum_{i=1}^n p_i d^2(i,\\mathbf{g}) =\n",
    " \\sum_{k=1}^K p_k d^2(\\mathbf{g}_k,\\mathbf{g}) + \\sum_{k=1}^K \\sum_{i \\in I_k } p_id^2(i,\\mathbf{g}_k)\n",
    "$$\n",
    "\n",
    "- $p_i$: peso del individuo $i$, $\\sum\\limits_{i=1}^n p_i = 1$ \n",
    "- $\\mathbf{g}$: centro de gravedad de la nube de puntos, $\\mathbf{g}=\\sum\\limits_{i=1}^n p_i \\mathbf{x}_i$,  $\\mathbf{x'}_i$, es la fila $i$ de la matriz de coordenadas de los puntos $\\mathbf{X}$ con $n$ filas y $p$ columnas.\n",
    "- $p_k$ peso de la clase $k$, $p_k = \\sum\\limits_{i \\in I_k } p_i$\n",
    "- $\\mathbf{g}_k$: centro de gravedad de la clase $k$,  $\\mathbf{g}_k = \\dfrac{1}{p_k}\\sum\\limits_{i \\in I_k } p_i \\mathbf{x}_i$\n",
    "- $d^2(.,.)$] es la distancia Euclidiana canónica.\n",
    "\n",
    "- En el cálculo de la inercia ha intervenido la distancia Euclidiana canónica, entonces la medida de disimilitud entre individuos ya está seleccionada.\n",
    "- El método *K-means* busca una partición en $K$ clases que tenga inercia intra-clases mínima.\n"
   ]
  },
  {
   "cell_type": "markdown",
   "metadata": {
    "id": "JjZzHn6quySD"
   },
   "source": [
    "## El algoritmo $K-means$\n",
    "\n",
    "0. Paso 0\n",
    "\n",
    "- $K$ centros iniciales de las clases:  $\\{C^{0}_{1},\n",
    "C^{0}_{2},\\ldots,C^{0}_{k},\\ldots,C^{0}_{K}\\}$\n",
    "- Partición 0 $P^0=\\{ I^{0}_{1}, I^{0}_{2},\\ldots,\n",
    "I^{0}_{k},\\ldots,I^{0}_{K}\\}$. \n",
    "- El individuo $i$ pertenece\n",
    "a la clase $I^0_k$ si el punto $i$ está más próximo de $C^0_k$   que de\n",
    "todos los demás centros.\n",
    "\n",
    "1. Paso 1\n",
    "\n",
    "- De las clases  $\\{ I^{0}_{1}, I^{0}_{2},\\ldots, I^{0}_{k},\\ldots,I^{0}_{K}\\}$\n",
    "- $K$ centros de gravedad   $\\{C^{1}_{1},C^{1}_{2},\\ldots,C^{1}_{k},\\ldots,C^{1}_{K}\\}$ \n",
    "- Patición 1: $P^1=\\{ I^{1}_{1}, I^{1}_{2},\\ldots,\n",
    "I^{1}_{k},\\ldots,I^{1}_{K}\\}$\n",
    "\n",
    "\n",
    "- Paso $m$\n",
    "\n",
    "- De las clases $\\{ I^{m-1}_{1}, I^{m-1}_{2},\\ldots,I^{m-1}_{k},\\ldots,I^{m-1}_{K}\\}$\n",
    "-   $K$ nuevos centros  $\\{C^{m}_{1}, C^{m}_{2},\\ldots,C^{m}_{k},\\ldots,C^{m}_{K}\\}$\n",
    "- Partición $m$: $P^m=\\{ I^{m}_{1},\n",
    "I^{m}_{2},\\ldots,I^{m}_{k},\\ldots,I^{m}_{K}\\}$\n",
    ". El algoritmo se detiene si la nueva partición no es mejor que la\n",
    "anterior (la varianza intra-clases deja de disminuir)\n",
    "- Generalmente la partición\n",
    "obtenida depende de la selección inicial de los centros.\n",
    "\n"
   ]
  },
  {
   "cell_type": "markdown",
   "metadata": {},
   "source": [
    "<center>\n",
    "<img src=\"https://dashee87.github.io/images/kmeans.gif\" alt=\"Clustering2\" width=\"500\" height=\"600\">\n",
    "<center>"
   ]
  },
  {
   "cell_type": "markdown",
   "metadata": {
    "id": "hcTEWJbeuIvO"
   },
   "source": [
    "### El algoritmo *K-means*  disminuye la inercia intra-clases\n",
    "\n",
    "- Hay que demostrar que la inercia intra-clases de la partición $P^{m}=\\{ I^{m}_{1}, I^{m}_{2},\\ldots,I^{m}_{k},\\ldots,I^{m}_{K}\\}$ es menor o igual a la inercia intra-clases de la partición $P^{m-1}$ \n",
    "\n",
    "    - A cada individuo del conjunto a clasificar, se le asocia un peso\n",
    "$p_i>0$ tal que $\\sum\\limits_{i=1}^np_i=1$.   \n",
    "    - $d^2(i,C^m_k)$ es el cuadrado\n",
    "de la distancia entre el individuo $i$ y el centro móvil de la clase $k$\n",
    "en la etapa $m$, que es el centro de gravedad de la clase $k$ en el paso $m{-}1$.  \n",
    "    - Entonces, la suma de las inercias de las clases  de la partición $P^m$ con respecto a los puntos que permitieron construirla  es  \n",
    "$$\n",
    "v(m)=\\sum\\limits_{k=1}^K\n",
    "\\sum_{i \\in  I_k^m } p_i d^2(i,C_k^m)\n",
    "$$\n",
    "\n",
    "    - En la etapa $m$, $I_k^m$ es el conjunto de los  individuos que están más próximos a $C_k^m$ \n",
    " que de todos los otros centros\n",
    "    - El centro de gravedad de esta clase se calcula en la etapa $m+1$: $C_k^{m+1}=\\mathbf{g}_k^m$.\n",
    "    - La inercia intra-clases en la etapa $m$ es la cantidad\n",
    "$$\n",
    "V(m)= \\sum_{k=1}^K \\sum_{i \\in I_k^m } p_id^2(i,\\mathbf{g}_k^{m})\n",
    "=\\sum_{k=1}^K \\sum_{i \\in I_k^m } p_id^2(i,C_k^{m+1})\n",
    "$$\n",
    "    - $C_k^{m+1}$ es el centro de gravedad de la clase $I_k^m$, que es el nuevo centro móvil en la etapa $m+1$. \n",
    "    - $V(m)$ es menor o igual que $v(m)$  porque la inercia con respecto al centro de gravedad es siempre menor o igual a la inercia con respecto a cualquier otro punto.\n",
    "\n",
    "    - La suma de las inercias con respecto a los puntos que originaron la partición $P^{m+1}$ es  \n",
    "$$\n",
    "\\textbf{v}(m+1)=\\sum_{k=1}^K \\sum_{i \\in I_k^{m+1} }\n",
    "p_id^2(i,C_k^{m+1})\n",
    "$$\n",
    "\n",
    "\n",
    "   - $v(m+1)$  es menor o igual a $V(m)$  porque si al menos un individuo cambia de clase  en la nueva partición es porque queda más cerca de otro nuevo centro. \n",
    "    - Entonces \n",
    "$v(m+1)\\leq V(m) \\leq v(m) \\leq V(m-1)$, es decir que la inercia intra-clases disminuye con cada paso del algoritmo. "
   ]
  },
  {
   "cell_type": "markdown",
   "metadata": {
    "id": "bzDwb1UbuIvQ"
   },
   "source": [
    "### **Ejemplo** de \"juguete\": $K{-}means$ ejemplo Café\n",
    "\n",
    "Tomando el ejemplo de Café, partiendo de las coordenadas sobre el primer plano factorial del ACP normado de las tres variables físicas, y tomando como centros iniciales los cafés ExCl y O40C. \n",
    "\n",
    "\n",
    "### Primer plano factorial y coordenadas"
   ]
  },
  {
   "cell_type": "code",
   "execution_count": 1,
   "metadata": {
    "id": "yuVZ-0aQX2vD"
   },
   "outputs": [],
   "source": [
    "# Instalación de FactoClass:\n",
    "#install.packages(\"FactoClass\")"
   ]
  },
  {
   "cell_type": "code",
   "execution_count": 2,
   "metadata": {
    "colab": {
     "base_uri": "https://localhost:8080/",
     "height": 548
    },
    "id": "eo6Efj56uE0Z",
    "outputId": "2355ef5e-5f1c-489c-ace6-68832c97d46f"
   },
   "outputs": [
    {
     "name": "stderr",
     "output_type": "stream",
     "text": [
      "Warning message:\n",
      "\"package 'FactoClass' was built under R version 3.6.3\"Loading required package: ade4\n",
      "Warning message:\n",
      "\"package 'ade4' was built under R version 3.6.3\"Loading required package: ggplot2\n",
      "Loading required package: ggrepel\n",
      "Warning message:\n",
      "\"package 'ggrepel' was built under R version 3.6.3\"Loading required package: xtable\n",
      "Warning message:\n",
      "\"package 'xtable' was built under R version 3.6.3\"Loading required package: scatterplot3d\n"
     ]
    },
    {
     "data": {
      "text/html": [
       "<table>\n",
       "<thead><tr><th></th><th scope=col>ExCl</th><th scope=col>C40M</th><th scope=col>C40C</th><th scope=col>C20M</th><th scope=col>C20C</th><th scope=col>ExOs</th><th scope=col>O40M</th><th scope=col>O40C</th><th scope=col>O20M</th><th scope=col>O20C</th></tr></thead>\n",
       "<tbody>\n",
       "\t<tr><th scope=row>Axis1</th><td> 0.89</td><td>-2.68</td><td>-1.18</td><td>-1.14</td><td> 0.44</td><td> 2.47</td><td>-0.98</td><td>-0.15</td><td>1.04 </td><td>1.29 </td></tr>\n",
       "\t<tr><th scope=row>Axis2</th><td>-1.68</td><td>-0.22</td><td> 0.15</td><td>-1.02</td><td>-0.82</td><td>-0.04</td><td> 1.01</td><td> 1.31</td><td>0.65 </td><td>0.67 </td></tr>\n",
       "</tbody>\n",
       "</table>\n"
      ],
      "text/latex": [
       "\\begin{tabular}{r|llllllllll}\n",
       "  & ExCl & C40M & C40C & C20M & C20C & ExOs & O40M & O40C & O20M & O20C\\\\\n",
       "\\hline\n",
       "\tAxis1 &  0.89 & -2.68 & -1.18 & -1.14 &  0.44 &  2.47 & -0.98 & -0.15 & 1.04  & 1.29 \\\\\n",
       "\tAxis2 & -1.68 & -0.22 &  0.15 & -1.02 & -0.82 & -0.04 &  1.01 &  1.31 & 0.65  & 0.67 \\\\\n",
       "\\end{tabular}\n"
      ],
      "text/markdown": [
       "\n",
       "| <!--/--> | ExCl | C40M | C40C | C20M | C20C | ExOs | O40M | O40C | O20M | O20C |\n",
       "|---|---|---|---|---|---|---|---|---|---|---|\n",
       "| Axis1 |  0.89 | -2.68 | -1.18 | -1.14 |  0.44 |  2.47 | -0.98 | -0.15 | 1.04  | 1.29  |\n",
       "| Axis2 | -1.68 | -0.22 |  0.15 | -1.02 | -0.82 | -0.04 |  1.01 |  1.31 | 0.65  | 0.67  |\n",
       "\n"
      ],
      "text/plain": [
       "      ExCl  C40M  C40C  C20M  C20C  ExOs  O40M  O40C  O20M O20C\n",
       "Axis1  0.89 -2.68 -1.18 -1.14  0.44  2.47 -0.98 -0.15 1.04 1.29\n",
       "Axis2 -1.68 -0.22  0.15 -1.02 -0.82 -0.04  1.01  1.31 0.65 0.67"
      ]
     },
     "metadata": {},
     "output_type": "display_data"
    },
    {
     "data": {
      "image/png": "[encoded data removed]",
      "text/plain": [
       "plot without title"
      ]
     },
     "metadata": {},
     "output_type": "display_data"
    }
   ],
   "source": [
    "library(FactoClass)\n",
    "data(cafe)\n",
    "acp<-dudi.pca(cafe[1:10,1:3],scannf=FALSE)\n",
    "plot(acp,Tcol=FALSE,gg=TRUE,main=\"ACP Factores 1-2\")\n",
    "F<-as.matrix(round(acp$li,2))\n",
    "t(F)"
   ]
  },
  {
   "cell_type": "markdown",
   "metadata": {
    "id": "gyqGaZuP8SXZ",
    "outputId": "a0a5a87c-6653-46c8-d56f-035bd1b4009e"
   },
   "source": [
    "#### Paso 0\n",
    "Puntos iniciales: ExCl y O40C"
   ]
  },
  {
   "cell_type": "code",
   "execution_count": 3,
   "metadata": {
    "colab": {
     "base_uri": "https://localhost:8080/",
     "height": 529
    },
    "id": "pqAqo3nduIvV",
    "outputId": "30ae2e8e-c8a0-4c62-db45-d7048d12a214"
   },
   "outputs": [
    {
     "data": {
      "text/html": [
       "'Centros iniciales'"
      ],
      "text/latex": [
       "'Centros iniciales'"
      ],
      "text/markdown": [
       "'Centros iniciales'"
      ],
      "text/plain": [
       "[1] \"Centros iniciales\""
      ]
     },
     "metadata": {},
     "output_type": "display_data"
    },
    {
     "data": {
      "text/html": [
       "<table>\n",
       "<thead><tr><th></th><th scope=col>Axis1</th><th scope=col>Axis2</th></tr></thead>\n",
       "<tbody>\n",
       "\t<tr><th scope=row>C1</th><td> 0.89</td><td>-1.68</td></tr>\n",
       "\t<tr><th scope=row>C2</th><td>-0.15</td><td> 1.31</td></tr>\n",
       "</tbody>\n",
       "</table>\n"
      ],
      "text/latex": [
       "\\begin{tabular}{r|ll}\n",
       "  & Axis1 & Axis2\\\\\n",
       "\\hline\n",
       "\tC1 &  0.89 & -1.68\\\\\n",
       "\tC2 & -0.15 &  1.31\\\\\n",
       "\\end{tabular}\n"
      ],
      "text/markdown": [
       "\n",
       "| <!--/--> | Axis1 | Axis2 |\n",
       "|---|---|---|\n",
       "| C1 |  0.89 | -1.68 |\n",
       "| C2 | -0.15 |  1.31 |\n",
       "\n"
      ],
      "text/plain": [
       "   Axis1 Axis2\n",
       "C1  0.89 -1.68\n",
       "C2 -0.15  1.31"
      ]
     },
     "metadata": {},
     "output_type": "display_data"
    },
    {
     "data": {
      "text/html": [
       "'Distancias a los centros iniciales'"
      ],
      "text/latex": [
       "'Distancias a los centros iniciales'"
      ],
      "text/markdown": [
       "'Distancias a los centros iniciales'"
      ],
      "text/plain": [
       "[1] \"Distancias a los centros iniciales\""
      ]
     },
     "metadata": {},
     "output_type": "display_data"
    },
    {
     "data": {
      "text/html": [
       "<table>\n",
       "<thead><tr><th></th><th scope=col>ExCl</th><th scope=col>C40M</th><th scope=col>C40C</th><th scope=col>C20M</th><th scope=col>C20C</th><th scope=col>ExOs</th><th scope=col>O40M</th><th scope=col>O40C</th><th scope=col>O20M</th><th scope=col>O20C</th></tr></thead>\n",
       "<tbody>\n",
       "\t<tr><th scope=row>C1</th><td>0.00</td><td>3.86</td><td>2.76</td><td>2.13</td><td>0.97</td><td>2.28</td><td>3.28</td><td>3.17</td><td>2.33</td><td>2.38</td></tr>\n",
       "\t<tr><th scope=row>C2</th><td>3.17</td><td>2.96</td><td>1.55</td><td>2.53</td><td>2.21</td><td>2.95</td><td>0.88</td><td>0.00</td><td>1.36</td><td>1.58</td></tr>\n",
       "</tbody>\n",
       "</table>\n"
      ],
      "text/latex": [
       "\\begin{tabular}{r|llllllllll}\n",
       "  & ExCl & C40M & C40C & C20M & C20C & ExOs & O40M & O40C & O20M & O20C\\\\\n",
       "\\hline\n",
       "\tC1 & 0.00 & 3.86 & 2.76 & 2.13 & 0.97 & 2.28 & 3.28 & 3.17 & 2.33 & 2.38\\\\\n",
       "\tC2 & 3.17 & 2.96 & 1.55 & 2.53 & 2.21 & 2.95 & 0.88 & 0.00 & 1.36 & 1.58\\\\\n",
       "\\end{tabular}\n"
      ],
      "text/markdown": [
       "\n",
       "| <!--/--> | ExCl | C40M | C40C | C20M | C20C | ExOs | O40M | O40C | O20M | O20C |\n",
       "|---|---|---|---|---|---|---|---|---|---|---|\n",
       "| C1 | 0.00 | 3.86 | 2.76 | 2.13 | 0.97 | 2.28 | 3.28 | 3.17 | 2.33 | 2.38 |\n",
       "| C2 | 3.17 | 2.96 | 1.55 | 2.53 | 2.21 | 2.95 | 0.88 | 0.00 | 1.36 | 1.58 |\n",
       "\n"
      ],
      "text/plain": [
       "   ExCl C40M C40C C20M C20C ExOs O40M O40C O20M O20C\n",
       "C1 0.00 3.86 2.76 2.13 0.97 2.28 3.28 3.17 2.33 2.38\n",
       "C2 3.17 2.96 1.55 2.53 2.21 2.95 0.88 0.00 1.36 1.58"
      ]
     },
     "metadata": {},
     "output_type": "display_data"
    },
    {
     "data": {
      "text/html": [
       "'Partición'"
      ],
      "text/latex": [
       "'Partición'"
      ],
      "text/markdown": [
       "'Partición'"
      ],
      "text/plain": [
       "[1] \"Partición\""
      ]
     },
     "metadata": {},
     "output_type": "display_data"
    },
    {
     "data": {
      "text/html": [
       "<table>\n",
       "<thead><tr><th></th><th scope=col>ExCl</th><th scope=col>C40M</th><th scope=col>C40C</th><th scope=col>C20M</th><th scope=col>C20C</th><th scope=col>ExOs</th><th scope=col>O40M</th><th scope=col>O40C</th><th scope=col>O20M</th><th scope=col>O20C</th></tr></thead>\n",
       "<tbody>\n",
       "\t<tr><th scope=row>P</th><td>I1</td><td>I2</td><td>I2</td><td>I1</td><td>I1</td><td>I1</td><td>I2</td><td>I2</td><td>I2</td><td>I2</td></tr>\n",
       "</tbody>\n",
       "</table>\n"
      ],
      "text/latex": [
       "\\begin{tabular}{r|llllllllll}\n",
       "  & ExCl & C40M & C40C & C20M & C20C & ExOs & O40M & O40C & O20M & O20C\\\\\n",
       "\\hline\n",
       "\tP & I1 & I2 & I2 & I1 & I1 & I1 & I2 & I2 & I2 & I2\\\\\n",
       "\\end{tabular}\n"
      ],
      "text/markdown": [
       "\n",
       "| <!--/--> | ExCl | C40M | C40C | C20M | C20C | ExOs | O40M | O40C | O20M | O20C |\n",
       "|---|---|---|---|---|---|---|---|---|---|---|\n",
       "| P | I1 | I2 | I2 | I1 | I1 | I1 | I2 | I2 | I2 | I2 |\n",
       "\n"
      ],
      "text/plain": [
       "  ExCl C40M C40C C20M C20C ExOs O40M O40C O20M O20C\n",
       "P I1   I2   I2   I1   I1   I1   I2   I2   I2   I2  "
      ]
     },
     "metadata": {},
     "output_type": "display_data"
    },
    {
     "data": {
      "text/html": [
       "<table>\n",
       "<thead><tr><th></th><th scope=col>ExCl</th><th scope=col>C40M</th><th scope=col>C40C</th><th scope=col>C20M</th><th scope=col>C20C</th><th scope=col>ExOs</th><th scope=col>O40M</th><th scope=col>O40C</th><th scope=col>O20M</th><th scope=col>O20C</th></tr></thead>\n",
       "<tbody>\n",
       "\t<tr><th scope=row>C1</th><td>0.00</td><td>3.86</td><td>2.76</td><td>2.13</td><td>0.97</td><td>2.28</td><td>3.28</td><td>3.17</td><td>2.33</td><td>2.38</td></tr>\n",
       "\t<tr><th scope=row>C2</th><td>3.17</td><td>2.96</td><td>1.55</td><td>2.53</td><td>2.21</td><td>2.95</td><td>0.88</td><td>0.00</td><td>1.36</td><td>1.58</td></tr>\n",
       "\t<tr><th scope=row>P</th><td>1.00</td><td>2.00</td><td>2.00</td><td>1.00</td><td>1.00</td><td>1.00</td><td>2.00</td><td>2.00</td><td>2.00</td><td>2.00</td></tr>\n",
       "</tbody>\n",
       "</table>\n"
      ],
      "text/latex": [
       "\\begin{tabular}{r|llllllllll}\n",
       "  & ExCl & C40M & C40C & C20M & C20C & ExOs & O40M & O40C & O20M & O20C\\\\\n",
       "\\hline\n",
       "\tC1 & 0.00 & 3.86 & 2.76 & 2.13 & 0.97 & 2.28 & 3.28 & 3.17 & 2.33 & 2.38\\\\\n",
       "\tC2 & 3.17 & 2.96 & 1.55 & 2.53 & 2.21 & 2.95 & 0.88 & 0.00 & 1.36 & 1.58\\\\\n",
       "\tP & 1.00 & 2.00 & 2.00 & 1.00 & 1.00 & 1.00 & 2.00 & 2.00 & 2.00 & 2.00\\\\\n",
       "\\end{tabular}\n"
      ],
      "text/markdown": [
       "\n",
       "| <!--/--> | ExCl | C40M | C40C | C20M | C20C | ExOs | O40M | O40C | O20M | O20C |\n",
       "|---|---|---|---|---|---|---|---|---|---|---|\n",
       "| C1 | 0.00 | 3.86 | 2.76 | 2.13 | 0.97 | 2.28 | 3.28 | 3.17 | 2.33 | 2.38 |\n",
       "| C2 | 3.17 | 2.96 | 1.55 | 2.53 | 2.21 | 2.95 | 0.88 | 0.00 | 1.36 | 1.58 |\n",
       "| P | 1.00 | 2.00 | 2.00 | 1.00 | 1.00 | 1.00 | 2.00 | 2.00 | 2.00 | 2.00 |\n",
       "\n"
      ],
      "text/plain": [
       "   ExCl C40M C40C C20M C20C ExOs O40M O40C O20M O20C\n",
       "C1 0.00 3.86 2.76 2.13 0.97 2.28 3.28 3.17 2.33 2.38\n",
       "C2 3.17 2.96 1.55 2.53 2.21 2.95 0.88 0.00 1.36 1.58\n",
       "P  1.00 2.00 2.00 1.00 1.00 1.00 2.00 2.00 2.00 2.00"
      ]
     },
     "metadata": {},
     "output_type": "display_data"
    }
   ],
   "source": [
    "tab<-NULL# para para registrar los pasos 3 filas DC1, DC2, Partición\n",
    "cen <- NULL# matriz para recoger los centros de cada paso, por columnas\n",
    "\"Centros iniciales\"\n",
    "C<-F[c(1,8),];rownames(C)<-c(\"C1\",\"C2\");C\n",
    "\"Distancias a los centros iniciales\"\n",
    "as.matrix(dist(rbind(F,C)))[11:12,1:10]->D;round(D,2)\n",
    "\"Partición\"\n",
    "factor(D[1,]>D[2,],labels=c(\"I1\",\"I2\"))->P; t(data.frame(P))\n",
    "cen<-C\n",
    "tab<-rbind(D,P);round(tab,2)"
   ]
  },
  {
   "cell_type": "markdown",
   "metadata": {
    "id": "RtfXPDWmuIvW"
   },
   "source": [
    "#### Pasos 1 a 3"
   ]
  },
  {
   "cell_type": "code",
   "execution_count": 4,
   "metadata": {
    "colab": {
     "base_uri": "https://localhost:8080/"
    },
    "id": "AvRkNHHkuIvX",
    "outputId": "a7e29aa2-cbb3-48f0-9e5b-6aa21a6490ea"
   },
   "outputs": [
    {
     "name": "stdout",
     "output_type": "stream",
     "text": [
      "[1] \"Cálculo de los centros del paso 1\"\n",
      "   Axis1 Axis2\n",
      "I1  0.66 -0.89\n",
      "I2 -0.44  0.59\n",
      "\n",
      "[1] \"Distancias al cuadrado y pertición 1\"\n",
      "   ExCl C40M C40C C20M C20C ExOs O40M O40C O20M O20C\n",
      "C1 0.82 3.41 2.12 1.81 0.24 2.00 2.51 2.35 1.58 1.68\n",
      "C2 2.64 2.38 0.86 1.76 1.67 2.98 0.68 0.77 1.48 1.73\n",
      "\n",
      "ExCl C40M C40C C20M C20C ExOs O40M O40C O20M O20C \n",
      "  I1   I2   I2   I2   I1   I1   I2   I2   I2   I1 \n",
      "Levels: I1 I2\n",
      "\n",
      "[1] \"Cálculo de los centros del paso 2\"\n",
      "   Axis1 Axis2\n",
      "I1  1.27 -0.47\n",
      "I2 -0.85  0.31\n",
      "\n",
      "[1] \"Distancias al cuadrado y pertición 2\"\n",
      "   ExCl C40M C40C C20M C20C ExOs O40M O40C O20M O20C\n",
      "C1 1.27 3.96 2.53 2.47 0.90 1.27 2.69 2.28 1.14 1.14\n",
      "C2 2.64 1.91 0.37 1.36 1.72 3.34 0.71 1.22 1.92 2.17\n",
      "\n",
      "ExCl C40M C40C C20M C20C ExOs O40M O40C O20M O20C \n",
      "  I1   I2   I2   I2   I1   I1   I2   I2   I1   I1 \n",
      "Levels: I1 I2\n",
      "\n",
      "[1] \"Cálculo de los centros del paso 3\"\n",
      "   Axis1 Axis2\n",
      "I1  1.23 -0.24\n",
      "I2 -1.23  0.25\n",
      "\n",
      "[1] \"Distancias al cuadrado y pertición 3\"\n",
      "   ExCl C40M C40C C20M C20C ExOs O40M O40C O20M O20C\n",
      "C1 1.47 3.91 2.44 2.49 0.97 1.26 2.54 2.08 0.91 0.92\n",
      "C2 2.86 1.53 0.11 1.27 1.98 3.71 0.80 1.51 2.30 2.55\n",
      "\n",
      "ExCl C40M C40C C20M C20C ExOs O40M O40C O20M O20C \n",
      "  I1   I2   I2   I2   I1   I1   I2   I2   I1   I1 \n",
      "Levels: I1 I2\n",
      "\n"
     ]
    }
   ],
   "source": [
    "for (paso in 1:3){\n",
    "    print(paste(\"Cálculo de los centros del paso\",paso))\n",
    "    centroids(F,P)$centroids->C \n",
    "    print(round(C,2))\n",
    "    # \"Distancias al cuadrado a los centros\"\n",
    "    as.matrix(dist(rbind(F,C)))[11:12,1:10]->D;rownames(D)<-c(\"C1\",\"C2\")\n",
    "    cat(\"\\n\")\n",
    "    print(paste(\"Distancias al cuadrado y pertición\",paso))\n",
    "    print(round(D,2))\n",
    "    cat(\"\\n\")\n",
    "    \"Partición\"\n",
    "    factor(D[1,]>D[2,],labels=c(\"I1\",\"I2\"))->P \n",
    "    print(P)\n",
    "    cat(\"\\n\")\n",
    "    cen<-cbind(cen,C)\n",
    "    #print(round(cen,2))\n",
    "    tab<-rbind(tab,rbind(D,P))\n",
    "    #print(round(tab,2))\n",
    "#    factor(D22>D21)->P\n",
    "#    tab<-rbind(tab,D21,D22,P)\n",
    "#    print(tab[paso+1:3,],digits=2)   \n",
    "}"
   ]
  },
  {
   "cell_type": "markdown",
   "metadata": {
    "id": "3z2jqRKjuIvY"
   },
   "source": [
    "#### Resumen"
   ]
  },
  {
   "cell_type": "code",
   "execution_count": 6,
   "metadata": {
    "colab": {
     "base_uri": "https://localhost:8080/",
     "height": 549
    },
    "id": "pWs0ky9XuIvY",
    "outputId": "c069b027-5adb-42fa-beda-e6d7c00a3daa"
   },
   "outputs": [
    {
     "data": {
      "text/html": [
       "<table>\n",
       "<thead><tr><th></th><th scope=col>Axis1</th><th scope=col>Axis2</th><th scope=col>Axis1</th><th scope=col>Axis2</th><th scope=col>Axis1</th><th scope=col>Axis2</th><th scope=col>Axis1</th><th scope=col>Axis2</th></tr></thead>\n",
       "<tbody>\n",
       "\t<tr><th scope=row>C1</th><td> 0.89</td><td>-1.68</td><td> 0.66</td><td>-0.89</td><td> 1.27</td><td>-0.47</td><td> 1.23</td><td>-0.24</td></tr>\n",
       "\t<tr><th scope=row>C2</th><td>-0.15</td><td> 1.31</td><td>-0.44</td><td> 0.59</td><td>-0.85</td><td> 0.31</td><td>-1.23</td><td> 0.25</td></tr>\n",
       "</tbody>\n",
       "</table>\n"
      ],
      "text/latex": [
       "\\begin{tabular}{r|llllllll}\n",
       "  & Axis1 & Axis2 & Axis1 & Axis2 & Axis1 & Axis2 & Axis1 & Axis2\\\\\n",
       "\\hline\n",
       "\tC1 &  0.89 & -1.68 &  0.66 & -0.89 &  1.27 & -0.47 &  1.23 & -0.24\\\\\n",
       "\tC2 & -0.15 &  1.31 & -0.44 &  0.59 & -0.85 &  0.31 & -1.23 &  0.25\\\\\n",
       "\\end{tabular}\n"
      ],
      "text/markdown": [
       "\n",
       "| <!--/--> | Axis1 | Axis2 | Axis1 | Axis2 | Axis1 | Axis2 | Axis1 | Axis2 |\n",
       "|---|---|---|---|---|---|---|---|---|\n",
       "| C1 |  0.89 | -1.68 |  0.66 | -0.89 |  1.27 | -0.47 |  1.23 | -0.24 |\n",
       "| C2 | -0.15 |  1.31 | -0.44 |  0.59 | -0.85 |  0.31 | -1.23 |  0.25 |\n",
       "\n"
      ],
      "text/plain": [
       "   Axis1 Axis2 Axis1 Axis2 Axis1 Axis2 Axis1 Axis2\n",
       "C1  0.89 -1.68  0.66 -0.89  1.27 -0.47  1.23 -0.24\n",
       "C2 -0.15  1.31 -0.44  0.59 -0.85  0.31 -1.23  0.25"
      ]
     },
     "metadata": {},
     "output_type": "display_data"
    },
    {
     "data": {
      "text/html": [
       "<table>\n",
       "<thead><tr><th></th><th scope=col>ExCl</th><th scope=col>C40M</th><th scope=col>C40C</th><th scope=col>C20M</th><th scope=col>C20C</th><th scope=col>ExOs</th><th scope=col>O40M</th><th scope=col>O40C</th><th scope=col>O20M</th><th scope=col>O20C</th></tr></thead>\n",
       "<tbody>\n",
       "\t<tr><th scope=row>C1</th><td>0.00</td><td>3.86</td><td>2.76</td><td>2.13</td><td>0.97</td><td>2.28</td><td>3.28</td><td>3.17</td><td>2.33</td><td>2.38</td></tr>\n",
       "\t<tr><th scope=row>C2</th><td>3.17</td><td>2.96</td><td>1.55</td><td>2.53</td><td>2.21</td><td>2.95</td><td>0.88</td><td>0.00</td><td>1.36</td><td>1.58</td></tr>\n",
       "\t<tr><th scope=row>P</th><td>1.00</td><td>2.00</td><td>2.00</td><td>1.00</td><td>1.00</td><td>1.00</td><td>2.00</td><td>2.00</td><td>2.00</td><td>2.00</td></tr>\n",
       "\t<tr><th scope=row>C1</th><td>0.82</td><td>3.41</td><td>2.12</td><td>1.81</td><td>0.24</td><td>2.00</td><td>2.51</td><td>2.35</td><td>1.58</td><td>1.68</td></tr>\n",
       "\t<tr><th scope=row>C2</th><td>2.64</td><td>2.38</td><td>0.86</td><td>1.76</td><td>1.67</td><td>2.98</td><td>0.68</td><td>0.77</td><td>1.48</td><td>1.73</td></tr>\n",
       "\t<tr><th scope=row>P</th><td>1.00</td><td>2.00</td><td>2.00</td><td>2.00</td><td>1.00</td><td>1.00</td><td>2.00</td><td>2.00</td><td>2.00</td><td>1.00</td></tr>\n",
       "\t<tr><th scope=row>C1</th><td>1.27</td><td>3.96</td><td>2.53</td><td>2.47</td><td>0.90</td><td>1.27</td><td>2.69</td><td>2.28</td><td>1.14</td><td>1.14</td></tr>\n",
       "\t<tr><th scope=row>C2</th><td>2.64</td><td>1.91</td><td>0.37</td><td>1.36</td><td>1.72</td><td>3.34</td><td>0.71</td><td>1.22</td><td>1.92</td><td>2.17</td></tr>\n",
       "\t<tr><th scope=row>P</th><td>1.00</td><td>2.00</td><td>2.00</td><td>2.00</td><td>1.00</td><td>1.00</td><td>2.00</td><td>2.00</td><td>1.00</td><td>1.00</td></tr>\n",
       "\t<tr><th scope=row>C1</th><td>1.47</td><td>3.91</td><td>2.44</td><td>2.49</td><td>0.97</td><td>1.26</td><td>2.54</td><td>2.08</td><td>0.91</td><td>0.92</td></tr>\n",
       "\t<tr><th scope=row>C2</th><td>2.86</td><td>1.53</td><td>0.11</td><td>1.27</td><td>1.98</td><td>3.71</td><td>0.80</td><td>1.51</td><td>2.30</td><td>2.55</td></tr>\n",
       "\t<tr><th scope=row>P</th><td>1.00</td><td>2.00</td><td>2.00</td><td>2.00</td><td>1.00</td><td>1.00</td><td>2.00</td><td>2.00</td><td>1.00</td><td>1.00</td></tr>\n",
       "</tbody>\n",
       "</table>\n"
      ],
      "text/latex": [
       "\\begin{tabular}{r|llllllllll}\n",
       "  & ExCl & C40M & C40C & C20M & C20C & ExOs & O40M & O40C & O20M & O20C\\\\\n",
       "\\hline\n",
       "\tC1 & 0.00 & 3.86 & 2.76 & 2.13 & 0.97 & 2.28 & 3.28 & 3.17 & 2.33 & 2.38\\\\\n",
       "\tC2 & 3.17 & 2.96 & 1.55 & 2.53 & 2.21 & 2.95 & 0.88 & 0.00 & 1.36 & 1.58\\\\\n",
       "\tP & 1.00 & 2.00 & 2.00 & 1.00 & 1.00 & 1.00 & 2.00 & 2.00 & 2.00 & 2.00\\\\\n",
       "\tC1 & 0.82 & 3.41 & 2.12 & 1.81 & 0.24 & 2.00 & 2.51 & 2.35 & 1.58 & 1.68\\\\\n",
       "\tC2 & 2.64 & 2.38 & 0.86 & 1.76 & 1.67 & 2.98 & 0.68 & 0.77 & 1.48 & 1.73\\\\\n",
       "\tP & 1.00 & 2.00 & 2.00 & 2.00 & 1.00 & 1.00 & 2.00 & 2.00 & 2.00 & 1.00\\\\\n",
       "\tC1 & 1.27 & 3.96 & 2.53 & 2.47 & 0.90 & 1.27 & 2.69 & 2.28 & 1.14 & 1.14\\\\\n",
       "\tC2 & 2.64 & 1.91 & 0.37 & 1.36 & 1.72 & 3.34 & 0.71 & 1.22 & 1.92 & 2.17\\\\\n",
       "\tP & 1.00 & 2.00 & 2.00 & 2.00 & 1.00 & 1.00 & 2.00 & 2.00 & 1.00 & 1.00\\\\\n",
       "\tC1 & 1.47 & 3.91 & 2.44 & 2.49 & 0.97 & 1.26 & 2.54 & 2.08 & 0.91 & 0.92\\\\\n",
       "\tC2 & 2.86 & 1.53 & 0.11 & 1.27 & 1.98 & 3.71 & 0.80 & 1.51 & 2.30 & 2.55\\\\\n",
       "\tP & 1.00 & 2.00 & 2.00 & 2.00 & 1.00 & 1.00 & 2.00 & 2.00 & 1.00 & 1.00\\\\\n",
       "\\end{tabular}\n"
      ],
      "text/markdown": [
       "\n",
       "| <!--/--> | ExCl | C40M | C40C | C20M | C20C | ExOs | O40M | O40C | O20M | O20C |\n",
       "|---|---|---|---|---|---|---|---|---|---|---|\n",
       "| C1 | 0.00 | 3.86 | 2.76 | 2.13 | 0.97 | 2.28 | 3.28 | 3.17 | 2.33 | 2.38 |\n",
       "| C2 | 3.17 | 2.96 | 1.55 | 2.53 | 2.21 | 2.95 | 0.88 | 0.00 | 1.36 | 1.58 |\n",
       "| P | 1.00 | 2.00 | 2.00 | 1.00 | 1.00 | 1.00 | 2.00 | 2.00 | 2.00 | 2.00 |\n",
       "| C1 | 0.82 | 3.41 | 2.12 | 1.81 | 0.24 | 2.00 | 2.51 | 2.35 | 1.58 | 1.68 |\n",
       "| C2 | 2.64 | 2.38 | 0.86 | 1.76 | 1.67 | 2.98 | 0.68 | 0.77 | 1.48 | 1.73 |\n",
       "| P | 1.00 | 2.00 | 2.00 | 2.00 | 1.00 | 1.00 | 2.00 | 2.00 | 2.00 | 1.00 |\n",
       "| C1 | 1.27 | 3.96 | 2.53 | 2.47 | 0.90 | 1.27 | 2.69 | 2.28 | 1.14 | 1.14 |\n",
       "| C2 | 2.64 | 1.91 | 0.37 | 1.36 | 1.72 | 3.34 | 0.71 | 1.22 | 1.92 | 2.17 |\n",
       "| P | 1.00 | 2.00 | 2.00 | 2.00 | 1.00 | 1.00 | 2.00 | 2.00 | 1.00 | 1.00 |\n",
       "| C1 | 1.47 | 3.91 | 2.44 | 2.49 | 0.97 | 1.26 | 2.54 | 2.08 | 0.91 | 0.92 |\n",
       "| C2 | 2.86 | 1.53 | 0.11 | 1.27 | 1.98 | 3.71 | 0.80 | 1.51 | 2.30 | 2.55 |\n",
       "| P | 1.00 | 2.00 | 2.00 | 2.00 | 1.00 | 1.00 | 2.00 | 2.00 | 1.00 | 1.00 |\n",
       "\n"
      ],
      "text/plain": [
       "   ExCl C40M C40C C20M C20C ExOs O40M O40C O20M O20C\n",
       "C1 0.00 3.86 2.76 2.13 0.97 2.28 3.28 3.17 2.33 2.38\n",
       "C2 3.17 2.96 1.55 2.53 2.21 2.95 0.88 0.00 1.36 1.58\n",
       "P  1.00 2.00 2.00 1.00 1.00 1.00 2.00 2.00 2.00 2.00\n",
       "C1 0.82 3.41 2.12 1.81 0.24 2.00 2.51 2.35 1.58 1.68\n",
       "C2 2.64 2.38 0.86 1.76 1.67 2.98 0.68 0.77 1.48 1.73\n",
       "P  1.00 2.00 2.00 2.00 1.00 1.00 2.00 2.00 2.00 1.00\n",
       "C1 1.27 3.96 2.53 2.47 0.90 1.27 2.69 2.28 1.14 1.14\n",
       "C2 2.64 1.91 0.37 1.36 1.72 3.34 0.71 1.22 1.92 2.17\n",
       "P  1.00 2.00 2.00 2.00 1.00 1.00 2.00 2.00 1.00 1.00\n",
       "C1 1.47 3.91 2.44 2.49 0.97 1.26 2.54 2.08 0.91 0.92\n",
       "C2 2.86 1.53 0.11 1.27 1.98 3.71 0.80 1.51 2.30 2.55\n",
       "P  1.00 2.00 2.00 2.00 1.00 1.00 2.00 2.00 1.00 1.00"
      ]
     },
     "metadata": {},
     "output_type": "display_data"
    }
   ],
   "source": [
    "round(cen,2)\n",
    "round(tab,2)"
   ]
  },
  {
   "cell_type": "markdown",
   "metadata": {
    "id": "cF8hA9ATuIvZ"
   },
   "source": [
    "#### Proceso gráfico"
   ]
  },
  {
   "cell_type": "code",
   "execution_count": 8,
   "metadata": {
    "colab": {
     "base_uri": "https://localhost:8080/",
     "height": 437
    },
    "id": "1KTPMYeVuIvZ",
    "outputId": "f948c235-ed1b-4635-d6ea-0819741c9959"
   },
   "outputs": [
    {
     "data": {
      "image/png": "[encoded data removed]",
      "text/plain": [
       "plot without title"
      ]
     },
     "metadata": {},
     "output_type": "display_data"
    }
   ],
   "source": [
    "par(mfrow=c(2,2)) # 4 gráficas\n",
    "plotfp(F,infaxes=\"no\",main=\"Paso 0\",cex=1.5)\n",
    "text(x=cen[,1],y=cen[,2],labels=c(\"1\",\"2\"),col=c(\"blue\",\"green\"),pos=4)\n",
    "points(F[tab[3,]==1,],col=\"blue\")\n",
    "points(F[tab[3,]==2,],col=\"green\")\n",
    "plotfp(F,infaxes=\"no\",main=\"Paso 1\",cex=1.5)\n",
    "s.class(F,factor(tab[3,]),col=c(\"blue\",\"green\"),add.plot=TRUE)\n",
    "plotfp(F,infaxes=\"no\",main=\"Paso 2\",cex=1.5)\n",
    "s.class(F,factor(tab[6,]),col=c(\"blue\",\"green\"),add.plot=TRUE)\n",
    "plotfp(F,infaxes=\"no\",main=\"Paso 3\",cex=1.5)\n",
    "s.class(F,factor(tab[9,]),col=c(\"blue\",\"green\"),add.plot=TRUE)"
   ]
  },
  {
   "cell_type": "markdown",
   "metadata": {
    "id": "sMtT8GqfuIva"
   },
   "source": [
    "### Ventajas del *K-means*\n",
    "\n",
    "- Es muy rápido\n",
    "- Poco exigente en recursos de cómputo\n",
    "\n"
   ]
  },
  {
   "cell_type": "markdown",
   "metadata": {
    "id": "zvWsYb5JNPbS"
   },
   "source": [
    "### Desventajas del *K-means* \n",
    "\n",
    "- Con un método de agrupamiento se pretende descubrir una estructura de clases en los grupos y el algoritmo $K{-}means$ requiere que se le suministre el número de clases y los puntos iniciales.\n",
    "- En general, la inercia mínima que se obtiene depende de los puntos iniciales.\n"
   ]
  },
  {
   "cell_type": "markdown",
   "metadata": {
    "id": "jWRKJh6ouIvb"
   },
   "source": [
    "# **Métodos de clasificación jerárquica**\n",
    "\n",
    "- Aglomerativos: En  Ciencias Naturales se denominan métodos de clasificación ascendente jerárquica aglomerativa\n",
    "- Divisivos  \n",
    "\n",
    "**NOTA:**Estos métodos construyen una serie de particiones anidadas. \n",
    "\n",
    "## Clasificación jerárquica aglomerativa\n",
    "\n",
    "### Algoritmo\n",
    "\n",
    "1. Calcular la matriz de  distancias entre  los $n$ individuos, \n",
    "    - Unir los dos más cercanos para tener una partición de $n-1$ clases, \n",
    "2. Calcular la distancia entre el nuevo grupo y los demás individuos, \n",
    "3. Seleccionar  los dos más cercanos, para conseguir una partición en $n-2$ clases y \n",
    "4. Continuar aglomerando hasta llegar a una partición de una clase con los $n$ individuos. \n",
    "\n",
    "- El proceso de uniones se representa en un árbol de clasificación o dendrograma. % indexado por las distancias de las uniones.\n",
    "- Estos métodos requieren de un índice de similitud, disimilitud o distancia entre individuos. \n",
    "- En nuestro contexto se selecciona la distancia Euclidiana canónica.\n",
    "- Al conformar grupos se necesita definir una distancia entre ellos, que se denomina criterio de agregación y que le da nombre a un método específico. Por ejemplo:\n",
    "\n",
    "    - *enlace simple*: distancia entre los dos individuos más cercanos cada uno de diferente grupo\n",
    "    - *enlace completo*: distancia entre los dos individuos más lejanos.}\n"
   ]
  },
  {
   "cell_type": "markdown",
   "metadata": {
    "id": "lDBs9wwxuIvb"
   },
   "source": [
    "## Distancias entre individuos"
   ]
  },
  {
   "cell_type": "markdown",
   "metadata": {
    "id": "20zUCCmauIvb"
   },
   "source": [
    "### Distancias para variables continuas"
   ]
  },
  {
   "cell_type": "markdown",
   "metadata": {
    "id": "7JcHywhruIvc"
   },
   "source": [
    "####  Dos distancias para variables continuas\n",
    "\n",
    "##### Euclidiana\n",
    "\n",
    "$$    \n",
    "d(i,l) = \\sqrt{\\sum_{j=1}^{p} \\left( x_{ij} - x_{lj} \\right)^2}\n",
    "$$       \n",
    "    \n",
    "##### Manhattan o Cityblock\n",
    "\n",
    "$$\n",
    "d(i,l) =\\sum\\limits_{j=1}^{p} \\left| x_{ij} - x_{lj} \\right|\n",
    "$$\n"
   ]
  },
  {
   "cell_type": "markdown",
   "metadata": {
    "id": "FJUpvXaMuIvc"
   },
   "source": [
    "### Distancias disponibles en la función *dist{stats}*"
   ]
  },
  {
   "cell_type": "markdown",
   "metadata": {
    "id": "2N7w-6mCuIvc"
   },
   "source": [
    "Usage:\n",
    "\n",
    "     dist(x, method = \"euclidean\", diag = FALSE, upper = FALSE, p = 2)\n",
    "\n",
    "Details:\n",
    "\n",
    "     Available distance measures are (written for two vectors x and y):\n",
    "\n",
    "     ‘euclidean’: Usual distance between the two vectors (2 norm aka\n",
    "          L_2), sqrt(sum((x_i - y_i)^2)).\n",
    "\n",
    "     ‘maximum’: Maximum distance between two components of x and y\n",
    "          (supremum norm)\n",
    "\n",
    "     ‘manhattan’: Absolute distance between the two vectors (1 norm aka\n",
    "          L_1).\n",
    "\n",
    "     ‘canberra’:\n",
    "\n",
    "          sum(|x_i - y_i| / (|x_i| + |y_i|)).  Terms with zero\n",
    "          numerator and denominator are omitted from the sum and\n",
    "          treated as if the values were missing.\n"
   ]
  },
  {
   "cell_type": "markdown",
   "metadata": {
    "id": "MeLB3T_OuIvd"
   },
   "source": [
    "## Distancias entre variables binarias disponibles en *dist.binary{ade4}*"
   ]
  },
  {
   "cell_type": "markdown",
   "metadata": {
    "id": "MJT8KsgluIvd"
   },
   "source": [
    "Tabla de contingencia $2\\times2$ contando coincidencias y no coindicencias de variables binarioas entre dos individos (n es el número de atributos):\n",
    "\n",
    "\n",
    "                      Individuo l  \n",
    "               \n",
    "                     |   1  |  0   | suma\n",
    "                     --------------------  \n",
    "      Individuos  1  |   a  |  b   | n_j\n",
    "\n",
    "         i        0  |   c  |  d   | c+d\n",
    "                     -------------------- \n",
    "              suma   |  n_k | b+d  |  n\n",
    "              \n"
   ]
  },
  {
   "cell_type": "markdown",
   "metadata": {
    "id": "4chz36hpuIve"
   },
   "source": [
    "Details:\n",
    "\n",
    "All these distances are of type $d = \\sqrt{(1 - s)}$ with $s$ a similarity coefficient:\n",
    "\n",
    "   1 = Jaccard index (1901) S3 coefficient of Gower Legendre: \n",
    "   $s_1 = \\dfrac{a}{a+b+c}$\n",
    "\n",
    "   2 = Simple matching coefficient of Sokal & Michener (1958) S4\n",
    "          coefficient of Gower & Legendre: $s_2 = \\dfrac{a+d}{a+b+c+d}$\n",
    "\n",
    "   3 = Sokal & Sneath(1963) S5 coefficient of Gower & Legendre: \n",
    "   $s_3 = \\dfrac{a}{a + 2(b + c)}$\n",
    "\n",
    "   4 = Rogers & Tanimoto (1960) S6 coefficient of Gower & Legendre: \n",
    "   $s_4 = \\dfrac{a + d}{a + 2(b + c) +d)}$\n",
    "\n",
    "   5 = Dice (1945) or Sorensen (1948) S7 coefficient of Gower &\n",
    "          Legendre: $s_5 =\\dfrac{2a}{2a + b + c}$\n",
    "\n",
    "   6 = Hamann coefficient S9 index of Gower & Legendre (1986): $s_6 = \\dfrac{\n",
    "          - (b + c) + d}{a + b + c + d}$\n",
    "\n",
    "   7 = Ochiai (1957) S12 coefficient of Gower & Legendre: $s-7 = \\dfrac{a}{\n",
    "          \\sqrt{(a + b)(a + c)}}$\n",
    "\n",
    "   8 = Sokal & Sneath (1963) S13 coefficient of Gower & Legendre: $s_8 =\n",
    "          \\dfrac{ad}{\\sqrt{(a + b)(a + c)(d + b)(d + c)}}$\n",
    "\n",
    "   9 = Phi of Pearson S14 coefficient of Gower & Legendre: $s_9 = \\dfrac{ad -\n",
    "          bc}{\\sqrt{(a + b)(a + c)(d + b)(d + c)}}$\n",
    "\n",
    "  10 = S2 coefficient of Gower & Legendre: $s_{10} =\\dfrac{a}{a + b + c + d}$\n"
   ]
  },
  {
   "cell_type": "markdown",
   "metadata": {
    "id": "aJ0hCRp3uIve"
   },
   "source": [
    "## Distancias entre grupos = métodos de agregación"
   ]
  },
  {
   "cell_type": "markdown",
   "metadata": {
    "id": "nQdJpFT8uIve"
   },
   "source": [
    "### Enlace simple\n",
    "La distancia entre dos grupos $A$ y $B$ es igual a\n",
    "la distancia de los dos individuos de diferente grupo más cercanos:\n",
    "$$ d(A,B) = \\min \\{ d(i,l); i \\in A; l \\in B  \\} $$\n",
    "Este criterio tiende a producir grupos\n",
    "alargados (efecto de encadenamiento), que pueden incluir elementos\n",
    "muy distintos en los extremos. \n",
    "\n"
   ]
  },
  {
   "cell_type": "markdown",
   "metadata": {
    "id": "8v7BB9QtuIvf"
   },
   "source": [
    "### Enlace completo\n",
    "La distancia entre los dos\n",
    "grupos $A$ y $B$ es igual a la  distancia entre los dos individuos de diferente grupo más alejados:\n",
    "$$ d(A,B) = \\max \\{ d(i,l); i \\in A; l \\in B  \\} $$\n",
    "\n",
    "El enlace completo tiende a producir grupos esféricos.\n",
    "\n"
   ]
  },
  {
   "cell_type": "markdown",
   "metadata": {
    "id": "l1KZGFU_uIvf"
   },
   "source": [
    "### **Ejemplo** de \"juguete\" utilizando la distancia de Manhatan entre individuos y el enlace completo como distancia entre grupos.\n",
    "Sean los puntos a clasificar:"
   ]
  },
  {
   "cell_type": "code",
   "execution_count": 9,
   "metadata": {
    "colab": {
     "base_uri": "https://localhost:8080/",
     "height": 437
    },
    "id": "7EOnCnEKuIvf",
    "outputId": "418231dd-46e6-42e6-8191-e78031eda045"
   },
   "outputs": [
    {
     "data": {
      "image/png": "[encoded data removed]",
      "text/plain": [
       "plot without title"
      ]
     },
     "metadata": {},
     "output_type": "display_data"
    }
   ],
   "source": [
    "a<-c(1,1);b<-c(2,2);c<-c(3,1);d<-c(3,3);e<-c(3,4);f<-c(5,4)\n",
    "X<-rbind(a,b,c,d,e,f)\n",
    "s.label(X,clabel=2)"
   ]
  },
  {
   "cell_type": "markdown",
   "metadata": {
    "id": "heUZW8zCuIvg"
   },
   "source": [
    "Las distancias de Manhattan son:"
   ]
  },
  {
   "cell_type": "code",
   "execution_count": 10,
   "metadata": {
    "colab": {
     "base_uri": "https://localhost:8080/",
     "height": 119
    },
    "id": "gzf17QdpuIvg",
    "outputId": "ead5a763-52dc-42d0-9679-71496559f652"
   },
   "outputs": [
    {
     "data": {
      "text/plain": [
       "  a b c d e\n",
       "b 2        \n",
       "c 2 2      \n",
       "d 4 2 2    \n",
       "e 5 3 3 1  \n",
       "f 7 5 5 3 2"
      ]
     },
     "metadata": {},
     "output_type": "display_data"
    }
   ],
   "source": [
    "D<-dist(X,\"manhattan\");D"
   ]
  },
  {
   "cell_type": "markdown",
   "metadata": {
    "id": "uQB8l6XQuIvh"
   },
   "source": [
    "##### Pasos\n",
    "1. Se unen d y e a una distancia de 1\n",
    "2. Se unen a y b a una distancia de 2\n",
    "3. Se unen ab y c auna distancia de 2\n",
    "4. Se unen de y f a una distancia de 3\n",
    "5. Se unen abc y def a una distancia de 7"
   ]
  },
  {
   "cell_type": "code",
   "execution_count": 11,
   "metadata": {
    "colab": {
     "base_uri": "https://localhost:8080/",
     "height": 252
    },
    "id": "4ADNktJ1uIvh",
    "outputId": "144e1360-ed05-4a97-b1af-5f94af8c185e"
   },
   "outputs": [
    {
     "data": {
      "text/html": [
       "<table>\n",
       "<thead><tr><th scope=col>X1</th><th scope=col>X2</th><th scope=col>hc.height</th></tr></thead>\n",
       "<tbody>\n",
       "\t<tr><td>-4</td><td>-5</td><td>1 </td></tr>\n",
       "\t<tr><td>-1</td><td>-2</td><td>2 </td></tr>\n",
       "\t<tr><td>-3</td><td> 2</td><td>2 </td></tr>\n",
       "\t<tr><td>-6</td><td> 1</td><td>3 </td></tr>\n",
       "\t<tr><td> 3</td><td> 4</td><td>7 </td></tr>\n",
       "</tbody>\n",
       "</table>\n"
      ],
      "text/latex": [
       "\\begin{tabular}{r|lll}\n",
       " X1 & X2 & hc.height\\\\\n",
       "\\hline\n",
       "\t -4 & -5 & 1 \\\\\n",
       "\t -1 & -2 & 2 \\\\\n",
       "\t -3 &  2 & 2 \\\\\n",
       "\t -6 &  1 & 3 \\\\\n",
       "\t  3 &  4 & 7 \\\\\n",
       "\\end{tabular}\n"
      ],
      "text/markdown": [
       "\n",
       "| X1 | X2 | hc.height |\n",
       "|---|---|---|\n",
       "| -4 | -5 | 1  |\n",
       "| -1 | -2 | 2  |\n",
       "| -3 |  2 | 2  |\n",
       "| -6 |  1 | 3  |\n",
       "|  3 |  4 | 7  |\n",
       "\n"
      ],
      "text/plain": [
       "  X1 X2 hc.height\n",
       "1 -4 -5 1        \n",
       "2 -1 -2 2        \n",
       "3 -3  2 2        \n",
       "4 -6  1 3        \n",
       "5  3  4 7        "
      ]
     },
     "metadata": {},
     "output_type": "display_data"
    }
   ],
   "source": [
    "hc<-hclust(D)\n",
    "data.frame(hc$merge,hc$height)"
   ]
  },
  {
   "cell_type": "markdown",
   "metadata": {
    "id": "-ZWoemBjuIvn"
   },
   "source": [
    "#####  Árbol o dendrograma"
   ]
  },
  {
   "cell_type": "code",
   "execution_count": 12,
   "metadata": {
    "colab": {
     "base_uri": "https://localhost:8080/",
     "height": 437
    },
    "id": "A7PBIO-OuIvn",
    "outputId": "063bc8ac-d6ac-41ff-d6b7-169b2bacff4e"
   },
   "outputs": [
    {
     "data": {
      "image/png": "[encoded data removed]",
      "text/plain": [
       "Plot with title \"Cluster Dendrogram\""
      ]
     },
     "metadata": {},
     "output_type": "display_data"
    }
   ],
   "source": [
    "plot(hc)"
   ]
  },
  {
   "cell_type": "markdown",
   "metadata": {
    "id": "mv8VLWeiuIvo"
   },
   "source": [
    "##### Ultramétrica asociada al árbol\n",
    "\n",
    "       | a | b | c | d | e\n",
    "       -------------------\n",
    "     b | 2 |       \n",
    "     c | 2 | 2      \n",
    "     d | 7 | 7 | 7    \n",
    "     e | 7 | 7 | 7 | 1  \n",
    "     f | 7 | 7 | 7 | 3 | 3"
   ]
  },
  {
   "cell_type": "markdown",
   "metadata": {
    "id": "ELwvrXZPbVpf"
   },
   "source": [
    "### Enlace promedio\n",
    "La distancia entre los dos\n",
    "grupos es el promedio de  distancias entre todas las parejas de individuos  de diferente grupo:\n",
    "\n",
    "$$ d(A,B) =  \\frac{1}{n_{_A} n_{_B}}\\sum_{i \\in A} \\sum_{l \\in B} d(i,l) \n",
    "$$"
   ]
  },
  {
   "cell_type": "markdown",
   "metadata": {
    "id": "UkWjuLDBuIvp"
   },
   "source": [
    "## Método de Ward \n",
    "\n",
    "-  Sean $A$ y $B$  clases\n",
    "no vacías y disyuntas y \n",
    "- Pesos:  $p_{_A}$, $p_{_B}$ y \n",
    "- Centros de gravedad $\\mathbf{g}_{_A} $, $\\mathbf{g}_{_B}$, \n",
    "- Inercias intra grupo: $I_{_A} $, $I_{_B}$ \n",
    "- $AB = A \\bigcup  B$: $\\mathbf{g}_{_{AB}}$ , $I_{AB}$\n",
    "- Inercia entre $A$ y $B$ = $W(A,B)$"
   ]
  },
  {
   "cell_type": "markdown",
   "metadata": {
    "id": "8mJPIah65O-u"
   },
   "source": [
    "<img src=\"https://raw.githubusercontent.com/AprendizajeProfundo/Diplomado/master/Temas/M%C3%B3dulo%2014-%20Aprendizaje%20no%20Supervisado/Imagenes/WardColor.png\" alt=\"Ward Color\" width=\"500\" height=\"320\">"
   ]
  },
  {
   "cell_type": "markdown",
   "metadata": {
    "id": "2vMCjSG0uIvp"
   },
   "source": [
    "$$\n",
    "Inercia-entre(A,B) = p_{_A} d^2(\\mathbf{g}_{_{A}},\\mathbf{g}_{_{AB}}) + p_{_B}  d^2(\\mathbf{g}_{_{B}},\\mathbf{g}_{_{AB}})\n",
    "$$\n",
    "\n",
    "- Distancia de Ward entre grupos\n",
    "$$\n",
    " W(A,B) = \\frac{p_{_A}  p_{_B}}{p_{_A} + p_{_B}}d^{2}(\\mathbf{g}_{_A} , \\mathbf{g}_{_B}) \n",
    "$$\n",
    "\n",
    "-  Incremento de la inercia intra-grupos al unir los\n",
    "grupos $A$ y $B$ en uno solo. \n",
    "\n",
    "-  Distancia de Ward entre dos individuos $i$ \n",
    "y $l$\n",
    "\n",
    "- Distancia de Ward entre individuos\n",
    "$$\n",
    " W(i,l) = \\frac{p_i  p_l}{p_i + p_l}d^{2}(i,l) \n",
    "$$\n",
    "\n",
    "-  pesos  iguales a $1/n$ para los dos individuos\n",
    "$$\n",
    " W(i,l) = \\frac{1}{2n}d^{2}(i,l) \n",
    "$$\n",
    "- $A$, $B$ y $C$ tres grupos presentes en el mismo\n",
    "paso de construcción del árbol.\n",
    "\n",
    "-  se unen $A$ y $B$ para formar el\n",
    "grupo $AB$\n",
    "\n",
    "-   Fórmula de recurrencia\n",
    "\n",
    "- Distancia de Ward\n",
    "$$\n",
    "d(AB,C) = \\frac{(p_{_A} + p_{_C})W(A,C)+(p_{_B} + p_{_C})W(B,C)-p_{_C} W(A,B)}{p_{_A} + p_{_B} + p_{_C}} \n",
    "$$\n"
   ]
  },
  {
   "cell_type": "markdown",
   "metadata": {
    "id": "hfwqTXDwuIvq"
   },
   "source": [
    "### Procedimiento para construir el árbol con el método de Ward\n",
    "\n",
    "- Calcular la matriz de distancias de Ward entre parejas de individuos\n",
    "\n",
    "- Seleccionar la pareja de grupos (individuos en el primer paso) que presente la menor distancia de Ward para conformar el nuevo grupo.\n",
    "         \n",
    "- Calcular las distancias entre todos los grupos y el grupo recién conformado utilizando la fórmula de distancia de Ward o la fórmula de recurrencia.\n",
    "\n",
    "- Eliminar las filas y columnas correspondientes a los individuos o grupos unidos y adicionar una fila y una columna para registrar las distancias entre el nuevo grupo y\n",
    "los demás.\n",
    "         \n",
    "- Repetir el proceso hasta llegar a una sola clase.\n",
    "     "
   ]
  },
  {
   "cell_type": "markdown",
   "metadata": {
    "id": "6aMluxOWuIvr"
   },
   "source": [
    "### De inercia entre clases a inercia intra-clases y viceversa \n",
    "\n",
    "#### Al formar el árbol\n",
    "\n",
    "- Antes de empezar las uniones toda la inercia corresponde a inercia\n",
    "entre-clases (cada individuo es una clase)\n",
    "- a medida que llevan a\n",
    "cabo las uniones, la inercia entre-clases va pasando a inercia intra-clases\n",
    "- al terminar, toda la inercia es intra-clases (todos los elementos\n",
    "conforman una clase)\n",
    "- la suma de los índices de nivel es igual a la inercia total \n",
    "\n",
    "#### Al cortar el árbol sucesivamente\n",
    "\n",
    "- en dos clases: el último índice de nivel es la inercia entre las dos clases.\n",
    "- en  tres clases: la inercia entre clases es la suma de los dos últimos índices de nivel.\n",
    "- hasta $n$ clases de un individuo: toda la inercia es entre clases. \n"
   ]
  },
  {
   "cell_type": "markdown",
   "metadata": {
    "id": "YIe5UTE4uIvr"
   },
   "source": [
    "### **Ejemplo** café\n",
    "\n",
    "#### Distancias de Ward entre cafés\n"
   ]
  },
  {
   "cell_type": "code",
   "execution_count": 13,
   "metadata": {
    "colab": {
     "base_uri": "https://localhost:8080/",
     "height": 187
    },
    "id": "uUFvQzheuIvr",
    "outputId": "3de9c845-fac8-45f0-b465-ba584bebbc91"
   },
   "outputs": [
    {
     "data": {
      "text/plain": [
       "      ExCl  C40M  C40C  C20M  C20C  ExOs  O40M  O40C  O20M\n",
       "C40M 0.744                                                \n",
       "C40C 0.382 0.119                                          \n",
       "C20M 0.228 0.151 0.069                                    \n",
       "C20C 0.047 0.505 0.178 0.127                              \n",
       "ExOs 0.259 1.328 0.668 0.700 0.236                        \n",
       "O40M 0.537 0.220 0.039 0.207 0.268 0.650                  \n",
       "O40C 0.501 0.437 0.120 0.320 0.244 0.434 0.039            \n",
       "O20M 0.273 0.730 0.259 0.377 0.126 0.126 0.211 0.093      \n",
       "O20C 0.284 0.828 0.319 0.438 0.147 0.095 0.263 0.124 0.003"
      ]
     },
     "metadata": {},
     "output_type": "display_data"
    }
   ],
   "source": [
    "data(cafe)\n",
    "Wcafe<-1/20*dist(F)^2;round(Wcafe,3)"
   ]
  },
  {
   "cell_type": "markdown",
   "metadata": {
    "id": "W3V14zWOuIvs"
   },
   "source": [
    "#### Construcción del árbol"
   ]
  },
  {
   "cell_type": "code",
   "execution_count": 14,
   "metadata": {
    "colab": {
     "base_uri": "https://localhost:8080/",
     "height": 437
    },
    "id": "treOhm8LIQMk",
    "outputId": "81712008-676c-43e8-e627-d5ad1c45d46b"
   },
   "outputs": [
    {
     "data": {
      "image/png": "[encoded data removed]",
      "text/plain": [
       "Plot with title \"Cluster Dendrogram\""
      ]
     },
     "metadata": {},
     "output_type": "display_data"
    }
   ],
   "source": [
    "hclCafe<-ward.cluster(dista=dist(F),h.clust=1) # función de FactoClass\n",
    "plot(hclCafe)"
   ]
  },
  {
   "cell_type": "code",
   "execution_count": 15,
   "metadata": {
    "colab": {
     "base_uri": "https://localhost:8080/",
     "height": 187
    },
    "id": "aQSL2JvtuIvu",
    "outputId": "0bab7539-6a98-434e-f661-a51ea72d3598"
   },
   "outputs": [
    {
     "data": {
      "text/plain": [
       "      ExCl  C40M  C40C  C20M  C20C  ExOs  O40M  O40C  O20M\n",
       "C40M 0.744                                                \n",
       "C40C 0.382 0.119                                          \n",
       "C20M 0.228 0.151 0.069                                    \n",
       "C20C 0.047 0.505 0.178 0.127                              \n",
       "ExOs 0.259 1.328 0.668 0.700 0.236                        \n",
       "O40M 0.537 0.220 0.039 0.207 0.268 0.650                  \n",
       "O40C 0.501 0.437 0.120 0.320 0.244 0.434 0.039            \n",
       "O20M 0.273 0.730 0.259 0.377 0.126 0.126 0.211 0.093      \n",
       "O20C 0.284 0.828 0.319 0.438 0.147 0.095 0.263 0.124 0.003"
      ]
     },
     "metadata": {},
     "output_type": "display_data"
    }
   ],
   "source": [
    " W<-1/20*dist(F)^2;round(W,3)"
   ]
  },
  {
   "cell_type": "markdown",
   "metadata": {
    "id": "zvnwGGIO41DI"
   },
   "source": [
    "<img src=\"https://raw.githubusercontent.com/AprendizajeProfundo/Diplomado/master/Temas/M%C3%B3dulo%2014-%20Aprendizaje%20no%20Supervisado/Imagenes/CafeToyWard.png\" alt=\"Ward Color\" width=\"500\" height=\"320\">"
   ]
  },
  {
   "cell_type": "code",
   "execution_count": 16,
   "metadata": {
    "colab": {
     "base_uri": "https://localhost:8080/",
     "height": 127
    },
    "id": "xDK3taKwuIvv",
    "outputId": "64db10ff-6643-4361-e7ca-76d5db15d9b4"
   },
   "outputs": [
    {
     "data": {
      "text/html": [
       "<table>\n",
       "<tbody>\n",
       "\t<tr><th scope=row>Nodo</th><td>11   </td><td>12   </td><td>13   </td><td>14   </td><td>15   </td><td>16   </td><td>17   </td><td>18   </td><td>19   </td></tr>\n",
       "\t<tr><th scope=row>Ward</th><td>0.003</td><td>0.039</td><td>0.047</td><td>0.069</td><td>0.146</td><td>0.157</td><td>0.424</td><td>0.442</td><td>1.563</td></tr>\n",
       "\t<tr><th scope=row>SumaWard</th><td>0.003</td><td>0.042</td><td>0.089</td><td>0.158</td><td>0.304</td><td>0.461</td><td>0.885</td><td>1.327</td><td>2.890</td></tr>\n",
       "</tbody>\n",
       "</table>\n"
      ],
      "text/latex": [
       "\\begin{tabular}{r|lllllllll}\n",
       "\tNodo & 11    & 12    & 13    & 14    & 15    & 16    & 17    & 18    & 19   \\\\\n",
       "\tWard & 0.003 & 0.039 & 0.047 & 0.069 & 0.146 & 0.157 & 0.424 & 0.442 & 1.563\\\\\n",
       "\tSumaWard & 0.003 & 0.042 & 0.089 & 0.158 & 0.304 & 0.461 & 0.885 & 1.327 & 2.890\\\\\n",
       "\\end{tabular}\n"
      ],
      "text/markdown": [
       "\n",
       "| Nodo | 11    | 12    | 13    | 14    | 15    | 16    | 17    | 18    | 19    |\n",
       "| Ward | 0.003 | 0.039 | 0.047 | 0.069 | 0.146 | 0.157 | 0.424 | 0.442 | 1.563 |\n",
       "| SumaWard | 0.003 | 0.042 | 0.089 | 0.158 | 0.304 | 0.461 | 0.885 | 1.327 | 2.890 |\n",
       "\n"
      ],
      "text/plain": [
       "         [,1]  [,2]  [,3]  [,4]  [,5]  [,6]  [,7]  [,8]  [,9] \n",
       "Nodo     11    12    13    14    15    16    17    18    19   \n",
       "Ward     0.003 0.039 0.047 0.069 0.146 0.157 0.424 0.442 1.563\n",
       "SumaWard 0.003 0.042 0.089 0.158 0.304 0.461 0.885 1.327 2.890"
      ]
     },
     "metadata": {},
     "output_type": "display_data"
    }
   ],
   "source": [
    "hclCafe<-ward.cluster(dista=dist(F),h.clust=2) \n",
    "Nodo=hclCafe$Nodo;Ward=round(hclCafe$Indice,3);SumaWard=round(cumsum(hclCafe$Indice),3)\n",
    "t(data.frame(Nodo,Ward,SumaWard))"
   ]
  },
  {
   "cell_type": "markdown",
   "metadata": {
    "id": "phkmjbF7uIvw"
   },
   "source": [
    "# **Combinación de métodos**\n",
    "Desde el punto de vista del análisis de datos los métodos a utilizar son: el de Ward de aglomeración jerárquica y el *K-means*, porque buscan grupos que tengan inercia intragrupos lo más baja posible. Estos métodos se complementan para subsanar entre sí las desventajas y aprovechar sus ventajas.\n",
    "\n",
    "Los métodos de clasificación jerárquica tienen dos desventajas: utilizan mayor recurso de cómputo y las particiones obtenidas quedan anidadas. \n",
    "\n",
    "El *K-means* tiene también dos problemas: hay que darle el número de clases iniciales y los puntos iniciales. El número de clases es precisamente lo que se quiere descubrir en una tabla de datos y el óptimo es local, es decir, depende de los puntos iniciales.\n",
    "\n",
    "La estrategia programada en DtmVic y FactoClass, combina los dos métodos, ya que sus ventajas y desventajas son complementarias. Cuando el número de elementos a clasificar no es tan grande y  el equipo de cálculo lo permite, se realiza la clasificación jerárquica aglomerativa con el método de Ward. El \"histograma de índices de nivel\" permite visualizar las mejores alturas de corte del árbol, y por ende, el número de clases. Luego, se disminuye la inercia intraclases de la partición obtenida utilizando  *K-means*, con los centros de gravedad de la partición derivada de cortar el árbol como puntos iniciales.\n"
   ]
  },
  {
   "cell_type": "markdown",
   "metadata": {
    "id": "QN3-o6_luIvw"
   },
   "source": [
    "# **Clasificación a partir de coordenadas**\n",
    "Los métodos factoriales se pueden utilizar para transformar los datos antes de realizar procedimientos de clasificación automática. Una de las salidas de un  análisis factorial es una tabla de individuos por coordenadas factoriales.  \n",
    "\n",
    "Entonces, las columnas de las tablas de entrada de los métodos de clasificación son de la misma naturaleza: coordenadas factoriales, que son de variables continuas.  \n",
    "\n",
    "En ese sentido, los métodos factoriales pueden cumplir  con dos funciones: la primera, en el caso de análisis de correspondencias, es la transformación de unas variables cualitativas en otras continuas; la segunda es una función de filtro, al considerar que los $S$ primeros ejes factoriales contienen la información y los otros son ruido. \n",
    "\n",
    "En otras palabras, *ACP* y los *AC*, son métodos de pretratamiento de datos para la clasificación que pueden cumplir con dos funciones: cuantificar las variables cualitativas y reducir la dimensionalidad de los datos."
   ]
  },
  {
   "cell_type": "markdown",
   "metadata": {
    "id": "mCHyRsjO51Fm"
   },
   "source": [
    "<img src=\"https://raw.githubusercontent.com/AprendizajeProfundo/Diplomado/master/Temas/M%C3%B3dulo%2014-%20Aprendizaje%20no%20Supervisado/Imagenes/clasVarNom.png\" alt=\"Clas Var Nom\" width=\"500\" height=\"280\">"
   ]
  },
  {
   "cell_type": "markdown",
   "metadata": {
    "id": "R3jBzK-UuIvy"
   },
   "source": [
    "## Función de transformación o cuantificación\n",
    "Un programa de *ACP* normado  recibe los datos originales y los estandariza antes de obtener valores y vectores propios, y coordenadas factoriales de individuos y variables. \n",
    "\n",
    "En un análisis de correspondencias las coordenadas factoriales se constituyen en nuevas variables  continuas, con las que se puede utilizar la  combinación de métodos de clasificación para variables continuas."
   ]
  },
  {
   "cell_type": "markdown",
   "metadata": {
    "id": "v6o_Y2keuIvy"
   },
   "source": [
    "## Función de filtro \n",
    "Conectar un método factorial con la clasificación da la posibilidad de seleccionar el número de ejes a utilizar en esta clasificación. \n",
    "Se utiliza el histograma de valores propios y otros criterios para la selección del número de ejes,  pero haciendo énfasis en el sentido de filtro: aquí seleccionar más ejes puede significar mayor recurso de cómputo, pero no más trabajo para el analista. \n",
    "\n",
    "En problemas pequeños y medianos el recurso de cómputo no tiene importancia. En general, el número de ejes para la clasificación es mayor que el número de ejes seleccionados para analizar en un método factorial. \n",
    "\n",
    "Muchas veces se utilizan todos los ejes para la clasificación, lo que es equivalente  a realizar el análisis con las variables originales.\n"
   ]
  },
  {
   "cell_type": "markdown",
   "metadata": {
    "id": "4m3lYVouuIvy"
   },
   "source": [
    "# **Caracterización automática de las clases**\n",
    "En términos generales, en un procedimiento de clasificación se obtiene una variable cualitativa indicadora de la clase o grupo al que pertenece cada elemento clasificado. Esta variable se puede cruzar con cualquiera de las variables presentes en la tabla de datos correspondiente. \n",
    "\n",
    "Los procedimientos para describir dos variables se pueden utilizar para ese propósito, en particular los ordenamientos por valores test. \n",
    "\n",
    "Las variables continuas o las categorías de las variables cualitativas con diferencias que generan un valor test superior a un umbral, generalmente 2, se dice que caracterizan a la clase. \n",
    "\n",
    "Las que generan valores test inferiores al umbral son de signo negativo (-2, por ejemplo) y se dice que caracterizan negativamente a la clase respectiva.\n",
    "\n",
    "## Descripción con variables continuas\n",
    "La clase es la variable cualitativa que se desea describir con las variables continuas.\n",
    "\n",
    "Las variables continuas que caracterizan a una clase son aquellas que tienen la media de la clase suficientemente diferente de la media global. \n",
    "\n",
    "Para encontrarlas y ordenarlas se \n",
    "hace la comparación de la media dentro de la clase con la media global, siguiendo el procedimiento de ordenamiento mediante valores test. \n",
    "\n",
    "$$t_k = \\frac{\\bar{x}_k  - \\mu}{\\sigma_k} =   \\sqrt{\\frac{(n-1) n_k}{n-n_k}} \\  \\ \\frac{\\bar{x}_k  - \\mu}{\\sigma}\n",
    "%t_k = \\frac{(\\bar{X}_k  - \\bar{X})}{s_k(X)} \\ \\ \\ con \\ \\ \\  s_k^2(X) = \\frac{n-n_k}{n-1} \\frac{s^2(X)}{n_k}\n",
    "$$\n",
    "Donde  $\\mu$  y $\\sigma^2$ son la media y varianza globlales (de todos los datos); $n_k$ y  $\\bar{x} _k$ el número y la media del grupo de individuos que asumen la categoría $k$ . \n",
    "\n",
    "\n",
    "En la presentación de los resultados se pueden incluir los *boxplots* de las variables que caracterizan a una o más clases.\n",
    "\n",
    "## Descripción con variables cualitativas\n",
    "Una categoría es característica de una clase si su frecuencia dentro de la clase es suficientemente diferente de su frecuencia global. \n",
    "\n",
    "Para encontrarlas y ordenarlas se utiliza el procedimiento de valores test (ver capítulo 7 del libro EDM)\n",
    "\n",
    "Para las variables que tengan categorías que caracterizan a las clases se pueden obtener las gráficas de perfiles de las clases \n",
    "\n",
    "\n"
   ]
  },
  {
   "cell_type": "markdown",
   "metadata": {
    "id": "-64lhqcBuIvy"
   },
   "source": [
    "## Una estrategia de clasificación\n",
    "La estrategia de clasificación que se ha propuesto, se resume en los siguientes pasos:\n",
    "\n",
    "1. Realizar el análisis en ejes principales correspondiente.\n",
    "2. Seleccionar el número de ejes para la clasificación.\n",
    "3. Si el número de \"individuos\" es muy grande, realizar un *K-means* de preagrupamiento en miles de clases.\n",
    "4. Realizar la clasificación jerárquica con el método de Ward sobre los \"individuos\" o los grupos del paso anterior.\n",
    "5. Decidir el número de clases y cortar el árbol.\n",
    "6. Realizar *K-means* de consolidación partiendo de los centros de gravedad de la partición obtenida al cortar el árbol.\n",
    "7. Caracterizar las clases.\n",
    "8. Proyección de las clases sobre los planos factoriales.\n"
   ]
  },
  {
   "cell_type": "markdown",
   "metadata": {
    "id": "fVHPFXQf6Zsc"
   },
   "source": [
    "<img src=\"https://raw.githubusercontent.com/AprendizajeProfundo/Diplomado/master/Temas/M%C3%B3dulo%2014-%20Aprendizaje%20no%20Supervisado/Imagenes/estrategiaFactoClass.png\" alt=\"Estrategia FactoClass\" width=\"600\" height=\"420\">"
   ]
  },
  {
   "cell_type": "markdown",
   "metadata": {
    "id": "TpjIrdZRuIv0"
   },
   "source": [
    "# **Ejemplo de aplicación: Clasificación de los niños según el consumo cultural**\n",
    "\n",
    "## Objetivo \n",
    "Complementar la descripción del consumo cultural realizada con análisis de correspondencias múltiples.\n",
    "\n",
    "La función *FactoClass{FactoClass}*\n"
   ]
  },
  {
   "cell_type": "code",
   "execution_count": 17,
   "metadata": {
    "colab": {
     "base_uri": "https://localhost:8080/",
     "height": 181
    },
    "id": "0JcugoT7uIv0",
    "outputId": "fc7d4ff8-60f3-4036-80d8-abd2157eccd9"
   },
   "outputs": [
    {
     "name": "stderr",
     "output_type": "stream",
     "text": [
      "Warning message in readChar(con, 5L, useBytes = TRUE):\n",
      "\"cannot open compressed file '../Datos/ninios8a11.Rda', probable reason 'No such file or directory'\""
     ]
    },
    {
     "ename": "ERROR",
     "evalue": "Error in readChar(con, 5L, useBytes = TRUE): no se puede abrir la conexión\n",
     "output_type": "error",
     "traceback": [
      "Error in readChar(con, 5L, useBytes = TRUE): no se puede abrir la conexión\nTraceback:\n",
      "1. load(\"../Datos/ninios8a11.Rda\")",
      "2. readChar(con, 5L, useBytes = TRUE)"
     ]
    }
   ],
   "source": [
    "load(\"../Datos/ninios8a11.Rda\")\n",
    "ninios8a11$Edad<-factor(ninios8a11$Edad)\n",
    "# variables activas\n",
    "Y <- subset(ninios8a11,select=c(Teat,Libr,Cine,Vide,Radi,Musi))\n",
    "# variables suplementarias\n",
    "Ys<-ninios8a11[,c(2,29,30,32,35)]"
   ]
  },
  {
   "cell_type": "markdown",
   "metadata": {
    "id": "gObnExSUuIv1"
   },
   "source": [
    "## Variables activas"
   ]
  },
  {
   "cell_type": "code",
   "execution_count": null,
   "metadata": {
    "id": "92LManppuIv1"
   },
   "outputs": [],
   "source": [
    "par(las=1,mfrow=c(2,3),mai=c(0.55,0.5,0.1,0.1))\n",
    "for(i in 1:6){\n",
    "  cat<-attributes(Y[,i])$levels;\n",
    "  per<-tabulate(Y[,i])/nrow(Y)*100;\n",
    "  pl<-plot(Y[,i],horiz=TRUE,col=gray(seq(1.0,0.9,\n",
    "           length=length(cat))),ylim=c(0,8),\n",
    "           xlim=c(0,1400),xlab=colnames(Y)[i]);\n",
    "  text(800,pl,round(per,1),cex=0.8,pos=4); \n",
    "}"
   ]
  },
  {
   "cell_type": "markdown",
   "metadata": {
    "id": "g9vi7gsuuIv2"
   },
   "source": [
    "## Variables ilustrativas"
   ]
  },
  {
   "cell_type": "code",
   "execution_count": null,
   "metadata": {
    "id": "1dTQqx3JuIv2"
   },
   "outputs": [],
   "source": [
    "par(las=1,mfrow=c(2,3),mai=c(0.55,0.5,0,0.1))\n",
    "for(i in 1:5){\n",
    "  cat<-attributes(Y[,i])$levels;\n",
    "  per<-tabulate(Ys[,i])/nrow(Y)*100;\n",
    "  pl<-plot(Ys[,i],horiz=TRUE,col=gray(seq(1.0,0.9,\n",
    "           length=length(cat))),ylim=c(0,8),\n",
    "           xlim=c(0,1000),xlab=colnames(Ys)[i]);\n",
    "  text(100,pl,round(per,1),cex=0.8,pos=4); \n",
    "}"
   ]
  },
  {
   "cell_type": "code",
   "execution_count": null,
   "metadata": {
    "id": "BWsaiC1FuIv3",
    "scrolled": true
   },
   "outputs": [],
   "source": [
    "library(FactoClass)"
   ]
  },
  {
   "cell_type": "code",
   "execution_count": null,
   "metadata": {
    "id": "_uD39E6UuIv4"
   },
   "outputs": [],
   "source": [
    "fcConCul <- FactoClass(dfact=Y,metodo=dudi.acm,dfilu=Ys , nf = 3, nfcl = 5, k.clust = 4, \n",
    "                 scanFC = FALSE)\n"
   ]
  },
  {
   "cell_type": "code",
   "execution_count": null,
   "metadata": {
    "id": "nDAHWO2RuIv4"
   },
   "outputs": [],
   "source": [
    "names(fcConCul)"
   ]
  },
  {
   "cell_type": "code",
   "execution_count": null,
   "metadata": {
    "id": "dgLpK1gMuIv4"
   },
   "outputs": [],
   "source": [
    "barplot(fcConCul$dudi$eig,main=\"Barplot eigen-values\")"
   ]
  },
  {
   "cell_type": "code",
   "execution_count": null,
   "metadata": {
    "id": "z8nXzW4suIv5"
   },
   "outputs": [],
   "source": [
    "ultimosNodos<-tail(fcConCul$indices,20)\n",
    "ultimosNodos\n",
    "barplot(ultimosNodos$Indice[20:1],horiz=TRUE)"
   ]
  },
  {
   "cell_type": "code",
   "execution_count": null,
   "metadata": {
    "id": "-1U9gU2wuIv5"
   },
   "outputs": [],
   "source": [
    "summary(fcConCul$cluster)\n",
    "barplot(summary(fcConCul$cluster),main=\"Objetos por grupo\")"
   ]
  },
  {
   "cell_type": "code",
   "execution_count": null,
   "metadata": {
    "id": "wh5Yot9GuIv6"
   },
   "outputs": [],
   "source": [
    "fcConCul$clus.summ"
   ]
  },
  {
   "cell_type": "code",
   "execution_count": null,
   "metadata": {
    "id": "GmEJYTWRuIv6"
   },
   "outputs": [],
   "source": [
    "fcConCul$carac.cate"
   ]
  },
  {
   "cell_type": "code",
   "execution_count": null,
   "metadata": {
    "id": "RWt3eOkEuIv6"
   },
   "outputs": [],
   "source": [
    " cluster.carac(Y,fcConCul$cluster,tipo.v=\"no\",v.lim= 5,dn=3,dm=3,neg=TRUE)\n",
    "    "
   ]
  },
  {
   "cell_type": "code",
   "execution_count": null,
   "metadata": {
    "id": "4HLFjbFQuIv6"
   },
   "outputs": [],
   "source": [
    "plotFactoClass(fcConCul,roweti=\"\",infaxes=\"no\",cstar=0)"
   ]
  },
  {
   "cell_type": "code",
   "execution_count": null,
   "metadata": {
    "id": "O4bmINXLuIv7"
   },
   "outputs": [],
   "source": [
    "plotFactoClass(fcConCul,x=1,y=3,roweti=\"\",infaxes=\"no\",cstar=0)"
   ]
  },
  {
   "cell_type": "markdown",
   "metadata": {
    "id": "OQcOAZ_0uIv7"
   },
   "source": [
    "#### Caracterización de las clases con variables ilustrativas"
   ]
  },
  {
   "cell_type": "code",
   "execution_count": null,
   "metadata": {
    "id": "ZqOPu5v-uIv7"
   },
   "outputs": [],
   "source": [
    "cluster.carac(Ys,fcConCul$cluster,tipo.v=\"no\",v.lim= 2,dn=3,dm=3,neg=TRUE)\n",
    "    "
   ]
  },
  {
   "cell_type": "code",
   "execution_count": null,
   "metadata": {
    "id": "kO70c4tKuIv8"
   },
   "outputs": [],
   "source": []
  }
 ],
 "metadata": {
  "colab": {
   "collapsed_sections": [],
   "name": "Agrupamiento.ipynb",
   "provenance": []
  },
  "kernelspec": {
   "display_name": "R",
   "language": "R",
   "name": "ir"
  },
  "language_info": {
   "codemirror_mode": "r",
   "file_extension": ".r",
   "mimetype": "text/x-r-source",
   "name": "R",
   "pygments_lexer": "r",
   "version": "3.6.1"
  }
 },
 "nbformat": 4,
 "nbformat_minor": 4
}
