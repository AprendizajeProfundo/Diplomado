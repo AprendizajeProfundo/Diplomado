{
 "cells": [
  {
   "cell_type": "markdown",
   "metadata": {},
   "source": [
    "<table class=\"tfo-notebook-buttons\" align=\"left\">\n",
    "  <td>\n",
    "    <a target=\"_blank\" href=\"https://colab.research.google.com/github/AprendizajeProfundo/Diplomado/blob/master/Temas/M%C3%B3dulo%2014-%20Aprendizaje%20no%20Supervisado/Cuadernos/BreveIntroduccion2R.ipynb\"><img src=\"https://www.tensorflow.org/images/colab_logo_32px.png\" />Run in Google Colab</a>\n",
    "  </td>\n",
    "</table>"
   ]
  },
  {
   "cell_type": "markdown",
   "metadata": {
    "id": "1Ch3SsEFYI1u"
   },
   "source": [
    "# **<p align=\"center\"><font size=5 color=#006600>Diplomado en Inteligencia Artificial y Aprendizaje Profundo**"
   ]
  },
  {
   "cell_type": "markdown",
   "metadata": {
    "id": "OOJ7NOMnelA2"
   },
   "source": [
    "# **<p align=\"center\"><font size=5 color=#FF0033>Breve introducción a R**"
   ]
  },
  {
   "cell_type": "markdown",
   "metadata": {
    "id": "z9oBWmjodpyc"
   },
   "source": [
    "# **<font size=5 color=#0000FF>Profesores**"
   ]
  },
  {
   "cell_type": "markdown",
   "metadata": {
    "id": "ms1l2HJYeCh7"
   },
   "source": [
    "1. Campo Elías Pardo Turriago, cepardot@unal.edu.co \n",
    "2. Alvaro Mauricio Montenegro Díaz,ammontenegrod@unal.edu.co \n",
    "3. Daniel Mauricio Montenegro Reyes, dextronomo@gmail.com\n",
    "\n",
    "\n",
    "\n",
    "\n"
   ]
  },
  {
   "cell_type": "markdown",
   "metadata": {
    "id": "TApWfcZxemhD"
   },
   "source": [
    "# **<font size=5 color=#0000FF>Asesora Medios y Marketing Digital**"
   ]
  },
  {
   "cell_type": "markdown",
   "metadata": {
    "id": "43gtv0Abextl"
   },
   "source": [
    "1. Maria del Pilar Montenegro, pmontenegro88@gmail.com"
   ]
  },
  {
   "cell_type": "markdown",
   "metadata": {
    "id": "jLSx3bVoe9fZ"
   },
   "source": [
    "# **<font size=5 color=#0000FF>Asistentes**"
   ]
  },
  {
   "cell_type": "markdown",
   "metadata": {
    "id": "74W8jrBSfFXl"
   },
   "source": [
    "1. Oleg Jarma, ojarmam@unal.edu.co\n",
    "2. Laura Lizarazo, ljlizarazore@unal.edu.co\n",
    "3. Julieth Andrea López Castiblanco, julalopezcas@unal.edu.co"
   ]
  },
  {
   "cell_type": "markdown",
   "metadata": {
    "id": "yEs44GdM-3bD"
   },
   "source": [
    "**Nota:** los trozos de código de este cuaderno son de R"
   ]
  },
  {
   "cell_type": "markdown",
   "metadata": {
    "id": "L7dnhZUdeyR7"
   },
   "source": [
    "## **Contenido**"
   ]
  },
  {
   "cell_type": "markdown",
   "metadata": {
    "id": "ok00ZM5AgXw6"
   },
   "source": [
    "* [Introducción](#Introducción)\n",
    "    * [¿Qué es R y para qué es usado?](#¿Qué-es-R-y-para-qué-es-usado?)\n",
    "    * [Instalación](#Instalación)\n",
    "    * [Características](#Características)\n",
    "* [Cómo empezar y avanzar en R](#Cómo-empezar-y-avanzar-en-R)\n",
    "    * [Algunas funciones para estadística](#Algunas-funciones-para-estadística)\n",
    "    * [Datos base](#Lectura-de-datos)\n",
    "    * [Instalación de paquetes](#Instalación-de-paquetes)\n",
    "    * [Algunos gráficos](#Algunos-gráficos)\n",
    "* [Algunos aspectos y herramientas cotidianas](#Algunos-aspectos-y-herramientas-cotidianas)\n",
    "* [Instalación de paquetes](#Instalación-de-paquetes)\n",
    "* [Referencias](#Referencias)"
   ]
  },
  {
   "cell_type": "markdown",
   "metadata": {},
   "source": [
    "<center>\n",
    "<img src=\"https://ih1.redbubble.net/image.522687890.2102/raf,750x1000,075,t,FFFFFF:97ab1c12de.u4.jpg\" alt=\"eigenvectores\" width=\"250\">\n",
    "<center>"
   ]
  },
  {
   "cell_type": "markdown",
   "metadata": {
    "id": "liXrxkeGMutK",
    "tags": []
   },
   "source": [
    "# **Introducción**"
   ]
  },
  {
   "cell_type": "markdown",
   "metadata": {},
   "source": [
    "## ¿Qué es R y para qué es usado?\n",
    "\n",
    "R es un lenguaje de programación y entorno computacional distribuido de manera gratuita, a través de la Licencia Pública General de GNU, por lo que es software libre y de código abierto. R es diferente a otros lenguajes de programación que por lo general están diseñados para realizar muchas tareas diferentes; esto es porque fue creado con el propósito de hacer **estadística**, para personas con experiencia en otros lenguajes puede resultar extraño en algunos sentidos, pero también es la razón por la que R es una herramienta muy poderosa para el trabajo en estadística, puesto que funciona de la manera que una persona especializada en esta disciplina desearía que lo hiciera.\n",
    "\n",
    "R tiene sus orígenes en S, un lenguaje de programación creado en los Laboratorios Bell de Estados Unidos. Dado a las restricciones de uso Ross Ihaka y Robert Gentleman, de la Universidad de Auckland en Nueva Zelanda, decidieron crear una implementación abierta y gratuita de S, trabajo que inició en 1992 y que tuvo una versión estable en 2000. R es un lenguaje relativamente joven pero que ha experimentado un crecimiento acelerado en su adopción durante los últimos 10 años ya que permite responder preguntas mediante el uso de datos de forma efectiva, y compartir y generar codigo en comunidad.\n",
    "\n",
    "Sus principales usos son en los campos de aprendizaje automático (machine learning), minería de datos, investigación biomédica, bioinformática y matemáticas financieras. Sin embargo, con el paso del tiempo los usuarios de este lenguaje han creado extensiones a R, llamadas **paquetes**, que han ampliado su funcionalidad. En la actualidad es posible realizar en R minería de textos, procesamiento de imagen, visualizaciones interactivas de datos y procesamiento de Big Data, entre muchas otras cosas."
   ]
  },
  {
   "cell_type": "markdown",
   "metadata": {},
   "source": [
    "## Instalación\n",
    "\n",
    "[CRAN](https://cran.r-project.org/): The Comprehensive R Archive Network. Ahí se archivan todas las versiones de R base, así como todos los paquetes para R que han pasado por un proceso de revisión riguroso, realizado por el CRAN Team, que se encarga de asegurar su correcto funcionamiento.\n",
    "\n",
    "Una vez instalado R en nuestro computador, tenemos la consola en los trozos de código de Notebook. Sumemos dos números:"
   ]
  },
  {
   "cell_type": "code",
   "execution_count": 1,
   "metadata": {
    "colab": {
     "base_uri": "https://localhost:8080/",
     "height": 34
    },
    "id": "2m4JSKMZ6Tan",
    "outputId": "4c6678d7-35be-40dc-f771-e60ef08af119"
   },
   "outputs": [
    {
     "data": {
      "text/html": [
       "999"
      ],
      "text/latex": [
       "999"
      ],
      "text/markdown": [
       "999"
      ],
      "text/plain": [
       "[1] 999"
      ]
     },
     "metadata": {},
     "output_type": "display_data"
    }
   ],
   "source": [
    "123+876"
   ]
  },
  {
   "cell_type": "markdown",
   "metadata": {
    "id": "Qcke9nWH9N23"
   },
   "source": [
    "Corriendo R desde una terminal del sistema opertativo tenemos lo mismo. Se arranca tecleando R y q() Termina el programa R. **Abrir la terminal y arrancar R**."
   ]
  },
  {
   "cell_type": "markdown",
   "metadata": {
    "id": "lDqyQO4185I2"
   },
   "source": [
    "## Características\n",
    "\n",
    "Para presentar el lenguaje estadístico R, utilizo el artículo *Facets of R* [(Chambers 2009)](https://journal.r-project.org/archive/2009-1/RJournal_2009-1_Chambers.pdf), donde el autor resume las principales características de R en seis facetas, que son también resumen de parte de su historia: \n",
    "\n",
    "1. Una interfaz de procedimientos computacionales de muchos tipos.\n",
    "2. Interactivo: se ejecuta en tiempo real.\n",
    "3. Funcional en su modelo de programación.\n",
    "4. Orientado a objetos: todo es un objeto.\n",
    "5. Modular: construido en piezas estandarizadas.\n",
    "6. Colaborativo: un esfuerzo mundial de código abierto. \n",
    "\n",
    "Chambers presenta las facetas en parejas:"
   ]
  },
  {
   "cell_type": "markdown",
   "metadata": {
    "id": "Neqa4NDD9jpc"
   },
   "source": [
    "### **Una interfaz interactiva**\n",
    "\n",
    "- Una mejor interfaz para los procedimientos computacionales nuevos para el análisis de datos científicos, por lo general implementados como subrutinas Fortran, luego también en C y otros lenguajes. Por ejemplo [LACPAC](http://www.netlib.org/lapack/)\n",
    "- La investigación estadística de Bell Labs había recogido y escrito una variedad procedimientos en Fortran.\n",
    "- Se publicaban algoritmos para muchas de las técnicas computacionales esenciales.\n",
    "- Estos procedimientos fueron la esencia de los análisis de datos reales.\n",
    "- La interfaz tenía que ser interactiva.\n",
    "- Un lenguaje usado para que el analista de datos se pueda comunicar en tiempo real con el software."
   ]
  },
  {
   "cell_type": "markdown",
   "metadata": {
    "id": "uEboBJSD94iY"
   },
   "source": [
    "### **Funcional en su modelo de programación y orientado a objetos, \"todo es un objeto\"**\n",
    "\n",
    "- Los procedimientos son funciones.\n",
    "- La interfaz de procedimiento se define como funciones que proveen una interfaz para subrutinas en Fortran o C.\n",
    "- Se incluyen clases de objetos y métodos que hacen que las funciones específicas funcionen de acuerdo a las clases de sus argumentos. Por ejemplo, la función diag() que se ve a continuación.\n",
    "- Funciones como objetos.\n",
    "- Los objetos tienen un atributo que define su clase.\n",
    "- S4 provee definiciones formales de las clases.\n",
    "- Definiciones formales de métodos asociados con funciones genéricas."
   ]
  },
  {
   "cell_type": "code",
   "execution_count": 2,
   "metadata": {
    "colab": {
     "base_uri": "https://localhost:8080/",
     "height": 373
    },
    "id": "e4cjwJWx-Qev",
    "outputId": "435c201e-8779-4ff0-850d-bcf95300191b"
   },
   "outputs": [
    {
     "data": {
      "text/html": [
       "<ol class=list-inline>\n",
       "\t<li>1</li>\n",
       "\t<li>2</li>\n",
       "\t<li>3</li>\n",
       "\t<li>4</li>\n",
       "</ol>\n"
      ],
      "text/latex": [
       "\\begin{enumerate*}\n",
       "\\item 1\n",
       "\\item 2\n",
       "\\item 3\n",
       "\\item 4\n",
       "\\end{enumerate*}\n"
      ],
      "text/markdown": [
       "1. 1\n",
       "2. 2\n",
       "3. 3\n",
       "4. 4\n",
       "\n",
       "\n"
      ],
      "text/plain": [
       "[1] 1 2 3 4"
      ]
     },
     "metadata": {},
     "output_type": "display_data"
    },
    {
     "data": {
      "text/html": [
       "'integer'"
      ],
      "text/latex": [
       "'integer'"
      ],
      "text/markdown": [
       "'integer'"
      ],
      "text/plain": [
       "[1] \"integer\""
      ]
     },
     "metadata": {},
     "output_type": "display_data"
    },
    {
     "data": {
      "text/html": [
       "<table>\n",
       "<tbody>\n",
       "\t<tr><td>1</td><td>3</td></tr>\n",
       "\t<tr><td>2</td><td>4</td></tr>\n",
       "</tbody>\n",
       "</table>\n"
      ],
      "text/latex": [
       "\\begin{tabular}{ll}\n",
       "\t 1 & 3\\\\\n",
       "\t 2 & 4\\\\\n",
       "\\end{tabular}\n"
      ],
      "text/markdown": [
       "\n",
       "| 1 | 3 |\n",
       "| 2 | 4 |\n",
       "\n"
      ],
      "text/plain": [
       "     [,1] [,2]\n",
       "[1,] 1    3   \n",
       "[2,] 2    4   "
      ]
     },
     "metadata": {},
     "output_type": "display_data"
    },
    {
     "data": {
      "text/html": [
       "'matrix'"
      ],
      "text/latex": [
       "'matrix'"
      ],
      "text/markdown": [
       "'matrix'"
      ],
      "text/plain": [
       "[1] \"matrix\""
      ]
     },
     "metadata": {},
     "output_type": "display_data"
    },
    {
     "name": "stdout",
     "output_type": "stream",
     "text": [
      "[1] \"Diagonal A\"\n"
     ]
    },
    {
     "data": {
      "text/html": [
       "<ol class=list-inline>\n",
       "\t<li>1</li>\n",
       "\t<li>4</li>\n",
       "</ol>\n"
      ],
      "text/latex": [
       "\\begin{enumerate*}\n",
       "\\item 1\n",
       "\\item 4\n",
       "\\end{enumerate*}\n"
      ],
      "text/markdown": [
       "1. 1\n",
       "2. 4\n",
       "\n",
       "\n"
      ],
      "text/plain": [
       "[1] 1 4"
      ]
     },
     "metadata": {},
     "output_type": "display_data"
    },
    {
     "name": "stdout",
     "output_type": "stream",
     "text": [
      "[1] \"Matriz identidad orden 3\"\n"
     ]
    },
    {
     "data": {
      "text/html": [
       "<table>\n",
       "<tbody>\n",
       "\t<tr><td>1</td><td>0</td><td>0</td></tr>\n",
       "\t<tr><td>0</td><td>1</td><td>0</td></tr>\n",
       "\t<tr><td>0</td><td>0</td><td>1</td></tr>\n",
       "</tbody>\n",
       "</table>\n"
      ],
      "text/latex": [
       "\\begin{tabular}{lll}\n",
       "\t 1 & 0 & 0\\\\\n",
       "\t 0 & 1 & 0\\\\\n",
       "\t 0 & 0 & 1\\\\\n",
       "\\end{tabular}\n"
      ],
      "text/markdown": [
       "\n",
       "| 1 | 0 | 0 |\n",
       "| 0 | 1 | 0 |\n",
       "| 0 | 0 | 1 |\n",
       "\n"
      ],
      "text/plain": [
       "     [,1] [,2] [,3]\n",
       "[1,] 1    0    0   \n",
       "[2,] 0    1    0   \n",
       "[3,] 0    0    1   "
      ]
     },
     "metadata": {},
     "output_type": "display_data"
    },
    {
     "data": {
      "text/html": [
       "'matrix'"
      ],
      "text/latex": [
       "'matrix'"
      ],
      "text/markdown": [
       "'matrix'"
      ],
      "text/plain": [
       "[1] \"matrix\""
      ]
     },
     "metadata": {},
     "output_type": "display_data"
    }
   ],
   "source": [
    "a = c(1:4);a;class(a)         #vector\n",
    "A <- matrix(a,2,2);A;class(A) #matriz\n",
    "print(\"Diagonal A\")\n",
    "diag(A)                       #diag cuando el argumento es una matrix\n",
    "print(\"Matriz identidad orden 3\")\n",
    "diag(3) -> I3;I3;class(I3)    #Asignación a I3 una matriz identidad de orden 3 "
   ]
  },
  {
   "cell_type": "markdown",
   "metadata": {
    "id": "6LKwIi27FoMH"
   },
   "source": [
    "### **Modular, construido a partir de piezas estandarizadas**\n",
    "\n",
    " - Colaboración: un esfuerzo de código abierto en todo el mundo.\n",
    " - Funciones y paquetes.\n",
    " - Entorno (environment)\n",
    " - Funciones comparten ambiente, mecanismo Namespace.\n",
    " - Un paquete R es un módulo que combina funciones de R, su documentación y posiblemente datos y código en otros lenguajes.\n",
    " - R está disponible libremente como un sistema de código abierto: tanto el programa núcleo como la mayoría de los paquetes, que son el resultado de nuevas investigaciones estadísticas y sus aplicaciones. Actulmente (marzo de 2021) hay más de 17 paquetes en el CRAN de R.\n",
    " - Las herramientas para la administración de paquetes juegan un papel esencial de colaboración.\n",
    " - R generalmente es capaz de incorporar otros softwares de código abierto o relacionarse con ellos, por ejemplo:\n",
    "     - [LATEX](http://www.latex-project.org/)\n",
    "     - [xfig](http://www.xfig.org/)"
   ]
  },
  {
   "cell_type": "markdown",
   "metadata": {
    "id": "_Iaq6fouJlVV"
   },
   "source": [
    "# **Cómo empezar y avanzar en R**\n",
    "\n",
    "Para quienes van a abordar R desde este ambiento de Jupyter, se recomienda leer poco a poco en la documentadión que queda disponible al instalar R. Lo primero es Introducción a R."
   ]
  },
  {
   "cell_type": "code",
   "execution_count": 3,
   "metadata": {
    "id": "IkTsn3gLT28Y",
    "outputId": "b0c7a9be-0f94-49d0-8c8e-1e3c5ce3e66b"
   },
   "outputs": [
    {
     "name": "stdout",
     "output_type": "stream",
     "text": [
      "If nothing happens, you should open\n",
      "'http://127.0.0.1:17108/doc/html/index.html' yourself\n"
     ]
    }
   ],
   "source": [
    "help.start()"
   ]
  },
  {
   "cell_type": "markdown",
   "metadata": {
    "id": "JO1Q8xSbeXg3"
   },
   "source": [
    "Para empezar a iteractuar con R, ir al [Apéndice A](https://cran.r-project.org/doc/contrib/R-intro-1.1.0-espanol.1.pdf) del documento de introducción a R, ir leyendo y copiando cada comando aquÍ. Por ejemplo el 1ro:\n",
    "\n",
    "1. help.start(): ya lo hicimos\n",
    "\n",
    "Vamos a continuar con la introducción a R, sin embargo, se recomienda ver las referencias del documento."
   ]
  },
  {
   "cell_type": "code",
   "execution_count": 4,
   "metadata": {
    "tags": []
   },
   "outputs": [
    {
     "data": {
      "text/html": [
       "<dl class=dl-horizontal>\n",
       "\t<dt>naranja</dt>\n",
       "\t\t<dd>5</dd>\n",
       "\t<dt>plátano</dt>\n",
       "\t\t<dd>10</dd>\n",
       "\t<dt>manzana</dt>\n",
       "\t\t<dd>1</dd>\n",
       "\t<dt>pera</dt>\n",
       "\t\t<dd>20</dd>\n",
       "</dl>\n"
      ],
      "text/latex": [
       "\\begin{description*}\n",
       "\\item[naranja] 5\n",
       "\\item[plátano] 10\n",
       "\\item[manzana] 1\n",
       "\\item[pera] 20\n",
       "\\end{description*}\n"
      ],
      "text/markdown": [
       "naranja\n",
       ":   5plátano\n",
       ":   10manzana\n",
       ":   1pera\n",
       ":   20\n",
       "\n"
      ],
      "text/plain": [
       "naranja plátano manzana    pera \n",
       "      5      10       1      20 "
      ]
     },
     "metadata": {},
     "output_type": "display_data"
    }
   ],
   "source": [
    "fruta <- c(5, 10, 1, 20)  #vector\n",
    "names(fruta) <- c(\"naranja\", \"plátano\", \"manzana\", \"pera\") #asignar nombres de los elementos del vector\n",
    "fruta"
   ]
  },
  {
   "cell_type": "code",
   "execution_count": 5,
   "metadata": {},
   "outputs": [
    {
     "data": {
      "text/html": [
       "<dl>\n",
       "\t<dt>$nombre</dt>\n",
       "\t\t<dd>'Pedro'</dd>\n",
       "\t<dt>$esposa</dt>\n",
       "\t\t<dd>'María'</dd>\n",
       "\t<dt>$no.hijos</dt>\n",
       "\t\t<dd>3</dd>\n",
       "\t<dt>$edad.hijos</dt>\n",
       "\t\t<dd><ol class=list-inline>\n",
       "\t<li>4</li>\n",
       "\t<li>7</li>\n",
       "\t<li>9</li>\n",
       "</ol>\n",
       "</dd>\n",
       "</dl>\n"
      ],
      "text/latex": [
       "\\begin{description}\n",
       "\\item[\\$nombre] 'Pedro'\n",
       "\\item[\\$esposa] 'María'\n",
       "\\item[\\$no.hijos] 3\n",
       "\\item[\\$edad.hijos] \\begin{enumerate*}\n",
       "\\item 4\n",
       "\\item 7\n",
       "\\item 9\n",
       "\\end{enumerate*}\n",
       "\n",
       "\\end{description}\n"
      ],
      "text/markdown": [
       "$nombre\n",
       ":   'Pedro'\n",
       "$esposa\n",
       ":   'María'\n",
       "$no.hijos\n",
       ":   3\n",
       "$edad.hijos\n",
       ":   1. 4\n",
       "2. 7\n",
       "3. 9\n",
       "\n",
       "\n",
       "\n",
       "\n",
       "\n"
      ],
      "text/plain": [
       "$nombre\n",
       "[1] \"Pedro\"\n",
       "\n",
       "$esposa\n",
       "[1] \"María\"\n",
       "\n",
       "$no.hijos\n",
       "[1] 3\n",
       "\n",
       "$edad.hijos\n",
       "[1] 4 7 9\n"
      ]
     },
     "metadata": {},
     "output_type": "display_data"
    }
   ],
   "source": [
    "Lst <- list(nombre=\"Pedro\",      #lista\n",
    "            esposa=\"María\",\n",
    "            no.hijos=3,\n",
    "            edad.hijos=c(4,7,9))\n",
    "Lst"
   ]
  },
  {
   "cell_type": "code",
   "execution_count": 6,
   "metadata": {},
   "outputs": [
    {
     "name": "stdout",
     "output_type": "stream",
     "text": [
      "[1] 5\n",
      "[1] 10\n",
      "[1] 1\n",
      "[1] 20\n",
      "\n",
      "[1] \"Pedro\"\n",
      "[1] \"María\"\n",
      "[1] 3\n",
      "[1] 4 7 9\n"
     ]
    }
   ],
   "source": [
    "for (i in fruta) #los vectores son iterables\n",
    "    print (i)\n",
    "cat(\"\\n\")\n",
    "for (i in Lst) #las listas son iterables\n",
    "    print (i)"
   ]
  },
  {
   "cell_type": "markdown",
   "metadata": {},
   "source": [
    "Como sabemos la clase de los objetos?"
   ]
  },
  {
   "cell_type": "code",
   "execution_count": 7,
   "metadata": {},
   "outputs": [
    {
     "data": {
      "text/html": [
       "'numeric'"
      ],
      "text/latex": [
       "'numeric'"
      ],
      "text/markdown": [
       "'numeric'"
      ],
      "text/plain": [
       "[1] \"numeric\""
      ]
     },
     "metadata": {},
     "output_type": "display_data"
    },
    {
     "data": {
      "text/html": [
       "'list'"
      ],
      "text/latex": [
       "'list'"
      ],
      "text/markdown": [
       "'list'"
      ],
      "text/plain": [
       "[1] \"list\""
      ]
     },
     "metadata": {},
     "output_type": "display_data"
    },
    {
     "data": {
      "text/html": [
       "'complex'"
      ],
      "text/latex": [
       "'complex'"
      ],
      "text/markdown": [
       "'complex'"
      ],
      "text/plain": [
       "[1] \"complex\""
      ]
     },
     "metadata": {},
     "output_type": "display_data"
    }
   ],
   "source": [
    "class(fruta)\n",
    "class(Lst)\n",
    "class(-17+0i)"
   ]
  },
  {
   "cell_type": "code",
   "execution_count": 8,
   "metadata": {},
   "outputs": [
    {
     "name": "stderr",
     "output_type": "stream",
     "text": [
      "Warning message in sqrt(-17):\n",
      "\"Se han producido NaNs\""
     ]
    },
    {
     "data": {
      "text/html": [
       "NaN"
      ],
      "text/latex": [
       "NaN"
      ],
      "text/markdown": [
       "NaN"
      ],
      "text/plain": [
       "[1] NaN"
      ]
     },
     "metadata": {},
     "output_type": "display_data"
    },
    {
     "data": {
      "text/html": [
       "0+4.12310562561766i"
      ],
      "text/latex": [
       "0+4.12310562561766i"
      ],
      "text/markdown": [
       "0+4.12310562561766i"
      ],
      "text/plain": [
       "[1] 0+4.123106i"
      ]
     },
     "metadata": {},
     "output_type": "display_data"
    }
   ],
   "source": [
    "sqrt(-17)\n",
    "sqrt(-17+0i) #admite números complejos"
   ]
  },
  {
   "cell_type": "markdown",
   "metadata": {},
   "source": [
    "Para saber sobre la función y sus argumentos se pueden utilizar cualquiera de las siguientes dos opciones:"
   ]
  },
  {
   "cell_type": "code",
   "execution_count": 9,
   "metadata": {},
   "outputs": [],
   "source": [
    "#help(sqrt)\n",
    "#?sqrt"
   ]
  },
  {
   "cell_type": "markdown",
   "metadata": {},
   "source": [
    "Veamos como utilizar la función **sqrt** en la siguiente función, hagamos una función para calcular la desviación estandar muestral:"
   ]
  },
  {
   "cell_type": "code",
   "execution_count": 80,
   "metadata": {},
   "outputs": [
    {
     "data": {
      "text/html": [
       "3.02765035409749"
      ],
      "text/latex": [
       "3.02765035409749"
      ],
      "text/markdown": [
       "3.02765035409749"
      ],
      "text/plain": [
       "[1] 3.02765"
      ]
     },
     "metadata": {},
     "output_type": "display_data"
    }
   ],
   "source": [
    "StdErr <- function(x)\n",
    "    sqrt(sum((x-mean(x))^2)/(length(x)-1))\n",
    "\n",
    "StdErr(1:10)"
   ]
  },
  {
   "cell_type": "code",
   "execution_count": 81,
   "metadata": {},
   "outputs": [
    {
     "data": {
      "text/html": [
       "3.02765035409749"
      ],
      "text/latex": [
       "3.02765035409749"
      ],
      "text/markdown": [
       "3.02765035409749"
      ],
      "text/plain": [
       "[1] 3.02765"
      ]
     },
     "metadata": {},
     "output_type": "display_data"
    }
   ],
   "source": [
    "sd(1:10)"
   ]
  },
  {
   "cell_type": "markdown",
   "metadata": {},
   "source": [
    "## Algunas funciones para estadística"
   ]
  },
  {
   "cell_type": "markdown",
   "metadata": {},
   "source": [
    "Dentro de las muchas funciones se encuentra la función beta (beta), binomial (binom), Cauchy (cauchy), ji cuadrado (chisq), exponencial (exp), F de Snedecor (f), gamma (gamma),geométrica (geom), entre otras. Para saber más puede revisar en el [capítulo 8-Distribuciones probabilísticas](https://cran.r-project.org/doc/contrib/R-intro-1.1.0-espanol.1.pdf)."
   ]
  },
  {
   "cell_type": "code",
   "execution_count": 94,
   "metadata": {
    "colab": {
     "base_uri": "https://localhost:8080/",
     "height": 436
    },
    "id": "p6zBQgBEf3wm",
    "outputId": "ffd2a566-2e33-48a3-cea1-1f7c118b402b"
   },
   "outputs": [
    {
     "data": {
      "image/png": "[encoded data removed]",
      "text/plain": [
       "Plot with title \"x vs y\""
      ]
     },
     "metadata": {},
     "output_type": "display_data"
    }
   ],
   "source": [
    "set.seed(23)\n",
    "x <- rnorm(50, mean=0, sd=1) #muestra normal de \n",
    "y <- rnorm(x)\n",
    "plot(x, y, main=\"x vs y\")"
   ]
  },
  {
   "cell_type": "markdown",
   "metadata": {
    "id": "sDesf8I5gU2c"
   },
   "source": [
    "Ver los objetos en memoria (*workspace*) "
   ]
  },
  {
   "cell_type": "code",
   "execution_count": 95,
   "metadata": {
    "colab": {
     "base_uri": "https://localhost:8080/",
     "height": 33
    },
    "id": "kjN6MCF7gtOq",
    "outputId": "72923164-e261-41fc-8d9e-228d0e4755c2"
   },
   "outputs": [
    {
     "data": {
      "text/html": [
       "<ol class=list-inline>\n",
       "\t<li>'x'</li>\n",
       "\t<li>'y'</li>\n",
       "</ol>\n"
      ],
      "text/latex": [
       "\\begin{enumerate*}\n",
       "\\item 'x'\n",
       "\\item 'y'\n",
       "\\end{enumerate*}\n"
      ],
      "text/markdown": [
       "1. 'x'\n",
       "2. 'y'\n",
       "\n",
       "\n"
      ],
      "text/plain": [
       "[1] \"x\" \"y\""
      ]
     },
     "metadata": {},
     "output_type": "display_data"
    }
   ],
   "source": [
    "ls()"
   ]
  },
  {
   "cell_type": "markdown",
   "metadata": {
    "id": "BfgpsJHmhfXG"
   },
   "source": [
    "Borremos los objetos x, y."
   ]
  },
  {
   "cell_type": "code",
   "execution_count": 96,
   "metadata": {
    "colab": {
     "base_uri": "https://localhost:8080/",
     "height": 33
    },
    "id": "z7njZgZ2hoed",
    "outputId": "d478e31a-56d3-43d6-e835-9d59dc30533c"
   },
   "outputs": [
    {
     "data": {
      "text/html": [],
      "text/latex": [],
      "text/markdown": [],
      "text/plain": [
       "character(0)"
      ]
     },
     "metadata": {},
     "output_type": "display_data"
    }
   ],
   "source": [
    "rm(x,y)\n",
    "ls()"
   ]
  },
  {
   "cell_type": "markdown",
   "metadata": {
    "id": "7EKThWPGi-3r"
   },
   "source": [
    "Borremos ahora todos los objetos."
   ]
  },
  {
   "cell_type": "code",
   "execution_count": 97,
   "metadata": {
    "colab": {
     "base_uri": "https://localhost:8080/",
     "height": 16
    },
    "id": "GZO8nYq-jhSE",
    "outputId": "f5eb9284-1a46-41df-8105-eeb9105b1261"
   },
   "outputs": [
    {
     "data": {
      "text/html": [],
      "text/latex": [],
      "text/markdown": [],
      "text/plain": [
       "character(0)"
      ]
     },
     "metadata": {},
     "output_type": "display_data"
    }
   ],
   "source": [
    "rm(list=ls())\n",
    "ls()"
   ]
  },
  {
   "cell_type": "markdown",
   "metadata": {
    "id": "brxNP3qBlZKT"
   },
   "source": [
    "Creemos el vector **x** con los números de 1 a 20 y calculemos $ w = 1 + \\frac{\\sqrt{x}}{2} $. Mostremos además el *data.frame* con las dos columnas."
   ]
  },
  {
   "cell_type": "code",
   "execution_count": 98,
   "metadata": {
    "colab": {
     "base_uri": "https://localhost:8080/",
     "height": 661
    },
    "id": "WQgf17fWmZGD",
    "outputId": "621642ae-6905-4dfa-bf53-ebd1532b653a"
   },
   "outputs": [
    {
     "data": {
      "text/html": [
       "<table>\n",
       "<thead><tr><th scope=col>x</th><th scope=col>y</th></tr></thead>\n",
       "<tbody>\n",
       "\t<tr><td> 1        </td><td> 1.5487498</td></tr>\n",
       "\t<tr><td> 2        </td><td> 3.5900364</td></tr>\n",
       "\t<tr><td> 3        </td><td>-0.5580842</td></tr>\n",
       "\t<tr><td> 4        </td><td> 4.1039770</td></tr>\n",
       "\t<tr><td> 5        </td><td> 3.2028486</td></tr>\n",
       "\t<tr><td> 6        </td><td> 5.1809214</td></tr>\n",
       "\t<tr><td> 7        </td><td> 8.4510867</td></tr>\n",
       "\t<tr><td> 8        </td><td>10.9459662</td></tr>\n",
       "\t<tr><td> 9        </td><td> 3.4005430</td></tr>\n",
       "\t<tr><td>10        </td><td> 9.0483977</td></tr>\n",
       "\t<tr><td>11        </td><td>10.7684991</td></tr>\n",
       "\t<tr><td>12        </td><td>15.6663345</td></tr>\n",
       "\t<tr><td>13        </td><td>17.7481259</td></tr>\n",
       "\t<tr><td>14        </td><td>15.8646092</td></tr>\n",
       "\t<tr><td>15        </td><td>16.0752924</td></tr>\n",
       "\t<tr><td>16        </td><td>15.0748889</td></tr>\n",
       "\t<tr><td>17        </td><td>18.5753744</td></tr>\n",
       "\t<tr><td>18        </td><td>15.1873128</td></tr>\n",
       "\t<tr><td>19        </td><td>19.6220873</td></tr>\n",
       "\t<tr><td>20        </td><td>19.4908391</td></tr>\n",
       "</tbody>\n",
       "</table>\n"
      ],
      "text/latex": [
       "\\begin{tabular}{r|ll}\n",
       " x & y\\\\\n",
       "\\hline\n",
       "\t  1         &  1.5487498\\\\\n",
       "\t  2         &  3.5900364\\\\\n",
       "\t  3         & -0.5580842\\\\\n",
       "\t  4         &  4.1039770\\\\\n",
       "\t  5         &  3.2028486\\\\\n",
       "\t  6         &  5.1809214\\\\\n",
       "\t  7         &  8.4510867\\\\\n",
       "\t  8         & 10.9459662\\\\\n",
       "\t  9         &  3.4005430\\\\\n",
       "\t 10         &  9.0483977\\\\\n",
       "\t 11         & 10.7684991\\\\\n",
       "\t 12         & 15.6663345\\\\\n",
       "\t 13         & 17.7481259\\\\\n",
       "\t 14         & 15.8646092\\\\\n",
       "\t 15         & 16.0752924\\\\\n",
       "\t 16         & 15.0748889\\\\\n",
       "\t 17         & 18.5753744\\\\\n",
       "\t 18         & 15.1873128\\\\\n",
       "\t 19         & 19.6220873\\\\\n",
       "\t 20         & 19.4908391\\\\\n",
       "\\end{tabular}\n"
      ],
      "text/markdown": [
       "\n",
       "| x | y |\n",
       "|---|---|\n",
       "|  1         |  1.5487498 |\n",
       "|  2         |  3.5900364 |\n",
       "|  3         | -0.5580842 |\n",
       "|  4         |  4.1039770 |\n",
       "|  5         |  3.2028486 |\n",
       "|  6         |  5.1809214 |\n",
       "|  7         |  8.4510867 |\n",
       "|  8         | 10.9459662 |\n",
       "|  9         |  3.4005430 |\n",
       "| 10         |  9.0483977 |\n",
       "| 11         | 10.7684991 |\n",
       "| 12         | 15.6663345 |\n",
       "| 13         | 17.7481259 |\n",
       "| 14         | 15.8646092 |\n",
       "| 15         | 16.0752924 |\n",
       "| 16         | 15.0748889 |\n",
       "| 17         | 18.5753744 |\n",
       "| 18         | 15.1873128 |\n",
       "| 19         | 19.6220873 |\n",
       "| 20         | 19.4908391 |\n",
       "\n"
      ],
      "text/plain": [
       "   x  y         \n",
       "1   1  1.5487498\n",
       "2   2  3.5900364\n",
       "3   3 -0.5580842\n",
       "4   4  4.1039770\n",
       "5   5  3.2028486\n",
       "6   6  5.1809214\n",
       "7   7  8.4510867\n",
       "8   8 10.9459662\n",
       "9   9  3.4005430\n",
       "10 10  9.0483977\n",
       "11 11 10.7684991\n",
       "12 12 15.6663345\n",
       "13 13 17.7481259\n",
       "14 14 15.8646092\n",
       "15 15 16.0752924\n",
       "16 16 15.0748889\n",
       "17 17 18.5753744\n",
       "18 18 15.1873128\n",
       "19 19 19.6220873\n",
       "20 20 19.4908391"
      ]
     },
     "metadata": {},
     "output_type": "display_data"
    }
   ],
   "source": [
    "x <- 1:20\n",
    "w <- 1 + sqrt(x)/2\n",
    "y <- x + rnorm(x)*w\n",
    "datos <- data.frame(x,y)\n",
    "datos"
   ]
  },
  {
   "cell_type": "markdown",
   "metadata": {},
   "source": [
    "Hay muchas funciones estadísticas descriptivas para obtener información de una base de datos, una función bastante completa es la función *summary*.\n",
    "\n",
    "| Nombre Comando| Explicación           |\n",
    "|---------------|-----------------------|\n",
    "| summary(data) | Resumen estadístico   |\n",
    "| min(data)     | Mínimo                |\n",
    "| max(data)     | Máximo                |\n",
    "| range(data)   | Rango                 |\n",
    "| mean(data)    | Media aritmética      |"
   ]
  },
  {
   "cell_type": "code",
   "execution_count": 100,
   "metadata": {},
   "outputs": [
    {
     "data": {
      "text/plain": [
       "       x               y          \n",
       " Min.   : 1.00   Min.   :-0.5581  \n",
       " 1st Qu.: 5.75   1st Qu.: 3.9755  \n",
       " Median :10.50   Median :10.8572  \n",
       " Mean   :10.50   Mean   :10.6494  \n",
       " 3rd Qu.:15.25   3rd Qu.:15.9173  \n",
       " Max.   :20.00   Max.   :19.6221  "
      ]
     },
     "metadata": {},
     "output_type": "display_data"
    }
   ],
   "source": [
    "summary(datos)"
   ]
  },
  {
   "cell_type": "markdown",
   "metadata": {},
   "source": [
    "Podemos realizar gráficos y pruebas de hipótesis sobre las variable y, por ejemplo, podemos realizar un histograma o la prueba de normalidad Shapiro-Wilk donde $H_0$ = La variable proviene de una distibución normal, $H_1$ = La variable no proviene de una distibución normal. Vemos que p > 0.05, por lo tanto, no se rechaza la hipotesis nula y se asume que los datos provienen de una distribución normal."
   ]
  },
  {
   "cell_type": "code",
   "execution_count": 101,
   "metadata": {},
   "outputs": [
    {
     "data": {
      "text/plain": [
       "\n",
       "\tShapiro-Wilk normality test\n",
       "\n",
       "data:  y\n",
       "W = 0.9145, p-value = 0.0777\n"
      ]
     },
     "metadata": {},
     "output_type": "display_data"
    },
    {
     "data": {
      "image/png": "[encoded data removed]",
      "text/plain": [
       "Plot with title \"Histogram of y\""
      ]
     },
     "metadata": {},
     "output_type": "display_data"
    }
   ],
   "source": [
    "hist(y)\n",
    "\n",
    "shapiro.test(y) "
   ]
  },
  {
   "cell_type": "markdown",
   "metadata": {},
   "source": [
    "Realizamos el ajuste de un modelo de regresión lineal tomando *y* como respuesta y *x* como variable explicativa. Se presenta en pantalla un resumen del análisis."
   ]
  },
  {
   "cell_type": "code",
   "execution_count": 102,
   "metadata": {},
   "outputs": [
    {
     "data": {
      "text/plain": [
       "\n",
       "Call:\n",
       "lm(formula = y ~ x, data = datos)\n",
       "\n",
       "Residuals:\n",
       "    Min      1Q  Median      3Q     Max \n",
       "-5.6803 -1.1512  0.1679  1.4851  4.4844 \n",
       "\n",
       "Coefficients:\n",
       "            Estimate Std. Error t value Pr(>|t|)    \n",
       "(Intercept) -0.33075    1.16481  -0.284     0.78    \n",
       "x            1.04573    0.09724  10.754 2.88e-09 ***\n",
       "---\n",
       "Signif. codes:  0 '***' 0.001 '**' 0.01 '*' 0.05 '.' 0.1 ' ' 1\n",
       "\n",
       "Residual standard error: 2.508 on 18 degrees of freedom\n",
       "Multiple R-squared:  0.8653,\tAdjusted R-squared:  0.8578 \n",
       "F-statistic: 115.7 on 1 and 18 DF,  p-value: 2.883e-09\n"
      ]
     },
     "metadata": {},
     "output_type": "display_data"
    }
   ],
   "source": [
    "regr <- lm(y ∼ x, data=datos)\n",
    "summary(regr)"
   ]
  },
  {
   "cell_type": "markdown",
   "metadata": {},
   "source": [
    "Puesto que se conocen las desviaciones típicas, puede realizarse una regresión ponderada."
   ]
  },
  {
   "cell_type": "code",
   "execution_count": 103,
   "metadata": {},
   "outputs": [
    {
     "data": {
      "text/plain": [
       "\n",
       "Call:\n",
       "lm(formula = y ~ x, data = datos, weights = 1/w^2)\n",
       "\n",
       "Weighted Residuals:\n",
       "     Min       1Q   Median       3Q      Max \n",
       "-2.27667 -0.42625  0.07218  0.56163  1.59884 \n",
       "\n",
       "Coefficients:\n",
       "            Estimate Std. Error t value Pr(>|t|)    \n",
       "(Intercept) -0.30086    0.92395  -0.326    0.748    \n",
       "x            1.04368    0.09421  11.078 1.81e-09 ***\n",
       "---\n",
       "Signif. codes:  0 '***' 0.001 '**' 0.01 '*' 0.05 '.' 0.1 ' ' 1\n",
       "\n",
       "Residual standard error: 1.021 on 18 degrees of freedom\n",
       "Multiple R-squared:  0.8721,\tAdjusted R-squared:  0.865 \n",
       "F-statistic: 122.7 on 1 and 18 DF,  p-value: 1.807e-09\n"
      ]
     },
     "metadata": {},
     "output_type": "display_data"
    }
   ],
   "source": [
    "regr.pon <- lm(y ∼ x, data=datos, weight=1/w^2)\n",
    "summary(regr.pon)"
   ]
  },
  {
   "cell_type": "markdown",
   "metadata": {},
   "source": [
    "Para conectar o **fijar** los datos de tal modo que sus columnas aparecen como variables. Realizamos una regresión local no paramétrica."
   ]
  },
  {
   "cell_type": "code",
   "execution_count": 104,
   "metadata": {},
   "outputs": [
    {
     "name": "stderr",
     "output_type": "stream",
     "text": [
      "The following objects are masked _by_ .GlobalEnv:\n",
      "\n",
      "    x, y\n",
      "\n"
     ]
    },
    {
     "data": {
      "image/png": "[encoded data removed]",
      "text/plain": [
       "Plot with title \"Ajuste y~x\""
      ]
     },
     "metadata": {},
     "output_type": "display_data"
    }
   ],
   "source": [
    "attach(datos) #fijar los datos\n",
    "regr.loc <- lowess(x, y) #regresión no paramétrica\n",
    "plot(x, y, main=\"Ajuste y~x\") #gráfico bidimensional estándar\n",
    "lines(x, regr.loc$y) #regresión local\n",
    "abline(0, 1, lty=3) #verdadera recta de regresión (punto de corte 0, pendiente 1)\n",
    "abline(coef(regr), col=\"blue\") #recta de regresión no ponderada\n",
    "abline(coef(regr.pon), col=\"red\") #recta de regresión ponderada\n",
    "legend(\"topleft\",\n",
    "       legend = c(\"regr.local\",\"regr.verdadera\",\"regr.no.pond\",\"regr.pond\"),\n",
    "       lty=c(1,3,1,1),\n",
    "       col=c(1,1,4,2),\n",
    "       bty = \"n\")\n",
    "detach() #desconecta la hoja de datos"
   ]
  },
  {
   "cell_type": "markdown",
   "metadata": {
    "tags": []
   },
   "source": [
    "Un gráfico diagnóstico de regresión para investigar la posible heteroscedasticidad (la varianza de los errores no es constante)."
   ]
  },
  {
   "cell_type": "code",
   "execution_count": 105,
   "metadata": {},
   "outputs": [
    {
     "data": {
      "image/png": "[encoded data removed]",
      "text/plain": [
       "Plot with title \"Residuos vs Predichos\""
      ]
     },
     "metadata": {},
     "output_type": "display_data"
    }
   ],
   "source": [
    "plot(fitted(regr), resid(regr),\n",
    "     xlab=\"Predichos\",\n",
    "     ylab=\"Residuos\",\n",
    "     main=\"Residuos vs Predichos\")"
   ]
  },
  {
   "cell_type": "markdown",
   "metadata": {},
   "source": [
    "Podemos ver no hay heterocesdasticidad. Ahora, veamos a modo de introducción un gráfico en papel probabilístico normal para comprobar asimetría, aplastamiento y datos anómalos (No es muy útil en este caso)."
   ]
  },
  {
   "cell_type": "code",
   "execution_count": 106,
   "metadata": {},
   "outputs": [
    {
     "data": {
      "image/png": "[encoded data removed]",
      "text/plain": [
       "Plot with title \"Residuos por rangos\""
      ]
     },
     "metadata": {},
     "output_type": "display_data"
    }
   ],
   "source": [
    "qqnorm(resid(regr), main=\"Residuos por rangos\")\n",
    "qqline(resid(regr))\n",
    "rm(x,w,datos,regr,regr.pon,regr.loc) #Elimina los objetos creados"
   ]
  },
  {
   "cell_type": "markdown",
   "metadata": {
    "tags": []
   },
   "source": [
    "## Datos base"
   ]
  },
  {
   "cell_type": "markdown",
   "metadata": {},
   "source": [
    "En R es posible leer datos en distintos formatos. En primera instancia se debe ubicar la carpeta donde se tienen los datos, luego se debe utilizar el codigo dependiendo del formato read.table, read_excel, read.csv, read.xlsx. En este caso vamos a trabajar con datos que se encuentran por defecto en R."
   ]
  },
  {
   "cell_type": "code",
   "execution_count": 108,
   "metadata": {},
   "outputs": [
    {
     "data": {
      "text/html": [
       "'C:/Users/JULIETH LOPEZ/Documents/Diplomado_IA_AP/Diplomado/Temas/Módulo 14- Aprendizaje no Supervisado/Cuadernos'"
      ],
      "text/latex": [
       "'C:/Users/JULIETH LOPEZ/Documents/Diplomado\\_IA\\_AP/Diplomado/Temas/Módulo 14- Aprendizaje no Supervisado/Cuadernos'"
      ],
      "text/markdown": [
       "'C:/Users/JULIETH LOPEZ/Documents/Diplomado_IA_AP/Diplomado/Temas/Módulo 14- Aprendizaje no Supervisado/Cuadernos'"
      ],
      "text/plain": [
       "[1] \"C:/Users/JULIETH LOPEZ/Documents/Diplomado_IA_AP/Diplomado/Temas/Módulo 14- Aprendizaje no Supervisado/Cuadernos\""
      ]
     },
     "metadata": {},
     "output_type": "display_data"
    }
   ],
   "source": [
    "getwd() #se obtiene la ruta en la que se está ubicado actualmente\n",
    "#setwd() #se cambia o se establece la ruta"
   ]
  },
  {
   "cell_type": "markdown",
   "metadata": {},
   "source": [
    "Vamos a utilizar los datos de Michaelson y Morley. Hay cinco experimentos (columna Expt) y cada uno contiene 20 series (columna Run) y la columna Speed contiene la velocidad de la luz medida en cada caso, codificada apropiadamente."
   ]
  },
  {
   "cell_type": "code",
   "execution_count": 109,
   "metadata": {},
   "outputs": [],
   "source": [
    "#data() #muestra todas las bases de datos incluidas base en R"
   ]
  },
  {
   "cell_type": "code",
   "execution_count": 110,
   "metadata": {},
   "outputs": [
    {
     "data": {
      "text/html": [
       "<table>\n",
       "<thead><tr><th></th><th scope=col>Expt</th><th scope=col>Run</th><th scope=col>Speed</th></tr></thead>\n",
       "<tbody>\n",
       "\t<tr><th scope=row>001</th><td>1   </td><td>1   </td><td> 850</td></tr>\n",
       "\t<tr><th scope=row>002</th><td>1   </td><td>2   </td><td> 740</td></tr>\n",
       "\t<tr><th scope=row>003</th><td>1   </td><td>3   </td><td> 900</td></tr>\n",
       "\t<tr><th scope=row>004</th><td>1   </td><td>4   </td><td>1070</td></tr>\n",
       "\t<tr><th scope=row>005</th><td>1   </td><td>5   </td><td> 930</td></tr>\n",
       "\t<tr><th scope=row>006</th><td>1   </td><td>6   </td><td> 850</td></tr>\n",
       "</tbody>\n",
       "</table>\n"
      ],
      "text/latex": [
       "\\begin{tabular}{r|lll}\n",
       "  & Expt & Run & Speed\\\\\n",
       "\\hline\n",
       "\t001 & 1    & 1    &  850\\\\\n",
       "\t002 & 1    & 2    &  740\\\\\n",
       "\t003 & 1    & 3    &  900\\\\\n",
       "\t004 & 1    & 4    & 1070\\\\\n",
       "\t005 & 1    & 5    &  930\\\\\n",
       "\t006 & 1    & 6    &  850\\\\\n",
       "\\end{tabular}\n"
      ],
      "text/markdown": [
       "\n",
       "| <!--/--> | Expt | Run | Speed |\n",
       "|---|---|---|---|\n",
       "| 001 | 1    | 1    |  850 |\n",
       "| 002 | 1    | 2    |  740 |\n",
       "| 003 | 1    | 3    |  900 |\n",
       "| 004 | 1    | 4    | 1070 |\n",
       "| 005 | 1    | 5    |  930 |\n",
       "| 006 | 1    | 6    |  850 |\n",
       "\n"
      ],
      "text/plain": [
       "    Expt Run Speed\n",
       "001 1    1    850 \n",
       "002 1    2    740 \n",
       "003 1    3    900 \n",
       "004 1    4   1070 \n",
       "005 1    5    930 \n",
       "006 1    6    850 "
      ]
     },
     "metadata": {},
     "output_type": "display_data"
    }
   ],
   "source": [
    "data(\"morley\") #carga la base de datos\n",
    "head(morley)"
   ]
  },
  {
   "cell_type": "code",
   "execution_count": 112,
   "metadata": {},
   "outputs": [],
   "source": [
    "#Transforma Expt y Run en factores.\n",
    "morley$Expt <- factor(morley$Expt)\n",
    "morley$Run <- factor(morley$Run)"
   ]
  },
  {
   "cell_type": "markdown",
   "metadata": {},
   "source": [
    "Comparamos los cinco experimentos mediante diagramas de cajas."
   ]
  },
  {
   "cell_type": "code",
   "execution_count": 113,
   "metadata": {},
   "outputs": [
    {
     "name": "stderr",
     "output_type": "stream",
     "text": [
      "The following objects are masked from morley (pos = 3):\n",
      "\n",
      "    Expt, Run, Speed\n",
      "\n"
     ]
    },
    {
     "data": {
      "image/png": "[encoded data removed]",
      "text/plain": [
       "Plot with title \"Velocidad de la luz\""
      ]
     },
     "metadata": {},
     "output_type": "display_data"
    }
   ],
   "source": [
    "attach(morley)\n",
    "boxplot(Speed~Expt, main=\"Velocidad de la luz\", xlab=\"No. Experimento\")"
   ]
  },
  {
   "cell_type": "markdown",
   "metadata": {},
   "source": [
    "## Instalación de paquetes"
   ]
  },
  {
   "cell_type": "code",
   "execution_count": 29,
   "metadata": {},
   "outputs": [],
   "source": [
    "#install.packages(\"ggplot2\")"
   ]
  },
  {
   "cell_type": "code",
   "execution_count": 114,
   "metadata": {},
   "outputs": [
    {
     "data": {
      "image/png": "[encoded data removed]",
      "text/plain": [
       "plot without title"
      ]
     },
     "metadata": {},
     "output_type": "display_data"
    }
   ],
   "source": [
    "# library\n",
    "library(ggplot2)\n",
    " \n",
    "# Top Left: Set a unique color with fill, colour, and alpha\n",
    "ggplot(morley, aes(x=Expt, y=Speed)) + \n",
    "    geom_boxplot(color=\"red\", fill=\"orange\", alpha=0.2) + \n",
    "    ggtitle(\"Velocidad de la luz\") +\n",
    "    xlab(\"No. Experimento\") + \n",
    "    theme(plot.title = element_text(hjust = 0.5))"
   ]
  },
  {
   "cell_type": "markdown",
   "metadata": {},
   "source": [
    "Analizamos los datos como un diseño en bloques aleatorizados, tomando las ‘series’ y los ‘experimentos’ como factores."
   ]
  },
  {
   "cell_type": "code",
   "execution_count": 115,
   "metadata": {},
   "outputs": [
    {
     "data": {
      "text/plain": [
       "            Df Sum Sq Mean Sq F value  Pr(>F)   \n",
       "Run         19 113344    5965   1.105 0.36321   \n",
       "Expt         4  94514   23629   4.378 0.00307 **\n",
       "Residuals   76 410166    5397                   \n",
       "---\n",
       "Signif. codes:  0 '***' 0.001 '**' 0.01 '*' 0.05 '.' 0.1 ' ' 1"
      ]
     },
     "metadata": {},
     "output_type": "display_data"
    }
   ],
   "source": [
    "fm <- aov(Speed ∼ Run + Expt, data=morley) #Run 1:20, Expt 5\n",
    "summary(fm)"
   ]
  },
  {
   "cell_type": "markdown",
   "metadata": {},
   "source": [
    "Ajustamos un submodelo eliminando las ‘series’ para compararlos utilizando un análisis de la varianza. Podemos ver que el valor-P es > 0.05 y por lo tanto, los modelos no son significativamente distintos, y por lo tanto el efecto producido por el bloque Run no mejora el modelo."
   ]
  },
  {
   "cell_type": "code",
   "execution_count": 116,
   "metadata": {},
   "outputs": [
    {
     "data": {
      "text/html": [
       "<table>\n",
       "<thead><tr><th scope=col>Res.Df</th><th scope=col>RSS</th><th scope=col>Df</th><th scope=col>Sum of Sq</th><th scope=col>F</th><th scope=col>Pr(&gt;F)</th></tr></thead>\n",
       "<tbody>\n",
       "\t<tr><td>95       </td><td>523510   </td><td>NA       </td><td>    NA   </td><td>      NA </td><td>       NA</td></tr>\n",
       "\t<tr><td>76       </td><td>410166   </td><td>19       </td><td>113344   </td><td>1.105348 </td><td>0.3632093</td></tr>\n",
       "</tbody>\n",
       "</table>\n"
      ],
      "text/latex": [
       "\\begin{tabular}{r|llllll}\n",
       " Res.Df & RSS & Df & Sum of Sq & F & Pr(>F)\\\\\n",
       "\\hline\n",
       "\t 95        & 523510    & NA        &     NA    &       NA  &        NA\\\\\n",
       "\t 76        & 410166    & 19        & 113344    & 1.105348  & 0.3632093\\\\\n",
       "\\end{tabular}\n"
      ],
      "text/markdown": [
       "\n",
       "| Res.Df | RSS | Df | Sum of Sq | F | Pr(>F) |\n",
       "|---|---|---|---|---|---|\n",
       "| 95        | 523510    | NA        |     NA    |       NA  |        NA |\n",
       "| 76        | 410166    | 19        | 113344    | 1.105348  | 0.3632093 |\n",
       "\n"
      ],
      "text/plain": [
       "  Res.Df RSS    Df Sum of Sq F        Pr(>F)   \n",
       "1 95     523510 NA     NA          NA        NA\n",
       "2 76     410166 19 113344    1.105348 0.3632093"
      ]
     },
     "metadata": {},
     "output_type": "display_data"
    }
   ],
   "source": [
    "fm0 <- update(fm, . ∼ . - Run)\n",
    "anova(fm0,fm)\n",
    "detach() #Desconecta la hoja de datos\n",
    "rm(fm, fm0) #Elimina los objetos creados"
   ]
  },
  {
   "cell_type": "markdown",
   "metadata": {},
   "source": [
    "## Algunos gráficos"
   ]
  },
  {
   "cell_type": "markdown",
   "metadata": {},
   "source": [
    "Consideraremos ahora **nuevas** posibilidades gráficas."
   ]
  },
  {
   "cell_type": "code",
   "execution_count": 117,
   "metadata": {},
   "outputs": [],
   "source": [
    "x <- seq(-pi, pi, len=50) #x es un vector con 50 valores equiespaciados en el intervalo −π ≤ x ≤ π\n",
    "y <- x #El vector y es idéntico a x."
   ]
  },
  {
   "cell_type": "markdown",
   "metadata": {},
   "source": [
    "f es una matriz cuadrada, cuyas filas y columnas están indexadas por x e y respectivamente, formada por los valores de la función $ cos(y)/(1 + x2) $."
   ]
  },
  {
   "cell_type": "code",
   "execution_count": 118,
   "metadata": {},
   "outputs": [],
   "source": [
    "f <- outer(x, y, function(x, y) cos(y)/(1 + x^2)) #almacenamos los parámetros gráficos"
   ]
  },
  {
   "cell_type": "markdown",
   "metadata": {},
   "source": [
    "Dibujamos un mapa de curvas de nivel de f y después le añadimos más líneas para obtener más detalle."
   ]
  },
  {
   "cell_type": "code",
   "execution_count": 119,
   "metadata": {},
   "outputs": [
    {
     "data": {
      "image/png": "[encoded data removed]",
      "text/plain": [
       "Plot with title \"paste(\"Contornos de \", frac(\"cos(y)\", \"1+x\"^2), sep = \"\")\""
      ]
     },
     "metadata": {},
     "output_type": "display_data"
    }
   ],
   "source": [
    "contour(x, y, f, col=2, main=expression(paste(\"Contornos de \",frac(\"cos(y)\", \"1+x\"^2),sep='')), xlab=\"x\", ylab=\"y\")\n",
    "contour(x, y, f, nlevels=15, add=TRUE)"
   ]
  },
  {
   "cell_type": "markdown",
   "metadata": {},
   "source": [
    "Dibujamos un gráfico de densidad."
   ]
  },
  {
   "cell_type": "code",
   "execution_count": 120,
   "metadata": {},
   "outputs": [
    {
     "data": {
      "image/png": "[encoded data removed]",
      "text/plain": [
       "plot without title"
      ]
     },
     "metadata": {},
     "output_type": "display_data"
    }
   ],
   "source": [
    "image(x, y, f)"
   ]
  },
  {
   "cell_type": "markdown",
   "metadata": {},
   "source": [
    "Presenta los objetos existentes y elimina los objetos creados, antes de seguir adelante. Con R también se puede utilizar números complejos. 1i se utiliza para representar la unidad imaginaria, i."
   ]
  },
  {
   "cell_type": "code",
   "execution_count": 121,
   "metadata": {},
   "outputs": [
    {
     "data": {
      "image/png": "[encoded data removed]",
      "text/plain": [
       "Plot with title \"Gráfico 3D usando la función persp\""
      ]
     },
     "metadata": {},
     "output_type": "display_data"
    }
   ],
   "source": [
    "ecuacion <- expression(f == frac(cos(y), 1+x^2))\n",
    "persp(x, y, f, theta = 30, phi = 30, expand=0.5, col = \"darkgreen\",\n",
    "      main=\"Gráfico 3D usando la función persp\", sub=ecuacion, col.main=\"blue\")"
   ]
  },
  {
   "cell_type": "code",
   "execution_count": 122,
   "metadata": {},
   "outputs": [
    {
     "data": {
      "text/html": [
       "<ol class=list-inline>\n",
       "\t<li>'ecuacion'</li>\n",
       "\t<li>'f'</li>\n",
       "\t<li>'morley'</li>\n",
       "\t<li>'x'</li>\n",
       "\t<li>'y'</li>\n",
       "</ol>\n"
      ],
      "text/latex": [
       "\\begin{enumerate*}\n",
       "\\item 'ecuacion'\n",
       "\\item 'f'\n",
       "\\item 'morley'\n",
       "\\item 'x'\n",
       "\\item 'y'\n",
       "\\end{enumerate*}\n"
      ],
      "text/markdown": [
       "1. 'ecuacion'\n",
       "2. 'f'\n",
       "3. 'morley'\n",
       "4. 'x'\n",
       "5. 'y'\n",
       "\n",
       "\n"
      ],
      "text/plain": [
       "[1] \"ecuacion\" \"f\"        \"morley\"   \"x\"        \"y\"       "
      ]
     },
     "metadata": {},
     "output_type": "display_data"
    }
   ],
   "source": [
    "objects(); rm(x, y, f)"
   ]
  },
  {
   "cell_type": "markdown",
   "metadata": {},
   "source": [
    "La representación gráfica de un argumento complejo consiste en dibujar la parte imaginaria frente a la real. En este caso se obtiene un círculo. Ademas con la funnción par y el argumento pty vamos a cambiar el tipo de región de dibujo, \"s\" genera una región de gráficos cuadrada y \"m\" genera la región de dibujo máxima."
   ]
  },
  {
   "cell_type": "code",
   "execution_count": 123,
   "metadata": {},
   "outputs": [
    {
     "data": {
      "image/png": "[encoded data removed]",
      "text/plain": [
       "plot without title"
      ]
     },
     "metadata": {},
     "output_type": "display_data"
    }
   ],
   "source": [
    "th <- seq(-pi, pi, len=100)\n",
    "z <- exp(1i*th)\n",
    "par(pty=\"s\")\n",
    "plot(z, type=\"l\")"
   ]
  },
  {
   "cell_type": "markdown",
   "metadata": {},
   "source": [
    "Suponga que desea generar puntos pseudoaleatorios dentro del círculo unidad. Un primer intento consiste en generar puntos complejos cuyas partes real e imaginaria, respectivamente, procedan de una N(0,1) y sustituir los que caen fuera del círculo por sus inversos."
   ]
  },
  {
   "cell_type": "code",
   "execution_count": 124,
   "metadata": {},
   "outputs": [
    {
     "data": {
      "image/png": "[encoded data removed]",
      "text/plain": [
       "plot without title"
      ]
     },
     "metadata": {},
     "output_type": "display_data"
    }
   ],
   "source": [
    "w <- rnorm(100) + rnorm(100)*1i\n",
    "w <- ifelse(Mod(w) > 1, 1/w, w)\n",
    "par(pty=\"s\")\n",
    "plot(w, xlim=c(-1,1), ylim=c(-1,1), pch=\"+\",xlab=\"x\", ylab=\"y\")\n",
    "lines(z)\n",
    "#Todos los puntos estan dentro del cırculo unidad, pero la distribucion no es uniforme."
   ]
  },
  {
   "cell_type": "markdown",
   "metadata": {},
   "source": [
    "Este segundo método utiliza la distribución uniforme. En este caso, los puntos presentan una apariencia más uniformemente espaciada sobre el círculo."
   ]
  },
  {
   "cell_type": "code",
   "execution_count": 125,
   "metadata": {},
   "outputs": [
    {
     "data": {
      "image/png": "[encoded data removed]",
      "text/plain": [
       "plot without title"
      ]
     },
     "metadata": {},
     "output_type": "display_data"
    }
   ],
   "source": [
    "w <- sqrt(runif(100))*exp(2*pi*runif(100)*1i)\n",
    "par(pty=\"s\")\n",
    "plot(w, xlim=c(-1,1), ylim=c(-1,1), pch=\"+\", xlab=\"x\", ylab=\"y\")\n",
    "lines(z)"
   ]
  },
  {
   "cell_type": "markdown",
   "metadata": {
    "id": "J-g-s8sVpM_o"
   },
   "source": [
    "# **Algunos aspectos claves y herramientas cotidianas**"
   ]
  },
  {
   "cell_type": "markdown",
   "metadata": {
    "id": "SPWX4PYzpX7R"
   },
   "source": [
    "- R considera diferencias entre mayúsculas y minúsculas.\n",
    "- Los comentarios en R empiezan con # y van en cualquier parte de la linea siempre que no interrumpan la lógica de una instrucción.\n",
    "- El salto de linea y el punto y coma son los separadores de comandos.\n",
    "- Para definir o asignar un objeto se una <-, -> o =\n",
    "- En la consola de R con las flechas hacia arriba y hacia abajo se navega por los comandos ya utilizados.\n",
    "- La estructura más pequeña de R es un vector. Entonces un escalar es un vector.\n",
    "- Hay  que entender las clases y las funciones genéricas de R. \n",
    "  + Las funciones se programan para diferentes objetos y R las selecciona de acuerdo al objeto de entrada. \n",
    "  + Las funciones reciben parámetros de ciertas clases y si los utilizados al llamarlas no corresponden, se ocasiona un error.\n",
    "  + Las funciones de R tienen argumentos por defecto, los que se pueden cambiar al momento de llamarlas (utilizarlas)."
   ]
  },
  {
   "cell_type": "markdown",
   "metadata": {},
   "source": [
    "# **Adicional (Aprende R, en R.)**\n",
    "\n",
    "<center>\n",
    "<img src=\"https://swirlstats.com/images/swirl_new_large_final.png\" alt=\"eigenvectores\" width=\"250\">\n",
    "<center>"
   ]
  },
  {
   "cell_type": "markdown",
   "metadata": {},
   "source": [
    "[**Swirl**](), es un paquete que permite aprender de forma interactiva directamente en **R**, cuenta con diversos cursos para principiantes, intermedios y avanzados, puede usarse en la consola aunque recomiendan utilizar [RStudio](https://www.rstudio.com/products/rstudio/download/). \n",
    "\n",
    "- install.packages(\"swirl\") ----->*Instala*\n",
    "- library(\"swirl\") ----->*se llama la librería*\n",
    "- swirl() ----->*se inicia los cursos base*\n",
    "- bye() ----->*se cierran los cursos*"
   ]
  },
  {
   "cell_type": "markdown",
   "metadata": {
    "tags": []
   },
   "source": [
    "# **Referencias**\n",
    "\n",
    "- [R para principiantes](https://bookdown.org/jboscomendoza/r-principiantes4/)\n",
    "- [Introducción a R](https://cran.r-project.org/doc/contrib/R-intro-1.1.0-espanol.1.pdf)"
   ]
  },
  {
   "cell_type": "code",
   "execution_count": null,
   "metadata": {},
   "outputs": [],
   "source": []
  }
 ],
 "metadata": {
  "colab": {
   "collapsed_sections": [],
   "name": "BreveIntroduccion2R.ipynb",
   "provenance": []
  },
  "kernelspec": {
   "display_name": "R",
   "language": "R",
   "name": "ir"
  },
  "language_info": {
   "codemirror_mode": "r",
   "file_extension": ".r",
   "mimetype": "text/x-r-source",
   "name": "R",
   "pygments_lexer": "r",
   "version": "4.1.1"
  }
 },
 "nbformat": 4,
 "nbformat_minor": 4
}
