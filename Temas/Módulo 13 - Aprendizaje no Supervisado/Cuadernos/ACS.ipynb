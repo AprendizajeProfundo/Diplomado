{
 "cells": [
  {
   "cell_type": "markdown",
   "metadata": {},
   "source": [
    "<table class=\"tfo-notebook-buttons\" align=\"left\">\n",
    "  <td>\n",
    "    <a target=\"_blank\" href=\"https://colab.research.google.com/github/AprendizajeProfundo/Diplomado/blob/master/Temas/M%C3%B3dulo%2014-%20Aprendizaje%20no%20Supervisado/Cuadernos/ACS.ipynb\"><img src=\"https://www.tensorflow.org/images/colab_logo_32px.png\" />Run in Google Colab</a>\n",
    "  </td>\n",
    "</table>"
   ]
  },
  {
   "cell_type": "markdown",
   "metadata": {
    "id": "1Ch3SsEFYI1u"
   },
   "source": [
    "**<p align=\"center\"><font size=5 color=#006600>Diplomado en Inteligencia Artificial y Aprendizaje Profundo**"
   ]
  },
  {
   "cell_type": "markdown",
   "metadata": {
    "id": "OOJ7NOMnelA2"
   },
   "source": [
    "**<p align=\"center\"><font size=5 color=#FF0033>Análisis de correspondencias simples**"
   ]
  },
  {
   "cell_type": "markdown",
   "metadata": {
    "id": "z9oBWmjodpyc"
   },
   "source": [
    "**<font size=5 color=#0000FF>Profesores**"
   ]
  },
  {
   "cell_type": "markdown",
   "metadata": {
    "id": "ms1l2HJYeCh7"
   },
   "source": [
    "1. Campo Elías Pardo Turriago, cepardot@unal.edu.co \n",
    "2. Alvaro Mauricio Montenegro Díaz,ammontenegrod@unal.edu.co \n",
    "3. Daniel Mauricio Montenegro Reyes, dextronomo@gmail.com\n",
    "\n",
    "\n",
    "\n",
    "\n"
   ]
  },
  {
   "cell_type": "markdown",
   "metadata": {
    "id": "TApWfcZxemhD"
   },
   "source": [
    "**<font size=5 color=#0000FF>Asesora Medios y Marketing Digital**"
   ]
  },
  {
   "cell_type": "markdown",
   "metadata": {
    "id": "43gtv0Abextl"
   },
   "source": [
    "1. Maria del Pilar Montenegro, pmontenegro88@gmail.com"
   ]
  },
  {
   "cell_type": "markdown",
   "metadata": {
    "id": "jLSx3bVoe9fZ"
   },
   "source": [
    "# **<font size=5 color=#0000FF>Asistentes**"
   ]
  },
  {
   "cell_type": "markdown",
   "metadata": {
    "id": "74W8jrBSfFXl"
   },
   "source": [
    "1. Oleg Jarma, ojarmam@unal.edu.co\n",
    "2. Laura Lizarazo, ljlizarazore@unal.edu.co\n",
    "3. Julieth López, julalopezcas@unal.edu.co"
   ]
  },
  {
   "cell_type": "markdown",
   "metadata": {
    "id": "L7dnhZUdeyR7"
   },
   "source": [
    "## **Contenido**"
   ]
  },
  {
   "cell_type": "markdown",
   "metadata": {
    "id": "ok00ZM5AgXw6"
   },
   "source": [
    "* [Objetivos del ACS](#Objetivos-del-ACS)\n",
    "* [Ejemplo \"de juguete\" y notación](#Ejemplo-\"de-juguete\"-y-notación)\n",
    "* [El ACS como dos ACP](#El-ACS-como-dos-ACP)\n",
    "* [El ACS como un ACP(**X,M,N**)](#El-ACS-como-un-ACP(X,M,N))\n",
    "* [Ayudas para la interpretación](#Ayudas-para-la-interpretación)\n",
    "* [Filas y columnas suplementarias](#Filas-y-columnas-suplementarias)\n",
    "* [Ejemplo de aplicación](#Ejemplo-de-aplicación)\n",
    "* [Ejercicio](#Ejercicio)"
   ]
  },
  {
   "cell_type": "markdown",
   "metadata": {
    "id": "Fi6OQ2SEfk6L"
   },
   "source": [
    "**Nota:** los trozos de código de este cuaderno son de R\n",
    "\n",
    "**Fuente:** Pardo CE (2020)  [Estadística descriptiva multivariada](http://ciencias.bogota.unal.edu.co/fileadmin/Facultad_de_Ciencias/Publicaciones/Imagenes/Portadas_Libros/Estadistica/Estadistica_descriptiva_multivariada/libroEstadisiticaDescriptivaMultivariadaDigital.pdf)"
   ]
  },
  {
   "cell_type": "markdown",
   "metadata": {
    "id": "liXrxkeGMutK"
   },
   "source": [
    "# **Objetivos de ACS**\n",
    "\n",
    "Explorar y describir tablas de contingencia (TC), tablas de frecuencias y algunas tablas de números positivos.\n",
    "\n",
    "- Comparar los perfiles fila.\n",
    "- Comparar los perfiles columna.\n",
    "- Estudiar las correspondencias entre perfiles fila y columna.\n",
    "\n",
    "Adicionalmente:\n",
    "\n",
    "- Cuantificación de las categorías fila y columna\n",
    "- Reducción de la dimensión\n",
    "- Filtro: separar información de ruido.\n",
    "\n",
    "El ACS se puede ver como:\n",
    "- Dos ACP:  uno de los perfiles fila y otro de perfiles columna, que se superponen.\n",
    "- Un ACP de los desvíos de la tabla de frecuencias relativas a la tabla del modelo de independencia.\n"
   ]
  },
  {
   "cell_type": "markdown",
   "metadata": {
    "id": "tn5sP7WofAu6"
   },
   "source": [
    "# **Ejemplo \"de juguete\" y notación**\n",
    "\n",
    "- Ejemplo TC de los 445 admitidos: 7 carreras $\\times$ 3 estratos.\n",
    "- La tabla de contingencia.\n"
   ]
  },
  {
   "cell_type": "code",
   "execution_count": 1,
   "metadata": {
    "colab": {
     "base_uri": "https://localhost:8080/",
     "height": 130
    },
    "id": "ox324ZoCutjW",
    "outputId": "9eeb3b38-629b-4df1-e705-af5a0aa20a87"
   },
   "outputs": [
    {
     "name": "stderr",
     "output_type": "stream",
     "text": [
      "Warning message:\n",
      "\"package 'FactoClass' was built under R version 3.6.3\"Loading required package: ade4\n",
      "Warning message:\n",
      "\"package 'ade4' was built under R version 3.6.3\"Loading required package: ggplot2\n",
      "Loading required package: ggrepel\n",
      "Warning message:\n",
      "\"package 'ggrepel' was built under R version 3.6.3\"Loading required package: xtable\n",
      "Warning message:\n",
      "\"package 'xtable' was built under R version 3.6.3\"Loading required package: scatterplot3d\n"
     ]
    }
   ],
   "source": [
    "library(FactoClass)"
   ]
  },
  {
   "cell_type": "code",
   "execution_count": 18,
   "metadata": {
    "id": "eo6Efj56uE0Z",
    "outputId": "15003abf-37fa-4c41-8dc0-011ce4a576ca"
   },
   "outputs": [
    {
     "name": "stdout",
     "output_type": "stream",
     "text": [
      "'data.frame':\t445 obs. of  15 variables:\n",
      " $ carr: Factor w/ 7 levels \"Biol\",\"Esta\",..: 1 1 1 1 1 1 1 1 1 1 ...\n",
      " $ mate: num  12 11.8 10 11.5 11.2 ...\n",
      " $ cien: num  10.8 11.2 10.5 11.5 10.8 ...\n",
      " $ soci: num  12.1 11.7 10.7 11.7 12.1 ...\n",
      " $ text: num  10.62 10.35 9.57 10.91 11.21 ...\n",
      " $ imag: num  10.7 11.6 8.8 11.6 11.3 ...\n",
      " $ exam: num  696 703 504 715 693 ...\n",
      " $ gene: Factor w/ 2 levels \"F\",\"M\": 1 2 1 1 2 1 1 2 1 2 ...\n",
      " $ estr: Factor w/ 3 levels \"bajo\",\"medio\",..: 3 2 1 1 2 2 2 2 2 2 ...\n",
      " $ orig: Factor w/ 3 levels \"Bogo\",\"Cund\",..: 1 1 1 1 1 1 1 1 1 1 ...\n",
      " $ edad: Factor w/ 4 levels \"a16m\",\"a17\",\"a18\",..: 2 2 3 3 2 2 2 2 4 3 ...\n",
      " $ niLE: Factor w/ 2 levels \"siLE\",\"noLE\": 2 2 1 2 2 2 2 2 2 2 ...\n",
      " $ niMa: Factor w/ 2 levels \"siMa\",\"noMa\": 1 1 1 1 1 1 1 1 2 2 ...\n",
      " $ stra: Factor w/ 7 levels \"E0\",\"E1\",\"E2\",..: 5 4 3 3 4 4 4 4 4 4 ...\n",
      " $ age : num  17 17 18 18 17 17 17 17 19 18 ...\n"
     ]
    }
   ],
   "source": [
    "# Una idea de la estructura de los datos\n",
    "data(admi)\n",
    "str(admi)"
   ]
  },
  {
   "cell_type": "markdown",
   "metadata": {
    "id": "JjZzHn6quySD",
    "tags": []
   },
   "source": [
    "#### **Tabla de contingencia**"
   ]
  },
  {
   "cell_type": "code",
   "execution_count": 19,
   "metadata": {},
   "outputs": [
    {
     "data": {
      "text/html": [
       "<table>\n",
       "<thead><tr><th></th><th scope=col>bajo</th><th scope=col>medio</th><th scope=col>alto</th><th scope=col>Sum</th></tr></thead>\n",
       "<tbody>\n",
       "\t<tr><th scope=row>Biol</th><td> 23</td><td> 26</td><td>14 </td><td> 63</td></tr>\n",
       "\t<tr><th scope=row>Esta</th><td> 29</td><td> 29</td><td> 8 </td><td> 66</td></tr>\n",
       "\t<tr><th scope=row>Farm</th><td> 30</td><td> 36</td><td> 7 </td><td> 73</td></tr>\n",
       "\t<tr><th scope=row>Fisi</th><td> 27</td><td> 36</td><td>19 </td><td> 82</td></tr>\n",
       "\t<tr><th scope=row>Geol</th><td> 18</td><td>  9</td><td>18 </td><td> 45</td></tr>\n",
       "\t<tr><th scope=row>Mate</th><td> 21</td><td> 25</td><td> 7 </td><td> 53</td></tr>\n",
       "\t<tr><th scope=row>Quim</th><td> 31</td><td> 24</td><td> 8 </td><td> 63</td></tr>\n",
       "\t<tr><th scope=row>Sum</th><td>179</td><td>185</td><td>81 </td><td>445</td></tr>\n",
       "</tbody>\n",
       "</table>\n"
      ],
      "text/latex": [
       "\\begin{tabular}{r|llll}\n",
       "  & bajo & medio & alto & Sum\\\\\n",
       "\\hline\n",
       "\tBiol &  23 &  26 & 14  &  63\\\\\n",
       "\tEsta &  29 &  29 &  8  &  66\\\\\n",
       "\tFarm &  30 &  36 &  7  &  73\\\\\n",
       "\tFisi &  27 &  36 & 19  &  82\\\\\n",
       "\tGeol &  18 &   9 & 18  &  45\\\\\n",
       "\tMate &  21 &  25 &  7  &  53\\\\\n",
       "\tQuim &  31 &  24 &  8  &  63\\\\\n",
       "\tSum & 179 & 185 & 81  & 445\\\\\n",
       "\\end{tabular}\n"
      ],
      "text/markdown": [
       "\n",
       "| <!--/--> | bajo | medio | alto | Sum |\n",
       "|---|---|---|---|---|\n",
       "| Biol |  23 |  26 | 14  |  63 |\n",
       "| Esta |  29 |  29 |  8  |  66 |\n",
       "| Farm |  30 |  36 |  7  |  73 |\n",
       "| Fisi |  27 |  36 | 19  |  82 |\n",
       "| Geol |  18 |   9 | 18  |  45 |\n",
       "| Mate |  21 |  25 |  7  |  53 |\n",
       "| Quim |  31 |  24 |  8  |  63 |\n",
       "| Sum | 179 | 185 | 81  | 445 |\n",
       "\n"
      ],
      "text/plain": [
       "      \n",
       "       bajo medio alto Sum\n",
       "  Biol  23   26   14    63\n",
       "  Esta  29   29    8    66\n",
       "  Farm  30   36    7    73\n",
       "  Fisi  27   36   19    82\n",
       "  Geol  18    9   18    45\n",
       "  Mate  21   25    7    53\n",
       "  Quim  31   24    8    63\n",
       "  Sum  179  185   81   445"
      ]
     },
     "metadata": {},
     "output_type": "display_data"
    }
   ],
   "source": [
    "K<-unclass(table(admi$carr,admi$estr))\n",
    "addmargins(K)"
   ]
  },
  {
   "cell_type": "markdown",
   "metadata": {
    "id": "hZrvhNXfNAWd"
   },
   "source": [
    "Tabla de contingencia $\\mathbf{K}$\n",
    "- Termino general $k_{ij}$ \n",
    "- Marginal de filas  $k_{i \\cdot}$ \n",
    "- Marginal de columnas $k_{\\cdot j}$ \n",
    "- Total  $k=k_{\\cdot\\cdot}$"
   ]
  },
  {
   "cell_type": "markdown",
   "metadata": {
    "id": "ndlTAr81x50G"
   },
   "source": [
    "#### **Tabla de frecuencias relativas**"
   ]
  },
  {
   "cell_type": "code",
   "execution_count": 3,
   "metadata": {
    "colab": {
     "base_uri": "https://localhost:8080/",
     "height": 189
    },
    "id": "gyqGaZuP8SXZ",
    "outputId": "a0a5a87c-6653-46c8-d56f-035bd1b4009e"
   },
   "outputs": [
    {
     "data": {
      "text/html": [
       "<table>\n",
       "<thead><tr><th></th><th scope=col>bajo</th><th scope=col>medio</th><th scope=col>alto</th><th scope=col>Sum</th></tr></thead>\n",
       "<tbody>\n",
       "\t<tr><th scope=row>Biol</th><td> 5.17 </td><td> 5.84 </td><td> 3.15 </td><td> 14.16</td></tr>\n",
       "\t<tr><th scope=row>Esta</th><td> 6.52 </td><td> 6.52 </td><td> 1.80 </td><td> 14.84</td></tr>\n",
       "\t<tr><th scope=row>Farm</th><td> 6.74 </td><td> 8.09 </td><td> 1.57 </td><td> 16.40</td></tr>\n",
       "\t<tr><th scope=row>Fisi</th><td> 6.07 </td><td> 8.09 </td><td> 4.27 </td><td> 18.43</td></tr>\n",
       "\t<tr><th scope=row>Geol</th><td> 4.04 </td><td> 2.02 </td><td> 4.04 </td><td> 10.10</td></tr>\n",
       "\t<tr><th scope=row>Mate</th><td> 4.72 </td><td> 5.62 </td><td> 1.57 </td><td> 11.91</td></tr>\n",
       "\t<tr><th scope=row>Quim</th><td> 6.97 </td><td> 5.39 </td><td> 1.80 </td><td> 14.16</td></tr>\n",
       "\t<tr><th scope=row>Sum</th><td>40.23 </td><td>41.57 </td><td>18.20 </td><td>100.00</td></tr>\n",
       "</tbody>\n",
       "</table>\n"
      ],
      "text/latex": [
       "\\begin{tabular}{r|llll}\n",
       "  & bajo & medio & alto & Sum\\\\\n",
       "\\hline\n",
       "\tBiol &  5.17  &  5.84  &  3.15  &  14.16\\\\\n",
       "\tEsta &  6.52  &  6.52  &  1.80  &  14.84\\\\\n",
       "\tFarm &  6.74  &  8.09  &  1.57  &  16.40\\\\\n",
       "\tFisi &  6.07  &  8.09  &  4.27  &  18.43\\\\\n",
       "\tGeol &  4.04  &  2.02  &  4.04  &  10.10\\\\\n",
       "\tMate &  4.72  &  5.62  &  1.57  &  11.91\\\\\n",
       "\tQuim &  6.97  &  5.39  &  1.80  &  14.16\\\\\n",
       "\tSum & 40.23  & 41.57  & 18.20  & 100.00\\\\\n",
       "\\end{tabular}\n"
      ],
      "text/markdown": [
       "\n",
       "| <!--/--> | bajo | medio | alto | Sum |\n",
       "|---|---|---|---|---|\n",
       "| Biol |  5.17  |  5.84  |  3.15  |  14.16 |\n",
       "| Esta |  6.52  |  6.52  |  1.80  |  14.84 |\n",
       "| Farm |  6.74  |  8.09  |  1.57  |  16.40 |\n",
       "| Fisi |  6.07  |  8.09  |  4.27  |  18.43 |\n",
       "| Geol |  4.04  |  2.02  |  4.04  |  10.10 |\n",
       "| Mate |  4.72  |  5.62  |  1.57  |  11.91 |\n",
       "| Quim |  6.97  |  5.39  |  1.80  |  14.16 |\n",
       "| Sum | 40.23  | 41.57  | 18.20  | 100.00 |\n",
       "\n"
      ],
      "text/plain": [
       "      \n",
       "       bajo  medio alto  Sum   \n",
       "  Biol  5.17  5.84  3.15  14.16\n",
       "  Esta  6.52  6.52  1.80  14.84\n",
       "  Farm  6.74  8.09  1.57  16.40\n",
       "  Fisi  6.07  8.09  4.27  18.43\n",
       "  Geol  4.04  2.02  4.04  10.10\n",
       "  Mate  4.72  5.62  1.57  11.91\n",
       "  Quim  6.97  5.39  1.80  14.16\n",
       "  Sum  40.23 41.57 18.20 100.00"
      ]
     },
     "metadata": {},
     "output_type": "display_data"
    }
   ],
   "source": [
    "F<-K/sum(K)\n",
    "addmargins(round(F*100,2))"
   ]
  },
  {
   "cell_type": "markdown",
   "metadata": {
    "id": "Ilcura-rqvT-"
   },
   "source": [
    "Tabla de frecuencias relativas $\\mathbf{F} = \\frac{1}{k}\\mathbf{K}$\n",
    "\n",
    "- Termino general $f_{ij}=\\frac{k_{ij}}{k}$ \n",
    "- Marginal de filas  $f_{i \\cdot}$ \n",
    "- Marginal de columnas $f_{\\cdot j}$ \n",
    "- Total  $f_{\\cdot\\cdot}=1$"
   ]
  },
  {
   "cell_type": "markdown",
   "metadata": {
    "id": "zvWsYb5JNPbS"
   },
   "source": [
    "## Perfiles fila\n",
    "\n",
    "Sea $\\mathbf{D}_n = diag(f_{i \\cdot})$, los perfiles fila son $\\mathbf{D}_n^{-1} \\mathbf{F}$:\n",
    "\n"
   ]
  },
  {
   "cell_type": "code",
   "execution_count": 48,
   "metadata": {
    "id": "fnXHufbfe1Ey",
    "outputId": "0a5fb139-cc30-44ce-a285-49706b6ded55"
   },
   "outputs": [
    {
     "name": "stdout",
     "output_type": "stream",
     "text": [
      "[1] \"Diagonal de con los valores maginales por filas:\"\n"
     ]
    },
    {
     "data": {
      "text/html": [
       "<table>\n",
       "<tbody>\n",
       "\t<tr><td>14.2</td><td> 0.0</td><td> 0.0</td><td> 0.0</td><td> 0.0</td><td> 0.0</td><td> 0.0</td></tr>\n",
       "\t<tr><td> 0.0</td><td>14.8</td><td> 0.0</td><td> 0.0</td><td> 0.0</td><td> 0.0</td><td> 0.0</td></tr>\n",
       "\t<tr><td> 0.0</td><td> 0.0</td><td>16.4</td><td> 0.0</td><td> 0.0</td><td> 0.0</td><td> 0.0</td></tr>\n",
       "\t<tr><td> 0.0</td><td> 0.0</td><td> 0.0</td><td>18.4</td><td> 0.0</td><td> 0.0</td><td> 0.0</td></tr>\n",
       "\t<tr><td> 0.0</td><td> 0.0</td><td> 0.0</td><td> 0.0</td><td>10.1</td><td> 0.0</td><td> 0.0</td></tr>\n",
       "\t<tr><td> 0.0</td><td> 0.0</td><td> 0.0</td><td> 0.0</td><td> 0.0</td><td>11.9</td><td> 0.0</td></tr>\n",
       "\t<tr><td> 0.0</td><td> 0.0</td><td> 0.0</td><td> 0.0</td><td> 0.0</td><td> 0.0</td><td>14.2</td></tr>\n",
       "</tbody>\n",
       "</table>\n"
      ],
      "text/latex": [
       "\\begin{tabular}{lllllll}\n",
       "\t 14.2 &  0.0 &  0.0 &  0.0 &  0.0 &  0.0 &  0.0\\\\\n",
       "\t  0.0 & 14.8 &  0.0 &  0.0 &  0.0 &  0.0 &  0.0\\\\\n",
       "\t  0.0 &  0.0 & 16.4 &  0.0 &  0.0 &  0.0 &  0.0\\\\\n",
       "\t  0.0 &  0.0 &  0.0 & 18.4 &  0.0 &  0.0 &  0.0\\\\\n",
       "\t  0.0 &  0.0 &  0.0 &  0.0 & 10.1 &  0.0 &  0.0\\\\\n",
       "\t  0.0 &  0.0 &  0.0 &  0.0 &  0.0 & 11.9 &  0.0\\\\\n",
       "\t  0.0 &  0.0 &  0.0 &  0.0 &  0.0 &  0.0 & 14.2\\\\\n",
       "\\end{tabular}\n"
      ],
      "text/markdown": [
       "\n",
       "| 14.2 |  0.0 |  0.0 |  0.0 |  0.0 |  0.0 |  0.0 |\n",
       "|  0.0 | 14.8 |  0.0 |  0.0 |  0.0 |  0.0 |  0.0 |\n",
       "|  0.0 |  0.0 | 16.4 |  0.0 |  0.0 |  0.0 |  0.0 |\n",
       "|  0.0 |  0.0 |  0.0 | 18.4 |  0.0 |  0.0 |  0.0 |\n",
       "|  0.0 |  0.0 |  0.0 |  0.0 | 10.1 |  0.0 |  0.0 |\n",
       "|  0.0 |  0.0 |  0.0 |  0.0 |  0.0 | 11.9 |  0.0 |\n",
       "|  0.0 |  0.0 |  0.0 |  0.0 |  0.0 |  0.0 | 14.2 |\n",
       "\n"
      ],
      "text/plain": [
       "     [,1] [,2] [,3] [,4] [,5] [,6] [,7]\n",
       "[1,] 14.2  0.0  0.0  0.0  0.0  0.0  0.0\n",
       "[2,]  0.0 14.8  0.0  0.0  0.0  0.0  0.0\n",
       "[3,]  0.0  0.0 16.4  0.0  0.0  0.0  0.0\n",
       "[4,]  0.0  0.0  0.0 18.4  0.0  0.0  0.0\n",
       "[5,]  0.0  0.0  0.0  0.0 10.1  0.0  0.0\n",
       "[6,]  0.0  0.0  0.0  0.0  0.0 11.9  0.0\n",
       "[7,]  0.0  0.0  0.0  0.0  0.0  0.0 14.2"
      ]
     },
     "metadata": {},
     "output_type": "display_data"
    },
    {
     "name": "stdout",
     "output_type": "stream",
     "text": [
      "[1] \"Perfiles fila:\"\n"
     ]
    },
    {
     "data": {
      "text/html": [
       "<table>\n",
       "<thead><tr><th></th><th scope=col>bajo</th><th scope=col>medio</th><th scope=col>alto</th></tr></thead>\n",
       "<tbody>\n",
       "\t<tr><th scope=row>Biol</th><td>36.5</td><td>41.3</td><td>22.2</td></tr>\n",
       "\t<tr><th scope=row>Esta</th><td>43.9</td><td>43.9</td><td>12.1</td></tr>\n",
       "\t<tr><th scope=row>Farm</th><td>41.1</td><td>49.3</td><td> 9.6</td></tr>\n",
       "\t<tr><th scope=row>Fisi</th><td>32.9</td><td>43.9</td><td>23.2</td></tr>\n",
       "\t<tr><th scope=row>Geol</th><td>40.0</td><td>20.0</td><td>40.0</td></tr>\n",
       "\t<tr><th scope=row>Mate</th><td>39.6</td><td>47.2</td><td>13.2</td></tr>\n",
       "\t<tr><th scope=row>Quim</th><td>49.2</td><td>38.1</td><td>12.7</td></tr>\n",
       "</tbody>\n",
       "</table>\n"
      ],
      "text/latex": [
       "\\begin{tabular}{r|lll}\n",
       "  & bajo & medio & alto\\\\\n",
       "\\hline\n",
       "\tBiol & 36.5 & 41.3 & 22.2\\\\\n",
       "\tEsta & 43.9 & 43.9 & 12.1\\\\\n",
       "\tFarm & 41.1 & 49.3 &  9.6\\\\\n",
       "\tFisi & 32.9 & 43.9 & 23.2\\\\\n",
       "\tGeol & 40.0 & 20.0 & 40.0\\\\\n",
       "\tMate & 39.6 & 47.2 & 13.2\\\\\n",
       "\tQuim & 49.2 & 38.1 & 12.7\\\\\n",
       "\\end{tabular}\n"
      ],
      "text/markdown": [
       "\n",
       "| <!--/--> | bajo | medio | alto |\n",
       "|---|---|---|---|\n",
       "| Biol | 36.5 | 41.3 | 22.2 |\n",
       "| Esta | 43.9 | 43.9 | 12.1 |\n",
       "| Farm | 41.1 | 49.3 |  9.6 |\n",
       "| Fisi | 32.9 | 43.9 | 23.2 |\n",
       "| Geol | 40.0 | 20.0 | 40.0 |\n",
       "| Mate | 39.6 | 47.2 | 13.2 |\n",
       "| Quim | 49.2 | 38.1 | 12.7 |\n",
       "\n"
      ],
      "text/plain": [
       "      \n",
       "       bajo medio alto\n",
       "  Biol 36.5 41.3  22.2\n",
       "  Esta 43.9 43.9  12.1\n",
       "  Farm 41.1 49.3   9.6\n",
       "  Fisi 32.9 43.9  23.2\n",
       "  Geol 40.0 20.0  40.0\n",
       "  Mate 39.6 47.2  13.2\n",
       "  Quim 49.2 38.1  12.7"
      ]
     },
     "metadata": {},
     "output_type": "display_data"
    },
    {
     "data": {
      "image/png": "[encoded data removed]",
      "text/plain": [
       "Plot with title \"Perfiles fila\""
      ]
     },
     "metadata": {},
     "output_type": "display_data"
    }
   ],
   "source": [
    "# valores marginales por filas\n",
    "Dn <- diag(rowSums(F))\n",
    "print(\"Diagonal de con los valores maginales por filas:\")\n",
    "round(Dn*100,1)\n",
    "\n",
    "# perfil fila\n",
    "perFila <- solve(Dn)%*%F\n",
    "rownames(perFila)<-rownames(F)\n",
    "colnames(perFila)<-colnames(F)\n",
    "print(\"Perfiles fila:\")\n",
    "round(perFila*100,1)\n",
    "\n",
    "# gráfica de los perfiles\n",
    "plotct(K,\"row\",col=c(\"red\",\"orange\",\"darkgreen\"),main=\"Perfiles fila\") #función de FactoClass"
   ]
  },
  {
   "cell_type": "markdown",
   "metadata": {
    "id": "Kj2REGrSe1Ez"
   },
   "source": [
    "## Perfiles columna\n",
    "\n",
    "Sea $\\mathbf{D}_p = diag(f_{\\cdot j})$, los perfiles columna son $\\mathbf{D}_p^{-1} \\mathbf{F'}$ (puestos como filas): \n"
   ]
  },
  {
   "cell_type": "code",
   "execution_count": 56,
   "metadata": {
    "id": "AM8A3F9Re1E0",
    "outputId": "eeb4a465-b468-4a10-83a9-47293d75c857"
   },
   "outputs": [
    {
     "name": "stdout",
     "output_type": "stream",
     "text": [
      "[1] \"Valores maginales por columna:\"\n"
     ]
    },
    {
     "data": {
      "text/html": [
       "<table>\n",
       "<thead><tr><th></th><th scope=col>Biol</th><th scope=col>Esta</th><th scope=col>Farm</th><th scope=col>Fisi</th><th scope=col>Geol</th><th scope=col>Mate</th><th scope=col>Quim</th><th scope=col>marg</th></tr></thead>\n",
       "<tbody>\n",
       "\t<tr><th scope=row>bajo</th><td>36.5</td><td>43.9</td><td>41.1</td><td>32.9</td><td>40  </td><td>39.6</td><td>49.2</td><td>40.2</td></tr>\n",
       "\t<tr><th scope=row>medio</th><td>41.3</td><td>43.9</td><td>49.3</td><td>43.9</td><td>20  </td><td>47.2</td><td>38.1</td><td>41.6</td></tr>\n",
       "\t<tr><th scope=row>alto</th><td>22.2</td><td>12.1</td><td> 9.6</td><td>23.2</td><td>40  </td><td>13.2</td><td>12.7</td><td>18.2</td></tr>\n",
       "</tbody>\n",
       "</table>\n"
      ],
      "text/latex": [
       "\\begin{tabular}{r|llllllll}\n",
       "  & Biol & Esta & Farm & Fisi & Geol & Mate & Quim & marg\\\\\n",
       "\\hline\n",
       "\tbajo & 36.5 & 43.9 & 41.1 & 32.9 & 40   & 39.6 & 49.2 & 40.2\\\\\n",
       "\tmedio & 41.3 & 43.9 & 49.3 & 43.9 & 20   & 47.2 & 38.1 & 41.6\\\\\n",
       "\talto & 22.2 & 12.1 &  9.6 & 23.2 & 40   & 13.2 & 12.7 & 18.2\\\\\n",
       "\\end{tabular}\n"
      ],
      "text/markdown": [
       "\n",
       "| <!--/--> | Biol | Esta | Farm | Fisi | Geol | Mate | Quim | marg |\n",
       "|---|---|---|---|---|---|---|---|---|\n",
       "| bajo | 36.5 | 43.9 | 41.1 | 32.9 | 40   | 39.6 | 49.2 | 40.2 |\n",
       "| medio | 41.3 | 43.9 | 49.3 | 43.9 | 20   | 47.2 | 38.1 | 41.6 |\n",
       "| alto | 22.2 | 12.1 |  9.6 | 23.2 | 40   | 13.2 | 12.7 | 18.2 |\n",
       "\n"
      ],
      "text/plain": [
       "      Biol Esta Farm Fisi Geol Mate Quim marg\n",
       "bajo  36.5 43.9 41.1 32.9 40   39.6 49.2 40.2\n",
       "medio 41.3 43.9 49.3 43.9 20   47.2 38.1 41.6\n",
       "alto  22.2 12.1  9.6 23.2 40   13.2 12.7 18.2"
      ]
     },
     "metadata": {},
     "output_type": "display_data"
    },
    {
     "data": {
      "image/png": "[encoded data removed]",
      "text/plain": [
       "Plot with title \"Perfiles columna\""
      ]
     },
     "metadata": {},
     "output_type": "display_data"
    }
   ],
   "source": [
    "plotct(t(K),\"row\",col=2:8,tables=TRUE,main=\"Perfiles columna\")->tab #función de FactoClass\n",
    "Dp<-diag(colSums(F))\n",
    "print(\"Valores maginales por columna:\")\n",
    "tab$perC"
   ]
  },
  {
   "cell_type": "markdown",
   "metadata": {
    "id": "VC1qjTsxe1E0"
   },
   "source": [
    "## El modelo de independencia\n",
    "Sea $a_{ij}=f_{i\\cdot}f_{\\cdot j}$, el término general de la tabla de independencia $\\mathbf{A}$ \n"
   ]
  },
  {
   "cell_type": "code",
   "execution_count": 57,
   "metadata": {
    "id": "kgwrPHBie1E1",
    "outputId": "1b40d19c-6bd4-40fa-d764-9137b44922ba"
   },
   "outputs": [
    {
     "data": {
      "text/html": [
       "<table>\n",
       "<thead><tr><th></th><th scope=col>bajo</th><th scope=col>medio</th><th scope=col>alto</th><th scope=col>bajo</th><th scope=col>medio</th><th scope=col>alto</th><th scope=col>bajo</th><th scope=col>medio</th><th scope=col>alto</th></tr></thead>\n",
       "<tbody>\n",
       "\t<tr><th scope=row>Biol</th><td>5.17 </td><td>5.84 </td><td>3.15 </td><td>5.69 </td><td>5.89 </td><td>2.58 </td><td>-0.53</td><td>-0.04</td><td> 0.57</td></tr>\n",
       "\t<tr><th scope=row>Esta</th><td>6.52 </td><td>6.52 </td><td>1.80 </td><td>5.97 </td><td>6.17 </td><td>2.70 </td><td> 0.55</td><td> 0.35</td><td>-0.90</td></tr>\n",
       "\t<tr><th scope=row>Farm</th><td>6.74 </td><td>8.09 </td><td>1.57 </td><td>6.60 </td><td>6.82 </td><td>2.99 </td><td> 0.14</td><td> 1.27</td><td>-1.41</td></tr>\n",
       "\t<tr><th scope=row>Fisi</th><td>6.07 </td><td>8.09 </td><td>4.27 </td><td>7.41 </td><td>7.66 </td><td>3.35 </td><td>-1.34</td><td> 0.43</td><td> 0.92</td></tr>\n",
       "\t<tr><th scope=row>Geol</th><td>4.04 </td><td>2.02 </td><td>4.04 </td><td>4.07 </td><td>4.20 </td><td>1.84 </td><td>-0.02</td><td>-2.18</td><td> 2.20</td></tr>\n",
       "\t<tr><th scope=row>Mate</th><td>4.72 </td><td>5.62 </td><td>1.57 </td><td>4.79 </td><td>4.95 </td><td>2.17 </td><td>-0.07</td><td> 0.67</td><td>-0.59</td></tr>\n",
       "\t<tr><th scope=row>Quim</th><td>6.97 </td><td>5.39 </td><td>1.80 </td><td>5.69 </td><td>5.89 </td><td>2.58 </td><td> 1.27</td><td>-0.49</td><td>-0.78</td></tr>\n",
       "</tbody>\n",
       "</table>\n"
      ],
      "text/latex": [
       "\\begin{tabular}{r|lllllllll}\n",
       "  & bajo & medio & alto & bajo & medio & alto & bajo & medio & alto\\\\\n",
       "\\hline\n",
       "\tBiol & 5.17  & 5.84  & 3.15  & 5.69  & 5.89  & 2.58  & -0.53 & -0.04 &  0.57\\\\\n",
       "\tEsta & 6.52  & 6.52  & 1.80  & 5.97  & 6.17  & 2.70  &  0.55 &  0.35 & -0.90\\\\\n",
       "\tFarm & 6.74  & 8.09  & 1.57  & 6.60  & 6.82  & 2.99  &  0.14 &  1.27 & -1.41\\\\\n",
       "\tFisi & 6.07  & 8.09  & 4.27  & 7.41  & 7.66  & 3.35  & -1.34 &  0.43 &  0.92\\\\\n",
       "\tGeol & 4.04  & 2.02  & 4.04  & 4.07  & 4.20  & 1.84  & -0.02 & -2.18 &  2.20\\\\\n",
       "\tMate & 4.72  & 5.62  & 1.57  & 4.79  & 4.95  & 2.17  & -0.07 &  0.67 & -0.59\\\\\n",
       "\tQuim & 6.97  & 5.39  & 1.80  & 5.69  & 5.89  & 2.58  &  1.27 & -0.49 & -0.78\\\\\n",
       "\\end{tabular}\n"
      ],
      "text/markdown": [
       "\n",
       "| <!--/--> | bajo | medio | alto | bajo | medio | alto | bajo | medio | alto |\n",
       "|---|---|---|---|---|---|---|---|---|---|\n",
       "| Biol | 5.17  | 5.84  | 3.15  | 5.69  | 5.89  | 2.58  | -0.53 | -0.04 |  0.57 |\n",
       "| Esta | 6.52  | 6.52  | 1.80  | 5.97  | 6.17  | 2.70  |  0.55 |  0.35 | -0.90 |\n",
       "| Farm | 6.74  | 8.09  | 1.57  | 6.60  | 6.82  | 2.99  |  0.14 |  1.27 | -1.41 |\n",
       "| Fisi | 6.07  | 8.09  | 4.27  | 7.41  | 7.66  | 3.35  | -1.34 |  0.43 |  0.92 |\n",
       "| Geol | 4.04  | 2.02  | 4.04  | 4.07  | 4.20  | 1.84  | -0.02 | -2.18 |  2.20 |\n",
       "| Mate | 4.72  | 5.62  | 1.57  | 4.79  | 4.95  | 2.17  | -0.07 |  0.67 | -0.59 |\n",
       "| Quim | 6.97  | 5.39  | 1.80  | 5.69  | 5.89  | 2.58  |  1.27 | -0.49 | -0.78 |\n",
       "\n"
      ],
      "text/plain": [
       "     bajo medio alto bajo medio alto bajo  medio alto \n",
       "Biol 5.17 5.84  3.15 5.69 5.89  2.58 -0.53 -0.04  0.57\n",
       "Esta 6.52 6.52  1.80 5.97 6.17  2.70  0.55  0.35 -0.90\n",
       "Farm 6.74 8.09  1.57 6.60 6.82  2.99  0.14  1.27 -1.41\n",
       "Fisi 6.07 8.09  4.27 7.41 7.66  3.35 -1.34  0.43  0.92\n",
       "Geol 4.04 2.02  4.04 4.07 4.20  1.84 -0.02 -2.18  2.20\n",
       "Mate 4.72 5.62  1.57 4.79 4.95  2.17 -0.07  0.67 -0.59\n",
       "Quim 6.97 5.39  1.80 5.69 5.89  2.58  1.27 -0.49 -0.78"
      ]
     },
     "metadata": {},
     "output_type": "display_data"
    }
   ],
   "source": [
    "A<-diag(Dn)%*%t(diag(Dp))\n",
    "colnames(A)<-colnames(F)\n",
    "round(cbind(F,A,F-A)*100,2)"
   ]
  },
  {
   "cell_type": "markdown",
   "metadata": {
    "id": "QRpwDOzMe1E2"
   },
   "source": [
    "# **El ACS como dos ACP**\n",
    "\n",
    "En el ACS (*Análisis de Correspondencias Simple*) se describen simultáneamente los perfiles fila y columna. Para cada tabla de perfiles se realiza un **ACP(X, M, N)**, pero los dos ACP (*Análisis de componentes principales*) están\n",
    "relacionados, lo que permite representaciones simultáneas de los planos factoriales."
   ]
  },
  {
   "cell_type": "markdown",
   "metadata": {
    "id": "3cOs2cJje1E2"
   },
   "source": [
    "## ACP de los perfiles-fila\n",
    "$$\n",
    "ACP(\\mathbf{X,M,N}) = ACP(\\mathbf{D}_n^{-1}\\mathbf{F},\\mathbf{D}^{-1}_p,\\mathbf{D_n})\n",
    "$$\n",
    "- Se analiza la tabla  de perfiles fila, entonces el histograma que respresenta un perfil fila se ve como un punto en $\\mathbb{R}^p$.\n",
    "- La diferencia entre dos histogramas = distancia entre los puntos en $\\mathbb{R}^p$.\n",
    "- Los pesos de los puntos fila: $f_{i\\cdot}$ están en la  la matriz diagonal $\\mathbf{D_n}$.\n",
    "- Las distancias entre distribuciones condicionales se definen a partir del producto punto dado por la matriz $\\mathbf{D}^{-1}_p$.\n",
    "- La matriz $\\mathbf{D}_n^{-1}\\mathbf{F}$ no está centrada.\n",
    "- El mayor valor propio de la matriz a diagonalizar $\\mathbf{F'D_n^{-1}FD_p^{-1}}$ es 1 y el vector propio asociado es el centro de gravedad de la nube.\n",
    "- Partir del segundo vector propio de esta matriz es equivalente a centrar, logrando una simplificación de las fórmulas del ACS.\n"
   ]
  },
  {
   "cell_type": "markdown",
   "metadata": {
    "id": "ZJgKVO7yxjhZ"
   },
   "source": [
    "<center>\n",
    "<img src=\"https://raw.githubusercontent.com/AprendizajeProfundo/Diplomado/master/Temas/M%C3%B3dulo%2014-%20Aprendizaje%20no%20Supervisado/Imagenes/metodosFactoriales.png\" alt=\"Primera imagen\" width=\"600\" height=\"500\">\n",
    "<center>"
   ]
  },
  {
   "cell_type": "markdown",
   "metadata": {
    "id": "LwxsXAo88NOy"
   },
   "source": [
    "### Nube de perfiles fila \n",
    "\n",
    "- Coordenadas de los perfiles fila son: $\\mathbf{x}_i; i=1,2,\\cdots,n$; con:\n",
    "$$ \\mathbf{x}_i(j) = \\dfrac{f_{ij}}{f_{i\\cdot}}; \\ j=1,2,\\cdots,p$$\n",
    "    - Si tomamos $i=3$, se obtiene el perfil de Farmacia cuyas coordenadas son $\\mathbf{x}_3 =[ 0.411,0.493, 0.096]'$\n",
    "    \n",
    "&nbsp;\n",
    "\n",
    "- Centro de gravedad:\n",
    "$$ \\mathbf{g}_p = \\sum_{i=1}^n f_{i\\cdot} \\mathbf{x}_i$$\n",
    "    - La coordenada $j$, notada $ \\mathbf{g}_p(j)$, del centro de gravedad es:\n",
    "$$ \n",
    "\\mathbf{g}_p(j)=\\sum_{i=1}^n f_{i\\cdot} \\dfrac{f_{ij}}{f_{i\\cdot}} = \\sum_{i=1}^n f_{ij} = f_{\\cdot j}\n",
    "$$\n",
    "    - Centro de gravedad = Marginal columna de la tabla **F**, en el ejemplo es $ \\mathbf{g}_p =[0.402, 0.416,  0.182]'$\n",
    "\n",
    "&nbsp;\n",
    "    \n",
    "- Distancia entre perfiles fila = distancia $ji$ cuadrado o de Benzècri:\n",
    "la métrica es $\\mathbf{D}^{-1}_p$, elemento diagonal  $\\dfrac{1}{f_{\\cdot j}}$\n",
    "$$  \n",
    "d^2(i,l)=\\sum_{j=1}^p \\dfrac{1}{f_{\\cdot j}} (x_{ij}-x_{lj})^2 =\n",
    "\\sum_{j=1}^p \\dfrac{1}{f_{\\cdot j}} \\left(\\dfrac{f_{ij}}{f_{i\\cdot}}-\\dfrac{f_{lj}}{f_{l\\cdot}}\\right)^2\n",
    "$$\n",
    "\n",
    "    -  amplifica más las diferencias al cuadrado entre coordenadas cuando se deben a columnas de baja frecuencia marginal. \n",
    "    - La distancia $ji$ cuadrado le confiere al ACS dos propiedades: \n",
    "        + La equivalencia distribucional \n",
    "        + Las relaciones cuasi-baricéntricas,\n",
    "        \n",
    "&nbsp;\n",
    "\n",
    "- Inercia de la nube de perfiles fila:\n",
    "$$\n",
    "Inercia(N_n) = \\sum_{i=1}^n f_{i\\cdot } d^2(i,\\mathbf{g}_p)=\n",
    "\\sum_{i=1}^n f_{i\\cdot } \\sum_{j=1}^p \\dfrac{1}{f_{\\cdot j}} \\left(\\dfrac{f_{ij}}{f_{i\\cdot}}-f_{\\cdot j}\\right)^2=\n",
    "\\sum_{i=1}^n \\sum_{j=1}^p  \\frac{\\left(f_{ij} - f_{i\\cdot}f_{\\cdot j}\\right)^2}{f_{i\\cdot}f_{\\cdot j}}\n",
    "$$\n",
    "\n"
   ]
  },
  {
   "cell_type": "markdown",
   "metadata": {
    "id": "-Xux9-R6e1E7"
   },
   "source": [
    "###  Ejes y subespacios vectoriales\n"
   ]
  },
  {
   "cell_type": "code",
   "execution_count": null,
   "metadata": {
    "id": "TdaOvNf9A9NN",
    "outputId": "674b6855-8cc4-45f6-a5a2-0f9877b92e80"
   },
   "outputs": [],
   "source": [
    "acs<-dudi.coa(K,scannf=FALSE) \n",
    "plot(acs,Tcol=FALSE,xlim=c(-0.7,0.3),cframe=1,asp=1) \n",
    "plotct(K,\"row\",col=c(\"red\",\"yellow\",\"green\"))\n"
   ]
  },
  {
   "cell_type": "markdown",
   "metadata": {
    "id": "XJ7qvggve1E9"
   },
   "source": [
    "## ACP de los perfiles-columna\n",
    " $$ACP(\\mathbf{D}_p^{-1}\\mathbf{F'},\\mathbf{D}_n^{-1},\\mathbf{D}_p)$$\n",
    " \n",
    "- Los histogramas de las distribuciones condicionales columna se representan como puntos en $\\mathbb{R}^n$\n",
    "-  A cada punto $j$ se le asigna el peso $f_{\\cdot j}$\n",
    "-  Este análisis es simétrico al de perfiles fila  \n",
    "\n",
    "### Primer plano factorial de los perfiles de estratos según carreras :\n"
   ]
  },
  {
   "cell_type": "code",
   "execution_count": null,
   "metadata": {
    "colab": {
     "base_uri": "https://localhost:8080/",
     "height": 437
    },
    "id": "9C-Rs-1vHZZp",
    "outputId": "12384ed2-ce4b-484e-977f-f0c0bf78043c"
   },
   "outputs": [],
   "source": [
    "plot(acs,Trow=FALSE,asp=1) \n",
    "plotct(t(K),\"row\",col=2:8)"
   ]
  },
  {
   "cell_type": "markdown",
   "metadata": {
    "id": "thGLNtuDe1E-"
   },
   "source": [
    "# **El ACS como un ACP(X,M,N)**"
   ]
  },
  {
   "cell_type": "markdown",
   "metadata": {
    "id": "VrhFkQF1e1E-"
   },
   "source": [
    "- El ACS de la tabla $\\mathbf{F}$ también se obtiene mediante el ACP de\n",
    "la tabla $\\mathbf{X}$ \n",
    "- Usando $\\mathbf{N}=\\mathbf{D}_n=diag(f_{i\\cdot})$, como pesos de las filas y matriz de métrica en el espacio de las columnas.\n",
    "- Usando $\\mathbf{M}=\\mathbf{D}_p=diag(f_{\\cdot j})$, como pesos de las columnas y matriz de métrica en el espacio de las filas.\n",
    "- Y usando $\n",
    "x_{ij} =\\frac{f_{ij} -f_{i\\cdot} f_{\\cdot j} }{f_{i\\cdot} f_{\\cdot\n",
    "j} }\n",
    "$\n"
   ]
  },
  {
   "cell_type": "markdown",
   "metadata": {
    "id": "gv7pu4Q6e1E_"
   },
   "source": [
    "## Equivalencia distribucional\n",
    "- El ACS no se modifica si se unen dos puntos que tienen el mismo perfil. \n",
    "- El peso del punto colapsado es la suma de los pesos de los puntos que se unen.\n",
    "- Lo anterior permite unir filas o columnas con perfiles parecidos, para simplificar las tablas originales\n",
    "    - Por ejemplo las carreras Estadística, Matemáticas y Farmacia; o las carreras Biología y Física \n",
    "- Esta propiedad hace que el ACS sea robusto ante la \"arbitrariedad\" en la conformación de las categorías de una variable en un estudio\n"
   ]
  },
  {
   "cell_type": "markdown",
   "metadata": {
    "id": "treOhm8LIQMk",
    "outputId": "e4dcc81d-4051-47fd-d1c8-a80ffaac160f"
   },
   "source": [
    "## Relaciones cuasibaricéntricas\n",
    "$$\n",
    " F_s(i) = \\frac{1}{\\sqrt{\\lambda_s}}\\sum_{j=1}^p{\\frac{f_{ij}}{f_{i\\cdot}} G_s(j)}\n",
    "$$ \n",
    "$$\n",
    "  G_s(j) = \\frac{1}{\\sqrt{\\lambda_s}}\\sum_{i=1}^n{{\\frac{f_{ij}}{f_{\\cdot j}}\n",
    "  F_s(i)}}\n",
    "$$\n",
    "- Las relaciones cuasibaricéntricas hacen\n",
    "posible la representación simultánea y su\n",
    "interpretación. \n",
    "-  Un sumando $j$ es \n",
    "$\\dfrac{f_{ij}}{f_{i\\cdot}} G_s(j)$, donde $\\dfrac{f_{ij}}{f_{i\\cdot}}$ es la coordenada $j$ del perfil de la fila $i$, es decir la altura de la barra $j$ del histograma.\n",
    "- Como $\\sum\\limits_{j=1}^p \\frac{f_{ij}}{f_{i\\cdot}}=1$, la sumatoria es un promedio ponderado de las coordenadas de las columnas.\n",
    "- Cada fila tiene un promedio diferente porque las ponderaciones cambian.\n",
    "- El punto promedio se ubica dentro del polígono que une a los puntos columna, por las dilataciones $\\dfrac{1}{\\sqrt{\\lambda_s}}; s=1,2$, el punto puede ubicarse afuera."
   ]
  },
  {
   "cell_type": "markdown",
   "metadata": {},
   "source": [
    "<center>\n",
    "<img src=\"https://www.researchgate.net/profile/Alfonso-Zavaleta-3/publication/33552394/figure/fig1/AS:645104205312001@1530816236474/Figura-1-Esquema-de-la-representacion-simultanea-del-analisis-de-correspondencias-simple.png\" alt=\"Relaciones cuasibaricéntricas\" width=\"350\" height=\"450\">\n",
    "<center>"
   ]
  },
  {
   "cell_type": "markdown",
   "metadata": {},
   "source": [
    "### Ejemplo\n",
    "\n",
    " Coordenada del perfil de Geología sobre el primer eje (-0.604). Teniendo en cuenta que:\n",
    "\n",
    "-  Perfil de Geología [0.4 0.2 0.4] \n",
    "-  Coordenadas de los estratos sobre el primer eje  [0.0458 0.1695 -0.4884] \n",
    "-  Primer valor propio = 0.0562  \n",
    "- La relación de transición que expresa la coordenada del perfil geología en función de las coordenadas de los perfiles columnas es:\n",
    "$$ \\dfrac{1}{\\sqrt{0.0562}} * (0.4*0.0458 + 0.2*0.1695 - 0.4*0.4884)=\n",
    "4.2182 * (0.0118 + 0.0339 - 0.1954) = $$ $$4.2182 * (-0.1497) = -0.6315\n",
    "$$ \n",
    "- El promedio ponderado por el perfil de Geología es -0.1497, se aleja del centro debido  a la la dilatación por 4.2182\n",
    "- La coordenada de estrato alto es la que más suma, por:  la ponderación (0.4) y es la que está más alejada del origen (-0.4884)\n"
   ]
  },
  {
   "cell_type": "code",
   "execution_count": 9,
   "metadata": {
    "id": "E3blIKRue1E_",
    "outputId": "3a87514b-89d4-43f9-97e6-46c79ba30d27"
   },
   "outputs": [
    {
     "data": {
      "text/html": [
       "-0.604"
      ],
      "text/latex": [
       "-0.604"
      ],
      "text/markdown": [
       "-0.604"
      ],
      "text/plain": [
       "[1] -0.604"
      ]
     },
     "metadata": {},
     "output_type": "display_data"
    }
   ],
   "source": [
    "# Haciendo el cálculo\n",
    "round(1/sqrt(acs$eig[1])*sum(c(0.4,0.2,0.4)*acs$co[,1]),3)\n"
   ]
  },
  {
   "cell_type": "markdown",
   "metadata": {
    "id": "UDY2RfYOe1FA"
   },
   "source": [
    " ### Representación simultánea"
   ]
  },
  {
   "cell_type": "code",
   "execution_count": 60,
   "metadata": {
    "id": "3xXQyPXZe1FB",
    "outputId": "1b755b0b-7475-488e-b078-33e23f6591ef"
   },
   "outputs": [
    {
     "data": {
      "image/png": "[encoded data removed]",
      "text/plain": [
       "Plot with title \"Representación simultanea de carreras y estratos\""
      ]
     },
     "metadata": {},
     "output_type": "display_data"
    }
   ],
   "source": [
    "# Representación de carreras y estratos\n",
    "plot(acs,xlim=c(-0.7,0.3),cframe=1,main=\"Representación simultanea de carreras y estratos\")"
   ]
  },
  {
   "cell_type": "code",
   "execution_count": 66,
   "metadata": {
    "id": "klqGkUdYe1FB",
    "outputId": "8a268657-212b-4b4f-a285-7113551f793e"
   },
   "outputs": [
    {
     "data": {
      "text/html": [
       "<ol class=list-inline>\n",
       "\t<li>'tot.inertia'</li>\n",
       "\t<li>'row.contrib'</li>\n",
       "\t<li>'row.abs'</li>\n",
       "\t<li>'row.rel'</li>\n",
       "\t<li>'row.cum'</li>\n",
       "\t<li>'col.contrib'</li>\n",
       "\t<li>'col.abs'</li>\n",
       "\t<li>'col.rel'</li>\n",
       "\t<li>'col.cum'</li>\n",
       "\t<li>'nf'</li>\n",
       "\t<li>'call'</li>\n",
       "</ol>\n"
      ],
      "text/latex": [
       "\\begin{enumerate*}\n",
       "\\item 'tot.inertia'\n",
       "\\item 'row.contrib'\n",
       "\\item 'row.abs'\n",
       "\\item 'row.rel'\n",
       "\\item 'row.cum'\n",
       "\\item 'col.contrib'\n",
       "\\item 'col.abs'\n",
       "\\item 'col.rel'\n",
       "\\item 'col.cum'\n",
       "\\item 'nf'\n",
       "\\item 'call'\n",
       "\\end{enumerate*}\n"
      ],
      "text/markdown": [
       "1. 'tot.inertia'\n",
       "2. 'row.contrib'\n",
       "3. 'row.abs'\n",
       "4. 'row.rel'\n",
       "5. 'row.cum'\n",
       "6. 'col.contrib'\n",
       "7. 'col.abs'\n",
       "8. 'col.rel'\n",
       "9. 'col.cum'\n",
       "10. 'nf'\n",
       "11. 'call'\n",
       "\n",
       "\n"
      ],
      "text/plain": [
       " [1] \"tot.inertia\" \"row.contrib\" \"row.abs\"     \"row.rel\"     \"row.cum\"    \n",
       " [6] \"col.contrib\" \"col.abs\"     \"col.rel\"     \"col.cum\"     \"nf\"         \n",
       "[11] \"call\"       "
      ]
     },
     "metadata": {},
     "output_type": "display_data"
    },
    {
     "data": {
      "text/html": [
       "<table>\n",
       "<thead><tr><th></th><th scope=col>Axis1</th><th scope=col>Axis2</th><th scope=col>Ca.Axis1</th><th scope=col>Ca.Axis2</th><th scope=col>cos2.Axis1</th><th scope=col>cos2.Axis2</th><th scope=col>conInercia</th></tr></thead>\n",
       "<tbody>\n",
       "\t<tr><th scope=row>Biol</th><td>-0.09 </td><td>-0.06 </td><td> 2.14 </td><td> 5.79 </td><td>-68.86</td><td>-31.14</td><td> 2.66 </td></tr>\n",
       "\t<tr><th scope=row>Esta</th><td> 0.15 </td><td> 0.05 </td><td> 5.89 </td><td> 4.39 </td><td> 88.91</td><td> 11.09</td><td> 5.67 </td></tr>\n",
       "\t<tr><th scope=row>Farm</th><td> 0.23 </td><td>-0.02 </td><td>16.05 </td><td> 0.67 </td><td> 99.30</td><td> -0.70</td><td>13.85 </td></tr>\n",
       "\t<tr><th scope=row>Fisi</th><td>-0.10 </td><td>-0.13 </td><td> 3.26 </td><td>35.61 </td><td>-35.43</td><td>-64.57</td><td> 7.90 </td></tr>\n",
       "\t<tr><th scope=row>Geol</th><td>-0.60 </td><td> 0.09 </td><td>65.58 </td><td> 9.16 </td><td>-97.72</td><td>  2.28</td><td>57.50 </td></tr>\n",
       "\t<tr><th scope=row>Mate</th><td> 0.14 </td><td>-0.04 </td><td> 4.26 </td><td> 1.57 </td><td> 94.20</td><td> -5.80</td><td> 3.87 </td></tr>\n",
       "\t<tr><th scope=row>Quim</th><td> 0.11 </td><td> 0.17 </td><td> 2.82 </td><td>42.81 </td><td> 28.29</td><td> 71.71</td><td> 8.55 </td></tr>\n",
       "</tbody>\n",
       "</table>\n"
      ],
      "text/latex": [
       "\\begin{tabular}{r|lllllll}\n",
       "  & Axis1 & Axis2 & Ca.Axis1 & Ca.Axis2 & cos2.Axis1 & cos2.Axis2 & conInercia\\\\\n",
       "\\hline\n",
       "\tBiol & -0.09  & -0.06  &  2.14  &  5.79  & -68.86 & -31.14 &  2.66 \\\\\n",
       "\tEsta &  0.15  &  0.05  &  5.89  &  4.39  &  88.91 &  11.09 &  5.67 \\\\\n",
       "\tFarm &  0.23  & -0.02  & 16.05  &  0.67  &  99.30 &  -0.70 & 13.85 \\\\\n",
       "\tFisi & -0.10  & -0.13  &  3.26  & 35.61  & -35.43 & -64.57 &  7.90 \\\\\n",
       "\tGeol & -0.60  &  0.09  & 65.58  &  9.16  & -97.72 &   2.28 & 57.50 \\\\\n",
       "\tMate &  0.14  & -0.04  &  4.26  &  1.57  &  94.20 &  -5.80 &  3.87 \\\\\n",
       "\tQuim &  0.11  &  0.17  &  2.82  & 42.81  &  28.29 &  71.71 &  8.55 \\\\\n",
       "\\end{tabular}\n"
      ],
      "text/markdown": [
       "\n",
       "| <!--/--> | Axis1 | Axis2 | Ca.Axis1 | Ca.Axis2 | cos2.Axis1 | cos2.Axis2 | conInercia |\n",
       "|---|---|---|---|---|---|---|---|\n",
       "| Biol | -0.09  | -0.06  |  2.14  |  5.79  | -68.86 | -31.14 |  2.66  |\n",
       "| Esta |  0.15  |  0.05  |  5.89  |  4.39  |  88.91 |  11.09 |  5.67  |\n",
       "| Farm |  0.23  | -0.02  | 16.05  |  0.67  |  99.30 |  -0.70 | 13.85  |\n",
       "| Fisi | -0.10  | -0.13  |  3.26  | 35.61  | -35.43 | -64.57 |  7.90  |\n",
       "| Geol | -0.60  |  0.09  | 65.58  |  9.16  | -97.72 |   2.28 | 57.50  |\n",
       "| Mate |  0.14  | -0.04  |  4.26  |  1.57  |  94.20 |  -5.80 |  3.87  |\n",
       "| Quim |  0.11  |  0.17  |  2.82  | 42.81  |  28.29 |  71.71 |  8.55  |\n",
       "\n"
      ],
      "text/plain": [
       "     Axis1 Axis2 Ca.Axis1 Ca.Axis2 cos2.Axis1 cos2.Axis2 conInercia\n",
       "Biol -0.09 -0.06  2.14     5.79    -68.86     -31.14      2.66     \n",
       "Esta  0.15  0.05  5.89     4.39     88.91      11.09      5.67     \n",
       "Farm  0.23 -0.02 16.05     0.67     99.30      -0.70     13.85     \n",
       "Fisi -0.10 -0.13  3.26    35.61    -35.43     -64.57      7.90     \n",
       "Geol -0.60  0.09 65.58     9.16    -97.72       2.28     57.50     \n",
       "Mate  0.14 -0.04  4.26     1.57     94.20      -5.80      3.87     \n",
       "Quim  0.11  0.17  2.82    42.81     28.29      71.71      8.55     "
      ]
     },
     "metadata": {},
     "output_type": "display_data"
    },
    {
     "data": {
      "text/html": [
       "<table>\n",
       "<thead><tr><th></th><th scope=col>Comp1</th><th scope=col>Comp2</th><th scope=col>Ca.Axis1</th><th scope=col>Ca.Axis2</th><th scope=col>cos2.Axis1</th><th scope=col>cos2.Axis2</th><th scope=col>conInercia</th></tr></thead>\n",
       "<tbody>\n",
       "\t<tr><th scope=row>bajo</th><td> 0.05 </td><td> 0.12 </td><td> 1.50 </td><td>58.27 </td><td> 13.35</td><td> 86.65</td><td> 9.63 </td></tr>\n",
       "\t<tr><th scope=row>medio</th><td> 0.17 </td><td>-0.09 </td><td>21.26 </td><td>37.17 </td><td> 77.39</td><td>-22.61</td><td>23.54 </td></tr>\n",
       "\t<tr><th scope=row>alto</th><td>-0.49 </td><td>-0.05 </td><td>77.24 </td><td> 4.56 </td><td>-99.02</td><td> -0.98</td><td>66.83 </td></tr>\n",
       "</tbody>\n",
       "</table>\n"
      ],
      "text/latex": [
       "\\begin{tabular}{r|lllllll}\n",
       "  & Comp1 & Comp2 & Ca.Axis1 & Ca.Axis2 & cos2.Axis1 & cos2.Axis2 & conInercia\\\\\n",
       "\\hline\n",
       "\tbajo &  0.05  &  0.12  &  1.50  & 58.27  &  13.35 &  86.65 &  9.63 \\\\\n",
       "\tmedio &  0.17  & -0.09  & 21.26  & 37.17  &  77.39 & -22.61 & 23.54 \\\\\n",
       "\talto & -0.49  & -0.05  & 77.24  &  4.56  & -99.02 &  -0.98 & 66.83 \\\\\n",
       "\\end{tabular}\n"
      ],
      "text/markdown": [
       "\n",
       "| <!--/--> | Comp1 | Comp2 | Ca.Axis1 | Ca.Axis2 | cos2.Axis1 | cos2.Axis2 | conInercia |\n",
       "|---|---|---|---|---|---|---|---|\n",
       "| bajo |  0.05  |  0.12  |  1.50  | 58.27  |  13.35 |  86.65 |  9.63  |\n",
       "| medio |  0.17  | -0.09  | 21.26  | 37.17  |  77.39 | -22.61 | 23.54  |\n",
       "| alto | -0.49  | -0.05  | 77.24  |  4.56  | -99.02 |  -0.98 | 66.83  |\n",
       "\n"
      ],
      "text/plain": [
       "      Comp1 Comp2 Ca.Axis1 Ca.Axis2 cos2.Axis1 cos2.Axis2 conInercia\n",
       "bajo   0.05  0.12  1.50    58.27     13.35      86.65      9.63     \n",
       "medio  0.17 -0.09 21.26    37.17     77.39     -22.61     23.54     \n",
       "alto  -0.49 -0.05 77.24     4.56    -99.02      -0.98     66.83     "
      ]
     },
     "metadata": {},
     "output_type": "display_data"
    }
   ],
   "source": [
    "ayuacs<-inertia(acs,T,T)\n",
    "names(ayuacs)\n",
    "# carreras\n",
    "round(cbind(acs$li,Ca=ayuacs$row.abs,cos2=ayuacs$row.rel,conInercia=ayuacs$row.contrib),2)\n",
    "# estratos\n",
    "round(cbind(acs$co,Ca=ayuacs$col.abs,cos2=ayuacs$col.rel,conInercia=ayuacs$col.contrib),2)"
   ]
  },
  {
   "cell_type": "markdown",
   "metadata": {},
   "source": [
    "Imprimiendo el objeto **acs** podemos obtener una lista de todas las características extraibles de este objeto:"
   ]
  },
  {
   "cell_type": "code",
   "execution_count": 67,
   "metadata": {},
   "outputs": [
    {
     "data": {
      "text/plain": [
       "Duality diagramm\n",
       "class: coa dudi\n",
       "$call: dudi.coa(df = K, scannf = FALSE)\n",
       "\n",
       "$nf: 2 axis-components saved\n",
       "$rank: 2\n",
       "eigen values: 0.0562 0.009393\n",
       "  vector length mode    content       \n",
       "1 $cw    3      numeric column weights\n",
       "2 $lw    7      numeric row weights   \n",
       "3 $eig   2      numeric eigen values  \n",
       "\n",
       "  data.frame nrow ncol content             \n",
       "1 $tab       7    3    modified array      \n",
       "2 $li        7    2    row coordinates     \n",
       "3 $l1        7    2    row normed scores   \n",
       "4 $co        3    2    column coordinates  \n",
       "5 $c1        3    2    column normed scores\n",
       "other elements: N "
      ]
     },
     "metadata": {},
     "output_type": "display_data"
    }
   ],
   "source": [
    "acs"
   ]
  },
  {
   "cell_type": "markdown",
   "metadata": {
    "id": "6rwpZBz_e1FC"
   },
   "source": [
    "# **Ayudas para la interpretación**\n",
    "\n",
    "- **Contribución absoluta** La contribución de un perfil a la varianza del eje (inercia proyectada), depende del peso y de la coordenada al cuadrado: \n",
    "$$Ca_s(i) = \\dfrac{f_{i\\cdot}(F_s(i))^2}{\\lambda_s}$$\n",
    "- **Coseno cuadrado** Calidad de la representación o contribución relativa:\n",
    "$$Cos^2_s(i) = \\dfrac{(F_s(i))^2}{d^2(i,\\mathbf{g})}$$\n",
    "    - ¿Por qué cree que se da el nombre de **contribución relativa**?\n",
    "    $$Cos^2_s(i) = \\dfrac{F_s^2(i)}{d^2(i,\\mathbf{g})} =  \\dfrac{f_{i\\cdot} F_s^2(i)} {f_{i\\cdot} d^2(i,\\mathbf{g})}$$\n",
    "    -  Contribuciones del punto  a la inercia:  proyectada sobre el eje $s$ / en el espacio completo\n",
    "        - Inercia sobre el eje $s$: $\\sum\\limits_{i=1}^n f_{i\\cdot} F^2_s(i)$\n",
    "        - Inercia en $\\mathbb{R}^p$:  $\\sum\\limits_{i=1}^n f_{i\\cdot} d^2(i,\\mathbf{g})$\n"
   ]
  },
  {
   "cell_type": "markdown",
   "metadata": {
    "id": "xNlyAmgie1FC"
   },
   "source": [
    "# **Filas y columnas suplementarias**\n",
    "\n",
    "- Se proyectan e interpretan utilizando las fórmulas de transición.\n",
    "- Su interpretación debe hacerse después de la de los elementos activos.\n",
    "- AYUDAS\n",
    "    -  Distancia al origen\n",
    "    -  Coseno cuadrado\n",
    "    -  Valor test\n"
   ]
  },
  {
   "cell_type": "markdown",
   "metadata": {
    "id": "I--pRANzJW-D"
   },
   "source": [
    "# **Ejemplo de aplicación**\n",
    "\n",
    "Ver el ejemplo del capítulo 5 del libro [Estadística descriptiva multivariada - Facultad de Ciencias, Campo Elías Pardo](https://www.google.com/url?sa=t&rct=j&q=&esrc=s&source=web&cd=&cad=rja&uact=8&ved=2ahUKEwi6qZDBjtDzAhVeRTABHYZPBWEQFnoECAYQAQ&url=http%3A%2F%2Fciencias.bogota.unal.edu.co%2Ffileadmin%2FFacultad_de_Ciencias%2FPublicaciones%2FImagenes%2FPortadas_Libros%2FEstadistica%2FEstadistica_descriptiva_multivariada%2FlibroEstadisiticaDescriptivaMultivariadaDigital.pdf&usg=AOvVaw2Q7b-e89FbWXFda5h4sCuf) y los talleres.\n",
    "\n",
    "# **Ejercicio**\n",
    "\n",
    "Realizar un análisis de correspondencias simples de una tabla de su interés."
   ]
  },
  {
   "cell_type": "code",
   "execution_count": null,
   "metadata": {},
   "outputs": [],
   "source": []
  }
 ],
 "metadata": {
  "colab": {
   "collapsed_sections": [],
   "name": "ACS.ipynb",
   "provenance": []
  },
  "kernelspec": {
   "display_name": "R",
   "language": "R",
   "name": "ir"
  },
  "language_info": {
   "codemirror_mode": "r",
   "file_extension": ".r",
   "mimetype": "text/x-r-source",
   "name": "R",
   "pygments_lexer": "r",
   "version": "3.6.1"
  }
 },
 "nbformat": 4,
 "nbformat_minor": 4
}
