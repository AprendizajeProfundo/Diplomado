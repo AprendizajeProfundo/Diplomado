{
 "cells": [
  {
   "cell_type": "markdown",
   "metadata": {
    "tags": []
   },
   "source": [
    "<figure>\n",
    "<center>\n",
    "<img src=\"../Imagenes/logo_final.png\"  align=\"left\"/> \n",
    "</center>   \n",
    "</figure>"
   ]
  },
  {
   "cell_type": "markdown",
   "metadata": {
    "tags": []
   },
   "source": [
    "# <span style=\"color:red\"><center>Transformers - Código TF2</center></span>"
   ]
  },
  {
   "cell_type": "markdown",
   "metadata": {},
   "source": [
    "<center>Transformers</center>"
   ]
  },
  {
   "cell_type": "markdown",
   "metadata": {},
   "source": [
    "##   <span style=\"color:blue\">Profesores</span>"
   ]
  },
  {
   "cell_type": "markdown",
   "metadata": {},
   "source": [
    "1. Alvaro Mauricio Montenegro Díaz, ammontenegrod@unal.edu.co\n",
    "2. Daniel Mauricio Montenegro Reyes, dextronomo@gmail.com "
   ]
  },
  {
   "cell_type": "markdown",
   "metadata": {},
   "source": [
    "##   <span style=\"color:blue\">Asesora Medios y Marketing digital</span>\n",
    " "
   ]
  },
  {
   "cell_type": "markdown",
   "metadata": {},
   "source": [
    "4. Maria del Pilar Montenegro, pmontenegro88@gmail.com "
   ]
  },
  {
   "cell_type": "markdown",
   "metadata": {},
   "source": [
    "## <span style=\"color:blue\">Referencias</span> "
   ]
  },
  {
   "cell_type": "markdown",
   "metadata": {},
   "source": [
    "1. [Tutorial Transformer de Google](https://www.tensorflow.org/text/tutorials/transformer)\n",
    "1. [Transformer-chatbot-tutorial-with-tensorflow-2](https://blog.tensorflow.org/2019/05/transformer-chatbot-tutorial-with-tensorflow-2.html)\n",
    "1. [Transformer Architecture: The positional encoding](https://kazemnejad.com/blog/transformer_architecture_positional_encoding/)\n",
    "1. [Illustrated Auto-attención](https://towardsdatascience.com/illustrated-self-attention-2d627e33b20a)\n",
    "1. [Illustrated Attention](https://towardsdatascience.com/attn-illustrated-attention-5ec4ad276ee3#0458)\n",
    "1. [Neural Machine Translation by Jointly Learning to Align and Translate (Bahdanau et. al, 2015)](https://arxiv.org/pdf/1409.0473.pdf)\n",
    "1. [Effective Approaches to Attention-based Neural Machine Translation (Luong et. al, 2015)](https://arxiv.org/pdf/1508.04025.pdf)\n",
    "1. [Attention Is All You Need (Vaswani et. al, 2017)](https://arxiv.org/pdf/1706.03762.pdf)\n",
    "1. [Self-Attention GAN (Zhang et. al, 2018)](https://arxiv.org/pdf/1805.08318.pdf)\n",
    "1. [Sequence to Sequence Learning with Neural Networks (Sutskever et. al, 2014)](https://arxiv.org/pdf/1409.3215.pdf)\n",
    "1. [TensorFlow’s seq2seq Tutorial with Attention (Tutorial on seq2seq+attention)](https://github.com/tensorflow/nmt)\n",
    "1. [Lilian Weng’s Blog on Attention (Great start to attention)](https://lilianweng.github.io/lil-log/2018/06/24/attention-attention.html#a-family-of-attention-mechanisms)\n",
    "1. [Jay Alammar’s Blog on Seq2Seq with Attention (Great illustrations and worked example on seq2seq+attention)](https://jalammar.github.io/visualizing-neural-machine-translation-mechanics-of-seq2seq-models-with-attention/)\n",
    "1. [Google’s Neural Machine Translation System: Bridging the Gap between Human and Machine Translation (Wu et. al, 2016)](https://arxiv.org/pdf/1609.08144.pdf)\n",
    "1. [Adam: A method for stochastic optimization](https://arxiv.org/pdf/1412.6980.pdf)"
   ]
  },
  {
   "cell_type": "markdown",
   "metadata": {},
   "source": [
    "## <span style=\"color:blue\">Contenido</span>"
   ]
  },
  {
   "cell_type": "markdown",
   "metadata": {},
   "source": [
    "* [Introducción](#Introducción)\n",
    "* [Codificación posicional](#Modelo-seq2seq)\n",
    "* [Enmascaramiento](#Enmascaramiento)\n",
    "* [Auto-atención de producto punto escalado](#Auto-atención-de-producto-punto-escalado)\n",
    "* [Capa de atención multi-cabeza](#Capa-de-atención-multi-cabeza)\n",
    "* [Capa Feed Forward](#Capa-Feed-Forward)\n",
    "* [Capas de codificación y decodificación](#Capas-de-codificación-y-decodificación)\n",
    "* [Capa codificadora](#Capa-codificadora)\n",
    "* [Capa decodificadora](#Capa-decodificadora)\n",
    "* [Codificador](#Codificador)\n",
    "* [Decodificador](#Decodificador)\n",
    "* [Transformer Auto Encoder](#Transformer-Auto-Encoder)\n",
    "* [Hiperparámetros](#Hiperparámetros)\n",
    "* [Optimizador](#Optimizador)\n",
    "* [Transformer](#Transformer)"
   ]
  },
  {
   "cell_type": "markdown",
   "metadata": {},
   "source": [
    "## <span style=\"color:blue\">Introducción</span>"
   ]
  },
  {
   "cell_type": "markdown",
   "metadata": {},
   "source": [
    "En esta lección construimos el modelo Transformer pieza por pieza. Cada pieza es probada individualmente. La implementación  esta hecha en Tensorflow 2.X. La imagen muestra la arquitectura completa del transformer, como la presentaron sus autores en el artículo [Attention Is All You Need (Vaswani et. al, 2017)](https://arxiv.org/pdf/1706.03762.pdf)."
   ]
  },
  {
   "cell_type": "markdown",
   "metadata": {},
   "source": [
    "<figure>\n",
    "<center>\n",
    "<img src=\"../Imagenes/transformer.png\" width=\"300\" height=\"300\" align=\"center\"/>\n",
    "</center>\n",
    "<figcaption>\n",
    "<p style=\"text-align:center\">Transformer</p>\n",
    "</figcaption>\n",
    "</figure>\n",
    "\n",
    "Fuente: [Attention Is All You Need (Vaswani et. al, 2017)](https://arxiv.org/pdf/1706.03762.pdf)"
   ]
  },
  {
   "cell_type": "markdown",
   "metadata": {},
   "source": [
    "## <span style=\"color:blue\">Codificación posicional</span>"
   ]
  },
  {
   "cell_type": "markdown",
   "metadata": {},
   "source": [
    "Con el propósito de incluir una pieza de información en el modelo relacionada con la posición de las palabras en cada sentencia (oración) los autores del tranformer [Attention Is All You Need (Vaswani et. al, 2017)](https://arxiv.org/pdf/1706.03762.pdf) introdujeron la codificación posicional que tiene las siguientes características:\n",
    "\n",
    "* Genera una codificación única para cada paso de tiempo (la posición de la palabra en una oración)\n",
    "* La distancia entre dos pasos de tiempo debe ser coherente en las oraciones de diferente longitud.\n",
    "* La generalización a oraciones más largas se puede hacer sin  ningún esfuerzo. Sus valores deben acotados.\n",
    "* Es determinista.\n",
    "\n",
    "La codificación de cada palabra en una oración es un vector $d$-dimensional, en donde $d$ es la dimensióm del embbeding (inscrustación), que contiene información sobre una posición específica en una oración. Esta codificación no está integrada en el modelo en sí. En cambio, este vector se usa para equipar cada palabra con información sobre su posición en una oración. En otras palabras, mejoramos la entrada del modelo para inyectar el orden de las palabras.\n",
    "\n",
    "Supongamos que $t$ es la  posición deseada en una oración de entrada y que $p_t \\in \\mathbb{R}^d$ es su correspondiente codificación. Entonces la función codificadora $f:\\mathbb{N}\\to \\mathbb{R}^d$ es definida componente a componente mediante\n",
    "\n",
    "$$\n",
    "p_t^{(i)} = f(t)^{(i)} = \\begin{cases}\n",
    "sin(w_k\\cdot t) & \\text{si i = 2k}\\\\\n",
    "cos(w_k\\cdot t) & \\text{si i = 2k+1},\n",
    "\\end{cases}\n",
    "$$\n",
    "en donde\n",
    "\n",
    "$$\n",
    "w_k = \\frac{1}{10000^{2k/d}}\n",
    "$$\n"
   ]
  },
  {
   "cell_type": "markdown",
   "metadata": {},
   "source": [
    "Se puede derivar de la definición de la función, que las frecuencias están disminuyendo a lo largo de la dimensión vectorial $d$. Por lo tanto, forma una progresión geométrica de $2\\pi$ a $10000 \\cdot 2\\pi$  en las longitudes de onda.\n",
    "\n",
    "También puedes imaginar la incrustación posicional $p_t$  como un vector que contiene pares de senos y cosenos para cada frecuencia tenga en cuenta que $d$  es divisible por 2:\n",
    "\n",
    "$$\n",
    "\\begin{align}\n",
    "p_t = \\begin{pmatrix} \n",
    "sin(w_1t)\\\\\n",
    "cos(w_1t)\\\\\n",
    "\\cdots\\\\\n",
    "sin(w_{d/2}t)\\\\\n",
    "cos(w_{d/2}t)\\\\\n",
    "\\end{pmatrix}\n",
    "\\end{align}_{d \\times 1}\n",
    "$$"
   ]
  },
  {
   "cell_type": "markdown",
   "metadata": {},
   "source": [
    "Paratener una intuición de la codificación, recordemos como ocurre la codificación posicional de los números enteros en binario, usando 4 dígitos binarios:\n",
    "\n",
    "* 0: 0000 \n",
    "* 1: 0001\n",
    "* 2: 0010\n",
    "* 3: 0011\n",
    "* 4: 0100\n",
    "* 5: 0101\n",
    "* 6: 0110\n",
    "* 7: 0111\n",
    "* 8: 1000\n",
    "* 9: 1001\n",
    "* 10: 1010\n",
    "* 11: 1011\n",
    "* 12: 1100\n",
    "* 13: 1101\n",
    "* 14: 1110\n",
    "* 15: 1111\n",
    "\n",
    "Observe como el primer dígito a la izquierda cambia muy despacio. Realemte toma dos valores 0 para las primeras 8 posiciones y 1 en las últimas ocho. En contraste el bit menos significativo (el de más ala derecho) cambia en cada paso.\n",
    "\n",
    "La función $f(t)$ puede considerarse como una versión contínua de este esquema de codificación binaria. "
   ]
  },
  {
   "cell_type": "markdown",
   "metadata": {},
   "source": [
    "De acuerdo con los autores del Transformer ellos eligieron esta función porque \"planteamos la hipótesis de que permitiría al modelo aprender fácilmente a atender por posiciones relativas, ya que para cualquier desplazamiento fijo $k$\", $f(t+k)$ \"se puede representar como una función lineal de\" $f(t)$. Realmente puede demostrarse que existe una transformación lineal $M$ talque para cualquier $\\phi$ independientemente de $t$ se tiene que\n",
    "\n",
    "$$\n",
    "M \\cdot\\begin{pmatrix}\n",
    "sin( w_k\\cdot t)\\\\\n",
    "cos( w_k\\cdot t)\n",
    "\\end{pmatrix} = \\begin{pmatrix}\n",
    "sin( w_k\\cdot (t+\\phi))\\\\\n",
    "cos( w_k\\cdot (t+\\phi))\n",
    "\\end{pmatrix}.\n",
    "$$\n",
    "\n",
    "Para los detalles y una demostración consulte [Transformer Architecture: The positional encoding](https://kazemnejad.com/blog/transformer_architecture_positional_encoding/).\n",
    "\n",
    "El vector de codificación posicional se agrega al vector de incrustación. Las incrustaciones representan un token en un espacio d-dimensional donde los tokens con un significado similar estarán más cerca unos de otros. Pero las incrustaciones no codifican la posición relativa de las palabras en una oración. Así que después de la adición de la codificación posicional, palabras estarán más cerca el uno al otro sobre la base de la similitud de su significado y de su posición en la oración, en el espacio d-dimensional\n",
    "\n",
    "Pasemos a la implementación con tensorflow."
   ]
  },
  {
   "cell_type": "code",
   "execution_count": 21,
   "metadata": {},
   "outputs": [],
   "source": [
    "import tensorflow as tf"
   ]
  },
  {
   "cell_type": "code",
   "execution_count": 22,
   "metadata": {},
   "outputs": [],
   "source": [
    "class PositionalEncoding(tf.keras.layers.Layer):\n",
    "    '''Codificador possicional.\n",
    "       position: máxima longitud de una sentencia\n",
    "       d_model: tamaño del embedding(incrustación)\n",
    "    '''\n",
    "    def __init__(self, position=2048, d_model=512):\n",
    "        super(PositionalEncoding, self ).__init__()\n",
    "        self.pos_encoding = self.positional_encoding(position, d_model)\n",
    "        \n",
    "    def get_angles(self, position, i, d_model):\n",
    "        angles = 1/tf.pow(10000, (2 * (i // 2)) /tf.cast(d_model, tf.float32))\n",
    "        return position * angles \n",
    "    \n",
    "    def positional_encoding(self, position, d_model):\n",
    "        angle_rads = self.get_angles(\n",
    "            position = tf.range(position, dtype=tf.float32)[:,tf.newaxis],\n",
    "            i = tf.range(d_model, dtype= tf.float32)[tf.newaxis,:],\n",
    "            d_model = d_model).numpy() # shape=(position, d_model)\n",
    "        # aplica sin a los índices pares del arreglo\n",
    "        angle_rads[:, 0::2] = np.sin(angle_rads[:,0::2])\n",
    "        # aplica cos al índices impares del arreglo\n",
    "        angle_rads[:, 1::2] = np.cos(angle_rads[:,1::2])     \n",
    "        # agrega un eje al comienzo del array\n",
    "        pos_encoding = angle_rads[tf.newaxis, ...] # shape =(1, position, d_model)\n",
    "        return tf.cast(pos_encoding, tf.float32)\n",
    "    \n",
    "    def call(self, inputs):\n",
    "        return inputs + self.pos_encoding[:, :tf.shape(inputs)[1], :]\n",
    "        \n",
    "    "
   ]
  },
  {
   "cell_type": "markdown",
   "metadata": {},
   "source": [
    "#### Test de la clase PositionalEncoding"
   ]
  },
  {
   "cell_type": "code",
   "execution_count": 23,
   "metadata": {},
   "outputs": [
    {
     "name": "stdout",
     "output_type": "stream",
     "text": [
      "(1, 2048, 512)\n"
     ]
    },
    {
     "data": {
      "image/png": "[encoded data removed]",
      "text/plain": [
       "<Figure size 432x288 with 2 Axes>"
      ]
     },
     "metadata": {
      "needs_background": "light"
     },
     "output_type": "display_data"
    }
   ],
   "source": [
    "import matplotlib.pyplot as plt\n",
    "import numpy as np\n",
    "\n",
    "n, d = 2048, 512\n",
    "\n",
    "pos_encoding = PositionalEncoding(n, d).pos_encoding\n",
    "print(pos_encoding.shape)\n",
    "\n",
    "# Reordena las dimensiones para el plot\n",
    "pos_encoding = tf.reshape(pos_encoding, (n,d//2, 2))\n",
    "pos_encoding = tf.transpose(pos_encoding, (2, 1, 0))\n",
    "pos_encoding = tf.reshape(pos_encoding, (d,n))\n",
    "\n",
    "plt.pcolormesh(pos_encoding, cmap='RdBu')\n",
    "plt.ylabel('Depth')\n",
    "plt.xlabel('Position')\n",
    "plt.colorbar()\n",
    "plt.show()\n"
   ]
  },
  {
   "cell_type": "markdown",
   "metadata": {},
   "source": [
    "## <span style=\"color:blue\">Enmascaramiento</span>"
   ]
  },
  {
   "cell_type": "markdown",
   "metadata": {},
   "source": [
    "### Enmascaramiento de los tokens de relleno (padding)"
   ]
  },
  {
   "cell_type": "markdown",
   "metadata": {},
   "source": [
    "Se enmascaran todos los tokens de padding(relleno) en el lote de secuencia, para asegurar que el modelo no trate el relleno como entrada. Un valor de  0  en la máscara indica que esa posición en la secuencia no es relleno. Un valor de 1 en la máscara indica que esa posición en la secuencia es relleno."
   ]
  },
  {
   "cell_type": "raw",
   "metadata": {},
   "source": [
    "def create_padding_mask(seq):\n",
    "    mask = tf.cast(tf.math.equal(seq, 0), tf.float32)\n",
    "    \n",
    "    # adiciona dimensiones extra para adicionar el relleno\n",
    "    # a los logits de atención\n",
    "    return mask[:, tf.newaxis, tf.newaxis, :] # (batch_size, 1, 1, seq_len)\n",
    "\n"
   ]
  },
  {
   "cell_type": "raw",
   "metadata": {},
   "source": [
    "# test de la función create_padding_mask\n",
    "x = tf.constant([[7, 6, 0, 0, 1], [1, 2, 3, 0, 0], [0, 0, 0, 4, 5]])\n",
    "create_padding_mask(x)"
   ]
  },
  {
   "cell_type": "code",
   "execution_count": 24,
   "metadata": {},
   "outputs": [],
   "source": [
    "class PaddingMask(tf.keras.layers.Layer):\n",
    "    def __init__(self, seq):\n",
    "        super(PaddingMask, self).__init__()\n",
    "        self.mask = tf.cast(tf.math.equal(seq, 0), tf.float32)\n",
    "        # adiciona dimensiones extra para adicionar el relleno\n",
    "        # a los logits de atención\n",
    "        self.mask = self.mask[:, tf.newaxis, tf.newaxis, :] # (batch_size, 1, 1, seq_len)\n",
    "    \n",
    "    def call():\n",
    "        return self.mask"
   ]
  },
  {
   "cell_type": "code",
   "execution_count": 25,
   "metadata": {},
   "outputs": [
    {
     "data": {
      "text/plain": [
       "<tf.Tensor: shape=(3, 1, 1, 5), dtype=float32, numpy=\n",
       "array([[[[0., 0., 1., 1., 0.]]],\n",
       "\n",
       "\n",
       "       [[[0., 0., 0., 1., 1.]]],\n",
       "\n",
       "\n",
       "       [[[1., 1., 1., 0., 0.]]]], dtype=float32)>"
      ]
     },
     "execution_count": 25,
     "metadata": {},
     "output_type": "execute_result"
    }
   ],
   "source": [
    "# test de la clase PaddingMask\n",
    "x = tf.constant([[7, 6, 0, 0, 1], [1, 2, 3, 0, 0], [0, 0, 0, 4, 5]])\n",
    "padding_mask= PaddingMask(x).mask\n",
    "padding_mask"
   ]
  },
  {
   "cell_type": "markdown",
   "metadata": {},
   "source": [
    "### Enmascaramiento de anticipación para la predicción de palabras"
   ]
  },
  {
   "cell_type": "markdown",
   "metadata": {},
   "source": [
    "La máscara de anticipación se utiliza para enmascarar los tokens futuros en una secuencia. En otras palabras, la máscara indica qué entradas no deben usarse para hacer la predicción de la siguiente palabra predicha.\n",
    "\n",
    "Esto significa que para predecir la tercera palabra, solo se utilizarán la primera y la segunda palabra. De manera similar, para predecir la cuarta palabra, solo se usarán la primera, la segunda y la tercera palabra y así sucesivamente."
   ]
  },
  {
   "cell_type": "raw",
   "metadata": {},
   "source": [
    "def create_look_ahead_mask(size):\n",
    "    mask = 1 - tf.linalg.band_part(tf.ones((size,size)), -1, 0)\n",
    "    return mask # shape =(seq_len, seq_len)"
   ]
  },
  {
   "cell_type": "raw",
   "metadata": {
    "tags": []
   },
   "source": [
    "# test de la función create_look_ahead_mask\n",
    "x = tf.random.uniform((1, 3))\n",
    "temp = create_look_ahead_mask(x.shape[1])\n",
    "temp"
   ]
  },
  {
   "cell_type": "code",
   "execution_count": 26,
   "metadata": {},
   "outputs": [],
   "source": [
    "class LookAheadMask(tf.keras.layers.Layer):\n",
    "    def __init__(self, size):\n",
    "        super(LookAheadMask, self).__init__()\n",
    "        self.mask = 1 - tf.linalg.band_part(tf.ones((size,size)), -1, 0)\n",
    "        \n",
    "    def call():\n",
    "        return self.mask"
   ]
  },
  {
   "cell_type": "code",
   "execution_count": 27,
   "metadata": {},
   "outputs": [
    {
     "data": {
      "text/plain": [
       "<tf.Tensor: shape=(3, 3), dtype=float32, numpy=\n",
       "array([[0., 1., 1.],\n",
       "       [0., 0., 1.],\n",
       "       [0., 0., 0.]], dtype=float32)>"
      ]
     },
     "execution_count": 27,
     "metadata": {},
     "output_type": "execute_result"
    }
   ],
   "source": [
    "# test de la clase LookAheadMask\n",
    "x = tf.random.uniform((1, 3))\n",
    "temp = LookAheadMask(x.shape[1]).mask\n",
    "temp"
   ]
  },
  {
   "cell_type": "markdown",
   "metadata": {},
   "source": [
    "## <span style=\"color:blue\">Auto-atención de producto punto escalado</span>"
   ]
  },
  {
   "cell_type": "markdown",
   "metadata": {},
   "source": [
    "<figure>\n",
    "<center>\n",
    "<img src=\"../Imagenes/scaled_attention.png\" width=\"400\" height=\"400\" align=\"center\"/>\n",
    "</center>\n",
    "<figcaption>\n",
    "<p style=\"text-align:center\">Atención de producto escalado</p>\n",
    "</figcaption>\n",
    "</figure>\n",
    "\n",
    "Fuente: [Tensorflow transformer](https://www.tensorflow.org/text/tutorials/transformer)"
   ]
  },
  {
   "cell_type": "markdown",
   "metadata": {},
   "source": [
    "Suponemos las tres entradas Q(query o consulta), K(key o clave) y V(value o valor). La ecuación para calcular los pesos de atención es\n",
    "\n",
    "$$\n",
    "\\large \\text{Attention}(Q,K,V) = softmax\\left( \\frac{QK^T}{\\sqrt{d_k}}  \\right) V\n",
    "$$\n",
    "\n",
    "en donde  $d_k$ es el tamaño de entrada de la cabeza. En el transformer original el tamaño del embedding es 512 que se divide en 8 cabezas de tamaño $d_k=64$. Para que los tokens de relleno, usados para tener secuencias de igual tamaño, no tengan pesos de atención se les assigna un valor que tiene a $-\\infty$, de tal manera que softmax les asigne el valor cero."
   ]
  },
  {
   "cell_type": "raw",
   "metadata": {},
   "source": [
    "def scaled_dot_product_attention(q, k, v, mask):\n",
    "    '''Calcula los pesos de atención\n",
    "    - q, k y v deben tener dimensiones confromables\n",
    "      para las operaciones indicadas\n",
    "    - k y v deben coindidir en la penúltima dimensión,\n",
    "     es decir, seq_len_k seq_len_v\n",
    "    - mask: puede tener diferente formas dependiendo si es para\n",
    "      padding o look ahead. \n",
    "         \n",
    "    Args:\n",
    "      q: forma de query == (..., seq_len_q, depth)\n",
    "      k: forma de key == (..., seq_len_k, depth)\n",
    "      v: forma de value == (..., seq_len_v, depth_v)\n",
    "      mask: tensor float con forma ajustable\n",
    "         a (..., seq_len_q, seq_len_k). Por defecto es None.\n",
    "      \n",
    "    Returns:\n",
    "      output, attention_weights\n",
    "    '''\n",
    "    \n",
    "    matmul_qk = tf.matmul(q, k, transpose_b=True) # (..., seq_len_q, seq_len_k)\n",
    "\n",
    "    # escala matmul_qk\n",
    "    dk = tf.cast(tf.shape(k)[-1], tf.float32)\n",
    "    scaled_attention_logits = matmul_qk / tf.math.sqrt(dk)\n",
    "    \n",
    "    # adiciona el enmascaramiento al vector escalado\n",
    "    if mask is not None:\n",
    "        scaled_attention_logits += mask * -1e9\n",
    "    \n",
    "    # softmax se calcula por el último eje(filas) (seq_len_k)\n",
    "    # es decir, por filas la suma es 1\n",
    "    attention_weigths = tf.nn.softmax(scaled_attention_logits, axis=-1) # (..., seq_len_q, seq_len_k)\n",
    "    output = tf.matmul(attention_weigths, v)\n",
    "   \n",
    "    return output, attention_weigths # retorna los pesos de atención para análisis de atención solamente\n",
    "    "
   ]
  },
  {
   "cell_type": "code",
   "execution_count": 28,
   "metadata": {},
   "outputs": [],
   "source": [
    "class ScaledDotProductAttention(tf.keras.layers.Layer):\n",
    "    '''Calcula los pesos de atención\n",
    "    - q, k y v deben tener dimensiones confromables\n",
    "      para las operaciones indicadas\n",
    "    - k y v deben coindidir en la penúltima dimensión,\n",
    "     es decir, seq_len_k seq_len_v\n",
    "    - mask: puede tener diferente formas dependiendo si es para\n",
    "      padding o look ahead. \n",
    "         \n",
    "    Args:\n",
    "      q: forma de query == (..., seq_len_q, depth)\n",
    "      k: forma de key == (..., seq_len_k, depth)\n",
    "      v: forma de value == (..., seq_len_v, depth_v)\n",
    "      mask: tensor float con forma ajustable\n",
    "         a (..., seq_len_q, seq_len_k). Por defecto es None.\n",
    "      \n",
    "    Returns:\n",
    "      output, attention_weights\n",
    "    '''\n",
    "    def __init__(self):\n",
    "        super(ScaledDotProductAttention, self).__init__()\n",
    "    \n",
    "    def call(self, q, k, v, mask):\n",
    "        matmul_qk = tf.matmul(q, k, transpose_b=True) # (..., seq_len_q, seq_len_k)\n",
    "\n",
    "        # escala matmul_qk\n",
    "        dk = tf.cast(tf.shape(k)[-1], tf.float32)\n",
    "        scaled_attention_logits = matmul_qk / tf.math.sqrt(dk)\n",
    "    \n",
    "        # adiciona el enmascaramiento al vector escalado\n",
    "        if mask is not None:\n",
    "            scaled_attention_logits += mask * -1e9\n",
    "        \n",
    "        # softmax se calcula por el último eje(filas) (seq_len_k)\n",
    "        # es decir, por filas la suma es 1\n",
    "        attention_weigths = tf.nn.softmax(scaled_attention_logits, axis=-1) # (..., seq_len_q, seq_len_k)\n",
    "        output = tf.matmul(attention_weigths, v)\n",
    "   \n",
    "        return output, attention_weigths # retorna los pesos de atención para análisis de atención solamente\n",
    "          "
   ]
  },
  {
   "cell_type": "markdown",
   "metadata": {},
   "source": [
    "### Test de la clase ScaledDotProductAttention"
   ]
  },
  {
   "cell_type": "code",
   "execution_count": 29,
   "metadata": {},
   "outputs": [],
   "source": [
    "def print_out(q, k, v):\n",
    "    dot_product = ScaledDotProductAttention()\n",
    "    temp_out, temp_attn = dot_product(q, k, v, None)\n",
    "    print('Pesos de atención:\\n',temp_attn)\n",
    "    print('Output es:\\n', temp_out)"
   ]
  },
  {
   "cell_type": "raw",
   "metadata": {},
   "source": [
    "### Test de la función  scaled_dot_product_attention"
   ]
  },
  {
   "cell_type": "raw",
   "metadata": {},
   "source": [
    "def print_out(q, k, v):\n",
    "    temp_out, temp_attn = scaled_dot_product_attention(\n",
    "        q, k, v, None)\n",
    "    print('Pesos de atención:\\n',temp_attn)\n",
    "    print('Output es:\\n', temp_out)"
   ]
  },
  {
   "cell_type": "code",
   "execution_count": 30,
   "metadata": {},
   "outputs": [],
   "source": [
    "import numpy as np\n",
    "np.set_printoptions(suppress=True)# suprime notación científica \n",
    "\n",
    "\n",
    "temp_k = tf.constant([[10, 0, 0],\n",
    "                      [0, 10, 0],\n",
    "                      [0, 0, 10],\n",
    "                      [0, 0, 10]], dtype=tf.float32)  # (4, 3)\n",
    "\n",
    "temp_v = tf.constant([[1, 0],\n",
    "                      [10, 0],\n",
    "                      [100, 5],\n",
    "                      [1000, 6]], dtype=tf.float32)  # (4, 2)"
   ]
  },
  {
   "cell_type": "code",
   "execution_count": 31,
   "metadata": {},
   "outputs": [
    {
     "name": "stdout",
     "output_type": "stream",
     "text": [
      "Pesos de atención:\n",
      " tf.Tensor([[0. 1. 0. 0.]], shape=(1, 4), dtype=float32)\n",
      "Output es:\n",
      " tf.Tensor([[10.  0.]], shape=(1, 2), dtype=float32)\n"
     ]
    }
   ],
   "source": [
    "# Este 'query' alinea con la segunda 'key',\n",
    "# por lo que se retorna el segundo valor\n",
    "\n",
    "temp_q = tf.constant([[0, 10, 0]], dtype=tf.float32) #(1, 3)\n",
    "print_out(temp_q, temp_k, temp_v)"
   ]
  },
  {
   "cell_type": "code",
   "execution_count": 32,
   "metadata": {},
   "outputs": [
    {
     "name": "stdout",
     "output_type": "stream",
     "text": [
      "Pesos de atención:\n",
      " tf.Tensor([[0.  0.  0.5 0.5]], shape=(1, 4), dtype=float32)\n",
      "Output es:\n",
      " tf.Tensor([[550.    5.5]], shape=(1, 2), dtype=float32)\n"
     ]
    }
   ],
   "source": [
    "# Este query alinea dos valores en key (tercero y cuarto),\n",
    "# asi que todos los valores son promediados\n",
    "temp_q = tf.constant([[0, 0, 10]], dtype=tf.float32)  # (1, 3)\n",
    "print_out(temp_q, temp_k, temp_v)"
   ]
  },
  {
   "cell_type": "code",
   "execution_count": 33,
   "metadata": {},
   "outputs": [
    {
     "name": "stdout",
     "output_type": "stream",
     "text": [
      "Pesos de atención:\n",
      " tf.Tensor([[0.5 0.5 0.  0. ]], shape=(1, 4), dtype=float32)\n",
      "Output es:\n",
      " tf.Tensor([[5.5 0. ]], shape=(1, 2), dtype=float32)\n"
     ]
    }
   ],
   "source": [
    "# Este query alinea igualmente con las claves primera y segunda igualmente,\n",
    "# así que los correspondientes valores son promediados\n",
    "temp_q = tf.constant([[10, 10, 0]], dtype=tf.float32)  # (1, 3)\n",
    "print_out(temp_q, temp_k, temp_v)"
   ]
  },
  {
   "cell_type": "markdown",
   "metadata": {},
   "source": [
    "Colocando todas las consultas juntas se tiene"
   ]
  },
  {
   "cell_type": "code",
   "execution_count": 34,
   "metadata": {},
   "outputs": [
    {
     "name": "stdout",
     "output_type": "stream",
     "text": [
      "Pesos de atención:\n",
      " tf.Tensor(\n",
      "[[0.  0.  0.5 0.5]\n",
      " [0.  1.  0.  0. ]\n",
      " [0.5 0.5 0.  0. ]], shape=(3, 4), dtype=float32)\n",
      "Output es:\n",
      " tf.Tensor(\n",
      "[[550.    5.5]\n",
      " [ 10.    0. ]\n",
      " [  5.5   0. ]], shape=(3, 2), dtype=float32)\n"
     ]
    }
   ],
   "source": [
    "temp_q = tf.constant([[0, 0, 10],\n",
    "                      [0, 10, 0],\n",
    "                      [10, 10, 0]], dtype=tf.float32)  # (3, 3)\n",
    "print_out(temp_q, temp_k, temp_v)"
   ]
  },
  {
   "cell_type": "markdown",
   "metadata": {},
   "source": [
    "## <span style=\"color:blue\">Capa de atención multi-cabeza</span>"
   ]
  },
  {
   "cell_type": "markdown",
   "metadata": {},
   "source": [
    "<figure>\n",
    "<center>\n",
    "<img src=\"../Imagenes/multi_head_attention.png\" width=\"400\" height=\"400\" align=\"center\"/>\n",
    "</center>\n",
    "<figcaption>\n",
    "<p style=\"text-align:center\">Atención multi-cabeza</p>\n",
    "</figcaption>\n",
    "</figure>\n",
    "\n",
    "Fuente: [Tensorflow transformer](https://www.tensorflow.org/text/tutorials/transformer)"
   ]
  },
  {
   "cell_type": "markdown",
   "metadata": {},
   "source": [
    "Implementamos esta capa utilizando Model subclassing. Atención multi-cabeza tiene cuatro partes:\n",
    "\n",
    "* Capas lineales y separación en cabezas.\n",
    "* Auto-atención de producto punto escalado.\n",
    "* Concatenación de las cabezas a la salida.\n",
    "* Capa lineal final.\n",
    "\n",
    "Cada bloque de atención multi-cabeza recibe como única entrada un diccionario cuyas claves son query, key y value. Esto se hace así porque con la API funcional de Keras se debe mantener un único parámetro. El diccionario es entonde un envoltorio (wrapper) para query, key y value.\n",
    "\n",
    "La entrada es pasada a través  de las capas densas y dividida luego en múltiples cabezas. Entonces cada cabeza aplica la auto-atención de producto punto escalada a la entrada.  Una máscara apropiada es usada para enmascarar los tokens de relleno de la secuencia de entrada.\n",
    "\n",
    "Finalmente las salidads de la auto-atención de producto punto escalado son concatenadas y el resultado se pasa po runa capa lineal final.\n",
    "\n",
    "`Nota`\n",
    "La razón de utlizar múltiples cabezas de atención es para permitir que cada cabez se enfoque en un subconjunto del espacio de inscrustación (embedding) de los tokens. "
   ]
  },
  {
   "cell_type": "code",
   "execution_count": 68,
   "metadata": {},
   "outputs": [],
   "source": [
    "class MultiHeadAttention(tf.keras.layers.Layer):\n",
    "    \n",
    "    def __init__(self, d_model, num_heads, name='multi_head_attention'):\n",
    "        super(MultiHeadAttention, self).__init__(name=name)\n",
    "        self.num_heads = num_heads\n",
    "        self.d_model = d_model\n",
    "        \n",
    "        assert d_model % num_heads == 0\n",
    "        \n",
    "        self.depth = d_model // self.num_heads\n",
    "        \n",
    "        self.wq = tf.keras.layers.Dense(d_model)\n",
    "        self.wk = tf.keras.layers.Dense(d_model)\n",
    "        self.wv = tf.keras.layers.Dense(d_model)\n",
    "        \n",
    "        self.dense = tf.keras.layers.Dense(d_model)\n",
    "        \n",
    "        self.scaled_product_attention = ScaledDotProductAttention()\n",
    "    \n",
    "    def split_heads(self, x, batch_size):\n",
    "        '''Separa la última dimensión (columnas) en (num_heads, depth)\n",
    "           Transpone el resultado de tal forma que la forma resultante es\n",
    "           (batch_size, num_heads, seq_len, depth)\n",
    "        '''\n",
    "        \n",
    "        x = tf.reshape(x, shape=(batch_size, -1, self.num_heads, self.depth))\n",
    "        return tf.transpose(x, perm=[0, 2, 1, 3])\n",
    "    \n",
    "    def call(self, v, k, q, mask):\n",
    "        batch_size = tf.shape(q)[0]\n",
    "        \n",
    "        # capas lineales\n",
    "        q = self.wq(q) # (batch_size, seq_len, d_model)\n",
    "        k = self.wk(k) # (batch_size, seq_len, d_model)\n",
    "        v = self.wv(v) # (batch_size, seq_len, d_model)\n",
    "        \n",
    "        # separación de cabezas\n",
    "        q = self.split_heads(q, batch_size) # (batch_size, num_heads, seq_len_q, depth)\n",
    "        k = self.split_heads(k, batch_size) # (batch_size, num_heads, seq_len_k, depth)\n",
    "        v = self.split_heads(v, batch_size) # (batch_size, num_heads, seq_len_v, depth)\n",
    "        \n",
    "        # atención de producto punto escalado\n",
    "        # scaled_attention.shape == (batch_size, num_heads, seq_len_q, depth)\n",
    "        # attention_weights.shape == (batch_size, num_heads, seq_len_q, seq_len_k)\n",
    "        \n",
    "        scaled_attention, attention_weights = self.scaled_product_attention(q, k, v, mask)\n",
    "        # traspone scaled_attention: (batch_size, seq_len_q, num_heads, depth)\n",
    "        scaled_attention = tf.transpose(scaled_attention, perm=[0, 2, 1, 3]) \n",
    "        \n",
    "        # concatenación de las salida de las cabezas de atención\n",
    "        # concat_attention.shape = (batch_size, seq_len_q, d_model)\n",
    "        concat_attention = tf.reshape(scaled_attention, shape=(batch_size, -1, self.d_model))\n",
    "        \n",
    "        # capa densa final\n",
    "        output = self.dense(concat_attention) # (batch_size, seq_len_q, d_model)\n",
    "        \n",
    "        return output, attention_weights"
   ]
  },
  {
   "cell_type": "markdown",
   "metadata": {},
   "source": [
    "### Test de la clase MultiHeadAttention"
   ]
  },
  {
   "cell_type": "code",
   "execution_count": 69,
   "metadata": {},
   "outputs": [
    {
     "data": {
      "text/plain": [
       "(TensorShape([1, 60, 512]), TensorShape([1, 8, 60, 60]))"
      ]
     },
     "execution_count": 69,
     "metadata": {},
     "output_type": "execute_result"
    }
   ],
   "source": [
    "temp_mha = MultiHeadAttention(d_model=512, num_heads=8)\n",
    "y = tf.random.uniform((1, 60, 512)) # (batch_size, encoder_sequence, d_model)\n",
    "out, attn = temp_mha(v=y, k=y, q=y, mask=None)\n",
    "out.shape, attn.shape"
   ]
  },
  {
   "cell_type": "markdown",
   "metadata": {},
   "source": [
    "## <span style=\"color:blue\">Capa Feed Forward</span> "
   ]
  },
  {
   "cell_type": "markdown",
   "metadata": {},
   "source": [
    "Esta es la capa dense en el borde superior del Transformer, luego de la atención multicabeza y de la capa residual. Consta de dos capas completamente conectadas con una activación *ReLU* en el medio."
   ]
  },
  {
   "cell_type": "raw",
   "metadata": {},
   "source": [
    "def point_wise_feed_forward_network(d_model, dff):\n",
    "    return tf.keras.Sequential([\n",
    "        tf.keras.layers.Dense(dff, activation='relu'), # (batch_size, seq_len, dff)\n",
    "        tf.keras.layers.Dense(d_model) # (batch_size, seq_len, d_model)\n",
    "    ])\n"
   ]
  },
  {
   "cell_type": "code",
   "execution_count": 37,
   "metadata": {},
   "outputs": [],
   "source": [
    "class FeedForwardNetwork(tf.keras.layers.Layer):\n",
    "    def __init__(self, d_model, dff):\n",
    "        super(FeedForwardNetwork, self).__init__()\n",
    "        self.ffn = tf.keras.Sequential([\n",
    "        tf.keras.layers.Dense(dff, activation='relu'), # (batch_size, seq_len, dff)\n",
    "        tf.keras.layers.Dense(d_model) # (batch_size, seq_len, d_model)\n",
    "        ])\n",
    "        \n",
    "    def call(self, x):\n",
    "        return self.ffn(x)"
   ]
  },
  {
   "cell_type": "markdown",
   "metadata": {},
   "source": [
    "### Test de la clase FeedForward"
   ]
  },
  {
   "cell_type": "code",
   "execution_count": 70,
   "metadata": {},
   "outputs": [
    {
     "data": {
      "text/plain": [
       "TensorShape([64, 50, 512])"
      ]
     },
     "execution_count": 70,
     "metadata": {},
     "output_type": "execute_result"
    }
   ],
   "source": [
    "sample_ffn = FeedForwardNetwork(512, 2048)\n",
    "sample_ffn(tf.random.uniform((64, 50, 512))).shape"
   ]
  },
  {
   "cell_type": "markdown",
   "metadata": {},
   "source": [
    "### test Capa Feed Forward"
   ]
  },
  {
   "cell_type": "raw",
   "metadata": {},
   "source": [
    "sample_ffn = point_wise_feed_forward_network(512, 2048)\n",
    "sample_ffn(tf.random.uniform((64, 50, 512))).shape"
   ]
  },
  {
   "cell_type": "markdown",
   "metadata": {},
   "source": [
    "## <span style=\"color:blue\">Capas de codificación y decodificación</span> "
   ]
  },
  {
   "cell_type": "markdown",
   "metadata": {},
   "source": [
    "El modelo Transformer sigue el mismo patrón general como un estándar `seq2seq` con atención. La sentencia  de entrada se pasa a través *N* capas de codificación (codificadoras) que generan una salida para cada palabra/símbolo en la secuencia.\n",
    "\n",
    "El decodificador presta atención a la salida del codificador y a su propia entrada (atención propia) para `predecir la siguiente palabra`."
   ]
  },
  {
   "cell_type": "markdown",
   "metadata": {},
   "source": [
    "<figure>\n",
    "<center>\n",
    "<img src=\"../Imagenes/transformer.png\" width=\"300\" height=\"300\" align=\"center\"/>\n",
    "</center>\n",
    "<figcaption>\n",
    "<p style=\"text-align:center\">Transformer</p>\n",
    "</figcaption>\n",
    "</figure>\n",
    "\n",
    "Fuente: [Attention Is All You Need (Vaswani et. al, 2017)](https://arxiv.org/pdf/1706.03762.pdf)"
   ]
  },
  {
   "cell_type": "markdown",
   "metadata": {},
   "source": [
    "## <span style=\"color:blue\">Capa codificadora</span> "
   ]
  },
  {
   "cell_type": "markdown",
   "metadata": {},
   "source": [
    "La capa codificadora corresponde al rectańgulo gris del encoder en la arquitectura del transformer arriba. Cada capa codificadora consta de subcapas:\n",
    "\n",
    "1. Atención multicabezal (con enmascaramiento de los tokens de padding)\n",
    "1. Redes densas hacia adelante (feed forward) (pointwise feed fordward).\n",
    "\n",
    "Cada una de estas subcapas tiene una conexión residual a su alrededor seguida de una normalización de capa. Las conexiones residuales ayudan a evitar el problema del desvanecimiento del gradiente en las redes profundas.\n",
    "\n",
    "La salida de cada subcapa es `LayerNorm(x + Sublayer(x))` . La normalización se realiza en el d_model eje (última). Hay N capas de codificador en el transformador."
   ]
  },
  {
   "cell_type": "code",
   "execution_count": 39,
   "metadata": {},
   "outputs": [],
   "source": [
    "class EncoderLayer(tf.keras.layers.Layer):\n",
    "    def __init__(self, d_model, num_heads, dff, rate=0.1):\n",
    "        super(EncoderLayer, self).__init__()\n",
    "        \n",
    "        self.mha = MultiHeadAttention(d_model, num_heads)\n",
    "        self.ffn = FeedForwardNetwork(d_model, dff)\n",
    "        \n",
    "        # normaliza por el último eje cada ejemplo\n",
    "        self.layernorm1 = tf.keras.layers.LayerNormalization(epsilon=1e-6) \n",
    "        self.layernorm2 = tf.keras.layers.LayerNormalization(epsilon=1e-6)\n",
    "                \n",
    "        self.dropout1 = tf.keras.layers.Dropout(rate)\n",
    "        self.dropout2 = tf.keras.layers.Dropout(rate)\n",
    "          \n",
    "    def call(self, x, training, mask):\n",
    "        \n",
    "        attn_output, _ = self.mha(x, x, x, mask) # (batch_size, input_seq_len, d_model)\n",
    "        attn_output = self.dropout1(attn_output, training=training)\n",
    "        out1 = self.layernorm1(x + attn_output) # (batch_size, input_seq_len, d_model)\n",
    "        \n",
    "        ffn_output = self.ffn(out1) # (batch_size, input_seq_len, d_model)\n",
    "        ffn_output = self.dropout2(ffn_output, training=training)\n",
    "        out2 = self.layernorm2(out1 + ffn_output)\n",
    "        \n",
    "        return out2"
   ]
  },
  {
   "cell_type": "markdown",
   "metadata": {},
   "source": [
    "### Test de la capa (clase) codificadora"
   ]
  },
  {
   "cell_type": "code",
   "execution_count": 71,
   "metadata": {},
   "outputs": [
    {
     "data": {
      "text/plain": [
       "TensorShape([64, 43, 512])"
      ]
     },
     "execution_count": 71,
     "metadata": {},
     "output_type": "execute_result"
    }
   ],
   "source": [
    "sample_encoder_layer = EncoderLayer(512, 8, 2048)\n",
    "\n",
    "sample_encoder_layer_output = sample_encoder_layer(\n",
    "        tf.random.uniform((64, 43, 512)), False, None)\n",
    "\n",
    "sample_encoder_layer_output.shape"
   ]
  },
  {
   "cell_type": "markdown",
   "metadata": {},
   "source": [
    "## <span style=\"color:blue\">Capa decodificadora</span> "
   ]
  },
  {
   "cell_type": "markdown",
   "metadata": {},
   "source": [
    "La capa decodificadora corresponde al rectańgulo gris del deencoder en la arquitectura del transformer arriba. Cada capa decodificadora consta de subcapas:\n",
    "\n",
    "1. Atención multi-cabeza enmascarada (con máscara de anticipación y máscara de relleno)\n",
    "2. Atención multi-cabeza (con enmascaramiento de relleno). V (valor) y K (clave) reciben la salida del codificador como entradas. Q (consulta) recibe la salida de la subcapa  multi-cabeza enmascarada.\n",
    "3. Redes densas hacia adelante (feed forward).\n",
    "\n",
    "Cada una de estas subcapas tiene una conexión residual a su alrededor seguida de una normalización de capa. La salida de cada subcapa es `LayerNorm(x + Sublayer(x))` . La normalización se realiza en el d_model eje (última).\n",
    "\n",
    "Hay *N* capas decodificadoras en el transformer.\n",
    "\n",
    "Cuando *Q* recibe la salida del primer bloque de atención del decodificador y *K* recibe la salida del codificador, las ponderaciones de atención representan la importancia dada a la entrada del decodificador en función de la salida del codificador. En otras palabras, el decodificador predice la siguiente palabra mirando la salida del codificador y atendiendo su propia salida. Vea la demostración ejemplo en la sección de atención del producto escalado."
   ]
  },
  {
   "cell_type": "code",
   "execution_count": 41,
   "metadata": {},
   "outputs": [],
   "source": [
    "class DecoderLayer(tf.keras.layers.Layer):\n",
    "    def __init__(self, d_model, num_heads, dff, rate=0.1):\n",
    "        super(DecoderLayer, self).__init__()\n",
    "        \n",
    "        self.mha1 = MultiHeadAttention(d_model, num_heads)\n",
    "        self.mha2 = MultiHeadAttention(d_model, num_heads)\n",
    "        \n",
    "        self.ffn = FeedForwardNetwork(d_model, dff)\n",
    "        \n",
    "        # normaliza por el último eje cada ejemplo\n",
    "        self.layernorm1 = tf.keras.layers.LayerNormalization(epsilon=1e-6) \n",
    "        self.layernorm2 = tf.keras.layers.LayerNormalization(epsilon=1e-6)\n",
    "        self.layernorm3 = tf.keras.layers.LayerNormalization(epsilon=1e-6)\n",
    "        \n",
    "        self.dropout1 = tf.keras.layers.Dropout(rate)\n",
    "        self.dropout2 = tf.keras.layers.Dropout(rate)\n",
    "        self.dropout3 = tf.keras.layers.Dropout(rate)\n",
    "        \n",
    "    def call(self, x, enc_output, training, look_ahead_mask, padding_mask):\n",
    "        # enc_output.shape == (batch_size, input_seq_len, d_model)\n",
    "        \n",
    "        # attn1.shape == (batch_size, target_seq_len, d_model)\n",
    "        attn1, attn_weights_block1 = self.mha1(x, x, x, look_ahead_mask) \n",
    "        attn1 = self.dropout1(attn1, training=training)\n",
    "        out1 = self.layernorm1(attn1 + x)\n",
    "        \n",
    "        #  attn2.shape == (batch_size, target_seq_len, d_model)\n",
    "        attn2, attn_weigths_block2 = self.mha2(\n",
    "            enc_output, enc_output, out1, padding_mask) \n",
    "        attn2 = self.dropout2(attn2, training = training)\n",
    "        out2 = self.layernorm2(attn2 + out1)\n",
    "        \n",
    "        ffn_out = self.ffn(out2) # (batch_size, target_seq_len, d_model)\n",
    "        ffn_out = self.dropout3(ffn_out, training=training)\n",
    "        out3 = self.layernorm3(ffn_out + out2) # (batch_size, target_seq_len, d_model)\n",
    "        \n",
    "        return out3, attn_weights_block1, attn_weigths_block2\n",
    "        "
   ]
  },
  {
   "cell_type": "markdown",
   "metadata": {},
   "source": [
    "### Test de la capa (clase) decodificadora"
   ]
  },
  {
   "cell_type": "code",
   "execution_count": 72,
   "metadata": {},
   "outputs": [
    {
     "data": {
      "text/plain": [
       "TensorShape([64, 50, 512])"
      ]
     },
     "execution_count": 72,
     "metadata": {},
     "output_type": "execute_result"
    }
   ],
   "source": [
    "sample_decoder_layer = DecoderLayer(512, 8, 2048)\n",
    "\n",
    "sample_decoder_layer_output, _, _ = sample_decoder_layer(\n",
    "    tf.random.uniform((64, 50, 512)), sample_encoder_layer_output,\n",
    "    False, None, None)\n",
    "\n",
    "sample_decoder_layer_output.shape  # (batch_size, target_seq_len, d_model)"
   ]
  },
  {
   "cell_type": "markdown",
   "metadata": {},
   "source": [
    "## <span style=\"color:blue\">Codificador</span> "
   ]
  },
  {
   "cell_type": "markdown",
   "metadata": {},
   "source": [
    "El Encoder consta de:\n",
    "\n",
    "1. Incrustación de entrada\n",
    "1. Codificación posicional\n",
    "1. *N* capas de codificador\n",
    "\n",
    "La entrada se somete a una incrustación (embedding) que se suma con la codificación posicional. La salida de esta suma es la entrada a las capas del codificador. La salida del codificador es la entrada al decodificador.\n"
   ]
  },
  {
   "cell_type": "code",
   "execution_count": 73,
   "metadata": {},
   "outputs": [],
   "source": [
    "class Encoder(tf.keras.layers.Layer):\n",
    "    def __init__(self, num_layers, d_model, num_heads, dff, input_vocab_size,\n",
    "                maximum_position_encoding, rate=0.1):\n",
    "        super(Encoder, self).__init__()\n",
    "        \n",
    "        self.d_model = d_model\n",
    "        self.num_layers = num_layers\n",
    "        \n",
    "        self.embedding = tf.keras.layers.Embedding(input_vocab_size, d_model)\n",
    "        self.pos_encoding = PositionalEncoding(maximum_position_encoding, \n",
    "                                                d_model).pos_encoding\n",
    "        \n",
    "        \n",
    "        self.enc_layers = [EncoderLayer(d_model, num_heads, dff, \n",
    "                                        rate)  for _ in range(num_layers)]\n",
    "        \n",
    "        self.dropout = tf.keras.layers.Dropout(rate)\n",
    "        \n",
    "    def call(self, x, training, mask):\n",
    "        seq_len = tf.shape(x)[1]\n",
    "        \n",
    "        # suma embedding y position encoding\n",
    "        x = self.embedding(x)\n",
    "        x *= tf.math.sqrt(tf.cast(self.d_model, tf.float32))\n",
    "        x += self.pos_encoding[:, :seq_len, :]\n",
    "        \n",
    "        # dropout\n",
    "        x = self.dropout(x, training=training)\n",
    "        \n",
    "        # pasa por las num_layers capas codificadoras\n",
    "        for i in range(self.num_layers):\n",
    "            x = self.enc_layers[i](x, training, mask)\n",
    "        \n",
    "        return x # batch_size, input_seq_len, d_model)\n",
    "    \n",
    "    "
   ]
  },
  {
   "cell_type": "markdown",
   "metadata": {},
   "source": [
    "### Test del encoder"
   ]
  },
  {
   "cell_type": "code",
   "execution_count": 74,
   "metadata": {},
   "outputs": [
    {
     "name": "stdout",
     "output_type": "stream",
     "text": [
      "(64, 62, 512)\n"
     ]
    }
   ],
   "source": [
    "sample_encoder = Encoder(num_layers=2, d_model=512, num_heads=8,\n",
    "                         dff=2048, input_vocab_size=8500,\n",
    "                         maximum_position_encoding=10000)\n",
    "temp_input = tf.random.uniform((64, 62), dtype=tf.int64, minval=0, maxval=200)\n",
    "\n",
    "sample_encoder_output = sample_encoder(temp_input, training=False, mask=None)\n",
    "\n",
    "print(sample_encoder_output.shape)  # (batch_size, input_seq_len, d_model)"
   ]
  },
  {
   "cell_type": "markdown",
   "metadata": {},
   "source": [
    "## <span style=\"color:blue\">Decodificador</span> "
   ]
  },
  {
   "cell_type": "markdown",
   "metadata": {},
   "source": [
    "El Decoder consiste en:\n",
    "\n",
    "1. Incrustación de salida\n",
    "1. Codificación posicional\n",
    "1. *N* capas de decodificador\n",
    "\n",
    "El objetivo se somete a una incrustación (embedding) que se suma con la codificación posicional. La salida de esta suma es la entrada a las capas del decodificador. La salida del decodificador es la entrada a la capa lineal final."
   ]
  },
  {
   "cell_type": "code",
   "execution_count": 75,
   "metadata": {},
   "outputs": [],
   "source": [
    "class Decoder(tf.keras.layers.Layer):\n",
    "    def __init__(self, num_layers, d_model, num_heads, dff, target_vocab_size,\n",
    "                maximum_position_encoding, rate=0.1):\n",
    "        super(Decoder, self).__init__()\n",
    "        \n",
    "        self.d_model = d_model\n",
    "        self.num_layers = num_layers\n",
    "        \n",
    "        self.embedding = tf.keras.layers.Embedding(target_vocab_size, d_model)\n",
    "        self.pos_encoding = PositionalEncoding(maximum_position_encoding,\n",
    "                                               d_model).pos_encoding\n",
    "        self.dec_layers = [DecoderLayer(d_model, num_heads, dff, rate)\n",
    "                          for _ in range(num_layers)]\n",
    "        \n",
    "        self.dropout = tf.keras.layers.Dropout(rate)\n",
    "        \n",
    "    def call(self, x, enc_output, training, \n",
    "            look_ahead_mask, padding_mask):\n",
    "        \n",
    "        seq_len = tf.shape(x)[1]\n",
    "        attention_weights = {}\n",
    "        \n",
    "        x = self.embedding(x) # # (batch_size, target_seq_len, d_model)\n",
    "        x *= tf.math.sqrt(tf.cast(self.d_model, tf.float32))\n",
    "        x += self.pos_encoding[:, :seq_len, :]\n",
    "        \n",
    "        x = self.dropout(x, training)\n",
    "        \n",
    "        for i in range(self.num_layers):\n",
    "            x, block1, block2 = self.dec_layers[i](x, enc_output, training,\n",
    "                                                  look_ahead_mask, padding_mask)\n",
    "            \n",
    "            attention_weights[f'decoder_layer{i+1}_block1'] = block1\n",
    "            attention_weights[f'decoder_layer{i+1}_block2'] = block2\n",
    "            \n",
    "        # x.shape == (batch_size, target_seq_len, d_model)\n",
    "        return x, attention_weights\n",
    "    "
   ]
  },
  {
   "cell_type": "markdown",
   "metadata": {},
   "source": [
    "### Test del decoder"
   ]
  },
  {
   "cell_type": "code",
   "execution_count": 76,
   "metadata": {},
   "outputs": [
    {
     "data": {
      "text/plain": [
       "(TensorShape([64, 26, 512]), TensorShape([64, 8, 26, 62]))"
      ]
     },
     "execution_count": 76,
     "metadata": {},
     "output_type": "execute_result"
    }
   ],
   "source": [
    "sample_decoder = Decoder(num_layers=2, d_model=512, num_heads=8,\n",
    "                         dff=2048, target_vocab_size=8000,\n",
    "                         maximum_position_encoding=5000)\n",
    "temp_input = tf.random.uniform((64, 26), dtype=tf.int64, minval=0, maxval=200)\n",
    "\n",
    "output, attn = sample_decoder(temp_input,\n",
    "                              enc_output=sample_encoder_output,\n",
    "                              training=False,\n",
    "                              look_ahead_mask=None,\n",
    "                              padding_mask=None)\n",
    "\n",
    "output.shape, attn['decoder_layer2_block2'].shape"
   ]
  },
  {
   "cell_type": "markdown",
   "metadata": {},
   "source": [
    "## <span style=\"color:blue\">Transformer Auto Encoder</span> "
   ]
  },
  {
   "cell_type": "markdown",
   "metadata": {},
   "source": [
    "El transformer consta del codificador, el decodificador y una capa lineal final. La salida del decodificador es la entrada a la capa lineal y se devuelve su salida."
   ]
  },
  {
   "cell_type": "code",
   "execution_count": 91,
   "metadata": {},
   "outputs": [],
   "source": [
    "class TransformerAutoEncoder(tf.keras.layers.Layer):\n",
    "    def __init__(self, num_layers, d_model, num_heads, dff, input_vocab_size,\n",
    "                target_vocab_size, pe_input, pe_target, rate=0.1):\n",
    "        super(TransformerAutoEncoder, self).__init__()\n",
    "        \n",
    "        self.encoder = Encoder(num_layers, d_model, num_heads, dff,\n",
    "                              input_vocab_size, pe_input, rate)\n",
    "        \n",
    "        self.decoder = Decoder(num_layers, d_model, num_heads, dff,\n",
    "                              target_vocab_size, pe_target, rate)\n",
    "        \n",
    "        self.final_layer = tf.keras.layers.Dense(target_vocab_size)\n",
    "    \n",
    "    def call(self, inp, tar, training, enc_padding_mask,\n",
    "            look_ahead_mask, dec_padding_mask):\n",
    "        \n",
    "        # enc_output.shape == (batch_size, inp_seq_len, d_model)\n",
    "        enc_output = self.encoder(inp, training, enc_padding_mask)\n",
    "        \n",
    "        # dec_output.shape == (batch_size, tar_seq_len, d_model)\n",
    "        dec_output, attention_weights = self.decoder(\n",
    "            tar, enc_output, training, look_ahead_mask, dec_padding_mask)\n",
    "        \n",
    "        # final_ouput.shape == (batch_size, tar_seq_len, target_vocab_size)\n",
    "        final_output = self.final_layer(dec_output)\n",
    "        \n",
    "        return final_output, attention_weights"
   ]
  },
  {
   "cell_type": "markdown",
   "metadata": {},
   "source": [
    "### Test clase TransformerAutoEncoder"
   ]
  },
  {
   "cell_type": "code",
   "execution_count": 92,
   "metadata": {},
   "outputs": [
    {
     "data": {
      "text/plain": [
       "TensorShape([64, 36, 8000])"
      ]
     },
     "execution_count": 92,
     "metadata": {},
     "output_type": "execute_result"
    }
   ],
   "source": [
    "sample_transformer = TransformerAutoEncoder(\n",
    "    num_layers=2, d_model=512, num_heads=8, dff=2048,\n",
    "    input_vocab_size=8500, target_vocab_size=8000,\n",
    "    pe_input=10000, pe_target=6000)\n",
    "\n",
    "temp_input = tf.random.uniform((64, 38), dtype=tf.int64, minval=0, maxval=200)\n",
    "temp_target = tf.random.uniform((64, 36), dtype=tf.int64, minval=0, maxval=200)\n",
    "\n",
    "fn_out, _ = sample_transformer(temp_input, temp_target, training=False,\n",
    "                               enc_padding_mask=None,\n",
    "                               look_ahead_mask=None,\n",
    "                               dec_padding_mask=None)\n",
    "\n",
    "fn_out.shape  # (batch_size, tar_seq_len, target_vocab_size)"
   ]
  },
  {
   "cell_type": "markdown",
   "metadata": {},
   "source": [
    "## <span style=\"color:blue\">Hiperparámetros</span> "
   ]
  },
  {
   "cell_type": "markdown",
   "metadata": {},
   "source": [
    "Los valores usados  en el modelo base de Transformer, en  [Attention Is All You Need (Vaswani et. al, 2017)](https://arxiv.org/pdf/1706.03762.pdf) fueron; num_layers = 6, d_model = 512, dff = 2,048. \n",
    "\n",
    "Por ejemplo podemos definir"
   ]
  },
  {
   "cell_type": "code",
   "execution_count": null,
   "metadata": {},
   "outputs": [],
   "source": [
    "num_layers = 4\n",
    "d_model = 128\n",
    "dff = 512\n",
    "num_heads = 8\n",
    "dropout_rate = 0.1"
   ]
  },
  {
   "cell_type": "markdown",
   "metadata": {},
   "source": [
    "## <span style=\"color:blue\">Optimizador</span> "
   ]
  },
  {
   "cell_type": "markdown",
   "metadata": {},
   "source": [
    "En el artículo original [Attention Is All You Need (Vaswani et. al, 2017)](https://arxiv.org/pdf/1706.03762.pdf) se usó el optimzador [Adam](https://arxiv.org/pdf/1412.6980.pdf) con un programador (scheduler) de velocidad de aprendizaje personalizado de acuerdo a la fórmula\n",
    "\n",
    "$$\n",
    "lrate = d^{-0.5}_{\\text{model}} \\times \\min(\\text{step_num}^{-0.5}, \\text{step_num}\\cdot \\text{warmup_steps}^{-1.5})\n",
    "$$"
   ]
  },
  {
   "cell_type": "code",
   "execution_count": 84,
   "metadata": {},
   "outputs": [],
   "source": [
    "class CustomSchedule(tf.keras.optimizers.schedules.LearningRateSchedule):\n",
    "    def __init__(self, d_model, warmup_steps = 4000):\n",
    "        super(CustomSchedule, self).__init__()\n",
    "        \n",
    "        self.d_model = d_model\n",
    "        self.d_model = tf.cast(self.d_model, tf.float32)\n",
    "        \n",
    "        self.warmup_steps = warmup_steps\n",
    "    \n",
    "    def __call__(self, step):\n",
    "        arg1 = tf.math.rsqrt(step)\n",
    "        arg2 = step * (self.warmup_steps ** -1.5)\n",
    "        \n",
    "        return tf.math.rsqrt(self.d_model) * tf.math.minimum(arg1, arg2)\n",
    "    "
   ]
  },
  {
   "cell_type": "code",
   "execution_count": 87,
   "metadata": {},
   "outputs": [],
   "source": [
    "# instancia un optimizador con esta rata de aprendizaje programada\n",
    "d_model = 128 # es solo un ejemplo\n",
    "\n",
    "learning_rate = CustomSchedule(d_model)\n",
    "\n",
    "optimizer = tf.keras.optimizers.Adam(learning_rate, beta_1=0.9, beta_2=0.98,\n",
    "                                    epsilon=1e-9)"
   ]
  },
  {
   "cell_type": "markdown",
   "metadata": {},
   "source": [
    "### Test (plot) de la clase CustomSchedule"
   ]
  },
  {
   "cell_type": "code",
   "execution_count": 89,
   "metadata": {},
   "outputs": [
    {
     "data": {
      "text/plain": [
       "Text(0.5, 0, 'Paso de entrenamiento')"
      ]
     },
     "execution_count": 89,
     "metadata": {},
     "output_type": "execute_result"
    },
    {
     "data": {
      "image/png": "[encoded data removed]",
      "text/plain": [
       "<Figure size 432x288 with 1 Axes>"
      ]
     },
     "metadata": {
      "needs_background": "light"
     },
     "output_type": "display_data"
    }
   ],
   "source": [
    "d_model = 128\n",
    "temp_learning_rate_schedule = CustomSchedule(d_model)\n",
    "\n",
    "plt.plot(temp_learning_rate_schedule(tf.range(40000, dtype=tf.float32)))\n",
    "plt.ylabel(\"Rata de Aprendizaje\")\n",
    "plt.xlabel(\"Paso de entrenamiento\")"
   ]
  },
  {
   "cell_type": "code",
   "execution_count": null,
   "metadata": {},
   "outputs": [],
   "source": [
    "##"
   ]
  },
  {
   "cell_type": "markdown",
   "metadata": {},
   "source": [
    "## <span style=\"color:blue\">Transformer</span> "
   ]
  },
  {
   "cell_type": "code",
   "execution_count": null,
   "metadata": {},
   "outputs": [],
   "source": [
    "class Transformer(tf.keras.layers.Layer):\n",
    "    def __init__(self, num_layers, d_model, num_heads, dff, input_vocab_size,\n",
    "                target_vocab_size, pe_input, pe_target, rate=0.1):\n",
    "        super(Transformer, self).__init__()\n",
    "        \n",
    "        # objeto autoencoder transformer\n",
    "        self.transformer = TransformerAutoEncoder(num_layers, d_model, \n",
    "                            num_heads, dff, input_vocab_size,\n",
    "                            target_vocab_size, pe_input, pe_target, rate=0.1)\n",
    "        \n",
    "        # Programación de rata de aprendizaje\n",
    "        self.learning_rate = CustomSchedule(d_model)\n",
    "        \n",
    "        # optimizador: Adam\n",
    "        self.optimizer = tf.keras.optimizers.Adam(self.learning_rate, beta_1=0.9, \n",
    "                                                beta_2=0.98, epsilon=1e-9)\n",
    "        \n",
    "        # objeto loss: SparseCategoricalCrossentropy\n",
    "        self.loss_object = tf.keras.losses.SparseCategoricalCrossentropy(\n",
    "                            from_logits=True, reduction='none')\n",
    "        \n",
    "        # convierte la función train_step a una Function de tf para optimizar ejecución\n",
    "        self.train_step_signature = [\n",
    "            tf.TensorSpec(shape =(None, None), dtype=tf.int64),\n",
    "            tf.TensorSpec(shape =(None, None), dtype=tf.int64),\n",
    "        ]\n",
    "        self.train_step = tf.function(func=self.train_step, \n",
    "                                      input_signature=self.train_step_signature)\n",
    "            \n",
    "        # objectos métricas\n",
    "        self.train_loss = tf.keras.metrics.Mean(name='train_loss')\n",
    "        self.train_accuracy = tf.keras.metrics.Mean(name='train_accuracy')\n",
    "        \n",
    "        # check points\n",
    "        self.checkpoint_path = './checkpoints/train'\n",
    "        \n",
    "        self.ckpt = tf.train.Checkpoint(transformer = self.transformer,\n",
    "                                       optimizer = self.optimizer) # model = self.transformer??\n",
    "        \n",
    "        self.ckpt_manager = tf.train.CheckpointManager(self.ckpt, self.checkpoint_path, max_to_keep=5)\n",
    "        \n",
    "        # si existe checkpoint restaura el último checkpoint\n",
    "        if self.ckpt_manager.latest_checkpoint:\n",
    "            self.ckpt.restore(ckpt_manager.latest_checkpoint)\n",
    "            print('Ultimo checkpoint restaurado!!')\n",
    "    \n",
    "    \n",
    "    # función paso de entrenamiento. Se convierte en Function con tf.function en __init__()\n",
    "    def train_step(inp, tar):\n",
    "        tar_inp  = tar[:, :-1]\n",
    "        tar_real = tar[:, 1:]\n",
    "        \n",
    "        enc_padding_mask, combined_mask, dec_padding_mask = self.create_mask(inp, tar_inp)\n",
    "        \n",
    "        with tf.Gradient() as tape:\n",
    "            predictions, _ = self.transformer(inp, tar_inp,\n",
    "                                             True, \n",
    "                                             enc_padding_mask,\n",
    "                                             combined_mask,\n",
    "                                             dec_padding_mask)\n",
    "            loss = self.loss_function(tar_real, predictions)\n",
    "        \n",
    "        gradients = tape.gradient(loss, self.transformer.trainable_variables)\n",
    "        self.optimizer.apply_gradients(zip(gradients, self.transformer.trainable_variables))\n",
    "        \n",
    "        self.train_loss(loss)\n",
    "        self.train.accuracy(self.accuracy_function(tar_real, predictions))\n",
    "   \n",
    "    \n",
    "    #función de entrenamiento: fit\n",
    "    def fit(train_batches, epochs=1):\n",
    "        for epoch in range(epochs):\n",
    "            start = time.time()\n",
    "            \n",
    "            self.train_loss.reset_states()\n",
    "            self.accuracy.reset_states()\n",
    "            \n",
    "            for (batch, (inp, tar)) in enumerate(train_batches):\n",
    "                self.train_step(inp, tar)\n",
    "                \n",
    "                if batch % 50 == 0:\n",
    "                    print(f'Epoch {epoch + 1} Batch {batch} Loss {self.train_loss.result():.4f} Accuracy {self.train_accuracy.result():.4f}')\n",
    "                \n",
    "            if (epoch+1) % 5 == 0:\n",
    "                self.ckpt_save_path = self.ckpt_manager.save()\n",
    "                print(f'Saving checkpoint for epoch {epoch+1} at {ckpt_save_path}')\n",
    "\n",
    "            print(f'Epoch {epoch + 1} Loss {train_loss.result():.4f} Accuracy {train_accuracy.result():.4f}')\n",
    "\n",
    "            print(f'Time taken for 1 epoch: {time.time() - start:.2f} secs\\n')\n",
    "                \n",
    "    \n",
    "    # Función de pérdida\n",
    "    def loss_function(real, pred):\n",
    "        '''solamente usa funciones de tensorflow para optimizar ejecución'''\n",
    "        # enmascara la pérdida para no considerar los términos de padding\n",
    "        mask = tf.math.logical.not(tf.math.equal(real, 0))\n",
    "        loss_ = self.loss_object(real, pred)\n",
    "        \n",
    "        mask = tf.cast(mask, dtype=loss_.dtype)\n",
    "        loss_ *= mask\n",
    "        \n",
    "        return tf.reduce_sum(loss_)/tf.reduce_sum(mask)\n",
    "        \n",
    "    \n",
    "    # Métricas de evaluación\n",
    "    def accuracy_function(real, pred):\n",
    "        # pred.shape == (batch_size, tar_seq_len, target_vocab_size)\n",
    "        accuracies = tf.equal(real, tf.argmax(pred, axis=2))\n",
    "        \n",
    "        mask = tf.math.logical_not(tf.math.equal(real, 0))\n",
    "        accuracies = tf.math.logical_and(mask, accuracies)\n",
    "        \n",
    "        accuracies = tf.cast(accuracies, dtype=tf.float32)\n",
    "        mask = tf.cast(mask, dtype=tf.float32)\n",
    "        return tf.reduce_sum(accuracies) / tf.reduce_sum(mask)\n",
    "    \n",
    "    \n",
    "    \n",
    "    # creación de enmascaramientos\n",
    "    def create_mask(inp, tar):\n",
    "        # Encoder padding mask\n",
    "        enc_padding_mask = PaddingMask(inp).mask\n",
    "        \n",
    "        # Used in the 2nd attention block in the decoder.\n",
    "        # This padding mask is used to mask the encoder outputs.\n",
    "         dec_padding_mask = PaddingMask(inp).mask\n",
    "            \n",
    "        # Used in the 1st attention block in the decoder.\n",
    "        # It is used to pad and mask future tokens in the input received by\n",
    "        # the decoder.\n",
    "        look_ahead_mask = LookAheadMask(tf.shape(tar)[1]).mask\n",
    "        dec_target_padding_mask = PaddingMask(tar).mask\n",
    "        combined_mask = tf.maximum(dec_target_padding_mask, look_ahead_mask)\n",
    "        \n",
    "        return enc_padding_mask, combined_mask, dec_padding_mask\n",
    "    \n",
    "    "
   ]
  },
  {
   "cell_type": "code",
   "execution_count": null,
   "metadata": {},
   "outputs": [],
   "source": []
  }
 ],
 "metadata": {
  "kernelspec": {
   "display_name": "Python 3",
   "language": "python",
   "name": "python3"
  },
  "language_info": {
   "codemirror_mode": {
    "name": "ipython",
    "version": 3
   },
   "file_extension": ".py",
   "mimetype": "text/x-python",
   "name": "python",
   "nbconvert_exporter": "python",
   "pygments_lexer": "ipython3",
   "version": "3.8.10"
  },
  "toc-autonumbering": false
 },
 "nbformat": 4,
 "nbformat_minor": 4
}
