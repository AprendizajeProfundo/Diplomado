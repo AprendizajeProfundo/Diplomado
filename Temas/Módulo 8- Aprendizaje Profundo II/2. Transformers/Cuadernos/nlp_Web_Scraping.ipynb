{
 "cells": [
  {
   "cell_type": "markdown",
   "id": "9157af60-1163-41d4-8ccb-578850b2addf",
   "metadata": {},
   "source": [
    "<figure>\n",
    "<img src=\"../Imagenes/logo-final-ap.png\"  width=\"80\" height=\"80\" align=\"left\"/> \n",
    "</figure>\n",
    "\n",
    "# <span style=\"color:blue\"><left>Aprendizaje Profundo</left></span>"
   ]
  },
  {
   "cell_type": "markdown",
   "id": "99e9619a-8c25-4756-b4c4-4fb37ea59f49",
   "metadata": {},
   "source": [
    "# <span style=\"color:red\"><center>Introducción a Web Scraping de Noticias</center></span>"
   ]
  },
  {
   "cell_type": "markdown",
   "id": "30048d17-6567-46da-aa97-6e6fd0cc5322",
   "metadata": {},
   "source": [
    "##   <span style=\"color:blue\">Profesores</span>"
   ]
  },
  {
   "cell_type": "markdown",
   "id": "b7c105ef-4701-41b2-a2c9-72be34d57d5c",
   "metadata": {},
   "source": [
    "1. Alvaro Mauricio Montenegro Díaz, ammontenegrod@unal.edu.co\n",
    "2. Daniel Mauricio Montenegro Reyes, dextronomo@gmail.com \n",
    "3. Campo Elías Pardo Turriago, cepardot@unal.edu.co "
   ]
  },
  {
   "cell_type": "markdown",
   "id": "8d1bbcd4-c8b7-4d4b-bc70-8c479e0528be",
   "metadata": {},
   "source": [
    "##   <span style=\"color:blue\">Asesora Medios y Marketing digital</span>\n",
    " "
   ]
  },
  {
   "cell_type": "markdown",
   "id": "78b6e063-4dd6-42c8-9f44-47e56aa7ab6b",
   "metadata": {},
   "source": [
    "4. Maria del Pilar Montenegro, pmontenegro88@gmail.com "
   ]
  },
  {
   "cell_type": "markdown",
   "id": "1b5efdb0-432b-4624-8e52-3f52e403d2df",
   "metadata": {},
   "source": [
    "## <span style=\"color:blue\">Asistentes</span>"
   ]
  },
  {
   "cell_type": "markdown",
   "id": "e8f90c18-bd5e-48d3-90b7-f8bdb490464b",
   "metadata": {},
   "source": [
    "5. Oleg Jarma, ojarmam@unal.edu.co \n",
    "6. Laura Lizarazo, ljlizarazore@unal.edu.co "
   ]
  },
  {
   "cell_type": "markdown",
   "id": "2397c66a-b76e-4132-89f0-f4a0feed9710",
   "metadata": {},
   "source": [
    "## <span style=\"color:blue\">Contenido</span>"
   ]
  },
  {
   "cell_type": "markdown",
   "id": "4621ba1f-7e81-452f-984d-15a0c03fca12",
   "metadata": {},
   "source": [
    "* [Introducción](#Introducción)\n",
    "* [¿Qué puede hacer Python?](#¿Qué-puede-hacer-Python?)\n",
    "* [¿Qué es Python?](#¿Qué-es-Python?)\n",
    "* [Hello World!](#Hello-World!)\n",
    "* [Variables en Python](#Variables-en-Python)\n",
    "* [Asignación dinámica en Python](#Asignación-dinámica-en-Python)\n",
    "* [Reglas para la creación de variables](#Reglas-para-la-creación-de-variables)\n",
    "* [Tipos de datos básicos en Python](#Tipos-de-datos-básicos-en-Python)\n",
    "* [Asignación múltiple](#Asignación-múltiple)\n",
    "* [Suma de variables y concatenación de variables](#Suma-de-variables-y-concatenación-de-variables)\n",
    "* [Operadores Aritméticos y redondeo](#Operadores-Aritméticos-y-redondeo)\n",
    "* [Estructuras de control](#Estructuras-de-control)\n",
    "* [Indentación en Python](#Indentación-en-Python)\n",
    "* [Operadores de comparación](#Operadores-de-comparación)\n",
    "* [Operadores Lógicos](#Operadores-Lógicos)\n",
    "* [Estructura de repetición (ciclos)](#Estructura-de-repetición-[ciclos])\n",
    "* [Estructuras de control anidadas](#Estructuras-de-control-anidadas)\n",
    "* [Funciones en Python](#Funciones-en-Python)\n",
    "* [Programación Funcional](#Programación-Funcional)"
   ]
  },
  {
   "cell_type": "markdown",
   "id": "e90288ad-5f93-4b07-8ad9-d2b2cf417a9a",
   "metadata": {},
   "source": [
    "## Introducción"
   ]
  },
  {
   "cell_type": "markdown",
   "id": "d5cd5c16-b0ee-49c3-8bbe-6f2d7a8febdf",
   "metadata": {},
   "source": [
    "Blah del Scrapy"
   ]
  },
  {
   "cell_type": "markdown",
   "id": "713bee2f-4dc9-4efc-834a-d641d47072b5",
   "metadata": {},
   "source": [
    "## Librerías Necesarias "
   ]
  },
  {
   "cell_type": "code",
   "execution_count": 1,
   "id": "61ca2aac-465c-43a5-8f09-3e587af058e6",
   "metadata": {},
   "outputs": [],
   "source": [
    "# Abrir conexiones de una página web\n",
    "import requests\n",
    "# Bella sopa de muchas cosas de HTML\n",
    "from bs4 import BeautifulSoup\n",
    "# Expresiones regulares para filtrar dentro de la sopa\n",
    "import re\n",
    "# Transformar html a texto\n",
    "import html2text\n",
    "# Separar texto en frases (Para el transformer)\n",
    "from sentence_utils import split_into_sentences\n",
    "# Utilidad de resumen y traducción\n",
    "from transformers import pipeline\n",
    "# Conexión con Google News\n",
    "from gnewsclient import gnewsclient\n",
    "# Manejo de vectores\n",
    "import numpy as np"
   ]
  },
  {
   "cell_type": "markdown",
   "id": "6acb57df-762f-453a-a089-b32d92e96c40",
   "metadata": {},
   "source": [
    "[[Volver al inicio]](#Contenido)"
   ]
  },
  {
   "cell_type": "markdown",
   "id": "c5bb799c-9f4f-4236-a3ce-b9f8dc6e0f66",
   "metadata": {},
   "source": [
    "##  Extraer Noticias de Google News"
   ]
  },
  {
   "cell_type": "markdown",
   "id": "5ec9d11a-54b9-4cbd-a86c-7e0ebede90d9",
   "metadata": {},
   "source": [
    "Es posible extraer noticias asociadas a [Google News](https://news.google.com/), usando la herramienta [`gnewsclient`](https://pypi.org/project/gnewsclient/), desarrollada por Nikhil Kumar Singh.\n",
    "\n",
    "Es una herramienta bastante intuitiva de usar.\n",
    "\n",
    "Considere que haremos un **Web Scraping** de una página que hace Web Scraping de noticias, utilizando los motores de Google."
   ]
  },
  {
   "cell_type": "code",
   "execution_count": 2,
   "id": "7c10867c-aed8-4f21-837a-cabc45303b28",
   "metadata": {},
   "outputs": [],
   "source": [
    "# Inicializar el objeto gnewsclient\n",
    "client = gnewsclient.NewsClient()"
   ]
  },
  {
   "cell_type": "markdown",
   "id": "a68ae545-59c1-4546-b93b-8e1dd76f1583",
   "metadata": {},
   "source": [
    "Como observamos a continuación, el cliente tiene algunas propiedades y métodos útiles:"
   ]
  },
  {
   "cell_type": "code",
   "execution_count": 3,
   "id": "5a346c60-e0b9-440b-9850-49cd51f577d9",
   "metadata": {},
   "outputs": [
    {
     "name": "stdout",
     "output_type": "stream",
     "text": [
      "['__class__', '__delattr__', '__dict__', '__dir__', '__doc__', '__eq__', '__format__', '__ge__', '__getattribute__', '__gt__', '__hash__', '__init__', '__init_subclass__', '__le__', '__lt__', '__module__', '__ne__', '__new__', '__reduce__', '__reduce_ex__', '__repr__', '__setattr__', '__sizeof__', '__str__', '__subclasshook__', '__weakref__', 'get_config', 'get_news', 'language', 'languages', 'location', 'locations', 'max_results', 'params_dict', 'parse_feed', 'topic', 'topics', 'use_opengraph']\n"
     ]
    }
   ],
   "source": [
    "print(dir(client))"
   ]
  },
  {
   "cell_type": "markdown",
   "id": "cf791713-bb68-463f-a0a1-3d635e2e3972",
   "metadata": {},
   "source": [
    "[[Volver al inicio]](#Contenido)"
   ]
  },
  {
   "cell_type": "markdown",
   "id": "df8db9bd-ee16-4945-8cfc-b7334b172d2a",
   "metadata": {},
   "source": [
    "## Propiedades del Cliente de Noticias"
   ]
  },
  {
   "cell_type": "markdown",
   "id": "d10908e4-2852-43d9-b73e-6ef75985014d",
   "metadata": {},
   "source": [
    "Podemos observar que tenemos varios países a disposición:"
   ]
  },
  {
   "cell_type": "code",
   "execution_count": 4,
   "id": "f5ca2a6d-7e0b-4156-9328-cd05afb6bfa7",
   "metadata": {},
   "outputs": [
    {
     "name": "stdout",
     "output_type": "stream",
     "text": [
      "['Australia', 'Botswana', 'Canada ', 'Ethiopia', 'Ghana', 'India ', 'Indonesia', 'Ireland', 'Israel ', 'Kenya', 'Latvia', 'Malaysia', 'Namibia', 'New Zealand', 'Nigeria', 'Pakistan', 'Philippines', 'Singapore', 'South Africa', 'Tanzania', 'Uganda', 'United Kingdom', 'United States', 'Zimbabwe', 'Czech Republic', 'Germany', 'Austria', 'Switzerland', 'Argentina', 'Chile', 'Colombia', 'Cuba', 'Mexico', 'Peru', 'Venezuela', 'Belgium ', 'France', 'Morocco', 'Senegal', 'Italy', 'Lithuania', 'Hungary', 'Netherlands', 'Norway', 'Poland', 'Brazil', 'Portugal', 'Romania', 'Slovakia', 'Slovenia', 'Sweden', 'Vietnam', 'Turkey', 'Greece', 'Bulgaria', 'Russia', 'Ukraine ', 'Serbia', 'United Arab Emirates', 'Saudi Arabia', 'Lebanon', 'Egypt', 'Bangladesh', 'Thailand', 'China', 'Taiwan', 'Hong Kong', 'Japan', 'Republic of Korea']\n"
     ]
    }
   ],
   "source": [
    "print(client.locations)"
   ]
  },
  {
   "cell_type": "code",
   "execution_count": 5,
   "id": "ccee23a1-4618-498d-a5c4-c7cf8b2c834a",
   "metadata": {},
   "outputs": [
    {
     "name": "stdout",
     "output_type": "stream",
     "text": [
      "Países Disponibles: 69\n"
     ]
    }
   ],
   "source": [
    "print(f'Países Disponibles: {len(client.locations)}')"
   ]
  },
  {
   "cell_type": "markdown",
   "id": "8b0300e2-806a-4229-b031-a04234de1a31",
   "metadata": {},
   "source": [
    "Además, podemos minar en diferentes idiomas también:"
   ]
  },
  {
   "cell_type": "code",
   "execution_count": 6,
   "id": "21885c13-7703-48c6-aba6-80b81efccb38",
   "metadata": {},
   "outputs": [
    {
     "name": "stdout",
     "output_type": "stream",
     "text": [
      "['english', 'indonesian', 'czech', 'german', 'spanish', 'french', 'italian', 'latvian', 'lithuanian', 'hungarian', 'dutch', 'norwegian', 'polish', 'portuguese brasil', 'portuguese portugal', 'romanian', 'slovak', 'slovenian', 'swedish', 'vietnamese', 'turkish', 'greek', 'bulgarian', 'russian', 'serbian', 'ukrainian', 'hebrew', 'arabic', 'marathi', 'hindi', 'bengali', 'tamil', 'telugu', 'malyalam', 'thai', 'chinese simplified', 'chinese traditional', 'japanese', 'korean']\n"
     ]
    }
   ],
   "source": [
    "print(client.languages)"
   ]
  },
  {
   "cell_type": "code",
   "execution_count": 7,
   "id": "9851ce7a-098f-4c65-9d2e-b6815fc50033",
   "metadata": {},
   "outputs": [
    {
     "name": "stdout",
     "output_type": "stream",
     "text": [
      "Idiomas Disponibles: 39\n"
     ]
    }
   ],
   "source": [
    "print(f'Idiomas Disponibles: {len(client.languages)}')"
   ]
  },
  {
   "cell_type": "markdown",
   "id": "2e5c637a-8356-4e73-b754-bfd2020fe793",
   "metadata": {},
   "source": [
    "Podemos también elegir entre diferentes temas disponibles:"
   ]
  },
  {
   "cell_type": "code",
   "execution_count": 8,
   "id": "a08d97f2-8a6f-4659-957e-7a01b3a86c38",
   "metadata": {},
   "outputs": [
    {
     "name": "stdout",
     "output_type": "stream",
     "text": [
      "['Top Stories', 'World', 'Nation', 'Business', 'Technology', 'Entertainment', 'Sports', 'Science', 'Health']\n"
     ]
    }
   ],
   "source": [
    "# Mostrar Tópicos disponibles\n",
    "topicos = client.topics\n",
    "print(topicos)"
   ]
  },
  {
   "cell_type": "markdown",
   "id": "1bcba9cc-455b-4f88-8d27-d1095c63dce3",
   "metadata": {},
   "source": [
    "Tal vez, el método más importante de este paquete es **`get_news()`**, que busca por las noticias solicitadas en la web a través de Google."
   ]
  },
  {
   "cell_type": "code",
   "execution_count": 9,
   "id": "3c2779b2-d66f-4fbf-b784-a412e52d68e0",
   "metadata": {},
   "outputs": [
    {
     "data": {
      "text/plain": [
       "[{'title': 'There is a manhunt for parents of the Michigan high school shooting suspect - CNN',\n",
       "  'link': 'https://news.google.com/__i/rss/rd/articles/CBMiaGh0dHBzOi8vd3d3LmNubi5jb20vMjAyMS8xMi8wMy91cy9taWNoaWdhbi1veGZvcmQtaGlnaC1zY2hvb2wtc2hvb3Rpbmctc3VwZXJpbnRlbmRlbnQtbWVzc2FnZS9pbmRleC5odG1s0gFsaHR0cHM6Ly9hbXAuY25uLmNvbS9jbm4vMjAyMS8xMi8wMy91cy9taWNoaWdhbi1veGZvcmQtaGlnaC1zY2hvb2wtc2hvb3Rpbmctc3VwZXJpbnRlbmRlbnQtbWVzc2FnZS9pbmRleC5odG1s?oc=5',\n",
       "  'media': None},\n",
       " {'title': \"Jurors at Maxwell trial shown Epstein's massage table, photo of sex toys - Reuters\",\n",
       "  'link': 'https://news.google.com/__i/rss/rd/articles/CBMidWh0dHBzOi8vd3d3LnJldXRlcnMuY29tL3dvcmxkL3VzL2doaXNsYWluZS1tYXh3ZWxscy1sYXd5ZXJzLWdyaWxsLWV4LWVwc3RlaW4tZW1wbG95ZWUtd2hvLXRlc3RpZmllZC1hYm91dC0yMDIxLTEyLTAzL9IBAA?oc=5',\n",
       "  'media': None},\n",
       " {'title': 'Omicron Variant Spreading Twice as Quickly as Delta in South Africa - The New York Times',\n",
       "  'link': 'https://news.google.com/__i/rss/rd/articles/CBMiWmh0dHBzOi8vd3d3Lm55dGltZXMuY29tLzIwMjEvMTIvMDMvaGVhbHRoL2Nvcm9uYXZpcnVzLW9taWNyb24tdmFjY2luZXMtY29udGFnaW91c25lc3MuaHRtbNIBXmh0dHBzOi8vd3d3Lm55dGltZXMuY29tLzIwMjEvMTIvMDMvaGVhbHRoL2Nvcm9uYXZpcnVzLW9taWNyb24tdmFjY2luZXMtY29udGFnaW91c25lc3MuYW1wLmh0bWw?oc=5',\n",
       "  'media': None},\n",
       " {'title': 'US Marshals post $10K reward for info leading to arrest of Jennifer and James Crumbley - FOX 2 Detroit',\n",
       "  'link': 'https://news.google.com/__i/rss/rd/articles/CBMiigFodHRwczovL3d3dy5mb3gyZGV0cm9pdC5jb20vbmV3cy9wcm9zZWN1dG9yLXNjb2xkcy1wYXJlbnRzLW9mLWFsbGVnZWQtc2Nob29sLXNob290ZXItYXMtY29udGludW91c2x5LWlycmVzcG9uc2libGUtYXMtdGhleS1yZW1haW4tYXQtbGFyZ2XSAY4BaHR0cHM6Ly93d3cuZm94MmRldHJvaXQuY29tL25ld3MvcHJvc2VjdXRvci1zY29sZHMtcGFyZW50cy1vZi1hbGxlZ2VkLXNjaG9vbC1zaG9vdGVyLWFzLWNvbnRpbnVvdXNseS1pcnJlc3BvbnNpYmxlLWFzLXRoZXktcmVtYWluLWF0LWxhcmdlLmFtcA?oc=5',\n",
       "  'media': None},\n",
       " {'title': \"Maryland home burns down during owner's ill-fated snake fight - NBC News\",\n",
       "  'link': 'https://news.google.com/__i/rss/rd/articles/CBMiXmh0dHBzOi8vd3d3Lm5iY25ld3MuY29tL25ld3MvdXMtbmV3cy9tYXJ5bGFuZC1ob21lLWJ1cm5zLW93bmVycy1pbGwtZmF0ZWQtc25ha2UtZmlnaHQtcmNuYTc1NzHSASlodHRwczovL3d3dy5uYmNuZXdzLmNvbS9uZXdzL2FtcC9yY25hNzU3MQ?oc=5',\n",
       "  'media': None},\n",
       " {'title': \"The Disgusting Reality Behind Ron DeSantis New 'Army' - The Daily Beast\",\n",
       "  'link': 'https://news.google.com/__i/rss/rd/articles/CBMiUWh0dHBzOi8vd3d3LnRoZWRhaWx5YmVhc3QuY29tL3RoZS1kaXNndXN0aW5nLXJlYWxpdHktYmVoaW5kLXJvbi1kZXNhbnRpcy1uZXctYXJtedIBAA?oc=5',\n",
       "  'media': None},\n",
       " {'title': \"Forecasted blizzard in Hawaii could be the state's first since 2018 - CBS News\",\n",
       "  'link': 'https://news.google.com/__i/rss/rd/articles/CBMiVmh0dHBzOi8vd3d3LmNic25ld3MuY29tL25ld3MvaGF3YWlpLWJsaXp6YXJkLXdhcm5pbmctY291bGQtYmUtc3RhdGVzLWZpcnN0LXNpbmNlLTIwMTgv0gFaaHR0cHM6Ly93d3cuY2JzbmV3cy5jb20vYW1wL25ld3MvaGF3YWlpLWJsaXp6YXJkLXdhcm5pbmctY291bGQtYmUtc3RhdGVzLWZpcnN0LXNpbmNlLTIwMTgv?oc=5',\n",
       "  'media': None},\n",
       " {'title': 'Friends who attended anime convention with man who contracted omicron have tested positive for coronavirus, health official says - The Washington Post',\n",
       "  'link': 'https://news.google.com/__i/rss/rd/articles/CBMiSWh0dHBzOi8vd3d3Lndhc2hpbmd0b25wb3N0LmNvbS9oZWFsdGgvMjAyMS8xMi8wMy9ueWMtYW5pbWUtY292aWQtb21pY3Jvbi_SAQA?oc=5',\n",
       "  'media': None},\n",
       " {'title': 'Suspect in Mass Killing at Colorado Grocery Store Is Mentally Incompetent, Judge Says - The New York Times',\n",
       "  'link': 'https://news.google.com/__i/rss/rd/articles/CBMiWGh0dHBzOi8vd3d3Lm55dGltZXMuY29tLzIwMjEvMTIvMDMvdXMvYm91bGRlci1zaG9vdGluZy1zdXNwZWN0LW1lbnRhbGx5LWluY29tcGV0ZW50Lmh0bWzSAVxodHRwczovL3d3dy5ueXRpbWVzLmNvbS8yMDIxLzEyLzAzL3VzL2JvdWxkZXItc2hvb3Rpbmctc3VzcGVjdC1tZW50YWxseS1pbmNvbXBldGVudC5hbXAuaHRtbA?oc=5',\n",
       "  'media': None},\n",
       " {'title': \"Justice's adoption questioning draws controversy at Supreme Court abortion hearing - ABC News\",\n",
       "  'link': 'https://news.google.com/__i/rss/rd/articles/CBMibWh0dHBzOi8vYWJjbmV3cy5nby5jb20vR01BL1dlbGxuZXNzL2FteS1jb25leS1iYXJyZXR0LXJhaXNlcy1hZG9wdGlvbi1hYm9ydGlvbi1jYXNlLWhlYXJpbmcvc3Rvcnk_aWQ9ODE1MTk0NzPSAXJodHRwczovL2dvb2Rtb3JuaW5nYW1lcmljYS5jb20vYW1wL3dlbGxuZXNzL3N0b3J5L2FteS1jb25leS1iYXJyZXR0LXJhaXNlcy1hZG9wdGlvbi1hYm9ydGlvbi1jYXNlLWhlYXJpbmctODE1MTk0NzM?oc=5',\n",
       "  'media': None}]"
      ]
     },
     "execution_count": 9,
     "metadata": {},
     "output_type": "execute_result"
    }
   ],
   "source": [
    "# Obtener las noticias del cliente\n",
    "noticias = client.get_news()\n",
    "noticias"
   ]
  },
  {
   "cell_type": "markdown",
   "id": "6884d980-b3ec-467b-8b72-110631a5f040",
   "metadata": {},
   "source": [
    "[[Volver al inicio]](#Contenido)"
   ]
  },
  {
   "cell_type": "markdown",
   "id": "66518feb-2f35-4d36-9708-a9b90d707ce8",
   "metadata": {
    "tags": []
   },
   "source": [
    "## Fijar parámetros del Cliente "
   ]
  },
  {
   "cell_type": "markdown",
   "id": "d7d50fe4-e5fb-4b82-943b-6f5f5d90e8ba",
   "metadata": {},
   "source": [
    "Podemos elegir entre tópicos de a lista y pasarlos al cliente:"
   ]
  },
  {
   "cell_type": "code",
   "execution_count": 21,
   "id": "03d3f209-5278-408e-97f0-97884985a49a",
   "metadata": {},
   "outputs": [
    {
     "name": "stdout",
     "output_type": "stream",
     "text": [
      "['Top Stories', 'World', 'Nation', 'Business', 'Technology', 'Entertainment', 'Sports', 'Science', 'Health']\n"
     ]
    }
   ],
   "source": [
    "print(topicos)"
   ]
  },
  {
   "cell_type": "code",
   "execution_count": 22,
   "id": "fed161e2-0ffa-4b97-a19c-371cde08f8a3",
   "metadata": {},
   "outputs": [],
   "source": [
    "# Elegir de tópicos discponibles\n",
    "client.topic = topicos[-1]"
   ]
  },
  {
   "cell_type": "code",
   "execution_count": 23,
   "id": "be029a17-f900-41c1-93bd-3e0cf59e2ce6",
   "metadata": {},
   "outputs": [
    {
     "name": "stdout",
     "output_type": "stream",
     "text": [
      "['english', 'indonesian', 'czech', 'german', 'spanish', 'french', 'italian', 'latvian', 'lithuanian', 'hungarian', 'dutch', 'norwegian', 'polish', 'portuguese brasil', 'portuguese portugal', 'romanian', 'slovak', 'slovenian', 'swedish', 'vietnamese', 'turkish', 'greek', 'bulgarian', 'russian', 'serbian', 'ukrainian', 'hebrew', 'arabic', 'marathi', 'hindi', 'bengali', 'tamil', 'telugu', 'malyalam', 'thai', 'chinese simplified', 'chinese traditional', 'japanese', 'korean']\n"
     ]
    }
   ],
   "source": [
    "print(client.languages)"
   ]
  },
  {
   "cell_type": "markdown",
   "id": "ccd314c2-4612-4836-8eaa-c8a338d809a7",
   "metadata": {},
   "source": [
    "Podemos también elegir el idioma de nuestro interés:"
   ]
  },
  {
   "cell_type": "code",
   "execution_count": 24,
   "id": "8e8d9988-b0ca-4425-9ad7-3178068c8804",
   "metadata": {},
   "outputs": [],
   "source": [
    "client.language = 'greek'"
   ]
  },
  {
   "cell_type": "code",
   "execution_count": 25,
   "id": "07e5fc15-de31-4cc8-b5df-3e3513232293",
   "metadata": {},
   "outputs": [
    {
     "data": {
      "text/plain": [
       "[{'title': 'Απρόβλεπτος κίνδυνος; Φόβοι για παγκόσμια έξαρση της ιλαράς λόγω COVID - SKAI',\n",
       "  'link': 'https://news.google.com/__i/rss/rd/articles/CBMiZmh0dHBzOi8vd3d3LnNrYWkuZ3IvbmV3cy9oZWFsdGgvYXByb3ZsZXB0b3Mta2luZHlub3MtZm92b2ktZ2lhLXBhZ2tvc21pYS1la3NhcnNpLXRpcy1pbGFyYXMtbG9nby1jb3ZpZNIBamh0dHBzOi8vd3d3LnNrYWkuZ3IvbmV3cy9oZWFsdGgvYXByb3ZsZXB0b3Mta2luZHlub3MtZm92b2ktZ2lhLXBhZ2tvc21pYS1la3NhcnNpLXRpcy1pbGFyYXMtbG9nby1jb3ZpZC9hbXA?oc=5',\n",
       "  'media': None},\n",
       " {'title': 'Κορονοϊός: «Άγνωστο αν θα χρειαστεί και τέταρτη δόση εμβολίου» - Newsit',\n",
       "  'link': 'https://news.google.com/__i/rss/rd/articles/CBMiYmh0dHBzOi8vd3d3Lm5ld3NpdC5nci9lbGxhZGEva29yb25vaW9zLWFnbm9zdG8tYW4tdGhhLXhyZWlhc3RlaS1rYWktdGV0YXJ0aS1kb3NpLWVtdm9saW91LzM0MjE2MTEv0gFmaHR0cHM6Ly93d3cubmV3c2l0LmdyL2VsbGFkYS9rb3Jvbm9pb3MtYWdub3N0by1hbi10aGEteHJlaWFzdGVpLWthaS10ZXRhcnRpLWRvc2ktZW12b2xpb3UvMzQyMTYxMS9hbXAv?oc=5',\n",
       "  'media': None},\n",
       " {'title': 'Αλτσχάιμερ, στειρότητα, DNA και το εμβόλιο που... σε κάνει μαγνήτη, τα fake news που διακινήθηκαν μέσω Internet - Πρώτο ΘΕΜΑ',\n",
       "  'link': 'https://news.google.com/__i/rss/rd/articles/CBMinAFodHRwczovL3d3dy5wcm90b3RoZW1hLmdyL2dyZWVjZS9hcnRpY2xlLzExODgzMzYvYWx0c2hhaW1lci1zdGVpcm90aXRhLWRuYS1rYWktdG8tZW12b2xpby1wb3Utc2Uta2FuZWktbWFnbml0aS10YS1mYWtlLW5ld3MtcG91LWRpYWtpbml0aGlrYW4tbWVzby1pbnRlcm5ldC_SAaABaHR0cHM6Ly93d3cucHJvdG90aGVtYS5nci9ncmVlY2UvYXJ0aWNsZS8xMTg4MzM2L2FsdHNoYWltZXItc3RlaXJvdGl0YS1kbmEta2FpLXRvLWVtdm9saW8tcG91LXNlLWthbmVpLW1hZ25pdGktdGEtZmFrZS1uZXdzLXBvdS1kaWFraW5pdGhpa2FuLW1lc28taW50ZXJuZXQvQU1QLw?oc=5',\n",
       "  'media': None},\n",
       " {'title': 'Ενα κρυολόγημα ίσως έκανε κάποιους «άτρωτους» στον Covid-19 - Το Βήμα Online',\n",
       "  'link': 'https://news.google.com/__i/rss/rd/articles/CBMiY2h0dHBzOi8vd3d3LnRvdmltYS5nci8yMDIxLzEyLzA0L3NjaWVuY2UvZW5hLWtyeW9sb2dpbWEtaXNvcy1la2FuZS1rYXBvaW91cy1hdHJvdG91cy1zdG9uLWNvdmlkLTE5L9IBZ2h0dHBzOi8vd3d3LnRvdmltYS5nci8yMDIxLzEyLzA0L3NjaWVuY2UvZW5hLWtyeW9sb2dpbWEtaXNvcy1la2FuZS1rYXBvaW91cy1hdHJvdG91cy1zdG9uLWNvdmlkLTE5L2FtcC8?oc=5',\n",
       "  'media': None},\n",
       " {'title': 'Πάνω από 17.000 κρούσματα στην Ιταλία το τελευταίο 24ωρο - Πρώτο ΘΕΜΑ',\n",
       "  'link': 'https://news.google.com/__i/rss/rd/articles/CBMiaGh0dHBzOi8vd3d3LnByb3RvdGhlbWEuZ3Ivd29ybGQvYXJ0aWNsZS8xMTg4MjU1L3Bhbm8tYXBvLTE3MDAwLWtyb3VzbWF0YS1zdGluLWl0YWxpYS10by10ZWxldXRhaW8tMjRvcm8v0gFsaHR0cHM6Ly93d3cucHJvdG90aGVtYS5nci93b3JsZC9hcnRpY2xlLzExODgyNTUvcGFuby1hcG8tMTcwMDAta3JvdXNtYXRhLXN0aW4taXRhbGlhLXRvLXRlbGV1dGFpby0yNG9yby9BTVAv?oc=5',\n",
       "  'media': None},\n",
       " {'title': 'Εμβόλιο Astrazeneca: Επιστήμονες βρήκαν το «συστατικό» που προκαλεί τις θρομβώσεις - TVXS - TV Χωρίς Σύνορα',\n",
       "  'link': 'https://news.google.com/__i/rss/rd/articles/CBMiaWh0dHBzOi8vdHZ4cy5nci9uZXdzL2tvc21vcy9lbWJvbGlvLWFzdHJhemVuZWNhLWVwaXN0aW1vbmVzLWJyaWthbi1zeXN0YXRpa28tcG95LXByb2thbGVpLXRpcy10aHJvbWJvc2Vpc9IBAA?oc=5',\n",
       "  'media': None},\n",
       " {'title': 'Κορονοϊός: Εμβόλιο κάθε χρόνο προτείνει η BioNTech - NEWS 24/7',\n",
       "  'link': 'https://news.google.com/__i/rss/rd/articles/CBMiXWh0dHBzOi8vd3d3Lm5ld3MyNDcuZ3IveWdlaWEva29yb25vaW9zLWVtdm9saW8ta2F0aGUtY2hyb25vLXByb3RlaW5laS1pLWJpb250ZWNoLjk0NDg0MDQuaHRtbNIBYWh0dHBzOi8vd3d3Lm5ld3MyNDcuZ3IveWdlaWEva29yb25vaW9zLWVtdm9saW8ta2F0aGUtY2hyb25vLXByb3RlaW5laS1pLWJpb250ZWNoLjk0NDg0MDQuYW1wLmh0bWw?oc=5',\n",
       "  'media': None},\n",
       " {'title': 'Αυτές οι σούπες συμβάλλουν στην ταχύτερη απώλεια βάρους, σύμφωνα με επιστημονικά στοιχεία - Iatropedia',\n",
       "  'link': 'https://news.google.com/__i/rss/rd/articles/CBMihQFodHRwczovL3d3dy5pYXRyb3BlZGlhLmdyL2RpYXRyb2ZpL2FmdGVzLW9pLXNvdXBlcy1zeW12YWxsb3VuLXN0aW4tdGFjaHl0ZXJpLWFwb2xlaWEtdmFyb3VzLXN5bWZvbmEtbWUtZXBpc3RpbW9uaWthLXN0b2ljaGVpYS8xNDk4Mzcv0gGJAWh0dHBzOi8vd3d3LmlhdHJvcGVkaWEuZ3IvZGlhdHJvZmkvYWZ0ZXMtb2ktc291cGVzLXN5bXZhbGxvdW4tc3Rpbi10YWNoeXRlcmktYXBvbGVpYS12YXJvdXMtc3ltZm9uYS1tZS1lcGlzdGltb25pa2Etc3RvaWNoZWlhLzE0OTgzNy9hbXAv?oc=5',\n",
       "  'media': None},\n",
       " {'title': 'Πανδημία – Μελέτη του Χάρβαρντ προβλέπει παραλλαγές με πλήρη διαφυγή από τα εμβόλια - Τα Νέα Οnline',\n",
       "  'link': 'https://news.google.com/__i/rss/rd/articles/CBMieWh0dHBzOi8vd3d3LnRhbmVhLmdyLzIwMjEvMTIvMDMvaGVhbHRoL3BhbmRpbWlhLW1lbGV0aS10b3UteGFydmFybnQtcHJvdmxlcGVpLXBhcmFsbGFnZXMtbWUtcGxpcmktZGlhZnlnaS1hcG8tdGEtZW12b2xpYS_SAX1odHRwczovL3d3dy50YW5lYS5nci8yMDIxLzEyLzAzL2hlYWx0aC9wYW5kaW1pYS1tZWxldGktdG91LXhhcnZhcm50LXByb3ZsZXBlaS1wYXJhbGxhZ2VzLW1lLXBsaXJpLWRpYWZ5Z2ktYXBvLXRhLWVtdm9saWEvYW1wLw?oc=5',\n",
       "  'media': None},\n",
       " {'title': 'Η σημασία του ιικού φορτίου για τη μετάδοση του κορωνοϊού και η επίδραση των εμβολίων - Zougla',\n",
       "  'link': 'https://news.google.com/__i/rss/rd/articles/CBMiigFodHRwczovL3d3dy56b3VnbGEuZ3IveWdlaWEvcGE4aXNpcy0tLXByb2xpcHNpL2FydGljbGUvaS1zaW1hc2lhLXRvdS1pa291LWZvcnRpb3UtZ2lhLXRpLW1ldGFkb3NpLXRvdS1rb3Jvbm9pb3Uta2UtaS1lcGlkcmFzaS10b24tZW12b2xpb27SAQA?oc=5',\n",
       "  'media': None}]"
      ]
     },
     "execution_count": 25,
     "metadata": {},
     "output_type": "execute_result"
    }
   ],
   "source": [
    "client.get_news()"
   ]
  },
  {
   "cell_type": "markdown",
   "id": "90663c11-81d3-404f-a032-950a33d421ff",
   "metadata": {},
   "source": [
    "También es posible iniciar el cliente con parámetros fijos desde el principio:"
   ]
  },
  {
   "cell_type": "code",
   "execution_count": 171,
   "id": "a620138a-d2de-4e5c-a6e8-092f3d55e982",
   "metadata": {},
   "outputs": [],
   "source": [
    "# Con opengraph se puede filtrar el medio de comunicación\n",
    "client = gnewsclient.NewsClient(location='Colombia', language='spanish', topic='Nation', use_opengraph=True, max_results=10)\n",
    "# Obtener noticias\n",
    "noticias = client.get_news()"
   ]
  },
  {
   "cell_type": "code",
   "execution_count": 172,
   "id": "2209e1d9-a8d6-4166-af13-523176a73b9e",
   "metadata": {},
   "outputs": [
    {
     "name": "stdout",
     "output_type": "stream",
     "text": [
      "{'url': 'https://www.lapatria.com/salud/colombia-pasa-de-25-millones-de-personas-con-esquema-completo-de-vacunacion-484194', 'site_name': None, 'title': 'Colombia pasa de 25 millones de personas con esquema completo de vacunación - La Patria.com', 'description': 'El país llegó a 25.028.663 personas con el esquema completo el jueves, según el reporte del Ministerio de Salud de este sábado.', 'image': 'https://www.lapatria.com/sites/default/files/imagenprincipal/2021/Diciembre/5bf4ca9cb9b1a4e8806bbf90cf2c801f31ff6dc6miniw.jpeg', 'type': 'article', 'determiner': 'auto', 'image:secure_url': 'https://www.lapatria.com/sites/default/files/imagenprincipal/2021/Diciembre/5bf4ca9cb9b1a4e8806bbf90cf2c801f31ff6dc6miniw.jpeg', 'image:type': 'image/jpeg', 'locality': 'Manizales', 'region': 'Caldas', 'country_name': 'Colombia', 'image_width': 150, 'image_height': 150, 'link': 'https://news.google.com/__i/rss/rd/articles/CBMicWh0dHBzOi8vd3d3LmxhcGF0cmlhLmNvbS9zYWx1ZC9jb2xvbWJpYS1wYXNhLWRlLTI1LW1pbGxvbmVzLWRlLXBlcnNvbmFzLWNvbi1lc3F1ZW1hLWNvbXBsZXRvLWRlLXZhY3VuYWNpb24tNDg0MTk00gF2aHR0cDovL3d3dy5sYXBhdHJpYS5jb20vc2FsdWQvY29sb21iaWEtcGFzYS1kZS0yNS1taWxsb25lcy1kZS1wZXJzb25hcy1jb24tZXNxdWVtYS1jb21wbGV0by1kZS12YWN1bmFjaW9uLTQ4NDE5ND9hbXA9MQ?oc=5', 'media': None}\n"
     ]
    }
   ],
   "source": [
    "print(np.random.choice(noticias))"
   ]
  },
  {
   "cell_type": "markdown",
   "id": "e390d221-4a07-4ded-8a3a-18a3237efdbc",
   "metadata": {},
   "source": [
    "Note que el uso de **openGraph** nos permite obtener más características de las noticias, tales como imágenes asociadas, descripciones y tipo de noticia."
   ]
  },
  {
   "cell_type": "code",
   "execution_count": 173,
   "id": "984668f3-89c2-4066-a012-2e44be76e27a",
   "metadata": {},
   "outputs": [
    {
     "name": "stdout",
     "output_type": "stream",
     "text": [
      "dict_keys(['url', 'site_name', 'title', 'description', 'image', 'locale', 'locale:alternate', 'type', 'image:url', 'image:type', 'video', 'video:type', 'video:width', 'video:height', 'image_width', 'image_height', 'link', 'media'])\n"
     ]
    }
   ],
   "source": [
    "print(noticias[0].keys())"
   ]
  },
  {
   "cell_type": "code",
   "execution_count": 176,
   "id": "b04f82fb-e87d-4ef0-ab30-56be5e03e437",
   "metadata": {},
   "outputs": [
    {
     "name": "stdout",
     "output_type": "stream",
     "text": [
      "El Tiempo\n",
      "Por 1.ª vez Colombia vota este domingo los Consejos Municipales de Juventud - ElTiempo.com\n",
      "https://www.eltiempo.com/politica/gobierno/por-1-vez-colombia-vota-este-domingo-los-consejos-municipales-de-juventud-636611\n",
      "https://news.google.com/__i/rss/rd/articles/CBMie2h0dHBzOi8vd3d3LmVsdGllbXBvLmNvbS9wb2xpdGljYS9nb2JpZXJuby9wb3ItMS12ZXotY29sb21iaWEtdm90YS1lc3RlLWRvbWluZ28tbG9zLWNvbnNlam9zLW11bmljaXBhbGVzLWRlLWp1dmVudHVkLTYzNjYxMdIBf2h0dHBzOi8vd3d3LmVsdGllbXBvLmNvbS9hbXAvcG9saXRpY2EvZ29iaWVybm8vcG9yLTEtdmV6LWNvbG9tYmlhLXZvdGEtZXN0ZS1kb21pbmdvLWxvcy1jb25zZWpvcy1tdW5pY2lwYWxlcy1kZS1qdXZlbnR1ZC02MzY2MTE?oc=5\n",
      "\n",
      "Portafolio.co\n",
      "Muertes diarias por covid, abajo de 50 por segundo día consecutivo - Portafolio.co\n",
      "https://www.portafolio.co/economia/casos-contagios-coronavirus-en-colombia-hoy-sabado-04-de-diciembre-de-2021-559312\n",
      "https://news.google.com/__i/rss/rd/articles/CBMidGh0dHBzOi8vd3d3LnBvcnRhZm9saW8uY28vZWNvbm9taWEvY2Fzb3MtY29udGFnaW9zLWNvcm9uYXZpcnVzLWVuLWNvbG9tYmlhLWhveS1zYWJhZG8tMDQtZGUtZGljaWVtYnJlLWRlLTIwMjEtNTU5MzEy0gF4aHR0cHM6Ly93d3cucG9ydGFmb2xpby5jby9hbXAvZWNvbm9taWEvY2Fzb3MtY29udGFnaW9zLWNvcm9uYXZpcnVzLWVuLWNvbG9tYmlhLWhveS1zYWJhZG8tMDQtZGUtZGljaWVtYnJlLWRlLTIwMjEtNTU5MzEy?oc=5\n",
      "\n",
      "pulzo.com\n",
      "Luis Carlos Sarmiento Angulo revela la fortuna que paga en impuestos en Colombia - Pulzo\n",
      "https://www.pulzo.com/economia/cuanto-paga-luis-carlos-sarmiento-angulo-impuestos-colombia-PP1096928\n",
      "https://news.google.com/__i/rss/rd/articles/CBMiZGh0dHBzOi8vd3d3LnB1bHpvLmNvbS9lY29ub21pYS9jdWFudG8tcGFnYS1sdWlzLWNhcmxvcy1zYXJtaWVudG8tYW5ndWxvLWltcHVlc3Rvcy1jb2xvbWJpYS1QUDEwOTY5MjjSAWhodHRwczovL3d3dy5wdWx6by5jb20vYW1wL2Vjb25vbWlhL2N1YW50by1wYWdhLWx1aXMtY2FybG9zLXNhcm1pZW50by1hbmd1bG8taW1wdWVzdG9zLWNvbG9tYmlhLVBQMTA5NjkyOA?oc=5\n",
      "\n",
      "None\n",
      "Colombia pasa de 25 millones de personas con esquema completo de vacunación - La Patria.com\n",
      "https://www.lapatria.com/salud/colombia-pasa-de-25-millones-de-personas-con-esquema-completo-de-vacunacion-484194\n",
      "https://news.google.com/__i/rss/rd/articles/CBMicWh0dHBzOi8vd3d3LmxhcGF0cmlhLmNvbS9zYWx1ZC9jb2xvbWJpYS1wYXNhLWRlLTI1LW1pbGxvbmVzLWRlLXBlcnNvbmFzLWNvbi1lc3F1ZW1hLWNvbXBsZXRvLWRlLXZhY3VuYWNpb24tNDg0MTk00gF2aHR0cDovL3d3dy5sYXBhdHJpYS5jb20vc2FsdWQvY29sb21iaWEtcGFzYS1kZS0yNS1taWxsb25lcy1kZS1wZXJzb25hcy1jb24tZXNxdWVtYS1jb21wbGV0by1kZS12YWN1bmFjaW9uLTQ4NDE5ND9hbXA9MQ?oc=5\n",
      "\n",
      "www.elcolombiano.com\n",
      "¡Dos reformas tributarias! Billonarias ventas de los Días sin IVA 2021 - El Colombiano\n",
      "https://www.elcolombiano.com/negocios/dia-sin-iva-2021-tuvoi-ventas-de-mas-de-30-billones-KH16115528\n",
      "https://news.google.com/__i/rss/rd/articles/CBMiZGh0dHBzOi8vd3d3LmVsY29sb21iaWFuby5jb20vbmVnb2Npb3MvZGlhLXNpbi1pdmEtMjAyMS10dXZvaS12ZW50YXMtZGUtbWFzLWRlLTMwLWJpbGxvbmVzLUtIMTYxMTU1MjjSAQA?oc=5\n",
      "\n",
      "infobae\n",
      "Gobierno entrega su cuarto proyecto de cuarta generación que reducirá dos horas de recorrido en el nordeste antioqueño - infobae América\n",
      "/america/colombia/2021/12/05/gobierno-entrega-su-cuarto-proyecto-de-cuarta-generacion-que-reducira-dos-horas-de-recorrido-en-el-nordeste-antioqueno/\n",
      "https://news.google.com/__i/rss/rd/articles/CBMiqwFodHRwczovL3d3dy5pbmZvYmFlLmNvbS9hbWVyaWNhL2NvbG9tYmlhLzIwMjEvMTIvMDUvZ29iaWVybm8tZW50cmVnYS1zdS1jdWFydG8tcHJveWVjdG8tZGUtY3VhcnRhLWdlbmVyYWNpb24tcXVlLXJlZHVjaXJhLWRvcy1ob3Jhcy1kZS1yZWNvcnJpZG8tZW4tZWwtbm9yZGVzdGUtYW50aW9xdWVuby_SAb8BaHR0cHM6Ly93d3cuaW5mb2JhZS5jb20vYW1lcmljYS9jb2xvbWJpYS8yMDIxLzEyLzA1L2dvYmllcm5vLWVudHJlZ2Etc3UtY3VhcnRvLXByb3llY3RvLWRlLWN1YXJ0YS1nZW5lcmFjaW9uLXF1ZS1yZWR1Y2lyYS1kb3MtaG9yYXMtZGUtcmVjb3JyaWRvLWVuLWVsLW5vcmRlc3RlLWFudGlvcXVlbm8vP291dHB1dFR5cGU9YW1wLXR5cGU?oc=5\n",
      "\n",
      "ELESPECTADOR.COM\n",
      "Álvaro Uribe ratifica a Miguel Uribe Turbay como cabeza de lista al Senado - El Espectador\n",
      "https://www.elespectador.com/politica/alvaro-uribe-ratifica-a-miguel-uribe-turbay-como-cabeza-de-lista-al-senado/\n",
      "https://news.google.com/__i/rss/rd/articles/CBMicWh0dHBzOi8vd3d3LmVsZXNwZWN0YWRvci5jb20vcG9saXRpY2EvYWx2YXJvLXVyaWJlLXJhdGlmaWNhLWEtbWlndWVsLXVyaWJlLXR1cmJheS1jb21vLWNhYmV6YS1kZS1saXN0YS1hbC1zZW5hZG8v0gGAAWh0dHBzOi8vd3d3LmVsZXNwZWN0YWRvci5jb20vcG9saXRpY2EvYWx2YXJvLXVyaWJlLXJhdGlmaWNhLWEtbWlndWVsLXVyaWJlLXR1cmJheS1jb21vLWNhYmV6YS1kZS1saXN0YS1hbC1zZW5hZG8vP291dHB1dFR5cGU9YW1w?oc=5\n",
      "\n",
      "Portafolio.co\n",
      "Aterrizaron en Colombia 1.723.540 nuevas dosis de la vacuna de Moderna - Portafolio.co\n",
      "https://www.portafolio.co/economia/gobierno/aterrizaron-en-colombia-1-723-540-nuevas-dosis-de-vacunas-de-moderna-559320\n",
      "https://news.google.com/__i/rss/rd/articles/CBMid2h0dHBzOi8vd3d3LnBvcnRhZm9saW8uY28vZWNvbm9taWEvZ29iaWVybm8vYXRlcnJpemFyb24tZW4tY29sb21iaWEtMS03MjMtNTQwLW51ZXZhcy1kb3Npcy1kZS12YWN1bmFzLWRlLW1vZGVybmEtNTU5MzIw0gF7aHR0cHM6Ly93d3cucG9ydGFmb2xpby5jby9hbXAvZWNvbm9taWEvZ29iaWVybm8vYXRlcnJpemFyb24tZW4tY29sb21iaWEtMS03MjMtNTQwLW51ZXZhcy1kb3Npcy1kZS12YWN1bmFzLWRlLW1vZGVybmEtNTU5MzIw?oc=5\n",
      "\n",
      "AS Colombia\n",
      "Ingreso Solidario hoy | quién lo cobra, últimas noticias, montos y fechas de pago | 5 de diciembre - AS Colombia\n",
      "https://colombia.as.com/colombia/2021/12/05/actualidad/1638712782_055124.html\n",
      "https://news.google.com/__i/rss/rd/articles/CBMiTWh0dHBzOi8vY29sb21iaWEuYXMuY29tL2NvbG9tYmlhLzIwMjEvMTIvMDUvYWN0dWFsaWRhZC8xNjM4NzEyNzgyXzA1NTEyNC5odG1s0gFRaHR0cHM6Ly9jb2xvbWJpYS5hcy5jb20vY29sb21iaWEvMjAyMS8xMi8wNS9hY3R1YWxpZGFkLzE2Mzg3MTI3ODJfMDU1MTI0LmFtcC5odG1s?oc=5\n",
      "\n",
      "El Tiempo\n",
      "Camión chiva se volcó con 43 personas en Medellín - ElTiempo.com\n",
      "https://www.eltiempo.com/colombia/medellin/medellin-camion-chiva-se-volco-con-43-personas-a-bordo-637025\n",
      "https://news.google.com/__i/rss/rd/articles/CBMiaGh0dHBzOi8vd3d3LmVsdGllbXBvLmNvbS9jb2xvbWJpYS9tZWRlbGxpbi9tZWRlbGxpbi1jYW1pb24tY2hpdmEtc2Utdm9sY28tY29uLTQzLXBlcnNvbmFzLWEtYm9yZG8tNjM3MDI10gFsaHR0cHM6Ly93d3cuZWx0aWVtcG8uY29tL2FtcC9jb2xvbWJpYS9tZWRlbGxpbi9tZWRlbGxpbi1jYW1pb24tY2hpdmEtc2Utdm9sY28tY29uLTQzLXBlcnNvbmFzLWEtYm9yZG8tNjM3MDI1?oc=5\n",
      "\n"
     ]
    }
   ],
   "source": [
    "#Mostrar noticias\n",
    "for noticia in noticias:\n",
    "    print(noticia['site_name'],noticia['title'],noticia['url'],noticia['link'],sep='\\n',end='\\n\\n')"
   ]
  },
  {
   "cell_type": "markdown",
   "id": "03216bc3-770b-443d-aef5-0e28d76c2473",
   "metadata": {},
   "source": [
    "**Observaciones:** No siempre `site_name=None` implica que no se pueda acceder a la noticia:\n",
    "\n",
    "**Ejemplo:**\n",
    "\n",
    "[Lo peor de ómicron, hasta ahora, es la incertidumbre - Yahoo Finanzas](https://news.google.com/__i/rss/rd/articles/CBMiXmh0dHBzOi8vZXMtdXMuZmluYW56YXMueWFob28uY29tL25vdGljaWFzL3Blb3ItJUMzJUIzbWljcm9uLWluY2VydGlkdW1icmUta2x1dGgtMTg0MTExOTA4Lmh0bWzSAWZodHRwczovL2VzLXVzLmZpbmFuemFzLnlhaG9vLmNvbS9hbXBodG1sL25vdGljaWFzL3Blb3ItJUMzJUIzbWljcm9uLWluY2VydGlkdW1icmUta2x1dGgtMTg0MTExOTA4Lmh0bWw?oc=5)"
   ]
  },
  {
   "cell_type": "markdown",
   "id": "108826e8-35c1-4044-8084-99df6f234480",
   "metadata": {},
   "source": [
    "[[Volver al inicio]](#Contenido)"
   ]
  },
  {
   "cell_type": "markdown",
   "id": "3d0bee83-8e0b-46a3-a67b-6df2f9319e18",
   "metadata": {},
   "source": [
    "## Scrapy de Noticias"
   ]
  },
  {
   "cell_type": "markdown",
   "id": "3be1a46d-55b9-4c9a-98d1-a41963c067c4",
   "metadata": {},
   "source": [
    "### Estado de Conexión"
   ]
  },
  {
   "cell_type": "markdown",
   "id": "f728e4cd-5b82-4718-900d-68a524238ae0",
   "metadata": {},
   "source": [
    "Podemos usar la librería `requests` para generar una conexión hacia la página web de la cual queremos extraer la información:"
   ]
  },
  {
   "cell_type": "code",
   "execution_count": 214,
   "id": "1164a6e2-89e1-4301-b9c2-6abca618612b",
   "metadata": {},
   "outputs": [
    {
     "name": "stdout",
     "output_type": "stream",
     "text": [
      "El Tiempo\n",
      "\n",
      "Camión chiva se volcó con 43 personas en Medellín - ElTiempo.com\n",
      "\n",
      "https://www.eltiempo.com/colombia/medellin/medellin-camion-chiva-se-volco-con-43-personas-a-bordo-637025\n",
      "\n",
      "Estado de conexión: 200 OK (200 = OK, 403 = NOT OK)\n"
     ]
    }
   ],
   "source": [
    "# Elegir noticia al azar\n",
    "noticia_elegida = np.random.choice(noticias)\n",
    "# Obtener info importante del diccionario de gnews\n",
    "medio = noticia_elegida['site_name']\n",
    "# nombre del sitio de la noticia\n",
    "titular = noticia_elegida['title']\n",
    "# url de la noticia elegida\n",
    "url = noticia_elegida['url']\n",
    "# Elegir link adecuado, a veces url=None\n",
    "if url==None or re.search('http',url)==None:\n",
    "    # Si no hay info, ir desde Google\n",
    "    url = noticia_elegida['link']\n",
    "# Imprimir info importante\n",
    "print(medio,titular,url,sep='\\n\\n',end='\\n\\n')\n",
    "# Rompe defensa dummy anti-robot: https://stackoverflow.com/questions/38489386/python-requests-403-forbidden\n",
    "headers = {'User-Agent': 'Mozilla/5.0 (Macintosh; Intel Mac OS X 10_11_5) AppleWebKit/537.36 (KHTML, like Gecko) Chrome/50.0.2661.102 Safari/537.36'}\n",
    "# Obtener info de la página web\n",
    "res = requests.get(url,headers=headers)\n",
    "# Mostrar estado de la conexión\n",
    "print(\"Estado de conexión:\", res.status_code,res.reason, \"(200 = OK, 403 = NOT OK)\")"
   ]
  },
  {
   "cell_type": "markdown",
   "id": "e026d7bb-53af-4cf7-9277-01e1d3479ca3",
   "metadata": {},
   "source": [
    "[[Volver al inicio]](#Contenido)"
   ]
  },
  {
   "cell_type": "markdown",
   "id": "c9886d6a-f7bc-40e7-bb2b-efba3f2fd880",
   "metadata": {
    "tags": []
   },
   "source": [
    "### Beautiful Soup"
   ]
  },
  {
   "cell_type": "markdown",
   "id": "a911e984-f360-452f-a47e-9f20f7de9adf",
   "metadata": {},
   "source": [
    "En caso de tener conexión, `requests.content` copiará **todo** en contenido encontrado en la página fuente:"
   ]
  },
  {
   "cell_type": "code",
   "execution_count": 215,
   "id": "3b3f7998-d578-4ceb-abf7-fcf038d0c0d1",
   "metadata": {},
   "outputs": [
    {
     "name": "stdout",
     "output_type": "stream",
     "text": [
      "b'<!DOCTYPE html>\\n<html>\\n<head>\\n<script async type=\\'text/javascript\\'>var _sf_startpt=(new Date()).getTime()</script>\\n<meta http-equiv=\"Content-Type\" content=\"text/html; charset=utf-8\" />\\n<script type=\"text/javascript\">\\nwindow.NREUM||(NREUM={}),__nr_require=function(t,e,n){function r(n){if(!e[n]){var o=e[n]={exports:{}};t[n][0].call(o.exports,function(e){var o=t[n][1][e];return r(o||e)},o,o.exports)}return e[n].exports}if(\"function\"==typeof __nr_require)return __nr_require;for(var o=0;o<n.length;o++)r(n[o]);return r}({1:[function(t,e,n){function r(t){try{s.console&&console.log(t)}catch(e){}}var o,i=t(\"ee\"),a=t(23),s={};try{o=localStorage.getItem(\"__nr_flags\").split(\",\"),console&&\"function\"==typeof console.log&&(s.console=!0,o.indexOf(\"dev\")!==-1&&(s.dev=!0),o.indexOf(\"nr_dev\")!==-1&&(s.nrDev=!0))}catch(c){}s.nrDev&&i.on(\"internal-error\",function(t){r(t.stack)}),s.dev&&i.on(\"fn-err\",function(t,e,n){r(n.stack)}),s.dev&&(r(\"NR AGENT IN DEVELOPMENT MODE\"),r(\"flags: \"+a(s,function(t,e){return t}).join(\", \")))},{}],2:[function(t,e,n){function r(t,e,n,r,s){try{l?l-=1:o(s||new UncaughtException(t,e,n),!0)}catch(f){try{i(\"ierr\",[f,c.now(),!0])}catch(d){}}return\"function\"==typeof u&&u.apply(this,a(arguments))}function UncaughtException(t,e,n){this.message=t||\"Uncaught error with no additional information\",this.sourceURL=e,this.line=n}function o(t,e){var n=e?null:c.now();i(\"err\",[t,n])}var i=t(\"handle\"),a=t(24),s=t(\"ee\"),c=t(\"loader\"),f=t(\"gos\"),u=window.onerror,d=!1,p=\"nr@seenError\",l=0;c.features.err=!0,t(1),window.onerror=r;try{throw new Error}catch(h){\"stack\"in h&&(t(13),t(12),\"addEventListener\"in window&&t(6),c.xhrWrappable&&t(14),d=!0)}s.on(\"fn-start\",function(t,e,n){d&&(l+=1)}),s.on(\"fn-err\",function(t,e,n){d&&!n[p]&&(f(n,p,function(){return!0}),this.thrown=!0,o(n))}),s.on(\"fn-end\",function(){d&&!this.thrown&&l>0&&(l-=1)}),s.on(\"internal-error\",function(t){i(\"ierr\",[t,c.now(),!0])})},{}],3:[function(t,e,n){t(\"loader\").features.ins=!0},{}],4:[function(t,e,n){function r(){j+'\n"
     ]
    }
   ],
   "source": [
    "# Obtener contenido Web\n",
    "html_page = res.content\n",
    "# Mostrar algo de código fuente\n",
    "print(html_page[:2000])"
   ]
  },
  {
   "cell_type": "markdown",
   "id": "03c88b24-5407-4417-8755-6324d05cdfd9",
   "metadata": {},
   "source": [
    "Para poder decodificar símbolos especiales y organizar en forma coherente para python, usaremos la librería `BeautifulSoup`:"
   ]
  },
  {
   "cell_type": "code",
   "execution_count": 216,
   "id": "b53c602f-2f19-45d5-9b95-d95ade0007d5",
   "metadata": {},
   "outputs": [
    {
     "name": "stdout",
     "output_type": "stream",
     "text": [
      "<!DOCTYPE html>\n",
      "<html>\n",
      " <head>\n",
      "  <script async=\"\" type=\"text/javascript\">\n",
      "   var _sf_startpt=(new Date()).getTime()\n",
      "  </script>\n",
      "  <meta content=\"text/html; charset=utf-8\" http-equiv=\"Content-Type\"/>\n",
      "  <script type=\"text/javascript\">\n",
      "   window.NREUM||(NREUM={}),__nr_require=function(t,e,n){function r(n){if(!e[n]){var o=e[n]={exports:{}};t[n][0].call(o.exports,function(e){var o=t[n][1][e];return r(o||e)},o,o.exports)}return e[n].exports}if(\"function\"==typeof __nr_require)return __nr_require;for(var o=0;o<n.length;o++)r(n[o]);return r}({1:[function(t,e,n){function r(t){try{s.console&&console.log(t)}catch(e){}}var o,i=t(\"ee\"),a=t(23),s={};try{o=localStorage.getItem(\"__nr_flags\").split(\",\"),console&&\"function\"==typeof console.log&&(s.console=!0,o.indexOf(\"dev\")!==-1&&(s.dev=!0),o.indexOf(\"nr_dev\")!==-1&&(s.nrDev=!0))}catch(c){}s.nrDev&&i.on(\"internal-error\",function(t){r(t.stack)}),s.dev&&i.on(\"fn-err\",function(t,e,n){r(n.stack)}),s.dev&&(r(\"NR AGENT IN DEVELOPMENT MODE\"),r(\"flags: \"+a(s,function(t,e){return t}).join(\", \")))},{}],2:[function(t,e,n){function r(t,e,n,r,s){try{l?l-=1:o(s||new UncaughtException(t,e,n),!0)}catch(f){try{i(\"ierr\",[f,c.now(),!0])}catch(d){}}return\"function\"==typeof u&&u.apply(this,a(arguments))}function UncaughtException(t,e,n){this.message=t||\"Uncaught error with no additional information\",this.sourceURL=e,this.line=n}function o(t,e){var n=e?null:c.now();i(\"err\",[t,n])}var i=t(\"handle\"),a=t(24),s=t(\"ee\"),c=t(\"loader\"),f=t(\"gos\"),u=window.onerror,d=!1,p=\"nr@seenError\",l=0;c.features.err=!0,t(1),window.onerror=r;try{throw new Error}catch(h){\"stack\"in h&&(t(13),t(12),\"addEventListener\"in window&&t(6),c.xhrWrappable&&t(14),d=!0)}s.on(\"fn-start\",function(t,e,n){d&&(l+=1)}),s.on(\"fn-err\",function(t,e,n){d&&!n[p]&&(f(n,p,function(){return!0}),this.thrown=!0,o(n))}),s.on(\"fn-end\",function(){d&&!this.thrown&&l>0&&(l-=1)}),s.on(\"internal-error\",function(t){i(\"ierr\",[t,c.now(),!0])})},{}],3:[function(t,e,n){t(\"loader\").features.ins=!0},{}],4:[function(t,e\n"
     ]
    }
   ],
   "source": [
    "## Obtener la sopa del HTML (construye la estructura de datos para poder minar por tags)\n",
    "soup = BeautifulSoup(html_page, 'html.parser')\n",
    "# parser permite decodificar algunos símbolos\n",
    "print(soup.prettify()[:2000])"
   ]
  },
  {
   "cell_type": "markdown",
   "id": "fa1b8a8b-e96a-42ee-af9a-5bb9b6ea8274",
   "metadata": {},
   "source": [
    "Notemos que BeautifulSoup tiene bastantes herramientas para trabajar: "
   ]
  },
  {
   "cell_type": "code",
   "execution_count": 217,
   "id": "b5dc2788-df8e-4748-b23c-662319660eef",
   "metadata": {},
   "outputs": [
    {
     "name": "stdout",
     "output_type": "stream",
     "text": [
      "['ASCII_SPACES', 'DEFAULT_BUILDER_FEATURES', 'DEFAULT_INTERESTING_STRING_TYPES', 'NO_PARSER_SPECIFIED_WARNING', 'ROOT_TAG_NAME', '__bool__', '__call__', '__class__', '__contains__', '__copy__', '__delattr__', '__delitem__', '__dict__', '__dir__', '__doc__', '__eq__', '__format__', '__ge__', '__getattr__', '__getattribute__', '__getitem__', '__getstate__', '__gt__', '__hash__', '__init__', '__init_subclass__', '__iter__', '__le__', '__len__', '__lt__', '__module__', '__ne__', '__new__', '__reduce__', '__reduce_ex__', '__repr__', '__setattr__', '__setitem__', '__sizeof__', '__str__', '__subclasshook__', '__unicode__', '__weakref__', '_all_strings', '_check_markup_is_url', '_decode_markup', '_feed', '_find_all', '_find_one', '_is_xml', '_lastRecursiveChild', '_last_descendant', '_linkage_fixer', '_most_recent_element', '_namespaces', '_popToTag', '_should_pretty_print', 'append', 'attrs', 'builder', 'can_be_empty_element', 'cdata_list_attributes', 'childGenerator', 'children', 'clear', 'contains_replacement_characters', 'contents', 'currentTag', 'current_data', 'declared_html_encoding', 'decode', 'decode_contents', 'decompose', 'decomposed', 'default', 'descendants', 'element_classes', 'encode', 'encode_contents', 'endData', 'extend', 'extract', 'fetchNextSiblings', 'fetchParents', 'fetchPrevious', 'fetchPreviousSiblings', 'find', 'findAll', 'findAllNext', 'findAllPrevious', 'findChild', 'findChildren', 'findNext', 'findNextSibling', 'findNextSiblings', 'findParent', 'findParents', 'findPrevious', 'findPreviousSibling', 'findPreviousSiblings', 'find_all', 'find_all_next', 'find_all_previous', 'find_next', 'find_next_sibling', 'find_next_siblings', 'find_parent', 'find_parents', 'find_previous', 'find_previous_sibling', 'find_previous_siblings', 'format_string', 'formatter_for_name', 'get', 'getText', 'get_attribute_list', 'get_text', 'handle_data', 'handle_endtag', 'handle_starttag', 'has_attr', 'has_key', 'hidden', 'index', 'insert', 'insert_after', 'insert_before', 'interesting_string_types', 'isSelfClosing', 'is_empty_element', 'is_xml', 'known_xml', 'markup', 'name', 'namespace', 'new_string', 'new_tag', 'next', 'nextGenerator', 'nextSibling', 'nextSiblingGenerator', 'next_element', 'next_elements', 'next_sibling', 'next_siblings', 'object_was_parsed', 'open_tag_counter', 'original_encoding', 'parent', 'parentGenerator', 'parents', 'parse_only', 'parserClass', 'parser_class', 'popTag', 'prefix', 'preserve_whitespace_tag_stack', 'preserve_whitespace_tags', 'prettify', 'previous', 'previousGenerator', 'previousSibling', 'previousSiblingGenerator', 'previous_element', 'previous_elements', 'previous_sibling', 'previous_siblings', 'pushTag', 'recursiveChildGenerator', 'renderContents', 'replaceWith', 'replaceWithChildren', 'replace_with', 'replace_with_children', 'reset', 'select', 'select_one', 'setup', 'smooth', 'string', 'string_container', 'string_container_stack', 'strings', 'stripped_strings', 'tagStack', 'text', 'unwrap', 'wrap']\n"
     ]
    }
   ],
   "source": [
    "print(dir(soup))"
   ]
  },
  {
   "cell_type": "markdown",
   "id": "8fbc90e9-0e3f-4ca6-be50-48840f3f3040",
   "metadata": {},
   "source": [
    "[[Volver al inicio]](#Contenido)"
   ]
  },
  {
   "cell_type": "markdown",
   "id": "fe7a8f32-2e93-4e2c-9cfd-0984ecbedc78",
   "metadata": {},
   "source": [
    "### Obtención del texto de la noticia"
   ]
  },
  {
   "cell_type": "code",
   "execution_count": 218,
   "id": "4a2c2a13-b557-468f-85a9-d961f0135860",
   "metadata": {},
   "outputs": [
    {
     "name": "stdout",
     "output_type": "stream",
     "text": [
      "El Tiempo\n",
      "\n",
      "Camión chiva se volcó con 43 personas en Medellín - ElTiempo.com\n",
      "\n",
      "https://www.eltiempo.com/colombia/medellin/medellin-camion-chiva-se-volco-con-43-personas-a-bordo-637025\n",
      "\n"
     ]
    }
   ],
   "source": [
    "# Info Básica\n",
    "print(medio,titular,url,sep='\\n\\n',end='\\n\\n')"
   ]
  },
  {
   "cell_type": "code",
   "execution_count": 221,
   "id": "3210bd4d-817a-49ca-87d3-ec51e5f5417a",
   "metadata": {},
   "outputs": [
    {
     "data": {
      "text/plain": [
       "[<p class=\"contenido\" id=\"p637025-m212-211-213\">El Departamento Administrativo de Gestión del Riesgo de Desastres (DAGRD) informó que en la mañana de este domingo 5 de diciembre atendió el <b>volcamiento </b>de un<b> camión chiva con 43 personas</b> a bordo.<br/><br/>El hecho se presentó en la avenida Las Palmas, sector La Asomadera (oriente de <b>Medellín</b>) y por el momento de desconocen las causas del accidente.</p>,\n",
       " <p class=\"contenido\" id=\"p637025-m256-2-257\">Una de las hipótesis, es que el conductor perdió el control del vehículo haciendo que este terminara volcado sobre un barranco esta principal vía de la capital antioqueña.<br/><br/>De acuerdo con la entidad, 15 unidades del Cuerpo Oficial de Bomberos Medellín atendieron el hecho, cuyo <b>balance de atención por parte de personal salud 123 es de 31 lesionados.</b><br/><br/>(Le puede interesar: <a href=\"https://www.eltiempo.com/colombia/medellin/navidad-en-medellin-asi-fue-el-encendido-del-alumbrado-2021-636890\" target=\"_blank\">Así fue el encendido del alumbrado navideño en Medellín</a></p>,\n",
       " <p class=\"contenido\" id=\"p637025-m268-4-269\">Personal de la secretaría de Salud se evaluó el estado de salud de las personas en conjunto con personal de salud del 123 para determinar los traslados a centros asistenciales y, en total, <b>ocho personas fueron trasladadas </b>a centros asistenciales con el apoyo del Cuerpo de Bomberos Voluntarios de Envigado y la Concesión.<br/><br/>(Además: <a href=\"https://www.eltiempo.com/colombia/otras-ciudades/turismo-de-salud-en-colombia-tres-ciudades-en-la-puja-por-el-negocio-636937\" target=\"_blank\">Tres ciudades, en la puja por el millonario negocio del turismo de salud)<br/></a><br/>Videos en redes sociales indican que el vehículo se encontraba de regreso para llevar a los ocupantes para sus casas, cuando ocurrió el accidente.<br/><br/>(También lea: <a href=\"https://www.eltiempo.com/colombia/medellin/pablo-escobar-fotos-ineditas-del-narcotraficante-tomadas-por-el-chino-636021\" target=\"_blank\">La historia del hombre que le tomó una foto dormido al capo Pablo Escobar</a>)<br/><br/>MEDELLÍN</p>]"
      ]
     },
     "execution_count": 221,
     "metadata": {},
     "output_type": "execute_result"
    }
   ],
   "source": [
    "texto = soup.find_all('p',{'class': 'contenido'})\n",
    "texto"
   ]
  },
  {
   "cell_type": "markdown",
   "id": "3e242fab-993f-4cce-846f-308b02a4b659",
   "metadata": {},
   "source": [
    "Librería `html2text`"
   ]
  },
  {
   "cell_type": "code",
   "execution_count": 222,
   "id": "f1f80986-99ec-4b6c-ae53-31f54e08768a",
   "metadata": {},
   "outputs": [
    {
     "data": {
      "text/plain": [
       "'[\\n\\nEl Departamento Administrativo de Gestión del Riesgo de Desastres (DAGRD)\\ninformó que en la mañana de este domingo 5 de diciembre atendió el\\n**volcamiento** de un **camión chiva con 43 personas** a bordo.  \\n  \\nEl hecho se presentó en la avenida Las Palmas, sector La Asomadera (oriente de\\n**Medellín** ) y por el momento de desconocen las causas del accidente.\\n\\n,\\n\\nUna de las hipótesis, es que el conductor perdió el control del vehículo\\nhaciendo que este terminara volcado sobre un barranco esta principal vía de la\\ncapital antioqueña.  \\n  \\nDe acuerdo con la entidad, 15 unidades del Cuerpo Oficial de Bomberos\\nMedellín atendieron el hecho, cuyo **balance de atención por parte de\\npersonal salud 123 es de 31 lesionados.**  \\n  \\n(Le puede interesar: [Así fue el encendido del alumbrado navideño en\\nMedellín](https://www.eltiempo.com/colombia/medellin/navidad-en-medellin-asi-\\nfue-el-encendido-del-alumbrado-2021-636890)\\n\\n,\\n\\nPersonal de la secretaría de Salud se evaluó el estado de salud de las\\npersonas en conjunto con personal de salud del 123 para determinar los\\ntraslados a centros asistenciales y, en total, **ocho personas fueron\\ntrasladadas** a centros asistenciales con el apoyo del Cuerpo de Bomberos\\nVoluntarios de Envigado y la Concesión.  \\n  \\n(Además: [Tres ciudades, en la puja por el millonario negocio del turismo de\\nsalud)  \\n](https://www.eltiempo.com/colombia/otras-ciudades/turismo-de-salud-en-\\ncolombia-tres-ciudades-en-la-puja-por-el-negocio-636937)  \\nVideos en redes sociales indican que el vehículo se encontraba de regreso para\\nllevar a los ocupantes para sus casas, cuando ocurrió el accidente.  \\n  \\n(También lea: [La historia del hombre que le tomó una foto dormido al capo\\nPablo Escobar](https://www.eltiempo.com/colombia/medellin/pablo-escobar-fotos-\\nineditas-del-narcotraficante-tomadas-por-el-chino-636021))  \\n  \\nMEDELLÍN\\n\\n]\\n\\n'"
      ]
     },
     "execution_count": 222,
     "metadata": {},
     "output_type": "execute_result"
    }
   ],
   "source": [
    "# Convertit HTML a Texto    \n",
    "texto_limpio = html2text.html2text(''.join(str(texto)))\n",
    "texto_limpio"
   ]
  },
  {
   "cell_type": "markdown",
   "id": "2d531d3a-5607-411b-b3b0-4ad022d62bc3",
   "metadata": {},
   "source": [
    "### Limpieza Básica usando expresiones regulares "
   ]
  },
  {
   "cell_type": "markdown",
   "id": "2e92b7ae-2c9a-457f-8200-f08cfdeb5d34",
   "metadata": {},
   "source": [
    "Para mayor información, recomendamos visitar [Regular Expressions Cheat Sheet](https://cheatography.com/davechild/cheat-sheets/regular-expressions/), para un resumen de las posibilidades de las expresiones regulares. \n",
    "\n",
    "También podemos acceder a un tester para probar todo tipo de patrones en [RegExr: Learn, Build, & Test RegEx](https://regexr.com/)"
   ]
  },
  {
   "cell_type": "code",
   "execution_count": 220,
   "id": "adf7d8d9-e94e-4787-8285-4f8e742780db",
   "metadata": {},
   "outputs": [
    {
     "data": {
      "text/plain": [
       "'El Departamento Administrativo de Gestión del Riesgo de Desastres informó que en la mañana de este domingo 5 de diciembre atendió el volcamiento de un camión chiva con 43 personas a bordo. El hecho se presentó en la avenida Las Palmas, sector La Asomadera y por el momento de desconocen las causas del accidente. Una de las hipótesis, es que el conductor perdió el control del vehículo haciendo que este terminara volcado sobre un barranco esta principal vía de la capital antioqueña. De acuerdo con la entidad, 15 unidades del Cuerpo Oficial de Bomberos Medellín atendieron el hecho, cuyo balance de atención por parte de personal salud 123 es de 31 lesionados. Personal de la secretaría de Salud se evaluó el estado de salud de las personas en conjunto con personal de salud del 123 para determinar los traslados a centros asistenciales y, en total, ocho personas fueron trasladadas a centros asistenciales con el apoyo del Cuerpo de Bomberos Voluntarios de Envigado y la Concesión. Videos en redes sociales indican que el vehículo se encontraba de regreso para llevar a los ocupantes para sus casas, cuando ocurrió el accidente.'"
      ]
     },
     "execution_count": 220,
     "metadata": {},
     "output_type": "execute_result"
    }
   ],
   "source": [
    "#Quitar links\n",
    "texto_limpio = re.sub(r'\\([^)]*\\)',' ',texto_limpio)\n",
    "# Quitar paréntesis redondos y cuadrados después de quitar links\n",
    "texto_limpio = re.sub(r'[\\[\\]\\(\\)]','',texto_limpio)\n",
    "# Quitar saltos de línea\n",
    "texto_limpio = re.sub(r'\\n',' ',texto_limpio)\n",
    "# Quitar asteriscos\n",
    "texto_limpio = re.sub(r'\\*',' ',texto_limpio)\n",
    "# Quitar comillas sencillas y reemplazar por dobles\n",
    "texto_limpio = re.sub(r\"[\\\\']\",'\"',texto_limpio)\n",
    "# Quitar todo lo que no tenga punto al final, después del punto final.\n",
    "texto_limpio = re.sub(r'([^.]*$)','',texto_limpio)\n",
    "# Quitar Espacios extra (dos o más)\n",
    "texto_limpio = re.sub('\\s\\s+', ' ',texto_limpio)\n",
    "# Quitar el patrón . , [texto]\n",
    "texto_limpio = re.sub('\\.\\s,\\s', '. ',texto_limpio)\n",
    "# Quitar espacios iniciales y finales\n",
    "texto_limpio = texto_limpio.strip()\n",
    "texto_limpio"
   ]
  },
  {
   "cell_type": "markdown",
   "id": "c1247304-11bc-4fe6-995f-f2df9054a1b0",
   "metadata": {},
   "source": [
    "### Uniendo piezas"
   ]
  },
  {
   "cell_type": "code",
   "execution_count": 30,
   "id": "403ab92b-878c-45c6-be01-30f4a6252f2e",
   "metadata": {},
   "outputs": [
    {
     "name": "stdout",
     "output_type": "stream",
     "text": [
      "Semana.com   Últimas Noticias de Colombia y el Mundo\n",
      "\n",
      "Eclipse solar: hora y cómo verlo a plenitud en Colombia este 3 de diciembre - Semana.com\n",
      "\n",
      "https://news.google.com/__i/rss/rd/articles/CBMifWh0dHBzOi8vd3d3LnNlbWFuYS5jb20vYWN0dWFsaWRhZC9hcnRpY3Vsby9lY2xpcHNlLXNvbGFyLWhvcmEteS1jb21vLXZlcmxvLWEtcGxlbml0dWQtZW4tY29sb21iaWEtZXN0ZS0zLWRlLWRpY2llbWJyZS8yMDIxMDQv0gGBAWh0dHBzOi8vd3d3LnNlbWFuYS5jb20vYW1wL2FjdHVhbGlkYWQvYXJ0aWN1bG8vZWNsaXBzZS1zb2xhci1ob3JhLXktY29tby12ZXJsby1hLXBsZW5pdHVkLWVuLWNvbG9tYmlhLWVzdGUtMy1kZS1kaWNpZW1icmUvMjAyMTA0Lw?oc=5\n",
      "\n",
      "Un eclipse solar es uno de los espectáculos astronómicos más bellos y emocionantes que existen.La respuesta a dicho cuestionamiento es no. Infortunadamente para los ciudadanos del país, el eclipse solar no será visible desde ninguna parte del territorio colombiano, aunque los que deseen podrán observar la maravilla de este espectáculo natural gracias a la ‘magia’ de internet.La Agencia Espacial de Estados Unidos habilitó dos enlaces para que todas las personas de las zonas del mundo en las que no será visible el eclipse puedan observarlo.> canal oficial de YouTube de la NASA , en donde la misma ha reportado otro tipo de fenómenos del espacio.> página web oficial de la NASA , en dónde podrán ver detalladamente cada una de las incidencias de este eclipse.La NASA aseguró que la transmisión se podrá observar desde cualquier lugar del mundo, sin miedo a tener interferencias en la señal, ya que no será necesario tener una conexión tan estable a internet.Cabe recordar que el eclipse solar se desarrollará desde la 1:00 a.m. del sábado 4 de diciembre, esto de acuerdo con la hora UTC.> Ahora bien, como Colombia está retrasado cinco horas en relación con dicho horario internacional, lo cierto es que todo el que quiera verlo deberá conectarse a internet desde las 8:00 p.m. o un poco antes.Aunque el inicio del eclipse será desde la 8 de la noche, la plenitud del mismo se podrá observar más o menos a las 8:33 p.m., para finalmente ver como la luna deja completamente libre la visión hacia el sol a las 9:00 p.m.>En la madrugada del 4 de diciembre ocurrirá el último eclipse solar del año.Según explicó la NASA en su página web, “un eclipse total solar ocurre cuando la Luna se mueve entre el Sol y la Tierra, proyectando una sombra sobre la Tierra, bloqueando total o parcialmente la luz del Sol en algunas áreas”. esta agencia indicó que para poder observar este fenómeno, los tres astros deben estar perfectamente alineados.> Por esto, solo las personas que se encuentren en el punto geográfico en el que se logre dicha línea recta serán los privilegiados para poder ver el eclipse total.“Las personas ubicadas en el centro de la sombra de la Luna cuando golpea la Tierra verán un eclipse total. El cielo se vuelve muy oscuro, como si fuera el amanecer o el anochecer. Si el tiempo lo permite, las personas que se encuentren en el camino de un eclipse solar total pueden ver la corona del Sol, la atmósfera exterior, que de otro modo suele estar oscurecida por la cara brillante del Sol”, añadió la NASA, informando que la única región del planeta en la que se podrá ver este eclipse solar total será la Antártida.Sin embargo, hay algunos países que, aunque no podrán observar de lleno el eclipse total, sí podrán ver uno parcial, que tiene como condición que los astros estén en contraposición uno del otro, aunque no “exactamente alineados”. Santa Helena, Namibia, Lesotho, Sudáfrica, Islas Georgias del Sur y Sandwich, Islas Crozet, Islas Malvinas, Chile, Nueva Zelanda y Australia serán los territorios que podrán observar el eclipse parcial de Sol.Este eclipse total de sol será el único que se podrá ver este 2021.Un eclipse total, que sumerge brevemente parte del planeta en la oscuridad, ocurre cuando el diámetro de la Luna coincide exactamente con el del Sol visto desde la Tierra.Copyright 2021 The Associated Press.Please use social_links.\n"
     ]
    }
   ],
   "source": [
    "noticia_elegida = np.random.randint(len(noticias))\n",
    "# url de la noticia elegida\n",
    "url = noticias[noticia_elegida]['url']\n",
    "# nombre del sitio de la noticia\n",
    "medio = noticias[noticia_elegida]['site_name']\n",
    "# Titular de la noticia\n",
    "titular = noticias[noticia_elegida]['title']\n",
    "# Obtener conexión\n",
    "res = requests.get(url)\n",
    "# Extraer contenido\n",
    "html_page = res.content\n",
    "# Parsing del contenido en forma de árbol\n",
    "soup = BeautifulSoup(html_page, 'html.parser')\n",
    "# En caso de que tengamos que ir más profundo en la fuente\n",
    "#print(soup.prettify())\n",
    "\n",
    "# Info Básica\n",
    "print(medio,titular,url,sep='\\n\\n',end='\\n\\n')\n",
    "\n",
    "# Cuando se tiene error 403\n",
    "if re.search('403',str(res)):\n",
    "    print('\\nNo se puede mirar ésta Noticia... Estado de la petición:', res)\n",
    "    print(f'\\nLe recomendamos chequear el link para ver qué ocurrió.')\n",
    "    texto = []\n",
    "# Sirve para El Tiempo\n",
    "elif re.search(re.compile('Tiempo|ElTiempo'),titular):\n",
    "    texto = soup.find_all('p',{'class': 'contenido'})\n",
    "# Sirve Para Portafolio  \n",
    "elif re.search('Portafolio',titular):\n",
    "    texto = soup.find_all('p',{'class': 'parrafo'})\n",
    "# Sirve para CNN, Antena 2, NTN24, MARCA,...\n",
    "elif re.search(re.compile('CNN|Antena|NTN24|Marca|La Silla Vacia|'\\\n",
    "                           +'El Carro Colombiano|FutbolRed|vanguardia|'\\\n",
    "                           +'RT|ENTER|infobae|Gizmodo|Conversation|Independent|'\\\n",
    "                           +'Mundo Deportivo|Tendencias21|Noticias de Israel|'\\\n",
    "                           +'Kudasai|notimerica|El Confidencial|BBC Mundo|Diario Depor|El Universal'),titular):\n",
    "    texto = soup.find_all('p')\n",
    "# Sirve para Yahoo\n",
    "elif re.search(re.compile('Yahoo'),titular):\n",
    "    texto = soup.find_all('div',{'class': 'caas-body'})\n",
    "# Sirve para Caracol Radio, eliminar Basura\n",
    "elif re.search(re.compile('Caracol Radio'),titular):\n",
    "    texto = soup.find_all('p')\n",
    "    # Todas las noticias de CR comienzan con negrita (Hasta ahora)\n",
    "    p = re.compile('^[^\\*]*\\*')\n",
    "    # Quitar Las propagandas del inicio\n",
    "    texto = re.sub(p,'',''.join(str(texto)))\n",
    "# Sirve para El Espectador sin el encabezado de resumen.\n",
    "elif re.search(re.compile('Espectador|ESPECTADOR'),titular):\n",
    "    texto = soup.find_all('p',{'class': 'font--secondary'})\n",
    "# Sirve para W-Radio\n",
    "elif re.search(re.compile('W-Radio'),titular):\n",
    "    texto = soup.find_all('div',{'class': 'cnt-txt'})\n",
    "# Sirve para el Colombiano\n",
    "elif re.search(re.compile('El Colombiano'),titular):\n",
    "    texto = soup.find_all('div',{'class': 'block-text'})\n",
    "# Sirve para Pulzo.com\n",
    "elif re.search(re.compile('Pulzo'),titular):\n",
    "    texto = soup.find_all('section',{'class': 'article-body-left'})\n",
    "# Sirve para Blu Radio, pero NO SE DEJA MINAR -> Error 403 de conexión\n",
    "elif re.search(re.compile('Blu'),titular):\n",
    "    texto = soup.find_all('div',{'class': 'RichTextArticleBody-body RichTextBody'})\n",
    "# Sirve para Bogota.gov.co\n",
    "elif re.search(re.compile('Bogota'),titular):\n",
    "    texto = soup.find_all('div',{'class': 'article__content'})\n",
    "# Sirve para El País\n",
    "elif re.search(re.compile('elpais|El País|EL PAÍS'),titular):\n",
    "    # A veces sirve este\n",
    "    #texto = soup.find_all('p',{'class': 'epigraph paragraph'})\n",
    "    texto = soup.find_all('p')\n",
    "# Sirve para La República\n",
    "elif re.search(re.compile('República'),titular):\n",
    "    texto = soup.find_all('div',{'class': 'html-content'})\n",
    "# Sirve para DW.COM\n",
    "elif re.search(re.compile('Deutsche'),titular):\n",
    "    texto = soup.find_all('div',{'class': 'longText'})\n",
    "# Sirve para Sputnik\n",
    "elif re.search(re.compile('Sputnik'),titular):\n",
    "    texto = soup.find_all('div',{'class': 'article__announce-text'})\n",
    "# Sirve para Revista Semana (IOY)\n",
    "elif re.search(re.compile('Semana'),titular):\n",
    "    #texto = soup.find_all('p',{'class': 'section sp-8'})\n",
    "    #texto = soup.find_all('article',{'class': 'paywall'})\n",
    "    texto = soup.find_all('script',{'id':'fusion-metadata'})\n",
    "    # Encontrar dentro del script la parte de , \"content\":\"...\n",
    "    p=re.compile('([^,\\\"*]*\\w+\\s[^\\\"]*\\.)')\n",
    "    # Encontrar texto escondido\n",
    "    texto= p.findall(''.join(str(texto)))\n",
    "    # Chambonada chévere, quitar partes finales (No creo que siempre funcione)\n",
    "    texto = [re.sub(re.compile(r'\\b(Últimas)\\b.*|\\b(últimas)\\b.*|\\b(Noticias)\\b.*|\\b(Nación)\\b.*|\\b(Revista Semana)\\b.*'),'',token) for token in texto]\n",
    "    texto = ''.join(texto)\n",
    "else:\n",
    "    print(\"Medio de comunicación no reconocido. Los resultados pueden salirse de lo esperado.\")\n",
    "    texto = []\n",
    "    \n",
    "#print(texto)\n",
    "\n",
    "\n",
    "# Convertit HTML a Texto    \n",
    "texto_limpio = html2text.html2text(''.join(str(texto)))\n",
    "#Quitar links\n",
    "texto_limpio = re.sub(r'\\([^)]*\\)',' ',texto_limpio)\n",
    "# Quitar paréntesis redondos y cuadrados después de quitar links\n",
    "texto_limpio = re.sub(r'[\\[\\]\\(\\)]','',texto_limpio)\n",
    "# Quitar saltos de línea\n",
    "texto_limpio = re.sub(r'\\n',' ',texto_limpio)\n",
    "# Quitar asteriscos\n",
    "texto_limpio = re.sub(r'\\*',' ',texto_limpio)\n",
    "# Quitar comillas sencillas y reemplazar por dobles\n",
    "texto_limpio = re.sub(r\"[\\\\']\",'\"',texto_limpio)\n",
    "# Especial para el Colombiano, se mezclan noticias después de >\n",
    "#texto_limpio = re.sub(r'(>[^>]*$)','',texto_limpio)\n",
    "#Quitar todo lo que no tenga punto al final, después del punto final.\n",
    "texto_limpio = re.sub(r'([^.]*$)','',texto_limpio)\n",
    "# Quitar Espacios extra (dos o más)\n",
    "texto_limpio = re.sub('\\s\\s+', ' ',texto_limpio)\n",
    "# Quitar el patrón . , texto\n",
    "texto_limpio = re.sub('\\.\\s,\\s', '. ',texto_limpio)\n",
    "# Quitar ARTICULOS RELACIONADOS, LA REPÚBLICA\n",
    "texto_limpio = re.sub('ARTÍCULO RELACIONADO! ##', '',texto_limpio)\n",
    "# CNN Derechos de Autor\n",
    "# No es muy elegante. Toca elaborar más.\n",
    "p = re.compile('© 2021 Cable News Network. A Warner Media Company. All Rights Reserved. CNN Sans ™ & © 2021 Cable News Network.')\n",
    "# Quitar Las propagandas del inicio\n",
    "texto_limpio = re.sub(p,'',texto_limpio)\n",
    "# Quitar espacios iniciales y finales\n",
    "texto_limpio = texto_limpio.strip()\n",
    "\n",
    "if texto_limpio:\n",
    "    print(texto_limpio)\n",
    "elif not re.search('403',str(res)):\n",
    "    print('\\nNo se puede mirar ésta Noticia...')\n",
    "    print(f'\\nLe recomendamos chequear el link para ver qué ocurrió.')"
   ]
  },
  {
   "cell_type": "code",
   "execution_count": 31,
   "id": "a36155d1-b238-45c0-90f9-f176eccbe8fd",
   "metadata": {},
   "outputs": [],
   "source": [
    "traductor = pipeline(\"translation\", model=\"Helsinki-NLP/opus-mt-es-en\")"
   ]
  },
  {
   "cell_type": "code",
   "execution_count": 32,
   "id": "d5b13082-ac27-44fa-9cad-40df9664540b",
   "metadata": {},
   "outputs": [
    {
     "name": "stdout",
     "output_type": "stream",
     "text": [
      "22 Frases encontradas.\n"
     ]
    }
   ],
   "source": [
    "frases = split_into_sentences(texto_limpio)\n",
    "print(f\"{len(frases)} Frases encontradas.\")"
   ]
  },
  {
   "cell_type": "code",
   "execution_count": 33,
   "id": "40f200e6-5d56-4d8c-8a5a-eb089f12f601",
   "metadata": {},
   "outputs": [],
   "source": [
    "traducciones_frases = traductor(frases)"
   ]
  },
  {
   "cell_type": "code",
   "execution_count": 34,
   "id": "100fdf8a-2986-4b50-87b6-67c368d8d490",
   "metadata": {},
   "outputs": [
    {
     "data": {
      "text/plain": [
       "\"A solar eclipse is one of the most beautiful and exciting astronomical shows that exist. The answer to that question is no. Unfortunately for the citizens of the country, the solar eclipse will not be visible from any part of the Colombian territory, although those who wish will be able to observe the wonder of this natural spectacle thanks to the ‘magic’ of the internet. The United States Space Agency enabled two links so that all people in areas of the world where the eclipse will not be visible can observe it. > NASA's official YouTube channel, where it has reported other types of space phenomena. > NASA's official website, where you can see in detail each of the incidents of this eclipse. NASA assured that the transmission can be observed from anywhere in the world, without fear of interference in the signal, as it will not be necessary to have such a stable connection to the internet. It should be remembered that the solar eclipse will develop from 1:00 a.m. on Saturday, December 4, according to the UTC time. > Now, since Colombia is five hours late in relation to this international schedule, the truth is that everyone who wants to see it must connect to the Internet from 8:00 p.m. or a little earlier. Although the start of the eclipse will be from the 8th of the night, the fullness of the eclipse can be observed at around 8:33 p.m., to finally see how the moon leaves completely free the vision towards the sun at 9:00 p.m.>The last solar eclipse of the year will occur in the early morning of December 4. As NASA explained on its website, “a total solar eclipse occurs when the Moon moves between the Sun and the Earth, casting a shadow over the Earth, totally or partially blocking sunlight in some areas.” this agency indicated that in order to observe this phenomenon, the three stars must be perfectly aligned. > For this reason, only people who are at the geographical point at which such a straight line is achieved will be privileged to see the total eclipse. “People located in the center of the Moon’s shadow when it hits the Earth will see a total eclipse. The sky becomes very dark, as if it were dawn or dusk. If time permits, people on the path of a total solar eclipse can see the Sun’s crown, the outer atmosphere, which is otherwise often darkened by the Sun’s bright face,” NASA added, reporting that the only region on the planet on which this total solar eclipse can be seen will be Antarctica. However, there are some countries that, although they will not be able to fully observe the total eclipse, they will be able to see a partial eclipse, which has as condition that the stars are in contrast to each other, although not “exactly aligned”. Saint Helena, Namibia, Lesotho, South Africa, South Georgia Islands and Sandwich Islands, Crozet Islands, Falkland Islands, Chile, New Zealand and Australia will be the territories that will be able to observe the partial eclipse of the Sun. This total eclipse of the sun will be the only one that can be seen this 2021. A total eclipse, which briefly plunges part of the planet into darkness, occurs when the diameter of the Moon coincides exactly with that of the Sun seen from Earth. Copyright 2021 The Associated Press. Please use social_links.\""
      ]
     },
     "execution_count": 34,
     "metadata": {},
     "output_type": "execute_result"
    }
   ],
   "source": [
    "traduccion = [traduccion['translation_text'] for traduccion in traducciones_frases]\n",
    "traduccion = ' '.join(traduccion)\n",
    "traduccion"
   ]
  },
  {
   "cell_type": "code",
   "execution_count": 36,
   "id": "3cb945f7-5fca-400f-8735-da0a4c7e562c",
   "metadata": {},
   "outputs": [
    {
     "name": "stderr",
     "output_type": "stream",
     "text": [
      "No model was supplied, defaulted to sshleifer/distilbart-cnn-12-6 (https://huggingface.co/sshleifer/distilbart-cnn-12-6)\n"
     ]
    }
   ],
   "source": [
    "sumarizer = pipeline('summarization')"
   ]
  },
  {
   "cell_type": "code",
   "execution_count": 37,
   "id": "f98aad2f-38a1-480e-8bca-f17d5b16a828",
   "metadata": {},
   "outputs": [],
   "source": [
    "resumen = sumarizer(traduccion,min_length=100)"
   ]
  },
  {
   "cell_type": "code",
   "execution_count": 38,
   "id": "fee2034c-d5d9-4cc9-b92f-2508319d5ade",
   "metadata": {},
   "outputs": [
    {
     "data": {
      "text/plain": [
       "' The last solar eclipse of the year will occur in the early morning of December 4 . The only region on the planet on which this total solar eclipse can be seen will be Antarctica . The fullness of the eclipse will be observed at around 8:33 p.m., to finally see how the moon leaves completely free the vision towards the sun . This total eclipse of sun will be the only one that can be observed this 2021 . The United States Space Agency enabled two links so that all people in areas of the world where eclipse will not be visible can observe it .'"
      ]
     },
     "execution_count": 38,
     "metadata": {},
     "output_type": "execute_result"
    }
   ],
   "source": [
    "resumen_en = resumen[0]['summary_text']\n",
    "resumen_en"
   ]
  },
  {
   "cell_type": "code",
   "execution_count": 39,
   "id": "6409eef2-068b-4ffd-99e8-14e6c0fb85b6",
   "metadata": {},
   "outputs": [],
   "source": [
    "traductor_en_es = pipeline(\"translation\", model=\"Helsinki-NLP/opus-mt-en-es\")"
   ]
  },
  {
   "cell_type": "code",
   "execution_count": 40,
   "id": "7ad41450-3c69-4115-a181-df5cf579b96e",
   "metadata": {},
   "outputs": [],
   "source": [
    "resumen_es = traductor_en_es(resumen_en)"
   ]
  },
  {
   "cell_type": "code",
   "execution_count": 41,
   "id": "c1aed5f9-9574-4f12-a646-bea0df74662a",
   "metadata": {},
   "outputs": [
    {
     "data": {
      "text/plain": [
       "'El último eclipse solar del año ocurrirá en la madrugada del 4 de diciembre. La única región en el planeta en la que este eclipse solar total se puede ver será la Antártida. La plenitud del eclipse se observará alrededor de las 8:33 p.m., para finalmente ver cómo la luna deja completamente libre la visión hacia el sol. Este eclipse total del sol será el único que se puede observar este 2021. La Agencia Espacial de los Estados Unidos permitió dos enlaces para que todas las personas en áreas del mundo donde el eclipse no será visible puedan observarlo.'"
      ]
     },
     "execution_count": 41,
     "metadata": {},
     "output_type": "execute_result"
    }
   ],
   "source": [
    "resumen_final = resumen_es[0]['translation_text']\n",
    "resumen_final"
   ]
  },
  {
   "cell_type": "markdown",
   "id": "9a3e3c96-5175-4a5e-9167-851f44c157d9",
   "metadata": {},
   "source": [
    "## Transformer en Español Nativo "
   ]
  },
  {
   "cell_type": "code",
   "execution_count": null,
   "id": "3389ead4-8613-4760-b210-413a8a94dd4c",
   "metadata": {},
   "outputs": [],
   "source": [
    "import torch\n",
    "from transformers import BertTokenizerFast, EncoderDecoderModel\n",
    "device = 'cuda' if torch.cuda.is_available() else 'cpu'\n",
    "ckpt = 'mrm8488/bert2bert_shared-spanish-finetuned-summarization'\n",
    "tokenizer = BertTokenizerFast.from_pretrained(ckpt)\n",
    "model = EncoderDecoderModel.from_pretrained(ckpt).to(device)"
   ]
  },
  {
   "cell_type": "code",
   "execution_count": null,
   "id": "82e3f4c3-90e6-4a22-9653-362d5e274a7d",
   "metadata": {},
   "outputs": [],
   "source": [
    "def generate_summary(text,min_length=None):\n",
    "\n",
    "    inputs = tokenizer([text], padding=\"max_length\", truncation=True, max_length=512, return_tensors=\"pt\")\n",
    "    input_ids = inputs.input_ids.to(device)\n",
    "    attention_mask = inputs.attention_mask.to(device)\n",
    "    output = model.generate(input_ids, attention_mask=attention_mask,min_length=min_length)\n",
    "    return tokenizer.decode(output[0], skip_special_tokens=True)"
   ]
  },
  {
   "cell_type": "code",
   "execution_count": null,
   "id": "30b41b70-06cc-4956-8d77-88471a497d46",
   "metadata": {},
   "outputs": [],
   "source": [
    "generate_summary(texto_limpio)"
   ]
  }
 ],
 "metadata": {
  "kernelspec": {
   "display_name": "Python 3 (ipykernel)",
   "language": "python",
   "name": "python3"
  },
  "language_info": {
   "codemirror_mode": {
    "name": "ipython",
    "version": 3
   },
   "file_extension": ".py",
   "mimetype": "text/x-python",
   "name": "python",
   "nbconvert_exporter": "python",
   "pygments_lexer": "ipython3",
   "version": "3.9.7"
  }
 },
 "nbformat": 4,
 "nbformat_minor": 5
}
