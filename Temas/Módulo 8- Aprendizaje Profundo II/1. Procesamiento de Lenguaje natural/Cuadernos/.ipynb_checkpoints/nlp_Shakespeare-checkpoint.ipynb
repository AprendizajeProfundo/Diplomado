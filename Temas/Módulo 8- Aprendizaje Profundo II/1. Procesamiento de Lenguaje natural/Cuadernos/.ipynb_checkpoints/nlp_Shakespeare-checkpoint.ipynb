{
 "cells": [
  {
   "cell_type": "markdown",
   "metadata": {},
   "source": [
    "**Curso de Inteligencia Artificial y Aprendizaje Profundo**\n"
   ]
  },
  {
   "cell_type": "markdown",
   "metadata": {},
   "source": [
    "# Análisis de sentimiento a partir de comentarios de películas"
   ]
  },
  {
   "cell_type": "markdown",
   "metadata": {},
   "source": [
    "##  Autores"
   ]
  },
  {
   "cell_type": "markdown",
   "metadata": {},
   "source": [
    "1. Alvaro Mauricio Montenegro Díaz, ammontenegrod@unal.edu.co\n",
    "2. Daniel Mauricio Montenegro Reyes, dextronomo@gmail.com \n",
    "3. Oleg Jarma, ojarmam@unal.edu.co\n",
    "4. Maria del Pilar Montenegro, pmontenegro88@gmail.com"
   ]
  },
  {
   "cell_type": "markdown",
   "metadata": {},
   "source": [
    "## Referencias"
   ]
  },
  {
   "cell_type": "markdown",
   "metadata": {},
   "source": [
    "1. Basado en el blog de laurencemoroney: (https://storage.googleapis.com/laurencemoroney-blog.appspot.com/sonnets.txt)"
   ]
  },
  {
   "cell_type": "markdown",
   "metadata": {},
   "source": [
    "## Contenido"
   ]
  },
  {
   "cell_type": "markdown",
   "metadata": {},
   "source": [
    "* [Introducción](#Introducción)\n",
    "* [Datos](#Datos)\n",
    "* [Preprocesamiento](#Preprocesamiento)\n",
    "* [Librerías](#Librerías)\n",
    "* [Lee los datos](#Lee-los-datos)\n",
    "* [Tokeniza el texto](#Lee-los-datos)\n",
    "* [Crea n-Grams para datos de entrenamiento y etiquetas](#Crea-n-Grams-para-datos-de-entrenamiento-y-etiquetas)\n",
    "* [Crea-el-modelo](#Crea-el-modelo)\n",
    "* [Genera-texto-automáticamente](#Genera-texto-automáticamente)"
   ]
  },
  {
   "cell_type": "code",
   "execution_count": 1,
   "metadata": {
    "id": "P-AhVYeBWgQ3"
   },
   "outputs": [
    {
     "name": "stdout",
     "output_type": "stream",
     "text": [
      "2.1.0\n"
     ]
    }
   ],
   "source": [
    "import tensorflow as tf\n",
    "print(tf.__version__)\n",
    "\n",
    "# !pip install -q tensorflow-datasets"
   ]
  },
  {
   "cell_type": "markdown",
   "metadata": {},
   "source": [
    "## Introducción\n"
   ]
  },
  {
   "cell_type": "markdown",
   "metadata": {},
   "source": [
    "Gran conjunto de datos basado en sonetos de Shekespeare.\n"
   ]
  },
  {
   "cell_type": "markdown",
   "metadata": {},
   "source": [
    "## Librerías\n"
   ]
  },
  {
   "cell_type": "code",
   "execution_count": 3,
   "metadata": {
    "id": "BOwsuGQQY9OL"
   },
   "outputs": [],
   "source": [
    "from tensorflow.keras.preprocessing.sequence import pad_sequences\n",
    "from tensorflow.keras.layers import Embedding, LSTM, Dense, Dropout, Bidirectional\n",
    "from tensorflow.keras.preprocessing.text import Tokenizer\n",
    "from tensorflow.keras.models import Sequential\n",
    "from tensorflow.keras.optimizers import Adam\n",
    "from tensorflow.keras import regularizers\n",
    "from tensorflow.keras.utils import to_categorical\n",
    "import numpy as np \n",
    "\n",
    "import tensorflow as tf\n",
    "\n",
    "from tensorflow.keras.utils import plot_model"
   ]
  },
  {
   "cell_type": "markdown",
   "metadata": {},
   "source": [
    "## Lee los datos"
   ]
  },
  {
   "cell_type": "code",
   "execution_count": 4,
   "metadata": {},
   "outputs": [
    {
     "name": "stdout",
     "output_type": "stream",
     "text": [
      "--2020-10-17 15:53:20--  https://storage.googleapis.com/laurencemoroney-blog.appspot.com/sonnets.txt\n",
      "Resolving storage.googleapis.com (storage.googleapis.com)... 172.217.173.208, 216.58.222.240, 172.217.28.112, ...\n",
      "Connecting to storage.googleapis.com (storage.googleapis.com)|172.217.173.208|:443... connected.\n",
      "HTTP request sent, awaiting response... 200 OK\n",
      "Length: 93578 (91K) [text/plain]\n",
      "Saving to: ‘/tmp/sonnets.txt’\n",
      "\n",
      "/tmp/sonnets.txt    100%[===================>]  91,38K  --.-KB/s    in 0,02s   \n",
      "\n",
      "2020-10-17 15:53:20 (4,84 MB/s) - ‘/tmp/sonnets.txt’ saved [93578/93578]\n",
      "\n"
     ]
    }
   ],
   "source": [
    "!wget --no-check-certificate \\\n",
    "    https://storage.googleapis.com/laurencemoroney-blog.appspot.com/sonnets.txt \\\n",
    "    -O /tmp/sonnets.txt\n",
    "data = open('/tmp/sonnets.txt').read()\n",
    "\n",
    "corpus = data.lower().split(\"\\n\")"
   ]
  },
  {
   "cell_type": "markdown",
   "metadata": {},
   "source": [
    "## Tokeniza el texto\n"
   ]
  },
  {
   "cell_type": "code",
   "execution_count": 5,
   "metadata": {
    "id": "PRnDnCW-Z7qv"
   },
   "outputs": [
    {
     "name": "stdout",
     "output_type": "stream",
     "text": [
      "index of rage =  443\n",
      "\n",
      "Total Words in the Tokenizer (+OOV) = 3211 \n",
      "\n",
      "First lines of the Corpus: \n",
      "\n"
     ]
    },
    {
     "data": {
      "text/plain": [
       "['from fairest creatures we desire increase,',\n",
       " \"that thereby beauty's rose might never die,\",\n",
       " 'but as the riper should by time decease,',\n",
       " 'his tender heir might bear his memory:',\n",
       " 'but thou, contracted to thine own bright eyes,',\n",
       " \"feed'st thy light'st flame with self-substantial fuel,\",\n",
       " 'making a famine where abundance lies,',\n",
       " 'thyself thy foe, to thy sweet self too cruel.',\n",
       " \"thou that art now the world's fresh ornament\",\n",
       " 'and only herald to the gaudy spring,']"
      ]
     },
     "execution_count": 5,
     "metadata": {},
     "output_type": "execute_result"
    }
   ],
   "source": [
    "tokenizer = Tokenizer()\n",
    "\n",
    "corpus = data.lower().split(\"\\n\")\n",
    "tokenizer.fit_on_texts(corpus)\n",
    "total_words = len(tokenizer.word_index) + 1\n",
    "\n",
    "#print('Dictionary: ',tokenizer.word_index,'\\n')\n",
    "print('index of rage = ',tokenizer.word_index['rage'])\n",
    "print('\\nTotal Words in the Tokenizer (+OOV) =',total_words,'\\n')\n",
    "\n",
    "# Show Part of Corpus\n",
    "print('First lines of the Corpus: \\n')\n",
    "corpus[0:10]"
   ]
  },
  {
   "cell_type": "markdown",
   "metadata": {},
   "source": [
    "## Crea n-Grams para datos de entrenamiento y etiquetas\n"
   ]
  },
  {
   "cell_type": "code",
   "execution_count": 6,
   "metadata": {
    "id": "PRnDnCW-Z7qv"
   },
   "outputs": [
    {
     "name": "stdout",
     "output_type": "stream",
     "text": [
      "input_sequences[0:10] =  [[34, 417], [34, 417, 877], [34, 417, 877, 166], [34, 417, 877, 166, 213], [34, 417, 877, 166, 213, 517], [8, 878], [8, 878, 134], [8, 878, 134, 351], [8, 878, 134, 351, 102], [8, 878, 134, 351, 102, 156]] \n",
      "\n",
      "\n",
      "long. n-grama más largo: 11\n"
     ]
    }
   ],
   "source": [
    "# create input sequences using list of tokens\n",
    "input_sequences = []\n",
    "for line in corpus:\n",
    "    token_list = tokenizer.texts_to_sequences([line])[0]\n",
    "    for i in range(1, len(token_list)):\n",
    "        n_gram_sequence = token_list[:i+1]\n",
    "        input_sequences.append(n_gram_sequence)\n",
    "        \n",
    "print('input_sequences[0:10] = ',input_sequences[:10],'\\n')\n",
    "\n",
    "# Determine longest n-gram\n",
    "max_seq_test_len = max([len(x) for x in input_sequences])\n",
    "print('\\nlong. n-grama más largo:',max_seq_test_len)\n"
   ]
  },
  {
   "cell_type": "code",
   "execution_count": 7,
   "metadata": {
    "id": "PRnDnCW-Z7qv"
   },
   "outputs": [],
   "source": [
    "# pad sequences \n",
    "max_sequence_len = max([len(x) for x in input_sequences])\n",
    "input_sequences = np.array(pad_sequences(input_sequences, maxlen=max_sequence_len, padding='pre'))\n",
    "\n",
    "# create predictors and label\n",
    "predictors, label = input_sequences[:,:-1],input_sequences[:,-1]\n",
    "\n",
    "label = to_categorical(label, num_classes=total_words)"
   ]
  },
  {
   "cell_type": "markdown",
   "metadata": {},
   "source": [
    "## Crea el modelo\n"
   ]
  },
  {
   "cell_type": "code",
   "execution_count": 8,
   "metadata": {
    "id": "w9vH8Y59ajYL"
   },
   "outputs": [],
   "source": [
    "model = Sequential()\n",
    "model.add(Embedding(total_words, 100, input_length=max_sequence_len-1))\n",
    "model.add(Bidirectional(LSTM(150, return_sequences = True)))\n",
    "model.add(Dropout(0.2))\n",
    "model.add(LSTM(100))\n",
    "model.add(Dense(total_words/2, activation='relu', kernel_regularizer=regularizers.l2(0.01)))\n",
    "model.add(Dense(total_words, activation='softmax'))\n",
    "model.compile(loss='categorical_crossentropy', optimizer='adam', metrics=['accuracy'])"
   ]
  },
  {
   "cell_type": "code",
   "execution_count": 9,
   "metadata": {
    "id": "w9vH8Y59ajYL"
   },
   "outputs": [
    {
     "name": "stdout",
     "output_type": "stream",
     "text": [
      "Model: \"sequential\"\n",
      "_________________________________________________________________\n",
      "Layer (type)                 Output Shape              Param #   \n",
      "=================================================================\n",
      "embedding (Embedding)        (None, 10, 100)           321100    \n",
      "_________________________________________________________________\n",
      "bidirectional (Bidirectional (None, 10, 300)           301200    \n",
      "_________________________________________________________________\n",
      "dropout (Dropout)            (None, 10, 300)           0         \n",
      "_________________________________________________________________\n",
      "lstm_1 (LSTM)                (None, 100)               160400    \n",
      "_________________________________________________________________\n",
      "dense (Dense)                (None, 1605)              162105    \n",
      "_________________________________________________________________\n",
      "dense_1 (Dense)              (None, 3211)              5156866   \n",
      "=================================================================\n",
      "Total params: 6,101,671\n",
      "Trainable params: 6,101,671\n",
      "Non-trainable params: 0\n",
      "_________________________________________________________________\n",
      "None\n"
     ]
    },
    {
     "data": {
      "image/png": "[encoded data removed]",
      "text/plain": [
       "<IPython.core.display.Image object>"
      ]
     },
     "execution_count": 9,
     "metadata": {},
     "output_type": "execute_result"
    }
   ],
   "source": [
    "print(model.summary())\n",
    "plot_model(model, to_file='../Imagenes/sonetos.png', \n",
    "           show_shapes=True)"
   ]
  },
  {
   "cell_type": "markdown",
   "metadata": {},
   "source": [
    "## Entrena"
   ]
  },
  {
   "cell_type": "code",
   "execution_count": 10,
   "metadata": {
    "id": "AIg2f1HBxqof"
   },
   "outputs": [
    {
     "name": "stdout",
     "output_type": "stream",
     "text": [
      "Train on 15462 samples\n",
      "Epoch 1/100\n",
      "15462/15462 [==============================] - 124s 8ms/sample - loss: 6.9038 - accuracy: 0.0216\n",
      "Epoch 2/100\n",
      "15462/15462 [==============================] - 113s 7ms/sample - loss: 6.5005 - accuracy: 0.0227\n",
      "Epoch 3/100\n",
      "15462/15462 [==============================] - 104s 7ms/sample - loss: 6.4022 - accuracy: 0.0240\n",
      "Epoch 4/100\n",
      "15462/15462 [==============================] - 130s 8ms/sample - loss: 6.2774 - accuracy: 0.0270\n",
      "Epoch 5/100\n",
      "15462/15462 [==============================] - 126s 8ms/sample - loss: 6.1789 - accuracy: 0.0349\n",
      "Epoch 6/100\n",
      "15462/15462 [==============================] - 89s 6ms/sample - loss: 6.0936 - accuracy: 0.0380\n",
      "Epoch 7/100\n",
      "15462/15462 [==============================] - 91s 6ms/sample - loss: 6.0174 - accuracy: 0.0416\n",
      "Epoch 8/100\n",
      "15462/15462 [==============================] - 90s 6ms/sample - loss: 5.9288 - accuracy: 0.0453\n",
      "Epoch 9/100\n",
      "15462/15462 [==============================] - 90s 6ms/sample - loss: 5.8338 - accuracy: 0.0519\n",
      "Epoch 10/100\n",
      "15462/15462 [==============================] - 91s 6ms/sample - loss: 5.7278 - accuracy: 0.0586\n",
      "Epoch 11/100\n",
      "15462/15462 [==============================] - 90s 6ms/sample - loss: 5.6250 - accuracy: 0.0624\n",
      "Epoch 12/100\n",
      "15462/15462 [==============================] - 90s 6ms/sample - loss: 5.5199 - accuracy: 0.0696\n",
      "Epoch 13/100\n",
      "15462/15462 [==============================] - 90s 6ms/sample - loss: 5.4180 - accuracy: 0.0770\n",
      "Epoch 14/100\n",
      "15462/15462 [==============================] - 90s 6ms/sample - loss: 5.3231 - accuracy: 0.0812\n",
      "Epoch 15/100\n",
      "15462/15462 [==============================] - 90s 6ms/sample - loss: 5.2243 - accuracy: 0.0882\n",
      "Epoch 16/100\n",
      "15462/15462 [==============================] - 91s 6ms/sample - loss: 5.1296 - accuracy: 0.0944\n",
      "Epoch 17/100\n",
      "15462/15462 [==============================] - 89s 6ms/sample - loss: 5.0357 - accuracy: 0.1003\n",
      "Epoch 18/100\n",
      "15462/15462 [==============================] - 83s 5ms/sample - loss: 4.9465 - accuracy: 0.1104\n",
      "Epoch 19/100\n",
      "15462/15462 [==============================] - 83s 5ms/sample - loss: 4.8444 - accuracy: 0.1178\n",
      "Epoch 20/100\n",
      "15462/15462 [==============================] - 83s 5ms/sample - loss: 4.7512 - accuracy: 0.1236\n",
      "Epoch 21/100\n",
      "15462/15462 [==============================] - 83s 5ms/sample - loss: 4.6581 - accuracy: 0.1330\n",
      "Epoch 22/100\n",
      "15462/15462 [==============================] - 83s 5ms/sample - loss: 4.5687 - accuracy: 0.1409\n",
      "Epoch 23/100\n",
      "15462/15462 [==============================] - 83s 5ms/sample - loss: 4.4696 - accuracy: 0.1528\n",
      "Epoch 24/100\n",
      "15462/15462 [==============================] - 83s 5ms/sample - loss: 4.3714 - accuracy: 0.1665\n",
      "Epoch 25/100\n",
      "15462/15462 [==============================] - 83s 5ms/sample - loss: 4.2818 - accuracy: 0.1766\n",
      "Epoch 26/100\n",
      "15462/15462 [==============================] - 83s 5ms/sample - loss: 4.1756 - accuracy: 0.1907\n",
      "Epoch 27/100\n",
      "15462/15462 [==============================] - 83s 5ms/sample - loss: 4.0885 - accuracy: 0.2006\n",
      "Epoch 28/100\n",
      "15462/15462 [==============================] - 83s 5ms/sample - loss: 3.9861 - accuracy: 0.2143\n",
      "Epoch 29/100\n",
      "15462/15462 [==============================] - 83s 5ms/sample - loss: 3.8985 - accuracy: 0.2286\n",
      "Epoch 30/100\n",
      "15462/15462 [==============================] - 83s 5ms/sample - loss: 3.8006 - accuracy: 0.2441\n",
      "Epoch 31/100\n",
      "15462/15462 [==============================] - 83s 5ms/sample - loss: 3.7157 - accuracy: 0.2591\n",
      "Epoch 32/100\n",
      "15462/15462 [==============================] - 87s 6ms/sample - loss: 3.6145 - accuracy: 0.2742\n",
      "Epoch 33/100\n",
      "15462/15462 [==============================] - 78s 5ms/sample - loss: 3.5389 - accuracy: 0.2943\n",
      "Epoch 34/100\n",
      "15462/15462 [==============================] - 79s 5ms/sample - loss: 3.4463 - accuracy: 0.3128\n",
      "Epoch 35/100\n",
      "15462/15462 [==============================] - 73s 5ms/sample - loss: 3.3642 - accuracy: 0.3313\n",
      "Epoch 36/100\n",
      "15462/15462 [==============================] - 73s 5ms/sample - loss: 3.2903 - accuracy: 0.3464\n",
      "Epoch 37/100\n",
      "15462/15462 [==============================] - 72s 5ms/sample - loss: 3.2163 - accuracy: 0.3610\n",
      "Epoch 38/100\n",
      "15462/15462 [==============================] - 71s 5ms/sample - loss: 3.1351 - accuracy: 0.3817\n",
      "Epoch 39/100\n",
      "15462/15462 [==============================] - 71s 5ms/sample - loss: 3.0525 - accuracy: 0.4012\n",
      "Epoch 40/100\n",
      "15462/15462 [==============================] - 72s 5ms/sample - loss: 2.9784 - accuracy: 0.4148\n",
      "Epoch 41/100\n",
      "15462/15462 [==============================] - 78s 5ms/sample - loss: 2.9153 - accuracy: 0.4321\n",
      "Epoch 42/100\n",
      "15462/15462 [==============================] - 73s 5ms/sample - loss: 2.8443 - accuracy: 0.4483\n",
      "Epoch 43/100\n",
      "15462/15462 [==============================] - 75s 5ms/sample - loss: 2.7891 - accuracy: 0.4567\n",
      "Epoch 44/100\n",
      "15462/15462 [==============================] - 80s 5ms/sample - loss: 2.7309 - accuracy: 0.4733\n",
      "Epoch 45/100\n",
      "15462/15462 [==============================] - 72s 5ms/sample - loss: 2.6593 - accuracy: 0.4876\n",
      "Epoch 46/100\n",
      "15462/15462 [==============================] - 72s 5ms/sample - loss: 2.6006 - accuracy: 0.5024\n",
      "Epoch 47/100\n",
      "15462/15462 [==============================] - 75s 5ms/sample - loss: 2.5596 - accuracy: 0.5072\n",
      "Epoch 48/100\n",
      "15462/15462 [==============================] - 76s 5ms/sample - loss: 2.5005 - accuracy: 0.5247\n",
      "Epoch 49/100\n",
      "15462/15462 [==============================] - 72s 5ms/sample - loss: 2.4416 - accuracy: 0.5376\n",
      "Epoch 50/100\n",
      "15462/15462 [==============================] - 73s 5ms/sample - loss: 2.3894 - accuracy: 0.5477\n",
      "Epoch 51/100\n",
      "15462/15462 [==============================] - 79s 5ms/sample - loss: 2.3365 - accuracy: 0.5613\n",
      "Epoch 52/100\n",
      "15462/15462 [==============================] - 82s 5ms/sample - loss: 2.2947 - accuracy: 0.5695\n",
      "Epoch 53/100\n",
      "15462/15462 [==============================] - 80s 5ms/sample - loss: 2.2460 - accuracy: 0.5846\n",
      "Epoch 54/100\n",
      "15462/15462 [==============================] - 79s 5ms/sample - loss: 2.2029 - accuracy: 0.5894\n",
      "Epoch 55/100\n",
      "15462/15462 [==============================] - 76s 5ms/sample - loss: 2.1632 - accuracy: 0.6045\n",
      "Epoch 56/100\n",
      "15462/15462 [==============================] - 76s 5ms/sample - loss: 2.1208 - accuracy: 0.6071\n",
      "Epoch 57/100\n",
      "15462/15462 [==============================] - 75s 5ms/sample - loss: 2.0766 - accuracy: 0.6209\n",
      "Epoch 58/100\n",
      "15462/15462 [==============================] - 75s 5ms/sample - loss: 2.0474 - accuracy: 0.6249\n",
      "Epoch 59/100\n",
      "15462/15462 [==============================] - 75s 5ms/sample - loss: 2.0070 - accuracy: 0.6370\n",
      "Epoch 60/100\n",
      "15462/15462 [==============================] - 88s 6ms/sample - loss: 1.9635 - accuracy: 0.6484\n",
      "Epoch 61/100\n",
      "15462/15462 [==============================] - 78s 5ms/sample - loss: 1.9387 - accuracy: 0.6510\n",
      "Epoch 62/100\n",
      "15462/15462 [==============================] - 78s 5ms/sample - loss: 1.9077 - accuracy: 0.6552\n",
      "Epoch 63/100\n",
      "15462/15462 [==============================] - 74s 5ms/sample - loss: 1.8570 - accuracy: 0.6684\n",
      "Epoch 64/100\n",
      "15462/15462 [==============================] - 74s 5ms/sample - loss: 1.8286 - accuracy: 0.6716\n",
      "Epoch 65/100\n",
      "15462/15462 [==============================] - 74s 5ms/sample - loss: 1.8109 - accuracy: 0.6757\n",
      "Epoch 66/100\n",
      "15462/15462 [==============================] - 81s 5ms/sample - loss: 1.7666 - accuracy: 0.6857\n",
      "Epoch 67/100\n",
      "15462/15462 [==============================] - 79s 5ms/sample - loss: 1.7576 - accuracy: 0.6891\n",
      "Epoch 68/100\n",
      "15462/15462 [==============================] - 76s 5ms/sample - loss: 1.7132 - accuracy: 0.6981\n",
      "Epoch 69/100\n",
      "15462/15462 [==============================] - 75s 5ms/sample - loss: 1.6938 - accuracy: 0.7019\n",
      "Epoch 70/100\n",
      "15462/15462 [==============================] - 76s 5ms/sample - loss: 1.6917 - accuracy: 0.7002\n",
      "Epoch 71/100\n",
      "15462/15462 [==============================] - 76s 5ms/sample - loss: 1.6407 - accuracy: 0.7139\n",
      "Epoch 72/100\n",
      "15462/15462 [==============================] - 76s 5ms/sample - loss: 1.6013 - accuracy: 0.7255\n",
      "Epoch 73/100\n",
      "15462/15462 [==============================] - 76s 5ms/sample - loss: 1.5896 - accuracy: 0.7219\n",
      "Epoch 74/100\n",
      "15462/15462 [==============================] - 75s 5ms/sample - loss: 1.5665 - accuracy: 0.7262\n",
      "Epoch 75/100\n",
      "15462/15462 [==============================] - 76s 5ms/sample - loss: 1.5539 - accuracy: 0.7311\n",
      "Epoch 76/100\n",
      "15462/15462 [==============================] - 76s 5ms/sample - loss: 1.5267 - accuracy: 0.7395\n",
      "Epoch 77/100\n",
      "15462/15462 [==============================] - 76s 5ms/sample - loss: 1.4955 - accuracy: 0.7423\n",
      "Epoch 78/100\n",
      "15462/15462 [==============================] - 76s 5ms/sample - loss: 1.4860 - accuracy: 0.7445\n",
      "Epoch 79/100\n",
      "15462/15462 [==============================] - 76s 5ms/sample - loss: 1.4752 - accuracy: 0.7475\n",
      "Epoch 80/100\n",
      "15462/15462 [==============================] - 76s 5ms/sample - loss: 1.4457 - accuracy: 0.7528\n",
      "Epoch 81/100\n",
      "15462/15462 [==============================] - 76s 5ms/sample - loss: 1.4415 - accuracy: 0.7493\n",
      "Epoch 82/100\n",
      "15462/15462 [==============================] - 76s 5ms/sample - loss: 1.4143 - accuracy: 0.7614\n",
      "Epoch 83/100\n",
      "15462/15462 [==============================] - 76s 5ms/sample - loss: 1.3932 - accuracy: 0.7652\n",
      "Epoch 84/100\n",
      "15462/15462 [==============================] - 76s 5ms/sample - loss: 1.3788 - accuracy: 0.7636\n",
      "Epoch 85/100\n",
      "15462/15462 [==============================] - 76s 5ms/sample - loss: 1.3747 - accuracy: 0.7641\n",
      "Epoch 86/100\n",
      "15462/15462 [==============================] - 76s 5ms/sample - loss: 1.3530 - accuracy: 0.7689\n",
      "Epoch 87/100\n",
      "15462/15462 [==============================] - 75s 5ms/sample - loss: 1.3217 - accuracy: 0.7740\n",
      "Epoch 88/100\n",
      "15462/15462 [==============================] - 76s 5ms/sample - loss: 1.3201 - accuracy: 0.7736\n",
      "Epoch 89/100\n",
      "15462/15462 [==============================] - 75s 5ms/sample - loss: 1.3068 - accuracy: 0.7748\n",
      "Epoch 90/100\n",
      "15462/15462 [==============================] - 76s 5ms/sample - loss: 1.2978 - accuracy: 0.7760\n",
      "Epoch 91/100\n",
      "15462/15462 [==============================] - 75s 5ms/sample - loss: 1.2877 - accuracy: 0.7757\n",
      "Epoch 92/100\n",
      "15462/15462 [==============================] - 75s 5ms/sample - loss: 1.2707 - accuracy: 0.7809\n",
      "Epoch 93/100\n",
      "15462/15462 [==============================] - 76s 5ms/sample - loss: 1.2564 - accuracy: 0.7842\n",
      "Epoch 94/100\n",
      "15462/15462 [==============================] - 76s 5ms/sample - loss: 1.2484 - accuracy: 0.7831\n",
      "Epoch 95/100\n",
      "15462/15462 [==============================] - 76s 5ms/sample - loss: 1.2275 - accuracy: 0.7870\n",
      "Epoch 96/100\n",
      "15462/15462 [==============================] - 75s 5ms/sample - loss: 1.2120 - accuracy: 0.7913\n",
      "Epoch 97/100\n",
      "15462/15462 [==============================] - 75s 5ms/sample - loss: 1.2155 - accuracy: 0.7881\n",
      "Epoch 98/100\n",
      "15462/15462 [==============================] - 76s 5ms/sample - loss: 1.1953 - accuracy: 0.7950\n",
      "Epoch 99/100\n",
      "15462/15462 [==============================] - 76s 5ms/sample - loss: 1.1939 - accuracy: 0.7934\n",
      "Epoch 100/100\n",
      "15462/15462 [==============================] - 76s 5ms/sample - loss: 1.1778 - accuracy: 0.7976\n"
     ]
    }
   ],
   "source": [
    " history = model.fit(predictors, label, epochs=100, verbose=1)"
   ]
  },
  {
   "cell_type": "code",
   "execution_count": 11,
   "metadata": {
    "id": "1fXTEO3GJ282"
   },
   "outputs": [
    {
     "data": {
      "image/png": "[encoded data removed]",
      "text/plain": [
       "<Figure size 432x288 with 1 Axes>"
      ]
     },
     "metadata": {
      "needs_background": "light"
     },
     "output_type": "display_data"
    },
    {
     "data": {
      "image/png": "[encoded data removed]",
      "text/plain": [
       "<Figure size 432x288 with 1 Axes>"
      ]
     },
     "metadata": {
      "needs_background": "light"
     },
     "output_type": "display_data"
    }
   ],
   "source": [
    "import matplotlib.pyplot as plt\n",
    "acc = history.history['accuracy']\n",
    "loss = history.history['loss']\n",
    "\n",
    "epochs = range(len(acc))\n",
    "\n",
    "plt.plot(epochs, acc, 'b', label='Training accuracy')\n",
    "plt.title('Training accuracy')\n",
    "\n",
    "plt.figure()\n",
    "\n",
    "plt.plot(epochs, loss, 'b', label='Training Loss')\n",
    "plt.title('Training loss')\n",
    "plt.legend()\n",
    "\n",
    "plt.show()"
   ]
  },
  {
   "cell_type": "markdown",
   "metadata": {},
   "source": [
    "## Genera texto automáticamente"
   ]
  },
  {
   "cell_type": "code",
   "execution_count": 12,
   "metadata": {
    "id": "6Vc6PHgxa6Hm"
   },
   "outputs": [
    {
     "name": "stdout",
     "output_type": "stream",
     "text": [
      "Who are you, so too cruel? in you have free tend show thee me heaven dead deem'd lie on her long alone must not must strive to write self hue most scope still true shown pride words behold old hate old part my view you are pride prove me 'no new prove be worth and thee doth tender'd made write you bright 'no new part me young me old write for me i love not thought thy sight must new must find torn clears dyed new breast lack where how to thee now swearing write old love me prove me write old for thee in thee\n"
     ]
    }
   ],
   "source": [
    "seed_text = \"Who are you, so too cruel?\"\n",
    "next_words = 100\n",
    "  \n",
    "for _ in range(next_words):\n",
    "    token_list = tokenizer.texts_to_sequences([seed_text])[0]\n",
    "    token_list = pad_sequences([token_list], maxlen=max_sequence_len-1, padding='pre')\n",
    "    predicted = model.predict_classes(token_list, verbose=0)\n",
    "    output_word = \"\"\n",
    "    for word, index in tokenizer.word_index.items():\n",
    "        if index == predicted:\n",
    "            output_word = word\n",
    "            break\n",
    "    seed_text += \" \" + output_word\n",
    "print(seed_text)"
   ]
  },
  {
   "cell_type": "raw",
   "metadata": {},
   "source": [
    "¿Quién eres, tan cruel? en ti tienes libre, ten cuidado, muéstrame el cielo muerto, consideró que yacía en ella mucho tiempo solo, no debes esforzarte por escribir el tono más amplio, todavía verdadero, palabras de orgullo, he aquí, viejo odio, parte vieja, mi punto de vista, eres orgullo, demuéstrame 'no hay nada nuevo. vale la pena y tu ternura te hizo escribirte brillante 'ninguna parte nueva yo joven yo viejo escribe para mí amo no pensé que tu vista debe ser nueva debe encontrar rasgados claros teñidos nuevos pechos falta dónde cómo estás ahora jurando escribe viejo amor demuéstrame escribe antiguo para ti en ti"
   ]
  }
 ],
 "metadata": {
  "accelerator": "GPU",
  "colab": {
   "name": "NLP_Week4_Exercise_Shakespeare_Answer.ipynb",
   "provenance": [],
   "toc_visible": true
  },
  "kernelspec": {
   "display_name": "Python 3",
   "language": "python",
   "name": "python3"
  },
  "language_info": {
   "codemirror_mode": {
    "name": "ipython",
    "version": 3
   },
   "file_extension": ".py",
   "mimetype": "text/x-python",
   "name": "python",
   "nbconvert_exporter": "python",
   "pygments_lexer": "ipython3",
   "version": "3.7.7"
  }
 },
 "nbformat": 4,
 "nbformat_minor": 4
}
