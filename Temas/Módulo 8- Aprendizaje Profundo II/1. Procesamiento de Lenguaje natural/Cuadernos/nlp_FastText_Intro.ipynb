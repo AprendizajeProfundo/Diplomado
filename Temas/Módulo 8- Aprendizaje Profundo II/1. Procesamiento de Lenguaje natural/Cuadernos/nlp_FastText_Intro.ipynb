{
 "cells": [
  {
   "cell_type": "markdown",
   "id": "ed579373-0237-47c7-bac0-df327165f0fb",
   "metadata": {
    "tags": []
   },
   "source": [
    "# <span style=\"color:green\"><center>Diplomado en Inteligencia Artificial y Aprendizaje Profundo</center></span>"
   ]
  },
  {
   "cell_type": "markdown",
   "id": "067f9282-4c82-4d4b-98f9-93b2028b6535",
   "metadata": {
    "tags": []
   },
   "source": [
    "# <span style=\"color:red\"><center>Introducción a FastText</center></span>"
   ]
  },
  {
   "cell_type": "markdown",
   "id": "8995cbdb-7711-4846-b7e7-ef6feb846a0c",
   "metadata": {},
   "source": [
    "<center>Library for efficient text classification and representation learning</center>"
   ]
  },
  {
   "cell_type": "markdown",
   "id": "26d4fa8b-e43d-476c-9eb3-60e229fccaa1",
   "metadata": {},
   "source": [
    "##   <span style=\"color:blue\">Profesores</span>"
   ]
  },
  {
   "cell_type": "markdown",
   "id": "d1d35956-c081-4d50-8b47-b1516900712c",
   "metadata": {},
   "source": [
    "1. Alvaro Mauricio Montenegro Díaz, ammontenegrod@unal.edu.co\n",
    "2. Daniel Mauricio Montenegro Reyes, dextronomo@gmail.com \n",
    "3. Campo Elías Pardo Turriago, cepardot@unal.edu.co "
   ]
  },
  {
   "cell_type": "markdown",
   "id": "c7d8c5e8-1302-4fa6-bd10-bea8064d8680",
   "metadata": {},
   "source": [
    "##   <span style=\"color:blue\">Asesora Medios y Marketing digital</span>\n",
    " "
   ]
  },
  {
   "cell_type": "markdown",
   "id": "fc912a37-b8a8-47f5-9dcd-5e764b8d17eb",
   "metadata": {},
   "source": [
    "4. Maria del Pilar Montenegro, pmontenegro88@gmail.com "
   ]
  },
  {
   "cell_type": "markdown",
   "id": "71796636-0712-4c57-8490-2bfffdbd8e92",
   "metadata": {},
   "source": [
    "## <span style=\"color:blue\">Asistentes</span>"
   ]
  },
  {
   "cell_type": "markdown",
   "id": "8078ddb6-7dfd-47f8-a2a0-c1d62d4beca8",
   "metadata": {},
   "source": [
    "5. Oleg Jarma, ojarmam@unal.edu.co \n",
    "6. Laura Lizarazo, ljlizarazore@unal.edu.co "
   ]
  },
  {
   "cell_type": "markdown",
   "id": "092a515e-0050-4a43-a94b-696c331fd8b2",
   "metadata": {},
   "source": [
    "## <span style=\"color:blue\">Referencias</span> "
   ]
  },
  {
   "cell_type": "markdown",
   "id": "8328e410-0067-4af5-8906-60b1658db2c6",
   "metadata": {},
   "source": [
    "1. P. Bojanowski*, E. Grave*, A. Joulin, T. Mikolov, [Enriching Word Vectors with Subword Information](https://arxiv.org/pdf/1607.04606.pdf)\n",
    "2. A. Joulin, E. Grave, P. Bojanowski, T. Mikolov, [Bag of Tricks for Efficient Text Classification](https://arxiv.org/pdf/1607.01759.pdf)\n",
    "3. A. Joulin, E. Grave, P. Bojanowski, M. Douze, H. Jégou, T. Mikolov, [FastText.zip: Compressing text classification models](https://arxiv.org/pdf/1612.03651.pdf)"
   ]
  },
  {
   "cell_type": "markdown",
   "id": "6dd985de-295f-43a5-84ae-976f47a40f2b",
   "metadata": {},
   "source": [
    "## <span style=\"color:blue\">Contenido</span>"
   ]
  },
  {
   "cell_type": "markdown",
   "id": "48a52b8a-4b57-45b2-92be-3eb2ab1babbd",
   "metadata": {},
   "source": [
    "* [Introducción](#Introducción)\n",
    "* [Instalación](#Instalación)\n",
    "* [Modelo No Supervisado](#Modelo-No-Suervisado)\n",
    "    * [Uso del Modelo (Toy Example)](#Uso-del-Modelo-\\(Toy-Example\\))\n",
    "        * [Jugando con los Parámetros](#Jugando-con-los-Parámetros)\n",
    "        * [Palabras vecinas más cercanas](#Palabras-vecinas-más-cercanas)\n",
    "    * [Uso del Modelo (Wikipedia)](#Uso-del-Modelo-(Wikipedia))\n",
    "        * [Preprocesamiento](#Preprocesamiento)\n",
    "        * [Entrenando el Modelo](#Entrenando-el-Modelo)\n",
    "        * [Palabras más cercanas](#Palabras-más-cercanas)\n",
    "        * [Curiosidades](#Curiosidades)\n",
    "        * [Analogía de Palabras](#Analogía-de-Palabras)\n",
    "* [Modelo Supervisado](#Modelo-Supervisado)\n",
    "    * [Uso del Modelo](#Uso-del-Modelo)\n",
    "    * [Mejorando el Modelo](#Mejorando-el-Modelo)\n",
    "    * [Autotuning de Parámtros](#Autotuning-de-Parámetros)"
   ]
  },
  {
   "cell_type": "markdown",
   "id": "116cd36d-400d-4d95-a4d2-2f75f440b48f",
   "metadata": {},
   "source": [
    "## <span style=\"color:blue\">Introducción</span>"
   ]
  },
  {
   "cell_type": "markdown",
   "id": "7aed1d13-ba1b-4290-b47f-7ccd527a182f",
   "metadata": {},
   "source": [
    "El modelo [FastText](https://fasttext.cc/) fue introducido por primera vez por Facebook en 2016 como una extensión y supuestamente una mejora del modelo vainilla de Word2Vec. \n",
    "\n",
    "Está basado en el artículo original titulado [Enriching Word Vectors with Subword Information](https://arxiv.org/pdf/1607.04606.pdf) de Mikolov et al. que es una lectura excelente para obtener una comprensión profunda de cómo funciona este modelo. En general, FastText es un marco para el aprendizaje de representaciones de palabras y también para realizar una clasificación de texto sólida, rápida y precisa. \n",
    "\n",
    "El marco es de código abierto de Facebook en GitHub y afirma tener lo siguiente.\n",
    "\n",
    "1. Vectores de palabras en inglés de última generación.\n",
    "2. Vectores de palabras para 157 idiomas entrenados en Wikipedia y rastreo.\n",
    "3. Modelos para identificación de idiomas y diversas tareas supervisadas.\n",
    "\n",
    "De acuedo con los autores,  en general, los modelos predictivos como el modelo *Word2Vec* suelen considerar cada palabra como una entidad distinta (por ejemplo, dónde) y generan una incrustación densa para la palabra. \n",
    "\n",
    "Sin embargo, esto representa una seria limitación con los idiomas que tienen un vocabulario masivo y muchas palabras raras que pueden no aparecer mucho en diferentes corpus. El modelo Word2Vec normalmente ignora la estructura morfológica de cada palabra y considera una palabra como una sola entidad. \n",
    "\n",
    "El modelo **FastText** considera cada palabra como una bolsa de n-gramas de caracteres. Esto también se denomina modelo de subpalabras en el documento.\n",
    "\n",
    "\n",
    "Se agregan símbolos de límites especiales <y> al principio y al final de las palabras. Esto  permite distinguir prefijos y sufijos de otras secuencias de caracteres. También incluiyen la propia palabra *w* en el conjunto de sus n-gramas, para aprender una representación de cada palabra (además de su carácter n-gramas). \n",
    "    \n",
    "    \n",
    "Tomando la palabra *where* y n = 3 (tri-gramas) como ejemplo, estará representada por el carácter n-gramas: <wh, whe, her, ere, re> y la secuencia especial <where> que representa la palabra completa . \n",
    "    \n",
    " Tenga en cuenta que la secuencia, correspondiente a la palabra <her> es diferente del trigrama ella de la palabra where.\n",
    "    \n",
    "En la práctica, el artículo recomienda extraer todos los n-gramas para $3\\le n \\le 6$ Este es un enfoque muy simple, y se podrían considerar diferentes conjuntos de n-gramas, por ejemplo, tomando todos los prefijos y sufijos. \n",
    "    \n",
    "Normalmente asociamos una representación vectorial (incrustación) a cada n-grama de una palabra. Por tanto, podemos representar una palabra mediante la suma de las representaciones vectoriales de sus n-gramas o el promedio de la incrustación de estos n-gramas. \n",
    "    \n",
    "Según los autores, debido a este efecto de aprovechar los n-gramas de palabras individuales basadas en sus caracteres, existe una mayor probabilidad de que las palabras raras obtengan una buena representación, ya que sus n-gramas basados en caracteres deben aparecer en otras palabras del corpus.\n",
    "    \n",
    "Vamos a la práctica."
   ]
  },
  {
   "cell_type": "markdown",
   "id": "14794e07-4318-4ec9-b6b3-b66c644699fe",
   "metadata": {},
   "source": [
    "[[Volver al inicio]](#Contenido)"
   ]
  },
  {
   "cell_type": "markdown",
   "id": "debc2c13-e6f0-4eeb-be52-fa1ffd82aeba",
   "metadata": {},
   "source": [
    "## <span style=\"color:blue\">Instalación</span>"
   ]
  },
  {
   "cell_type": "markdown",
   "id": "799b181b-4dac-4c0e-ab23-f94d30d49425",
   "metadata": {},
   "source": [
    "`$ git clone https://github.com/facebookresearch/fastText.git`\n",
    "\n",
    "`$ cd fastText`\n",
    "\n",
    "`$ sudo pip install .`\n",
    "\n",
    "`$ # or :`\n",
    "\n",
    "`$ sudo python setup.py install`"
   ]
  },
  {
   "cell_type": "markdown",
   "id": "ace4727b-3cbe-4032-ba2e-54c3c28c09eb",
   "metadata": {},
   "source": [
    "Si todo va bien, el siguiente comando debería funcionar:"
   ]
  },
  {
   "cell_type": "code",
   "execution_count": 1,
   "id": "6c6ae491-f39c-4961-b113-da6e7f762f3f",
   "metadata": {},
   "outputs": [],
   "source": [
    "import fasttext as ft"
   ]
  },
  {
   "cell_type": "code",
   "execution_count": 8,
   "id": "8af209fc-d056-4592-b42d-c048fe45f544",
   "metadata": {},
   "outputs": [
    {
     "name": "stdout",
     "output_type": "stream",
     "text": [
      "Help on module fasttext.FastText in fasttext:\n",
      "\n",
      "NAME\n",
      "    fasttext.FastText\n",
      "\n",
      "DESCRIPTION\n",
      "    # Copyright (c) 2017-present, Facebook, Inc.\n",
      "    # All rights reserved.\n",
      "    #\n",
      "    # This source code is licensed under the MIT license found in the\n",
      "    # LICENSE file in the root directory of this source tree.\n",
      "\n",
      "FUNCTIONS\n",
      "    cbow(*kargs, **kwargs)\n",
      "    \n",
      "    load_model(path)\n",
      "        Load a model given a filepath and return a model object.\n",
      "    \n",
      "    read_args(arg_list, arg_dict, arg_names, default_values)\n",
      "    \n",
      "    skipgram(*kargs, **kwargs)\n",
      "    \n",
      "    supervised(*kargs, **kwargs)\n",
      "    \n",
      "    tokenize(text)\n",
      "        Given a string of text, tokenize it and return a list of tokens\n",
      "    \n",
      "    train_supervised(*kargs, **kwargs)\n",
      "        Train a supervised model and return a model object.\n",
      "        \n",
      "        input must be a filepath. The input text does not need to be tokenized\n",
      "        as per the tokenize function, but it must be preprocessed and encoded\n",
      "        as UTF-8. You might want to consult standard preprocessing scripts such\n",
      "        as tokenizer.perl mentioned here: http://www.statmt.org/wmt07/baseline.html\n",
      "        \n",
      "        The input file must must contain at least one label per line. For an\n",
      "        example consult the example datasets which are part of the fastText\n",
      "        repository such as the dataset pulled by classification-example.sh.\n",
      "    \n",
      "    train_unsupervised(*kargs, **kwargs)\n",
      "        Train an unsupervised model and return a model object.\n",
      "        \n",
      "        input must be a filepath. The input text does not need to be tokenized\n",
      "        as per the tokenize function, but it must be preprocessed and encoded\n",
      "        as UTF-8. You might want to consult standard preprocessing scripts such\n",
      "        as tokenizer.perl mentioned here: http://www.statmt.org/wmt07/baseline.html\n",
      "        \n",
      "        The input field must not contain any labels or use the specified label prefix\n",
      "        unless it is ok for those words to be ignored. For an example consult the\n",
      "        dataset pulled by the example script word-vector-example.sh, which is\n",
      "        part of the fastText repository.\n",
      "\n",
      "DATA\n",
      "    BOW = '<'\n",
      "    EOS = '</s>'\n",
      "    EOW = '>'\n",
      "    absolute_import = _Feature((2, 5, 0, 'alpha', 1), (3, 0, 0, 'alpha', 0...\n",
      "    displayed_errors = {}\n",
      "    division = _Feature((2, 2, 0, 'alpha', 2), (3, 0, 0, 'alpha', 0), 1310...\n",
      "    print_function = _Feature((2, 6, 0, 'alpha', 2), (3, 0, 0, 'alpha', 0)...\n",
      "    unicode_literals = _Feature((2, 6, 0, 'alpha', 2), (3, 0, 0, 'alpha', ...\n",
      "    unsupervised_default = {'autotuneDuration': 300, 'autotuneMetric': 'f1...\n",
      "\n",
      "FILE\n",
      "    /home/alvaro/miniconda3/envs/ia/lib/python3.8/site-packages/fasttext-0.9.2-py3.8-linux-x86_64.egg/fasttext/FastText.py\n",
      "\n",
      "\n"
     ]
    }
   ],
   "source": [
    "help(ft.FastText)"
   ]
  },
  {
   "cell_type": "code",
   "execution_count": 3,
   "id": "24a512bd-4a33-4d46-ab5f-d0614584be60",
   "metadata": {},
   "outputs": [
    {
     "data": {
      "text/plain": [
       "['BOW',\n",
       " 'EOS',\n",
       " 'EOW',\n",
       " 'FastText',\n",
       " '__builtins__',\n",
       " '__cached__',\n",
       " '__doc__',\n",
       " '__file__',\n",
       " '__loader__',\n",
       " '__name__',\n",
       " '__package__',\n",
       " '__path__',\n",
       " '__spec__',\n",
       " 'absolute_import',\n",
       " 'cbow',\n",
       " 'division',\n",
       " 'load_model',\n",
       " 'print_function',\n",
       " 'skipgram',\n",
       " 'supervised',\n",
       " 'tokenize',\n",
       " 'train_supervised',\n",
       " 'train_unsupervised',\n",
       " 'unicode_literals']"
      ]
     },
     "execution_count": 3,
     "metadata": {},
     "output_type": "execute_result"
    }
   ],
   "source": [
    "dir(ft)"
   ]
  },
  {
   "cell_type": "markdown",
   "id": "ea770254-4538-4833-b3d5-aacc32289670",
   "metadata": {},
   "source": [
    "Como podemos observar, contamos con dos modelos: **unsupervised** y **supervised**.\n",
    "\n",
    "Veamos cómo funcionan."
   ]
  },
  {
   "cell_type": "markdown",
   "id": "aba0f416-2aa7-4e89-992d-73a7241c1b48",
   "metadata": {},
   "source": [
    "[[Volver al inicio]](#Contenido)"
   ]
  },
  {
   "cell_type": "markdown",
   "id": "7a0a7033-485e-4466-b954-e0f8303aed4c",
   "metadata": {},
   "source": [
    "## Modelo No Supervisado"
   ]
  },
  {
   "cell_type": "markdown",
   "id": "5977c7fb-b8a6-4a41-817a-5b7c22b5067d",
   "metadata": {},
   "source": [
    "Para este ejemplo de juguete, usemos los poemas de Daniel."
   ]
  },
  {
   "cell_type": "markdown",
   "id": "35a9f3f4-9374-45bb-8658-d09174a549ac",
   "metadata": {},
   "source": [
    "## Uso del Modelo (Toy Example)"
   ]
  },
  {
   "cell_type": "code",
   "execution_count": 4,
   "id": "28ea8200-868e-4886-af1a-33f230aee5d0",
   "metadata": {},
   "outputs": [
    {
     "name": "stderr",
     "output_type": "stream",
     "text": [
      "Read 0M words\n",
      "Number of words:  184\n",
      "Number of labels: 0\n",
      "Progress: 100.0% words/sec/thread:  159899 lr:  0.000000 avg.loss:  4.119662 ETA:   0h 0m 0s\n"
     ]
    }
   ],
   "source": [
    "model = ft.train_unsupervised('../Datos/Poemas_Todo.txt')"
   ]
  },
  {
   "cell_type": "markdown",
   "id": "593a0f9d-71f7-4c0f-9b7e-cc9c4fe2b378",
   "metadata": {},
   "source": [
    "Veamos qué tiene el modelo por dentro:"
   ]
  },
  {
   "cell_type": "code",
   "execution_count": null,
   "id": "dad67c80-bdbe-43fb-b3a0-da1b9d0b5007",
   "metadata": {},
   "outputs": [],
   "source": [
    "dir(model)"
   ]
  },
  {
   "cell_type": "code",
   "execution_count": 4,
   "id": "1c5dea40-2f7d-46f9-a6f4-8b5e2cafc71d",
   "metadata": {},
   "outputs": [
    {
     "name": "stdout",
     "output_type": "stream",
     "text": [
      "['</s>', 'y', 'de', 'que', 'la', 'el', 'en', 'las', 'con', 'los', 'por', 'un', 'se', 'tu', 'del', 'a', 'una', 'no', 'mi', 'te', 'es', 'me', 'como', 'su', 'mis', 'para', 'sin', 'tus', 'entre', 'porque', 'más', 'lo', 'sus', 'nos', 'noche', 'ese', 'cada', 'hasta', 'pero', 'al', 'todo', 'manos', 'Y', 'cielo', 'cuerpo', 'día', 'ojos', 'ni', 'sueño', 'cuando', 'son', 'ser', 'qué', 'le', 'o', 'Me', 'Te', 'labios', 'ya', 'palabras', 'cuerpos', 'luna', 'cosas', 'si', 'mundo', 'vida', 'eres', 'mujer', 'sobre', 'esa', 'sólo', 'donde', 'este', 'toda', 'sueños', 'jamás', 'En', 'piel,', 'amor', 'e', 'Es', 'siempre', 'Ese', 'va', 'hay', 'visto', 'tan', 'he', 'gusta', 'sueños,', 'lleno', 'imagen', 'contra', 'mar', 'dos', 'Yo', 'He', 'rostro', 'La', 'noche,', 'pasión', 'nuestra', 'quien', 'deseo', 'ha', 'nubes', 'puedo', 'frío', 'abismo', 'alma', 'aire', 'lejos', 'profundo', 'éste', 'volando', 'ésta', 'aún', 'dulce', 'colores', 'cara', 'mismo', 'música', 'El', 'vez', 'letras', 'formas', 'apenas', 'ojos,', 'piel', 'dónde', 'desde', 'ante', 'mirando', 'tiempo', 'veces', 'somos', 'así', 'hacia', 'besos', 'brisa', 'entonces', 'nuestro', 'misma', 'esperar', 'A', 'tí', 'algún', 'busco', 'frase', 'suaves', 'No', 'Déjame', 'tí,', 'agua', 'luces', 'yo', 'mí', 'emociones', 'sonido', 'dame', 'casi', 'Un', 'soy', 'ideas', 'veo', 'mano', 'permanente', 'caricias', 'mientras', 'hace', 'Vivo', 'luz', 'polvo', 'esperando', 'lugar', 'quiero', 'fue', 'seres', 'sol', 'sirve', 'bajo', 'ver', 'colores,', 'brazos,', 'Ayer', 'culpa', 'hora', 'estar', 'llena', 'Con', 'pecho', 'maraña', 'voz', 'interminable', 'espacio', 'sé', 'lágrimas', 'aroma', 'noches', 'caen', 'fuego,', 'sueño,', 'gustó', 'suave', 'caminar', 'tú', 'Sé', 'fuego', 'noche.', 'locos', 'brillo', 'estado', 'queriendo', 'Por', 'nubes,', 'Mi', 'has', 'calor', 'engaño', 'vas', 'paraísos,', 'juntar', 'palabras,', 'silencio', 'De', 'respiro', 'pide', 'alto', 'tarde', 'labios,', 'pasión,', 'alma,', 'salir', 'digo', 'alguna', 'fiel', 'cruel', 'Ud.', 'dentro', 'caída', 'melodías', 'culpa,', 'horas', 'placer', 'tal', 'pobre', 'así,', 'unos', 'cómo', 'pensamientos', 'tanto', 'medio', 'llama', 'espalda,', 'nada', 'deseos,', 'rincón', 'canto,', 'mañana,', 'pobres', 'hacer', 'centro', 'Todo', 'ahora', 'misterio', 'Aquí', 'miran', 'claro', 'viento', 'Allá', 'deseo,', 'sentir', 'pecho,', 'iban', 'Tengo', 'viaje', 'viento,', 'cuerpo,', 'partes', 'esos', 'repleta', 'almas', 'demás', 'piernas', 'espalda', 'capaz', 'canto', 'exquisito,', 'descansar', 'versos', 'pies,', 'goce', 'rojo', 'pliegues', 'querer,', 'hombre', 'hemos', 'mar,', 'punto', 'está', 'frente', 'manos,', 'entonces,', 'pequeños', 'placeres', 'soñando,', 'nada,', 'posa', 'besos,', 'miradas', 'Porque', 'existe', 'peligro', 'Ya', 'mirar', 'sonidos', 'iba', 'hecho', 'ciudad', 'color', 'era', 'destrucción', 'tango', 'habían', 'the', 'peligroso', 'Como', 'íntimo', 'roce', 'azul', 'brisa,', 'guerra', 'éstos', 'tiempo,', 'frases', 'Si', 'pues', 'imaginación,', 'escribir', 'beso', 'ir', 'puede', 'ausente', 'árboles', 'eso', 'lugares', 'formación', 'pequeña', 'vulnerable', 'matemática', 'pretendes', 'caprichos,', 'dado', 'decepciones,', 'dibuja', 'bello', 'pequeño', 'miras', 'cosa', 'cosmos', 'solo', 'Mójate', 'sueña.', 'locura', 'conduce', 'tú,', 'paraíso', 'nosotros', 'todas', 'imágenes', 'gran', 'tristeza,', 'allí', 'mí,', 'viajar', 'palabra', 'lado', 'figura', 'escuchar', 'Somos', 'vivir', 'cortas', 'caricias,', 'junto', 'manos.', 'infernal', 'despertar', 'líneas', 'Cómo', 'nocturno', 'ausentes,', 'estos', 'buenos', 'Para', 'algo', 'todo,', 'barco', 'felicidad,', 'tristeza', 'todos', 'é', 'ella', 'tristes', 'caer', 'sienes', 'verdugo', 'poder', 'sonrisa', 'frío,', 'cama', 'máscara', 'seré', '¿Qué', 'alba,', 'otro,', 'sino', 'nuestras', 'da', 'allá', 'vuelo', 'inspiración', 'mástil,', 'apacible', 'compartir', 'velas', 'mortal', 'esta', 'infinita', 'escuchen,', 'despacio,', 'dejando', 'cansados', 'teclas', 'miel,', 'eres,', 'estruendoso,', 'además', 'cobre', 'alas', 'amor,', 'verdad', 'cascabel,', 'Dice', 'poco', 'ninfas', 'pozo', 'loco,', 'sos', 'baila', 'piedra', 'melodía', 'inútil', 'Vendrás', 'Pero', 'señal,', 'sentirme', 'estar,', 'qué,', 'pensamiento', 'hombros', 'olvido', 'aliento', 'lenguaje', 'condenado', 'historia', 'aire,', 'sigues...', 'ojos.', 'les', 'puedan', 'círculo', 'atardecer', 'mezclas', '(no', 'constante', 'mausoleo', 'han', 'actos', 'otoño,', 'llegar', 'ritmo', 'bohemia', 'cuello,', 'soledad', 'vuelta,', 'fuerte', 'tomarte', 'bailar', 'duradero', 'venido', 'presión', 'sean', 'perderme', 'perfumes', 'distancia', 'ti,', 'madrugada,', 'acerca', 'despacio', 'valentía', 'camino', 'eterno', 'realidad', 'lecho', 'copas', 'fija', 'olor', 'tanta', 'final', 'pequeñas', 'crea', 'entero,', 'nuevos', 'nuestros', 'mil', 'triste', 'anhelos.', 'pesar', 'simple', 'pura', 'conocer', 'esconden', 'repletas', 'noche;', 'excelsa', 'impiden', 'maravillas', 'ven', 'desnuda', 'desesperación', 'gota', 'breves', 'vida,', 'mía,', 'gusto', 'veo,', 'prisa,', 'muerte', 'sutil,', 'fría,', 'terciopelo,', 'flor', 'seda', 'fuerzas', 'caos', 'puertas', 'repleto', 'amar,', 'mujeres', 'belleza,', 'sí,', 'inefable', 'carne', 'tengo', 'lienzo', 'eclipse', '¿Estás', 'posaba', 'ropa,', 'vuela', 'bocas', 'gardenias', 'universo,', 'belleza', 'Tu', 'fondo', 'razón,', 'troncos', 'queda', 'placer...', 'máscaras,', 'eterna', 'anhelos,', 'hecha', 'forma', 'mañana', 'pensar', 'viajan', 'saltan', 'límite,', 'suerte', 'fin', 'saber', 'felizmente', 'pintura', 'tirando', 'estás', 'dolor', 'sí', 'ilumina', 'observas', 'estancia', 'Qué', 'base', 'total', 'única', 'destino', 'sola', 'nadie', 'incesante', 'Siente', 'respiro,', 'perderse', 'aquel', 'Hoy', 'completa', 'obra', 'pliegues;', 'llevarme', 'aviones', 'inundando', 'tibios', 'Eres', 'bailando', 'tranquilidad', 'siluetas', 'Regálame', 'tienes', 'Mujer,', 'deja', 'dar', 'danza', 'calles', 'júbilo', 'final.', 'vuelven', 'cielo,', 'pipa', 'transformar', 'amada', 'infinito.', 'concretar', 'razones,', 'sensaciones', 'iré', 'cromáticos,', 'esperaría', 'suspiro', 'dice', 'cigarrillo', 'fielmente', 'especie', 'envolvente', 'cuidando', 'vientos', 'trabajo.', 'olvidado', 'allí,', 'estucado', 'ecos', 'enlazan', 'retoma', 'estrellas,', 'arrulla', 'bifurcados...', 'Mira', 'pies', 'última', 'observa', 'quizá', 'bonito', 'espejos', 'nadan', 'recuerdo', 'Soñaré', 'otoño', 'furia', 'musas', 'alba.', 'van', 'llueve', 'imagen,', 'conciencia', 'universo', 'dedos', 'Seremos', 'ellos,', 'suelo,', 'repente', 'espacio,', 'sienten', 'pintar', 'milongas', 'miedos,', 'tratan', 'habitación', 'tiene', 'sabor', 'duerme...', 'Entre', 'conciencia.', 'Sin', 'suelo', 'importar', 'crueldad', 'rota', 'darle', 'tibio,', 'culpas,', 'existirá', 'duda', 'hablo,', 'inerte.', 'recurso,', 'golondrinas,', 'extinción', 'déjame', 'versos,', 'así...', 'magia', 'quiere', 'Así', 'fluye', 'demencial.', 'Piazzolla', 'dulces', 'pensamiento,', 'milonga...', 'obra,', 'pintura,', 'pincel.', 'estoy', 'eco', 'muerte.', 'Esa', 'susurra', 'lejanía.', 'mares', 'jugaban', 'indiferencia,', 'confesar,', 'vengador,', 'inunda', 'exquisito', 'ventanas', 'están', 'modernidad...', 'sacudir...', 'vidrio', 'habrán', 'pasa,', 'adicta', 'vueltas', 'Vuélvete', 'mundo,', 'basura', 'hablan', 'libros', 'acercando', 'angustia,', 'moralidad', 'sistema', 'contaminadas', 'fábulas', 'allá,', 'sexual', 'Entonces', 'vaivén', 'aquí', 'cuerpos,', 'alegrías', 'figuras', 'placeres,', 'moldes', 'decirte', 'río', 'iniciado', 'torneado', 'engaño,', 'bossa,', 'minutos', 'controlado', 'efímeras,', 'ciclo', 'tristezas,', 'sed', 'mentiras,', 'escapar,', 'decir', 'momento', 'placer,', 'refiero.', 'cariño,', 'desespero', 'letras,', 'bella', 'escorpiones,', 'calmar', 'rocosa,', 'dirigirte', 'Una', 'mirarte', 'haciendo', 'gozo', 'sucios', 'valles', 'sábanas', 'vive', 'juego', 'refleja,', 'tiempo.', 'huesos', 'dragones', 'sábana...', 'recorriendo', 'propia', 'llegue', '(la', 'arena', 'mutan', 'repetición,', 'Despertemos', 'dejar', 'dormir', 'recordarás.', 'cuello', 'monstruo', 'jardín', 'aquello', '¿Lo', 'ves?', 'fantasea', 'ráfagas', 'igual.', 'loco', 'Las', 'satisfacer', 'sombra', 'mujer,', 'volátil.', 'último', 'Más', 'tumultuosas,', 'siento', 'ramas', 'fíjate,', 'grabado', 'Cuando', 'quedar', 'voy', 'ajenos...', 'multiplica', 'manera', 'combina', 'convertirá', 'aguarda']\n"
     ]
    }
   ],
   "source": [
    "print(model.words)"
   ]
  },
  {
   "cell_type": "code",
   "execution_count": 11,
   "id": "da5a5320-6c21-4f56-9cbe-a5376958174c",
   "metadata": {},
   "outputs": [
    {
     "data": {
      "text/plain": [
       "184"
      ]
     },
     "execution_count": 11,
     "metadata": {},
     "output_type": "execute_result"
    }
   ],
   "source": [
    "len(model.words)"
   ]
  },
  {
   "cell_type": "code",
   "execution_count": 9,
   "id": "0bd75fcc-d16a-44bb-8113-04e3ae579552",
   "metadata": {},
   "outputs": [
    {
     "data": {
      "text/plain": [
       "array([-3.0347307e-03,  6.1599063e-03, -1.3848637e-03, -3.1608273e-03,\n",
       "        6.5026223e-03,  6.3184551e-03, -4.6846778e-03, -2.2446606e-03,\n",
       "        8.9806495e-03,  3.7756080e-03,  1.1548055e-03, -4.1064568e-04,\n",
       "        1.2033727e-03,  7.6985159e-03, -5.0652046e-03, -2.6354317e-03,\n",
       "       -2.4917696e-03,  7.0066674e-04, -6.4257701e-04, -4.5810528e-03,\n",
       "        7.7987812e-04,  2.5302153e-03,  1.4552932e-03, -3.1920432e-03,\n",
       "        4.0789871e-03, -2.7199865e-03,  3.3235915e-03, -2.0251921e-03,\n",
       "       -2.2953239e-03,  6.2371460e-03, -3.2799956e-03,  8.9811842e-04,\n",
       "       -2.5823724e-03, -4.4579767e-03, -7.3911683e-03, -1.6582392e-04,\n",
       "        2.8145671e-04, -3.2918619e-03, -2.6939313e-03, -5.1317532e-03,\n",
       "        2.5532853e-03,  6.5070619e-03,  1.0551591e-03,  3.2300127e-03,\n",
       "       -1.1547272e-03, -1.2535534e-03,  1.4361716e-03,  1.7629942e-03,\n",
       "       -2.8988889e-03,  2.0974237e-03, -5.8227698e-03,  8.1397137e-03,\n",
       "       -2.8023466e-03,  9.3555875e-04, -5.7098031e-04, -1.3912616e-03,\n",
       "       -2.5984519e-03, -1.8401010e-03,  4.7945334e-03,  4.0792683e-03,\n",
       "       -9.1515179e-04,  1.2824327e-03,  8.2337502e-03,  3.5726540e-03,\n",
       "        1.2970364e-03, -7.8641268e-04, -4.6819295e-03, -2.3468505e-04,\n",
       "        1.1813758e-03,  2.1915610e-03, -5.0192545e-03,  5.6051221e-03,\n",
       "        3.9733844e-03, -1.9811334e-03, -3.3446504e-03, -4.9200305e-04,\n",
       "        8.0256257e-03,  3.2809959e-03,  2.6104650e-03, -1.7321646e-03,\n",
       "        2.1246636e-04,  2.4007384e-03,  7.8085684e-03, -2.1588639e-03,\n",
       "       -1.0148875e-03, -6.3766371e-03,  7.4433633e-06,  4.0005501e-03,\n",
       "       -2.1610935e-03, -1.7342754e-03,  9.3174335e-03,  4.0063281e-03,\n",
       "        5.8194166e-03, -6.3449475e-03,  3.4241099e-03, -5.0236946e-03,\n",
       "        5.8575752e-03,  1.3908240e-03, -8.8924175e-04, -1.1105216e-03],\n",
       "      dtype=float32)"
      ]
     },
     "execution_count": 9,
     "metadata": {},
     "output_type": "execute_result"
    }
   ],
   "source": [
    "soy_vector = model.get_word_vector(\"soy\")\n",
    "soy_vector"
   ]
  },
  {
   "cell_type": "code",
   "execution_count": 10,
   "id": "c07ed896-c93e-4e36-ad25-1f1a82c608ac",
   "metadata": {},
   "outputs": [
    {
     "data": {
      "text/plain": [
       "(100,)"
      ]
     },
     "execution_count": 10,
     "metadata": {},
     "output_type": "execute_result"
    }
   ],
   "source": [
    "soy_vector.shape"
   ]
  },
  {
   "cell_type": "code",
   "execution_count": 7,
   "id": "23e7dd18-88e8-4270-9fd5-a5156560688b",
   "metadata": {},
   "outputs": [],
   "source": [
    "model.save_model(\"../Modelos/Poemas.bin\")"
   ]
  },
  {
   "cell_type": "code",
   "execution_count": 2,
   "id": "89f7fb4e-0834-4e1f-b024-0f8e9ac9c17c",
   "metadata": {},
   "outputs": [],
   "source": [
    "model = ft.load_model(\"../Modelos/Poemas.bin\")"
   ]
  },
  {
   "cell_type": "markdown",
   "id": "007e969f-e4d4-47fa-b5c6-4fdb0e62a0b4",
   "metadata": {},
   "source": [
    "Por defecto, el modelo entrenado es skipgram, pero también tenemos disponible la arquitectura cbow.\n",
    "\n",
    "![ft](https://fasttext.cc/img/cbo_vs_skipgram.png)\n",
    "\n",
    "Fuente: [FastText, Word Representations](https://fasttext.cc/docs/en/unsupervised-tutorial.html)"
   ]
  },
  {
   "cell_type": "code",
   "execution_count": 8,
   "id": "9b18a727-05e4-489d-94a9-ad10191dbf05",
   "metadata": {},
   "outputs": [],
   "source": [
    "# model_cbow = fasttext.train_unsupervised('../Datos/Poemas_Todo.txt', \"cbow\")"
   ]
  },
  {
   "cell_type": "markdown",
   "id": "8567ad9d-265c-4547-b8ab-daa9d5fffad2",
   "metadata": {},
   "source": [
    "En palabras de Facebook,\n",
    "\n",
    "***In practice, we observe that skipgram models works better with subword information than cbow.***"
   ]
  },
  {
   "cell_type": "markdown",
   "id": "97e576af-a6f9-4f0e-87bb-65f6ca567e67",
   "metadata": {},
   "source": [
    "[[Volver al inicio]](#Contenido)"
   ]
  },
  {
   "cell_type": "markdown",
   "id": "c5f2fddb-a296-487e-b4f2-979387ca43ed",
   "metadata": {},
   "source": [
    "### Jugando con los Parámetros "
   ]
  },
  {
   "cell_type": "markdown",
   "id": "8f09f0c5-f2cc-4de4-9052-f88541bfa0f0",
   "metadata": {},
   "source": [
    "Dependiendo del problema, puede ser que los parámetros por defecto no sean los más adecuados.\n",
    "\n",
    "Para conocer todos los parámetros de FastText, podemos ingresar [aquí](https://fasttext.cc/docs/en/python-module.html#train_unsupervised-parameters)\n",
    "\n",
    "Por ejemplo, modifiquemos los parámetros **mínimos** y **máximos** de lo n-gramas permitidos, la **dimensión** del vector, las **epochs** y la frecuencia mínima de palabras:"
   ]
  },
  {
   "cell_type": "code",
   "execution_count": 1,
   "id": "ddba46b5-f09c-4a9e-871c-d007359879df",
   "metadata": {},
   "outputs": [],
   "source": [
    "import fasttext as ft"
   ]
  },
  {
   "cell_type": "code",
   "execution_count": 2,
   "id": "172df83d-30c9-4212-98f1-f9ce4d9e7cc2",
   "metadata": {},
   "outputs": [
    {
     "name": "stderr",
     "output_type": "stream",
     "text": [
      "Read 0M words\n",
      "Number of words:  846\n",
      "Number of labels: 0\n",
      "Progress: 100.0% words/sec/thread:   80034 lr:  0.000000 avg.loss:  3.471876 ETA:   0h 0m 0s\n"
     ]
    }
   ],
   "source": [
    "model = ft.train_unsupervised('../Datos/Poemas_Todo.txt', minCount=2, minn=2, maxn=5, dim=300)"
   ]
  },
  {
   "cell_type": "markdown",
   "id": "dd52a9ea-2b7a-4ddc-a007-57e8338c8a47",
   "metadata": {},
   "source": [
    "Verifiquemos la longitud de las palabras:"
   ]
  },
  {
   "cell_type": "code",
   "execution_count": 3,
   "id": "dd4f71e5-5220-4283-aae0-176f056a3647",
   "metadata": {},
   "outputs": [
    {
     "data": {
      "text/plain": [
       "(300,)"
      ]
     },
     "execution_count": 3,
     "metadata": {},
     "output_type": "execute_result"
    }
   ],
   "source": [
    "model.get_word_vector(\"soy\").shape"
   ]
  },
  {
   "cell_type": "markdown",
   "id": "e3ae236b-6b61-48f3-90f6-b38982d5b14d",
   "metadata": {},
   "source": [
    "[[Volver al inicio]](#Contenido)"
   ]
  },
  {
   "cell_type": "markdown",
   "id": "77a92f92-2b66-4adb-87fd-d424558379bf",
   "metadata": {},
   "source": [
    "### Palabras vecinas más cercanas"
   ]
  },
  {
   "cell_type": "markdown",
   "id": "ba27aa9c-16e0-48c6-9cf4-767c0a191323",
   "metadata": {},
   "source": [
    "Como cada palabra en el corpus tiene un vector asociado, podemos obtener palabras cercanas usando la similaridad de coseno:"
   ]
  },
  {
   "cell_type": "code",
   "execution_count": 4,
   "id": "2b11bc88-da13-4066-9d20-6e629c022b46",
   "metadata": {},
   "outputs": [
    {
     "data": {
      "text/plain": [
       "[(0.999998927116394, 'sueño,'),\n",
       " (0.9999988079071045, 'sueños,'),\n",
       " (0.9999986290931702, 'contra'),\n",
       " (0.9999985694885254, 'sueños'),\n",
       " (0.9999983906745911, 'suelo,'),\n",
       " (0.9999983906745911, 'cielo'),\n",
       " (0.9999983906745911, 'mundo'),\n",
       " (0.9999982714653015, 'manera'),\n",
       " (0.9999982118606567, 'lienzo'),\n",
       " (0.9999982118606567, 'repletas')]"
      ]
     },
     "execution_count": 4,
     "metadata": {},
     "output_type": "execute_result"
    }
   ],
   "source": [
    " model.get_nearest_neighbors('sueño')"
   ]
  },
  {
   "cell_type": "markdown",
   "id": "6f334fe7-c059-4b09-abbe-d5421a656d02",
   "metadata": {},
   "source": [
    "[[Volver al inicio]](#Contenido)"
   ]
  },
  {
   "cell_type": "markdown",
   "id": "8bbb5a66-732a-4a31-aed0-4d6ac6f05395",
   "metadata": {},
   "source": [
    "## Uso del Modelo (Wikipedia) "
   ]
  },
  {
   "cell_type": "markdown",
   "id": "c6299f83-7766-4506-a020-523d36690e5d",
   "metadata": {},
   "source": [
    "Primero que todo, obtengamos los datos que necesitamos:"
   ]
  },
  {
   "cell_type": "code",
   "execution_count": 5,
   "id": "e2b1fb31-ef67-4b10-83b6-e117e5c24bee",
   "metadata": {},
   "outputs": [
    {
     "name": "stdout",
     "output_type": "stream",
     "text": [
      "--2021-11-19 16:13:05--  http://mattmahoney.net/dc/enwik9.zip\n",
      "Resolving mattmahoney.net (mattmahoney.net)... 67.195.197.24\n",
      "Connecting to mattmahoney.net (mattmahoney.net)|67.195.197.24|:80... connected.\n",
      "HTTP request sent, awaiting response... 206 Partial Content\n",
      "Length: 322592222 (308M), 294168810 (281M) remaining [application/zip]\n",
      "Saving to: ‘../Datos/enwik9.zip’\n",
      "\n",
      "enwik9.zip          100%[+==================>] 307,65M   566KB/s    in 8m 28s  \n",
      "\n",
      "2021-11-19 16:21:34 (565 KB/s) - ‘../Datos/enwik9.zip’ saved [322592222/322592222]\n",
      "\n"
     ]
    }
   ],
   "source": [
    "# Corpus Completo\n",
    "#!wget https://dumps.wikimedia.org/enwiki/latest/enwiki-latest-pages-articles.xml.bz2 -o ../Datos/enwiki-latest-pages-articles.xml.bz2\n",
    "# Corpus 1 billón de bytes (1 Giga)\n",
    "!wget -c http://mattmahoney.net/dc/enwik9.zip -P ../Datos"
   ]
  },
  {
   "cell_type": "markdown",
   "id": "da452367-1674-41ee-a651-40da805a7f20",
   "metadata": {},
   "source": [
    "Como el formato viene en `.zip`, descomprimamos el contenido"
   ]
  },
  {
   "cell_type": "code",
   "execution_count": 7,
   "id": "be23243f-98e1-47de-9823-83588e400273",
   "metadata": {},
   "outputs": [
    {
     "name": "stdout",
     "output_type": "stream",
     "text": [
      "Archive:  ../Datos/enwik9.zip\n",
      "  inflating: ../Datos/enwik9         \n"
     ]
    }
   ],
   "source": [
    "!unzip ../Datos/enwik9.zip -d ../Datos"
   ]
  },
  {
   "cell_type": "markdown",
   "id": "3bf87ff6-60fa-4f3e-840c-6cd600aa9ef7",
   "metadata": {},
   "source": [
    "Miremos algo de información:"
   ]
  },
  {
   "cell_type": "code",
   "execution_count": 12,
   "id": "4c0162c6-11ea-4583-9bbc-391d4f31cde3",
   "metadata": {},
   "outputs": [
    {
     "name": "stdout",
     "output_type": "stream",
     "text": [
      "<mediawiki xmlns=\"http://www.mediawiki.org/xml/export-0.3/\" xmlns:xsi=\"http://www.w3.org/2001/XMLSchema-instance\" xsi:schemaLocation=\"http://www.mediawiki.org/xml/export-0.3/ http://www.mediawiki.org/xml/export-0.3.xsd\" version=\"0.3\" xml:lang=\"en\">\n",
      "  <siteinfo>\n",
      "    <sitename>Wikipedia</sitename>\n",
      "    <base>http://en.wikipedia.org/wiki/Main_Page</base>\n",
      "    <generator>MediaWiki 1.6alpha</generator>\n",
      "    <case>first-letter</case>\n",
      "      <namespaces>\n",
      "      <namespace key=\"-2\">Media</namespace>\n",
      "      <namespace key=\"-1\">Special</namespace>\n",
      "      <namespace key=\"0\" />\n",
      "      <namespace key=\"1\">Talk</namespace>\n",
      "      <namespace key=\"2\">User</namespace>\n",
      "      <namespace key=\"3\">User talk</namespace>\n",
      "      <namespace key=\"4\">Wikipedia</namespace>\n",
      "      <namespace key=\"5\">Wikipedia talk</namespace>\n",
      "      <namespace key=\"6\">Image</namespace>\n",
      "      <namespace key=\"7\">Image talk</namespace>\n",
      "      <namespace key=\"8\">MediaWiki</namespace>\n",
      "      <namespace key=\"9\">MediaWiki talk</namespace>\n",
      "      <namespace key=\"10\">Template</namespace>\n",
      "      <namespace key=\"11\">Template talk</namespace>\n",
      "      <namespace key=\"12\">Help</namespace>\n",
      "      <namespace key=\"13\">Help talk</namespace>\n",
      "      <namespace key=\"14\">Category</namespace>\n",
      "      <namespace key=\"15\">Category talk</namespace>\n",
      "      <namespace key=\"100\">Portal</namespace>\n",
      "      <namespace key=\"101\">Portal talk</namespace>\n",
      "    </namespaces>\n",
      "  </siteinfo>\n",
      "  <page>\n",
      "    <title>AaA</title>\n",
      "    <id>1</id>\n",
      "    <revision>\n",
      "      <id>32899315</id>\n",
      "      <timestamp>2005-12-27T18:46:47Z</timestamp>\n",
      "      <contributor>\n",
      "        <username>Jsmethers</username>\n",
      "        <id>614213</id>\n",
      "      </contributor>\n",
      "      <text xml:space=\"preserve\">#REDIRECT [[AAA]]</text>\n",
      "    </revision>\n",
      "  </page>\n",
      "  <page>\n",
      "    <title>AlgeriA</title>\n",
      "    <id>5</id>\n",
      "    <revision>\n",
      "      <id>18063769</id>\n",
      "      <timestamp>2005-07-03T11:13:13Z</timestamp>\n",
      "      <contributor>\n",
      "        <username>Docu</username>\n",
      "        <id>8029</id>\n",
      "      </contributor>\n",
      "      <minor />\n",
      "      <comment>addi"
     ]
    }
   ],
   "source": [
    "!head -c 2000 ../Datos/enwik9"
   ]
  },
  {
   "cell_type": "markdown",
   "id": "5094edac-085a-47c2-b367-52b9e9eaf898",
   "metadata": {},
   "source": [
    "Como un archivo raw de Wikipedia contiene toneladas de datos HTML/XML, preprocesaremos la información con el archivo wikifil.pl, escrito por Matt Mahoney y puede ser encontrado el script original en su paǵina personal [aquí](http://mattmahoney.net/).\n",
    "\n",
    "El script asociado funciona usando el lenguaje de programación PERL, y se ejecuta a continuación:"
   ]
  },
  {
   "cell_type": "markdown",
   "id": "f6f65a4c-ea83-46f3-9217-ec0e29654e0e",
   "metadata": {
    "tags": []
   },
   "source": [
    "### Preprocesamiento"
   ]
  },
  {
   "cell_type": "code",
   "execution_count": 13,
   "id": "0a1fdc73-71f1-4991-a543-83847c789ef3",
   "metadata": {},
   "outputs": [],
   "source": [
    "!perl ../Datos/wikifil.pl ../Datos/enwik9 > ../Datos/fil9"
   ]
  },
  {
   "cell_type": "markdown",
   "id": "f3b65f69-5e33-4439-8f9c-cf03f525218b",
   "metadata": {},
   "source": [
    "Veamos algo del resultado obtenido:"
   ]
  },
  {
   "cell_type": "code",
   "execution_count": 2,
   "id": "1e7627df-cb50-4e5e-9baf-03866ab32973",
   "metadata": {},
   "outputs": [
    {
     "name": "stdout",
     "output_type": "stream",
     "text": [
      " anarchism originated as a term of abuse first used against early working class radicals including the diggers of the english revolution and the sans culottes of the french revolution whilst the term is still used in a pejorative way to describe any act that used violent means to destroy the organization of society it has also been taken up as a positive label by self defined anarchists the word anarchism is derived from the greek without archons ruler chief king anarchism as a political philosophy is the belief that rulers are unnecessary and should be abolished although there are differing interpretations of what this means anarchism also refers to related social movements that advocate the elimination of authoritarian institutions particularly the state the word anarchy as most anarchists use it does not imply chaos nihilism or anomie but rather a harmonious anti authoritarian society in place of what are regarded as authoritarian political structures and coercive economic institutions anarchists advocate social relations based upon voluntary association of autonomous individuals mutual aid and self governance while anarchism is most easily defined by what it is against anarchists also offer positive visions of what they believe to be a truly free society however ideas about how an anarchist society might work vary considerably especially with respect to economics there is also disagreement about how a free society might be brought about origins and predecessors kropotkin and others argue that before recorded history human society was organized on anarchist principles most anthropologists follow kropotkin and engels in believing that hunter gatherer bands were egalitarian and lacked division of labour accumulated wealth or decreed law and had equal access to resources william godwin anarchists including the the anarchy organisation and rothbard find anarchist attitudes in taoism from ancient china kropotkin found similar ideas in stoic zeno of citium according to"
     ]
    }
   ],
   "source": [
    "!head -c 2000 ../Datos/fil9"
   ]
  },
  {
   "cell_type": "markdown",
   "id": "bf6e72a8-3a62-4231-954a-c4f6803e0057",
   "metadata": {},
   "source": [
    "[[Volver al inicio]](#Contenido)"
   ]
  },
  {
   "cell_type": "markdown",
   "id": "ac4d4f46-a27e-443a-8c81-aed718cab638",
   "metadata": {
    "tags": []
   },
   "source": [
    "### Entrenando del Modelo"
   ]
  },
  {
   "cell_type": "code",
   "execution_count": null,
   "id": "a0a7544f-8ea2-4868-b923-be908ee40f18",
   "metadata": {},
   "outputs": [
    {
     "name": "stderr",
     "output_type": "stream",
     "text": [
      "Read 124M words3M words\n",
      "Number of words:  218316\n",
      "Number of labels: 0\n",
      "Progress:  31.5% words/sec/thread:   45623 lr:  0.034237 avg.loss:  0.601562 ETA:   0h51m49sm 8s lr:  0.049049 avg.loss:  1.546121 ETA:   1h16m37s 1.495166 ETA:   1h17m48s  4.0% words/sec/thread:   42449 lr:  0.047977 avg.loss:  1.451111 ETA:   1h18m 2s words/sec/thread:   42355 lr:  0.046572 avg.loss:  1.341497 ETA:   1h15m55sh16m 3s% words/sec/thread:   44134 lr:  0.045075 avg.loss:  1.130582 ETA:   1h10m31s 16.0% words/sec/thread:   45933 lr:  0.041981 avg.loss:  0.870252 ETA:   1h 3m 6s 17.8% words/sec/thread:   45410 lr:  0.041112 avg.loss:  0.814919 ETA:   1h 2m31sh 2m25s  44928 lr:  0.038916 avg.loss:  0.719204 ETA:   0h59m48s57m30s 25.7% words/sec/thread:   45038 lr:  0.037161 avg.loss:  0.668852 ETA:   0h56m58s  0h54m58s 0.035755 avg.loss:  0.635238 ETA:   0h54m46s 30.9% words/sec/thread:   45385 lr:  0.034537 avg.loss:  0.608555 ETA:   0h52m32s"
     ]
    }
   ],
   "source": [
    "model = ft.train_unsupervised('../Datos/fil9')"
   ]
  },
  {
   "cell_type": "markdown",
   "id": "a1a95e90-940a-461f-ac5d-83d82e83f275",
   "metadata": {},
   "source": [
    "[[Volver al inicio]](#Contenido)"
   ]
  },
  {
   "cell_type": "markdown",
   "id": "09a576c6-6d0c-45b9-a4e9-bd078fad6c1a",
   "metadata": {
    "tags": []
   },
   "source": [
    "### Palabras más cercanas"
   ]
  },
  {
   "cell_type": "code",
   "execution_count": null,
   "id": "cbd8ebef-994f-47ee-a57d-3bb9b9442dbd",
   "metadata": {},
   "outputs": [],
   "source": [
    "model.get_nearest_neighbors('asparagus')"
   ]
  },
  {
   "cell_type": "markdown",
   "id": "1479038e-e720-4157-a99b-a549f5c6f75f",
   "metadata": {},
   "source": [
    "[[Volver al inicio]](#Contenido)"
   ]
  },
  {
   "cell_type": "markdown",
   "id": "5f98a7aa-fe59-4f49-b7a3-e94e9707c695",
   "metadata": {},
   "source": [
    "###  Curiosidades"
   ]
  },
  {
   "cell_type": "code",
   "execution_count": null,
   "id": "ec0dbdc1-ad47-4fe1-8a19-ba775c45b550",
   "metadata": {},
   "outputs": [],
   "source": [
    "model.get_nearest_neighbors('pidgey')"
   ]
  },
  {
   "cell_type": "markdown",
   "id": "6086122b-3842-450f-95b3-5d686e798cc0",
   "metadata": {},
   "source": [
    "[[Volver al inicio]](#Contenido)"
   ]
  },
  {
   "cell_type": "markdown",
   "id": "1e6099ba-392c-49de-bdd7-76b0864a809c",
   "metadata": {},
   "source": [
    "###  Analogía de Palabras"
   ]
  },
  {
   "cell_type": "code",
   "execution_count": null,
   "id": "7d12bcb4-fa84-4c07-a309-58eedf7d616c",
   "metadata": {},
   "outputs": [],
   "source": [
    "model.get_analogies(\"berlin\", \"germany\", \"france\")"
   ]
  },
  {
   "cell_type": "markdown",
   "id": "a6aa150c-1678-44fc-b9e1-283efdc34cee",
   "metadata": {},
   "source": [
    "[[Volver al inicio]](#Contenido)"
   ]
  },
  {
   "cell_type": "markdown",
   "id": "c5ac4298-2e20-4dbc-a143-bafaf1dd9577",
   "metadata": {
    "tags": []
   },
   "source": [
    "## Modelo Supervisado"
   ]
  },
  {
   "cell_type": "markdown",
   "id": "71474a8b-701d-495e-82ec-5422c48ad7ec",
   "metadata": {},
   "source": [
    "Para este ejemplo, usaremos el conjunto de datos de preguntas de [the cooking section of Stackexchange](https://cooking.stackexchange.com/):"
   ]
  },
  {
   "cell_type": "code",
   "execution_count": null,
   "id": "dc311d87-61a1-4642-ba31-51066cf146c5",
   "metadata": {},
   "outputs": [],
   "source": [
    "!wget https://dl.fbaipublicfiles.com/fasttext/data/cooking.stackexchange.tar.gz && tar xvzf cooking.stackexchange.tar.gz"
   ]
  },
  {
   "cell_type": "code",
   "execution_count": null,
   "id": "e2fec219-b87e-4442-82e0-cd0f1a198b28",
   "metadata": {},
   "outputs": [],
   "source": [
    "!head cooking.stackexchange.txt"
   ]
  },
  {
   "cell_type": "code",
   "execution_count": null,
   "id": "9a934f5a-4f85-4447-b5d7-4c3246fa0d34",
   "metadata": {},
   "outputs": [],
   "source": [
    "!wc cooking.stackexchange.txt"
   ]
  },
  {
   "cell_type": "code",
   "execution_count": null,
   "id": "8c5c4763-fd44-4ee9-a0d2-50ee151c89c2",
   "metadata": {},
   "outputs": [],
   "source": [
    "!head -n 12404 cooking.stackexchange.txt > cooking.train"
   ]
  },
  {
   "cell_type": "code",
   "execution_count": null,
   "id": "dcf4affa-9e81-49a5-a3ae-dfaeaa82ccdf",
   "metadata": {},
   "outputs": [],
   "source": [
    "!tail -n 3000 cooking.stackexchange.txt > cooking.valid"
   ]
  },
  {
   "cell_type": "markdown",
   "id": "d0dfde01-e229-4a6f-91c5-2b05688f36af",
   "metadata": {},
   "source": [
    "[[Volver al inicio]](#Contenido)"
   ]
  },
  {
   "cell_type": "markdown",
   "id": "d65f1891-0752-4934-a12b-539a25fbfe6e",
   "metadata": {},
   "source": [
    "### Uso del Modelo"
   ]
  },
  {
   "cell_type": "code",
   "execution_count": null,
   "id": "504df596-824c-46ff-892f-3ab07f8c035e",
   "metadata": {},
   "outputs": [],
   "source": [
    "import fasttext as ft"
   ]
  },
  {
   "cell_type": "code",
   "execution_count": null,
   "id": "d440246d-00a7-4a10-96e8-f2b0b0d353de",
   "metadata": {},
   "outputs": [],
   "source": [
    "model = fasttext.train_supervised(input=\"cooking.train\")"
   ]
  },
  {
   "cell_type": "code",
   "execution_count": null,
   "id": "e8271089-b258-4efb-9f56-83f50f6c99fd",
   "metadata": {},
   "outputs": [],
   "source": [
    "model.predict(\"Which baking dish is best to bake a banana bread ?\")"
   ]
  },
  {
   "cell_type": "code",
   "execution_count": null,
   "id": "84dfcc5e-755a-4e27-8bed-f3ae16fc0eeb",
   "metadata": {},
   "outputs": [],
   "source": [
    "model.test(\"cooking.valid\")"
   ]
  },
  {
   "cell_type": "markdown",
   "id": "4837114c-ddba-45ca-b00d-ff195adfad62",
   "metadata": {},
   "source": [
    "[[Volver al inicio]](#Contenido)"
   ]
  },
  {
   "cell_type": "markdown",
   "id": "789784af-a957-48fa-aa1d-ad810ab7a18a",
   "metadata": {
    "tags": []
   },
   "source": [
    "### Mejorando el Modelo "
   ]
  },
  {
   "cell_type": "code",
   "execution_count": null,
   "id": "75066d8b-9000-407b-b67d-4084702f4696",
   "metadata": {},
   "outputs": [],
   "source": [
    "!cat cooking.stackexchange.txt | sed -e \"s/\\([.\\!?,'/()]\\)/ \\1 /g\" | tr \"[:upper:]\" \"[:lower:]\" > cooking.preprocessed.txt\n",
    "!head -n 12404 cooking.preprocessed.txt > cooking.train\n",
    "!tail -n 3000 cooking.preprocessed.txt > cooking.valid"
   ]
  },
  {
   "cell_type": "code",
   "execution_count": null,
   "id": "5a06841b-ea77-49c0-adf8-1d84d6e1a966",
   "metadata": {},
   "outputs": [],
   "source": [
    "model = fasttext.train_supervised(input=\"cooking.train\")"
   ]
  },
  {
   "cell_type": "code",
   "execution_count": null,
   "id": "1fc38ec2-478f-4fac-8bb3-032ae0f13310",
   "metadata": {},
   "outputs": [],
   "source": [
    "model.test(\"cooking.valid\")"
   ]
  },
  {
   "cell_type": "markdown",
   "id": "2efea151-f77f-468e-817f-bffe57939f31",
   "metadata": {},
   "source": [
    "[[Volver al inicio]](#Contenido)"
   ]
  },
  {
   "cell_type": "markdown",
   "id": "a85cf55c-1748-44f3-8a42-c1215b73bda8",
   "metadata": {},
   "source": [
    "###  Autotuning de Parámetros"
   ]
  },
  {
   "cell_type": "code",
   "execution_count": null,
   "id": "34286ee7-65ab-42fc-b984-967d2187de86",
   "metadata": {},
   "outputs": [],
   "source": [
    "model = fasttext.train_supervised(input='cooking.train', autotuneValidationFile='cooking.valid')"
   ]
  },
  {
   "cell_type": "code",
   "execution_count": null,
   "id": "88d56132-e967-4858-b769-a26d87b1cdef",
   "metadata": {},
   "outputs": [],
   "source": [
    "model.test(\"cooking.valid\")"
   ]
  },
  {
   "cell_type": "markdown",
   "id": "3d8ddaf7-f2bb-4161-85cc-4d0080248f0c",
   "metadata": {},
   "source": [
    "[[Volver al inicio]](#Contenido)"
   ]
  }
 ],
 "metadata": {
  "kernelspec": {
   "display_name": "Python 3 (ipykernel)",
   "language": "python",
   "name": "python3"
  },
  "language_info": {
   "codemirror_mode": {
    "name": "ipython",
    "version": 3
   },
   "file_extension": ".py",
   "mimetype": "text/x-python",
   "name": "python",
   "nbconvert_exporter": "python",
   "pygments_lexer": "ipython3",
   "version": "3.8.12"
  }
 },
 "nbformat": 4,
 "nbformat_minor": 5
}
