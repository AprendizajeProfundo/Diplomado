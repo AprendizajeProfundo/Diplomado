{
 "cells": [
  {
   "cell_type": "markdown",
   "id": "1c4453b2-2a29-4722-9f9d-deaded252f79",
   "metadata": {},
   "source": [
    "<figure>\n",
    "<img src=\"../Imagenes/logo-final-ap.png\"  width=\"80\" height=\"80\" align=\"left\"/> \n",
    "</figure>\n",
    "\n",
    "# <span style=\"color:blue\"><left>Aprendizaje Profundo</left></span>"
   ]
  },
  {
   "cell_type": "markdown",
   "id": "c19f2846-3a80-45c0-aed6-f66d4ca51729",
   "metadata": {},
   "source": [
    "# <span style=\"color:red\"><center>Introducción a LanguageTool Python</center></span>"
   ]
  },
  {
   "cell_type": "markdown",
   "id": "d5cfb25f-c9db-4fe0-a8ff-b352e2b8886a",
   "metadata": {},
   "source": [
    "##   <span style=\"color:blue\">Profesores</span>"
   ]
  },
  {
   "cell_type": "markdown",
   "id": "b5026284-53c7-480d-b380-c79bf23facbd",
   "metadata": {},
   "source": [
    "1. Alvaro Mauricio Montenegro Díaz, ammontenegrod@unal.edu.co\n",
    "2. Daniel Mauricio Montenegro Reyes, dextronomo@gmail.com \n",
    "3. Campo Elías Pardo Turriago, cepardot@unal.edu.co "
   ]
  },
  {
   "cell_type": "markdown",
   "id": "fef8edb7-20cd-4370-baa9-87748253ec6b",
   "metadata": {},
   "source": [
    "##   <span style=\"color:blue\">Asesora Medios y Marketing digital</span>\n",
    " "
   ]
  },
  {
   "cell_type": "markdown",
   "id": "c1c6a3d3-6713-4233-8ab0-5f0b3574d8ec",
   "metadata": {},
   "source": [
    "4. Maria del Pilar Montenegro, pmontenegro88@gmail.com "
   ]
  },
  {
   "cell_type": "markdown",
   "id": "8df4a321-47a5-4284-a244-efcbf382ffbc",
   "metadata": {},
   "source": [
    "## <span style=\"color:blue\">Asistentes</span>"
   ]
  },
  {
   "cell_type": "markdown",
   "id": "532de39f-5684-42e3-8497-5467cfbec564",
   "metadata": {},
   "source": [
    "5. Oleg Jarma, ojarmam@unal.edu.co \n",
    "6. Laura Lizarazo, ljlizarazore@unal.edu.co "
   ]
  },
  {
   "cell_type": "markdown",
   "id": "26d37c9e-d52c-43b7-8a36-910ac5447b62",
   "metadata": {},
   "source": [
    "## <span style=\"color:blue\">Contenido</span>"
   ]
  },
  {
   "cell_type": "markdown",
   "id": "8cdc27ac-7411-488e-9ca3-581ef3cc9259",
   "metadata": {},
   "source": [
    "## Introducción"
   ]
  },
  {
   "cell_type": "markdown",
   "id": "47a98905-bb99-4084-b316-1495abedab60",
   "metadata": {},
   "source": [
    "¿Alguna vez se ha preguntado cómo corregir un texto de manera sistemática en Python?\n",
    "\n",
    "¡La solución es [`language_tool_python`](https://pypi.org/project/language-tool-python/)!"
   ]
  },
  {
   "cell_type": "markdown",
   "id": "0f31a6de-8b88-45cc-b2f0-4bd160792afb",
   "metadata": {},
   "source": [
    "## Librerías Necesarias "
   ]
  },
  {
   "cell_type": "code",
   "execution_count": 1,
   "id": "07555a1e-d6d8-4320-8ce6-63b97f95f376",
   "metadata": {},
   "outputs": [],
   "source": [
    "import language_tool_python"
   ]
  },
  {
   "cell_type": "markdown",
   "id": "9af9073e-93ef-45e6-8988-33a57a70a206",
   "metadata": {
    "tags": []
   },
   "source": [
    "## Explorando Librería "
   ]
  },
  {
   "cell_type": "code",
   "execution_count": 2,
   "id": "e1e347d0-1055-4d6e-aaf7-fefa46357311",
   "metadata": {},
   "outputs": [
    {
     "name": "stdout",
     "output_type": "stream",
     "text": [
      "['LanguageTag', 'LanguageTool', 'LanguageToolPublicAPI', 'Match', '__builtins__', '__cached__', '__doc__', '__file__', '__loader__', '__name__', '__package__', '__path__', '__spec__', 'backports', 'download_lt', 'language_tag', 'match', 'server', 'utils', 'which']\n"
     ]
    }
   ],
   "source": [
    "print(dir(language_tool_python))"
   ]
  },
  {
   "cell_type": "code",
   "execution_count": 3,
   "id": "227d462d-61b7-43ba-a262-83517d8ee7c1",
   "metadata": {},
   "outputs": [],
   "source": [
    "corrector = language_tool_python.LanguageTool('es')"
   ]
  },
  {
   "cell_type": "code",
   "execution_count": 4,
   "id": "db53b971-aede-49ac-8b98-9607d4671a3e",
   "metadata": {},
   "outputs": [
    {
     "name": "stdout",
     "output_type": "stream",
     "text": [
      "['_HOST', '_MAX_PORT', '_MIN_PORT', '_PORT_RE', '_TIMEOUT', '__class__', '__delattr__', '__dict__', '__dir__', '__doc__', '__enter__', '__eq__', '__exit__', '__format__', '__ge__', '__getattribute__', '__gt__', '__hash__', '__init__', '__init_subclass__', '__le__', '__lt__', '__module__', '__ne__', '__new__', '__reduce__', '__reduce_ex__', '__repr__', '__setattr__', '__sizeof__', '__str__', '__subclasshook__', '__weakref__', '_consumer_thread', '_create_params', '_get_languages', '_get_valid_spelling_file_path', '_instances', '_language', '_motherTongue', '_new_spellings', '_new_spellings_persist', '_port', '_query_server', '_register_spellings', '_remote', '_server', '_server_is_alive', '_spell_checking_categories', '_start_local_server', '_start_server_if_needed', '_start_server_on_free_port', '_terminate_server', '_unregister_spellings', '_update_remote_server_config', '_url', 'check', 'close', 'correct', 'disable_spellchecking', 'disabled_categories', 'disabled_rules', 'enable_spellchecking', 'enabled_categories', 'enabled_rules', 'enabled_rules_only', 'language', 'motherTongue']\n"
     ]
    }
   ],
   "source": [
    "print(dir(corrector))"
   ]
  },
  {
   "cell_type": "code",
   "execution_count": 5,
   "id": "82001625-ad91-4803-8f2c-83cc69bb7fa0",
   "metadata": {},
   "outputs": [
    {
     "name": "stdout",
     "output_type": "stream",
     "text": [
      "Texto de juguete:\n",
      "\n",
      "ezte bischo de teztos eztá una lokurra, no se por ke no lo havíA bisto aNTES...\n"
     ]
    }
   ],
   "source": [
    "texto='ezte bischo de teztos eztá una lokurra, no se por ke no lo havíA bisto aNTES...'\n",
    "print(\"Texto de juguete:\\n\")\n",
    "print(texto)"
   ]
  },
  {
   "cell_type": "markdown",
   "id": "6296562a-6b89-4cc9-b087-d6c94e234b86",
   "metadata": {
    "tags": []
   },
   "source": [
    "## Chequeo y corrección de texto"
   ]
  },
  {
   "cell_type": "markdown",
   "id": "2d1055fb-5dc9-4eb4-9033-43d31fa56f52",
   "metadata": {},
   "source": [
    "De la documentación original, se recomienda usar el método `check` para ver qué problemas posibles contiene el texto.\n",
    "\n",
    "Veamos qué suce con nuestro ejemplo de juguete:"
   ]
  },
  {
   "cell_type": "code",
   "execution_count": 6,
   "id": "ca4a924d-a632-4002-8c9e-5250c2e0977d",
   "metadata": {},
   "outputs": [
    {
     "name": "stdout",
     "output_type": "stream",
     "text": [
      "Chequeo gramatical del texto:\n",
      "\n",
      "Offset 0, length 4, Rule ID: MORFOLOGIK_RULE_ES\n",
      "Message: Se ha encontrado un posible error ortográfico.\n",
      "Suggestion: éste; este; ésta; esté; ente; ése; éster; ERTE; ZTE\n",
      "ezte bischo de teztos eztá una lokurra, no s...\n",
      "^^^^\n",
      "Offset 5, length 6, Rule ID: MORFOLOGIK_RULE_ES\n",
      "Message: Se ha encontrado un posible error ortográfico.\n",
      "Suggestion: bicho; visco; bichó; vicho; vichó; bis cho\n",
      "ezte bischo de teztos eztá una lokurra, no se por k...\n",
      "     ^^^^^^\n",
      "Offset 15, length 6, Rule ID: MORFOLOGIK_RULE_ES\n",
      "Message: Se ha encontrado un posible error ortográfico.\n",
      "Suggestion: textos; téseos; tésteos; tez tos\n",
      "ezte bischo de teztos eztá una lokurra, no se por ke no lo ha...\n",
      "               ^^^^^^\n",
      "Offset 22, length 4, Rule ID: MORFOLOGIK_RULE_ES\n",
      "Message: Se ha encontrado un posible error ortográfico.\n",
      "Suggestion: ésta; esta; está; éste; éstas; zeta; ésa; eta\n",
      "ezte bischo de teztos eztá una lokurra, no se por ke no lo havíA b...\n",
      "                      ^^^^\n",
      "Offset 31, length 7, Rule ID: MORFOLOGIK_RULE_ES\n",
      "Message: Se ha encontrado un posible error ortográfico.\n",
      "Suggestion: locura; ocurra; loquera\n",
      "ezte bischo de teztos eztá una lokurra, no se por ke no lo havíA bisto aNTES.....\n",
      "                               ^^^^^^^\n",
      "Offset 43, length 2, Rule ID: SE\n",
      "Message: Si es del v. ‘saber’ o ‘ser’ se escribe con tilde.\n",
      "Suggestion: sé\n",
      "...e bischo de teztos eztá una lokurra, no se por ke no lo havíA bisto aNTES...\n",
      "                                           ^^\n",
      "Offset 50, length 2, Rule ID: MORFOLOGIK_RULE_ES\n",
      "Message: Se ha encontrado un posible error ortográfico.\n",
      "Suggestion: que; de; se; e; le; km; me; ve; fe; te; he; be; kW; té; dé; sé; KDE; PE; ka; Fe; Ken; UE; ce; ge; kB; kJ; kV; kg; pe; re; ye; GKE\n",
      "...o de teztos eztá una lokurra, no se por ke no lo havíA bisto aNTES...\n",
      "                                           ^^\n",
      "Offset 59, length 5, Rule ID: MORFOLOGIK_RULE_ES\n",
      "Message: Se ha encontrado un posible error ortográfico.\n",
      "Suggestion: había; hacia; habían; habla; habría; hacía; haría; sabía; habita; habrá; hábil; rabia; habida; sabia; savia; cabía; haba; gavia; avía; habías; labia; habiz; Avià; Xàbia; abia; aviá; cavia; habitá; hablá; pavía; rabiá\n",
      "...os eztá una lokurra, no se por ke no lo havíA bisto aNTES...\n",
      "                                           ^^^^^\n",
      "Offset 65, length 5, Rule ID: MORFOLOGIK_RULE_ES\n",
      "Message: Se ha encontrado un posible error ortográfico.\n",
      "Suggestion: visto; vista; visitó; busto; listo; vistos; vasto; viste; vistió; avistó; bastó; basto; visito; listó; pisto; viso; distó; avisto; biso; misto; visco; vito; disto; visó; victo; bistró; bisté; bisó; fisto; mistó; pistó\n",
      "...á una lokurra, no se por ke no lo havíA bisto aNTES...\n",
      "                                           ^^^^^\n",
      "Offset 71, length 5, Rule ID: MORFOLOGIK_RULE_ES\n",
      "Message: Se ha encontrado un posible error ortográfico.\n",
      "Suggestion: antes; ante; artes; entes; Nantes; andes; cantes; ates; anotes; untes; ANSES; Andes; Artés; antas; aptes; dantes; fantes; gantes; gantés; mantés; años; arte; partes; actos; altas; altos; aves; Andrés; agentes; montes; santos; tantos; amantes; antena; antenas; autos; cantos; danés; ente; gentes; martes; tantas; ángel; Dante; acres; actas; aires; aptos; botes; bytes; cante; dotes; envés; guantes; lentes; lotes; mentes; tintes; anales; andas; andén; anteras; anís; aptas; apuntes; ateo; ateos; mantas; mantos; mates; montés; panes; santas; Arlés; Gante; animes; anos; antera; arces; arnés; ases; astas; atea; azotes; bantúes; canes; lances; maltés; yates; Altea; alces; aloes; anden; antro; aretes; artesa; entres; estés; mantel; mantis; motes; notes; orantes; plantes; tanteo; tés; ancas; ande; anote; antros; armes; ate; ateas; bates; canjes; cantas; canten; hautes; jotes; kanes; manteo; patés; potes; tanteos; ánades; abres; aetas; aftas; agotes; alíes; amates; anea; ares; aries; até; auges; canté; dances; fanes; ganes; manes; tanteó; unes; vates; votes; ames; aneas; anises; anoten; aster; aten; añades; dates; enes; gañotes; mandes; manteos; metes; pastes; pañetes; rentes; tantea; unten; zanates; abates; agües; ajetes; alteas; alteo; anatas; anones; antia; anules; ayates; añiles; dañes; enantes; faltes; nances; zotes; actúes; agites; anoté; añales; cotes; mantea; pactes; pintes; tanates; yutes; Arres; acotes; anotas; anteco; antecos; antias; antier; atentes; añores; bañes; canses; canteo; cantéis; eñes; gastes; jactes; juntes; manteó; piantes; pites; sanes; untos; ATS; Agres; Alfés; Alpes; Anaís; Angers; Anglès; Anne; Antibes; Antón; Anyós; Anás; Ares; Arnes; Arties; Cannes; Cotes; Fontes; Intel; Inés; Navès; Santet; Santos; Sants; abites; acates; aces; acles; acmés; acnés; ades; aes; afates; afees; agres; ahítes; ajees; ajes; ajotes; ajíes; alees; ales; alotes; altea; altee; altees; alteá; alteás; alteé; alteó; anafes; anas; anatos; ancles; andel; andás; andéis; anejes; anetos; anexes; anides; anitos; anoas; anotás; anotéis; ansas; ansíes; anta; anteca; antecas; antejo; antejos; antero; anteros; antevé; antevés; anteví; anteón; anti; antojes; anuas; anudes; anuos; anóteos; anótese; anúas; anúos; aojes; aoves; apantes; apates; apees; apte; apten; aptás; apté; aptéis; ardes; ardés; arfes; arpes; artas; artel; asees; aspes; atas; atesá; atesé; atesó; atoes; atontes; atás; atéis; atén; avíes; ayees; ayotes; azoes; aíres; añares; añas; añejes; añitos; añás; aúnes; aúpes; bantues; bantus; bantús; bastes; caites; candes; cantea; canteas; cantee; cantees; cantel; cantesa; canteá; canteás; canteé; canteó; cantus; cantás; cantús; canés; captes; cates; cintes; cites; cutes; cánteos; cántese; danes; dantas; dante; dantos; enteo; enteos; enter; entesa; entese; enteso; entesá; entesé; entesó; fante; fanés; fintes; gantas; gante; gantesa; gañes; hartes; hites; imantes; instes; inter; intis; janes; jates; lactes; lastes; lates; lañes; liantes; manees; manteas; mantee; mantees; mantesa; manteá; manteás; manteé; mantén; manés; maníes; mañees; metés; mutes; noes; opantes; optes; ovantes; pantis; pates; pautes; petes; raptes; retes; rotes; ruantes; saltes; sanates; sanees; sanies; sotes; sutes; tanteas; tantee; tantees; tanteá; tanteás; tanteé; tañes; tañés; totes; tutes; unces; unges; untas; unte; untás; unté; untéis; uñates; vanees; vetes; yentes; zanjes; Àneu; Ángel; áloes; ándeos; ándese; ápteos; áptese; áteos; átese; ázoes; ñúes; únteos; úntese; Qantas\n",
      "...lokurra, no se por ke no lo havíA bisto aNTES...\n",
      "                                           ^^^^^\n"
     ]
    }
   ],
   "source": [
    "coincidencias = corrector.check(texto)\n",
    "\n",
    "print(\"Chequeo gramatical del texto:\\n\")\n",
    "for coincidencia in coincidencias:\n",
    "    print(coincidencia)"
   ]
  },
  {
   "cell_type": "markdown",
   "id": "63bcdccf-831c-4673-82c2-1393b950bce7",
   "metadata": {},
   "source": [
    "Veamos una posible correción en particular:"
   ]
  },
  {
   "cell_type": "code",
   "execution_count": 7,
   "id": "b511ce03-9f6c-41c9-87cd-16b7c4148d2b",
   "metadata": {},
   "outputs": [
    {
     "data": {
      "text/plain": [
       "Match({'ruleId': 'MORFOLOGIK_RULE_ES', 'message': 'Se ha encontrado un posible error ortográfico.', 'replacements': ['éste', 'este', 'ésta', 'esté', 'ente', 'ése', 'éster', 'ERTE', 'ZTE'], 'offsetInContext': 0, 'context': 'ezte bischo de teztos eztá una lokurra, no s...', 'offset': 0, 'errorLength': 4, 'category': 'TYPOS', 'ruleIssueType': 'misspelling', 'sentence': 'ezte bischo de teztos eztá una lokurra, no se por ke no lo havíA bisto aNTES...'})"
      ]
     },
     "execution_count": 7,
     "metadata": {},
     "output_type": "execute_result"
    }
   ],
   "source": [
    "coincidencias[0]"
   ]
  },
  {
   "cell_type": "markdown",
   "id": "fd99471d-8ca1-43c1-97e3-2a36d9d767fe",
   "metadata": {},
   "source": [
    "A partir de las coincidencias, podemos corregir el texto a manera de reemplazos del diccionario con el texto (Para eso se sacaron las posiciones de inicio y final de los caracteres de las coincidencias)."
   ]
  },
  {
   "cell_type": "code",
   "execution_count": 8,
   "id": "d663f1c2-ab54-40d7-894e-fe955e684ff8",
   "metadata": {},
   "outputs": [
    {
     "name": "stdout",
     "output_type": "stream",
     "text": [
      "éste bicho de textos ésta una locura, no sé por que no lo había visto antes...\n"
     ]
    }
   ],
   "source": [
    "texto_mod_match = language_tool_python.utils.correct(texto, coincidencias)\n",
    "print(texto_mod_match)"
   ]
  },
  {
   "cell_type": "markdown",
   "id": "d9957275-a50d-4617-b8e2-693c16662770",
   "metadata": {},
   "source": [
    "También es posible hacer las correcciones de manera directa:"
   ]
  },
  {
   "cell_type": "code",
   "execution_count": 9,
   "id": "7e7838ef-482b-41c4-b269-169c2861c508",
   "metadata": {},
   "outputs": [
    {
     "name": "stdout",
     "output_type": "stream",
     "text": [
      "éste bicho de textos ésta una locura, no sé por que no lo había visto antes...\n"
     ]
    }
   ],
   "source": [
    "texto_mod = corrector.correct(texto)\n",
    "print(texto_mod)"
   ]
  },
  {
   "cell_type": "markdown",
   "id": "fb453adc-baa0-4a32-bc7e-e53a16b4493e",
   "metadata": {},
   "source": [
    "**¿Cuál considera que es la diferencia entre los dos métodos?**"
   ]
  },
  {
   "cell_type": "markdown",
   "id": "c08b1b45-9521-4180-a594-35906b7e5bef",
   "metadata": {},
   "source": [
    "## Iteración de Correcciones"
   ]
  },
  {
   "cell_type": "markdown",
   "id": "a0a84b07-594a-47de-a7aa-20b38f1b4d0a",
   "metadata": {},
   "source": [
    "Como el corrector ocurre de manera gramatical, es posible que el texto no quede toalmente corregido.\n",
    "\n",
    "En este caso, si se permite, podríamos corregir el texto hasta obtener un estado estacionario frente al texto."
   ]
  },
  {
   "cell_type": "code",
   "execution_count": 10,
   "id": "733a403c-7375-4a69-9694-a8ffd4ce1965",
   "metadata": {},
   "outputs": [
    {
     "name": "stdout",
     "output_type": "stream",
     "text": [
      "Texto original:  ezte bischo de teztos eztá una lokurra, no se por ke no lo havíA bisto aNTES...\n",
      "Texto Corregido: éste bicho de textos ésta una locura, no sé por que no lo había visto antes...\n"
     ]
    }
   ],
   "source": [
    "print(\"Texto original: \",texto)\n",
    "print(\"Texto Corregido:\",texto_mod_match)"
   ]
  },
  {
   "cell_type": "code",
   "execution_count": 11,
   "id": "0ee77ff9-3ff9-4e87-8f41-9eae7c1d55b9",
   "metadata": {},
   "outputs": [
    {
     "name": "stdout",
     "output_type": "stream",
     "text": [
      "Offset 0, length 4, Rule ID: ESTE\n",
      "Message: La tilde es innecesaria según la norma actual. Se puede usar en caso de ambigüedad.\n",
      "Suggestion: este\n",
      "éste bicho de textos ésta una locura, no sé ...\n",
      "^^^^\n",
      "Offset 21, length 4, Rule ID: ESTE\n",
      "Message: La tilde es innecesaria según la norma actual. Se puede usar en caso de ambigüedad.\n",
      "Suggestion: esta\n",
      "éste bicho de textos ésta una locura, no sé por que no lo había v...\n",
      "                     ^^^^\n",
      "Offset 44, length 7, Rule ID: PORQUE\n",
      "Message: Probablemente hay que escribir «por qué» (‘por qué motivo’).\n",
      "Suggestion: por qué\n",
      "... bicho de textos ésta una locura, no sé por que no lo había visto antes...\n",
      "                                           ^^^^^^^\n"
     ]
    }
   ],
   "source": [
    "coincidencias_2=corrector.check(texto_mod)\n",
    "\n",
    "for coincidencia in coincidencias_2:\n",
    "    print(coincidencia)"
   ]
  },
  {
   "cell_type": "code",
   "execution_count": 12,
   "id": "ead8f3a4-60a5-4f9f-800e-6dae6d9b05c2",
   "metadata": {},
   "outputs": [
    {
     "name": "stdout",
     "output_type": "stream",
     "text": [
      "este bicho de textos esta una locura, no sé por qué no lo había visto antes...\n"
     ]
    }
   ],
   "source": [
    "texto_mod_match_2 = language_tool_python.utils.correct(texto_mod_match, coincidencias_2)\n",
    "print(texto_mod_match_2)"
   ]
  },
  {
   "cell_type": "code",
   "execution_count": 13,
   "id": "2574841f-6b1b-4425-b9c9-acdf277cbb81",
   "metadata": {},
   "outputs": [
    {
     "name": "stdout",
     "output_type": "stream",
     "text": [
      "Texto original          :  ezte bischo de teztos eztá una lokurra, no se por ke no lo havíA bisto aNTES...\n",
      "Texto Corregido         : éste bicho de textos ésta una locura, no sé por que no lo había visto antes...\n",
      "Texto Corregido, Ciclo 2: este bicho de textos esta una locura, no sé por qué no lo había visto antes...\n"
     ]
    }
   ],
   "source": [
    "print(\"Texto original          : \",texto)\n",
    "print(\"Texto Corregido         :\",texto_mod_match)\n",
    "print(\"Texto Corregido, Ciclo 2:\",texto_mod_match_2)"
   ]
  },
  {
   "cell_type": "code",
   "execution_count": 14,
   "id": "1fad0f17-a7ed-4cf1-974e-01bc18a9d8b4",
   "metadata": {},
   "outputs": [
    {
     "name": "stdout",
     "output_type": "stream",
     "text": [
      "Ciclo 1: ezte bischo de teztos eztá una lokurra, no se por ke no lo havíA bisto aNTES...\n",
      "Ciclo 2: éste bicho de textos ésta una locura, no sé por que no lo había visto antes...\n",
      "Ciclo 3: este bicho de textos esta una locura, no sé por qué no lo había visto antes...\n",
      "Ciclo 4: Este bicho de textos está una locura, no sé por qué no lo había visto antes...\n"
     ]
    }
   ],
   "source": [
    "texto_2 = texto\n",
    "\n",
    "coincidencias = corrector.check(texto_2)\n",
    "ciclo = 1\n",
    "\n",
    "while len(coincidencias)>0:\n",
    "    print(f\"Ciclo {ciclo}: {texto_2}\")\n",
    "    coincidencias = corrector.check(texto_2)\n",
    "    texto_2 = corrector.correct(texto_2)\n",
    "    ciclo+=1"
   ]
  }
 ],
 "metadata": {
  "kernelspec": {
   "display_name": "Python 3 (ipykernel)",
   "language": "python",
   "name": "python3"
  },
  "language_info": {
   "codemirror_mode": {
    "name": "ipython",
    "version": 3
   },
   "file_extension": ".py",
   "mimetype": "text/x-python",
   "name": "python",
   "nbconvert_exporter": "python",
   "pygments_lexer": "ipython3",
   "version": "3.9.9"
  }
 },
 "nbformat": 4,
 "nbformat_minor": 5
}
