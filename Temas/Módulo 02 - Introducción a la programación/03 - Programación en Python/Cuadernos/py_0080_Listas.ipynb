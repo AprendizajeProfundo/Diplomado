{
 "cells": [
  {
   "cell_type": "markdown",
   "id": "04b97205",
   "metadata": {},
   "source": [
    "# <span style=\"color:#F72585\"><center>Listas</center></span>\n"
   ]
  },
  {
   "cell_type": "markdown",
   "id": "db145ed5",
   "metadata": {},
   "source": [
    "<figure>\n",
    "<center>\n",
    "<img src=\"https://raw.githubusercontent.com/AprendizajeProfundo/Alejandria/main/Archivos_Generales/Imagenes/Discos.jpg\" width=\"600\" height=\"400\" align=\"center\" /> \n",
    "</center>   \n",
    "</figure>\n",
    "<center>\n",
    "\n",
    "Fuente: [Pexels](https://www.pexels.com/es-es/foto/disposicion-de-archivos-1181769/)\n",
    "\n",
    "</center>\n"
   ]
  },
  {
   "cell_type": "markdown",
   "id": "public-tuition",
   "metadata": {},
   "source": [
    "## <span style=\"color:#4361EE\">Introducción</span>"
   ]
  },
  {
   "cell_type": "markdown",
   "id": "settled-heavy",
   "metadata": {
    "colab_type": "text",
    "id": "Qwzm74tvByHP"
   },
   "source": [
    "En es lección estudiamos las listas, las cuales constituyen uno de los objetos más versátiles y utilizados en Python. Las listas son objetos iterables."
   ]
  },
  {
   "cell_type": "markdown",
   "id": "forced-personality",
   "metadata": {},
   "source": [
    "## <span style=\"color:#4361EE\">Listas</span>"
   ]
  },
  {
   "cell_type": "markdown",
   "id": "convinced-saint",
   "metadata": {},
   "source": [
    "Las listas son contenedores mutables y ordenados de objetos. Las listas se distinguen porque sus elementos están encerrados entre paréntesis cuadrados. Por ejemplo:"
   ]
  },
  {
   "cell_type": "code",
   "execution_count": 2,
   "id": "alpha-desire",
   "metadata": {},
   "outputs": [
    {
     "name": "stdout",
     "output_type": "stream",
     "text": [
      "Alvaro Daniel Pilar Beatriz \n"
     ]
    }
   ],
   "source": [
    "lista1 = ['Alvaro', 'Daniel', 'Pilar', 'Beatriz']\n",
    "\n",
    "for i in lista1:\n",
    "    print(i, end=' ')\n",
    "print('')"
   ]
  },
  {
   "cell_type": "markdown",
   "id": "nutritional-helmet",
   "metadata": {},
   "source": [
    "Una lista puede contener objetos muy complejos. Por ejemplo observe detenidamente la siguiente construcción."
   ]
  },
  {
   "cell_type": "code",
   "execution_count": 3,
   "id": "binary-statement",
   "metadata": {},
   "outputs": [
    {
     "name": "stdout",
     "output_type": "stream",
     "text": [
      "t1= (1, 'Oleg', 24.5)\n",
      "l1= ['Maria', 'Bonita']\n",
      "l2= [(1, 'Oleg', 24.5), ['Maria', 'Bonita']]\n",
      "t2= ([(1, 'Oleg', 24.5), ['Maria', 'Bonita']], 'manzana')\n"
     ]
    }
   ],
   "source": [
    "t1 = (1, 'Oleg', 24.5)\n",
    "l1 = ['Maria', 'Bonita']\n",
    "l2 = [t1, l1]\n",
    "t2 = (l2,'manzana')\n",
    "\n",
    "print('t1=', t1)\n",
    "print('l1=', l1)\n",
    "print('l2=', l2)\n",
    "print('t2=', t2)\n"
   ]
  },
  {
   "cell_type": "markdown",
   "id": "2497babe",
   "metadata": {},
   "source": [
    "### <span style=\"color:#4CC9F0\">Acceso a los elementos de una lista</span>\n"
   ]
  },
  {
   "cell_type": "markdown",
   "id": "ad5f93bb-f9ee-4298-bcef-9d733ef8a394",
   "metadata": {},
   "source": [
    "Vamos a acceder a los elementos individuales de las listas y tuplas creadas arriba."
   ]
  },
  {
   "cell_type": "code",
   "execution_count": 4,
   "id": "least-gabriel",
   "metadata": {},
   "outputs": [
    {
     "name": "stdout",
     "output_type": "stream",
     "text": [
      "1\n",
      "Oleg\n",
      "24.5\n",
      "\n",
      "\n",
      "Maria\n",
      "Bonita\n",
      "\n",
      "\n",
      "(1, 'Oleg', 24.5)\n",
      "['Maria', 'Bonita']\n",
      "\n",
      "\n",
      "[(1, 'Oleg', 24.5), ['Maria', 'Bonita']]\n",
      "manzana\n"
     ]
    }
   ],
   "source": [
    "for i in t1:\n",
    "    print(i)\n",
    "print('\\n')\n",
    "\n",
    "for i in l1:\n",
    "    print(i) \n",
    "print('\\n')\n",
    "\n",
    "for i in l2:\n",
    "    print(i)\n",
    "print('\\n')\n",
    "\n",
    "for i in t2:\n",
    "    print(i)"
   ]
  },
  {
   "cell_type": "markdown",
   "id": "aggressive-crack",
   "metadata": {},
   "source": [
    "Ahora accedamos al interior de las estructuras complejas."
   ]
  },
  {
   "cell_type": "code",
   "execution_count": 5,
   "id": "healthy-entertainment",
   "metadata": {},
   "outputs": [
    {
     "name": "stdout",
     "output_type": "stream",
     "text": [
      "[(1, 'Oleg', 24.5), ['Maria', 'Bonita']]\n",
      "manzana\n",
      "\n",
      "\n",
      "(1, 'Oleg', 24.5)\n",
      "['Maria', 'Bonita']\n",
      "\n",
      "\n",
      "1\n",
      "Oleg\n",
      "24.5\n",
      "\n",
      "\n",
      "Maria\n",
      "Bonita\n",
      "24.5\n",
      "\n",
      "\n"
     ]
    }
   ],
   "source": [
    "print(t2[0])\n",
    "print(t2[1])\n",
    "print('\\n')\n",
    "\n",
    "print(t2[0][0])\n",
    "print(t2[0][1])\n",
    "print('\\n')\n",
    "\n",
    "print(t2[0][0][0])\n",
    "print(t2[0][0][1])\n",
    "print(t2[0][0][2])\n",
    "print('\\n')\n",
    "\n",
    "print(t2[0][1][0])\n",
    "print(t2[0][1][1])\n",
    "print(t2[0][0][2])\n",
    "print('\\n')"
   ]
  },
  {
   "cell_type": "markdown",
   "id": "magnetic-abortion",
   "metadata": {},
   "source": [
    "Por favor asegúrese de entender completamente la lógica del anterior ejemplo."
   ]
  },
  {
   "cell_type": "markdown",
   "id": "9fbf28af",
   "metadata": {},
   "source": [
    "### <span style=\"color:#4CC9F0\">Constructor de lista</span>\n"
   ]
  },
  {
   "cell_type": "markdown",
   "id": "configured-european",
   "metadata": {},
   "source": [
    "*list(iterable)*\n",
    "\n",
    "Por ejemplo"
   ]
  },
  {
   "cell_type": "code",
   "execution_count": 6,
   "id": "accepted-specification",
   "metadata": {},
   "outputs": [
    {
     "name": "stdout",
     "output_type": "stream",
     "text": [
      "('a', 'e', 'i', 'o', 'u')\n",
      "['a', 'e', 'i', 'o', 'u']\n"
     ]
    }
   ],
   "source": [
    "vocalTupla = ('a', 'e','i','o','u')\n",
    "vocalLista = list(vocalTupla )\n",
    "\n",
    "print(vocalTupla)\n",
    "print(vocalLista)"
   ]
  },
  {
   "cell_type": "markdown",
   "id": "9d89645f",
   "metadata": {},
   "source": [
    "### <span style=\"color:#4CC9F0\">Adicionar elementos a una lista</span>\n"
   ]
  },
  {
   "cell_type": "markdown",
   "id": "infinite-flash",
   "metadata": {},
   "source": [
    "*lista.append(objeto)*\n",
    "\n",
    "Veamos el siguiente ejemplo"
   ]
  },
  {
   "cell_type": "code",
   "execution_count": 7,
   "id": "honey-appliance",
   "metadata": {},
   "outputs": [
    {
     "name": "stdout",
     "output_type": "stream",
     "text": [
      "alfabeto es un objeto string:  <class 'str'>\n"
     ]
    }
   ],
   "source": [
    "alfabeto = 'abcdefghijklmnñopqrstuvwxyz'\n",
    "print( 'alfabeto es un objeto string: ',type(alfabeto))"
   ]
  },
  {
   "cell_type": "markdown",
   "id": "unsigned-contents",
   "metadata": {},
   "source": [
    "Vamos a crear una lista vacía y la vamos a llenar con cada uno de los elementos de *alfabeto*"
   ]
  },
  {
   "cell_type": "code",
   "execution_count": 8,
   "id": "changing-disposal",
   "metadata": {},
   "outputs": [
    {
     "name": "stdout",
     "output_type": "stream",
     "text": [
      "['a', 'b', 'c', 'd', 'e', 'f', 'g', 'h', 'i', 'j', 'k', 'l', 'm', 'n', 'ñ', 'o', 'p', 'q', 'r', 's', 't', 'u', 'v', 'w', 'x', 'y', 'z']\n"
     ]
    }
   ],
   "source": [
    "alfaL = []\n",
    "\n",
    "for i in alfabeto:\n",
    "    alfaL.append(i)\n",
    "\n",
    "print(alfaL)"
   ]
  },
  {
   "cell_type": "markdown",
   "id": "d967e9f9",
   "metadata": {},
   "source": [
    "### <span style=\"color:#4CC9F0\">Concatenar dos listas</span>\n"
   ]
  },
  {
   "cell_type": "code",
   "execution_count": 9,
   "id": "guilty-advice",
   "metadata": {},
   "outputs": [
    {
     "name": "stdout",
     "output_type": "stream",
     "text": [
      "alfaL =  ['a', 'b', 'c', 'd', 'e', 'f', 'g', 'h', 'i', 'j', 'k', 'l', 'm', 'n', 'ñ', 'o', 'p', 'q', 'r', 's', 't', 'u', 'v', 'w', 'x', 'y', 'z']\n",
      "\n",
      "\n",
      "numL =  [0, 1, 2, 3, 4, 5, 6, 7, 8, 9, 10, 11, 12, 13, 14, 15, 16, 17, 18, 19, 20, 21, 22, 23, 24, 25, 26]\n",
      "\n",
      "\n",
      "alfanumL =  ['a', 'b', 'c', 'd', 'e', 'f', 'g', 'h', 'i', 'j', 'k', 'l', 'm', 'n', 'ñ', 'o', 'p', 'q', 'r', 's', 't', 'u', 'v', 'w', 'x', 'y', 'z', 0, 1, 2, 3, 4, 5, 6, 7, 8, 9, 10, 11, 12, 13, 14, 15, 16, 17, 18, 19, 20, 21, 22, 23, 24, 25, 26]\n",
      "\n",
      "\n",
      "alfanumLL =  [['a', 'b', 'c', 'd', 'e', 'f', 'g', 'h', 'i', 'j', 'k', 'l', 'm', 'n', 'ñ', 'o', 'p', 'q', 'r', 's', 't', 'u', 'v', 'w', 'x', 'y', 'z'], [0, 1, 2, 3, 4, 5, 6, 7, 8, 9, 10, 11, 12, 13, 14, 15, 16, 17, 18, 19, 20, 21, 22, 23, 24, 25, 26]]\n"
     ]
    }
   ],
   "source": [
    "N = len(alfaL)\n",
    "\n",
    "numL = []\n",
    "\n",
    "for i in range(N):\n",
    "    numL.append(i)\n",
    "\n",
    "print('alfaL = ',alfaL) \n",
    "print('\\n')\n",
    "print('numL = ',numL)\n",
    "print('\\n')\n",
    "\n",
    "alfanumL = alfaL + numL\n",
    "alfanumLL = [alfaL, numL]\n",
    "\n",
    "print('alfanumL = ',alfanumL) \n",
    "print('\\n')\n",
    "print('alfanumLL = ',alfanumLL)"
   ]
  },
  {
   "cell_type": "code",
   "execution_count": 11,
   "id": "thermal-empty",
   "metadata": {},
   "outputs": [
    {
     "name": "stdout",
     "output_type": "stream",
     "text": [
      "a 0\n",
      "b 1\n",
      "c 2\n",
      "d 3\n",
      "e 4\n",
      "f 5\n",
      "g 6\n",
      "h 7\n",
      "i 8\n",
      "j 9\n",
      "k 10\n",
      "l 11\n",
      "m 12\n",
      "n 13\n",
      "ñ 14\n",
      "o 15\n",
      "p 16\n",
      "q 17\n",
      "r 18\n",
      "s 19\n",
      "t 20\n",
      "u 21\n",
      "v 22\n",
      "w 23\n",
      "x 24\n",
      "y 25\n",
      "z 26\n"
     ]
    }
   ],
   "source": [
    "# Acceso a los elementos de la lista alfanumLL\n",
    "\n",
    "for i in range(N):\n",
    "    print(alfanumLL[0][i],alfanumLL[1][i] )"
   ]
  },
  {
   "cell_type": "markdown",
   "id": "1e76be42",
   "metadata": {},
   "source": [
    "### <span style=\"color:#4CC9F0\">Eliminar elementos de una lista</span>\n"
   ]
  },
  {
   "cell_type": "markdown",
   "id": "usual-neighborhood",
   "metadata": {},
   "source": [
    "*lista.remove(objeto)*"
   ]
  },
  {
   "cell_type": "code",
   "execution_count": 12,
   "id": "changing-plastic",
   "metadata": {},
   "outputs": [
    {
     "name": "stdout",
     "output_type": "stream",
     "text": [
      "['a', 'b', 'd', 'e', 'f', 'g', 'h', 'i', 'j', 'k', 'l', 'm', 'n', 'ñ', 'o', 'p', 'q', 'r', 's', 't', 'u', 'v', 'w', 'x', 'y', 'z']\n"
     ]
    }
   ],
   "source": [
    "alfaL.remove('c')\n",
    "print(alfaL)"
   ]
  },
  {
   "cell_type": "markdown",
   "id": "a42a4579",
   "metadata": {},
   "source": [
    "### <span style=\"color:#4CC9F0\">Métodos para manipulación de listas</span>\n"
   ]
  },
  {
   "cell_type": "markdown",
   "id": "meaning-coalition",
   "metadata": {},
   "source": [
    "|Method| Description|\n",
    "|---|---|\n",
    "|append()| Agrega un elemento al final de la lista|\n",
    "|clear()| Remueve todo los elementos de la lista|\n",
    "|copy()| Regresa una copia de la lista|\n",
    "|count()| Regresa el número de elementos con el valor especificado|\n",
    "|extend()| Agrega elementos de una lista (o cualquier iterable) al final de esta lista|\n",
    "|index()|Regresa el índice del primer elemento con el valor especificado|\n",
    "|insert()|  Adiciona un elemento en la posición especificada|\n",
    "|pop()| Remueve un elemento en la posición especificada y puede retornarlo si se hce una asignación|\n",
    "|remove()| Remueve el item con este valor específico|\n",
    "|reverse()| Invierte el orden de la lista|\n",
    "|sort() | Ordena la lista|\n",
    "\n",
    "\n",
    "Por favor pruebe cada uno de estos métodos. Veamos unos pocos ejemplos."
   ]
  },
  {
   "cell_type": "code",
   "execution_count": 13,
   "id": "informal-equity",
   "metadata": {},
   "outputs": [
    {
     "name": "stdout",
     "output_type": "stream",
     "text": [
      "2\n",
      "['a', 'b', 'c', 'd', 'e', 'f', 'g', 'h', 'i', 'j', 'k', 'l', 'm', 'n', 'ñ', 'o', 'p', 'q', 'r', 's', 't', 'u', 'v', 'w', 'x', 'y', 'z']\n"
     ]
    }
   ],
   "source": [
    "print(alfaL.index('d'))\n",
    "\n",
    "alfaL.insert(2,'c')\n",
    "print(alfaL)"
   ]
  },
  {
   "cell_type": "code",
   "execution_count": 14,
   "id": "blessed-italian",
   "metadata": {},
   "outputs": [
    {
     "name": "stdout",
     "output_type": "stream",
     "text": [
      "[[0, 1, 2, 3, 4, 5, 6, 7, 8, 9, 10, 11, 12, 13, 14, 15, 16, 17, 18, 19, 20, 21, 22, 23, 24, 25, 26], ['a', 'b', 'c', 'd', 'e', 'f', 'g', 'h', 'i', 'j', 'k', 'l', 'm', 'n', 'ñ', 'o', 'p', 'q', 'r', 's', 't', 'u', 'v', 'w', 'x', 'y', 'z']]\n"
     ]
    }
   ],
   "source": [
    "alfanumLL.reverse()\n",
    "print(alfanumLL)"
   ]
  },
  {
   "cell_type": "markdown",
   "id": "aaa4a748",
   "metadata": {},
   "source": [
    "### <span style=\"color:#4CC9F0\">Ejercicio</span>\n"
   ]
  },
  {
   "cell_type": "markdown",
   "id": "4b728d30",
   "metadata": {},
   "source": [
    "Declare una lista vacía, modifique el siguiente bucle para que en lugar de imprimir la pareja especificada forme una tupla con ella y la agregue a la lista previamente declarada"
   ]
  },
  {
   "cell_type": "code",
   "execution_count": null,
   "id": "60ad1a99",
   "metadata": {},
   "outputs": [],
   "source": [
    "# Acceso a los elementos de la lista alfanumLL\n",
    "\n",
    "for i in range(N):\n",
    "    print(alfanumLL[0][i],alfanumLL[1][i] )"
   ]
  },
  {
   "cell_type": "markdown",
   "id": "ace288ea",
   "metadata": {},
   "source": [
    "### <span style=\"color:#4CC9F0\">Comprensión de listas</span>\n"
   ]
  },
  {
   "cell_type": "markdown",
   "id": "e8706c9b",
   "metadata": {},
   "source": [
    "Ya vimos que es posible crear listas a partir de objetos iterables.\n",
    "\n",
    "Aquí mostramos que es posible hacer nuevas listas con ciertas manipulaciones a partir de otras. Esto con un sintaxis simple y rápido.\n",
    "\n",
    "Veamos un caso sin usar comprensión de listas"
   ]
  },
  {
   "cell_type": "code",
   "execution_count": 15,
   "id": "dc9b0e32",
   "metadata": {},
   "outputs": [
    {
     "name": "stdout",
     "output_type": "stream",
     "text": [
      "['manzana', 'guanabana', 'Mango']\n"
     ]
    }
   ],
   "source": [
    "frutas = [\"manzana\", \"kiwi\", \"guanabana\", \"limón\", \"níspero\", \"Pomelo\", \"Mango\"]\n",
    "\n",
    "lista2 = []\n",
    "\n",
    "for x in frutas:\n",
    "    if \"a\" in x:\n",
    "        lista2.append(x)\n",
    "        \n",
    "print(lista2)"
   ]
  },
  {
   "cell_type": "markdown",
   "id": "89844289",
   "metadata": {},
   "source": [
    "Funciona pero necesitamos varias lineas. Ahora usando comprensión"
   ]
  },
  {
   "cell_type": "code",
   "execution_count": 16,
   "id": "49f640b9",
   "metadata": {},
   "outputs": [
    {
     "name": "stdout",
     "output_type": "stream",
     "text": [
      "['manzana', 'guanabana', 'Mango']\n"
     ]
    }
   ],
   "source": [
    "lista2 = [x for x in frutas if \"a\" in x]\n",
    "print(lista2)"
   ]
  },
  {
   "cell_type": "markdown",
   "id": "1f591fb8",
   "metadata": {},
   "source": [
    "Podemos usar cualquier operador lógico y operador de comparación en estos casos"
   ]
  },
  {
   "cell_type": "code",
   "execution_count": 17,
   "id": "f60c7fcb",
   "metadata": {},
   "outputs": [
    {
     "name": "stdout",
     "output_type": "stream",
     "text": [
      "['kiwi', 'limón', 'níspero', 'Pomelo']\n"
     ]
    }
   ],
   "source": [
    "lista2 = [x for x in frutas if \"a\" not in x]\n",
    "print(lista2)"
   ]
  },
  {
   "cell_type": "code",
   "execution_count": 18,
   "id": "2539d9e8",
   "metadata": {},
   "outputs": [
    {
     "name": "stdout",
     "output_type": "stream",
     "text": [
      "['kiwi', 'limón', 'Mango']\n"
     ]
    }
   ],
   "source": [
    "lista2 = [x for x in frutas if len(x)<6]\n",
    "print(lista2)"
   ]
  },
  {
   "cell_type": "markdown",
   "id": "6b8a5a18",
   "metadata": {},
   "source": [
    "Podemos hacer comprensión con cualquier tipo de iterable"
   ]
  },
  {
   "cell_type": "code",
   "execution_count": 19,
   "id": "22c62114",
   "metadata": {},
   "outputs": [
    {
     "name": "stdout",
     "output_type": "stream",
     "text": [
      "[0, 2, 4, 6, 8]\n"
     ]
    }
   ],
   "source": [
    "lista2 = [x for x in range(10) if x % 2 ==0]\n",
    "print(lista2)"
   ]
  },
  {
   "cell_type": "code",
   "execution_count": 20,
   "id": "08213774",
   "metadata": {},
   "outputs": [
    {
     "name": "stdout",
     "output_type": "stream",
     "text": [
      "[1, 24.5]\n"
     ]
    }
   ],
   "source": [
    "lista2 = [x for x in t1  if type(x)==int or type(x)==float]\n",
    "print(lista2)"
   ]
  },
  {
   "cell_type": "markdown",
   "id": "eff2c54d",
   "metadata": {},
   "source": [
    "### <span style=\"color:#4CC9F0\">Ejercicio</span>\n"
   ]
  },
  {
   "cell_type": "markdown",
   "id": "576eb03d",
   "metadata": {},
   "source": [
    "Usando compresión de listas, cree una lista que solo incluya los elementos de `frutas`que tengan más de cinco letras"
   ]
  }
 ],
 "metadata": {
  "interpreter": {
   "hash": "cf92aa13fedf815d5c8dd192b8d835913fde3e8bc926b2a0ad6cc74ef2ba3ca2"
  },
  "kernelspec": {
   "display_name": "Python 3 (ipykernel)",
   "language": "python",
   "name": "python3"
  },
  "language_info": {
   "codemirror_mode": {
    "name": "ipython",
    "version": 3
   },
   "file_extension": ".py",
   "mimetype": "text/x-python",
   "name": "python",
   "nbconvert_exporter": "python",
   "pygments_lexer": "ipython3",
   "version": "3.9.12"
  }
 },
 "nbformat": 4,
 "nbformat_minor": 5
}
