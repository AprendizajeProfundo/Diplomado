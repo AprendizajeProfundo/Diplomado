{
 "cells": [
  {
   "cell_type": "markdown",
   "metadata": {},
   "source": [
    "# <span style=\"color:#F72585\"><center>Operadores aritméticos y lógicos</center></span>\n"
   ]
  },
  {
   "cell_type": "markdown",
   "metadata": {},
   "source": [
    "<figure>\n",
    "<center>\n",
    "<img src=\"https://raw.githubusercontent.com/AprendizajeProfundo/Alejandria/main/Archivos_Generales/Imagenes/Dubai.jpg\" width=\"600\" height=\"400\" align=\"center\" /> \n",
    "</center>   \n",
    "</figure>\n",
    "\n",
    "<center>Fuente: <a href=\"https://sp.depositphotos.com/stock-photos/professions.html\">Dubai, Marina bay - sp.depositphotos.com</a></center>"
   ]
  },
  {
   "cell_type": "markdown",
   "metadata": {
    "colab_type": "text",
    "id": "4y3X0kbfHXzW"
   },
   "source": [
    "## <span style=\"color:#4361EE\">Suma de variables y concatenación de variables</span>"
   ]
  },
  {
   "cell_type": "markdown",
   "metadata": {
    "colab_type": "text",
    "id": "4y3X0kbfHXzW"
   },
   "source": [
    "Python es tan sencillo e intuitivo, que es posible sumar diferentes variables y sumarlas con el símbolo **+**. Cuando las variables son numéricas, se **suman matemáticamente** y cuando son texto se **concatenan**. Revise cuidadosamente el siguiente ejemplo."
   ]
  },
  {
   "cell_type": "code",
   "execution_count": 1,
   "metadata": {
    "colab": {
     "base_uri": "https://localhost:8080/",
     "height": 71
    },
    "colab_type": "code",
    "executionInfo": {
     "elapsed": 400,
     "status": "ok",
     "timestamp": 1581637247515,
     "user": {
      "displayName": "Daniel Montenegro",
      "photoUrl": "",
      "userId": "07275166318289302366"
     },
     "user_tz": 300
    },
    "id": "nMPQKB2jHxuk",
    "outputId": "b7d32507-cb5c-4cce-afd6-6504b205a9c6"
   },
   "outputs": [
    {
     "name": "stdout",
     "output_type": "stream",
     "text": [
      "Python es asombroso\n",
      "suma = 6\n",
      "Python es el número 1\n"
     ]
    }
   ],
   "source": [
    "# Sumar dos textos\n",
    "\n",
    "x = \"Python es \"; \n",
    "y = \"asombroso\";\n",
    "z =  x + str(y);\n",
    "print(z);\n",
    "\n",
    "# Sumar dos números\n",
    "\n",
    "n1 = 1;\n",
    "n2 = 5;\n",
    "suma = n1 + n2;\n",
    "print('suma =', suma);\n",
    "\n",
    "# Escribir texto y números\n",
    "print(x+\"el número\",n1);"
   ]
  },
  {
   "cell_type": "markdown",
   "metadata": {
    "colab_type": "text",
    "id": "Yv9WSG97QyQX"
   },
   "source": [
    "En el apartado anterior es claro que usamos dos tipos de variables; unas textuales y otras numéricas, profundicemos en estos temas."
   ]
  },
  {
   "cell_type": "markdown",
   "metadata": {
    "colab_type": "text",
    "id": "Tjq46qsVQ1F9"
   },
   "source": [
    "## <span style=\"color:#4361EE\">Operadores Aritméticos y redondeo</span>"
   ]
  },
  {
   "cell_type": "markdown",
   "metadata": {
    "colab_type": "text",
    "id": "GPiu4RLJUzVj"
   },
   "source": [
    "La fortuna de que Python reconozca variables numéricas nos permite usarlo como una calculadora simple. Por ejemplo, podemos ejecutar operaciones muy sencillas teniendo en cuenta la siguiente tabla:\n",
    "\n",
    "| **Operador** | **Descripción** |\n",
    "| :---: | :---: |\n",
    "|`+`|Suma|\n",
    "|`-`|Resta|\n",
    "|`*`|Multiplicación|\n",
    "|`/`|División|\n",
    "|`**`|Potencia|\n",
    "|`%`|Módulo|\n",
    "\n",
    "\n",
    "La operación módulo consiste en encontrar el residuo de dividir un número entero positivo entre otro. Por ejemplo, el residuo de dividir 5 entre 2 es 1, como ilustra la siguiente línea de código.\n"
   ]
  },
  {
   "cell_type": "code",
   "execution_count": 2,
   "metadata": {},
   "outputs": [
    {
     "data": {
      "text/plain": [
       "1"
      ]
     },
     "execution_count": 2,
     "metadata": {},
     "output_type": "execute_result"
    }
   ],
   "source": [
    "5%2"
   ]
  },
  {
   "cell_type": "markdown",
   "metadata": {},
   "source": [
    "### <span style=\"color:#4CC9F0\">Precedencia de operadores aritméticos</span>\n"
   ]
  },
  {
   "cell_type": "markdown",
   "metadata": {
    "colab_type": "text",
    "id": "mWcTFd6gUzVk"
   },
   "source": [
    "Con el propósito que el interpretador de Python pueda traducir exitosamente una expresión numérica, existen reglas de precedencia en el orden de ejecución de las operaciones. Estas reglas son comunes a todos los lenguajes de programación. La siguiente tabla muestra la procedencia, es decir, el orden en el cual se ejecutan las operaciones aritméticas en una expresión numérica.\n",
    "\n",
    "\n",
    "| **Precedencia** | **Operadores** |\n",
    "| :---: | :---: |\n",
    "|0|`(...)`|\n",
    "|1|`**`|\n",
    "|2|`%`|\n",
    "|3|`*`, `/`|\n",
    "|4|`+`, `-`|\n",
    "\n"
   ]
  },
  {
   "cell_type": "markdown",
   "metadata": {
    "colab_type": "text",
    "id": "mWcTFd6gUzVk"
   },
   "source": [
    "Si queremos operar por ejemplo la expresión:\n",
    " \n",
    " $$ 5\\times(3-5)^2-\\cfrac{6}{9^{1/2}}$$\n",
    " \n",
    " tenemos que escribir:"
   ]
  },
  {
   "cell_type": "code",
   "execution_count": 3,
   "metadata": {
    "colab": {},
    "colab_type": "code",
    "id": "V285pz1XUzVl"
   },
   "outputs": [
    {
     "data": {
      "text/plain": [
       "18.0"
      ]
     },
     "execution_count": 3,
     "metadata": {},
     "output_type": "execute_result"
    }
   ],
   "source": [
    "5*(3-5)**2 - 6/9**(1/2)"
   ]
  },
  {
   "cell_type": "markdown",
   "metadata": {},
   "source": [
    "*Recuerde oprimir [Shift]+[Enter]* para ejecutar la sentencia."
   ]
  },
  {
   "cell_type": "markdown",
   "metadata": {},
   "source": [
    "El cálculo  ocurre de la siguiente forma\n",
    "\n",
    "* (1/2) -> 0.5\n",
    "* (3-5) -> -2\n",
    "* (3-5)\\*\\*2 -> (-2)\\*\\*2 -> 4 \n",
    "* 9\\*\\*(1/2) -> 9\\*\\*0.5 -> 3\n",
    "* 5*(3-5)\\*\\*2 -> 5 \\* 4 -> 20\n",
    "* 6/9**(1/2) -> 6/3 -> 2\n",
    "* 5\\*(3-5)\\*\\*2 - 6/9\\*\\*(1/2) -> 20 - 2 -> 18"
   ]
  },
  {
   "cell_type": "markdown",
   "metadata": {},
   "source": [
    "### <span style=\"color:#4CC9F0\">Ejercicio</span>\n"
   ]
  },
  {
   "cell_type": "markdown",
   "metadata": {
    "colab_type": "text",
    "id": "dTnOKPXFUzVs"
   },
   "source": [
    "Es muy importante usar bien los paréntesis, el uso o desuso puede generar problemas graves en las cuentas, encuentre el error y describa lo que hizo Python  en los siguientes casos respecto a la operación anterior:"
   ]
  },
  {
   "cell_type": "code",
   "execution_count": 3,
   "metadata": {
    "colab": {},
    "colab_type": "code",
    "id": "fUepsH4JUzVt"
   },
   "outputs": [
    {
     "data": {
      "text/plain": [
       "-12.0"
      ]
     },
     "execution_count": 3,
     "metadata": {},
     "output_type": "execute_result"
    }
   ],
   "source": [
    "5*3-5**2-(6)/(9**(1/2))"
   ]
  },
  {
   "cell_type": "markdown",
   "metadata": {
    "tags": [
     "hide-cell"
    ]
   },
   "source": [
    "El cálculo ocurre de la siguiente forma\n",
    "- (9**(1/2))=3\n",
    "- 6/3 = 2\n",
    "- 5 ** 2=25\n",
    "- 5*3=15\n",
    "- 15-25-2\n",
    "Note que en este caso, solo el 6 es dividido por (9 ** (1/2))"
   ]
  },
  {
   "cell_type": "code",
   "execution_count": 12,
   "metadata": {
    "colab": {},
    "colab_type": "code",
    "id": "v3JKucM0UzVv"
   },
   "outputs": [
    {
     "data": {
      "text/plain": [
       "18.666666666666668"
      ]
     },
     "execution_count": 12,
     "metadata": {},
     "output_type": "execute_result"
    }
   ],
   "source": [
    "5*(3-5)**2-6/(9**1/2)"
   ]
  },
  {
   "cell_type": "markdown",
   "metadata": {
    "tags": [
     "hide-cell"
    ]
   },
   "source": [
    "El cálculo ocurre de la siguiente forma\n",
    "- (9 ** 1/2)=4.5\n",
    "Note que como 1/2 no está entre paréntesis, Python ejecuta $\\frac{9^1}{2}=4.5$\n",
    "- 6/4.5 = $1.\\bar{3}$\n",
    "- (3-5) ** 2 = (-2) ** 2 = 4\n",
    "- 5*4=20\n",
    "- 20-$1.\\bar{3}$"
   ]
  },
  {
   "cell_type": "code",
   "execution_count": 21,
   "metadata": {
    "colab": {},
    "colab_type": "code",
    "id": "WSKpxgUPUzVy"
   },
   "outputs": [
    {
     "data": {
      "text/plain": [
       "19.666666666666668"
      ]
     },
     "execution_count": 21,
     "metadata": {},
     "output_type": "execute_result"
    }
   ],
   "source": [
    "5*(3-5)**2-6/9**1/2"
   ]
  },
  {
   "cell_type": "markdown",
   "metadata": {
    "tags": [
     "hide-cell"
    ]
   },
   "source": [
    "El cálculo ocurre de la siguiente forma\n",
    "- 6 / 9 = $0.\\bar{6}$\n",
    "- $0.\\bar{6}$ / 2 = $0.\\bar{3}$\n",
    "- (3-5) ** 2 = (-2) ** 2 = 4\n",
    "- 5*4=20\n",
    "- 20-$0.\\bar{3}$"
   ]
  },
  {
   "cell_type": "code",
   "execution_count": 6,
   "metadata": {
    "colab": {},
    "colab_type": "code",
    "id": "GST4zCDtUzV1"
   },
   "outputs": [
    {
     "data": {
      "text/plain": [
       "-10.333333333333334"
      ]
     },
     "execution_count": 6,
     "metadata": {},
     "output_type": "execute_result"
    }
   ],
   "source": [
    "5*3-5**2-6/9**1/2"
   ]
  },
  {
   "cell_type": "markdown",
   "metadata": {
    "tags": [
     "hide-cell"
    ]
   },
   "source": [
    "El cálculo ocurre de la siguiente forma\n",
    "- 6 / 9 = $0.\\bar{6}$\n",
    "- $0.\\bar{6}$ / 2 = $0.\\bar{3}$\n",
    "- 5 ** 2 = 25\n",
    "- 5*3=15\n",
    "- 15-25-$0.\\bar{3}$"
   ]
  },
  {
   "cell_type": "markdown",
   "metadata": {
    "colab_type": "text",
    "id": "qAqnr4i70sLy"
   },
   "source": [
    "## <span style=\"color:#4361EE\">Operadores de comparación</span>"
   ]
  },
  {
   "cell_type": "markdown",
   "metadata": {},
   "source": [
    "| **Operador** | **Descripción** |**Ejemplo**|**Resultado**|\n",
    "| :---: | :---: |:---: |:---: |\n",
    "|`==`|Prueba si dos valores son iguales| 3==3| True|\n",
    "|`!=`|Prueba si dos valores no son iguales entre si| 2!=3| True|\n",
    "|`<`|Prueba si el valor de la izquierda es menor que el de la derecha|4<3|False|\n",
    "|`>`|Prueba si el valor de la izquierda es mayor que el de la derecha|4>3|True|\n",
    "|`<=`|Prueba si el valor de la izquierda es menor o igual que el de la derecha|4<=3|False|\n",
    "|`>=`|Prueba si el valor de la izquierda es mayor igual que el de la derecha|4>=3|True|"
   ]
  },
  {
   "cell_type": "markdown",
   "metadata": {
    "colab_type": "text",
    "id": "qAqnr4i70sLy"
   },
   "source": [
    "## <span style=\"color:#4361EE\">Operadores Lógicos</span>"
   ]
  },
  {
   "cell_type": "markdown",
   "metadata": {},
   "source": [
    "| **Operador** | **Descripción** |**Ejemplo**|**Resultado**|\n",
    "| :---: | :---: |:---: |:---: |\n",
    "|`and`|Regresa verdadero si el valor de las izquierda y el de la derecha son verdaderos| (3<4) and (5>1)|True|\n",
    "|`or`|Regresa verdadero si uno de los dos valores a(izquierda o derecha es verdadero, o ambos| (3>4) or (5<1)|False|\n",
    "|`not`|Regresa verdadero si el valor que se está evaluando es falso|not (3>2)|False|"
   ]
  },
  {
   "cell_type": "markdown",
   "metadata": {},
   "source": [
    "### <span style=\"color:#4CC9F0\">Ejercicio</span>\n"
   ]
  },
  {
   "cell_type": "markdown",
   "metadata": {},
   "source": [
    "Verifique que entiende que hace el siguiente código. ¿Cuál es la salida?"
   ]
  },
  {
   "cell_type": "code",
   "execution_count": 2,
   "metadata": {},
   "outputs": [
    {
     "name": "stdout",
     "output_type": "stream",
     "text": [
      "status = adolescente\n"
     ]
    }
   ],
   "source": [
    "edad = 15\n",
    "status = None\n",
    "\n",
    "if (edad >12) and (edad<20):\n",
    "    status = 'adolescente'\n",
    "else:\n",
    "    status = 'no adolescente'\n",
    "\n",
    "print('status =', status)"
   ]
  },
  {
   "cell_type": "markdown",
   "metadata": {
    "tags": [
     "hide-cell"
    ]
   },
   "source": [
    "`status = adolescente`"
   ]
  },
  {
   "cell_type": "markdown",
   "metadata": {},
   "source": [
    "## <span style=\"color:#4361EE\">División y residuo entre enteros</span>\n"
   ]
  },
  {
   "cell_type": "markdown",
   "metadata": {
    "colab_type": "text",
    "id": "TIkHNbN5UzV4"
   },
   "source": [
    "La división es una operación bien especial pues la mayoría de las ocasiones produce un número con parte fraccionaria. Sin embargo, cuando estábamos pequeños nos enseñaron a dividir enteros dando como respuesta un entero llamado cociente y lo que hacía falta para completar la división, un número llamado residuo. En Python podemos calcular esos valores con `//` para el cociente y `%`para el residuo. Por ejemplo, sabemos que:\n",
    "\n",
    "$$ 20 \\div 3 = 6, \\ \\ \\ \\text{ con residuo } 2.$$\n",
    "\n",
    "Tenemos que en Python se escribe la división entre enteros como\n"
   ]
  },
  {
   "cell_type": "code",
   "execution_count": 9,
   "metadata": {
    "colab": {},
    "colab_type": "code",
    "id": "VYj4u-axUzV5"
   },
   "outputs": [
    {
     "data": {
      "text/plain": [
       "6"
      ]
     },
     "execution_count": 9,
     "metadata": {},
     "output_type": "execute_result"
    }
   ],
   "source": [
    "20//3"
   ]
  },
  {
   "cell_type": "markdown",
   "metadata": {
    "colab": {},
    "colab_type": "code",
    "id": "VYj4u-axUzV5"
   },
   "source": [
    "y el residuo de la división, es decir la operación módulo como"
   ]
  },
  {
   "cell_type": "code",
   "execution_count": 10,
   "metadata": {
    "colab": {},
    "colab_type": "code",
    "id": "Rg9EebXCUzV7"
   },
   "outputs": [
    {
     "data": {
      "text/plain": [
       "2"
      ]
     },
     "execution_count": 10,
     "metadata": {},
     "output_type": "execute_result"
    }
   ],
   "source": [
    "20%3"
   ]
  },
  {
   "cell_type": "markdown",
   "metadata": {},
   "source": [
    "## <span style=\"color:#4361EE\">Resultados con números complejos</span>"
   ]
  },
  {
   "cell_type": "markdown",
   "metadata": {},
   "source": [
    "Revise la siguiente línea y asegúrese que la entiende. Si tiene dudas consulte al instructor."
   ]
  },
  {
   "cell_type": "code",
   "execution_count": 11,
   "metadata": {
    "colab": {},
    "colab_type": "code",
    "id": "TkOeHTlXUzV-"
   },
   "outputs": [
    {
     "data": {
      "text/plain": [
       "(3+2j)"
      ]
     },
     "execution_count": 11,
     "metadata": {},
     "output_type": "execute_result"
    }
   ],
   "source": [
    "3+(-4)**(1/2) # Recordemos un poquito de nuestras matemáticas"
   ]
  },
  {
   "cell_type": "markdown",
   "metadata": {
    "colab_type": "text",
    "id": "2TGfXoLdUzWB"
   },
   "source": [
    "## <span style=\"color:#4361EE\">Redondeo de números reales</span>"
   ]
  },
  {
   "cell_type": "markdown",
   "metadata": {
    "colab_type": "text",
    "id": "2TGfXoLdUzWB"
   },
   "source": [
    "Finalmente, una función elemental y útil para el tratamiento de números decimales es `round`. La usamos para redondear los valores reales con el número de decimales que escojamos. Por defecto el redondeo quita todas las cifras decimales. Por favor revise los siguientes dos ejemplos y haga sus pruebas propias."
   ]
  },
  {
   "cell_type": "code",
   "execution_count": 12,
   "metadata": {
    "colab": {
     "base_uri": "https://localhost:8080/",
     "height": 35
    },
    "colab_type": "code",
    "executionInfo": {
     "elapsed": 434,
     "status": "ok",
     "timestamp": 1581637489662,
     "user": {
      "displayName": "Daniel Montenegro",
      "photoUrl": "",
      "userId": "07275166318289302366"
     },
     "user_tz": 300
    },
    "id": "F1JNJ-WPUzWC",
    "outputId": "071c09f0-9a01-4b30-998c-fdd6ddd0e663"
   },
   "outputs": [
    {
     "name": "stdout",
     "output_type": "stream",
     "text": [
      "15.666666666666666\n"
     ]
    }
   ],
   "source": [
    "# Cálculo original\n",
    "n1=47/3\n",
    "print(n1)"
   ]
  },
  {
   "cell_type": "code",
   "execution_count": 13,
   "metadata": {
    "colab": {
     "base_uri": "https://localhost:8080/",
     "height": 35
    },
    "colab_type": "code",
    "executionInfo": {
     "elapsed": 436,
     "status": "ok",
     "timestamp": 1581637500508,
     "user": {
      "displayName": "Daniel Montenegro",
      "photoUrl": "",
      "userId": "07275166318289302366"
     },
     "user_tz": 300
    },
    "id": "MRXeLGffUzWE",
    "outputId": "b7750137-0136-4a9f-a65a-9256d3b6fb7a"
   },
   "outputs": [
    {
     "name": "stdout",
     "output_type": "stream",
     "text": [
      "16\n"
     ]
    }
   ],
   "source": [
    "# Redondea sin cifras decimales\n",
    "n2=round(n1)\n",
    "print(n2)"
   ]
  },
  {
   "cell_type": "code",
   "execution_count": 14,
   "metadata": {
    "colab": {
     "base_uri": "https://localhost:8080/",
     "height": 35
    },
    "colab_type": "code",
    "executionInfo": {
     "elapsed": 405,
     "status": "ok",
     "timestamp": 1581637541870,
     "user": {
      "displayName": "Daniel Montenegro",
      "photoUrl": "",
      "userId": "07275166318289302366"
     },
     "user_tz": 300
    },
    "id": "buhEFfx7UzWH",
    "outputId": "63c22886-f346-49b4-8e42-ac83f8e363a7"
   },
   "outputs": [
    {
     "name": "stdout",
     "output_type": "stream",
     "text": [
      "15.667\n"
     ]
    }
   ],
   "source": [
    "# Redeondeo con tres cifras decimales\n",
    "n3=round(n1,3)\n",
    "print(n3)"
   ]
  },
  {
   "cell_type": "markdown",
   "metadata": {},
   "source": [
    "### <span style=\"color:#4CC9F0\">Ejercicio</span>\n"
   ]
  },
  {
   "cell_type": "markdown",
   "metadata": {
    "colab_type": "text",
    "id": "P8eMjQnDI1Eg"
   },
   "source": [
    "Use la función ```round()``` para redondear el número $\\pi$ hasta 5 cifras decimales.\n",
    "\n",
    "**Pista:** Para poder usar el número $\\pi$, use el siguiente código:"
   ]
  },
  {
   "cell_type": "code",
   "execution_count": null,
   "metadata": {},
   "outputs": [],
   "source": [
    "# importando el número pi\n",
    "\n",
    "from math import pi"
   ]
  },
  {
   "cell_type": "code",
   "execution_count": 15,
   "metadata": {
    "colab": {
     "base_uri": "https://localhost:8080/",
     "height": 34
    },
    "colab_type": "code",
    "executionInfo": {
     "elapsed": 1053,
     "status": "ok",
     "timestamp": 1581607521193,
     "user": {
      "displayName": "Daniel Montenegro",
      "photoUrl": "",
      "userId": "07275166318289302366"
     },
     "user_tz": 300
    },
    "id": "UJQCI5k-I0qk",
    "outputId": "e07ea843-98d0-40d0-9f94-8f0e313be3d6",
    "tags": [
     "hide-cell"
    ]
   },
   "outputs": [
    {
     "name": "stdout",
     "output_type": "stream",
     "text": [
      "3.141592653589793\n",
      "3.14159\n"
     ]
    }
   ],
   "source": [
    "# importando el número pi\n",
    "\n",
    "from math import pi\n",
    "\n",
    "\n",
    "# visualizar pi\n",
    "print(pi)\n",
    "\n",
    "# Your code here\n",
    "print(round(pi,5))"
   ]
  }
 ],
 "metadata": {
  "celltoolbar": "Tags",
  "kernelspec": {
   "display_name": "Python 3 (ipykernel)",
   "language": "python",
   "name": "python3"
  },
  "language_info": {
   "codemirror_mode": {
    "name": "ipython",
    "version": 3
   },
   "file_extension": ".py",
   "mimetype": "text/x-python",
   "name": "python",
   "nbconvert_exporter": "python",
   "pygments_lexer": "ipython3",
   "version": "3.9.12"
  },
  "vscode": {
   "interpreter": {
    "hash": "cf92aa13fedf815d5c8dd192b8d835913fde3e8bc926b2a0ad6cc74ef2ba3ca2"
   }
  }
 },
 "nbformat": 4,
 "nbformat_minor": 4
}
