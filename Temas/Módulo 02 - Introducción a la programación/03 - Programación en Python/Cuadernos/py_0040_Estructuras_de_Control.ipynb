{
 "cells": [
  {
   "cell_type": "markdown",
   "metadata": {},
   "source": [
    "# <span style=\"color:#F72585\"><center>Estructuras de control</center></span>\n"
   ]
  },
  {
   "cell_type": "markdown",
   "metadata": {},
   "source": [
    "<figure>\n",
    "<center>\n",
    "<img src=\"https://raw.githubusercontent.com/AprendizajeProfundo/Alejandria/main/Archivos_Generales/Imagenes/Carretera.jpg\" width=\"600\" height=\"400\" align=\"center\" /> \n",
    "</center>   \n",
    "</figure>\n",
    "\n",
    "<center>Fuente: <a href=\"https://sp.depositphotos.com/stock-photos/architecture-buildings.html\">Dubai downtown cityscape - sp.depositphotos.com</a></center>"
   ]
  },
  {
   "cell_type": "markdown",
   "metadata": {
    "colab_type": "text",
    "id": "qAqnr4i70sLy"
   },
   "source": [
    "En cualquier lenguaje de programación existen tres estructuras de control básicas que corresponden a \n",
    "\n",
    "- Secuencia\n",
    "- Selección (o decisión)\n",
    "- Iteración (repetición)"
   ]
  },
  {
   "cell_type": "markdown",
   "metadata": {},
   "source": [
    "## <span style=\"color:#4361EE\">Secuencia</span>\n"
   ]
  },
  {
   "cell_type": "markdown",
   "metadata": {
    "colab_type": "text",
    "id": "qAqnr4i70sLy"
   },
   "source": [
    "La ejecución de cualquier programa (algoritmo codificado en algún lenguaje de programación) se realiza en orden de aparición de las sentencias. Una `sentencia` puede ser *simple* (solamente una instrucción) o *compuesta* (varias instrucciones)."
   ]
  },
  {
   "cell_type": "markdown",
   "metadata": {},
   "source": [
    "### <span style=\"color:#4CC9F0\">Ejemplo</span>\n"
   ]
  },
  {
   "cell_type": "markdown",
   "metadata": {
    "colab_type": "text",
    "id": "qAqnr4i70sLy"
   },
   "source": [
    "Observe el siguiente código Python"
   ]
  },
  {
   "cell_type": "code",
   "execution_count": 22,
   "metadata": {},
   "outputs": [
    {
     "name": "stdout",
     "output_type": "stream",
     "text": [
      "1 2\n"
     ]
    }
   ],
   "source": [
    "x = 1\n",
    "y = 2\n",
    "\n",
    "print(x,y)"
   ]
  },
  {
   "cell_type": "markdown",
   "metadata": {},
   "source": [
    "En el ejemplo hay tres sentencias. Dos sentencias de asignación de valores y una sentencia de impresión. Se ejecuta una después de la otra."
   ]
  },
  {
   "cell_type": "markdown",
   "metadata": {},
   "source": [
    "## <span style=\"color:#4361EE\">Selección</span>"
   ]
  },
  {
   "cell_type": "markdown",
   "metadata": {},
   "source": [
    "### <span style=\"color:#4CC9F0\">Estructura if</span>\n"
   ]
  },
  {
   "cell_type": "markdown",
   "metadata": {},
   "source": [
    "Esta estructura de control está diseñada para que un programa pueda seguir diferentes caminos de ejecución, dependiendo de la evaluación de una expresión lógica. Observe el siguiente ejemplo."
   ]
  },
  {
   "cell_type": "code",
   "execution_count": 23,
   "metadata": {},
   "outputs": [
    {
     "name": "stdout",
     "output_type": "stream",
     "text": [
      "Cinco es mayor que Tres\n",
      "lunes\n"
     ]
    }
   ],
   "source": [
    "# ejemplo if\n",
    "x = 5\n",
    "y = 3\n",
    "\n",
    "if x>y:\n",
    "    print(\"Cinco es mayor que Tres\")\n",
    "    print(\"lunes\")"
   ]
  },
  {
   "cell_type": "markdown",
   "metadata": {},
   "source": [
    "La estructura empieza con la palabra clave **if**. Luego aparece una condición lógica que es evaluada (x>y). Si la condición es verdadera, como en este caso, se ejecutan las instrucciones escritas dentro de la estructura.\n",
    "\n",
    "Ahora observe el siguiente cambio"
   ]
  },
  {
   "cell_type": "code",
   "execution_count": 24,
   "metadata": {},
   "outputs": [],
   "source": [
    "# ejemplo if\n",
    "x = 3\n",
    "y = 5\n",
    "\n",
    "if x>y:\n",
    "    print(\"Cinco es mayor que Tres\")\n",
    "    print(\"lunes\")"
   ]
  },
  {
   "cell_type": "markdown",
   "metadata": {},
   "source": [
    "En este caso,  no se imprime nada, debido a que la condición es falsa. "
   ]
  },
  {
   "cell_type": "markdown",
   "metadata": {},
   "source": [
    "### <span style=\"color:#4CC9F0\">Estructura if- else</span>"
   ]
  },
  {
   "cell_type": "markdown",
   "metadata": {},
   "source": [
    "Cuando hay dos alternativas de ejecución, dependiendo de la evaluación de una condición, se puede emplear la estructura `if-else`. Ahora observe el siguiente ejemplo."
   ]
  },
  {
   "cell_type": "code",
   "execution_count": 25,
   "metadata": {},
   "outputs": [
    {
     "name": "stdout",
     "output_type": "stream",
     "text": [
      "La condición es falsa\n",
      "Martes\n"
     ]
    }
   ],
   "source": [
    "# ejemplo if-else\n",
    "x = 3\n",
    "y = 5\n",
    "\n",
    "if x>y:\n",
    "    print(\"La condición es verdadera\")\n",
    "    print(\"Lunes\")\n",
    "else:\n",
    "    print('La condición es falsa')\n",
    "    print('Martes')"
   ]
  },
  {
   "cell_type": "markdown",
   "metadata": {},
   "source": [
    "Lo que se agregó aquí fue un `else`. Este tiende a ponerse después de un `if` y se ejecuta cuando las condiciones puestas en este no se cumplen"
   ]
  },
  {
   "cell_type": "markdown",
   "metadata": {},
   "source": [
    "### <span style=\"color:#4CC9F0\">Estructura elif</span>\n"
   ]
  },
  {
   "cell_type": "markdown",
   "metadata": {},
   "source": [
    "Usaremos la estructura `elif` (forma corta de \"else if\") si queremos evaluar más de una condición separada dentro de la estructura de la selección. Hagamos el anterior ejemplo más complejo"
   ]
  },
  {
   "cell_type": "code",
   "execution_count": 1,
   "metadata": {},
   "outputs": [
    {
     "name": "stdout",
     "output_type": "stream",
     "text": [
      "y es mayor a z\n",
      "Martes\n"
     ]
    }
   ],
   "source": [
    "# ejemplo elif\n",
    "x = 3\n",
    "y = 5\n",
    "z = 4\n",
    "\n",
    "if x>z:\n",
    "    print(\"x es mayor a z\")\n",
    "    print(\"Lunes\")\n",
    "elif y>z:\n",
    "    print('y es mayor a z')\n",
    "    print('Martes')\n",
    "else:\n",
    "    print(\"todos los números son iguales\")\n",
    "    print('Miercoles')"
   ]
  },
  {
   "cell_type": "markdown",
   "metadata": {},
   "source": [
    "Lo que ocurre es lo siguiente:\n",
    "\n",
    "* En este último ejemplo, se evalúa primero la condición `x>z`. Si la evaluación de la condición es `True` se ejecutan las dos sentencias siguientes y se termina la ejecución de toda la estructura de control.  En ejemplo, el resultado de la evaluación de la condición es `False`, por lo que se salta a la siguiente parte de la estructura, es decir a la parte `elif`. \n",
    "* En este caso la evaluación de la condición `y>z` es `True`, por lo que se ejecutan las dos siguientes sentencias y termina la ejecución de la estructura de decisión.\n",
    "* Fin de la estructura de decisión.\n"
   ]
  },
  {
   "cell_type": "markdown",
   "metadata": {},
   "source": [
    "### <span style=\"color:#4CC9F0\">Ejercicio</span>\n"
   ]
  },
  {
   "cell_type": "markdown",
   "metadata": {
    "colab_type": "text",
    "id": "qA6o2ObtUzVC"
   },
   "source": [
    "El siguiente código calcula la longitud del nombre y escribe una frase acorde a la longitud. Observe que en el comando `print()` , `sep=` es un parámetro que separa los valores ingresados dentro de la función print. Como vemos, escribimos `N='Tu_nombre'` eso asigna a la variable *N* el texto *Tu_nombre*.  La función `len` devuelve la longitud de la cadena."
   ]
  },
  {
   "cell_type": "code",
   "execution_count": 1,
   "metadata": {
    "colab": {},
    "colab_type": "code",
    "id": "otVV2npDUzVD"
   },
   "outputs": [
    {
     "name": "stdout",
     "output_type": "stream",
     "text": [
      "Daniel es un nombre corto\n"
     ]
    }
   ],
   "source": [
    "N = 'Daniel'# cambiar 'Tu_nombre' por su verdadero nombre\n",
    "if len(N)>10:\n",
    "    A = \"es un nombre largo\"\n",
    "else:\n",
    "    A = \"es un nombre corto\"\n",
    "\n",
    "print(N,A,sep=\" \")\n"
   ]
  },
  {
   "cell_type": "code",
   "execution_count": 2,
   "metadata": {
    "colab": {},
    "colab_type": "code",
    "id": "2s1YfC-BUzVG"
   },
   "outputs": [
    {
     "name": "stdout",
     "output_type": "stream",
     "text": [
      "Alvaro Mauricio Montenegro Díaz...es un nombre muy largo\n"
     ]
    }
   ],
   "source": [
    "N = 'Alvaro Mauricio Montenegro Díaz' #cambiar 'Tu_nombre_completo' por su verdadero nombre completo\n",
    "if len(N)>10:\n",
    "    A = \"es un nombre muy largo\"\n",
    "else:\n",
    "    A = \"es un nombre muy corto\"\n",
    "\n",
    "print(N,A,sep=\"...\")"
   ]
  },
  {
   "cell_type": "code",
   "execution_count": 3,
   "metadata": {
    "colab": {},
    "colab_type": "code",
    "id": "P41c3wWHUzVI"
   },
   "outputs": [
    {
     "name": "stdout",
     "output_type": "stream",
     "text": [
      "El nombre         es un nombre corto\n"
     ]
    }
   ],
   "source": [
    "N = 'El nombre'\n",
    "if len(N)>10:\n",
    "    A=\"es un nombre largo\"\n",
    "else:\n",
    "    A=\"es un nombre corto\"\n",
    "\n",
    "print(N,A,sep=\"         \")"
   ]
  },
  {
   "cell_type": "markdown",
   "metadata": {},
   "source": [
    "### <span style=\"color:#4CC9F0\">Estructura de decisión múltiple Match. Python 3.10</span>\n"
   ]
  },
  {
   "cell_type": "markdown",
   "metadata": {},
   "source": [
    "Esto solo es posible desde la versión 3.10 de Python. Durante muchos años, los usuarios del lenguaje pidieron incluir esta estructura disponible en otros lenguajes de programación, como C, C++. En C existe la estructura de selección llamada \"switch\", usada cuando hay muchos casos para evaluarla condición. En estos casos hacer `if elif else` constantemente es un desperdicio de memoria y de velocidad.\n",
    "      \n",
    "En C/C++ la estructura switch se ve así:\n",
    "\n",
    "```\n",
    "switch(variable_a_evaluar):\n",
    "    case valor1:\n",
    "        algo_pasa1()\n",
    "        break:\n",
    "    case valor2:\n",
    "        algo_pasa2()\n",
    "        break:\n",
    "    case valor3:\n",
    "        algo_pasa3()\n",
    "        break:\n",
    "    default:\n",
    "        nada_pasa()\n",
    "```\n"
   ]
  },
  {
   "cell_type": "markdown",
   "metadata": {},
   "source": [
    "En Python no existía nada parecido, hasta la versión 3.10 donde se creó el caso `match`, dándonos la capacidad del switch y otras nuevas cosas\n",
    "\n",
    "Hagamos un ejemplo básico"
   ]
  },
  {
   "cell_type": "markdown",
   "metadata": {},
   "source": [
    "````{tab} Python\n",
    "```python\n",
    "quit = True\n",
    "match quit:\n",
    "    case True:\n",
    "        print(\"Cerrando\")\n",
    "    case False:\n",
    "        print(\"Sistema prendido\")\n",
    "```\n",
    "````\n"
   ]
  },
  {
   "cell_type": "markdown",
   "metadata": {},
   "source": [
    "Dentro del match también sucede el caso \"default\", que se cumple cuando los otros casos no, en Python esto se toma con un `_`"
   ]
  },
  {
   "cell_type": "markdown",
   "metadata": {},
   "source": [
    "````{tab} Python\n",
    "```python\n",
    "status = 401\n",
    "\n",
    "match status:\n",
    "    case 400:\n",
    "        print('Mala solicitud')\n",
    "    case 401:\n",
    "        print('No autorizado')\n",
    "    case 402:\n",
    "        print('Pago necesario')\n",
    "    case 403:\n",
    "        print('Prohibido')\n",
    "    case 404:\n",
    "        print('No encontrado')\n",
    "    case _:\n",
    "        print('código no reconocido')\n",
    "```\n",
    "````\n"
   ]
  },
  {
   "cell_type": "markdown",
   "metadata": {},
   "source": [
    "En la mayoría de lenguajes que usan switch, cada acción solo puede atribuirse a un caso. En Python es posible aplicar una acción a varios casos"
   ]
  },
  {
   "cell_type": "markdown",
   "metadata": {},
   "source": [
    "````{tab} Python\n",
    "```python\n",
    "status = 403\n",
    "\n",
    "match status:\n",
    "    case 400:\n",
    "        print('Mala solicitud') \n",
    "    case 401 | 403: #or\n",
    "        print('Error de Autenticación')\n",
    "    case 404:\n",
    "        print('No encontrado')\n",
    "    case _:\n",
    "        print('otro tipo de código')\n",
    "```\n",
    "````\n"
   ]
  },
  {
   "cell_type": "markdown",
   "metadata": {
    "colab_type": "text",
    "id": "qAqnr4i70sLy"
   },
   "source": [
    "## <span style=\"color:#4361EE\">Alcance de la estructuras de control. Indentación en Python</span>"
   ]
  },
  {
   "cell_type": "markdown",
   "metadata": {
    "colab_type": "text",
    "id": "oMyFFHSjlj9J"
   },
   "source": [
    "Indentar significa **mover un bloque de texto hacia la derecha**, dejando una serie de espacios o un tabulador para distinguirlo del texto alineado a la izquierda. \n",
    "\n",
    "Por ejemplo:\n",
    "\n",
    "> Este texto está indentado.\n",
    "\n",
    "En Python, la indentación es obligatoria para indica el alcance de una estructura. Además solamente debe usarse para tal fin.\n"
   ]
  },
  {
   "cell_type": "markdown",
   "metadata": {},
   "source": [
    "### <span style=\"color:#4CC9F0\">Ejemplo: Indentación en Python</span>\n"
   ]
  },
  {
   "cell_type": "markdown",
   "metadata": {
    "colab_type": "text",
    "id": "OqFH478Xza5l"
   },
   "source": [
    "En este ejemplo"
   ]
  },
  {
   "cell_type": "code",
   "execution_count": null,
   "metadata": {
    "colab": {},
    "colab_type": "code",
    "id": "ie3nUgSszhve"
   },
   "outputs": [
    {
     "name": "stdout",
     "output_type": "stream",
     "text": [
      "9.6\n"
     ]
    }
   ],
   "source": [
    "# ejemplo if\n",
    "x = 3\n",
    "y = 5\n",
    "\n",
    "if x>y:\n",
    "    print(\"Five is greater than Three\")\n",
    "    print(\"lunes\")\n",
    "    \n",
    "# por fuera del if\n",
    "x = 9.6\n",
    "print(x)\n",
    "    "
   ]
  },
  {
   "cell_type": "markdown",
   "metadata": {
    "colab_type": "text",
    "id": "Xvt2xJKPzudT"
   },
   "source": [
    "Sin la indentación, el código produce un error:"
   ]
  },
  {
   "cell_type": "code",
   "execution_count": 2,
   "metadata": {},
   "outputs": [
    {
     "ename": "IndentationError",
     "evalue": "expected an indented block (Temp/ipykernel_46744/3402113970.py, line 6)",
     "output_type": "error",
     "traceback": [
      "\u001b[1;36m  File \u001b[1;32m\"C:\\Users\\User\\AppData\\Local\\Temp/ipykernel_46744/3402113970.py\"\u001b[1;36m, line \u001b[1;32m6\u001b[0m\n\u001b[1;33m    print(\"Five is greater than Three\")\u001b[0m\n\u001b[1;37m    ^\u001b[0m\n\u001b[1;31mIndentationError\u001b[0m\u001b[1;31m:\u001b[0m expected an indented block\n"
     ]
    }
   ],
   "source": [
    "x = 3\n",
    "y = 5\n",
    "print(x,y)\n",
    "\n",
    "if x>y:\n",
    "print(\"Five is greater than Three\")"
   ]
  },
  {
   "cell_type": "markdown",
   "metadata": {
    "colab_type": "text",
    "id": "h_FUae2V1Dfu"
   },
   "source": [
    "### <span style=\"color:#4CC9F0\">Número de espacios al indentar</span>"
   ]
  },
  {
   "cell_type": "markdown",
   "metadata": {
    "colab_type": "text",
    "id": "h_FUae2V1Dfu"
   },
   "source": [
    "No importa cuántos espacios en blanco se dejen, siempre y cuando sea *al menos uno*. Revise el siguiente ejemplo."
   ]
  },
  {
   "cell_type": "code",
   "execution_count": null,
   "metadata": {
    "colab": {},
    "colab_type": "code",
    "id": "8shIg71S1KOI"
   },
   "outputs": [
    {
     "name": "stdout",
     "output_type": "stream",
     "text": [
      "Five is greater than Three\n",
      "Five is greater than Three\n"
     ]
    }
   ],
   "source": [
    "# la identación con 4 espacios\n",
    "if 5 > 3:\n",
    "    print(\"Five is greater than Three\")  \n",
    "\n",
    "# la identación con 6 espacios\n",
    "if 5 > 3:\n",
    "     print(\"Five is greater than Three\")"
   ]
  },
  {
   "cell_type": "code",
   "execution_count": null,
   "metadata": {},
   "outputs": [],
   "source": [
    "Observe que el número de espacios en la identación no afectó la salida."
   ]
  },
  {
   "cell_type": "markdown",
   "metadata": {},
   "source": [
    "### <span style=\"color:#4CC9F0\">Ejercicio</span>\n"
   ]
  },
  {
   "cell_type": "markdown",
   "metadata": {},
   "source": [
    "Verifique que entiende qué hace el siguiente código. ¿Cuál es la salida?"
   ]
  },
  {
   "cell_type": "code",
   "execution_count": 4,
   "metadata": {},
   "outputs": [
    {
     "name": "stdout",
     "output_type": "stream",
     "text": [
      "status= adolescente\n"
     ]
    }
   ],
   "source": [
    "edad = 15\n",
    "status = None\n",
    "\n",
    "if (edad >12) and (edad<20):\n",
    "    status = 'adolescente'\n",
    "else:\n",
    "    status = 'no adolescente'\n",
    "\n",
    "print('status=', status)"
   ]
  },
  {
   "cell_type": "markdown",
   "metadata": {},
   "source": [
    "## <span style=\"color:#4361EE\">Estructura de repetición [ciclos]</span>"
   ]
  },
  {
   "cell_type": "markdown",
   "metadata": {},
   "source": [
    "Este tercer tipo de estructura de control se usa para los casos en los cuales es necesario correr un proceso varias veces en forma continua."
   ]
  },
  {
   "cell_type": "markdown",
   "metadata": {},
   "source": [
    "### <span style=\"color:#4CC9F0\">Ciclo while</span>\n"
   ]
  },
  {
   "cell_type": "markdown",
   "metadata": {},
   "source": [
    "Al comienzo del ciclo se evalúa una condición. Si la condición es verdadera se ejecuta de nuevo el ciclo. En otro caso, termina. Corra y analice el siguiente fragmento (snippet) de código."
   ]
  },
  {
   "cell_type": "code",
   "execution_count": 7,
   "metadata": {},
   "outputs": [
    {
     "name": "stdout",
     "output_type": "stream",
     "text": [
      "¡Empezando!\n",
      "0  1  2  3  4  5  6  7  8  9  \n",
      "¡Hecho!\n"
     ]
    }
   ],
   "source": [
    "contador = 0\n",
    "\n",
    "print('¡Empezando!')\n",
    "while contador < 10:\n",
    "    #Instrucciones ejecutables\n",
    "    print(contador,' ', end='')\n",
    "    contador = contador + 1\n",
    "    \n",
    "print()\n",
    "print('¡Hecho!')"
   ]
  },
  {
   "cell_type": "markdown",
   "metadata": {},
   "source": [
    "### <span style=\"color:#4CC9F0\">Ejercicio</span>\n"
   ]
  },
  {
   "cell_type": "markdown",
   "metadata": {},
   "source": [
    "¿Qué hace el parámetro  *end* en el *print* anterior? "
   ]
  },
  {
   "cell_type": "markdown",
   "metadata": {
    "tags": [
     "hide-cell"
    ]
   },
   "source": [
    "Indica el caracter de separación entre número y número del contador del primer print. Puede comprobarlo haciendo algunos cambios"
   ]
  },
  {
   "cell_type": "code",
   "execution_count": 9,
   "metadata": {
    "tags": [
     "hide-cell"
    ]
   },
   "outputs": [
    {
     "name": "stdout",
     "output_type": "stream",
     "text": [
      "0  ...1  ...2  ...3  ...4  ...5  ...6  ...7  ...8  ...9  ..."
     ]
    }
   ],
   "source": [
    "contador = 0\n",
    "while contador < 10:\n",
    "    #Instrucciones ejecutables\n",
    "    print(contador,' ', end='...')\n",
    "    contador = contador + 1\n",
    "    "
   ]
  },
  {
   "cell_type": "markdown",
   "metadata": {},
   "source": [
    "### <span style=\"color:#4CC9F0\">Ciclo for</span>\n"
   ]
  },
  {
   "cell_type": "markdown",
   "metadata": {},
   "source": [
    "En este caso se usa una variable de salto que va recorriendo un conjunto de valores hasta terminar. Revise el siguiente fragmento de código."
   ]
  },
  {
   "cell_type": "code",
   "execution_count": 1,
   "metadata": {},
   "outputs": [
    {
     "name": "stdout",
     "output_type": "stream",
     "text": [
      "\n",
      "Inicio:\n",
      "0  1  2  3  4  5  6  7  8  9  10  11  12  13  14  15  16  17  18  19  \n",
      "Hecho.\n"
     ]
    }
   ],
   "source": [
    "print('\\nInicio:')\n",
    "for i in range(20):\n",
    "    # Instrucciones útiles\n",
    "    print(i, ' ', end='')\n",
    "\n",
    "print('\\nHecho.')"
   ]
  },
  {
   "cell_type": "markdown",
   "metadata": {},
   "source": [
    "### <span style=\"color:#4CC9F0\">Ejercicio</span>"
   ]
  },
  {
   "cell_type": "markdown",
   "metadata": {},
   "source": [
    "1. Discuta Cuál es la diferencia entre la estructuras `while` y `for`.\n",
    "2. Reescriba los dos ejemplos anteriores cambiado de `while` a `for` y viceversa, según el caso."
   ]
  },
  {
   "cell_type": "code",
   "execution_count": null,
   "metadata": {},
   "outputs": [],
   "source": [
    "#Consigne aquí sus respuestas"
   ]
  },
  {
   "cell_type": "markdown",
   "metadata": {
    "tags": [
     "hide-cell"
    ]
   },
   "source": [
    "1. En el ciclo `for` debemos definir previamente el número de iteraciones. Cuando usamos `while` la cantidad de iteraciones se basa en la verificación de la condición que especificamos."
   ]
  },
  {
   "cell_type": "code",
   "execution_count": 4,
   "metadata": {
    "tags": [
     "hide-cell"
    ]
   },
   "outputs": [
    {
     "name": "stdout",
     "output_type": "stream",
     "text": [
      "¡Empezando!\n",
      "0  1  2  3  4  5  6  7  8  9  \n",
      "¡Hecho!\n"
     ]
    }
   ],
   "source": [
    "\n",
    "print('¡Empezando!')\n",
    "for i in range(0,10):\n",
    "    #Instrucciones ejecutables\n",
    "    print(i,' ', end='')\n",
    "    \n",
    "print()\n",
    "print('¡Hecho!')"
   ]
  },
  {
   "cell_type": "code",
   "execution_count": 6,
   "metadata": {
    "tags": [
     "hide-cell"
    ]
   },
   "outputs": [
    {
     "name": "stdout",
     "output_type": "stream",
     "text": [
      "0  1  2  3  4  5  6  7  8  9  10  11  12  13  14  15  16  17  18  19  "
     ]
    }
   ],
   "source": [
    "contador = 0\n",
    "while contador < 20:\n",
    "    #Instrucciones ejecutables\n",
    "    print(contador,' ', end='')\n",
    "    contador = contador + 1\n",
    "    "
   ]
  },
  {
   "cell_type": "markdown",
   "metadata": {},
   "source": [
    "### <span style=\"color:#4CC9F0\">Sentencia break</span>\n"
   ]
  },
  {
   "cell_type": "markdown",
   "metadata": {},
   "source": [
    "Esta sentencia usa para terminar la ejecución de un ciclo while o for. Corra el siguiente ejemplo dando diferentes valores para el rango de valores, digamos 3, 5, 10."
   ]
  },
  {
   "cell_type": "code",
   "execution_count": 2,
   "metadata": {},
   "outputs": [
    {
     "name": "stdout",
     "output_type": "stream",
     "text": [
      "0\n",
      "1\n",
      "2\n",
      "3\n",
      "4\n",
      "5\n"
     ]
    }
   ],
   "source": [
    "for i in range(10):\n",
    "    print(i)\n",
    "    if i==5:\n",
    "        break"
   ]
  },
  {
   "cell_type": "markdown",
   "metadata": {},
   "source": [
    "## <span style=\"color:#4361EE\">Estructuras de control anidadas</span>"
   ]
  },
  {
   "cell_type": "markdown",
   "metadata": {},
   "source": [
    "Es posible incluir (o anidar) estructuras de control dentro de otras estructuras de control. Esto es de gran utilidad para realizar programas de mayor complejidad."
   ]
  },
  {
   "cell_type": "markdown",
   "metadata": {},
   "source": [
    "### <span style=\"color:#4CC9F0\">Ejemplo</span>"
   ]
  },
  {
   "cell_type": "markdown",
   "metadata": {},
   "source": [
    "Comenzamos por asignar valores a dos variables y las imprimimos usando la opción format de la función `print`. Asegúrese de entender la sentencia print."
   ]
  },
  {
   "cell_type": "code",
   "execution_count": 14,
   "metadata": {
    "colab": {},
    "colab_type": "code",
    "id": "Q6UM2ujoztla"
   },
   "outputs": [
    {
     "name": "stdout",
     "output_type": "stream",
     "text": [
      "x = 5, y = 3\n"
     ]
    }
   ],
   "source": [
    "x = 5\n",
    "y = 3\n",
    "print('x = {}, y = {}'.format(x, y))"
   ]
  },
  {
   "cell_type": "markdown",
   "metadata": {},
   "source": [
    "A continuación usamos los valores de x y y en una estructura anidada. Asegúrese de entender la ejecución. Tenemos una estructura *for* `anidada` dentro de una estructura *if*. Si la condición en la estructura if es True, como en el ejemplo, se ejecutan las siguientes tres sentencias: print, for, y asignación. La últimas dos sentencias al final de código siempre se ejecutan, porque están por fuera de la estructura if."
   ]
  },
  {
   "cell_type": "code",
   "execution_count": 15,
   "metadata": {
    "colab": {},
    "colab_type": "code",
    "id": "Q6UM2ujoztla"
   },
   "outputs": [
    {
     "name": "stdout",
     "output_type": "stream",
     "text": [
      "Cinco es mayor que tres\n",
      "0\n",
      "1\n",
      "2\n",
      "3\n",
      "4\n",
      "5\n",
      "6\n",
      "7\n",
      "8\n",
      "9\n",
      "9.9 2\n"
     ]
    }
   ],
   "source": [
    "if x>y:\n",
    "    print(\"Cinco es mayor que tres\")\n",
    "    for i in range(10):\n",
    "        print(i)\n",
    "    x = 9.9\n",
    "\n",
    "y = 2\n",
    "print(x, y)"
   ]
  },
  {
   "cell_type": "markdown",
   "metadata": {},
   "source": [
    "### <span style=\"color:#4CC9F0\">Ciclos anidados</span>\n"
   ]
  },
  {
   "cell_type": "markdown",
   "metadata": {},
   "source": [
    "Un ejemplo de ciclos anidados,  puede ser de gran utilidad para realizar procesos iterativos. Por ejemplo crear las tablas de multiplicar."
   ]
  },
  {
   "cell_type": "markdown",
   "metadata": {},
   "source": [
    "### <span style=\"color:#4CC9F0\">Ejemplo de la tablas multiplicar</span>"
   ]
  },
  {
   "cell_type": "markdown",
   "metadata": {},
   "source": [
    "En el siguiente fragmento imprimimos las tablas de multiplicar hasta 4, con multiplicadores hasta 12. Veámos."
   ]
  },
  {
   "cell_type": "code",
   "execution_count": 3,
   "metadata": {},
   "outputs": [
    {
     "name": "stdout",
     "output_type": "stream",
     "text": [
      "\n",
      "Algunas Tablas de Multiplicar:\n",
      "\n",
      "Tabla del 1\n",
      "\n",
      "1x1 = 1\n",
      "1x2 = 2\n",
      "1x3 = 3\n",
      "1x4 = 4\n",
      "1x5 = 5\n",
      "1x6 = 6\n",
      "1x7 = 7\n",
      "1x8 = 8\n",
      "1x9 = 9\n",
      "1x10 = 10\n",
      "1x11 = 11\n",
      "1x12 = 12\n",
      "\n",
      "Tabla del 2\n",
      "\n",
      "2x1 = 2\n",
      "2x2 = 4\n",
      "2x3 = 6\n",
      "2x4 = 8\n",
      "2x5 = 10\n",
      "2x6 = 12\n",
      "2x7 = 14\n",
      "2x8 = 16\n",
      "2x9 = 18\n",
      "2x10 = 20\n",
      "2x11 = 22\n",
      "2x12 = 24\n",
      "\n",
      "Tabla del 3\n",
      "\n",
      "3x1 = 3\n",
      "3x2 = 6\n",
      "3x3 = 9\n",
      "3x4 = 12\n",
      "3x5 = 15\n",
      "3x6 = 18\n",
      "3x7 = 21\n",
      "3x8 = 24\n",
      "3x9 = 27\n",
      "3x10 = 30\n",
      "3x11 = 33\n",
      "3x12 = 36\n",
      "\n",
      "Tabla del 4\n",
      "\n",
      "4x1 = 4\n",
      "4x2 = 8\n",
      "4x3 = 12\n",
      "4x4 = 16\n",
      "4x5 = 20\n",
      "4x6 = 24\n",
      "4x7 = 28\n",
      "4x8 = 32\n",
      "4x9 = 36\n",
      "4x10 = 40\n",
      "4x11 = 44\n",
      "4x12 = 48\n"
     ]
    }
   ],
   "source": [
    "print(\"\\nAlgunas Tablas de Multiplicar:\")\n",
    "for i in range(1,5): # i va aumentado desde 1, luego va a 2,3,...\n",
    "    print(f'\\nTabla del {i}\\n')\n",
    "    for j in range(1,13): # Recorre desde el 1 hasta el 12\n",
    "        print(i,\"x\",j,\" = \",i*j,sep='')"
   ]
  },
  {
   "cell_type": "markdown",
   "metadata": {},
   "source": [
    "### <span style=\"color:#4CC9F0\">Ejemplo de una sucesión creciente de asteríscos</span>"
   ]
  },
  {
   "cell_type": "code",
   "execution_count": 4,
   "metadata": {},
   "outputs": [
    {
     "name": "stdout",
     "output_type": "stream",
     "text": [
      "\n",
      "*\n",
      "**\n",
      "***\n",
      "****\n",
      "*****\n",
      "******\n",
      "*******\n",
      "********\n",
      "*********\n",
      "**********\n"
     ]
    }
   ],
   "source": [
    "# Sucesión creciente de asteríscos\n",
    "num_lineas = 11\n",
    "for i in range(0,num_lineas):             \n",
    "    for j in range(i):           \n",
    "        print('*', end='')        \n",
    "    print('')                    "
   ]
  },
  {
   "cell_type": "markdown",
   "metadata": {},
   "source": [
    "### <span style=\"color:#4CC9F0\">Buscando una letra en  una cadena (string) con un ciclo for</span>"
   ]
  },
  {
   "cell_type": "markdown",
   "metadata": {},
   "source": [
    "También es posible aplicar un else a las estructuras \"for\" y \"while\". Lo que se ponga en este se va a ejecutar al final del ciclo (loop) a menos que se use una clúsula break. En el siguiente ejemplo se busca determinar si una letra esta dentro de un texto. Investigamos si la letra u está o no en el texto. Observe el uso de la clúsula `in` (en) para recorrer el texto. "
   ]
  },
  {
   "cell_type": "code",
   "execution_count": 5,
   "metadata": {},
   "outputs": [
    {
     "name": "stdout",
     "output_type": "stream",
     "text": [
      "Letra U no encontrada\n"
     ]
    }
   ],
   "source": [
    "# en este caso no está la letra u en el texto\n",
    "texto = \"Esta frase no tiene cierta letra\"\n",
    "\n",
    "for letra in texto:\n",
    "    if letra == \"u\" or letra == \"U\":\n",
    "        print(\"Letra U encontrada\")\n",
    "        break\n",
    "else:\n",
    "    print(\"Letra U no encontrada\")"
   ]
  },
  {
   "cell_type": "code",
   "execution_count": 6,
   "metadata": {},
   "outputs": [
    {
     "name": "stdout",
     "output_type": "stream",
     "text": [
      "Letra U encontrada\n"
     ]
    }
   ],
   "source": [
    "# en este caso si está la letra u en el texto\n",
    "texto = \"la letra 'u' está en la frase\"\n",
    "\n",
    "for letra in texto:\n",
    "    if letra == \"u\":\n",
    "        print(\"Letra U encontrada\")\n",
    "        break\n",
    "else:\n",
    "    print(\"Letra U no encontrada\")"
   ]
  },
  {
   "cell_type": "markdown",
   "metadata": {},
   "source": [
    "### <span style=\"color:#4CC9F0\">Cláusula `in` un ciclo for</span>"
   ]
  },
  {
   "cell_type": "markdown",
   "metadata": {},
   "source": [
    "Como se observa en el ejemplo previo, la cláusula `in` se ha usado para recorrer el texto completo. Esta cláusula es muy importante para recorrer estructuras de datos, que llamaremos iterables y que estudiaremos en otra lección. Básicamente si un objeto tiene varios elementos que pueden ser visitados individualmente (`objeto iterable`), la cláusula *in/* se usa para recorrer el objeto, sin tener que indicar una posición específica en el objeto.\n",
    "      \n",
    "En el ejemplo hemos recorrido *texto* que es una cadena (string). Toda cadena está conformada por caracteres, y es posible recorrer la cadena y usar cada caracter. No podemos modificar individualmente cada caracter. Veamos el siguiente ejemplo.\n"
   ]
  },
  {
   "cell_type": "markdown",
   "metadata": {},
   "source": [
    "### <span style=\"color:#4CC9F0\">Ejemplo de recorrer una cadena exhaustivamente </span>"
   ]
  },
  {
   "cell_type": "markdown",
   "metadata": {},
   "source": [
    "En este ejemplo recorremos la cadena e imprimimos cada caracter de la cadena individualmente."
   ]
  },
  {
   "cell_type": "code",
   "execution_count": 7,
   "metadata": {},
   "outputs": [
    {
     "name": "stdout",
     "output_type": "stream",
     "text": [
      "E s t a   e s   u n a   c a d e n a "
     ]
    }
   ],
   "source": [
    "texto = \"Esta es una cadena\"\n",
    "\n",
    "for char in texto:\n",
    "    print(char, end=' ')"
   ]
  },
  {
   "cell_type": "markdown",
   "metadata": {},
   "source": [
    "### <span style=\"color:#4CC9F0\">Ejemplo de como romper la ejecución  un ciclo infinito</span>"
   ]
  },
  {
   "cell_type": "markdown",
   "metadata": {},
   "source": [
    "En este ejemplo empezamos imprimiendo números de forma secuencial. El ciclo no termina nunca, si no se rompe con una cláusula *break*. Observe que la condición evaluada por la estructura while es *True*, por lo que el ciclo no puede terminar sin interrumpirlo con la cláusula break."
   ]
  },
  {
   "cell_type": "code",
   "execution_count": 8,
   "metadata": {},
   "outputs": [
    {
     "name": "stdout",
     "output_type": "stream",
     "text": [
      "0\n",
      "1\n",
      "2\n",
      "3\n"
     ]
    }
   ],
   "source": [
    "# ciclo infinito terminado con break\n",
    "count = 0\n",
    "fin = 3\n",
    "\n",
    "while True:\n",
    "    print(count)\n",
    "    if count == fin:\n",
    "        break\n",
    "    count+=1"
   ]
  },
  {
   "cell_type": "markdown",
   "metadata": {},
   "source": [
    "### <span style=\"color:#4CC9F0\">Ejemplo de ciclo con terminación condicional</span>"
   ]
  },
  {
   "cell_type": "markdown",
   "metadata": {},
   "source": [
    "En este ejemplo, el ciclo termina por una de dos razones:\n",
    "\n",
    "1. Se ejecutan el ciclo todas las veces previstas.\n",
    "2. Se rompe la ejecución con break."
   ]
  },
  {
   "cell_type": "code",
   "execution_count": 9,
   "metadata": {},
   "outputs": [
    {
     "name": "stdout",
     "output_type": "stream",
     "text": [
      "0\n",
      "1\n",
      "2\n",
      "3\n",
      "4\n",
      "llegamos al final del ciclo\n"
     ]
    }
   ],
   "source": [
    "count = 0\n",
    "\n",
    "while count < 5:\n",
    "    \n",
    "    print(count)\n",
    "    \n",
    "    if count == 7:\n",
    "        break\n",
    "    count += 1\n",
    "else:\n",
    "    print(\"llegamos al final del ciclo\")\n",
    "    "
   ]
  },
  {
   "cell_type": "markdown",
   "metadata": {},
   "source": [
    "### <span style=\"color:#4CC9F0\">Ejercicio</span>\n"
   ]
  },
  {
   "cell_type": "markdown",
   "metadata": {
    "colab_type": "text",
    "id": "NTTmenRR162S"
   },
   "source": [
    "Escriba un código que le diga al computador que devuelva los textos *Estoy listo para codificar!* si su nombre tiene más de diez caracteres u *Hola mundo! *si pasa lo contrario*. Para medir la longitud de su nombre utilice la función `len()`."
   ]
  },
  {
   "cell_type": "code",
   "execution_count": null,
   "metadata": {
    "colab": {},
    "colab_type": "code",
    "id": "h-aRHdmHUzUx"
   },
   "outputs": [
    {
     "data": {
      "text/plain": [
       "9"
      ]
     },
     "metadata": {},
     "output_type": "display_data"
    }
   ],
   "source": [
    "len(\"Tu_nombre\") #pruebe la funcion len. Cambia Tu_nombre por su nombre real."
   ]
  },
  {
   "cell_type": "code",
   "execution_count": null,
   "metadata": {
    "colab": {},
    "colab_type": "code",
    "id": "aljlfPUW2SRr"
   },
   "outputs": [],
   "source": [
    "# Ingrese aquí el condicional"
   ]
  },
  {
   "cell_type": "code",
   "execution_count": 7,
   "metadata": {
    "tags": [
     "hide-cell"
    ]
   },
   "outputs": [
    {
     "name": "stdout",
     "output_type": "stream",
     "text": [
      "Estoy listo para codificar!\n"
     ]
    }
   ],
   "source": [
    "nombre = 'Pepito Perez'\n",
    "if len(nombre)>10:\n",
    "    print('Estoy listo para codificar!')\n",
    "else:\n",
    "    print('Hola mundo!')"
   ]
  },
  {
   "cell_type": "markdown",
   "metadata": {},
   "source": [
    "## <span style=\"color:#4361EE\">Manejo de excepciones. Estructura try - except</span> "
   ]
  },
  {
   "cell_type": "markdown",
   "metadata": {},
   "source": [
    "Como habrá observado hasta ahora, cuando se produce un error, Python termina la ejecución y hace una traza de la ejecución hasta que se produjo el error e indica el tipo de error. Ya hemos visto que sucede cuando por ejemplo llamamos una variable a la cual no se la ha asignado nada.\n",
    "\n",
    "Para cambiar este comportamiento, los errores pueden ser capturados con `excepciones` para ser procesados y evitar que el programa termine por causa del error. Siempre que se produce un error, Python genera una excepción (que puede imaginar como un mensaje) que el programador puede capturar.\n",
    "\n",
    "Lo que podemos hacer es \"intentar\" ejecutar algo, y si se tiene un problema de error ejecutamos otra sección de código. De esta forma no se detiene todo el código. Observemos el siguiente ejemplo."
   ]
  },
  {
   "cell_type": "code",
   "execution_count": 30,
   "metadata": {},
   "outputs": [
    {
     "ename": "NameError",
     "evalue": "name 'no_variable' is not defined",
     "output_type": "error",
     "traceback": [
      "\u001b[0;31m---------------------------------------------------------------------------\u001b[0m",
      "\u001b[0;31mNameError\u001b[0m                                 Traceback (most recent call last)",
      "\u001b[0;32m<ipython-input-30-d3602e5b1cba>\u001b[0m in \u001b[0;36m<module>\u001b[0;34m\u001b[0m\n\u001b[1;32m      1\u001b[0m \u001b[0;31m# se genera error y termina la ejecución\u001b[0m\u001b[0;34m\u001b[0m\u001b[0;34m\u001b[0m\u001b[0;34m\u001b[0m\u001b[0m\n\u001b[0;32m----> 2\u001b[0;31m \u001b[0mprint\u001b[0m\u001b[0;34m(\u001b[0m\u001b[0mno_variable\u001b[0m\u001b[0;34m)\u001b[0m\u001b[0;34m\u001b[0m\u001b[0;34m\u001b[0m\u001b[0m\n\u001b[0m\u001b[1;32m      3\u001b[0m \u001b[0mprint\u001b[0m\u001b[0;34m(\u001b[0m\u001b[0;34m'Aqui sigue la ejecución...'\u001b[0m\u001b[0;34m)\u001b[0m\u001b[0;34m\u001b[0m\u001b[0;34m\u001b[0m\u001b[0m\n",
      "\u001b[0;31mNameError\u001b[0m: name 'no_variable' is not defined"
     ]
    }
   ],
   "source": [
    "# se genera error y termina la ejecución\n",
    "print(no_variable)\n",
    "print('Aqui sigue la ejecución...')"
   ]
  },
  {
   "cell_type": "code",
   "execution_count": 10,
   "metadata": {},
   "outputs": [
    {
     "name": "stdout",
     "output_type": "stream",
     "text": [
      "variable no encontrada\n",
      "Aqui sigue la ejecución...\n"
     ]
    }
   ],
   "source": [
    "# captura el error\n",
    "try:\n",
    "    print(no_variable)\n",
    "except:\n",
    "    print(\"variable no encontrada\")\n",
    "    \n",
    "print('Aqui sigue la ejecución...')"
   ]
  },
  {
   "cell_type": "markdown",
   "metadata": {},
   "source": [
    "Si en el bloque `try` se genera un error, se ejecuta el bloque `except` en su lugar\n",
    "\n",
    "Podemos ser específicos con el tipo de errores que obtenemos y ejecutar cosas distintas respecto a esto."
   ]
  },
  {
   "cell_type": "code",
   "execution_count": 32,
   "metadata": {},
   "outputs": [
    {
     "name": "stdout",
     "output_type": "stream",
     "text": [
      "Variable no definida\n"
     ]
    }
   ],
   "source": [
    "try:\n",
    "  print(no_variable+2)\n",
    "except NameError:\n",
    "  print(\"Variable no definida\")\n",
    "except:\n",
    "  print(\"Otro problema encontrado\")"
   ]
  },
  {
   "cell_type": "markdown",
   "metadata": {},
   "source": [
    "Podemos agregar otros tipos de bloques para manejar errores\n",
    "- `else` correrá si no se encuentran errores\n",
    "- `finally` corre al final del bloque, sin importar si se encontraron errores o no"
   ]
  },
  {
   "cell_type": "code",
   "execution_count": null,
   "metadata": {},
   "outputs": [
    {
     "name": "stdout",
     "output_type": "stream",
     "text": [
      "imprimiendo linea\n",
      "no se encontraron problemas\n",
      "código terminado, que tenga un buen día!\n"
     ]
    }
   ],
   "source": [
    "try:\n",
    "    print(\"imprimiendo linea\")\n",
    "except:\n",
    "    print(\"encontramos un problema\")\n",
    "else:\n",
    "    print(\"no se encontraron problemas\")\n",
    "finally:\n",
    "    print(\"código terminado, que tenga un buen día!\")"
   ]
  }
 ],
 "metadata": {
  "celltoolbar": "Tags",
  "kernelspec": {
   "display_name": "Python 3 (ipykernel)",
   "language": "python",
   "name": "python3"
  },
  "language_info": {
   "codemirror_mode": {
    "name": "ipython",
    "version": 3
   },
   "file_extension": ".py",
   "mimetype": "text/x-python",
   "name": "python",
   "nbconvert_exporter": "python",
   "pygments_lexer": "ipython3",
   "version": "3.9.12"
  },
  "vscode": {
   "interpreter": {
    "hash": "cf92aa13fedf815d5c8dd192b8d835913fde3e8bc926b2a0ad6cc74ef2ba3ca2"
   }
  }
 },
 "nbformat": 4,
 "nbformat_minor": 4
}
