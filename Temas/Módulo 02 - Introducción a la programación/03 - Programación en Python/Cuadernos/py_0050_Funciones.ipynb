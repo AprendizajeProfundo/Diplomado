{
 "cells": [
  {
   "cell_type": "markdown",
   "metadata": {},
   "source": [
    "# <span style=\"color:#F72585\"><center>Funciones en Python</center></span>"
   ]
  },
  {
   "cell_type": "markdown",
   "metadata": {},
   "source": [
    "<figure>\n",
    "<center>\n",
    "<img src=\"https://raw.githubusercontent.com/AprendizajeProfundo/Alejandria/main/Archivos_Generales/Imagenes/Robot.jpg\" width=\"600\" height=\"400\" align=\"center\" /> \n",
    "</center>   \n",
    "</figure>\n",
    "\n",
    "\n",
    "<a href=\"https://commons.wikimedia.org/wiki/File:Smart_robot.jpg\">librutech.com</a>, <a href=\"https://creativecommons.org/licenses/by-sa/4.0\">CC BY-SA 4.0</a>, via Wikimedia Commons\n",
    "\n"
   ]
  },
  {
   "cell_type": "markdown",
   "metadata": {},
   "source": [
    "## <span style=\"color:#4361EE\">Introducción</span>"
   ]
  },
  {
   "cell_type": "markdown",
   "metadata": {},
   "source": [
    "En Python y en cualquier lenguaje de programación, una función es un grupo de declaraciones relacionadas que realizan una tarea específica.\n",
    "\n",
    "Las funciones ayudan a dividir nuestro programa en partes más pequeñas y modulares. A medida que nuestro programa crece más y más, las funciones hacerlo  más organizado y manejable. Además, las funciones evitan la repetición y hace que el código sea reutilizable."
   ]
  },
  {
   "cell_type": "markdown",
   "metadata": {},
   "source": [
    "## <span style=\"color:#4361EE\">Analogía con la vida diaria</span>"
   ]
  },
  {
   "cell_type": "markdown",
   "metadata": {},
   "source": [
    "Una analogía con la vida diaria puede ser la siguiente. \n",
    "\n",
    "Imagínese cuando se levanta. Lo que ocurre primero, es que uno se siente vivo, se abren los ojos (no siempre), se hace pereza un rato, se levanta de la cama y luego se inicia el día (cada persona tiene sus maneras diferentes de hacerlo).\n",
    "\n",
    "Esta serie de *pasos consecutivos* conforman lo que podríamos llamar una `función` levantarse.\n",
    "\n",
    "En el común, una *función es en general una secuencia de pasos* o una serie de acciones que generan un resultado específico. De manera abstracta, esos pasos consecutivos se encapsulan en un objeto llamado  función, lo cual entrega ventajas cuando se describe una situación compleja y por lo general de carácter repetitivo.\n",
    "\n",
    "\n",
    "Para poder distinguir funciones, unas de otras, se les asignan nombres diferentes.\n",
    "\n",
    "Por ejemplo, la función antes descrita podría nombrarse como **Levantarse**:\n",
    "\n",
    "Está función se compone de los siguientes pasos:\n",
    "\n",
    "1. Sentirse vivo.\n",
    "2. Abrir los ojos.\n",
    "3. Hacer pereza.\n",
    "4. Levantarse.\n",
    "\n",
    "Así, aunque cada persona puede desarrollar la actividad de levantarse de manera un poco diferente, en general tal actividad se puede ver como una función que es ejecuta en algún momento por algún individuo.\n",
    "\n",
    "\n",
    "En el lenguaje de programación, esto se podría escribir como\n",
    "\n",
    "```Levantarse(x)```\n",
    "\n",
    "donde $x$ representa el individuo que hace la acción y los paréntesis significan que se habla de una función, y por lo tanto, *no se confunde* con una variable.\n",
    "\n"
   ]
  },
  {
   "cell_type": "markdown",
   "metadata": {},
   "source": [
    "### <span style=\"color:#4CC9F0\">Una función como caja negra</span>"
   ]
  },
  {
   "cell_type": "markdown",
   "metadata": {},
   "source": [
    "En un lenguaje de programación, una función puede entenderse como una caja negra. Como el control remoto de su televisor. Los ingenieros que desarrollan el control remoto cierran el objeto una vez lo construyen y por lo general elaboran un manual con las especificaciones para construir cada control. Adicionalmente, elaboran otro manual para enseñar a los usuario a usar el objeto. "
   ]
  },
  {
   "cell_type": "markdown",
   "metadata": {},
   "source": [
    "### <span style=\"color:#4CC9F0\">Ejemplo Función `CortarManzana(x)`:</span>"
   ]
  },
  {
   "cell_type": "markdown",
   "metadata": {},
   "source": [
    "Un segundo ejemplo muy simple es el siguiente. Imagine una máquina que corta manzanas como se ilustra en la siguiente imagen."
   ]
  },
  {
   "cell_type": "markdown",
   "metadata": {},
   "source": [
    "<figure>\n",
    "<center>\n",
    "<img src=\"../Imagenes/Apple_slicing_function.png\" width=\"600\" height=\"400\" align=\"center\"/>\n",
    "<figcaption>Función cortar manzana</figcaption>\n",
    "</center>\n",
    "</figure>\n",
    "\n",
    "\n",
    "<a href=\"https://commons.wikimedia.org/wiki/File:Apple_slicing_function.png\">The original uploader was Theresa knott at English Wikibooks.</a>, <a href=\"http://creativecommons.org/licenses/by-sa/3.0/\">CC BY-SA 3.0</a>, via Wikimedia Commons"
   ]
  },
  {
   "cell_type": "markdown",
   "metadata": {},
   "source": [
    "Como podemos ver, una función es realmente es una `caja negra`: la podemos usar, sin importar qué hay dentro de ella.\n",
    "\n",
    "Sin embargo, la máquina puede tener algunos controles (parámetros) que determinan la forma como la máquina funciona. Por ejemplo, el número de cortes. Luego de parametrizada la máquina, podemos empezar a pasar manzanas por ella.\n",
    "\n",
    "\n",
    "Ya hemos visto algunas **funciones básicas** de Python (Built-in):\n",
    "\n",
    "- ```print()```\n",
    "- ```len()```\n",
    "- ```list()```\n",
    "\n",
    "En [este enlace](https://docs.python.org/3/library/functions.html), se encuentra un manual de todas las funciones **básicas** de Python.\n",
    "\n",
    "Veamos algunas de ellas:"
   ]
  },
  {
   "cell_type": "markdown",
   "metadata": {},
   "source": [
    "### <span style=\"color:#4CC9F0\">Ejercicio</span>"
   ]
  },
  {
   "cell_type": "markdown",
   "metadata": {},
   "source": [
    "Viendo la entrada y salida del código, infiera qué hace la función correspondiente:"
   ]
  },
  {
   "cell_type": "code",
   "execution_count": 8,
   "metadata": {},
   "outputs": [
    {
     "name": "stdout",
     "output_type": "stream",
     "text": [
      "\n",
      "x = -5\n",
      "y =  5 \n",
      "\n"
     ]
    }
   ],
   "source": [
    "# Valor absoluto\n",
    "x = -5\n",
    "y = abs(x)\n",
    "print(\"\\nx =\", x)\n",
    "print(\"y = \", y,\"\\n\")"
   ]
  },
  {
   "cell_type": "code",
   "execution_count": 9,
   "metadata": {},
   "outputs": [
    {
     "name": "stdout",
     "output_type": "stream",
     "text": [
      "Diccionario:  {'Saludo': 'Hola', 'Despido': 'Adiós', 'Palabra': 'Extraño'} \n",
      "\n"
     ]
    }
   ],
   "source": [
    "# Creación de un diccionario\n",
    "d = dict({\"Saludo\": \"Hola\", \"Despido\": \"Adiós\", \"Palabra\": \"Extraño\"})\n",
    "print(\"Diccionario: \",d,\"\\n\")"
   ]
  },
  {
   "cell_type": "code",
   "execution_count": 10,
   "metadata": {},
   "outputs": [
    {
     "name": "stdout",
     "output_type": "stream",
     "text": [
      "resultado: 21 \n",
      "\n"
     ]
    }
   ],
   "source": [
    "# Suma de los elementos de una lista\n",
    "v = [1,2,3,4,5,6]\n",
    "s = sum(v)\n",
    "print(\"resultado:\", s,\"\\n\")"
   ]
  },
  {
   "cell_type": "code",
   "execution_count": 11,
   "metadata": {},
   "outputs": [
    {
     "name": "stdout",
     "output_type": "stream",
     "text": [
      "a1: 6, a2: 1\n"
     ]
    }
   ],
   "source": [
    "# Máximo y mínimo\n",
    "a1 = max(v)\n",
    "a2 = min(v)\n",
    "\n",
    "print(\"a1: {}, a2: {}\".format(a1, a2))"
   ]
  },
  {
   "cell_type": "markdown",
   "metadata": {},
   "source": [
    "## <span style=\"color:#4361EE\">Parámetros y argumentos en las funciones</span>\n"
   ]
  },
  {
   "cell_type": "markdown",
   "metadata": {},
   "source": [
    "Las funciones pueden tener uno o más parámetros asociados. Estos son contenedores que recibirán los datos (argumentos) para que la función pueda hacer su trabajo.\n",
    "\n",
    "Consideremos por ejemplo la función matemática seno (`sin` en inglés)\n",
    "\n",
    "$$\n",
    "y = \\sin (x)\n",
    "$$\n",
    "\n",
    "En el ejemplo, el parámetro de la función es 'x' que representa a cualquier valor que pueda ser utilizado para calcular la función.\n",
    "\n",
    "Un argumento válido para esta función es por ejemplo $\\pi/2$. Entonces el resultado obtenido es\n",
    "\n",
    "$$\n",
    "1.0 = \\sin (\\pi/2).\n",
    "$$\n",
    "\n",
    "\n",
    "aprendimos en la escuela secundaria.\n",
    "\n"
   ]
  },
  {
   "cell_type": "markdown",
   "metadata": {},
   "source": [
    "### <span style=\"color:#4CC9F0\">Funciones predefinidas: ejemplo de como producir  una gráfica de la función `sin(x)`</span>"
   ]
  },
  {
   "cell_type": "markdown",
   "metadata": {},
   "source": [
    "Para este ejemplo utilizaremos dos librerías de Python: [Numpy](https://numpy.org/) y [Matplotlib](https://matplotlib.org/stable/api/_as_gen/matplotlib.pyplot.figure.html). Puede ir a los capítulos correspondientes para los detalles.\n",
    "\n",
    "La librería Numpy se llamará con el alias `np` y se usa un punto para llamar algún objeto de la librería. Similar con Matplotlib.pyplot que llamaremos con el alias de `plt`.\n",
    "\n",
    "* La función `np.linspace` genera valores entre dos extremos. En el ejemplo genera 30 puntos entre 0 y $2\\pi$.\n",
    "* La función `np.sin` calcula la función seno para algún conjunto de argumentos. Observe que la función calcula la función para cada uno de los argumentos dispuestos en el objeto x.\n",
    "* La función `np.plt` dibuja el gráfico de la función entre los valores 0 y $2\\pi$.\n"
   ]
  },
  {
   "cell_type": "code",
   "execution_count": 12,
   "metadata": {},
   "outputs": [
    {
     "name": "stdout",
     "output_type": "stream",
     "text": [
      "Estos son los valores para el gráfico  de la función\n",
      "x     y\n",
      "(0.0, 0.0)\n",
      "(0.22, 0.21)\n",
      "(0.43, 0.42)\n",
      "(0.65, 0.61)\n",
      "(0.87, 0.76)\n",
      "(1.08, 0.88)\n",
      "(1.3, 0.96)\n",
      "(1.52, 1.0)\n",
      "(1.73, 0.99)\n",
      "(1.95, 0.93)\n",
      "(2.17, 0.83)\n",
      "(2.38, 0.69)\n",
      "(2.6, 0.52)\n",
      "(2.82, 0.32)\n",
      "(3.03, 0.11)\n",
      "(3.25, -0.11)\n",
      "(3.47, -0.32)\n",
      "(3.68, -0.52)\n",
      "(3.9, -0.69)\n",
      "(4.12, -0.83)\n",
      "(4.33, -0.93)\n",
      "(4.55, -0.99)\n",
      "(4.77, -1.0)\n",
      "(4.98, -0.96)\n",
      "(5.2, -0.88)\n",
      "(5.42, -0.76)\n",
      "(5.63, -0.61)\n",
      "(5.85, -0.42)\n",
      "(6.07, -0.21)\n",
      "(6.28, -0.0)\n",
      "\n",
      "Imagen\n"
     ]
    },
    {
     "data": {
      "image/png": "[encoded data removed]",
      "text/plain": [
       "<Figure size 432x288 with 1 Axes>"
      ]
     },
     "metadata": {
      "needs_background": "light"
     },
     "output_type": "display_data"
    }
   ],
   "source": [
    "# Comente adecuadamente las siguientes líneas de código\n",
    "\n",
    "import numpy as np # importa la librería Numpy\n",
    "import matplotlib.pyplot as plt # importa la librería matplotlib.pyplot\n",
    "\n",
    "# calcula la función sin en 30 puntos\n",
    "x = np.linspace(0,2*np.pi,30)\n",
    "y = np.sin(x)\n",
    "\n",
    "# Imprime la tabla de valores. \n",
    "# Usamos zip para pegar las columnas x, y\n",
    "print('Estos son los valores para el gráfico  de la función')\n",
    "print(\"x     y\")\n",
    "x_y = zip(np.round(x,2),np.round(y,2))\n",
    "for values in x_y:\n",
    "    print(values)\n",
    "print('')\n",
    "\n",
    "# crea la imagen\n",
    "print('Imagen')\n",
    "\n",
    "plt.title('Gráfico de la función $y=\\sin(x)$')\n",
    "plt.xlabel('x')\n",
    "plt.ylabel('$\\sin (x)$')\n",
    "plt.plot(x,y)\n",
    "plt.show()"
   ]
  },
  {
   "cell_type": "markdown",
   "metadata": {},
   "source": [
    "### <span style=\"color:#4CC9F0\">Ejercicio</span>"
   ]
  },
  {
   "cell_type": "markdown",
   "metadata": {},
   "source": [
    "1. Investigue las funciones y atributos internos de Matplotlib para hacer una matriz 3x1 que contengan:\n",
    "\n",
    "- Una función matemática.\n",
    "- Una foto.\n",
    "- Una esfera con puntos aleatorios en su frontera.\n",
    "\n",
    "2. Investigue sobre 5 funciones de Python que acepten al menos 3 parámetros.\n"
   ]
  },
  {
   "cell_type": "markdown",
   "metadata": {},
   "source": [
    "## <span style=\"color:#4361EE\">Creación de Funciones en Python</span>\n"
   ]
  },
  {
   "cell_type": "markdown",
   "metadata": {},
   "source": [
    "Hay dos maneras básicas para definir funciones en Python:\n",
    "\n",
    "1. `def`\n",
    "2. `lambda`\n",
    "\n",
    "\n",
    "De manera muy general, una función se define iniciando con la cláusula *def()*. Dentro de los paréntesis se colocan los parámetros que usará la función.\n",
    "\n",
    "Nuestro primer ejemplo es una función que suma dos número y regresa el resultado."
   ]
  },
  {
   "cell_type": "code",
   "execution_count": 13,
   "metadata": {},
   "outputs": [],
   "source": [
    "# función suma\n",
    "def suma(x, y):\n",
    "    s = x + y\n",
    "    return s"
   ]
  },
  {
   "cell_type": "markdown",
   "metadata": {},
   "source": [
    "La cláusula `return` se usa para retornar el resultado de la función. \n",
    "\n",
    "Calcular la función es bastante simple. Por ejemplo la suma entre 3 y 5 se puede calcular como"
   ]
  },
  {
   "cell_type": "code",
   "execution_count": 14,
   "metadata": {},
   "outputs": [
    {
     "name": "stdout",
     "output_type": "stream",
     "text": [
      "8\n"
     ]
    }
   ],
   "source": [
    "s = suma(3, 5)\n",
    "print(s)"
   ]
  },
  {
   "cell_type": "markdown",
   "metadata": {},
   "source": [
    "### <span style=\"color:#4CC9F0\">Una función que regresa dos valores</span>"
   ]
  },
  {
   "cell_type": "markdown",
   "metadata": {},
   "source": [
    "De manera formal, una función retorna un único valor. Desde el punto de vista práctico, un objeto como (3,4) es una `tupla` en Python que estudiamos en otro módulo. Una función puede regresar una tupla y cualquier otro objeto complicado. Observe el siguiente ejemplo."
   ]
  },
  {
   "cell_type": "code",
   "execution_count": 15,
   "metadata": {},
   "outputs": [],
   "source": [
    "# Explicar las siguientes líneas de código\n",
    "def mysum_prod(x,y):\n",
    "    s = x + y\n",
    "    p = x * y\n",
    "    return s,p"
   ]
  },
  {
   "cell_type": "code",
   "execution_count": 16,
   "metadata": {},
   "outputs": [
    {
     "name": "stdout",
     "output_type": "stream",
     "text": [
      "(7, 12)\n"
     ]
    }
   ],
   "source": [
    "result = mysum_prod(3,4)\n",
    "print(result)"
   ]
  },
  {
   "cell_type": "markdown",
   "metadata": {},
   "source": [
    "También podemos separar la salida, usando asignación múltiple, si es lo que se requiere, de la siguiente manera:"
   ]
  },
  {
   "cell_type": "code",
   "execution_count": 17,
   "metadata": {},
   "outputs": [
    {
     "name": "stdout",
     "output_type": "stream",
     "text": [
      "El suma es: 7\n",
      "El producto es: 12\n"
     ]
    }
   ],
   "source": [
    "suma, prod = mysum_prod(3,4)\n",
    "\n",
    "print(\"El suma es:\", suma)\n",
    "print(\"El producto es:\", prod)"
   ]
  },
  {
   "cell_type": "markdown",
   "metadata": {},
   "source": [
    "### <span style=\"color:#4CC9F0\">Anotando (typing) los parámetros de una función</span>"
   ]
  },
  {
   "cell_type": "markdown",
   "metadata": {},
   "source": [
    "Recuerde que la asignación de variables en Python es dinámica. Esto facilita la programación, pero introduce algunos problemas.\n",
    "\n",
    "En el caso de las funciones, es importante que el usuario (que siempre incluye al programador) sepa que tipos de parámetros espera una función. Para hacerlo, las versiones de Python desde 2.0 introdujeron el concepto anotación o tipificación de los parámetros de una función. \n",
    "\n",
    "Se pretende indicar al usuario de la función qué tipo de datos se espera que entren a la función y los que salen. Esto es muy útil para mejorar la lectura del código. \n",
    "\n",
    "Por supuesto, aún es posible usar tipos de datos diferentes a los que sugerimos. Esto es debido al principio pythonico de tener asignación dinámica.\n",
    "\n",
    "Para ilustrar la anotación revise el siguiente ejemplo."
   ]
  },
  {
   "cell_type": "code",
   "execution_count": 1,
   "metadata": {},
   "outputs": [
    {
     "data": {
      "text/plain": [
       "[5.2, 6.6000000000000005]"
      ]
     },
     "execution_count": 1,
     "metadata": {},
     "output_type": "execute_result"
    }
   ],
   "source": [
    "def mysum_prod(x: int, y: int) -> [int, int]:\n",
    "    s = x + y\n",
    "    p = y * x\n",
    "    return [s,p]\n",
    "\n",
    "mysum_prod(2.2, 3)"
   ]
  },
  {
   "cell_type": "markdown",
   "metadata": {},
   "source": [
    "### <span style=\"color:#4CC9F0\">Valor de los parámetros por defecto</span>"
   ]
  },
  {
   "cell_type": "markdown",
   "metadata": {},
   "source": [
    "En ocasiones se espera definir valores por defecto para los parámetros de una función. Esta se hace simplemente escribiendo `parametro=valor`. Veamos el ejemplo"
   ]
  },
  {
   "cell_type": "code",
   "execution_count": 19,
   "metadata": {},
   "outputs": [
    {
     "name": "stdout",
     "output_type": "stream",
     "text": [
      "4\n"
     ]
    }
   ],
   "source": [
    "# función suma con parámetros por defecto\n",
    "def suma(x, y=1):\n",
    "    s = x + y\n",
    "    return s\n",
    "\n",
    "print(suma(3))"
   ]
  },
  {
   "cell_type": "markdown",
   "metadata": {},
   "source": [
    "El cuidado que hay que tener es que los parámetros por defecto siempre van después de los parámetros obligatorios. En el ejemplo el parámetro *x* es obligatorio y debe ser entregado a la función. Por otro lado el parámetro *y* esta definida por defecto con el valor de 1."
   ]
  },
  {
   "cell_type": "markdown",
   "metadata": {},
   "source": [
    "## <span style=\"color:#4361EE\">Pasando un número arbitrario de argumentos no nombrados con `*arg`</span>"
   ]
  },
  {
   "cell_type": "markdown",
   "metadata": {},
   "source": [
    "Para situaciones en las cuales se desconoce de antemano el número de argumentos que se esperan para ejecutar una función, es posible nombrar los parámetros de manera genérica en la forma `*arg`. Se dice estos son parámetros no nombrados (`non keyword arguments`) porque no es necesario indicar un nombre para cada argumento que se pasa al función. Revise el siguiente ejemplo. El objetivo es sumar un número indeterminado de números. Por supuesto este es un ejemplo de juguete, pero sirve para ilustrar el concepto. Veamos:"
   ]
  },
  {
   "cell_type": "code",
   "execution_count": 2,
   "metadata": {},
   "outputs": [
    {
     "name": "stdout",
     "output_type": "stream",
     "text": [
      "Sum: 8\n",
      "Sum: 22\n",
      "Sum: 17\n"
     ]
    }
   ],
   "source": [
    "# sumador\n",
    "\n",
    "def sumador(*num):\n",
    "    suma = 0\n",
    "    \n",
    "    for n in num:\n",
    "        suma = suma + n\n",
    "\n",
    "    print(\"Sum:\",suma)\n",
    "\n",
    "sumador(3,5)\n",
    "sumador(4,5,6,7)\n",
    "sumador(1,2,3,5,6)"
   ]
  },
  {
   "cell_type": "markdown",
   "metadata": {},
   "source": [
    "## <span style=\"color:#4361EE\">Pasando un número arbitrario de argumentos nombrados con `**arg`</span>"
   ]
  },
  {
   "cell_type": "markdown",
   "metadata": {},
   "source": [
    "En ejemplo anterior no se diferenciaron los parámetros con un nombre. Si requiere pasar parámetros arbitrarios pero con nombre cada uno, puede usar la notacion `**arg`. Estos argumentos se llaman  `keyword arguments`. Veamos el ejemplo"
   ]
  },
  {
   "cell_type": "code",
   "execution_count": 21,
   "metadata": {},
   "outputs": [
    {
     "name": "stdout",
     "output_type": "stream",
     "text": [
      "\n",
      "Tipo de dato del argumento: <class 'dict'>\n",
      "Firstname is Sita\n",
      "Lastname is Sharma\n",
      "Age is 22\n",
      "Phone is 1234567890\n",
      "\n",
      "Tipo de dato del argumento: <class 'dict'>\n",
      "Firstname is John\n",
      "Lastname is Wood\n",
      "Email is johnwood@nomail.com\n",
      "Country is Wakanda\n",
      "Age is 25\n",
      "Phone is 9876543210\n"
     ]
    }
   ],
   "source": [
    "def intro(**data):\n",
    "    print(\"\\nTipo de dato del argumento:\",type(data))\n",
    "\n",
    "    for key, value in data.items():\n",
    "        print(\"{} is {}\".format(key,value))\n",
    "\n",
    "intro(Firstname=\"Sita\", Lastname=\"Sharma\", Age=22, Phone=1234567890)\n",
    "intro(Firstname=\"John\", Lastname=\"Wood\", Email=\"johnwood@nomail.com\", Country=\"Wakanda\", Age=25, Phone=9876543210)"
   ]
  },
  {
   "cell_type": "markdown",
   "metadata": {},
   "source": [
    "## <span style=\"color:#4361EE\">Funciones anónimas. Funciones lambda</span>\n"
   ]
  },
  {
   "cell_type": "markdown",
   "metadata": {},
   "source": [
    "Hay situaciones, principalmente relacionadas con la programación funcional, en la cuales no se requiere dar un nombre a una función, sino más bien definir la forma como trabaja la función.\n",
    "\n",
    "Observe el siguiente ejemplo."
   ]
  },
  {
   "cell_type": "code",
   "execution_count": 4,
   "metadata": {},
   "outputs": [
    {
     "name": "stdout",
     "output_type": "stream",
     "text": [
      "la suma es: 9\n"
     ]
    }
   ],
   "source": [
    "# Explique qué diferencias hay entre éste método y el anterior\n",
    "\n",
    "sumita = lambda arg1,arg2: arg1+arg2\n",
    "\n",
    "a = 6\n",
    "b = 3\n",
    "s = sumita(a,b)\n",
    "print(\"la suma es:\", s)"
   ]
  },
  {
   "cell_type": "markdown",
   "metadata": {},
   "source": [
    "En este ejemplo, la función anónima lambda recibe dos argumentos y regresa su suma. Le hemos dado un nombre: *sumita*. Pero realmente esto no es siempre necesario. Sin embargo, muestra cómo es posible asignar una función a un objeto, para ser utilizada como una función normal.\n",
    "\n",
    "La lógica es la siguiente:\n",
    "\n",
    "* `lambda arg1,arg2: arg1+arg2` define la función anónima.\n",
    "* la función anónima es asignada al objeto sumita, con lo cual sumita será una función que hace lo mismo que la función anónima, pero ahora llamada como si fuera una función definida con `def`.\n"
   ]
  },
  {
   "cell_type": "markdown",
   "metadata": {},
   "source": [
    "## <span style=\"color:#4361EE\">Un ejemplo de programación funcional</span>\n"
   ]
  },
  {
   "cell_type": "markdown",
   "metadata": {},
   "source": [
    "Observe detenidamente el siguiente fragmento de código."
   ]
  },
  {
   "cell_type": "code",
   "execution_count": 6,
   "metadata": {},
   "outputs": [
    {
     "name": "stdout",
     "output_type": "stream",
     "text": [
      "22\n"
     ]
    }
   ],
   "source": [
    "# Explicar adecuadamente\n",
    "\n",
    "def mifunc(n):\n",
    "    return lambda a : a * n \n",
    "\n",
    "\n",
    "midoblador = mifunc(2)\n",
    "\n",
    "print(midoblador(11))"
   ]
  },
  {
   "cell_type": "markdown",
   "metadata": {},
   "source": [
    "La lógica es la siguiente:\n",
    "\n",
    "* La función *mifunc* regresa otra función que tendrá un valor predefinido, llamado aquí *n*. Esa función se usa para definir otra función que recibirá un parámetro *a* para multiplicarlo por *n*.\n",
    "* Cuando hacemos la asignación `midoblador = mifunc(2)` se ha definido una nueva función que se llamará *midoblador*. la cual recibirá un argumento y lo multiplicará por 2 (el valor de *n*)"
   ]
  },
  {
   "cell_type": "markdown",
   "metadata": {},
   "source": [
    "### <span style=\"color:#4CC9F0\">Ejercicio</span>"
   ]
  },
  {
   "cell_type": "markdown",
   "metadata": {},
   "source": [
    "Estudie detenidamente  el ejemplo anterior y construya un ejemplo suyo."
   ]
  },
  {
   "cell_type": "markdown",
   "metadata": {},
   "source": [
    "## <span style=\"color:#4361EE\">Programación Funcional</span>\n"
   ]
  },
  {
   "cell_type": "markdown",
   "metadata": {},
   "source": [
    "Esta sección es una adaptación de [geeksforgeeks](https://www.geeksforgeeks.org/functional-programming-in-python/#:~:text=Functional%20programming%20is%20a%20programming,is%20%E2%80%9Chow%20to%20solve%E2%80%9C.)."
   ]
  },
  {
   "cell_type": "markdown",
   "metadata": {},
   "source": [
    "### <span style=\"color:#4CC9F0\">Funciones Puras</span>\n"
   ]
  },
  {
   "cell_type": "markdown",
   "metadata": {},
   "source": [
    "Las funciones puras tienen dos propiedades.\n",
    "\n",
    "- Siempre produce la misma salida para los mismos argumentos. Por ejemplo, 3 + 7 siempre será 10 pase lo que pase.\n",
    "- No cambia ni modifica la variable de entrada.\n",
    "\n",
    "La segunda propiedad también se conoce como inmutabilidad. El único resultado de la función pura es el valor que devuelve. Son deterministas. Los programas realizados mediante programación funcional son fáciles de depurar porque las funciones puras no tienen efectos secundarios ni E/S ocultas. Las funciones puras también facilitan la escritura de aplicaciones paralelas/concurrentes. \n",
    "\n",
    "Cuando el código está escrito en este estilo, un compilador inteligente puede hacer muchas cosas: puede paralelizar las instrucciones, esperar a evaluar los resultados cuando los necesite y memorizar los resultados, ya que los resultados nunca cambian mientras la entrada no cambie.\n",
    "\n",
    "\n",
    "Revise el siguiente ejemplo. Recibe una lista de número y regresa una nueva lista con los valores elevado al cuadrado."
   ]
  },
  {
   "cell_type": "code",
   "execution_count": 24,
   "metadata": {},
   "outputs": [
    {
     "name": "stdout",
     "output_type": "stream",
     "text": [
      "Lista original: [1, 2, 3, 4]\n",
      "Lista modificada: [1, 4, 9, 16]\n"
     ]
    }
   ],
   "source": [
    "# Ejemplo de una función pura\n",
    "\n",
    "# Una función pura que no\n",
    "# cambia la lista de entrada y\n",
    "# devuelve la nueva lista\n",
    "\n",
    "def pure_func(List):\n",
    "    New_List = []\n",
    "    for i in List:\n",
    "        New_List.append(i**2)\n",
    "    return New_List\n",
    "\n",
    "# La función en acción\n",
    "Original_List = [1, 2, 3, 4]\n",
    "Modified_List = pure_func(Original_List)\n",
    "\n",
    "print(\"Lista original:\", Original_List)\n",
    "print(\"Lista modificada:\", Modified_List)\n"
   ]
  },
  {
   "cell_type": "markdown",
   "metadata": {},
   "source": [
    "### <span style=\"color:#4CC9F0\">Recursión</span>\n"
   ]
  },
  {
   "cell_type": "markdown",
   "metadata": {},
   "source": [
    "En la programación funcional, no existe el concepto de bucle for o bucle while, sino que se utiliza la recursividad. La recursividad es un proceso en el que una función se llama a sí misma directa o indirectamente. En el programa recursivo, se proporciona la solución al caso base y la solución al problema mayor se expresa en términos de problemas menores. Puede surgir una pregunta ¿cuál es el caso base? El caso base puede considerarse como una condición que le dice al compilador o intérprete que salga de la función.\n",
    "\n",
    "Ejemplo: consideremos un programa que encontrará la suma de todos los elementos de una lista sin usar ningún bucle for."
   ]
  },
  {
   "cell_type": "code",
   "execution_count": 25,
   "metadata": {},
   "outputs": [
    {
     "name": "stdout",
     "output_type": "stream",
     "text": [
      "15\n"
     ]
    }
   ],
   "source": [
    "# Ejemplo de recursión\n",
    "\n",
    "# Función recursiva para encontrar\n",
    "# suma de una lista\n",
    "\n",
    "def Sum(L, i, n, count):\n",
    "\n",
    "    # Caso base\n",
    "    if n <= i:\n",
    "        return count\n",
    "\n",
    "    count += L[i]\n",
    "\n",
    "    # Proceso recursivo\n",
    "    count = Sum(L, i + 1, n, count)\n",
    "\n",
    "    return count\n",
    "\n",
    "# Ejemplo de uso\n",
    "L = [1, 2, 3, 4, 5]\n",
    "count = 0\n",
    "n = len(L)\n",
    "print(Sum(L, 0, n, count))\n"
   ]
  },
  {
   "cell_type": "markdown",
   "metadata": {},
   "source": [
    "## <span style=\"color:#4361EE\">Las funciones son de primera clase y pueden ser de orden superior</span>\n"
   ]
  },
  {
   "cell_type": "markdown",
   "metadata": {},
   "source": [
    "### <span style=\"color:#4CC9F0\">Objetos de primera clase</span>\n"
   ]
  },
  {
   "cell_type": "markdown",
   "metadata": {},
   "source": [
    "Los objetos de primera clase se manejan uniformemente en todo momento. Pueden almacenarse en estructuras de datos, pasarse como argumentos o usarse en estructuras de control. Se dice que un lenguaje de programación admite funciones de primera clase si trata las funciones como objetos de primera clase."
   ]
  },
  {
   "cell_type": "markdown",
   "metadata": {},
   "source": [
    "### <span style=\"color:#4CC9F0\">Propiedades de las funciones de primera clase</span>\n"
   ]
  },
  {
   "cell_type": "markdown",
   "metadata": {},
   "source": [
    "- Una función es una instancia del tipo de objeto.\n",
    "- Puede almacenar la función en una variable.\n",
    "- Puede pasar la función como parámetro a otra función.\n",
    "- Puede devolver la función desde una función.\n",
    "- Puede almacenarlos en estructuras de datos como tablas hash, listas,…"
   ]
  },
  {
   "cell_type": "markdown",
   "metadata": {},
   "source": [
    "### <span style=\"color:#4CC9F0\">Ejemplo</span>"
   ]
  },
  {
   "cell_type": "code",
   "execution_count": 26,
   "metadata": {},
   "outputs": [
    {
     "name": "stdout",
     "output_type": "stream",
     "text": [
      "HOLA, SOY CREADA POR UNA FUNCIÓN PASADA COMO ARGUMENTO.\n",
      "hola, soy creada por una función pasada como argumento.\n"
     ]
    }
   ],
   "source": [
    "# Programa Python  para ilustrar\n",
    "# funciones de orden mayor\n",
    "\n",
    "\n",
    "def shout(text):\n",
    "    return text.upper()\n",
    "\n",
    "def whisper(text):\n",
    "    return text.lower()\n",
    "\n",
    "def greet(func):\n",
    "    # almacena la función en una variable\n",
    "    greeting = func(\"Hola, soy creada por una función pasada como argumento.\")\n",
    "    print(greeting)\n",
    "\n",
    "greet(shout)\n",
    "greet(whisper)\n"
   ]
  },
  {
   "cell_type": "markdown",
   "metadata": {},
   "source": [
    "### <span style=\"color:#4CC9F0\">Funciones integradas de orden superior</span>\n"
   ]
  },
  {
   "cell_type": "markdown",
   "metadata": {},
   "source": [
    "Para facilitar mucho el procesamiento de objetos iterables como listas e iteradores, Python ha implementado algunas funciones de orden superior de uso común. Estas funciones devuelven un iterador que ahorra espacio. Algunas de las funciones integradas de orden superior son:\n",
    "\n",
    "* *map()*: la función *map()* devuelve una lista de los resultados después de aplicar la función dada a cada elemento de un iterable dado (lista, tupla, etc.)\n",
    "* *filter()*: El método *filter()* filtra la secuencia dada con la ayuda de una función que prueba que cada elemento de la secuencia sea verdadero o no.\n",
    "\n",
    "Veamos los siguientes dos ejemplos que ilustran *map()* y *filter()*."
   ]
  },
  {
   "cell_type": "code",
   "execution_count": 1,
   "metadata": {},
   "outputs": [
    {
     "name": "stdout",
     "output_type": "stream",
     "text": [
      "<map object at 0x0000023CD3AEC8B0>\n",
      "2 4 6 8 "
     ]
    }
   ],
   "source": [
    "# Ejemplo del uso de map()\n",
    "\n",
    "# Retorna el doble de n\n",
    "def addition(n):\n",
    "    return n + n\n",
    "\n",
    "# doblamos todos los valores de una lista usando map\n",
    "numbers = (1, 2, 3, 4)\n",
    "results = map(addition, numbers)\n",
    "\n",
    "#  Print no imprime los resultados\n",
    "# porque se recibe un iterable\n",
    "print(results)\n",
    "\n",
    "# Asi recuperamos del iterable los valores e imprimimos\n",
    "for result in results:\n",
    "    print(result, end = \" \")\n"
   ]
  },
  {
   "cell_type": "code",
   "execution_count": 28,
   "metadata": {},
   "outputs": [
    {
     "name": "stdout",
     "output_type": "stream",
     "text": [
      "Las letras filtradas son:\n",
      "e\n",
      "e\n",
      "i\n"
     ]
    }
   ],
   "source": [
    "# Ejemplo de uso de filter()\n",
    "\n",
    "# función que filtra las vocales en una lista\n",
    "def vocal(variable):\n",
    "\n",
    "    letters = ['a', 'e', 'i', 'o', 'u']\n",
    "\n",
    "    if (variable in letters):\n",
    "        return True\n",
    "    else:\n",
    "        return False\n",
    "\n",
    "\n",
    "# secuencia\n",
    "sequence = ['g', 'e', 'e', 'j', 'k', 's', 'i', 'r']\n",
    "\n",
    "# uso de la función filter\n",
    "filtered = filter(vocal, sequence)\n",
    "\n",
    "print('Las letras filtradas son:')\n",
    "\n",
    "for s in filtered:\n",
    "    print(s)\n"
   ]
  },
  {
   "cell_type": "markdown",
   "metadata": {},
   "source": [
    "### <span style=\"color:#4CC9F0\">Función functools.reduce</span>"
   ]
  },
  {
   "cell_type": "markdown",
   "metadata": {},
   "source": [
    "La función `reduce` es una función de orden superior que se usa para aplicar una función particular pasada en su argumento a todos los elementos de la lista mencionados en la secuencia pasada. Esta función se define en el módulo \"functools\" del kernel de Python.\n",
    "\n",
    "Como funnciona:\n",
    "\n",
    "* En el primer paso, se seleccionan los dos primeros elementos de la secuencia y se obtiene el resultado.\n",
    "* El siguiente paso es aplicar la misma función al resultado obtenido anteriormente y el número que sigue al segundo elemento y el resultado se almacena nuevamente.\n",
    "\n",
    "Este proceso continúa hasta que no quedan más elementos en el contenedor. El resultado final devuelto se devuelve y se imprime en la consola.\n",
    "\n",
    "Revise el siguiente ejemplo. El primer ejemplo calcula la suma de una lista y el segundo extrae el mayor valor en la lista"
   ]
  },
  {
   "cell_type": "code",
   "execution_count": 11,
   "metadata": {},
   "outputs": [
    {
     "name": "stdout",
     "output_type": "stream",
     "text": [
      "La suma de los elementos de la lista es : 17\n",
      "El elemento máximo de la lista es : 6\n"
     ]
    }
   ],
   "source": [
    "# código python para ilustrar como trabaja reduce()\n",
    " \n",
    "# importar functools para disponer de reduce()\n",
    "import functools\n",
    " \n",
    "# lista a procesar\n",
    "lis = [1, 3, 5, 6, 2]\n",
    " \n",
    "# suma de  la lista\n",
    "print(\"La suma de los elementos de la lista es : \", end=\"\")\n",
    "print(functools.reduce(lambda a, b: a+b, lis))\n",
    " \n",
    "# elemento máximo de la lista\n",
    "print(\"El elemento máximo de la lista es : \", end=\"\")\n",
    "print(functools.reduce(lambda a, b: a if a > b else b, lis))"
   ]
  },
  {
   "cell_type": "markdown",
   "metadata": {},
   "source": [
    "### <span style=\"color:#4CC9F0\">Ejercicio</span>"
   ]
  },
  {
   "cell_type": "markdown",
   "metadata": {},
   "source": [
    "Cree su propio ejemplo con reduce, para calcular el producto y el elemento menor de la lista."
   ]
  }
 ],
 "metadata": {
  "celltoolbar": "Tags",
  "colab": {
   "collapsed_sections": [
    "-MlSHN16Bg8-",
    "scclT03UHVrm",
    "qAqnr4i70sLy",
    "IUFSujLR2-Rl",
    "ivDxEY5J3EXW",
    "6YvlIG-G6o2Z",
    "Tjq46qsVQ1F9",
    "GPiu4RLJUzVj",
    "dTnOKPXFUzVs",
    "P8eMjQnDI1Eg",
    "i9HdDU49UzWK",
    "y012FyjJPR1O",
    "iDjs_eszUzW0",
    "IpXs0nQNOWpv",
    "2xb_O2GUUzXF"
   ],
   "name": "Intro_Python.ipynb",
   "provenance": []
  },
  "kernelspec": {
   "display_name": "Python 3 (ipykernel)",
   "language": "python",
   "name": "python3"
  },
  "language_info": {
   "codemirror_mode": {
    "name": "ipython",
    "version": 3
   },
   "file_extension": ".py",
   "mimetype": "text/x-python",
   "name": "python",
   "nbconvert_exporter": "python",
   "pygments_lexer": "ipython3",
   "version": "3.10.4"
  },
  "toc": {
   "base_numbering": 1,
   "nav_menu": {},
   "number_sections": false,
   "sideBar": true,
   "skip_h1_title": false,
   "title_cell": "Table of Contents",
   "title_sidebar": "Contents",
   "toc_cell": false,
   "toc_position": {},
   "toc_section_display": true,
   "toc_window_display": false
  },
  "vscode": {
   "interpreter": {
    "hash": "cf92aa13fedf815d5c8dd192b8d835913fde3e8bc926b2a0ad6cc74ef2ba3ca2"
   }
  }
 },
 "nbformat": 4,
 "nbformat_minor": 4
}
