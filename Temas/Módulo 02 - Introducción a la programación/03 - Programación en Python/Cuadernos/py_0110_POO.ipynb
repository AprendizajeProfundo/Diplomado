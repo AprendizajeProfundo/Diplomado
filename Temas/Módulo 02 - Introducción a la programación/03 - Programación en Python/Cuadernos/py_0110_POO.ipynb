{
 "cells": [
  {
   "cell_type": "markdown",
   "metadata": {
    "tags": []
   },
   "source": [
    "# <span style=\"color:#F72585\"><center>Programación orientada a Objetos en Python</center> </span>"
   ]
  },
  {
   "cell_type": "markdown",
   "metadata": {},
   "source": [
    "<figure>\n",
    "<center>\n",
    "<img src=\"https://raw.githubusercontent.com/AprendizajeProfundo/Alejandria/main/Archivos_Generales/Imagenes/Vino.jpg\" width=\"600\" height=\"400\" align=\"center\" /> \n",
    "</center>   \n",
    "</figure>\n",
    "<center>\n",
    "\n",
    "Fuente: [Pexels: Pavel Danilyulk](https://www.pexels.com/es-es/foto/tecnologia-vino-sujetando-investigacion-8439094/)\n",
    "\n",
    "</center>\n"
   ]
  },
  {
   "cell_type": "markdown",
   "metadata": {},
   "source": [
    "## <span style=\"color:blue\">Introducción</span> "
   ]
  },
  {
   "cell_type": "markdown",
   "metadata": {},
   "source": [
    "La Programación Orientada a Objetos (POO, en español; OOP, según sus siglas en inglés) es un paradigma de programación que parte del concepto de \"objetos\" como base, los cuales contienen información en forma de campos (a veces también referidos como atributos o propiedades) y código en forma de métodos.\n",
    "\n",
    "Los objetos son capaces de interactuar y modificar los valores contenidos en sus campos o atributos (estado) a través de sus métodos (comportamiento).\n",
    "\n",
    "Muchos de los objetos prediseñados de los lenguajes de programación actuales permiten la agrupación en bibliotecas o librerías, sin embargo, muchos de estos lenguajes permiten al usuario la creación de sus propias bibliotecas.\n",
    "\n",
    "Algunas características clave de la programación orientada a objetos son herencia, cohesión, abstracción, polimorfismo, acoplamiento y encapsulamiento.\n",
    "\n",
    "Su uso se popularizó a principios de la década de 1990. En la actualidad, existe una gran variedad de lenguajes de programación que soportan la orientación a objetos, estando la mayoría de éstos basados en el concepto de clases e instancias.\n",
    "\n",
    "Tomado de [Wikipedia](https://es.wikipedia.org/wiki/Programaci%C3%B3n_orientada_a_objetos#:~:text=La%20Programaci%C3%B3n%20Orientada%20a%20Objetos,c%C3%B3digo%20en%20forma%20de%20m%C3%A9todos.)\n",
    "\n",
    "Desde el comienzo, Python fue diseñado como un leguaje orientado a objetos. \n",
    "Python es un lenguaje de programación orientado a objetos. **Todo** en Python es un objeto, con sus propiedades y métodos."
   ]
  },
  {
   "cell_type": "markdown",
   "metadata": {},
   "source": [
    "## <span style=\"color:blue\">Breve historia</span>"
   ]
  },
  {
   "cell_type": "markdown",
   "metadata": {},
   "source": [
    "Los conceptos de la POO tienen origen en Simula 67, un lenguaje diseñado para hacer simulaciones, creado por Ole-Johan Dahl y Kristen Nygaard, del Centro de Cómputo Noruego en Oslo. En este centro se trabajaba en simulaciones de naves, que fueron confundidas por la explosión combinatoria de cómo las diversas cualidades de diferentes naves podían afectar unas a las otras. \n",
    "\n",
    "La idea surgió al agrupar los diversos tipos de naves en diversas clases de objetos, siendo responsable cada clase de objetos de definir sus \"propios\" datos y comportamientos. \n",
    "\n",
    "La POO se fue convirtiendo en el estilo de programación dominante a mediados de los años 1980, en gran parte debido a la influencia de C++, una extensión del lenguaje de programación C. Su dominación fue consolidada gracias al auge de las interfaces gráficas de usuario, para las cuales la POO está particularmente bien adaptada. En este caso, se habla también de programación dirigida por eventos.\n",
    "\n",
    "La terminología \"objetos\" y \"orientada\" en el sentido moderno de la programación orientada a objetos hizo su primera aparición en el MIT a finales del 1950s y principio de 1960s. Ya en 1960 en el entorno del grupo de inteligencia artificial, el término \"objeto\" era usado para referirse a elementos (LISP átomos) con propiedades (atributos).\n",
    "\n",
    "Otro ejemplo temprano de programación orientada en el MIT fue Sketchpad creado por Ivan Sutherland en 1960–1961; en el glosario del informe técnico de 1963, Sutherland define la noción de \"objeto\" y de \"instancia\".\n",
    "\n",
    "Simula introdujo conceptos importantes que hoy en día son una parte esencial de la programación orientada a objetos, como clases, objetos y herencia.\n",
    "\n",
    "Mas recientemente ha surgido una serie de lenguajes que están principalmente orientados a objeto pero que también son compatibles con la programación procedural. Dos ejemplos de estos lenguajes son Python y Ruby.\n",
    "\n",
    "Tomado de [Wikipedia](https://es.wikipedia.org/wiki/Programaci%C3%B3n_orientada_a_objetos#:~:text=La%20Programaci%C3%B3n%20Orientada%20a%20Objetos,c%C3%B3digo%20en%20forma%20de%20m%C3%A9todos.)\n"
   ]
  },
  {
   "cell_type": "markdown",
   "metadata": {},
   "source": [
    "## <span style=\"color:blue\">Conceptos fundamentales</span> "
   ]
  },
  {
   "cell_type": "markdown",
   "metadata": {},
   "source": [
    "La POO es una forma de programar que introduce nuevos conceptos, que superan y amplían conceptos antiguos ya conocidos en la programación. Entre ellos destacan los siguientes:"
   ]
  },
  {
   "cell_type": "markdown",
   "metadata": {},
   "source": [
    "### <span style=\"color:#4CC9F0\">Clase</span>"
   ]
  },
  {
   "cell_type": "markdown",
   "metadata": {},
   "source": [
    "Una `clase` es una especie de \"plantilla\" en la que se definen los atributos y métodos predeterminados de un tipo de objeto. Esta plantilla se hace para poder crear objetos fácilmente. Al método de crear nuevos objetos mediante la lectura y recuperación de los atributos y métodos de una clase se le conoce como `instanciación`."
   ]
  },
  {
   "cell_type": "markdown",
   "metadata": {},
   "source": [
    "### <span style=\"color:#4CC9F0\">Herencia</span>"
   ]
  },
  {
   "cell_type": "markdown",
   "metadata": {},
   "source": [
    "Por ejemplo, herencia de la clase C a la clase D, es la facilidad mediante la cual la clase D hereda en ella cada uno de los atributos y operaciones de C, como si esos atributos y operaciones hubiesen sido definidos por la misma D. "
   ]
  },
  {
   "cell_type": "markdown",
   "metadata": {},
   "source": [
    "### <span style=\"color:#4CC9F0\">Objeto</span>"
   ]
  },
  {
   "cell_type": "markdown",
   "metadata": {},
   "source": [
    "Instancia de una clase. Entidad provista de un conjunto de propiedades o atributos (datos) y de comportamiento o funcionalidad (métodos), los mismos que consecuentemente reaccionan a eventos. Se corresponden con los objetos reales del mundo que nos rodea, o con objetos internos del sistema (del programa)."
   ]
  },
  {
   "cell_type": "markdown",
   "metadata": {},
   "source": [
    "### <span style=\"color:#4CC9F0\">Método</span>"
   ]
  },
  {
   "cell_type": "markdown",
   "metadata": {},
   "source": [
    "Algoritmo (función) asociado a un objeto (o a una clase de objetos), cuya ejecución se desencadena tras la recepción de un \"mensaje\". Desde el punto de vista del comportamiento, es lo que el objeto puede hacer. Un método puede producir un cambio en las propiedades del objeto, o la generación de un \"evento\" con un nuevo mensaje para otro objeto del sistema."
   ]
  },
  {
   "cell_type": "markdown",
   "metadata": {},
   "source": [
    "### <span style=\"color:#4CC9F0\">Evento</span>"
   ]
  },
  {
   "cell_type": "markdown",
   "metadata": {},
   "source": [
    "Es un suceso en el sistema (tal como una interacción del usuario con la máquina, o un mensaje enviado por un objeto). El sistema maneja el evento enviando el mensaje adecuado al objeto pertinente. También se puede definir como evento la reacción que puede desencadenar un objeto; es decir, la acción que genera."
   ]
  },
  {
   "cell_type": "markdown",
   "metadata": {},
   "source": [
    "### <span style=\"color:#4CC9F0\">Mensaje</span>"
   ]
  },
  {
   "cell_type": "markdown",
   "metadata": {},
   "source": [
    "Una comunicación dirigida a un objeto, que le ordena que ejecute uno de sus métodos con ciertos parámetros asociados al evento que lo generó."
   ]
  },
  {
   "cell_type": "markdown",
   "metadata": {},
   "source": [
    "### <span style=\"color:#4CC9F0\">Propiedad o atributo</span>"
   ]
  },
  {
   "cell_type": "markdown",
   "metadata": {},
   "source": [
    "Contenedor de un tipo de datos asociados a un objeto (o a una clase de objetos), que hace los datos visibles desde fuera del objeto y esto se define como sus características predeterminadas, y cuyo valor puede ser alterado por la ejecución de algún método."
   ]
  },
  {
   "cell_type": "markdown",
   "metadata": {},
   "source": [
    "## <span style=\"color:blue\">Clases en Python</span> "
   ]
  },
  {
   "cell_type": "markdown",
   "metadata": {},
   "source": [
    "Podemos se dijo arriba, imaginarnos **una clase** como una plantilla o un plano para construir objetos.\n",
    "\n",
    "Para crear una clase en Python se usa el la palabra clave```class:```\n",
    "\n",
    "Supongamos, por ejemplo, que queremos crear una plataforma para recolectar toda la información personal que podamos de nuestros usuarios (nada parecido con la realidad) porque... sí.\n",
    "\n",
    "Primero  crearemos una clase que no haga nada."
   ]
  },
  {
   "cell_type": "markdown",
   "metadata": {},
   "source": [
    "### <span style=\"color:#4CC9F0\">Creando nuestra primera clase</span>"
   ]
  },
  {
   "cell_type": "code",
   "execution_count": 13,
   "metadata": {},
   "outputs": [
    {
     "name": "stdout",
     "output_type": "stream",
     "text": [
      "<class '__main__.Usuario'>\n"
     ]
    }
   ],
   "source": [
    "class Usuario:\n",
    "    pass\n",
    "\n",
    "print(Usuario)"
   ]
  },
  {
   "cell_type": "markdown",
   "metadata": {},
   "source": [
    "La razón de ```pass``` es debido a que una clase necesita al menos una línea para poder existir.\n",
    "\n",
    "Observe que las clases tienen definida una salida por defecto para la función print. el término __main__ indica el espacio de trabajo actual (workspace). Por lo general será __main__ al definir una clase, pero no necesariamente es así."
   ]
  },
  {
   "cell_type": "markdown",
   "metadata": {},
   "source": [
    "### <span style=\"color:#4CC9F0\">Convenio de notación</span>"
   ]
  },
  {
   "cell_type": "markdown",
   "metadata": {},
   "source": [
    "Un convenio de notación es que, para crear los nombres de las clases se comience con mayúsculas."
   ]
  },
  {
   "cell_type": "markdown",
   "metadata": {},
   "source": [
    "### <span style=\"color:#4CC9F0\">Creando nuestros primeros objetos</span>"
   ]
  },
  {
   "cell_type": "markdown",
   "metadata": {},
   "source": [
    "Ok. Ahora creemos un objeto de tipo *Usuario*:"
   ]
  },
  {
   "cell_type": "code",
   "execution_count": 3,
   "metadata": {},
   "outputs": [],
   "source": [
    "u1 = Usuario()\n",
    "u2 = Usuario()"
   ]
  },
  {
   "cell_type": "code",
   "execution_count": 5,
   "metadata": {},
   "outputs": [
    {
     "data": {
      "text/plain": [
       "<__main__.Usuario at 0x7f02d1627ac0>"
      ]
     },
     "execution_count": 5,
     "metadata": {},
     "output_type": "execute_result"
    }
   ],
   "source": [
    "u1"
   ]
  },
  {
   "cell_type": "markdown",
   "metadata": {},
   "source": [
    "Como podemos ver, parece que estuviéramos llamando un método (o función), y en efecto es algo parecido\n",
    "\n",
    "```u1``` es una **instancia** de la clase Usuario.\n",
    "\n",
    "También podemos llamar a ```u1``` un objeto.\n",
    "\n"
   ]
  },
  {
   "cell_type": "markdown",
   "metadata": {},
   "source": [
    "### <span style=\"color:#4CC9F0\">Agregando propiedades y datos </span>"
   ]
  },
  {
   "cell_type": "markdown",
   "metadata": {},
   "source": [
    "Podemos adjuntar datos a este objeto, usamos la notación punto. Esta no es la mejor forma de incluir propiedades a una instancia de clase. De hecho, no es posible hacerlo en otros lenguajes. Lo hacemos solamente por ilustración y porque en Python es posible hacerlo."
   ]
  },
  {
   "cell_type": "code",
   "execution_count": 6,
   "metadata": {},
   "outputs": [
    {
     "name": "stdout",
     "output_type": "stream",
     "text": [
      "Aprendizaje\n",
      "Profundo\n",
      "15\n"
     ]
    }
   ],
   "source": [
    "#Adjuntando datos a el objeto u1 de la clase Usuario\n",
    "\n",
    "u1.nombre = \"Aprendizaje\"\n",
    "u1.apellido = \"Profundo\"\n",
    "u2.edad = 15\n",
    "\n",
    "print(u1.nombre)\n",
    "print(u1.apellido)\n",
    "print(u2.edad)"
   ]
  },
  {
   "cell_type": "markdown",
   "metadata": {},
   "source": [
    "Los datos adjuntados a un objeto se les llaman **atributos**"
   ]
  },
  {
   "cell_type": "markdown",
   "metadata": {},
   "source": [
    "### <span style=\"color:#4CC9F0\">Alerta </span>"
   ]
  },
  {
   "cell_type": "markdown",
   "metadata": {},
   "source": [
    "Los atributos *nombre* y *apellido* no son variables existentes en el espacio de trabajo. Son atributos del objeto *u1*."
   ]
  },
  {
   "cell_type": "markdown",
   "metadata": {},
   "source": [
    "### <span style=\"color:#4CC9F0\">Convenio de notación</span>"
   ]
  },
  {
   "cell_type": "markdown",
   "metadata": {},
   "source": [
    "Se recomienda usar minúsculas para los nombres de los atributos (Tradición Pythonica).\n",
    "\n",
    "Es necesario diferenciar entre atributos de clase y atributos de instancia de clase. Por lo pronto nos referimos a los atributos de instancia de clase que refieren a la información incluida en una instancia de clase. Más adelante revisamos los atributos de clase.\n",
    "\n",
    "Un atributo de instancia de clase (objeto) se denota mediante la notación `nombre_objeto.atributo`. Por ejemplo, hemos creado el atributo (propiedad) *nombre* para el objeto *u1*. Si deseamos ver el contenido de tal atributo simplemente escribimos\n"
   ]
  },
  {
   "cell_type": "code",
   "execution_count": 7,
   "metadata": {},
   "outputs": [
    {
     "data": {
      "text/plain": [
       "'Aprendizaje'"
      ]
     },
     "execution_count": 7,
     "metadata": {},
     "output_type": "execute_result"
    }
   ],
   "source": [
    "u1.nombre"
   ]
  },
  {
   "cell_type": "markdown",
   "metadata": {},
   "source": [
    "Una bonita consecuencia, es que podemos crear muchos objetos con campos del mismo nombre sin tener que definir una variable diferente para cada dato adjuntado del objeto. Veamos otro objeto:"
   ]
  },
  {
   "cell_type": "code",
   "execution_count": 14,
   "metadata": {},
   "outputs": [],
   "source": [
    "u2 = Usuario()\n",
    "u2.nombre = \"Francisco\"\n",
    "u2.apellido = \"Talavera\"\n",
    "u2.edad = 34"
   ]
  },
  {
   "cell_type": "code",
   "execution_count": 15,
   "metadata": {},
   "outputs": [
    {
     "data": {
      "text/plain": [
       "34"
      ]
     },
     "execution_count": 15,
     "metadata": {},
     "output_type": "execute_result"
    }
   ],
   "source": [
    "#edad de u2\n",
    "u2.edad"
   ]
  },
  {
   "cell_type": "code",
   "execution_count": 16,
   "metadata": {},
   "outputs": [
    {
     "ename": "AttributeError",
     "evalue": "'Usuario' object has no attribute 'edad'",
     "output_type": "error",
     "traceback": [
      "\u001b[0;31m---------------------------------------------------------------------------\u001b[0m",
      "\u001b[0;31mAttributeError\u001b[0m                            Traceback (most recent call last)",
      "\u001b[0;32m<ipython-input-16-6bb84ccb0dba>\u001b[0m in \u001b[0;36m<module>\u001b[0;34m\u001b[0m\n\u001b[1;32m      1\u001b[0m \u001b[0;31m# u1 no tiene edad asginada\u001b[0m\u001b[0;34m\u001b[0m\u001b[0;34m\u001b[0m\u001b[0;34m\u001b[0m\u001b[0m\n\u001b[0;32m----> 2\u001b[0;31m \u001b[0mu1\u001b[0m\u001b[0;34m.\u001b[0m\u001b[0medad\u001b[0m\u001b[0;34m\u001b[0m\u001b[0;34m\u001b[0m\u001b[0m\n\u001b[0m",
      "\u001b[0;31mAttributeError\u001b[0m: 'Usuario' object has no attribute 'edad'"
     ]
    }
   ],
   "source": [
    "# u1 no tiene edad asginada\n",
    "u1.edad"
   ]
  },
  {
   "cell_type": "markdown",
   "metadata": {},
   "source": [
    "Se estarán preguntando...\n",
    "\n",
    "**¿Para qué tomarnos la molestia si pudimos hacer todo con un diccionario?**\n",
    "\n",
    "La respuesta la encontraremos en características adicionales de las clases. Estas contienen:\n",
    "\n",
    "-  Métodos\n",
    "- Inicialización"
   ]
  },
  {
   "cell_type": "markdown",
   "metadata": {},
   "source": [
    "##   <span style=\"color:blue\">La función \\_\\_init\\_\\_()</span> "
   ]
  },
  {
   "cell_type": "markdown",
   "metadata": {},
   "source": [
    "Una función dentro de una clase de llama **método**.\n",
    "\n",
    "\\_\\_init\\_\\_ es el abreviado de **initialization** (inicialización).\n",
    "\n",
    "También se le conoce como el **constructor**.\n",
    "\n",
    "**Note los dos guiones bajos antes y después de init**."
   ]
  },
  {
   "cell_type": "code",
   "execution_count": 3,
   "metadata": {},
   "outputs": [
    {
     "name": "stdout",
     "output_type": "stream",
     "text": [
      "Thomas Anderson\n",
      "19620311\n"
     ]
    }
   ],
   "source": [
    "class Usuario:\n",
    "    def __init__(self, nombre_completo, fecha_nacimiento):\n",
    "        self.nombre = nombre_completo\n",
    "        self.fecha_nacimiento = fecha_nacimiento\n",
    "\n",
    "u3 = Usuario(\"Thomas Anderson\", '19620311')\n",
    "\n",
    "print(u3.nombre)\n",
    "print(u3.fecha_nacimiento)"
   ]
  },
  {
   "cell_type": "markdown",
   "metadata": {},
   "source": [
    "\n",
    "```{admonition} Nota\n",
    ":class: note\n",
    " _self_ es el parámetro que referencia la instancia actual de la clase y se usa para acceder a los atributos de dicha clase. No tiene que llamarse self.\n",
    "```"
   ]
  },
  {
   "cell_type": "code",
   "execution_count": 4,
   "metadata": {},
   "outputs": [
    {
     "name": "stdout",
     "output_type": "stream",
     "text": [
      "Thomas Anderson\n",
      "19620311\n"
     ]
    }
   ],
   "source": [
    "class Usuario:\n",
    "    def __init__(mi_objeto, nombre_completo, fecha_nacimiento):\n",
    "        mi_objeto.nombre = nombre_completo\n",
    "        mi_objeto.fecha_nacimiento = fecha_nacimiento\n",
    "\n",
    "u3 = Usuario(\"Thomas Anderson\", '19620311')\n",
    "\n",
    "print(u3.nombre)\n",
    "print(u3.fecha_nacimiento)"
   ]
  },
  {
   "cell_type": "markdown",
   "metadata": {},
   "source": [
    "Agreguemos otra característica más.\n",
    "\n",
    "Por ejemplo, extraer nombre y apellido:"
   ]
  },
  {
   "cell_type": "code",
   "execution_count": 5,
   "metadata": {},
   "outputs": [
    {
     "name": "stdout",
     "output_type": "stream",
     "text": [
      "Thomas Anderson\n",
      "Thomas\n",
      "Anderson\n",
      "19620311\n"
     ]
    }
   ],
   "source": [
    "class Usuario:\n",
    "    def __init__(self, nombre_completo, fecha_nacimiento):\n",
    "        self.nombre_c = nombre_completo\n",
    "        self.fecha_nacimiento = fecha_nacimiento\n",
    "        \n",
    "        #Extraer partes\n",
    "        piezas_nombre = nombre_completo.split(\" \")\n",
    "        self.nombre = piezas_nombre[0]\n",
    "        self.apellido = piezas_nombre[-1]\n",
    "        \n",
    "u = Usuario(\"Thomas Anderson\", '19620311')\n",
    "\n",
    "print(u.nombre_c)\n",
    "print(u.nombre)\n",
    "print(u.apellido)\n",
    "print(u.fecha_nacimiento)"
   ]
  },
  {
   "cell_type": "markdown",
   "metadata": {},
   "source": [
    "##   <span style=\"color:blue\">Documentación de una clase</span> "
   ]
  },
  {
   "cell_type": "markdown",
   "metadata": {},
   "source": [
    "Podemos documentar la clase de la siguiente manera:"
   ]
  },
  {
   "cell_type": "code",
   "execution_count": 7,
   "metadata": {},
   "outputs": [
    {
     "name": "stdout",
     "output_type": "stream",
     "text": [
      "Help on class Usuario in module __main__:\n",
      "\n",
      "class Usuario(builtins.object)\n",
      " |  Usuario(nombre_completo, fecha_nacimiento)\n",
      " |  \n",
      " |  Un usuario de nuestra plataforma. Por ahora\n",
      " |  sólo recolectamos nombre y cumpleaños.\n",
      " |  Pero pronto tendremos mucho más que eso.\n",
      " |  \n",
      " |  Methods defined here:\n",
      " |  \n",
      " |  __init__(self, nombre_completo, fecha_nacimiento)\n",
      " |      Initialize self.  See help(type(self)) for accurate signature.\n",
      " |  \n",
      " |  ----------------------------------------------------------------------\n",
      " |  Data descriptors defined here:\n",
      " |  \n",
      " |  __dict__\n",
      " |      dictionary for instance variables (if defined)\n",
      " |  \n",
      " |  __weakref__\n",
      " |      list of weak references to the object (if defined)\n",
      "\n"
     ]
    }
   ],
   "source": [
    "class Usuario:\n",
    "    \"\"\"Un usuario de nuestra plataforma. Por ahora\n",
    "    sólo recolectamos nombre y cumpleaños.\n",
    "    Pero pronto tendremos mucho más que eso.\"\"\"\n",
    "    def __init__(self, nombre_completo, fecha_nacimiento):\n",
    "        self.nombre_c = nombre_completo\n",
    "        self.fecha_nacimiento = fecha_nacimiento\n",
    "        \n",
    "        #Extraer partes\n",
    "        piezas_nombre = nombre_completo.split(\" \")\n",
    "        self.nombre = piezas_nombre[0]\n",
    "        self.apellido = piezas_nombre[-1]\n",
    "        \n",
    "help(Usuario)"
   ]
  },
  {
   "cell_type": "markdown",
   "metadata": {},
   "source": [
    "##   <span style=\"color:blue\"> Agregando métodos a una clase</span> "
   ]
  },
  {
   "cell_type": "markdown",
   "metadata": {},
   "source": [
    "Es posible crear métodos propios a una clase.\n",
    "\n",
    "Creemos por ejemplo un método que extraiga la edad de nuestro usuario."
   ]
  },
  {
   "cell_type": "code",
   "execution_count": 8,
   "metadata": {},
   "outputs": [
    {
     "name": "stdout",
     "output_type": "stream",
     "text": [
      "Neo tiene 60 años\n"
     ]
    }
   ],
   "source": [
    "import datetime\n",
    "\n",
    "class Usuario:\n",
    "    \"\"\"Un usuario de nuestra plataforma. Por ahora\n",
    "    sólo recolectamos nombre y cumpleaños.\n",
    "    Pero pronto tendremos mucho más que eso.\"\"\"\n",
    "    def __init__(self, nombre_completo, fecha_nacimiento):\n",
    "        self.nombre_c = nombre_completo\n",
    "        self.fecha_nacimiento = fecha_nacimiento\n",
    "        \n",
    "        #Extraer partes\n",
    "        piezas_nombre = nombre_completo.split(\" \")\n",
    "        self.nombre = piezas_nombre[0]\n",
    "        self.apellido = piezas_nombre[-1]\n",
    "        \n",
    "    def edad(self):\n",
    "        \"\"\"Regresa la edad de nuestro usuario en años.\"\"\"\n",
    "        hoy = datetime.date.today()\n",
    "        año = int(self.fecha_nacimiento[0:4])\n",
    "        mes = int(self.fecha_nacimiento[4:6])\n",
    "        dia = int(self.fecha_nacimiento[6:8])\n",
    "        fecha_nac = datetime.date(año,mes,dia)\n",
    "        edad_dias = (hoy-fecha_nac).days\n",
    "        edad_años = edad_dias/365\n",
    "        return int(edad_años)\n",
    "    \n",
    "Neo=Usuario(\"Thomas Anderson\",\"19620311\")\n",
    "\n",
    "print(\"Neo tiene\",Neo.edad(),\"años\")"
   ]
  },
  {
   "cell_type": "code",
   "execution_count": 9,
   "metadata": {},
   "outputs": [
    {
     "name": "stdout",
     "output_type": "stream",
     "text": [
      "Help on class Usuario in module __main__:\n",
      "\n",
      "class Usuario(builtins.object)\n",
      " |  Usuario(nombre_completo, fecha_nacimiento)\n",
      " |  \n",
      " |  Un usuario de nuestra plataforma. Por ahora\n",
      " |  sólo recolectamos nombre y cumpleaños.\n",
      " |  Pero pronto tendremos mucho más que eso.\n",
      " |  \n",
      " |  Methods defined here:\n",
      " |  \n",
      " |  __init__(self, nombre_completo, fecha_nacimiento)\n",
      " |      Initialize self.  See help(type(self)) for accurate signature.\n",
      " |  \n",
      " |  edad(self)\n",
      " |      Regresa la edad de nuestro usuario en años.\n",
      " |  \n",
      " |  ----------------------------------------------------------------------\n",
      " |  Data descriptors defined here:\n",
      " |  \n",
      " |  __dict__\n",
      " |      dictionary for instance variables (if defined)\n",
      " |  \n",
      " |  __weakref__\n",
      " |      list of weak references to the object (if defined)\n",
      "\n"
     ]
    }
   ],
   "source": [
    "help(Usuario)"
   ]
  },
  {
   "cell_type": "markdown",
   "metadata": {},
   "source": [
    "##   <span style=\"color:blue\"> Imprimiendo contenidos de una clase por defecto</span> "
   ]
  },
  {
   "cell_type": "markdown",
   "metadata": {},
   "source": [
    "Para establecer una forma de print por defecto en una clase, puede agregar el método reservado ```__str__```. Vamos a redefinir nuestra clase para incluirlo.\n"
   ]
  },
  {
   "cell_type": "code",
   "execution_count": 1,
   "metadata": {},
   "outputs": [],
   "source": [
    "import datetime\n",
    "\n",
    "class Usuario:\n",
    "    \"\"\"Un usuario de nuestra plataforma. Por ahora\n",
    "    sólo recolectamos nombre y cumpleaños.\n",
    "    Pero pronto tendremos mucho más que eso.\"\"\"\n",
    "    def __init__(self, nombre_completo, fecha_nacimiento):\n",
    "        self.nombre_c = nombre_completo\n",
    "        self.fecha_nacimiento = fecha_nacimiento\n",
    "        \n",
    "        #Extraer partes\n",
    "        piezas_nombre=nombre_completo.split(\" \")\n",
    "        self.nombre=piezas_nombre[0]\n",
    "        self.apellido=piezas_nombre[-1]\n",
    "        \n",
    "    def edad(self):\n",
    "        \"\"\"Regresa la edad de nuestro usuario en años.\"\"\"\n",
    "        hoy=datetime.date.today()\n",
    "        año=int(self.fecha_nacimiento[0:4])\n",
    "        mes=int(self.fecha_nacimiento[4:6])\n",
    "        dia=int(self.fecha_nacimiento[6:8])\n",
    "        fecha_nac=datetime.date(año,mes,dia)\n",
    "        edad_dias=(hoy-fecha_nac).days\n",
    "        edad_años=edad_dias/365\n",
    "        return int(edad_años)\n",
    "     \n",
    "    def __str__(self):\n",
    "        return self.nombre_c + '  tiene ' + str(self.edad()) + ' años'"
   ]
  },
  {
   "cell_type": "code",
   "execution_count": 2,
   "metadata": {},
   "outputs": [
    {
     "name": "stdout",
     "output_type": "stream",
     "text": [
      "Thomas Anderson  tiene 60 años\n"
     ]
    }
   ],
   "source": [
    "Neo=Usuario(\"Thomas Anderson\",\"19620311\")\n",
    "print(Neo)"
   ]
  },
  {
   "cell_type": "markdown",
   "metadata": {},
   "source": [
    "##   <span style=\"color:blue\"> Ejecución de una tarea por defecto en una instancia de clase: call</span>"
   ]
  },
  {
   "cell_type": "markdown",
   "metadata": {},
   "source": [
    "Puede usar el método reservado ```__call__``` para ejecutar uan tarea por defecto cuando se llama a un objeto. \n",
    "\n",
    "Por ejemplo supongamos que deseamos ver cuantas veces ha sido llamado un objeto.\n",
    "\n",
    "Agrandamos una vez más nuestra clase *Usuario*."
   ]
  },
  {
   "cell_type": "code",
   "execution_count": 3,
   "metadata": {},
   "outputs": [],
   "source": [
    "import datetime\n",
    "\n",
    "class Usuario:\n",
    "    \"\"\"Un usuario de nuestra plataforma. Por ahora\n",
    "    sólo recolectamos nombre y cumpleaños.\n",
    "    Pero pronto tendremos mucho más que eso.\"\"\"\n",
    "    def __init__(self, nombre_completo, fecha_nacimiento):\n",
    "        self.nombre_c = nombre_completo\n",
    "        self.fecha_nacimiento = fecha_nacimiento\n",
    "        \n",
    "        self.llamadas = 0\n",
    "        \n",
    "        #Extraer partes\n",
    "        piezas_nombre=nombre_completo.split(\" \")\n",
    "        self.nombre=piezas_nombre[0]\n",
    "        self.apellido=piezas_nombre[-1]\n",
    "        \n",
    "    def edad(self):\n",
    "        \"\"\"Regresa la edad de nuestro usuario en años.\"\"\"\n",
    "        hoy=datetime.date.today()\n",
    "        año=int(self.fecha_nacimiento[0:4])\n",
    "        mes=int(self.fecha_nacimiento[4:6])\n",
    "        dia=int(self.fecha_nacimiento[6:8])\n",
    "        fecha_nac=datetime.date(año,mes,dia)\n",
    "        edad_dias=(hoy-fecha_nac).days\n",
    "        edad_años=edad_dias/365\n",
    "        return int(edad_años)\n",
    "     \n",
    "    def __str__(self):\n",
    "        return self.nombre_c + '  tiene ' + str(self.edad()) + ' años'\n",
    "    \n",
    "    def __call__(self):\n",
    "        self.llamadas +=1\n",
    "        return(self.llamadas)"
   ]
  },
  {
   "cell_type": "code",
   "execution_count": 4,
   "metadata": {},
   "outputs": [
    {
     "name": "stdout",
     "output_type": "stream",
     "text": [
      "Thomas Anderson  tiene 60 años\n",
      "1\n",
      "2\n"
     ]
    }
   ],
   "source": [
    "Neo=Usuario(\"Thomas Anderson\",\"19620311\")\n",
    "print(Neo)\n",
    "print(Neo())\n",
    "print(Neo())"
   ]
  },
  {
   "cell_type": "markdown",
   "metadata": {},
   "source": [
    "##   <span style=\"color:blue\"> Referencias y copia de objetos</span>"
   ]
  },
  {
   "cell_type": "raw",
   "metadata": {},
   "source": [
    "Es importante que hagamos la diferencia entre referenciar un objeto y realmente copiarlo.\n",
    "\n",
    "Vamos a crear un segundo objeto"
   ]
  },
  {
   "cell_type": "code",
   "execution_count": 4,
   "metadata": {},
   "outputs": [
    {
     "name": "stdout",
     "output_type": "stream",
     "text": [
      "Agente Smith  tiene 12 años\n"
     ]
    }
   ],
   "source": [
    "Smith = Usuario(\"Agente Smith\",\"20100515\")\n",
    "print(Smith)"
   ]
  },
  {
   "cell_type": "markdown",
   "metadata": {},
   "source": [
    "Ahora una referencia a Neo"
   ]
  },
  {
   "cell_type": "code",
   "execution_count": 5,
   "metadata": {},
   "outputs": [
    {
     "name": "stdout",
     "output_type": "stream",
     "text": [
      "Thomas Anderson  tiene 60 años\n",
      "Thomas Anderson  tiene 60 años\n"
     ]
    }
   ],
   "source": [
    "px = Neo\n",
    "print(px)\n",
    "print(Neo)"
   ]
  },
  {
   "cell_type": "markdown",
   "metadata": {},
   "source": [
    "Pero ahora observe lo que pasa si modifica *px*"
   ]
  },
  {
   "cell_type": "code",
   "execution_count": 7,
   "metadata": {},
   "outputs": [
    {
     "name": "stdout",
     "output_type": "stream",
     "text": [
      "Thomas Anderson  tiene 82 años\n",
      "Thomas Anderson  tiene 82 años\n"
     ]
    }
   ],
   "source": [
    "px.fecha_nacimiento ='19400319'\n",
    "print(Neo)\n",
    "print(px)"
   ]
  },
  {
   "cell_type": "markdown",
   "metadata": {},
   "source": [
    "Esto ocurre porque en realidad px es una referencia al objeto Neo. Si desea una copia física puede por ejemplo usar la función *copy* del módulo estándar *copy*."
   ]
  },
  {
   "cell_type": "code",
   "execution_count": 8,
   "metadata": {},
   "outputs": [
    {
     "name": "stdout",
     "output_type": "stream",
     "text": [
      "Thomas Anderson  tiene 82 años\n",
      "Thomas Anderson  tiene 62 años\n"
     ]
    }
   ],
   "source": [
    "from copy import copy\n",
    "\n",
    "px = copy(Neo)\n",
    "Neo.fecha_nacimiento = \"19600311\"\n",
    "print(px)\n",
    "print(Neo)"
   ]
  },
  {
   "cell_type": "markdown",
   "metadata": {},
   "source": [
    "##   <span style=\"color:blue\">Eliminación de objetos: del</span> "
   ]
  },
  {
   "cell_type": "markdown",
   "metadata": {},
   "source": [
    "Se usa para eliminar un objeto. Por ejemplo:"
   ]
  },
  {
   "cell_type": "code",
   "execution_count": 1,
   "metadata": {},
   "outputs": [
    {
     "ename": "NameError",
     "evalue": "name 'px' is not defined",
     "output_type": "error",
     "traceback": [
      "\u001b[0;31m---------------------------------------------------------------------------\u001b[0m",
      "\u001b[0;31mNameError\u001b[0m                                 Traceback (most recent call last)",
      "Cell \u001b[0;32mIn [1], line 1\u001b[0m\n\u001b[0;32m----> 1\u001b[0m \u001b[38;5;28;01mdel\u001b[39;00m px\n\u001b[1;32m      2\u001b[0m \u001b[38;5;28mprint\u001b[39m(px)\n",
      "\u001b[0;31mNameError\u001b[0m: name 'px' is not defined"
     ]
    }
   ],
   "source": [
    "del px\n",
    "print(px)"
   ]
  },
  {
   "cell_type": "markdown",
   "metadata": {},
   "source": [
    "##   <span style=\"color:blue\">Atributos intrínsicos de clases e instancias</span> "
   ]
  },
  {
   "cell_type": "markdown",
   "metadata": {},
   "source": [
    "Cada clase y objeto de Python tiene un conjunto de atributos intrínsecos, que están predefinidos, y pueden ser llamados."
   ]
  },
  {
   "cell_type": "markdown",
   "metadata": {},
   "source": [
    "### <span style=\"color:#4CC9F0\">Atributos intrínsicos de clase</span>"
   ]
  },
  {
   "cell_type": "markdown",
   "metadata": {},
   "source": [
    "Los atributos intrínsicos de clase son:\n",
    "\n",
    "+  ```__name__```: nombre de la clase\n",
    "+  ```__module__```: módulo al cual pertenece la clase\n",
    "+  ```__bases__```: clases base de esta clase\n",
    "+  ```__dict__```: diccionario conteniendo un conjunto *clave/valor* con todos los atributos de la clase incluídos los métodos."
   ]
  },
  {
   "cell_type": "markdown",
   "metadata": {},
   "source": [
    "### <span style=\"color:#4CC9F0\">Atributos intrínsicos de instancia</span>"
   ]
  },
  {
   "cell_type": "markdown",
   "metadata": {},
   "source": [
    "Los atributos intrínsicos de los objetos son:\n",
    "\n",
    "+ ```__class__```: nombre de la clase del objeto \n",
    "+ ```__dict__```: diccionario conteniendo un conjunto *clave/valor* con todos los atributos"
   ]
  },
  {
   "cell_type": "markdown",
   "metadata": {},
   "source": [
    "### <span style=\"color:#4CC9F0\">Ejemplo</span>"
   ]
  },
  {
   "cell_type": "code",
   "execution_count": 5,
   "metadata": {},
   "outputs": [
    {
     "name": "stdout",
     "output_type": "stream",
     "text": [
      "Atributos de clase\n",
      "\n",
      "Nombre de la clase:  Usuario\n",
      "\n",
      " Módulo:  __main__\n",
      "\n",
      " Documentación:\n",
      " Un usuario de nuestra plataforma. Por ahora\n",
      "    sólo recolectamos nombre y cumpleaños.\n",
      "    Pero pronto tendremos mucho más que eso.\n",
      "\n",
      "Diccionario de la clase: \n",
      " {'__module__': '__main__', '__doc__': 'Un usuario de nuestra plataforma. Por ahora\\n    sólo recolectamos nombre y cumpleaños.\\n    Pero pronto tendremos mucho más que eso.', '__init__': <function Usuario.__init__ at 0x7f223bc63ac0>, 'edad': <function Usuario.edad at 0x7f222189a200>, '__str__': <function Usuario.__str__ at 0x7f2221899000>, '__call__': <function Usuario.__call__ at 0x7f22218992d0>, '__dict__': <attribute '__dict__' of 'Usuario' objects>, '__weakref__': <attribute '__weakref__' of 'Usuario' objects>}\n",
      "\n",
      "Clases Base:  (<class 'object'>,)\n",
      "\n",
      "Atributos del objeto Neo\n",
      "\n",
      "Clase:  <class '__main__.Usuario'>\n",
      "\n",
      " Diccionario:  {'nombre_c': 'Thomas Anderson', 'fecha_nacimiento': '19620311', 'llamadas': 2, 'nombre': 'Thomas', 'apellido': 'Anderson'}\n"
     ]
    }
   ],
   "source": [
    "print('Atributos de clase\\n')\n",
    "print('Nombre de la clase: ',Usuario.__name__)\n",
    "print('\\n Módulo: ', Usuario.__module__)\n",
    "print('\\n Documentación:\\n',Usuario.__doc__)\n",
    "print('\\nDiccionario de la clase: \\n',Usuario.__dict__)\n",
    "print('\\nClases Base: ',Usuario.__bases__)\n",
    "print('\\nAtributos del objeto Neo\\n')\n",
    "print('Clase: ',Neo.__class__)\n",
    "print('\\n Diccionario: ', Neo.__dict__)"
   ]
  },
  {
   "cell_type": "markdown",
   "metadata": {},
   "source": [
    "## <span style=\"color:blue\">Herencia de clases</span>  "
   ]
  },
  {
   "cell_type": "markdown",
   "metadata": {},
   "source": [
    "Una de las grandes ventajas de usar clases en programación es poder generar clases más especializadas a partir de una o más clases base pre-existentes. Esta característica permite `reutilizar código` y también permite `escribir un código más limpio y legible`.\n",
    "\n",
    "Supongamos que a la clase Usuario le queremos dar un tipo de especicidad específica. Creemos por ejemplo una clase que hable sobre los gustos del usuario, pero referenciando a la clase ya creada. Como primer paso, vamos a crear una clase llamada *Lector* heredada de la clase *Usuario*, sin sin ningún atributo o método nuevo. Observe como la clase *Lector* realmente hereda los atributos y métodos de la clase *Usuario*."
   ]
  },
  {
   "cell_type": "code",
   "execution_count": 6,
   "metadata": {},
   "outputs": [],
   "source": [
    "class Lector(Usuario):\n",
    "    pass"
   ]
  },
  {
   "cell_type": "code",
   "execution_count": 7,
   "metadata": {},
   "outputs": [
    {
     "name": "stdout",
     "output_type": "stream",
     "text": [
      "Help on class Lector in module __main__:\n",
      "\n",
      "class Lector(Usuario)\n",
      " |  Lector(nombre_completo, fecha_nacimiento)\n",
      " |  \n",
      " |  Method resolution order:\n",
      " |      Lector\n",
      " |      Usuario\n",
      " |      builtins.object\n",
      " |  \n",
      " |  Methods inherited from Usuario:\n",
      " |  \n",
      " |  __call__(self)\n",
      " |      Call self as a function.\n",
      " |  \n",
      " |  __init__(self, nombre_completo, fecha_nacimiento)\n",
      " |      Initialize self.  See help(type(self)) for accurate signature.\n",
      " |  \n",
      " |  __str__(self)\n",
      " |      Return str(self).\n",
      " |  \n",
      " |  edad(self)\n",
      " |      Regresa la edad de nuestro usuario en años.\n",
      " |  \n",
      " |  ----------------------------------------------------------------------\n",
      " |  Data descriptors inherited from Usuario:\n",
      " |  \n",
      " |  __dict__\n",
      " |      dictionary for instance variables (if defined)\n",
      " |  \n",
      " |  __weakref__\n",
      " |      list of weak references to the object (if defined)\n",
      "\n"
     ]
    }
   ],
   "source": [
    "help(Lector)"
   ]
  },
  {
   "cell_type": "markdown",
   "metadata": {},
   "source": [
    "Ya podemos usar la clase *Lector* para instanciar un objeto, que de momento tendrá la misma funcionalidad de la clase base *Usuario*."
   ]
  },
  {
   "cell_type": "code",
   "execution_count": 8,
   "metadata": {},
   "outputs": [
    {
     "name": "stdout",
     "output_type": "stream",
     "text": [
      "Daniel Montenegro\n",
      "Daniel\n",
      "32\n",
      "Daniel Montenegro  tiene 32 años\n",
      "1\n"
     ]
    }
   ],
   "source": [
    "l = Lector(\"Daniel Montenegro\",\"19901026\")\n",
    "print(l.nombre_c)\n",
    "print(l.nombre)\n",
    "print(l.edad())\n",
    "print(l)\n",
    "print(l())"
   ]
  },
  {
   "cell_type": "markdown",
   "metadata": {},
   "source": [
    "Al intentar colocar un constructor en la clase heredada, se perderá la función constructora heredada de Usuario. Obviamente este es un comportamientos no deseable."
   ]
  },
  {
   "cell_type": "code",
   "execution_count": 10,
   "metadata": {},
   "outputs": [],
   "source": [
    "class Lector(Usuario):\n",
    "    def __init__(self, nombre_completo, fecha_nacimiento):\n",
    "        self.nombre_c = nombre_completo\n",
    "        self.fecha_nacimiento = fecha_nacimiento\n",
    "        # Agregar otras cosas"
   ]
  },
  {
   "cell_type": "code",
   "execution_count": 15,
   "metadata": {},
   "outputs": [
    {
     "name": "stdout",
     "output_type": "stream",
     "text": [
      "Daniel Montenegro\n",
      "32\n"
     ]
    },
    {
     "ename": "AttributeError",
     "evalue": "'Lector' object has no attribute 'llamadas'",
     "output_type": "error",
     "traceback": [
      "\u001b[0;31m---------------------------------------------------------------------------\u001b[0m",
      "\u001b[0;31mAttributeError\u001b[0m                            Traceback (most recent call last)",
      "Cell \u001b[0;32mIn [15], line 4\u001b[0m\n\u001b[1;32m      2\u001b[0m \u001b[38;5;28mprint\u001b[39m(l\u001b[38;5;241m.\u001b[39mnombre_c)\n\u001b[1;32m      3\u001b[0m \u001b[38;5;28mprint\u001b[39m(l\u001b[38;5;241m.\u001b[39medad())\n\u001b[0;32m----> 4\u001b[0m \u001b[38;5;28mprint\u001b[39m(\u001b[43ml\u001b[49m\u001b[38;5;241;43m.\u001b[39;49m\u001b[43mllamadas\u001b[49m)\n",
      "\u001b[0;31mAttributeError\u001b[0m: 'Lector' object has no attribute 'llamadas'"
     ]
    }
   ],
   "source": [
    "l = Lector(\"Daniel Montenegro\",\"19901026\")\n",
    "print(l.nombre_c)\n",
    "print(l.edad())\n",
    "print(l.llamadas)"
   ]
  },
  {
   "cell_type": "markdown",
   "metadata": {},
   "source": [
    "Este último error se ha presentado porque aunque la clase *Usuario* contiene el atributo *llamadas*, este es creado en el construtor de *Usuario*. Al crear el nuevo constructor para *Lector*, no se tuvo en cuenta crear el atributo *llamadas*. Veámos como resolver este problema."
   ]
  },
  {
   "cell_type": "markdown",
   "metadata": {},
   "source": [
    "## <span style=\"color:blue\"> Referencia a la clase base: super() </span> "
   ]
  },
  {
   "cell_type": "markdown",
   "metadata": {},
   "source": [
    "Dado que, al heredar una clase de otra, estamos pensando en conservar la funcionalidad de la clase base, es importante poder usar el constructor de la clase base junto con el constructor extendido en la clase heredada. Para hacer esta característica posible se utiliza  `super()` como se muestra a continuación. *super()* es un enlace o referencia a la clase base. Entonces, si deseamos usar el constructor de la clase base se puede escribir \n",
    "\n",
    "super().\\_\\_init\\_\\_(...)\n",
    "\n",
    "\n",
    "Veamos el uso de *super()* en nuestra clase Lector, la cual heredamos de la clase Usuario."
   ]
  },
  {
   "cell_type": "code",
   "execution_count": null,
   "metadata": {},
   "outputs": [],
   "source": [
    "class Lector(Usuario):\n",
    "    def __init__(self, nombre_completo, fecha_nacimiento, gustos):\n",
    "        super().__init__(nombre_completo, fecha_nacimiento)\n",
    "        self.gustos = gustos\n",
    "        # Agregar otras cosas"
   ]
  },
  {
   "cell_type": "code",
   "execution_count": null,
   "metadata": {},
   "outputs": [],
   "source": [
    "l=Lector(\"Daniel Montenegro\",\"19901026\",\"Jack Kerouac\")\n",
    "print(l.nombre_c)\n",
    "print(l.edad())\n",
    "print(l.gustos)\n",
    "print(l)"
   ]
  },
  {
   "cell_type": "markdown",
   "metadata": {},
   "source": [
    "Finalmente, agreguemos un método a la clase Lector para extender su funcionalidad:"
   ]
  },
  {
   "cell_type": "code",
   "execution_count": 33,
   "metadata": {
    "tags": []
   },
   "outputs": [],
   "source": [
    "class Lector(Usuario):\n",
    "    def __init__(self, nombre_completo, fecha_nacimiento, gustos):\n",
    "        super().__init__(nombre_completo, fecha_nacimiento)\n",
    "        self.gustos=gustos\n",
    "        año=int(self.fecha_nacimiento[0:4])\n",
    "        mes=int(self.fecha_nacimiento[4:6])\n",
    "        dia=int(self.fecha_nacimiento[6:8])\n",
    "        self.fecha_nac=datetime.date(año,mes,dia)\n",
    "        \n",
    "    def info(self):\n",
    "        print(\" El Usuario\",self.nombre_c,\", nacido en\",self.fecha_nac, \", tiene\",self.edad(),\"años\", \"y le gustan las obras de\",self.gustos)"
   ]
  },
  {
   "cell_type": "code",
   "execution_count": 34,
   "metadata": {},
   "outputs": [
    {
     "name": "stdout",
     "output_type": "stream",
     "text": [
      " El Usuario Daniel Montenegro , nacido en 1990-10-26 , tiene 31 años y le gustan las obras de Jack Kerouac\n"
     ]
    }
   ],
   "source": [
    "l = Lector(\"Daniel Montenegro\",\"19901026\",\"Jack Kerouac\")\n",
    "l.info()"
   ]
  }
 ],
 "metadata": {
  "kernelspec": {
   "display_name": "Python 3 (ipykernel)",
   "language": "python",
   "name": "python3"
  },
  "language_info": {
   "codemirror_mode": {
    "name": "ipython",
    "version": 3
   },
   "file_extension": ".py",
   "mimetype": "text/x-python",
   "name": "python",
   "nbconvert_exporter": "python",
   "pygments_lexer": "ipython3",
   "version": "3.10.4"
  },
  "vscode": {
   "interpreter": {
    "hash": "cf92aa13fedf815d5c8dd192b8d835913fde3e8bc926b2a0ad6cc74ef2ba3ca2"
   }
  }
 },
 "nbformat": 4,
 "nbformat_minor": 4
}
