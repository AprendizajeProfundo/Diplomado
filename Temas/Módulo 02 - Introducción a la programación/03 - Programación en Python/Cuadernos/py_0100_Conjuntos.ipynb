{
 "cells": [
  {
   "cell_type": "markdown",
   "id": "d8101684-056d-4114-b5f8-f4de4e0e0762",
   "metadata": {},
   "source": [
    "<figure>\n",
    "<img src=\"../Imagenes/logo-final-ap.png\"  width=\"80\" height=\"80\" align=\"left\"/> \n",
    "</figure>\n",
    "\n",
    "# <span style=\"color:#4361EE\"><left>Aprendizaje Profundo</left></span>"
   ]
  },
  {
   "cell_type": "markdown",
   "id": "11747204-4af4-45d0-a625-ee2ea1ccfac0",
   "metadata": {},
   "source": [
    "# <span style=\"color:red\"><center>Diplomado en Inteligencia Artificial y Aprendizaje Profundo</center></span>"
   ]
  },
  {
   "cell_type": "markdown",
   "id": "04b97205",
   "metadata": {},
   "source": [
    "# <span style=\"color:green\"><center>Conjuntos</center></span>\n"
   ]
  },
  {
   "cell_type": "markdown",
   "id": "57bd3657",
   "metadata": {},
   "source": [
    "<figure>\n",
    "<center>\n",
    "<img src=\"https://raw.githubusercontent.com/AprendizajeProfundo/Alejandria/main/Archivos_Generales/Imagenes/Latas.jpg\" width=\"600\" height=\"400\" align=\"center\" /> \n",
    "</center>   \n",
    "</figure>\n",
    "<center>\n",
    "\n",
    "Fuente: [Pexels](https://www.pexels.com/es-es/foto/kuhne-tafelesig-162927/)\n",
    "\n",
    "</center>\n"
   ]
  },
  {
   "cell_type": "markdown",
   "id": "2fcd7b36",
   "metadata": {},
   "source": [
    "## <span style=\"color:#4361EE\">Profesores</span>"
   ]
  },
  {
   "cell_type": "markdown",
   "id": "19a04ef3",
   "metadata": {},
   "source": [
    "1. Alvaro  Montenegro, PhD, ammontenegrod@unal.edu.co\n",
    "1. Camilo José Torres Jiménez, Msc, cjtorresj@unal.edu.co\n",
    "1. Daniel  Montenegro, Msc, dextronomo@gmail.com "
   ]
  },
  {
   "cell_type": "markdown",
   "id": "0a948ea9",
   "metadata": {},
   "source": [
    "## <span style=\"color:#4361EE\">Asesora Medios y Marketing digital</span>"
   ]
  },
  {
   "cell_type": "markdown",
   "id": "3c06169d",
   "metadata": {},
   "source": [
    "4. Maria del Pilar Montenegro, pmontenegro88@gmail.com\n",
    "5. Jessica López Mejía, jelopezme@unal.edu.co"
   ]
  },
  {
   "cell_type": "markdown",
   "id": "ab4467e4",
   "metadata": {},
   "source": [
    "## <span style=\"color:#4361EE\">Jefe Jurídica</span>"
   ]
  },
  {
   "cell_type": "markdown",
   "id": "b305ec5e",
   "metadata": {},
   "source": [
    "6. Paula Andrea Guzmán, guzmancruz.paula@gmail.com"
   ]
  },
  {
   "cell_type": "markdown",
   "id": "2aa1246a",
   "metadata": {},
   "source": [
    "## <span style=\"color:#4361EE\">Coordinador Jurídico</span>"
   ]
  },
  {
   "cell_type": "markdown",
   "id": "9cc00ce9",
   "metadata": {},
   "source": [
    "7. David Fuentes, fuentesd065@gmail.com"
   ]
  },
  {
   "cell_type": "markdown",
   "id": "7ec70775",
   "metadata": {},
   "source": [
    "## <span style=\"color:#4361EE\">Desarrolladores Principales</span>"
   ]
  },
  {
   "cell_type": "markdown",
   "id": "d686b989",
   "metadata": {},
   "source": [
    "8. Dairo Moreno, damoralesj@unal.edu.co\n",
    "9. Joan Castro, jocastroc@unal.edu.co\n",
    "10. Bryan Riveros, briveros@unal.edu.co\n",
    "11. Rosmer Vargas, rovargasc@unal.edu.co\n",
    "12. Venus Puertas, vpuertasg@unal.edu.co"
   ]
  },
  {
   "cell_type": "markdown",
   "id": "cc1b597a",
   "metadata": {},
   "source": [
    "## <span style=\"color:#4361EE\">Expertos en Bases de Datos</span>"
   ]
  },
  {
   "cell_type": "markdown",
   "id": "894c1a58",
   "metadata": {},
   "source": [
    "13. Giovvani Barrera, udgiovanni@gmail.com\n",
    "14. Camilo Chitivo, cchitivo@unal.edu.co"
   ]
  },
  {
   "cell_type": "markdown",
   "id": "public-tuition",
   "metadata": {},
   "source": [
    "## <span style=\"color:#4361EE\">Introducción</span>"
   ]
  },
  {
   "cell_type": "markdown",
   "id": "settled-heavy",
   "metadata": {
    "colab_type": "text",
    "id": "Qwzm74tvByHP"
   },
   "source": [
    "Los conjuntos constituyen una estructura especial en Python. Los conjuntos no permiten elementos repetidos y pueden ser mutables o inmutables."
   ]
  },
  {
   "cell_type": "markdown",
   "id": "worse-abortion",
   "metadata": {},
   "source": [
    "## <span style=\"color:#4361EE\">Conjuntos </span>"
   ]
  },
  {
   "cell_type": "markdown",
   "id": "sophisticated-center",
   "metadata": {},
   "source": [
    "Un conjunto es una colección de objetos inmutables no ordenada. Se crea con corchetes '{}'. El conjunto en sí mismo es mutable, peros cada elemento individualmente no puede ser modificado.  Por otro lado, los conjuntos pueden ser operados como hace comúnmente en matemáticas con el álgebra de conjuntos. Veamos nuestro primer ejemplo."
   ]
  },
  {
   "cell_type": "code",
   "execution_count": 248,
   "id": "rental-completion",
   "metadata": {},
   "outputs": [
    {
     "name": "stdout",
     "output_type": "stream",
     "text": [
      "<class 'set'>\n"
     ]
    }
   ],
   "source": [
    "frutas = {'banano','naranja', 'tomate'}\n",
    "\n",
    "print(type(frutas))"
   ]
  },
  {
   "cell_type": "markdown",
   "id": "8cc3b3e1",
   "metadata": {},
   "source": [
    "### <span style=\"color:#4CC9F0\">Operaciones con conjuntos</span>\n"
   ]
  },
  {
   "cell_type": "code",
   "execution_count": 249,
   "id": "eight-turner",
   "metadata": {},
   "outputs": [
    {
     "name": "stdout",
     "output_type": "stream",
     "text": [
      "True\n",
      "False\n"
     ]
    }
   ],
   "source": [
    "print('banano' in frutas)\n",
    "print('fresa' in frutas)"
   ]
  },
  {
   "cell_type": "code",
   "execution_count": 250,
   "id": "sharp-nigeria",
   "metadata": {},
   "outputs": [
    {
     "name": "stdout",
     "output_type": "stream",
     "text": [
      "{'naranja', 'fresa', 'banano', 'tomate'}\n"
     ]
    }
   ],
   "source": [
    "frutas.add('fresa')\n",
    "print(frutas)"
   ]
  },
  {
   "cell_type": "markdown",
   "id": "f63b6d89",
   "metadata": {},
   "source": [
    "### <span style=\"color:#4CC9F0\">No puede haber elementos repetidos</span>\n"
   ]
  },
  {
   "cell_type": "code",
   "execution_count": 251,
   "id": "latter-badge",
   "metadata": {},
   "outputs": [
    {
     "name": "stdout",
     "output_type": "stream",
     "text": [
      "{'naranja', 'fresa', 'banano', 'tomate'}\n"
     ]
    }
   ],
   "source": [
    "frutas.add('banano')\n",
    "print(frutas)"
   ]
  },
  {
   "cell_type": "markdown",
   "id": "8c075dd8",
   "metadata": {},
   "source": [
    "### <span style=\"color:#4CC9F0\">Operaciones usuales</span>\n"
   ]
  },
  {
   "cell_type": "code",
   "execution_count": 252,
   "id": "primary-pilot",
   "metadata": {},
   "outputs": [
    {
     "name": "stdout",
     "output_type": "stream",
     "text": [
      "{'cebolla', 'tomate'}\n"
     ]
    }
   ],
   "source": [
    "verduras = {'cebolla', 'tomate'}\n",
    "print( verduras)\n"
   ]
  },
  {
   "cell_type": "code",
   "execution_count": 253,
   "id": "severe-tonight",
   "metadata": {},
   "outputs": [
    {
     "name": "stdout",
     "output_type": "stream",
     "text": [
      "{'tomate'}\n"
     ]
    }
   ],
   "source": [
    "# intersección\n",
    "print( frutas & verduras)"
   ]
  },
  {
   "cell_type": "code",
   "execution_count": 254,
   "id": "understood-terrorism",
   "metadata": {},
   "outputs": [
    {
     "name": "stdout",
     "output_type": "stream",
     "text": [
      "{'cebolla', 'fresa', 'banano', 'naranja', 'tomate'}\n"
     ]
    }
   ],
   "source": [
    "# unión\n",
    "print( frutas | verduras)"
   ]
  },
  {
   "cell_type": "code",
   "execution_count": 255,
   "id": "pleasant-saturday",
   "metadata": {},
   "outputs": [
    {
     "name": "stdout",
     "output_type": "stream",
     "text": [
      "{'naranja', 'fresa', 'banano'}\n"
     ]
    }
   ],
   "source": [
    "# diferencia \n",
    "print( frutas - verduras)"
   ]
  },
  {
   "cell_type": "code",
   "execution_count": 256,
   "id": "cutting-memorabilia",
   "metadata": {},
   "outputs": [
    {
     "name": "stdout",
     "output_type": "stream",
     "text": [
      "{'cebolla', 'banano', 'fresa', 'naranja'}\n"
     ]
    }
   ],
   "source": [
    "# diferencia simétrica\n",
    "print( frutas ^ verduras)"
   ]
  },
  {
   "cell_type": "markdown",
   "id": "received-contribution",
   "metadata": {},
   "source": [
    "|Método|Descripción|\n",
    "|---|---|\n",
    "|add(e)|Añade un elemento al conjunto.|\n",
    "|clear()|Elimina todos los elementos del conjunto.|\n",
    "|copy()|Devuelve una copia superficial del conjunto.|\n",
    "|difference(iterable)|Devuelve la diferencia del conjunto con el iterable como un conjunto nuevo.|\n",
    "|difference_update(iterable)|Actualiza el conjunto tras realizar la diferencia con el iterable.|\n",
    "|discard(e)|Elimina, si existe, el elemento del conjunto.|\n",
    "|intersection(iterable)|Devuelve la intersección del conjunto con el iterable como un conjunto nuevo.|\n",
    "|intersection_update(iterable)|Actualiza el conjunto tras realizar la intersección con el iterable.|\n",
    "|isdisjoint(iterable)|Devuelve True si dos conjuntos son disyuntos.|\n",
    "|issubset(iterable)|Devuelve True si el conjunto es subconjunto del iterable.|\n",
    "|issuperset(iterable)|Devuelve True si el conjunto es superconjunto del iterable.|\n",
    "|pop()|Obtiene y elimina un elemento de forma aleatoria del conjunto.|\n",
    "|remove(e)|Elimina el elemento del conjunto. Si no existe lanza un error.|\n",
    "|symmetric_difference(iterable)|Devuelve la diferencia simétrica del conjunto con el iterable como un conjunto nuevo.|\n",
    "|symmetric_difference_update(iterable)|Actualiza el conjunto tras realizar la diferencia simétrica con el iterable.|\n",
    "|union(iterable)|Devuelve la unión del conjunto con el iterable como un conjunto nuevo.|\n",
    "|update(iterable)|Actualiza el conjunto tras realizar la unión con el iterable.|"
   ]
  },
  {
   "cell_type": "markdown",
   "id": "e15b0041",
   "metadata": {},
   "source": [
    "### <span style=\"color:#4CC9F0\">Frozen sets</span>\n"
   ]
  },
  {
   "cell_type": "markdown",
   "id": "nonprofit-activity",
   "metadata": {},
   "source": [
    "Es posible crear conjuntos en donde los elementos no son intercambiables. Esto funciona como conjunto, pero ahora no es posible modificar los elementos del conjunto.\n",
    "\n",
    "Veamos el ejemplo \n",
    "\n",
    "*frozenset(iterable)*"
   ]
  },
  {
   "cell_type": "code",
   "execution_count": 257,
   "id": "greater-tuning",
   "metadata": {},
   "outputs": [],
   "source": [
    "fruta_congelada = frozenset(frutas)\n"
   ]
  },
  {
   "cell_type": "code",
   "execution_count": 258,
   "id": "broke-bleeding",
   "metadata": {},
   "outputs": [
    {
     "ename": "AttributeError",
     "evalue": "'frozenset' object has no attribute 'add'",
     "output_type": "error",
     "traceback": [
      "\u001b[1;31m---------------------------------------------------------------------------\u001b[0m",
      "\u001b[1;31mAttributeError\u001b[0m                            Traceback (most recent call last)",
      "\u001b[1;32mc:\\Users\\User\\OneDrive\\Documentos\\Libro-Programacion\\Python\\Colecciones.ipynb Celda 184\u001b[0m in \u001b[0;36m<cell line: 1>\u001b[1;34m()\u001b[0m\n\u001b[1;32m----> <a href='vscode-notebook-cell:/c%3A/Users/User/OneDrive/Documentos/Libro-Programacion/Python/Colecciones.ipynb#ch0000183?line=0'>1</a>\u001b[0m fruta_congelada\u001b[39m.\u001b[39;49madd(\u001b[39m'\u001b[39m\u001b[39mpera\u001b[39m\u001b[39m'\u001b[39m)\n",
      "\u001b[1;31mAttributeError\u001b[0m: 'frozenset' object has no attribute 'add'"
     ]
    }
   ],
   "source": [
    "fruta_congelada.add('pera')"
   ]
  },
  {
   "cell_type": "markdown",
   "id": "dd42c6f6",
   "metadata": {},
   "source": [
    "### <span style=\"color:#4CC9F0\">Ejercicios</span>\n"
   ]
  },
  {
   "cell_type": "markdown",
   "id": "01ace562",
   "metadata": {},
   "source": [
    "¿En qué casos considera que sería útil usar frozen sets?"
   ]
  },
  {
   "cell_type": "markdown",
   "id": "26c74a31-2135-4400-b943-ab8aee7f2ae3",
   "metadata": {},
   "source": [
    "<figure>\n",
    "<img src=\"../Imagenes/logo-final-ap.png\"  width=\"80\" height=\"80\" align=\"right\"/> \n",
    "</figure>"
   ]
  }
 ],
 "metadata": {
  "interpreter": {
   "hash": "cf92aa13fedf815d5c8dd192b8d835913fde3e8bc926b2a0ad6cc74ef2ba3ca2"
  },
  "kernelspec": {
   "display_name": "Python 3 (ipykernel)",
   "language": "python",
   "name": "python3"
  },
  "language_info": {
   "codemirror_mode": {
    "name": "ipython",
    "version": 3
   },
   "file_extension": ".py",
   "mimetype": "text/x-python",
   "name": "python",
   "nbconvert_exporter": "python",
   "pygments_lexer": "ipython3",
   "version": "3.10.9"
  }
 },
 "nbformat": 4,
 "nbformat_minor": 5
}
