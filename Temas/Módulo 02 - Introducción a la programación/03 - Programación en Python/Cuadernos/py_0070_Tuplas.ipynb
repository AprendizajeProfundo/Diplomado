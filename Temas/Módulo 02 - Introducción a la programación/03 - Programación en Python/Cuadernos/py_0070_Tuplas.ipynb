{
 "cells": [
  {
   "cell_type": "markdown",
   "id": "04b97205",
   "metadata": {},
   "source": [
    "# <span style=\"color:#F72585\"><center>Tuplas</center></span>\n"
   ]
  },
  {
   "cell_type": "markdown",
   "id": "222e89aa",
   "metadata": {},
   "source": [
    "<figure>\n",
    "<center>\n",
    "<img src=\"https://raw.githubusercontent.com/AprendizajeProfundo/Alejandria/main/Archivos_Generales/Imagenes/Estampillas.jpg\" width=\"600\" height=\"400\" align=\"center\" /> \n",
    "</center>   \n",
    "</figure>\n",
    "<center>\n",
    "    \n",
    "Fuente: [Pexels](https://www.pexels.com/es-es/foto/coleccion-de-sellos-248993/)   \n",
    "</center>\n"
   ]
  },
  {
   "cell_type": "markdown",
   "id": "public-tuition",
   "metadata": {},
   "source": [
    "## <span style=\"color:#4361EE\">Introducción</span>"
   ]
  },
  {
   "cell_type": "markdown",
   "id": "settled-heavy",
   "metadata": {
    "colab_type": "text",
    "id": "Qwzm74tvByHP"
   },
   "source": [
    "Una tupla (tuple) es una colección de objetos que están ordenados y son inmutables (no pueden modificarse). Las tuplas admiten elementos repetidos y sus miembros son indexados."
   ]
  },
  {
   "cell_type": "markdown",
   "id": "joined-remains",
   "metadata": {},
   "source": [
    "## <span style=\"color:#4361EE\">Tuplas</span>"
   ]
  },
  {
   "cell_type": "markdown",
   "id": "funny-ocean",
   "metadata": {},
   "source": [
    "Las tuplas se crean y se reconocen porque los elementos se escriben entre paréntesis circulares: '()'. Por ejemplo tupla1 en la siguiente línea define una tupla."
   ]
  },
  {
   "cell_type": "code",
   "execution_count": 1,
   "id": "comfortable-reference",
   "metadata": {},
   "outputs": [],
   "source": [
    "tupla1 = (1,3,5,7)"
   ]
  },
  {
   "cell_type": "markdown",
   "id": "western-license",
   "metadata": {},
   "source": [
    "Cada elemento de la tupla está indexado. Por ejemplo, discuta el siguiente snippet de código."
   ]
  },
  {
   "cell_type": "code",
   "execution_count": 2,
   "id": "tough-marks",
   "metadata": {},
   "outputs": [
    {
     "name": "stdout",
     "output_type": "stream",
     "text": [
      "Acceso a la tupla con iterator\n",
      "1\n",
      "3\n",
      "5\n",
      "7\n",
      "Acceso al tupla con índices\n",
      "0 1\n",
      "1 3\n",
      "2 5\n",
      "3 7\n"
     ]
    }
   ],
   "source": [
    "print ('Acceso a la tupla con iterator')\n",
    "for i in tupla1:\n",
    "    print(i)\n",
    "\n",
    "print('Acceso al tupla con índices')\n",
    "for i in range(len(tupla1)):\n",
    "    print(i, tupla1[i] )"
   ]
  },
  {
   "cell_type": "markdown",
   "id": "3ee8ef24",
   "metadata": {},
   "source": [
    "### <span style=\"color:#4CC9F0\">Constructor de tuplas: tuple(iterable)</span>\n"
   ]
  },
  {
   "cell_type": "markdown",
   "id": "coated-possession",
   "metadata": {},
   "source": [
    "Una tupla puede crearse a partir de cualquier objeto iterable. Por ejemplo:"
   ]
  },
  {
   "cell_type": "code",
   "execution_count": 3,
   "id": "featured-rubber",
   "metadata": {},
   "outputs": [
    {
     "name": "stdout",
     "output_type": "stream",
     "text": [
      "(1, 2, 3)\n"
     ]
    }
   ],
   "source": [
    "lista1 = [1,2,3]\n",
    "tupla2 = tuple(lista1)\n",
    "print(tupla2)"
   ]
  },
  {
   "cell_type": "markdown",
   "id": "signed-wells",
   "metadata": {},
   "source": [
    "Observe como los valores de la lista pueden modificarse pero no los de la tupla"
   ]
  },
  {
   "cell_type": "code",
   "execution_count": 4,
   "id": "raising-opportunity",
   "metadata": {},
   "outputs": [
    {
     "name": "stdout",
     "output_type": "stream",
     "text": [
      "[5, 2, 3]\n"
     ]
    }
   ],
   "source": [
    "lista1[0] = 5\n",
    "print(lista1)"
   ]
  },
  {
   "cell_type": "code",
   "execution_count": 5,
   "id": "covered-screw",
   "metadata": {},
   "outputs": [
    {
     "name": "stdout",
     "output_type": "stream",
     "text": [
      "problema encontrado\n"
     ]
    }
   ],
   "source": [
    "try: \n",
    "    tupla2[0] = 5\n",
    "    print(tupla2)\n",
    "except: \n",
    "    print(\"problema encontrado\")"
   ]
  },
  {
   "cell_type": "markdown",
   "id": "615077e0",
   "metadata": {},
   "source": [
    "### <span style=\"color:#4CC9F0\">Uso de índices con tuplas</span>\n"
   ]
  },
  {
   "cell_type": "markdown",
   "id": "organizational-commons",
   "metadata": {},
   "source": [
    "Observe las siguientes salidas"
   ]
  },
  {
   "cell_type": "code",
   "execution_count": 6,
   "id": "blocked-dodge",
   "metadata": {},
   "outputs": [
    {
     "name": "stdout",
     "output_type": "stream",
     "text": [
      "tupla1:\t (1, 3, 5, 7)\n",
      "tupla1[:3]:\t (1, 3, 5)\n",
      "tupla1[1:]:\t (3, 5, 7)\n",
      "tupla1[0:1]:\t (1,)\n",
      "tupla1[1:-1]:\t (3, 5)\n",
      "tupla1[:-1]:\t (1, 3, 5)\n",
      "tupla1[:]:\t (1, 3, 5, 7)\n",
      "tupla1[::2]:\t (1, 5)\n"
     ]
    }
   ],
   "source": [
    "print('tupla1:\\t',tupla1)\n",
    "print('tupla1[:3]:\\t', tupla1[:3])\n",
    "print('tupla1[1:]:\\t', tupla1[1:])\n",
    "print('tupla1[0:1]:\\t', tupla1[0:1])\n",
    "print('tupla1[1:-1]:\\t', tupla1[1:-1])\n",
    "print('tupla1[:-1]:\\t', tupla1[:-1])\n",
    "print('tupla1[:]:\\t', tupla1[:])\n",
    "print('tupla1[::2]:\\t', tupla1[::2])"
   ]
  },
  {
   "cell_type": "markdown",
   "id": "downtown-northeast",
   "metadata": {},
   "source": [
    "De especial atención son las tres últimas líneas. El valor -1 se usa para indicar el final del objeto.\n",
    "\n",
    "La ausencia de valores indica se toma desde el extremo (izquierdo o derecho) del objeto indexable. \n",
    "\n",
    "El tercer índice, introducido en Python, se utiliza como valor de salto al recuperar los elementos de la tupla. La última línea del ejemplo indica tomar cada dos posiciones. Como inicia en cero (0) tomas la posiciones 0 y 2."
   ]
  },
  {
   "cell_type": "markdown",
   "id": "bb097d80",
   "metadata": {},
   "source": [
    "### <span style=\"color:#4CC9F0\">Las tuplas pueden contener diferentes tipos</span>\n"
   ]
  },
  {
   "cell_type": "markdown",
   "id": "neural-disability",
   "metadata": {},
   "source": [
    "Por ejemplo en el siguiente fragmento *tup2* es una tupla que contiene un entero, un string, un tupla y un float."
   ]
  },
  {
   "cell_type": "code",
   "execution_count": 9,
   "id": "sticky-mumbai",
   "metadata": {},
   "outputs": [
    {
     "name": "stdout",
     "output_type": "stream",
     "text": [
      "1\n",
      "John\n",
      "(1, 3, 5, 7)\n",
      "True\n",
      "-23.1\n"
     ]
    }
   ],
   "source": [
    "tupla1 = (1,3,5,7)\n",
    "tup2 = (1,\"John\", tupla1, True, -23.1)\n",
    "\n",
    "for i in tup2:\n",
    "    print(i)"
   ]
  },
  {
   "cell_type": "markdown",
   "id": "4ef801f1-fc2e-4e2f-bb43-1d85402174d2",
   "metadata": {},
   "source": [
    "Alternativamente podemos recorrer las lista haciendo uso de índices como sigue."
   ]
  },
  {
   "cell_type": "code",
   "execution_count": 10,
   "id": "3a863b5a-ced0-4034-80a4-8aab5410b4e8",
   "metadata": {},
   "outputs": [
    {
     "name": "stdout",
     "output_type": "stream",
     "text": [
      "1\n",
      "John\n",
      "(1, 3, 5, 7)\n",
      "True\n",
      "-23.1\n"
     ]
    }
   ],
   "source": [
    "tupla1 = (1,3,5,7)\n",
    "tup2 = (1,\"John\", tupla1, True, -23.1)\n",
    "\n",
    "N = len(tup2)\n",
    "for i in range(N):\n",
    "    print(tup2[i])"
   ]
  },
  {
   "cell_type": "markdown",
   "id": "e0e0d403",
   "metadata": {},
   "source": [
    "### <span style=\"color:#4CC9F0\">Ejercicio</span>\n"
   ]
  },
  {
   "cell_type": "markdown",
   "id": "1295581e",
   "metadata": {},
   "source": [
    "Modifique el bucle anterior para que imprima el tipo de variable que es cada elemento de la tupla"
   ]
  }
 ],
 "metadata": {
  "interpreter": {
   "hash": "cf92aa13fedf815d5c8dd192b8d835913fde3e8bc926b2a0ad6cc74ef2ba3ca2"
  },
  "kernelspec": {
   "display_name": "Python 3 (ipykernel)",
   "language": "python",
   "name": "python3"
  },
  "language_info": {
   "codemirror_mode": {
    "name": "ipython",
    "version": 3
   },
   "file_extension": ".py",
   "mimetype": "text/x-python",
   "name": "python",
   "nbconvert_exporter": "python",
   "pygments_lexer": "ipython3",
   "version": "3.9.12"
  }
 },
 "nbformat": 4,
 "nbformat_minor": 5
}
