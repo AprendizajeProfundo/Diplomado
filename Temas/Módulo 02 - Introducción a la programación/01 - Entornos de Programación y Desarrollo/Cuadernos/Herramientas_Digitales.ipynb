{
 "cells": [
  {
   "cell_type": "markdown",
   "metadata": {
    "slideshow": {
     "slide_type": "slide"
    },
    "tags": []
   },
   "source": [
    "<figure>\n",
    "<img src=\"../Imagenes/logo-final-ap.png\"  width=\"80\" height=\"80\" align=\"left\"/> \n",
    "</figure>\n",
    "\n",
    "# <span style=\"color:blue\"><left>Aprendizaje Profundo</left></span>"
   ]
  },
  {
   "cell_type": "markdown",
   "metadata": {},
   "source": [
    "# <span style=\"color:red\"><center>Herramientas Digitales</center></span>"
   ]
  },
  {
   "cell_type": "markdown",
   "metadata": {},
   "source": [
    "<center>Entornos de programación, desarrollo local y en la nube</center>"
   ]
  },
  {
   "cell_type": "markdown",
   "metadata": {
    "slideshow": {
     "slide_type": "slide"
    },
    "tags": []
   },
   "source": [
    "##   <span style=\"color:blue\">Autores</span>"
   ]
  },
  {
   "cell_type": "markdown",
   "metadata": {},
   "source": [
    "1. Alvaro Mauricio Montenegro Díaz, ammontenegrod@unal.edu.co\n",
    "1. Daniel Mauricio Montenegro Reyes, dextronomo@gmail.com \n",
    "1. Oleg Jarma Montoya, ojarmam@unal.edu.co"
   ]
  },
  {
   "cell_type": "markdown",
   "metadata": {
    "slideshow": {
     "slide_type": "subslide"
    },
    "tags": []
   },
   "source": [
    "## <span style=\"color:blue\">Asesora Medios y Marketing digital</span>"
   ]
  },
  {
   "cell_type": "markdown",
   "metadata": {},
   "source": [
    "4. Maria del Pilar Montenegro, pmontenegro88@gmail.com "
   ]
  },
  {
   "cell_type": "markdown",
   "metadata": {
    "slideshow": {
     "slide_type": "slide"
    },
    "tags": []
   },
   "source": [
    "## <span style=\"color:blue\">Contenido</span>"
   ]
  },
  {
   "cell_type": "markdown",
   "metadata": {},
   "source": [
    "1. [Habilidades Necesarias](#Habilidades-Necesarias)\n",
    "1. [Herramientas Básicas](#Herramientas-Básicas)\n",
    "1. [Herramientas de Manipulación de Datos](#Herramientas-de-Manipulación-de-Datos)\n",
    "1. [Herramientas de modelos Estadísticos y Machine Learning](#Herramientas-de-modelos-Estadísticos-y-Machine-Learning)\n",
    "1. [Herramientas de Visualización](#Herramientas-de-Visualización)\n",
    "1. [Herramientas en la Nube](#Herramientas-en-la-Nube)\n",
    "1. [Herramientas IA](#Herramientas-IA)\n",
    "1. [La Localidad y la Nube](#La-Localidad-y-la-Nube)\n",
    "1. [Lenguaje Markdown](#Lenguaje-Markdown)"
   ]
  },
  {
   "cell_type": "markdown",
   "metadata": {},
   "source": [
    "## <span style=\"color:blue\">Habilidades Necesarias</span>"
   ]
  },
  {
   "cell_type": "markdown",
   "metadata": {},
   "source": [
    "**¿Qué necesito desarrollar para ser un científico de Datos?**\n",
    "\n",
    "<center>\n",
    "    <figure>\n",
    "    <img src=\"../Imagenes/skills.jpg\"  width=\"600\" height=\"300\"/> \n",
    "    <figcaption>\n",
    "    <p style=\"text-align:center\"><strong>Los requerimientos para ser un científico de datos</strong></p>\n",
    "    </figcaption>\n",
    "    </figure>\n",
    "</center>"
   ]
  },
  {
   "cell_type": "markdown",
   "metadata": {},
   "source": [
    "[[Volver]](#Contenido)"
   ]
  },
  {
   "cell_type": "markdown",
   "metadata": {
    "slideshow": {
     "slide_type": "slide"
    },
    "tags": []
   },
   "source": [
    "## <span style=\"color:blue\">Herramientas Básicas</span>"
   ]
  },
  {
   "cell_type": "markdown",
   "metadata": {},
   "source": [
    "* [Python](https://www.python.org/)\n",
    "\n",
    "<figure>\n",
    "<img src=\"../Imagenes/python.png\"  width=\"400\" height=\"300\"/> \n",
    "</figure>\n",
    "\n",
    "* [Anaconda](https://www.anaconda.com/)\n",
    "\n",
    "<figure>\n",
    "<img src=\"../Imagenes/anaconda.jpg\"  width=\"400\" height=\"300\"/> \n",
    "</figure>\n",
    "\n",
    "* [R](https://www.r-project.org/)\n",
    "\n",
    "\n",
    "<figure>\n",
    "<img src=\"../Imagenes/R.png\"  width=\"200\" height=\"200\"/> \n",
    "</figure>\n",
    "\n",
    "* [Jupyter Lab](https://jupyter.org/)\n",
    "\n",
    "\n",
    "<figure>\n",
    "<img src=\"../Imagenes/jupyter_lab.png\"  width=\"400\" height=\"300\"/> \n",
    "</figure>\n",
    "\n",
    "* [Jupyter Book](https://jupyterbook.org/en/stable/intro.html)\n",
    "\n",
    "<figure>\n",
    "<img src=\"../Imagenes/jupyter_book.png\"  width=\"400\" height=\"300\"/> \n",
    "</figure>\n",
    "\n",
    "* [Docker](https://hub.docker.com/)\n",
    "\n",
    "<figure>\n",
    "<img src=\"../Imagenes/docker.png\"  width=\"400\" height=\"300\"/> \n",
    "</figure>\n",
    "\n",
    "### IDEs/Editores de código\n",
    "\n",
    "* [Visual Studio Code](https://code.visualstudio.com/), [Code Insiders](https://code.visualstudio.com/insiders/), [Vscodium](https://vscodium.com/)\n",
    "\n",
    "<figure>\n",
    "<img src=\"../Imagenes/visual-studio.png\"  width=\"100\" height=\"75\"/> \n",
    "<img src=\"../Imagenes/visual-studio-insiders.png\"  width=\"100\" height=\"75\"/> \n",
    "<img src=\"../Imagenes/vscodium.png\"  width=\"100\" height=\"75\"/> \n",
    "</figure>\n",
    "\n",
    "* [RStudio/Posit](https://www.rstudio.com/)\n",
    "\n",
    "<figure>\n",
    "<img src=\"../Imagenes/rstudio.png\"  width=\"400\" height=\"300\"/> \n",
    "</figure>\n",
    "\n",
    "* [Spyder](https://www.spyder-ide.org/)\n",
    "\n",
    "<figure>\n",
    "<img src=\"../Imagenes/spyder.png\"  width=\"400\" height=\"300\"/> \n",
    "</figure>\n",
    "\n",
    "* [Atom](https://atom.io/)\n",
    "\n",
    "<figure>\n",
    "<img src=\"../Imagenes/atom.png\"  width=\"400\" height=\"300\"/> \n",
    "</figure>\n",
    "\n",
    "* [PyCharm](https://www.jetbrains.com/pycharm/)\n",
    "\n",
    "<figure>\n",
    "<img src=\"../Imagenes/pycharm.png\"  width=\"400\" height=\"300\"/> \n",
    "</figure>"
   ]
  },
  {
   "cell_type": "markdown",
   "metadata": {},
   "source": [
    "[[Volver]](#Contenido)"
   ]
  },
  {
   "cell_type": "markdown",
   "metadata": {},
   "source": [
    "##   <span style=\"color:blue\">Herramientas en la Nube</span>"
   ]
  },
  {
   "cell_type": "markdown",
   "metadata": {},
   "source": [
    "* [Colaboratory](https://colab.research.google.com/?utm_source=scs-index)\n",
    "\n",
    "<figure>\n",
    "<img src=\"../Imagenes/colab.jpg\"  width=\"400\" height=\"300\"/> \n",
    "</figure>\n",
    "\n",
    "* [Git](https://git-scm.com/)\n",
    "<figure>\n",
    "<img src=\"../Imagenes/git.png\"  width=\"400\" height=\"300\"/> \n",
    "</figure>\n",
    "\n",
    "* [Github](https://github.com)\n",
    "\n",
    "<figure>\n",
    "<img src=\"../Imagenes/GitHub.png\"  width=\"400\" height=\"300\"/> \n",
    "</figure>\n",
    "\n",
    "* [GitLab](https://about.gitlab.com/)\n",
    "\n",
    "<figure>\n",
    "<img src=\"../Imagenes/GitLab.png\"  width=\"400\" height=\"300\"/> \n",
    "</figure>\n",
    "\n",
    "* [Binder](https://mybinder.org/)\n",
    "\n",
    "<figure>\n",
    "<img src=\"../Imagenes/binder.png\"  width=\"400\" height=\"300\"/> \n",
    "</figure>\n",
    "\n",
    "* [nbviewer](https://nbviewer.org/)\n",
    "\n",
    "<figure>\n",
    "<img src=\"../Imagenes/nbviewer.png\"  width=\"400\" height=\"300\"/> \n",
    "</figure>\n",
    "\n",
    "* [GitHub & BitBucket HTML Preview](https://htmlpreview.github.io/)\n",
    "\n",
    "<figure>\n",
    "<img src=\"../Imagenes/html_preview.png\"  width=\"400\" height=\"300\"/> \n",
    "</figure>"
   ]
  },
  {
   "cell_type": "markdown",
   "metadata": {},
   "source": [
    "[[Volver]](#Contenido)"
   ]
  },
  {
   "cell_type": "markdown",
   "metadata": {},
   "source": [
    "## <span style=\"color:blue\">Herramientas de Manipulación de Datos</span>"
   ]
  },
  {
   "cell_type": "markdown",
   "metadata": {},
   "source": [
    "* [Pandas](https://pandas.pydata.org/)\n",
    "\n",
    "<figure>\n",
    "<img src=\"../Imagenes/pandas.png\"  width=\"400\" height=\"300\"/> \n",
    "</figure>\n",
    "\n",
    "* [Dplyr](https://dplyr.tidyverse.org/)\n",
    "\n",
    "<figure>\n",
    "<img src=\"../Imagenes/dplyr.png\"  width=\"400\" height=\"300\"/> \n",
    "</figure>\n",
    "\n",
    "* [Tidyr](https://tidyr.tidyverse.org/)\n",
    "\n",
    "<figure>\n",
    "<img src=\"../Imagenes/tidyr.png\"  width=\"400\" height=\"300\"/> \n",
    "</figure>"
   ]
  },
  {
   "cell_type": "markdown",
   "metadata": {},
   "source": [
    "[[Volver]](#Contenido)"
   ]
  },
  {
   "cell_type": "markdown",
   "metadata": {},
   "source": [
    "## <span style=\"color:blue\">Herramientas de modelos Estadísticos y Machine Learning</span>"
   ]
  },
  {
   "cell_type": "markdown",
   "metadata": {},
   "source": [
    "* [Scikit-Learn](https://scikit-learn.org/stable/)\n",
    "\n",
    "<figure>\n",
    "<img src=\"../Imagenes/scikit.png\"  width=\"400\" height=\"300\"/> \n",
    "</figure>\n",
    "\n",
    "* [Scipy](https://scipy.org/)\n",
    "\n",
    "<figure>\n",
    "<img src=\"../Imagenes/scipy.png\"  width=\"400\" height=\"300\"/> \n",
    "</figure>\n",
    "\n",
    "* [Statsmodels](https://www.statsmodels.org/stable/index.html)\n",
    "\n",
    "<figure>\n",
    "<img src=\"../Imagenes/statsmodels.svg\"  width=\"400\" height=\"300\"/> \n",
    "</figure>"
   ]
  },
  {
   "cell_type": "markdown",
   "metadata": {},
   "source": [
    "[[Volver]](#Contenido)"
   ]
  },
  {
   "cell_type": "markdown",
   "metadata": {},
   "source": [
    "## <span style=\"color:blue\">Herramientas de Visualización</span>"
   ]
  },
  {
   "cell_type": "markdown",
   "metadata": {},
   "source": [
    "* [Matplotlib](https://matplotlib.org/)\n",
    "\n",
    "<figure>\n",
    "<img src=\"../Imagenes/matplotlib.png\"  width=\"400\" height=\"300\"/> \n",
    "</figure>\n",
    "\n",
    "* [Seaborn](https://seaborn.pydata.org/)\n",
    "\n",
    "<figure>\n",
    "<img src=\"../Imagenes/seaborn.png\"  width=\"400\" height=\"300\"/> \n",
    "</figure>\n",
    "\n",
    "* [Ggplot2](https://ggplot2.tidyverse.org/)\n",
    "\n",
    "<figure>\n",
    "<img src=\"../Imagenes/ggplot2.png\"  width=\"400\" height=\"300\"/> \n",
    "</figure>\n",
    "\n",
    "* [Plotly](https://plotly.com/)\n",
    "\n",
    "<figure>\n",
    "<img src=\"../Imagenes/plotly.png\"  width=\"400\" height=\"300\"/> \n",
    "</figure>\n",
    "\n",
    "* [Shiny](https://shiny.rstudio.com/)\n",
    "\n",
    "<figure>\n",
    "<img src=\"../Imagenes/shiny.png\"  width=\"400\" height=\"300\"/> \n",
    "</figure>"
   ]
  },
  {
   "cell_type": "markdown",
   "metadata": {},
   "source": [
    "[[Volver]](#Contenido)"
   ]
  },
  {
   "cell_type": "markdown",
   "metadata": {},
   "source": [
    "## <span style=\"color:blue\">Herramientas IA</span>"
   ]
  },
  {
   "cell_type": "markdown",
   "metadata": {},
   "source": [
    "### Motor de Tensores"
   ]
  },
  {
   "cell_type": "markdown",
   "metadata": {},
   "source": [
    "* [Tensorflow](https://www.tensorflow.org/)\n",
    "\n",
    "<figure>\n",
    "<img src=\"../Imagenes/tensorflow.png\"  width=\"400\" height=\"300\"/> \n",
    "</figure>\n",
    "\n",
    "* [Keras](https://keras.io/)\n",
    "\n",
    "<figure>\n",
    "<img src=\"../Imagenes/keras.png\"  width=\"400\" height=\"300\"/> \n",
    "</figure>\n",
    "\n",
    "* [Pytorch](https://pytorch.org/)\n",
    "\n",
    "<figure>\n",
    "<img src=\"../Imagenes/pytorch.png\"  width=\"400\" height=\"300\"/> \n",
    "</figure>"
   ]
  },
  {
   "cell_type": "markdown",
   "metadata": {},
   "source": [
    "### Visión Artificial"
   ]
  },
  {
   "cell_type": "markdown",
   "metadata": {},
   "source": [
    "* [OpenCV](https://opencv.org/)\n",
    "\n",
    "<figure>\n",
    "<img src=\"../Imagenes/opencv.png\"  width=\"400\" height=\"300\"/> \n",
    "</figure>"
   ]
  },
  {
   "cell_type": "markdown",
   "metadata": {},
   "source": [
    "### Audio y Música Artificial"
   ]
  },
  {
   "cell_type": "markdown",
   "metadata": {},
   "source": [
    "* [Librosa](https://librosa.org/doc/latest/index.html)\n",
    "\n",
    "<figure>\n",
    "<img src=\"../Imagenes/librosa.png\"  width=\"400\" height=\"300\"/> \n",
    "</figure>"
   ]
  },
  {
   "cell_type": "markdown",
   "metadata": {},
   "source": [
    "### Procesamiento de Lenguaje Natural"
   ]
  },
  {
   "cell_type": "markdown",
   "metadata": {},
   "source": [
    "* [Gensim](https://radimrehurek.com/gensim/)\n",
    "\n",
    "<figure>\n",
    "<img src=\"../Imagenes/gensim.png\"  width=\"400\" height=\"300\"/> \n",
    "</figure>\n",
    "\n",
    "* [NLTK](https://www.nltk.org/)\n",
    "\n",
    "<figure>\n",
    "<img src=\"../Imagenes/nltk.jpg\"  width=\"400\" height=\"300\"/> \n",
    "</figure>\n",
    "\n",
    "* [Spacy](https://spacy.io/)\n",
    "\n",
    "<figure>\n",
    "<img src=\"../Imagenes/spacy.png\"  width=\"400\" height=\"300\"/> \n",
    "</figure>\n",
    "\n",
    "* [Stanza](https://stanfordnlp.github.io/stanza/)\n",
    "\n",
    "<figure>\n",
    "<img src=\"../Imagenes/stanza.png\"  width=\"400\" height=\"300\"/> \n",
    "</figure>"
   ]
  },
  {
   "cell_type": "markdown",
   "metadata": {},
   "source": [
    "### Pronóstico"
   ]
  },
  {
   "cell_type": "markdown",
   "metadata": {},
   "source": [
    "* [Temporal Fusion Transformer (TFT)](https://github.com/google-research/google-research/tree/master/tft)"
   ]
  },
  {
   "cell_type": "markdown",
   "metadata": {},
   "source": [
    "### Aprendizaje Reforzado"
   ]
  },
  {
   "cell_type": "markdown",
   "metadata": {},
   "source": [
    "* [OpenAI Gym](https://gym.openai.com/)\n",
    "\n",
    "<figure>\n",
    "<img src=\"../Imagenes/gym.png\"  width=\"400\" height=\"300\"/> \n",
    "</figure>"
   ]
  },
  {
   "cell_type": "markdown",
   "metadata": {},
   "source": [
    "[[Volver]](#Contenido)"
   ]
  },
  {
   "cell_type": "markdown",
   "metadata": {},
   "source": [
    "## <span style=\"color:blue\">La Localidad y la Nube</span>"
   ]
  },
  {
   "cell_type": "markdown",
   "metadata": {},
   "source": [
    "¿Qué es la Nube?\n",
    "\n",
    "<figure>\n",
    "<img src=\"../Imagenes/nube.jpg\"  width=\"800\" height=\"300\"/> \n",
    "</figure>\n",
    "\n",
    "Fuente: [gvec, What is ‘The Cloud?’](https://www.gvec.net/what-is-the-cloud/)\n",
    "\n",
    "Artículo Importante: [Encrypted Cloud Storage: Why Your Files are Vulnerable to Hacking (And What You Can Do About It)](https://www.virtru.com/blog/cloud-storage-encryption/)\n",
    "\n",
    "[[Volver]](#Contenido)"
   ]
  }
 ],
 "metadata": {
  "kernelspec": {
   "display_name": "Python 3 (ipykernel)",
   "language": "python",
   "name": "python3"
  },
  "language_info": {
   "codemirror_mode": {
    "name": "ipython",
    "version": 3
   },
   "file_extension": ".py",
   "mimetype": "text/x-python",
   "name": "python",
   "nbconvert_exporter": "python",
   "pygments_lexer": "ipython3",
   "version": "3.9.15"
  }
 },
 "nbformat": 4,
 "nbformat_minor": 4
}
