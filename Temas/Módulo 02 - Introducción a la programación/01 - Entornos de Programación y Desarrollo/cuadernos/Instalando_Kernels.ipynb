{
 "cells": [
  {
   "cell_type": "markdown",
   "metadata": {
    "slideshow": {
     "slide_type": "slide"
    },
    "tags": []
   },
   "source": [
    "<figure>\n",
    "<img src=\"../imagenes/logo-final-ap.png\"  width=\"80\" height=\"80\" align=\"left\"/> \n",
    "</figure>\n",
    "\n",
    "# <span style=\"color:#4361EE\"><left>Aprendizaje Profundo</left></span>"
   ]
  },
  {
   "cell_type": "markdown",
   "metadata": {},
   "source": [
    "# <span style=\"color:red\"><center>Diplomado en Inteligencia Artificial y Aprendizaje Profundo</center></span>"
   ]
  },
  {
   "cell_type": "markdown",
   "metadata": {},
   "source": [
    "## <span style=\"color:green\"><center>Entornos de programación, desarrollo local y en la nube<center></span>"
   ]
  },
  {
   "cell_type": "markdown",
   "metadata": {
    "slideshow": {
     "slide_type": "slide"
    },
    "tags": []
   },
   "source": [
    "## <span style=\"color:#4361EE\">Profesores</span>"
   ]
  },
  {
   "cell_type": "markdown",
   "metadata": {},
   "source": [
    "1. Alvaro  Montenegro, PhD, ammontenegrod@unal.edu.co\n",
    "1. Camilo José Torres Jiménez, Msc, cjtorresj@unal.edu.co\n",
    "1. Daniel  Montenegro, Msc, dextronomo@gmail.com "
   ]
  },
  {
   "cell_type": "markdown",
   "metadata": {
    "slideshow": {
     "slide_type": "subslide"
    },
    "tags": []
   },
   "source": [
    "## <span style=\"color:#4361EE\">Asesora Medios y Marketing digital</span>"
   ]
  },
  {
   "cell_type": "markdown",
   "metadata": {},
   "source": [
    "4. Maria del Pilar Montenegro, pmontenegro88@gmail.com\n",
    "5. Jessica López Mejía, jelopezme@unal.edu.co"
   ]
  },
  {
   "cell_type": "markdown",
   "metadata": {
    "slideshow": {
     "slide_type": "subslide"
    },
    "tags": []
   },
   "source": [
    "## <span style=\"color:#4361EE\">Jefe Jurídica</span>"
   ]
  },
  {
   "cell_type": "markdown",
   "metadata": {},
   "source": [
    "6. Paula Andrea Guzmán, guzmancruz.paula@gmail.com"
   ]
  },
  {
   "cell_type": "markdown",
   "metadata": {
    "slideshow": {
     "slide_type": "fragment"
    },
    "tags": []
   },
   "source": [
    "## <span style=\"color:#4361EE\">Coordinador Jurídico</span>"
   ]
  },
  {
   "cell_type": "markdown",
   "metadata": {},
   "source": [
    "7. David Fuentes, fuentesd065@gmail.com"
   ]
  },
  {
   "cell_type": "markdown",
   "metadata": {
    "slideshow": {
     "slide_type": "subslide"
    },
    "tags": []
   },
   "source": [
    "## <span style=\"color:#4361EE\">Desarrolladores Principales</span>"
   ]
  },
  {
   "cell_type": "markdown",
   "metadata": {},
   "source": [
    "8. Dairo Moreno, damoralesj@unal.edu.co\n",
    "9. Joan Castro, jocastroc@unal.edu.co\n",
    "10. Bryan Riveros, briveros@unal.edu.co\n",
    "11. Rosmer Vargas, rovargasc@unal.edu.co\n",
    "12. Venus Puertas, vpuertasg@unal.edu.co"
   ]
  },
  {
   "cell_type": "markdown",
   "metadata": {
    "slideshow": {
     "slide_type": "fragment"
    },
    "tags": []
   },
   "source": [
    "## <span style=\"color:#4361EE\">Expertos en Bases de Datos</span>"
   ]
  },
  {
   "cell_type": "markdown",
   "metadata": {},
   "source": [
    "13. Giovvani Barrera, udgiovanni@gmail.com\n",
    "14. Camilo Chitivo, cchitivo@unal.edu.co"
   ]
  },
  {
   "cell_type": "markdown",
   "metadata": {
    "colab_type": "text",
    "id": "FnbvkSDCE8CZ"
   },
   "source": [
    "## <span style=\"color:#4361EE\"> Utilizando Kernels en JupyterLab </span>\n",
    "\n",
    "¿Alguna vez te has preguntado si sería posible usar las posibilidades de Julia, Python y R en un sólo entorno gráfico estilo Notebook?\n",
    "\n",
    "\n",
    "**<center>¡Es posible!</center>**\n",
    "\n",
    "Para esto es necesario el concepto de Kernel e implementarlo en JupyterLab a través de Anaconda.\n",
    "\n",
    "El Objetivo de este cuaderno será lograr lo que se muestra a continuación cuando se inicialize JupyterLab:\n",
    "\n",
    "<img src=\"https://raw.githubusercontent.com/ucmadcursoPythonyR/2020/master/images/kernels.png\" />"
   ]
  },
  {
   "cell_type": "markdown",
   "metadata": {
    "colab_type": "text",
    "id": "5vVk_9W0E8Ci"
   },
   "source": [
    "### <span style=\"color:#4CC9F0\"> Requisitos: </span>\n",
    "\n",
    "- Descargar e instalar una versión de **R**: Puedes descargar la versión actual de **R** 4.3.2 desde [aquí](https://www.icesi.edu.co/CRAN/). Recuerda tener en cuenta tu sistema operativo para la intalación, encontrarás una versión para [Window](https://www.icesi.edu.co/CRAN/bin/windows/base/R-4.2.3-win.exe), masOS y Linux.\n",
    "- Descargar e instalar una versión de **Julia** (Descarga [aquí](https://julialang-s3.julialang.org/bin/winnt/x64/1.3/julia-1.3.1-win64.exe), versión actual: 1.3.1).\n"
   ]
  },
  {
   "cell_type": "markdown",
   "metadata": {
    "colab_type": "text",
    "id": "Om9KzFLzE8Cp"
   },
   "source": [
    "### <span style=\"color:#4CC9F0\"> Instalación de IR </span>\n",
    "\n",
    "- Para comenzar, iniciamos el **Prompt** de Anaconda como **Administrador**.\n",
    "\n",
    "Ir a la ruta donde se encuentra instalado R.\n",
    "\n",
    "**Ejemplo (Para cada computador, es diferente la ruta):**\n",
    "\n",
    "-  Ejecutar el comando ```\"C:\\Program Files\\R\\R-4.3.2\\bin\\R.exe\"``` en la consola de Anaconda (**note las comillas dobles**)\n",
    "\n",
    "Esto iniciará el motor de R dentro de Anaconda.\n",
    "\n",
    "Ahora vamos a instalar unos paquetes necesarios:\n",
    "\n",
    "-  ```install.packages('IRkernel')```\n",
    "\n",
    "Elegir un mirror (0-Cloud es recomendado).\n",
    "\n",
    "Esto tomará algo de tiempo\n",
    "\n",
    "-  ```update.packages(ask=FALSE)```\n",
    "\n",
    "Esto tomará algo de tiempo.\n",
    "\n",
    "Finalmente, \n",
    "\n",
    "-  ```IRkernel::installspec()```\n",
    "\n",
    "Si todo marcha bien, no aparecerá ningún error.\n",
    "\n",
    "- Lanzar Jupyterlab para verificar la instalación."
   ]
  },
  {
   "cell_type": "markdown",
   "metadata": {
    "colab_type": "text",
    "id": "DCnkhVKiE8Ct"
   },
   "source": [
    "### <span style=\"color:#4CC9F0\"> Instalación de IJulia </span>\n",
    "\n",
    "En este caso, debemos ejecutar Julia, ubicado en la carpeta:\n",
    "\n",
    "```C:\\Users\\Nombre_Usuario\\AppData\\Local\\Julia-1.3.1\\bin\\julia.exe```"
   ]
  },
  {
   "cell_type": "markdown",
   "metadata": {
    "colab_type": "text",
    "id": "DCnkhVKiE8Ct"
   },
   "source": [
    "Dentro de la consola, se ejecutara:\n",
    "\n",
    "- ```using Pkg```\n",
    "- ```Pkg.add(\"IJulia\")```\n",
    "- ```Pkg.build(\"IJulia\")``` (Si el resultado final es false, indica que todo marchó bien)\n",
    "\n",
    "Si todo finaliza bien, no deberá aparecer ningún error."
   ]
  },
  {
   "cell_type": "markdown",
   "metadata": {
    "colab_type": "text",
    "id": "VVGSYrApE8Cy"
   },
   "source": [
    "### <span style=\"color:#4CC9F0\">Lista de kernels instalados</span>\n",
    "\n",
    "La instalación de los kernels de Jupyter atraviesa todos los ambientes de trabajo, así que no hay que instalarlos para cada uno de ellos.\n",
    "\n",
    "Para ver la lista de Kernels instalados, se ejecuta en el Prompt de Anaconda:\n",
    "\n",
    "```jupyter kernelspec list```\n",
    "\n",
    "<img src=\"https://raw.githubusercontent.com/ucmadcursoPythonyR/2020/master/images/kernelspec_list.png?raw=true\" />\n",
    "\n",
    "Hemos terminado, ahora sólo falta arrancar Jupyter e iniciar en nuestro kernel favorito!\n",
    "\n",
    "**Notas:** \n",
    "\n",
    "1. De aquí el nombre **Jupyter**: \n",
    "\n",
    "- **Ju**(Julia)\n",
    "- **Pyt**(Python)\n",
    "- **e**(et)\n",
    "- **r**(R)\n",
    "\n",
    "2. Por supuesto, se pueden instalar muchos otros kernels, por ejemplo GNU Octave (Versión libre de MATLAB), lo único que hay que hacer es seguir las guías online con mucha paciencia.\n",
    "\n",
    "![kernels](http://datahonor-1252464519.costj.myqcloud.com/201803/Screenshot%20from%202018-03-21%2011-22-42.png)\n",
    "![kernels2](https://miro.medium.com/max/3560/1*ENGFiVsAWmc_0NCGAjpzSg.png)\n"
   ]
  },
  {
   "cell_type": "markdown",
   "metadata": {},
   "source": [
    "<figure>\n",
    "<img src=\"../imagenes/logo-final-ap.png\"  width=\"80\" height=\"80\" align=\"right\"/> \n",
    "</figure>"
   ]
  }
 ],
 "metadata": {
  "colab": {
   "collapsed_sections": [],
   "name": "Instalando_Kernels.ipynb",
   "provenance": []
  },
  "kernelspec": {
   "display_name": "Python 3 (ipykernel)",
   "language": "python",
   "name": "python3"
  },
  "language_info": {
   "codemirror_mode": {
    "name": "ipython",
    "version": 3
   },
   "file_extension": ".py",
   "mimetype": "text/x-python",
   "name": "python",
   "nbconvert_exporter": "python",
   "pygments_lexer": "ipython3",
   "version": "3.10.9"
  }
 },
 "nbformat": 4,
 "nbformat_minor": 4
}
