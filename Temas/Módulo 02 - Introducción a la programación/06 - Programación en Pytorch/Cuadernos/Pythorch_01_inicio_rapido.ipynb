{
 "cells": [
  {
   "attachments": {},
   "cell_type": "markdown",
   "id": "c0d9e6f3",
   "metadata": {},
   "source": [
    "<figure>\n",
    "<img src=\"../Imagenes/logo-final-ap.png\"  width=\"80\" height=\"80\" align=\"left\"/> \n",
    "</figure>\n",
    "\n",
    "# <span style=\"color:#4361EE\"><left>Aprendizaje Profundo</left></span>"
   ]
  },
  {
   "attachments": {},
   "cell_type": "markdown",
   "id": "1a311767",
   "metadata": {},
   "source": [
    "# <span style=\"color:red\"><center>Diplomado en Inteligencia Artificial y Aprendizaje Profundo</center></span>"
   ]
  },
  {
   "attachments": {},
   "cell_type": "markdown",
   "id": "diverse-mirror",
   "metadata": {
    "tags": []
   },
   "source": [
    "# <span style=\"color:green\"><center>Inicio Rápido</center></span>"
   ]
  },
  {
   "attachments": {},
   "cell_type": "markdown",
   "id": "f279c67e",
   "metadata": {},
   "source": [
    "<figure>\n",
    "<center>\n",
    "<img src=\"https://raw.githubusercontent.com/AprendizajeProfundo/Alejandria/main/Pytorch/Imagenes/Pytorch_logo.png\" width=\"400\" height=\"100\"/>\n",
    "</center>\n",
    "</figure>\n",
    "\n",
    "\n",
    "Fuente [vector, logo,zone](https://www.vectorlogo.zone/logos/pytorch/index.html)"
   ]
  },
  {
   "attachments": {},
   "cell_type": "markdown",
   "id": "51186889",
   "metadata": {},
   "source": [
    "## <span style=\"color:#4361EE\">Profesores</span>"
   ]
  },
  {
   "attachments": {},
   "cell_type": "markdown",
   "id": "2a8bccfe",
   "metadata": {},
   "source": [
    "1. Alvaro  Montenegro, PhD, ammontenegrod@unal.edu.co\n",
    "1. Camilo José Torres Jiménez, Msc, cjtorresj@unal.edu.co\n",
    "1. Daniel  Montenegro, Msc, dextronomo@gmail.com "
   ]
  },
  {
   "attachments": {},
   "cell_type": "markdown",
   "id": "39aed09c",
   "metadata": {},
   "source": [
    "## <span style=\"color:#4361EE\">Asesora Medios y Marketing digital</span>"
   ]
  },
  {
   "attachments": {},
   "cell_type": "markdown",
   "id": "3b1eb8fb",
   "metadata": {},
   "source": [
    "4. Maria del Pilar Montenegro, pmontenegro88@gmail.com\n",
    "5. Jessica López Mejía, jelopezme@unal.edu.co\n",
    "6. Venus Puertas, vpuertasg@unal.edu.co"
   ]
  },
  {
   "attachments": {},
   "cell_type": "markdown",
   "id": "5bf5048a",
   "metadata": {},
   "source": [
    "## <span style=\"color:#4361EE\">Jefe Jurídica</span>"
   ]
  },
  {
   "attachments": {},
   "cell_type": "markdown",
   "id": "e3795aef",
   "metadata": {},
   "source": [
    "7. Paula Andrea Guzmán, guzmancruz.paula@gmail.com"
   ]
  },
  {
   "attachments": {},
   "cell_type": "markdown",
   "id": "3cbfdaec",
   "metadata": {},
   "source": [
    "## <span style=\"color:#4361EE\">Coordinador Jurídico</span>"
   ]
  },
  {
   "attachments": {},
   "cell_type": "markdown",
   "id": "e4de47a1",
   "metadata": {},
   "source": [
    "8. David Fuentes, fuentesd065@gmail.com"
   ]
  },
  {
   "attachments": {},
   "cell_type": "markdown",
   "id": "f1b19bf8",
   "metadata": {},
   "source": [
    "## <span style=\"color:#4361EE\">Desarrolladores Principales</span>"
   ]
  },
  {
   "attachments": {},
   "cell_type": "markdown",
   "id": "34d1e050",
   "metadata": {},
   "source": [
    "9. Dairo Moreno, damoralesj@unal.edu.co\n",
    "10. Joan Castro, jocastroc@unal.edu.co\n",
    "11. Bryan Riveros, briveros@unal.edu.co\n",
    "12. Rosmer Vargas, rovargasc@unal.edu.co"
   ]
  },
  {
   "attachments": {},
   "cell_type": "markdown",
   "id": "243f84c6",
   "metadata": {},
   "source": [
    "## <span style=\"color:#4361EE\">Expertos en Bases de Datos</span>"
   ]
  },
  {
   "attachments": {},
   "cell_type": "markdown",
   "id": "9d2aab27",
   "metadata": {},
   "source": [
    "13. Giovvani Barrera, udgiovanni@gmail.com\n",
    "14. Camilo Chitivo, cchitivo@unal.edu.co"
   ]
  },
  {
   "attachments": {},
   "cell_type": "markdown",
   "id": "young-turning",
   "metadata": {},
   "source": [
    "## <span style=\"color:#4361EE\">Referencias</span> "
   ]
  },
  {
   "attachments": {},
   "cell_type": "markdown",
   "id": "educational-underwear",
   "metadata": {},
   "source": [
    "1. Basado en los [tutoriales de Pytorch](https://pytorch.org/tutorials/)\n",
    "1. [Deep learning for coders with FastAI and Pytorch](http://library.lol/main/F13E85845AE48D9FD7488FE7630A9FD3)"
   ]
  },
  {
   "attachments": {},
   "cell_type": "markdown",
   "id": "radical-proxy",
   "metadata": {},
   "source": [
    "## <span style=\"color:#4361EE\">Contenido</span>"
   ]
  },
  {
   "attachments": {},
   "cell_type": "markdown",
   "id": "functional-garden",
   "metadata": {},
   "source": [
    "* [Introducción](#Introducción)\n",
    "* [Trabajando con datos](#Trabajando-con-datos)\n",
    "* [Creando modelos](#Creando-modelos)\n",
    "* [Función de pérdida y optimizador](#Función-de-pérdida-y-optimizador)\n",
    "* [Entrenamiento y validación](#Entrenamiento-y-validación)\n",
    "* [Guardando y recuperando el modelo](#Guardando-y-recuperando-el-modelo)\n",
    "* [Predicción](#Predicción)"
   ]
  },
  {
   "attachments": {},
   "cell_type": "markdown",
   "id": "placed-attachment",
   "metadata": {},
   "source": [
    "## <span style=\"color:#4361EE\">Introducción</span>"
   ]
  },
  {
   "attachments": {},
   "cell_type": "markdown",
   "id": "golden-storage",
   "metadata": {},
   "source": [
    "En esta lección construimos nuestra primera red neuronal con Pytorch. Usamos el famoso ejemplo [fashion mnist](https://www.kaggle.com/zalando-research/fashionmnist). En este caso tomaremos los datos directamente de la librería `torchvision`."
   ]
  },
  {
   "attachments": {},
   "cell_type": "markdown",
   "id": "assisted-smell",
   "metadata": {},
   "source": [
    "### <span style=\"color:#4CC9F0\">Instalar Pytorch</span>"
   ]
  },
  {
   "attachments": {},
   "cell_type": "markdown",
   "id": "joint-contemporary",
   "metadata": {},
   "source": [
    "En consola ejecute el siguiente comando. "
   ]
  },
  {
   "cell_type": "code",
   "execution_count": 1,
   "id": "sharing-empire",
   "metadata": {},
   "outputs": [],
   "source": [
    "#conda install -c pytorch pytorch"
   ]
  },
  {
   "attachments": {},
   "cell_type": "markdown",
   "id": "continuing-probe",
   "metadata": {
    "tags": []
   },
   "source": [
    "## <span style=\"color:#4361EE\">Trabajando con datos</span>"
   ]
  },
  {
   "attachments": {},
   "cell_type": "markdown",
   "id": "superior-acoustic",
   "metadata": {},
   "source": [
    "PyTorch tiene dos primitivas para trabajar con datos: `torch.utils.data.DataLoader` y `torch.utils.data.Dataset`. *Dataset* almacena las muestras y sus etiquetas correspondientes, y *DataLoader* envuelve un iterable alrededor de *Dataset*."
   ]
  },
  {
   "cell_type": "code",
   "execution_count": 2,
   "id": "norman-thinking",
   "metadata": {},
   "outputs": [],
   "source": [
    "import torch\n",
    "from torch import nn\n",
    "from torch.utils.data import DataLoader\n",
    "from torchvision import datasets\n",
    "from torchvision.transforms import ToTensor, Lambda, Compose\n",
    "\n",
    "import matplotlib.pyplot as plt\n",
    "import numpy as np\n",
    "\n",
    "from torch.nn import Flatten, Sequential, Linear, ReLU"
   ]
  },
  {
   "attachments": {},
   "cell_type": "markdown",
   "id": "liable-nudist",
   "metadata": {},
   "source": [
    "PyTorch ofrece bibliotecas específicas de dominio como `TorchText`, `TorchVision` y `TorchAudio`, todas las cuales incluyen conjuntos de datos. Para este tutorial, usaremos un conjunto de datos de `TorchVision`.\n",
    "\n",
    "El módulo `torchvision.datasets` contiene objetos de conjunto de datos para muchos datos de visión del mundo real como CIFAR, COCO ([lista completa aquí](https://pytorch.org/vision/stable/datasets.html)). En este tutorial, usamos el conjunto de datos FashionMNIST. Cada conjunto de datos de TorchVision incluye dos argumentos: *transform* y *target_transform* para modificar las muestras y las etiquetas respectivamente.\n",
    "\n",
    "En el siguiente fragmento de código se leen los datos para entrenamiento y test. Si aún no se han bajado los datos, Pytorch lo hace por esta única ocasión. La próxima vez los leerá de la carpeta interna 'data'. El parámetro *transform* permite convertir los datos a un formato específico. En este caso a tensores de Torch.\n"
   ]
  },
  {
   "cell_type": "code",
   "execution_count": 3,
   "id": "local-buffer",
   "metadata": {},
   "outputs": [],
   "source": [
    "# Baja los datos de entrenamiento de open datasets.\n",
    "training_data = datasets.FashionMNIST(\n",
    "    root=\"data\",\n",
    "    train=True,\n",
    "    download=True,\n",
    "    transform=ToTensor(),\n",
    ")\n",
    "\n",
    "# Baja los datos test data de open datasets.\n",
    "test_data = datasets.FashionMNIST(\n",
    "    root=\"data\",\n",
    "    train=False,\n",
    "    download=True,\n",
    "    transform=ToTensor(),\n",
    ")"
   ]
  },
  {
   "attachments": {},
   "cell_type": "markdown",
   "id": "peaceful-subscription",
   "metadata": {},
   "source": [
    "Pasamos el *Dataset* como un parámetro para `DataLoader`\n",
    "Esto envuelve un iterable sobre nuestro conjunto de datos y admite procesamiento por lotes, muestreo, barajado y carga de datos multiproceso automáticos. Aquí definimos un tamaño de lote de 64, es decir, cada elemento en el cargador de datos iterable devolverá un lote de 64 imágenes con sus etiquetas."
   ]
  },
  {
   "attachments": {},
   "cell_type": "markdown",
   "id": "southwest-issue",
   "metadata": {},
   "source": [
    "### Una primera imagen de los datos"
   ]
  },
  {
   "cell_type": "code",
   "execution_count": 4,
   "id": "opposite-cooking",
   "metadata": {},
   "outputs": [
    {
     "data": {
      "image/png": "[encoded data removed]",
      "text/plain": [
       "<Figure size 576x576 with 20 Axes>"
      ]
     },
     "metadata": {
      "needs_background": "light"
     },
     "output_type": "display_data"
    }
   ],
   "source": [
    "labels_map = {0 : 'T-Shirt', 1 : 'Trouser', 2 : 'Pullover', 3 : 'Dress', 4 : 'Coat', 5 : 'Sandal', 6 : 'Shirt',\n",
    "              7 : 'Sneaker', 8 : 'Bag', 9 : 'Ankle Boot'};\n",
    "fig = plt.figure(figsize=(8,8));\n",
    "columns = 4;\n",
    "rows = 5;\n",
    "for i in range(1, columns*rows +1):\n",
    "    img_xy = np.random.randint(len(training_data));\n",
    "    img = training_data[img_xy][0][0,:,:]\n",
    "    fig.add_subplot(rows, columns, i)\n",
    "    plt.title(labels_map[training_data[img_xy][1]])\n",
    "    plt.axis('off')\n",
    "    plt.imshow(img, cmap='gray')\n",
    "plt.show()"
   ]
  },
  {
   "cell_type": "code",
   "execution_count": 5,
   "id": "selective-academy",
   "metadata": {},
   "outputs": [
    {
     "name": "stdout",
     "output_type": "stream",
     "text": [
      "60000\n",
      "X[N, C, H, W]:  torch.Size([64, 1, 28, 28])\n",
      "Shape of y:  torch.Size([64]) torch.int64\n"
     ]
    }
   ],
   "source": [
    "batch_size = 64\n",
    "\n",
    "#crea data loaders\n",
    "train_dataloader = DataLoader(training_data, batch_size=batch_size)\n",
    "test_dataloader = DataLoader(test_data, batch_size=batch_size)\n",
    "\n",
    "print(len(train_dataloader.dataset))\n",
    "\n",
    "for X, y in test_dataloader:\n",
    "    print('X[N, C, H, W]: ', X.shape)\n",
    "    print('Shape of y: ', y.shape, y.dtype)\n",
    "    break"
   ]
  },
  {
   "attachments": {},
   "cell_type": "markdown",
   "id": "integral-impact",
   "metadata": {},
   "source": [
    "## <span style=\"color:#4361EE\">Creando modelos</span>"
   ]
  },
  {
   "attachments": {},
   "cell_type": "markdown",
   "id": "exempt-taxation",
   "metadata": {},
   "source": [
    "Para definir una red neuronal en PyTorch, creamos una clase que hereda de nn.Module. Definimos las capas de la red en la función __init__ y especificamos cómo pasarán los datos a través de la red en la función de reenvío. Para acelerar las operaciones en la red neuronal, lo trasladamos a la GPU si está disponible."
   ]
  },
  {
   "cell_type": "code",
   "execution_count": 6,
   "id": "biological-generator",
   "metadata": {},
   "outputs": [
    {
     "name": "stdout",
     "output_type": "stream",
     "text": [
      "using cuda device\n",
      "NeuralNetwork(\n",
      "  (flatten): Flatten(start_dim=1, end_dim=-1)\n",
      "  (linear_relu_stack): Sequential(\n",
      "    (0): Linear(in_features=784, out_features=512, bias=True)\n",
      "    (1): ReLU()\n",
      "    (2): Linear(in_features=512, out_features=512, bias=True)\n",
      "    (3): ReLU()\n",
      "    (4): Linear(in_features=512, out_features=10, bias=True)\n",
      "    (5): ReLU()\n",
      "  )\n",
      ")\n"
     ]
    }
   ],
   "source": [
    "# Obtiene gpu o cpu device para el entrenamiento\n",
    "device = 'cuda' if torch.cuda.is_available() else 'cpu'\n",
    "print('using {} device'.format(device))\n",
    "\n",
    "# define model\n",
    "class NeuralNetwork(nn.Module):\n",
    "    def __init__(self):\n",
    "        super(NeuralNetwork, self).__init__()\n",
    "        self.flatten = Flatten()\n",
    "        self.linear_relu_stack = Sequential(\n",
    "            Linear(28*28, 512),\n",
    "            ReLU(),\n",
    "            Linear(512, 512),\n",
    "            ReLU(),\n",
    "            Linear(512, 10),\n",
    "            ReLU()\n",
    "        )\n",
    "        \n",
    "    # la función forward es la que define la estructura de la red\n",
    "    # en este ejemplo aceptamos solo una entrada, pero si lo desea,\n",
    "    # siéntete libre de usar más\n",
    "    def forward(self, x):\n",
    "        x = self.flatten(x)\n",
    "        logits = self.linear_relu_stack(x)\n",
    "        return logits\n",
    "\n",
    "model = NeuralNetwork().to(device)\n",
    "print(model)"
   ]
  },
  {
   "attachments": {},
   "cell_type": "markdown",
   "id": "buried-matthew",
   "metadata": {},
   "source": [
    "### <span style=\"color:#4CC9F0\">Nota</span>"
   ]
  },
  {
   "attachments": {},
   "cell_type": "markdown",
   "id": "incredible-operations",
   "metadata": {},
   "source": [
    "Cuando se invoca model, automáticamente se ejecuta la función *\\_\\_call\\_\\_* de la clase. En Pytorch la clase `nn.Module` de la cual derivamos  nuestra clase llama internamente a la función *forward*, que nosotros debemos sobrecargar (escribir para definir nuestro modelo), como puede verificar [aquí](https://github.com/pytorch/pytorch/blob/472be69a736c0b2aece4883be9f8b18e2f3dfbbd/torch/nn/modules/module.py#L487)."
   ]
  },
  {
   "attachments": {},
   "cell_type": "markdown",
   "id": "brutal-johnston",
   "metadata": {},
   "source": [
    "## <span style=\"color:#4361EE\">Función de pérdida y optimizador</span>"
   ]
  },
  {
   "attachments": {},
   "cell_type": "markdown",
   "id": "collectible-roommate",
   "metadata": {},
   "source": [
    "### <span style=\"color:#4CC9F0\">Función de pérdida y optimizador</span>"
   ]
  },
  {
   "cell_type": "code",
   "execution_count": 7,
   "id": "falling-director",
   "metadata": {},
   "outputs": [],
   "source": [
    "loss_fn = nn.CrossEntropyLoss()\n",
    "optimizer = torch.optim.SGD(model.parameters(), lr=1e-3)"
   ]
  },
  {
   "attachments": {},
   "cell_type": "markdown",
   "id": "seventh-function",
   "metadata": {},
   "source": [
    "### <span style=\"color:#4CC9F0\">Función de entrenamiento</span>"
   ]
  },
  {
   "cell_type": "code",
   "execution_count": 8,
   "id": "another-swimming",
   "metadata": {},
   "outputs": [],
   "source": [
    "def train(dataloader, model, loss_fn, optimizer): \n",
    "    size = len(dataloader.dataset)\n",
    "    for batch, (X,y) in enumerate(dataloader):\n",
    "        X, y = X.to(device), y.to(device)\n",
    "        \n",
    "        # Calcula error de predicción\n",
    "        pred = model(X)\n",
    "        loss = loss_fn(pred, y)\n",
    "        \n",
    "        # Backpropagation\n",
    "        optimizer.zero_grad() # coloca el gradiente en cero\n",
    "        loss.backward() # Calcula el gradiente a lo largo de la red de forma aditiva\n",
    "        optimizer.step() # ejecuta el paso del SDG\n",
    "        \n",
    "        if batch % 100 == 0:\n",
    "            loss, current = loss.item(), batch*len(X)\n",
    "            print(f'loss: {loss:>7f} [{current:5d}/{size:>5d}]')\n",
    "            "
   ]
  },
  {
   "attachments": {},
   "cell_type": "markdown",
   "id": "studied-beverage",
   "metadata": {},
   "source": [
    "### <span style=\"color:#4CC9F0\">Función Prueba (testeo) del modelo</span>"
   ]
  },
  {
   "cell_type": "code",
   "execution_count": 9,
   "id": "challenging-patent",
   "metadata": {},
   "outputs": [],
   "source": [
    "def test(dataloader, model, loss_fn):\n",
    "    size = len(dataloader.dataset)\n",
    "    num_batches = len(dataloader)\n",
    "    model.eval() # le indica la modelo que trabajará en modo inferencia (no entrenamiento)\n",
    "    test_loss, correct = 0, 0\n",
    "    with torch.no_grad():\n",
    "        for X, y in dataloader:\n",
    "            X, y = X.to(device), y.to(device)\n",
    "            pred = model(X)\n",
    "            test_loss += loss_fn(pred,y).item()\n",
    "            correct += (pred.argmax(1)==y).type(torch.float).sum().item()\n",
    "    test_loss /= num_batches\n",
    "    correct /= size\n",
    "    print(f\"Test Error: \\n Accuracy: {(100*correct):>0.1f}%, Avg loss: {test_loss:>8f} \\n\")\n",
    "    "
   ]
  },
  {
   "attachments": {},
   "cell_type": "markdown",
   "id": "protective-future",
   "metadata": {},
   "source": [
    "## <span style=\"color:#4361EE\">Entrenamiento y validación</span>"
   ]
  },
  {
   "cell_type": "code",
   "execution_count": 10,
   "id": "orange-devon",
   "metadata": {},
   "outputs": [
    {
     "name": "stdout",
     "output_type": "stream",
     "text": [
      "Epoch 1\n",
      "-------------------------------\n",
      "loss: 2.285522 [    0/60000]\n",
      "loss: 2.280279 [ 6400/60000]\n",
      "loss: 2.263509 [12800/60000]\n",
      "loss: 2.268744 [19200/60000]\n",
      "loss: 2.248342 [25600/60000]\n",
      "loss: 2.232760 [32000/60000]\n",
      "loss: 2.240030 [38400/60000]\n",
      "loss: 2.221206 [44800/60000]\n",
      "loss: 2.199224 [51200/60000]\n",
      "loss: 2.184863 [57600/60000]\n",
      "Test Error: \n",
      " Accuracy: 48.4%, Avg loss: 2.183980 \n",
      "\n",
      "Epoch 2\n",
      "-------------------------------\n",
      "loss: 2.184389 [    0/60000]\n",
      "loss: 2.165789 [ 6400/60000]\n",
      "loss: 2.129183 [12800/60000]\n",
      "loss: 2.146619 [19200/60000]\n",
      "loss: 2.081985 [25600/60000]\n",
      "loss: 2.084094 [32000/60000]\n",
      "loss: 2.097883 [38400/60000]\n",
      "loss: 2.062155 [44800/60000]\n",
      "loss: 2.033438 [51200/60000]\n",
      "loss: 1.989616 [57600/60000]\n",
      "Test Error: \n",
      " Accuracy: 54.9%, Avg loss: 1.991167 \n",
      "\n",
      "Epoch 3\n",
      "-------------------------------\n",
      "loss: 2.013783 [    0/60000]\n",
      "loss: 1.958215 [ 6400/60000]\n",
      "loss: 1.891863 [12800/60000]\n",
      "loss: 1.926011 [19200/60000]\n",
      "loss: 1.800138 [25600/60000]\n",
      "loss: 1.849781 [32000/60000]\n",
      "loss: 1.856910 [38400/60000]\n",
      "loss: 1.820356 [44800/60000]\n",
      "loss: 1.786992 [51200/60000]\n",
      "loss: 1.701179 [57600/60000]\n",
      "Test Error: \n",
      " Accuracy: 59.3%, Avg loss: 1.718830 \n",
      "\n",
      "Epoch 4\n",
      "-------------------------------\n",
      "loss: 1.783162 [    0/60000]\n",
      "loss: 1.686044 [ 6400/60000]\n",
      "loss: 1.604226 [12800/60000]\n",
      "loss: 1.648248 [19200/60000]\n",
      "loss: 1.496272 [25600/60000]\n",
      "loss: 1.627563 [32000/60000]\n",
      "loss: 1.603204 [38400/60000]\n",
      "loss: 1.610094 [44800/60000]\n",
      "loss: 1.556299 [51200/60000]\n",
      "loss: 1.445002 [57600/60000]\n",
      "Test Error: \n",
      " Accuracy: 60.5%, Avg loss: 1.485018 \n",
      "\n",
      "Epoch 5\n",
      "-------------------------------\n",
      "loss: 1.581590 [    0/60000]\n",
      "loss: 1.464585 [ 6400/60000]\n",
      "loss: 1.379375 [12800/60000]\n",
      "loss: 1.435195 [19200/60000]\n",
      "loss: 1.273880 [25600/60000]\n",
      "loss: 1.469211 [32000/60000]\n",
      "loss: 1.420279 [38400/60000]\n",
      "loss: 1.466656 [44800/60000]\n",
      "loss: 1.392548 [51200/60000]\n",
      "loss: 1.282341 [57600/60000]\n",
      "Test Error: \n",
      " Accuracy: 61.6%, Avg loss: 1.326279 \n",
      "\n"
     ]
    }
   ],
   "source": [
    "epochs = 5\n",
    "for t in range(epochs):\n",
    "    print(f\"Epoch {t+1}\\n-------------------------------\")\n",
    "    train(train_dataloader, model, loss_fn, optimizer)\n",
    "    test(test_dataloader, model, loss_fn)"
   ]
  },
  {
   "attachments": {},
   "cell_type": "markdown",
   "id": "third-bacteria",
   "metadata": {},
   "source": [
    "## <span style=\"color:#4361EE\">Guardando y recuperando el modelo</span>\n"
   ]
  },
  {
   "attachments": {},
   "cell_type": "markdown",
   "id": "varied-canberra",
   "metadata": {},
   "source": [
    "### <span style=\"color:#4CC9F0\">Guardar el modelo</span>"
   ]
  },
  {
   "cell_type": "code",
   "execution_count": 11,
   "id": "exposed-cancer",
   "metadata": {},
   "outputs": [
    {
     "name": "stdout",
     "output_type": "stream",
     "text": [
      " Modelo Pytorch guardado:  ../Checkpoints/Model_0\n"
     ]
    }
   ],
   "source": [
    "path = '../Checkpoints/Model_0'\n",
    "torch.save(model.state_dict(), path)\n",
    "print(' Modelo Pytorch guardado: ', path)"
   ]
  },
  {
   "attachments": {},
   "cell_type": "markdown",
   "id": "solar-corner",
   "metadata": {},
   "source": [
    "### <span style=\"color:#4CC9F0\">Carga el modelo</span>"
   ]
  },
  {
   "cell_type": "code",
   "execution_count": 12,
   "id": "together-actor",
   "metadata": {},
   "outputs": [
    {
     "data": {
      "text/plain": [
       "<All keys matched successfully>"
      ]
     },
     "execution_count": 12,
     "metadata": {},
     "output_type": "execute_result"
    }
   ],
   "source": [
    "model = NeuralNetwork()\n",
    "model.load_state_dict(torch.load(path))"
   ]
  },
  {
   "attachments": {},
   "cell_type": "markdown",
   "id": "realistic-globe",
   "metadata": {},
   "source": [
    "## <span style=\"color:#4361EE\">Predicción</span>"
   ]
  },
  {
   "cell_type": "code",
   "execution_count": 13,
   "id": "specified-latino",
   "metadata": {},
   "outputs": [
    {
     "name": "stdout",
     "output_type": "stream",
     "text": [
      "Predicted: \"Ankle boot\", Actual: \"Ankle boot\"\n"
     ]
    }
   ],
   "source": [
    "classes = [\n",
    "    \"T-shirt/top\",\n",
    "    \"Trouser\",\n",
    "    \"Pullover\",\n",
    "    \"Dress\",\n",
    "    \"Coat\",\n",
    "    \"Sandal\",\n",
    "    \"Shirt\",\n",
    "    \"Sneaker\",\n",
    "    \"Bag\",\n",
    "    \"Ankle boot\",\n",
    "]\n",
    "\n",
    "model.eval()\n",
    "x,y = test_data[0][0], test_data[0][1]\n",
    "with torch.no_grad():\n",
    "    pred = model(x)\n",
    "    predicted, actual = classes[pred[0].argmax(0)], classes[y]\n",
    "    print(f'Predicted: \"{predicted}\", Actual: \"{actual}\"')\n",
    "    "
   ]
  }
 ],
 "metadata": {
  "kernelspec": {
   "display_name": "Python 3 (ipykernel)",
   "language": "python",
   "name": "python3"
  },
  "language_info": {
   "codemirror_mode": {
    "name": "ipython",
    "version": 3
   },
   "file_extension": ".py",
   "mimetype": "text/x-python",
   "name": "python",
   "nbconvert_exporter": "python",
   "pygments_lexer": "ipython3",
   "version": "3.10.6"
  }
 },
 "nbformat": 4,
 "nbformat_minor": 5
}
