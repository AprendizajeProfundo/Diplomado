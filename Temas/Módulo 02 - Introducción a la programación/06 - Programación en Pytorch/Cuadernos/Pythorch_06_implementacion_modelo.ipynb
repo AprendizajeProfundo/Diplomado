{
 "cells": [
  {
   "cell_type": "markdown",
   "id": "e7d21351",
   "metadata": {},
   "source": [
    "<figure>\n",
    "<img src=\"../Imagenes/logo-final-ap.png\"  width=\"80\" height=\"80\" align=\"left\"/> \n",
    "</figure>\n",
    "\n",
    "# <span style=\"color:#4361EE\"><left>Aprendizaje Profundo</left></span>"
   ]
  },
  {
   "cell_type": "markdown",
   "id": "f00c8a05",
   "metadata": {},
   "source": [
    "# <span style=\"color:red\"><center>Diplomado en Inteligencia Artificial y Aprendizaje Profundo</center></span>"
   ]
  },
  {
   "cell_type": "markdown",
   "id": "literary-provider",
   "metadata": {
    "tags": []
   },
   "source": [
    "# <span style=\"color:green\"><center>Optimización con torch</center></span>"
   ]
  },
  {
   "cell_type": "markdown",
   "id": "a011bea4",
   "metadata": {},
   "source": [
    "<figure>\n",
    "<center>\n",
    "<img src=\"https://raw.githubusercontent.com/AprendizajeProfundo/Alejandria/main/Pytorch/Imagenes/640px-Ackley.gif\" width=\"600\" height=\"400\" align=\"center\" /> \n",
    "</center>   \n",
    "</figure>\n",
    "<center>\n",
    "\n",
    "Fuente: <a href=\"https://commons.wikimedia.org/wiki/File:Ackley.gif\">Pablormier</a>, <a href=\"https://creativecommons.org/licenses/by-sa/4.0\">CC BY-SA 4.0</a>, via Wikimedia Commons\n",
    "\n",
    "</center>\n"
   ]
  },
  {
   "cell_type": "markdown",
   "id": "18dab00f",
   "metadata": {},
   "source": [
    "## <span style=\"color:#4361EE\">Profesores</span>"
   ]
  },
  {
   "cell_type": "markdown",
   "id": "c25da648",
   "metadata": {},
   "source": [
    "1. Alvaro  Montenegro, PhD, ammontenegrod@unal.edu.co\n",
    "1. Camilo José Torres Jiménez, Msc, cjtorresj@unal.edu.co\n",
    "1. Daniel  Montenegro, Msc, dextronomo@gmail.com "
   ]
  },
  {
   "cell_type": "markdown",
   "id": "e335667b",
   "metadata": {},
   "source": [
    "## <span style=\"color:#4361EE\">Asesora Medios y Marketing digital</span>"
   ]
  },
  {
   "cell_type": "markdown",
   "id": "189590aa",
   "metadata": {},
   "source": [
    "4. Maria del Pilar Montenegro, pmontenegro88@gmail.com\n",
    "5. Jessica López Mejía, jelopezme@unal.edu.co\n",
    "6. Venus Puertas, vpuertasg@unal.edu.co"
   ]
  },
  {
   "cell_type": "markdown",
   "id": "e9fbfcc0",
   "metadata": {},
   "source": [
    "## <span style=\"color:#4361EE\">Jefe Jurídica</span>"
   ]
  },
  {
   "cell_type": "markdown",
   "id": "cc16833c",
   "metadata": {},
   "source": [
    "7. Paula Andrea Guzmán, guzmancruz.paula@gmail.com"
   ]
  },
  {
   "cell_type": "markdown",
   "id": "a8faa6d2",
   "metadata": {},
   "source": [
    "## <span style=\"color:#4361EE\">Coordinador Jurídico</span>"
   ]
  },
  {
   "cell_type": "markdown",
   "id": "e276a001",
   "metadata": {},
   "source": [
    "8. David Fuentes, fuentesd065@gmail.com"
   ]
  },
  {
   "cell_type": "markdown",
   "id": "f9adb131",
   "metadata": {},
   "source": [
    "## <span style=\"color:#4361EE\">Desarrolladores Principales</span>"
   ]
  },
  {
   "cell_type": "markdown",
   "id": "a76cacd0",
   "metadata": {},
   "source": [
    "9. Dairo Moreno, damoralesj@unal.edu.co\n",
    "10. Joan Castro, jocastroc@unal.edu.co\n",
    "11. Bryan Riveros, briveros@unal.edu.co\n",
    "12. Rosmer Vargas, rovargasc@unal.edu.co"
   ]
  },
  {
   "cell_type": "markdown",
   "id": "48378e30",
   "metadata": {},
   "source": [
    "## <span style=\"color:#4361EE\">Expertos en Bases de Datos</span>"
   ]
  },
  {
   "cell_type": "markdown",
   "id": "433ad29f",
   "metadata": {},
   "source": [
    "13. Giovvani Barrera, udgiovanni@gmail.com\n",
    "14. Camilo Chitivo, cchitivo@unal.edu.co"
   ]
  },
  {
   "cell_type": "markdown",
   "id": "naked-cream",
   "metadata": {},
   "source": [
    "## <span style=\"color:#4361EE\">Referencias</span> "
   ]
  },
  {
   "cell_type": "markdown",
   "id": "intermediate-wedding",
   "metadata": {},
   "source": [
    "1. Basado en los [tutoriales de Pytorch](https://pytorch.org/tutorials/)\n",
    "1. [Deep learning for coders with FastAI and Pytorch](http://library.lol/main/F13E85845AE48D9FD7488FE7630A9FD3)"
   ]
  },
  {
   "cell_type": "markdown",
   "id": "matched-summary",
   "metadata": {},
   "source": [
    "## <span style=\"color:#4361EE\">Contenido</span>"
   ]
  },
  {
   "cell_type": "markdown",
   "id": "announced-baptist",
   "metadata": {},
   "source": [
    "* [Introducción](#Introducción)\n",
    "* [Implementación completa](#Implementación-completa)"
   ]
  },
  {
   "cell_type": "markdown",
   "id": "adequate-tuesday",
   "metadata": {},
   "source": [
    "## <span style=\"color:#4361EE\">Introducción</span>"
   ]
  },
  {
   "cell_type": "markdown",
   "id": "coral-latvia",
   "metadata": {},
   "source": [
    "Ahora que tenemos un modelo y datos, es hora de entrenar, validar y probar nuestro modelo optimizando sus parámetros en nuestros datos. \n",
    "\n",
    "Entrenar un modelo es un proceso iterativo; en cada iteración (llamada época) el modelo hace una suposición sobre la salida, calcula el error en su suposición (pérdida), recopila las derivadas del error con respecto a sus parámetros (como vimos en la sección anterior) y optimiza estos parámetros usando el descenso de gradiente."
   ]
  },
  {
   "cell_type": "markdown",
   "id": "universal-continent",
   "metadata": {},
   "source": [
    "## <span style=\"color:#4361EE\">Implementación completa</span>"
   ]
  },
  {
   "cell_type": "code",
   "execution_count": 7,
   "id": "changed-luther",
   "metadata": {
    "tags": []
   },
   "outputs": [
    {
     "name": "stdout",
     "output_type": "stream",
     "text": [
      "Epoch 1\n",
      " -------------------------\n",
      "loss: 2.302077 [    0/60000]\n",
      "loss: 2.293578 [ 6400/60000]\n",
      "loss: 2.280898 [12800/60000]\n",
      "loss: 2.279155 [19200/60000]\n",
      "loss: 2.279212 [25600/60000]\n",
      "loss: 2.259783 [32000/60000]\n",
      "loss: 2.269913 [38400/60000]\n",
      "loss: 2.245747 [44800/60000]\n",
      "loss: 2.227474 [51200/60000]\n",
      "loss: 2.234341 [57600/60000]\n",
      "Test Error: \n",
      " Accuracy: 39.3%, Avg loss: 2.215173 \n",
      "\n",
      "Epoch 2\n",
      " -------------------------\n",
      "loss: 2.218927 [    0/60000]\n",
      "loss: 2.222214 [ 6400/60000]\n",
      "loss: 2.180345 [12800/60000]\n",
      "loss: 2.191199 [19200/60000]\n",
      "loss: 2.192312 [25600/60000]\n",
      "loss: 2.150163 [32000/60000]\n",
      "loss: 2.181568 [38400/60000]\n",
      "loss: 2.129241 [44800/60000]\n",
      "loss: 2.094830 [51200/60000]\n",
      "loss: 2.123156 [57600/60000]\n",
      "Test Error: \n",
      " Accuracy: 43.1%, Avg loss: 2.079706 \n",
      "\n",
      "Epoch 3\n",
      " -------------------------\n",
      "loss: 2.089074 [    0/60000]\n",
      "loss: 2.102744 [ 6400/60000]\n",
      "loss: 2.014038 [12800/60000]\n",
      "loss: 2.042661 [19200/60000]\n",
      "loss: 2.049178 [25600/60000]\n",
      "loss: 1.984765 [32000/60000]\n",
      "loss: 2.032662 [38400/60000]\n",
      "loss: 1.944956 [44800/60000]\n",
      "loss: 1.891004 [51200/60000]\n",
      "loss: 1.962746 [57600/60000]\n",
      "Test Error: \n",
      " Accuracy: 46.4%, Avg loss: 1.879337 \n",
      "\n",
      "Epoch 4\n",
      " -------------------------\n",
      "loss: 1.895067 [    0/60000]\n",
      "loss: 1.920050 [ 6400/60000]\n",
      "loss: 1.780741 [12800/60000]\n",
      "loss: 1.846442 [19200/60000]\n",
      "loss: 1.871308 [25600/60000]\n",
      "loss: 1.791506 [32000/60000]\n",
      "loss: 1.864252 [38400/60000]\n",
      "loss: 1.749596 [44800/60000]\n",
      "loss: 1.689656 [51200/60000]\n",
      "loss: 1.810896 [57600/60000]\n",
      "Test Error: \n",
      " Accuracy: 50.1%, Avg loss: 1.691135 \n",
      "\n",
      "Epoch 5\n",
      " -------------------------\n",
      "loss: 1.709964 [    0/60000]\n",
      "loss: 1.746140 [ 6400/60000]\n",
      "loss: 1.574811 [12800/60000]\n",
      "loss: 1.684936 [19200/60000]\n",
      "loss: 1.729971 [25600/60000]\n",
      "loss: 1.638668 [32000/60000]\n",
      "loss: 1.744168 [38400/60000]\n",
      "loss: 1.611641 [44800/60000]\n",
      "loss: 1.547691 [51200/60000]\n",
      "loss: 1.707241 [57600/60000]\n",
      "Test Error: \n",
      " Accuracy: 53.3%, Avg loss: 1.559335 \n",
      "\n",
      "Epoch 6\n",
      " -------------------------\n",
      "loss: 1.578101 [    0/60000]\n",
      "loss: 1.622788 [ 6400/60000]\n",
      "loss: 1.428956 [12800/60000]\n",
      "loss: 1.567708 [19200/60000]\n",
      "loss: 1.629269 [25600/60000]\n",
      "loss: 1.527423 [32000/60000]\n",
      "loss: 1.658869 [38400/60000]\n",
      "loss: 1.491121 [44800/60000]\n",
      "loss: 1.432106 [51200/60000]\n",
      "loss: 1.577900 [57600/60000]\n",
      "Test Error: \n",
      " Accuracy: 55.8%, Avg loss: 1.403614 \n",
      "\n",
      "Epoch 7\n",
      " -------------------------\n",
      "loss: 1.424527 [    0/60000]\n",
      "loss: 1.448540 [ 6400/60000]\n",
      "loss: 1.203662 [12800/60000]\n",
      "loss: 1.414065 [19200/60000]\n",
      "loss: 1.345493 [25600/60000]\n",
      "loss: 1.262163 [32000/60000]\n",
      "loss: 1.490085 [38400/60000]\n",
      "loss: 1.262612 [44800/60000]\n",
      "loss: 1.329942 [51200/60000]\n",
      "loss: 1.462866 [57600/60000]\n",
      "Test Error: \n",
      " Accuracy: 61.7%, Avg loss: 1.254129 \n",
      "\n",
      "Epoch 8\n",
      " -------------------------\n",
      "loss: 1.274130 [    0/60000]\n",
      "loss: 1.296741 [ 6400/60000]\n",
      "loss: 1.039484 [12800/60000]\n",
      "loss: 1.310653 [19200/60000]\n",
      "loss: 1.198603 [25600/60000]\n",
      "loss: 1.136947 [32000/60000]\n",
      "loss: 1.416179 [38400/60000]\n",
      "loss: 1.170865 [44800/60000]\n",
      "loss: 1.261269 [51200/60000]\n",
      "loss: 1.408394 [57600/60000]\n",
      "Test Error: \n",
      " Accuracy: 62.8%, Avg loss: 1.174758 \n",
      "\n",
      "Epoch 9\n",
      " -------------------------\n",
      "loss: 1.187201 [    0/60000]\n",
      "loss: 1.216389 [ 6400/60000]\n",
      "loss: 0.947557 [12800/60000]\n",
      "loss: 1.242236 [19200/60000]\n",
      "loss: 1.113312 [25600/60000]\n",
      "loss: 1.062811 [32000/60000]\n",
      "loss: 1.363549 [38400/60000]\n",
      "loss: 1.117592 [44800/60000]\n",
      "loss: 1.209840 [51200/60000]\n",
      "loss: 1.361848 [57600/60000]\n",
      "Test Error: \n",
      " Accuracy: 64.1%, Avg loss: 1.119451 \n",
      "\n",
      "Epoch 10\n",
      " -------------------------\n",
      "loss: 1.121398 [    0/60000]\n",
      "loss: 1.161398 [ 6400/60000]\n",
      "loss: 0.884428 [12800/60000]\n",
      "loss: 1.191347 [19200/60000]\n",
      "loss: 1.053069 [25600/60000]\n",
      "loss: 1.009083 [32000/60000]\n",
      "loss: 1.318201 [38400/60000]\n",
      "loss: 1.081608 [44800/60000]\n",
      "loss: 1.169947 [51200/60000]\n",
      "loss: 1.321060 [57600/60000]\n",
      "Test Error: \n",
      " Accuracy: 64.9%, Avg loss: 1.077402 \n",
      "\n",
      "Done!\n"
     ]
    }
   ],
   "source": [
    "import torch\n",
    "from torch import nn\n",
    "from torch.utils.data import DataLoader\n",
    "from torchvision import datasets\n",
    "from torchvision.transforms import ToTensor, Lambda\n",
    "\n",
    "# datos\n",
    "training_data = datasets.FashionMNIST(\n",
    "    root='data',\n",
    "    train=True,\n",
    "    download=True,\n",
    "    transform=ToTensor()\n",
    ")\n",
    "\n",
    "test_data = datasets.FashionMNIST(\n",
    "    root='data',\n",
    "    train=False,\n",
    "    download=True,\n",
    "    transform=ToTensor()\n",
    ")\n",
    "\n",
    "train_dataloader = DataLoader(training_data, batch_size=64)\n",
    "test_dataloader = DataLoader(test_data, batch_size=64)\n",
    "\n",
    "# modelo\n",
    "class NeuralNetwork(nn.Module):\n",
    "    def __init__(self):\n",
    "        super(NeuralNetwork, self).__init__()\n",
    "        self.flatten = nn.Flatten()\n",
    "        self.linear_relu_stack = nn.Sequential(\n",
    "            nn.Linear(28*28, 512),\n",
    "            nn.ReLU(),\n",
    "            nn.Linear(512, 512),\n",
    "            nn.ReLU(),\n",
    "            nn.Linear(512, 10),\n",
    "            nn.ReLU()\n",
    "        )\n",
    "    \n",
    "    def forward(self, x):\n",
    "        x = self.flatten(x)\n",
    "        logits = self.linear_relu_stack(x)\n",
    "        return logits\n",
    "\n",
    "model = NeuralNetwork()\n",
    "\n",
    "# hiperparámetros\n",
    "learning_rate = 1e-3\n",
    "batch_size = 64\n",
    "epochs = 5\n",
    "\n",
    "# loop de entrenamiento\n",
    "\n",
    "# función de pérdida\n",
    "loss_fn = nn.CrossEntropyLoss()\n",
    "\n",
    "# Optimizador\n",
    "optimizer = torch.optim.SGD(model.parameters(), lr=learning_rate)\n",
    "\n",
    "# función de entrenamiento\n",
    "def train_loop(dataloader, model, loss_fn, optimizer):\n",
    "    size = len(dataloader.dataset)\n",
    "    for batch, datos in enumerate(dataloader):\n",
    "        X, y = datos\n",
    "        # calcula predicción y pérdida\n",
    "        pred = model(X)\n",
    "        loss = loss_fn(pred, y)\n",
    "        \n",
    "        # backpropagation\n",
    "        optimizer.zero_grad()# por defecto el calculodel gradiente es acumulativo\n",
    "        loss.backward() # clacula y acumula los gradientes\n",
    "        optimizer.step()# paso de optimización x += grad\n",
    "        \n",
    "        if batch % 100 == 0:\n",
    "            loss, current = loss.item(), batch * len(X)\n",
    "            print(f'loss: {loss:>7f} [{current:>5d}/{size:>5d}]')\n",
    "\n",
    "# función de validación\n",
    "def test_loop(testloader, model, loss_fn):\n",
    "    size = len(testloader.dataset)\n",
    "    num_batches = len(testloader)\n",
    "    test_loss, correct = 0, 0\n",
    "    \n",
    "    with torch.no_grad():\n",
    "        for X, y in testloader:\n",
    "            pred = model(X)\n",
    "            test_loss += loss_fn(pred, y).item()\n",
    "            correct += (pred.argmax(1)==y).type(torch.float).sum().item()\n",
    "    \n",
    "    test_loss /= num_batches\n",
    "    correct /= size\n",
    "    print(f\"Test Error: \\n Accuracy: {(100*correct):>0.1f}%, Avg loss: {test_loss:>8f} \\n\")\n",
    "\n",
    "# ciclo de entrenamiento\n",
    "epochs = 10\n",
    "for t in range(epochs):\n",
    "    print(f'Epoch {t+1}\\n -------------------------')\n",
    "    train_loop(train_dataloader, model, loss_fn, optimizer)\n",
    "    test_loop(test_dataloader, model, loss_fn)\n",
    "print('Done!')\n"
   ]
  }
 ],
 "metadata": {
  "kernelspec": {
   "display_name": "Python 3 (ipykernel)",
   "language": "python",
   "name": "python3"
  },
  "language_info": {
   "codemirror_mode": {
    "name": "ipython",
    "version": 3
   },
   "file_extension": ".py",
   "mimetype": "text/x-python",
   "name": "python",
   "nbconvert_exporter": "python",
   "pygments_lexer": "ipython3",
   "version": "3.10.6"
  }
 },
 "nbformat": 4,
 "nbformat_minor": 5
}
