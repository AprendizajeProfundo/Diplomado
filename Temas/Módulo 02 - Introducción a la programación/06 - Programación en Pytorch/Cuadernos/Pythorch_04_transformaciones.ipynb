{
 "cells": [
  {
   "cell_type": "markdown",
   "id": "846d2760",
   "metadata": {},
   "source": [
    "<figure>\n",
    "<img src=\"../Imagenes/logo-final-ap.png\"  width=\"80\" height=\"80\" align=\"left\"/> \n",
    "</figure>\n",
    "\n",
    "# <span style=\"color:#4361EE\"><left>Aprendizaje Profundo</left></span>"
   ]
  },
  {
   "cell_type": "markdown",
   "id": "36b1714f",
   "metadata": {},
   "source": [
    "# <span style=\"color:red\"><center>Diplomado en Inteligencia Artificial y Aprendizaje Profundo</center></span>"
   ]
  },
  {
   "cell_type": "markdown",
   "id": "ahead-abuse",
   "metadata": {
    "tags": []
   },
   "source": [
    "# <span style=\"color:green\"><center>Transforms</center></span>"
   ]
  },
  {
   "cell_type": "markdown",
   "id": "5118173d",
   "metadata": {},
   "source": [
    "<figure>\n",
    "<center>\n",
    "<img src=\"https://raw.githubusercontent.com/AprendizajeProfundo/Alejandria/main/Archivos_Generales/Imagenes/Robot.jpg\" width=\"600\" height=\"400\" align=\"center\" /> \n",
    "</center>   \n",
    "</figure>\n",
    "<center>\n",
    "\n",
    "Fuente: [Pexels Alex Knight](https://www.pexels.com/es-es/foto/foto-de-alto-angulo-del-robot-2599244/)\n",
    "\n",
    "</center>"
   ]
  },
  {
   "cell_type": "markdown",
   "id": "0550d999",
   "metadata": {},
   "source": [
    "## <span style=\"color:#4361EE\">Profesores</span>"
   ]
  },
  {
   "cell_type": "markdown",
   "id": "80440db5",
   "metadata": {},
   "source": [
    "1. Alvaro  Montenegro, PhD, ammontenegrod@unal.edu.co\n",
    "1. Camilo José Torres Jiménez, Msc, cjtorresj@unal.edu.co\n",
    "1. Daniel  Montenegro, Msc, dextronomo@gmail.com "
   ]
  },
  {
   "cell_type": "markdown",
   "id": "0c9cdf3a",
   "metadata": {},
   "source": [
    "## <span style=\"color:#4361EE\">Asesora Medios y Marketing digital</span>"
   ]
  },
  {
   "cell_type": "markdown",
   "id": "fa341c44",
   "metadata": {},
   "source": [
    "4. Maria del Pilar Montenegro, pmontenegro88@gmail.com\n",
    "5. Jessica López Mejía, jelopezme@unal.edu.co\n",
    "6. Venus Puertas, vpuertasg@unal.edu.co"
   ]
  },
  {
   "cell_type": "markdown",
   "id": "70ad8889",
   "metadata": {},
   "source": [
    "## <span style=\"color:#4361EE\">Jefe Jurídica</span>"
   ]
  },
  {
   "cell_type": "markdown",
   "id": "77105787",
   "metadata": {},
   "source": [
    "7. Paula Andrea Guzmán, guzmancruz.paula@gmail.com"
   ]
  },
  {
   "cell_type": "markdown",
   "id": "825dd85b",
   "metadata": {},
   "source": [
    "## <span style=\"color:#4361EE\">Coordinador Jurídico</span>"
   ]
  },
  {
   "cell_type": "markdown",
   "id": "8d28332e",
   "metadata": {},
   "source": [
    "8. David Fuentes, fuentesd065@gmail.com"
   ]
  },
  {
   "cell_type": "markdown",
   "id": "a76deacf",
   "metadata": {},
   "source": [
    "## <span style=\"color:#4361EE\">Desarrolladores Principales</span>"
   ]
  },
  {
   "cell_type": "markdown",
   "id": "9209c7b2",
   "metadata": {},
   "source": [
    "9. Dairo Moreno, damoralesj@unal.edu.co\n",
    "10. Joan Castro, jocastroc@unal.edu.co\n",
    "11. Bryan Riveros, briveros@unal.edu.co\n",
    "12. Rosmer Vargas, rovargasc@unal.edu.co"
   ]
  },
  {
   "cell_type": "markdown",
   "id": "a6f31cfb",
   "metadata": {},
   "source": [
    "## <span style=\"color:#4361EE\">Expertos en Bases de Datos</span>"
   ]
  },
  {
   "cell_type": "markdown",
   "id": "6730dc42",
   "metadata": {},
   "source": [
    "13. Giovvani Barrera, udgiovanni@gmail.com\n",
    "14. Camilo Chitivo, cchitivo@unal.edu.co"
   ]
  },
  {
   "cell_type": "markdown",
   "id": "unlimited-testament",
   "metadata": {},
   "source": [
    "## <span style=\"color:#4361EE\">Referencias</span> "
   ]
  },
  {
   "cell_type": "markdown",
   "id": "every-powell",
   "metadata": {},
   "source": [
    "1. Basado en los [tutoriales de Pytorch](https://pytorch.org/tutorials/)\n",
    "1. [Deep learning for coders with FastAI and Pytorch](http://library.lol/main/F13E85845AE48D9FD7488FE7630A9FD3)"
   ]
  },
  {
   "cell_type": "markdown",
   "id": "practical-dress",
   "metadata": {},
   "source": [
    "## <span style=\"color:#4361EE\">Contenido</span>"
   ]
  },
  {
   "cell_type": "markdown",
   "id": "amateur-embassy",
   "metadata": {},
   "source": [
    "* [Introducción](#Introducción)\n",
    "* [Carga de un Dataset](#Carga-de-un-Dataset)\n",
    "* [Transformaciones](#Transformaciones)"
   ]
  },
  {
   "cell_type": "markdown",
   "id": "coordinate-bowling",
   "metadata": {},
   "source": [
    "## <span style=\"color:#4361EE\">Introducción</span>"
   ]
  },
  {
   "cell_type": "markdown",
   "id": "received-breast",
   "metadata": {},
   "source": [
    "Los datos no siempre vienen en su forma procesada final que se requiere para entrenar algoritmos de aprendizaje automático. Usamos transformaciones para realizar alguna manipulación de los datos y hacerlos aptos para el entrenamiento.\n",
    "\n",
    "Todos los conjuntos de datos de TorchVision tienen dos parámetros *transform* para modificar las características y *target_transform* para modificar las etiquetas- que aceptan llamadas que contienen la lógica de transformación. El módulo *torchvision.transforms* ofrece varias transformaciones de uso común listas para usar."
   ]
  },
  {
   "cell_type": "markdown",
   "id": "related-ladder",
   "metadata": {},
   "source": [
    "## <span style=\"color:#4361EE\">Carga de un Dataset</span>"
   ]
  },
  {
   "cell_type": "code",
   "execution_count": 1,
   "id": "bright-tuition",
   "metadata": {},
   "outputs": [],
   "source": [
    "import torch\n",
    "from torchvision import datasets\n",
    "from torchvision.transforms import ToTensor, Lambda"
   ]
  },
  {
   "cell_type": "markdown",
   "id": "owned-danger",
   "metadata": {},
   "source": [
    "## <span style=\"color:#4361EE\">Transformaciones</span>\n",
    "\n",
    " "
   ]
  },
  {
   "cell_type": "markdown",
   "id": "abstract-engine",
   "metadata": {},
   "source": [
    "### <span style=\"color:#4CC9F0\">ToTensor()</span>"
   ]
  },
  {
   "cell_type": "markdown",
   "id": "distinguished-belgium",
   "metadata": {},
   "source": [
    "`ToTensor` convierte una imagen PIL o NumPy ndarray en un FloatTensor. y escala los valores de intensidad de píxeles de la imagen en el rango [0., 1.]."
   ]
  },
  {
   "cell_type": "markdown",
   "id": "committed-butterfly",
   "metadata": {},
   "source": [
    "### <span style=\"color:#4CC9F0\">Transformaciones Lambda</span>"
   ]
  },
  {
   "cell_type": "markdown",
   "id": "faced-composite",
   "metadata": {},
   "source": [
    "Las transformaciones `Lambda` aplican cualquier función *lambda* definida por el usuario. Aquí, definimos una función para convertir el número entero en un tensor codificado en caliente. Primero crea un tensor cero de tamaño 10 (el número de etiquetas en nuestro conjunto de datos) y llama a `scatter_`, que asigna un valor = 1 en el índice indicado por la etiqueta `y`."
   ]
  },
  {
   "cell_type": "code",
   "execution_count": 2,
   "id": "distinct-customs",
   "metadata": {},
   "outputs": [],
   "source": [
    "ds = datasets.FashionMNIST(\n",
    "    root=\"data\",\n",
    "    train=True,\n",
    "    download=True,\n",
    "    transform=ToTensor(),\n",
    "    target_transform=Lambda(lambda y: torch.zeros(10, dtype=torch.float).scatter_(0, torch.tensor(y), value=1))\n",
    ")"
   ]
  },
  {
   "cell_type": "code",
   "execution_count": 3,
   "id": "cf0877c3-2c68-42a2-82cb-5525e49e3502",
   "metadata": {},
   "outputs": [
    {
     "data": {
      "image/png": "[encoded data removed]",
      "text/plain": [
       "<Figure size 576x576 with 9 Axes>"
      ]
     },
     "metadata": {
      "needs_background": "light"
     },
     "output_type": "display_data"
    }
   ],
   "source": [
    "import matplotlib.pyplot as plt\n",
    "figure = plt.figure(figsize=(8,8))\n",
    "cols, rows = 3,3\n",
    "for i in range(1, cols*rows+1):\n",
    "    sample_idx = torch.randint(len(ds), size =(1,)).item()\n",
    "    img, label = ds[sample_idx]\n",
    "    figure.add_subplot(rows, cols, i)\n",
    "    plt.title(label, fontsize=7)\n",
    "    plt.axis('off')\n",
    "    plt.imshow(img.squeeze(), cmap='gray')\n",
    "plt.show()"
   ]
  }
 ],
 "metadata": {
  "kernelspec": {
   "display_name": "Python 3 (ipykernel)",
   "language": "python",
   "name": "python3"
  },
  "language_info": {
   "codemirror_mode": {
    "name": "ipython",
    "version": 3
   },
   "file_extension": ".py",
   "mimetype": "text/x-python",
   "name": "python",
   "nbconvert_exporter": "python",
   "pygments_lexer": "ipython3",
   "version": "3.10.6"
  }
 },
 "nbformat": 4,
 "nbformat_minor": 5
}
