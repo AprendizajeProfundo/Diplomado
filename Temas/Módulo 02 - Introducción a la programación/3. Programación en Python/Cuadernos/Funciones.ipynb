{
 "cells": [
  {
   "cell_type": "markdown",
   "metadata": {},
   "source": [
    "# Funciones en Python\n",
    "\n",
    "Para entender funciones en Python (Paquetes dentro de módulos de Python), debemos pensar en actos reales para poder hacer una **analogía** en el ambiente de programación.\n",
    "\n",
    "Imagínese cuando se levanta.\n",
    "\n",
    "Lo que ocurre primero, es que uno se siente vivo, se abren los ojos (no siempre), se hace pereza un rato, se levanta de la cama y luego se incia el día (cada persona tiene sus maneras diferentes de lograrlo).\n",
    "\n",
    "Esta serie de **pasos consecutivos** conforman lo que se llama una **función**.\n",
    "\n",
    "En el común, una **función es en realidad una acción** o una serie de acciones que gneran un resultado a través de un proceso intermedio.\n",
    "\n",
    "Para poder distinguir funciones, unas de otras, se le dan dotado de nombres diferentes.\n",
    "\n",
    "Por ejemplo, la función antes descrita podría nombrarse como **Levantarse**:\n",
    "\n",
    "Está función se compone de los siguientes pasos:\n",
    "\n",
    "1. **Sentirse vivo.**\n",
    "2. **Abrir los ojos.**\n",
    "3. **Hacer pereza.**\n",
    "4. **Levantarse.**\n",
    "\n",
    "En el lenguaje de promgramación, ésto se podría escribir como\n",
    "\n",
    "```Levantarse(x)```\n",
    "\n",
    "donde $x$ representa el individuo que hace la acción y los paréntesis significan que se habla de una función, y por lo tanto, **no se confunde** con una variable.\n",
    "\n",
    "**Ejemplo:**\n",
    "\n",
    "Función ```CortarManzana(x)```:\n",
    "\n",
    "Esta función se puede ilustrar dela siguiente manera:\n",
    "\n",
    "\n",
    "![Manzanita](https://photos1.blogger.com/blogger/1290/1572/1600/Apple_slicing_function.png)\n",
    "\n",
    "Como podemos ver, una función es realmente es una **\"Caja Negra\"**:\n",
    "\n",
    "La podemos usar, sin importar qué hay dentro de ella.\n",
    "\n",
    "Ya hemos visto algunas **funciones básicas** de Python (Built-in):\n",
    "\n",
    "- ```print()```\n",
    "- ```len()```\n",
    "- ```list()```\n",
    "\n",
    "En [este link](https://docs.python.org/3/library/functions.html), se encuentra un manual de todas las funciones **básicas** de Python.\n",
    "\n",
    "Veamos algunas de ellas:\n",
    "\n",
    "**Ejercicio**\n",
    "\n",
    "Viendo la entra y salida dl código, infiera qué hace la función correspondiente:"
   ]
  },
  {
   "cell_type": "code",
   "execution_count": null,
   "metadata": {},
   "outputs": [],
   "source": [
    "# Your Code Here\n",
    "x = -5\n",
    "y = abs(x)\n",
    "print(\"\\nx =\", x)\n",
    "print(\"y = \", y,\"\\n\")\n",
    "\n",
    "# Your Code Here\n",
    "\n",
    "d = dict({\"Saludo\": \"Hola\", \"Despido\": \"Adiós\", \"Palabra\": \"Extraño\"})\n",
    "print(\"Dicionario: \",d,\"\\n\")\n",
    "\n",
    "# Suma\n",
    "v = [1,2,3,4,5,6]\n",
    "s = sum(v)\n",
    "print(\"resultado:\", s,\"\\n\")\n",
    "\n",
    "# Your Code Here\n",
    "\n",
    "a1=max(v)\n",
    "a2=min(v)\n",
    "\n",
    "print(\"a1:\",a1,\", a2:\",a2)"
   ]
  },
  {
   "cell_type": "markdown",
   "metadata": {},
   "source": [
    "# Parámetros y Variables en Funciones:\n",
    "\n",
    "Las funciones pueden tener uno o más parámetros asociados.\n",
    "\n",
    "Por ejemplo la función $f(x,y,z)=w$, recibe los argumentos $x,y,z$ y produce el resultado $w$.\n",
    "\n",
    "**Ejemplo:**"
   ]
  },
  {
   "cell_type": "code",
   "execution_count": null,
   "metadata": {},
   "outputs": [],
   "source": [
    "# Comente adecuadamente las siguientes líneas de código\n",
    "\n",
    "import numpy as np\n",
    "import matplotlib.pyplot as plt\n",
    "\n",
    "x=np.linspace(0,2*np.pi,30)\n",
    "y=np.sin(x)\n",
    "\n",
    "print(\"x=\\n\",x,\"\\n\")\n",
    "print(\"y=\\n\",y,\"\\n\")\n",
    "plt.plot(x,y)\n",
    "plt.show()"
   ]
  },
  {
   "cell_type": "markdown",
   "metadata": {},
   "source": [
    "**Ejercicio:**\n",
    "\n",
    "1. Investigue las funciones y atributos internos de matplotlib para hacer una matriz 3x1 que contengan:\n",
    "\n",
    "- Una función matemática.\n",
    "- Una foto.\n",
    "- Una esfera con puntos aleatorios en su frontera.\n",
    "\n",
    "2. Investigue sobre 5 funciones de Python que acepten al menos 3 parámetros.\n",
    "\n",
    "3. Use la libreria ```pandas``` para hacer gráficos útiles sobre el ```Predio_206.csv```."
   ]
  },
  {
   "cell_type": "markdown",
   "metadata": {},
   "source": [
    "# Creación de Funciones\n",
    "\n",
    "También es posible crear funciones para generar rutinas específicas.\n",
    "\n",
    "Hay dos maneras de generar funciones en Python:\n",
    "\n",
    "1. **def**\n",
    "2. **lambda**\n",
    "\n",
    "**Ejemplo:**"
   ]
  },
  {
   "cell_type": "code",
   "execution_count": null,
   "metadata": {},
   "outputs": [],
   "source": [
    "# Explicar las siguientes líneas de código\n",
    "def mysum_prod(x,y):\n",
    "    s=x+y\n",
    "    p=x*y\n",
    "    return s,p"
   ]
  },
  {
   "cell_type": "code",
   "execution_count": null,
   "metadata": {},
   "outputs": [],
   "source": [
    "suma, prod = mysum_prod(3,4)\n",
    "print(\"El suma es:\", suma)\n",
    "print(\"El producto es:\", prod)"
   ]
  },
  {
   "cell_type": "code",
   "execution_count": null,
   "metadata": {},
   "outputs": [],
   "source": [
    "#  Use la función correspodiente de forma inteligente\n",
    "def mysum_prod(x,y):\n",
    "    s=x+y\n",
    "    p=x*y\n",
    "    return [s,p]"
   ]
  },
  {
   "cell_type": "code",
   "execution_count": null,
   "metadata": {},
   "outputs": [],
   "source": [
    "# Explique qué diferencias hay entre éste método y el anterior\n",
    "\n",
    "sumita = lambda arg1,arg2: arg1+arg2\n",
    "\n",
    "a=6\n",
    "b=65\n",
    "s = sumita(a,b)\n",
    "print(\"la suma es:\", s)"
   ]
  },
  {
   "cell_type": "markdown",
   "metadata": {},
   "source": [
    "### ¿Cuál es la diferencia y utilidad de la función lambda?\n",
    "\n",
    "**Pista:**"
   ]
  },
  {
   "cell_type": "code",
   "execution_count": null,
   "metadata": {},
   "outputs": [],
   "source": [
    "# Explicar adecuadamente\n",
    "\n",
    "def myfunc(n):\n",
    "    return lambda a : a * n \n",
    "\n",
    "\n",
    "mydoubler = myfunc(2)\n",
    "#print(mydoubler)\n",
    "print(mydoubler(11))"
   ]
  }
 ],
 "metadata": {
  "kernelspec": {
   "display_name": "Python 3",
   "language": "python",
   "name": "python3"
  },
  "language_info": {
   "codemirror_mode": {
    "name": "ipython",
    "version": 3
   },
   "file_extension": ".py",
   "mimetype": "text/x-python",
   "name": "python",
   "nbconvert_exporter": "python",
   "pygments_lexer": "ipython3",
   "version": "3.7.6"
  }
 },
 "nbformat": 4,
 "nbformat_minor": 4
}
