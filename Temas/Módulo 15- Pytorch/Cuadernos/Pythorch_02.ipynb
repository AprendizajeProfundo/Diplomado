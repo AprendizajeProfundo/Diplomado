{
 "cells": [
  {
   "cell_type": "markdown",
   "id": "b4b67704-b90c-4972-9a06-e77d2df5d8d9",
   "metadata": {
    "tags": []
   },
   "source": [
    "<figure>\n",
    "<img src=\"../Imagenes/logo-final-ap.png\"  width=\"80\" height=\"80\" align=\"left\"/> \n",
    "</figure>\n",
    "\n",
    "# <span style=\"color:blue\"><left>Aprendizaje Profundo</left></span>"
   ]
  },
  {
   "cell_type": "markdown",
   "id": "d45e679f-311a-4cbc-8a73-2781d022d31c",
   "metadata": {
    "tags": []
   },
   "source": [
    "# <span style=\"color:red\"><center>Pytorch</center></span>"
   ]
  },
  {
   "cell_type": "markdown",
   "id": "272ac5fd-f121-40bd-9f03-100e8f021593",
   "metadata": {},
   "source": [
    "<center>Tensores</center>"
   ]
  },
  {
   "cell_type": "markdown",
   "id": "2ae94eb3-c187-4817-86c6-1bf16c3a8eb4",
   "metadata": {},
   "source": [
    "##   <span style=\"color:blue\">Autores</span>"
   ]
  },
  {
   "cell_type": "markdown",
   "id": "62501236-c78c-4622-90d5-e54b384986a0",
   "metadata": {},
   "source": [
    "1. Alvaro Mauricio Montenegro Díaz, ammontenegrod@unal.edu.co\n",
    "2. Daniel Mauricio Montenegro Reyes, dextronomo@gmail.com "
   ]
  },
  {
   "cell_type": "markdown",
   "id": "553a5cb9-13e7-400e-abe1-05e4cfbd1d68",
   "metadata": {},
   "source": [
    "##   <span style=\"color:blue\">Diseño gráfico y Marketing digital</span>\n",
    " "
   ]
  },
  {
   "cell_type": "markdown",
   "id": "66e8ce5a-a021-443c-b630-3d89441d222b",
   "metadata": {},
   "source": [
    "1. Maria del Pilar Montenegro Reyes, pmontenegro88@gmail.com "
   ]
  },
  {
   "cell_type": "markdown",
   "id": "db2034a8-1948-4d79-be17-802e4a0b1bad",
   "metadata": {},
   "source": [
    "## <span style=\"color:blue\">Asistentes</span>"
   ]
  },
  {
   "cell_type": "markdown",
   "id": "9160b8f4-2c02-44d8-bc58-05d1c419f316",
   "metadata": {},
   "source": []
  },
  {
   "cell_type": "markdown",
   "id": "2bc6f02f-a4c3-4793-a3b8-539c5c8d2a06",
   "metadata": {},
   "source": [
    "## <span style=\"color:blue\">Referencias</span> "
   ]
  },
  {
   "cell_type": "markdown",
   "id": "0d3f5375-4755-4a3e-aeb0-baf86a2acda1",
   "metadata": {},
   "source": []
  },
  {
   "cell_type": "markdown",
   "id": "a99e3f7b-fbdd-468f-84cf-d62033d07341",
   "metadata": {},
   "source": [
    "## <span style=\"color:blue\">Contenido</span>"
   ]
  },
  {
   "cell_type": "markdown",
   "id": "a309907e-ae9a-4550-9b55-60dff181ed54",
   "metadata": {},
   "source": [
    "* [Introducción](#Introducción)\n",
    "* [Pipeline de HuggingFace](#Pipeline-de-HuggingFace)"
   ]
  },
  {
   "cell_type": "markdown",
   "id": "64ab6ba0-f3d0-4b3f-b897-3c2e3bea1c9d",
   "metadata": {},
   "source": [
    "## <span style=\"color:blue\">Introducción</span>"
   ]
  },
  {
   "cell_type": "markdown",
   "id": "c928d1f1-1f06-4660-a28e-9346b6c7cea5",
   "metadata": {},
   "source": [
    "Los tensores son similares a los ndarrays de `NumPy`, excepto que los tensores pueden ejecutarse en GPU u otros aceleradores de hardware. De hecho, los tensores y las matrices NumPy a menudo pueden compartir la misma memoria subyacente, lo que elimina la necesidad de copiar datos (consulte [Puente con NumPy](https://pytorch.org/tutorials/beginner/blitz/tensor_tutorial.html#bridge-to-np-label)). Los tensores también están optimizados para la diferenciación automática."
   ]
  },
  {
   "cell_type": "markdown",
   "id": "44ed2454-ab8b-4d53-b4c4-586ae89cf899",
   "metadata": {},
   "source": [
    "## <span style=\"color:blue\">Inicializa un Tensor</span>"
   ]
  },
  {
   "cell_type": "code",
   "execution_count": 1,
   "id": "0bfaa3d6-a03f-445f-a216-b8fe40b21a41",
   "metadata": {},
   "outputs": [],
   "source": [
    "import torch\n",
    "import numpy as np"
   ]
  },
  {
   "cell_type": "markdown",
   "id": "9d863ec8-ba15-4416-828c-0fecf7f8982a",
   "metadata": {},
   "source": [
    "### Directamente de los datos"
   ]
  },
  {
   "cell_type": "code",
   "execution_count": 3,
   "id": "6868e674-f51e-416a-a3b6-152c2fb63240",
   "metadata": {},
   "outputs": [
    {
     "data": {
      "text/plain": [
       "tensor([[1, 2],\n",
       "        [3, 4]])"
      ]
     },
     "execution_count": 3,
     "metadata": {},
     "output_type": "execute_result"
    }
   ],
   "source": [
    "data = [[1, 2], [3, 4]]\n",
    "x_data = torch.tensor(data)\n",
    "x_data"
   ]
  },
  {
   "cell_type": "markdown",
   "id": "0ca011a5-72a1-4aaf-98b2-104d1f097d8e",
   "metadata": {},
   "source": [
    "### A partir de arreglos Numpy"
   ]
  },
  {
   "cell_type": "code",
   "execution_count": 5,
   "id": "58016690-98ff-4a37-beaf-4729e4b1877f",
   "metadata": {},
   "outputs": [
    {
     "data": {
      "text/plain": [
       "tensor([[1, 2],\n",
       "        [3, 4]])"
      ]
     },
     "execution_count": 5,
     "metadata": {},
     "output_type": "execute_result"
    }
   ],
   "source": [
    "np_array = np.array(data)\n",
    "\n",
    "x_np = torch.from_numpy(np_array)\n",
    "x_np"
   ]
  },
  {
   "cell_type": "markdown",
   "id": "7e88e0f3-d4f1-446c-b9ac-182277f64dcb",
   "metadata": {},
   "source": [
    "Desde otro tensor"
   ]
  },
  {
   "cell_type": "code",
   "execution_count": 6,
   "id": "7bdd8cb0-cbe5-41b1-a10f-de71a09d8915",
   "metadata": {},
   "outputs": [
    {
     "name": "stdout",
     "output_type": "stream",
     "text": [
      "Ones Tensor: \n",
      " tensor([[1, 1],\n",
      "        [1, 1]]) \n",
      "\n",
      "Random Tensor: \n",
      " tensor([[0.4066, 0.7579],\n",
      "        [0.3395, 0.9102]]) \n",
      "\n"
     ]
    }
   ],
   "source": [
    "x_ones = torch.ones_like(x_data) # retiene las propiedades de x_data\n",
    "print(f\"Ones Tensor: \\n {x_ones} \\n\")\n",
    "\n",
    "x_rand = torch.rand_like(x_data, dtype=torch.float)# sobre escribe le tipo de dato\n",
    "print(f\"Random Tensor: \\n {x_rand} \\n\")"
   ]
  },
  {
   "cell_type": "markdown",
   "id": "6d68aa4d-0a61-464d-bdf4-f379125de87c",
   "metadata": {},
   "source": [
    "### Con valores aleatorios y constantes"
   ]
  },
  {
   "cell_type": "code",
   "execution_count": 7,
   "id": "6f8b4488-6ebf-4e92-9f2b-c67cca7d5891",
   "metadata": {},
   "outputs": [
    {
     "name": "stdout",
     "output_type": "stream",
     "text": [
      "Random Tensor: \n",
      " tensor([[0.0905, 0.0560, 0.5916],\n",
      "        [0.9554, 0.1435, 0.0046]]) \n",
      "\n",
      "Ones Tensor: \n",
      " tensor([[1., 1., 1.],\n",
      "        [1., 1., 1.]]) \n",
      "\n",
      "Zeros Tensor: \n",
      " tensor([[0., 0., 0.],\n",
      "        [0., 0., 0.]])\n"
     ]
    }
   ],
   "source": [
    "shape = (2,3,)\n",
    "rand_tensor = torch.rand(shape)\n",
    "ones_tensor = torch.ones(shape)\n",
    "zeros_tensor = torch.zeros(shape)\n",
    "\n",
    "print(f\"Random Tensor: \\n {rand_tensor} \\n\")\n",
    "print(f\"Ones Tensor: \\n {ones_tensor} \\n\")\n",
    "print(f\"Zeros Tensor: \\n {zeros_tensor}\")"
   ]
  },
  {
   "cell_type": "code",
   "execution_count": 8,
   "id": "c90a0146-c84a-4feb-9310-ba3a377ab154",
   "metadata": {},
   "outputs": [
    {
     "name": "stdout",
     "output_type": "stream",
     "text": [
      "Shape of tensor: torch.Size([3, 4])\n",
      "Datatype of tensor: torch.float32\n",
      "Device tensor is stored on: cpu\n"
     ]
    }
   ],
   "source": [
    "tensor = torch.rand(3,4)\n",
    "\n",
    "print(f\"Shape of tensor: {tensor.shape}\")\n",
    "print(f\"Datatype of tensor: {tensor.dtype}\")\n",
    "print(f\"Device tensor is stored on: {tensor.device}\")"
   ]
  },
  {
   "cell_type": "markdown",
   "id": "cc1d703e-81d5-450c-b80f-3ea88b206d2a",
   "metadata": {},
   "source": [
    "## <span style=\"color:blue\">Operaciones sobre Tensores</span>"
   ]
  },
  {
   "cell_type": "code",
   "execution_count": null,
   "id": "19447ba7-1dee-4dd5-ad75-33eb01c689dd",
   "metadata": {},
   "outputs": [],
   "source": [
    "# Movemos nuestro tensor a la GPU si está disponible\n",
    "if torch.cuda.is_available():\n",
    "    tensor.to('cuda')"
   ]
  },
  {
   "cell_type": "markdown",
   "id": "ccd65a4b-82d7-48c4-bc29-b590a123d4b6",
   "metadata": {},
   "source": [
    "### Indexación y rebanado(slicing) al estilo  numpy"
   ]
  },
  {
   "cell_type": "code",
   "execution_count": 9,
   "id": "4df5a794-e7dd-467a-a4f5-39e34137e784",
   "metadata": {},
   "outputs": [
    {
     "name": "stdout",
     "output_type": "stream",
     "text": [
      "First row:  tensor([1., 1., 1., 1.])\n",
      "First column:  tensor([1., 1., 1., 1.])\n",
      "Last column:  tensor([1., 1., 1., 1.])\n",
      "tensor([[1., 0., 1., 1.],\n",
      "        [1., 0., 1., 1.],\n",
      "        [1., 0., 1., 1.],\n",
      "        [1., 0., 1., 1.]])\n"
     ]
    }
   ],
   "source": [
    "tensor = torch.ones(4, 4)\n",
    "print('First row: ', tensor[0])\n",
    "print('First column: ', tensor[:,0])\n",
    "print('Last column: ', tensor[...,-1])\n",
    "tensor[:,1] = 0\n",
    "print(tensor)"
   ]
  },
  {
   "cell_type": "markdown",
   "id": "12b14c9e-28d6-4d17-922e-34e4c1fc27ca",
   "metadata": {},
   "source": [
    "### Concatenación de tensores"
   ]
  },
  {
   "cell_type": "code",
   "execution_count": 10,
   "id": "7d41cc87-05ad-4975-9094-5325d287eec4",
   "metadata": {},
   "outputs": [
    {
     "name": "stdout",
     "output_type": "stream",
     "text": [
      "tensor([[1., 0., 1., 1., 1., 0., 1., 1., 1., 0., 1., 1.],\n",
      "        [1., 0., 1., 1., 1., 0., 1., 1., 1., 0., 1., 1.],\n",
      "        [1., 0., 1., 1., 1., 0., 1., 1., 1., 0., 1., 1.],\n",
      "        [1., 0., 1., 1., 1., 0., 1., 1., 1., 0., 1., 1.]])\n"
     ]
    }
   ],
   "source": [
    "t1 = torch.cat([tensor, tensor, tensor], dim=1)\n",
    "print(t1)"
   ]
  },
  {
   "cell_type": "markdown",
   "id": "adc49628-543a-42c6-bb66-ede339f6c36a",
   "metadata": {},
   "source": [
    "### Operaciones aritméticas"
   ]
  },
  {
   "cell_type": "code",
   "execution_count": 13,
   "id": "572146bf-2fd3-46b5-b5f2-2d604603f91e",
   "metadata": {},
   "outputs": [
    {
     "data": {
      "text/plain": [
       "tensor([[1., 0., 1., 1.],\n",
       "        [1., 0., 1., 1.],\n",
       "        [1., 0., 1., 1.],\n",
       "        [1., 0., 1., 1.]])"
      ]
     },
     "execution_count": 13,
     "metadata": {},
     "output_type": "execute_result"
    }
   ],
   "source": [
    "# Multiplicación matricial\n",
    "y1 = tensor @ tensor.T\n",
    "y2 = tensor.matmul(tensor.T)\n",
    "\n",
    "y3 = torch.rand_like(tensor)\n",
    "torch.matmul(tensor, tensor.T, out=y3)\n",
    "\n",
    "# Multiplicación elemento a elemento\n",
    "z1 = tensor * tensor\n",
    "z2 = tensor.mul(tensor)\n",
    "\n",
    "z3 = torch.rand_like(tensor)\n",
    "torch.mul(tensor, tensor, out = z3)\n"
   ]
  },
  {
   "cell_type": "markdown",
   "id": "644db370-8de7-457c-bf5c-5029bde7e4a9",
   "metadata": {},
   "source": [
    "### Agregación"
   ]
  },
  {
   "cell_type": "code",
   "execution_count": 15,
   "id": "2f36b100-073b-460b-8cac-e4433b478e29",
   "metadata": {},
   "outputs": [
    {
     "name": "stdout",
     "output_type": "stream",
     "text": [
      "12.0 <class 'float'>\n"
     ]
    }
   ],
   "source": [
    "agg = tensor.sum()\n",
    "agg_item = agg.item()\n",
    "print(agg_item, type(agg_item))"
   ]
  },
  {
   "cell_type": "markdown",
   "id": "cf0c6a25-ceba-4f4b-afbd-ac940d89bad2",
   "metadata": {},
   "source": [
    "### Operaciones in place"
   ]
  },
  {
   "cell_type": "code",
   "execution_count": 16,
   "id": "ae093447-b0e0-4119-ad4e-2eae0a53e04d",
   "metadata": {},
   "outputs": [
    {
     "name": "stdout",
     "output_type": "stream",
     "text": [
      "tensor([[1., 0., 1., 1.],\n",
      "        [1., 0., 1., 1.],\n",
      "        [1., 0., 1., 1.],\n",
      "        [1., 0., 1., 1.]]) \n",
      "\n",
      "tensor([[6., 5., 6., 6.],\n",
      "        [6., 5., 6., 6.],\n",
      "        [6., 5., 6., 6.],\n",
      "        [6., 5., 6., 6.]])\n"
     ]
    }
   ],
   "source": [
    "print(tensor, '\\n')\n",
    "tensor.add_(5)\n",
    "print(tensor)"
   ]
  },
  {
   "cell_type": "markdown",
   "id": "6fa48ebd-7981-4376-a9b3-d7d02bf52dd6",
   "metadata": {},
   "source": [
    "### Puente con Numpy"
   ]
  },
  {
   "cell_type": "code",
   "execution_count": 18,
   "id": "32bbe6da-812c-416d-850c-37e91e550731",
   "metadata": {},
   "outputs": [
    {
     "name": "stdout",
     "output_type": "stream",
     "text": [
      "t: tensor([1., 1., 1., 1., 1.])\n",
      "n: [1. 1. 1. 1. 1.]\n",
      "t: tensor([2., 2., 2., 2., 2.])\n",
      "n: [2. 2. 2. 2. 2.]\n"
     ]
    }
   ],
   "source": [
    "t = torch.ones(5)\n",
    "print(f't: {t}')\n",
    "n = t.numpy()\n",
    "print(f'n: {n}')\n",
    "\n",
    "# el cambio se refleja en el arreglo numpy\n",
    "t.add_(1)\n",
    "print(f't: {t}')\n",
    "print(f'n: {n}')"
   ]
  },
  {
   "cell_type": "markdown",
   "id": "91dcbc7a-6593-4a26-9125-3ce891f740f7",
   "metadata": {},
   "source": [
    "###  "
   ]
  }
 ],
 "metadata": {
  "kernelspec": {
   "display_name": "Python 3 (ipykernel)",
   "language": "python",
   "name": "python3"
  },
  "language_info": {
   "codemirror_mode": {
    "name": "ipython",
    "version": 3
   },
   "file_extension": ".py",
   "mimetype": "text/x-python",
   "name": "python",
   "nbconvert_exporter": "python",
   "pygments_lexer": "ipython3",
   "version": "3.8.12"
  }
 },
 "nbformat": 4,
 "nbformat_minor": 5
}
