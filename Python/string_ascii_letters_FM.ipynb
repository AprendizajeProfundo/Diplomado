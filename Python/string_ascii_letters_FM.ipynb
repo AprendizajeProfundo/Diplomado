{
 "cells": [
  {
   "cell_type": "code",
   "execution_count": 1,
   "id": "a8c014c2-ff34-4805-8e2e-c9f1fb1f20b3",
   "metadata": {},
   "outputs": [
    {
     "name": "stdout",
     "output_type": "stream",
     "text": [
      "I'm ready to code!\n"
     ]
    }
   ],
   "source": [
    "if len(\"Ford Mustang\") > 10:\n",
    "    print(\"I'm ready to code!\") \n",
    "else:\n",
    "    print(\"Hello, World!\")"
   ]
  },
  {
   "cell_type": "code",
   "execution_count": 2,
   "id": "be1afb65-9847-45af-a333-23015de5ddca",
   "metadata": {},
   "outputs": [
    {
     "data": {
      "text/plain": [
       "[[0, 1, (1+2j), (2+2j), 0.0, 0.1, 'a', 'b'],\n",
       " [1, 2, (2+2j), (3+2j), 0.1, 0.2, 'b', 'c'],\n",
       " [2, 3, (3+2j), (4+2j), 0.2, 0.3, 'c', 'd'],\n",
       " [3, 4, (4+2j), (5+2j), 0.3, 0.4, 'd', 'e'],\n",
       " [4, 5, (5+2j), (6+2j), 0.4, 0.5, 'e', 'f'],\n",
       " [5, 6, (6+2j), (7+2j), 0.5, 0.6, 'f', 'g'],\n",
       " [6, 7, (7+2j), (8+2j), 0.6, 0.7, 'g', 'h'],\n",
       " [7, 8, (8+2j), (9+2j), 0.7, 0.8, 'h', 'i']]"
      ]
     },
     "execution_count": 2,
     "metadata": {},
     "output_type": "execute_result"
    }
   ],
   "source": [
    "import string\n",
    "\n",
    "alp = list(string.ascii_letters)\n",
    "arreglo,k = [], 0 \n",
    "for i in range(8):\n",
    "    k = i+1\n",
    "    arreglo.append([i,k, k+2j, (k+1)+2j, i/10, k/10, alp[i], alp[k]])\n",
    "    \n",
    "arreglo"
   ]
  }
 ],
 "metadata": {
  "kernelspec": {
   "display_name": "Python 3",
   "language": "python",
   "name": "python3"
  },
  "language_info": {
   "codemirror_mode": {
    "name": "ipython",
    "version": 3
   },
   "file_extension": ".py",
   "mimetype": "text/x-python",
   "name": "python",
   "nbconvert_exporter": "python",
   "pygments_lexer": "ipython3",
   "version": "3.8.11"
  }
 },
 "nbformat": 4,
 "nbformat_minor": 5
}
