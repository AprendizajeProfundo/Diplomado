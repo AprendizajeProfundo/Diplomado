{
 "cells": [
  {
   "attachments": {},
   "cell_type": "markdown",
   "id": "46970ab4",
   "metadata": {},
   "source": [
    "<figure>\n",
    "<img src=\"../Imagenes/logo-final-ap.png\"  width=\"80\" height=\"80\" align=\"left\"/> \n",
    "</figure>\n",
    "\n",
    "# <span style=\"color:#4361EE\"><left>Aprendizaje Profundo</left></span>"
   ]
  },
  {
   "attachments": {},
   "cell_type": "markdown",
   "id": "788c79ac",
   "metadata": {},
   "source": [
    "# <span style=\"color:green\"><center>Diplomado en Inteligencia Artificial y Aprendizaje Profundo</center></span>"
   ]
  },
  {
   "attachments": {},
   "cell_type": "markdown",
   "id": "05bccf6c",
   "metadata": {},
   "source": [
    "# <span style=\"color:red\"><center>Taller de paquete RegEx</center></span>"
   ]
  },
  {
   "attachments": {},
   "cell_type": "markdown",
   "id": "0ab895dc",
   "metadata": {},
   "source": [
    "<figure>\n",
    "<center>\n",
    "<img src=\"../Imagenes/regex.png\" width=\"400\" height=\"400\" align=\"center\"/>\n",
    "</center>\n",
    "</figure>\n",
    "\n",
    "<center> Fuente: <a href=\"https://commons.wikimedia.org/wiki/File:Regular_expression_example.png\">Belbury</a>, CC0, via Wikimedia Commons</center>"
   ]
  },
  {
   "attachments": {},
   "cell_type": "markdown",
   "id": "41ac3826",
   "metadata": {},
   "source": [
    "## <span style=\"color:#4361EE\">Profesores</span>"
   ]
  },
  {
   "attachments": {},
   "cell_type": "markdown",
   "id": "5be0e336",
   "metadata": {},
   "source": [
    "1. Alvaro  Montenegro, PhD, ammontenegrod@unal.edu.co\n",
    "1. Camilo José Torres Jiménez, Msc, cjtorresj@unal.edu.co\n",
    "1. Daniel  Montenegro, Msc, dextronomo@gmail.com "
   ]
  },
  {
   "attachments": {},
   "cell_type": "markdown",
   "id": "e6171fe3",
   "metadata": {},
   "source": [
    "## <span style=\"color:#4361EE\">Asesora Medios y Marketing digital</span>"
   ]
  },
  {
   "attachments": {},
   "cell_type": "markdown",
   "id": "27bb29d8",
   "metadata": {},
   "source": [
    "4. Maria del Pilar Montenegro, pmontenegro88@gmail.com\n",
    "5. Jessica López Mejía, jelopezme@unal.edu.co\n",
    "6. Venus Puertas, vpuertasg@unal.edu.co"
   ]
  },
  {
   "attachments": {},
   "cell_type": "markdown",
   "id": "717b2fd6",
   "metadata": {},
   "source": [
    "## <span style=\"color:#4361EE\">Jefe Jurídica</span>"
   ]
  },
  {
   "attachments": {},
   "cell_type": "markdown",
   "id": "816147f3",
   "metadata": {},
   "source": [
    "7. Paula Andrea Guzmán, guzmancruz.paula@gmail.com"
   ]
  },
  {
   "attachments": {},
   "cell_type": "markdown",
   "id": "2829e2b4",
   "metadata": {},
   "source": [
    "## <span style=\"color:#4361EE\">Coordinador Jurídico</span>"
   ]
  },
  {
   "attachments": {},
   "cell_type": "markdown",
   "id": "e879a539",
   "metadata": {},
   "source": [
    "8. David Fuentes, fuentesd065@gmail.com"
   ]
  },
  {
   "attachments": {},
   "cell_type": "markdown",
   "id": "f80ca59b",
   "metadata": {},
   "source": [
    "## <span style=\"color:#4361EE\">Desarrolladores Principales</span>"
   ]
  },
  {
   "attachments": {},
   "cell_type": "markdown",
   "id": "fca5a439",
   "metadata": {},
   "source": [
    "9. Dairo Moreno, damoralesj@unal.edu.co\n",
    "10. Joan Castro, jocastroc@unal.edu.co\n",
    "11. Bryan Riveros, briveros@unal.edu.co\n",
    "12. Rosmer Vargas, rovargasc@unal.edu.co"
   ]
  },
  {
   "attachments": {},
   "cell_type": "markdown",
   "id": "7b93ec22",
   "metadata": {},
   "source": [
    "## <span style=\"color:#4361EE\">Expertos en Bases de Datos</span>"
   ]
  },
  {
   "attachments": {},
   "cell_type": "markdown",
   "id": "75177ad7",
   "metadata": {},
   "source": [
    "13. Giovvani Barrera, udgiovanni@gmail.com\n",
    "14. Camilo Chitivo, cchitivo@unal.edu.co"
   ]
  },
  {
   "attachments": {},
   "cell_type": "markdown",
   "id": "fb3c8153",
   "metadata": {},
   "source": [
    "## <span style=\"color:#4361EE\">Coautores</span>"
   ]
  },
  {
   "attachments": {},
   "cell_type": "markdown",
   "id": "34feabb1",
   "metadata": {},
   "source": [
    "15. Oleg Jarma, ojarmam@unal.edu.co \n",
    "16. Laura Lizarazo, ljlizarazore@unal.edu.co "
   ]
  },
  {
   "attachments": {},
   "cell_type": "markdown",
   "id": "f83638bb-2cae-4f8a-9f4f-74957d038f9b",
   "metadata": {},
   "source": [
    "## <span style=\"color:#4361EE\">Introducción</span>\n",
    "\n",
    "En lugar de comenzar con detalles técnicos, comenzaremos con varios ejemplos."
   ]
  },
  {
   "attachments": {},
   "cell_type": "markdown",
   "id": "1b31cdd0-2b4a-40f0-9206-359ca72b03fd",
   "metadata": {},
   "source": [
    "| Expresión Regular                               | Descripción                                                                                                                      |\n",
    "|-------------------------------------------------|----------------------------------------------------------------------------------------------------------------------------------|\n",
    "| `hello`                                         | coincide con cualquier cadena que contiene `hello`                                                                                |\n",
    "| `gray\\|grey`                                    | coincide con cualquier cadena que contiene `gray` o `grey`                                                                       |\n",
    "| `gr(a\\|e)y`                                     | coincide con cualquier cadena que contiene `gray` o `grey`                                                                       |\n",
    "| `gr[ae]y`                                       | coincide con cualquier cadena que contiene `gray` o `grey`                                                                       |\n",
    "| `b[aeiou]bble`                                  | coincide con cualquier cadena que contiene `babble`, `bebble`, `bibble`, `bobble` o `bubble`                                     |\n",
    "| `[b-chm-pP]at\\|ot`                              | coincide con cualquier cadena que contiene `bat`, `cat`, `hat`, `mat`, `nat`, `oat`, `pat`, `Pat` o `ot`                        |\n",
    "| `colou?r`                                       | coincide con cualquier cadena que contiene `color` o `colour`                                                                    |\n",
    "| `rege(x(es)?\\|xps?)`                            | coincide con cualquier cadena que contiene `regex`, `regexes`, `regexp` o `regexps`                                              |\n",
    "| `go*gle`                                        | coincide con cualquier cadena que contiene `ggle`, `gogle`, `google`, `gooogle`, `goooogle`, ...                                |\n",
    "| `go+gle`                                        | coincide con cualquier cadena que contiene `gogle`, `google`, `gooogle`, `goooogle`, ...                                         |\n",
    "| `g(oog)+le`                                     | coincide con cualquier cadena que contiene `google`, `googoogle`, `googoogoogle`, `googoogoogoogle`, ...                          |\n",
    "| `z{3}`                                          | coincide con cualquier cadena que contiene `zzz`                                                                                  |\n",
    "| `z{3,6}`                                        | coincide con cualquier cadena que contiene `zzz`, `zzzz`, `zzzzz` o `zzzzzz`                                                      |\n",
    "| `z{3,}`                                         | coincide con cualquier cadena que contiene `zzz`, `zzzz`, `zzzzz`, ...                                                             |\n",
    "| `[Bb]rainf\\*\\*k`                                | coincide con cualquier cadena que contiene `Brainf**k` o `brainf**k`                                                              |\n",
    "| `\\d`                                            | coincide con cualquier dígito del 0 al 9: `0`, `1`, `2`, `3`, `4`, `5`, `6`, `7`, `8`, `9` |\n",
    "| `\\d{5}(-\\d{4})?`                                | coincide con un código postal de Estados Unidos                                                                                    |\n",
    "| `1\\d{10}`                                       | coincide con una cadena de 11 dígitos que comienza con 1                                                                           |\n",
    "| `[2-9]\\|[12]\\d\\|3[0-6]`                          | coincide con un número entero en el rango de 2 a 36, inclusive                                                                     |\n",
    "| `Hello\\nworld`                                  | coincide con `Hello` seguido de un salto de línea seguido de `world`                                                              |\n",
    "| `mi.....ft`                                     | coincide con una subcadena de nueve caracteres que comienza con `mi` y termina con `ft`: `microsoft`, `minecraft`, ...                                            |\n",
    "| `\\d+(\\.\\d\\d)?`                                  | coincide con un número entero positivo o un número de punto flotante con exactamente dos dígitos después del punto decimal      |\n",
    "| `[^i*&2@]`                                      | coincide con cualquier carácter que no sea `i`, `*`, `&`, `2` o `@`                                                                |\n",
    "| `//[^\\r\\n]*[\\r\\n]`                              | coincide con un comentario de doble barra (`//`) en Java o C#                                                                     |\n",
    "| `^dog`                                         | comienza con `dog`                                                                                                               |\n",
    "| `dog$`                                         | termina con `dog`                                                                                                                |\n",
    "| `^dog$`                                        | es exactamente `dog`                                                                                                             |\n"
   ]
  },
  {
   "attachments": {},
   "cell_type": "markdown",
   "id": "cbd68ce3",
   "metadata": {},
   "source": [
    "## <span style=\"color:#4361EE\">¿Qué es?</span>\n",
    "\n",
    "Una expresión regular es una secuencia de caracteres que forman un patrón de busqueda. Usando el paquete RegEx, podemos buscar dentro de strings o textos estos mismos patrones.\n",
    "\n",
    "El correcto uso de este paquete es muy importante. Y puede aplicarse para cosas como text mining o pre procesamiento de bases de datos "
   ]
  },
  {
   "attachments": {},
   "cell_type": "markdown",
   "id": "e3647d91",
   "metadata": {},
   "source": [
    "## <span style=\"color:#4361EE\">Algunos preliminares</span>\n",
    "\n",
    "\n",
    "Es necesario hablar de algunos símbolos que nos ayudarán con este paquete.\n",
    "\n",
    "### Metacaracteres\n",
    "tenemos algunos caracteres con significado especial\n",
    "\n",
    "| Caracter    | Uso         |\n",
    "| :---        |     :---   |\n",
    "| \\.   | Cualquier caracter        |\n",
    "| \\$   | empieza con        |\n",
    "| \\*   | ninguna o más ocurrencias        |\n",
    "| \\+   | Una o más ocurrencias        |\n",
    "| \\{ \\}   | Exactamente el número especificado de caracteres        |\n",
    "|  \\|  | entre las opciones        |\n",
    "|  \\( \\)  | capturar o agrupar        |\n"
   ]
  },
  {
   "attachments": {},
   "cell_type": "markdown",
   "id": "106cbdbb",
   "metadata": {},
   "source": [
    "### <span style=\"color:#4CC9F0\">Secuencias secuenciales</span>\n",
    "\n",
    "algunas letras precedidas con un \\ causan busquedas distintas\n",
    "\n",
    "| Caracter      | Uso |\n",
    "| :---        |    :---   |\n",
    "| \\A      | Busca si los caracteres están al inicio del string      |\n",
    "| \\b   | Busca si los caracteres están al inicio o al final de una palabra (depende donde se ponga)        |\n",
    "| \\B   | Busca si los caracteres están en el string EXCEPTO al inicio o al final de una palabra       |\n",
    "| \\d   | Busca si el string contiene dígitos        |\n",
    "| \\D   | Busca si el string tiene caracteres que NO SEAN dígitos        |\n",
    "| \\s   | Busca si el string contiene espacios        |\n",
    "| \\S   | Busca si el string tiene caracteres que NO SEAN espacios        |\n",
    "| \\w   | Busca si el string contiene caracteres de palabras (letras, dígitos o '_' )        |\n",
    "| \\W   | Busca si el string tiene caracteres que NO SEAN de palabras        |\n",
    "| \\Z   | busca si los caracteeres están el final del string        |"
   ]
  },
  {
   "attachments": {},
   "cell_type": "markdown",
   "id": "db629517",
   "metadata": {},
   "source": [
    "### <span style=\"color:#4CC9F0\">Conjuntos</span>\n",
    "\n",
    "todo lo definido dentro de dos corchetes \\[ \\] define un conjunto de caracteres con el cual se puede hacer busqueda\n",
    "\n",
    "| Caracter      | Uso |\n",
    "| :---        |    :---   |\n",
    "| \\[arn\\]      | Busca los caracteres  a,r,n      |\n",
    "| \\[a-n\\]   | Busca los caracteres alfabéticos entre a y n        |\n",
    "| \\[^arn\\]   | Busca los caracteres alfabéticos EXCEPTO a,r,n       |\n",
    "| \\[0123\\]   | Busca los caracteres numéricos 0,1,2,3        |\n",
    "| \\[0-9\\]   | Busca los caracteres numéricos entre 0 y 9        |\n",
    "| \\[0-5\\]\\[0-9\\]   | Busca caracteres numéricos de dos digitos desde 00 y 59        |\n",
    "| \\[a-zA-Z\\]   | Busca caracteres alfabéticos, tanto en minúscula como mayúscula        |\n",
    "\n",
    "Los metacaracteres dentro de los corchetes cuentan como caracteres regulares, así que se buscarán estos mismos"
   ]
  },
  {
   "attachments": {},
   "cell_type": "markdown",
   "id": "3ef5052b",
   "metadata": {},
   "source": [
    "## <span style=\"color:#4361EE\">El Paquete `re`</span>"
   ]
  },
  {
   "attachments": {},
   "cell_type": "markdown",
   "id": "0ab229f2",
   "metadata": {},
   "source": [
    "Vamos ahora a trabajar con el paquete re y sus distintas funciones\n",
    "\n",
    "Importamos el paquete"
   ]
  },
  {
   "cell_type": "code",
   "execution_count": 1,
   "id": "498be8ca",
   "metadata": {
    "id": "2vmkhDvAwzI2"
   },
   "outputs": [],
   "source": [
    "import re"
   ]
  },
  {
   "attachments": {},
   "cell_type": "markdown",
   "id": "9e186ce3",
   "metadata": {
    "id": "s2ogSgYSxAql"
   },
   "source": [
    "### <span style=\"color:#4CC9F0\">Función `findall()`</span>"
   ]
  },
  {
   "attachments": {},
   "cell_type": "markdown",
   "id": "6e4802c1",
   "metadata": {
    "id": "kJKq3Okmxf7V"
   },
   "source": [
    "Esta función nos devolvera una lista con todos las coincidencias encontradas en los textos."
   ]
  },
  {
   "attachments": {},
   "cell_type": "markdown",
   "id": "040a66ba",
   "metadata": {
    "id": "gBh2omqgx0FM"
   },
   "source": [
    "En primer lugar, veamos ejemplos donde hay coincidencias entre el patrón y nuestra cadena de texto."
   ]
  },
  {
   "cell_type": "code",
   "execution_count": 2,
   "id": "9b67f78d",
   "metadata": {
    "colab": {
     "base_uri": "https://localhost:8080/"
    },
    "id": "EQ3WnX7ExXV8",
    "outputId": "1490b465-4eef-44e2-f45a-b0f81ac9e88c"
   },
   "outputs": [
    {
     "name": "stdout",
     "output_type": "stream",
     "text": [
      "['e', 'a', 'c', 'a', 'd', 'e', 'a', 'd', 'e', 'e']\n",
      "Sí, hay coincidencias\n"
     ]
    }
   ],
   "source": [
    "Texto1_f=\"Primera cadena de texto\"\n",
    "x1=re.findall(\"[a-f]\", Texto1_f) #elemento requerido, cadena de texto\n",
    "print(x1)\n",
    "\n",
    "if (x1):\n",
    "  print(\"Sí, hay coincidencias\")\n",
    "else:\n",
    "  print(\"No hay coincidencias\")"
   ]
  },
  {
   "attachments": {},
   "cell_type": "markdown",
   "id": "6ced9291",
   "metadata": {
    "id": "VhQ4l-8VzR9w"
   },
   "source": [
    "En segundo lugar, veamos ejemplos dónde no hay coincidencias entre el patrón y nuestra cadena de texto."
   ]
  },
  {
   "cell_type": "code",
   "execution_count": 3,
   "id": "4e586c2b",
   "metadata": {
    "colab": {
     "base_uri": "https://localhost:8080/"
    },
    "id": "Ir5k9v2gy0ag",
    "outputId": "c4df1a93-841f-4929-b78d-df7f47a2be0a"
   },
   "outputs": [
    {
     "name": "stdout",
     "output_type": "stream",
     "text": [
      "No hay coincidencias\n"
     ]
    }
   ],
   "source": [
    "Texto2_f=\"Segunda cadena de texto, veamos\"\n",
    "x2=re.findall(\"té|segunda|do\",Texto2_f)\n",
    "#print(x2)\n",
    "\n",
    "if (x2):\n",
    "  print(\"Sí, hay coincidencias\")\n",
    "else:\n",
    "  print(\"No hay coincidencias\")\n"
   ]
  },
  {
   "attachments": {},
   "cell_type": "markdown",
   "id": "0332eb5a",
   "metadata": {
    "id": "nBoxnVS1_OzV"
   },
   "source": [
    "En esta función, se puede poner más de un patrón del que se espera coincidencia en la cadena de texto."
   ]
  },
  {
   "cell_type": "code",
   "execution_count": 4,
   "id": "db8f1024",
   "metadata": {
    "colab": {
     "base_uri": "https://localhost:8080/"
    },
    "id": "bwfqo_tY1aWQ",
    "outputId": "a0fc67ed-d4e8-44e2-e6e7-fe90cbc9955c"
   },
   "outputs": [
    {
     "name": "stdout",
     "output_type": "stream",
     "text": [
      "['T', 'texto,']\n"
     ]
    }
   ],
   "source": [
    "Texto3_f=\"Tercera cadena de texto, veamos\"\n",
    "x3=re.findall(\"o$|^T|te...,\",Texto3_f)\n",
    "print(x3)"
   ]
  },
  {
   "attachments": {},
   "cell_type": "markdown",
   "id": "61517caa",
   "metadata": {
    "id": "Hy_XWTdv1Y4U"
   },
   "source": [
    "### <span style=\"color:#4CC9F0\">Función `search()`</span>"
   ]
  },
  {
   "attachments": {},
   "cell_type": "markdown",
   "id": "7d6fa781",
   "metadata": {
    "id": "cH5sC2_I3Z4U"
   },
   "source": [
    "Esta función busca en la cadena una coincidencia y devuelve un *Match object* si existe.\n",
    "\n",
    " Si hay más de una coincidencia, solo se devolverá la primera coincidencia."
   ]
  },
  {
   "cell_type": "code",
   "execution_count": 5,
   "id": "f8dd22b7",
   "metadata": {
    "colab": {
     "base_uri": "https://localhost:8080/"
    },
    "id": "GT2UURuF26hD",
    "outputId": "bcf621c8-3237-4856-babd-57eddbe9925b"
   },
   "outputs": [
    {
     "name": "stdout",
     "output_type": "stream",
     "text": [
      "<re.Match object; span=(6, 7), match='e'>\n",
      "Posicion del primer e que no está al inicio ni fin:  6\n"
     ]
    }
   ],
   "source": [
    "Texto1_s=\"eABC defgh IJK éí ae\"\n",
    "x1 = re.search(r\"\\Be\", Texto1_s)\n",
    "print(x1)\n",
    "print(\"Posicion del primer e que no está al inicio ni fin: \", x1.start()) "
   ]
  },
  {
   "cell_type": "code",
   "execution_count": 6,
   "id": "73a93870",
   "metadata": {
    "colab": {
     "base_uri": "https://localhost:8080/"
    },
    "id": "f3-mKETZ79XH",
    "outputId": "6a1f2636-c62b-4c55-e619-eba883d4ab6b"
   },
   "outputs": [
    {
     "name": "stdout",
     "output_type": "stream",
     "text": [
      "Posición de primera cadena que no contiene digítos:  3\n"
     ]
    }
   ],
   "source": [
    "Texto2_s=\"123 ABC45 abc xyz\"\n",
    "x2 = re.search(\"\\D\", Texto2_s)\n",
    "print(\"Posición de primera cadena que no contiene digítos: \", x2.start()) "
   ]
  },
  {
   "attachments": {},
   "cell_type": "markdown",
   "id": "88f9b00b",
   "metadata": {
    "id": "iqR89DfC-rFG"
   },
   "source": [
    "Igualmente que en los ejemplos de la función Findall(), se puede poner más de un patrón del que se espera coincidencia en la cadena de texto."
   ]
  },
  {
   "cell_type": "code",
   "execution_count": 7,
   "id": "b9867673",
   "metadata": {
    "colab": {
     "base_uri": "https://localhost:8080/"
    },
    "id": "t5-mUHmr8r38",
    "outputId": "32dc0772-d772-4041-f3a7-7b22a112d052"
   },
   "outputs": [
    {
     "name": "stdout",
     "output_type": "stream",
     "text": [
      "Posición primera en que hay un espacio en blanco o hay digítos:  0\n"
     ]
    }
   ],
   "source": [
    "Texto3_s=\"123 ABC45 abc xyz\"\n",
    "x3 = re.search(\"\\d|\\s\", Texto3_s)\n",
    "print(\"Posición primera en que hay un espacio en blanco o hay digítos: \", x3.start()) "
   ]
  },
  {
   "attachments": {},
   "cell_type": "markdown",
   "id": "03e18738",
   "metadata": {},
   "source": [
    "### <span style=\"color:#4CC9F0\">Función `split()`</span>"
   ]
  },
  {
   "attachments": {},
   "cell_type": "markdown",
   "id": "d5a053b4",
   "metadata": {},
   "source": [
    "Esta función busca el caracter y genera un corte de la cadena en las posiciones en donde se encuentra el caracter. "
   ]
  },
  {
   "cell_type": "code",
   "execution_count": 8,
   "id": "419da011",
   "metadata": {},
   "outputs": [
    {
     "name": "stdout",
     "output_type": "stream",
     "text": [
      "['', '', '', '', '', '', '', '', '', '', '', '', '', '', '', '', '', '', '', '', '', '', '', '', '', '', '', '']\n"
     ]
    }
   ],
   "source": [
    "Texto1_sp=\"El bueno. El malo. Y el feo\"\n",
    "x1=re.split(\".\", Texto1_sp)\n",
    "print(x1)"
   ]
  },
  {
   "attachments": {},
   "cell_type": "markdown",
   "id": "dbcd8f83",
   "metadata": {},
   "source": [
    "Por qué sucede esto? porque . es un metacaracter. Para que se cuente como un caracter normal, se puede usar \\[.\\] ó \\\\."
   ]
  },
  {
   "cell_type": "code",
   "execution_count": 9,
   "id": "880efb24",
   "metadata": {},
   "outputs": [
    {
     "name": "stdout",
     "output_type": "stream",
     "text": [
      "['El bueno', ' El malo', ' Y el feo']\n"
     ]
    }
   ],
   "source": [
    "x1=re.split(\"\\.\", Texto1_sp)\n",
    "print(x1)"
   ]
  },
  {
   "attachments": {},
   "cell_type": "markdown",
   "id": "138e12fc",
   "metadata": {},
   "source": [
    "el caracter que se busca va a desaparecer"
   ]
  },
  {
   "cell_type": "code",
   "execution_count": 10,
   "id": "174e1e2b",
   "metadata": {},
   "outputs": [
    {
     "name": "stdout",
     "output_type": "stream",
     "text": [
      "['El bu', 'no. El malo. Y ', 'l f', 'o']\n"
     ]
    }
   ],
   "source": [
    "x2=re.split('e', Texto1_sp)\n",
    "print(x2)"
   ]
  },
  {
   "attachments": {},
   "cell_type": "markdown",
   "id": "9b7e5b54",
   "metadata": {},
   "source": [
    "se puede decir el número máximo de separaciones"
   ]
  },
  {
   "cell_type": "code",
   "execution_count": 11,
   "id": "605c5de2",
   "metadata": {},
   "outputs": [
    {
     "name": "stdout",
     "output_type": "stream",
     "text": [
      "['Sólo quiero cortar aquí', ' El resto no. Por favor no cortes más']\n"
     ]
    }
   ],
   "source": [
    "Texto2_sp='Sólo quiero cortar aquí. El resto no. Por favor no cortes más'\n",
    "x3=re.split('\\.', Texto2_sp, 1)\n",
    "print(x3)"
   ]
  },
  {
   "attachments": {},
   "cell_type": "markdown",
   "id": "5ce2fa94",
   "metadata": {},
   "source": [
    "### <span style=\"color:#4CC9F0\">Función `sub()`</span>"
   ]
  },
  {
   "attachments": {},
   "cell_type": "markdown",
   "id": "389faa20",
   "metadata": {},
   "source": [
    "Con esta función podemos buscar un caracter en la cadena, y reemplazarlo con otro de nuestra elección"
   ]
  },
  {
   "cell_type": "code",
   "execution_count": 12,
   "id": "aacdea24",
   "metadata": {},
   "outputs": [
    {
     "name": "stdout",
     "output_type": "stream",
     "text": [
      "vAmos A hAcer unos pequeños cAmbios.\n"
     ]
    }
   ],
   "source": [
    "Texto_1_sub='vamos a hacer unos pequeños cambios.'\n",
    "x1=re.sub('[a]', 'A', Texto_1_sub)\n",
    "print(x1)"
   ]
  },
  {
   "attachments": {},
   "cell_type": "markdown",
   "id": "b3c02685",
   "metadata": {},
   "source": [
    "Podemos usar las secuencias especiales para hacer restricciones a lo que reemplaza"
   ]
  },
  {
   "cell_type": "code",
   "execution_count": 13,
   "id": "7c3e6f8a",
   "metadata": {},
   "outputs": [
    {
     "name": "stdout",
     "output_type": "stream",
     "text": [
      "Vamos V Vacer Vnos Vequeños Vambios.\n"
     ]
    }
   ],
   "source": [
    "x2=re.sub(r'\\b[a-z]', 'V', Texto_1_sub)\n",
    "print(x2)"
   ]
  },
  {
   "attachments": {},
   "cell_type": "markdown",
   "id": "3c8bc714",
   "metadata": {},
   "source": [
    "Igual que con split(), podemos reducir el número de veces en las que generamos el reemplazo."
   ]
  },
  {
   "cell_type": "code",
   "execution_count": 14,
   "id": "f3664e54",
   "metadata": {},
   "outputs": [
    {
     "name": "stdout",
     "output_type": "stream",
     "text": [
      "vamos V Vacer Vnos Vequeños Vambios.\n"
     ]
    }
   ],
   "source": [
    "x3=re.sub(r'\\bV', 'v', x2, 1)\n",
    "print(x3)"
   ]
  },
  {
   "attachments": {},
   "cell_type": "markdown",
   "id": "f1335db3-ca3d-480d-b753-d59c348b931b",
   "metadata": {},
   "source": [
    "## <span style=\"color:#4361EE\">Ejercicios</span>\n",
    "\n",
    "Describa el funcionamiento de las siguientes expresiones regulares:\n",
    "\n",
    "1. `^\\d+$`\n",
    "\n",
    "1. `[1-9]\\d*|0`\n",
    "\n",
    "1. `[a-zA-Z_]\\w*`\n",
    "\n",
    "1. `^\\w+\\.(gif|png|jpg|jpeg)$`\n",
    "\n",
    "1. `^\\w+([.-]?\\w+)*@\\w+([.-]?\\w+)*(\\.\\w{2,3})+$`\n",
    "\n",
    "1. `(https?)://(www)?.?(\\w+).(\\w+)/?(\\w+)?`\n",
    "\n",
    "1. `.?(\\d{3}).*(\\d{3}).*(\\d{4})`\n",
    "\n",
    "1. `(\\d{4}).(\\d{2}).(\\d{2})`\n",
    "\n",
    "Qué expresión regular propondría para encontrar en un texto:\n",
    "\n",
    "1. Los caracteres diferentes a dígitos o letras del alfabeto\n",
    "\n",
    "1. Los caracteres que conformen un número entero válido\n",
    "\n",
    "1. Los caracteres que conformen un número real válido\n",
    "\n",
    "1. Los caracteres que conformen una dirección de residencia en Bogotá"
   ]
  }
 ],
 "metadata": {
  "kernelspec": {
   "display_name": "Python 3 (ipykernel)",
   "language": "python",
   "name": "python3"
  },
  "language_info": {
   "codemirror_mode": {
    "name": "ipython",
    "version": 3
   },
   "file_extension": ".py",
   "mimetype": "text/x-python",
   "name": "python",
   "nbconvert_exporter": "python",
   "pygments_lexer": "ipython3",
   "version": "3.10.6"
  }
 },
 "nbformat": 4,
 "nbformat_minor": 5
}
