{
 "cells": [
  {
   "cell_type": "markdown",
   "id": "2628674b-1946-46c3-a5a8-12c827b742f9",
   "metadata": {},
   "source": [
    "<figure>\n",
    "<img src=\"../Imagenes/logo-final-ap.png\"  width=\"80\" height=\"80\" align=\"left\"/> \n",
    "</figure>\n",
    "\n",
    "# <span style=\"color:#4361EE\"><left>Aprendizaje Profundo</left></span>"
   ]
  },
  {
   "cell_type": "markdown",
   "id": "24b92630-1839-4ec0-837f-1d4a5b604048",
   "metadata": {},
   "source": [
    "# <span style=\"color:red\"><center>Diplomado en Inteligencia Artificial y Aprendizaje Profundo</center></span>"
   ]
  },
  {
   "cell_type": "markdown",
   "id": "c3870a7f-0dd3-4416-84e3-b3575af46234",
   "metadata": {},
   "source": [
    "# <span style=\"color:green\"><center>Taller del módulo `numpy`</center></span>\n"
   ]
  },
  {
   "cell_type": "markdown",
   "id": "d110aaea-4c5e-4a99-8cf6-9936571ec7f1",
   "metadata": {},
   "source": [
    "<figure>\n",
    "<center>\n",
    "<img src=\"https://raw.githubusercontent.com/AprendizajeProfundo/Alejandria/main/Archivos_Generales/Imagenes/Carretera.jpg\" width=\"600\" height=\"400\" align=\"center\" /> \n",
    "</center>   \n",
    "</figure>\n",
    "\n",
    "<center>Fuente: <a href=\"https://sp.depositphotos.com/stock-photos/architecture-buildings.html\">Dubai downtown cityscape - sp.depositphotos.com</a></center>"
   ]
  },
  {
   "cell_type": "markdown",
   "id": "fc431bad-bd0e-43ea-b29a-0e297544711f",
   "metadata": {},
   "source": [
    "## <span style=\"color:#4361EE\">Profesores</span>"
   ]
  },
  {
   "cell_type": "markdown",
   "id": "c837a80b-1803-423c-8499-aaef950ea816",
   "metadata": {},
   "source": [
    "1. Alvaro  Montenegro, PhD, ammontenegrod@unal.edu.co\n",
    "1. Camilo José Torres Jiménez, Msc, cjtorresj@unal.edu.co\n",
    "1. Daniel  Montenegro, Msc, dextronomo@gmail.com "
   ]
  },
  {
   "cell_type": "markdown",
   "id": "8aefa1a7-4fe8-4e63-a62e-8b30240af69b",
   "metadata": {},
   "source": [
    "## <span style=\"color:#4361EE\">Coordinador</span>"
   ]
  },
  {
   "cell_type": "markdown",
   "id": "4df74eab-21e5-484d-8f2a-f92e766bfe8a",
   "metadata": {},
   "source": [
    "4. Campo Elías Pardo Turriago, PhD, cepardot@unal.edu.co"
   ]
  },
  {
   "cell_type": "markdown",
   "id": "3311c6c6-82e1-40d9-88de-110e63fed224",
   "metadata": {},
   "source": [
    "## <span style=\"color:#4361EE\">Coautores</span>"
   ]
  },
  {
   "cell_type": "markdown",
   "id": "3613dda8-54dc-4523-9630-47900a43d9b4",
   "metadata": {},
   "source": [
    "5. Oleg Jarma, ojarmam@unal.edu.co\n",
    "6. Julieth López, julalopezcas@unal.edu.co"
   ]
  },
  {
   "cell_type": "markdown",
   "id": "01167908-0ca4-498a-a302-3f7eb2a56038",
   "metadata": {},
   "source": [
    "## <span style=\"color:#4361EE\">Asesora Medios y Marketing digital</span>"
   ]
  },
  {
   "cell_type": "markdown",
   "id": "249647e7-d759-4869-bd2b-a515b34e966a",
   "metadata": {},
   "source": [
    "7. Maria del Pilar Montenegro, pmontenegro88@gmail.com\n",
    "8. Jessica López Mejía, jelopezme@unal.edu.co"
   ]
  },
  {
   "cell_type": "markdown",
   "id": "11fee248-0d91-4e48-ab1a-3bd6650f072b",
   "metadata": {},
   "source": [
    "## <span style=\"color:#4361EE\">Jefe Jurídica</span>"
   ]
  },
  {
   "cell_type": "markdown",
   "id": "17156829-713b-4617-9fe9-bccdb57f93f3",
   "metadata": {},
   "source": [
    "9. Paula Andrea Guzmán, guzmancruz.paula@gmail.com"
   ]
  },
  {
   "cell_type": "markdown",
   "id": "30c9411f-fef4-40f7-8253-9ad62dc616d8",
   "metadata": {},
   "source": [
    "## <span style=\"color:#4361EE\">Coordinador Jurídico</span>"
   ]
  },
  {
   "cell_type": "markdown",
   "id": "23522b0d-87ea-4c1c-963d-15b79db62f57",
   "metadata": {},
   "source": [
    "10. David Fuentes, fuentesd065@gmail.com"
   ]
  },
  {
   "cell_type": "markdown",
   "id": "800de78e-a3c1-4eca-a967-bb91658e3758",
   "metadata": {},
   "source": [
    "## <span style=\"color:#4361EE\">Desarrolladores Principales</span>"
   ]
  },
  {
   "cell_type": "markdown",
   "id": "0c9108bd-bd57-46cc-9c8c-8c27c9a43a18",
   "metadata": {},
   "source": [
    "11. Dairo Moreno, damoralesj@unal.edu.co\n",
    "12. Joan Castro, jocastroc@unal.edu.co\n",
    "13. Bryan Riveros, briveros@unal.edu.co\n",
    "14. Rosmer Vargas, rovargasc@unal.edu.co\n",
    "15. Venus Puertas, vpuertasg@unal.edu.co"
   ]
  },
  {
   "cell_type": "markdown",
   "id": "7f72cda5-7f5f-42da-9d8c-b54f7a9eb908",
   "metadata": {},
   "source": [
    "## <span style=\"color:#4361EE\">Expertos en Bases de Datos</span>"
   ]
  },
  {
   "cell_type": "markdown",
   "id": "3def70d5-7148-4aa9-a5f6-262096698f4d",
   "metadata": {},
   "source": [
    "16. Giovvani Barrera, udgiovanni@gmail.com\n",
    "17. Camilo Chitivo, cchitivo@unal.edu.co"
   ]
  },
  {
   "attachments": {},
   "cell_type": "markdown",
   "id": "f9fb9210",
   "metadata": {
    "id": "--yl3E28USV0"
   },
   "source": [
    "## <span style=\"color:#4361EE\">¿Qué es?</span>"
   ]
  },
  {
   "cell_type": "markdown",
   "id": "a4e658cc",
   "metadata": {},
   "source": [
    "En la documentación del módulo o paquete `numpy` dice:\n",
    "    \n",
    "```\n",
    "Provides\n",
    "  1. An array object of arbitrary homogeneous items\n",
    "  2. Fast mathematical operations over arrays\n",
    "  3. Linear Algebra, Fourier Transforms, Random Number Generation\n",
    "```\n",
    "\n",
    "`numpy` está escrito parcialmente en Python, pero en la mayoría de aquellas de sus partes que requieren un computo lo más eficiente posible está escrita en C o C++."
   ]
  },
  {
   "cell_type": "markdown",
   "id": "46a8e471-7e59-4af0-935e-2609bf47f996",
   "metadata": {},
   "source": [
    "Para más detalles acerca del contenido del paquete `numpy` consultar:\n",
    "\n",
    "* [https://numpy.org/doc/stable/user/index.html](https://numpy.org/doc/stable/user/index.html)\n",
    "* **Funciones matemáticas**: [https://numpy.org/doc/stable/reference/routines.math.html](https://numpy.org/doc/stable/reference/routines.math.html)\n",
    "* **Estadística**: [https://numpy.org/doc/stable/reference/routines.statistics.html](https://numpy.org/doc/stable/reference/routines.statistics.html)\n",
    "* **Algebra lineal (numpy.linalg)**: [https://numpy.org/doc/stable/reference/routines.linalg.html](https://numpy.org/doc/stable/reference/routines.linalg.html)\n",
    "* **Generación de valores seudoaleatoriso (numpy.random)**: [https://numpy.org/doc/stable/reference/random/index.html](https://numpy.org/doc/stable/reference/random/index.html)"
   ]
  },
  {
   "cell_type": "markdown",
   "id": "3a73ce70-a263-4ed7-8896-1c914d23af19",
   "metadata": {},
   "source": [
    "`numpy` y `scipy` son dos paquetes de Python complementarios para computación científica y análisis de datos. `scipy` construye sobre `numpy` y proporciona una amplia gama de algoritmos y herramientas para la resolución de problemas en áreas como la optimización, la interpolación, la transformada de Fourier, el álgebra lineal y la estadística.\n",
    "\n",
    "Si ya conoce a profundidad todas las características del paquete `numpy`, puede consultar los detalles del paquete `scipy` en:\n",
    "\n",
    "* [https://docs.scipy.org/doc/scipy/reference/tutorial/index.html](https://docs.scipy.org/doc/scipy/reference/tutorial/index.html).\n",
    "* **Funciones especiales (scipy.special)**: [https://docs.scipy.org/doc/scipy/reference/special.html](https://docs.scipy.org/doc/scipy/reference/special.html).\n",
    "* **Integración (scipy.integrate)**: [https://docs.scipy.org/doc/scipy/reference/integrate.html](https://docs.scipy.org/doc/scipy/reference/integrate.html).\n",
    "* **Optimización (scipy.optimize)**: [https://docs.scipy.org/doc/scipy/reference/optimize.html](https://docs.scipy.org/doc/scipy/reference/optimize.html).\n",
    "* **Algebra lineal (scipy.linalg)**: [https://docs.scipy.org/doc/scipy/reference/linalg.html](https://docs.scipy.org/doc/scipy/reference/linalg.html).\n",
    "* **Estadística (scipy.stats)**: [https://docs.scipy.org/doc/scipy/reference/stats.html](https://docs.scipy.org/doc/scipy/reference/stats.html)."
   ]
  },
  {
   "attachments": {},
   "cell_type": "markdown",
   "id": "a079be2d-37ae-46ae-8c4b-597e888bd62b",
   "metadata": {},
   "source": [
    "### <span style=\"color:#4CC9F0\">¿Qué es un **arreglo** (_**array**_)?</span>"
   ]
  },
  {
   "cell_type": "markdown",
   "id": "0d7a94b7-fb2e-4e05-9334-0a2d518c541e",
   "metadata": {},
   "source": [
    "Un **arreglo** (_**array**_) es una **colección finita de datos del mismo tipo**, que se almacenan en posiciones consecutivas de memoria y reciben un nombre común. \n",
    "\n",
    "En el caso de un **arreglo unidimensional** estamos hablando de una estructura de datos que tendría cierta equivalencia o similaridad con el objeto matemático: **vector** $\\left( \\vec{v} = \\left(v_1, v_2, \\dots, v_n\\right) = \\left(v_i\\right)_{1 \\leq i \\leq n} \\right)$, ya que ambos corresponden a una secuencia de valores ordenados, que son indexados por un único índice asociado a una única dimensión.\n",
    "\n",
    "Por ejemplo, el arreglo unidimensional representado aquí:\n",
    "\n",
    "|         |         |     |     |     |     |\n",
    "|--------:|--------:|--------:|--------:|--------:|--------:|\n",
    "| índice: | **0**   | **1** | **2** | **3** | **4** |\n",
    "| valor:  | 1.2     | 3.4 | 5.6 | 7.8 | 9   |\n",
    "\n",
    "contiene la misma información o los mismos datos que el vector:\n",
    "\n",
    "$$\\vec{v} = \\left(v_1, v_2, \\dots, v_n\\right) = \\left(1.2, 3.4, 5.6, 7.8, 9\\right)$$\n",
    "\n",
    "Los **arreglos multidimensionales** son aquellos en donde cada elemento del arreglo está indexado por más de un índice (por más de un subíndice cuando los elementos del arreglo se denotan de la siguiente manera: $a_{i,j,k,\\dots}$\n",
    "\n",
    "Por ejemplo, el arreglo multidimensional (bidimensional) representado aquí:\n",
    "\n",
    "|             |           |     |     |     |\n",
    "|------------:|----------:|----:|----:|----:|\n",
    "|             | 2do índice: | **0** | **1** | **2** |\n",
    "| 1er índice: | **0**     | 1.2 | 3.4 | 5.6 |\n",
    "|             | **1**     | 7.8 | 9   | 0   |\n",
    "\n",
    "contiene la misma información o los mismos datos que la matriz:\n",
    "\n",
    "$$A = \\left(a_{ij}\\right)_{1 \\leq i \\leq n, 1 \\leq j \\leq m} = \\begin{bmatrix}\n",
    "1.2 & 3.4 & 5.6 \\\\\n",
    "7.8 & 9 & 0 \n",
    "\\end{bmatrix}$$"
   ]
  },
  {
   "attachments": {},
   "cell_type": "markdown",
   "id": "7d513ed8",
   "metadata": {},
   "source": [
    "### <span style=\"color:#4CC9F0\">¿Por qué usar arrays de numpy y no listas o tuplas de python?</span>"
   ]
  },
  {
   "cell_type": "markdown",
   "id": "ebbff053",
   "metadata": {},
   "source": [
    "Las listas y tuplas nos podrían servir para el manejo de *arrays* pero las operaciones con listas o tuplas son demasiado lentas (lo que se gana en versatilidad se pierde en velocidad). Se ha dicho que las operaciones con arreglos de `numpy` es 50 veces más veloz que con listas."
   ]
  },
  {
   "cell_type": "markdown",
   "id": "6c7d8268",
   "metadata": {},
   "source": [
    "La mayoría, sino todas, las librerías principales de IA y AP (dícese Tensorflow y Pytorch) suelen hacer sus operaciones con arrays de numpy."
   ]
  },
  {
   "attachments": {},
   "cell_type": "markdown",
   "id": "15ebc1d8",
   "metadata": {
    "tags": []
   },
   "source": [
    "## <span style=\"color:#4361EE\">Creación básica de arrays</span>"
   ]
  },
  {
   "cell_type": "markdown",
   "id": "8affc428-ddc4-466d-b4bd-906b53122746",
   "metadata": {},
   "source": [
    "Primero importamos (cargamos) el módulo `numpy` y le asociamos el alias `np`:"
   ]
  },
  {
   "cell_type": "code",
   "execution_count": 1,
   "id": "063e4b25",
   "metadata": {},
   "outputs": [],
   "source": [
    "import numpy as np"
   ]
  },
  {
   "cell_type": "markdown",
   "id": "4ff6fd69",
   "metadata": {
    "tags": []
   },
   "source": [
    "Vamos a crear arrays de distintas dimensiones. Para esto podemos usar números, listas o tuplas."
   ]
  },
  {
   "cell_type": "code",
   "execution_count": 2,
   "id": "a0e2c124-ca36-41a3-b615-d2c05ca4f485",
   "metadata": {},
   "outputs": [
    {
     "name": "stdout",
     "output_type": "stream",
     "text": [
      "type(a): <class 'numpy.ndarray'> \n",
      "\n",
      "a:\n",
      "13\n"
     ]
    },
    {
     "data": {
      "text/plain": [
       "array(13)"
      ]
     },
     "execution_count": 2,
     "metadata": {},
     "output_type": "execute_result"
    }
   ],
   "source": [
    "a = np.array(13) #array de dimensión 0\n",
    "print(\"type(a):\", type(a), \"\\n\")\n",
    "print(\"a:\", a, sep = \"\\n\")\n",
    "a"
   ]
  },
  {
   "cell_type": "code",
   "execution_count": 3,
   "id": "5856fb2b-922e-403b-9fbd-656767f860d9",
   "metadata": {},
   "outputs": [
    {
     "name": "stdout",
     "output_type": "stream",
     "text": [
      "b:\n",
      "[1 2 3 4]\n"
     ]
    },
    {
     "data": {
      "text/plain": [
       "array([1, 2, 3, 4])"
      ]
     },
     "execution_count": 3,
     "metadata": {},
     "output_type": "execute_result"
    }
   ],
   "source": [
    "b = np.array([1, 2, 3, 4]) #array de dimensión 1\n",
    "print(\"b:\", b, sep = \"\\n\")\n",
    "b"
   ]
  },
  {
   "cell_type": "code",
   "execution_count": 4,
   "id": "53d19da3-2b55-4a97-b7f0-80a0bc29d794",
   "metadata": {},
   "outputs": [
    {
     "name": "stdout",
     "output_type": "stream",
     "text": [
      "c:\n",
      "[[1 2 3 4]\n",
      " [5 6 7 8]]\n"
     ]
    },
    {
     "data": {
      "text/plain": [
       "array([[1, 2, 3, 4],\n",
       "       [5, 6, 7, 8]])"
      ]
     },
     "execution_count": 4,
     "metadata": {},
     "output_type": "execute_result"
    }
   ],
   "source": [
    "c = np.array([[1, 2, 3, 4], [5, 6, 7, 8]]) #array de dimensión 2\n",
    "print(\"c:\", c, sep = \"\\n\")\n",
    "c"
   ]
  },
  {
   "cell_type": "code",
   "execution_count": 5,
   "id": "2784cd52-ade7-4ec2-a95f-365566d9d201",
   "metadata": {},
   "outputs": [
    {
     "name": "stdout",
     "output_type": "stream",
     "text": [
      "d:\n",
      "[[[ 1  2  3  4]\n",
      "  [ 5  6  7  8]]\n",
      "\n",
      " [[ 9 10 11 12]\n",
      "  [13 14 15 16]]]\n"
     ]
    },
    {
     "data": {
      "text/plain": [
       "array([[[ 1,  2,  3,  4],\n",
       "        [ 5,  6,  7,  8]],\n",
       "\n",
       "       [[ 9, 10, 11, 12],\n",
       "        [13, 14, 15, 16]]])"
      ]
     },
     "execution_count": 5,
     "metadata": {},
     "output_type": "execute_result"
    }
   ],
   "source": [
    "d = np.array([[[1, 2, 3, 4], [5, 6, 7, 8]], [[9, 10, 11, 12], [13, 14, 15, 16]]]) #array de dimensión 3\n",
    "print(\"d:\", d, sep = \"\\n\")\n",
    "d"
   ]
  },
  {
   "cell_type": "markdown",
   "id": "52f9cff7",
   "metadata": {},
   "source": [
    "Los escalares son arreglos/tensores de dimensión 0, los vectores son arreglos/tensores de dimensión 1, las matrices son arreglos/tensores de dimensión 2, etc.\n",
    "\n",
    "El atributo `ndim` almacena la dimension del arreglo/tensor (no confundir con el tamaño de un vector o una matriz)."
   ]
  },
  {
   "cell_type": "code",
   "execution_count": 6,
   "id": "2a60b3c5",
   "metadata": {},
   "outputs": [
    {
     "name": "stdout",
     "output_type": "stream",
     "text": [
      "0\n",
      "1\n",
      "2\n",
      "3\n"
     ]
    }
   ],
   "source": [
    "print(a.ndim)\n",
    "print(b.ndim)\n",
    "print(c.ndim)\n",
    "print(d.ndim)"
   ]
  },
  {
   "attachments": {},
   "cell_type": "markdown",
   "id": "1d882daf",
   "metadata": {},
   "source": [
    "## <span style=\"color:#4361EE\">Indexación básica</span>"
   ]
  },
  {
   "cell_type": "markdown",
   "id": "a04ab4cd",
   "metadata": {},
   "source": [
    "El proceso de indexación en numpy es similar al de las listas en python. Cada número implica buscar la posición en cada dimensión del array"
   ]
  },
  {
   "cell_type": "code",
   "execution_count": 7,
   "id": "8019beb0",
   "metadata": {},
   "outputs": [
    {
     "name": "stdout",
     "output_type": "stream",
     "text": [
      "a = 13\n",
      "b[2] =  3\n",
      "c[1] = [5 6 7 8]\n",
      "d[1] = [[ 9 10 11 12]\n",
      " [13 14 15 16]]\n"
     ]
    }
   ],
   "source": [
    "print(\"a =\",a)\n",
    "print(\"b[2] = \",b[2])\n",
    "print(\"c[1] =\",c[1])\n",
    "print(\"d[1] =\",d[1])"
   ]
  },
  {
   "cell_type": "code",
   "execution_count": 8,
   "id": "894b28ed",
   "metadata": {},
   "outputs": [
    {
     "name": "stdout",
     "output_type": "stream",
     "text": [
      "a = 13\n",
      "b[2] = 3\n",
      "c[1,2] = 7\n",
      "d[1,0,2] = 11\n"
     ]
    }
   ],
   "source": [
    "print(\"a =\",a)\n",
    "print(\"b[2] =\",b[2])\n",
    "print(\"c[1,2] =\",c[1,2])\n",
    "print(\"d[1,0,2] =\",d[1,0,2])"
   ]
  },
  {
   "cell_type": "markdown",
   "id": "fcebd506",
   "metadata": {},
   "source": [
    "Similarmente podemos segmentar **arrays** como en las listas de python,"
   ]
  },
  {
   "cell_type": "code",
   "execution_count": 9,
   "id": "7a0ee1fc",
   "metadata": {},
   "outputs": [
    {
     "name": "stdout",
     "output_type": "stream",
     "text": [
      "[2 3 4]\n",
      "[6 7]\n",
      "[[[13 14]]]\n"
     ]
    }
   ],
   "source": [
    "print(b[1:4]) #b = [1 2 3 4] \n",
    "print(c[1,1:3]) #c = [[1 2 3 4][5 6 7 8]] \n",
    "print(d[1:3,1:3,0:2])"
   ]
  },
  {
   "attachments": {},
   "cell_type": "markdown",
   "id": "cd589abc",
   "metadata": {},
   "source": [
    "## <span style=\"color:#4361EE\">Diferentes tipos de datos en los arrays</span>"
   ]
  },
  {
   "cell_type": "markdown",
   "id": "36a4ec09",
   "metadata": {},
   "source": [
    "Los arrays no están limitados a números enteros, pueden también tener cadenas, booleanos, o números de punto flotante."
   ]
  },
  {
   "cell_type": "code",
   "execution_count": 10,
   "id": "ed2bb758",
   "metadata": {},
   "outputs": [
    {
     "name": "stdout",
     "output_type": "stream",
     "text": [
      "<U7\n"
     ]
    }
   ],
   "source": [
    "frutas = np.array(['Manzana', 'Naranja', 'Uva']) #cadenas\n",
    "print(frutas.dtype)"
   ]
  },
  {
   "cell_type": "markdown",
   "id": "b89c0e97",
   "metadata": {},
   "source": [
    "Podemos manipular el tipo de los datos del array dentro de la función de creación del array `np.array`, siempre y cuando el cambio sea posible. Por ejemplo podemos pasar enteros a cadenas (integers a strings) pero no viceversa."
   ]
  },
  {
   "cell_type": "code",
   "execution_count": 11,
   "id": "75aadc1c",
   "metadata": {},
   "outputs": [
    {
     "name": "stdout",
     "output_type": "stream",
     "text": [
      "<U3\n",
      "['6' '1' '2' '4' '623' '8']\n"
     ]
    }
   ],
   "source": [
    "number_to_string = np.array([6, 1, 2, 4, 623, 8], dtype=str) #b denota un string\n",
    "print(number_to_string.dtype)\n",
    "print(number_to_string)"
   ]
  },
  {
   "cell_type": "code",
   "execution_count": 12,
   "id": "a1ebedf3",
   "metadata": {},
   "outputs": [
    {
     "name": "stdout",
     "output_type": "stream",
     "text": [
      "hay un error en su lógica\n"
     ]
    }
   ],
   "source": [
    "try:\n",
    "    error_array = np.array(['a', '2', '3'], dtype=int)\n",
    "except:\n",
    "    print(\"hay un error en su lógica\")"
   ]
  },
  {
   "cell_type": "markdown",
   "id": "7e2e1ac9",
   "metadata": {},
   "source": [
    "Podemos también cambiar el tipo en arrays ya existentes"
   ]
  },
  {
   "cell_type": "code",
   "execution_count": 13,
   "id": "7bd6b41a",
   "metadata": {},
   "outputs": [
    {
     "name": "stdout",
     "output_type": "stream",
     "text": [
      "[1 2 3]\n"
     ]
    }
   ],
   "source": [
    "floating_array = np.array([1.1, 2.1, 3.1]) #punto flotante\n",
    "\n",
    "int_array = floating_array.astype(int)\n",
    "print(int_array)"
   ]
  },
  {
   "cell_type": "code",
   "execution_count": 14,
   "id": "63412d4a-7fee-44c1-8e4f-550b034902da",
   "metadata": {},
   "outputs": [
    {
     "name": "stdout",
     "output_type": "stream",
     "text": [
      "`vector`:\t[ 127 -127   -1    1]\n",
      "`vector.dtype`: int8\n",
      "`vector`:\t[   127   -127  32767 -32767]\n",
      "`vector.dtype`: int16\n"
     ]
    },
    {
     "name": "stderr",
     "output_type": "stream",
     "text": [
      "C:\\Users\\User\\AppData\\Local\\Temp\\ipykernel_15572\\97580344.py:1: DeprecationWarning: NumPy will stop allowing conversion of out-of-bound Python integers to integer arrays.  The conversion of 32767 to int8 will fail in the future.\n",
      "For the old behavior, usually:\n",
      "    np.array(value).astype(dtype)`\n",
      "will give the desired result (the cast overflows).\n",
      "  vector = np.array([127, -127, 32767, -32767], dtype=np.int8) # entero de 1 byte = 8 bits (1 bit se necesita para almacenar el signo)\n",
      "C:\\Users\\User\\AppData\\Local\\Temp\\ipykernel_15572\\97580344.py:1: DeprecationWarning: NumPy will stop allowing conversion of out-of-bound Python integers to integer arrays.  The conversion of -32767 to int8 will fail in the future.\n",
      "For the old behavior, usually:\n",
      "    np.array(value).astype(dtype)`\n",
      "will give the desired result (the cast overflows).\n",
      "  vector = np.array([127, -127, 32767, -32767], dtype=np.int8) # entero de 1 byte = 8 bits (1 bit se necesita para almacenar el signo)\n"
     ]
    }
   ],
   "source": [
    "vector = np.array([127, -127, 32767, -32767], dtype=np.int8) # entero de 1 byte = 8 bits (1 bit se necesita para almacenar el signo)\n",
    "print(f'`vector`:\\t{vector}')\n",
    "print(f'`vector.dtype`: {vector.dtype}')\n",
    "vector = np.array([127, -127, 32767, -32767], dtype=np.int16) # entero de 2 bytes = 16 bits (1 bit se necesita para almacenar el signo)\n",
    "print(f'`vector`:\\t{vector}')\n",
    "print(f'`vector.dtype`: {vector.dtype}')"
   ]
  },
  {
   "attachments": {},
   "cell_type": "markdown",
   "id": "57d0475c",
   "metadata": {},
   "source": [
    "## <span style=\"color:#4361EE\">Tamaño de los arrays</span>"
   ]
  },
  {
   "cell_type": "markdown",
   "id": "044a8738",
   "metadata": {},
   "source": [
    "El tamaño de un arreglos es diferente a su dimensión. El tamaño del arreglo es el número de elementos posibles por cada dimensión."
   ]
  },
  {
   "cell_type": "code",
   "execution_count": 15,
   "id": "232e7daf",
   "metadata": {},
   "outputs": [
    {
     "name": "stdout",
     "output_type": "stream",
     "text": [
      "()\n",
      "(4,)\n",
      "(2, 4)\n",
      "(2, 2, 4)\n"
     ]
    }
   ],
   "source": [
    "print(a.shape) # a = 13 \n",
    "print(b.shape) # b = [1 2 3 4] \n",
    "print(c.shape) # c = [[1 2 3 4][5 6 7 8]] \n",
    "print(d.shape) # d = [[[ 1  2  3  4][ 5  6  7  8]] [[ 9 10 11 12][13 14 15 16]]] "
   ]
  },
  {
   "attachments": {},
   "cell_type": "markdown",
   "id": "2d4af3fa",
   "metadata": {},
   "source": [
    "### <span style=\"color:#4CC9F0\">Reformar arrays</span>\n",
    "\n",
    "Podemos cambiar la forma de los arrays. Esto significa aumentar el número de dimensiones o cambiar cuantos elementos hay por dimensión."
   ]
  },
  {
   "cell_type": "code",
   "execution_count": 16,
   "id": "27e29622",
   "metadata": {},
   "outputs": [
    {
     "name": "stdout",
     "output_type": "stream",
     "text": [
      "c = [[1 2 3 4]\n",
      " [5 6 7 8]] \n",
      "\n",
      "c_1D = [[1 2 3 4 5 6 7 8]] \n",
      "\n",
      "c_4D = [[1 2]\n",
      " [3 4]\n",
      " [5 6]\n",
      " [7 8]] \n",
      "\n"
     ]
    }
   ],
   "source": [
    "print(\"c =\",c,\"\\n\")\n",
    "c_1D = c.reshape(1,8)\n",
    "print(\"c_1D =\",c_1D,\"\\n\")\n",
    "c_4D = c.reshape(4,2)\n",
    "print(\"c_4D =\",c_4D,\"\\n\")"
   ]
  },
  {
   "cell_type": "markdown",
   "id": "fc0b1569",
   "metadata": {},
   "source": [
    "¿Podemos hacer cualquier cambio en la forma? Si, mientras las que se quieren conseguir coincidan con la cantidad de elementos."
   ]
  },
  {
   "cell_type": "code",
   "execution_count": 17,
   "id": "f37c4c94",
   "metadata": {},
   "outputs": [
    {
     "name": "stdout",
     "output_type": "stream",
     "text": [
      "[[[ 1  2  3  4]\n",
      "  [ 5  6  7  8]]\n",
      "\n",
      " [[ 9 10 11 12]\n",
      "  [13 14 15 16]]]\n"
     ]
    }
   ],
   "source": [
    "print(d)"
   ]
  },
  {
   "cell_type": "markdown",
   "id": "aeb96eb9",
   "metadata": {},
   "source": [
    "`d` es un array con 16 elementos, así que podemos hacer reshape con tamaños por ejemplo 1x16, 4x4, 8x2, 2x4x2 Por ejemplo, no podemos reformar un arrey a 3x5."
   ]
  },
  {
   "cell_type": "code",
   "execution_count": 18,
   "id": "e4721bce",
   "metadata": {},
   "outputs": [
    {
     "name": "stdout",
     "output_type": "stream",
     "text": [
      "Hay un error en sus operaciones\n"
     ]
    }
   ],
   "source": [
    "try:\n",
    "    d.reshape(3,5)\n",
    "except:\n",
    "    print('Hay un error en sus operaciones')"
   ]
  },
  {
   "cell_type": "code",
   "execution_count": 19,
   "id": "64a96f6c",
   "metadata": {},
   "outputs": [
    {
     "data": {
      "text/plain": [
       "array([[[[ 1,  2],\n",
       "         [ 3,  4]],\n",
       "\n",
       "        [[ 5,  6],\n",
       "         [ 7,  8]]],\n",
       "\n",
       "\n",
       "       [[[ 9, 10],\n",
       "         [11, 12]],\n",
       "\n",
       "        [[13, 14],\n",
       "         [15, 16]]]])"
      ]
     },
     "execution_count": 19,
     "metadata": {},
     "output_type": "execute_result"
    }
   ],
   "source": [
    "d.reshape(2,2,2,2)"
   ]
  },
  {
   "attachments": {},
   "cell_type": "markdown",
   "id": "7ae797c4",
   "metadata": {},
   "source": [
    "### <span style=\"color:#4CC9F0\">Dimensión desconocida</span>"
   ]
  },
  {
   "cell_type": "markdown",
   "id": "a3aef62e",
   "metadata": {},
   "source": [
    "Podemos definir el cambio de forma con una dimensión la cual no sabemos el tamaño. Numpy se encargará de definir el tamaño que mejor se ajuste."
   ]
  },
  {
   "cell_type": "code",
   "execution_count": 20,
   "id": "adbaae7f",
   "metadata": {},
   "outputs": [
    {
     "data": {
      "text/plain": [
       "array([[1, 2, 3],\n",
       "       [4, 5, 6],\n",
       "       [7, 8, 9]])"
      ]
     },
     "execution_count": 20,
     "metadata": {},
     "output_type": "execute_result"
    }
   ],
   "source": [
    "arr = np.array([1, 2, 3, 4, 5, 6, 7, 8, 9])\n",
    "arr.reshape(3,-1)"
   ]
  },
  {
   "cell_type": "markdown",
   "id": "20bdffbb",
   "metadata": {},
   "source": [
    "Podemos usar la dimensión desconocida para \"aplanar\" el array a una dimensión."
   ]
  },
  {
   "cell_type": "code",
   "execution_count": 21,
   "id": "fbbb4a61",
   "metadata": {},
   "outputs": [
    {
     "data": {
      "text/plain": [
       "array([ 1,  2,  3,  4,  5,  6,  7,  8,  9, 10, 11, 12, 13, 14, 15, 16])"
      ]
     },
     "execution_count": 21,
     "metadata": {},
     "output_type": "execute_result"
    }
   ],
   "source": [
    "d.reshape(-1)"
   ]
  },
  {
   "attachments": {},
   "cell_type": "markdown",
   "id": "10452895",
   "metadata": {},
   "source": [
    "### <span style=\"color:#4CC9F0\">Transpuesta</span>"
   ]
  },
  {
   "cell_type": "markdown",
   "id": "385e05ef",
   "metadata": {},
   "source": [
    "Para transponer el array utilizamos `.T`"
   ]
  },
  {
   "cell_type": "code",
   "execution_count": 22,
   "id": "9c97dc11",
   "metadata": {},
   "outputs": [
    {
     "name": "stdout",
     "output_type": "stream",
     "text": [
      "c = [[1 2 3 4]\n",
      " [5 6 7 8]] \n",
      "\n",
      "c.T = [[1 5]\n",
      " [2 6]\n",
      " [3 7]\n",
      " [4 8]]\n"
     ]
    }
   ],
   "source": [
    "print(\"c =\",c,\"\\n\")\n",
    "print(\"c.T =\",c.T)"
   ]
  },
  {
   "attachments": {},
   "cell_type": "markdown",
   "id": "9522f334",
   "metadata": {},
   "source": [
    "## <span style=\"color:#4361EE\">Recorrer los valores de un arreglo</span>"
   ]
  },
  {
   "cell_type": "markdown",
   "id": "f1184880",
   "metadata": {},
   "source": [
    "Podemos usar los métodos tradicionales para iterar."
   ]
  },
  {
   "cell_type": "code",
   "execution_count": 23,
   "id": "6377f739",
   "metadata": {},
   "outputs": [
    {
     "name": "stdout",
     "output_type": "stream",
     "text": [
      "[[1 2 3 4]\n",
      " [5 6 7 8]]\n",
      "[[ 9 10 11 12]\n",
      " [13 14 15 16]]\n"
     ]
    }
   ],
   "source": [
    "for x in d:\n",
    "    print(x)"
   ]
  },
  {
   "cell_type": "markdown",
   "id": "d612edc4",
   "metadata": {},
   "source": [
    "Si queremos iterar cada elemento, necesitamos un `for` por cada dimensión"
   ]
  },
  {
   "cell_type": "code",
   "execution_count": 24,
   "id": "b5f16a97",
   "metadata": {},
   "outputs": [
    {
     "name": "stdout",
     "output_type": "stream",
     "text": [
      "1\n",
      "2\n",
      "3\n",
      "4\n",
      "5\n",
      "6\n",
      "7\n",
      "8\n",
      "9\n",
      "10\n",
      "11\n",
      "12\n",
      "13\n",
      "14\n",
      "15\n",
      "16\n"
     ]
    }
   ],
   "source": [
    "for x in d:\n",
    "    for y in x:\n",
    "        for z in y:\n",
    "            print(z)"
   ]
  },
  {
   "cell_type": "markdown",
   "id": "f4f02b2d",
   "metadata": {},
   "source": [
    "Esto por supuesto no es óptimo. Así que numpy tiene la función `nditer()` para estos casos."
   ]
  },
  {
   "cell_type": "code",
   "execution_count": 25,
   "id": "3f2f634c",
   "metadata": {},
   "outputs": [
    {
     "name": "stdout",
     "output_type": "stream",
     "text": [
      "1\n",
      "2\n",
      "3\n",
      "4\n",
      "5\n",
      "6\n",
      "7\n",
      "8\n",
      "9\n",
      "10\n",
      "11\n",
      "12\n",
      "13\n",
      "14\n",
      "15\n",
      "16\n"
     ]
    }
   ],
   "source": [
    "for x in np.nditer(d):\n",
    "    print(x)"
   ]
  },
  {
   "attachments": {},
   "cell_type": "markdown",
   "id": "93ecf334",
   "metadata": {},
   "source": [
    "## <span style=\"color:#4361EE\">Aplicar operaciones entre arrays</span>"
   ]
  },
  {
   "cell_type": "markdown",
   "id": "52f2041f",
   "metadata": {},
   "source": [
    "*numpy* tiene sus propias formas de aplicar operaciones:"
   ]
  },
  {
   "attachments": {},
   "cell_type": "markdown",
   "id": "09cb60fc",
   "metadata": {},
   "source": [
    "### <span style=\"color:#4CC9F0\">Suma</span>\n",
    "\n",
    "*numpy* tiene dos funciones, `np.add()` y `np.sum()`. El primero se aplica entre argumentos, el segundo se aplica en n elementos para que se haga la suma, es necesario que ambos arrays tengan la misma forma"
   ]
  },
  {
   "cell_type": "code",
   "execution_count": 26,
   "id": "339e55e2",
   "metadata": {},
   "outputs": [
    {
     "ename": "TypeError",
     "evalue": "add() takes from 2 to 3 positional arguments but 1 were given",
     "output_type": "error",
     "traceback": [
      "\u001b[1;31m---------------------------------------------------------------------------\u001b[0m",
      "\u001b[1;31mTypeError\u001b[0m                                 Traceback (most recent call last)",
      "Cell \u001b[1;32mIn[26], line 5\u001b[0m\n\u001b[0;32m      1\u001b[0m arr1\u001b[39m=\u001b[39mnp\u001b[39m.\u001b[39marray([[\u001b[39m1\u001b[39m,\u001b[39m2\u001b[39m,\u001b[39m3\u001b[39m],\n\u001b[0;32m      2\u001b[0m                [\u001b[39m4\u001b[39m,\u001b[39m5\u001b[39m,\u001b[39m6\u001b[39m]])\n\u001b[0;32m      3\u001b[0m arr2\u001b[39m=\u001b[39mnp\u001b[39m.\u001b[39marray([[\u001b[39m6\u001b[39m,\u001b[39m5\u001b[39m,\u001b[39m4\u001b[39m],\n\u001b[0;32m      4\u001b[0m                [\u001b[39m3\u001b[39m,\u001b[39m2\u001b[39m,\u001b[39m1\u001b[39m]])\n\u001b[1;32m----> 5\u001b[0m np\u001b[39m.\u001b[39;49madd([arr1,arr2])\n",
      "\u001b[1;31mTypeError\u001b[0m: add() takes from 2 to 3 positional arguments but 1 were given"
     ]
    }
   ],
   "source": [
    "arr1=np.array([[1,2,3],\n",
    "               [4,5,6]])\n",
    "arr2=np.array([[6,5,4],\n",
    "               [3,2,1]])\n",
    "np.add([arr1,arr2])"
   ]
  },
  {
   "cell_type": "code",
   "execution_count": null,
   "id": "90870068",
   "metadata": {},
   "outputs": [
    {
     "name": "stdout",
     "output_type": "stream",
     "text": [
      "42\n",
      "48\n"
     ]
    }
   ],
   "source": [
    "arr3=np.array([[1,1,1],[1,1,1]])\n",
    "print(np.sum([arr1,arr2]))\n",
    "print(np.sum([arr1,arr2,arr3]))"
   ]
  },
  {
   "cell_type": "markdown",
   "id": "98d61a60",
   "metadata": {},
   "source": [
    "Si aplicamos un eje en `np.sum()`, se aplica la suma en ese mismo eje. Por ejemplo, con eje 0, se obtienen los mismos resultados que `np.add()`"
   ]
  },
  {
   "cell_type": "code",
   "execution_count": null,
   "id": "6dd45cbe",
   "metadata": {},
   "outputs": [
    {
     "data": {
      "text/plain": [
       "array([[8, 8, 8],\n",
       "       [8, 8, 8]])"
      ]
     },
     "execution_count": 27,
     "metadata": {},
     "output_type": "execute_result"
    }
   ],
   "source": [
    "np.sum([arr1,arr2, arr3],axis=0)"
   ]
  },
  {
   "cell_type": "code",
   "execution_count": null,
   "id": "95c81c00",
   "metadata": {},
   "outputs": [
    {
     "data": {
      "text/plain": [
       "array([[5, 7, 9],\n",
       "       [9, 7, 5],\n",
       "       [2, 2, 2]])"
      ]
     },
     "execution_count": 28,
     "metadata": {},
     "output_type": "execute_result"
    }
   ],
   "source": [
    "np.sum([arr1,arr2, arr3],axis=1)"
   ]
  },
  {
   "attachments": {},
   "cell_type": "markdown",
   "id": "5c8eed55",
   "metadata": {},
   "source": [
    "### <span style=\"color:#4CC9F0\">Multiplicación</span>"
   ]
  },
  {
   "cell_type": "markdown",
   "id": "76805d27",
   "metadata": {},
   "source": [
    "El primer caso de multiplicación es `np.prod()`, que funciona similar que `np.sum()`"
   ]
  },
  {
   "cell_type": "code",
   "execution_count": null,
   "id": "bc07e939",
   "metadata": {},
   "outputs": [
    {
     "name": "stdout",
     "output_type": "stream",
     "text": [
      "arr1=\n",
      " [[1 2 3]\n",
      " [4 5 6]] \n",
      "\n",
      "arr2=\n",
      " [[6 5 4]\n",
      " [3 2 1]] \n",
      "\n",
      "518400 \n",
      "\n",
      "[[ 6 10 12]\n",
      " [12 10  6]] \n",
      "\n",
      "[[ 4 10 18]\n",
      " [18 10  4]]\n"
     ]
    }
   ],
   "source": [
    "print(\"arr1=\\n\",arr1,\"\\n\")\n",
    "print(\"arr2=\\n\",arr2,\"\\n\")\n",
    "print(np.prod([arr1,arr2]),\"\\n\")\n",
    "print(np.prod([arr1,arr2],axis=0),\"\\n\")\n",
    "print(np.prod([arr1,arr2],axis=1))"
   ]
  },
  {
   "attachments": {},
   "cell_type": "markdown",
   "id": "c375aab5-1374-44df-b853-77c0108fb546",
   "metadata": {},
   "source": [
    "### <span style=\"color:#4CC9F0\">Multiplicación Matricial</span>"
   ]
  },
  {
   "cell_type": "markdown",
   "id": "147d0eab",
   "metadata": {},
   "source": [
    "Para la multiplicación de matrices usamos `np.matmul()` o `np.dot()`. hay que tener en cuenta la forma de las matrices"
   ]
  },
  {
   "cell_type": "code",
   "execution_count": null,
   "id": "dd1a5b3b",
   "metadata": {},
   "outputs": [
    {
     "data": {
      "text/plain": [
       "array([[28, 10],\n",
       "       [73, 28]])"
      ]
     },
     "execution_count": 30,
     "metadata": {},
     "output_type": "execute_result"
    }
   ],
   "source": [
    "np.matmul(arr1, arr2.T) #2x2 2x2 = 2x2\n",
    "#3x2 *2x2 = 3x2"
   ]
  },
  {
   "cell_type": "code",
   "execution_count": null,
   "id": "333b7abc",
   "metadata": {},
   "outputs": [
    {
     "data": {
      "text/plain": [
       "array([[28, 10],\n",
       "       [73, 28]])"
      ]
     },
     "execution_count": 31,
     "metadata": {},
     "output_type": "execute_result"
    }
   ],
   "source": [
    "np.dot(arr1, arr2.T)"
   ]
  },
  {
   "cell_type": "markdown",
   "id": "9151ad8c",
   "metadata": {},
   "source": [
    "Se comportan igual con matrices de dos dimensiones, para otros casos hacen cosas distintas"
   ]
  },
  {
   "cell_type": "code",
   "execution_count": null,
   "id": "b4b74c6d",
   "metadata": {},
   "outputs": [
    {
     "name": "stdout",
     "output_type": "stream",
     "text": [
      "d =\n",
      " [[[ 1  2  3  4]\n",
      "  [ 5  6  7  8]]\n",
      "\n",
      " [[ 9 10 11 12]\n",
      "  [13 14 15 16]]] \n",
      "\n",
      "d.reshape =\n",
      " [[[ 1  2]\n",
      "  [ 3  4]\n",
      "  [ 5  6]\n",
      "  [ 7  8]]\n",
      "\n",
      " [[ 9 10]\n",
      "  [11 12]\n",
      "  [13 14]\n",
      "  [15 16]]] \n",
      "\n"
     ]
    },
    {
     "data": {
      "text/plain": [
       "array([[[[ 50,  60],\n",
       "         [130, 140]],\n",
       "\n",
       "        [[114, 140],\n",
       "         [322, 348]]],\n",
       "\n",
       "\n",
       "       [[[178, 220],\n",
       "         [514, 556]],\n",
       "\n",
       "        [[242, 300],\n",
       "         [706, 764]]]])"
      ]
     },
     "execution_count": 32,
     "metadata": {},
     "output_type": "execute_result"
    }
   ],
   "source": [
    "print(\"d =\\n\",d,\"\\n\") #2,2,4\n",
    "print(\"d.reshape =\\n\",d.reshape(2,4,2),\"\\n\") #2,4,2\n",
    "np.dot(d,d.reshape(2,4,2)) #2,2,2,2"
   ]
  },
  {
   "cell_type": "code",
   "execution_count": null,
   "id": "8f8a66cb-f25e-4f3b-81e2-2bb49412d8f2",
   "metadata": {},
   "outputs": [
    {
     "name": "stdout",
     "output_type": "stream",
     "text": [
      "[[ 50  60]\n",
      " [114 140]] \n",
      "\n",
      "[[130 140]\n",
      " [322 348]] \n",
      "\n",
      "[[178 220]\n",
      " [242 300]] \n",
      "\n",
      "[[514 556]\n",
      " [706 764]] \n",
      "\n"
     ]
    }
   ],
   "source": [
    "print(np.dot(d[0],d.reshape(2,4,2)[0]),\"\\n\")\n",
    "print(np.dot(d[0],d.reshape(2,4,2)[1]),\"\\n\")\n",
    "\n",
    "print(np.dot(d[1],d.reshape(2,4,2)[0]),\"\\n\")\n",
    "print(np.dot(d[1],d.reshape(2,4,2)[1]),\"\\n\")"
   ]
  },
  {
   "cell_type": "markdown",
   "id": "77a1b728-0d9e-4dd9-b566-8e3b284d63c8",
   "metadata": {},
   "source": [
    "Con *matmul* no se pueden multiplicar escalares **c.A** (c escalar, A matriz), además Matmul hace las multiplicaciones matriz a matriz (matrices como elementos), de ahí la diferencia con *dot*, donde este toma los números dentro de las matrices como elementos."
   ]
  },
  {
   "cell_type": "code",
   "execution_count": null,
   "id": "d5b4e257",
   "metadata": {},
   "outputs": [
    {
     "data": {
      "text/plain": [
       "array([[[ 50,  60],\n",
       "        [114, 140]],\n",
       "\n",
       "       [[514, 556],\n",
       "        [706, 764]]])"
      ]
     },
     "execution_count": 34,
     "metadata": {},
     "output_type": "execute_result"
    }
   ],
   "source": [
    "np.matmul(d,d.reshape(2,4,2))"
   ]
  },
  {
   "attachments": {},
   "cell_type": "markdown",
   "id": "3cf01179",
   "metadata": {},
   "source": [
    "## <span style=\"color:#4361EE\">Generación de tipos de Matrices</span>"
   ]
  },
  {
   "cell_type": "markdown",
   "id": "263932d0",
   "metadata": {},
   "source": [
    "numpy permite crear tipos específicos de matrices sin necesidad de escribir la estructura completa"
   ]
  },
  {
   "cell_type": "markdown",
   "id": "66815774",
   "metadata": {},
   "source": [
    "#### Matriz nula"
   ]
  },
  {
   "cell_type": "code",
   "execution_count": null,
   "id": "d4ba5f59-24c1-44a3-bdff-8d996cc4d6d5",
   "metadata": {},
   "outputs": [
    {
     "name": "stdout",
     "output_type": "stream",
     "text": [
      "[[0. 0.]\n",
      " [0. 0.]]\n",
      "[[0. 0. 0. 0. 0.]\n",
      " [0. 0. 0. 0. 0.]\n",
      " [0. 0. 0. 0. 0.]\n",
      " [0. 0. 0. 0. 0.]\n",
      " [0. 0. 0. 0. 0.]]\n"
     ]
    }
   ],
   "source": [
    "a = np.zeros((2,2))\n",
    "\n",
    "b = np.zeros((5,5))\n",
    "\n",
    "print(a)\n",
    "print(b)"
   ]
  },
  {
   "cell_type": "markdown",
   "id": "33f353bc",
   "metadata": {},
   "source": [
    "#### Matriz de unos"
   ]
  },
  {
   "cell_type": "code",
   "execution_count": null,
   "id": "13d49dc5",
   "metadata": {},
   "outputs": [
    {
     "name": "stdout",
     "output_type": "stream",
     "text": [
      "[[1. 1. 1. 1.]\n",
      " [1. 1. 1. 1.]]\n"
     ]
    }
   ],
   "source": [
    "a = np.ones((2,4))\n",
    "print(a)"
   ]
  },
  {
   "cell_type": "markdown",
   "id": "e720c573",
   "metadata": {},
   "source": [
    "#### Matriz de constantes"
   ]
  },
  {
   "cell_type": "code",
   "execution_count": null,
   "id": "1fcfe279",
   "metadata": {},
   "outputs": [
    {
     "name": "stdout",
     "output_type": "stream",
     "text": [
      "[[6 6 6 6]\n",
      " [6 6 6 6]\n",
      " [6 6 6 6]\n",
      " [6 6 6 6]]\n"
     ]
    }
   ],
   "source": [
    "a = np.full((4,4), 6)\n",
    "print(a)"
   ]
  },
  {
   "cell_type": "markdown",
   "id": "ddffcc84",
   "metadata": {},
   "source": [
    "#### Matriz identidad"
   ]
  },
  {
   "cell_type": "code",
   "execution_count": null,
   "id": "3a95e63e",
   "metadata": {},
   "outputs": [
    {
     "ename": "TypeError",
     "evalue": "'tuple' object cannot be interpreted as an integer",
     "output_type": "error",
     "traceback": [
      "\u001b[0;31m---------------------------------------------------------------------------\u001b[0m",
      "\u001b[0;31mTypeError\u001b[0m                                 Traceback (most recent call last)",
      "Input \u001b[0;32mIn [38]\u001b[0m, in \u001b[0;36m<cell line: 1>\u001b[0;34m()\u001b[0m\n\u001b[0;32m----> 1\u001b[0m a \u001b[38;5;241m=\u001b[39m \u001b[43mnp\u001b[49m\u001b[38;5;241;43m.\u001b[39;49m\u001b[43meye\u001b[49m\u001b[43m(\u001b[49m\u001b[43m(\u001b[49m\u001b[38;5;241;43m1\u001b[39;49m\u001b[43m,\u001b[49m\u001b[38;5;241;43m3\u001b[39;49m\u001b[43m)\u001b[49m\u001b[43m)\u001b[49m\n\u001b[1;32m      2\u001b[0m \u001b[38;5;28mprint\u001b[39m(a)\n",
      "File \u001b[0;32m/usr/local/lib/python3.10/dist-packages/numpy/lib/twodim_base.py:215\u001b[0m, in \u001b[0;36meye\u001b[0;34m(N, M, k, dtype, order, like)\u001b[0m\n\u001b[1;32m    213\u001b[0m \u001b[38;5;28;01mif\u001b[39;00m M \u001b[38;5;129;01mis\u001b[39;00m \u001b[38;5;28;01mNone\u001b[39;00m:\n\u001b[1;32m    214\u001b[0m     M \u001b[38;5;241m=\u001b[39m N\n\u001b[0;32m--> 215\u001b[0m m \u001b[38;5;241m=\u001b[39m \u001b[43mzeros\u001b[49m\u001b[43m(\u001b[49m\u001b[43m(\u001b[49m\u001b[43mN\u001b[49m\u001b[43m,\u001b[49m\u001b[43m \u001b[49m\u001b[43mM\u001b[49m\u001b[43m)\u001b[49m\u001b[43m,\u001b[49m\u001b[43m \u001b[49m\u001b[43mdtype\u001b[49m\u001b[38;5;241;43m=\u001b[39;49m\u001b[43mdtype\u001b[49m\u001b[43m,\u001b[49m\u001b[43m \u001b[49m\u001b[43morder\u001b[49m\u001b[38;5;241;43m=\u001b[39;49m\u001b[43morder\u001b[49m\u001b[43m)\u001b[49m\n\u001b[1;32m    216\u001b[0m \u001b[38;5;28;01mif\u001b[39;00m k \u001b[38;5;241m>\u001b[39m\u001b[38;5;241m=\u001b[39m M:\n\u001b[1;32m    217\u001b[0m     \u001b[38;5;28;01mreturn\u001b[39;00m m\n",
      "\u001b[0;31mTypeError\u001b[0m: 'tuple' object cannot be interpreted as an integer"
     ]
    }
   ],
   "source": [
    "a = np.eye((1,3))\n",
    "print(a)"
   ]
  },
  {
   "attachments": {},
   "cell_type": "markdown",
   "id": "87e519a6-efe6-49f8-9053-456b7b6210cc",
   "metadata": {},
   "source": [
    "## <span style=\"color:#4361EE\">np.random</span>"
   ]
  },
  {
   "cell_type": "markdown",
   "id": "2af4516c-9367-4f10-8f5e-80221caf65aa",
   "metadata": {},
   "source": [
    "El módulo \"random\" permite trabajar con números pseudo aleatorios, basándose en distribuciones de datos"
   ]
  },
  {
   "attachments": {},
   "cell_type": "markdown",
   "id": "e296c918-7726-413f-9eb5-5167d9b0b826",
   "metadata": {},
   "source": [
    "### <span style=\"color:#4CC9F0\">Generación básica</span>"
   ]
  },
  {
   "cell_type": "code",
   "execution_count": null,
   "id": "28f5ee5c-99ab-4ae8-ab93-767d78005d65",
   "metadata": {},
   "outputs": [
    {
     "name": "stdout",
     "output_type": "stream",
     "text": [
      "42\n",
      "0.23747234129072048\n"
     ]
    }
   ],
   "source": [
    "from numpy import random\n",
    "\n",
    "x = random.randint(100) #números enteros\n",
    "\n",
    "print(x)\n",
    "\n",
    "y = random.rand() #números reales entre [0,1)\n",
    "\n",
    "print(y)"
   ]
  },
  {
   "cell_type": "markdown",
   "id": "d9340a32-2b56-4bc0-8c3b-1309d82e5c79",
   "metadata": {},
   "source": [
    "Esto no se reduce a números individuales, también podemos generar arrays hechos completamente de números pseudo aleatorios"
   ]
  },
  {
   "cell_type": "code",
   "execution_count": null,
   "id": "e55c9104-9d3c-4650-9c69-caf5324e650d",
   "metadata": {},
   "outputs": [
    {
     "name": "stdout",
     "output_type": "stream",
     "text": [
      "[[[58 39]\n",
      "  [15 68]]\n",
      "\n",
      " [[98 33]\n",
      "  [62 73]]\n",
      "\n",
      " [[23 20]\n",
      "  [11 16]]]\n",
      "[[0.09021861]\n",
      " [0.91793591]\n",
      " [0.09067352]\n",
      " [0.77538581]\n",
      " [0.74330857]]\n"
     ]
    }
   ],
   "source": [
    "x_array = random.randint(100, size=(3,2,2))\n",
    "\n",
    "print(x_array)\n",
    "\n",
    "y_array = random.rand(5,1)\n",
    "print(y_array)"
   ]
  },
  {
   "cell_type": "markdown",
   "id": "43b05a33-3f21-4079-a0ac-4b8066546de4",
   "metadata": {},
   "source": [
    "O podemos dar una lista de opciones y numpy puede elegir aleatoriamente entre estas"
   ]
  },
  {
   "cell_type": "code",
   "execution_count": null,
   "id": "b8e58fbc-b12c-443f-b03f-f0417177d248",
   "metadata": {},
   "outputs": [
    {
     "name": "stdout",
     "output_type": "stream",
     "text": [
      "2\n",
      "[9 9 5]\n",
      "[[5 3 9 2]\n",
      " [7 2 5 9]\n",
      " [1 5 5 3]\n",
      " [9 1 3 1]]\n"
     ]
    }
   ],
   "source": [
    "options = [1,2,3,5,7,9]\n",
    "\n",
    "x = random.choice(options)\n",
    "print(x)\n",
    "\n",
    "x_1d = random.choice(options, size=(3))\n",
    "print(x_1d)\n",
    "\n",
    "x_2d = random.choice(options, size=(4,4))\n",
    "print(x_2d)"
   ]
  },
  {
   "attachments": {},
   "cell_type": "markdown",
   "id": "1ec9d3b8-ee2f-4ba8-802f-e0fab967dbb6",
   "metadata": {},
   "source": [
    "### <span style=\"color:#4CC9F0\">Generación a partir de una distribución</span>"
   ]
  },
  {
   "cell_type": "markdown",
   "id": "205f04de-3a8c-4024-937c-abce1aef7500",
   "metadata": {},
   "source": [
    "random permite generar números aleatorios con base en distribuciones de datos.\n",
    "\n",
    "ejemplo, usando de nuevo `choice`, podemos definir la probabilidad de que cada opción suceda, creando una distribución"
   ]
  },
  {
   "cell_type": "code",
   "execution_count": null,
   "id": "78e88f74-1ea0-41e1-9c9a-449380f786c9",
   "metadata": {},
   "outputs": [
    {
     "name": "stdout",
     "output_type": "stream",
     "text": [
      "[1 3 9 1 3]\n"
     ]
    }
   ],
   "source": [
    "x_1d = random.choice(options, size=(5), p=[0.5, 0.1, 0.1, 0.1, 0.1, 0.1])\n",
    "\n",
    "print(x_1d)"
   ]
  },
  {
   "cell_type": "markdown",
   "id": "1435799e-8fc5-4162-8dbb-3a0896a23d88",
   "metadata": {},
   "source": [
    "Pero tenemos opciones de usar distribuciones ya definidas para la generación de muestras.\n",
    "\n",
    "el ejemplo principal de esto es la distribución normal"
   ]
  },
  {
   "cell_type": "code",
   "execution_count": null,
   "id": "effe3fed-9601-4d4f-adff-ceed2831c23f",
   "metadata": {},
   "outputs": [
    {
     "name": "stdout",
     "output_type": "stream",
     "text": [
      "[[ 0.31530111  1.20825228 -0.95967433]\n",
      " [ 0.43197048  0.43972862 -2.12254463]\n",
      " [ 0.87068944 -0.31962667 -0.39816744]]\n"
     ]
    }
   ],
   "source": [
    "x = random.normal(size=(3,3))\n",
    "\n",
    "print(x)"
   ]
  },
  {
   "cell_type": "markdown",
   "id": "e0a14ad9-3621-4995-ad81-1f7744163e64",
   "metadata": {},
   "source": [
    "veamos el comportamiento de estas muestras a mayor detalle"
   ]
  },
  {
   "cell_type": "code",
   "execution_count": null,
   "id": "f8f87e57-6885-4d1e-9bb8-56670736de6c",
   "metadata": {},
   "outputs": [
    {
     "data": {
      "text/plain": [
       "<AxesSubplot:ylabel='Count'>"
      ]
     },
     "execution_count": 44,
     "metadata": {},
     "output_type": "execute_result"
    },
    {
     "data": {
      "image/png": "[encoded data removed]",
      "text/plain": [
       "<Figure size 432x288 with 1 Axes>"
      ]
     },
     "metadata": {
      "needs_background": "light"
     },
     "output_type": "display_data"
    }
   ],
   "source": [
    "import seaborn as sns\n",
    "\n",
    "x = random.normal(size=1000)\n",
    "\n",
    "sns.histplot(x, kde=True)"
   ]
  },
  {
   "cell_type": "markdown",
   "id": "a85ee507-4309-498b-9671-b79643feead0",
   "metadata": {},
   "source": [
    "y podemos cambiar los parametros de las distribuciones para nuestras necesidades"
   ]
  },
  {
   "cell_type": "code",
   "execution_count": null,
   "id": "c7b297d7-901f-4a82-bf2b-15fa9f2ace6f",
   "metadata": {},
   "outputs": [
    {
     "data": {
      "text/plain": [
       "<AxesSubplot:ylabel='Count'>"
      ]
     },
     "execution_count": 45,
     "metadata": {},
     "output_type": "execute_result"
    },
    {
     "data": {
      "image/png": "[encoded data removed]",
      "text/plain": [
       "<Figure size 432x288 with 1 Axes>"
      ]
     },
     "metadata": {
      "needs_background": "light"
     },
     "output_type": "display_data"
    }
   ],
   "source": [
    "y = random.normal(loc=1, scale=2, size=1000) #loc: media, scale: desviación estándar\n",
    "\n",
    "sns.histplot(y, kde=True)"
   ]
  },
  {
   "cell_type": "code",
   "execution_count": null,
   "id": "2de34754-bdb4-4ecc-8e8e-832e7b1edcbf",
   "metadata": {},
   "outputs": [
    {
     "data": {
      "text/plain": [
       "<AxesSubplot:ylabel='Count'>"
      ]
     },
     "execution_count": 46,
     "metadata": {},
     "output_type": "execute_result"
    },
    {
     "data": {
      "image/png": "[encoded data removed]",
      "text/plain": [
       "<Figure size 432x288 with 1 Axes>"
      ]
     },
     "metadata": {
      "needs_background": "light"
     },
     "output_type": "display_data"
    }
   ],
   "source": [
    "y = random.normal(loc=0, scale=5, size=1000) #loc: media, scale: desviación estándar\n",
    "\n",
    "sns.histplot(y, kde=True)"
   ]
  }
 ],
 "metadata": {
  "kernelspec": {
   "display_name": "Python 3 (ipykernel)",
   "language": "python",
   "name": "python3"
  },
  "language_info": {
   "codemirror_mode": {
    "name": "ipython",
    "version": 3
   },
   "file_extension": ".py",
   "mimetype": "text/x-python",
   "name": "python",
   "nbconvert_exporter": "python",
   "pygments_lexer": "ipython3",
   "version": "3.9.16"
  },
  "vscode": {
   "interpreter": {
    "hash": "6e8a17df5fde925ed372ff6e56ad9fe068706fee6b0f2460442b395fc94eb3eb"
   }
  }
 },
 "nbformat": 4,
 "nbformat_minor": 5
}
