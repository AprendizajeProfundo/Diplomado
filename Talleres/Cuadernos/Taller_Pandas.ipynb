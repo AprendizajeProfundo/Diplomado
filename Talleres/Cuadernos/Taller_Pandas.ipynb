{
 "cells": [
  {
   "cell_type": "markdown",
   "id": "bdb5afd4-ea7d-4aea-9f7d-a3c5580f7237",
   "metadata": {},
   "source": [
    "<figure>\n",
    "<img src=\"../Imagenes/logo-final-ap.png\"  width=\"80\" height=\"80\" align=\"left\"/> \n",
    "</figure>\n",
    "\n",
    "# <span style=\"color:#4361EE\"><left>Aprendizaje Profundo</left></span>"
   ]
  },
  {
   "cell_type": "markdown",
   "id": "ad4b68b1-96b8-4fa7-bf62-f62356637c49",
   "metadata": {},
   "source": [
    "# <span style=\"color:red\"><center>Diplomado en Inteligencia Artificial y Aprendizaje Profundo</center></span>"
   ]
  },
  {
   "cell_type": "markdown",
   "id": "90d1f60e-30a7-4a20-90ef-40d7da5f6b88",
   "metadata": {},
   "source": [
    "# <span style=\"color:green\"><center>Taller del módulo `pandas`</center></span>\n"
   ]
  },
  {
   "cell_type": "markdown",
   "id": "8be4bc1b-5426-4b8b-be00-ee92c34799b1",
   "metadata": {},
   "source": [
    "<figure>\n",
    "<center>\n",
    "<img src=\"https://raw.githubusercontent.com/AprendizajeProfundo/Alejandria/main/Archivos_Generales/Imagenes/Carretera.jpg\" width=\"600\" height=\"400\" align=\"center\" /> \n",
    "</center>   \n",
    "</figure>\n",
    "\n",
    "<center>Fuente: <a href=\"https://sp.depositphotos.com/stock-photos/architecture-buildings.html\">Dubai downtown cityscape - sp.depositphotos.com</a></center>"
   ]
  },
  {
   "cell_type": "markdown",
   "id": "7e8ef38e-88c3-4e36-b174-8a6b97f975a7",
   "metadata": {},
   "source": [
    "## <span style=\"color:#4361EE\">Profesores</span>"
   ]
  },
  {
   "cell_type": "markdown",
   "id": "d917e832-c1a9-4781-aacb-89da1e005984",
   "metadata": {},
   "source": [
    "1. Alvaro  Montenegro, PhD, ammontenegrod@unal.edu.co\n",
    "1. Camilo José Torres Jiménez, Msc, cjtorresj@unal.edu.co\n",
    "1. Daniel  Montenegro, Msc, dextronomo@gmail.com "
   ]
  },
  {
   "cell_type": "markdown",
   "id": "12dd7a70-3cd9-4768-bbf8-0b5a2d7d9d2d",
   "metadata": {},
   "source": [
    "## <span style=\"color:#4361EE\">Coordinador</span>"
   ]
  },
  {
   "cell_type": "markdown",
   "id": "e00e4fa3-0b95-49d9-8d99-8ecff1eccc47",
   "metadata": {},
   "source": [
    "4. Campo Elías Pardo Turriago, PhD, cepardot@unal.edu.co"
   ]
  },
  {
   "cell_type": "markdown",
   "id": "65d745d2-2d03-419c-af5b-a4ec10d4839d",
   "metadata": {},
   "source": [
    "## <span style=\"color:#4361EE\">Coautores</span>"
   ]
  },
  {
   "cell_type": "markdown",
   "id": "4dbf1b19-fea0-43eb-8c02-c41fde3ea043",
   "metadata": {},
   "source": [
    "5. Camilo José Torres Jiménez, Msc, cjtorresj@unal.edu.co\n",
    "6. Oleg Jarma, ojarmam@unal.edu.co\n",
    "7. Julieth López, julalopezcas@unal.edu.co"
   ]
  },
  {
   "cell_type": "markdown",
   "id": "31583dcf-c1f6-4111-a96b-343219fc6a8b",
   "metadata": {},
   "source": [
    "## <span style=\"color:#4361EE\">Asesora Medios y Marketing digital</span>"
   ]
  },
  {
   "cell_type": "markdown",
   "id": "3a11ce72-c3bc-416c-a581-42df2a5f1d07",
   "metadata": {},
   "source": [
    "8. Maria del Pilar Montenegro, pmontenegro88@gmail.com\n",
    "9. Jessica López Mejía, jelopezme@unal.edu.co"
   ]
  },
  {
   "cell_type": "markdown",
   "id": "04fdffa3-b1de-4cfb-aca4-3dd60db71e2c",
   "metadata": {},
   "source": [
    "## <span style=\"color:#4361EE\">Jefe Jurídica</span>"
   ]
  },
  {
   "cell_type": "markdown",
   "id": "2034d3b1-27aa-4c05-ba16-333171ce6203",
   "metadata": {},
   "source": [
    "10. Paula Andrea Guzmán, guzmancruz.paula@gmail.com"
   ]
  },
  {
   "cell_type": "markdown",
   "id": "b53f8925-32d2-4d9e-9f34-ad9a4700d65a",
   "metadata": {},
   "source": [
    "## <span style=\"color:#4361EE\">Coordinador Jurídico</span>"
   ]
  },
  {
   "cell_type": "markdown",
   "id": "09e3442b-2a7b-4474-a49f-6ed0dbff2b77",
   "metadata": {},
   "source": [
    "11. David Fuentes, fuentesd065@gmail.com"
   ]
  },
  {
   "cell_type": "markdown",
   "id": "a28d9882-8d93-467f-b6f1-4c42ace46629",
   "metadata": {},
   "source": [
    "## <span style=\"color:#4361EE\">Desarrolladores Principales</span>"
   ]
  },
  {
   "cell_type": "markdown",
   "id": "e59de54d-148c-4979-be4d-cdfb95e55ff2",
   "metadata": {},
   "source": [
    "12. Dairo Moreno, damoralesj@unal.edu.co\n",
    "13. Joan Castro, jocastroc@unal.edu.co\n",
    "14. Bryan Riveros, briveros@unal.edu.co\n",
    "15. Rosmer Vargas, rovargasc@unal.edu.co\n",
    "16. Venus Puertas, vpuertasg@unal.edu.co"
   ]
  },
  {
   "cell_type": "markdown",
   "id": "ff3efcf3-802c-4ee6-8d07-51d062e70475",
   "metadata": {},
   "source": [
    "## <span style=\"color:#4361EE\">Expertos en Bases de Datos</span>"
   ]
  },
  {
   "cell_type": "markdown",
   "id": "27914e34-a725-488d-b010-da8fbd03bb05",
   "metadata": {},
   "source": [
    "17. Giovvani Barrera, udgiovanni@gmail.com\n",
    "18. Camilo Chitivo, cchitivo@unal.edu.co"
   ]
  },
  {
   "cell_type": "markdown",
   "id": "a92b73fc",
   "metadata": {
    "id": "--yl3E28USV0"
   },
   "source": [
    "## **¿Qué es?**"
   ]
  },
  {
   "cell_type": "markdown",
   "id": "f671da06",
   "metadata": {
    "id": "I3BqaExXUXqJ"
   },
   "source": [
    "Pandas es una librería / paquete de Python destinada al análisis y manipulación de datos. Para obtener más información de este paquete, consultar <https://pandas.pydata.org/>"
   ]
  },
  {
   "cell_type": "code",
   "execution_count": 1,
   "id": "66c03d7b",
   "metadata": {
    "id": "ETNODbT9UnIV"
   },
   "outputs": [],
   "source": [
    "import pandas as pd"
   ]
  },
  {
   "cell_type": "markdown",
   "id": "fecec799",
   "metadata": {
    "id": "jpUyTyMxUi-t"
   },
   "source": [
    "### **¿Cómo importar datos?**"
   ]
  },
  {
   "cell_type": "markdown",
   "id": "88586fd0-8340-477e-9a91-7df581fb71e7",
   "metadata": {
    "id": "yDzCmP7cYGzE"
   },
   "source": [
    "Para leer los datos, la estructura básica es `pd.read_tipo-archivo`. "
   ]
  },
  {
   "cell_type": "markdown",
   "id": "1d4e3079-c997-449c-b8e4-c7669a18fafb",
   "metadata": {
    "id": "yDzCmP7cYGzE"
   },
   "source": [
    "> Si estamos en Google Colab y queremos utilizar algunos datos que están en nuestro Google Drive, podemos utilizar el siguiente código para montar la carpeta raíz de Google Drive:\n",
    "> \n",
    "> ```\n",
    "> from google.colab import drive\n",
    "> drive.mount('/content/gdrive')\n",
    "> ```"
   ]
  },
  {
   "cell_type": "markdown",
   "id": "c4fa654d-8206-465f-8538-3a7053135bc5",
   "metadata": {},
   "source": [
    "Para que el siguiente bloque de código funcione, tiene que estar instalado el paquete o módulo `openpyxl`\n",
    "(usando un bloque de código, por ejemplo en este cuaderno, al ejecutar: `!conda install openpyxl`, se instala el paquete)"
   ]
  },
  {
   "cell_type": "code",
   "execution_count": 2,
   "id": "9cbc291d",
   "metadata": {
    "colab": {
     "base_uri": "https://localhost:8080/"
    },
    "id": "w7qw_WJwVDtn",
    "outputId": "a65d6486-9088-4ae3-c35d-f9fdc87afd07"
   },
   "outputs": [
    {
     "name": "stdout",
     "output_type": "stream",
     "text": [
      "<class 'pandas.core.frame.DataFrame'>\n"
     ]
    }
   ],
   "source": [
    "ruta_carpeta = \"../Datos/\"\n",
    "counties = pd.read_excel(ruta_carpeta + \"counties.xlsx\") \n",
    "print(type(counties))"
   ]
  },
  {
   "cell_type": "markdown",
   "id": "c70ba762",
   "metadata": {
    "id": "Qaq5QnlUYvk7"
   },
   "source": [
    "Si quiero hacerme una idea de las variables y los datos que tengo en la variables `counties`:"
   ]
  },
  {
   "cell_type": "code",
   "execution_count": 3,
   "id": "a0544f2d",
   "metadata": {
    "colab": {
     "base_uri": "https://localhost:8080/",
     "height": 419
    },
    "id": "ke38Y4qqU6lS",
    "outputId": "ff9f5711-e549-4e52-fca6-cf78b88b35b6"
   },
   "outputs": [
    {
     "data": {
      "text/html": [
       "<div>\n",
       "<style scoped>\n",
       "    .dataframe tbody tr th:only-of-type {\n",
       "        vertical-align: middle;\n",
       "    }\n",
       "\n",
       "    .dataframe tbody tr th {\n",
       "        vertical-align: top;\n",
       "    }\n",
       "\n",
       "    .dataframe thead th {\n",
       "        text-align: right;\n",
       "    }\n",
       "</style>\n",
       "<table border=\"1\" class=\"dataframe\">\n",
       "  <thead>\n",
       "    <tr style=\"text-align: right;\">\n",
       "      <th></th>\n",
       "      <th>codestate</th>\n",
       "      <th>codecounty</th>\n",
       "      <th>county</th>\n",
       "      <th>population</th>\n",
       "      <th>area</th>\n",
       "    </tr>\n",
       "  </thead>\n",
       "  <tbody>\n",
       "    <tr>\n",
       "      <th>0</th>\n",
       "      <td>1</td>\n",
       "      <td>1001</td>\n",
       "      <td>Auta#%&amp;()uga</td>\n",
       "      <td>54571.0</td>\n",
       "      <td>594.436000</td>\n",
       "    </tr>\n",
       "    <tr>\n",
       "      <th>1</th>\n",
       "      <td>1</td>\n",
       "      <td>1003</td>\n",
       "      <td>Baldwin#%&amp;()  ?</td>\n",
       "      <td>182265.0</td>\n",
       "      <td>1589.784000</td>\n",
       "    </tr>\n",
       "    <tr>\n",
       "      <th>2</th>\n",
       "      <td>1</td>\n",
       "      <td>1005</td>\n",
       "      <td>Barbour</td>\n",
       "      <td>27457.0</td>\n",
       "      <td>884.876000</td>\n",
       "    </tr>\n",
       "    <tr>\n",
       "      <th>3</th>\n",
       "      <td>1</td>\n",
       "      <td>1007</td>\n",
       "      <td>Bi#%&amp;()bb</td>\n",
       "      <td>22915.0</td>\n",
       "      <td>622.582000</td>\n",
       "    </tr>\n",
       "    <tr>\n",
       "      <th>4</th>\n",
       "      <td>1</td>\n",
       "      <td>1009</td>\n",
       "      <td>Blount  ?</td>\n",
       "      <td>57322.0</td>\n",
       "      <td>644.776000</td>\n",
       "    </tr>\n",
       "    <tr>\n",
       "      <th>...</th>\n",
       "      <td>...</td>\n",
       "      <td>...</td>\n",
       "      <td>...</td>\n",
       "      <td>...</td>\n",
       "      <td>...</td>\n",
       "    </tr>\n",
       "    <tr>\n",
       "      <th>3229</th>\n",
       "      <td>72</td>\n",
       "      <td>72151</td>\n",
       "      <td>Yabucoa</td>\n",
       "      <td>37941.0</td>\n",
       "      <td>55.215000</td>\n",
       "    </tr>\n",
       "    <tr>\n",
       "      <th>3230</th>\n",
       "      <td>72</td>\n",
       "      <td>72153</td>\n",
       "      <td>Ya_uco</td>\n",
       "      <td>42043.0</td>\n",
       "      <td>68.192000</td>\n",
       "    </tr>\n",
       "    <tr>\n",
       "      <th>3231</th>\n",
       "      <td>78</td>\n",
       "      <td>78010</td>\n",
       "      <td>; St. Croix ?</td>\n",
       "      <td>50601.0</td>\n",
       "      <td>83.345868</td>\n",
       "    </tr>\n",
       "    <tr>\n",
       "      <th>3232</th>\n",
       "      <td>78</td>\n",
       "      <td>78020</td>\n",
       "      <td>St. John</td>\n",
       "      <td>4170.0</td>\n",
       "      <td>19.689867</td>\n",
       "    </tr>\n",
       "    <tr>\n",
       "      <th>3233</th>\n",
       "      <td>78</td>\n",
       "      <td>78030</td>\n",
       "      <td>St. Thomas</td>\n",
       "      <td>51634.0</td>\n",
       "      <td>31.313503</td>\n",
       "    </tr>\n",
       "  </tbody>\n",
       "</table>\n",
       "<p>3234 rows × 5 columns</p>\n",
       "</div>"
      ],
      "text/plain": [
       "      codestate  codecounty                 county  population         area\n",
       "0             1        1001          Auta#%&()uga      54571.0   594.436000\n",
       "1             1        1003   Baldwin#%&()  ?         182265.0  1589.784000\n",
       "2             1        1005               Barbour      27457.0   884.876000\n",
       "3             1        1007             Bi#%&()bb      22915.0   622.582000\n",
       "4             1        1009         Blount  ?          57322.0   644.776000\n",
       "...         ...         ...                    ...         ...          ...\n",
       "3229         72       72151               Yabucoa      37941.0    55.215000\n",
       "3230         72       72153                Ya_uco      42043.0    68.192000\n",
       "3231         78       78010     ; St. Croix ?          50601.0    83.345868\n",
       "3232         78       78020               St. John      4170.0    19.689867\n",
       "3233         78       78030             St. Thomas     51634.0    31.313503\n",
       "\n",
       "[3234 rows x 5 columns]"
      ]
     },
     "metadata": {},
     "output_type": "display_data"
    }
   ],
   "source": [
    "display(counties)"
   ]
  },
  {
   "cell_type": "markdown",
   "id": "316cbdf7",
   "metadata": {
    "id": "QC4MKt1VY32I"
   },
   "source": [
    "En lo anterior veiamos todas las variables con las 5 primeras y 5 últimas filas. Pero, podemos ver una cantidad determinada de registros (filas), tanto del inicio de la tabla como del final, utilizando `.head()` y `.tail()` respectivamente."
   ]
  },
  {
   "cell_type": "code",
   "execution_count": 4,
   "id": "b480eee5",
   "metadata": {
    "colab": {
     "base_uri": "https://localhost:8080/",
     "height": 142
    },
    "id": "urd2HbgEWXv5",
    "outputId": "6041d85e-7113-4697-a236-345824a6f0ab"
   },
   "outputs": [
    {
     "data": {
      "text/html": [
       "<div>\n",
       "<style scoped>\n",
       "    .dataframe tbody tr th:only-of-type {\n",
       "        vertical-align: middle;\n",
       "    }\n",
       "\n",
       "    .dataframe tbody tr th {\n",
       "        vertical-align: top;\n",
       "    }\n",
       "\n",
       "    .dataframe thead th {\n",
       "        text-align: right;\n",
       "    }\n",
       "</style>\n",
       "<table border=\"1\" class=\"dataframe\">\n",
       "  <thead>\n",
       "    <tr style=\"text-align: right;\">\n",
       "      <th></th>\n",
       "      <th>codestate</th>\n",
       "      <th>codecounty</th>\n",
       "      <th>county</th>\n",
       "      <th>population</th>\n",
       "      <th>area</th>\n",
       "    </tr>\n",
       "  </thead>\n",
       "  <tbody>\n",
       "    <tr>\n",
       "      <th>0</th>\n",
       "      <td>1</td>\n",
       "      <td>1001</td>\n",
       "      <td>Auta#%&amp;()uga</td>\n",
       "      <td>54571.0</td>\n",
       "      <td>594.436</td>\n",
       "    </tr>\n",
       "    <tr>\n",
       "      <th>1</th>\n",
       "      <td>1</td>\n",
       "      <td>1003</td>\n",
       "      <td>Baldwin#%&amp;()  ?</td>\n",
       "      <td>182265.0</td>\n",
       "      <td>1589.784</td>\n",
       "    </tr>\n",
       "    <tr>\n",
       "      <th>2</th>\n",
       "      <td>1</td>\n",
       "      <td>1005</td>\n",
       "      <td>Barbour</td>\n",
       "      <td>27457.0</td>\n",
       "      <td>884.876</td>\n",
       "    </tr>\n",
       "  </tbody>\n",
       "</table>\n",
       "</div>"
      ],
      "text/plain": [
       "   codestate  codecounty                county  population      area\n",
       "0          1        1001         Auta#%&()uga      54571.0   594.436\n",
       "1          1        1003  Baldwin#%&()  ?         182265.0  1589.784\n",
       "2          1        1005              Barbour      27457.0   884.876"
      ]
     },
     "execution_count": 4,
     "metadata": {},
     "output_type": "execute_result"
    }
   ],
   "source": [
    "counties.head(3) # 5 es el valor predeterminado"
   ]
  },
  {
   "cell_type": "code",
   "execution_count": 5,
   "id": "524f03ba",
   "metadata": {
    "colab": {
     "base_uri": "https://localhost:8080/",
     "height": 111
    },
    "id": "XsenjD3JWkQN",
    "outputId": "09d8576e-da8e-4dea-9667-268f20fdd27b"
   },
   "outputs": [
    {
     "data": {
      "text/html": [
       "<div>\n",
       "<style scoped>\n",
       "    .dataframe tbody tr th:only-of-type {\n",
       "        vertical-align: middle;\n",
       "    }\n",
       "\n",
       "    .dataframe tbody tr th {\n",
       "        vertical-align: top;\n",
       "    }\n",
       "\n",
       "    .dataframe thead th {\n",
       "        text-align: right;\n",
       "    }\n",
       "</style>\n",
       "<table border=\"1\" class=\"dataframe\">\n",
       "  <thead>\n",
       "    <tr style=\"text-align: right;\">\n",
       "      <th></th>\n",
       "      <th>codestate</th>\n",
       "      <th>codecounty</th>\n",
       "      <th>county</th>\n",
       "      <th>population</th>\n",
       "      <th>area</th>\n",
       "    </tr>\n",
       "  </thead>\n",
       "  <tbody>\n",
       "    <tr>\n",
       "      <th>3230</th>\n",
       "      <td>72</td>\n",
       "      <td>72153</td>\n",
       "      <td>Ya_uco</td>\n",
       "      <td>42043.0</td>\n",
       "      <td>68.192000</td>\n",
       "    </tr>\n",
       "    <tr>\n",
       "      <th>3231</th>\n",
       "      <td>78</td>\n",
       "      <td>78010</td>\n",
       "      <td>; St. Croix ?</td>\n",
       "      <td>50601.0</td>\n",
       "      <td>83.345868</td>\n",
       "    </tr>\n",
       "    <tr>\n",
       "      <th>3232</th>\n",
       "      <td>78</td>\n",
       "      <td>78020</td>\n",
       "      <td>St. John</td>\n",
       "      <td>4170.0</td>\n",
       "      <td>19.689867</td>\n",
       "    </tr>\n",
       "    <tr>\n",
       "      <th>3233</th>\n",
       "      <td>78</td>\n",
       "      <td>78030</td>\n",
       "      <td>St. Thomas</td>\n",
       "      <td>51634.0</td>\n",
       "      <td>31.313503</td>\n",
       "    </tr>\n",
       "  </tbody>\n",
       "</table>\n",
       "</div>"
      ],
      "text/plain": [
       "      codestate  codecounty                 county  population       area\n",
       "3230         72       72153                Ya_uco      42043.0  68.192000\n",
       "3231         78       78010     ; St. Croix ?          50601.0  83.345868\n",
       "3232         78       78020               St. John      4170.0  19.689867\n",
       "3233         78       78030             St. Thomas     51634.0  31.313503"
      ]
     },
     "execution_count": 5,
     "metadata": {},
     "output_type": "execute_result"
    }
   ],
   "source": [
    "counties.tail(4) # 5 es el valor predeterminado"
   ]
  },
  {
   "cell_type": "markdown",
   "id": "31f4e22a",
   "metadata": {
    "id": "ZexVZppTZeIY"
   },
   "source": [
    "Si además de ver la tabla, queremos más información, por ejemplo sus dimensiones y tipo de variables, podemos utilizar lo siguiente:"
   ]
  },
  {
   "cell_type": "code",
   "execution_count": 6,
   "id": "18567390-a6cf-4d90-a2c4-be1e9610539e",
   "metadata": {
    "colab": {
     "base_uri": "https://localhost:8080/"
    },
    "id": "pb6R6Sk1WRS1",
    "outputId": "8c1b1843-3418-4cc2-f4c8-fc1223ef68d7"
   },
   "outputs": [
    {
     "name": "stdout",
     "output_type": "stream",
     "text": [
      "<class 'pandas.core.frame.DataFrame'>\n",
      "RangeIndex: 3234 entries, 0 to 3233\n",
      "Data columns (total 5 columns):\n",
      " #   Column      Non-Null Count  Dtype  \n",
      "---  ------      --------------  -----  \n",
      " 0   codestate   3234 non-null   int64  \n",
      " 1   codecounty  3234 non-null   int64  \n",
      " 2   county      3234 non-null   object \n",
      " 3   population  3232 non-null   float64\n",
      " 4   area        3234 non-null   float64\n",
      "dtypes: float64(2), int64(2), object(1)\n",
      "memory usage: 126.5+ KB\n"
     ]
    }
   ],
   "source": [
    "counties.info()"
   ]
  },
  {
   "cell_type": "code",
   "execution_count": 7,
   "id": "a1e655c2-e75f-4cbe-be81-f908cd2e34ee",
   "metadata": {
    "colab": {
     "base_uri": "https://localhost:8080/"
    },
    "id": "pb6R6Sk1WRS1",
    "outputId": "8c1b1843-3418-4cc2-f4c8-fc1223ef68d7"
   },
   "outputs": [
    {
     "name": "stdout",
     "output_type": "stream",
     "text": [
      "El tamaño de la tabla de datos es: (3234, 5)\n"
     ]
    }
   ],
   "source": [
    "print(\"El tamaño de la tabla de datos es:\", counties.shape)"
   ]
  },
  {
   "cell_type": "code",
   "execution_count": 8,
   "id": "ae3b8144-2704-4f90-9b65-cd0cda7ef17e",
   "metadata": {
    "colab": {
     "base_uri": "https://localhost:8080/"
    },
    "id": "14k3sgunWqWk",
    "outputId": "aac57289-e15c-47f0-b8e8-ca12a626d8bd"
   },
   "outputs": [
    {
     "name": "stdout",
     "output_type": "stream",
     "text": [
      "codestate       int64\n",
      "codecounty      int64\n",
      "county         object\n",
      "population    float64\n",
      "area          float64\n",
      "dtype: object\n"
     ]
    }
   ],
   "source": [
    "print(counties.dtypes) #tipo de objeto en cada columna"
   ]
  },
  {
   "cell_type": "code",
   "execution_count": 9,
   "id": "7407ff1c-112a-4b36-b67f-52853ff04f18",
   "metadata": {
    "colab": {
     "base_uri": "https://localhost:8080/"
    },
    "id": "14k3sgunWqWk",
    "outputId": "aac57289-e15c-47f0-b8e8-ca12a626d8bd"
   },
   "outputs": [
    {
     "data": {
      "text/html": [
       "<div>\n",
       "<style scoped>\n",
       "    .dataframe tbody tr th:only-of-type {\n",
       "        vertical-align: middle;\n",
       "    }\n",
       "\n",
       "    .dataframe tbody tr th {\n",
       "        vertical-align: top;\n",
       "    }\n",
       "\n",
       "    .dataframe thead th {\n",
       "        text-align: right;\n",
       "    }\n",
       "</style>\n",
       "<table border=\"1\" class=\"dataframe\">\n",
       "  <thead>\n",
       "    <tr style=\"text-align: right;\">\n",
       "      <th></th>\n",
       "      <th>codestate</th>\n",
       "      <th>codecounty</th>\n",
       "      <th>population</th>\n",
       "      <th>area</th>\n",
       "    </tr>\n",
       "  </thead>\n",
       "  <tbody>\n",
       "    <tr>\n",
       "      <th>count</th>\n",
       "      <td>3234.000000</td>\n",
       "      <td>3234.000000</td>\n",
       "      <td>3.232000e+03</td>\n",
       "      <td>3234.000000</td>\n",
       "    </tr>\n",
       "    <tr>\n",
       "      <th>mean</th>\n",
       "      <td>31.441868</td>\n",
       "      <td>31544.737786</td>\n",
       "      <td>9.679656e+04</td>\n",
       "      <td>1093.361817</td>\n",
       "    </tr>\n",
       "    <tr>\n",
       "      <th>std</th>\n",
       "      <td>16.411236</td>\n",
       "      <td>16425.545223</td>\n",
       "      <td>3.088044e+05</td>\n",
       "      <td>3564.706999</td>\n",
       "    </tr>\n",
       "    <tr>\n",
       "      <th>min</th>\n",
       "      <td>1.000000</td>\n",
       "      <td>1001.000000</td>\n",
       "      <td>1.700000e+01</td>\n",
       "      <td>0.031696</td>\n",
       "    </tr>\n",
       "    <tr>\n",
       "      <th>25%</th>\n",
       "      <td>19.000000</td>\n",
       "      <td>19039.500000</td>\n",
       "      <td>1.129700e+04</td>\n",
       "      <td>416.360000</td>\n",
       "    </tr>\n",
       "    <tr>\n",
       "      <th>50%</th>\n",
       "      <td>30.000000</td>\n",
       "      <td>30038.000000</td>\n",
       "      <td>2.607550e+04</td>\n",
       "      <td>602.977500</td>\n",
       "    </tr>\n",
       "    <tr>\n",
       "      <th>75%</th>\n",
       "      <td>46.000000</td>\n",
       "      <td>46128.500000</td>\n",
       "      <td>6.566050e+04</td>\n",
       "      <td>913.884500</td>\n",
       "    </tr>\n",
       "    <tr>\n",
       "      <th>max</th>\n",
       "      <td>78.000000</td>\n",
       "      <td>78030.000000</td>\n",
       "      <td>9.818605e+06</td>\n",
       "      <td>145504.789000</td>\n",
       "    </tr>\n",
       "  </tbody>\n",
       "</table>\n",
       "</div>"
      ],
      "text/plain": [
       "         codestate    codecounty    population           area\n",
       "count  3234.000000   3234.000000  3.232000e+03    3234.000000\n",
       "mean     31.441868  31544.737786  9.679656e+04    1093.361817\n",
       "std      16.411236  16425.545223  3.088044e+05    3564.706999\n",
       "min       1.000000   1001.000000  1.700000e+01       0.031696\n",
       "25%      19.000000  19039.500000  1.129700e+04     416.360000\n",
       "50%      30.000000  30038.000000  2.607550e+04     602.977500\n",
       "75%      46.000000  46128.500000  6.566050e+04     913.884500\n",
       "max      78.000000  78030.000000  9.818605e+06  145504.789000"
      ]
     },
     "execution_count": 9,
     "metadata": {},
     "output_type": "execute_result"
    }
   ],
   "source": [
    "counties.describe()"
   ]
  },
  {
   "cell_type": "code",
   "execution_count": 10,
   "id": "c2466ec5-f4b5-4ea1-b5f5-e0e7a592d431",
   "metadata": {
    "colab": {
     "base_uri": "https://localhost:8080/"
    },
    "id": "14k3sgunWqWk",
    "outputId": "aac57289-e15c-47f0-b8e8-ca12a626d8bd"
   },
   "outputs": [
    {
     "data": {
      "text/html": [
       "<div>\n",
       "<style scoped>\n",
       "    .dataframe tbody tr th:only-of-type {\n",
       "        vertical-align: middle;\n",
       "    }\n",
       "\n",
       "    .dataframe tbody tr th {\n",
       "        vertical-align: top;\n",
       "    }\n",
       "\n",
       "    .dataframe thead th {\n",
       "        text-align: right;\n",
       "    }\n",
       "</style>\n",
       "<table border=\"1\" class=\"dataframe\">\n",
       "  <thead>\n",
       "    <tr style=\"text-align: right;\">\n",
       "      <th></th>\n",
       "      <th>codestate</th>\n",
       "      <th>codecounty</th>\n",
       "      <th>county</th>\n",
       "      <th>population</th>\n",
       "      <th>area</th>\n",
       "    </tr>\n",
       "  </thead>\n",
       "  <tbody>\n",
       "    <tr>\n",
       "      <th>count</th>\n",
       "      <td>3234.000000</td>\n",
       "      <td>3234.000000</td>\n",
       "      <td>3234</td>\n",
       "      <td>3.232000e+03</td>\n",
       "      <td>3234.000000</td>\n",
       "    </tr>\n",
       "    <tr>\n",
       "      <th>unique</th>\n",
       "      <td>NaN</td>\n",
       "      <td>NaN</td>\n",
       "      <td>2625</td>\n",
       "      <td>NaN</td>\n",
       "      <td>NaN</td>\n",
       "    </tr>\n",
       "    <tr>\n",
       "      <th>top</th>\n",
       "      <td>NaN</td>\n",
       "      <td>NaN</td>\n",
       "      <td>Lincoln</td>\n",
       "      <td>NaN</td>\n",
       "      <td>NaN</td>\n",
       "    </tr>\n",
       "    <tr>\n",
       "      <th>freq</th>\n",
       "      <td>NaN</td>\n",
       "      <td>NaN</td>\n",
       "      <td>14</td>\n",
       "      <td>NaN</td>\n",
       "      <td>NaN</td>\n",
       "    </tr>\n",
       "    <tr>\n",
       "      <th>mean</th>\n",
       "      <td>31.441868</td>\n",
       "      <td>31544.737786</td>\n",
       "      <td>NaN</td>\n",
       "      <td>9.679656e+04</td>\n",
       "      <td>1093.361817</td>\n",
       "    </tr>\n",
       "    <tr>\n",
       "      <th>std</th>\n",
       "      <td>16.411236</td>\n",
       "      <td>16425.545223</td>\n",
       "      <td>NaN</td>\n",
       "      <td>3.088044e+05</td>\n",
       "      <td>3564.706999</td>\n",
       "    </tr>\n",
       "    <tr>\n",
       "      <th>min</th>\n",
       "      <td>1.000000</td>\n",
       "      <td>1001.000000</td>\n",
       "      <td>NaN</td>\n",
       "      <td>1.700000e+01</td>\n",
       "      <td>0.031696</td>\n",
       "    </tr>\n",
       "    <tr>\n",
       "      <th>25%</th>\n",
       "      <td>19.000000</td>\n",
       "      <td>19039.500000</td>\n",
       "      <td>NaN</td>\n",
       "      <td>1.129700e+04</td>\n",
       "      <td>416.360000</td>\n",
       "    </tr>\n",
       "    <tr>\n",
       "      <th>50%</th>\n",
       "      <td>30.000000</td>\n",
       "      <td>30038.000000</td>\n",
       "      <td>NaN</td>\n",
       "      <td>2.607550e+04</td>\n",
       "      <td>602.977500</td>\n",
       "    </tr>\n",
       "    <tr>\n",
       "      <th>75%</th>\n",
       "      <td>46.000000</td>\n",
       "      <td>46128.500000</td>\n",
       "      <td>NaN</td>\n",
       "      <td>6.566050e+04</td>\n",
       "      <td>913.884500</td>\n",
       "    </tr>\n",
       "    <tr>\n",
       "      <th>max</th>\n",
       "      <td>78.000000</td>\n",
       "      <td>78030.000000</td>\n",
       "      <td>NaN</td>\n",
       "      <td>9.818605e+06</td>\n",
       "      <td>145504.789000</td>\n",
       "    </tr>\n",
       "  </tbody>\n",
       "</table>\n",
       "</div>"
      ],
      "text/plain": [
       "          codestate    codecounty    county    population           area\n",
       "count   3234.000000   3234.000000      3234  3.232000e+03    3234.000000\n",
       "unique          NaN           NaN      2625           NaN            NaN\n",
       "top             NaN           NaN  Lincoln            NaN            NaN\n",
       "freq            NaN           NaN        14           NaN            NaN\n",
       "mean      31.441868  31544.737786       NaN  9.679656e+04    1093.361817\n",
       "std       16.411236  16425.545223       NaN  3.088044e+05    3564.706999\n",
       "min        1.000000   1001.000000       NaN  1.700000e+01       0.031696\n",
       "25%       19.000000  19039.500000       NaN  1.129700e+04     416.360000\n",
       "50%       30.000000  30038.000000       NaN  2.607550e+04     602.977500\n",
       "75%       46.000000  46128.500000       NaN  6.566050e+04     913.884500\n",
       "max       78.000000  78030.000000       NaN  9.818605e+06  145504.789000"
      ]
     },
     "execution_count": 10,
     "metadata": {},
     "output_type": "execute_result"
    }
   ],
   "source": [
    "counties.describe(include=\"all\")"
   ]
  },
  {
   "cell_type": "markdown",
   "id": "51e7c24f",
   "metadata": {
    "id": "_zvcDFcHXLOX"
   },
   "source": [
    "### **Seleccionar subconjuntos de una base de datos**"
   ]
  },
  {
   "cell_type": "markdown",
   "id": "4a414ead",
   "metadata": {
    "id": "wAfaMuO1Z0yS"
   },
   "source": [
    "### Seleccionar columnas"
   ]
  },
  {
   "cell_type": "markdown",
   "id": "c52d2d28",
   "metadata": {
    "id": "kl8bD-0YZx9X"
   },
   "source": [
    "Para ver el nombre de las columnas que existen, podemos utilizar `.columns`."
   ]
  },
  {
   "cell_type": "code",
   "execution_count": 11,
   "id": "f7fe5d8c",
   "metadata": {
    "colab": {
     "base_uri": "https://localhost:8080/"
    },
    "id": "0LZ_7Nb-XVxK",
    "outputId": "165d5b6b-522b-4ed6-ea01-0b94b0e8de1c"
   },
   "outputs": [
    {
     "data": {
      "text/plain": [
       "Index(['codestate', 'codecounty', 'county', 'population', 'area'], dtype='object')"
      ]
     },
     "execution_count": 11,
     "metadata": {},
     "output_type": "execute_result"
    }
   ],
   "source": [
    "counties.columns"
   ]
  },
  {
   "cell_type": "markdown",
   "id": "3a095965",
   "metadata": {
    "id": "ZQ9QlKdFX2ak"
   },
   "source": [
    "Escoger una columna específica o un conjunto de ellas:"
   ]
  },
  {
   "cell_type": "code",
   "execution_count": 12,
   "id": "a2bcb127-c08a-4e6f-9db6-87414eb7f986",
   "metadata": {
    "id": "E7qXeiNSXm-a",
    "tags": []
   },
   "outputs": [
    {
     "name": "stdout",
     "output_type": "stream",
     "text": [
      "<class 'pandas.core.series.Series'>\n"
     ]
    },
    {
     "data": {
      "text/plain": [
       "0               Auta#%&()uga \n",
       "1        Baldwin#%&()  ?     \n",
       "2                    Barbour \n",
       "3                  Bi#%&()bb \n",
       "4              Blount  ?     \n",
       "                ...          \n",
       "3229                 Yabucoa \n",
       "3230                  Ya_uco \n",
       "3231       ; St. Croix ?     \n",
       "3232                 St. John\n",
       "3233               St. Thomas\n",
       "Name: county, Length: 3234, dtype: object"
      ]
     },
     "execution_count": 12,
     "metadata": {},
     "output_type": "execute_result"
    }
   ],
   "source": [
    "condado = counties[\"county\"]\n",
    "print(type(condado))\n",
    "condado"
   ]
  },
  {
   "cell_type": "code",
   "execution_count": 13,
   "id": "f1e32016",
   "metadata": {
    "colab": {
     "base_uri": "https://localhost:8080/"
    },
    "id": "vhvtzm4yaMlc",
    "outputId": "41c6784a-fa99-40fd-fe12-74b704377a55"
   },
   "outputs": [
    {
     "name": "stdout",
     "output_type": "stream",
     "text": [
      "<class 'pandas.core.frame.DataFrame'>\n"
     ]
    },
    {
     "data": {
      "text/html": [
       "<div>\n",
       "<style scoped>\n",
       "    .dataframe tbody tr th:only-of-type {\n",
       "        vertical-align: middle;\n",
       "    }\n",
       "\n",
       "    .dataframe tbody tr th {\n",
       "        vertical-align: top;\n",
       "    }\n",
       "\n",
       "    .dataframe thead th {\n",
       "        text-align: right;\n",
       "    }\n",
       "</style>\n",
       "<table border=\"1\" class=\"dataframe\">\n",
       "  <thead>\n",
       "    <tr style=\"text-align: right;\">\n",
       "      <th></th>\n",
       "      <th>codecounty</th>\n",
       "      <th>county</th>\n",
       "    </tr>\n",
       "  </thead>\n",
       "  <tbody>\n",
       "    <tr>\n",
       "      <th>0</th>\n",
       "      <td>1001</td>\n",
       "      <td>Auta#%&amp;()uga</td>\n",
       "    </tr>\n",
       "    <tr>\n",
       "      <th>1</th>\n",
       "      <td>1003</td>\n",
       "      <td>Baldwin#%&amp;()  ?</td>\n",
       "    </tr>\n",
       "    <tr>\n",
       "      <th>2</th>\n",
       "      <td>1005</td>\n",
       "      <td>Barbour</td>\n",
       "    </tr>\n",
       "    <tr>\n",
       "      <th>3</th>\n",
       "      <td>1007</td>\n",
       "      <td>Bi#%&amp;()bb</td>\n",
       "    </tr>\n",
       "    <tr>\n",
       "      <th>4</th>\n",
       "      <td>1009</td>\n",
       "      <td>Blount  ?</td>\n",
       "    </tr>\n",
       "    <tr>\n",
       "      <th>...</th>\n",
       "      <td>...</td>\n",
       "      <td>...</td>\n",
       "    </tr>\n",
       "    <tr>\n",
       "      <th>3229</th>\n",
       "      <td>72151</td>\n",
       "      <td>Yabucoa</td>\n",
       "    </tr>\n",
       "    <tr>\n",
       "      <th>3230</th>\n",
       "      <td>72153</td>\n",
       "      <td>Ya_uco</td>\n",
       "    </tr>\n",
       "    <tr>\n",
       "      <th>3231</th>\n",
       "      <td>78010</td>\n",
       "      <td>; St. Croix ?</td>\n",
       "    </tr>\n",
       "    <tr>\n",
       "      <th>3232</th>\n",
       "      <td>78020</td>\n",
       "      <td>St. John</td>\n",
       "    </tr>\n",
       "    <tr>\n",
       "      <th>3233</th>\n",
       "      <td>78030</td>\n",
       "      <td>St. Thomas</td>\n",
       "    </tr>\n",
       "  </tbody>\n",
       "</table>\n",
       "<p>3234 rows × 2 columns</p>\n",
       "</div>"
      ],
      "text/plain": [
       "      codecounty                 county\n",
       "0           1001          Auta#%&()uga \n",
       "1           1003   Baldwin#%&()  ?     \n",
       "2           1005               Barbour \n",
       "3           1007             Bi#%&()bb \n",
       "4           1009         Blount  ?     \n",
       "...          ...                    ...\n",
       "3229       72151               Yabucoa \n",
       "3230       72153                Ya_uco \n",
       "3231       78010     ; St. Croix ?     \n",
       "3232       78020               St. John\n",
       "3233       78030             St. Thomas\n",
       "\n",
       "[3234 rows x 2 columns]"
      ]
     },
     "execution_count": 13,
     "metadata": {},
     "output_type": "execute_result"
    }
   ],
   "source": [
    "codi_condado = counties[[\"codecounty\",\"county\"]]\n",
    "print(type(codi_condado))\n",
    "codi_condado"
   ]
  },
  {
   "cell_type": "markdown",
   "id": "4116b0db",
   "metadata": {
    "id": "iluJhOUgZ48R"
   },
   "source": [
    "## Escoger filas"
   ]
  },
  {
   "cell_type": "markdown",
   "id": "9e01112d",
   "metadata": {
    "id": "F-eAWEusaWmY"
   },
   "source": [
    "Podemos escoger ciertas filas a través de su posición, utilizando `.iloc`"
   ]
  },
  {
   "cell_type": "code",
   "execution_count": 14,
   "id": "7abbd0ca",
   "metadata": {
    "colab": {
     "base_uri": "https://localhost:8080/"
    },
    "id": "vEfryMcNZ6Rc",
    "outputId": "65108665-8aea-44b2-9885-4e9beaa24aff"
   },
   "outputs": [
    {
     "name": "stdout",
     "output_type": "stream",
     "text": [
      "<class 'pandas.core.frame.DataFrame'>\n"
     ]
    },
    {
     "data": {
      "text/html": [
       "<div>\n",
       "<style scoped>\n",
       "    .dataframe tbody tr th:only-of-type {\n",
       "        vertical-align: middle;\n",
       "    }\n",
       "\n",
       "    .dataframe tbody tr th {\n",
       "        vertical-align: top;\n",
       "    }\n",
       "\n",
       "    .dataframe thead th {\n",
       "        text-align: right;\n",
       "    }\n",
       "</style>\n",
       "<table border=\"1\" class=\"dataframe\">\n",
       "  <thead>\n",
       "    <tr style=\"text-align: right;\">\n",
       "      <th></th>\n",
       "      <th>codestate</th>\n",
       "      <th>codecounty</th>\n",
       "      <th>county</th>\n",
       "      <th>population</th>\n",
       "      <th>area</th>\n",
       "    </tr>\n",
       "  </thead>\n",
       "  <tbody>\n",
       "    <tr>\n",
       "      <th>0</th>\n",
       "      <td>1</td>\n",
       "      <td>1001</td>\n",
       "      <td>Auta#%&amp;()uga</td>\n",
       "      <td>54571.0</td>\n",
       "      <td>594.436</td>\n",
       "    </tr>\n",
       "  </tbody>\n",
       "</table>\n",
       "</div>"
      ],
      "text/plain": [
       "   codestate  codecounty         county  population     area\n",
       "0          1        1001  Auta#%&()uga      54571.0  594.436"
      ]
     },
     "execution_count": 14,
     "metadata": {},
     "output_type": "execute_result"
    }
   ],
   "source": [
    "seleccion = counties.iloc[0:1,]\n",
    "print(type(seleccion))\n",
    "seleccion"
   ]
  },
  {
   "cell_type": "markdown",
   "id": "ea8ac22b-6c96-4da7-a470-ffc3e9b1783f",
   "metadata": {},
   "source": [
    "De hecho, podemos seleccionar simultaneamente filas y columnas:"
   ]
  },
  {
   "cell_type": "code",
   "execution_count": 15,
   "id": "c2808379",
   "metadata": {
    "colab": {
     "base_uri": "https://localhost:8080/"
    },
    "id": "n4hayCXQbppm",
    "outputId": "fec81298-ea75-49c7-b2e9-8d9db0fdcfc3"
   },
   "outputs": [
    {
     "data": {
      "text/html": [
       "<div>\n",
       "<style scoped>\n",
       "    .dataframe tbody tr th:only-of-type {\n",
       "        vertical-align: middle;\n",
       "    }\n",
       "\n",
       "    .dataframe tbody tr th {\n",
       "        vertical-align: top;\n",
       "    }\n",
       "\n",
       "    .dataframe thead th {\n",
       "        text-align: right;\n",
       "    }\n",
       "</style>\n",
       "<table border=\"1\" class=\"dataframe\">\n",
       "  <thead>\n",
       "    <tr style=\"text-align: right;\">\n",
       "      <th></th>\n",
       "      <th>codecounty</th>\n",
       "      <th>county</th>\n",
       "    </tr>\n",
       "  </thead>\n",
       "  <tbody>\n",
       "    <tr>\n",
       "      <th>18</th>\n",
       "      <td>1037</td>\n",
       "      <td>Coo#%&amp;()sa</td>\n",
       "    </tr>\n",
       "    <tr>\n",
       "      <th>19</th>\n",
       "      <td>1039</td>\n",
       "      <td>; Co#%&amp;()vington</td>\n",
       "    </tr>\n",
       "    <tr>\n",
       "      <th>20</th>\n",
       "      <td>1041</td>\n",
       "      <td>Crenshaw</td>\n",
       "    </tr>\n",
       "    <tr>\n",
       "      <th>21</th>\n",
       "      <td>1043</td>\n",
       "      <td>Cullma_n</td>\n",
       "    </tr>\n",
       "  </tbody>\n",
       "</table>\n",
       "</div>"
      ],
      "text/plain": [
       "    codecounty                county\n",
       "18        1037           Coo#%&()sa \n",
       "19        1039     ; Co#%&()vington \n",
       "20        1041             Crenshaw \n",
       "21        1043             Cullma_n "
      ]
     },
     "execution_count": 15,
     "metadata": {},
     "output_type": "execute_result"
    }
   ],
   "source": [
    "counties.iloc[18:22,1:3]"
   ]
  },
  {
   "cell_type": "markdown",
   "id": "e2bab2e6",
   "metadata": {
    "id": "kWzWN3Dtb8Yl"
   },
   "source": [
    "O también se puede seleccionar filas a partir de una condición dada."
   ]
  },
  {
   "cell_type": "code",
   "execution_count": 16,
   "id": "e173670e",
   "metadata": {
    "colab": {
     "base_uri": "https://localhost:8080/"
    },
    "id": "MCWLpBvBeEO9",
    "outputId": "5ccdca98-4412-4ae9-8de1-bd446d2afe89"
   },
   "outputs": [
    {
     "name": "stdout",
     "output_type": "stream",
     "text": [
      "<class 'pandas.core.series.Series'>\n"
     ]
    },
    {
     "data": {
      "text/plain": [
       "0       False\n",
       "1       False\n",
       "2       False\n",
       "3       False\n",
       "4       False\n",
       "        ...  \n",
       "3229    False\n",
       "3230    False\n",
       "3231     True\n",
       "3232     True\n",
       "3233     True\n",
       "Name: codestate, Length: 3234, dtype: bool"
      ]
     },
     "execution_count": 16,
     "metadata": {},
     "output_type": "execute_result"
    }
   ],
   "source": [
    "idx_bool = counties[\"codestate\"] > 72\n",
    "print(type(idx_bool))\n",
    "idx_bool"
   ]
  },
  {
   "cell_type": "code",
   "execution_count": 17,
   "id": "56143fde",
   "metadata": {
    "colab": {
     "base_uri": "https://localhost:8080/"
    },
    "id": "HuP0xHljcuuk",
    "outputId": "3321f270-0a43-46a1-b098-c1515a0e2a4c"
   },
   "outputs": [
    {
     "name": "stdout",
     "output_type": "stream",
     "text": [
      "<class 'pandas.core.frame.DataFrame'>\n"
     ]
    },
    {
     "data": {
      "text/html": [
       "<div>\n",
       "<style scoped>\n",
       "    .dataframe tbody tr th:only-of-type {\n",
       "        vertical-align: middle;\n",
       "    }\n",
       "\n",
       "    .dataframe tbody tr th {\n",
       "        vertical-align: top;\n",
       "    }\n",
       "\n",
       "    .dataframe thead th {\n",
       "        text-align: right;\n",
       "    }\n",
       "</style>\n",
       "<table border=\"1\" class=\"dataframe\">\n",
       "  <thead>\n",
       "    <tr style=\"text-align: right;\">\n",
       "      <th></th>\n",
       "      <th>codestate</th>\n",
       "      <th>codecounty</th>\n",
       "      <th>county</th>\n",
       "      <th>population</th>\n",
       "      <th>area</th>\n",
       "    </tr>\n",
       "  </thead>\n",
       "  <tbody>\n",
       "    <tr>\n",
       "      <th>3231</th>\n",
       "      <td>78</td>\n",
       "      <td>78010</td>\n",
       "      <td>; St. Croix ?</td>\n",
       "      <td>50601.0</td>\n",
       "      <td>83.345868</td>\n",
       "    </tr>\n",
       "    <tr>\n",
       "      <th>3232</th>\n",
       "      <td>78</td>\n",
       "      <td>78020</td>\n",
       "      <td>St. John</td>\n",
       "      <td>4170.0</td>\n",
       "      <td>19.689867</td>\n",
       "    </tr>\n",
       "    <tr>\n",
       "      <th>3233</th>\n",
       "      <td>78</td>\n",
       "      <td>78030</td>\n",
       "      <td>St. Thomas</td>\n",
       "      <td>51634.0</td>\n",
       "      <td>31.313503</td>\n",
       "    </tr>\n",
       "  </tbody>\n",
       "</table>\n",
       "</div>"
      ],
      "text/plain": [
       "      codestate  codecounty                 county  population       area\n",
       "3231         78       78010     ; St. Croix ?          50601.0  83.345868\n",
       "3232         78       78020               St. John      4170.0  19.689867\n",
       "3233         78       78030             St. Thomas     51634.0  31.313503"
      ]
     },
     "execution_count": 17,
     "metadata": {},
     "output_type": "execute_result"
    }
   ],
   "source": [
    "codsat72 = counties[counties[\"codestate\"] > 72]\n",
    "print(type(codsat72))\n",
    "codsat72"
   ]
  },
  {
   "cell_type": "markdown",
   "id": "2f3725a1",
   "metadata": {
    "id": "WfqV78NkkkmP"
   },
   "source": [
    "Para seleccionar las filas que no tengan valores faltantes en determinada columna:"
   ]
  },
  {
   "cell_type": "code",
   "execution_count": 18,
   "id": "e2a9ab43",
   "metadata": {
    "colab": {
     "base_uri": "https://localhost:8080/"
    },
    "id": "h2tC0pQoktGq",
    "outputId": "885f67fb-8177-4485-a11a-c867b22e94e6"
   },
   "outputs": [
    {
     "name": "stdout",
     "output_type": "stream",
     "text": [
      "(3232, 5)\n",
      "(3234, 5)\n"
     ]
    }
   ],
   "source": [
    "counties_sin_na = counties[counties[\"population\"].notna()]\n",
    "print(counties_sin_na.shape)\n",
    "print(counties.shape)"
   ]
  },
  {
   "cell_type": "code",
   "execution_count": 19,
   "id": "eaf2223c-d2d4-4dfb-9ee9-d28696c7d52f",
   "metadata": {},
   "outputs": [
    {
     "data": {
      "text/html": [
       "<div>\n",
       "<style scoped>\n",
       "    .dataframe tbody tr th:only-of-type {\n",
       "        vertical-align: middle;\n",
       "    }\n",
       "\n",
       "    .dataframe tbody tr th {\n",
       "        vertical-align: top;\n",
       "    }\n",
       "\n",
       "    .dataframe thead th {\n",
       "        text-align: right;\n",
       "    }\n",
       "</style>\n",
       "<table border=\"1\" class=\"dataframe\">\n",
       "  <thead>\n",
       "    <tr style=\"text-align: right;\">\n",
       "      <th></th>\n",
       "      <th>codestate</th>\n",
       "      <th>codecounty</th>\n",
       "      <th>county</th>\n",
       "      <th>population</th>\n",
       "      <th>area</th>\n",
       "    </tr>\n",
       "  </thead>\n",
       "  <tbody>\n",
       "    <tr>\n",
       "      <th>3145</th>\n",
       "      <td>60</td>\n",
       "      <td>60030</td>\n",
       "      <td>Rose Island</td>\n",
       "      <td>NaN</td>\n",
       "      <td>0.031696</td>\n",
       "    </tr>\n",
       "    <tr>\n",
       "      <th>3149</th>\n",
       "      <td>69</td>\n",
       "      <td>69085</td>\n",
       "      <td>Northern Islands</td>\n",
       "      <td>NaN</td>\n",
       "      <td>61.792916</td>\n",
       "    </tr>\n",
       "  </tbody>\n",
       "</table>\n",
       "</div>"
      ],
      "text/plain": [
       "      codestate  codecounty             county  population       area\n",
       "3145         60       60030        Rose Island         NaN   0.031696\n",
       "3149         69       69085  Northern Islands          NaN  61.792916"
      ]
     },
     "execution_count": 19,
     "metadata": {},
     "output_type": "execute_result"
    }
   ],
   "source": [
    "counties[counties[\"population\"].isna()]"
   ]
  },
  {
   "cell_type": "markdown",
   "id": "b1224530",
   "metadata": {
    "id": "LCogEUWCfzRm"
   },
   "source": [
    "### Filas con valores especificos"
   ]
  },
  {
   "cell_type": "markdown",
   "id": "2e5fea92",
   "metadata": {
    "id": "V40Kr5aNgtLC"
   },
   "source": [
    "Existen varias maneras de realizar estas búsquedas."
   ]
  },
  {
   "cell_type": "code",
   "execution_count": 20,
   "id": "621f4271",
   "metadata": {
    "colab": {
     "base_uri": "https://localhost:8080/",
     "height": 111
    },
    "id": "bOrF8pDReLDC",
    "outputId": "df019a70-fd16-43bf-9d4e-79c4c7f68360"
   },
   "outputs": [
    {
     "data": {
      "text/html": [
       "<div>\n",
       "<style scoped>\n",
       "    .dataframe tbody tr th:only-of-type {\n",
       "        vertical-align: middle;\n",
       "    }\n",
       "\n",
       "    .dataframe tbody tr th {\n",
       "        vertical-align: top;\n",
       "    }\n",
       "\n",
       "    .dataframe thead th {\n",
       "        text-align: right;\n",
       "    }\n",
       "</style>\n",
       "<table border=\"1\" class=\"dataframe\">\n",
       "  <thead>\n",
       "    <tr style=\"text-align: right;\">\n",
       "      <th></th>\n",
       "      <th>codestate</th>\n",
       "      <th>codecounty</th>\n",
       "      <th>county</th>\n",
       "      <th>population</th>\n",
       "      <th>area</th>\n",
       "    </tr>\n",
       "  </thead>\n",
       "  <tbody>\n",
       "    <tr>\n",
       "      <th>3229</th>\n",
       "      <td>72</td>\n",
       "      <td>72151</td>\n",
       "      <td>Yabucoa</td>\n",
       "      <td>37941.0</td>\n",
       "      <td>55.215000</td>\n",
       "    </tr>\n",
       "    <tr>\n",
       "      <th>3231</th>\n",
       "      <td>78</td>\n",
       "      <td>78010</td>\n",
       "      <td>; St. Croix ?</td>\n",
       "      <td>50601.0</td>\n",
       "      <td>83.345868</td>\n",
       "    </tr>\n",
       "  </tbody>\n",
       "</table>\n",
       "</div>"
      ],
      "text/plain": [
       "      codestate  codecounty                 county  population       area\n",
       "3229         72       72151               Yabucoa      37941.0  55.215000\n",
       "3231         78       78010     ; St. Croix ?          50601.0  83.345868"
      ]
     },
     "execution_count": 20,
     "metadata": {},
     "output_type": "execute_result"
    }
   ],
   "source": [
    "codcou1 = counties[counties[\"codecounty\"].isin([78010, 72151])]\n",
    "codcou1"
   ]
  },
  {
   "cell_type": "code",
   "execution_count": 21,
   "id": "b430d94a",
   "metadata": {
    "colab": {
     "base_uri": "https://localhost:8080/",
     "height": 80
    },
    "id": "RSPwtxJOg6Bt",
    "outputId": "06f7ae61-7b26-4240-fc7f-f3a21eadee5e"
   },
   "outputs": [
    {
     "name": "stdout",
     "output_type": "stream",
     "text": [
      "0       False\n",
      "1       False\n",
      "2       False\n",
      "3       False\n",
      "4       False\n",
      "        ...  \n",
      "3229    False\n",
      "3230    False\n",
      "3231     True\n",
      "3232    False\n",
      "3233    False\n",
      "Name: codecounty, Length: 3234, dtype: bool\n"
     ]
    },
    {
     "data": {
      "text/html": [
       "<div>\n",
       "<style scoped>\n",
       "    .dataframe tbody tr th:only-of-type {\n",
       "        vertical-align: middle;\n",
       "    }\n",
       "\n",
       "    .dataframe tbody tr th {\n",
       "        vertical-align: top;\n",
       "    }\n",
       "\n",
       "    .dataframe thead th {\n",
       "        text-align: right;\n",
       "    }\n",
       "</style>\n",
       "<table border=\"1\" class=\"dataframe\">\n",
       "  <thead>\n",
       "    <tr style=\"text-align: right;\">\n",
       "      <th></th>\n",
       "      <th>codestate</th>\n",
       "      <th>codecounty</th>\n",
       "      <th>county</th>\n",
       "      <th>population</th>\n",
       "      <th>area</th>\n",
       "    </tr>\n",
       "  </thead>\n",
       "  <tbody>\n",
       "    <tr>\n",
       "      <th>3231</th>\n",
       "      <td>78</td>\n",
       "      <td>78010</td>\n",
       "      <td>; St. Croix ?</td>\n",
       "      <td>50601.0</td>\n",
       "      <td>83.345868</td>\n",
       "    </tr>\n",
       "  </tbody>\n",
       "</table>\n",
       "</div>"
      ],
      "text/plain": [
       "      codestate  codecounty                 county  population       area\n",
       "3231         78       78010     ; St. Croix ?          50601.0  83.345868"
      ]
     },
     "execution_count": 21,
     "metadata": {},
     "output_type": "execute_result"
    }
   ],
   "source": [
    "codcou2_bool = counties.loc[:, 'codecounty'] == 78010\n",
    "print(codcou2_bool)\n",
    "codcou2 = counties.loc[codcou2_bool]\n",
    "codcou2"
   ]
  },
  {
   "cell_type": "code",
   "execution_count": 22,
   "id": "261a22da",
   "metadata": {
    "colab": {
     "base_uri": "https://localhost:8080/",
     "height": 111
    },
    "id": "8oITWBdNh_AP",
    "outputId": "677d3e91-4272-4b01-c74c-03d3751952cb"
   },
   "outputs": [
    {
     "data": {
      "text/html": [
       "<div>\n",
       "<style scoped>\n",
       "    .dataframe tbody tr th:only-of-type {\n",
       "        vertical-align: middle;\n",
       "    }\n",
       "\n",
       "    .dataframe tbody tr th {\n",
       "        vertical-align: top;\n",
       "    }\n",
       "\n",
       "    .dataframe thead th {\n",
       "        text-align: right;\n",
       "    }\n",
       "</style>\n",
       "<table border=\"1\" class=\"dataframe\">\n",
       "  <thead>\n",
       "    <tr style=\"text-align: right;\">\n",
       "      <th></th>\n",
       "      <th>codestate</th>\n",
       "      <th>codecounty</th>\n",
       "      <th>county</th>\n",
       "      <th>population</th>\n",
       "      <th>area</th>\n",
       "    </tr>\n",
       "  </thead>\n",
       "  <tbody>\n",
       "    <tr>\n",
       "      <th>3229</th>\n",
       "      <td>72</td>\n",
       "      <td>72151</td>\n",
       "      <td>Yabucoa</td>\n",
       "      <td>37941.0</td>\n",
       "      <td>55.215000</td>\n",
       "    </tr>\n",
       "    <tr>\n",
       "      <th>3231</th>\n",
       "      <td>78</td>\n",
       "      <td>78010</td>\n",
       "      <td>; St. Croix ?</td>\n",
       "      <td>50601.0</td>\n",
       "      <td>83.345868</td>\n",
       "    </tr>\n",
       "  </tbody>\n",
       "</table>\n",
       "</div>"
      ],
      "text/plain": [
       "      codestate  codecounty                 county  population       area\n",
       "3229         72       72151               Yabucoa      37941.0  55.215000\n",
       "3231         78       78010     ; St. Croix ?          50601.0  83.345868"
      ]
     },
     "execution_count": 22,
     "metadata": {},
     "output_type": "execute_result"
    }
   ],
   "source": [
    "counties[(counties[\"codecounty\"] == 78010) | (counties[\"codecounty\"] == 72151)]"
   ]
  },
  {
   "cell_type": "markdown",
   "id": "162b866a",
   "metadata": {
    "id": "trezEwQCjlY-"
   },
   "source": [
    "Filas con más de una característica específica."
   ]
  },
  {
   "cell_type": "code",
   "execution_count": 23,
   "id": "f5d9f523",
   "metadata": {
    "colab": {
     "base_uri": "https://localhost:8080/"
    },
    "id": "lEkdqc9Ujk3S",
    "outputId": "ba18d3e8-9ea2-4ad2-d73f-6f36d25fa0ea"
   },
   "outputs": [
    {
     "data": {
      "text/html": [
       "<div>\n",
       "<style scoped>\n",
       "    .dataframe tbody tr th:only-of-type {\n",
       "        vertical-align: middle;\n",
       "    }\n",
       "\n",
       "    .dataframe tbody tr th {\n",
       "        vertical-align: top;\n",
       "    }\n",
       "\n",
       "    .dataframe thead th {\n",
       "        text-align: right;\n",
       "    }\n",
       "</style>\n",
       "<table border=\"1\" class=\"dataframe\">\n",
       "  <thead>\n",
       "    <tr style=\"text-align: right;\">\n",
       "      <th></th>\n",
       "      <th>codestate</th>\n",
       "      <th>codecounty</th>\n",
       "      <th>county</th>\n",
       "      <th>population</th>\n",
       "      <th>area</th>\n",
       "    </tr>\n",
       "  </thead>\n",
       "  <tbody>\n",
       "    <tr>\n",
       "      <th>3159</th>\n",
       "      <td>72</td>\n",
       "      <td>72013</td>\n",
       "      <td>Arec#%&amp;()ibo</td>\n",
       "      <td>96440.0</td>\n",
       "      <td>125.947</td>\n",
       "    </tr>\n",
       "    <tr>\n",
       "      <th>3210</th>\n",
       "      <td>72</td>\n",
       "      <td>72113</td>\n",
       "      <td>Pon#%&amp;()ce</td>\n",
       "      <td>166327.0</td>\n",
       "      <td>114.762</td>\n",
       "    </tr>\n",
       "    <tr>\n",
       "      <th>3224</th>\n",
       "      <td>72</td>\n",
       "      <td>72141</td>\n",
       "      <td>Utua_do  ?</td>\n",
       "      <td>33149.0</td>\n",
       "      <td>113.529</td>\n",
       "    </tr>\n",
       "  </tbody>\n",
       "</table>\n",
       "</div>"
      ],
      "text/plain": [
       "      codestate  codecounty           county  population     area\n",
       "3159         72       72013    Arec#%&()ibo      96440.0  125.947\n",
       "3210         72       72113      Pon#%&()ce     166327.0  114.762\n",
       "3224         72       72141  Utua_do  ?          33149.0  113.529"
      ]
     },
     "execution_count": 23,
     "metadata": {},
     "output_type": "execute_result"
    }
   ],
   "source": [
    "counties[(counties[\"codestate\"] == 72) & (counties[\"area\"] >= 80)]"
   ]
  },
  {
   "cell_type": "markdown",
   "id": "20107ed1",
   "metadata": {
    "id": "IIX73mph6Pxe"
   },
   "source": [
    "### **Eliminar filas o columnas en donde haya datos faltantes (na)**"
   ]
  },
  {
   "cell_type": "code",
   "execution_count": 24,
   "id": "b9068d29",
   "metadata": {
    "colab": {
     "base_uri": "https://localhost:8080/",
     "height": 419
    },
    "id": "f3aCl-HD6SFT",
    "outputId": "1499c177-302d-4f46-e883-ee0b7a23dc60"
   },
   "outputs": [
    {
     "data": {
      "text/html": [
       "<div>\n",
       "<style scoped>\n",
       "    .dataframe tbody tr th:only-of-type {\n",
       "        vertical-align: middle;\n",
       "    }\n",
       "\n",
       "    .dataframe tbody tr th {\n",
       "        vertical-align: top;\n",
       "    }\n",
       "\n",
       "    .dataframe thead th {\n",
       "        text-align: right;\n",
       "    }\n",
       "</style>\n",
       "<table border=\"1\" class=\"dataframe\">\n",
       "  <thead>\n",
       "    <tr style=\"text-align: right;\">\n",
       "      <th></th>\n",
       "      <th>codestate</th>\n",
       "      <th>codecounty</th>\n",
       "      <th>county</th>\n",
       "      <th>population</th>\n",
       "      <th>area</th>\n",
       "    </tr>\n",
       "  </thead>\n",
       "  <tbody>\n",
       "    <tr>\n",
       "      <th>0</th>\n",
       "      <td>1</td>\n",
       "      <td>1001</td>\n",
       "      <td>Auta#%&amp;()uga</td>\n",
       "      <td>54571.0</td>\n",
       "      <td>594.436000</td>\n",
       "    </tr>\n",
       "    <tr>\n",
       "      <th>1</th>\n",
       "      <td>1</td>\n",
       "      <td>1003</td>\n",
       "      <td>Baldwin#%&amp;()  ?</td>\n",
       "      <td>182265.0</td>\n",
       "      <td>1589.784000</td>\n",
       "    </tr>\n",
       "    <tr>\n",
       "      <th>2</th>\n",
       "      <td>1</td>\n",
       "      <td>1005</td>\n",
       "      <td>Barbour</td>\n",
       "      <td>27457.0</td>\n",
       "      <td>884.876000</td>\n",
       "    </tr>\n",
       "    <tr>\n",
       "      <th>3</th>\n",
       "      <td>1</td>\n",
       "      <td>1007</td>\n",
       "      <td>Bi#%&amp;()bb</td>\n",
       "      <td>22915.0</td>\n",
       "      <td>622.582000</td>\n",
       "    </tr>\n",
       "    <tr>\n",
       "      <th>4</th>\n",
       "      <td>1</td>\n",
       "      <td>1009</td>\n",
       "      <td>Blount  ?</td>\n",
       "      <td>57322.0</td>\n",
       "      <td>644.776000</td>\n",
       "    </tr>\n",
       "    <tr>\n",
       "      <th>...</th>\n",
       "      <td>...</td>\n",
       "      <td>...</td>\n",
       "      <td>...</td>\n",
       "      <td>...</td>\n",
       "      <td>...</td>\n",
       "    </tr>\n",
       "    <tr>\n",
       "      <th>3229</th>\n",
       "      <td>72</td>\n",
       "      <td>72151</td>\n",
       "      <td>Yabucoa</td>\n",
       "      <td>37941.0</td>\n",
       "      <td>55.215000</td>\n",
       "    </tr>\n",
       "    <tr>\n",
       "      <th>3230</th>\n",
       "      <td>72</td>\n",
       "      <td>72153</td>\n",
       "      <td>Ya_uco</td>\n",
       "      <td>42043.0</td>\n",
       "      <td>68.192000</td>\n",
       "    </tr>\n",
       "    <tr>\n",
       "      <th>3231</th>\n",
       "      <td>78</td>\n",
       "      <td>78010</td>\n",
       "      <td>; St. Croix ?</td>\n",
       "      <td>50601.0</td>\n",
       "      <td>83.345868</td>\n",
       "    </tr>\n",
       "    <tr>\n",
       "      <th>3232</th>\n",
       "      <td>78</td>\n",
       "      <td>78020</td>\n",
       "      <td>St. John</td>\n",
       "      <td>4170.0</td>\n",
       "      <td>19.689867</td>\n",
       "    </tr>\n",
       "    <tr>\n",
       "      <th>3233</th>\n",
       "      <td>78</td>\n",
       "      <td>78030</td>\n",
       "      <td>St. Thomas</td>\n",
       "      <td>51634.0</td>\n",
       "      <td>31.313503</td>\n",
       "    </tr>\n",
       "  </tbody>\n",
       "</table>\n",
       "<p>3232 rows × 5 columns</p>\n",
       "</div>"
      ],
      "text/plain": [
       "      codestate  codecounty                 county  population         area\n",
       "0             1        1001          Auta#%&()uga      54571.0   594.436000\n",
       "1             1        1003   Baldwin#%&()  ?         182265.0  1589.784000\n",
       "2             1        1005               Barbour      27457.0   884.876000\n",
       "3             1        1007             Bi#%&()bb      22915.0   622.582000\n",
       "4             1        1009         Blount  ?          57322.0   644.776000\n",
       "...         ...         ...                    ...         ...          ...\n",
       "3229         72       72151               Yabucoa      37941.0    55.215000\n",
       "3230         72       72153                Ya_uco      42043.0    68.192000\n",
       "3231         78       78010     ; St. Croix ?          50601.0    83.345868\n",
       "3232         78       78020               St. John      4170.0    19.689867\n",
       "3233         78       78030             St. Thomas     51634.0    31.313503\n",
       "\n",
       "[3232 rows x 5 columns]"
      ]
     },
     "execution_count": 24,
     "metadata": {},
     "output_type": "execute_result"
    }
   ],
   "source": [
    "counties.dropna(subset=[\"population\"], axis=0, inplace=False) # inplace: modifique directamente la BD"
   ]
  },
  {
   "cell_type": "markdown",
   "id": "bfb060c4",
   "metadata": {
    "id": "Y6Atc2zvy6HP"
   },
   "source": [
    "## Manipulación datos textuales (Limpieza)"
   ]
  },
  {
   "cell_type": "markdown",
   "id": "17f56c2c",
   "metadata": {
    "id": "r_KAz4gxzNHD"
   },
   "source": [
    "Para realizarle limpieza a columna **county** de la tabla de datos **counties**, podemos utilizar lo siguiente:\n",
    "\n",
    "* **lower** Poner en minúscula todo el texto.\n",
    "* **replace** Remplazar ciertos valores por otros.\n",
    "* **strip** Eliminar los espacios al principio y al final de la cadena.\n",
    "* **title** Poner primera letra de cada palabra en mayúscula."
   ]
  },
  {
   "cell_type": "code",
   "execution_count": 25,
   "id": "038f9f4c",
   "metadata": {
    "id": "aQjkSm5zzgWp"
   },
   "outputs": [],
   "source": [
    "counties[\"county\"] = (counties[\"county\"]\n",
    "                      .str.lower()\n",
    "                      .str.replace(\"[^a-záéíóúüñ ]\", \"\", regex=True)\n",
    "                      .str.replace(\" +\", \" \", regex=True)\n",
    "                      .str.strip()\n",
    "                      .str.title()) "
   ]
  },
  {
   "cell_type": "code",
   "execution_count": 26,
   "id": "18aa7c59",
   "metadata": {
    "colab": {
     "base_uri": "https://localhost:8080/"
    },
    "id": "cQZQGImM1cRM",
    "outputId": "e44b1ec1-0316-4e6f-e1e4-1daeab6b5b22"
   },
   "outputs": [
    {
     "name": "stdout",
     "output_type": "stream",
     "text": [
      "      codestate  codecounty     county  population         area\n",
      "0             1        1001    Autauga     54571.0   594.436000\n",
      "1             1        1003    Baldwin    182265.0  1589.784000\n",
      "2             1        1005    Barbour     27457.0   884.876000\n",
      "3             1        1007       Bibb     22915.0   622.582000\n",
      "4             1        1009     Blount     57322.0   644.776000\n",
      "...         ...         ...        ...         ...          ...\n",
      "3229         72       72151    Yabucoa     37941.0    55.215000\n",
      "3230         72       72153      Yauco     42043.0    68.192000\n",
      "3231         78       78010   St Croix     50601.0    83.345868\n",
      "3232         78       78020    St John      4170.0    19.689867\n",
      "3233         78       78030  St Thomas     51634.0    31.313503\n",
      "\n",
      "[3234 rows x 5 columns]\n"
     ]
    }
   ],
   "source": [
    "print(counties)"
   ]
  },
  {
   "cell_type": "markdown",
   "id": "12c1bd01-adbf-477f-a1e4-dfe8c3505d09",
   "metadata": {},
   "source": [
    "Pueden consultar acerca de expresiones regulares en el cuaderno de nuestro diplomado: <https://github.com/AprendizajeProfundo/Diplomado/blob/master/Talleres/Cuadernos/Taller_Regex.ipynb> (y pueden complementar con: [https://www.regular-expressions.info/quickstart.html](https://www.regular-expressions.info/quickstart.html))."
   ]
  },
  {
   "cell_type": "markdown",
   "id": "94b0b276",
   "metadata": {
    "id": "tIMVgKLV2yRB"
   },
   "source": [
    "## **Creación de columnas a partir de otras**"
   ]
  },
  {
   "cell_type": "code",
   "execution_count": null,
   "id": "f8163a7a",
   "metadata": {
    "colab": {
     "base_uri": "https://localhost:8080/"
    },
    "id": "9PPLxl1s24YT",
    "outputId": "30ed1f63-e00f-4a32-fe55-4dc6202f7aaf"
   },
   "outputs": [],
   "source": [
    "counties[\"densidad\"] = counties[\"population\"] / counties[\"area\"]\n",
    "counties[[\"population\",\"area\",\"densidad\"]]"
   ]
  },
  {
   "cell_type": "markdown",
   "id": "fabc4c0f",
   "metadata": {
    "id": "8AL49oG6dmFC"
   },
   "source": [
    "### Renombrar columnas"
   ]
  },
  {
   "cell_type": "code",
   "execution_count": null,
   "id": "584f8e77-d0d7-45af-bee0-2a0cb4b2a636",
   "metadata": {
    "colab": {
     "base_uri": "https://localhost:8080/"
    },
    "id": "ewrd1B4w4uNu",
    "outputId": "8c9ce259-9174-4d20-a239-cb97c8ad0e6b"
   },
   "outputs": [],
   "source": [
    "print(counties.columns)"
   ]
  },
  {
   "cell_type": "code",
   "execution_count": null,
   "id": "1755cece-213f-4892-94e1-c5cb49abc906",
   "metadata": {
    "colab": {
     "base_uri": "https://localhost:8080/"
    },
    "id": "ewrd1B4w4uNu",
    "outputId": "8c9ce259-9174-4d20-a239-cb97c8ad0e6b"
   },
   "outputs": [],
   "source": [
    "counties.rename(columns = {\"densidad\":\"densidad_pob\"}, inplace=True)\n",
    "print(counties.columns)"
   ]
  },
  {
   "cell_type": "markdown",
   "id": "a32106a1",
   "metadata": {
    "id": "4UHdmkDo5Io2"
   },
   "source": [
    "### **Modificar tipo de dato de una columna**"
   ]
  },
  {
   "cell_type": "code",
   "execution_count": null,
   "id": "f234d028-1c9f-4498-8656-5b6e6e476c1c",
   "metadata": {
    "colab": {
     "base_uri": "https://localhost:8080/"
    },
    "id": "2lnOEwUI5AYo",
    "outputId": "858856ef-06bc-42d6-e169-f94fd80ff419"
   },
   "outputs": [],
   "source": [
    "print(counties.info())"
   ]
  },
  {
   "cell_type": "code",
   "execution_count": null,
   "id": "3f1cee06-c203-4d0d-8776-3d4e29c63454",
   "metadata": {
    "colab": {
     "base_uri": "https://localhost:8080/"
    },
    "id": "2lnOEwUI5AYo",
    "outputId": "858856ef-06bc-42d6-e169-f94fd80ff419"
   },
   "outputs": [],
   "source": [
    "counties[\"codestate\"] = counties[\"codestate\"].astype(float)\n",
    "print(counties.info())"
   ]
  },
  {
   "cell_type": "markdown",
   "id": "1cbb5206",
   "metadata": {
    "id": "ZfVG-6vg5wb6"
   },
   "source": [
    "### **Eliminar filas y columnas**"
   ]
  },
  {
   "cell_type": "markdown",
   "id": "5e011d29",
   "metadata": {
    "id": "pFzdWnnkfW2D"
   },
   "source": [
    "Eliminación filas, puede ser por posición o que cumpla una característica."
   ]
  },
  {
   "cell_type": "code",
   "execution_count": null,
   "id": "1dd9c290-303e-4c8e-a507-55dcca02196b",
   "metadata": {
    "colab": {
     "base_uri": "https://localhost:8080/"
    },
    "id": "qk8rcvr67BaZ",
    "outputId": "a13ec9be-d4c4-4cee-8c16-8a3310bf03a3"
   },
   "outputs": [],
   "source": [
    "print(counties.shape)\n",
    "index = counties.iloc[0:3,].index\n",
    "print(counties.iloc[0:3,].index)\n",
    "counties = counties.drop(counties.iloc[0:3,].index)\n",
    "print(counties.shape)"
   ]
  },
  {
   "cell_type": "code",
   "execution_count": null,
   "id": "5f2c5966-3e16-47e3-8c0a-f9bc31cc39f1",
   "metadata": {
    "colab": {
     "base_uri": "https://localhost:8080/"
    },
    "id": "qk8rcvr67BaZ",
    "outputId": "a13ec9be-d4c4-4cee-8c16-8a3310bf03a3"
   },
   "outputs": [],
   "source": [
    "print(counties.shape)\n",
    "counties = counties.drop(counties[counties['codecounty']==70].index)\n",
    "print(counties.shape)"
   ]
  },
  {
   "cell_type": "code",
   "execution_count": null,
   "id": "e994ce8c",
   "metadata": {},
   "outputs": [],
   "source": [
    "counties = counties.drop(columns=['densidad_pob'])\n",
    "# counties  = counties.drop(['densidad_pob'], axis=1)\n",
    "print(counties.shape)"
   ]
  },
  {
   "cell_type": "markdown",
   "id": "4e2262b7",
   "metadata": {},
   "source": [
    "## Modificar tablas\n",
    "\n",
    "Es posible hacer cambios de orden y estructura en las tablas de pandas."
   ]
  },
  {
   "cell_type": "code",
   "execution_count": null,
   "id": "8fa1311b",
   "metadata": {},
   "outputs": [],
   "source": [
    "elections = pd.read_excel(ruta_carpeta + \"elections.xlsx\")\n",
    "elections.head(5)"
   ]
  },
  {
   "cell_type": "markdown",
   "id": "8c5e43fc",
   "metadata": {},
   "source": [
    "organicemos los datos descendentemente dependiendo de la cantidad de votos democratas"
   ]
  },
  {
   "cell_type": "code",
   "execution_count": null,
   "id": "837cf338",
   "metadata": {},
   "outputs": [],
   "source": [
    "elections.sort_values([\"democrat\"], ascending=False)"
   ]
  },
  {
   "cell_type": "markdown",
   "id": "9588e30a",
   "metadata": {},
   "source": [
    "usando `groupby()` podemos juntar los datos por año y sumarlos para tener el total de votos por año"
   ]
  },
  {
   "cell_type": "code",
   "execution_count": null,
   "id": "5255ae0d",
   "metadata": {},
   "outputs": [],
   "source": [
    "elections.groupby('year')[['democrat', 'republic']].sum()"
   ]
  },
  {
   "cell_type": "markdown",
   "id": "f6a0fd1f",
   "metadata": {},
   "source": [
    "Podemos agrupar, sumar y luego ordenar en un mismo código"
   ]
  },
  {
   "cell_type": "code",
   "execution_count": null,
   "id": "cfde894b",
   "metadata": {},
   "outputs": [],
   "source": [
    "elections_sort = (elections.groupby('year')[['democrat', 'republic']]\n",
    "                .sum()\n",
    "                .sort_values('democrat', ascending=False))\n",
    "display(elections_sort)"
   ]
  },
  {
   "cell_type": "markdown",
   "id": "198b44d8",
   "metadata": {},
   "source": [
    "Para reestructurar la tabla de datos usamos la función `pivot()`."
   ]
  },
  {
   "cell_type": "code",
   "execution_count": null,
   "id": "83d44484",
   "metadata": {},
   "outputs": [],
   "source": [
    "pivot_elections = elections.pivot(index='codecounty',\n",
    "                                  columns='year',\n",
    "                                  values=['democrat','republic'])\n",
    "pivot_elections.head()"
   ]
  },
  {
   "cell_type": "markdown",
   "id": "9b69a16b",
   "metadata": {},
   "source": [
    "## múltiples índices\n",
    "\n",
    "Se pueden elegir múltiples variables como índice del dataframe. Esto es util para facilitar la extracción de información en ciertos casos"
   ]
  },
  {
   "cell_type": "code",
   "execution_count": null,
   "id": "5b49ea0d",
   "metadata": {},
   "outputs": [],
   "source": [
    "counties_multi = pd.read_excel(ruta_carpeta + \"counties.xlsx\", index_col = [0, 1])\n",
    "display(counties_multi)"
   ]
  },
  {
   "cell_type": "markdown",
   "id": "f9664669",
   "metadata": {},
   "source": [
    "Podemos obtener la suma de población de cada estado"
   ]
  },
  {
   "cell_type": "code",
   "execution_count": null,
   "id": "f0fb3462",
   "metadata": {},
   "outputs": [],
   "source": [
    "counties_multi['population'].groupby(level='codestate').sum().head(5)"
   ]
  },
  {
   "cell_type": "markdown",
   "id": "c274935c",
   "metadata": {},
   "source": [
    "## Concatenar y unir\n",
    "\n",
    "Es posible unir varias tablas tanto vertical como horizontalmente.\n",
    "\n",
    "\n",
    "En ambos casos, podemos usar `concat()`, y se juntarán las bases con bases a los nombres de columnas o los indices de las filas"
   ]
  },
  {
   "cell_type": "code",
   "execution_count": null,
   "id": "e60fcdfc",
   "metadata": {},
   "outputs": [],
   "source": [
    "elections_2000 = elections[elections['year']==2000]\n",
    "display(elections_2000)"
   ]
  },
  {
   "cell_type": "code",
   "execution_count": null,
   "id": "b4191d40",
   "metadata": {},
   "outputs": [],
   "source": [
    "elections_2004 = elections[elections['year'] == 2004]\n",
    "elections_2004.loc[:, 'otra'] = 0\n",
    "display(elections_2004)"
   ]
  },
  {
   "cell_type": "markdown",
   "id": "505bc134",
   "metadata": {},
   "source": [
    "Si se hace la concatenación sin más, se tomarán todas las columnas y se agregarán NaN"
   ]
  },
  {
   "cell_type": "code",
   "execution_count": null,
   "id": "d575d94a",
   "metadata": {},
   "outputs": [],
   "source": [
    "elections_00_04 = pd.concat([elections_2000, elections_2004])\n",
    "display(elections_00_04)"
   ]
  },
  {
   "cell_type": "markdown",
   "id": "f248c759",
   "metadata": {},
   "source": [
    "Ahora, usando `merge()`, podemos hacer uniones  de las tablas de forma horizontal que compartan una columna/indice en común"
   ]
  },
  {
   "cell_type": "markdown",
   "id": "34425212",
   "metadata": {},
   "source": [
    "<figure>\n",
    "<center>\n",
    "<img src=\"../Imagenes/Joins.png\" width=\"600\" height=\"400\" align=\"center\"/>\n",
    "</center>\n",
    "<figcaption>\n",
    "<p style=\"text-align:center\">Tipos de Joins\n",
    "</figcaption>\n",
    "</figure>"
   ]
  },
  {
   "cell_type": "code",
   "execution_count": null,
   "id": "59163972",
   "metadata": {},
   "outputs": [],
   "source": [
    "display(counties)"
   ]
  },
  {
   "cell_type": "code",
   "execution_count": null,
   "id": "eb2b5eca",
   "metadata": {},
   "outputs": [],
   "source": [
    "inner_joined=pd.merge(elections, counties)\n",
    "inner_joined.head(10)"
   ]
  },
  {
   "cell_type": "code",
   "execution_count": null,
   "id": "53403f5f",
   "metadata": {},
   "outputs": [],
   "source": [
    "left_joined=pd.merge(elections, counties, how='left')\n",
    "left_joined.head(10)"
   ]
  },
  {
   "cell_type": "code",
   "execution_count": null,
   "id": "a37b5382",
   "metadata": {},
   "outputs": [],
   "source": [
    "right_joined=pd.merge(elections, counties, how='right')\n",
    "right_joined.head(10)"
   ]
  },
  {
   "cell_type": "code",
   "execution_count": null,
   "id": "630e9319",
   "metadata": {},
   "outputs": [],
   "source": [
    "outer_joined=pd.merge(elections, counties, how='outer')\n",
    "outer_joined.head(10)"
   ]
  },
  {
   "cell_type": "markdown",
   "id": "a049daf6",
   "metadata": {},
   "source": [
    "## Series  de tiempo y time stamps"
   ]
  },
  {
   "cell_type": "markdown",
   "id": "eb89cc20",
   "metadata": {},
   "source": [
    "Existe un tipo de datos llamado \"timestamp\" que se usa para medir registros de tiempo. Es posible pasar strings a este tipo de dato en diferentes formatos y trabajar con este usándolo como indice"
   ]
  },
  {
   "cell_type": "code",
   "execution_count": null,
   "id": "11f753ec",
   "metadata": {},
   "outputs": [],
   "source": [
    "airrpm = pd.read_csv(ruta_carpeta + 'airrpm.txt', header=None, delimiter= '\\s+', decimal=\",\")\n",
    "airrpm.columns=[\"Time\", \"R1\", \"R2\", \"R3\"]\n",
    "airrpm.head()"
   ]
  },
  {
   "cell_type": "markdown",
   "id": "4ddc8116",
   "metadata": {},
   "source": [
    "La variable \"Time\" en este momento es un string. Pero podemos transformarlo usando `to_datetime()`. Para obtener más información de qué se podría poner en `format`, pueden revisar este enlace: <https://docs.python.org/3/library/datetime.html#strftime-and-strptime-behavior>"
   ]
  },
  {
   "cell_type": "code",
   "execution_count": null,
   "id": "40e9ed94",
   "metadata": {},
   "outputs": [],
   "source": [
    "airrpm['Time'] = pd.to_datetime(airrpm['Time'], format='%b-%y')\n",
    "airrpm.index = airrpm['Time']\n",
    "airrpm = airrpm.drop(['Time'], axis=1)\n",
    "airrpm.head()"
   ]
  },
  {
   "cell_type": "markdown",
   "id": "39bafd28",
   "metadata": {},
   "source": [
    "Definiendo la fecha como índice, podemos extraer información con respecto al año y respecto al mes"
   ]
  },
  {
   "cell_type": "code",
   "execution_count": null,
   "id": "8130d4ca",
   "metadata": {},
   "outputs": [],
   "source": [
    "airrpm.groupby([airrpm.index.month])['R1'].describe()"
   ]
  },
  {
   "cell_type": "code",
   "execution_count": null,
   "id": "e3893d47",
   "metadata": {},
   "outputs": [],
   "source": [
    "airrpm.groupby([airrpm.index.year]).sum().head(10)"
   ]
  }
 ],
 "metadata": {
  "kernelspec": {
   "display_name": "Python 3 (ipykernel)",
   "language": "python",
   "name": "python3"
  },
  "language_info": {
   "codemirror_mode": {
    "name": "ipython",
    "version": 3
   },
   "file_extension": ".py",
   "mimetype": "text/x-python",
   "name": "python",
   "nbconvert_exporter": "python",
   "pygments_lexer": "ipython3",
   "version": "3.10.6"
  },
  "vscode": {
   "interpreter": {
    "hash": "5eb807cd7242e53c7003c9ceab3abd70e7698cb7c4803202cab9910207ec3974"
   }
  }
 },
 "nbformat": 4,
 "nbformat_minor": 5
}
