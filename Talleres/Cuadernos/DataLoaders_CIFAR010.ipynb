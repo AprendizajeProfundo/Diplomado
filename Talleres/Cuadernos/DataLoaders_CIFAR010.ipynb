{
 "cells": [
  {
   "cell_type": "markdown",
   "id": "resistant-assist",
   "metadata": {
    "tags": []
   },
   "source": [
    "<figure>\n",
    "<img src=\"../Imagenes/logo-final-ap.png\"  width=\"80\" height=\"80\" align=\"left\"/> \n",
    "</figure>\n",
    "\n",
    "# <span style=\"color:blue\"><left>Aprendizaje Profundo</left></span>"
   ]
  },
  {
   "cell_type": "markdown",
   "id": "f7ace41a-4dff-44e8-b919-17680ece9604",
   "metadata": {
    "tags": []
   },
   "source": [
    "# <span style=\"color:red\"><center>Datasets y Dataloaders:CIFAR10</center></span>"
   ]
  },
  {
   "cell_type": "markdown",
   "id": "f2e7d5e9-f57b-4fab-b70e-2fcb148b9831",
   "metadata": {},
   "source": [
    "<figure>\n",
    "<center>\n",
    "<img src=\"../Imagenes/Data_ST.jpg\" width=\"400\" height=\"400\" align=\"center\"/>\n",
    "</center>\n",
    "</figure>\n",
    "\n",
    "\n",
    "Fuente: <a href=\"https://commons.wikimedia.org/wiki/File:Data_ST.jpg\">Glenn_Cote_Brent_Spiner.jpg: Grcotederivative work: El Carlos</a>, <a href=\"http://www.gnu.org/copyleft/fdl.html\">GFDL</a>, via Wikimedia Commons<a "
   ]
  },
  {
   "cell_type": "markdown",
   "id": "26bf59f7-375b-4689-88b8-be23697d6542",
   "metadata": {
    "slideshow": {
     "slide_type": "slide"
    },
    "tags": []
   },
   "source": [
    "## <span style=\"color:#4361EE\">Coordinador</span>"
   ]
  },
  {
   "cell_type": "markdown",
   "id": "75be3475-8e9c-4d7a-b124-2b1e2e39fadb",
   "metadata": {
    "slideshow": {
     "slide_type": "slide"
    },
    "tags": []
   },
   "source": [
    "- Campo Elías Pardo, PhD, cepardot@unal.edu.co"
   ]
  },
  {
   "cell_type": "markdown",
   "id": "552659bd-d9b3-4d7d-986f-2cd4f1f8116b",
   "metadata": {},
   "source": [
    "## <span style=\"color:#4361EE\">Profesores</span>"
   ]
  },
  {
   "cell_type": "markdown",
   "id": "d83ba55a-27a9-4eb8-97b8-a78a9c12f0c3",
   "metadata": {},
   "source": [
    "1. Alvaro  Montenegro, PhD, ammontenegrod@unal.edu.co\n",
    "1. Camilo José Torres Jiménez, Msc, cjtorresj@unal.edu.co\n",
    "1. Daniel  Montenegro, Msc, dextronomo@gmail.com "
   ]
  },
  {
   "cell_type": "markdown",
   "id": "ec34bf32-11ae-4b50-ab8a-8547e3d8df0a",
   "metadata": {},
   "source": [
    "## <span style=\"color:#4361EE\">Asesora Medios y Marketing digital</span>"
   ]
  },
  {
   "cell_type": "markdown",
   "id": "10a8cae8-3600-4e8a-ab30-3829529fa4d2",
   "metadata": {},
   "source": [
    "1. Maria del Pilar Montenegro, pmontenegro88@gmail.com\n",
    "1. Jessica López Mejía, jelopezme@unal.edu.co\n",
    "1. Venus Celeste Puertas Gualtero, vpuertasg@unal.edu.co"
   ]
  },
  {
   "cell_type": "markdown",
   "id": "50b728f8-08dd-4bd9-bc74-e180ea65c3f0",
   "metadata": {},
   "source": [
    "## <span style=\"color:#4361EE\">Jefe Jurídica</span>"
   ]
  },
  {
   "cell_type": "markdown",
   "id": "23a305e3-c552-406b-862b-0d3cf7d1571f",
   "metadata": {},
   "source": [
    "6. Paula Andrea Guzmán, guzmancruz.paula@gmail.com"
   ]
  },
  {
   "cell_type": "markdown",
   "id": "597644a1-29f1-44f4-bfdb-a116dbb7e4a7",
   "metadata": {},
   "source": [
    "## <span style=\"color:#4361EE\">Coordinador Jurídico</span>"
   ]
  },
  {
   "cell_type": "markdown",
   "id": "330a373d-8e78-4ae7-903e-8b4c3f1f313d",
   "metadata": {},
   "source": [
    "7. David Fuentes, fuentesd065@gmail.com"
   ]
  },
  {
   "cell_type": "markdown",
   "id": "73c51b04-c9b9-4050-b7d6-dbe4205d8372",
   "metadata": {},
   "source": [
    "## <span style=\"color:#4361EE\">Desarrolladores Principales</span>"
   ]
  },
  {
   "cell_type": "markdown",
   "id": "00b2f798-c842-4e52-86a3-708e7e09c4ca",
   "metadata": {},
   "source": [
    "8. Dairo Moreno, damoralesj@unal.edu.co\n",
    "9. Joan Castro, jocastroc@unal.edu.co\n",
    "10. Bryan Riveros, briveros@unal.edu.co\n",
    "11. Rosmer Vargas, rovargasc@unal.edu.co\n",
    "12. Venus Puertas, vpuertasg@unal.edu.co"
   ]
  },
  {
   "cell_type": "markdown",
   "id": "a4a93e8f-8115-46f3-927d-c9228ed96c82",
   "metadata": {},
   "source": [
    "## <span style=\"color:#4361EE\">Expertos en Bases de Datos</span>"
   ]
  },
  {
   "cell_type": "markdown",
   "id": "6771cd43-ea18-48d5-8b5e-0be79f874711",
   "metadata": {
    "tags": []
   },
   "source": [
    "13. Giovvani Barrera, udgiovanni@gmail.com\n",
    "14. Camilo Chitivo, cchitivo@unal.edu.co"
   ]
  },
  {
   "cell_type": "markdown",
   "id": "9384982a-e97a-44d8-a3a1-dfc09516150f",
   "metadata": {},
   "source": [
    "## <span style=\"color:blue\">Referencias</span>"
   ]
  },
  {
   "cell_type": "markdown",
   "id": "f2a91838-7b58-4aab-8f3a-12244bb6ab00",
   "metadata": {},
   "source": [
    "1. [Alvaro Montenegro y Daniel Montenegro, Inteligencia Artificial y Aprendizaje Profundo, 2023](https://github.com/AprendizajeProfundo/Diplomado)\n",
    "1. [Alvaro Montenegro, Daniel Montenegro y Oleg Jarma,  Inteligencia Artificial y Aprendizaje Profundo Avanzado, 2023](https://github.com/AprendizajeProfundo/Diplomado-Avanzado)\n",
    "1. [Tutoriales de Pytorch](https://pytorch.org/tutorials/)\n",
    "1. [Pytorchlightning.ai](https://www.pytorchlightning.ai/)"
   ]
  },
  {
   "cell_type": "markdown",
   "id": "6b4bc914-4f5f-40f4-ba09-68efefe70505",
   "metadata": {
    "slideshow": {
     "slide_type": "slide"
    },
    "tags": []
   },
   "source": [
    "## <span style=\"color:blue\">Contenido</span>"
   ]
  },
  {
   "cell_type": "markdown",
   "id": "remarkable-narrow",
   "metadata": {},
   "source": [
    "* [Introducción](#Introducción)\n",
    "* [Carga de un Dataset](#Carga-de-un-Dataset)\n",
    "* [Creación de un conjunto de datos personalizado para sus archivo](#Creación-de-un-conjunto-de-datos-personalizado-para-sus-archivos)\n",
    "* [Preparando sus datos para entrenamiento con DataLoaders](#Preparando-sus-datos-para-entrenamiento-con-DataLoaders)"
   ]
  },
  {
   "cell_type": "markdown",
   "id": "reduced-calibration",
   "metadata": {},
   "source": [
    "## <span style=\"color:blue\">Introducción</span>"
   ]
  },
  {
   "cell_type": "markdown",
   "id": "22074b30-31b8-4290-825e-99b1b88c4f61",
   "metadata": {},
   "source": [
    "El código para procesar muestras de datos puede resultar complicado y difícil de mantener; idealmente queremos que nuestro código de datasets se desacople de nuestro código de entrenamiento modelo para una mejor legibilidad y modularidad. PyTorch proporciona dos primitivas de datos: `torch.utils.data.DataLoader` y `torch.utils.data.Dataset` que le permiten utilizar conjuntos de datos precargados, así como sus propios datos. \n",
    "\n",
    "`Dataset` almacena las muestras y sus etiquetas correspondientes, y `DataLoader` envuelve un iterable alrededor del conjunto de datos para permitir un fácil acceso a las muestras.\n",
    "\n",
    "Las librerías especializadas de Pytorch como Torchvision, Torchtext, Torchaudio tienen conjuntos de datos disponibles para ser cargados directamente como Datasets. Revisemos el ejemplo de  FashionMNIST."
   ]
  },
  {
   "cell_type": "markdown",
   "id": "af85f1f2-808b-4c67-8852-065ad2fbd3a6",
   "metadata": {},
   "source": [
    "## <span style=\"color:blue\">Ejemplo CIFAR10</span>"
   ]
  },
  {
   "cell_type": "markdown",
   "id": "scenic-spice",
   "metadata": {},
   "source": [
    "### <span style=\"color:#4CC9F0\"><span style=\"color:#4CC9F0\">Carga de un Dataset</span>"
   ]
  },
  {
   "cell_type": "code",
   "execution_count": 3,
   "id": "sacred-albuquerque",
   "metadata": {},
   "outputs": [],
   "source": [
    "import torch\n",
    "from torch.utils.data import Dataset\n",
    "from torch.utils.data import DataLoader\n",
    "from torchvision import datasets\n",
    "from torchvision.transforms import ToTensor\n",
    "import matplotlib.pyplot as plt"
   ]
  },
  {
   "cell_type": "code",
   "execution_count": null,
   "id": "8a2f9d26-c81b-4f14-9169-6da1705ad7d6",
   "metadata": {},
   "outputs": [],
   "source": [
    "# carga el dataset CIFAR10\n",
    "import torchvision.datasets as datasets\n",
    "CIFAR10 = datasets.CIFAR10"
   ]
  },
  {
   "cell_type": "code",
   "execution_count": 62,
   "id": "funded-aurora",
   "metadata": {},
   "outputs": [
    {
     "name": "stdout",
     "output_type": "stream",
     "text": [
      "Files already downloaded and verified\n",
      "Files already downloaded and verified\n"
     ]
    }
   ],
   "source": [
    "training_data = datasets.CIFAR10(\n",
    "    root=\"data\",\n",
    "    train=True,\n",
    "    download=True,\n",
    "    transform=ToTensor()\n",
    ")\n",
    "\n",
    "test_data = datasets.CIFAR10(\n",
    "    root=\"data\",\n",
    "    train=False,\n",
    "    download=True,\n",
    "    transform=ToTensor()\n",
    ")"
   ]
  },
  {
   "cell_type": "markdown",
   "id": "promising-joshua",
   "metadata": {},
   "source": [
    "### <span style=\"color:#4CC9F0\">Iterando y visualizando el dataset</span>"
   ]
  },
  {
   "cell_type": "code",
   "execution_count": null,
   "id": "joint-interest",
   "metadata": {},
   "outputs": [],
   "source": [
    "label_map = {\n",
    "    0: 'Avión',\n",
    "    1: \"Automóvil\",\n",
    "    2: \"Pájaro\",\n",
    "    3: \"Gato\",\n",
    "    4: \"Venado\",\n",
    "    5: \"Perro\",\n",
    "    6: \"Rana\",\n",
    "    7: \"Caballo\",\n",
    "    8: \"Barco\",\n",
    "    9: \"Camión\",\n",
    "}\n",
    "\n",
    "figure = plt.figure(figsize=(5,5))\n",
    "cols, rows = 6,5\n",
    "for i in range(1, cols*rows+1):\n",
    "    sample_idx = torch.randint(len(training_data), size =(1,)).item()\n",
    "    img, label = training_data[sample_idx]\n",
    "    img = img.numpy()\n",
    "    img = img.transpose(1,2,0)\n",
    "    figure.add_subplot(rows, cols, i)\n",
    "    plt.title(label_map[label], fontsize=4)    \n",
    "    plt.imshow(img)\n",
    "    plt.axis('off')\n",
    "    \n",
    "plt.show()"
   ]
  },
  {
   "cell_type": "markdown",
   "id": "worthy-bundle",
   "metadata": {},
   "source": [
    "### <span style=\"color:#4CC9F0\">Creación de un conjunto de datos personalizado para sus archivos</span>"
   ]
  },
  {
   "cell_type": "raw",
   "id": "explicit-measure",
   "metadata": {},
   "source": [
    "Una clase de conjunto de datos personalizada debe implementar tres funciones: __init__, __len__ y __getitem__. "
   ]
  },
  {
   "cell_type": "markdown",
   "id": "honey-theory",
   "metadata": {},
   "source": [
    "En este ejemplo, las imágenes FashionMNIST se almacenan en un directorio img_dir, y sus etiquetas se almacenan por separado en un archivo CSV  `annotations_file`.\n"
   ]
  },
  {
   "cell_type": "markdown",
   "id": "335d9c0e-30ab-4693-8e47-e9fbd73a4563",
   "metadata": {},
   "source": [
    "Los datos fueron bajados desde la fuente usando el siguinete código\n",
    "En este ejemplo hemos dejado los datos en la rura relativa\n",
    "\n",
    "+ \"../Datos/Cifar10/cifar-10-batches-py../Datos/Cifar10/cifar-10-batches-py\""
   ]
  },
  {
   "cell_type": "code",
   "execution_count": null,
   "id": "1297c63f-0964-49d5-b09e-662f600d68cd",
   "metadata": {
    "tags": []
   },
   "outputs": [],
   "source": [
    "import urllib.request\n",
    "import tarfile\n",
    "import os\n",
    "\n",
    "# URL de descarga de CIFAR-10\n",
    "url = \"https://www.cs.toronto.edu/~kriz/cifar-10-python.tar.gz\"\n",
    "\n",
    "# Ruta de la carpeta de destino para guardar los datos\n",
    "data_folder = \"../Datos/Cifar10\"\n",
    "\n",
    "# Verificar si la carpeta de destino existe, de lo contrario, crearla\n",
    "if not os.path.exists(data_folder):\n",
    "    os.makedirs(data_folder)\n",
    "\n",
    "# Nombre del archivo de destino\n",
    "filename = os.path.join(data_folder, \"cifar-10-python.tar.gz\")\n",
    "\n",
    "# Descargar el archivo de CIFAR-10\n",
    "urllib.request.urlretrieve(url, filename)\n",
    "\n",
    "# Descomprimir el archivo tar.gz\n",
    "tar = tarfile.open(filename, \"r:gz\")\n",
    "tar.extractall(data_folder)\n",
    "tar.close()\n",
    "\n",
    "print(\"Los datos de CIFAR-10 se han descargado y descomprimido correctamente.\")\n"
   ]
  },
  {
   "cell_type": "markdown",
   "id": "a7850f76-d814-4e45-843d-7f0d90864b1e",
   "metadata": {},
   "source": [
    "#### <span style=\"color:#4CC9F0\">Lectura de lotes de datos binarios</span>"
   ]
  },
  {
   "cell_type": "markdown",
   "id": "df610ba8-90b0-4a6d-8387-a29dc00614c6",
   "metadata": {},
   "source": [
    "Si revisa la carpeta en donde bajó los datos encuentra 5 archivos. Cada de ellos es una rchivo binario que contiene 10.000 cons sus respectivas etiquetas. De acuerdo con la documentación los datos tienen las siguientes características:\n",
    "\n",
    "+ Cada batch retorna un conjunto de 10,000 imágenes de 10 clases distintas. \n",
    "+ Los datos que se lee de los archivos batch son los valores de los labels y data.\n",
    "+ Los labels son los valores pertenecientes a la clase de la imagen.\n",
    "+ La data son los valores de píxeles de la imagen, originalmente es un vector de (3072,), pero este vector tiene la información asociada tanto de cada canal de color de la imagen, ya sea rojo, verde y azul. Es por ello que el vector se divide por 3 tal que el vector de (3072,) pasa a ser una matriz de (3,1024)\n",
    "+ Ese vector de (1024,) debemos transformarla en matriz de (32,32) que seria las dimensiones de la imagen,\n",
    "+ Dejando finalmente un matriz multidimensional de (3,32,32) "
   ]
  },
  {
   "cell_type": "code",
   "execution_count": 112,
   "id": "033e9316-f267-4a93-8c57-416c99328c4c",
   "metadata": {},
   "outputs": [
    {
     "name": "stdout",
     "output_type": "stream",
     "text": [
      "(10000, 3, 32, 32)\n"
     ]
    }
   ],
   "source": [
    "import pickle\n",
    "\n",
    "def load_batch(name_file, is_torch= True,\n",
    "               default_batch_path=\"../Datos/Cifar10/cifar-10-batches-py/\"):\n",
    "    \"\"\"\n",
    "    Parámetros:\n",
    "    name_file -- Nombre del archivo a leer\n",
    "    \n",
    "    Return:\n",
    "    labels -- vector columna con los valores de la clase correspondiente a cada imagen.\n",
    "    data -- datos asociados a los pixeles de las imágenes.\n",
    "    \"\"\"\n",
    "   \n",
    "    with open(default_batch_path + name_file, 'rb') as fo:\n",
    "        dict = pickle.load(fo, encoding='bytes')\n",
    "    #\n",
    "    labels = dict[b'labels']\n",
    "    # \n",
    "    data = dict[b'data']\n",
    "    #  \n",
    "    data = data.reshape((len(dict[b'data']), 3, 32, 32))\n",
    "    # Formato HEIGHT, WIDTH Y CHANNEL para Tensorflow\n",
    "    if not is_torch:\n",
    "        data = data.transpose(0, 2, 3, 1) ## (1000,32,32,3)\n",
    "    return labels, data\n",
    "\n",
    "# Carguemos el batch 1\n",
    "label_b1,data_b1 = load_batch(\"data_batch_1\")\n",
    "print(data_b1.shape)"
   ]
  },
  {
   "cell_type": "code",
   "execution_count": 114,
   "id": "7bda1a89-c228-44e1-960b-11d0edb66c0c",
   "metadata": {},
   "outputs": [
    {
     "data": {
      "image/png": "[encoded data removed]",
      "text/plain": [
       "<Figure size 100x100 with 1 Axes>"
      ]
     },
     "metadata": {},
     "output_type": "display_data"
    }
   ],
   "source": [
    "# Mostramos la primera imagen\n",
    "# transponemos para matplotlib\n",
    "data_b1 = data_b1.transpose(0, 2, 3, 1) ## (1000,32,32,3)\n",
    "plt.figure(figsize=(1,1))\n",
    "plt.imshow(data_b1[0])\n",
    "plt.title(label_map[label_b1[0]])\n",
    "plt.axis('off')\n",
    "plt.show()"
   ]
  },
  {
   "cell_type": "markdown",
   "id": "29327317-9603-4dca-a17d-9c71e230757e",
   "metadata": {},
   "source": [
    "#### <span style=\"color:#4CC9F0\">Reporte general de todos los datos</span> "
   ]
  },
  {
   "cell_type": "markdown",
   "id": "c1ac2942-0109-46d9-9424-ba56de0e9d12",
   "metadata": {},
   "source": [
    "Esta función se encarga de imprimir un reporte de las imágenes del data batch indicando cuantas imágenes de cada clase existe dentro del batch"
   ]
  },
  {
   "cell_type": "code",
   "execution_count": 115,
   "id": "ff6bf7bd-6f4a-4036-9d9e-9e4582e0fdfe",
   "metadata": {},
   "outputs": [
    {
     "name": "stdout",
     "output_type": "stream",
     "text": [
      "-------------Batch 1 -------------\n",
      "Total imágenes: 10000\n",
      "Avión: 1005\n",
      "Automóvil: 974\n",
      "Pájaro: 1032\n",
      "Gato: 1016\n",
      "Venado: 999\n",
      "Perro: 937\n",
      "Rana: 1030\n",
      "Caballo: 1001\n",
      "Barco: 1025\n",
      "Camión: 981\n",
      "-------------Batch 2 -------------\n",
      "Total imágenes: 10000\n",
      "Avión: 984\n",
      "Automóvil: 1007\n",
      "Pájaro: 1010\n",
      "Gato: 995\n",
      "Venado: 1010\n",
      "Perro: 988\n",
      "Rana: 1008\n",
      "Caballo: 1026\n",
      "Barco: 987\n",
      "Camión: 985\n",
      "-------------Batch 3 -------------\n",
      "Total imágenes: 10000\n",
      "Avión: 994\n",
      "Automóvil: 1042\n",
      "Pájaro: 965\n",
      "Gato: 997\n",
      "Venado: 990\n",
      "Perro: 1029\n",
      "Rana: 978\n",
      "Caballo: 1015\n",
      "Barco: 961\n",
      "Camión: 1029\n",
      "-------------Batch 4 -------------\n",
      "Total imágenes: 10000\n",
      "Avión: 1003\n",
      "Automóvil: 963\n",
      "Pájaro: 1041\n",
      "Gato: 976\n",
      "Venado: 1004\n",
      "Perro: 1021\n",
      "Rana: 1004\n",
      "Caballo: 981\n",
      "Barco: 1024\n",
      "Camión: 983\n",
      "-------------Batch 5 -------------\n",
      "Total imágenes: 10000\n",
      "Avión: 1014\n",
      "Automóvil: 1014\n",
      "Pájaro: 952\n",
      "Gato: 1016\n",
      "Venado: 997\n",
      "Perro: 1025\n",
      "Rana: 980\n",
      "Caballo: 977\n",
      "Barco: 1003\n",
      "Camión: 1022\n"
     ]
    }
   ],
   "source": [
    "def Show_Info_Batch(id, label_map=label_map):\n",
    "    \"\"\"\n",
    "    Parámetros\n",
    "    id -- Número del batch que se desea cargar(1 - 5)\n",
    "    \"\"\"\n",
    "    print(\"-------------Batch \" + str(id) + \" -------------\")\n",
    "    if (id > 5 or id < 1):\n",
    "        print(\"id out of range\")\n",
    "        return None\n",
    "    labels, data = load_batch('data_batch_' + str(id))\n",
    "    \n",
    "    print(\"Total imágenes: \" + str(len(labels)))\n",
    "    total_label = [0,0,0,0,0,0,0,0,0,0]\n",
    "    for i in range(len(labels)):\n",
    "        total_label[labels[i]] = total_label[labels[i]] + 1\n",
    "    \n",
    "    for i in range(len(label_map)):\n",
    "        print(label_map[i] + \": \" + str(total_label[i]))\n",
    "        \n",
    "for i in range(1,6):\n",
    "    Show_Info_Batch(i)"
   ]
  },
  {
   "cell_type": "markdown",
   "id": "7418f9de-1fdf-43ef-864a-14bc5322ccb9",
   "metadata": {},
   "source": [
    "### <span style=\"color:#4CC9F0\">Creación de un dataset Cifar10</span> "
   ]
  },
  {
   "cell_type": "code",
   "execution_count": 4,
   "id": "01d4acd1-60d3-44fb-98e0-63a542cf5d08",
   "metadata": {},
   "outputs": [],
   "source": [
    "import pickle\n",
    "import glob\n",
    "import numpy as np\n",
    "\n",
    "class Cifar10Dataset(Dataset):\n",
    "    def __init__(self, transform=None, target_transform=None, \n",
    "                 directorio=\"../Datos/Cifar10/cifar-10-batches-py\",\n",
    "                 train=True\n",
    "                ):\n",
    "        \n",
    "        self.directorio = directorio\n",
    "        self.labels = []\n",
    "        self.images = []\n",
    "        self.transform = transform\n",
    "        self.target_transform = target_transform\n",
    "        self.train = train\n",
    "        self.load_data()\n",
    "    \n",
    "    def load_data(self):\n",
    "        if self.train:\n",
    "            prefijo = 'data_batch_'  \n",
    "            files = glob.glob(f'{self.directorio}/{prefijo}*')\n",
    "        else:\n",
    "            prefijo = 'test_batch' \n",
    "            files = glob.glob(f'{self.directorio}/{prefijo}*')\n",
    "            \n",
    "        for file in files:\n",
    "            with open(file, 'rb') as fo:\n",
    "                dict = pickle.load(fo, encoding='bytes')\n",
    "                labels = dict[b'labels']\n",
    "                data = dict[b'data']\n",
    "                data = np.array(data.reshape((len(dict[b'data']), 3, 32, 32)))\n",
    "                data_list = [data[i].squeeze() for i in range(data.shape[0])]\n",
    "                self.labels.extend(labels)\n",
    "                self.images.extend(data_list)\n",
    "                             \n",
    "    def __len__(self):\n",
    "        return len(self.labels)        \n",
    "\n",
    "       \n",
    "    def __getitem__(self, idx):\n",
    "        image = self.images[idx]\n",
    "        label =  self.labels[idx]\n",
    "        if self.transform:\n",
    "            image = self.transform(image)\n",
    "        if self.target_transform:\n",
    "            label = self.target_transform(label)\n",
    "        return image, label\n",
    "\n"
   ]
  },
  {
   "cell_type": "code",
   "execution_count": 5,
   "id": "d781306b-c408-460d-91cf-24b19c6ed3d5",
   "metadata": {},
   "outputs": [
    {
     "data": {
      "text/plain": [
       "50000"
      ]
     },
     "execution_count": 5,
     "metadata": {},
     "output_type": "execute_result"
    }
   ],
   "source": [
    "cifar_train_data = Cifar10Dataset(train=True)\n",
    "len(cifar_train_data)"
   ]
  },
  {
   "cell_type": "code",
   "execution_count": 6,
   "id": "355b13f2-7df9-432f-9e3f-d774146143aa",
   "metadata": {},
   "outputs": [
    {
     "data": {
      "text/plain": [
       "10000"
      ]
     },
     "execution_count": 6,
     "metadata": {},
     "output_type": "execute_result"
    }
   ],
   "source": [
    "cifar_test_data = Cifar10Dataset(train=False)\n",
    "len(cifar_test_data)"
   ]
  },
  {
   "cell_type": "markdown",
   "id": "removed-program",
   "metadata": {},
   "source": [
    "### <span style=\"color:#4CC9F0\">Preparando sus datos para entrenamiento con DataLoaders</span>"
   ]
  },
  {
   "cell_type": "code",
   "execution_count": 7,
   "id": "present-replacement",
   "metadata": {},
   "outputs": [
    {
     "data": {
      "text/plain": [
       "2"
      ]
     },
     "execution_count": 7,
     "metadata": {},
     "output_type": "execute_result"
    }
   ],
   "source": [
    "from torch.utils.data import DataLoader\n",
    "\n",
    "num_workers = torch.get_num_threads()//2\n",
    "\n",
    "train_dataloader = DataLoader(cifar_train_data, batch_size=64, shuffle=True, \n",
    "                               num_workers= num_workers)\n",
    "\n",
    "test_dataloader = DataLoader(cifar_test_data, batch_size=64, shuffle=False)\n",
    "\n",
    "torch.get_num_threads()"
   ]
  },
  {
   "cell_type": "code",
   "execution_count": 8,
   "id": "a4729075-78b5-44de-8d31-3e0c8c5fb7a9",
   "metadata": {},
   "outputs": [
    {
     "data": {
      "text/plain": [
       "2"
      ]
     },
     "execution_count": 8,
     "metadata": {},
     "output_type": "execute_result"
    }
   ],
   "source": [
    "len(next(iter(test_dataloader)))"
   ]
  },
  {
   "cell_type": "markdown",
   "id": "published-employee",
   "metadata": {},
   "source": [
    "### <span style=\"color:#4CC9F0\">Iterando a lo largo del DataLoader</span>"
   ]
  },
  {
   "cell_type": "markdown",
   "id": "according-payroll",
   "metadata": {},
   "source": [
    "Cada iteración retorna un batch (`batch_size=64`) de datos (`train_features` y `train_labels`). Dado que *shuffel=True* en el ejemplo, todos los lotes de datos se mezclan. Un control más fino para establecer el orden se obtiene usando `Samplers`."
   ]
  },
  {
   "cell_type": "code",
   "execution_count": 15,
   "id": "great-elite",
   "metadata": {},
   "outputs": [
    {
     "name": "stdout",
     "output_type": "stream",
     "text": [
      "Shape del lote de imágenes: torch.Size([64, 3, 32, 32])\n",
      "Shape del lote de etiquetas: torch.Size([64])\n"
     ]
    },
    {
     "data": {
      "image/png": "[encoded data removed]",
      "text/plain": [
       "<Figure size 100x100 with 1 Axes>"
      ]
     },
     "metadata": {},
     "output_type": "display_data"
    }
   ],
   "source": [
    "# Despliega imagen y etiqueta\n",
    "train_features, train_labels = next(iter(train_dataloader))\n",
    "print(f'Shape del lote de imágenes: {train_features.size()}')\n",
    "print(f'Shape del lote de etiquetas: {train_labels.size()}')\n",
    "train_features = train_features.numpy().transpose(0, 2, 3, 1) \n",
    "plt.figure(figsize=(1,1))\n",
    "plt.imshow(train_features[0])\n",
    "plt.title(label_map[train_labels.numpy()[0]])\n",
    "plt.axis('off')\n",
    "plt.show()"
   ]
  },
  {
   "cell_type": "markdown",
   "id": "a7ad05ae-76b0-4f44-85a2-836a0dd5db66",
   "metadata": {},
   "source": [
    "#### <span style=\"color:#4CC9F0\">Un iterador de visualización</span> "
   ]
  },
  {
   "cell_type": "code",
   "execution_count": 36,
   "id": "2735a109-da89-45b6-b758-091d45f98e35",
   "metadata": {},
   "outputs": [],
   "source": [
    "label_map = {\n",
    "    0: 'Avión',\n",
    "    1: \"Automóvil\",\n",
    "    2: \"Pájaro\",\n",
    "    3: \"Gato\",\n",
    "    4: \"Venado\",\n",
    "    5: \"Perro\",\n",
    "    6: \"Rana\",\n",
    "    7: \"Caballo\",\n",
    "    8: \"Barco\",\n",
    "    9: \"Camión\",\n",
    "}\n",
    "\n",
    "\n",
    "class Draw:\n",
    "    def __init__(self, label_map, images_iterator, cols=4, rows=4, figsize=(6,6)):\n",
    "        self.data = images_iterator\n",
    "        self.label_map = label_map\n",
    "        self.figsize=figsize\n",
    "        self.cols = cols\n",
    "        self.rows = rows\n",
    "        self.index = 0      \n",
    "\n",
    "    def __iter__(self):\n",
    "        return self\n",
    "\n",
    "    def __next__(self):\n",
    "        if self.index >= len(self.data):\n",
    "            raise StopIteration\n",
    "\n",
    "        self.index += 1  \n",
    "        \n",
    "        img, label = next(self.data)\n",
    "        figure = plt.figure(figsize=self.figsize)\n",
    "        for i in range(1, self.cols*self.rows+1):\n",
    "            #sample_idx = torch.randint(len(training_data), size =(1,)).item()\n",
    "            #img, label = training_data[sample_idx]\n",
    "            figure.add_subplot(self.rows, self.cols, i)\n",
    "            #plt.title(self.label_map[label])\n",
    "            plt.axis('off')\n",
    "            plt.imshow(img[i].numpy().transpose( 1, 2, 0) )\n",
    "            plt.title(label_map[label[i].item()])\n",
    "        plt.show()\n",
    "        #return value"
   ]
  },
  {
   "cell_type": "code",
   "execution_count": 37,
   "id": "c74fde60-0bd4-4b70-bb09-313746298994",
   "metadata": {},
   "outputs": [],
   "source": [
    "images = Draw(label_map, iter(train_dataloader))"
   ]
  },
  {
   "cell_type": "code",
   "execution_count": 39,
   "id": "e2ebdb34-f422-495e-9d34-556501f10371",
   "metadata": {},
   "outputs": [
    {
     "data": {
      "image/png": "[encoded data removed]",
      "text/plain": [
       "<Figure size 600x600 with 16 Axes>"
      ]
     },
     "metadata": {},
     "output_type": "display_data"
    }
   ],
   "source": [
    "next(images)"
   ]
  },
  {
   "cell_type": "code",
   "execution_count": null,
   "id": "dec51cd5-344e-4ecf-97d3-66fd6e097f1a",
   "metadata": {},
   "outputs": [],
   "source": []
  }
 ],
 "metadata": {
  "kernelspec": {
   "display_name": "Python 3 (ipykernel)",
   "language": "python",
   "name": "python3"
  },
  "language_info": {
   "codemirror_mode": {
    "name": "ipython",
    "version": 3
   },
   "file_extension": ".py",
   "mimetype": "text/x-python",
   "name": "python",
   "nbconvert_exporter": "python",
   "pygments_lexer": "ipython3",
   "version": "3.11.3"
  }
 },
 "nbformat": 4,
 "nbformat_minor": 5
}
