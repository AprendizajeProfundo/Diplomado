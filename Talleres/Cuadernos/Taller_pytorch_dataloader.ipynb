{
 "cells": [
  {
   "cell_type": "markdown",
   "id": "6714a557",
   "metadata": {},
   "source": [
    "# <span style=\"color:green\"><center>Diplomado en Inteligencia Artificial y Aprendizaje Profundo</center></span>"
   ]
  },
  {
   "cell_type": "markdown",
   "id": "d1ae5dfb",
   "metadata": {},
   "source": [
    "# <span style=\"color:red\"><center>Creación de Datasets  y Dataloaders en Pytorch</center></span>"
   ]
  },
  {
   "cell_type": "markdown",
   "id": "ce26e0f8",
   "metadata": {},
   "source": [
    "##   <span style=\"color:blue\">Profesores</span>"
   ]
  },
  {
   "cell_type": "markdown",
   "id": "0a834322",
   "metadata": {},
   "source": [
    "- Alvaro Mauricio Montenegro Díaz, ammontenegrod@unal.edu.co\n",
    "- Daniel Mauricio Montenegro Reyes, dextronomo@gmail.com \n",
    "- Campo Elías Pardo Turriago, cepardot@unal.edu.co \n",
    "- Oleg Jarma, ojarmam@unal.edu.co "
   ]
  },
  {
   "cell_type": "markdown",
   "id": "62b472cb",
   "metadata": {},
   "source": [
    "##   <span style=\"color:blue\">Asesora Medios y Marketing digital</span>"
   ]
  },
  {
   "cell_type": "markdown",
   "id": "77a0720d",
   "metadata": {},
   "source": [
    "- Maria del Pilar Montenegro, pmontenegro88@gmail.com "
   ]
  },
  {
   "cell_type": "markdown",
   "id": "37ec3a64",
   "metadata": {},
   "source": [
    "## **Contenido**\n",
    "\n",
    "* [Introducción](#Introducción)\n",
    "* [Descargar y usar dataset predeterminados](#descargar-y-usar-datasets-predeterminados)\n",
    "* [Cargar datos usando un DataLoader](#Cargar-datos-usando-un-DataLoader)\n",
    "* [Creación de conjuntos personalizados](#Creación-de-conjuntos-personalizados)"
   ]
  },
  {
   "cell_type": "markdown",
   "metadata": {},
   "source": [
    "##   <span style=\"color:blue\">Introducción</span>"
   ]
  },
  {
   "cell_type": "markdown",
   "metadata": {},
   "source": [
    "inspirado inicialmente en los [tutoriales](https://pytorch.org/tutorials/beginner/basics/data_tutorial.html) de [pytorch](https://pytorch.org/tutorials/beginner/data_loading_tutorial.html)\n",
    "\n",
    "Desarrollar un \"Pipeline\" para el procesamiento de los datos para los modelos es una de las tareas más importantes para obtener un entrenamiento fructífero. El problema proviene de lo diferentes que pueden ser los proyectos y los datos a usar, haciendo cada uno de estos su \"pequeño mundo\".\n",
    "\n",
    "Por suerte, pytorch ofrece una gran cantidad de bases de datos pre procesadas que se pueden descargar y usar de manera casi inmediata.  Y si esto no es suficiente, ofrecen la capacidad de crear clases personalizadas para procesar las bases de datos que se obtengan de manera externa."
   ]
  },
  {
   "cell_type": "markdown",
   "metadata": {},
   "source": [
    "##   <span style=\"color:blue\">Descargar y usar datasets predeterminados.</span>"
   ]
  },
  {
   "cell_type": "markdown",
   "metadata": {},
   "source": [
    "En los casos introductorios o de exploración básica, es una buena idea utilizar conjuntos de datos reconocidos, con la intención de no perder demasiado tiempo en la ardua tarea del preprocesamiento, además de poder tener puntos de comparación a la hora de comprobar la eficiencia de los modelos. Esto es particularmente verdadero en el campo de visión.\n",
    "\n",
    "Pytorch, específicamente en el paquete \"torchvision\" permite descargar directamente varios de estos conjuntos de datos \"Benchmarks\", para luego usarlos rápida y efectivamente.\n",
    "\n",
    "Para este primer acercamiento, descargaremos y haremos una primera visualización al conjunto de datos [\"Fashion Mnist\"](https://github.com/zalandoresearch/fashion-mnist). Este conjunto consta de *70000* imágenes de *10* diferentes tipos de prendas de vestir. Estas imagenes se encuentras en tonos de grises y tienen un tamaño de 28x28 pixeles. Este conjunto fue hecho con la intención explícita de ser usado como benchmark en los modelos de visión artificial."
   ]
  },
  {
   "cell_type": "code",
   "execution_count": 40,
   "metadata": {},
   "outputs": [],
   "source": [
    "import torch\n",
    "from torchvision import datasets\n",
    "from torchvision.transforms import ToTensor\n",
    "import matplotlib.pyplot as plt"
   ]
  },
  {
   "cell_type": "markdown",
   "metadata": {},
   "source": [
    "en la mayoría de casos, los conjuntos de torchvision vienen separados en datos de entrenamiento y datos de prueba, y pueden descargarse y usarse de manera independiente"
   ]
  },
  {
   "cell_type": "code",
   "execution_count": 41,
   "metadata": {},
   "outputs": [],
   "source": [
    "training_data = datasets.FashionMNIST(\n",
    "    root=\"/mnt/storage/Datasets\",\n",
    "    train=True,\n",
    "    download=True,\n",
    "    transform=ToTensor()\n",
    ")\n",
    "\n",
    "test_data = datasets.FashionMNIST(\n",
    "    root=\"/mnt/storage/Datasets\", #cambiar para computadores personales.\n",
    "    train=False,\n",
    "    download=True,\n",
    "    transform=ToTensor()\n",
    ")"
   ]
  },
  {
   "cell_type": "markdown",
   "metadata": {},
   "source": [
    "Con el conjunto ya descargado y definido como parte de nuestro código, podemos activamente usarlo, como por ejemplo visualizando algunos de los datos."
   ]
  },
  {
   "cell_type": "code",
   "execution_count": 42,
   "metadata": {},
   "outputs": [
    {
     "data": {
      "image/png": "[encoded data removed]",
      "text/plain": [
       "<Figure size 576x576 with 9 Axes>"
      ]
     },
     "metadata": {
      "needs_background": "light"
     },
     "output_type": "display_data"
    }
   ],
   "source": [
    "# hacemos un diccionario para reconocer cada etiqueta por su nombre verdadero\n",
    "from matplotlib.pyplot import figure\n",
    "\n",
    "\n",
    "labels_map = {\n",
    "    0: \"Camiseta\",\n",
    "    1: \"Pantalón\",\n",
    "    2: \"Suéter\",\n",
    "    3: \"Vestido\",\n",
    "    4: \"Saco\",\n",
    "    5: \"Sandalia\",\n",
    "    6: \"Camisa\",\n",
    "    7: \"Zapato\",\n",
    "    8: \"Bolsa\",\n",
    "    9: \"Bota\"\n",
    "}\n",
    "\n",
    "#Creamos una \"matriz\" donde se imprimirán las imagenes\n",
    "figure = plt.figure(figsize=(8,8))\n",
    "cols, rows = 3, 3\n",
    "for i in range(1, cols*rows+1):\n",
    "    sample_idx = torch.randint(len(training_data), size=(1,)).item()\n",
    "    img, label = training_data[sample_idx]  # type: ignore\n",
    "    figure.add_subplot(rows, cols, i)\n",
    "    plt.title(labels_map[label])\n",
    "    plt.axis(\"off\")\n",
    "    plt.imshow(img.squeeze(), cmap=\"gray\")\n",
    "    "
   ]
  },
  {
   "cell_type": "markdown",
   "metadata": {},
   "source": [
    "##   <span style=\"color:blue\">Cargar datos usando un DataLoader</span>"
   ]
  },
  {
   "cell_type": "markdown",
   "metadata": {},
   "source": [
    "Con el conjunto listo es hora de cargar los datos al modelo para que pueda entrenar usando estos. Esto lo logramos usando la función `torch.utils.data.DataLoader`. Esta función envuelve los datos en un iterador para  poder acceder de manera fácil y rápida a los datos."
   ]
  },
  {
   "cell_type": "code",
   "execution_count": 43,
   "metadata": {},
   "outputs": [],
   "source": [
    "from torch.utils.data import DataLoader"
   ]
  },
  {
   "cell_type": "code",
   "execution_count": 44,
   "metadata": {},
   "outputs": [],
   "source": [
    "train_loader = DataLoader(\n",
    "    dataset=training_data, #dataset de donde vamos a cargar los datos\n",
    "    batch_size=64, #número de muestras usadas en una iteración\n",
    "    shuffle=False, #se decide si se aleatoriza el orden de los datos en las muestras\n",
    "    num_workers=0, #permite que se hagan múltiples procesos a la vez\n",
    "    collate_fn=None, #se usa si se quiere concatenar los datos\n",
    "    pin_memory=False #Decidir si se quieren cargar los datos en la GPU\n",
    ")\n",
    "\n",
    "test_loader = DataLoader(\n",
    "    test_data,\n",
    "    batch_size=64,\n",
    "    shuffle=True\n",
    ")"
   ]
  },
  {
   "cell_type": "markdown",
   "metadata": {},
   "source": [
    "Ahora podemos usar el dataloader para iterar sobre los datos. Cada iteración retorna un lote del tamaño específicado de duplas (`train_features`, `train_labels`). Debido a que definimos `shuffle=True` todos los lotes van a mezclarse."
   ]
  },
  {
   "cell_type": "code",
   "execution_count": 45,
   "metadata": {},
   "outputs": [
    {
     "name": "stdout",
     "output_type": "stream",
     "text": [
      "forma del lote de características: torch.Size([64, 1, 28, 28])\n",
      "forma del lote de las etiquetas: torch.Size([64])\n"
     ]
    },
    {
     "data": {
      "image/png": "[encoded data removed]",
      "text/plain": [
       "<Figure size 432x288 with 1 Axes>"
      ]
     },
     "metadata": {
      "needs_background": "light"
     },
     "output_type": "display_data"
    },
    {
     "name": "stdout",
     "output_type": "stream",
     "text": [
      "Etiqueta: 9\n"
     ]
    }
   ],
   "source": [
    "train_features, train_labels = next(iter(train_loader))\n",
    "print(f'forma del lote de características: {train_features.size()}')\n",
    "print(f'forma del lote de las etiquetas: {train_labels.size()}')\n",
    "\n",
    "img = train_features[0].squeeze()\n",
    "label = train_labels[0]\n",
    "plt.imshow(img, cmap='gray')\n",
    "plt.show()\n",
    "print(f'Etiqueta: {label}')"
   ]
  },
  {
   "cell_type": "markdown",
   "metadata": {},
   "source": [
    "##   <span style=\"color:blue\">Creación de conjuntos personalizados</span>"
   ]
  },
  {
   "cell_type": "markdown",
   "metadata": {},
   "source": [
    "Por supuesto, vamos a querer traer nuestros propios datos y poder cargarlos apropiadamente, pero esto puede ser complicado dependiendo de la forma que estas estén organizadas. Para estos casos, podemos hacer nuestra propia clase para crear el conjunto de datos y luego cargarlos de igual manera."
   ]
  },
  {
   "cell_type": "code",
   "execution_count": 46,
   "metadata": {},
   "outputs": [],
   "source": [
    "import os\n",
    "import pandas as pd\n",
    "from torchvision.io import read_image"
   ]
  },
  {
   "cell_type": "markdown",
   "metadata": {},
   "source": [
    "Vamos a utilizar el conjunto de datos \"MNIST\": Un conjunto de digitos escritos a mano."
   ]
  },
  {
   "cell_type": "code",
   "execution_count": 47,
   "metadata": {},
   "outputs": [
    {
     "name": "stdout",
     "output_type": "stream",
     "text": [
      "--2022-08-19 16:41:36--  http://yann.lecun.com/exdb/mnist/train-images-idx3-ubyte.gz\n",
      "Resolving yann.lecun.com (yann.lecun.com)... 104.21.29.36, 172.67.171.76, 2606:4700:3036::ac43:ab4c, ...\n",
      "Connecting to yann.lecun.com (yann.lecun.com)|104.21.29.36|:80... connected.\n",
      "HTTP request sent, awaiting response... 200 OK\n",
      "Length: 9912422 (9.5M) [application/x-gzip]\n",
      "Saving to: ‘/mnt/storage/Datasets/train-images-idx3-ubyte.gz.3’\n",
      "\n",
      "train-images-idx3-u 100%[===================>]   9.45M  8.45MB/s    in 1.1s    \n",
      "\n",
      "2022-08-19 16:41:37 (8.45 MB/s) - ‘/mnt/storage/Datasets/train-images-idx3-ubyte.gz.3’ saved [9912422/9912422]\n",
      "\n",
      "--2022-08-19 16:41:38--  http://yann.lecun.com/exdb/mnist/train-labels-idx1-ubyte.gz\n",
      "Resolving yann.lecun.com (yann.lecun.com)... 104.21.29.36, 172.67.171.76, 2606:4700:3036::ac43:ab4c, ...\n",
      "Connecting to yann.lecun.com (yann.lecun.com)|104.21.29.36|:80... connected.\n",
      "HTTP request sent, awaiting response... 200 OK\n",
      "Length: 28881 (28K) [application/x-gzip]\n",
      "Saving to: ‘/mnt/storage/Datasets/train-labels-idx1-ubyte.gz.3’\n",
      "\n",
      "train-labels-idx1-u 100%[===================>]  28.20K  --.-KB/s    in 0.006s  \n",
      "\n",
      "2022-08-19 16:41:38 (4.61 MB/s) - ‘/mnt/storage/Datasets/train-labels-idx1-ubyte.gz.3’ saved [28881/28881]\n",
      "\n",
      "--2022-08-19 16:41:38--  http://yann.lecun.com/exdb/mnist/t10k-images-idx3-ubyte.gz\n",
      "Resolving yann.lecun.com (yann.lecun.com)... 104.21.29.36, 172.67.171.76, 2606:4700:3036::ac43:ab4c, ...\n",
      "Connecting to yann.lecun.com (yann.lecun.com)|104.21.29.36|:80... connected.\n",
      "HTTP request sent, awaiting response... 200 OK\n",
      "Length: 1648877 (1.6M) [application/x-gzip]\n",
      "Saving to: ‘/mnt/storage/Datasets/t10k-images-idx3-ubyte.gz.3’\n",
      "\n",
      "t10k-images-idx3-ub 100%[===================>]   1.57M  4.37MB/s    in 0.4s    \n",
      "\n",
      "2022-08-19 16:41:38 (4.37 MB/s) - ‘/mnt/storage/Datasets/t10k-images-idx3-ubyte.gz.3’ saved [1648877/1648877]\n",
      "\n",
      "--2022-08-19 16:41:39--  http://yann.lecun.com/exdb/mnist/t10k-labels-idx1-ubyte.gz\n",
      "Resolving yann.lecun.com (yann.lecun.com)... 104.21.29.36, 172.67.171.76, 2606:4700:3036::ac43:ab4c, ...\n",
      "Connecting to yann.lecun.com (yann.lecun.com)|104.21.29.36|:80... connected.\n",
      "HTTP request sent, awaiting response... 200 OK\n",
      "Length: 4542 (4.4K) [application/x-gzip]\n",
      "Saving to: ‘/mnt/storage/Datasets/t10k-labels-idx1-ubyte.gz.3’\n",
      "\n",
      "t10k-labels-idx1-ub 100%[===================>]   4.44K  --.-KB/s    in 0s      \n",
      "\n",
      "2022-08-19 16:41:39 (24.6 MB/s) - ‘/mnt/storage/Datasets/t10k-labels-idx1-ubyte.gz.3’ saved [4542/4542]\n",
      "\n"
     ]
    }
   ],
   "source": [
    "!wget http://yann.lecun.com/exdb/mnist/train-images-idx3-ubyte.gz -P /mnt/storage/Datasets\n",
    "!wget http://yann.lecun.com/exdb/mnist/train-labels-idx1-ubyte.gz -P /mnt/storage/Datasets\n",
    "!wget http://yann.lecun.com/exdb/mnist/t10k-images-idx3-ubyte.gz -P /mnt/storage/Datasets\n",
    "!wget http://yann.lecun.com/exdb/mnist/t10k-labels-idx1-ubyte.gz -P /mnt/storage/Datasets"
   ]
  },
  {
   "cell_type": "markdown",
   "metadata": {},
   "source": [
    "Revisamos los datos y los adaptamos depende a su contexto"
   ]
  },
  {
   "cell_type": "code",
   "execution_count": 48,
   "metadata": {},
   "outputs": [
    {
     "name": "stdout",
     "output_type": "stream",
     "text": [
      "(60000, 28, 28, 1)\n"
     ]
    },
    {
     "data": {
      "image/png": "[encoded data removed]",
      "text/plain": [
       "<Figure size 432x288 with 1 Axes>"
      ]
     },
     "metadata": {
      "needs_background": "light"
     },
     "output_type": "display_data"
    }
   ],
   "source": [
    "## imagenes de entrenamiento\n",
    "\n",
    "import gzip\n",
    "\n",
    "f = gzip.open('/mnt/storage/Datasets/train-images-idx3-ubyte.gz')\n",
    "\n",
    "image_size = 28\n",
    "\n",
    "num_images = 60000\n",
    "\n",
    "import numpy as np\n",
    "\n",
    "f.read(16)\n",
    "buf = f.read(image_size*image_size*num_images)\n",
    "data_train = np.frombuffer(buf, dtype=np.uint8).astype(np.float32)\n",
    "\n",
    "data_train = data_train.reshape(num_images, image_size, image_size, 1)\n",
    "print(data_train.shape)\n",
    "\n",
    "image = np.asarray(data_train[0]).squeeze()\n",
    "plt.imshow(image)\n",
    "plt.show()"
   ]
  },
  {
   "cell_type": "code",
   "execution_count": 49,
   "metadata": {},
   "outputs": [
    {
     "name": "stdout",
     "output_type": "stream",
     "text": [
      "(60000,)\n",
      "[5. 0. 4. 1. 9. 2. 1. 3. 1. 4. 3. 5. 3. 6. 1. 7. 2. 8. 6. 9.]\n"
     ]
    }
   ],
   "source": [
    "## etiquetas de entrenamiento\n",
    "\n",
    "f = gzip.open('/mnt/storage/Datasets/train-labels-idx1-ubyte.gz')\n",
    "\n",
    "num_labels = 60000\n",
    "\n",
    "\n",
    "f.read(8)\n",
    "buf = f.read(num_labels)\n",
    "label_train = np.frombuffer(buf, dtype=np.uint8).astype(np.float32)\n",
    "\n",
    "print(label_train.shape)\n",
    "print(label_train[:20])"
   ]
  },
  {
   "cell_type": "code",
   "execution_count": 50,
   "metadata": {},
   "outputs": [
    {
     "name": "stdout",
     "output_type": "stream",
     "text": [
      "(10000, 28, 28, 1)\n"
     ]
    },
    {
     "data": {
      "image/png": "[encoded data removed]",
      "text/plain": [
       "<Figure size 432x288 with 1 Axes>"
      ]
     },
     "metadata": {
      "needs_background": "light"
     },
     "output_type": "display_data"
    }
   ],
   "source": [
    "## imagenes de prueba\n",
    "\n",
    "f = gzip.open('/mnt/storage/Datasets/t10k-images-idx3-ubyte.gz')\n",
    "\n",
    "image_size = 28\n",
    "\n",
    "num_images = 10000\n",
    "\n",
    "import numpy as np\n",
    "\n",
    "f.read(16)\n",
    "buf = f.read(image_size*image_size*num_images)\n",
    "data_test = np.frombuffer(buf, dtype=np.uint8).astype(np.float32)\n",
    "\n",
    "data_test = data_test.reshape(num_images, image_size, image_size, 1)\n",
    "print(data_test.shape)\n",
    "\n",
    "image = np.asarray(data_test[2]).squeeze()\n",
    "plt.imshow(image)\n",
    "plt.show()"
   ]
  },
  {
   "cell_type": "code",
   "execution_count": 51,
   "metadata": {},
   "outputs": [
    {
     "name": "stdout",
     "output_type": "stream",
     "text": [
      "(10000,)\n",
      "[7. 2. 1. 0. 4. 1. 4. 9. 5. 9. 0. 6. 9. 0. 1. 5. 9. 7. 3. 4.]\n"
     ]
    }
   ],
   "source": [
    "## etiquetas de prueba\n",
    "\n",
    "f = gzip.open('/mnt/storage/Datasets/t10k-labels-idx1-ubyte.gz')\n",
    "\n",
    "num_labels = 10000\n",
    "\n",
    "\n",
    "f.read(8)\n",
    "buf = f.read(num_labels)\n",
    "label_test = np.frombuffer(buf, dtype=np.uint8).astype(np.float32)\n",
    "\n",
    "print(label_test.shape)\n",
    "print(label_test[:20])"
   ]
  },
  {
   "cell_type": "markdown",
   "metadata": {},
   "source": [
    "con los datos organizados, podemos crear la nueva clase del dataset. \n",
    "\n",
    "una clase personalizada debe implementar tres funciones:\n",
    "- `__init__`: inicializamos los directorios, variables, transformaciones y demás\n",
    "- `__len__`: obtenemos el número de muestras en el conjunto\n",
    "- `__getitem__`: Carga y obtiene una muestra del conjunto dato el índice `idx`. Con base en el este índice, se identifica la imágen y la etiqueta en la lista creada. Si tenemos alguna transformación, se aplicará."
   ]
  },
  {
   "cell_type": "code",
   "execution_count": 52,
   "metadata": {},
   "outputs": [],
   "source": [
    "from torch.utils.data import Dataset\n",
    "\n",
    "class ImageDataset(Dataset):\n",
    "    def __init__(self, labels, images, transform=None, target_transform=None):\n",
    "        self.labels = labels\n",
    "        self.images = images\n",
    "        self.transform = transform\n",
    "        self.target_transform = target_transform\n",
    "    \n",
    "    def __len__(self):\n",
    "        return len(self.labels)\n",
    "    \n",
    "    def __getitem__(self, idx):\n",
    "        image = self.images[idx]\n",
    "        label =  self.labels[idx]\n",
    "        if self.transform:\n",
    "            image = self.transform(image)\n",
    "        if self.target_transform:\n",
    "            label = self.target_transform(label)\n",
    "        return image, label"
   ]
  },
  {
   "cell_type": "code",
   "execution_count": 53,
   "metadata": {},
   "outputs": [],
   "source": [
    "train_dataset = ImageDataset(label_train, data_train, transform=ToTensor())\n",
    "test_dataset = ImageDataset(label_test, data_test, transform=ToTensor())"
   ]
  },
  {
   "cell_type": "code",
   "execution_count": 58,
   "metadata": {},
   "outputs": [],
   "source": [
    "device = \"cuda\" if torch.cuda.is_available() else \"cpu\"\n",
    "kwargs = {'num_workers': 1, 'pin_memory': True} if device=='cuda' else {}\n",
    "\n",
    "train_dataloader = DataLoader(train_dataset, batch_size=64, shuffle=True,\n",
    "                              **kwargs)\n",
    "\n",
    "test_dataloader = DataLoader(test_dataset, batch_size=64, shuffle=True,\n",
    "                              **kwargs)"
   ]
  },
  {
   "cell_type": "code",
   "execution_count": 63,
   "metadata": {},
   "outputs": [
    {
     "data": {
      "image/png": "[encoded data removed]",
      "text/plain": [
       "<Figure size 432x288 with 1 Axes>"
      ]
     },
     "metadata": {
      "needs_background": "light"
     },
     "output_type": "display_data"
    },
    {
     "name": "stdout",
     "output_type": "stream",
     "text": [
      "2.0\n"
     ]
    }
   ],
   "source": [
    "train_features, train_labels = next(iter(train_dataloader))\n",
    "image = np.asarray(train_features[0]).squeeze()\n",
    "label = np.asarray(train_labels[0]).squeeze()\n",
    "plt.imshow(image)\n",
    "plt.show()\n",
    "print(label)"
   ]
  },
  {
   "cell_type": "code",
   "execution_count": null,
   "metadata": {},
   "outputs": [],
   "source": []
  }
 ],
 "metadata": {
  "kernelspec": {
   "display_name": "Python 3.10.5 ('torch')",
   "language": "python",
   "name": "python3"
  },
  "language_info": {
   "codemirror_mode": {
    "name": "ipython",
    "version": 3
   },
   "file_extension": ".py",
   "mimetype": "text/x-python",
   "name": "python",
   "nbconvert_exporter": "python",
   "pygments_lexer": "ipython3",
   "version": "3.10.5"
  },
  "orig_nbformat": 4,
  "vscode": {
   "interpreter": {
    "hash": "5eb807cd7242e53c7003c9ceab3abd70e7698cb7c4803202cab9910207ec3974"
   }
  }
 },
 "nbformat": 4,
 "nbformat_minor": 2
}
