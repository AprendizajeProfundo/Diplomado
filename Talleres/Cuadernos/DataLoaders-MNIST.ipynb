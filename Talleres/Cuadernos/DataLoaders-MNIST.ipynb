{
 "cells": [
  {
   "cell_type": "markdown",
   "id": "resistant-assist",
   "metadata": {
    "tags": []
   },
   "source": [
    "<figure>\n",
    "<img src=\"../Imagenes/logo-final-ap.png\"  width=\"80\" height=\"80\" align=\"left\"/> \n",
    "</figure>\n",
    "\n",
    "# <span style=\"color:blue\"><left>Aprendizaje Profundo</left></span>"
   ]
  },
  {
   "cell_type": "markdown",
   "id": "f7ace41a-4dff-44e8-b919-17680ece9604",
   "metadata": {
    "tags": []
   },
   "source": [
    "# <span style=\"color:red\"><center>Datasets y Dataloaders: MNIST</center></span>"
   ]
  },
  {
   "cell_type": "markdown",
   "id": "f2e7d5e9-f57b-4fab-b70e-2fcb148b9831",
   "metadata": {},
   "source": [
    "<figure>\n",
    "<center>\n",
    "<img src=\"../Imagenes/Data_ST.jpg\" width=\"400\" height=\"400\" align=\"center\"/>\n",
    "</center>\n",
    "</figure>\n",
    "\n",
    "\n",
    "Fuente: <a href=\"https://commons.wikimedia.org/wiki/File:Data_ST.jpg\">Glenn_Cote_Brent_Spiner.jpg: Grcotederivative work: El Carlos</a>, <a href=\"http://www.gnu.org/copyleft/fdl.html\">GFDL</a>, via Wikimedia Commons<a "
   ]
  },
  {
   "cell_type": "markdown",
   "id": "26bf59f7-375b-4689-88b8-be23697d6542",
   "metadata": {
    "slideshow": {
     "slide_type": "slide"
    },
    "tags": []
   },
   "source": [
    "## <span style=\"color:#4361EE\">Coordinador</span>"
   ]
  },
  {
   "cell_type": "markdown",
   "id": "75be3475-8e9c-4d7a-b124-2b1e2e39fadb",
   "metadata": {
    "slideshow": {
     "slide_type": "slide"
    },
    "tags": []
   },
   "source": [
    "- Campo Elías Pardo, PhD, cepardot@unal.edu.co"
   ]
  },
  {
   "cell_type": "markdown",
   "id": "552659bd-d9b3-4d7d-986f-2cd4f1f8116b",
   "metadata": {},
   "source": [
    "## <span style=\"color:#4361EE\">Profesores</span>"
   ]
  },
  {
   "cell_type": "markdown",
   "id": "d83ba55a-27a9-4eb8-97b8-a78a9c12f0c3",
   "metadata": {},
   "source": [
    "1. Alvaro  Montenegro, PhD, ammontenegrod@unal.edu.co\n",
    "1. Camilo José Torres Jiménez, Msc, cjtorresj@unal.edu.co\n",
    "1. Daniel  Montenegro, Msc, dextronomo@gmail.com "
   ]
  },
  {
   "cell_type": "markdown",
   "id": "ec34bf32-11ae-4b50-ab8a-8547e3d8df0a",
   "metadata": {},
   "source": [
    "## <span style=\"color:#4361EE\">Asesora Medios y Marketing digital</span>"
   ]
  },
  {
   "cell_type": "markdown",
   "id": "10a8cae8-3600-4e8a-ab30-3829529fa4d2",
   "metadata": {},
   "source": [
    "1. Maria del Pilar Montenegro, pmontenegro88@gmail.com\n",
    "1. Jessica López Mejía, jelopezme@unal.edu.co\n",
    "1. Venus Celeste Puertas Gualtero, vpuertasg@unal.edu.co"
   ]
  },
  {
   "cell_type": "markdown",
   "id": "50b728f8-08dd-4bd9-bc74-e180ea65c3f0",
   "metadata": {},
   "source": [
    "## <span style=\"color:#4361EE\">Jefe Jurídica</span>"
   ]
  },
  {
   "cell_type": "markdown",
   "id": "23a305e3-c552-406b-862b-0d3cf7d1571f",
   "metadata": {},
   "source": [
    "6. Paula Andrea Guzmán, guzmancruz.paula@gmail.com"
   ]
  },
  {
   "cell_type": "markdown",
   "id": "597644a1-29f1-44f4-bfdb-a116dbb7e4a7",
   "metadata": {},
   "source": [
    "## <span style=\"color:#4361EE\">Coordinador Jurídico</span>"
   ]
  },
  {
   "cell_type": "markdown",
   "id": "330a373d-8e78-4ae7-903e-8b4c3f1f313d",
   "metadata": {},
   "source": [
    "7. David Fuentes, fuentesd065@gmail.com"
   ]
  },
  {
   "cell_type": "markdown",
   "id": "73c51b04-c9b9-4050-b7d6-dbe4205d8372",
   "metadata": {},
   "source": [
    "## <span style=\"color:#4361EE\">Desarrolladores Principales</span>"
   ]
  },
  {
   "cell_type": "markdown",
   "id": "00b2f798-c842-4e52-86a3-708e7e09c4ca",
   "metadata": {},
   "source": [
    "8. Dairo Moreno, damoralesj@unal.edu.co\n",
    "9. Joan Castro, jocastroc@unal.edu.co\n",
    "10. Bryan Riveros, briveros@unal.edu.co\n",
    "11. Rosmer Vargas, rovargasc@unal.edu.co\n",
    "12. Venus Puertas, vpuertasg@unal.edu.co"
   ]
  },
  {
   "cell_type": "markdown",
   "id": "a4a93e8f-8115-46f3-927d-c9228ed96c82",
   "metadata": {},
   "source": [
    "## <span style=\"color:#4361EE\">Expertos en Bases de Datos</span>"
   ]
  },
  {
   "cell_type": "markdown",
   "id": "6771cd43-ea18-48d5-8b5e-0be79f874711",
   "metadata": {
    "tags": []
   },
   "source": [
    "13. Giovvani Barrera, udgiovanni@gmail.com\n",
    "14. Camilo Chitivo, cchitivo@unal.edu.co"
   ]
  },
  {
   "cell_type": "markdown",
   "id": "9384982a-e97a-44d8-a3a1-dfc09516150f",
   "metadata": {},
   "source": [
    "## <span style=\"color:blue\">Referencias</span>"
   ]
  },
  {
   "cell_type": "markdown",
   "id": "f2a91838-7b58-4aab-8f3a-12244bb6ab00",
   "metadata": {},
   "source": [
    "1. [Alvaro Montenegro y Daniel Montenegro, Inteligencia Artificial y Aprendizaje Profundo, 2023](https://github.com/AprendizajeProfundo/Diplomado)\n",
    "1. [Alvaro Montenegro, Daniel Montenegro y Oleg Jarma,  Inteligencia Artificial y Aprendizaje Profundo Avanzado, 2023](https://github.com/AprendizajeProfundo/Diplomado-Avanzado)\n",
    "1. [Tutoriales de Pytorch](https://pytorch.org/tutorials/)\n",
    "1. [Pytorchlightning.ai](https://www.pytorchlightning.ai/)"
   ]
  },
  {
   "cell_type": "markdown",
   "id": "6b4bc914-4f5f-40f4-ba09-68efefe70505",
   "metadata": {
    "slideshow": {
     "slide_type": "slide"
    },
    "tags": []
   },
   "source": [
    "## <span style=\"color:blue\">Contenido</span>"
   ]
  },
  {
   "cell_type": "markdown",
   "id": "remarkable-narrow",
   "metadata": {},
   "source": [
    "* [Introducción](#Introducción)\n",
    "* [Ejemplo FashionMnist](#Ejemplo-FashionMnist)\n"
   ]
  },
  {
   "cell_type": "markdown",
   "id": "reduced-calibration",
   "metadata": {},
   "source": [
    "## <span style=\"color:blue\">Introducción</span>"
   ]
  },
  {
   "cell_type": "markdown",
   "id": "22074b30-31b8-4290-825e-99b1b88c4f61",
   "metadata": {},
   "source": [
    "El código para procesar muestras de datos puede resultar complicado y difícil de mantener; idealmente queremos que nuestro código de datasets se desacople de nuestro código de entrenamiento modelo para una mejor legibilidad y modularidad. PyTorch proporciona dos primitivas de datos: `torch.utils.data.DataLoader` y `torch.utils.data.Dataset` que le permiten utilizar conjuntos de datos precargados, así como sus propios datos. \n",
    "\n",
    "`Dataset` almacena las muestras y sus etiquetas correspondientes, y `DataLoader` envuelve un iterable alrededor del conjunto de datos para permitir un fácil acceso a las muestras.\n",
    "\n",
    "Las librerías especializadas de Pytorch como Torchvision, Torchtext, Torchaudio tienen conjuntos de datos disponibles para ser cargados directamente como Datasets. Revisemos primero el ejemplo de  FashionMNIST. Luego trabajaremos con los datos originales MNIST."
   ]
  },
  {
   "cell_type": "markdown",
   "id": "af85f1f2-808b-4c67-8852-065ad2fbd3a6",
   "metadata": {},
   "source": [
    "## <span style=\"color:blue\">Ejemplo FashionMnist</span>"
   ]
  },
  {
   "cell_type": "code",
   "execution_count": 6,
   "id": "sacred-albuquerque",
   "metadata": {},
   "outputs": [],
   "source": [
    "import torch\n",
    "from torch.utils.data import Dataset\n",
    "from torch.utils.data import DataLoader\n",
    "from torchvision import datasets\n",
    "from torchvision.transforms import ToTensor\n",
    "import matplotlib.pyplot as plt"
   ]
  },
  {
   "cell_type": "code",
   "execution_count": 2,
   "id": "funded-aurora",
   "metadata": {},
   "outputs": [],
   "source": [
    "training_data = datasets.FashionMNIST(\n",
    "    root=\"data\",\n",
    "    train=True,\n",
    "    download=True,\n",
    "    transform=ToTensor()\n",
    ")\n",
    "\n",
    "test_data = datasets.FashionMNIST(\n",
    "    root=\"data\",\n",
    "    train=False,\n",
    "    download=True,\n",
    "    transform=ToTensor()\n",
    ")"
   ]
  },
  {
   "cell_type": "markdown",
   "id": "promising-joshua",
   "metadata": {},
   "source": [
    "### <span style=\"color:#4CC9F0\">Iterando y visualizando el dataset</span>"
   ]
  },
  {
   "cell_type": "code",
   "execution_count": 5,
   "id": "joint-interest",
   "metadata": {},
   "outputs": [
    {
     "data": {
      "image/png": "[encoded data removed]",
      "text/plain": [
       "<Figure size 600x600 with 16 Axes>"
      ]
     },
     "metadata": {},
     "output_type": "display_data"
    }
   ],
   "source": [
    "label_map = {\n",
    "    0: 'camiseta',\n",
    "    1: \"Pantalones\",\n",
    "    2: \"Jersey\",\n",
    "    3: \"Vestido\",\n",
    "    4: \"Abrigo\",\n",
    "    5: \"Sandalia\",\n",
    "    6: \"Camisa\",\n",
    "    7: \"Tenis\",\n",
    "    8: \"Bolso\",\n",
    "    9: \"Botines\",\n",
    "}\n",
    "figure = plt.figure(figsize=(6,6))\n",
    "cols, rows = 4,4\n",
    "for i in range(1, cols*rows+1):\n",
    "    sample_idx = torch.randint(len(training_data), size =(1,)).item()\n",
    "    img, label = training_data[sample_idx]\n",
    "    figure.add_subplot(rows, cols, i)\n",
    "    plt.title(label_map[label])\n",
    "    plt.axis('off')\n",
    "    plt.imshow(img.squeeze(), cmap='gray')\n",
    "plt.show()"
   ]
  },
  {
   "cell_type": "code",
   "execution_count": 5,
   "id": "ae264d4d-c267-4717-8902-2542b0255068",
   "metadata": {},
   "outputs": [
    {
     "data": {
      "text/plain": [
       "torch.Size([1, 28, 28])"
      ]
     },
     "execution_count": 5,
     "metadata": {},
     "output_type": "execute_result"
    }
   ],
   "source": [
    "img.shape"
   ]
  },
  {
   "cell_type": "markdown",
   "id": "d4ee7fb0-e1c0-411c-9915-bbaa68a49200",
   "metadata": {},
   "source": [
    "## <span style=\"color:blue\">Ejemplo MNIST</span>"
   ]
  },
  {
   "cell_type": "markdown",
   "id": "worthy-bundle",
   "metadata": {},
   "source": [
    "### <span style=\"color:#4CC9F0\">Creación de un conjunto de datos personalizado para sus archivos</span>"
   ]
  },
  {
   "cell_type": "raw",
   "id": "explicit-measure",
   "metadata": {},
   "source": [
    "Una clase de conjunto de datos personalizada debe implementar tres funciones: __init__, __len__ y __getitem__. "
   ]
  },
  {
   "cell_type": "markdown",
   "id": "honey-theory",
   "metadata": {},
   "source": [
    "En este ejemplo, las imágenes MNIST se almacenan en un directorio img_dir, y sus etiquetas se almacenan por separado en un archivo CSV  `annotations_file`.\n"
   ]
  },
  {
   "cell_type": "markdown",
   "id": "335d9c0e-30ab-4693-8e47-e9fbd73a4563",
   "metadata": {},
   "source": [
    "Los datos fueron bajados desde la fuente usando wget. Por favor revise los detalles.\n",
    "\n",
    "Si desea ejecutar este código, \n",
    "- Vaya a la consola,\n",
    "- ubíquese en el directorio (carpeta) en donde desea bajar los datos y\n",
    "- ejecute cada orden wget\n",
    "\n",
    "Luego de esto ya tiene los datos comprimidos en su carpeta\n",
    "\n",
    "En este ejemplo hemos dejado los datos en la rura relativa\n",
    "\n",
    "+ \"../Datos/MNIST\""
   ]
  },
  {
   "cell_type": "code",
   "execution_count": null,
   "id": "dab2fe25-6ef3-4738-a978-b15bcdc7d7d3",
   "metadata": {
    "tags": []
   },
   "outputs": [],
   "source": [
    "#!wget http://yann.lecun.com/exdb/mnist/train-images-idx3-ubyte.gz\n",
    "#!wget http://yann.lecun.com/exdb/mnist/train-labels-idx1-ubyte.gz\n",
    "#!wget http://yann.lecun.com/exdb/mnist/t10k-images-idx3-ubyte.gz\n",
    "#!wget http://yann.lecun.com/exdb/mnist/t10k-labels-idx1-ubyte.gz"
   ]
  },
  {
   "cell_type": "markdown",
   "id": "932117e9-8fcb-473b-9d1b-1fc0edceccaa",
   "metadata": {},
   "source": [
    "De acuerdo con la documentación los datos estan en formato binario y los primero 16 bytes son de documentación. Esto explica porque leeremos los datos de la fuente como sigue."
   ]
  },
  {
   "cell_type": "markdown",
   "id": "a7850f76-d814-4e45-843d-7f0d90864b1e",
   "metadata": {},
   "source": [
    "#### <span style=\"color:#4CC9F0\">Lectura imágenes de entrenamiento</span>"
   ]
  },
  {
   "cell_type": "markdown",
   "id": "df610ba8-90b0-4a6d-8387-a29dc00614c6",
   "metadata": {},
   "source": [
    "Investigue cualquier línea de código que no entienda. El objeto `gzip` permite leer los datos desde un archivo comprimido."
   ]
  },
  {
   "cell_type": "code",
   "execution_count": 1,
   "id": "033e9316-f267-4a93-8c57-416c99328c4c",
   "metadata": {},
   "outputs": [
    {
     "name": "stdout",
     "output_type": "stream",
     "text": [
      "(60000, 28, 28, 1)\n"
     ]
    }
   ],
   "source": [
    "import gzip\n",
    "\n",
    "directorio = '../Datos/MNIST/'\n",
    "file_im3 = 'train-images-idx3-ubyte.gz'\n",
    "path = directorio + file_im3\n",
    "f = gzip.open(path,'r')\n",
    "\n",
    "# cada imagen tiene tamaño 28*28 pixeles\n",
    "image_size = 28\n",
    "num_images = 60000\n",
    "\n",
    "import numpy as np\n",
    "# omite los primeros 16 bytes\n",
    "f.read(16) \n",
    "# cada pixel en 1 byte = 8 bits\n",
    "# lee todos los datos y los coloca en un buffer de memoria\n",
    "buf = f.read(image_size * image_size * num_images) \n",
    "# traslada los datos aun una darray de numpy de tipo float32\n",
    "data_train = np.frombuffer(buf, dtype=np.uint8).astype(np.float32)\n",
    "# Cambia la forma de los datos par entregarlos listos la datset\n",
    "data_train = data_train.reshape(num_images, image_size, image_size, 1)\n",
    "print(data_train.shape)"
   ]
  },
  {
   "cell_type": "markdown",
   "id": "7418f9de-1fdf-43ef-864a-14bc5322ccb9",
   "metadata": {},
   "source": [
    "#### <span style=\"color:#4CC9F0\">Lectura etiquetas de entrenamiento</span> "
   ]
  },
  {
   "cell_type": "markdown",
   "id": "41be537c-7fe7-4690-b4ab-0830f4161612",
   "metadata": {},
   "source": [
    "En este caso solamente hay 8 bytes que debemos omitir"
   ]
  },
  {
   "cell_type": "code",
   "execution_count": 2,
   "id": "df3757e6-22dd-44e9-8c9d-2048ce176842",
   "metadata": {},
   "outputs": [
    {
     "name": "stdout",
     "output_type": "stream",
     "text": [
      "(60000,)\n",
      "[5 0 4 1 9 2 1 3 1 4 3 5 3 6 1 7 2 8 6 9]\n"
     ]
    }
   ],
   "source": [
    "import gzip\n",
    "\n",
    "file_l3 = 'train-labels-idx1-ubyte.gz'\n",
    "path = directorio + file_l3\n",
    "f = gzip.open(path,'r')\n",
    "\n",
    "num_labels = 60000\n",
    "\n",
    "import numpy as np\n",
    "f.read(8) # omite los primeros 8 bytes\n",
    "buf = f.read(num_labels)\n",
    "label_train = np.frombuffer(buf, dtype=np.uint8).astype(np.int64)\n",
    "print(label_train.shape)\n",
    "print(label_train[:20])"
   ]
  },
  {
   "cell_type": "markdown",
   "id": "70335a74-fd83-4318-bff7-84cc4e501cc2",
   "metadata": {},
   "source": [
    "#### <span style=\"color:#4CC9F0\">Lectura imágenes de prueba</span>"
   ]
  },
  {
   "cell_type": "code",
   "execution_count": 3,
   "id": "1de777c8-1e86-4b26-838b-09e99abb7e81",
   "metadata": {},
   "outputs": [
    {
     "name": "stdout",
     "output_type": "stream",
     "text": [
      "(10000, 28, 28, 1)\n"
     ]
    }
   ],
   "source": [
    "import gzip\n",
    "\n",
    "file_im10 = 't10k-images-idx3-ubyte.gz'\n",
    "path = directorio + file_im10\n",
    "f = gzip.open(path,'r')\n",
    "\n",
    "image_size = 28\n",
    "num_images = 10000\n",
    "\n",
    "import numpy as np\n",
    "f.read(16) # omite los primeros 16 bytes\n",
    "buf = f.read(image_size * image_size * num_images)\n",
    "data_test = np.frombuffer(buf, dtype=np.uint8).astype(np.float32)\n",
    "data_test = data_test.reshape(num_images, image_size, image_size, 1)\n",
    "print(data_test.shape)"
   ]
  },
  {
   "cell_type": "markdown",
   "id": "6505e231-e491-498c-8039-577e03c77815",
   "metadata": {},
   "source": [
    "#### <span style=\"color:#4CC9F0\">Lectura etiquetas de prueba</span> "
   ]
  },
  {
   "cell_type": "code",
   "execution_count": 4,
   "id": "884a008d-985c-4e0e-9363-15274bb7b114",
   "metadata": {},
   "outputs": [
    {
     "name": "stdout",
     "output_type": "stream",
     "text": [
      "(10000,)\n",
      "[7 2 1 0 4 1 4 9 5 9 0 6 9 0 1 5 9 7 3 4]\n"
     ]
    }
   ],
   "source": [
    "import gzip\n",
    "\n",
    "file_l10 = 't10k-labels-idx1-ubyte.gz'\n",
    "path = directorio + file_l10\n",
    "f = gzip.open(path,'r')\n",
    "\n",
    "num_labels = 10000\n",
    "\n",
    "import numpy as np\n",
    "f.read(8) # omite los primeros 8 bytes\n",
    "buf = f.read(num_labels)\n",
    "label_test = np.frombuffer(buf, dtype=np.uint8).astype(np.int64)\n",
    "print(label_test.shape)\n",
    "print(label_test[:20])"
   ]
  },
  {
   "cell_type": "markdown",
   "id": "d4344ad5-87e6-4b68-870b-0fc8145e791c",
   "metadata": {},
   "source": [
    "#### <span style=\"color:#4CC9F0\">Crea datasets para estos datos</span> "
   ]
  },
  {
   "cell_type": "code",
   "execution_count": 7,
   "id": "62554d6c-0e03-4aa6-8f5c-9eb1f56112cb",
   "metadata": {},
   "outputs": [],
   "source": [
    "\n",
    "class ImageDataset(Dataset):\n",
    "    def __init__(self, labels, images, transform=None, target_transform=None):\n",
    "        self.labels = labels\n",
    "        self.images = images\n",
    "        self.transform = transform\n",
    "        self.target_transform = target_transform\n",
    "    \n",
    "    def __len__(self):\n",
    "        return len(self.labels)\n",
    "    \n",
    "    def __getitem__(self, idx):\n",
    "        image = self.images[idx]\n",
    "        label =  self.labels[idx]\n",
    "        if self.transform:\n",
    "            image = self.transform(image)\n",
    "        if self.target_transform:\n",
    "            label = self.target_transform(label)\n",
    "        return image, label\n",
    "        "
   ]
  },
  {
   "cell_type": "code",
   "execution_count": 8,
   "id": "bc9215ac-3740-4272-b3ac-97e32ce74776",
   "metadata": {},
   "outputs": [],
   "source": [
    "train_dataset = ImageDataset(label_train, data_train)\n",
    "test_dataset = ImageDataset(label_test, data_test)"
   ]
  },
  {
   "cell_type": "markdown",
   "id": "325311b0-3799-4421-b902-afc26503940d",
   "metadata": {},
   "source": [
    "#### <span style=\"color:#4CC9F0\">Versión modificada para datos en texto e imágenes</span> "
   ]
  },
  {
   "cell_type": "markdown",
   "id": "0a9e1187-d753-4cfc-9b41-696b4cf5d4c2",
   "metadata": {},
   "source": [
    "La siguinte clase implementa el caso en que las etiquetas están un archivo de tipo csv y la iámgenes están formato gráfico como `png`. Tenemos una ruta para las etiwquetas y otra para las imágenes.\n",
    "\n",
    "En el ejemplo, las etiquetas se leeran ee un dataframe de Pandas. Se supone que el archivo tiene dos columnas: la columna 0 contiene el nombre del archivo de la imagen y la columna 1, la respectiva etiqueta.\n",
    "\n",
    "Es decir, las etiquetas (labels) del archivo en el ejemplo *labels.csv*  lucen como\n",
    "\n",
    "* tshirt1.jpg, 0\n",
    "* tshirt2.jpg, 0\n",
    "* ......\n",
    "* ankleboot999.jpg, 9"
   ]
  },
  {
   "cell_type": "code",
   "execution_count": 4,
   "id": "a1e627fc-4677-4d74-87d1-aeb84e77b296",
   "metadata": {},
   "outputs": [],
   "source": [
    "import os\n",
    "import pandas as pd\n",
    "from torchvision.io import read_image\n",
    "\n",
    "class CustomImageDataset(Dataset):\n",
    "    def __init__(self, annotation_file, img_dir, transform=None, target_transform=None):\n",
    "        self.img_labels = pd.read_csv(annotation_file)\n",
    "        self.img_dir = img_dir\n",
    "        self.transform = transform\n",
    "        self.target_transform = target_transform\n",
    "    \n",
    "    def __len__(self):\n",
    "        return len(self.img_labels)\n",
    "    \n",
    "    def __get_item__(self, idx):\n",
    "        img_path = os.path.join(self.img_dir, self.img_labels.iloc[idx, 0])\n",
    "        image = read_image(img_path)\n",
    "        label =  self.image_labels.iloc[idx, 1]\n",
    "        if self.transform:\n",
    "            image = self.transform(image)\n",
    "        if self.target_transform:\n",
    "            label = self.target_transform(label)\n",
    "        return image, label\n",
    "        "
   ]
  },
  {
   "cell_type": "markdown",
   "id": "removed-program",
   "metadata": {},
   "source": [
    "### <span style=\"color:#4CC9F0\">Preparando sus datos para entrenamiento con DataLoaders</span>"
   ]
  },
  {
   "cell_type": "code",
   "execution_count": 9,
   "id": "present-replacement",
   "metadata": {},
   "outputs": [
    {
     "data": {
      "text/plain": [
       "2"
      ]
     },
     "execution_count": 9,
     "metadata": {},
     "output_type": "execute_result"
    }
   ],
   "source": [
    "from torch.utils.data import DataLoader\n",
    "\n",
    "num_workers = torch.get_num_threads()//2\n",
    "\n",
    "train_dataloader = DataLoader(train_dataset, batch_size=64, shuffle=True, \n",
    "                               num_workers= num_workers)\n",
    "\n",
    "test_dataloader = DataLoader(test_dataset, batch_size=64, shuffle=False)\n",
    "\n",
    "torch.get_num_threads()"
   ]
  },
  {
   "cell_type": "code",
   "execution_count": 10,
   "id": "a4729075-78b5-44de-8d31-3e0c8c5fb7a9",
   "metadata": {},
   "outputs": [
    {
     "data": {
      "text/plain": [
       "2"
      ]
     },
     "execution_count": 10,
     "metadata": {},
     "output_type": "execute_result"
    }
   ],
   "source": [
    "len(next(iter(test_dataloader)))"
   ]
  },
  {
   "cell_type": "markdown",
   "id": "published-employee",
   "metadata": {},
   "source": [
    "### <span style=\"color:#4CC9F0\">Iterando a lo largo del DataLoader</span>"
   ]
  },
  {
   "cell_type": "markdown",
   "id": "according-payroll",
   "metadata": {},
   "source": [
    "Cada iteración retorna un batch (`batch_size=64`) de datos (`train_features` y `train_labels`). Dado que *shuffel=True* en el ejemplo, todos los lotes de datos se mezclan. Un control más fino para establecer el orden se obtiene usando `Samplers`."
   ]
  },
  {
   "cell_type": "code",
   "execution_count": 11,
   "id": "great-elite",
   "metadata": {},
   "outputs": [
    {
     "name": "stdout",
     "output_type": "stream",
     "text": [
      "Shape del lote de imágenes: torch.Size([64, 28, 28, 1])\n",
      "Shape del lote de etiquetas: torch.Size([64])\n"
     ]
    },
    {
     "data": {
      "image/png": "[encoded data removed]",
      "text/plain": [
       "<Figure size 640x480 with 1 Axes>"
      ]
     },
     "metadata": {},
     "output_type": "display_data"
    }
   ],
   "source": [
    "# Despliega imagen y etiqueta\n",
    "train_features, train_labels = next(iter(train_dataloader))\n",
    "print(f'Shape del lote de imágenes: {train_features.size()}')\n",
    "print(f'Shape del lote de etiquetas: {train_labels.size()}')\n",
    "img = train_features[0].squeeze()# primer elemento del batch \n",
    "# squeeze elimina ejes de tamaño 1.\n",
    "label = train_labels[0]\n",
    "plt.imshow(img, cmap='gray')\n",
    "plt.title(label.numpy())\n",
    "plt.show()\n"
   ]
  },
  {
   "cell_type": "markdown",
   "id": "a7ad05ae-76b0-4f44-85a2-836a0dd5db66",
   "metadata": {},
   "source": [
    "#### <span style=\"color:#4CC9F0\">Un iterador de visualización</span> "
   ]
  },
  {
   "cell_type": "code",
   "execution_count": 12,
   "id": "2735a109-da89-45b6-b758-091d45f98e35",
   "metadata": {},
   "outputs": [],
   "source": [
    "label_map = {\n",
    "    0: 'camiseta',\n",
    "    1: \"Pantalones\",\n",
    "    2: \"Jersey\",\n",
    "    3: \"Vestido\",\n",
    "    4: \"Abrigo\",\n",
    "    5: \"Sandalia\",\n",
    "    6: \"Camisa\",\n",
    "    7: \"Tenis\",\n",
    "    8: \"Bolso\",\n",
    "    9: \"Botines\",\n",
    "}\n",
    "\n",
    "\n",
    "class Draw:\n",
    "    def __init__(self, label_map, images_iterator, cols=4, rows=4, figsize=(6,6)):\n",
    "        self.data = images_iterator\n",
    "        self.label_map = label_map\n",
    "        self.figsize=figsize\n",
    "        self.cols = cols\n",
    "        self.rows = rows\n",
    "        self.index = 0      \n",
    "\n",
    "    def __iter__(self):\n",
    "        return self\n",
    "\n",
    "    def __next__(self):\n",
    "        if self.index >= len(self.data):\n",
    "            raise StopIteration\n",
    "\n",
    "        self.index += 1  \n",
    "        \n",
    "        img, label = next(self.data)\n",
    "        figure = plt.figure(figsize=self.figsize)\n",
    "        for i in range(1, self.cols*self.rows+1):\n",
    "            #sample_idx = torch.randint(len(training_data), size =(1,)).item()\n",
    "            #img, label = training_data[sample_idx]\n",
    "            figure.add_subplot(self.rows, self.cols, i)\n",
    "            #plt.title(self.label_map[label])\n",
    "            plt.axis('off')\n",
    "            plt.imshow(img[i].squeeze(), cmap='gray')\n",
    "            plt.title(label[i].numpy())\n",
    "        plt.show()\n",
    "        #return value"
   ]
  },
  {
   "cell_type": "code",
   "execution_count": 13,
   "id": "c74fde60-0bd4-4b70-bb09-313746298994",
   "metadata": {},
   "outputs": [],
   "source": [
    "images = Draw(label_map, iter(train_dataloader))"
   ]
  },
  {
   "cell_type": "code",
   "execution_count": 14,
   "id": "e2ebdb34-f422-495e-9d34-556501f10371",
   "metadata": {},
   "outputs": [
    {
     "data": {
      "image/png": "[encoded data removed]",
      "text/plain": [
       "<Figure size 600x600 with 16 Axes>"
      ]
     },
     "metadata": {},
     "output_type": "display_data"
    }
   ],
   "source": [
    "next(images)"
   ]
  },
  {
   "cell_type": "code",
   "execution_count": 15,
   "id": "75369722-4d91-4948-925c-15d7a35e5aee",
   "metadata": {},
   "outputs": [
    {
     "data": {
      "image/png": "[encoded data removed]",
      "text/plain": [
       "<Figure size 600x600 with 16 Axes>"
      ]
     },
     "metadata": {},
     "output_type": "display_data"
    }
   ],
   "source": [
    "next(images)"
   ]
  },
  {
   "cell_type": "code",
   "execution_count": null,
   "id": "46d4390e-e127-4e58-8ed0-bbac17c60db0",
   "metadata": {},
   "outputs": [],
   "source": []
  }
 ],
 "metadata": {
  "kernelspec": {
   "display_name": "Python 3 (ipykernel)",
   "language": "python",
   "name": "python3"
  },
  "language_info": {
   "codemirror_mode": {
    "name": "ipython",
    "version": 3
   },
   "file_extension": ".py",
   "mimetype": "text/x-python",
   "name": "python",
   "nbconvert_exporter": "python",
   "pygments_lexer": "ipython3",
   "version": "3.11.3"
  }
 },
 "nbformat": 4,
 "nbformat_minor": 5
}
