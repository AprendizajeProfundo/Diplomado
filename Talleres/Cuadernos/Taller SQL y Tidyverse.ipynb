{
 "cells": [
  {
   "cell_type": "markdown",
   "metadata": {},
   "source": [
    "# <span style=\"color:green\"><center>Diplomado en Inteligencia Artificial y Aprendizaje Profundo</center></span>"
   ]
  },
  {
   "cell_type": "markdown",
   "metadata": {},
   "source": [
    "# <span style=\"color:red\"><center>SQL y Tidyverse</center></span>"
   ]
  },
  {
   "cell_type": "markdown",
   "metadata": {},
   "source": [
    "##   <span style=\"color:blue\">Autores</span>"
   ]
  },
  {
   "cell_type": "markdown",
   "metadata": {},
   "source": [
    "1. Laura Johana Lizarazo Reyes, ljlizarazore@unal.edu.co"
   ]
  },
  {
   "cell_type": "markdown",
   "metadata": {},
   "source": [
    "##   <span style=\"color:blue\">Profesores</span>"
   ]
  },
  {
   "cell_type": "markdown",
   "metadata": {},
   "source": [
    "1. Alvaro Mauricio Montenegro Díaz, ammontenegrod@unal.edu.co\n",
    "2. Daniel Mauricio Montenegro Reyes, dextronomo@gmail.com \n",
    "3. Campo Elías Pardo Turriago, cepardot@unal.edu.co "
   ]
  },
  {
   "cell_type": "markdown",
   "metadata": {},
   "source": [
    "##   <span style=\"color:blue\">Asesora Medios y Marketing digital</span>\n",
    " "
   ]
  },
  {
   "cell_type": "markdown",
   "metadata": {},
   "source": [
    "4. Maria del Pilar Montenegro, pmontenegro88@gmail.com "
   ]
  },
  {
   "cell_type": "markdown",
   "metadata": {},
   "source": [
    "## <span style=\"color:blue\">Asistentes</span>"
   ]
  },
  {
   "cell_type": "markdown",
   "metadata": {},
   "source": [
    "5. Oleg Jarma, ojarmam@unal.edu.co\n",
    "6. Julieth López, julalopezcas@unal.edu.co"
   ]
  },
  {
   "cell_type": "markdown",
   "metadata": {},
   "source": [
    "## <span style=\"color:blue\">Contenido</span>"
   ]
  },
  {
   "cell_type": "markdown",
   "metadata": {},
   "source": [
    "* [¿Qué son?](#¿Qué-son?)\n",
    "* [Importar datos](#Importar-datos)\n",
    "* [Librería sqldf](#Librería-sqldf)\n",
    "* [Conjunto tidyverse](#Conjunto-tidyverse)\n",
    "    - [Librería readr](#Librería-readr)\n",
    "    - [Librería stringr](#Librería-stringr)\n",
    "    - [Librería dplyr](#Librería-dplyr)\n",
    "    - [Librería ggplot2](#Librería-ggplot2)"
   ]
  },
  {
   "cell_type": "markdown",
   "metadata": {},
   "source": [
    "**NOTA:** El código de esté cuaderno está escrito en lenguaje R."
   ]
  },
  {
   "cell_type": "markdown",
   "metadata": {},
   "source": [
    "## **¿Qué son?**"
   ]
  },
  {
   "cell_type": "markdown",
   "metadata": {},
   "source": [
    "En primer lugar, `sqldf` es un paquete de R para ejecutar sentencias SQL en estructuras de R, el cual está optimizado para mayor comodidad. En segundo lugar, `tidyverse` es una colección de paquetes de R, diseñados para la ciencia de datos. Para mayor infomación, puede mirar este [link de SQL](https://www.rdocumentation.org/packages/sqldf/versions/0.4-11) y este [link de tidyvere](https://www.tidyverse.org/)."
   ]
  },
  {
   "cell_type": "code",
   "execution_count": 1,
   "metadata": {},
   "outputs": [],
   "source": [
    "#install.packages(c(\"sqldf\",\"tidyverse\",\"readxl\",\"readr\",\"stringr\",\"dplyr\",\"ggplot2\"))"
   ]
  },
  {
   "cell_type": "code",
   "execution_count": 1,
   "metadata": {
    "tags": []
   },
   "outputs": [
    {
     "name": "stderr",
     "output_type": "stream",
     "text": [
      "Warning message:\n",
      "\"package 'sqldf' was built under R version 3.6.3\"Loading required package: gsubfn\n",
      "Warning message:\n",
      "\"package 'gsubfn' was built under R version 3.6.3\"Loading required package: proto\n",
      "Warning message:\n",
      "\"package 'proto' was built under R version 3.6.3\"Loading required package: RSQLite\n",
      "Warning message:\n",
      "\"package 'RSQLite' was built under R version 3.6.3\"Warning message:\n",
      "\"package 'readxl' was built under R version 3.6.3\"Warning message:\n",
      "\"package 'readr' was built under R version 3.6.3\"Warning message:\n",
      "\"package 'stringr' was built under R version 3.6.3\"Warning message:\n",
      "\"package 'dplyr' was built under R version 3.6.3\"\n",
      "Attaching package: 'dplyr'\n",
      "\n",
      "The following objects are masked from 'package:stats':\n",
      "\n",
      "    filter, lag\n",
      "\n",
      "The following objects are masked from 'package:base':\n",
      "\n",
      "    intersect, setdiff, setequal, union\n",
      "\n"
     ]
    }
   ],
   "source": [
    "library(sqldf)\n",
    "#library(tidyverse)\n",
    "library(readxl)\n",
    "library(readr); library(stringr); library(dplyr); library(ggplot2)"
   ]
  },
  {
   "cell_type": "markdown",
   "metadata": {},
   "source": [
    "### Importar datos"
   ]
  },
  {
   "cell_type": "code",
   "execution_count": 2,
   "metadata": {},
   "outputs": [
    {
     "data": {
      "text/html": [
       "'C:/Users/JULIETH LOPEZ/Documents/Diplomado_IA_AP/Diplomado/Temas/Módulo 13- Talleres/Cuadernos'"
      ],
      "text/latex": [
       "'C:/Users/JULIETH LOPEZ/Documents/Diplomado\\_IA\\_AP/Diplomado/Temas/Módulo 13- Talleres/Cuadernos'"
      ],
      "text/markdown": [
       "'C:/Users/JULIETH LOPEZ/Documents/Diplomado_IA_AP/Diplomado/Temas/Módulo 13- Talleres/Cuadernos'"
      ],
      "text/plain": [
       "[1] \"C:/Users/JULIETH LOPEZ/Documents/Diplomado_IA_AP/Diplomado/Temas/Módulo 13- Talleres/Cuadernos\""
      ]
     },
     "metadata": {},
     "output_type": "display_data"
    },
    {
     "data": {
      "text/html": [
       "'C:/Users/JULIETH LOPEZ/Documents/Diplomado_IA_AP/Diplomado/Temas/Módulo 13- Talleres'"
      ],
      "text/latex": [
       "'C:/Users/JULIETH LOPEZ/Documents/Diplomado\\_IA\\_AP/Diplomado/Temas/Módulo 13- Talleres'"
      ],
      "text/markdown": [
       "'C:/Users/JULIETH LOPEZ/Documents/Diplomado_IA_AP/Diplomado/Temas/Módulo 13- Talleres'"
      ],
      "text/plain": [
       "[1] \"C:/Users/JULIETH LOPEZ/Documents/Diplomado_IA_AP/Diplomado/Temas/Módulo 13- Talleres\""
      ]
     },
     "metadata": {},
     "output_type": "display_data"
    }
   ],
   "source": [
    "getwd()  #directorio de trabajo\n",
    "#cambiar el directorio\n",
    "setwd(\"../\")\n",
    "getwd() "
   ]
  },
  {
   "cell_type": "markdown",
   "metadata": {},
   "source": [
    "Para leer los datos la estructura básica es `read_tipo-archivo`. En este caso vamos a trabajar archivos xlsx."
   ]
  },
  {
   "cell_type": "code",
   "execution_count": 31,
   "metadata": {},
   "outputs": [],
   "source": [
    "Municipios<-read_xlsx(\"Datos/Municipios.xlsx\")"
   ]
  },
  {
   "cell_type": "markdown",
   "metadata": {},
   "source": [
    "## Librería sqldf"
   ]
  },
  {
   "cell_type": "markdown",
   "metadata": {},
   "source": [
    "Antes de extraer información de la base de datos *Municipios*, se va a realizar una limpieza en ella. "
   ]
  },
  {
   "cell_type": "code",
   "execution_count": 32,
   "metadata": {},
   "outputs": [
    {
     "data": {
      "text/html": [
       "<table>\n",
       "<thead><tr><th scope=col>Departamento</th><th scope=col>Dep</th><th scope=col>Municipio</th><th scope=col>Depmun</th><th scope=col>Superficie</th><th scope=col>Poblacion</th><th scope=col>Distancia</th><th scope=col>Irural</th><th scope=col>Region</th></tr></thead>\n",
       "<tbody>\n",
       "\t<tr><td><span style=white-space:pre-wrap>Bogotá   D   C</span>              </td><td>11                                                                  </td><td><span style=white-space:pre-wrap>Bogo*tá? &amp;D C           </span></td><td>11001                                                               </td><td>1605                                                                </td><td>6840116                                                             </td><td><span style=white-space:pre-wrap>  0</span>                         </td><td> 6                                                                  </td><td>Región Centro Oriente                                               </td></tr>\n",
       "\t<tr><td><span style=white-space:pre-wrap>Bolívar       </span>              </td><td>13                                                                  </td><td><span style=white-space:pre-wrap>C#?&amp;artage!na           </span></td><td>13001                                                               </td><td> 614                                                                </td><td> 892545                                                             </td><td> 99                                                                 </td><td>18                                                                  </td><td><span style=white-space:pre-wrap>Región Caribe        </span>       </td></tr>\n",
       "\t<tr><td><span style=white-space:pre-wrap>Bo%lí&gt;var     </span>           </td><td>13                                                                  </td><td><span style=white-space:pre-wrap>?A!ch*&amp;í                </span></td><td>13006                                                               </td><td> 968                                                                </td><td><span style=white-space:pre-wrap>  19644</span>                     </td><td>270                                                                 </td><td>54                                                                  </td><td><span style=white-space:pre-wrap>Región Caribe        </span>       </td></tr>\n",
       "\t<tr><td><span style=white-space:pre-wrap>Bo%lí&gt;var     </span>       </td><td>13                                                              </td><td><span style=white-space:pre-wrap>Al'tos  # del   Rosa?rio</span></td><td>13030                                                           </td><td> 306                                                            </td><td><span style=white-space:pre-wrap>  11357</span>                 </td><td>261                                                             </td><td>49                                                              </td><td><span style=white-space:pre-wrap>Región Caribe        </span>   </td></tr>\n",
       "</tbody>\n",
       "</table>\n"
      ],
      "text/latex": [
       "\\begin{tabular}{r|lllllllll}\n",
       " Departamento & Dep & Municipio & Depmun & Superficie & Poblacion & Distancia & Irural & Region\\\\\n",
       "\\hline\n",
       "\t Bogotá   D   C             & 11                         & Bogo*tá? \\&D C            & 11001                      & 1605                       & 6840116                    &   0                        &  6                         & Región Centro Oriente     \\\\\n",
       "\t Bolívar                      & 13                           & C\\#?\\&artage!na            & 13001                        &  614                         &  892545                      &  99                          & 18                           & Región Caribe               \\\\\n",
       "\t Bo\\%lí>var                & 13                         & ?A!ch*\\&í                 & 13006                      &  968                       &   19644                    & 270                        & 54                         & Región Caribe             \\\\\n",
       "\t Bo\\%lí>var                & 13                         & Al'tos  \\# del   Rosa?rio & 13030                      &  306                       &   11357                    & 261                        & 49                         & Región Caribe             \\\\\n",
       "\\end{tabular}\n"
      ],
      "text/markdown": [
       "\n",
       "| Departamento | Dep | Municipio | Depmun | Superficie | Poblacion | Distancia | Irural | Region |\n",
       "|---|---|---|---|---|---|---|---|---|\n",
       "| Bogotá   D   C           | 11                       | Bogo*tá? &D C            | 11001                    | 1605                     | 6840116                  |   0                      |  6                       | Región Centro Oriente    |\n",
       "| Bolívar                  | 13                       | C#?&artage!na            | 13001                    |  614                     |  892545                  |  99                      | 18                       | Región Caribe            |\n",
       "| Bo%lí>var                | 13                       | ?A!ch*&í                 | 13006                    |  968                     |   19644                  | 270                      | 54                       | Región Caribe            |\n",
       "| Bo%lí>var                | 13                       | Al'tos  # del   Rosa?rio | 13030                    |  306                     |   11357                  | 261                      | 49                       | Región Caribe            |\n",
       "\n"
      ],
      "text/plain": [
       "  Departamento   Dep Municipio                Depmun Superficie Poblacion\n",
       "1 Bogotá   D   C 11  Bogo*tá? &D C            11001  1605       6840116  \n",
       "2 Bolívar        13  C#?&artage!na            13001   614        892545  \n",
       "3 Bo%lí>var      13  ?A!ch*&í                 13006   968         19644  \n",
       "4 Bo%lí>var      13  Al'tos  # del   Rosa?rio 13030   306         11357  \n",
       "  Distancia Irural Region               \n",
       "1   0        6     Región Centro Oriente\n",
       "2  99       18     Región Caribe        \n",
       "3 270       54     Región Caribe        \n",
       "4 261       49     Región Caribe        "
      ]
     },
     "metadata": {},
     "output_type": "display_data"
    }
   ],
   "source": [
    "head(Municipios, n=4)"
   ]
  },
  {
   "cell_type": "code",
   "execution_count": 33,
   "metadata": {},
   "outputs": [],
   "source": [
    "Municipios <- within(Municipios,{\n",
    "  Dpto <- Departamento\n",
    "  Dpto <- str_to_lower(Dpto)\n",
    "  Dpto <- str_replace_all(Dpto,\"[^a-záéíóúüñ ]\",\"\")\n",
    "  Dpto <- str_squish(Dpto)\n",
    "  Dpto <- str_to_title(Dpto)\n",
    "  Departamento <- Dpto\n",
    "  rm(Dpto)})\n",
    "\n",
    "Municipios <- within(Municipios,{\n",
    "  Mpio <- Municipio\n",
    "  Mpio <- str_to_lower(Mpio)\n",
    "  Mpio <- str_replace_all(Mpio,\"[^a-záéíóúüñ ]\",\"\")\n",
    "  Mpio <- str_squish(Mpio)\n",
    "  Mpio <- str_to_title(Mpio)\n",
    "  Municipio <- Mpio\n",
    "  rm(Mpio)})"
   ]
  },
  {
   "cell_type": "code",
   "execution_count": 34,
   "metadata": {},
   "outputs": [
    {
     "data": {
      "text/html": [
       "<table>\n",
       "<thead><tr><th scope=col>Departamento</th><th scope=col>Dep</th><th scope=col>Municipio</th><th scope=col>Depmun</th><th scope=col>Superficie</th><th scope=col>Poblacion</th><th scope=col>Distancia</th><th scope=col>Irural</th><th scope=col>Region</th></tr></thead>\n",
       "<tbody>\n",
       "\t<tr><td>Bogotá D C           </td><td>11                   </td><td>Bogotá D C           </td><td>11001                </td><td>1605                 </td><td>6840116              </td><td>  0                  </td><td> 6                   </td><td>Región Centro Oriente</td></tr>\n",
       "\t<tr><td>Bolívar              </td><td>13                   </td><td>Cartagena            </td><td>13001                </td><td> 614                 </td><td> 892545              </td><td> 99                  </td><td>18                   </td><td>Región Caribe        </td></tr>\n",
       "\t<tr><td>Bolívar              </td><td>13                   </td><td>Achí                 </td><td>13006                </td><td> 968                 </td><td>  19644              </td><td>270                  </td><td>54                   </td><td>Región Caribe        </td></tr>\n",
       "\t<tr><td>Bolívar              </td><td>13                   </td><td>Altos Del Rosario    </td><td>13030                </td><td> 306                 </td><td>  11357              </td><td>261                  </td><td>49                   </td><td>Región Caribe        </td></tr>\n",
       "</tbody>\n",
       "</table>\n"
      ],
      "text/latex": [
       "\\begin{tabular}{r|lllllllll}\n",
       " Departamento & Dep & Municipio & Depmun & Superficie & Poblacion & Distancia & Irural & Region\\\\\n",
       "\\hline\n",
       "\t Bogotá D C            & 11                    & Bogotá D C            & 11001                 & 1605                  & 6840116               &   0                   &  6                    & Región Centro Oriente\\\\\n",
       "\t Bolívar               & 13                    & Cartagena             & 13001                 &  614                  &  892545               &  99                   & 18                    & Región Caribe        \\\\\n",
       "\t Bolívar               & 13                    & Achí                  & 13006                 &  968                  &   19644               & 270                   & 54                    & Región Caribe        \\\\\n",
       "\t Bolívar               & 13                    & Altos Del Rosario     & 13030                 &  306                  &   11357               & 261                   & 49                    & Región Caribe        \\\\\n",
       "\\end{tabular}\n"
      ],
      "text/markdown": [
       "\n",
       "| Departamento | Dep | Municipio | Depmun | Superficie | Poblacion | Distancia | Irural | Region |\n",
       "|---|---|---|---|---|---|---|---|---|\n",
       "| Bogotá D C            | 11                    | Bogotá D C            | 11001                 | 1605                  | 6840116               |   0                   |  6                    | Región Centro Oriente |\n",
       "| Bolívar               | 13                    | Cartagena             | 13001                 |  614                  |  892545               |  99                   | 18                    | Región Caribe         |\n",
       "| Bolívar               | 13                    | Achí                  | 13006                 |  968                  |   19644               | 270                   | 54                    | Región Caribe         |\n",
       "| Bolívar               | 13                    | Altos Del Rosario     | 13030                 |  306                  |   11357               | 261                   | 49                    | Región Caribe         |\n",
       "\n"
      ],
      "text/plain": [
       "  Departamento Dep Municipio         Depmun Superficie Poblacion Distancia\n",
       "1 Bogotá D C   11  Bogotá D C        11001  1605       6840116     0      \n",
       "2 Bolívar      13  Cartagena         13001   614        892545    99      \n",
       "3 Bolívar      13  Achí              13006   968         19644   270      \n",
       "4 Bolívar      13  Altos Del Rosario 13030   306         11357   261      \n",
       "  Irural Region               \n",
       "1  6     Región Centro Oriente\n",
       "2 18     Región Caribe        \n",
       "3 54     Región Caribe        \n",
       "4 49     Región Caribe        "
      ]
     },
     "metadata": {},
     "output_type": "display_data"
    }
   ],
   "source": [
    "head(Municipios, n=4)"
   ]
  },
  {
   "cell_type": "markdown",
   "metadata": {},
   "source": [
    "Los comandos básicos para trabajar con la librería sqldf son los siguientes:\n",
    "* *select*: Variables a trabajar\n",
    "* *from*: Base de datos\n",
    "* *where*: Filas que cumplan alguna caractersítica\n",
    "* *group by*: Agrupar filas\n",
    "* *having*: Grupos de filas que cumplan alguna característica\n",
    "* *order by*: Ordenar las filas"
   ]
  },
  {
   "cell_type": "markdown",
   "metadata": {},
   "source": [
    "A continuación veremos un primer ejemplo, se quieren obtener registros cuyo departamento sea Antioquia o Caldas y su población sea mayor a 2000 habitantes."
   ]
  },
  {
   "cell_type": "code",
   "execution_count": 6,
   "metadata": {},
   "outputs": [
    {
     "name": "stdout",
     "output_type": "stream",
     "text": [
      "'data.frame':\t64 obs. of  6 variables:\n",
      " $ Departamento: chr  \"Antioquia\" \"Antioquia\" \"Antioquia\" \"Antioquia\" ...\n",
      " $ Dep         : chr  \"05\" \"05\" \"05\" \"05\" ...\n",
      " $ Depmun      : chr  \"05001\" \"05088\" \"05360\" \"05266\" ...\n",
      " $ Municipio   : chr  \"Medellín\" \"Bello\" \"Itagui\" \"Envigado\" ...\n",
      " $ Superficie  : num  368 148 22 47 542 ...\n",
      " $ Poblacion   : num  2214494 371591 235016 174108 131405 ...\n"
     ]
    }
   ],
   "source": [
    "Ej_1 <- sqldf(\n",
    "   \"select Departamento, Dep, Depmun, Municipio,\n",
    "   Superficie, Poblacion\n",
    "   from Municipios\n",
    "   where Departamento in ('Antioquia','Caldas') and\n",
    "   Poblacion > 20000\n",
    "   order by Departamento asc, Poblacion desc\")\n",
    "str(Ej_1)"
   ]
  },
  {
   "cell_type": "markdown",
   "metadata": {},
   "source": [
    "Para escoger las primeras filas de la base de datos *Ej_1*. Se puede hacer de dos maneras:"
   ]
  },
  {
   "cell_type": "code",
   "execution_count": 35,
   "metadata": {},
   "outputs": [
    {
     "data": {
      "text/html": [
       "<table>\n",
       "<thead><tr><th scope=col>Departamento</th><th scope=col>Dep</th><th scope=col>Depmun</th><th scope=col>Municipio</th><th scope=col>Superficie</th><th scope=col>Poblacion</th></tr></thead>\n",
       "<tbody>\n",
       "\t<tr><td>Antioquia</td><td>05       </td><td>05001    </td><td>Medellín </td><td>368      </td><td>2214494  </td></tr>\n",
       "\t<tr><td>Antioquia</td><td>05       </td><td>05088    </td><td>Bello    </td><td>148      </td><td> 371591  </td></tr>\n",
       "\t<tr><td>Antioquia</td><td>05       </td><td>05360    </td><td>Itagui   </td><td> 22      </td><td> 235016  </td></tr>\n",
       "</tbody>\n",
       "</table>\n"
      ],
      "text/latex": [
       "\\begin{tabular}{r|llllll}\n",
       " Departamento & Dep & Depmun & Municipio & Superficie & Poblacion\\\\\n",
       "\\hline\n",
       "\t Antioquia & 05        & 05001     & Medellín  & 368       & 2214494  \\\\\n",
       "\t Antioquia & 05        & 05088     & Bello     & 148       &  371591  \\\\\n",
       "\t Antioquia & 05        & 05360     & Itagui    &  22       &  235016  \\\\\n",
       "\\end{tabular}\n"
      ],
      "text/markdown": [
       "\n",
       "| Departamento | Dep | Depmun | Municipio | Superficie | Poblacion |\n",
       "|---|---|---|---|---|---|\n",
       "| Antioquia | 05        | 05001     | Medellín  | 368       | 2214494   |\n",
       "| Antioquia | 05        | 05088     | Bello     | 148       |  371591   |\n",
       "| Antioquia | 05        | 05360     | Itagui    |  22       |  235016   |\n",
       "\n"
      ],
      "text/plain": [
       "  Departamento Dep Depmun Municipio Superficie Poblacion\n",
       "1 Antioquia    05  05001  Medellín  368        2214494  \n",
       "2 Antioquia    05  05088  Bello     148         371591  \n",
       "3 Antioquia    05  05360  Itagui     22         235016  "
      ]
     },
     "metadata": {},
     "output_type": "display_data"
    },
    {
     "data": {
      "text/html": [
       "<table>\n",
       "<thead><tr><th scope=col>Departamento</th><th scope=col>Dep</th><th scope=col>Depmun</th><th scope=col>Municipio</th><th scope=col>Superficie</th><th scope=col>Poblacion</th></tr></thead>\n",
       "<tbody>\n",
       "\t<tr><td>Antioquia</td><td>05       </td><td>05001    </td><td>Medellín </td><td>368      </td><td>2214494  </td></tr>\n",
       "\t<tr><td>Antioquia</td><td>05       </td><td>05088    </td><td>Bello    </td><td>148      </td><td> 371591  </td></tr>\n",
       "\t<tr><td>Antioquia</td><td>05       </td><td>05360    </td><td>Itagui   </td><td> 22      </td><td> 235016  </td></tr>\n",
       "</tbody>\n",
       "</table>\n"
      ],
      "text/latex": [
       "\\begin{tabular}{r|llllll}\n",
       " Departamento & Dep & Depmun & Municipio & Superficie & Poblacion\\\\\n",
       "\\hline\n",
       "\t Antioquia & 05        & 05001     & Medellín  & 368       & 2214494  \\\\\n",
       "\t Antioquia & 05        & 05088     & Bello     & 148       &  371591  \\\\\n",
       "\t Antioquia & 05        & 05360     & Itagui    &  22       &  235016  \\\\\n",
       "\\end{tabular}\n"
      ],
      "text/markdown": [
       "\n",
       "| Departamento | Dep | Depmun | Municipio | Superficie | Poblacion |\n",
       "|---|---|---|---|---|---|\n",
       "| Antioquia | 05        | 05001     | Medellín  | 368       | 2214494   |\n",
       "| Antioquia | 05        | 05088     | Bello     | 148       |  371591   |\n",
       "| Antioquia | 05        | 05360     | Itagui    |  22       |  235016   |\n",
       "\n"
      ],
      "text/plain": [
       "  Departamento Dep Depmun Municipio Superficie Poblacion\n",
       "1 Antioquia    05  05001  Medellín  368        2214494  \n",
       "2 Antioquia    05  05088  Bello     148         371591  \n",
       "3 Antioquia    05  05360  Itagui     22         235016  "
      ]
     },
     "metadata": {},
     "output_type": "display_data"
    }
   ],
   "source": [
    "head(Ej_1,n=3)\n",
    "Ej_1[1:3,]"
   ]
  },
  {
   "cell_type": "markdown",
   "metadata": {},
   "source": [
    "Para crear una columna a partir de otra, se puede utilizar *case*:"
   ]
  },
  {
   "cell_type": "code",
   "execution_count": 36,
   "metadata": {},
   "outputs": [
    {
     "data": {
      "text/plain": [
       "denspoblC\n",
       "   Alta    Baja Mediana \n",
       "    231      57     233 "
      ]
     },
     "metadata": {},
     "output_type": "display_data"
    }
   ],
   "source": [
    "Municipios$Denspobl<-Municipios$Poblacion/Municipios$Superficie # Creación de la columna Denspobl\n",
    "\n",
    "Ej_2 <- sqldf(\n",
    "   \"select Departamento, Dep, Depmun, Municipio, Superficie,\n",
    "  Poblacion, case when denspobl < 30 then 'Baja'\n",
    "                  when denspobl > 85 then 'Alta'\n",
    "            else 'Mediana'\n",
    "            end as denspoblC\n",
    "  from Municipios\n",
    "  where Departamento not in ('Boyaca','Santander')\n",
    "  and Superficie < 300\n",
    "  order by Departamento asc, Poblacion desc\")\n",
    "\n",
    "with(Ej_2,table(denspoblC))"
   ]
  },
  {
   "cell_type": "markdown",
   "metadata": {},
   "source": [
    "Se pueden calcular estadísticas de una variable cuantitativa, además de mirar características de un grupo de filas. \n",
    "\n",
    "En este caso, se quiere ver cuál es el departamento, con 2 o más municipios, menos homogéneo respecto a su superficie."
   ]
  },
  {
   "cell_type": "code",
   "execution_count": 37,
   "metadata": {},
   "outputs": [
    {
     "data": {
      "text/html": [
       "<table>\n",
       "<thead><tr><th scope=col>Departamento</th><th scope=col>Dep</th><th scope=col>cv</th></tr></thead>\n",
       "<tbody>\n",
       "\t<tr><td>Caquetá </td><td>18      </td><td>1.936599</td></tr>\n",
       "</tbody>\n",
       "</table>\n"
      ],
      "text/latex": [
       "\\begin{tabular}{r|lll}\n",
       " Departamento & Dep & cv\\\\\n",
       "\\hline\n",
       "\t Caquetá  & 18       & 1.936599\\\\\n",
       "\\end{tabular}\n"
      ],
      "text/markdown": [
       "\n",
       "| Departamento | Dep | cv |\n",
       "|---|---|---|\n",
       "| Caquetá  | 18       | 1.936599 |\n",
       "\n"
      ],
      "text/plain": [
       "  Departamento Dep cv      \n",
       "1 Caquetá      18  1.936599"
      ]
     },
     "metadata": {},
     "output_type": "display_data"
    }
   ],
   "source": [
    "Ej_3<-sqldf(\"select Departamento, Dep,\n",
    "       stdev(Superficie)/avg(Superficie) as cv\n",
    "       from Municipios group by Departamento\n",
    "       having count(*) > 1 order by cv desc limit 1\") #limit 1: Mostrar sólo el primero\n",
    "Ej_3"
   ]
  },
  {
   "cell_type": "markdown",
   "metadata": {},
   "source": [
    "Mirar si existen dos o más municipios con el mismo nombre "
   ]
  },
  {
   "cell_type": "code",
   "execution_count": 38,
   "metadata": {},
   "outputs": [
    {
     "data": {
      "text/html": [
       "<table>\n",
       "<thead><tr><th scope=col>Municipio</th><th scope=col>veces</th></tr></thead>\n",
       "<tbody>\n",
       "\t<tr><td>Albania</td><td>3      </td></tr>\n",
       "\t<tr><td>Albán  </td><td>2      </td></tr>\n",
       "\t<tr><td>Argelia</td><td>3      </td></tr>\n",
       "\t<tr><td>Armenia</td><td>2      </td></tr>\n",
       "\t<tr><td>Balboa </td><td>2      </td></tr>\n",
       "\t<tr><td>Barbosa</td><td>2      </td></tr>\n",
       "</tbody>\n",
       "</table>\n"
      ],
      "text/latex": [
       "\\begin{tabular}{r|ll}\n",
       " Municipio & veces\\\\\n",
       "\\hline\n",
       "\t Albania & 3      \\\\\n",
       "\t Albán   & 2      \\\\\n",
       "\t Argelia & 3      \\\\\n",
       "\t Armenia & 2      \\\\\n",
       "\t Balboa  & 2      \\\\\n",
       "\t Barbosa & 2      \\\\\n",
       "\\end{tabular}\n"
      ],
      "text/markdown": [
       "\n",
       "| Municipio | veces |\n",
       "|---|---|\n",
       "| Albania | 3       |\n",
       "| Albán   | 2       |\n",
       "| Argelia | 3       |\n",
       "| Armenia | 2       |\n",
       "| Balboa  | 2       |\n",
       "| Barbosa | 2       |\n",
       "\n"
      ],
      "text/plain": [
       "  Municipio veces\n",
       "1 Albania   3    \n",
       "2 Albán     2    \n",
       "3 Argelia   3    \n",
       "4 Armenia   2    \n",
       "5 Balboa    2    \n",
       "6 Barbosa   2    "
      ]
     },
     "metadata": {},
     "output_type": "display_data"
    },
    {
     "name": "stdout",
     "output_type": "stream",
     "text": [
      "'data.frame':\t157 obs. of  4 variables:\n",
      " $ Municipio   : chr  \"Albania\" \"Albania\" \"Albania\" \"Albán\" ...\n",
      " $ Departamento: chr  \"Caquetá\" \"La Guajira\" \"Santander\" \"Cundinamarca\" ...\n",
      " $ Dep         : chr  \"18\" \"44\" \"68\" \"25\" ...\n",
      " $ Depmun      : chr  \"18029\" \"44035\" \"68020\" \"25019\" ...\n"
     ]
    },
    {
     "data": {
      "text/html": [
       "<table>\n",
       "<thead><tr><th scope=col>Municipio</th><th scope=col>Departamento</th><th scope=col>Dep</th><th scope=col>Depmun</th></tr></thead>\n",
       "<tbody>\n",
       "\t<tr><td>Albania     </td><td>Caquetá     </td><td>18          </td><td>18029       </td></tr>\n",
       "\t<tr><td>Albania     </td><td>La Guajira  </td><td>44          </td><td>44035       </td></tr>\n",
       "\t<tr><td>Albania     </td><td>Santander   </td><td>68          </td><td>68020       </td></tr>\n",
       "\t<tr><td>Albán       </td><td>Cundinamarca</td><td>25          </td><td>25019       </td></tr>\n",
       "\t<tr><td>Albán       </td><td>Nariño      </td><td>52          </td><td>52019       </td></tr>\n",
       "\t<tr><td>Argelia     </td><td>Antioquia   </td><td>05          </td><td>05055       </td></tr>\n",
       "</tbody>\n",
       "</table>\n"
      ],
      "text/latex": [
       "\\begin{tabular}{r|llll}\n",
       " Municipio & Departamento & Dep & Depmun\\\\\n",
       "\\hline\n",
       "\t Albania      & Caquetá      & 18           & 18029       \\\\\n",
       "\t Albania      & La Guajira   & 44           & 44035       \\\\\n",
       "\t Albania      & Santander    & 68           & 68020       \\\\\n",
       "\t Albán        & Cundinamarca & 25           & 25019       \\\\\n",
       "\t Albán        & Nariño       & 52           & 52019       \\\\\n",
       "\t Argelia      & Antioquia    & 05           & 05055       \\\\\n",
       "\\end{tabular}\n"
      ],
      "text/markdown": [
       "\n",
       "| Municipio | Departamento | Dep | Depmun |\n",
       "|---|---|---|---|\n",
       "| Albania      | Caquetá      | 18           | 18029        |\n",
       "| Albania      | La Guajira   | 44           | 44035        |\n",
       "| Albania      | Santander    | 68           | 68020        |\n",
       "| Albán        | Cundinamarca | 25           | 25019        |\n",
       "| Albán        | Nariño       | 52           | 52019        |\n",
       "| Argelia      | Antioquia    | 05           | 05055        |\n",
       "\n"
      ],
      "text/plain": [
       "  Municipio Departamento Dep Depmun\n",
       "1 Albania   Caquetá      18  18029 \n",
       "2 Albania   La Guajira   44  44035 \n",
       "3 Albania   Santander    68  68020 \n",
       "4 Albán     Cundinamarca 25  25019 \n",
       "5 Albán     Nariño       52  52019 \n",
       "6 Argelia   Antioquia    05  05055 "
      ]
     },
     "metadata": {},
     "output_type": "display_data"
    }
   ],
   "source": [
    "Ej_4<-sqldf(\n",
    "       \"select Municipio, count(*) as veces\n",
    "       from Municipios\n",
    "       group by Municipio\n",
    "       having veces > 1\")\n",
    "head(Ej_4)\n",
    "\n",
    "#Mostrar cuáles son más detalladamente\n",
    "Ej_4d <- sqldf(\n",
    "   \"select Municipio, Departamento, Dep, Depmun\n",
    "    from Municipios\n",
    "    where Municipio in (select Municipio\n",
    "    from Municipios\n",
    "    group by Municipio\n",
    "    having count(*) > 1)\n",
    "    order by Municipio asc, Departamento asc\") \n",
    "str(Ej_4d)\n",
    "head(Ej_4d,n=6)"
   ]
  },
  {
   "cell_type": "markdown",
   "metadata": {},
   "source": [
    "Podemos quedarnos con filas que cumplan alguna característica en las columnas cuyos valores sean strings. En los ejemplos siguientes veremos municipios cuyos nombres tengan de segunda y cuarta letra la e o é, y municipios con más de dos palabras."
   ]
  },
  {
   "cell_type": "code",
   "execution_count": 39,
   "metadata": {},
   "outputs": [
    {
     "data": {
      "text/html": [
       "<table>\n",
       "<thead><tr><th></th><th scope=col>Departamento</th><th scope=col>Dep</th><th scope=col>Municipio</th><th scope=col>Depmun</th></tr></thead>\n",
       "<tbody>\n",
       "\t<tr><th scope=row>13</th><td>Meta           </td><td>50             </td><td>Mesetas        </td><td>50330          </td></tr>\n",
       "\t<tr><th scope=row>14</th><td>Nariño         </td><td>52             </td><td>Belén          </td><td>52083          </td></tr>\n",
       "\t<tr><th scope=row>15</th><td>Risaralda      </td><td>66             </td><td>Belén De Umbría</td><td>66088          </td></tr>\n",
       "\t<tr><th scope=row>16</th><td>Risaralda      </td><td>66             </td><td>Pereira        </td><td>66001          </td></tr>\n",
       "\t<tr><th scope=row>17</th><td>Santander      </td><td>68             </td><td>Vélez          </td><td>68861          </td></tr>\n",
       "\t<tr><th scope=row>18</th><td>Casanare       </td><td>85             </td><td>Recetor        </td><td>85279          </td></tr>\n",
       "</tbody>\n",
       "</table>\n"
      ],
      "text/latex": [
       "\\begin{tabular}{r|llll}\n",
       "  & Departamento & Dep & Municipio & Depmun\\\\\n",
       "\\hline\n",
       "\t13 & Meta            & 50              & Mesetas         & 50330          \\\\\n",
       "\t14 & Nariño          & 52              & Belén           & 52083          \\\\\n",
       "\t15 & Risaralda       & 66              & Belén De Umbría & 66088          \\\\\n",
       "\t16 & Risaralda       & 66              & Pereira         & 66001          \\\\\n",
       "\t17 & Santander       & 68              & Vélez           & 68861          \\\\\n",
       "\t18 & Casanare        & 85              & Recetor         & 85279          \\\\\n",
       "\\end{tabular}\n"
      ],
      "text/markdown": [
       "\n",
       "| <!--/--> | Departamento | Dep | Municipio | Depmun |\n",
       "|---|---|---|---|---|\n",
       "| 13 | Meta            | 50              | Mesetas         | 50330           |\n",
       "| 14 | Nariño          | 52              | Belén           | 52083           |\n",
       "| 15 | Risaralda       | 66              | Belén De Umbría | 66088           |\n",
       "| 16 | Risaralda       | 66              | Pereira         | 66001           |\n",
       "| 17 | Santander       | 68              | Vélez           | 68861           |\n",
       "| 18 | Casanare        | 85              | Recetor         | 85279           |\n",
       "\n"
      ],
      "text/plain": [
       "   Departamento Dep Municipio       Depmun\n",
       "13 Meta         50  Mesetas         50330 \n",
       "14 Nariño       52  Belén           52083 \n",
       "15 Risaralda    66  Belén De Umbría 66088 \n",
       "16 Risaralda    66  Pereira         66001 \n",
       "17 Santander    68  Vélez           68861 \n",
       "18 Casanare     85  Recetor         85279 "
      ]
     },
     "metadata": {},
     "output_type": "display_data"
    }
   ],
   "source": [
    "#  Municipios con 2° y 4° letra e o é\n",
    "Ej_5 <- sqldf(\n",
    "   \"select Departamento, Dep, Municipio, Depmun\n",
    "   from Municipios\n",
    "   where Municipio like '_e_e%' or Municipio like '_é_e%' or Municipio like '_e_é%'\n",
    "   order by Dep, Municipio\")\n",
    "tail(Ej_5)"
   ]
  },
  {
   "cell_type": "code",
   "execution_count": 40,
   "metadata": {},
   "outputs": [
    {
     "data": {
      "text/html": [
       "<table>\n",
       "<thead><tr><th></th><th scope=col>Departamento</th><th scope=col>Dep</th><th scope=col>Municipio</th><th scope=col>Depmun</th></tr></thead>\n",
       "<tbody>\n",
       "\t<tr><th scope=row>82</th><td>Tolima               </td><td>73                   </td><td>Valle De San Juan    </td><td>73854                </td></tr>\n",
       "\t<tr><th scope=row>83</th><td>Valle Del Cauca      </td><td>76                   </td><td>Guadalajara De Buga  </td><td>76111                </td></tr>\n",
       "\t<tr><th scope=row>84</th><td>Casanare             </td><td>85                   </td><td>Paz De Ariporo       </td><td>85250                </td></tr>\n",
       "\t<tr><th scope=row>85</th><td>Casanare             </td><td>85                   </td><td>San Luis De Gaceno   </td><td>85325                </td></tr>\n",
       "\t<tr><th scope=row>86</th><td>Putumayo             </td><td>86                   </td><td>Valle De Guamez      </td><td>86865                </td></tr>\n",
       "\t<tr><th scope=row>87</th><td>Guaviare             </td><td>95                   </td><td>San José Del Guaviare</td><td>95001                </td></tr>\n",
       "</tbody>\n",
       "</table>\n"
      ],
      "text/latex": [
       "\\begin{tabular}{r|llll}\n",
       "  & Departamento & Dep & Municipio & Depmun\\\\\n",
       "\\hline\n",
       "\t82 & Tolima                & 73                    & Valle De San Juan     & 73854                \\\\\n",
       "\t83 & Valle Del Cauca       & 76                    & Guadalajara De Buga   & 76111                \\\\\n",
       "\t84 & Casanare              & 85                    & Paz De Ariporo        & 85250                \\\\\n",
       "\t85 & Casanare              & 85                    & San Luis De Gaceno    & 85325                \\\\\n",
       "\t86 & Putumayo              & 86                    & Valle De Guamez       & 86865                \\\\\n",
       "\t87 & Guaviare              & 95                    & San José Del Guaviare & 95001                \\\\\n",
       "\\end{tabular}\n"
      ],
      "text/markdown": [
       "\n",
       "| <!--/--> | Departamento | Dep | Municipio | Depmun |\n",
       "|---|---|---|---|---|\n",
       "| 82 | Tolima                | 73                    | Valle De San Juan     | 73854                 |\n",
       "| 83 | Valle Del Cauca       | 76                    | Guadalajara De Buga   | 76111                 |\n",
       "| 84 | Casanare              | 85                    | Paz De Ariporo        | 85250                 |\n",
       "| 85 | Casanare              | 85                    | San Luis De Gaceno    | 85325                 |\n",
       "| 86 | Putumayo              | 86                    | Valle De Guamez       | 86865                 |\n",
       "| 87 | Guaviare              | 95                    | San José Del Guaviare | 95001                 |\n",
       "\n"
      ],
      "text/plain": [
       "   Departamento    Dep Municipio             Depmun\n",
       "82 Tolima          73  Valle De San Juan     73854 \n",
       "83 Valle Del Cauca 76  Guadalajara De Buga   76111 \n",
       "84 Casanare        85  Paz De Ariporo        85250 \n",
       "85 Casanare        85  San Luis De Gaceno    85325 \n",
       "86 Putumayo        86  Valle De Guamez       86865 \n",
       "87 Guaviare        95  San José Del Guaviare 95001 "
      ]
     },
     "metadata": {},
     "output_type": "display_data"
    }
   ],
   "source": [
    "# Municipios con más de dos palabra\n",
    "Ej_6 <- sqldf(\n",
    "   \"select Departamento, Dep, Municipio, Depmun\n",
    "   from Municipios\n",
    "   where Municipio like '% % %'\n",
    "   order by Dep, Municipio\")\n",
    "tail(Ej_6)"
   ]
  },
  {
   "cell_type": "markdown",
   "metadata": {},
   "source": [
    "Ahora, vamos a trabajar con otra base de datos llamada Estaciones. "
   ]
  },
  {
   "cell_type": "code",
   "execution_count": 41,
   "metadata": {},
   "outputs": [],
   "source": [
    "Estaciones<-read_xlsx(\"Datos/Estaciones.xlsx\")"
   ]
  },
  {
   "cell_type": "code",
   "execution_count": 42,
   "metadata": {},
   "outputs": [
    {
     "data": {
      "text/html": [
       "<table>\n",
       "<thead><tr><th scope=col>CODIGO</th><th scope=col>CAT</th><th scope=col>NOMBRE</th><th scope=col>ELEV</th><th scope=col>LONGITUD</th><th scope=col>LATITUD</th><th scope=col>PRECIP</th><th scope=col>NDLL</th><th scope=col>Depmun</th></tr></thead>\n",
       "<tbody>\n",
       "\t<tr><td>26215010    </td><td>CO          </td><td>Concordia   </td><td>2032        </td><td>75ø55'11\"W  </td><td>6ø2'23\"N    </td><td>2234.71     </td><td>211.20      </td><td>05209       </td></tr>\n",
       "\t<tr><td>26210080    </td><td>PM          </td><td>Herradura La</td><td> 550        </td><td>75ø52'26,3\"W</td><td>6ø5'57,2\"N  </td><td>1897.48     </td><td>118.70      </td><td>05209       </td></tr>\n",
       "\t<tr><td>27010650    </td><td>PM          </td><td>Don Matias  </td><td>2200        </td><td>75ø24'0\"W   </td><td>6ø29'0\"N    </td><td>2409.09     </td><td>195.08      </td><td>05237       </td></tr>\n",
       "</tbody>\n",
       "</table>\n"
      ],
      "text/latex": [
       "\\begin{tabular}{r|lllllllll}\n",
       " CODIGO & CAT & NOMBRE & ELEV & LONGITUD & LATITUD & PRECIP & NDLL & Depmun\\\\\n",
       "\\hline\n",
       "\t 26215010     & CO           & Concordia    & 2032         & 75ø55'11\"W   & 6ø2'23\"N     & 2234.71      & 211.20       & 05209       \\\\\n",
       "\t 26210080     & PM           & Herradura La &  550         & 75ø52'26,3\"W & 6ø5'57,2\"N   & 1897.48      & 118.70       & 05209       \\\\\n",
       "\t 27010650     & PM           & Don Matias   & 2200         & 75ø24'0\"W    & 6ø29'0\"N     & 2409.09      & 195.08       & 05237       \\\\\n",
       "\\end{tabular}\n"
      ],
      "text/markdown": [
       "\n",
       "| CODIGO | CAT | NOMBRE | ELEV | LONGITUD | LATITUD | PRECIP | NDLL | Depmun |\n",
       "|---|---|---|---|---|---|---|---|---|\n",
       "| 26215010     | CO           | Concordia    | 2032         | 75ø55'11\"W   | 6ø2'23\"N     | 2234.71      | 211.20       | 05209        |\n",
       "| 26210080     | PM           | Herradura La |  550         | 75ø52'26,3\"W | 6ø5'57,2\"N   | 1897.48      | 118.70       | 05209        |\n",
       "| 27010650     | PM           | Don Matias   | 2200         | 75ø24'0\"W    | 6ø29'0\"N     | 2409.09      | 195.08       | 05237        |\n",
       "\n"
      ],
      "text/plain": [
       "  CODIGO   CAT NOMBRE       ELEV LONGITUD     LATITUD    PRECIP  NDLL   Depmun\n",
       "1 26215010 CO  Concordia    2032 75ø55'11\"W   6ø2'23\"N   2234.71 211.20 05209 \n",
       "2 26210080 PM  Herradura La  550 75ø52'26,3\"W 6ø5'57,2\"N 1897.48 118.70 05209 \n",
       "3 27010650 PM  Don Matias   2200 75ø24'0\"W    6ø29'0\"N   2409.09 195.08 05237 "
      ]
     },
     "metadata": {},
     "output_type": "display_data"
    }
   ],
   "source": [
    "head(Estaciones, n=3)"
   ]
  },
  {
   "cell_type": "markdown",
   "metadata": {},
   "source": [
    "Primero, la información que se quiere obtener de esta base de datos es el número de estaciones de monitoreo en cada municipio"
   ]
  },
  {
   "cell_type": "code",
   "execution_count": 43,
   "metadata": {},
   "outputs": [],
   "source": [
    "Emon <- sqldf(\"select Depmun, count(*) as nem\n",
    "               from Estaciones\n",
    "               group by Depmun\") "
   ]
  },
  {
   "cell_type": "markdown",
   "metadata": {},
   "source": [
    "Teniendo en cuenta que en la base de datos Emon están todos los municipios con al menos una estación de monitoreo y recordando la forma de juntar tablas. Si utilizando las tablas \"Municipios\" y \"Emon\", realizamos inner join quedamos con 806 filas (municipios con al menos una estación) y si realizamos left join quedamos con 1118 filas (todos los municipios sin importar si tienen o no estaciones). "
   ]
  },
  {
   "cell_type": "code",
   "execution_count": 44,
   "metadata": {},
   "outputs": [
    {
     "name": "stdout",
     "output_type": "stream",
     "text": [
      "'data.frame':\t1118 obs. of  11 variables:\n",
      " $ Departamento: chr  \"Bogotá D C\" \"Bolívar\" \"Bolívar\" \"Bolívar\" ...\n",
      " $ Dep         : chr  \"11\" \"13\" \"13\" \"13\" ...\n",
      " $ Municipio   : chr  \"Bogotá D C\" \"Cartagena\" \"Achí\" \"Altos Del Rosario\" ...\n",
      " $ Depmun      : chr  \"11001\" \"13001\" \"13006\" \"13030\" ...\n",
      " $ Superficie  : num  1605 614 968 306 459 ...\n",
      " $ Poblacion   : num  6840116 892545 19644 11357 15414 ...\n",
      " $ Distancia   : num  0 99 270 261 276 110 88 253 87 196 ...\n",
      " $ Irural      : num  6 18 54 49 50 38 44 50 41 59 ...\n",
      " $ Region      : chr  \"Región Centro Oriente\" \"Región Caribe\" \"Región Caribe\" \"Región Caribe\" ...\n",
      " $ Denspobl    : num  4261.8 1453.7 20.3 37.1 33.6 ...\n",
      " $ nest        : int  29 4 3 1 2 3 0 1 0 1 ...\n"
     ]
    }
   ],
   "source": [
    "Ej_7 <- sqldf(\n",
    "    \"select Municipios.*, case when nem is null then 0\n",
    "     else nem end as nest\n",
    "     from Municipios left join Emon on\n",
    "     (Municipios.Depmun = Emon.Depmun)\")\n",
    "str(Ej_7)"
   ]
  },
  {
   "cell_type": "markdown",
   "metadata": {},
   "source": [
    "## Conjunto tidyverse"
   ]
  },
  {
   "cell_type": "markdown",
   "metadata": {},
   "source": [
    "Las librerías que componen el núcleo de tidyverse son:\n",
    "\n",
    "* ggplot2\n",
    "* dplyr\n",
    "* tidyr\n",
    "* readr\n",
    "* purrr\n",
    "* tibble\n",
    "* stringr\n",
    "* forcats"
   ]
  },
  {
   "cell_type": "markdown",
   "metadata": {},
   "source": [
    "### Librería readr "
   ]
  },
  {
   "cell_type": "markdown",
   "metadata": {},
   "source": [
    "Con esta librería se pueden leer alguno tipos de archivos utilizando *read_*:\n",
    "* *csv:* Separados por comas\n",
    "* *tsv:* Separados por tabulaciones\n",
    "* *table:* Ancho de columna fijo"
   ]
  },
  {
   "cell_type": "markdown",
   "metadata": {},
   "source": [
    "### Librería stringr"
   ]
  },
  {
   "cell_type": "markdown",
   "metadata": {},
   "source": [
    "Con esta librería podemos trabajar los strings. Un primer acercamiento es utilizando la columna Municipio de la base de datos Municipios, en ella queremos contar la cantidad de palabras."
   ]
  },
  {
   "cell_type": "code",
   "execution_count": 17,
   "metadata": {},
   "outputs": [
    {
     "data": {
      "text/plain": [
       "\n",
       "  1   2   3   4   5   6 \n",
       "811 220  37  45   4   1 "
      ]
     },
     "metadata": {},
     "output_type": "display_data"
    },
    {
     "data": {
      "text/plain": [
       "NumeroEspacios\n",
       "  0   1   2   3   4   5 \n",
       "811 220  37  45   4   1 "
      ]
     },
     "metadata": {},
     "output_type": "display_data"
    },
    {
     "data": {
      "text/plain": [
       "NumeroPalabras\n",
       "  1   2   3   4   5   6 \n",
       "811 220  37  45   4   1 "
      ]
     },
     "metadata": {},
     "output_type": "display_data"
    },
    {
     "data": {
      "text/plain": [
       "\n",
       "  1   2   3   4   5   6 \n",
       "811 220  37  45   4   1 "
      ]
     },
     "metadata": {},
     "output_type": "display_data"
    }
   ],
   "source": [
    "#conteo palabras with\n",
    "  #Una manera\n",
    "palabras <- str_count(Municipios$Municipio,\" \") # Cuántos espacios hay en el nombre\n",
    "table(palabras+1) #palabras+1: Se hizo fue conteo de espacios\n",
    "\n",
    "  #Segunda manera\n",
    "NumeroEspacios<-str_count(str_to_lower(Municipios$Municipio),\" \")\n",
    "table(NumeroEspacios)\n",
    "NumeroPalabras<-NumeroEspacios+1\n",
    "table(NumeroPalabras)\n",
    "\n",
    "  #Tercera manera\n",
    "with(Municipios,table(str_count(Municipio,\" \")+1))\n"
   ]
  },
  {
   "cell_type": "markdown",
   "metadata": {},
   "source": [
    "Se pueden ver los municipios que tengan nombre de santo o santa."
   ]
  },
  {
   "cell_type": "code",
   "execution_count": 45,
   "metadata": {},
   "outputs": [
    {
     "data": {
      "text/html": [
       "'San Cristóbal'"
      ],
      "text/latex": [
       "'San Cristóbal'"
      ],
      "text/markdown": [
       "'San Cristóbal'"
      ],
      "text/plain": [
       "[1] \"San Cristóbal\""
      ]
     },
     "metadata": {},
     "output_type": "display_data"
    },
    {
     "data": {
      "text/html": [
       "'Santo Tomás'"
      ],
      "text/latex": [
       "'Santo Tomás'"
      ],
      "text/markdown": [
       "'Santo Tomás'"
      ],
      "text/plain": [
       "[1] \"Santo Tomás\""
      ]
     },
     "metadata": {},
     "output_type": "display_data"
    }
   ],
   "source": [
    "Ej_8 <- with(Municipios,str_subset(Municipio,\"(^| )San( |ta |to)\")) \n",
    "        #Empiece o éste después de una espacio la sílaba San, y luego tenga un espacio, ta o to\n",
    "        # str_subset: \n",
    "head(Ej_8, n=1)\n",
    "tail(Ej_8, n=1)"
   ]
  },
  {
   "cell_type": "markdown",
   "metadata": {},
   "source": [
    "### Librería dplyr"
   ]
  },
  {
   "cell_type": "markdown",
   "metadata": {},
   "source": [
    "Con esta librería también se puede extraer información de una base de datos tal como se realizaba con la librería sqldf. Los comandos básicos para trabajar con esta librería son los siguientes:\n",
    "* *select*: Variables a trabajar\n",
    "* *mutate*: Construir variables\n",
    "* *filter* = *Where* de sqldf = Filas que cumplan alguna característica\n",
    "* *arrange* = *Order by* de sqldf = Ordenar las filas\n",
    "* *summarise* : Crear variables de grupo\n",
    "* *%>% *: Pipe, unir varias instrucciones \n"
   ]
  },
  {
   "cell_type": "code",
   "execution_count": 46,
   "metadata": {},
   "outputs": [
    {
     "data": {
      "text/html": [
       "TRUE"
      ],
      "text/latex": [
       "TRUE"
      ],
      "text/markdown": [
       "TRUE"
      ],
      "text/plain": [
       "[1] TRUE"
      ]
     },
     "metadata": {},
     "output_type": "display_data"
    }
   ],
   "source": [
    "Ej_1_dp <- Municipios %>%\n",
    "     select(Departamento,Dep,Depmun,Municipio,Superficie,\n",
    "              Poblacion) %>%\n",
    "     filter(Departamento %in% c(\"Antioquia\",\"Caldas\")\n",
    "              & Poblacion > 20000) %>%\n",
    "     arrange(Departamento,desc(Poblacion)) %>% as.data.frame()\n",
    "\n",
    "# Ver si lo encontrado con sqldf y dplyr son los mismo\n",
    "all.equal(as.data.frame(Ej_1),Ej_1_dp)"
   ]
  },
  {
   "cell_type": "markdown",
   "metadata": {},
   "source": [
    "Calcular estadísticas de una variable cuantitativa y mirar características de un grupo de filas. En este caso se quiere ver cuál es el departamento, con 2 o más municipios, menos homogéneo respecto a su superficie:"
   ]
  },
  {
   "cell_type": "code",
   "execution_count": 47,
   "metadata": {},
   "outputs": [
    {
     "name": "stderr",
     "output_type": "stream",
     "text": [
      "`summarise()` has grouped output by 'Dep'. You can override using the `.groups` argument.\n"
     ]
    },
    {
     "name": "stdout",
     "output_type": "stream",
     "text": [
      "\u001b[38;5;246m# A tibble: 32 x 4\u001b[39m\n",
      "\u001b[38;5;246m# Groups:   Dep [32]\u001b[39m\n",
      "  Dep   Departamento   mun    cv\n",
      "  \u001b[3m\u001b[38;5;246m<chr>\u001b[39m\u001b[23m \u001b[3m\u001b[38;5;246m<chr>\u001b[39m\u001b[23m        \u001b[3m\u001b[38;5;246m<int>\u001b[39m\u001b[23m \u001b[3m\u001b[38;5;246m<dbl>\u001b[39m\u001b[23m\n",
      "\u001b[38;5;250m1\u001b[39m 18    Caquetá         16  1.94\n",
      "\u001b[38;5;246m# ... with 31 more rows\u001b[39m\n"
     ]
    }
   ],
   "source": [
    "Ej_3_dp<- Municipios %>% group_by(Dep,Departamento) %>%\n",
    "          summarise(mun=n(),cv=sd(Superficie)/mean(Superficie))%>%\n",
    "          filter(mun > 1) %>% arrange(desc(cv)) %>%\n",
    "          print(n=1) "
   ]
  },
  {
   "cell_type": "markdown",
   "metadata": {},
   "source": [
    "Mirar si existen dos o más municipios con el mismo nombre:"
   ]
  },
  {
   "cell_type": "code",
   "execution_count": 48,
   "metadata": {},
   "outputs": [
    {
     "name": "stdout",
     "output_type": "stream",
     "text": [
      "'data.frame':\t157 obs. of  4 variables:\n",
      " $ Municipio   : chr  \"Albania\" \"Albania\" \"Albania\" \"Albán\" ...\n",
      " $ Departamento: chr  \"Caquetá\" \"La Guajira\" \"Santander\" \"Cundinamarca\" ...\n",
      " $ Dep         : chr  \"18\" \"44\" \"68\" \"25\" ...\n",
      " $ Depmun      : chr  \"18029\" \"44035\" \"68020\" \"25019\" ...\n",
      "'data.frame':\t157 obs. of  4 variables:\n",
      " $ Municipio   : chr  \"Albán\" \"Albán\" \"Albania\" \"Albania\" ...\n",
      " $ Departamento: chr  \"Cundinamarca\" \"Nariño\" \"Caquetá\" \"La Guajira\" ...\n",
      " $ Dep         : chr  \"25\" \"52\" \"18\" \"44\" ...\n",
      " $ Depmun      : chr  \"25019\" \"52019\" \"18029\" \"44035\" ...\n"
     ]
    }
   ],
   "source": [
    "# Municipios cuyo nombre se repite\n",
    "dupli <- Municipios %>%\n",
    "   group_by(Municipio) %>%\n",
    "   summarise(veces = n()) %>%\n",
    "   filter(veces > 1) %>% \n",
    "   arrange(desc(veces))%>% as.data.frame()\n",
    "\n",
    "# Información más detallada de estos municipios\n",
    "Ej_4_dp <- Municipios %>%\n",
    "   select(Municipio,Departamento,Dep,Depmun) %>%\n",
    "   filter(Municipio %in% dupli$Municipio) %>%  #Municipios que estén en dupli$Municipio\n",
    "   arrange(Municipio,Departamento) %>% as.data.frame()\n",
    "\n",
    "str(Ej_4d)\n",
    "str(Ej_4_dp)"
   ]
  },
  {
   "cell_type": "markdown",
   "metadata": {},
   "source": [
    "### Librería ggplot2"
   ]
  },
  {
   "cell_type": "markdown",
   "metadata": {},
   "source": [
    "Es una librería con la cual se pueden realizar gráficos estadísticos. Si se quieren ver todos los tipos de gráficos que se pueden realizar junto con algunos códigos, se puede mirar [este link](https://r-charts.com/es/ggplot2/)."
   ]
  },
  {
   "cell_type": "code",
   "execution_count": 49,
   "metadata": {},
   "outputs": [],
   "source": [
    "advertising <-read_xlsx(\"Datos/Advertising.xlsx\")"
   ]
  },
  {
   "cell_type": "code",
   "execution_count": 50,
   "metadata": {},
   "outputs": [
    {
     "data": {
      "text/html": [
       "<table>\n",
       "<thead><tr><th scope=col>TV</th><th scope=col>radio</th><th scope=col>sales</th></tr></thead>\n",
       "<tbody>\n",
       "\t<tr><td>230.1</td><td>37.8 </td><td>22.1 </td></tr>\n",
       "\t<tr><td> 44.5</td><td>39.3 </td><td>10.4 </td></tr>\n",
       "\t<tr><td> 17.2</td><td>45.9 </td><td> 9.3 </td></tr>\n",
       "\t<tr><td>151.5</td><td>41.3 </td><td>18.5 </td></tr>\n",
       "</tbody>\n",
       "</table>\n"
      ],
      "text/latex": [
       "\\begin{tabular}{r|lll}\n",
       " TV & radio & sales\\\\\n",
       "\\hline\n",
       "\t 230.1 & 37.8  & 22.1 \\\\\n",
       "\t  44.5 & 39.3  & 10.4 \\\\\n",
       "\t  17.2 & 45.9  &  9.3 \\\\\n",
       "\t 151.5 & 41.3  & 18.5 \\\\\n",
       "\\end{tabular}\n"
      ],
      "text/markdown": [
       "\n",
       "| TV | radio | sales |\n",
       "|---|---|---|\n",
       "| 230.1 | 37.8  | 22.1  |\n",
       "|  44.5 | 39.3  | 10.4  |\n",
       "|  17.2 | 45.9  |  9.3  |\n",
       "| 151.5 | 41.3  | 18.5  |\n",
       "\n"
      ],
      "text/plain": [
       "  TV    radio sales\n",
       "1 230.1 37.8  22.1 \n",
       "2  44.5 39.3  10.4 \n",
       "3  17.2 45.9   9.3 \n",
       "4 151.5 41.3  18.5 "
      ]
     },
     "metadata": {},
     "output_type": "display_data"
    }
   ],
   "source": [
    "head(advertising, n=4)"
   ]
  },
  {
   "cell_type": "markdown",
   "metadata": {},
   "source": [
    "* Gráfico de puntos:"
   ]
  },
  {
   "cell_type": "code",
   "execution_count": 51,
   "metadata": {},
   "outputs": [
    {
     "data": {
      "image/png": "[encoded data removed]",
      "text/plain": [
       "plot without title"
      ]
     },
     "metadata": {},
     "output_type": "display_data"
    }
   ],
   "source": [
    "ggplot(advertising,aes(x=TV,y=sales)) + #aes: variables que se van a considerar\n",
    "  geom_point(color=\"red\",shape=16,size=2) + xlim(0,300) + ylim(0,30) +\n",
    "  labs(title=\"Ventas versus inversión en publicidad para TV\",\n",
    "       x=\"Publicidad para TV\",y=\"Ventas\") +\n",
    "  theme(plot.title=element_text(face=\"italic\",size=14,vjust=0.5,hjust=0.5,color=\"black\"),\n",
    "        axis.title.x=element_text(face=\"plain\",size=13,vjust=0.5,hjust=0.5,color=\"black\"),\n",
    "        axis.title.y=element_text(family=\"serif\",size=13,vjust=0.5,hjust=0.5,color=\"black\"),\n",
    "        #vjust:justificar verticalmente, hjust:justificar horizontalmente\n",
    "        #face:tipo letra #family:Otro argumento de letra\n",
    "        panel.background=element_rect(fill=\"white\"),\n",
    "        panel.grid.major=element_line(color=\"green\",size=0.2),\n",
    "        panel.grid.minor=element_line(color=\"orange\",size=0.2))\n",
    "        #grid:grilla\n"
   ]
  },
  {
   "cell_type": "markdown",
   "metadata": {},
   "source": [
    "* Gráfico de regresión:"
   ]
  },
  {
   "cell_type": "code",
   "execution_count": 60,
   "metadata": {},
   "outputs": [
    {
     "data": {
      "image/png": "[encoded data removed]",
      "text/plain": [
       "plot without title"
      ]
     },
     "metadata": {},
     "output_type": "display_data"
    }
   ],
   "source": [
    "ggplot(advertising,aes(x=TV,y=sales)) +\n",
    "  geom_point(color=\"red\",shape=16,size=2) +\n",
    "  geom_smooth(method=\"lm\",formula=y ~ poly(x,degree=3),se=F,size=2,\n",
    "              linetype=\"solid\",color=\"black\") +  #regresión cúbica, SE:I.C., size:grueso curva\n",
    "  labs(title=\"Ventas versus inversión en publicidad para TV\",\n",
    "       x=\"Publicidad para TV\",y=\"Ventas\") +\n",
    "  theme(plot.title = element_text(hjust = 0.5))"
   ]
  },
  {
   "cell_type": "markdown",
   "metadata": {},
   "source": [
    "* Gráfico de paneles:"
   ]
  },
  {
   "cell_type": "code",
   "execution_count": 53,
   "metadata": {},
   "outputs": [
    {
     "data": {
      "image/png": "[encoded data removed]",
      "text/plain": [
       "plot without title"
      ]
     },
     "metadata": {},
     "output_type": "display_data"
    }
   ],
   "source": [
    "#within: Crear var. #with:Hacer cosas con las var.\n",
    "advertising <- within(advertising,radioC <- cut_number(radio,n=3,labels=c(\"Baja\",\"Media\",\"Alta\")))\n",
    "              #cut_number: categorizar una var.continua, n: numero particiones, aqui se usan los percentiles, casi misma cantidad de obs. en cada uno\n",
    "\n",
    "advertising <- within(advertising, TVC <- cut_number(TV,n=3,labels=c(\"Baja\",\"Media\",\"Alta\")))\n",
    "\n",
    "ggplot(advertising,aes(x=TVC,y=sales,fill=radioC)) + #fill: relleno depende de radioC\n",
    "  geom_boxplot(color=\"black\",linetype=\"solid\",size=0.1) + \n",
    "  labs(x=\"Publicidad en TV\",y=\"Ventas\",fill=\"Publicidad\\n en TV\",\n",
    "       subtitle=\"Publicidad en radio\") +\n",
    "  scale_fill_manual(values=c(\"steelblue1\",\"green3\",\"salmon\",\"yellow\")) + #Color boxplot en cada panel\n",
    "  facet_wrap(vars(radioC,TVC),ncol=3,nrow=3,strip.position=\"top\",dir=\"h\",scales=\"free_x\") +\n",
    "  #En vars, si se pone más de 1 variab. -> panel por combinación de niveles entre ellas\n",
    "  theme(\n",
    "    legend.position=\"none\",\n",
    "    plot.subtitle=element_text(size=12,vjust=0.5,hjust=0.5,color=\"blue\"),\n",
    "    strip.background=element_rect(color=\"gray80\",fill=\"gray80\",size=1),\n",
    "    strip.text=element_text(family=\"sans\",face=\"plain\",size=10,vjust=0.5,hjust=0.5,color=\"black\",angle=0))\n"
   ]
  },
  {
   "cell_type": "markdown",
   "metadata": {},
   "source": [
    "* Gráfico de densidades:"
   ]
  },
  {
   "cell_type": "code",
   "execution_count": 54,
   "metadata": {},
   "outputs": [
    {
     "data": {
      "image/png": "[encoded data removed]",
      "text/plain": [
       "plot without title"
      ]
     },
     "metadata": {},
     "output_type": "display_data"
    }
   ],
   "source": [
    "ggplot(advertising,aes(sales,col=TVC,fill=TVC)) + #relleno y color curva depende de TVC\n",
    "  geom_density(alpha=0.2,size=0.5,adjust=0.5,linetype=\"solid\") + #size: grueso línea, adjust:ancho de banda de kernel, alpha: grado de transparencia\n",
    "  labs(x=\"Ventas\",fill=\"Publicidad\\n en TV\",col=\"Publicidad\\n en TV\",\n",
    "       subtitle=\"Publicidad en radio\",y=\"Densidad\") +\n",
    "  scale_fill_manual(values=c(\"steelblue1\",\"green3\",\"salmon\",\"yellow\")) +\n",
    "  scale_color_manual(values=c(\"steelblue1\",\"green3\",\"salmon\",\"yellow\")) +\n",
    "  facet_wrap(vars(radioC),ncol=2,nrow=2,strip.position=\"top\",dir=\"h\",scales=\"free_x\") +\n",
    "  theme(\n",
    "    plot.subtitle=element_text(size=12,vjust=0.5,hjust=0.5,color=\"blue\"),\n",
    "    strip.background=element_rect(color=\"gray80\",fill=\"gray80\",size=1),\n",
    "    strip.text=element_text(family=\"sans\",face=\"plain\",size=10,vjust=0.5,hjust=0.5,color=\"black\",angle=0))\n",
    "# La probabilidades de venta, aumenta a medida de aumenta la publicidad en TV y disminuye a medida que aumenta en radio\n"
   ]
  },
  {
   "cell_type": "code",
   "execution_count": null,
   "metadata": {},
   "outputs": [],
   "source": []
  }
 ],
 "metadata": {
  "kernelspec": {
   "display_name": "R",
   "language": "R",
   "name": "ir"
  },
  "language_info": {
   "codemirror_mode": "r",
   "file_extension": ".r",
   "mimetype": "text/x-r-source",
   "name": "R",
   "pygments_lexer": "r",
   "version": "3.6.1"
  }
 },
 "nbformat": 4,
 "nbformat_minor": 4
}
