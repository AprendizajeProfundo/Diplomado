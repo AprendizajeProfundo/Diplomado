{
  "nbformat": 4,
  "nbformat_minor": 0,
  "metadata": {
    "colab": {
      "name": "Cesar.ipynb",
      "provenance": [],
      "collapsed_sections": [],
      "toc_visible": true,
      "authorship_tag": "ABX9TyMTvPwJfeTESs6yAIBexCGQ",
      "include_colab_link": true
    },
    "kernelspec": {
      "name": "python3",
      "display_name": "Python 3"
    }
  },
  "cells": [
    {
      "cell_type": "markdown",
      "metadata": {
        "id": "view-in-github",
        "colab_type": "text"
      },
      "source": [
        "<a href=\"https://colab.research.google.com/github/rodricesar/Diplomado/blob/master/Cesar.ipynb\" target=\"_parent\"><img src=\"https://colab.research.google.com/assets/colab-badge.svg\" alt=\"Open In Colab\"/></a>"
      ]
    },
    {
      "cell_type": "code",
      "metadata": {
        "id": "3KPWckglffkc",
        "colab_type": "code",
        "colab": {}
      },
      "source": [
        "\n"
      ],
      "execution_count": null,
      "outputs": []
    },
    {
      "cell_type": "markdown",
      "metadata": {
        "id": "-xKbuCdFgJyU",
        "colab_type": "text"
      },
      "source": [
        "#***La integral definida***\n",
        "Dada una función $f(x)$ y un intervalo $[a,b]$, la integral definida es igual al área limitada entre la gráfica de $f(x)$, el eje de abscisas, y las rectas verticales $x = a$ y $x = b$ (ver grafica 1).\n",
        "\n",
        "![Integral definida](https://lh3.googleusercontent.com/Z9_cD9-i7rbOfbPVMcto7vg7_d3InzYhNlnTWkpBMxl41I1zVCFwCGryVSmdXCh7Kv3m3w=s129)\n",
        "\n",
        "[Enlace a integral def](https://sites.google.com/site/portafoliocalculodos/integrales-definidas)\n",
        "\n",
        "La integral definida se representa por $\\int_{a}^{b}f(x) \\!  \\,dx$ donde:\n",
        "\n",
        "*   $a$ es el límite inferior de la integración.\n",
        "*   $b$ es el límite superior de la integración.\n",
        "*   $f(x)$ es el integrando o función a integrar.\n",
        "*   $dx$ es diferencial de $x$, e indica cuál es la variable de la función que se integra.\n",
        "Matemáticamente:\n",
        "\n",
        "<h1><center>$\\int_{a}^{b} \\! f(x)  \\,dx = F(b) - F(a)$\n"
      ]
    },
    {
      "cell_type": "code",
      "metadata": {
        "id": "vEUWOBE3jHoD",
        "colab_type": "code",
        "colab": {
          "base_uri": "https://localhost:8080/",
          "height": 34
        },
        "outputId": "7a49bac7-1984-49a6-ed52-bc47027c705b"
      },
      "source": [
        "print (\"Hola Phyyton\")\n"
      ],
      "execution_count": null,
      "outputs": [
        {
          "output_type": "stream",
          "text": [
            "Hola Phyyton\n"
          ],
          "name": "stdout"
        }
      ]
    },
    {
      "cell_type": "markdown",
      "metadata": {
        "id": "VaLKPgoYN6i3",
        "colab_type": "text"
      },
      "source": [
        ""
      ]
    }
  ]
}